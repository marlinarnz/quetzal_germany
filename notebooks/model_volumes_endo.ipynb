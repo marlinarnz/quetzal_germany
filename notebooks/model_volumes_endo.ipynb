{
 "cells": [
  {
   "cell_type": "code",
   "execution_count": 30,
   "id": "b0aa3e39",
   "metadata": {},
   "outputs": [],
   "source": [
    "import sys # for automation and parallelisation\n",
    "manual, scenario = (True, 'base') if 'ipykernel' in sys.argv[0] else (False, sys.argv[1])\n",
    "if manual:\n",
    "    %matplotlib inline"
   ]
  },
  {
   "cell_type": "code",
   "execution_count": 31,
   "id": "f8387063",
   "metadata": {},
   "outputs": [],
   "source": [
    "import pandas as pd\n",
    "import numpy as np\n",
    "import geopandas as gpd\n",
    "from quetzal.model import stepmodel\n",
    "from quetzal.engine.engine import od_volume_from_zones\n",
    "from quetzal.io import excel\n",
    "import biogeme.database as db\n",
    "import biogeme.biogeme as bio\n",
    "import biogeme.models as models\n",
    "from biogeme import expressions as ex"
   ]
  },
  {
   "cell_type": "code",
   "execution_count": 32,
   "id": "1254663e",
   "metadata": {},
   "outputs": [],
   "source": [
    "model_path = '../model/' + scenario + '/'\n",
    "input_path = '../input/'\n",
    "input_static_path = '../input_static/'\n",
    "output_path = '../output/'"
   ]
  },
  {
   "cell_type": "code",
   "execution_count": 33,
   "id": "49222b5a",
   "metadata": {},
   "outputs": [],
   "source": [
    "# Load scenario parameters\n",
    "params = excel.read_var(file='../input/parameters.xls', scenario=scenario)"
   ]
  },
  {
   "cell_type": "markdown",
   "id": "a65fa6c3",
   "metadata": {
    "tags": []
   },
   "source": [
    "# OD matrix generation\n",
    "\n",
    "## Needs zone attributes and destination choice model results\n",
    "\n",
    "## Saves volumes table"
   ]
  },
  {
   "cell_type": "code",
   "execution_count": 34,
   "id": "5e5f86b4",
   "metadata": {},
   "outputs": [],
   "source": [
    "# Transport demand segments\n",
    "segments = [s.strip() for s in params['general']['demand_segments'].split(';')]\n",
    "purposes_compulsory = ['commuting', 'business', 'education']\n",
    "purposes_optional = ['buy/execute', 'leisure', 'accompany']\n",
    "segments_compulsory = [s for s in segments if s.split('_')[0] in purposes_compulsory]\n",
    "segments_optional = [s for s in segments if s.split('_')[0] in purposes_optional]"
   ]
  },
  {
   "cell_type": "code",
   "execution_count": 35,
   "id": "69fdd177",
   "metadata": {},
   "outputs": [],
   "source": [
    "# Load zones\n",
    "sm = stepmodel.read_json(model_path + 'de_zones')"
   ]
  },
  {
   "cell_type": "markdown",
   "id": "a0efc25b",
   "metadata": {},
   "source": [
    "## Calculate probabilities of inner/inter-zonal choice for optional trips"
   ]
  },
  {
   "cell_type": "code",
   "execution_count": 36,
   "id": "1f8f99d3",
   "metadata": {},
   "outputs": [],
   "source": [
    "# Fill POI values\n",
    "pois = pd.read_csv(input_path + 'spatial_num_pois_raw.csv', index_col='index')\n",
    "cats = pd.read_excel(input_path + 'spatial_OSM_POI_list.xlsx', sheet_name='categories')\n",
    "cats['label'] = (cats['key'] + ' ' + cats['value'].fillna('')).str.strip()\n",
    "for category, columns in cats.loc[cats['category'].notna()\n",
    "                                 ].groupby('category').agg(\n",
    "                                {'label': list})['label'].items():\n",
    "    sm.zones[category] = sm.zones['FID'].map(pois[columns].sum(axis=1)).fillna(0)"
   ]
  },
  {
   "cell_type": "code",
   "execution_count": 37,
   "id": "abdeb7a4",
   "metadata": {},
   "outputs": [],
   "source": [
    "# Load inter-zonal composite cost from mode choice step\n",
    "cc = pd.read_csv(output_path + scenario + '/mode_choice_od_composite_cost.csv')\n",
    "cc.set_index(['origin', 'destination'], inplace=True)\n",
    "# Rename segments to integer values\n",
    "cc.columns = pd.MultiIndex.from_tuples(\n",
    "    [(seg.split('_')[0], {'no': 0, 'car': 1}[seg.split('_')[1]])\n",
    "     for seg in cc.columns],\n",
    "    names=['purpose_model', 'car_av'])\n",
    "# Reshape the table into a mergable format\n",
    "# Use the mean CC to all destinations as accessibility\n",
    "cc = cc.unstack('destination').stack('purpose_model').stack('car_av').mean(axis=1)\n",
    "cc = cc.unstack('purpose_model')"
   ]
  },
  {
   "cell_type": "code",
   "execution_count": 38,
   "id": "f79ca8e4",
   "metadata": {},
   "outputs": [],
   "source": [
    "# Load inner/inter choice model results\n",
    "betas = pd.read_csv(input_path + 'inner-inter_betas.csv', index_col=0)"
   ]
  },
  {
   "cell_type": "code",
   "execution_count": 39,
   "id": "ebd892ff",
   "metadata": {},
   "outputs": [
    {
     "name": "stdout",
     "output_type": "stream",
     "text": [
      "buy/execute_0 av. prob. inner: 0.55\n",
      "leisure_0 av. prob. inner: 0.57\n",
      "accompany_0 av. prob. inner: 0.55\n",
      "buy/execute_1 av. prob. inner: 0.54\n",
      "leisure_1 av. prob. inner: 0.55\n",
      "accompany_1 av. prob. inner: 0.54\n"
     ]
    }
   ],
   "source": [
    "# Simulate the probabilities from the zones table using biogeme\n",
    "inner_probs = pd.DataFrame(index=sm.zones.index)\n",
    "car_names = {0: '_no_car', 1: '_car'}\n",
    "for car in [0,1]:\n",
    "    for p in purposes_optional:\n",
    "        # Add accessibility for this segment to database\n",
    "        sm.zones['acc_'+p] = sm.zones.merge(cc.xs(car, level='car_av'),\n",
    "                                            how='left', left_index=True, right_index=True\n",
    "                                           )[p]\n",
    "        # Create the database\n",
    "        zones_db = db.Database('zones', sm.zones[\n",
    "            ['employment', 'population', 'area', 'acc_'+p]\n",
    "            + list(cats.loc[cats['category'].notna(), 'category'].unique())])\n",
    "        globals().update(zones_db.variables)\n",
    "        \n",
    "        # Define utility formulations as in cal22\n",
    "        # Define parameters\n",
    "        ASC_0 = ex.Beta('ASC_0', 0, None, None, 1)\n",
    "        ASC_1 = ex.Beta('ASC_1', 0, None, None, 0)\n",
    "        b_pop = ex.Beta('b_pop', 0, None, None, 0)\n",
    "        b_attr = ex.Beta('b_attr', 0, None, None, 0)\n",
    "        b_acc = ex.Beta('b_acc', 0, None, None, 0)\n",
    "\n",
    "        # Define the utility formulation by purpose\n",
    "        if p == 'commuting':\n",
    "            V= {0:\n",
    "                ASC_0\n",
    "                + ex.log(1+employment)*b_attr\n",
    "                + ex.log((1+population)/area)*b_pop,\n",
    "                1:\n",
    "                ASC_1\n",
    "                + acc_commuting * b_acc}\n",
    "        elif p == 'business':\n",
    "            V= {0:\n",
    "                ASC_0\n",
    "                + ex.log(1+employment)*b_attr\n",
    "                + ex.log((1+population)/area)*b_pop,\n",
    "                1:\n",
    "                ASC_1\n",
    "                + acc_business * b_acc}\n",
    "        elif p == 'education':\n",
    "            V= {0:\n",
    "                ASC_0\n",
    "                + ex.log(1+childcare + school + higher_education)*b_attr\n",
    "                + ex.log((1+population)/area)*b_pop,\n",
    "                1:\n",
    "                ASC_1\n",
    "                + acc_education * b_acc}\n",
    "        elif p == 'buy/execute':\n",
    "            V= {0:\n",
    "                ASC_0\n",
    "                + ex.log(1+shop + medical + special_shop)*b_attr\n",
    "                + ex.log((1+population)/area)*b_pop,\n",
    "                1:\n",
    "                ASC_1\n",
    "                + globals()['acc_buy/execute'] * b_acc}\n",
    "        elif p == 'leisure':\n",
    "            V= {0:\n",
    "                ASC_0\n",
    "                + ex.log(1+daily_leisure + holiday + occasional_leisure)*b_attr\n",
    "                + ex.log((1+population)/area)*b_pop,\n",
    "                1:\n",
    "                ASC_1\n",
    "                + acc_leisure * b_acc}\n",
    "        elif p == 'accompany':\n",
    "            V= {0:\n",
    "                ASC_0\n",
    "                + ex.log(1+medical + school + childcare)*b_attr\n",
    "                + ex.log((1+population)/area)*b_pop,\n",
    "                1:\n",
    "                ASC_1\n",
    "                + acc_accompany * b_acc}\n",
    "        \n",
    "        # Simulate\n",
    "        simulate = {j: models.logit(V, None, int(j)) for j in [0,1]}\n",
    "        model = bio.BIOGEME(zones_db, simulate)\n",
    "        probs = model.simulate(theBetaValues=betas[p+car_names[car]].to_dict())\n",
    "        \n",
    "        # Calculate generation volumes\n",
    "        inner_probs[p+car_names[car]] = probs[0]\n",
    "        print('{}_{} av. prob. inner: {}'.format(p,car,np.round(probs[0].mean(), 2)))"
   ]
  },
  {
   "cell_type": "code",
   "execution_count": 40,
   "id": "e9106371",
   "metadata": {},
   "outputs": [],
   "source": [
    "# If all that doesn't make sense:\n",
    "# Take inner-zonal probabilities from MiD2017 data by urbanisation degree\n",
    "#inner_probs = pd.read_csv(input_path + 'inner-zonal_probabilities_agg_urban.csv', index_col=0)\n",
    "#inner_probs"
   ]
  },
  {
   "cell_type": "markdown",
   "id": "5a90b068",
   "metadata": {
    "tags": []
   },
   "source": [
    "## Compute volumes (OD matrix) for optional trips\n",
    "\n",
    "$F_{ods} = N_{os} * p^{dest}_{ods} * (1 - p^{inner}_{os})$\n",
    "\n",
    "Indecies:\n",
    "* o: origin zone\n",
    "* d: destination zone\n",
    "* s: demand segment"
   ]
  },
  {
   "cell_type": "code",
   "execution_count": 41,
   "id": "a92f3886",
   "metadata": {},
   "outputs": [
    {
     "name": "stderr",
     "output_type": "stream",
     "text": [
      "utility_values: 100%|████████████████████████████████████████████████████████████████████| 7/7 [00:02<00:00,  2.81it/s]\n"
     ]
    }
   ],
   "source": [
    "# Load probability results from logit step\n",
    "dm = stepmodel.read_zippedpickles(model_path + 'de_destination_choice')"
   ]
  },
  {
   "cell_type": "code",
   "execution_count": 42,
   "id": "0a19a2c0",
   "metadata": {
    "tags": []
   },
   "outputs": [
    {
     "data": {
      "text/html": [
       "<div>\n",
       "<style scoped>\n",
       "    .dataframe tbody tr th:only-of-type {\n",
       "        vertical-align: middle;\n",
       "    }\n",
       "\n",
       "    .dataframe tbody tr th {\n",
       "        vertical-align: top;\n",
       "    }\n",
       "\n",
       "    .dataframe thead th {\n",
       "        text-align: right;\n",
       "    }\n",
       "</style>\n",
       "<table border=\"1\" class=\"dataframe\">\n",
       "  <thead>\n",
       "    <tr style=\"text-align: right;\">\n",
       "      <th></th>\n",
       "      <th>origin</th>\n",
       "      <th>destination</th>\n",
       "      <th>accompany_car</th>\n",
       "      <th>accompany_no_car</th>\n",
       "      <th>buy/execute_car</th>\n",
       "      <th>buy/execute_no_car</th>\n",
       "      <th>leisure_car</th>\n",
       "      <th>leisure_no_car</th>\n",
       "      <th>business_car</th>\n",
       "      <th>commuting_no_car</th>\n",
       "      <th>education_no_car</th>\n",
       "      <th>education_car</th>\n",
       "      <th>commuting_car</th>\n",
       "      <th>business_no_car</th>\n",
       "    </tr>\n",
       "  </thead>\n",
       "  <tbody>\n",
       "    <tr>\n",
       "      <th>4347778</th>\n",
       "      <td>DED53_3</td>\n",
       "      <td>DEF0C_6</td>\n",
       "      <td>1.213911e-10</td>\n",
       "      <td>3.551938e-07</td>\n",
       "      <td>1.106815e-17</td>\n",
       "      <td>1.092361e-10</td>\n",
       "      <td>1.740014e-07</td>\n",
       "      <td>0.0</td>\n",
       "      <td>0</td>\n",
       "      <td>0</td>\n",
       "      <td>0</td>\n",
       "      <td>0</td>\n",
       "      <td>0</td>\n",
       "      <td>0</td>\n",
       "    </tr>\n",
       "    <tr>\n",
       "      <th>689437</th>\n",
       "      <td>DE21B_3</td>\n",
       "      <td>DE21B_6</td>\n",
       "      <td>3.074500e-03</td>\n",
       "      <td>3.819316e-03</td>\n",
       "      <td>1.957222e-03</td>\n",
       "      <td>2.123872e-03</td>\n",
       "      <td>1.742281e-03</td>\n",
       "      <td>0.0</td>\n",
       "      <td>0</td>\n",
       "      <td>0</td>\n",
       "      <td>0</td>\n",
       "      <td>0</td>\n",
       "      <td>0</td>\n",
       "      <td>0</td>\n",
       "    </tr>\n",
       "  </tbody>\n",
       "</table>\n",
       "</div>"
      ],
      "text/plain": [
       "          origin destination  accompany_car  accompany_no_car  \\\n",
       "4347778  DED53_3     DEF0C_6   1.213911e-10      3.551938e-07   \n",
       "689437   DE21B_3     DE21B_6   3.074500e-03      3.819316e-03   \n",
       "\n",
       "         buy/execute_car  buy/execute_no_car   leisure_car  leisure_no_car  \\\n",
       "4347778     1.106815e-17        1.092361e-10  1.740014e-07             0.0   \n",
       "689437      1.957222e-03        2.123872e-03  1.742281e-03             0.0   \n",
       "\n",
       "         business_car  commuting_no_car  education_no_car  education_car  \\\n",
       "4347778             0                 0                 0              0   \n",
       "689437              0                 0                 0              0   \n",
       "\n",
       "         commuting_car  business_no_car  \n",
       "4347778              0                0  \n",
       "689437               0                0  "
      ]
     },
     "execution_count": 42,
     "metadata": {},
     "output_type": "execute_result"
    }
   ],
   "source": [
    "# Extract probability values and create new table from it\n",
    "prob = dm.probabilities.set_index(['origin', 'segment']).drop(columns=['destination', 'root'])\n",
    "prob.columns.name = 'destination'\n",
    "volumes = prob.stack('destination').unstack('segment').reset_index()\n",
    "volumes.columns.name = None\n",
    "# Fill 0 for segments that were not covered by logit models\n",
    "for seg in set(segments) - set(volumes.columns):\n",
    "    volumes[seg] = 0\n",
    "volumes.sample(2)"
   ]
  },
  {
   "cell_type": "code",
   "execution_count": 43,
   "id": "ee886f4a",
   "metadata": {},
   "outputs": [],
   "source": [
    "# Create inner-zonal probabilities\n",
    "in_mask = volumes['origin']==volumes['destination']\n",
    "if len(volumes.loc[in_mask]) == 0:\n",
    "    volumes = volumes.append(pd.DataFrame({'origin': list(sm.zones.index),\n",
    "                                           'destination': list(sm.zones.index)})\n",
    "                            ).reset_index()\n",
    "    in_mask = volumes['origin']==volumes['destination']\n",
    "urban_dict = sm.zones['urbanisation'].to_dict()\n",
    "for seg in segments_optional:\n",
    "    probs = inner_probs[seg]\n",
    "    # Correct probabilities in volumes\n",
    "    if len(probs) < len(sm.zones): # aggregated probabilities by urbanisation degree\n",
    "        volumes.loc[in_mask, seg] = volumes.loc[in_mask, 'origin'].map(urban_dict).map(probs)\n",
    "        volumes.loc[~in_mask, seg] = volumes.loc[~in_mask, seg] * \\\n",
    "                                     volumes.loc[~in_mask, 'origin'].map(urban_dict).map(1 - probs)\n",
    "    else:\n",
    "        volumes.loc[in_mask, seg] = volumes.loc[in_mask, 'origin'].map(probs)\n",
    "        volumes.loc[~in_mask, seg] = volumes.loc[~in_mask, seg] * \\\n",
    "                                     volumes.loc[~in_mask, 'origin'].map(1 - probs)"
   ]
  },
  {
   "cell_type": "code",
   "execution_count": 44,
   "id": "6501d9e4",
   "metadata": {},
   "outputs": [],
   "source": [
    "# make sure all probabilities sum up to 1 for each zone in each segments\n",
    "#volumes.groupby('origin')[segments_optional].sum().describe()"
   ]
  },
  {
   "cell_type": "code",
   "execution_count": 45,
   "id": "543cab58",
   "metadata": {
    "tags": []
   },
   "outputs": [],
   "source": [
    "# calculate number of trips\n",
    "generation = pd.read_csv(input_path + 'generation_volumes.csv', index_col=0)\n",
    "for s in segments_optional:\n",
    "    volumes[s] = volumes[s] * volumes['origin'].map(generation[s])"
   ]
  },
  {
   "cell_type": "code",
   "execution_count": 46,
   "id": "4aae7651",
   "metadata": {},
   "outputs": [
    {
     "data": {
      "text/plain": [
       "82.4499299043983"
      ]
     },
     "execution_count": 46,
     "metadata": {},
     "output_type": "execute_result"
    }
   ],
   "source": [
    "# check the sum (million trips per day)\n",
    "volumes[segments_optional].sum().sum() / 1e6 / 365"
   ]
  },
  {
   "cell_type": "code",
   "execution_count": 47,
   "id": "a723b9ed",
   "metadata": {},
   "outputs": [
    {
     "data": {
      "text/plain": [
       "10.04342748758862"
      ]
     },
     "execution_count": 47,
     "metadata": {},
     "output_type": "execute_result"
    }
   ],
   "source": [
    "# inter-zonal trips (billion per year)\n",
    "volumes.loc[volumes['origin']!=volumes['destination'], segments_optional].sum().sum() / 1e9"
   ]
  },
  {
   "cell_type": "markdown",
   "id": "858b7f54",
   "metadata": {},
   "source": [
    "## Compulsory trips\n",
    "\n",
    "Choose the doubly constrained gravity model as distribution method because logit models don't perform well for purposes commuting, business and education."
   ]
  },
  {
   "cell_type": "code",
   "execution_count": 48,
   "id": "21059c5c",
   "metadata": {},
   "outputs": [],
   "source": [
    "# Load inter-zonal composite cost from mode choice step\n",
    "cc = pd.read_csv(output_path + scenario + '/mode_choice_od_composite_cost.csv')\n",
    "cc.set_index(['origin', 'destination'], inplace=True)\n",
    "# And inner-zonal CC\n",
    "cc_inner = pd.read_csv(input_path + 'inner-zonal_cc.csv', index_col='Unnamed: 0')"
   ]
  },
  {
   "cell_type": "code",
   "execution_count": 78,
   "id": "1f3df61d",
   "metadata": {},
   "outputs": [],
   "source": [
    "# Get the resistance to move (composite cost from mode choice)\n",
    "def get_deterrence(segment):\n",
    "    deterrence_matrix = cc[segment].unstack('destination')\n",
    "    # Add inner-zonal resistance\n",
    "    cc_inner_mean = cc_inner[segment].mean()\n",
    "    for z in deterrence_matrix.index:\n",
    "        try:\n",
    "            deterrence_matrix.loc[z,z] = cc_inner.loc[z, segment]\n",
    "        except KeyError: # zone not found\n",
    "            deterrence_matrix.loc[z,z] = cc_inner_mean\n",
    "    return deterrence_matrix.fillna(deterrence_matrix.max() * 10)"
   ]
  },
  {
   "cell_type": "code",
   "execution_count": 76,
   "id": "05a14356",
   "metadata": {},
   "outputs": [],
   "source": [
    "# Volumes for commuting with car\n",
    "sm.zones['emission'] = sm.zones['population'] * sm.zones['car_avail_hh']\n",
    "sm.zones['attraction'] = sm.zones['employment'] * sm.zones['car_avail_hh']\n",
    "vol = od_volume_from_zones(sm.zones, get_deterrence('commuting_car'))\n",
    "volumes['commuting_car'] = volumes.merge(vol, how='left', on=['origin', 'destination'])['volume'].fillna(0)"
   ]
  },
  {
   "cell_type": "code",
   "execution_count": null,
   "id": "506dc1f1",
   "metadata": {},
   "outputs": [],
   "source": [
    "# Volumes for commuting without car\n",
    "sm.zones['emission'] = sm.zones['population'] * (1 - sm.zones['car_avail_hh'])\n",
    "sm.zones['attraction'] = sm.zones['employment'] * (1 - sm.zones['car_avail_hh'])\n",
    "vol = od_volume_from_zones(sm.zones, get_deterrence('commuting_no_car'))\n",
    "volumes['commuting_no_car'] = vol.set_index(['origin', 'destination']).fillna(0)"
   ]
  },
  {
   "cell_type": "markdown",
   "id": "3f1cec57",
   "metadata": {},
   "source": [
    "## Sparsify the OD set\n",
    "\n",
    "Reduce the number of OD pairs to a sample while keeping the number of trips constant."
   ]
  },
  {
   "cell_type": "code",
   "execution_count": 27,
   "id": "30ae7a3b",
   "metadata": {},
   "outputs": [],
   "source": [
    "# Only sample, if the parameter is specified\n",
    "sample_size = params['general']['od_sparse_sample']\n",
    "if sample_size > 0:\n",
    "    # Set a stable seed, generating the same OD set in every scenario run\n",
    "    np.random.seed(42)\n",
    "    # Choice probabilities of OD pairs weighted by trip volumes\n",
    "    od_probabilities = volumes[segments].sum(axis=1) / volumes[segments].sum().sum()\n",
    "    sample = np.random.choice(a=volumes.index,\n",
    "                              size=sample_size,\n",
    "                              p=od_probabilities)\n",
    "    # Reduce the volumes matrix\n",
    "    for seg in segments:\n",
    "        expansion = volumes[seg].sum() / sample_size\n",
    "        volumes[seg] = pd.Series(sample).value_counts() * expansion"
   ]
  },
  {
   "cell_type": "code",
   "execution_count": 28,
   "id": "d2853d74",
   "metadata": {},
   "outputs": [
    {
     "data": {
      "text/plain": [
       "157.9334806821937"
      ]
     },
     "execution_count": 28,
     "metadata": {},
     "output_type": "execute_result"
    }
   ],
   "source": [
    "# Check the sum (million trips per day)\n",
    "volumes.loc[volumes.notna().all(axis=1), segments].sum().sum() / 365 / 1e6"
   ]
  },
  {
   "cell_type": "code",
   "execution_count": 29,
   "id": "f4ed1a7d",
   "metadata": {},
   "outputs": [],
   "source": [
    "volumes = volumes.loc[volumes.notna().all(axis=1)]"
   ]
  },
  {
   "cell_type": "markdown",
   "id": "a3e4c4cf",
   "metadata": {
    "tags": []
   },
   "source": [
    "## Save"
   ]
  },
  {
   "cell_type": "code",
   "execution_count": 25,
   "id": "f9d7c924",
   "metadata": {},
   "outputs": [
    {
     "data": {
      "text/plain": [
       "89.65594118230415"
      ]
     },
     "execution_count": 25,
     "metadata": {},
     "output_type": "execute_result"
    }
   ],
   "source": [
    "# check the sum (million trips per day)\n",
    "volumes[segments].sum().sum() / 1e6 / 365"
   ]
  },
  {
   "cell_type": "code",
   "execution_count": 26,
   "id": "e39601fb",
   "metadata": {},
   "outputs": [
    {
     "data": {
      "text/plain": [
       "10.94356178163238"
      ]
     },
     "execution_count": 26,
     "metadata": {},
     "output_type": "execute_result"
    }
   ],
   "source": [
    "# inter-zonal trips (billion per year)\n",
    "volumes.loc[volumes['origin']!=volumes['destination'], segments].sum().sum() / 1e9"
   ]
  },
  {
   "cell_type": "code",
   "execution_count": 27,
   "id": "28c3cca3",
   "metadata": {},
   "outputs": [
    {
     "name": "stderr",
     "output_type": "stream",
     "text": [
      "volumes: 100%|█████████████████████████████████████████████████████████████████████████| 34/34 [00:24<00:00,  1.42it/s]\n"
     ]
    }
   ],
   "source": [
    "# Save volumes table\n",
    "sm.volumes = volumes.reset_index(drop=True)\n",
    "sm.to_zippedpickles(model_path + 'de_volumes', only_attributes=['volumes'])"
   ]
  }
 ],
 "metadata": {
  "kernelspec": {
   "display_name": "Python 3 (ipykernel)",
   "language": "python",
   "name": "python3"
  },
  "language_info": {
   "codemirror_mode": {
    "name": "ipython",
    "version": 3
   },
   "file_extension": ".py",
   "mimetype": "text/x-python",
   "name": "python",
   "nbconvert_exporter": "python",
   "pygments_lexer": "ipython3",
   "version": "3.8.13"
  }
 },
 "nbformat": 4,
 "nbformat_minor": 5
}
