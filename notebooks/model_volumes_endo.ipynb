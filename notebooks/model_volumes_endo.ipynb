{
 "cells": [
  {
   "cell_type": "code",
   "execution_count": 1,
   "id": "b0aa3e39",
   "metadata": {},
   "outputs": [],
   "source": [
    "import sys # for automation and parallelisation\n",
    "manual, scenario = (True, 'base') if 'ipykernel' in sys.argv[0] else (False, sys.argv[1])\n",
    "if manual:\n",
    "    %matplotlib inline"
   ]
  },
  {
   "cell_type": "code",
   "execution_count": 2,
   "id": "f8387063",
   "metadata": {},
   "outputs": [
    {
     "name": "stdout",
     "output_type": "stream",
     "text": [
      "PyTables is not installed. No support for HDF output.\n",
      "SQLalchemy is not installed. No support for SQL output.\n"
     ]
    }
   ],
   "source": [
    "import pandas as pd\n",
    "from quetzal.model import stepmodel\n",
    "from quetzal.io import excel"
   ]
  },
  {
   "cell_type": "code",
   "execution_count": 3,
   "id": "1254663e",
   "metadata": {},
   "outputs": [],
   "source": [
    "model_path = '../model/' + scenario + '/'\n",
    "input_path = '../input/transport_demand/'\n",
    "output_path = '../output/'"
   ]
  },
  {
   "cell_type": "code",
   "execution_count": 4,
   "id": "49222b5a",
   "metadata": {},
   "outputs": [],
   "source": [
    "# Load scenario parameters\n",
    "params = excel.read_var(file='../input/parameters.xls', scenario=scenario)"
   ]
  },
  {
   "cell_type": "code",
   "execution_count": 5,
   "id": "5e5f86b4",
   "metadata": {},
   "outputs": [],
   "source": [
    "# Transport demand segments\n",
    "segments = [s.strip() for s in params['general']['demand_segments'].split(';')]\n",
    "purposes = ['commuting', 'business', 'education', 'buy/execute', 'leisure', 'accompany']\n",
    "purp_n_dict = dict(zip(purposes, [1,2,3,4,6,7]))"
   ]
  },
  {
   "cell_type": "markdown",
   "id": "a65fa6c3",
   "metadata": {
    "tags": []
   },
   "source": [
    "# Calculate volumes\n",
    "$P = \\text{probability}(O, \\text{distance class}, \\text{segment})$ <br>\n",
    "$Vol = (P*\\text{population}_{\\text{segment}}*n_{\\text{expected trips per person, segment}})$ <br>\n"
   ]
  },
  {
   "cell_type": "markdown",
   "id": "2d61f88a",
   "metadata": {
    "tags": []
   },
   "source": [
    "## Trips per person from MiD2017"
   ]
  },
  {
   "cell_type": "markdown",
   "id": "6870a3d4",
   "metadata": {},
   "source": [
    "(Ortuzar 2011 [S. 166], Daly 1997): Define groups of individuals and determine for each group the number of trips per purpose.\n",
    "\n",
    "Here the group of individuals is given by car availability and the urbanisation degree of the home zone. The deterimination of the number of trip per purpose is done by taking the mean value of number of reported trips per person in MiD2017. "
   ]
  },
  {
   "cell_type": "code",
   "execution_count": 6,
   "id": "0f04b92d",
   "metadata": {},
   "outputs": [],
   "source": [
    "# Load data on trips and persons from MiD survey\n",
    "trips = pd.read_csv(input_path + 'calibration_all_trips_MiD2017.csv',\n",
    "                    usecols=['P_ID', 'W_HOCH', 'urbanisation', 'purpose_model', 'car_avail',\n",
    "                             'origin', 'destination'])\n",
    "persons = pd.read_csv(input_path + 'MiD2017_Regional_Personen.csv', sep=';', decimal=',',\n",
    "                      usecols=['HP_ID_Reg', 'P_HOCH', 'P_GEW', 'P_RBW_ANZ'])\n",
    "# Define and rename relevant columns\n",
    "persons = persons[['HP_ID_Reg', 'P_HOCH', 'P_GEW', 'P_RBW_ANZ']]\n",
    "persons.columns = ['P_ID', 'P_HOCH', 'weight', 'num_rbw']\n",
    "# clip person informations to trips table\n",
    "trips = trips.merge(persons, on='P_ID')"
   ]
  },
  {
   "cell_type": "code",
   "execution_count": 7,
   "id": "bdf58067",
   "metadata": {},
   "outputs": [
    {
     "data": {
      "text/plain": [
       "67.25827528747712"
      ]
     },
     "execution_count": 7,
     "metadata": {},
     "output_type": "execute_result"
    }
   ],
   "source": [
    "# total trips per day (million)\n",
    "# Only trips with specified origin and destination and other filters as in cal10\n",
    "total_trips_MiD = trips['W_HOCH'].sum() / 1e6\n",
    "total_trips_MiD"
   ]
  },
  {
   "cell_type": "code",
   "execution_count": 8,
   "id": "26daafbf",
   "metadata": {},
   "outputs": [
    {
     "data": {
      "text/plain": [
       "82.17568400000002"
      ]
     },
     "execution_count": 8,
     "metadata": {},
     "output_type": "execute_result"
    }
   ],
   "source": [
    "# Total population of Germany in 2017 (million)\n",
    "total_pop_MiD = persons['P_HOCH'].sum() / 1e6\n",
    "total_pop_MiD"
   ]
  },
  {
   "cell_type": "code",
   "execution_count": 9,
   "id": "97430093",
   "metadata": {},
   "outputs": [
    {
     "data": {
      "text/plain": [
       "(260709, 10)"
      ]
     },
     "execution_count": 9,
     "metadata": {},
     "output_type": "execute_result"
    }
   ],
   "source": [
    "# drop ureported car availability\n",
    "trips = trips.loc[trips['car_avail'].isin([0,1])]\n",
    "# set unreported number of regular business trips (regelmäßige berufliche Wege, rbw) to 0\n",
    "rbw_dict = {n: 0 for n in [94, 99, 200, 607, 608]}\n",
    "trips['num_rbw'] = trips['num_rbw'].replace(rbw_dict)\n",
    "trips.shape"
   ]
  },
  {
   "cell_type": "code",
   "execution_count": 10,
   "id": "26d216c6",
   "metadata": {},
   "outputs": [],
   "source": [
    "# get trips per person for each segment\n",
    "urban_pop_dict = trips.drop_duplicates('P_ID').groupby('urbanisation').sum()['P_HOCH'].to_dict()\n",
    "def trips_per_person(g):\n",
    "    return g['W_HOCH'].sum() / urban_pop_dict[g['urbanisation'].unique()[0]]\n",
    "segmented_trips_pp = trips.groupby(['urbanisation', 'purpose_model', 'car_avail']\n",
    "                                  ).apply(trips_per_person)"
   ]
  },
  {
   "cell_type": "code",
   "execution_count": 11,
   "id": "11ef75e3",
   "metadata": {},
   "outputs": [
    {
     "data": {
      "text/html": [
       "<div>\n",
       "<style scoped>\n",
       "    .dataframe tbody tr th:only-of-type {\n",
       "        vertical-align: middle;\n",
       "    }\n",
       "\n",
       "    .dataframe tbody tr th {\n",
       "        vertical-align: top;\n",
       "    }\n",
       "\n",
       "    .dataframe thead th {\n",
       "        text-align: right;\n",
       "    }\n",
       "</style>\n",
       "<table border=\"1\" class=\"dataframe\">\n",
       "  <thead>\n",
       "    <tr style=\"text-align: right;\">\n",
       "      <th></th>\n",
       "      <th>urbanisation</th>\n",
       "      <th>1</th>\n",
       "      <th>2</th>\n",
       "      <th>3</th>\n",
       "    </tr>\n",
       "    <tr>\n",
       "      <th>purpose_model</th>\n",
       "      <th>car_avail</th>\n",
       "      <th></th>\n",
       "      <th></th>\n",
       "      <th></th>\n",
       "    </tr>\n",
       "  </thead>\n",
       "  <tbody>\n",
       "    <tr>\n",
       "      <th rowspan=\"2\" valign=\"top\">accompany</th>\n",
       "      <th>0</th>\n",
       "      <td>0.015680</td>\n",
       "      <td>0.003865</td>\n",
       "      <td>0.001045</td>\n",
       "    </tr>\n",
       "    <tr>\n",
       "      <th>1</th>\n",
       "      <td>0.197963</td>\n",
       "      <td>0.227818</td>\n",
       "      <td>0.225678</td>\n",
       "    </tr>\n",
       "    <tr>\n",
       "      <th rowspan=\"2\" valign=\"top\">business</th>\n",
       "      <th>0</th>\n",
       "      <td>0.018381</td>\n",
       "      <td>0.002900</td>\n",
       "      <td>0.002503</td>\n",
       "    </tr>\n",
       "    <tr>\n",
       "      <th>1</th>\n",
       "      <td>0.079834</td>\n",
       "      <td>0.078985</td>\n",
       "      <td>0.078122</td>\n",
       "    </tr>\n",
       "    <tr>\n",
       "      <th rowspan=\"2\" valign=\"top\">buy/execute</th>\n",
       "      <th>0</th>\n",
       "      <td>0.148107</td>\n",
       "      <td>0.030932</td>\n",
       "      <td>0.032978</td>\n",
       "    </tr>\n",
       "    <tr>\n",
       "      <th>1</th>\n",
       "      <td>0.574955</td>\n",
       "      <td>0.777193</td>\n",
       "      <td>0.797909</td>\n",
       "    </tr>\n",
       "    <tr>\n",
       "      <th rowspan=\"2\" valign=\"top\">commuting</th>\n",
       "      <th>0</th>\n",
       "      <td>0.108610</td>\n",
       "      <td>0.018408</td>\n",
       "      <td>0.010831</td>\n",
       "    </tr>\n",
       "    <tr>\n",
       "      <th>1</th>\n",
       "      <td>0.396461</td>\n",
       "      <td>0.449155</td>\n",
       "      <td>0.467200</td>\n",
       "    </tr>\n",
       "    <tr>\n",
       "      <th rowspan=\"2\" valign=\"top\">education</th>\n",
       "      <th>0</th>\n",
       "      <td>0.035237</td>\n",
       "      <td>0.003708</td>\n",
       "      <td>0.001800</td>\n",
       "    </tr>\n",
       "    <tr>\n",
       "      <th>1</th>\n",
       "      <td>0.117327</td>\n",
       "      <td>0.147167</td>\n",
       "      <td>0.153143</td>\n",
       "    </tr>\n",
       "    <tr>\n",
       "      <th rowspan=\"2\" valign=\"top\">leisure</th>\n",
       "      <th>0</th>\n",
       "      <td>0.164698</td>\n",
       "      <td>0.028002</td>\n",
       "      <td>0.021797</td>\n",
       "    </tr>\n",
       "    <tr>\n",
       "      <th>1</th>\n",
       "      <td>0.574568</td>\n",
       "      <td>0.662977</td>\n",
       "      <td>0.580101</td>\n",
       "    </tr>\n",
       "  </tbody>\n",
       "</table>\n",
       "</div>"
      ],
      "text/plain": [
       "urbanisation                    1         2         3\n",
       "purpose_model car_avail                              \n",
       "accompany     0          0.015680  0.003865  0.001045\n",
       "              1          0.197963  0.227818  0.225678\n",
       "business      0          0.018381  0.002900  0.002503\n",
       "              1          0.079834  0.078985  0.078122\n",
       "buy/execute   0          0.148107  0.030932  0.032978\n",
       "              1          0.574955  0.777193  0.797909\n",
       "commuting     0          0.108610  0.018408  0.010831\n",
       "              1          0.396461  0.449155  0.467200\n",
       "education     0          0.035237  0.003708  0.001800\n",
       "              1          0.117327  0.147167  0.153143\n",
       "leisure       0          0.164698  0.028002  0.021797\n",
       "              1          0.574568  0.662977  0.580101"
      ]
     },
     "execution_count": 11,
     "metadata": {},
     "output_type": "execute_result"
    }
   ],
   "source": [
    "segmented_trips_pp.unstack('urbanisation')"
   ]
  },
  {
   "cell_type": "markdown",
   "id": "327023f1",
   "metadata": {},
   "source": [
    "## Map generation to zones"
   ]
  },
  {
   "cell_type": "code",
   "execution_count": 12,
   "id": "69fdd177",
   "metadata": {},
   "outputs": [],
   "source": [
    "# Load zones\n",
    "sm = stepmodel.read_json(model_path + 'de_zones')"
   ]
  },
  {
   "cell_type": "code",
   "execution_count": 13,
   "id": "3aca5f29",
   "metadata": {},
   "outputs": [],
   "source": [
    "# Put trip generation in zones table\n",
    "for p in purposes:\n",
    "    for c in [0,1]:\n",
    "        sm.zones[str(((p, c), 'generation_MiD'))] = [segmented_trips_pp[u][p][c] * pop * 365\n",
    "                                                     for u, pop in zip(sm.zones['urbanisation'], sm.zones['population'])]"
   ]
  },
  {
   "cell_type": "code",
   "execution_count": 14,
   "id": "ca43c1a9",
   "metadata": {},
   "outputs": [
    {
     "data": {
      "text/plain": [
       "201.66808606211438"
      ]
     },
     "execution_count": 14,
     "metadata": {},
     "output_type": "execute_result"
    }
   ],
   "source": [
    "# Sum of trips per day with model population (million)\n",
    "sm.zones[[str(((p, c), 'generation_MiD')) for p in purposes for c in [0,1]]].sum().sum() / 1e6 / 365"
   ]
  },
  {
   "cell_type": "markdown",
   "id": "5a90b068",
   "metadata": {
    "tags": []
   },
   "source": [
    "## Volumes from  destination choice probabilities\n",
    "result: $P*\\text{population}_{\\text{segment, zone}}*n_{\\text{expected trips per person, segment, zone}}$"
   ]
  },
  {
   "cell_type": "code",
   "execution_count": 15,
   "id": "a92f3886",
   "metadata": {},
   "outputs": [],
   "source": [
    "# Load probability results from logit step\n",
    "gdm = stepmodel.read_json(model_path + 'de_destination_choice')"
   ]
  },
  {
   "cell_type": "code",
   "execution_count": 16,
   "id": "0a19a2c0",
   "metadata": {
    "tags": []
   },
   "outputs": [
    {
     "data": {
      "text/html": [
       "<div>\n",
       "<style scoped>\n",
       "    .dataframe tbody tr th:only-of-type {\n",
       "        vertical-align: middle;\n",
       "    }\n",
       "\n",
       "    .dataframe tbody tr th {\n",
       "        vertical-align: top;\n",
       "    }\n",
       "\n",
       "    .dataframe thead th {\n",
       "        text-align: right;\n",
       "    }\n",
       "</style>\n",
       "<table border=\"1\" class=\"dataframe\">\n",
       "  <thead>\n",
       "    <tr style=\"text-align: right;\">\n",
       "      <th></th>\n",
       "      <th>origin</th>\n",
       "      <th>destination</th>\n",
       "      <th>accompany_car</th>\n",
       "      <th>accompany_no_car</th>\n",
       "      <th>business_car</th>\n",
       "      <th>business_no_car</th>\n",
       "      <th>buy/execute_car</th>\n",
       "      <th>buy/execute_no_car</th>\n",
       "      <th>commuting_car</th>\n",
       "      <th>commuting_no_car</th>\n",
       "      <th>education_car</th>\n",
       "      <th>education_no_car</th>\n",
       "      <th>leisure_car</th>\n",
       "      <th>leisure_no_car</th>\n",
       "    </tr>\n",
       "  </thead>\n",
       "  <tbody>\n",
       "    <tr>\n",
       "      <th>4348780</th>\n",
       "      <td>DED53_3</td>\n",
       "      <td>DE723_6</td>\n",
       "      <td>1.200000e-09</td>\n",
       "      <td>7.623000e-07</td>\n",
       "      <td>0.000003</td>\n",
       "      <td>0.000051</td>\n",
       "      <td>0.0000</td>\n",
       "      <td>2.820000e-08</td>\n",
       "      <td>0.000000</td>\n",
       "      <td>3.700000e-09</td>\n",
       "      <td>7.011906e-17</td>\n",
       "      <td>5.000000e-10</td>\n",
       "      <td>7.800000e-07</td>\n",
       "      <td>0.0</td>\n",
       "    </tr>\n",
       "    <tr>\n",
       "      <th>3696850</th>\n",
       "      <td>DEA57_2</td>\n",
       "      <td>DE724_2</td>\n",
       "      <td>1.029781e-02</td>\n",
       "      <td>1.216236e-02</td>\n",
       "      <td>0.003330</td>\n",
       "      <td>0.001004</td>\n",
       "      <td>0.0083</td>\n",
       "      <td>1.039403e-02</td>\n",
       "      <td>0.007072</td>\n",
       "      <td>1.121597e-02</td>\n",
       "      <td>6.421545e-03</td>\n",
       "      <td>8.825549e-03</td>\n",
       "      <td>9.657903e-03</td>\n",
       "      <td>0.0</td>\n",
       "    </tr>\n",
       "  </tbody>\n",
       "</table>\n",
       "</div>"
      ],
      "text/plain": [
       "          origin destination  accompany_car  accompany_no_car  business_car  \\\n",
       "4348780  DED53_3     DE723_6   1.200000e-09      7.623000e-07      0.000003   \n",
       "3696850  DEA57_2     DE724_2   1.029781e-02      1.216236e-02      0.003330   \n",
       "\n",
       "         business_no_car  buy/execute_car  buy/execute_no_car  commuting_car  \\\n",
       "4348780         0.000051           0.0000        2.820000e-08       0.000000   \n",
       "3696850         0.001004           0.0083        1.039403e-02       0.007072   \n",
       "\n",
       "         commuting_no_car  education_car  education_no_car   leisure_car  \\\n",
       "4348780      3.700000e-09   7.011906e-17      5.000000e-10  7.800000e-07   \n",
       "3696850      1.121597e-02   6.421545e-03      8.825549e-03  9.657903e-03   \n",
       "\n",
       "         leisure_no_car  \n",
       "4348780             0.0  \n",
       "3696850             0.0  "
      ]
     },
     "execution_count": 16,
     "metadata": {},
     "output_type": "execute_result"
    }
   ],
   "source": [
    "# Extract probability values and create new table from it\n",
    "prob = gdm.probabilities.set_index(['origin', 'segment']).drop(columns=['destination', 'root'])\n",
    "prob.columns.name = 'destination'\n",
    "volumes = prob.stack('destination').unstack('segment').reset_index()\n",
    "volumes.columns.name = None\n",
    "for seg in set(segments) - set(volumes.columns):\n",
    "    volumes[seg] = 0\n",
    "volumes.sample(2)"
   ]
  },
  {
   "cell_type": "code",
   "execution_count": 17,
   "id": "ee886f4a",
   "metadata": {},
   "outputs": [],
   "source": [
    "# Create inner-zonal probabilities\n",
    "in_mask = volumes['origin']==volumes['destination']\n",
    "if len(volumes.loc[in_mask]) == 0:\n",
    "    volumes = volumes.append(pd.DataFrame({'origin': list(sm.zones.index),\n",
    "                                           'destination': list(sm.zones.index)})\n",
    "                            ).reset_index()\n",
    "    in_mask = volumes['origin']==volumes['destination']\n",
    "car_names = {'no': 0, 'car': 1}\n",
    "urban_dict = sm.zones['urbanisation'].to_dict()\n",
    "for seg in segments:\n",
    "    # Calculate mean inner-zonal probability by segment and urbanisation from MiD2017\n",
    "    mask = (trips['purpose_model']==seg.split('_')[0]) \\\n",
    "            & (trips['car_avail']==car_names[seg.split('_')[1]])\n",
    "    probs = trips.loc[(trips['origin']==trips['destination']) & mask\n",
    "                     ].groupby('urbanisation')['origin'].count() / \\\n",
    "            trips.loc[mask].groupby('urbanisation')['origin'].count()\n",
    "    # Correct probabilities in volumes\n",
    "    volumes.loc[in_mask, seg] = volumes.loc[in_mask, 'origin'].map(urban_dict).map(probs)\n",
    "    volumes.loc[~in_mask, seg] = volumes.loc[~in_mask, seg] * \\\n",
    "                                 volumes.loc[~in_mask, 'origin'].map(urban_dict).map(1 - probs)"
   ]
  },
  {
   "cell_type": "raw",
   "id": "f6bef377",
   "metadata": {},
   "source": [
    "# make sure all probabilities sum up to 1 for each zone in each segments\n",
    "volumes.groupby('origin')[segments].sum().describe()"
   ]
  },
  {
   "cell_type": "code",
   "execution_count": 18,
   "id": "543cab58",
   "metadata": {
    "tags": []
   },
   "outputs": [],
   "source": [
    "# calculate number of trips\n",
    "for s in segments:\n",
    "    generation_dict = sm.zones[str(((s.split('_')[0], car_names[s.split('_')[1]]), 'generation_MiD'))].to_dict()\n",
    "    volumes[s] = volumes[s] * volumes['origin'].map(generation_dict)"
   ]
  },
  {
   "cell_type": "code",
   "execution_count": 19,
   "id": "4aae7651",
   "metadata": {},
   "outputs": [
    {
     "data": {
      "text/plain": [
       "199.9836865896257"
      ]
     },
     "execution_count": 19,
     "metadata": {},
     "output_type": "execute_result"
    }
   ],
   "source": [
    "# check the sum\n",
    "volumes[segments].sum().sum() / 1e6 / 365"
   ]
  },
  {
   "cell_type": "markdown",
   "id": "a3e4c4cf",
   "metadata": {
    "tags": []
   },
   "source": [
    "## Save"
   ]
  },
  {
   "cell_type": "code",
   "execution_count": 20,
   "id": "28c3cca3",
   "metadata": {},
   "outputs": [
    {
     "name": "stderr",
     "output_type": "stream",
     "text": [
      "to_hdf(overwriting): 100%|█████████████████████████████████████████████████████████████| 14/14 [00:46<00:00,  3.33s/it]\n"
     ]
    }
   ],
   "source": [
    "# Save volumes table\n",
    "gdm.volumes = volumes.reset_index(drop=True)\n",
    "gdm.to_json(model_path + 'de_volumes_endo', only_attributes=['volumes'],\n",
    "           encoding='utf-8')"
   ]
  }
 ],
 "metadata": {
  "kernelspec": {
   "display_name": "Python 3 (ipykernel)",
   "language": "python",
   "name": "python3"
  },
  "language_info": {
   "codemirror_mode": {
    "name": "ipython",
    "version": 3
   },
   "file_extension": ".py",
   "mimetype": "text/x-python",
   "name": "python",
   "nbconvert_exporter": "python",
   "pygments_lexer": "ipython3",
   "version": "3.9.13"
  }
 },
 "nbformat": 4,
 "nbformat_minor": 5
}
