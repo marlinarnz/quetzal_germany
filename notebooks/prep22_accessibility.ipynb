{
 "cells": [
  {
   "cell_type": "code",
   "execution_count": 1,
   "metadata": {},
   "outputs": [
    {
     "name": "stderr",
     "output_type": "stream",
     "text": [
      "In C:\\Users\\marlin.arnz\\AppData\\Local\\Continuum\\miniconda3\\envs\\quetzal\\lib\\site-packages\\matplotlib\\mpl-data\\stylelib\\_classic_test.mplstyle: \n",
      "The text.latex.preview rcparam was deprecated in Matplotlib 3.3 and will be removed two minor releases later.\n",
      "In C:\\Users\\marlin.arnz\\AppData\\Local\\Continuum\\miniconda3\\envs\\quetzal\\lib\\site-packages\\matplotlib\\mpl-data\\stylelib\\_classic_test.mplstyle: \n",
      "The mathtext.fallback_to_cm rcparam was deprecated in Matplotlib 3.3 and will be removed two minor releases later.\n",
      "In C:\\Users\\marlin.arnz\\AppData\\Local\\Continuum\\miniconda3\\envs\\quetzal\\lib\\site-packages\\matplotlib\\mpl-data\\stylelib\\_classic_test.mplstyle: Support for setting the 'mathtext.fallback_to_cm' rcParam is deprecated since 3.3 and will be removed two minor releases later; use 'mathtext.fallback : 'cm' instead.\n",
      "In C:\\Users\\marlin.arnz\\AppData\\Local\\Continuum\\miniconda3\\envs\\quetzal\\lib\\site-packages\\matplotlib\\mpl-data\\stylelib\\_classic_test.mplstyle: \n",
      "The validate_bool_maybe_none function was deprecated in Matplotlib 3.3 and will be removed two minor releases later.\n",
      "In C:\\Users\\marlin.arnz\\AppData\\Local\\Continuum\\miniconda3\\envs\\quetzal\\lib\\site-packages\\matplotlib\\mpl-data\\stylelib\\_classic_test.mplstyle: \n",
      "The savefig.jpeg_quality rcparam was deprecated in Matplotlib 3.3 and will be removed two minor releases later.\n",
      "In C:\\Users\\marlin.arnz\\AppData\\Local\\Continuum\\miniconda3\\envs\\quetzal\\lib\\site-packages\\matplotlib\\mpl-data\\stylelib\\_classic_test.mplstyle: \n",
      "The keymap.all_axes rcparam was deprecated in Matplotlib 3.3 and will be removed two minor releases later.\n",
      "In C:\\Users\\marlin.arnz\\AppData\\Local\\Continuum\\miniconda3\\envs\\quetzal\\lib\\site-packages\\matplotlib\\mpl-data\\stylelib\\_classic_test.mplstyle: \n",
      "The animation.avconv_path rcparam was deprecated in Matplotlib 3.3 and will be removed two minor releases later.\n",
      "In C:\\Users\\marlin.arnz\\AppData\\Local\\Continuum\\miniconda3\\envs\\quetzal\\lib\\site-packages\\matplotlib\\mpl-data\\stylelib\\_classic_test.mplstyle: \n",
      "The animation.avconv_args rcparam was deprecated in Matplotlib 3.3 and will be removed two minor releases later.\n"
     ]
    }
   ],
   "source": [
    "import pandas as pd\n",
    "import numpy as np\n",
    "from quetzal.model import stepmodel"
   ]
  },
  {
   "cell_type": "markdown",
   "metadata": {},
   "source": [
    "# Preparation of the transport network.\n",
    "## Parameterises the zone - PT stop legs\n",
    "## Needs PT access and egress links"
   ]
  },
  {
   "cell_type": "code",
   "execution_count": 2,
   "metadata": {},
   "outputs": [],
   "source": [
    "input_path = '../input/'\n",
    "output_path = '../output/'\n",
    "model_path = '../model/'"
   ]
  },
  {
   "cell_type": "code",
   "execution_count": 3,
   "metadata": {},
   "outputs": [],
   "source": [
    "sm = stepmodel.read_json(model_path + 'de_pt_access_egress')"
   ]
  },
  {
   "cell_type": "code",
   "execution_count": 4,
   "metadata": {},
   "outputs": [],
   "source": [
    "# Load distances to PT stops from census data\n",
    "clusters = pd.read_csv(input_path + 'spatial_census_refined.csv')"
   ]
  },
  {
   "cell_type": "code",
   "execution_count": 5,
   "metadata": {},
   "outputs": [
    {
     "data": {
      "text/plain": [
       "(423899, 8)"
      ]
     },
     "execution_count": 5,
     "metadata": {},
     "output_type": "execute_result"
    }
   ],
   "source": [
    "clusters.shape"
   ]
  },
  {
   "cell_type": "code",
   "execution_count": 6,
   "metadata": {},
   "outputs": [],
   "source": [
    "dist_col = 'weighted_dist'\n",
    "mean_dist_col = 'mean_weighted_dist'\n",
    "cent_col = 'cluster_center'\n",
    "#pop_col = 'population'\n",
    "node_col = 'node_id'"
   ]
  },
  {
   "cell_type": "code",
   "execution_count": 7,
   "metadata": {},
   "outputs": [
    {
     "data": {
      "text/html": [
       "<div>\n",
       "<style scoped>\n",
       "    .dataframe tbody tr th:only-of-type {\n",
       "        vertical-align: middle;\n",
       "    }\n",
       "\n",
       "    .dataframe tbody tr th {\n",
       "        vertical-align: top;\n",
       "    }\n",
       "\n",
       "    .dataframe thead th {\n",
       "        text-align: right;\n",
       "    }\n",
       "</style>\n",
       "<table border=\"1\" class=\"dataframe\">\n",
       "  <thead>\n",
       "    <tr style=\"text-align: right;\">\n",
       "      <th></th>\n",
       "      <th>Unnamed: 0</th>\n",
       "      <th>route_type</th>\n",
       "      <th>stop_name</th>\n",
       "      <th>geometry</th>\n",
       "      <th>NUTS_ID</th>\n",
       "      <th>cluster_center</th>\n",
       "      <th>weighted_dist</th>\n",
       "      <th>mean_weighted_dist</th>\n",
       "    </tr>\n",
       "  </thead>\n",
       "  <tbody>\n",
       "    <tr>\n",
       "      <th>43636</th>\n",
       "      <td>bus_node_155743</td>\n",
       "      <td>bus</td>\n",
       "      <td>Bautzen Mozartstraße</td>\n",
       "      <td>POINT (14.447584 51.178394)</td>\n",
       "      <td>DED2C</td>\n",
       "      <td>POINT (14.44972196581597 51.17776914866185)</td>\n",
       "      <td>245.958947</td>\n",
       "      <td>9112.368735</td>\n",
       "    </tr>\n",
       "    <tr>\n",
       "      <th>212810</th>\n",
       "      <td>bus_node_237914</td>\n",
       "      <td>bus</td>\n",
       "      <td>Lampertheim, E.-Schreiber-Str.</td>\n",
       "      <td>POINT (8.479844999999999 49.592934)</td>\n",
       "      <td>DE715</td>\n",
       "      <td>POINT (8.478591157174352 49.5909361172213)</td>\n",
       "      <td>260.048198</td>\n",
       "      <td>1630.413391</td>\n",
       "    </tr>\n",
       "    <tr>\n",
       "      <th>413645</th>\n",
       "      <td>bus_node_x337009</td>\n",
       "      <td>bus</td>\n",
       "      <td>Iserl., Zur Friedenseiche</td>\n",
       "      <td>POINT (7.653476 51.34892)</td>\n",
       "      <td>DEA58</td>\n",
       "      <td>POINT (7.65269936096457 51.34768784580892)</td>\n",
       "      <td>160.808950</td>\n",
       "      <td>2933.077354</td>\n",
       "    </tr>\n",
       "  </tbody>\n",
       "</table>\n",
       "</div>"
      ],
      "text/plain": [
       "              Unnamed: 0 route_type                       stop_name  \\\n",
       "43636    bus_node_155743        bus            Bautzen Mozartstraße   \n",
       "212810   bus_node_237914        bus  Lampertheim, E.-Schreiber-Str.   \n",
       "413645  bus_node_x337009        bus       Iserl., Zur Friedenseiche   \n",
       "\n",
       "                                   geometry NUTS_ID  \\\n",
       "43636           POINT (14.447584 51.178394)   DED2C   \n",
       "212810  POINT (8.479844999999999 49.592934)   DE715   \n",
       "413645            POINT (7.653476 51.34892)   DEA58   \n",
       "\n",
       "                                     cluster_center  weighted_dist  \\\n",
       "43636   POINT (14.44972196581597 51.17776914866185)     245.958947   \n",
       "212810   POINT (8.478591157174352 49.5909361172213)     260.048198   \n",
       "413645   POINT (7.65269936096457 51.34768784580892)     160.808950   \n",
       "\n",
       "        mean_weighted_dist  \n",
       "43636          9112.368735  \n",
       "212810         1630.413391  \n",
       "413645         2933.077354  "
      ]
     },
     "execution_count": 7,
     "metadata": {},
     "output_type": "execute_result"
    }
   ],
   "source": [
    "clusters.sample(3)"
   ]
  },
  {
   "cell_type": "markdown",
   "metadata": {},
   "source": [
    "### Generate the average distance to the next PT stop"
   ]
  },
  {
   "cell_type": "code",
   "execution_count": 8,
   "metadata": {},
   "outputs": [],
   "source": [
    "# Create a zone - distance dict\n",
    "# Take the mean weighted distance\n",
    "zone_type_dist = clusters.groupby(['NUTS_ID', 'route_type']).agg(\n",
    "    {mean_dist_col: 'mean'})#.to_dict()[mean_dist_col]"
   ]
  },
  {
   "cell_type": "code",
   "execution_count": 9,
   "metadata": {},
   "outputs": [
    {
     "data": {
      "text/html": [
       "<div>\n",
       "<style scoped>\n",
       "    .dataframe tbody tr th:only-of-type {\n",
       "        vertical-align: middle;\n",
       "    }\n",
       "\n",
       "    .dataframe tbody tr th {\n",
       "        vertical-align: top;\n",
       "    }\n",
       "\n",
       "    .dataframe thead th {\n",
       "        text-align: right;\n",
       "    }\n",
       "</style>\n",
       "<table border=\"1\" class=\"dataframe\">\n",
       "  <thead>\n",
       "    <tr style=\"text-align: right;\">\n",
       "      <th></th>\n",
       "      <th></th>\n",
       "      <th>mean_weighted_dist</th>\n",
       "    </tr>\n",
       "    <tr>\n",
       "      <th>NUTS_ID</th>\n",
       "      <th>route_type</th>\n",
       "      <th></th>\n",
       "    </tr>\n",
       "  </thead>\n",
       "  <tbody>\n",
       "    <tr>\n",
       "      <th rowspan=\"4\" valign=\"top\">DE111</th>\n",
       "      <th>bus</th>\n",
       "      <td>2694.602782</td>\n",
       "    </tr>\n",
       "    <tr>\n",
       "      <th>coach</th>\n",
       "      <td>4942.656226</td>\n",
       "    </tr>\n",
       "    <tr>\n",
       "      <th>rail_long_distance</th>\n",
       "      <td>8481.451821</td>\n",
       "    </tr>\n",
       "    <tr>\n",
       "      <th>rail_short_distance</th>\n",
       "      <td>7411.629367</td>\n",
       "    </tr>\n",
       "    <tr>\n",
       "      <th>DE112</th>\n",
       "      <th>bus</th>\n",
       "      <td>5536.340993</td>\n",
       "    </tr>\n",
       "    <tr>\n",
       "      <th>...</th>\n",
       "      <th>...</th>\n",
       "      <td>...</td>\n",
       "    </tr>\n",
       "    <tr>\n",
       "      <th rowspan=\"3\" valign=\"top\">DEG0N</th>\n",
       "      <th>coach</th>\n",
       "      <td>1705.112486</td>\n",
       "    </tr>\n",
       "    <tr>\n",
       "      <th>rail_long_distance</th>\n",
       "      <td>5430.362740</td>\n",
       "    </tr>\n",
       "    <tr>\n",
       "      <th>rail_short_distance</th>\n",
       "      <td>5155.025292</td>\n",
       "    </tr>\n",
       "    <tr>\n",
       "      <th rowspan=\"2\" valign=\"top\">DEG0P</th>\n",
       "      <th>bus</th>\n",
       "      <td>6024.588180</td>\n",
       "    </tr>\n",
       "    <tr>\n",
       "      <th>rail_short_distance</th>\n",
       "      <td>26295.290877</td>\n",
       "    </tr>\n",
       "  </tbody>\n",
       "</table>\n",
       "<p>1232 rows × 1 columns</p>\n",
       "</div>"
      ],
      "text/plain": [
       "                             mean_weighted_dist\n",
       "NUTS_ID route_type                             \n",
       "DE111   bus                         2694.602782\n",
       "        coach                       4942.656226\n",
       "        rail_long_distance          8481.451821\n",
       "        rail_short_distance         7411.629367\n",
       "DE112   bus                         5536.340993\n",
       "...                                         ...\n",
       "DEG0N   coach                       1705.112486\n",
       "        rail_long_distance          5430.362740\n",
       "        rail_short_distance         5155.025292\n",
       "DEG0P   bus                         6024.588180\n",
       "        rail_short_distance        26295.290877\n",
       "\n",
       "[1232 rows x 1 columns]"
      ]
     },
     "execution_count": 9,
     "metadata": {},
     "output_type": "execute_result"
    }
   ],
   "source": [
    "zone_type_dist"
   ]
  },
  {
   "cell_type": "markdown",
   "metadata": {},
   "source": [
    "### Alter the PT legs"
   ]
  },
  {
   "cell_type": "code",
   "execution_count": 10,
   "metadata": {},
   "outputs": [],
   "source": [
    "# Split legs into access and egress\n",
    "access = sm.zone_to_transit.loc[sm.zone_to_transit['direction']=='access'].copy()\n",
    "egress = sm.zone_to_transit.loc[sm.zone_to_transit['direction']=='eggress'].copy()# name in quetzal"
   ]
  },
  {
   "cell_type": "code",
   "execution_count": 11,
   "metadata": {},
   "outputs": [],
   "source": [
    "#access['distance'] = [zone_type_dist[a] for a in tuple(zip(access['a'], access['route_type']))]\n",
    "#egress['distance'] = [zone_type_dist[a] for a in tuple(zip(egress['b'], egress['route_type']))]"
   ]
  },
  {
   "cell_type": "code",
   "execution_count": 12,
   "metadata": {},
   "outputs": [],
   "source": [
    "# Alter the distance\n",
    "route_types = clusters['route_type'].unique()\n",
    "for t in route_types:\n",
    "    for zone in list(sm.zones.index):\n",
    "        try:\n",
    "            access.loc[(access['route_type']==t) & (access['a']==zone),\n",
    "                       'distance'] = zone_type_dist.loc[(zone, t), mean_dist_col]\n",
    "        except KeyError:\n",
    "            # There is no such station in this zone\n",
    "            access.loc[(access['route_type']==t) & (access['a']==zone),\n",
    "                       'distance'] = np.nan\n",
    "for t in route_types:\n",
    "    for zone in list(sm.zones.index):\n",
    "        try:\n",
    "            egress.loc[(egress['route_type']==t) & (egress['b']==zone),\n",
    "                       'distance'] = zone_type_dist.loc[(zone, t), mean_dist_col]\n",
    "        except KeyError:\n",
    "            # There is no such station in this zone\n",
    "            egress.loc[(egress['route_type']==t) & (egress['b']==zone),\n",
    "                       'distance'] = np.nan"
   ]
  },
  {
   "cell_type": "code",
   "execution_count": 13,
   "metadata": {},
   "outputs": [],
   "source": [
    "sm.zone_to_transit = access.append(egress)"
   ]
  },
  {
   "cell_type": "code",
   "execution_count": 14,
   "metadata": {},
   "outputs": [],
   "source": [
    "# Alter time of PT legs\n",
    "sm.zone_to_transit['time'] = sm.zone_to_transit['distance'] / 17 * 3.6 # in s"
   ]
  },
  {
   "cell_type": "code",
   "execution_count": 15,
   "metadata": {
    "scrolled": true
   },
   "outputs": [
    {
     "data": {
      "text/html": [
       "<div>\n",
       "<style scoped>\n",
       "    .dataframe tbody tr th:only-of-type {\n",
       "        vertical-align: middle;\n",
       "    }\n",
       "\n",
       "    .dataframe tbody tr th {\n",
       "        vertical-align: top;\n",
       "    }\n",
       "\n",
       "    .dataframe thead th {\n",
       "        text-align: right;\n",
       "    }\n",
       "</style>\n",
       "<table border=\"1\" class=\"dataframe\">\n",
       "  <thead>\n",
       "    <tr style=\"text-align: right;\">\n",
       "      <th></th>\n",
       "      <th>a</th>\n",
       "      <th>b</th>\n",
       "      <th>direction</th>\n",
       "      <th>distance</th>\n",
       "      <th>route_type</th>\n",
       "      <th>speed</th>\n",
       "      <th>time</th>\n",
       "      <th>geometry</th>\n",
       "    </tr>\n",
       "    <tr>\n",
       "      <th>index</th>\n",
       "      <th></th>\n",
       "      <th></th>\n",
       "      <th></th>\n",
       "      <th></th>\n",
       "      <th></th>\n",
       "      <th></th>\n",
       "      <th></th>\n",
       "      <th></th>\n",
       "    </tr>\n",
       "  </thead>\n",
       "  <tbody>\n",
       "    <tr>\n",
       "      <th>2127</th>\n",
       "      <td>bus_n_262953</td>\n",
       "      <td>DE232</td>\n",
       "      <td>eggress</td>\n",
       "      <td>327.0</td>\n",
       "      <td>bus</td>\n",
       "      <td>5</td>\n",
       "      <td>69.247059</td>\n",
       "      <td>LINESTRING (12.11363 49.01295, 12.11194 49.01023)</td>\n",
       "    </tr>\n",
       "    <tr>\n",
       "      <th>2215</th>\n",
       "      <td>bus_n_11882</td>\n",
       "      <td>DE717</td>\n",
       "      <td>eggress</td>\n",
       "      <td>716.0</td>\n",
       "      <td>bus</td>\n",
       "      <td>5</td>\n",
       "      <td>151.623529</td>\n",
       "      <td>LINESTRING (8.47033 49.90440, 8.47386 49.91042)</td>\n",
       "    </tr>\n",
       "    <tr>\n",
       "      <th>1633</th>\n",
       "      <td>TXL</td>\n",
       "      <td>DE300</td>\n",
       "      <td>eggress</td>\n",
       "      <td>10074.0</td>\n",
       "      <td>air</td>\n",
       "      <td>17</td>\n",
       "      <td>2133.317647</td>\n",
       "      <td>LINESTRING (13.40183 52.50149, 13.28770 52.55970)</td>\n",
       "    </tr>\n",
       "  </tbody>\n",
       "</table>\n",
       "</div>"
      ],
      "text/plain": [
       "                  a      b direction  distance route_type  speed         time  \\\n",
       "index                                                                           \n",
       "2127   bus_n_262953  DE232   eggress     327.0        bus      5    69.247059   \n",
       "2215    bus_n_11882  DE717   eggress     716.0        bus      5   151.623529   \n",
       "1633            TXL  DE300   eggress   10074.0        air     17  2133.317647   \n",
       "\n",
       "                                                geometry  \n",
       "index                                                     \n",
       "2127   LINESTRING (12.11363 49.01295, 12.11194 49.01023)  \n",
       "2215     LINESTRING (8.47033 49.90440, 8.47386 49.91042)  \n",
       "1633   LINESTRING (13.40183 52.50149, 13.28770 52.55970)  "
      ]
     },
     "execution_count": 15,
     "metadata": {},
     "output_type": "execute_result"
    }
   ],
   "source": [
    "sm.zone_to_transit.sample(3)#.sort_values('time').loc[sm.zone_to_transit['direction']=='access'].head()"
   ]
  },
  {
   "cell_type": "code",
   "execution_count": 16,
   "metadata": {},
   "outputs": [
    {
     "data": {
      "text/plain": [
       "(2448, 8)"
      ]
     },
     "execution_count": 16,
     "metadata": {},
     "output_type": "execute_result"
    }
   ],
   "source": [
    "sm.zone_to_transit.shape"
   ]
  },
  {
   "cell_type": "code",
   "execution_count": 17,
   "metadata": {},
   "outputs": [
    {
     "data": {
      "text/plain": [
       "(0, 8)"
      ]
     },
     "execution_count": 17,
     "metadata": {},
     "output_type": "execute_result"
    }
   ],
   "source": [
    "sm.zone_to_transit.loc[sm.zone_to_transit['time'].isna()].shape"
   ]
  },
  {
   "cell_type": "code",
   "execution_count": 18,
   "metadata": {},
   "outputs": [],
   "source": [
    "# Ditch all legs whith erronous times\n",
    "sm.zone_to_transit = sm.zone_to_transit.loc[sm.zone_to_transit['time'].notna()]"
   ]
  },
  {
   "cell_type": "code",
   "execution_count": 19,
   "metadata": {},
   "outputs": [],
   "source": [
    "# Ditch all legs which take too long\n",
    "sm.zone_to_transit = sm.zone_to_transit.loc[sm.zone_to_transit['time']<3600]"
   ]
  },
  {
   "cell_type": "code",
   "execution_count": 20,
   "metadata": {},
   "outputs": [
    {
     "data": {
      "text/plain": [
       "(2448, 8)"
      ]
     },
     "execution_count": 20,
     "metadata": {},
     "output_type": "execute_result"
    }
   ],
   "source": [
    "sm.zone_to_transit.shape"
   ]
  },
  {
   "cell_type": "code",
   "execution_count": 21,
   "metadata": {},
   "outputs": [
    {
     "data": {
      "text/plain": [
       "direction\n",
       "access     [[AxesSubplot(0.125,0.125;0.775x0.755)]]\n",
       "eggress    [[AxesSubplot(0.125,0.125;0.775x0.755)]]\n",
       "dtype: object"
      ]
     },
     "execution_count": 21,
     "metadata": {},
     "output_type": "execute_result"
    },
    {
     "data": {
      "image/png": "[encoded data removed]",
      "text/plain": [
       "<Figure size 288x288 with 1 Axes>"
      ]
     },
     "metadata": {
      "needs_background": "light"
     },
     "output_type": "display_data"
    },
    {
     "data": {
      "image/png": "[encoded data removed]",
      "text/plain": [
       "<Figure size 288x288 with 1 Axes>"
      ]
     },
     "metadata": {
      "needs_background": "light"
     },
     "output_type": "display_data"
    }
   ],
   "source": [
    "sm.zone_to_transit.groupby('direction').hist(column='time', bins=100, log=False, figsize=(4,4))"
   ]
  },
  {
   "cell_type": "markdown",
   "metadata": {},
   "source": [
    "### Save model"
   ]
  },
  {
   "cell_type": "code",
   "execution_count": 24,
   "metadata": {},
   "outputs": [
    {
     "name": "stderr",
     "output_type": "stream",
     "text": [
      "to_hdf(overwriting): 100%|██████████████████████████████████████████████████████████████████| 33/33 [00:16<00:00,  1.99it/s]\n"
     ]
    }
   ],
   "source": [
    "sm.to_json(model_path + 'de_pt_access_egress',\n",
    "           only_attributes=['centroids', 'footpaths', 'zone_to_transit'],\n",
    "           encoding='utf-8')"
   ]
  }
 ],
 "metadata": {
  "kernelspec": {
   "display_name": "Python 3",
   "language": "python",
   "name": "python3"
  },
  "language_info": {
   "codemirror_mode": {
    "name": "ipython",
    "version": 3
   },
   "file_extension": ".py",
   "mimetype": "text/x-python",
   "name": "python",
   "nbconvert_exporter": "python",
   "pygments_lexer": "ipython3",
   "version": "3.8.1"
  }
 },
 "nbformat": 4,
 "nbformat_minor": 4
}
