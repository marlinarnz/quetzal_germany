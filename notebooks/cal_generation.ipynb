{
 "cells": [
  {
   "cell_type": "code",
   "execution_count": 1,
   "id": "aae6f93a",
   "metadata": {},
   "outputs": [
    {
     "name": "stderr",
     "output_type": "stream",
     "text": [
      "\n",
      "Bad key text.latex.preview in file C:\\Users\\marlin.arnz\\AppData\\Local\\Continuum\\miniconda3\\envs\\quetzal\\lib\\site-packages\\matplotlib\\mpl-data\\stylelib\\_classic_test.mplstyle, line 123 ('text.latex.preview : False')\n",
      "You probably need to get an updated matplotlibrc file from\n",
      "https://github.com/matplotlib/matplotlib/blob/v3.5.2/matplotlibrc.template\n",
      "or from the matplotlib source distribution\n",
      "\n",
      "Bad key mathtext.fallback_to_cm in file C:\\Users\\marlin.arnz\\AppData\\Local\\Continuum\\miniconda3\\envs\\quetzal\\lib\\site-packages\\matplotlib\\mpl-data\\stylelib\\_classic_test.mplstyle, line 155 ('mathtext.fallback_to_cm : True  # When True, use symbols from the Computer Modern')\n",
      "You probably need to get an updated matplotlibrc file from\n",
      "https://github.com/matplotlib/matplotlib/blob/v3.5.2/matplotlibrc.template\n",
      "or from the matplotlib source distribution\n",
      "\n",
      "Bad key savefig.jpeg_quality in file C:\\Users\\marlin.arnz\\AppData\\Local\\Continuum\\miniconda3\\envs\\quetzal\\lib\\site-packages\\matplotlib\\mpl-data\\stylelib\\_classic_test.mplstyle, line 418 ('savefig.jpeg_quality: 95       # when a jpeg is saved, the default quality parameter.')\n",
      "You probably need to get an updated matplotlibrc file from\n",
      "https://github.com/matplotlib/matplotlib/blob/v3.5.2/matplotlibrc.template\n",
      "or from the matplotlib source distribution\n",
      "\n",
      "Bad key keymap.all_axes in file C:\\Users\\marlin.arnz\\AppData\\Local\\Continuum\\miniconda3\\envs\\quetzal\\lib\\site-packages\\matplotlib\\mpl-data\\stylelib\\_classic_test.mplstyle, line 466 ('keymap.all_axes : a                 # enable all axes')\n",
      "You probably need to get an updated matplotlibrc file from\n",
      "https://github.com/matplotlib/matplotlib/blob/v3.5.2/matplotlibrc.template\n",
      "or from the matplotlib source distribution\n",
      "\n",
      "Bad key animation.avconv_path in file C:\\Users\\marlin.arnz\\AppData\\Local\\Continuum\\miniconda3\\envs\\quetzal\\lib\\site-packages\\matplotlib\\mpl-data\\stylelib\\_classic_test.mplstyle, line 477 ('animation.avconv_path: avconv     # Path to avconv binary. Without full path')\n",
      "You probably need to get an updated matplotlibrc file from\n",
      "https://github.com/matplotlib/matplotlib/blob/v3.5.2/matplotlibrc.template\n",
      "or from the matplotlib source distribution\n",
      "\n",
      "Bad key animation.avconv_args in file C:\\Users\\marlin.arnz\\AppData\\Local\\Continuum\\miniconda3\\envs\\quetzal\\lib\\site-packages\\matplotlib\\mpl-data\\stylelib\\_classic_test.mplstyle, line 479 ('animation.avconv_args:            # Additional arguments to pass to avconv')\n",
      "You probably need to get an updated matplotlibrc file from\n",
      "https://github.com/matplotlib/matplotlib/blob/v3.5.2/matplotlibrc.template\n",
      "or from the matplotlib source distribution\n"
     ]
    }
   ],
   "source": [
    "import sys # for automation and parallelisation\n",
    "manual, scenario = (True, 'base') if 'ipykernel' in sys.argv[0] else (False, sys.argv[1])\n",
    "if manual:\n",
    "    %matplotlib inline"
   ]
  },
  {
   "cell_type": "code",
   "execution_count": 2,
   "id": "12b8bed7",
   "metadata": {},
   "outputs": [],
   "source": [
    "import os\n",
    "import pandas as pd\n",
    "import numpy as np\n",
    "import matplotlib.pyplot as plt\n",
    "from quetzal.model import stepmodel\n",
    "from quetzal.io import excel\n",
    "import biogeme.database as db\n",
    "import biogeme.biogeme as bio\n",
    "import biogeme.models as models\n",
    "from biogeme import expressions as ex"
   ]
  },
  {
   "cell_type": "code",
   "execution_count": 3,
   "id": "524fd039",
   "metadata": {},
   "outputs": [],
   "source": [
    "model_path = '../model/' + scenario + '/'\n",
    "input_path = '../input/'\n",
    "input_static_path = '../input_static/'\n",
    "zone_data_path = '../input_static/zones_Gebietsaenderungen/'\n",
    "output_path = '../output/'"
   ]
  },
  {
   "cell_type": "code",
   "execution_count": 4,
   "id": "d1e2ff11",
   "metadata": {},
   "outputs": [],
   "source": [
    "# Load parameters for settings\n",
    "params = excel.read_var(file='../input/parameters.xls', scenario=scenario)"
   ]
  },
  {
   "cell_type": "markdown",
   "id": "4eac6c90",
   "metadata": {
    "tags": []
   },
   "source": [
    "# Calibration: Generation\n",
    "\n",
    "## Requires MiD data\n",
    "\n",
    "## Saves parameters and aggregated base year generation variables\n",
    "\n",
    "(Ortuzar 2011 [S. 166], Daly 1997): Define groups of individuals and determine for each group the number of trips per purpose.\n",
    "\n",
    "Here the group of individuals is given by car availability and the urbanisation degree of the home zone. The deterimination of the number of trip per purpose is done by taking the mean value of number of reported trips per person in MiD2017. "
   ]
  },
  {
   "cell_type": "code",
   "execution_count": 5,
   "id": "d42c007a",
   "metadata": {},
   "outputs": [],
   "source": [
    "# Choose purposes for which a logit model will be estimated\n",
    "purposes = ['buy/execute', 'leisure', 'accompany']"
   ]
  },
  {
   "cell_type": "code",
   "execution_count": 6,
   "id": "19f4464b",
   "metadata": {},
   "outputs": [],
   "source": [
    "sm = stepmodel.read_json(model_path + 'de_zones')"
   ]
  },
  {
   "cell_type": "markdown",
   "id": "700bdbea",
   "metadata": {},
   "source": [
    "### Load MiD data"
   ]
  },
  {
   "cell_type": "code",
   "execution_count": 7,
   "id": "f6b2790b",
   "metadata": {},
   "outputs": [
    {
     "data": {
      "text/plain": [
       "(316361, 12)"
      ]
     },
     "execution_count": 7,
     "metadata": {},
     "output_type": "execute_result"
    }
   ],
   "source": [
    "# Load data on persons from MiD survey\n",
    "cols = ['HP_ID_Reg', 'P_HOCH', 'P_GEW', 'P_RBW_ANZ', 'W_ANZWW', 'auto', 'VBGEM',\n",
    "        'taet', # occupation types with NaN values\n",
    "        'oek_status', # categories 1 (very low) to 5 (very high)\n",
    "        'P_FKARTE', # ticket types with NaN values\n",
    "        'hhgr_gr2', # 1, 2, 3, or 3+ persons in household\n",
    "        'pkwdicht_krs' # 6 cats of car density in NUTS3 zone + NaN (95)\n",
    "       ]\n",
    "persons = pd.read_csv(input_path + 'transport_demand/MiD2017_Regional_Personen.csv',\n",
    "                      sep=';', decimal=',', usecols=cols)\n",
    "# Rename relevant columns\n",
    "persons = persons[cols]\n",
    "persons.columns = ['P_ID', 'P_HOCH', 'weight', 'work_trips', 'other_trips', 'car_av', 'origin',\n",
    "                   'occupation', 'hh_income', 'pt_ticket', 'hh_size', 'car_dens']\n",
    "persons.shape"
   ]
  },
  {
   "cell_type": "code",
   "execution_count": 8,
   "id": "313e9dc1",
   "metadata": {},
   "outputs": [
    {
     "data": {
      "text/plain": [
       "(316361, 18)"
      ]
     },
     "execution_count": 8,
     "metadata": {},
     "output_type": "execute_result"
    }
   ],
   "source": [
    "# Add the number of trips by purpose\n",
    "# Either the whole trips table\n",
    "'''trips = pd.read_csv(input_path + 'transport_demand/MiD2017_Regional_Wege.csv',\n",
    "                    sep=';', decimal=',', usecols=['HP_ID_Reg', 'hwzweck1']\n",
    "                   ).rename(columns={'HP_ID_Reg': 'P_ID'})\n",
    "purpose_mid_model_dict = {1: 'commuting', 2: 'business', 3: 'education',\n",
    "                          4: 'buy/execute', 5: 'buy/execute', 6: 'leisure',\n",
    "                          7: 'accompany', 99: 'leisure'}\n",
    "trips['purpose_model'] = trips['hwzweck1'].map(purpose_mid_model_dict)'''\n",
    "# Or take the filtered trips without very short ones\n",
    "# Must be compatible with inner/inter-zonal choice probabilities\n",
    "trips = pd.read_csv(input_path + 'transport_demand/calibration_all_trips_MiD2017.csv',\n",
    "                    usecols=['P_ID', 'purpose_model'])\n",
    "# Merge person informations with number of trips by purpose\n",
    "trips = trips.groupby(['P_ID', 'purpose_model']).size().unstack('purpose_model').fillna(0).astype(int)\n",
    "persons = persons.merge(trips, how='outer', left_on='P_ID', right_index=True)\n",
    "persons.shape"
   ]
  },
  {
   "cell_type": "code",
   "execution_count": 9,
   "id": "1a10f168",
   "metadata": {},
   "outputs": [
    {
     "data": {
      "text/plain": [
       "82.17568400000002"
      ]
     },
     "execution_count": 9,
     "metadata": {},
     "output_type": "execute_result"
    }
   ],
   "source": [
    "# Total population of Germany in 2017 (million)\n",
    "total_pop_MiD = persons['P_HOCH'].sum() / 1e6\n",
    "total_pop_MiD"
   ]
  },
  {
   "cell_type": "code",
   "execution_count": 10,
   "id": "16b99e8e",
   "metadata": {},
   "outputs": [
    {
     "name": "stdout",
     "output_type": "stream",
     "text": [
      "Average trips per day from persons table (n=410): 7.575609756097561\n",
      "Average trips per day from trips table (n=115294): 2.0937696336061165\n"
     ]
    }
   ],
   "source": [
    "# Compare number of trips from persons table and trips table\n",
    "# Take average values by person\n",
    "# Filter persons with NaN values respectively\n",
    "mask_persons = (persons['work_trips']<=50) & (persons['other_trips']<=50)\n",
    "print('Average trips per day from persons table (n={}): {}'.format(\n",
    "    len(persons.loc[mask_persons]),\n",
    "    persons.loc[mask_persons, ['work_trips', 'other_trips']].sum(axis=1).mean()))\n",
    "mask_trips = persons[list(trips.columns)].notna().all(axis=1)\n",
    "av_total_trips_MiD = (persons.loc[mask_trips, list(trips.columns)].sum(axis=1) * persons['weight']).mean()\n",
    "print('Average trips per day from trips table (n={}): {}'.format(\n",
    "    len(persons.loc[mask_trips]), av_total_trips_MiD))"
   ]
  },
  {
   "cell_type": "code",
   "execution_count": 11,
   "id": "858d4706",
   "metadata": {},
   "outputs": [
    {
     "data": {
      "text/plain": [
       "172.05695178001204"
      ]
     },
     "execution_count": 11,
     "metadata": {},
     "output_type": "execute_result"
    }
   ],
   "source": [
    "# Total trips per day from trips table (million)\n",
    "# Full count, incl. very short trips: 260 mio.\n",
    "total_pop_MiD * av_total_trips_MiD"
   ]
  },
  {
   "cell_type": "markdown",
   "id": "04bb7677",
   "metadata": {},
   "source": [
    "### Cleanse the data"
   ]
  },
  {
   "cell_type": "code",
   "execution_count": 12,
   "id": "44d0a6a7",
   "metadata": {},
   "outputs": [
    {
     "data": {
      "text/plain": [
       "(295993, 20)"
      ]
     },
     "execution_count": 12,
     "metadata": {},
     "output_type": "execute_result"
    }
   ],
   "source": [
    "# Translate origin zone keys in model zones\n",
    "# Load official data sources that describe changes\n",
    "# in ARS codes within one year (Gebietsänderungen)\n",
    "col_names = ['n', 'level', 'old_ARS', 'old_AGS', 'old_name',\n",
    "             'change', 'area', 'population', 'new_ARS', 'new_AGS',\n",
    "             'new_name', 'date1', 'date2']\n",
    "def update_ARS_until(end, ars):\n",
    "    for year in range(2016, end+1):\n",
    "        changes = pd.read_excel(zone_data_path + str(year) + '.xlsx',\n",
    "                                sheet_name='Gebietsaenderungen {}'.format(year),\n",
    "                                header=6, skipfooter=8, index_col=None,\n",
    "                                names=col_names, na_filter=False)\n",
    "        changes = changes.loc[(changes['level']=='Gemeindeverband')\n",
    "                              & (changes['old_ARS']!=changes['new_ARS'])]\n",
    "        changes['old_ARS'] = changes['old_ARS'].astype(int)\n",
    "        changes['new_ARS'] = changes['new_ARS'].astype(int)\n",
    "        update_dict = changes.set_index('old_ARS')['new_ARS'].to_dict()\n",
    "        ars = ars.replace(update_dict)\n",
    "    return ars\n",
    "# Update zone IDs\n",
    "persons['origin'] = update_ARS_until(2022, persons['origin'])\n",
    "# Merge population count and urb degree from model zones\n",
    "persons = persons.merge(sm.zones[['population', 'urbanisation']], how='inner', # drop persons outside of model zones\n",
    "                        left_on='origin', right_index=True)\n",
    "persons.shape"
   ]
  },
  {
   "cell_type": "code",
   "execution_count": 14,
   "id": "83cedf0a",
   "metadata": {},
   "outputs": [],
   "source": [
    "# Add accessibility\n",
    "# Load inter-zonal composite cost from mode choice step\n",
    "cc = pd.read_csv(output_path + scenario + '/mode_choice_od_composite_cost.csv')\n",
    "cc.set_index(['origin', 'destination'], inplace=True)\n",
    "# Rename segments to integer values\n",
    "cc.columns = pd.MultiIndex.from_tuples(\n",
    "    [(seg.split('_')[0], {'no': 0, 'car': 1}[seg.split('_')[1]])\n",
    "     for seg in cc.columns],\n",
    "    names=['purpose_model', 'car_av'])\n",
    "# Reshape the table into a mergable format\n",
    "# Use the mean CC to all destinations as accessibility\n",
    "cc = cc.unstack('destination').stack('purpose_model').stack('car_av').mean(axis=1)\n",
    "cc = cc.unstack('purpose_model')\n",
    "# Merge\n",
    "for p in purposes:\n",
    "    persons['acc_'+p] = persons.merge(cc[[p]], how='left', left_on=['origin', 'car_av'],\n",
    "                                      right_index=True)[p+'_y']\n",
    "    #persons['acc_'+p] = persons['acc_'+p].fillna(persons['acc_'+p].max())\n",
    "cc.shape"
   ]
  },
  {
   "cell_type": "code",
   "execution_count": 18,
   "id": "d23d0cbd",
   "metadata": {},
   "outputs": [
    {
     "data": {
      "text/plain": [
       "(113966, 23)"
      ]
     },
     "execution_count": 18,
     "metadata": {},
     "output_type": "execute_result"
    }
   ],
   "source": [
    "# Drop relevant NaN data\n",
    "persons = persons.loc[persons['car_av'].isin([0,1])]\n",
    "persons = persons.loc[persons['occupation']!=9]\n",
    "persons = persons.loc[~persons.isna().any(axis=1)] # might be CC due to sampling of OD set\n",
    "persons.shape"
   ]
  },
  {
   "cell_type": "code",
   "execution_count": 19,
   "id": "374ae04a",
   "metadata": {},
   "outputs": [],
   "source": [
    "# Create different relevant occupations\n",
    "persons['is_working'] = (persons['occupation']==1).astype(int)\n",
    "persons['is_learning'] = (persons['occupation']==2).astype(int)\n",
    "persons['is_caring'] = (persons['occupation']==3).astype(int)"
   ]
  },
  {
   "cell_type": "code",
   "execution_count": 20,
   "id": "1022e1ec",
   "metadata": {},
   "outputs": [],
   "source": [
    "# Create kardinal PT subscription categories\n",
    "# Scale is the amount of perceived reduction for a ticket\n",
    "persons['pt_ticket'] = persons['pt_ticket'].map(\n",
    "    {1:0, 2:0.1, 3:0.2, 4:0.5, 5:0.9, 6:0, 7:0, 99:0, 200:0}\n",
    ")"
   ]
  },
  {
   "cell_type": "code",
   "execution_count": 21,
   "id": "606adbd6",
   "metadata": {},
   "outputs": [],
   "source": [
    "# Drop persons with missing choice variable\n",
    "persons = persons.loc[persons[purposes].notna().all(axis=1)]\n",
    "persons[purposes] = persons[purposes].astype(int)"
   ]
  },
  {
   "cell_type": "code",
   "execution_count": 22,
   "id": "8d830519",
   "metadata": {},
   "outputs": [],
   "source": [
    "# Divide number of trips by two, because half of them is the way back\n",
    "for p in purposes:\n",
    "    persons[p] = np.ceil(persons[p] / 2).astype(int)"
   ]
  },
  {
   "cell_type": "code",
   "execution_count": 23,
   "id": "3798938f",
   "metadata": {},
   "outputs": [
    {
     "data": {
      "image/png": "[encoded data removed]",
      "text/plain": [
       "<Figure size 648x432 with 6 Axes>"
      ]
     },
     "metadata": {
      "needs_background": "light"
     },
     "output_type": "display_data"
    }
   ],
   "source": [
    "# Number of trips per demand segment\n",
    "fig, ax = plt.subplots(nrows=2, ncols=len(purposes), figsize=(len(purposes)*3,6),\n",
    "                       sharex='col', sharey='row')\n",
    "for i in range(len(purposes)):\n",
    "    bins = int(persons[purposes[i]].max())\n",
    "    for car in [0,1]:\n",
    "        persons.loc[persons['car_av']==car, purposes[i]].hist(bins=bins, log=True, ax=ax[car,i])\n",
    "        ax[car,i].set_title(purposes[i]+'_'+str(car))"
   ]
  },
  {
   "cell_type": "markdown",
   "id": "e67b9fd5",
   "metadata": {},
   "source": [
    "## Build a choice model\n",
    "\n",
    "Choice variable is the number of trips. The model is segmented in\n",
    "* population segments: car availability in household\n",
    "* trip purposes\n",
    "\n",
    "$V=ASC_0+log(\\text{pop})*\\beta^{pop}+\\text{hh size}*\\beta^{size}+\\text{hh income}*\\beta^{in}+\\text{is working}*\\beta^{work}+\\text{is learning}*\\beta^{learn}+\\text{is caring}*\\beta^{care}+\\text{pt ticket}*\\beta^{ticket}$"
   ]
  },
  {
   "cell_type": "code",
   "execution_count": 25,
   "id": "06db81b7",
   "metadata": {},
   "outputs": [],
   "source": [
    "# Result containers\n",
    "betas = pd.DataFrame()\n",
    "t_tests = pd.DataFrame()\n",
    "general = pd.DataFrame()\n",
    "# Save utility functions for later\n",
    "Vs = {}\n",
    "\n",
    "# Number of choices = max_trips-1 (because of 0 trips)\n",
    "max_trips = 6\n",
    "\n",
    "car_names = {0: '_no_car', 1: '_car'}\n",
    "for car in [0,1]:\n",
    "    # create a database for this population segment\n",
    "    database = db.Database(car_names[car][1:],\n",
    "                           persons.loc[persons['car_av']==car].drop('origin', axis=1).copy())\n",
    "    globals().update(database.variables)\n",
    "    Vs[car] = {}\n",
    "    \n",
    "    # Define parameters\n",
    "    for p in purposes:\n",
    "        ASC = {0: ex.Beta('ASC_0', 0, None, None, 0)} # The only free one\n",
    "        ASC.update({j: ex.Beta('ASC_'+str(j), 0, None, None, 1) for j in range(1, max_trips)})\n",
    "        b_pop = {j: ex.Beta('b_pop_'+str(j), 0, None, None, 0) for j in range(max_trips)}\n",
    "        b_size = {j: ex.Beta('b_size_'+str(j), 0, None, None, 0) for j in range(max_trips)}\n",
    "        b_in = {j: ex.Beta('b_in_'+str(j), 0, None, None, 0) for j in range(max_trips)}\n",
    "        b_work = {j: ex.Beta('b_work_'+str(j), 0, None, None, 0) for j in range(max_trips)}\n",
    "        b_learn = {j: ex.Beta('b_learn_'+str(j), 0, None, None, 0) for j in range(max_trips)}\n",
    "        b_care = {j: ex.Beta('b_care_'+str(j), 0, None, None, 0) for j in range(max_trips)}\n",
    "        b_ticket = {j: ex.Beta('b_ticket_'+str(j), 0, None, None, 0) for j in range(max_trips)}\n",
    "        b_acc = {j: ex.Beta('b_acc_'+str(j), 0, None, None, 0) for j in range(max_trips)}\n",
    "    \n",
    "    # Define the utility formulation by purpose\n",
    "    '''Vs[car]['commuting'] = {j:\n",
    "         ASC[j]\n",
    "         + ex.log(1+population)*b_pop[j]\n",
    "         #+ hh_size * b_size[j]\n",
    "         + hh_income * b_in[j]\n",
    "         + is_working * b_work[j]\n",
    "         + pt_ticket * b_ticket[j]\n",
    "         + acc_commuting * b_acc[j]\n",
    "         for j in range(max_trips)}\n",
    "    Vs[car]['business'] = {j:\n",
    "         ASC[j]\n",
    "         + ex.log(1+population)*b_pop[j]\n",
    "         + hh_size * b_size[j]\n",
    "         + hh_income * b_in[j]\n",
    "         + is_working * b_work[j]\n",
    "         + is_learning * b_learn[j]\n",
    "         + is_caring * b_care[j]\n",
    "         + pt_ticket * b_ticket[j]\n",
    "         + acc_business * b_acc[j]\n",
    "         for j in range(max_trips)}\n",
    "    Vs[car]['education'] = {j:\n",
    "         ASC[j]\n",
    "         + ex.log(1+population)*b_pop[j]\n",
    "         + hh_size * b_size[j]\n",
    "         + hh_income * b_in[j]\n",
    "         + is_learning * b_learn[j]\n",
    "         + pt_ticket * b_ticket[j]\n",
    "         + acc_education * b_acc[j]\n",
    "         for j in range(max_trips)}'''\n",
    "    Vs[car]['buy/execute'] = {j:\n",
    "         ASC[j]\n",
    "         + ex.log(1+population)*b_pop[j]\n",
    "         + hh_size * b_size[j]\n",
    "         + hh_income * b_in[j]\n",
    "         #+ is_working * b_work[j]\n",
    "         #+ is_learning * b_learn[j]\n",
    "         #+ is_caring * b_care[j]\n",
    "         #+ pt_ticket * b_ticket[j]\n",
    "         + globals()['acc_buy/execute'] * b_acc[j]\n",
    "         for j in range(max_trips)}\n",
    "    Vs[car]['leisure'] = {j:\n",
    "         ASC[j]\n",
    "         + ex.log(1+population)*b_pop[j]\n",
    "         + hh_size * b_size[j]\n",
    "         + hh_income * b_in[j]\n",
    "         + is_working * b_work[j]\n",
    "         + is_learning * b_learn[j]\n",
    "         + is_caring * b_care[j]\n",
    "         #+ pt_ticket * b_ticket[j]\n",
    "         + acc_leisure * b_acc[j]\n",
    "         for j in range(max_trips)}\n",
    "    Vs[car]['accompany'] = {j:\n",
    "         ASC[j]\n",
    "         + ex.log(1+population)*b_pop[j]\n",
    "         + hh_size * b_size[j]\n",
    "         + hh_income * b_in[j]\n",
    "         + is_learning * b_learn[j]\n",
    "         + is_caring * b_care[j]\n",
    "         + pt_ticket * b_ticket[j]\n",
    "         + acc_accompany * b_acc[j]\n",
    "         for j in range(max_trips)}\n",
    "\n",
    "    for p in purposes:\n",
    "        # Remove observations with more trips than the maximum\n",
    "        database.remove(globals()[p] >= max_trips)\n",
    "        \n",
    "        # Run the estimation\n",
    "        logprob = models.loglogit(Vs[car][p], None, globals()[p])\n",
    "        formulas = {'loglike': logprob, 'weight': weight} # give weights to the estimator\n",
    "        model = bio.BIOGEME(database, formulas, numberOfThreads=4)\n",
    "        model.modelName = p + car_names[car]\n",
    "        model.generate_html = False\n",
    "        model.generate_pickle = False\n",
    "        model.saveIterations = False\n",
    "        results = model.estimate()\n",
    "        betas[model.modelName] = results.getEstimatedParameters()['Value']\n",
    "        t_tests[model.modelName] = np.abs(results.getEstimatedParameters()['Rob. t-test'])"
   ]
  },
  {
   "cell_type": "code",
   "execution_count": null,
   "id": "21199e03",
   "metadata": {},
   "outputs": [],
   "source": [
    "# Save betas\n",
    "betas.to_csv(input_path + 'generation_betas.csv')\n",
    "t_tests.to_csv(input_path + 'generation_t_tests.csv')"
   ]
  },
  {
   "cell_type": "code",
   "execution_count": 30,
   "id": "d4dc727f",
   "metadata": {},
   "outputs": [],
   "source": [
    "# Save aggregated base year variables\n",
    "persons['zone_agg'] = persons['origin'].astype(str).str[:5]\n",
    "base_data = persons.groupby(['urbanisation', 'zone_agg']).agg(\n",
    "    {col: 'mean' for col in ['hh_size', 'hh_income', 'is_working', 'is_learning', 'is_caring', 'pt_ticket']})\n",
    "# Add population\n",
    "sm.zones['zone_agg'] = sm.zones['FID'].astype(str).str[:5]\n",
    "base_data['population'] = sm.zones.groupby(['urbanisation', 'zone_agg'])['population'].sum()\n",
    "base_data.to_csv(input_path + 'generation_base_data.csv')"
   ]
  }
 ],
 "metadata": {
  "kernelspec": {
   "display_name": "Python 3 (ipykernel)",
   "language": "python",
   "name": "python3"
  },
  "language_info": {
   "codemirror_mode": {
    "name": "ipython",
    "version": 3
   },
   "file_extension": ".py",
   "mimetype": "text/x-python",
   "name": "python",
   "nbconvert_exporter": "python",
   "pygments_lexer": "ipython3",
   "version": "3.10.14"
  }
 },
 "nbformat": 4,
 "nbformat_minor": 5
}
