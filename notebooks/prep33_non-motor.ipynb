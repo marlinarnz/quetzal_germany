{
 "cells": [
  {
   "cell_type": "code",
   "execution_count": 1,
   "metadata": {},
   "outputs": [],
   "source": [
    "import sys # for automation and parallelisation\n",
    "manual, scenario = (True, 'base') if 'ipykernel' in sys.argv[0] else (False, sys.argv[1])\n",
    "if manual:\n",
    "    %matplotlib inline"
   ]
  },
  {
   "cell_type": "code",
   "execution_count": 2,
   "metadata": {},
   "outputs": [],
   "source": [
    "import os\n",
    "import pandas as pd\n",
    "import numpy as np\n",
    "import geopandas as gpd\n",
    "from tqdm import tqdm\n",
    "from syspy.skims import skims\n",
    "from quetzal.model import stepmodel\n",
    "from quetzal.engine import engine\n",
    "from quetzal.io import excel"
   ]
  },
  {
   "cell_type": "markdown",
   "metadata": {},
   "source": [
    "# Preparation of the LoS tables\n",
    "## Corrects footpaths in the LoS table\n",
    "## Needs PT LoS table and footpaths"
   ]
  },
  {
   "cell_type": "code",
   "execution_count": 3,
   "metadata": {},
   "outputs": [],
   "source": [
    "input_path = '../input_static/spatial_'\n",
    "output_path = '../output/'\n",
    "model_path = '../model/' + scenario + '/'"
   ]
  },
  {
   "cell_type": "code",
   "execution_count": 4,
   "metadata": {},
   "outputs": [],
   "source": [
    "# Load scenario parameters\n",
    "params = excel.read_var(file='../input/parameters.xls', scenario=scenario)"
   ]
  },
  {
   "cell_type": "code",
   "execution_count": 5,
   "metadata": {},
   "outputs": [
    {
     "name": "stderr",
     "output_type": "stream",
     "text": [
      "pt_los: 100%|████████████████████████████████████████████████████████████████████████████| 1/1 [00:02<00:00,  2.45s/it]\n"
     ]
    }
   ],
   "source": [
    "sm = stepmodel.read_zippedpickles(model_path + 'de_pt_los')\n",
    "try:\n",
    "    ae = stepmodel.read_json(model_path + 'de_pt_access_egress')\n",
    "    z = stepmodel.read_json(model_path + 'de_zones')\n",
    "except FileNotFoundError:\n",
    "    ae = stepmodel.read_json(model_path.replace(scenario, 'base') + 'de_pt_access_egress')\n",
    "    z = stepmodel.read_json(model_path.replace(scenario, 'base') + 'de_zones')\n",
    "ae.zones = z.zones"
   ]
  },
  {
   "cell_type": "code",
   "execution_count": 6,
   "metadata": {},
   "outputs": [],
   "source": [
    "# make sure that time is in hours\n",
    "if sm.pt_los['time'].mean() > 3600:\n",
    "    sm.pt_los['time'] = sm.pt_los['time'] / 3600"
   ]
  },
  {
   "cell_type": "code",
   "execution_count": 7,
   "metadata": {},
   "outputs": [],
   "source": [
    "# Drop walking links that use access-egress links\n",
    "sm.pt_los = sm.pt_los.loc[sm.pt_los['route_type']!='walk']"
   ]
  },
  {
   "cell_type": "code",
   "execution_count": 8,
   "metadata": {},
   "outputs": [
    {
     "data": {
      "text/html": [
       "<div>\n",
       "<style scoped>\n",
       "    .dataframe tbody tr th:only-of-type {\n",
       "        vertical-align: middle;\n",
       "    }\n",
       "\n",
       "    .dataframe tbody tr th {\n",
       "        vertical-align: top;\n",
       "    }\n",
       "\n",
       "    .dataframe thead th {\n",
       "        text-align: right;\n",
       "    }\n",
       "</style>\n",
       "<table border=\"1\" class=\"dataframe\">\n",
       "  <thead>\n",
       "    <tr style=\"text-align: right;\">\n",
       "      <th></th>\n",
       "      <th>origin</th>\n",
       "      <th>destination</th>\n",
       "      <th>link_path</th>\n",
       "      <th>ntransfers</th>\n",
       "      <th>length</th>\n",
       "      <th>access_time</th>\n",
       "      <th>footpath_time</th>\n",
       "      <th>in_vehicle_time</th>\n",
       "      <th>waiting_time</th>\n",
       "      <th>time</th>\n",
       "      <th>...</th>\n",
       "      <th>business_no_car_price</th>\n",
       "      <th>business_car_price</th>\n",
       "      <th>education_no_car_price</th>\n",
       "      <th>education_car_price</th>\n",
       "      <th>buy/execute_no_car_price</th>\n",
       "      <th>buy/execute_car_price</th>\n",
       "      <th>leisure_no_car_price</th>\n",
       "      <th>leisure_car_price</th>\n",
       "      <th>accompany_no_car_price</th>\n",
       "      <th>accompany_car_price</th>\n",
       "    </tr>\n",
       "  </thead>\n",
       "  <tbody>\n",
       "    <tr>\n",
       "      <th>299167</th>\n",
       "      <td>120610572</td>\n",
       "      <td>150840315</td>\n",
       "      <td>[bus_1327107, bus_1327108, bus_1252388, bus_12...</td>\n",
       "      <td>5</td>\n",
       "      <td>418308</td>\n",
       "      <td>856</td>\n",
       "      <td>255</td>\n",
       "      <td>12360</td>\n",
       "      <td>8400</td>\n",
       "      <td>6.075278</td>\n",
       "      <td>...</td>\n",
       "      <td>14.939678</td>\n",
       "      <td>14.939678</td>\n",
       "      <td>14.939678</td>\n",
       "      <td>14.939678</td>\n",
       "      <td>14.939678</td>\n",
       "      <td>14.939678</td>\n",
       "      <td>14.939678</td>\n",
       "      <td>14.939678</td>\n",
       "      <td>14.939678</td>\n",
       "      <td>14.939678</td>\n",
       "    </tr>\n",
       "  </tbody>\n",
       "</table>\n",
       "<p>1 rows × 24 columns</p>\n",
       "</div>"
      ],
      "text/plain": [
       "           origin  destination  \\\n",
       "299167  120610572    150840315   \n",
       "\n",
       "                                                link_path  ntransfers  length  \\\n",
       "299167  [bus_1327107, bus_1327108, bus_1252388, bus_12...           5  418308   \n",
       "\n",
       "        access_time  footpath_time  in_vehicle_time  waiting_time      time  \\\n",
       "299167          856            255            12360          8400  6.075278   \n",
       "\n",
       "        ... business_no_car_price business_car_price  education_no_car_price  \\\n",
       "299167  ...             14.939678          14.939678               14.939678   \n",
       "\n",
       "        education_car_price  buy/execute_no_car_price  buy/execute_car_price  \\\n",
       "299167            14.939678                 14.939678              14.939678   \n",
       "\n",
       "        leisure_no_car_price  leisure_car_price  accompany_no_car_price  \\\n",
       "299167             14.939678          14.939678               14.939678   \n",
       "\n",
       "        accompany_car_price  \n",
       "299167            14.939678  \n",
       "\n",
       "[1 rows x 24 columns]"
      ]
     },
     "execution_count": 8,
     "metadata": {},
     "output_type": "execute_result"
    }
   ],
   "source": [
    "sm.pt_los.sample()"
   ]
  },
  {
   "cell_type": "markdown",
   "metadata": {},
   "source": [
    "## Compute mean distances\n",
    "Based on census data: mean population-weighted distance from origin centroid to every population cluster in the destination zone"
   ]
  },
  {
   "cell_type": "code",
   "execution_count": 9,
   "metadata": {},
   "outputs": [
    {
     "name": "stdout",
     "output_type": "stream",
     "text": [
      "47316\n"
     ]
    },
    {
     "data": {
      "text/html": [
       "<div>\n",
       "<style scoped>\n",
       "    .dataframe tbody tr th:only-of-type {\n",
       "        vertical-align: middle;\n",
       "    }\n",
       "\n",
       "    .dataframe tbody tr th {\n",
       "        vertical-align: top;\n",
       "    }\n",
       "\n",
       "    .dataframe thead th {\n",
       "        text-align: right;\n",
       "    }\n",
       "</style>\n",
       "<table border=\"1\" class=\"dataframe\">\n",
       "  <thead>\n",
       "    <tr style=\"text-align: right;\">\n",
       "      <th></th>\n",
       "      <th>a</th>\n",
       "      <th>b</th>\n",
       "      <th>rank</th>\n",
       "      <th>distance</th>\n",
       "      <th>geometry</th>\n",
       "      <th>direction</th>\n",
       "      <th>speed_factor</th>\n",
       "      <th>short_leg_speed</th>\n",
       "      <th>long_leg_speed</th>\n",
       "      <th>speed</th>\n",
       "      <th>time</th>\n",
       "    </tr>\n",
       "  </thead>\n",
       "  <tbody>\n",
       "    <tr>\n",
       "      <th>7910</th>\n",
       "      <td>96729455</td>\n",
       "      <td>96729462</td>\n",
       "      <td>1</td>\n",
       "      <td>2696.884589</td>\n",
       "      <td>LINESTRING (9.813822 50.221623, 9.849565 50.21...</td>\n",
       "      <td>access</td>\n",
       "      <td>2.596577</td>\n",
       "      <td>15</td>\n",
       "      <td>15</td>\n",
       "      <td>15.0</td>\n",
       "      <td>647.252301</td>\n",
       "    </tr>\n",
       "  </tbody>\n",
       "</table>\n",
       "</div>"
      ],
      "text/plain": [
       "             a         b  rank     distance  \\\n",
       "7910  96729455  96729462     1  2696.884589   \n",
       "\n",
       "                                               geometry direction  \\\n",
       "7910  LINESTRING (9.813822 50.221623, 9.849565 50.21...    access   \n",
       "\n",
       "      speed_factor  short_leg_speed  long_leg_speed  speed        time  \n",
       "7910      2.596577               15              15   15.0  647.252301  "
      ]
     },
     "execution_count": 9,
     "metadata": {},
     "output_type": "execute_result"
    }
   ],
   "source": [
    "# Build zone-connecting footpaths\n",
    "foot = engine.ntlegs_from_centroids_and_nodes(\n",
    "    ae.centroids,\n",
    "    ae.centroids,\n",
    "    short_leg_speed=params['pt_access']['speed_bicycle'],\n",
    "    long_leg_speed=params['pt_access']['speed_bicycle'],\n",
    "    threshold=params['pt_access']['catchment_radius_walk'],\n",
    "    n_neighbors=params['access-egress_links']['n_bicycle_between_zones'],\n",
    "    coordinates_unit=ae.coordinates_unit)\n",
    "foot = foot.loc[foot['distance']<=params['access-egress_links']['bicycle_max_dist']]\n",
    "foot = foot.loc[foot['distance']!=0]\n",
    "foot.drop_duplicates(['a', 'b', 'time'], inplace=True)\n",
    "print(len(foot))\n",
    "foot.sample()"
   ]
  },
  {
   "cell_type": "code",
   "execution_count": 10,
   "metadata": {},
   "outputs": [],
   "source": [
    "# Build all columns of LoS table\n",
    "foot = foot[['a', 'b', 'distance']]\n",
    "if 'path' in sm.pt_los.columns:\n",
    "    foot['index'] = foot.index\n",
    "    foot['path'] = [(a,i,b) for a,i,b in zip(foot['a'], foot.index, foot['b'])]\n",
    "    foot.drop('index', axis=1, inplace=True)\n",
    "foot = foot.rename(columns={'a': 'origin', 'b': 'destination', 'distance': 'length'})\n",
    "foot['link_path'] = [[] for _ in range(len(foot))]\n",
    "segments = [s.strip() for s in params['general']['demand_segments'].split(';')]\n",
    "for col in ['ntransfers', 'access_time', 'footpath_time',\n",
    "            'in_vehicle_time', 'waiting_time', 'boarding_time', 'time'\n",
    "           ] + [s+'_price' for s in segments]:\n",
    "    if col in sm.pt_los.columns:\n",
    "        foot[col] = 0\n",
    "foot['route_types'] = [('walk',) for _ in range(len(foot))]\n",
    "foot['route_type'] = 'walk'"
   ]
  },
  {
   "cell_type": "code",
   "execution_count": 11,
   "metadata": {},
   "outputs": [
    {
     "data": {
      "text/plain": [
       "(47316, 24)"
      ]
     },
     "execution_count": 11,
     "metadata": {},
     "output_type": "execute_result"
    }
   ],
   "source": [
    "# Clean\n",
    "foot.drop_duplicates(subset=['origin', 'destination'], inplace=True)\n",
    "foot.reset_index(drop=True, inplace=True)\n",
    "foot.shape"
   ]
  },
  {
   "cell_type": "code",
   "execution_count": 12,
   "metadata": {},
   "outputs": [
    {
     "data": {
      "text/html": [
       "<div>\n",
       "<style scoped>\n",
       "    .dataframe tbody tr th:only-of-type {\n",
       "        vertical-align: middle;\n",
       "    }\n",
       "\n",
       "    .dataframe tbody tr th {\n",
       "        vertical-align: top;\n",
       "    }\n",
       "\n",
       "    .dataframe thead th {\n",
       "        text-align: right;\n",
       "    }\n",
       "</style>\n",
       "<table border=\"1\" class=\"dataframe\">\n",
       "  <thead>\n",
       "    <tr style=\"text-align: right;\">\n",
       "      <th></th>\n",
       "      <th>origin</th>\n",
       "      <th>destination</th>\n",
       "      <th>length</th>\n",
       "      <th>link_path</th>\n",
       "      <th>ntransfers</th>\n",
       "      <th>access_time</th>\n",
       "      <th>footpath_time</th>\n",
       "      <th>in_vehicle_time</th>\n",
       "      <th>waiting_time</th>\n",
       "      <th>time</th>\n",
       "      <th>...</th>\n",
       "      <th>education_no_car_price</th>\n",
       "      <th>education_car_price</th>\n",
       "      <th>buy/execute_no_car_price</th>\n",
       "      <th>buy/execute_car_price</th>\n",
       "      <th>leisure_no_car_price</th>\n",
       "      <th>leisure_car_price</th>\n",
       "      <th>accompany_no_car_price</th>\n",
       "      <th>accompany_car_price</th>\n",
       "      <th>route_types</th>\n",
       "      <th>route_type</th>\n",
       "    </tr>\n",
       "  </thead>\n",
       "  <tbody>\n",
       "    <tr>\n",
       "      <th>44159</th>\n",
       "      <td>84365009</td>\n",
       "      <td>84375005</td>\n",
       "      <td>20189.427411</td>\n",
       "      <td>[]</td>\n",
       "      <td>0</td>\n",
       "      <td>0</td>\n",
       "      <td>0</td>\n",
       "      <td>0</td>\n",
       "      <td>0</td>\n",
       "      <td>0</td>\n",
       "      <td>...</td>\n",
       "      <td>0</td>\n",
       "      <td>0</td>\n",
       "      <td>0</td>\n",
       "      <td>0</td>\n",
       "      <td>0</td>\n",
       "      <td>0</td>\n",
       "      <td>0</td>\n",
       "      <td>0</td>\n",
       "      <td>(walk,)</td>\n",
       "      <td>walk</td>\n",
       "    </tr>\n",
       "  </tbody>\n",
       "</table>\n",
       "<p>1 rows × 24 columns</p>\n",
       "</div>"
      ],
      "text/plain": [
       "         origin  destination        length link_path  ntransfers  access_time  \\\n",
       "44159  84365009     84375005  20189.427411        []           0            0   \n",
       "\n",
       "       footpath_time  in_vehicle_time  waiting_time  time  ...  \\\n",
       "44159              0                0             0     0  ...   \n",
       "\n",
       "       education_no_car_price  education_car_price  buy/execute_no_car_price  \\\n",
       "44159                       0                    0                         0   \n",
       "\n",
       "       buy/execute_car_price  leisure_no_car_price  leisure_car_price  \\\n",
       "44159                      0                     0                  0   \n",
       "\n",
       "       accompany_no_car_price  accompany_car_price  route_types  route_type  \n",
       "44159                       0                    0      (walk,)        walk  \n",
       "\n",
       "[1 rows x 24 columns]"
      ]
     },
     "execution_count": 12,
     "metadata": {},
     "output_type": "execute_result"
    }
   ],
   "source": [
    "foot.sample()"
   ]
  },
  {
   "cell_type": "code",
   "execution_count": 13,
   "metadata": {},
   "outputs": [
    {
     "data": {
      "image/png": "[encoded data removed]",
      "text/plain": [
       "<Figure size 640x480 with 1 Axes>"
      ]
     },
     "metadata": {},
     "output_type": "display_data"
    }
   ],
   "source": [
    "# Centroid distances\n",
    "if manual: foot['length'].hist(bins=50)"
   ]
  },
  {
   "cell_type": "code",
   "execution_count": 14,
   "metadata": {},
   "outputs": [],
   "source": [
    "# Generate time in hours\n",
    "foot['length'] = foot['length'].fillna(foot['length'].mean())\n",
    "foot['time'] = foot['length'] / (params['cycling']['speed'] * 1000)\n",
    "foot['time'] = foot['time'].clip(lower=params['cycling']['min_time']) # add a minimum\n",
    "# Apply cycling highways policy\n",
    "min_popdens = params['cycling']['highways_min_popdens']\n",
    "if min_popdens > 0:\n",
    "    conn_zones = ae.zones.loc[(ae.zones['population'] / ae.zones['area']) >= min_popdens].index\n",
    "    foot.loc[(foot['origin'].isin(conn_zones)) & (foot['destination'].isin(conn_zones)),\n",
    "             'time'] *= 1 + params['cycling']['highways_speed_increase']\n",
    "if 'footpath_time' in sm.pt_los.columns:\n",
    "    foot['footpath_time'] = foot['time']"
   ]
  },
  {
   "cell_type": "code",
   "execution_count": 15,
   "metadata": {},
   "outputs": [
    {
     "data": {
      "image/png": "[encoded data removed]",
      "text/plain": [
       "<Figure size 640x480 with 1 Axes>"
      ]
     },
     "metadata": {},
     "output_type": "display_data"
    }
   ],
   "source": [
    "if manual: (foot['time']).hist(bins=50) # in h"
   ]
  },
  {
   "cell_type": "markdown",
   "metadata": {},
   "source": [
    "## Save"
   ]
  },
  {
   "cell_type": "code",
   "execution_count": 16,
   "metadata": {},
   "outputs": [],
   "source": [
    "# Make DataFrame lighter\n",
    "cols = ['length']\n",
    "foot[cols] = foot[cols].astype(int)"
   ]
  },
  {
   "cell_type": "code",
   "execution_count": 17,
   "metadata": {},
   "outputs": [],
   "source": [
    "# Add to LoS table\n",
    "# Align the OD sets\n",
    "for df in [foot, sm.pt_los]:\n",
    "    df['od'] = list(df[['origin', 'destination']].values)\n",
    "    df['od'] = df['od'].apply(tuple)\n",
    "foot = foot.loc[foot['od'].isin(sm.pt_los['od'])]\n",
    "# Append non-motorised rows\n",
    "sm.pt_los = pd.concat([sm.pt_los, foot]).reset_index(drop=True)\n",
    "sm.pt_los.drop('od', axis=1, inplace=True)"
   ]
  },
  {
   "cell_type": "code",
   "execution_count": 18,
   "metadata": {},
   "outputs": [],
   "source": [
    "# Drop columns from previous logit model runs\n",
    "sm.pt_los.drop([col for col in sm.pt_los.columns if str(col).startswith('(')\n",
    "               ] + [s+'_time' for s in segments],\n",
    "               axis=1, inplace=True, errors='ignore')"
   ]
  },
  {
   "cell_type": "code",
   "execution_count": 19,
   "metadata": {},
   "outputs": [
    {
     "name": "stderr",
     "output_type": "stream",
     "text": [
      "pt_los: 100%|████████████████████████████████████████████████████████████████████████████| 7/7 [00:13<00:00,  1.86s/it]\n"
     ]
    }
   ],
   "source": [
    "sm.to_zippedpickles(model_path + 'de_pt_los', only_attributes=['pt_los'])"
   ]
  }
 ],
 "metadata": {
  "kernelspec": {
   "display_name": "Python 3 (ipykernel)",
   "language": "python",
   "name": "python3"
  },
  "language_info": {
   "codemirror_mode": {
    "name": "ipython",
    "version": 3
   },
   "file_extension": ".py",
   "mimetype": "text/x-python",
   "name": "python",
   "nbconvert_exporter": "python",
   "pygments_lexer": "ipython3",
   "version": "3.10.14"
  }
 },
 "nbformat": 4,
 "nbformat_minor": 4
}
