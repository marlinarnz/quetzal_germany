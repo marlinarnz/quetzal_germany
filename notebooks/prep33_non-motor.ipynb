{
 "cells": [
  {
   "cell_type": "code",
   "execution_count": null,
   "metadata": {},
   "outputs": [],
   "source": [
    "import sys # for automation and parallelisation\n",
    "manual, scenario = (True, 'base') if 'ipykernel' in sys.argv[0] else (False, sys.argv[1])\n",
    "if manual:\n",
    "    %matplotlib inline"
   ]
  },
  {
   "cell_type": "code",
   "execution_count": 2,
   "metadata": {},
   "outputs": [],
   "source": [
    "import os\n",
    "import pandas as pd\n",
    "import numpy as np\n",
    "import geopandas as gpd\n",
    "from tqdm import tqdm\n",
    "from syspy.skims import skims\n",
    "from quetzal.model import stepmodel\n",
    "from quetzal.engine import engine\n",
    "from quetzal.io import excel"
   ]
  },
  {
   "cell_type": "markdown",
   "metadata": {},
   "source": [
    "# Preparation of the LoS tables\n",
    "## Corrects footpaths in the LoS table\n",
    "## Needs PT LoS table and footpaths"
   ]
  },
  {
   "cell_type": "code",
   "execution_count": 3,
   "metadata": {},
   "outputs": [],
   "source": [
    "input_path = '../input_static/spatial_'\n",
    "output_path = '../output/'\n",
    "model_path = '../model/' + scenario + '/'"
   ]
  },
  {
   "cell_type": "code",
   "execution_count": 4,
   "metadata": {},
   "outputs": [],
   "source": [
    "# Load scenario parameters\n",
    "params = excel.read_var(file='../input/parameters.xls', scenario=scenario)"
   ]
  },
  {
   "cell_type": "code",
   "execution_count": 30,
   "metadata": {},
   "outputs": [
    {
     "name": "stderr",
     "output_type": "stream",
     "text": [
      "pt_los: 100%|████████████████████████████████████████████████████████████████████████████| 1/1 [00:00<00:00,  4.01it/s]\n"
     ]
    }
   ],
   "source": [
    "sm = stepmodel.read_zippedpickles(model_path + 'de_pt_los')\n",
    "try:\n",
    "    ae = stepmodel.read_json(model_path + 'de_pt_access_egress')\n",
    "except FileNotFoundError:\n",
    "    ae = stepmodel.read_json(model_path.replace(scenario, 'base') + 'de_pt_access_egress')"
   ]
  },
  {
   "cell_type": "code",
   "execution_count": 8,
   "metadata": {},
   "outputs": [],
   "source": [
    "# Drop walking links that use access-egress links\n",
    "sm.pt_los = sm.pt_los.loc[sm.pt_los['route_type']!='walk']"
   ]
  },
  {
   "cell_type": "code",
   "execution_count": null,
   "metadata": {},
   "outputs": [],
   "source": [
    "# Use saved non-motorised paths, if they exist from a previous run\n",
    "if os.path.exists(model_path + 'de_pt_los_non-motor/'):\n",
    "    w = stepmodel.read_json(model_path + 'de_pt_los_non-motor')\n",
    "    # Align the OD sets\n",
    "    for df in [w.pt_los, sm.pt_los]:\n",
    "        df['od'] = list(df[['origin', 'destination']].values)\n",
    "        df['od'] = df['od'].apply(tuple)\n",
    "    w.pt_los = w.pt_los.loc[w.pt_los['od'].isin(sm.pt_los['od'])]\n",
    "    # Append non-motorised rows\n",
    "    sm.pt_los = sm.pt_los.append(w.pt_los.loc[w.pt_los['route_type']=='walk']).reset_index(drop=True)\n",
    "    sm.pt_los.drop('od', axis=1, inplace=True)\n",
    "    print('Added walking paths from previous run')\n",
    "    sm.to_zippedpickles(model_path + 'de_pt_los', only_attributes=['pt_los'])\n",
    "    raise KeyboardInterrupt # break automation"
   ]
  },
  {
   "cell_type": "code",
   "execution_count": 31,
   "metadata": {},
   "outputs": [
    {
     "data": {
      "text/html": [
       "<div>\n",
       "<style scoped>\n",
       "    .dataframe tbody tr th:only-of-type {\n",
       "        vertical-align: middle;\n",
       "    }\n",
       "\n",
       "    .dataframe tbody tr th {\n",
       "        vertical-align: top;\n",
       "    }\n",
       "\n",
       "    .dataframe thead th {\n",
       "        text-align: right;\n",
       "    }\n",
       "</style>\n",
       "<table border=\"1\" class=\"dataframe\">\n",
       "  <thead>\n",
       "    <tr style=\"text-align: right;\">\n",
       "      <th></th>\n",
       "      <th>origin</th>\n",
       "      <th>destination</th>\n",
       "      <th>route_types</th>\n",
       "      <th>link_path</th>\n",
       "      <th>ntransfers</th>\n",
       "      <th>length</th>\n",
       "      <th>access_time</th>\n",
       "      <th>footpath_time</th>\n",
       "      <th>in_vehicle_time</th>\n",
       "      <th>waiting_time</th>\n",
       "      <th>...</th>\n",
       "      <th>(business_no_car, probability)</th>\n",
       "      <th>(business_car, probability)</th>\n",
       "      <th>(education_no_car, probability)</th>\n",
       "      <th>(education_car, probability)</th>\n",
       "      <th>(buy/execute_no_car, probability)</th>\n",
       "      <th>(buy/execute_car, probability)</th>\n",
       "      <th>(leisure_no_car, probability)</th>\n",
       "      <th>(leisure_car, probability)</th>\n",
       "      <th>(accompany_no_car, probability)</th>\n",
       "      <th>(accompany_car, probability)</th>\n",
       "    </tr>\n",
       "  </thead>\n",
       "  <tbody>\n",
       "    <tr>\n",
       "      <th>39189</th>\n",
       "      <td>DEA1E_4</td>\n",
       "      <td>DEA36_0</td>\n",
       "      <td>(coach, bus)</td>\n",
       "      <td>[bus_739499, bus_739501, bus_739503, bus_96595...</td>\n",
       "      <td>4.0</td>\n",
       "      <td>78669</td>\n",
       "      <td>1391</td>\n",
       "      <td>386.0</td>\n",
       "      <td>4260</td>\n",
       "      <td>5177.0</td>\n",
       "      <td>...</td>\n",
       "      <td>0.066402</td>\n",
       "      <td>0.007049</td>\n",
       "      <td>0.285964</td>\n",
       "      <td>0.132874</td>\n",
       "      <td>0.301563</td>\n",
       "      <td>0.00315</td>\n",
       "      <td>0.185424</td>\n",
       "      <td>0.021407</td>\n",
       "      <td>0.018941</td>\n",
       "      <td>0.001561</td>\n",
       "    </tr>\n",
       "  </tbody>\n",
       "</table>\n",
       "<p>1 rows × 62 columns</p>\n",
       "</div>"
      ],
      "text/plain": [
       "        origin destination   route_types  \\\n",
       "39189  DEA1E_4     DEA36_0  (coach, bus)   \n",
       "\n",
       "                                               link_path  ntransfers  length  \\\n",
       "39189  [bus_739499, bus_739501, bus_739503, bus_96595...         4.0   78669   \n",
       "\n",
       "       access_time  footpath_time  in_vehicle_time  waiting_time  ...  \\\n",
       "39189         1391          386.0             4260        5177.0  ...   \n",
       "\n",
       "       (business_no_car, probability) (business_car, probability)  \\\n",
       "39189                        0.066402                    0.007049   \n",
       "\n",
       "       (education_no_car, probability)  (education_car, probability)  \\\n",
       "39189                         0.285964                      0.132874   \n",
       "\n",
       "       (buy/execute_no_car, probability)  (buy/execute_car, probability)  \\\n",
       "39189                           0.301563                         0.00315   \n",
       "\n",
       "       (leisure_no_car, probability)  (leisure_car, probability)  \\\n",
       "39189                       0.185424                    0.021407   \n",
       "\n",
       "       (accompany_no_car, probability)  (accompany_car, probability)  \n",
       "39189                         0.018941                      0.001561  \n",
       "\n",
       "[1 rows x 62 columns]"
      ]
     },
     "execution_count": 31,
     "metadata": {},
     "output_type": "execute_result"
    }
   ],
   "source": [
    "sm.pt_los.sample()"
   ]
  },
  {
   "cell_type": "markdown",
   "metadata": {},
   "source": [
    "## Compute mean distances\n",
    "Based on census data: mean population-weighted distance from origin centroid to every population cluster in the destination zone"
   ]
  },
  {
   "cell_type": "code",
   "execution_count": 32,
   "metadata": {},
   "outputs": [
    {
     "name": "stdout",
     "output_type": "stream",
     "text": [
      "22196\n"
     ]
    },
    {
     "data": {
      "text/html": [
       "<div>\n",
       "<style scoped>\n",
       "    .dataframe tbody tr th:only-of-type {\n",
       "        vertical-align: middle;\n",
       "    }\n",
       "\n",
       "    .dataframe tbody tr th {\n",
       "        vertical-align: top;\n",
       "    }\n",
       "\n",
       "    .dataframe thead th {\n",
       "        text-align: right;\n",
       "    }\n",
       "</style>\n",
       "<table border=\"1\" class=\"dataframe\">\n",
       "  <thead>\n",
       "    <tr style=\"text-align: right;\">\n",
       "      <th></th>\n",
       "      <th>a</th>\n",
       "      <th>b</th>\n",
       "      <th>rank</th>\n",
       "      <th>distance</th>\n",
       "      <th>geometry</th>\n",
       "      <th>direction</th>\n",
       "      <th>speed_factor</th>\n",
       "      <th>short_leg_speed</th>\n",
       "      <th>long_leg_speed</th>\n",
       "      <th>speed</th>\n",
       "      <th>time</th>\n",
       "    </tr>\n",
       "  </thead>\n",
       "  <tbody>\n",
       "    <tr>\n",
       "      <th>11997</th>\n",
       "      <td>DE27A_5</td>\n",
       "      <td>DE27A_6</td>\n",
       "      <td>5</td>\n",
       "      <td>13299.291639</td>\n",
       "      <td>LINESTRING (9.848308 47.581684, 10.0047395 47....</td>\n",
       "      <td>access</td>\n",
       "      <td>5.766128</td>\n",
       "      <td>17</td>\n",
       "      <td>17</td>\n",
       "      <td>17.0</td>\n",
       "      <td>2816.320582</td>\n",
       "    </tr>\n",
       "  </tbody>\n",
       "</table>\n",
       "</div>"
      ],
      "text/plain": [
       "             a        b  rank      distance  \\\n",
       "11997  DE27A_5  DE27A_6     5  13299.291639   \n",
       "\n",
       "                                                geometry direction  \\\n",
       "11997  LINESTRING (9.848308 47.581684, 10.0047395 47....    access   \n",
       "\n",
       "       speed_factor  short_leg_speed  long_leg_speed  speed         time  \n",
       "11997      5.766128               17              17   17.0  2816.320582  "
      ]
     },
     "execution_count": 32,
     "metadata": {},
     "output_type": "execute_result"
    }
   ],
   "source": [
    "# Build zone-connecting footpaths\n",
    "foot = engine.ntlegs_from_centroids_and_nodes(\n",
    "    ae.centroids,\n",
    "    ae.centroids,\n",
    "    short_leg_speed=params['pt_access']['speed_bicycle'],\n",
    "    long_leg_speed=params['pt_access']['speed_bicycle'],\n",
    "    threshold=params['pt_access']['catchment_radius_walk'],\n",
    "    n_neighbors=params['access-egress_links']['n_bicycle_between_zones'],\n",
    "    coordinates_unit=ae.coordinates_unit)\n",
    "foot = foot.loc[foot['distance']<=params['access-egress_links']['bicycle_max_dist']]\n",
    "foot = foot.loc[foot['distance']!=0]\n",
    "foot.drop_duplicates(['a', 'b', 'time'], inplace=True)\n",
    "print(len(foot))\n",
    "foot.sample()"
   ]
  },
  {
   "cell_type": "code",
   "execution_count": 33,
   "metadata": {},
   "outputs": [],
   "source": [
    "# Build all columns of LoS table\n",
    "foot = foot[['a', 'b', 'distance']]\n",
    "if 'path' in sm.pt_los.columns:\n",
    "    foot['index'] = foot.index\n",
    "    foot['path'] = [(a,i,b) for a,i,b in zip(foot['a'], foot.index, foot['b'])]\n",
    "    foot.drop('index', axis=1, inplace=True)\n",
    "foot = foot.rename(columns={'a': 'origin', 'b': 'destination', 'distance': 'length'})\n",
    "foot['link_path'] = [[] for _ in range(len(foot))]\n",
    "segments = [s.strip() for s in params['general']['demand_segments'].split(';')]\n",
    "for col in ['ntransfers', 'access_time', 'footpath_time',\n",
    "            'in_vehicle_time', 'waiting_time', 'boarding_time', 'time'\n",
    "           ] + [s+'_price' for s in segments]:\n",
    "    if col in sm.pt_los.columns:\n",
    "        foot[col] = 0\n",
    "foot['route_types'] = [('walk',) for _ in range(len(foot))]\n",
    "foot['route_type'] = 'walk'"
   ]
  },
  {
   "cell_type": "code",
   "execution_count": 34,
   "metadata": {},
   "outputs": [
    {
     "data": {
      "text/plain": [
       "(22193, 25)"
      ]
     },
     "execution_count": 34,
     "metadata": {},
     "output_type": "execute_result"
    }
   ],
   "source": [
    "# Clean\n",
    "foot = foot.loc[~(~(foot['origin'].str.startswith('DE')) |\n",
    "                  ~(foot['origin'].str.startswith('DE')) |\n",
    "                  (foot['origin']==foot['destination']))]\n",
    "foot.drop_duplicates(subset=['origin', 'destination'], inplace=True)\n",
    "foot.reset_index(drop=True, inplace=True)\n",
    "foot.shape"
   ]
  },
  {
   "cell_type": "code",
   "execution_count": 35,
   "metadata": {},
   "outputs": [
    {
     "data": {
      "text/html": [
       "<div>\n",
       "<style scoped>\n",
       "    .dataframe tbody tr th:only-of-type {\n",
       "        vertical-align: middle;\n",
       "    }\n",
       "\n",
       "    .dataframe tbody tr th {\n",
       "        vertical-align: top;\n",
       "    }\n",
       "\n",
       "    .dataframe thead th {\n",
       "        text-align: right;\n",
       "    }\n",
       "</style>\n",
       "<table border=\"1\" class=\"dataframe\">\n",
       "  <thead>\n",
       "    <tr style=\"text-align: right;\">\n",
       "      <th></th>\n",
       "      <th>origin</th>\n",
       "      <th>destination</th>\n",
       "      <th>length</th>\n",
       "      <th>path</th>\n",
       "      <th>link_path</th>\n",
       "      <th>ntransfers</th>\n",
       "      <th>access_time</th>\n",
       "      <th>footpath_time</th>\n",
       "      <th>in_vehicle_time</th>\n",
       "      <th>waiting_time</th>\n",
       "      <th>...</th>\n",
       "      <th>education_no_car_price</th>\n",
       "      <th>education_car_price</th>\n",
       "      <th>buy/execute_no_car_price</th>\n",
       "      <th>buy/execute_car_price</th>\n",
       "      <th>leisure_no_car_price</th>\n",
       "      <th>leisure_car_price</th>\n",
       "      <th>accompany_no_car_price</th>\n",
       "      <th>accompany_car_price</th>\n",
       "      <th>route_types</th>\n",
       "      <th>route_type</th>\n",
       "    </tr>\n",
       "  </thead>\n",
       "  <tbody>\n",
       "    <tr>\n",
       "      <th>8976</th>\n",
       "      <td>DE122_0</td>\n",
       "      <td>DEB3E_2</td>\n",
       "      <td>15342.965547</td>\n",
       "      <td>(DE122_0, 11218, DEB3E_2)</td>\n",
       "      <td>[]</td>\n",
       "      <td>0</td>\n",
       "      <td>0</td>\n",
       "      <td>0</td>\n",
       "      <td>0</td>\n",
       "      <td>0</td>\n",
       "      <td>...</td>\n",
       "      <td>0</td>\n",
       "      <td>0</td>\n",
       "      <td>0</td>\n",
       "      <td>0</td>\n",
       "      <td>0</td>\n",
       "      <td>0</td>\n",
       "      <td>0</td>\n",
       "      <td>0</td>\n",
       "      <td>(walk,)</td>\n",
       "      <td>walk</td>\n",
       "    </tr>\n",
       "  </tbody>\n",
       "</table>\n",
       "<p>1 rows × 25 columns</p>\n",
       "</div>"
      ],
      "text/plain": [
       "       origin destination        length                       path link_path  \\\n",
       "8976  DE122_0     DEB3E_2  15342.965547  (DE122_0, 11218, DEB3E_2)        []   \n",
       "\n",
       "      ntransfers  access_time  footpath_time  in_vehicle_time  waiting_time  \\\n",
       "8976           0            0              0                0             0   \n",
       "\n",
       "      ...  education_no_car_price  education_car_price  \\\n",
       "8976  ...                       0                    0   \n",
       "\n",
       "      buy/execute_no_car_price  buy/execute_car_price  leisure_no_car_price  \\\n",
       "8976                         0                      0                     0   \n",
       "\n",
       "      leisure_car_price  accompany_no_car_price  accompany_car_price  \\\n",
       "8976                  0                       0                    0   \n",
       "\n",
       "      route_types  route_type  \n",
       "8976      (walk,)        walk  \n",
       "\n",
       "[1 rows x 25 columns]"
      ]
     },
     "execution_count": 35,
     "metadata": {},
     "output_type": "execute_result"
    }
   ],
   "source": [
    "foot.sample()"
   ]
  },
  {
   "cell_type": "code",
   "execution_count": 36,
   "metadata": {},
   "outputs": [
    {
     "data": {
      "image/png": "[encoded data removed]",
      "text/plain": [
       "<Figure size 432x288 with 1 Axes>"
      ]
     },
     "metadata": {
      "needs_background": "light"
     },
     "output_type": "display_data"
    }
   ],
   "source": [
    "# Centroid distances\n",
    "if manual: foot['length'].hist(bins=50)"
   ]
  },
  {
   "cell_type": "code",
   "execution_count": 17,
   "metadata": {},
   "outputs": [
    {
     "data": {
      "text/plain": [
       "<AxesSubplot:>"
      ]
     },
     "execution_count": 17,
     "metadata": {},
     "output_type": "execute_result"
    },
    {
     "data": {
      "image/png": "[encoded data removed]",
      "text/plain": [
       "<Figure size 432x288 with 1 Axes>"
      ]
     },
     "metadata": {
      "needs_background": "light"
     },
     "output_type": "display_data"
    }
   ],
   "source": [
    "if False:\n",
    "    # Load census data: Zensus 2011 - Einwohnerzahl je Hektar\n",
    "    # Copyright: © Statistisches Bundesamt, Wiesbaden 2015\n",
    "    # (im Auftrag der Herausgebergemeinschaft)\n",
    "    # Vervielfältigung und Verbreitung, auch auszugsweise, mit Quellenangabe gestattet\n",
    "    if os.path.isfile(input_path + 'Zensus_2011.geojson'):\n",
    "        pop = gpd.read_file(input_path + 'Zensus_2011.geojson', driver='GeoJSON')\n",
    "    else:\n",
    "        print('No file with geometries found')\n",
    "        import shapely.speedups\n",
    "        pop = pd.read_csv(input_path + 'Zensus_2011.csv', sep=';')\n",
    "        # Restrict to entries that hold information\n",
    "        pop = pop.loc[pop['Einwohner']!=-1]\n",
    "        pop = gpd.GeoDataFrame(pop[['Einwohner']],\n",
    "                              geometry=gpd.points_from_xy(pop['x_mp_100m'], pop['y_mp_100m']))\n",
    "        pop.crs = 3035\n",
    "        pop.to_crs(sm.epsg, inplace=True)\n",
    "        pop['FID'] = np.nan\n",
    "        z = stepmodel.read_json(model_path + 'de_zones')\n",
    "        shapely.speedups.enable\n",
    "        for _, zone in tqdm(z.zones.iterrows(), total=z.zones.shape[0]):\n",
    "            pop.loc[pop['geometry'].within(zone['geometry']), 'FID'] = zone['FID']\n",
    "        pop.to_file(input_path + 'Zensus_2011.geojson', driver='GeoJSON')\n",
    "\n",
    "    # Calculate mean population-weighted distances\n",
    "    # from the origin centroid to all points in the destination zone\n",
    "    for ind, row in tqdm(foot.iterrows(), total=len(foot.index)):\n",
    "        o = ae.centroids.loc[row['origin'], 'geometry']\n",
    "        zone = pop.loc[pop['FID']==row['destination']]\n",
    "        weighted_dist = [skims.get_distance_from_lon_lat_in_m(\n",
    "            o.coords[0][0], o.coords[0][1], p['geometry'].coords[0][0], p['geometry'].coords[0][1])\n",
    "                         * p['Einwohner'] for _, p in zone.iterrows()]\n",
    "        foot.loc[ind, 'length'] = sum(weighted_dist) / zone['Einwohner'].sum()\n",
    "\n",
    "    if manual: foot['length'].hist(bins=50)"
   ]
  },
  {
   "cell_type": "code",
   "execution_count": 37,
   "metadata": {},
   "outputs": [],
   "source": [
    "# Generate time in hours\n",
    "foot['length'] = foot['length'].fillna(foot['length'].mean())\n",
    "foot['time'] = foot['length'] / (params['cycling']['speed'] * 1000)\n",
    "foot['time'] = foot['time'].clip(lower=params['cycling']['min_time']) # add a minimum\n",
    "if 'footpath_time' in sm.pt_los.columns:\n",
    "    foot['footpath_time'] = foot['time']"
   ]
  },
  {
   "cell_type": "code",
   "execution_count": 38,
   "metadata": {},
   "outputs": [
    {
     "data": {
      "image/png": "[encoded data removed]",
      "text/plain": [
       "<Figure size 432x288 with 1 Axes>"
      ]
     },
     "metadata": {
      "needs_background": "light"
     },
     "output_type": "display_data"
    }
   ],
   "source": [
    "if manual: (foot['time']).hist(bins=50) # in h"
   ]
  },
  {
   "cell_type": "markdown",
   "metadata": {},
   "source": [
    "## Save"
   ]
  },
  {
   "cell_type": "code",
   "execution_count": 39,
   "metadata": {},
   "outputs": [],
   "source": [
    "# Make DataFrame lighter\n",
    "cols = ['length']\n",
    "foot[cols] = foot[cols].astype(int)"
   ]
  },
  {
   "cell_type": "code",
   "execution_count": 40,
   "metadata": {},
   "outputs": [],
   "source": [
    "# Add to LoS table\n",
    "# make sure that time is in hours\n",
    "if sm.pt_los['time'].mean() > 3600:\n",
    "    sm.pt_los['time'] = sm.pt_los['time'] / 3600\n",
    "sm.pt_los = sm.pt_los.append(foot).reset_index(drop=True)"
   ]
  },
  {
   "cell_type": "code",
   "execution_count": 41,
   "metadata": {},
   "outputs": [],
   "source": [
    "# Drop columns from previous logit model runs\n",
    "sm.pt_los.drop([col for col in sm.pt_los.columns if str(col).startswith('(')\n",
    "               ] + [s+'_time' for s in segments],\n",
    "               axis=1, inplace=True, errors='ignore')"
   ]
  },
  {
   "cell_type": "code",
   "execution_count": 42,
   "metadata": {},
   "outputs": [
    {
     "data": {
      "text/html": [
       "<div>\n",
       "<style scoped>\n",
       "    .dataframe tbody tr th:only-of-type {\n",
       "        vertical-align: middle;\n",
       "    }\n",
       "\n",
       "    .dataframe tbody tr th {\n",
       "        vertical-align: top;\n",
       "    }\n",
       "\n",
       "    .dataframe thead th {\n",
       "        text-align: right;\n",
       "    }\n",
       "</style>\n",
       "<table border=\"1\" class=\"dataframe\">\n",
       "  <thead>\n",
       "    <tr style=\"text-align: right;\">\n",
       "      <th></th>\n",
       "      <th>origin</th>\n",
       "      <th>destination</th>\n",
       "      <th>route_types</th>\n",
       "      <th>link_path</th>\n",
       "      <th>ntransfers</th>\n",
       "      <th>length</th>\n",
       "      <th>access_time</th>\n",
       "      <th>footpath_time</th>\n",
       "      <th>in_vehicle_time</th>\n",
       "      <th>waiting_time</th>\n",
       "      <th>...</th>\n",
       "      <th>education_no_car_price</th>\n",
       "      <th>education_car_price</th>\n",
       "      <th>buy/execute_no_car_price</th>\n",
       "      <th>buy/execute_car_price</th>\n",
       "      <th>leisure_no_car_price</th>\n",
       "      <th>leisure_car_price</th>\n",
       "      <th>accompany_no_car_price</th>\n",
       "      <th>accompany_car_price</th>\n",
       "      <th>path</th>\n",
       "      <th>mode_utility</th>\n",
       "    </tr>\n",
       "  </thead>\n",
       "  <tbody>\n",
       "    <tr>\n",
       "      <th>79195</th>\n",
       "      <td>DE723_5</td>\n",
       "      <td>DE723_6</td>\n",
       "      <td>(walk,)</td>\n",
       "      <td>[]</td>\n",
       "      <td>0.0</td>\n",
       "      <td>9046</td>\n",
       "      <td>0</td>\n",
       "      <td>0.532123</td>\n",
       "      <td>0</td>\n",
       "      <td>0.0</td>\n",
       "      <td>...</td>\n",
       "      <td>0.0</td>\n",
       "      <td>0.0</td>\n",
       "      <td>0.0</td>\n",
       "      <td>0.0</td>\n",
       "      <td>0.0</td>\n",
       "      <td>0.0</td>\n",
       "      <td>0.0</td>\n",
       "      <td>0.0</td>\n",
       "      <td>(DE723_5, 10027, DE723_6)</td>\n",
       "      <td>NaN</td>\n",
       "    </tr>\n",
       "  </tbody>\n",
       "</table>\n",
       "<p>1 rows × 26 columns</p>\n",
       "</div>"
      ],
      "text/plain": [
       "        origin destination route_types link_path  ntransfers  length  \\\n",
       "79195  DE723_5     DE723_6     (walk,)        []         0.0    9046   \n",
       "\n",
       "       access_time  footpath_time  in_vehicle_time  waiting_time  ...  \\\n",
       "79195            0       0.532123                0           0.0  ...   \n",
       "\n",
       "       education_no_car_price education_car_price  buy/execute_no_car_price  \\\n",
       "79195                     0.0                 0.0                       0.0   \n",
       "\n",
       "       buy/execute_car_price  leisure_no_car_price  leisure_car_price  \\\n",
       "79195                    0.0                   0.0                0.0   \n",
       "\n",
       "       accompany_no_car_price  accompany_car_price                       path  \\\n",
       "79195                     0.0                  0.0  (DE723_5, 10027, DE723_6)   \n",
       "\n",
       "       mode_utility  \n",
       "79195           NaN  \n",
       "\n",
       "[1 rows x 26 columns]"
      ]
     },
     "execution_count": 42,
     "metadata": {},
     "output_type": "execute_result"
    }
   ],
   "source": [
    "sm.pt_los.loc[sm.pt_los['route_type']=='walk'].sample()"
   ]
  },
  {
   "cell_type": "code",
   "execution_count": 43,
   "metadata": {},
   "outputs": [
    {
     "name": "stderr",
     "output_type": "stream",
     "text": [
      "pt_los: 100%|██████████████████████████████████████████████████████████████████████████| 33/33 [00:00<00:00, 37.10it/s]\n"
     ]
    }
   ],
   "source": [
    "sm.to_zippedpickles(model_path + 'de_pt_los', only_attributes=['pt_los'])"
   ]
  },
  {
   "cell_type": "code",
   "execution_count": 25,
   "metadata": {},
   "outputs": [
    {
     "name": "stderr",
     "output_type": "stream",
     "text": [
      "to_hdf(overwriting): 100%|███████████████████████████████████████████████████████████████| 8/8 [00:00<00:00, 17.93it/s]\n"
     ]
    }
   ],
   "source": [
    "# Save only the walking part\n",
    "sm.pt_los = sm.pt_los.loc[sm.pt_los['route_type']=='walk']\n",
    "sm.to_json(model_path + 'de_pt_los_non-motor',\n",
    "           only_attributes=['pt_los'],\n",
    "           encoding='utf-8')"
   ]
  }
 ],
 "metadata": {
  "kernelspec": {
   "display_name": "Python 3 (ipykernel)",
   "language": "python",
   "name": "python3"
  },
  "language_info": {
   "codemirror_mode": {
    "name": "ipython",
    "version": 3
   },
   "file_extension": ".py",
   "mimetype": "text/x-python",
   "name": "python",
   "nbconvert_exporter": "python",
   "pygments_lexer": "ipython3",
   "version": "3.8.13"
  }
 },
 "nbformat": 4,
 "nbformat_minor": 4
}
