{
 "cells": [
  {
   "cell_type": "code",
   "execution_count": null,
   "metadata": {},
   "outputs": [],
   "source": [
    "import sys # for automation and parallelisation\n",
    "manual, scenario = (True, 'base') if 'ipykernel' in sys.argv[0] else (False, sys.argv[1])\n",
    "if manual:\n",
    "    %matplotlib inline"
   ]
  },
  {
   "cell_type": "code",
   "execution_count": 1,
   "metadata": {},
   "outputs": [
    {
     "name": "stderr",
     "output_type": "stream",
     "text": [
      "In C:\\Users\\marlin.arnz\\AppData\\Local\\Continuum\\miniconda3\\envs\\quetzal\\lib\\site-packages\\matplotlib\\mpl-data\\stylelib\\_classic_test.mplstyle: \n",
      "The text.latex.preview rcparam was deprecated in Matplotlib 3.3 and will be removed two minor releases later.\n",
      "In C:\\Users\\marlin.arnz\\AppData\\Local\\Continuum\\miniconda3\\envs\\quetzal\\lib\\site-packages\\matplotlib\\mpl-data\\stylelib\\_classic_test.mplstyle: \n",
      "The mathtext.fallback_to_cm rcparam was deprecated in Matplotlib 3.3 and will be removed two minor releases later.\n",
      "In C:\\Users\\marlin.arnz\\AppData\\Local\\Continuum\\miniconda3\\envs\\quetzal\\lib\\site-packages\\matplotlib\\mpl-data\\stylelib\\_classic_test.mplstyle: Support for setting the 'mathtext.fallback_to_cm' rcParam is deprecated since 3.3 and will be removed two minor releases later; use 'mathtext.fallback : 'cm' instead.\n",
      "In C:\\Users\\marlin.arnz\\AppData\\Local\\Continuum\\miniconda3\\envs\\quetzal\\lib\\site-packages\\matplotlib\\mpl-data\\stylelib\\_classic_test.mplstyle: \n",
      "The validate_bool_maybe_none function was deprecated in Matplotlib 3.3 and will be removed two minor releases later.\n",
      "In C:\\Users\\marlin.arnz\\AppData\\Local\\Continuum\\miniconda3\\envs\\quetzal\\lib\\site-packages\\matplotlib\\mpl-data\\stylelib\\_classic_test.mplstyle: \n",
      "The savefig.jpeg_quality rcparam was deprecated in Matplotlib 3.3 and will be removed two minor releases later.\n",
      "In C:\\Users\\marlin.arnz\\AppData\\Local\\Continuum\\miniconda3\\envs\\quetzal\\lib\\site-packages\\matplotlib\\mpl-data\\stylelib\\_classic_test.mplstyle: \n",
      "The keymap.all_axes rcparam was deprecated in Matplotlib 3.3 and will be removed two minor releases later.\n",
      "In C:\\Users\\marlin.arnz\\AppData\\Local\\Continuum\\miniconda3\\envs\\quetzal\\lib\\site-packages\\matplotlib\\mpl-data\\stylelib\\_classic_test.mplstyle: \n",
      "The animation.avconv_path rcparam was deprecated in Matplotlib 3.3 and will be removed two minor releases later.\n",
      "In C:\\Users\\marlin.arnz\\AppData\\Local\\Continuum\\miniconda3\\envs\\quetzal\\lib\\site-packages\\matplotlib\\mpl-data\\stylelib\\_classic_test.mplstyle: \n",
      "The animation.avconv_args rcparam was deprecated in Matplotlib 3.3 and will be removed two minor releases later.\n"
     ]
    }
   ],
   "source": [
    "import os\n",
    "import pandas as pd\n",
    "import numpy as np\n",
    "import geopandas as gpd\n",
    "from tqdm import tqdm\n",
    "from syspy.skims import skims\n",
    "from quetzal.model import stepmodel\n",
    "from quetzal.io import excel"
   ]
  },
  {
   "cell_type": "markdown",
   "metadata": {},
   "source": [
    "# Preparation of the LoS tables\n",
    "## Corrects footpaths in the LoS table\n",
    "## Needs PT LoS table and footpaths"
   ]
  },
  {
   "cell_type": "code",
   "execution_count": 2,
   "metadata": {},
   "outputs": [],
   "source": [
    "input_path = '../input_static/spatial_'\n",
    "output_path = '../output/'\n",
    "model_path = '../model/'"
   ]
  },
  {
   "cell_type": "code",
   "execution_count": null,
   "metadata": {},
   "outputs": [],
   "source": [
    "# Load scenario parameters\n",
    "params = excel.read_var(file='../input/parameters.xls', scenario=scenario)"
   ]
  },
  {
   "cell_type": "code",
   "execution_count": 3,
   "metadata": {},
   "outputs": [],
   "source": [
    "sm = stepmodel.read_json(model_path + 'de_pt_los')\n",
    "ae = stepmodel.read_json(model_path + 'de_pt_access_egress')"
   ]
  },
  {
   "cell_type": "markdown",
   "metadata": {},
   "source": [
    "The only kind of all-walk connections between centroids should be direct connections without intermediate stops at PT nodes because these are always connected to access/egress links which have non-footpath properties.\n",
    "\n",
    "Thus, footpaths already computed in prep2 will be parametrised with census based mean distances."
   ]
  },
  {
   "cell_type": "code",
   "execution_count": 4,
   "metadata": {},
   "outputs": [],
   "source": [
    "# Drop walking links that use access-egress links\n",
    "sm.pt_los = sm.pt_los.loc[sm.pt_los['route_type']!='walk']"
   ]
  },
  {
   "cell_type": "code",
   "execution_count": 5,
   "metadata": {},
   "outputs": [
    {
     "name": "stdout",
     "output_type": "stream",
     "text": [
      "Added walking paths from previous run\n"
     ]
    }
   ],
   "source": [
    "# Use saved non-motorised paths, if they exist from a previous run\n",
    "import os.path\n",
    "if os.path.exists(model_path + 'de_pt_los_walk/'):\n",
    "    w = stepmodel.read_json(model_path + 'de_pt_los_walk')\n",
    "    sm.pt_los = sm.pt_los.append(w.pt_los.loc[w.pt_los['route_type']=='walk']).reset_index(drop=True)\n",
    "    print('Added walking paths from previous run')\n",
    "    sm.to_json(model_path + 'de_pt_los',\n",
    "               only_attributes=['pt_los'],\n",
    "               encoding='utf-8')\n",
    "    assert manual # break automation"
   ]
  },
  {
   "cell_type": "code",
   "execution_count": 6,
   "metadata": {},
   "outputs": [
    {
     "data": {
      "text/html": [
       "<div>\n",
       "<style scoped>\n",
       "    .dataframe tbody tr th:only-of-type {\n",
       "        vertical-align: middle;\n",
       "    }\n",
       "\n",
       "    .dataframe tbody tr th {\n",
       "        vertical-align: top;\n",
       "    }\n",
       "\n",
       "    .dataframe thead th {\n",
       "        text-align: right;\n",
       "    }\n",
       "</style>\n",
       "<table border=\"1\" class=\"dataframe\">\n",
       "  <thead>\n",
       "    <tr style=\"text-align: right;\">\n",
       "      <th></th>\n",
       "      <th>access_time</th>\n",
       "      <th>accessibility</th>\n",
       "      <th>destination</th>\n",
       "      <th>footpath_time</th>\n",
       "      <th>in_vehicle_time</th>\n",
       "      <th>length</th>\n",
       "      <th>link_path</th>\n",
       "      <th>mode_utility</th>\n",
       "      <th>ntransfers</th>\n",
       "      <th>origin</th>\n",
       "      <th>path</th>\n",
       "      <th>price</th>\n",
       "      <th>route_type</th>\n",
       "      <th>route_type_disagg</th>\n",
       "      <th>route_types</th>\n",
       "      <th>time</th>\n",
       "      <th>waiting_time</th>\n",
       "    </tr>\n",
       "  </thead>\n",
       "  <tbody>\n",
       "    <tr>\n",
       "      <th>49825</th>\n",
       "      <td>1727</td>\n",
       "      <td>NaN</td>\n",
       "      <td>DEA29</td>\n",
       "      <td>429</td>\n",
       "      <td>14614</td>\n",
       "      <td>480778</td>\n",
       "      <td>[bus_439914, bus_439915, bus_439916, bus_43991...</td>\n",
       "      <td>NaN</td>\n",
       "      <td>3</td>\n",
       "      <td>DE133</td>\n",
       "      <td>NaN</td>\n",
       "      <td>54.319526</td>\n",
       "      <td>rail_long</td>\n",
       "      <td>NaN</td>\n",
       "      <td>[bus, rail_long]</td>\n",
       "      <td>19422</td>\n",
       "      <td>2651</td>\n",
       "    </tr>\n",
       "  </tbody>\n",
       "</table>\n",
       "</div>"
      ],
      "text/plain": [
       "       access_time  accessibility destination  footpath_time  in_vehicle_time  \\\n",
       "49825         1727            NaN       DEA29            429            14614   \n",
       "\n",
       "       length                                          link_path  \\\n",
       "49825  480778  [bus_439914, bus_439915, bus_439916, bus_43991...   \n",
       "\n",
       "       mode_utility  ntransfers origin path      price route_type  \\\n",
       "49825           NaN           3  DE133  NaN  54.319526  rail_long   \n",
       "\n",
       "      route_type_disagg       route_types   time  waiting_time  \n",
       "49825               NaN  [bus, rail_long]  19422          2651  "
      ]
     },
     "execution_count": 6,
     "metadata": {},
     "output_type": "execute_result"
    }
   ],
   "source": [
    "sm.pt_los.sample()"
   ]
  },
  {
   "cell_type": "markdown",
   "metadata": {},
   "source": [
    "## Compute mean distances\n",
    "Based on census data: mean population-weighted distance from origin centroid to every population cluster in the destination zone"
   ]
  },
  {
   "cell_type": "code",
   "execution_count": 4,
   "metadata": {},
   "outputs": [],
   "source": [
    "# Load census data: Zensus 2011 - Einwohnerzahl je Hektar\n",
    "# Copyright: © Statistisches Bundesamt, Wiesbaden 2015\n",
    "# (im Auftrag der Herausgebergemeinschaft)\n",
    "# Vervielfältigung und Verbreitung, auch auszugsweise, mit Quellenangabe gestattet\n",
    "if os.path.isfile(input_path + 'Zensus_2011.geojson'):\n",
    "    pop = gpd.read_file(input_path + 'Zensus_2011.geojson', driver='GeoJSON')\n",
    "else:\n",
    "    print('No file with geometries found')\n",
    "    import shapely.speedups\n",
    "    pop = pd.read_csv(input_path + 'Zensus_2011.csv', sep=';')\n",
    "    # Restrict to entries that hold information\n",
    "    pop = pop.loc[pop['Einwohner']!=-1]\n",
    "    pop = gpd.GeoDataFrame(pop[['Einwohner']],\n",
    "                          geometry=gpd.points_from_xy(pop['x_mp_100m'], pop['y_mp_100m']))\n",
    "    pop.crs = 3035\n",
    "    pop.to_crs(sm.epsg, inplace=True)\n",
    "    pop['FID'] = np.nan\n",
    "    z = stepmodel.read_zip(model_path + 'de_zones.zip')\n",
    "    shapely.speedups.enable\n",
    "    for _, zone in tqdm(z.zones.iterrows(), total=z.zones.shape[0]):\n",
    "        pop.loc[pop['geometry'].within(zone['geometry']), 'FID'] = zone['FID']\n",
    "    pop.to_file(input_path + 'Zensus_2011.geojson', driver='GeoJSON')"
   ]
  },
  {
   "cell_type": "code",
   "execution_count": 5,
   "metadata": {},
   "outputs": [
    {
     "data": {
      "text/html": [
       "<div>\n",
       "<style scoped>\n",
       "    .dataframe tbody tr th:only-of-type {\n",
       "        vertical-align: middle;\n",
       "    }\n",
       "\n",
       "    .dataframe tbody tr th {\n",
       "        vertical-align: top;\n",
       "    }\n",
       "\n",
       "    .dataframe thead th {\n",
       "        text-align: right;\n",
       "    }\n",
       "</style>\n",
       "<table border=\"1\" class=\"dataframe\">\n",
       "  <thead>\n",
       "    <tr style=\"text-align: right;\">\n",
       "      <th></th>\n",
       "      <th>Einwohner</th>\n",
       "      <th>NUTS_ID</th>\n",
       "      <th>FID</th>\n",
       "      <th>geometry</th>\n",
       "    </tr>\n",
       "  </thead>\n",
       "  <tbody>\n",
       "    <tr>\n",
       "      <th>3122878</th>\n",
       "      <td>32</td>\n",
       "      <td>DEF0B</td>\n",
       "      <td>DEF0B</td>\n",
       "      <td>POINT (9.67815 54.31673)</td>\n",
       "    </tr>\n",
       "  </tbody>\n",
       "</table>\n",
       "</div>"
      ],
      "text/plain": [
       "         Einwohner NUTS_ID    FID                  geometry\n",
       "3122878         32   DEF0B  DEF0B  POINT (9.67815 54.31673)"
      ]
     },
     "execution_count": 5,
     "metadata": {},
     "output_type": "execute_result"
    }
   ],
   "source": [
    "pop.sample()"
   ]
  },
  {
   "cell_type": "code",
   "execution_count": 16,
   "metadata": {},
   "outputs": [
    {
     "name": "stdout",
     "output_type": "stream",
     "text": [
      "2239\n"
     ]
    },
    {
     "data": {
      "text/html": [
       "<div>\n",
       "<style scoped>\n",
       "    .dataframe tbody tr th:only-of-type {\n",
       "        vertical-align: middle;\n",
       "    }\n",
       "\n",
       "    .dataframe tbody tr th {\n",
       "        vertical-align: top;\n",
       "    }\n",
       "\n",
       "    .dataframe thead th {\n",
       "        text-align: right;\n",
       "    }\n",
       "</style>\n",
       "<table border=\"1\" class=\"dataframe\">\n",
       "  <thead>\n",
       "    <tr style=\"text-align: right;\">\n",
       "      <th></th>\n",
       "      <th>a</th>\n",
       "      <th>b</th>\n",
       "      <th>direction</th>\n",
       "      <th>distance</th>\n",
       "      <th>speed</th>\n",
       "      <th>time</th>\n",
       "      <th>geometry</th>\n",
       "    </tr>\n",
       "    <tr>\n",
       "      <th>index</th>\n",
       "      <th></th>\n",
       "      <th></th>\n",
       "      <th></th>\n",
       "      <th></th>\n",
       "      <th></th>\n",
       "      <th></th>\n",
       "      <th></th>\n",
       "    </tr>\n",
       "  </thead>\n",
       "  <tbody>\n",
       "    <tr>\n",
       "      <th>foot_62055</th>\n",
       "      <td>DE252</td>\n",
       "      <td>DE258</td>\n",
       "      <td>eggress</td>\n",
       "      <td>17708.821875</td>\n",
       "      <td>17.0</td>\n",
       "      <td>3750.103456</td>\n",
       "      <td>LINESTRING (10.84967 49.44674, 10.97821 49.58237)</td>\n",
       "    </tr>\n",
       "  </tbody>\n",
       "</table>\n",
       "</div>"
      ],
      "text/plain": [
       "                a      b direction      distance  speed         time  \\\n",
       "index                                                                  \n",
       "foot_62055  DE252  DE258   eggress  17708.821875   17.0  3750.103456   \n",
       "\n",
       "                                                     geometry  \n",
       "index                                                          \n",
       "foot_62055  LINESTRING (10.84967 49.44674, 10.97821 49.58237)  "
      ]
     },
     "execution_count": 16,
     "metadata": {},
     "output_type": "execute_result"
    }
   ],
   "source": [
    "# Build zone-connecting footpaths\n",
    "foot = engine.ntlegs_from_centroids_and_nodes(\n",
    "    ae.centroids,\n",
    "    ae.centroids,\n",
    "    short_leg_speed=params['pt_access']['speed_bicycle'],\n",
    "    long_leg_speed=params['pt_access']['speed_bicycle'],\n",
    "    threshold=params['pt_access']['catchment_radius_walk'],\n",
    "    n_neighbors=params['access-egress_links']['n_bicycle_between_zones'],\n",
    "    coordinates_unit=ae.coordinates_unit)\n",
    "foot = foot.loc[foot['distance']<=params['access-egress_links']['bicycle_max_dist']]\n",
    "foot = foot.loc[foot['distance']!=0]\n",
    "foot.drop_duplicates(['direction', 'distance', 'time'], inplace=True)\n",
    "print(len(foot))\n",
    "foot.sample()"
   ]
  },
  {
   "cell_type": "code",
   "execution_count": 17,
   "metadata": {},
   "outputs": [
    {
     "data": {
      "text/plain": [
       "16.908887896382314"
      ]
     },
     "execution_count": 17,
     "metadata": {},
     "output_type": "execute_result"
    }
   ],
   "source": [
    "try:\n",
    "    speed = foot['speed'].mean() # in km/h\n",
    "except KeyError:\n",
    "    speed = params['pt_access']['speed_bicycle']\n",
    "foot = foot[['a', 'b']]\n",
    "speed"
   ]
  },
  {
   "cell_type": "code",
   "execution_count": 18,
   "metadata": {},
   "outputs": [],
   "source": [
    "# Build all columns of LoS table\n",
    "foot['index'] = foot.index\n",
    "foot['path'] = [(a,i,b) for a,i,b in zip(foot['a'], foot.index, foot['b'])]\n",
    "foot.drop('index', axis=1, inplace=True)\n",
    "foot = foot.rename(columns={'a': 'origin', 'b': 'destination'})\n",
    "foot['link_path'] = [[] for _ in range(len(foot))]\n",
    "for col in ['ntransfers', 'access_time', 'footpath_time',\n",
    "            'in_vehicle_time', 'waiting_time',\n",
    "            'boarding_time', 'time', 'length', 'price']:\n",
    "    if col in sm.pt_los.columns:\n",
    "        foot[col] = 0\n",
    "foot['route_types'] = [('walk',) for _ in range(len(foot))]\n",
    "foot['route_type'] = 'walk'"
   ]
  },
  {
   "cell_type": "code",
   "execution_count": 19,
   "metadata": {},
   "outputs": [
    {
     "data": {
      "text/plain": [
       "(2222, 15)"
      ]
     },
     "execution_count": 19,
     "metadata": {},
     "output_type": "execute_result"
    }
   ],
   "source": [
    "foot = foot.loc[~(~(foot['origin'].str.startswith('DE')) |\n",
    "                  ~(foot['origin'].str.startswith('DE')) |\n",
    "                  (foot['origin']==foot['destination']))]\n",
    "foot.shape"
   ]
  },
  {
   "cell_type": "code",
   "execution_count": 20,
   "metadata": {},
   "outputs": [],
   "source": [
    "foot.drop_duplicates(subset=['origin', 'destination'], inplace=True)\n",
    "foot.reset_index(drop=True, inplace=True)"
   ]
  },
  {
   "cell_type": "code",
   "execution_count": 24,
   "metadata": {},
   "outputs": [
    {
     "data": {
      "text/html": [
       "<div>\n",
       "<style scoped>\n",
       "    .dataframe tbody tr th:only-of-type {\n",
       "        vertical-align: middle;\n",
       "    }\n",
       "\n",
       "    .dataframe tbody tr th {\n",
       "        vertical-align: top;\n",
       "    }\n",
       "\n",
       "    .dataframe thead th {\n",
       "        text-align: right;\n",
       "    }\n",
       "</style>\n",
       "<table border=\"1\" class=\"dataframe\">\n",
       "  <thead>\n",
       "    <tr style=\"text-align: right;\">\n",
       "      <th></th>\n",
       "      <th>origin</th>\n",
       "      <th>destination</th>\n",
       "      <th>path</th>\n",
       "      <th>link_path</th>\n",
       "      <th>ntransfers</th>\n",
       "      <th>access_time</th>\n",
       "      <th>footpath_time</th>\n",
       "      <th>in_vehicle_time</th>\n",
       "      <th>waiting_time</th>\n",
       "      <th>time</th>\n",
       "      <th>length</th>\n",
       "      <th>price</th>\n",
       "      <th>accessibility</th>\n",
       "      <th>route_types</th>\n",
       "      <th>route_type</th>\n",
       "    </tr>\n",
       "  </thead>\n",
       "  <tbody>\n",
       "    <tr>\n",
       "      <th>2075</th>\n",
       "      <td>DEB1C</td>\n",
       "      <td>DEB11</td>\n",
       "      <td>(DEB1C, foot_62668, DEB11)</td>\n",
       "      <td>[]</td>\n",
       "      <td>0</td>\n",
       "      <td>0</td>\n",
       "      <td>0</td>\n",
       "      <td>0</td>\n",
       "      <td>0</td>\n",
       "      <td>0</td>\n",
       "      <td>0</td>\n",
       "      <td>0</td>\n",
       "      <td>1</td>\n",
       "      <td>(walk,)</td>\n",
       "      <td>walk</td>\n",
       "    </tr>\n",
       "  </tbody>\n",
       "</table>\n",
       "</div>"
      ],
      "text/plain": [
       "     origin destination                        path link_path  ntransfers  \\\n",
       "2075  DEB1C       DEB11  (DEB1C, foot_62668, DEB11)        []           0   \n",
       "\n",
       "      access_time  footpath_time  in_vehicle_time  waiting_time  time  length  \\\n",
       "2075            0              0                0             0     0       0   \n",
       "\n",
       "      price  accessibility route_types route_type  \n",
       "2075      0              1     (walk,)       walk  "
      ]
     },
     "execution_count": 24,
     "metadata": {},
     "output_type": "execute_result"
    }
   ],
   "source": [
    "foot.sample()"
   ]
  },
  {
   "cell_type": "code",
   "execution_count": 32,
   "metadata": {
    "scrolled": true
   },
   "outputs": [
    {
     "name": "stderr",
     "output_type": "stream",
     "text": [
      "100%|████████████████████████████████████████████████████████████████████████████| 2222/2222 [1:00:21<00:00,  1.63s/it]\n"
     ]
    }
   ],
   "source": [
    "# Calculate mean population-weighted distances\n",
    "# from the origin centroid to all points in the destination zone\n",
    "for ind, row in tqdm(foot.iterrows(), total=len(foot.index)):\n",
    "    o = ae.centroids.loc[row['origin'], 'geometry']\n",
    "    zone = pop.loc[pop['NUTS_ID']==row['destination']]\n",
    "    weighted_dist = [skims.get_distance_from_lon_lat_in_m(\n",
    "        o.coords[0][0], o.coords[0][1], p['geometry'].coords[0][0], p['geometry'].coords[0][1])\n",
    "                     * p['Einwohner'] for _, p in zone.iterrows()]\n",
    "    foot.loc[ind, 'length'] = sum(weighted_dist) / zone['Einwohner'].sum()"
   ]
  },
  {
   "cell_type": "code",
   "execution_count": 33,
   "metadata": {},
   "outputs": [
    {
     "data": {
      "text/plain": [
       "<AxesSubplot:>"
      ]
     },
     "execution_count": 33,
     "metadata": {},
     "output_type": "execute_result"
    },
    {
     "data": {
      "image/png": "[encoded data removed]",
      "text/plain": [
       "<Figure size 432x288 with 1 Axes>"
      ]
     },
     "metadata": {
      "needs_background": "light"
     },
     "output_type": "display_data"
    }
   ],
   "source": [
    "foot['length'].hist(bins=50)"
   ]
  },
  {
   "cell_type": "code",
   "execution_count": 35,
   "metadata": {},
   "outputs": [
    {
     "data": {
      "text/plain": [
       "<AxesSubplot:>"
      ]
     },
     "execution_count": 35,
     "metadata": {},
     "output_type": "execute_result"
    },
    {
     "data": {
      "image/png": "[encoded data removed]",
      "text/plain": [
       "<Figure size 432x288 with 1 Axes>"
      ]
     },
     "metadata": {
      "needs_background": "light"
     },
     "output_type": "display_data"
    }
   ],
   "source": [
    "# Compare to quickly approximated distances\n",
    "ae.footpaths.loc[(ae.footpaths['a'].apply(lambda s: len(s.split('_'))<=2)) &\n",
    "                 (ae.footpaths['b'].apply(lambda s: len(s.split('_'))<=2)),\n",
    "                 'distance'].hist(bins=50)"
   ]
  },
  {
   "cell_type": "code",
   "execution_count": 36,
   "metadata": {},
   "outputs": [],
   "source": [
    "# Replace NaN\n",
    "foot.loc[foot['length'].isna(), 'length'] = foot.loc[foot['length'].notna(), 'length'].mean()"
   ]
  },
  {
   "cell_type": "code",
   "execution_count": 37,
   "metadata": {},
   "outputs": [],
   "source": [
    "# Generate time in seconds\n",
    "foot['time'] = foot['length'] / (speed / 3.6)\n",
    "if 'footpath_time' in sm.pt_los.columns:\n",
    "    foot['footpath_time'] = foot['time']"
   ]
  },
  {
   "cell_type": "code",
   "execution_count": 39,
   "metadata": {},
   "outputs": [
    {
     "data": {
      "text/plain": [
       "<AxesSubplot:>"
      ]
     },
     "execution_count": 39,
     "metadata": {},
     "output_type": "execute_result"
    },
    {
     "data": {
      "image/png": "[encoded data removed]",
      "text/plain": [
       "<Figure size 432x288 with 1 Axes>"
      ]
     },
     "metadata": {
      "needs_background": "light"
     },
     "output_type": "display_data"
    }
   ],
   "source": [
    "(foot['time']/3600).hist(bins=50) # in h"
   ]
  },
  {
   "cell_type": "code",
   "execution_count": 40,
   "metadata": {},
   "outputs": [],
   "source": [
    "# Make DataFrame lighter\n",
    "cols = ['length'] + [col for col in foot.columns if col[-4:]=='time']\n",
    "foot[cols] = foot[cols].astype(int)"
   ]
  },
  {
   "cell_type": "code",
   "execution_count": 41,
   "metadata": {},
   "outputs": [],
   "source": [
    "# Add to LoS table\n",
    "sm.pt_los = sm.pt_los.append(foot).reset_index(drop=True)"
   ]
  },
  {
   "cell_type": "code",
   "execution_count": 7,
   "metadata": {},
   "outputs": [
    {
     "data": {
      "text/html": [
       "<div>\n",
       "<style scoped>\n",
       "    .dataframe tbody tr th:only-of-type {\n",
       "        vertical-align: middle;\n",
       "    }\n",
       "\n",
       "    .dataframe tbody tr th {\n",
       "        vertical-align: top;\n",
       "    }\n",
       "\n",
       "    .dataframe thead th {\n",
       "        text-align: right;\n",
       "    }\n",
       "</style>\n",
       "<table border=\"1\" class=\"dataframe\">\n",
       "  <thead>\n",
       "    <tr style=\"text-align: right;\">\n",
       "      <th></th>\n",
       "      <th>access_time</th>\n",
       "      <th>accessibility</th>\n",
       "      <th>destination</th>\n",
       "      <th>footpath_time</th>\n",
       "      <th>in_vehicle_time</th>\n",
       "      <th>length</th>\n",
       "      <th>link_path</th>\n",
       "      <th>mode_utility</th>\n",
       "      <th>ntransfers</th>\n",
       "      <th>origin</th>\n",
       "      <th>path</th>\n",
       "      <th>price</th>\n",
       "      <th>route_type</th>\n",
       "      <th>route_type_disagg</th>\n",
       "      <th>route_types</th>\n",
       "      <th>time</th>\n",
       "      <th>waiting_time</th>\n",
       "    </tr>\n",
       "  </thead>\n",
       "  <tbody>\n",
       "    <tr>\n",
       "      <th>718420</th>\n",
       "      <td>0</td>\n",
       "      <td>1.0</td>\n",
       "      <td>DED52</td>\n",
       "      <td>7093</td>\n",
       "      <td>0</td>\n",
       "      <td>33317</td>\n",
       "      <td>[]</td>\n",
       "      <td>NaN</td>\n",
       "      <td>0</td>\n",
       "      <td>DED53</td>\n",
       "      <td>[DED53, foot_60726, DED52]</td>\n",
       "      <td>0.0</td>\n",
       "      <td>walk</td>\n",
       "      <td>walk</td>\n",
       "      <td>[walk]</td>\n",
       "      <td>7093</td>\n",
       "      <td>0</td>\n",
       "    </tr>\n",
       "  </tbody>\n",
       "</table>\n",
       "</div>"
      ],
      "text/plain": [
       "        access_time  accessibility destination  footpath_time  \\\n",
       "718420            0            1.0       DED52           7093   \n",
       "\n",
       "        in_vehicle_time  length link_path  mode_utility  ntransfers origin  \\\n",
       "718420                0   33317        []           NaN           0  DED53   \n",
       "\n",
       "                              path  price route_type route_type_disagg  \\\n",
       "718420  [DED53, foot_60726, DED52]    0.0       walk              walk   \n",
       "\n",
       "       route_types  time  waiting_time  \n",
       "718420      [walk]  7093             0  "
      ]
     },
     "execution_count": 7,
     "metadata": {},
     "output_type": "execute_result"
    }
   ],
   "source": [
    "sm.pt_los.loc[sm.pt_los['route_type']=='walk'].sample()"
   ]
  },
  {
   "cell_type": "markdown",
   "metadata": {},
   "source": [
    "## Save"
   ]
  },
  {
   "cell_type": "code",
   "execution_count": 8,
   "metadata": {},
   "outputs": [
    {
     "name": "stderr",
     "output_type": "stream",
     "text": [
      "to_hdf(overwriting): 100%|█████████████████████████████████████████████████████████████| 34/34 [00:10<00:00,  3.16it/s]\n"
     ]
    }
   ],
   "source": [
    "sm.to_json(model_path + 'de_pt_los',\n",
    "           only_attributes=['pt_los'],\n",
    "           encoding='utf-8')"
   ]
  }
 ],
 "metadata": {
  "kernelspec": {
   "display_name": "Python 3",
   "language": "python",
   "name": "python3"
  },
  "language_info": {
   "codemirror_mode": {
    "name": "ipython",
    "version": 3
   },
   "file_extension": ".py",
   "mimetype": "text/x-python",
   "name": "python",
   "nbconvert_exporter": "python",
   "pygments_lexer": "ipython3",
   "version": "3.8.1"
  }
 },
 "nbformat": 4,
 "nbformat_minor": 4
}
