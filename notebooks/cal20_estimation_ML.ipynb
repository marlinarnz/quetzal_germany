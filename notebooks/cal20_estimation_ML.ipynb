{
 "cells": [
  {
   "cell_type": "code",
   "execution_count": 1,
   "metadata": {},
   "outputs": [],
   "source": [
    "import sys # for automation and parallelisation\n",
    "manual, scenario = (True, 'base') if 'ipykernel' in sys.argv[0] else (False, sys.argv[1])"
   ]
  },
  {
   "cell_type": "code",
   "execution_count": 2,
   "metadata": {},
   "outputs": [],
   "source": [
    "import biogeme.database as db\n",
    "import biogeme.biogeme as bio\n",
    "import biogeme.models as models\n",
    "import biogeme.messaging as message\n",
    "from biogeme import expressions as ex\n",
    "import pandas as pd\n",
    "import numpy as np\n",
    "import xlsxwriter"
   ]
  },
  {
   "cell_type": "markdown",
   "metadata": {},
   "source": [
    "# Calibration\n",
    "## Estimation of the model parameters\n",
    "quetzal_germany is being estimated using [PandasBiogeme](https://biogeme.epfl.ch/). This notebook estimates calibration parameters for the model's utility functions.\n",
    "- Documentation and reference: [Bierlaire, M. (2020). A short introduction to PandasBiogeme. Technical report TRANSP-OR 200605. Transport and Mobility Laboratory, ENAC, EPFL.](https://transp-or.epfl.ch/documents/technicalReports/Bier20.pdf)\n",
    "- Tutorial: https://www.youtube.com/watch?v=OiM94B8WayA"
   ]
  },
  {
   "cell_type": "markdown",
   "metadata": {},
   "source": [
    "### Model formulation\n",
    "The model consists of systematic utility functions, one for each mode. They comprise an alternaive-specific constant (ASC), a distance-dependent part with travel time and cost, and a cost damping function F. Additionally, person-specific attributes $x_p$ apply.\n",
    "\n",
    "$V_{im} = ASC_{im} + F(T_m, b_{c_i}) + C_{m_i} b_{c_i} + \\sum_{p \\in P} x_p * b_{x_p}$\n",
    "\n",
    "Index i marks the demand group"
   ]
  },
  {
   "cell_type": "code",
   "execution_count": 3,
   "metadata": {},
   "outputs": [],
   "source": [
    "input_path = '../input/'\n",
    "model_path = '../model/'"
   ]
  },
  {
   "cell_type": "code",
   "execution_count": null,
   "metadata": {},
   "outputs": [],
   "source": [
    "# Load parameters for settings\n",
    "params = excel.read_var(file='../input/parameters.xls', scenario=scenario)"
   ]
  },
  {
   "cell_type": "markdown",
   "metadata": {},
   "source": [
    "### Prepare the database"
   ]
  },
  {
   "cell_type": "code",
   "execution_count": 4,
   "metadata": {},
   "outputs": [],
   "source": [
    "df = pd.read_csv(input_path + 'transport_demand/calibration_inter-cellular_trips_MiD2017.csv')\n",
    "df = df[['cost_rail_short', 'cost_rail_long', 'cost_car', 'cost_coach', 'cost_bus', 'cost_walk', 'cost_air',\n",
    "         'time_rail_short', 'time_rail_long', 'time_car', 'time_coach', 'time_bus', 'time_walk', 'time_air',\n",
    "         'cost_rail', 'cost_road', 'time_rail', 'time_road',\n",
    "         'mode_model', 'purpose_vp', 'car_avail', 'length', 'W_GEW',\n",
    "         'ticket_type', 'income_hh', 'cars_hh', 'education', 'license',\n",
    "         'bike_avail', 'car_sharing_abo', 'car_dens_zone']]\n",
    "df.columns = ['C_RAIL_S', 'C_RAIL_L', 'C_CAR', 'C_COACH', 'C_BUS', 'C_NON_MOTOR', 'C_AIR',\n",
    "              'T_RAIL_S', 'T_RAIL_L', 'T_CAR', 'T_COACH', 'T_BUS', 'T_NON_MOTOR', 'T_AIR',\n",
    "              'C_RAIL', 'C_ROAD', 'T_RAIL', 'T_ROAD',\n",
    "              'MODE', 'PURPOSE', 'CAR_AV', 'DIST', 'W_GEW',\n",
    "              'ABO', 'INCOME', 'CARS', 'EDU', 'DL', 'BIKE_AV', 'CS', 'CAR_DENS']"
   ]
  },
  {
   "cell_type": "code",
   "execution_count": null,
   "metadata": {},
   "outputs": [],
   "source": [
    "# The estimation requires numerical purpose values\n",
    "p_dict = {'commuting':1, 'business':2, 'education':3, 'buy/execute':4, 'leisure':6, 'accompany':7}\n",
    "df['PURPOSE'] = df['PURPOSE'].apply(lambda s: p_dict[s.split('_')[0]])"
   ]
  },
  {
   "cell_type": "code",
   "execution_count": 5,
   "metadata": {},
   "outputs": [],
   "source": [
    "inf = 10000\n",
    "df = df.replace({np.inf:inf})"
   ]
  },
  {
   "cell_type": "code",
   "execution_count": 6,
   "metadata": {},
   "outputs": [],
   "source": [
    "# \"Normalise\" PT ticket types\n",
    "# Assume this dict with factors\n",
    "ticket_dict = {1:0, 2:0.1, 3:0.5, 4:1, 5:1, 6:0, 7:0, 99:0, 200:0}\n",
    "df['ABO'] = df['ABO'].map(ticket_dict)"
   ]
  },
  {
   "cell_type": "code",
   "execution_count": 9,
   "metadata": {},
   "outputs": [],
   "source": [
    "# Scale time to hours\n",
    "df['T_RAIL_Sc'] = df['T_RAIL'] / 60\n",
    "df['T_RAIL_S_S'] = df['T_RAIL_S'] / 60\n",
    "df['T_RAIL_L_S'] = df['T_RAIL_L'] / 60\n",
    "df['T_CAR_S'] = df['T_CAR'] / 60\n",
    "df['T_COACH_S'] = df['T_COACH'] / 60\n",
    "df['T_BUS_S'] = df['T_BUS'] / 60\n",
    "df['T_ROAD_S'] = df['T_ROAD'] / 60\n",
    "df['T_AIR_S'] = df['T_AIR'] / 60\n",
    "df['T_NON_MOTOR_S'] = df['T_NON_MOTOR'] / 60"
   ]
  },
  {
   "cell_type": "code",
   "execution_count": 10,
   "metadata": {},
   "outputs": [],
   "source": [
    "# Make car availability binary\n",
    "df['CAR_AV'] = df['CAR_AV'].replace({9:0})"
   ]
  },
  {
   "cell_type": "code",
   "execution_count": 11,
   "metadata": {},
   "outputs": [],
   "source": [
    "# Add PT availabilities\n",
    "df['RAIL_AV'] = (df['T_RAIL']!=inf).astype(int)\n",
    "df['RAIL_S_AV'] = (df['T_RAIL_S']!=inf).astype(int)\n",
    "df['RAIL_L_AV'] = (df['T_RAIL_L']!=inf).astype(int)\n",
    "df['COACH_AV'] = (df['T_COACH']!=inf).astype(int)\n",
    "df['BUS_AV'] = (df['T_BUS']!=inf).astype(int)\n",
    "df['ROAD_AV'] = (df['T_ROAD']!=inf).astype(int)\n",
    "df['AIR_AV'] = (df['T_AIR']!=inf).astype(int)\n",
    "df['NON_MOTOR_AV'] = (df['C_NON_MOTOR']!=inf).astype(int)"
   ]
  },
  {
   "cell_type": "code",
   "execution_count": 12,
   "metadata": {},
   "outputs": [],
   "source": [
    "# Merge rail and road PT\n",
    "df['MODE'] = df['MODE'].replace({2:1, 3:4})"
   ]
  },
  {
   "cell_type": "code",
   "execution_count": 13,
   "metadata": {},
   "outputs": [
    {
     "name": "stdout",
     "output_type": "stream",
     "text": [
      "Share of car trips dropped: 0.0141490154593321\n",
      "93461\n"
     ]
    }
   ],
   "source": [
    "# Remove trips where mode is car but the car availability is zero\n",
    "# because it irritates the MLE algorithm\n",
    "mask = ((df['MODE']==6) & (df['CAR_AV']==0))\n",
    "drop_ratio = len(df.loc[mask])/len(df.loc[df['MODE']==6])\n",
    "lengths = list(df.loc[mask, 'DIST'])\n",
    "print('Share of car trips dropped: {}'.format(drop_ratio))\n",
    "df = df.loc[~mask]\n",
    "# Drop other modes equally\n",
    "#for m in [1,4]:\n",
    "#    n_drops = int(np.round(drop_ratio * len(df.loc[df['MODE']==m])))\n",
    "#    df = df.drop(df.loc[(df['MODE']==m) & (df['DIST']<max(lengths)) &\n",
    "#                        (df['DIST']>min(lengths))].sample(n_drops).index)\n",
    "#    print('Dropped ' + str(n_drops) + ' trips of mode ' + str(m))\n",
    "print(len(df))"
   ]
  },
  {
   "cell_type": "code",
   "execution_count": null,
   "metadata": {},
   "outputs": [],
   "source": [
    "# There is one observation with purpose commuting by air.\n",
    "# Map it to business trips, because it corrupts the estimation\n",
    "df.loc[(df['PURPOSE'].isin([1,2]))&(df['MODE']==5), 'PURPOSE'] = 4"
   ]
  },
  {
   "cell_type": "code",
   "execution_count": 14,
   "metadata": {},
   "outputs": [],
   "source": [
    "# Check that PT trips have no infinity cost\n",
    "for mode, col in zip([1, 4, 5], ['RAIL_AV', 'ROAD_AV', 'AIR_AV']):\n",
    "    assert len(df.loc[((df['MODE']==mode) & ~(df[col]))].index) == 0, str(mode)"
   ]
  },
  {
   "cell_type": "markdown",
   "metadata": {},
   "source": [
    "### Model variables\n",
    "All columns are variables. DefineVariable creates a new column in the database."
   ]
  },
  {
   "cell_type": "markdown",
   "metadata": {},
   "source": [
    "#### Cost damping\n",
    "\n",
    "Many modelling studies have shown that cost damping is required in order to flatten the tail of time/cost elasticities, i.e. decrease the impact of long distances on choice results to prevent from overestimation of time/cost parameters. Cost damping represents the property of decreasing marginal utility. It is commonly approached with Box-Cox transformations of generalised cost (usually defined as the sum of travel time and travel expenditures divided by the value of time). Daly (2010) proposes a hybrid function as a sum of the linear term and the narural logarithm of the same. However, the linear term still dominates cost on long distances. Rich (2015), main developer of the Danish National Transport Model, proposes a more complex spline function which successfully manages cost damping and even outperforms the Box-Cox transformation in terms of stability of elasticities."
   ]
  },
  {
   "cell_type": "code",
   "execution_count": 15,
   "metadata": {},
   "outputs": [
    {
     "name": "stdout",
     "output_type": "stream",
     "text": [
      "This functional form performes poorly\n"
     ]
    }
   ],
   "source": [
    "# The cost damping function from Rich (2020)\n",
    "c = params['estimation']\n",
    "def spline(x, beta, c1, c2, Q=3):\n",
    "    alpha = [0, -beta/2*ex.Power(ex.log(c1),3),\n",
    "             -beta/2*ex.log(c1)*(3*ex.Power(ex.log(c2),2)+ex.Power(ex.log(c1),2))] # for Q=3\n",
    "    theta = [1, 3/2*ex.log(c1), 3*ex.log(c1)*ex.log(c2)] # for Q=3\n",
    "    return (beta*theta[0]*ex.Power(ex.log(x),Q-1+1) + alpha[0]) * (x<c1) \\\n",
    "    + (beta*theta[1]*ex.Power(ex.log(x),Q-2+1) + alpha[1]) * (x>=c1)*(x<c2) \\\n",
    "    + (beta*theta[2]*ex.Power(ex.log(x),Q-3+1) + alpha[2]) * (x>=c2)"
   ]
  },
  {
   "cell_type": "markdown",
   "metadata": {},
   "source": [
    "#### Generalised cost\n",
    "\n",
    "Both, travel time and monetary cost should be affected by cost damping measures. It is logical to define a generalised cost term `GC` with dimension of time units. This requires definition or estimation of values of time, in order to rescale monetary units, for all segments. Usually, the value of time (VoT) is distance-dependent. In the case of Germany, VoT can be taken from research undertaken within the Federal Government's transport study \"Bundesverkehrswegeplan 2030\": Axhausen et al. 2015. Ermittlung von Bewertungsansätzen für Reisezeiten und Zuverlässigkeit auf der Basis eines Modells für modale Verlagerungen im nicht-gewerblichen und gewerblichen Personenverkehr für die Bundesverkehrswegeplanung"
   ]
  },
  {
   "cell_type": "code",
   "execution_count": 16,
   "metadata": {},
   "outputs": [
    {
     "data": {
      "text/html": [
       "<div>\n",
       "<style scoped>\n",
       "    .dataframe tbody tr th:only-of-type {\n",
       "        vertical-align: middle;\n",
       "    }\n",
       "\n",
       "    .dataframe tbody tr th {\n",
       "        vertical-align: top;\n",
       "    }\n",
       "\n",
       "    .dataframe thead tr th {\n",
       "        text-align: left;\n",
       "    }\n",
       "</style>\n",
       "<table border=\"1\" class=\"dataframe\">\n",
       "  <thead>\n",
       "    <tr>\n",
       "      <th></th>\n",
       "      <th>root</th>\n",
       "      <th>Fz1</th>\n",
       "      <th>Fz2</th>\n",
       "      <th>Fz3</th>\n",
       "      <th>Fz4</th>\n",
       "      <th>Fz6</th>\n",
       "      <th>root</th>\n",
       "      <th>Fz1</th>\n",
       "      <th>Fz2</th>\n",
       "      <th>Fz3</th>\n",
       "      <th>...</th>\n",
       "      <th>Fz2</th>\n",
       "      <th>Fz3</th>\n",
       "      <th>Fz4</th>\n",
       "      <th>Fz6</th>\n",
       "      <th>root</th>\n",
       "      <th>Fz1</th>\n",
       "      <th>Fz2</th>\n",
       "      <th>Fz3</th>\n",
       "      <th>Fz4</th>\n",
       "      <th>Fz6</th>\n",
       "    </tr>\n",
       "    <tr>\n",
       "      <th></th>\n",
       "      <th>all</th>\n",
       "      <th>all</th>\n",
       "      <th>all</th>\n",
       "      <th>all</th>\n",
       "      <th>all</th>\n",
       "      <th>all</th>\n",
       "      <th>PT</th>\n",
       "      <th>PT</th>\n",
       "      <th>PT</th>\n",
       "      <th>PT</th>\n",
       "      <th>...</th>\n",
       "      <th>air</th>\n",
       "      <th>air</th>\n",
       "      <th>air</th>\n",
       "      <th>air</th>\n",
       "      <th>car</th>\n",
       "      <th>car</th>\n",
       "      <th>car</th>\n",
       "      <th>car</th>\n",
       "      <th>car</th>\n",
       "      <th>car</th>\n",
       "    </tr>\n",
       "  </thead>\n",
       "  <tbody>\n",
       "    <tr>\n",
       "      <th>846</th>\n",
       "      <td>22.6602</td>\n",
       "      <td>21.6434</td>\n",
       "      <td>9.18</td>\n",
       "      <td>11.9</td>\n",
       "      <td>31.2012</td>\n",
       "      <td>16.8786</td>\n",
       "      <td>16.9954</td>\n",
       "      <td>12.8536</td>\n",
       "      <td>13.48</td>\n",
       "      <td>17.2836</td>\n",
       "      <td>...</td>\n",
       "      <td>89.5270</td>\n",
       "      <td>89.5270</td>\n",
       "      <td>241.4638</td>\n",
       "      <td>49.6124</td>\n",
       "      <td>22.3718</td>\n",
       "      <td>21.1758</td>\n",
       "      <td>13.1774</td>\n",
       "      <td>28.1514</td>\n",
       "      <td>25.0290</td>\n",
       "      <td>16.8786</td>\n",
       "    </tr>\n",
       "    <tr>\n",
       "      <th>391</th>\n",
       "      <td>16.4744</td>\n",
       "      <td>15.8198</td>\n",
       "      <td>9.18</td>\n",
       "      <td>11.9</td>\n",
       "      <td>18.9440</td>\n",
       "      <td>12.7696</td>\n",
       "      <td>12.5260</td>\n",
       "      <td>9.8722</td>\n",
       "      <td>13.48</td>\n",
       "      <td>14.3040</td>\n",
       "      <td>...</td>\n",
       "      <td>37.8282</td>\n",
       "      <td>37.8282</td>\n",
       "      <td>43.7598</td>\n",
       "      <td>22.8464</td>\n",
       "      <td>16.3662</td>\n",
       "      <td>15.6216</td>\n",
       "      <td>10.0604</td>\n",
       "      <td>20.9718</td>\n",
       "      <td>17.5854</td>\n",
       "      <td>12.7696</td>\n",
       "    </tr>\n",
       "  </tbody>\n",
       "</table>\n",
       "<p>2 rows × 24 columns</p>\n",
       "</div>"
      ],
      "text/plain": [
       "        root      Fz1   Fz2   Fz3      Fz4      Fz6     root      Fz1    Fz2  \\\n",
       "         all      all   all   all      all      all       PT       PT     PT   \n",
       "846  22.6602  21.6434  9.18  11.9  31.2012  16.8786  16.9954  12.8536  13.48   \n",
       "391  16.4744  15.8198  9.18  11.9  18.9440  12.7696  12.5260   9.8722  13.48   \n",
       "\n",
       "         Fz3  ...      Fz2      Fz3       Fz4      Fz6     root      Fz1  \\\n",
       "          PT  ...      air      air       air      air      car      car   \n",
       "846  17.2836  ...  89.5270  89.5270  241.4638  49.6124  22.3718  21.1758   \n",
       "391  14.3040  ...  37.8282  37.8282   43.7598  22.8464  16.3662  15.6216   \n",
       "\n",
       "         Fz2      Fz3      Fz4      Fz6  \n",
       "         car      car      car      car  \n",
       "846  13.1774  28.1514  25.0290  16.8786  \n",
       "391  10.0604  20.9718  17.5854  12.7696  \n",
       "\n",
       "[2 rows x 24 columns]"
      ]
     },
     "execution_count": 16,
     "metadata": {},
     "output_type": "execute_result"
    }
   ],
   "source": [
    "# VoT from literature, distance-dependent, see cal19\n",
    "VoT = pd.read_csv(input_path + 'vot.csv', header=[0,1], index_col=0)\n",
    "VoT.sample(2)"
   ]
  },
  {
   "cell_type": "code",
   "execution_count": 17,
   "metadata": {},
   "outputs": [],
   "source": [
    "# Make distance integer\n",
    "df['DIST'] = df['DIST'].apply(int)"
   ]
  },
  {
   "cell_type": "raw",
   "metadata": {},
   "source": [
    "df = df.loc[df['DIST']<=1000]\n",
    "len(df)"
   ]
  },
  {
   "cell_type": "raw",
   "metadata": {},
   "source": [
    "# Generate generalised cost\n",
    "VoT = VoT.to_dict()\n",
    "df['GC_RAIL'] = df['T_RAIL_Sc'] + [c / VoT[('Fz'+str(p), 'PT')][d]\n",
    "                                   for c,d,p in zip(df['C_RAIL'], df['DIST'], df['PURPOSE'])]\n",
    "df['GC_RAIL_S'] = df['T_RAIL_S_S'] + [c / VoT[('Fz'+str(p), 'PT')][d]\n",
    "                                      for c,d,p in zip(df['C_RAIL_S'], df['DIST'], df['PURPOSE'])]\n",
    "df['GC_RAIL_L'] = df['T_RAIL_L_S'] + [c / VoT[('Fz'+str(p), 'PT')][d]\n",
    "                                      for c,d,p in zip(df['C_RAIL_L'], df['DIST'], df['PURPOSE'])]\n",
    "df['GC_COACH'] = df['T_COACH_S'] + [c / VoT[('Fz'+str(p), 'PT')][d]\n",
    "                                    for c,d,p in zip(df['C_COACH'], df['DIST'], df['PURPOSE'])]\n",
    "df['GC_BUS'] = df['T_BUS_S'] + [c / VoT[('Fz'+str(p), 'PT')][d]\n",
    "                                for c,d,p in zip(df['C_BUS'], df['DIST'], df['PURPOSE'])]\n",
    "df['GC_ROAD'] = df['T_ROAD_S'] + [c / VoT[('Fz'+str(p), 'PT')][d]\n",
    "                                  for c,d,p in zip(df['C_ROAD'], df['DIST'], df['PURPOSE'])]\n",
    "df['GC_AIR'] = df['T_AIR_S'] + [c / VoT[('Fz'+str(p), 'air')][d]\n",
    "                                for c,d,p in zip(df['C_AIR'], df['DIST'], df['PURPOSE'])]\n",
    "df['GC_CAR'] = df['T_CAR_S'] + [c / VoT[('Fz'+str(p), 'car')][d]\n",
    "                                for c,d,p in zip(df['C_CAR'], df['DIST'], df['PURPOSE'])]\n",
    "df['GC_NON_MOTOR'] = df['T_NON_MOTOR_S']"
   ]
  },
  {
   "cell_type": "raw",
   "metadata": {},
   "source": [
    "df.loc[df['CAR_AV']==1, 'GC_CAR'].hist(log=True,\n",
    "    bins=50, alpha=.3, ax=df.loc[df['RAIL_AV']==1, 'GC_RAIL'].hist(log=True,\n",
    "        bins=50, color='green', alpha=.3, ax=df.loc[df['ROAD_AV']==1, 'GC_ROAD'].hist(log=True,\n",
    "            bins=50, color='orange', alpha=.3, ax=df.loc[df['NON_MOTOR_AV']==1, 'GC_NON_MOTOR'].hist(log=True,\n",
    "                bins=50, color='purple', alpha=.3, ax=df.loc[df['AIR_AV']==1, 'GC_AIR'].hist(log=True,\n",
    "                    bins=50, color='yellow', alpha=.3)))))"
   ]
  },
  {
   "cell_type": "code",
   "execution_count": 20,
   "metadata": {},
   "outputs": [
    {
     "data": {
      "text/plain": [
       "93461"
      ]
     },
     "execution_count": 20,
     "metadata": {},
     "output_type": "execute_result"
    }
   ],
   "source": [
    "# Create the initial database and make columns global variables\n",
    "database = db.Database('MiD2017', df.copy())\n",
    "globals().update(database.variables)\n",
    "database.getSampleSize()"
   ]
  },
  {
   "cell_type": "markdown",
   "metadata": {},
   "source": [
    "### Estimation parameters"
   ]
  },
  {
   "cell_type": "code",
   "execution_count": 21,
   "metadata": {},
   "outputs": [],
   "source": [
    "asc_rail = ex.Beta('asc_rail', 0, None, None, 0)\n",
    "asc_rail_s = ex.Beta('asc_rail_s', 0, None, None, 0)\n",
    "asc_rail_l = ex.Beta('asc_rail_l', 0, None, None, 0)\n",
    "asc_coach = ex.Beta('asc_coach', 0, None, None, 0)\n",
    "asc_bus = ex.Beta('asc_bus', 0, None, None, 0)\n",
    "asc_road = ex.Beta('asc_road', 0, None, None, 0)\n",
    "asc_air = ex.Beta('asc_air', 0, None, None, 0)\n",
    "asc_car = ex.Beta('asc_car', 0, None, None, 1)\n",
    "asc_non_motor = ex.Beta('asc_non_motor', 0, None, None, 0)"
   ]
  },
  {
   "cell_type": "code",
   "execution_count": 22,
   "metadata": {},
   "outputs": [],
   "source": [
    "b_t = ex.Beta('b_t', 0, None, None, 0)\n",
    "b_t_s = ex.Beta('b_t_s', 1, None, None, 0)\n",
    "b_t_rnd = b_t + b_t_s * ex.bioDraws('b_t_rnd', 'NORMAL')\n",
    "b_c = ex.Beta('b_c', 0, None, None, 0)\n",
    "b_c_s = ex.Beta('b_c_s', 1, None, None, 0)\n",
    "b_c_rnd = b_c + b_c_s * ex.bioDraws('b_c_rnd', 'NORMAL')"
   ]
  },
  {
   "cell_type": "code",
   "execution_count": 75,
   "metadata": {},
   "outputs": [],
   "source": [
    "# generalised cost function parameter\n",
    "b_gc = ex.Beta('b_gc', 0, None, None, 0)\n",
    "b_gc_s = ex.Beta('b_gc_s', 1, None, None, 0)\n",
    "b_gc_rnd = b_gc + b_gc_s * ex.bioDraws('b_gc_rnd', 'NORMAL')"
   ]
  },
  {
   "cell_type": "code",
   "execution_count": 25,
   "metadata": {},
   "outputs": [],
   "source": [
    "# Parameters for the nested logit structure\n",
    "mu_pt = ex.Beta('mu_pt', 1, 1, 10, 0)"
   ]
  },
  {
   "cell_type": "code",
   "execution_count": 49,
   "metadata": {},
   "outputs": [],
   "source": [
    "# Individual parameters (require Mixed Logit formulation)\n",
    "# We need one parameter for the mean, one for the variance, and one random draw parameter.\n",
    "# It is advised not to use 0 as starting value for the variance parameter\n",
    "b_ticket = ex.Beta('b_ticket', 0, None, None, 0)\n",
    "b_ticket_s = ex.Beta('b_ticket_s', 1, None, None, 0)\n",
    "b_ticket_rnd = b_ticket + b_ticket_s * ex.bioDraws('b_ticket_rnd', 'UNIFORM_HALTON2')\n",
    "b_inc = ex.Beta('b_inc', 0, None, None, 0)\n",
    "b_inc_s = ex.Beta('b_inc_s', 1, None, None, 0)\n",
    "b_inc_rnd = b_inc + b_inc_s * ex.bioDraws('b_inc_rnd', 'UNIFORM_HALTON2')\n",
    "b_cars = ex.Beta('b_cars', 0, None, None, 0)\n",
    "b_cars_s = ex.Beta('b_cars_s', 1, None, None, 0)\n",
    "b_cars_rnd = b_cars + b_cars_s * ex.bioDraws('b_cars_rnd', 'UNIFORM_HALTON2')"
   ]
  },
  {
   "cell_type": "markdown",
   "metadata": {},
   "source": [
    "### Utility functions"
   ]
  },
  {
   "cell_type": "code",
   "execution_count": 86,
   "metadata": {},
   "outputs": [],
   "source": [
    "# Model specification with spline function transformation - disaggregated\n",
    "p_dict_rev = dict(zip(p_dict.values(), p_dict.keys()))\n",
    "car = '_car' # take the knot points for car available\n",
    "V_RAIL = {p: asc_rail\n",
    "              + C_RAIL * b_c\n",
    "              + spline(T_RAIL, b_t, c['c1_time_'+p_dict_rev[p]+car]*60, c['c2_time_'+p_dict_rev[p]+car]*60)\n",
    "          for p in df['PURPOSE'].unique()}\n",
    "V_ROAD = {p: asc_road\n",
    "              + C_ROAD * b_c\n",
    "              + spline(T_ROAD, b_t, c['c1_time_'+p_dict_rev[p]+car]*60, c['c2_time_'+p_dict_rev[p]+car]*60)\n",
    "          for p in df['PURPOSE'].unique()}\n",
    "V_AIR = {p: asc_air\n",
    "             + C_AIR * b_c\n",
    "             + spline(T_AIR, b_t, c['c1_time_'+p_dict_rev[p]+car]*60, c['c2_time_'+p_dict_rev[p]+car]*60)\n",
    "         for p in df['PURPOSE'].unique()}\n",
    "V_CAR = {p: asc_car\n",
    "             + C_CAR * b_c\n",
    "             + spline(T_CAR, b_t, c['c1_time_'+p_dict_rev[p]+car]*60, c['c2_time_'+p_dict_rev[p]+car]*60)\n",
    "         for p in df['PURPOSE'].unique()}\n",
    "V_NON_MOTOR = {p: asc_non_motor \n",
    "                   + spline(T_NON_MOTOR, b_t, c['c1_time_'+p_dict_rev[p]+car]*60, c['c2_time_'+p_dict_rev[p]+car]*60)\n",
    "               for p in df['PURPOSE'].unique()}\n",
    "\n",
    "# Model specification for business trips\n",
    "V_RAIL[2] = asc_rail + spline(T_RAIL, b_t, c['c1_time_business'+car]*60, c['c2_time_business'+car]*60)\n",
    "V_ROAD[2] = asc_road + spline(T_ROAD, b_t, c['c1_time_business'+car]*60, c['c2_time_business'+car]*60)\n",
    "V_AIR[2] = asc_air + spline(T_AIR, b_t, c['c1_time_business'+car]*60, c['c2_time_business'+car]*60)\n",
    "V_CAR[2] = asc_car + spline(T_CAR, b_t, c['c1_time_business'+car]*60, c['c2_time_business'+car]*60)\n",
    "V_NON_MOTOR[2] = asc_non_motor + spline(T_NON_MOTOR, b_t, c['c1_time_business'+car]*60, c['c2_time_business'+car]*60)"
   ]
  },
  {
   "cell_type": "markdown",
   "metadata": {},
   "source": [
    "### Run the estimation"
   ]
  },
  {
   "cell_type": "code",
   "execution_count": 30,
   "metadata": {},
   "outputs": [],
   "source": [
    "# Define level of verbosity\n",
    "logger = message.bioMessage()\n",
    "#logger.setSilent()\n",
    "logger.setWarning()\n",
    "#logger.setGeneral()\n",
    "#logger.setDetailed()"
   ]
  },
  {
   "cell_type": "code",
   "execution_count": 87,
   "metadata": {},
   "outputs": [],
   "source": [
    "# Map modes to utility functions\n",
    "V = {1:V_RAIL,\n",
    "     4:V_ROAD,\n",
    "     5:V_AIR,\n",
    "     6:V_CAR,\n",
    "     7:V_NON_MOTOR}"
   ]
  },
  {
   "cell_type": "code",
   "execution_count": 32,
   "metadata": {},
   "outputs": [],
   "source": [
    "# Map the availability of alternatives with MODE as key\n",
    "av = {1:RAIL_AV,\n",
    "      4:ROAD_AV,\n",
    "      5:AIR_AV,\n",
    "      6:CAR_AV,\n",
    "      7:NON_MOTOR_AV}"
   ]
  },
  {
   "cell_type": "code",
   "execution_count": 33,
   "metadata": {},
   "outputs": [],
   "source": [
    "# Mode nests as tuples with nest name and dictionary where\n",
    "# alternative IDs are mapped to alpha values. Missing ID's alpha is zero\n",
    "# Alternatively use lists with mode ID without alpha\n",
    "pt = mu_pt, [1, 4]#[1, 2, 3, 4]\n",
    "air = 1, [5]\n",
    "car = 1, [6]\n",
    "walk = 1, [7]\n",
    "nests = pt, air, car, walk"
   ]
  },
  {
   "cell_type": "code",
   "execution_count": 104,
   "metadata": {},
   "outputs": [],
   "source": [
    "# Write results to an Excel file\n",
    "writer = pd.ExcelWriter(input_path + 'estimation_results_car_own_ML.xls', engine='xlsxwriter')"
   ]
  },
  {
   "cell_type": "code",
   "execution_count": 89,
   "metadata": {},
   "outputs": [],
   "source": [
    "# Choose the multinomial logit model\n",
    "mnl = models.logit(V, av, MODE)"
   ]
  },
  {
   "cell_type": "code",
   "execution_count": 90,
   "metadata": {},
   "outputs": [],
   "source": [
    "# Monte Carlo Integration\n",
    "mnl_mix = ex.log(ex.MonteCarlo(mnl))"
   ]
  },
  {
   "cell_type": "code",
   "execution_count": 91,
   "metadata": {},
   "outputs": [],
   "source": [
    "database = db.Database('MiD2017', df.copy())\n",
    "#database.remove(PURPOSE!=1)\n",
    "model_mnl = bio.BIOGEME(database, mnl_mix, numberOfDraws=5000)\n",
    "model_mnl.modelName = 'MNL'"
   ]
  },
  {
   "cell_type": "code",
   "execution_count": 92,
   "metadata": {},
   "outputs": [],
   "source": [
    "results_mnl = model_mnl.estimate()"
   ]
  },
  {
   "cell_type": "code",
   "execution_count": 93,
   "metadata": {},
   "outputs": [
    {
     "data": {
      "text/html": [
       "<div>\n",
       "<style scoped>\n",
       "    .dataframe tbody tr th:only-of-type {\n",
       "        vertical-align: middle;\n",
       "    }\n",
       "\n",
       "    .dataframe tbody tr th {\n",
       "        vertical-align: top;\n",
       "    }\n",
       "\n",
       "    .dataframe thead th {\n",
       "        text-align: right;\n",
       "    }\n",
       "</style>\n",
       "<table border=\"1\" class=\"dataframe\">\n",
       "  <thead>\n",
       "    <tr style=\"text-align: right;\">\n",
       "      <th></th>\n",
       "      <th>Value</th>\n",
       "      <th>Std err</th>\n",
       "      <th>t-test</th>\n",
       "      <th>p-value</th>\n",
       "      <th>Rob. Std err</th>\n",
       "      <th>Rob. t-test</th>\n",
       "      <th>Rob. p-value</th>\n",
       "    </tr>\n",
       "  </thead>\n",
       "  <tbody>\n",
       "    <tr>\n",
       "      <th>asc_air</th>\n",
       "      <td>-5.66016</td>\n",
       "      <td>0.198802</td>\n",
       "      <td>-28.4713</td>\n",
       "      <td>0</td>\n",
       "      <td>0.243355</td>\n",
       "      <td>-23.2589</td>\n",
       "      <td>0</td>\n",
       "    </tr>\n",
       "    <tr>\n",
       "      <th>asc_non_motor</th>\n",
       "      <td>-4.62377</td>\n",
       "      <td>0.0432325</td>\n",
       "      <td>-106.951</td>\n",
       "      <td>0</td>\n",
       "      <td>0.0450704</td>\n",
       "      <td>-102.59</td>\n",
       "      <td>0</td>\n",
       "    </tr>\n",
       "    <tr>\n",
       "      <th>asc_rail</th>\n",
       "      <td>-2.15596</td>\n",
       "      <td>0.0152572</td>\n",
       "      <td>-141.308</td>\n",
       "      <td>0</td>\n",
       "      <td>0.0172081</td>\n",
       "      <td>-125.288</td>\n",
       "      <td>0</td>\n",
       "    </tr>\n",
       "    <tr>\n",
       "      <th>asc_road</th>\n",
       "      <td>-3.10958</td>\n",
       "      <td>0.0186338</td>\n",
       "      <td>-166.879</td>\n",
       "      <td>0</td>\n",
       "      <td>0.0188077</td>\n",
       "      <td>-165.336</td>\n",
       "      <td>0</td>\n",
       "    </tr>\n",
       "    <tr>\n",
       "      <th>b_gc</th>\n",
       "      <td>-0.432392</td>\n",
       "      <td>0.0120719</td>\n",
       "      <td>-35.8182</td>\n",
       "      <td>0</td>\n",
       "      <td>0.0175303</td>\n",
       "      <td>-24.6655</td>\n",
       "      <td>0</td>\n",
       "    </tr>\n",
       "    <tr>\n",
       "      <th>b_gc_s</th>\n",
       "      <td>0.16492</td>\n",
       "      <td>0.00534774</td>\n",
       "      <td>30.8392</td>\n",
       "      <td>0</td>\n",
       "      <td>0.00703688</td>\n",
       "      <td>23.4365</td>\n",
       "      <td>0</td>\n",
       "    </tr>\n",
       "    <tr>\n",
       "      <th>Number of estimated parameters</th>\n",
       "      <td>6</td>\n",
       "      <td></td>\n",
       "      <td></td>\n",
       "      <td></td>\n",
       "      <td></td>\n",
       "      <td></td>\n",
       "      <td></td>\n",
       "    </tr>\n",
       "    <tr>\n",
       "      <th>Sample size</th>\n",
       "      <td>93461</td>\n",
       "      <td></td>\n",
       "      <td></td>\n",
       "      <td></td>\n",
       "      <td></td>\n",
       "      <td></td>\n",
       "      <td></td>\n",
       "    </tr>\n",
       "    <tr>\n",
       "      <th>Excluded observations</th>\n",
       "      <td>0</td>\n",
       "      <td></td>\n",
       "      <td></td>\n",
       "      <td></td>\n",
       "      <td></td>\n",
       "      <td></td>\n",
       "      <td></td>\n",
       "    </tr>\n",
       "    <tr>\n",
       "      <th>Init log likelihood</th>\n",
       "      <td>-127815</td>\n",
       "      <td>.7g</td>\n",
       "      <td></td>\n",
       "      <td></td>\n",
       "      <td></td>\n",
       "      <td></td>\n",
       "      <td></td>\n",
       "    </tr>\n",
       "    <tr>\n",
       "      <th>Final log likelihood</th>\n",
       "      <td>-37612.2</td>\n",
       "      <td>.7g</td>\n",
       "      <td></td>\n",
       "      <td></td>\n",
       "      <td></td>\n",
       "      <td></td>\n",
       "      <td></td>\n",
       "    </tr>\n",
       "    <tr>\n",
       "      <th>Likelihood ratio test for the init. model</th>\n",
       "      <td>180405</td>\n",
       "      <td>.7g</td>\n",
       "      <td></td>\n",
       "      <td></td>\n",
       "      <td></td>\n",
       "      <td></td>\n",
       "      <td></td>\n",
       "    </tr>\n",
       "    <tr>\n",
       "      <th>Rho-square for the init. model</th>\n",
       "      <td>0.705728</td>\n",
       "      <td>.3g</td>\n",
       "      <td></td>\n",
       "      <td></td>\n",
       "      <td></td>\n",
       "      <td></td>\n",
       "      <td></td>\n",
       "    </tr>\n",
       "    <tr>\n",
       "      <th>Rho-square-bar for the init. model</th>\n",
       "      <td>0.705681</td>\n",
       "      <td>.3g</td>\n",
       "      <td></td>\n",
       "      <td></td>\n",
       "      <td></td>\n",
       "      <td></td>\n",
       "      <td></td>\n",
       "    </tr>\n",
       "    <tr>\n",
       "      <th>Akaike Information Criterion</th>\n",
       "      <td>75236.5</td>\n",
       "      <td>.7g</td>\n",
       "      <td></td>\n",
       "      <td></td>\n",
       "      <td></td>\n",
       "      <td></td>\n",
       "      <td></td>\n",
       "    </tr>\n",
       "    <tr>\n",
       "      <th>Bayesian Information Criterion</th>\n",
       "      <td>75293.1</td>\n",
       "      <td>.7g</td>\n",
       "      <td></td>\n",
       "      <td></td>\n",
       "      <td></td>\n",
       "      <td></td>\n",
       "      <td></td>\n",
       "    </tr>\n",
       "    <tr>\n",
       "      <th>Final gradient norm</th>\n",
       "      <td>0.330756</td>\n",
       "      <td>.4E</td>\n",
       "      <td></td>\n",
       "      <td></td>\n",
       "      <td></td>\n",
       "      <td></td>\n",
       "      <td></td>\n",
       "    </tr>\n",
       "    <tr>\n",
       "      <th>Number of draws</th>\n",
       "      <td>10000</td>\n",
       "      <td></td>\n",
       "      <td></td>\n",
       "      <td></td>\n",
       "      <td></td>\n",
       "      <td></td>\n",
       "      <td></td>\n",
       "    </tr>\n",
       "    <tr>\n",
       "      <th>Draws generation time</th>\n",
       "      <td>0 days 00:29:34.385997</td>\n",
       "      <td>NaN</td>\n",
       "      <td>NaN</td>\n",
       "      <td>NaN</td>\n",
       "      <td>NaN</td>\n",
       "      <td>NaN</td>\n",
       "      <td>NaN</td>\n",
       "    </tr>\n",
       "    <tr>\n",
       "      <th>Types of draws</th>\n",
       "      <td>[b_gc_rnd: NORMAL]</td>\n",
       "      <td></td>\n",
       "      <td></td>\n",
       "      <td></td>\n",
       "      <td></td>\n",
       "      <td></td>\n",
       "      <td></td>\n",
       "    </tr>\n",
       "    <tr>\n",
       "      <th>Nbr of threads</th>\n",
       "      <td>16</td>\n",
       "      <td></td>\n",
       "      <td></td>\n",
       "      <td></td>\n",
       "      <td></td>\n",
       "      <td></td>\n",
       "      <td></td>\n",
       "    </tr>\n",
       "  </tbody>\n",
       "</table>\n",
       "</div>"
      ],
      "text/plain": [
       "                                                            Value     Std err  \\\n",
       "asc_air                                                  -5.66016    0.198802   \n",
       "asc_non_motor                                            -4.62377   0.0432325   \n",
       "asc_rail                                                 -2.15596   0.0152572   \n",
       "asc_road                                                 -3.10958   0.0186338   \n",
       "b_gc                                                    -0.432392   0.0120719   \n",
       "b_gc_s                                                    0.16492  0.00534774   \n",
       "Number of estimated parameters                                  6               \n",
       "Sample size                                                 93461               \n",
       "Excluded observations                                           0               \n",
       "Init log likelihood                                       -127815         .7g   \n",
       "Final log likelihood                                     -37612.2         .7g   \n",
       "Likelihood ratio test for the init. model                  180405         .7g   \n",
       "Rho-square for the init. model                           0.705728         .3g   \n",
       "Rho-square-bar for the init. model                       0.705681         .3g   \n",
       "Akaike Information Criterion                              75236.5         .7g   \n",
       "Bayesian Information Criterion                            75293.1         .7g   \n",
       "Final gradient norm                                      0.330756         .4E   \n",
       "Number of draws                                             10000               \n",
       "Draws generation time                      0 days 00:29:34.385997         NaN   \n",
       "Types of draws                                 [b_gc_rnd: NORMAL]               \n",
       "Nbr of threads                                                 16               \n",
       "\n",
       "                                            t-test p-value Rob. Std err  \\\n",
       "asc_air                                   -28.4713       0     0.243355   \n",
       "asc_non_motor                             -106.951       0    0.0450704   \n",
       "asc_rail                                  -141.308       0    0.0172081   \n",
       "asc_road                                  -166.879       0    0.0188077   \n",
       "b_gc                                      -35.8182       0    0.0175303   \n",
       "b_gc_s                                     30.8392       0   0.00703688   \n",
       "Number of estimated parameters                                            \n",
       "Sample size                                                               \n",
       "Excluded observations                                                     \n",
       "Init log likelihood                                                       \n",
       "Final log likelihood                                                      \n",
       "Likelihood ratio test for the init. model                                 \n",
       "Rho-square for the init. model                                            \n",
       "Rho-square-bar for the init. model                                        \n",
       "Akaike Information Criterion                                              \n",
       "Bayesian Information Criterion                                            \n",
       "Final gradient norm                                                       \n",
       "Number of draws                                                           \n",
       "Draws generation time                          NaN     NaN          NaN   \n",
       "Types of draws                                                            \n",
       "Nbr of threads                                                            \n",
       "\n",
       "                                          Rob. t-test Rob. p-value  \n",
       "asc_air                                      -23.2589            0  \n",
       "asc_non_motor                                 -102.59            0  \n",
       "asc_rail                                     -125.288            0  \n",
       "asc_road                                     -165.336            0  \n",
       "b_gc                                         -24.6655            0  \n",
       "b_gc_s                                        23.4365            0  \n",
       "Number of estimated parameters                                      \n",
       "Sample size                                                         \n",
       "Excluded observations                                               \n",
       "Init log likelihood                                                 \n",
       "Final log likelihood                                                \n",
       "Likelihood ratio test for the init. model                           \n",
       "Rho-square for the init. model                                      \n",
       "Rho-square-bar for the init. model                                  \n",
       "Akaike Information Criterion                                        \n",
       "Bayesian Information Criterion                                      \n",
       "Final gradient norm                                                 \n",
       "Number of draws                                                     \n",
       "Draws generation time                             NaN          NaN  \n",
       "Types of draws                                                      \n",
       "Nbr of threads                                                      "
      ]
     },
     "execution_count": 93,
     "metadata": {},
     "output_type": "execute_result"
    }
   ],
   "source": [
    "results = results_mnl.getEstimatedParameters()\n",
    "for key, val in results_mnl.getGeneralStatistics().items():\n",
    "    results.loc[key] = [val[0], val[1]] + ['' for i in range(len(results.columns)-2)]\n",
    "results"
   ]
  },
  {
   "cell_type": "code",
   "execution_count": 94,
   "metadata": {},
   "outputs": [],
   "source": [
    "results.to_excel(writer, sheet_name=model_mnl.modelName)"
   ]
  },
  {
   "cell_type": "code",
   "execution_count": 95,
   "metadata": {},
   "outputs": [],
   "source": [
    "# Choose the logarithmic nested logit model\n",
    "nl = models.lognested(V, av, nests, MODE)\n",
    "# Monte Carlo Integration\n",
    "nl_mix = ex.log(ex.MonteCarlo(nl))"
   ]
  },
  {
   "cell_type": "code",
   "execution_count": 96,
   "metadata": {},
   "outputs": [
    {
     "ename": "NameError",
     "evalue": "name 'nl_mix' is not defined",
     "output_type": "error",
     "traceback": [
      "\u001b[0;31m---------------------------------------------------------------------------\u001b[0m",
      "\u001b[0;31mNameError\u001b[0m                                 Traceback (most recent call last)",
      "\u001b[0;32m<ipython-input-96-eb1a89f2ed1b>\u001b[0m in \u001b[0;36m<module>\u001b[0;34m\u001b[0m\n\u001b[1;32m      1\u001b[0m \u001b[0;31m# Nested Logit\u001b[0m\u001b[0;34m\u001b[0m\u001b[0;34m\u001b[0m\u001b[0;34m\u001b[0m\u001b[0m\n\u001b[0;32m----> 2\u001b[0;31m \u001b[0mmodel_nl\u001b[0m \u001b[0;34m=\u001b[0m \u001b[0mbio\u001b[0m\u001b[0;34m.\u001b[0m\u001b[0mBIOGEME\u001b[0m\u001b[0;34m(\u001b[0m\u001b[0mdatabase\u001b[0m\u001b[0;34m,\u001b[0m \u001b[0mnl_mix\u001b[0m\u001b[0;34m,\u001b[0m \u001b[0mnumberOfDraws\u001b[0m\u001b[0;34m=\u001b[0m\u001b[0;36m10000\u001b[0m\u001b[0;34m)\u001b[0m\u001b[0;34m\u001b[0m\u001b[0;34m\u001b[0m\u001b[0m\n\u001b[0m\u001b[1;32m      3\u001b[0m \u001b[0mmodel_nl\u001b[0m\u001b[0;34m.\u001b[0m\u001b[0mmodelName\u001b[0m \u001b[0;34m=\u001b[0m \u001b[0;34m'NL'\u001b[0m\u001b[0;34m\u001b[0m\u001b[0;34m\u001b[0m\u001b[0m\n",
      "\u001b[0;31mNameError\u001b[0m: name 'nl_mix' is not defined"
     ]
    }
   ],
   "source": [
    "# Nested Logit\n",
    "model_nl = bio.BIOGEME(database, nl_mix, numberOfDraws=1000)\n",
    "model_nl.modelName = 'NL'"
   ]
  },
  {
   "cell_type": "code",
   "execution_count": null,
   "metadata": {},
   "outputs": [],
   "source": [
    "results_nl = model_nl.estimate()"
   ]
  },
  {
   "cell_type": "code",
   "execution_count": null,
   "metadata": {},
   "outputs": [],
   "source": [
    "results = results_nl.getEstimatedParameters()\n",
    "for key, val in results_nl.getGeneralStatistics().items():\n",
    "    results.loc[key] = [val[0], val[1]] + ['' for i in range(len(results.columns)-2)]\n",
    "results"
   ]
  },
  {
   "cell_type": "code",
   "execution_count": null,
   "metadata": {},
   "outputs": [],
   "source": [
    "results.to_excel(writer, sheet_name=model_nl.modelName)"
   ]
  },
  {
   "cell_type": "code",
   "execution_count": 100,
   "metadata": {},
   "outputs": [
    {
     "name": "stdout",
     "output_type": "stream",
     "text": [
      "Sample size for purpose 1, car_ownership 0: 644\n",
      "Sample size for purpose 1, car_ownership 1: 24620\n",
      "Sample size for purpose 2, car_ownership 0: 117\n"
     ]
    },
    {
     "name": "stderr",
     "output_type": "stream",
     "text": [
      "/home/local/RL-INSTITUT/marlin.arnz/quetzal/lib/python3.6/site-packages/biogeme/optimization.py:313: RuntimeWarning: overflow encountered in double_scalars\n",
      "  else np.inf for i in range(self.n)])\n"
     ]
    },
    {
     "name": "stdout",
     "output_type": "stream",
     "text": [
      "Sample size for purpose 2, car_ownership 1: 3464\n",
      "Sample size for purpose 3, car_ownership 0: 400\n",
      "Sample size for purpose 3, car_ownership 1: 22519\n",
      "Sample size for purpose 4, car_ownership 0: 5611\n",
      "Sample size for purpose 4, car_ownership 1: 5611\n",
      "Sample size for purpose 6, car_ownership 0: 872\n",
      "Sample size for purpose 6, car_ownership 1: 35214\n"
     ]
    }
   ],
   "source": [
    "# Run the estimation by purpose\n",
    "results = []\n",
    "for p in [1,2,3,4,6]:\n",
    "    for car in [0,1]:\n",
    "        database = db.Database('MiD2017', df.copy())\n",
    "        database.remove(PURPOSE!=p)\n",
    "        database.remove(CAR_AV!=car_ownership)\n",
    "        print('Sample size for purpose {}, car_ownership {}: {}'.format(\n",
    "            p, car, database.getSampleSize()))\n",
    "        mnl = models.logit(V, av, MODE)\n",
    "        mnl_mix = ex.log(ex.MonteCarlo(mnl))\n",
    "        model = bio.BIOGEME(database, mnl_mix, numberOfDraws=5000) # Choose the model formulation\n",
    "        model.modelName = str(p) + '_' + str(car) # Name it\n",
    "        results.append(model.estimate()) # Estimation\n",
    "        output = results[-1].getEstimatedParameters()\n",
    "        # Add results to the Excel file\n",
    "        for key, val in results[-1].getGeneralStatistics().items():\n",
    "            output.loc[key] = [val[0], val[1]] + ['' for i in range(len(output.columns)-2)]\n",
    "        output.to_excel(writer, sheet_name=model.modelName)"
   ]
  },
  {
   "cell_type": "code",
   "execution_count": 106,
   "metadata": {},
   "outputs": [],
   "source": [
    "writer.save()"
   ]
  }
 ],
 "metadata": {
  "kernelspec": {
   "display_name": "Python 3",
   "language": "python",
   "name": "python3"
  },
  "language_info": {
   "codemirror_mode": {
    "name": "ipython",
    "version": 3
   },
   "file_extension": ".py",
   "mimetype": "text/x-python",
   "name": "python",
   "nbconvert_exporter": "python",
   "pygments_lexer": "ipython3",
   "version": "3.8.13"
  }
 },
 "nbformat": 4,
 "nbformat_minor": 4
}
