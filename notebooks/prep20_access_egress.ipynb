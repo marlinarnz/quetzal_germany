{
 "cells": [
  {
   "cell_type": "code",
   "execution_count": 1,
   "metadata": {},
   "outputs": [
    {
     "name": "stderr",
     "output_type": "stream",
     "text": [
      "In C:\\Users\\marlin.arnz\\AppData\\Local\\Continuum\\miniconda3\\envs\\quetzal\\lib\\site-packages\\matplotlib\\mpl-data\\stylelib\\_classic_test.mplstyle: \n",
      "The text.latex.preview rcparam was deprecated in Matplotlib 3.3 and will be removed two minor releases later.\n",
      "In C:\\Users\\marlin.arnz\\AppData\\Local\\Continuum\\miniconda3\\envs\\quetzal\\lib\\site-packages\\matplotlib\\mpl-data\\stylelib\\_classic_test.mplstyle: \n",
      "The mathtext.fallback_to_cm rcparam was deprecated in Matplotlib 3.3 and will be removed two minor releases later.\n",
      "In C:\\Users\\marlin.arnz\\AppData\\Local\\Continuum\\miniconda3\\envs\\quetzal\\lib\\site-packages\\matplotlib\\mpl-data\\stylelib\\_classic_test.mplstyle: Support for setting the 'mathtext.fallback_to_cm' rcParam is deprecated since 3.3 and will be removed two minor releases later; use 'mathtext.fallback : 'cm' instead.\n",
      "In C:\\Users\\marlin.arnz\\AppData\\Local\\Continuum\\miniconda3\\envs\\quetzal\\lib\\site-packages\\matplotlib\\mpl-data\\stylelib\\_classic_test.mplstyle: \n",
      "The validate_bool_maybe_none function was deprecated in Matplotlib 3.3 and will be removed two minor releases later.\n",
      "In C:\\Users\\marlin.arnz\\AppData\\Local\\Continuum\\miniconda3\\envs\\quetzal\\lib\\site-packages\\matplotlib\\mpl-data\\stylelib\\_classic_test.mplstyle: \n",
      "The savefig.jpeg_quality rcparam was deprecated in Matplotlib 3.3 and will be removed two minor releases later.\n",
      "In C:\\Users\\marlin.arnz\\AppData\\Local\\Continuum\\miniconda3\\envs\\quetzal\\lib\\site-packages\\matplotlib\\mpl-data\\stylelib\\_classic_test.mplstyle: \n",
      "The keymap.all_axes rcparam was deprecated in Matplotlib 3.3 and will be removed two minor releases later.\n",
      "In C:\\Users\\marlin.arnz\\AppData\\Local\\Continuum\\miniconda3\\envs\\quetzal\\lib\\site-packages\\matplotlib\\mpl-data\\stylelib\\_classic_test.mplstyle: \n",
      "The animation.avconv_path rcparam was deprecated in Matplotlib 3.3 and will be removed two minor releases later.\n",
      "In C:\\Users\\marlin.arnz\\AppData\\Local\\Continuum\\miniconda3\\envs\\quetzal\\lib\\site-packages\\matplotlib\\mpl-data\\stylelib\\_classic_test.mplstyle: \n",
      "The animation.avconv_args rcparam was deprecated in Matplotlib 3.3 and will be removed two minor releases later.\n"
     ]
    }
   ],
   "source": [
    "import numpy as np\n",
    "import pandas as pd\n",
    "import geopandas as gpd\n",
    "from shapely import geometry\n",
    "from quetzal.model import stepmodel\n",
    "from quetzal.engine import engine, connectivity"
   ]
  },
  {
   "cell_type": "markdown",
   "metadata": {},
   "source": [
    "# Preparation of the transport network.\n",
    "## Saves access and egress links for each zone.\n",
    "## Needs all networks.\n"
   ]
  },
  {
   "cell_type": "code",
   "execution_count": 2,
   "metadata": {},
   "outputs": [],
   "source": [
    "input_path = '../input_static/'\n",
    "output_path = '../output/'\n",
    "model_path = '../model/'"
   ]
  },
  {
   "cell_type": "code",
   "execution_count": 3,
   "metadata": {
    "scrolled": true
   },
   "outputs": [],
   "source": [
    "sm = stepmodel.read_json(input_path + 'de_pt_network')\n",
    "bus = stepmodel.read_json(input_path + 'de_pt_network_bus')\n",
    "road = stepmodel.read_json(input_path + 'de_road_network')"
   ]
  },
  {
   "cell_type": "markdown",
   "metadata": {},
   "source": [
    "### Clean zones"
   ]
  },
  {
   "cell_type": "code",
   "execution_count": 4,
   "metadata": {},
   "outputs": [
    {
     "name": "stdout",
     "output_type": "stream",
     "text": [
      "401\n",
      "401\n"
     ]
    }
   ],
   "source": [
    "# Drop unused zones for later steps to work \n",
    "print(len(sm.zones.index))\n",
    "sm.zones = sm.zones.loc[sm.zones['NUTS_ID'].str.startswith('DE')]\n",
    "sm.zones = sm.zones[sm.zones[\"LEVL_CODE\"]==3]\n",
    "print(len(sm.zones.index))"
   ]
  },
  {
   "cell_type": "code",
   "execution_count": 5,
   "metadata": {},
   "outputs": [],
   "source": [
    "# Compute controids\n",
    "sm.preparation_ntlegs(\n",
    "    zone_to_transit=False,\n",
    "    zone_to_road=False)"
   ]
  },
  {
   "cell_type": "markdown",
   "metadata": {},
   "source": [
    "## Assumptions"
   ]
  },
  {
   "cell_type": "code",
   "execution_count": 6,
   "metadata": {},
   "outputs": [],
   "source": [
    "# Walking vs. driving to the train station\n",
    "threshold = 500 # in m\n",
    "speed_non_motorised_modes = 17 # in km/h\n",
    "speed_car = 50 # in km/h\n",
    "speed_footpaths = 5 # in km/h, assumed\n",
    "# Max. distances for accessing the transport nodes\n",
    "# in m\n",
    "threshold_dict = {'road': 10000,\n",
    "                  'road_pt': 500,\n",
    "                  'pt': 40000,\n",
    "                  'footpaths': 500,\n",
    "                  'footpaths_air': 2200,\n",
    "                  'cycling_zones': 20000}"
   ]
  },
  {
   "cell_type": "code",
   "execution_count": 7,
   "metadata": {},
   "outputs": [],
   "source": [
    "# When having centroids computed as geometric centers of\n",
    "# political zones, it can happen that centroids come very\n",
    "# close to each other. This requires special filtering\n",
    "# of connectors for not making routes unrealistically short\n",
    "def filter_connectors(df, keep=2, length_weight=None, dist_centr_weight=None,\n",
    "                      conn_weight=None, conn_dict=None):\n",
    "    # Each link exists as both access and egress\n",
    "    ac = df.loc[df['direction']=='access']\n",
    "    eg = df.loc[df['direction']=='eggress']\n",
    "    analysis_cols = []\n",
    "    if length_weight:\n",
    "        # Link length (in km) weighted\n",
    "        ac['length'] = - np.power(ac['distance'] / 1e3, length_weight)\n",
    "        eg['length'] = - np.power(eg['distance'] / 1e3, length_weight)\n",
    "        analysis_cols.append('length')\n",
    "    if dist_centr_weight:\n",
    "        # Calculate distance to the nearest centroid (except own one)\n",
    "        ac['centr_dist'] = np.power([min([p.distance(c) for c in list(\n",
    "            sm.centroids.loc[sm.centroids['FID']!=own_c, 'geometry'])]\n",
    "                                        ) / 1.4e-2 for own_c, p in zip(\n",
    "            list(ac['a']), [geometry.Point(l.coords[-1]) for l in ac['geometry']])],\n",
    "                                    dist_centr_weight)\n",
    "        eg['centr_dist'] = np.power([min([p.distance(c) for c in list(\n",
    "            sm.centroids.loc[sm.centroids['FID']!=own_c, 'geometry'])]\n",
    "                                        ) / 1.4e-2 for own_c, p in zip(\n",
    "            list(eg['b']), [geometry.Point(l.coords[0]) for l in eg['geometry']])],\n",
    "                                    dist_centr_weight)\n",
    "        analysis_cols.append('centr_dist')\n",
    "    if conn_weight:\n",
    "        # Calculate connectivity\n",
    "        ac['connectivity'] = np.power(ac['b'].map(conn_dict), conn_weight)\n",
    "        eg['connectivity'] = np.power(eg['a'].map(conn_dict), conn_weight)\n",
    "        analysis_cols.append('connectivity')\n",
    "    # Calculate link performance with given attributes\n",
    "    ac['sum'] = ac[analysis_cols].sum(axis=1)\n",
    "    eg['sum'] = eg[analysis_cols].sum(axis=1)\n",
    "    # Get the n most wanted links\n",
    "    ac = ac.sort_values('sum', ascending=False).groupby('a').head(keep)\n",
    "    eg = eg.sort_values('sum', ascending=False).groupby('b').head(keep)\n",
    "    return ac.append(eg).reset_index()[df.columns]"
   ]
  },
  {
   "cell_type": "markdown",
   "metadata": {},
   "source": [
    "## Generate footpaths table"
   ]
  },
  {
   "cell_type": "code",
   "execution_count": 8,
   "metadata": {},
   "outputs": [
    {
     "data": {
      "text/plain": [
       "(15399, 3)"
      ]
     },
     "execution_count": 8,
     "metadata": {},
     "output_type": "execute_result"
    }
   ],
   "source": [
    "sm.nodes.shape"
   ]
  },
  {
   "cell_type": "code",
   "execution_count": 9,
   "metadata": {},
   "outputs": [],
   "source": [
    "# The Voronoi algorithm is too slow for this amount of nodes\n",
    "#sm.footpaths = connectivity.build_footpaths(\n",
    "#    sm.nodes,\n",
    "#    speed=speed_footpaths,\n",
    "#    max_length=threshold_dict['footpaths'],\n",
    "#    n_clusters=1000,\n",
    "#    coordinates_unit=sm.coordinates_unit)"
   ]
  },
  {
   "cell_type": "code",
   "execution_count": 10,
   "metadata": {},
   "outputs": [
    {
     "data": {
      "text/plain": [
       "7122"
      ]
     },
     "execution_count": 10,
     "metadata": {},
     "output_type": "execute_result"
    }
   ],
   "source": [
    "# Generate footpaths between modes\n",
    "sm.footpaths = sm.footpaths.iloc[0:0]\n",
    "for o in ['rail_short_distance']:\n",
    "    for d in [t for t in sm.pt_route_types if t!='bus']:\n",
    "        if o != d:\n",
    "            ntlegs = engine.ntlegs_from_centroids_and_nodes(\n",
    "                sm.nodes.loc[sm.nodes['route_type']==o],\n",
    "                sm.nodes.loc[sm.nodes['route_type']==d],\n",
    "                short_leg_speed=speed_footpaths,\n",
    "                long_leg_speed=speed_non_motorised_modes,\n",
    "                threshold=threshold,\n",
    "                n_neighbors=1,\n",
    "                coordinates_unit=sm.coordinates_unit)\n",
    "            if d == 'air':\n",
    "                ntlegs = ntlegs.loc[ntlegs['distance']<=\n",
    "                                    threshold_dict['footpaths_air']]\n",
    "            else:\n",
    "                ntlegs = ntlegs.loc[ntlegs['distance']<=\n",
    "                                    threshold_dict['footpaths']]\n",
    "            sm.footpaths = sm.footpaths.append(ntlegs)\n",
    "len(sm.footpaths.index)"
   ]
  },
  {
   "cell_type": "code",
   "execution_count": 11,
   "metadata": {},
   "outputs": [
    {
     "data": {
      "text/plain": [
       "(3560, 11)"
      ]
     },
     "execution_count": 11,
     "metadata": {},
     "output_type": "execute_result"
    }
   ],
   "source": [
    "# Number of nodes that overlay each other\n",
    "sm.footpaths.loc[sm.footpaths['distance']==0].shape"
   ]
  },
  {
   "cell_type": "code",
   "execution_count": 12,
   "metadata": {},
   "outputs": [
    {
     "data": {
      "text/plain": [
       "101252"
      ]
     },
     "execution_count": 12,
     "metadata": {},
     "output_type": "execute_result"
    }
   ],
   "source": [
    "# Add bus connections\n",
    "bus_foot = sm.footpaths.iloc[0:0]\n",
    "for d in [t for t in sm.pt_route_types if t!='bus']:\n",
    "    ntlegs = engine.ntlegs_from_centroids_and_nodes(\n",
    "        bus.nodes,\n",
    "        sm.nodes.loc[sm.nodes['route_type']==d],\n",
    "        short_leg_speed=speed_footpaths,\n",
    "        long_leg_speed=speed_non_motorised_modes,\n",
    "        threshold=threshold,\n",
    "        n_neighbors=1,\n",
    "        coordinates_unit=sm.coordinates_unit)\n",
    "    if d == 'air':\n",
    "        ntlegs = ntlegs.loc[ntlegs['distance']<=\n",
    "                            threshold_dict['footpaths_air']]\n",
    "    else:\n",
    "        ntlegs = ntlegs.loc[ntlegs['distance']<=\n",
    "                            threshold_dict['footpaths']]\n",
    "    bus_foot = bus_foot.append(ntlegs)\n",
    "len(bus_foot.index)"
   ]
  },
  {
   "cell_type": "code",
   "execution_count": 13,
   "metadata": {},
   "outputs": [
    {
     "data": {
      "text/plain": [
       "101252"
      ]
     },
     "execution_count": 13,
     "metadata": {},
     "output_type": "execute_result"
    }
   ],
   "source": [
    "# Keep only bus footpaths to the most connected stop(s) in each zone\n",
    "n_links_dict = sm.links[['a', 'b']].stack().value_counts().to_dict()\n",
    "sm.nodes['n_links'] = [n_links_dict[i] if i in n_links_dict.keys() else 0\n",
    "                       for i in list(sm.nodes.index)]\n",
    "sm.nodes['index'] = sm.nodes.index\n",
    "try:\n",
    "    node_list = list(sm.nodes.sort_values('n_links', ascending=False).groupby(\n",
    "        ['route_type', 'FID']).nth([0,1,2])['index'])\n",
    "    bus_foot = bus_foot.loc[((bus_foot['direction']=='access')&(bus_foot['b'].isin(node_list))) |\n",
    "                            ((bus_foot['direction']=='eggress')&(bus_foot['a'].isin(node_list)))]\n",
    "except KeyError:\n",
    "    # No mapping to zones yet. Keep all.\n",
    "    pass\n",
    "len(bus_foot)"
   ]
  },
  {
   "cell_type": "code",
   "execution_count": 14,
   "metadata": {},
   "outputs": [],
   "source": [
    "sm.footpaths = sm.footpaths.append(bus_foot)"
   ]
  },
  {
   "cell_type": "code",
   "execution_count": 15,
   "metadata": {},
   "outputs": [
    {
     "data": {
      "text/plain": [
       "(228, 11)"
      ]
     },
     "execution_count": 15,
     "metadata": {},
     "output_type": "execute_result"
    }
   ],
   "source": [
    "# Generate footpaths between centroids\n",
    "ntlegs = engine.ntlegs_from_centroids_and_nodes(\n",
    "    sm.centroids,\n",
    "    sm.centroids,\n",
    "    short_leg_speed=speed_non_motorised_modes,\n",
    "    long_leg_speed=speed_non_motorised_modes,\n",
    "    threshold=threshold,\n",
    "    n_neighbors=2,\n",
    "    coordinates_unit=sm.coordinates_unit)\n",
    "ntlegs = ntlegs.loc[ntlegs['distance']<=\n",
    "                    threshold_dict['cycling_zones']]\n",
    "ntlegs = ntlegs.loc[ntlegs['distance']!=0]\n",
    "ntlegs.drop_duplicates(['direction', 'distance', 'time'], inplace=True)\n",
    "sm.footpaths = sm.footpaths.append(ntlegs)\n",
    "ntlegs.shape"
   ]
  },
  {
   "cell_type": "code",
   "execution_count": 16,
   "metadata": {},
   "outputs": [],
   "source": [
    "# Reindex\n",
    "sm.footpaths.reset_index(drop=True, inplace=True)\n",
    "sm.footpaths.index = 'foot_' + pd.Series(sm.footpaths.index).astype(str)"
   ]
  },
  {
   "cell_type": "code",
   "execution_count": 17,
   "metadata": {},
   "outputs": [
    {
     "data": {
      "text/html": [
       "<div>\n",
       "<style scoped>\n",
       "    .dataframe tbody tr th:only-of-type {\n",
       "        vertical-align: middle;\n",
       "    }\n",
       "\n",
       "    .dataframe tbody tr th {\n",
       "        vertical-align: top;\n",
       "    }\n",
       "\n",
       "    .dataframe thead th {\n",
       "        text-align: right;\n",
       "    }\n",
       "</style>\n",
       "<table border=\"1\" class=\"dataframe\">\n",
       "  <thead>\n",
       "    <tr style=\"text-align: right;\">\n",
       "      <th></th>\n",
       "      <th>a</th>\n",
       "      <th>b</th>\n",
       "      <th>direction</th>\n",
       "      <th>distance</th>\n",
       "      <th>geometry</th>\n",
       "      <th>long_leg_speed</th>\n",
       "      <th>rank</th>\n",
       "      <th>short_leg_speed</th>\n",
       "      <th>speed</th>\n",
       "      <th>speed_factor</th>\n",
       "      <th>time</th>\n",
       "    </tr>\n",
       "  </thead>\n",
       "  <tbody>\n",
       "    <tr>\n",
       "      <th>foot_76355</th>\n",
       "      <td>rail_short_n_1821</td>\n",
       "      <td>bus_n_336831</td>\n",
       "      <td>eggress</td>\n",
       "      <td>472.983771</td>\n",
       "      <td>LINESTRING (13.33769 50.90997, 13.34414 50.90873)</td>\n",
       "      <td>17.0</td>\n",
       "      <td>0.0</td>\n",
       "      <td>5.0</td>\n",
       "      <td>5.0</td>\n",
       "      <td>0.972609</td>\n",
       "      <td>340.548315</td>\n",
       "    </tr>\n",
       "    <tr>\n",
       "      <th>foot_93784</th>\n",
       "      <td>rail_short_n_13123</td>\n",
       "      <td>bus_n_302922</td>\n",
       "      <td>eggress</td>\n",
       "      <td>339.238934</td>\n",
       "      <td>LINESTRING (11.13635 49.46180, 11.13387 49.45921)</td>\n",
       "      <td>17.0</td>\n",
       "      <td>0.0</td>\n",
       "      <td>5.0</td>\n",
       "      <td>5.0</td>\n",
       "      <td>0.823698</td>\n",
       "      <td>244.252033</td>\n",
       "    </tr>\n",
       "    <tr>\n",
       "      <th>foot_48203</th>\n",
       "      <td>bus_n_366097</td>\n",
       "      <td>rail_short_n_10010</td>\n",
       "      <td>access</td>\n",
       "      <td>221.885353</td>\n",
       "      <td>LINESTRING (14.13282 50.92548, 14.13084 50.92704)</td>\n",
       "      <td>17.0</td>\n",
       "      <td>0.0</td>\n",
       "      <td>5.0</td>\n",
       "      <td>5.0</td>\n",
       "      <td>0.666161</td>\n",
       "      <td>159.757454</td>\n",
       "    </tr>\n",
       "  </tbody>\n",
       "</table>\n",
       "</div>"
      ],
      "text/plain": [
       "                             a                   b direction    distance  \\\n",
       "foot_76355   rail_short_n_1821        bus_n_336831   eggress  472.983771   \n",
       "foot_93784  rail_short_n_13123        bus_n_302922   eggress  339.238934   \n",
       "foot_48203        bus_n_366097  rail_short_n_10010    access  221.885353   \n",
       "\n",
       "                                                     geometry  long_leg_speed  \\\n",
       "foot_76355  LINESTRING (13.33769 50.90997, 13.34414 50.90873)            17.0   \n",
       "foot_93784  LINESTRING (11.13635 49.46180, 11.13387 49.45921)            17.0   \n",
       "foot_48203  LINESTRING (14.13282 50.92548, 14.13084 50.92704)            17.0   \n",
       "\n",
       "            rank  short_leg_speed  speed  speed_factor        time  \n",
       "foot_76355   0.0              5.0    5.0      0.972609  340.548315  \n",
       "foot_93784   0.0              5.0    5.0      0.823698  244.252033  \n",
       "foot_48203   0.0              5.0    5.0      0.666161  159.757454  "
      ]
     },
     "execution_count": 17,
     "metadata": {},
     "output_type": "execute_result"
    }
   ],
   "source": [
    "sm.footpaths.sample(n=3)"
   ]
  },
  {
   "cell_type": "markdown",
   "metadata": {},
   "source": [
    "## Add access and egress links from zone centroids"
   ]
  },
  {
   "cell_type": "code",
   "execution_count": 18,
   "metadata": {},
   "outputs": [
    {
     "data": {
      "text/plain": [
       "<AxesSubplot:>"
      ]
     },
     "execution_count": 18,
     "metadata": {},
     "output_type": "execute_result"
    },
    {
     "data": {
      "image/png": "[encoded data removed]",
      "text/plain": [
       "<Figure size 432x288 with 1 Axes>"
      ]
     },
     "metadata": {
      "needs_background": "light"
     },
     "output_type": "display_data"
    }
   ],
   "source": [
    "# How many links does every node have?\n",
    "sm.links[['a', 'b']].stack().value_counts().hist(bins=100, log=True)"
   ]
  },
  {
   "cell_type": "code",
   "execution_count": 19,
   "metadata": {},
   "outputs": [
    {
     "data": {
      "text/plain": [
       "802"
      ]
     },
     "execution_count": 19,
     "metadata": {},
     "output_type": "execute_result"
    }
   ],
   "source": [
    "# Compute road access and egress links\n",
    "sm.zone_to_road = engine.ntlegs_from_centroids_and_nodes(\n",
    "    sm.centroids,\n",
    "    road.road_nodes,\n",
    "    short_leg_speed=speed_footpaths,\n",
    "    long_leg_speed=speed_non_motorised_modes,\n",
    "    threshold=threshold,\n",
    "    n_neighbors=1,\n",
    "    coordinates_unit=sm.coordinates_unit)\n",
    "sm.zone_to_road = sm.zone_to_road.loc[\n",
    "    sm.zone_to_road['distance']<=threshold_dict['road']]\n",
    "len(sm.zone_to_road.index)"
   ]
  },
  {
   "cell_type": "code",
   "execution_count": 20,
   "metadata": {},
   "outputs": [
    {
     "data": {
      "text/plain": [
       "16072"
      ]
     },
     "execution_count": 20,
     "metadata": {},
     "output_type": "execute_result"
    }
   ],
   "source": [
    "# Compute road - PT links\n",
    "sm.road_to_transit = engine.ntlegs_from_centroids_and_nodes(\n",
    "    sm.nodes,\n",
    "    road.road_nodes,\n",
    "    short_leg_speed=speed_footpaths,\n",
    "    long_leg_speed=speed_non_motorised_modes,\n",
    "    threshold=threshold,\n",
    "    n_neighbors=1,\n",
    "    coordinates_unit=sm.coordinates_unit)\n",
    "sm.road_to_transit = sm.road_to_transit.loc[\n",
    "    sm.road_to_transit['distance']<=threshold_dict['road_pt']]\n",
    "len(sm.road_to_transit.index)"
   ]
  },
  {
   "cell_type": "code",
   "execution_count": 21,
   "metadata": {},
   "outputs": [
    {
     "data": {
      "text/plain": [
       "['rail_long_distance', 'rail_short_distance', 'coach', 'air']"
      ]
     },
     "execution_count": 21,
     "metadata": {},
     "output_type": "execute_result"
    }
   ],
   "source": [
    "# Every route type is saved once in this attribute\n",
    "assert len(sm.pt_route_types) == len(sm.links['route_type'].unique())\n",
    "sm.pt_route_types"
   ]
  },
  {
   "cell_type": "code",
   "execution_count": 22,
   "metadata": {},
   "outputs": [],
   "source": [
    "# How many links does every node have?\n",
    "n_links_dict = sm.links[['a', 'b']].append(bus.links[['a', 'b']]).append(\n",
    "    sm.footpaths[['a', 'b']]).stack().value_counts().to_dict()"
   ]
  },
  {
   "cell_type": "code",
   "execution_count": 23,
   "metadata": {},
   "outputs": [
    {
     "data": {
      "text/plain": [
       "8838"
      ]
     },
     "execution_count": 23,
     "metadata": {},
     "output_type": "execute_result"
    }
   ],
   "source": [
    "# Compute PT access and egress links by route type\n",
    "sm.zone_to_transit = sm.zone_to_transit.iloc[0:0]\n",
    "for t in sm.pt_route_types:\n",
    "    ntlegs = engine.ntlegs_from_centroids_and_nodes(\n",
    "        sm.centroids,\n",
    "        sm.nodes.loc[sm.nodes['route_type']==t],\n",
    "        short_leg_speed=speed_footpaths,\n",
    "        long_leg_speed=speed_car, # Take the car for longer trips\n",
    "        threshold=threshold,\n",
    "        n_neighbors=4,\n",
    "        coordinates_unit=sm.coordinates_unit)\n",
    "    # Cut off long links\n",
    "    ntlegs = ntlegs.loc[ntlegs['distance']<=\n",
    "                        threshold_dict['pt']]\n",
    "    ntlegs['route_type'] = t\n",
    "    # Merge\n",
    "    sm.zone_to_transit = sm.zone_to_transit.append(ntlegs)\n",
    "sm.zone_to_transit.reset_index(drop=True, inplace=True)\n",
    "len(sm.zone_to_transit.index)"
   ]
  },
  {
   "cell_type": "code",
   "execution_count": 33,
   "metadata": {},
   "outputs": [
    {
     "data": {
      "text/plain": [
       "24060"
      ]
     },
     "execution_count": 33,
     "metadata": {},
     "output_type": "execute_result"
    }
   ],
   "source": [
    "# Add bus connections\n",
    "ntlegs = engine.ntlegs_from_centroids_and_nodes(\n",
    "    sm.centroids,\n",
    "    bus.nodes,\n",
    "    short_leg_speed=speed_footpaths,\n",
    "    long_leg_speed=speed_car, # Take the car for longer trips\n",
    "    threshold=threshold,\n",
    "    n_neighbors=30, # Generate a bunch and clean later\n",
    "    coordinates_unit=sm.coordinates_unit)\n",
    "# Cut off long links\n",
    "ntlegs = ntlegs.loc[ntlegs['distance']<=\n",
    "                    threshold_dict['pt']]\n",
    "ntlegs['route_type'] = 'bus'\n",
    "len(ntlegs.index)"
   ]
  },
  {
   "cell_type": "code",
   "execution_count": 34,
   "metadata": {},
   "outputs": [
    {
     "data": {
      "text/plain": [
       "10111"
      ]
     },
     "execution_count": 34,
     "metadata": {},
     "output_type": "execute_result"
    }
   ],
   "source": [
    "# Cleanse bus legs: Only one trip ID per zone\n",
    "a_dict = bus.links.set_index('a')['trip_id'].to_dict()\n",
    "b_dict = bus.links.set_index('b')['trip_id'].to_dict()\n",
    "ac = ntlegs.loc[ntlegs['direction']=='access']\n",
    "eg = ntlegs.loc[ntlegs['direction']=='eggress'] # name in quetzal\n",
    "ac['trip_id'] = ac['b'].map(b_dict)\n",
    "eg['trip_id'] = eg['a'].map(a_dict)\n",
    "ntlegs = ac.groupby('a').apply(\n",
    "    lambda zone: zone.sort_values('distance').drop_duplicates('trip_id', keep='first')\n",
    ").append(eg.groupby('b').apply(\n",
    "    lambda zone: zone.sort_values('distance').drop_duplicates('trip_id', keep='first')\n",
    ")).drop('trip_id', axis=1)\n",
    "len(ntlegs)"
   ]
  },
  {
   "cell_type": "code",
   "execution_count": 29,
   "metadata": {},
   "outputs": [
    {
     "data": {
      "text/plain": [
       "7552"
      ]
     },
     "execution_count": 29,
     "metadata": {},
     "output_type": "execute_result"
    }
   ],
   "source": [
    "# Append bus\n",
    "sm.zone_to_transit = sm.zone_to_transit.append(ntlegs)\n",
    "sm.zone_to_transit.reset_index(drop=True, inplace=True)\n",
    "len(sm.zone_to_transit.index)"
   ]
  },
  {
   "cell_type": "code",
   "execution_count": 30,
   "metadata": {},
   "outputs": [
    {
     "data": {
      "text/plain": [
       "4554"
      ]
     },
     "execution_count": 30,
     "metadata": {},
     "output_type": "execute_result"
    }
   ],
   "source": [
    "# Drop duplicates\n",
    "sm.zone_to_transit.drop_duplicates(['a', 'b', 'direction'], inplace=True)\n",
    "sm.zone_to_transit.reset_index(drop=True, inplace=True)\n",
    "len(sm.zone_to_transit.index)"
   ]
  },
  {
   "cell_type": "code",
   "execution_count": 31,
   "metadata": {},
   "outputs": [
    {
     "data": {
      "text/plain": [
       "route_type           direction\n",
       "air                  access         25\n",
       "                     eggress        25\n",
       "bus                  access        503\n",
       "                     eggress       503\n",
       "coach                access        329\n",
       "                     eggress       329\n",
       "rail_long_distance   access        408\n",
       "                     eggress       408\n",
       "rail_short_distance  access       1012\n",
       "                     eggress      1012\n",
       "Name: a, dtype: int64"
      ]
     },
     "execution_count": 31,
     "metadata": {},
     "output_type": "execute_result"
    }
   ],
   "source": [
    "# Number of legs by route type\n",
    "sm.zone_to_transit.groupby(['route_type', 'direction'])['a'].count()"
   ]
  },
  {
   "cell_type": "markdown",
   "metadata": {},
   "source": [
    "### Parametrise access and egress links"
   ]
  },
  {
   "cell_type": "code",
   "execution_count": 33,
   "metadata": {},
   "outputs": [
    {
     "data": {
      "text/html": [
       "<div>\n",
       "<style scoped>\n",
       "    .dataframe tbody tr th:only-of-type {\n",
       "        vertical-align: middle;\n",
       "    }\n",
       "\n",
       "    .dataframe tbody tr th {\n",
       "        vertical-align: top;\n",
       "    }\n",
       "\n",
       "    .dataframe thead th {\n",
       "        text-align: right;\n",
       "    }\n",
       "</style>\n",
       "<table border=\"1\" class=\"dataframe\">\n",
       "  <thead>\n",
       "    <tr style=\"text-align: right;\">\n",
       "      <th></th>\n",
       "      <th>a</th>\n",
       "      <th>b</th>\n",
       "      <th>direction</th>\n",
       "      <th>distance</th>\n",
       "      <th>geometry</th>\n",
       "      <th>rank</th>\n",
       "      <th>speed_factor</th>\n",
       "      <th>short_leg_speed</th>\n",
       "      <th>long_leg_speed</th>\n",
       "      <th>speed</th>\n",
       "      <th>time</th>\n",
       "    </tr>\n",
       "  </thead>\n",
       "  <tbody>\n",
       "    <tr>\n",
       "      <th>26207</th>\n",
       "      <td>295217</td>\n",
       "      <td>rail_short_n_11180</td>\n",
       "      <td>eggress</td>\n",
       "      <td>0</td>\n",
       "      <td>LINESTRING (11.44394 48.149025, 11.4465512 48....</td>\n",
       "      <td>0</td>\n",
       "      <td>0.881150</td>\n",
       "      <td>5</td>\n",
       "      <td>17</td>\n",
       "      <td>5.0</td>\n",
       "      <td>300</td>\n",
       "    </tr>\n",
       "    <tr>\n",
       "      <th>15697</th>\n",
       "      <td>27538910</td>\n",
       "      <td>rail_long_n_39</td>\n",
       "      <td>eggress</td>\n",
       "      <td>0</td>\n",
       "      <td>LINESTRING (13.365319 52.475048, 13.3666837 52...</td>\n",
       "      <td>0</td>\n",
       "      <td>0.808973</td>\n",
       "      <td>5</td>\n",
       "      <td>17</td>\n",
       "      <td>5.0</td>\n",
       "      <td>300</td>\n",
       "    </tr>\n",
       "  </tbody>\n",
       "</table>\n",
       "</div>"
      ],
      "text/plain": [
       "              a                   b direction  distance  \\\n",
       "26207    295217  rail_short_n_11180   eggress         0   \n",
       "15697  27538910      rail_long_n_39   eggress         0   \n",
       "\n",
       "                                                geometry  rank  speed_factor  \\\n",
       "26207  LINESTRING (11.44394 48.149025, 11.4465512 48....     0      0.881150   \n",
       "15697  LINESTRING (13.365319 52.475048, 13.3666837 52...     0      0.808973   \n",
       "\n",
       "       short_leg_speed  long_leg_speed  speed  time  \n",
       "26207                5              17    5.0   300  \n",
       "15697                5              17    5.0   300  "
      ]
     },
     "execution_count": 33,
     "metadata": {},
     "output_type": "execute_result"
    }
   ],
   "source": [
    "# Road - PT connectors\n",
    "sm.road_to_transit['distance'] = 0\n",
    "sm.road_to_transit['time'] = 5*60 # in seconds\n",
    "sm.road_to_transit.sample(n=2)"
   ]
  },
  {
   "cell_type": "code",
   "execution_count": 34,
   "metadata": {},
   "outputs": [
    {
     "data": {
      "text/html": [
       "<div>\n",
       "<style scoped>\n",
       "    .dataframe tbody tr th:only-of-type {\n",
       "        vertical-align: middle;\n",
       "    }\n",
       "\n",
       "    .dataframe tbody tr th {\n",
       "        vertical-align: top;\n",
       "    }\n",
       "\n",
       "    .dataframe thead th {\n",
       "        text-align: right;\n",
       "    }\n",
       "</style>\n",
       "<table border=\"1\" class=\"dataframe\">\n",
       "  <thead>\n",
       "    <tr style=\"text-align: right;\">\n",
       "      <th></th>\n",
       "      <th>a</th>\n",
       "      <th>b</th>\n",
       "      <th>direction</th>\n",
       "      <th>distance</th>\n",
       "      <th>geometry</th>\n",
       "      <th>rank</th>\n",
       "      <th>speed_factor</th>\n",
       "      <th>short_leg_speed</th>\n",
       "      <th>long_leg_speed</th>\n",
       "      <th>speed</th>\n",
       "      <th>time</th>\n",
       "    </tr>\n",
       "  </thead>\n",
       "  <tbody>\n",
       "    <tr>\n",
       "      <th>734</th>\n",
       "      <td>89771994</td>\n",
       "      <td>DE80N</td>\n",
       "      <td>eggress</td>\n",
       "      <td>0</td>\n",
       "      <td>LINESTRING (13.780760893483 53.7893792502008, ...</td>\n",
       "      <td>0</td>\n",
       "      <td>2.341467</td>\n",
       "      <td>5</td>\n",
       "      <td>17</td>\n",
       "      <td>11.707336</td>\n",
       "      <td>0</td>\n",
       "    </tr>\n",
       "    <tr>\n",
       "      <th>723</th>\n",
       "      <td>364897392</td>\n",
       "      <td>DE407</td>\n",
       "      <td>eggress</td>\n",
       "      <td>0</td>\n",
       "      <td>LINESTRING (13.45973464973912 51.6122712304700...</td>\n",
       "      <td>1</td>\n",
       "      <td>2.261495</td>\n",
       "      <td>5</td>\n",
       "      <td>17</td>\n",
       "      <td>11.307477</td>\n",
       "      <td>0</td>\n",
       "    </tr>\n",
       "  </tbody>\n",
       "</table>\n",
       "</div>"
      ],
      "text/plain": [
       "             a      b direction  distance  \\\n",
       "734   89771994  DE80N   eggress         0   \n",
       "723  364897392  DE407   eggress         0   \n",
       "\n",
       "                                              geometry  rank  speed_factor  \\\n",
       "734  LINESTRING (13.780760893483 53.7893792502008, ...     0      2.341467   \n",
       "723  LINESTRING (13.45973464973912 51.6122712304700...     1      2.261495   \n",
       "\n",
       "     short_leg_speed  long_leg_speed      speed  time  \n",
       "734                5              17  11.707336     0  \n",
       "723                5              17  11.307477     0  "
      ]
     },
     "execution_count": 34,
     "metadata": {},
     "output_type": "execute_result"
    }
   ],
   "source": [
    "# Road - centroid connectors\n",
    "sm.zone_to_road['distance'] = 0\n",
    "sm.zone_to_road['time'] = 0\n",
    "sm.zone_to_road.sample(n=2)"
   ]
  },
  {
   "cell_type": "code",
   "execution_count": 39,
   "metadata": {},
   "outputs": [],
   "source": [
    "# Zone to PT:\n",
    "# Load distances to PT stops from census data\n",
    "clusters = pd.read_csv('../input/spatial_census_refined.csv')\n",
    "clusters.set_index('Unnamed: 0', inplace=True)\n",
    "dist_col = 'weighted_dist'\n",
    "mean_dist_col = 'mean_weighted_dist'\n",
    "cent_col = 'cluster_center'\n",
    "#pop_col = 'population'\n",
    "node_col = 'node_id'"
   ]
  },
  {
   "cell_type": "code",
   "execution_count": 40,
   "metadata": {},
   "outputs": [
    {
     "data": {
      "text/html": [
       "<div>\n",
       "<style scoped>\n",
       "    .dataframe tbody tr th:only-of-type {\n",
       "        vertical-align: middle;\n",
       "    }\n",
       "\n",
       "    .dataframe tbody tr th {\n",
       "        vertical-align: top;\n",
       "    }\n",
       "\n",
       "    .dataframe thead th {\n",
       "        text-align: right;\n",
       "    }\n",
       "</style>\n",
       "<table border=\"1\" class=\"dataframe\">\n",
       "  <thead>\n",
       "    <tr style=\"text-align: right;\">\n",
       "      <th></th>\n",
       "      <th></th>\n",
       "      <th>mean_weighted_dist</th>\n",
       "    </tr>\n",
       "    <tr>\n",
       "      <th>NUTS_ID</th>\n",
       "      <th>route_type</th>\n",
       "      <th></th>\n",
       "    </tr>\n",
       "  </thead>\n",
       "  <tbody>\n",
       "    <tr>\n",
       "      <th rowspan=\"4\" valign=\"top\">DE111</th>\n",
       "      <th>bus</th>\n",
       "      <td>2694.602782</td>\n",
       "    </tr>\n",
       "    <tr>\n",
       "      <th>coach</th>\n",
       "      <td>4942.656226</td>\n",
       "    </tr>\n",
       "    <tr>\n",
       "      <th>rail_long_distance</th>\n",
       "      <td>8481.451821</td>\n",
       "    </tr>\n",
       "    <tr>\n",
       "      <th>rail_short_distance</th>\n",
       "      <td>7411.629367</td>\n",
       "    </tr>\n",
       "    <tr>\n",
       "      <th>DE112</th>\n",
       "      <th>bus</th>\n",
       "      <td>5536.340993</td>\n",
       "    </tr>\n",
       "    <tr>\n",
       "      <th>...</th>\n",
       "      <th>...</th>\n",
       "      <td>...</td>\n",
       "    </tr>\n",
       "    <tr>\n",
       "      <th rowspan=\"3\" valign=\"top\">DEG0N</th>\n",
       "      <th>coach</th>\n",
       "      <td>1705.112486</td>\n",
       "    </tr>\n",
       "    <tr>\n",
       "      <th>rail_long_distance</th>\n",
       "      <td>5430.362740</td>\n",
       "    </tr>\n",
       "    <tr>\n",
       "      <th>rail_short_distance</th>\n",
       "      <td>5155.025292</td>\n",
       "    </tr>\n",
       "    <tr>\n",
       "      <th rowspan=\"2\" valign=\"top\">DEG0P</th>\n",
       "      <th>bus</th>\n",
       "      <td>6024.588180</td>\n",
       "    </tr>\n",
       "    <tr>\n",
       "      <th>rail_short_distance</th>\n",
       "      <td>26295.290877</td>\n",
       "    </tr>\n",
       "  </tbody>\n",
       "</table>\n",
       "<p>1232 rows × 1 columns</p>\n",
       "</div>"
      ],
      "text/plain": [
       "                             mean_weighted_dist\n",
       "NUTS_ID route_type                             \n",
       "DE111   bus                         2694.602782\n",
       "        coach                       4942.656226\n",
       "        rail_long_distance          8481.451821\n",
       "        rail_short_distance         7411.629367\n",
       "DE112   bus                         5536.340993\n",
       "...                                         ...\n",
       "DEG0N   coach                       1705.112486\n",
       "        rail_long_distance          5430.362740\n",
       "        rail_short_distance         5155.025292\n",
       "DEG0P   bus                         6024.588180\n",
       "        rail_short_distance        26295.290877\n",
       "\n",
       "[1232 rows x 1 columns]"
      ]
     },
     "execution_count": 40,
     "metadata": {},
     "output_type": "execute_result"
    }
   ],
   "source": [
    "# Create a zone - distance - type dict\n",
    "# Take the mean weighted distance, assume population shares are about equal\n",
    "zone_type_dist = clusters.groupby(['NUTS_ID', 'route_type']).agg(\n",
    "    {mean_dist_col: 'mean'})#.to_dict()[mean_dist_col]\n",
    "zone_type_dist"
   ]
  },
  {
   "cell_type": "code",
   "execution_count": 41,
   "metadata": {},
   "outputs": [],
   "source": [
    "# Split legs into access and egress\n",
    "access = sm.zone_to_transit.loc[sm.zone_to_transit['direction']=='access'].copy()\n",
    "egress = sm.zone_to_transit.loc[sm.zone_to_transit['direction']=='eggress'].copy()# name in quetzal"
   ]
  },
  {
   "cell_type": "code",
   "execution_count": 42,
   "metadata": {},
   "outputs": [],
   "source": [
    "# Alter the distance\n",
    "route_types = clusters['route_type'].unique()\n",
    "for t in route_types:\n",
    "    for zone in list(sm.zones['NUTS_ID']):\n",
    "        try:\n",
    "            access.loc[(access['route_type']==t) & (access['a']==zone),\n",
    "                       'distance'] = zone_type_dist.loc[(zone, t), mean_dist_col]\n",
    "        except KeyError:\n",
    "            # There is no such station in this zone\n",
    "            access.loc[(access['route_type']==t) & (access['a']==zone),\n",
    "                       'distance'] = np.nan\n",
    "for t in route_types:\n",
    "    for zone in list(sm.zones['NUTS_ID']):\n",
    "        try:\n",
    "            egress.loc[(egress['route_type']==t) & (egress['b']==zone),\n",
    "                       'distance'] = zone_type_dist.loc[(zone, t), mean_dist_col]\n",
    "        except KeyError:\n",
    "            # There is no such station in this zone\n",
    "            egress.loc[(egress['route_type']==t) & (egress['b']==zone),\n",
    "                       'distance'] = np.nan"
   ]
  },
  {
   "cell_type": "code",
   "execution_count": 43,
   "metadata": {},
   "outputs": [],
   "source": [
    "sm.zone_to_transit = access.append(egress)"
   ]
  },
  {
   "cell_type": "code",
   "execution_count": 44,
   "metadata": {},
   "outputs": [
    {
     "data": {
      "text/plain": [
       "256"
      ]
     },
     "execution_count": 44,
     "metadata": {},
     "output_type": "execute_result"
    }
   ],
   "source": [
    "len(sm.zone_to_transit.loc[sm.zone_to_transit['distance'].isna()])"
   ]
  },
  {
   "cell_type": "code",
   "execution_count": 45,
   "metadata": {},
   "outputs": [
    {
     "data": {
      "text/plain": [
       "<AxesSubplot:>"
      ]
     },
     "execution_count": 45,
     "metadata": {},
     "output_type": "execute_result"
    },
    {
     "data": {
      "image/png": "[encoded data removed]",
      "text/plain": [
       "<Figure size 432x288 with 1 Axes>"
      ]
     },
     "metadata": {
      "needs_background": "light"
     },
     "output_type": "display_data"
    }
   ],
   "source": [
    "sm.zone_to_transit['speed'].hist(bins=20)"
   ]
  },
  {
   "cell_type": "code",
   "execution_count": 46,
   "metadata": {},
   "outputs": [],
   "source": [
    "# Alter time of PT legs\n",
    "sm.zone_to_transit['time'] = sm.zone_to_transit['distance'] / \\\n",
    "    sm.zone_to_transit['speed'] * 3.6 # in s\n",
    "sm.zone_to_transit['time'].replace({np.nan: threshold_dict['pt']/speed_car}, inplace=True)"
   ]
  },
  {
   "cell_type": "code",
   "execution_count": 47,
   "metadata": {},
   "outputs": [],
   "source": [
    "# Drop NaN, because they cause that people don't take short-distance PT,\n",
    "# but walk over to the next airport and walk to the neighboring centroid\n",
    "sm.zone_to_transit = sm.zone_to_transit.loc[sm.zone_to_transit['distance'].notna()]"
   ]
  },
  {
   "cell_type": "code",
   "execution_count": 48,
   "metadata": {},
   "outputs": [
    {
     "name": "stdout",
     "output_type": "stream",
     "text": [
      "4298\n"
     ]
    },
    {
     "data": {
      "text/html": [
       "<div>\n",
       "<style scoped>\n",
       "    .dataframe tbody tr th:only-of-type {\n",
       "        vertical-align: middle;\n",
       "    }\n",
       "\n",
       "    .dataframe tbody tr th {\n",
       "        vertical-align: top;\n",
       "    }\n",
       "\n",
       "    .dataframe thead th {\n",
       "        text-align: right;\n",
       "    }\n",
       "</style>\n",
       "<table border=\"1\" class=\"dataframe\">\n",
       "  <thead>\n",
       "    <tr style=\"text-align: right;\">\n",
       "      <th></th>\n",
       "      <th>a</th>\n",
       "      <th>b</th>\n",
       "      <th>direction</th>\n",
       "      <th>distance</th>\n",
       "      <th>geometry</th>\n",
       "      <th>long_leg_speed</th>\n",
       "      <th>rank</th>\n",
       "      <th>route_type</th>\n",
       "      <th>short_leg_speed</th>\n",
       "      <th>speed</th>\n",
       "      <th>speed_factor</th>\n",
       "      <th>time</th>\n",
       "    </tr>\n",
       "  </thead>\n",
       "  <tbody>\n",
       "    <tr>\n",
       "      <th>2090</th>\n",
       "      <td>rail_short_n_14552</td>\n",
       "      <td>DEE0C</td>\n",
       "      <td>eggress</td>\n",
       "      <td>17821.828917</td>\n",
       "      <td>LINESTRING (11.64271 51.85184, 11.58790 51.85126)</td>\n",
       "      <td>50.0</td>\n",
       "      <td>4.0</td>\n",
       "      <td>rail_short_distance</td>\n",
       "      <td>5.0</td>\n",
       "      <td>13.720871</td>\n",
       "      <td>2.744174</td>\n",
       "      <td>4675.984951</td>\n",
       "    </tr>\n",
       "  </tbody>\n",
       "</table>\n",
       "</div>"
      ],
      "text/plain": [
       "                       a      b direction      distance  \\\n",
       "2090  rail_short_n_14552  DEE0C   eggress  17821.828917   \n",
       "\n",
       "                                               geometry  long_leg_speed  rank  \\\n",
       "2090  LINESTRING (11.64271 51.85184, 11.58790 51.85126)            50.0   4.0   \n",
       "\n",
       "               route_type  short_leg_speed      speed  speed_factor  \\\n",
       "2090  rail_short_distance              5.0  13.720871      2.744174   \n",
       "\n",
       "             time  \n",
       "2090  4675.984951  "
      ]
     },
     "execution_count": 48,
     "metadata": {},
     "output_type": "execute_result"
    }
   ],
   "source": [
    "print(len(sm.zone_to_transit))\n",
    "sm.zone_to_transit.sample()"
   ]
  },
  {
   "cell_type": "code",
   "execution_count": 49,
   "metadata": {},
   "outputs": [
    {
     "data": {
      "text/plain": [
       "<AxesSubplot:>"
      ]
     },
     "execution_count": 49,
     "metadata": {},
     "output_type": "execute_result"
    },
    {
     "data": {
      "image/png": "[encoded data removed]",
      "text/plain": [
       "<Figure size 432x288 with 1 Axes>"
      ]
     },
     "metadata": {
      "needs_background": "light"
     },
     "output_type": "display_data"
    }
   ],
   "source": [
    "(sm.zone_to_transit['time']/3600).hist(bins=100)"
   ]
  },
  {
   "cell_type": "code",
   "execution_count": 50,
   "metadata": {},
   "outputs": [
    {
     "data": {
      "text/plain": [
       "4076"
      ]
     },
     "execution_count": 50,
     "metadata": {},
     "output_type": "execute_result"
    }
   ],
   "source": [
    "# Ditch all legs which take too long\n",
    "sm.zone_to_transit = sm.zone_to_transit.loc[sm.zone_to_transit['time']<2*3600]\n",
    "len(sm.zone_to_transit)"
   ]
  },
  {
   "cell_type": "code",
   "execution_count": 52,
   "metadata": {},
   "outputs": [
    {
     "ename": "AssertionError",
     "evalue": "",
     "output_type": "error",
     "traceback": [
      "\u001b[1;31m---------------------------------------------------------------------------\u001b[0m",
      "\u001b[1;31mAssertionError\u001b[0m                            Traceback (most recent call last)",
      "\u001b[1;32m<ipython-input-52-66e3b4f3410e>\u001b[0m in \u001b[0;36m<module>\u001b[1;34m\u001b[0m\n\u001b[0;32m      1\u001b[0m \u001b[1;31m# Every zone must have an access and an egress link to PT\u001b[0m\u001b[1;33m\u001b[0m\u001b[1;33m\u001b[0m\u001b[1;33m\u001b[0m\u001b[0m\n\u001b[1;32m----> 2\u001b[1;33m \u001b[1;32massert\u001b[0m \u001b[0msm\u001b[0m\u001b[1;33m.\u001b[0m\u001b[0mzones\u001b[0m\u001b[1;33m[\u001b[0m\u001b[1;34m'NUTS_ID'\u001b[0m\u001b[1;33m]\u001b[0m\u001b[1;33m.\u001b[0m\u001b[0misin\u001b[0m\u001b[1;33m(\u001b[0m\u001b[0mlist\u001b[0m\u001b[1;33m(\u001b[0m\u001b[0msm\u001b[0m\u001b[1;33m.\u001b[0m\u001b[0mzone_to_transit\u001b[0m\u001b[1;33m[\u001b[0m\u001b[1;34m'a'\u001b[0m\u001b[1;33m]\u001b[0m\u001b[1;33m)\u001b[0m\u001b[1;33m)\u001b[0m\u001b[1;33m.\u001b[0m\u001b[0mall\u001b[0m\u001b[1;33m(\u001b[0m\u001b[1;33m)\u001b[0m\u001b[1;33m\u001b[0m\u001b[1;33m\u001b[0m\u001b[0m\n\u001b[0m\u001b[0;32m      3\u001b[0m \u001b[1;32massert\u001b[0m \u001b[0msm\u001b[0m\u001b[1;33m.\u001b[0m\u001b[0mzones\u001b[0m\u001b[1;33m[\u001b[0m\u001b[1;34m'NUTS_ID'\u001b[0m\u001b[1;33m]\u001b[0m\u001b[1;33m.\u001b[0m\u001b[0misin\u001b[0m\u001b[1;33m(\u001b[0m\u001b[0mlist\u001b[0m\u001b[1;33m(\u001b[0m\u001b[0msm\u001b[0m\u001b[1;33m.\u001b[0m\u001b[0mzone_to_transit\u001b[0m\u001b[1;33m[\u001b[0m\u001b[1;34m'b'\u001b[0m\u001b[1;33m]\u001b[0m\u001b[1;33m)\u001b[0m\u001b[1;33m)\u001b[0m\u001b[1;33m.\u001b[0m\u001b[0mall\u001b[0m\u001b[1;33m(\u001b[0m\u001b[1;33m)\u001b[0m\u001b[1;33m\u001b[0m\u001b[1;33m\u001b[0m\u001b[0m\n",
      "\u001b[1;31mAssertionError\u001b[0m: "
     ]
    }
   ],
   "source": [
    "# Every zone must have an access and an egress link to PT\n",
    "assert sm.zones['NUTS_ID'].isin(list(sm.zone_to_transit['a'])).all()\n",
    "assert sm.zones['NUTS_ID'].isin(list(sm.zone_to_transit['b'])).all()"
   ]
  },
  {
   "cell_type": "markdown",
   "metadata": {},
   "source": [
    "## Save model"
   ]
  },
  {
   "cell_type": "code",
   "execution_count": 53,
   "metadata": {},
   "outputs": [],
   "source": [
    "# Correct node IDs in zone_to_transit for rail modes\n",
    "type_dict = {'rail_short_distance': 'rail_short', 'rail_long_distance': 'rail_long'}\n",
    "sm.zone_to_transit['route_type'].replace(type_dict, inplace=True)\n",
    "sm.zone_to_transit['a'] = sm.zone_to_transit['a'].apply(lambda n: n.replace('rail_long_n', 'r_l_n'))\n",
    "sm.zone_to_transit['a'] = sm.zone_to_transit['a'].apply(lambda n: n.replace('rail_short_n', 'r_s_n'))\n",
    "sm.zone_to_transit['b'] = sm.zone_to_transit['b'].apply(lambda n: n.replace('rail_long_n', 'r_l_n'))\n",
    "sm.zone_to_transit['b'] = sm.zone_to_transit['b'].apply(lambda n: n.replace('rail_short_n', 'r_s_n'))"
   ]
  },
  {
   "cell_type": "code",
   "execution_count": 54,
   "metadata": {},
   "outputs": [],
   "source": [
    "# Correct node IDs in footpaths for rail modes\n",
    "sm.footpaths['a'] = sm.footpaths['a'].apply(lambda n: n.replace('rail_long_n', 'r_l_n'))\n",
    "sm.footpaths['a'] = sm.footpaths['a'].apply(lambda n: n.replace('rail_short_n', 'r_s_n'))\n",
    "sm.footpaths['b'] = sm.footpaths['b'].apply(lambda n: n.replace('rail_long_n', 'r_l_n'))\n",
    "sm.footpaths['b'] = sm.footpaths['b'].apply(lambda n: n.replace('rail_short_n', 'r_s_n'))"
   ]
  },
  {
   "cell_type": "code",
   "execution_count": 55,
   "metadata": {},
   "outputs": [],
   "source": [
    "# Drop unneccessary columns\n",
    "cols = ['speed_factor', 'short_leg_speed', 'long_leg_speed', 'rank']\n",
    "sm.footpaths.drop(cols, axis=1, inplace=True, errors='ignore')\n",
    "sm.zone_to_transit.drop(cols, axis=1, inplace=True, errors='ignore')\n",
    "sm.zone_to_road.drop(cols, axis=1, inplace=True, errors='ignore')\n",
    "sm.road_to_transit.drop(cols, axis=1, inplace=True, errors='ignore')\n",
    "sm.zone_to_transit.drop(['n_links'], axis=1, inplace=True, errors='ignore')"
   ]
  },
  {
   "cell_type": "code",
   "execution_count": 56,
   "metadata": {},
   "outputs": [],
   "source": [
    "# Make tables lighter\n",
    "cols = ['distance', 'speed', 'time']\n",
    "sm.footpaths[cols] = sm.footpaths[cols].astype(int)\n",
    "sm.zone_to_transit[cols] = sm.zone_to_transit[cols].astype(int)"
   ]
  },
  {
   "cell_type": "code",
   "execution_count": 57,
   "metadata": {},
   "outputs": [],
   "source": [
    "sm.zone_to_road[cols] = sm.zone_to_road[cols].astype(int)\n",
    "sm.road_to_transit[cols] = sm.road_to_transit[cols].astype(int)"
   ]
  },
  {
   "cell_type": "code",
   "execution_count": 58,
   "metadata": {},
   "outputs": [
    {
     "data": {
      "text/html": [
       "<div>\n",
       "<style scoped>\n",
       "    .dataframe tbody tr th:only-of-type {\n",
       "        vertical-align: middle;\n",
       "    }\n",
       "\n",
       "    .dataframe tbody tr th {\n",
       "        vertical-align: top;\n",
       "    }\n",
       "\n",
       "    .dataframe thead th {\n",
       "        text-align: right;\n",
       "    }\n",
       "</style>\n",
       "<table border=\"1\" class=\"dataframe\">\n",
       "  <thead>\n",
       "    <tr style=\"text-align: right;\">\n",
       "      <th></th>\n",
       "      <th>a</th>\n",
       "      <th>b</th>\n",
       "      <th>direction</th>\n",
       "      <th>distance</th>\n",
       "      <th>geometry</th>\n",
       "      <th>speed</th>\n",
       "      <th>time</th>\n",
       "    </tr>\n",
       "  </thead>\n",
       "  <tbody>\n",
       "    <tr>\n",
       "      <th>foot_91289</th>\n",
       "      <td>r_s_n_5444</td>\n",
       "      <td>bus_n_223438</td>\n",
       "      <td>eggress</td>\n",
       "      <td>341</td>\n",
       "      <td>LINESTRING (9.14065 48.53201, 9.13899 48.52914)</td>\n",
       "      <td>5</td>\n",
       "      <td>245</td>\n",
       "    </tr>\n",
       "  </tbody>\n",
       "</table>\n",
       "</div>"
      ],
      "text/plain": [
       "                     a             b direction  distance  \\\n",
       "foot_91289  r_s_n_5444  bus_n_223438   eggress       341   \n",
       "\n",
       "                                                   geometry  speed  time  \n",
       "foot_91289  LINESTRING (9.14065 48.53201, 9.13899 48.52914)      5   245  "
      ]
     },
     "execution_count": 58,
     "metadata": {},
     "output_type": "execute_result"
    }
   ],
   "source": [
    "sm.footpaths.sample()"
   ]
  },
  {
   "cell_type": "code",
   "execution_count": 59,
   "metadata": {},
   "outputs": [
    {
     "name": "stderr",
     "output_type": "stream",
     "text": [
      "to_hdf(overwriting): 100%|█████████████████████████████████████████████████████████████| 36/36 [00:18<00:00,  1.92it/s]\n"
     ]
    }
   ],
   "source": [
    "# Saving model...\n",
    "tables = ['centroids', 'footpaths', 'zone_to_transit']\n",
    "sm.to_json(model_path + 'de_pt_access_egress',\n",
    "           only_attributes=tables, encoding='utf-8')"
   ]
  },
  {
   "cell_type": "code",
   "execution_count": 60,
   "metadata": {
    "scrolled": true
   },
   "outputs": [
    {
     "name": "stderr",
     "output_type": "stream",
     "text": [
      "to_hdf(overwriting): 100%|█████████████████████████████████████████████████████████████| 36/36 [00:02<00:00, 12.01it/s]\n"
     ]
    }
   ],
   "source": [
    "sm.to_json(model_path + 'de_road_access_egress',\n",
    "           only_attributes=['centroids', 'zone_to_road', 'road_to_transit'],\n",
    "           encoding='utf-8')"
   ]
  }
 ],
 "metadata": {
  "kernelspec": {
   "display_name": "Python 3",
   "language": "python",
   "name": "python3"
  },
  "language_info": {
   "codemirror_mode": {
    "name": "ipython",
    "version": 3
   },
   "file_extension": ".py",
   "mimetype": "text/x-python",
   "name": "python",
   "nbconvert_exporter": "python",
   "pygments_lexer": "ipython3",
   "version": "3.8.1"
  }
 },
 "nbformat": 4,
 "nbformat_minor": 2
}
