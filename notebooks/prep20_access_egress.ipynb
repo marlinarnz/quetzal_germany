{
 "cells": [
  {
   "cell_type": "code",
   "execution_count": 1,
   "metadata": {},
   "outputs": [
    {
     "name": "stderr",
     "output_type": "stream",
     "text": [
      "In C:\\Users\\marlin.arnz\\AppData\\Local\\Continuum\\miniconda3\\envs\\quetzal\\lib\\site-packages\\matplotlib\\mpl-data\\stylelib\\_classic_test.mplstyle: \n",
      "The text.latex.preview rcparam was deprecated in Matplotlib 3.3 and will be removed two minor releases later.\n",
      "In C:\\Users\\marlin.arnz\\AppData\\Local\\Continuum\\miniconda3\\envs\\quetzal\\lib\\site-packages\\matplotlib\\mpl-data\\stylelib\\_classic_test.mplstyle: \n",
      "The mathtext.fallback_to_cm rcparam was deprecated in Matplotlib 3.3 and will be removed two minor releases later.\n",
      "In C:\\Users\\marlin.arnz\\AppData\\Local\\Continuum\\miniconda3\\envs\\quetzal\\lib\\site-packages\\matplotlib\\mpl-data\\stylelib\\_classic_test.mplstyle: Support for setting the 'mathtext.fallback_to_cm' rcParam is deprecated since 3.3 and will be removed two minor releases later; use 'mathtext.fallback : 'cm' instead.\n",
      "In C:\\Users\\marlin.arnz\\AppData\\Local\\Continuum\\miniconda3\\envs\\quetzal\\lib\\site-packages\\matplotlib\\mpl-data\\stylelib\\_classic_test.mplstyle: \n",
      "The validate_bool_maybe_none function was deprecated in Matplotlib 3.3 and will be removed two minor releases later.\n",
      "In C:\\Users\\marlin.arnz\\AppData\\Local\\Continuum\\miniconda3\\envs\\quetzal\\lib\\site-packages\\matplotlib\\mpl-data\\stylelib\\_classic_test.mplstyle: \n",
      "The savefig.jpeg_quality rcparam was deprecated in Matplotlib 3.3 and will be removed two minor releases later.\n",
      "In C:\\Users\\marlin.arnz\\AppData\\Local\\Continuum\\miniconda3\\envs\\quetzal\\lib\\site-packages\\matplotlib\\mpl-data\\stylelib\\_classic_test.mplstyle: \n",
      "The keymap.all_axes rcparam was deprecated in Matplotlib 3.3 and will be removed two minor releases later.\n",
      "In C:\\Users\\marlin.arnz\\AppData\\Local\\Continuum\\miniconda3\\envs\\quetzal\\lib\\site-packages\\matplotlib\\mpl-data\\stylelib\\_classic_test.mplstyle: \n",
      "The animation.avconv_path rcparam was deprecated in Matplotlib 3.3 and will be removed two minor releases later.\n",
      "In C:\\Users\\marlin.arnz\\AppData\\Local\\Continuum\\miniconda3\\envs\\quetzal\\lib\\site-packages\\matplotlib\\mpl-data\\stylelib\\_classic_test.mplstyle: \n",
      "The animation.avconv_args rcparam was deprecated in Matplotlib 3.3 and will be removed two minor releases later.\n"
     ]
    }
   ],
   "source": [
    "import pandas as pd\n",
    "import geopandas as gpd\n",
    "from quetzal.model import stepmodel\n",
    "from quetzal.engine import engine, connectivity"
   ]
  },
  {
   "cell_type": "markdown",
   "metadata": {},
   "source": [
    "# Preparation of the transport network.\n",
    "## Saves access and egress links for each zone.\n",
    "## Needs all networks.\n"
   ]
  },
  {
   "cell_type": "code",
   "execution_count": 2,
   "metadata": {},
   "outputs": [],
   "source": [
    "input_path = '../input/'\n",
    "output_path = '../output/'\n",
    "model_path = '../model/'"
   ]
  },
  {
   "cell_type": "code",
   "execution_count": 3,
   "metadata": {
    "scrolled": true
   },
   "outputs": [],
   "source": [
    "sm = stepmodel.read_json(model_path + 'de_pt_network')\n",
    "bus = stepmodel.read_json(model_path + 'de_pt_network_bus')\n",
    "road = stepmodel.read_json(model_path + 'de_road_network')"
   ]
  },
  {
   "cell_type": "markdown",
   "metadata": {},
   "source": [
    "### Clean zones"
   ]
  },
  {
   "cell_type": "code",
   "execution_count": 4,
   "metadata": {},
   "outputs": [
    {
     "name": "stdout",
     "output_type": "stream",
     "text": [
      "401\n",
      "401\n"
     ]
    }
   ],
   "source": [
    "# Drop unused zones for later steps to work \n",
    "print(len(sm.zones.index))\n",
    "sm.zones = sm.zones.loc[sm.zones['NUTS_ID'].str.startswith('DE')]\n",
    "sm.zones = sm.zones[sm.zones[\"LEVL_CODE\"]==3]\n",
    "print(len(sm.zones.index))"
   ]
  },
  {
   "cell_type": "code",
   "execution_count": 5,
   "metadata": {},
   "outputs": [],
   "source": [
    "# Compute controids\n",
    "sm.preparation_ntlegs(\n",
    "    zone_to_transit=False,\n",
    "    zone_to_road=False)"
   ]
  },
  {
   "cell_type": "markdown",
   "metadata": {},
   "source": [
    "## Assumptions"
   ]
  },
  {
   "cell_type": "code",
   "execution_count": 6,
   "metadata": {},
   "outputs": [],
   "source": [
    "# Walking vs. driving to the train station\n",
    "threshold = 500 # in m\n",
    "# Average speeds from MiD calibration data\n",
    "speed_non_motorised_modes = 17 # in km/h\n",
    "speed_car = 44 # in km/h\n",
    "speed_footpaths = 5 # in km/h, assumed\n",
    "# Max. distances for accessing the transport nodes\n",
    "# in m\n",
    "threshold_dict = {'road': 10000,\n",
    "                  'road_pt': 500,\n",
    "                  'pt': 12000,\n",
    "                  'footpaths': 500,\n",
    "                  'footpaths_air': 2200,\n",
    "                  'cycling_zones': 20000}"
   ]
  },
  {
   "cell_type": "markdown",
   "metadata": {},
   "source": [
    "## Generate footpaths table"
   ]
  },
  {
   "cell_type": "code",
   "execution_count": 7,
   "metadata": {},
   "outputs": [
    {
     "data": {
      "text/plain": [
       "(14990, 3)"
      ]
     },
     "execution_count": 7,
     "metadata": {},
     "output_type": "execute_result"
    }
   ],
   "source": [
    "sm.nodes.shape"
   ]
  },
  {
   "cell_type": "code",
   "execution_count": 9,
   "metadata": {},
   "outputs": [],
   "source": [
    "# The Voronoi algorithm is too slow for this amount of nodes\n",
    "#sm.footpaths = connectivity.build_footpaths(\n",
    "#    sm.nodes,\n",
    "#    speed=speed_footpaths,\n",
    "#    max_length=threshold_dict['footpaths'],\n",
    "#    n_clusters=1000,\n",
    "#    coordinates_unit=sm.coordinates_unit)"
   ]
  },
  {
   "cell_type": "code",
   "execution_count": 8,
   "metadata": {},
   "outputs": [
    {
     "data": {
      "text/plain": [
       "6632"
      ]
     },
     "execution_count": 8,
     "metadata": {},
     "output_type": "execute_result"
    }
   ],
   "source": [
    "# Generate footpaths between modes\n",
    "sm.footpaths = sm.footpaths.iloc[0:0]\n",
    "for o in ['rail_short_distance']:\n",
    "    for d in [t for t in sm.pt_route_types if t!='bus']:\n",
    "        if o != d:\n",
    "            ntlegs = engine.ntlegs_from_centroids_and_nodes(\n",
    "                sm.nodes.loc[sm.nodes['route_type']==o],\n",
    "                sm.nodes.loc[sm.nodes['route_type']==d],\n",
    "                short_leg_speed=speed_footpaths,\n",
    "                long_leg_speed=speed_non_motorised_modes,\n",
    "                threshold=threshold,\n",
    "                n_neighbors=1,\n",
    "                coordinates_unit=sm.coordinates_unit)\n",
    "            if d == 'air':\n",
    "                ntlegs = ntlegs.loc[ntlegs['distance']<=\n",
    "                                    threshold_dict['footpaths_air']]\n",
    "            else:\n",
    "                ntlegs = ntlegs.loc[ntlegs['distance']<=\n",
    "                                    threshold_dict['footpaths']]\n",
    "            sm.footpaths = sm.footpaths.append(ntlegs)\n",
    "len(sm.footpaths.index)"
   ]
  },
  {
   "cell_type": "code",
   "execution_count": 9,
   "metadata": {},
   "outputs": [
    {
     "data": {
      "text/plain": [
       "104830"
      ]
     },
     "execution_count": 9,
     "metadata": {},
     "output_type": "execute_result"
    }
   ],
   "source": [
    "# Add bus connections\n",
    "for d in [t for t in sm.pt_route_types if t!='bus']:\n",
    "    ntlegs = engine.ntlegs_from_centroids_and_nodes(\n",
    "        bus.nodes,\n",
    "        sm.nodes.loc[sm.nodes['route_type']==d],\n",
    "        short_leg_speed=speed_footpaths,\n",
    "        long_leg_speed=speed_non_motorised_modes,\n",
    "        threshold=threshold,\n",
    "        n_neighbors=1,\n",
    "        coordinates_unit=sm.coordinates_unit)\n",
    "    if d == 'air':\n",
    "        ntlegs = ntlegs.loc[ntlegs['distance']<=\n",
    "                            threshold_dict['footpaths_air']]\n",
    "    else:\n",
    "        ntlegs = ntlegs.loc[ntlegs['distance']<=\n",
    "                            threshold_dict['footpaths']]\n",
    "    sm.footpaths = sm.footpaths.append(ntlegs)\n",
    "len(sm.footpaths.index)"
   ]
  },
  {
   "cell_type": "code",
   "execution_count": 10,
   "metadata": {},
   "outputs": [
    {
     "data": {
      "text/plain": [
       "(3700, 11)"
      ]
     },
     "execution_count": 10,
     "metadata": {},
     "output_type": "execute_result"
    }
   ],
   "source": [
    "# Number of nodes that overlay each other\n",
    "sm.footpaths.loc[sm.footpaths['distance']==0].shape"
   ]
  },
  {
   "cell_type": "code",
   "execution_count": 11,
   "metadata": {},
   "outputs": [],
   "source": [
    "# Keep only one footpath to stops of the same trip\n",
    "# List of footpath nodes\n",
    "node_list = list(sm.footpaths[['a', 'b']].stack())\n",
    "n_foot_dict = sm.footpaths[['a', 'b']].stack().value_counts().to_dict()\n",
    "# Reduce list by keeping the most connected stops of each trip\n",
    "links = sm.links.append(bus.links)\n",
    "links = links.loc[\n",
    "    (links['a'].isin(node_list)) | (links['b'].isin(node_list))]\n",
    "links['n_foot'] = links['a'].map(n_foot_dict) + links['b'].map(n_foot_dict)\n",
    "node_list = set(list(links.sort_values('n_foot').drop_duplicates(\n",
    "    'trip_id')[['a', 'b']].stack()))"
   ]
  },
  {
   "cell_type": "code",
   "execution_count": 12,
   "metadata": {},
   "outputs": [
    {
     "data": {
      "text/plain": [
       "56521"
      ]
     },
     "execution_count": 12,
     "metadata": {},
     "output_type": "execute_result"
    }
   ],
   "source": [
    "len(node_list)"
   ]
  },
  {
   "cell_type": "code",
   "execution_count": 13,
   "metadata": {},
   "outputs": [
    {
     "data": {
      "text/plain": [
       "(97232, 11)"
      ]
     },
     "execution_count": 13,
     "metadata": {},
     "output_type": "execute_result"
    }
   ],
   "source": [
    "# Restrict footpaths to one to two connections between stops of every two trip_ids\n",
    "sm.footpaths = sm.footpaths.loc[(sm.footpaths['a'].isin(node_list)) |\n",
    "                                (sm.footpaths['b'].isin(node_list))]\n",
    "sm.footpaths.shape"
   ]
  },
  {
   "cell_type": "code",
   "execution_count": 14,
   "metadata": {},
   "outputs": [
    {
     "data": {
      "text/plain": [
       "(228, 11)"
      ]
     },
     "execution_count": 14,
     "metadata": {},
     "output_type": "execute_result"
    }
   ],
   "source": [
    "# Generate footpaths between centroids\n",
    "ntlegs = engine.ntlegs_from_centroids_and_nodes(\n",
    "    sm.centroids,\n",
    "    sm.centroids,\n",
    "    short_leg_speed=speed_non_motorised_modes,\n",
    "    long_leg_speed=speed_non_motorised_modes,\n",
    "    threshold=threshold,\n",
    "    n_neighbors=2,\n",
    "    coordinates_unit=sm.coordinates_unit)\n",
    "ntlegs = ntlegs.loc[ntlegs['distance']<=\n",
    "                    threshold_dict['cycling_zones']]\n",
    "ntlegs = ntlegs.loc[ntlegs['distance']!=0]\n",
    "ntlegs.drop_duplicates(['direction', 'distance', 'time'], inplace=True)\n",
    "sm.footpaths = sm.footpaths.append(ntlegs)\n",
    "ntlegs.shape"
   ]
  },
  {
   "cell_type": "code",
   "execution_count": 15,
   "metadata": {},
   "outputs": [],
   "source": [
    "# Reindex\n",
    "sm.footpaths.reset_index(drop=True, inplace=True)\n",
    "sm.footpaths.index = 'foot_' + pd.Series(sm.footpaths.index).astype(str)"
   ]
  },
  {
   "cell_type": "code",
   "execution_count": 16,
   "metadata": {},
   "outputs": [
    {
     "data": {
      "text/html": [
       "<div>\n",
       "<style scoped>\n",
       "    .dataframe tbody tr th:only-of-type {\n",
       "        vertical-align: middle;\n",
       "    }\n",
       "\n",
       "    .dataframe tbody tr th {\n",
       "        vertical-align: top;\n",
       "    }\n",
       "\n",
       "    .dataframe thead th {\n",
       "        text-align: right;\n",
       "    }\n",
       "</style>\n",
       "<table border=\"1\" class=\"dataframe\">\n",
       "  <thead>\n",
       "    <tr style=\"text-align: right;\">\n",
       "      <th></th>\n",
       "      <th>a</th>\n",
       "      <th>b</th>\n",
       "      <th>direction</th>\n",
       "      <th>distance</th>\n",
       "      <th>geometry</th>\n",
       "      <th>long_leg_speed</th>\n",
       "      <th>rank</th>\n",
       "      <th>short_leg_speed</th>\n",
       "      <th>speed</th>\n",
       "      <th>speed_factor</th>\n",
       "      <th>time</th>\n",
       "    </tr>\n",
       "  </thead>\n",
       "  <tbody>\n",
       "    <tr>\n",
       "      <th>foot_90366</th>\n",
       "      <td>bus_n_x_442038</td>\n",
       "      <td>coach_node_FLIXBUS:1184</td>\n",
       "      <td>access</td>\n",
       "      <td>471.820303</td>\n",
       "      <td>LINESTRING (10.79257 51.84473, 10.79065 51.84065)</td>\n",
       "      <td>17.0</td>\n",
       "      <td>0.0</td>\n",
       "      <td>5.0</td>\n",
       "      <td>5.0</td>\n",
       "      <td>0.971412</td>\n",
       "      <td>339.710618</td>\n",
       "    </tr>\n",
       "    <tr>\n",
       "      <th>foot_82419</th>\n",
       "      <td>rail_short_node_8628</td>\n",
       "      <td>bus_n_50808</td>\n",
       "      <td>eggress</td>\n",
       "      <td>393.961722</td>\n",
       "      <td>LINESTRING (13.56566 54.44157, 13.56406 54.44498)</td>\n",
       "      <td>17.0</td>\n",
       "      <td>0.0</td>\n",
       "      <td>5.0</td>\n",
       "      <td>5.0</td>\n",
       "      <td>0.887651</td>\n",
       "      <td>283.652440</td>\n",
       "    </tr>\n",
       "    <tr>\n",
       "      <th>foot_95377</th>\n",
       "      <td>coach_node_FLIXBUS:37161</td>\n",
       "      <td>bus_n_110114</td>\n",
       "      <td>eggress</td>\n",
       "      <td>195.216832</td>\n",
       "      <td>LINESTRING (10.71057 50.93784, 10.71254 50.93907)</td>\n",
       "      <td>17.0</td>\n",
       "      <td>0.0</td>\n",
       "      <td>5.0</td>\n",
       "      <td>5.0</td>\n",
       "      <td>0.624847</td>\n",
       "      <td>140.556119</td>\n",
       "    </tr>\n",
       "  </tbody>\n",
       "</table>\n",
       "</div>"
      ],
      "text/plain": [
       "                                   a                        b direction  \\\n",
       "foot_90366            bus_n_x_442038  coach_node_FLIXBUS:1184    access   \n",
       "foot_82419      rail_short_node_8628              bus_n_50808   eggress   \n",
       "foot_95377  coach_node_FLIXBUS:37161             bus_n_110114   eggress   \n",
       "\n",
       "              distance                                           geometry  \\\n",
       "foot_90366  471.820303  LINESTRING (10.79257 51.84473, 10.79065 51.84065)   \n",
       "foot_82419  393.961722  LINESTRING (13.56566 54.44157, 13.56406 54.44498)   \n",
       "foot_95377  195.216832  LINESTRING (10.71057 50.93784, 10.71254 50.93907)   \n",
       "\n",
       "            long_leg_speed  rank  short_leg_speed  speed  speed_factor  \\\n",
       "foot_90366            17.0   0.0              5.0    5.0      0.971412   \n",
       "foot_82419            17.0   0.0              5.0    5.0      0.887651   \n",
       "foot_95377            17.0   0.0              5.0    5.0      0.624847   \n",
       "\n",
       "                  time  \n",
       "foot_90366  339.710618  \n",
       "foot_82419  283.652440  \n",
       "foot_95377  140.556119  "
      ]
     },
     "execution_count": 16,
     "metadata": {},
     "output_type": "execute_result"
    }
   ],
   "source": [
    "sm.footpaths.sample(n=3)"
   ]
  },
  {
   "cell_type": "markdown",
   "metadata": {},
   "source": [
    "## Add access and egress links from zone centroids"
   ]
  },
  {
   "cell_type": "code",
   "execution_count": 17,
   "metadata": {},
   "outputs": [
    {
     "data": {
      "text/plain": [
       "2406"
      ]
     },
     "execution_count": 17,
     "metadata": {},
     "output_type": "execute_result"
    }
   ],
   "source": [
    "# Compute road access and egress links\n",
    "sm.zone_to_road = engine.ntlegs_from_centroids_and_nodes(\n",
    "    sm.centroids,\n",
    "    road.road_nodes,\n",
    "    short_leg_speed=speed_footpaths,\n",
    "    long_leg_speed=speed_non_motorised_modes,\n",
    "    threshold=threshold,\n",
    "    n_neighbors=3,\n",
    "    coordinates_unit=sm.coordinates_unit)\n",
    "sm.zone_to_road = sm.zone_to_road.loc[\n",
    "    sm.zone_to_road['distance']<=threshold_dict['road']]\n",
    "len(sm.zone_to_road.index)"
   ]
  },
  {
   "cell_type": "code",
   "execution_count": 18,
   "metadata": {},
   "outputs": [],
   "source": [
    "# Every zone must have an access and an egress link to roads\n",
    "assert sm.zones['NUTS_ID'].isin(list(sm.zone_to_road['a'])).all()\n",
    "assert sm.zones['NUTS_ID'].isin(list(sm.zone_to_road['b'])).all()"
   ]
  },
  {
   "cell_type": "code",
   "execution_count": 19,
   "metadata": {},
   "outputs": [
    {
     "data": {
      "text/plain": [
       "15584"
      ]
     },
     "execution_count": 19,
     "metadata": {},
     "output_type": "execute_result"
    }
   ],
   "source": [
    "# Compute road - PT links\n",
    "sm.road_to_transit = engine.ntlegs_from_centroids_and_nodes(\n",
    "    sm.nodes,\n",
    "    road.road_nodes,\n",
    "    short_leg_speed=speed_footpaths,\n",
    "    long_leg_speed=speed_non_motorised_modes,\n",
    "    threshold=threshold,\n",
    "    n_neighbors=1,\n",
    "    coordinates_unit=sm.coordinates_unit)\n",
    "sm.road_to_transit = sm.road_to_transit.loc[\n",
    "    sm.road_to_transit['distance']<=threshold_dict['road_pt']]\n",
    "len(sm.road_to_transit.index)"
   ]
  },
  {
   "cell_type": "code",
   "execution_count": 20,
   "metadata": {},
   "outputs": [
    {
     "data": {
      "text/plain": [
       "['rail_long_distance', 'rail_short_distance', 'coach', 'air']"
      ]
     },
     "execution_count": 20,
     "metadata": {},
     "output_type": "execute_result"
    }
   ],
   "source": [
    "# Every route type is saved once in this attribute\n",
    "assert len(sm.pt_route_types) == len(sm.links['route_type'].unique())\n",
    "sm.pt_route_types"
   ]
  },
  {
   "cell_type": "code",
   "execution_count": 21,
   "metadata": {},
   "outputs": [],
   "source": [
    "# How many links does every node have?\n",
    "n_links_dict = sm.links[['a', 'b']].append(bus.links[['a', 'b']]).append(\n",
    "    sm.footpaths[['a', 'b']]).stack().value_counts().to_dict()"
   ]
  },
  {
   "cell_type": "code",
   "execution_count": 22,
   "metadata": {},
   "outputs": [
    {
     "data": {
      "text/plain": [
       "1648"
      ]
     },
     "execution_count": 22,
     "metadata": {},
     "output_type": "execute_result"
    }
   ],
   "source": [
    "# Compute PT access and egress links by route type\n",
    "sm.zone_to_transit = sm.zone_to_transit.iloc[0:0]\n",
    "for t in sm.pt_route_types:\n",
    "    ntlegs = engine.ntlegs_from_centroids_and_nodes(\n",
    "        sm.centroids,\n",
    "        sm.nodes.loc[sm.nodes['route_type']==t],\n",
    "        short_leg_speed=speed_footpaths,\n",
    "        long_leg_speed=speed_non_motorised_modes,\n",
    "        threshold=threshold,\n",
    "        n_neighbors=5, # Generate a bunch and clean later\n",
    "        coordinates_unit=sm.coordinates_unit)\n",
    "    # Cut off long links\n",
    "    ntlegs = ntlegs.loc[ntlegs['distance']<=\n",
    "                        threshold_dict['pt']]\n",
    "    ntlegs['route_type'] = t\n",
    "    ac = ntlegs.loc[ntlegs['direction']=='access']\n",
    "    eg = ntlegs.loc[ntlegs['direction']=='eggress']  \n",
    "    # Keep only this link with the highest connectivity\n",
    "    ac['n_links'] = ac['b'].map(n_links_dict)\n",
    "    eg['n_links'] = eg['a'].map(n_links_dict)\n",
    "    ac = ac.loc[ac['n_links'].notna()]\n",
    "    eg = eg.loc[eg['n_links'].notna()]\n",
    "    ac = ac.loc[ac.groupby('a')['n_links'].idxmax()]\n",
    "    eg = eg.loc[eg.groupby('b')['n_links'].idxmax()]\n",
    "    sm.zone_to_transit = sm.zone_to_transit.append(ac).append(eg)\n",
    "sm.zone_to_transit.reset_index(drop=True, inplace=True)\n",
    "len(sm.zone_to_transit.index)"
   ]
  },
  {
   "cell_type": "code",
   "execution_count": 23,
   "metadata": {},
   "outputs": [
    {
     "data": {
      "text/plain": [
       "2448"
      ]
     },
     "execution_count": 23,
     "metadata": {},
     "output_type": "execute_result"
    }
   ],
   "source": [
    "# Add bus connections\n",
    "ntlegs = engine.ntlegs_from_centroids_and_nodes(\n",
    "    sm.centroids,\n",
    "    bus.nodes,\n",
    "    short_leg_speed=speed_footpaths,\n",
    "    long_leg_speed=speed_non_motorised_modes,\n",
    "    threshold=threshold,\n",
    "    n_neighbors=5, # Generate a bunch and clean later\n",
    "    coordinates_unit=sm.coordinates_unit)\n",
    "# Cut off long links\n",
    "ntlegs = ntlegs.loc[ntlegs['distance']<=\n",
    "                    threshold_dict['pt']]\n",
    "ntlegs['route_type'] = 'bus'\n",
    "ac = ntlegs.loc[ntlegs['direction']=='access']\n",
    "eg = ntlegs.loc[ntlegs['direction']=='eggress']  \n",
    "# Keep only this link with the highest connectivity\n",
    "ac['n_links'] = ac['b'].map(n_links_dict)\n",
    "eg['n_links'] = eg['a'].map(n_links_dict)\n",
    "ac = ac.loc[ac.groupby('a')['n_links'].idxmax()]\n",
    "eg = eg.loc[eg.groupby('b')['n_links'].idxmax()]\n",
    "sm.zone_to_transit = sm.zone_to_transit.append(ac).append(eg)\n",
    "sm.zone_to_transit.reset_index(drop=True, inplace=True)\n",
    "len(sm.zone_to_transit.index)"
   ]
  },
  {
   "cell_type": "code",
   "execution_count": 24,
   "metadata": {},
   "outputs": [
    {
     "data": {
      "text/plain": [
       "route_type           direction\n",
       "air                  access        24\n",
       "                     eggress       24\n",
       "bus                  access       400\n",
       "                     eggress      400\n",
       "coach                access       221\n",
       "                     eggress      221\n",
       "rail_long_distance   access       187\n",
       "                     eggress      187\n",
       "rail_short_distance  access       392\n",
       "                     eggress      392\n",
       "Name: a, dtype: int64"
      ]
     },
     "execution_count": 24,
     "metadata": {},
     "output_type": "execute_result"
    }
   ],
   "source": [
    "# Number of legs by route type\n",
    "sm.zone_to_transit.groupby(['route_type', 'direction'])['a'].count()"
   ]
  },
  {
   "cell_type": "code",
   "execution_count": 25,
   "metadata": {},
   "outputs": [],
   "source": [
    "# Every zone must have an access and an egress link to PT\n",
    "#sm.zones.loc[sm.zones['NUTS_ID'].isin(list(sm.zone_to_transit['a']))==False]\n",
    "assert sm.zones['NUTS_ID'].isin(list(sm.zone_to_transit['a'])).all()\n",
    "assert sm.zones['NUTS_ID'].isin(list(sm.zone_to_transit['b'])).all()"
   ]
  },
  {
   "cell_type": "markdown",
   "metadata": {},
   "source": [
    "### Parametrise access and egress links\n",
    "Only zone-PT connectors will be handled in a seperate step"
   ]
  },
  {
   "cell_type": "code",
   "execution_count": 26,
   "metadata": {},
   "outputs": [
    {
     "data": {
      "text/html": [
       "<div>\n",
       "<style scoped>\n",
       "    .dataframe tbody tr th:only-of-type {\n",
       "        vertical-align: middle;\n",
       "    }\n",
       "\n",
       "    .dataframe tbody tr th {\n",
       "        vertical-align: top;\n",
       "    }\n",
       "\n",
       "    .dataframe thead th {\n",
       "        text-align: right;\n",
       "    }\n",
       "</style>\n",
       "<table border=\"1\" class=\"dataframe\">\n",
       "  <thead>\n",
       "    <tr style=\"text-align: right;\">\n",
       "      <th></th>\n",
       "      <th>a</th>\n",
       "      <th>b</th>\n",
       "      <th>direction</th>\n",
       "      <th>distance</th>\n",
       "      <th>geometry</th>\n",
       "      <th>rank</th>\n",
       "      <th>speed_factor</th>\n",
       "      <th>short_leg_speed</th>\n",
       "      <th>long_leg_speed</th>\n",
       "      <th>speed</th>\n",
       "      <th>time</th>\n",
       "    </tr>\n",
       "  </thead>\n",
       "  <tbody>\n",
       "    <tr>\n",
       "      <th>5294</th>\n",
       "      <td>rail_short_node_9000</td>\n",
       "      <td>903673001</td>\n",
       "      <td>access</td>\n",
       "      <td>0</td>\n",
       "      <td>LINESTRING (13.668919 51.073086, 13.6683718 51...</td>\n",
       "      <td>0</td>\n",
       "      <td>0.299735</td>\n",
       "      <td>5</td>\n",
       "      <td>17</td>\n",
       "      <td>5.0</td>\n",
       "      <td>300</td>\n",
       "    </tr>\n",
       "    <tr>\n",
       "      <th>25991</th>\n",
       "      <td>1486400569</td>\n",
       "      <td>rail_short_node_7536</td>\n",
       "      <td>eggress</td>\n",
       "      <td>0</td>\n",
       "      <td>LINESTRING (11.106115 49.473976, 11.1049355 49...</td>\n",
       "      <td>0</td>\n",
       "      <td>0.602147</td>\n",
       "      <td>5</td>\n",
       "      <td>17</td>\n",
       "      <td>5.0</td>\n",
       "      <td>300</td>\n",
       "    </tr>\n",
       "  </tbody>\n",
       "</table>\n",
       "</div>"
      ],
      "text/plain": [
       "                          a                     b direction  distance  \\\n",
       "5294   rail_short_node_9000             903673001    access         0   \n",
       "25991            1486400569  rail_short_node_7536   eggress         0   \n",
       "\n",
       "                                                geometry  rank  speed_factor  \\\n",
       "5294   LINESTRING (13.668919 51.073086, 13.6683718 51...     0      0.299735   \n",
       "25991  LINESTRING (11.106115 49.473976, 11.1049355 49...     0      0.602147   \n",
       "\n",
       "       short_leg_speed  long_leg_speed  speed  time  \n",
       "5294                 5              17    5.0   300  \n",
       "25991                5              17    5.0   300  "
      ]
     },
     "execution_count": 26,
     "metadata": {},
     "output_type": "execute_result"
    }
   ],
   "source": [
    "# Road - PT connectors\n",
    "sm.road_to_transit['distance'] = 0\n",
    "sm.road_to_transit['time'] = 5*60 # in seconds\n",
    "sm.road_to_transit.sample(n=2)"
   ]
  },
  {
   "cell_type": "code",
   "execution_count": 27,
   "metadata": {},
   "outputs": [
    {
     "data": {
      "text/html": [
       "<div>\n",
       "<style scoped>\n",
       "    .dataframe tbody tr th:only-of-type {\n",
       "        vertical-align: middle;\n",
       "    }\n",
       "\n",
       "    .dataframe tbody tr th {\n",
       "        vertical-align: top;\n",
       "    }\n",
       "\n",
       "    .dataframe thead th {\n",
       "        text-align: right;\n",
       "    }\n",
       "</style>\n",
       "<table border=\"1\" class=\"dataframe\">\n",
       "  <thead>\n",
       "    <tr style=\"text-align: right;\">\n",
       "      <th></th>\n",
       "      <th>a</th>\n",
       "      <th>b</th>\n",
       "      <th>direction</th>\n",
       "      <th>distance</th>\n",
       "      <th>geometry</th>\n",
       "      <th>rank</th>\n",
       "      <th>speed_factor</th>\n",
       "      <th>short_leg_speed</th>\n",
       "      <th>long_leg_speed</th>\n",
       "      <th>speed</th>\n",
       "      <th>time</th>\n",
       "    </tr>\n",
       "  </thead>\n",
       "  <tbody>\n",
       "    <tr>\n",
       "      <th>370</th>\n",
       "      <td>DEG0C</td>\n",
       "      <td>292109095</td>\n",
       "      <td>access</td>\n",
       "      <td>0</td>\n",
       "      <td>LINESTRING (10.69382058262155 50.9106100665805...</td>\n",
       "      <td>0</td>\n",
       "      <td>1.737356</td>\n",
       "      <td>5</td>\n",
       "      <td>17</td>\n",
       "      <td>8.686778</td>\n",
       "      <td>0</td>\n",
       "    </tr>\n",
       "    <tr>\n",
       "      <th>5</th>\n",
       "      <td>DE715</td>\n",
       "      <td>1393731601</td>\n",
       "      <td>access</td>\n",
       "      <td>0</td>\n",
       "      <td>LINESTRING (8.660199656582915 49.6176876292569...</td>\n",
       "      <td>0</td>\n",
       "      <td>1.261475</td>\n",
       "      <td>5</td>\n",
       "      <td>17</td>\n",
       "      <td>6.307376</td>\n",
       "      <td>0</td>\n",
       "    </tr>\n",
       "  </tbody>\n",
       "</table>\n",
       "</div>"
      ],
      "text/plain": [
       "         a           b direction  distance  \\\n",
       "370  DEG0C   292109095    access         0   \n",
       "5    DE715  1393731601    access         0   \n",
       "\n",
       "                                              geometry  rank  speed_factor  \\\n",
       "370  LINESTRING (10.69382058262155 50.9106100665805...     0      1.737356   \n",
       "5    LINESTRING (8.660199656582915 49.6176876292569...     0      1.261475   \n",
       "\n",
       "     short_leg_speed  long_leg_speed     speed  time  \n",
       "370                5              17  8.686778     0  \n",
       "5                  5              17  6.307376     0  "
      ]
     },
     "execution_count": 27,
     "metadata": {},
     "output_type": "execute_result"
    }
   ],
   "source": [
    "# Road - centroid connectors\n",
    "sm.zone_to_road['distance'] = 0\n",
    "sm.zone_to_road['time'] = 0\n",
    "sm.zone_to_road.sample(n=2)"
   ]
  },
  {
   "cell_type": "code",
   "execution_count": 28,
   "metadata": {},
   "outputs": [
    {
     "data": {
      "text/html": [
       "<div>\n",
       "<style scoped>\n",
       "    .dataframe tbody tr th:only-of-type {\n",
       "        vertical-align: middle;\n",
       "    }\n",
       "\n",
       "    .dataframe tbody tr th {\n",
       "        vertical-align: top;\n",
       "    }\n",
       "\n",
       "    .dataframe thead th {\n",
       "        text-align: right;\n",
       "    }\n",
       "</style>\n",
       "<table border=\"1\" class=\"dataframe\">\n",
       "  <thead>\n",
       "    <tr style=\"text-align: right;\">\n",
       "      <th></th>\n",
       "      <th>a</th>\n",
       "      <th>b</th>\n",
       "      <th>direction</th>\n",
       "      <th>distance</th>\n",
       "      <th>geometry</th>\n",
       "      <th>long_leg_speed</th>\n",
       "      <th>n_links</th>\n",
       "      <th>rank</th>\n",
       "      <th>route_type</th>\n",
       "      <th>short_leg_speed</th>\n",
       "      <th>speed</th>\n",
       "      <th>speed_factor</th>\n",
       "      <th>time</th>\n",
       "    </tr>\n",
       "  </thead>\n",
       "  <tbody>\n",
       "    <tr>\n",
       "      <th>526</th>\n",
       "      <td>DE40C</td>\n",
       "      <td>rail_short_node_11698</td>\n",
       "      <td>access</td>\n",
       "      <td>7682.334875</td>\n",
       "      <td>LINESTRING (14.21903 52.24394, 14.25097 52.17768)</td>\n",
       "      <td>17.0</td>\n",
       "      <td>27.0</td>\n",
       "      <td>0.0</td>\n",
       "      <td>rail_short_distance</td>\n",
       "      <td>5.0</td>\n",
       "      <td>17.000000</td>\n",
       "      <td>3.919779</td>\n",
       "      <td>1626.847385</td>\n",
       "    </tr>\n",
       "    <tr>\n",
       "      <th>784</th>\n",
       "      <td>rail_short_node_14503</td>\n",
       "      <td>DE126</td>\n",
       "      <td>eggress</td>\n",
       "      <td>2567.736473</td>\n",
       "      <td>LINESTRING (8.50049 49.49943, 8.47777 49.51720)</td>\n",
       "      <td>17.0</td>\n",
       "      <td>38.0</td>\n",
       "      <td>2.0</td>\n",
       "      <td>rail_short_distance</td>\n",
       "      <td>5.0</td>\n",
       "      <td>11.330791</td>\n",
       "      <td>2.266158</td>\n",
       "      <td>815.816949</td>\n",
       "    </tr>\n",
       "  </tbody>\n",
       "</table>\n",
       "</div>"
      ],
      "text/plain": [
       "                         a                      b direction     distance  \\\n",
       "526                  DE40C  rail_short_node_11698    access  7682.334875   \n",
       "784  rail_short_node_14503                  DE126   eggress  2567.736473   \n",
       "\n",
       "                                              geometry  long_leg_speed  \\\n",
       "526  LINESTRING (14.21903 52.24394, 14.25097 52.17768)            17.0   \n",
       "784    LINESTRING (8.50049 49.49943, 8.47777 49.51720)            17.0   \n",
       "\n",
       "     n_links  rank           route_type  short_leg_speed      speed  \\\n",
       "526     27.0   0.0  rail_short_distance              5.0  17.000000   \n",
       "784     38.0   2.0  rail_short_distance              5.0  11.330791   \n",
       "\n",
       "     speed_factor         time  \n",
       "526      3.919779  1626.847385  \n",
       "784      2.266158   815.816949  "
      ]
     },
     "execution_count": 28,
     "metadata": {},
     "output_type": "execute_result"
    }
   ],
   "source": [
    "# Parameterisation comes later for PT\n",
    "sm.zone_to_transit.sample(n=2)"
   ]
  },
  {
   "cell_type": "markdown",
   "metadata": {},
   "source": [
    "## Save model"
   ]
  },
  {
   "cell_type": "code",
   "execution_count": 29,
   "metadata": {},
   "outputs": [],
   "source": [
    "# Drop unneccessary columns\n",
    "cols = ['speed_factor', 'short_leg_speed', 'long_leg_speed', 'rank']\n",
    "sm.footpaths.drop(cols, axis=1, inplace=True)\n",
    "sm.zone_to_transit.drop(cols, axis=1, inplace=True)\n",
    "sm.zone_to_road.drop(cols, axis=1, inplace=True)\n",
    "sm.road_to_transit.drop(cols, axis=1, inplace=True)\n",
    "sm.zone_to_transit.drop(['n_links'], axis=1, inplace=True)"
   ]
  },
  {
   "cell_type": "code",
   "execution_count": 32,
   "metadata": {},
   "outputs": [],
   "source": [
    "# Make tables lighter\n",
    "cols = ['distance', 'speed', 'time']\n",
    "sm.footpaths[cols] = sm.footpaths[cols].astype(int)\n",
    "sm.zone_to_transit[cols] = sm.zone_to_transit[cols].astype(int)\n",
    "sm.zone_to_road[cols] = sm.zone_to_road[cols].astype(int)\n",
    "sm.road_to_transit[cols] = sm.road_to_transit[cols].astype(int)"
   ]
  },
  {
   "cell_type": "code",
   "execution_count": 33,
   "metadata": {},
   "outputs": [
    {
     "data": {
      "text/html": [
       "<div>\n",
       "<style scoped>\n",
       "    .dataframe tbody tr th:only-of-type {\n",
       "        vertical-align: middle;\n",
       "    }\n",
       "\n",
       "    .dataframe tbody tr th {\n",
       "        vertical-align: top;\n",
       "    }\n",
       "\n",
       "    .dataframe thead th {\n",
       "        text-align: right;\n",
       "    }\n",
       "</style>\n",
       "<table border=\"1\" class=\"dataframe\">\n",
       "  <thead>\n",
       "    <tr style=\"text-align: right;\">\n",
       "      <th></th>\n",
       "      <th>a</th>\n",
       "      <th>b</th>\n",
       "      <th>direction</th>\n",
       "      <th>distance</th>\n",
       "      <th>geometry</th>\n",
       "      <th>speed</th>\n",
       "      <th>time</th>\n",
       "    </tr>\n",
       "  </thead>\n",
       "  <tbody>\n",
       "    <tr>\n",
       "      <th>foot_12744</th>\n",
       "      <td>rail_long_node_1080</td>\n",
       "      <td>bus_n_41640</td>\n",
       "      <td>eggress</td>\n",
       "      <td>131</td>\n",
       "      <td>LINESTRING (7.15786 50.68442, 7.15956 50.68393)</td>\n",
       "      <td>5</td>\n",
       "      <td>94</td>\n",
       "    </tr>\n",
       "  </tbody>\n",
       "</table>\n",
       "</div>"
      ],
      "text/plain": [
       "                              a            b direction  distance  \\\n",
       "foot_12744  rail_long_node_1080  bus_n_41640   eggress       131   \n",
       "\n",
       "                                                   geometry  speed  time  \n",
       "foot_12744  LINESTRING (7.15786 50.68442, 7.15956 50.68393)      5    94  "
      ]
     },
     "execution_count": 33,
     "metadata": {},
     "output_type": "execute_result"
    }
   ],
   "source": [
    "sm.footpaths.sample()"
   ]
  },
  {
   "cell_type": "code",
   "execution_count": 34,
   "metadata": {
    "scrolled": true
   },
   "outputs": [
    {
     "name": "stderr",
     "output_type": "stream",
     "text": [
      "to_hdf(overwriting): 100%|█████████████████████████████████████████████████████████████| 36/36 [00:16<00:00,  2.24it/s]\n",
      "to_hdf(overwriting): 100%|█████████████████████████████████████████████████████████████| 36/36 [00:03<00:00, 11.07it/s]\n"
     ]
    }
   ],
   "source": [
    "# Saving model...\n",
    "tables = ['centroids', 'footpaths', 'zone_to_transit']\n",
    "sm.to_json(model_path + 'de_pt_access_egress',\n",
    "           only_attributes=tables, encoding='utf-8')\n",
    "sm.to_json(model_path + 'de_road_access_egress',\n",
    "           only_attributes=['centroids', 'zone_to_road', 'road_to_transit'],\n",
    "           encoding='utf-8')"
   ]
  }
 ],
 "metadata": {
  "kernelspec": {
   "display_name": "Python 3",
   "language": "python",
   "name": "python3"
  },
  "language_info": {
   "codemirror_mode": {
    "name": "ipython",
    "version": 3
   },
   "file_extension": ".py",
   "mimetype": "text/x-python",
   "name": "python",
   "nbconvert_exporter": "python",
   "pygments_lexer": "ipython3",
   "version": "3.8.1"
  }
 },
 "nbformat": 4,
 "nbformat_minor": 2
}
