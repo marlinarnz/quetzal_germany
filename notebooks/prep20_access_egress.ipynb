{
 "cells": [
  {
   "cell_type": "code",
   "execution_count": 1,
   "metadata": {},
   "outputs": [
    {
     "name": "stderr",
     "output_type": "stream",
     "text": [
      "In C:\\Users\\marlin.arnz\\AppData\\Local\\Continuum\\miniconda3\\envs\\quetzal\\lib\\site-packages\\matplotlib\\mpl-data\\stylelib\\_classic_test.mplstyle: \n",
      "The text.latex.preview rcparam was deprecated in Matplotlib 3.3 and will be removed two minor releases later.\n",
      "In C:\\Users\\marlin.arnz\\AppData\\Local\\Continuum\\miniconda3\\envs\\quetzal\\lib\\site-packages\\matplotlib\\mpl-data\\stylelib\\_classic_test.mplstyle: \n",
      "The mathtext.fallback_to_cm rcparam was deprecated in Matplotlib 3.3 and will be removed two minor releases later.\n",
      "In C:\\Users\\marlin.arnz\\AppData\\Local\\Continuum\\miniconda3\\envs\\quetzal\\lib\\site-packages\\matplotlib\\mpl-data\\stylelib\\_classic_test.mplstyle: Support for setting the 'mathtext.fallback_to_cm' rcParam is deprecated since 3.3 and will be removed two minor releases later; use 'mathtext.fallback : 'cm' instead.\n",
      "In C:\\Users\\marlin.arnz\\AppData\\Local\\Continuum\\miniconda3\\envs\\quetzal\\lib\\site-packages\\matplotlib\\mpl-data\\stylelib\\_classic_test.mplstyle: \n",
      "The validate_bool_maybe_none function was deprecated in Matplotlib 3.3 and will be removed two minor releases later.\n",
      "In C:\\Users\\marlin.arnz\\AppData\\Local\\Continuum\\miniconda3\\envs\\quetzal\\lib\\site-packages\\matplotlib\\mpl-data\\stylelib\\_classic_test.mplstyle: \n",
      "The savefig.jpeg_quality rcparam was deprecated in Matplotlib 3.3 and will be removed two minor releases later.\n",
      "In C:\\Users\\marlin.arnz\\AppData\\Local\\Continuum\\miniconda3\\envs\\quetzal\\lib\\site-packages\\matplotlib\\mpl-data\\stylelib\\_classic_test.mplstyle: \n",
      "The keymap.all_axes rcparam was deprecated in Matplotlib 3.3 and will be removed two minor releases later.\n",
      "In C:\\Users\\marlin.arnz\\AppData\\Local\\Continuum\\miniconda3\\envs\\quetzal\\lib\\site-packages\\matplotlib\\mpl-data\\stylelib\\_classic_test.mplstyle: \n",
      "The animation.avconv_path rcparam was deprecated in Matplotlib 3.3 and will be removed two minor releases later.\n",
      "In C:\\Users\\marlin.arnz\\AppData\\Local\\Continuum\\miniconda3\\envs\\quetzal\\lib\\site-packages\\matplotlib\\mpl-data\\stylelib\\_classic_test.mplstyle: \n",
      "The animation.avconv_args rcparam was deprecated in Matplotlib 3.3 and will be removed two minor releases later.\n"
     ]
    }
   ],
   "source": [
    "import numpy as np\n",
    "import pandas as pd\n",
    "import geopandas as gpd\n",
    "from shapely import geometry\n",
    "from quetzal.model import stepmodel\n",
    "from quetzal.engine import engine, connectivity"
   ]
  },
  {
   "cell_type": "markdown",
   "metadata": {},
   "source": [
    "# Preparation of the transport network.\n",
    "## Saves access and egress links for each zone.\n",
    "## Needs all networks.\n"
   ]
  },
  {
   "cell_type": "code",
   "execution_count": 2,
   "metadata": {},
   "outputs": [],
   "source": [
    "input_path = '../input_static/'\n",
    "output_path = '../output/'\n",
    "model_path = '../model/'"
   ]
  },
  {
   "cell_type": "code",
   "execution_count": 3,
   "metadata": {
    "scrolled": true
   },
   "outputs": [],
   "source": [
    "sm = stepmodel.read_json(input_path + 'de_pt_network')\n",
    "bus = stepmodel.read_json(input_path + 'de_pt_network_bus')\n",
    "road = stepmodel.read_json(input_path + 'de_road_network')"
   ]
  },
  {
   "cell_type": "markdown",
   "metadata": {},
   "source": [
    "### Clean zones"
   ]
  },
  {
   "cell_type": "code",
   "execution_count": 4,
   "metadata": {},
   "outputs": [
    {
     "name": "stdout",
     "output_type": "stream",
     "text": [
      "467\n",
      "467\n"
     ]
    }
   ],
   "source": [
    "# Drop unused zones for later steps to work \n",
    "print(len(sm.zones.index))\n",
    "sm.zones = sm.zones.loc[sm.zones['NUTS_ID'].str.startswith('DE')]\n",
    "sm.zones = sm.zones[sm.zones[\"LEVL_CODE\"]==3]\n",
    "print(len(sm.zones.index))"
   ]
  },
  {
   "cell_type": "code",
   "execution_count": 5,
   "metadata": {},
   "outputs": [],
   "source": [
    "# Compute controids\n",
    "sm.preparation_ntlegs(\n",
    "    zone_to_transit=False,\n",
    "    zone_to_road=False)"
   ]
  },
  {
   "cell_type": "markdown",
   "metadata": {},
   "source": [
    "## Assumptions"
   ]
  },
  {
   "cell_type": "code",
   "execution_count": 6,
   "metadata": {},
   "outputs": [],
   "source": [
    "# Walking vs. driving to the train station\n",
    "threshold = 500 # in m\n",
    "speed_non_motorised_modes = 17 # in km/h\n",
    "speed_car = 50 # in km/h\n",
    "speed_footpaths = 5 # in km/h, assumed\n",
    "# Max. distances for accessing the transport nodes\n",
    "# in m\n",
    "threshold_dict = {'road': 10000,\n",
    "                  'road_pt': 500,\n",
    "                  'pt': 12000,\n",
    "                  'footpaths': 500,\n",
    "                  'footpaths_air': 2200,\n",
    "                  'cycling_zones': 20000}"
   ]
  },
  {
   "cell_type": "code",
   "execution_count": 7,
   "metadata": {},
   "outputs": [],
   "source": [
    "# When having centroids computed as geometric centers of\n",
    "# political zones, it can happen that centroids come very\n",
    "# close to each other. This requires special filtering\n",
    "# of connectors for not making routes unrealistically short\n",
    "def filter_connectors(df, keep=2, length_weight=None, dist_centr_weight=None,\n",
    "                      conn_weight=None, conn_dict=None):\n",
    "    # Each link exists as both access and egress\n",
    "    ac = df.loc[df['direction']=='access']\n",
    "    eg = df.loc[df['direction']=='eggress']\n",
    "    analysis_cols = []\n",
    "    if length_weight:\n",
    "        # Link length (in km) weighted\n",
    "        ac['length'] = - np.power(ac['distance'] / 1e3, length_weight)\n",
    "        eg['length'] = - np.power(eg['distance'] / 1e3, length_weight)\n",
    "        analysis_cols.append('length')\n",
    "    if dist_centr_weight:\n",
    "        # Calculate distance to the nearest centroid (except own one)\n",
    "        ac['centr_dist'] = np.power([min([p.distance(c) for c in list(\n",
    "            sm.centroids.loc[sm.centroids['FID']!=own_c, 'geometry'])]\n",
    "                                        ) / 1.4e-2 for own_c, p in zip(\n",
    "            list(ac['a']), [geometry.Point(l.coords[-1]) for l in ac['geometry']])],\n",
    "                                    dist_centr_weight)\n",
    "        eg['centr_dist'] = np.power([min([p.distance(c) for c in list(\n",
    "            sm.centroids.loc[sm.centroids['FID']!=own_c, 'geometry'])]\n",
    "                                        ) / 1.4e-2 for own_c, p in zip(\n",
    "            list(eg['b']), [geometry.Point(l.coords[0]) for l in eg['geometry']])],\n",
    "                                    dist_centr_weight)\n",
    "        analysis_cols.append('centr_dist')\n",
    "    if conn_weight:\n",
    "        # Calculate connectivity\n",
    "        ac['connectivity'] = np.power(ac['b'].map(conn_dict), conn_weight)\n",
    "        eg['connectivity'] = np.power(eg['a'].map(conn_dict), conn_weight)\n",
    "        analysis_cols.append('connectivity')\n",
    "    # Calculate link performance with given attributes\n",
    "    ac['sum'] = ac[analysis_cols].sum(axis=1)\n",
    "    eg['sum'] = eg[analysis_cols].sum(axis=1)\n",
    "    # Get the n most wanted links\n",
    "    ac = ac.sort_values('sum', ascending=False).groupby('a').head(keep)\n",
    "    eg = eg.sort_values('sum', ascending=False).groupby('b').head(keep)\n",
    "    return ac.append(eg).reset_index()[df.columns]"
   ]
  },
  {
   "cell_type": "markdown",
   "metadata": {},
   "source": [
    "## Generate footpaths table"
   ]
  },
  {
   "cell_type": "code",
   "execution_count": 8,
   "metadata": {},
   "outputs": [
    {
     "data": {
      "text/plain": [
       "(15399, 4)"
      ]
     },
     "execution_count": 8,
     "metadata": {},
     "output_type": "execute_result"
    }
   ],
   "source": [
    "sm.nodes.shape"
   ]
  },
  {
   "cell_type": "code",
   "execution_count": 9,
   "metadata": {},
   "outputs": [],
   "source": [
    "# The Voronoi algorithm is too slow for this amount of nodes\n",
    "#sm.footpaths = connectivity.build_footpaths(\n",
    "#    sm.nodes,\n",
    "#    speed=speed_footpaths,\n",
    "#    max_length=threshold_dict['footpaths'],\n",
    "#    n_clusters=1000,\n",
    "#    coordinates_unit=sm.coordinates_unit)"
   ]
  },
  {
   "cell_type": "code",
   "execution_count": 10,
   "metadata": {},
   "outputs": [
    {
     "data": {
      "text/plain": [
       "7122"
      ]
     },
     "execution_count": 10,
     "metadata": {},
     "output_type": "execute_result"
    }
   ],
   "source": [
    "# Generate footpaths between modes\n",
    "sm.footpaths = sm.footpaths.iloc[0:0]\n",
    "for o in ['rail_short_distance']:\n",
    "    for d in [t for t in sm.pt_route_types if t!='bus']:\n",
    "        if o != d:\n",
    "            ntlegs = engine.ntlegs_from_centroids_and_nodes(\n",
    "                sm.nodes.loc[sm.nodes['route_type']==o],\n",
    "                sm.nodes.loc[sm.nodes['route_type']==d],\n",
    "                short_leg_speed=speed_footpaths,\n",
    "                long_leg_speed=speed_non_motorised_modes,\n",
    "                threshold=threshold,\n",
    "                n_neighbors=1,\n",
    "                coordinates_unit=sm.coordinates_unit)\n",
    "            if d == 'air':\n",
    "                ntlegs = ntlegs.loc[ntlegs['distance']<=\n",
    "                                    threshold_dict['footpaths_air']]\n",
    "            else:\n",
    "                ntlegs = ntlegs.loc[ntlegs['distance']<=\n",
    "                                    threshold_dict['footpaths']]\n",
    "            sm.footpaths = sm.footpaths.append(ntlegs)\n",
    "len(sm.footpaths.index)"
   ]
  },
  {
   "cell_type": "code",
   "execution_count": 11,
   "metadata": {},
   "outputs": [
    {
     "data": {
      "text/plain": [
       "(3560, 11)"
      ]
     },
     "execution_count": 11,
     "metadata": {},
     "output_type": "execute_result"
    }
   ],
   "source": [
    "# Number of nodes that overlay each other\n",
    "sm.footpaths.loc[sm.footpaths['distance']==0].shape"
   ]
  },
  {
   "cell_type": "code",
   "execution_count": 12,
   "metadata": {},
   "outputs": [
    {
     "data": {
      "text/plain": [
       "101250"
      ]
     },
     "execution_count": 12,
     "metadata": {},
     "output_type": "execute_result"
    }
   ],
   "source": [
    "# Add bus connections\n",
    "bus_foot = sm.footpaths.iloc[0:0]\n",
    "for d in [t for t in sm.pt_route_types if t!='bus']:\n",
    "    ntlegs = engine.ntlegs_from_centroids_and_nodes(\n",
    "        bus.nodes,\n",
    "        sm.nodes.loc[sm.nodes['route_type']==d],\n",
    "        short_leg_speed=speed_footpaths,\n",
    "        long_leg_speed=speed_non_motorised_modes,\n",
    "        threshold=threshold,\n",
    "        n_neighbors=1,\n",
    "        coordinates_unit=sm.coordinates_unit)\n",
    "    if d == 'air':\n",
    "        ntlegs = ntlegs.loc[ntlegs['distance']<=\n",
    "                            threshold_dict['footpaths_air']]\n",
    "    else:\n",
    "        ntlegs = ntlegs.loc[ntlegs['distance']<=\n",
    "                            threshold_dict['footpaths']]\n",
    "    bus_foot = bus_foot.append(ntlegs)\n",
    "len(bus_foot.index)"
   ]
  },
  {
   "cell_type": "code",
   "execution_count": 13,
   "metadata": {},
   "outputs": [
    {
     "data": {
      "text/plain": [
       "28158"
      ]
     },
     "execution_count": 13,
     "metadata": {},
     "output_type": "execute_result"
    }
   ],
   "source": [
    "# Keep only bus footpaths to the most connected stop(s) in each zone\n",
    "n_links_dict = sm.links[['a', 'b']].stack().value_counts().to_dict()\n",
    "sm.nodes['n_links'] = [n_links_dict[i] if i in n_links_dict.keys() else 0\n",
    "                       for i in list(sm.nodes.index)]\n",
    "sm.nodes['index'] = sm.nodes.index\n",
    "node_list = list(sm.nodes.sort_values('n_links', ascending=False).groupby(\n",
    "    ['route_type', 'FID']).nth([0,1,2])['index'])\n",
    "bus_foot = bus_foot.loc[((bus_foot['direction']=='access')&(bus_foot['b'].isin(node_list))) |\n",
    "                        ((bus_foot['direction']=='eggress')&(bus_foot['a'].isin(node_list)))]\n",
    "len(bus_foot)"
   ]
  },
  {
   "cell_type": "code",
   "execution_count": 14,
   "metadata": {},
   "outputs": [],
   "source": [
    "sm.footpaths = sm.footpaths.append(bus_foot)"
   ]
  },
  {
   "cell_type": "code",
   "execution_count": 15,
   "metadata": {},
   "outputs": [
    {
     "data": {
      "text/plain": [
       "(338, 11)"
      ]
     },
     "execution_count": 15,
     "metadata": {},
     "output_type": "execute_result"
    }
   ],
   "source": [
    "# Generate footpaths between centroids\n",
    "ntlegs = engine.ntlegs_from_centroids_and_nodes(\n",
    "    sm.centroids,\n",
    "    sm.centroids,\n",
    "    short_leg_speed=speed_non_motorised_modes,\n",
    "    long_leg_speed=speed_non_motorised_modes,\n",
    "    threshold=threshold,\n",
    "    n_neighbors=2,\n",
    "    coordinates_unit=sm.coordinates_unit)\n",
    "ntlegs = ntlegs.loc[ntlegs['distance']<=\n",
    "                    threshold_dict['cycling_zones']]\n",
    "ntlegs = ntlegs.loc[ntlegs['distance']!=0]\n",
    "ntlegs.drop_duplicates(['direction', 'distance', 'time'], inplace=True)\n",
    "sm.footpaths = sm.footpaths.append(ntlegs)\n",
    "ntlegs.shape"
   ]
  },
  {
   "cell_type": "code",
   "execution_count": 16,
   "metadata": {},
   "outputs": [],
   "source": [
    "# Reindex\n",
    "sm.footpaths.reset_index(drop=True, inplace=True)\n",
    "sm.footpaths.index = 'foot_' + pd.Series(sm.footpaths.index).astype(str)"
   ]
  },
  {
   "cell_type": "code",
   "execution_count": 17,
   "metadata": {},
   "outputs": [
    {
     "data": {
      "text/html": [
       "<div>\n",
       "<style scoped>\n",
       "    .dataframe tbody tr th:only-of-type {\n",
       "        vertical-align: middle;\n",
       "    }\n",
       "\n",
       "    .dataframe tbody tr th {\n",
       "        vertical-align: top;\n",
       "    }\n",
       "\n",
       "    .dataframe thead th {\n",
       "        text-align: right;\n",
       "    }\n",
       "</style>\n",
       "<table border=\"1\" class=\"dataframe\">\n",
       "  <thead>\n",
       "    <tr style=\"text-align: right;\">\n",
       "      <th></th>\n",
       "      <th>a</th>\n",
       "      <th>b</th>\n",
       "      <th>direction</th>\n",
       "      <th>distance</th>\n",
       "      <th>geometry</th>\n",
       "      <th>long_leg_speed</th>\n",
       "      <th>rank</th>\n",
       "      <th>short_leg_speed</th>\n",
       "      <th>speed</th>\n",
       "      <th>speed_factor</th>\n",
       "      <th>time</th>\n",
       "    </tr>\n",
       "  </thead>\n",
       "  <tbody>\n",
       "    <tr>\n",
       "      <th>foot_6791</th>\n",
       "      <td>coach_node_FLIXBUS:12</td>\n",
       "      <td>rail_short_node_13534</td>\n",
       "      <td>eggress</td>\n",
       "      <td>317.660838</td>\n",
       "      <td>LINESTRING (8.66379 50.10714, 8.66258 50.10439)</td>\n",
       "      <td>17.0</td>\n",
       "      <td>0.0</td>\n",
       "      <td>5.0</td>\n",
       "      <td>5.0</td>\n",
       "      <td>0.797071</td>\n",
       "      <td>228.715803</td>\n",
       "    </tr>\n",
       "    <tr>\n",
       "      <th>foot_33507</th>\n",
       "      <td>coach_node_FLIXBUS:12</td>\n",
       "      <td>bus_n_138539</td>\n",
       "      <td>eggress</td>\n",
       "      <td>403.395184</td>\n",
       "      <td>LINESTRING (8.65727 50.10313, 8.66258 50.10439)</td>\n",
       "      <td>17.0</td>\n",
       "      <td>0.0</td>\n",
       "      <td>5.0</td>\n",
       "      <td>5.0</td>\n",
       "      <td>0.898215</td>\n",
       "      <td>290.444533</td>\n",
       "    </tr>\n",
       "    <tr>\n",
       "      <th>foot_9779</th>\n",
       "      <td>bus_n_139178</td>\n",
       "      <td>rail_long_node_1235</td>\n",
       "      <td>access</td>\n",
       "      <td>76.065154</td>\n",
       "      <td>LINESTRING (8.14016 49.35012, 8.14076 49.34955)</td>\n",
       "      <td>17.0</td>\n",
       "      <td>0.0</td>\n",
       "      <td>5.0</td>\n",
       "      <td>5.0</td>\n",
       "      <td>0.390039</td>\n",
       "      <td>54.766911</td>\n",
       "    </tr>\n",
       "  </tbody>\n",
       "</table>\n",
       "</div>"
      ],
      "text/plain": [
       "                                a                      b direction  \\\n",
       "foot_6791   coach_node_FLIXBUS:12  rail_short_node_13534   eggress   \n",
       "foot_33507  coach_node_FLIXBUS:12           bus_n_138539   eggress   \n",
       "foot_9779            bus_n_139178    rail_long_node_1235    access   \n",
       "\n",
       "              distance                                         geometry  \\\n",
       "foot_6791   317.660838  LINESTRING (8.66379 50.10714, 8.66258 50.10439)   \n",
       "foot_33507  403.395184  LINESTRING (8.65727 50.10313, 8.66258 50.10439)   \n",
       "foot_9779    76.065154  LINESTRING (8.14016 49.35012, 8.14076 49.34955)   \n",
       "\n",
       "            long_leg_speed  rank  short_leg_speed  speed  speed_factor  \\\n",
       "foot_6791             17.0   0.0              5.0    5.0      0.797071   \n",
       "foot_33507            17.0   0.0              5.0    5.0      0.898215   \n",
       "foot_9779             17.0   0.0              5.0    5.0      0.390039   \n",
       "\n",
       "                  time  \n",
       "foot_6791   228.715803  \n",
       "foot_33507  290.444533  \n",
       "foot_9779    54.766911  "
      ]
     },
     "execution_count": 17,
     "metadata": {},
     "output_type": "execute_result"
    }
   ],
   "source": [
    "sm.footpaths.sample(n=3)"
   ]
  },
  {
   "cell_type": "markdown",
   "metadata": {},
   "source": [
    "## Add access and egress links from zone centroids"
   ]
  },
  {
   "cell_type": "code",
   "execution_count": 18,
   "metadata": {},
   "outputs": [
    {
     "data": {
      "text/plain": [
       "<AxesSubplot:>"
      ]
     },
     "execution_count": 18,
     "metadata": {},
     "output_type": "execute_result"
    },
    {
     "data": {
      "image/png": "[encoded data removed]",
      "text/plain": [
       "<Figure size 432x288 with 1 Axes>"
      ]
     },
     "metadata": {
      "needs_background": "light"
     },
     "output_type": "display_data"
    }
   ],
   "source": [
    "# How many links does every node have?\n",
    "sm.links[['a', 'b']].stack().value_counts().hist(bins=100, log=True)"
   ]
  },
  {
   "cell_type": "code",
   "execution_count": 19,
   "metadata": {},
   "outputs": [
    {
     "data": {
      "text/plain": [
       "18238"
      ]
     },
     "execution_count": 19,
     "metadata": {},
     "output_type": "execute_result"
    }
   ],
   "source": [
    "# Compute road access and egress links\n",
    "sm.zone_to_road = engine.ntlegs_from_centroids_and_nodes(\n",
    "    sm.centroids,\n",
    "    road.road_nodes,\n",
    "    short_leg_speed=speed_footpaths,\n",
    "    long_leg_speed=speed_non_motorised_modes,\n",
    "    threshold=threshold,\n",
    "    n_neighbors=20,\n",
    "    coordinates_unit=sm.coordinates_unit)\n",
    "sm.zone_to_road = sm.zone_to_road.loc[\n",
    "    sm.zone_to_road['distance']<=threshold_dict['road']]\n",
    "len(sm.zone_to_road.index)"
   ]
  },
  {
   "cell_type": "code",
   "execution_count": 20,
   "metadata": {},
   "outputs": [
    {
     "data": {
      "text/plain": [
       "932"
      ]
     },
     "execution_count": 20,
     "metadata": {},
     "output_type": "execute_result"
    }
   ],
   "source": [
    "sm.zone_to_road = filter_connectors(sm.zone_to_road, keep=1,\n",
    "                                    length_weight=None,\n",
    "                                    dist_centr_weight=1)\n",
    "len(sm.zone_to_road.index)"
   ]
  },
  {
   "cell_type": "code",
   "execution_count": 21,
   "metadata": {},
   "outputs": [
    {
     "data": {
      "text/html": [
       "<div>\n",
       "<style scoped>\n",
       "    .dataframe tbody tr th:only-of-type {\n",
       "        vertical-align: middle;\n",
       "    }\n",
       "\n",
       "    .dataframe tbody tr th {\n",
       "        vertical-align: top;\n",
       "    }\n",
       "\n",
       "    .dataframe thead th {\n",
       "        text-align: right;\n",
       "    }\n",
       "</style>\n",
       "<table border=\"1\" class=\"dataframe\">\n",
       "  <thead>\n",
       "    <tr style=\"text-align: right;\">\n",
       "      <th></th>\n",
       "      <th>CNTR_CODE</th>\n",
       "      <th>NUTS_NAME</th>\n",
       "      <th>LEVL_CODE</th>\n",
       "      <th>FID</th>\n",
       "      <th>NUTS_ID</th>\n",
       "      <th>population</th>\n",
       "      <th>area</th>\n",
       "      <th>urbanisation</th>\n",
       "      <th>lau_id</th>\n",
       "      <th>geometry</th>\n",
       "    </tr>\n",
       "    <tr>\n",
       "      <th>index</th>\n",
       "      <th></th>\n",
       "      <th></th>\n",
       "      <th></th>\n",
       "      <th></th>\n",
       "      <th></th>\n",
       "      <th></th>\n",
       "      <th></th>\n",
       "      <th></th>\n",
       "      <th></th>\n",
       "      <th></th>\n",
       "    </tr>\n",
       "  </thead>\n",
       "  <tbody>\n",
       "    <tr>\n",
       "      <th>DEF07_2</th>\n",
       "      <td>DE</td>\n",
       "      <td>Nordfriesland 2</td>\n",
       "      <td>3</td>\n",
       "      <td>DEF07_2</td>\n",
       "      <td>DEF07</td>\n",
       "      <td>18317</td>\n",
       "      <td>100.145861</td>\n",
       "      <td>3.0</td>\n",
       "      <td>1054</td>\n",
       "      <td>POLYGON ((8.57200 54.88428, 8.56424 54.88393, ...</td>\n",
       "    </tr>\n",
       "  </tbody>\n",
       "</table>\n",
       "</div>"
      ],
      "text/plain": [
       "        CNTR_CODE        NUTS_NAME  LEVL_CODE      FID NUTS_ID  population  \\\n",
       "index                                                                        \n",
       "DEF07_2        DE  Nordfriesland 2          3  DEF07_2   DEF07       18317   \n",
       "\n",
       "               area  urbanisation lau_id  \\\n",
       "index                                      \n",
       "DEF07_2  100.145861           3.0   1054   \n",
       "\n",
       "                                                  geometry  \n",
       "index                                                       \n",
       "DEF07_2  POLYGON ((8.57200 54.88428, 8.56424 54.88393, ...  "
      ]
     },
     "execution_count": 21,
     "metadata": {},
     "output_type": "execute_result"
    }
   ],
   "source": [
    "sm.zones.loc[~sm.zones['FID'].isin(list(sm.zone_to_road['a']))]"
   ]
  },
  {
   "cell_type": "code",
   "execution_count": 22,
   "metadata": {},
   "outputs": [
    {
     "data": {
      "text/plain": [
       "16072"
      ]
     },
     "execution_count": 22,
     "metadata": {},
     "output_type": "execute_result"
    }
   ],
   "source": [
    "# Compute road - PT links\n",
    "sm.road_to_transit = engine.ntlegs_from_centroids_and_nodes(\n",
    "    sm.nodes,\n",
    "    road.road_nodes,\n",
    "    short_leg_speed=speed_footpaths,\n",
    "    long_leg_speed=speed_non_motorised_modes,\n",
    "    threshold=threshold,\n",
    "    n_neighbors=1,\n",
    "    coordinates_unit=sm.coordinates_unit)\n",
    "sm.road_to_transit = sm.road_to_transit.loc[\n",
    "    sm.road_to_transit['distance']<=threshold_dict['road_pt']]\n",
    "len(sm.road_to_transit.index)"
   ]
  },
  {
   "cell_type": "code",
   "execution_count": 23,
   "metadata": {},
   "outputs": [
    {
     "data": {
      "text/plain": [
       "['rail_long_distance', 'rail_short_distance', 'coach', 'air']"
      ]
     },
     "execution_count": 23,
     "metadata": {},
     "output_type": "execute_result"
    }
   ],
   "source": [
    "# Every route type is saved once in this attribute\n",
    "assert len(sm.pt_route_types) == len(sm.links['route_type'].unique())\n",
    "sm.pt_route_types"
   ]
  },
  {
   "cell_type": "code",
   "execution_count": 24,
   "metadata": {},
   "outputs": [],
   "source": [
    "# How many links does every node have?\n",
    "n_links_dict = sm.links[['a', 'b']].append(bus.links[['a', 'b']]).append(\n",
    "    sm.footpaths[['a', 'b']]).stack().value_counts().to_dict()"
   ]
  },
  {
   "cell_type": "code",
   "execution_count": 25,
   "metadata": {},
   "outputs": [
    {
     "data": {
      "text/plain": [
       "6688"
      ]
     },
     "execution_count": 25,
     "metadata": {},
     "output_type": "execute_result"
    }
   ],
   "source": [
    "# Compute PT access and egress links by route type\n",
    "sm.zone_to_transit = sm.zone_to_transit.iloc[0:0]\n",
    "for t in sm.pt_route_types:\n",
    "    ntlegs = engine.ntlegs_from_centroids_and_nodes(\n",
    "        sm.centroids,\n",
    "        sm.nodes.loc[sm.nodes['route_type']==t],\n",
    "        short_leg_speed=speed_footpaths,\n",
    "        long_leg_speed=speed_car, # Take the car for longer trips\n",
    "        threshold=threshold,\n",
    "        n_neighbors=5,\n",
    "        coordinates_unit=sm.coordinates_unit)\n",
    "    # Cut off long links\n",
    "    ntlegs = ntlegs.loc[ntlegs['distance']<=\n",
    "                        threshold_dict['pt']]\n",
    "    ntlegs['route_type'] = t\n",
    "    sm.zone_to_transit = sm.zone_to_transit.append(filter_connectors(\n",
    "        ntlegs, keep=2, length_weight=1, dist_centr_weight=2,\n",
    "        conn_weight=.4, conn_dict=n_links_dict)).append(filter_connectors(\n",
    "            ntlegs, keep=2, length_weight=1, conn_weight=1, conn_dict=n_links_dict))\n",
    "sm.zone_to_transit.reset_index(drop=True, inplace=True)\n",
    "len(sm.zone_to_transit.index)"
   ]
  },
  {
   "cell_type": "code",
   "execution_count": 26,
   "metadata": {},
   "outputs": [
    {
     "data": {
      "text/plain": [
       "4656"
      ]
     },
     "execution_count": 26,
     "metadata": {},
     "output_type": "execute_result"
    }
   ],
   "source": [
    "# Add bus connections\n",
    "ntlegs = engine.ntlegs_from_centroids_and_nodes(\n",
    "    sm.centroids,\n",
    "    bus.nodes,\n",
    "    short_leg_speed=speed_footpaths,\n",
    "    long_leg_speed=speed_car, # Take the car for longer trips\n",
    "    threshold=threshold,\n",
    "    n_neighbors=5, # Generate a bunch and clean later\n",
    "    coordinates_unit=sm.coordinates_unit)\n",
    "# Cut off long links\n",
    "ntlegs = ntlegs.loc[ntlegs['distance']<=\n",
    "                    threshold_dict['pt']]\n",
    "ntlegs['route_type'] = 'bus'\n",
    "len(ntlegs.index)"
   ]
  },
  {
   "cell_type": "code",
   "execution_count": 27,
   "metadata": {},
   "outputs": [
    {
     "data": {
      "text/plain": [
       "8556"
      ]
     },
     "execution_count": 27,
     "metadata": {},
     "output_type": "execute_result"
    }
   ],
   "source": [
    "sm.zone_to_transit = sm.zone_to_transit.append(filter_connectors(\n",
    "    ntlegs, keep=1, length_weight=1, dist_centr_weight=2,\n",
    "    conn_weight=.4, conn_dict=n_links_dict)).append(filter_connectors(\n",
    "        ntlegs, keep=1, length_weight=1, conn_weight=1, conn_dict=n_links_dict))\n",
    "sm.zone_to_transit.reset_index(drop=True, inplace=True)\n",
    "len(sm.zone_to_transit.index)"
   ]
  },
  {
   "cell_type": "code",
   "execution_count": 28,
   "metadata": {},
   "outputs": [
    {
     "data": {
      "text/plain": [
       "5374"
      ]
     },
     "execution_count": 28,
     "metadata": {},
     "output_type": "execute_result"
    }
   ],
   "source": [
    "sm.zone_to_transit.drop_duplicates(['a', 'b', 'direction'], inplace=True)\n",
    "sm.zone_to_transit.reset_index(drop=True, inplace=True)\n",
    "len(sm.zone_to_transit.index)"
   ]
  },
  {
   "cell_type": "code",
   "execution_count": 29,
   "metadata": {},
   "outputs": [
    {
     "data": {
      "text/plain": [
       "route_type           direction\n",
       "air                  access         27\n",
       "                     eggress        27\n",
       "bus                  access        788\n",
       "                     eggress       549\n",
       "coach                access        363\n",
       "                     eggress       353\n",
       "rail_long_distance   access        450\n",
       "                     eggress       436\n",
       "rail_short_distance  access       1272\n",
       "                     eggress      1109\n",
       "Name: a, dtype: int64"
      ]
     },
     "execution_count": 29,
     "metadata": {},
     "output_type": "execute_result"
    }
   ],
   "source": [
    "# Number of legs by route type\n",
    "sm.zone_to_transit.groupby(['route_type', 'direction'])['a'].count()"
   ]
  },
  {
   "cell_type": "code",
   "execution_count": 30,
   "metadata": {},
   "outputs": [],
   "source": [
    "# Every zone must have an access and an egress link to PT\n",
    "#sm.zones.loc[sm.zones['FID'].isin(list(sm.zone_to_transit['a']))==False]\n",
    "assert sm.zones['FID'].isin(list(sm.zone_to_transit['a'])).all()\n",
    "assert sm.zones['FID'].isin(list(sm.zone_to_transit['b'])).all()"
   ]
  },
  {
   "cell_type": "markdown",
   "metadata": {},
   "source": [
    "### Parametrise access and egress links"
   ]
  },
  {
   "cell_type": "code",
   "execution_count": 31,
   "metadata": {},
   "outputs": [
    {
     "data": {
      "text/html": [
       "<div>\n",
       "<style scoped>\n",
       "    .dataframe tbody tr th:only-of-type {\n",
       "        vertical-align: middle;\n",
       "    }\n",
       "\n",
       "    .dataframe tbody tr th {\n",
       "        vertical-align: top;\n",
       "    }\n",
       "\n",
       "    .dataframe thead th {\n",
       "        text-align: right;\n",
       "    }\n",
       "</style>\n",
       "<table border=\"1\" class=\"dataframe\">\n",
       "  <thead>\n",
       "    <tr style=\"text-align: right;\">\n",
       "      <th></th>\n",
       "      <th>a</th>\n",
       "      <th>b</th>\n",
       "      <th>direction</th>\n",
       "      <th>distance</th>\n",
       "      <th>geometry</th>\n",
       "      <th>rank</th>\n",
       "      <th>speed_factor</th>\n",
       "      <th>short_leg_speed</th>\n",
       "      <th>long_leg_speed</th>\n",
       "      <th>speed</th>\n",
       "      <th>time</th>\n",
       "    </tr>\n",
       "  </thead>\n",
       "  <tbody>\n",
       "    <tr>\n",
       "      <th>17661</th>\n",
       "      <td>268982470</td>\n",
       "      <td>rail_long_node_815</td>\n",
       "      <td>eggress</td>\n",
       "      <td>0</td>\n",
       "      <td>LINESTRING (6.851588 51.474876, 6.8523855 51.4...</td>\n",
       "      <td>0</td>\n",
       "      <td>0.620690</td>\n",
       "      <td>5</td>\n",
       "      <td>17</td>\n",
       "      <td>5.0</td>\n",
       "      <td>300</td>\n",
       "    </tr>\n",
       "    <tr>\n",
       "      <th>26907</th>\n",
       "      <td>63567405</td>\n",
       "      <td>rail_short_node_547</td>\n",
       "      <td>eggress</td>\n",
       "      <td>0</td>\n",
       "      <td>LINESTRING (10.025285 47.554207, 10.0263427 47...</td>\n",
       "      <td>0</td>\n",
       "      <td>0.732375</td>\n",
       "      <td>5</td>\n",
       "      <td>17</td>\n",
       "      <td>5.0</td>\n",
       "      <td>300</td>\n",
       "    </tr>\n",
       "  </tbody>\n",
       "</table>\n",
       "</div>"
      ],
      "text/plain": [
       "               a                    b direction  distance  \\\n",
       "17661  268982470   rail_long_node_815   eggress         0   \n",
       "26907   63567405  rail_short_node_547   eggress         0   \n",
       "\n",
       "                                                geometry  rank  speed_factor  \\\n",
       "17661  LINESTRING (6.851588 51.474876, 6.8523855 51.4...     0      0.620690   \n",
       "26907  LINESTRING (10.025285 47.554207, 10.0263427 47...     0      0.732375   \n",
       "\n",
       "       short_leg_speed  long_leg_speed  speed  time  \n",
       "17661                5              17    5.0   300  \n",
       "26907                5              17    5.0   300  "
      ]
     },
     "execution_count": 31,
     "metadata": {},
     "output_type": "execute_result"
    }
   ],
   "source": [
    "# Road - PT connectors\n",
    "sm.road_to_transit['distance'] = 0\n",
    "sm.road_to_transit['time'] = 5*60 # in seconds\n",
    "sm.road_to_transit.sample(n=2)"
   ]
  },
  {
   "cell_type": "code",
   "execution_count": 32,
   "metadata": {},
   "outputs": [
    {
     "data": {
      "text/html": [
       "<div>\n",
       "<style scoped>\n",
       "    .dataframe tbody tr th:only-of-type {\n",
       "        vertical-align: middle;\n",
       "    }\n",
       "\n",
       "    .dataframe tbody tr th {\n",
       "        vertical-align: top;\n",
       "    }\n",
       "\n",
       "    .dataframe thead th {\n",
       "        text-align: right;\n",
       "    }\n",
       "</style>\n",
       "<table border=\"1\" class=\"dataframe\">\n",
       "  <thead>\n",
       "    <tr style=\"text-align: right;\">\n",
       "      <th></th>\n",
       "      <th>a</th>\n",
       "      <th>b</th>\n",
       "      <th>direction</th>\n",
       "      <th>distance</th>\n",
       "      <th>geometry</th>\n",
       "      <th>rank</th>\n",
       "      <th>speed_factor</th>\n",
       "      <th>short_leg_speed</th>\n",
       "      <th>long_leg_speed</th>\n",
       "      <th>speed</th>\n",
       "      <th>time</th>\n",
       "    </tr>\n",
       "  </thead>\n",
       "  <tbody>\n",
       "    <tr>\n",
       "      <th>320</th>\n",
       "      <td>DEA36_1</td>\n",
       "      <td>2084165418</td>\n",
       "      <td>access</td>\n",
       "      <td>0</td>\n",
       "      <td>LINESTRING (7.055043087763056 51.7010932587441...</td>\n",
       "      <td>7</td>\n",
       "      <td>2.367960</td>\n",
       "      <td>5</td>\n",
       "      <td>17</td>\n",
       "      <td>11.839799</td>\n",
       "      <td>0</td>\n",
       "    </tr>\n",
       "    <tr>\n",
       "      <th>409</th>\n",
       "      <td>DEA23</td>\n",
       "      <td>743306224</td>\n",
       "      <td>access</td>\n",
       "      <td>0</td>\n",
       "      <td>LINESTRING (6.973153341243033 50.9457064599987...</td>\n",
       "      <td>3</td>\n",
       "      <td>1.187027</td>\n",
       "      <td>5</td>\n",
       "      <td>17</td>\n",
       "      <td>5.935135</td>\n",
       "      <td>0</td>\n",
       "    </tr>\n",
       "  </tbody>\n",
       "</table>\n",
       "</div>"
      ],
      "text/plain": [
       "           a           b direction  distance  \\\n",
       "320  DEA36_1  2084165418    access         0   \n",
       "409    DEA23   743306224    access         0   \n",
       "\n",
       "                                              geometry  rank  speed_factor  \\\n",
       "320  LINESTRING (7.055043087763056 51.7010932587441...     7      2.367960   \n",
       "409  LINESTRING (6.973153341243033 50.9457064599987...     3      1.187027   \n",
       "\n",
       "     short_leg_speed  long_leg_speed      speed  time  \n",
       "320                5              17  11.839799     0  \n",
       "409                5              17   5.935135     0  "
      ]
     },
     "execution_count": 32,
     "metadata": {},
     "output_type": "execute_result"
    }
   ],
   "source": [
    "# Road - centroid connectors\n",
    "sm.zone_to_road['distance'] = 0\n",
    "sm.zone_to_road['time'] = 0\n",
    "sm.zone_to_road.sample(n=2)"
   ]
  },
  {
   "cell_type": "code",
   "execution_count": 33,
   "metadata": {},
   "outputs": [],
   "source": [
    "# Load distances to PT stops from census data\n",
    "clusters = pd.read_csv('../input/spatial_census_refined_FID.csv')\n",
    "clusters.set_index('index', inplace=True)\n",
    "dist_col = 'weighted_dist'\n",
    "mean_dist_col = 'mean_weighted_dist'\n",
    "cent_col = 'cluster_center'\n",
    "#pop_col = 'population'\n",
    "node_col = 'node_id'"
   ]
  },
  {
   "cell_type": "code",
   "execution_count": 34,
   "metadata": {},
   "outputs": [],
   "source": [
    "clusters['NUTS_ID'] = clusters['FID'].apply(lambda s: str(s).split('_')[0])"
   ]
  },
  {
   "cell_type": "code",
   "execution_count": 35,
   "metadata": {},
   "outputs": [
    {
     "data": {
      "text/html": [
       "<div>\n",
       "<style scoped>\n",
       "    .dataframe tbody tr th:only-of-type {\n",
       "        vertical-align: middle;\n",
       "    }\n",
       "\n",
       "    .dataframe tbody tr th {\n",
       "        vertical-align: top;\n",
       "    }\n",
       "\n",
       "    .dataframe thead th {\n",
       "        text-align: right;\n",
       "    }\n",
       "</style>\n",
       "<table border=\"1\" class=\"dataframe\">\n",
       "  <thead>\n",
       "    <tr style=\"text-align: right;\">\n",
       "      <th></th>\n",
       "      <th></th>\n",
       "      <th>mean_weighted_dist</th>\n",
       "    </tr>\n",
       "    <tr>\n",
       "      <th>NUTS_ID</th>\n",
       "      <th>route_type</th>\n",
       "      <th></th>\n",
       "    </tr>\n",
       "  </thead>\n",
       "  <tbody>\n",
       "    <tr>\n",
       "      <th rowspan=\"4\" valign=\"top\">DE111</th>\n",
       "      <th>bus</th>\n",
       "      <td>7534.073525</td>\n",
       "    </tr>\n",
       "    <tr>\n",
       "      <th>coach</th>\n",
       "      <td>8431.291442</td>\n",
       "    </tr>\n",
       "    <tr>\n",
       "      <th>rail_long_distance</th>\n",
       "      <td>10573.888593</td>\n",
       "    </tr>\n",
       "    <tr>\n",
       "      <th>rail_short_distance</th>\n",
       "      <td>15243.095365</td>\n",
       "    </tr>\n",
       "    <tr>\n",
       "      <th>DE112</th>\n",
       "      <th>bus</th>\n",
       "      <td>26148.499516</td>\n",
       "    </tr>\n",
       "    <tr>\n",
       "      <th>...</th>\n",
       "      <th>...</th>\n",
       "      <td>...</td>\n",
       "    </tr>\n",
       "    <tr>\n",
       "      <th rowspan=\"3\" valign=\"top\">DEG0N</th>\n",
       "      <th>coach</th>\n",
       "      <td>5397.254430</td>\n",
       "    </tr>\n",
       "    <tr>\n",
       "      <th>rail_long_distance</th>\n",
       "      <td>4194.575713</td>\n",
       "    </tr>\n",
       "    <tr>\n",
       "      <th>rail_short_distance</th>\n",
       "      <td>5539.621888</td>\n",
       "    </tr>\n",
       "    <tr>\n",
       "      <th rowspan=\"2\" valign=\"top\">DEG0P</th>\n",
       "      <th>bus</th>\n",
       "      <td>10844.458205</td>\n",
       "    </tr>\n",
       "    <tr>\n",
       "      <th>rail_short_distance</th>\n",
       "      <td>23040.377472</td>\n",
       "    </tr>\n",
       "  </tbody>\n",
       "</table>\n",
       "<p>1248 rows × 1 columns</p>\n",
       "</div>"
      ],
      "text/plain": [
       "                             mean_weighted_dist\n",
       "NUTS_ID route_type                             \n",
       "DE111   bus                         7534.073525\n",
       "        coach                       8431.291442\n",
       "        rail_long_distance         10573.888593\n",
       "        rail_short_distance        15243.095365\n",
       "DE112   bus                        26148.499516\n",
       "...                                         ...\n",
       "DEG0N   coach                       5397.254430\n",
       "        rail_long_distance          4194.575713\n",
       "        rail_short_distance         5539.621888\n",
       "DEG0P   bus                        10844.458205\n",
       "        rail_short_distance        23040.377472\n",
       "\n",
       "[1248 rows x 1 columns]"
      ]
     },
     "execution_count": 35,
     "metadata": {},
     "output_type": "execute_result"
    }
   ],
   "source": [
    "# Create a zone - distance - type dict\n",
    "# Take the mean weighted distance, assume population shares are about equal\n",
    "zone_type_dist = clusters.groupby(['NUTS_ID', 'route_type']).agg(\n",
    "    {mean_dist_col: 'mean'})#.to_dict()[mean_dist_col]\n",
    "zone_type_dist"
   ]
  },
  {
   "cell_type": "code",
   "execution_count": 36,
   "metadata": {},
   "outputs": [],
   "source": [
    "# Split legs into access and egress\n",
    "access = sm.zone_to_transit.loc[sm.zone_to_transit['direction']=='access'].copy()\n",
    "egress = sm.zone_to_transit.loc[sm.zone_to_transit['direction']=='eggress'].copy()# name in quetzal"
   ]
  },
  {
   "cell_type": "code",
   "execution_count": 37,
   "metadata": {},
   "outputs": [],
   "source": [
    "# Alter the distance\n",
    "route_types = clusters['route_type'].unique()\n",
    "for t in route_types:\n",
    "    for zone in list(sm.zones['NUTS_ID']):\n",
    "        try:\n",
    "            access.loc[(access['route_type']==t) & (access['a']==zone),\n",
    "                       'distance'] = zone_type_dist.loc[(zone, t), mean_dist_col]\n",
    "        except KeyError:\n",
    "            # There is no such station in this zone\n",
    "            access.loc[(access['route_type']==t) & (access['a']==zone),\n",
    "                       'distance'] = np.nan\n",
    "for t in route_types:\n",
    "    for zone in list(sm.zones['NUTS_ID']):\n",
    "        try:\n",
    "            egress.loc[(egress['route_type']==t) & (egress['b']==zone),\n",
    "                       'distance'] = zone_type_dist.loc[(zone, t), mean_dist_col]\n",
    "        except KeyError:\n",
    "            # There is no such station in this zone\n",
    "            egress.loc[(egress['route_type']==t) & (egress['b']==zone),\n",
    "                       'distance'] = np.nan"
   ]
  },
  {
   "cell_type": "code",
   "execution_count": 38,
   "metadata": {},
   "outputs": [],
   "source": [
    "sm.zone_to_transit = access.append(egress)"
   ]
  },
  {
   "cell_type": "code",
   "execution_count": 39,
   "metadata": {},
   "outputs": [
    {
     "data": {
      "text/plain": [
       "112"
      ]
     },
     "execution_count": 39,
     "metadata": {},
     "output_type": "execute_result"
    }
   ],
   "source": [
    "len(sm.zone_to_transit.loc[sm.zone_to_transit['distance'].isna()])"
   ]
  },
  {
   "cell_type": "code",
   "execution_count": 40,
   "metadata": {},
   "outputs": [
    {
     "data": {
      "text/plain": [
       "<AxesSubplot:>"
      ]
     },
     "execution_count": 40,
     "metadata": {},
     "output_type": "execute_result"
    },
    {
     "data": {
      "image/png": "[encoded data removed]",
      "text/plain": [
       "<Figure size 432x288 with 1 Axes>"
      ]
     },
     "metadata": {
      "needs_background": "light"
     },
     "output_type": "display_data"
    }
   ],
   "source": [
    "sm.zone_to_transit['speed'].hist(bins=20)"
   ]
  },
  {
   "cell_type": "code",
   "execution_count": 41,
   "metadata": {},
   "outputs": [],
   "source": [
    "# Correct the speed by linear interpolation\n",
    "sm.zone_to_transit['speed'] = sm.zone_to_transit['distance'].apply(\n",
    "    lambda d: (d-threshold)/1000 * \\\n",
    "        ((speed_car-speed_footpaths) / ((threshold_dict['pt']-threshold)/1000))\n",
    ").clip(lower=speed_footpaths, upper=speed_car)"
   ]
  },
  {
   "cell_type": "code",
   "execution_count": 42,
   "metadata": {},
   "outputs": [],
   "source": [
    "# Alter time of PT legs\n",
    "sm.zone_to_transit['time'] = sm.zone_to_transit['distance'] / \\\n",
    "    sm.zone_to_transit['speed'] * 3.6 # in s\n",
    "sm.zone_to_transit['time'].replace({np.nan: threshold_dict['pt']/speed_car}, inplace=True)"
   ]
  },
  {
   "cell_type": "code",
   "execution_count": 43,
   "metadata": {},
   "outputs": [],
   "source": [
    "sm.zone_to_transit.loc[sm.zone_to_transit['distance'].isna(), 'distance'] = 0"
   ]
  },
  {
   "cell_type": "code",
   "execution_count": 44,
   "metadata": {},
   "outputs": [],
   "source": [
    "sm.zone_to_transit.loc[sm.zone_to_transit['speed'].isna(), 'speed'] = 0"
   ]
  },
  {
   "cell_type": "code",
   "execution_count": 45,
   "metadata": {},
   "outputs": [
    {
     "name": "stdout",
     "output_type": "stream",
     "text": [
      "5374\n"
     ]
    },
    {
     "data": {
      "text/html": [
       "<div>\n",
       "<style scoped>\n",
       "    .dataframe tbody tr th:only-of-type {\n",
       "        vertical-align: middle;\n",
       "    }\n",
       "\n",
       "    .dataframe tbody tr th {\n",
       "        vertical-align: top;\n",
       "    }\n",
       "\n",
       "    .dataframe thead th {\n",
       "        text-align: right;\n",
       "    }\n",
       "</style>\n",
       "<table border=\"1\" class=\"dataframe\">\n",
       "  <thead>\n",
       "    <tr style=\"text-align: right;\">\n",
       "      <th></th>\n",
       "      <th>a</th>\n",
       "      <th>b</th>\n",
       "      <th>direction</th>\n",
       "      <th>distance</th>\n",
       "      <th>geometry</th>\n",
       "      <th>long_leg_speed</th>\n",
       "      <th>rank</th>\n",
       "      <th>route_type</th>\n",
       "      <th>short_leg_speed</th>\n",
       "      <th>speed</th>\n",
       "      <th>speed_factor</th>\n",
       "      <th>time</th>\n",
       "    </tr>\n",
       "  </thead>\n",
       "  <tbody>\n",
       "    <tr>\n",
       "      <th>4496</th>\n",
       "      <td>DE71C</td>\n",
       "      <td>bus_n_327704</td>\n",
       "      <td>access</td>\n",
       "      <td>20364.128034</td>\n",
       "      <td>LINESTRING (8.81146 50.02168, 8.80368 50.02111)</td>\n",
       "      <td>50.0</td>\n",
       "      <td>0.0</td>\n",
       "      <td>bus</td>\n",
       "      <td>5.0</td>\n",
       "      <td>50.0</td>\n",
       "      <td>1.057838</td>\n",
       "      <td>1466.217218</td>\n",
       "    </tr>\n",
       "  </tbody>\n",
       "</table>\n",
       "</div>"
      ],
      "text/plain": [
       "          a             b direction      distance  \\\n",
       "4496  DE71C  bus_n_327704    access  20364.128034   \n",
       "\n",
       "                                             geometry  long_leg_speed  rank  \\\n",
       "4496  LINESTRING (8.81146 50.02168, 8.80368 50.02111)            50.0   0.0   \n",
       "\n",
       "     route_type  short_leg_speed  speed  speed_factor         time  \n",
       "4496        bus              5.0   50.0      1.057838  1466.217218  "
      ]
     },
     "execution_count": 45,
     "metadata": {},
     "output_type": "execute_result"
    }
   ],
   "source": [
    "print(len(sm.zone_to_transit))\n",
    "sm.zone_to_transit.sample()"
   ]
  },
  {
   "cell_type": "code",
   "execution_count": 46,
   "metadata": {},
   "outputs": [
    {
     "data": {
      "text/plain": [
       "<AxesSubplot:>"
      ]
     },
     "execution_count": 46,
     "metadata": {},
     "output_type": "execute_result"
    },
    {
     "data": {
      "image/png": "[encoded data removed]",
      "text/plain": [
       "<Figure size 432x288 with 1 Axes>"
      ]
     },
     "metadata": {
      "needs_background": "light"
     },
     "output_type": "display_data"
    }
   ],
   "source": [
    "sm.zone_to_transit['time'].hist(bins=100)"
   ]
  },
  {
   "cell_type": "code",
   "execution_count": 47,
   "metadata": {},
   "outputs": [
    {
     "data": {
      "text/plain": [
       "5374"
      ]
     },
     "execution_count": 47,
     "metadata": {},
     "output_type": "execute_result"
    }
   ],
   "source": [
    "# Ditch all legs which take too long\n",
    "sm.zone_to_transit = sm.zone_to_transit.loc[sm.zone_to_transit['time']<3600]\n",
    "len(sm.zone_to_transit)"
   ]
  },
  {
   "cell_type": "code",
   "execution_count": 48,
   "metadata": {},
   "outputs": [],
   "source": [
    "# Every zone must have an access and an egress link to PT\n",
    "assert sm.zones['FID'].isin(list(sm.zone_to_transit['a'])).all()\n",
    "assert sm.zones['FID'].isin(list(sm.zone_to_transit['b'])).all()"
   ]
  },
  {
   "cell_type": "code",
   "execution_count": 49,
   "metadata": {},
   "outputs": [],
   "source": [
    "# Correct link IDs in zone_to_transit for rail modes\n",
    "type_dict = {'rail_short_distance': 'rail_short', 'rail_long_distance': 'rail_long'}\n",
    "sm.zone_to_transit['route_type'].replace(type_dict, inplace=True)\n",
    "sm.zone_to_transit['a'] = sm.zone_to_transit['a'].apply(lambda n: n.replace('rail_long_node', 'r_l_n'))\n",
    "sm.zone_to_transit['a'] = sm.zone_to_transit['a'].apply(lambda n: n.replace('rail_short_node', 'r_s_n'))\n",
    "sm.zone_to_transit['b'] = sm.zone_to_transit['b'].apply(lambda n: n.replace('rail_long_node', 'r_l_n'))\n",
    "sm.zone_to_transit['b'] = sm.zone_to_transit['b'].apply(lambda n: n.replace('rail_short_node', 'r_s_n'))"
   ]
  },
  {
   "cell_type": "markdown",
   "metadata": {},
   "source": [
    "## Save model"
   ]
  },
  {
   "cell_type": "code",
   "execution_count": 50,
   "metadata": {},
   "outputs": [],
   "source": [
    "# Drop unneccessary columns\n",
    "cols = ['speed_factor', 'short_leg_speed', 'long_leg_speed', 'rank']\n",
    "sm.footpaths.drop(cols, axis=1, inplace=True, errors='ignore')\n",
    "sm.zone_to_transit.drop(cols, axis=1, inplace=True, errors='ignore')\n",
    "sm.zone_to_road.drop(cols, axis=1, inplace=True, errors='ignore')\n",
    "sm.road_to_transit.drop(cols, axis=1, inplace=True, errors='ignore')\n",
    "sm.zone_to_transit.drop(['n_links'], axis=1, inplace=True, errors='ignore')"
   ]
  },
  {
   "cell_type": "code",
   "execution_count": 51,
   "metadata": {},
   "outputs": [],
   "source": [
    "# Make tables lighter\n",
    "cols = ['distance', 'speed', 'time']\n",
    "sm.footpaths[cols] = sm.footpaths[cols].astype(int)\n",
    "sm.zone_to_transit[cols] = sm.zone_to_transit[cols].astype(int)"
   ]
  },
  {
   "cell_type": "code",
   "execution_count": 52,
   "metadata": {},
   "outputs": [],
   "source": [
    "sm.zone_to_road[cols] = sm.zone_to_road[cols].astype(int)\n",
    "sm.road_to_transit[cols] = sm.road_to_transit[cols].astype(int)"
   ]
  },
  {
   "cell_type": "code",
   "execution_count": 53,
   "metadata": {},
   "outputs": [
    {
     "data": {
      "text/html": [
       "<div>\n",
       "<style scoped>\n",
       "    .dataframe tbody tr th:only-of-type {\n",
       "        vertical-align: middle;\n",
       "    }\n",
       "\n",
       "    .dataframe tbody tr th {\n",
       "        vertical-align: top;\n",
       "    }\n",
       "\n",
       "    .dataframe thead th {\n",
       "        text-align: right;\n",
       "    }\n",
       "</style>\n",
       "<table border=\"1\" class=\"dataframe\">\n",
       "  <thead>\n",
       "    <tr style=\"text-align: right;\">\n",
       "      <th></th>\n",
       "      <th>a</th>\n",
       "      <th>b</th>\n",
       "      <th>direction</th>\n",
       "      <th>distance</th>\n",
       "      <th>geometry</th>\n",
       "      <th>speed</th>\n",
       "      <th>time</th>\n",
       "    </tr>\n",
       "  </thead>\n",
       "  <tbody>\n",
       "    <tr>\n",
       "      <th>foot_1760</th>\n",
       "      <td>rail_short_node_2545</td>\n",
       "      <td>rail_long_node_383</td>\n",
       "      <td>access</td>\n",
       "      <td>0</td>\n",
       "      <td>LINESTRING (8.77279 47.85635, 8.77279 47.85635)</td>\n",
       "      <td>5</td>\n",
       "      <td>0</td>\n",
       "    </tr>\n",
       "  </tbody>\n",
       "</table>\n",
       "</div>"
      ],
      "text/plain": [
       "                              a                   b direction  distance  \\\n",
       "foot_1760  rail_short_node_2545  rail_long_node_383    access         0   \n",
       "\n",
       "                                                  geometry  speed  time  \n",
       "foot_1760  LINESTRING (8.77279 47.85635, 8.77279 47.85635)      5     0  "
      ]
     },
     "execution_count": 53,
     "metadata": {},
     "output_type": "execute_result"
    }
   ],
   "source": [
    "sm.footpaths.sample()"
   ]
  },
  {
   "cell_type": "code",
   "execution_count": 54,
   "metadata": {},
   "outputs": [
    {
     "name": "stderr",
     "output_type": "stream",
     "text": [
      "to_hdf(overwriting): 100%|█████████████████████████████████████████████████████████████| 37/37 [00:07<00:00,  4.83it/s]\n"
     ]
    }
   ],
   "source": [
    "# Saving model...\n",
    "tables = ['centroids', 'footpaths', 'zone_to_transit']\n",
    "sm.to_json(model_path + 'de_pt_access_egress',\n",
    "           only_attributes=tables, encoding='utf-8')"
   ]
  },
  {
   "cell_type": "code",
   "execution_count": 55,
   "metadata": {
    "scrolled": true
   },
   "outputs": [
    {
     "name": "stderr",
     "output_type": "stream",
     "text": [
      "to_hdf(overwriting): 100%|█████████████████████████████████████████████████████████████| 37/37 [00:03<00:00, 11.15it/s]\n"
     ]
    }
   ],
   "source": [
    "sm.to_json(model_path + 'de_road_access_egress',\n",
    "           only_attributes=['centroids', 'zone_to_road', 'road_to_transit'],\n",
    "           encoding='utf-8')"
   ]
  }
 ],
 "metadata": {
  "kernelspec": {
   "display_name": "Python 3",
   "language": "python",
   "name": "python3"
  },
  "language_info": {
   "codemirror_mode": {
    "name": "ipython",
    "version": 3
   },
   "file_extension": ".py",
   "mimetype": "text/x-python",
   "name": "python",
   "nbconvert_exporter": "python",
   "pygments_lexer": "ipython3",
   "version": "3.8.1"
  }
 },
 "nbformat": 4,
 "nbformat_minor": 2
}
