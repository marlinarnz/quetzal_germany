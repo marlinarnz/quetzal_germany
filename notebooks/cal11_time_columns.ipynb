{
 "cells": [
  {
   "cell_type": "code",
   "execution_count": 1,
   "metadata": {},
   "outputs": [
    {
     "name": "stderr",
     "output_type": "stream",
     "text": [
      "In C:\\Users\\marlin.arnz\\AppData\\Local\\Continuum\\miniconda3\\envs\\quetzal\\lib\\site-packages\\matplotlib\\mpl-data\\stylelib\\_classic_test.mplstyle: \n",
      "The text.latex.preview rcparam was deprecated in Matplotlib 3.3 and will be removed two minor releases later.\n",
      "In C:\\Users\\marlin.arnz\\AppData\\Local\\Continuum\\miniconda3\\envs\\quetzal\\lib\\site-packages\\matplotlib\\mpl-data\\stylelib\\_classic_test.mplstyle: \n",
      "The mathtext.fallback_to_cm rcparam was deprecated in Matplotlib 3.3 and will be removed two minor releases later.\n",
      "In C:\\Users\\marlin.arnz\\AppData\\Local\\Continuum\\miniconda3\\envs\\quetzal\\lib\\site-packages\\matplotlib\\mpl-data\\stylelib\\_classic_test.mplstyle: Support for setting the 'mathtext.fallback_to_cm' rcParam is deprecated since 3.3 and will be removed two minor releases later; use 'mathtext.fallback : 'cm' instead.\n",
      "In C:\\Users\\marlin.arnz\\AppData\\Local\\Continuum\\miniconda3\\envs\\quetzal\\lib\\site-packages\\matplotlib\\mpl-data\\stylelib\\_classic_test.mplstyle: \n",
      "The validate_bool_maybe_none function was deprecated in Matplotlib 3.3 and will be removed two minor releases later.\n",
      "In C:\\Users\\marlin.arnz\\AppData\\Local\\Continuum\\miniconda3\\envs\\quetzal\\lib\\site-packages\\matplotlib\\mpl-data\\stylelib\\_classic_test.mplstyle: \n",
      "The savefig.jpeg_quality rcparam was deprecated in Matplotlib 3.3 and will be removed two minor releases later.\n",
      "In C:\\Users\\marlin.arnz\\AppData\\Local\\Continuum\\miniconda3\\envs\\quetzal\\lib\\site-packages\\matplotlib\\mpl-data\\stylelib\\_classic_test.mplstyle: \n",
      "The keymap.all_axes rcparam was deprecated in Matplotlib 3.3 and will be removed two minor releases later.\n",
      "In C:\\Users\\marlin.arnz\\AppData\\Local\\Continuum\\miniconda3\\envs\\quetzal\\lib\\site-packages\\matplotlib\\mpl-data\\stylelib\\_classic_test.mplstyle: \n",
      "The animation.avconv_path rcparam was deprecated in Matplotlib 3.3 and will be removed two minor releases later.\n",
      "In C:\\Users\\marlin.arnz\\AppData\\Local\\Continuum\\miniconda3\\envs\\quetzal\\lib\\site-packages\\matplotlib\\mpl-data\\stylelib\\_classic_test.mplstyle: \n",
      "The animation.avconv_args rcparam was deprecated in Matplotlib 3.3 and will be removed two minor releases later.\n"
     ]
    }
   ],
   "source": [
    "import pandas as pd\n",
    "import numpy as np\n",
    "from quetzal.model import stepmodel"
   ]
  },
  {
   "cell_type": "markdown",
   "metadata": {},
   "source": [
    "# Calibration\n",
    "## Preparation of input data\n",
    "Synthesise travel time columns with optimal paths from the model"
   ]
  },
  {
   "cell_type": "code",
   "execution_count": 2,
   "metadata": {},
   "outputs": [],
   "source": [
    "input_path = '../input/transport_demand/'\n",
    "model_path = '../model/'"
   ]
  },
  {
   "cell_type": "code",
   "execution_count": 3,
   "metadata": {},
   "outputs": [],
   "source": [
    "# Load StepModel with LOS table...\n",
    "sm = stepmodel.read_json(model_path + 'de_pt_access_egress')\n",
    "pt = stepmodel.read_json(model_path + 'de_pt_los')\n",
    "car = stepmodel.read_json(model_path + 'de_road_los')"
   ]
  },
  {
   "cell_type": "code",
   "execution_count": 4,
   "metadata": {},
   "outputs": [],
   "source": [
    "sm.pt_los = pt.pt_los\n",
    "sm.car_los = car.car_los"
   ]
  },
  {
   "cell_type": "code",
   "execution_count": 20,
   "metadata": {},
   "outputs": [
    {
     "name": "stdout",
     "output_type": "stream",
     "text": [
      "108338\n"
     ]
    }
   ],
   "source": [
    "# Load calibration dataset\n",
    "trips = pd.read_csv(input_path + 'calibration_inter-cellular_trips_MiD2017.csv')\n",
    "print(len(trips.index))"
   ]
  },
  {
   "cell_type": "code",
   "execution_count": 21,
   "metadata": {},
   "outputs": [],
   "source": [
    "trips = trips.drop(columns='Unnamed: 0')\n",
    "trips.reset_index(drop=True, inplace=True)\n",
    "#trips.head()"
   ]
  },
  {
   "cell_type": "code",
   "execution_count": 23,
   "metadata": {},
   "outputs": [],
   "source": [
    "# Replace LAU codes with NUTS IDs\n",
    "if not str(trips.loc[0, 'origin']).startswith('DE'):\n",
    "    # Update LAU IDs from Göttingen\n",
    "    trips['origin'] = trips['origin'].replace({3152:3159, 3156:3159})\n",
    "    trips['destination'] = trips['destination'].replace({3152:3159, 3156:3159})\n",
    "    # Map to NUTS IDs\n",
    "    z = stepmodel.read_json(model_path + 'de_zones')\n",
    "    lau_nuts_dict = z.zones.set_index('lau_id')['NUTS_ID'].to_dict()\n",
    "    trips['origin'] = trips['origin'].astype(str).map(lau_nuts_dict)\n",
    "    trips['destination'] = trips['destination'].astype(str).map(lau_nuts_dict)\n",
    "\n",
    "    # Drop all other trips\n",
    "    trips = trips.loc[(trips['origin'].notna()) & (trips['destination'].notna())]"
   ]
  },
  {
   "cell_type": "code",
   "execution_count": 24,
   "metadata": {},
   "outputs": [
    {
     "data": {
      "text/plain": [
       "107906"
      ]
     },
     "execution_count": 24,
     "metadata": {},
     "output_type": "execute_result"
    }
   ],
   "source": [
    "len(trips)"
   ]
  },
  {
   "cell_type": "markdown",
   "metadata": {},
   "source": [
    "All imputated time columns are needed for the MLE model. They do not replace duration statements in the survey but complement each trip with alternative travel times in modes that were not used for this trip."
   ]
  },
  {
   "cell_type": "code",
   "execution_count": 25,
   "metadata": {},
   "outputs": [],
   "source": [
    "# Create dictionaries from LoS tables\n",
    "# Take the fastest trips\n",
    "car_dict = sm.car_los.sort_values('time').groupby(\n",
    "    ['origin', 'destination']).first()['time'].to_dict()\n",
    "pt_dict = sm.pt_los.sort_values('time').groupby(\n",
    "    ['origin', 'destination', 'route_type']).first()['time'].to_dict()"
   ]
  },
  {
   "cell_type": "code",
   "execution_count": 26,
   "metadata": {},
   "outputs": [],
   "source": [
    "# Car\n",
    "# Directly from car LoS table, converted to minutes\n",
    "trips['time_car'] = [car_dict[a]/60\n",
    "                     if a in car_dict.keys() else np.nan\n",
    "                     for a in tuple(zip(trips['origin'], trips['destination']))]"
   ]
  },
  {
   "cell_type": "code",
   "execution_count": 27,
   "metadata": {},
   "outputs": [
    {
     "name": "stdout",
     "output_type": "stream",
     "text": [
      "36\n",
      "0.00038446751249519417\n"
     ]
    }
   ],
   "source": [
    "# Some OD pairs might not be in the volumes table\n",
    "# which results in missing values for the calibration dataset\n",
    "k = len(trips.loc[trips['time_car'].isna()])\n",
    "print(k)\n",
    "print(k / len(trips.loc[trips['mode_model']==6]))"
   ]
  },
  {
   "cell_type": "code",
   "execution_count": 28,
   "metadata": {},
   "outputs": [],
   "source": [
    "# Drop trips without time reference if its share is insignificant\n",
    "trips = trips.loc[trips['time_car'].notna()]"
   ]
  },
  {
   "cell_type": "code",
   "execution_count": 29,
   "metadata": {},
   "outputs": [],
   "source": [
    "# PT\n",
    "for t in sm.pt_los['route_type'].unique():\n",
    "    trips['route_type'] = t\n",
    "    trips['time_' + t] = [pt_dict[a]/60\n",
    "        if a in pt_dict.keys() else np.inf\n",
    "        for a in tuple(zip(trips['origin'], trips['destination'], trips['route_type']))]\n",
    "trips.drop('route_type', axis=1, inplace=True)"
   ]
  },
  {
   "cell_type": "code",
   "execution_count": 30,
   "metadata": {},
   "outputs": [],
   "source": [
    "# Replace time for the mode of choice\n",
    "mode_col_map = {1: 'time_rail_short_distance', 2: 'time_rail_long_distance',\n",
    "                3: 'time_coach', 4: 'time_bus', 5: 'time_air',\n",
    "                6: 'time_car', 7: 'time_walk'}\n",
    "for index, row in trips.iterrows():\n",
    "    trips.loc[index, mode_col_map[row['mode_model']]] = row['duration']"
   ]
  },
  {
   "cell_type": "code",
   "execution_count": 31,
   "metadata": {},
   "outputs": [],
   "source": [
    "# The fastest route determines time of rail service\n",
    "trips['time_rail'] = [min(t_s, t_l)\n",
    "                      for t_s, t_l in zip(trips['time_rail_short_distance'],\n",
    "                                          trips['time_rail_long_distance'])]\n",
    "trips.loc[trips['mode_model']==1, 'time_rail'] = \\\n",
    "    trips.loc[trips['mode_model']==1, 'time_rail_short_distance']\n",
    "trips.loc[trips['mode_model']==2, 'time_rail'] = \\\n",
    "    trips.loc[trips['mode_model']==2, 'time_rail_long_distance']"
   ]
  },
  {
   "cell_type": "code",
   "execution_count": 32,
   "metadata": {},
   "outputs": [
    {
     "data": {
      "text/html": [
       "<div>\n",
       "<style scoped>\n",
       "    .dataframe tbody tr th:only-of-type {\n",
       "        vertical-align: middle;\n",
       "    }\n",
       "\n",
       "    .dataframe tbody tr th {\n",
       "        vertical-align: top;\n",
       "    }\n",
       "\n",
       "    .dataframe thead th {\n",
       "        text-align: right;\n",
       "    }\n",
       "</style>\n",
       "<table border=\"1\" class=\"dataframe\">\n",
       "  <thead>\n",
       "    <tr style=\"text-align: right;\">\n",
       "      <th></th>\n",
       "      <th>time_rail_long_distance</th>\n",
       "      <th>time_rail_short_distance</th>\n",
       "      <th>time_rail</th>\n",
       "      <th>time_coach</th>\n",
       "      <th>time_bus</th>\n",
       "      <th>time_air</th>\n",
       "      <th>time_car</th>\n",
       "      <th>time_walk</th>\n",
       "    </tr>\n",
       "    <tr>\n",
       "      <th>mode_model</th>\n",
       "      <th></th>\n",
       "      <th></th>\n",
       "      <th></th>\n",
       "      <th></th>\n",
       "      <th></th>\n",
       "      <th></th>\n",
       "      <th></th>\n",
       "      <th></th>\n",
       "    </tr>\n",
       "  </thead>\n",
       "  <tbody>\n",
       "    <tr>\n",
       "      <th>1</th>\n",
       "      <td>inf</td>\n",
       "      <td>65.605957</td>\n",
       "      <td>65.605957</td>\n",
       "      <td>inf</td>\n",
       "      <td>inf</td>\n",
       "      <td>inf</td>\n",
       "      <td>52.650827</td>\n",
       "      <td>inf</td>\n",
       "    </tr>\n",
       "    <tr>\n",
       "      <th>2</th>\n",
       "      <td>167.282705</td>\n",
       "      <td>inf</td>\n",
       "      <td>167.282705</td>\n",
       "      <td>inf</td>\n",
       "      <td>inf</td>\n",
       "      <td>inf</td>\n",
       "      <td>161.733518</td>\n",
       "      <td>inf</td>\n",
       "    </tr>\n",
       "    <tr>\n",
       "      <th>3</th>\n",
       "      <td>inf</td>\n",
       "      <td>inf</td>\n",
       "      <td>inf</td>\n",
       "      <td>102.390438</td>\n",
       "      <td>inf</td>\n",
       "      <td>inf</td>\n",
       "      <td>101.226228</td>\n",
       "      <td>inf</td>\n",
       "    </tr>\n",
       "    <tr>\n",
       "      <th>4</th>\n",
       "      <td>inf</td>\n",
       "      <td>inf</td>\n",
       "      <td>inf</td>\n",
       "      <td>inf</td>\n",
       "      <td>44.119527</td>\n",
       "      <td>inf</td>\n",
       "      <td>68.166010</td>\n",
       "      <td>inf</td>\n",
       "    </tr>\n",
       "    <tr>\n",
       "      <th>5</th>\n",
       "      <td>inf</td>\n",
       "      <td>inf</td>\n",
       "      <td>inf</td>\n",
       "      <td>inf</td>\n",
       "      <td>inf</td>\n",
       "      <td>122.5</td>\n",
       "      <td>332.250000</td>\n",
       "      <td>inf</td>\n",
       "    </tr>\n",
       "    <tr>\n",
       "      <th>6</th>\n",
       "      <td>inf</td>\n",
       "      <td>inf</td>\n",
       "      <td>inf</td>\n",
       "      <td>inf</td>\n",
       "      <td>inf</td>\n",
       "      <td>inf</td>\n",
       "      <td>39.110049</td>\n",
       "      <td>inf</td>\n",
       "    </tr>\n",
       "    <tr>\n",
       "      <th>7</th>\n",
       "      <td>inf</td>\n",
       "      <td>inf</td>\n",
       "      <td>inf</td>\n",
       "      <td>inf</td>\n",
       "      <td>inf</td>\n",
       "      <td>inf</td>\n",
       "      <td>114.187067</td>\n",
       "      <td>27.067789</td>\n",
       "    </tr>\n",
       "  </tbody>\n",
       "</table>\n",
       "</div>"
      ],
      "text/plain": [
       "            time_rail_long_distance  time_rail_short_distance   time_rail  \\\n",
       "mode_model                                                                  \n",
       "1                               inf                 65.605957   65.605957   \n",
       "2                        167.282705                       inf  167.282705   \n",
       "3                               inf                       inf         inf   \n",
       "4                               inf                       inf         inf   \n",
       "5                               inf                       inf         inf   \n",
       "6                               inf                       inf         inf   \n",
       "7                               inf                       inf         inf   \n",
       "\n",
       "            time_coach   time_bus  time_air    time_car  time_walk  \n",
       "mode_model                                                          \n",
       "1                  inf        inf       inf   52.650827        inf  \n",
       "2                  inf        inf       inf  161.733518        inf  \n",
       "3           102.390438        inf       inf  101.226228        inf  \n",
       "4                  inf  44.119527       inf   68.166010        inf  \n",
       "5                  inf        inf     122.5  332.250000        inf  \n",
       "6                  inf        inf       inf   39.110049        inf  \n",
       "7                  inf        inf       inf  114.187067  27.067789  "
      ]
     },
     "execution_count": 32,
     "metadata": {},
     "output_type": "execute_result"
    }
   ],
   "source": [
    "trips.groupby('mode_model').agg(\n",
    "    {'time_rail_long_distance': 'mean', 'time_rail_short_distance': 'mean',\n",
    "     'time_rail': 'mean', 'time_coach': 'mean', 'time_bus': 'mean',\n",
    "     'time_air': 'mean', 'time_car': 'mean', 'time_walk': 'mean'})"
   ]
  },
  {
   "cell_type": "code",
   "execution_count": 33,
   "metadata": {},
   "outputs": [
    {
     "data": {
      "text/html": [
       "<div>\n",
       "<style scoped>\n",
       "    .dataframe tbody tr th:only-of-type {\n",
       "        vertical-align: middle;\n",
       "    }\n",
       "\n",
       "    .dataframe tbody tr th {\n",
       "        vertical-align: top;\n",
       "    }\n",
       "\n",
       "    .dataframe thead th {\n",
       "        text-align: right;\n",
       "    }\n",
       "</style>\n",
       "<table border=\"1\" class=\"dataframe\">\n",
       "  <thead>\n",
       "    <tr style=\"text-align: right;\">\n",
       "      <th></th>\n",
       "      <th>time_rail_long_distance</th>\n",
       "      <th>time_rail_short_distance</th>\n",
       "      <th>time_rail</th>\n",
       "      <th>time_coach</th>\n",
       "      <th>time_bus</th>\n",
       "      <th>time_air</th>\n",
       "      <th>time_car</th>\n",
       "      <th>time_walk</th>\n",
       "    </tr>\n",
       "    <tr>\n",
       "      <th>mode_model</th>\n",
       "      <th></th>\n",
       "      <th></th>\n",
       "      <th></th>\n",
       "      <th></th>\n",
       "      <th></th>\n",
       "      <th></th>\n",
       "      <th></th>\n",
       "      <th></th>\n",
       "    </tr>\n",
       "  </thead>\n",
       "  <tbody>\n",
       "    <tr>\n",
       "      <th>1</th>\n",
       "      <td>136.483541</td>\n",
       "      <td>65.605957</td>\n",
       "      <td>65.605957</td>\n",
       "      <td>131.859099</td>\n",
       "      <td>92.005137</td>\n",
       "      <td>263.980407</td>\n",
       "      <td>52.650827</td>\n",
       "      <td>55.787585</td>\n",
       "    </tr>\n",
       "    <tr>\n",
       "      <th>2</th>\n",
       "      <td>167.282705</td>\n",
       "      <td>176.473399</td>\n",
       "      <td>167.282705</td>\n",
       "      <td>237.724546</td>\n",
       "      <td>103.670423</td>\n",
       "      <td>244.084615</td>\n",
       "      <td>161.733518</td>\n",
       "      <td>60.218333</td>\n",
       "    </tr>\n",
       "    <tr>\n",
       "      <th>3</th>\n",
       "      <td>196.312403</td>\n",
       "      <td>138.902317</td>\n",
       "      <td>136.292657</td>\n",
       "      <td>102.390438</td>\n",
       "      <td>92.102830</td>\n",
       "      <td>295.169333</td>\n",
       "      <td>101.226228</td>\n",
       "      <td>51.677407</td>\n",
       "    </tr>\n",
       "    <tr>\n",
       "      <th>4</th>\n",
       "      <td>201.151284</td>\n",
       "      <td>116.590070</td>\n",
       "      <td>117.345632</td>\n",
       "      <td>206.542805</td>\n",
       "      <td>44.119527</td>\n",
       "      <td>261.347158</td>\n",
       "      <td>68.166010</td>\n",
       "      <td>53.338738</td>\n",
       "    </tr>\n",
       "    <tr>\n",
       "      <th>5</th>\n",
       "      <td>291.546032</td>\n",
       "      <td>420.285417</td>\n",
       "      <td>287.009420</td>\n",
       "      <td>415.366667</td>\n",
       "      <td>NaN</td>\n",
       "      <td>122.500000</td>\n",
       "      <td>332.250000</td>\n",
       "      <td>71.433333</td>\n",
       "    </tr>\n",
       "    <tr>\n",
       "      <th>6</th>\n",
       "      <td>181.552944</td>\n",
       "      <td>109.084319</td>\n",
       "      <td>108.476832</td>\n",
       "      <td>179.585503</td>\n",
       "      <td>90.937795</td>\n",
       "      <td>292.813648</td>\n",
       "      <td>39.110049</td>\n",
       "      <td>56.528670</td>\n",
       "    </tr>\n",
       "    <tr>\n",
       "      <th>7</th>\n",
       "      <td>235.439861</td>\n",
       "      <td>160.213682</td>\n",
       "      <td>159.420531</td>\n",
       "      <td>270.089332</td>\n",
       "      <td>95.489331</td>\n",
       "      <td>287.633333</td>\n",
       "      <td>114.187067</td>\n",
       "      <td>27.067789</td>\n",
       "    </tr>\n",
       "  </tbody>\n",
       "</table>\n",
       "</div>"
      ],
      "text/plain": [
       "            time_rail_long_distance  time_rail_short_distance   time_rail  \\\n",
       "mode_model                                                                  \n",
       "1                        136.483541                 65.605957   65.605957   \n",
       "2                        167.282705                176.473399  167.282705   \n",
       "3                        196.312403                138.902317  136.292657   \n",
       "4                        201.151284                116.590070  117.345632   \n",
       "5                        291.546032                420.285417  287.009420   \n",
       "6                        181.552944                109.084319  108.476832   \n",
       "7                        235.439861                160.213682  159.420531   \n",
       "\n",
       "            time_coach    time_bus    time_air    time_car  time_walk  \n",
       "mode_model                                                             \n",
       "1           131.859099   92.005137  263.980407   52.650827  55.787585  \n",
       "2           237.724546  103.670423  244.084615  161.733518  60.218333  \n",
       "3           102.390438   92.102830  295.169333  101.226228  51.677407  \n",
       "4           206.542805   44.119527  261.347158   68.166010  53.338738  \n",
       "5           415.366667         NaN  122.500000  332.250000  71.433333  \n",
       "6           179.585503   90.937795  292.813648   39.110049  56.528670  \n",
       "7           270.089332   95.489331  287.633333  114.187067  27.067789  "
      ]
     },
     "execution_count": 33,
     "metadata": {},
     "output_type": "execute_result"
    }
   ],
   "source": [
    "trips.replace({np.inf:np.nan}).groupby('mode_model').agg(\n",
    "    {'time_rail_long_distance': 'mean', 'time_rail_short_distance': 'mean',\n",
    "     'time_rail': 'mean', 'time_coach': 'mean', 'time_bus': 'mean',\n",
    "     'time_air': 'mean', 'time_car': 'mean', 'time_walk': 'mean'})"
   ]
  },
  {
   "cell_type": "code",
   "execution_count": 34,
   "metadata": {},
   "outputs": [
    {
     "name": "stdout",
     "output_type": "stream",
     "text": [
      "rail_short_distance: 0 observations have no model connection (0.0 percent)\n",
      "rail_long_distance: 0 observations have no model connection (0.0 percent)\n",
      "coach: 0 observations have no model connection (0.0 percent)\n",
      "bus: 0 observations have no model connection (0.0 percent)\n",
      "air: 0 observations have no model connection (0.0 percent)\n",
      "car: 0 observations have no model connection (0.0 percent)\n",
      "walk: 0 observations have no model connection (0.0 percent)\n"
     ]
    }
   ],
   "source": [
    "# How many observations must be dropped later and what are their shares?\n",
    "mode_dict = {1: 'rail_short_distance', 2: 'rail_long_distance',\n",
    "             3: 'coach', 4: 'bus', 5: 'air', 6: 'car', 7: 'walk'}\n",
    "mode_dict = {v:k for k,v in mode_dict.items()}\n",
    "for t in mode_dict.keys():\n",
    "    k = len(trips.loc[((trips['mode_model']==mode_dict[t]) & (trips['time_'+t]==np.inf))])\n",
    "    print('{}: {} observations have no model connection ({} percent)'.format(\n",
    "        t, k, k/len(trips.loc[trips['mode_model']==mode_dict[t]])*100))"
   ]
  },
  {
   "cell_type": "markdown",
   "metadata": {},
   "source": [
    "### Save calibration dataset"
   ]
  },
  {
   "cell_type": "code",
   "execution_count": 35,
   "metadata": {},
   "outputs": [],
   "source": [
    "trips.to_csv(input_path + 'calibration_inter-cellular_trips_MiD2017.csv')"
   ]
  }
 ],
 "metadata": {
  "kernelspec": {
   "display_name": "Python 3",
   "language": "python",
   "name": "python3"
  },
  "language_info": {
   "codemirror_mode": {
    "name": "ipython",
    "version": 3
   },
   "file_extension": ".py",
   "mimetype": "text/x-python",
   "name": "python",
   "nbconvert_exporter": "python",
   "pygments_lexer": "ipython3",
   "version": "3.8.1"
  }
 },
 "nbformat": 4,
 "nbformat_minor": 4
}
