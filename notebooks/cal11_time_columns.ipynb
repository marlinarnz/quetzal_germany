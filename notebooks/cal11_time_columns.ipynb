{
 "cells": [
  {
   "cell_type": "code",
   "execution_count": 1,
   "metadata": {},
   "outputs": [
    {
     "name": "stderr",
     "output_type": "stream",
     "text": [
      "In C:\\Users\\marlin.arnz\\AppData\\Local\\Continuum\\miniconda3\\envs\\quetzal\\lib\\site-packages\\matplotlib\\mpl-data\\stylelib\\_classic_test.mplstyle: \n",
      "The text.latex.preview rcparam was deprecated in Matplotlib 3.3 and will be removed two minor releases later.\n",
      "In C:\\Users\\marlin.arnz\\AppData\\Local\\Continuum\\miniconda3\\envs\\quetzal\\lib\\site-packages\\matplotlib\\mpl-data\\stylelib\\_classic_test.mplstyle: \n",
      "The mathtext.fallback_to_cm rcparam was deprecated in Matplotlib 3.3 and will be removed two minor releases later.\n",
      "In C:\\Users\\marlin.arnz\\AppData\\Local\\Continuum\\miniconda3\\envs\\quetzal\\lib\\site-packages\\matplotlib\\mpl-data\\stylelib\\_classic_test.mplstyle: Support for setting the 'mathtext.fallback_to_cm' rcParam is deprecated since 3.3 and will be removed two minor releases later; use 'mathtext.fallback : 'cm' instead.\n",
      "In C:\\Users\\marlin.arnz\\AppData\\Local\\Continuum\\miniconda3\\envs\\quetzal\\lib\\site-packages\\matplotlib\\mpl-data\\stylelib\\_classic_test.mplstyle: \n",
      "The validate_bool_maybe_none function was deprecated in Matplotlib 3.3 and will be removed two minor releases later.\n",
      "In C:\\Users\\marlin.arnz\\AppData\\Local\\Continuum\\miniconda3\\envs\\quetzal\\lib\\site-packages\\matplotlib\\mpl-data\\stylelib\\_classic_test.mplstyle: \n",
      "The savefig.jpeg_quality rcparam was deprecated in Matplotlib 3.3 and will be removed two minor releases later.\n",
      "In C:\\Users\\marlin.arnz\\AppData\\Local\\Continuum\\miniconda3\\envs\\quetzal\\lib\\site-packages\\matplotlib\\mpl-data\\stylelib\\_classic_test.mplstyle: \n",
      "The keymap.all_axes rcparam was deprecated in Matplotlib 3.3 and will be removed two minor releases later.\n",
      "In C:\\Users\\marlin.arnz\\AppData\\Local\\Continuum\\miniconda3\\envs\\quetzal\\lib\\site-packages\\matplotlib\\mpl-data\\stylelib\\_classic_test.mplstyle: \n",
      "The animation.avconv_path rcparam was deprecated in Matplotlib 3.3 and will be removed two minor releases later.\n",
      "In C:\\Users\\marlin.arnz\\AppData\\Local\\Continuum\\miniconda3\\envs\\quetzal\\lib\\site-packages\\matplotlib\\mpl-data\\stylelib\\_classic_test.mplstyle: \n",
      "The animation.avconv_args rcparam was deprecated in Matplotlib 3.3 and will be removed two minor releases later.\n"
     ]
    }
   ],
   "source": [
    "import pandas as pd\n",
    "import numpy as np\n",
    "from quetzal.model import stepmodel"
   ]
  },
  {
   "cell_type": "markdown",
   "metadata": {},
   "source": [
    "# Calibration\n",
    "## Preparation of input data\n",
    "Synthesise travel time columns with optimal paths from the model"
   ]
  },
  {
   "cell_type": "code",
   "execution_count": 2,
   "metadata": {},
   "outputs": [],
   "source": [
    "input_path = '../input/transport_demand/'\n",
    "model_path = '../model/'"
   ]
  },
  {
   "cell_type": "code",
   "execution_count": 3,
   "metadata": {},
   "outputs": [],
   "source": [
    "# Load StepModel with LOS table...\n",
    "sm = stepmodel.read_json(model_path + 'de_pt_access_egress')\n",
    "pt = stepmodel.read_json(model_path + 'de_pt_los')\n",
    "car = stepmodel.read_json(model_path + 'de_road_los')"
   ]
  },
  {
   "cell_type": "code",
   "execution_count": 4,
   "metadata": {},
   "outputs": [],
   "source": [
    "sm.pt_los = pt.pt_los\n",
    "sm.car_los = car.car_los"
   ]
  },
  {
   "cell_type": "code",
   "execution_count": 5,
   "metadata": {},
   "outputs": [
    {
     "name": "stdout",
     "output_type": "stream",
     "text": [
      "101172\n"
     ]
    }
   ],
   "source": [
    "# Load calibration dataset\n",
    "trips = pd.read_csv(input_path + 'calibration_inter-cellular_trips_MiD2017.csv')\n",
    "print(len(trips.index))"
   ]
  },
  {
   "cell_type": "code",
   "execution_count": 6,
   "metadata": {},
   "outputs": [],
   "source": [
    "trips = trips.drop(columns='Unnamed: 0')\n",
    "trips.reset_index(drop=True, inplace=True)\n",
    "#trips.head()"
   ]
  },
  {
   "cell_type": "code",
   "execution_count": 7,
   "metadata": {},
   "outputs": [],
   "source": [
    "# Replace LAU codes with NUTS IDs\n",
    "if not str(trips.loc[0, 'origin']).startswith('DE'):\n",
    "    z = stepmodel.read_json(model_path + 'de_zones')\n",
    "    lau_nuts_dict = z.zones.set_index('lau_id')['NUTS_ID'].to_dict()\n",
    "    trips['origin'] = trips['origin'].astype(str).map(lau_nuts_dict)\n",
    "    trips['destination'] = trips['destination'].astype(str).map(lau_nuts_dict)\n",
    "\n",
    "    # Drop all other trips\n",
    "    trips = trips.loc[(trips['origin'].notna()) & (trips['destination'].notna())]\n",
    "    len(trips.index)"
   ]
  },
  {
   "cell_type": "markdown",
   "metadata": {},
   "source": [
    "All imputated time columns are needed for the MLE model. They do not replace duration statements in the survey but complement each trip with alternative travel times in modes that were not used for this trip."
   ]
  },
  {
   "cell_type": "code",
   "execution_count": 8,
   "metadata": {},
   "outputs": [],
   "source": [
    "# Create dictionaries from LoS tables\n",
    "# Take the fastest trips\n",
    "car_dict = sm.car_los.sort_values('time').groupby(\n",
    "    ['origin', 'destination']).first()['time'].to_dict()\n",
    "pt_dict = sm.pt_los.sort_values('time').groupby(\n",
    "    ['origin', 'destination', 'route_type']).first()['time'].to_dict()"
   ]
  },
  {
   "cell_type": "code",
   "execution_count": 9,
   "metadata": {},
   "outputs": [],
   "source": [
    "# Car\n",
    "# Directly from car LoS table, converted to minutes\n",
    "trips['time_car'] = [car_dict[a]/60\n",
    "                     if a in car_dict.keys() else np.nan\n",
    "                     for a in tuple(zip(trips['origin'], trips['destination']))]"
   ]
  },
  {
   "cell_type": "code",
   "execution_count": 11,
   "metadata": {},
   "outputs": [
    {
     "name": "stdout",
     "output_type": "stream",
     "text": [
      "35\n",
      "0.00039677591230118694\n"
     ]
    }
   ],
   "source": [
    "# Some OD pairs might not be in the volumes table\n",
    "# which results in missing values for the calibration dataset\n",
    "k = len(trips.loc[trips['time_car'].isna()])\n",
    "print(k)\n",
    "print(k / len(trips.loc[trips['mode_model']==6]))"
   ]
  },
  {
   "cell_type": "code",
   "execution_count": 12,
   "metadata": {},
   "outputs": [],
   "source": [
    "# Drop trips without time reference if its share is insignificant\n",
    "trips = trips.loc[trips['time_car'].notna()]"
   ]
  },
  {
   "cell_type": "code",
   "execution_count": 13,
   "metadata": {},
   "outputs": [],
   "source": [
    "# PT\n",
    "for t in sm.pt_los['route_type'].unique():\n",
    "    trips['route_type'] = t\n",
    "    trips['time_' + t] = [pt_dict[a]/60\n",
    "        if a in pt_dict.keys() else np.inf\n",
    "        for a in tuple(zip(trips['origin'], trips['destination'], trips['route_type']))]\n",
    "trips.drop('route_type', axis=1, inplace=True)"
   ]
  },
  {
   "cell_type": "code",
   "execution_count": 14,
   "metadata": {},
   "outputs": [],
   "source": [
    "# Replace time for the mode of choice\n",
    "mode_col_map = {1: 'time_rail_short_distance', 2: 'time_rail_long_distance',\n",
    "                3: 'time_coach', 4: 'time_bus', 5: 'time_air',\n",
    "                6: 'time_car', 7: 'time_walk'}\n",
    "for index, row in trips.iterrows():\n",
    "    trips.loc[index, mode_col_map[row['mode_model']]] = row['duration']"
   ]
  },
  {
   "cell_type": "code",
   "execution_count": 15,
   "metadata": {},
   "outputs": [],
   "source": [
    "# The fastest route determines time of rail service\n",
    "trips['time_rail'] = [min(t_s, t_l)\n",
    "                      for t_s, t_l in zip(trips['time_rail_short_distance'],\n",
    "                                          trips['time_rail_long_distance'])]\n",
    "trips.loc[trips['mode_model']==1, 'time_rail'] = \\\n",
    "    trips.loc[trips['mode_model']==1, 'time_rail_short_distance']\n",
    "trips.loc[trips['mode_model']==2, 'time_rail'] = \\\n",
    "    trips.loc[trips['mode_model']==2, 'time_rail_long_distance']"
   ]
  },
  {
   "cell_type": "code",
   "execution_count": 16,
   "metadata": {},
   "outputs": [
    {
     "data": {
      "text/html": [
       "<div>\n",
       "<style scoped>\n",
       "    .dataframe tbody tr th:only-of-type {\n",
       "        vertical-align: middle;\n",
       "    }\n",
       "\n",
       "    .dataframe tbody tr th {\n",
       "        vertical-align: top;\n",
       "    }\n",
       "\n",
       "    .dataframe thead th {\n",
       "        text-align: right;\n",
       "    }\n",
       "</style>\n",
       "<table border=\"1\" class=\"dataframe\">\n",
       "  <thead>\n",
       "    <tr style=\"text-align: right;\">\n",
       "      <th></th>\n",
       "      <th>time_rail_long_distance</th>\n",
       "      <th>time_rail_short_distance</th>\n",
       "      <th>time_rail</th>\n",
       "      <th>time_coach</th>\n",
       "      <th>time_bus</th>\n",
       "      <th>time_air</th>\n",
       "      <th>time_car</th>\n",
       "      <th>time_walk</th>\n",
       "    </tr>\n",
       "    <tr>\n",
       "      <th>mode_model</th>\n",
       "      <th></th>\n",
       "      <th></th>\n",
       "      <th></th>\n",
       "      <th></th>\n",
       "      <th></th>\n",
       "      <th></th>\n",
       "      <th></th>\n",
       "      <th></th>\n",
       "    </tr>\n",
       "  </thead>\n",
       "  <tbody>\n",
       "    <tr>\n",
       "      <th>1</th>\n",
       "      <td>inf</td>\n",
       "      <td>65.846534</td>\n",
       "      <td>65.846534</td>\n",
       "      <td>inf</td>\n",
       "      <td>inf</td>\n",
       "      <td>inf</td>\n",
       "      <td>52.163362</td>\n",
       "      <td>inf</td>\n",
       "    </tr>\n",
       "    <tr>\n",
       "      <th>2</th>\n",
       "      <td>167.203851</td>\n",
       "      <td>inf</td>\n",
       "      <td>167.203851</td>\n",
       "      <td>inf</td>\n",
       "      <td>inf</td>\n",
       "      <td>inf</td>\n",
       "      <td>160.464892</td>\n",
       "      <td>inf</td>\n",
       "    </tr>\n",
       "    <tr>\n",
       "      <th>3</th>\n",
       "      <td>inf</td>\n",
       "      <td>inf</td>\n",
       "      <td>inf</td>\n",
       "      <td>104.176471</td>\n",
       "      <td>inf</td>\n",
       "      <td>inf</td>\n",
       "      <td>100.487535</td>\n",
       "      <td>inf</td>\n",
       "    </tr>\n",
       "    <tr>\n",
       "      <th>4</th>\n",
       "      <td>inf</td>\n",
       "      <td>inf</td>\n",
       "      <td>inf</td>\n",
       "      <td>inf</td>\n",
       "      <td>46.159036</td>\n",
       "      <td>inf</td>\n",
       "      <td>62.338265</td>\n",
       "      <td>inf</td>\n",
       "    </tr>\n",
       "    <tr>\n",
       "      <th>5</th>\n",
       "      <td>inf</td>\n",
       "      <td>inf</td>\n",
       "      <td>inf</td>\n",
       "      <td>inf</td>\n",
       "      <td>inf</td>\n",
       "      <td>122.5</td>\n",
       "      <td>332.250000</td>\n",
       "      <td>inf</td>\n",
       "    </tr>\n",
       "    <tr>\n",
       "      <th>6</th>\n",
       "      <td>inf</td>\n",
       "      <td>inf</td>\n",
       "      <td>inf</td>\n",
       "      <td>inf</td>\n",
       "      <td>inf</td>\n",
       "      <td>inf</td>\n",
       "      <td>40.676733</td>\n",
       "      <td>inf</td>\n",
       "    </tr>\n",
       "    <tr>\n",
       "      <th>7</th>\n",
       "      <td>inf</td>\n",
       "      <td>inf</td>\n",
       "      <td>inf</td>\n",
       "      <td>inf</td>\n",
       "      <td>inf</td>\n",
       "      <td>inf</td>\n",
       "      <td>80.816343</td>\n",
       "      <td>54.32687</td>\n",
       "    </tr>\n",
       "  </tbody>\n",
       "</table>\n",
       "</div>"
      ],
      "text/plain": [
       "            time_rail_long_distance  time_rail_short_distance   time_rail  \\\n",
       "mode_model                                                                  \n",
       "1                               inf                 65.846534   65.846534   \n",
       "2                        167.203851                       inf  167.203851   \n",
       "3                               inf                       inf         inf   \n",
       "4                               inf                       inf         inf   \n",
       "5                               inf                       inf         inf   \n",
       "6                               inf                       inf         inf   \n",
       "7                               inf                       inf         inf   \n",
       "\n",
       "            time_coach   time_bus  time_air    time_car  time_walk  \n",
       "mode_model                                                          \n",
       "1                  inf        inf       inf   52.163362        inf  \n",
       "2                  inf        inf       inf  160.464892        inf  \n",
       "3           104.176471        inf       inf  100.487535        inf  \n",
       "4                  inf  46.159036       inf   62.338265        inf  \n",
       "5                  inf        inf     122.5  332.250000        inf  \n",
       "6                  inf        inf       inf   40.676733        inf  \n",
       "7                  inf        inf       inf   80.816343   54.32687  "
      ]
     },
     "execution_count": 16,
     "metadata": {},
     "output_type": "execute_result"
    }
   ],
   "source": [
    "trips.groupby('mode_model').agg(\n",
    "    {'time_rail_long_distance': 'mean', 'time_rail_short_distance': 'mean',\n",
    "     'time_rail': 'mean', 'time_coach': 'mean', 'time_bus': 'mean',\n",
    "     'time_air': 'mean', 'time_car': 'mean', 'time_walk': 'mean'})"
   ]
  },
  {
   "cell_type": "code",
   "execution_count": 17,
   "metadata": {},
   "outputs": [
    {
     "data": {
      "text/html": [
       "<div>\n",
       "<style scoped>\n",
       "    .dataframe tbody tr th:only-of-type {\n",
       "        vertical-align: middle;\n",
       "    }\n",
       "\n",
       "    .dataframe tbody tr th {\n",
       "        vertical-align: top;\n",
       "    }\n",
       "\n",
       "    .dataframe thead th {\n",
       "        text-align: right;\n",
       "    }\n",
       "</style>\n",
       "<table border=\"1\" class=\"dataframe\">\n",
       "  <thead>\n",
       "    <tr style=\"text-align: right;\">\n",
       "      <th></th>\n",
       "      <th>time_rail_long_distance</th>\n",
       "      <th>time_rail_short_distance</th>\n",
       "      <th>time_rail</th>\n",
       "      <th>time_coach</th>\n",
       "      <th>time_bus</th>\n",
       "      <th>time_air</th>\n",
       "      <th>time_car</th>\n",
       "      <th>time_walk</th>\n",
       "    </tr>\n",
       "    <tr>\n",
       "      <th>mode_model</th>\n",
       "      <th></th>\n",
       "      <th></th>\n",
       "      <th></th>\n",
       "      <th></th>\n",
       "      <th></th>\n",
       "      <th></th>\n",
       "      <th></th>\n",
       "      <th></th>\n",
       "    </tr>\n",
       "  </thead>\n",
       "  <tbody>\n",
       "    <tr>\n",
       "      <th>1</th>\n",
       "      <td>135.518142</td>\n",
       "      <td>65.846534</td>\n",
       "      <td>65.846534</td>\n",
       "      <td>130.443089</td>\n",
       "      <td>91.870660</td>\n",
       "      <td>265.359350</td>\n",
       "      <td>52.163362</td>\n",
       "      <td>55.793799</td>\n",
       "    </tr>\n",
       "    <tr>\n",
       "      <th>2</th>\n",
       "      <td>167.203851</td>\n",
       "      <td>174.541633</td>\n",
       "      <td>167.203851</td>\n",
       "      <td>235.366255</td>\n",
       "      <td>103.670423</td>\n",
       "      <td>242.954056</td>\n",
       "      <td>160.464892</td>\n",
       "      <td>60.218333</td>\n",
       "    </tr>\n",
       "    <tr>\n",
       "      <th>3</th>\n",
       "      <td>196.069198</td>\n",
       "      <td>138.887360</td>\n",
       "      <td>136.070088</td>\n",
       "      <td>104.176471</td>\n",
       "      <td>89.501361</td>\n",
       "      <td>296.813194</td>\n",
       "      <td>100.487535</td>\n",
       "      <td>52.270833</td>\n",
       "    </tr>\n",
       "    <tr>\n",
       "      <th>4</th>\n",
       "      <td>197.714559</td>\n",
       "      <td>109.995305</td>\n",
       "      <td>110.781983</td>\n",
       "      <td>198.911050</td>\n",
       "      <td>46.159036</td>\n",
       "      <td>264.042808</td>\n",
       "      <td>62.338265</td>\n",
       "      <td>53.486597</td>\n",
       "    </tr>\n",
       "    <tr>\n",
       "      <th>5</th>\n",
       "      <td>291.546032</td>\n",
       "      <td>420.285417</td>\n",
       "      <td>287.009420</td>\n",
       "      <td>415.366667</td>\n",
       "      <td>NaN</td>\n",
       "      <td>122.500000</td>\n",
       "      <td>332.250000</td>\n",
       "      <td>71.433333</td>\n",
       "    </tr>\n",
       "    <tr>\n",
       "      <th>6</th>\n",
       "      <td>175.157235</td>\n",
       "      <td>105.244177</td>\n",
       "      <td>104.620583</td>\n",
       "      <td>172.707642</td>\n",
       "      <td>90.373312</td>\n",
       "      <td>291.408682</td>\n",
       "      <td>40.676733</td>\n",
       "      <td>56.678750</td>\n",
       "    </tr>\n",
       "    <tr>\n",
       "      <th>7</th>\n",
       "      <td>216.705586</td>\n",
       "      <td>130.428461</td>\n",
       "      <td>129.233836</td>\n",
       "      <td>236.993995</td>\n",
       "      <td>91.436594</td>\n",
       "      <td>283.895628</td>\n",
       "      <td>80.816343</td>\n",
       "      <td>54.326870</td>\n",
       "    </tr>\n",
       "  </tbody>\n",
       "</table>\n",
       "</div>"
      ],
      "text/plain": [
       "            time_rail_long_distance  time_rail_short_distance   time_rail  \\\n",
       "mode_model                                                                  \n",
       "1                        135.518142                 65.846534   65.846534   \n",
       "2                        167.203851                174.541633  167.203851   \n",
       "3                        196.069198                138.887360  136.070088   \n",
       "4                        197.714559                109.995305  110.781983   \n",
       "5                        291.546032                420.285417  287.009420   \n",
       "6                        175.157235                105.244177  104.620583   \n",
       "7                        216.705586                130.428461  129.233836   \n",
       "\n",
       "            time_coach    time_bus    time_air    time_car  time_walk  \n",
       "mode_model                                                             \n",
       "1           130.443089   91.870660  265.359350   52.163362  55.793799  \n",
       "2           235.366255  103.670423  242.954056  160.464892  60.218333  \n",
       "3           104.176471   89.501361  296.813194  100.487535  52.270833  \n",
       "4           198.911050   46.159036  264.042808   62.338265  53.486597  \n",
       "5           415.366667         NaN  122.500000  332.250000  71.433333  \n",
       "6           172.707642   90.373312  291.408682   40.676733  56.678750  \n",
       "7           236.993995   91.436594  283.895628   80.816343  54.326870  "
      ]
     },
     "execution_count": 17,
     "metadata": {},
     "output_type": "execute_result"
    }
   ],
   "source": [
    "trips.replace({np.inf:np.nan}).groupby('mode_model').agg(\n",
    "    {'time_rail_long_distance': 'mean', 'time_rail_short_distance': 'mean',\n",
    "     'time_rail': 'mean', 'time_coach': 'mean', 'time_bus': 'mean',\n",
    "     'time_air': 'mean', 'time_car': 'mean', 'time_walk': 'mean'})"
   ]
  },
  {
   "cell_type": "code",
   "execution_count": 18,
   "metadata": {},
   "outputs": [
    {
     "name": "stdout",
     "output_type": "stream",
     "text": [
      "rail_short_distance: 0 observations have no model connection (0.0 percent)\n",
      "rail_long_distance: 0 observations have no model connection (0.0 percent)\n",
      "coach: 0 observations have no model connection (0.0 percent)\n",
      "bus: 0 observations have no model connection (0.0 percent)\n",
      "air: 0 observations have no model connection (0.0 percent)\n",
      "car: 0 observations have no model connection (0.0 percent)\n",
      "walk: 0 observations have no model connection (0.0 percent)\n"
     ]
    }
   ],
   "source": [
    "# How many observations must be dropped later and what are their shares?\n",
    "mode_dict = {1: 'rail_short_distance', 2: 'rail_long_distance',\n",
    "             3: 'coach', 4: 'bus', 5: 'air', 6: 'car', 7: 'walk'}\n",
    "mode_dict = {v:k for k,v in mode_dict.items()}\n",
    "for t in mode_dict.keys():\n",
    "    k = len(trips.loc[((trips['mode_model']==mode_dict[t]) & (trips['time_'+t]==np.inf))])\n",
    "    print('{}: {} observations have no model connection ({} percent)'.format(\n",
    "        t, k, k/len(trips.loc[trips['mode_model']==mode_dict[t]])*100))"
   ]
  },
  {
   "cell_type": "markdown",
   "metadata": {},
   "source": [
    "### Save calibration dataset"
   ]
  },
  {
   "cell_type": "code",
   "execution_count": 19,
   "metadata": {},
   "outputs": [],
   "source": [
    "trips.to_csv(input_path + 'calibration_inter-cellular_trips_MiD2017.csv')"
   ]
  }
 ],
 "metadata": {
  "kernelspec": {
   "display_name": "Python 3",
   "language": "python",
   "name": "python3"
  },
  "language_info": {
   "codemirror_mode": {
    "name": "ipython",
    "version": 3
   },
   "file_extension": ".py",
   "mimetype": "text/x-python",
   "name": "python",
   "nbconvert_exporter": "python",
   "pygments_lexer": "ipython3",
   "version": "3.8.1"
  }
 },
 "nbformat": 4,
 "nbformat_minor": 4
}
