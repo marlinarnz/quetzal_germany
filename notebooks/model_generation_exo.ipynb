{
 "cells": [
  {
   "cell_type": "code",
   "execution_count": 1,
   "id": "aae6f93a",
   "metadata": {},
   "outputs": [],
   "source": [
    "import sys # for automation and parallelisation\n",
    "manual, scenario = (True, 'base') if 'ipykernel' in sys.argv[0] else (False, sys.argv[1])"
   ]
  },
  {
   "cell_type": "code",
   "execution_count": 2,
   "id": "12b8bed7",
   "metadata": {},
   "outputs": [],
   "source": [
    "import pandas as pd\n",
    "import numpy as np\n",
    "from quetzal.model import stepmodel\n",
    "from quetzal.io import excel"
   ]
  },
  {
   "cell_type": "code",
   "execution_count": 3,
   "id": "524fd039",
   "metadata": {},
   "outputs": [],
   "source": [
    "model_path = '../model/' + scenario + '/'\n",
    "input_path = '../input/'\n",
    "input_static_path = '../input_static/'\n",
    "output_path = '../output/'"
   ]
  },
  {
   "cell_type": "code",
   "execution_count": 4,
   "id": "d1e2ff11",
   "metadata": {},
   "outputs": [],
   "source": [
    "# Load parameters for settings\n",
    "params = excel.read_var(file='../input/parameters.xls', scenario=scenario)"
   ]
  },
  {
   "cell_type": "markdown",
   "id": "4eac6c90",
   "metadata": {
    "tags": []
   },
   "source": [
    "# Trips per person from MiD2017\n",
    "\n",
    "(Ortuzar 2011 [S. 166], Daly 1997): Define groups of individuals and determine for each group the number of trips per purpose.\n",
    "\n",
    "Here the group of individuals is given by car availability and the urbanisation degree of the home zone. The deterimination of the number of trip per purpose is done by taking the mean value of number of reported trips per person in MiD2017. "
   ]
  },
  {
   "cell_type": "code",
   "execution_count": 5,
   "id": "f3e07828",
   "metadata": {},
   "outputs": [],
   "source": [
    "# Choose purposes for which volume data will be saved\n",
    "purposes = ['shopping', 'errands', 'leisure', 'accompany']"
   ]
  },
  {
   "cell_type": "code",
   "execution_count": 6,
   "id": "44d0a6a7",
   "metadata": {},
   "outputs": [],
   "source": [
    "# Load data on trips and persons from MiD survey\n",
    "trips = pd.read_csv(input_path + 'transport_demand/calibration_all_trips_MiD2017.csv',\n",
    "                    usecols=['P_ID', 'W_HOCH', 'urbanisation', 'purpose_model', 'car_avail',\n",
    "                             'origin', 'destination', 'RegioStaR7'])\n",
    "persons = pd.read_csv(input_path + 'transport_demand/MiD2017_Regional_Personen.csv', sep=';', decimal=',',\n",
    "                      usecols=['HP_ID_Reg', 'P_HOCH', 'P_GEW', 'P_RBW_ANZ'])\n",
    "# Define and rename relevant columns\n",
    "persons = persons[['HP_ID_Reg', 'P_HOCH', 'P_GEW', 'P_RBW_ANZ']]\n",
    "persons.columns = ['P_ID', 'P_HOCH', 'weight', 'num_rbw']\n",
    "# clip person informations to trips table\n",
    "trips = trips.merge(persons, on='P_ID')"
   ]
  },
  {
   "cell_type": "code",
   "execution_count": 7,
   "id": "16b99e8e",
   "metadata": {},
   "outputs": [
    {
     "data": {
      "text/plain": [
       "66.87158982564762"
      ]
     },
     "execution_count": 7,
     "metadata": {},
     "output_type": "execute_result"
    }
   ],
   "source": [
    "# total trips per day (million)\n",
    "# Only trips with specified origin and destination and other filters as in cal10\n",
    "total_trips_MiD = trips['W_HOCH'].sum() / 1e6\n",
    "total_trips_MiD"
   ]
  },
  {
   "cell_type": "code",
   "execution_count": 8,
   "id": "1a10f168",
   "metadata": {},
   "outputs": [
    {
     "data": {
      "text/plain": [
       "82.17568400000002"
      ]
     },
     "execution_count": 8,
     "metadata": {},
     "output_type": "execute_result"
    }
   ],
   "source": [
    "# Total population of Germany in 2017 (million)\n",
    "total_pop_MiD = persons['P_HOCH'].sum() / 1e6\n",
    "total_pop_MiD"
   ]
  },
  {
   "cell_type": "code",
   "execution_count": 9,
   "id": "221d881f",
   "metadata": {},
   "outputs": [
    {
     "data": {
      "text/plain": [
       "(254861, 11)"
      ]
     },
     "execution_count": 9,
     "metadata": {},
     "output_type": "execute_result"
    }
   ],
   "source": [
    "# drop ureported car availability\n",
    "trips = trips.loc[trips['car_avail'].isin([0,1])]\n",
    "# set unreported number of regular business trips (regelmäßige berufliche Wege, rbw) to 0\n",
    "rbw_dict = {n: 0 for n in [94, 99, 200, 607, 608]}\n",
    "trips['num_rbw'] = trips['num_rbw'].replace(rbw_dict)\n",
    "trips.shape"
   ]
  },
  {
   "cell_type": "code",
   "execution_count": 10,
   "id": "d23d0cbd",
   "metadata": {},
   "outputs": [],
   "source": [
    "# get trips per person for each segment\n",
    "urban_pop_dict = trips.drop_duplicates('P_ID').groupby('RegioStaR7').sum()['P_HOCH'].to_dict()\n",
    "def trips_per_person(g):\n",
    "    #share_inter = len(g.loc[g['origin']!=g['destination']]) / len(g)\n",
    "    return g['W_HOCH'].sum() / urban_pop_dict[g['RegioStaR7'].unique()[0]]# * share_inter\n",
    "segmented_trips_pp = trips.groupby(['RegioStaR7', 'purpose_model', 'car_avail']\n",
    "                                  ).apply(trips_per_person)"
   ]
  },
  {
   "cell_type": "markdown",
   "id": "dedf6506",
   "metadata": {},
   "source": [
    "## Save generation volumes in model zones"
   ]
  },
  {
   "cell_type": "code",
   "execution_count": 11,
   "id": "b61960e3",
   "metadata": {},
   "outputs": [],
   "source": [
    "sm = stepmodel.read_json(model_path + 'de_zones')"
   ]
  },
  {
   "cell_type": "code",
   "execution_count": 12,
   "id": "d455f57d-534b-41fe-a422-17c171792bea",
   "metadata": {},
   "outputs": [],
   "source": [
    "# Load RegioStaR categories\n",
    "regiostar = pd.read_excel(input_static_path + 'spatial_RegioStaR-PLZ.xlsx', sheet_name='ReferenzGebietsstand2022')\n",
    "regiostar = regiostar.drop_duplicates('vbgemrs_22').set_index('vbgemrs_22')['RegioStaR7']\n",
    "sm.zones['RegioStaR7'] = sm.zones['FID'].map(regiostar).fillna(77)"
   ]
  },
  {
   "cell_type": "code",
   "execution_count": 17,
   "id": "1821588d",
   "metadata": {},
   "outputs": [],
   "source": [
    "# Put trip generation in zones table\n",
    "car_names = {0: '_no_car', 1: '_car'}\n",
    "for p in purposes:\n",
    "    for c in [0,1]:\n",
    "        sm.zones[p+car_names[c]] = [segmented_trips_pp[(u,p,c)] * pop * 365\n",
    "                                    for u, pop in zip(sm.zones['RegioStaR7'],\n",
    "                                                      sm.zones['population'])]"
   ]
  },
  {
   "cell_type": "code",
   "execution_count": 20,
   "id": "4e6cc1a6",
   "metadata": {},
   "outputs": [],
   "source": [
    "sm.zones[[p+car_names[c] for p in purposes for c in [0,1]]].to_csv(\n",
    "    model_path + 'generation_volumes.csv')"
   ]
  },
  {
   "cell_type": "markdown",
   "id": "874f1bba-061f-4790-8375-f661da3d65f5",
   "metadata": {},
   "source": [
    "## Save inner-zonal probabilities by urbanisation degree"
   ]
  },
  {
   "cell_type": "code",
   "execution_count": 37,
   "id": "7494228b-196c-4acf-9a26-6ef63fbf3d46",
   "metadata": {},
   "outputs": [],
   "source": [
    "inner_shares = trips.groupby(['RegioStaR7', 'purpose_model', 'car_avail']).apply(\n",
    "    lambda g: len(g.loc[g['origin']==g['destination']]) / len(g))\n",
    "inner_shares = inner_shares.unstack('purpose_model').unstack('car_avail')\n",
    "inner_shares.columns = [p+car_names[car] for p in inner_shares.columns.get_level_values(0)[::2] for car in [0,1]]\n",
    "for u in inner_shares.index:\n",
    "    inner_shares.loc[u] = inner_shares.loc[u].fillna(inner_shares.loc[u].mean())\n",
    "    inner_shares.loc[u, inner_shares.loc[u]<=0.1] = inner_shares.loc[u].mean()\n",
    "    inner_shares.loc[u, inner_shares.loc[u]>0.98] = inner_shares.loc[u].mean()"
   ]
  },
  {
   "cell_type": "code",
   "execution_count": 40,
   "id": "e74e93b4-8f02-410a-924e-c8eefecbef26",
   "metadata": {},
   "outputs": [],
   "source": [
    "inner_shares.to_csv(input_path + 'inner-zonal_probabilities_agg_urban.csv')"
   ]
  }
 ],
 "metadata": {
  "kernelspec": {
   "display_name": "Python 3 (ipykernel)",
   "language": "python",
   "name": "python3"
  },
  "language_info": {
   "codemirror_mode": {
    "name": "ipython",
    "version": 3
   },
   "file_extension": ".py",
   "mimetype": "text/x-python",
   "name": "python",
   "nbconvert_exporter": "python",
   "pygments_lexer": "ipython3",
   "version": "3.10.14"
  }
 },
 "nbformat": 4,
 "nbformat_minor": 5
}
