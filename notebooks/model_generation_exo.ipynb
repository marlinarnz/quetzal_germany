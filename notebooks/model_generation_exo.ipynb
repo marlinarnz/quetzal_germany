{
 "cells": [
  {
   "cell_type": "code",
   "execution_count": 1,
   "id": "aae6f93a",
   "metadata": {},
   "outputs": [
    {
     "name": "stderr",
     "output_type": "stream",
     "text": [
      "\n",
      "Bad key text.latex.preview in file C:\\Users\\marlin.arnz\\AppData\\Local\\Continuum\\miniconda3\\envs\\quetzal\\lib\\site-packages\\matplotlib\\mpl-data\\stylelib\\_classic_test.mplstyle, line 123 ('text.latex.preview : False')\n",
      "You probably need to get an updated matplotlibrc file from\n",
      "https://github.com/matplotlib/matplotlib/blob/v3.5.2/matplotlibrc.template\n",
      "or from the matplotlib source distribution\n",
      "\n",
      "Bad key mathtext.fallback_to_cm in file C:\\Users\\marlin.arnz\\AppData\\Local\\Continuum\\miniconda3\\envs\\quetzal\\lib\\site-packages\\matplotlib\\mpl-data\\stylelib\\_classic_test.mplstyle, line 155 ('mathtext.fallback_to_cm : True  # When True, use symbols from the Computer Modern')\n",
      "You probably need to get an updated matplotlibrc file from\n",
      "https://github.com/matplotlib/matplotlib/blob/v3.5.2/matplotlibrc.template\n",
      "or from the matplotlib source distribution\n",
      "\n",
      "Bad key savefig.jpeg_quality in file C:\\Users\\marlin.arnz\\AppData\\Local\\Continuum\\miniconda3\\envs\\quetzal\\lib\\site-packages\\matplotlib\\mpl-data\\stylelib\\_classic_test.mplstyle, line 418 ('savefig.jpeg_quality: 95       # when a jpeg is saved, the default quality parameter.')\n",
      "You probably need to get an updated matplotlibrc file from\n",
      "https://github.com/matplotlib/matplotlib/blob/v3.5.2/matplotlibrc.template\n",
      "or from the matplotlib source distribution\n",
      "\n",
      "Bad key keymap.all_axes in file C:\\Users\\marlin.arnz\\AppData\\Local\\Continuum\\miniconda3\\envs\\quetzal\\lib\\site-packages\\matplotlib\\mpl-data\\stylelib\\_classic_test.mplstyle, line 466 ('keymap.all_axes : a                 # enable all axes')\n",
      "You probably need to get an updated matplotlibrc file from\n",
      "https://github.com/matplotlib/matplotlib/blob/v3.5.2/matplotlibrc.template\n",
      "or from the matplotlib source distribution\n",
      "\n",
      "Bad key animation.avconv_path in file C:\\Users\\marlin.arnz\\AppData\\Local\\Continuum\\miniconda3\\envs\\quetzal\\lib\\site-packages\\matplotlib\\mpl-data\\stylelib\\_classic_test.mplstyle, line 477 ('animation.avconv_path: avconv     # Path to avconv binary. Without full path')\n",
      "You probably need to get an updated matplotlibrc file from\n",
      "https://github.com/matplotlib/matplotlib/blob/v3.5.2/matplotlibrc.template\n",
      "or from the matplotlib source distribution\n",
      "\n",
      "Bad key animation.avconv_args in file C:\\Users\\marlin.arnz\\AppData\\Local\\Continuum\\miniconda3\\envs\\quetzal\\lib\\site-packages\\matplotlib\\mpl-data\\stylelib\\_classic_test.mplstyle, line 479 ('animation.avconv_args:            # Additional arguments to pass to avconv')\n",
      "You probably need to get an updated matplotlibrc file from\n",
      "https://github.com/matplotlib/matplotlib/blob/v3.5.2/matplotlibrc.template\n",
      "or from the matplotlib source distribution\n"
     ]
    }
   ],
   "source": [
    "import sys # for automation and parallelisation\n",
    "manual, scenario = (True, 'base') if 'ipykernel' in sys.argv[0] else (False, sys.argv[1])\n",
    "if manual:\n",
    "    %matplotlib inline"
   ]
  },
  {
   "cell_type": "code",
   "execution_count": 2,
   "id": "12b8bed7",
   "metadata": {},
   "outputs": [],
   "source": [
    "import pandas as pd\n",
    "import numpy as np\n",
    "from quetzal.model import stepmodel\n",
    "from quetzal.io import excel"
   ]
  },
  {
   "cell_type": "code",
   "execution_count": 3,
   "id": "524fd039",
   "metadata": {},
   "outputs": [],
   "source": [
    "model_path = '../model/' + scenario + '/'\n",
    "input_path = '../input/'\n",
    "output_path = '../output/'"
   ]
  },
  {
   "cell_type": "code",
   "execution_count": 4,
   "id": "d1e2ff11",
   "metadata": {},
   "outputs": [],
   "source": [
    "# Load parameters for settings\n",
    "params = excel.read_var(file='../input/parameters.xls', scenario=scenario)"
   ]
  },
  {
   "cell_type": "markdown",
   "id": "4eac6c90",
   "metadata": {
    "tags": []
   },
   "source": [
    "# Trips per person from MiD2017\n",
    "\n",
    "(Ortuzar 2011 [S. 166], Daly 1997): Define groups of individuals and determine for each group the number of trips per purpose.\n",
    "\n",
    "Here the group of individuals is given by car availability and the urbanisation degree of the home zone. The deterimination of the number of trip per purpose is done by taking the mean value of number of reported trips per person in MiD2017. "
   ]
  },
  {
   "cell_type": "code",
   "execution_count": null,
   "id": "f3e07828",
   "metadata": {},
   "outputs": [],
   "source": [
    "# Choose purposes for which volume data will be saved\n",
    "purposes = ['buy/execute', 'leisure', 'accompany']"
   ]
  },
  {
   "cell_type": "code",
   "execution_count": 5,
   "id": "44d0a6a7",
   "metadata": {},
   "outputs": [],
   "source": [
    "# Load data on trips and persons from MiD survey\n",
    "trips = pd.read_csv(input_path + 'transport_demand/calibration_all_trips_MiD2017.csv',\n",
    "                    usecols=['P_ID', 'W_HOCH', 'urbanisation', 'purpose_model', 'car_avail',\n",
    "                             'origin', 'destination'])\n",
    "persons = pd.read_csv(input_path + 'transport_demand/MiD2017_Regional_Personen.csv', sep=';', decimal=',',\n",
    "                      usecols=['HP_ID_Reg', 'P_HOCH', 'P_GEW', 'P_RBW_ANZ'])\n",
    "# Define and rename relevant columns\n",
    "persons = persons[['HP_ID_Reg', 'P_HOCH', 'P_GEW', 'P_RBW_ANZ']]\n",
    "persons.columns = ['P_ID', 'P_HOCH', 'weight', 'num_rbw']\n",
    "# clip person informations to trips table\n",
    "trips = trips.merge(persons, on='P_ID')"
   ]
  },
  {
   "cell_type": "code",
   "execution_count": 6,
   "id": "16b99e8e",
   "metadata": {},
   "outputs": [
    {
     "data": {
      "text/plain": [
       "67.25827528747712"
      ]
     },
     "execution_count": 6,
     "metadata": {},
     "output_type": "execute_result"
    }
   ],
   "source": [
    "# total trips per day (million)\n",
    "# Only trips with specified origin and destination and other filters as in cal10\n",
    "total_trips_MiD = trips['W_HOCH'].sum() / 1e6\n",
    "total_trips_MiD"
   ]
  },
  {
   "cell_type": "code",
   "execution_count": 7,
   "id": "1a10f168",
   "metadata": {},
   "outputs": [
    {
     "data": {
      "text/plain": [
       "82.17568400000002"
      ]
     },
     "execution_count": 7,
     "metadata": {},
     "output_type": "execute_result"
    }
   ],
   "source": [
    "# Total population of Germany in 2017 (million)\n",
    "total_pop_MiD = persons['P_HOCH'].sum() / 1e6\n",
    "total_pop_MiD"
   ]
  },
  {
   "cell_type": "code",
   "execution_count": 8,
   "id": "221d881f",
   "metadata": {},
   "outputs": [
    {
     "data": {
      "text/plain": [
       "(260709, 10)"
      ]
     },
     "execution_count": 8,
     "metadata": {},
     "output_type": "execute_result"
    }
   ],
   "source": [
    "# drop ureported car availability\n",
    "trips = trips.loc[trips['car_avail'].isin([0,1])]\n",
    "# set unreported number of regular business trips (regelmäßige berufliche Wege, rbw) to 0\n",
    "rbw_dict = {n: 0 for n in [94, 99, 200, 607, 608]}\n",
    "trips['num_rbw'] = trips['num_rbw'].replace(rbw_dict)\n",
    "trips.shape"
   ]
  },
  {
   "cell_type": "code",
   "execution_count": 9,
   "id": "d23d0cbd",
   "metadata": {},
   "outputs": [],
   "source": [
    "# get trips per person for each segment\n",
    "urban_pop_dict = trips.drop_duplicates('P_ID').groupby('urbanisation').sum()['P_HOCH'].to_dict()\n",
    "def trips_per_person(g):\n",
    "    return g['W_HOCH'].sum() / urban_pop_dict[g['urbanisation'].unique()[0]]\n",
    "segmented_trips_pp = trips.groupby(['urbanisation', 'purpose_model', 'car_avail']\n",
    "                                  ).apply(trips_per_person)"
   ]
  },
  {
   "cell_type": "markdown",
   "id": "dedf6506",
   "metadata": {},
   "source": [
    "## Save generation volumes in model zones"
   ]
  },
  {
   "cell_type": "code",
   "execution_count": 10,
   "id": "b61960e3",
   "metadata": {},
   "outputs": [],
   "source": [
    "sm = stepmodel.read_json(model_path + 'de_zones')"
   ]
  },
  {
   "cell_type": "code",
   "execution_count": null,
   "id": "1821588d",
   "metadata": {},
   "outputs": [],
   "source": [
    "# Put trip generation in zones table\n",
    "car_names = {0: '_no_car', 1: '_car'}\n",
    "for p in purposes:\n",
    "    for c in [0,1]:\n",
    "        sm.zones[p+car_names[c]] = [segmented_trips_pp[(u,p,c)] * pop * 365\n",
    "                                    for u, pop in zip(sm.zones['urbanisation'],\n",
    "                                                      sm.zones['population'])]"
   ]
  },
  {
   "cell_type": "code",
   "execution_count": null,
   "id": "4e6cc1a6",
   "metadata": {},
   "outputs": [],
   "source": [
    "sm.zones[[p+car_names[c] for p in purposes for c in [0,1]]].to_csv(\n",
    "    input_path + 'generation_volumes.csv')"
   ]
  }
 ],
 "metadata": {
  "kernelspec": {
   "display_name": "Python 3 (ipykernel)",
   "language": "python",
   "name": "python3"
  },
  "language_info": {
   "codemirror_mode": {
    "name": "ipython",
    "version": 3
   },
   "file_extension": ".py",
   "mimetype": "text/x-python",
   "name": "python",
   "nbconvert_exporter": "python",
   "pygments_lexer": "ipython3",
   "version": "3.8.13"
  }
 },
 "nbformat": 4,
 "nbformat_minor": 5
}
