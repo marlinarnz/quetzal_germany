{
 "cells": [
  {
   "cell_type": "code",
   "execution_count": 1,
   "metadata": {},
   "outputs": [
    {
     "name": "stderr",
     "output_type": "stream",
     "text": [
      "In C:\\Users\\marlin.arnz\\AppData\\Local\\Continuum\\miniconda3\\envs\\quetzal\\lib\\site-packages\\matplotlib\\mpl-data\\stylelib\\_classic_test.mplstyle: \n",
      "The text.latex.preview rcparam was deprecated in Matplotlib 3.3 and will be removed two minor releases later.\n",
      "In C:\\Users\\marlin.arnz\\AppData\\Local\\Continuum\\miniconda3\\envs\\quetzal\\lib\\site-packages\\matplotlib\\mpl-data\\stylelib\\_classic_test.mplstyle: \n",
      "The mathtext.fallback_to_cm rcparam was deprecated in Matplotlib 3.3 and will be removed two minor releases later.\n",
      "In C:\\Users\\marlin.arnz\\AppData\\Local\\Continuum\\miniconda3\\envs\\quetzal\\lib\\site-packages\\matplotlib\\mpl-data\\stylelib\\_classic_test.mplstyle: Support for setting the 'mathtext.fallback_to_cm' rcParam is deprecated since 3.3 and will be removed two minor releases later; use 'mathtext.fallback : 'cm' instead.\n",
      "In C:\\Users\\marlin.arnz\\AppData\\Local\\Continuum\\miniconda3\\envs\\quetzal\\lib\\site-packages\\matplotlib\\mpl-data\\stylelib\\_classic_test.mplstyle: \n",
      "The validate_bool_maybe_none function was deprecated in Matplotlib 3.3 and will be removed two minor releases later.\n",
      "In C:\\Users\\marlin.arnz\\AppData\\Local\\Continuum\\miniconda3\\envs\\quetzal\\lib\\site-packages\\matplotlib\\mpl-data\\stylelib\\_classic_test.mplstyle: \n",
      "The savefig.jpeg_quality rcparam was deprecated in Matplotlib 3.3 and will be removed two minor releases later.\n",
      "In C:\\Users\\marlin.arnz\\AppData\\Local\\Continuum\\miniconda3\\envs\\quetzal\\lib\\site-packages\\matplotlib\\mpl-data\\stylelib\\_classic_test.mplstyle: \n",
      "The keymap.all_axes rcparam was deprecated in Matplotlib 3.3 and will be removed two minor releases later.\n",
      "In C:\\Users\\marlin.arnz\\AppData\\Local\\Continuum\\miniconda3\\envs\\quetzal\\lib\\site-packages\\matplotlib\\mpl-data\\stylelib\\_classic_test.mplstyle: \n",
      "The animation.avconv_path rcparam was deprecated in Matplotlib 3.3 and will be removed two minor releases later.\n",
      "In C:\\Users\\marlin.arnz\\AppData\\Local\\Continuum\\miniconda3\\envs\\quetzal\\lib\\site-packages\\matplotlib\\mpl-data\\stylelib\\_classic_test.mplstyle: \n",
      "The animation.avconv_args rcparam was deprecated in Matplotlib 3.3 and will be removed two minor releases later.\n"
     ]
    }
   ],
   "source": [
    "import os\n",
    "import pandas as pd\n",
    "import numpy as np\n",
    "import geopandas as gpd\n",
    "from tqdm import tqdm\n",
    "from geopy.distance import geodesic\n",
    "from quetzal.model import stepmodel"
   ]
  },
  {
   "cell_type": "markdown",
   "metadata": {},
   "source": [
    "# Preparation of the LoS tables\n",
    "## Corrects footpaths in the LoS table\n",
    "## Needs PT LoS table and footpaths"
   ]
  },
  {
   "cell_type": "code",
   "execution_count": 2,
   "metadata": {},
   "outputs": [],
   "source": [
    "input_path = '../input_static/spatial_'\n",
    "output_path = '../output/'\n",
    "model_path = '../model/'"
   ]
  },
  {
   "cell_type": "code",
   "execution_count": 3,
   "metadata": {},
   "outputs": [],
   "source": [
    "sm = stepmodel.read_json(model_path + 'de_pt_los')\n",
    "ae = stepmodel.read_json(model_path + 'de_pt_access_egress')"
   ]
  },
  {
   "cell_type": "markdown",
   "metadata": {},
   "source": [
    "The only kind of all-walk connections between centroids should be direct connections without intermediate stops at PT nodes because these are always connected to access/egress links which have non-footpath properties.\n",
    "\n",
    "Thus, footpaths already computed in prep2 will be parametrised with census based mean distances."
   ]
  },
  {
   "cell_type": "code",
   "execution_count": 4,
   "metadata": {},
   "outputs": [],
   "source": [
    "# Load census data: Zensus 2011 - Einwohnerzahl je Hektar\n",
    "# Copyright: © Statistisches Bundesamt, Wiesbaden 2015\n",
    "# (im Auftrag der Herausgebergemeinschaft)\n",
    "# Vervielfältigung und Verbreitung, auch auszugsweise, mit Quellenangabe gestattet\n",
    "if os.path.isfile(input_path + 'Zensus_2011.geojson'):\n",
    "    pop = gpd.read_file(input_path + 'Zensus_2011.geojson', driver='GeoJSON')\n",
    "else:\n",
    "    print('No file with geometries found')\n",
    "    import shapely.speedups\n",
    "    pop = pd.read_csv(input_path + 'Zensus_2011.csv', sep=';')\n",
    "    # Restrict to entries that hold information\n",
    "    pop = pop.loc[pop['Einwohner']!=-1]\n",
    "    pop = gpd.GeoDataFrame(pop[['Einwohner']],\n",
    "                          geometry=gpd.points_from_xy(pop['x_mp_100m'], pop['y_mp_100m']))\n",
    "    pop.crs = 3035\n",
    "    pop.to_crs(sm.epsg, inplace=True)\n",
    "    pop['FID'] = np.nan\n",
    "    z = stepmodel.read_zip(model_path + 'de_zones.zip')\n",
    "    shapely.speedups.enable\n",
    "    for _, zone in tqdm(z.zones.iterrows(), total=z.zones.shape[0]):\n",
    "        pop.loc[pop['geometry'].within(zone['geometry']), 'FID'] = zone['FID']\n",
    "    pop.to_file(input_path + 'Zensus_2011.geojson', driver='GeoJSON')"
   ]
  },
  {
   "cell_type": "code",
   "execution_count": 5,
   "metadata": {},
   "outputs": [
    {
     "data": {
      "text/html": [
       "<div>\n",
       "<style scoped>\n",
       "    .dataframe tbody tr th:only-of-type {\n",
       "        vertical-align: middle;\n",
       "    }\n",
       "\n",
       "    .dataframe tbody tr th {\n",
       "        vertical-align: top;\n",
       "    }\n",
       "\n",
       "    .dataframe thead th {\n",
       "        text-align: right;\n",
       "    }\n",
       "</style>\n",
       "<table border=\"1\" class=\"dataframe\">\n",
       "  <thead>\n",
       "    <tr style=\"text-align: right;\">\n",
       "      <th></th>\n",
       "      <th>Einwohner</th>\n",
       "      <th>NUTS_ID</th>\n",
       "      <th>FID</th>\n",
       "      <th>geometry</th>\n",
       "    </tr>\n",
       "  </thead>\n",
       "  <tbody>\n",
       "    <tr>\n",
       "      <th>1651944</th>\n",
       "      <td>9</td>\n",
       "      <td>DED21</td>\n",
       "      <td>DED21</td>\n",
       "      <td>POINT (13.73385 51.11175)</td>\n",
       "    </tr>\n",
       "  </tbody>\n",
       "</table>\n",
       "</div>"
      ],
      "text/plain": [
       "         Einwohner NUTS_ID    FID                   geometry\n",
       "1651944          9   DED21  DED21  POINT (13.73385 51.11175)"
      ]
     },
     "execution_count": 5,
     "metadata": {},
     "output_type": "execute_result"
    }
   ],
   "source": [
    "pop.sample()"
   ]
  },
  {
   "cell_type": "code",
   "execution_count": 6,
   "metadata": {},
   "outputs": [],
   "source": [
    "# Drop walking links that use access-egress links\n",
    "sm.pt_los = sm.pt_los.loc[sm.pt_los['route_type']!='walk']"
   ]
  },
  {
   "cell_type": "code",
   "execution_count": 7,
   "metadata": {},
   "outputs": [
    {
     "data": {
      "text/html": [
       "<div>\n",
       "<style scoped>\n",
       "    .dataframe tbody tr th:only-of-type {\n",
       "        vertical-align: middle;\n",
       "    }\n",
       "\n",
       "    .dataframe tbody tr th {\n",
       "        vertical-align: top;\n",
       "    }\n",
       "\n",
       "    .dataframe thead th {\n",
       "        text-align: right;\n",
       "    }\n",
       "</style>\n",
       "<table border=\"1\" class=\"dataframe\">\n",
       "  <thead>\n",
       "    <tr style=\"text-align: right;\">\n",
       "      <th></th>\n",
       "      <th>origin</th>\n",
       "      <th>destination</th>\n",
       "      <th>route_types</th>\n",
       "      <th>link_path</th>\n",
       "      <th>ntransfers</th>\n",
       "      <th>length</th>\n",
       "      <th>access_time</th>\n",
       "      <th>footpath_time</th>\n",
       "      <th>in_vehicle_time</th>\n",
       "      <th>waiting_time</th>\n",
       "      <th>time</th>\n",
       "      <th>route_type</th>\n",
       "      <th>price</th>\n",
       "      <th>accessibility</th>\n",
       "    </tr>\n",
       "    <tr>\n",
       "      <th>index</th>\n",
       "      <th></th>\n",
       "      <th></th>\n",
       "      <th></th>\n",
       "      <th></th>\n",
       "      <th></th>\n",
       "      <th></th>\n",
       "      <th></th>\n",
       "      <th></th>\n",
       "      <th></th>\n",
       "      <th></th>\n",
       "      <th></th>\n",
       "      <th></th>\n",
       "      <th></th>\n",
       "      <th></th>\n",
       "    </tr>\n",
       "  </thead>\n",
       "  <tbody>\n",
       "    <tr>\n",
       "      <th>113930</th>\n",
       "      <td>DE24A</td>\n",
       "      <td>DE25A</td>\n",
       "      <td>[rail_long]</td>\n",
       "      <td>[r_l_3695, r_l_3696, r_l_3697, r_l_3698, r_l_8...</td>\n",
       "      <td>2</td>\n",
       "      <td>233751</td>\n",
       "      <td>4829</td>\n",
       "      <td>0</td>\n",
       "      <td>6180</td>\n",
       "      <td>3600</td>\n",
       "      <td>14609</td>\n",
       "      <td>rail_long</td>\n",
       "      <td>34.287562</td>\n",
       "      <td>0.0</td>\n",
       "    </tr>\n",
       "  </tbody>\n",
       "</table>\n",
       "</div>"
      ],
      "text/plain": [
       "       origin destination  route_types  \\\n",
       "index                                    \n",
       "113930  DE24A       DE25A  [rail_long]   \n",
       "\n",
       "                                                link_path  ntransfers  length  \\\n",
       "index                                                                           \n",
       "113930  [r_l_3695, r_l_3696, r_l_3697, r_l_3698, r_l_8...           2  233751   \n",
       "\n",
       "        access_time  footpath_time  in_vehicle_time  waiting_time   time  \\\n",
       "index                                                                      \n",
       "113930         4829              0             6180          3600  14609   \n",
       "\n",
       "       route_type      price  accessibility  \n",
       "index                                        \n",
       "113930  rail_long  34.287562            0.0  "
      ]
     },
     "execution_count": 7,
     "metadata": {},
     "output_type": "execute_result"
    }
   ],
   "source": [
    "sm.pt_los.sample()"
   ]
  },
  {
   "cell_type": "code",
   "execution_count": 8,
   "metadata": {},
   "outputs": [
    {
     "name": "stdout",
     "output_type": "stream",
     "text": [
      "438\n"
     ]
    },
    {
     "data": {
      "text/html": [
       "<div>\n",
       "<style scoped>\n",
       "    .dataframe tbody tr th:only-of-type {\n",
       "        vertical-align: middle;\n",
       "    }\n",
       "\n",
       "    .dataframe tbody tr th {\n",
       "        vertical-align: top;\n",
       "    }\n",
       "\n",
       "    .dataframe thead th {\n",
       "        text-align: right;\n",
       "    }\n",
       "</style>\n",
       "<table border=\"1\" class=\"dataframe\">\n",
       "  <thead>\n",
       "    <tr style=\"text-align: right;\">\n",
       "      <th></th>\n",
       "      <th>a</th>\n",
       "      <th>b</th>\n",
       "      <th>length</th>\n",
       "      <th>time</th>\n",
       "      <th>geometry</th>\n",
       "    </tr>\n",
       "    <tr>\n",
       "      <th>index</th>\n",
       "      <th></th>\n",
       "      <th></th>\n",
       "      <th></th>\n",
       "      <th></th>\n",
       "      <th></th>\n",
       "    </tr>\n",
       "  </thead>\n",
       "  <tbody>\n",
       "    <tr>\n",
       "      <th>foot_9976</th>\n",
       "      <td>DE27A</td>\n",
       "      <td>DE148</td>\n",
       "      <td>25783</td>\n",
       "      <td>5459</td>\n",
       "      <td>LINESTRING (9.78004 47.82502, 9.85621 47.59888)</td>\n",
       "    </tr>\n",
       "  </tbody>\n",
       "</table>\n",
       "</div>"
      ],
      "text/plain": [
       "               a      b  length  time  \\\n",
       "index                                   \n",
       "foot_9976  DE27A  DE148   25783  5459   \n",
       "\n",
       "                                                  geometry  \n",
       "index                                                       \n",
       "foot_9976  LINESTRING (9.78004 47.82502, 9.85621 47.59888)  "
      ]
     },
     "execution_count": 8,
     "metadata": {},
     "output_type": "execute_result"
    }
   ],
   "source": [
    "# Get zone-connecting footpaths\n",
    "foot = ae.footpaths.loc[(ae.footpaths['a'].apply(lambda s: len(s.split('_'))<=2)) &\n",
    "                        (ae.footpaths['b'].apply(lambda s: len(s.split('_'))<=2))]\n",
    "print(len(foot))\n",
    "foot.sample()"
   ]
  },
  {
   "cell_type": "code",
   "execution_count": 9,
   "metadata": {},
   "outputs": [],
   "source": [
    "try:\n",
    "    speed = foot['speed'].mean() # in km/h\n",
    "except KeyError:\n",
    "    speed = 17\n",
    "foot = foot[['a', 'b']].copy()"
   ]
  },
  {
   "cell_type": "code",
   "execution_count": 10,
   "metadata": {},
   "outputs": [],
   "source": [
    "# Build all columns of LoS table\n",
    "foot['index'] = foot.index\n",
    "foot['path'] = [(a,i,b) for a,i,b in zip(foot['a'], foot.index, foot['b'])]\n",
    "foot.drop('index', axis=1, inplace=True)\n",
    "foot = foot.rename(columns={'a': 'origin', 'b': 'destination'})\n",
    "foot['link_path'] = [[] for _ in range(len(foot))]\n",
    "for col in ['ntransfers', 'access_time', 'footpath_time',\n",
    "            'in_vehicle_time', 'waiting_time',\n",
    "            'boarding_time', 'time', 'length', 'price']:\n",
    "    if col in sm.pt_los.columns:\n",
    "        foot[col] = 0\n",
    "foot['accessibility'] = 1\n",
    "foot['route_types'] = [('walk',) for _ in range(len(foot))]\n",
    "foot['route_type'] = 'walk'"
   ]
  },
  {
   "cell_type": "code",
   "execution_count": 11,
   "metadata": {},
   "outputs": [],
   "source": [
    "foot.drop_duplicates(subset=['origin', 'destination'], inplace=True)\n",
    "foot.reset_index(drop=True, inplace=True)"
   ]
  },
  {
   "cell_type": "code",
   "execution_count": 12,
   "metadata": {},
   "outputs": [
    {
     "data": {
      "text/html": [
       "<div>\n",
       "<style scoped>\n",
       "    .dataframe tbody tr th:only-of-type {\n",
       "        vertical-align: middle;\n",
       "    }\n",
       "\n",
       "    .dataframe tbody tr th {\n",
       "        vertical-align: top;\n",
       "    }\n",
       "\n",
       "    .dataframe thead th {\n",
       "        text-align: right;\n",
       "    }\n",
       "</style>\n",
       "<table border=\"1\" class=\"dataframe\">\n",
       "  <thead>\n",
       "    <tr style=\"text-align: right;\">\n",
       "      <th></th>\n",
       "      <th>origin</th>\n",
       "      <th>destination</th>\n",
       "      <th>path</th>\n",
       "      <th>link_path</th>\n",
       "      <th>ntransfers</th>\n",
       "      <th>access_time</th>\n",
       "      <th>footpath_time</th>\n",
       "      <th>in_vehicle_time</th>\n",
       "      <th>waiting_time</th>\n",
       "      <th>time</th>\n",
       "      <th>length</th>\n",
       "      <th>price</th>\n",
       "      <th>accessibility</th>\n",
       "      <th>route_types</th>\n",
       "      <th>route_type</th>\n",
       "    </tr>\n",
       "  </thead>\n",
       "  <tbody>\n",
       "    <tr>\n",
       "      <th>190</th>\n",
       "      <td>DEA33</td>\n",
       "      <td>DEA37</td>\n",
       "      <td>(DEA33, foot_9896, DEA37)</td>\n",
       "      <td>[]</td>\n",
       "      <td>0</td>\n",
       "      <td>0</td>\n",
       "      <td>0</td>\n",
       "      <td>0</td>\n",
       "      <td>0</td>\n",
       "      <td>0</td>\n",
       "      <td>0</td>\n",
       "      <td>0</td>\n",
       "      <td>1</td>\n",
       "      <td>(walk,)</td>\n",
       "      <td>walk</td>\n",
       "    </tr>\n",
       "  </tbody>\n",
       "</table>\n",
       "</div>"
      ],
      "text/plain": [
       "    origin destination                       path link_path  ntransfers  \\\n",
       "190  DEA33       DEA37  (DEA33, foot_9896, DEA37)        []           0   \n",
       "\n",
       "     access_time  footpath_time  in_vehicle_time  waiting_time  time  length  \\\n",
       "190            0              0                0             0     0       0   \n",
       "\n",
       "     price  accessibility route_types route_type  \n",
       "190      0              1     (walk,)       walk  "
      ]
     },
     "execution_count": 12,
     "metadata": {},
     "output_type": "execute_result"
    }
   ],
   "source": [
    "foot.sample()"
   ]
  },
  {
   "cell_type": "code",
   "execution_count": 13,
   "metadata": {
    "scrolled": true
   },
   "outputs": [
    {
     "name": "stderr",
     "output_type": "stream",
     "text": [
      "100%|████████████████████████████████████████████████████████████████████████████████| 438/438 [25:59<00:00,  3.56s/it]\n"
     ]
    }
   ],
   "source": [
    "# Calculate mean population-weighted distances\n",
    "# from the origin centroid to all points in the destination zone\n",
    "for ind, row in tqdm(foot.iterrows(), total=len(foot.index)):\n",
    "    o = ae.centroids.loc[row['origin'], 'geometry']\n",
    "    zone = pop.loc[pop['NUTS_ID']==row['destination']]\n",
    "    weighted_dist = [geodesic(o.coords, p['geometry'].coords).m\n",
    "                     * p['Einwohner'] for _, p in zone.iterrows()]\n",
    "    foot.loc[ind, 'length'] = sum(weighted_dist) / zone['Einwohner'].sum()"
   ]
  },
  {
   "cell_type": "code",
   "execution_count": 14,
   "metadata": {},
   "outputs": [
    {
     "data": {
      "text/plain": [
       "<AxesSubplot:>"
      ]
     },
     "execution_count": 14,
     "metadata": {},
     "output_type": "execute_result"
    },
    {
     "data": {
      "image/png": "[encoded data removed]",
      "text/plain": [
       "<Figure size 432x288 with 1 Axes>"
      ]
     },
     "metadata": {
      "needs_background": "light"
     },
     "output_type": "display_data"
    }
   ],
   "source": [
    "foot['length'].hist(bins=50)"
   ]
  },
  {
   "cell_type": "code",
   "execution_count": 15,
   "metadata": {},
   "outputs": [
    {
     "data": {
      "text/plain": [
       "<AxesSubplot:>"
      ]
     },
     "execution_count": 15,
     "metadata": {},
     "output_type": "execute_result"
    },
    {
     "data": {
      "image/png": "[encoded data removed]",
      "text/plain": [
       "<Figure size 432x288 with 1 Axes>"
      ]
     },
     "metadata": {
      "needs_background": "light"
     },
     "output_type": "display_data"
    }
   ],
   "source": [
    "# Compare to quickly approximated distances\n",
    "ae.footpaths.loc[(ae.footpaths['a'].apply(lambda s: len(s.split('_'))<=2)) &\n",
    "                 (ae.footpaths['b'].apply(lambda s: len(s.split('_'))<=2)),\n",
    "                 'length'].hist(bins=50)"
   ]
  },
  {
   "cell_type": "code",
   "execution_count": 16,
   "metadata": {},
   "outputs": [],
   "source": [
    "# Replace NaN\n",
    "foot.loc[foot['length'].isna(), 'length'] = foot.loc[foot['length'].notna(), 'length'].mean()"
   ]
  },
  {
   "cell_type": "code",
   "execution_count": 17,
   "metadata": {},
   "outputs": [],
   "source": [
    "# Generate time in seconds\n",
    "foot['time'] = foot['length'] / (speed / 3.6)\n",
    "if 'footpath_time' in sm.pt_los.columns:\n",
    "    foot['footpath_time'] = foot['time']"
   ]
  },
  {
   "cell_type": "code",
   "execution_count": 18,
   "metadata": {},
   "outputs": [
    {
     "data": {
      "text/plain": [
       "<AxesSubplot:>"
      ]
     },
     "execution_count": 18,
     "metadata": {},
     "output_type": "execute_result"
    },
    {
     "data": {
      "image/png": "[encoded data removed]",
      "text/plain": [
       "<Figure size 432x288 with 1 Axes>"
      ]
     },
     "metadata": {
      "needs_background": "light"
     },
     "output_type": "display_data"
    }
   ],
   "source": [
    "foot['time'].hist(bins=50)"
   ]
  },
  {
   "cell_type": "code",
   "execution_count": 19,
   "metadata": {},
   "outputs": [],
   "source": [
    "# Make DataFrame lighter\n",
    "cols = ['length'] + [col for col in foot.columns if col[-4:]=='time']\n",
    "foot[cols] = foot[cols].astype(int)"
   ]
  },
  {
   "cell_type": "code",
   "execution_count": 20,
   "metadata": {},
   "outputs": [],
   "source": [
    "# Add to LoS table\n",
    "sm.pt_los = sm.pt_los.append(foot).reset_index(drop=True)"
   ]
  },
  {
   "cell_type": "code",
   "execution_count": 21,
   "metadata": {},
   "outputs": [
    {
     "data": {
      "text/html": [
       "<div>\n",
       "<style scoped>\n",
       "    .dataframe tbody tr th:only-of-type {\n",
       "        vertical-align: middle;\n",
       "    }\n",
       "\n",
       "    .dataframe tbody tr th {\n",
       "        vertical-align: top;\n",
       "    }\n",
       "\n",
       "    .dataframe thead th {\n",
       "        text-align: right;\n",
       "    }\n",
       "</style>\n",
       "<table border=\"1\" class=\"dataframe\">\n",
       "  <thead>\n",
       "    <tr style=\"text-align: right;\">\n",
       "      <th></th>\n",
       "      <th>access_time</th>\n",
       "      <th>accessibility</th>\n",
       "      <th>destination</th>\n",
       "      <th>footpath_time</th>\n",
       "      <th>in_vehicle_time</th>\n",
       "      <th>length</th>\n",
       "      <th>link_path</th>\n",
       "      <th>ntransfers</th>\n",
       "      <th>origin</th>\n",
       "      <th>path</th>\n",
       "      <th>price</th>\n",
       "      <th>route_type</th>\n",
       "      <th>route_types</th>\n",
       "      <th>time</th>\n",
       "      <th>waiting_time</th>\n",
       "    </tr>\n",
       "  </thead>\n",
       "  <tbody>\n",
       "    <tr>\n",
       "      <th>432897</th>\n",
       "      <td>0</td>\n",
       "      <td>1.0</td>\n",
       "      <td>DE401</td>\n",
       "      <td>5433</td>\n",
       "      <td>0</td>\n",
       "      <td>25658</td>\n",
       "      <td>[]</td>\n",
       "      <td>0</td>\n",
       "      <td>DE40E</td>\n",
       "      <td>(DE40E, foot_9829, DE401)</td>\n",
       "      <td>0.0</td>\n",
       "      <td>walk</td>\n",
       "      <td>(walk,)</td>\n",
       "      <td>5433</td>\n",
       "      <td>0</td>\n",
       "    </tr>\n",
       "  </tbody>\n",
       "</table>\n",
       "</div>"
      ],
      "text/plain": [
       "        access_time  accessibility destination  footpath_time  \\\n",
       "432897            0            1.0       DE401           5433   \n",
       "\n",
       "        in_vehicle_time  length link_path  ntransfers origin  \\\n",
       "432897                0   25658        []           0  DE40E   \n",
       "\n",
       "                             path  price route_type route_types  time  \\\n",
       "432897  (DE40E, foot_9829, DE401)    0.0       walk     (walk,)  5433   \n",
       "\n",
       "        waiting_time  \n",
       "432897             0  "
      ]
     },
     "execution_count": 21,
     "metadata": {},
     "output_type": "execute_result"
    }
   ],
   "source": [
    "sm.pt_los.loc[sm.pt_los['route_type']=='walk'].sample()"
   ]
  },
  {
   "cell_type": "markdown",
   "metadata": {},
   "source": [
    "## Save"
   ]
  },
  {
   "cell_type": "code",
   "execution_count": 22,
   "metadata": {},
   "outputs": [
    {
     "name": "stderr",
     "output_type": "stream",
     "text": [
      "to_hdf(overwriting): 100%|█████████████████████████████████████████████████████████████| 34/34 [00:06<00:00,  5.40it/s]\n"
     ]
    }
   ],
   "source": [
    "sm.to_json(model_path + 'de_pt_los',\n",
    "           only_attributes=['pt_los'],\n",
    "           encoding='utf-8')"
   ]
  }
 ],
 "metadata": {
  "kernelspec": {
   "display_name": "Python 3",
   "language": "python",
   "name": "python3"
  },
  "language_info": {
   "codemirror_mode": {
    "name": "ipython",
    "version": 3
   },
   "file_extension": ".py",
   "mimetype": "text/x-python",
   "name": "python",
   "nbconvert_exporter": "python",
   "pygments_lexer": "ipython3",
   "version": "3.8.1"
  }
 },
 "nbformat": 4,
 "nbformat_minor": 4
}
