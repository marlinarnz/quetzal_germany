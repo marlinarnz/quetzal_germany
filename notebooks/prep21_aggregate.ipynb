{
 "cells": [
  {
   "cell_type": "code",
   "execution_count": 2,
   "metadata": {},
   "outputs": [
    {
     "name": "stderr",
     "output_type": "stream",
     "text": [
      "In C:\\Users\\marlin.arnz\\AppData\\Local\\Continuum\\miniconda3\\envs\\quetzal\\lib\\site-packages\\matplotlib\\mpl-data\\stylelib\\_classic_test.mplstyle: \n",
      "The text.latex.preview rcparam was deprecated in Matplotlib 3.3 and will be removed two minor releases later.\n",
      "In C:\\Users\\marlin.arnz\\AppData\\Local\\Continuum\\miniconda3\\envs\\quetzal\\lib\\site-packages\\matplotlib\\mpl-data\\stylelib\\_classic_test.mplstyle: \n",
      "The mathtext.fallback_to_cm rcparam was deprecated in Matplotlib 3.3 and will be removed two minor releases later.\n",
      "In C:\\Users\\marlin.arnz\\AppData\\Local\\Continuum\\miniconda3\\envs\\quetzal\\lib\\site-packages\\matplotlib\\mpl-data\\stylelib\\_classic_test.mplstyle: Support for setting the 'mathtext.fallback_to_cm' rcParam is deprecated since 3.3 and will be removed two minor releases later; use 'mathtext.fallback : 'cm' instead.\n",
      "In C:\\Users\\marlin.arnz\\AppData\\Local\\Continuum\\miniconda3\\envs\\quetzal\\lib\\site-packages\\matplotlib\\mpl-data\\stylelib\\_classic_test.mplstyle: \n",
      "The validate_bool_maybe_none function was deprecated in Matplotlib 3.3 and will be removed two minor releases later.\n",
      "In C:\\Users\\marlin.arnz\\AppData\\Local\\Continuum\\miniconda3\\envs\\quetzal\\lib\\site-packages\\matplotlib\\mpl-data\\stylelib\\_classic_test.mplstyle: \n",
      "The savefig.jpeg_quality rcparam was deprecated in Matplotlib 3.3 and will be removed two minor releases later.\n",
      "In C:\\Users\\marlin.arnz\\AppData\\Local\\Continuum\\miniconda3\\envs\\quetzal\\lib\\site-packages\\matplotlib\\mpl-data\\stylelib\\_classic_test.mplstyle: \n",
      "The keymap.all_axes rcparam was deprecated in Matplotlib 3.3 and will be removed two minor releases later.\n",
      "In C:\\Users\\marlin.arnz\\AppData\\Local\\Continuum\\miniconda3\\envs\\quetzal\\lib\\site-packages\\matplotlib\\mpl-data\\stylelib\\_classic_test.mplstyle: \n",
      "The animation.avconv_path rcparam was deprecated in Matplotlib 3.3 and will be removed two minor releases later.\n",
      "In C:\\Users\\marlin.arnz\\AppData\\Local\\Continuum\\miniconda3\\envs\\quetzal\\lib\\site-packages\\matplotlib\\mpl-data\\stylelib\\_classic_test.mplstyle: \n",
      "The animation.avconv_args rcparam was deprecated in Matplotlib 3.3 and will be removed two minor releases later.\n"
     ]
    }
   ],
   "source": [
    "import numpy as np\n",
    "import pandas as pd\n",
    "from shapely import geometry\n",
    "from geopy.distance import geodesic\n",
    "import shapely.speedups\n",
    "from tqdm import tqdm\n",
    "from quetzal.model import stepmodel"
   ]
  },
  {
   "cell_type": "markdown",
   "metadata": {},
   "source": [
    "# Preparation of the transport network.\n",
    "## Saves aggregated bus and short-distance rail network.\n",
    "## Needs PT networks with access and egress."
   ]
  },
  {
   "cell_type": "code",
   "execution_count": 3,
   "metadata": {},
   "outputs": [],
   "source": [
    "input_path = '../input_static/'\n",
    "output_path = '../output/'\n",
    "model_path = '../model/'"
   ]
  },
  {
   "cell_type": "code",
   "execution_count": 3,
   "metadata": {},
   "outputs": [],
   "source": [
    "# Loading StepModel with PT networks...\n",
    "sm = stepmodel.read_json(input_path + 'de_pt_network')\n",
    "bus = stepmodel.read_json(input_path + 'de_pt_network_bus')\n",
    "# Loading access and egress\n",
    "ae = stepmodel.read_json(model_path + 'de_pt_access_egress')"
   ]
  },
  {
   "cell_type": "code",
   "execution_count": 4,
   "metadata": {},
   "outputs": [
    {
     "data": {
      "text/html": [
       "<div>\n",
       "<style scoped>\n",
       "    .dataframe tbody tr th:only-of-type {\n",
       "        vertical-align: middle;\n",
       "    }\n",
       "\n",
       "    .dataframe tbody tr th {\n",
       "        vertical-align: top;\n",
       "    }\n",
       "\n",
       "    .dataframe thead th {\n",
       "        text-align: right;\n",
       "    }\n",
       "</style>\n",
       "<table border=\"1\" class=\"dataframe\">\n",
       "  <thead>\n",
       "    <tr style=\"text-align: right;\">\n",
       "      <th></th>\n",
       "      <th>route_type</th>\n",
       "      <th>stop_name</th>\n",
       "      <th>geometry</th>\n",
       "    </tr>\n",
       "    <tr>\n",
       "      <th>index</th>\n",
       "      <th></th>\n",
       "      <th></th>\n",
       "      <th></th>\n",
       "    </tr>\n",
       "  </thead>\n",
       "  <tbody>\n",
       "    <tr>\n",
       "      <th>rail_short_n_14385</th>\n",
       "      <td>rail_short_distance</td>\n",
       "      <td>Haste</td>\n",
       "      <td>POINT (9.38910 52.37966)</td>\n",
       "    </tr>\n",
       "  </tbody>\n",
       "</table>\n",
       "</div>"
      ],
      "text/plain": [
       "                             route_type stop_name                  geometry\n",
       "index                                                                      \n",
       "rail_short_n_14385  rail_short_distance     Haste  POINT (9.38910 52.37966)"
      ]
     },
     "execution_count": 4,
     "metadata": {},
     "output_type": "execute_result"
    }
   ],
   "source": [
    "sm.nodes.sample()"
   ]
  },
  {
   "cell_type": "markdown",
   "metadata": {},
   "source": [
    "## Check and correct network integrity"
   ]
  },
  {
   "cell_type": "code",
   "execution_count": 7,
   "metadata": {},
   "outputs": [],
   "source": [
    "# FIRST: Set time of free-rider links\n",
    "# Default velocity of 14 m/s for rail links\n",
    "sm.links.loc[sm.links['time']==0, 'time'] = sm.links.loc[\n",
    "    sm.links['time']==0, 'geometry'].apply(\n",
    "        lambda l: int(geodesic(l.coords[0], l.coords[-1]).m)) / 14\n",
    "# 8 m/s for bus links\n",
    "bus.links.loc[bus.links['time']==0, 'time'] = bus.links.loc[\n",
    "    bus.links['time']==0, 'geometry'].apply(\n",
    "        lambda l: int(geodesic(l.coords[0], l.coords[-1]).m)) / 8"
   ]
  },
  {
   "cell_type": "code",
   "execution_count": 8,
   "metadata": {},
   "outputs": [
    {
     "name": "stdout",
     "output_type": "stream",
     "text": [
      "Found 5 orphan nodes\n",
      "no road_links or road_nodes\n"
     ]
    }
   ],
   "source": [
    "# Check nodeset integrity for later steps to work\n",
    "try:\n",
    "    sm.integrity_test_nodeset_consistency()\n",
    "except AssertionError:\n",
    "    print('Found {} orphan nodes'.format(len(sm.orphan_nodes)))\n",
    "    sm.nodes.drop(sm.orphan_nodes, inplace=True)\n",
    "    # Test integrity again\n",
    "    sm.integrity_test_nodeset_consistency()"
   ]
  },
  {
   "cell_type": "code",
   "execution_count": 9,
   "metadata": {},
   "outputs": [],
   "source": [
    "# Test sequences\n",
    "# Use an own function because quetzal's takes ages\n",
    "def test_sequences(trip):\n",
    "    assert len(trip)==trip['link_sequence'].max(), \\\n",
    "        'broken sequence in trip {}'.format(trip['trip_id'].unique()[0])"
   ]
  },
  {
   "cell_type": "code",
   "execution_count": 10,
   "metadata": {},
   "outputs": [],
   "source": [
    "# Fix sequences\n",
    "# Use an own function because quetzal's takes ages\n",
    "def fix_sequences(trip):\n",
    "    trip = trip.sort_values('link_sequence')\n",
    "    # Check link succession\n",
    "    ind = list(trip.index)\n",
    "    for i in range(len(trip.index) - 1):\n",
    "        try:\n",
    "            assert trip.loc[ind[i], 'b'] == trip.loc[ind[i+1], 'a'], \\\n",
    "                'broken trip {}: stop {} has no successor link'.format(\n",
    "                    trip['trip_id'].unique()[0], trip.loc[ind[i], 'b'])\n",
    "        except AssertionError:\n",
    "            trip.loc[ind[i+1]:ind[-1], 'trip_id'] = \\\n",
    "                trip.loc[ind[i+1]:ind[-1], 'trip_id'] + '_' + str(i)\n",
    "    # Repair sequences\n",
    "    if len(trip) != trip['link_sequence'].max():\n",
    "        trip['link_sequence'] = trip.groupby('trip_id')['link_sequence'].apply(\n",
    "            lambda t: [j for j in range(1, len(t.index)+1)]).sum()\n",
    "    return trip"
   ]
  },
  {
   "cell_type": "code",
   "execution_count": 11,
   "metadata": {},
   "outputs": [],
   "source": [
    "# Test and save broken sequences\n",
    "def test_sequences_save(trip):\n",
    "    if len(trip)!=trip['link_sequence'].max():\n",
    "        return list(trip.index)"
   ]
  },
  {
   "cell_type": "code",
   "execution_count": 12,
   "metadata": {},
   "outputs": [
    {
     "name": "stderr",
     "output_type": "stream",
     "text": [
      "100%|██████████████████████████████████████████████████████████████████████████| 21118/21118 [00:07<00:00, 2874.18it/s]\n"
     ]
    }
   ],
   "source": [
    "tqdm.pandas()\n",
    "try:\n",
    "    sm.links.groupby('trip_id').progress_apply(test_sequences)\n",
    "except AssertionError:\n",
    "    links = sm.links.groupby('trip_id').progress_apply(fix_sequences).reset_index(level=0, drop=True)\n",
    "    links.groupby('trip_id').progress_apply(test_sequences)\n",
    "    sm.links = links"
   ]
  },
  {
   "cell_type": "code",
   "execution_count": 13,
   "metadata": {},
   "outputs": [
    {
     "name": "stderr",
     "output_type": "stream",
     "text": [
      "100%|████████████████████████████████████████████████████████████████████████| 212259/212259 [01:19<00:00, 2670.55it/s]\n"
     ]
    }
   ],
   "source": [
    "try:\n",
    "    bus.links.groupby('trip_id').progress_apply(test_sequences)\n",
    "except AssertionError:\n",
    "    broken_seqs = bus.links.groupby('trip_id').progress_apply(test_sequences_save)\n",
    "    links = bus.links.loc[broken_seqs.loc[broken_seqs.notna()].sum()\n",
    "                         ].groupby('trip_id').progress_apply(fix_sequences)\n",
    "    links.reset_index(level=0, drop=True, inplace=True)\n",
    "    links.groupby('trip_id').progress_apply(test_sequences)\n",
    "    bus.links = bus.links.drop(broken_seqs.loc[broken_seqs.notna()].sum()).append(links)"
   ]
  },
  {
   "cell_type": "code",
   "execution_count": 14,
   "metadata": {},
   "outputs": [],
   "source": [
    "assert len(bus.nodes['route_type'].unique()) == 1"
   ]
  },
  {
   "cell_type": "code",
   "execution_count": 15,
   "metadata": {},
   "outputs": [
    {
     "name": "stdout",
     "output_type": "stream",
     "text": [
      "(15394, 3)\n",
      "(413787, 3)\n"
     ]
    }
   ],
   "source": [
    "# Divide nodes\n",
    "print(sm.nodes.shape)\n",
    "#disagg_nodes = sm.nodes.loc[sm.nodes['route_type']=='rail_short_distance'].append(bus.nodes)\n",
    "#sm.nodes = sm.nodes.loc[sm.nodes['route_type']!='rail_short_distance']\n",
    "disagg_nodes = bus.nodes\n",
    "print(disagg_nodes.shape)"
   ]
  },
  {
   "cell_type": "code",
   "execution_count": 16,
   "metadata": {},
   "outputs": [
    {
     "name": "stdout",
     "output_type": "stream",
     "text": [
      "(213129, 8)\n",
      "(3211174, 8)\n"
     ]
    }
   ],
   "source": [
    "# Divide links\n",
    "print(sm.links.shape)\n",
    "#disagg_links = sm.links.loc[sm.links['route_type']=='rail_short_distance'].append(bus.links)\n",
    "#sm.links = sm.links.loc[sm.links['route_type']!='rail_short_distance']\n",
    "disagg_links = bus.links\n",
    "print(disagg_links.shape)"
   ]
  },
  {
   "cell_type": "code",
   "execution_count": 17,
   "metadata": {},
   "outputs": [
    {
     "data": {
      "text/plain": [
       "212259"
      ]
     },
     "execution_count": 17,
     "metadata": {},
     "output_type": "execute_result"
    }
   ],
   "source": [
    "# Number of trips\n",
    "len(disagg_links['trip_id'].unique())"
   ]
  },
  {
   "cell_type": "markdown",
   "metadata": {},
   "source": [
    "## Remove unneccessary stops\n",
    "Bus and short-distance rail service in the GTFS feeds contain trips with not further connected intermediate stops. Thus, the PT network graph can be reduced without loss of information."
   ]
  },
  {
   "cell_type": "code",
   "execution_count": 18,
   "metadata": {},
   "outputs": [
    {
     "data": {
      "text/html": [
       "<div>\n",
       "<style scoped>\n",
       "    .dataframe tbody tr th:only-of-type {\n",
       "        vertical-align: middle;\n",
       "    }\n",
       "\n",
       "    .dataframe tbody tr th {\n",
       "        vertical-align: top;\n",
       "    }\n",
       "\n",
       "    .dataframe thead th {\n",
       "        text-align: right;\n",
       "    }\n",
       "</style>\n",
       "<table border=\"1\" class=\"dataframe\">\n",
       "  <thead>\n",
       "    <tr style=\"text-align: right;\">\n",
       "      <th></th>\n",
       "      <th>a</th>\n",
       "      <th>b</th>\n",
       "      <th>link_sequence</th>\n",
       "      <th>route_id</th>\n",
       "      <th>route_type</th>\n",
       "      <th>time</th>\n",
       "      <th>trip_id</th>\n",
       "      <th>geometry</th>\n",
       "    </tr>\n",
       "    <tr>\n",
       "      <th>index</th>\n",
       "      <th></th>\n",
       "      <th></th>\n",
       "      <th></th>\n",
       "      <th></th>\n",
       "      <th></th>\n",
       "      <th></th>\n",
       "      <th></th>\n",
       "      <th></th>\n",
       "    </tr>\n",
       "  </thead>\n",
       "  <tbody>\n",
       "    <tr>\n",
       "      <th>rail_short_133623</th>\n",
       "      <td>rail_short_n_877</td>\n",
       "      <td>rail_short_n_1187</td>\n",
       "      <td>1.0</td>\n",
       "      <td>rail_short_85</td>\n",
       "      <td>rail_short_distance</td>\n",
       "      <td>186.0</td>\n",
       "      <td>rail_short_35780</td>\n",
       "      <td>LINESTRING (13.38559 52.65491, 13.34054 52.66460)</td>\n",
       "    </tr>\n",
       "  </tbody>\n",
       "</table>\n",
       "</div>"
      ],
      "text/plain": [
       "                                  a                  b  link_sequence  \\\n",
       "index                                                                   \n",
       "rail_short_133623  rail_short_n_877  rail_short_n_1187            1.0   \n",
       "\n",
       "                        route_id           route_type   time  \\\n",
       "index                                                          \n",
       "rail_short_133623  rail_short_85  rail_short_distance  186.0   \n",
       "\n",
       "                            trip_id  \\\n",
       "index                                 \n",
       "rail_short_133623  rail_short_35780   \n",
       "\n",
       "                                                            geometry  \n",
       "index                                                                 \n",
       "rail_short_133623  LINESTRING (13.38559 52.65491, 13.34054 52.66460)  "
      ]
     },
     "execution_count": 18,
     "metadata": {},
     "output_type": "execute_result"
    }
   ],
   "source": [
    "sm.links.sample()"
   ]
  },
  {
   "cell_type": "code",
   "execution_count": 19,
   "metadata": {},
   "outputs": [],
   "source": [
    "# Count the number of links to/from each node\n",
    "n_links_dict = disagg_links[['a', 'b']].stack().value_counts().to_dict()\n",
    "connector_set = ae.zone_to_transit[['a', 'b']].append(ae.footpaths[['a', 'b']])\n",
    "n_connectors_dict = connector_set.stack().value_counts().to_dict()\n",
    "disagg_nodes['n_links'] = [n_links_dict[i] for i in list(disagg_nodes.index)]\n",
    "disagg_nodes['n_connectors'] = disagg_nodes.index.map(n_connectors_dict)\n",
    "disagg_nodes['n_connectors'].replace(np.nan, 0, inplace=True)"
   ]
  },
  {
   "cell_type": "code",
   "execution_count": 20,
   "metadata": {},
   "outputs": [
    {
     "data": {
      "text/html": [
       "<div>\n",
       "<style scoped>\n",
       "    .dataframe tbody tr th:only-of-type {\n",
       "        vertical-align: middle;\n",
       "    }\n",
       "\n",
       "    .dataframe tbody tr th {\n",
       "        vertical-align: top;\n",
       "    }\n",
       "\n",
       "    .dataframe thead th {\n",
       "        text-align: right;\n",
       "    }\n",
       "</style>\n",
       "<table border=\"1\" class=\"dataframe\">\n",
       "  <thead>\n",
       "    <tr style=\"text-align: right;\">\n",
       "      <th></th>\n",
       "      <th>stop_name</th>\n",
       "      <th>route_type</th>\n",
       "      <th>geometry</th>\n",
       "      <th>n_links</th>\n",
       "      <th>n_connectors</th>\n",
       "    </tr>\n",
       "    <tr>\n",
       "      <th>index</th>\n",
       "      <th></th>\n",
       "      <th></th>\n",
       "      <th></th>\n",
       "      <th></th>\n",
       "      <th></th>\n",
       "    </tr>\n",
       "  </thead>\n",
       "  <tbody>\n",
       "  </tbody>\n",
       "</table>\n",
       "</div>"
      ],
      "text/plain": [
       "Empty DataFrame\n",
       "Columns: [stop_name, route_type, geometry, n_links, n_connectors]\n",
       "Index: []"
      ]
     },
     "execution_count": 20,
     "metadata": {},
     "output_type": "execute_result"
    }
   ],
   "source": [
    "disagg_nodes.loc[disagg_nodes.isna().any(axis=1)]"
   ]
  },
  {
   "cell_type": "code",
   "execution_count": 21,
   "metadata": {},
   "outputs": [
    {
     "name": "stdout",
     "output_type": "stream",
     "text": [
      "(413787, 5)\n",
      "(0, 5)\n"
     ]
    }
   ],
   "source": [
    "print(disagg_nodes.loc[disagg_nodes['route_type']=='bus'].shape)\n",
    "print(disagg_nodes.loc[disagg_nodes['route_type']!='bus'].shape)"
   ]
  },
  {
   "cell_type": "code",
   "execution_count": 22,
   "metadata": {},
   "outputs": [
    {
     "data": {
      "text/html": [
       "<div>\n",
       "<style scoped>\n",
       "    .dataframe tbody tr th:only-of-type {\n",
       "        vertical-align: middle;\n",
       "    }\n",
       "\n",
       "    .dataframe tbody tr th {\n",
       "        vertical-align: top;\n",
       "    }\n",
       "\n",
       "    .dataframe thead th {\n",
       "        text-align: right;\n",
       "    }\n",
       "</style>\n",
       "<table border=\"1\" class=\"dataframe\">\n",
       "  <thead>\n",
       "    <tr style=\"text-align: right;\">\n",
       "      <th></th>\n",
       "      <th>stop_name</th>\n",
       "      <th>route_type</th>\n",
       "      <th>geometry</th>\n",
       "      <th>n_links</th>\n",
       "      <th>n_connectors</th>\n",
       "    </tr>\n",
       "    <tr>\n",
       "      <th>index</th>\n",
       "      <th></th>\n",
       "      <th></th>\n",
       "      <th></th>\n",
       "      <th></th>\n",
       "      <th></th>\n",
       "    </tr>\n",
       "  </thead>\n",
       "  <tbody>\n",
       "    <tr>\n",
       "      <th>bus_n_371528</th>\n",
       "      <td>Artelshofen Zum Pechwirt</td>\n",
       "      <td>bus</td>\n",
       "      <td>POINT (11.49822 49.57359)</td>\n",
       "      <td>16</td>\n",
       "      <td>0.0</td>\n",
       "    </tr>\n",
       "    <tr>\n",
       "      <th>bus_n_33604</th>\n",
       "      <td>Reuden (Kem), Kindergarten</td>\n",
       "      <td>bus</td>\n",
       "      <td>POINT (12.59892 51.77179)</td>\n",
       "      <td>18</td>\n",
       "      <td>0.0</td>\n",
       "    </tr>\n",
       "  </tbody>\n",
       "</table>\n",
       "</div>"
      ],
      "text/plain": [
       "                               stop_name route_type  \\\n",
       "index                                                 \n",
       "bus_n_371528    Artelshofen Zum Pechwirt        bus   \n",
       "bus_n_33604   Reuden (Kem), Kindergarten        bus   \n",
       "\n",
       "                               geometry  n_links  n_connectors  \n",
       "index                                                           \n",
       "bus_n_371528  POINT (11.49822 49.57359)       16           0.0  \n",
       "bus_n_33604   POINT (12.59892 51.77179)       18           0.0  "
      ]
     },
     "execution_count": 22,
     "metadata": {},
     "output_type": "execute_result"
    }
   ],
   "source": [
    "disagg_nodes.sample(2)"
   ]
  },
  {
   "cell_type": "code",
   "execution_count": 25,
   "metadata": {},
   "outputs": [],
   "source": [
    "# Keep interconnected rail trips but drop all bus trips\n",
    "# without connection to another mode or centroid\n",
    "agg_nodes = disagg_nodes.loc[\n",
    "    ((disagg_nodes['route_type']!='bus') &\n",
    "     ((disagg_nodes['n_links'] > 2) |\n",
    "      (disagg_nodes['n_connectors'] > 0))\n",
    "    ) | (\n",
    "        (disagg_nodes['route_type']=='bus') &\n",
    "        (disagg_nodes['n_connectors'] > 2)\n",
    "    )]"
   ]
  },
  {
   "cell_type": "code",
   "execution_count": 26,
   "metadata": {},
   "outputs": [
    {
     "name": "stdout",
     "output_type": "stream",
     "text": [
      "(6440, 5)\n",
      "(0, 5)\n"
     ]
    }
   ],
   "source": [
    "print(agg_nodes.loc[agg_nodes['route_type']=='bus'].shape)\n",
    "print(agg_nodes.loc[agg_nodes['route_type']!='bus'].shape)"
   ]
  },
  {
   "cell_type": "markdown",
   "metadata": {},
   "source": [
    "### Aggregate links within the broken trips"
   ]
  },
  {
   "cell_type": "code",
   "execution_count": 27,
   "metadata": {},
   "outputs": [],
   "source": [
    "# Mark dropped nodes\n",
    "disagg_links['relevant'] = disagg_links['a'].isin(list(agg_nodes.index)) | \\\n",
    "    disagg_links['b'].isin(list(agg_nodes.index))"
   ]
  },
  {
   "cell_type": "code",
   "execution_count": 28,
   "metadata": {},
   "outputs": [
    {
     "data": {
      "text/plain": [
       "(122800, 9)"
      ]
     },
     "execution_count": 28,
     "metadata": {},
     "output_type": "execute_result"
    }
   ],
   "source": [
    "disagg_links.loc[disagg_links['relevant']].shape"
   ]
  },
  {
   "cell_type": "code",
   "execution_count": 29,
   "metadata": {},
   "outputs": [
    {
     "data": {
      "text/html": [
       "<div>\n",
       "<style scoped>\n",
       "    .dataframe tbody tr th:only-of-type {\n",
       "        vertical-align: middle;\n",
       "    }\n",
       "\n",
       "    .dataframe tbody tr th {\n",
       "        vertical-align: top;\n",
       "    }\n",
       "\n",
       "    .dataframe thead th {\n",
       "        text-align: right;\n",
       "    }\n",
       "</style>\n",
       "<table border=\"1\" class=\"dataframe\">\n",
       "  <thead>\n",
       "    <tr style=\"text-align: right;\">\n",
       "      <th></th>\n",
       "      <th>route_id</th>\n",
       "      <th>route_type</th>\n",
       "      <th>a</th>\n",
       "      <th>b</th>\n",
       "      <th>time</th>\n",
       "      <th>trip_id</th>\n",
       "      <th>link_sequence</th>\n",
       "      <th>geometry</th>\n",
       "      <th>relevant</th>\n",
       "    </tr>\n",
       "    <tr>\n",
       "      <th>index</th>\n",
       "      <th></th>\n",
       "      <th></th>\n",
       "      <th></th>\n",
       "      <th></th>\n",
       "      <th></th>\n",
       "      <th></th>\n",
       "      <th></th>\n",
       "      <th></th>\n",
       "      <th></th>\n",
       "    </tr>\n",
       "  </thead>\n",
       "  <tbody>\n",
       "    <tr>\n",
       "      <th>bus_x_2857</th>\n",
       "      <td>bus_x_10663</td>\n",
       "      <td>bus</td>\n",
       "      <td>bus_x_n_424228</td>\n",
       "      <td>bus_x_n_261072</td>\n",
       "      <td>60.0</td>\n",
       "      <td>bus_x_7080</td>\n",
       "      <td>9</td>\n",
       "      <td>LINESTRING (7.15679 50.23708, 7.15114 50.23412)</td>\n",
       "      <td>False</td>\n",
       "    </tr>\n",
       "  </tbody>\n",
       "</table>\n",
       "</div>"
      ],
      "text/plain": [
       "               route_id route_type               a               b  time  \\\n",
       "index                                                                      \n",
       "bus_x_2857  bus_x_10663        bus  bus_x_n_424228  bus_x_n_261072  60.0   \n",
       "\n",
       "               trip_id  link_sequence  \\\n",
       "index                                   \n",
       "bus_x_2857  bus_x_7080              9   \n",
       "\n",
       "                                                   geometry  relevant  \n",
       "index                                                                  \n",
       "bus_x_2857  LINESTRING (7.15679 50.23708, 7.15114 50.23412)     False  "
      ]
     },
     "execution_count": 29,
     "metadata": {},
     "output_type": "execute_result"
    }
   ],
   "source": [
    "disagg_links.sample()"
   ]
  },
  {
   "cell_type": "code",
   "execution_count": 30,
   "metadata": {},
   "outputs": [],
   "source": [
    "# Function for aggregating links\n",
    "def agg_trips(trip):\n",
    "    # Drop links with missing nodes\n",
    "    trip_agg = trip.loc[trip['relevant']].sort_values('link_sequence')\n",
    "    if len(trip_agg.index) == 0:\n",
    "        # Trip is fully irrelevant\n",
    "        return\n",
    "    \n",
    "    missing_nodes = list(set(list(trip_agg['a'])+list(trip_agg['b'])) -\n",
    "                         set(agg_nodes.index))\n",
    "    if len(missing_nodes)==0 and len(trip.index)==len(trip_agg.index):\n",
    "        # This trip is not affected\n",
    "        return trip\n",
    "    \n",
    "    # Repair link succession\n",
    "    ind = list(trip_agg.index)\n",
    "    for i in range(len(ind) - 1):\n",
    "        if trip_agg.loc[ind[i], 'b'] in missing_nodes:\n",
    "            trip_agg.loc[ind[i + 1], 'a'] = trip_agg.loc[ind[i], 'a']\n",
    "            try:\n",
    "                trip_agg.loc[ind[i + 1], 'geometry'] = geometry.LineString(\n",
    "                    [agg_nodes.loc[trip_agg.loc[ind[i + 1], 'a'], 'geometry'],\n",
    "                     agg_nodes.loc[trip_agg.loc[ind[i + 1], 'b'], 'geometry']])\n",
    "            except KeyError:\n",
    "                return\n",
    "            trip_agg.drop(ind[i], inplace=True)\n",
    "            i = i + 1\n",
    "    \n",
    "    ind = list(trip_agg.index)\n",
    "    if len(trip_agg.index) > 0 and trip_agg.loc[ind[0], 'a'] in missing_nodes:\n",
    "        # Drop unused first link\n",
    "        trip_agg = trip_agg.iloc[1:]\n",
    "    if len(trip_agg.index) > 0 and trip_agg.loc[ind[-1], 'b'] in missing_nodes:\n",
    "        # Drop unused last link\n",
    "        trip_agg = trip_agg.iloc[:-1]\n",
    "    ind = list(trip_agg.index)\n",
    "    if len(ind) == 0:\n",
    "        return\n",
    "    \n",
    "    # Aggregate travel time\n",
    "    for i in range(len(ind) - 1):\n",
    "        try:\n",
    "            assert trip_agg.loc[ind[i], 'b'] == trip_agg.loc[ind[i+1], 'a'], \\\n",
    "                'broken sequence in trip {}: stop {} has no successor link'.format(\n",
    "                    trip_agg['trip_id'].unique()[0], trip_agg.loc[ind[i], 'b'])\n",
    "        except AssertionError:\n",
    "            # Drop this trip\n",
    "            return\n",
    "        if trip_agg.loc[ind[i + 1], 'link_sequence'] - trip_agg.loc[ind[i], 'link_sequence'] > 1:\n",
    "            trip_agg.loc[ind[i], 'time'] = trip.loc[ind[i]:ind[i+1], 'time'].sum() - \\\n",
    "                trip_agg.loc[ind[i+1], 'time'] # pandas slicing includes both boundaries\n",
    "    \n",
    "    # Reindex the sequence numbers\n",
    "    trip_agg['link_sequence'] = [i for i in range(1, len(trip_agg.index)+1)]\n",
    "    \n",
    "    return trip_agg"
   ]
  },
  {
   "cell_type": "code",
   "execution_count": 96,
   "metadata": {},
   "outputs": [
    {
     "data": {
      "text/plain": [
       "\"import multiprocessing as mp\\nwith mp.Pool(processes=10) as p:\\n    agg_links = pd.concat(p.map(\\n        agg_trips, [g for _, g in disagg_links.groupby('trip_id')]))\""
      ]
     },
     "execution_count": 96,
     "metadata": {},
     "output_type": "execute_result"
    }
   ],
   "source": [
    "# Faster variant for using multiple cores\n",
    "'''import multiprocessing as mp\n",
    "with mp.Pool(processes=10) as p:\n",
    "    agg_links = pd.concat(p.map(\n",
    "        agg_trips, [g for _, g in disagg_links.groupby('trip_id')]))'''"
   ]
  },
  {
   "cell_type": "code",
   "execution_count": 31,
   "metadata": {},
   "outputs": [
    {
     "name": "stderr",
     "output_type": "stream",
     "text": [
      "100%|█████████████████████████████████████████████████████████████████████████| 212259/212259 [08:17<00:00, 426.62it/s]\n"
     ]
    }
   ],
   "source": [
    "agg_links = disagg_links.groupby('trip_id').progress_apply(\n",
    "    agg_trips).reset_index(level=0, drop=True)"
   ]
  },
  {
   "cell_type": "code",
   "execution_count": 32,
   "metadata": {},
   "outputs": [
    {
     "data": {
      "text/plain": [
       "(48243, 8)"
      ]
     },
     "execution_count": 32,
     "metadata": {},
     "output_type": "execute_result"
    }
   ],
   "source": [
    "agg_links.drop('relevant', axis=1, inplace=True)\n",
    "agg_links.shape"
   ]
  },
  {
   "cell_type": "code",
   "execution_count": 33,
   "metadata": {},
   "outputs": [
    {
     "data": {
      "text/html": [
       "<div>\n",
       "<style scoped>\n",
       "    .dataframe tbody tr th:only-of-type {\n",
       "        vertical-align: middle;\n",
       "    }\n",
       "\n",
       "    .dataframe tbody tr th {\n",
       "        vertical-align: top;\n",
       "    }\n",
       "\n",
       "    .dataframe thead th {\n",
       "        text-align: right;\n",
       "    }\n",
       "</style>\n",
       "<table border=\"1\" class=\"dataframe\">\n",
       "  <thead>\n",
       "    <tr style=\"text-align: right;\">\n",
       "      <th></th>\n",
       "      <th>route_id</th>\n",
       "      <th>route_type</th>\n",
       "      <th>a</th>\n",
       "      <th>b</th>\n",
       "      <th>time</th>\n",
       "      <th>trip_id</th>\n",
       "      <th>link_sequence</th>\n",
       "      <th>geometry</th>\n",
       "    </tr>\n",
       "    <tr>\n",
       "      <th>index</th>\n",
       "      <th></th>\n",
       "      <th></th>\n",
       "      <th></th>\n",
       "      <th></th>\n",
       "      <th></th>\n",
       "      <th></th>\n",
       "      <th></th>\n",
       "      <th></th>\n",
       "    </tr>\n",
       "  </thead>\n",
       "  <tbody>\n",
       "    <tr>\n",
       "      <th>bus_1415622</th>\n",
       "      <td>bus_16202</td>\n",
       "      <td>bus</td>\n",
       "      <td>bus_n_282557</td>\n",
       "      <td>bus_n_347696</td>\n",
       "      <td>1020.0</td>\n",
       "      <td>bus_302856</td>\n",
       "      <td>1</td>\n",
       "      <td>LINESTRING (11.90602 54.10878, 11.90068 54.11217)</td>\n",
       "    </tr>\n",
       "    <tr>\n",
       "      <th>bus_2310601</th>\n",
       "      <td>bus_12805</td>\n",
       "      <td>bus</td>\n",
       "      <td>bus_n_117738</td>\n",
       "      <td>bus_n_263121</td>\n",
       "      <td>120.0</td>\n",
       "      <td>bus_712299</td>\n",
       "      <td>1</td>\n",
       "      <td>LINESTRING (11.75354 51.79189, 11.75072 51.79629)</td>\n",
       "    </tr>\n",
       "    <tr>\n",
       "      <th>bus_2477532</th>\n",
       "      <td>bus_5783</td>\n",
       "      <td>bus</td>\n",
       "      <td>bus_n_222182</td>\n",
       "      <td>bus_n_85142</td>\n",
       "      <td>180.0</td>\n",
       "      <td>bus_805166</td>\n",
       "      <td>1</td>\n",
       "      <td>LINESTRING (7.38907 53.08167, 7.38792 53.08975)</td>\n",
       "    </tr>\n",
       "    <tr>\n",
       "      <th>bus_2699852</th>\n",
       "      <td>bus_16202</td>\n",
       "      <td>bus</td>\n",
       "      <td>bus_n_282557</td>\n",
       "      <td>bus_n_347696</td>\n",
       "      <td>1020.0</td>\n",
       "      <td>bus_937870</td>\n",
       "      <td>1</td>\n",
       "      <td>LINESTRING (11.90602 54.10878, 11.90068 54.11217)</td>\n",
       "    </tr>\n",
       "  </tbody>\n",
       "</table>\n",
       "</div>"
      ],
      "text/plain": [
       "              route_id route_type             a             b    time  \\\n",
       "index                                                                   \n",
       "bus_1415622  bus_16202        bus  bus_n_282557  bus_n_347696  1020.0   \n",
       "bus_2310601  bus_12805        bus  bus_n_117738  bus_n_263121   120.0   \n",
       "bus_2477532   bus_5783        bus  bus_n_222182   bus_n_85142   180.0   \n",
       "bus_2699852  bus_16202        bus  bus_n_282557  bus_n_347696  1020.0   \n",
       "\n",
       "                trip_id  link_sequence  \\\n",
       "index                                    \n",
       "bus_1415622  bus_302856              1   \n",
       "bus_2310601  bus_712299              1   \n",
       "bus_2477532  bus_805166              1   \n",
       "bus_2699852  bus_937870              1   \n",
       "\n",
       "                                                      geometry  \n",
       "index                                                           \n",
       "bus_1415622  LINESTRING (11.90602 54.10878, 11.90068 54.11217)  \n",
       "bus_2310601  LINESTRING (11.75354 51.79189, 11.75072 51.79629)  \n",
       "bus_2477532    LINESTRING (7.38907 53.08167, 7.38792 53.08975)  \n",
       "bus_2699852  LINESTRING (11.90602 54.10878, 11.90068 54.11217)  "
      ]
     },
     "execution_count": 33,
     "metadata": {},
     "output_type": "execute_result"
    }
   ],
   "source": [
    "agg_links.loc[~(agg_links['a'].isin(list(agg_nodes.index))) |\n",
    "    ~(agg_links['b'].isin(list(agg_nodes.index)))]"
   ]
  },
  {
   "cell_type": "code",
   "execution_count": 34,
   "metadata": {},
   "outputs": [],
   "source": [
    "# Drop these erronous trips\n",
    "ids = agg_links.loc[~(agg_links['a'].isin(list(agg_nodes.index))) |\n",
    "                    ~(agg_links['b'].isin(list(agg_nodes.index)))].index\n",
    "agg_links = agg_links.loc[~agg_links['trip_id'].isin(list(agg_links.loc[ids, 'trip_id']))]"
   ]
  },
  {
   "cell_type": "markdown",
   "metadata": {},
   "source": [
    "### Merge aggregated links and nodes with the model"
   ]
  },
  {
   "cell_type": "code",
   "execution_count": 35,
   "metadata": {},
   "outputs": [
    {
     "data": {
      "text/plain": [
       "(261366, 8)"
      ]
     },
     "execution_count": 35,
     "metadata": {},
     "output_type": "execute_result"
    }
   ],
   "source": [
    "# Re-add links to model\n",
    "sm.links = sm.links.append(agg_links)\n",
    "sm.links.shape"
   ]
  },
  {
   "cell_type": "code",
   "execution_count": 36,
   "metadata": {},
   "outputs": [
    {
     "data": {
      "text/plain": [
       "(21834, 5)"
      ]
     },
     "execution_count": 36,
     "metadata": {},
     "output_type": "execute_result"
    }
   ],
   "source": [
    "# Re-add nodes to the model\n",
    "sm.nodes = sm.nodes.append(agg_nodes)\n",
    "sm.nodes.shape"
   ]
  },
  {
   "cell_type": "code",
   "execution_count": 37,
   "metadata": {},
   "outputs": [
    {
     "name": "stdout",
     "output_type": "stream",
     "text": [
      "Number of orphan nodes: 688\n",
      "Number of missing nodes: 0\n"
     ]
    }
   ],
   "source": [
    "try:\n",
    "    sm.integrity_test_nodeset_consistency()\n",
    "except AssertionError:\n",
    "    print('Number of orphan nodes: {}'.format(\n",
    "        len(sm.orphan_nodes)))\n",
    "    print('Number of missing nodes: {}'.format(\n",
    "        len(sm.missing_nodes)))"
   ]
  },
  {
   "cell_type": "code",
   "execution_count": 38,
   "metadata": {},
   "outputs": [],
   "source": [
    "# Leave these nodes if they connect by more than one\n",
    "# footpath or access/egress link\n",
    "assert len(agg_nodes.loc[sm.orphan_nodes].loc[agg_nodes['n_connectors']>1].index) == len(sm.orphan_nodes)"
   ]
  },
  {
   "cell_type": "code",
   "execution_count": 39,
   "metadata": {},
   "outputs": [],
   "source": [
    "sm.nodes.drop(['n_links', 'n_connectors'], axis=1, inplace=True)"
   ]
  },
  {
   "cell_type": "code",
   "execution_count": 40,
   "metadata": {
    "scrolled": true
   },
   "outputs": [
    {
     "name": "stderr",
     "output_type": "stream",
     "text": [
      "100%|██████████████████████████████████████████████████████████████████████████| 50396/50396 [00:16<00:00, 3096.87it/s]\n"
     ]
    },
    {
     "data": {
      "text/html": [
       "<div>\n",
       "<style scoped>\n",
       "    .dataframe tbody tr th:only-of-type {\n",
       "        vertical-align: middle;\n",
       "    }\n",
       "\n",
       "    .dataframe tbody tr th {\n",
       "        vertical-align: top;\n",
       "    }\n",
       "\n",
       "    .dataframe thead th {\n",
       "        text-align: right;\n",
       "    }\n",
       "</style>\n",
       "<table border=\"1\" class=\"dataframe\">\n",
       "  <thead>\n",
       "    <tr style=\"text-align: right;\">\n",
       "      <th></th>\n",
       "    </tr>\n",
       "  </thead>\n",
       "  <tbody>\n",
       "  </tbody>\n",
       "</table>\n",
       "</div>"
      ],
      "text/plain": [
       "Empty DataFrame\n",
       "Columns: []\n",
       "Index: []"
      ]
     },
     "execution_count": 40,
     "metadata": {},
     "output_type": "execute_result"
    }
   ],
   "source": [
    "sm.links.groupby('trip_id').progress_apply(test_sequences)"
   ]
  },
  {
   "cell_type": "markdown",
   "metadata": {},
   "source": [
    "## Map nodes to zones\n",
    "Needed for the accessibility calculation"
   ]
  },
  {
   "cell_type": "code",
   "execution_count": 42,
   "metadata": {},
   "outputs": [
    {
     "data": {
      "text/html": [
       "<div>\n",
       "<style scoped>\n",
       "    .dataframe tbody tr th:only-of-type {\n",
       "        vertical-align: middle;\n",
       "    }\n",
       "\n",
       "    .dataframe tbody tr th {\n",
       "        vertical-align: top;\n",
       "    }\n",
       "\n",
       "    .dataframe thead th {\n",
       "        text-align: right;\n",
       "    }\n",
       "</style>\n",
       "<table border=\"1\" class=\"dataframe\">\n",
       "  <thead>\n",
       "    <tr style=\"text-align: right;\">\n",
       "      <th></th>\n",
       "      <th>CNTR_CODE</th>\n",
       "      <th>NUTS_NAME</th>\n",
       "      <th>LEVL_CODE</th>\n",
       "      <th>NUTS_ID</th>\n",
       "      <th>population</th>\n",
       "      <th>area</th>\n",
       "      <th>urbanisation</th>\n",
       "      <th>lau_id</th>\n",
       "      <th>geometry</th>\n",
       "    </tr>\n",
       "    <tr>\n",
       "      <th>index</th>\n",
       "      <th></th>\n",
       "      <th></th>\n",
       "      <th></th>\n",
       "      <th></th>\n",
       "      <th></th>\n",
       "      <th></th>\n",
       "      <th></th>\n",
       "      <th></th>\n",
       "      <th></th>\n",
       "    </tr>\n",
       "  </thead>\n",
       "  <tbody>\n",
       "    <tr>\n",
       "      <th>DE236</th>\n",
       "      <td>DE</td>\n",
       "      <td>Neumarkt i. d. OPf.</td>\n",
       "      <td>3</td>\n",
       "      <td>DE236</td>\n",
       "      <td>133561</td>\n",
       "      <td>1343.94</td>\n",
       "      <td>3.0</td>\n",
       "      <td>9373</td>\n",
       "      <td>POLYGON ((11.55776 49.41904, 11.56383 49.41863...</td>\n",
       "    </tr>\n",
       "  </tbody>\n",
       "</table>\n",
       "</div>"
      ],
      "text/plain": [
       "      CNTR_CODE            NUTS_NAME  LEVL_CODE NUTS_ID  population     area  \\\n",
       "index                                                                          \n",
       "DE236        DE  Neumarkt i. d. OPf.          3   DE236      133561  1343.94   \n",
       "\n",
       "       urbanisation lau_id                                           geometry  \n",
       "index                                                                          \n",
       "DE236           3.0   9373  POLYGON ((11.55776 49.41904, 11.56383 49.41863...  "
      ]
     },
     "execution_count": 42,
     "metadata": {},
     "output_type": "execute_result"
    }
   ],
   "source": [
    "sm.zones.sample()"
   ]
  },
  {
   "cell_type": "code",
   "execution_count": 44,
   "metadata": {},
   "outputs": [
    {
     "name": "stderr",
     "output_type": "stream",
     "text": [
      "100%|████████████████████████████████████████████████████████████████████████████████| 401/401 [00:51<00:00,  7.80it/s]\n"
     ]
    },
    {
     "data": {
      "text/plain": [
       "(21816, 4)"
      ]
     },
     "execution_count": 44,
     "metadata": {},
     "output_type": "execute_result"
    }
   ],
   "source": [
    "# Nodes must be a GeoDataFrame\n",
    "if 'FID' not in sm.nodes.columns:\n",
    "    import geopandas as gpd\n",
    "    sm.nodes = gpd.GeoDataFrame(sm.nodes, crs=sm.epsg)\n",
    "    shapely.speedups.enable()\n",
    "    sm.nodes['FID'] = np.nan\n",
    "    for _, zone in tqdm(sm.zones.iterrows(), total=sm.zones.shape[0]):\n",
    "        sm.nodes.loc[sm.nodes['geometry'].within(zone['geometry']), 'FID'] = zone['NUTS_ID']\n",
    "    # Drop zones outside the model zones\n",
    "    sm.nodes = sm.nodes[sm.nodes['FID'].notna()]\n",
    "    sm.nodes.shape"
   ]
  },
  {
   "cell_type": "code",
   "execution_count": 45,
   "metadata": {},
   "outputs": [
    {
     "data": {
      "text/html": [
       "<div>\n",
       "<style scoped>\n",
       "    .dataframe tbody tr th:only-of-type {\n",
       "        vertical-align: middle;\n",
       "    }\n",
       "\n",
       "    .dataframe tbody tr th {\n",
       "        vertical-align: top;\n",
       "    }\n",
       "\n",
       "    .dataframe thead th {\n",
       "        text-align: right;\n",
       "    }\n",
       "</style>\n",
       "<table border=\"1\" class=\"dataframe\">\n",
       "  <thead>\n",
       "    <tr style=\"text-align: right;\">\n",
       "      <th></th>\n",
       "      <th>geometry</th>\n",
       "      <th>route_type</th>\n",
       "      <th>stop_name</th>\n",
       "      <th>FID</th>\n",
       "    </tr>\n",
       "    <tr>\n",
       "      <th>index</th>\n",
       "      <th></th>\n",
       "      <th></th>\n",
       "      <th></th>\n",
       "      <th></th>\n",
       "    </tr>\n",
       "  </thead>\n",
       "  <tbody>\n",
       "    <tr>\n",
       "      <th>bus_n_217829</th>\n",
       "      <td>POINT (13.46576 52.49907)</td>\n",
       "      <td>bus</td>\n",
       "      <td>Markgrafendamm</td>\n",
       "      <td>DE300</td>\n",
       "    </tr>\n",
       "  </tbody>\n",
       "</table>\n",
       "</div>"
      ],
      "text/plain": [
       "                               geometry route_type       stop_name    FID\n",
       "index                                                                    \n",
       "bus_n_217829  POINT (13.46576 52.49907)        bus  Markgrafendamm  DE300"
      ]
     },
     "execution_count": 45,
     "metadata": {},
     "output_type": "execute_result"
    }
   ],
   "source": [
    "sm.nodes.sample()"
   ]
  },
  {
   "cell_type": "markdown",
   "metadata": {},
   "source": [
    "## Save model\n"
   ]
  },
  {
   "cell_type": "code",
   "execution_count": 49,
   "metadata": {},
   "outputs": [],
   "source": [
    "# Add bus service to ancilliary\n",
    "sm.pt_routes = sm.pt_routes.append(bus.pt_routes.loc[\n",
    "    bus.pt_routes['route_id'].isin(sm.links['route_id'].unique())])\n",
    "sm.agencies = sm.agencies.append(bus.agencies.loc[\n",
    "    bus.agencies['agency_id'].isin(sm.pt_routes['agency_id'].unique())])"
   ]
  },
  {
   "cell_type": "code",
   "execution_count": 50,
   "metadata": {},
   "outputs": [],
   "source": [
    "# Now, we have bus services in the same tables\n",
    "sm.pt_route_types.append('bus')"
   ]
  },
  {
   "cell_type": "code",
   "execution_count": 51,
   "metadata": {},
   "outputs": [],
   "source": [
    "# Reduce file size by shortening node index names\n",
    "sm.nodes['index'] = [i.replace('rail_short_n', 'r_s_n') for i in sm.nodes.index]\n",
    "sm.nodes.set_index('index', drop=True, inplace=True)\n",
    "sm.links['a'] = sm.links['a'].apply(lambda n: n.replace('rail_short_n', 'r_s_n'))\n",
    "sm.links['b'] = sm.links['b'].apply(lambda n: n.replace('rail_short_n', 'r_s_n'))"
   ]
  },
  {
   "cell_type": "code",
   "execution_count": 52,
   "metadata": {},
   "outputs": [],
   "source": [
    "sm.nodes['index'] = [i.replace('rail_long_node', 'r_l_n') for i in sm.nodes.index]\n",
    "sm.nodes.set_index('index', drop=True, inplace=True)\n",
    "sm.links['a'] = sm.links['a'].apply(lambda n: n.replace('rail_long_n', 'r_l_n'))\n",
    "sm.links['b'] = sm.links['b'].apply(lambda n: n.replace('rail_long_n', 'r_l_n'))"
   ]
  },
  {
   "cell_type": "code",
   "execution_count": 53,
   "metadata": {},
   "outputs": [],
   "source": [
    "# Shorten link index names\n",
    "sm.links['index'] = [i.replace('rail_long', 'r_l').replace('rail_short', 'r_s')\n",
    "                     for i in sm.links.index]\n",
    "sm.links.set_index('index', drop=True, inplace=True)"
   ]
  },
  {
   "cell_type": "code",
   "execution_count": 54,
   "metadata": {},
   "outputs": [],
   "source": [
    "# Shorten route type names\n",
    "type_dict = {'rail_short_distance': 'rail_short', 'rail_long_distance': 'rail_long'}\n",
    "sm.links['route_type'] = sm.links['route_type'].replace(type_dict)\n",
    "sm.nodes['route_type'] = sm.nodes['route_type'].replace(type_dict)\n",
    "sm.pt_route_types = [t.replace('_distance', '') for t in sm.pt_route_types]"
   ]
  },
  {
   "cell_type": "code",
   "execution_count": 55,
   "metadata": {},
   "outputs": [
    {
     "data": {
      "text/html": [
       "<div>\n",
       "<style scoped>\n",
       "    .dataframe tbody tr th:only-of-type {\n",
       "        vertical-align: middle;\n",
       "    }\n",
       "\n",
       "    .dataframe tbody tr th {\n",
       "        vertical-align: top;\n",
       "    }\n",
       "\n",
       "    .dataframe thead th {\n",
       "        text-align: right;\n",
       "    }\n",
       "</style>\n",
       "<table border=\"1\" class=\"dataframe\">\n",
       "  <thead>\n",
       "    <tr style=\"text-align: right;\">\n",
       "      <th></th>\n",
       "      <th>a</th>\n",
       "      <th>b</th>\n",
       "      <th>geometry</th>\n",
       "      <th>link_sequence</th>\n",
       "      <th>route_id</th>\n",
       "      <th>route_type</th>\n",
       "      <th>time</th>\n",
       "      <th>trip_id</th>\n",
       "    </tr>\n",
       "    <tr>\n",
       "      <th>index</th>\n",
       "      <th></th>\n",
       "      <th></th>\n",
       "      <th></th>\n",
       "      <th></th>\n",
       "      <th></th>\n",
       "      <th></th>\n",
       "      <th></th>\n",
       "      <th></th>\n",
       "    </tr>\n",
       "  </thead>\n",
       "  <tbody>\n",
       "    <tr>\n",
       "      <th>r_s_44630</th>\n",
       "      <td>r_s_n_11240</td>\n",
       "      <td>r_s_n_2498</td>\n",
       "      <td>LINESTRING (8.52873 50.09856, 8.54237 50.10263)</td>\n",
       "      <td>4.0</td>\n",
       "      <td>rail_short_15</td>\n",
       "      <td>rail_short</td>\n",
       "      <td>120.0</td>\n",
       "      <td>rail_short_6939</td>\n",
       "    </tr>\n",
       "  </tbody>\n",
       "</table>\n",
       "</div>"
      ],
      "text/plain": [
       "                     a           b  \\\n",
       "index                                \n",
       "r_s_44630  r_s_n_11240  r_s_n_2498   \n",
       "\n",
       "                                                  geometry  link_sequence  \\\n",
       "index                                                                       \n",
       "r_s_44630  LINESTRING (8.52873 50.09856, 8.54237 50.10263)            4.0   \n",
       "\n",
       "                route_id  route_type   time          trip_id  \n",
       "index                                                         \n",
       "r_s_44630  rail_short_15  rail_short  120.0  rail_short_6939  "
      ]
     },
     "execution_count": 55,
     "metadata": {},
     "output_type": "execute_result"
    }
   ],
   "source": [
    "sm.links.loc[sm.links['route_type']=='rail_short'].sample()"
   ]
  },
  {
   "cell_type": "code",
   "execution_count": 56,
   "metadata": {},
   "outputs": [],
   "source": [
    "# Cast columns to int\n",
    "cols = ['time', 'link_sequence']\n",
    "sm.links[cols] = sm.links[cols].astype(int)"
   ]
  },
  {
   "cell_type": "code",
   "execution_count": 57,
   "metadata": {},
   "outputs": [],
   "source": [
    "# Split links in graph and auxiliary information\n",
    "# for file sizes being compatible with github's size limit\n",
    "cols = ['link_sequence', 'route_id', 'time', 'trip_id']\n",
    "auxiliary = sm.links[cols]\n",
    "sm.links.drop(cols, axis=1, inplace=True)"
   ]
  },
  {
   "cell_type": "code",
   "execution_count": 58,
   "metadata": {},
   "outputs": [
    {
     "data": {
      "text/plain": [
       "(261366, 4)"
      ]
     },
     "execution_count": 58,
     "metadata": {},
     "output_type": "execute_result"
    }
   ],
   "source": [
    "sm.links.shape"
   ]
  },
  {
   "cell_type": "code",
   "execution_count": 59,
   "metadata": {},
   "outputs": [
    {
     "name": "stderr",
     "output_type": "stream",
     "text": [
      "to_hdf(overwriting): 100%|█████████████████████████████████████████████████████████████| 38/38 [00:48<00:00,  1.26s/it]\n",
      "to_hdf(overwriting): 100%|████████████████████████████████████████████████████████████| 38/38 [00:00<00:00, 486.48it/s]\n"
     ]
    }
   ],
   "source": [
    "# Saving model...\n",
    "sm.to_json(model_path + 'de_pt_network_agg',\n",
    "           only_attributes=['zones', 'links', 'nodes', 'pt_route_types'],\n",
    "           encoding='utf-8')\n",
    "sm.to_json(model_path + 'de_pt_network_ancillary',\n",
    "           only_attributes=['agencies', 'pt_routes'],\n",
    "           encoding='utf-8')"
   ]
  },
  {
   "cell_type": "code",
   "execution_count": 60,
   "metadata": {},
   "outputs": [],
   "source": [
    "# Save auxiliary information seperately\n",
    "auxiliary['index'] = auxiliary.index\n",
    "auxiliary.reset_index(drop=True, inplace=True)\n",
    "auxiliary.to_json(model_path + 'de_pt_network_agg/links_quetzaldata.json')"
   ]
  },
  {
   "cell_type": "markdown",
   "metadata": {},
   "source": [
    "## Merge frequencies\n",
    "\n",
    "The frequency files are too large to be loaded into a 8GB RAM together with the networks. Thus, they are handled afterwards, seperately"
   ]
  },
  {
   "cell_type": "code",
   "execution_count": 4,
   "metadata": {},
   "outputs": [],
   "source": [
    "# In case your kernel restarted: Load aggregation results\n",
    "#sm = stepmodel.read_json(model_path + 'de_pt_network_agg')\n",
    "# Otherwise\n",
    "sm.links[cols] = auxiliary.set_index('index')[cols]"
   ]
  },
  {
   "cell_type": "code",
   "execution_count": 5,
   "metadata": {},
   "outputs": [
    {
     "data": {
      "text/html": [
       "<div>\n",
       "<style scoped>\n",
       "    .dataframe tbody tr th:only-of-type {\n",
       "        vertical-align: middle;\n",
       "    }\n",
       "\n",
       "    .dataframe tbody tr th {\n",
       "        vertical-align: top;\n",
       "    }\n",
       "\n",
       "    .dataframe thead th {\n",
       "        text-align: right;\n",
       "    }\n",
       "</style>\n",
       "<table border=\"1\" class=\"dataframe\">\n",
       "  <thead>\n",
       "    <tr style=\"text-align: right;\">\n",
       "      <th></th>\n",
       "      <th>a</th>\n",
       "      <th>b</th>\n",
       "      <th>route_type</th>\n",
       "      <th>geometry</th>\n",
       "      <th>link_sequence</th>\n",
       "      <th>route_id</th>\n",
       "      <th>time</th>\n",
       "      <th>trip_id</th>\n",
       "    </tr>\n",
       "    <tr>\n",
       "      <th>index</th>\n",
       "      <th></th>\n",
       "      <th></th>\n",
       "      <th></th>\n",
       "      <th></th>\n",
       "      <th></th>\n",
       "      <th></th>\n",
       "      <th></th>\n",
       "      <th></th>\n",
       "    </tr>\n",
       "  </thead>\n",
       "  <tbody>\n",
       "    <tr>\n",
       "      <th>coach_21383</th>\n",
       "      <td>coach_n_FLIXBUS:26</td>\n",
       "      <td>coach_n_FLIXBUS:19</td>\n",
       "      <td>coach</td>\n",
       "      <td>LINESTRING (8.40045 48.99147, 8.47282 49.47808)</td>\n",
       "      <td>2</td>\n",
       "      <td>coach_FLIXBUS:N77</td>\n",
       "      <td>3600</td>\n",
       "      <td>coach_FLIXBUS:N77:2425:14:40:00Z-1</td>\n",
       "    </tr>\n",
       "  </tbody>\n",
       "</table>\n",
       "</div>"
      ],
      "text/plain": [
       "                              a                   b route_type  \\\n",
       "index                                                            \n",
       "coach_21383  coach_n_FLIXBUS:26  coach_n_FLIXBUS:19      coach   \n",
       "\n",
       "                                                    geometry  link_sequence  \\\n",
       "index                                                                         \n",
       "coach_21383  LINESTRING (8.40045 48.99147, 8.47282 49.47808)              2   \n",
       "\n",
       "                      route_id  time                             trip_id  \n",
       "index                                                                     \n",
       "coach_21383  coach_FLIXBUS:N77  3600  coach_FLIXBUS:N77:2425:14:40:00Z-1  "
      ]
     },
     "execution_count": 5,
     "metadata": {},
     "output_type": "execute_result"
    }
   ],
   "source": [
    "sm.links.sample()"
   ]
  },
  {
   "cell_type": "code",
   "execution_count": 6,
   "metadata": {},
   "outputs": [],
   "source": [
    "# Load frequencies\n",
    "bus_frequencies = pd.read_json(input_path + 'de_pt_network_frequencies/frequencies_bus.json')\n",
    "pt_frequencies = pd.read_json(input_path + 'de_pt_network_frequencies/frequencies_pt.json')"
   ]
  },
  {
   "cell_type": "code",
   "execution_count": 7,
   "metadata": {},
   "outputs": [],
   "source": [
    "# Drop duplicate index column\n",
    "pt_frequencies.drop('index', axis=1, errors='ignore', inplace=True)\n",
    "bus_frequencies.drop('index', axis=1, errors='ignore', inplace=True)"
   ]
  },
  {
   "cell_type": "code",
   "execution_count": 8,
   "metadata": {},
   "outputs": [],
   "source": [
    "# Replace rail node names\n",
    "pt_frequencies['stop_id'] = pt_frequencies['stop_id'].apply(lambda n: n.replace('rail_short_n', 'r_s_n'))\n",
    "pt_frequencies['stop_id'] = pt_frequencies['stop_id'].apply(lambda n: n.replace('rail_long_n', 'r_l_n'))"
   ]
  },
  {
   "cell_type": "code",
   "execution_count": 9,
   "metadata": {},
   "outputs": [],
   "source": [
    "# Drop frequencies of unused nodes and links\n",
    "frequencies = pt_frequencies.loc[\n",
    "    (pt_frequencies['stop_id'].isin(sm.nodes.index)) &\n",
    "    (pt_frequencies['route_id'].isin(sm.links['route_id']))]"
   ]
  },
  {
   "cell_type": "code",
   "execution_count": 10,
   "metadata": {},
   "outputs": [],
   "source": [
    "# Add bus\n",
    "frequencies = frequencies.append(bus_frequencies.loc[\n",
    "    (bus_frequencies['stop_id'].isin(sm.nodes.index)) &\n",
    "    (bus_frequencies['route_id'].isin(sm.links['route_id']))\n",
    "]).reset_index(drop=True)"
   ]
  },
  {
   "cell_type": "code",
   "execution_count": 11,
   "metadata": {},
   "outputs": [
    {
     "data": {
      "text/plain": [
       "(48135, 3)"
      ]
     },
     "execution_count": 11,
     "metadata": {},
     "output_type": "execute_result"
    }
   ],
   "source": [
    "frequencies.shape"
   ]
  },
  {
   "cell_type": "code",
   "execution_count": 12,
   "metadata": {},
   "outputs": [
    {
     "data": {
      "text/html": [
       "<div>\n",
       "<style scoped>\n",
       "    .dataframe tbody tr th:only-of-type {\n",
       "        vertical-align: middle;\n",
       "    }\n",
       "\n",
       "    .dataframe tbody tr th {\n",
       "        vertical-align: top;\n",
       "    }\n",
       "\n",
       "    .dataframe thead th {\n",
       "        text-align: right;\n",
       "    }\n",
       "</style>\n",
       "<table border=\"1\" class=\"dataframe\">\n",
       "  <thead>\n",
       "    <tr style=\"text-align: right;\">\n",
       "      <th></th>\n",
       "      <th>hour</th>\n",
       "      <th>route_id</th>\n",
       "      <th>stop_id</th>\n",
       "    </tr>\n",
       "  </thead>\n",
       "  <tbody>\n",
       "  </tbody>\n",
       "</table>\n",
       "</div>"
      ],
      "text/plain": [
       "Empty DataFrame\n",
       "Columns: [hour, route_id, stop_id]\n",
       "Index: []"
      ]
     },
     "execution_count": 12,
     "metadata": {},
     "output_type": "execute_result"
    }
   ],
   "source": [
    "frequencies.loc[frequencies.isna().any(axis=1)]"
   ]
  },
  {
   "cell_type": "code",
   "execution_count": 13,
   "metadata": {},
   "outputs": [],
   "source": [
    "# Save\n",
    "frequencies['index'] = frequencies.index\n",
    "frequencies.to_json(model_path + 'de_pt_network_ancillary/frequencies.json')"
   ]
  }
 ],
 "metadata": {
  "kernelspec": {
   "display_name": "Python 3",
   "language": "python",
   "name": "python3"
  },
  "language_info": {
   "codemirror_mode": {
    "name": "ipython",
    "version": 3
   },
   "file_extension": ".py",
   "mimetype": "text/x-python",
   "name": "python",
   "nbconvert_exporter": "python",
   "pygments_lexer": "ipython3",
   "version": "3.8.1"
  }
 },
 "nbformat": 4,
 "nbformat_minor": 2
}
