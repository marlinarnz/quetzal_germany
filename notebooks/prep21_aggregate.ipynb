{
 "cells": [
  {
   "cell_type": "code",
   "execution_count": 61,
   "metadata": {},
   "outputs": [],
   "source": [
    "import numpy as np\n",
    "import pandas as pd\n",
    "from shapely import geometry\n",
    "import shapely.speedups\n",
    "from tqdm import tqdm\n",
    "from quetzal.model import stepmodel"
   ]
  },
  {
   "cell_type": "markdown",
   "metadata": {},
   "source": [
    "# Preparation of the transport network.\n",
    "## Saves aggregated bus and short-distance rail network.\n",
    "## Needs PT networks with access and egress."
   ]
  },
  {
   "cell_type": "code",
   "execution_count": 62,
   "metadata": {},
   "outputs": [],
   "source": [
    "input_path = '../input_static/'\n",
    "output_path = '../output/'\n",
    "model_path = '../model/'"
   ]
  },
  {
   "cell_type": "code",
   "execution_count": 63,
   "metadata": {},
   "outputs": [],
   "source": [
    "# Loading StepModel with PT networks...\n",
    "sm = stepmodel.read_json(input_path + 'de_pt_network')\n",
    "bus = stepmodel.read_json(input_path + 'de_pt_network_bus')\n",
    "# Loading access and egress\n",
    "ae = stepmodel.read_json(model_path + 'de_pt_access_egress')"
   ]
  },
  {
   "cell_type": "code",
   "execution_count": 64,
   "metadata": {},
   "outputs": [
    {
     "data": {
      "text/html": [
       "<div>\n",
       "<style scoped>\n",
       "    .dataframe tbody tr th:only-of-type {\n",
       "        vertical-align: middle;\n",
       "    }\n",
       "\n",
       "    .dataframe tbody tr th {\n",
       "        vertical-align: top;\n",
       "    }\n",
       "\n",
       "    .dataframe thead th {\n",
       "        text-align: right;\n",
       "    }\n",
       "</style>\n",
       "<table border=\"1\" class=\"dataframe\">\n",
       "  <thead>\n",
       "    <tr style=\"text-align: right;\">\n",
       "      <th></th>\n",
       "      <th>route_type</th>\n",
       "      <th>stop_name</th>\n",
       "      <th>FID</th>\n",
       "      <th>geometry</th>\n",
       "    </tr>\n",
       "    <tr>\n",
       "      <th>index</th>\n",
       "      <th></th>\n",
       "      <th></th>\n",
       "      <th></th>\n",
       "      <th></th>\n",
       "    </tr>\n",
       "  </thead>\n",
       "  <tbody>\n",
       "    <tr>\n",
       "      <th>coach_node_FLIXBUS:2855</th>\n",
       "      <td>coach</td>\n",
       "      <td>Potsdam</td>\n",
       "      <td>DE404</td>\n",
       "      <td>POINT (13.06755 52.39055)</td>\n",
       "    </tr>\n",
       "  </tbody>\n",
       "</table>\n",
       "</div>"
      ],
      "text/plain": [
       "                        route_type stop_name    FID                   geometry\n",
       "index                                                                         \n",
       "coach_node_FLIXBUS:2855      coach   Potsdam  DE404  POINT (13.06755 52.39055)"
      ]
     },
     "execution_count": 64,
     "metadata": {},
     "output_type": "execute_result"
    }
   ],
   "source": [
    "sm.nodes.sample()"
   ]
  },
  {
   "cell_type": "code",
   "execution_count": 65,
   "metadata": {},
   "outputs": [
    {
     "name": "stdout",
     "output_type": "stream",
     "text": [
      "Found 5 orphan nodes\n",
      "no road_links or road_nodes\n"
     ]
    }
   ],
   "source": [
    "# Check nodeset integrity for later steps to work\n",
    "try:\n",
    "    sm.integrity_test_nodeset_consistency()\n",
    "except AssertionError:\n",
    "    print('Found {} orphan nodes'.format(len(sm.orphan_nodes)))\n",
    "    sm.nodes.drop(sm.orphan_nodes, inplace=True)\n",
    "    # Test integrity again\n",
    "    sm.integrity_test_nodeset_consistency()"
   ]
  },
  {
   "cell_type": "code",
   "execution_count": 66,
   "metadata": {},
   "outputs": [],
   "source": [
    "# Test sequences\n",
    "# Use an own function because quetzal's takes ages\n",
    "def test_sequences(trip):\n",
    "    assert len(trip)==trip['link_sequence'].max(), \\\n",
    "        'broken sequence in trip {}'.format(trip['trip_id'].unique()[0])"
   ]
  },
  {
   "cell_type": "code",
   "execution_count": 67,
   "metadata": {},
   "outputs": [],
   "source": [
    "# Fix sequences\n",
    "# Use an own function because quetzal's takes ages\n",
    "def fix_sequences(trip):\n",
    "    trip = trip.sort_values('link_sequence')\n",
    "    # Check link succession\n",
    "    ind = list(trip.index)\n",
    "    for i in range(len(trip.index) - 1):\n",
    "        try:\n",
    "            assert trip.loc[ind[i], 'b'] == trip.loc[ind[i+1], 'a'], \\\n",
    "                'broken trip {}: stop {} has no successor link'.format(\n",
    "                    trip['trip_id'].unique()[0], trip.loc[ind[i], 'b'])\n",
    "        except AssertionError:\n",
    "            trip.loc[ind[i+1]:ind[-1], 'trip_id'] = \\\n",
    "                trip.loc[ind[i+1]:ind[-1], 'trip_id'] + '_' + str(i)\n",
    "    # Repair sequences\n",
    "    if len(trip) != trip['link_sequence'].max():\n",
    "        trip['link_sequence'] = trip.groupby('trip_id')['link_sequence'].apply(\n",
    "            lambda t: [j for j in range(1, len(t.index)+1)]).sum()\n",
    "    return trip"
   ]
  },
  {
   "cell_type": "code",
   "execution_count": 68,
   "metadata": {},
   "outputs": [],
   "source": [
    "# Test and save broken sequences\n",
    "def test_sequences_save(trip):\n",
    "    if len(trip)!=trip['link_sequence'].max():\n",
    "        return list(trip.index)"
   ]
  },
  {
   "cell_type": "code",
   "execution_count": 69,
   "metadata": {},
   "outputs": [
    {
     "name": "stderr",
     "output_type": "stream",
     "text": [
      "100%|██████████████████████████████████████████████████████████████████████████| 21118/21118 [00:07<00:00, 2852.04it/s]\n"
     ]
    }
   ],
   "source": [
    "tqdm.pandas()\n",
    "try:\n",
    "    sm.links.groupby('trip_id').progress_apply(test_sequences)\n",
    "except AssertionError:\n",
    "    links = sm.links.groupby('trip_id').progress_apply(fix_sequences).reset_index(level=0, drop=True)\n",
    "    links.groupby('trip_id').progress_apply(test_sequences)\n",
    "    sm.links = links"
   ]
  },
  {
   "cell_type": "code",
   "execution_count": 70,
   "metadata": {},
   "outputs": [
    {
     "name": "stderr",
     "output_type": "stream",
     "text": [
      "100%|████████████████████████████████████████████████████████████████████████| 210028/210028 [01:14<00:00, 2816.06it/s]\n"
     ]
    }
   ],
   "source": [
    "broken_seqs = bus.links.groupby('trip_id').progress_apply(test_sequences_save)"
   ]
  },
  {
   "cell_type": "code",
   "execution_count": 71,
   "metadata": {},
   "outputs": [
    {
     "data": {
      "text/plain": [
       "trip_id\n",
       "bus_1000218    [bus_2798066, bus_2798067, bus_2798068, bus_27...\n",
       "bus_10004      [bus_134951, bus_134952, bus_134953, bus_13495...\n",
       "bus_1003106    [bus_2802750, bus_2802751, bus_2802752, bus_28...\n",
       "bus_1003982    [bus_2804123, bus_2804124, bus_2804125, bus_28...\n",
       "bus_10068      [bus_135639, bus_135640, bus_135641, bus_13564...\n",
       "                                     ...                        \n",
       "bus_99702      [bus_729540, bus_729541, bus_729542, bus_72954...\n",
       "bus_99879      [bus_730188, bus_730189, bus_730190, bus_73019...\n",
       "bus_999762     [bus_2797494, bus_2797495, bus_2797496, bus_27...\n",
       "bus_999928     [bus_2797641, bus_2797642, bus_2797643, bus_27...\n",
       "bus_99996      [bus_730718, bus_730719, bus_730720, bus_73072...\n",
       "Length: 2178, dtype: object"
      ]
     },
     "execution_count": 71,
     "metadata": {},
     "output_type": "execute_result"
    }
   ],
   "source": [
    "broken_seqs.loc[broken_seqs.notna()]"
   ]
  },
  {
   "cell_type": "code",
   "execution_count": 72,
   "metadata": {},
   "outputs": [
    {
     "name": "stderr",
     "output_type": "stream",
     "text": [
      "100%|██████████████████████████████████████████████████████████████████████████████| 2178/2178 [01:01<00:00, 35.13it/s]\n"
     ]
    }
   ],
   "source": [
    "links = bus.links.loc[broken_seqs.loc[broken_seqs.notna()].sum()\n",
    "                     ].groupby('trip_id').progress_apply(fix_sequences)"
   ]
  },
  {
   "cell_type": "code",
   "execution_count": 73,
   "metadata": {},
   "outputs": [
    {
     "data": {
      "text/html": [
       "<div>\n",
       "<style scoped>\n",
       "    .dataframe tbody tr th:only-of-type {\n",
       "        vertical-align: middle;\n",
       "    }\n",
       "\n",
       "    .dataframe tbody tr th {\n",
       "        vertical-align: top;\n",
       "    }\n",
       "\n",
       "    .dataframe thead th {\n",
       "        text-align: right;\n",
       "    }\n",
       "</style>\n",
       "<table border=\"1\" class=\"dataframe\">\n",
       "  <thead>\n",
       "    <tr style=\"text-align: right;\">\n",
       "      <th></th>\n",
       "      <th></th>\n",
       "      <th>route_id</th>\n",
       "      <th>route_type</th>\n",
       "      <th>a</th>\n",
       "      <th>b</th>\n",
       "      <th>time</th>\n",
       "      <th>trip_id</th>\n",
       "      <th>link_sequence</th>\n",
       "      <th>geometry</th>\n",
       "    </tr>\n",
       "    <tr>\n",
       "      <th>trip_id</th>\n",
       "      <th>index</th>\n",
       "      <th></th>\n",
       "      <th></th>\n",
       "      <th></th>\n",
       "      <th></th>\n",
       "      <th></th>\n",
       "      <th></th>\n",
       "      <th></th>\n",
       "      <th></th>\n",
       "    </tr>\n",
       "  </thead>\n",
       "  <tbody>\n",
       "    <tr>\n",
       "      <th>bus_453113</th>\n",
       "      <th>bus_1784861</th>\n",
       "      <td>bus_17486</td>\n",
       "      <td>bus</td>\n",
       "      <td>bus_n_146827</td>\n",
       "      <td>bus_n_101299</td>\n",
       "      <td>120.0</td>\n",
       "      <td>bus_453113_0_1_2_3_4_5_6_8</td>\n",
       "      <td>40</td>\n",
       "      <td>LINESTRING (8.86357 53.20147, 8.84267 53.19446)</td>\n",
       "    </tr>\n",
       "  </tbody>\n",
       "</table>\n",
       "</div>"
      ],
      "text/plain": [
       "                         route_id route_type             a             b  \\\n",
       "trip_id    index                                                           \n",
       "bus_453113 bus_1784861  bus_17486        bus  bus_n_146827  bus_n_101299   \n",
       "\n",
       "                         time                     trip_id  link_sequence  \\\n",
       "trip_id    index                                                           \n",
       "bus_453113 bus_1784861  120.0  bus_453113_0_1_2_3_4_5_6_8             40   \n",
       "\n",
       "                                                               geometry  \n",
       "trip_id    index                                                         \n",
       "bus_453113 bus_1784861  LINESTRING (8.86357 53.20147, 8.84267 53.19446)  "
      ]
     },
     "execution_count": 73,
     "metadata": {},
     "output_type": "execute_result"
    }
   ],
   "source": [
    "links.sample()"
   ]
  },
  {
   "cell_type": "code",
   "execution_count": 74,
   "metadata": {},
   "outputs": [
    {
     "data": {
      "text/plain": [
       "(63092, 8)"
      ]
     },
     "execution_count": 74,
     "metadata": {},
     "output_type": "execute_result"
    }
   ],
   "source": [
    "links.shape"
   ]
  },
  {
   "cell_type": "code",
   "execution_count": 75,
   "metadata": {},
   "outputs": [],
   "source": [
    "links.reset_index(level=0, drop=True, inplace=True)"
   ]
  },
  {
   "cell_type": "code",
   "execution_count": 76,
   "metadata": {},
   "outputs": [
    {
     "name": "stderr",
     "output_type": "stream",
     "text": [
      "100%|██████████████████████████████████████████████████████████████████████████| 36574/36574 [00:11<00:00, 3285.25it/s]\n"
     ]
    },
    {
     "data": {
      "text/html": [
       "<div>\n",
       "<style scoped>\n",
       "    .dataframe tbody tr th:only-of-type {\n",
       "        vertical-align: middle;\n",
       "    }\n",
       "\n",
       "    .dataframe tbody tr th {\n",
       "        vertical-align: top;\n",
       "    }\n",
       "\n",
       "    .dataframe thead th {\n",
       "        text-align: right;\n",
       "    }\n",
       "</style>\n",
       "<table border=\"1\" class=\"dataframe\">\n",
       "  <thead>\n",
       "    <tr style=\"text-align: right;\">\n",
       "      <th></th>\n",
       "    </tr>\n",
       "  </thead>\n",
       "  <tbody>\n",
       "  </tbody>\n",
       "</table>\n",
       "</div>"
      ],
      "text/plain": [
       "Empty DataFrame\n",
       "Columns: []\n",
       "Index: []"
      ]
     },
     "execution_count": 76,
     "metadata": {},
     "output_type": "execute_result"
    }
   ],
   "source": [
    "links.groupby('trip_id').progress_apply(test_sequences)"
   ]
  },
  {
   "cell_type": "code",
   "execution_count": 77,
   "metadata": {},
   "outputs": [],
   "source": [
    "bus.links = bus.links.drop(broken_seqs.loc[broken_seqs.notna()].sum()).append(links)"
   ]
  },
  {
   "cell_type": "code",
   "execution_count": 78,
   "metadata": {},
   "outputs": [
    {
     "data": {
      "text/html": [
       "<div>\n",
       "<style scoped>\n",
       "    .dataframe tbody tr th:only-of-type {\n",
       "        vertical-align: middle;\n",
       "    }\n",
       "\n",
       "    .dataframe tbody tr th {\n",
       "        vertical-align: top;\n",
       "    }\n",
       "\n",
       "    .dataframe thead th {\n",
       "        text-align: right;\n",
       "    }\n",
       "</style>\n",
       "<table border=\"1\" class=\"dataframe\">\n",
       "  <thead>\n",
       "    <tr style=\"text-align: right;\">\n",
       "      <th></th>\n",
       "      <th>route_id</th>\n",
       "      <th>route_type</th>\n",
       "      <th>a</th>\n",
       "      <th>b</th>\n",
       "      <th>time</th>\n",
       "      <th>trip_id</th>\n",
       "      <th>link_sequence</th>\n",
       "      <th>geometry</th>\n",
       "    </tr>\n",
       "    <tr>\n",
       "      <th>index</th>\n",
       "      <th></th>\n",
       "      <th></th>\n",
       "      <th></th>\n",
       "      <th></th>\n",
       "      <th></th>\n",
       "      <th></th>\n",
       "      <th></th>\n",
       "      <th></th>\n",
       "    </tr>\n",
       "  </thead>\n",
       "  <tbody>\n",
       "    <tr>\n",
       "      <th>bus_2495760</th>\n",
       "      <td>bus_12218</td>\n",
       "      <td>bus</td>\n",
       "      <td>bus_n_402830</td>\n",
       "      <td>bus_n_207384</td>\n",
       "      <td>180.0</td>\n",
       "      <td>bus_815375</td>\n",
       "      <td>20</td>\n",
       "      <td>LINESTRING (12.54127 50.84612, 12.54136 50.83693)</td>\n",
       "    </tr>\n",
       "  </tbody>\n",
       "</table>\n",
       "</div>"
      ],
      "text/plain": [
       "              route_id route_type             a             b   time  \\\n",
       "index                                                                  \n",
       "bus_2495760  bus_12218        bus  bus_n_402830  bus_n_207384  180.0   \n",
       "\n",
       "                trip_id  link_sequence  \\\n",
       "index                                    \n",
       "bus_2495760  bus_815375             20   \n",
       "\n",
       "                                                      geometry  \n",
       "index                                                           \n",
       "bus_2495760  LINESTRING (12.54127 50.84612, 12.54136 50.83693)  "
      ]
     },
     "execution_count": 78,
     "metadata": {},
     "output_type": "execute_result"
    }
   ],
   "source": [
    "bus.links.sample()"
   ]
  },
  {
   "cell_type": "code",
   "execution_count": 79,
   "metadata": {},
   "outputs": [
    {
     "data": {
      "text/html": [
       "<div>\n",
       "<style scoped>\n",
       "    .dataframe tbody tr th:only-of-type {\n",
       "        vertical-align: middle;\n",
       "    }\n",
       "\n",
       "    .dataframe tbody tr th {\n",
       "        vertical-align: top;\n",
       "    }\n",
       "\n",
       "    .dataframe thead th {\n",
       "        text-align: right;\n",
       "    }\n",
       "</style>\n",
       "<table border=\"1\" class=\"dataframe\">\n",
       "  <thead>\n",
       "    <tr style=\"text-align: right;\">\n",
       "      <th></th>\n",
       "      <th>stop_name</th>\n",
       "      <th>route_type</th>\n",
       "      <th>FID</th>\n",
       "      <th>geometry</th>\n",
       "    </tr>\n",
       "    <tr>\n",
       "      <th>index</th>\n",
       "      <th></th>\n",
       "      <th></th>\n",
       "      <th></th>\n",
       "      <th></th>\n",
       "    </tr>\n",
       "  </thead>\n",
       "  <tbody>\n",
       "    <tr>\n",
       "      <th>bus_n_172631</th>\n",
       "      <td>Reddebeitz</td>\n",
       "      <td>bus</td>\n",
       "      <td>DE934</td>\n",
       "      <td>POINT (11.18059 52.94834)</td>\n",
       "    </tr>\n",
       "  </tbody>\n",
       "</table>\n",
       "</div>"
      ],
      "text/plain": [
       "               stop_name route_type    FID                   geometry\n",
       "index                                                                \n",
       "bus_n_172631  Reddebeitz        bus  DE934  POINT (11.18059 52.94834)"
      ]
     },
     "execution_count": 79,
     "metadata": {},
     "output_type": "execute_result"
    }
   ],
   "source": [
    "bus.nodes.sample()"
   ]
  },
  {
   "cell_type": "code",
   "execution_count": 80,
   "metadata": {},
   "outputs": [
    {
     "name": "stdout",
     "output_type": "stream",
     "text": [
      "(15376, 4)\n",
      "(413611, 4)\n"
     ]
    }
   ],
   "source": [
    "# Drop nodes outside of zones\n",
    "if 'FID' in sm.nodes.columns:\n",
    "    sm.nodes = sm.nodes[sm.nodes['FID'].notna()]\n",
    "    bus.nodes = bus.nodes[bus.nodes['FID'].notna()]\n",
    "    print(sm.nodes.shape)\n",
    "    print(bus.nodes.shape)"
   ]
  },
  {
   "cell_type": "code",
   "execution_count": 81,
   "metadata": {},
   "outputs": [
    {
     "data": {
      "text/html": [
       "<div>\n",
       "<style scoped>\n",
       "    .dataframe tbody tr th:only-of-type {\n",
       "        vertical-align: middle;\n",
       "    }\n",
       "\n",
       "    .dataframe tbody tr th {\n",
       "        vertical-align: top;\n",
       "    }\n",
       "\n",
       "    .dataframe thead th {\n",
       "        text-align: right;\n",
       "    }\n",
       "</style>\n",
       "<table border=\"1\" class=\"dataframe\">\n",
       "  <thead>\n",
       "    <tr style=\"text-align: right;\">\n",
       "      <th></th>\n",
       "      <th>a</th>\n",
       "      <th>b</th>\n",
       "      <th>link_sequence</th>\n",
       "      <th>route_id</th>\n",
       "      <th>route_type</th>\n",
       "      <th>time</th>\n",
       "      <th>trip_id</th>\n",
       "      <th>geometry</th>\n",
       "    </tr>\n",
       "    <tr>\n",
       "      <th>index</th>\n",
       "      <th></th>\n",
       "      <th></th>\n",
       "      <th></th>\n",
       "      <th></th>\n",
       "      <th></th>\n",
       "      <th></th>\n",
       "      <th></th>\n",
       "      <th></th>\n",
       "    </tr>\n",
       "  </thead>\n",
       "  <tbody>\n",
       "  </tbody>\n",
       "</table>\n",
       "</div>"
      ],
      "text/plain": [
       "Empty DataFrame\n",
       "Columns: [a, b, link_sequence, route_id, route_type, time, trip_id, geometry]\n",
       "Index: []"
      ]
     },
     "execution_count": 81,
     "metadata": {},
     "output_type": "execute_result"
    }
   ],
   "source": [
    "sm.links.loc[sm.links.duplicated(['a', 'b', 'trip_id'], keep=False)]"
   ]
  },
  {
   "cell_type": "code",
   "execution_count": 82,
   "metadata": {},
   "outputs": [
    {
     "name": "stdout",
     "output_type": "stream",
     "text": [
      "(15376, 4)\n",
      "(413611, 4)\n"
     ]
    }
   ],
   "source": [
    "# Divide nodes\n",
    "print(sm.nodes.shape)\n",
    "#disagg_nodes = sm.nodes.loc[sm.nodes['route_type']=='rail_short_distance'].append(bus.nodes)\n",
    "#sm.nodes = sm.nodes.loc[sm.nodes['route_type']!='rail_short_distance']\n",
    "disagg_nodes = bus.nodes\n",
    "print(disagg_nodes.shape)"
   ]
  },
  {
   "cell_type": "code",
   "execution_count": 83,
   "metadata": {},
   "outputs": [
    {
     "name": "stdout",
     "output_type": "stream",
     "text": [
      "(213129, 8)\n",
      "(3210535, 8)\n"
     ]
    }
   ],
   "source": [
    "# Divide links\n",
    "print(sm.links.shape)\n",
    "#disagg_links = sm.links.loc[sm.links['route_type']=='rail_short_distance'].append(bus.links)\n",
    "#sm.links = sm.links.loc[sm.links['route_type']!='rail_short_distance']\n",
    "disagg_links = bus.links\n",
    "print(disagg_links.shape)"
   ]
  },
  {
   "cell_type": "code",
   "execution_count": 84,
   "metadata": {},
   "outputs": [
    {
     "data": {
      "text/plain": [
       "244424"
      ]
     },
     "execution_count": 84,
     "metadata": {},
     "output_type": "execute_result"
    }
   ],
   "source": [
    "# Number of trips\n",
    "len(disagg_links['trip_id'].unique())"
   ]
  },
  {
   "cell_type": "markdown",
   "metadata": {},
   "source": [
    "## Remove unneccessary stops\n",
    "Bus and short-distance rail service in the GTFS feeds contain trips with not further connected intermediate stops. Thus, the PT network graph can be reduced without loss of information."
   ]
  },
  {
   "cell_type": "code",
   "execution_count": 85,
   "metadata": {},
   "outputs": [
    {
     "data": {
      "text/html": [
       "<div>\n",
       "<style scoped>\n",
       "    .dataframe tbody tr th:only-of-type {\n",
       "        vertical-align: middle;\n",
       "    }\n",
       "\n",
       "    .dataframe tbody tr th {\n",
       "        vertical-align: top;\n",
       "    }\n",
       "\n",
       "    .dataframe thead th {\n",
       "        text-align: right;\n",
       "    }\n",
       "</style>\n",
       "<table border=\"1\" class=\"dataframe\">\n",
       "  <thead>\n",
       "    <tr style=\"text-align: right;\">\n",
       "      <th></th>\n",
       "      <th>a</th>\n",
       "      <th>b</th>\n",
       "      <th>link_sequence</th>\n",
       "      <th>route_id</th>\n",
       "      <th>route_type</th>\n",
       "      <th>time</th>\n",
       "      <th>trip_id</th>\n",
       "      <th>geometry</th>\n",
       "    </tr>\n",
       "    <tr>\n",
       "      <th>index</th>\n",
       "      <th></th>\n",
       "      <th></th>\n",
       "      <th></th>\n",
       "      <th></th>\n",
       "      <th></th>\n",
       "      <th></th>\n",
       "      <th></th>\n",
       "      <th></th>\n",
       "    </tr>\n",
       "  </thead>\n",
       "  <tbody>\n",
       "    <tr>\n",
       "      <th>rail_short_126705</th>\n",
       "      <td>rail_short_node_12415</td>\n",
       "      <td>rail_short_node_4987</td>\n",
       "      <td>1.0</td>\n",
       "      <td>rail_short_17</td>\n",
       "      <td>rail_short_distance</td>\n",
       "      <td>660.0</td>\n",
       "      <td>rail_short_32958</td>\n",
       "      <td>LINESTRING (11.09701 47.49145, 11.13927 47.55927)</td>\n",
       "    </tr>\n",
       "  </tbody>\n",
       "</table>\n",
       "</div>"
      ],
      "text/plain": [
       "                                       a                     b  link_sequence  \\\n",
       "index                                                                           \n",
       "rail_short_126705  rail_short_node_12415  rail_short_node_4987            1.0   \n",
       "\n",
       "                        route_id           route_type   time  \\\n",
       "index                                                          \n",
       "rail_short_126705  rail_short_17  rail_short_distance  660.0   \n",
       "\n",
       "                            trip_id  \\\n",
       "index                                 \n",
       "rail_short_126705  rail_short_32958   \n",
       "\n",
       "                                                            geometry  \n",
       "index                                                                 \n",
       "rail_short_126705  LINESTRING (11.09701 47.49145, 11.13927 47.55927)  "
      ]
     },
     "execution_count": 85,
     "metadata": {},
     "output_type": "execute_result"
    }
   ],
   "source": [
    "sm.links.sample()"
   ]
  },
  {
   "cell_type": "code",
   "execution_count": 86,
   "metadata": {},
   "outputs": [],
   "source": [
    "# Count the number of links to/from each node\n",
    "n_links_dict = disagg_links[['a', 'b']].stack().value_counts().to_dict()\n",
    "connector_set = ae.zone_to_transit[['a', 'b']].append(ae.footpaths[['a', 'b']])\n",
    "n_connectors_dict = connector_set.stack().value_counts().to_dict()\n",
    "disagg_nodes['n_links'] = [n_links_dict[i] for i in list(disagg_nodes.index)]\n",
    "disagg_nodes['n_connectors'] = disagg_nodes.index.map(n_connectors_dict)\n",
    "disagg_nodes['n_connectors'].replace(np.nan, 0, inplace=True)"
   ]
  },
  {
   "cell_type": "code",
   "execution_count": 87,
   "metadata": {},
   "outputs": [
    {
     "data": {
      "text/html": [
       "<div>\n",
       "<style scoped>\n",
       "    .dataframe tbody tr th:only-of-type {\n",
       "        vertical-align: middle;\n",
       "    }\n",
       "\n",
       "    .dataframe tbody tr th {\n",
       "        vertical-align: top;\n",
       "    }\n",
       "\n",
       "    .dataframe thead th {\n",
       "        text-align: right;\n",
       "    }\n",
       "</style>\n",
       "<table border=\"1\" class=\"dataframe\">\n",
       "  <thead>\n",
       "    <tr style=\"text-align: right;\">\n",
       "      <th></th>\n",
       "      <th>stop_name</th>\n",
       "      <th>route_type</th>\n",
       "      <th>FID</th>\n",
       "      <th>geometry</th>\n",
       "      <th>n_links</th>\n",
       "      <th>n_connectors</th>\n",
       "    </tr>\n",
       "    <tr>\n",
       "      <th>index</th>\n",
       "      <th></th>\n",
       "      <th></th>\n",
       "      <th></th>\n",
       "      <th></th>\n",
       "      <th></th>\n",
       "      <th></th>\n",
       "    </tr>\n",
       "  </thead>\n",
       "  <tbody>\n",
       "  </tbody>\n",
       "</table>\n",
       "</div>"
      ],
      "text/plain": [
       "Empty DataFrame\n",
       "Columns: [stop_name, route_type, FID, geometry, n_links, n_connectors]\n",
       "Index: []"
      ]
     },
     "execution_count": 87,
     "metadata": {},
     "output_type": "execute_result"
    }
   ],
   "source": [
    "disagg_nodes.loc[disagg_nodes.isna().any(axis=1)]"
   ]
  },
  {
   "cell_type": "code",
   "execution_count": 88,
   "metadata": {},
   "outputs": [
    {
     "name": "stdout",
     "output_type": "stream",
     "text": [
      "(413611, 6)\n",
      "(0, 6)\n"
     ]
    }
   ],
   "source": [
    "print(disagg_nodes.loc[disagg_nodes['route_type']=='bus'].shape)\n",
    "print(disagg_nodes.loc[disagg_nodes['route_type']!='bus'].shape)"
   ]
  },
  {
   "cell_type": "code",
   "execution_count": 89,
   "metadata": {},
   "outputs": [
    {
     "data": {
      "text/html": [
       "<div>\n",
       "<style scoped>\n",
       "    .dataframe tbody tr th:only-of-type {\n",
       "        vertical-align: middle;\n",
       "    }\n",
       "\n",
       "    .dataframe tbody tr th {\n",
       "        vertical-align: top;\n",
       "    }\n",
       "\n",
       "    .dataframe thead th {\n",
       "        text-align: right;\n",
       "    }\n",
       "</style>\n",
       "<table border=\"1\" class=\"dataframe\">\n",
       "  <thead>\n",
       "    <tr style=\"text-align: right;\">\n",
       "      <th></th>\n",
       "      <th>stop_name</th>\n",
       "      <th>route_type</th>\n",
       "      <th>FID</th>\n",
       "      <th>geometry</th>\n",
       "      <th>n_links</th>\n",
       "      <th>n_connectors</th>\n",
       "    </tr>\n",
       "    <tr>\n",
       "      <th>index</th>\n",
       "      <th></th>\n",
       "      <th></th>\n",
       "      <th></th>\n",
       "      <th></th>\n",
       "      <th></th>\n",
       "      <th></th>\n",
       "    </tr>\n",
       "  </thead>\n",
       "  <tbody>\n",
       "    <tr>\n",
       "      <th>bus_n_366710</th>\n",
       "      <td>Stuttgart Nägelestraße</td>\n",
       "      <td>bus</td>\n",
       "      <td>DE111</td>\n",
       "      <td>POINT (9.17357 48.75149)</td>\n",
       "      <td>4</td>\n",
       "      <td>0.0</td>\n",
       "    </tr>\n",
       "    <tr>\n",
       "      <th>bus_n_176065</th>\n",
       "      <td>Bausendorf, Parkanlage</td>\n",
       "      <td>bus</td>\n",
       "      <td>DEB22</td>\n",
       "      <td>POINT (6.99489 50.01281)</td>\n",
       "      <td>16</td>\n",
       "      <td>0.0</td>\n",
       "    </tr>\n",
       "  </tbody>\n",
       "</table>\n",
       "</div>"
      ],
      "text/plain": [
       "                           stop_name route_type    FID  \\\n",
       "index                                                    \n",
       "bus_n_366710  Stuttgart Nägelestraße        bus  DE111   \n",
       "bus_n_176065  Bausendorf, Parkanlage        bus  DEB22   \n",
       "\n",
       "                              geometry  n_links  n_connectors  \n",
       "index                                                          \n",
       "bus_n_366710  POINT (9.17357 48.75149)        4           0.0  \n",
       "bus_n_176065  POINT (6.99489 50.01281)       16           0.0  "
      ]
     },
     "execution_count": 89,
     "metadata": {},
     "output_type": "execute_result"
    }
   ],
   "source": [
    "disagg_nodes.sample(2)"
   ]
  },
  {
   "cell_type": "code",
   "execution_count": 90,
   "metadata": {},
   "outputs": [],
   "source": [
    "# Keep interconnected rail trips but drop all bus trips\n",
    "# without connection to another mode or centroid\n",
    "agg_nodes = disagg_nodes.loc[\n",
    "    ((disagg_nodes['route_type']!='bus') &\n",
    "     ((disagg_nodes['n_links'] > 3) |\n",
    "      (disagg_nodes['n_connectors'] > 0))\n",
    "    ) | (\n",
    "        (disagg_nodes['route_type']=='bus') &\n",
    "        (disagg_nodes['n_connectors'] > 0)\n",
    "    )]"
   ]
  },
  {
   "cell_type": "code",
   "execution_count": 91,
   "metadata": {},
   "outputs": [
    {
     "name": "stdout",
     "output_type": "stream",
     "text": [
      "(12202, 6)\n",
      "(0, 6)\n"
     ]
    }
   ],
   "source": [
    "print(agg_nodes.loc[agg_nodes['route_type']=='bus'].shape)\n",
    "print(agg_nodes.loc[agg_nodes['route_type']!='bus'].shape)"
   ]
  },
  {
   "cell_type": "markdown",
   "metadata": {},
   "source": [
    "### Aggregate links within the broken trips"
   ]
  },
  {
   "cell_type": "code",
   "execution_count": 92,
   "metadata": {},
   "outputs": [],
   "source": [
    "# Mark dropped nodes\n",
    "disagg_links['relevant'] = disagg_links['a'].isin(list(agg_nodes.index)) | \\\n",
    "    disagg_links['b'].isin(list(agg_nodes.index))"
   ]
  },
  {
   "cell_type": "code",
   "execution_count": 93,
   "metadata": {},
   "outputs": [
    {
     "data": {
      "text/plain": [
       "(205415, 9)"
      ]
     },
     "execution_count": 93,
     "metadata": {},
     "output_type": "execute_result"
    }
   ],
   "source": [
    "disagg_links.loc[disagg_links['relevant']].shape"
   ]
  },
  {
   "cell_type": "code",
   "execution_count": 94,
   "metadata": {},
   "outputs": [
    {
     "data": {
      "text/html": [
       "<div>\n",
       "<style scoped>\n",
       "    .dataframe tbody tr th:only-of-type {\n",
       "        vertical-align: middle;\n",
       "    }\n",
       "\n",
       "    .dataframe tbody tr th {\n",
       "        vertical-align: top;\n",
       "    }\n",
       "\n",
       "    .dataframe thead th {\n",
       "        text-align: right;\n",
       "    }\n",
       "</style>\n",
       "<table border=\"1\" class=\"dataframe\">\n",
       "  <thead>\n",
       "    <tr style=\"text-align: right;\">\n",
       "      <th></th>\n",
       "      <th>route_id</th>\n",
       "      <th>route_type</th>\n",
       "      <th>a</th>\n",
       "      <th>b</th>\n",
       "      <th>time</th>\n",
       "      <th>trip_id</th>\n",
       "      <th>link_sequence</th>\n",
       "      <th>geometry</th>\n",
       "      <th>relevant</th>\n",
       "    </tr>\n",
       "    <tr>\n",
       "      <th>index</th>\n",
       "      <th></th>\n",
       "      <th></th>\n",
       "      <th></th>\n",
       "      <th></th>\n",
       "      <th></th>\n",
       "      <th></th>\n",
       "      <th></th>\n",
       "      <th></th>\n",
       "      <th></th>\n",
       "    </tr>\n",
       "  </thead>\n",
       "  <tbody>\n",
       "    <tr>\n",
       "      <th>bus_1531628</th>\n",
       "      <td>bus_5420</td>\n",
       "      <td>bus</td>\n",
       "      <td>bus_n_343308</td>\n",
       "      <td>bus_n_63069</td>\n",
       "      <td>60.0</td>\n",
       "      <td>bus_346828</td>\n",
       "      <td>9</td>\n",
       "      <td>LINESTRING (7.70648 52.29541, 7.71183 52.29407)</td>\n",
       "      <td>False</td>\n",
       "    </tr>\n",
       "  </tbody>\n",
       "</table>\n",
       "</div>"
      ],
      "text/plain": [
       "             route_id route_type             a            b  time     trip_id  \\\n",
       "index                                                                           \n",
       "bus_1531628  bus_5420        bus  bus_n_343308  bus_n_63069  60.0  bus_346828   \n",
       "\n",
       "             link_sequence                                         geometry  \\\n",
       "index                                                                         \n",
       "bus_1531628              9  LINESTRING (7.70648 52.29541, 7.71183 52.29407)   \n",
       "\n",
       "             relevant  \n",
       "index                  \n",
       "bus_1531628     False  "
      ]
     },
     "execution_count": 94,
     "metadata": {},
     "output_type": "execute_result"
    }
   ],
   "source": [
    "disagg_links.sample()"
   ]
  },
  {
   "cell_type": "code",
   "execution_count": 95,
   "metadata": {},
   "outputs": [],
   "source": [
    "# Function for aggregating links\n",
    "def agg_trips(trip):\n",
    "    # Drop links with missing nodes\n",
    "    trip_agg = trip.loc[trip['relevant']].sort_values('link_sequence')\n",
    "    if len(trip_agg.index) == 0:\n",
    "        # Trip is fully irrelevant\n",
    "        return\n",
    "    \n",
    "    missing_nodes = list(set(list(trip_agg['a'])+list(trip_agg['b'])) -\n",
    "                         set(agg_nodes.index))\n",
    "    if len(missing_nodes)==0 and len(trip.index)==len(trip_agg.index):\n",
    "        # This trip is not affected\n",
    "        return trip\n",
    "    \n",
    "    # Repair link succession\n",
    "    ind = list(trip_agg.index)\n",
    "    for i in range(len(ind) - 1):\n",
    "        if trip_agg.loc[ind[i], 'b'] in missing_nodes:\n",
    "            trip_agg.loc[ind[i + 1], 'a'] = trip_agg.loc[ind[i], 'a']\n",
    "            try:\n",
    "                trip_agg.loc[ind[i + 1], 'geometry'] = geometry.LineString(\n",
    "                    [agg_nodes.loc[trip_agg.loc[ind[i + 1], 'a'], 'geometry'],\n",
    "                     agg_nodes.loc[trip_agg.loc[ind[i + 1], 'b'], 'geometry']])\n",
    "            except KeyError:\n",
    "                return\n",
    "            trip_agg.drop(ind[i], inplace=True)\n",
    "            i = i + 1\n",
    "    \n",
    "    ind = list(trip_agg.index)\n",
    "    if len(trip_agg.index) > 0 and trip_agg.loc[ind[0], 'a'] in missing_nodes:\n",
    "        # Drop unused first link\n",
    "        trip_agg = trip_agg.iloc[1:]\n",
    "    if len(trip_agg.index) > 0 and trip_agg.loc[ind[-1], 'b'] in missing_nodes:\n",
    "        # Drop unused last link\n",
    "        trip_agg = trip_agg.iloc[:-1]\n",
    "    ind = list(trip_agg.index)\n",
    "    if len(ind) == 0:\n",
    "        return\n",
    "    \n",
    "    # Aggregate travel time\n",
    "    for i in range(len(ind) - 1):\n",
    "        try:\n",
    "            assert trip_agg.loc[ind[i], 'b'] == trip_agg.loc[ind[i+1], 'a'], \\\n",
    "                'broken sequence in trip {}: stop {} has no successor link'.format(\n",
    "                    trip_agg['trip_id'].unique()[0], trip_agg.loc[ind[i], 'b'])\n",
    "        except AssertionError:\n",
    "            # Drop this trip\n",
    "            return\n",
    "        if trip_agg.loc[ind[i + 1], 'link_sequence'] - trip_agg.loc[ind[i], 'link_sequence'] > 1:\n",
    "            trip_agg.loc[ind[i], 'time'] = trip.loc[ind[i]:ind[i+1], 'time'].sum() - \\\n",
    "                trip_agg.loc[ind[i+1], 'time'] # pandas slicing includes both boundaries\n",
    "    \n",
    "    # Reindex the sequence numbers\n",
    "    trip_agg['link_sequence'] = [i for i in range(1, len(trip_agg.index)+1)]\n",
    "    \n",
    "    return trip_agg"
   ]
  },
  {
   "cell_type": "code",
   "execution_count": 96,
   "metadata": {},
   "outputs": [
    {
     "data": {
      "text/plain": [
       "\"import multiprocessing as mp\\nwith mp.Pool(processes=10) as p:\\n    agg_links = pd.concat(p.map(\\n        agg_trips, [g for _, g in disagg_links.groupby('trip_id')]))\""
      ]
     },
     "execution_count": 96,
     "metadata": {},
     "output_type": "execute_result"
    }
   ],
   "source": [
    "# Faster variant for using multiple cores\n",
    "'''import multiprocessing as mp\n",
    "with mp.Pool(processes=10) as p:\n",
    "    agg_links = pd.concat(p.map(\n",
    "        agg_trips, [g for _, g in disagg_links.groupby('trip_id')]))'''"
   ]
  },
  {
   "cell_type": "code",
   "execution_count": 97,
   "metadata": {},
   "outputs": [
    {
     "name": "stderr",
     "output_type": "stream",
     "text": [
      "100%|█████████████████████████████████████████████████████████████████████████| 244424/244424 [11:55<00:00, 341.53it/s]\n"
     ]
    }
   ],
   "source": [
    "tqdm.pandas()\n",
    "agg_links = disagg_links.groupby('trip_id').progress_apply(\n",
    "    agg_trips).reset_index(level=0, drop=True)"
   ]
  },
  {
   "cell_type": "code",
   "execution_count": 98,
   "metadata": {},
   "outputs": [
    {
     "data": {
      "text/plain": [
       "(89761, 8)"
      ]
     },
     "execution_count": 98,
     "metadata": {},
     "output_type": "execute_result"
    }
   ],
   "source": [
    "agg_links.drop('relevant', axis=1, inplace=True)\n",
    "agg_links.shape"
   ]
  },
  {
   "cell_type": "code",
   "execution_count": 99,
   "metadata": {},
   "outputs": [
    {
     "data": {
      "text/html": [
       "<div>\n",
       "<style scoped>\n",
       "    .dataframe tbody tr th:only-of-type {\n",
       "        vertical-align: middle;\n",
       "    }\n",
       "\n",
       "    .dataframe tbody tr th {\n",
       "        vertical-align: top;\n",
       "    }\n",
       "\n",
       "    .dataframe thead th {\n",
       "        text-align: right;\n",
       "    }\n",
       "</style>\n",
       "<table border=\"1\" class=\"dataframe\">\n",
       "  <thead>\n",
       "    <tr style=\"text-align: right;\">\n",
       "      <th></th>\n",
       "      <th>route_id</th>\n",
       "      <th>route_type</th>\n",
       "      <th>a</th>\n",
       "      <th>b</th>\n",
       "      <th>time</th>\n",
       "      <th>trip_id</th>\n",
       "      <th>link_sequence</th>\n",
       "      <th>geometry</th>\n",
       "    </tr>\n",
       "    <tr>\n",
       "      <th>index</th>\n",
       "      <th></th>\n",
       "      <th></th>\n",
       "      <th></th>\n",
       "      <th></th>\n",
       "      <th></th>\n",
       "      <th></th>\n",
       "      <th></th>\n",
       "      <th></th>\n",
       "    </tr>\n",
       "  </thead>\n",
       "  <tbody>\n",
       "    <tr>\n",
       "      <th>bus_x_39855</th>\n",
       "      <td>bus_7850</td>\n",
       "      <td>bus</td>\n",
       "      <td>bus_n_x_219536</td>\n",
       "      <td>bus_n_x_218102</td>\n",
       "      <td>300.0</td>\n",
       "      <td>bus_166565</td>\n",
       "      <td>1</td>\n",
       "      <td>LINESTRING (12.06916 50.89061, 12.07802 50.88273)</td>\n",
       "    </tr>\n",
       "    <tr>\n",
       "      <th>bus_1005821</th>\n",
       "      <td>bus_4388</td>\n",
       "      <td>bus</td>\n",
       "      <td>bus_n_325822</td>\n",
       "      <td>bus_n_325591</td>\n",
       "      <td>120.0</td>\n",
       "      <td>bus_169264</td>\n",
       "      <td>1</td>\n",
       "      <td>LINESTRING (12.83847 54.20343, 12.82188 54.20661)</td>\n",
       "    </tr>\n",
       "    <tr>\n",
       "      <th>bus_1273803</th>\n",
       "      <td>bus_7445</td>\n",
       "      <td>bus</td>\n",
       "      <td>bus_n_27146</td>\n",
       "      <td>bus_n_341553</td>\n",
       "      <td>120.0</td>\n",
       "      <td>bus_252428</td>\n",
       "      <td>1</td>\n",
       "      <td>LINESTRING (9.00301 49.74322, 9.00161 49.73786)</td>\n",
       "    </tr>\n",
       "    <tr>\n",
       "      <th>bus_x_10041</th>\n",
       "      <td>bus_7850</td>\n",
       "      <td>bus</td>\n",
       "      <td>bus_n_x_219536</td>\n",
       "      <td>bus_n_x_218102</td>\n",
       "      <td>300.0</td>\n",
       "      <td>bus_29142</td>\n",
       "      <td>1</td>\n",
       "      <td>LINESTRING (12.06916 50.89061, 12.07802 50.88273)</td>\n",
       "    </tr>\n",
       "    <tr>\n",
       "      <th>bus_x_60054</th>\n",
       "      <td>bus_7850</td>\n",
       "      <td>bus</td>\n",
       "      <td>bus_n_x_219536</td>\n",
       "      <td>bus_n_x_218102</td>\n",
       "      <td>300.0</td>\n",
       "      <td>bus_301648</td>\n",
       "      <td>1</td>\n",
       "      <td>LINESTRING (12.06916 50.89061, 12.07802 50.88273)</td>\n",
       "    </tr>\n",
       "    <tr>\n",
       "      <th>bus_1821917</th>\n",
       "      <td>bus_16726</td>\n",
       "      <td>bus</td>\n",
       "      <td>bus_n_225734</td>\n",
       "      <td>bus_n_116236</td>\n",
       "      <td>240.0</td>\n",
       "      <td>bus_469669</td>\n",
       "      <td>1</td>\n",
       "      <td>LINESTRING (7.71711 47.95744, 7.75401 47.95625)</td>\n",
       "    </tr>\n",
       "    <tr>\n",
       "      <th>bus_x_85938</th>\n",
       "      <td>bus_9107</td>\n",
       "      <td>bus</td>\n",
       "      <td>bus_n_x_219536</td>\n",
       "      <td>bus_n_x_218102</td>\n",
       "      <td>300.0</td>\n",
       "      <td>bus_523235</td>\n",
       "      <td>1</td>\n",
       "      <td>LINESTRING (12.06916 50.89061, 12.07802 50.88273)</td>\n",
       "    </tr>\n",
       "    <tr>\n",
       "      <th>bus_x_97194</th>\n",
       "      <td>bus_7850</td>\n",
       "      <td>bus</td>\n",
       "      <td>bus_n_x_426751</td>\n",
       "      <td>bus_n_x_325249</td>\n",
       "      <td>240.0</td>\n",
       "      <td>bus_636300</td>\n",
       "      <td>1</td>\n",
       "      <td>LINESTRING (12.07247 50.90391, 12.08129 50.89410)</td>\n",
       "    </tr>\n",
       "    <tr>\n",
       "      <th>bus_2310087</th>\n",
       "      <td>bus_12805</td>\n",
       "      <td>bus</td>\n",
       "      <td>bus_n_117738</td>\n",
       "      <td>bus_n_263121</td>\n",
       "      <td>120.0</td>\n",
       "      <td>bus_712299</td>\n",
       "      <td>1</td>\n",
       "      <td>LINESTRING (11.75354 51.79189, 11.75072 51.79629)</td>\n",
       "    </tr>\n",
       "    <tr>\n",
       "      <th>bus_2477006</th>\n",
       "      <td>bus_5783</td>\n",
       "      <td>bus</td>\n",
       "      <td>bus_n_222182</td>\n",
       "      <td>bus_n_85142</td>\n",
       "      <td>180.0</td>\n",
       "      <td>bus_805166</td>\n",
       "      <td>1</td>\n",
       "      <td>LINESTRING (7.38907 53.08167, 7.38792 53.08975)</td>\n",
       "    </tr>\n",
       "    <tr>\n",
       "      <th>bus_x_119102</th>\n",
       "      <td>bus_7850</td>\n",
       "      <td>bus</td>\n",
       "      <td>bus_n_x_219536</td>\n",
       "      <td>bus_n_x_218102</td>\n",
       "      <td>300.0</td>\n",
       "      <td>bus_875776</td>\n",
       "      <td>1</td>\n",
       "      <td>LINESTRING (12.06916 50.89061, 12.07802 50.88273)</td>\n",
       "    </tr>\n",
       "  </tbody>\n",
       "</table>\n",
       "</div>"
      ],
      "text/plain": [
       "               route_id route_type               a               b   time  \\\n",
       "index                                                                       \n",
       "bus_x_39855    bus_7850        bus  bus_n_x_219536  bus_n_x_218102  300.0   \n",
       "bus_1005821    bus_4388        bus    bus_n_325822    bus_n_325591  120.0   \n",
       "bus_1273803    bus_7445        bus     bus_n_27146    bus_n_341553  120.0   \n",
       "bus_x_10041    bus_7850        bus  bus_n_x_219536  bus_n_x_218102  300.0   \n",
       "bus_x_60054    bus_7850        bus  bus_n_x_219536  bus_n_x_218102  300.0   \n",
       "bus_1821917   bus_16726        bus    bus_n_225734    bus_n_116236  240.0   \n",
       "bus_x_85938    bus_9107        bus  bus_n_x_219536  bus_n_x_218102  300.0   \n",
       "bus_x_97194    bus_7850        bus  bus_n_x_426751  bus_n_x_325249  240.0   \n",
       "bus_2310087   bus_12805        bus    bus_n_117738    bus_n_263121  120.0   \n",
       "bus_2477006    bus_5783        bus    bus_n_222182     bus_n_85142  180.0   \n",
       "bus_x_119102   bus_7850        bus  bus_n_x_219536  bus_n_x_218102  300.0   \n",
       "\n",
       "                 trip_id  link_sequence  \\\n",
       "index                                     \n",
       "bus_x_39855   bus_166565              1   \n",
       "bus_1005821   bus_169264              1   \n",
       "bus_1273803   bus_252428              1   \n",
       "bus_x_10041    bus_29142              1   \n",
       "bus_x_60054   bus_301648              1   \n",
       "bus_1821917   bus_469669              1   \n",
       "bus_x_85938   bus_523235              1   \n",
       "bus_x_97194   bus_636300              1   \n",
       "bus_2310087   bus_712299              1   \n",
       "bus_2477006   bus_805166              1   \n",
       "bus_x_119102  bus_875776              1   \n",
       "\n",
       "                                                       geometry  \n",
       "index                                                            \n",
       "bus_x_39855   LINESTRING (12.06916 50.89061, 12.07802 50.88273)  \n",
       "bus_1005821   LINESTRING (12.83847 54.20343, 12.82188 54.20661)  \n",
       "bus_1273803     LINESTRING (9.00301 49.74322, 9.00161 49.73786)  \n",
       "bus_x_10041   LINESTRING (12.06916 50.89061, 12.07802 50.88273)  \n",
       "bus_x_60054   LINESTRING (12.06916 50.89061, 12.07802 50.88273)  \n",
       "bus_1821917     LINESTRING (7.71711 47.95744, 7.75401 47.95625)  \n",
       "bus_x_85938   LINESTRING (12.06916 50.89061, 12.07802 50.88273)  \n",
       "bus_x_97194   LINESTRING (12.07247 50.90391, 12.08129 50.89410)  \n",
       "bus_2310087   LINESTRING (11.75354 51.79189, 11.75072 51.79629)  \n",
       "bus_2477006     LINESTRING (7.38907 53.08167, 7.38792 53.08975)  \n",
       "bus_x_119102  LINESTRING (12.06916 50.89061, 12.07802 50.88273)  "
      ]
     },
     "execution_count": 99,
     "metadata": {},
     "output_type": "execute_result"
    }
   ],
   "source": [
    "agg_links.loc[~(agg_links['a'].isin(list(agg_nodes.index))) |\n",
    "    ~(agg_links['b'].isin(list(agg_nodes.index)))]"
   ]
  },
  {
   "cell_type": "code",
   "execution_count": 100,
   "metadata": {},
   "outputs": [],
   "source": [
    "# Drop these erronous trips\n",
    "ids = agg_links.loc[~(agg_links['a'].isin(list(agg_nodes.index))) |\n",
    "                    ~(agg_links['b'].isin(list(agg_nodes.index)))].index\n",
    "agg_links = agg_links.loc[~agg_links['trip_id'].isin(list(agg_links.loc[ids, 'trip_id']))]"
   ]
  },
  {
   "cell_type": "markdown",
   "metadata": {},
   "source": [
    "### Merge aggregated links and nodes with the model"
   ]
  },
  {
   "cell_type": "code",
   "execution_count": 101,
   "metadata": {},
   "outputs": [
    {
     "data": {
      "text/plain": [
       "(302878, 8)"
      ]
     },
     "execution_count": 101,
     "metadata": {},
     "output_type": "execute_result"
    }
   ],
   "source": [
    "# Re-add links to model\n",
    "sm.links = sm.links.append(agg_links)\n",
    "sm.links.shape"
   ]
  },
  {
   "cell_type": "code",
   "execution_count": 102,
   "metadata": {},
   "outputs": [
    {
     "data": {
      "text/plain": [
       "(27578, 6)"
      ]
     },
     "execution_count": 102,
     "metadata": {},
     "output_type": "execute_result"
    }
   ],
   "source": [
    "# Re-add nodes to the model\n",
    "sm.nodes = sm.nodes.append(agg_nodes)\n",
    "sm.nodes.shape"
   ]
  },
  {
   "cell_type": "code",
   "execution_count": 103,
   "metadata": {},
   "outputs": [
    {
     "name": "stdout",
     "output_type": "stream",
     "text": [
      "Number of orphan nodes: 0\n",
      "Number of missing nodes: 18\n"
     ]
    }
   ],
   "source": [
    "try:\n",
    "    sm.integrity_test_nodeset_consistency()\n",
    "except AssertionError:\n",
    "    print('Number of orphan nodes: {}'.format(\n",
    "        len(sm.orphan_nodes)))\n",
    "    print('Number of missing nodes: {}'.format(\n",
    "        len(sm.missing_nodes)))"
   ]
  },
  {
   "cell_type": "code",
   "execution_count": 104,
   "metadata": {},
   "outputs": [],
   "source": [
    "# Leave these nodes if they connect by more than one\n",
    "# footpath or access/egress link\n",
    "assert len(agg_nodes.loc[sm.orphan_nodes].loc[agg_nodes['n_connectors']>1].index) == len(sm.orphan_nodes)"
   ]
  },
  {
   "cell_type": "code",
   "execution_count": 105,
   "metadata": {},
   "outputs": [],
   "source": [
    "sm.nodes.drop(['n_links', 'n_connectors'], axis=1, inplace=True)"
   ]
  },
  {
   "cell_type": "code",
   "execution_count": 106,
   "metadata": {
    "scrolled": true
   },
   "outputs": [
    {
     "name": "stderr",
     "output_type": "stream",
     "text": [
      "100%|██████████████████████████████████████████████████████████████████████████| 66674/66674 [00:21<00:00, 3140.20it/s]\n"
     ]
    },
    {
     "data": {
      "text/html": [
       "<div>\n",
       "<style scoped>\n",
       "    .dataframe tbody tr th:only-of-type {\n",
       "        vertical-align: middle;\n",
       "    }\n",
       "\n",
       "    .dataframe tbody tr th {\n",
       "        vertical-align: top;\n",
       "    }\n",
       "\n",
       "    .dataframe thead th {\n",
       "        text-align: right;\n",
       "    }\n",
       "</style>\n",
       "<table border=\"1\" class=\"dataframe\">\n",
       "  <thead>\n",
       "    <tr style=\"text-align: right;\">\n",
       "      <th></th>\n",
       "    </tr>\n",
       "  </thead>\n",
       "  <tbody>\n",
       "  </tbody>\n",
       "</table>\n",
       "</div>"
      ],
      "text/plain": [
       "Empty DataFrame\n",
       "Columns: []\n",
       "Index: []"
      ]
     },
     "execution_count": 106,
     "metadata": {},
     "output_type": "execute_result"
    }
   ],
   "source": [
    "sm.links.groupby('trip_id').progress_apply(test_sequences)"
   ]
  },
  {
   "cell_type": "code",
   "execution_count": 107,
   "metadata": {},
   "outputs": [],
   "source": [
    "# Drop frequencies of unused nodes\n",
    "sm.frequencies = sm.frequencies.loc[\n",
    "    sm.frequencies['stop_id'].isin(sm.nodes.index)\n",
    "].append(bus.frequencies.loc[\n",
    "    bus.frequencies['stop_id'].isin(sm.nodes.index)\n",
    "]).reset_index()\n",
    "sm.frequencies[['trip_id', 'hour']] = sm.frequencies[['trip_id', 'hour']].astype(int)"
   ]
  },
  {
   "cell_type": "code",
   "execution_count": 108,
   "metadata": {},
   "outputs": [
    {
     "data": {
      "text/plain": [
       "(186256, 4)"
      ]
     },
     "execution_count": 108,
     "metadata": {},
     "output_type": "execute_result"
    }
   ],
   "source": [
    "sm.frequencies.shape"
   ]
  },
  {
   "cell_type": "markdown",
   "metadata": {},
   "source": [
    "## Map nodes to zones\n",
    "Needed for the accessibility calculation"
   ]
  },
  {
   "cell_type": "code",
   "execution_count": 109,
   "metadata": {},
   "outputs": [],
   "source": [
    "# Nodes must be a GeoDataFrame\n",
    "if 'FID' not in sm.nodes.columns:\n",
    "    import geopandas as gpd\n",
    "    sm.nodes = gpd.GeoDataFrame(sm.nodes, crs=sm.epsg)\n",
    "    shapely.speedups.enable()\n",
    "    sm.nodes['FID'] = np.nan\n",
    "    for _, zone in tqdm(sm.zones.iterrows(), total=sm.zones.shape[0]):\n",
    "        sm.nodes.loc[sm.nodes['geometry'].within(zone['geometry']), 'FID'] = zone['FID']"
   ]
  },
  {
   "cell_type": "code",
   "execution_count": 110,
   "metadata": {},
   "outputs": [
    {
     "data": {
      "text/html": [
       "<div>\n",
       "<style scoped>\n",
       "    .dataframe tbody tr th:only-of-type {\n",
       "        vertical-align: middle;\n",
       "    }\n",
       "\n",
       "    .dataframe tbody tr th {\n",
       "        vertical-align: top;\n",
       "    }\n",
       "\n",
       "    .dataframe thead th {\n",
       "        text-align: right;\n",
       "    }\n",
       "</style>\n",
       "<table border=\"1\" class=\"dataframe\">\n",
       "  <thead>\n",
       "    <tr style=\"text-align: right;\">\n",
       "      <th></th>\n",
       "      <th>FID</th>\n",
       "      <th>geometry</th>\n",
       "      <th>route_type</th>\n",
       "      <th>stop_name</th>\n",
       "    </tr>\n",
       "    <tr>\n",
       "      <th>index</th>\n",
       "      <th></th>\n",
       "      <th></th>\n",
       "      <th></th>\n",
       "      <th></th>\n",
       "    </tr>\n",
       "  </thead>\n",
       "  <tbody>\n",
       "  </tbody>\n",
       "</table>\n",
       "</div>"
      ],
      "text/plain": [
       "Empty DataFrame\n",
       "Columns: [FID, geometry, route_type, stop_name]\n",
       "Index: []"
      ]
     },
     "execution_count": 110,
     "metadata": {},
     "output_type": "execute_result"
    }
   ],
   "source": [
    "sm.nodes[sm.nodes['FID'].isna()]"
   ]
  },
  {
   "cell_type": "markdown",
   "metadata": {},
   "source": [
    "## Save model\n"
   ]
  },
  {
   "cell_type": "code",
   "execution_count": 111,
   "metadata": {},
   "outputs": [],
   "source": [
    "# Add bus service to ancilliary\n",
    "sm.agencies = sm.agencies.append(bus.agencies)\n",
    "sm.pt_routes = sm.pt_routes.append(bus.pt_routes)"
   ]
  },
  {
   "cell_type": "code",
   "execution_count": 112,
   "metadata": {},
   "outputs": [],
   "source": [
    "# Now, we have bus services in the same tables\n",
    "sm.pt_route_types.append('bus')"
   ]
  },
  {
   "cell_type": "code",
   "execution_count": 113,
   "metadata": {},
   "outputs": [],
   "source": [
    "# Reduce file size by shortening node index names\n",
    "sm.nodes['index'] = [i.replace('rail_short_node', 'r_s_n') for i in sm.nodes.index]\n",
    "sm.nodes.set_index('index', drop=True, inplace=True)\n",
    "sm.links['a'] = sm.links['a'].apply(lambda n: n.replace('rail_short_node', 'r_s_n'))\n",
    "sm.links['b'] = sm.links['b'].apply(lambda n: n.replace('rail_short_node', 'r_s_n'))"
   ]
  },
  {
   "cell_type": "code",
   "execution_count": 114,
   "metadata": {},
   "outputs": [],
   "source": [
    "sm.nodes['index'] = [i.replace('rail_long_node', 'r_l_n') for i in sm.nodes.index]\n",
    "sm.nodes.set_index('index', drop=True, inplace=True)\n",
    "sm.links['a'] = sm.links['a'].apply(lambda n: n.replace('rail_long_node', 'r_l_n'))\n",
    "sm.links['b'] = sm.links['b'].apply(lambda n: n.replace('rail_long_node', 'r_l_n'))"
   ]
  },
  {
   "cell_type": "code",
   "execution_count": 115,
   "metadata": {},
   "outputs": [],
   "source": [
    "# Shorten link index names\n",
    "sm.links['index'] = [i.replace('rail_long', 'r_l').replace('rail_short', 'r_s')\n",
    "                     for i in sm.links.index]\n",
    "sm.links.set_index('index', drop=True, inplace=True)"
   ]
  },
  {
   "cell_type": "code",
   "execution_count": 116,
   "metadata": {},
   "outputs": [],
   "source": [
    "# Shorten route type names\n",
    "type_dict = {'rail_short_distance': 'rail_short', 'rail_long_distance': 'rail_long'}\n",
    "sm.links['route_type'] = sm.links['route_type'].replace(type_dict)\n",
    "sm.nodes['route_type'] = sm.nodes['route_type'].replace(type_dict)\n",
    "sm.pt_route_types = [t.replace('_distance', '') for t in sm.pt_route_types]"
   ]
  },
  {
   "cell_type": "code",
   "execution_count": 117,
   "metadata": {},
   "outputs": [
    {
     "data": {
      "text/html": [
       "<div>\n",
       "<style scoped>\n",
       "    .dataframe tbody tr th:only-of-type {\n",
       "        vertical-align: middle;\n",
       "    }\n",
       "\n",
       "    .dataframe tbody tr th {\n",
       "        vertical-align: top;\n",
       "    }\n",
       "\n",
       "    .dataframe thead th {\n",
       "        text-align: right;\n",
       "    }\n",
       "</style>\n",
       "<table border=\"1\" class=\"dataframe\">\n",
       "  <thead>\n",
       "    <tr style=\"text-align: right;\">\n",
       "      <th></th>\n",
       "      <th>a</th>\n",
       "      <th>b</th>\n",
       "      <th>geometry</th>\n",
       "      <th>link_sequence</th>\n",
       "      <th>route_id</th>\n",
       "      <th>route_type</th>\n",
       "      <th>time</th>\n",
       "      <th>trip_id</th>\n",
       "    </tr>\n",
       "    <tr>\n",
       "      <th>index</th>\n",
       "      <th></th>\n",
       "      <th></th>\n",
       "      <th></th>\n",
       "      <th></th>\n",
       "      <th></th>\n",
       "      <th></th>\n",
       "      <th></th>\n",
       "      <th></th>\n",
       "    </tr>\n",
       "  </thead>\n",
       "  <tbody>\n",
       "    <tr>\n",
       "      <th>r_s_59470</th>\n",
       "      <td>r_s_n_547</td>\n",
       "      <td>r_s_n_13044</td>\n",
       "      <td>LINESTRING (10.02529 47.55421, 9.95354 47.62062)</td>\n",
       "      <td>10.0</td>\n",
       "      <td>rail_short_33</td>\n",
       "      <td>rail_short</td>\n",
       "      <td>540.0</td>\n",
       "      <td>rail_short_10474</td>\n",
       "    </tr>\n",
       "  </tbody>\n",
       "</table>\n",
       "</div>"
      ],
      "text/plain": [
       "                   a            b  \\\n",
       "index                               \n",
       "r_s_59470  r_s_n_547  r_s_n_13044   \n",
       "\n",
       "                                                   geometry  link_sequence  \\\n",
       "index                                                                        \n",
       "r_s_59470  LINESTRING (10.02529 47.55421, 9.95354 47.62062)           10.0   \n",
       "\n",
       "                route_id  route_type   time           trip_id  \n",
       "index                                                          \n",
       "r_s_59470  rail_short_33  rail_short  540.0  rail_short_10474  "
      ]
     },
     "execution_count": 117,
     "metadata": {},
     "output_type": "execute_result"
    }
   ],
   "source": [
    "sm.links.loc[sm.links['route_type']=='rail_short'].sample()"
   ]
  },
  {
   "cell_type": "code",
   "execution_count": 118,
   "metadata": {},
   "outputs": [],
   "source": [
    "# Split links in graph and auxiliary information\n",
    "# for file sizes being compatible with github's size limit\n",
    "cols = ['link_sequence', 'route_id', 'time', 'trip_id']\n",
    "auxiliary = sm.links[cols]\n",
    "sm.links.drop(cols, axis=1, inplace=True)"
   ]
  },
  {
   "cell_type": "code",
   "execution_count": 119,
   "metadata": {},
   "outputs": [
    {
     "data": {
      "text/plain": [
       "(302878, 4)"
      ]
     },
     "execution_count": 119,
     "metadata": {},
     "output_type": "execute_result"
    }
   ],
   "source": [
    "sm.links.shape"
   ]
  },
  {
   "cell_type": "code",
   "execution_count": 120,
   "metadata": {},
   "outputs": [
    {
     "name": "stderr",
     "output_type": "stream",
     "text": [
      "to_hdf(overwriting): 100%|█████████████████████████████████████████████████████████████| 39/39 [00:46<00:00,  1.19s/it]\n",
      "to_hdf(overwriting): 100%|█████████████████████████████████████████████████████████████| 39/39 [00:00<00:00, 43.87it/s]\n"
     ]
    }
   ],
   "source": [
    "# Saving model...\n",
    "sm.to_json(model_path + 'de_pt_network_agg',\n",
    "           only_attributes=['zones', 'links', 'nodes', 'pt_route_types'],\n",
    "           encoding='utf-8')\n",
    "sm.to_json(model_path + 'de_pt_network_ancillary',\n",
    "           only_attributes=['agencies', 'pt_routes', 'frequencies'],\n",
    "           encoding='utf-8')"
   ]
  },
  {
   "cell_type": "code",
   "execution_count": 121,
   "metadata": {},
   "outputs": [],
   "source": [
    "# Save auxiliary information seperately\n",
    "auxiliary['index'] = auxiliary.index\n",
    "auxiliary.reset_index(drop=True, inplace=True)\n",
    "auxiliary.to_json(model_path + 'de_pt_network_agg/links_quetzaldata.json')"
   ]
  }
 ],
 "metadata": {
  "kernelspec": {
   "display_name": "Python 3",
   "language": "python",
   "name": "python3"
  },
  "language_info": {
   "codemirror_mode": {
    "name": "ipython",
    "version": 3
   },
   "file_extension": ".py",
   "mimetype": "text/x-python",
   "name": "python",
   "nbconvert_exporter": "python",
   "pygments_lexer": "ipython3",
   "version": "3.8.1"
  }
 },
 "nbformat": 4,
 "nbformat_minor": 2
}
