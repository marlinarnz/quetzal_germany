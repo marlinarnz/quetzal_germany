{
 "cells": [
  {
   "cell_type": "code",
   "execution_count": null,
   "metadata": {},
   "outputs": [],
   "source": [
    "import pandas as pd\n",
    "import numpy as np\n",
    "import biogeme.database as db\n",
    "import biogeme.biogeme as bio\n",
    "import biogeme.models as models\n",
    "import biogeme.messaging as message\n",
    "from biogeme.expressions import Beta"
   ]
  },
  {
   "cell_type": "markdown",
   "metadata": {},
   "source": [
    "# Intra-zonal trips\n",
    "## Parameter estimation\n",
    "Assignment of inner-zonal trips is not possible with common methods of transport modelling. A Logit regression based on zonal attributes is required."
   ]
  },
  {
   "cell_type": "code",
   "execution_count": null,
   "metadata": {},
   "outputs": [],
   "source": [
    "input_path = '../input/'\n",
    "output_path = '../output/'\n",
    "model_path = '../model/'"
   ]
  },
  {
   "cell_type": "markdown",
   "metadata": {},
   "source": [
    "### Model formulation\n",
    "The Logit regression model consists of observable utility functions, one for each mode j:\n",
    "> V_ij = ASC_ij + b_ac_i * AC_j + b_pop_i * POP + b_cars_i * CARS\n",
    "\n",
    "With explainatory variables\n",
    "* AC: accessibility as average distance to and from PT stops in km or binary for car usage\n",
    "* POP: population density\n",
    "* CARS: car ownership density\n",
    "* ROADS: road density in km/km² -- not implemented\n",
    "* INCOME: household income -- not implemented\n",
    "\n",
    "Index i marks the demand group. I = {'commuting' (1), 'education' (2), 'shopping/medical' (3), 'official' (4), 'private' (6)}"
   ]
  },
  {
   "cell_type": "code",
   "execution_count": null,
   "metadata": {},
   "outputs": [],
   "source": [
    "# Load calibration data set\n",
    "df = pd.read_csv(input_path + 'transport_demand/calibration_intra-cellular_trips_MiD2017.csv')\n",
    "print(df.shape)"
   ]
  },
  {
   "cell_type": "code",
   "execution_count": null,
   "metadata": {},
   "outputs": [],
   "source": [
    "col_dict = {'mode_model': 'MODE', 'purpose_vp': 'PURPOSE', 'pop_density': 'POP',\n",
    "            'car_density': 'CARS', 'accessibility_rail': 'AC_RAIL',\n",
    "            'accessibility_bus': 'AC_BUS', 'accessibility_car': 'AC_CAR',\n",
    "            'accessibility_walk': 'AC_NM'}\n",
    "df.rename(columns=col_dict, inplace=True)"
   ]
  },
  {
   "cell_type": "code",
   "execution_count": null,
   "metadata": {},
   "outputs": [],
   "source": [
    "# Remove unused columns\n",
    "df = df[[col for _, col in col_dict.items()]]"
   ]
  },
  {
   "cell_type": "code",
   "execution_count": null,
   "metadata": {},
   "outputs": [],
   "source": [
    "# Remove trips where mode is car but the car availability is zero\n",
    "# because it irritates the MLE algorithm\n",
    "mask = ((df['MODE']==6) & (df['AC_CAR']==0))\n",
    "print('Share of car trips dropped: {}. New number of observations is {}'.format(\n",
    "    len(df.loc[mask])/len(df.loc[df['MODE']==6]), len(df.loc[~mask])))\n",
    "df = df.loc[~mask]"
   ]
  },
  {
   "cell_type": "markdown",
   "metadata": {},
   "source": [
    "### Build the calibration model with Biogeme"
   ]
  },
  {
   "cell_type": "code",
   "execution_count": null,
   "metadata": {},
   "outputs": [],
   "source": [
    "database = db.Database('MiD', df.copy())\n",
    "globals().update(database.variables)\n",
    "database.getSampleSize()"
   ]
  },
  {
   "cell_type": "code",
   "execution_count": null,
   "metadata": {},
   "outputs": [],
   "source": [
    "# Define Betas\n",
    "asc_rail = Beta('asc_rail', 0, None, None, 0)\n",
    "asc_bus = Beta('asc_bus', 0, None, None, 0)\n",
    "asc_car = Beta('asc_car', 0, None, None, 1)\n",
    "asc_nm = Beta('asc_nm', 0, None, None, 0)\n",
    "b_ac_rail = Beta('b_ac_rail', 0, None, None, 0)\n",
    "b_pop_rail = Beta('b_pop_rail', 0, None, None, 0)\n",
    "b_cars_rail = Beta('b_cars_rail', 0, None, None, 0)\n",
    "b_ac_bus = Beta('b_ac_bus', 0, None, None, 0)\n",
    "b_pop_bus = Beta('b_pop_bus', 0, None, None, 0)\n",
    "b_cars_bus = Beta('b_cars_bus', 0, None, None, 0)\n",
    "b_ac_car = Beta('b_ac_car', 0, None, None, 0)\n",
    "b_pop_car = Beta('b_pop_car', 0, None, None, 0)\n",
    "b_cars_car = Beta('b_cars_car', 0, None, None, 0)\n",
    "b_ac_nm = Beta('b_ac_nm', 0, None, None, 0)\n",
    "b_pop_nm = Beta('b_pop_nm', 0, None, None, 0)\n",
    "b_cars_nm = Beta('b_cars_nm', 0, None, None, 0)"
   ]
  },
  {
   "cell_type": "code",
   "execution_count": null,
   "metadata": {},
   "outputs": [],
   "source": [
    "# Parameter for the nested logit structure\n",
    "mu_pt = Beta('mu_pt', 1, 1, 10, 0)"
   ]
  },
  {
   "cell_type": "code",
   "execution_count": null,
   "metadata": {},
   "outputs": [],
   "source": [
    "# Utility functions\n",
    "V_RAIL = asc_rail + b_ac_rail * AC_RAIL + b_pop_rail * POP + b_cars_rail * CARS\n",
    "V_BUS = asc_bus + b_ac_bus * AC_BUS + b_pop_bus * POP + b_cars_bus * CARS\n",
    "V_CAR = asc_car + b_ac_car * AC_CAR + b_pop_car * POP + b_cars_car * CARS\n",
    "V_NM = asc_nm + b_ac_nm * AC_NM + b_pop_nm * POP + b_cars_nm * CARS"
   ]
  },
  {
   "cell_type": "code",
   "execution_count": null,
   "metadata": {},
   "outputs": [],
   "source": [
    "# Define level of verbosity\n",
    "logger = message.bioMessage()\n",
    "#logger.setSilent()\n",
    "logger.setWarning()\n",
    "#logger.setGeneral()\n",
    "#logger.setDetailed()"
   ]
  },
  {
   "cell_type": "code",
   "execution_count": null,
   "metadata": {},
   "outputs": [],
   "source": [
    "# Map modes to utility functions\n",
    "V = {1:V_RAIL,\n",
    "     2:V_RAIL,\n",
    "     4:V_BUS,\n",
    "     6:V_CAR,\n",
    "     7:V_NM}"
   ]
  },
  {
   "cell_type": "code",
   "execution_count": null,
   "metadata": {},
   "outputs": [],
   "source": [
    "# Map the availability of alternatives with MODE as key\n",
    "# Except for the car, it is always one\n",
    "av = {1:1,\n",
    "      2:1,\n",
    "      4:1,\n",
    "      6:AC_CAR,\n",
    "      7:1}"
   ]
  },
  {
   "cell_type": "code",
   "execution_count": null,
   "metadata": {},
   "outputs": [],
   "source": [
    "# Mode nests as tuples with nest name and dictionary where\n",
    "# alternative IDs are mapped to alpha values. Missing ID's alpha is zero\n",
    "nests = ((mu_pt, [1,2, 4]), # PT\n",
    "         (1, [6]), # Car\n",
    "         (1, [7])) # Non-motorised"
   ]
  },
  {
   "cell_type": "code",
   "execution_count": null,
   "metadata": {},
   "outputs": [],
   "source": [
    "# Choose the logarithmic nested logit model\n",
    "nl = models.lognested(V, av, nests, MODE)"
   ]
  },
  {
   "cell_type": "code",
   "execution_count": null,
   "metadata": {},
   "outputs": [],
   "source": [
    "# All purposes\n",
    "model_nl = bio.BIOGEME(database, nl)\n",
    "model_nl.modelName = 'NL'\n",
    "results = model_nl.estimate()"
   ]
  },
  {
   "cell_type": "code",
   "execution_count": null,
   "metadata": {},
   "outputs": [],
   "source": [
    "# Write results to a file\n",
    "writer = pd.ExcelWriter(input_path + 'estimation_results_inner_cell.xlsx', engine='xlsxwriter')"
   ]
  },
  {
   "cell_type": "code",
   "execution_count": null,
   "metadata": {},
   "outputs": [],
   "source": [
    "params = results.getEstimatedParameters()\n",
    "for key, val in results.getGeneralStatistics().items():\n",
    "    params.loc[key] = [val[0], val[1]] + ['' for i in range(len(params.columns)-2)]\n",
    "params"
   ]
  },
  {
   "cell_type": "code",
   "execution_count": null,
   "metadata": {},
   "outputs": [],
   "source": [
    "params.to_excel(writer, sheet_name=model_nl.modelName)"
   ]
  },
  {
   "cell_type": "code",
   "execution_count": 72,
   "metadata": {},
   "outputs": [
    {
     "name": "stdout",
     "output_type": "stream",
     "text": [
      "Sample size for purpose 1: 42414\n"
     ]
    },
    {
     "ename": "biogemeError",
     "evalue": "[-2.93451366e+00 -3.27530464e+00 -4.46636234e+00 -1.14221702e-06\n  3.52581777e-04  4.38561872e-04  1.68587320e-02 -5.22827464e-09\n  1.00000000e+00] is not feasible for the bounds [(-2.934513664784777, -2.934513664784776), (-3.275304642076927, -3.275304642076926), (-4.466362344738283, -4.466362344738283), (-1.1422170167982762e-06, -1.1422170161642509e-06), (0.00035258177677297323, 0.0003525817767736073), (0.00043856187182814057, 0.0004385618718287746), (0.016858732002223962, 0.016858732002224593), (-5.228272444991406e-09, -5.228271810966256e-09), (1.0, 1.0000000000000002)]",
     "output_type": "error",
     "traceback": [
      "\u001b[0;31m---------------------------------------------------------------------------\u001b[0m",
      "\u001b[0;31mbiogemeError\u001b[0m                              Traceback (most recent call last)",
      "\u001b[0;32m<ipython-input-72-6d250f0b7b85>\u001b[0m in \u001b[0;36m<module>\u001b[0;34m\u001b[0m\n\u001b[1;32m      7\u001b[0m     \u001b[0mmodel\u001b[0m \u001b[0;34m=\u001b[0m \u001b[0mbio\u001b[0m\u001b[0;34m.\u001b[0m\u001b[0mBIOGEME\u001b[0m\u001b[0;34m(\u001b[0m\u001b[0mdatabase\u001b[0m\u001b[0;34m,\u001b[0m \u001b[0mnl\u001b[0m\u001b[0;34m)\u001b[0m \u001b[0;31m# Choose the model formulation\u001b[0m\u001b[0;34m\u001b[0m\u001b[0;34m\u001b[0m\u001b[0m\n\u001b[1;32m      8\u001b[0m     \u001b[0mmodel\u001b[0m\u001b[0;34m.\u001b[0m\u001b[0mmodelName\u001b[0m \u001b[0;34m=\u001b[0m \u001b[0;34m'NL_p'\u001b[0m \u001b[0;34m+\u001b[0m \u001b[0mstr\u001b[0m\u001b[0;34m(\u001b[0m\u001b[0mp\u001b[0m\u001b[0;34m)\u001b[0m \u001b[0;31m# Name it\u001b[0m\u001b[0;34m\u001b[0m\u001b[0;34m\u001b[0m\u001b[0m\n\u001b[0;32m----> 9\u001b[0;31m     \u001b[0mresults\u001b[0m\u001b[0;34m.\u001b[0m\u001b[0mappend\u001b[0m\u001b[0;34m(\u001b[0m\u001b[0mmodel\u001b[0m\u001b[0;34m.\u001b[0m\u001b[0mestimate\u001b[0m\u001b[0;34m(\u001b[0m\u001b[0;34m)\u001b[0m\u001b[0;34m)\u001b[0m\u001b[0;34m\u001b[0m\u001b[0;34m\u001b[0m\u001b[0m\n\u001b[0m\u001b[1;32m     10\u001b[0m     \u001b[0moutput\u001b[0m \u001b[0;34m=\u001b[0m \u001b[0mresults\u001b[0m\u001b[0;34m[\u001b[0m\u001b[0;34m-\u001b[0m\u001b[0;36m1\u001b[0m\u001b[0;34m]\u001b[0m\u001b[0;34m.\u001b[0m\u001b[0mgetEstimatedParameters\u001b[0m\u001b[0;34m(\u001b[0m\u001b[0;34m)\u001b[0m\u001b[0;34m\u001b[0m\u001b[0;34m\u001b[0m\u001b[0m\n\u001b[1;32m     11\u001b[0m     \u001b[0;32mfor\u001b[0m \u001b[0mkey\u001b[0m\u001b[0;34m,\u001b[0m \u001b[0mval\u001b[0m \u001b[0;32min\u001b[0m \u001b[0mresults\u001b[0m\u001b[0;34m[\u001b[0m\u001b[0;34m-\u001b[0m\u001b[0;36m1\u001b[0m\u001b[0;34m]\u001b[0m\u001b[0;34m.\u001b[0m\u001b[0mgetGeneralStatistics\u001b[0m\u001b[0;34m(\u001b[0m\u001b[0;34m)\u001b[0m\u001b[0;34m.\u001b[0m\u001b[0mitems\u001b[0m\u001b[0;34m(\u001b[0m\u001b[0;34m)\u001b[0m\u001b[0;34m:\u001b[0m\u001b[0;34m\u001b[0m\u001b[0;34m\u001b[0m\u001b[0m\n",
      "\u001b[0;32m~/quetzal/lib/python3.6/site-packages/biogeme/biogeme.py\u001b[0m in \u001b[0;36mestimate\u001b[0;34m(self, bootstrap, algorithm, algoParameters, cfsqp_default_bounds, saveIterations, file_iterations)\u001b[0m\n\u001b[1;32m    709\u001b[0m         \u001b[0;31m#        yep.stop()\u001b[0m\u001b[0;34m\u001b[0m\u001b[0;34m\u001b[0m\u001b[0;34m\u001b[0m\u001b[0m\n\u001b[1;32m    710\u001b[0m \u001b[0;34m\u001b[0m\u001b[0m\n\u001b[0;32m--> 711\u001b[0;31m         \u001b[0moutput\u001b[0m \u001b[0;34m=\u001b[0m \u001b[0mself\u001b[0m\u001b[0;34m.\u001b[0m\u001b[0moptimize\u001b[0m\u001b[0;34m(\u001b[0m\u001b[0mself\u001b[0m\u001b[0;34m.\u001b[0m\u001b[0mbetaInitValues\u001b[0m\u001b[0;34m)\u001b[0m\u001b[0;34m\u001b[0m\u001b[0;34m\u001b[0m\u001b[0m\n\u001b[0m\u001b[1;32m    712\u001b[0m         \u001b[0mxstar\u001b[0m\u001b[0;34m,\u001b[0m \u001b[0moptimizationMessages\u001b[0m \u001b[0;34m=\u001b[0m \u001b[0moutput\u001b[0m\u001b[0;34m\u001b[0m\u001b[0;34m\u001b[0m\u001b[0m\n\u001b[1;32m    713\u001b[0m         \u001b[0;31m## Running time of the optimization algorithm\u001b[0m\u001b[0;34m\u001b[0m\u001b[0;34m\u001b[0m\u001b[0;34m\u001b[0m\u001b[0m\n",
      "\u001b[0;32m~/quetzal/lib/python3.6/site-packages/biogeme/biogeme.py\u001b[0m in \u001b[0;36moptimize\u001b[0;34m(self, startingValues)\u001b[0m\n\u001b[1;32m    920\u001b[0m                                  \u001b[0mstartingValues\u001b[0m\u001b[0;34m,\u001b[0m\u001b[0;34m\u001b[0m\u001b[0;34m\u001b[0m\u001b[0m\n\u001b[1;32m    921\u001b[0m                                  \u001b[0mself\u001b[0m\u001b[0;34m.\u001b[0m\u001b[0mbounds\u001b[0m\u001b[0;34m,\u001b[0m\u001b[0;34m\u001b[0m\u001b[0;34m\u001b[0m\u001b[0m\n\u001b[0;32m--> 922\u001b[0;31m                                  self.algoParameters)\n\u001b[0m\u001b[1;32m    923\u001b[0m         \u001b[0;32mreturn\u001b[0m \u001b[0mresults\u001b[0m\u001b[0;34m\u001b[0m\u001b[0;34m\u001b[0m\u001b[0m\n\u001b[1;32m    924\u001b[0m \u001b[0;34m\u001b[0m\u001b[0m\n",
      "\u001b[0;32m~/quetzal/lib/python3.6/site-packages/biogeme/optimization.py\u001b[0m in \u001b[0;36msimpleBoundsNewtonAlgorithmForBiogeme\u001b[0;34m(fct, initBetas, bounds, parameters)\u001b[0m\n\u001b[1;32m   2340\u001b[0m          \u001b[0meta2\u001b[0m\u001b[0;34m=\u001b[0m\u001b[0meta2\u001b[0m\u001b[0;34m,\u001b[0m\u001b[0;34m\u001b[0m\u001b[0;34m\u001b[0m\u001b[0m\n\u001b[1;32m   2341\u001b[0m          \u001b[0menlargingFactor\u001b[0m\u001b[0;34m=\u001b[0m\u001b[0menlargingFactor\u001b[0m\u001b[0;34m,\u001b[0m\u001b[0;34m\u001b[0m\u001b[0;34m\u001b[0m\u001b[0m\n\u001b[0;32m-> 2342\u001b[0;31m          hamabs=hamabs)\n\u001b[0m\u001b[1;32m   2343\u001b[0m \u001b[0;34m\u001b[0m\u001b[0m\n\u001b[1;32m   2344\u001b[0m def bioNewton(fct,\n",
      "\u001b[0;32m~/quetzal/lib/python3.6/site-packages/biogeme/optimization.py\u001b[0m in \u001b[0;36msimpleBoundsNewtonAlgorithm\u001b[0;34m(fct, bounds, x0, proportionTrueHessian, infeasibleConjugateGradient, delta0, tol, cgtol, maxiter, eta1, eta2, enlargingFactor, hamabs)\u001b[0m\n\u001b[1;32m   2122\u001b[0m                                                    \u001b[0mbounds\u001b[0m\u001b[0;34m,\u001b[0m\u001b[0;34m\u001b[0m\u001b[0;34m\u001b[0m\u001b[0m\n\u001b[1;32m   2123\u001b[0m                                                    \u001b[0minfeasibleConjugateGradient\u001b[0m\u001b[0;34m,\u001b[0m\u001b[0;34m\u001b[0m\u001b[0;34m\u001b[0m\u001b[0m\n\u001b[0;32m-> 2124\u001b[0;31m                                                    cgtol)\n\u001b[0m\u001b[1;32m   2125\u001b[0m \u001b[0;34m\u001b[0m\u001b[0m\n\u001b[1;32m   2126\u001b[0m \u001b[0;34m\u001b[0m\u001b[0m\n",
      "\u001b[0;32m~/quetzal/lib/python3.6/site-packages/biogeme/optimization.py\u001b[0m in \u001b[0;36mtruncatedConjugateGradientSubspace\u001b[0;34m(xk, gk, Hk, delta, bounds, infeasibleIterate, tol)\u001b[0m\n\u001b[1;32m   1866\u001b[0m     \u001b[0metak\u001b[0m \u001b[0;34m=\u001b[0m \u001b[0mtol\u001b[0m\u001b[0;34m\u001b[0m\u001b[0;34m\u001b[0m\u001b[0m\n\u001b[1;32m   1867\u001b[0m \u001b[0;34m\u001b[0m\u001b[0m\n\u001b[0;32m-> 1868\u001b[0;31m     \u001b[0mactivityStatus\u001b[0m \u001b[0;34m=\u001b[0m \u001b[0mintersection\u001b[0m\u001b[0;34m.\u001b[0m\u001b[0mactivity\u001b[0m\u001b[0;34m(\u001b[0m\u001b[0mgcp\u001b[0m\u001b[0;34m)\u001b[0m\u001b[0;34m\u001b[0m\u001b[0;34m\u001b[0m\u001b[0m\n\u001b[0m\u001b[1;32m   1869\u001b[0m     \u001b[0mfreeVariables\u001b[0m \u001b[0;34m=\u001b[0m \u001b[0mactivityStatus\u001b[0m \u001b[0;34m==\u001b[0m \u001b[0;36m0\u001b[0m\u001b[0;34m\u001b[0m\u001b[0;34m\u001b[0m\u001b[0m\n\u001b[1;32m   1870\u001b[0m \u001b[0;34m\u001b[0m\u001b[0m\n",
      "\u001b[0;32m~/quetzal/lib/python3.6/site-packages/biogeme/optimization.py\u001b[0m in \u001b[0;36mactivity\u001b[0;34m(self, x, epsilon)\u001b[0m\n\u001b[1;32m    342\u001b[0m             \u001b[0;32mraise\u001b[0m \u001b[0mexcep\u001b[0m\u001b[0;34m.\u001b[0m\u001b[0mbiogemeError\u001b[0m\u001b[0;34m(\u001b[0m\u001b[0;34mf'Incompatible size: {len(x)} and {self.n}'\u001b[0m\u001b[0;34m)\u001b[0m\u001b[0;34m\u001b[0m\u001b[0;34m\u001b[0m\u001b[0m\n\u001b[1;32m    343\u001b[0m         \u001b[0;32mif\u001b[0m \u001b[0;32mnot\u001b[0m \u001b[0mself\u001b[0m\u001b[0;34m.\u001b[0m\u001b[0mfeasible\u001b[0m\u001b[0;34m(\u001b[0m\u001b[0mx\u001b[0m\u001b[0;34m)\u001b[0m\u001b[0;34m:\u001b[0m\u001b[0;34m\u001b[0m\u001b[0;34m\u001b[0m\u001b[0m\n\u001b[0;32m--> 344\u001b[0;31m             \u001b[0;32mraise\u001b[0m \u001b[0mexcep\u001b[0m\u001b[0;34m.\u001b[0m\u001b[0mbiogemeError\u001b[0m\u001b[0;34m(\u001b[0m\u001b[0;34mf'{x} is not feasible for the bounds {self.bounds}'\u001b[0m\u001b[0;34m)\u001b[0m\u001b[0;34m\u001b[0m\u001b[0;34m\u001b[0m\u001b[0m\n\u001b[0m\u001b[1;32m    345\u001b[0m \u001b[0;34m\u001b[0m\u001b[0m\n\u001b[1;32m    346\u001b[0m         \u001b[0mactivity\u001b[0m \u001b[0;34m=\u001b[0m \u001b[0mnp\u001b[0m\u001b[0;34m.\u001b[0m\u001b[0mzeros_like\u001b[0m\u001b[0;34m(\u001b[0m\u001b[0mx\u001b[0m\u001b[0;34m,\u001b[0m \u001b[0mdtype\u001b[0m\u001b[0;34m=\u001b[0m\u001b[0mint\u001b[0m\u001b[0;34m)\u001b[0m\u001b[0;34m\u001b[0m\u001b[0;34m\u001b[0m\u001b[0m\n",
      "\u001b[0;31mbiogemeError\u001b[0m: [-2.93451366e+00 -3.27530464e+00 -4.46636234e+00 -1.14221702e-06\n  3.52581777e-04  4.38561872e-04  1.68587320e-02 -5.22827464e-09\n  1.00000000e+00] is not feasible for the bounds [(-2.934513664784777, -2.934513664784776), (-3.275304642076927, -3.275304642076926), (-4.466362344738283, -4.466362344738283), (-1.1422170167982762e-06, -1.1422170161642509e-06), (0.00035258177677297323, 0.0003525817767736073), (0.00043856187182814057, 0.0004385618718287746), (0.016858732002223962, 0.016858732002224593), (-5.228272444991406e-09, -5.228271810966256e-09), (1.0, 1.0000000000000002)]"
     ]
    }
   ],
   "source": [
    "# Run all purposes\n",
    "results = []\n",
    "for p in [1,2,3,4,6]:\n",
    "    database = db.Database('MiD2017', df.copy())\n",
    "    database.remove(PURPOSE!=p)\n",
    "    print('Sample size for purpose {}: {}'.format(p, database.getSampleSize()))\n",
    "    model = bio.BIOGEME(database, nl) # Choose the model formulation\n",
    "    model.modelName = 'NL_Fz' + str(p) # Name it\n",
    "    results.append(model.estimate()) # Estimation\n",
    "    output = results[-1].getEstimatedParameters()\n",
    "    # Add results to the Excel file\n",
    "    for key, val in results[-1].getGeneralStatistics().items():\n",
    "        output.loc[key] = [val[0], val[1]] + ['' for i in range(len(output.columns)-2)]\n",
    "    output.to_excel(writer, sheet_name=model.modelName)"
   ]
  },
  {
   "cell_type": "code",
   "execution_count": null,
   "metadata": {},
   "outputs": [],
   "source": [
    "writer.save()"
   ]
  }
 ],
 "metadata": {
  "kernelspec": {
   "display_name": "Python 3",
   "language": "python",
   "name": "python3"
  },
  "language_info": {
   "codemirror_mode": {
    "name": "ipython",
    "version": 3
   },
   "file_extension": ".py",
   "mimetype": "text/x-python",
   "name": "python",
   "nbconvert_exporter": "python",
   "pygments_lexer": "ipython3",
   "version": "3.8.1"
  }
 },
 "nbformat": 4,
 "nbformat_minor": 4
}
