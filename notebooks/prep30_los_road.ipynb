{
 "cells": [
  {
   "cell_type": "code",
   "execution_count": 2,
   "metadata": {},
   "outputs": [
    {
     "name": "stderr",
     "output_type": "stream",
     "text": [
      "In C:\\Users\\marlin.arnz\\AppData\\Local\\Continuum\\miniconda3\\envs\\quetzal\\lib\\site-packages\\matplotlib\\mpl-data\\stylelib\\_classic_test.mplstyle: \n",
      "The text.latex.preview rcparam was deprecated in Matplotlib 3.3 and will be removed two minor releases later.\n",
      "In C:\\Users\\marlin.arnz\\AppData\\Local\\Continuum\\miniconda3\\envs\\quetzal\\lib\\site-packages\\matplotlib\\mpl-data\\stylelib\\_classic_test.mplstyle: \n",
      "The mathtext.fallback_to_cm rcparam was deprecated in Matplotlib 3.3 and will be removed two minor releases later.\n",
      "In C:\\Users\\marlin.arnz\\AppData\\Local\\Continuum\\miniconda3\\envs\\quetzal\\lib\\site-packages\\matplotlib\\mpl-data\\stylelib\\_classic_test.mplstyle: Support for setting the 'mathtext.fallback_to_cm' rcParam is deprecated since 3.3 and will be removed two minor releases later; use 'mathtext.fallback : 'cm' instead.\n",
      "In C:\\Users\\marlin.arnz\\AppData\\Local\\Continuum\\miniconda3\\envs\\quetzal\\lib\\site-packages\\matplotlib\\mpl-data\\stylelib\\_classic_test.mplstyle: \n",
      "The validate_bool_maybe_none function was deprecated in Matplotlib 3.3 and will be removed two minor releases later.\n",
      "In C:\\Users\\marlin.arnz\\AppData\\Local\\Continuum\\miniconda3\\envs\\quetzal\\lib\\site-packages\\matplotlib\\mpl-data\\stylelib\\_classic_test.mplstyle: \n",
      "The savefig.jpeg_quality rcparam was deprecated in Matplotlib 3.3 and will be removed two minor releases later.\n",
      "In C:\\Users\\marlin.arnz\\AppData\\Local\\Continuum\\miniconda3\\envs\\quetzal\\lib\\site-packages\\matplotlib\\mpl-data\\stylelib\\_classic_test.mplstyle: \n",
      "The keymap.all_axes rcparam was deprecated in Matplotlib 3.3 and will be removed two minor releases later.\n",
      "In C:\\Users\\marlin.arnz\\AppData\\Local\\Continuum\\miniconda3\\envs\\quetzal\\lib\\site-packages\\matplotlib\\mpl-data\\stylelib\\_classic_test.mplstyle: \n",
      "The animation.avconv_path rcparam was deprecated in Matplotlib 3.3 and will be removed two minor releases later.\n",
      "In C:\\Users\\marlin.arnz\\AppData\\Local\\Continuum\\miniconda3\\envs\\quetzal\\lib\\site-packages\\matplotlib\\mpl-data\\stylelib\\_classic_test.mplstyle: \n",
      "The animation.avconv_args rcparam was deprecated in Matplotlib 3.3 and will be removed two minor releases later.\n"
     ]
    }
   ],
   "source": [
    "import math\n",
    "import numpy as np\n",
    "import pandas as pd\n",
    "import geopandas as gpd\n",
    "from shapely import geometry\n",
    "from geopy.distance import geodesic\n",
    "from quetzal.model import stepmodel"
   ]
  },
  {
   "cell_type": "markdown",
   "metadata": {},
   "source": [
    "# Preparation of the LoS tables\n",
    "## Saves a StepModel with shortest paths and LoS attributes for the road network\n",
    "## Needs the road network"
   ]
  },
  {
   "cell_type": "code",
   "execution_count": 3,
   "metadata": {},
   "outputs": [],
   "source": [
    "input_path = '../input_static/'\n",
    "output_path = '../output/'\n",
    "model_path = '../model/'"
   ]
  },
  {
   "cell_type": "code",
   "execution_count": 4,
   "metadata": {},
   "outputs": [],
   "source": [
    "sm = stepmodel.read_json(model_path + 'de_road_network')\n",
    "ae = stepmodel.read_json(model_path + 'de_road_access_egress')"
   ]
  },
  {
   "cell_type": "code",
   "execution_count": 5,
   "metadata": {},
   "outputs": [],
   "source": [
    "sm.zone_to_road = ae.zone_to_road\n",
    "sm.centroids = ae.centroids"
   ]
  },
  {
   "cell_type": "markdown",
   "metadata": {},
   "source": [
    "## Generate LoS attribute time\n",
    "The maxspeed column is based on OSM data that needs to be refined. The unit is km/h"
   ]
  },
  {
   "cell_type": "code",
   "execution_count": 6,
   "metadata": {},
   "outputs": [],
   "source": [
    "sm.road_links[\"length\"] = pd.to_numeric(sm.road_links[\"length\"])"
   ]
  },
  {
   "cell_type": "code",
   "execution_count": 7,
   "metadata": {},
   "outputs": [],
   "source": [
    "default_speed = 0"
   ]
  },
  {
   "cell_type": "code",
   "execution_count": 8,
   "metadata": {},
   "outputs": [],
   "source": [
    "def get_vmax(s):\n",
    "    v_max = default_speed\n",
    "    if isinstance(s, str):\n",
    "        if s.startswith(\"[\"):\n",
    "            v_list_str = s[1:-1].split(\", \")\n",
    "            v_list_str = [v[1:-1] for v in v_list_str]\n",
    "            v_list = []\n",
    "            for v in v_list_str:\n",
    "                try:\n",
    "                    v_list.append(int(v))\n",
    "                except ValueError:\n",
    "                    pass\n",
    "            try:\n",
    "                v_max = max(v_list)\n",
    "            except ValueError:\n",
    "                pass\n",
    "        else:\n",
    "            try:\n",
    "                v_max = int(s)\n",
    "            except ValueError:\n",
    "                pass\n",
    "    elif isinstance(s, int) or isinstance(s, float):\n",
    "        v_max = s\n",
    "    return v_max\n",
    "sm.road_links[\"maxspeed\"] = sm.road_links[\"maxspeed\"].apply(get_vmax)\n",
    "sm.road_links[\"maxspeed\"].fillna(default_speed, inplace=True, downcast='infer')"
   ]
  },
  {
   "cell_type": "code",
   "execution_count": 9,
   "metadata": {},
   "outputs": [
    {
     "data": {
      "text/plain": [
       "549916.399"
      ]
     },
     "execution_count": 9,
     "metadata": {},
     "output_type": "execute_result"
    }
   ],
   "source": [
    "# Length of road network\n",
    "sm.road_links['length'].sum()/1000"
   ]
  },
  {
   "cell_type": "code",
   "execution_count": 10,
   "metadata": {},
   "outputs": [
    {
     "data": {
      "text/plain": [
       "425040.673"
      ]
     },
     "execution_count": 10,
     "metadata": {},
     "output_type": "execute_result"
    }
   ],
   "source": [
    "# Length of road network without any speed assigned\n",
    "sm.road_links.loc[sm.road_links['maxspeed']==default_speed]['length'].sum()/1000"
   ]
  },
  {
   "cell_type": "code",
   "execution_count": 11,
   "metadata": {},
   "outputs": [
    {
     "data": {
      "text/plain": [
       "7539.478"
      ]
     },
     "execution_count": 11,
     "metadata": {},
     "output_type": "execute_result"
    }
   ],
   "source": [
    "# Length of road network with multiple highway classifications\n",
    "sm.road_links.loc[sm.road_links['highway'].str.startswith('[')]['length'].sum()/1000"
   ]
  },
  {
   "cell_type": "code",
   "execution_count": 12,
   "metadata": {},
   "outputs": [
    {
     "data": {
      "text/plain": [
       "0.0"
      ]
     },
     "execution_count": 12,
     "metadata": {},
     "output_type": "execute_result"
    }
   ],
   "source": [
    "# Length of unclassified road network\n",
    "sm.road_links.loc[sm.road_links['highway']=='unclassified']['length'].sum()/1000"
   ]
  },
  {
   "cell_type": "code",
   "execution_count": 13,
   "metadata": {},
   "outputs": [
    {
     "data": {
      "text/plain": [
       "array([[<AxesSubplot:title={'center':'maxspeed'}>]], dtype=object)"
      ]
     },
     "execution_count": 13,
     "metadata": {},
     "output_type": "execute_result"
    },
    {
     "data": {
      "image/png": "[encoded data removed]",
      "text/plain": [
       "<Figure size 360x360 with 1 Axes>"
      ]
     },
     "metadata": {
      "needs_background": "light"
     },
     "output_type": "display_data"
    }
   ],
   "source": [
    "# Number of links (not length) with specified speeds\n",
    "sm.road_links.hist(column='maxspeed', bins=50, figsize=(5,5))"
   ]
  },
  {
   "cell_type": "code",
   "execution_count": 14,
   "metadata": {},
   "outputs": [
    {
     "data": {
      "text/plain": [
       "array(['trunk', 'secondary', 'primary', 'motorway_link', 'trunk_link',\n",
       "       'primary_link', \"['trunk', 'primary']\", 'motorway',\n",
       "       'secondary_link', \"['secondary', 'trunk_link']\",\n",
       "       \"['secondary', 'secondary_link']\",\n",
       "       \"['secondary', 'motorway_link']\", \"['primary', 'trunk_link']\",\n",
       "       \"['primary_link', 'primary']\", \"['secondary', 'primary_link']\",\n",
       "       \"['motorway', 'trunk']\", \"['motorway', 'motorway_link']\",\n",
       "       \"['trunk_link', 'motorway_link']\", \"['motorway', 'primary']\",\n",
       "       \"['trunk', 'trunk_link']\", \"['trunk', 'motorway_link']\",\n",
       "       \"['primary', 'motorway_link']\", \"['secondary_link', 'trunk_link']\",\n",
       "       \"['trunk_link', 'primary']\", \"['primary_link', 'secondary_link']\",\n",
       "       \"['primary_link', 'trunk_link']\",\n",
       "       \"['secondary', 'primary_link', 'secondary_link']\",\n",
       "       \"['secondary', 'trunk']\", \"['secondary_link', 'motorway_link']\",\n",
       "       \"['secondary', 'primary']\", \"['motorway', 'trunk', 'primary']\",\n",
       "       \"['primary_link', 'motorway_link']\",\n",
       "       \"['trunk_link', 'secondary_link']\", \"['motorway', 'secondary']\",\n",
       "       \"['motorway', 'primary_link', 'motorway_link']\",\n",
       "       \"['secondary', 'secondary_link', 'motorway_link']\",\n",
       "       \"['secondary', 'trunk_link', 'secondary_link']\",\n",
       "       \"['secondary', 'trunk', 'motorway_link']\",\n",
       "       \"['secondary', 'primary_link', 'primary']\",\n",
       "       \"['secondary', 'secondary_link', 'primary']\",\n",
       "       \"['trunk', 'trunk_link', 'primary']\",\n",
       "       \"['secondary', 'secondary_link', 'trunk_link']\",\n",
       "       \"['primary_link', 'trunk', 'primary']\",\n",
       "       \"['primary_link', 'trunk_link', 'primary']\",\n",
       "       \"['secondary', 'motorway']\",\n",
       "       \"['motorway', 'trunk', 'motorway_link']\",\n",
       "       \"['secondary', 'trunk', 'trunk_link']\",\n",
       "       \"['primary_link', 'primary', 'trunk_link']\",\n",
       "       \"['trunk', 'primary', 'trunk_link']\",\n",
       "       \"['secondary', 'primary', 'secondary_link']\"], dtype=object)"
      ]
     },
     "execution_count": 14,
     "metadata": {},
     "output_type": "execute_result"
    }
   ],
   "source": [
    "sm.road_links['highway'].unique()"
   ]
  },
  {
   "cell_type": "code",
   "execution_count": 15,
   "metadata": {},
   "outputs": [
    {
     "data": {
      "text/plain": [
       "highway\n",
       "motorway          112\n",
       "motorway_link      80\n",
       "primary            68\n",
       "primary_link       68\n",
       "secondary          57\n",
       "secondary_link     60\n",
       "trunk              96\n",
       "trunk_link         70\n",
       "dtype: int64"
      ]
     },
     "execution_count": 15,
     "metadata": {},
     "output_type": "execute_result"
    }
   ],
   "source": [
    "main_types = [t for t in list(sm.road_links['highway'].unique()) if not t.startswith('[')]\n",
    "temp = sm.road_links.loc[(sm.road_links['maxspeed']!=default_speed) &\n",
    "                         (sm.road_links['highway'].isin(main_types))\n",
    "                        ].set_index('highway', drop=True)\n",
    "weighted_speeds = temp.groupby(temp.index).apply(\n",
    "    lambda x: int(np.average(x.maxspeed, weights=x.length)))\n",
    "weighted_speeds"
   ]
  },
  {
   "cell_type": "code",
   "execution_count": 16,
   "metadata": {},
   "outputs": [
    {
     "data": {
      "text/plain": [
       "76.375"
      ]
     },
     "execution_count": 16,
     "metadata": {},
     "output_type": "execute_result"
    }
   ],
   "source": [
    "weighted_speeds.mean()"
   ]
  },
  {
   "cell_type": "code",
   "execution_count": 17,
   "metadata": {},
   "outputs": [],
   "source": [
    "# On German motorways without speed limit MIV average speed is 125 km/h\n",
    "# https://www.zukunft-mobilitaet.net/171117/analyse/gefahrene-geschwindigkeiten-auf-autobahnen-ohne-tempolimit-verteilung-deutschland/\n",
    "sm.road_links.loc[(sm.road_links['maxspeed']==default_speed) &\n",
    "                  (sm.road_links['highway']=='motorway'), 'maxspeed'] = 125\n",
    "# All other road types are attributed according to the mean speed limit for their type\n",
    "main_types = [t for t in list(sm.road_links['highway'].unique()) if not t.startswith('[')]\n",
    "for t in main_types:\n",
    "    try:\n",
    "        sm.road_links.loc[(sm.road_links['maxspeed']==default_speed) &\n",
    "                          (sm.road_links['highway']==t), 'maxspeed'] = weighted_speeds[t]\n",
    "    except KeyError:\n",
    "        print('No benchmark speed for highway type ' + t)\n",
    "# The rest is a mix of all road types\n",
    "sm.road_links['maxspeed'] = sm.road_links['maxspeed'].replace(\n",
    "    default_speed, int(weighted_speeds.mean()))"
   ]
  },
  {
   "cell_type": "code",
   "execution_count": 18,
   "metadata": {},
   "outputs": [
    {
     "data": {
      "text/plain": [
       "array([[<AxesSubplot:title={'center':'maxspeed'}>]], dtype=object)"
      ]
     },
     "execution_count": 18,
     "metadata": {},
     "output_type": "execute_result"
    },
    {
     "data": {
      "image/png": "[encoded data removed]",
      "text/plain": [
       "<Figure size 288x288 with 1 Axes>"
      ]
     },
     "metadata": {
      "needs_background": "light"
     },
     "output_type": "display_data"
    }
   ],
   "source": [
    "# Number of links (not length) with specified speeds\n",
    "sm.road_links.hist(column='maxspeed', bins=50, figsize=(4,4))"
   ]
  },
  {
   "cell_type": "code",
   "execution_count": 19,
   "metadata": {},
   "outputs": [],
   "source": [
    "# Generate time for road links in seconds\n",
    "# Manual calibration with Google maps (see below)\n",
    "# shows that traffic flow is slower than the speed limits\n",
    "road_speed_calibration = 0.8\n",
    "sm.road_links[\"time\"] = sm.road_links[\"length\"] / 1000 / \\\n",
    "    (sm.road_links[\"maxspeed\"] * road_speed_calibration) * 3600"
   ]
  },
  {
   "cell_type": "code",
   "execution_count": 20,
   "metadata": {},
   "outputs": [
    {
     "data": {
      "text/html": [
       "<div>\n",
       "<style scoped>\n",
       "    .dataframe tbody tr th:only-of-type {\n",
       "        vertical-align: middle;\n",
       "    }\n",
       "\n",
       "    .dataframe tbody tr th {\n",
       "        vertical-align: top;\n",
       "    }\n",
       "\n",
       "    .dataframe thead th {\n",
       "        text-align: right;\n",
       "    }\n",
       "</style>\n",
       "<table border=\"1\" class=\"dataframe\">\n",
       "  <thead>\n",
       "    <tr style=\"text-align: right;\">\n",
       "      <th></th>\n",
       "      <th>a</th>\n",
       "      <th>b</th>\n",
       "      <th>geometry</th>\n",
       "      <th>maxspeed</th>\n",
       "      <th>lanes</th>\n",
       "      <th>highway</th>\n",
       "      <th>length</th>\n",
       "      <th>time</th>\n",
       "    </tr>\n",
       "    <tr>\n",
       "      <th>index</th>\n",
       "      <th></th>\n",
       "      <th></th>\n",
       "      <th></th>\n",
       "      <th></th>\n",
       "      <th></th>\n",
       "      <th></th>\n",
       "      <th></th>\n",
       "      <th></th>\n",
       "    </tr>\n",
       "  </thead>\n",
       "  <tbody>\n",
       "    <tr>\n",
       "      <th>rl_115713</th>\n",
       "      <td>2279259701</td>\n",
       "      <td>2279259698</td>\n",
       "      <td>LINESTRING (10.99784 49.60422, 10.99809 49.60411)</td>\n",
       "      <td>50</td>\n",
       "      <td>2</td>\n",
       "      <td>secondary</td>\n",
       "      <td>21</td>\n",
       "      <td>1.890</td>\n",
       "    </tr>\n",
       "    <tr>\n",
       "      <th>rl_448880</th>\n",
       "      <td>746829628</td>\n",
       "      <td>305524550</td>\n",
       "      <td>LINESTRING (10.67006 49.20555, 10.67046 49.20547)</td>\n",
       "      <td>100</td>\n",
       "      <td>2</td>\n",
       "      <td>primary</td>\n",
       "      <td>30</td>\n",
       "      <td>1.350</td>\n",
       "    </tr>\n",
       "    <tr>\n",
       "      <th>rl_235832</th>\n",
       "      <td>280341643</td>\n",
       "      <td>1712565102</td>\n",
       "      <td>LINESTRING (10.03293 51.17656, 10.03257 51.17694)</td>\n",
       "      <td>68</td>\n",
       "      <td>None</td>\n",
       "      <td>primary_link</td>\n",
       "      <td>51</td>\n",
       "      <td>3.375</td>\n",
       "    </tr>\n",
       "    <tr>\n",
       "      <th>rl_389575</th>\n",
       "      <td>26742483</td>\n",
       "      <td>254991314</td>\n",
       "      <td>LINESTRING (9.18830 49.12746, 9.18811 49.12732)</td>\n",
       "      <td>50</td>\n",
       "      <td>None</td>\n",
       "      <td>secondary</td>\n",
       "      <td>20</td>\n",
       "      <td>1.800</td>\n",
       "    </tr>\n",
       "  </tbody>\n",
       "</table>\n",
       "</div>"
      ],
      "text/plain": [
       "                    a           b  \\\n",
       "index                               \n",
       "rl_115713  2279259701  2279259698   \n",
       "rl_448880   746829628   305524550   \n",
       "rl_235832   280341643  1712565102   \n",
       "rl_389575    26742483   254991314   \n",
       "\n",
       "                                                    geometry  maxspeed lanes  \\\n",
       "index                                                                          \n",
       "rl_115713  LINESTRING (10.99784 49.60422, 10.99809 49.60411)        50     2   \n",
       "rl_448880  LINESTRING (10.67006 49.20555, 10.67046 49.20547)       100     2   \n",
       "rl_235832  LINESTRING (10.03293 51.17656, 10.03257 51.17694)        68  None   \n",
       "rl_389575    LINESTRING (9.18830 49.12746, 9.18811 49.12732)        50  None   \n",
       "\n",
       "                highway  length   time  \n",
       "index                                   \n",
       "rl_115713     secondary      21  1.890  \n",
       "rl_448880       primary      30  1.350  \n",
       "rl_235832  primary_link      51  3.375  \n",
       "rl_389575     secondary      20  1.800  "
      ]
     },
     "execution_count": 20,
     "metadata": {},
     "output_type": "execute_result"
    }
   ],
   "source": [
    "sm.road_links.sample(4)"
   ]
  },
  {
   "cell_type": "markdown",
   "metadata": {},
   "source": [
    "### Alter road access/egress links"
   ]
  },
  {
   "cell_type": "code",
   "execution_count": 21,
   "metadata": {},
   "outputs": [
    {
     "data": {
      "text/html": [
       "<div>\n",
       "<style scoped>\n",
       "    .dataframe tbody tr th:only-of-type {\n",
       "        vertical-align: middle;\n",
       "    }\n",
       "\n",
       "    .dataframe tbody tr th {\n",
       "        vertical-align: top;\n",
       "    }\n",
       "\n",
       "    .dataframe thead th {\n",
       "        text-align: right;\n",
       "    }\n",
       "</style>\n",
       "<table border=\"1\" class=\"dataframe\">\n",
       "  <thead>\n",
       "    <tr style=\"text-align: right;\">\n",
       "      <th></th>\n",
       "      <th>a</th>\n",
       "      <th>b</th>\n",
       "      <th>direction</th>\n",
       "      <th>distance</th>\n",
       "      <th>speed</th>\n",
       "      <th>time</th>\n",
       "      <th>geometry</th>\n",
       "    </tr>\n",
       "    <tr>\n",
       "      <th>index</th>\n",
       "      <th></th>\n",
       "      <th></th>\n",
       "      <th></th>\n",
       "      <th></th>\n",
       "      <th></th>\n",
       "      <th></th>\n",
       "      <th></th>\n",
       "    </tr>\n",
       "  </thead>\n",
       "  <tbody>\n",
       "    <tr>\n",
       "      <th>1747</th>\n",
       "      <td>2775496961</td>\n",
       "      <td>DE232</td>\n",
       "      <td>eggress</td>\n",
       "      <td>0</td>\n",
       "      <td>5</td>\n",
       "      <td>0</td>\n",
       "      <td>LINESTRING (12.11363 49.01295, 12.11119 49.01046)</td>\n",
       "    </tr>\n",
       "  </tbody>\n",
       "</table>\n",
       "</div>"
      ],
      "text/plain": [
       "                a      b direction  distance  speed  time  \\\n",
       "index                                                       \n",
       "1747   2775496961  DE232   eggress         0      5     0   \n",
       "\n",
       "                                                geometry  \n",
       "index                                                     \n",
       "1747   LINESTRING (12.11363 49.01295, 12.11119 49.01046)  "
      ]
     },
     "execution_count": 21,
     "metadata": {},
     "output_type": "execute_result"
    }
   ],
   "source": [
    "# There has been assigned a static time value in prep20\n",
    "sm.zone_to_road.sample()"
   ]
  },
  {
   "cell_type": "code",
   "execution_count": 57,
   "metadata": {},
   "outputs": [],
   "source": [
    "# ASSUMPTION: Assign a time\n",
    "sm.zone_to_road['time'] = 5*60"
   ]
  },
  {
   "cell_type": "markdown",
   "metadata": {},
   "source": [
    "## Apply road pathfinder in order to generate LoS table"
   ]
  },
  {
   "cell_type": "code",
   "execution_count": 24,
   "metadata": {},
   "outputs": [
    {
     "name": "stdout",
     "output_type": "stream",
     "text": [
      "Generated OD set with 155236 pairs\n"
     ]
    }
   ],
   "source": [
    "# Load OD pairs from volumes if available\n",
    "od_set = None\n",
    "try:\n",
    "    v = stepmodel.read_json(model_path + 'de_volumes')\n",
    "    od_set = set([tuple(l) for l in v.volumes[['origin', 'destination']].values.tolist()])\n",
    "    print('Generated OD set with {} pairs'.format(len(od_set)))\n",
    "except:\n",
    "    print('The volumes file is not (yet) available')"
   ]
  },
  {
   "cell_type": "code",
   "execution_count": 58,
   "metadata": {
    "scrolled": true
   },
   "outputs": [],
   "source": [
    "sm.step_road_pathfinder(all_or_nothing=True,\n",
    "                        od_set=od_set)"
   ]
  },
  {
   "cell_type": "code",
   "execution_count": 27,
   "metadata": {},
   "outputs": [
    {
     "data": {
      "text/html": [
       "<div>\n",
       "<style scoped>\n",
       "    .dataframe tbody tr th:only-of-type {\n",
       "        vertical-align: middle;\n",
       "    }\n",
       "\n",
       "    .dataframe tbody tr th {\n",
       "        vertical-align: top;\n",
       "    }\n",
       "\n",
       "    .dataframe thead th {\n",
       "        text-align: right;\n",
       "    }\n",
       "</style>\n",
       "<table border=\"1\" class=\"dataframe\">\n",
       "  <thead>\n",
       "    <tr style=\"text-align: right;\">\n",
       "      <th></th>\n",
       "      <th>origin</th>\n",
       "      <th>destination</th>\n",
       "      <th>time</th>\n",
       "      <th>path</th>\n",
       "      <th>node_path</th>\n",
       "      <th>link_path</th>\n",
       "      <th>ntlegs</th>\n",
       "    </tr>\n",
       "  </thead>\n",
       "  <tbody>\n",
       "    <tr>\n",
       "      <th>78652</th>\n",
       "      <td>DE918</td>\n",
       "      <td>DE21D</td>\n",
       "      <td>23853.796692</td>\n",
       "      <td>[DE918, 1242065090, 2828783241, 2828783243, 31...</td>\n",
       "      <td>[1242065090, 2828783241, 2828783243, 31380399,...</td>\n",
       "      <td>[rl_408449, rl_408452, rl_466383, rl_282878, r...</td>\n",
       "      <td>[(DE918, 1242065090), (1709227679, DE21D)]</td>\n",
       "    </tr>\n",
       "    <tr>\n",
       "      <th>16544</th>\n",
       "      <td>DE147</td>\n",
       "      <td>DE252</td>\n",
       "      <td>14147.378396</td>\n",
       "      <td>[DE147, 33613025, 2145889936, 28292656, 282517...</td>\n",
       "      <td>[33613025, 2145889936, 28292656, 282517176, 28...</td>\n",
       "      <td>[rl_483510, rl_484085, rl_467232, rl_484427, r...</td>\n",
       "      <td>[(DE147, 33613025), (13117399, DE252)]</td>\n",
       "    </tr>\n",
       "    <tr>\n",
       "      <th>37149</th>\n",
       "      <td>DE244</td>\n",
       "      <td>DEA23</td>\n",
       "      <td>18982.723187</td>\n",
       "      <td>[DE244, 1899729795, 1983285640, 301358098, 394...</td>\n",
       "      <td>[1899729795, 1983285640, 301358098, 394607687,...</td>\n",
       "      <td>[rl_460489, rl_457132, rl_435298, rl_435295, r...</td>\n",
       "      <td>[(DE244, 1899729795), (295986083, DEA23)]</td>\n",
       "    </tr>\n",
       "  </tbody>\n",
       "</table>\n",
       "</div>"
      ],
      "text/plain": [
       "      origin destination          time  \\\n",
       "78652  DE918       DE21D  23853.796692   \n",
       "16544  DE147       DE252  14147.378396   \n",
       "37149  DE244       DEA23  18982.723187   \n",
       "\n",
       "                                                    path  \\\n",
       "78652  [DE918, 1242065090, 2828783241, 2828783243, 31...   \n",
       "16544  [DE147, 33613025, 2145889936, 28292656, 282517...   \n",
       "37149  [DE244, 1899729795, 1983285640, 301358098, 394...   \n",
       "\n",
       "                                               node_path  \\\n",
       "78652  [1242065090, 2828783241, 2828783243, 31380399,...   \n",
       "16544  [33613025, 2145889936, 28292656, 282517176, 28...   \n",
       "37149  [1899729795, 1983285640, 301358098, 394607687,...   \n",
       "\n",
       "                                               link_path  \\\n",
       "78652  [rl_408449, rl_408452, rl_466383, rl_282878, r...   \n",
       "16544  [rl_483510, rl_484085, rl_467232, rl_484427, r...   \n",
       "37149  [rl_460489, rl_457132, rl_435298, rl_435295, r...   \n",
       "\n",
       "                                           ntlegs  \n",
       "78652  [(DE918, 1242065090), (1709227679, DE21D)]  \n",
       "16544      [(DE147, 33613025), (13117399, DE252)]  \n",
       "37149   [(DE244, 1899729795), (295986083, DEA23)]  "
      ]
     },
     "execution_count": 27,
     "metadata": {},
     "output_type": "execute_result"
    }
   ],
   "source": [
    "sm.car_los.sample(3)"
   ]
  },
  {
   "cell_type": "code",
   "execution_count": 59,
   "metadata": {},
   "outputs": [
    {
     "data": {
      "text/plain": [
       "(155236, 7)"
      ]
     },
     "execution_count": 59,
     "metadata": {},
     "output_type": "execute_result"
    }
   ],
   "source": [
    "sm.car_los.shape"
   ]
  },
  {
   "cell_type": "code",
   "execution_count": 60,
   "metadata": {
    "scrolled": true
   },
   "outputs": [
    {
     "name": "stdout",
     "output_type": "stream",
     "text": [
      "DE111 - DE111: 0.0, 0km\n",
      "DE111 - DE300: 7.0, 631km\n",
      "DE111 - DE939: 7.9, 689km\n",
      "DE111 - DEE0D: 7.5, 588km\n",
      "DE300 - DE111: 7.0, 631km\n",
      "DE300 - DE300: 0.0, 0km\n",
      "DE300 - DE939: 4.4, 355km\n",
      "DE300 - DEE0D: 2.8, 134km\n",
      "DE939 - DE111: 7.8, 688km\n",
      "DE939 - DE300: 4.3, 354km\n",
      "DE939 - DE939: 0.0, 0km\n",
      "DE939 - DEE0D: 3.8, 274km\n",
      "DEE0D - DE111: 7.4, 586km\n",
      "DEE0D - DE300: 2.8, 134km\n",
      "DEE0D - DE939: 3.8, 274km\n",
      "DEE0D - DEE0D: 0.0, 0km\n"
     ]
    }
   ],
   "source": [
    "# Verify with Google maps routing\n",
    "# Berlin (DE300) - Stade (DE939): 4h22m, 354km\n",
    "# Berlin (DE300) - Stuttgart (DE111): 6h37m, 632km\n",
    "# Berlin (DE300) - Stendal (DEE0D): 2h08m, 125km\n",
    "# Stade - Stuttgart: 7h45m, 687km\n",
    "# Stendal - Stuttgart: 6h11m, 574km\n",
    "# Stendal - Stade: 3h22m, 231km\n",
    "od = ['DE300', 'DE939', 'DE111', 'DEE0D']\n",
    "for _, row in sm.car_los.loc[(sm.car_los['origin'].isin(od)) &\n",
    "                             (sm.car_los['destination'].isin(od))].iterrows():\n",
    "    print(row['origin'] + ' - ' + row['destination'] + ': '\n",
    "          + str(np.round(row['time']/3600,1)) + ', '\n",
    "          + str(int(sm.road_links.loc[row['link_path'], 'length'].sum()/1000)) + 'km')"
   ]
  },
  {
   "cell_type": "code",
   "execution_count": 61,
   "metadata": {},
   "outputs": [
    {
     "data": {
      "text/plain": [
       "array([[<AxesSubplot:title={'center':'time'}>]], dtype=object)"
      ]
     },
     "execution_count": 61,
     "metadata": {},
     "output_type": "execute_result"
    },
    {
     "data": {
      "image/png": "[encoded data removed]",
      "text/plain": [
       "<Figure size 288x288 with 1 Axes>"
      ]
     },
     "metadata": {
      "needs_background": "light"
     },
     "output_type": "display_data"
    }
   ],
   "source": [
    "sm.car_los.hist(column='time', bins=100, figsize=(4,4))"
   ]
  },
  {
   "cell_type": "code",
   "execution_count": 62,
   "metadata": {},
   "outputs": [
    {
     "data": {
      "text/plain": [
       "(154842, 7)"
      ]
     },
     "execution_count": 62,
     "metadata": {},
     "output_type": "execute_result"
    }
   ],
   "source": [
    "# Drop inner-cell connections\n",
    "sm.car_los = sm.car_los[sm.car_los['time']!=0]\n",
    "sm.car_los.shape"
   ]
  },
  {
   "cell_type": "markdown",
   "metadata": {},
   "source": [
    "## Add various attributes to LoS table"
   ]
  },
  {
   "cell_type": "code",
   "execution_count": 63,
   "metadata": {},
   "outputs": [
    {
     "name": "stdout",
     "output_type": "stream",
     "text": [
      "Index(['origin', 'destination', 'time', 'path', 'node_path', 'link_path',\n",
      "       'ntlegs', 'access_time', 'in_vehicle_time'],\n",
      "      dtype='object')\n"
     ]
    }
   ],
   "source": [
    "# Disaggregate into in-vehicle time and access/egress\n",
    "sm.analysis_car_time()\n",
    "print(sm.car_los.columns)"
   ]
  },
  {
   "cell_type": "code",
   "execution_count": 64,
   "metadata": {},
   "outputs": [],
   "source": [
    "# Add distances car\n",
    "len_dict = sm.road_links['length'].to_dict()\n",
    "sm.car_los['length'] = sm.car_los['link_path'].apply(lambda p: sum([len_dict[l] for l in p]))"
   ]
  },
  {
   "cell_type": "code",
   "execution_count": 65,
   "metadata": {},
   "outputs": [],
   "source": [
    "# Add route_type = 'car' in car_los\n",
    "sm.analysis_car_route_type()"
   ]
  },
  {
   "cell_type": "code",
   "execution_count": 66,
   "metadata": {},
   "outputs": [],
   "source": [
    "sm.car_los['ntransfers'] = 0"
   ]
  },
  {
   "cell_type": "code",
   "execution_count": 67,
   "metadata": {},
   "outputs": [],
   "source": [
    "# Car is always available\n",
    "sm.car_los['accessibility'] = 1"
   ]
  },
  {
   "cell_type": "markdown",
   "metadata": {},
   "source": [
    "### Car ownership and accessibility\n",
    "Car ownership from the German federal statistical office GENESIS data base table 46251-0006: \"Kraftfahrzeugbestand: Kreise, Stichtag, Kraftfahrzeugarten\". Download at Nov. 26th 2020. License: Datenlizenz by-2-0; www.govdata.de/dl-de/by-2-0"
   ]
  },
  {
   "cell_type": "code",
   "execution_count": 68,
   "metadata": {},
   "outputs": [
    {
     "data": {
      "text/html": [
       "<div>\n",
       "<style scoped>\n",
       "    .dataframe tbody tr th:only-of-type {\n",
       "        vertical-align: middle;\n",
       "    }\n",
       "\n",
       "    .dataframe tbody tr th {\n",
       "        vertical-align: top;\n",
       "    }\n",
       "\n",
       "    .dataframe thead th {\n",
       "        text-align: right;\n",
       "    }\n",
       "</style>\n",
       "<table border=\"1\" class=\"dataframe\">\n",
       "  <thead>\n",
       "    <tr style=\"text-align: right;\">\n",
       "      <th></th>\n",
       "      <th>CNTR_CODE</th>\n",
       "      <th>NUTS_NAME</th>\n",
       "      <th>LEVL_CODE</th>\n",
       "      <th>NUTS_ID</th>\n",
       "      <th>population</th>\n",
       "      <th>area</th>\n",
       "      <th>urbanisation</th>\n",
       "      <th>lau_id</th>\n",
       "      <th>geometry</th>\n",
       "      <th>cars</th>\n",
       "      <th>car_density</th>\n",
       "    </tr>\n",
       "    <tr>\n",
       "      <th>index</th>\n",
       "      <th></th>\n",
       "      <th></th>\n",
       "      <th></th>\n",
       "      <th></th>\n",
       "      <th></th>\n",
       "      <th></th>\n",
       "      <th></th>\n",
       "      <th></th>\n",
       "      <th></th>\n",
       "      <th></th>\n",
       "      <th></th>\n",
       "    </tr>\n",
       "  </thead>\n",
       "  <tbody>\n",
       "    <tr>\n",
       "      <th>DEE06</th>\n",
       "      <td>DE</td>\n",
       "      <td>Jerichower Land</td>\n",
       "      <td>3</td>\n",
       "      <td>DEE06</td>\n",
       "      <td>89928</td>\n",
       "      <td>1576.94</td>\n",
       "      <td>3.0</td>\n",
       "      <td>15086</td>\n",
       "      <td>POLYGON ((12.17156 52.50634, 12.18541 52.49719...</td>\n",
       "      <td>57907</td>\n",
       "      <td>0.643926</td>\n",
       "    </tr>\n",
       "    <tr>\n",
       "      <th>DE917</th>\n",
       "      <td>DE</td>\n",
       "      <td>Helmstedt</td>\n",
       "      <td>3</td>\n",
       "      <td>DE917</td>\n",
       "      <td>91307</td>\n",
       "      <td>676.12</td>\n",
       "      <td>3.0</td>\n",
       "      <td>3154</td>\n",
       "      <td>POLYGON ((10.96441 52.05664, 10.94789 52.05867...</td>\n",
       "      <td>59364</td>\n",
       "      <td>0.650158</td>\n",
       "    </tr>\n",
       "  </tbody>\n",
       "</table>\n",
       "</div>"
      ],
      "text/plain": [
       "      CNTR_CODE        NUTS_NAME  LEVL_CODE NUTS_ID  population     area  \\\n",
       "index                                                                      \n",
       "DEE06        DE  Jerichower Land          3   DEE06       89928  1576.94   \n",
       "DE917        DE        Helmstedt          3   DE917       91307   676.12   \n",
       "\n",
       "       urbanisation lau_id                                           geometry  \\\n",
       "index                                                                           \n",
       "DEE06           3.0  15086  POLYGON ((12.17156 52.50634, 12.18541 52.49719...   \n",
       "DE917           3.0   3154  POLYGON ((10.96441 52.05664, 10.94789 52.05867...   \n",
       "\n",
       "        cars  car_density  \n",
       "index                      \n",
       "DEE06  57907     0.643926  \n",
       "DE917  59364     0.650158  "
      ]
     },
     "execution_count": 68,
     "metadata": {},
     "output_type": "execute_result"
    }
   ],
   "source": [
    "# Load the table\n",
    "cars = pd.read_excel(input_path + 'spatial_car_ownership_2017_GENESIS.xlsx')\n",
    "cars['sum_MIT'] = cars['Krafträder'] + cars['Pkw']\n",
    "cars['lau_id'] = cars['lau_id'].astype(str)\n",
    "cars['sum_MIT'] = cars['sum_MIT'].replace({'--': 0}).astype(int)\n",
    "cars.set_index('lau_id', drop=True, inplace=True)\n",
    "lau_car_dict = cars['sum_MIT'].to_dict()\n",
    "sm.zones['cars'] = sm.zones['lau_id'].map(lau_car_dict)\n",
    "sm.zones.sample(2)"
   ]
  },
  {
   "cell_type": "code",
   "execution_count": 69,
   "metadata": {},
   "outputs": [
    {
     "name": "stdout",
     "output_type": "stream",
     "text": [
      "0\n"
     ]
    },
    {
     "data": {
      "text/html": [
       "<div>\n",
       "<style scoped>\n",
       "    .dataframe tbody tr th:only-of-type {\n",
       "        vertical-align: middle;\n",
       "    }\n",
       "\n",
       "    .dataframe tbody tr th {\n",
       "        vertical-align: top;\n",
       "    }\n",
       "\n",
       "    .dataframe thead th {\n",
       "        text-align: right;\n",
       "    }\n",
       "</style>\n",
       "<table border=\"1\" class=\"dataframe\">\n",
       "  <thead>\n",
       "    <tr style=\"text-align: right;\">\n",
       "      <th></th>\n",
       "      <th>CNTR_CODE</th>\n",
       "      <th>NUTS_NAME</th>\n",
       "      <th>LEVL_CODE</th>\n",
       "      <th>NUTS_ID</th>\n",
       "      <th>population</th>\n",
       "      <th>area</th>\n",
       "      <th>urbanisation</th>\n",
       "      <th>lau_id</th>\n",
       "      <th>geometry</th>\n",
       "      <th>cars</th>\n",
       "      <th>car_density</th>\n",
       "    </tr>\n",
       "    <tr>\n",
       "      <th>index</th>\n",
       "      <th></th>\n",
       "      <th></th>\n",
       "      <th></th>\n",
       "      <th></th>\n",
       "      <th></th>\n",
       "      <th></th>\n",
       "      <th></th>\n",
       "      <th></th>\n",
       "      <th></th>\n",
       "      <th></th>\n",
       "      <th></th>\n",
       "    </tr>\n",
       "  </thead>\n",
       "  <tbody>\n",
       "    <tr>\n",
       "      <th>DE91C</th>\n",
       "      <td>DE</td>\n",
       "      <td>Göttingen</td>\n",
       "      <td>3</td>\n",
       "      <td>DE91C</td>\n",
       "      <td>328074</td>\n",
       "      <td>1755.39</td>\n",
       "      <td>3.0</td>\n",
       "      <td>3159</td>\n",
       "      <td>POLYGON ((10.67728 51.63838, 10.67664 51.63294...</td>\n",
       "      <td>0</td>\n",
       "      <td>0.634102</td>\n",
       "    </tr>\n",
       "    <tr>\n",
       "      <th>DEB25</th>\n",
       "      <td>DE</td>\n",
       "      <td>Trier-Saarburg</td>\n",
       "      <td>3</td>\n",
       "      <td>DEB25</td>\n",
       "      <td>148945</td>\n",
       "      <td>1102.22</td>\n",
       "      <td>3.0</td>\n",
       "      <td>7235</td>\n",
       "      <td>POLYGON ((6.71195 49.90481, 6.72201 49.89223, ...</td>\n",
       "      <td>0</td>\n",
       "      <td>0.634102</td>\n",
       "    </tr>\n",
       "  </tbody>\n",
       "</table>\n",
       "</div>"
      ],
      "text/plain": [
       "      CNTR_CODE       NUTS_NAME  LEVL_CODE NUTS_ID  population     area  \\\n",
       "index                                                                     \n",
       "DE91C        DE       Göttingen          3   DE91C      328074  1755.39   \n",
       "DEB25        DE  Trier-Saarburg          3   DEB25      148945  1102.22   \n",
       "\n",
       "       urbanisation lau_id                                           geometry  \\\n",
       "index                                                                           \n",
       "DE91C           3.0   3159  POLYGON ((10.67728 51.63838, 10.67664 51.63294...   \n",
       "DEB25           3.0   7235  POLYGON ((6.71195 49.90481, 6.72201 49.89223, ...   \n",
       "\n",
       "       cars  car_density  \n",
       "index                     \n",
       "DE91C     0     0.634102  \n",
       "DEB25     0     0.634102  "
      ]
     },
     "execution_count": 69,
     "metadata": {},
     "output_type": "execute_result"
    }
   ],
   "source": [
    "# Empty rows\n",
    "print(len(sm.zones.loc[sm.zones['cars'].isna()]))\n",
    "sm.zones.loc[sm.zones['cars']<sm.zones['population']/3]"
   ]
  },
  {
   "cell_type": "markdown",
   "metadata": {},
   "source": [
    "Accessibility of cars is important for only those people who drive them. If I wanted to calculate it using only the population between age 18 and 75, I had to use different numbers for population.\n",
    "\n",
    "Population by NUTS3 zone and age group from the German federal statistical office GENESIS data base table 12411-0017: \"Bevölkerung: Kreise, Stichtag, Altersgruppen\". Download at Jan. 29th 2021. License: Datenlizenz by-2-0; www.govdata.de/dl-de/by-2-0"
   ]
  },
  {
   "cell_type": "code",
   "execution_count": 70,
   "metadata": {},
   "outputs": [],
   "source": [
    "# Replace empty rows with average density\n",
    "sm.zones['car_density'] = sm.zones['cars'] / sm.zones['population']\n",
    "sm.zones.loc[sm.zones['cars']==0, 'cars'] = \\\n",
    "    sm.zones['car_density'].mean() * sm.zones.loc[sm.zones['cars']==0, 'population']\n",
    "sm.zones['car_density'] = sm.zones['cars'] / sm.zones['population']"
   ]
  },
  {
   "cell_type": "code",
   "execution_count": 71,
   "metadata": {},
   "outputs": [
    {
     "data": {
      "text/html": [
       "<div>\n",
       "<style scoped>\n",
       "    .dataframe tbody tr th:only-of-type {\n",
       "        vertical-align: middle;\n",
       "    }\n",
       "\n",
       "    .dataframe tbody tr th {\n",
       "        vertical-align: top;\n",
       "    }\n",
       "\n",
       "    .dataframe thead th {\n",
       "        text-align: right;\n",
       "    }\n",
       "</style>\n",
       "<table border=\"1\" class=\"dataframe\">\n",
       "  <thead>\n",
       "    <tr style=\"text-align: right;\">\n",
       "      <th></th>\n",
       "      <th>car_density</th>\n",
       "    </tr>\n",
       "    <tr>\n",
       "      <th>urbanisation</th>\n",
       "      <th></th>\n",
       "    </tr>\n",
       "  </thead>\n",
       "  <tbody>\n",
       "    <tr>\n",
       "      <th>1.0</th>\n",
       "      <td>0.535343</td>\n",
       "    </tr>\n",
       "    <tr>\n",
       "      <th>2.0</th>\n",
       "      <td>0.652695</td>\n",
       "    </tr>\n",
       "    <tr>\n",
       "      <th>3.0</th>\n",
       "      <td>0.671949</td>\n",
       "    </tr>\n",
       "  </tbody>\n",
       "</table>\n",
       "</div>"
      ],
      "text/plain": [
       "              car_density\n",
       "urbanisation             \n",
       "1.0              0.535343\n",
       "2.0              0.652695\n",
       "3.0              0.671949"
      ]
     },
     "execution_count": 71,
     "metadata": {},
     "output_type": "execute_result"
    }
   ],
   "source": [
    "sm.zones.groupby('urbanisation').agg({'car_density': 'mean'})"
   ]
  },
  {
   "cell_type": "code",
   "execution_count": 72,
   "metadata": {},
   "outputs": [],
   "source": [
    "# Set accessibility\n",
    "ac_dict = sm.zones['car_density'].to_dict()\n",
    "sm.car_los['accessibility'] = sm.car_los['origin'].map(ac_dict)"
   ]
  },
  {
   "cell_type": "code",
   "execution_count": 73,
   "metadata": {},
   "outputs": [],
   "source": [
    "# There are two cities with more cars than inhabitants:\n",
    "# Wolfsburg and Trier. However, accessibility cannot be larger 1\n",
    "sm.car_los['accessibility'] = sm.car_los['accessibility'].apply(lambda a: min(1, a))"
   ]
  },
  {
   "cell_type": "code",
   "execution_count": 74,
   "metadata": {},
   "outputs": [
    {
     "data": {
      "text/plain": [
       "array([[<AxesSubplot:title={'center':'accessibility'}>]], dtype=object)"
      ]
     },
     "execution_count": 74,
     "metadata": {},
     "output_type": "execute_result"
    },
    {
     "data": {
      "image/png": "[encoded data removed]",
      "text/plain": [
       "<Figure size 288x288 with 1 Axes>"
      ]
     },
     "metadata": {
      "needs_background": "light"
     },
     "output_type": "display_data"
    }
   ],
   "source": [
    "sm.car_los.hist(column='accessibility', bins=100, figsize=(4,4), log=True)"
   ]
  },
  {
   "cell_type": "markdown",
   "metadata": {},
   "source": [
    "### Add cost to LoS table"
   ]
  },
  {
   "cell_type": "code",
   "execution_count": 75,
   "metadata": {},
   "outputs": [],
   "source": [
    "def monetary_cost(length, rf, vc, ac, al, ec, el, sf):\n",
    "    \"\"\" calculate monetary cost of travelling one O-D realtion within the LoS table\n",
    "    :param length: length of main leg in meter\n",
    "    :param df: regression factor for length (to be calibrated beforehand)\n",
    "    :param vc: distance-specific transport cost\n",
    "    :param ac: access cost\n",
    "    :param al: access link length (m)\n",
    "    :param ec: egress cost\n",
    "    :param el: egress link length (m)\n",
    "    :param sf: sharing factor (e.g. occupancy factor of a car)\n",
    "    :return: monetary cost\"\"\"\n",
    "    return (math.pow(length, rf) * vc + ac * al + ec * el) / sf"
   ]
  },
  {
   "cell_type": "code",
   "execution_count": 76,
   "metadata": {},
   "outputs": [
    {
     "data": {
      "text/html": [
       "<div>\n",
       "<style scoped>\n",
       "    .dataframe tbody tr th:only-of-type {\n",
       "        vertical-align: middle;\n",
       "    }\n",
       "\n",
       "    .dataframe tbody tr th {\n",
       "        vertical-align: top;\n",
       "    }\n",
       "\n",
       "    .dataframe thead th {\n",
       "        text-align: right;\n",
       "    }\n",
       "</style>\n",
       "<table border=\"1\" class=\"dataframe\">\n",
       "  <thead>\n",
       "    <tr style=\"text-align: right;\">\n",
       "      <th></th>\n",
       "      <th>fix_cost</th>\n",
       "      <th>repair_cost</th>\n",
       "      <th>var_cost</th>\n",
       "      <th>acquisition_cost</th>\n",
       "      <th>eur_per_month</th>\n",
       "      <th>ct_per_km</th>\n",
       "      <th>model</th>\n",
       "      <th>model.1</th>\n",
       "    </tr>\n",
       "  </thead>\n",
       "  <tbody>\n",
       "    <tr>\n",
       "      <th>1061</th>\n",
       "      <td>133</td>\n",
       "      <td>92</td>\n",
       "      <td>144</td>\n",
       "      <td>348</td>\n",
       "      <td>717</td>\n",
       "      <td>57.4</td>\n",
       "      <td>Navara Double Cab 2.3 dCi Acenta 4x4</td>\n",
       "      <td>Navara Double Cab 2.3 dCi Acenta 4x4</td>\n",
       "    </tr>\n",
       "    <tr>\n",
       "      <th>773</th>\n",
       "      <td>152</td>\n",
       "      <td>150</td>\n",
       "      <td>184</td>\n",
       "      <td>654</td>\n",
       "      <td>1140</td>\n",
       "      <td>91.2</td>\n",
       "      <td>A 45 S AMG 4MATIC SPEEDSHIFT DCT 8G</td>\n",
       "      <td>A 45 S AMG 4MATIC SPEEDSHIFT DCT 8G</td>\n",
       "    </tr>\n",
       "    <tr>\n",
       "      <th>1063</th>\n",
       "      <td>143</td>\n",
       "      <td>83</td>\n",
       "      <td>130</td>\n",
       "      <td>484</td>\n",
       "      <td>840</td>\n",
       "      <td>67.2</td>\n",
       "      <td>NV300 Kombi L1H1 dCi 120 Comfort</td>\n",
       "      <td>NV300 Kombi L1H1 dCi 120 Comfort</td>\n",
       "    </tr>\n",
       "    <tr>\n",
       "      <th>168</th>\n",
       "      <td>123</td>\n",
       "      <td>67</td>\n",
       "      <td>169</td>\n",
       "      <td>492</td>\n",
       "      <td>851</td>\n",
       "      <td>68.1</td>\n",
       "      <td>225i Active Tourer xDrive Steptronic</td>\n",
       "      <td>225i Active Tourer xDrive Steptronic</td>\n",
       "    </tr>\n",
       "  </tbody>\n",
       "</table>\n",
       "</div>"
      ],
      "text/plain": [
       "      fix_cost  repair_cost  var_cost  acquisition_cost  eur_per_month  \\\n",
       "1061       133           92       144               348            717   \n",
       "773        152          150       184               654           1140   \n",
       "1063       143           83       130               484            840   \n",
       "168        123           67       169               492            851   \n",
       "\n",
       "      ct_per_km                                 model  \\\n",
       "1061       57.4  Navara Double Cab 2.3 dCi Acenta 4x4   \n",
       "773        91.2   A 45 S AMG 4MATIC SPEEDSHIFT DCT 8G   \n",
       "1063       67.2      NV300 Kombi L1H1 dCi 120 Comfort   \n",
       "168        68.1  225i Active Tourer xDrive Steptronic   \n",
       "\n",
       "                                   model.1  \n",
       "1061  Navara Double Cab 2.3 dCi Acenta 4x4  \n",
       "773    A 45 S AMG 4MATIC SPEEDSHIFT DCT 8G  \n",
       "1063      NV300 Kombi L1H1 dCi 120 Comfort  \n",
       "168   225i Active Tourer xDrive Steptronic  "
      ]
     },
     "execution_count": 76,
     "metadata": {},
     "output_type": "execute_result"
    }
   ],
   "source": [
    "# Load list of cost elements\n",
    "cars = pd.read_csv(input_path + 'level_of_service_ADAC_2019_autokostenuebersicht_47085.csv')\n",
    "cars.sample(4)"
   ]
  },
  {
   "cell_type": "markdown",
   "metadata": {},
   "source": [
    "Take only perceived variable cost for distance-dependency.<br>\n",
    "Assume monthly mileage of 15,000km / 12<br>\n",
    "Additionally, there are fix cost which add up on every trip. Assume 3 trips per day as average."
   ]
  },
  {
   "cell_type": "code",
   "execution_count": 77,
   "metadata": {},
   "outputs": [
    {
     "name": "stdout",
     "output_type": "stream",
     "text": [
      "1.551890814081408\n",
      "0.00011439257425742574\n"
     ]
    }
   ],
   "source": [
    "# Prep\n",
    "sm.car_los['price'] = 0\n",
    "vc_car = cars['var_cost'].astype(int).mean() / (15000000/12) # in EUR/m\n",
    "fix_car = cars['fix_cost'].astype(int).mean() / 30 / 3\n",
    "parking_cost = {1: 5, 2: 1, 3: 0} # cost depending on urbanisation degree\n",
    "print(fix_car)\n",
    "print(vc_car)"
   ]
  },
  {
   "cell_type": "markdown",
   "metadata": {},
   "source": [
    "Car occupancy depends on distance\n",
    "\n",
    "The linear fit of MiD2017 car trips yields this function\n",
    "`car: n_persons = 0.0024 * distance[km] + 1.692`"
   ]
  },
  {
   "cell_type": "code",
   "execution_count": 78,
   "metadata": {},
   "outputs": [],
   "source": [
    "# Add prices\n",
    "sm.car_los['price'] = sm.car_los.apply(lambda df: monetary_cost(\n",
    "    df['length'], 1, vc_car,\n",
    "    0,0, #parking_cost[sm.zones.loc[df['origin']]['urbanisation']], 1,\n",
    "    0,0, #parking_cost[sm.zones.loc[df['destination']]['urbanisation']], 1,\n",
    "    0.0024*df['length']/1000+1.692) + fix_car, axis=1)"
   ]
  },
  {
   "cell_type": "code",
   "execution_count": 79,
   "metadata": {},
   "outputs": [],
   "source": [
    "# Alternative ASSUMPTION: Average car occupancy is 1.5 in Germany\n",
    "sm.car_los['price'] = sm.car_los.apply(lambda df: monetary_cost(\n",
    "    df['length'], 1, vc_car,\n",
    "    0,0, #parking_cost[sm.zones.loc[df['origin']]['urbanisation']], 1,\n",
    "    0,0, #parking_cost[sm.zones.loc[df['destination']]['urbanisation']], 1,\n",
    "    1.5) + fix_car, axis=1)"
   ]
  },
  {
   "cell_type": "code",
   "execution_count": 80,
   "metadata": {},
   "outputs": [
    {
     "data": {
      "text/html": [
       "<div>\n",
       "<style scoped>\n",
       "    .dataframe tbody tr th:only-of-type {\n",
       "        vertical-align: middle;\n",
       "    }\n",
       "\n",
       "    .dataframe tbody tr th {\n",
       "        vertical-align: top;\n",
       "    }\n",
       "\n",
       "    .dataframe thead th {\n",
       "        text-align: right;\n",
       "    }\n",
       "</style>\n",
       "<table border=\"1\" class=\"dataframe\">\n",
       "  <thead>\n",
       "    <tr style=\"text-align: right;\">\n",
       "      <th></th>\n",
       "      <th>origin</th>\n",
       "      <th>destination</th>\n",
       "      <th>time</th>\n",
       "      <th>path</th>\n",
       "      <th>node_path</th>\n",
       "      <th>link_path</th>\n",
       "      <th>ntlegs</th>\n",
       "      <th>access_time</th>\n",
       "      <th>in_vehicle_time</th>\n",
       "      <th>length</th>\n",
       "      <th>route_types</th>\n",
       "      <th>route_type</th>\n",
       "      <th>ntransfers</th>\n",
       "      <th>accessibility</th>\n",
       "      <th>price</th>\n",
       "    </tr>\n",
       "  </thead>\n",
       "  <tbody>\n",
       "    <tr>\n",
       "      <th>14913</th>\n",
       "      <td>DE143</td>\n",
       "      <td>DE22A</td>\n",
       "      <td>16665.064447</td>\n",
       "      <td>[DE143, 257577840, 257577849, 257577827, 25757...</td>\n",
       "      <td>[257577840, 257577849, 257577827, 257577831, 2...</td>\n",
       "      <td>[rl_97477, rl_378978, rl_97471, rl_341056, rl_...</td>\n",
       "      <td>[(DE143, 257577840), (277243156, DE22A)]</td>\n",
       "      <td>1200</td>\n",
       "      <td>15465.064447</td>\n",
       "      <td>379582</td>\n",
       "      <td>(car,)</td>\n",
       "      <td>car</td>\n",
       "      <td>0</td>\n",
       "      <td>0.713060</td>\n",
       "      <td>30.499466</td>\n",
       "    </tr>\n",
       "    <tr>\n",
       "      <th>114180</th>\n",
       "      <td>DEA5A</td>\n",
       "      <td>DEB13</td>\n",
       "      <td>4837.882658</td>\n",
       "      <td>[DEA5A, 123911389, 99452079, 308013015, 308013...</td>\n",
       "      <td>[123911389, 99452079, 308013015, 308013016, 31...</td>\n",
       "      <td>[rl_441195, rl_229744, rl_164880, rl_480102, r...</td>\n",
       "      <td>[(DEA5A, 123911389), (307762127, DEB13)]</td>\n",
       "      <td>1200</td>\n",
       "      <td>3637.882658</td>\n",
       "      <td>55710</td>\n",
       "      <td>(car,)</td>\n",
       "      <td>car</td>\n",
       "      <td>0</td>\n",
       "      <td>0.661986</td>\n",
       "      <td>5.800431</td>\n",
       "    </tr>\n",
       "  </tbody>\n",
       "</table>\n",
       "</div>"
      ],
      "text/plain": [
       "       origin destination          time  \\\n",
       "14913   DE143       DE22A  16665.064447   \n",
       "114180  DEA5A       DEB13   4837.882658   \n",
       "\n",
       "                                                     path  \\\n",
       "14913   [DE143, 257577840, 257577849, 257577827, 25757...   \n",
       "114180  [DEA5A, 123911389, 99452079, 308013015, 308013...   \n",
       "\n",
       "                                                node_path  \\\n",
       "14913   [257577840, 257577849, 257577827, 257577831, 2...   \n",
       "114180  [123911389, 99452079, 308013015, 308013016, 31...   \n",
       "\n",
       "                                                link_path  \\\n",
       "14913   [rl_97477, rl_378978, rl_97471, rl_341056, rl_...   \n",
       "114180  [rl_441195, rl_229744, rl_164880, rl_480102, r...   \n",
       "\n",
       "                                          ntlegs  access_time  \\\n",
       "14913   [(DE143, 257577840), (277243156, DE22A)]         1200   \n",
       "114180  [(DEA5A, 123911389), (307762127, DEB13)]         1200   \n",
       "\n",
       "        in_vehicle_time  length route_types route_type  ntransfers  \\\n",
       "14913      15465.064447  379582      (car,)        car           0   \n",
       "114180      3637.882658   55710      (car,)        car           0   \n",
       "\n",
       "        accessibility      price  \n",
       "14913        0.713060  30.499466  \n",
       "114180       0.661986   5.800431  "
      ]
     },
     "execution_count": 80,
     "metadata": {},
     "output_type": "execute_result"
    }
   ],
   "source": [
    "sm.car_los.sample(2)"
   ]
  },
  {
   "cell_type": "code",
   "execution_count": 81,
   "metadata": {},
   "outputs": [
    {
     "data": {
      "text/plain": [
       "<AxesSubplot:xlabel='length', ylabel='price'>"
      ]
     },
     "execution_count": 81,
     "metadata": {},
     "output_type": "execute_result"
    },
    {
     "data": {
      "image/png": "[encoded data removed]",
      "text/plain": [
       "<Figure size 432x288 with 1 Axes>"
      ]
     },
     "metadata": {
      "needs_background": "light"
     },
     "output_type": "display_data"
    }
   ],
   "source": [
    "sm.car_los.plot.scatter(x='length', y='price', alpha=.1)"
   ]
  },
  {
   "cell_type": "markdown",
   "metadata": {},
   "source": [
    "Instead of fix cost per trip, one can also assume ownership cost per hour of vehicle usage. This is also the approach chosen for the German federal governments transport study. In the methodical handbook gasoline cars have engine class weighted specific ownership cost of 0.71 EUR/h and diesel cars 0.99 EUR/h (other propulsion systems don't play a significant role). Multiplied with 2017's shares of gasoline and diesel cars (66.5%; 33.5%) this yields weighted average ownership cost of 0.8 EUR/h."
   ]
  },
  {
   "cell_type": "code",
   "execution_count": 82,
   "metadata": {},
   "outputs": [],
   "source": [
    "sm.car_los['price'] = sm.car_los['price'] - fix_car + \\\n",
    "    sm.car_los['time'].apply(lambda s: 0.8 * s / 3600)"
   ]
  },
  {
   "cell_type": "code",
   "execution_count": 83,
   "metadata": {},
   "outputs": [
    {
     "data": {
      "text/plain": [
       "<AxesSubplot:xlabel='length', ylabel='price'>"
      ]
     },
     "execution_count": 83,
     "metadata": {},
     "output_type": "execute_result"
    },
    {
     "data": {
      "image/png": "[encoded data removed]",
      "text/plain": [
       "<Figure size 432x288 with 1 Axes>"
      ]
     },
     "metadata": {
      "needs_background": "light"
     },
     "output_type": "display_data"
    }
   ],
   "source": [
    "sm.car_los.plot.scatter(x='length', y='price', alpha=.1)"
   ]
  },
  {
   "cell_type": "markdown",
   "metadata": {},
   "source": [
    "### Save model"
   ]
  },
  {
   "cell_type": "code",
   "execution_count": 84,
   "metadata": {},
   "outputs": [],
   "source": [
    "# Ditch unneccessary columns\n",
    "to_drop = ['alighting_links','alightings','all_walk','boarding_links','boardings',\n",
    "           'footpaths','length_link_path','node_path','ntlegs','time_link_path','transfers',\n",
    "           'pathfinder_session','gtime','reversed', 'broken_modes', 'path']\n",
    "sm.car_los = sm.car_los.drop(to_drop, axis=1, errors='ignore')"
   ]
  },
  {
   "cell_type": "code",
   "execution_count": 85,
   "metadata": {},
   "outputs": [],
   "source": [
    "# Make table smaller\n",
    "cols = ['time', 'access_time', 'in_vehicle_time', 'length']\n",
    "sm.car_los[cols] = sm.car_los[cols].astype(int)"
   ]
  },
  {
   "cell_type": "code",
   "execution_count": 86,
   "metadata": {},
   "outputs": [
    {
     "name": "stderr",
     "output_type": "stream",
     "text": [
      "to_hdf(overwriting): 100%|██████████████████████████████████████████████████████████████████| 34/34 [00:16<00:00,  2.09it/s]\n"
     ]
    }
   ],
   "source": [
    "sm.to_json(model_path + 'de_road_los',\n",
    "           only_attributes=['car_los'], encoding='utf-8')"
   ]
  }
 ],
 "metadata": {
  "kernelspec": {
   "display_name": "Python 3",
   "language": "python",
   "name": "python3"
  },
  "language_info": {
   "codemirror_mode": {
    "name": "ipython",
    "version": 3
   },
   "file_extension": ".py",
   "mimetype": "text/x-python",
   "name": "python",
   "nbconvert_exporter": "python",
   "pygments_lexer": "ipython3",
   "version": "3.8.1"
  }
 },
 "nbformat": 4,
 "nbformat_minor": 2
}
