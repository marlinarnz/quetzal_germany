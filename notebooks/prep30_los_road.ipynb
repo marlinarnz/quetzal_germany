{
 "cells": [
  {
   "cell_type": "code",
   "execution_count": 1,
   "metadata": {},
   "outputs": [
    {
     "name": "stderr",
     "output_type": "stream",
     "text": [
      "In C:\\Users\\marlin.arnz\\AppData\\Local\\Continuum\\miniconda3\\envs\\quetzal\\lib\\site-packages\\matplotlib\\mpl-data\\stylelib\\_classic_test.mplstyle: \n",
      "The text.latex.preview rcparam was deprecated in Matplotlib 3.3 and will be removed two minor releases later.\n",
      "In C:\\Users\\marlin.arnz\\AppData\\Local\\Continuum\\miniconda3\\envs\\quetzal\\lib\\site-packages\\matplotlib\\mpl-data\\stylelib\\_classic_test.mplstyle: \n",
      "The mathtext.fallback_to_cm rcparam was deprecated in Matplotlib 3.3 and will be removed two minor releases later.\n",
      "In C:\\Users\\marlin.arnz\\AppData\\Local\\Continuum\\miniconda3\\envs\\quetzal\\lib\\site-packages\\matplotlib\\mpl-data\\stylelib\\_classic_test.mplstyle: Support for setting the 'mathtext.fallback_to_cm' rcParam is deprecated since 3.3 and will be removed two minor releases later; use 'mathtext.fallback : 'cm' instead.\n",
      "In C:\\Users\\marlin.arnz\\AppData\\Local\\Continuum\\miniconda3\\envs\\quetzal\\lib\\site-packages\\matplotlib\\mpl-data\\stylelib\\_classic_test.mplstyle: \n",
      "The validate_bool_maybe_none function was deprecated in Matplotlib 3.3 and will be removed two minor releases later.\n",
      "In C:\\Users\\marlin.arnz\\AppData\\Local\\Continuum\\miniconda3\\envs\\quetzal\\lib\\site-packages\\matplotlib\\mpl-data\\stylelib\\_classic_test.mplstyle: \n",
      "The savefig.jpeg_quality rcparam was deprecated in Matplotlib 3.3 and will be removed two minor releases later.\n",
      "In C:\\Users\\marlin.arnz\\AppData\\Local\\Continuum\\miniconda3\\envs\\quetzal\\lib\\site-packages\\matplotlib\\mpl-data\\stylelib\\_classic_test.mplstyle: \n",
      "The keymap.all_axes rcparam was deprecated in Matplotlib 3.3 and will be removed two minor releases later.\n",
      "In C:\\Users\\marlin.arnz\\AppData\\Local\\Continuum\\miniconda3\\envs\\quetzal\\lib\\site-packages\\matplotlib\\mpl-data\\stylelib\\_classic_test.mplstyle: \n",
      "The animation.avconv_path rcparam was deprecated in Matplotlib 3.3 and will be removed two minor releases later.\n",
      "In C:\\Users\\marlin.arnz\\AppData\\Local\\Continuum\\miniconda3\\envs\\quetzal\\lib\\site-packages\\matplotlib\\mpl-data\\stylelib\\_classic_test.mplstyle: \n",
      "The animation.avconv_args rcparam was deprecated in Matplotlib 3.3 and will be removed two minor releases later.\n"
     ]
    }
   ],
   "source": [
    "import math\n",
    "import numpy as np\n",
    "import pandas as pd\n",
    "import geopandas as gpd\n",
    "from shapely import geometry\n",
    "from geopy.distance import geodesic\n",
    "from quetzal.model import stepmodel"
   ]
  },
  {
   "cell_type": "markdown",
   "metadata": {},
   "source": [
    "# Preparation of the LoS tables\n",
    "## Saves a StepModel with shortest paths and LoS attributes for the road network\n",
    "## Needs the road network"
   ]
  },
  {
   "cell_type": "code",
   "execution_count": 2,
   "metadata": {},
   "outputs": [],
   "source": [
    "input_path = '../input_static/'\n",
    "output_path = '../output/'\n",
    "model_path = '../model/'"
   ]
  },
  {
   "cell_type": "code",
   "execution_count": 3,
   "metadata": {},
   "outputs": [],
   "source": [
    "sm = stepmodel.read_json(model_path + 'de_road_network')\n",
    "ae = stepmodel.read_json(model_path + 'de_road_access_egress')"
   ]
  },
  {
   "cell_type": "code",
   "execution_count": 4,
   "metadata": {},
   "outputs": [],
   "source": [
    "sm.zone_to_road = ae.zone_to_road\n",
    "sm.centroids = ae.centroids"
   ]
  },
  {
   "cell_type": "markdown",
   "metadata": {},
   "source": [
    "## Generate LoS attribute time\n",
    "The maxspeed column is based on OSM data that needs to be refined. The unit is km/h"
   ]
  },
  {
   "cell_type": "code",
   "execution_count": 5,
   "metadata": {},
   "outputs": [
    {
     "name": "stdout",
     "output_type": "stream",
     "text": [
      "The history saving thread hit an unexpected error (OperationalError('database is locked')).History will not be written to the database.\n"
     ]
    }
   ],
   "source": [
    "sm.road_links[\"length\"] = pd.to_numeric(sm.road_links[\"length\"])"
   ]
  },
  {
   "cell_type": "code",
   "execution_count": 6,
   "metadata": {},
   "outputs": [],
   "source": [
    "default_speed = 0"
   ]
  },
  {
   "cell_type": "code",
   "execution_count": 7,
   "metadata": {},
   "outputs": [],
   "source": [
    "def get_vmax(s):\n",
    "    v_max = default_speed\n",
    "    if isinstance(s, str):\n",
    "        if s.startswith(\"[\"):\n",
    "            v_list_str = s[1:-1].split(\", \")\n",
    "            v_list_str = [v[1:-1] for v in v_list_str]\n",
    "            v_list = []\n",
    "            for v in v_list_str:\n",
    "                try:\n",
    "                    v_list.append(int(v))\n",
    "                except ValueError:\n",
    "                    pass\n",
    "            try:\n",
    "                v_max = max(v_list)\n",
    "            except ValueError:\n",
    "                pass\n",
    "        else:\n",
    "            try:\n",
    "                v_max = int(s)\n",
    "            except ValueError:\n",
    "                pass\n",
    "    elif isinstance(s, int) or isinstance(s, float):\n",
    "        v_max = s\n",
    "    return v_max\n",
    "sm.road_links[\"maxspeed\"] = sm.road_links[\"maxspeed\"].apply(get_vmax)\n",
    "sm.road_links[\"maxspeed\"].fillna(default_speed, inplace=True, downcast='infer')"
   ]
  },
  {
   "cell_type": "code",
   "execution_count": 8,
   "metadata": {},
   "outputs": [
    {
     "data": {
      "text/plain": [
       "549916.399"
      ]
     },
     "execution_count": 8,
     "metadata": {},
     "output_type": "execute_result"
    }
   ],
   "source": [
    "# Length of road network\n",
    "sm.road_links['length'].sum()/1000"
   ]
  },
  {
   "cell_type": "code",
   "execution_count": 9,
   "metadata": {},
   "outputs": [
    {
     "data": {
      "text/plain": [
       "425040.673"
      ]
     },
     "execution_count": 9,
     "metadata": {},
     "output_type": "execute_result"
    }
   ],
   "source": [
    "# Length of road network without any speed assigned\n",
    "sm.road_links.loc[sm.road_links['maxspeed']==default_speed]['length'].sum()/1000"
   ]
  },
  {
   "cell_type": "code",
   "execution_count": 10,
   "metadata": {},
   "outputs": [
    {
     "data": {
      "text/plain": [
       "7539.478"
      ]
     },
     "execution_count": 10,
     "metadata": {},
     "output_type": "execute_result"
    }
   ],
   "source": [
    "# Length of road network with multiple highway classifications\n",
    "sm.road_links.loc[sm.road_links['highway'].str.startswith('[')]['length'].sum()/1000"
   ]
  },
  {
   "cell_type": "code",
   "execution_count": 11,
   "metadata": {},
   "outputs": [
    {
     "data": {
      "text/plain": [
       "0.0"
      ]
     },
     "execution_count": 11,
     "metadata": {},
     "output_type": "execute_result"
    }
   ],
   "source": [
    "# Length of unclassified road network\n",
    "sm.road_links.loc[sm.road_links['highway']=='unclassified']['length'].sum()/1000"
   ]
  },
  {
   "cell_type": "code",
   "execution_count": 12,
   "metadata": {},
   "outputs": [
    {
     "data": {
      "text/plain": [
       "array([[<AxesSubplot:title={'center':'maxspeed'}>]], dtype=object)"
      ]
     },
     "execution_count": 12,
     "metadata": {},
     "output_type": "execute_result"
    },
    {
     "data": {
      "image/png": "[encoded data removed]",
      "text/plain": [
       "<Figure size 360x360 with 1 Axes>"
      ]
     },
     "metadata": {
      "needs_background": "light"
     },
     "output_type": "display_data"
    }
   ],
   "source": [
    "# Number of links (not length) with specified speeds\n",
    "sm.road_links.hist(column='maxspeed', bins=50, figsize=(5,5))"
   ]
  },
  {
   "cell_type": "code",
   "execution_count": 13,
   "metadata": {},
   "outputs": [
    {
     "data": {
      "text/plain": [
       "array(['trunk', 'secondary', 'primary', 'motorway_link', 'trunk_link',\n",
       "       'primary_link', \"['trunk', 'primary']\", 'motorway',\n",
       "       'secondary_link', \"['secondary', 'trunk_link']\",\n",
       "       \"['secondary', 'secondary_link']\",\n",
       "       \"['secondary', 'motorway_link']\", \"['primary', 'trunk_link']\",\n",
       "       \"['primary_link', 'primary']\", \"['secondary', 'primary_link']\",\n",
       "       \"['motorway', 'trunk']\", \"['motorway', 'motorway_link']\",\n",
       "       \"['trunk_link', 'motorway_link']\", \"['motorway', 'primary']\",\n",
       "       \"['trunk', 'trunk_link']\", \"['trunk', 'motorway_link']\",\n",
       "       \"['primary', 'motorway_link']\", \"['secondary_link', 'trunk_link']\",\n",
       "       \"['trunk_link', 'primary']\", \"['primary_link', 'secondary_link']\",\n",
       "       \"['primary_link', 'trunk_link']\",\n",
       "       \"['secondary', 'primary_link', 'secondary_link']\",\n",
       "       \"['secondary', 'trunk']\", \"['secondary_link', 'motorway_link']\",\n",
       "       \"['secondary', 'primary']\", \"['motorway', 'trunk', 'primary']\",\n",
       "       \"['primary_link', 'motorway_link']\",\n",
       "       \"['trunk_link', 'secondary_link']\", \"['motorway', 'secondary']\",\n",
       "       \"['motorway', 'primary_link', 'motorway_link']\",\n",
       "       \"['secondary', 'secondary_link', 'motorway_link']\",\n",
       "       \"['secondary', 'trunk_link', 'secondary_link']\",\n",
       "       \"['secondary', 'trunk', 'motorway_link']\",\n",
       "       \"['secondary', 'primary_link', 'primary']\",\n",
       "       \"['secondary', 'secondary_link', 'primary']\",\n",
       "       \"['trunk', 'trunk_link', 'primary']\",\n",
       "       \"['secondary', 'secondary_link', 'trunk_link']\",\n",
       "       \"['primary_link', 'trunk', 'primary']\",\n",
       "       \"['primary_link', 'trunk_link', 'primary']\",\n",
       "       \"['secondary', 'motorway']\",\n",
       "       \"['motorway', 'trunk', 'motorway_link']\",\n",
       "       \"['secondary', 'trunk', 'trunk_link']\",\n",
       "       \"['primary_link', 'primary', 'trunk_link']\",\n",
       "       \"['trunk', 'primary', 'trunk_link']\",\n",
       "       \"['secondary', 'primary', 'secondary_link']\"], dtype=object)"
      ]
     },
     "execution_count": 13,
     "metadata": {},
     "output_type": "execute_result"
    }
   ],
   "source": [
    "sm.road_links['highway'].unique()"
   ]
  },
  {
   "cell_type": "code",
   "execution_count": 14,
   "metadata": {},
   "outputs": [
    {
     "data": {
      "text/plain": [
       "highway\n",
       "motorway          112\n",
       "motorway_link      80\n",
       "primary            68\n",
       "primary_link       68\n",
       "secondary          57\n",
       "secondary_link     60\n",
       "trunk              96\n",
       "trunk_link         70\n",
       "dtype: int64"
      ]
     },
     "execution_count": 14,
     "metadata": {},
     "output_type": "execute_result"
    }
   ],
   "source": [
    "main_types = [t for t in list(sm.road_links['highway'].unique()) if not t.startswith('[')]\n",
    "temp = sm.road_links.loc[(sm.road_links['maxspeed']!=default_speed) &\n",
    "                         (sm.road_links['highway'].isin(main_types))\n",
    "                        ].set_index('highway', drop=True)\n",
    "weighted_speeds = temp.groupby(temp.index).apply(\n",
    "    lambda x: int(np.average(x.maxspeed, weights=x.length)))\n",
    "weighted_speeds"
   ]
  },
  {
   "cell_type": "code",
   "execution_count": 15,
   "metadata": {},
   "outputs": [
    {
     "data": {
      "text/plain": [
       "76.375"
      ]
     },
     "execution_count": 15,
     "metadata": {},
     "output_type": "execute_result"
    }
   ],
   "source": [
    "weighted_speeds.mean()"
   ]
  },
  {
   "cell_type": "code",
   "execution_count": 16,
   "metadata": {},
   "outputs": [],
   "source": [
    "# On German motorways without speed limit MIV average speed is 125 km/h\n",
    "# https://www.zukunft-mobilitaet.net/171117/analyse/gefahrene-geschwindigkeiten-auf-autobahnen-ohne-tempolimit-verteilung-deutschland/\n",
    "sm.road_links.loc[(sm.road_links['maxspeed']==default_speed) &\n",
    "                  (sm.road_links['highway']=='motorway'), 'maxspeed'] = 125\n",
    "# All other road types are attributed according to the mean speed limit for their type\n",
    "main_types = [t for t in list(sm.road_links['highway'].unique()) if not t.startswith('[')]\n",
    "for t in main_types:\n",
    "    try:\n",
    "        sm.road_links.loc[(sm.road_links['maxspeed']==default_speed) &\n",
    "                          (sm.road_links['highway']==t), 'maxspeed'] = weighted_speeds[t]\n",
    "    except KeyError:\n",
    "        print('No benchmark speed for highway type ' + t)\n",
    "# The rest is a mix of all road types\n",
    "sm.road_links['maxspeed'] = sm.road_links['maxspeed'].replace(\n",
    "    default_speed, int(weighted_speeds.mean()))"
   ]
  },
  {
   "cell_type": "code",
   "execution_count": 17,
   "metadata": {},
   "outputs": [
    {
     "data": {
      "text/plain": [
       "array([[<AxesSubplot:title={'center':'maxspeed'}>]], dtype=object)"
      ]
     },
     "execution_count": 17,
     "metadata": {},
     "output_type": "execute_result"
    },
    {
     "data": {
      "image/png": "[encoded data removed]",
      "text/plain": [
       "<Figure size 288x288 with 1 Axes>"
      ]
     },
     "metadata": {
      "needs_background": "light"
     },
     "output_type": "display_data"
    }
   ],
   "source": [
    "# Number of links (not length) with specified speeds\n",
    "sm.road_links.hist(column='maxspeed', bins=50, figsize=(4,4))"
   ]
  },
  {
   "cell_type": "code",
   "execution_count": 18,
   "metadata": {},
   "outputs": [],
   "source": [
    "# Generate time for road links in seconds\n",
    "# Manual calibration with Google maps (see below)\n",
    "# shows that traffic flow is slower than the speed limits\n",
    "road_speed_calibration = 0.8\n",
    "sm.road_links[\"time\"] = sm.road_links[\"length\"] / 1000 / \\\n",
    "    (sm.road_links[\"maxspeed\"] * road_speed_calibration) * 3600"
   ]
  },
  {
   "cell_type": "code",
   "execution_count": 19,
   "metadata": {},
   "outputs": [
    {
     "data": {
      "text/html": [
       "<div>\n",
       "<style scoped>\n",
       "    .dataframe tbody tr th:only-of-type {\n",
       "        vertical-align: middle;\n",
       "    }\n",
       "\n",
       "    .dataframe tbody tr th {\n",
       "        vertical-align: top;\n",
       "    }\n",
       "\n",
       "    .dataframe thead th {\n",
       "        text-align: right;\n",
       "    }\n",
       "</style>\n",
       "<table border=\"1\" class=\"dataframe\">\n",
       "  <thead>\n",
       "    <tr style=\"text-align: right;\">\n",
       "      <th></th>\n",
       "      <th>a</th>\n",
       "      <th>b</th>\n",
       "      <th>geometry</th>\n",
       "      <th>maxspeed</th>\n",
       "      <th>lanes</th>\n",
       "      <th>highway</th>\n",
       "      <th>length</th>\n",
       "      <th>time</th>\n",
       "    </tr>\n",
       "    <tr>\n",
       "      <th>index</th>\n",
       "      <th></th>\n",
       "      <th></th>\n",
       "      <th></th>\n",
       "      <th></th>\n",
       "      <th></th>\n",
       "      <th></th>\n",
       "      <th></th>\n",
       "      <th></th>\n",
       "    </tr>\n",
       "  </thead>\n",
       "  <tbody>\n",
       "    <tr>\n",
       "      <th>rl_413094</th>\n",
       "      <td>1720532370</td>\n",
       "      <td>4312009198</td>\n",
       "      <td>LINESTRING (8.65679 49.59289, 8.66260 49.57208)</td>\n",
       "      <td>57</td>\n",
       "      <td>2</td>\n",
       "      <td>secondary</td>\n",
       "      <td>2436</td>\n",
       "      <td>192.315789</td>\n",
       "    </tr>\n",
       "    <tr>\n",
       "      <th>rl_389302</th>\n",
       "      <td>85836594</td>\n",
       "      <td>603641933</td>\n",
       "      <td>LINESTRING (10.23518 52.73386, 10.24181 52.73895)</td>\n",
       "      <td>50</td>\n",
       "      <td>3</td>\n",
       "      <td>primary</td>\n",
       "      <td>791</td>\n",
       "      <td>71.190000</td>\n",
       "    </tr>\n",
       "    <tr>\n",
       "      <th>rl_334023</th>\n",
       "      <td>216504293</td>\n",
       "      <td>203426525</td>\n",
       "      <td>LINESTRING (8.41718 52.12821, 8.45375 52.10129)</td>\n",
       "      <td>57</td>\n",
       "      <td>None</td>\n",
       "      <td>secondary</td>\n",
       "      <td>4177</td>\n",
       "      <td>329.763158</td>\n",
       "    </tr>\n",
       "    <tr>\n",
       "      <th>rl_238162</th>\n",
       "      <td>494779540</td>\n",
       "      <td>31629674</td>\n",
       "      <td>LINESTRING (7.76318 48.25147, 7.76263 48.25440)</td>\n",
       "      <td>80</td>\n",
       "      <td>1</td>\n",
       "      <td>motorway_link</td>\n",
       "      <td>334</td>\n",
       "      <td>18.787500</td>\n",
       "    </tr>\n",
       "  </tbody>\n",
       "</table>\n",
       "</div>"
      ],
      "text/plain": [
       "                    a           b  \\\n",
       "index                               \n",
       "rl_413094  1720532370  4312009198   \n",
       "rl_389302    85836594   603641933   \n",
       "rl_334023   216504293   203426525   \n",
       "rl_238162   494779540    31629674   \n",
       "\n",
       "                                                    geometry  maxspeed lanes  \\\n",
       "index                                                                          \n",
       "rl_413094    LINESTRING (8.65679 49.59289, 8.66260 49.57208)        57     2   \n",
       "rl_389302  LINESTRING (10.23518 52.73386, 10.24181 52.73895)        50     3   \n",
       "rl_334023    LINESTRING (8.41718 52.12821, 8.45375 52.10129)        57  None   \n",
       "rl_238162    LINESTRING (7.76318 48.25147, 7.76263 48.25440)        80     1   \n",
       "\n",
       "                 highway  length        time  \n",
       "index                                         \n",
       "rl_413094      secondary    2436  192.315789  \n",
       "rl_389302        primary     791   71.190000  \n",
       "rl_334023      secondary    4177  329.763158  \n",
       "rl_238162  motorway_link     334   18.787500  "
      ]
     },
     "execution_count": 19,
     "metadata": {},
     "output_type": "execute_result"
    }
   ],
   "source": [
    "sm.road_links.sample(4)"
   ]
  },
  {
   "cell_type": "markdown",
   "metadata": {},
   "source": [
    "### Alter road access/egress links"
   ]
  },
  {
   "cell_type": "code",
   "execution_count": 20,
   "metadata": {},
   "outputs": [
    {
     "data": {
      "text/html": [
       "<div>\n",
       "<style scoped>\n",
       "    .dataframe tbody tr th:only-of-type {\n",
       "        vertical-align: middle;\n",
       "    }\n",
       "\n",
       "    .dataframe tbody tr th {\n",
       "        vertical-align: top;\n",
       "    }\n",
       "\n",
       "    .dataframe thead th {\n",
       "        text-align: right;\n",
       "    }\n",
       "</style>\n",
       "<table border=\"1\" class=\"dataframe\">\n",
       "  <thead>\n",
       "    <tr style=\"text-align: right;\">\n",
       "      <th></th>\n",
       "      <th>a</th>\n",
       "      <th>b</th>\n",
       "      <th>direction</th>\n",
       "      <th>distance</th>\n",
       "      <th>speed</th>\n",
       "      <th>time</th>\n",
       "      <th>geometry</th>\n",
       "    </tr>\n",
       "    <tr>\n",
       "      <th>index</th>\n",
       "      <th></th>\n",
       "      <th></th>\n",
       "      <th></th>\n",
       "      <th></th>\n",
       "      <th></th>\n",
       "      <th></th>\n",
       "      <th></th>\n",
       "    </tr>\n",
       "  </thead>\n",
       "  <tbody>\n",
       "    <tr>\n",
       "      <th>320</th>\n",
       "      <td>DED45</td>\n",
       "      <td>6205514409</td>\n",
       "      <td>access</td>\n",
       "      <td>0</td>\n",
       "      <td>10</td>\n",
       "      <td>0</td>\n",
       "      <td>LINESTRING (12.52578 50.75076, 12.50587 50.76672)</td>\n",
       "    </tr>\n",
       "  </tbody>\n",
       "</table>\n",
       "</div>"
      ],
      "text/plain": [
       "           a           b direction  distance  speed  time  \\\n",
       "index                                                       \n",
       "320    DED45  6205514409    access         0     10     0   \n",
       "\n",
       "                                                geometry  \n",
       "index                                                     \n",
       "320    LINESTRING (12.52578 50.75076, 12.50587 50.76672)  "
      ]
     },
     "execution_count": 20,
     "metadata": {},
     "output_type": "execute_result"
    }
   ],
   "source": [
    "# There has been assigned a static time value in prep20\n",
    "sm.zone_to_road.sample()"
   ]
  },
  {
   "cell_type": "code",
   "execution_count": 21,
   "metadata": {},
   "outputs": [],
   "source": [
    "# ASSUMPTION: Assign a time\n",
    "sm.zone_to_road['time'] = 5*60"
   ]
  },
  {
   "cell_type": "markdown",
   "metadata": {},
   "source": [
    "## Apply road pathfinder in order to generate LoS table"
   ]
  },
  {
   "cell_type": "code",
   "execution_count": 22,
   "metadata": {},
   "outputs": [
    {
     "name": "stdout",
     "output_type": "stream",
     "text": [
      "Generated OD set with 160801 pairs\n"
     ]
    }
   ],
   "source": [
    "# Load OD pairs from volumes if available\n",
    "od_set = None\n",
    "try:\n",
    "    v = stepmodel.read_json(model_path + 'de_volumes')\n",
    "    od_set = set([tuple(l) for l in v.volumes[['origin', 'destination']].values.tolist()])\n",
    "    print('Generated OD set with {} pairs'.format(len(od_set)))\n",
    "except:\n",
    "    print('The volumes file is not (yet) available')"
   ]
  },
  {
   "cell_type": "code",
   "execution_count": 23,
   "metadata": {
    "scrolled": true
   },
   "outputs": [],
   "source": [
    "sm.step_road_pathfinder(all_or_nothing=True,\n",
    "                        od_set=od_set)"
   ]
  },
  {
   "cell_type": "code",
   "execution_count": 24,
   "metadata": {},
   "outputs": [
    {
     "data": {
      "text/html": [
       "<div>\n",
       "<style scoped>\n",
       "    .dataframe tbody tr th:only-of-type {\n",
       "        vertical-align: middle;\n",
       "    }\n",
       "\n",
       "    .dataframe tbody tr th {\n",
       "        vertical-align: top;\n",
       "    }\n",
       "\n",
       "    .dataframe thead th {\n",
       "        text-align: right;\n",
       "    }\n",
       "</style>\n",
       "<table border=\"1\" class=\"dataframe\">\n",
       "  <thead>\n",
       "    <tr style=\"text-align: right;\">\n",
       "      <th></th>\n",
       "      <th>origin</th>\n",
       "      <th>destination</th>\n",
       "      <th>time</th>\n",
       "      <th>path</th>\n",
       "      <th>node_path</th>\n",
       "      <th>link_path</th>\n",
       "      <th>ntlegs</th>\n",
       "    </tr>\n",
       "  </thead>\n",
       "  <tbody>\n",
       "    <tr>\n",
       "      <th>108664</th>\n",
       "      <td>DEA34</td>\n",
       "      <td>DEG0I</td>\n",
       "      <td>19702.474619</td>\n",
       "      <td>[DEA34, 26873204, 1798580828, 34009086, 340090...</td>\n",
       "      <td>[26873204, 1798580828, 34009086, 34009088, 340...</td>\n",
       "      <td>[rl_415316, rl_468529, rl_287485, rl_468531, r...</td>\n",
       "      <td>[(DEA34, 26873204), (1772536291, DEG0I)]</td>\n",
       "    </tr>\n",
       "    <tr>\n",
       "      <th>145495</th>\n",
       "      <td>DEE0E</td>\n",
       "      <td>DEC04</td>\n",
       "      <td>24952.155146</td>\n",
       "      <td>[DEE0E, 1509596508, 118169503, 2058557108, 927...</td>\n",
       "      <td>[1509596508, 118169503, 2058557108, 92773679, ...</td>\n",
       "      <td>[rl_394829, rl_131555, rl_130007, rl_316603, r...</td>\n",
       "      <td>[(DEE0E, 1509596508), (472589215, DEC04)]</td>\n",
       "    </tr>\n",
       "    <tr>\n",
       "      <th>23178</th>\n",
       "      <td>DE21E</td>\n",
       "      <td>DEB3C</td>\n",
       "      <td>14063.234621</td>\n",
       "      <td>[DE21E, 73044972, 266650595, 918734036, 220835...</td>\n",
       "      <td>[73044972, 266650595, 918734036, 2208357992, 2...</td>\n",
       "      <td>[rl_426785, rl_387795, rl_116848, rl_36544, rl...</td>\n",
       "      <td>[(DE21E, 73044972), (6611415024, DEB3C)]</td>\n",
       "    </tr>\n",
       "  </tbody>\n",
       "</table>\n",
       "</div>"
      ],
      "text/plain": [
       "       origin destination          time  \\\n",
       "108664  DEA34       DEG0I  19702.474619   \n",
       "145495  DEE0E       DEC04  24952.155146   \n",
       "23178   DE21E       DEB3C  14063.234621   \n",
       "\n",
       "                                                     path  \\\n",
       "108664  [DEA34, 26873204, 1798580828, 34009086, 340090...   \n",
       "145495  [DEE0E, 1509596508, 118169503, 2058557108, 927...   \n",
       "23178   [DE21E, 73044972, 266650595, 918734036, 220835...   \n",
       "\n",
       "                                                node_path  \\\n",
       "108664  [26873204, 1798580828, 34009086, 34009088, 340...   \n",
       "145495  [1509596508, 118169503, 2058557108, 92773679, ...   \n",
       "23178   [73044972, 266650595, 918734036, 2208357992, 2...   \n",
       "\n",
       "                                                link_path  \\\n",
       "108664  [rl_415316, rl_468529, rl_287485, rl_468531, r...   \n",
       "145495  [rl_394829, rl_131555, rl_130007, rl_316603, r...   \n",
       "23178   [rl_426785, rl_387795, rl_116848, rl_36544, rl...   \n",
       "\n",
       "                                           ntlegs  \n",
       "108664   [(DEA34, 26873204), (1772536291, DEG0I)]  \n",
       "145495  [(DEE0E, 1509596508), (472589215, DEC04)]  \n",
       "23178    [(DE21E, 73044972), (6611415024, DEB3C)]  "
      ]
     },
     "execution_count": 24,
     "metadata": {},
     "output_type": "execute_result"
    }
   ],
   "source": [
    "sm.car_los.sample(3)"
   ]
  },
  {
   "cell_type": "code",
   "execution_count": 25,
   "metadata": {},
   "outputs": [
    {
     "data": {
      "text/plain": [
       "(160801, 7)"
      ]
     },
     "execution_count": 25,
     "metadata": {},
     "output_type": "execute_result"
    }
   ],
   "source": [
    "sm.car_los.shape"
   ]
  },
  {
   "cell_type": "code",
   "execution_count": 26,
   "metadata": {
    "scrolled": true
   },
   "outputs": [
    {
     "name": "stdout",
     "output_type": "stream",
     "text": [
      "DE111 - DE111: 0.0, 0km\n",
      "DE111 - DE300: 6.9, 631km\n",
      "DE111 - DE939: 7.7, 689km\n",
      "DE111 - DEE0D: 7.3, 588km\n",
      "DE300 - DE111: 6.8, 631km\n",
      "DE300 - DE300: 0.0, 0km\n",
      "DE300 - DE939: 4.2, 355km\n",
      "DE300 - DEE0D: 2.6, 134km\n",
      "DE939 - DE111: 7.6, 688km\n",
      "DE939 - DE300: 4.2, 354km\n",
      "DE939 - DE939: 0.0, 0km\n",
      "DE939 - DEE0D: 3.6, 274km\n",
      "DEE0D - DE111: 7.2, 586km\n",
      "DEE0D - DE300: 2.6, 134km\n",
      "DEE0D - DE939: 3.7, 274km\n",
      "DEE0D - DEE0D: 0.0, 0km\n"
     ]
    }
   ],
   "source": [
    "# Verify with Google maps routing\n",
    "# Berlin (DE300) - Stade (DE939): 4h22m, 354km\n",
    "# Berlin (DE300) - Stuttgart (DE111): 6h37m, 632km\n",
    "# Berlin (DE300) - Stendal (DEE0D): 2h08m, 125km\n",
    "# Stade - Stuttgart: 7h45m, 687km\n",
    "# Stendal - Stuttgart: 6h11m, 574km\n",
    "# Stendal - Stade: 3h22m, 231km\n",
    "od = ['DE300', 'DE939', 'DE111', 'DEE0D']\n",
    "for _, row in sm.car_los.loc[(sm.car_los['origin'].isin(od)) &\n",
    "                             (sm.car_los['destination'].isin(od))].iterrows():\n",
    "    print(row['origin'] + ' - ' + row['destination'] + ': '\n",
    "          + str(np.round(row['time']/3600,1)) + ', '\n",
    "          + str(int(sm.road_links.loc[row['link_path'], 'length'].sum()/1000)) + 'km')"
   ]
  },
  {
   "cell_type": "code",
   "execution_count": 27,
   "metadata": {},
   "outputs": [
    {
     "data": {
      "text/plain": [
       "array([[<AxesSubplot:title={'center':'time'}>]], dtype=object)"
      ]
     },
     "execution_count": 27,
     "metadata": {},
     "output_type": "execute_result"
    },
    {
     "data": {
      "image/png": "[encoded data removed]",
      "text/plain": [
       "<Figure size 288x288 with 1 Axes>"
      ]
     },
     "metadata": {
      "needs_background": "light"
     },
     "output_type": "display_data"
    }
   ],
   "source": [
    "sm.car_los.hist(column='time', bins=100, figsize=(4,4))"
   ]
  },
  {
   "cell_type": "code",
   "execution_count": 28,
   "metadata": {},
   "outputs": [
    {
     "data": {
      "text/plain": [
       "(160400, 7)"
      ]
     },
     "execution_count": 28,
     "metadata": {},
     "output_type": "execute_result"
    }
   ],
   "source": [
    "# Drop inner-cell connections\n",
    "sm.car_los = sm.car_los[sm.car_los['time']!=0]\n",
    "sm.car_los.shape"
   ]
  },
  {
   "cell_type": "markdown",
   "metadata": {},
   "source": [
    "## Add various attributes to LoS table"
   ]
  },
  {
   "cell_type": "code",
   "execution_count": 29,
   "metadata": {},
   "outputs": [
    {
     "name": "stdout",
     "output_type": "stream",
     "text": [
      "Index(['origin', 'destination', 'time', 'path', 'node_path', 'link_path',\n",
      "       'ntlegs', 'access_time', 'in_vehicle_time'],\n",
      "      dtype='object')\n"
     ]
    }
   ],
   "source": [
    "# Disaggregate into in-vehicle time and access/egress\n",
    "sm.analysis_car_time()\n",
    "print(sm.car_los.columns)"
   ]
  },
  {
   "cell_type": "code",
   "execution_count": 30,
   "metadata": {},
   "outputs": [],
   "source": [
    "# Add distances car\n",
    "len_dict = sm.road_links['length'].to_dict()\n",
    "sm.car_los['length'] = sm.car_los['link_path'].apply(lambda p: sum([len_dict[l] for l in p]))"
   ]
  },
  {
   "cell_type": "code",
   "execution_count": 31,
   "metadata": {},
   "outputs": [],
   "source": [
    "# Add route_type = 'car' in car_los\n",
    "sm.analysis_car_route_type()"
   ]
  },
  {
   "cell_type": "code",
   "execution_count": 32,
   "metadata": {},
   "outputs": [],
   "source": [
    "sm.car_los['ntransfers'] = 0"
   ]
  },
  {
   "cell_type": "code",
   "execution_count": 33,
   "metadata": {},
   "outputs": [],
   "source": [
    "# Car is always available\n",
    "sm.car_los['accessibility'] = 1"
   ]
  },
  {
   "cell_type": "markdown",
   "metadata": {},
   "source": [
    "### Car ownership and accessibility\n",
    "Car ownership from the German federal statistical office GENESIS data base table 46251-0006: \"Kraftfahrzeugbestand: Kreise, Stichtag, Kraftfahrzeugarten\". Download at Nov. 26th 2020. License: Datenlizenz by-2-0; www.govdata.de/dl-de/by-2-0"
   ]
  },
  {
   "cell_type": "code",
   "execution_count": 34,
   "metadata": {},
   "outputs": [
    {
     "data": {
      "text/html": [
       "<div>\n",
       "<style scoped>\n",
       "    .dataframe tbody tr th:only-of-type {\n",
       "        vertical-align: middle;\n",
       "    }\n",
       "\n",
       "    .dataframe tbody tr th {\n",
       "        vertical-align: top;\n",
       "    }\n",
       "\n",
       "    .dataframe thead th {\n",
       "        text-align: right;\n",
       "    }\n",
       "</style>\n",
       "<table border=\"1\" class=\"dataframe\">\n",
       "  <thead>\n",
       "    <tr style=\"text-align: right;\">\n",
       "      <th></th>\n",
       "      <th>CNTR_CODE</th>\n",
       "      <th>NUTS_NAME</th>\n",
       "      <th>LEVL_CODE</th>\n",
       "      <th>NUTS_ID</th>\n",
       "      <th>population</th>\n",
       "      <th>area</th>\n",
       "      <th>urbanisation</th>\n",
       "      <th>lau_id</th>\n",
       "      <th>geometry</th>\n",
       "      <th>cars</th>\n",
       "    </tr>\n",
       "    <tr>\n",
       "      <th>index</th>\n",
       "      <th></th>\n",
       "      <th></th>\n",
       "      <th></th>\n",
       "      <th></th>\n",
       "      <th></th>\n",
       "      <th></th>\n",
       "      <th></th>\n",
       "      <th></th>\n",
       "      <th></th>\n",
       "      <th></th>\n",
       "    </tr>\n",
       "  </thead>\n",
       "  <tbody>\n",
       "    <tr>\n",
       "      <th>DEB14</th>\n",
       "      <td>DE</td>\n",
       "      <td>Bad Kreuznach</td>\n",
       "      <td>3</td>\n",
       "      <td>DEB14</td>\n",
       "      <td>158080</td>\n",
       "      <td>863.89</td>\n",
       "      <td>3.0</td>\n",
       "      <td>7133</td>\n",
       "      <td>POLYGON ((7.73463 49.99869, 7.73959 49.99937, ...</td>\n",
       "      <td>104842</td>\n",
       "    </tr>\n",
       "    <tr>\n",
       "      <th>DEE02</th>\n",
       "      <td>DE</td>\n",
       "      <td>Halle (Saale), Kreisfreie Stadt</td>\n",
       "      <td>3</td>\n",
       "      <td>DEE02</td>\n",
       "      <td>239257</td>\n",
       "      <td>135.03</td>\n",
       "      <td>1.0</td>\n",
       "      <td>15002</td>\n",
       "      <td>MULTIPOLYGON (((11.99049 51.54064, 11.99831 51...</td>\n",
       "      <td>98063</td>\n",
       "    </tr>\n",
       "  </tbody>\n",
       "</table>\n",
       "</div>"
      ],
      "text/plain": [
       "      CNTR_CODE                        NUTS_NAME  LEVL_CODE NUTS_ID  \\\n",
       "index                                                                 \n",
       "DEB14        DE                    Bad Kreuznach          3   DEB14   \n",
       "DEE02        DE  Halle (Saale), Kreisfreie Stadt          3   DEE02   \n",
       "\n",
       "       population    area  urbanisation lau_id  \\\n",
       "index                                            \n",
       "DEB14      158080  863.89           3.0   7133   \n",
       "DEE02      239257  135.03           1.0  15002   \n",
       "\n",
       "                                                geometry    cars  \n",
       "index                                                             \n",
       "DEB14  POLYGON ((7.73463 49.99869, 7.73959 49.99937, ...  104842  \n",
       "DEE02  MULTIPOLYGON (((11.99049 51.54064, 11.99831 51...   98063  "
      ]
     },
     "execution_count": 34,
     "metadata": {},
     "output_type": "execute_result"
    }
   ],
   "source": [
    "# Load the table\n",
    "cars = pd.read_excel(input_path + 'spatial_car_ownership_2017_GENESIS.xlsx')\n",
    "cars['sum_MIT'] = cars['Krafträder'] + cars['Pkw']\n",
    "cars['lau_id'] = cars['lau_id'].astype(str)\n",
    "cars['sum_MIT'] = cars['sum_MIT'].replace({'--': 0}).astype(int)\n",
    "cars.set_index('lau_id', drop=True, inplace=True)\n",
    "lau_car_dict = cars['sum_MIT'].to_dict()\n",
    "sm.zones['cars'] = sm.zones['lau_id'].map(lau_car_dict)\n",
    "sm.zones.sample(2)"
   ]
  },
  {
   "cell_type": "code",
   "execution_count": 35,
   "metadata": {},
   "outputs": [
    {
     "name": "stdout",
     "output_type": "stream",
     "text": [
      "0\n"
     ]
    },
    {
     "data": {
      "text/html": [
       "<div>\n",
       "<style scoped>\n",
       "    .dataframe tbody tr th:only-of-type {\n",
       "        vertical-align: middle;\n",
       "    }\n",
       "\n",
       "    .dataframe tbody tr th {\n",
       "        vertical-align: top;\n",
       "    }\n",
       "\n",
       "    .dataframe thead th {\n",
       "        text-align: right;\n",
       "    }\n",
       "</style>\n",
       "<table border=\"1\" class=\"dataframe\">\n",
       "  <thead>\n",
       "    <tr style=\"text-align: right;\">\n",
       "      <th></th>\n",
       "      <th>CNTR_CODE</th>\n",
       "      <th>NUTS_NAME</th>\n",
       "      <th>LEVL_CODE</th>\n",
       "      <th>NUTS_ID</th>\n",
       "      <th>population</th>\n",
       "      <th>area</th>\n",
       "      <th>urbanisation</th>\n",
       "      <th>lau_id</th>\n",
       "      <th>geometry</th>\n",
       "      <th>cars</th>\n",
       "    </tr>\n",
       "    <tr>\n",
       "      <th>index</th>\n",
       "      <th></th>\n",
       "      <th></th>\n",
       "      <th></th>\n",
       "      <th></th>\n",
       "      <th></th>\n",
       "      <th></th>\n",
       "      <th></th>\n",
       "      <th></th>\n",
       "      <th></th>\n",
       "      <th></th>\n",
       "    </tr>\n",
       "  </thead>\n",
       "  <tbody>\n",
       "    <tr>\n",
       "      <th>DE91C</th>\n",
       "      <td>DE</td>\n",
       "      <td>Göttingen</td>\n",
       "      <td>3</td>\n",
       "      <td>DE91C</td>\n",
       "      <td>328074</td>\n",
       "      <td>1755.39</td>\n",
       "      <td>3.0</td>\n",
       "      <td>3159</td>\n",
       "      <td>POLYGON ((10.67728 51.63838, 10.67664 51.63294...</td>\n",
       "      <td>0</td>\n",
       "    </tr>\n",
       "    <tr>\n",
       "      <th>DEB25</th>\n",
       "      <td>DE</td>\n",
       "      <td>Trier-Saarburg</td>\n",
       "      <td>3</td>\n",
       "      <td>DEB25</td>\n",
       "      <td>148945</td>\n",
       "      <td>1102.22</td>\n",
       "      <td>3.0</td>\n",
       "      <td>7235</td>\n",
       "      <td>POLYGON ((6.71195 49.90481, 6.72201 49.89223, ...</td>\n",
       "      <td>0</td>\n",
       "    </tr>\n",
       "  </tbody>\n",
       "</table>\n",
       "</div>"
      ],
      "text/plain": [
       "      CNTR_CODE       NUTS_NAME  LEVL_CODE NUTS_ID  population     area  \\\n",
       "index                                                                     \n",
       "DE91C        DE       Göttingen          3   DE91C      328074  1755.39   \n",
       "DEB25        DE  Trier-Saarburg          3   DEB25      148945  1102.22   \n",
       "\n",
       "       urbanisation lau_id                                           geometry  \\\n",
       "index                                                                           \n",
       "DE91C           3.0   3159  POLYGON ((10.67728 51.63838, 10.67664 51.63294...   \n",
       "DEB25           3.0   7235  POLYGON ((6.71195 49.90481, 6.72201 49.89223, ...   \n",
       "\n",
       "       cars  \n",
       "index        \n",
       "DE91C     0  \n",
       "DEB25     0  "
      ]
     },
     "execution_count": 35,
     "metadata": {},
     "output_type": "execute_result"
    }
   ],
   "source": [
    "# Empty rows\n",
    "print(len(sm.zones.loc[sm.zones['cars'].isna()]))\n",
    "sm.zones.loc[sm.zones['cars']<sm.zones['population']/3]"
   ]
  },
  {
   "cell_type": "markdown",
   "metadata": {},
   "source": [
    "Accessibility of cars is important for only those people who drive them. If I wanted to calculate it using only the population between age 18 and 75, I had to use different numbers for population.\n",
    "\n",
    "Population by NUTS3 zone and age group from the German federal statistical office GENESIS data base table 12411-0017: \"Bevölkerung: Kreise, Stichtag, Altersgruppen\". Download at Jan. 29th 2021. License: Datenlizenz by-2-0; www.govdata.de/dl-de/by-2-0"
   ]
  },
  {
   "cell_type": "code",
   "execution_count": 36,
   "metadata": {},
   "outputs": [],
   "source": [
    "# Replace empty rows with average density\n",
    "sm.zones['car_density'] = sm.zones['cars'] / sm.zones['population']\n",
    "sm.zones.loc[sm.zones['cars']==0, 'cars'] = \\\n",
    "    sm.zones['car_density'].mean() * sm.zones.loc[sm.zones['cars']==0, 'population']\n",
    "sm.zones['car_density'] = sm.zones['cars'] / sm.zones['population']"
   ]
  },
  {
   "cell_type": "code",
   "execution_count": 37,
   "metadata": {},
   "outputs": [
    {
     "data": {
      "text/html": [
       "<div>\n",
       "<style scoped>\n",
       "    .dataframe tbody tr th:only-of-type {\n",
       "        vertical-align: middle;\n",
       "    }\n",
       "\n",
       "    .dataframe tbody tr th {\n",
       "        vertical-align: top;\n",
       "    }\n",
       "\n",
       "    .dataframe thead th {\n",
       "        text-align: right;\n",
       "    }\n",
       "</style>\n",
       "<table border=\"1\" class=\"dataframe\">\n",
       "  <thead>\n",
       "    <tr style=\"text-align: right;\">\n",
       "      <th></th>\n",
       "      <th>car_density</th>\n",
       "    </tr>\n",
       "    <tr>\n",
       "      <th>urbanisation</th>\n",
       "      <th></th>\n",
       "    </tr>\n",
       "  </thead>\n",
       "  <tbody>\n",
       "    <tr>\n",
       "      <th>1.0</th>\n",
       "      <td>0.535343</td>\n",
       "    </tr>\n",
       "    <tr>\n",
       "      <th>2.0</th>\n",
       "      <td>0.652695</td>\n",
       "    </tr>\n",
       "    <tr>\n",
       "      <th>3.0</th>\n",
       "      <td>0.671949</td>\n",
       "    </tr>\n",
       "  </tbody>\n",
       "</table>\n",
       "</div>"
      ],
      "text/plain": [
       "              car_density\n",
       "urbanisation             \n",
       "1.0              0.535343\n",
       "2.0              0.652695\n",
       "3.0              0.671949"
      ]
     },
     "execution_count": 37,
     "metadata": {},
     "output_type": "execute_result"
    }
   ],
   "source": [
    "sm.zones.groupby('urbanisation').agg({'car_density': 'mean'})"
   ]
  },
  {
   "cell_type": "code",
   "execution_count": 38,
   "metadata": {},
   "outputs": [],
   "source": [
    "# Set accessibility\n",
    "ac_dict = sm.zones['car_density'].to_dict()\n",
    "sm.car_los['accessibility'] = sm.car_los['origin'].map(ac_dict)"
   ]
  },
  {
   "cell_type": "code",
   "execution_count": 39,
   "metadata": {},
   "outputs": [],
   "source": [
    "# There are two cities with more cars than inhabitants:\n",
    "# Wolfsburg and Trier. However, accessibility cannot be larger 1\n",
    "sm.car_los['accessibility'] = sm.car_los['accessibility'].apply(lambda a: min(1, a))"
   ]
  },
  {
   "cell_type": "code",
   "execution_count": 40,
   "metadata": {},
   "outputs": [
    {
     "data": {
      "text/plain": [
       "array([[<AxesSubplot:title={'center':'accessibility'}>]], dtype=object)"
      ]
     },
     "execution_count": 40,
     "metadata": {},
     "output_type": "execute_result"
    },
    {
     "data": {
      "image/png": "[encoded data removed]",
      "text/plain": [
       "<Figure size 288x288 with 1 Axes>"
      ]
     },
     "metadata": {
      "needs_background": "light"
     },
     "output_type": "display_data"
    }
   ],
   "source": [
    "sm.car_los.hist(column='accessibility', bins=100, figsize=(4,4), log=True)"
   ]
  },
  {
   "cell_type": "markdown",
   "metadata": {},
   "source": [
    "### Add cost to LoS table"
   ]
  },
  {
   "cell_type": "code",
   "execution_count": 41,
   "metadata": {},
   "outputs": [],
   "source": [
    "def monetary_cost(length, rf, vc, ac, al, ec, el, sf):\n",
    "    \"\"\" calculate monetary cost of travelling one O-D realtion within the LoS table\n",
    "    :param length: length of main leg in meter\n",
    "    :param df: regression factor for length (to be calibrated beforehand)\n",
    "    :param vc: distance-specific transport cost\n",
    "    :param ac: access cost\n",
    "    :param al: access link length (m)\n",
    "    :param ec: egress cost\n",
    "    :param el: egress link length (m)\n",
    "    :param sf: sharing factor (e.g. occupancy factor of a car)\n",
    "    :return: monetary cost\"\"\"\n",
    "    return (math.pow(length, rf) * vc + ac * al + ec * el) / sf"
   ]
  },
  {
   "cell_type": "code",
   "execution_count": 42,
   "metadata": {},
   "outputs": [
    {
     "data": {
      "text/html": [
       "<div>\n",
       "<style scoped>\n",
       "    .dataframe tbody tr th:only-of-type {\n",
       "        vertical-align: middle;\n",
       "    }\n",
       "\n",
       "    .dataframe tbody tr th {\n",
       "        vertical-align: top;\n",
       "    }\n",
       "\n",
       "    .dataframe thead th {\n",
       "        text-align: right;\n",
       "    }\n",
       "</style>\n",
       "<table border=\"1\" class=\"dataframe\">\n",
       "  <thead>\n",
       "    <tr style=\"text-align: right;\">\n",
       "      <th></th>\n",
       "      <th>fix_cost</th>\n",
       "      <th>repair_cost</th>\n",
       "      <th>var_cost</th>\n",
       "      <th>acquisition_cost</th>\n",
       "      <th>eur_per_month</th>\n",
       "      <th>ct_per_km</th>\n",
       "      <th>model</th>\n",
       "      <th>model.1</th>\n",
       "    </tr>\n",
       "  </thead>\n",
       "  <tbody>\n",
       "    <tr>\n",
       "      <th>563</th>\n",
       "      <td>120</td>\n",
       "      <td>61</td>\n",
       "      <td>100</td>\n",
       "      <td>347</td>\n",
       "      <td>628</td>\n",
       "      <td>50.2</td>\n",
       "      <td>i30 Fastback 1.6 CRDi Style</td>\n",
       "      <td>i30 Fastback 1.6 CRDi Style</td>\n",
       "    </tr>\n",
       "    <tr>\n",
       "      <th>1448</th>\n",
       "      <td>133</td>\n",
       "      <td>124</td>\n",
       "      <td>186</td>\n",
       "      <td>753</td>\n",
       "      <td>1196</td>\n",
       "      <td>95.7</td>\n",
       "      <td>V90 T6 Polestar Performance Momentum Pro AWD A...</td>\n",
       "      <td>V90 T6 Polestar Performance Momentum Pro AWD A...</td>\n",
       "    </tr>\n",
       "    <tr>\n",
       "      <th>600</th>\n",
       "      <td>156</td>\n",
       "      <td>96</td>\n",
       "      <td>159</td>\n",
       "      <td>697</td>\n",
       "      <td>1108</td>\n",
       "      <td>88.6</td>\n",
       "      <td>XF Sportbrake 25t Pure Automatik</td>\n",
       "      <td>XF Sportbrake 25t Pure Automatik</td>\n",
       "    </tr>\n",
       "    <tr>\n",
       "      <th>957</th>\n",
       "      <td>140</td>\n",
       "      <td>95</td>\n",
       "      <td>118</td>\n",
       "      <td>445</td>\n",
       "      <td>798</td>\n",
       "      <td>63.8</td>\n",
       "      <td>GLB 180 d 8G-DCT</td>\n",
       "      <td>GLB 180 d 8G-DCT</td>\n",
       "    </tr>\n",
       "  </tbody>\n",
       "</table>\n",
       "</div>"
      ],
      "text/plain": [
       "      fix_cost  repair_cost  var_cost  acquisition_cost  eur_per_month  \\\n",
       "563        120           61       100               347            628   \n",
       "1448       133          124       186               753           1196   \n",
       "600        156           96       159               697           1108   \n",
       "957        140           95       118               445            798   \n",
       "\n",
       "      ct_per_km                                              model  \\\n",
       "563        50.2                        i30 Fastback 1.6 CRDi Style   \n",
       "1448       95.7  V90 T6 Polestar Performance Momentum Pro AWD A...   \n",
       "600        88.6                   XF Sportbrake 25t Pure Automatik   \n",
       "957        63.8                                   GLB 180 d 8G-DCT   \n",
       "\n",
       "                                                model.1  \n",
       "563                         i30 Fastback 1.6 CRDi Style  \n",
       "1448  V90 T6 Polestar Performance Momentum Pro AWD A...  \n",
       "600                    XF Sportbrake 25t Pure Automatik  \n",
       "957                                    GLB 180 d 8G-DCT  "
      ]
     },
     "execution_count": 42,
     "metadata": {},
     "output_type": "execute_result"
    }
   ],
   "source": [
    "# Load list of cost elements\n",
    "cars = pd.read_csv(input_path + 'level_of_service_ADAC_2019_autokostenuebersicht_47085.csv')\n",
    "cars.sample(4)"
   ]
  },
  {
   "cell_type": "markdown",
   "metadata": {},
   "source": [
    "Take only perceived variable cost for distance-dependency.<br>\n",
    "Assume monthly mileage of 15,000km / 12<br>\n",
    "Additionally, there are fix cost which add up on every trip. Assume 3 trips per day as average."
   ]
  },
  {
   "cell_type": "code",
   "execution_count": 43,
   "metadata": {},
   "outputs": [
    {
     "name": "stdout",
     "output_type": "stream",
     "text": [
      "1.551890814081408\n",
      "0.00011439257425742574\n"
     ]
    }
   ],
   "source": [
    "# Prep\n",
    "sm.car_los['price'] = 0\n",
    "vc_car = cars['var_cost'].astype(int).mean() / (15000000/12) # in EUR/m\n",
    "fix_car = cars['fix_cost'].astype(int).mean() / 30 / 3\n",
    "parking_cost = {1: 5, 2: 1, 3: 0} # cost depending on urbanisation degree\n",
    "print(fix_car)\n",
    "print(vc_car)"
   ]
  },
  {
   "cell_type": "markdown",
   "metadata": {},
   "source": [
    "Car occupancy depends on distance\n",
    "\n",
    "The linear fit of MiD2017 car trips yields this function\n",
    "`car: n_persons = 0.0024 * distance[km] + 1.692`"
   ]
  },
  {
   "cell_type": "code",
   "execution_count": 44,
   "metadata": {},
   "outputs": [],
   "source": [
    "# Add prices\n",
    "sm.car_los['price'] = sm.car_los.apply(lambda df: monetary_cost(\n",
    "    df['length'], 1, vc_car,\n",
    "    0,0, #parking_cost[sm.zones.loc[df['origin']]['urbanisation']], 1,\n",
    "    0,0, #parking_cost[sm.zones.loc[df['destination']]['urbanisation']], 1,\n",
    "    0.0024*df['length']/1000+1.692) + fix_car, axis=1)"
   ]
  },
  {
   "cell_type": "code",
   "execution_count": 45,
   "metadata": {},
   "outputs": [],
   "source": [
    "# Alternative ASSUMPTION: Average car occupancy is 1.5 in Germany\n",
    "sm.car_los['price'] = sm.car_los.apply(lambda df: monetary_cost(\n",
    "    df['length'], 1, vc_car,\n",
    "    0,0, #parking_cost[sm.zones.loc[df['origin']]['urbanisation']], 1,\n",
    "    0,0, #parking_cost[sm.zones.loc[df['destination']]['urbanisation']], 1,\n",
    "    1.5) + fix_car, axis=1)"
   ]
  },
  {
   "cell_type": "code",
   "execution_count": 46,
   "metadata": {},
   "outputs": [
    {
     "data": {
      "text/html": [
       "<div>\n",
       "<style scoped>\n",
       "    .dataframe tbody tr th:only-of-type {\n",
       "        vertical-align: middle;\n",
       "    }\n",
       "\n",
       "    .dataframe tbody tr th {\n",
       "        vertical-align: top;\n",
       "    }\n",
       "\n",
       "    .dataframe thead th {\n",
       "        text-align: right;\n",
       "    }\n",
       "</style>\n",
       "<table border=\"1\" class=\"dataframe\">\n",
       "  <thead>\n",
       "    <tr style=\"text-align: right;\">\n",
       "      <th></th>\n",
       "      <th>origin</th>\n",
       "      <th>destination</th>\n",
       "      <th>time</th>\n",
       "      <th>path</th>\n",
       "      <th>node_path</th>\n",
       "      <th>link_path</th>\n",
       "      <th>ntlegs</th>\n",
       "      <th>access_time</th>\n",
       "      <th>in_vehicle_time</th>\n",
       "      <th>length</th>\n",
       "      <th>route_types</th>\n",
       "      <th>route_type</th>\n",
       "      <th>ntransfers</th>\n",
       "      <th>accessibility</th>\n",
       "      <th>price</th>\n",
       "    </tr>\n",
       "  </thead>\n",
       "  <tbody>\n",
       "    <tr>\n",
       "      <th>43930</th>\n",
       "      <td>DE258</td>\n",
       "      <td>DE939</td>\n",
       "      <td>25884.871672</td>\n",
       "      <td>[DE258, 1762926896, 33545438, 308219301, 30821...</td>\n",
       "      <td>[1762926896, 33545438, 308219301, 308219306, 3...</td>\n",
       "      <td>[rl_487011, rl_470934, rl_292566, rl_292570, r...</td>\n",
       "      <td>[(DE258, 1762926896), (2613978965, DE939)]</td>\n",
       "      <td>600</td>\n",
       "      <td>25284.871672</td>\n",
       "      <td>649031</td>\n",
       "      <td>(car,)</td>\n",
       "      <td>car</td>\n",
       "      <td>0</td>\n",
       "      <td>0.701994</td>\n",
       "      <td>51.048109</td>\n",
       "    </tr>\n",
       "    <tr>\n",
       "      <th>144201</th>\n",
       "      <td>DEE0B</td>\n",
       "      <td>DEA12</td>\n",
       "      <td>16269.944913</td>\n",
       "      <td>[DEE0B, 252804110, 252804158, 252956464, 25295...</td>\n",
       "      <td>[252804110, 252804158, 252956464, 252956434, 2...</td>\n",
       "      <td>[rl_61941, rl_61981, rl_160999, rl_408505, rl_...</td>\n",
       "      <td>[(DEE0B, 252804110), (25706672, DEA12)]</td>\n",
       "      <td>600</td>\n",
       "      <td>15669.944913</td>\n",
       "      <td>417839</td>\n",
       "      <td>(car,)</td>\n",
       "      <td>car</td>\n",
       "      <td>0</td>\n",
       "      <td>0.656527</td>\n",
       "      <td>33.417010</td>\n",
       "    </tr>\n",
       "  </tbody>\n",
       "</table>\n",
       "</div>"
      ],
      "text/plain": [
       "       origin destination          time  \\\n",
       "43930   DE258       DE939  25884.871672   \n",
       "144201  DEE0B       DEA12  16269.944913   \n",
       "\n",
       "                                                     path  \\\n",
       "43930   [DE258, 1762926896, 33545438, 308219301, 30821...   \n",
       "144201  [DEE0B, 252804110, 252804158, 252956464, 25295...   \n",
       "\n",
       "                                                node_path  \\\n",
       "43930   [1762926896, 33545438, 308219301, 308219306, 3...   \n",
       "144201  [252804110, 252804158, 252956464, 252956434, 2...   \n",
       "\n",
       "                                                link_path  \\\n",
       "43930   [rl_487011, rl_470934, rl_292566, rl_292570, r...   \n",
       "144201  [rl_61941, rl_61981, rl_160999, rl_408505, rl_...   \n",
       "\n",
       "                                            ntlegs  access_time  \\\n",
       "43930   [(DE258, 1762926896), (2613978965, DE939)]          600   \n",
       "144201     [(DEE0B, 252804110), (25706672, DEA12)]          600   \n",
       "\n",
       "        in_vehicle_time  length route_types route_type  ntransfers  \\\n",
       "43930      25284.871672  649031      (car,)        car           0   \n",
       "144201     15669.944913  417839      (car,)        car           0   \n",
       "\n",
       "        accessibility      price  \n",
       "43930        0.701994  51.048109  \n",
       "144201       0.656527  33.417010  "
      ]
     },
     "execution_count": 46,
     "metadata": {},
     "output_type": "execute_result"
    }
   ],
   "source": [
    "sm.car_los.sample(2)"
   ]
  },
  {
   "cell_type": "code",
   "execution_count": 47,
   "metadata": {},
   "outputs": [
    {
     "data": {
      "text/plain": [
       "<AxesSubplot:xlabel='length', ylabel='price'>"
      ]
     },
     "execution_count": 47,
     "metadata": {},
     "output_type": "execute_result"
    },
    {
     "data": {
      "image/png": "[encoded data removed]",
      "text/plain": [
       "<Figure size 432x288 with 1 Axes>"
      ]
     },
     "metadata": {
      "needs_background": "light"
     },
     "output_type": "display_data"
    }
   ],
   "source": [
    "sm.car_los.plot.scatter(x='length', y='price', alpha=.1)"
   ]
  },
  {
   "cell_type": "markdown",
   "metadata": {},
   "source": [
    "Instead of fix cost per trip, one can also assume ownership cost per hour of vehicle usage. This is also the approach chosen for the German federal governments transport study. In the methodical handbook gasoline cars have engine class weighted specific ownership cost of 0.71 EUR/h and diesel cars 0.99 EUR/h (other propulsion systems don't play a significant role). Multiplied with 2017's shares of gasoline and diesel cars (66.5%; 33.5%) this yields weighted average ownership cost of 0.8 EUR/h."
   ]
  },
  {
   "cell_type": "code",
   "execution_count": 48,
   "metadata": {},
   "outputs": [],
   "source": [
    "sm.car_los['price'] = sm.car_los['price'] - fix_car + \\\n",
    "    sm.car_los['time'].apply(lambda s: 0.8 * s / 3600)"
   ]
  },
  {
   "cell_type": "code",
   "execution_count": 49,
   "metadata": {},
   "outputs": [
    {
     "data": {
      "text/plain": [
       "<AxesSubplot:xlabel='length', ylabel='price'>"
      ]
     },
     "execution_count": 49,
     "metadata": {},
     "output_type": "execute_result"
    },
    {
     "data": {
      "image/png": "[encoded data removed]",
      "text/plain": [
       "<Figure size 432x288 with 1 Axes>"
      ]
     },
     "metadata": {
      "needs_background": "light"
     },
     "output_type": "display_data"
    }
   ],
   "source": [
    "sm.car_los.plot.scatter(x='length', y='price', alpha=.1)"
   ]
  },
  {
   "cell_type": "markdown",
   "metadata": {},
   "source": [
    "### Save model"
   ]
  },
  {
   "cell_type": "code",
   "execution_count": 50,
   "metadata": {},
   "outputs": [],
   "source": [
    "# Ditch unneccessary columns\n",
    "to_drop = ['alighting_links','alightings','all_walk','boarding_links','boardings',\n",
    "           'footpaths','length_link_path','node_path','ntlegs','time_link_path','transfers',\n",
    "           'pathfinder_session','gtime','reversed', 'broken_modes', 'path']\n",
    "sm.car_los = sm.car_los.drop(to_drop, axis=1, errors='ignore')"
   ]
  },
  {
   "cell_type": "code",
   "execution_count": 51,
   "metadata": {},
   "outputs": [],
   "source": [
    "# Make table smaller\n",
    "cols = ['time', 'access_time', 'in_vehicle_time', 'length']\n",
    "sm.car_los[cols] = sm.car_los[cols].astype(int)"
   ]
  },
  {
   "cell_type": "code",
   "execution_count": 52,
   "metadata": {},
   "outputs": [
    {
     "name": "stderr",
     "output_type": "stream",
     "text": [
      "to_hdf(overwriting): 100%|█████████████████████████████████████████████████████████████| 34/34 [00:17<00:00,  2.00it/s]\n"
     ]
    }
   ],
   "source": [
    "sm.to_json(model_path + 'de_road_los',\n",
    "           only_attributes=['car_los'], encoding='utf-8')"
   ]
  }
 ],
 "metadata": {
  "kernelspec": {
   "display_name": "Python 3",
   "language": "python",
   "name": "python3"
  },
  "language_info": {
   "codemirror_mode": {
    "name": "ipython",
    "version": 3
   },
   "file_extension": ".py",
   "mimetype": "text/x-python",
   "name": "python",
   "nbconvert_exporter": "python",
   "pygments_lexer": "ipython3",
   "version": "3.8.1"
  }
 },
 "nbformat": 4,
 "nbformat_minor": 2
}
