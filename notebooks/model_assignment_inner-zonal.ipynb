{
 "cells": [
  {
   "cell_type": "code",
   "execution_count": null,
   "metadata": {},
   "outputs": [],
   "source": [
    "import sys # for automation and parallelisation\n",
    "manual, scenario = (True, 'base') if 'ipykernel' in sys.argv[0] else (False, sys.argv[1])\n",
    "if manual:\n",
    "    %matplotlib inline"
   ]
  },
  {
   "cell_type": "code",
   "execution_count": 17,
   "metadata": {},
   "outputs": [
    {
     "name": "stderr",
     "output_type": "stream",
     "text": [
      "In C:\\Users\\marlin.arnz\\AppData\\Local\\Continuum\\miniconda3\\envs\\quetzal\\lib\\site-packages\\matplotlib\\mpl-data\\stylelib\\_classic_test.mplstyle: \n",
      "The text.latex.preview rcparam was deprecated in Matplotlib 3.3 and will be removed two minor releases later.\n",
      "In C:\\Users\\marlin.arnz\\AppData\\Local\\Continuum\\miniconda3\\envs\\quetzal\\lib\\site-packages\\matplotlib\\mpl-data\\stylelib\\_classic_test.mplstyle: \n",
      "The mathtext.fallback_to_cm rcparam was deprecated in Matplotlib 3.3 and will be removed two minor releases later.\n",
      "In C:\\Users\\marlin.arnz\\AppData\\Local\\Continuum\\miniconda3\\envs\\quetzal\\lib\\site-packages\\matplotlib\\mpl-data\\stylelib\\_classic_test.mplstyle: Support for setting the 'mathtext.fallback_to_cm' rcParam is deprecated since 3.3 and will be removed two minor releases later; use 'mathtext.fallback : 'cm' instead.\n",
      "In C:\\Users\\marlin.arnz\\AppData\\Local\\Continuum\\miniconda3\\envs\\quetzal\\lib\\site-packages\\matplotlib\\mpl-data\\stylelib\\_classic_test.mplstyle: \n",
      "The validate_bool_maybe_none function was deprecated in Matplotlib 3.3 and will be removed two minor releases later.\n",
      "In C:\\Users\\marlin.arnz\\AppData\\Local\\Continuum\\miniconda3\\envs\\quetzal\\lib\\site-packages\\matplotlib\\mpl-data\\stylelib\\_classic_test.mplstyle: \n",
      "The savefig.jpeg_quality rcparam was deprecated in Matplotlib 3.3 and will be removed two minor releases later.\n",
      "In C:\\Users\\marlin.arnz\\AppData\\Local\\Continuum\\miniconda3\\envs\\quetzal\\lib\\site-packages\\matplotlib\\mpl-data\\stylelib\\_classic_test.mplstyle: \n",
      "The keymap.all_axes rcparam was deprecated in Matplotlib 3.3 and will be removed two minor releases later.\n",
      "In C:\\Users\\marlin.arnz\\AppData\\Local\\Continuum\\miniconda3\\envs\\quetzal\\lib\\site-packages\\matplotlib\\mpl-data\\stylelib\\_classic_test.mplstyle: \n",
      "The animation.avconv_path rcparam was deprecated in Matplotlib 3.3 and will be removed two minor releases later.\n",
      "In C:\\Users\\marlin.arnz\\AppData\\Local\\Continuum\\miniconda3\\envs\\quetzal\\lib\\site-packages\\matplotlib\\mpl-data\\stylelib\\_classic_test.mplstyle: \n",
      "The animation.avconv_args rcparam was deprecated in Matplotlib 3.3 and will be removed two minor releases later.\n"
     ]
    }
   ],
   "source": [
    "import numpy as np\n",
    "import pandas as pd\n",
    "from quetzal.model import stepmodel"
   ]
  },
  {
   "cell_type": "markdown",
   "metadata": {},
   "source": [
    "# Inner-zonal assignment\n",
    "## Saves transport demand within zones\n",
    "## Needs inner-zonal volumes and trip lengths by mode"
   ]
  },
  {
   "cell_type": "code",
   "execution_count": 2,
   "metadata": {},
   "outputs": [],
   "source": [
    "input_path = '../input/transport_demand/'\n",
    "output_path = '../output/'\n",
    "model_path = '../model/'"
   ]
  },
  {
   "cell_type": "markdown",
   "metadata": {},
   "source": [
    "## Load transport demand data from VP2030\n",
    "\n",
    "The German federal government's transport study \"[Bundesverkehrswegeplan 2030](https://www.bmvi.de/SharedDocs/DE/Artikel/G/BVWP/bundesverkehrswegeplan-2030-inhalte-herunterladen.html)\" uses origin destination matrices on NUTS3-level resolution and makes them accessible under copyright restrictions for the base year and the year of prognosis. These matrices cannot be published in their original form."
   ]
  },
  {
   "cell_type": "code",
   "execution_count": 3,
   "metadata": {
    "scrolled": true
   },
   "outputs": [],
   "source": [
    "vp2010 = pd.read_excel(input_path + 'PVMatrix_BVWP15_A2010.xlsx')\n",
    "vp2030 = pd.read_excel(input_path + 'PVMatrix_BVWP15_P2030.xlsx')"
   ]
  },
  {
   "cell_type": "code",
   "execution_count": 4,
   "metadata": {},
   "outputs": [
    {
     "name": "stdout",
     "output_type": "stream",
     "text": [
      "(313590, 38)\n"
     ]
    },
    {
     "data": {
      "text/html": [
       "<div>\n",
       "<style scoped>\n",
       "    .dataframe tbody tr th:only-of-type {\n",
       "        vertical-align: middle;\n",
       "    }\n",
       "\n",
       "    .dataframe tbody tr th {\n",
       "        vertical-align: top;\n",
       "    }\n",
       "\n",
       "    .dataframe thead th {\n",
       "        text-align: right;\n",
       "    }\n",
       "</style>\n",
       "<table border=\"1\" class=\"dataframe\">\n",
       "  <thead>\n",
       "    <tr style=\"text-align: right;\">\n",
       "      <th></th>\n",
       "      <th># Quelle</th>\n",
       "      <th>Ziel</th>\n",
       "      <th>Bahn_Fz1</th>\n",
       "      <th>Bahn_Fz2</th>\n",
       "      <th>Bahn_Fz3</th>\n",
       "      <th>Bahn_Fz4</th>\n",
       "      <th>Bahn_Fz5</th>\n",
       "      <th>Bahn_Fz6</th>\n",
       "      <th>MIV_Fz1</th>\n",
       "      <th>MIV_Fz2</th>\n",
       "      <th>...</th>\n",
       "      <th>Rad_Fz3</th>\n",
       "      <th>Rad_Fz4</th>\n",
       "      <th>Rad_Fz5</th>\n",
       "      <th>Rad_Fz6</th>\n",
       "      <th>Fuß_Fz1</th>\n",
       "      <th>Fuß_Fz2</th>\n",
       "      <th>Fuß_Fz3</th>\n",
       "      <th>Fuß_Fz4</th>\n",
       "      <th>Fuß_Fz5</th>\n",
       "      <th>Fuß_Fz6</th>\n",
       "    </tr>\n",
       "  </thead>\n",
       "  <tbody>\n",
       "  </tbody>\n",
       "</table>\n",
       "<p>0 rows × 38 columns</p>\n",
       "</div>"
      ],
      "text/plain": [
       "Empty DataFrame\n",
       "Columns: [# Quelle, Ziel, Bahn_Fz1, Bahn_Fz2, Bahn_Fz3, Bahn_Fz4, Bahn_Fz5, Bahn_Fz6, MIV_Fz1, MIV_Fz2, MIV_Fz3, MIV_Fz4, MIV_Fz5, MIV_Fz6, Luft_Fz1, Luft_Fz2, Luft_Fz3, Luft_Fz4, Luft_Fz5, Luft_Fz6, OESPV_Fz1, OESPV_Fz2, OESPV_Fz3, OESPV_Fz4, OESPV_Fz5, OESPV_Fz6, Rad_Fz1, Rad_Fz2, Rad_Fz3, Rad_Fz4, Rad_Fz5, Rad_Fz6, Fuß_Fz1, Fuß_Fz2, Fuß_Fz3, Fuß_Fz4, Fuß_Fz5, Fuß_Fz6]\n",
       "Index: []\n",
       "\n",
       "[0 rows x 38 columns]"
      ]
     },
     "execution_count": 4,
     "metadata": {},
     "output_type": "execute_result"
    }
   ],
   "source": [
    "print(vp2010.shape)\n",
    "vp2010[vp2010.isna().any(axis=1)]"
   ]
  },
  {
   "cell_type": "code",
   "execution_count": 5,
   "metadata": {},
   "outputs": [],
   "source": [
    "for df in [vp2010, vp2030]:\n",
    "    df.rename(columns={'# Quelle': 'origin', 'Ziel': 'destination'}, inplace=True)"
   ]
  },
  {
   "cell_type": "markdown",
   "metadata": {},
   "source": [
    "### Cast to 2017 data"
   ]
  },
  {
   "cell_type": "code",
   "execution_count": 6,
   "metadata": {},
   "outputs": [],
   "source": [
    "def get_vp2017(vp2010_i, vp2030_i):\n",
    "    return vp2010_i + (vp2030_i - vp2010_i) * (7/20)"
   ]
  },
  {
   "cell_type": "code",
   "execution_count": 20,
   "metadata": {},
   "outputs": [],
   "source": [
    "# Calculate a OD table for the year 2017\n",
    "vp2017 = get_vp2017(vp2010.set_index(['origin', 'destination']),\n",
    "                    vp2030.set_index(['origin', 'destination']))"
   ]
  },
  {
   "cell_type": "code",
   "execution_count": 21,
   "metadata": {},
   "outputs": [
    {
     "name": "stdout",
     "output_type": "stream",
     "text": [
      "(313590, 38)\n"
     ]
    },
    {
     "data": {
      "text/html": [
       "<div>\n",
       "<style scoped>\n",
       "    .dataframe tbody tr th:only-of-type {\n",
       "        vertical-align: middle;\n",
       "    }\n",
       "\n",
       "    .dataframe tbody tr th {\n",
       "        vertical-align: top;\n",
       "    }\n",
       "\n",
       "    .dataframe thead th {\n",
       "        text-align: right;\n",
       "    }\n",
       "</style>\n",
       "<table border=\"1\" class=\"dataframe\">\n",
       "  <thead>\n",
       "    <tr style=\"text-align: right;\">\n",
       "      <th></th>\n",
       "      <th></th>\n",
       "      <th>Bahn_Fz1</th>\n",
       "      <th>Bahn_Fz2</th>\n",
       "      <th>Bahn_Fz3</th>\n",
       "      <th>Bahn_Fz4</th>\n",
       "      <th>Bahn_Fz5</th>\n",
       "      <th>Bahn_Fz6</th>\n",
       "      <th>MIV_Fz1</th>\n",
       "      <th>MIV_Fz2</th>\n",
       "      <th>MIV_Fz3</th>\n",
       "      <th>MIV_Fz4</th>\n",
       "      <th>...</th>\n",
       "      <th>Rad_Fz3</th>\n",
       "      <th>Rad_Fz4</th>\n",
       "      <th>Rad_Fz5</th>\n",
       "      <th>Rad_Fz6</th>\n",
       "      <th>Fuß_Fz1</th>\n",
       "      <th>Fuß_Fz2</th>\n",
       "      <th>Fuß_Fz3</th>\n",
       "      <th>Fuß_Fz4</th>\n",
       "      <th>Fuß_Fz5</th>\n",
       "      <th>Fuß_Fz6</th>\n",
       "    </tr>\n",
       "    <tr>\n",
       "      <th>origin</th>\n",
       "      <th>destination</th>\n",
       "      <th></th>\n",
       "      <th></th>\n",
       "      <th></th>\n",
       "      <th></th>\n",
       "      <th></th>\n",
       "      <th></th>\n",
       "      <th></th>\n",
       "      <th></th>\n",
       "      <th></th>\n",
       "      <th></th>\n",
       "      <th></th>\n",
       "      <th></th>\n",
       "      <th></th>\n",
       "      <th></th>\n",
       "      <th></th>\n",
       "      <th></th>\n",
       "      <th></th>\n",
       "      <th></th>\n",
       "      <th></th>\n",
       "      <th></th>\n",
       "      <th></th>\n",
       "    </tr>\n",
       "  </thead>\n",
       "  <tbody>\n",
       "  </tbody>\n",
       "</table>\n",
       "<p>0 rows × 36 columns</p>\n",
       "</div>"
      ],
      "text/plain": [
       "Empty DataFrame\n",
       "Columns: [Bahn_Fz1, Bahn_Fz2, Bahn_Fz3, Bahn_Fz4, Bahn_Fz5, Bahn_Fz6, MIV_Fz1, MIV_Fz2, MIV_Fz3, MIV_Fz4, MIV_Fz5, MIV_Fz6, Luft_Fz1, Luft_Fz2, Luft_Fz3, Luft_Fz4, Luft_Fz5, Luft_Fz6, OESPV_Fz1, OESPV_Fz2, OESPV_Fz3, OESPV_Fz4, OESPV_Fz5, OESPV_Fz6, Rad_Fz1, Rad_Fz2, Rad_Fz3, Rad_Fz4, Rad_Fz5, Rad_Fz6, Fuß_Fz1, Fuß_Fz2, Fuß_Fz3, Fuß_Fz4, Fuß_Fz5, Fuß_Fz6]\n",
       "Index: []\n",
       "\n",
       "[0 rows x 36 columns]"
      ]
     },
     "execution_count": 21,
     "metadata": {},
     "output_type": "execute_result"
    }
   ],
   "source": [
    "vp2017.dropna(how='all', inplace=True)\n",
    "print(vp2010.shape)\n",
    "vp2017[vp2017.isna().any(axis=1)]"
   ]
  },
  {
   "cell_type": "code",
   "execution_count": 22,
   "metadata": {},
   "outputs": [],
   "source": [
    "vp2017 = vp2017[list(vp2017.columns)].astype(int)\n",
    "#vp2017.head()"
   ]
  },
  {
   "cell_type": "code",
   "execution_count": 23,
   "metadata": {},
   "outputs": [
    {
     "data": {
      "text/plain": [
       "412"
      ]
     },
     "execution_count": 23,
     "metadata": {},
     "output_type": "execute_result"
    }
   ],
   "source": [
    "# Keep only inner-cell transport demand\n",
    "vp2017.reset_index(inplace=True)\n",
    "vp2017 = vp2017.loc[vp2017['origin']==vp2017['destination']]\n",
    "vp2017.drop('destination', axis=1, inplace=True)\n",
    "len(vp2017)"
   ]
  },
  {
   "cell_type": "markdown",
   "metadata": {},
   "source": [
    "### Update zone codes and map to NUTS"
   ]
  },
  {
   "cell_type": "code",
   "execution_count": 14,
   "metadata": {},
   "outputs": [],
   "source": [
    "# NUTS3-level zones changed after the VP2030\n",
    "# Thus the VP table needs to be updated manually\n",
    "update_dict = {3156: 3159, 3152: 3159, # Göttingen\n",
    "               13001: 13075, 13002: 13071, 13005: 13073, 13006: 13074,\n",
    "               13051: 13072, 13052: 13071, 13053: 13072, 13054: 13076, 13055: 13071, 13056: 13071,\n",
    "               13057: 13073, 13058: 13074, 13059: 13075, 13060: 13076, 13061: 13073, 13062: 13075}"
   ]
  },
  {
   "cell_type": "code",
   "execution_count": 24,
   "metadata": {},
   "outputs": [
    {
     "data": {
      "text/plain": [
       "85242846874"
      ]
     },
     "execution_count": 24,
     "metadata": {},
     "output_type": "execute_result"
    }
   ],
   "source": [
    "# What is the sum of all trips? For Validation\n",
    "cols = [c for c in vp2017.columns if c not in ['origin']]\n",
    "orig_sum = vp2017[cols].sum().sum()\n",
    "orig_sum"
   ]
  },
  {
   "cell_type": "code",
   "execution_count": 25,
   "metadata": {},
   "outputs": [],
   "source": [
    "# Update LAU codes\n",
    "vp2017['origin'] = vp2017['origin'].replace(update_dict)"
   ]
  },
  {
   "cell_type": "code",
   "execution_count": 28,
   "metadata": {},
   "outputs": [],
   "source": [
    "# Replace LAU with NUTS\n",
    "sm = stepmodel.read_json(model_path + 'de_zones')\n",
    "lau_dict = sm.zones.set_index('lau_id')['NUTS_ID'].to_dict()\n",
    "vp2017['origin'] = vp2017['origin'].astype(str).map(lau_dict)"
   ]
  },
  {
   "cell_type": "code",
   "execution_count": 30,
   "metadata": {},
   "outputs": [
    {
     "data": {
      "text/plain": [
       "(412, 37)"
      ]
     },
     "execution_count": 30,
     "metadata": {},
     "output_type": "execute_result"
    }
   ],
   "source": [
    "# Restrict to cells in the model\n",
    "vp2017 = vp2017[~vp2017.isna().any(axis=1)]\n",
    "vp2017.shape"
   ]
  },
  {
   "cell_type": "code",
   "execution_count": 31,
   "metadata": {},
   "outputs": [
    {
     "data": {
      "text/plain": [
       "1.0"
      ]
     },
     "execution_count": 31,
     "metadata": {},
     "output_type": "execute_result"
    }
   ],
   "source": [
    "# What is the sum of all trips after ditching outer-German trips?\n",
    "vp2017[cols].sum().sum() / orig_sum"
   ]
  },
  {
   "cell_type": "code",
   "execution_count": 32,
   "metadata": {},
   "outputs": [
    {
     "data": {
      "text/plain": [
       "1.0"
      ]
     },
     "execution_count": 32,
     "metadata": {},
     "output_type": "execute_result"
    }
   ],
   "source": [
    "# Aggregate origins\n",
    "vp2017 = vp2017.groupby('origin').sum().reset_index()\n",
    "vp2017[cols].sum().sum() / orig_sum"
   ]
  },
  {
   "cell_type": "code",
   "execution_count": 33,
   "metadata": {},
   "outputs": [
    {
     "data": {
      "text/plain": [
       "(401, 37)"
      ]
     },
     "execution_count": 33,
     "metadata": {},
     "output_type": "execute_result"
    }
   ],
   "source": [
    "vp2017.shape"
   ]
  },
  {
   "cell_type": "markdown",
   "metadata": {},
   "source": [
    "### Re-arrange the modes and purposes"
   ]
  },
  {
   "cell_type": "code",
   "execution_count": 34,
   "metadata": {},
   "outputs": [],
   "source": [
    "# Merge bicycle and foot\n",
    "for p in range(1,7):\n",
    "    vp2017['walk_Fz' + str(p)] = vp2017['Rad_Fz' + str(p)] + vp2017['Fuß_Fz' + str(p)]\n",
    "vp2017 = vp2017[[col for col in list(vp2017.columns) if not col[:3] in ['Rad', 'Fuß']]]"
   ]
  },
  {
   "cell_type": "code",
   "execution_count": 37,
   "metadata": {},
   "outputs": [],
   "source": [
    "# Make columns two levels\n",
    "vp2017.set_index('origin', inplace=True)\n",
    "mode_dict = {'OESPV': 'bus', 'Bahn': 'rail', 'MIV': 'car', 'Luft': 'air', 'walk': 'walk'}\n",
    "vp2017.columns = pd.MultiIndex.from_tuples(\n",
    "    [(col.split('_')[1], mode_dict[col.split('_')[0]]) for col in vp2017.columns],\n",
    "    names=['segment', 'mode'])"
   ]
  },
  {
   "cell_type": "code",
   "execution_count": 38,
   "metadata": {},
   "outputs": [],
   "source": [
    "# Merge purpose 5 and 6 due to calibration data limitations\n",
    "vp2017['Fz6'] = vp2017['Fz5'] + vp2017['Fz6']\n",
    "vp2017.drop('Fz5', axis=1, inplace=True)"
   ]
  },
  {
   "cell_type": "code",
   "execution_count": 40,
   "metadata": {},
   "outputs": [
    {
     "data": {
      "text/plain": [
       "array([<AxesSubplot:ylabel='Fz1'>, <AxesSubplot:ylabel='Fz2'>,\n",
       "       <AxesSubplot:ylabel='Fz3'>, <AxesSubplot:ylabel='Fz4'>,\n",
       "       <AxesSubplot:ylabel='Fz6'>], dtype=object)"
      ]
     },
     "execution_count": 40,
     "metadata": {},
     "output_type": "execute_result"
    },
    {
     "data": {
      "image/png": "[encoded data removed]",
      "text/plain": [
       "<Figure size 1152x288 with 5 Axes>"
      ]
     },
     "metadata": {},
     "output_type": "display_data"
    }
   ],
   "source": [
    "# Modal split by trips\n",
    "vp2017.T.sum(axis=1).unstack('segment').plot.pie(\n",
    "    subplots=True, figsize=(16, 4), legend=False)"
   ]
  },
  {
   "cell_type": "code",
   "execution_count": 75,
   "metadata": {},
   "outputs": [],
   "source": [
    "# Ditch air columns\n",
    "vp2017.drop('air', axis=1, level=1, inplace=True)"
   ]
  },
  {
   "cell_type": "code",
   "execution_count": 40,
   "metadata": {},
   "outputs": [],
   "source": [
    "# Clear the RAM\n",
    "vp2010 = None\n",
    "vp2030 = None"
   ]
  },
  {
   "cell_type": "code",
   "execution_count": 76,
   "metadata": {},
   "outputs": [],
   "source": [
    "volumes = vp2017"
   ]
  },
  {
   "cell_type": "markdown",
   "metadata": {},
   "source": [
    "## Load MiD2017 data for trip lengths\n",
    "\n",
    "Generate average trip lengths using survey data."
   ]
  },
  {
   "cell_type": "code",
   "execution_count": 41,
   "metadata": {},
   "outputs": [],
   "source": [
    "trips = pd.read_csv(input_path + 'MiD2017_Regional_Wege.csv', sep=';')\n",
    "trips = trips[['KKZ_SO', 'KKZ_ZO', 'SKTYP', 'wegkm_imp', 'km_routing_gr',\n",
    "               'wegmin_imp1', 'hwzweck1', 'hvm_diff2', 'vm_kombi', 'anzpers',\n",
    "               'auto', 'P_FKARTE', 'multimodal', 'bahn28', 'bus28', 'bahn28_zo',\n",
    "               'bus28_zo', 'W_DETAIL', 'W_SO2']]\n",
    "trips.columns = ['origin', 'destination', 'SKTYP', 'distance', 'distance_routed',\n",
    "                 'duration', 'purpose', 'mode', 'mode_combo', 'n_persons',\n",
    "                 'car_avail', 'ticket_type', 'mode_affinity', 'dist_train_origin',\n",
    "                 'dist_bus_origin', 'dist_train_destination', 'dist_bus_destination',\n",
    "                 'W_DETAIL', 'W_SO2']"
   ]
  },
  {
   "cell_type": "code",
   "execution_count": 42,
   "metadata": {},
   "outputs": [],
   "source": [
    "trips['distance'] = pd.to_numeric(trips['distance'].str.replace(',', '.'))"
   ]
  },
  {
   "cell_type": "code",
   "execution_count": 43,
   "metadata": {},
   "outputs": [
    {
     "data": {
      "text/plain": [
       "959778"
      ]
     },
     "execution_count": 43,
     "metadata": {},
     "output_type": "execute_result"
    }
   ],
   "source": [
    "# Filter for inner-German trips\n",
    "trips = trips.loc[(trips['W_SO2']!=2) & (trips['W_SO2']!=3)]\n",
    "len(trips)"
   ]
  },
  {
   "cell_type": "code",
   "execution_count": 44,
   "metadata": {},
   "outputs": [
    {
     "data": {
      "text/plain": [
       "409507"
      ]
     },
     "execution_count": 44,
     "metadata": {},
     "output_type": "execute_result"
    }
   ],
   "source": [
    "# Filter unspecified rows\n",
    "trips = trips.loc[(trips['purpose']!=99) &\n",
    "                  (trips['origin']<9999) &\n",
    "                  (trips['destination']<9999) &\n",
    "                  (trips['mode']<24) &\n",
    "                  (trips['distance_routed']!=708)]\n",
    "trips = trips.loc[(trips['origin']>1) &\n",
    "                  (trips['destination']>1)]\n",
    "len(trips)"
   ]
  },
  {
   "cell_type": "code",
   "execution_count": 45,
   "metadata": {},
   "outputs": [
    {
     "data": {
      "text/plain": [
       "300620"
      ]
     },
     "execution_count": 45,
     "metadata": {},
     "output_type": "execute_result"
    }
   ],
   "source": [
    "# Filter for inner-zonal traffic\n",
    "trips = trips.loc[trips['origin']==trips['destination']]\n",
    "len(trips)"
   ]
  },
  {
   "cell_type": "code",
   "execution_count": 46,
   "metadata": {},
   "outputs": [
    {
     "data": {
      "text/plain": [
       "300567"
      ]
     },
     "execution_count": 46,
     "metadata": {},
     "output_type": "execute_result"
    }
   ],
   "source": [
    "# Remove ferries and air\n",
    "trips = trips.loc[trips['mode']!=19]\n",
    "trips = trips.loc[trips['mode']!=23]\n",
    "len(trips)"
   ]
  },
  {
   "cell_type": "code",
   "execution_count": 94,
   "metadata": {},
   "outputs": [
    {
     "data": {
      "text/plain": [
       "299188"
      ]
     },
     "execution_count": 94,
     "metadata": {},
     "output_type": "execute_result"
    }
   ],
   "source": [
    "trips = trips.loc[trips['origin']!=1] # pandas error\n",
    "len(trips)"
   ]
  },
  {
   "cell_type": "code",
   "execution_count": 48,
   "metadata": {},
   "outputs": [],
   "source": [
    "# Align regional specifics with urbanisation degree\n",
    "mid_urbanisation_dict = {1:1, 2:2, 3:3, 4:3}\n",
    "trips['urbanisation'] = trips['SKTYP'].map(mid_urbanisation_dict)"
   ]
  },
  {
   "cell_type": "code",
   "execution_count": 52,
   "metadata": {},
   "outputs": [
    {
     "data": {
      "text/plain": [
       "urbanisation\n",
       "1    1388251383\n",
       "2     376184155\n",
       "3     297971806\n",
       "Name: origin, dtype: int64"
      ]
     },
     "execution_count": 52,
     "metadata": {},
     "output_type": "execute_result"
    }
   ],
   "source": [
    "trips.groupby('urbanisation')['origin'].sum()"
   ]
  },
  {
   "cell_type": "code",
   "execution_count": 61,
   "metadata": {},
   "outputs": [],
   "source": [
    "# Make unknown number of persons equal to one\n",
    "trips.loc[trips['n_persons']>6] = 1"
   ]
  },
  {
   "cell_type": "code",
   "execution_count": 93,
   "metadata": {},
   "outputs": [],
   "source": [
    "# Match trip purpose with VP2030 categories\n",
    "# Note: Holiday trips are included in private (6)\n",
    "purpose_mid_vp_dict = {1: 'Fz1', 2: 'Fz4', 3: 'Fz2', 4: 'Fz3',\n",
    "                       5: 'Fz3', 6: 'Fz6', 7: 'Fz6', 99: 'Fz6'}\n",
    "trips['purpose_vp'] = trips['purpose'].map(purpose_mid_vp_dict)"
   ]
  },
  {
   "cell_type": "code",
   "execution_count": 50,
   "metadata": {},
   "outputs": [],
   "source": [
    "# Match mode with the model modes\n",
    "# Non-motorised modes, buses, and rail are merged\n",
    "mode_mid_vp_dict = {1:'walk', 2:'walk', 3:'walk', 4:'car',\n",
    "                    5:'car', 6:'car', 7:'car', 8:'car', 9:'car',\n",
    "                    10:'car', 11:'car', 12:'bus', 13:'bus',\n",
    "                    14:'bus', 15:'bus', 16:'rail', 17:'car',\n",
    "                    18:'car', 19:'walk', 20:'rail', 21:'bus',\n",
    "                    22:'bus', 23:'air', 24:'walk'}\n",
    "trips['mode_model'] = trips['mode'].map(mode_mid_vp_dict)"
   ]
  },
  {
   "cell_type": "markdown",
   "metadata": {},
   "source": [
    "### Generate averages"
   ]
  },
  {
   "cell_type": "code",
   "execution_count": 95,
   "metadata": {},
   "outputs": [
    {
     "data": {
      "text/html": [
       "<div>\n",
       "<style scoped>\n",
       "    .dataframe tbody tr th:only-of-type {\n",
       "        vertical-align: middle;\n",
       "    }\n",
       "\n",
       "    .dataframe tbody tr th {\n",
       "        vertical-align: top;\n",
       "    }\n",
       "\n",
       "    .dataframe thead th {\n",
       "        text-align: right;\n",
       "    }\n",
       "</style>\n",
       "<table border=\"1\" class=\"dataframe\">\n",
       "  <thead>\n",
       "    <tr style=\"text-align: right;\">\n",
       "      <th></th>\n",
       "      <th>purpose_vp</th>\n",
       "      <th>Fz1</th>\n",
       "      <th>Fz2</th>\n",
       "      <th>Fz3</th>\n",
       "      <th>Fz4</th>\n",
       "      <th>Fz6</th>\n",
       "    </tr>\n",
       "    <tr>\n",
       "      <th>urbanisation</th>\n",
       "      <th>mode_model</th>\n",
       "      <th></th>\n",
       "      <th></th>\n",
       "      <th></th>\n",
       "      <th></th>\n",
       "      <th></th>\n",
       "    </tr>\n",
       "  </thead>\n",
       "  <tbody>\n",
       "    <tr>\n",
       "      <th rowspan=\"4\" valign=\"top\">1</th>\n",
       "      <th>bus</th>\n",
       "      <td>4852</td>\n",
       "      <td>4694</td>\n",
       "      <td>6699</td>\n",
       "      <td>595</td>\n",
       "      <td>7467</td>\n",
       "    </tr>\n",
       "    <tr>\n",
       "      <th>car</th>\n",
       "      <td>22079</td>\n",
       "      <td>4526</td>\n",
       "      <td>69573</td>\n",
       "      <td>5474</td>\n",
       "      <td>61333</td>\n",
       "    </tr>\n",
       "    <tr>\n",
       "      <th>rail</th>\n",
       "      <td>1799</td>\n",
       "      <td>723</td>\n",
       "      <td>827</td>\n",
       "      <td>202</td>\n",
       "      <td>1568</td>\n",
       "    </tr>\n",
       "    <tr>\n",
       "      <th>walk</th>\n",
       "      <td>1280</td>\n",
       "      <td>2256</td>\n",
       "      <td>8217</td>\n",
       "      <td>295</td>\n",
       "      <td>6387</td>\n",
       "    </tr>\n",
       "    <tr>\n",
       "      <th rowspan=\"4\" valign=\"top\">2</th>\n",
       "      <th>bus</th>\n",
       "      <td>148</td>\n",
       "      <td>1213</td>\n",
       "      <td>278</td>\n",
       "      <td>38</td>\n",
       "      <td>323</td>\n",
       "    </tr>\n",
       "    <tr>\n",
       "      <th>car</th>\n",
       "      <td>6386</td>\n",
       "      <td>1304</td>\n",
       "      <td>18784</td>\n",
       "      <td>1310</td>\n",
       "      <td>15855</td>\n",
       "    </tr>\n",
       "    <tr>\n",
       "      <th>rail</th>\n",
       "      <td>78</td>\n",
       "      <td>81</td>\n",
       "      <td>35</td>\n",
       "      <td>18</td>\n",
       "      <td>77</td>\n",
       "    </tr>\n",
       "    <tr>\n",
       "      <th>walk</th>\n",
       "      <td>237</td>\n",
       "      <td>477</td>\n",
       "      <td>1358</td>\n",
       "      <td>44</td>\n",
       "      <td>1189</td>\n",
       "    </tr>\n",
       "    <tr>\n",
       "      <th rowspan=\"4\" valign=\"top\">3</th>\n",
       "      <th>bus</th>\n",
       "      <td>98</td>\n",
       "      <td>991</td>\n",
       "      <td>146</td>\n",
       "      <td>19</td>\n",
       "      <td>202</td>\n",
       "    </tr>\n",
       "    <tr>\n",
       "      <th>car</th>\n",
       "      <td>5456</td>\n",
       "      <td>1049</td>\n",
       "      <td>14990</td>\n",
       "      <td>1121</td>\n",
       "      <td>12565</td>\n",
       "    </tr>\n",
       "    <tr>\n",
       "      <th>rail</th>\n",
       "      <td>34</td>\n",
       "      <td>79</td>\n",
       "      <td>30</td>\n",
       "      <td>11</td>\n",
       "      <td>45</td>\n",
       "    </tr>\n",
       "    <tr>\n",
       "      <th>walk</th>\n",
       "      <td>132</td>\n",
       "      <td>284</td>\n",
       "      <td>1023</td>\n",
       "      <td>36</td>\n",
       "      <td>798</td>\n",
       "    </tr>\n",
       "  </tbody>\n",
       "</table>\n",
       "</div>"
      ],
      "text/plain": [
       "purpose_vp                 Fz1   Fz2    Fz3   Fz4    Fz6\n",
       "urbanisation mode_model                                 \n",
       "1            bus          4852  4694   6699   595   7467\n",
       "             car         22079  4526  69573  5474  61333\n",
       "             rail         1799   723    827   202   1568\n",
       "             walk         1280  2256   8217   295   6387\n",
       "2            bus           148  1213    278    38    323\n",
       "             car          6386  1304  18784  1310  15855\n",
       "             rail           78    81     35    18     77\n",
       "             walk          237   477   1358    44   1189\n",
       "3            bus            98   991    146    19    202\n",
       "             car          5456  1049  14990  1121  12565\n",
       "             rail           34    79     30    11     45\n",
       "             walk          132   284   1023    36    798"
      ]
     },
     "execution_count": 95,
     "metadata": {},
     "output_type": "execute_result"
    }
   ],
   "source": [
    "# Count the number of observations to grasp statistical validity\n",
    "trips.groupby(['urbanisation', 'mode_model', 'purpose_vp'])['origin'].count().unstack('purpose_vp')"
   ]
  },
  {
   "cell_type": "code",
   "execution_count": 96,
   "metadata": {},
   "outputs": [
    {
     "data": {
      "text/html": [
       "<div>\n",
       "<style scoped>\n",
       "    .dataframe tbody tr th:only-of-type {\n",
       "        vertical-align: middle;\n",
       "    }\n",
       "\n",
       "    .dataframe tbody tr th {\n",
       "        vertical-align: top;\n",
       "    }\n",
       "\n",
       "    .dataframe thead th {\n",
       "        text-align: right;\n",
       "    }\n",
       "</style>\n",
       "<table border=\"1\" class=\"dataframe\">\n",
       "  <thead>\n",
       "    <tr style=\"text-align: right;\">\n",
       "      <th></th>\n",
       "      <th>purpose_vp</th>\n",
       "      <th>Fz1</th>\n",
       "      <th>Fz2</th>\n",
       "      <th>Fz3</th>\n",
       "      <th>Fz4</th>\n",
       "      <th>Fz6</th>\n",
       "    </tr>\n",
       "    <tr>\n",
       "      <th>urbanisation</th>\n",
       "      <th>mode_model</th>\n",
       "      <th></th>\n",
       "      <th></th>\n",
       "      <th></th>\n",
       "      <th></th>\n",
       "      <th></th>\n",
       "    </tr>\n",
       "  </thead>\n",
       "  <tbody>\n",
       "    <tr>\n",
       "      <th rowspan=\"4\" valign=\"top\">1</th>\n",
       "      <th>bus</th>\n",
       "      <td>7.930023</td>\n",
       "      <td>6.755196</td>\n",
       "      <td>5.254245</td>\n",
       "      <td>6.820437</td>\n",
       "      <td>6.231102</td>\n",
       "    </tr>\n",
       "    <tr>\n",
       "      <th>car</th>\n",
       "      <td>11.406695</td>\n",
       "      <td>5.808237</td>\n",
       "      <td>5.488705</td>\n",
       "      <td>9.861474</td>\n",
       "      <td>7.304671</td>\n",
       "    </tr>\n",
       "    <tr>\n",
       "      <th>rail</th>\n",
       "      <td>19.144558</td>\n",
       "      <td>14.014177</td>\n",
       "      <td>12.263265</td>\n",
       "      <td>34.880396</td>\n",
       "      <td>21.912022</td>\n",
       "    </tr>\n",
       "    <tr>\n",
       "      <th>walk</th>\n",
       "      <td>3.046969</td>\n",
       "      <td>1.672770</td>\n",
       "      <td>1.383586</td>\n",
       "      <td>2.456610</td>\n",
       "      <td>2.285613</td>\n",
       "    </tr>\n",
       "    <tr>\n",
       "      <th rowspan=\"4\" valign=\"top\">2</th>\n",
       "      <th>bus</th>\n",
       "      <td>13.714865</td>\n",
       "      <td>8.345260</td>\n",
       "      <td>6.777302</td>\n",
       "      <td>12.562105</td>\n",
       "      <td>8.997864</td>\n",
       "    </tr>\n",
       "    <tr>\n",
       "      <th>car</th>\n",
       "      <td>11.204001</td>\n",
       "      <td>6.056863</td>\n",
       "      <td>5.661268</td>\n",
       "      <td>12.270344</td>\n",
       "      <td>7.993926</td>\n",
       "    </tr>\n",
       "    <tr>\n",
       "      <th>rail</th>\n",
       "      <td>38.816667</td>\n",
       "      <td>19.104568</td>\n",
       "      <td>11.391429</td>\n",
       "      <td>22.360000</td>\n",
       "      <td>42.481039</td>\n",
       "    </tr>\n",
       "    <tr>\n",
       "      <th>walk</th>\n",
       "      <td>2.191013</td>\n",
       "      <td>1.428134</td>\n",
       "      <td>1.311915</td>\n",
       "      <td>1.751364</td>\n",
       "      <td>2.124516</td>\n",
       "    </tr>\n",
       "    <tr>\n",
       "      <th rowspan=\"4\" valign=\"top\">3</th>\n",
       "      <th>bus</th>\n",
       "      <td>10.070000</td>\n",
       "      <td>8.742260</td>\n",
       "      <td>4.902397</td>\n",
       "      <td>9.031053</td>\n",
       "      <td>8.583020</td>\n",
       "    </tr>\n",
       "    <tr>\n",
       "      <th>car</th>\n",
       "      <td>11.643732</td>\n",
       "      <td>6.972135</td>\n",
       "      <td>6.132818</td>\n",
       "      <td>11.553194</td>\n",
       "      <td>7.738592</td>\n",
       "    </tr>\n",
       "    <tr>\n",
       "      <th>rail</th>\n",
       "      <td>46.644412</td>\n",
       "      <td>20.314937</td>\n",
       "      <td>49.940333</td>\n",
       "      <td>66.109091</td>\n",
       "      <td>55.600889</td>\n",
       "    </tr>\n",
       "    <tr>\n",
       "      <th>walk</th>\n",
       "      <td>2.712197</td>\n",
       "      <td>1.582500</td>\n",
       "      <td>1.376559</td>\n",
       "      <td>1.723056</td>\n",
       "      <td>2.050075</td>\n",
       "    </tr>\n",
       "  </tbody>\n",
       "</table>\n",
       "</div>"
      ],
      "text/plain": [
       "purpose_vp                     Fz1        Fz2        Fz3        Fz4        Fz6\n",
       "urbanisation mode_model                                                       \n",
       "1            bus          7.930023   6.755196   5.254245   6.820437   6.231102\n",
       "             car         11.406695   5.808237   5.488705   9.861474   7.304671\n",
       "             rail        19.144558  14.014177  12.263265  34.880396  21.912022\n",
       "             walk         3.046969   1.672770   1.383586   2.456610   2.285613\n",
       "2            bus         13.714865   8.345260   6.777302  12.562105   8.997864\n",
       "             car         11.204001   6.056863   5.661268  12.270344   7.993926\n",
       "             rail        38.816667  19.104568  11.391429  22.360000  42.481039\n",
       "             walk         2.191013   1.428134   1.311915   1.751364   2.124516\n",
       "3            bus         10.070000   8.742260   4.902397   9.031053   8.583020\n",
       "             car         11.643732   6.972135   6.132818  11.553194   7.738592\n",
       "             rail        46.644412  20.314937  49.940333  66.109091  55.600889\n",
       "             walk         2.712197   1.582500   1.376559   1.723056   2.050075"
      ]
     },
     "execution_count": 96,
     "metadata": {},
     "output_type": "execute_result"
    }
   ],
   "source": [
    "trips.groupby(['urbanisation', 'mode_model', 'purpose_vp'])['distance'].mean().unstack('purpose_vp')"
   ]
  },
  {
   "cell_type": "code",
   "execution_count": 97,
   "metadata": {},
   "outputs": [],
   "source": [
    "# Generate average lengths and times\n",
    "len_dict = trips.groupby(['urbanisation', 'mode_model', 'purpose_vp'])['distance'].mean().to_dict()\n",
    "time_dict = trips.groupby(['urbanisation', 'mode_model', 'purpose_vp'])['duration'].mean().to_dict()"
   ]
  },
  {
   "cell_type": "code",
   "execution_count": 98,
   "metadata": {},
   "outputs": [
    {
     "data": {
      "text/html": [
       "<div>\n",
       "<style scoped>\n",
       "    .dataframe tbody tr th:only-of-type {\n",
       "        vertical-align: middle;\n",
       "    }\n",
       "\n",
       "    .dataframe tbody tr th {\n",
       "        vertical-align: top;\n",
       "    }\n",
       "\n",
       "    .dataframe thead th {\n",
       "        text-align: right;\n",
       "    }\n",
       "</style>\n",
       "<table border=\"1\" class=\"dataframe\">\n",
       "  <thead>\n",
       "    <tr style=\"text-align: right;\">\n",
       "      <th>purpose_vp</th>\n",
       "      <th>Fz1</th>\n",
       "      <th>Fz2</th>\n",
       "      <th>Fz3</th>\n",
       "      <th>Fz4</th>\n",
       "      <th>Fz6</th>\n",
       "    </tr>\n",
       "    <tr>\n",
       "      <th>urbanisation</th>\n",
       "      <th></th>\n",
       "      <th></th>\n",
       "      <th></th>\n",
       "      <th></th>\n",
       "      <th></th>\n",
       "    </tr>\n",
       "  </thead>\n",
       "  <tbody>\n",
       "    <tr>\n",
       "      <th>1</th>\n",
       "      <td>1.149916</td>\n",
       "      <td>2.381794</td>\n",
       "      <td>1.526555</td>\n",
       "      <td>1.264889</td>\n",
       "      <td>2.073011</td>\n",
       "    </tr>\n",
       "    <tr>\n",
       "      <th>2</th>\n",
       "      <td>1.161134</td>\n",
       "      <td>2.431748</td>\n",
       "      <td>1.505217</td>\n",
       "      <td>1.331298</td>\n",
       "      <td>2.046925</td>\n",
       "    </tr>\n",
       "    <tr>\n",
       "      <th>3</th>\n",
       "      <td>1.163856</td>\n",
       "      <td>2.442326</td>\n",
       "      <td>1.502468</td>\n",
       "      <td>1.223907</td>\n",
       "      <td>2.077278</td>\n",
       "    </tr>\n",
       "  </tbody>\n",
       "</table>\n",
       "</div>"
      ],
      "text/plain": [
       "purpose_vp         Fz1       Fz2       Fz3       Fz4       Fz6\n",
       "urbanisation                                                  \n",
       "1             1.149916  2.381794  1.526555  1.264889  2.073011\n",
       "2             1.161134  2.431748  1.505217  1.331298  2.046925\n",
       "3             1.163856  2.442326  1.502468  1.223907  2.077278"
      ]
     },
     "execution_count": 98,
     "metadata": {},
     "output_type": "execute_result"
    }
   ],
   "source": [
    "# Generate average occupation factors for car trips\n",
    "# Necessary to calculate vehicle kilometers\n",
    "car_occ_dict = trips.loc[trips['mode_model']=='car'].groupby(\n",
    "    ['urbanisation', 'purpose_vp'])['n_persons'].mean().to_dict()\n",
    "trips.loc[trips['mode_model']=='car'].groupby(\n",
    "    ['urbanisation', 'purpose_vp'])['n_persons'].mean().unstack('purpose_vp')"
   ]
  },
  {
   "cell_type": "markdown",
   "metadata": {},
   "source": [
    "### Generate prices\n",
    "\n",
    "See cal11 for values and explanation"
   ]
  },
  {
   "cell_type": "code",
   "execution_count": 65,
   "metadata": {},
   "outputs": [],
   "source": [
    "trips['price'] = 0"
   ]
  },
  {
   "cell_type": "code",
   "execution_count": 66,
   "metadata": {},
   "outputs": [],
   "source": [
    "# Car\n",
    "vc_car = 0.11439257425742574 # in €/km\n",
    "mask = trips['mode_model']=='car'\n",
    "trips.loc[mask, 'price'] = [d*vc_car/n + 0.8*t/60 for d,n,t in zip(\n",
    "    trips.loc[mask,'distance'], trips.loc[mask,'n_persons'], trips.loc[mask,'duration'])]"
   ]
  },
  {
   "cell_type": "code",
   "execution_count": 67,
   "metadata": {},
   "outputs": [],
   "source": [
    "# PT (same local pricing regime for rail and bus)\n",
    "# Savings through abonements:\n",
    "ticket_dict = {1:1, 2:0.9, 3:0.5, 4:0, 5:0, 6:1, 7:1, 99:1, 200:1}\n",
    "region_dict = {1: 2.74, 2: 4, 3: 4}\n",
    "mask = trips['mode_model'].isin(['bus', 'rail'])\n",
    "trips.loc[mask, 'price'] = [region_dict[r] * ticket_dict[t] for r,t in zip(\n",
    "    trips.loc[mask,'urbanisation'], trips.loc[mask,'ticket_type'])]"
   ]
  },
  {
   "cell_type": "code",
   "execution_count": 99,
   "metadata": {},
   "outputs": [
    {
     "data": {
      "text/html": [
       "<div>\n",
       "<style scoped>\n",
       "    .dataframe tbody tr th:only-of-type {\n",
       "        vertical-align: middle;\n",
       "    }\n",
       "\n",
       "    .dataframe tbody tr th {\n",
       "        vertical-align: top;\n",
       "    }\n",
       "\n",
       "    .dataframe thead th {\n",
       "        text-align: right;\n",
       "    }\n",
       "</style>\n",
       "<table border=\"1\" class=\"dataframe\">\n",
       "  <thead>\n",
       "    <tr style=\"text-align: right;\">\n",
       "      <th></th>\n",
       "      <th>purpose_vp</th>\n",
       "      <th>Fz1</th>\n",
       "      <th>Fz2</th>\n",
       "      <th>Fz3</th>\n",
       "      <th>Fz4</th>\n",
       "      <th>Fz6</th>\n",
       "    </tr>\n",
       "    <tr>\n",
       "      <th>urbanisation</th>\n",
       "      <th>mode_model</th>\n",
       "      <th></th>\n",
       "      <th></th>\n",
       "      <th></th>\n",
       "      <th></th>\n",
       "      <th></th>\n",
       "    </tr>\n",
       "  </thead>\n",
       "  <tbody>\n",
       "    <tr>\n",
       "      <th rowspan=\"4\" valign=\"top\">1</th>\n",
       "      <th>bus</th>\n",
       "      <td>0.859102</td>\n",
       "      <td>1.938138</td>\n",
       "      <td>1.143650</td>\n",
       "      <td>1.146195</td>\n",
       "      <td>1.352460</td>\n",
       "    </tr>\n",
       "    <tr>\n",
       "      <th>car</th>\n",
       "      <td>1.496710</td>\n",
       "      <td>0.567988</td>\n",
       "      <td>0.660165</td>\n",
       "      <td>1.295427</td>\n",
       "      <td>0.711752</td>\n",
       "    </tr>\n",
       "    <tr>\n",
       "      <th>rail</th>\n",
       "      <td>0.689798</td>\n",
       "      <td>1.601555</td>\n",
       "      <td>1.193407</td>\n",
       "      <td>1.190950</td>\n",
       "      <td>1.322819</td>\n",
       "    </tr>\n",
       "    <tr>\n",
       "      <th>walk</th>\n",
       "      <td>0.000000</td>\n",
       "      <td>0.000000</td>\n",
       "      <td>0.000000</td>\n",
       "      <td>0.000000</td>\n",
       "      <td>0.000000</td>\n",
       "    </tr>\n",
       "    <tr>\n",
       "      <th rowspan=\"4\" valign=\"top\">2</th>\n",
       "      <th>bus</th>\n",
       "      <td>2.191892</td>\n",
       "      <td>3.498104</td>\n",
       "      <td>2.654676</td>\n",
       "      <td>2.747368</td>\n",
       "      <td>2.710836</td>\n",
       "    </tr>\n",
       "    <tr>\n",
       "      <th>car</th>\n",
       "      <td>1.422980</td>\n",
       "      <td>0.549150</td>\n",
       "      <td>0.662652</td>\n",
       "      <td>1.411926</td>\n",
       "      <td>0.739997</td>\n",
       "    </tr>\n",
       "    <tr>\n",
       "      <th>rail</th>\n",
       "      <td>1.851282</td>\n",
       "      <td>2.656790</td>\n",
       "      <td>2.880000</td>\n",
       "      <td>2.777778</td>\n",
       "      <td>3.090909</td>\n",
       "    </tr>\n",
       "    <tr>\n",
       "      <th>walk</th>\n",
       "      <td>0.000000</td>\n",
       "      <td>0.000000</td>\n",
       "      <td>0.000000</td>\n",
       "      <td>0.000000</td>\n",
       "      <td>0.000000</td>\n",
       "    </tr>\n",
       "    <tr>\n",
       "      <th rowspan=\"4\" valign=\"top\">3</th>\n",
       "      <th>bus</th>\n",
       "      <td>2.583673</td>\n",
       "      <td>3.517255</td>\n",
       "      <td>2.698630</td>\n",
       "      <td>3.347368</td>\n",
       "      <td>2.576238</td>\n",
       "    </tr>\n",
       "    <tr>\n",
       "      <th>car</th>\n",
       "      <td>1.472846</td>\n",
       "      <td>0.631857</td>\n",
       "      <td>0.705711</td>\n",
       "      <td>1.374151</td>\n",
       "      <td>0.707934</td>\n",
       "    </tr>\n",
       "    <tr>\n",
       "      <th>rail</th>\n",
       "      <td>1.976471</td>\n",
       "      <td>2.886076</td>\n",
       "      <td>2.773333</td>\n",
       "      <td>2.181818</td>\n",
       "      <td>2.444444</td>\n",
       "    </tr>\n",
       "    <tr>\n",
       "      <th>walk</th>\n",
       "      <td>0.000000</td>\n",
       "      <td>0.000000</td>\n",
       "      <td>0.000000</td>\n",
       "      <td>0.000000</td>\n",
       "      <td>0.000000</td>\n",
       "    </tr>\n",
       "  </tbody>\n",
       "</table>\n",
       "</div>"
      ],
      "text/plain": [
       "purpose_vp                    Fz1       Fz2       Fz3       Fz4       Fz6\n",
       "urbanisation mode_model                                                  \n",
       "1            bus         0.859102  1.938138  1.143650  1.146195  1.352460\n",
       "             car         1.496710  0.567988  0.660165  1.295427  0.711752\n",
       "             rail        0.689798  1.601555  1.193407  1.190950  1.322819\n",
       "             walk        0.000000  0.000000  0.000000  0.000000  0.000000\n",
       "2            bus         2.191892  3.498104  2.654676  2.747368  2.710836\n",
       "             car         1.422980  0.549150  0.662652  1.411926  0.739997\n",
       "             rail        1.851282  2.656790  2.880000  2.777778  3.090909\n",
       "             walk        0.000000  0.000000  0.000000  0.000000  0.000000\n",
       "3            bus         2.583673  3.517255  2.698630  3.347368  2.576238\n",
       "             car         1.472846  0.631857  0.705711  1.374151  0.707934\n",
       "             rail        1.976471  2.886076  2.773333  2.181818  2.444444\n",
       "             walk        0.000000  0.000000  0.000000  0.000000  0.000000"
      ]
     },
     "execution_count": 99,
     "metadata": {},
     "output_type": "execute_result"
    }
   ],
   "source": [
    "# Generate averages\n",
    "price_dict = trips.groupby(['urbanisation', 'mode_model', 'purpose_vp'])['price'].mean().to_dict()\n",
    "trips.groupby(['urbanisation', 'mode_model', 'purpose_vp'])['price'].mean().unstack('purpose_vp')"
   ]
  },
  {
   "cell_type": "markdown",
   "metadata": {},
   "source": [
    "## Save to excel\n",
    "\n",
    "Merge volumes and averages into a suitable output format. It should contain columns for\n",
    "* volumes\n",
    "* passenger kilometer\n",
    "* vehicle kilometer\n",
    "* av. distance\n",
    "* av. time\n",
    "* av. price"
   ]
  },
  {
   "cell_type": "code",
   "execution_count": 80,
   "metadata": {},
   "outputs": [],
   "source": [
    "# Stack column names to columns\n",
    "df = volumes.stack().stack().rename('volumes').reset_index(level=[1,2])"
   ]
  },
  {
   "cell_type": "code",
   "execution_count": 90,
   "metadata": {},
   "outputs": [],
   "source": [
    "# Add urbanisation column\n",
    "df['urb'] = df.index.map(sm.zones['urbanisation'].to_dict()).astype(int)"
   ]
  },
  {
   "cell_type": "code",
   "execution_count": 100,
   "metadata": {},
   "outputs": [],
   "source": [
    "# Av. distance in km\n",
    "df['length'] = [len_dict[a] for a in tuple(zip(df['urb'], df['mode'], df['segment']))]"
   ]
  },
  {
   "cell_type": "code",
   "execution_count": 101,
   "metadata": {},
   "outputs": [],
   "source": [
    "# Av. time in h\n",
    "df['time'] = [time_dict[a]/60 for a in tuple(zip(df['urb'], df['mode'], df['segment']))]"
   ]
  },
  {
   "cell_type": "code",
   "execution_count": 102,
   "metadata": {},
   "outputs": [],
   "source": [
    "# Av. price in EUR\n",
    "df['price'] = [price_dict[a] for a in tuple(zip(df['urb'], df['mode'], df['segment']))]"
   ]
  },
  {
   "cell_type": "code",
   "execution_count": 103,
   "metadata": {},
   "outputs": [],
   "source": [
    "# Passenger kilometer\n",
    "df['pkm'] = (df['volumes'] * df['length']).astype(int)"
   ]
  },
  {
   "cell_type": "code",
   "execution_count": 117,
   "metadata": {},
   "outputs": [
    {
     "data": {
      "text/plain": [
       "array([<AxesSubplot:ylabel='Fz1'>, <AxesSubplot:ylabel='Fz2'>,\n",
       "       <AxesSubplot:ylabel='Fz3'>, <AxesSubplot:ylabel='Fz4'>,\n",
       "       <AxesSubplot:ylabel='Fz6'>], dtype=object)"
      ]
     },
     "execution_count": 117,
     "metadata": {},
     "output_type": "execute_result"
    },
    {
     "data": {
      "image/png": "[encoded data removed]",
      "text/plain": [
       "<Figure size 1152x288 with 5 Axes>"
      ]
     },
     "metadata": {},
     "output_type": "display_data"
    }
   ],
   "source": [
    "# Modal split by pkm\n",
    "df.set_index(['mode', 'segment'], append=True)['pkm'].unstack().groupby(level=1).sum(axis=1).plot.pie(\n",
    "    subplots=True, figsize=(16, 4), legend=False, title='Modal split by trip purpose (passenger kilometer)')"
   ]
  },
  {
   "cell_type": "code",
   "execution_count": 109,
   "metadata": {},
   "outputs": [],
   "source": [
    "# Vehicle kilometer for cars\n",
    "df['vkm'] = [pkm/car_occ_dict[(u,p)] if m=='car' else 0 for u,m,p,pkm in zip(\n",
    "    df['urb'], df['mode'], df['segment'], df['pkm'])]"
   ]
  },
  {
   "cell_type": "code",
   "execution_count": null,
   "metadata": {},
   "outputs": [],
   "source": [
    "# Cycling and walking is not counted to vkm\n",
    "# PT km depend on the schedules\n",
    "df['vkm'] = df['vkm'].astype(int)"
   ]
  },
  {
   "cell_type": "code",
   "execution_count": 111,
   "metadata": {},
   "outputs": [],
   "source": [
    "# Create an aggregated version (NUTS2-level and no segments)\n",
    "df['NUTS1'] = df.index.str[:3]\n",
    "df_agg = df.groupby(['NUTS1', 'mode']).agg(\n",
    "    {'volumes': 'sum', 'length': 'mean', 'time': 'mean',\n",
    "     'price': 'mean', 'pkm': 'sum', 'vkm': 'sum'})"
   ]
  },
  {
   "cell_type": "code",
   "execution_count": 113,
   "metadata": {},
   "outputs": [],
   "source": [
    "# Save an excel\n",
    "with pd.ExcelWriter(output_path + 'inner_zone.xlsx') as writer:\n",
    "    df.to_excel(writer, sheet_name='inner_zone')\n",
    "    df_agg.to_excel(writer, sheet_name='agg')"
   ]
  }
 ],
 "metadata": {
  "kernelspec": {
   "display_name": "Python 3",
   "language": "python",
   "name": "python3"
  },
  "language_info": {
   "codemirror_mode": {
    "name": "ipython",
    "version": 3
   },
   "file_extension": ".py",
   "mimetype": "text/x-python",
   "name": "python",
   "nbconvert_exporter": "python",
   "pygments_lexer": "ipython3",
   "version": "3.8.1"
  }
 },
 "nbformat": 4,
 "nbformat_minor": 2
}
