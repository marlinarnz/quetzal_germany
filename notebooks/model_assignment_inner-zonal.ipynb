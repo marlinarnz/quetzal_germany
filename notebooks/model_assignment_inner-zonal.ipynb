{
 "cells": [
  {
   "cell_type": "code",
   "execution_count": 1,
   "metadata": {},
   "outputs": [
    {
     "name": "stderr",
     "output_type": "stream",
     "text": [
      "In C:\\Users\\marlin.arnz\\AppData\\Local\\Continuum\\miniconda3\\envs\\quetzal\\lib\\site-packages\\matplotlib\\mpl-data\\stylelib\\_classic_test.mplstyle: \n",
      "The text.latex.preview rcparam was deprecated in Matplotlib 3.3 and will be removed two minor releases later.\n",
      "In C:\\Users\\marlin.arnz\\AppData\\Local\\Continuum\\miniconda3\\envs\\quetzal\\lib\\site-packages\\matplotlib\\mpl-data\\stylelib\\_classic_test.mplstyle: \n",
      "The mathtext.fallback_to_cm rcparam was deprecated in Matplotlib 3.3 and will be removed two minor releases later.\n",
      "In C:\\Users\\marlin.arnz\\AppData\\Local\\Continuum\\miniconda3\\envs\\quetzal\\lib\\site-packages\\matplotlib\\mpl-data\\stylelib\\_classic_test.mplstyle: Support for setting the 'mathtext.fallback_to_cm' rcParam is deprecated since 3.3 and will be removed two minor releases later; use 'mathtext.fallback : 'cm' instead.\n",
      "In C:\\Users\\marlin.arnz\\AppData\\Local\\Continuum\\miniconda3\\envs\\quetzal\\lib\\site-packages\\matplotlib\\mpl-data\\stylelib\\_classic_test.mplstyle: \n",
      "The validate_bool_maybe_none function was deprecated in Matplotlib 3.3 and will be removed two minor releases later.\n",
      "In C:\\Users\\marlin.arnz\\AppData\\Local\\Continuum\\miniconda3\\envs\\quetzal\\lib\\site-packages\\matplotlib\\mpl-data\\stylelib\\_classic_test.mplstyle: \n",
      "The savefig.jpeg_quality rcparam was deprecated in Matplotlib 3.3 and will be removed two minor releases later.\n",
      "In C:\\Users\\marlin.arnz\\AppData\\Local\\Continuum\\miniconda3\\envs\\quetzal\\lib\\site-packages\\matplotlib\\mpl-data\\stylelib\\_classic_test.mplstyle: \n",
      "The keymap.all_axes rcparam was deprecated in Matplotlib 3.3 and will be removed two minor releases later.\n",
      "In C:\\Users\\marlin.arnz\\AppData\\Local\\Continuum\\miniconda3\\envs\\quetzal\\lib\\site-packages\\matplotlib\\mpl-data\\stylelib\\_classic_test.mplstyle: \n",
      "The animation.avconv_path rcparam was deprecated in Matplotlib 3.3 and will be removed two minor releases later.\n",
      "In C:\\Users\\marlin.arnz\\AppData\\Local\\Continuum\\miniconda3\\envs\\quetzal\\lib\\site-packages\\matplotlib\\mpl-data\\stylelib\\_classic_test.mplstyle: \n",
      "The animation.avconv_args rcparam was deprecated in Matplotlib 3.3 and will be removed two minor releases later.\n"
     ]
    }
   ],
   "source": [
    "import sys # for automation and parallelisation\n",
    "manual, scenario = (True, 'base') if 'ipykernel' in sys.argv[0] else (False, sys.argv[1])\n",
    "if manual:\n",
    "    %matplotlib inline"
   ]
  },
  {
   "cell_type": "code",
   "execution_count": 2,
   "metadata": {},
   "outputs": [],
   "source": [
    "import numpy as np\n",
    "import pandas as pd\n",
    "from quetzal.model import stepmodel\n",
    "from quetzal.io import excel"
   ]
  },
  {
   "cell_type": "markdown",
   "metadata": {},
   "source": [
    "# Inner-zonal assignment\n",
    "## Saves transport demand within zones\n",
    "## Needs inner-zonal volumes and trip lengths by mode"
   ]
  },
  {
   "cell_type": "code",
   "execution_count": 3,
   "metadata": {},
   "outputs": [],
   "source": [
    "input_path = '../input/transport_demand/'\n",
    "output_path = '../output/'\n",
    "model_path = '../model/'"
   ]
  },
  {
   "cell_type": "code",
   "execution_count": 4,
   "metadata": {},
   "outputs": [],
   "source": [
    "# Load scenario parameters\n",
    "params = excel.read_var(file='../input/parameters.xls', scenario=scenario)"
   ]
  },
  {
   "cell_type": "markdown",
   "metadata": {},
   "source": [
    "## Load transport demand data from VP2030\n",
    "\n",
    "The German federal government's transport study \"[Bundesverkehrswegeplan 2030](https://www.bmvi.de/SharedDocs/DE/Artikel/G/BVWP/bundesverkehrswegeplan-2030-inhalte-herunterladen.html)\" uses origin destination matrices on NUTS3-level resolution and makes them accessible under copyright restrictions for the base year and the year of prognosis. These matrices cannot be published in their original form."
   ]
  },
  {
   "cell_type": "code",
   "execution_count": 5,
   "metadata": {
    "scrolled": true
   },
   "outputs": [],
   "source": [
    "vp2010 = pd.read_excel(input_path + 'PVMatrix_BVWP15_A2010.xlsx')\n",
    "vp2030 = pd.read_excel(input_path + 'PVMatrix_BVWP15_P2030.xlsx')"
   ]
  },
  {
   "cell_type": "code",
   "execution_count": 6,
   "metadata": {},
   "outputs": [
    {
     "name": "stdout",
     "output_type": "stream",
     "text": [
      "(313590, 38)\n"
     ]
    },
    {
     "data": {
      "text/html": [
       "<div>\n",
       "<style scoped>\n",
       "    .dataframe tbody tr th:only-of-type {\n",
       "        vertical-align: middle;\n",
       "    }\n",
       "\n",
       "    .dataframe tbody tr th {\n",
       "        vertical-align: top;\n",
       "    }\n",
       "\n",
       "    .dataframe thead th {\n",
       "        text-align: right;\n",
       "    }\n",
       "</style>\n",
       "<table border=\"1\" class=\"dataframe\">\n",
       "  <thead>\n",
       "    <tr style=\"text-align: right;\">\n",
       "      <th></th>\n",
       "      <th># Quelle</th>\n",
       "      <th>Ziel</th>\n",
       "      <th>Bahn_Fz1</th>\n",
       "      <th>Bahn_Fz2</th>\n",
       "      <th>Bahn_Fz3</th>\n",
       "      <th>Bahn_Fz4</th>\n",
       "      <th>Bahn_Fz5</th>\n",
       "      <th>Bahn_Fz6</th>\n",
       "      <th>MIV_Fz1</th>\n",
       "      <th>MIV_Fz2</th>\n",
       "      <th>...</th>\n",
       "      <th>Rad_Fz3</th>\n",
       "      <th>Rad_Fz4</th>\n",
       "      <th>Rad_Fz5</th>\n",
       "      <th>Rad_Fz6</th>\n",
       "      <th>Fuß_Fz1</th>\n",
       "      <th>Fuß_Fz2</th>\n",
       "      <th>Fuß_Fz3</th>\n",
       "      <th>Fuß_Fz4</th>\n",
       "      <th>Fuß_Fz5</th>\n",
       "      <th>Fuß_Fz6</th>\n",
       "    </tr>\n",
       "  </thead>\n",
       "  <tbody>\n",
       "  </tbody>\n",
       "</table>\n",
       "<p>0 rows × 38 columns</p>\n",
       "</div>"
      ],
      "text/plain": [
       "Empty DataFrame\n",
       "Columns: [# Quelle, Ziel, Bahn_Fz1, Bahn_Fz2, Bahn_Fz3, Bahn_Fz4, Bahn_Fz5, Bahn_Fz6, MIV_Fz1, MIV_Fz2, MIV_Fz3, MIV_Fz4, MIV_Fz5, MIV_Fz6, Luft_Fz1, Luft_Fz2, Luft_Fz3, Luft_Fz4, Luft_Fz5, Luft_Fz6, OESPV_Fz1, OESPV_Fz2, OESPV_Fz3, OESPV_Fz4, OESPV_Fz5, OESPV_Fz6, Rad_Fz1, Rad_Fz2, Rad_Fz3, Rad_Fz4, Rad_Fz5, Rad_Fz6, Fuß_Fz1, Fuß_Fz2, Fuß_Fz3, Fuß_Fz4, Fuß_Fz5, Fuß_Fz6]\n",
       "Index: []\n",
       "\n",
       "[0 rows x 38 columns]"
      ]
     },
     "execution_count": 6,
     "metadata": {},
     "output_type": "execute_result"
    }
   ],
   "source": [
    "print(vp2010.shape)\n",
    "vp2010[vp2010.isna().any(axis=1)]"
   ]
  },
  {
   "cell_type": "code",
   "execution_count": 7,
   "metadata": {},
   "outputs": [],
   "source": [
    "for df in [vp2010, vp2030]:\n",
    "    df.rename(columns={'# Quelle': 'origin', 'Ziel': 'destination'}, inplace=True)"
   ]
  },
  {
   "cell_type": "markdown",
   "metadata": {},
   "source": [
    "### Cast to 2017 data"
   ]
  },
  {
   "cell_type": "code",
   "execution_count": 8,
   "metadata": {},
   "outputs": [],
   "source": [
    "def get_vp2017(vp2010_i, vp2030_i):\n",
    "    return vp2010_i + (vp2030_i - vp2010_i) * (7/20)"
   ]
  },
  {
   "cell_type": "code",
   "execution_count": 9,
   "metadata": {},
   "outputs": [],
   "source": [
    "# Calculate a OD table for the year 2017\n",
    "vp2017 = get_vp2017(vp2010.set_index(['origin', 'destination']),\n",
    "                    vp2030.set_index(['origin', 'destination']))"
   ]
  },
  {
   "cell_type": "code",
   "execution_count": 10,
   "metadata": {},
   "outputs": [
    {
     "name": "stdout",
     "output_type": "stream",
     "text": [
      "(313590, 38)\n"
     ]
    },
    {
     "data": {
      "text/html": [
       "<div>\n",
       "<style scoped>\n",
       "    .dataframe tbody tr th:only-of-type {\n",
       "        vertical-align: middle;\n",
       "    }\n",
       "\n",
       "    .dataframe tbody tr th {\n",
       "        vertical-align: top;\n",
       "    }\n",
       "\n",
       "    .dataframe thead th {\n",
       "        text-align: right;\n",
       "    }\n",
       "</style>\n",
       "<table border=\"1\" class=\"dataframe\">\n",
       "  <thead>\n",
       "    <tr style=\"text-align: right;\">\n",
       "      <th></th>\n",
       "      <th></th>\n",
       "      <th>Bahn_Fz1</th>\n",
       "      <th>Bahn_Fz2</th>\n",
       "      <th>Bahn_Fz3</th>\n",
       "      <th>Bahn_Fz4</th>\n",
       "      <th>Bahn_Fz5</th>\n",
       "      <th>Bahn_Fz6</th>\n",
       "      <th>MIV_Fz1</th>\n",
       "      <th>MIV_Fz2</th>\n",
       "      <th>MIV_Fz3</th>\n",
       "      <th>MIV_Fz4</th>\n",
       "      <th>...</th>\n",
       "      <th>Rad_Fz3</th>\n",
       "      <th>Rad_Fz4</th>\n",
       "      <th>Rad_Fz5</th>\n",
       "      <th>Rad_Fz6</th>\n",
       "      <th>Fuß_Fz1</th>\n",
       "      <th>Fuß_Fz2</th>\n",
       "      <th>Fuß_Fz3</th>\n",
       "      <th>Fuß_Fz4</th>\n",
       "      <th>Fuß_Fz5</th>\n",
       "      <th>Fuß_Fz6</th>\n",
       "    </tr>\n",
       "    <tr>\n",
       "      <th>origin</th>\n",
       "      <th>destination</th>\n",
       "      <th></th>\n",
       "      <th></th>\n",
       "      <th></th>\n",
       "      <th></th>\n",
       "      <th></th>\n",
       "      <th></th>\n",
       "      <th></th>\n",
       "      <th></th>\n",
       "      <th></th>\n",
       "      <th></th>\n",
       "      <th></th>\n",
       "      <th></th>\n",
       "      <th></th>\n",
       "      <th></th>\n",
       "      <th></th>\n",
       "      <th></th>\n",
       "      <th></th>\n",
       "      <th></th>\n",
       "      <th></th>\n",
       "      <th></th>\n",
       "      <th></th>\n",
       "    </tr>\n",
       "  </thead>\n",
       "  <tbody>\n",
       "  </tbody>\n",
       "</table>\n",
       "<p>0 rows × 36 columns</p>\n",
       "</div>"
      ],
      "text/plain": [
       "Empty DataFrame\n",
       "Columns: [Bahn_Fz1, Bahn_Fz2, Bahn_Fz3, Bahn_Fz4, Bahn_Fz5, Bahn_Fz6, MIV_Fz1, MIV_Fz2, MIV_Fz3, MIV_Fz4, MIV_Fz5, MIV_Fz6, Luft_Fz1, Luft_Fz2, Luft_Fz3, Luft_Fz4, Luft_Fz5, Luft_Fz6, OESPV_Fz1, OESPV_Fz2, OESPV_Fz3, OESPV_Fz4, OESPV_Fz5, OESPV_Fz6, Rad_Fz1, Rad_Fz2, Rad_Fz3, Rad_Fz4, Rad_Fz5, Rad_Fz6, Fuß_Fz1, Fuß_Fz2, Fuß_Fz3, Fuß_Fz4, Fuß_Fz5, Fuß_Fz6]\n",
       "Index: []\n",
       "\n",
       "[0 rows x 36 columns]"
      ]
     },
     "execution_count": 10,
     "metadata": {},
     "output_type": "execute_result"
    }
   ],
   "source": [
    "vp2017.dropna(how='all', inplace=True)\n",
    "print(vp2010.shape)\n",
    "vp2017[vp2017.isna().any(axis=1)]"
   ]
  },
  {
   "cell_type": "code",
   "execution_count": 11,
   "metadata": {},
   "outputs": [],
   "source": [
    "vp2017 = vp2017[list(vp2017.columns)].astype(int)\n",
    "#vp2017.head()"
   ]
  },
  {
   "cell_type": "code",
   "execution_count": 12,
   "metadata": {},
   "outputs": [
    {
     "data": {
      "text/plain": [
       "412"
      ]
     },
     "execution_count": 12,
     "metadata": {},
     "output_type": "execute_result"
    }
   ],
   "source": [
    "# Keep only inner-cell transport demand\n",
    "vp2017.reset_index(inplace=True)\n",
    "vp2017 = vp2017.loc[vp2017['origin']==vp2017['destination']]\n",
    "vp2017.drop('destination', axis=1, inplace=True)\n",
    "len(vp2017)"
   ]
  },
  {
   "cell_type": "markdown",
   "metadata": {},
   "source": [
    "### Update zone codes and map to NUTS"
   ]
  },
  {
   "cell_type": "code",
   "execution_count": 13,
   "metadata": {},
   "outputs": [],
   "source": [
    "# NUTS3-level zones changed after the VP2030\n",
    "# Thus the VP table needs to be updated manually\n",
    "update_dict = {3156: 3159, 3152: 3159, # Göttingen\n",
    "               13001: 13075, 13002: 13071, 13005: 13073, 13006: 13074,\n",
    "               13051: 13072, 13052: 13071, 13053: 13072, 13054: 13076, 13055: 13071, 13056: 13071,\n",
    "               13057: 13073, 13058: 13074, 13059: 13075, 13060: 13076, 13061: 13073, 13062: 13075}"
   ]
  },
  {
   "cell_type": "code",
   "execution_count": 14,
   "metadata": {},
   "outputs": [
    {
     "data": {
      "text/plain": [
       "85242846874"
      ]
     },
     "execution_count": 14,
     "metadata": {},
     "output_type": "execute_result"
    }
   ],
   "source": [
    "# What is the sum of all trips? For Validation\n",
    "cols = [c for c in vp2017.columns if c not in ['origin']]\n",
    "orig_sum = vp2017[cols].sum().sum()\n",
    "orig_sum"
   ]
  },
  {
   "cell_type": "code",
   "execution_count": 15,
   "metadata": {},
   "outputs": [],
   "source": [
    "# Update LAU codes\n",
    "vp2017['origin'] = vp2017['origin'].replace(update_dict)"
   ]
  },
  {
   "cell_type": "code",
   "execution_count": 16,
   "metadata": {},
   "outputs": [],
   "source": [
    "# Replace LAU with NUTS\n",
    "sm = stepmodel.read_json(model_path + 'de_zones')\n",
    "lau_dict = sm.zones.set_index('lau_id')['NUTS_ID'].to_dict()\n",
    "vp2017['origin'] = vp2017['origin'].astype(str).map(lau_dict)"
   ]
  },
  {
   "cell_type": "code",
   "execution_count": 17,
   "metadata": {},
   "outputs": [
    {
     "data": {
      "text/plain": [
       "(412, 37)"
      ]
     },
     "execution_count": 17,
     "metadata": {},
     "output_type": "execute_result"
    }
   ],
   "source": [
    "# Restrict to cells in the model\n",
    "vp2017 = vp2017[~vp2017.isna().any(axis=1)]\n",
    "vp2017.shape"
   ]
  },
  {
   "cell_type": "code",
   "execution_count": 18,
   "metadata": {},
   "outputs": [
    {
     "data": {
      "text/plain": [
       "1.0"
      ]
     },
     "execution_count": 18,
     "metadata": {},
     "output_type": "execute_result"
    }
   ],
   "source": [
    "# What is the sum of all trips after ditching outer-German trips?\n",
    "vp2017[cols].sum().sum() / orig_sum"
   ]
  },
  {
   "cell_type": "code",
   "execution_count": 19,
   "metadata": {},
   "outputs": [
    {
     "data": {
      "text/plain": [
       "1.0"
      ]
     },
     "execution_count": 19,
     "metadata": {},
     "output_type": "execute_result"
    }
   ],
   "source": [
    "# Aggregate origins\n",
    "vp2017 = vp2017.groupby('origin').sum().reset_index()\n",
    "vp2017[cols].sum().sum() / orig_sum"
   ]
  },
  {
   "cell_type": "code",
   "execution_count": 20,
   "metadata": {},
   "outputs": [
    {
     "data": {
      "text/plain": [
       "(401, 37)"
      ]
     },
     "execution_count": 20,
     "metadata": {},
     "output_type": "execute_result"
    }
   ],
   "source": [
    "vp2017.shape"
   ]
  },
  {
   "cell_type": "markdown",
   "metadata": {},
   "source": [
    "### Re-arrange the modes and purposes"
   ]
  },
  {
   "cell_type": "code",
   "execution_count": 21,
   "metadata": {},
   "outputs": [],
   "source": [
    "# Merge bicycle and foot\n",
    "for p in range(1,7):\n",
    "    vp2017['walk_Fz' + str(p)] = vp2017['Rad_Fz' + str(p)] + vp2017['Fuß_Fz' + str(p)]\n",
    "vp2017 = vp2017[[col for col in list(vp2017.columns) if not col[:3] in ['Rad', 'Fuß']]]"
   ]
  },
  {
   "cell_type": "code",
   "execution_count": 22,
   "metadata": {},
   "outputs": [],
   "source": [
    "# Make columns two levels\n",
    "vp2017.set_index('origin', inplace=True)\n",
    "mode_dict = {'OESPV': 'bus', 'Bahn': 'rail', 'MIV': 'car', 'Luft': 'air', 'walk': 'walk'}\n",
    "vp2017.columns = pd.MultiIndex.from_tuples(\n",
    "    [(col.split('_')[1], mode_dict[col.split('_')[0]]) for col in vp2017.columns],\n",
    "    names=['segment', 'mode'])"
   ]
  },
  {
   "cell_type": "code",
   "execution_count": 23,
   "metadata": {},
   "outputs": [],
   "source": [
    "# Merge purpose 5 and 6 due to calibration data limitations\n",
    "vp2017['Fz6'] = vp2017['Fz5'] + vp2017['Fz6']\n",
    "vp2017.drop('Fz5', axis=1, inplace=True)"
   ]
  },
  {
   "cell_type": "code",
   "execution_count": 24,
   "metadata": {},
   "outputs": [
    {
     "data": {
      "text/plain": [
       "array([<AxesSubplot:ylabel='Fz1'>, <AxesSubplot:ylabel='Fz2'>,\n",
       "       <AxesSubplot:ylabel='Fz3'>, <AxesSubplot:ylabel='Fz4'>,\n",
       "       <AxesSubplot:ylabel='Fz6'>], dtype=object)"
      ]
     },
     "execution_count": 24,
     "metadata": {},
     "output_type": "execute_result"
    },
    {
     "data": {
      "image/png": "[encoded data removed]",
      "text/plain": [
       "<Figure size 1152x288 with 5 Axes>"
      ]
     },
     "metadata": {},
     "output_type": "display_data"
    }
   ],
   "source": [
    "# Modal split by trips\n",
    "vp2017.T.sum(axis=1).unstack('segment').plot.pie(\n",
    "    subplots=True, figsize=(16, 4), legend=False)"
   ]
  },
  {
   "cell_type": "code",
   "execution_count": 25,
   "metadata": {},
   "outputs": [],
   "source": [
    "# Ditch air columns\n",
    "vp2017.drop('air', axis=1, level=1, inplace=True)"
   ]
  },
  {
   "cell_type": "code",
   "execution_count": 26,
   "metadata": {},
   "outputs": [],
   "source": [
    "# Clear the RAM\n",
    "vp2010 = None\n",
    "vp2030 = None"
   ]
  },
  {
   "cell_type": "code",
   "execution_count": 27,
   "metadata": {},
   "outputs": [],
   "source": [
    "volumes = vp2017"
   ]
  },
  {
   "cell_type": "markdown",
   "metadata": {},
   "source": [
    "## Load MiD2017 data for trip lengths\n",
    "\n",
    "Generate average trip lengths using survey data."
   ]
  },
  {
   "cell_type": "code",
   "execution_count": 28,
   "metadata": {},
   "outputs": [],
   "source": [
    "trips = pd.read_csv(input_path + 'MiD2017_Regional_Wege.csv', sep=';')\n",
    "trips = trips[['KKZ_SO', 'KKZ_ZO', 'SKTYP', 'wegkm_imp', 'km_routing_gr',\n",
    "               'wegmin_imp1', 'hwzweck1', 'hvm_diff2', 'vm_kombi', 'anzpers',\n",
    "               'auto', 'P_FKARTE', 'multimodal', 'bahn28', 'bus28', 'bahn28_zo',\n",
    "               'bus28_zo', 'W_DETAIL', 'W_SO2']]\n",
    "trips.columns = ['origin', 'destination', 'SKTYP', 'distance', 'distance_routed',\n",
    "                 'duration', 'purpose', 'mode', 'mode_combo', 'n_persons',\n",
    "                 'car_avail', 'ticket_type', 'mode_affinity', 'dist_train_origin',\n",
    "                 'dist_bus_origin', 'dist_train_destination', 'dist_bus_destination',\n",
    "                 'W_DETAIL', 'W_SO2']"
   ]
  },
  {
   "cell_type": "code",
   "execution_count": 29,
   "metadata": {},
   "outputs": [],
   "source": [
    "trips['distance'] = pd.to_numeric(trips['distance'].str.replace(',', '.'))"
   ]
  },
  {
   "cell_type": "code",
   "execution_count": 30,
   "metadata": {},
   "outputs": [
    {
     "data": {
      "text/plain": [
       "959778"
      ]
     },
     "execution_count": 30,
     "metadata": {},
     "output_type": "execute_result"
    }
   ],
   "source": [
    "# Filter for inner-German trips\n",
    "trips = trips.loc[(trips['W_SO2']!=2) & (trips['W_SO2']!=3)]\n",
    "len(trips)"
   ]
  },
  {
   "cell_type": "code",
   "execution_count": 31,
   "metadata": {},
   "outputs": [
    {
     "data": {
      "text/plain": [
       "409507"
      ]
     },
     "execution_count": 31,
     "metadata": {},
     "output_type": "execute_result"
    }
   ],
   "source": [
    "# Filter unspecified rows\n",
    "trips = trips.loc[(trips['purpose']!=99) &\n",
    "                  (trips['origin']<9999) &\n",
    "                  (trips['destination']<9999) &\n",
    "                  (trips['mode']<24) &\n",
    "                  (trips['distance_routed']!=708)]\n",
    "trips = trips.loc[(trips['origin']>1) &\n",
    "                  (trips['destination']>1)]\n",
    "len(trips)"
   ]
  },
  {
   "cell_type": "code",
   "execution_count": 32,
   "metadata": {},
   "outputs": [
    {
     "data": {
      "text/plain": [
       "300620"
      ]
     },
     "execution_count": 32,
     "metadata": {},
     "output_type": "execute_result"
    }
   ],
   "source": [
    "# Filter for inner-zonal traffic\n",
    "trips = trips.loc[trips['origin']==trips['destination']]\n",
    "len(trips)"
   ]
  },
  {
   "cell_type": "code",
   "execution_count": 33,
   "metadata": {},
   "outputs": [
    {
     "data": {
      "text/plain": [
       "300567"
      ]
     },
     "execution_count": 33,
     "metadata": {},
     "output_type": "execute_result"
    }
   ],
   "source": [
    "# Remove ferries and air\n",
    "trips = trips.loc[trips['mode']!=19]\n",
    "trips = trips.loc[trips['mode']!=23]\n",
    "len(trips)"
   ]
  },
  {
   "cell_type": "code",
   "execution_count": 34,
   "metadata": {},
   "outputs": [
    {
     "data": {
      "text/plain": [
       "300567"
      ]
     },
     "execution_count": 34,
     "metadata": {},
     "output_type": "execute_result"
    }
   ],
   "source": [
    "trips = trips.loc[trips['origin']!=1] # pandas error\n",
    "len(trips)"
   ]
  },
  {
   "cell_type": "code",
   "execution_count": 35,
   "metadata": {},
   "outputs": [],
   "source": [
    "# Align regional specifics with urbanisation degree\n",
    "mid_urbanisation_dict = {1:1, 2:2, 3:3, 4:3}\n",
    "trips['urbanisation'] = trips['SKTYP'].map(mid_urbanisation_dict)"
   ]
  },
  {
   "cell_type": "code",
   "execution_count": 36,
   "metadata": {},
   "outputs": [
    {
     "data": {
      "text/plain": [
       "urbanisation\n",
       "1    552695022\n",
       "2    835556361\n",
       "3    674155961\n",
       "Name: origin, dtype: int64"
      ]
     },
     "execution_count": 36,
     "metadata": {},
     "output_type": "execute_result"
    }
   ],
   "source": [
    "trips.groupby('urbanisation')['origin'].sum()"
   ]
  },
  {
   "cell_type": "code",
   "execution_count": 37,
   "metadata": {},
   "outputs": [],
   "source": [
    "# Make unknown number of persons equal to one\n",
    "trips.loc[trips['n_persons']>6] = 1"
   ]
  },
  {
   "cell_type": "code",
   "execution_count": 38,
   "metadata": {},
   "outputs": [],
   "source": [
    "# Match trip purpose with VP2030 categories\n",
    "# Note: Holiday trips are included in private (6)\n",
    "purpose_mid_vp_dict = {1: 'Fz1', 2: 'Fz4', 3: 'Fz2', 4: 'Fz3',\n",
    "                       5: 'Fz3', 6: 'Fz6', 7: 'Fz6', 99: 'Fz6'}\n",
    "trips['purpose_vp'] = trips['purpose'].map(purpose_mid_vp_dict)"
   ]
  },
  {
   "cell_type": "code",
   "execution_count": 39,
   "metadata": {},
   "outputs": [],
   "source": [
    "# Match mode with the model modes\n",
    "# Non-motorised modes, buses, and rail are merged\n",
    "mode_mid_vp_dict = {1:'walk', 2:'walk', 3:'walk', 4:'car',\n",
    "                    5:'car', 6:'car', 7:'car', 8:'car', 9:'car',\n",
    "                    10:'car', 11:'car', 12:'bus', 13:'bus',\n",
    "                    14:'bus', 15:'bus', 16:'rail', 17:'car',\n",
    "                    18:'car', 19:'walk', 20:'rail', 21:'bus',\n",
    "                    22:'bus', 23:'air', 24:'walk'}\n",
    "trips['mode_model'] = trips['mode'].map(mode_mid_vp_dict)"
   ]
  },
  {
   "cell_type": "code",
   "execution_count": 40,
   "metadata": {},
   "outputs": [
    {
     "data": {
      "image/png": "[encoded data removed]",
      "text/plain": [
       "<Figure size 1152x288 with 5 Axes>"
      ]
     },
     "metadata": {},
     "output_type": "display_data"
    }
   ],
   "source": [
    "# Modal split by number of trips\n",
    "axs = trips.groupby(['mode_model','purpose_vp']).size().unstack(fill_value=0).plot.pie(\n",
    "    subplots=True, figsize=(16, 4), legend=False)"
   ]
  },
  {
   "cell_type": "code",
   "execution_count": 41,
   "metadata": {},
   "outputs": [
    {
     "data": {
      "text/plain": [
       "array([<AxesSubplot:ylabel='Fz1'>, <AxesSubplot:ylabel='Fz2'>,\n",
       "       <AxesSubplot:ylabel='Fz3'>, <AxesSubplot:ylabel='Fz4'>,\n",
       "       <AxesSubplot:ylabel='Fz6'>], dtype=object)"
      ]
     },
     "execution_count": 41,
     "metadata": {},
     "output_type": "execute_result"
    },
    {
     "data": {
      "image/png": "[encoded data removed]",
      "text/plain": [
       "<Figure size 1152x288 with 5 Axes>"
      ]
     },
     "metadata": {},
     "output_type": "display_data"
    }
   ],
   "source": [
    "# Compared to VP2030\n",
    "volumes.T.sum(axis=1).unstack('segment').plot.pie(\n",
    "    subplots=True, figsize=(16, 4), legend=False)"
   ]
  },
  {
   "cell_type": "markdown",
   "metadata": {},
   "source": [
    "### Generate averages"
   ]
  },
  {
   "cell_type": "code",
   "execution_count": 41,
   "metadata": {},
   "outputs": [
    {
     "data": {
      "text/html": [
       "<div>\n",
       "<style scoped>\n",
       "    .dataframe tbody tr th:only-of-type {\n",
       "        vertical-align: middle;\n",
       "    }\n",
       "\n",
       "    .dataframe tbody tr th {\n",
       "        vertical-align: top;\n",
       "    }\n",
       "\n",
       "    .dataframe thead th {\n",
       "        text-align: right;\n",
       "    }\n",
       "</style>\n",
       "<table border=\"1\" class=\"dataframe\">\n",
       "  <thead>\n",
       "    <tr style=\"text-align: right;\">\n",
       "      <th></th>\n",
       "      <th>purpose_vp</th>\n",
       "      <th>Fz1</th>\n",
       "      <th>Fz2</th>\n",
       "      <th>Fz3</th>\n",
       "      <th>Fz4</th>\n",
       "      <th>Fz6</th>\n",
       "    </tr>\n",
       "    <tr>\n",
       "      <th>urbanisation</th>\n",
       "      <th>mode_model</th>\n",
       "      <th></th>\n",
       "      <th></th>\n",
       "      <th></th>\n",
       "      <th></th>\n",
       "      <th></th>\n",
       "    </tr>\n",
       "  </thead>\n",
       "  <tbody>\n",
       "    <tr>\n",
       "      <th rowspan=\"4\" valign=\"top\">1</th>\n",
       "      <th>bus</th>\n",
       "      <td>4001</td>\n",
       "      <td>2051</td>\n",
       "      <td>5434</td>\n",
       "      <td>472</td>\n",
       "      <td>6037</td>\n",
       "    </tr>\n",
       "    <tr>\n",
       "      <th>car</th>\n",
       "      <td>7871</td>\n",
       "      <td>1657</td>\n",
       "      <td>23021</td>\n",
       "      <td>2159</td>\n",
       "      <td>21980</td>\n",
       "    </tr>\n",
       "    <tr>\n",
       "      <th>rail</th>\n",
       "      <td>1336</td>\n",
       "      <td>302</td>\n",
       "      <td>637</td>\n",
       "      <td>148</td>\n",
       "      <td>1144</td>\n",
       "    </tr>\n",
       "    <tr>\n",
       "      <th>walk</th>\n",
       "      <td>2063</td>\n",
       "      <td>853</td>\n",
       "      <td>3844</td>\n",
       "      <td>185</td>\n",
       "      <td>3172</td>\n",
       "    </tr>\n",
       "    <tr>\n",
       "      <th rowspan=\"4\" valign=\"top\">2</th>\n",
       "      <th>bus</th>\n",
       "      <td>851</td>\n",
       "      <td>2643</td>\n",
       "      <td>1265</td>\n",
       "      <td>123</td>\n",
       "      <td>1430</td>\n",
       "    </tr>\n",
       "    <tr>\n",
       "      <th>car</th>\n",
       "      <td>14208</td>\n",
       "      <td>2869</td>\n",
       "      <td>46552</td>\n",
       "      <td>3315</td>\n",
       "      <td>39353</td>\n",
       "    </tr>\n",
       "    <tr>\n",
       "      <th>rail</th>\n",
       "      <td>463</td>\n",
       "      <td>421</td>\n",
       "      <td>190</td>\n",
       "      <td>54</td>\n",
       "      <td>424</td>\n",
       "    </tr>\n",
       "    <tr>\n",
       "      <th>walk</th>\n",
       "      <td>596</td>\n",
       "      <td>1403</td>\n",
       "      <td>4373</td>\n",
       "      <td>110</td>\n",
       "      <td>3215</td>\n",
       "    </tr>\n",
       "    <tr>\n",
       "      <th rowspan=\"4\" valign=\"top\">3</th>\n",
       "      <th>bus</th>\n",
       "      <td>246</td>\n",
       "      <td>2204</td>\n",
       "      <td>424</td>\n",
       "      <td>57</td>\n",
       "      <td>525</td>\n",
       "    </tr>\n",
       "    <tr>\n",
       "      <th>car</th>\n",
       "      <td>11842</td>\n",
       "      <td>2353</td>\n",
       "      <td>33774</td>\n",
       "      <td>2431</td>\n",
       "      <td>28420</td>\n",
       "    </tr>\n",
       "    <tr>\n",
       "      <th>rail</th>\n",
       "      <td>112</td>\n",
       "      <td>160</td>\n",
       "      <td>65</td>\n",
       "      <td>29</td>\n",
       "      <td>122</td>\n",
       "    </tr>\n",
       "    <tr>\n",
       "      <th>walk</th>\n",
       "      <td>369</td>\n",
       "      <td>761</td>\n",
       "      <td>2381</td>\n",
       "      <td>80</td>\n",
       "      <td>1987</td>\n",
       "    </tr>\n",
       "  </tbody>\n",
       "</table>\n",
       "</div>"
      ],
      "text/plain": [
       "purpose_vp                 Fz1   Fz2    Fz3   Fz4    Fz6\n",
       "urbanisation mode_model                                 \n",
       "1            bus          4001  2051   5434   472   6037\n",
       "             car          7871  1657  23021  2159  21980\n",
       "             rail         1336   302    637   148   1144\n",
       "             walk         2063   853   3844   185   3172\n",
       "2            bus           851  2643   1265   123   1430\n",
       "             car         14208  2869  46552  3315  39353\n",
       "             rail          463   421    190    54    424\n",
       "             walk          596  1403   4373   110   3215\n",
       "3            bus           246  2204    424    57    525\n",
       "             car         11842  2353  33774  2431  28420\n",
       "             rail          112   160     65    29    122\n",
       "             walk          369   761   2381    80   1987"
      ]
     },
     "execution_count": 41,
     "metadata": {},
     "output_type": "execute_result"
    }
   ],
   "source": [
    "# Count the number of observations to grasp statistical validity\n",
    "trips.groupby(['urbanisation', 'mode_model', 'purpose_vp'])['origin'].count().unstack('purpose_vp')"
   ]
  },
  {
   "cell_type": "code",
   "execution_count": 42,
   "metadata": {},
   "outputs": [
    {
     "data": {
      "text/html": [
       "<div>\n",
       "<style scoped>\n",
       "    .dataframe tbody tr th:only-of-type {\n",
       "        vertical-align: middle;\n",
       "    }\n",
       "\n",
       "    .dataframe tbody tr th {\n",
       "        vertical-align: top;\n",
       "    }\n",
       "\n",
       "    .dataframe thead th {\n",
       "        text-align: right;\n",
       "    }\n",
       "</style>\n",
       "<table border=\"1\" class=\"dataframe\">\n",
       "  <thead>\n",
       "    <tr style=\"text-align: right;\">\n",
       "      <th></th>\n",
       "      <th>purpose_vp</th>\n",
       "      <th>Fz1</th>\n",
       "      <th>Fz2</th>\n",
       "      <th>Fz3</th>\n",
       "      <th>Fz4</th>\n",
       "      <th>Fz6</th>\n",
       "    </tr>\n",
       "    <tr>\n",
       "      <th>urbanisation</th>\n",
       "      <th>mode_model</th>\n",
       "      <th></th>\n",
       "      <th></th>\n",
       "      <th></th>\n",
       "      <th></th>\n",
       "      <th></th>\n",
       "    </tr>\n",
       "  </thead>\n",
       "  <tbody>\n",
       "    <tr>\n",
       "      <th rowspan=\"4\" valign=\"top\">1</th>\n",
       "      <th>bus</th>\n",
       "      <td>7.516821</td>\n",
       "      <td>5.856412</td>\n",
       "      <td>5.109074</td>\n",
       "      <td>6.758665</td>\n",
       "      <td>5.976490</td>\n",
       "    </tr>\n",
       "    <tr>\n",
       "      <th>car</th>\n",
       "      <td>10.188027</td>\n",
       "      <td>5.778153</td>\n",
       "      <td>5.146724</td>\n",
       "      <td>8.730301</td>\n",
       "      <td>6.820492</td>\n",
       "    </tr>\n",
       "    <tr>\n",
       "      <th>rail</th>\n",
       "      <td>16.859955</td>\n",
       "      <td>14.253411</td>\n",
       "      <td>11.179608</td>\n",
       "      <td>37.126014</td>\n",
       "      <td>19.399755</td>\n",
       "    </tr>\n",
       "    <tr>\n",
       "      <th>walk</th>\n",
       "      <td>1.757179</td>\n",
       "      <td>1.828746</td>\n",
       "      <td>1.378348</td>\n",
       "      <td>2.795892</td>\n",
       "      <td>2.186687</td>\n",
       "    </tr>\n",
       "    <tr>\n",
       "      <th rowspan=\"4\" valign=\"top\">2</th>\n",
       "      <th>bus</th>\n",
       "      <td>9.872703</td>\n",
       "      <td>7.452664</td>\n",
       "      <td>5.877850</td>\n",
       "      <td>7.057480</td>\n",
       "      <td>7.305993</td>\n",
       "    </tr>\n",
       "    <tr>\n",
       "      <th>car</th>\n",
       "      <td>12.081817</td>\n",
       "      <td>5.825612</td>\n",
       "      <td>5.657822</td>\n",
       "      <td>10.598187</td>\n",
       "      <td>7.575102</td>\n",
       "    </tr>\n",
       "    <tr>\n",
       "      <th>rail</th>\n",
       "      <td>25.736847</td>\n",
       "      <td>13.842565</td>\n",
       "      <td>15.896368</td>\n",
       "      <td>28.725741</td>\n",
       "      <td>28.690401</td>\n",
       "    </tr>\n",
       "    <tr>\n",
       "      <th>walk</th>\n",
       "      <td>2.775268</td>\n",
       "      <td>1.577940</td>\n",
       "      <td>1.388191</td>\n",
       "      <td>1.886000</td>\n",
       "      <td>2.383216</td>\n",
       "    </tr>\n",
       "    <tr>\n",
       "      <th rowspan=\"4\" valign=\"top\">3</th>\n",
       "      <th>bus</th>\n",
       "      <td>12.262846</td>\n",
       "      <td>8.523766</td>\n",
       "      <td>6.131698</td>\n",
       "      <td>11.385088</td>\n",
       "      <td>8.838248</td>\n",
       "    </tr>\n",
       "    <tr>\n",
       "      <th>car</th>\n",
       "      <td>11.406599</td>\n",
       "      <td>6.464904</td>\n",
       "      <td>5.870557</td>\n",
       "      <td>11.939646</td>\n",
       "      <td>7.881038</td>\n",
       "    </tr>\n",
       "    <tr>\n",
       "      <th>rail</th>\n",
       "      <td>41.192946</td>\n",
       "      <td>19.702188</td>\n",
       "      <td>29.183231</td>\n",
       "      <td>38.954483</td>\n",
       "      <td>47.320328</td>\n",
       "    </tr>\n",
       "    <tr>\n",
       "      <th>walk</th>\n",
       "      <td>2.377453</td>\n",
       "      <td>1.485742</td>\n",
       "      <td>1.339689</td>\n",
       "      <td>1.738625</td>\n",
       "      <td>2.094620</td>\n",
       "    </tr>\n",
       "  </tbody>\n",
       "</table>\n",
       "</div>"
      ],
      "text/plain": [
       "purpose_vp                     Fz1        Fz2        Fz3        Fz4        Fz6\n",
       "urbanisation mode_model                                                       \n",
       "1            bus          7.516821   5.856412   5.109074   6.758665   5.976490\n",
       "             car         10.188027   5.778153   5.146724   8.730301   6.820492\n",
       "             rail        16.859955  14.253411  11.179608  37.126014  19.399755\n",
       "             walk         1.757179   1.828746   1.378348   2.795892   2.186687\n",
       "2            bus          9.872703   7.452664   5.877850   7.057480   7.305993\n",
       "             car         12.081817   5.825612   5.657822  10.598187   7.575102\n",
       "             rail        25.736847  13.842565  15.896368  28.725741  28.690401\n",
       "             walk         2.775268   1.577940   1.388191   1.886000   2.383216\n",
       "3            bus         12.262846   8.523766   6.131698  11.385088   8.838248\n",
       "             car         11.406599   6.464904   5.870557  11.939646   7.881038\n",
       "             rail        41.192946  19.702188  29.183231  38.954483  47.320328\n",
       "             walk         2.377453   1.485742   1.339689   1.738625   2.094620"
      ]
     },
     "execution_count": 42,
     "metadata": {},
     "output_type": "execute_result"
    }
   ],
   "source": [
    "trips.groupby(['urbanisation', 'mode_model', 'purpose_vp'])['distance'].mean().unstack('purpose_vp')"
   ]
  },
  {
   "cell_type": "code",
   "execution_count": 43,
   "metadata": {},
   "outputs": [],
   "source": [
    "# Generate average lengths and times\n",
    "len_dict = trips.groupby(['urbanisation', 'mode_model', 'purpose_vp'])['distance'].mean().to_dict()\n",
    "time_dict = trips.groupby(['urbanisation', 'mode_model', 'purpose_vp'])['duration'].mean().to_dict()"
   ]
  },
  {
   "cell_type": "code",
   "execution_count": 44,
   "metadata": {},
   "outputs": [
    {
     "data": {
      "text/html": [
       "<div>\n",
       "<style scoped>\n",
       "    .dataframe tbody tr th:only-of-type {\n",
       "        vertical-align: middle;\n",
       "    }\n",
       "\n",
       "    .dataframe tbody tr th {\n",
       "        vertical-align: top;\n",
       "    }\n",
       "\n",
       "    .dataframe thead th {\n",
       "        text-align: right;\n",
       "    }\n",
       "</style>\n",
       "<table border=\"1\" class=\"dataframe\">\n",
       "  <thead>\n",
       "    <tr style=\"text-align: right;\">\n",
       "      <th>purpose_vp</th>\n",
       "      <th>Fz1</th>\n",
       "      <th>Fz2</th>\n",
       "      <th>Fz3</th>\n",
       "      <th>Fz4</th>\n",
       "      <th>Fz6</th>\n",
       "    </tr>\n",
       "    <tr>\n",
       "      <th>urbanisation</th>\n",
       "      <th></th>\n",
       "      <th></th>\n",
       "      <th></th>\n",
       "      <th></th>\n",
       "      <th></th>\n",
       "    </tr>\n",
       "  </thead>\n",
       "  <tbody>\n",
       "    <tr>\n",
       "      <th>1</th>\n",
       "      <td>1.165544</td>\n",
       "      <td>2.415812</td>\n",
       "      <td>1.573998</td>\n",
       "      <td>1.263085</td>\n",
       "      <td>2.117197</td>\n",
       "    </tr>\n",
       "    <tr>\n",
       "      <th>2</th>\n",
       "      <td>1.141258</td>\n",
       "      <td>2.362147</td>\n",
       "      <td>1.503093</td>\n",
       "      <td>1.266063</td>\n",
       "      <td>2.048332</td>\n",
       "    </tr>\n",
       "    <tr>\n",
       "      <th>3</th>\n",
       "      <td>1.162388</td>\n",
       "      <td>2.436464</td>\n",
       "      <td>1.503997</td>\n",
       "      <td>1.281777</td>\n",
       "      <td>2.060345</td>\n",
       "    </tr>\n",
       "  </tbody>\n",
       "</table>\n",
       "</div>"
      ],
      "text/plain": [
       "purpose_vp         Fz1       Fz2       Fz3       Fz4       Fz6\n",
       "urbanisation                                                  \n",
       "1             1.165544  2.415812  1.573998  1.263085  2.117197\n",
       "2             1.141258  2.362147  1.503093  1.266063  2.048332\n",
       "3             1.162388  2.436464  1.503997  1.281777  2.060345"
      ]
     },
     "execution_count": 44,
     "metadata": {},
     "output_type": "execute_result"
    }
   ],
   "source": [
    "# Generate average occupation factors for car trips\n",
    "# Necessary to calculate vehicle kilometers\n",
    "car_occ_dict = trips.loc[trips['mode_model']=='car'].groupby(\n",
    "    ['urbanisation', 'purpose_vp'])['n_persons'].mean().to_dict()\n",
    "trips.loc[trips['mode_model']=='car'].groupby(\n",
    "    ['urbanisation', 'purpose_vp'])['n_persons'].mean().unstack('purpose_vp')"
   ]
  },
  {
   "cell_type": "markdown",
   "metadata": {},
   "source": [
    "### Generate prices\n",
    "\n",
    "See cal11 for values and explanation"
   ]
  },
  {
   "cell_type": "code",
   "execution_count": 45,
   "metadata": {},
   "outputs": [],
   "source": [
    "trips['price'] = 0"
   ]
  },
  {
   "cell_type": "code",
   "execution_count": 61,
   "metadata": {},
   "outputs": [],
   "source": [
    "# Car\n",
    "vc_car = params['car']['var_cost'] * 1000\n",
    "fix_car = params['car']['fix_cost']\n",
    "mask = trips['mode_model']=='car'\n",
    "trips.loc[mask, 'price'] = [d*vc_car/n + fix_car*t/60 for d,n,t in zip(\n",
    "    trips.loc[mask,'distance'], trips.loc[mask,'n_persons'], trips.loc[mask,'duration'])]"
   ]
  },
  {
   "cell_type": "code",
   "execution_count": 47,
   "metadata": {},
   "outputs": [],
   "source": [
    "# PT (same local pricing regime for rail and bus)\n",
    "# Savings through abonements:\n",
    "ticket_dict = {1:1, 2:0.9, 3:0.5, 4:0, 5:0, 6:1, 7:1, 99:1, 200:1}\n",
    "region_prices = {1: params['pt_price']['bus_urban1'],\n",
    "                 2: params['pt_price']['bus_urban2'],\n",
    "                 3: params['pt_price']['bus_urban3']}\n",
    "mask = trips['mode_model'].isin(['bus', 'rail'])\n",
    "trips.loc[mask, 'price'] = [region_prices[r] * ticket_dict[t] for r,t in zip(\n",
    "    trips.loc[mask,'urbanisation'], trips.loc[mask,'ticket_type'])]"
   ]
  },
  {
   "cell_type": "code",
   "execution_count": 62,
   "metadata": {},
   "outputs": [
    {
     "data": {
      "text/html": [
       "<div>\n",
       "<style scoped>\n",
       "    .dataframe tbody tr th:only-of-type {\n",
       "        vertical-align: middle;\n",
       "    }\n",
       "\n",
       "    .dataframe tbody tr th {\n",
       "        vertical-align: top;\n",
       "    }\n",
       "\n",
       "    .dataframe thead th {\n",
       "        text-align: right;\n",
       "    }\n",
       "</style>\n",
       "<table border=\"1\" class=\"dataframe\">\n",
       "  <thead>\n",
       "    <tr style=\"text-align: right;\">\n",
       "      <th></th>\n",
       "      <th>purpose_vp</th>\n",
       "      <th>Fz1</th>\n",
       "      <th>Fz2</th>\n",
       "      <th>Fz3</th>\n",
       "      <th>Fz4</th>\n",
       "      <th>Fz6</th>\n",
       "    </tr>\n",
       "    <tr>\n",
       "      <th>urbanisation</th>\n",
       "      <th>mode_model</th>\n",
       "      <th></th>\n",
       "      <th></th>\n",
       "      <th></th>\n",
       "      <th></th>\n",
       "      <th></th>\n",
       "    </tr>\n",
       "  </thead>\n",
       "  <tbody>\n",
       "    <tr>\n",
       "      <th rowspan=\"4\" valign=\"top\">1</th>\n",
       "      <th>bus</th>\n",
       "      <td>0.805838</td>\n",
       "      <td>1.656959</td>\n",
       "      <td>1.084403</td>\n",
       "      <td>1.124445</td>\n",
       "      <td>1.285036</td>\n",
       "    </tr>\n",
       "    <tr>\n",
       "      <th>car</th>\n",
       "      <td>1.064668</td>\n",
       "      <td>0.358467</td>\n",
       "      <td>0.427288</td>\n",
       "      <td>0.889229</td>\n",
       "      <td>0.453082</td>\n",
       "    </tr>\n",
       "    <tr>\n",
       "      <th>rail</th>\n",
       "      <td>0.618961</td>\n",
       "      <td>1.180377</td>\n",
       "      <td>1.056857</td>\n",
       "      <td>1.036757</td>\n",
       "      <td>1.224378</td>\n",
       "    </tr>\n",
       "    <tr>\n",
       "      <th>walk</th>\n",
       "      <td>0.000000</td>\n",
       "      <td>0.000000</td>\n",
       "      <td>0.000000</td>\n",
       "      <td>0.000000</td>\n",
       "      <td>0.000000</td>\n",
       "    </tr>\n",
       "    <tr>\n",
       "      <th rowspan=\"4\" valign=\"top\">2</th>\n",
       "      <th>bus</th>\n",
       "      <td>1.619741</td>\n",
       "      <td>3.147938</td>\n",
       "      <td>2.041107</td>\n",
       "      <td>1.795122</td>\n",
       "      <td>2.389930</td>\n",
       "    </tr>\n",
       "    <tr>\n",
       "      <th>car</th>\n",
       "      <td>1.286663</td>\n",
       "      <td>0.385747</td>\n",
       "      <td>0.481830</td>\n",
       "      <td>1.073971</td>\n",
       "      <td>0.508775</td>\n",
       "    </tr>\n",
       "    <tr>\n",
       "      <th>rail</th>\n",
       "      <td>1.305400</td>\n",
       "      <td>2.779097</td>\n",
       "      <td>2.410526</td>\n",
       "      <td>2.355556</td>\n",
       "      <td>2.318868</td>\n",
       "    </tr>\n",
       "    <tr>\n",
       "      <th>walk</th>\n",
       "      <td>0.000000</td>\n",
       "      <td>0.000000</td>\n",
       "      <td>0.000000</td>\n",
       "      <td>0.000000</td>\n",
       "      <td>0.000000</td>\n",
       "    </tr>\n",
       "    <tr>\n",
       "      <th rowspan=\"4\" valign=\"top\">3</th>\n",
       "      <th>bus</th>\n",
       "      <td>2.347967</td>\n",
       "      <td>3.506715</td>\n",
       "      <td>2.669811</td>\n",
       "      <td>2.947368</td>\n",
       "      <td>2.659048</td>\n",
       "    </tr>\n",
       "    <tr>\n",
       "      <th>car</th>\n",
       "      <td>1.205227</td>\n",
       "      <td>0.406433</td>\n",
       "      <td>0.501636</td>\n",
       "      <td>1.116185</td>\n",
       "      <td>0.524213</td>\n",
       "    </tr>\n",
       "    <tr>\n",
       "      <th>rail</th>\n",
       "      <td>1.889286</td>\n",
       "      <td>2.770000</td>\n",
       "      <td>2.830769</td>\n",
       "      <td>2.551724</td>\n",
       "      <td>2.852459</td>\n",
       "    </tr>\n",
       "    <tr>\n",
       "      <th>walk</th>\n",
       "      <td>0.000000</td>\n",
       "      <td>0.000000</td>\n",
       "      <td>0.000000</td>\n",
       "      <td>0.000000</td>\n",
       "      <td>0.000000</td>\n",
       "    </tr>\n",
       "  </tbody>\n",
       "</table>\n",
       "</div>"
      ],
      "text/plain": [
       "purpose_vp                    Fz1       Fz2       Fz3       Fz4       Fz6\n",
       "urbanisation mode_model                                                  \n",
       "1            bus         0.805838  1.656959  1.084403  1.124445  1.285036\n",
       "             car         1.064668  0.358467  0.427288  0.889229  0.453082\n",
       "             rail        0.618961  1.180377  1.056857  1.036757  1.224378\n",
       "             walk        0.000000  0.000000  0.000000  0.000000  0.000000\n",
       "2            bus         1.619741  3.147938  2.041107  1.795122  2.389930\n",
       "             car         1.286663  0.385747  0.481830  1.073971  0.508775\n",
       "             rail        1.305400  2.779097  2.410526  2.355556  2.318868\n",
       "             walk        0.000000  0.000000  0.000000  0.000000  0.000000\n",
       "3            bus         2.347967  3.506715  2.669811  2.947368  2.659048\n",
       "             car         1.205227  0.406433  0.501636  1.116185  0.524213\n",
       "             rail        1.889286  2.770000  2.830769  2.551724  2.852459\n",
       "             walk        0.000000  0.000000  0.000000  0.000000  0.000000"
      ]
     },
     "execution_count": 62,
     "metadata": {},
     "output_type": "execute_result"
    }
   ],
   "source": [
    "# Generate averages\n",
    "price_dict = trips.groupby(['urbanisation', 'mode_model', 'purpose_vp'])['price'].mean().to_dict()\n",
    "trips.groupby(['urbanisation', 'mode_model', 'purpose_vp'])['price'].mean().unstack('purpose_vp')"
   ]
  },
  {
   "cell_type": "markdown",
   "metadata": {},
   "source": [
    "## Save to excel\n",
    "\n",
    "Merge volumes and averages into a suitable output format. It should contain columns for\n",
    "* volumes\n",
    "* passenger kilometer\n",
    "* vehicle kilometer\n",
    "* av. distance\n",
    "* av. time\n",
    "* av. price"
   ]
  },
  {
   "cell_type": "code",
   "execution_count": 49,
   "metadata": {},
   "outputs": [],
   "source": [
    "# Stack column names to columns\n",
    "df = volumes.stack().stack().rename('volumes').reset_index(level=[1,2])"
   ]
  },
  {
   "cell_type": "code",
   "execution_count": 50,
   "metadata": {},
   "outputs": [],
   "source": [
    "# Add urbanisation column\n",
    "df['urb'] = df.index.map(sm.zones['urbanisation'].to_dict()).astype(int)"
   ]
  },
  {
   "cell_type": "code",
   "execution_count": 51,
   "metadata": {},
   "outputs": [],
   "source": [
    "# Av. distance in km\n",
    "df['length'] = [len_dict[a] for a in tuple(zip(df['urb'], df['mode'], df['segment']))]"
   ]
  },
  {
   "cell_type": "code",
   "execution_count": 52,
   "metadata": {},
   "outputs": [],
   "source": [
    "# Av. time in h\n",
    "df['time'] = [time_dict[a]/60 for a in tuple(zip(df['urb'], df['mode'], df['segment']))]"
   ]
  },
  {
   "cell_type": "code",
   "execution_count": 63,
   "metadata": {},
   "outputs": [],
   "source": [
    "# Av. price in EUR\n",
    "df['price'] = [price_dict[a] for a in tuple(zip(df['urb'], df['mode'], df['segment']))]"
   ]
  },
  {
   "cell_type": "code",
   "execution_count": 54,
   "metadata": {},
   "outputs": [],
   "source": [
    "# Passenger kilometer\n",
    "df['pkm'] = (df['volumes'] * df['length']).astype(int)"
   ]
  },
  {
   "cell_type": "code",
   "execution_count": 55,
   "metadata": {},
   "outputs": [
    {
     "data": {
      "text/plain": [
       "array([<AxesSubplot:ylabel='Fz1'>, <AxesSubplot:ylabel='Fz2'>,\n",
       "       <AxesSubplot:ylabel='Fz3'>, <AxesSubplot:ylabel='Fz4'>,\n",
       "       <AxesSubplot:ylabel='Fz6'>], dtype=object)"
      ]
     },
     "execution_count": 55,
     "metadata": {},
     "output_type": "execute_result"
    },
    {
     "data": {
      "image/png": "[encoded data removed]",
      "text/plain": [
       "<Figure size 1152x288 with 5 Axes>"
      ]
     },
     "metadata": {},
     "output_type": "display_data"
    }
   ],
   "source": [
    "# Modal split by pkm\n",
    "df.set_index(['mode', 'segment'], append=True)['pkm'].unstack().groupby(level=1).sum(axis=1).plot.pie(\n",
    "    subplots=True, figsize=(16, 4), legend=False, title='Modal split by trip purpose (passenger kilometer)')"
   ]
  },
  {
   "cell_type": "code",
   "execution_count": 56,
   "metadata": {},
   "outputs": [],
   "source": [
    "# Vehicle kilometer for cars\n",
    "df['vkm'] = [pkm/car_occ_dict[(u,p)] if m=='car' else 0 for u,m,p,pkm in zip(\n",
    "    df['urb'], df['mode'], df['segment'], df['pkm'])]"
   ]
  },
  {
   "cell_type": "code",
   "execution_count": 57,
   "metadata": {},
   "outputs": [],
   "source": [
    "# Cycling and walking is not counted to vkm\n",
    "# PT km depend on the schedules\n",
    "df['vkm'] = df['vkm'].astype(int)"
   ]
  },
  {
   "cell_type": "code",
   "execution_count": 64,
   "metadata": {},
   "outputs": [],
   "source": [
    "# Create an aggregated version (NUTS2-level and no segments)\n",
    "df['NUTS1'] = df.index.str[:3]\n",
    "df_agg = df.groupby(['NUTS1', 'mode']).agg(\n",
    "    {'volumes': 'sum', 'length': 'mean', 'time': 'mean',\n",
    "     'price': 'mean', 'pkm': 'sum', 'vkm': 'sum'})"
   ]
  },
  {
   "cell_type": "code",
   "execution_count": 65,
   "metadata": {},
   "outputs": [],
   "source": [
    "# Save an excel\n",
    "with pd.ExcelWriter(output_path + 'inner_zone.xlsx') as writer:\n",
    "    df.to_excel(writer, sheet_name='inner_zone')\n",
    "    df_agg.to_excel(writer, sheet_name='agg')"
   ]
  },
  {
   "cell_type": "code",
   "execution_count": 67,
   "metadata": {},
   "outputs": [],
   "source": [
    "# Save disaggregated pkm as CSV\n",
    "df[['pkm', 'mode', 'segment']].to_csv(output_path + 'inner_zone_pkm.csv')"
   ]
  }
 ],
 "metadata": {
  "kernelspec": {
   "display_name": "Python 3",
   "language": "python",
   "name": "python3"
  },
  "language_info": {
   "codemirror_mode": {
    "name": "ipython",
    "version": 3
   },
   "file_extension": ".py",
   "mimetype": "text/x-python",
   "name": "python",
   "nbconvert_exporter": "python",
   "pygments_lexer": "ipython3",
   "version": "3.8.1"
  }
 },
 "nbformat": 4,
 "nbformat_minor": 2
}
