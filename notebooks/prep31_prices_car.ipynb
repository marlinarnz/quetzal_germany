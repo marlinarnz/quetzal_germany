{
 "cells": [
  {
   "cell_type": "code",
   "execution_count": 1,
   "metadata": {},
   "outputs": [],
   "source": [
    "import sys # for automation and parallelisation\n",
    "manual, scenario = (True, 'base') if 'ipykernel' in sys.argv[0] else (False, sys.argv[1])\n",
    "if manual:\n",
    "    %matplotlib inline"
   ]
  },
  {
   "cell_type": "code",
   "execution_count": 2,
   "metadata": {},
   "outputs": [],
   "source": [
    "import math\n",
    "import os\n",
    "import numpy as np\n",
    "import pandas as pd\n",
    "import geopandas as gpd\n",
    "from shapely import geometry\n",
    "from quetzal.model import stepmodel\n",
    "from quetzal.io import excel"
   ]
  },
  {
   "cell_type": "markdown",
   "metadata": {},
   "source": [
    "# Preparation of the LoS tables\n",
    "## Saves LoS attribtute price for cars\n",
    "## Needs shortest paths of the the road network"
   ]
  },
  {
   "cell_type": "code",
   "execution_count": 3,
   "metadata": {},
   "outputs": [],
   "source": [
    "input_path = '../input_static/'\n",
    "output_path = '../output/'\n",
    "model_path = '../model/' + scenario + '/'"
   ]
  },
  {
   "cell_type": "code",
   "execution_count": 4,
   "metadata": {},
   "outputs": [],
   "source": [
    "# Create a path for scenario-specific model files\n",
    "if not os.path.exists(model_path):\n",
    "    os.makedirs(model_path)"
   ]
  },
  {
   "cell_type": "code",
   "execution_count": 5,
   "metadata": {},
   "outputs": [],
   "source": [
    "# Load scenario parameters\n",
    "params = excel.read_var(file='../input/parameters.xls', scenario=scenario)"
   ]
  },
  {
   "cell_type": "code",
   "execution_count": 6,
   "metadata": {},
   "outputs": [
    {
     "name": "stderr",
     "output_type": "stream",
     "text": [
      "car_los: 100%|████████████████████████████████████| 1/1 [00:02<00:00,  2.50s/it]\n"
     ]
    }
   ],
   "source": [
    "sm = stepmodel.read_zippedpickles(model_path + 'de_road_los')\n",
    "z = stepmodel.read_json(model_path + 'de_zones')\n",
    "sm.zones = z.zones"
   ]
  },
  {
   "cell_type": "code",
   "execution_count": 7,
   "metadata": {},
   "outputs": [
    {
     "data": {
      "text/plain": [
       "15.446834809107667"
      ]
     },
     "execution_count": 7,
     "metadata": {},
     "output_type": "execute_result"
    }
   ],
   "source": [
    "# Scale time to hours\n",
    "if sm.car_los['time'].mean() > 1000:\n",
    "    sm.car_los['time'] = sm.car_los['time'] / 3600\n",
    "assert sm.car_los['time'].mean() < 10\n",
    "sm.car_los['time'].mean()"
   ]
  },
  {
   "cell_type": "markdown",
   "metadata": {},
   "source": [
    "## Add cost to LoS table"
   ]
  },
  {
   "cell_type": "code",
   "execution_count": 8,
   "metadata": {},
   "outputs": [],
   "source": [
    "# Data from parameters\n",
    "parking_cost = params['parking_cost']\n",
    "car_occ = params['car_occ']\n",
    "urb_dict = sm.zones['urbanisation'].to_dict()\n",
    "segments = [s.strip() for s in params['general']['demand_segments'].split(';')]"
   ]
  },
  {
   "cell_type": "code",
   "execution_count": 9,
   "metadata": {},
   "outputs": [],
   "source": [
    "for seg in segments:\n",
    "    sm.car_los[seg+'_price'] = (sm.car_los['length']/1000 * params['car_var_cost'][seg]\n",
    "                                + sm.car_los['destination'].map(urb_dict).astype(int).map(parking_cost)\n",
    "                               ) / car_occ[seg] \\\n",
    "                               + params['car_fix_cost'][seg] * sm.car_los['time']"
   ]
  },
  {
   "cell_type": "code",
   "execution_count": 10,
   "metadata": {},
   "outputs": [
    {
     "data": {
      "text/html": [
       "<div>\n",
       "<style scoped>\n",
       "    .dataframe tbody tr th:only-of-type {\n",
       "        vertical-align: middle;\n",
       "    }\n",
       "\n",
       "    .dataframe tbody tr th {\n",
       "        vertical-align: top;\n",
       "    }\n",
       "\n",
       "    .dataframe thead th {\n",
       "        text-align: right;\n",
       "    }\n",
       "</style>\n",
       "<table border=\"1\" class=\"dataframe\">\n",
       "  <thead>\n",
       "    <tr style=\"text-align: right;\">\n",
       "      <th></th>\n",
       "      <th>origin</th>\n",
       "      <th>destination</th>\n",
       "      <th>time</th>\n",
       "      <th>link_path</th>\n",
       "      <th>access_time</th>\n",
       "      <th>in_vehicle_time</th>\n",
       "      <th>length</th>\n",
       "      <th>route_type</th>\n",
       "      <th>route_types</th>\n",
       "      <th>commuting_no_car_price</th>\n",
       "      <th>...</th>\n",
       "      <th>business_no_car_price</th>\n",
       "      <th>business_car_price</th>\n",
       "      <th>education_no_car_price</th>\n",
       "      <th>education_car_price</th>\n",
       "      <th>buy/execute_no_car_price</th>\n",
       "      <th>buy/execute_car_price</th>\n",
       "      <th>leisure_no_car_price</th>\n",
       "      <th>leisure_car_price</th>\n",
       "      <th>accompany_no_car_price</th>\n",
       "      <th>accompany_car_price</th>\n",
       "    </tr>\n",
       "  </thead>\n",
       "  <tbody>\n",
       "    <tr>\n",
       "      <th>133424</th>\n",
       "      <td>DE125_0</td>\n",
       "      <td>DEA53_0</td>\n",
       "      <td>30.171667</td>\n",
       "      <td>[rl_170494, rl_170498, rl_170497, rl_420153, r...</td>\n",
       "      <td>300</td>\n",
       "      <td>108318</td>\n",
       "      <td>289585</td>\n",
       "      <td>car</td>\n",
       "      <td>(car,)</td>\n",
       "      <td>267.894705</td>\n",
       "      <td>...</td>\n",
       "      <td>275.744705</td>\n",
       "      <td>37.54318</td>\n",
       "      <td>280.487226</td>\n",
       "      <td>26.381694</td>\n",
       "      <td>245.679468</td>\n",
       "      <td>27.419176</td>\n",
       "      <td>223.230648</td>\n",
       "      <td>20.768567</td>\n",
       "      <td>227.281337</td>\n",
       "      <td>18.211244</td>\n",
       "    </tr>\n",
       "    <tr>\n",
       "      <th>98342</th>\n",
       "      <td>DE245_10</td>\n",
       "      <td>DED44_5</td>\n",
       "      <td>13.957500</td>\n",
       "      <td>[rl_355071, rl_354674, rl_355128, rl_354911, r...</td>\n",
       "      <td>300</td>\n",
       "      <td>49947</td>\n",
       "      <td>136621</td>\n",
       "      <td>car</td>\n",
       "      <td>(car,)</td>\n",
       "      <td>123.655209</td>\n",
       "      <td>...</td>\n",
       "      <td>127.268287</td>\n",
       "      <td>15.897651</td>\n",
       "      <td>129.451101</td>\n",
       "      <td>11.171323</td>\n",
       "      <td>113.430319</td>\n",
       "      <td>11.610644</td>\n",
       "      <td>103.09792</td>\n",
       "      <td>8.794445</td>\n",
       "      <td>104.96231</td>\n",
       "      <td>7.711547</td>\n",
       "    </tr>\n",
       "  </tbody>\n",
       "</table>\n",
       "<p>2 rows × 21 columns</p>\n",
       "</div>"
      ],
      "text/plain": [
       "          origin destination       time  \\\n",
       "133424   DE125_0     DEA53_0  30.171667   \n",
       "98342   DE245_10     DED44_5  13.957500   \n",
       "\n",
       "                                                link_path  access_time  \\\n",
       "133424  [rl_170494, rl_170498, rl_170497, rl_420153, r...          300   \n",
       "98342   [rl_355071, rl_354674, rl_355128, rl_354911, r...          300   \n",
       "\n",
       "        in_vehicle_time  length route_type route_types commuting_no_car_price  \\\n",
       "133424           108318  289585        car      (car,)             267.894705   \n",
       "98342             49947  136621        car      (car,)             123.655209   \n",
       "\n",
       "        ... business_no_car_price business_car_price education_no_car_price  \\\n",
       "133424  ...            275.744705           37.54318             280.487226   \n",
       "98342   ...            127.268287          15.897651             129.451101   \n",
       "\n",
       "       education_car_price buy/execute_no_car_price buy/execute_car_price  \\\n",
       "133424           26.381694               245.679468             27.419176   \n",
       "98342            11.171323               113.430319             11.610644   \n",
       "\n",
       "       leisure_no_car_price leisure_car_price accompany_no_car_price  \\\n",
       "133424           223.230648         20.768567             227.281337   \n",
       "98342             103.09792          8.794445              104.96231   \n",
       "\n",
       "       accompany_car_price  \n",
       "133424           18.211244  \n",
       "98342             7.711547  \n",
       "\n",
       "[2 rows x 21 columns]"
      ]
     },
     "execution_count": 10,
     "metadata": {},
     "output_type": "execute_result"
    }
   ],
   "source": [
    "sm.car_los.sample(2)"
   ]
  },
  {
   "cell_type": "code",
   "execution_count": 11,
   "metadata": {},
   "outputs": [
    {
     "data": {
      "text/plain": [
       "<Axes: xlabel='length'>"
      ]
     },
     "execution_count": 11,
     "metadata": {},
     "output_type": "execute_result"
    },
    {
     "data": {
      "image/png": "[encoded data removed]",
      "text/plain": [
       "<Figure size 640x480 with 1 Axes>"
      ]
     },
     "metadata": {},
     "output_type": "display_data"
    }
   ],
   "source": [
    "sm.car_los.set_index('length')[[s+'_price' for s in segments if len(s.split('_'))<3]].plot(alpha=.5)"
   ]
  },
  {
   "cell_type": "markdown",
   "metadata": {},
   "source": [
    "## Save model"
   ]
  },
  {
   "cell_type": "code",
   "execution_count": 12,
   "metadata": {},
   "outputs": [],
   "source": [
    "# Make table smaller\n",
    "cols = ['access_time', 'in_vehicle_time', 'length']\n",
    "sm.car_los[cols] = sm.car_los[cols].astype(int)"
   ]
  },
  {
   "cell_type": "code",
   "execution_count": 13,
   "metadata": {},
   "outputs": [
    {
     "name": "stderr",
     "output_type": "stream",
     "text": [
      "zones: 100%|██████████████████████████████████████| 8/8 [00:13<00:00,  1.70s/it]\n"
     ]
    }
   ],
   "source": [
    "sm.to_zippedpickles(model_path + 'de_road_los', only_attributes=['car_los'])"
   ]
  }
 ],
 "metadata": {
  "kernelspec": {
   "display_name": "Python 3 (ipykernel)",
   "language": "python",
   "name": "python3"
  },
  "language_info": {
   "codemirror_mode": {
    "name": "ipython",
    "version": 3
   },
   "file_extension": ".py",
   "mimetype": "text/x-python",
   "name": "python",
   "nbconvert_exporter": "python",
   "pygments_lexer": "ipython3",
   "version": "3.10.9"
  }
 },
 "nbformat": 4,
 "nbformat_minor": 4
}
