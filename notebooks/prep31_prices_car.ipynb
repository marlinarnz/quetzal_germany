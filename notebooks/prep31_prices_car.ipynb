{
 "cells": [
  {
   "cell_type": "code",
   "execution_count": 1,
   "metadata": {},
   "outputs": [],
   "source": [
    "import sys # for automation and parallelisation\n",
    "manual, scenario = (True, 'base') if 'ipykernel' in sys.argv[0] else (False, sys.argv[1])\n",
    "if manual:\n",
    "    %matplotlib inline"
   ]
  },
  {
   "cell_type": "code",
   "execution_count": 2,
   "metadata": {},
   "outputs": [],
   "source": [
    "import math\n",
    "import os\n",
    "import numpy as np\n",
    "import pandas as pd\n",
    "import geopandas as gpd\n",
    "from shapely import geometry\n",
    "from quetzal.model import stepmodel\n",
    "from quetzal.io import excel"
   ]
  },
  {
   "cell_type": "markdown",
   "metadata": {},
   "source": [
    "# Preparation of the LoS tables\n",
    "## Saves LoS attribtute price for cars\n",
    "## Needs shortest paths of the the road network"
   ]
  },
  {
   "cell_type": "code",
   "execution_count": 3,
   "metadata": {},
   "outputs": [],
   "source": [
    "input_path = '../input_static/'\n",
    "output_path = '../output/'\n",
    "model_path = '../model/' + scenario + '/'"
   ]
  },
  {
   "cell_type": "code",
   "execution_count": 4,
   "metadata": {},
   "outputs": [],
   "source": [
    "# Create a path for scenario-specific model files\n",
    "if not os.path.exists(model_path):\n",
    "    os.makedirs(model_path)"
   ]
  },
  {
   "cell_type": "code",
   "execution_count": 5,
   "metadata": {},
   "outputs": [],
   "source": [
    "# Load scenario parameters\n",
    "params = excel.read_var(file='../input/parameters.xls', scenario=scenario)"
   ]
  },
  {
   "cell_type": "code",
   "execution_count": 6,
   "metadata": {},
   "outputs": [
    {
     "name": "stderr",
     "output_type": "stream",
     "text": [
      "car_los: 100%|███████████████████████████████████████████████████████████████████████████| 1/1 [00:05<00:00,  5.97s/it]\n"
     ]
    }
   ],
   "source": [
    "sm = stepmodel.read_zippedpickles(model_path + 'de_road_los')\n",
    "z = stepmodel.read_json(model_path + 'de_zones')\n",
    "sm.zones = z.zones"
   ]
  },
  {
   "cell_type": "code",
   "execution_count": 7,
   "metadata": {},
   "outputs": [
    {
     "data": {
      "text/plain": [
       "3.0700848170839223"
      ]
     },
     "execution_count": 7,
     "metadata": {},
     "output_type": "execute_result"
    }
   ],
   "source": [
    "# Scale time to hours\n",
    "if sm.car_los['time'].mean() > 1000:\n",
    "    sm.car_los['time'] = sm.car_los['time'] / 3600\n",
    "assert sm.car_los['time'].mean() < 10\n",
    "sm.car_los['time'].mean()"
   ]
  },
  {
   "cell_type": "markdown",
   "metadata": {},
   "source": [
    "## Add cost to LoS table"
   ]
  },
  {
   "cell_type": "code",
   "execution_count": 8,
   "metadata": {},
   "outputs": [],
   "source": [
    "# Data from parameters\n",
    "parking_cost = params['parking_cost']\n",
    "car_occ = params['car_occ']\n",
    "urb_dict = sm.zones['urbanisation'].to_dict()\n",
    "urb_dict = {str(key): val for key, val in urb_dict.items()}\n",
    "segments = [s.strip() for s in params['general']['demand_segments'].split(';')]"
   ]
  },
  {
   "cell_type": "code",
   "execution_count": 9,
   "metadata": {},
   "outputs": [],
   "source": [
    "for seg in segments:\n",
    "    sm.car_los[seg+'_price'] = (sm.car_los['length']/1000 * params['car_var_cost'][seg]\n",
    "                                + sm.car_los['destination'].map(urb_dict).astype(int).map(parking_cost)\n",
    "                               ) / car_occ[seg] \\\n",
    "                               + params['car_fix_cost'][seg] * sm.car_los['time']"
   ]
  },
  {
   "cell_type": "code",
   "execution_count": 10,
   "metadata": {},
   "outputs": [
    {
     "data": {
      "text/html": [
       "<div>\n",
       "<style scoped>\n",
       "    .dataframe tbody tr th:only-of-type {\n",
       "        vertical-align: middle;\n",
       "    }\n",
       "\n",
       "    .dataframe tbody tr th {\n",
       "        vertical-align: top;\n",
       "    }\n",
       "\n",
       "    .dataframe thead th {\n",
       "        text-align: right;\n",
       "    }\n",
       "</style>\n",
       "<table border=\"1\" class=\"dataframe\">\n",
       "  <thead>\n",
       "    <tr style=\"text-align: right;\">\n",
       "      <th></th>\n",
       "      <th>origin</th>\n",
       "      <th>destination</th>\n",
       "      <th>time</th>\n",
       "      <th>link_path</th>\n",
       "      <th>access_time</th>\n",
       "      <th>in_vehicle_time</th>\n",
       "      <th>length</th>\n",
       "      <th>route_type</th>\n",
       "      <th>route_types</th>\n",
       "      <th>commuting_no_car_price</th>\n",
       "      <th>...</th>\n",
       "      <th>business_no_car_price</th>\n",
       "      <th>business_car_price</th>\n",
       "      <th>education_no_car_price</th>\n",
       "      <th>education_car_price</th>\n",
       "      <th>buy/execute_no_car_price</th>\n",
       "      <th>buy/execute_car_price</th>\n",
       "      <th>leisure_no_car_price</th>\n",
       "      <th>leisure_car_price</th>\n",
       "      <th>accompany_no_car_price</th>\n",
       "      <th>accompany_car_price</th>\n",
       "    </tr>\n",
       "  </thead>\n",
       "  <tbody>\n",
       "    <tr>\n",
       "      <th>168893</th>\n",
       "      <td>145220300</td>\n",
       "      <td>84265008</td>\n",
       "      <td>4.559722</td>\n",
       "      <td>[rl_105984, rl_105770, rl_105949, rl_105576, r...</td>\n",
       "      <td>300</td>\n",
       "      <td>16115</td>\n",
       "      <td>507631</td>\n",
       "      <td>car</td>\n",
       "      <td>(car,)</td>\n",
       "      <td>222.950263</td>\n",
       "      <td>...</td>\n",
       "      <td>236.375068</td>\n",
       "      <td>44.668628</td>\n",
       "      <td>244.485567</td>\n",
       "      <td>31.388766</td>\n",
       "      <td>184.958514</td>\n",
       "      <td>32.623156</td>\n",
       "      <td>146.5673</td>\n",
       "      <td>24.710305</td>\n",
       "      <td>153.494652</td>\n",
       "      <td>21.667618</td>\n",
       "    </tr>\n",
       "    <tr>\n",
       "      <th>42240</th>\n",
       "      <td>34610001</td>\n",
       "      <td>96790180</td>\n",
       "      <td>4.484444</td>\n",
       "      <td>[rl_243516, rl_242962, rl_243119, rl_243296, r...</td>\n",
       "      <td>300</td>\n",
       "      <td>15844</td>\n",
       "      <td>500667</td>\n",
       "      <td>car</td>\n",
       "      <td>(car,)</td>\n",
       "      <td>219.828068</td>\n",
       "      <td>...</td>\n",
       "      <td>233.068704</td>\n",
       "      <td>44.055836</td>\n",
       "      <td>241.067937</td>\n",
       "      <td>30.958155</td>\n",
       "      <td>182.357514</td>\n",
       "      <td>32.175611</td>\n",
       "      <td>144.492975</td>\n",
       "      <td>24.371314</td>\n",
       "      <td>151.325293</td>\n",
       "      <td>21.370368</td>\n",
       "    </tr>\n",
       "  </tbody>\n",
       "</table>\n",
       "<p>2 rows × 21 columns</p>\n",
       "</div>"
      ],
      "text/plain": [
       "           origin destination      time  \\\n",
       "168893  145220300    84265008  4.559722   \n",
       "42240    34610001    96790180  4.484444   \n",
       "\n",
       "                                                link_path  access_time  \\\n",
       "168893  [rl_105984, rl_105770, rl_105949, rl_105576, r...          300   \n",
       "42240   [rl_243516, rl_242962, rl_243119, rl_243296, r...          300   \n",
       "\n",
       "        in_vehicle_time  length route_type route_types commuting_no_car_price  \\\n",
       "168893            16115  507631        car      (car,)             222.950263   \n",
       "42240             15844  500667        car      (car,)             219.828068   \n",
       "\n",
       "        ... business_no_car_price business_car_price education_no_car_price  \\\n",
       "168893  ...            236.375068          44.668628             244.485567   \n",
       "42240   ...            233.068704          44.055836             241.067937   \n",
       "\n",
       "       education_car_price buy/execute_no_car_price buy/execute_car_price  \\\n",
       "168893           31.388766               184.958514             32.623156   \n",
       "42240            30.958155               182.357514             32.175611   \n",
       "\n",
       "       leisure_no_car_price leisure_car_price accompany_no_car_price  \\\n",
       "168893             146.5673         24.710305             153.494652   \n",
       "42240            144.492975         24.371314             151.325293   \n",
       "\n",
       "       accompany_car_price  \n",
       "168893           21.667618  \n",
       "42240            21.370368  \n",
       "\n",
       "[2 rows x 21 columns]"
      ]
     },
     "execution_count": 10,
     "metadata": {},
     "output_type": "execute_result"
    }
   ],
   "source": [
    "sm.car_los.sample(2)"
   ]
  },
  {
   "cell_type": "code",
   "execution_count": 11,
   "metadata": {},
   "outputs": [
    {
     "data": {
      "image/png": "[encoded data removed]",
      "text/plain": [
       "<Figure size 640x480 with 1 Axes>"
      ]
     },
     "metadata": {},
     "output_type": "display_data"
    }
   ],
   "source": [
    "if manual: sm.car_los.set_index('length')[[s+'_price' for s in segments if len(s.split('_'))<3]].plot(alpha=.5)"
   ]
  },
  {
   "cell_type": "markdown",
   "metadata": {},
   "source": [
    "## Save model"
   ]
  },
  {
   "cell_type": "code",
   "execution_count": 12,
   "metadata": {},
   "outputs": [],
   "source": [
    "# Make table smaller\n",
    "cols = ['access_time', 'in_vehicle_time', 'length']\n",
    "sm.car_los[cols] = sm.car_los[cols].astype(int)"
   ]
  },
  {
   "cell_type": "code",
   "execution_count": 13,
   "metadata": {},
   "outputs": [
    {
     "name": "stderr",
     "output_type": "stream",
     "text": [
      "zones: 100%|█████████████████████████████████████████████████████████████████████████████| 8/8 [00:31<00:00,  3.90s/it]\n"
     ]
    }
   ],
   "source": [
    "sm.to_zippedpickles(model_path + 'de_road_los', only_attributes=['car_los'])"
   ]
  }
 ],
 "metadata": {
  "kernelspec": {
   "display_name": "Python 3 (ipykernel)",
   "language": "python",
   "name": "python3"
  },
  "language_info": {
   "codemirror_mode": {
    "name": "ipython",
    "version": 3
   },
   "file_extension": ".py",
   "mimetype": "text/x-python",
   "name": "python",
   "nbconvert_exporter": "python",
   "pygments_lexer": "ipython3",
   "version": "3.10.14"
  }
 },
 "nbformat": 4,
 "nbformat_minor": 4
}
