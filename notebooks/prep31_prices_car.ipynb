{
 "cells": [
  {
   "cell_type": "code",
   "execution_count": 1,
   "metadata": {},
   "outputs": [],
   "source": [
    "import sys # for automation and parallelisation\n",
    "manual, scenario = (True, 'base') if 'ipykernel' in sys.argv[0] else (False, sys.argv[1])"
   ]
  },
  {
   "cell_type": "code",
   "execution_count": 2,
   "metadata": {},
   "outputs": [],
   "source": [
    "import math\n",
    "import os\n",
    "import numpy as np\n",
    "import pandas as pd\n",
    "import geopandas as gpd\n",
    "from shapely import geometry\n",
    "from quetzal.model import stepmodel\n",
    "from quetzal.io import excel"
   ]
  },
  {
   "cell_type": "markdown",
   "metadata": {},
   "source": [
    "# Preparation of the LoS tables\n",
    "## Saves LoS attribtute price for cars\n",
    "## Needs shortest paths of the the road network"
   ]
  },
  {
   "cell_type": "code",
   "execution_count": 3,
   "metadata": {},
   "outputs": [],
   "source": [
    "input_path = '../input_static/'\n",
    "output_path = '../output/'\n",
    "model_path = '../model/' + scenario + '/'"
   ]
  },
  {
   "cell_type": "code",
   "execution_count": 4,
   "metadata": {},
   "outputs": [],
   "source": [
    "# Create a path for scenario-specific model files\n",
    "if not os.path.exists(model_path):\n",
    "    os.makedirs(model_path)"
   ]
  },
  {
   "cell_type": "code",
   "execution_count": 5,
   "metadata": {},
   "outputs": [],
   "source": [
    "# Load scenario parameters\n",
    "params = excel.read_var(file='../input/parameters.xls', scenario=scenario)"
   ]
  },
  {
   "cell_type": "code",
   "execution_count": 6,
   "metadata": {},
   "outputs": [
    {
     "name": "stderr",
     "output_type": "stream",
     "text": [
      "car_los: 100%|███████████████████████████████████████████████████████████████████████████| 1/1 [00:03<00:00,  3.63s/it]\n"
     ]
    }
   ],
   "source": [
    "sm = stepmodel.read_zippedpickles(model_path + 'de_road_los')\n",
    "z = stepmodel.read_json(model_path + 'de_zones')\n",
    "sm.zones = z.zones"
   ]
  },
  {
   "cell_type": "code",
   "execution_count": 7,
   "metadata": {},
   "outputs": [
    {
     "data": {
      "text/plain": [
       "3.086590505294806"
      ]
     },
     "execution_count": 7,
     "metadata": {},
     "output_type": "execute_result"
    }
   ],
   "source": [
    "# Scale time to hours\n",
    "if sm.car_los['time'].mean() > 1000:\n",
    "    sm.car_los['time'] = sm.car_los['time'] / 3600\n",
    "print(sm.car_los['time'].mean())\n",
    "assert sm.car_los['time'].mean() < 100"
   ]
  },
  {
   "cell_type": "markdown",
   "metadata": {},
   "source": [
    "## Add cost to LoS table"
   ]
  },
  {
   "cell_type": "code",
   "execution_count": 8,
   "metadata": {},
   "outputs": [],
   "source": [
    "# Data from parameters\n",
    "parking_cost = params['parking_cost']\n",
    "car_occ = params['car_occ']\n",
    "urb_dict = sm.zones['urbanisation'].to_dict()\n",
    "urb_dict = {str(key): val for key, val in urb_dict.items()}\n",
    "segments = [s.strip() for s in params['general']['demand_segments'].split(';')]"
   ]
  },
  {
   "cell_type": "code",
   "execution_count": 9,
   "metadata": {},
   "outputs": [],
   "source": [
    "for seg in segments:\n",
    "    sm.car_los[seg+'_price'] = (sm.car_los['length']/1000 * params['car_var_cost'][seg]\n",
    "                                + sm.car_los['destination'].map(urb_dict).astype(int).map(parking_cost)\n",
    "                               ) / car_occ[seg] \\\n",
    "                               + params['car_fix_cost'][seg] * sm.car_los['time']"
   ]
  },
  {
   "cell_type": "code",
   "execution_count": 10,
   "metadata": {},
   "outputs": [
    {
     "data": {
      "text/html": [
       "<div>\n",
       "<style scoped>\n",
       "    .dataframe tbody tr th:only-of-type {\n",
       "        vertical-align: middle;\n",
       "    }\n",
       "\n",
       "    .dataframe tbody tr th {\n",
       "        vertical-align: top;\n",
       "    }\n",
       "\n",
       "    .dataframe thead th {\n",
       "        text-align: right;\n",
       "    }\n",
       "</style>\n",
       "<table border=\"1\" class=\"dataframe\">\n",
       "  <thead>\n",
       "    <tr style=\"text-align: right;\">\n",
       "      <th></th>\n",
       "      <th>origin</th>\n",
       "      <th>destination</th>\n",
       "      <th>time</th>\n",
       "      <th>link_path</th>\n",
       "      <th>access_time</th>\n",
       "      <th>in_vehicle_time</th>\n",
       "      <th>length</th>\n",
       "      <th>route_type</th>\n",
       "      <th>route_types</th>\n",
       "      <th>commuting_no_car_price</th>\n",
       "      <th>...</th>\n",
       "      <th>business_no_car_price</th>\n",
       "      <th>business_car_price</th>\n",
       "      <th>education_no_car_price</th>\n",
       "      <th>education_car_price</th>\n",
       "      <th>buy/execute_no_car_price</th>\n",
       "      <th>buy/execute_car_price</th>\n",
       "      <th>leisure_no_car_price</th>\n",
       "      <th>leisure_car_price</th>\n",
       "      <th>accompany_no_car_price</th>\n",
       "      <th>accompany_car_price</th>\n",
       "    </tr>\n",
       "  </thead>\n",
       "  <tbody>\n",
       "    <tr>\n",
       "      <th>165915</th>\n",
       "      <td>96710148</td>\n",
       "      <td>96770157</td>\n",
       "      <td>0.597778</td>\n",
       "      <td>[248502, 248563, 249221, 249272, 331548, 33688...</td>\n",
       "      <td>300</td>\n",
       "      <td>1852</td>\n",
       "      <td>36553</td>\n",
       "      <td>car</td>\n",
       "      <td>(car,)</td>\n",
       "      <td>17.401215</td>\n",
       "      <td>...</td>\n",
       "      <td>18.367895</td>\n",
       "      <td>3.216455</td>\n",
       "      <td>18.951908</td>\n",
       "      <td>2.260212</td>\n",
       "      <td>14.665542</td>\n",
       "      <td>2.349096</td>\n",
       "      <td>11.901104</td>\n",
       "      <td>1.779316</td>\n",
       "      <td>12.399922</td>\n",
       "      <td>1.560221</td>\n",
       "    </tr>\n",
       "    <tr>\n",
       "      <th>152392</th>\n",
       "      <td>64110000</td>\n",
       "      <td>93745323</td>\n",
       "      <td>3.225833</td>\n",
       "      <td>[411306, 417330, 410835, 411307, 410533, 41720...</td>\n",
       "      <td>300</td>\n",
       "      <td>11313</td>\n",
       "      <td>364649</td>\n",
       "      <td>car</td>\n",
       "      <td>(car,)</td>\n",
       "      <td>159.905058</td>\n",
       "      <td>...</td>\n",
       "      <td>169.548563</td>\n",
       "      <td>32.087029</td>\n",
       "      <td>175.374616</td>\n",
       "      <td>22.547642</td>\n",
       "      <td>132.614264</td>\n",
       "      <td>23.434347</td>\n",
       "      <td>105.03652</td>\n",
       "      <td>17.750271</td>\n",
       "      <td>110.012678</td>\n",
       "      <td>15.564604</td>\n",
       "    </tr>\n",
       "  </tbody>\n",
       "</table>\n",
       "<p>2 rows × 21 columns</p>\n",
       "</div>"
      ],
      "text/plain": [
       "          origin destination      time  \\\n",
       "165915  96710148    96770157  0.597778   \n",
       "152392  64110000    93745323  3.225833   \n",
       "\n",
       "                                                link_path  access_time  \\\n",
       "165915  [248502, 248563, 249221, 249272, 331548, 33688...          300   \n",
       "152392  [411306, 417330, 410835, 411307, 410533, 41720...          300   \n",
       "\n",
       "        in_vehicle_time  length route_type route_types commuting_no_car_price  \\\n",
       "165915             1852   36553        car      (car,)              17.401215   \n",
       "152392            11313  364649        car      (car,)             159.905058   \n",
       "\n",
       "        ... business_no_car_price business_car_price education_no_car_price  \\\n",
       "165915  ...             18.367895           3.216455              18.951908   \n",
       "152392  ...            169.548563          32.087029             175.374616   \n",
       "\n",
       "       education_car_price buy/execute_no_car_price buy/execute_car_price  \\\n",
       "165915            2.260212                14.665542              2.349096   \n",
       "152392           22.547642               132.614264             23.434347   \n",
       "\n",
       "       leisure_no_car_price leisure_car_price accompany_no_car_price  \\\n",
       "165915            11.901104          1.779316              12.399922   \n",
       "152392            105.03652         17.750271             110.012678   \n",
       "\n",
       "       accompany_car_price  \n",
       "165915            1.560221  \n",
       "152392           15.564604  \n",
       "\n",
       "[2 rows x 21 columns]"
      ]
     },
     "execution_count": 10,
     "metadata": {},
     "output_type": "execute_result"
    }
   ],
   "source": [
    "sm.car_los.sample(2)"
   ]
  },
  {
   "cell_type": "code",
   "execution_count": 11,
   "metadata": {},
   "outputs": [
    {
     "data": {
      "image/png": "[encoded data removed]",
      "text/plain": [
       "<Figure size 640x480 with 1 Axes>"
      ]
     },
     "metadata": {},
     "output_type": "display_data"
    }
   ],
   "source": [
    "if manual: sm.car_los.set_index('length')[[s+'_price' for s in segments if len(s.split('_'))<3]].plot(alpha=.5)"
   ]
  },
  {
   "cell_type": "markdown",
   "metadata": {},
   "source": [
    "## Save model"
   ]
  },
  {
   "cell_type": "code",
   "execution_count": 12,
   "metadata": {},
   "outputs": [],
   "source": [
    "# Make table smaller\n",
    "cols = ['access_time', 'in_vehicle_time', 'length']\n",
    "sm.car_los[cols] = sm.car_los[cols].astype(int)"
   ]
  },
  {
   "cell_type": "code",
   "execution_count": 13,
   "metadata": {},
   "outputs": [
    {
     "name": "stderr",
     "output_type": "stream",
     "text": [
      "zones: 100%|█████████████████████████████████████████████████████████████████████████████| 8/8 [00:20<00:00,  2.51s/it]\n"
     ]
    }
   ],
   "source": [
    "sm.to_zippedpickles(model_path + 'de_road_los', only_attributes=['car_los'])"
   ]
  }
 ],
 "metadata": {
  "kernelspec": {
   "display_name": "Python 3 (ipykernel)",
   "language": "python",
   "name": "python3"
  },
  "language_info": {
   "codemirror_mode": {
    "name": "ipython",
    "version": 3
   },
   "file_extension": ".py",
   "mimetype": "text/x-python",
   "name": "python",
   "nbconvert_exporter": "python",
   "pygments_lexer": "ipython3",
   "version": "3.10.14"
  }
 },
 "nbformat": 4,
 "nbformat_minor": 4
}
