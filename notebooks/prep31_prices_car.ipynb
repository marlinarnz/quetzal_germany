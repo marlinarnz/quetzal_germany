{
 "cells": [
  {
   "cell_type": "code",
   "execution_count": 1,
   "metadata": {},
   "outputs": [
    {
     "name": "stderr",
     "output_type": "stream",
     "text": [
      "\n",
      "Bad key text.latex.preview in file C:\\Users\\marlin.arnz\\AppData\\Local\\Continuum\\miniconda3\\envs\\quetzal\\lib\\site-packages\\matplotlib\\mpl-data\\stylelib\\_classic_test.mplstyle, line 123 ('text.latex.preview : False')\n",
      "You probably need to get an updated matplotlibrc file from\n",
      "https://github.com/matplotlib/matplotlib/blob/v3.5.1/matplotlibrc.template\n",
      "or from the matplotlib source distribution\n",
      "\n",
      "Bad key mathtext.fallback_to_cm in file C:\\Users\\marlin.arnz\\AppData\\Local\\Continuum\\miniconda3\\envs\\quetzal\\lib\\site-packages\\matplotlib\\mpl-data\\stylelib\\_classic_test.mplstyle, line 155 ('mathtext.fallback_to_cm : True  # When True, use symbols from the Computer Modern')\n",
      "You probably need to get an updated matplotlibrc file from\n",
      "https://github.com/matplotlib/matplotlib/blob/v3.5.1/matplotlibrc.template\n",
      "or from the matplotlib source distribution\n",
      "\n",
      "Bad key savefig.jpeg_quality in file C:\\Users\\marlin.arnz\\AppData\\Local\\Continuum\\miniconda3\\envs\\quetzal\\lib\\site-packages\\matplotlib\\mpl-data\\stylelib\\_classic_test.mplstyle, line 418 ('savefig.jpeg_quality: 95       # when a jpeg is saved, the default quality parameter.')\n",
      "You probably need to get an updated matplotlibrc file from\n",
      "https://github.com/matplotlib/matplotlib/blob/v3.5.1/matplotlibrc.template\n",
      "or from the matplotlib source distribution\n",
      "\n",
      "Bad key keymap.all_axes in file C:\\Users\\marlin.arnz\\AppData\\Local\\Continuum\\miniconda3\\envs\\quetzal\\lib\\site-packages\\matplotlib\\mpl-data\\stylelib\\_classic_test.mplstyle, line 466 ('keymap.all_axes : a                 # enable all axes')\n",
      "You probably need to get an updated matplotlibrc file from\n",
      "https://github.com/matplotlib/matplotlib/blob/v3.5.1/matplotlibrc.template\n",
      "or from the matplotlib source distribution\n",
      "\n",
      "Bad key animation.avconv_path in file C:\\Users\\marlin.arnz\\AppData\\Local\\Continuum\\miniconda3\\envs\\quetzal\\lib\\site-packages\\matplotlib\\mpl-data\\stylelib\\_classic_test.mplstyle, line 477 ('animation.avconv_path: avconv     # Path to avconv binary. Without full path')\n",
      "You probably need to get an updated matplotlibrc file from\n",
      "https://github.com/matplotlib/matplotlib/blob/v3.5.1/matplotlibrc.template\n",
      "or from the matplotlib source distribution\n",
      "\n",
      "Bad key animation.avconv_args in file C:\\Users\\marlin.arnz\\AppData\\Local\\Continuum\\miniconda3\\envs\\quetzal\\lib\\site-packages\\matplotlib\\mpl-data\\stylelib\\_classic_test.mplstyle, line 479 ('animation.avconv_args:            # Additional arguments to pass to avconv')\n",
      "You probably need to get an updated matplotlibrc file from\n",
      "https://github.com/matplotlib/matplotlib/blob/v3.5.1/matplotlibrc.template\n",
      "or from the matplotlib source distribution\n"
     ]
    }
   ],
   "source": [
    "import sys # for automation and parallelisation\n",
    "manual, scenario = (True, 'base') if 'ipykernel' in sys.argv[0] else (False, sys.argv[1])\n",
    "if manual:\n",
    "    %matplotlib inline"
   ]
  },
  {
   "cell_type": "code",
   "execution_count": 2,
   "metadata": {},
   "outputs": [],
   "source": [
    "import math\n",
    "import os\n",
    "import numpy as np\n",
    "import pandas as pd\n",
    "import geopandas as gpd\n",
    "from shapely import geometry\n",
    "from quetzal.model import stepmodel\n",
    "from quetzal.io import excel"
   ]
  },
  {
   "cell_type": "markdown",
   "metadata": {},
   "source": [
    "# Preparation of the LoS tables\n",
    "## Saves LoS attribtute price for cars\n",
    "## Needs shortest paths of the the road network"
   ]
  },
  {
   "cell_type": "code",
   "execution_count": 3,
   "metadata": {},
   "outputs": [],
   "source": [
    "input_path = '../input_static/'\n",
    "output_path = '../output/'\n",
    "model_path = '../model/'"
   ]
  },
  {
   "cell_type": "code",
   "execution_count": 4,
   "metadata": {},
   "outputs": [],
   "source": [
    "# Create a path for scenario-specific model files\n",
    "if not os.path.exists(model_path + scenario + '/'):\n",
    "    os.makedirs(model_path + scenario + '/')"
   ]
  },
  {
   "cell_type": "code",
   "execution_count": 5,
   "metadata": {},
   "outputs": [],
   "source": [
    "# Load scenario parameters\n",
    "params = excel.read_var(file='../input/parameters.xls', scenario=scenario)"
   ]
  },
  {
   "cell_type": "code",
   "execution_count": 6,
   "metadata": {},
   "outputs": [],
   "source": [
    "sm = stepmodel.read_json(model_path + scenario + '/de_road_los')\n",
    "z = stepmodel.read_json(model_path + 'de_zones')\n",
    "sm.zones = z.zones"
   ]
  },
  {
   "cell_type": "markdown",
   "metadata": {},
   "source": [
    "## Add cost to LoS table"
   ]
  },
  {
   "cell_type": "code",
   "execution_count": 7,
   "metadata": {},
   "outputs": [],
   "source": [
    "def monetary_cost(length, rf, vc, ac, al, ec, el, sf):\n",
    "    \"\"\" calculate monetary cost of travelling one O-D realtion within the LoS table\n",
    "    :param length: length of main leg in meter\n",
    "    :param df: regression factor for length (to be calibrated beforehand)\n",
    "    :param vc: distance-specific transport cost\n",
    "    :param ac: access cost\n",
    "    :param al: access link length (m)\n",
    "    :param ec: egress cost\n",
    "    :param el: egress link length (m)\n",
    "    :param sf: sharing factor (e.g. occupancy factor of a car)\n",
    "    :return: monetary cost\"\"\"\n",
    "    return (math.pow(length, rf) * vc + ac * al + ec * el) / sf"
   ]
  },
  {
   "cell_type": "markdown",
   "metadata": {},
   "source": [
    "Take only perceived variable cost for distance-dependency.<br>\n",
    "Assume monthly mileage of 15,000km / 12<br>"
   ]
  },
  {
   "cell_type": "markdown",
   "metadata": {},
   "source": [
    "Instead of fix cost per trip, one can also assume ownership cost per hour of vehicle usage. This is also the approach chosen for the German federal governments transport study. In the methodical handbook gasoline cars have engine class weighted specific ownership cost of 0.71 EUR/h and diesel cars 0.99 EUR/h (other propulsion systems don't play a significant role). Multiplied with 2017's shares of gasoline and diesel cars (66.5%; 33.5%) this yields weighted average ownership cost of 0.8 EUR/h."
   ]
  },
  {
   "cell_type": "code",
   "execution_count": 8,
   "metadata": {},
   "outputs": [],
   "source": [
    "# Prep\n",
    "parking_cost = params['parking_cost']\n",
    "car_occ = params['car_occ']\n",
    "urb_dict = sm.zones['urbanisation'].to_dict()"
   ]
  },
  {
   "cell_type": "code",
   "execution_count": 9,
   "metadata": {},
   "outputs": [
    {
     "data": {
      "text/plain": [
       "4.143878616539014"
      ]
     },
     "execution_count": 9,
     "metadata": {},
     "output_type": "execute_result"
    }
   ],
   "source": [
    "# Scale time to hours\n",
    "if sm.car_los['time'].mean() > 3600:\n",
    "    sm.car_los['time'] = sm.car_los['time'] / 3600\n",
    "assert sm.car_los['time'].mean() < 10\n",
    "sm.car_los['time'].mean()"
   ]
  },
  {
   "cell_type": "code",
   "execution_count": 10,
   "metadata": {},
   "outputs": [],
   "source": [
    "segments = [s.strip() for s in params['general']['demand_segments'].split(';')]\n",
    "for seg in segments:\n",
    "    vc_car = params['car_var_cost'][seg]\n",
    "    fix_car = params['car_fix_cost'][seg]\n",
    "    sm.car_los[seg+'_price'] = sm.car_los.apply(\n",
    "        lambda df: monetary_cost(\n",
    "        df['length']/1000, 1, vc_car,\n",
    "        0,0, # parking at home is for free\n",
    "        parking_cost[int(urb_dict[df['destination']])], 1,\n",
    "        car_occ[seg])\n",
    "        + fix_car * df['time'], axis=1)"
   ]
  },
  {
   "cell_type": "code",
   "execution_count": 11,
   "metadata": {},
   "outputs": [
    {
     "data": {
      "text/html": [
       "<div>\n",
       "<style scoped>\n",
       "    .dataframe tbody tr th:only-of-type {\n",
       "        vertical-align: middle;\n",
       "    }\n",
       "\n",
       "    .dataframe tbody tr th {\n",
       "        vertical-align: top;\n",
       "    }\n",
       "\n",
       "    .dataframe thead th {\n",
       "        text-align: right;\n",
       "    }\n",
       "</style>\n",
       "<table border=\"1\" class=\"dataframe\">\n",
       "  <thead>\n",
       "    <tr style=\"text-align: right;\">\n",
       "      <th></th>\n",
       "      <th>origin</th>\n",
       "      <th>destination</th>\n",
       "      <th>route_types</th>\n",
       "      <th>link_path</th>\n",
       "      <th>ntransfers</th>\n",
       "      <th>length</th>\n",
       "      <th>access_time</th>\n",
       "      <th>footpath_time</th>\n",
       "      <th>in_vehicle_time</th>\n",
       "      <th>waiting_time</th>\n",
       "      <th>...</th>\n",
       "      <th>business_no_car_price</th>\n",
       "      <th>business_car_price</th>\n",
       "      <th>education_no_car_price</th>\n",
       "      <th>education_car_price</th>\n",
       "      <th>buy/execute_no_car_price</th>\n",
       "      <th>buy/execute_car_price</th>\n",
       "      <th>leisure_no_car_price</th>\n",
       "      <th>leisure_car_price</th>\n",
       "      <th>accompany_no_car_price</th>\n",
       "      <th>accompany_car_price</th>\n",
       "    </tr>\n",
       "    <tr>\n",
       "      <th>index</th>\n",
       "      <th></th>\n",
       "      <th></th>\n",
       "      <th></th>\n",
       "      <th></th>\n",
       "      <th></th>\n",
       "      <th></th>\n",
       "      <th></th>\n",
       "      <th></th>\n",
       "      <th></th>\n",
       "      <th></th>\n",
       "      <th></th>\n",
       "      <th></th>\n",
       "      <th></th>\n",
       "      <th></th>\n",
       "      <th></th>\n",
       "      <th></th>\n",
       "      <th></th>\n",
       "      <th></th>\n",
       "      <th></th>\n",
       "      <th></th>\n",
       "      <th></th>\n",
       "    </tr>\n",
       "  </thead>\n",
       "  <tbody>\n",
       "    <tr>\n",
       "      <th>592714</th>\n",
       "      <td>DE235</td>\n",
       "      <td>DE21N</td>\n",
       "      <td>[car]</td>\n",
       "      <td>[rl_371066, rl_357215, rl_51541, rl_357218, rl...</td>\n",
       "      <td>NaN</td>\n",
       "      <td>237931</td>\n",
       "      <td>600</td>\n",
       "      <td>NaT</td>\n",
       "      <td>9454</td>\n",
       "      <td>NaT</td>\n",
       "      <td>...</td>\n",
       "      <td>143.084980</td>\n",
       "      <td>20.936569</td>\n",
       "      <td>147.988313</td>\n",
       "      <td>14.712184</td>\n",
       "      <td>112.000273</td>\n",
       "      <td>15.290753</td>\n",
       "      <td>88.790246</td>\n",
       "      <td>11.581932</td>\n",
       "      <td>92.978288</td>\n",
       "      <td>10.155798</td>\n",
       "    </tr>\n",
       "    <tr>\n",
       "      <th>586255</th>\n",
       "      <td>DE221</td>\n",
       "      <td>DE118</td>\n",
       "      <td>[car]</td>\n",
       "      <td>[rl_444641, rl_447605, rl_243216, rl_112223, r...</td>\n",
       "      <td>NaN</td>\n",
       "      <td>298455</td>\n",
       "      <td>600</td>\n",
       "      <td>NaT</td>\n",
       "      <td>10894</td>\n",
       "      <td>NaT</td>\n",
       "      <td>...</td>\n",
       "      <td>177.930322</td>\n",
       "      <td>26.262335</td>\n",
       "      <td>184.080946</td>\n",
       "      <td>18.454614</td>\n",
       "      <td>138.938403</td>\n",
       "      <td>19.180357</td>\n",
       "      <td>109.824295</td>\n",
       "      <td>14.528100</td>\n",
       "      <td>115.077676</td>\n",
       "      <td>12.739192</td>\n",
       "    </tr>\n",
       "  </tbody>\n",
       "</table>\n",
       "<p>2 rows × 49 columns</p>\n",
       "</div>"
      ],
      "text/plain": [
       "       origin destination route_types  \\\n",
       "index                                   \n",
       "592714  DE235       DE21N       [car]   \n",
       "586255  DE221       DE118       [car]   \n",
       "\n",
       "                                                link_path  ntransfers  length  \\\n",
       "index                                                                           \n",
       "592714  [rl_371066, rl_357215, rl_51541, rl_357218, rl...         NaN  237931   \n",
       "586255  [rl_444641, rl_447605, rl_243216, rl_112223, r...         NaN  298455   \n",
       "\n",
       "        access_time footpath_time  in_vehicle_time waiting_time  ...  \\\n",
       "index                                                            ...   \n",
       "592714          600           NaT             9454          NaT  ...   \n",
       "586255          600           NaT            10894          NaT  ...   \n",
       "\n",
       "        business_no_car_price business_car_price  education_no_car_price  \\\n",
       "index                                                                      \n",
       "592714             143.084980          20.936569              147.988313   \n",
       "586255             177.930322          26.262335              184.080946   \n",
       "\n",
       "        education_car_price  buy/execute_no_car_price  buy/execute_car_price  \\\n",
       "index                                                                          \n",
       "592714            14.712184                112.000273              15.290753   \n",
       "586255            18.454614                138.938403              19.180357   \n",
       "\n",
       "        leisure_no_car_price  leisure_car_price  accompany_no_car_price  \\\n",
       "index                                                                     \n",
       "592714             88.790246          11.581932               92.978288   \n",
       "586255            109.824295          14.528100              115.077676   \n",
       "\n",
       "        accompany_car_price  \n",
       "index                        \n",
       "592714            10.155798  \n",
       "586255            12.739192  \n",
       "\n",
       "[2 rows x 49 columns]"
      ]
     },
     "execution_count": 11,
     "metadata": {},
     "output_type": "execute_result"
    }
   ],
   "source": [
    "sm.car_los.sample(2)"
   ]
  },
  {
   "cell_type": "code",
   "execution_count": 14,
   "metadata": {},
   "outputs": [
    {
     "data": {
      "text/plain": [
       "<AxesSubplot:xlabel='length'>"
      ]
     },
     "execution_count": 14,
     "metadata": {},
     "output_type": "execute_result"
    },
    {
     "data": {
      "image/png": "[encoded data removed]",
      "text/plain": [
       "<Figure size 432x288 with 1 Axes>"
      ]
     },
     "metadata": {
      "needs_background": "light"
     },
     "output_type": "display_data"
    }
   ],
   "source": [
    "sm.car_los.set_index('length')[[s+'_price' for s in segments if len(s.split('_'))<3]].plot(alpha=.5)"
   ]
  },
  {
   "cell_type": "markdown",
   "metadata": {},
   "source": [
    "## Save model"
   ]
  },
  {
   "cell_type": "code",
   "execution_count": 15,
   "metadata": {},
   "outputs": [],
   "source": [
    "# Make table smaller\n",
    "cols = ['access_time', 'in_vehicle_time', 'length']\n",
    "sm.car_los[cols] = sm.car_los[cols].astype(int)"
   ]
  },
  {
   "cell_type": "code",
   "execution_count": 16,
   "metadata": {},
   "outputs": [
    {
     "name": "stderr",
     "output_type": "stream",
     "text": [
      "to_hdf(overwriting): 100%|█████████████████████████████████████████████████████████████| 34/34 [00:13<00:00,  2.47it/s]\n"
     ]
    }
   ],
   "source": [
    "sm.to_json(model_path + scenario + '/' + 'de_road_los',\n",
    "           only_attributes=['car_los'], encoding='utf-8')"
   ]
  }
 ],
 "metadata": {
  "kernelspec": {
   "display_name": "Python 3",
   "language": "python",
   "name": "python3"
  },
  "language_info": {
   "codemirror_mode": {
    "name": "ipython",
    "version": 3
   },
   "file_extension": ".py",
   "mimetype": "text/x-python",
   "name": "python",
   "nbconvert_exporter": "python",
   "pygments_lexer": "ipython3",
   "version": "3.8.13"
  }
 },
 "nbformat": 4,
 "nbformat_minor": 2
}
