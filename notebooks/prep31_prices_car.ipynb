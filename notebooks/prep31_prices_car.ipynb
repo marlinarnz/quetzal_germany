{
 "cells": [
  {
   "cell_type": "code",
   "execution_count": 1,
   "metadata": {},
   "outputs": [],
   "source": [
    "import sys # for automation and parallelisation\n",
    "manual, scenario = (True, 'base') if 'ipykernel' in sys.argv[0] else (False, sys.argv[1])\n",
    "if manual:\n",
    "    %matplotlib inline"
   ]
  },
  {
   "cell_type": "code",
   "execution_count": 2,
   "metadata": {},
   "outputs": [
    {
     "name": "stdout",
     "output_type": "stream",
     "text": [
      "PyTables is not installed. No support for HDF output.\n",
      "SQLalchemy is not installed. No support for SQL output.\n"
     ]
    }
   ],
   "source": [
    "import math\n",
    "import os\n",
    "import numpy as np\n",
    "import pandas as pd\n",
    "import geopandas as gpd\n",
    "from shapely import geometry\n",
    "from quetzal.model import stepmodel\n",
    "from quetzal.io import excel"
   ]
  },
  {
   "cell_type": "markdown",
   "metadata": {},
   "source": [
    "# Preparation of the LoS tables\n",
    "## Saves LoS attribtute price for cars\n",
    "## Needs shortest paths of the the road network"
   ]
  },
  {
   "cell_type": "code",
   "execution_count": 3,
   "metadata": {},
   "outputs": [],
   "source": [
    "input_path = '../input_static/'\n",
    "output_path = '../output/'\n",
    "model_path = '../model/' + scenario + '/'"
   ]
  },
  {
   "cell_type": "code",
   "execution_count": 4,
   "metadata": {},
   "outputs": [],
   "source": [
    "# Create a path for scenario-specific model files\n",
    "if not os.path.exists(model_path):\n",
    "    os.makedirs(model_path)"
   ]
  },
  {
   "cell_type": "code",
   "execution_count": 5,
   "metadata": {},
   "outputs": [],
   "source": [
    "# Load scenario parameters\n",
    "params = excel.read_var(file='../input/parameters.xls', scenario=scenario)"
   ]
  },
  {
   "cell_type": "code",
   "execution_count": 6,
   "metadata": {},
   "outputs": [],
   "source": [
    "sm = stepmodel.read_json(model_path + 'de_road_los')\n",
    "z = stepmodel.read_json(model_path + 'de_zones')\n",
    "sm.zones = z.zones"
   ]
  },
  {
   "cell_type": "markdown",
   "metadata": {},
   "source": [
    "## Add cost to LoS table"
   ]
  },
  {
   "cell_type": "code",
   "execution_count": 7,
   "metadata": {},
   "outputs": [],
   "source": [
    "def monetary_cost(length, rf, vc, ac, al, ec, el, sf):\n",
    "    \"\"\" calculate monetary cost of travelling one O-D realtion within the LoS table\n",
    "    :param length: length of main leg in meter\n",
    "    :param df: regression factor for length (to be calibrated beforehand)\n",
    "    :param vc: distance-specific transport cost\n",
    "    :param ac: access cost\n",
    "    :param al: access link length (m)\n",
    "    :param ec: egress cost\n",
    "    :param el: egress link length (m)\n",
    "    :param sf: sharing factor (e.g. occupancy factor of a car)\n",
    "    :return: monetary cost\"\"\"\n",
    "    return (math.pow(length, rf) * vc + ac * al + ec * el) / sf"
   ]
  },
  {
   "cell_type": "markdown",
   "metadata": {},
   "source": [
    "Take only perceived variable cost for distance-dependency.<br>\n",
    "Assume monthly mileage of 15,000km / 12<br>"
   ]
  },
  {
   "cell_type": "markdown",
   "metadata": {},
   "source": [
    "Instead of fix cost per trip, one can also assume ownership cost per hour of vehicle usage. This is also the approach chosen for the German federal governments transport study. In the methodical handbook gasoline cars have engine class weighted specific ownership cost of 0.71 EUR/h and diesel cars 0.99 EUR/h (other propulsion systems don't play a significant role). Multiplied with 2017's shares of gasoline and diesel cars (66.5%; 33.5%) this yields weighted average ownership cost of 0.8 EUR/h."
   ]
  },
  {
   "cell_type": "code",
   "execution_count": 8,
   "metadata": {},
   "outputs": [],
   "source": [
    "# Prep\n",
    "parking_cost = params['parking_cost']\n",
    "car_occ = params['car_occ']\n",
    "urb_dict = sm.zones['urbanisation'].to_dict()"
   ]
  },
  {
   "cell_type": "code",
   "execution_count": 9,
   "metadata": {},
   "outputs": [
    {
     "data": {
      "text/plain": [
       "4.239213813569879"
      ]
     },
     "execution_count": 9,
     "metadata": {},
     "output_type": "execute_result"
    }
   ],
   "source": [
    "# Scale time to hours\n",
    "if sm.car_los['time'].mean() > 3600:\n",
    "    sm.car_los['time'] = sm.car_los['time'] / 3600\n",
    "assert sm.car_los['time'].mean() < 10\n",
    "sm.car_los['time'].mean()"
   ]
  },
  {
   "cell_type": "code",
   "execution_count": 10,
   "metadata": {},
   "outputs": [],
   "source": [
    "segments = [s.strip() for s in params['general']['demand_segments'].split(';')]\n",
    "for seg in segments:\n",
    "    vc_car = params['car_var_cost'][seg]\n",
    "    fix_car = params['car_fix_cost'][seg]\n",
    "    sm.car_los[seg+'_price'] = sm.car_los.apply(\n",
    "        lambda df: monetary_cost(\n",
    "        df['length']/1000, 1, vc_car,\n",
    "        0,0, # parking at home is for free\n",
    "        parking_cost[int(urb_dict[df['destination']])], 1,\n",
    "        car_occ[seg])\n",
    "        + fix_car * df['time'], axis=1)"
   ]
  },
  {
   "cell_type": "code",
   "execution_count": 11,
   "metadata": {},
   "outputs": [
    {
     "data": {
      "text/html": [
       "<div>\n",
       "<style scoped>\n",
       "    .dataframe tbody tr th:only-of-type {\n",
       "        vertical-align: middle;\n",
       "    }\n",
       "\n",
       "    .dataframe tbody tr th {\n",
       "        vertical-align: top;\n",
       "    }\n",
       "\n",
       "    .dataframe thead th {\n",
       "        text-align: right;\n",
       "    }\n",
       "</style>\n",
       "<table border=\"1\" class=\"dataframe\">\n",
       "  <thead>\n",
       "    <tr style=\"text-align: right;\">\n",
       "      <th></th>\n",
       "      <th>origin</th>\n",
       "      <th>destination</th>\n",
       "      <th>time</th>\n",
       "      <th>link_path</th>\n",
       "      <th>access_time</th>\n",
       "      <th>in_vehicle_time</th>\n",
       "      <th>length</th>\n",
       "      <th>route_type</th>\n",
       "      <th>route_types</th>\n",
       "      <th>commuting_no_car_price</th>\n",
       "      <th>...</th>\n",
       "      <th>business_no_car_price</th>\n",
       "      <th>business_car_price</th>\n",
       "      <th>education_no_car_price</th>\n",
       "      <th>education_car_price</th>\n",
       "      <th>buy/execute_no_car_price</th>\n",
       "      <th>buy/execute_car_price</th>\n",
       "      <th>leisure_no_car_price</th>\n",
       "      <th>leisure_car_price</th>\n",
       "      <th>accompany_no_car_price</th>\n",
       "      <th>accompany_car_price</th>\n",
       "    </tr>\n",
       "    <tr>\n",
       "      <th>index</th>\n",
       "      <th></th>\n",
       "      <th></th>\n",
       "      <th></th>\n",
       "      <th></th>\n",
       "      <th></th>\n",
       "      <th></th>\n",
       "      <th></th>\n",
       "      <th></th>\n",
       "      <th></th>\n",
       "      <th></th>\n",
       "      <th></th>\n",
       "      <th></th>\n",
       "      <th></th>\n",
       "      <th></th>\n",
       "      <th></th>\n",
       "      <th></th>\n",
       "      <th></th>\n",
       "      <th></th>\n",
       "      <th></th>\n",
       "      <th></th>\n",
       "      <th></th>\n",
       "    </tr>\n",
       "  </thead>\n",
       "  <tbody>\n",
       "    <tr>\n",
       "      <th>795144</th>\n",
       "      <td>DE21H_8</td>\n",
       "      <td>DE277_5</td>\n",
       "      <td>1.747500</td>\n",
       "      <td>[rl_73746, rl_73747, rl_372615, rl_373543, rl_...</td>\n",
       "      <td>300</td>\n",
       "      <td>5991</td>\n",
       "      <td>120413</td>\n",
       "      <td>car</td>\n",
       "      <td>[car]</td>\n",
       "      <td>69.976111</td>\n",
       "      <td>...</td>\n",
       "      <td>74.083579</td>\n",
       "      <td>10.595656</td>\n",
       "      <td>76.565076</td>\n",
       "      <td>7.445596</td>\n",
       "      <td>58.352116</td>\n",
       "      <td>7.738401</td>\n",
       "      <td>46.605899</td>\n",
       "      <td>5.861427</td>\n",
       "      <td>48.725399</td>\n",
       "      <td>5.139684</td>\n",
       "    </tr>\n",
       "    <tr>\n",
       "      <th>624566</th>\n",
       "      <td>DE217_9</td>\n",
       "      <td>DEA2D_2</td>\n",
       "      <td>5.481111</td>\n",
       "      <td>[rl_67925, rl_69289, rl_69291, rl_371392, rl_6...</td>\n",
       "      <td>300</td>\n",
       "      <td>19432</td>\n",
       "      <td>621760</td>\n",
       "      <td>car</td>\n",
       "      <td>[car]</td>\n",
       "      <td>343.614927</td>\n",
       "      <td>...</td>\n",
       "      <td>364.824092</td>\n",
       "      <td>54.711328</td>\n",
       "      <td>377.637454</td>\n",
       "      <td>38.445798</td>\n",
       "      <td>283.593704</td>\n",
       "      <td>39.957712</td>\n",
       "      <td>222.941386</td>\n",
       "      <td>30.265841</td>\n",
       "      <td>233.885556</td>\n",
       "      <td>26.539077</td>\n",
       "    </tr>\n",
       "  </tbody>\n",
       "</table>\n",
       "<p>2 rows × 21 columns</p>\n",
       "</div>"
      ],
      "text/plain": [
       "         origin destination      time  \\\n",
       "index                                   \n",
       "795144  DE21H_8     DE277_5  1.747500   \n",
       "624566  DE217_9     DEA2D_2  5.481111   \n",
       "\n",
       "                                                link_path  access_time  \\\n",
       "index                                                                    \n",
       "795144  [rl_73746, rl_73747, rl_372615, rl_373543, rl_...          300   \n",
       "624566  [rl_67925, rl_69289, rl_69291, rl_371392, rl_6...          300   \n",
       "\n",
       "        in_vehicle_time  length route_type route_types  \\\n",
       "index                                                    \n",
       "795144             5991  120413        car       [car]   \n",
       "624566            19432  621760        car       [car]   \n",
       "\n",
       "        commuting_no_car_price  ...  business_no_car_price  \\\n",
       "index                           ...                          \n",
       "795144               69.976111  ...              74.083579   \n",
       "624566              343.614927  ...             364.824092   \n",
       "\n",
       "        business_car_price  education_no_car_price  education_car_price  \\\n",
       "index                                                                     \n",
       "795144           10.595656               76.565076             7.445596   \n",
       "624566           54.711328              377.637454            38.445798   \n",
       "\n",
       "        buy/execute_no_car_price  buy/execute_car_price  leisure_no_car_price  \\\n",
       "index                                                                           \n",
       "795144                 58.352116               7.738401             46.605899   \n",
       "624566                283.593704              39.957712            222.941386   \n",
       "\n",
       "        leisure_car_price  accompany_no_car_price  accompany_car_price  \n",
       "index                                                                   \n",
       "795144           5.861427               48.725399             5.139684  \n",
       "624566          30.265841              233.885556            26.539077  \n",
       "\n",
       "[2 rows x 21 columns]"
      ]
     },
     "execution_count": 11,
     "metadata": {},
     "output_type": "execute_result"
    }
   ],
   "source": [
    "sm.car_los.sample(2)"
   ]
  },
  {
   "cell_type": "code",
   "execution_count": 12,
   "metadata": {},
   "outputs": [
    {
     "data": {
      "text/plain": [
       "<AxesSubplot:xlabel='length'>"
      ]
     },
     "execution_count": 12,
     "metadata": {},
     "output_type": "execute_result"
    },
    {
     "data": {
      "image/png": "[encoded data removed]",
      "text/plain": [
       "<Figure size 432x288 with 1 Axes>"
      ]
     },
     "metadata": {
      "needs_background": "light"
     },
     "output_type": "display_data"
    }
   ],
   "source": [
    "sm.car_los.set_index('length')[[s+'_price' for s in segments if len(s.split('_'))<3]].plot(alpha=.5)"
   ]
  },
  {
   "cell_type": "markdown",
   "metadata": {},
   "source": [
    "## Save model"
   ]
  },
  {
   "cell_type": "code",
   "execution_count": 13,
   "metadata": {},
   "outputs": [],
   "source": [
    "# Make table smaller\n",
    "cols = ['access_time', 'in_vehicle_time', 'length']\n",
    "sm.car_los[cols] = sm.car_los[cols].astype(int)"
   ]
  },
  {
   "cell_type": "code",
   "execution_count": 14,
   "metadata": {},
   "outputs": [
    {
     "name": "stderr",
     "output_type": "stream",
     "text": [
      "to_hdf(overwriting): 100%|███████████████████████████████████████████████████████████████| 9/9 [04:32<00:00, 30.23s/it]\n"
     ]
    }
   ],
   "source": [
    "sm.to_json(model_path + 'de_road_los',\n",
    "           only_attributes=['car_los'], encoding='utf-8')"
   ]
  }
 ],
 "metadata": {
  "kernelspec": {
   "display_name": "Python 3 (ipykernel)",
   "language": "python",
   "name": "python3"
  },
  "language_info": {
   "codemirror_mode": {
    "name": "ipython",
    "version": 3
   },
   "file_extension": ".py",
   "mimetype": "text/x-python",
   "name": "python",
   "nbconvert_exporter": "python",
   "pygments_lexer": "ipython3",
   "version": "3.9.13"
  }
 },
 "nbformat": 4,
 "nbformat_minor": 2
}
