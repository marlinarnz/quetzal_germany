{
 "cells": [
  {
   "cell_type": "code",
   "execution_count": 1,
   "metadata": {},
   "outputs": [
    {
     "name": "stderr",
     "output_type": "stream",
     "text": [
      "In C:\\Users\\marlin.arnz\\AppData\\Local\\Continuum\\miniconda3\\envs\\quetzal\\lib\\site-packages\\matplotlib\\mpl-data\\stylelib\\_classic_test.mplstyle: \n",
      "The text.latex.preview rcparam was deprecated in Matplotlib 3.3 and will be removed two minor releases later.\n",
      "In C:\\Users\\marlin.arnz\\AppData\\Local\\Continuum\\miniconda3\\envs\\quetzal\\lib\\site-packages\\matplotlib\\mpl-data\\stylelib\\_classic_test.mplstyle: \n",
      "The mathtext.fallback_to_cm rcparam was deprecated in Matplotlib 3.3 and will be removed two minor releases later.\n",
      "In C:\\Users\\marlin.arnz\\AppData\\Local\\Continuum\\miniconda3\\envs\\quetzal\\lib\\site-packages\\matplotlib\\mpl-data\\stylelib\\_classic_test.mplstyle: Support for setting the 'mathtext.fallback_to_cm' rcParam is deprecated since 3.3 and will be removed two minor releases later; use 'mathtext.fallback : 'cm' instead.\n",
      "In C:\\Users\\marlin.arnz\\AppData\\Local\\Continuum\\miniconda3\\envs\\quetzal\\lib\\site-packages\\matplotlib\\mpl-data\\stylelib\\_classic_test.mplstyle: \n",
      "The validate_bool_maybe_none function was deprecated in Matplotlib 3.3 and will be removed two minor releases later.\n",
      "In C:\\Users\\marlin.arnz\\AppData\\Local\\Continuum\\miniconda3\\envs\\quetzal\\lib\\site-packages\\matplotlib\\mpl-data\\stylelib\\_classic_test.mplstyle: \n",
      "The savefig.jpeg_quality rcparam was deprecated in Matplotlib 3.3 and will be removed two minor releases later.\n",
      "In C:\\Users\\marlin.arnz\\AppData\\Local\\Continuum\\miniconda3\\envs\\quetzal\\lib\\site-packages\\matplotlib\\mpl-data\\stylelib\\_classic_test.mplstyle: \n",
      "The keymap.all_axes rcparam was deprecated in Matplotlib 3.3 and will be removed two minor releases later.\n",
      "In C:\\Users\\marlin.arnz\\AppData\\Local\\Continuum\\miniconda3\\envs\\quetzal\\lib\\site-packages\\matplotlib\\mpl-data\\stylelib\\_classic_test.mplstyle: \n",
      "The animation.avconv_path rcparam was deprecated in Matplotlib 3.3 and will be removed two minor releases later.\n",
      "In C:\\Users\\marlin.arnz\\AppData\\Local\\Continuum\\miniconda3\\envs\\quetzal\\lib\\site-packages\\matplotlib\\mpl-data\\stylelib\\_classic_test.mplstyle: \n",
      "The animation.avconv_args rcparam was deprecated in Matplotlib 3.3 and will be removed two minor releases later.\n"
     ]
    }
   ],
   "source": [
    "import numpy as np\n",
    "from shapely import geometry\n",
    "import pandas as pd\n",
    "import geopandas as gpd\n",
    "from tqdm import tqdm\n",
    "from quetzal.model import stepmodel"
   ]
  },
  {
   "cell_type": "markdown",
   "metadata": {},
   "source": [
    "# Preparation of the transport network.\n",
    "## Saves a StepModel with air service links and nodes"
   ]
  },
  {
   "cell_type": "code",
   "execution_count": 2,
   "metadata": {},
   "outputs": [],
   "source": [
    "input_path = '../input_static/public_transport/'\n",
    "output_path = '../output/'\n",
    "model_path = '../input_static/'"
   ]
  },
  {
   "cell_type": "code",
   "execution_count": 3,
   "metadata": {},
   "outputs": [],
   "source": [
    "# Loading StepModel with pt network\n",
    "sm = stepmodel.read_json(model_path + 'de_pt_network')"
   ]
  },
  {
   "cell_type": "code",
   "execution_count": 4,
   "metadata": {},
   "outputs": [],
   "source": [
    "# Add air to the route types\n",
    "route_type = 'air'\n",
    "sm.pt_route_types.append(route_type)\n",
    "prefix = route_type + '_'"
   ]
  },
  {
   "cell_type": "markdown",
   "metadata": {},
   "source": [
    "### Add airports"
   ]
  },
  {
   "cell_type": "code",
   "execution_count": 5,
   "metadata": {},
   "outputs": [
    {
     "data": {
      "text/html": [
       "<div>\n",
       "<style scoped>\n",
       "    .dataframe tbody tr th:only-of-type {\n",
       "        vertical-align: middle;\n",
       "    }\n",
       "\n",
       "    .dataframe tbody tr th {\n",
       "        vertical-align: top;\n",
       "    }\n",
       "\n",
       "    .dataframe thead th {\n",
       "        text-align: right;\n",
       "    }\n",
       "</style>\n",
       "<table border=\"1\" class=\"dataframe\">\n",
       "  <thead>\n",
       "    <tr style=\"text-align: right;\">\n",
       "      <th></th>\n",
       "      <th>route_type</th>\n",
       "      <th>stop_name</th>\n",
       "      <th>geometry</th>\n",
       "    </tr>\n",
       "    <tr>\n",
       "      <th>index</th>\n",
       "      <th></th>\n",
       "      <th></th>\n",
       "      <th></th>\n",
       "    </tr>\n",
       "  </thead>\n",
       "  <tbody>\n",
       "    <tr>\n",
       "      <th>rail_long_node_1150</th>\n",
       "      <td>rail_long_distance</td>\n",
       "      <td>Aachen Hbf</td>\n",
       "      <td>POINT (6.09150 50.76780)</td>\n",
       "    </tr>\n",
       "  </tbody>\n",
       "</table>\n",
       "</div>"
      ],
      "text/plain": [
       "                             route_type   stop_name                  geometry\n",
       "index                                                                        \n",
       "rail_long_node_1150  rail_long_distance  Aachen Hbf  POINT (6.09150 50.76780)"
      ]
     },
     "execution_count": 5,
     "metadata": {},
     "output_type": "execute_result"
    }
   ],
   "source": [
    "sm.nodes.head(1)"
   ]
  },
  {
   "cell_type": "code",
   "execution_count": 6,
   "metadata": {},
   "outputs": [],
   "source": [
    "# Take only a selected set of airports equal to those of\n",
    "# the Federal Government's transport study (Verkehrsverflechtungsprognose 2030)\n",
    "airports = ['HAM', 'HAJ', 'BRE', 'FMO', 'PAD', 'NRN', 'DUS', 'DTM', 'CGN', 'FRA',\n",
    "            'HHN', 'FKB', 'STR', 'FDH', 'NUE', 'MUC', 'SCN', 'TXL', 'SXF', 'LEJ',\n",
    "            'DRS', 'ERF']"
   ]
  },
  {
   "cell_type": "code",
   "execution_count": 7,
   "metadata": {},
   "outputs": [
    {
     "name": "stdout",
     "output_type": "stream",
     "text": [
      "7543\n"
     ]
    }
   ],
   "source": [
    "# Load list with airports\n",
    "nodes = pd.read_csv(input_path + 'airports.csv', sep=';')\n",
    "print(len(nodes.index))"
   ]
  },
  {
   "cell_type": "code",
   "execution_count": 8,
   "metadata": {},
   "outputs": [],
   "source": [
    "nodes.columns = ['ind', 'stop_name', 'city_name', 'country', 'code3', 'code4', 'lat', 'lon', '1', '2', '3', '4', '5']"
   ]
  },
  {
   "cell_type": "code",
   "execution_count": 9,
   "metadata": {},
   "outputs": [
    {
     "data": {
      "text/html": [
       "<div>\n",
       "<style scoped>\n",
       "    .dataframe tbody tr th:only-of-type {\n",
       "        vertical-align: middle;\n",
       "    }\n",
       "\n",
       "    .dataframe tbody tr th {\n",
       "        vertical-align: top;\n",
       "    }\n",
       "\n",
       "    .dataframe thead th {\n",
       "        text-align: right;\n",
       "    }\n",
       "</style>\n",
       "<table border=\"1\" class=\"dataframe\">\n",
       "  <thead>\n",
       "    <tr style=\"text-align: right;\">\n",
       "      <th></th>\n",
       "      <th>ind</th>\n",
       "      <th>stop_name</th>\n",
       "      <th>city_name</th>\n",
       "      <th>country</th>\n",
       "      <th>code3</th>\n",
       "      <th>code4</th>\n",
       "      <th>lat</th>\n",
       "      <th>lon</th>\n",
       "      <th>1</th>\n",
       "      <th>2</th>\n",
       "      <th>3</th>\n",
       "      <th>4</th>\n",
       "      <th>5</th>\n",
       "    </tr>\n",
       "  </thead>\n",
       "  <tbody>\n",
       "    <tr>\n",
       "      <th>111</th>\n",
       "      <td>347</td>\n",
       "      <td>Airport Nürnberg</td>\n",
       "      <td>Nuernberg</td>\n",
       "      <td>Deutschland</td>\n",
       "      <td>NUE</td>\n",
       "      <td>EDDN</td>\n",
       "      <td>49.498699</td>\n",
       "      <td>11.078056</td>\n",
       "      <td>319</td>\n",
       "      <td>1.0</td>\n",
       "      <td>E</td>\n",
       "      <td>Europe/Berlin</td>\n",
       "      <td>49.498699,11.078056</td>\n",
       "    </tr>\n",
       "    <tr>\n",
       "      <th>117</th>\n",
       "      <td>349</td>\n",
       "      <td>Saarbrücken Airport</td>\n",
       "      <td>Saarbruecken</td>\n",
       "      <td>Deutschland</td>\n",
       "      <td>SCN</td>\n",
       "      <td>EDDR</td>\n",
       "      <td>49.214600</td>\n",
       "      <td>7.109510</td>\n",
       "      <td>322</td>\n",
       "      <td>1.0</td>\n",
       "      <td>E</td>\n",
       "      <td>Europe/Berlin</td>\n",
       "      <td>49.2145996094,7.10950994492</td>\n",
       "    </tr>\n",
       "    <tr>\n",
       "      <th>1349</th>\n",
       "      <td>382</td>\n",
       "      <td>Friedrichshafen Airport</td>\n",
       "      <td>Friedrichshafen</td>\n",
       "      <td>Deutschland</td>\n",
       "      <td>FDH</td>\n",
       "      <td>EDNY</td>\n",
       "      <td>47.671299</td>\n",
       "      <td>9.511490</td>\n",
       "      <td>417</td>\n",
       "      <td>1.0</td>\n",
       "      <td>E</td>\n",
       "      <td>Europe/Berlin</td>\n",
       "      <td>47.6712989807,9.51148986816</td>\n",
       "    </tr>\n",
       "  </tbody>\n",
       "</table>\n",
       "</div>"
      ],
      "text/plain": [
       "      ind                stop_name        city_name      country code3 code4  \\\n",
       "111   347         Airport Nürnberg        Nuernberg  Deutschland   NUE  EDDN   \n",
       "117   349      Saarbrücken Airport     Saarbruecken  Deutschland   SCN  EDDR   \n",
       "1349  382  Friedrichshafen Airport  Friedrichshafen  Deutschland   FDH  EDNY   \n",
       "\n",
       "            lat        lon    1    2  3              4  \\\n",
       "111   49.498699  11.078056  319  1.0  E  Europe/Berlin   \n",
       "117   49.214600   7.109510  322  1.0  E  Europe/Berlin   \n",
       "1349  47.671299   9.511490  417  1.0  E  Europe/Berlin   \n",
       "\n",
       "                                5  \n",
       "111           49.498699,11.078056  \n",
       "117   49.2145996094,7.10950994492  \n",
       "1349  47.6712989807,9.51148986816  "
      ]
     },
     "execution_count": 9,
     "metadata": {},
     "output_type": "execute_result"
    }
   ],
   "source": [
    "# Filter for German nodes with ICAO only\n",
    "nodes = nodes.loc[nodes['code3'].isin(airports)]\n",
    "nodes.head(3)"
   ]
  },
  {
   "cell_type": "code",
   "execution_count": 10,
   "metadata": {},
   "outputs": [],
   "source": [
    "nodes['stop_name'] = nodes['code3'] + ', ' + nodes['stop_name']"
   ]
  },
  {
   "cell_type": "code",
   "execution_count": 11,
   "metadata": {},
   "outputs": [],
   "source": [
    "nodes['route_type'] = route_type"
   ]
  },
  {
   "cell_type": "code",
   "execution_count": 12,
   "metadata": {},
   "outputs": [],
   "source": [
    "nodes.set_index('code3', drop=True, inplace=True)"
   ]
  },
  {
   "cell_type": "code",
   "execution_count": 13,
   "metadata": {},
   "outputs": [],
   "source": [
    "# Add geometry to nodes\n",
    "nodes = gpd.GeoDataFrame(nodes[['stop_name', 'route_type']],\n",
    "                         geometry=gpd.points_from_xy(nodes['lon'], nodes['lat']))\n",
    "# Correct the coordinate reference system\n",
    "nodes.crs = sm.epsg"
   ]
  },
  {
   "cell_type": "code",
   "execution_count": 14,
   "metadata": {},
   "outputs": [
    {
     "data": {
      "text/html": [
       "<div>\n",
       "<style scoped>\n",
       "    .dataframe tbody tr th:only-of-type {\n",
       "        vertical-align: middle;\n",
       "    }\n",
       "\n",
       "    .dataframe tbody tr th {\n",
       "        vertical-align: top;\n",
       "    }\n",
       "\n",
       "    .dataframe thead th {\n",
       "        text-align: right;\n",
       "    }\n",
       "</style>\n",
       "<table border=\"1\" class=\"dataframe\">\n",
       "  <thead>\n",
       "    <tr style=\"text-align: right;\">\n",
       "      <th></th>\n",
       "      <th>stop_name</th>\n",
       "      <th>route_type</th>\n",
       "      <th>geometry</th>\n",
       "    </tr>\n",
       "    <tr>\n",
       "      <th>code3</th>\n",
       "      <th></th>\n",
       "      <th></th>\n",
       "      <th></th>\n",
       "    </tr>\n",
       "  </thead>\n",
       "  <tbody>\n",
       "    <tr>\n",
       "      <th>NUE</th>\n",
       "      <td>NUE, Airport Nürnberg</td>\n",
       "      <td>air</td>\n",
       "      <td>POINT (11.07806 49.49870)</td>\n",
       "    </tr>\n",
       "    <tr>\n",
       "      <th>SCN</th>\n",
       "      <td>SCN, Saarbrücken Airport</td>\n",
       "      <td>air</td>\n",
       "      <td>POINT (7.10951 49.21460)</td>\n",
       "    </tr>\n",
       "    <tr>\n",
       "      <th>FDH</th>\n",
       "      <td>FDH, Friedrichshafen Airport</td>\n",
       "      <td>air</td>\n",
       "      <td>POINT (9.51149 47.67130)</td>\n",
       "    </tr>\n",
       "  </tbody>\n",
       "</table>\n",
       "</div>"
      ],
      "text/plain": [
       "                          stop_name route_type                   geometry\n",
       "code3                                                                    \n",
       "NUE           NUE, Airport Nürnberg        air  POINT (11.07806 49.49870)\n",
       "SCN        SCN, Saarbrücken Airport        air   POINT (7.10951 49.21460)\n",
       "FDH    FDH, Friedrichshafen Airport        air   POINT (9.51149 47.67130)"
      ]
     },
     "execution_count": 14,
     "metadata": {},
     "output_type": "execute_result"
    }
   ],
   "source": [
    "nodes.head(3)"
   ]
  },
  {
   "cell_type": "code",
   "execution_count": 15,
   "metadata": {},
   "outputs": [
    {
     "data": {
      "text/plain": [
       "<AxesSubplot:>"
      ]
     },
     "execution_count": 15,
     "metadata": {},
     "output_type": "execute_result"
    },
    {
     "data": {
      "image/png": "[encoded data removed]",
      "text/plain": [
       "<Figure size 432x288 with 1 Axes>"
      ]
     },
     "metadata": {
      "needs_background": "light"
     },
     "output_type": "display_data"
    }
   ],
   "source": [
    "sm.zones = gpd.GeoDataFrame(sm.zones)\n",
    "nodes['geometry'].plot(ax=sm.zones.plot(alpha=.1))"
   ]
  },
  {
   "cell_type": "markdown",
   "metadata": {},
   "source": [
    "### Air links"
   ]
  },
  {
   "cell_type": "code",
   "execution_count": 16,
   "metadata": {},
   "outputs": [
    {
     "data": {
      "text/html": [
       "<div>\n",
       "<style scoped>\n",
       "    .dataframe tbody tr th:only-of-type {\n",
       "        vertical-align: middle;\n",
       "    }\n",
       "\n",
       "    .dataframe tbody tr th {\n",
       "        vertical-align: top;\n",
       "    }\n",
       "\n",
       "    .dataframe thead th {\n",
       "        text-align: right;\n",
       "    }\n",
       "</style>\n",
       "<table border=\"1\" class=\"dataframe\">\n",
       "  <thead>\n",
       "    <tr style=\"text-align: right;\">\n",
       "      <th></th>\n",
       "      <th>a</th>\n",
       "      <th>b</th>\n",
       "      <th>link_sequence</th>\n",
       "      <th>route_id</th>\n",
       "      <th>route_type</th>\n",
       "      <th>time</th>\n",
       "      <th>trip_id</th>\n",
       "      <th>geometry</th>\n",
       "    </tr>\n",
       "    <tr>\n",
       "      <th>index</th>\n",
       "      <th></th>\n",
       "      <th></th>\n",
       "      <th></th>\n",
       "      <th></th>\n",
       "      <th></th>\n",
       "      <th></th>\n",
       "      <th></th>\n",
       "      <th></th>\n",
       "    </tr>\n",
       "  </thead>\n",
       "  <tbody>\n",
       "    <tr>\n",
       "      <th>rail_long_0</th>\n",
       "      <td>rail_long_node_1110</td>\n",
       "      <td>rail_long_node_630</td>\n",
       "      <td>1.0</td>\n",
       "      <td>rail_long_4</td>\n",
       "      <td>rail_long_distance</td>\n",
       "      <td>960.0</td>\n",
       "      <td>rail_long_1</td>\n",
       "      <td>LINESTRING (7.46528 53.23165, 7.19518 53.36904)</td>\n",
       "    </tr>\n",
       "  </tbody>\n",
       "</table>\n",
       "</div>"
      ],
      "text/plain": [
       "                               a                   b  link_sequence  \\\n",
       "index                                                                 \n",
       "rail_long_0  rail_long_node_1110  rail_long_node_630            1.0   \n",
       "\n",
       "                route_id          route_type   time      trip_id  \\\n",
       "index                                                              \n",
       "rail_long_0  rail_long_4  rail_long_distance  960.0  rail_long_1   \n",
       "\n",
       "                                                    geometry  \n",
       "index                                                         \n",
       "rail_long_0  LINESTRING (7.46528 53.23165, 7.19518 53.36904)  "
      ]
     },
     "execution_count": 16,
     "metadata": {},
     "output_type": "execute_result"
    }
   ],
   "source": [
    "sm.links.head(1)"
   ]
  },
  {
   "cell_type": "code",
   "execution_count": 17,
   "metadata": {},
   "outputs": [],
   "source": [
    "# Load the collection of airport interconnections within Germany\n",
    "links = pd.read_excel(input_path + 'air_connections_germany.xlsx', engine='xlrd')"
   ]
  },
  {
   "cell_type": "code",
   "execution_count": 18,
   "metadata": {},
   "outputs": [
    {
     "data": {
      "text/plain": [
       "(68, 7)"
      ]
     },
     "execution_count": 18,
     "metadata": {},
     "output_type": "execute_result"
    }
   ],
   "source": [
    "links = links.loc[links['direct']==True]\n",
    "links.shape"
   ]
  },
  {
   "cell_type": "code",
   "execution_count": 19,
   "metadata": {},
   "outputs": [],
   "source": [
    "links['origin'] = links['origin'].str[:3]\n",
    "links['destination'] = links['destination'].str[:3]"
   ]
  },
  {
   "cell_type": "code",
   "execution_count": 20,
   "metadata": {},
   "outputs": [
    {
     "data": {
      "text/html": [
       "<div>\n",
       "<style scoped>\n",
       "    .dataframe tbody tr th:only-of-type {\n",
       "        vertical-align: middle;\n",
       "    }\n",
       "\n",
       "    .dataframe tbody tr th {\n",
       "        vertical-align: top;\n",
       "    }\n",
       "\n",
       "    .dataframe thead th {\n",
       "        text-align: right;\n",
       "    }\n",
       "</style>\n",
       "<table border=\"1\" class=\"dataframe\">\n",
       "  <thead>\n",
       "    <tr style=\"text-align: right;\">\n",
       "      <th></th>\n",
       "      <th>origin</th>\n",
       "      <th>destination</th>\n",
       "      <th>time</th>\n",
       "      <th>price_economy</th>\n",
       "      <th>price_business</th>\n",
       "      <th>airlines</th>\n",
       "      <th>direct</th>\n",
       "    </tr>\n",
       "  </thead>\n",
       "  <tbody>\n",
       "    <tr>\n",
       "      <th>5</th>\n",
       "      <td>HAM</td>\n",
       "      <td>DUS</td>\n",
       "      <td>60.0</td>\n",
       "      <td>65.0</td>\n",
       "      <td>156.0</td>\n",
       "      <td>Aegean Airlines, Air France, Austrian Airlines...</td>\n",
       "      <td>1.0</td>\n",
       "    </tr>\n",
       "    <tr>\n",
       "      <th>7</th>\n",
       "      <td>HAM</td>\n",
       "      <td>CGN</td>\n",
       "      <td>60.0</td>\n",
       "      <td>72.0</td>\n",
       "      <td>170.0</td>\n",
       "      <td>Austrian Airlines, eurowings, Lufthansa, Ryana...</td>\n",
       "      <td>1.0</td>\n",
       "    </tr>\n",
       "    <tr>\n",
       "      <th>8</th>\n",
       "      <td>HAM</td>\n",
       "      <td>FRA</td>\n",
       "      <td>70.0</td>\n",
       "      <td>145.0</td>\n",
       "      <td>470.0</td>\n",
       "      <td>Air France, Austrian Airlines, British Airways...</td>\n",
       "      <td>1.0</td>\n",
       "    </tr>\n",
       "    <tr>\n",
       "      <th>11</th>\n",
       "      <td>HAM</td>\n",
       "      <td>STR</td>\n",
       "      <td>75.0</td>\n",
       "      <td>82.0</td>\n",
       "      <td>183.0</td>\n",
       "      <td>Aegean Airlines, Air France, Austrian Airlines...</td>\n",
       "      <td>1.0</td>\n",
       "    </tr>\n",
       "    <tr>\n",
       "      <th>13</th>\n",
       "      <td>HAM</td>\n",
       "      <td>NUE</td>\n",
       "      <td>65.0</td>\n",
       "      <td>73.0</td>\n",
       "      <td>155.0</td>\n",
       "      <td>Austrian Airlines, eurowings, KLM, Lufthansa</td>\n",
       "      <td>1.0</td>\n",
       "    </tr>\n",
       "  </tbody>\n",
       "</table>\n",
       "</div>"
      ],
      "text/plain": [
       "   origin destination  time  price_economy  price_business  \\\n",
       "5     HAM         DUS  60.0           65.0           156.0   \n",
       "7     HAM         CGN  60.0           72.0           170.0   \n",
       "8     HAM         FRA  70.0          145.0           470.0   \n",
       "11    HAM         STR  75.0           82.0           183.0   \n",
       "13    HAM         NUE  65.0           73.0           155.0   \n",
       "\n",
       "                                             airlines  direct  \n",
       "5   Aegean Airlines, Air France, Austrian Airlines...     1.0  \n",
       "7   Austrian Airlines, eurowings, Lufthansa, Ryana...     1.0  \n",
       "8   Air France, Austrian Airlines, British Airways...     1.0  \n",
       "11  Aegean Airlines, Air France, Austrian Airlines...     1.0  \n",
       "13       Austrian Airlines, eurowings, KLM, Lufthansa     1.0  "
      ]
     },
     "execution_count": 20,
     "metadata": {},
     "output_type": "execute_result"
    }
   ],
   "source": [
    "links.head()"
   ]
  },
  {
   "cell_type": "code",
   "execution_count": 21,
   "metadata": {},
   "outputs": [],
   "source": [
    "# Add attributes\n",
    "links['a'] = links['origin']\n",
    "links['b'] = links['destination']\n",
    "links['route_id'] = pd.Series([prefix + str(i) for i in range(len(links.index))],\n",
    "                              index=links.index)\n",
    "links['route_type'] = route_type\n",
    "links['time'] = links['time'] * 60 # Convert to seconds\n",
    "links['trip_id'] = links['a'] + '-' + links['b']\n",
    "links['link_sequence'] = 1"
   ]
  },
  {
   "cell_type": "code",
   "execution_count": 22,
   "metadata": {},
   "outputs": [],
   "source": [
    "# Add geometry column to links\n",
    "lines = [geometry.LineString([nodes.loc[row['a'], 'geometry'], \n",
    "                             nodes.loc[row['b'], 'geometry']]) for _, row in links.iterrows()]\n",
    "links = gpd.GeoDataFrame(links[sm.links.columns.drop('geometry')], geometry=lines)\n",
    "links.crs = sm.epsg"
   ]
  },
  {
   "cell_type": "code",
   "execution_count": 23,
   "metadata": {},
   "outputs": [],
   "source": [
    "links.set_index('route_id', drop=False, inplace=True)"
   ]
  },
  {
   "cell_type": "code",
   "execution_count": 24,
   "metadata": {},
   "outputs": [
    {
     "data": {
      "text/html": [
       "<div>\n",
       "<style scoped>\n",
       "    .dataframe tbody tr th:only-of-type {\n",
       "        vertical-align: middle;\n",
       "    }\n",
       "\n",
       "    .dataframe tbody tr th {\n",
       "        vertical-align: top;\n",
       "    }\n",
       "\n",
       "    .dataframe thead th {\n",
       "        text-align: right;\n",
       "    }\n",
       "</style>\n",
       "<table border=\"1\" class=\"dataframe\">\n",
       "  <thead>\n",
       "    <tr style=\"text-align: right;\">\n",
       "      <th></th>\n",
       "      <th>a</th>\n",
       "      <th>b</th>\n",
       "      <th>link_sequence</th>\n",
       "      <th>route_id</th>\n",
       "      <th>route_type</th>\n",
       "      <th>time</th>\n",
       "      <th>trip_id</th>\n",
       "      <th>geometry</th>\n",
       "    </tr>\n",
       "    <tr>\n",
       "      <th>route_id</th>\n",
       "      <th></th>\n",
       "      <th></th>\n",
       "      <th></th>\n",
       "      <th></th>\n",
       "      <th></th>\n",
       "      <th></th>\n",
       "      <th></th>\n",
       "      <th></th>\n",
       "    </tr>\n",
       "  </thead>\n",
       "  <tbody>\n",
       "  </tbody>\n",
       "</table>\n",
       "</div>"
      ],
      "text/plain": [
       "Empty GeoDataFrame\n",
       "Columns: [a, b, link_sequence, route_id, route_type, time, trip_id, geometry]\n",
       "Index: []"
      ]
     },
     "execution_count": 24,
     "metadata": {},
     "output_type": "execute_result"
    }
   ],
   "source": [
    "links.loc[links['trip_id'].duplicated()]"
   ]
  },
  {
   "cell_type": "code",
   "execution_count": 25,
   "metadata": {},
   "outputs": [
    {
     "data": {
      "text/html": [
       "<div>\n",
       "<style scoped>\n",
       "    .dataframe tbody tr th:only-of-type {\n",
       "        vertical-align: middle;\n",
       "    }\n",
       "\n",
       "    .dataframe tbody tr th {\n",
       "        vertical-align: top;\n",
       "    }\n",
       "\n",
       "    .dataframe thead th {\n",
       "        text-align: right;\n",
       "    }\n",
       "</style>\n",
       "<table border=\"1\" class=\"dataframe\">\n",
       "  <thead>\n",
       "    <tr style=\"text-align: right;\">\n",
       "      <th></th>\n",
       "      <th>a</th>\n",
       "      <th>b</th>\n",
       "      <th>link_sequence</th>\n",
       "      <th>route_id</th>\n",
       "      <th>route_type</th>\n",
       "      <th>time</th>\n",
       "      <th>trip_id</th>\n",
       "      <th>geometry</th>\n",
       "    </tr>\n",
       "    <tr>\n",
       "      <th>route_id</th>\n",
       "      <th></th>\n",
       "      <th></th>\n",
       "      <th></th>\n",
       "      <th></th>\n",
       "      <th></th>\n",
       "      <th></th>\n",
       "      <th></th>\n",
       "      <th></th>\n",
       "    </tr>\n",
       "  </thead>\n",
       "  <tbody>\n",
       "    <tr>\n",
       "      <th>air_0</th>\n",
       "      <td>HAM</td>\n",
       "      <td>DUS</td>\n",
       "      <td>1</td>\n",
       "      <td>air_0</td>\n",
       "      <td>air</td>\n",
       "      <td>3600.0</td>\n",
       "      <td>HAM-DUS</td>\n",
       "      <td>LINESTRING (9.98823 53.63040, 6.76678 51.28950)</td>\n",
       "    </tr>\n",
       "    <tr>\n",
       "      <th>air_1</th>\n",
       "      <td>HAM</td>\n",
       "      <td>CGN</td>\n",
       "      <td>1</td>\n",
       "      <td>air_1</td>\n",
       "      <td>air</td>\n",
       "      <td>3600.0</td>\n",
       "      <td>HAM-CGN</td>\n",
       "      <td>LINESTRING (9.98823 53.63040, 7.14274 50.86590)</td>\n",
       "    </tr>\n",
       "    <tr>\n",
       "      <th>air_2</th>\n",
       "      <td>HAM</td>\n",
       "      <td>FRA</td>\n",
       "      <td>1</td>\n",
       "      <td>air_2</td>\n",
       "      <td>air</td>\n",
       "      <td>4200.0</td>\n",
       "      <td>HAM-FRA</td>\n",
       "      <td>LINESTRING (9.98823 53.63040, 8.57056 50.03333)</td>\n",
       "    </tr>\n",
       "    <tr>\n",
       "      <th>air_3</th>\n",
       "      <td>HAM</td>\n",
       "      <td>STR</td>\n",
       "      <td>1</td>\n",
       "      <td>air_3</td>\n",
       "      <td>air</td>\n",
       "      <td>4500.0</td>\n",
       "      <td>HAM-STR</td>\n",
       "      <td>LINESTRING (9.98823 53.63040, 9.22196 48.68990)</td>\n",
       "    </tr>\n",
       "    <tr>\n",
       "      <th>air_4</th>\n",
       "      <td>HAM</td>\n",
       "      <td>NUE</td>\n",
       "      <td>1</td>\n",
       "      <td>air_4</td>\n",
       "      <td>air</td>\n",
       "      <td>3900.0</td>\n",
       "      <td>HAM-NUE</td>\n",
       "      <td>LINESTRING (9.98823 53.63040, 11.07806 49.49870)</td>\n",
       "    </tr>\n",
       "  </tbody>\n",
       "</table>\n",
       "</div>"
      ],
      "text/plain": [
       "            a    b  link_sequence route_id route_type    time  trip_id  \\\n",
       "route_id                                                                 \n",
       "air_0     HAM  DUS              1    air_0        air  3600.0  HAM-DUS   \n",
       "air_1     HAM  CGN              1    air_1        air  3600.0  HAM-CGN   \n",
       "air_2     HAM  FRA              1    air_2        air  4200.0  HAM-FRA   \n",
       "air_3     HAM  STR              1    air_3        air  4500.0  HAM-STR   \n",
       "air_4     HAM  NUE              1    air_4        air  3900.0  HAM-NUE   \n",
       "\n",
       "                                                  geometry  \n",
       "route_id                                                    \n",
       "air_0      LINESTRING (9.98823 53.63040, 6.76678 51.28950)  \n",
       "air_1      LINESTRING (9.98823 53.63040, 7.14274 50.86590)  \n",
       "air_2      LINESTRING (9.98823 53.63040, 8.57056 50.03333)  \n",
       "air_3      LINESTRING (9.98823 53.63040, 9.22196 48.68990)  \n",
       "air_4     LINESTRING (9.98823 53.63040, 11.07806 49.49870)  "
      ]
     },
     "execution_count": 25,
     "metadata": {},
     "output_type": "execute_result"
    }
   ],
   "source": [
    "links.head()"
   ]
  },
  {
   "cell_type": "code",
   "execution_count": 26,
   "metadata": {},
   "outputs": [
    {
     "data": {
      "text/plain": [
       "<AxesSubplot:>"
      ]
     },
     "execution_count": 26,
     "metadata": {},
     "output_type": "execute_result"
    },
    {
     "data": {
      "image/png": "[encoded data removed]",
      "text/plain": [
       "<Figure size 432x288 with 1 Axes>"
      ]
     },
     "metadata": {
      "needs_background": "light"
     },
     "output_type": "display_data"
    }
   ],
   "source": [
    "links['geometry'].plot(ax=nodes['geometry'].plot(ax=sm.zones.plot(alpha=.1)))"
   ]
  },
  {
   "cell_type": "markdown",
   "metadata": {},
   "source": [
    "### Merge to StepModel"
   ]
  },
  {
   "cell_type": "code",
   "execution_count": 27,
   "metadata": {},
   "outputs": [],
   "source": [
    "# Add links and nodes to stepmodel\n",
    "sm.links = pd.concat([sm.links, links])\n",
    "sm.nodes = pd.concat([sm.nodes, nodes])"
   ]
  },
  {
   "cell_type": "code",
   "execution_count": 28,
   "metadata": {},
   "outputs": [
    {
     "data": {
      "text/plain": [
       "(213129, 8)"
      ]
     },
     "execution_count": 28,
     "metadata": {},
     "output_type": "execute_result"
    }
   ],
   "source": [
    "sm.links.shape"
   ]
  },
  {
   "cell_type": "code",
   "execution_count": 29,
   "metadata": {},
   "outputs": [],
   "source": [
    "# Add routes and agencies"
   ]
  },
  {
   "cell_type": "code",
   "execution_count": 30,
   "metadata": {},
   "outputs": [
    {
     "data": {
      "text/plain": [
       "681"
      ]
     },
     "execution_count": 30,
     "metadata": {},
     "output_type": "execute_result"
    }
   ],
   "source": [
    "len(sm.links['route_id'].unique())"
   ]
  },
  {
   "cell_type": "markdown",
   "metadata": {},
   "source": [
    "### Save model\n"
   ]
  },
  {
   "cell_type": "code",
   "execution_count": 31,
   "metadata": {},
   "outputs": [
    {
     "name": "stderr",
     "output_type": "stream",
     "text": [
      "to_hdf(overwriting): 100%|█████████████████████████████████████████████████████████████| 37/37 [00:40<00:00,  1.08s/it]\n"
     ]
    }
   ],
   "source": [
    "# Saving model...\n",
    "sm.to_json(model_path + 'de_pt_network',\n",
    "          only_attributes=['zones', 'links', 'nodes',\n",
    "                           'agencies', 'pt_routes',\n",
    "                           'pt_route_types', 'frequencies'],\n",
    "          encoding='utf-8')"
   ]
  }
 ],
 "metadata": {
  "kernelspec": {
   "display_name": "Python 3",
   "language": "python",
   "name": "python3"
  },
  "language_info": {
   "codemirror_mode": {
    "name": "ipython",
    "version": 3
   },
   "file_extension": ".py",
   "mimetype": "text/x-python",
   "name": "python",
   "nbconvert_exporter": "python",
   "pygments_lexer": "ipython3",
   "version": "3.8.1"
  }
 },
 "nbformat": 4,
 "nbformat_minor": 2
}
