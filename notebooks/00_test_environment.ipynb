{
 "cells": [
  {
   "cell_type": "markdown",
   "metadata": {},
   "source": [
    "# Test your virtual environment\n",
    "\n",
    "Not everything is required, as you can see in the comments below."
   ]
  },
  {
   "cell_type": "code",
   "execution_count": 2,
   "metadata": {},
   "outputs": [],
   "source": [
    "# Most people have trouble with the GDAL library or rtree,\n",
    "# which connects to geopandas\n",
    "import geopandas"
   ]
  },
  {
   "cell_type": "code",
   "execution_count": 3,
   "metadata": {},
   "outputs": [],
   "source": [
    "# Is the quetzal library installed properly?\n",
    "# If there is anything missing, try to install it with conda (\"conda install -c conda-forge XXX\")\n",
    "from quetzal.model import stepmodel\n",
    "from quetzal.io import excel\n",
    "from syspy.skims import skims"
   ]
  },
  {
   "cell_type": "code",
   "execution_count": null,
   "metadata": {},
   "outputs": [],
   "source": [
    "# The following library is only relevant, if you want to\n",
    "# download the road network from OpenStreetMap.\n",
    "# In that case, install it using conda\n",
    "import osmnx"
   ]
  },
  {
   "cell_type": "code",
   "execution_count": null,
   "metadata": {},
   "outputs": [],
   "source": [
    "# If you want to work on the estimation, biogeme must be installed\n",
    "# If you get an error: \"pip install biogeme\" and \"conda install xlsxwriter\", respectively\n",
    "import biogeme\n",
    "import xlsxwriter"
   ]
  }
 ],
 "metadata": {
  "kernelspec": {
   "display_name": "Python 3 (ipykernel)",
   "language": "python",
   "name": "python3"
  },
  "language_info": {
   "codemirror_mode": {
    "name": "ipython",
    "version": 3
   },
   "file_extension": ".py",
   "mimetype": "text/x-python",
   "name": "python",
   "nbconvert_exporter": "python",
   "pygments_lexer": "ipython3",
   "version": "3.10.14"
  }
 },
 "nbformat": 4,
 "nbformat_minor": 4
}
