{
 "cells": [
  {
   "cell_type": "code",
   "execution_count": 1,
   "metadata": {},
   "outputs": [
    {
     "name": "stderr",
     "output_type": "stream",
     "text": [
      "In C:\\Users\\marlin.arnz\\AppData\\Local\\Continuum\\miniconda3\\envs\\quetzal\\lib\\site-packages\\matplotlib\\mpl-data\\stylelib\\_classic_test.mplstyle: \n",
      "The text.latex.preview rcparam was deprecated in Matplotlib 3.3 and will be removed two minor releases later.\n",
      "In C:\\Users\\marlin.arnz\\AppData\\Local\\Continuum\\miniconda3\\envs\\quetzal\\lib\\site-packages\\matplotlib\\mpl-data\\stylelib\\_classic_test.mplstyle: \n",
      "The mathtext.fallback_to_cm rcparam was deprecated in Matplotlib 3.3 and will be removed two minor releases later.\n",
      "In C:\\Users\\marlin.arnz\\AppData\\Local\\Continuum\\miniconda3\\envs\\quetzal\\lib\\site-packages\\matplotlib\\mpl-data\\stylelib\\_classic_test.mplstyle: Support for setting the 'mathtext.fallback_to_cm' rcParam is deprecated since 3.3 and will be removed two minor releases later; use 'mathtext.fallback : 'cm' instead.\n",
      "In C:\\Users\\marlin.arnz\\AppData\\Local\\Continuum\\miniconda3\\envs\\quetzal\\lib\\site-packages\\matplotlib\\mpl-data\\stylelib\\_classic_test.mplstyle: \n",
      "The validate_bool_maybe_none function was deprecated in Matplotlib 3.3 and will be removed two minor releases later.\n",
      "In C:\\Users\\marlin.arnz\\AppData\\Local\\Continuum\\miniconda3\\envs\\quetzal\\lib\\site-packages\\matplotlib\\mpl-data\\stylelib\\_classic_test.mplstyle: \n",
      "The savefig.jpeg_quality rcparam was deprecated in Matplotlib 3.3 and will be removed two minor releases later.\n",
      "In C:\\Users\\marlin.arnz\\AppData\\Local\\Continuum\\miniconda3\\envs\\quetzal\\lib\\site-packages\\matplotlib\\mpl-data\\stylelib\\_classic_test.mplstyle: \n",
      "The keymap.all_axes rcparam was deprecated in Matplotlib 3.3 and will be removed two minor releases later.\n",
      "In C:\\Users\\marlin.arnz\\AppData\\Local\\Continuum\\miniconda3\\envs\\quetzal\\lib\\site-packages\\matplotlib\\mpl-data\\stylelib\\_classic_test.mplstyle: \n",
      "The animation.avconv_path rcparam was deprecated in Matplotlib 3.3 and will be removed two minor releases later.\n",
      "In C:\\Users\\marlin.arnz\\AppData\\Local\\Continuum\\miniconda3\\envs\\quetzal\\lib\\site-packages\\matplotlib\\mpl-data\\stylelib\\_classic_test.mplstyle: \n",
      "The animation.avconv_args rcparam was deprecated in Matplotlib 3.3 and will be removed two minor releases later.\n"
     ]
    }
   ],
   "source": [
    "import sys # for automation and parallelisation\n",
    "manual, scenario = (True, 'base') if 'ipykernel' in sys.argv[0] else (False, sys.argv[1])\n",
    "if manual:\n",
    "    %matplotlib inline"
   ]
  },
  {
   "cell_type": "code",
   "execution_count": 2,
   "metadata": {},
   "outputs": [],
   "source": [
    "import os\n",
    "import math\n",
    "import pandas as pd\n",
    "import numpy as np\n",
    "from geopy.distance import geodesic\n",
    "import matplotlib.pyplot as plt\n",
    "from quetzal.model import stepmodel\n",
    "from syspy.skims import skims\n",
    "from quetzal.io import excel"
   ]
  },
  {
   "cell_type": "markdown",
   "metadata": {},
   "source": [
    "# Preparation of the LoS tables\n",
    "## Saves price and accessibility attribute to PT LoS table\n",
    "## Needs PT LoS table and links"
   ]
  },
  {
   "cell_type": "code",
   "execution_count": 3,
   "metadata": {},
   "outputs": [],
   "source": [
    "input_path = '../input_static/'\n",
    "output_path = '../output/'\n",
    "model_path = '../model/'"
   ]
  },
  {
   "cell_type": "code",
   "execution_count": 4,
   "metadata": {},
   "outputs": [],
   "source": [
    "# Load scenario parameters\n",
    "params = excel.read_var(file='../input/parameters.xls', scenario=scenario)"
   ]
  },
  {
   "cell_type": "code",
   "execution_count": 5,
   "metadata": {},
   "outputs": [],
   "source": [
    "los = stepmodel.read_json(model_path + 'de_pt_los')\n",
    "sm = stepmodel.read_json(model_path + 'de_pt_network_agg')"
   ]
  },
  {
   "cell_type": "code",
   "execution_count": 6,
   "metadata": {},
   "outputs": [],
   "source": [
    "if 'route_type_disagg' in los.pt_los.columns:\n",
    "    los.pt_los['route_type'] = los.pt_los['route_type_disagg']\n",
    "    if los.pt_los['route_type'].isna().max():\n",
    "        # Add main route_type based on a hierarchy\n",
    "        hierarchy = ['air', 'coach', 'rail_long', 'rail_short', 'bus', 'walk']\n",
    "        def main_type(types):\n",
    "            t = hierarchy[-1]\n",
    "            try:\n",
    "                t = hierarchy[min([hierarchy.index(t) for t in types])]\n",
    "            except ValueError: # empty types set\n",
    "                pass\n",
    "            return t\n",
    "        los.pt_los['route_type'] = los.pt_los['route_types'].apply(main_type)"
   ]
  },
  {
   "cell_type": "code",
   "execution_count": 7,
   "metadata": {},
   "outputs": [
    {
     "data": {
      "text/plain": [
       "20341.65674813416"
      ]
     },
     "execution_count": 7,
     "metadata": {},
     "output_type": "execute_result"
    }
   ],
   "source": [
    "# Make sure time is converted to seconds\n",
    "if los.pt_los['time'].mean() < 10:\n",
    "    los.pt_los['time'] = los.pt_los['time'] * 3600\n",
    "los.pt_los['time'].mean()"
   ]
  },
  {
   "cell_type": "code",
   "execution_count": 8,
   "metadata": {},
   "outputs": [
    {
     "data": {
      "text/html": [
       "<div>\n",
       "<style scoped>\n",
       "    .dataframe tbody tr th:only-of-type {\n",
       "        vertical-align: middle;\n",
       "    }\n",
       "\n",
       "    .dataframe tbody tr th {\n",
       "        vertical-align: top;\n",
       "    }\n",
       "\n",
       "    .dataframe thead th {\n",
       "        text-align: right;\n",
       "    }\n",
       "</style>\n",
       "<table border=\"1\" class=\"dataframe\">\n",
       "  <thead>\n",
       "    <tr style=\"text-align: right;\">\n",
       "      <th></th>\n",
       "      <th>route_type</th>\n",
       "      <th>route_type_disagg</th>\n",
       "      <th>geometry</th>\n",
       "      <th>a</th>\n",
       "      <th>b</th>\n",
       "      <th>link_sequence</th>\n",
       "      <th>route_id</th>\n",
       "      <th>time</th>\n",
       "      <th>trip_id</th>\n",
       "      <th>headway</th>\n",
       "    </tr>\n",
       "    <tr>\n",
       "      <th>index</th>\n",
       "      <th></th>\n",
       "      <th></th>\n",
       "      <th></th>\n",
       "      <th></th>\n",
       "      <th></th>\n",
       "      <th></th>\n",
       "      <th></th>\n",
       "      <th></th>\n",
       "      <th></th>\n",
       "      <th></th>\n",
       "    </tr>\n",
       "  </thead>\n",
       "  <tbody>\n",
       "    <tr>\n",
       "      <th>bus_997799</th>\n",
       "      <td>bus</td>\n",
       "      <td>bus</td>\n",
       "      <td>LINESTRING (8.63939 48.87038, 8.62902 48.86976)</td>\n",
       "      <td>b_DE12B_24</td>\n",
       "      <td>b_DE12B_39</td>\n",
       "      <td>1</td>\n",
       "      <td>bus_16455</td>\n",
       "      <td>480</td>\n",
       "      <td>bus_16455_0</td>\n",
       "      <td>8640</td>\n",
       "    </tr>\n",
       "    <tr>\n",
       "      <th>bus_x_97330</th>\n",
       "      <td>bus</td>\n",
       "      <td>bus</td>\n",
       "      <td>LINESTRING (7.55515 50.15500, 7.55395 50.21118)</td>\n",
       "      <td>b_DEB1D_142</td>\n",
       "      <td>b_DEB1D_153</td>\n",
       "      <td>1</td>\n",
       "      <td>bus_x_6681</td>\n",
       "      <td>660</td>\n",
       "      <td>bus_x_6681_17</td>\n",
       "      <td>43200</td>\n",
       "    </tr>\n",
       "  </tbody>\n",
       "</table>\n",
       "</div>"
      ],
      "text/plain": [
       "            route_type route_type_disagg  \\\n",
       "index                                      \n",
       "bus_997799         bus               bus   \n",
       "bus_x_97330        bus               bus   \n",
       "\n",
       "                                                    geometry            a  \\\n",
       "index                                                                       \n",
       "bus_997799   LINESTRING (8.63939 48.87038, 8.62902 48.86976)   b_DE12B_24   \n",
       "bus_x_97330  LINESTRING (7.55515 50.15500, 7.55395 50.21118)  b_DEB1D_142   \n",
       "\n",
       "                       b  link_sequence    route_id  time        trip_id  \\\n",
       "index                                                                      \n",
       "bus_997799    b_DE12B_39              1   bus_16455   480    bus_16455_0   \n",
       "bus_x_97330  b_DEB1D_153              1  bus_x_6681   660  bus_x_6681_17   \n",
       "\n",
       "             headway  \n",
       "index                 \n",
       "bus_997799      8640  \n",
       "bus_x_97330    43200  "
      ]
     },
     "execution_count": 8,
     "metadata": {},
     "output_type": "execute_result"
    }
   ],
   "source": [
    "sm.links.sample(2)"
   ]
  },
  {
   "cell_type": "code",
   "execution_count": 9,
   "metadata": {},
   "outputs": [],
   "source": [
    "# Add P&R LoS table, if available\n",
    "if os.path.exists(model_path + 'de_pr_los/'):\n",
    "    pr = stepmodel.read_json(model_path + 'de_pt_los')\n",
    "    sm.pt_los = pd.concat([los.pt_los, pr.pr_los])\n",
    "else:\n",
    "    sm.pt_los = los.pt_los"
   ]
  },
  {
   "cell_type": "markdown",
   "metadata": {},
   "source": [
    "## Prices"
   ]
  },
  {
   "cell_type": "code",
   "execution_count": 10,
   "metadata": {},
   "outputs": [],
   "source": [
    "# Generate length for PT links as the crow flies\n",
    "if 'length' not in sm.links.columns:\n",
    "    sm.links['length'] = skims.distance_from_geometry(sm.links['geometry']).astype(int)"
   ]
  },
  {
   "cell_type": "code",
   "execution_count": 11,
   "metadata": {},
   "outputs": [],
   "source": [
    "sm.links['price'] = 0"
   ]
  },
  {
   "cell_type": "code",
   "execution_count": 12,
   "metadata": {},
   "outputs": [],
   "source": [
    "type_dict = sm.links['route_type'].to_dict()"
   ]
  },
  {
   "cell_type": "markdown",
   "metadata": {},
   "source": [
    "### Rail short-distance\n",
    "Short-distance rail services have the price structure stated in the DB document. However, most people who use it have some kind of abonement and don't buy single trip tickets. cal10 shows that for trips under 50km distance there is a 50% share of permanent abonements. Moreover, it doesn't make sense to choose short-distance rail services on long distances. Still, if so, people choose the \"Quer-durchs-Land-Ticket\" for 42€."
   ]
  },
  {
   "cell_type": "code",
   "execution_count": 13,
   "metadata": {},
   "outputs": [],
   "source": [
    "mask = sm.links['route_type']=='rail_short'"
   ]
  },
  {
   "cell_type": "code",
   "execution_count": 14,
   "metadata": {},
   "outputs": [
    {
     "data": {
      "text/html": [
       "<div>\n",
       "<style scoped>\n",
       "    .dataframe tbody tr th:only-of-type {\n",
       "        vertical-align: middle;\n",
       "    }\n",
       "\n",
       "    .dataframe tbody tr th {\n",
       "        vertical-align: top;\n",
       "    }\n",
       "\n",
       "    .dataframe thead th {\n",
       "        text-align: right;\n",
       "    }\n",
       "</style>\n",
       "<table border=\"1\" class=\"dataframe\">\n",
       "  <thead>\n",
       "    <tr style=\"text-align: right;\">\n",
       "      <th></th>\n",
       "      <th>km</th>\n",
       "      <th>single_trip_second_class</th>\n",
       "      <th>single_trip_first_class</th>\n",
       "      <th>return_trip_second_class</th>\n",
       "      <th>return_trip_first_class</th>\n",
       "    </tr>\n",
       "  </thead>\n",
       "  <tbody>\n",
       "    <tr>\n",
       "      <th>0</th>\n",
       "      <td>37.0</td>\n",
       "      <td>10.1</td>\n",
       "      <td>16.2</td>\n",
       "      <td>20.2</td>\n",
       "      <td>32.4</td>\n",
       "    </tr>\n",
       "    <tr>\n",
       "      <th>1</th>\n",
       "      <td>38.0</td>\n",
       "      <td>10.3</td>\n",
       "      <td>16.5</td>\n",
       "      <td>20.6</td>\n",
       "      <td>33.0</td>\n",
       "    </tr>\n",
       "    <tr>\n",
       "      <th>2</th>\n",
       "      <td>39.0</td>\n",
       "      <td>10.4</td>\n",
       "      <td>16.6</td>\n",
       "      <td>20.8</td>\n",
       "      <td>33.2</td>\n",
       "    </tr>\n",
       "  </tbody>\n",
       "</table>\n",
       "</div>"
      ],
      "text/plain": [
       "     km  single_trip_second_class  single_trip_first_class  \\\n",
       "0  37.0                      10.1                     16.2   \n",
       "1  38.0                      10.3                     16.5   \n",
       "2  39.0                      10.4                     16.6   \n",
       "\n",
       "   return_trip_second_class  return_trip_first_class  \n",
       "0                      20.2                     32.4  \n",
       "1                      20.6                     33.0  \n",
       "2                      20.8                     33.2  "
      ]
     },
     "execution_count": 14,
     "metadata": {},
     "output_type": "execute_result"
    }
   ],
   "source": [
    "# Load list of distance-related cost\n",
    "c = pd.read_csv(input_path + 'level_of_service/DB_2020_preisliste_fahrplanjahr_2020.csv')\n",
    "c.head(3)"
   ]
  },
  {
   "cell_type": "code",
   "execution_count": 15,
   "metadata": {},
   "outputs": [
    {
     "name": "stdout",
     "output_type": "stream",
     "text": [
      "y=0.233*x+1.468\n"
     ]
    },
    {
     "data": {
      "image/png": "[encoded data removed]",
      "text/plain": [
       "<Figure size 432x288 with 1 Axes>"
      ]
     },
     "metadata": {
      "needs_background": "light"
     },
     "output_type": "display_data"
    }
   ],
   "source": [
    "# Use second class single trip prices\n",
    "# Choose a fit for a distance range up to 60 km (longer links are rare)\n",
    "if manual:\n",
    "    z = np.polyfit(c.loc[0:30, 'km'], c.loc[0:30, 'single_trip_second_class'], deg=1)\n",
    "    p = np.poly1d(z)\n",
    "    plt.plot(c.loc[0:30, 'km'], p(c.loc[0:30, 'km']), linestyle='--', marker=' ', label='Regression')\n",
    "    plt.plot(c.loc[0:30, 'km'], c.loc[0:30, 'single_trip_second_class'], linestyle='--', marker=' ', label='2nd class')\n",
    "    plt.legend()\n",
    "    print('y={}*x+{}'.format(np.round(z[0], 3), np.round(z[1], 3)))"
   ]
  },
  {
   "cell_type": "code",
   "execution_count": 16,
   "metadata": {},
   "outputs": [],
   "source": [
    "# Regression results\n",
    "rail_short_slope = params['pt_price']['rail_short_slope']\n",
    "rail_short_intercept = params['pt_price']['rail_short_intercept']"
   ]
  },
  {
   "cell_type": "code",
   "execution_count": 34,
   "metadata": {},
   "outputs": [],
   "source": [
    "# Apply the slope to links\n",
    "sm.links.loc[mask, 'price'] = sm.links.loc[mask, 'length'].apply(lambda d: d*rail_short_slope/1000)"
   ]
  },
  {
   "cell_type": "code",
   "execution_count": 35,
   "metadata": {},
   "outputs": [],
   "source": [
    "# Sum link cost\n",
    "price_dict = sm.links['price'].to_dict()\n",
    "sm.pt_los.loc[sm.pt_los['route_type']=='rail_short', 'price'] = \\\n",
    "    sm.pt_los.loc[sm.pt_los['route_type']=='rail_short', 'link_path'].apply(\n",
    "        lambda l: sum([price_dict[link] if type_dict[link]=='rail_short' else 0\n",
    "                       for link in l]))"
   ]
  },
  {
   "cell_type": "code",
   "execution_count": 36,
   "metadata": {},
   "outputs": [],
   "source": [
    "# Add the intercept\n",
    "sm.pt_los.loc[sm.pt_los['route_type']=='rail_short', 'price'] += rail_short_intercept"
   ]
  },
  {
   "cell_type": "code",
   "execution_count": 37,
   "metadata": {},
   "outputs": [],
   "source": [
    "# Add a price floor for short-distance rail (and cap for consistency)\n",
    "sm.pt_los.loc[sm.pt_los['route_type']=='rail_short', 'price'] = np.clip(\n",
    "    sm.pt_los.loc[sm.pt_los['route_type']=='rail_short', 'price'],\n",
    "    params['pt_price']['min_rail_short'],\n",
    "    params['pt_price']['max_rail_short'])"
   ]
  },
  {
   "cell_type": "code",
   "execution_count": 38,
   "metadata": {},
   "outputs": [],
   "source": [
    "# Add abonements share for short-distance rail\n",
    "#mask = (sm.pt_los['route_type']=='rail_short') & (sm.pt_los['length']<50000)\n",
    "#sm.pt_los.loc[mask, 'price'] = sm.pt_los.loc[mask, 'price'] * (1-params['pt_price']['rail_short_abo_share'])"
   ]
  },
  {
   "cell_type": "code",
   "execution_count": 39,
   "metadata": {},
   "outputs": [
    {
     "data": {
      "image/png": "[encoded data removed]",
      "text/plain": [
       "<Figure size 432x288 with 1 Axes>"
      ]
     },
     "metadata": {
      "needs_background": "light"
     },
     "output_type": "display_data"
    }
   ],
   "source": [
    "if manual:\n",
    "    x = sm.pt_los.loc[sm.pt_los['route_type']=='rail_short']['length'] / 1000\n",
    "    y = sm.pt_los.loc[sm.pt_los['route_type']=='rail_short']['price']\n",
    "    plt.scatter(x, y, marker='o', alpha=.01, label='price')\n",
    "    plt.legend()"
   ]
  },
  {
   "cell_type": "code",
   "execution_count": 40,
   "metadata": {},
   "outputs": [
    {
     "data": {
      "text/plain": [
       "0"
      ]
     },
     "execution_count": 40,
     "metadata": {},
     "output_type": "execute_result"
    }
   ],
   "source": [
    "len(sm.pt_los.loc[(sm.pt_los['route_type']=='rail_short') & (sm.pt_los['price']<5)])"
   ]
  },
  {
   "cell_type": "markdown",
   "metadata": {},
   "source": [
    "### Rail long distance\n",
    "\n",
    "Long-distance services have a complicated price structure that is not published by DB. Thus, we need to make assumptions based on a regression analysis of observation data (see prep32):\n",
    "\n",
    "* Rail transport is purely path-distance and -duration-dependent\n",
    "* Price dependency is linear\n",
    "* There is a price cap of 139 EUR\n",
    "* Assume 50/50 distribution of Sparpreis and Flexpreis"
   ]
  },
  {
   "cell_type": "code",
   "execution_count": 41,
   "metadata": {},
   "outputs": [],
   "source": [
    "rl_dist_slope = params['pt_price']['rail_long_dist_slope']\n",
    "rl_time_slope = params['pt_price']['rail_long_time_slope']\n",
    "rl_intercept = params['pt_price']['rail_long_intercept']"
   ]
  },
  {
   "cell_type": "code",
   "execution_count": 42,
   "metadata": {},
   "outputs": [],
   "source": [
    "# Apply the slope to links\n",
    "mask = sm.links['route_type']=='rail_long'\n",
    "sm.links.loc[mask, 'price'] = [d/1000*rl_dist_slope + t/3600*rl_time_slope\n",
    "    for d,t in zip(sm.links.loc[mask, 'length'], sm.links.loc[mask, 'time'])]"
   ]
  },
  {
   "cell_type": "code",
   "execution_count": 43,
   "metadata": {},
   "outputs": [],
   "source": [
    "# Sum link cost\n",
    "price_dict = sm.links['price'].to_dict()\n",
    "sm.pt_los.loc[sm.pt_los['route_type']=='rail_long', 'price'] = \\\n",
    "    sm.pt_los.loc[sm.pt_los['route_type']=='rail_long', 'link_path'].apply(\n",
    "        lambda l: sum([price_dict[link] if type_dict[link]=='rail_long' else 0\n",
    "                       for link in l]))"
   ]
  },
  {
   "cell_type": "code",
   "execution_count": 44,
   "metadata": {},
   "outputs": [],
   "source": [
    "# Add an intercept\n",
    "sm.pt_los.loc[sm.pt_los['route_type']=='rail_long', 'price'] += rl_intercept"
   ]
  },
  {
   "cell_type": "code",
   "execution_count": 45,
   "metadata": {},
   "outputs": [],
   "source": [
    "# Add a price cap and floor for long-distance rail\n",
    "sm.pt_los.loc[sm.pt_los['route_type']=='rail_long', 'price'] = np.clip(\n",
    "    sm.pt_los.loc[sm.pt_los['route_type']=='rail_long', 'price'],\n",
    "    params['pt_price']['min_rail_long'],\n",
    "    params['pt_price']['max_rail_long'])"
   ]
  },
  {
   "cell_type": "code",
   "execution_count": 46,
   "metadata": {},
   "outputs": [
    {
     "data": {
      "image/png": "[encoded data removed]",
      "text/plain": [
       "<Figure size 432x288 with 1 Axes>"
      ]
     },
     "metadata": {
      "needs_background": "light"
     },
     "output_type": "display_data"
    }
   ],
   "source": [
    "if manual:\n",
    "    x = sm.pt_los.loc[sm.pt_los['route_type']=='rail_long']['length'] / 1000\n",
    "    y = sm.pt_los.loc[sm.pt_los['route_type']=='rail_long']['price']\n",
    "    plt.scatter(x, y, marker='o', alpha=.01, label='price')\n",
    "    plt.legend()"
   ]
  },
  {
   "cell_type": "markdown",
   "metadata": {},
   "source": [
    "### Coach\n",
    "\n",
    "Assume a linear cost function based on distance. There are several sample studies available:\n",
    "* Average cost in Germany (0.107 EUR/pkm): https://de.statista.com/statistik/daten/studie/380601/umfrage/kilometerpreise-fernbuslinien-in-deutschland/\n",
    "* Average cost on selected OD pairs with cheapest prices: https://www.fernbusse.de/aktuelles/studie-fernbuspreise-steigen-leicht-bahntickets-guenstiger-1628/\n",
    "\n",
    "The latter is more realistic"
   ]
  },
  {
   "cell_type": "code",
   "execution_count": 47,
   "metadata": {},
   "outputs": [],
   "source": [
    "# Load list of OD pair cost\n",
    "if manual:\n",
    "    c = pd.read_excel(input_path + 'level_of_service/coach_prices_2017.xls')\n",
    "    c.head(3)"
   ]
  },
  {
   "cell_type": "code",
   "execution_count": 48,
   "metadata": {},
   "outputs": [],
   "source": [
    "sm.links.loc[sm.links['route_type']=='coach', 'price'] = \\\n",
    "    sm.links['length'] / 1000 * params['pt_price']['coach']"
   ]
  },
  {
   "cell_type": "code",
   "execution_count": 49,
   "metadata": {},
   "outputs": [],
   "source": [
    "# Sum up prices in LoS table based on link fares\n",
    "price_dict = sm.links['price'].to_dict()\n",
    "sm.pt_los.loc[sm.pt_los['route_type']=='coach', 'price'] = \\\n",
    "    sm.pt_los.loc[sm.pt_los['route_type']=='coach', 'link_path'].apply(\n",
    "        lambda l: sum([price_dict[link] if type_dict[link]=='coach' else 0\n",
    "                       for link in l]))"
   ]
  },
  {
   "cell_type": "code",
   "execution_count": 50,
   "metadata": {},
   "outputs": [],
   "source": [
    "# Add a price cap and floor\n",
    "sm.pt_los.loc[sm.pt_los['route_type']=='coach', 'price'] = np.clip(\n",
    "    sm.pt_los.loc[sm.pt_los['route_type']=='coach', 'price'],\n",
    "    params['pt_price']['min_coach'],\n",
    "    params['pt_price']['max_coach'])"
   ]
  },
  {
   "cell_type": "code",
   "execution_count": 51,
   "metadata": {},
   "outputs": [
    {
     "data": {
      "image/png": "[encoded data removed]",
      "text/plain": [
       "<Figure size 432x288 with 1 Axes>"
      ]
     },
     "metadata": {
      "needs_background": "light"
     },
     "output_type": "display_data"
    }
   ],
   "source": [
    "if manual:\n",
    "    x = sm.pt_los.loc[sm.pt_los['route_type']=='coach']['length'] / 1000\n",
    "    y = sm.pt_los.loc[sm.pt_los['route_type']=='coach']['price']\n",
    "    plt.scatter(x, y, marker='o', alpha=.05, label='price')\n",
    "    plt.legend()"
   ]
  },
  {
   "cell_type": "markdown",
   "metadata": {},
   "source": [
    "### Air\n",
    "\n",
    "Match air links with prices from an online search in Sept. 2020"
   ]
  },
  {
   "cell_type": "code",
   "execution_count": 52,
   "metadata": {},
   "outputs": [
    {
     "data": {
      "text/plain": [
       "<AxesSubplot:xlabel='time'>"
      ]
     },
     "execution_count": 52,
     "metadata": {},
     "output_type": "execute_result"
    },
    {
     "data": {
      "image/png": "[encoded data removed]",
      "text/plain": [
       "<Figure size 432x288 with 1 Axes>"
      ]
     },
     "metadata": {
      "needs_background": "light"
     },
     "output_type": "display_data"
    }
   ],
   "source": [
    "# Load connection list\n",
    "air = pd.read_excel(input_path + 'public_transport/air_connections_germany.xls', engine='xlrd')\n",
    "air = air.loc[air['direct']==True]\n",
    "air['a'] = air['origin'].str[:3]\n",
    "air['b'] = air['destination'].str[:3]\n",
    "#print('Average economy price: {} EUR'.format(air['price_economy'].mean()))\n",
    "#print('Average business price: {} EUR'.format(air['price_business'].mean()))\n",
    "air[['price_business', 'price_economy', 'time']].set_index('time').plot(linestyle=' ', marker='o')"
   ]
  },
  {
   "cell_type": "code",
   "execution_count": 53,
   "metadata": {},
   "outputs": [],
   "source": [
    "# Correct air time if neccessary\n",
    "if sm.links.loc[sm.links['route_type']=='air', 'time'].mean() < 5*60:\n",
    "    # Convert time to seconds\n",
    "    sm.links.loc[sm.links['route_type']=='air', 'time'] *= 60"
   ]
  },
  {
   "cell_type": "code",
   "execution_count": 54,
   "metadata": {},
   "outputs": [
    {
     "data": {
      "text/html": [
       "<div>\n",
       "<style scoped>\n",
       "    .dataframe tbody tr th:only-of-type {\n",
       "        vertical-align: middle;\n",
       "    }\n",
       "\n",
       "    .dataframe tbody tr th {\n",
       "        vertical-align: top;\n",
       "    }\n",
       "\n",
       "    .dataframe thead th {\n",
       "        text-align: right;\n",
       "    }\n",
       "</style>\n",
       "<table border=\"1\" class=\"dataframe\">\n",
       "  <thead>\n",
       "    <tr style=\"text-align: right;\">\n",
       "      <th></th>\n",
       "      <th>route_type</th>\n",
       "      <th>route_type_disagg</th>\n",
       "      <th>geometry</th>\n",
       "      <th>a</th>\n",
       "      <th>b</th>\n",
       "      <th>link_sequence</th>\n",
       "      <th>route_id</th>\n",
       "      <th>time</th>\n",
       "      <th>trip_id</th>\n",
       "      <th>headway</th>\n",
       "      <th>length</th>\n",
       "      <th>price</th>\n",
       "    </tr>\n",
       "    <tr>\n",
       "      <th>index</th>\n",
       "      <th></th>\n",
       "      <th></th>\n",
       "      <th></th>\n",
       "      <th></th>\n",
       "      <th></th>\n",
       "      <th></th>\n",
       "      <th></th>\n",
       "      <th></th>\n",
       "      <th></th>\n",
       "      <th></th>\n",
       "      <th></th>\n",
       "      <th></th>\n",
       "    </tr>\n",
       "  </thead>\n",
       "  <tbody>\n",
       "    <tr>\n",
       "      <th>air_27</th>\n",
       "      <td>air</td>\n",
       "      <td>air</td>\n",
       "      <td>LINESTRING (7.14274 50.86590, 13.76720 51.13280)</td>\n",
       "      <td>CGN</td>\n",
       "      <td>DRS</td>\n",
       "      <td>1</td>\n",
       "      <td>air_27</td>\n",
       "      <td>3900</td>\n",
       "      <td>CGN-DRS</td>\n",
       "      <td>7200</td>\n",
       "      <td>464358</td>\n",
       "      <td>53.0</td>\n",
       "    </tr>\n",
       "  </tbody>\n",
       "</table>\n",
       "</div>"
      ],
      "text/plain": [
       "       route_type route_type_disagg  \\\n",
       "index                                 \n",
       "air_27        air               air   \n",
       "\n",
       "                                                geometry    a    b  \\\n",
       "index                                                                \n",
       "air_27  LINESTRING (7.14274 50.86590, 13.76720 51.13280)  CGN  DRS   \n",
       "\n",
       "        link_sequence route_id  time  trip_id  headway  length  price  \n",
       "index                                                                  \n",
       "air_27              1   air_27  3900  CGN-DRS     7200  464358   53.0  "
      ]
     },
     "execution_count": 54,
     "metadata": {},
     "output_type": "execute_result"
    }
   ],
   "source": [
    "# Take the economy price because its share is higher\n",
    "# than 90% within Germany\n",
    "air['trip'] = air['a'] + '-' + air['b']\n",
    "air_price_dict = air.set_index('trip')['price_economy'].to_dict()\n",
    "mask = sm.links['route_type']=='air'\n",
    "sm.links.loc[mask, 'price'] = sm.links.loc[mask, 'trip_id'].map(air_price_dict).fillna(\n",
    "    params['pt_price']['air_economy'])\n",
    "#print(len(sm.links.loc[(mask) & (sm.links['price'].isna())]))\n",
    "sm.links.loc[mask].sample()"
   ]
  },
  {
   "cell_type": "code",
   "execution_count": 55,
   "metadata": {},
   "outputs": [
    {
     "data": {
      "text/plain": [
       "145.9924450984629"
      ]
     },
     "execution_count": 55,
     "metadata": {},
     "output_type": "execute_result"
    }
   ],
   "source": [
    "# Sum up prices in LoS table based on link fares\n",
    "price_dict = sm.links['price'].to_dict()\n",
    "mask = sm.pt_los['route_type']=='air'\n",
    "sm.pt_los.loc[mask, 'price'] = sm.pt_los.loc[mask, 'link_path'].apply(\n",
    "    lambda l: sum([price_dict[link] if type_dict[link]\n",
    "                   in ['air', 'rail_short', 'rail_long', 'coach'] else 0\n",
    "                   for link in l]))\n",
    "# Add intercepts of rail modes\n",
    "sm.pt_los.loc[(mask) & (sm.pt_los['route_types'].apply(lambda l: 'rail_short' in l)),\n",
    "              'price'] += rail_short_intercept\n",
    "sm.pt_los.loc[(mask) & (sm.pt_los['route_types'].apply(lambda l: 'rail_long' in l)),\n",
    "              'price'] += rl_intercept\n",
    "sm.pt_los.loc[sm.pt_los['route_type']=='air', 'price'].mean()"
   ]
  },
  {
   "cell_type": "code",
   "execution_count": 56,
   "metadata": {},
   "outputs": [
    {
     "data": {
      "text/plain": [
       "0"
      ]
     },
     "execution_count": 56,
     "metadata": {},
     "output_type": "execute_result"
    }
   ],
   "source": [
    "len(sm.pt_los.loc[sm.pt_los['price'].isna()])"
   ]
  },
  {
   "cell_type": "markdown",
   "metadata": {},
   "source": [
    "### Local transport\n",
    "\n",
    "Local transport fares are added on top, as they are usually included into the rail ticket price or have a standalone price map dependent on ordinal distance classes."
   ]
  },
  {
   "cell_type": "code",
   "execution_count": 57,
   "metadata": {},
   "outputs": [],
   "source": [
    "# Add a fare for local transport services\n",
    "# Get links with bus service at start or end of the trip\n",
    "mode_dict = sm.links['route_type'].to_dict()\n",
    "bus_at_o = sm.pt_los['link_path'].apply(lambda l: mode_dict[l[0]]=='bus' if len(l)>0 else False)\n",
    "bus_at_d = sm.pt_los['link_path'].apply(lambda l: mode_dict[l[-1]]=='bus' if len(l)>0 else False)\n",
    "only_bus = sm.pt_los['route_type']=='bus'\n",
    "# Bus tickets are included in long-distance rail tickets\n",
    "rail_long = sm.pt_los['route_types'].apply(lambda t: 'rail_long' in t)\n",
    "# Define price structure by regional type\n",
    "# Average value from ADAC for cities: https://www.adac.de/reise-freizeit/ratgeber/tests/oepnv-preise-vergleich/\n",
    "region_dict = sm.zones['urbanisation'].to_dict()\n",
    "region_prices = {1: params['pt_price']['bus_urban1'],\n",
    "                 2: params['pt_price']['bus_urban2'],\n",
    "                 3: params['pt_price']['bus_urban3']}\n",
    "\n",
    "# Case 1: Multimodal\n",
    "sm.pt_los.loc[(bus_at_o) & ~(only_bus) & ~(rail_long), 'price'] += sm.pt_los.loc[\n",
    "    (bus_at_o) & ~(only_bus) & ~(rail_long), 'origin'].map(region_dict).map(region_prices)\n",
    "sm.pt_los.loc[(bus_at_d) & ~(only_bus) & ~(rail_long), 'price'] += sm.pt_los.loc[\n",
    "    (bus_at_d) & ~(only_bus) & ~(rail_long), 'destination'].map(region_dict).map(region_prices)\n",
    "\n",
    "# Case 2: Only bus\n",
    "sm.pt_los.loc[only_bus, 'price'] = [\n",
    "    region_prices[max(region_dict[o], region_dict[d])]\n",
    "    for o,d in zip(sm.pt_los.loc[only_bus, 'origin'], sm.pt_los.loc[only_bus, 'destination'])]"
   ]
  },
  {
   "cell_type": "code",
   "execution_count": 58,
   "metadata": {},
   "outputs": [
    {
     "data": {
      "text/plain": [
       "0"
      ]
     },
     "execution_count": 58,
     "metadata": {},
     "output_type": "execute_result"
    }
   ],
   "source": [
    "len(sm.pt_los.loc[sm.pt_los['price'].isna()])"
   ]
  },
  {
   "cell_type": "code",
   "execution_count": 59,
   "metadata": {},
   "outputs": [
    {
     "data": {
      "text/html": [
       "<div>\n",
       "<style scoped>\n",
       "    .dataframe tbody tr th:only-of-type {\n",
       "        vertical-align: middle;\n",
       "    }\n",
       "\n",
       "    .dataframe tbody tr th {\n",
       "        vertical-align: top;\n",
       "    }\n",
       "\n",
       "    .dataframe thead th {\n",
       "        text-align: right;\n",
       "    }\n",
       "</style>\n",
       "<table border=\"1\" class=\"dataframe\">\n",
       "  <thead>\n",
       "    <tr style=\"text-align: right;\">\n",
       "      <th></th>\n",
       "      <th>time</th>\n",
       "      <th>price</th>\n",
       "      <th>length</th>\n",
       "      <th>ntransfers</th>\n",
       "    </tr>\n",
       "    <tr>\n",
       "      <th>route_type</th>\n",
       "      <th></th>\n",
       "      <th></th>\n",
       "      <th></th>\n",
       "      <th></th>\n",
       "    </tr>\n",
       "  </thead>\n",
       "  <tbody>\n",
       "    <tr>\n",
       "      <th>air</th>\n",
       "      <td>24573.942511</td>\n",
       "      <td>147.221472</td>\n",
       "      <td>630601.039492</td>\n",
       "      <td>5.172077</td>\n",
       "    </tr>\n",
       "    <tr>\n",
       "      <th>bus</th>\n",
       "      <td>6157.289132</td>\n",
       "      <td>3.908973</td>\n",
       "      <td>53977.657478</td>\n",
       "      <td>3.589195</td>\n",
       "    </tr>\n",
       "    <tr>\n",
       "      <th>coach</th>\n",
       "      <td>17036.534247</td>\n",
       "      <td>17.130781</td>\n",
       "      <td>290121.248214</td>\n",
       "      <td>3.581869</td>\n",
       "    </tr>\n",
       "    <tr>\n",
       "      <th>rail_long</th>\n",
       "      <td>18523.098475</td>\n",
       "      <td>55.838611</td>\n",
       "      <td>406277.209165</td>\n",
       "      <td>2.774756</td>\n",
       "    </tr>\n",
       "    <tr>\n",
       "      <th>rail_short</th>\n",
       "      <td>22212.502496</td>\n",
       "      <td>40.117234</td>\n",
       "      <td>366464.251863</td>\n",
       "      <td>3.391966</td>\n",
       "    </tr>\n",
       "    <tr>\n",
       "      <th>walk</th>\n",
       "      <td>6239.264176</td>\n",
       "      <td>0.000000</td>\n",
       "      <td>29307.093159</td>\n",
       "      <td>0.000000</td>\n",
       "    </tr>\n",
       "  </tbody>\n",
       "</table>\n",
       "</div>"
      ],
      "text/plain": [
       "                    time       price         length  ntransfers\n",
       "route_type                                                     \n",
       "air         24573.942511  147.221472  630601.039492    5.172077\n",
       "bus          6157.289132    3.908973   53977.657478    3.589195\n",
       "coach       17036.534247   17.130781  290121.248214    3.581869\n",
       "rail_long   18523.098475   55.838611  406277.209165    2.774756\n",
       "rail_short  22212.502496   40.117234  366464.251863    3.391966\n",
       "walk         6239.264176    0.000000   29307.093159    0.000000"
      ]
     },
     "execution_count": 59,
     "metadata": {},
     "output_type": "execute_result"
    }
   ],
   "source": [
    "sm.pt_los.groupby('route_type').agg(\n",
    "    {'time': 'mean', 'price': 'mean', 'length': 'mean', 'ntransfers': 'mean'})"
   ]
  },
  {
   "cell_type": "markdown",
   "metadata": {},
   "source": [
    "## Save"
   ]
  },
  {
   "cell_type": "code",
   "execution_count": 64,
   "metadata": {},
   "outputs": [
    {
     "data": {
      "text/html": [
       "<div>\n",
       "<style scoped>\n",
       "    .dataframe tbody tr th:only-of-type {\n",
       "        vertical-align: middle;\n",
       "    }\n",
       "\n",
       "    .dataframe tbody tr th {\n",
       "        vertical-align: top;\n",
       "    }\n",
       "\n",
       "    .dataframe thead th {\n",
       "        text-align: right;\n",
       "    }\n",
       "</style>\n",
       "<table border=\"1\" class=\"dataframe\">\n",
       "  <thead>\n",
       "    <tr style=\"text-align: right;\">\n",
       "      <th></th>\n",
       "      <th>access_time</th>\n",
       "      <th>accessibility</th>\n",
       "      <th>destination</th>\n",
       "      <th>footpath_time</th>\n",
       "      <th>in_vehicle_time</th>\n",
       "      <th>length</th>\n",
       "      <th>link_path</th>\n",
       "      <th>mode_utility</th>\n",
       "      <th>ntransfers</th>\n",
       "      <th>origin</th>\n",
       "      <th>...</th>\n",
       "      <th>(\"('Fz1', 0)\", 'probability')</th>\n",
       "      <th>(\"('Fz1', 1)\", 'probability')</th>\n",
       "      <th>(\"('Fz2', 0)\", 'probability')</th>\n",
       "      <th>(\"('Fz2', 1)\", 'probability')</th>\n",
       "      <th>(\"('Fz3', 0)\", 'probability')</th>\n",
       "      <th>(\"('Fz3', 1)\", 'probability')</th>\n",
       "      <th>(\"('Fz4', 0)\", 'probability')</th>\n",
       "      <th>(\"('Fz4', 1)\", 'probability')</th>\n",
       "      <th>(\"('Fz6', 0)\", 'probability')</th>\n",
       "      <th>(\"('Fz6', 1)\", 'probability')</th>\n",
       "    </tr>\n",
       "    <tr>\n",
       "      <th>index</th>\n",
       "      <th></th>\n",
       "      <th></th>\n",
       "      <th></th>\n",
       "      <th></th>\n",
       "      <th></th>\n",
       "      <th></th>\n",
       "      <th></th>\n",
       "      <th></th>\n",
       "      <th></th>\n",
       "      <th></th>\n",
       "      <th></th>\n",
       "      <th></th>\n",
       "      <th></th>\n",
       "      <th></th>\n",
       "      <th></th>\n",
       "      <th></th>\n",
       "      <th></th>\n",
       "      <th></th>\n",
       "      <th></th>\n",
       "      <th></th>\n",
       "      <th></th>\n",
       "    </tr>\n",
       "  </thead>\n",
       "  <tbody>\n",
       "    <tr>\n",
       "      <th>554797</th>\n",
       "      <td>1239</td>\n",
       "      <td>NaN</td>\n",
       "      <td>DE945</td>\n",
       "      <td>1324</td>\n",
       "      <td>16560</td>\n",
       "      <td>704140</td>\n",
       "      <td>[bus_1236953, bus_1236955, bus_1236956, bus_12...</td>\n",
       "      <td>-4.142242</td>\n",
       "      <td>6</td>\n",
       "      <td>DEB3H</td>\n",
       "      <td>...</td>\n",
       "      <td>0.000023</td>\n",
       "      <td>0.00005</td>\n",
       "      <td>0.000001</td>\n",
       "      <td>0.000009</td>\n",
       "      <td>0.000012</td>\n",
       "      <td>0.000473</td>\n",
       "      <td>0.021985</td>\n",
       "      <td>0.016221</td>\n",
       "      <td>0.000008</td>\n",
       "      <td>0.009153</td>\n",
       "    </tr>\n",
       "  </tbody>\n",
       "</table>\n",
       "<p>1 rows × 57 columns</p>\n",
       "</div>"
      ],
      "text/plain": [
       "        access_time  accessibility destination  footpath_time  \\\n",
       "index                                                           \n",
       "554797         1239            NaN       DE945           1324   \n",
       "\n",
       "        in_vehicle_time  length  \\\n",
       "index                             \n",
       "554797            16560  704140   \n",
       "\n",
       "                                                link_path  mode_utility  \\\n",
       "index                                                                     \n",
       "554797  [bus_1236953, bus_1236955, bus_1236956, bus_12...     -4.142242   \n",
       "\n",
       "        ntransfers origin  ... (\"('Fz1', 0)\", 'probability')  \\\n",
       "index                      ...                                 \n",
       "554797           6  DEB3H  ...                      0.000023   \n",
       "\n",
       "        (\"('Fz1', 1)\", 'probability') (\"('Fz2', 0)\", 'probability')  \\\n",
       "index                                                                 \n",
       "554797                        0.00005                      0.000001   \n",
       "\n",
       "       (\"('Fz2', 1)\", 'probability') (\"('Fz3', 0)\", 'probability')  \\\n",
       "index                                                                \n",
       "554797                      0.000009                      0.000012   \n",
       "\n",
       "        (\"('Fz3', 1)\", 'probability')  (\"('Fz4', 0)\", 'probability')  \\\n",
       "index                                                                  \n",
       "554797                       0.000473                       0.021985   \n",
       "\n",
       "        (\"('Fz4', 1)\", 'probability')  (\"('Fz6', 0)\", 'probability')  \\\n",
       "index                                                                  \n",
       "554797                       0.016221                       0.000008   \n",
       "\n",
       "        (\"('Fz6', 1)\", 'probability')  \n",
       "index                                  \n",
       "554797                       0.009153  \n",
       "\n",
       "[1 rows x 57 columns]"
      ]
     },
     "execution_count": 64,
     "metadata": {},
     "output_type": "execute_result"
    }
   ],
   "source": [
    "sm.pt_los.sample()"
   ]
  },
  {
   "cell_type": "code",
   "execution_count": 65,
   "metadata": {},
   "outputs": [
    {
     "name": "stderr",
     "output_type": "stream",
     "text": [
      "to_hdf(overwriting): 100%|█████████████████████████████████████████████████████████████| 35/35 [00:27<00:00,  1.28it/s]\n"
     ]
    }
   ],
   "source": [
    "sm.to_json(model_path + 'de_pt_los',\n",
    "           only_attributes=['pt_los'],\n",
    "           encoding='utf-8')"
   ]
  }
 ],
 "metadata": {
  "kernelspec": {
   "display_name": "Python 3",
   "language": "python",
   "name": "python3"
  },
  "language_info": {
   "codemirror_mode": {
    "name": "ipython",
    "version": 3
   },
   "file_extension": ".py",
   "mimetype": "text/x-python",
   "name": "python",
   "nbconvert_exporter": "python",
   "pygments_lexer": "ipython3",
   "version": "3.8.1"
  }
 },
 "nbformat": 4,
 "nbformat_minor": 4
}
