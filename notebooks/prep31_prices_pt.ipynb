{
 "cells": [
  {
   "cell_type": "code",
   "execution_count": 1,
   "metadata": {},
   "outputs": [
    {
     "name": "stderr",
     "output_type": "stream",
     "text": [
      "In C:\\Users\\marlin.arnz\\AppData\\Local\\Continuum\\miniconda3\\envs\\quetzal\\lib\\site-packages\\matplotlib\\mpl-data\\stylelib\\_classic_test.mplstyle: \n",
      "The text.latex.preview rcparam was deprecated in Matplotlib 3.3 and will be removed two minor releases later.\n",
      "In C:\\Users\\marlin.arnz\\AppData\\Local\\Continuum\\miniconda3\\envs\\quetzal\\lib\\site-packages\\matplotlib\\mpl-data\\stylelib\\_classic_test.mplstyle: \n",
      "The mathtext.fallback_to_cm rcparam was deprecated in Matplotlib 3.3 and will be removed two minor releases later.\n",
      "In C:\\Users\\marlin.arnz\\AppData\\Local\\Continuum\\miniconda3\\envs\\quetzal\\lib\\site-packages\\matplotlib\\mpl-data\\stylelib\\_classic_test.mplstyle: Support for setting the 'mathtext.fallback_to_cm' rcParam is deprecated since 3.3 and will be removed two minor releases later; use 'mathtext.fallback : 'cm' instead.\n",
      "In C:\\Users\\marlin.arnz\\AppData\\Local\\Continuum\\miniconda3\\envs\\quetzal\\lib\\site-packages\\matplotlib\\mpl-data\\stylelib\\_classic_test.mplstyle: \n",
      "The validate_bool_maybe_none function was deprecated in Matplotlib 3.3 and will be removed two minor releases later.\n",
      "In C:\\Users\\marlin.arnz\\AppData\\Local\\Continuum\\miniconda3\\envs\\quetzal\\lib\\site-packages\\matplotlib\\mpl-data\\stylelib\\_classic_test.mplstyle: \n",
      "The savefig.jpeg_quality rcparam was deprecated in Matplotlib 3.3 and will be removed two minor releases later.\n",
      "In C:\\Users\\marlin.arnz\\AppData\\Local\\Continuum\\miniconda3\\envs\\quetzal\\lib\\site-packages\\matplotlib\\mpl-data\\stylelib\\_classic_test.mplstyle: \n",
      "The keymap.all_axes rcparam was deprecated in Matplotlib 3.3 and will be removed two minor releases later.\n",
      "In C:\\Users\\marlin.arnz\\AppData\\Local\\Continuum\\miniconda3\\envs\\quetzal\\lib\\site-packages\\matplotlib\\mpl-data\\stylelib\\_classic_test.mplstyle: \n",
      "The animation.avconv_path rcparam was deprecated in Matplotlib 3.3 and will be removed two minor releases later.\n",
      "In C:\\Users\\marlin.arnz\\AppData\\Local\\Continuum\\miniconda3\\envs\\quetzal\\lib\\site-packages\\matplotlib\\mpl-data\\stylelib\\_classic_test.mplstyle: \n",
      "The animation.avconv_args rcparam was deprecated in Matplotlib 3.3 and will be removed two minor releases later.\n"
     ]
    }
   ],
   "source": [
    "import sys # for automation and parallelisation\n",
    "manual, scenario = (True, 'base') if 'ipykernel' in sys.argv[0] else (False, sys.argv[1])\n",
    "if manual:\n",
    "    %matplotlib inline"
   ]
  },
  {
   "cell_type": "code",
   "execution_count": 2,
   "metadata": {},
   "outputs": [],
   "source": [
    "import os\n",
    "import math\n",
    "import pandas as pd\n",
    "import numpy as np\n",
    "from geopy.distance import geodesic\n",
    "import matplotlib.pyplot as plt\n",
    "from quetzal.model import stepmodel\n",
    "from syspy.skims import skims\n",
    "from quetzal.io import excel"
   ]
  },
  {
   "cell_type": "markdown",
   "metadata": {},
   "source": [
    "# Preparation of the LoS tables\n",
    "## Saves price and accessibility attribute to PT LoS table\n",
    "## Needs PT LoS table and links"
   ]
  },
  {
   "cell_type": "code",
   "execution_count": 3,
   "metadata": {},
   "outputs": [],
   "source": [
    "input_path = '../input_static/'\n",
    "output_path = '../output/'\n",
    "model_path = '../model/'"
   ]
  },
  {
   "cell_type": "code",
   "execution_count": 4,
   "metadata": {},
   "outputs": [],
   "source": [
    "# Load scenario parameters\n",
    "params = excel.read_var(file='../input/parameters.xls', scenario=scenario)"
   ]
  },
  {
   "cell_type": "code",
   "execution_count": 5,
   "metadata": {},
   "outputs": [],
   "source": [
    "los = stepmodel.read_json(model_path + scenario + '/' + 'de_pt_los')\n",
    "sm = stepmodel.read_json(model_path + 'de_pt_network_agg')"
   ]
  },
  {
   "cell_type": "code",
   "execution_count": 6,
   "metadata": {},
   "outputs": [],
   "source": [
    "if 'route_type_disagg' in los.pt_los.columns:\n",
    "    los.pt_los['route_type'] = los.pt_los['route_type_disagg']\n",
    "    if los.pt_los['route_type'].isna().max():\n",
    "        # Add main route_type based on a hierarchy\n",
    "        hierarchy = ['air', 'coach', 'rail_long', 'rail_short', 'bus', 'walk']\n",
    "        def main_type(types):\n",
    "            t = hierarchy[-1]\n",
    "            try:\n",
    "                t = hierarchy[min([hierarchy.index(t) for t in types])]\n",
    "            except ValueError: # empty types set\n",
    "                pass\n",
    "            return t\n",
    "        los.pt_los['route_type'] = los.pt_los['route_types'].apply(main_type)"
   ]
  },
  {
   "cell_type": "code",
   "execution_count": 7,
   "metadata": {},
   "outputs": [
    {
     "data": {
      "text/plain": [
       "19699.235807884026"
      ]
     },
     "execution_count": 7,
     "metadata": {},
     "output_type": "execute_result"
    }
   ],
   "source": [
    "# Make sure time is converted to seconds\n",
    "if los.pt_los['time'].mean() < 10:\n",
    "    los.pt_los['time'] = los.pt_los['time'] * 3600\n",
    "los.pt_los['time'].mean()"
   ]
  },
  {
   "cell_type": "code",
   "execution_count": 8,
   "metadata": {},
   "outputs": [
    {
     "data": {
      "text/html": [
       "<div>\n",
       "<style scoped>\n",
       "    .dataframe tbody tr th:only-of-type {\n",
       "        vertical-align: middle;\n",
       "    }\n",
       "\n",
       "    .dataframe tbody tr th {\n",
       "        vertical-align: top;\n",
       "    }\n",
       "\n",
       "    .dataframe thead th {\n",
       "        text-align: right;\n",
       "    }\n",
       "</style>\n",
       "<table border=\"1\" class=\"dataframe\">\n",
       "  <thead>\n",
       "    <tr style=\"text-align: right;\">\n",
       "      <th></th>\n",
       "      <th>route_type</th>\n",
       "      <th>route_type_disagg</th>\n",
       "      <th>geometry</th>\n",
       "      <th>a</th>\n",
       "      <th>b</th>\n",
       "      <th>link_sequence</th>\n",
       "      <th>route_id</th>\n",
       "      <th>time</th>\n",
       "      <th>trip_id</th>\n",
       "      <th>headway</th>\n",
       "    </tr>\n",
       "    <tr>\n",
       "      <th>index</th>\n",
       "      <th></th>\n",
       "      <th></th>\n",
       "      <th></th>\n",
       "      <th></th>\n",
       "      <th></th>\n",
       "      <th></th>\n",
       "      <th></th>\n",
       "      <th></th>\n",
       "      <th></th>\n",
       "      <th></th>\n",
       "    </tr>\n",
       "  </thead>\n",
       "  <tbody>\n",
       "    <tr>\n",
       "      <th>c_3753</th>\n",
       "      <td>coach</td>\n",
       "      <td>coach</td>\n",
       "      <td>LINESTRING (8.67426 50.10213, 8.47282 49.47808)</td>\n",
       "      <td>c_DE712_0</td>\n",
       "      <td>c_DE126_0</td>\n",
       "      <td>7</td>\n",
       "      <td>c_FLIXBUS:085</td>\n",
       "      <td>3600</td>\n",
       "      <td>c_FLIXBUS:085_6</td>\n",
       "      <td>43200</td>\n",
       "    </tr>\n",
       "    <tr>\n",
       "      <th>rs_17234</th>\n",
       "      <td>rail_short</td>\n",
       "      <td>rail_short</td>\n",
       "      <td>LINESTRING (10.39091 48.16251, 10.40850 48.13858)</td>\n",
       "      <td>rs_DE27C_3</td>\n",
       "      <td>rs_DE27C_4</td>\n",
       "      <td>15</td>\n",
       "      <td>rs_17</td>\n",
       "      <td>240</td>\n",
       "      <td>rs_17_228</td>\n",
       "      <td>7200</td>\n",
       "    </tr>\n",
       "  </tbody>\n",
       "</table>\n",
       "</div>"
      ],
      "text/plain": [
       "          route_type route_type_disagg  \\\n",
       "index                                    \n",
       "c_3753         coach             coach   \n",
       "rs_17234  rail_short        rail_short   \n",
       "\n",
       "                                                   geometry           a  \\\n",
       "index                                                                     \n",
       "c_3753      LINESTRING (8.67426 50.10213, 8.47282 49.47808)   c_DE712_0   \n",
       "rs_17234  LINESTRING (10.39091 48.16251, 10.40850 48.13858)  rs_DE27C_3   \n",
       "\n",
       "                   b  link_sequence       route_id  time          trip_id  \\\n",
       "index                                                                       \n",
       "c_3753     c_DE126_0              7  c_FLIXBUS:085  3600  c_FLIXBUS:085_6   \n",
       "rs_17234  rs_DE27C_4             15          rs_17   240        rs_17_228   \n",
       "\n",
       "          headway  \n",
       "index              \n",
       "c_3753      43200  \n",
       "rs_17234     7200  "
      ]
     },
     "execution_count": 8,
     "metadata": {},
     "output_type": "execute_result"
    }
   ],
   "source": [
    "sm.links.sample(2)"
   ]
  },
  {
   "cell_type": "code",
   "execution_count": 9,
   "metadata": {},
   "outputs": [],
   "source": [
    "# Add P&R LoS table, if available\n",
    "if os.path.exists(model_path + 'de_pr_los/'):\n",
    "    pr = stepmodel.read_json(model_path + 'de_pt_los')\n",
    "    sm.pt_los = pd.concat([los.pt_los, pr.pr_los])\n",
    "else:\n",
    "    sm.pt_los = los.pt_los"
   ]
  },
  {
   "cell_type": "markdown",
   "metadata": {},
   "source": [
    "## Prices\n",
    "\n",
    "First, we apply distance-dependent cost factors on links. Then, we apply the intercepts and further assumptions on pt_los"
   ]
  },
  {
   "cell_type": "code",
   "execution_count": 10,
   "metadata": {},
   "outputs": [],
   "source": [
    "# Generate length for PT links as the crow flies\n",
    "if 'length' not in sm.links.columns:\n",
    "    sm.links['length'] = skims.distance_from_geometry(sm.links['geometry']).astype(int)"
   ]
  },
  {
   "cell_type": "code",
   "execution_count": 11,
   "metadata": {},
   "outputs": [],
   "source": [
    "sm.links['price'] = 0"
   ]
  },
  {
   "cell_type": "code",
   "execution_count": 12,
   "metadata": {},
   "outputs": [],
   "source": [
    "type_dict = sm.links['route_type'].to_dict()"
   ]
  },
  {
   "cell_type": "code",
   "execution_count": 13,
   "metadata": {},
   "outputs": [],
   "source": [
    "# Load cost parameters\n",
    "rail_short_slope = params['pt_price']['rail_short_slope']\n",
    "rail_short_intercept = params['pt_price']['rail_short_intercept']\n",
    "rl_dist_slope = params['pt_price']['rail_long_dist_slope']\n",
    "rl_time_slope = params['pt_price']['rail_long_time_slope']\n",
    "rl_intercept = params['pt_price']['rail_long_intercept']"
   ]
  },
  {
   "cell_type": "code",
   "execution_count": 14,
   "metadata": {},
   "outputs": [],
   "source": [
    "# Apply link cost for rail_short\n",
    "sm.links.loc[sm.links['route_type']=='rail_short', 'price'] = \\\n",
    "    sm.links.loc[sm.links['route_type']=='rail_short', 'length'] / 1000 * rail_short_slope"
   ]
  },
  {
   "cell_type": "code",
   "execution_count": 15,
   "metadata": {},
   "outputs": [],
   "source": [
    "# Apply link cost for rail_long\n",
    "mask = sm.links['route_type']=='rail_long'\n",
    "sm.links.loc[mask, 'price'] = [d/1000*rl_dist_slope + t/3600*rl_time_slope\n",
    "    for d,t in zip(sm.links.loc[mask, 'length'], sm.links.loc[mask, 'time'])]"
   ]
  },
  {
   "cell_type": "code",
   "execution_count": 16,
   "metadata": {},
   "outputs": [],
   "source": [
    "# Apply link cost for coach\n",
    "sm.links.loc[sm.links['route_type']=='coach', 'price'] = \\\n",
    "    sm.links.loc[sm.links['route_type']=='coach', 'length'] / 1000 * params['pt_price']['coach']"
   ]
  },
  {
   "cell_type": "code",
   "execution_count": 17,
   "metadata": {},
   "outputs": [],
   "source": [
    "# Sum link cost\n",
    "price_dict = sm.links['price'].to_dict()\n",
    "sm.pt_los['price'] = sm.pt_los['link_path'].apply(\n",
    "    lambda l: sum([price_dict[link] for link in l]))"
   ]
  },
  {
   "cell_type": "markdown",
   "metadata": {},
   "source": [
    "### Rail short-distance\n",
    "Short-distance rail services have the price structure stated in the DB document. However, most people who use it have some kind of abonement and don't buy single trip tickets. cal10 shows that for trips under 50km distance there is a 50% share of permanent abonements. Moreover, it doesn't make sense to choose short-distance rail services on long distances. Still, if so, people choose the \"Quer-durchs-Land-Ticket\" for 42€."
   ]
  },
  {
   "cell_type": "code",
   "execution_count": 18,
   "metadata": {},
   "outputs": [
    {
     "name": "stdout",
     "output_type": "stream",
     "text": [
      "y=0.233*x+1.468\n"
     ]
    },
    {
     "data": {
      "image/png": "[encoded data removed]",
      "text/plain": [
       "<Figure size 432x288 with 1 Axes>"
      ]
     },
     "metadata": {
      "needs_background": "light"
     },
     "output_type": "display_data"
    }
   ],
   "source": [
    "# Use second class single trip prices\n",
    "# Choose a fit for a distance range up to 60 km (longer links are rare)\n",
    "if manual:\n",
    "    c = pd.read_csv(input_path + 'level_of_service/DB_2020_preisliste_fahrplanjahr_2020.csv')\n",
    "    z = np.polyfit(c.loc[0:30, 'km'], c.loc[0:30, 'single_trip_second_class'], deg=1)\n",
    "    p = np.poly1d(z)\n",
    "    plt.plot(c.loc[0:30, 'km'], p(c.loc[0:30, 'km']), linestyle='--', marker=' ', label='Regression')\n",
    "    plt.plot(c.loc[0:30, 'km'], c.loc[0:30, 'single_trip_second_class'], linestyle='--', marker=' ', label='2nd class')\n",
    "    plt.legend()\n",
    "    print('y={}*x+{}'.format(np.round(z[0], 3), np.round(z[1], 3)))"
   ]
  },
  {
   "cell_type": "code",
   "execution_count": 19,
   "metadata": {},
   "outputs": [],
   "source": [
    "# Add the intercept\n",
    "sm.pt_los.loc[sm.pt_los['route_type']=='rail_short', 'price'] += rail_short_intercept"
   ]
  },
  {
   "cell_type": "code",
   "execution_count": 20,
   "metadata": {},
   "outputs": [],
   "source": [
    "# Add a price floor for short-distance rail (and cap for consistency)\n",
    "sm.pt_los.loc[sm.pt_los['route_type']=='rail_short', 'price'] = np.clip(\n",
    "    sm.pt_los.loc[sm.pt_los['route_type']=='rail_short', 'price'],\n",
    "    params['pt_price']['min_rail_short'],\n",
    "    params['pt_price']['max_rail_short'])"
   ]
  },
  {
   "cell_type": "code",
   "execution_count": 21,
   "metadata": {},
   "outputs": [],
   "source": [
    "# Add abonements share for short-distance rail\n",
    "#mask = (sm.pt_los['route_type']=='rail_short') & (sm.pt_los['length']<50000)\n",
    "#sm.pt_los.loc[mask, 'price'] = sm.pt_los.loc[mask, 'price'] * (1-params['pt_price']['rail_short_abo_share'])"
   ]
  },
  {
   "cell_type": "code",
   "execution_count": 22,
   "metadata": {},
   "outputs": [
    {
     "data": {
      "image/png": "[encoded data removed]",
      "text/plain": [
       "<Figure size 432x288 with 1 Axes>"
      ]
     },
     "metadata": {
      "needs_background": "light"
     },
     "output_type": "display_data"
    }
   ],
   "source": [
    "if manual:\n",
    "    x = sm.pt_los.loc[sm.pt_los['route_type']=='rail_short']['length'] / 1000\n",
    "    y = sm.pt_los.loc[sm.pt_los['route_type']=='rail_short']['price']\n",
    "    plt.scatter(x, y, marker='o', alpha=.01, label='price')\n",
    "    plt.legend()"
   ]
  },
  {
   "cell_type": "code",
   "execution_count": 23,
   "metadata": {},
   "outputs": [
    {
     "data": {
      "text/plain": [
       "0"
      ]
     },
     "execution_count": 23,
     "metadata": {},
     "output_type": "execute_result"
    }
   ],
   "source": [
    "len(sm.pt_los.loc[(sm.pt_los['route_type']=='rail_short') & (sm.pt_los['price']<5)])"
   ]
  },
  {
   "cell_type": "markdown",
   "metadata": {},
   "source": [
    "### Rail long distance\n",
    "\n",
    "Long-distance services have a complicated price structure that is not published by DB. Thus, we need to make assumptions based on a regression analysis of observation data (see prep32):\n",
    "\n",
    "* Rail transport is purely path-distance and -duration-dependent\n",
    "* Price dependency is linear\n",
    "* There is a price cap of 139 EUR\n",
    "* Assume a distribution of Sparpreis and Flexpreis"
   ]
  },
  {
   "cell_type": "code",
   "execution_count": 24,
   "metadata": {},
   "outputs": [],
   "source": [
    "# Add an intercept\n",
    "sm.pt_los.loc[sm.pt_los['route_type']=='rail_long', 'price'] += rl_intercept"
   ]
  },
  {
   "cell_type": "code",
   "execution_count": 25,
   "metadata": {},
   "outputs": [],
   "source": [
    "# Add a price cap and floor for long-distance rail\n",
    "sm.pt_los.loc[sm.pt_los['route_type']=='rail_long', 'price'] = np.clip(\n",
    "    sm.pt_los.loc[sm.pt_los['route_type']=='rail_long', 'price'],\n",
    "    params['pt_price']['min_rail_long'],\n",
    "    params['pt_price']['max_rail_long'])"
   ]
  },
  {
   "cell_type": "code",
   "execution_count": 26,
   "metadata": {},
   "outputs": [
    {
     "data": {
      "image/png": "[encoded data removed]",
      "text/plain": [
       "<Figure size 432x288 with 1 Axes>"
      ]
     },
     "metadata": {
      "needs_background": "light"
     },
     "output_type": "display_data"
    }
   ],
   "source": [
    "if manual:\n",
    "    x = sm.pt_los.loc[sm.pt_los['route_type']=='rail_long']['length'] / 1000\n",
    "    y = sm.pt_los.loc[sm.pt_los['route_type']=='rail_long']['price']\n",
    "    plt.scatter(x, y, marker='o', alpha=.01, label='price')\n",
    "    plt.legend()"
   ]
  },
  {
   "cell_type": "markdown",
   "metadata": {},
   "source": [
    "### Coach\n",
    "\n",
    "Assume a linear cost function based on distance. There are several sample studies available:\n",
    "* Average cost in Germany (0.107 EUR/pkm): https://de.statista.com/statistik/daten/studie/380601/umfrage/kilometerpreise-fernbuslinien-in-deutschland/\n",
    "* Average cost on selected OD pairs with cheapest prices: https://www.fernbusse.de/aktuelles/studie-fernbuspreise-steigen-leicht-bahntickets-guenstiger-1628/\n",
    "\n",
    "The latter is more realistic"
   ]
  },
  {
   "cell_type": "code",
   "execution_count": 27,
   "metadata": {},
   "outputs": [],
   "source": [
    "# Add a price cap and floor\n",
    "sm.pt_los.loc[sm.pt_los['route_type']=='coach', 'price'] = np.clip(\n",
    "    sm.pt_los.loc[sm.pt_los['route_type']=='coach', 'price'],\n",
    "    params['pt_price']['min_coach'],\n",
    "    params['pt_price']['max_coach'])"
   ]
  },
  {
   "cell_type": "code",
   "execution_count": 28,
   "metadata": {},
   "outputs": [
    {
     "data": {
      "image/png": "[encoded data removed]",
      "text/plain": [
       "<Figure size 432x288 with 1 Axes>"
      ]
     },
     "metadata": {
      "needs_background": "light"
     },
     "output_type": "display_data"
    }
   ],
   "source": [
    "if manual:\n",
    "    x = sm.pt_los.loc[sm.pt_los['route_type']=='coach']['length'] / 1000\n",
    "    y = sm.pt_los.loc[sm.pt_los['route_type']=='coach']['price']\n",
    "    plt.scatter(x, y, marker='o', alpha=.05, label='price')\n",
    "    plt.legend()"
   ]
  },
  {
   "cell_type": "markdown",
   "metadata": {},
   "source": [
    "### Air\n"
   ]
  },
  {
   "cell_type": "code",
   "execution_count": 29,
   "metadata": {},
   "outputs": [
    {
     "data": {
      "text/plain": [
       "<AxesSubplot:xlabel='time'>"
      ]
     },
     "execution_count": 29,
     "metadata": {},
     "output_type": "execute_result"
    },
    {
     "data": {
      "image/png": "[encoded data removed]",
      "text/plain": [
       "<Figure size 432x288 with 1 Axes>"
      ]
     },
     "metadata": {
      "needs_background": "light"
     },
     "output_type": "display_data"
    }
   ],
   "source": [
    "# Load connection list\n",
    "air = pd.read_excel(input_path + 'public_transport/air_connections_germany.xls', engine='xlrd')\n",
    "air = air.loc[air['direct']==True]\n",
    "air['a'] = air['origin'].str[:3]\n",
    "air['b'] = air['destination'].str[:3]\n",
    "#print('Average economy price: {} EUR'.format(air['price_economy'].mean()))\n",
    "#print('Average business price: {} EUR'.format(air['price_business'].mean()))\n",
    "air[['price_business', 'price_economy', 'time']].set_index('time').plot(linestyle=' ', marker='o')"
   ]
  },
  {
   "cell_type": "code",
   "execution_count": 30,
   "metadata": {},
   "outputs": [],
   "source": [
    "# Take the economy price because its share is higher\n",
    "# than 90% within Germany\n",
    "air['trip'] = air['a'] + '-' + air['b']\n",
    "air_price_dict = air.set_index('trip')['price_economy'].to_dict()\n",
    "air_prices = sm.links.loc[sm.links['route_type']=='air', 'trip_id'].map(\n",
    "    air_price_dict).fillna(params['pt_price']['air_economy']).to_dict()"
   ]
  },
  {
   "cell_type": "code",
   "execution_count": 31,
   "metadata": {},
   "outputs": [
    {
     "data": {
      "text/plain": [
       "138.47968101761657"
      ]
     },
     "execution_count": 31,
     "metadata": {},
     "output_type": "execute_result"
    }
   ],
   "source": [
    "# Add air prices to path cost\n",
    "mask = sm.pt_los['route_type']=='air'\n",
    "sm.pt_los.loc[mask, 'price'] += sm.pt_los.loc[mask, 'link_path'].apply(\n",
    "    lambda l: sum([air_prices[link] if link in air_prices.keys() else 0\n",
    "                   for link in l]))\n",
    "# Add intercepts of rail modes\n",
    "sm.pt_los.loc[(mask) & (sm.pt_los['route_types'].apply(lambda l: 'rail_short' in l)),\n",
    "              'price'] += rail_short_intercept\n",
    "sm.pt_los.loc[(mask) & (sm.pt_los['route_types'].apply(lambda l: 'rail_long' in l)),\n",
    "              'price'] += rl_intercept\n",
    "sm.pt_los.loc[sm.pt_los['route_type']=='air', 'price'].mean()"
   ]
  },
  {
   "cell_type": "code",
   "execution_count": 32,
   "metadata": {},
   "outputs": [
    {
     "data": {
      "text/plain": [
       "0"
      ]
     },
     "execution_count": 32,
     "metadata": {},
     "output_type": "execute_result"
    }
   ],
   "source": [
    "len(sm.pt_los.loc[sm.pt_los['price'].isna()])"
   ]
  },
  {
   "cell_type": "markdown",
   "metadata": {},
   "source": [
    "### Local transport\n",
    "\n",
    "Local transport fares are added on top, as they are usually included into the rail ticket price or have a standalone price map dependent on ordinal distance classes."
   ]
  },
  {
   "cell_type": "code",
   "execution_count": 33,
   "metadata": {},
   "outputs": [],
   "source": [
    "# Add a fare for local transport services\n",
    "# Get links with bus service at start or end of the trip\n",
    "mode_dict = sm.links['route_type'].to_dict()\n",
    "bus_at_o = sm.pt_los['link_path'].apply(lambda l: mode_dict[l[0]]=='bus' if len(l)>0 else False)\n",
    "bus_at_d = sm.pt_los['link_path'].apply(lambda l: mode_dict[l[-1]]=='bus' if len(l)>0 else False)\n",
    "only_bus = sm.pt_los['route_type']=='bus'\n",
    "# Bus tickets are included in long-distance rail tickets\n",
    "rail_long = sm.pt_los['route_types'].apply(lambda t: 'rail_long' in t)\n",
    "# Define price structure by regional type\n",
    "region_dict = sm.zones['urbanisation'].to_dict()\n",
    "region_prices = {1: params['pt_price']['bus_urban1'],\n",
    "                 2: params['pt_price']['bus_urban2'],\n",
    "                 3: params['pt_price']['bus_urban3']}\n",
    "first_last_mile_discount_factor = params['pt_price']['bus_multimodal_share']\n",
    "\n",
    "# Case 1: Multimodal\n",
    "sm.pt_los.loc[(bus_at_o) & ~(only_bus) & ~(rail_long), 'price'] += sm.pt_los.loc[\n",
    "    (bus_at_o) & ~(only_bus) & ~(rail_long), 'origin'].map(region_dict).map(region_prices) \\\n",
    "        * first_last_mile_discount_factor\n",
    "sm.pt_los.loc[(bus_at_d) & ~(only_bus) & ~(rail_long), 'price'] += sm.pt_los.loc[\n",
    "    (bus_at_d) & ~(only_bus) & ~(rail_long), 'destination'].map(region_dict).map(region_prices) \\\n",
    "        * first_last_mile_discount_factor\n",
    "\n",
    "# Case 2: Only bus (take the higher urbanisation degree from O and D)\n",
    "sm.pt_los.loc[only_bus, 'price'] = [\n",
    "    region_prices[min(region_dict[o], region_dict[d])]\n",
    "    for o,d in zip(sm.pt_los.loc[only_bus, 'origin'], sm.pt_los.loc[only_bus, 'destination'])]"
   ]
  },
  {
   "cell_type": "code",
   "execution_count": 34,
   "metadata": {},
   "outputs": [],
   "source": [
    "assert len(sm.pt_los.loc[sm.pt_los['price'].isna()])==0"
   ]
  },
  {
   "cell_type": "code",
   "execution_count": 35,
   "metadata": {},
   "outputs": [
    {
     "data": {
      "text/html": [
       "<div>\n",
       "<style scoped>\n",
       "    .dataframe tbody tr th:only-of-type {\n",
       "        vertical-align: middle;\n",
       "    }\n",
       "\n",
       "    .dataframe tbody tr th {\n",
       "        vertical-align: top;\n",
       "    }\n",
       "\n",
       "    .dataframe thead th {\n",
       "        text-align: right;\n",
       "    }\n",
       "</style>\n",
       "<table border=\"1\" class=\"dataframe\">\n",
       "  <thead>\n",
       "    <tr style=\"text-align: right;\">\n",
       "      <th></th>\n",
       "      <th>time</th>\n",
       "      <th>price</th>\n",
       "      <th>length</th>\n",
       "      <th>ntransfers</th>\n",
       "    </tr>\n",
       "    <tr>\n",
       "      <th>route_type</th>\n",
       "      <th></th>\n",
       "      <th></th>\n",
       "      <th></th>\n",
       "      <th></th>\n",
       "    </tr>\n",
       "  </thead>\n",
       "  <tbody>\n",
       "    <tr>\n",
       "      <th>air</th>\n",
       "      <td>28298.554051</td>\n",
       "      <td>139.760743</td>\n",
       "      <td>766966.641440</td>\n",
       "      <td>5.498182</td>\n",
       "    </tr>\n",
       "    <tr>\n",
       "      <th>bus</th>\n",
       "      <td>5759.746158</td>\n",
       "      <td>6.153862</td>\n",
       "      <td>44882.174017</td>\n",
       "      <td>3.103373</td>\n",
       "    </tr>\n",
       "    <tr>\n",
       "      <th>coach</th>\n",
       "      <td>25709.820506</td>\n",
       "      <td>20.233959</td>\n",
       "      <td>373394.514980</td>\n",
       "      <td>3.459925</td>\n",
       "    </tr>\n",
       "    <tr>\n",
       "      <th>rail_long</th>\n",
       "      <td>18824.702755</td>\n",
       "      <td>65.604424</td>\n",
       "      <td>406659.467439</td>\n",
       "      <td>2.778401</td>\n",
       "    </tr>\n",
       "    <tr>\n",
       "      <th>rail_short</th>\n",
       "      <td>14818.372264</td>\n",
       "      <td>41.684933</td>\n",
       "      <td>215726.154922</td>\n",
       "      <td>2.517754</td>\n",
       "    </tr>\n",
       "  </tbody>\n",
       "</table>\n",
       "</div>"
      ],
      "text/plain": [
       "                    time       price         length  ntransfers\n",
       "route_type                                                     \n",
       "air         28298.554051  139.760743  766966.641440    5.498182\n",
       "bus          5759.746158    6.153862   44882.174017    3.103373\n",
       "coach       25709.820506   20.233959  373394.514980    3.459925\n",
       "rail_long   18824.702755   65.604424  406659.467439    2.778401\n",
       "rail_short  14818.372264   41.684933  215726.154922    2.517754"
      ]
     },
     "execution_count": 35,
     "metadata": {},
     "output_type": "execute_result"
    }
   ],
   "source": [
    "sm.pt_los.groupby('route_type').agg(\n",
    "    {'time': 'mean', 'price': 'mean', 'length': 'mean', 'ntransfers': 'mean'})"
   ]
  },
  {
   "cell_type": "markdown",
   "metadata": {},
   "source": [
    "## Save"
   ]
  },
  {
   "cell_type": "code",
   "execution_count": 36,
   "metadata": {},
   "outputs": [
    {
     "data": {
      "text/html": [
       "<div>\n",
       "<style scoped>\n",
       "    .dataframe tbody tr th:only-of-type {\n",
       "        vertical-align: middle;\n",
       "    }\n",
       "\n",
       "    .dataframe tbody tr th {\n",
       "        vertical-align: top;\n",
       "    }\n",
       "\n",
       "    .dataframe thead th {\n",
       "        text-align: right;\n",
       "    }\n",
       "</style>\n",
       "<table border=\"1\" class=\"dataframe\">\n",
       "  <thead>\n",
       "    <tr style=\"text-align: right;\">\n",
       "      <th></th>\n",
       "      <th>origin</th>\n",
       "      <th>destination</th>\n",
       "      <th>route_types</th>\n",
       "      <th>link_path</th>\n",
       "      <th>ntransfers</th>\n",
       "      <th>length</th>\n",
       "      <th>access_time</th>\n",
       "      <th>footpath_time</th>\n",
       "      <th>in_vehicle_time</th>\n",
       "      <th>waiting_time</th>\n",
       "      <th>time</th>\n",
       "      <th>route_type</th>\n",
       "      <th>price</th>\n",
       "    </tr>\n",
       "    <tr>\n",
       "      <th>index</th>\n",
       "      <th></th>\n",
       "      <th></th>\n",
       "      <th></th>\n",
       "      <th></th>\n",
       "      <th></th>\n",
       "      <th></th>\n",
       "      <th></th>\n",
       "      <th></th>\n",
       "      <th></th>\n",
       "      <th></th>\n",
       "      <th></th>\n",
       "      <th></th>\n",
       "      <th></th>\n",
       "    </tr>\n",
       "  </thead>\n",
       "  <tbody>\n",
       "    <tr>\n",
       "      <th>251070</th>\n",
       "      <td>DE404</td>\n",
       "      <td>DEB37</td>\n",
       "      <td>[air, rail_short, bus]</td>\n",
       "      <td>[rs_48637, rs_48638, rs_48639, rs_48640, rs_48...</td>\n",
       "      <td>7</td>\n",
       "      <td>826133</td>\n",
       "      <td>897</td>\n",
       "      <td>1304</td>\n",
       "      <td>21234</td>\n",
       "      <td>12017</td>\n",
       "      <td>35452</td>\n",
       "      <td>air</td>\n",
       "      <td>154.874396</td>\n",
       "    </tr>\n",
       "  </tbody>\n",
       "</table>\n",
       "</div>"
      ],
      "text/plain": [
       "       origin destination             route_types  \\\n",
       "index                                               \n",
       "251070  DE404       DEB37  [air, rail_short, bus]   \n",
       "\n",
       "                                                link_path  ntransfers  length  \\\n",
       "index                                                                           \n",
       "251070  [rs_48637, rs_48638, rs_48639, rs_48640, rs_48...           7  826133   \n",
       "\n",
       "        access_time  footpath_time  in_vehicle_time  waiting_time   time  \\\n",
       "index                                                                      \n",
       "251070          897           1304            21234         12017  35452   \n",
       "\n",
       "       route_type       price  \n",
       "index                          \n",
       "251070        air  154.874396  "
      ]
     },
     "execution_count": 36,
     "metadata": {},
     "output_type": "execute_result"
    }
   ],
   "source": [
    "sm.pt_los.sample()"
   ]
  },
  {
   "cell_type": "code",
   "execution_count": 37,
   "metadata": {},
   "outputs": [
    {
     "name": "stderr",
     "output_type": "stream",
     "text": [
      "to_hdf(overwriting): 100%|█████████████████████████████████████████████████████████████| 35/35 [00:06<00:00,  5.64it/s]\n"
     ]
    }
   ],
   "source": [
    "sm.to_json(model_path + scenario + '/' + 'de_pt_los',\n",
    "           only_attributes=['pt_los'],\n",
    "           encoding='utf-8')"
   ]
  }
 ],
 "metadata": {
  "kernelspec": {
   "display_name": "Python 3",
   "language": "python",
   "name": "python3"
  },
  "language_info": {
   "codemirror_mode": {
    "name": "ipython",
    "version": 3
   },
   "file_extension": ".py",
   "mimetype": "text/x-python",
   "name": "python",
   "nbconvert_exporter": "python",
   "pygments_lexer": "ipython3",
   "version": "3.8.1"
  }
 },
 "nbformat": 4,
 "nbformat_minor": 4
}
