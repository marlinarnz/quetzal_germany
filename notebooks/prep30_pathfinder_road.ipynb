{
 "cells": [
  {
   "cell_type": "code",
   "execution_count": 1,
   "metadata": {},
   "outputs": [
    {
     "name": "stderr",
     "output_type": "stream",
     "text": [
      "In C:\\Users\\marlin.arnz\\AppData\\Local\\Continuum\\miniconda3\\envs\\quetzal\\lib\\site-packages\\matplotlib\\mpl-data\\stylelib\\_classic_test.mplstyle: \n",
      "The text.latex.preview rcparam was deprecated in Matplotlib 3.3 and will be removed two minor releases later.\n",
      "In C:\\Users\\marlin.arnz\\AppData\\Local\\Continuum\\miniconda3\\envs\\quetzal\\lib\\site-packages\\matplotlib\\mpl-data\\stylelib\\_classic_test.mplstyle: \n",
      "The mathtext.fallback_to_cm rcparam was deprecated in Matplotlib 3.3 and will be removed two minor releases later.\n",
      "In C:\\Users\\marlin.arnz\\AppData\\Local\\Continuum\\miniconda3\\envs\\quetzal\\lib\\site-packages\\matplotlib\\mpl-data\\stylelib\\_classic_test.mplstyle: Support for setting the 'mathtext.fallback_to_cm' rcParam is deprecated since 3.3 and will be removed two minor releases later; use 'mathtext.fallback : 'cm' instead.\n",
      "In C:\\Users\\marlin.arnz\\AppData\\Local\\Continuum\\miniconda3\\envs\\quetzal\\lib\\site-packages\\matplotlib\\mpl-data\\stylelib\\_classic_test.mplstyle: \n",
      "The validate_bool_maybe_none function was deprecated in Matplotlib 3.3 and will be removed two minor releases later.\n",
      "In C:\\Users\\marlin.arnz\\AppData\\Local\\Continuum\\miniconda3\\envs\\quetzal\\lib\\site-packages\\matplotlib\\mpl-data\\stylelib\\_classic_test.mplstyle: \n",
      "The savefig.jpeg_quality rcparam was deprecated in Matplotlib 3.3 and will be removed two minor releases later.\n",
      "In C:\\Users\\marlin.arnz\\AppData\\Local\\Continuum\\miniconda3\\envs\\quetzal\\lib\\site-packages\\matplotlib\\mpl-data\\stylelib\\_classic_test.mplstyle: \n",
      "The keymap.all_axes rcparam was deprecated in Matplotlib 3.3 and will be removed two minor releases later.\n",
      "In C:\\Users\\marlin.arnz\\AppData\\Local\\Continuum\\miniconda3\\envs\\quetzal\\lib\\site-packages\\matplotlib\\mpl-data\\stylelib\\_classic_test.mplstyle: \n",
      "The animation.avconv_path rcparam was deprecated in Matplotlib 3.3 and will be removed two minor releases later.\n",
      "In C:\\Users\\marlin.arnz\\AppData\\Local\\Continuum\\miniconda3\\envs\\quetzal\\lib\\site-packages\\matplotlib\\mpl-data\\stylelib\\_classic_test.mplstyle: \n",
      "The animation.avconv_args rcparam was deprecated in Matplotlib 3.3 and will be removed two minor releases later.\n"
     ]
    }
   ],
   "source": [
    "import sys # for automation and parallelisation\n",
    "manual, scenario = (True, 'base') if 'ipykernel' in sys.argv[0] else (False, sys.argv[1])\n",
    "if manual:\n",
    "    %matplotlib inline"
   ]
  },
  {
   "cell_type": "code",
   "execution_count": 2,
   "metadata": {},
   "outputs": [],
   "source": [
    "import math\n",
    "import numpy as np\n",
    "import pandas as pd\n",
    "import geopandas as gpd\n",
    "from shapely import geometry\n",
    "from quetzal.model import stepmodel\n",
    "from quetzal.io import excel"
   ]
  },
  {
   "cell_type": "markdown",
   "metadata": {},
   "source": [
    "# Preparation of the LoS tables\n",
    "## Saves a StepModel with shortest paths and LoS attributes for the road network\n",
    "## Needs the road network"
   ]
  },
  {
   "cell_type": "code",
   "execution_count": 3,
   "metadata": {},
   "outputs": [],
   "source": [
    "input_path = '../input_static/'\n",
    "output_path = '../output/'\n",
    "model_path = '../model/'"
   ]
  },
  {
   "cell_type": "code",
   "execution_count": 4,
   "metadata": {},
   "outputs": [],
   "source": [
    "# Load scenario parameters\n",
    "params = excel.read_var(file='../input/parameters.xls', scenario=scenario)"
   ]
  },
  {
   "cell_type": "code",
   "execution_count": 18,
   "metadata": {},
   "outputs": [],
   "source": [
    "sm = stepmodel.read_json(input_path + 'de_road_network')\n",
    "ae = stepmodel.read_json(model_path + 'de_road_access_egress')\n",
    "z = stepmodel.read_json(model_path + 'de_zones')"
   ]
  },
  {
   "cell_type": "code",
   "execution_count": 19,
   "metadata": {},
   "outputs": [],
   "source": [
    "sm.zone_to_road = ae.zone_to_road\n",
    "sm.centroids = ae.centroids\n",
    "sm.zones = z.zones"
   ]
  },
  {
   "cell_type": "code",
   "execution_count": 20,
   "metadata": {},
   "outputs": [
    {
     "data": {
      "text/plain": [
       "401"
      ]
     },
     "execution_count": 20,
     "metadata": {},
     "output_type": "execute_result"
    }
   ],
   "source": [
    "len(sm.zone_to_road.loc[sm.zone_to_road['a'].str.startswith('DE'), 'a'].unique())"
   ]
  },
  {
   "cell_type": "markdown",
   "metadata": {},
   "source": [
    "## Generate LoS attribute time\n",
    "The maxspeed column is based on OSM data that needs to be refined. The unit is km/h"
   ]
  },
  {
   "cell_type": "code",
   "execution_count": 21,
   "metadata": {},
   "outputs": [
    {
     "data": {
      "text/plain": [
       "array([[<AxesSubplot:title={'center':'maxspeed'}>]], dtype=object)"
      ]
     },
     "execution_count": 21,
     "metadata": {},
     "output_type": "execute_result"
    },
    {
     "data": {
      "image/png": "[encoded data removed]",
      "text/plain": [
       "<Figure size 288x288 with 1 Axes>"
      ]
     },
     "metadata": {
      "needs_background": "light"
     },
     "output_type": "display_data"
    }
   ],
   "source": [
    "# Number of links (not length) with specified speeds\n",
    "sm.road_links.hist(column='maxspeed', bins=50, figsize=(4,4))"
   ]
  },
  {
   "cell_type": "code",
   "execution_count": 22,
   "metadata": {},
   "outputs": [],
   "source": [
    "# Generate time for road links in seconds\n",
    "# Manual calibration with Google maps (see below)\n",
    "# shows that traffic flow is slower than the speed limits\n",
    "road_speed_calibration = params['car']['speed_calibration']\n",
    "sm.road_links[\"time\"] = sm.road_links[\"length\"] / 1000 / \\\n",
    "    (sm.road_links[\"maxspeed\"] * road_speed_calibration) * 3600"
   ]
  },
  {
   "cell_type": "code",
   "execution_count": 23,
   "metadata": {},
   "outputs": [
    {
     "data": {
      "text/html": [
       "<div>\n",
       "<style scoped>\n",
       "    .dataframe tbody tr th:only-of-type {\n",
       "        vertical-align: middle;\n",
       "    }\n",
       "\n",
       "    .dataframe tbody tr th {\n",
       "        vertical-align: top;\n",
       "    }\n",
       "\n",
       "    .dataframe thead th {\n",
       "        text-align: right;\n",
       "    }\n",
       "</style>\n",
       "<table border=\"1\" class=\"dataframe\">\n",
       "  <thead>\n",
       "    <tr style=\"text-align: right;\">\n",
       "      <th></th>\n",
       "      <th>a</th>\n",
       "      <th>b</th>\n",
       "      <th>maxspeed</th>\n",
       "      <th>length</th>\n",
       "      <th>time</th>\n",
       "      <th>geometry</th>\n",
       "      <th>lanes</th>\n",
       "    </tr>\n",
       "    <tr>\n",
       "      <th>index</th>\n",
       "      <th></th>\n",
       "      <th></th>\n",
       "      <th></th>\n",
       "      <th></th>\n",
       "      <th></th>\n",
       "      <th></th>\n",
       "      <th></th>\n",
       "    </tr>\n",
       "  </thead>\n",
       "  <tbody>\n",
       "    <tr>\n",
       "      <th>rl_268031</th>\n",
       "      <td>31881385</td>\n",
       "      <td>267109936</td>\n",
       "      <td>50</td>\n",
       "      <td>189</td>\n",
       "      <td>17.010000</td>\n",
       "      <td>LINESTRING (8.56473 50.57792, 8.56518 50.57624)</td>\n",
       "      <td>None</td>\n",
       "    </tr>\n",
       "    <tr>\n",
       "      <th>rl_144725</th>\n",
       "      <td>33255278</td>\n",
       "      <td>21509875</td>\n",
       "      <td>100</td>\n",
       "      <td>227</td>\n",
       "      <td>10.215000</td>\n",
       "      <td>LINESTRING (9.23185 49.18239, 9.22978 49.18087)</td>\n",
       "      <td>3</td>\n",
       "    </tr>\n",
       "    <tr>\n",
       "      <th>rl_209211</th>\n",
       "      <td>4061463758</td>\n",
       "      <td>62056272</td>\n",
       "      <td>70</td>\n",
       "      <td>39</td>\n",
       "      <td>2.507143</td>\n",
       "      <td>LINESTRING (8.93512 49.88906, 8.93559 49.88889)</td>\n",
       "      <td>None</td>\n",
       "    </tr>\n",
       "    <tr>\n",
       "      <th>rl_428940</th>\n",
       "      <td>6984776449</td>\n",
       "      <td>30204780</td>\n",
       "      <td>50</td>\n",
       "      <td>872</td>\n",
       "      <td>78.480000</td>\n",
       "      <td>LINESTRING (11.59222 53.37866, 11.58221 53.38375)</td>\n",
       "      <td>None</td>\n",
       "    </tr>\n",
       "  </tbody>\n",
       "</table>\n",
       "</div>"
      ],
      "text/plain": [
       "                    a          b  maxspeed  length       time  \\\n",
       "index                                                           \n",
       "rl_268031    31881385  267109936        50     189  17.010000   \n",
       "rl_144725    33255278   21509875       100     227  10.215000   \n",
       "rl_209211  4061463758   62056272        70      39   2.507143   \n",
       "rl_428940  6984776449   30204780        50     872  78.480000   \n",
       "\n",
       "                                                    geometry lanes  \n",
       "index                                                               \n",
       "rl_268031    LINESTRING (8.56473 50.57792, 8.56518 50.57624)  None  \n",
       "rl_144725    LINESTRING (9.23185 49.18239, 9.22978 49.18087)     3  \n",
       "rl_209211    LINESTRING (8.93512 49.88906, 8.93559 49.88889)  None  \n",
       "rl_428940  LINESTRING (11.59222 53.37866, 11.58221 53.38375)  None  "
      ]
     },
     "execution_count": 23,
     "metadata": {},
     "output_type": "execute_result"
    }
   ],
   "source": [
    "sm.road_links.sample(4)"
   ]
  },
  {
   "cell_type": "markdown",
   "metadata": {},
   "source": [
    "### Alter road access/egress links"
   ]
  },
  {
   "cell_type": "code",
   "execution_count": 24,
   "metadata": {},
   "outputs": [],
   "source": [
    "# Assign a time\n",
    "sm.zone_to_road['time'] = params['access-egress_links']['time_road']"
   ]
  },
  {
   "cell_type": "markdown",
   "metadata": {},
   "source": [
    "## Apply road pathfinder in order to generate LoS table"
   ]
  },
  {
   "cell_type": "code",
   "execution_count": 25,
   "metadata": {},
   "outputs": [
    {
     "name": "stdout",
     "output_type": "stream",
     "text": [
      "Generated OD set with 160801 pairs\n"
     ]
    }
   ],
   "source": [
    "# Load OD pairs from volumes if available\n",
    "od_set = None\n",
    "try:\n",
    "    v = stepmodel.read_json(model_path + 'de_volumes')\n",
    "    od_set = set([tuple(l) for l in v.volumes[['origin', 'destination']].values.tolist()])\n",
    "    print('Generated OD set with {} pairs'.format(len(od_set)))\n",
    "except:\n",
    "    print('The volumes file is not (yet) available')"
   ]
  },
  {
   "cell_type": "code",
   "execution_count": 26,
   "metadata": {
    "scrolled": true
   },
   "outputs": [],
   "source": [
    "sm.step_road_pathfinder(all_or_nothing=True,\n",
    "                        od_set=od_set)"
   ]
  },
  {
   "cell_type": "code",
   "execution_count": 27,
   "metadata": {},
   "outputs": [
    {
     "data": {
      "text/html": [
       "<div>\n",
       "<style scoped>\n",
       "    .dataframe tbody tr th:only-of-type {\n",
       "        vertical-align: middle;\n",
       "    }\n",
       "\n",
       "    .dataframe tbody tr th {\n",
       "        vertical-align: top;\n",
       "    }\n",
       "\n",
       "    .dataframe thead th {\n",
       "        text-align: right;\n",
       "    }\n",
       "</style>\n",
       "<table border=\"1\" class=\"dataframe\">\n",
       "  <thead>\n",
       "    <tr style=\"text-align: right;\">\n",
       "      <th></th>\n",
       "      <th>origin</th>\n",
       "      <th>destination</th>\n",
       "      <th>time</th>\n",
       "      <th>path</th>\n",
       "      <th>node_path</th>\n",
       "      <th>link_path</th>\n",
       "      <th>ntlegs</th>\n",
       "    </tr>\n",
       "  </thead>\n",
       "  <tbody>\n",
       "    <tr>\n",
       "      <th>11961</th>\n",
       "      <td>DE135</td>\n",
       "      <td>DEC03</td>\n",
       "      <td>12260.345355</td>\n",
       "      <td>[DE135, 193566926, 65267953, 3339337808, 65267...</td>\n",
       "      <td>[193566926, 65267953, 3339337808, 65267947, 33...</td>\n",
       "      <td>[rl_66696, rl_377609, rl_410474, rl_377612, rl...</td>\n",
       "      <td>[(DE135, 193566926), (270655379, DEC03)]</td>\n",
       "    </tr>\n",
       "    <tr>\n",
       "      <th>106020</th>\n",
       "      <td>DEA2B</td>\n",
       "      <td>DE40G</td>\n",
       "      <td>24424.258990</td>\n",
       "      <td>[DEA2B, 36478320, 85457959, 1804101104, 854579...</td>\n",
       "      <td>[36478320, 85457959, 1804101104, 85457961, 364...</td>\n",
       "      <td>[rl_489288, rl_332396, rl_17001, rl_423674, rl...</td>\n",
       "      <td>[(DEA2B, 36478320), (340359407, DE40G)]</td>\n",
       "    </tr>\n",
       "    <tr>\n",
       "      <th>71311</th>\n",
       "      <td>DE722</td>\n",
       "      <td>DEC05</td>\n",
       "      <td>9603.735761</td>\n",
       "      <td>[DE722, 25263924, 25263930, 220485920, 2526579...</td>\n",
       "      <td>[25263924, 25263930, 220485920, 25265792, 2495...</td>\n",
       "      <td>[rl_62542, rl_62548, rl_182225, rl_63680, rl_1...</td>\n",
       "      <td>[(DE722, 25263924), (262486218, DEC05)]</td>\n",
       "    </tr>\n",
       "  </tbody>\n",
       "</table>\n",
       "</div>"
      ],
      "text/plain": [
       "       origin destination          time  \\\n",
       "11961   DE135       DEC03  12260.345355   \n",
       "106020  DEA2B       DE40G  24424.258990   \n",
       "71311   DE722       DEC05   9603.735761   \n",
       "\n",
       "                                                     path  \\\n",
       "11961   [DE135, 193566926, 65267953, 3339337808, 65267...   \n",
       "106020  [DEA2B, 36478320, 85457959, 1804101104, 854579...   \n",
       "71311   [DE722, 25263924, 25263930, 220485920, 2526579...   \n",
       "\n",
       "                                                node_path  \\\n",
       "11961   [193566926, 65267953, 3339337808, 65267947, 33...   \n",
       "106020  [36478320, 85457959, 1804101104, 85457961, 364...   \n",
       "71311   [25263924, 25263930, 220485920, 25265792, 2495...   \n",
       "\n",
       "                                                link_path  \\\n",
       "11961   [rl_66696, rl_377609, rl_410474, rl_377612, rl...   \n",
       "106020  [rl_489288, rl_332396, rl_17001, rl_423674, rl...   \n",
       "71311   [rl_62542, rl_62548, rl_182225, rl_63680, rl_1...   \n",
       "\n",
       "                                          ntlegs  \n",
       "11961   [(DE135, 193566926), (270655379, DEC03)]  \n",
       "106020   [(DEA2B, 36478320), (340359407, DE40G)]  \n",
       "71311    [(DE722, 25263924), (262486218, DEC05)]  "
      ]
     },
     "execution_count": 27,
     "metadata": {},
     "output_type": "execute_result"
    }
   ],
   "source": [
    "sm.car_los.sample(3)"
   ]
  },
  {
   "cell_type": "code",
   "execution_count": 28,
   "metadata": {},
   "outputs": [
    {
     "data": {
      "text/plain": [
       "(160801, 7)"
      ]
     },
     "execution_count": 28,
     "metadata": {},
     "output_type": "execute_result"
    }
   ],
   "source": [
    "sm.car_los.shape"
   ]
  },
  {
   "cell_type": "code",
   "execution_count": 29,
   "metadata": {
    "scrolled": true
   },
   "outputs": [
    {
     "name": "stdout",
     "output_type": "stream",
     "text": [
      "DE111 - DE111: 0.0, 0km\n",
      "DE111 - DE300: 6.7, 613km\n",
      "DE111 - DE939: 7.4, 663km\n",
      "DE111 - DEE0D: 6.9, 560km\n",
      "DE300 - DE111: 6.6, 612km\n",
      "DE300 - DE300: 0.0, 0km\n",
      "DE300 - DE939: 4.2, 349km\n",
      "DE300 - DEE0D: 2.5, 128km\n",
      "DE939 - DE111: 7.4, 662km\n",
      "DE939 - DE300: 4.1, 349km\n",
      "DE939 - DE939: 0.0, 0km\n",
      "DE939 - DEE0D: 3.5, 267km\n",
      "DEE0D - DE111: 6.9, 557km\n",
      "DEE0D - DE300: 2.5, 128km\n",
      "DEE0D - DE939: 3.6, 267km\n",
      "DEE0D - DEE0D: 0.0, 0km\n"
     ]
    }
   ],
   "source": [
    "# Verify with Google maps routing\n",
    "# Berlin (DE300) - Stade (DE939): 4h22m, 354km\n",
    "# Berlin (DE300) - Stuttgart (DE111): 6h37m, 632km\n",
    "# Berlin (DE300) - Stendal (DEE0D): 2h08m, 125km\n",
    "# Stade - Stuttgart: 7h45m, 687km\n",
    "# Stendal - Stuttgart: 6h11m, 574km\n",
    "# Stendal - Stade: 3h22m, 231km\n",
    "if manual:\n",
    "    od = ['DE300', 'DE939', 'DE111', 'DEE0D']\n",
    "    for _, row in sm.car_los.loc[(sm.car_los['origin'].isin(od)) &\n",
    "                                 (sm.car_los['destination'].isin(od))].iterrows():\n",
    "        print(row['origin'] + ' - ' + row['destination'] + ': '\n",
    "              + str(np.round(row['time']/3600,1)) + ', '\n",
    "              + str(int(sm.road_links.loc[row['link_path'], 'length'].sum()/1000)) + 'km')"
   ]
  },
  {
   "cell_type": "code",
   "execution_count": 30,
   "metadata": {},
   "outputs": [
    {
     "data": {
      "image/png": "[encoded data removed]",
      "text/plain": [
       "<Figure size 288x288 with 1 Axes>"
      ]
     },
     "metadata": {
      "needs_background": "light"
     },
     "output_type": "display_data"
    }
   ],
   "source": [
    "if manual: sm.car_los.hist(column='time', bins=100, figsize=(4,4))"
   ]
  },
  {
   "cell_type": "code",
   "execution_count": 31,
   "metadata": {},
   "outputs": [
    {
     "data": {
      "text/plain": [
       "(160400, 7)"
      ]
     },
     "execution_count": 31,
     "metadata": {},
     "output_type": "execute_result"
    }
   ],
   "source": [
    "# Drop inner-cell connections\n",
    "sm.car_los = sm.car_los[sm.car_los['time']!=0]\n",
    "sm.car_los.shape"
   ]
  },
  {
   "cell_type": "markdown",
   "metadata": {},
   "source": [
    "## Add various attributes to LoS table"
   ]
  },
  {
   "cell_type": "code",
   "execution_count": 32,
   "metadata": {},
   "outputs": [
    {
     "data": {
      "text/plain": [
       "Index(['origin', 'destination', 'time', 'path', 'node_path', 'link_path',\n",
       "       'ntlegs', 'access_time', 'in_vehicle_time'],\n",
       "      dtype='object')"
      ]
     },
     "execution_count": 32,
     "metadata": {},
     "output_type": "execute_result"
    }
   ],
   "source": [
    "# Disaggregate into in-vehicle time and access/egress\n",
    "sm.analysis_car_time()\n",
    "sm.car_los.columns"
   ]
  },
  {
   "cell_type": "code",
   "execution_count": 33,
   "metadata": {},
   "outputs": [],
   "source": [
    "# Add distances car\n",
    "len_dict = sm.road_links['length'].to_dict()\n",
    "sm.car_los['length'] = sm.car_los['link_path'].apply(lambda p: sum([len_dict[l] for l in p]))"
   ]
  },
  {
   "cell_type": "code",
   "execution_count": 34,
   "metadata": {},
   "outputs": [],
   "source": [
    "# Add route_type = 'car' in car_los\n",
    "sm.analysis_car_route_type()"
   ]
  },
  {
   "cell_type": "code",
   "execution_count": 35,
   "metadata": {},
   "outputs": [],
   "source": [
    "sm.car_los['ntransfers'] = 0"
   ]
  },
  {
   "cell_type": "markdown",
   "metadata": {},
   "source": [
    "## Add cost to LoS table"
   ]
  },
  {
   "cell_type": "code",
   "execution_count": 36,
   "metadata": {},
   "outputs": [],
   "source": [
    "def monetary_cost(length, rf, vc, ac, al, ec, el, sf):\n",
    "    \"\"\" calculate monetary cost of travelling one O-D realtion within the LoS table\n",
    "    :param length: length of main leg in meter\n",
    "    :param df: regression factor for length (to be calibrated beforehand)\n",
    "    :param vc: distance-specific transport cost\n",
    "    :param ac: access cost\n",
    "    :param al: access link length (m)\n",
    "    :param ec: egress cost\n",
    "    :param el: egress link length (m)\n",
    "    :param sf: sharing factor (e.g. occupancy factor of a car)\n",
    "    :return: monetary cost\"\"\"\n",
    "    return (math.pow(length, rf) * vc + ac * al + ec * el) / sf"
   ]
  },
  {
   "cell_type": "code",
   "execution_count": 37,
   "metadata": {},
   "outputs": [
    {
     "data": {
      "text/html": [
       "<div>\n",
       "<style scoped>\n",
       "    .dataframe tbody tr th:only-of-type {\n",
       "        vertical-align: middle;\n",
       "    }\n",
       "\n",
       "    .dataframe tbody tr th {\n",
       "        vertical-align: top;\n",
       "    }\n",
       "\n",
       "    .dataframe thead th {\n",
       "        text-align: right;\n",
       "    }\n",
       "</style>\n",
       "<table border=\"1\" class=\"dataframe\">\n",
       "  <thead>\n",
       "    <tr style=\"text-align: right;\">\n",
       "      <th></th>\n",
       "      <th>fix_cost</th>\n",
       "      <th>repair_cost</th>\n",
       "      <th>var_cost</th>\n",
       "      <th>acquisition_cost</th>\n",
       "      <th>eur_per_month</th>\n",
       "      <th>ct_per_km</th>\n",
       "      <th>model</th>\n",
       "      <th>model.1</th>\n",
       "    </tr>\n",
       "  </thead>\n",
       "  <tbody>\n",
       "    <tr>\n",
       "      <th>104</th>\n",
       "      <td>177</td>\n",
       "      <td>110</td>\n",
       "      <td>152</td>\n",
       "      <td>726</td>\n",
       "      <td>1165</td>\n",
       "      <td>93.2</td>\n",
       "      <td>A6 allroad 50 TDI quattro tiptronic</td>\n",
       "      <td>A6 allroad 50 TDI quattro tiptronic</td>\n",
       "    </tr>\n",
       "    <tr>\n",
       "      <th>9</th>\n",
       "      <td>164</td>\n",
       "      <td>102</td>\n",
       "      <td>118</td>\n",
       "      <td>541</td>\n",
       "      <td>925</td>\n",
       "      <td>74.0</td>\n",
       "      <td>Stelvio 2.2 Diesel Super AT8</td>\n",
       "      <td>Stelvio 2.2 Diesel Super AT8</td>\n",
       "    </tr>\n",
       "    <tr>\n",
       "      <th>453</th>\n",
       "      <td>96</td>\n",
       "      <td>85</td>\n",
       "      <td>150</td>\n",
       "      <td>348</td>\n",
       "      <td>679</td>\n",
       "      <td>54.3</td>\n",
       "      <td>Focus Active Turnier 1.5 EcoBoost Automatik</td>\n",
       "      <td>Focus Active Turnier 1.5 EcoBoost Automatik</td>\n",
       "    </tr>\n",
       "    <tr>\n",
       "      <th>340</th>\n",
       "      <td>145</td>\n",
       "      <td>78</td>\n",
       "      <td>105</td>\n",
       "      <td>405</td>\n",
       "      <td>733</td>\n",
       "      <td>58.6</td>\n",
       "      <td>C5 Aircross BlueHDi 180 Stop&amp;Start Live EAT8</td>\n",
       "      <td>C5 Aircross BlueHDi 180 Stop&amp;Start Live EAT8</td>\n",
       "    </tr>\n",
       "  </tbody>\n",
       "</table>\n",
       "</div>"
      ],
      "text/plain": [
       "     fix_cost  repair_cost  var_cost  acquisition_cost  eur_per_month  \\\n",
       "104       177          110       152               726           1165   \n",
       "9         164          102       118               541            925   \n",
       "453        96           85       150               348            679   \n",
       "340       145           78       105               405            733   \n",
       "\n",
       "     ct_per_km                                         model  \\\n",
       "104       93.2           A6 allroad 50 TDI quattro tiptronic   \n",
       "9         74.0                  Stelvio 2.2 Diesel Super AT8   \n",
       "453       54.3   Focus Active Turnier 1.5 EcoBoost Automatik   \n",
       "340       58.6  C5 Aircross BlueHDi 180 Stop&Start Live EAT8   \n",
       "\n",
       "                                          model.1  \n",
       "104           A6 allroad 50 TDI quattro tiptronic  \n",
       "9                    Stelvio 2.2 Diesel Super AT8  \n",
       "453   Focus Active Turnier 1.5 EcoBoost Automatik  \n",
       "340  C5 Aircross BlueHDi 180 Stop&Start Live EAT8  "
      ]
     },
     "execution_count": 37,
     "metadata": {},
     "output_type": "execute_result"
    }
   ],
   "source": [
    "# Load list of cost elements\n",
    "cars = pd.read_csv(input_path + 'level_of_service/ADAC_2019_autokostenuebersicht_47085.csv')\n",
    "cars.sample(4)"
   ]
  },
  {
   "cell_type": "markdown",
   "metadata": {},
   "source": [
    "Take only perceived variable cost for distance-dependency.<br>\n",
    "Assume monthly mileage of 15,000km / 12<br>\n",
    "Additionally, there are fix cost which add up on every trip. Assume 3 trips per day as average."
   ]
  },
  {
   "cell_type": "code",
   "execution_count": 38,
   "metadata": {},
   "outputs": [],
   "source": [
    "# Prep\n",
    "sm.car_los['price'] = 0\n",
    "vc_car = params['car']['var_cost']\n",
    "fix_car = params['car']['fix_cost']\n",
    "parking_cost = params['parking_cost']\n",
    "car_occ = params['car']['occupancy']"
   ]
  },
  {
   "cell_type": "code",
   "execution_count": 40,
   "metadata": {},
   "outputs": [],
   "source": [
    "# ASSUMPTION: Average car occupancy is 1.5 in Germany\n",
    "urb_dict = sm.zones['urbanisation'].to_dict()\n",
    "sm.car_los['price'] = sm.car_los.apply(lambda df: monetary_cost(\n",
    "    df['length'], 1, vc_car,\n",
    "    0,0, # parking at home is for free\n",
    "    parking_cost[int(urb_dict[df['destination']])], 1,\n",
    "    car_occ) + fix_car, axis=1)"
   ]
  },
  {
   "cell_type": "code",
   "execution_count": 41,
   "metadata": {},
   "outputs": [
    {
     "data": {
      "text/html": [
       "<div>\n",
       "<style scoped>\n",
       "    .dataframe tbody tr th:only-of-type {\n",
       "        vertical-align: middle;\n",
       "    }\n",
       "\n",
       "    .dataframe tbody tr th {\n",
       "        vertical-align: top;\n",
       "    }\n",
       "\n",
       "    .dataframe thead th {\n",
       "        text-align: right;\n",
       "    }\n",
       "</style>\n",
       "<table border=\"1\" class=\"dataframe\">\n",
       "  <thead>\n",
       "    <tr style=\"text-align: right;\">\n",
       "      <th></th>\n",
       "      <th>origin</th>\n",
       "      <th>destination</th>\n",
       "      <th>time</th>\n",
       "      <th>path</th>\n",
       "      <th>node_path</th>\n",
       "      <th>link_path</th>\n",
       "      <th>ntlegs</th>\n",
       "      <th>access_time</th>\n",
       "      <th>in_vehicle_time</th>\n",
       "      <th>length</th>\n",
       "      <th>route_types</th>\n",
       "      <th>route_type</th>\n",
       "      <th>ntransfers</th>\n",
       "      <th>price</th>\n",
       "    </tr>\n",
       "  </thead>\n",
       "  <tbody>\n",
       "    <tr>\n",
       "      <th>20039</th>\n",
       "      <td>DE216</td>\n",
       "      <td>DEG0E</td>\n",
       "      <td>15421.457742</td>\n",
       "      <td>[DE216, 5082537598, 332995956, 7985129, 332995...</td>\n",
       "      <td>[5082537598, 332995956, 7985129, 332995959, 49...</td>\n",
       "      <td>[rl_355077, rl_369382, rl_355078, rl_371793, r...</td>\n",
       "      <td>[(DE216, 5082537598), (287430788, DEG0E)]</td>\n",
       "      <td>600</td>\n",
       "      <td>14821.457742</td>\n",
       "      <td>368753</td>\n",
       "      <td>(car,)</td>\n",
       "      <td>car</td>\n",
       "      <td>0</td>\n",
       "      <td>28.921737</td>\n",
       "    </tr>\n",
       "    <tr>\n",
       "      <th>86408</th>\n",
       "      <td>DE933</td>\n",
       "      <td>DE80M</td>\n",
       "      <td>5706.552158</td>\n",
       "      <td>[DE933, 280744056, 2184565432, 1701502862, 182...</td>\n",
       "      <td>[280744056, 2184565432, 1701502862, 1826683248...</td>\n",
       "      <td>[rl_446837, rl_241596, rl_120967, rl_41079, rl...</td>\n",
       "      <td>[(DE933, 280744056), (307434143, DE80M)]</td>\n",
       "      <td>600</td>\n",
       "      <td>5106.552158</td>\n",
       "      <td>126290</td>\n",
       "      <td>(car,)</td>\n",
       "      <td>car</td>\n",
       "      <td>0</td>\n",
       "      <td>10.431092</td>\n",
       "    </tr>\n",
       "  </tbody>\n",
       "</table>\n",
       "</div>"
      ],
      "text/plain": [
       "      origin destination          time  \\\n",
       "20039  DE216       DEG0E  15421.457742   \n",
       "86408  DE933       DE80M   5706.552158   \n",
       "\n",
       "                                                    path  \\\n",
       "20039  [DE216, 5082537598, 332995956, 7985129, 332995...   \n",
       "86408  [DE933, 280744056, 2184565432, 1701502862, 182...   \n",
       "\n",
       "                                               node_path  \\\n",
       "20039  [5082537598, 332995956, 7985129, 332995959, 49...   \n",
       "86408  [280744056, 2184565432, 1701502862, 1826683248...   \n",
       "\n",
       "                                               link_path  \\\n",
       "20039  [rl_355077, rl_369382, rl_355078, rl_371793, r...   \n",
       "86408  [rl_446837, rl_241596, rl_120967, rl_41079, rl...   \n",
       "\n",
       "                                          ntlegs  access_time  \\\n",
       "20039  [(DE216, 5082537598), (287430788, DEG0E)]          600   \n",
       "86408   [(DE933, 280744056), (307434143, DE80M)]          600   \n",
       "\n",
       "       in_vehicle_time  length route_types route_type  ntransfers      price  \n",
       "20039     14821.457742  368753      (car,)        car           0  28.921737  \n",
       "86408      5106.552158  126290      (car,)        car           0  10.431092  "
      ]
     },
     "execution_count": 41,
     "metadata": {},
     "output_type": "execute_result"
    }
   ],
   "source": [
    "sm.car_los.sample(2)"
   ]
  },
  {
   "cell_type": "code",
   "execution_count": 42,
   "metadata": {},
   "outputs": [
    {
     "data": {
      "text/plain": [
       "<AxesSubplot:xlabel='length', ylabel='price'>"
      ]
     },
     "execution_count": 42,
     "metadata": {},
     "output_type": "execute_result"
    },
    {
     "data": {
      "image/png": "[encoded data removed]",
      "text/plain": [
       "<Figure size 432x288 with 1 Axes>"
      ]
     },
     "metadata": {
      "needs_background": "light"
     },
     "output_type": "display_data"
    }
   ],
   "source": [
    "sm.car_los.plot.scatter(x='length', y='price', alpha=.1)"
   ]
  },
  {
   "cell_type": "markdown",
   "metadata": {},
   "source": [
    "Instead of fix cost per trip, one can also assume ownership cost per hour of vehicle usage. This is also the approach chosen for the German federal governments transport study. In the methodical handbook gasoline cars have engine class weighted specific ownership cost of 0.71 EUR/h and diesel cars 0.99 EUR/h (other propulsion systems don't play a significant role). Multiplied with 2017's shares of gasoline and diesel cars (66.5%; 33.5%) this yields weighted average ownership cost of 0.8 EUR/h."
   ]
  },
  {
   "cell_type": "code",
   "execution_count": 43,
   "metadata": {},
   "outputs": [],
   "source": [
    "sm.car_los['price'] = sm.car_los['price'] - fix_car + \\\n",
    "    sm.car_los['time'].apply(lambda s: 0.8 * s / 3600)"
   ]
  },
  {
   "cell_type": "code",
   "execution_count": 44,
   "metadata": {},
   "outputs": [
    {
     "data": {
      "text/plain": [
       "<AxesSubplot:xlabel='length', ylabel='price'>"
      ]
     },
     "execution_count": 44,
     "metadata": {},
     "output_type": "execute_result"
    },
    {
     "data": {
      "image/png": "[encoded data removed]",
      "text/plain": [
       "<Figure size 432x288 with 1 Axes>"
      ]
     },
     "metadata": {
      "needs_background": "light"
     },
     "output_type": "display_data"
    }
   ],
   "source": [
    "sm.car_los.plot.scatter(x='length', y='price', alpha=.1)"
   ]
  },
  {
   "cell_type": "markdown",
   "metadata": {},
   "source": [
    "## Save model"
   ]
  },
  {
   "cell_type": "code",
   "execution_count": 45,
   "metadata": {},
   "outputs": [],
   "source": [
    "# Ditch unneccessary columns\n",
    "to_drop = ['alighting_links','alightings','all_walk','boarding_links','boardings',\n",
    "           'footpaths','length_link_path','node_path','ntlegs','time_link_path','transfers',\n",
    "           'pathfinder_session','gtime','reversed', 'broken_modes', 'path']\n",
    "sm.car_los = sm.car_los.drop(to_drop, axis=1, errors='ignore')"
   ]
  },
  {
   "cell_type": "code",
   "execution_count": 46,
   "metadata": {},
   "outputs": [],
   "source": [
    "# Make table smaller\n",
    "cols = ['time', 'access_time', 'in_vehicle_time', 'length']\n",
    "sm.car_los[cols] = sm.car_los[cols].astype(int)"
   ]
  },
  {
   "cell_type": "code",
   "execution_count": 47,
   "metadata": {},
   "outputs": [
    {
     "name": "stderr",
     "output_type": "stream",
     "text": [
      "to_hdf(overwriting): 100%|█████████████████████████████████████████████████████████████| 34/34 [00:08<00:00,  4.19it/s]\n"
     ]
    }
   ],
   "source": [
    "sm.to_json(model_path + 'de_road_los',\n",
    "           only_attributes=['car_los'], encoding='utf-8')"
   ]
  },
  {
   "cell_type": "code",
   "execution_count": 40,
   "metadata": {},
   "outputs": [
    {
     "name": "stderr",
     "output_type": "stream",
     "text": [
      "to_hdf(overwriting): 100%|█████████████████████████████████████████████████████████████| 34/34 [01:39<00:00,  2.93s/it]\n"
     ]
    }
   ],
   "source": [
    "# Also save road links with imputated maxspeeds\n",
    "sm.road_links[\"time\"] = sm.road_links[\"time\"].astype(int)\n",
    "sm.to_json(input_path + 'de_road_network', only_attributes=\n",
    "           ['road_links', 'road_nodes', 'zones'], encoding='utf-8')"
   ]
  }
 ],
 "metadata": {
  "kernelspec": {
   "display_name": "Python 3",
   "language": "python",
   "name": "python3"
  },
  "language_info": {
   "codemirror_mode": {
    "name": "ipython",
    "version": 3
   },
   "file_extension": ".py",
   "mimetype": "text/x-python",
   "name": "python",
   "nbconvert_exporter": "python",
   "pygments_lexer": "ipython3",
   "version": "3.8.1"
  }
 },
 "nbformat": 4,
 "nbformat_minor": 2
}
