{
 "cells": [
  {
   "cell_type": "code",
   "execution_count": 1,
   "metadata": {},
   "outputs": [
    {
     "name": "stderr",
     "output_type": "stream",
     "text": [
      "\n",
      "Bad key text.latex.preview in file C:\\Users\\marlin.arnz\\AppData\\Local\\Continuum\\miniconda3\\envs\\quetzal\\lib\\site-packages\\matplotlib\\mpl-data\\stylelib\\_classic_test.mplstyle, line 123 ('text.latex.preview : False')\n",
      "You probably need to get an updated matplotlibrc file from\n",
      "https://github.com/matplotlib/matplotlib/blob/v3.5.2/matplotlibrc.template\n",
      "or from the matplotlib source distribution\n",
      "\n",
      "Bad key mathtext.fallback_to_cm in file C:\\Users\\marlin.arnz\\AppData\\Local\\Continuum\\miniconda3\\envs\\quetzal\\lib\\site-packages\\matplotlib\\mpl-data\\stylelib\\_classic_test.mplstyle, line 155 ('mathtext.fallback_to_cm : True  # When True, use symbols from the Computer Modern')\n",
      "You probably need to get an updated matplotlibrc file from\n",
      "https://github.com/matplotlib/matplotlib/blob/v3.5.2/matplotlibrc.template\n",
      "or from the matplotlib source distribution\n",
      "\n",
      "Bad key savefig.jpeg_quality in file C:\\Users\\marlin.arnz\\AppData\\Local\\Continuum\\miniconda3\\envs\\quetzal\\lib\\site-packages\\matplotlib\\mpl-data\\stylelib\\_classic_test.mplstyle, line 418 ('savefig.jpeg_quality: 95       # when a jpeg is saved, the default quality parameter.')\n",
      "You probably need to get an updated matplotlibrc file from\n",
      "https://github.com/matplotlib/matplotlib/blob/v3.5.2/matplotlibrc.template\n",
      "or from the matplotlib source distribution\n",
      "\n",
      "Bad key keymap.all_axes in file C:\\Users\\marlin.arnz\\AppData\\Local\\Continuum\\miniconda3\\envs\\quetzal\\lib\\site-packages\\matplotlib\\mpl-data\\stylelib\\_classic_test.mplstyle, line 466 ('keymap.all_axes : a                 # enable all axes')\n",
      "You probably need to get an updated matplotlibrc file from\n",
      "https://github.com/matplotlib/matplotlib/blob/v3.5.2/matplotlibrc.template\n",
      "or from the matplotlib source distribution\n",
      "\n",
      "Bad key animation.avconv_path in file C:\\Users\\marlin.arnz\\AppData\\Local\\Continuum\\miniconda3\\envs\\quetzal\\lib\\site-packages\\matplotlib\\mpl-data\\stylelib\\_classic_test.mplstyle, line 477 ('animation.avconv_path: avconv     # Path to avconv binary. Without full path')\n",
      "You probably need to get an updated matplotlibrc file from\n",
      "https://github.com/matplotlib/matplotlib/blob/v3.5.2/matplotlibrc.template\n",
      "or from the matplotlib source distribution\n",
      "\n",
      "Bad key animation.avconv_args in file C:\\Users\\marlin.arnz\\AppData\\Local\\Continuum\\miniconda3\\envs\\quetzal\\lib\\site-packages\\matplotlib\\mpl-data\\stylelib\\_classic_test.mplstyle, line 479 ('animation.avconv_args:            # Additional arguments to pass to avconv')\n",
      "You probably need to get an updated matplotlibrc file from\n",
      "https://github.com/matplotlib/matplotlib/blob/v3.5.2/matplotlibrc.template\n",
      "or from the matplotlib source distribution\n"
     ]
    }
   ],
   "source": [
    "import sys # for automation and parallelisation\n",
    "manual, scenario = (True, 'base') if 'ipykernel' in sys.argv[0] else (False, sys.argv[1])\n",
    "if manual:\n",
    "    %matplotlib inline"
   ]
  },
  {
   "cell_type": "code",
   "execution_count": 2,
   "metadata": {},
   "outputs": [],
   "source": [
    "import os\n",
    "import json\n",
    "import numpy as np\n",
    "import pandas as pd\n",
    "import geopandas as gpd\n",
    "import shapely.speedups\n",
    "from tqdm import tqdm\n",
    "from quetzal.model import stepmodel\n",
    "from quetzal.engine import engine\n",
    "from quetzal.io import excel"
   ]
  },
  {
   "cell_type": "markdown",
   "metadata": {},
   "source": [
    "# Preparation of the LoS tables\n",
    "## Saves a StepModel with shortest paths and LoS attributes for the road network\n",
    "## Needs the road network"
   ]
  },
  {
   "cell_type": "code",
   "execution_count": 3,
   "metadata": {},
   "outputs": [],
   "source": [
    "input_path = '../input_static/'\n",
    "output_path = '../output/'\n",
    "model_path = '../model/' + scenario + '/'"
   ]
  },
  {
   "cell_type": "code",
   "execution_count": 4,
   "metadata": {},
   "outputs": [],
   "source": [
    "# Create a path for scenario-specific model files\n",
    "if not os.path.exists(model_path):\n",
    "    os.makedirs(model_path)"
   ]
  },
  {
   "cell_type": "code",
   "execution_count": 5,
   "metadata": {},
   "outputs": [],
   "source": [
    "# Load scenario parameters\n",
    "params = excel.read_var(file='../input/parameters.xls', scenario=scenario)"
   ]
  },
  {
   "cell_type": "code",
   "execution_count": 6,
   "metadata": {},
   "outputs": [],
   "source": [
    "sm = stepmodel.read_json(input_path + 'de_road_network')\n",
    "try:\n",
    "    ae = stepmodel.read_json(model_path + 'de_road_access_egress')\n",
    "except FileNotFoundError:\n",
    "    ae = stepmodel.read_json(model_path.replace(scenario, 'base') + 'de_road_access_egress')\n",
    "try:\n",
    "    z = stepmodel.read_json(model_path + 'de_zones')\n",
    "except FileNotFoundError:\n",
    "    z = stepmodel.read_json(model_path.replace(scenario, 'base') + 'de_zones')"
   ]
  },
  {
   "cell_type": "code",
   "execution_count": 7,
   "metadata": {},
   "outputs": [],
   "source": [
    "sm.zone_to_road = ae.zone_to_road\n",
    "sm.centroids = gpd.GeoDataFrame(ae.centroids)\n",
    "sm.zones = gpd.GeoDataFrame(z.zones)\n",
    "sm.road_links = gpd.GeoDataFrame(sm.road_links)\n",
    "sm.road_nodes = gpd.GeoDataFrame(sm.road_nodes)"
   ]
  },
  {
   "cell_type": "code",
   "execution_count": 8,
   "metadata": {},
   "outputs": [
    {
     "data": {
      "text/html": [
       "<div>\n",
       "<style scoped>\n",
       "    .dataframe tbody tr th:only-of-type {\n",
       "        vertical-align: middle;\n",
       "    }\n",
       "\n",
       "    .dataframe tbody tr th {\n",
       "        vertical-align: top;\n",
       "    }\n",
       "\n",
       "    .dataframe thead th {\n",
       "        text-align: right;\n",
       "    }\n",
       "</style>\n",
       "<table border=\"1\" class=\"dataframe\">\n",
       "  <thead>\n",
       "    <tr style=\"text-align: right;\">\n",
       "      <th></th>\n",
       "      <th>a</th>\n",
       "      <th>b</th>\n",
       "      <th>distance</th>\n",
       "      <th>direction</th>\n",
       "      <th>speed</th>\n",
       "      <th>time</th>\n",
       "      <th>geometry</th>\n",
       "    </tr>\n",
       "    <tr>\n",
       "      <th>index</th>\n",
       "      <th></th>\n",
       "      <th></th>\n",
       "      <th></th>\n",
       "      <th></th>\n",
       "      <th></th>\n",
       "      <th></th>\n",
       "      <th></th>\n",
       "    </tr>\n",
       "  </thead>\n",
       "  <tbody>\n",
       "    <tr>\n",
       "      <th>1036</th>\n",
       "      <td>64320010</td>\n",
       "      <td>264771142</td>\n",
       "      <td>0</td>\n",
       "      <td>access</td>\n",
       "      <td>5</td>\n",
       "      <td>0</td>\n",
       "      <td>LINESTRING (8.92601 49.86796, 8.92358 49.86556)</td>\n",
       "    </tr>\n",
       "  </tbody>\n",
       "</table>\n",
       "</div>"
      ],
      "text/plain": [
       "              a          b  distance direction  speed  time  \\\n",
       "index                                                         \n",
       "1036   64320010  264771142         0    access      5     0   \n",
       "\n",
       "                                              geometry  \n",
       "index                                                   \n",
       "1036   LINESTRING (8.92601 49.86796, 8.92358 49.86556)  "
      ]
     },
     "execution_count": 8,
     "metadata": {},
     "output_type": "execute_result"
    }
   ],
   "source": [
    "sm.zone_to_road.sample()"
   ]
  },
  {
   "cell_type": "code",
   "execution_count": 9,
   "metadata": {},
   "outputs": [],
   "source": [
    "sm.zones.index = sm.zones.index.astype(str)\n",
    "sm.centroids.index = sm.centroids.index.astype(str)"
   ]
  },
  {
   "cell_type": "markdown",
   "metadata": {},
   "source": [
    "## Generate LoS attribute time\n",
    "The maxspeed column is based on OSM data that needs to be refined. The unit is km/h"
   ]
  },
  {
   "cell_type": "code",
   "execution_count": 10,
   "metadata": {},
   "outputs": [
    {
     "data": {
      "text/plain": [
       "array(['motorway_link', 'motorway', 'primary', 'trunk', 'trunk_link',\n",
       "       'primary_link', 'secondary', 'secondary_link', 'car_train'],\n",
       "      dtype=object)"
      ]
     },
     "execution_count": 10,
     "metadata": {},
     "output_type": "execute_result"
    }
   ],
   "source": [
    "# Road types\n",
    "sm.road_links['highway'].unique()"
   ]
  },
  {
   "cell_type": "code",
   "execution_count": 11,
   "metadata": {},
   "outputs": [
    {
     "data": {
      "text/plain": [
       "array([[<AxesSubplot:title={'center':'maxspeed'}>]], dtype=object)"
      ]
     },
     "execution_count": 11,
     "metadata": {},
     "output_type": "execute_result"
    },
    {
     "data": {
      "image/png": "[encoded data removed]",
      "text/plain": [
       "<Figure size 288x288 with 1 Axes>"
      ]
     },
     "metadata": {
      "needs_background": "light"
     },
     "output_type": "display_data"
    }
   ],
   "source": [
    "# Number of links (not length) with specified speeds\n",
    "sm.road_links.hist(column='maxspeed', bins=50, figsize=(4,4))"
   ]
  },
  {
   "cell_type": "code",
   "execution_count": 12,
   "metadata": {},
   "outputs": [
    {
     "data": {
      "text/plain": [
       "array([ 81.        ,  76.        ,  70.        ,  60.        ,\n",
       "       125.        , 100.        ,  68.        ,  58.        ,\n",
       "        80.        ,  50.        , 120.        ,  40.        ,\n",
       "        96.        ,  30.        , 130.        ,  90.        ,\n",
       "        10.        ,  20.        ,  65.        ,   9.16666667])"
      ]
     },
     "execution_count": 12,
     "metadata": {},
     "output_type": "execute_result"
    }
   ],
   "source": [
    "sm.road_links['maxspeed'].unique()"
   ]
  },
  {
   "cell_type": "code",
   "execution_count": 13,
   "metadata": {},
   "outputs": [
    {
     "name": "stderr",
     "output_type": "stream",
     "text": [
      "100%|████████████████████████████████████████████████████████████████████████████████| 213/213 [00:20<00:00, 10.65it/s]\n"
     ]
    }
   ],
   "source": [
    "# Find road nodes in cities\n",
    "shapely.speedups.enable()\n",
    "urban_zones = sm.zones.loc[sm.zones['urbanisation']==1, 'geometry']\n",
    "urban_nodes = []\n",
    "for geo in tqdm(urban_zones, total=len(urban_zones)):\n",
    "    urban_nodes.append(list(set(sm.road_nodes.loc[sm.road_nodes['geometry'].within(geo)].index)))\n",
    "# Flatten the list of road nodes in cities\n",
    "urban_nodes = [item for sublist in urban_nodes for item in sublist]"
   ]
  },
  {
   "cell_type": "code",
   "execution_count": 14,
   "metadata": {},
   "outputs": [],
   "source": [
    "# Set maximum speed limit for urban roads\n",
    "mask_urban = (sm.road_links['a'].isin(urban_nodes)) & \\\n",
    "             (sm.road_links['b'].isin(urban_nodes)) & \\\n",
    "             (sm.road_links['highway'].isin(['primary', 'primary_link', 'secondary', 'secondary_link']))\n",
    "sm.road_links.loc[mask_urban, 'maxspeed'].clip(upper=params['speed_limit']['urban'],\n",
    "                                               inplace=True)"
   ]
  },
  {
   "cell_type": "code",
   "execution_count": 15,
   "metadata": {},
   "outputs": [],
   "source": [
    "# Set maximum speed limit for motorways\n",
    "mask_motorway = (sm.road_links['highway'].isin(['motorway_link', 'motorway', 'trunk', 'trunk_link']))\n",
    "sm.road_links.loc[mask_motorway, 'maxspeed'].clip(upper=params['speed_limit']['motorways'],\n",
    "                                                  inplace=True)"
   ]
  },
  {
   "cell_type": "code",
   "execution_count": 16,
   "metadata": {},
   "outputs": [],
   "source": [
    "# Set maximum speed limit for other roads\n",
    "sm.road_links.loc[~mask_urban & ~mask_motorway, 'maxspeed'].clip(upper=params['speed_limit']['other'],\n",
    "                                                                 inplace=True)"
   ]
  },
  {
   "cell_type": "markdown",
   "metadata": {},
   "source": [
    "Now, generate travel time based on the information available. In many transport models, time depends on the network flow. As a simplification for this long-term strategic model in times of modern traffic management, we assume speed limits to be equilibrated with the traffic situation. Hence, travel time depends on speed limits.\n",
    "\n",
    "In a [publication by the Federal Environmental Agency](https://www.umweltbundesamt.de/publikationen/klimaschutz-durch-tempolimit), the following average speeds were found on the respective road sections:\n",
    "- Speed limit | average traffic flow speed \n",
    "- <=60 | 60\n",
    "- 80 | 87.4\n",
    "- 100 | 103.3\n",
    "- 120 | 115.6\n",
    "- 130 | 118.3\n",
    "- open | 124.7\n",
    "\n",
    "The following calculations approximate these figures."
   ]
  },
  {
   "cell_type": "code",
   "execution_count": 17,
   "metadata": {},
   "outputs": [],
   "source": [
    "# Generate time for road links in seconds\n",
    "# Manual calibration with Google maps (see below)\n",
    "# shows that traffic flow is slower than the speed limits\n",
    "\n",
    "# For up to 60km/h average speed equals the speed limit\n",
    "mask60 = sm.road_links['maxspeed']<=60\n",
    "sm.road_links.loc[mask60, 'time'] = sm.road_links['length'] / 1000 \\\n",
    "    / sm.road_links['maxspeed'] * 3600\n",
    "\n",
    "# Then, up to under 100km/h, average speeds are 10% above the speed limit\n",
    "mask100 = sm.road_links['maxspeed']<100\n",
    "sm.road_links.loc[(~mask60)&(mask100), 'time'] = \\\n",
    "    sm.road_links['length'] / 1000 / sm.road_links['maxspeed'] * 3600 * 1.1\n",
    "\n",
    "# Then, speed follows a polynomial of y = -0,0115x2 + 3,145x - 96,2 (R^2=1)\n",
    "mask_not_open = sm.road_links['maxspeed']!=125\n",
    "sm.road_links.loc[(~mask100)&(mask_not_open), 'time'] = sm.road_links['length'] / 1000 / \\\n",
    "    (-0.0115*np.power(sm.road_links['maxspeed'], 2) + 3.145*sm.road_links['maxspeed'] - 96.2) * 3600\n",
    "\n",
    "# without speed limit\n",
    "sm.road_links.loc[~mask_not_open, 'time'] = sm.road_links['length'] / 1000 \\\n",
    "    / sm.road_links['maxspeed'] * 3600\n",
    "\n",
    "assert len(sm.road_links[sm.road_links['time'].isna()])==0\n",
    "sm.road_links.loc[sm.road_links['time']==0, 'time'] = 1"
   ]
  },
  {
   "cell_type": "code",
   "execution_count": 18,
   "metadata": {},
   "outputs": [
    {
     "data": {
      "text/plain": [
       "<AxesSubplot:>"
      ]
     },
     "execution_count": 18,
     "metadata": {},
     "output_type": "execute_result"
    },
    {
     "data": {
      "image/png": "[encoded data removed]",
      "text/plain": [
       "<Figure size 288x288 with 1 Axes>"
      ]
     },
     "metadata": {
      "needs_background": "light"
     },
     "output_type": "display_data"
    }
   ],
   "source": [
    "# Average speed by number of links (not length)\n",
    "(sm.road_links['length'] / 1000 / sm.road_links['time'] * 3600).hist(bins=50, figsize=(4,4))"
   ]
  },
  {
   "cell_type": "code",
   "execution_count": 19,
   "metadata": {},
   "outputs": [
    {
     "data": {
      "text/html": [
       "<div>\n",
       "<style scoped>\n",
       "    .dataframe tbody tr th:only-of-type {\n",
       "        vertical-align: middle;\n",
       "    }\n",
       "\n",
       "    .dataframe tbody tr th {\n",
       "        vertical-align: top;\n",
       "    }\n",
       "\n",
       "    .dataframe thead th {\n",
       "        text-align: right;\n",
       "    }\n",
       "</style>\n",
       "<table border=\"1\" class=\"dataframe\">\n",
       "  <thead>\n",
       "    <tr style=\"text-align: right;\">\n",
       "      <th></th>\n",
       "      <th>a</th>\n",
       "      <th>b</th>\n",
       "      <th>length</th>\n",
       "      <th>maxspeed</th>\n",
       "      <th>lanes</th>\n",
       "      <th>highway</th>\n",
       "      <th>geometry</th>\n",
       "      <th>ref</th>\n",
       "      <th>time</th>\n",
       "    </tr>\n",
       "    <tr>\n",
       "      <th>index</th>\n",
       "      <th></th>\n",
       "      <th></th>\n",
       "      <th></th>\n",
       "      <th></th>\n",
       "      <th></th>\n",
       "      <th></th>\n",
       "      <th></th>\n",
       "      <th></th>\n",
       "      <th></th>\n",
       "    </tr>\n",
       "  </thead>\n",
       "  <tbody>\n",
       "    <tr>\n",
       "      <th>rl_346121</th>\n",
       "      <td>297340848</td>\n",
       "      <td>297341014</td>\n",
       "      <td>164</td>\n",
       "      <td>70.0</td>\n",
       "      <td>3</td>\n",
       "      <td>primary</td>\n",
       "      <td>LINESTRING (10.52133 52.02575, 10.52371 52.02589)</td>\n",
       "      <td>B 82</td>\n",
       "      <td>9.277714</td>\n",
       "    </tr>\n",
       "    <tr>\n",
       "      <th>rl_353173</th>\n",
       "      <td>32882105</td>\n",
       "      <td>2159949423</td>\n",
       "      <td>3532</td>\n",
       "      <td>58.0</td>\n",
       "      <td>4</td>\n",
       "      <td>secondary</td>\n",
       "      <td>LINESTRING (11.07463 51.46266, 11.02447 51.46134)</td>\n",
       "      <td>L 151</td>\n",
       "      <td>219.227586</td>\n",
       "    </tr>\n",
       "  </tbody>\n",
       "</table>\n",
       "</div>"
      ],
      "text/plain": [
       "                   a           b  length  maxspeed  lanes    highway  \\\n",
       "index                                                                  \n",
       "rl_346121  297340848   297341014     164      70.0      3    primary   \n",
       "rl_353173   32882105  2159949423    3532      58.0      4  secondary   \n",
       "\n",
       "                                                    geometry    ref  \\\n",
       "index                                                                 \n",
       "rl_346121  LINESTRING (10.52133 52.02575, 10.52371 52.02589)   B 82   \n",
       "rl_353173  LINESTRING (11.07463 51.46266, 11.02447 51.46134)  L 151   \n",
       "\n",
       "                 time  \n",
       "index                  \n",
       "rl_346121    9.277714  \n",
       "rl_353173  219.227586  "
      ]
     },
     "execution_count": 19,
     "metadata": {},
     "output_type": "execute_result"
    }
   ],
   "source": [
    "sm.road_links.sample(2)"
   ]
  },
  {
   "cell_type": "markdown",
   "metadata": {},
   "source": [
    "## Correct road access/egress links"
   ]
  },
  {
   "cell_type": "code",
   "execution_count": 20,
   "metadata": {},
   "outputs": [
    {
     "data": {
      "text/plain": [
       "{'145230030', '33575407', '91809451'}"
      ]
     },
     "execution_count": 20,
     "metadata": {},
     "output_type": "execute_result"
    }
   ],
   "source": [
    "# Find missing connectors\n",
    "missing_connectors = set(sm.zones.index) - set(sm.zone_to_road['a'])\n",
    "islands = ['10545459', '10545488', '10560025',\n",
    "           '34520013', '34529501', '34550021', '34570002']\n",
    "missing_connectors - set(islands)"
   ]
  },
  {
   "cell_type": "code",
   "execution_count": 21,
   "metadata": {},
   "outputs": [
    {
     "data": {
      "image/png": "[encoded data removed]",
      "text/plain": [
       "<Figure size 1152x648 with 1 Axes>"
      ]
     },
     "metadata": {
      "needs_background": "light"
     },
     "output_type": "display_data"
    }
   ],
   "source": [
    "if manual:\n",
    "    sm.zones.loc[missing_connectors, 'geometry'\n",
    "                ].plot(ax=sm.zones.plot(alpha=0.1, figsize=(16,9)))"
   ]
  },
  {
   "cell_type": "code",
   "execution_count": 22,
   "metadata": {},
   "outputs": [],
   "source": [
    "# Add missing connectors\n",
    "ntlegs = engine.ntlegs_from_centroids_and_nodes(\n",
    "    sm.centroids.loc[list(missing_connectors - set(islands))],\n",
    "    sm.road_nodes,\n",
    "    short_leg_speed=params['pt_access']['speed_walk'],\n",
    "    long_leg_speed=params['pt_access']['speed_bicycle'],\n",
    "    threshold=params['pt_access']['catchment_radius_walk'],\n",
    "    n_neighbors=1,\n",
    "    coordinates_unit=sm.coordinates_unit)\n",
    "sm.zone_to_road = pd.concat([\n",
    "    sm.zone_to_road,\n",
    "    ntlegs[list(set(sm.zone_to_road.columns).intersection(set(ntlegs.columns)))]]\n",
    ").reset_index(drop=True)"
   ]
  },
  {
   "cell_type": "code",
   "execution_count": 23,
   "metadata": {},
   "outputs": [],
   "source": [
    "# Drop island road connections (except Sylt) and connect\n",
    "# them to a virtual single road node\n",
    "sm.zone_to_road = sm.zone_to_road.loc[~(sm.zone_to_road['a'].isin(islands))\n",
    "                                      & ~(sm.zone_to_road['b'].isin(islands))]\n",
    "for i in islands:\n",
    "    road_node = gpd.GeoDataFrame(index=[i+'_n'],\n",
    "                                 geometry=[sm.centroids.loc[i, 'geometry']],\n",
    "                                 crs=sm.epsg)\n",
    "    ntlegs = engine.ntlegs_from_centroids_and_nodes(\n",
    "        sm.centroids.loc[[i]],\n",
    "        road_node,\n",
    "        short_leg_speed=params['pt_access']['speed_walk'],\n",
    "        long_leg_speed=params['pt_access']['speed_bicycle'],\n",
    "        threshold=params['pt_access']['catchment_radius_walk'],\n",
    "        n_neighbors=1,\n",
    "        coordinates_unit=sm.coordinates_unit)\n",
    "    sm.zone_to_road = pd.concat([\n",
    "        sm.zone_to_road,\n",
    "        ntlegs[list(set(sm.zone_to_road.columns).intersection(ntlegs.columns))]]\n",
    "    ).reset_index(drop=True)\n",
    "    sm.road_nodes = pd.concat([sm.road_nodes,road_node])"
   ]
  },
  {
   "cell_type": "code",
   "execution_count": 24,
   "metadata": {},
   "outputs": [],
   "source": [
    "# Every zone must be connected\n",
    "assert len(sm.zone_to_road.loc[sm.zone_to_road['direction']=='access','a'\n",
    "                              ].unique()) == len(sm.zones.index)"
   ]
  },
  {
   "cell_type": "code",
   "execution_count": 25,
   "metadata": {},
   "outputs": [],
   "source": [
    "# Assign a time by urbanisation degree\n",
    "for u in sm.zones['urbanisation'].unique():\n",
    "    u_zones = sm.zones.loc[sm.zones['urbanisation']==u].index\n",
    "    sm.zone_to_road.loc[(sm.zone_to_road['a'].isin(u_zones)) | sm.zone_to_road['b'].isin(u_zones),\n",
    "                        'time'] = params['access-egress_links']['time_road_'+str(u)]"
   ]
  },
  {
   "cell_type": "markdown",
   "metadata": {},
   "source": [
    "## Apply road pathfinder to generate LoS table"
   ]
  },
  {
   "cell_type": "code",
   "execution_count": 26,
   "metadata": {},
   "outputs": [
    {
     "name": "stdout",
     "output_type": "stream",
     "text": [
      "Found OD set with 202024 pairs\n"
     ]
    }
   ],
   "source": [
    "# Load the scenario's OD set or generate it, if required\n",
    "od_set = None\n",
    "try:\n",
    "    od_set = json.load(open(model_path + 'od_set.json'))\n",
    "    od_set = set([(str(o), str(d)) for (o,d) in od_set])\n",
    "    print('Found OD set with {} pairs'.format(len(od_set)))\n",
    "except FileNotFoundError:\n",
    "    # Generate a new one, if required\n",
    "    if params['general']['od_sparse_sample'] > 0 and not scenario.endswith('equilibrium'):\n",
    "        print('Generating OD set')\n",
    "        kwargs = {'workers':1, 'errout_suffix':True, 'sleep':1,'stdout_path':r'log/out.txt', 'stderr_path':r'log/err.txt'}\n",
    "        parallel_call_notebook('sparsify_od_set.ipynb', arg_list=[scenario], **kwargs)\n",
    "        od_set = json.load(open(model_path + 'od_set.json'))\n",
    "        od_set = set([tuple(l) for l in od_set])\n",
    "        print('Found OD set with {} pairs'.format(len(od_set)))\n",
    "    else:\n",
    "        print('Running the pathfinder with full OD set')"
   ]
  },
  {
   "cell_type": "code",
   "execution_count": 30,
   "metadata": {},
   "outputs": [],
   "source": [
    "# reindex road nodes to avoid confusion with zone IDs\n",
    "sm.road_nodes.index = ['n'+i for i in sm.road_nodes.index]\n",
    "sm.road_links['a'] = ['n'+i for i in sm.road_links['a']]\n",
    "sm.road_links['b'] = ['n'+i for i in sm.road_links['b']]\n",
    "mask = sm.zone_to_road['direction']=='access'\n",
    "sm.zone_to_road.loc[mask, 'b'] = ['n'+i for i in sm.zone_to_road.loc[mask, 'b']]\n",
    "mask = sm.zone_to_road['direction']=='eggress'\n",
    "sm.zone_to_road.loc[mask, 'a'] = ['n'+i for i in sm.zone_to_road.loc[mask, 'a']]"
   ]
  },
  {
   "cell_type": "code",
   "execution_count": 31,
   "metadata": {
    "scrolled": true
   },
   "outputs": [],
   "source": [
    "sm.step_road_pathfinder(all_or_nothing=True,\n",
    "                        od_set=od_set)"
   ]
  },
  {
   "cell_type": "code",
   "execution_count": 32,
   "metadata": {},
   "outputs": [
    {
     "data": {
      "text/html": [
       "<div>\n",
       "<style scoped>\n",
       "    .dataframe tbody tr th:only-of-type {\n",
       "        vertical-align: middle;\n",
       "    }\n",
       "\n",
       "    .dataframe tbody tr th {\n",
       "        vertical-align: top;\n",
       "    }\n",
       "\n",
       "    .dataframe thead th {\n",
       "        text-align: right;\n",
       "    }\n",
       "</style>\n",
       "<table border=\"1\" class=\"dataframe\">\n",
       "  <thead>\n",
       "    <tr style=\"text-align: right;\">\n",
       "      <th></th>\n",
       "      <th>origin</th>\n",
       "      <th>destination</th>\n",
       "      <th>time</th>\n",
       "      <th>path</th>\n",
       "      <th>node_path</th>\n",
       "      <th>link_path</th>\n",
       "      <th>ntlegs</th>\n",
       "    </tr>\n",
       "  </thead>\n",
       "  <tbody>\n",
       "    <tr>\n",
       "      <th>252966</th>\n",
       "      <td>100460117</td>\n",
       "      <td>97725711</td>\n",
       "      <td>14394.554309</td>\n",
       "      <td>[100460117, n276831131, n277832894, n278065250...</td>\n",
       "      <td>[n276831131, n277832894, n278065250, n28129718...</td>\n",
       "      <td>[rl_472674, rl_472676, rl_472697, rl_285377, r...</td>\n",
       "      <td>[(100460117, n276831131), (n34820990, 97725711)]</td>\n",
       "    </tr>\n",
       "  </tbody>\n",
       "</table>\n",
       "</div>"
      ],
      "text/plain": [
       "           origin destination          time  \\\n",
       "252966  100460117    97725711  14394.554309   \n",
       "\n",
       "                                                     path  \\\n",
       "252966  [100460117, n276831131, n277832894, n278065250...   \n",
       "\n",
       "                                                node_path  \\\n",
       "252966  [n276831131, n277832894, n278065250, n28129718...   \n",
       "\n",
       "                                                link_path  \\\n",
       "252966  [rl_472674, rl_472676, rl_472697, rl_285377, r...   \n",
       "\n",
       "                                                  ntlegs  \n",
       "252966  [(100460117, n276831131), (n34820990, 97725711)]  "
      ]
     },
     "execution_count": 32,
     "metadata": {},
     "output_type": "execute_result"
    }
   ],
   "source": [
    "sm.car_los.sample()"
   ]
  },
  {
   "cell_type": "code",
   "execution_count": 33,
   "metadata": {},
   "outputs": [
    {
     "data": {
      "text/plain": [
       "(201441, 7)"
      ]
     },
     "execution_count": 33,
     "metadata": {},
     "output_type": "execute_result"
    }
   ],
   "source": [
    "# Drop inner-cell connections\n",
    "sm.car_los = sm.car_los[sm.car_los['origin']!=sm.car_los['destination']]\n",
    "sm.car_los.shape"
   ]
  },
  {
   "cell_type": "code",
   "execution_count": 34,
   "metadata": {},
   "outputs": [
    {
     "data": {
      "text/plain": [
       "201441"
      ]
     },
     "execution_count": 34,
     "metadata": {},
     "output_type": "execute_result"
    }
   ],
   "source": [
    "# Drop non-existent island connections\n",
    "sm.car_los = sm.car_los.drop(sm.car_los.loc[(sm.car_los['time']==np.inf)].index)\n",
    "len(sm.car_los)"
   ]
  },
  {
   "cell_type": "code",
   "execution_count": 49,
   "metadata": {},
   "outputs": [],
   "source": [
    "# Drop zone-to-zone connections without using the road, just access and egress links\n",
    "sm.car_los = sm.car_los.loc[sm.car_los['link_path'].apply(lambda l: len(l)>0)]\n",
    "len(sm.car_los)"
   ]
  },
  {
   "cell_type": "code",
   "execution_count": 35,
   "metadata": {},
   "outputs": [
    {
     "data": {
      "image/png": "[encoded data removed]",
      "text/plain": [
       "<Figure size 288x288 with 1 Axes>"
      ]
     },
     "metadata": {
      "needs_background": "light"
     },
     "output_type": "display_data"
    }
   ],
   "source": [
    "if manual: sm.car_los.hist(column='time', bins=100, figsize=(4,4))"
   ]
  },
  {
   "cell_type": "markdown",
   "metadata": {},
   "source": [
    "## Add various attributes to LoS table"
   ]
  },
  {
   "cell_type": "code",
   "execution_count": 36,
   "metadata": {},
   "outputs": [],
   "source": [
    "sm.analysis_car_los()"
   ]
  },
  {
   "cell_type": "code",
   "execution_count": 37,
   "metadata": {},
   "outputs": [],
   "source": [
    "# Disaggregate into in-vehicle time and access/egress\n",
    "sm.car_los['access_time'] = sm.car_los['origin'].map(\n",
    "    sm.zone_to_road.drop_duplicates('a').set_index('a')['time'])\n",
    "sm.car_los['in_vehicle_time'] = sm.car_los['time'] - sm.car_los['access_time']"
   ]
  },
  {
   "cell_type": "code",
   "execution_count": 38,
   "metadata": {},
   "outputs": [],
   "source": [
    "# Add distances car\n",
    "if not 'length' in sm.road_links.columns:\n",
    "    sm.road_links['length'] = skims.distance_from_geometry(sm.road_links['geometry']).astype(int)\n",
    "len_dict = sm.road_links['length'].to_dict()\n",
    "sm.car_los['length'] = sm.car_los['link_path'].apply(lambda p: sum([len_dict[l] for l in p]))"
   ]
  },
  {
   "cell_type": "code",
   "execution_count": 39,
   "metadata": {},
   "outputs": [],
   "source": [
    "# Add route_type = 'car' in car_los\n",
    "sm.car_los['route_type'] = 'car'\n",
    "sm.car_los['route_types'] = [(t,) for t in sm.car_los['route_type']]"
   ]
  },
  {
   "cell_type": "code",
   "execution_count": 40,
   "metadata": {},
   "outputs": [],
   "source": [
    "#sm.car_los['ntransfers'] = 0"
   ]
  },
  {
   "cell_type": "markdown",
   "metadata": {},
   "source": [
    "## Save model"
   ]
  },
  {
   "cell_type": "code",
   "execution_count": 41,
   "metadata": {},
   "outputs": [],
   "source": [
    "# Ditch unneccessary columns\n",
    "to_drop = ['alighting_links','alightings','all_walk','boarding_links','boardings',\n",
    "           'footpaths','length_link_path','node_path','ntlegs','time_link_path','transfers',\n",
    "           'pathfinder_session','gtime','reversed', 'broken_modes', 'path']\n",
    "sm.car_los = sm.car_los.drop(to_drop, axis=1, errors='ignore')"
   ]
  },
  {
   "cell_type": "code",
   "execution_count": 42,
   "metadata": {},
   "outputs": [
    {
     "data": {
      "text/plain": [
       "Index(['origin', 'destination', 'time', 'link_path', 'access_time',\n",
       "       'in_vehicle_time', 'length', 'route_type', 'route_types'],\n",
       "      dtype='object')"
      ]
     },
     "execution_count": 42,
     "metadata": {},
     "output_type": "execute_result"
    }
   ],
   "source": [
    "sm.car_los.columns"
   ]
  },
  {
   "cell_type": "code",
   "execution_count": 43,
   "metadata": {},
   "outputs": [],
   "source": [
    "assert sm.car_los.isna().any(axis=1).max() == 0"
   ]
  },
  {
   "cell_type": "code",
   "execution_count": 44,
   "metadata": {},
   "outputs": [],
   "source": [
    "# Make table smaller\n",
    "cols = ['time', 'access_time', 'in_vehicle_time', 'length']\n",
    "sm.car_los[cols] = sm.car_los[cols].astype(int)"
   ]
  },
  {
   "cell_type": "code",
   "execution_count": 51,
   "metadata": {},
   "outputs": [
    {
     "name": "stderr",
     "output_type": "stream",
     "text": [
      "car_los: 100%|█████████████████████████████████████████████████████████████████████████| 34/34 [00:10<00:00,  3.29it/s]\n"
     ]
    }
   ],
   "source": [
    "sm.to_zippedpickles(model_path + 'de_road_los', only_attributes=['car_los'])"
   ]
  },
  {
   "cell_type": "code",
   "execution_count": null,
   "metadata": {},
   "outputs": [],
   "source": [
    "# Save distances between centroids\n",
    "if params['general']['od_sparse_sample'] == 0 \\\n",
    "        or not os.path.exists(output_path + 'distances_centroids.csv'):\n",
    "    (sm.car_los.groupby(['origin', 'destination']).agg({'length': 'mean'}) / 1000\n",
    "    ).astype(int).to_csv(output_path + 'distances_centroids.csv')"
   ]
  }
 ],
 "metadata": {
  "kernelspec": {
   "display_name": "Python 3 (ipykernel)",
   "language": "python",
   "name": "python3"
  },
  "language_info": {
   "codemirror_mode": {
    "name": "ipython",
    "version": 3
   },
   "file_extension": ".py",
   "mimetype": "text/x-python",
   "name": "python",
   "nbconvert_exporter": "python",
   "pygments_lexer": "ipython3",
   "version": "3.8.13"
  }
 },
 "nbformat": 4,
 "nbformat_minor": 4
}
