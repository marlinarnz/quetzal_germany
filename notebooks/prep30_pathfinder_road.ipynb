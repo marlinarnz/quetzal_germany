{
 "cells": [
  {
   "cell_type": "code",
   "execution_count": 1,
   "metadata": {},
   "outputs": [],
   "source": [
    "import sys # for automation and parallelisation\n",
    "manual, scenario = (True, 'base') if 'ipykernel' in sys.argv[0] else (False, sys.argv[1])\n",
    "if manual:\n",
    "    %matplotlib inline"
   ]
  },
  {
   "cell_type": "code",
   "execution_count": 2,
   "metadata": {},
   "outputs": [
    {
     "name": "stdout",
     "output_type": "stream",
     "text": [
      "PyTables is not installed. No support for HDF output.\n",
      "SQLalchemy is not installed. No support for SQL output.\n"
     ]
    }
   ],
   "source": [
    "import math\n",
    "import os\n",
    "import numpy as np\n",
    "import pandas as pd\n",
    "import geopandas as gpd\n",
    "from shapely import geometry\n",
    "from quetzal.model import stepmodel\n",
    "from quetzal.engine import engine\n",
    "from quetzal.io import excel"
   ]
  },
  {
   "cell_type": "markdown",
   "metadata": {},
   "source": [
    "# Preparation of the LoS tables\n",
    "## Saves a StepModel with shortest paths and LoS attributes for the road network\n",
    "## Needs the road network"
   ]
  },
  {
   "cell_type": "code",
   "execution_count": 3,
   "metadata": {},
   "outputs": [],
   "source": [
    "input_path = '../input_static/'\n",
    "output_path = '../output/'\n",
    "model_path = '../model/' + scenario + '/'"
   ]
  },
  {
   "cell_type": "code",
   "execution_count": 4,
   "metadata": {},
   "outputs": [],
   "source": [
    "# Create a path for scenario-specific model files\n",
    "if not os.path.exists(model_path):\n",
    "    os.makedirs(model_path)"
   ]
  },
  {
   "cell_type": "code",
   "execution_count": 5,
   "metadata": {},
   "outputs": [],
   "source": [
    "# Load scenario parameters\n",
    "params = excel.read_var(file='../input/parameters.xls', scenario=scenario)"
   ]
  },
  {
   "cell_type": "code",
   "execution_count": 6,
   "metadata": {},
   "outputs": [],
   "source": [
    "sm = stepmodel.read_json(input_path + 'de_road_network')\n",
    "ae = stepmodel.read_json(model_path + 'de_road_access_egress')\n",
    "z = stepmodel.read_json(model_path + 'de_zones')"
   ]
  },
  {
   "cell_type": "code",
   "execution_count": 7,
   "metadata": {},
   "outputs": [],
   "source": [
    "sm.zone_to_road = ae.zone_to_road\n",
    "sm.centroids = ae.centroids\n",
    "sm.zones = z.zones"
   ]
  },
  {
   "cell_type": "code",
   "execution_count": 8,
   "metadata": {},
   "outputs": [
    {
     "data": {
      "text/plain": [
       "2217"
      ]
     },
     "execution_count": 8,
     "metadata": {},
     "output_type": "execute_result"
    }
   ],
   "source": [
    "len(sm.zone_to_road.loc[sm.zone_to_road['a'].str.startswith('DE'), 'a'].unique())"
   ]
  },
  {
   "cell_type": "markdown",
   "metadata": {},
   "source": [
    "## Generate LoS attribute time\n",
    "The maxspeed column is based on OSM data that needs to be refined. The unit is km/h"
   ]
  },
  {
   "cell_type": "code",
   "execution_count": 10,
   "metadata": {},
   "outputs": [
    {
     "data": {
      "text/plain": [
       "array(['motorway_link', 'motorway', 'primary', 'trunk', 'trunk_link',\n",
       "       'primary_link', 'secondary', 'secondary_link', 'car_train'],\n",
       "      dtype=object)"
      ]
     },
     "execution_count": 10,
     "metadata": {},
     "output_type": "execute_result"
    }
   ],
   "source": [
    "# Road types\n",
    "sm.road_links['highway'].unique()"
   ]
  },
  {
   "cell_type": "code",
   "execution_count": 11,
   "metadata": {},
   "outputs": [
    {
     "data": {
      "text/plain": [
       "array([[<AxesSubplot:title={'center':'maxspeed'}>]], dtype=object)"
      ]
     },
     "execution_count": 11,
     "metadata": {},
     "output_type": "execute_result"
    },
    {
     "data": {
      "image/png": "[encoded data removed]",
      "text/plain": [
       "<Figure size 288x288 with 1 Axes>"
      ]
     },
     "metadata": {
      "needs_background": "light"
     },
     "output_type": "display_data"
    }
   ],
   "source": [
    "# Number of links (not length) with specified speeds\n",
    "sm.road_links.hist(column='maxspeed', bins=50, figsize=(4,4))"
   ]
  },
  {
   "cell_type": "code",
   "execution_count": 12,
   "metadata": {},
   "outputs": [
    {
     "data": {
      "text/plain": [
       "array([ 81.        ,  76.        ,  70.        ,  60.        ,\n",
       "       125.        , 100.        ,  68.        ,  58.        ,\n",
       "        80.        ,  50.        , 120.        ,  40.        ,\n",
       "        96.        ,  30.        , 130.        ,  90.        ,\n",
       "        10.        ,  20.        ,  65.        ,   9.16666667])"
      ]
     },
     "execution_count": 12,
     "metadata": {},
     "output_type": "execute_result"
    }
   ],
   "source": [
    "sm.road_links['maxspeed'].unique()"
   ]
  },
  {
   "cell_type": "code",
   "execution_count": null,
   "metadata": {},
   "outputs": [],
   "source": [
    "# Set maximum speed limit for urban roads\n",
    "urban_hull = sm.zones.loc[sm.zones['urbanisation']==1, 'geometry'].unary_union\n",
    "urban_nodes = set(sm.road_nodes.loc[sm.road_nodes['geometry'].within(urban_hull)].index)\n",
    "mask_urban = (sm.road_links['a'].isin(urban_nodes)) & \\\n",
    "             (sm.road_links['b'].isin(urban_nodes)) & \\\n",
    "             (sm.road_links['highway'].isin(['primary', 'primary_link', 'secondary', 'secondary_link']))\n",
    "sm.road_links.loc[mask_urban, 'maxspeed'].clip(upper=params['speed_limit']['urban'],\n",
    "                                               inplace=True)"
   ]
  },
  {
   "cell_type": "code",
   "execution_count": null,
   "metadata": {},
   "outputs": [],
   "source": [
    "# Set maximum speed limit for motorways\n",
    "mask_motorway = (sm.road_links['highway'].isin(['motorway_link', 'motorway', 'trunk', 'trunk_link']))\n",
    "sm.road_links.loc[mask_motorway, 'maxspeed'].clip(upper=params['speed_limit']['motorways'],\n",
    "                                                  inplace=True)"
   ]
  },
  {
   "cell_type": "code",
   "execution_count": null,
   "metadata": {},
   "outputs": [],
   "source": [
    "# Set maximum speed limit for other roads\n",
    "sm.road_links.loc[~mask_urban & ~mask_motorway, 'maxspeed'].clip(upper=params['speed_limit']['other'],\n",
    "                                                                 inplace=True)"
   ]
  },
  {
   "cell_type": "markdown",
   "metadata": {},
   "source": [
    "Now, generate travel time based on the information available. In many transport models, time depends on the network flow. As a simplification for this long-term strategic model in times of modern traffic management, we assume speed limits to be equilibrated with the traffic situation. Hence, travel time depends on speed limits.\n",
    "\n",
    "In a [publication by the Federal Environmental Agency](https://www.umweltbundesamt.de/publikationen/klimaschutz-durch-tempolimit), the following average speeds were found on the respective road sections:\n",
    "- Speed limit | average traffic flow speed \n",
    "- <=60 | 60\n",
    "- 80 | 87.4\n",
    "- 100 | 103.3\n",
    "- 120 | 115.6\n",
    "- 130 | 118.3\n",
    "- open | 124.7\n",
    "\n",
    "The following calculations approximate these figures."
   ]
  },
  {
   "cell_type": "code",
   "execution_count": 11,
   "metadata": {},
   "outputs": [],
   "source": [
    "# Generate time for road links in seconds\n",
    "# Manual calibration with Google maps (see below)\n",
    "# shows that traffic flow is slower than the speed limits\n",
    "\n",
    "# For up to 60km/h average speed equals the speed limit\n",
    "mask60 = sm.road_links['maxspeed']<=60\n",
    "sm.road_links.loc[mask60, 'time'] = sm.road_links['length'] / 1000 \\\n",
    "    / sm.road_links['maxspeed'] * 3600\n",
    "\n",
    "# Then, up to under 100km/h, average speeds are 10% above the speed limit\n",
    "mask100 = sm.road_links['maxspeed']<100\n",
    "sm.road_links.loc[(~mask60)&(mask100), 'time'] = \\\n",
    "    sm.road_links['length'] / 1000 / sm.road_links['maxspeed'] * 3600 * 1.1\n",
    "\n",
    "# Then, speed follows a polynomial of y = -0,0115x2 + 3,145x - 96,2 (R^2=1)\n",
    "mask_not_open = sm.road_links['maxspeed']!=125\n",
    "sm.road_links.loc[(~mask100)&(mask_not_open), 'time'] = sm.road_links['length'] / 1000 / \\\n",
    "    (-0.0115*np.power(sm.road_links['maxspeed'], 2) + 3.145*sm.road_links['maxspeed'] - 96.2) * 3600\n",
    "\n",
    "# without speed limit\n",
    "sm.road_links.loc[~mask_not_open, 'time'] = sm.road_links['length'] / 1000 \\\n",
    "    / sm.road_links['maxspeed'] * 3600\n",
    "\n",
    "assert len(sm.road_links[sm.road_links['time'].isna()])==0\n",
    "sm.road_links.loc[sm.road_links['time']==0, 'time'] = 1"
   ]
  },
  {
   "cell_type": "code",
   "execution_count": 12,
   "metadata": {},
   "outputs": [
    {
     "data": {
      "text/plain": [
       "<AxesSubplot:>"
      ]
     },
     "execution_count": 12,
     "metadata": {},
     "output_type": "execute_result"
    },
    {
     "data": {
      "image/png": "[encoded data removed]",
      "text/plain": [
       "<Figure size 288x288 with 1 Axes>"
      ]
     },
     "metadata": {
      "needs_background": "light"
     },
     "output_type": "display_data"
    }
   ],
   "source": [
    "# Average speed by number of links (not length)\n",
    "(sm.road_links['length'] / 1000 / sm.road_links['time'] * 3600).hist(bins=50, figsize=(4,4))"
   ]
  },
  {
   "cell_type": "code",
   "execution_count": 13,
   "metadata": {},
   "outputs": [
    {
     "data": {
      "text/html": [
       "<div>\n",
       "<style scoped>\n",
       "    .dataframe tbody tr th:only-of-type {\n",
       "        vertical-align: middle;\n",
       "    }\n",
       "\n",
       "    .dataframe tbody tr th {\n",
       "        vertical-align: top;\n",
       "    }\n",
       "\n",
       "    .dataframe thead th {\n",
       "        text-align: right;\n",
       "    }\n",
       "</style>\n",
       "<table border=\"1\" class=\"dataframe\">\n",
       "  <thead>\n",
       "    <tr style=\"text-align: right;\">\n",
       "      <th></th>\n",
       "      <th>a</th>\n",
       "      <th>b</th>\n",
       "      <th>length</th>\n",
       "      <th>maxspeed</th>\n",
       "      <th>lanes</th>\n",
       "      <th>highway</th>\n",
       "      <th>geometry</th>\n",
       "      <th>ref</th>\n",
       "      <th>time</th>\n",
       "    </tr>\n",
       "    <tr>\n",
       "      <th>index</th>\n",
       "      <th></th>\n",
       "      <th></th>\n",
       "      <th></th>\n",
       "      <th></th>\n",
       "      <th></th>\n",
       "      <th></th>\n",
       "      <th></th>\n",
       "      <th></th>\n",
       "      <th></th>\n",
       "    </tr>\n",
       "  </thead>\n",
       "  <tbody>\n",
       "    <tr>\n",
       "      <th>rl_239679</th>\n",
       "      <td>473674525</td>\n",
       "      <td>316699672</td>\n",
       "      <td>1605</td>\n",
       "      <td>50.0</td>\n",
       "      <td>2</td>\n",
       "      <td>secondary</td>\n",
       "      <td>LINESTRING (8.47714 52.04034, 8.49698 52.03317)</td>\n",
       "      <td>L 785</td>\n",
       "      <td>115.560000</td>\n",
       "    </tr>\n",
       "    <tr>\n",
       "      <th>rl_310560</th>\n",
       "      <td>269579287</td>\n",
       "      <td>224158927</td>\n",
       "      <td>613</td>\n",
       "      <td>58.0</td>\n",
       "      <td>4</td>\n",
       "      <td>secondary</td>\n",
       "      <td>LINESTRING (6.92018 51.52100, 6.91199 51.51889)</td>\n",
       "      <td>L 511</td>\n",
       "      <td>38.048276</td>\n",
       "    </tr>\n",
       "  </tbody>\n",
       "</table>\n",
       "</div>"
      ],
      "text/plain": [
       "                   a          b  length  maxspeed  lanes    highway  \\\n",
       "index                                                                 \n",
       "rl_239679  473674525  316699672    1605      50.0      2  secondary   \n",
       "rl_310560  269579287  224158927     613      58.0      4  secondary   \n",
       "\n",
       "                                                  geometry    ref        time  \n",
       "index                                                                          \n",
       "rl_239679  LINESTRING (8.47714 52.04034, 8.49698 52.03317)  L 785  115.560000  \n",
       "rl_310560  LINESTRING (6.92018 51.52100, 6.91199 51.51889)  L 511   38.048276  "
      ]
     },
     "execution_count": 13,
     "metadata": {},
     "output_type": "execute_result"
    }
   ],
   "source": [
    "sm.road_links.sample(2)"
   ]
  },
  {
   "cell_type": "markdown",
   "metadata": {},
   "source": [
    "### Alter road access/egress links"
   ]
  },
  {
   "cell_type": "code",
   "execution_count": 14,
   "metadata": {},
   "outputs": [
    {
     "data": {
      "text/plain": [
       "{'DE80J_5', 'DE937_4'}"
      ]
     },
     "execution_count": 14,
     "metadata": {},
     "output_type": "execute_result"
    }
   ],
   "source": [
    "# Find missing connectors\n",
    "missing_connectors = set(sm.zones.index) - set(sm.zone_to_road['a'])\n",
    "islands = ['DE94C_7', 'DE947_2', 'DE947_4', 'DE94H_3',\n",
    "           'DE94H_4', 'DE94A_2', 'outer_2', 'DEF07_3']\n",
    "missing_connectors - set(islands)"
   ]
  },
  {
   "cell_type": "code",
   "execution_count": 15,
   "metadata": {},
   "outputs": [],
   "source": [
    "# Add missing connectors\n",
    "ntlegs = engine.ntlegs_from_centroids_and_nodes(\n",
    "    sm.centroids.loc[missing_connectors - set(islands)],\n",
    "    sm.road_nodes,\n",
    "    short_leg_speed=params['pt_access']['speed_walk'],\n",
    "    long_leg_speed=params['pt_access']['speed_bicycle'],\n",
    "    threshold=params['pt_access']['catchment_radius_walk'],\n",
    "    n_neighbors=1,\n",
    "    coordinates_unit=sm.coordinates_unit)\n",
    "sm.zone_to_road = sm.zone_to_road.append(\n",
    "    ntlegs[set(sm.zone_to_road.columns).intersection(ntlegs.columns)]\n",
    ").reset_index(drop=True)"
   ]
  },
  {
   "cell_type": "code",
   "execution_count": 16,
   "metadata": {},
   "outputs": [],
   "source": [
    "# Drop island road connections (except Sylt) and connect\n",
    "# them to a virtual single road node\n",
    "sm.zone_to_road = sm.zone_to_road.loc[~(sm.zone_to_road['a'].isin(islands))\n",
    "                                      & ~(sm.zone_to_road['b'].isin(islands))]\n",
    "for i in islands:\n",
    "    road_node = gpd.GeoDataFrame({'FID': [i]},\n",
    "                                 index=[i+'_n'],\n",
    "                                 geometry=[sm.centroids.loc[i, 'geometry']],\n",
    "                                 crs=sm.epsg)\n",
    "    ntlegs = engine.ntlegs_from_centroids_and_nodes(\n",
    "        sm.centroids.loc[[i]],\n",
    "        road_node,\n",
    "        short_leg_speed=params['pt_access']['speed_walk'],\n",
    "        long_leg_speed=params['pt_access']['speed_bicycle'],\n",
    "        threshold=params['pt_access']['catchment_radius_walk'],\n",
    "        n_neighbors=1,\n",
    "        coordinates_unit=sm.coordinates_unit)\n",
    "    sm.zone_to_road = sm.zone_to_road.append(\n",
    "        ntlegs[set(sm.zone_to_road.columns).intersection(ntlegs.columns)]\n",
    "    ).reset_index(drop=True)\n",
    "    sm.road_nodes = sm.road_nodes.append(road_node)"
   ]
  },
  {
   "cell_type": "code",
   "execution_count": 17,
   "metadata": {},
   "outputs": [],
   "source": [
    "# Every zone must be connected\n",
    "assert len(sm.zone_to_road.loc[sm.zone_to_road['direction']=='access','a'\n",
    "                              ].unique()) == len(sm.zones.index)"
   ]
  },
  {
   "cell_type": "code",
   "execution_count": 18,
   "metadata": {},
   "outputs": [],
   "source": [
    "# Assign a time\n",
    "sm.zone_to_road['time'] = params['access-egress_links']['time_road']"
   ]
  },
  {
   "cell_type": "markdown",
   "metadata": {},
   "source": [
    "## Apply road pathfinder in order to generate LoS table"
   ]
  },
  {
   "cell_type": "code",
   "execution_count": 19,
   "metadata": {},
   "outputs": [
    {
     "name": "stderr",
     "output_type": "stream",
     "text": [
      "0it [00:00, ?it/s]"
     ]
    },
    {
     "name": "stdout",
     "output_type": "stream",
     "text": [
      "The volumes file is not (yet) available\n"
     ]
    },
    {
     "name": "stderr",
     "output_type": "stream",
     "text": [
      "\n"
     ]
    }
   ],
   "source": [
    "# Load OD pairs from volumes if available\n",
    "od_set = None\n",
    "try:\n",
    "    v = stepmodel.read_zippedpickles(model_path + 'de_volumes')\n",
    "    od_set = set([tuple(l) for l in v.volumes[['origin', 'destination']].values.tolist()])\n",
    "    print('Generated OD set with {} pairs'.format(len(od_set)))\n",
    "except:\n",
    "    print('The volumes file is not (yet) available')"
   ]
  },
  {
   "cell_type": "code",
   "execution_count": 20,
   "metadata": {
    "scrolled": true
   },
   "outputs": [
    {
     "name": "stdout",
     "output_type": "stream",
     "text": [
      "self.volumes does not exist. od generated with self.zones\n",
      " 'all_or_nothing'=True is deprecated. use method = 'aon' instead\n"
     ]
    }
   ],
   "source": [
    "sm.step_road_pathfinder(all_or_nothing=True,\n",
    "                        od_set=od_set)"
   ]
  },
  {
   "cell_type": "code",
   "execution_count": 21,
   "metadata": {},
   "outputs": [
    {
     "data": {
      "text/html": [
       "<div>\n",
       "<style scoped>\n",
       "    .dataframe tbody tr th:only-of-type {\n",
       "        vertical-align: middle;\n",
       "    }\n",
       "\n",
       "    .dataframe tbody tr th {\n",
       "        vertical-align: top;\n",
       "    }\n",
       "\n",
       "    .dataframe thead th {\n",
       "        text-align: right;\n",
       "    }\n",
       "</style>\n",
       "<table border=\"1\" class=\"dataframe\">\n",
       "  <thead>\n",
       "    <tr style=\"text-align: right;\">\n",
       "      <th></th>\n",
       "      <th>origin</th>\n",
       "      <th>destination</th>\n",
       "      <th>time</th>\n",
       "      <th>path</th>\n",
       "      <th>gtime</th>\n",
       "    </tr>\n",
       "  </thead>\n",
       "  <tbody>\n",
       "    <tr>\n",
       "      <th>4909692</th>\n",
       "      <td>DEG0L_4</td>\n",
       "      <td>DE934_2</td>\n",
       "      <td>20226.60966</td>\n",
       "      <td>[DEG0L_4, 25749658, 25749668, 295534028, 27594...</td>\n",
       "      <td>20226.60966</td>\n",
       "    </tr>\n",
       "  </tbody>\n",
       "</table>\n",
       "</div>"
      ],
      "text/plain": [
       "          origin destination         time  \\\n",
       "4909692  DEG0L_4     DE934_2  20226.60966   \n",
       "\n",
       "                                                      path        gtime  \n",
       "4909692  [DEG0L_4, 25749658, 25749668, 295534028, 27594...  20226.60966  "
      ]
     },
     "execution_count": 21,
     "metadata": {},
     "output_type": "execute_result"
    }
   ],
   "source": [
    "sm.car_los.sample()"
   ]
  },
  {
   "cell_type": "code",
   "execution_count": 22,
   "metadata": {},
   "outputs": [
    {
     "data": {
      "text/plain": [
       "(4948400, 5)"
      ]
     },
     "execution_count": 22,
     "metadata": {},
     "output_type": "execute_result"
    }
   ],
   "source": [
    "# Drop inner-cell connections\n",
    "sm.car_los = sm.car_los[sm.car_los['origin']!=sm.car_los['destination']]\n",
    "sm.car_los.shape"
   ]
  },
  {
   "cell_type": "code",
   "execution_count": 23,
   "metadata": {},
   "outputs": [
    {
     "data": {
      "text/plain": [
       "4910656"
      ]
     },
     "execution_count": 23,
     "metadata": {},
     "output_type": "execute_result"
    }
   ],
   "source": [
    "# Drop non-existent island connections\n",
    "sm.car_los = sm.car_los.drop(sm.car_los.loc[(sm.car_los['time']==np.inf)].index)\n",
    "len(sm.car_los)"
   ]
  },
  {
   "cell_type": "code",
   "execution_count": 24,
   "metadata": {},
   "outputs": [
    {
     "data": {
      "image/png": "[encoded data removed]",
      "text/plain": [
       "<Figure size 288x288 with 1 Axes>"
      ]
     },
     "metadata": {
      "needs_background": "light"
     },
     "output_type": "display_data"
    }
   ],
   "source": [
    "if manual: sm.car_los.hist(column='time', bins=100, figsize=(4,4))"
   ]
  },
  {
   "cell_type": "markdown",
   "metadata": {},
   "source": [
    "## Add various attributes to LoS table"
   ]
  },
  {
   "cell_type": "code",
   "execution_count": 25,
   "metadata": {},
   "outputs": [],
   "source": [
    "sm.analysis_car_los()"
   ]
  },
  {
   "cell_type": "code",
   "execution_count": 26,
   "metadata": {},
   "outputs": [],
   "source": [
    "# Disaggregate into in-vehicle time and access/egress\n",
    "sm.car_los['access_time'] = sm.car_los['origin'].map(\n",
    "    sm.zone_to_road.drop_duplicates('a').set_index('a')['time'])\n",
    "sm.car_los['in_vehicle_time'] = sm.car_los['time'] - sm.car_los['access_time']"
   ]
  },
  {
   "cell_type": "code",
   "execution_count": 27,
   "metadata": {},
   "outputs": [],
   "source": [
    "# Add distances car\n",
    "if not 'length' in sm.road_links.columns:\n",
    "    sm.road_links['length'] = skims.distance_from_geometry(sm.road_links['geometry']).astype(int)\n",
    "len_dict = sm.road_links['length'].to_dict()\n",
    "sm.car_los['length'] = sm.car_los['link_path'].apply(lambda p: sum([len_dict[l] for l in p]))"
   ]
  },
  {
   "cell_type": "code",
   "execution_count": 28,
   "metadata": {},
   "outputs": [],
   "source": [
    "# Add route_type = 'car' in car_los\n",
    "sm.car_los['route_type'] = 'car'\n",
    "sm.car_los['route_types'] = [(t,) for t in sm.car_los['route_type']]"
   ]
  },
  {
   "cell_type": "code",
   "execution_count": 29,
   "metadata": {},
   "outputs": [],
   "source": [
    "#sm.car_los['ntransfers'] = 0"
   ]
  },
  {
   "cell_type": "code",
   "execution_count": 30,
   "metadata": {
    "scrolled": true
   },
   "outputs": [
    {
     "name": "stdout",
     "output_type": "stream",
     "text": [
      "DE111_0 - DE300_0: 5.6, 631km\n",
      "DE111_0 - DE939_6: 6.9, 685km\n",
      "DE111_0 - DEE0D_2: 6.1, 630km\n",
      "DE300_0 - DE111_0: 5.6, 631km\n",
      "DE300_0 - DE939_6: 4.1, 339km\n",
      "DE300_0 - DEE0D_2: 2.6, 199km\n",
      "DE939_6 - DE111_0: 6.9, 685km\n",
      "DE939_6 - DE300_0: 4.1, 353km\n",
      "DE939_6 - DEE0D_2: 4.7, 355km\n",
      "DEE0D_2 - DE111_0: 6.1, 630km\n",
      "DEE0D_2 - DE300_0: 2.7, 200km\n",
      "DEE0D_2 - DE939_6: 4.7, 354km\n"
     ]
    }
   ],
   "source": [
    "# Verify with Google maps routing\n",
    "# Berlin (DE300) - Stade (DE939): 4h22m, 354km\n",
    "# Berlin (DE300) - Stuttgart (DE111): 6h37m, 632km\n",
    "# Berlin (DE300) - Stendal (DEE0D): 2h08m, 125km\n",
    "# Stade (DE939) - Stuttgart (DE111): 7h45m, 687km\n",
    "# Stendal (DEE0D) - Stuttgart (DE111): 6h11m, 574km\n",
    "# Stendal (DEE0D) - Stade (DE939): 3h22m, 231km\n",
    "od = ['DE300_0', 'DE939_6', 'DE111_0', 'DEE0D_2']\n",
    "for _, row in sm.car_los.loc[(sm.car_los['origin'].isin(od)) &\n",
    "                             (sm.car_los['destination'].isin(od))].iterrows():\n",
    "    print(row['origin'] + ' - ' + row['destination'] + ': '\n",
    "          + str(np.round(row['time']/3600,1)) + ', '\n",
    "          + str(int(sm.road_links.loc[row['link_path'], 'length'].sum()/1000)) + 'km')"
   ]
  },
  {
   "cell_type": "markdown",
   "metadata": {},
   "source": [
    "## Save model"
   ]
  },
  {
   "cell_type": "code",
   "execution_count": 31,
   "metadata": {},
   "outputs": [],
   "source": [
    "# Ditch unneccessary columns\n",
    "to_drop = ['alighting_links','alightings','all_walk','boarding_links','boardings',\n",
    "           'footpaths','length_link_path','node_path','ntlegs','time_link_path','transfers',\n",
    "           'pathfinder_session','gtime','reversed', 'broken_modes', 'path']\n",
    "sm.car_los = sm.car_los.drop(to_drop, axis=1, errors='ignore')"
   ]
  },
  {
   "cell_type": "code",
   "execution_count": 32,
   "metadata": {},
   "outputs": [
    {
     "data": {
      "text/plain": [
       "Index(['origin', 'destination', 'time', 'link_path', 'access_time',\n",
       "       'in_vehicle_time', 'length', 'route_type', 'route_types'],\n",
       "      dtype='object')"
      ]
     },
     "execution_count": 32,
     "metadata": {},
     "output_type": "execute_result"
    }
   ],
   "source": [
    "sm.car_los.columns"
   ]
  },
  {
   "cell_type": "code",
   "execution_count": 33,
   "metadata": {},
   "outputs": [],
   "source": [
    "assert sm.car_los.isna().any(axis=1).max() == 0"
   ]
  },
  {
   "cell_type": "code",
   "execution_count": 34,
   "metadata": {},
   "outputs": [],
   "source": [
    "# Make table smaller\n",
    "cols = ['time', 'access_time', 'in_vehicle_time', 'length']\n",
    "sm.car_los[cols] = sm.car_los[cols].astype(int)"
   ]
  },
  {
   "cell_type": "code",
   "execution_count": 35,
   "metadata": {},
   "outputs": [
    {
     "name": "stderr",
     "output_type": "stream",
     "text": [
      "car_los: 100%|█████████████████████████████████████████████████████████████████████████| 13/13 [03:04<00:00, 14.21s/it]\n"
     ]
    }
   ],
   "source": [
    "sm.to_zippedpickles(model_path + 'de_road_los', only_attributes=['car_los'])"
   ]
  },
  {
   "cell_type": "code",
   "execution_count": 36,
   "metadata": {},
   "outputs": [
    {
     "name": "stderr",
     "output_type": "stream",
     "text": [
      "car_los: 100%|█████████████████████████████████████████████████████████████████████████| 13/13 [00:17<00:00,  1.35s/it]\n"
     ]
    }
   ],
   "source": [
    "# Also save road links with changed maxspeeds\n",
    "sm.road_links[\"time\"] = sm.road_links[\"time\"].astype(int)\n",
    "sm.to_json(input_path + 'de_road_network', only_attributes=[\n",
    "    'road_links', 'road_nodes', 'zones'])"
   ]
  }
 ],
 "metadata": {
  "kernelspec": {
   "display_name": "Python 3 (ipykernel)",
   "language": "python",
   "name": "python3"
  },
  "language_info": {
   "codemirror_mode": {
    "name": "ipython",
    "version": 3
   },
   "file_extension": ".py",
   "mimetype": "text/x-python",
   "name": "python",
   "nbconvert_exporter": "python",
   "pygments_lexer": "ipython3",
   "version": "3.8.13"
  }
 },
 "nbformat": 4,
 "nbformat_minor": 2
}
