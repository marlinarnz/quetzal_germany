{
 "cells": [
  {
   "cell_type": "code",
   "execution_count": null,
   "metadata": {},
   "outputs": [],
   "source": [
    "import sys # for automation and parallelisation\n",
    "manual, scenario = (True, 'base') if 'ipykernel' in sys.argv[0] else (False, sys.argv[1])\n",
    "if manual:\n",
    "    %matplotlib inline"
   ]
  },
  {
   "cell_type": "code",
   "execution_count": null,
   "metadata": {},
   "outputs": [],
   "source": [
    "import os\n",
    "import numpy as np\n",
    "import pandas as pd\n",
    "import geopandas as gpd\n",
    "from shapely import geometry\n",
    "import shapely.speedups\n",
    "from tqdm import tqdm\n",
    "from quetzal.model import stepmodel\n",
    "from quetzal.engine import engine\n",
    "from quetzal.io import excel\n",
    "import matplotlib.pyplot as plt"
   ]
  },
  {
   "cell_type": "markdown",
   "metadata": {},
   "source": [
    "# Preparation of the LoS tables\n",
    "## Saves a StepModel with shortest paths and LoS attributes for the road network\n",
    "## Needs the road network"
   ]
  },
  {
   "cell_type": "code",
   "execution_count": null,
   "metadata": {},
   "outputs": [],
   "source": [
    "input_path = '../input_static/'\n",
    "output_path = '../output/'\n",
    "model_path = '../model/' + scenario + '/'"
   ]
  },
  {
   "cell_type": "code",
   "execution_count": null,
   "metadata": {},
   "outputs": [],
   "source": [
    "# Create a path for scenario-specific model files\n",
    "if not os.path.exists(model_path):\n",
    "    os.makedirs(model_path)"
   ]
  },
  {
   "cell_type": "code",
   "execution_count": null,
   "metadata": {},
   "outputs": [],
   "source": [
    "# Load scenario parameters\n",
    "params = excel.read_var(file='../input/parameters.xls', scenario=scenario)"
   ]
  },
  {
   "cell_type": "code",
   "execution_count": null,
   "metadata": {},
   "outputs": [],
   "source": [
    "sm = stepmodel.read_json(input_path + 'de_road_network')\n",
    "try:\n",
    "    ae = stepmodel.read_json(model_path + 'de_road_access_egress')\n",
    "except FileNotFoundError:\n",
    "    ae = stepmodel.read_json(model_path.replace(scenario, 'base') + 'de_road_access_egress')\n",
    "try:\n",
    "    z = stepmodel.read_json(model_path + 'de_zones')\n",
    "except FileNotFoundError:\n",
    "    z = stepmodel.read_json(model_path.replace(scenario, 'base') + 'de_zones')"
   ]
  },
  {
   "cell_type": "code",
   "execution_count": null,
   "metadata": {},
   "outputs": [],
   "source": [
    "sm.zone_to_road = ae.zone_to_road\n",
    "sm.centroids = gpd.GeoDataFrame(ae.centroids)\n",
    "sm.zones = gpd.GeoDataFrame(z.zones)\n",
    "sm.road_links = gpd.GeoDataFrame(sm.road_links)\n",
    "sm.road_nodes = gpd.GeoDataFrame(sm.road_nodes)"
   ]
  },
  {
   "cell_type": "code",
   "execution_count": null,
   "metadata": {},
   "outputs": [],
   "source": [
    "len(sm.zone_to_road.loc[sm.zone_to_road['a'].str.startswith('DE'), 'a'].unique())"
   ]
  },
  {
   "cell_type": "markdown",
   "metadata": {},
   "source": [
    "## Generate LoS attribute time\n",
    "The maxspeed column is based on OSM data that needs to be refined. The unit is km/h"
   ]
  },
  {
   "cell_type": "code",
   "execution_count": null,
   "metadata": {},
   "outputs": [],
   "source": [
    "# Road types\n",
    "sm.road_links['highway'].unique()"
   ]
  },
  {
   "cell_type": "code",
   "execution_count": null,
   "metadata": {},
   "outputs": [],
   "source": [
    "# Number of links (not length) with specified speeds before applying speed limits from params\n",
    "sm.road_links.hist(column='maxspeed', bins=50, figsize=(4,4))"
   ]
  },
  {
   "cell_type": "code",
   "execution_count": null,
   "metadata": {},
   "outputs": [],
   "source": [
    "# Speed limits before applying speed limits from params\n",
    "sm.road_links['maxspeed'].unique()"
   ]
  },
  {
   "cell_type": "code",
   "execution_count": null,
   "metadata": {},
   "outputs": [],
   "source": [
    "# Number of road links for each highway type\n",
    "counts = sm.road_links['highway'].value_counts()\n",
    "# Create a bar plot\n",
    "plt.figure(figsize=(5, 3))\n",
    "counts.plot(kind='bar')\n",
    "plt.title('Number of road links for each highway type')\n",
    "plt.xlabel('Highway Type')\n",
    "plt.ylabel('Number of road links')\n",
    "plt.xticks(rotation=45, ha='right')  # Rotate x-axis labels for better readability\n",
    "plt.tight_layout()"
   ]
  },
  {
   "cell_type": "code",
   "execution_count": null,
   "metadata": {},
   "outputs": [],
   "source": [
    "# Find road nodes in cities\n",
    "shapely.speedups.enable()\n",
    "urban_zones = sm.zones.loc[sm.zones['urbanisation']==1, 'geometry']\n",
    "urban_nodes = []\n",
    "for geo in tqdm(urban_zones, total=len(urban_zones)):\n",
    "    urban_nodes.append(list(set(sm.road_nodes.loc[sm.road_nodes['geometry'].within(geo)].index)))"
   ]
  },
  {
   "cell_type": "code",
   "execution_count": null,
   "metadata": {},
   "outputs": [],
   "source": [
    "# Flatten the list of road nodes in cities\n",
    "urban_nodes_flat = [item for sublist in urban_nodes for item in sublist]"
   ]
  },
  {
   "cell_type": "code",
   "execution_count": null,
   "metadata": {},
   "outputs": [],
   "source": [
    "# Set maximum speed limit for urban roads\n",
    "mask_urban = (sm.road_links['a'].isin(urban_nodes_flat)) & \\\n",
    "             (sm.road_links['b'].isin(urban_nodes_flat)) & \\\n",
    "             (sm.road_links['highway'].isin(['primary', 'primary_link', 'secondary', 'secondary_link']))\n",
    "sm.road_links.loc[mask_urban, 'maxspeed'] = sm.road_links.loc[mask_urban, 'maxspeed']\\\n",
    ".clip(upper=params['speed_limit']['urban'])\n",
    "print(f\"Number of urban roads: {len(sm.road_links.loc[mask_urban])}\")"
   ]
  },
  {
   "cell_type": "code",
   "execution_count": null,
   "metadata": {},
   "outputs": [],
   "source": [
    "# Set maximum speed limit for motorways\n",
    "mask_motorway = (sm.road_links['highway'].isin(['motorway_link', 'motorway', 'trunk', 'trunk_link']))\n",
    "sm.road_links.loc[mask_motorway, 'maxspeed'] = sm.road_links.loc[mask_motorway, 'maxspeed']\\\n",
    ".clip(upper=params['speed_limit']['motorways'])\n",
    "print(f\"Number of motorways: {len(sm.road_links.loc[mask_motorway])}\")"
   ]
  },
  {
   "cell_type": "code",
   "execution_count": null,
   "metadata": {},
   "outputs": [],
   "source": [
    "# Set maximum speed limit for other roads\n",
    "sm.road_links.loc[~mask_urban & ~mask_motorway, 'maxspeed'] = sm.road_links.loc[~mask_urban & ~mask_motorway, 'maxspeed']\\\n",
    ".clip(upper=params['speed_limit']['other'])\n",
    "print(f\"Number of other roads: {len(sm.road_links.loc[~mask_urban & ~mask_motorway])}\")"
   ]
  },
  {
   "cell_type": "code",
   "execution_count": null,
   "metadata": {},
   "outputs": [],
   "source": [
    "# Number of links (not length) with specified speeds after applying speed limits from params\n",
    "sm.road_links.hist(column='maxspeed', bins=50, figsize=(4,4))"
   ]
  },
  {
   "cell_type": "code",
   "execution_count": null,
   "metadata": {},
   "outputs": [],
   "source": [
    "# Speed limits after applying speed limits from params\n",
    "sm.road_links['maxspeed'].unique()"
   ]
  },
  {
   "cell_type": "markdown",
   "metadata": {},
   "source": [
    "Now, generate travel time based on the information available. In many transport models, time depends on the network flow. As a simplification for this long-term strategic model in times of modern traffic management, we assume speed limits to be equilibrated with the traffic situation. Hence, travel time depends on speed limits.\n",
    "\n",
    "In a [publication by the Federal Environmental Agency](https://www.umweltbundesamt.de/publikationen/klimaschutz-durch-tempolimit), the following average speeds were found on the respective road sections:\n",
    "- Speed limit | average traffic flow speed \n",
    "- <=60 | 60\n",
    "- 80 | 87.4\n",
    "- 100 | 103.3\n",
    "- 120 | 115.6\n",
    "- 130 | 118.3\n",
    "- open | 124.7\n",
    "\n",
    "The following calculations approximate these figures."
   ]
  },
  {
   "cell_type": "code",
   "execution_count": null,
   "metadata": {},
   "outputs": [],
   "source": [
    "# Generate time for road links in seconds\n",
    "# Manual calibration with Google maps (see below)\n",
    "# shows that traffic flow is slower than the speed limits\n",
    "\n",
    "# For up to 60km/h average speed equals the speed limit\n",
    "mask60 = sm.road_links['maxspeed']<=60\n",
    "sm.road_links.loc[mask60, 'time'] = sm.road_links['length'] / 1000 \\\n",
    "    / sm.road_links['maxspeed'] * 3600\n",
    "\n",
    "# Then, up to under 100km/h, average speeds are 10% above the speed limit\n",
    "mask100 = sm.road_links['maxspeed']<100\n",
    "sm.road_links.loc[(~mask60)&(mask100), 'time'] = \\\n",
    "    sm.road_links['length'] / 1000 / sm.road_links['maxspeed'] * 3600 * 1.1\n",
    "\n",
    "# Then, speed follows a polynomial of y = -0,0115x2 + 3,145x - 96,2 (R^2=1)\n",
    "mask_not_open = sm.road_links['maxspeed']!=125\n",
    "sm.road_links.loc[(~mask100)&(mask_not_open), 'time'] = sm.road_links['length'] / 1000 / \\\n",
    "    (-0.0115*np.power(sm.road_links['maxspeed'], 2) + 3.145*sm.road_links['maxspeed'] - 96.2) * 3600\n",
    "\n",
    "# without speed limit\n",
    "sm.road_links.loc[~mask_not_open, 'time'] = sm.road_links['length'] / 1000 \\\n",
    "    / sm.road_links['maxspeed'] * 3600\n",
    "\n",
    "assert len(sm.road_links[sm.road_links['time'].isna()])==0\n",
    "sm.road_links.loc[sm.road_links['time']==0, 'time'] = 1"
   ]
  },
  {
   "cell_type": "code",
   "execution_count": null,
   "metadata": {},
   "outputs": [],
   "source": [
    "# Average speed by number of links (not length) after applying speed limits from params\n",
    "(sm.road_links['length'] / 1000 / sm.road_links['time'] * 3600).hist(bins=50, figsize=(4,4))"
   ]
  },
  {
   "cell_type": "code",
   "execution_count": null,
   "metadata": {},
   "outputs": [],
   "source": [
    "sm.road_links.head(10)"
   ]
  },
  {
   "cell_type": "markdown",
   "metadata": {},
   "source": [
    "### Alter road access/egress links"
   ]
  },
  {
   "cell_type": "code",
   "execution_count": null,
   "metadata": {},
   "outputs": [],
   "source": [
    "# Find missing connectors\n",
    "missing_connectors = set(sm.zones.index) - set(sm.zone_to_road['a'])\n",
    "islands = ['DE94C_7', 'DE947_2', 'DE947_4', 'DE94H_3',\n",
    "           'DE94H_4', 'DE94A_2', 'outer_2', 'DEF07_3']\n",
    "missing_connectors - set(islands)"
   ]
  },
  {
   "cell_type": "code",
   "execution_count": null,
   "metadata": {},
   "outputs": [],
   "source": [
    "# Add missing connectors\n",
    "ntlegs = engine.ntlegs_from_centroids_and_nodes(\n",
    "    sm.centroids.loc[list(missing_connectors - set(islands))],\n",
    "    sm.road_nodes,\n",
    "    short_leg_speed=params['pt_access']['speed_walk'],\n",
    "    long_leg_speed=params['pt_access']['speed_bicycle'],\n",
    "    threshold=params['pt_access']['catchment_radius_walk'],\n",
    "    n_neighbors=1,\n",
    "    coordinates_unit=sm.coordinates_unit)\n",
    "sm.zone_to_road = pd.concat([\n",
    "    sm.zone_to_road,\n",
    "    ntlegs[list(set(sm.zone_to_road.columns).intersection(set(ntlegs.columns)))]]\n",
    ").reset_index(drop=True)"
   ]
  },
  {
   "cell_type": "code",
   "execution_count": null,
   "metadata": {},
   "outputs": [],
   "source": [
    "# Drop island road connections (except Sylt) and connect\n",
    "# them to a virtual single road node\n",
    "sm.zone_to_road = sm.zone_to_road.loc[~(sm.zone_to_road['a'].isin(islands))\n",
    "                                      & ~(sm.zone_to_road['b'].isin(islands))]\n",
    "for i in islands:\n",
    "    road_node = gpd.GeoDataFrame({'FID': [i]},\n",
    "                                 index=[i+'_n'],\n",
    "                                 geometry=[sm.centroids.loc[i, 'geometry']],\n",
    "                                 crs=sm.epsg)\n",
    "    ntlegs = engine.ntlegs_from_centroids_and_nodes(\n",
    "        sm.centroids.loc[[i]],\n",
    "        road_node,\n",
    "        short_leg_speed=params['pt_access']['speed_walk'],\n",
    "        long_leg_speed=params['pt_access']['speed_bicycle'],\n",
    "        threshold=params['pt_access']['catchment_radius_walk'],\n",
    "        n_neighbors=1,\n",
    "        coordinates_unit=sm.coordinates_unit)\n",
    "    sm.zone_to_road = pd.concat([\n",
    "        sm.zone_to_road,\n",
    "        ntlegs[list(set(sm.zone_to_road.columns).intersection(ntlegs.columns))]]\n",
    "    ).reset_index(drop=True)\n",
    "    sm.road_nodes = pd.concat([sm.road_nodes,road_node])"
   ]
  },
  {
   "cell_type": "code",
   "execution_count": null,
   "metadata": {},
   "outputs": [],
   "source": [
    "# Every zone must be connected\n",
    "assert len(sm.zone_to_road.loc[sm.zone_to_road['direction']=='access','a'\n",
    "                              ].unique()) == len(sm.zones.index)"
   ]
  },
  {
   "cell_type": "code",
   "execution_count": null,
   "metadata": {},
   "outputs": [],
   "source": [
    "# Assign a time by urbanisation degree\n",
    "for u in sm.zones['urbanisation'].unique():\n",
    "    u_zones = sm.zones.loc[sm.zones['urbanisation']==u].index\n",
    "    sm.zone_to_road.loc[(sm.zone_to_road['a'].isin(u_zones)) | sm.zone_to_road['b'].isin(u_zones),\n",
    "                        'time'] = params['access-egress_links']['time_road_'+str(u)]"
   ]
  },
  {
   "cell_type": "markdown",
   "metadata": {},
   "source": [
    "## Apply road pathfinder in order to generate LoS table"
   ]
  },
  {
   "cell_type": "code",
   "execution_count": null,
   "metadata": {},
   "outputs": [],
   "source": [
    "# Load OD pairs from volumes if available\n",
    "od_set = None\n",
    "try:\n",
    "    v = stepmodel.read_zippedpickles(\n",
    "        model_path.replace(scenario, params['general']['parent']) + 'de_volumes')\n",
    "    od_set = set([tuple(l) for l in v.volumes[['origin', 'destination']].values.tolist()])\n",
    "    print('Generated OD set with {} pairs'.format(len(od_set)))\n",
    "except:\n",
    "    print('The volumes file is not (yet) available')"
   ]
  },
  {
   "cell_type": "code",
   "execution_count": null,
   "metadata": {
    "scrolled": true
   },
   "outputs": [],
   "source": [
    "sm.step_road_pathfinder(all_or_nothing=True,\n",
    "                        od_set=od_set)"
   ]
  },
  {
   "cell_type": "code",
   "execution_count": null,
   "metadata": {},
   "outputs": [],
   "source": [
    "sm.car_los.sample()"
   ]
  },
  {
   "cell_type": "code",
   "execution_count": null,
   "metadata": {},
   "outputs": [],
   "source": [
    "# Drop inner-cell connections\n",
    "sm.car_los = sm.car_los[sm.car_los['origin']!=sm.car_los['destination']]\n",
    "sm.car_los.shape"
   ]
  },
  {
   "cell_type": "code",
   "execution_count": null,
   "metadata": {},
   "outputs": [],
   "source": [
    "# Drop non-existent island connections\n",
    "sm.car_los = sm.car_los.drop(sm.car_los.loc[(sm.car_los['time']==np.inf)].index)\n",
    "len(sm.car_los)"
   ]
  },
  {
   "cell_type": "code",
   "execution_count": null,
   "metadata": {},
   "outputs": [],
   "source": [
    "if manual: sm.car_los.hist(column='time', bins=100, figsize=(4,4))"
   ]
  },
  {
   "cell_type": "markdown",
   "metadata": {},
   "source": [
    "## Add various attributes to LoS table"
   ]
  },
  {
   "cell_type": "code",
   "execution_count": null,
   "metadata": {},
   "outputs": [],
   "source": [
    "sm.analysis_car_los()"
   ]
  },
  {
   "cell_type": "code",
   "execution_count": null,
   "metadata": {},
   "outputs": [],
   "source": [
    "# Disaggregate into in-vehicle time and access/egress\n",
    "sm.car_los['access_time'] = sm.car_los['origin'].map(\n",
    "    sm.zone_to_road.drop_duplicates('a').set_index('a')['time'])\n",
    "sm.car_los['in_vehicle_time'] = sm.car_los['time'] - sm.car_los['access_time']"
   ]
  },
  {
   "cell_type": "code",
   "execution_count": null,
   "metadata": {},
   "outputs": [],
   "source": [
    "# Add distances car\n",
    "if not 'length' in sm.road_links.columns:\n",
    "    sm.road_links['length'] = skims.distance_from_geometry(sm.road_links['geometry']).astype(int)\n",
    "len_dict = sm.road_links['length'].to_dict()\n",
    "sm.car_los['length'] = sm.car_los['link_path'].apply(lambda p: sum([len_dict[l] for l in p]))"
   ]
  },
  {
   "cell_type": "code",
   "execution_count": null,
   "metadata": {},
   "outputs": [],
   "source": [
    "# Add route_type = 'car' in car_los\n",
    "sm.car_los['route_type'] = 'car'\n",
    "sm.car_los['route_types'] = [(t,) for t in sm.car_los['route_type']]"
   ]
  },
  {
   "cell_type": "code",
   "execution_count": null,
   "metadata": {},
   "outputs": [],
   "source": [
    "#sm.car_los['ntransfers'] = 0"
   ]
  },
  {
   "cell_type": "code",
   "execution_count": null,
   "metadata": {
    "scrolled": true
   },
   "outputs": [],
   "source": [
    "# Verify with Google maps routing\n",
    "# Berlin (DE300) - Stade (DE939): 4h22m, 354km\n",
    "# Berlin (DE300) - Stuttgart (DE111): 6h37m, 632km\n",
    "# Berlin (DE300) - Stendal (DEE0D): 2h08m, 125km\n",
    "# Stade (DE939) - Stuttgart (DE111): 7h45m, 687km\n",
    "# Stendal (DEE0D) - Stuttgart (DE111): 6h11m, 574km\n",
    "# Stendal (DEE0D) - Stade (DE939): 3h22m, 231km\n",
    "od = ['DE300_0', 'DE939_6', 'DE111_0', 'DEE0D_2']\n",
    "for _, row in sm.car_los.loc[(sm.car_los['origin'].isin(od)) &\n",
    "                             (sm.car_los['destination'].isin(od))].iterrows():\n",
    "    print(row['origin'] + ' - ' + row['destination'] + ': '\n",
    "          + str(np.round(row['time']/3600,1)) + ', '\n",
    "          + str(int(sm.road_links.loc[row['link_path'], 'length'].sum()/1000)) + 'km')"
   ]
  },
  {
   "cell_type": "markdown",
   "metadata": {},
   "source": [
    "## Save model"
   ]
  },
  {
   "cell_type": "code",
   "execution_count": null,
   "metadata": {},
   "outputs": [],
   "source": [
    "# Ditch unneccessary columns\n",
    "to_drop = ['alighting_links','alightings','all_walk','boarding_links','boardings',\n",
    "           'footpaths','length_link_path','node_path','ntlegs','time_link_path','transfers',\n",
    "           'pathfinder_session','gtime','reversed', 'broken_modes', 'path']\n",
    "sm.car_los = sm.car_los.drop(to_drop, axis=1, errors='ignore')"
   ]
  },
  {
   "cell_type": "code",
   "execution_count": null,
   "metadata": {},
   "outputs": [],
   "source": [
    "sm.car_los.columns"
   ]
  },
  {
   "cell_type": "code",
   "execution_count": null,
   "metadata": {},
   "outputs": [],
   "source": [
    "assert sm.car_los.isna().any(axis=1).max() == 0"
   ]
  },
  {
   "cell_type": "code",
   "execution_count": null,
   "metadata": {},
   "outputs": [],
   "source": [
    "# Make table smaller\n",
    "cols = ['time', 'access_time', 'in_vehicle_time', 'length']\n",
    "sm.car_los[cols] = sm.car_los[cols].astype(int)"
   ]
  },
  {
   "cell_type": "code",
   "execution_count": null,
   "metadata": {},
   "outputs": [],
   "source": [
    "sm.to_zippedpickles(model_path + 'de_road_los', only_attributes=['car_los'])"
   ]
  },
  {
   "cell_type": "code",
   "execution_count": null,
   "metadata": {},
   "outputs": [],
   "source": [
    "# Save distances between centroids\n",
    "if params['general']['od_sparse_sample'] == 0 \\\n",
    "        or not os.path.exists(output_path + 'distances_centroids.csv'):\n",
    "    (sm.car_los.groupby(['origin', 'destination']).agg({'length': 'mean'}) / 1000\n",
    "    ).astype(int).to_csv(output_path + 'distances_centroids.csv')"
   ]
  }
 ],
 "metadata": {
  "kernelspec": {
   "display_name": "quetzal_env",
   "language": "python",
   "name": "quetzal_env"
  },
  "language_info": {
   "codemirror_mode": {
    "name": "ipython",
    "version": 3
   },
   "file_extension": ".py",
   "mimetype": "text/x-python",
   "name": "python",
   "nbconvert_exporter": "python",
   "pygments_lexer": "ipython3",
   "version": "3.10.9"
  }
 },
 "nbformat": 4,
 "nbformat_minor": 4
}
