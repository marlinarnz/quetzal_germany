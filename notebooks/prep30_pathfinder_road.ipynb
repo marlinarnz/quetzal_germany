{
 "cells": [
  {
   "cell_type": "code",
   "execution_count": 1,
   "metadata": {},
   "outputs": [
    {
     "name": "stderr",
     "output_type": "stream",
     "text": [
      "In C:\\Users\\marlin.arnz\\AppData\\Local\\Continuum\\miniconda3\\envs\\quetzal\\lib\\site-packages\\matplotlib\\mpl-data\\stylelib\\_classic_test.mplstyle: \n",
      "The text.latex.preview rcparam was deprecated in Matplotlib 3.3 and will be removed two minor releases later.\n",
      "In C:\\Users\\marlin.arnz\\AppData\\Local\\Continuum\\miniconda3\\envs\\quetzal\\lib\\site-packages\\matplotlib\\mpl-data\\stylelib\\_classic_test.mplstyle: \n",
      "The mathtext.fallback_to_cm rcparam was deprecated in Matplotlib 3.3 and will be removed two minor releases later.\n",
      "In C:\\Users\\marlin.arnz\\AppData\\Local\\Continuum\\miniconda3\\envs\\quetzal\\lib\\site-packages\\matplotlib\\mpl-data\\stylelib\\_classic_test.mplstyle: Support for setting the 'mathtext.fallback_to_cm' rcParam is deprecated since 3.3 and will be removed two minor releases later; use 'mathtext.fallback : 'cm' instead.\n",
      "In C:\\Users\\marlin.arnz\\AppData\\Local\\Continuum\\miniconda3\\envs\\quetzal\\lib\\site-packages\\matplotlib\\mpl-data\\stylelib\\_classic_test.mplstyle: \n",
      "The validate_bool_maybe_none function was deprecated in Matplotlib 3.3 and will be removed two minor releases later.\n",
      "In C:\\Users\\marlin.arnz\\AppData\\Local\\Continuum\\miniconda3\\envs\\quetzal\\lib\\site-packages\\matplotlib\\mpl-data\\stylelib\\_classic_test.mplstyle: \n",
      "The savefig.jpeg_quality rcparam was deprecated in Matplotlib 3.3 and will be removed two minor releases later.\n",
      "In C:\\Users\\marlin.arnz\\AppData\\Local\\Continuum\\miniconda3\\envs\\quetzal\\lib\\site-packages\\matplotlib\\mpl-data\\stylelib\\_classic_test.mplstyle: \n",
      "The keymap.all_axes rcparam was deprecated in Matplotlib 3.3 and will be removed two minor releases later.\n",
      "In C:\\Users\\marlin.arnz\\AppData\\Local\\Continuum\\miniconda3\\envs\\quetzal\\lib\\site-packages\\matplotlib\\mpl-data\\stylelib\\_classic_test.mplstyle: \n",
      "The animation.avconv_path rcparam was deprecated in Matplotlib 3.3 and will be removed two minor releases later.\n",
      "In C:\\Users\\marlin.arnz\\AppData\\Local\\Continuum\\miniconda3\\envs\\quetzal\\lib\\site-packages\\matplotlib\\mpl-data\\stylelib\\_classic_test.mplstyle: \n",
      "The animation.avconv_args rcparam was deprecated in Matplotlib 3.3 and will be removed two minor releases later.\n"
     ]
    }
   ],
   "source": [
    "import sys # for automation and parallelisation\n",
    "manual, scenario = (True, 'base') if 'ipykernel' in sys.argv[0] else (False, sys.argv[1])\n",
    "if manual:\n",
    "    %matplotlib inline"
   ]
  },
  {
   "cell_type": "code",
   "execution_count": 2,
   "metadata": {},
   "outputs": [],
   "source": [
    "import math\n",
    "import numpy as np\n",
    "import pandas as pd\n",
    "import geopandas as gpd\n",
    "from shapely import geometry\n",
    "from quetzal.model import stepmodel\n",
    "from quetzal.io import excel"
   ]
  },
  {
   "cell_type": "markdown",
   "metadata": {},
   "source": [
    "# Preparation of the LoS tables\n",
    "## Saves a StepModel with shortest paths and LoS attributes for the road network\n",
    "## Needs the road network"
   ]
  },
  {
   "cell_type": "code",
   "execution_count": 3,
   "metadata": {},
   "outputs": [],
   "source": [
    "input_path = '../input_static/'\n",
    "output_path = '../output/'\n",
    "model_path = '../model/'"
   ]
  },
  {
   "cell_type": "code",
   "execution_count": 4,
   "metadata": {},
   "outputs": [],
   "source": [
    "# Load scenario parameters\n",
    "params = excel.read_var(file='../input/parameters.xls', scenario=scenario)"
   ]
  },
  {
   "cell_type": "code",
   "execution_count": 9,
   "metadata": {},
   "outputs": [],
   "source": [
    "sm = stepmodel.read_json(input_path + 'de_road_network')\n",
    "ae = stepmodel.read_json(model_path + 'de_road_access_egress')\n",
    "z = stepmodel.read_json(model_path + 'de_zones')"
   ]
  },
  {
   "cell_type": "code",
   "execution_count": 10,
   "metadata": {},
   "outputs": [],
   "source": [
    "sm.zone_to_road = ae.zone_to_road\n",
    "sm.centroids = ae.centroids\n",
    "sm.zones = z.zones"
   ]
  },
  {
   "cell_type": "code",
   "execution_count": 11,
   "metadata": {},
   "outputs": [
    {
     "data": {
      "text/plain": [
       "401"
      ]
     },
     "execution_count": 11,
     "metadata": {},
     "output_type": "execute_result"
    }
   ],
   "source": [
    "len(sm.zone_to_road.loc[sm.zone_to_road['a'].str.startswith('DE'), 'a'].unique())"
   ]
  },
  {
   "cell_type": "markdown",
   "metadata": {},
   "source": [
    "## Generate LoS attribute time\n",
    "The maxspeed column is based on OSM data that needs to be refined. The unit is km/h"
   ]
  },
  {
   "cell_type": "code",
   "execution_count": 12,
   "metadata": {},
   "outputs": [
    {
     "data": {
      "text/plain": [
       "array([[<AxesSubplot:title={'center':'maxspeed'}>]], dtype=object)"
      ]
     },
     "execution_count": 12,
     "metadata": {},
     "output_type": "execute_result"
    },
    {
     "data": {
      "image/png": "[encoded data removed]",
      "text/plain": [
       "<Figure size 288x288 with 1 Axes>"
      ]
     },
     "metadata": {
      "needs_background": "light"
     },
     "output_type": "display_data"
    }
   ],
   "source": [
    "# Number of links (not length) with specified speeds\n",
    "sm.road_links.hist(column='maxspeed', bins=50, figsize=(4,4))"
   ]
  },
  {
   "cell_type": "code",
   "execution_count": 13,
   "metadata": {},
   "outputs": [],
   "source": [
    "# Generate time for road links in seconds\n",
    "# Manual calibration with Google maps (see below)\n",
    "# shows that traffic flow is slower than the speed limits\n",
    "road_speed_calibration = params['car']['speed_calibration']\n",
    "sm.road_links[\"time\"] = sm.road_links[\"length\"] / 1000 / \\\n",
    "    (sm.road_links[\"maxspeed\"] * road_speed_calibration) * 3600"
   ]
  },
  {
   "cell_type": "code",
   "execution_count": 14,
   "metadata": {},
   "outputs": [
    {
     "data": {
      "text/html": [
       "<div>\n",
       "<style scoped>\n",
       "    .dataframe tbody tr th:only-of-type {\n",
       "        vertical-align: middle;\n",
       "    }\n",
       "\n",
       "    .dataframe tbody tr th {\n",
       "        vertical-align: top;\n",
       "    }\n",
       "\n",
       "    .dataframe thead th {\n",
       "        text-align: right;\n",
       "    }\n",
       "</style>\n",
       "<table border=\"1\" class=\"dataframe\">\n",
       "  <thead>\n",
       "    <tr style=\"text-align: right;\">\n",
       "      <th></th>\n",
       "      <th>a</th>\n",
       "      <th>b</th>\n",
       "      <th>maxspeed</th>\n",
       "      <th>length</th>\n",
       "      <th>time</th>\n",
       "      <th>geometry</th>\n",
       "      <th>lanes</th>\n",
       "    </tr>\n",
       "    <tr>\n",
       "      <th>index</th>\n",
       "      <th></th>\n",
       "      <th></th>\n",
       "      <th></th>\n",
       "      <th></th>\n",
       "      <th></th>\n",
       "      <th></th>\n",
       "      <th></th>\n",
       "    </tr>\n",
       "  </thead>\n",
       "  <tbody>\n",
       "    <tr>\n",
       "      <th>rl_390589</th>\n",
       "      <td>776666725</td>\n",
       "      <td>7845111933</td>\n",
       "      <td>70</td>\n",
       "      <td>42</td>\n",
       "      <td>2.700000</td>\n",
       "      <td>LINESTRING (11.33171 48.82568, 11.33193 48.82533)</td>\n",
       "      <td>None</td>\n",
       "    </tr>\n",
       "    <tr>\n",
       "      <th>rl_29845</th>\n",
       "      <td>304657247</td>\n",
       "      <td>2350934747</td>\n",
       "      <td>68</td>\n",
       "      <td>276</td>\n",
       "      <td>18.264706</td>\n",
       "      <td>LINESTRING (13.12391 51.15902, 13.12378 51.15653)</td>\n",
       "      <td>2</td>\n",
       "    </tr>\n",
       "    <tr>\n",
       "      <th>rl_172817</th>\n",
       "      <td>1736711063</td>\n",
       "      <td>6612361968</td>\n",
       "      <td>50</td>\n",
       "      <td>514</td>\n",
       "      <td>46.260000</td>\n",
       "      <td>LINESTRING (8.69684 49.47604, 8.68975 49.47556)</td>\n",
       "      <td>2</td>\n",
       "    </tr>\n",
       "    <tr>\n",
       "      <th>rl_154540</th>\n",
       "      <td>1376495150</td>\n",
       "      <td>1376495167</td>\n",
       "      <td>100</td>\n",
       "      <td>27</td>\n",
       "      <td>1.215000</td>\n",
       "      <td>LINESTRING (8.51347 50.30882, 8.51322 50.30901)</td>\n",
       "      <td>None</td>\n",
       "    </tr>\n",
       "  </tbody>\n",
       "</table>\n",
       "</div>"
      ],
      "text/plain": [
       "                    a           b  maxspeed  length       time  \\\n",
       "index                                                            \n",
       "rl_390589   776666725  7845111933        70      42   2.700000   \n",
       "rl_29845    304657247  2350934747        68     276  18.264706   \n",
       "rl_172817  1736711063  6612361968        50     514  46.260000   \n",
       "rl_154540  1376495150  1376495167       100      27   1.215000   \n",
       "\n",
       "                                                    geometry lanes  \n",
       "index                                                               \n",
       "rl_390589  LINESTRING (11.33171 48.82568, 11.33193 48.82533)  None  \n",
       "rl_29845   LINESTRING (13.12391 51.15902, 13.12378 51.15653)     2  \n",
       "rl_172817    LINESTRING (8.69684 49.47604, 8.68975 49.47556)     2  \n",
       "rl_154540    LINESTRING (8.51347 50.30882, 8.51322 50.30901)  None  "
      ]
     },
     "execution_count": 14,
     "metadata": {},
     "output_type": "execute_result"
    }
   ],
   "source": [
    "sm.road_links.sample(4)"
   ]
  },
  {
   "cell_type": "markdown",
   "metadata": {},
   "source": [
    "### Alter road access/egress links"
   ]
  },
  {
   "cell_type": "code",
   "execution_count": 15,
   "metadata": {},
   "outputs": [],
   "source": [
    "# Assign a time\n",
    "sm.zone_to_road['time'] = params['access-egress_links']['time_road']"
   ]
  },
  {
   "cell_type": "markdown",
   "metadata": {},
   "source": [
    "## Apply road pathfinder in order to generate LoS table"
   ]
  },
  {
   "cell_type": "code",
   "execution_count": 16,
   "metadata": {},
   "outputs": [
    {
     "name": "stdout",
     "output_type": "stream",
     "text": [
      "Generated OD set with 160801 pairs\n"
     ]
    }
   ],
   "source": [
    "# Load OD pairs from volumes if available\n",
    "od_set = None\n",
    "try:\n",
    "    v = stepmodel.read_json(model_path + 'de_volumes')\n",
    "    od_set = set([tuple(l) for l in v.volumes[['origin', 'destination']].values.tolist()])\n",
    "    print('Generated OD set with {} pairs'.format(len(od_set)))\n",
    "except:\n",
    "    print('The volumes file is not (yet) available')"
   ]
  },
  {
   "cell_type": "code",
   "execution_count": 17,
   "metadata": {
    "scrolled": true
   },
   "outputs": [],
   "source": [
    "sm.step_road_pathfinder(all_or_nothing=True,\n",
    "                        od_set=od_set)"
   ]
  },
  {
   "cell_type": "code",
   "execution_count": 18,
   "metadata": {},
   "outputs": [
    {
     "data": {
      "text/html": [
       "<div>\n",
       "<style scoped>\n",
       "    .dataframe tbody tr th:only-of-type {\n",
       "        vertical-align: middle;\n",
       "    }\n",
       "\n",
       "    .dataframe tbody tr th {\n",
       "        vertical-align: top;\n",
       "    }\n",
       "\n",
       "    .dataframe thead th {\n",
       "        text-align: right;\n",
       "    }\n",
       "</style>\n",
       "<table border=\"1\" class=\"dataframe\">\n",
       "  <thead>\n",
       "    <tr style=\"text-align: right;\">\n",
       "      <th></th>\n",
       "      <th>origin</th>\n",
       "      <th>destination</th>\n",
       "      <th>time</th>\n",
       "      <th>path</th>\n",
       "      <th>node_path</th>\n",
       "      <th>link_path</th>\n",
       "      <th>ntlegs</th>\n",
       "    </tr>\n",
       "  </thead>\n",
       "  <tbody>\n",
       "    <tr>\n",
       "      <th>109195</th>\n",
       "      <td>DEA36</td>\n",
       "      <td>DE26A</td>\n",
       "      <td>13141.336934</td>\n",
       "      <td>[DEA36, 28032177, 26854581, 26854593, 33359493...</td>\n",
       "      <td>[28032177, 26854581, 26854593, 3335949395, 268...</td>\n",
       "      <td>[rl_157952, rl_73865, rl_73873, rl_271210, rl_...</td>\n",
       "      <td>[(DEA36, 28032177), (2903295242, DE26A)]</td>\n",
       "    </tr>\n",
       "    <tr>\n",
       "      <th>103292</th>\n",
       "      <td>DEA23</td>\n",
       "      <td>DE94C</td>\n",
       "      <td>11338.630860</td>\n",
       "      <td>[DEA23, 295986083, 296049275, 449827, 43244758...</td>\n",
       "      <td>[295986083, 296049275, 449827, 432447584, 7433...</td>\n",
       "      <td>[rl_183785, rl_222385, rl_284456, rl_274297, r...</td>\n",
       "      <td>[(DEA23, 295986083), (630997352, DE94C)]</td>\n",
       "    </tr>\n",
       "    <tr>\n",
       "      <th>143156</th>\n",
       "      <td>DEE08</td>\n",
       "      <td>DEG0P</td>\n",
       "      <td>7437.520471</td>\n",
       "      <td>[DEE08, 3004629262, 1987099423, 764514447, 161...</td>\n",
       "      <td>[3004629262, 1987099423, 764514447, 1618614373...</td>\n",
       "      <td>[rl_347634, rl_363822, rl_374401, rl_335999, r...</td>\n",
       "      <td>[(DEE08, 3004629262), (258898087, DEG0P)]</td>\n",
       "    </tr>\n",
       "  </tbody>\n",
       "</table>\n",
       "</div>"
      ],
      "text/plain": [
       "       origin destination          time  \\\n",
       "109195  DEA36       DE26A  13141.336934   \n",
       "103292  DEA23       DE94C  11338.630860   \n",
       "143156  DEE08       DEG0P   7437.520471   \n",
       "\n",
       "                                                     path  \\\n",
       "109195  [DEA36, 28032177, 26854581, 26854593, 33359493...   \n",
       "103292  [DEA23, 295986083, 296049275, 449827, 43244758...   \n",
       "143156  [DEE08, 3004629262, 1987099423, 764514447, 161...   \n",
       "\n",
       "                                                node_path  \\\n",
       "109195  [28032177, 26854581, 26854593, 3335949395, 268...   \n",
       "103292  [295986083, 296049275, 449827, 432447584, 7433...   \n",
       "143156  [3004629262, 1987099423, 764514447, 1618614373...   \n",
       "\n",
       "                                                link_path  \\\n",
       "109195  [rl_157952, rl_73865, rl_73873, rl_271210, rl_...   \n",
       "103292  [rl_183785, rl_222385, rl_284456, rl_274297, r...   \n",
       "143156  [rl_347634, rl_363822, rl_374401, rl_335999, r...   \n",
       "\n",
       "                                           ntlegs  \n",
       "109195   [(DEA36, 28032177), (2903295242, DE26A)]  \n",
       "103292   [(DEA23, 295986083), (630997352, DE94C)]  \n",
       "143156  [(DEE08, 3004629262), (258898087, DEG0P)]  "
      ]
     },
     "execution_count": 18,
     "metadata": {},
     "output_type": "execute_result"
    }
   ],
   "source": [
    "sm.car_los.sample(3)"
   ]
  },
  {
   "cell_type": "code",
   "execution_count": 19,
   "metadata": {},
   "outputs": [
    {
     "data": {
      "text/plain": [
       "(160801, 7)"
      ]
     },
     "execution_count": 19,
     "metadata": {},
     "output_type": "execute_result"
    }
   ],
   "source": [
    "sm.car_los.shape"
   ]
  },
  {
   "cell_type": "code",
   "execution_count": 20,
   "metadata": {
    "scrolled": true
   },
   "outputs": [
    {
     "name": "stdout",
     "output_type": "stream",
     "text": [
      "DE111 - DE111: 0.0, 0km\n",
      "DE111 - DE300: 6.7, 613km\n",
      "DE111 - DE939: 7.4, 663km\n",
      "DE111 - DEE0D: 6.9, 560km\n",
      "DE300 - DE111: 6.6, 612km\n",
      "DE300 - DE300: 0.0, 0km\n",
      "DE300 - DE939: 4.2, 349km\n",
      "DE300 - DEE0D: 2.5, 128km\n",
      "DE939 - DE111: 7.4, 662km\n",
      "DE939 - DE300: 4.1, 349km\n",
      "DE939 - DE939: 0.0, 0km\n",
      "DE939 - DEE0D: 3.5, 267km\n",
      "DEE0D - DE111: 6.9, 557km\n",
      "DEE0D - DE300: 2.5, 128km\n",
      "DEE0D - DE939: 3.6, 267km\n",
      "DEE0D - DEE0D: 0.0, 0km\n"
     ]
    }
   ],
   "source": [
    "# Verify with Google maps routing\n",
    "# Berlin (DE300) - Stade (DE939): 4h22m, 354km\n",
    "# Berlin (DE300) - Stuttgart (DE111): 6h37m, 632km\n",
    "# Berlin (DE300) - Stendal (DEE0D): 2h08m, 125km\n",
    "# Stade - Stuttgart: 7h45m, 687km\n",
    "# Stendal - Stuttgart: 6h11m, 574km\n",
    "# Stendal - Stade: 3h22m, 231km\n",
    "if manual:\n",
    "    od = ['DE300', 'DE939', 'DE111', 'DEE0D']\n",
    "    for _, row in sm.car_los.loc[(sm.car_los['origin'].isin(od)) &\n",
    "                                 (sm.car_los['destination'].isin(od))].iterrows():\n",
    "        print(row['origin'] + ' - ' + row['destination'] + ': '\n",
    "              + str(np.round(row['time']/3600,1)) + ', '\n",
    "              + str(int(sm.road_links.loc[row['link_path'], 'length'].sum()/1000)) + 'km')"
   ]
  },
  {
   "cell_type": "code",
   "execution_count": 21,
   "metadata": {},
   "outputs": [
    {
     "data": {
      "image/png": "[encoded data removed]",
      "text/plain": [
       "<Figure size 288x288 with 1 Axes>"
      ]
     },
     "metadata": {
      "needs_background": "light"
     },
     "output_type": "display_data"
    }
   ],
   "source": [
    "if manual: sm.car_los.hist(column='time', bins=100, figsize=(4,4))"
   ]
  },
  {
   "cell_type": "code",
   "execution_count": 22,
   "metadata": {},
   "outputs": [
    {
     "data": {
      "text/plain": [
       "(160400, 7)"
      ]
     },
     "execution_count": 22,
     "metadata": {},
     "output_type": "execute_result"
    }
   ],
   "source": [
    "# Drop inner-cell connections\n",
    "sm.car_los = sm.car_los[sm.car_los['time']!=0]\n",
    "sm.car_los.shape"
   ]
  },
  {
   "cell_type": "markdown",
   "metadata": {},
   "source": [
    "## Add various attributes to LoS table"
   ]
  },
  {
   "cell_type": "code",
   "execution_count": 23,
   "metadata": {},
   "outputs": [
    {
     "data": {
      "text/plain": [
       "Index(['origin', 'destination', 'time', 'path', 'node_path', 'link_path',\n",
       "       'ntlegs', 'access_time', 'in_vehicle_time'],\n",
       "      dtype='object')"
      ]
     },
     "execution_count": 23,
     "metadata": {},
     "output_type": "execute_result"
    }
   ],
   "source": [
    "# Disaggregate into in-vehicle time and access/egress\n",
    "sm.analysis_car_time()\n",
    "sm.car_los.columns"
   ]
  },
  {
   "cell_type": "code",
   "execution_count": 24,
   "metadata": {},
   "outputs": [],
   "source": [
    "# Add distances car\n",
    "len_dict = sm.road_links['length'].to_dict()\n",
    "sm.car_los['length'] = sm.car_los['link_path'].apply(lambda p: sum([len_dict[l] for l in p]))"
   ]
  },
  {
   "cell_type": "code",
   "execution_count": 25,
   "metadata": {},
   "outputs": [],
   "source": [
    "# Add route_type = 'car' in car_los\n",
    "sm.analysis_car_route_type()"
   ]
  },
  {
   "cell_type": "code",
   "execution_count": 26,
   "metadata": {},
   "outputs": [],
   "source": [
    "sm.car_los['ntransfers'] = 0"
   ]
  },
  {
   "cell_type": "markdown",
   "metadata": {},
   "source": [
    "## Add cost to LoS table"
   ]
  },
  {
   "cell_type": "code",
   "execution_count": 27,
   "metadata": {},
   "outputs": [],
   "source": [
    "def monetary_cost(length, rf, vc, ac, al, ec, el, sf):\n",
    "    \"\"\" calculate monetary cost of travelling one O-D realtion within the LoS table\n",
    "    :param length: length of main leg in meter\n",
    "    :param df: regression factor for length (to be calibrated beforehand)\n",
    "    :param vc: distance-specific transport cost\n",
    "    :param ac: access cost\n",
    "    :param al: access link length (m)\n",
    "    :param ec: egress cost\n",
    "    :param el: egress link length (m)\n",
    "    :param sf: sharing factor (e.g. occupancy factor of a car)\n",
    "    :return: monetary cost\"\"\"\n",
    "    return (math.pow(length, rf) * vc + ac * al + ec * el) / sf"
   ]
  },
  {
   "cell_type": "code",
   "execution_count": 28,
   "metadata": {},
   "outputs": [
    {
     "data": {
      "text/html": [
       "<div>\n",
       "<style scoped>\n",
       "    .dataframe tbody tr th:only-of-type {\n",
       "        vertical-align: middle;\n",
       "    }\n",
       "\n",
       "    .dataframe tbody tr th {\n",
       "        vertical-align: top;\n",
       "    }\n",
       "\n",
       "    .dataframe thead th {\n",
       "        text-align: right;\n",
       "    }\n",
       "</style>\n",
       "<table border=\"1\" class=\"dataframe\">\n",
       "  <thead>\n",
       "    <tr style=\"text-align: right;\">\n",
       "      <th></th>\n",
       "      <th>fix_cost</th>\n",
       "      <th>repair_cost</th>\n",
       "      <th>var_cost</th>\n",
       "      <th>acquisition_cost</th>\n",
       "      <th>eur_per_month</th>\n",
       "      <th>ct_per_km</th>\n",
       "      <th>model</th>\n",
       "      <th>model.1</th>\n",
       "    </tr>\n",
       "  </thead>\n",
       "  <tbody>\n",
       "    <tr>\n",
       "      <th>1564</th>\n",
       "      <td>98</td>\n",
       "      <td>76</td>\n",
       "      <td>183</td>\n",
       "      <td>419</td>\n",
       "      <td>776</td>\n",
       "      <td>62.1</td>\n",
       "      <td>Tiguan 2.0 TSI OPF Comfortline 4MOTION DSG</td>\n",
       "      <td>Tiguan 2.0 TSI OPF Comfortline 4MOTION DSG</td>\n",
       "    </tr>\n",
       "    <tr>\n",
       "      <th>972</th>\n",
       "      <td>146</td>\n",
       "      <td>106</td>\n",
       "      <td>123</td>\n",
       "      <td>609</td>\n",
       "      <td>984</td>\n",
       "      <td>78.7</td>\n",
       "      <td>GLC Coupé 220 d 4MATIC 9G-TRONIC</td>\n",
       "      <td>GLC Coupé 220 d 4MATIC 9G-TRONIC</td>\n",
       "    </tr>\n",
       "    <tr>\n",
       "      <th>462</th>\n",
       "      <td>112</td>\n",
       "      <td>71</td>\n",
       "      <td>114</td>\n",
       "      <td>346</td>\n",
       "      <td>643</td>\n",
       "      <td>51.4</td>\n",
       "      <td>C-MAX 1.5 TDCi Start/Stopp Cool &amp; Connect</td>\n",
       "      <td>C-MAX 1.5 TDCi Start/Stopp Cool &amp; Connect</td>\n",
       "    </tr>\n",
       "    <tr>\n",
       "      <th>1079</th>\n",
       "      <td>117</td>\n",
       "      <td>76</td>\n",
       "      <td>100</td>\n",
       "      <td>316</td>\n",
       "      <td>609</td>\n",
       "      <td>48.7</td>\n",
       "      <td>Astra Sports Tourer 1.5 Diesel \"120 Jahre\"</td>\n",
       "      <td>Astra Sports Tourer 1.5 Diesel \"120 Jahre\"</td>\n",
       "    </tr>\n",
       "  </tbody>\n",
       "</table>\n",
       "</div>"
      ],
      "text/plain": [
       "      fix_cost  repair_cost  var_cost  acquisition_cost  eur_per_month  \\\n",
       "1564        98           76       183               419            776   \n",
       "972        146          106       123               609            984   \n",
       "462        112           71       114               346            643   \n",
       "1079       117           76       100               316            609   \n",
       "\n",
       "      ct_per_km                                       model  \\\n",
       "1564       62.1  Tiguan 2.0 TSI OPF Comfortline 4MOTION DSG   \n",
       "972        78.7            GLC Coupé 220 d 4MATIC 9G-TRONIC   \n",
       "462        51.4   C-MAX 1.5 TDCi Start/Stopp Cool & Connect   \n",
       "1079       48.7  Astra Sports Tourer 1.5 Diesel \"120 Jahre\"   \n",
       "\n",
       "                                         model.1  \n",
       "1564  Tiguan 2.0 TSI OPF Comfortline 4MOTION DSG  \n",
       "972             GLC Coupé 220 d 4MATIC 9G-TRONIC  \n",
       "462    C-MAX 1.5 TDCi Start/Stopp Cool & Connect  \n",
       "1079  Astra Sports Tourer 1.5 Diesel \"120 Jahre\"  "
      ]
     },
     "execution_count": 28,
     "metadata": {},
     "output_type": "execute_result"
    }
   ],
   "source": [
    "# Load list of cost elements\n",
    "cars = pd.read_csv(input_path + 'level_of_service/ADAC_2019_autokostenuebersicht_47085.csv')\n",
    "cars.sample(4)"
   ]
  },
  {
   "cell_type": "markdown",
   "metadata": {},
   "source": [
    "Take only perceived variable cost for distance-dependency.<br>\n",
    "Assume monthly mileage of 15,000km / 12<br>\n",
    "Additionally, there are fix cost which add up on every trip. Assume 3 trips per day as average."
   ]
  },
  {
   "cell_type": "code",
   "execution_count": 29,
   "metadata": {},
   "outputs": [],
   "source": [
    "# Prep\n",
    "sm.car_los['price'] = 0\n",
    "vc_car = params['car']['var_cost']\n",
    "fix_car = params['car']['fix_cost']\n",
    "parking_cost = params['parking_cost']\n",
    "car_occ = params['car']['occupancy']"
   ]
  },
  {
   "cell_type": "code",
   "execution_count": 35,
   "metadata": {},
   "outputs": [],
   "source": [
    "urb_dict = sm.zones['urbanisation'].to_dict()\n",
    "sm.car_los['price'] = sm.car_los.apply(lambda df: monetary_cost(\n",
    "    df['length']/1000, 1, vc_car,\n",
    "    0,0, # parking at home is for free\n",
    "    parking_cost[int(urb_dict[df['destination']])], 1,\n",
    "    car_occ) + fix_car, axis=1)"
   ]
  },
  {
   "cell_type": "code",
   "execution_count": 36,
   "metadata": {},
   "outputs": [
    {
     "data": {
      "text/html": [
       "<div>\n",
       "<style scoped>\n",
       "    .dataframe tbody tr th:only-of-type {\n",
       "        vertical-align: middle;\n",
       "    }\n",
       "\n",
       "    .dataframe tbody tr th {\n",
       "        vertical-align: top;\n",
       "    }\n",
       "\n",
       "    .dataframe thead th {\n",
       "        text-align: right;\n",
       "    }\n",
       "</style>\n",
       "<table border=\"1\" class=\"dataframe\">\n",
       "  <thead>\n",
       "    <tr style=\"text-align: right;\">\n",
       "      <th></th>\n",
       "      <th>origin</th>\n",
       "      <th>destination</th>\n",
       "      <th>time</th>\n",
       "      <th>path</th>\n",
       "      <th>node_path</th>\n",
       "      <th>link_path</th>\n",
       "      <th>ntlegs</th>\n",
       "      <th>access_time</th>\n",
       "      <th>in_vehicle_time</th>\n",
       "      <th>length</th>\n",
       "      <th>route_types</th>\n",
       "      <th>route_type</th>\n",
       "      <th>ntransfers</th>\n",
       "      <th>price</th>\n",
       "    </tr>\n",
       "  </thead>\n",
       "  <tbody>\n",
       "    <tr>\n",
       "      <th>72431</th>\n",
       "      <td>DE725</td>\n",
       "      <td>DEA1B</td>\n",
       "      <td>12871.385648</td>\n",
       "      <td>[DE725, 580857073, 580857092, 27319631, 352929...</td>\n",
       "      <td>[580857073, 580857092, 27319631, 352929773, 29...</td>\n",
       "      <td>[rl_473294, rl_350130, rl_358116, rl_439132, r...</td>\n",
       "      <td>[(DE725, 580857073), (81202795, DEA1B)]</td>\n",
       "      <td>600</td>\n",
       "      <td>12271.385648</td>\n",
       "      <td>316702</td>\n",
       "      <td>(car,)</td>\n",
       "      <td>car</td>\n",
       "      <td>0</td>\n",
       "      <td>24.152238</td>\n",
       "    </tr>\n",
       "    <tr>\n",
       "      <th>72128</th>\n",
       "      <td>DE724</td>\n",
       "      <td>DEE01</td>\n",
       "      <td>15778.582823</td>\n",
       "      <td>[DE724, 225304947, 225314610, 2978913844, 1699...</td>\n",
       "      <td>[225304947, 225314610, 2978913844, 1699401837,...</td>\n",
       "      <td>[rl_243872, rl_462086, rl_273963, rl_118815, r...</td>\n",
       "      <td>[(DE724, 225304947), (292879241, DEE01)]</td>\n",
       "      <td>600</td>\n",
       "      <td>15178.582823</td>\n",
       "      <td>345147</td>\n",
       "      <td>(car,)</td>\n",
       "      <td>car</td>\n",
       "      <td>0</td>\n",
       "      <td>29.654836</td>\n",
       "    </tr>\n",
       "  </tbody>\n",
       "</table>\n",
       "</div>"
      ],
      "text/plain": [
       "      origin destination          time  \\\n",
       "72431  DE725       DEA1B  12871.385648   \n",
       "72128  DE724       DEE01  15778.582823   \n",
       "\n",
       "                                                    path  \\\n",
       "72431  [DE725, 580857073, 580857092, 27319631, 352929...   \n",
       "72128  [DE724, 225304947, 225314610, 2978913844, 1699...   \n",
       "\n",
       "                                               node_path  \\\n",
       "72431  [580857073, 580857092, 27319631, 352929773, 29...   \n",
       "72128  [225304947, 225314610, 2978913844, 1699401837,...   \n",
       "\n",
       "                                               link_path  \\\n",
       "72431  [rl_473294, rl_350130, rl_358116, rl_439132, r...   \n",
       "72128  [rl_243872, rl_462086, rl_273963, rl_118815, r...   \n",
       "\n",
       "                                         ntlegs  access_time  in_vehicle_time  \\\n",
       "72431   [(DE725, 580857073), (81202795, DEA1B)]          600     12271.385648   \n",
       "72128  [(DE724, 225304947), (292879241, DEE01)]          600     15178.582823   \n",
       "\n",
       "       length route_types route_type  ntransfers      price  \n",
       "72431  316702      (car,)        car           0  24.152238  \n",
       "72128  345147      (car,)        car           0  29.654836  "
      ]
     },
     "execution_count": 36,
     "metadata": {},
     "output_type": "execute_result"
    }
   ],
   "source": [
    "sm.car_los.sample(2)"
   ]
  },
  {
   "cell_type": "code",
   "execution_count": 37,
   "metadata": {},
   "outputs": [
    {
     "data": {
      "text/plain": [
       "<AxesSubplot:xlabel='length', ylabel='price'>"
      ]
     },
     "execution_count": 37,
     "metadata": {},
     "output_type": "execute_result"
    },
    {
     "data": {
      "image/png": "[encoded data removed]",
      "text/plain": [
       "<Figure size 432x288 with 1 Axes>"
      ]
     },
     "metadata": {
      "needs_background": "light"
     },
     "output_type": "display_data"
    }
   ],
   "source": [
    "sm.car_los.plot.scatter(x='length', y='price', alpha=.1)"
   ]
  },
  {
   "cell_type": "markdown",
   "metadata": {},
   "source": [
    "Instead of fix cost per trip, one can also assume ownership cost per hour of vehicle usage. This is also the approach chosen for the German federal governments transport study. In the methodical handbook gasoline cars have engine class weighted specific ownership cost of 0.71 EUR/h and diesel cars 0.99 EUR/h (other propulsion systems don't play a significant role). Multiplied with 2017's shares of gasoline and diesel cars (66.5%; 33.5%) this yields weighted average ownership cost of 0.8 EUR/h."
   ]
  },
  {
   "cell_type": "code",
   "execution_count": 33,
   "metadata": {},
   "outputs": [],
   "source": [
    "#sm.car_los['price'] = sm.car_los['price'] - fix_car + \\\n",
    "#    sm.car_los['time'].apply(lambda s: 0.8 * s / 3600)"
   ]
  },
  {
   "cell_type": "code",
   "execution_count": 34,
   "metadata": {},
   "outputs": [
    {
     "data": {
      "text/plain": [
       "<AxesSubplot:xlabel='length', ylabel='price'>"
      ]
     },
     "execution_count": 34,
     "metadata": {},
     "output_type": "execute_result"
    },
    {
     "data": {
      "image/png": "[encoded data removed]",
      "text/plain": [
       "<Figure size 432x288 with 1 Axes>"
      ]
     },
     "metadata": {
      "needs_background": "light"
     },
     "output_type": "display_data"
    }
   ],
   "source": [
    "sm.car_los.plot.scatter(x='length', y='price', alpha=.1)"
   ]
  },
  {
   "cell_type": "markdown",
   "metadata": {},
   "source": [
    "## Save model"
   ]
  },
  {
   "cell_type": "code",
   "execution_count": 38,
   "metadata": {},
   "outputs": [],
   "source": [
    "# Ditch unneccessary columns\n",
    "to_drop = ['alighting_links','alightings','all_walk','boarding_links','boardings',\n",
    "           'footpaths','length_link_path','node_path','ntlegs','time_link_path','transfers',\n",
    "           'pathfinder_session','gtime','reversed', 'broken_modes', 'path']\n",
    "sm.car_los = sm.car_los.drop(to_drop, axis=1, errors='ignore')"
   ]
  },
  {
   "cell_type": "code",
   "execution_count": 39,
   "metadata": {},
   "outputs": [],
   "source": [
    "# Make table smaller\n",
    "cols = ['time', 'access_time', 'in_vehicle_time', 'length']\n",
    "sm.car_los[cols] = sm.car_los[cols].astype(int)"
   ]
  },
  {
   "cell_type": "code",
   "execution_count": 40,
   "metadata": {},
   "outputs": [
    {
     "name": "stderr",
     "output_type": "stream",
     "text": [
      "to_hdf(overwriting): 100%|█████████████████████████████████████████████████████████████| 34/34 [00:08<00:00,  4.22it/s]\n"
     ]
    }
   ],
   "source": [
    "sm.to_json(model_path + 'de_road_los',\n",
    "           only_attributes=['car_los'], encoding='utf-8')"
   ]
  },
  {
   "cell_type": "code",
   "execution_count": 40,
   "metadata": {},
   "outputs": [
    {
     "name": "stderr",
     "output_type": "stream",
     "text": [
      "to_hdf(overwriting): 100%|█████████████████████████████████████████████████████████████| 34/34 [01:39<00:00,  2.93s/it]\n"
     ]
    }
   ],
   "source": [
    "# Also save road links with imputated maxspeeds\n",
    "sm.road_links[\"time\"] = sm.road_links[\"time\"].astype(int)\n",
    "sm.to_json(input_path + 'de_road_network', only_attributes=\n",
    "           ['road_links', 'road_nodes', 'zones'], encoding='utf-8')"
   ]
  }
 ],
 "metadata": {
  "kernelspec": {
   "display_name": "Python 3",
   "language": "python",
   "name": "python3"
  },
  "language_info": {
   "codemirror_mode": {
    "name": "ipython",
    "version": 3
   },
   "file_extension": ".py",
   "mimetype": "text/x-python",
   "name": "python",
   "nbconvert_exporter": "python",
   "pygments_lexer": "ipython3",
   "version": "3.8.1"
  }
 },
 "nbformat": 4,
 "nbformat_minor": 2
}
