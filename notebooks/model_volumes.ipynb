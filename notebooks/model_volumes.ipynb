{
 "cells": [
  {
   "cell_type": "code",
   "execution_count": 1,
   "id": "b0aa3e39",
   "metadata": {},
   "outputs": [],
   "source": [
    "import sys # for automation and parallelisation\n",
    "manual, scenario = (True, 'base') if 'ipykernel' in sys.argv[0] else (False, sys.argv[1])"
   ]
  },
  {
   "cell_type": "code",
   "execution_count": 2,
   "id": "f8387063",
   "metadata": {},
   "outputs": [],
   "source": [
    "import pandas as pd\n",
    "import numpy as np\n",
    "from quetzal.model import stepmodel\n",
    "from quetzal.engine.engine import od_volume_from_zones\n",
    "from quetzal.io import excel"
   ]
  },
  {
   "cell_type": "code",
   "execution_count": 3,
   "id": "1254663e",
   "metadata": {},
   "outputs": [],
   "source": [
    "model_path = '../model/' + scenario + '/'\n",
    "input_path = '../input/'\n",
    "input_static_path = '../input_static/'\n",
    "output_path = '../output/'"
   ]
  },
  {
   "cell_type": "code",
   "execution_count": 4,
   "id": "49222b5a",
   "metadata": {},
   "outputs": [],
   "source": [
    "# Load scenario parameters\n",
    "params = excel.read_var(file='../input/parameters.xls', scenario=scenario)"
   ]
  },
  {
   "cell_type": "markdown",
   "id": "a65fa6c3",
   "metadata": {
    "tags": []
   },
   "source": [
    "# OD matrix generation\n",
    "\n",
    "## Needs zone attributes and generation / destination choice / distribution model results\n",
    "\n",
    "## Saves volumes table"
   ]
  },
  {
   "cell_type": "code",
   "execution_count": 5,
   "id": "5e5f86b4",
   "metadata": {},
   "outputs": [],
   "source": [
    "# Transport demand segments\n",
    "segments = [s.strip() for s in params['general']['demand_segments'].split(';')]\n",
    "purposes_compulsory = ['commuting', 'business', 'education']\n",
    "purposes_optional = ['buy/execute', 'leisure', 'accompany']\n",
    "segments_compulsory = [s for s in segments if s.split('_')[0] in purposes_compulsory]\n",
    "segments_optional = [s for s in segments if s.split('_')[0] in purposes_optional]"
   ]
  },
  {
   "cell_type": "code",
   "execution_count": 6,
   "id": "d2dc37e3-5a04-420b-876a-588eea007ed6",
   "metadata": {},
   "outputs": [],
   "source": [
    "# Load zones\n",
    "sm = stepmodel.read_json(model_path + 'de_zones')\n",
    "sm.zones.sort_index(inplace=True)"
   ]
  },
  {
   "cell_type": "code",
   "execution_count": 7,
   "id": "55a8b11d-8463-4b9d-adec-a8352da51972",
   "metadata": {},
   "outputs": [],
   "source": [
    "# Fill POI values\n",
    "pois = pd.read_csv(input_path + 'spatial_num_pois_raw.csv', index_col='index')\n",
    "cats = pd.read_excel(input_path + 'spatial_OSM_POI_list.xlsx', sheet_name='categories')\n",
    "cats['label'] = (cats['key'] + ' ' + cats['value'].fillna('')).str.strip()\n",
    "for category, columns in cats.loc[cats['category'].notna()\n",
    "                                 ].groupby('category').agg(\n",
    "                                {'label': list})['label'].items():\n",
    "    sm.zones[category] = sm.zones['FID'].map(pois[columns].sum(axis=1)).fillna(0) \\\n",
    "                         * sm.zones['urbanisation'].map(params['poi_change']).astype(float)"
   ]
  },
  {
   "cell_type": "code",
   "execution_count": 8,
   "id": "21059c5c",
   "metadata": {},
   "outputs": [],
   "source": [
    "# Load inter-zonal composite cost from mode choice step\n",
    "try:\n",
    "    cc = pd.read_csv(output_path + scenario + '/mode_choice_od_composite_cost.csv')\n",
    "except FileNotFoundError:\n",
    "    cc = pd.read_csv(output_path + 'base' + '/mode_choice_od_composite_cost.csv')\n",
    "cc.set_index(['origin', 'destination'], inplace=True)\n",
    "cc.sort_index(inplace=True)\n",
    "cc.clip(lower=0.01, inplace=True)"
   ]
  },
  {
   "cell_type": "code",
   "execution_count": 9,
   "id": "2e0c9e14-e4eb-47dd-b431-c521cb65e642",
   "metadata": {},
   "outputs": [],
   "source": [
    "# Load distances\n",
    "dist = pd.read_csv(output_path + 'distances_centroids.csv', index_col=['origin', 'destination'])"
   ]
  },
  {
   "cell_type": "code",
   "execution_count": 12,
   "id": "a8c47bf1-03b5-4b34-9185-582d0d909f69",
   "metadata": {},
   "outputs": [],
   "source": [
    "# Define mathematical formulations for the cost term\n",
    "def power_function(CC, a, b):\n",
    "    return a * np.power(CC, -b)\n",
    "def exponential_function(CC, a, b):\n",
    "    return a * np.exp(-b * CC)\n",
    "def lognormal_function(CC, a, b):\n",
    "    return a * np.exp(-b * np.power(np.log(CC + 1), 2))"
   ]
  },
  {
   "cell_type": "code",
   "execution_count": 13,
   "id": "de283a63-1240-4d15-a584-26296505a7e4",
   "metadata": {},
   "outputs": [],
   "source": [
    "# Load estimated function parameters\n",
    "ab = pd.read_csv(input_path + 'estimation_results_distribution.csv', index_col=[0,1])"
   ]
  },
  {
   "cell_type": "code",
   "execution_count": 14,
   "id": "1f3df61d",
   "metadata": {},
   "outputs": [],
   "source": [
    "# Compute volumes from emission and attraction for a given segment\n",
    "def compute_volumes(segment, emission, attraction, f=lognormal_function):\n",
    "    sm.zones['emission'] = emission\n",
    "    sm.zones['attraction'] = attraction\n",
    "    # Create deterrence matrix from CC\n",
    "    zone_set = sorted(list(set(sm.zones['FID']).intersection(set(cc.index.get_level_values(0))\n",
    "                           ).intersection(set(cc.index.get_level_values(1)))))\n",
    "    deterr = cc[[segment]].merge(dist, left_index=True, right_index=True, how='left')\n",
    "    deterr['cc_dist'] = deterr[segment] + deterr['length'] / 10\n",
    "    deterr = deterr['cc_dist'].unstack('destination').loc[zone_set, zone_set]\n",
    "    deterr.fillna(1e3, inplace=True)\n",
    "    # Add inner-zonal resistance: the minimum\n",
    "    for z in deterr.index:\n",
    "        deterr.loc[z,z] = deterr.min(axis=1)[z] / 2\n",
    "    # convert CC to deterrence\n",
    "    deterr = f(deterr, ab.loc[(segment, f.__name__), 'a'], ab.loc[(segment, f.__name__), 'b'])\n",
    "    # Run doubly constrained distribution\n",
    "    vol = od_volume_from_zones(sm.zones.loc[sm.zones['FID'].isin(zone_set)], deterr)\n",
    "    return vol.fillna(0).set_index(['origin', 'destination'])"
   ]
  },
  {
   "cell_type": "code",
   "execution_count": 15,
   "id": "9daf2c22-1ac8-4580-815e-6fa85c0a18b3",
   "metadata": {},
   "outputs": [],
   "source": [
    "volumes = pd.DataFrame()"
   ]
  },
  {
   "cell_type": "markdown",
   "id": "858b7f54",
   "metadata": {},
   "source": [
    "## Compulsory trips\n",
    "\n",
    "Choose the doubly constrained gravity model as distribution method because logit models don't perform well for purposes commuting, business and education."
   ]
  },
  {
   "cell_type": "code",
   "execution_count": 16,
   "id": "05a14356",
   "metadata": {},
   "outputs": [],
   "source": [
    "# Volumes for commuting\n",
    "days = params['generation']['days_at_work_with_car']\n",
    "volumes['commuting_car'] = compute_volumes(\n",
    "    'commuting_car',\n",
    "    sm.zones['employed'] * sm.zones['car_avail_hh'] * days * 2,\n",
    "    sm.zones['employment'] * sm.zones['car_avail_hh'] * days * 2,\n",
    "    exponential_function)\n",
    "days = params['generation']['days_at_work_without_car']\n",
    "volumes['commuting_no_car'] = compute_volumes(\n",
    "    'commuting_no_car',\n",
    "    sm.zones['employed'] * (1 - sm.zones['car_avail_hh']) * days * 2,\n",
    "    sm.zones['employment'] * (1 - sm.zones['car_avail_hh']) * days * 2,\n",
    "    exponential_function)"
   ]
  },
  {
   "cell_type": "code",
   "execution_count": 17,
   "id": "ba42a7d1",
   "metadata": {},
   "outputs": [],
   "source": [
    "# Volumes for business\n",
    "# Average business trips per day from employed persons\n",
    "days = params['generation']['days_at_work_with_car']\n",
    "factor = params['generation']['business_trip_factor_with_car']\n",
    "volumes['business_car'] = compute_volumes(\n",
    "    'business_car',\n",
    "    sm.zones['employed'] * sm.zones['car_avail_hh'] * days * 2 * factor,\n",
    "    sm.zones['employment'] * sm.zones['car_avail_hh'] * days * 2 * factor)\n",
    "factor = params['generation']['business_trip_factor_without_car']\n",
    "volumes['business_no_car'] = compute_volumes(\n",
    "    'business_no_car',\n",
    "    sm.zones['employed'] * (1 - sm.zones['car_avail_hh']) * days * 2 * factor,\n",
    "    sm.zones['employment'] * (1 - sm.zones['car_avail_hh']) * days * 2 * factor)"
   ]
  },
  {
   "cell_type": "code",
   "execution_count": 15,
   "id": "f11f9523",
   "metadata": {},
   "outputs": [
    {
     "name": "stderr",
     "output_type": "stream",
     "text": [
      "C:\\Users\\m.arnz\\AppData\\Local\\Temp\\ipykernel_1956\\1462587481.py:2: ParserWarning: Falling back to the 'python' engine because the 'c' engine does not support skipfooter; you can avoid this warning by specifying engine='python'.\n",
      "  age_groups = pd.read_csv(input_static_path + 'spatial_Zensus_ages_2017_GENESIS.csv',\n"
     ]
    }
   ],
   "source": [
    "# Load data for education\n",
    "age_groups = pd.read_csv(input_static_path + 'spatial_Zensus_ages_2017_GENESIS.csv',\n",
    "                         encoding='latin-1', sep=';', skiprows=5, skipfooter=4, na_values='-').dropna()\n",
    "age_groups.rename(columns={'Unnamed: 1': 'lau_id'}, inplace=True)\n",
    "age_groups.loc[age_groups['lau_id']==16056, 'lau_id'] = 16063 # Update Eisenach\n",
    "age_groups = age_groups.groupby('lau_id').sum()\n",
    "if not 'lau_id' in sm.zones.columns:\n",
    "    sm.zones['lau_id'] = sm.zones['FID'].astype(str).str[:-4]\n",
    "sm.zones['is_urban'] = (sm.zones['urbanisation']==1) & (sm.zones['population']>100000)"
   ]
  },
  {
   "cell_type": "code",
   "execution_count": 16,
   "id": "9f37179b",
   "metadata": {},
   "outputs": [
    {
     "name": "stderr",
     "output_type": "stream",
     "text": [
      "c:\\users\\m.arnz\\code\\quetzal-lite\\syspy\\distribution\\distribution.py:96: RuntimeWarning: divide by zero encountered in divide\n",
      "  F = F / worse\n",
      "c:\\users\\m.arnz\\code\\quetzal-lite\\syspy\\distribution\\distribution.py:96: RuntimeWarning: invalid value encountered in divide\n",
      "  F = F / worse\n",
      "c:\\users\\m.arnz\\code\\quetzal-lite\\syspy\\distribution\\distribution.py:96: RuntimeWarning: divide by zero encountered in divide\n",
      "  F = F / worse\n",
      "c:\\users\\m.arnz\\code\\quetzal-lite\\syspy\\distribution\\distribution.py:96: RuntimeWarning: invalid value encountered in divide\n",
      "  F = F / worse\n",
      "c:\\users\\m.arnz\\code\\quetzal-lite\\syspy\\distribution\\distribution.py:96: RuntimeWarning: divide by zero encountered in divide\n",
      "  F = F / worse\n",
      "c:\\users\\m.arnz\\code\\quetzal-lite\\syspy\\distribution\\distribution.py:96: RuntimeWarning: invalid value encountered in divide\n",
      "  F = F / worse\n"
     ]
    }
   ],
   "source": [
    "# Volumes for education\n",
    "# Emissions are people in education (school, apprenticeship, higher education)\n",
    "# Attractions are corresponding institutions\n",
    "emission = \\\n",
    "    {'higher_education':\n",
    "        sm.zones['lau_id'].map(\n",
    "            age_groups['18 bis unter 20 Jahre']\n",
    "            + age_groups['20 bis unter 25 Jahre']\n",
    "        ) * sm.zones['pop_share']\n",
    "        * sm.zones['is_urban'].map(lambda urban: params['generation']['students_per_18-25yo_urban']\n",
    "                                   if urban else params['generation']['students_per_18-25yo_non-urban']),\n",
    "    'school':\n",
    "        sm.zones['lau_id'].map(\n",
    "            age_groups['6 bis unter 10 Jahre']\n",
    "            + age_groups['10 bis unter 15 Jahre']\n",
    "            + age_groups['15 bis unter 18 Jahre']\n",
    "        ) * sm.zones['pop_share']\n",
    "        * sm.zones['is_urban'].map(lambda urban: params['generation']['pupils_per_6-18yo_urban']\n",
    "                                   if urban else params['generation']['pupils_per_6-18yo_non-urban']),\n",
    "    'employment':\n",
    "        sm.zones['lau_id'].map(\n",
    "            age_groups['18 bis unter 20 Jahre']\n",
    "        ) * sm.zones['pop_share']\n",
    "        * sm.zones['is_urban'].map(lambda urban: params['generation']['apprentices_per_18-20yo_urban']\n",
    "                                   if urban else params['generation']['apprentices_per_18-20yo_non-urban'])\n",
    "   }\n",
    "\n",
    "vol_df = pd.DataFrame(index=volumes.index)\n",
    "institutions = ['higher_education', 'school', 'employment']\n",
    "for institution in institutions:\n",
    "    days = params['generation']['edu_days_in_'+institution]\n",
    "    no_car_share = params['generation']['edu_share_without_car']\n",
    "    # With car available\n",
    "    vol_df[institution+'_car'] = compute_volumes(\n",
    "        'education_car',\n",
    "        emission[institution] * sm.zones['car_avail_hh'] * days * 2,\n",
    "        sm.zones[institution] * sm.zones['car_avail_hh'] * days * 2)\n",
    "    # Without car available\n",
    "    vol_df[institution+'_no_car'] = compute_volumes(\n",
    "        'education_no_car',\n",
    "        emission[institution] * sm.zones['car_avail_hh'] * days * 2,\n",
    "        sm.zones[institution] * sm.zones['car_avail_hh'] * days * 2)\n",
    "    \n",
    "# Sum up all these education groups\n",
    "volumes['education_car'] = vol_df[[i+'_car' for i in institutions]].sum(axis=1)\n",
    "volumes['education_no_car'] = vol_df[[i+'_no_car' for i in institutions]].sum(axis=1)"
   ]
  },
  {
   "cell_type": "markdown",
   "id": "c524676c-c7b2-4aaf-ac19-7b5f2e9d7437",
   "metadata": {},
   "source": [
    "## Volumes for non-compulsory trips"
   ]
  },
  {
   "cell_type": "code",
   "execution_count": 17,
   "id": "9f4ab7c7-6910-427c-9e62-a69bd4791473",
   "metadata": {},
   "outputs": [],
   "source": [
    "# Load inter-zonal trip generation\n",
    "try:\n",
    "    generation = pd.read_csv(model_path + 'generation_volumes_inter.csv', index_col=0)\n",
    "except FileNotFoundError:\n",
    "    generation = pd.read_csv(model_path.replace(scenario, 'base') + 'generation_volumes_inter.csv', index_col=0)"
   ]
  },
  {
   "cell_type": "code",
   "execution_count": 18,
   "id": "0449f0b7-2f0e-4e16-b32e-17ae570ac80a",
   "metadata": {},
   "outputs": [],
   "source": [
    "# Calculate number of trips\n",
    "for s in segments_optional:\n",
    "    volumes[s] = compute_volumes(s, sm.zones['FID'].map(generation[s]), sm.zones['population'])"
   ]
  },
  {
   "cell_type": "code",
   "execution_count": 18,
   "id": "8896b27d-36b7-411e-a86b-19963c172a5a",
   "metadata": {},
   "outputs": [
    {
     "data": {
      "text/plain": [
       "21160000"
      ]
     },
     "execution_count": 18,
     "metadata": {},
     "output_type": "execute_result"
    }
   ],
   "source": [
    "len(volumes)"
   ]
  },
  {
   "cell_type": "code",
   "execution_count": 19,
   "id": "6fd4c0c2",
   "metadata": {},
   "outputs": [
    {
     "data": {
      "text/html": [
       "<div>\n",
       "<style scoped>\n",
       "    .dataframe tbody tr th:only-of-type {\n",
       "        vertical-align: middle;\n",
       "    }\n",
       "\n",
       "    .dataframe tbody tr th {\n",
       "        vertical-align: top;\n",
       "    }\n",
       "\n",
       "    .dataframe thead th {\n",
       "        text-align: right;\n",
       "    }\n",
       "</style>\n",
       "<table border=\"1\" class=\"dataframe\">\n",
       "  <thead>\n",
       "    <tr style=\"text-align: right;\">\n",
       "      <th></th>\n",
       "      <th></th>\n",
       "      <th>commuting_car</th>\n",
       "      <th>commuting_no_car</th>\n",
       "      <th>business_car</th>\n",
       "      <th>business_no_car</th>\n",
       "    </tr>\n",
       "    <tr>\n",
       "      <th>origin</th>\n",
       "      <th>destination</th>\n",
       "      <th></th>\n",
       "      <th></th>\n",
       "      <th></th>\n",
       "      <th></th>\n",
       "    </tr>\n",
       "  </thead>\n",
       "  <tbody>\n",
       "    <tr>\n",
       "      <th>145245104</th>\n",
       "      <th>146280410</th>\n",
       "      <td>3256.447217</td>\n",
       "      <td>2.268295</td>\n",
       "      <td>767.904852</td>\n",
       "      <td>3.36948</td>\n",
       "    </tr>\n",
       "  </tbody>\n",
       "</table>\n",
       "</div>"
      ],
      "text/plain": [
       "                       commuting_car  commuting_no_car  business_car  \\\n",
       "origin    destination                                                  \n",
       "145245104 146280410      3256.447217          2.268295    767.904852   \n",
       "\n",
       "                       business_no_car  \n",
       "origin    destination                   \n",
       "145245104 146280410            3.36948  "
      ]
     },
     "execution_count": 19,
     "metadata": {},
     "output_type": "execute_result"
    }
   ],
   "source": [
    "volumes.sample()"
   ]
  },
  {
   "cell_type": "code",
   "execution_count": 20,
   "id": "04708343-386d-4e7e-a0a7-f73c47a23376",
   "metadata": {},
   "outputs": [
    {
     "data": {
      "text/plain": [
       "21160000"
      ]
     },
     "execution_count": 20,
     "metadata": {},
     "output_type": "execute_result"
    }
   ],
   "source": [
    "# Drop rows with NaN\n",
    "volumes = volumes.loc[~volumes.isna().any(axis=1)]\n",
    "len(volumes)"
   ]
  },
  {
   "cell_type": "code",
   "execution_count": null,
   "id": "f9d7c924",
   "metadata": {},
   "outputs": [],
   "source": [
    "# check the sum (million trips per day)\n",
    "print('Million trips per day: {}'.format(volumes[segments].sum().sum() / 1e6 / 365))"
   ]
  },
  {
   "cell_type": "markdown",
   "id": "297fb36a",
   "metadata": {},
   "source": [
    "## Policies"
   ]
  },
  {
   "cell_type": "code",
   "execution_count": 23,
   "id": "67609078",
   "metadata": {},
   "outputs": [],
   "source": [
    "# Multi-purpose densified quarters in agglomeration areas around large cities\n",
    "max_dist = params['trip_reduction_suburban_quarters']['max_dist_to_city']\n",
    "if max_dist > 0:\n",
    "    # Find quarters\n",
    "    zones = gpd.GeoDataFrame(sm.zones, crs=sm.epsg).to_crs('EPSG:5234') # distance to meter\n",
    "    cities = zones.loc[(zones['urbanisation']==1) & (zones['population']>200000)]\n",
    "    centroids = gpd.GeoDataFrame(index=zones.loc[zones['urbanisation']==2].index,\n",
    "                                 geometry=zones.loc[zones['urbanisation']==2, 'geometry'].centroid)\n",
    "    quarters = gpd.sjoin_nearest(centroids, cities[['geometry']], max_distance=max_dist)\n",
    "    # Reduce trips\n",
    "    for seg in segments:\n",
    "        volumes.loc[volumes['origin'].isin(quarters.index), seg] *= \\\n",
    "            1 - params['trip_reduction_suburban_quarters'][seg]"
   ]
  },
  {
   "cell_type": "markdown",
   "id": "a3e4c4cf",
   "metadata": {
    "tags": []
   },
   "source": [
    "## Save"
   ]
  },
  {
   "cell_type": "code",
   "execution_count": 22,
   "id": "28c3cca3",
   "metadata": {},
   "outputs": [
    {
     "name": "stderr",
     "output_type": "stream",
     "text": [
      "volumes: 100%|████████████████████████████████████████████████████| 9/9 [00:24<00:00,  2.75s/it]\n"
     ]
    }
   ],
   "source": [
    "# Save volumes table\n",
    "sm.volumes = volumes\n",
    "#sm.volumes = volumes.reset_index(drop=True)\n",
    "sm.to_zippedpickles(model_path + 'de_volumes', only_attributes=['volumes'])"
   ]
  }
 ],
 "metadata": {
  "kernelspec": {
   "display_name": "Python 3 (ipykernel)",
   "language": "python",
   "name": "python3"
  },
  "language_info": {
   "codemirror_mode": {
    "name": "ipython",
    "version": 3
   },
   "file_extension": ".py",
   "mimetype": "text/x-python",
   "name": "python",
   "nbconvert_exporter": "python",
   "pygments_lexer": "ipython3",
   "version": "3.10.14"
  }
 },
 "nbformat": 4,
 "nbformat_minor": 5
}
