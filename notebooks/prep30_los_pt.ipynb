{
 "cells": [
  {
   "cell_type": "code",
   "execution_count": 1,
   "metadata": {},
   "outputs": [
    {
     "name": "stderr",
     "output_type": "stream",
     "text": [
      "In C:\\Users\\marlin.arnz\\AppData\\Local\\Continuum\\miniconda3\\envs\\quetzal\\lib\\site-packages\\matplotlib\\mpl-data\\stylelib\\_classic_test.mplstyle: \n",
      "The text.latex.preview rcparam was deprecated in Matplotlib 3.3 and will be removed two minor releases later.\n",
      "In C:\\Users\\marlin.arnz\\AppData\\Local\\Continuum\\miniconda3\\envs\\quetzal\\lib\\site-packages\\matplotlib\\mpl-data\\stylelib\\_classic_test.mplstyle: \n",
      "The mathtext.fallback_to_cm rcparam was deprecated in Matplotlib 3.3 and will be removed two minor releases later.\n",
      "In C:\\Users\\marlin.arnz\\AppData\\Local\\Continuum\\miniconda3\\envs\\quetzal\\lib\\site-packages\\matplotlib\\mpl-data\\stylelib\\_classic_test.mplstyle: Support for setting the 'mathtext.fallback_to_cm' rcParam is deprecated since 3.3 and will be removed two minor releases later; use 'mathtext.fallback : 'cm' instead.\n",
      "In C:\\Users\\marlin.arnz\\AppData\\Local\\Continuum\\miniconda3\\envs\\quetzal\\lib\\site-packages\\matplotlib\\mpl-data\\stylelib\\_classic_test.mplstyle: \n",
      "The validate_bool_maybe_none function was deprecated in Matplotlib 3.3 and will be removed two minor releases later.\n",
      "In C:\\Users\\marlin.arnz\\AppData\\Local\\Continuum\\miniconda3\\envs\\quetzal\\lib\\site-packages\\matplotlib\\mpl-data\\stylelib\\_classic_test.mplstyle: \n",
      "The savefig.jpeg_quality rcparam was deprecated in Matplotlib 3.3 and will be removed two minor releases later.\n",
      "In C:\\Users\\marlin.arnz\\AppData\\Local\\Continuum\\miniconda3\\envs\\quetzal\\lib\\site-packages\\matplotlib\\mpl-data\\stylelib\\_classic_test.mplstyle: \n",
      "The keymap.all_axes rcparam was deprecated in Matplotlib 3.3 and will be removed two minor releases later.\n",
      "In C:\\Users\\marlin.arnz\\AppData\\Local\\Continuum\\miniconda3\\envs\\quetzal\\lib\\site-packages\\matplotlib\\mpl-data\\stylelib\\_classic_test.mplstyle: \n",
      "The animation.avconv_path rcparam was deprecated in Matplotlib 3.3 and will be removed two minor releases later.\n",
      "In C:\\Users\\marlin.arnz\\AppData\\Local\\Continuum\\miniconda3\\envs\\quetzal\\lib\\site-packages\\matplotlib\\mpl-data\\stylelib\\_classic_test.mplstyle: \n",
      "The animation.avconv_args rcparam was deprecated in Matplotlib 3.3 and will be removed two minor releases later.\n"
     ]
    }
   ],
   "source": [
    "import numpy as np\n",
    "import pandas as pd\n",
    "from tqdm import tqdm\n",
    "from geopy.distance import geodesic\n",
    "from quetzal.model import stepmodel\n",
    "from quetzal.analysis import analysis\n",
    "from quetzal.engine.pathfinder import PublicPathFinder\n",
    "from quetzal.io.display import all_pt_paths"
   ]
  },
  {
   "cell_type": "markdown",
   "metadata": {},
   "source": [
    "# Preparation of the LoS tables\n",
    "## Saves a StepModel with shortest paths and LoS attributes for the PT network\n",
    "## Needs aggregated PT networks"
   ]
  },
  {
   "cell_type": "code",
   "execution_count": 2,
   "metadata": {},
   "outputs": [],
   "source": [
    "input_path = '../input/'\n",
    "output_path = '../output/'\n",
    "model_path = '../model/'"
   ]
  },
  {
   "cell_type": "code",
   "execution_count": 3,
   "metadata": {},
   "outputs": [],
   "source": [
    "sm = stepmodel.read_json(model_path + 'de_pt_network_agg')\n",
    "ae = stepmodel.read_json(model_path + 'de_pt_access_egress')\n",
    "aux = stepmodel.read_json(model_path + 'de_pt_network_ancillary')"
   ]
  },
  {
   "cell_type": "code",
   "execution_count": 4,
   "metadata": {},
   "outputs": [],
   "source": [
    "sm.centroids = ae.centroids\n",
    "sm.footpaths = ae.footpaths\n",
    "sm.zone_to_transit = ae.zone_to_transit"
   ]
  },
  {
   "cell_type": "code",
   "execution_count": 5,
   "metadata": {},
   "outputs": [
    {
     "data": {
      "text/plain": [
       "(199294, 9)"
      ]
     },
     "execution_count": 5,
     "metadata": {},
     "output_type": "execute_result"
    }
   ],
   "source": [
    "sm.links.shape"
   ]
  },
  {
   "cell_type": "markdown",
   "metadata": {},
   "source": [
    "### Prepare links for pathfinder"
   ]
  },
  {
   "cell_type": "code",
   "execution_count": 6,
   "metadata": {},
   "outputs": [],
   "source": [
    "# Generate headways (two times the waiting time at a stop when changing between trips)\n",
    "# ASSUMPTION: Take average headways for core hours between 6 a.m. and 8 p.m.\n",
    "freq = aux.frequencies.loc[(aux.frequencies['hour']>=6) &\n",
    "                           (aux.frequencies['hour']<=19)\n",
    "                          ].groupby('stop_id').agg({'trip_id': 'sum'})\n",
    "freq['trip_id'] = 14*3600 / freq['trip_id'] # 14 hours"
   ]
  },
  {
   "cell_type": "code",
   "execution_count": 7,
   "metadata": {},
   "outputs": [],
   "source": [
    "headway_dict = freq['trip_id'].to_dict()"
   ]
  },
  {
   "cell_type": "code",
   "execution_count": 8,
   "metadata": {},
   "outputs": [],
   "source": [
    "# ASSUMPTION: Maximum waiting time is 20 minutes, minumum is 5 minutes\n",
    "sm.links['headway'] = sm.links['a'].map(headway_dict)\n",
    "sm.links['headway'] = sm.links['headway'].replace(\n",
    "    {np.nan: 15*60*2}).clip(lower=5*60*2, upper=20*60*2)"
   ]
  },
  {
   "cell_type": "code",
   "execution_count": 9,
   "metadata": {},
   "outputs": [],
   "source": [
    "# ASSUMPTION: Air trips require security checks and so on...\n",
    "sm.links.loc[sm.links['route_type']=='air', 'headway'] = 45*60*2\n",
    "sm.links['headway'] = sm.links['headway'].astype(int)"
   ]
  },
  {
   "cell_type": "code",
   "execution_count": 10,
   "metadata": {},
   "outputs": [
    {
     "data": {
      "text/plain": [
       "<AxesSubplot:>"
      ]
     },
     "execution_count": 10,
     "metadata": {},
     "output_type": "execute_result"
    },
    {
     "data": {
      "image/png": "[encoded data removed]",
      "text/plain": [
       "<Figure size 288x288 with 1 Axes>"
      ]
     },
     "metadata": {
      "needs_background": "light"
     },
     "output_type": "display_data"
    }
   ],
   "source": [
    "sm.links['headway'].hist(bins=100, figsize=(4,4), log=True)"
   ]
  },
  {
   "cell_type": "code",
   "execution_count": 11,
   "metadata": {},
   "outputs": [],
   "source": [
    "# Reset access/egress time to zero\n",
    "# Because it should not be a mode choice decision factor.\n",
    "# LoS attribute accessibility will handle this.\n",
    "#sm.zone_to_transit['time'] = 0"
   ]
  },
  {
   "cell_type": "code",
   "execution_count": 12,
   "metadata": {},
   "outputs": [],
   "source": [
    "# Generate length for PT links as the crow flies\n",
    "if 'length' not in sm.links.columns:\n",
    "    tqdm.pandas()\n",
    "    sm.links['length'] = sm.links['geometry'].progress_apply(\n",
    "        lambda l: int(geodesic(l.coords[0], l.coords[-1]).m))"
   ]
  },
  {
   "cell_type": "code",
   "execution_count": 13,
   "metadata": {},
   "outputs": [
    {
     "data": {
      "text/html": [
       "<div>\n",
       "<style scoped>\n",
       "    .dataframe tbody tr th:only-of-type {\n",
       "        vertical-align: middle;\n",
       "    }\n",
       "\n",
       "    .dataframe tbody tr th {\n",
       "        vertical-align: top;\n",
       "    }\n",
       "\n",
       "    .dataframe thead th {\n",
       "        text-align: right;\n",
       "    }\n",
       "</style>\n",
       "<table border=\"1\" class=\"dataframe\">\n",
       "  <thead>\n",
       "    <tr style=\"text-align: right;\">\n",
       "      <th></th>\n",
       "      <th>a</th>\n",
       "      <th>b</th>\n",
       "      <th>length</th>\n",
       "      <th>route_type</th>\n",
       "      <th>geometry</th>\n",
       "      <th>link_sequence</th>\n",
       "      <th>route_id</th>\n",
       "      <th>time</th>\n",
       "      <th>trip_id</th>\n",
       "      <th>headway</th>\n",
       "    </tr>\n",
       "    <tr>\n",
       "      <th>index</th>\n",
       "      <th></th>\n",
       "      <th></th>\n",
       "      <th></th>\n",
       "      <th></th>\n",
       "      <th></th>\n",
       "      <th></th>\n",
       "      <th></th>\n",
       "      <th></th>\n",
       "      <th></th>\n",
       "      <th></th>\n",
       "    </tr>\n",
       "  </thead>\n",
       "  <tbody>\n",
       "    <tr>\n",
       "      <th>bus_926419</th>\n",
       "      <td>DE922_bus_0</td>\n",
       "      <td>DE922_bus_1</td>\n",
       "      <td>39928</td>\n",
       "      <td>bus</td>\n",
       "      <td>LINESTRING (8.55176 52.62632, 8.85473 52.82363)</td>\n",
       "      <td>1</td>\n",
       "      <td>bus_826</td>\n",
       "      <td>480</td>\n",
       "      <td>bus_147121</td>\n",
       "      <td>600</td>\n",
       "    </tr>\n",
       "  </tbody>\n",
       "</table>\n",
       "</div>"
      ],
      "text/plain": [
       "                      a            b  length route_type  \\\n",
       "index                                                     \n",
       "bus_926419  DE922_bus_0  DE922_bus_1   39928        bus   \n",
       "\n",
       "                                                   geometry  link_sequence  \\\n",
       "index                                                                        \n",
       "bus_926419  LINESTRING (8.55176 52.62632, 8.85473 52.82363)              1   \n",
       "\n",
       "           route_id  time     trip_id  headway  \n",
       "index                                           \n",
       "bus_926419  bus_826   480  bus_147121      600  "
      ]
     },
     "execution_count": 13,
     "metadata": {},
     "output_type": "execute_result"
    }
   ],
   "source": [
    "sm.links.sample()"
   ]
  },
  {
   "cell_type": "code",
   "execution_count": 14,
   "metadata": {},
   "outputs": [
    {
     "name": "stdout",
     "output_type": "stream",
     "text": [
      "Generated OD set with 160801 pairs\n"
     ]
    }
   ],
   "source": [
    "# Load OD pairs from volumes if available\n",
    "od_set = None\n",
    "try:\n",
    "    v = stepmodel.read_json(model_path + 'de_volumes')\n",
    "    od_set = set([tuple(l) for l in v.volumes[['origin', 'destination']].values.tolist()])\n",
    "    print('Generated OD set with {} pairs'.format(len(od_set)))\n",
    "except:\n",
    "    print('The volumes file is not (yet) available')"
   ]
  },
  {
   "cell_type": "markdown",
   "metadata": {},
   "source": [
    "### Apply PT pathfinder\n",
    "It generates the LoS table with shortest paths for each origin destination pair"
   ]
  },
  {
   "cell_type": "code",
   "execution_count": 15,
   "metadata": {
    "scrolled": false
   },
   "outputs": [
    {
     "data": {
      "text/plain": [
       "\"This cell would run all possible mode combinations\\nsm.step_pt_pathfinder(\\n    broken_routes=False,\\n    broken_modes=True, # Allow different mode combinations\\n    route_column='route_id',\\n    mode_column='route_type',\\n    boarding_time=0, # Assumption\\n    alighting_time=0,\\n    speedup=True,\\n    walk_on_road=False,\\n    keep_pathfinder=False, # Saves it as attribute for multiple iterations\\n    force=False, # If indices are inconsistent\\n    path_analysis=True, # Create path, time and length columns\\n    drop_duplicates=True, # Considering duplicate paths\\n    cutoff=np.inf, # distance limit between points for Dijkstra algorithm\\n    od_set=od_set) # Exclude OD pairs that are not used\""
      ]
     },
     "execution_count": 15,
     "metadata": {},
     "output_type": "execute_result"
    }
   ],
   "source": [
    "'''This cell would run all possible mode combinations\n",
    "sm.step_pt_pathfinder(\n",
    "    broken_routes=False,\n",
    "    broken_modes=True, # Allow different mode combinations\n",
    "    route_column='route_id',\n",
    "    mode_column='route_type',\n",
    "    boarding_time=0, # Assumption\n",
    "    alighting_time=0,\n",
    "    speedup=True,\n",
    "    walk_on_road=False,\n",
    "    keep_pathfinder=False, # Saves it as attribute for multiple iterations\n",
    "    force=False, # If indices are inconsistent\n",
    "    path_analysis=True, # Create path, time and length columns\n",
    "    drop_duplicates=True, # Considering duplicate paths\n",
    "    cutoff=np.inf, # distance limit between points for Dijkstra algorithm\n",
    "    od_set=od_set) # Exclude OD pairs that are not used'''"
   ]
  },
  {
   "cell_type": "code",
   "execution_count": 16,
   "metadata": {},
   "outputs": [],
   "source": [
    "# We don't want the algorithm to search paths for all mode combinations.\n",
    "# Thus, we have to extract the pathfinder and search them manually.\n",
    "ppf = PublicPathFinder(sm)"
   ]
  },
  {
   "cell_type": "code",
   "execution_count": 17,
   "metadata": {},
   "outputs": [
    {
     "data": {
      "text/plain": [
       "[{'air', 'bus', 'rail_long', 'rail_short'},\n",
       " {'air', 'bus', 'rail_long'},\n",
       " {'air', 'bus', 'rail_short'},\n",
       " {'air', 'bus'},\n",
       " {'air', 'rail_long', 'rail_short'},\n",
       " {'air', 'rail_long'},\n",
       " {'air', 'rail_short'},\n",
       " {'air'},\n",
       " {'bus', 'coach'},\n",
       " {'bus', 'rail_long', 'rail_short'},\n",
       " {'bus', 'rail_long'},\n",
       " {'bus', 'rail_short'},\n",
       " {'bus'},\n",
       " {'coach'},\n",
       " {'rail_long', 'rail_short'},\n",
       " {'rail_long'},\n",
       " {'rail_short'},\n",
       " set()]"
      ]
     },
     "execution_count": 17,
     "metadata": {},
     "output_type": "execute_result"
    }
   ],
   "source": [
    "# Now, build custom mode combinations\n",
    "# People just don't go by coach and then switch to rail or airplane within Germany\n",
    "ppf.build_mode_combinations(mode_column='route_type')\n",
    "ppf.mode_combinations = [x for x in ppf.mode_combinations\n",
    "                         if not ('coach' in x and\n",
    "                         ('rail_long' in x or\n",
    "                          'rail_short' in x or\n",
    "                          'air' in x))]\n",
    "ppf.mode_combinations"
   ]
  },
  {
   "cell_type": "code",
   "execution_count": 18,
   "metadata": {},
   "outputs": [
    {
     "name": "stderr",
     "output_type": "stream",
     "text": [
      "breaking modes: set() : 100%|██████████████████████████████████████████████████████████| 18/18 [19:38<00:00, 65.45s/it]\n"
     ]
    }
   ],
   "source": [
    "# Run the pathfinder for all mode combinations\n",
    "# ASSUMPTION: Include a penalty for people to choose less transfers\n",
    "transfer_penalty = 0#20*60\n",
    "ppf.find_broken_mode_paths(workers=3, # CPU cores\n",
    "                           cutoff=np.inf,\n",
    "                           od_set=od_set,\n",
    "                           mode_column='route_type',\n",
    "                           boarding_time=transfer_penalty)"
   ]
  },
  {
   "cell_type": "code",
   "execution_count": 19,
   "metadata": {},
   "outputs": [
    {
     "data": {
      "text/html": [
       "<div>\n",
       "<style scoped>\n",
       "    .dataframe tbody tr th:only-of-type {\n",
       "        vertical-align: middle;\n",
       "    }\n",
       "\n",
       "    .dataframe tbody tr th {\n",
       "        vertical-align: top;\n",
       "    }\n",
       "\n",
       "    .dataframe thead th {\n",
       "        text-align: right;\n",
       "    }\n",
       "</style>\n",
       "<table border=\"1\" class=\"dataframe\">\n",
       "  <thead>\n",
       "    <tr style=\"text-align: right;\">\n",
       "      <th></th>\n",
       "      <th>origin</th>\n",
       "      <th>destination</th>\n",
       "      <th>gtime</th>\n",
       "      <th>path</th>\n",
       "      <th>reversed</th>\n",
       "      <th>pathfinder_session</th>\n",
       "      <th>broken_modes</th>\n",
       "    </tr>\n",
       "  </thead>\n",
       "  <tbody>\n",
       "    <tr>\n",
       "      <th>130049</th>\n",
       "      <td>DEB3F</td>\n",
       "      <td>DE26C</td>\n",
       "      <td>11587.0</td>\n",
       "      <td>[DEB3F, coach_node_FLIXBUS:95, r_l_n_35, r_l_n...</td>\n",
       "      <td>False</td>\n",
       "      <td>mode_breaker</td>\n",
       "      <td>{rail_short, air, bus}</td>\n",
       "    </tr>\n",
       "  </tbody>\n",
       "</table>\n",
       "</div>"
      ],
      "text/plain": [
       "       origin destination    gtime  \\\n",
       "130049  DEB3F       DE26C  11587.0   \n",
       "\n",
       "                                                     path  reversed  \\\n",
       "130049  [DEB3F, coach_node_FLIXBUS:95, r_l_n_35, r_l_n...     False   \n",
       "\n",
       "       pathfinder_session            broken_modes  \n",
       "130049       mode_breaker  {rail_short, air, bus}  "
      ]
     },
     "execution_count": 19,
     "metadata": {},
     "output_type": "execute_result"
    }
   ],
   "source": [
    "ppf.broken_mode_paths.sample()"
   ]
  },
  {
   "cell_type": "code",
   "execution_count": 20,
   "metadata": {},
   "outputs": [
    {
     "name": "stderr",
     "output_type": "stream",
     "text": [
      "path_analysis: 100%|██████████████████████████████████████████████████████| 2744932/2744932 [01:17<00:00, 35481.30it/s]\n"
     ]
    }
   ],
   "source": [
    "# Run the path analysis and assign paths as LoS table\n",
    "sm.pt_los = analysis.path_analysis_od_matrix(\n",
    "    od_matrix=ppf.broken_mode_paths,\n",
    "    links=sm.links,\n",
    "    nodes=sm.nodes,\n",
    "    centroids=sm.centroids)"
   ]
  },
  {
   "cell_type": "code",
   "execution_count": 21,
   "metadata": {},
   "outputs": [
    {
     "name": "stdout",
     "output_type": "stream",
     "text": [
      "2744932\n"
     ]
    },
    {
     "data": {
      "text/html": [
       "<div>\n",
       "<style scoped>\n",
       "    .dataframe tbody tr th:only-of-type {\n",
       "        vertical-align: middle;\n",
       "    }\n",
       "\n",
       "    .dataframe tbody tr th {\n",
       "        vertical-align: top;\n",
       "    }\n",
       "\n",
       "    .dataframe thead th {\n",
       "        text-align: right;\n",
       "    }\n",
       "</style>\n",
       "<table border=\"1\" class=\"dataframe\">\n",
       "  <thead>\n",
       "    <tr style=\"text-align: right;\">\n",
       "      <th></th>\n",
       "      <th>origin</th>\n",
       "      <th>destination</th>\n",
       "      <th>gtime</th>\n",
       "      <th>path</th>\n",
       "      <th>reversed</th>\n",
       "      <th>pathfinder_session</th>\n",
       "      <th>broken_modes</th>\n",
       "      <th>boardings</th>\n",
       "      <th>alightings</th>\n",
       "      <th>node_path</th>\n",
       "      <th>link_path</th>\n",
       "      <th>footpaths</th>\n",
       "      <th>ntlegs</th>\n",
       "      <th>transfers</th>\n",
       "      <th>boarding_links</th>\n",
       "      <th>alighting_links</th>\n",
       "      <th>all_walk</th>\n",
       "      <th>ntransfers</th>\n",
       "      <th>time_link_path</th>\n",
       "      <th>length_link_path</th>\n",
       "    </tr>\n",
       "  </thead>\n",
       "  <tbody>\n",
       "    <tr>\n",
       "      <th>48565</th>\n",
       "      <td>DE268</td>\n",
       "      <td>DE211</td>\n",
       "      <td>5824.0</td>\n",
       "      <td>[DE268, coach_node_FLIXBUS:28, r_l_n_532, r_l_...</td>\n",
       "      <td>False</td>\n",
       "      <td>mode_breaker</td>\n",
       "      <td>{bus}</td>\n",
       "      <td>[r_l_n_532, r_l_n_850]</td>\n",
       "      <td>[r_l_n_1151, r_l_n_748]</td>\n",
       "      <td>[coach_node_FLIXBUS:28, r_l_n_532, r_l_n_1151,...</td>\n",
       "      <td>[r_l_2543, r_l_7543]</td>\n",
       "      <td>[(coach_node_FLIXBUS:28, r_l_n_532), (r_l_n_11...</td>\n",
       "      <td>[(DE268, coach_node_FLIXBUS:28), (r_l_n_748, D...</td>\n",
       "      <td>[]</td>\n",
       "      <td>[r_l_2543, r_l_7543]</td>\n",
       "      <td>[r_l_2543, r_l_7543]</td>\n",
       "      <td>False</td>\n",
       "      <td>1</td>\n",
       "      <td>2520</td>\n",
       "      <td>218750</td>\n",
       "    </tr>\n",
       "    <tr>\n",
       "      <th>89333</th>\n",
       "      <td>DE93A</td>\n",
       "      <td>DEB32</td>\n",
       "      <td>18043.0</td>\n",
       "      <td>[DE93A, r_l_n_1398, r_l_7739, r_l_7740, r_l_77...</td>\n",
       "      <td>False</td>\n",
       "      <td>mode_breaker</td>\n",
       "      <td>{rail_short, air, bus}</td>\n",
       "      <td>[r_l_n_1398, r_l_n_1157]</td>\n",
       "      <td>[r_l_n_1255, r_l_n_35]</td>\n",
       "      <td>[r_l_n_1398, r_l_n_1255, r_l_n_1157, r_l_n_35]</td>\n",
       "      <td>[r_l_7739, r_l_7740, r_l_7741, r_l_7742, r_l_7...</td>\n",
       "      <td>[(r_l_n_1255, r_l_n_1157)]</td>\n",
       "      <td>[(DE93A, r_l_n_1398), (r_l_n_35, DEB32)]</td>\n",
       "      <td>[]</td>\n",
       "      <td>[r_l_7739, r_l_9309]</td>\n",
       "      <td>[r_l_7744, r_l_9309]</td>\n",
       "      <td>False</td>\n",
       "      <td>1</td>\n",
       "      <td>15180</td>\n",
       "      <td>572016</td>\n",
       "    </tr>\n",
       "    <tr>\n",
       "      <th>74505</th>\n",
       "      <td>DE735</td>\n",
       "      <td>DEB3B</td>\n",
       "      <td>2808.0</td>\n",
       "      <td>[DE735, DE735_bus_2, bus_414586, DE725_bus_0, ...</td>\n",
       "      <td>False</td>\n",
       "      <td>mode_breaker</td>\n",
       "      <td>{rail_short, air}</td>\n",
       "      <td>[DE735_bus_2, DE725_bus_0, DE732_bus_3, DE71C_...</td>\n",
       "      <td>[DE725_bus_0, DE732_bus_3, DE71C_bus_0, DE717_...</td>\n",
       "      <td>[DE735_bus_2, DE725_bus_0, DE732_bus_3, DE71C_...</td>\n",
       "      <td>[bus_414586, bus_3051062, bus_2694150, bus_305...</td>\n",
       "      <td>[]</td>\n",
       "      <td>[(DE735, DE735_bus_2), (DEB3B_bus_0, DEB3B)]</td>\n",
       "      <td>[DE725_bus_0, DE732_bus_3, DE71C_bus_0, DE717_...</td>\n",
       "      <td>[bus_414586, bus_3051062, bus_2694150, bus_305...</td>\n",
       "      <td>[bus_414586, bus_3051062, bus_2694150, bus_305...</td>\n",
       "      <td>False</td>\n",
       "      <td>4</td>\n",
       "      <td>840</td>\n",
       "      <td>268951</td>\n",
       "    </tr>\n",
       "  </tbody>\n",
       "</table>\n",
       "</div>"
      ],
      "text/plain": [
       "      origin destination    gtime  \\\n",
       "48565  DE268       DE211   5824.0   \n",
       "89333  DE93A       DEB32  18043.0   \n",
       "74505  DE735       DEB3B   2808.0   \n",
       "\n",
       "                                                    path  reversed  \\\n",
       "48565  [DE268, coach_node_FLIXBUS:28, r_l_n_532, r_l_...     False   \n",
       "89333  [DE93A, r_l_n_1398, r_l_7739, r_l_7740, r_l_77...     False   \n",
       "74505  [DE735, DE735_bus_2, bus_414586, DE725_bus_0, ...     False   \n",
       "\n",
       "      pathfinder_session            broken_modes  \\\n",
       "48565       mode_breaker                   {bus}   \n",
       "89333       mode_breaker  {rail_short, air, bus}   \n",
       "74505       mode_breaker       {rail_short, air}   \n",
       "\n",
       "                                               boardings  \\\n",
       "48565                             [r_l_n_532, r_l_n_850]   \n",
       "89333                           [r_l_n_1398, r_l_n_1157]   \n",
       "74505  [DE735_bus_2, DE725_bus_0, DE732_bus_3, DE71C_...   \n",
       "\n",
       "                                              alightings  \\\n",
       "48565                            [r_l_n_1151, r_l_n_748]   \n",
       "89333                             [r_l_n_1255, r_l_n_35]   \n",
       "74505  [DE725_bus_0, DE732_bus_3, DE71C_bus_0, DE717_...   \n",
       "\n",
       "                                               node_path  \\\n",
       "48565  [coach_node_FLIXBUS:28, r_l_n_532, r_l_n_1151,...   \n",
       "89333     [r_l_n_1398, r_l_n_1255, r_l_n_1157, r_l_n_35]   \n",
       "74505  [DE735_bus_2, DE725_bus_0, DE732_bus_3, DE71C_...   \n",
       "\n",
       "                                               link_path  \\\n",
       "48565                               [r_l_2543, r_l_7543]   \n",
       "89333  [r_l_7739, r_l_7740, r_l_7741, r_l_7742, r_l_7...   \n",
       "74505  [bus_414586, bus_3051062, bus_2694150, bus_305...   \n",
       "\n",
       "                                               footpaths  \\\n",
       "48565  [(coach_node_FLIXBUS:28, r_l_n_532), (r_l_n_11...   \n",
       "89333                         [(r_l_n_1255, r_l_n_1157)]   \n",
       "74505                                                 []   \n",
       "\n",
       "                                                  ntlegs  \\\n",
       "48565  [(DE268, coach_node_FLIXBUS:28), (r_l_n_748, D...   \n",
       "89333           [(DE93A, r_l_n_1398), (r_l_n_35, DEB32)]   \n",
       "74505       [(DE735, DE735_bus_2), (DEB3B_bus_0, DEB3B)]   \n",
       "\n",
       "                                               transfers  \\\n",
       "48565                                                 []   \n",
       "89333                                                 []   \n",
       "74505  [DE725_bus_0, DE732_bus_3, DE71C_bus_0, DE717_...   \n",
       "\n",
       "                                          boarding_links  \\\n",
       "48565                               [r_l_2543, r_l_7543]   \n",
       "89333                               [r_l_7739, r_l_9309]   \n",
       "74505  [bus_414586, bus_3051062, bus_2694150, bus_305...   \n",
       "\n",
       "                                         alighting_links  all_walk  \\\n",
       "48565                               [r_l_2543, r_l_7543]     False   \n",
       "89333                               [r_l_7744, r_l_9309]     False   \n",
       "74505  [bus_414586, bus_3051062, bus_2694150, bus_305...     False   \n",
       "\n",
       "       ntransfers  time_link_path  length_link_path  \n",
       "48565           1            2520            218750  \n",
       "89333           1           15180            572016  \n",
       "74505           4             840            268951  "
      ]
     },
     "execution_count": 21,
     "metadata": {},
     "output_type": "execute_result"
    }
   ],
   "source": [
    "print(len(sm.pt_los.index))\n",
    "sm.pt_los.loc[sm.pt_los['origin']!=sm.pt_los['destination']].sample(3)"
   ]
  },
  {
   "cell_type": "markdown",
   "metadata": {},
   "source": [
    "### Add attributes to LoS table"
   ]
  },
  {
   "cell_type": "code",
   "execution_count": 22,
   "metadata": {},
   "outputs": [
    {
     "name": "stdout",
     "output_type": "stream",
     "text": [
      "Index(['origin', 'destination', 'gtime', 'path', 'reversed',\n",
      "       'pathfinder_session', 'broken_modes', 'boardings', 'alightings',\n",
      "       'node_path', 'link_path', 'footpaths', 'ntlegs', 'transfers',\n",
      "       'boarding_links', 'alighting_links', 'all_walk', 'ntransfers',\n",
      "       'time_link_path', 'length_link_path', 'access_time', 'footpath_time',\n",
      "       'in_vehicle_time', 'waiting_time', 'boarding_time', 'time'],\n",
      "      dtype='object')\n"
     ]
    }
   ],
   "source": [
    "# Disaggregate time into in-vehicle and access/egress\n",
    "sm.analysis_pt_time(boarding_time=0)\n",
    "print(sm.pt_los.columns)"
   ]
  },
  {
   "cell_type": "code",
   "execution_count": 24,
   "metadata": {},
   "outputs": [],
   "source": [
    "# Add price, parametrisation comes later\n",
    "sm.pt_los['price'] = 0"
   ]
  },
  {
   "cell_type": "code",
   "execution_count": 25,
   "metadata": {},
   "outputs": [],
   "source": [
    "# Add distances\n",
    "len_dict = sm.links['length'].to_dict()\n",
    "sm.pt_los['length'] = sm.pt_los['link_path'].apply(lambda p: sum([len_dict[l] for l in p]))"
   ]
  },
  {
   "cell_type": "code",
   "execution_count": 31,
   "metadata": {},
   "outputs": [
    {
     "data": {
      "text/html": [
       "<div>\n",
       "<style scoped>\n",
       "    .dataframe tbody tr th:only-of-type {\n",
       "        vertical-align: middle;\n",
       "    }\n",
       "\n",
       "    .dataframe tbody tr th {\n",
       "        vertical-align: top;\n",
       "    }\n",
       "\n",
       "    .dataframe thead th {\n",
       "        text-align: right;\n",
       "    }\n",
       "</style>\n",
       "<table border=\"1\" class=\"dataframe\">\n",
       "  <thead>\n",
       "    <tr style=\"text-align: right;\">\n",
       "      <th></th>\n",
       "      <th>ntransfers</th>\n",
       "      <th>length</th>\n",
       "      <th>gtime</th>\n",
       "      <th>access_time</th>\n",
       "      <th>footpath_time</th>\n",
       "      <th>in_vehicle_time</th>\n",
       "      <th>waiting_time</th>\n",
       "      <th>boarding_time</th>\n",
       "      <th>time</th>\n",
       "    </tr>\n",
       "  </thead>\n",
       "  <tbody>\n",
       "    <tr>\n",
       "      <th>103921</th>\n",
       "      <td>3</td>\n",
       "      <td>668797</td>\n",
       "      <td>20643.0</td>\n",
       "      <td>2640</td>\n",
       "      <td>183</td>\n",
       "      <td>14220</td>\n",
       "      <td>3600.0</td>\n",
       "      <td>0</td>\n",
       "      <td>20643.0</td>\n",
       "    </tr>\n",
       "    <tr>\n",
       "      <th>159834</th>\n",
       "      <td>8</td>\n",
       "      <td>680715</td>\n",
       "      <td>14874.0</td>\n",
       "      <td>2034</td>\n",
       "      <td>0</td>\n",
       "      <td>4740</td>\n",
       "      <td>8100.0</td>\n",
       "      <td>0</td>\n",
       "      <td>14874.0</td>\n",
       "    </tr>\n",
       "  </tbody>\n",
       "</table>\n",
       "</div>"
      ],
      "text/plain": [
       "        ntransfers  length    gtime  access_time  footpath_time  \\\n",
       "103921           3  668797  20643.0         2640            183   \n",
       "159834           8  680715  14874.0         2034              0   \n",
       "\n",
       "        in_vehicle_time  waiting_time  boarding_time     time  \n",
       "103921            14220        3600.0              0  20643.0  \n",
       "159834             4740        8100.0              0  14874.0  "
      ]
     },
     "execution_count": 31,
     "metadata": {},
     "output_type": "execute_result"
    }
   ],
   "source": [
    "sm.pt_los[['ntransfers', 'length']+[c for c in sm.pt_los.columns if c[-4:]=='time']].sample(2)"
   ]
  },
  {
   "cell_type": "code",
   "execution_count": 26,
   "metadata": {},
   "outputs": [],
   "source": [
    "# Add route_types\n",
    "type_dict = sm.links['route_type'].to_dict()\n",
    "sm.pt_los['route_types'] = [set([type_dict[link] for link in l])\n",
    "                            for l in list(sm.pt_los['link_path'])]"
   ]
  },
  {
   "cell_type": "code",
   "execution_count": 27,
   "metadata": {},
   "outputs": [],
   "source": [
    "# Add main route_type based on a hierarchy\n",
    "hierarchy = ['air', 'coach', 'rail_long', 'rail_short', 'bus', 'walk']\n",
    "def main_type(types):\n",
    "    t = hierarchy[-1]\n",
    "    try:\n",
    "        t = hierarchy[min([hierarchy.index(t) for t in types])]\n",
    "    except ValueError: # empty types set\n",
    "        pass\n",
    "    return t\n",
    "sm.pt_los['route_type'] = sm.pt_los['route_types'].apply(main_type)"
   ]
  },
  {
   "cell_type": "code",
   "execution_count": 28,
   "metadata": {},
   "outputs": [],
   "source": [
    "# Add number of transfers\n",
    "#sm.pt_los['ntransfers'] = sm.pt_los['boardings'].apply(lambda l: max(0, len(l) - 1))"
   ]
  },
  {
   "cell_type": "code",
   "execution_count": 29,
   "metadata": {},
   "outputs": [
    {
     "data": {
      "text/html": [
       "<div>\n",
       "<style scoped>\n",
       "    .dataframe tbody tr th:only-of-type {\n",
       "        vertical-align: middle;\n",
       "    }\n",
       "\n",
       "    .dataframe tbody tr th {\n",
       "        vertical-align: top;\n",
       "    }\n",
       "\n",
       "    .dataframe thead th {\n",
       "        text-align: right;\n",
       "    }\n",
       "</style>\n",
       "<table border=\"1\" class=\"dataframe\">\n",
       "  <thead>\n",
       "    <tr style=\"text-align: right;\">\n",
       "      <th></th>\n",
       "      <th>origin</th>\n",
       "      <th>destination</th>\n",
       "      <th>gtime</th>\n",
       "      <th>path</th>\n",
       "      <th>reversed</th>\n",
       "      <th>pathfinder_session</th>\n",
       "      <th>broken_modes</th>\n",
       "      <th>boardings</th>\n",
       "      <th>alightings</th>\n",
       "      <th>node_path</th>\n",
       "      <th>...</th>\n",
       "      <th>access_time</th>\n",
       "      <th>footpath_time</th>\n",
       "      <th>in_vehicle_time</th>\n",
       "      <th>waiting_time</th>\n",
       "      <th>boarding_time</th>\n",
       "      <th>time</th>\n",
       "      <th>price</th>\n",
       "      <th>length</th>\n",
       "      <th>route_types</th>\n",
       "      <th>route_type</th>\n",
       "    </tr>\n",
       "  </thead>\n",
       "  <tbody>\n",
       "    <tr>\n",
       "      <th>72430</th>\n",
       "      <td>DE725</td>\n",
       "      <td>DEA1A</td>\n",
       "      <td>6819.0</td>\n",
       "      <td>[DE725, DE725_r_s_0, r_s_171272, DE721_r_s_1, ...</td>\n",
       "      <td>False</td>\n",
       "      <td>mode_breaker</td>\n",
       "      <td>{rail_long}</td>\n",
       "      <td>[DE725_r_s_0, DE721_bus_0, DE724_bus_1, DE736_...</td>\n",
       "      <td>[DE721_r_s_1, DE724_bus_1, DE736_bus_0, DEA57_...</td>\n",
       "      <td>[DE725_r_s_0, DE721_r_s_1, DE721_bus_0, DE724_...</td>\n",
       "      <td>...</td>\n",
       "      <td>1670</td>\n",
       "      <td>1729</td>\n",
       "      <td>720</td>\n",
       "      <td>2700.0</td>\n",
       "      <td>0</td>\n",
       "      <td>6819.0</td>\n",
       "      <td>0</td>\n",
       "      <td>314683</td>\n",
       "      <td>{rail_short, bus}</td>\n",
       "      <td>rail_short</td>\n",
       "    </tr>\n",
       "    <tr>\n",
       "      <th>100968</th>\n",
       "      <td>DEA1B</td>\n",
       "      <td>DEB38</td>\n",
       "      <td>5678.0</td>\n",
       "      <td>[DEA1B, DEA1B_bus_0, bus_2411746, DEA1E_bus_1,...</td>\n",
       "      <td>False</td>\n",
       "      <td>mode_breaker</td>\n",
       "      <td>{rail_long, rail_short}</td>\n",
       "      <td>[DEA1B_bus_0, DEA1E_bus_1, DEA1D_bus_0, DEA27_...</td>\n",
       "      <td>[DEA1E_bus_1, DEA1D_bus_0, DEA27_bus_0, DEA28_...</td>\n",
       "      <td>[DEA1B_bus_0, DEA1E_bus_1, DEA1D_bus_0, DEA27_...</td>\n",
       "      <td>...</td>\n",
       "      <td>758</td>\n",
       "      <td>0</td>\n",
       "      <td>1320</td>\n",
       "      <td>3600.0</td>\n",
       "      <td>0</td>\n",
       "      <td>5678.0</td>\n",
       "      <td>0</td>\n",
       "      <td>424314</td>\n",
       "      <td>{bus}</td>\n",
       "      <td>bus</td>\n",
       "    </tr>\n",
       "  </tbody>\n",
       "</table>\n",
       "<p>2 rows × 30 columns</p>\n",
       "</div>"
      ],
      "text/plain": [
       "       origin destination   gtime  \\\n",
       "72430   DE725       DEA1A  6819.0   \n",
       "100968  DEA1B       DEB38  5678.0   \n",
       "\n",
       "                                                     path  reversed  \\\n",
       "72430   [DE725, DE725_r_s_0, r_s_171272, DE721_r_s_1, ...     False   \n",
       "100968  [DEA1B, DEA1B_bus_0, bus_2411746, DEA1E_bus_1,...     False   \n",
       "\n",
       "       pathfinder_session             broken_modes  \\\n",
       "72430        mode_breaker              {rail_long}   \n",
       "100968       mode_breaker  {rail_long, rail_short}   \n",
       "\n",
       "                                                boardings  \\\n",
       "72430   [DE725_r_s_0, DE721_bus_0, DE724_bus_1, DE736_...   \n",
       "100968  [DEA1B_bus_0, DEA1E_bus_1, DEA1D_bus_0, DEA27_...   \n",
       "\n",
       "                                               alightings  \\\n",
       "72430   [DE721_r_s_1, DE724_bus_1, DE736_bus_0, DEA57_...   \n",
       "100968  [DEA1E_bus_1, DEA1D_bus_0, DEA27_bus_0, DEA28_...   \n",
       "\n",
       "                                                node_path  ... access_time  \\\n",
       "72430   [DE725_r_s_0, DE721_r_s_1, DE721_bus_0, DE724_...  ...        1670   \n",
       "100968  [DEA1B_bus_0, DEA1E_bus_1, DEA1D_bus_0, DEA27_...  ...         758   \n",
       "\n",
       "       footpath_time in_vehicle_time waiting_time boarding_time    time  \\\n",
       "72430           1729             720       2700.0             0  6819.0   \n",
       "100968             0            1320       3600.0             0  5678.0   \n",
       "\n",
       "        price  length        route_types  route_type  \n",
       "72430       0  314683  {rail_short, bus}  rail_short  \n",
       "100968      0  424314              {bus}         bus  \n",
       "\n",
       "[2 rows x 30 columns]"
      ]
     },
     "execution_count": 29,
     "metadata": {},
     "output_type": "execute_result"
    }
   ],
   "source": [
    "sm.pt_los.sample(2)"
   ]
  },
  {
   "cell_type": "code",
   "execution_count": 30,
   "metadata": {},
   "outputs": [],
   "source": [
    "# Make a copy before restricting results\n",
    "los = sm.pt_los.copy()"
   ]
  },
  {
   "cell_type": "code",
   "execution_count": 71,
   "metadata": {},
   "outputs": [],
   "source": [
    "#sm.pt_los = los.copy()"
   ]
  },
  {
   "cell_type": "markdown",
   "metadata": {},
   "source": [
    "### Clean PT LOS"
   ]
  },
  {
   "cell_type": "code",
   "execution_count": null,
   "metadata": {},
   "outputs": [],
   "source": [
    "# Berlin - Hamburg\n",
    "all_pt_paths(sm, 'DE300', 'DE600', verbose=False, group_name='route_type')"
   ]
  },
  {
   "cell_type": "code",
   "execution_count": 32,
   "metadata": {},
   "outputs": [
    {
     "data": {
      "text/plain": [
       "(2556078, 30)"
      ]
     },
     "execution_count": 32,
     "metadata": {},
     "output_type": "execute_result"
    }
   ],
   "source": [
    "# Drop trips with coach-rail or coach-air combinations\n",
    "sm.pt_los = sm.pt_los.loc[~sm.pt_los['route_types'].apply(\n",
    "    lambda x: 'coach' in x and ('rail_long' in x or 'rail_short' in x or 'air' in x))]\n",
    "sm.pt_los.shape"
   ]
  },
  {
   "cell_type": "code",
   "execution_count": 33,
   "metadata": {},
   "outputs": [
    {
     "data": {
      "text/plain": [
       "(2550002, 30)"
      ]
     },
     "execution_count": 33,
     "metadata": {},
     "output_type": "execute_result"
    }
   ],
   "source": [
    "# Drop unrealistically long trips\n",
    "sm.pt_los = sm.pt_los.loc[sm.pt_los['in_vehicle_time']<10*3600]\n",
    "sm.pt_los.shape"
   ]
  },
  {
   "cell_type": "code",
   "execution_count": 34,
   "metadata": {},
   "outputs": [
    {
     "data": {
      "text/plain": [
       "(2049145, 31)"
      ]
     },
     "execution_count": 34,
     "metadata": {},
     "output_type": "execute_result"
    }
   ],
   "source": [
    "# Drop duplicates\n",
    "sm.pt_los['path'] = sm.pt_los['path'].apply(tuple)\n",
    "sm.pt_los.drop_duplicates('path', inplace=True)\n",
    "sm.pt_los.reset_index(inplace=True)\n",
    "sm.pt_los.shape"
   ]
  },
  {
   "cell_type": "code",
   "execution_count": 35,
   "metadata": {},
   "outputs": [
    {
     "data": {
      "text/plain": [
       "array([[<AxesSubplot:title={'center':'time'}>]], dtype=object)"
      ]
     },
     "execution_count": 35,
     "metadata": {},
     "output_type": "execute_result"
    },
    {
     "data": {
      "image/png": "[encoded data removed]",
      "text/plain": [
       "<Figure size 288x288 with 1 Axes>"
      ]
     },
     "metadata": {
      "needs_background": "light"
     },
     "output_type": "display_data"
    }
   ],
   "source": [
    "# Time distribution\n",
    "sm.pt_los.hist(column='time', bins=100, figsize=(4,4), log=True)"
   ]
  },
  {
   "cell_type": "code",
   "execution_count": 36,
   "metadata": {},
   "outputs": [
    {
     "data": {
      "text/plain": [
       "array([[<AxesSubplot:title={'center':'ntransfers'}>]], dtype=object)"
      ]
     },
     "execution_count": 36,
     "metadata": {},
     "output_type": "execute_result"
    },
    {
     "data": {
      "image/png": "[encoded data removed]",
      "text/plain": [
       "<Figure size 288x288 with 1 Axes>"
      ]
     },
     "metadata": {
      "needs_background": "light"
     },
     "output_type": "display_data"
    }
   ],
   "source": [
    "sm.pt_los.hist(column='ntransfers', figsize=(4,4))"
   ]
  },
  {
   "cell_type": "code",
   "execution_count": 37,
   "metadata": {},
   "outputs": [
    {
     "data": {
      "text/plain": [
       "<matplotlib.legend.Legend at 0x1ce7b480cd0>"
      ]
     },
     "execution_count": 37,
     "metadata": {},
     "output_type": "execute_result"
    },
    {
     "data": {
      "image/png": "[encoded data removed]",
      "text/plain": [
       "<Figure size 1152x216 with 6 Axes>"
      ]
     },
     "metadata": {},
     "output_type": "display_data"
    }
   ],
   "source": [
    "# Main mode distribution by transfers\n",
    "t = sm.pt_los.copy()\n",
    "t['bins'] = pd.cut(t['ntransfers'], bins=[0,1,3,5,10,20,100],\n",
    "                   labels=[\"0-1\", \"2-3\",\"4-5\",\"6-10\",\"11-20\",\"21+\"])\n",
    "axs = t.groupby(['route_type','bins']).size().unstack(fill_value=0).plot.pie(\n",
    "    subplots=True, figsize=(16, 3),\n",
    "    startangle=0, counterclock=False, title='Main mode by number of transfers',\n",
    "    legend=False, labeldistance=None)\n",
    "axs[0].legend(loc='lower left')"
   ]
  },
  {
   "cell_type": "code",
   "execution_count": 38,
   "metadata": {},
   "outputs": [
    {
     "data": {
      "text/plain": [
       "<AxesSubplot:xlabel='route_types'>"
      ]
     },
     "execution_count": 38,
     "metadata": {},
     "output_type": "execute_result"
    },
    {
     "data": {
      "image/png": "[encoded data removed]",
      "text/plain": [
       "<Figure size 432x288 with 1 Axes>"
      ]
     },
     "metadata": {
      "needs_background": "light"
     },
     "output_type": "display_data"
    }
   ],
   "source": [
    "# Distribution of mode combinations\n",
    "t['route_types'] = t['route_types'].apply(tuple)\n",
    "t.groupby('route_types').count()['route_type'].plot(kind='bar')"
   ]
  },
  {
   "cell_type": "code",
   "execution_count": 39,
   "metadata": {},
   "outputs": [
    {
     "data": {
      "text/plain": [
       "<matplotlib.legend.Legend at 0x1cec1dd48b0>"
      ]
     },
     "execution_count": 39,
     "metadata": {},
     "output_type": "execute_result"
    },
    {
     "data": {
      "image/png": "[encoded data removed]",
      "text/plain": [
       "<Figure size 1152x216 with 6 Axes>"
      ]
     },
     "metadata": {},
     "output_type": "display_data"
    }
   ],
   "source": [
    "t['time'] = t['time'] / 60\n",
    "t['bins'] = pd.cut(t['time'], bins=[0,15,30,60,120,360,500],\n",
    "                   labels=[\"0-15\", \"16-30\",\"31-60\",\"61-120\",\"120-360\",\"361+\"])\n",
    "axs = t.groupby(['route_type','bins']).size().unstack(fill_value=0).plot.pie(\n",
    "    subplots=True, figsize=(16, 3),\n",
    "    startangle=0, counterclock=False, title='Main mode by trip duration',\n",
    "    legend=False, labeldistance=None)\n",
    "axs[3].legend()"
   ]
  },
  {
   "cell_type": "code",
   "execution_count": 40,
   "metadata": {},
   "outputs": [],
   "source": [
    "t = None"
   ]
  },
  {
   "cell_type": "code",
   "execution_count": 41,
   "metadata": {},
   "outputs": [
    {
     "name": "stdout",
     "output_type": "stream",
     "text": [
      "(1545292, 31)\n",
      "(1445564, 31)\n"
     ]
    }
   ],
   "source": [
    "# Drop unnecessary long connections if there is a waiting time applied\n",
    "if sm.links['headway'].mean() > 5*60:\n",
    "    sm.pt_los = sm.pt_los.loc[sm.pt_los['ntransfers']<=10]\n",
    "    print(sm.pt_los.shape)\n",
    "    # Drop coach connections with more than one transfer\n",
    "    sm.pt_los = sm.pt_los.loc[~((sm.pt_los['route_type']=='coach') &\n",
    "                                (sm.pt_los['boardings'].apply(\n",
    "                                    lambda l: len([n for n in l if n.startswith('coach')])>2)\n",
    "                                ))]\n",
    "    print(sm.pt_los.shape)"
   ]
  },
  {
   "cell_type": "code",
   "execution_count": 42,
   "metadata": {},
   "outputs": [
    {
     "data": {
      "text/plain": [
       "(765631, 31)"
      ]
     },
     "execution_count": 42,
     "metadata": {},
     "output_type": "execute_result"
    }
   ],
   "source": [
    "# Keep only the fastest trip(s)\n",
    "sm.pt_los['route_types'] = sm.pt_los['route_types'].apply(tuple)\n",
    "sm.pt_los = sm.pt_los.sort_values('time').groupby(\n",
    "    ['origin', 'destination', 'route_types']).nth([0, 1]).reset_index()\n",
    "sm.pt_los.shape"
   ]
  },
  {
   "cell_type": "code",
   "execution_count": 43,
   "metadata": {},
   "outputs": [
    {
     "data": {
      "text/plain": [
       "<AxesSubplot:xlabel='route_types'>"
      ]
     },
     "execution_count": 43,
     "metadata": {},
     "output_type": "execute_result"
    },
    {
     "data": {
      "image/png": "[encoded data removed]",
      "text/plain": [
       "<Figure size 432x288 with 1 Axes>"
      ]
     },
     "metadata": {
      "needs_background": "light"
     },
     "output_type": "display_data"
    }
   ],
   "source": [
    "sm.pt_los.groupby('route_types').count()['route_type'].plot(kind='bar')"
   ]
  },
  {
   "cell_type": "code",
   "execution_count": null,
   "metadata": {},
   "outputs": [],
   "source": [
    "# Berlin - Hamburg\n",
    "all_pt_paths(sm, 'DE300', 'DE600', verbose=False, group_name='route_type')"
   ]
  },
  {
   "cell_type": "markdown",
   "metadata": {},
   "source": [
    "### Save model"
   ]
  },
  {
   "cell_type": "code",
   "execution_count": 44,
   "metadata": {},
   "outputs": [],
   "source": [
    "# Ditch unneccessary columns\n",
    "to_drop = ['gtime', 'path', 'reversed', 'pathfinder_session',\n",
    "           'broken_modes', 'boardings', 'alightings', 'node_path',\n",
    "           'footpaths', 'ntlegs', 'transfers', 'boarding_links',\n",
    "           'alighting_links', 'all_walk', 'time_link_path',\n",
    "           'length_link_path', 'boarding_time', 'index']\n",
    "sm.pt_los = sm.pt_los.drop(to_drop, axis=1, errors='ignore')"
   ]
  },
  {
   "cell_type": "code",
   "execution_count": 45,
   "metadata": {},
   "outputs": [],
   "source": [
    "# Clean links table\n",
    "to_drop = ['duration', 'cost', 'origin', 'destination']\n",
    "sm.links = sm.links.drop(to_drop, axis=1, errors='ignore')"
   ]
  },
  {
   "cell_type": "code",
   "execution_count": 46,
   "metadata": {},
   "outputs": [],
   "source": [
    "# Make table smaller\n",
    "cols = ['time', 'access_time', 'in_vehicle_time', 'footpath_time',\n",
    "        'waiting_time', 'length']\n",
    "sm.pt_los[cols] = sm.pt_los[cols].astype(int)"
   ]
  },
  {
   "cell_type": "code",
   "execution_count": 47,
   "metadata": {},
   "outputs": [
    {
     "data": {
      "text/html": [
       "<div>\n",
       "<style scoped>\n",
       "    .dataframe tbody tr th:only-of-type {\n",
       "        vertical-align: middle;\n",
       "    }\n",
       "\n",
       "    .dataframe tbody tr th {\n",
       "        vertical-align: top;\n",
       "    }\n",
       "\n",
       "    .dataframe thead th {\n",
       "        text-align: right;\n",
       "    }\n",
       "</style>\n",
       "<table border=\"1\" class=\"dataframe\">\n",
       "  <thead>\n",
       "    <tr style=\"text-align: right;\">\n",
       "      <th></th>\n",
       "      <th>origin</th>\n",
       "      <th>destination</th>\n",
       "      <th>route_types</th>\n",
       "      <th>link_path</th>\n",
       "      <th>ntransfers</th>\n",
       "      <th>access_time</th>\n",
       "      <th>footpath_time</th>\n",
       "      <th>in_vehicle_time</th>\n",
       "      <th>waiting_time</th>\n",
       "      <th>time</th>\n",
       "      <th>price</th>\n",
       "      <th>length</th>\n",
       "      <th>route_type</th>\n",
       "    </tr>\n",
       "  </thead>\n",
       "  <tbody>\n",
       "    <tr>\n",
       "      <th>699617</th>\n",
       "      <td>DEF03</td>\n",
       "      <td>DE24A</td>\n",
       "      <td>(bus,)</td>\n",
       "      <td>[bus_602717, bus_2856219, bus_714240, bus_1814...</td>\n",
       "      <td>10</td>\n",
       "      <td>1524</td>\n",
       "      <td>0</td>\n",
       "      <td>1140</td>\n",
       "      <td>3300</td>\n",
       "      <td>5964</td>\n",
       "      <td>0</td>\n",
       "      <td>883530</td>\n",
       "      <td>bus</td>\n",
       "    </tr>\n",
       "  </tbody>\n",
       "</table>\n",
       "</div>"
      ],
      "text/plain": [
       "       origin destination route_types  \\\n",
       "699617  DEF03       DE24A      (bus,)   \n",
       "\n",
       "                                                link_path  ntransfers  \\\n",
       "699617  [bus_602717, bus_2856219, bus_714240, bus_1814...          10   \n",
       "\n",
       "        access_time  footpath_time  in_vehicle_time  waiting_time  time  \\\n",
       "699617         1524              0             1140          3300  5964   \n",
       "\n",
       "        price  length route_type  \n",
       "699617      0  883530        bus  "
      ]
     },
     "execution_count": 47,
     "metadata": {},
     "output_type": "execute_result"
    }
   ],
   "source": [
    "sm.pt_los.sample()"
   ]
  },
  {
   "cell_type": "code",
   "execution_count": 48,
   "metadata": {},
   "outputs": [
    {
     "name": "stderr",
     "output_type": "stream",
     "text": [
      "to_hdf(overwriting): 100%|█████████████████████████████████████████████████████████████| 35/35 [00:08<00:00,  4.17it/s]\n"
     ]
    }
   ],
   "source": [
    "# Saving LoS...\n",
    "sm.to_json(model_path + 'de_pt_los', only_attributes=['pt_los'],\n",
    "           encoding='utf-8')"
   ]
  },
  {
   "cell_type": "code",
   "execution_count": 49,
   "metadata": {},
   "outputs": [],
   "source": [
    "# Split links in graph and auxiliary information\n",
    "# for file sizes being compatible with github's size limit\n",
    "cols = ['link_sequence', 'route_id', 'time', 'trip_id', 'length', 'headway']\n",
    "auxiliary = sm.links[cols]\n",
    "sm.links.drop(cols, axis=1, inplace=True)"
   ]
  },
  {
   "cell_type": "code",
   "execution_count": 50,
   "metadata": {},
   "outputs": [
    {
     "name": "stderr",
     "output_type": "stream",
     "text": [
      "to_hdf(overwriting): 100%|█████████████████████████████████████████████████████████████| 35/35 [00:27<00:00,  1.26it/s]\n"
     ]
    }
   ],
   "source": [
    "sm.to_json(model_path + 'de_pt_network_agg', only_attributes=[\n",
    "    'zones', 'links', 'nodes', 'pt_route_types'],\n",
    "           encoding='utf-8')"
   ]
  },
  {
   "cell_type": "code",
   "execution_count": 51,
   "metadata": {},
   "outputs": [],
   "source": [
    "# Save auxiliary information seperately\n",
    "auxiliary['index'] = auxiliary.index\n",
    "auxiliary.reset_index(drop=True, inplace=True)\n",
    "auxiliary.to_json(model_path + 'de_pt_network_agg/links_quetzaldata.json')"
   ]
  }
 ],
 "metadata": {
  "kernelspec": {
   "display_name": "Python 3",
   "language": "python",
   "name": "python3"
  },
  "language_info": {
   "codemirror_mode": {
    "name": "ipython",
    "version": 3
   },
   "file_extension": ".py",
   "mimetype": "text/x-python",
   "name": "python",
   "nbconvert_exporter": "python",
   "pygments_lexer": "ipython3",
   "version": "3.8.1"
  }
 },
 "nbformat": 4,
 "nbformat_minor": 2
}
