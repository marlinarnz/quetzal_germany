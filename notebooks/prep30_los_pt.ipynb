{
 "cells": [
  {
   "cell_type": "code",
   "execution_count": 1,
   "metadata": {},
   "outputs": [
    {
     "name": "stderr",
     "output_type": "stream",
     "text": [
      "In C:\\Users\\marlin.arnz\\AppData\\Local\\Continuum\\miniconda3\\envs\\quetzal\\lib\\site-packages\\matplotlib\\mpl-data\\stylelib\\_classic_test.mplstyle: \n",
      "The text.latex.preview rcparam was deprecated in Matplotlib 3.3 and will be removed two minor releases later.\n",
      "In C:\\Users\\marlin.arnz\\AppData\\Local\\Continuum\\miniconda3\\envs\\quetzal\\lib\\site-packages\\matplotlib\\mpl-data\\stylelib\\_classic_test.mplstyle: \n",
      "The mathtext.fallback_to_cm rcparam was deprecated in Matplotlib 3.3 and will be removed two minor releases later.\n",
      "In C:\\Users\\marlin.arnz\\AppData\\Local\\Continuum\\miniconda3\\envs\\quetzal\\lib\\site-packages\\matplotlib\\mpl-data\\stylelib\\_classic_test.mplstyle: Support for setting the 'mathtext.fallback_to_cm' rcParam is deprecated since 3.3 and will be removed two minor releases later; use 'mathtext.fallback : 'cm' instead.\n",
      "In C:\\Users\\marlin.arnz\\AppData\\Local\\Continuum\\miniconda3\\envs\\quetzal\\lib\\site-packages\\matplotlib\\mpl-data\\stylelib\\_classic_test.mplstyle: \n",
      "The validate_bool_maybe_none function was deprecated in Matplotlib 3.3 and will be removed two minor releases later.\n",
      "In C:\\Users\\marlin.arnz\\AppData\\Local\\Continuum\\miniconda3\\envs\\quetzal\\lib\\site-packages\\matplotlib\\mpl-data\\stylelib\\_classic_test.mplstyle: \n",
      "The savefig.jpeg_quality rcparam was deprecated in Matplotlib 3.3 and will be removed two minor releases later.\n",
      "In C:\\Users\\marlin.arnz\\AppData\\Local\\Continuum\\miniconda3\\envs\\quetzal\\lib\\site-packages\\matplotlib\\mpl-data\\stylelib\\_classic_test.mplstyle: \n",
      "The keymap.all_axes rcparam was deprecated in Matplotlib 3.3 and will be removed two minor releases later.\n",
      "In C:\\Users\\marlin.arnz\\AppData\\Local\\Continuum\\miniconda3\\envs\\quetzal\\lib\\site-packages\\matplotlib\\mpl-data\\stylelib\\_classic_test.mplstyle: \n",
      "The animation.avconv_path rcparam was deprecated in Matplotlib 3.3 and will be removed two minor releases later.\n",
      "In C:\\Users\\marlin.arnz\\AppData\\Local\\Continuum\\miniconda3\\envs\\quetzal\\lib\\site-packages\\matplotlib\\mpl-data\\stylelib\\_classic_test.mplstyle: \n",
      "The animation.avconv_args rcparam was deprecated in Matplotlib 3.3 and will be removed two minor releases later.\n"
     ]
    }
   ],
   "source": [
    "import numpy as np\n",
    "import pandas as pd\n",
    "from tqdm import tqdm\n",
    "from quetzal.model import stepmodel\n",
    "from quetzal.analysis import analysis\n",
    "from quetzal.engine.pathfinder import PublicPathFinder\n",
    "from quetzal.io.display import all_pt_paths\n",
    "from syspy.skims import skims"
   ]
  },
  {
   "cell_type": "markdown",
   "metadata": {},
   "source": [
    "# Preparation of the LoS tables\n",
    "## Saves a StepModel with shortest paths and LoS attributes for the PT network\n",
    "## Needs aggregated PT networks"
   ]
  },
  {
   "cell_type": "code",
   "execution_count": 2,
   "metadata": {},
   "outputs": [],
   "source": [
    "input_path = '../input/'\n",
    "output_path = '../output/'\n",
    "model_path = '../model/'"
   ]
  },
  {
   "cell_type": "code",
   "execution_count": 3,
   "metadata": {},
   "outputs": [],
   "source": [
    "sm = stepmodel.read_json(model_path + 'de_pt_network_agg')\n",
    "ae = stepmodel.read_json(model_path + 'de_pt_access_egress')\n",
    "aux = stepmodel.read_json(model_path + 'de_pt_network_ancillary')"
   ]
  },
  {
   "cell_type": "code",
   "execution_count": 4,
   "metadata": {},
   "outputs": [],
   "source": [
    "sm.centroids = ae.centroids\n",
    "sm.footpaths = ae.footpaths\n",
    "sm.zone_to_transit = ae.zone_to_transit"
   ]
  },
  {
   "cell_type": "code",
   "execution_count": 5,
   "metadata": {},
   "outputs": [
    {
     "data": {
      "text/plain": [
       "(351366, 8)"
      ]
     },
     "execution_count": 5,
     "metadata": {},
     "output_type": "execute_result"
    }
   ],
   "source": [
    "sm.links.shape"
   ]
  },
  {
   "cell_type": "markdown",
   "metadata": {},
   "source": [
    "### Prepare links for pathfinder"
   ]
  },
  {
   "cell_type": "code",
   "execution_count": 6,
   "metadata": {},
   "outputs": [],
   "source": [
    "# aggregate local bus and tram, underground, ferry, funicular\n",
    "if 'subway' in sm.links['route_type'].unique():\n",
    "    sm.links['route_type_disagg'] = sm.links['route_type']\n",
    "    sm.links['route_type'] = sm.links['route_type'].replace(\n",
    "        {'tram': 'bus', 'subway': 'bus', 'ferry': 'bus', 'funicular': 'bus'})\n",
    "    sm.pt_route_types = list(sm.links['route_type'].unique())"
   ]
  },
  {
   "cell_type": "code",
   "execution_count": 7,
   "metadata": {},
   "outputs": [],
   "source": [
    "# Generate headways (two times the waiting time at a stop when changing between trips)\n",
    "# ASSUMPTION: Take average headways for core hours between 6 a.m. and 8 p.m.\n",
    "hours = set(range(6, 20))\n",
    "def n_trips(g):\n",
    "    hour_list = list(g)[0]\n",
    "    return sum([hour_list.count(h) for h in set(hour_list).intersection(hours)])\n",
    "freq = aux.frequencies.groupby(['stop_id', 'route_id']).agg({'hour': n_trips})\n",
    "freq['hour'] = 14*3600 / freq['hour'] # 14 hours"
   ]
  },
  {
   "cell_type": "code",
   "execution_count": 8,
   "metadata": {},
   "outputs": [],
   "source": [
    "headway_dict = freq['hour'].to_dict()\n",
    "sm.links['headway'] = [headway_dict[(node, ind)]\n",
    "                       if (node, ind) in headway_dict.keys() else np.nan\n",
    "                       for ind, node in sm.links.set_index('route_id')['a'].items()]"
   ]
  },
  {
   "cell_type": "code",
   "execution_count": 9,
   "metadata": {},
   "outputs": [
    {
     "data": {
      "text/plain": [
       "array([<AxesSubplot:title={'center':'a'}, xlabel='route_type'>],\n",
       "      dtype=object)"
      ]
     },
     "execution_count": 9,
     "metadata": {},
     "output_type": "execute_result"
    },
    {
     "data": {
      "image/png": "[encoded data removed]",
      "text/plain": [
       "<Figure size 216x216 with 1 Axes>"
      ]
     },
     "metadata": {
      "needs_background": "light"
     },
     "output_type": "display_data"
    }
   ],
   "source": [
    "# Route types without headway\n",
    "sm.links.loc[sm.links['headway'].isna()].groupby('route_type').agg(\n",
    "    {'a': 'count'}).plot.bar(subplots=True, figsize=(3,3))"
   ]
  },
  {
   "cell_type": "code",
   "execution_count": 11,
   "metadata": {},
   "outputs": [],
   "source": [
    "sm.links['headway'] = sm.links['headway'].fillna(2*3600)"
   ]
  },
  {
   "cell_type": "code",
   "execution_count": 12,
   "metadata": {},
   "outputs": [],
   "source": [
    "# ASSUMPTION: Air trips require security checks and so on...\n",
    "sm.links.loc[sm.links['route_type']=='air', 'headway'] = 45*60*2"
   ]
  },
  {
   "cell_type": "code",
   "execution_count": 13,
   "metadata": {},
   "outputs": [],
   "source": [
    "# ASSUMPTION: Long-distance rail and coach trips are timed well\n",
    "# and have maximum waiting times of 20 minutes\n",
    "sm.links.loc[sm.links['route_type'].isin(['rail_long', 'coach']), 'headway'] = \\\n",
    "    sm.links.loc[sm.links['route_type'].isin(['rail_long', 'coach']),\n",
    "                 'headway'].clip(lower=10*60*2, upper=30*60*2)"
   ]
  },
  {
   "cell_type": "code",
   "execution_count": 14,
   "metadata": {},
   "outputs": [],
   "source": [
    "# ASSUMPTION: Maximum waiting time is 60 minutes, minumum is 3 minutes\n",
    "sm.links['headway'] = sm.links['headway'].clip(lower=3*60*2, upper=60*60*2)"
   ]
  },
  {
   "cell_type": "code",
   "execution_count": 15,
   "metadata": {},
   "outputs": [],
   "source": [
    "sm.links['headway'] = sm.links['headway'].astype(int)"
   ]
  },
  {
   "cell_type": "code",
   "execution_count": 16,
   "metadata": {},
   "outputs": [
    {
     "data": {
      "text/plain": [
       "<AxesSubplot:>"
      ]
     },
     "execution_count": 16,
     "metadata": {},
     "output_type": "execute_result"
    },
    {
     "data": {
      "image/png": "[encoded data removed]",
      "text/plain": [
       "<Figure size 432x216 with 1 Axes>"
      ]
     },
     "metadata": {
      "needs_background": "light"
     },
     "output_type": "display_data"
    }
   ],
   "source": [
    "# Waiting time distribution in minutes\n",
    "(sm.links['headway']/60/2).hist(bins=100, figsize=(6,3), log=False)"
   ]
  },
  {
   "cell_type": "code",
   "execution_count": 17,
   "metadata": {},
   "outputs": [
    {
     "data": {
      "text/plain": [
       "22.603657771858025"
      ]
     },
     "execution_count": 17,
     "metadata": {},
     "output_type": "execute_result"
    }
   ],
   "source": [
    "sm.links['headway'].mean()/60/2"
   ]
  },
  {
   "cell_type": "code",
   "execution_count": 18,
   "metadata": {},
   "outputs": [],
   "source": [
    "# Set a mode-specific transfer penalty\n",
    "# It will be substracted later\n",
    "time_dict = {'bus': 0,\n",
    "             'rail_short': 10,\n",
    "             'rail_long': 30,\n",
    "             'coach': 60,\n",
    "             'air': 60}\n",
    "sm.links['boarding_time'] = sm.links['route_type'].map(time_dict)*60 # in s"
   ]
  },
  {
   "cell_type": "code",
   "execution_count": 19,
   "metadata": {},
   "outputs": [],
   "source": [
    "# Generate length for PT links\n",
    "if 'length' not in sm.links.columns:\n",
    "    sm.links['length'] = skims.distance_from_geometry(sm.links['geometry']).astype(int)\n",
    "    # Adjust coach transport towards road distances\n",
    "    sm.links.loc[sm.links['route_type']=='coach', 'length'] *= 1.136"
   ]
  },
  {
   "cell_type": "code",
   "execution_count": 20,
   "metadata": {},
   "outputs": [
    {
     "data": {
      "text/html": [
       "<div>\n",
       "<style scoped>\n",
       "    .dataframe tbody tr th:only-of-type {\n",
       "        vertical-align: middle;\n",
       "    }\n",
       "\n",
       "    .dataframe tbody tr th {\n",
       "        vertical-align: top;\n",
       "    }\n",
       "\n",
       "    .dataframe thead th {\n",
       "        text-align: right;\n",
       "    }\n",
       "</style>\n",
       "<table border=\"1\" class=\"dataframe\">\n",
       "  <thead>\n",
       "    <tr style=\"text-align: right;\">\n",
       "      <th></th>\n",
       "      <th>route_type</th>\n",
       "      <th>geometry</th>\n",
       "      <th>a</th>\n",
       "      <th>b</th>\n",
       "      <th>link_sequence</th>\n",
       "      <th>route_id</th>\n",
       "      <th>time</th>\n",
       "      <th>trip_id</th>\n",
       "      <th>route_type_disagg</th>\n",
       "      <th>headway</th>\n",
       "      <th>boarding_time</th>\n",
       "      <th>length</th>\n",
       "    </tr>\n",
       "    <tr>\n",
       "      <th>index</th>\n",
       "      <th></th>\n",
       "      <th></th>\n",
       "      <th></th>\n",
       "      <th></th>\n",
       "      <th></th>\n",
       "      <th></th>\n",
       "      <th></th>\n",
       "      <th></th>\n",
       "      <th></th>\n",
       "      <th></th>\n",
       "      <th></th>\n",
       "      <th></th>\n",
       "    </tr>\n",
       "  </thead>\n",
       "  <tbody>\n",
       "    <tr>\n",
       "      <th>r_s_114447</th>\n",
       "      <td>rail_short</td>\n",
       "      <td>LINESTRING (13.28477 52.35067, 13.27196 52.31556)</td>\n",
       "      <td>r_s_n_978</td>\n",
       "      <td>r_s_n_13596</td>\n",
       "      <td>6</td>\n",
       "      <td>rail_short_74</td>\n",
       "      <td>240</td>\n",
       "      <td>rail_short_28297</td>\n",
       "      <td>rail_short</td>\n",
       "      <td>2400</td>\n",
       "      <td>600</td>\n",
       "      <td>4000</td>\n",
       "    </tr>\n",
       "  </tbody>\n",
       "</table>\n",
       "</div>"
      ],
      "text/plain": [
       "            route_type                                           geometry  \\\n",
       "index                                                                       \n",
       "r_s_114447  rail_short  LINESTRING (13.28477 52.35067, 13.27196 52.31556)   \n",
       "\n",
       "                    a            b  link_sequence       route_id  time  \\\n",
       "index                                                                    \n",
       "r_s_114447  r_s_n_978  r_s_n_13596              6  rail_short_74   240   \n",
       "\n",
       "                     trip_id route_type_disagg  headway  boarding_time  length  \n",
       "index                                                                           \n",
       "r_s_114447  rail_short_28297        rail_short     2400            600    4000  "
      ]
     },
     "execution_count": 20,
     "metadata": {},
     "output_type": "execute_result"
    }
   ],
   "source": [
    "sm.links.sample()"
   ]
  },
  {
   "cell_type": "code",
   "execution_count": 21,
   "metadata": {},
   "outputs": [],
   "source": [
    "# Delete footpaths between centroids as they might confuse the pathfinder\n",
    "# Add them later anew\n",
    "sm.footpaths = sm.footpaths.loc[~((sm.footpaths['a'].isin(sm.centroids.index)) |\n",
    "                                  (sm.footpaths['b'].isin(sm.centroids.index)) |\n",
    "                                  (sm.footpaths['a']==sm.footpaths['b']))]"
   ]
  },
  {
   "cell_type": "markdown",
   "metadata": {},
   "source": [
    "### Apply PT pathfinder\n",
    "It generates the LoS table with shortest paths for each origin destination pair"
   ]
  },
  {
   "cell_type": "code",
   "execution_count": null,
   "metadata": {
    "scrolled": false
   },
   "outputs": [],
   "source": [
    "'''sm.step_pt_pathfinder(\n",
    "    broken_routes=False,\n",
    "    broken_modes=True, # Allow different mode combinations\n",
    "    route_column='route_id',\n",
    "    mode_column='route_type',\n",
    "    boarding_time=0, # Assumption\n",
    "    alighting_time=0,\n",
    "    speedup=True,\n",
    "    walk_on_road=False,\n",
    "    keep_pathfinder=False, # Saves it as attribute for multiple iterations\n",
    "    force=False, # If indices are inconsistent\n",
    "    path_analysis=True, # Create path, time and length columns\n",
    "    drop_duplicates=True, # Considering duplicate paths\n",
    "    cutoff=np.inf, # distance limit between points for Dijkstra algorithm\n",
    "    od_set=od_set) # Exclude OD pairs that are not used'''\n",
    "print('This cell would run all possible mode combinations')"
   ]
  },
  {
   "cell_type": "code",
   "execution_count": 22,
   "metadata": {},
   "outputs": [],
   "source": [
    "# We don't want the algorithm to search paths for all mode combinations.\n",
    "# Thus, we have to extract the pathfinder and search them manually.\n",
    "ppf = PublicPathFinder(sm)"
   ]
  },
  {
   "cell_type": "code",
   "execution_count": 23,
   "metadata": {},
   "outputs": [
    {
     "data": {
      "text/plain": [
       "[{'air', 'bus', 'rail_long', 'rail_short'},\n",
       " {'air', 'bus', 'rail_long'},\n",
       " {'air', 'bus', 'rail_short'},\n",
       " {'air', 'bus'},\n",
       " {'air', 'rail_long', 'rail_short'},\n",
       " {'air', 'rail_long'},\n",
       " {'air', 'rail_short'},\n",
       " {'air'},\n",
       " {'bus', 'coach'},\n",
       " {'bus', 'rail_long', 'rail_short'},\n",
       " {'bus', 'rail_long'},\n",
       " {'bus', 'rail_short'},\n",
       " {'bus'},\n",
       " {'coach'},\n",
       " {'rail_long', 'rail_short'},\n",
       " {'rail_long'},\n",
       " {'rail_short'},\n",
       " set()]"
      ]
     },
     "execution_count": 23,
     "metadata": {},
     "output_type": "execute_result"
    }
   ],
   "source": [
    "# Now, build custom mode combinations\n",
    "# People just don't go by coach and then switch to rail or airplane within Germany\n",
    "ppf.build_mode_combinations(mode_column='route_type')\n",
    "ppf.mode_combinations = [x for x in ppf.mode_combinations\n",
    "                         if not ('coach' in x and\n",
    "                         ('rail_long' in x or\n",
    "                          'rail_short' in x or\n",
    "                          'air' in x))]\n",
    "ppf.mode_combinations"
   ]
  },
  {
   "cell_type": "code",
   "execution_count": 24,
   "metadata": {},
   "outputs": [
    {
     "name": "stdout",
     "output_type": "stream",
     "text": [
      "Generated OD set with 160801 pairs\n"
     ]
    }
   ],
   "source": [
    "# Load OD pairs from volumes if available\n",
    "od_set = None\n",
    "try:\n",
    "    v = stepmodel.read_json(model_path + 'de_volumes')\n",
    "    od_set = set([tuple(l) for l in v.volumes[['origin', 'destination']].values.tolist()])\n",
    "    print('Generated OD set with {} pairs'.format(len(od_set)))\n",
    "except:\n",
    "    print('The volumes file is not (yet) available')"
   ]
  },
  {
   "cell_type": "code",
   "execution_count": 25,
   "metadata": {},
   "outputs": [
    {
     "name": "stderr",
     "output_type": "stream",
     "text": [
      "breaking modes: set() : 100%|█████████████████████████████████████████████████████████| 18/18 [38:01<00:00, 126.77s/it]\n"
     ]
    }
   ],
   "source": [
    "# Run the pathfinder for all mode combinations\n",
    "# If there is no boarding time column in links table:\n",
    "# Include a transfer penalty in order to promote direct routes.\n",
    "# It will be substracted later\n",
    "# The penalty must be None, if a link boarding time is set\n",
    "transfer_penalty = None\n",
    "ppf.find_broken_mode_paths(workers=3, # CPU cores\n",
    "                           cutoff=np.inf,\n",
    "                           od_set=od_set,\n",
    "                           mode_column='route_type',\n",
    "                           boarding_time=transfer_penalty)"
   ]
  },
  {
   "cell_type": "code",
   "execution_count": 26,
   "metadata": {},
   "outputs": [
    {
     "data": {
      "text/html": [
       "<div>\n",
       "<style scoped>\n",
       "    .dataframe tbody tr th:only-of-type {\n",
       "        vertical-align: middle;\n",
       "    }\n",
       "\n",
       "    .dataframe tbody tr th {\n",
       "        vertical-align: top;\n",
       "    }\n",
       "\n",
       "    .dataframe thead th {\n",
       "        text-align: right;\n",
       "    }\n",
       "</style>\n",
       "<table border=\"1\" class=\"dataframe\">\n",
       "  <thead>\n",
       "    <tr style=\"text-align: right;\">\n",
       "      <th></th>\n",
       "      <th>origin</th>\n",
       "      <th>destination</th>\n",
       "      <th>gtime</th>\n",
       "      <th>path</th>\n",
       "      <th>reversed</th>\n",
       "      <th>pathfinder_session</th>\n",
       "      <th>broken_modes</th>\n",
       "    </tr>\n",
       "  </thead>\n",
       "  <tbody>\n",
       "    <tr>\n",
       "      <th>10262</th>\n",
       "      <td>DE131</td>\n",
       "      <td>DE94E</td>\n",
       "      <td>24883.392838</td>\n",
       "      <td>[DE131, coach_n_FLIXBUS:8, r_l_n_1243, r_l_543...</td>\n",
       "      <td>False</td>\n",
       "      <td>mode_breaker</td>\n",
       "      <td>{air, bus}</td>\n",
       "    </tr>\n",
       "  </tbody>\n",
       "</table>\n",
       "</div>"
      ],
      "text/plain": [
       "      origin destination         gtime  \\\n",
       "10262  DE131       DE94E  24883.392838   \n",
       "\n",
       "                                                    path  reversed  \\\n",
       "10262  [DE131, coach_n_FLIXBUS:8, r_l_n_1243, r_l_543...     False   \n",
       "\n",
       "      pathfinder_session broken_modes  \n",
       "10262       mode_breaker   {air, bus}  "
      ]
     },
     "execution_count": 26,
     "metadata": {},
     "output_type": "execute_result"
    }
   ],
   "source": [
    "ppf.broken_mode_paths.sample()"
   ]
  },
  {
   "cell_type": "code",
   "execution_count": 27,
   "metadata": {},
   "outputs": [
    {
     "name": "stderr",
     "output_type": "stream",
     "text": [
      "path_analysis: 100%|██████████████████████████████████████████████████████| 2493250/2493250 [02:43<00:00, 15236.74it/s]\n"
     ]
    }
   ],
   "source": [
    "# Run the path analysis and assign paths as LoS table\n",
    "sm.pt_los = analysis.path_analysis_od_matrix(\n",
    "    od_matrix=ppf.broken_mode_paths,\n",
    "    links=sm.links,\n",
    "    nodes=sm.nodes,\n",
    "    centroids=sm.centroids)"
   ]
  },
  {
   "cell_type": "code",
   "execution_count": 28,
   "metadata": {},
   "outputs": [
    {
     "name": "stdout",
     "output_type": "stream",
     "text": [
      "2493250\n"
     ]
    },
    {
     "data": {
      "text/html": [
       "<div>\n",
       "<style scoped>\n",
       "    .dataframe tbody tr th:only-of-type {\n",
       "        vertical-align: middle;\n",
       "    }\n",
       "\n",
       "    .dataframe tbody tr th {\n",
       "        vertical-align: top;\n",
       "    }\n",
       "\n",
       "    .dataframe thead th {\n",
       "        text-align: right;\n",
       "    }\n",
       "</style>\n",
       "<table border=\"1\" class=\"dataframe\">\n",
       "  <thead>\n",
       "    <tr style=\"text-align: right;\">\n",
       "      <th></th>\n",
       "      <th>origin</th>\n",
       "      <th>destination</th>\n",
       "      <th>gtime</th>\n",
       "      <th>path</th>\n",
       "      <th>reversed</th>\n",
       "      <th>pathfinder_session</th>\n",
       "      <th>broken_modes</th>\n",
       "      <th>boardings</th>\n",
       "      <th>alightings</th>\n",
       "      <th>node_path</th>\n",
       "      <th>link_path</th>\n",
       "      <th>footpaths</th>\n",
       "      <th>ntlegs</th>\n",
       "      <th>transfers</th>\n",
       "      <th>boarding_links</th>\n",
       "      <th>alighting_links</th>\n",
       "      <th>all_walk</th>\n",
       "      <th>ntransfers</th>\n",
       "      <th>time_link_path</th>\n",
       "      <th>length_link_path</th>\n",
       "    </tr>\n",
       "  </thead>\n",
       "  <tbody>\n",
       "    <tr>\n",
       "      <th>72938</th>\n",
       "      <td>DE731</td>\n",
       "      <td>DEE09</td>\n",
       "      <td>19171.994207</td>\n",
       "      <td>[DE731, r_s_n_1743, r_l_n_330, coach_n_FLIXBUS...</td>\n",
       "      <td>False</td>\n",
       "      <td>mode_breaker</td>\n",
       "      <td>{air, rail_long, rail_short}</td>\n",
       "      <td>[coach_n_FLIXBUS:401]</td>\n",
       "      <td>[coach_n_FLIXBUS:1184]</td>\n",
       "      <td>[r_s_n_1743, coach_n_FLIXBUS:401, coach_n_FLIX...</td>\n",
       "      <td>[coach_5355, coach_5356, coach_5357, coach_535...</td>\n",
       "      <td>[]</td>\n",
       "      <td>[(DE731, r_s_n_1743), (coach_n_FLIXBUS:1184, D...</td>\n",
       "      <td>[]</td>\n",
       "      <td>[coach_5355]</td>\n",
       "      <td>[coach_5361]</td>\n",
       "      <td>False</td>\n",
       "      <td>0</td>\n",
       "      <td>13200</td>\n",
       "      <td>132781</td>\n",
       "    </tr>\n",
       "    <tr>\n",
       "      <th>88606</th>\n",
       "      <td>DE938</td>\n",
       "      <td>DEG0A</td>\n",
       "      <td>22596.614761</td>\n",
       "      <td>[DE938, r_s_n_11358, r_s_73992, r_s_73993, r_s...</td>\n",
       "      <td>False</td>\n",
       "      <td>mode_breaker</td>\n",
       "      <td>{air}</td>\n",
       "      <td>[r_s_n_11358, r_s_n_1580, bus_n_278948]</td>\n",
       "      <td>[r_s_n_2519, r_s_n_12700, bus_n_391083]</td>\n",
       "      <td>[r_s_n_11358, r_s_n_2519, r_s_n_1580, r_s_n_12...</td>\n",
       "      <td>[r_s_73992, r_s_73993, r_s_73994, r_s_73995, r...</td>\n",
       "      <td>[(r_s_n_12700, bus_n_156782), (bus_n_156782, r...</td>\n",
       "      <td>[(DE938, r_s_n_11358), (bus_n_391083, DEG0A)]</td>\n",
       "      <td>[]</td>\n",
       "      <td>[r_s_73992, r_l_5892, r_s_27209, bus_284641]</td>\n",
       "      <td>[r_s_73995, r_l_5893, r_s_27211, bus_284652]</td>\n",
       "      <td>False</td>\n",
       "      <td>3</td>\n",
       "      <td>9360</td>\n",
       "      <td>220220</td>\n",
       "    </tr>\n",
       "    <tr>\n",
       "      <th>8961</th>\n",
       "      <td>DE12A</td>\n",
       "      <td>DE27E</td>\n",
       "      <td>19680.433973</td>\n",
       "      <td>[DE12A, r_s_n_12507, r_s_19346, r_s_19347, r_s...</td>\n",
       "      <td>False</td>\n",
       "      <td>mode_breaker</td>\n",
       "      <td>{bus}</td>\n",
       "      <td>[r_s_n_12507, r_s_n_13421, r_s_n_5724]</td>\n",
       "      <td>[r_s_n_4815, r_s_n_1834, r_s_n_14075]</td>\n",
       "      <td>[r_s_n_12507, r_s_n_4815, bus_n_301465, r_s_n_...</td>\n",
       "      <td>[r_s_19346, r_s_19347, r_s_19348, r_s_19349, r...</td>\n",
       "      <td>[(r_s_n_4815, bus_n_301465), (bus_n_301465, r_...</td>\n",
       "      <td>[(DE12A, r_s_n_12507), (r_s_n_14075, DE27E)]</td>\n",
       "      <td>[]</td>\n",
       "      <td>[r_s_19346, r_s_103013, r_l_3586, r_s_170284]</td>\n",
       "      <td>[r_s_19349, r_s_103015, r_l_3586, r_s_170287]</td>\n",
       "      <td>False</td>\n",
       "      <td>3</td>\n",
       "      <td>8580</td>\n",
       "      <td>197644</td>\n",
       "    </tr>\n",
       "  </tbody>\n",
       "</table>\n",
       "</div>"
      ],
      "text/plain": [
       "      origin destination         gtime  \\\n",
       "72938  DE731       DEE09  19171.994207   \n",
       "88606  DE938       DEG0A  22596.614761   \n",
       "8961   DE12A       DE27E  19680.433973   \n",
       "\n",
       "                                                    path  reversed  \\\n",
       "72938  [DE731, r_s_n_1743, r_l_n_330, coach_n_FLIXBUS...     False   \n",
       "88606  [DE938, r_s_n_11358, r_s_73992, r_s_73993, r_s...     False   \n",
       "8961   [DE12A, r_s_n_12507, r_s_19346, r_s_19347, r_s...     False   \n",
       "\n",
       "      pathfinder_session                  broken_modes  \\\n",
       "72938       mode_breaker  {air, rail_long, rail_short}   \n",
       "88606       mode_breaker                         {air}   \n",
       "8961        mode_breaker                         {bus}   \n",
       "\n",
       "                                     boardings  \\\n",
       "72938                    [coach_n_FLIXBUS:401]   \n",
       "88606  [r_s_n_11358, r_s_n_1580, bus_n_278948]   \n",
       "8961    [r_s_n_12507, r_s_n_13421, r_s_n_5724]   \n",
       "\n",
       "                                    alightings  \\\n",
       "72938                   [coach_n_FLIXBUS:1184]   \n",
       "88606  [r_s_n_2519, r_s_n_12700, bus_n_391083]   \n",
       "8961     [r_s_n_4815, r_s_n_1834, r_s_n_14075]   \n",
       "\n",
       "                                               node_path  \\\n",
       "72938  [r_s_n_1743, coach_n_FLIXBUS:401, coach_n_FLIX...   \n",
       "88606  [r_s_n_11358, r_s_n_2519, r_s_n_1580, r_s_n_12...   \n",
       "8961   [r_s_n_12507, r_s_n_4815, bus_n_301465, r_s_n_...   \n",
       "\n",
       "                                               link_path  \\\n",
       "72938  [coach_5355, coach_5356, coach_5357, coach_535...   \n",
       "88606  [r_s_73992, r_s_73993, r_s_73994, r_s_73995, r...   \n",
       "8961   [r_s_19346, r_s_19347, r_s_19348, r_s_19349, r...   \n",
       "\n",
       "                                               footpaths  \\\n",
       "72938                                                 []   \n",
       "88606  [(r_s_n_12700, bus_n_156782), (bus_n_156782, r...   \n",
       "8961   [(r_s_n_4815, bus_n_301465), (bus_n_301465, r_...   \n",
       "\n",
       "                                                  ntlegs transfers  \\\n",
       "72938  [(DE731, r_s_n_1743), (coach_n_FLIXBUS:1184, D...        []   \n",
       "88606      [(DE938, r_s_n_11358), (bus_n_391083, DEG0A)]        []   \n",
       "8961        [(DE12A, r_s_n_12507), (r_s_n_14075, DE27E)]        []   \n",
       "\n",
       "                                      boarding_links  \\\n",
       "72938                                   [coach_5355]   \n",
       "88606   [r_s_73992, r_l_5892, r_s_27209, bus_284641]   \n",
       "8961   [r_s_19346, r_s_103013, r_l_3586, r_s_170284]   \n",
       "\n",
       "                                     alighting_links  all_walk  ntransfers  \\\n",
       "72938                                   [coach_5361]     False           0   \n",
       "88606   [r_s_73995, r_l_5893, r_s_27211, bus_284652]     False           3   \n",
       "8961   [r_s_19349, r_s_103015, r_l_3586, r_s_170287]     False           3   \n",
       "\n",
       "       time_link_path  length_link_path  \n",
       "72938           13200            132781  \n",
       "88606            9360            220220  \n",
       "8961             8580            197644  "
      ]
     },
     "execution_count": 28,
     "metadata": {},
     "output_type": "execute_result"
    }
   ],
   "source": [
    "print(len(sm.pt_los.index))\n",
    "sm.pt_los.loc[sm.pt_los['origin']!=sm.pt_los['destination']].sample(3)"
   ]
  },
  {
   "cell_type": "markdown",
   "metadata": {},
   "source": [
    "### Add attributes to LoS table"
   ]
  },
  {
   "cell_type": "code",
   "execution_count": 29,
   "metadata": {},
   "outputs": [],
   "source": [
    "# Add distances\n",
    "len_dict = sm.links['length'].to_dict()\n",
    "sm.pt_los['length'] = sm.pt_los['link_path'].apply(lambda p: sum([len_dict[l] for l in p]))"
   ]
  },
  {
   "cell_type": "code",
   "execution_count": 30,
   "metadata": {},
   "outputs": [
    {
     "name": "stdout",
     "output_type": "stream",
     "text": [
      "Index(['origin', 'destination', 'gtime', 'path', 'reversed',\n",
      "       'pathfinder_session', 'broken_modes', 'boardings', 'alightings',\n",
      "       'node_path', 'link_path', 'footpaths', 'ntlegs', 'transfers',\n",
      "       'boarding_links', 'alighting_links', 'all_walk', 'ntransfers',\n",
      "       'time_link_path', 'length_link_path', 'length', 'access_time',\n",
      "       'footpath_time', 'in_vehicle_time', 'waiting_time', 'boarding_time',\n",
      "       'time'],\n",
      "      dtype='object')\n"
     ]
    }
   ],
   "source": [
    "# Disaggregate time into in-vehicle and access/egress\n",
    "# Substract the transfer penalty set above (put 0)\n",
    "if transfer_penalty is None:\n",
    "    sm.analysis_pt_time(boarding_time=None)\n",
    "    sm.pt_los['time'] -= sm.pt_los['boarding_time']\n",
    "#    sm.pt_los['boarding_time'] = 0\n",
    "else:\n",
    "    sm.analysis_pt_time(boarding_time=0)\n",
    "print(sm.pt_los.columns)"
   ]
  },
  {
   "cell_type": "code",
   "execution_count": 31,
   "metadata": {},
   "outputs": [
    {
     "data": {
      "text/html": [
       "<div>\n",
       "<style scoped>\n",
       "    .dataframe tbody tr th:only-of-type {\n",
       "        vertical-align: middle;\n",
       "    }\n",
       "\n",
       "    .dataframe tbody tr th {\n",
       "        vertical-align: top;\n",
       "    }\n",
       "\n",
       "    .dataframe thead th {\n",
       "        text-align: right;\n",
       "    }\n",
       "</style>\n",
       "<table border=\"1\" class=\"dataframe\">\n",
       "  <thead>\n",
       "    <tr style=\"text-align: right;\">\n",
       "      <th></th>\n",
       "      <th>ntransfers</th>\n",
       "      <th>length</th>\n",
       "      <th>gtime</th>\n",
       "      <th>access_time</th>\n",
       "      <th>footpath_time</th>\n",
       "      <th>in_vehicle_time</th>\n",
       "      <th>waiting_time</th>\n",
       "      <th>boarding_time</th>\n",
       "      <th>time</th>\n",
       "    </tr>\n",
       "  </thead>\n",
       "  <tbody>\n",
       "    <tr>\n",
       "      <th>40172</th>\n",
       "      <td>1</td>\n",
       "      <td>192010</td>\n",
       "      <td>18247.443628</td>\n",
       "      <td>2773.739881</td>\n",
       "      <td>288.996527</td>\n",
       "      <td>8481</td>\n",
       "      <td>4800.0</td>\n",
       "      <td>1800</td>\n",
       "      <td>16343.736408</td>\n",
       "    </tr>\n",
       "    <tr>\n",
       "      <th>78431</th>\n",
       "      <td>2</td>\n",
       "      <td>236320</td>\n",
       "      <td>17335.274238</td>\n",
       "      <td>2924.638813</td>\n",
       "      <td>77.988080</td>\n",
       "      <td>7920</td>\n",
       "      <td>3300.0</td>\n",
       "      <td>3000</td>\n",
       "      <td>14222.626893</td>\n",
       "    </tr>\n",
       "  </tbody>\n",
       "</table>\n",
       "</div>"
      ],
      "text/plain": [
       "       ntransfers  length         gtime  access_time  footpath_time  \\\n",
       "40172           1  192010  18247.443628  2773.739881     288.996527   \n",
       "78431           2  236320  17335.274238  2924.638813      77.988080   \n",
       "\n",
       "       in_vehicle_time  waiting_time  boarding_time          time  \n",
       "40172             8481        4800.0           1800  16343.736408  \n",
       "78431             7920        3300.0           3000  14222.626893  "
      ]
     },
     "execution_count": 31,
     "metadata": {},
     "output_type": "execute_result"
    }
   ],
   "source": [
    "# Check times\n",
    "sm.pt_los[['ntransfers', 'length']+[c for c in sm.pt_los.columns if c[-4:]=='time']].sample(2)"
   ]
  },
  {
   "cell_type": "code",
   "execution_count": 32,
   "metadata": {},
   "outputs": [],
   "source": [
    "# Add route_types\n",
    "type_dict = sm.links['route_type'].to_dict()\n",
    "sm.pt_los['route_types'] = [set([type_dict[link] for link in l])\n",
    "                            for l in list(sm.pt_los['link_path'])]"
   ]
  },
  {
   "cell_type": "code",
   "execution_count": 33,
   "metadata": {},
   "outputs": [],
   "source": [
    "# Add main route_type based on a hierarchy\n",
    "hierarchy = ['air', 'coach', 'rail_long', 'rail_short', 'bus', 'walk']\n",
    "def main_type(types):\n",
    "    t = hierarchy[-1]\n",
    "    try:\n",
    "        t = hierarchy[min([hierarchy.index(t) for t in types])]\n",
    "    except ValueError: # empty types set\n",
    "        pass\n",
    "    return t\n",
    "sm.pt_los['route_type'] = sm.pt_los['route_types'].apply(main_type)"
   ]
  },
  {
   "cell_type": "code",
   "execution_count": 34,
   "metadata": {},
   "outputs": [],
   "source": [
    "# Add price, parametrisation comes later because\n",
    "# our GTFS feeds come without fares\n",
    "sm.pt_los['price'] = 0"
   ]
  },
  {
   "cell_type": "code",
   "execution_count": 35,
   "metadata": {},
   "outputs": [
    {
     "data": {
      "text/html": [
       "<div>\n",
       "<style scoped>\n",
       "    .dataframe tbody tr th:only-of-type {\n",
       "        vertical-align: middle;\n",
       "    }\n",
       "\n",
       "    .dataframe tbody tr th {\n",
       "        vertical-align: top;\n",
       "    }\n",
       "\n",
       "    .dataframe thead th {\n",
       "        text-align: right;\n",
       "    }\n",
       "</style>\n",
       "<table border=\"1\" class=\"dataframe\">\n",
       "  <thead>\n",
       "    <tr style=\"text-align: right;\">\n",
       "      <th></th>\n",
       "      <th>origin</th>\n",
       "      <th>destination</th>\n",
       "      <th>gtime</th>\n",
       "      <th>path</th>\n",
       "      <th>reversed</th>\n",
       "      <th>pathfinder_session</th>\n",
       "      <th>broken_modes</th>\n",
       "      <th>boardings</th>\n",
       "      <th>alightings</th>\n",
       "      <th>node_path</th>\n",
       "      <th>...</th>\n",
       "      <th>length</th>\n",
       "      <th>access_time</th>\n",
       "      <th>footpath_time</th>\n",
       "      <th>in_vehicle_time</th>\n",
       "      <th>waiting_time</th>\n",
       "      <th>boarding_time</th>\n",
       "      <th>time</th>\n",
       "      <th>route_types</th>\n",
       "      <th>route_type</th>\n",
       "      <th>price</th>\n",
       "    </tr>\n",
       "  </thead>\n",
       "  <tbody>\n",
       "    <tr>\n",
       "      <th>26254</th>\n",
       "      <td>DE21M</td>\n",
       "      <td>DE804</td>\n",
       "      <td>33906.654032</td>\n",
       "      <td>[DE21M, r_l_n_442, r_s_n_5122, r_s_70406, r_s_...</td>\n",
       "      <td>False</td>\n",
       "      <td>mode_breaker</td>\n",
       "      <td>{air, bus}</td>\n",
       "      <td>[r_s_n_5122]</td>\n",
       "      <td>[r_s_n_7263]</td>\n",
       "      <td>[r_s_n_5122, r_s_n_7263, coach_n_FLIXBUS:834]</td>\n",
       "      <td>...</td>\n",
       "      <td>773232</td>\n",
       "      <td>555.074243</td>\n",
       "      <td>0.0</td>\n",
       "      <td>23460</td>\n",
       "      <td>3545.0</td>\n",
       "      <td>4200</td>\n",
       "      <td>27560.074243</td>\n",
       "      <td>{rail_long, rail_short}</td>\n",
       "      <td>rail_long</td>\n",
       "      <td>0</td>\n",
       "    </tr>\n",
       "  </tbody>\n",
       "</table>\n",
       "<p>1 rows × 30 columns</p>\n",
       "</div>"
      ],
      "text/plain": [
       "      origin destination         gtime  \\\n",
       "26254  DE21M       DE804  33906.654032   \n",
       "\n",
       "                                                    path  reversed  \\\n",
       "26254  [DE21M, r_l_n_442, r_s_n_5122, r_s_70406, r_s_...     False   \n",
       "\n",
       "      pathfinder_session broken_modes     boardings    alightings  \\\n",
       "26254       mode_breaker   {air, bus}  [r_s_n_5122]  [r_s_n_7263]   \n",
       "\n",
       "                                           node_path  ...  length access_time  \\\n",
       "26254  [r_s_n_5122, r_s_n_7263, coach_n_FLIXBUS:834]  ...  773232  555.074243   \n",
       "\n",
       "      footpath_time in_vehicle_time waiting_time boarding_time          time  \\\n",
       "26254           0.0           23460       3545.0          4200  27560.074243   \n",
       "\n",
       "                   route_types  route_type  price  \n",
       "26254  {rail_long, rail_short}   rail_long      0  \n",
       "\n",
       "[1 rows x 30 columns]"
      ]
     },
     "execution_count": 35,
     "metadata": {},
     "output_type": "execute_result"
    }
   ],
   "source": [
    "sm.pt_los.sample()"
   ]
  },
  {
   "cell_type": "code",
   "execution_count": 36,
   "metadata": {},
   "outputs": [],
   "source": [
    "# Make a safety copy before restricting results\n",
    "los = sm.pt_los.copy()"
   ]
  },
  {
   "cell_type": "code",
   "execution_count": 37,
   "metadata": {},
   "outputs": [],
   "source": [
    "#sm.pt_los = los.copy()"
   ]
  },
  {
   "cell_type": "markdown",
   "metadata": {},
   "source": [
    "### Clean PT LOS"
   ]
  },
  {
   "cell_type": "code",
   "execution_count": 38,
   "metadata": {},
   "outputs": [
    {
     "data": {
      "text/plain": [
       "(1834707, 30)"
      ]
     },
     "execution_count": 38,
     "metadata": {},
     "output_type": "execute_result"
    }
   ],
   "source": [
    "# Drop duplicates\n",
    "sm.pt_los['path'] = sm.pt_los['path'].apply(tuple)\n",
    "sm.pt_los.drop_duplicates('path', inplace=True)\n",
    "sm.pt_los.reset_index(drop=True, inplace=True)\n",
    "sm.pt_los.shape"
   ]
  },
  {
   "cell_type": "code",
   "execution_count": 39,
   "metadata": {
    "scrolled": false
   },
   "outputs": [
    {
     "name": "stderr",
     "output_type": "stream",
     "text": [
      "100%|██████████████████████████████████████████████████████████████████████████████████| 14/14 [00:03<00:00,  3.54it/s]\n"
     ]
    },
    {
     "data": {
      "text/html": [
       "<div style=\"width:100%;\"><div style=\"position:relative;width:100%;height:0;padding-bottom:60%;\"><iframe src=\"data:text/html;charset=utf-8;base64,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\" style=\"position:absolute;width:100%;height:100%;left:0;top:0;border:none !important;\" allowfullscreen webkitallowfullscreen mozallowfullscreen></iframe></div></div>"
      ],
      "text/plain": [
       "<folium.folium.Map at 0x22286871cd0>"
      ]
     },
     "execution_count": 39,
     "metadata": {},
     "output_type": "execute_result"
    }
   ],
   "source": [
    "# Berlin - Hamburg\n",
    "all_pt_paths(sm, 'DE300', 'DE600', verbose=False, group_name='route_type')"
   ]
  },
  {
   "cell_type": "code",
   "execution_count": 40,
   "metadata": {},
   "outputs": [
    {
     "data": {
      "text/html": [
       "<div>\n",
       "<style scoped>\n",
       "    .dataframe tbody tr th:only-of-type {\n",
       "        vertical-align: middle;\n",
       "    }\n",
       "\n",
       "    .dataframe tbody tr th {\n",
       "        vertical-align: top;\n",
       "    }\n",
       "\n",
       "    .dataframe thead th {\n",
       "        text-align: right;\n",
       "    }\n",
       "</style>\n",
       "<table border=\"1\" class=\"dataframe\">\n",
       "  <thead>\n",
       "    <tr style=\"text-align: right;\">\n",
       "      <th></th>\n",
       "      <th>ntransfers</th>\n",
       "      <th>length</th>\n",
       "      <th>route_types</th>\n",
       "      <th>link_path</th>\n",
       "      <th>gtime</th>\n",
       "      <th>access_time</th>\n",
       "      <th>footpath_time</th>\n",
       "      <th>in_vehicle_time</th>\n",
       "      <th>waiting_time</th>\n",
       "      <th>boarding_time</th>\n",
       "      <th>time</th>\n",
       "    </tr>\n",
       "  </thead>\n",
       "  <tbody>\n",
       "    <tr>\n",
       "      <th>15831</th>\n",
       "      <td>0</td>\n",
       "      <td>243138</td>\n",
       "      <td>{coach}</td>\n",
       "      <td>[coach_14401]</td>\n",
       "      <td>17387.064122</td>\n",
       "      <td>2124.676031</td>\n",
       "      <td>262.388092</td>\n",
       "      <td>11100</td>\n",
       "      <td>300.0</td>\n",
       "      <td>3600</td>\n",
       "      <td>13787.064122</td>\n",
       "    </tr>\n",
       "    <tr>\n",
       "      <th>106373</th>\n",
       "      <td>0</td>\n",
       "      <td>275211</td>\n",
       "      <td>{rail_short}</td>\n",
       "      <td>[r_s_136084, r_s_136085, r_s_136086, r_s_13608...</td>\n",
       "      <td>16262.303522</td>\n",
       "      <td>2575.267143</td>\n",
       "      <td>247.036379</td>\n",
       "      <td>9240</td>\n",
       "      <td>3600.0</td>\n",
       "      <td>600</td>\n",
       "      <td>15662.303522</td>\n",
       "    </tr>\n",
       "    <tr>\n",
       "      <th>234174</th>\n",
       "      <td>0</td>\n",
       "      <td>253129</td>\n",
       "      <td>{rail_long}</td>\n",
       "      <td>[r_l_9, r_l_10]</td>\n",
       "      <td>12314.318580</td>\n",
       "      <td>3010.779478</td>\n",
       "      <td>115.725081</td>\n",
       "      <td>6060</td>\n",
       "      <td>1200.0</td>\n",
       "      <td>1800</td>\n",
       "      <td>10386.504560</td>\n",
       "    </tr>\n",
       "    <tr>\n",
       "      <th>331320</th>\n",
       "      <td>0</td>\n",
       "      <td>253129</td>\n",
       "      <td>{rail_long}</td>\n",
       "      <td>[r_l_9, r_l_10]</td>\n",
       "      <td>12314.318580</td>\n",
       "      <td>3010.779478</td>\n",
       "      <td>115.725081</td>\n",
       "      <td>6060</td>\n",
       "      <td>1200.0</td>\n",
       "      <td>1800</td>\n",
       "      <td>10386.504560</td>\n",
       "    </tr>\n",
       "    <tr>\n",
       "      <th>480085</th>\n",
       "      <td>0</td>\n",
       "      <td>243138</td>\n",
       "      <td>{coach}</td>\n",
       "      <td>[coach_14334]</td>\n",
       "      <td>17387.064122</td>\n",
       "      <td>2124.676031</td>\n",
       "      <td>262.388092</td>\n",
       "      <td>11100</td>\n",
       "      <td>300.0</td>\n",
       "      <td>3600</td>\n",
       "      <td>13787.064122</td>\n",
       "    </tr>\n",
       "    <tr>\n",
       "      <th>776110</th>\n",
       "      <td>0</td>\n",
       "      <td>253129</td>\n",
       "      <td>{rail_long}</td>\n",
       "      <td>[r_l_7252, r_l_7253]</td>\n",
       "      <td>12314.318580</td>\n",
       "      <td>3010.779478</td>\n",
       "      <td>115.725081</td>\n",
       "      <td>6060</td>\n",
       "      <td>1200.0</td>\n",
       "      <td>1800</td>\n",
       "      <td>10386.504560</td>\n",
       "    </tr>\n",
       "    <tr>\n",
       "      <th>911548</th>\n",
       "      <td>0</td>\n",
       "      <td>253129</td>\n",
       "      <td>{rail_long}</td>\n",
       "      <td>[r_l_9, r_l_10]</td>\n",
       "      <td>12314.318580</td>\n",
       "      <td>3010.779478</td>\n",
       "      <td>115.725081</td>\n",
       "      <td>6060</td>\n",
       "      <td>1200.0</td>\n",
       "      <td>1800</td>\n",
       "      <td>10386.504560</td>\n",
       "    </tr>\n",
       "    <tr>\n",
       "      <th>1030017</th>\n",
       "      <td>0</td>\n",
       "      <td>253129</td>\n",
       "      <td>{rail_long}</td>\n",
       "      <td>[r_l_7252, r_l_7253]</td>\n",
       "      <td>12314.318580</td>\n",
       "      <td>3010.779478</td>\n",
       "      <td>115.725081</td>\n",
       "      <td>6060</td>\n",
       "      <td>1200.0</td>\n",
       "      <td>1800</td>\n",
       "      <td>10386.504560</td>\n",
       "    </tr>\n",
       "    <tr>\n",
       "      <th>1248110</th>\n",
       "      <td>0</td>\n",
       "      <td>253129</td>\n",
       "      <td>{rail_long}</td>\n",
       "      <td>[r_l_4270, r_l_4271]</td>\n",
       "      <td>12314.318580</td>\n",
       "      <td>3010.779478</td>\n",
       "      <td>115.725081</td>\n",
       "      <td>6060</td>\n",
       "      <td>1200.0</td>\n",
       "      <td>1800</td>\n",
       "      <td>10386.504560</td>\n",
       "    </tr>\n",
       "    <tr>\n",
       "      <th>1296313</th>\n",
       "      <td>0</td>\n",
       "      <td>253129</td>\n",
       "      <td>{rail_long}</td>\n",
       "      <td>[r_l_4270, r_l_4271]</td>\n",
       "      <td>12314.318580</td>\n",
       "      <td>3010.779478</td>\n",
       "      <td>115.725081</td>\n",
       "      <td>6060</td>\n",
       "      <td>1200.0</td>\n",
       "      <td>1800</td>\n",
       "      <td>10386.504560</td>\n",
       "    </tr>\n",
       "    <tr>\n",
       "      <th>1380327</th>\n",
       "      <td>0</td>\n",
       "      <td>253129</td>\n",
       "      <td>{rail_long}</td>\n",
       "      <td>[r_l_3347, r_l_3348]</td>\n",
       "      <td>12314.318580</td>\n",
       "      <td>3010.779478</td>\n",
       "      <td>115.725081</td>\n",
       "      <td>6060</td>\n",
       "      <td>1200.0</td>\n",
       "      <td>1800</td>\n",
       "      <td>10386.504560</td>\n",
       "    </tr>\n",
       "    <tr>\n",
       "      <th>1490815</th>\n",
       "      <td>0</td>\n",
       "      <td>243138</td>\n",
       "      <td>{coach}</td>\n",
       "      <td>[coach_14290]</td>\n",
       "      <td>17387.064122</td>\n",
       "      <td>2124.676031</td>\n",
       "      <td>262.388092</td>\n",
       "      <td>11100</td>\n",
       "      <td>300.0</td>\n",
       "      <td>3600</td>\n",
       "      <td>13787.064122</td>\n",
       "    </tr>\n",
       "    <tr>\n",
       "      <th>1705568</th>\n",
       "      <td>0</td>\n",
       "      <td>253129</td>\n",
       "      <td>{rail_long}</td>\n",
       "      <td>[r_l_3347, r_l_3348]</td>\n",
       "      <td>12314.318580</td>\n",
       "      <td>3010.779478</td>\n",
       "      <td>115.725081</td>\n",
       "      <td>6060</td>\n",
       "      <td>1200.0</td>\n",
       "      <td>1800</td>\n",
       "      <td>10386.504560</td>\n",
       "    </tr>\n",
       "    <tr>\n",
       "      <th>1786439</th>\n",
       "      <td>0</td>\n",
       "      <td>253129</td>\n",
       "      <td>{rail_long}</td>\n",
       "      <td>[r_l_1095, r_l_1096]</td>\n",
       "      <td>12314.318580</td>\n",
       "      <td>3010.779478</td>\n",
       "      <td>115.725081</td>\n",
       "      <td>6060</td>\n",
       "      <td>1200.0</td>\n",
       "      <td>1800</td>\n",
       "      <td>10386.504560</td>\n",
       "    </tr>\n",
       "  </tbody>\n",
       "</table>\n",
       "</div>"
      ],
      "text/plain": [
       "         ntransfers  length   route_types  \\\n",
       "15831             0  243138       {coach}   \n",
       "106373            0  275211  {rail_short}   \n",
       "234174            0  253129   {rail_long}   \n",
       "331320            0  253129   {rail_long}   \n",
       "480085            0  243138       {coach}   \n",
       "776110            0  253129   {rail_long}   \n",
       "911548            0  253129   {rail_long}   \n",
       "1030017           0  253129   {rail_long}   \n",
       "1248110           0  253129   {rail_long}   \n",
       "1296313           0  253129   {rail_long}   \n",
       "1380327           0  253129   {rail_long}   \n",
       "1490815           0  243138       {coach}   \n",
       "1705568           0  253129   {rail_long}   \n",
       "1786439           0  253129   {rail_long}   \n",
       "\n",
       "                                                 link_path         gtime  \\\n",
       "15831                                        [coach_14401]  17387.064122   \n",
       "106373   [r_s_136084, r_s_136085, r_s_136086, r_s_13608...  16262.303522   \n",
       "234174                                     [r_l_9, r_l_10]  12314.318580   \n",
       "331320                                     [r_l_9, r_l_10]  12314.318580   \n",
       "480085                                       [coach_14334]  17387.064122   \n",
       "776110                                [r_l_7252, r_l_7253]  12314.318580   \n",
       "911548                                     [r_l_9, r_l_10]  12314.318580   \n",
       "1030017                               [r_l_7252, r_l_7253]  12314.318580   \n",
       "1248110                               [r_l_4270, r_l_4271]  12314.318580   \n",
       "1296313                               [r_l_4270, r_l_4271]  12314.318580   \n",
       "1380327                               [r_l_3347, r_l_3348]  12314.318580   \n",
       "1490815                                      [coach_14290]  17387.064122   \n",
       "1705568                               [r_l_3347, r_l_3348]  12314.318580   \n",
       "1786439                               [r_l_1095, r_l_1096]  12314.318580   \n",
       "\n",
       "         access_time  footpath_time  in_vehicle_time  waiting_time  \\\n",
       "15831    2124.676031     262.388092            11100         300.0   \n",
       "106373   2575.267143     247.036379             9240        3600.0   \n",
       "234174   3010.779478     115.725081             6060        1200.0   \n",
       "331320   3010.779478     115.725081             6060        1200.0   \n",
       "480085   2124.676031     262.388092            11100         300.0   \n",
       "776110   3010.779478     115.725081             6060        1200.0   \n",
       "911548   3010.779478     115.725081             6060        1200.0   \n",
       "1030017  3010.779478     115.725081             6060        1200.0   \n",
       "1248110  3010.779478     115.725081             6060        1200.0   \n",
       "1296313  3010.779478     115.725081             6060        1200.0   \n",
       "1380327  3010.779478     115.725081             6060        1200.0   \n",
       "1490815  2124.676031     262.388092            11100         300.0   \n",
       "1705568  3010.779478     115.725081             6060        1200.0   \n",
       "1786439  3010.779478     115.725081             6060        1200.0   \n",
       "\n",
       "         boarding_time          time  \n",
       "15831             3600  13787.064122  \n",
       "106373             600  15662.303522  \n",
       "234174            1800  10386.504560  \n",
       "331320            1800  10386.504560  \n",
       "480085            3600  13787.064122  \n",
       "776110            1800  10386.504560  \n",
       "911548            1800  10386.504560  \n",
       "1030017           1800  10386.504560  \n",
       "1248110           1800  10386.504560  \n",
       "1296313           1800  10386.504560  \n",
       "1380327           1800  10386.504560  \n",
       "1490815           3600  13787.064122  \n",
       "1705568           1800  10386.504560  \n",
       "1786439           1800  10386.504560  "
      ]
     },
     "execution_count": 40,
     "metadata": {},
     "output_type": "execute_result"
    }
   ],
   "source": [
    "# Look at Berlin - Hamburg times\n",
    "sm.pt_los.loc[(sm.pt_los['origin']=='DE300')&(sm.pt_los['destination']=='DE600')][\n",
    "    ['ntransfers', 'length', 'route_types', 'link_path']+[c for c in sm.pt_los.columns if c[-4:]=='time']]"
   ]
  },
  {
   "cell_type": "code",
   "execution_count": 41,
   "metadata": {},
   "outputs": [
    {
     "data": {
      "text/plain": [
       "(1554156, 30)"
      ]
     },
     "execution_count": 41,
     "metadata": {},
     "output_type": "execute_result"
    }
   ],
   "source": [
    "# Drop trips with coach-rail or coach-air combinations\n",
    "sm.pt_los = sm.pt_los.loc[~sm.pt_los['route_types'].apply(\n",
    "    lambda x: 'coach' in x and ('rail_long' in x or 'rail_short' in x or 'air' in x))]\n",
    "sm.pt_los.shape"
   ]
  },
  {
   "cell_type": "code",
   "execution_count": 42,
   "metadata": {},
   "outputs": [
    {
     "data": {
      "text/plain": [
       "(1554156, 30)"
      ]
     },
     "execution_count": 42,
     "metadata": {},
     "output_type": "execute_result"
    }
   ],
   "source": [
    "'''# Drop trips with air interchange\n",
    "sm.pt_los.drop(sm.pt_los.loc[(sm.pt_los['route_type']=='air') &\n",
    "                             (sm.pt_los['link_path'].apply(\n",
    "                                 lambda x: len([t for t in x if type_dict[t]=='air'])>1))\n",
    "                            ].index, inplace=True)'''\n",
    "sm.pt_los.shape"
   ]
  },
  {
   "cell_type": "code",
   "execution_count": 43,
   "metadata": {},
   "outputs": [
    {
     "data": {
      "text/plain": [
       "(1532625, 30)"
      ]
     },
     "execution_count": 43,
     "metadata": {},
     "output_type": "execute_result"
    }
   ],
   "source": [
    "# Drop unrealistically long trips\n",
    "sm.pt_los = sm.pt_los.loc[sm.pt_los['in_vehicle_time']<10*3600]\n",
    "sm.pt_los.shape"
   ]
  },
  {
   "cell_type": "code",
   "execution_count": 44,
   "metadata": {},
   "outputs": [
    {
     "data": {
      "text/plain": [
       "array([<AxesSubplot:title={'center':'time'}>], dtype=object)"
      ]
     },
     "execution_count": 44,
     "metadata": {},
     "output_type": "execute_result"
    },
    {
     "data": {
      "image/png": "[encoded data removed]",
      "text/plain": [
       "<Figure size 288x288 with 1 Axes>"
      ]
     },
     "metadata": {
      "needs_background": "light"
     },
     "output_type": "display_data"
    }
   ],
   "source": [
    "# Time distribution\n",
    "sm.pt_los.hist(column='time', bins=100, log=True, alpha=.5,\n",
    "               ax=sm.pt_los.hist(column='in_vehicle_time', color='green',\n",
    "                                 bins=100, figsize=(4,4), log=True, alpha=.5))"
   ]
  },
  {
   "cell_type": "code",
   "execution_count": 45,
   "metadata": {},
   "outputs": [
    {
     "data": {
      "text/plain": [
       "array([[<AxesSubplot:title={'center':'ntransfers'}>]], dtype=object)"
      ]
     },
     "execution_count": 45,
     "metadata": {},
     "output_type": "execute_result"
    },
    {
     "data": {
      "image/png": "[encoded data removed]",
      "text/plain": [
       "<Figure size 288x288 with 1 Axes>"
      ]
     },
     "metadata": {
      "needs_background": "light"
     },
     "output_type": "display_data"
    }
   ],
   "source": [
    "sm.pt_los.hist(column='ntransfers', figsize=(4,4))"
   ]
  },
  {
   "cell_type": "code",
   "execution_count": 46,
   "metadata": {},
   "outputs": [
    {
     "data": {
      "text/plain": [
       "<matplotlib.legend.Legend at 0x221cc5eb2e0>"
      ]
     },
     "execution_count": 46,
     "metadata": {},
     "output_type": "execute_result"
    },
    {
     "data": {
      "image/png": "[encoded data removed]",
      "text/plain": [
       "<Figure size 1152x216 with 6 Axes>"
      ]
     },
     "metadata": {},
     "output_type": "display_data"
    }
   ],
   "source": [
    "# Main mode distribution by transfers\n",
    "t = sm.pt_los.copy()\n",
    "t['bins'] = pd.cut(t['ntransfers'], bins=[0,1,3,5,10,20,100],\n",
    "                   labels=[\"0-1\", \"2-3\",\"4-5\",\"6-10\",\"11-20\",\"21+\"])\n",
    "axs = t.groupby(['route_type','bins']).size().unstack(fill_value=0).plot.pie(\n",
    "    subplots=True, figsize=(16, 3),\n",
    "    startangle=0, counterclock=False, title='Main mode by number of transfers',\n",
    "    legend=False, labeldistance=None)\n",
    "axs[0].legend(loc='lower left')"
   ]
  },
  {
   "cell_type": "code",
   "execution_count": 47,
   "metadata": {},
   "outputs": [
    {
     "data": {
      "text/plain": [
       "<AxesSubplot:xlabel='route_types'>"
      ]
     },
     "execution_count": 47,
     "metadata": {},
     "output_type": "execute_result"
    },
    {
     "data": {
      "image/png": "[encoded data removed]",
      "text/plain": [
       "<Figure size 432x288 with 1 Axes>"
      ]
     },
     "metadata": {
      "needs_background": "light"
     },
     "output_type": "display_data"
    }
   ],
   "source": [
    "# Distribution of mode combinations\n",
    "t['route_types'] = t['route_types'].apply(tuple)\n",
    "t.groupby('route_types').count()['route_type'].plot(kind='bar')"
   ]
  },
  {
   "cell_type": "code",
   "execution_count": 48,
   "metadata": {},
   "outputs": [
    {
     "data": {
      "text/plain": [
       "<matplotlib.legend.Legend at 0x22133b4c940>"
      ]
     },
     "execution_count": 48,
     "metadata": {},
     "output_type": "execute_result"
    },
    {
     "data": {
      "image/png": "[encoded data removed]",
      "text/plain": [
       "<Figure size 1152x216 with 5 Axes>"
      ]
     },
     "metadata": {},
     "output_type": "display_data"
    }
   ],
   "source": [
    "t['time'] = t['time'] / 60\n",
    "t['bins'] = pd.cut(t['time'], bins=[0,15,30,60,120,360,500],\n",
    "                   labels=[\"0-15\", \"16-30\",\"31-60\",\"61-120\",\"120-360\",\"361+\"])\n",
    "axs = t.groupby(['route_type','bins']).size().unstack(fill_value=0).plot.pie(\n",
    "    subplots=True, figsize=(16, 3),\n",
    "    startangle=0, counterclock=False, title='Main mode by trip duration',\n",
    "    legend=False, labeldistance=None)\n",
    "axs[3].legend()"
   ]
  },
  {
   "cell_type": "code",
   "execution_count": 49,
   "metadata": {},
   "outputs": [],
   "source": [
    "t = None"
   ]
  },
  {
   "cell_type": "code",
   "execution_count": 50,
   "metadata": {},
   "outputs": [
    {
     "name": "stdout",
     "output_type": "stream",
     "text": [
      "(1465597, 30)\n",
      "(1411424, 30)\n"
     ]
    }
   ],
   "source": [
    "# Drop unnecessary long connections if there is a waiting time applied\n",
    "if sm.links['headway'].mean() > 1*60:\n",
    "    sm.pt_los = sm.pt_los.loc[sm.pt_los['ntransfers']<=7]\n",
    "    print(sm.pt_los.shape)\n",
    "    # Drop coach connections with more than one transfer\n",
    "    sm.pt_los = sm.pt_los.loc[~((sm.pt_los['route_type']=='coach') &\n",
    "                                (sm.pt_los['boardings'].apply(\n",
    "                                    lambda l: len([n for n in l if n.startswith('coach')])>2)\n",
    "                                ))]\n",
    "    print(sm.pt_los.shape)"
   ]
  },
  {
   "cell_type": "code",
   "execution_count": 51,
   "metadata": {},
   "outputs": [
    {
     "data": {
      "text/plain": [
       "(730111, 30)"
      ]
     },
     "execution_count": 51,
     "metadata": {},
     "output_type": "execute_result"
    }
   ],
   "source": [
    "# Keep only the fastest trip(s)\n",
    "sm.pt_los['route_types'] = sm.pt_los['route_types'].apply(tuple)\n",
    "sm.pt_los = sm.pt_los.sort_values('time').groupby(\n",
    "    ['origin', 'destination', 'route_types']).nth([0]).reset_index()\n",
    "sm.pt_los.shape"
   ]
  },
  {
   "cell_type": "code",
   "execution_count": 52,
   "metadata": {},
   "outputs": [
    {
     "data": {
      "text/plain": [
       "(729309, 30)"
      ]
     },
     "execution_count": 52,
     "metadata": {},
     "output_type": "execute_result"
    }
   ],
   "source": [
    "# Bus tickets are relatively cheap, but they apply only for short distances\n",
    "# And nobody books tickets at five different bus agencies\n",
    "# Thus, drop bus trips longer than 100km\n",
    "sm.pt_los = sm.pt_los.loc[~((sm.pt_los['route_type']=='bus') & (sm.pt_los['length']>100000))]\n",
    "sm.pt_los.shape"
   ]
  },
  {
   "cell_type": "code",
   "execution_count": 53,
   "metadata": {},
   "outputs": [
    {
     "data": {
      "text/plain": [
       "<AxesSubplot:xlabel='route_types'>"
      ]
     },
     "execution_count": 53,
     "metadata": {},
     "output_type": "execute_result"
    },
    {
     "data": {
      "image/png": "[encoded data removed]",
      "text/plain": [
       "<Figure size 432x288 with 1 Axes>"
      ]
     },
     "metadata": {
      "needs_background": "light"
     },
     "output_type": "display_data"
    }
   ],
   "source": [
    "sm.pt_los.groupby('route_types').count()['route_type'].plot(kind='bar')"
   ]
  },
  {
   "cell_type": "code",
   "execution_count": 54,
   "metadata": {},
   "outputs": [
    {
     "data": {
      "text/plain": [
       "array([<AxesSubplot:title={'center':'time'}>], dtype=object)"
      ]
     },
     "execution_count": 54,
     "metadata": {},
     "output_type": "execute_result"
    },
    {
     "data": {
      "image/png": "[encoded data removed]",
      "text/plain": [
       "<Figure size 288x288 with 1 Axes>"
      ]
     },
     "metadata": {
      "needs_background": "light"
     },
     "output_type": "display_data"
    }
   ],
   "source": [
    "# Time distribution\n",
    "sm.pt_los.hist(column='time', bins=100, log=True, alpha=.5,\n",
    "               ax=sm.pt_los.hist(column='in_vehicle_time', color='green',\n",
    "                                 bins=100, figsize=(4,4), log=True, alpha=.5))"
   ]
  },
  {
   "cell_type": "code",
   "execution_count": 55,
   "metadata": {},
   "outputs": [
    {
     "data": {
      "text/html": [
       "<div>\n",
       "<style scoped>\n",
       "    .dataframe tbody tr th:only-of-type {\n",
       "        vertical-align: middle;\n",
       "    }\n",
       "\n",
       "    .dataframe tbody tr th {\n",
       "        vertical-align: top;\n",
       "    }\n",
       "\n",
       "    .dataframe thead th {\n",
       "        text-align: right;\n",
       "    }\n",
       "</style>\n",
       "<table border=\"1\" class=\"dataframe\">\n",
       "  <thead>\n",
       "    <tr style=\"text-align: right;\">\n",
       "      <th></th>\n",
       "      <th>ntransfers</th>\n",
       "      <th>length</th>\n",
       "      <th>route_types</th>\n",
       "      <th>link_path</th>\n",
       "      <th>gtime</th>\n",
       "      <th>access_time</th>\n",
       "      <th>footpath_time</th>\n",
       "      <th>in_vehicle_time</th>\n",
       "      <th>waiting_time</th>\n",
       "      <th>boarding_time</th>\n",
       "      <th>time</th>\n",
       "    </tr>\n",
       "  </thead>\n",
       "  <tbody>\n",
       "    <tr>\n",
       "      <th>252588</th>\n",
       "      <td>0</td>\n",
       "      <td>243138</td>\n",
       "      <td>(coach,)</td>\n",
       "      <td>[coach_14401]</td>\n",
       "      <td>17387.064122</td>\n",
       "      <td>2124.676031</td>\n",
       "      <td>262.388092</td>\n",
       "      <td>11100</td>\n",
       "      <td>300.0</td>\n",
       "      <td>3600</td>\n",
       "      <td>13787.064122</td>\n",
       "    </tr>\n",
       "    <tr>\n",
       "      <th>252589</th>\n",
       "      <td>0</td>\n",
       "      <td>253129</td>\n",
       "      <td>(rail_long,)</td>\n",
       "      <td>[r_l_1095, r_l_1096]</td>\n",
       "      <td>12314.318580</td>\n",
       "      <td>3010.779478</td>\n",
       "      <td>115.725081</td>\n",
       "      <td>6060</td>\n",
       "      <td>1200.0</td>\n",
       "      <td>1800</td>\n",
       "      <td>10386.504560</td>\n",
       "    </tr>\n",
       "    <tr>\n",
       "      <th>252590</th>\n",
       "      <td>0</td>\n",
       "      <td>275211</td>\n",
       "      <td>(rail_short,)</td>\n",
       "      <td>[r_s_136084, r_s_136085, r_s_136086, r_s_13608...</td>\n",
       "      <td>16262.303522</td>\n",
       "      <td>2575.267143</td>\n",
       "      <td>247.036379</td>\n",
       "      <td>9240</td>\n",
       "      <td>3600.0</td>\n",
       "      <td>600</td>\n",
       "      <td>15662.303522</td>\n",
       "    </tr>\n",
       "  </tbody>\n",
       "</table>\n",
       "</div>"
      ],
      "text/plain": [
       "        ntransfers  length    route_types  \\\n",
       "252588           0  243138       (coach,)   \n",
       "252589           0  253129   (rail_long,)   \n",
       "252590           0  275211  (rail_short,)   \n",
       "\n",
       "                                                link_path         gtime  \\\n",
       "252588                                      [coach_14401]  17387.064122   \n",
       "252589                               [r_l_1095, r_l_1096]  12314.318580   \n",
       "252590  [r_s_136084, r_s_136085, r_s_136086, r_s_13608...  16262.303522   \n",
       "\n",
       "        access_time  footpath_time  in_vehicle_time  waiting_time  \\\n",
       "252588  2124.676031     262.388092            11100         300.0   \n",
       "252589  3010.779478     115.725081             6060        1200.0   \n",
       "252590  2575.267143     247.036379             9240        3600.0   \n",
       "\n",
       "        boarding_time          time  \n",
       "252588           3600  13787.064122  \n",
       "252589           1800  10386.504560  \n",
       "252590            600  15662.303522  "
      ]
     },
     "execution_count": 55,
     "metadata": {},
     "output_type": "execute_result"
    }
   ],
   "source": [
    "# Look at Berlin - Hamburg times\n",
    "sm.pt_los.loc[(sm.pt_los['origin']=='DE300')&(sm.pt_los['destination']=='DE600')][\n",
    "    ['ntransfers', 'length', 'route_types', 'link_path']+[c for c in sm.pt_los.columns if c[-4:]=='time']]"
   ]
  },
  {
   "cell_type": "code",
   "execution_count": 56,
   "metadata": {},
   "outputs": [
    {
     "data": {
      "text/html": [
       "<div>\n",
       "<style scoped>\n",
       "    .dataframe tbody tr th:only-of-type {\n",
       "        vertical-align: middle;\n",
       "    }\n",
       "\n",
       "    .dataframe tbody tr th {\n",
       "        vertical-align: top;\n",
       "    }\n",
       "\n",
       "    .dataframe thead th {\n",
       "        text-align: right;\n",
       "    }\n",
       "</style>\n",
       "<table border=\"1\" class=\"dataframe\">\n",
       "  <thead>\n",
       "    <tr style=\"text-align: right;\">\n",
       "      <th></th>\n",
       "      <th>origin</th>\n",
       "      <th>destination</th>\n",
       "      <th>route_types</th>\n",
       "      <th>gtime</th>\n",
       "      <th>path</th>\n",
       "      <th>reversed</th>\n",
       "      <th>pathfinder_session</th>\n",
       "      <th>broken_modes</th>\n",
       "      <th>boardings</th>\n",
       "      <th>alightings</th>\n",
       "      <th>...</th>\n",
       "      <th>length_link_path</th>\n",
       "      <th>length</th>\n",
       "      <th>access_time</th>\n",
       "      <th>footpath_time</th>\n",
       "      <th>in_vehicle_time</th>\n",
       "      <th>waiting_time</th>\n",
       "      <th>boarding_time</th>\n",
       "      <th>time</th>\n",
       "      <th>route_type</th>\n",
       "      <th>price</th>\n",
       "    </tr>\n",
       "  </thead>\n",
       "  <tbody>\n",
       "    <tr>\n",
       "      <th>2012</th>\n",
       "      <td>DE112</td>\n",
       "      <td>DE111</td>\n",
       "      <td>(bus,)</td>\n",
       "      <td>4539.956525</td>\n",
       "      <td>(DE112, coach_n_FLIXBUS:4278, r_s_n_7349, bus_...</td>\n",
       "      <td>False</td>\n",
       "      <td>mode_breaker</td>\n",
       "      <td>{air, rail_long, rail_short}</td>\n",
       "      <td>[bus_n_222552, bus_n_301561, bus_n_310057]</td>\n",
       "      <td>[bus_n_4318, bus_n_310057, bus_n_145916]</td>\n",
       "      <td>...</td>\n",
       "      <td>11131</td>\n",
       "      <td>11131</td>\n",
       "      <td>2146.386458</td>\n",
       "      <td>474.570067</td>\n",
       "      <td>780</td>\n",
       "      <td>1139.0</td>\n",
       "      <td>0</td>\n",
       "      <td>4539.956525</td>\n",
       "      <td>bus</td>\n",
       "      <td>0</td>\n",
       "    </tr>\n",
       "    <tr>\n",
       "      <th>2013</th>\n",
       "      <td>DE112</td>\n",
       "      <td>DE111</td>\n",
       "      <td>(coach,)</td>\n",
       "      <td>16096.386458</td>\n",
       "      <td>(DE112, coach_n_FLIXBUS:4278, coach_1875, coac...</td>\n",
       "      <td>False</td>\n",
       "      <td>mode_breaker</td>\n",
       "      <td>{air, rail_long, rail_short, bus}</td>\n",
       "      <td>[coach_n_FLIXBUS:4278, coach_n_FLIXBUS:8058]</td>\n",
       "      <td>[coach_n_FLIXBUS:8058, coach_n_FLIXBUS:17]</td>\n",
       "      <td>...</td>\n",
       "      <td>39321</td>\n",
       "      <td>39321</td>\n",
       "      <td>2146.386458</td>\n",
       "      <td>0.000000</td>\n",
       "      <td>4500</td>\n",
       "      <td>2250.0</td>\n",
       "      <td>7200</td>\n",
       "      <td>8896.386458</td>\n",
       "      <td>coach</td>\n",
       "      <td>0</td>\n",
       "    </tr>\n",
       "    <tr>\n",
       "      <th>2014</th>\n",
       "      <td>DE112</td>\n",
       "      <td>DE111</td>\n",
       "      <td>(rail_long,)</td>\n",
       "      <td>7032.170052</td>\n",
       "      <td>(DE112, coach_n_FLIXBUS:4278, r_l_n_601, r_l_6...</td>\n",
       "      <td>False</td>\n",
       "      <td>mode_breaker</td>\n",
       "      <td>{air, rail_short, bus}</td>\n",
       "      <td>[]</td>\n",
       "      <td>[]</td>\n",
       "      <td>...</td>\n",
       "      <td>16857</td>\n",
       "      <td>16857</td>\n",
       "      <td>2577.510522</td>\n",
       "      <td>71.226490</td>\n",
       "      <td>1200</td>\n",
       "      <td>1200.0</td>\n",
       "      <td>1800</td>\n",
       "      <td>5048.737012</td>\n",
       "      <td>rail_long</td>\n",
       "      <td>0</td>\n",
       "    </tr>\n",
       "    <tr>\n",
       "      <th>2015</th>\n",
       "      <td>DE112</td>\n",
       "      <td>DE111</td>\n",
       "      <td>(rail_short,)</td>\n",
       "      <td>4150.027729</td>\n",
       "      <td>(DE112, coach_n_FLIXBUS:4278, r_l_n_1033, bus_...</td>\n",
       "      <td>False</td>\n",
       "      <td>mode_breaker</td>\n",
       "      <td>{air, rail_long}</td>\n",
       "      <td>[r_s_n_2800]</td>\n",
       "      <td>[r_s_n_13489]</td>\n",
       "      <td>...</td>\n",
       "      <td>9427</td>\n",
       "      <td>9427</td>\n",
       "      <td>2146.386458</td>\n",
       "      <td>244.872469</td>\n",
       "      <td>540</td>\n",
       "      <td>475.0</td>\n",
       "      <td>600</td>\n",
       "      <td>3406.258927</td>\n",
       "      <td>rail_short</td>\n",
       "      <td>0</td>\n",
       "    </tr>\n",
       "  </tbody>\n",
       "</table>\n",
       "<p>4 rows × 30 columns</p>\n",
       "</div>"
      ],
      "text/plain": [
       "     origin destination    route_types         gtime  \\\n",
       "2012  DE112       DE111         (bus,)   4539.956525   \n",
       "2013  DE112       DE111       (coach,)  16096.386458   \n",
       "2014  DE112       DE111   (rail_long,)   7032.170052   \n",
       "2015  DE112       DE111  (rail_short,)   4150.027729   \n",
       "\n",
       "                                                   path  reversed  \\\n",
       "2012  (DE112, coach_n_FLIXBUS:4278, r_s_n_7349, bus_...     False   \n",
       "2013  (DE112, coach_n_FLIXBUS:4278, coach_1875, coac...     False   \n",
       "2014  (DE112, coach_n_FLIXBUS:4278, r_l_n_601, r_l_6...     False   \n",
       "2015  (DE112, coach_n_FLIXBUS:4278, r_l_n_1033, bus_...     False   \n",
       "\n",
       "     pathfinder_session                       broken_modes  \\\n",
       "2012       mode_breaker       {air, rail_long, rail_short}   \n",
       "2013       mode_breaker  {air, rail_long, rail_short, bus}   \n",
       "2014       mode_breaker             {air, rail_short, bus}   \n",
       "2015       mode_breaker                   {air, rail_long}   \n",
       "\n",
       "                                         boardings  \\\n",
       "2012    [bus_n_222552, bus_n_301561, bus_n_310057]   \n",
       "2013  [coach_n_FLIXBUS:4278, coach_n_FLIXBUS:8058]   \n",
       "2014                                            []   \n",
       "2015                                  [r_s_n_2800]   \n",
       "\n",
       "                                      alightings  ... length_link_path length  \\\n",
       "2012    [bus_n_4318, bus_n_310057, bus_n_145916]  ...            11131  11131   \n",
       "2013  [coach_n_FLIXBUS:8058, coach_n_FLIXBUS:17]  ...            39321  39321   \n",
       "2014                                          []  ...            16857  16857   \n",
       "2015                               [r_s_n_13489]  ...             9427   9427   \n",
       "\n",
       "      access_time footpath_time in_vehicle_time waiting_time boarding_time  \\\n",
       "2012  2146.386458    474.570067             780       1139.0             0   \n",
       "2013  2146.386458      0.000000            4500       2250.0          7200   \n",
       "2014  2577.510522     71.226490            1200       1200.0          1800   \n",
       "2015  2146.386458    244.872469             540        475.0           600   \n",
       "\n",
       "             time  route_type  price  \n",
       "2012  4539.956525         bus      0  \n",
       "2013  8896.386458       coach      0  \n",
       "2014  5048.737012   rail_long      0  \n",
       "2015  3406.258927  rail_short      0  \n",
       "\n",
       "[4 rows x 30 columns]"
      ]
     },
     "execution_count": 56,
     "metadata": {},
     "output_type": "execute_result"
    }
   ],
   "source": [
    "# Stuttgart and surrounding?\n",
    "sm.pt_los.loc[(sm.pt_los['origin']=='DE112')&(sm.pt_los['destination']=='DE111')]"
   ]
  },
  {
   "cell_type": "code",
   "execution_count": 57,
   "metadata": {},
   "outputs": [
    {
     "data": {
      "text/plain": [
       "720074"
      ]
     },
     "execution_count": 57,
     "metadata": {},
     "output_type": "execute_result"
    }
   ],
   "source": [
    "# Keep only trips where in-vehicle-time makes at least a third\n",
    "#sm.pt_los = sm.pt_los.loc[sm.pt_los['time']<sm.pt_los['in_vehicle_time']*3]\n",
    "#sm.pt_los.shape\n",
    "len(sm.pt_los.loc[sm.pt_los['time']<sm.pt_los['in_vehicle_time']*3])"
   ]
  },
  {
   "cell_type": "code",
   "execution_count": 58,
   "metadata": {},
   "outputs": [
    {
     "data": {
      "text/html": [
       "<div>\n",
       "<style scoped>\n",
       "    .dataframe tbody tr th:only-of-type {\n",
       "        vertical-align: middle;\n",
       "    }\n",
       "\n",
       "    .dataframe tbody tr th {\n",
       "        vertical-align: top;\n",
       "    }\n",
       "\n",
       "    .dataframe thead th {\n",
       "        text-align: right;\n",
       "    }\n",
       "</style>\n",
       "<table border=\"1\" class=\"dataframe\">\n",
       "  <thead>\n",
       "    <tr style=\"text-align: right;\">\n",
       "      <th></th>\n",
       "      <th>origin</th>\n",
       "      <th>destination</th>\n",
       "      <th>route_types</th>\n",
       "      <th>gtime</th>\n",
       "      <th>path</th>\n",
       "      <th>reversed</th>\n",
       "      <th>pathfinder_session</th>\n",
       "      <th>broken_modes</th>\n",
       "      <th>boardings</th>\n",
       "      <th>alightings</th>\n",
       "      <th>...</th>\n",
       "      <th>length_link_path</th>\n",
       "      <th>length</th>\n",
       "      <th>access_time</th>\n",
       "      <th>footpath_time</th>\n",
       "      <th>in_vehicle_time</th>\n",
       "      <th>waiting_time</th>\n",
       "      <th>boarding_time</th>\n",
       "      <th>time</th>\n",
       "      <th>route_type</th>\n",
       "      <th>price</th>\n",
       "    </tr>\n",
       "  </thead>\n",
       "  <tbody>\n",
       "  </tbody>\n",
       "</table>\n",
       "<p>0 rows × 30 columns</p>\n",
       "</div>"
      ],
      "text/plain": [
       "Empty DataFrame\n",
       "Columns: [origin, destination, route_types, gtime, path, reversed, pathfinder_session, broken_modes, boardings, alightings, node_path, link_path, footpaths, ntlegs, transfers, boarding_links, alighting_links, all_walk, ntransfers, time_link_path, length_link_path, length, access_time, footpath_time, in_vehicle_time, waiting_time, boarding_time, time, route_type, price]\n",
       "Index: []\n",
       "\n",
       "[0 rows x 30 columns]"
      ]
     },
     "execution_count": 58,
     "metadata": {},
     "output_type": "execute_result"
    }
   ],
   "source": [
    "sm.pt_los.loc[sm.pt_los.isna().any(axis=1)]"
   ]
  },
  {
   "cell_type": "markdown",
   "metadata": {},
   "source": [
    "### Save model"
   ]
  },
  {
   "cell_type": "code",
   "execution_count": 59,
   "metadata": {},
   "outputs": [],
   "source": [
    "# Ditch unneccessary columns\n",
    "to_drop = ['gtime', 'path', 'reversed', 'pathfinder_session',\n",
    "           'broken_modes', 'boardings', 'alightings', 'node_path',\n",
    "           'footpaths', 'ntlegs', 'transfers', 'boarding_links',\n",
    "           'alighting_links', 'all_walk', 'time_link_path',\n",
    "           'length_link_path', 'boarding_time', 'index']\n",
    "sm.pt_los = sm.pt_los.drop(to_drop, axis=1, errors='ignore')"
   ]
  },
  {
   "cell_type": "code",
   "execution_count": 60,
   "metadata": {},
   "outputs": [],
   "source": [
    "# Clean links table\n",
    "to_drop = ['duration', 'cost', 'origin', 'destination']\n",
    "sm.links = sm.links.drop(to_drop, axis=1, errors='ignore')"
   ]
  },
  {
   "cell_type": "code",
   "execution_count": 61,
   "metadata": {},
   "outputs": [],
   "source": [
    "# Make table smaller\n",
    "cols = ['time', 'access_time', 'in_vehicle_time', 'footpath_time',\n",
    "        'waiting_time', 'length']\n",
    "sm.pt_los[cols] = sm.pt_los[cols].astype(int)"
   ]
  },
  {
   "cell_type": "code",
   "execution_count": 62,
   "metadata": {},
   "outputs": [
    {
     "data": {
      "text/html": [
       "<div>\n",
       "<style scoped>\n",
       "    .dataframe tbody tr th:only-of-type {\n",
       "        vertical-align: middle;\n",
       "    }\n",
       "\n",
       "    .dataframe tbody tr th {\n",
       "        vertical-align: top;\n",
       "    }\n",
       "\n",
       "    .dataframe thead th {\n",
       "        text-align: right;\n",
       "    }\n",
       "</style>\n",
       "<table border=\"1\" class=\"dataframe\">\n",
       "  <thead>\n",
       "    <tr style=\"text-align: right;\">\n",
       "      <th></th>\n",
       "      <th>origin</th>\n",
       "      <th>destination</th>\n",
       "      <th>route_types</th>\n",
       "      <th>link_path</th>\n",
       "      <th>ntransfers</th>\n",
       "      <th>length</th>\n",
       "      <th>access_time</th>\n",
       "      <th>footpath_time</th>\n",
       "      <th>in_vehicle_time</th>\n",
       "      <th>waiting_time</th>\n",
       "      <th>time</th>\n",
       "      <th>route_type</th>\n",
       "      <th>price</th>\n",
       "    </tr>\n",
       "  </thead>\n",
       "  <tbody>\n",
       "    <tr>\n",
       "      <th>51565</th>\n",
       "      <td>DE134</td>\n",
       "      <td>DE21L</td>\n",
       "      <td>(rail_long, bus)</td>\n",
       "      <td>[r_l_4382, r_l_4383, r_l_4384, r_l_4385, r_l_4...</td>\n",
       "      <td>3</td>\n",
       "      <td>348910</td>\n",
       "      <td>2268</td>\n",
       "      <td>434</td>\n",
       "      <td>12420</td>\n",
       "      <td>2601</td>\n",
       "      <td>17725</td>\n",
       "      <td>rail_long</td>\n",
       "      <td>0</td>\n",
       "    </tr>\n",
       "  </tbody>\n",
       "</table>\n",
       "</div>"
      ],
      "text/plain": [
       "      origin destination       route_types  \\\n",
       "51565  DE134       DE21L  (rail_long, bus)   \n",
       "\n",
       "                                               link_path  ntransfers  length  \\\n",
       "51565  [r_l_4382, r_l_4383, r_l_4384, r_l_4385, r_l_4...           3  348910   \n",
       "\n",
       "       access_time  footpath_time  in_vehicle_time  waiting_time   time  \\\n",
       "51565         2268            434            12420          2601  17725   \n",
       "\n",
       "      route_type  price  \n",
       "51565  rail_long      0  "
      ]
     },
     "execution_count": 62,
     "metadata": {},
     "output_type": "execute_result"
    }
   ],
   "source": [
    "sm.pt_los.sample()"
   ]
  },
  {
   "cell_type": "code",
   "execution_count": 63,
   "metadata": {},
   "outputs": [
    {
     "name": "stderr",
     "output_type": "stream",
     "text": [
      "to_hdf(overwriting): 100%|█████████████████████████████████████████████████████████████| 35/35 [00:32<00:00,  1.07it/s]\n"
     ]
    }
   ],
   "source": [
    "# Saving LoS...\n",
    "sm.to_json(model_path + 'de_pt_los', only_attributes=['pt_los'],\n",
    "           encoding='utf-8')"
   ]
  },
  {
   "cell_type": "code",
   "execution_count": 66,
   "metadata": {},
   "outputs": [
    {
     "name": "stdout",
     "output_type": "stream",
     "text": [
      "Not neccessary to save\n"
     ]
    }
   ],
   "source": [
    "'''# Split links in graph and auxiliary information\n",
    "# for file sizes being compatible with github's size limit\n",
    "cols = ['link_sequence', 'route_id', 'time', 'trip_id', 'length', 'headway']\n",
    "if 'route_type_disagg' in sm.links.columns: cols.append('route_type_disagg')\n",
    "if 'boarding_time' in sm.links.columns: cols.append('boarding_time')\n",
    "auxiliary = sm.links[cols]\n",
    "sm.links.drop(cols, axis=1, inplace=True)\n",
    "# Save PT network model\n",
    "sm.to_json(model_path + 'de_pt_network_agg', only_attributes=[\n",
    "    'zones', 'links', 'nodes', 'pt_route_types'],\n",
    "           encoding='utf-8')\n",
    "# Save auxiliary information seperately\n",
    "auxiliary['index'] = auxiliary.index\n",
    "auxiliary.reset_index(drop=True, inplace=True)\n",
    "auxiliary.to_json(model_path + 'de_pt_network_agg/links_quetzaldata.json')'''\n",
    "print('Not neccessary to save')"
   ]
  }
 ],
 "metadata": {
  "kernelspec": {
   "display_name": "Python 3",
   "language": "python",
   "name": "python3"
  },
  "language_info": {
   "codemirror_mode": {
    "name": "ipython",
    "version": 3
   },
   "file_extension": ".py",
   "mimetype": "text/x-python",
   "name": "python",
   "nbconvert_exporter": "python",
   "pygments_lexer": "ipython3",
   "version": "3.8.1"
  }
 },
 "nbformat": 4,
 "nbformat_minor": 2
}
