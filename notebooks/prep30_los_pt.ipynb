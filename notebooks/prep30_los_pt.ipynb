{
 "cells": [
  {
   "cell_type": "code",
   "execution_count": 1,
   "metadata": {},
   "outputs": [
    {
     "name": "stderr",
     "output_type": "stream",
     "text": [
      "In C:\\Users\\marlin.arnz\\AppData\\Local\\Continuum\\miniconda3\\envs\\quetzal\\lib\\site-packages\\matplotlib\\mpl-data\\stylelib\\_classic_test.mplstyle: \n",
      "The text.latex.preview rcparam was deprecated in Matplotlib 3.3 and will be removed two minor releases later.\n",
      "In C:\\Users\\marlin.arnz\\AppData\\Local\\Continuum\\miniconda3\\envs\\quetzal\\lib\\site-packages\\matplotlib\\mpl-data\\stylelib\\_classic_test.mplstyle: \n",
      "The mathtext.fallback_to_cm rcparam was deprecated in Matplotlib 3.3 and will be removed two minor releases later.\n",
      "In C:\\Users\\marlin.arnz\\AppData\\Local\\Continuum\\miniconda3\\envs\\quetzal\\lib\\site-packages\\matplotlib\\mpl-data\\stylelib\\_classic_test.mplstyle: Support for setting the 'mathtext.fallback_to_cm' rcParam is deprecated since 3.3 and will be removed two minor releases later; use 'mathtext.fallback : 'cm' instead.\n",
      "In C:\\Users\\marlin.arnz\\AppData\\Local\\Continuum\\miniconda3\\envs\\quetzal\\lib\\site-packages\\matplotlib\\mpl-data\\stylelib\\_classic_test.mplstyle: \n",
      "The validate_bool_maybe_none function was deprecated in Matplotlib 3.3 and will be removed two minor releases later.\n",
      "In C:\\Users\\marlin.arnz\\AppData\\Local\\Continuum\\miniconda3\\envs\\quetzal\\lib\\site-packages\\matplotlib\\mpl-data\\stylelib\\_classic_test.mplstyle: \n",
      "The savefig.jpeg_quality rcparam was deprecated in Matplotlib 3.3 and will be removed two minor releases later.\n",
      "In C:\\Users\\marlin.arnz\\AppData\\Local\\Continuum\\miniconda3\\envs\\quetzal\\lib\\site-packages\\matplotlib\\mpl-data\\stylelib\\_classic_test.mplstyle: \n",
      "The keymap.all_axes rcparam was deprecated in Matplotlib 3.3 and will be removed two minor releases later.\n",
      "In C:\\Users\\marlin.arnz\\AppData\\Local\\Continuum\\miniconda3\\envs\\quetzal\\lib\\site-packages\\matplotlib\\mpl-data\\stylelib\\_classic_test.mplstyle: \n",
      "The animation.avconv_path rcparam was deprecated in Matplotlib 3.3 and will be removed two minor releases later.\n",
      "In C:\\Users\\marlin.arnz\\AppData\\Local\\Continuum\\miniconda3\\envs\\quetzal\\lib\\site-packages\\matplotlib\\mpl-data\\stylelib\\_classic_test.mplstyle: \n",
      "The animation.avconv_args rcparam was deprecated in Matplotlib 3.3 and will be removed two minor releases later.\n"
     ]
    }
   ],
   "source": [
    "import numpy as np\n",
    "import pandas as pd\n",
    "from tqdm import tqdm\n",
    "from geopy.distance import geodesic\n",
    "from quetzal.model import stepmodel\n",
    "from quetzal.analysis import analysis"
   ]
  },
  {
   "cell_type": "markdown",
   "metadata": {},
   "source": [
    "# Preparation of the LoS tables\n",
    "## Saves a StepModel with shortest paths and LoS attributes for the PT network\n",
    "## Needs aggregated PT networks"
   ]
  },
  {
   "cell_type": "code",
   "execution_count": 2,
   "metadata": {},
   "outputs": [],
   "source": [
    "input_path = '../input/'\n",
    "output_path = '../output/'\n",
    "model_path = '../model/'"
   ]
  },
  {
   "cell_type": "code",
   "execution_count": 3,
   "metadata": {},
   "outputs": [],
   "source": [
    "sm = stepmodel.read_json(model_path + 'de_pt_network_agg')\n",
    "ae = stepmodel.read_json(model_path + 'de_pt_access_egress')"
   ]
  },
  {
   "cell_type": "code",
   "execution_count": 4,
   "metadata": {},
   "outputs": [],
   "source": [
    "sm.centroids = ae.centroids\n",
    "sm.footpaths = ae.footpaths\n",
    "sm.zone_to_transit = ae.zone_to_transit"
   ]
  },
  {
   "cell_type": "markdown",
   "metadata": {},
   "source": [
    "### Prepare links for pathfinder"
   ]
  },
  {
   "cell_type": "code",
   "execution_count": 5,
   "metadata": {},
   "outputs": [],
   "source": [
    "# Generate length for PT links as the crow flies\n",
    "if 'length' not in sm.links.columns:\n",
    "    tqdm.pandas()\n",
    "    sm.links['length'] = sm.links['geometry'].progress_apply(\n",
    "        lambda l: int(geodesic(l.coords[0], l.coords[-1]).m))"
   ]
  },
  {
   "cell_type": "code",
   "execution_count": 6,
   "metadata": {},
   "outputs": [],
   "source": [
    "# Add average waiting time (half the headway) on links\n",
    "if True:#'headway' not in sm.links.columns:\n",
    "    sm.links['headway'] = 10*60*2\n",
    "    # Air trips require security checks and so on...\n",
    "    sm.links.loc[sm.links['route_type']=='air', 'headway'] = 45*60*2"
   ]
  },
  {
   "cell_type": "code",
   "execution_count": 7,
   "metadata": {},
   "outputs": [
    {
     "data": {
      "text/html": [
       "<div>\n",
       "<style scoped>\n",
       "    .dataframe tbody tr th:only-of-type {\n",
       "        vertical-align: middle;\n",
       "    }\n",
       "\n",
       "    .dataframe tbody tr th {\n",
       "        vertical-align: top;\n",
       "    }\n",
       "\n",
       "    .dataframe thead th {\n",
       "        text-align: right;\n",
       "    }\n",
       "</style>\n",
       "<table border=\"1\" class=\"dataframe\">\n",
       "  <thead>\n",
       "    <tr style=\"text-align: right;\">\n",
       "      <th></th>\n",
       "      <th>a</th>\n",
       "      <th>b</th>\n",
       "      <th>route_type</th>\n",
       "      <th>geometry</th>\n",
       "      <th>link_sequence</th>\n",
       "      <th>route_id</th>\n",
       "      <th>time</th>\n",
       "      <th>trip_id</th>\n",
       "      <th>length</th>\n",
       "      <th>headway</th>\n",
       "      <th>price</th>\n",
       "    </tr>\n",
       "    <tr>\n",
       "      <th>index</th>\n",
       "      <th></th>\n",
       "      <th></th>\n",
       "      <th></th>\n",
       "      <th></th>\n",
       "      <th></th>\n",
       "      <th></th>\n",
       "      <th></th>\n",
       "      <th></th>\n",
       "      <th></th>\n",
       "      <th></th>\n",
       "      <th></th>\n",
       "    </tr>\n",
       "  </thead>\n",
       "  <tbody>\n",
       "    <tr>\n",
       "      <th>bus_73768</th>\n",
       "      <td>bus_n_300615</td>\n",
       "      <td>bus_n_79727</td>\n",
       "      <td>bus</td>\n",
       "      <td>LINESTRING (11.92199 51.47435, 11.92189 51.46992)</td>\n",
       "      <td>1</td>\n",
       "      <td>bus_11958</td>\n",
       "      <td>120</td>\n",
       "      <td>bus_6236</td>\n",
       "      <td>483</td>\n",
       "      <td>1200</td>\n",
       "      <td>0.0</td>\n",
       "    </tr>\n",
       "  </tbody>\n",
       "</table>\n",
       "</div>"
      ],
      "text/plain": [
       "                      a            b route_type  \\\n",
       "index                                             \n",
       "bus_73768  bus_n_300615  bus_n_79727        bus   \n",
       "\n",
       "                                                    geometry  link_sequence  \\\n",
       "index                                                                         \n",
       "bus_73768  LINESTRING (11.92199 51.47435, 11.92189 51.46992)              1   \n",
       "\n",
       "            route_id  time   trip_id  length  headway  price  \n",
       "index                                                         \n",
       "bus_73768  bus_11958   120  bus_6236     483     1200    0.0  "
      ]
     },
     "execution_count": 7,
     "metadata": {},
     "output_type": "execute_result"
    }
   ],
   "source": [
    "sm.links.sample()"
   ]
  },
  {
   "cell_type": "code",
   "execution_count": 8,
   "metadata": {},
   "outputs": [],
   "source": [
    "assert not sm.footpaths.empty, 'Footpaths must be defined in a previous step'"
   ]
  },
  {
   "cell_type": "code",
   "execution_count": 9,
   "metadata": {},
   "outputs": [
    {
     "name": "stdout",
     "output_type": "stream",
     "text": [
      "Generated OD set with 160801 pairs\n"
     ]
    }
   ],
   "source": [
    "# Load OD pairs from volumes if available\n",
    "od_set = None\n",
    "try:\n",
    "    v = stepmodel.read_json(model_path + 'de_volumes')\n",
    "    od_set = set([tuple(l) for l in v.volumes[['origin', 'destination']].values.tolist()])\n",
    "    print('Generated OD set with {} pairs'.format(len(od_set)))\n",
    "except:\n",
    "    print('The volumes file is not (yet) available')"
   ]
  },
  {
   "cell_type": "markdown",
   "metadata": {},
   "source": [
    "### Apply PT pathfinder\n",
    "It generates the LoS table with shortest paths for each origin destination pair"
   ]
  },
  {
   "cell_type": "code",
   "execution_count": 10,
   "metadata": {
    "scrolled": false
   },
   "outputs": [
    {
     "data": {
      "text/plain": [
       "\"This cell would run all possible mode combinations\\nsm.step_pt_pathfinder(\\n    broken_routes=False,\\n    broken_modes=True, # Allow different mode combinations\\n    route_column='route_id',\\n    mode_column='route_type',\\n    boarding_time=0, # Assumption\\n    alighting_time=0,\\n    speedup=True,\\n    walk_on_road=False,\\n    keep_pathfinder=False, # Saves it as attribute for multiple iterations\\n    force=False, # If indices are inconsistent\\n    path_analysis=True, # Create path, time and length columns\\n    drop_duplicates=True, # Considering duplicate paths\\n    cutoff=np.inf, # distance limit between points for Dijkstra algorithm\\n    od_set=od_set) # Exclude OD pairs that are not used\""
      ]
     },
     "execution_count": 10,
     "metadata": {},
     "output_type": "execute_result"
    }
   ],
   "source": [
    "'''This cell would run all possible mode combinations\n",
    "sm.step_pt_pathfinder(\n",
    "    broken_routes=False,\n",
    "    broken_modes=True, # Allow different mode combinations\n",
    "    route_column='route_id',\n",
    "    mode_column='route_type',\n",
    "    boarding_time=0, # Assumption\n",
    "    alighting_time=0,\n",
    "    speedup=True,\n",
    "    walk_on_road=False,\n",
    "    keep_pathfinder=False, # Saves it as attribute for multiple iterations\n",
    "    force=False, # If indices are inconsistent\n",
    "    path_analysis=True, # Create path, time and length columns\n",
    "    drop_duplicates=True, # Considering duplicate paths\n",
    "    cutoff=np.inf, # distance limit between points for Dijkstra algorithm\n",
    "    od_set=od_set) # Exclude OD pairs that are not used'''"
   ]
  },
  {
   "cell_type": "code",
   "execution_count": 11,
   "metadata": {},
   "outputs": [],
   "source": [
    "# We don't want the algorithm to search paths for all mode combinations.\n",
    "# Thus, we have to extract the pathfinder and search them manually.\n",
    "# This step yields shortest paths regardless of the mode combination.\n",
    "sm.step_pt_pathfinder(\n",
    "    broken_routes=False,\n",
    "    broken_modes=False,\n",
    "    keep_pathfinder=True, # get the PPF\n",
    "    mode_column='route_type',\n",
    "    route_column='route_id',\n",
    "    speedup=True,\n",
    "    cutoff=np.inf,\n",
    "    walk_on_road=False,\n",
    "    od_set=od_set,\n",
    "    path_analysis=False,\n",
    ")\n",
    "ppf = sm.publicpathfinder"
   ]
  },
  {
   "cell_type": "code",
   "execution_count": 12,
   "metadata": {},
   "outputs": [
    {
     "data": {
      "text/plain": [
       "158805"
      ]
     },
     "execution_count": 12,
     "metadata": {},
     "output_type": "execute_result"
    }
   ],
   "source": [
    "len(sm.pt_los)"
   ]
  },
  {
   "cell_type": "code",
   "execution_count": 13,
   "metadata": {},
   "outputs": [
    {
     "data": {
      "text/plain": [
       "[{'air', 'bus', 'rail_long_distance', 'rail_short_distance'},\n",
       " {'air', 'bus', 'rail_long_distance'},\n",
       " {'air', 'bus', 'rail_short_distance'},\n",
       " {'air', 'bus'},\n",
       " {'air', 'rail_long_distance', 'rail_short_distance'},\n",
       " {'air', 'rail_long_distance'},\n",
       " {'air', 'rail_short_distance'},\n",
       " {'air'},\n",
       " {'bus', 'coach'},\n",
       " {'bus', 'rail_long_distance', 'rail_short_distance'},\n",
       " {'bus', 'rail_long_distance'},\n",
       " {'bus', 'rail_short_distance'},\n",
       " {'bus'},\n",
       " {'coach'},\n",
       " {'rail_long_distance', 'rail_short_distance'},\n",
       " {'rail_long_distance'},\n",
       " {'rail_short_distance'},\n",
       " set()]"
      ]
     },
     "execution_count": 13,
     "metadata": {},
     "output_type": "execute_result"
    }
   ],
   "source": [
    "# Now, build custom mode combinations\n",
    "# People just don't go by coach and then switch to rail or airplane within Germany\n",
    "ppf.build_mode_combinations(mode_column='route_type')\n",
    "ppf.mode_combinations = [x for x in ppf.mode_combinations\n",
    "                         if not ('coach' in x and\n",
    "                         ('rail_long_distance' in x or\n",
    "                          'rail_short_distance' in x or\n",
    "                          'air' in x))]\n",
    "ppf.mode_combinations"
   ]
  },
  {
   "cell_type": "code",
   "execution_count": 14,
   "metadata": {},
   "outputs": [
    {
     "name": "stderr",
     "output_type": "stream",
     "text": [
      "breaking modes: set() : 100%|█████████████████████████████████████████████████████████| 18/18 [37:37<00:00, 125.40s/it]\n"
     ]
    }
   ],
   "source": [
    "# Run the pathfinder for all mode combinations\n",
    "ppf.find_broken_mode_paths(workers=3, # CPU cores\n",
    "                           cutoff=np.inf,\n",
    "                           od_set=od_set,\n",
    "                           mode_column='route_type')"
   ]
  },
  {
   "cell_type": "code",
   "execution_count": 15,
   "metadata": {},
   "outputs": [
    {
     "data": {
      "text/html": [
       "<div>\n",
       "<style scoped>\n",
       "    .dataframe tbody tr th:only-of-type {\n",
       "        vertical-align: middle;\n",
       "    }\n",
       "\n",
       "    .dataframe tbody tr th {\n",
       "        vertical-align: top;\n",
       "    }\n",
       "\n",
       "    .dataframe thead th {\n",
       "        text-align: right;\n",
       "    }\n",
       "</style>\n",
       "<table border=\"1\" class=\"dataframe\">\n",
       "  <thead>\n",
       "    <tr style=\"text-align: right;\">\n",
       "      <th></th>\n",
       "      <th>origin</th>\n",
       "      <th>destination</th>\n",
       "      <th>gtime</th>\n",
       "      <th>path</th>\n",
       "      <th>reversed</th>\n",
       "      <th>pathfinder_session</th>\n",
       "      <th>broken_modes</th>\n",
       "    </tr>\n",
       "  </thead>\n",
       "  <tbody>\n",
       "    <tr>\n",
       "      <th>20897</th>\n",
       "      <td>DE219</td>\n",
       "      <td>DE212</td>\n",
       "      <td>9033.305882</td>\n",
       "      <td>[DE219, rail_short_node_8537, bus_n_251486, bu...</td>\n",
       "      <td>False</td>\n",
       "      <td>mode_breaker</td>\n",
       "      <td>{air, rail_short_distance, rail_long_distance}</td>\n",
       "    </tr>\n",
       "  </tbody>\n",
       "</table>\n",
       "</div>"
      ],
      "text/plain": [
       "      origin destination        gtime  \\\n",
       "20897  DE219       DE212  9033.305882   \n",
       "\n",
       "                                                    path  reversed  \\\n",
       "20897  [DE219, rail_short_node_8537, bus_n_251486, bu...     False   \n",
       "\n",
       "      pathfinder_session                                    broken_modes  \n",
       "20897       mode_breaker  {air, rail_short_distance, rail_long_distance}  "
      ]
     },
     "execution_count": 15,
     "metadata": {},
     "output_type": "execute_result"
    }
   ],
   "source": [
    "ppf.broken_mode_paths.sample()"
   ]
  },
  {
   "cell_type": "code",
   "execution_count": 16,
   "metadata": {},
   "outputs": [
    {
     "name": "stderr",
     "output_type": "stream",
     "text": [
      "path_analysis: 100%|██████████████████████████████████████████████████████| 2426183/2426183 [02:27<00:00, 16465.48it/s]\n"
     ]
    }
   ],
   "source": [
    "# Run the path analysis and assign paths as LoS table\n",
    "sm.pt_los = analysis.path_analysis_od_matrix(\n",
    "    od_matrix=ppf.broken_mode_paths,\n",
    "    links=sm.links,\n",
    "    nodes=sm.nodes,\n",
    "    centroids=sm.centroids)"
   ]
  },
  {
   "cell_type": "code",
   "execution_count": 17,
   "metadata": {},
   "outputs": [
    {
     "name": "stdout",
     "output_type": "stream",
     "text": [
      "2426183\n"
     ]
    },
    {
     "data": {
      "text/html": [
       "<div>\n",
       "<style scoped>\n",
       "    .dataframe tbody tr th:only-of-type {\n",
       "        vertical-align: middle;\n",
       "    }\n",
       "\n",
       "    .dataframe tbody tr th {\n",
       "        vertical-align: top;\n",
       "    }\n",
       "\n",
       "    .dataframe thead th {\n",
       "        text-align: right;\n",
       "    }\n",
       "</style>\n",
       "<table border=\"1\" class=\"dataframe\">\n",
       "  <thead>\n",
       "    <tr style=\"text-align: right;\">\n",
       "      <th></th>\n",
       "      <th>origin</th>\n",
       "      <th>destination</th>\n",
       "      <th>gtime</th>\n",
       "      <th>path</th>\n",
       "      <th>reversed</th>\n",
       "      <th>pathfinder_session</th>\n",
       "      <th>broken_modes</th>\n",
       "      <th>boardings</th>\n",
       "      <th>alightings</th>\n",
       "      <th>node_path</th>\n",
       "      <th>link_path</th>\n",
       "      <th>footpaths</th>\n",
       "      <th>ntlegs</th>\n",
       "      <th>transfers</th>\n",
       "      <th>boarding_links</th>\n",
       "      <th>alighting_links</th>\n",
       "      <th>all_walk</th>\n",
       "      <th>ntransfers</th>\n",
       "      <th>time_link_path</th>\n",
       "      <th>length_link_path</th>\n",
       "    </tr>\n",
       "  </thead>\n",
       "  <tbody>\n",
       "    <tr>\n",
       "      <th>3477</th>\n",
       "      <td>DE119</td>\n",
       "      <td>DEA33</td>\n",
       "      <td>28104.988235</td>\n",
       "      <td>[DE119, coach_node_FLIXBUS:46381, coach_352, c...</td>\n",
       "      <td>False</td>\n",
       "      <td>mode_breaker</td>\n",
       "      <td>{air, rail_short_distance, rail_long_distance}</td>\n",
       "      <td>[coach_node_FLIXBUS:46381, coach_node_FLIXBUS:...</td>\n",
       "      <td>[coach_node_FLIXBUS:12798, coach_node_FLIXBUS:...</td>\n",
       "      <td>[coach_node_FLIXBUS:46381, coach_node_FLIXBUS:...</td>\n",
       "      <td>[coach_352, coach_324, coach_325, coach_10993,...</td>\n",
       "      <td>[]</td>\n",
       "      <td>[(DE119, coach_node_FLIXBUS:46381), (coach_nod...</td>\n",
       "      <td>[coach_node_FLIXBUS:12798, coach_node_FLIXBUS:...</td>\n",
       "      <td>[coach_352, coach_324, coach_10993, coach_2341...</td>\n",
       "      <td>[coach_352, coach_325, coach_10995, coach_2342...</td>\n",
       "      <td>False</td>\n",
       "      <td>5</td>\n",
       "      <td>22500</td>\n",
       "      <td>599358</td>\n",
       "    </tr>\n",
       "    <tr>\n",
       "      <th>132448</th>\n",
       "      <td>DEC01</td>\n",
       "      <td>DE265</td>\n",
       "      <td>16412.023529</td>\n",
       "      <td>[DEC01, rail_long_node_861, rail_short_node_82...</td>\n",
       "      <td>False</td>\n",
       "      <td>mode_breaker</td>\n",
       "      <td>{rail_long_distance}</td>\n",
       "      <td>[rail_short_node_8272, rail_short_node_7737, b...</td>\n",
       "      <td>[rail_short_node_4616, rail_short_node_2602, b...</td>\n",
       "      <td>[rail_long_node_861, rail_short_node_8272, rai...</td>\n",
       "      <td>[rail_short_78485, rail_short_78486, rail_shor...</td>\n",
       "      <td>[(rail_long_node_861, rail_short_node_8272), (...</td>\n",
       "      <td>[(DEC01, rail_long_node_861), (bus_n_84521, DE...</td>\n",
       "      <td>[bus_n_359422, bus_n_176103]</td>\n",
       "      <td>[rail_short_78485, rail_short_2411, bus_858232...</td>\n",
       "      <td>[rail_short_78486, rail_short_2414, bus_858232...</td>\n",
       "      <td>False</td>\n",
       "      <td>8</td>\n",
       "      <td>9420</td>\n",
       "      <td>408151</td>\n",
       "    </tr>\n",
       "    <tr>\n",
       "      <th>123065</th>\n",
       "      <td>DEB22</td>\n",
       "      <td>DEE0B</td>\n",
       "      <td>23415.964706</td>\n",
       "      <td>[DEB22, bus_n_322302, bus_448483, bus_n_122623...</td>\n",
       "      <td>False</td>\n",
       "      <td>mode_breaker</td>\n",
       "      <td>{rail_long_distance}</td>\n",
       "      <td>[bus_n_322302, rail_short_node_14659, rail_sho...</td>\n",
       "      <td>[bus_n_122623, rail_short_node_403, rail_short...</td>\n",
       "      <td>[bus_n_322302, bus_n_122623, rail_short_node_1...</td>\n",
       "      <td>[bus_448483, rail_short_67011, rail_short_6701...</td>\n",
       "      <td>[(bus_n_122623, rail_short_node_14659), (rail_...</td>\n",
       "      <td>[(DEB22, bus_n_322302), (rail_long_node_21, DE...</td>\n",
       "      <td>[]</td>\n",
       "      <td>[bus_448483, rail_short_67011, rail_short_1094...</td>\n",
       "      <td>[bus_448483, rail_short_67015, rail_short_1094...</td>\n",
       "      <td>False</td>\n",
       "      <td>4</td>\n",
       "      <td>14400</td>\n",
       "      <td>885587</td>\n",
       "    </tr>\n",
       "  </tbody>\n",
       "</table>\n",
       "</div>"
      ],
      "text/plain": [
       "       origin destination         gtime  \\\n",
       "3477    DE119       DEA33  28104.988235   \n",
       "132448  DEC01       DE265  16412.023529   \n",
       "123065  DEB22       DEE0B  23415.964706   \n",
       "\n",
       "                                                     path  reversed  \\\n",
       "3477    [DE119, coach_node_FLIXBUS:46381, coach_352, c...     False   \n",
       "132448  [DEC01, rail_long_node_861, rail_short_node_82...     False   \n",
       "123065  [DEB22, bus_n_322302, bus_448483, bus_n_122623...     False   \n",
       "\n",
       "       pathfinder_session                                    broken_modes  \\\n",
       "3477         mode_breaker  {air, rail_short_distance, rail_long_distance}   \n",
       "132448       mode_breaker                            {rail_long_distance}   \n",
       "123065       mode_breaker                            {rail_long_distance}   \n",
       "\n",
       "                                                boardings  \\\n",
       "3477    [coach_node_FLIXBUS:46381, coach_node_FLIXBUS:...   \n",
       "132448  [rail_short_node_8272, rail_short_node_7737, b...   \n",
       "123065  [bus_n_322302, rail_short_node_14659, rail_sho...   \n",
       "\n",
       "                                               alightings  \\\n",
       "3477    [coach_node_FLIXBUS:12798, coach_node_FLIXBUS:...   \n",
       "132448  [rail_short_node_4616, rail_short_node_2602, b...   \n",
       "123065  [bus_n_122623, rail_short_node_403, rail_short...   \n",
       "\n",
       "                                                node_path  \\\n",
       "3477    [coach_node_FLIXBUS:46381, coach_node_FLIXBUS:...   \n",
       "132448  [rail_long_node_861, rail_short_node_8272, rai...   \n",
       "123065  [bus_n_322302, bus_n_122623, rail_short_node_1...   \n",
       "\n",
       "                                                link_path  \\\n",
       "3477    [coach_352, coach_324, coach_325, coach_10993,...   \n",
       "132448  [rail_short_78485, rail_short_78486, rail_shor...   \n",
       "123065  [bus_448483, rail_short_67011, rail_short_6701...   \n",
       "\n",
       "                                                footpaths  \\\n",
       "3477                                                   []   \n",
       "132448  [(rail_long_node_861, rail_short_node_8272), (...   \n",
       "123065  [(bus_n_122623, rail_short_node_14659), (rail_...   \n",
       "\n",
       "                                                   ntlegs  \\\n",
       "3477    [(DE119, coach_node_FLIXBUS:46381), (coach_nod...   \n",
       "132448  [(DEC01, rail_long_node_861), (bus_n_84521, DE...   \n",
       "123065  [(DEB22, bus_n_322302), (rail_long_node_21, DE...   \n",
       "\n",
       "                                                transfers  \\\n",
       "3477    [coach_node_FLIXBUS:12798, coach_node_FLIXBUS:...   \n",
       "132448                       [bus_n_359422, bus_n_176103]   \n",
       "123065                                                 []   \n",
       "\n",
       "                                           boarding_links  \\\n",
       "3477    [coach_352, coach_324, coach_10993, coach_2341...   \n",
       "132448  [rail_short_78485, rail_short_2411, bus_858232...   \n",
       "123065  [bus_448483, rail_short_67011, rail_short_1094...   \n",
       "\n",
       "                                          alighting_links  all_walk  \\\n",
       "3477    [coach_352, coach_325, coach_10995, coach_2342...     False   \n",
       "132448  [rail_short_78486, rail_short_2414, bus_858232...     False   \n",
       "123065  [bus_448483, rail_short_67015, rail_short_1094...     False   \n",
       "\n",
       "        ntransfers  time_link_path  length_link_path  \n",
       "3477             5           22500            599358  \n",
       "132448           8            9420            408151  \n",
       "123065           4           14400            885587  "
      ]
     },
     "execution_count": 17,
     "metadata": {},
     "output_type": "execute_result"
    }
   ],
   "source": [
    "print(len(sm.pt_los.index))\n",
    "sm.pt_los.loc[sm.pt_los['origin']!=sm.pt_los['destination']].sample(3)"
   ]
  },
  {
   "cell_type": "markdown",
   "metadata": {},
   "source": [
    "### Add attributes to LoS table"
   ]
  },
  {
   "cell_type": "code",
   "execution_count": 18,
   "metadata": {},
   "outputs": [
    {
     "name": "stdout",
     "output_type": "stream",
     "text": [
      "Index(['origin', 'destination', 'gtime', 'path', 'reversed',\n",
      "       'pathfinder_session', 'broken_modes', 'boardings', 'alightings',\n",
      "       'node_path', 'link_path', 'footpaths', 'ntlegs', 'transfers',\n",
      "       'boarding_links', 'alighting_links', 'all_walk', 'ntransfers',\n",
      "       'time_link_path', 'length_link_path', 'access_time', 'footpath_time',\n",
      "       'in_vehicle_time', 'waiting_time', 'boarding_time', 'time'],\n",
      "      dtype='object')\n"
     ]
    }
   ],
   "source": [
    "# Disaggregate time into in-vehicle and access/egress\n",
    "sm.analysis_pt_time(boarding_time=0)\n",
    "print(sm.pt_los.columns)"
   ]
  },
  {
   "cell_type": "code",
   "execution_count": 19,
   "metadata": {},
   "outputs": [],
   "source": [
    "# Add price, parametrisation comes later\n",
    "sm.pt_los['price'] = 0"
   ]
  },
  {
   "cell_type": "code",
   "execution_count": 20,
   "metadata": {},
   "outputs": [],
   "source": [
    "# Add distances\n",
    "len_dict = sm.links['length'].to_dict()\n",
    "sm.pt_los['length'] = sm.pt_los['link_path'].apply(lambda p: sum([len_dict[l] for l in p]))"
   ]
  },
  {
   "cell_type": "code",
   "execution_count": 21,
   "metadata": {},
   "outputs": [],
   "source": [
    "# Add route_types\n",
    "type_dict = sm.links['route_type'].to_dict()\n",
    "sm.pt_los['route_types'] = [set([type_dict[link] for link in l])\n",
    "                            for l in list(sm.pt_los['link_path'])]"
   ]
  },
  {
   "cell_type": "code",
   "execution_count": 22,
   "metadata": {},
   "outputs": [],
   "source": [
    "# Add main route_type based on a hierarchy\n",
    "hierarchy = ['air', 'coach', 'rail_long_distance', 'rail_short_distance', 'bus', 'walk']\n",
    "def main_type(types):\n",
    "    t = hierarchy[-1]\n",
    "    try:\n",
    "        t = hierarchy[min([hierarchy.index(t) for t in types])]\n",
    "    except ValueError: # empty types set\n",
    "        pass\n",
    "    return t\n",
    "sm.pt_los['route_type'] = sm.pt_los['route_types'].apply(main_type)"
   ]
  },
  {
   "cell_type": "code",
   "execution_count": 23,
   "metadata": {},
   "outputs": [],
   "source": [
    "# Add number of transfers\n",
    "#sm.pt_los['ntransfers'] = sm.pt_los['boardings'].apply(lambda l: max(0, len(l) - 1))"
   ]
  },
  {
   "cell_type": "code",
   "execution_count": 24,
   "metadata": {},
   "outputs": [
    {
     "data": {
      "text/html": [
       "<div>\n",
       "<style scoped>\n",
       "    .dataframe tbody tr th:only-of-type {\n",
       "        vertical-align: middle;\n",
       "    }\n",
       "\n",
       "    .dataframe tbody tr th {\n",
       "        vertical-align: top;\n",
       "    }\n",
       "\n",
       "    .dataframe thead th {\n",
       "        text-align: right;\n",
       "    }\n",
       "</style>\n",
       "<table border=\"1\" class=\"dataframe\">\n",
       "  <thead>\n",
       "    <tr style=\"text-align: right;\">\n",
       "      <th></th>\n",
       "      <th>origin</th>\n",
       "      <th>destination</th>\n",
       "      <th>gtime</th>\n",
       "      <th>path</th>\n",
       "      <th>reversed</th>\n",
       "      <th>pathfinder_session</th>\n",
       "      <th>broken_modes</th>\n",
       "      <th>boardings</th>\n",
       "      <th>alightings</th>\n",
       "      <th>node_path</th>\n",
       "      <th>...</th>\n",
       "      <th>access_time</th>\n",
       "      <th>footpath_time</th>\n",
       "      <th>in_vehicle_time</th>\n",
       "      <th>waiting_time</th>\n",
       "      <th>boarding_time</th>\n",
       "      <th>time</th>\n",
       "      <th>price</th>\n",
       "      <th>length</th>\n",
       "      <th>route_types</th>\n",
       "      <th>route_type</th>\n",
       "    </tr>\n",
       "  </thead>\n",
       "  <tbody>\n",
       "    <tr>\n",
       "      <th>139829</th>\n",
       "      <td>DED53</td>\n",
       "      <td>DEA47</td>\n",
       "      <td>18977.341177</td>\n",
       "      <td>[DED53, rail_short_node_6346, rail_short_74378...</td>\n",
       "      <td>False</td>\n",
       "      <td>mode_breaker</td>\n",
       "      <td>{}</td>\n",
       "      <td>[rail_short_node_6346, rail_short_node_8241, c...</td>\n",
       "      <td>[rail_short_node_7544, rail_short_node_525, co...</td>\n",
       "      <td>[rail_short_node_6346, rail_short_node_7544, r...</td>\n",
       "      <td>...</td>\n",
       "      <td>1111.341176</td>\n",
       "      <td>466</td>\n",
       "      <td>13200</td>\n",
       "      <td>4200.0</td>\n",
       "      <td>0</td>\n",
       "      <td>18977.341176</td>\n",
       "      <td>0</td>\n",
       "      <td>501900</td>\n",
       "      <td>{coach, bus, rail_short_distance, rail_long_di...</td>\n",
       "      <td>coach</td>\n",
       "    </tr>\n",
       "    <tr>\n",
       "      <th>95015</th>\n",
       "      <td>DE94D</td>\n",
       "      <td>DEG02</td>\n",
       "      <td>21793.929412</td>\n",
       "      <td>[DE94D, bus_n_270753, bus_85852, bus_n_280640,...</td>\n",
       "      <td>False</td>\n",
       "      <td>mode_breaker</td>\n",
       "      <td>{air, rail_long_distance}</td>\n",
       "      <td>[bus_n_270753, rail_short_node_8513, rail_shor...</td>\n",
       "      <td>[bus_n_280640, rail_short_node_12990, rail_sho...</td>\n",
       "      <td>[bus_n_270753, bus_n_280640, rail_long_node_95...</td>\n",
       "      <td>...</td>\n",
       "      <td>329.929412</td>\n",
       "      <td>104</td>\n",
       "      <td>18960</td>\n",
       "      <td>2400.0</td>\n",
       "      <td>0</td>\n",
       "      <td>21793.929412</td>\n",
       "      <td>0</td>\n",
       "      <td>635947</td>\n",
       "      <td>{bus, rail_short_distance}</td>\n",
       "      <td>rail_short_distance</td>\n",
       "    </tr>\n",
       "  </tbody>\n",
       "</table>\n",
       "<p>2 rows × 30 columns</p>\n",
       "</div>"
      ],
      "text/plain": [
       "       origin destination         gtime  \\\n",
       "139829  DED53       DEA47  18977.341177   \n",
       "95015   DE94D       DEG02  21793.929412   \n",
       "\n",
       "                                                     path  reversed  \\\n",
       "139829  [DED53, rail_short_node_6346, rail_short_74378...     False   \n",
       "95015   [DE94D, bus_n_270753, bus_85852, bus_n_280640,...     False   \n",
       "\n",
       "       pathfinder_session               broken_modes  \\\n",
       "139829       mode_breaker                         {}   \n",
       "95015        mode_breaker  {air, rail_long_distance}   \n",
       "\n",
       "                                                boardings  \\\n",
       "139829  [rail_short_node_6346, rail_short_node_8241, c...   \n",
       "95015   [bus_n_270753, rail_short_node_8513, rail_shor...   \n",
       "\n",
       "                                               alightings  \\\n",
       "139829  [rail_short_node_7544, rail_short_node_525, co...   \n",
       "95015   [bus_n_280640, rail_short_node_12990, rail_sho...   \n",
       "\n",
       "                                                node_path  ...  access_time  \\\n",
       "139829  [rail_short_node_6346, rail_short_node_7544, r...  ...  1111.341176   \n",
       "95015   [bus_n_270753, bus_n_280640, rail_long_node_95...  ...   329.929412   \n",
       "\n",
       "       footpath_time in_vehicle_time waiting_time boarding_time          time  \\\n",
       "139829           466           13200       4200.0             0  18977.341176   \n",
       "95015            104           18960       2400.0             0  21793.929412   \n",
       "\n",
       "        price  length                                        route_types  \\\n",
       "139829      0  501900  {coach, bus, rail_short_distance, rail_long_di...   \n",
       "95015       0  635947                         {bus, rail_short_distance}   \n",
       "\n",
       "                 route_type  \n",
       "139829                coach  \n",
       "95015   rail_short_distance  \n",
       "\n",
       "[2 rows x 30 columns]"
      ]
     },
     "execution_count": 24,
     "metadata": {},
     "output_type": "execute_result"
    }
   ],
   "source": [
    "sm.pt_los.sample(2)"
   ]
  },
  {
   "cell_type": "code",
   "execution_count": 25,
   "metadata": {},
   "outputs": [],
   "source": [
    "# Make a copy before restricting results\n",
    "los = sm.pt_los.copy()"
   ]
  },
  {
   "cell_type": "markdown",
   "metadata": {},
   "source": [
    "### Clean PT LOS"
   ]
  },
  {
   "cell_type": "code",
   "execution_count": 26,
   "metadata": {},
   "outputs": [
    {
     "data": {
      "text/plain": [
       "(1838159, 30)"
      ]
     },
     "execution_count": 26,
     "metadata": {},
     "output_type": "execute_result"
    }
   ],
   "source": [
    "# Drop trips with coach-rail or coach-air combinations\n",
    "sm.pt_los = sm.pt_los.loc[~sm.pt_los['route_types'].apply(\n",
    "    lambda x: 'coach' in x and ('rail_long_distance' in x or 'rail_short_distance' in x or 'air' in x))]\n",
    "sm.pt_los.shape"
   ]
  },
  {
   "cell_type": "code",
   "execution_count": 27,
   "metadata": {},
   "outputs": [
    {
     "data": {
      "text/plain": [
       "(1831301, 30)"
      ]
     },
     "execution_count": 27,
     "metadata": {},
     "output_type": "execute_result"
    }
   ],
   "source": [
    "# Drop unrealistically long trips\n",
    "sm.pt_los = sm.pt_los.loc[sm.pt_los['in_vehicle_time']<10*3600]\n",
    "sm.pt_los.shape"
   ]
  },
  {
   "cell_type": "code",
   "execution_count": 28,
   "metadata": {},
   "outputs": [
    {
     "data": {
      "text/plain": [
       "array([[<AxesSubplot:title={'center':'time'}>]], dtype=object)"
      ]
     },
     "execution_count": 28,
     "metadata": {},
     "output_type": "execute_result"
    },
    {
     "data": {
      "image/png": "[encoded data removed]",
      "text/plain": [
       "<Figure size 288x288 with 1 Axes>"
      ]
     },
     "metadata": {
      "needs_background": "light"
     },
     "output_type": "display_data"
    }
   ],
   "source": [
    "# Time distribution\n",
    "sm.pt_los.hist(column='time', bins=100, figsize=(4,4), log=True)"
   ]
  },
  {
   "cell_type": "code",
   "execution_count": 29,
   "metadata": {},
   "outputs": [
    {
     "data": {
      "text/plain": [
       "(1441852, 31)"
      ]
     },
     "execution_count": 29,
     "metadata": {},
     "output_type": "execute_result"
    }
   ],
   "source": [
    "'''# Keep only the fastest trip(s)\n",
    "sm.pt_los['route_types'] = sm.pt_los['route_types'].apply(tuple)\n",
    "sm.pt_los = sm.pt_los.sort_values('time').groupby(\n",
    "    ['origin', 'destination', 'route_types']).nth(0)'''\n",
    "# Drop duplicates\n",
    "sm.pt_los['path'] = sm.pt_los['path'].apply(tuple)\n",
    "sm.pt_los.drop_duplicates('path', inplace=True)\n",
    "sm.pt_los.reset_index(inplace=True)\n",
    "sm.pt_los.shape"
   ]
  },
  {
   "cell_type": "code",
   "execution_count": 30,
   "metadata": {},
   "outputs": [
    {
     "data": {
      "text/plain": [
       "array([[<AxesSubplot:title={'center':'time'}>]], dtype=object)"
      ]
     },
     "execution_count": 30,
     "metadata": {},
     "output_type": "execute_result"
    },
    {
     "data": {
      "image/png": "[encoded data removed]",
      "text/plain": [
       "<Figure size 288x288 with 1 Axes>"
      ]
     },
     "metadata": {
      "needs_background": "light"
     },
     "output_type": "display_data"
    }
   ],
   "source": [
    "sm.pt_los.hist(column='time', bins=100, figsize=(4,4), log=True)"
   ]
  },
  {
   "cell_type": "code",
   "execution_count": 31,
   "metadata": {},
   "outputs": [
    {
     "data": {
      "text/plain": [
       "array([[<AxesSubplot:title={'center':'ntransfers'}>]], dtype=object)"
      ]
     },
     "execution_count": 31,
     "metadata": {},
     "output_type": "execute_result"
    },
    {
     "data": {
      "image/png": "[encoded data removed]",
      "text/plain": [
       "<Figure size 288x288 with 1 Axes>"
      ]
     },
     "metadata": {
      "needs_background": "light"
     },
     "output_type": "display_data"
    }
   ],
   "source": [
    "sm.pt_los.hist(column='ntransfers', figsize=(4,4))"
   ]
  },
  {
   "cell_type": "code",
   "execution_count": 32,
   "metadata": {},
   "outputs": [
    {
     "data": {
      "text/plain": [
       "<matplotlib.legend.Legend at 0x284e4b87580>"
      ]
     },
     "execution_count": 32,
     "metadata": {},
     "output_type": "execute_result"
    },
    {
     "data": {
      "image/png": "[encoded data removed]",
      "text/plain": [
       "<Figure size 1152x216 with 6 Axes>"
      ]
     },
     "metadata": {},
     "output_type": "display_data"
    }
   ],
   "source": [
    "t = sm.pt_los.copy()\n",
    "t['bins'] = pd.cut(t['ntransfers'], bins=[0,1,3,5,10,20,100],\n",
    "                   labels=[\"0-1\", \"2-3\",\"4-5\",\"6-10\",\"11-20\",\"21+\"])\n",
    "axs = t.groupby(['route_type','bins']).size().unstack(fill_value=0).plot.pie(\n",
    "    subplots=True, figsize=(16, 3),\n",
    "    startangle=0, counterclock=False, title='Main mode by number of transfers',\n",
    "    legend=False, labeldistance=None)\n",
    "axs[0].legend(loc='lower left')"
   ]
  },
  {
   "cell_type": "code",
   "execution_count": 33,
   "metadata": {},
   "outputs": [
    {
     "name": "stdout",
     "output_type": "stream",
     "text": [
      "(1440972, 31)\n"
     ]
    }
   ],
   "source": [
    "# Drop unnecessary long connections\n",
    "if sm.links['headway'].mean() > 60:\n",
    "    sm.pt_los = sm.pt_los.loc[sm.pt_los['ntransfers']<20]\n",
    "    print(sm.pt_los.shape)"
   ]
  },
  {
   "cell_type": "code",
   "execution_count": 34,
   "metadata": {},
   "outputs": [
    {
     "data": {
      "text/plain": [
       "<matplotlib.legend.Legend at 0x2839a7231c0>"
      ]
     },
     "execution_count": 34,
     "metadata": {},
     "output_type": "execute_result"
    },
    {
     "data": {
      "image/png": "[encoded data removed]",
      "text/plain": [
       "<Figure size 1152x216 with 6 Axes>"
      ]
     },
     "metadata": {},
     "output_type": "display_data"
    }
   ],
   "source": [
    "t['time'] = t['time'] / 60\n",
    "t['bins'] = pd.cut(t['time'], bins=[0,15,30,60,120,360,500],\n",
    "                   labels=[\"0-15\", \"16-30\",\"31-60\",\"61-120\",\"120-360\",\"361+\"])\n",
    "axs = t.groupby(['route_type','bins']).size().unstack(fill_value=0).plot.pie(\n",
    "    subplots=True, figsize=(16, 3),\n",
    "    startangle=0, counterclock=False, title='Main mode by trip duration',\n",
    "    legend=False, labeldistance=None)\n",
    "axs[-1].legend()"
   ]
  },
  {
   "cell_type": "code",
   "execution_count": 35,
   "metadata": {},
   "outputs": [],
   "source": [
    "t = None"
   ]
  },
  {
   "cell_type": "code",
   "execution_count": 36,
   "metadata": {},
   "outputs": [],
   "source": [
    "# Ditch unneccessary columns\n",
    "to_drop = ['gtime', 'path', 'reversed', 'pathfinder_session',\n",
    "           'broken_modes', 'boardings', 'alightings', 'node_path',\n",
    "           'footpaths', 'ntlegs', 'transfers', 'boarding_links',\n",
    "           'alighting_links', 'all_walk', 'time_link_path',\n",
    "           'length_link_path', 'boarding_time']\n",
    "sm.pt_los = sm.pt_los.drop(to_drop, axis=1, errors='ignore')"
   ]
  },
  {
   "cell_type": "code",
   "execution_count": 37,
   "metadata": {},
   "outputs": [],
   "source": [
    "# Clean links table\n",
    "to_drop = ['duration', 'cost', 'origin', 'destination']\n",
    "sm.links = sm.links.drop(to_drop, axis=1, errors='ignore')"
   ]
  },
  {
   "cell_type": "code",
   "execution_count": 38,
   "metadata": {},
   "outputs": [],
   "source": [
    "# Make table smaller\n",
    "cols = ['time', 'access_time', 'in_vehicle_time', 'footpath_time',\n",
    "        'waiting_time', 'length']\n",
    "sm.pt_los[cols] = sm.pt_los[cols].astype(int)"
   ]
  },
  {
   "cell_type": "code",
   "execution_count": 39,
   "metadata": {},
   "outputs": [
    {
     "data": {
      "text/html": [
       "<div>\n",
       "<style scoped>\n",
       "    .dataframe tbody tr th:only-of-type {\n",
       "        vertical-align: middle;\n",
       "    }\n",
       "\n",
       "    .dataframe tbody tr th {\n",
       "        vertical-align: top;\n",
       "    }\n",
       "\n",
       "    .dataframe thead th {\n",
       "        text-align: right;\n",
       "    }\n",
       "</style>\n",
       "<table border=\"1\" class=\"dataframe\">\n",
       "  <thead>\n",
       "    <tr style=\"text-align: right;\">\n",
       "      <th></th>\n",
       "      <th>index</th>\n",
       "      <th>origin</th>\n",
       "      <th>destination</th>\n",
       "      <th>link_path</th>\n",
       "      <th>ntransfers</th>\n",
       "      <th>access_time</th>\n",
       "      <th>footpath_time</th>\n",
       "      <th>in_vehicle_time</th>\n",
       "      <th>waiting_time</th>\n",
       "      <th>time</th>\n",
       "      <th>price</th>\n",
       "      <th>length</th>\n",
       "      <th>route_types</th>\n",
       "      <th>route_type</th>\n",
       "    </tr>\n",
       "  </thead>\n",
       "  <tbody>\n",
       "    <tr>\n",
       "      <th>409674</th>\n",
       "      <td>138898</td>\n",
       "      <td>DED51</td>\n",
       "      <td>DE40C</td>\n",
       "      <td>[coach_12489, coach_12490, coach_7581, coach_7...</td>\n",
       "      <td>3</td>\n",
       "      <td>447</td>\n",
       "      <td>60</td>\n",
       "      <td>10080</td>\n",
       "      <td>2400</td>\n",
       "      <td>12987</td>\n",
       "      <td>0</td>\n",
       "      <td>344186</td>\n",
       "      <td>{coach, bus}</td>\n",
       "      <td>coach</td>\n",
       "    </tr>\n",
       "  </tbody>\n",
       "</table>\n",
       "</div>"
      ],
      "text/plain": [
       "         index origin destination  \\\n",
       "409674  138898  DED51       DE40C   \n",
       "\n",
       "                                                link_path  ntransfers  \\\n",
       "409674  [coach_12489, coach_12490, coach_7581, coach_7...           3   \n",
       "\n",
       "        access_time  footpath_time  in_vehicle_time  waiting_time   time  \\\n",
       "409674          447             60            10080          2400  12987   \n",
       "\n",
       "        price  length   route_types route_type  \n",
       "409674      0  344186  {coach, bus}      coach  "
      ]
     },
     "execution_count": 39,
     "metadata": {},
     "output_type": "execute_result"
    }
   ],
   "source": [
    "sm.pt_los.sample()"
   ]
  },
  {
   "cell_type": "markdown",
   "metadata": {},
   "source": [
    "### Save model"
   ]
  },
  {
   "cell_type": "code",
   "execution_count": 40,
   "metadata": {},
   "outputs": [
    {
     "name": "stderr",
     "output_type": "stream",
     "text": [
      "to_hdf(overwriting): 100%|█████████████████████████████████████████████████████████████| 36/36 [00:35<00:00,  1.00it/s]\n"
     ]
    }
   ],
   "source": [
    "# Saving LoS...\n",
    "sm.to_json(model_path + 'de_pt_los', only_attributes=['pt_los'],\n",
    "           encoding='utf-8')"
   ]
  },
  {
   "cell_type": "code",
   "execution_count": 45,
   "metadata": {},
   "outputs": [],
   "source": [
    "# Split links in graph and auxiliary information\n",
    "# for file sizes being compatible with github's size limit\n",
    "cols = ['link_sequence', 'route_id', 'time', 'trip_id', 'length', 'headway']\n",
    "auxiliary = sm.links[cols]\n",
    "sm.links.drop(cols, axis=1, inplace=True)"
   ]
  },
  {
   "cell_type": "code",
   "execution_count": 36,
   "metadata": {},
   "outputs": [
    {
     "name": "stderr",
     "output_type": "stream",
     "text": [
      "to_hdf(overwriting): 100%|██████████████████████████████████████████████████████████████████| 36/36 [00:57<00:00,  1.59s/it]\n"
     ]
    }
   ],
   "source": [
    "sm.to_json(model_path + 'de_pt_network_agg', only_attributes=[\n",
    "    'zones', 'links', 'nodes', 'pt_route_types'],\n",
    "           encoding='utf-8')"
   ]
  },
  {
   "cell_type": "code",
   "execution_count": 37,
   "metadata": {},
   "outputs": [],
   "source": [
    "# Save auxiliary information seperately\n",
    "auxiliary['index'] = auxiliary.index\n",
    "auxiliary.reset_index(drop=True, inplace=True)\n",
    "auxiliary.to_json(model_path + 'de_pt_network_agg/links_quetzaldata.json')"
   ]
  },
  {
   "cell_type": "code",
   "execution_count": 41,
   "metadata": {},
   "outputs": [],
   "source": [
    "sm.links = None\n",
    "sm.nodes = None"
   ]
  }
 ],
 "metadata": {
  "kernelspec": {
   "display_name": "Python 3",
   "language": "python",
   "name": "python3"
  },
  "language_info": {
   "codemirror_mode": {
    "name": "ipython",
    "version": 3
   },
   "file_extension": ".py",
   "mimetype": "text/x-python",
   "name": "python",
   "nbconvert_exporter": "python",
   "pygments_lexer": "ipython3",
   "version": "3.8.1"
  }
 },
 "nbformat": 4,
 "nbformat_minor": 2
}
