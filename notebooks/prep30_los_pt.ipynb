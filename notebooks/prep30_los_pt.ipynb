{
 "cells": [
  {
   "cell_type": "code",
   "execution_count": 1,
   "metadata": {},
   "outputs": [
    {
     "name": "stderr",
     "output_type": "stream",
     "text": [
      "In C:\\Users\\marlin.arnz\\AppData\\Local\\Continuum\\miniconda3\\envs\\quetzal\\lib\\site-packages\\matplotlib\\mpl-data\\stylelib\\_classic_test.mplstyle: \n",
      "The text.latex.preview rcparam was deprecated in Matplotlib 3.3 and will be removed two minor releases later.\n",
      "In C:\\Users\\marlin.arnz\\AppData\\Local\\Continuum\\miniconda3\\envs\\quetzal\\lib\\site-packages\\matplotlib\\mpl-data\\stylelib\\_classic_test.mplstyle: \n",
      "The mathtext.fallback_to_cm rcparam was deprecated in Matplotlib 3.3 and will be removed two minor releases later.\n",
      "In C:\\Users\\marlin.arnz\\AppData\\Local\\Continuum\\miniconda3\\envs\\quetzal\\lib\\site-packages\\matplotlib\\mpl-data\\stylelib\\_classic_test.mplstyle: Support for setting the 'mathtext.fallback_to_cm' rcParam is deprecated since 3.3 and will be removed two minor releases later; use 'mathtext.fallback : 'cm' instead.\n",
      "In C:\\Users\\marlin.arnz\\AppData\\Local\\Continuum\\miniconda3\\envs\\quetzal\\lib\\site-packages\\matplotlib\\mpl-data\\stylelib\\_classic_test.mplstyle: \n",
      "The validate_bool_maybe_none function was deprecated in Matplotlib 3.3 and will be removed two minor releases later.\n",
      "In C:\\Users\\marlin.arnz\\AppData\\Local\\Continuum\\miniconda3\\envs\\quetzal\\lib\\site-packages\\matplotlib\\mpl-data\\stylelib\\_classic_test.mplstyle: \n",
      "The savefig.jpeg_quality rcparam was deprecated in Matplotlib 3.3 and will be removed two minor releases later.\n",
      "In C:\\Users\\marlin.arnz\\AppData\\Local\\Continuum\\miniconda3\\envs\\quetzal\\lib\\site-packages\\matplotlib\\mpl-data\\stylelib\\_classic_test.mplstyle: \n",
      "The keymap.all_axes rcparam was deprecated in Matplotlib 3.3 and will be removed two minor releases later.\n",
      "In C:\\Users\\marlin.arnz\\AppData\\Local\\Continuum\\miniconda3\\envs\\quetzal\\lib\\site-packages\\matplotlib\\mpl-data\\stylelib\\_classic_test.mplstyle: \n",
      "The animation.avconv_path rcparam was deprecated in Matplotlib 3.3 and will be removed two minor releases later.\n",
      "In C:\\Users\\marlin.arnz\\AppData\\Local\\Continuum\\miniconda3\\envs\\quetzal\\lib\\site-packages\\matplotlib\\mpl-data\\stylelib\\_classic_test.mplstyle: \n",
      "The animation.avconv_args rcparam was deprecated in Matplotlib 3.3 and will be removed two minor releases later.\n"
     ]
    }
   ],
   "source": [
    "import numpy as np\n",
    "import pandas as pd\n",
    "from tqdm import tqdm\n",
    "from geopy.distance import geodesic\n",
    "from quetzal.model import stepmodel\n",
    "from quetzal.analysis import analysis"
   ]
  },
  {
   "cell_type": "markdown",
   "metadata": {},
   "source": [
    "# Preparation of the LoS tables\n",
    "## Saves a StepModel with shortest paths and LoS attributes for the PT network\n",
    "## Needs aggregated PT networks"
   ]
  },
  {
   "cell_type": "code",
   "execution_count": 2,
   "metadata": {},
   "outputs": [],
   "source": [
    "input_path = '../input/'\n",
    "output_path = '../output/'\n",
    "model_path = '../model/'"
   ]
  },
  {
   "cell_type": "code",
   "execution_count": 3,
   "metadata": {},
   "outputs": [],
   "source": [
    "sm = stepmodel.read_json(model_path + 'de_pt_network_agg')\n",
    "ae = stepmodel.read_json(model_path + 'de_pt_access_egress')"
   ]
  },
  {
   "cell_type": "code",
   "execution_count": 4,
   "metadata": {},
   "outputs": [],
   "source": [
    "sm.centroids = ae.centroids\n",
    "sm.footpaths = ae.footpaths\n",
    "sm.zone_to_transit = ae.zone_to_transit"
   ]
  },
  {
   "cell_type": "markdown",
   "metadata": {},
   "source": [
    "### Prepare links for pathfinder"
   ]
  },
  {
   "cell_type": "code",
   "execution_count": 5,
   "metadata": {},
   "outputs": [],
   "source": [
    "# Generate length for PT links as the crow flies\n",
    "if 'length' not in sm.links.columns:\n",
    "    tqdm.pandas()\n",
    "    sm.links['length'] = sm.links['geometry'].progress_apply(\n",
    "        lambda l: int(geodesic(l.coords[0], l.coords[-1]).m))"
   ]
  },
  {
   "cell_type": "code",
   "execution_count": 6,
   "metadata": {},
   "outputs": [],
   "source": [
    "# Add average waiting time (half the headway) on links\n",
    "if True:#'headway' not in sm.links.columns:\n",
    "    sm.links['headway'] = 10*60*2\n",
    "    # Air trips require security checks and so on...\n",
    "    sm.links.loc[sm.links['route_type']=='air', 'headway'] = 45*60*2"
   ]
  },
  {
   "cell_type": "code",
   "execution_count": 7,
   "metadata": {},
   "outputs": [
    {
     "data": {
      "text/html": [
       "<div>\n",
       "<style scoped>\n",
       "    .dataframe tbody tr th:only-of-type {\n",
       "        vertical-align: middle;\n",
       "    }\n",
       "\n",
       "    .dataframe tbody tr th {\n",
       "        vertical-align: top;\n",
       "    }\n",
       "\n",
       "    .dataframe thead th {\n",
       "        text-align: right;\n",
       "    }\n",
       "</style>\n",
       "<table border=\"1\" class=\"dataframe\">\n",
       "  <thead>\n",
       "    <tr style=\"text-align: right;\">\n",
       "      <th></th>\n",
       "      <th>a</th>\n",
       "      <th>b</th>\n",
       "      <th>route_type</th>\n",
       "      <th>geometry</th>\n",
       "      <th>link_sequence</th>\n",
       "      <th>route_id</th>\n",
       "      <th>time</th>\n",
       "      <th>trip_id</th>\n",
       "      <th>length</th>\n",
       "      <th>headway</th>\n",
       "      <th>price</th>\n",
       "    </tr>\n",
       "    <tr>\n",
       "      <th>index</th>\n",
       "      <th></th>\n",
       "      <th></th>\n",
       "      <th></th>\n",
       "      <th></th>\n",
       "      <th></th>\n",
       "      <th></th>\n",
       "      <th></th>\n",
       "      <th></th>\n",
       "      <th></th>\n",
       "      <th></th>\n",
       "      <th></th>\n",
       "    </tr>\n",
       "  </thead>\n",
       "  <tbody>\n",
       "    <tr>\n",
       "      <th>bus_620401</th>\n",
       "      <td>bus_n_305256</td>\n",
       "      <td>bus_n_37496</td>\n",
       "      <td>bus</td>\n",
       "      <td>LINESTRING (8.96886 53.49804, 9.03429 53.49401)</td>\n",
       "      <td>1</td>\n",
       "      <td>bus_18331</td>\n",
       "      <td>420</td>\n",
       "      <td>bus_104355</td>\n",
       "      <td>7250</td>\n",
       "      <td>0</td>\n",
       "      <td>0.0</td>\n",
       "    </tr>\n",
       "  </tbody>\n",
       "</table>\n",
       "</div>"
      ],
      "text/plain": [
       "                       a            b route_type  \\\n",
       "index                                              \n",
       "bus_620401  bus_n_305256  bus_n_37496        bus   \n",
       "\n",
       "                                                   geometry  link_sequence  \\\n",
       "index                                                                        \n",
       "bus_620401  LINESTRING (8.96886 53.49804, 9.03429 53.49401)              1   \n",
       "\n",
       "             route_id  time     trip_id  length  headway  price  \n",
       "index                                                            \n",
       "bus_620401  bus_18331   420  bus_104355    7250        0    0.0  "
      ]
     },
     "execution_count": 7,
     "metadata": {},
     "output_type": "execute_result"
    }
   ],
   "source": [
    "sm.links.sample()"
   ]
  },
  {
   "cell_type": "code",
   "execution_count": 8,
   "metadata": {},
   "outputs": [],
   "source": [
    "assert not sm.footpaths.empty, 'Footpaths must be defined in a previous step'"
   ]
  },
  {
   "cell_type": "code",
   "execution_count": 9,
   "metadata": {},
   "outputs": [
    {
     "name": "stdout",
     "output_type": "stream",
     "text": [
      "Generated OD set with 155236 pairs\n"
     ]
    }
   ],
   "source": [
    "# Load OD pairs from volumes if available\n",
    "od_set = None\n",
    "try:\n",
    "    v = stepmodel.read_json(model_path + 'de_volumes')\n",
    "    od_set = set([tuple(l) for l in v.volumes[['origin', 'destination']].values.tolist()])\n",
    "    print('Generated OD set with {} pairs'.format(len(od_set)))\n",
    "except:\n",
    "    print('The volumes file is not (yet) available')"
   ]
  },
  {
   "cell_type": "markdown",
   "metadata": {},
   "source": [
    "### Apply PT pathfinder\n",
    "It generates the LoS table with shortest paths for each origin destination pair"
   ]
  },
  {
   "cell_type": "code",
   "execution_count": 10,
   "metadata": {
    "scrolled": false
   },
   "outputs": [
    {
     "data": {
      "text/plain": [
       "\"This cell would run all possible mode combinations\\nsm.step_pt_pathfinder(\\n    broken_routes=False,\\n    broken_modes=True, # Allow different mode combinations\\n    route_column='route_id',\\n    mode_column='route_type',\\n    boarding_time=0, # Assumption\\n    alighting_time=0,\\n    speedup=True,\\n    walk_on_road=False,\\n    keep_pathfinder=False, # Saves it as attribute for multiple iterations\\n    force=False, # If indices are inconsistent\\n    path_analysis=True, # Create path, time and length columns\\n    drop_duplicates=True, # Considering duplicate paths\\n    cutoff=np.inf, # distance limit between points for Dijkstra algorithm\\n    od_set=od_set) # Exclude OD pairs that are not used\""
      ]
     },
     "execution_count": 10,
     "metadata": {},
     "output_type": "execute_result"
    }
   ],
   "source": [
    "'''This cell would run all possible mode combinations\n",
    "sm.step_pt_pathfinder(\n",
    "    broken_routes=False,\n",
    "    broken_modes=True, # Allow different mode combinations\n",
    "    route_column='route_id',\n",
    "    mode_column='route_type',\n",
    "    boarding_time=0, # Assumption\n",
    "    alighting_time=0,\n",
    "    speedup=True,\n",
    "    walk_on_road=False,\n",
    "    keep_pathfinder=False, # Saves it as attribute for multiple iterations\n",
    "    force=False, # If indices are inconsistent\n",
    "    path_analysis=True, # Create path, time and length columns\n",
    "    drop_duplicates=True, # Considering duplicate paths\n",
    "    cutoff=np.inf, # distance limit between points for Dijkstra algorithm\n",
    "    od_set=od_set) # Exclude OD pairs that are not used'''"
   ]
  },
  {
   "cell_type": "code",
   "execution_count": 11,
   "metadata": {},
   "outputs": [],
   "source": [
    "# We don't want the algorithm to search paths for all mode combinations.\n",
    "# Thus, we have to extract the pathfinder and search them manually.\n",
    "# This step yields shortest paths regardless of the mode combination.\n",
    "sm.step_pt_pathfinder(\n",
    "    broken_routes=False,\n",
    "    broken_modes=False,\n",
    "    keep_pathfinder=True, # get the PPF\n",
    "    mode_column='route_type',\n",
    "    route_column='route_id',\n",
    "    speedup=True,\n",
    "    cutoff=np.inf,\n",
    "    walk_on_road=False,\n",
    "    od_set=od_set,\n",
    "    path_analysis=False,\n",
    ")\n",
    "ppf = sm.publicpathfinder"
   ]
  },
  {
   "cell_type": "code",
   "execution_count": 12,
   "metadata": {},
   "outputs": [
    {
     "data": {
      "text/plain": [
       "153275"
      ]
     },
     "execution_count": 12,
     "metadata": {},
     "output_type": "execute_result"
    }
   ],
   "source": [
    "len(sm.pt_los)"
   ]
  },
  {
   "cell_type": "code",
   "execution_count": 13,
   "metadata": {},
   "outputs": [
    {
     "data": {
      "text/plain": [
       "[{'air', 'bus', 'rail_long_distance', 'rail_short_distance'},\n",
       " {'air', 'bus', 'rail_long_distance'},\n",
       " {'air', 'bus', 'rail_short_distance'},\n",
       " {'air', 'bus'},\n",
       " {'air', 'rail_long_distance', 'rail_short_distance'},\n",
       " {'air', 'rail_long_distance'},\n",
       " {'air', 'rail_short_distance'},\n",
       " {'air'},\n",
       " {'bus', 'coach'},\n",
       " {'bus', 'rail_long_distance', 'rail_short_distance'},\n",
       " {'bus', 'rail_long_distance'},\n",
       " {'bus', 'rail_short_distance'},\n",
       " {'bus'},\n",
       " {'coach'},\n",
       " {'rail_long_distance', 'rail_short_distance'},\n",
       " {'rail_long_distance'},\n",
       " {'rail_short_distance'},\n",
       " set()]"
      ]
     },
     "execution_count": 13,
     "metadata": {},
     "output_type": "execute_result"
    }
   ],
   "source": [
    "# Now, build custom mode combinations\n",
    "# People just don't go by coach and then switch to rail or airplane within Germany\n",
    "ppf.build_mode_combinations(mode_column='route_type')\n",
    "ppf.mode_combinations = [x for x in ppf.mode_combinations\n",
    "                         if not ('coach' in x and\n",
    "                         ('rail_long_distance' in x or\n",
    "                          'rail_short_distance' in x or\n",
    "                          'air' in x))]\n",
    "ppf.mode_combinations"
   ]
  },
  {
   "cell_type": "code",
   "execution_count": 14,
   "metadata": {},
   "outputs": [
    {
     "name": "stderr",
     "output_type": "stream",
     "text": [
      "breaking modes: set() : 100%|██████████████████████████████████████████████████████████████| 18/18 [31:50<00:00, 106.15s/it]\n"
     ]
    }
   ],
   "source": [
    "# Run the pathfinder for all mode combinations\n",
    "ppf.find_broken_mode_paths(workers=3, # CPU cores\n",
    "                           cutoff=np.inf,\n",
    "                           od_set=od_set,\n",
    "                           mode_column='route_type')"
   ]
  },
  {
   "cell_type": "code",
   "execution_count": 15,
   "metadata": {},
   "outputs": [
    {
     "data": {
      "text/html": [
       "<div>\n",
       "<style scoped>\n",
       "    .dataframe tbody tr th:only-of-type {\n",
       "        vertical-align: middle;\n",
       "    }\n",
       "\n",
       "    .dataframe tbody tr th {\n",
       "        vertical-align: top;\n",
       "    }\n",
       "\n",
       "    .dataframe thead th {\n",
       "        text-align: right;\n",
       "    }\n",
       "</style>\n",
       "<table border=\"1\" class=\"dataframe\">\n",
       "  <thead>\n",
       "    <tr style=\"text-align: right;\">\n",
       "      <th></th>\n",
       "      <th>origin</th>\n",
       "      <th>destination</th>\n",
       "      <th>gtime</th>\n",
       "      <th>path</th>\n",
       "      <th>reversed</th>\n",
       "      <th>pathfinder_session</th>\n",
       "      <th>broken_modes</th>\n",
       "    </tr>\n",
       "  </thead>\n",
       "  <tbody>\n",
       "    <tr>\n",
       "      <th>142010</th>\n",
       "      <td>DEE0D</td>\n",
       "      <td>DE21D</td>\n",
       "      <td>15115.235294</td>\n",
       "      <td>[DEE0D, bus_n_104139, bus_1413574, bus_n_10526...</td>\n",
       "      <td>False</td>\n",
       "      <td>mode_breaker</td>\n",
       "      <td>{rail_long_distance}</td>\n",
       "    </tr>\n",
       "  </tbody>\n",
       "</table>\n",
       "</div>"
      ],
      "text/plain": [
       "       origin destination         gtime  \\\n",
       "142010  DEE0D       DE21D  15115.235294   \n",
       "\n",
       "                                                     path  reversed  \\\n",
       "142010  [DEE0D, bus_n_104139, bus_1413574, bus_n_10526...     False   \n",
       "\n",
       "       pathfinder_session          broken_modes  \n",
       "142010       mode_breaker  {rail_long_distance}  "
      ]
     },
     "execution_count": 15,
     "metadata": {},
     "output_type": "execute_result"
    }
   ],
   "source": [
    "ppf.broken_mode_paths.sample()"
   ]
  },
  {
   "cell_type": "code",
   "execution_count": 16,
   "metadata": {},
   "outputs": [
    {
     "name": "stderr",
     "output_type": "stream",
     "text": [
      "path_analysis: 100%|████████████████████████████████████████████████████████████| 2343902/2343902 [09:56<00:00, 3932.27it/s]\n"
     ]
    }
   ],
   "source": [
    "# Run the path analysis and assign paths as LoS table\n",
    "sm.pt_los = analysis.path_analysis_od_matrix(\n",
    "    od_matrix=ppf.broken_mode_paths,\n",
    "    links=sm.links,\n",
    "    nodes=sm.nodes,\n",
    "    centroids=sm.centroids)"
   ]
  },
  {
   "cell_type": "code",
   "execution_count": 17,
   "metadata": {},
   "outputs": [
    {
     "name": "stdout",
     "output_type": "stream",
     "text": [
      "2343902\n"
     ]
    },
    {
     "data": {
      "text/html": [
       "<div>\n",
       "<style scoped>\n",
       "    .dataframe tbody tr th:only-of-type {\n",
       "        vertical-align: middle;\n",
       "    }\n",
       "\n",
       "    .dataframe tbody tr th {\n",
       "        vertical-align: top;\n",
       "    }\n",
       "\n",
       "    .dataframe thead th {\n",
       "        text-align: right;\n",
       "    }\n",
       "</style>\n",
       "<table border=\"1\" class=\"dataframe\">\n",
       "  <thead>\n",
       "    <tr style=\"text-align: right;\">\n",
       "      <th></th>\n",
       "      <th>origin</th>\n",
       "      <th>destination</th>\n",
       "      <th>gtime</th>\n",
       "      <th>path</th>\n",
       "      <th>reversed</th>\n",
       "      <th>pathfinder_session</th>\n",
       "      <th>broken_modes</th>\n",
       "      <th>boardings</th>\n",
       "      <th>alightings</th>\n",
       "      <th>node_path</th>\n",
       "      <th>link_path</th>\n",
       "      <th>footpaths</th>\n",
       "      <th>ntlegs</th>\n",
       "      <th>transfers</th>\n",
       "      <th>boarding_links</th>\n",
       "      <th>alighting_links</th>\n",
       "      <th>all_walk</th>\n",
       "      <th>ntransfers</th>\n",
       "      <th>time_link_path</th>\n",
       "      <th>length_link_path</th>\n",
       "    </tr>\n",
       "  </thead>\n",
       "  <tbody>\n",
       "    <tr>\n",
       "      <th>123489</th>\n",
       "      <td>DEB35</td>\n",
       "      <td>DEG05</td>\n",
       "      <td>10744.611765</td>\n",
       "      <td>[DEB35, rail_long_node_10, rail_short_node_694...</td>\n",
       "      <td>False</td>\n",
       "      <td>mode_breaker</td>\n",
       "      <td>{bus, air}</td>\n",
       "      <td>[rail_short_node_6947, rail_short_node_10704, ...</td>\n",
       "      <td>[rail_short_node_10704, rail_short_node_12047,...</td>\n",
       "      <td>[rail_long_node_10, rail_short_node_6947, rail...</td>\n",
       "      <td>[rail_short_43407, rail_short_113219, rail_sho...</td>\n",
       "      <td>[(rail_long_node_10, rail_short_node_6947), (r...</td>\n",
       "      <td>[(DEB35, rail_long_node_10), (rail_long_node_1...</td>\n",
       "      <td>[rail_short_node_10704, rail_short_node_12047,...</td>\n",
       "      <td>[rail_short_43407, rail_short_113219, rail_sho...</td>\n",
       "      <td>[rail_short_43407, rail_short_113219, rail_sho...</td>\n",
       "      <td>False</td>\n",
       "      <td>7</td>\n",
       "      <td>9660</td>\n",
       "      <td>359438</td>\n",
       "    </tr>\n",
       "    <tr>\n",
       "      <th>17869</th>\n",
       "      <td>DE211</td>\n",
       "      <td>DE942</td>\n",
       "      <td>26504.011765</td>\n",
       "      <td>[DE211, bus_n_335645, bus_1470827, bus_n_33369...</td>\n",
       "      <td>False</td>\n",
       "      <td>mode_breaker</td>\n",
       "      <td>{rail_long_distance, rail_short_distance, air}</td>\n",
       "      <td>[bus_n_335645, bus_n_333698, coach_node_FLIXBU...</td>\n",
       "      <td>[bus_n_333698, bus_n_192200, coach_node_FLIXBU...</td>\n",
       "      <td>[bus_n_335645, bus_n_333698, bus_n_192200, coa...</td>\n",
       "      <td>[bus_1470827, bus_385502, coach_12831, coach_5...</td>\n",
       "      <td>[(bus_n_192200, coach_node_FLIXBUS:19698), (co...</td>\n",
       "      <td>[(DE211, bus_n_335645), (coach_node_FLIXBUS:73...</td>\n",
       "      <td>[bus_n_333698, coach_node_FLIXBUS:21, coach_no...</td>\n",
       "      <td>[bus_1470827, bus_385502, coach_12831, coach_5...</td>\n",
       "      <td>[bus_1470827, bus_385502, coach_12831, coach_5...</td>\n",
       "      <td>False</td>\n",
       "      <td>83</td>\n",
       "      <td>24000</td>\n",
       "      <td>1120665</td>\n",
       "    </tr>\n",
       "    <tr>\n",
       "      <th>146420</th>\n",
       "      <td>DEF0A</td>\n",
       "      <td>DE21C</td>\n",
       "      <td>36196.152941</td>\n",
       "      <td>[DEF0A, rail_short_node_8960, rail_short_16893...</td>\n",
       "      <td>False</td>\n",
       "      <td>mode_breaker</td>\n",
       "      <td>{bus, rail_long_distance, air}</td>\n",
       "      <td>[rail_short_node_8960, rail_short_node_11885, ...</td>\n",
       "      <td>[rail_short_node_11885, rail_short_node_6462, ...</td>\n",
       "      <td>[rail_short_node_8960, rail_short_node_11885, ...</td>\n",
       "      <td>[rail_short_16893, rail_short_16894, rail_shor...</td>\n",
       "      <td>[(rail_short_node_6462, rail_long_node_353), (...</td>\n",
       "      <td>[(DEF0A, rail_short_node_8960), (rail_short_no...</td>\n",
       "      <td>[rail_short_node_11885, rail_short_node_9605, ...</td>\n",
       "      <td>[rail_short_16893, rail_short_56689, rail_shor...</td>\n",
       "      <td>[rail_short_16895, rail_short_56690, rail_shor...</td>\n",
       "      <td>False</td>\n",
       "      <td>45</td>\n",
       "      <td>32880</td>\n",
       "      <td>1005139</td>\n",
       "    </tr>\n",
       "  </tbody>\n",
       "</table>\n",
       "</div>"
      ],
      "text/plain": [
       "       origin destination         gtime  \\\n",
       "123489  DEB35       DEG05  10744.611765   \n",
       "17869   DE211       DE942  26504.011765   \n",
       "146420  DEF0A       DE21C  36196.152941   \n",
       "\n",
       "                                                     path  reversed  \\\n",
       "123489  [DEB35, rail_long_node_10, rail_short_node_694...     False   \n",
       "17869   [DE211, bus_n_335645, bus_1470827, bus_n_33369...     False   \n",
       "146420  [DEF0A, rail_short_node_8960, rail_short_16893...     False   \n",
       "\n",
       "       pathfinder_session                                    broken_modes  \\\n",
       "123489       mode_breaker                                      {bus, air}   \n",
       "17869        mode_breaker  {rail_long_distance, rail_short_distance, air}   \n",
       "146420       mode_breaker                  {bus, rail_long_distance, air}   \n",
       "\n",
       "                                                boardings  \\\n",
       "123489  [rail_short_node_6947, rail_short_node_10704, ...   \n",
       "17869   [bus_n_335645, bus_n_333698, coach_node_FLIXBU...   \n",
       "146420  [rail_short_node_8960, rail_short_node_11885, ...   \n",
       "\n",
       "                                               alightings  \\\n",
       "123489  [rail_short_node_10704, rail_short_node_12047,...   \n",
       "17869   [bus_n_333698, bus_n_192200, coach_node_FLIXBU...   \n",
       "146420  [rail_short_node_11885, rail_short_node_6462, ...   \n",
       "\n",
       "                                                node_path  \\\n",
       "123489  [rail_long_node_10, rail_short_node_6947, rail...   \n",
       "17869   [bus_n_335645, bus_n_333698, bus_n_192200, coa...   \n",
       "146420  [rail_short_node_8960, rail_short_node_11885, ...   \n",
       "\n",
       "                                                link_path  \\\n",
       "123489  [rail_short_43407, rail_short_113219, rail_sho...   \n",
       "17869   [bus_1470827, bus_385502, coach_12831, coach_5...   \n",
       "146420  [rail_short_16893, rail_short_16894, rail_shor...   \n",
       "\n",
       "                                                footpaths  \\\n",
       "123489  [(rail_long_node_10, rail_short_node_6947), (r...   \n",
       "17869   [(bus_n_192200, coach_node_FLIXBUS:19698), (co...   \n",
       "146420  [(rail_short_node_6462, rail_long_node_353), (...   \n",
       "\n",
       "                                                   ntlegs  \\\n",
       "123489  [(DEB35, rail_long_node_10), (rail_long_node_1...   \n",
       "17869   [(DE211, bus_n_335645), (coach_node_FLIXBUS:73...   \n",
       "146420  [(DEF0A, rail_short_node_8960), (rail_short_no...   \n",
       "\n",
       "                                                transfers  \\\n",
       "123489  [rail_short_node_10704, rail_short_node_12047,...   \n",
       "17869   [bus_n_333698, coach_node_FLIXBUS:21, coach_no...   \n",
       "146420  [rail_short_node_11885, rail_short_node_9605, ...   \n",
       "\n",
       "                                           boarding_links  \\\n",
       "123489  [rail_short_43407, rail_short_113219, rail_sho...   \n",
       "17869   [bus_1470827, bus_385502, coach_12831, coach_5...   \n",
       "146420  [rail_short_16893, rail_short_56689, rail_shor...   \n",
       "\n",
       "                                          alighting_links  all_walk  \\\n",
       "123489  [rail_short_43407, rail_short_113219, rail_sho...     False   \n",
       "17869   [bus_1470827, bus_385502, coach_12831, coach_5...     False   \n",
       "146420  [rail_short_16895, rail_short_56690, rail_shor...     False   \n",
       "\n",
       "        ntransfers  time_link_path  length_link_path  \n",
       "123489           7            9660            359438  \n",
       "17869           83           24000           1120665  \n",
       "146420          45           32880           1005139  "
      ]
     },
     "execution_count": 17,
     "metadata": {},
     "output_type": "execute_result"
    }
   ],
   "source": [
    "print(len(sm.pt_los.index))\n",
    "sm.pt_los.loc[sm.pt_los['origin']!=sm.pt_los['destination']].sample(3)"
   ]
  },
  {
   "cell_type": "markdown",
   "metadata": {},
   "source": [
    "### Add attributes to LoS table"
   ]
  },
  {
   "cell_type": "code",
   "execution_count": 18,
   "metadata": {},
   "outputs": [
    {
     "name": "stdout",
     "output_type": "stream",
     "text": [
      "Index(['origin', 'destination', 'gtime', 'path', 'reversed',\n",
      "       'pathfinder_session', 'broken_modes', 'boardings', 'alightings',\n",
      "       'node_path', 'link_path', 'footpaths', 'ntlegs', 'transfers',\n",
      "       'boarding_links', 'alighting_links', 'all_walk', 'ntransfers',\n",
      "       'time_link_path', 'length_link_path', 'access_time', 'footpath_time',\n",
      "       'in_vehicle_time', 'waiting_time', 'boarding_time', 'time'],\n",
      "      dtype='object')\n"
     ]
    }
   ],
   "source": [
    "# Disaggregate time into in-vehicle and access/egress\n",
    "sm.analysis_pt_time(boarding_time=0)\n",
    "print(sm.pt_los.columns)"
   ]
  },
  {
   "cell_type": "code",
   "execution_count": 19,
   "metadata": {},
   "outputs": [],
   "source": [
    "# Add price, parametrisation comes later\n",
    "sm.pt_los['price'] = 0"
   ]
  },
  {
   "cell_type": "code",
   "execution_count": 20,
   "metadata": {},
   "outputs": [],
   "source": [
    "# Add distances\n",
    "len_dict = sm.links['length'].to_dict()\n",
    "sm.pt_los['length'] = sm.pt_los['link_path'].apply(lambda p: sum([len_dict[l] for l in p]))"
   ]
  },
  {
   "cell_type": "code",
   "execution_count": 21,
   "metadata": {},
   "outputs": [],
   "source": [
    "# Add route_types\n",
    "type_dict = sm.links['route_type'].to_dict()\n",
    "sm.pt_los['route_types'] = [set([type_dict[link] for link in l])\n",
    "                            for l in list(sm.pt_los['link_path'])]"
   ]
  },
  {
   "cell_type": "code",
   "execution_count": 22,
   "metadata": {},
   "outputs": [],
   "source": [
    "# Add main route_type based on a hierarchy\n",
    "hierarchy = ['air', 'coach', 'rail_long_distance', 'rail_short_distance', 'bus', 'walk']\n",
    "def main_type(types):\n",
    "    t = hierarchy[-1]\n",
    "    try:\n",
    "        t = hierarchy[min([hierarchy.index(t) for t in types])]\n",
    "    except ValueError: # empty types set\n",
    "        pass\n",
    "    return t\n",
    "sm.pt_los['route_type'] = sm.pt_los['route_types'].apply(main_type)"
   ]
  },
  {
   "cell_type": "code",
   "execution_count": 23,
   "metadata": {},
   "outputs": [],
   "source": [
    "# Add number of transfers\n",
    "#sm.pt_los['ntransfers'] = sm.pt_los['boardings'].apply(lambda l: max(0, len(l) - 1))"
   ]
  },
  {
   "cell_type": "code",
   "execution_count": 24,
   "metadata": {},
   "outputs": [
    {
     "data": {
      "text/html": [
       "<div>\n",
       "<style scoped>\n",
       "    .dataframe tbody tr th:only-of-type {\n",
       "        vertical-align: middle;\n",
       "    }\n",
       "\n",
       "    .dataframe tbody tr th {\n",
       "        vertical-align: top;\n",
       "    }\n",
       "\n",
       "    .dataframe thead th {\n",
       "        text-align: right;\n",
       "    }\n",
       "</style>\n",
       "<table border=\"1\" class=\"dataframe\">\n",
       "  <thead>\n",
       "    <tr style=\"text-align: right;\">\n",
       "      <th></th>\n",
       "      <th>origin</th>\n",
       "      <th>destination</th>\n",
       "      <th>gtime</th>\n",
       "      <th>path</th>\n",
       "      <th>reversed</th>\n",
       "      <th>pathfinder_session</th>\n",
       "      <th>broken_modes</th>\n",
       "      <th>boardings</th>\n",
       "      <th>alightings</th>\n",
       "      <th>node_path</th>\n",
       "      <th>...</th>\n",
       "      <th>access_time</th>\n",
       "      <th>footpath_time</th>\n",
       "      <th>in_vehicle_time</th>\n",
       "      <th>waiting_time</th>\n",
       "      <th>boarding_time</th>\n",
       "      <th>time</th>\n",
       "      <th>price</th>\n",
       "      <th>length</th>\n",
       "      <th>route_types</th>\n",
       "      <th>route_type</th>\n",
       "    </tr>\n",
       "  </thead>\n",
       "  <tbody>\n",
       "    <tr>\n",
       "      <th>49532</th>\n",
       "      <td>DE26A</td>\n",
       "      <td>DE926</td>\n",
       "      <td>7997.352941</td>\n",
       "      <td>[DE26A, bus_n_329102, bus_277242, bus_n_88420,...</td>\n",
       "      <td>False</td>\n",
       "      <td>mode_breaker</td>\n",
       "      <td>{coach}</td>\n",
       "      <td>[bus_n_329102, bus_n_364847, bus_n_256966, rai...</td>\n",
       "      <td>[bus_n_88420, bus_n_256966, bus_n_247332, rail...</td>\n",
       "      <td>[bus_n_329102, bus_n_88420, rail_short_node_13...</td>\n",
       "      <td>...</td>\n",
       "      <td>654.352941</td>\n",
       "      <td>743</td>\n",
       "      <td>6600</td>\n",
       "      <td>0.0</td>\n",
       "      <td>0</td>\n",
       "      <td>7997.352941</td>\n",
       "      <td>0</td>\n",
       "      <td>364667</td>\n",
       "      <td>{bus, rail_short_distance, rail_long_distance}</td>\n",
       "      <td>rail_long_distance</td>\n",
       "    </tr>\n",
       "    <tr>\n",
       "      <th>65326</th>\n",
       "      <td>DE711</td>\n",
       "      <td>DEF02</td>\n",
       "      <td>23386.294118</td>\n",
       "      <td>[DE711, rail_short_node_2, bus_n_21457, bus_16...</td>\n",
       "      <td>False</td>\n",
       "      <td>mode_breaker</td>\n",
       "      <td>{rail_long_distance, rail_short_distance, air}</td>\n",
       "      <td>[bus_n_21457, coach_node_FLIXBUS:20648, coach_...</td>\n",
       "      <td>[bus_n_61091, coach_node_FLIXBUS:13, coach_nod...</td>\n",
       "      <td>[rail_short_node_2, bus_n_21457, bus_n_61091, ...</td>\n",
       "      <td>...</td>\n",
       "      <td>437.294118</td>\n",
       "      <td>1289</td>\n",
       "      <td>21660</td>\n",
       "      <td>0.0</td>\n",
       "      <td>0</td>\n",
       "      <td>23386.294118</td>\n",
       "      <td>0</td>\n",
       "      <td>997355</td>\n",
       "      <td>{bus, coach}</td>\n",
       "      <td>coach</td>\n",
       "    </tr>\n",
       "  </tbody>\n",
       "</table>\n",
       "<p>2 rows × 30 columns</p>\n",
       "</div>"
      ],
      "text/plain": [
       "      origin destination         gtime  \\\n",
       "49532  DE26A       DE926   7997.352941   \n",
       "65326  DE711       DEF02  23386.294118   \n",
       "\n",
       "                                                    path  reversed  \\\n",
       "49532  [DE26A, bus_n_329102, bus_277242, bus_n_88420,...     False   \n",
       "65326  [DE711, rail_short_node_2, bus_n_21457, bus_16...     False   \n",
       "\n",
       "      pathfinder_session                                    broken_modes  \\\n",
       "49532       mode_breaker                                         {coach}   \n",
       "65326       mode_breaker  {rail_long_distance, rail_short_distance, air}   \n",
       "\n",
       "                                               boardings  \\\n",
       "49532  [bus_n_329102, bus_n_364847, bus_n_256966, rai...   \n",
       "65326  [bus_n_21457, coach_node_FLIXBUS:20648, coach_...   \n",
       "\n",
       "                                              alightings  \\\n",
       "49532  [bus_n_88420, bus_n_256966, bus_n_247332, rail...   \n",
       "65326  [bus_n_61091, coach_node_FLIXBUS:13, coach_nod...   \n",
       "\n",
       "                                               node_path  ... access_time  \\\n",
       "49532  [bus_n_329102, bus_n_88420, rail_short_node_13...  ...  654.352941   \n",
       "65326  [rail_short_node_2, bus_n_21457, bus_n_61091, ...  ...  437.294118   \n",
       "\n",
       "      footpath_time in_vehicle_time waiting_time boarding_time          time  \\\n",
       "49532           743            6600          0.0             0   7997.352941   \n",
       "65326          1289           21660          0.0             0  23386.294118   \n",
       "\n",
       "       price  length                                     route_types  \\\n",
       "49532      0  364667  {bus, rail_short_distance, rail_long_distance}   \n",
       "65326      0  997355                                    {bus, coach}   \n",
       "\n",
       "               route_type  \n",
       "49532  rail_long_distance  \n",
       "65326               coach  \n",
       "\n",
       "[2 rows x 30 columns]"
      ]
     },
     "execution_count": 24,
     "metadata": {},
     "output_type": "execute_result"
    }
   ],
   "source": [
    "sm.pt_los.sample(2)"
   ]
  },
  {
   "cell_type": "code",
   "execution_count": 25,
   "metadata": {},
   "outputs": [],
   "source": [
    "# Make a copy before restricting results\n",
    "los = sm.pt_los.copy()"
   ]
  },
  {
   "cell_type": "markdown",
   "metadata": {},
   "source": [
    "### Clean PT LOS"
   ]
  },
  {
   "cell_type": "code",
   "execution_count": 41,
   "metadata": {},
   "outputs": [
    {
     "data": {
      "text/plain": [
       "(1848554, 30)"
      ]
     },
     "execution_count": 41,
     "metadata": {},
     "output_type": "execute_result"
    }
   ],
   "source": [
    "# Drop trips with coach-rail or coach-air combinations\n",
    "sm.pt_los = sm.pt_los.loc[~sm.pt_los['route_types'].apply(\n",
    "    lambda x: 'coach' in x and ('rail_long_distance' in x or 'rail_short_distance' in x or 'air' in x))]\n",
    "sm.pt_los.shape"
   ]
  },
  {
   "cell_type": "code",
   "execution_count": 42,
   "metadata": {},
   "outputs": [
    {
     "data": {
      "text/plain": [
       "(1845527, 30)"
      ]
     },
     "execution_count": 42,
     "metadata": {},
     "output_type": "execute_result"
    }
   ],
   "source": [
    "# Drop unrealistically long trips\n",
    "sm.pt_los = sm.pt_los.loc[sm.pt_los['in_vehicle_time']<10*3600]\n",
    "sm.pt_los.shape"
   ]
  },
  {
   "cell_type": "code",
   "execution_count": 43,
   "metadata": {},
   "outputs": [
    {
     "data": {
      "text/plain": [
       "array([[<AxesSubplot:title={'center':'time'}>]], dtype=object)"
      ]
     },
     "execution_count": 43,
     "metadata": {},
     "output_type": "execute_result"
    },
    {
     "data": {
      "image/png": "[encoded data removed]",
      "text/plain": [
       "<Figure size 288x288 with 1 Axes>"
      ]
     },
     "metadata": {
      "needs_background": "light"
     },
     "output_type": "display_data"
    }
   ],
   "source": [
    "# Time distribution\n",
    "sm.pt_los.hist(column='time', bins=100, figsize=(4,4), log=True)"
   ]
  },
  {
   "cell_type": "code",
   "execution_count": 44,
   "metadata": {},
   "outputs": [
    {
     "data": {
      "text/plain": [
       "(1742910, 31)"
      ]
     },
     "execution_count": 44,
     "metadata": {},
     "output_type": "execute_result"
    }
   ],
   "source": [
    "'''# Keep only the fastest trip(s)\n",
    "sm.pt_los['route_types'] = sm.pt_los['route_types'].apply(tuple)\n",
    "sm.pt_los = sm.pt_los.sort_values('time').groupby(\n",
    "    ['origin', 'destination', 'route_types']).nth(0)'''\n",
    "# Drop duplicates\n",
    "sm.pt_los['path'] = sm.pt_los['path'].apply(tuple)\n",
    "sm.pt_los.drop_duplicates('path', inplace=True)\n",
    "sm.pt_los.reset_index(inplace=True)\n",
    "sm.pt_los.shape"
   ]
  },
  {
   "cell_type": "code",
   "execution_count": 45,
   "metadata": {},
   "outputs": [
    {
     "data": {
      "text/plain": [
       "array([[<AxesSubplot:title={'center':'time'}>]], dtype=object)"
      ]
     },
     "execution_count": 45,
     "metadata": {},
     "output_type": "execute_result"
    },
    {
     "data": {
      "image/png": "[encoded data removed]",
      "text/plain": [
       "<Figure size 288x288 with 1 Axes>"
      ]
     },
     "metadata": {
      "needs_background": "light"
     },
     "output_type": "display_data"
    }
   ],
   "source": [
    "sm.pt_los.hist(column='time', bins=100, figsize=(4,4), log=True)"
   ]
  },
  {
   "cell_type": "code",
   "execution_count": 46,
   "metadata": {},
   "outputs": [
    {
     "data": {
      "text/plain": [
       "array([[<AxesSubplot:title={'center':'ntransfers'}>]], dtype=object)"
      ]
     },
     "execution_count": 46,
     "metadata": {},
     "output_type": "execute_result"
    },
    {
     "data": {
      "image/png": "[encoded data removed]",
      "text/plain": [
       "<Figure size 288x288 with 1 Axes>"
      ]
     },
     "metadata": {
      "needs_background": "light"
     },
     "output_type": "display_data"
    }
   ],
   "source": [
    "sm.pt_los.hist(column='ntransfers', figsize=(4,4))"
   ]
  },
  {
   "cell_type": "code",
   "execution_count": 47,
   "metadata": {},
   "outputs": [
    {
     "data": {
      "text/plain": [
       "<matplotlib.legend.Legend at 0x190b1b8a6a0>"
      ]
     },
     "execution_count": 47,
     "metadata": {},
     "output_type": "execute_result"
    },
    {
     "data": {
      "image/png": "[encoded data removed]",
      "text/plain": [
       "<Figure size 1152x216 with 6 Axes>"
      ]
     },
     "metadata": {},
     "output_type": "display_data"
    }
   ],
   "source": [
    "t = sm.pt_los.copy()\n",
    "t['bins'] = pd.cut(t['ntransfers'], bins=[0,1,3,5,10,20,100],\n",
    "                   labels=[\"0-1\", \"2-3\",\"4-5\",\"6-10\",\"11-20\",\"21+\"])\n",
    "axs = t.groupby(['route_type','bins']).size().unstack(fill_value=0).plot.pie(\n",
    "    subplots=True, figsize=(16, 3),\n",
    "    startangle=0, counterclock=False, title='Main mode by number of transfers',\n",
    "    legend=False, labeldistance=None)\n",
    "axs[0].legend(loc='lower left')"
   ]
  },
  {
   "cell_type": "code",
   "execution_count": 33,
   "metadata": {},
   "outputs": [],
   "source": [
    "# Drop unnecessary long connections\n",
    "if sm.links['headway'].mean() > 60:\n",
    "    sm.pt_los = sm.pt_los.loc[sm.pt_los['ntransfers']<20]\n",
    "    print(sm.pt_los.shape)"
   ]
  },
  {
   "cell_type": "code",
   "execution_count": 48,
   "metadata": {},
   "outputs": [
    {
     "data": {
      "text/plain": [
       "<matplotlib.legend.Legend at 0x192adc0ad60>"
      ]
     },
     "execution_count": 48,
     "metadata": {},
     "output_type": "execute_result"
    },
    {
     "data": {
      "image/png": "[encoded data removed]",
      "text/plain": [
       "<Figure size 1152x216 with 6 Axes>"
      ]
     },
     "metadata": {},
     "output_type": "display_data"
    }
   ],
   "source": [
    "t['time'] = t['time'] / 60\n",
    "t['bins'] = pd.cut(t['time'], bins=[0,15,30,60,120,360,500],\n",
    "                   labels=[\"0-15\", \"16-30\",\"31-60\",\"61-120\",\"120-360\",\"361+\"])\n",
    "axs = t.groupby(['route_type','bins']).size().unstack(fill_value=0).plot.pie(\n",
    "    subplots=True, figsize=(16, 3),\n",
    "    startangle=0, counterclock=False, title='Main mode by trip duration',\n",
    "    legend=False, labeldistance=None)\n",
    "axs[-1].legend()"
   ]
  },
  {
   "cell_type": "code",
   "execution_count": 49,
   "metadata": {},
   "outputs": [],
   "source": [
    "t = None"
   ]
  },
  {
   "cell_type": "code",
   "execution_count": 50,
   "metadata": {},
   "outputs": [],
   "source": [
    "# Ditch unneccessary columns\n",
    "to_drop = ['gtime', 'path', 'reversed', 'pathfinder_session',\n",
    "           'broken_modes', 'boardings', 'alightings', 'node_path',\n",
    "           'footpaths', 'ntlegs', 'transfers', 'boarding_links',\n",
    "           'alighting_links', 'all_walk', 'time_link_path',\n",
    "           'length_link_path', 'boarding_time']\n",
    "sm.pt_los = sm.pt_los.drop(to_drop, axis=1, errors='ignore')"
   ]
  },
  {
   "cell_type": "code",
   "execution_count": 51,
   "metadata": {},
   "outputs": [],
   "source": [
    "# Clean links table\n",
    "to_drop = ['duration', 'cost', 'origin', 'destination']\n",
    "sm.links = sm.links.drop(to_drop, axis=1, errors='ignore')"
   ]
  },
  {
   "cell_type": "code",
   "execution_count": 52,
   "metadata": {},
   "outputs": [],
   "source": [
    "# Make table smaller\n",
    "cols = ['time', 'access_time', 'in_vehicle_time', 'footpath_time',\n",
    "        'waiting_time', 'length']\n",
    "sm.pt_los[cols] = sm.pt_los[cols].astype(int)"
   ]
  },
  {
   "cell_type": "code",
   "execution_count": 53,
   "metadata": {},
   "outputs": [
    {
     "data": {
      "text/html": [
       "<div>\n",
       "<style scoped>\n",
       "    .dataframe tbody tr th:only-of-type {\n",
       "        vertical-align: middle;\n",
       "    }\n",
       "\n",
       "    .dataframe tbody tr th {\n",
       "        vertical-align: top;\n",
       "    }\n",
       "\n",
       "    .dataframe thead th {\n",
       "        text-align: right;\n",
       "    }\n",
       "</style>\n",
       "<table border=\"1\" class=\"dataframe\">\n",
       "  <thead>\n",
       "    <tr style=\"text-align: right;\">\n",
       "      <th></th>\n",
       "      <th>index</th>\n",
       "      <th>origin</th>\n",
       "      <th>destination</th>\n",
       "      <th>link_path</th>\n",
       "      <th>ntransfers</th>\n",
       "      <th>access_time</th>\n",
       "      <th>footpath_time</th>\n",
       "      <th>in_vehicle_time</th>\n",
       "      <th>waiting_time</th>\n",
       "      <th>time</th>\n",
       "      <th>price</th>\n",
       "      <th>length</th>\n",
       "      <th>route_types</th>\n",
       "      <th>route_type</th>\n",
       "    </tr>\n",
       "  </thead>\n",
       "  <tbody>\n",
       "    <tr>\n",
       "      <th>879581</th>\n",
       "      <td>131545</td>\n",
       "      <td>DEC06</td>\n",
       "      <td>DE125</td>\n",
       "      <td>[rail_short_46551, rail_short_46552, rail_shor...</td>\n",
       "      <td>10</td>\n",
       "      <td>529</td>\n",
       "      <td>0</td>\n",
       "      <td>5280</td>\n",
       "      <td>0</td>\n",
       "      <td>5809</td>\n",
       "      <td>0</td>\n",
       "      <td>180282</td>\n",
       "      <td>{rail_short_distance}</td>\n",
       "      <td>rail_short_distance</td>\n",
       "    </tr>\n",
       "  </tbody>\n",
       "</table>\n",
       "</div>"
      ],
      "text/plain": [
       "         index origin destination  \\\n",
       "879581  131545  DEC06       DE125   \n",
       "\n",
       "                                                link_path  ntransfers  \\\n",
       "879581  [rail_short_46551, rail_short_46552, rail_shor...          10   \n",
       "\n",
       "        access_time  footpath_time  in_vehicle_time  waiting_time  time  \\\n",
       "879581          529              0             5280             0  5809   \n",
       "\n",
       "        price  length            route_types           route_type  \n",
       "879581      0  180282  {rail_short_distance}  rail_short_distance  "
      ]
     },
     "execution_count": 53,
     "metadata": {},
     "output_type": "execute_result"
    }
   ],
   "source": [
    "sm.pt_los.sample()"
   ]
  },
  {
   "cell_type": "markdown",
   "metadata": {},
   "source": [
    "### Save model"
   ]
  },
  {
   "cell_type": "code",
   "execution_count": 54,
   "metadata": {},
   "outputs": [
    {
     "name": "stderr",
     "output_type": "stream",
     "text": [
      "to_hdf(overwriting): 100%|██████████████████████████████████████████████████████████████████| 36/36 [02:10<00:00,  3.62s/it]\n"
     ]
    }
   ],
   "source": [
    "# Saving LoS...\n",
    "sm.to_json(model_path + 'de_pt_los', only_attributes=['pt_los'],\n",
    "           encoding='utf-8')"
   ]
  },
  {
   "cell_type": "code",
   "execution_count": 45,
   "metadata": {},
   "outputs": [],
   "source": [
    "# Split links in graph and auxiliary information\n",
    "# for file sizes being compatible with github's size limit\n",
    "cols = ['link_sequence', 'route_id', 'time', 'trip_id', 'length', 'headway']\n",
    "auxiliary = sm.links[cols]\n",
    "sm.links.drop(cols, axis=1, inplace=True)"
   ]
  },
  {
   "cell_type": "code",
   "execution_count": 36,
   "metadata": {},
   "outputs": [
    {
     "name": "stderr",
     "output_type": "stream",
     "text": [
      "to_hdf(overwriting): 100%|██████████████████████████████████████████████████████████████████| 36/36 [00:57<00:00,  1.59s/it]\n"
     ]
    }
   ],
   "source": [
    "sm.to_json(model_path + 'de_pt_network_agg', only_attributes=[\n",
    "    'zones', 'links', 'nodes', 'pt_route_types'],\n",
    "           encoding='utf-8')"
   ]
  },
  {
   "cell_type": "code",
   "execution_count": 37,
   "metadata": {},
   "outputs": [],
   "source": [
    "# Save auxiliary information seperately\n",
    "auxiliary['index'] = auxiliary.index\n",
    "auxiliary.reset_index(drop=True, inplace=True)\n",
    "auxiliary.to_json(model_path + 'de_pt_network_agg/links_quetzaldata.json')"
   ]
  },
  {
   "cell_type": "code",
   "execution_count": 41,
   "metadata": {},
   "outputs": [],
   "source": [
    "sm.links = None\n",
    "sm.nodes = None"
   ]
  }
 ],
 "metadata": {
  "kernelspec": {
   "display_name": "Python 3",
   "language": "python",
   "name": "python3"
  },
  "language_info": {
   "codemirror_mode": {
    "name": "ipython",
    "version": 3
   },
   "file_extension": ".py",
   "mimetype": "text/x-python",
   "name": "python",
   "nbconvert_exporter": "python",
   "pygments_lexer": "ipython3",
   "version": "3.8.1"
  }
 },
 "nbformat": 4,
 "nbformat_minor": 2
}
