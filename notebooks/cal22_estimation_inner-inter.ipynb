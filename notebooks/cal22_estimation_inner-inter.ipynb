{
 "cells": [
  {
   "cell_type": "code",
   "execution_count": 1,
   "id": "aae6f93a",
   "metadata": {},
   "outputs": [
    {
     "name": "stderr",
     "output_type": "stream",
     "text": [
      "\n",
      "Bad key text.latex.preview in file C:\\Users\\marlin.arnz\\AppData\\Local\\Continuum\\miniconda3\\envs\\quetzal\\lib\\site-packages\\matplotlib\\mpl-data\\stylelib\\_classic_test.mplstyle, line 123 ('text.latex.preview : False')\n",
      "You probably need to get an updated matplotlibrc file from\n",
      "https://github.com/matplotlib/matplotlib/blob/v3.5.2/matplotlibrc.template\n",
      "or from the matplotlib source distribution\n",
      "\n",
      "Bad key mathtext.fallback_to_cm in file C:\\Users\\marlin.arnz\\AppData\\Local\\Continuum\\miniconda3\\envs\\quetzal\\lib\\site-packages\\matplotlib\\mpl-data\\stylelib\\_classic_test.mplstyle, line 155 ('mathtext.fallback_to_cm : True  # When True, use symbols from the Computer Modern')\n",
      "You probably need to get an updated matplotlibrc file from\n",
      "https://github.com/matplotlib/matplotlib/blob/v3.5.2/matplotlibrc.template\n",
      "or from the matplotlib source distribution\n",
      "\n",
      "Bad key savefig.jpeg_quality in file C:\\Users\\marlin.arnz\\AppData\\Local\\Continuum\\miniconda3\\envs\\quetzal\\lib\\site-packages\\matplotlib\\mpl-data\\stylelib\\_classic_test.mplstyle, line 418 ('savefig.jpeg_quality: 95       # when a jpeg is saved, the default quality parameter.')\n",
      "You probably need to get an updated matplotlibrc file from\n",
      "https://github.com/matplotlib/matplotlib/blob/v3.5.2/matplotlibrc.template\n",
      "or from the matplotlib source distribution\n",
      "\n",
      "Bad key keymap.all_axes in file C:\\Users\\marlin.arnz\\AppData\\Local\\Continuum\\miniconda3\\envs\\quetzal\\lib\\site-packages\\matplotlib\\mpl-data\\stylelib\\_classic_test.mplstyle, line 466 ('keymap.all_axes : a                 # enable all axes')\n",
      "You probably need to get an updated matplotlibrc file from\n",
      "https://github.com/matplotlib/matplotlib/blob/v3.5.2/matplotlibrc.template\n",
      "or from the matplotlib source distribution\n",
      "\n",
      "Bad key animation.avconv_path in file C:\\Users\\marlin.arnz\\AppData\\Local\\Continuum\\miniconda3\\envs\\quetzal\\lib\\site-packages\\matplotlib\\mpl-data\\stylelib\\_classic_test.mplstyle, line 477 ('animation.avconv_path: avconv     # Path to avconv binary. Without full path')\n",
      "You probably need to get an updated matplotlibrc file from\n",
      "https://github.com/matplotlib/matplotlib/blob/v3.5.2/matplotlibrc.template\n",
      "or from the matplotlib source distribution\n",
      "\n",
      "Bad key animation.avconv_args in file C:\\Users\\marlin.arnz\\AppData\\Local\\Continuum\\miniconda3\\envs\\quetzal\\lib\\site-packages\\matplotlib\\mpl-data\\stylelib\\_classic_test.mplstyle, line 479 ('animation.avconv_args:            # Additional arguments to pass to avconv')\n",
      "You probably need to get an updated matplotlibrc file from\n",
      "https://github.com/matplotlib/matplotlib/blob/v3.5.2/matplotlibrc.template\n",
      "or from the matplotlib source distribution\n"
     ]
    }
   ],
   "source": [
    "import sys # for automation and parallelisation\n",
    "manual, scenario = (True, 'base') if 'ipykernel' in sys.argv[0] else (False, sys.argv[1])\n",
    "if manual:\n",
    "    %matplotlib inline"
   ]
  },
  {
   "cell_type": "code",
   "execution_count": 12,
   "id": "12b8bed7",
   "metadata": {},
   "outputs": [],
   "source": [
    "import pandas as pd\n",
    "import geopandas as gpd\n",
    "import numpy as np\n",
    "import matplotlib.pyplot as plt\n",
    "from quetzal.model import stepmodel\n",
    "from quetzal.io import excel\n",
    "import biogeme.database as db\n",
    "import biogeme.biogeme as bio\n",
    "import biogeme.models as models\n",
    "import biogeme.messaging as message\n",
    "from biogeme import expressions as ex"
   ]
  },
  {
   "cell_type": "code",
   "execution_count": 10,
   "id": "524fd039",
   "metadata": {},
   "outputs": [],
   "source": [
    "model_path = '../model/' + scenario + '/'\n",
    "input_path = '../input/'\n",
    "zone_data_path = '../input_static/zones_Gebietsaenderungen/'\n",
    "input_static_path = '../input_static/'\n",
    "output_path = '../output/'"
   ]
  },
  {
   "cell_type": "code",
   "execution_count": 4,
   "id": "d1e2ff11",
   "metadata": {},
   "outputs": [],
   "source": [
    "# Load parameters for settings\n",
    "params = excel.read_var(file='../input/parameters.xls', scenario=scenario)"
   ]
  },
  {
   "cell_type": "markdown",
   "id": "4eac6c90",
   "metadata": {
    "tags": []
   },
   "source": [
    "# Calibration: inner/inter-zonal destination choice\n",
    "\n",
    "## Requires MiD data\n",
    "\n",
    "## Saves inner-zonal probabilities for zones\n",
    "\n",
    "Assumptions apply as in `model_generation`"
   ]
  },
  {
   "cell_type": "code",
   "execution_count": 8,
   "id": "19f4464b",
   "metadata": {},
   "outputs": [],
   "source": [
    "sm = stepmodel.read_json(model_path + 'de_zones')"
   ]
  },
  {
   "cell_type": "code",
   "execution_count": 19,
   "id": "82c2a51d",
   "metadata": {},
   "outputs": [],
   "source": [
    "# Transport demand segments\n",
    "segments = [s.strip() for s in params['general']['demand_segments'].split(';')]\n",
    "purposes = ['commuting', 'business', 'education', 'buy/execute', 'leisure', 'accompany']"
   ]
  },
  {
   "cell_type": "code",
   "execution_count": 6,
   "id": "313e9dc1",
   "metadata": {},
   "outputs": [
    {
     "data": {
      "text/plain": [
       "(260723, 8)"
      ]
     },
     "execution_count": 6,
     "metadata": {},
     "output_type": "execute_result"
    }
   ],
   "source": [
    "# Load trips from MiD2017\n",
    "trips = pd.read_csv(input_path + 'transport_demand/calibration_all_trips_MiD2017.csv',\n",
    "                    usecols=['purpose_model', 'purpose2', 'car_avail', 'distance',\n",
    "                             'origin', 'destination', 'P_ID', 'W_GEW'])\n",
    "trips.rename(columns={'car_avail': 'car_av'}, inplace=True)\n",
    "trips.shape"
   ]
  },
  {
   "cell_type": "code",
   "execution_count": 9,
   "id": "f9eb7681",
   "metadata": {},
   "outputs": [
    {
     "data": {
      "text/plain": [
       "155235"
      ]
     },
     "execution_count": 9,
     "metadata": {},
     "output_type": "execute_result"
    }
   ],
   "source": [
    "# Drop return trips\n",
    "trips = trips.loc[~trips['purpose2'].isin([8,9])]\n",
    "len(trips)"
   ]
  },
  {
   "cell_type": "markdown",
   "id": "8574d866",
   "metadata": {},
   "source": [
    "## Add choice attributes"
   ]
  },
  {
   "cell_type": "code",
   "execution_count": 13,
   "id": "1a10f168",
   "metadata": {},
   "outputs": [],
   "source": [
    "# Add employment to trips\n",
    "zone_dict = sm.zones['employment'].to_dict()\n",
    "trips['employment'] = trips['origin'].map(zone_dict)"
   ]
  },
  {
   "cell_type": "code",
   "execution_count": 14,
   "id": "16b99e8e",
   "metadata": {},
   "outputs": [],
   "source": [
    "# Load other attraction POIs\n",
    "pois = pd.read_csv(input_path + 'spatial_num_pois_raw.csv', index_col='index')\n",
    "cats = pd.read_excel(input_path + 'spatial_OSM_POI_list.xlsx', sheet_name='categories')\n",
    "cats['label'] = (cats['key'] + ' ' + cats['value'].fillna('')).str.strip()\n",
    "for category, columns in cats.loc[cats['category'].notna()\n",
    "                                 ].groupby('category').agg(\n",
    "                                {'label': list})['label'].items():\n",
    "    trips[category] = trips['origin'].map(pois[columns].sum(axis=1)).fillna(0)\n",
    "    sm.zones[category] = sm.zones['FID'].map(pois[columns].sum(axis=1)).fillna(0)"
   ]
  },
  {
   "cell_type": "code",
   "execution_count": 15,
   "id": "858d4706",
   "metadata": {},
   "outputs": [
    {
     "data": {
      "text/plain": [
       "(155235, 21)"
      ]
     },
     "execution_count": 15,
     "metadata": {},
     "output_type": "execute_result"
    }
   ],
   "source": [
    "# Put zone data in trips table (population, area, urbanisation)\n",
    "trips = trips.merge(sm.zones[['population', 'area', 'urbanisation']],\n",
    "                    how='inner', # drop trips outside of model zones\n",
    "                    left_on='origin', right_index=True)\n",
    "trips.shape"
   ]
  },
  {
   "cell_type": "code",
   "execution_count": 23,
   "id": "83cedf0a",
   "metadata": {},
   "outputs": [],
   "source": [
    "# Add accessibility\n",
    "# Load inter-zonal composite cost from mode choice step\n",
    "cc = pd.read_csv(output_path + scenario + '/mode_choice_od_composite_cost.csv')\n",
    "cc.set_index(['origin', 'destination'], inplace=True)\n",
    "# Rename segments to integer values\n",
    "cc.columns = pd.MultiIndex.from_tuples(\n",
    "    [(seg.split('_')[0], {'no': 0, 'car': 1}[seg.split('_')[1]])\n",
    "     for seg in cc.columns],\n",
    "    names=['purpose_model', 'car_av'])\n",
    "# Reshape the table into a mergable format\n",
    "# Use the mean CC to all destinations as accessibility\n",
    "cc = cc.unstack('destination').stack('purpose_model').stack('car_av').mean(axis=1)\n",
    "cc = cc.unstack('purpose_model')\n",
    "# Merge\n",
    "for p in purposes:\n",
    "    trips['acc_'+p] = trips.merge(cc[[p]], how='left', left_on=['origin', 'car_av'],\n",
    "                                  right_index=True)[p]\n",
    "    trips['acc_'+p] = trips['acc_'+p].fillna(trips['acc_'+p].max())"
   ]
  },
  {
   "cell_type": "code",
   "execution_count": 24,
   "id": "d23d0cbd",
   "metadata": {},
   "outputs": [
    {
     "data": {
      "text/plain": [
       "(155227, 27)"
      ]
     },
     "execution_count": 24,
     "metadata": {},
     "output_type": "execute_result"
    }
   ],
   "source": [
    "# Drop relevant NaN data\n",
    "trips = trips.loc[trips['car_av'].isin([0,1])]\n",
    "trips.shape"
   ]
  },
  {
   "cell_type": "code",
   "execution_count": 28,
   "id": "f43737f2",
   "metadata": {},
   "outputs": [
    {
     "data": {
      "text/plain": [
       "(155223, 28)"
      ]
     },
     "execution_count": 28,
     "metadata": {},
     "output_type": "execute_result"
    }
   ],
   "source": [
    "trips = trips.loc[trips.notna().all(axis=1)]\n",
    "trips.shape"
   ]
  },
  {
   "cell_type": "code",
   "execution_count": 27,
   "id": "6bc58d25",
   "metadata": {},
   "outputs": [],
   "source": [
    "# Define a choice variable\n",
    "trips['choice'] = (trips['origin']!=trips['destination']).astype(int)"
   ]
  },
  {
   "cell_type": "code",
   "execution_count": 30,
   "id": "251f1bb7",
   "metadata": {},
   "outputs": [
    {
     "data": {
      "text/html": [
       "<div>\n",
       "<style scoped>\n",
       "    .dataframe tbody tr th:only-of-type {\n",
       "        vertical-align: middle;\n",
       "    }\n",
       "\n",
       "    .dataframe tbody tr th {\n",
       "        vertical-align: top;\n",
       "    }\n",
       "\n",
       "    .dataframe thead th {\n",
       "        text-align: right;\n",
       "    }\n",
       "</style>\n",
       "<table border=\"1\" class=\"dataframe\">\n",
       "  <thead>\n",
       "    <tr style=\"text-align: right;\">\n",
       "      <th></th>\n",
       "      <th></th>\n",
       "      <th>choice</th>\n",
       "    </tr>\n",
       "    <tr>\n",
       "      <th>purpose_model</th>\n",
       "      <th>car_av</th>\n",
       "      <th></th>\n",
       "    </tr>\n",
       "  </thead>\n",
       "  <tbody>\n",
       "    <tr>\n",
       "      <th rowspan=\"2\" valign=\"top\">accompany</th>\n",
       "      <th>0</th>\n",
       "      <td>0.170833</td>\n",
       "    </tr>\n",
       "    <tr>\n",
       "      <th>1</th>\n",
       "      <td>0.293776</td>\n",
       "    </tr>\n",
       "    <tr>\n",
       "      <th rowspan=\"2\" valign=\"top\">business</th>\n",
       "      <th>0</th>\n",
       "      <td>0.255618</td>\n",
       "    </tr>\n",
       "    <tr>\n",
       "      <th>1</th>\n",
       "      <td>0.454887</td>\n",
       "    </tr>\n",
       "    <tr>\n",
       "      <th rowspan=\"2\" valign=\"top\">buy/execute</th>\n",
       "      <th>0</th>\n",
       "      <td>0.142567</td>\n",
       "    </tr>\n",
       "    <tr>\n",
       "      <th>1</th>\n",
       "      <td>0.287372</td>\n",
       "    </tr>\n",
       "    <tr>\n",
       "      <th rowspan=\"2\" valign=\"top\">commuting</th>\n",
       "      <th>0</th>\n",
       "      <td>0.216151</td>\n",
       "    </tr>\n",
       "    <tr>\n",
       "      <th>1</th>\n",
       "      <td>0.472394</td>\n",
       "    </tr>\n",
       "    <tr>\n",
       "      <th rowspan=\"2\" valign=\"top\">education</th>\n",
       "      <th>0</th>\n",
       "      <td>0.139949</td>\n",
       "    </tr>\n",
       "    <tr>\n",
       "      <th>1</th>\n",
       "      <td>0.299156</td>\n",
       "    </tr>\n",
       "    <tr>\n",
       "      <th rowspan=\"2\" valign=\"top\">leisure</th>\n",
       "      <th>0</th>\n",
       "      <td>0.243755</td>\n",
       "    </tr>\n",
       "    <tr>\n",
       "      <th>1</th>\n",
       "      <td>0.379837</td>\n",
       "    </tr>\n",
       "  </tbody>\n",
       "</table>\n",
       "</div>"
      ],
      "text/plain": [
       "                        choice\n",
       "purpose_model car_av          \n",
       "accompany     0       0.170833\n",
       "              1       0.293776\n",
       "business      0       0.255618\n",
       "              1       0.454887\n",
       "buy/execute   0       0.142567\n",
       "              1       0.287372\n",
       "commuting     0       0.216151\n",
       "              1       0.472394\n",
       "education     0       0.139949\n",
       "              1       0.299156\n",
       "leisure       0       0.243755\n",
       "              1       0.379837"
      ]
     },
     "execution_count": 30,
     "metadata": {},
     "output_type": "execute_result"
    }
   ],
   "source": [
    "# Probabilities of going to another zone\n",
    "trips.groupby(['purpose_model', 'car_av']).agg({'choice': 'mean'})"
   ]
  },
  {
   "cell_type": "markdown",
   "id": "6bc60373",
   "metadata": {},
   "source": [
    "## Build a choice model\n",
    "\n",
    "The model is segmented in\n",
    "* population segments: car availability in household\n",
    "* trip purposes\n",
    "\n",
    "The utility formulation for the choice between making a trip within the home zone or to another one is:\n",
    "\n",
    "$V^{inner}_i= log(\\sum_{j\\in A} a_{i,j}) \\beta^{ATTR}_i + log(\\text{POP} / \\text{AREA}) \\beta^{POP}_i$\n",
    "\n",
    "$V^{inter}_i=ASC^{inter}_i + ACC \\beta^{ACC}_i$\n",
    "\n",
    "Attraction attributes $a$ are chosen for each demand segment $i$ based on their relevance"
   ]
  },
  {
   "cell_type": "code",
   "execution_count": 54,
   "id": "06db81b7",
   "metadata": {},
   "outputs": [],
   "source": [
    "# Result containers\n",
    "betas = pd.DataFrame()\n",
    "t_tests = pd.DataFrame()\n",
    "# Save utility functions for later\n",
    "Vs = {}\n",
    "\n",
    "car_names = {0: '_no_car', 1: '_car'}\n",
    "for car in [0,1]:\n",
    "    # create a database for this population segment\n",
    "    database = db.Database(car_names[car][1:], trips.loc[trips['car_av']==car].drop(\n",
    "        ['origin', 'destination', 'purpose_model'], axis=1).copy())\n",
    "    globals().update(database.variables)\n",
    "    Vs[car] = {}\n",
    "    \n",
    "    # Define parameters\n",
    "    ASC_0 = ex.Beta('ASC_0', 0, None, None, 1)\n",
    "    ASC_1 = ex.Beta('ASC_1', 0, None, None, 0)\n",
    "    b_pop = ex.Beta('b_pop', 0, None, None, 0)\n",
    "    b_attr = ex.Beta('b_attr', 0, None, None, 0)\n",
    "    b_acc = ex.Beta('b_acc', 0, None, None, 0)\n",
    "\n",
    "    # Define the utility formulation by purpose\n",
    "    Vs[car]['commuting'] = {0:\n",
    "                            ASC_0\n",
    "                            + ex.log(1+employment)*b_attr\n",
    "                            + ex.log((1+population)/area)*b_pop,\n",
    "                            1:\n",
    "                            ASC_1\n",
    "                            + acc_commuting * b_acc}\n",
    "    Vs[car]['business'] = {0:\n",
    "                            ASC_0\n",
    "                            + ex.log(1+employment)*b_attr\n",
    "                            + ex.log((1+population)/area)*b_pop,\n",
    "                            1:\n",
    "                            ASC_1\n",
    "                            + acc_business * b_acc}\n",
    "    Vs[car]['education'] = {0:\n",
    "                            ASC_0\n",
    "                            + ex.log(1+childcare + school + higher_education)*b_attr\n",
    "                            + ex.log((1+population)/area)*b_pop,\n",
    "                            1:\n",
    "                            ASC_1\n",
    "                            + acc_education * b_acc}\n",
    "    Vs[car]['buy/execute'] = {0:\n",
    "                            ASC_0\n",
    "                            + ex.log(1+shop + medical + special_shop)*b_attr\n",
    "                            + ex.log((1+population)/area)*b_pop,\n",
    "                            1:\n",
    "                            ASC_1\n",
    "                            + globals()['acc_buy/execute'] * b_acc}\n",
    "    Vs[car]['leisure'] = {0:\n",
    "                            ASC_0\n",
    "                            + ex.log(1+daily_leisure + holiday + occasional_leisure)*b_attr\n",
    "                            + ex.log((1+population)/area)*b_pop,\n",
    "                            1:\n",
    "                            ASC_1\n",
    "                            + acc_leisure * b_acc}\n",
    "    Vs[car]['accompany'] = {0:\n",
    "                            ASC_0\n",
    "                            + ex.log(1+medical + school + childcare)*b_attr\n",
    "                            + ex.log((1+population)/area)*b_pop,\n",
    "                            1:\n",
    "                            ASC_1\n",
    "                            + acc_accompany * b_acc}\n",
    "\n",
    "    for p in purposes:\n",
    "        # Run the estimation\n",
    "        logprob = models.loglogit(Vs[car][p], None, choice)\n",
    "        formulas = {'loglike': logprob, 'weight': W_GEW} # give weights to the estimator\n",
    "        model = bio.BIOGEME(database, formulas)\n",
    "        model.modelName = p + car_names[car]\n",
    "        model.generateHtml = False\n",
    "        model.generatePickle = False\n",
    "        model.saveIterations = False\n",
    "        results = model.estimate()\n",
    "        \n",
    "        # Save results\n",
    "        betas[model.modelName] = results.getEstimatedParameters()['Value']\n",
    "        t_tests[model.modelName] = np.abs(results.getEstimatedParameters()['Rob. t-test'])"
   ]
  },
  {
   "cell_type": "code",
   "execution_count": 55,
   "id": "21199e03",
   "metadata": {},
   "outputs": [],
   "source": [
    "# Save results\n",
    "betas.to_csv(input_path + 'inner-inter_betas.csv')\n",
    "t_tests.to_csv(input_path + 'inner-inter_t_tests.csv')"
   ]
  },
  {
   "cell_type": "code",
   "execution_count": 56,
   "id": "4235e0b5",
   "metadata": {},
   "outputs": [
    {
     "data": {
      "text/html": [
       "<div>\n",
       "<style scoped>\n",
       "    .dataframe tbody tr th:only-of-type {\n",
       "        vertical-align: middle;\n",
       "    }\n",
       "\n",
       "    .dataframe tbody tr th {\n",
       "        vertical-align: top;\n",
       "    }\n",
       "\n",
       "    .dataframe thead th {\n",
       "        text-align: right;\n",
       "    }\n",
       "</style>\n",
       "<table border=\"1\" class=\"dataframe\">\n",
       "  <thead>\n",
       "    <tr style=\"text-align: right;\">\n",
       "      <th></th>\n",
       "      <th>commuting_no_car</th>\n",
       "      <th>business_no_car</th>\n",
       "      <th>education_no_car</th>\n",
       "      <th>buy/execute_no_car</th>\n",
       "      <th>leisure_no_car</th>\n",
       "      <th>accompany_no_car</th>\n",
       "      <th>commuting_car</th>\n",
       "      <th>business_car</th>\n",
       "      <th>education_car</th>\n",
       "      <th>buy/execute_car</th>\n",
       "      <th>leisure_car</th>\n",
       "      <th>accompany_car</th>\n",
       "    </tr>\n",
       "  </thead>\n",
       "  <tbody>\n",
       "    <tr>\n",
       "      <th>ASC_1</th>\n",
       "      <td>5.148</td>\n",
       "      <td>2.095</td>\n",
       "      <td>0.720</td>\n",
       "      <td>1.460</td>\n",
       "      <td>2.526</td>\n",
       "      <td>0.647</td>\n",
       "      <td>4.305</td>\n",
       "      <td>4.801</td>\n",
       "      <td>0.094</td>\n",
       "      <td>0.889</td>\n",
       "      <td>1.012</td>\n",
       "      <td>0.173</td>\n",
       "    </tr>\n",
       "    <tr>\n",
       "      <th>b_acc</th>\n",
       "      <td>-0.049</td>\n",
       "      <td>0.467</td>\n",
       "      <td>-0.023</td>\n",
       "      <td>-0.049</td>\n",
       "      <td>-0.089</td>\n",
       "      <td>-0.011</td>\n",
       "      <td>-0.029</td>\n",
       "      <td>-0.148</td>\n",
       "      <td>-0.024</td>\n",
       "      <td>-0.006</td>\n",
       "      <td>0.019</td>\n",
       "      <td>-0.008</td>\n",
       "    </tr>\n",
       "    <tr>\n",
       "      <th>b_attr</th>\n",
       "      <td>0.812</td>\n",
       "      <td>0.869</td>\n",
       "      <td>0.837</td>\n",
       "      <td>0.860</td>\n",
       "      <td>0.705</td>\n",
       "      <td>0.872</td>\n",
       "      <td>0.708</td>\n",
       "      <td>0.713</td>\n",
       "      <td>0.689</td>\n",
       "      <td>0.674</td>\n",
       "      <td>0.589</td>\n",
       "      <td>0.688</td>\n",
       "    </tr>\n",
       "    <tr>\n",
       "      <th>b_pop</th>\n",
       "      <td>-0.578</td>\n",
       "      <td>-0.643</td>\n",
       "      <td>-0.496</td>\n",
       "      <td>-0.508</td>\n",
       "      <td>-0.268</td>\n",
       "      <td>-0.551</td>\n",
       "      <td>-0.488</td>\n",
       "      <td>-0.502</td>\n",
       "      <td>-0.402</td>\n",
       "      <td>-0.381</td>\n",
       "      <td>-0.231</td>\n",
       "      <td>-0.420</td>\n",
       "    </tr>\n",
       "  </tbody>\n",
       "</table>\n",
       "</div>"
      ],
      "text/plain": [
       "        commuting_no_car  business_no_car  education_no_car  \\\n",
       "ASC_1              5.148            2.095             0.720   \n",
       "b_acc             -0.049            0.467            -0.023   \n",
       "b_attr             0.812            0.869             0.837   \n",
       "b_pop             -0.578           -0.643            -0.496   \n",
       "\n",
       "        buy/execute_no_car  leisure_no_car  accompany_no_car  commuting_car  \\\n",
       "ASC_1                1.460           2.526             0.647          4.305   \n",
       "b_acc               -0.049          -0.089            -0.011         -0.029   \n",
       "b_attr               0.860           0.705             0.872          0.708   \n",
       "b_pop               -0.508          -0.268            -0.551         -0.488   \n",
       "\n",
       "        business_car  education_car  buy/execute_car  leisure_car  \\\n",
       "ASC_1          4.801          0.094            0.889        1.012   \n",
       "b_acc         -0.148         -0.024           -0.006        0.019   \n",
       "b_attr         0.713          0.689            0.674        0.589   \n",
       "b_pop         -0.502         -0.402           -0.381       -0.231   \n",
       "\n",
       "        accompany_car  \n",
       "ASC_1           0.173  \n",
       "b_acc          -0.008  \n",
       "b_attr          0.688  \n",
       "b_pop          -0.420  "
      ]
     },
     "execution_count": 56,
     "metadata": {},
     "output_type": "execute_result"
    }
   ],
   "source": [
    "np.round(betas, 3)"
   ]
  },
  {
   "cell_type": "code",
   "execution_count": 57,
   "id": "7452b270",
   "metadata": {},
   "outputs": [
    {
     "data": {
      "text/html": [
       "<div>\n",
       "<style scoped>\n",
       "    .dataframe tbody tr th:only-of-type {\n",
       "        vertical-align: middle;\n",
       "    }\n",
       "\n",
       "    .dataframe tbody tr th {\n",
       "        vertical-align: top;\n",
       "    }\n",
       "\n",
       "    .dataframe thead th {\n",
       "        text-align: right;\n",
       "    }\n",
       "</style>\n",
       "<table border=\"1\" class=\"dataframe\">\n",
       "  <thead>\n",
       "    <tr style=\"text-align: right;\">\n",
       "      <th></th>\n",
       "      <th>commuting_no_car</th>\n",
       "      <th>business_no_car</th>\n",
       "      <th>education_no_car</th>\n",
       "      <th>buy/execute_no_car</th>\n",
       "      <th>leisure_no_car</th>\n",
       "      <th>accompany_no_car</th>\n",
       "      <th>commuting_car</th>\n",
       "      <th>business_car</th>\n",
       "      <th>education_car</th>\n",
       "      <th>buy/execute_car</th>\n",
       "      <th>leisure_car</th>\n",
       "      <th>accompany_car</th>\n",
       "    </tr>\n",
       "  </thead>\n",
       "  <tbody>\n",
       "    <tr>\n",
       "      <th>ASC_1</th>\n",
       "      <td>20.35</td>\n",
       "      <td>2.73</td>\n",
       "      <td>1.92</td>\n",
       "      <td>4.72</td>\n",
       "      <td>7.90</td>\n",
       "      <td>2.01</td>\n",
       "      <td>46.01</td>\n",
       "      <td>20.73</td>\n",
       "      <td>1.05</td>\n",
       "      <td>6.85</td>\n",
       "      <td>7.95</td>\n",
       "      <td>2.50</td>\n",
       "    </tr>\n",
       "    <tr>\n",
       "      <th>b_acc</th>\n",
       "      <td>4.58</td>\n",
       "      <td>2.91</td>\n",
       "      <td>3.69</td>\n",
       "      <td>2.17</td>\n",
       "      <td>4.65</td>\n",
       "      <td>2.91</td>\n",
       "      <td>6.10</td>\n",
       "      <td>4.30</td>\n",
       "      <td>2.98</td>\n",
       "      <td>0.56</td>\n",
       "      <td>1.04</td>\n",
       "      <td>1.46</td>\n",
       "    </tr>\n",
       "    <tr>\n",
       "      <th>b_attr</th>\n",
       "      <td>22.70</td>\n",
       "      <td>26.25</td>\n",
       "      <td>23.07</td>\n",
       "      <td>23.56</td>\n",
       "      <td>21.19</td>\n",
       "      <td>23.71</td>\n",
       "      <td>80.99</td>\n",
       "      <td>82.25</td>\n",
       "      <td>78.51</td>\n",
       "      <td>80.47</td>\n",
       "      <td>74.11</td>\n",
       "      <td>80.33</td>\n",
       "    </tr>\n",
       "    <tr>\n",
       "      <th>b_pop</th>\n",
       "      <td>10.74</td>\n",
       "      <td>12.71</td>\n",
       "      <td>9.91</td>\n",
       "      <td>10.27</td>\n",
       "      <td>6.03</td>\n",
       "      <td>10.82</td>\n",
       "      <td>48.70</td>\n",
       "      <td>51.33</td>\n",
       "      <td>43.53</td>\n",
       "      <td>42.24</td>\n",
       "      <td>29.63</td>\n",
       "      <td>45.05</td>\n",
       "    </tr>\n",
       "  </tbody>\n",
       "</table>\n",
       "</div>"
      ],
      "text/plain": [
       "        commuting_no_car  business_no_car  education_no_car  \\\n",
       "ASC_1              20.35             2.73              1.92   \n",
       "b_acc               4.58             2.91              3.69   \n",
       "b_attr             22.70            26.25             23.07   \n",
       "b_pop              10.74            12.71              9.91   \n",
       "\n",
       "        buy/execute_no_car  leisure_no_car  accompany_no_car  commuting_car  \\\n",
       "ASC_1                 4.72            7.90              2.01          46.01   \n",
       "b_acc                 2.17            4.65              2.91           6.10   \n",
       "b_attr               23.56           21.19             23.71          80.99   \n",
       "b_pop                10.27            6.03             10.82          48.70   \n",
       "\n",
       "        business_car  education_car  buy/execute_car  leisure_car  \\\n",
       "ASC_1          20.73           1.05             6.85         7.95   \n",
       "b_acc           4.30           2.98             0.56         1.04   \n",
       "b_attr         82.25          78.51            80.47        74.11   \n",
       "b_pop          51.33          43.53            42.24        29.63   \n",
       "\n",
       "        accompany_car  \n",
       "ASC_1            2.50  \n",
       "b_acc            1.46  \n",
       "b_attr          80.33  \n",
       "b_pop           45.05  "
      ]
     },
     "execution_count": 57,
     "metadata": {},
     "output_type": "execute_result"
    }
   ],
   "source": [
    "np.round(t_tests, 2)"
   ]
  },
  {
   "cell_type": "markdown",
   "id": "dedf6506",
   "metadata": {},
   "source": [
    "## Calculate choice probabilities in model zones"
   ]
  },
  {
   "cell_type": "code",
   "execution_count": 58,
   "id": "cf47b725",
   "metadata": {},
   "outputs": [
    {
     "name": "stdout",
     "output_type": "stream",
     "text": [
      "commuting_0 av. prob. inner: 0.56\n",
      "commuting_1 av. prob. inner: 0.54\n",
      "business_0 av. prob. inner: 0.56\n",
      "business_1 av. prob. inner: 0.54\n",
      "education_0 av. prob. inner: 0.56\n",
      "education_1 av. prob. inner: 0.55\n",
      "buy/execute_0 av. prob. inner: 0.55\n",
      "buy/execute_1 av. prob. inner: 0.54\n",
      "leisure_0 av. prob. inner: 0.57\n",
      "leisure_1 av. prob. inner: 0.55\n",
      "accompany_0 av. prob. inner: 0.55\n",
      "accompany_1 av. prob. inner: 0.54\n"
     ]
    }
   ],
   "source": [
    "# Simulate the probabilities from the zones table\n",
    "inner_probs = pd.DataFrame(index=sm.zones.index)\n",
    "for p in purposes:\n",
    "    for car in [0,1]:\n",
    "        # Add accessibility for this segment to database\n",
    "        sm.zones['acc_'+p] = sm.zones.merge(cc.xs(car, level='car_av'),\n",
    "                                            how='left', left_index=True, right_index=True\n",
    "                                           )[p]\n",
    "        zones_db = db.Database('zones', sm.zones[\n",
    "            ['employment', 'population', 'area', 'acc_'+p]\n",
    "            + list(cats.loc[cats['category'].notna(), 'category'].unique())])\n",
    "        \n",
    "        # Simulate\n",
    "        simulate = {j: models.logit(Vs[car][p], None, int(j))\n",
    "                    for j in list(trips['choice'].unique())}\n",
    "        model = bio.BIOGEME(zones_db, simulate)\n",
    "        model.generateHtml = False\n",
    "        model.generatePickle = False\n",
    "        model.saveIterations = False\n",
    "        probs = model.simulate(theBetaValues=betas[p+car_names[car]].to_dict())\n",
    "        \n",
    "        # Calculate generation volumes\n",
    "        inner_probs[p+car_names[car]] = probs[0]\n",
    "        print('{}_{} av. prob. inner: {}'.format(p,car,np.round(probs[0].mean(), 2)))"
   ]
  },
  {
   "cell_type": "code",
   "execution_count": 61,
   "id": "3ce685c4",
   "metadata": {},
   "outputs": [],
   "source": [
    "for s in segments:\n",
    "    sm.zones[str((s, 'generation'))] *= (1-inner_probs[s])"
   ]
  },
  {
   "cell_type": "code",
   "execution_count": 62,
   "id": "8112ee77",
   "metadata": {},
   "outputs": [
    {
     "data": {
      "text/plain": [
       "20.875440276185447"
      ]
     },
     "execution_count": 62,
     "metadata": {},
     "output_type": "execute_result"
    }
   ],
   "source": [
    "sm.zones[[str((s, 'generation')) for s in segments]].sum().sum() / 1e9"
   ]
  },
  {
   "cell_type": "markdown",
   "id": "2dfee057",
   "metadata": {},
   "source": [
    "## Save results"
   ]
  },
  {
   "cell_type": "code",
   "execution_count": 32,
   "id": "5ec17c78",
   "metadata": {},
   "outputs": [
    {
     "name": "stderr",
     "output_type": "stream",
     "text": [
      "to_hdf(overwriting): 100%|█████████████████████████████████████████████████████████████| 33/33 [00:08<00:00,  3.80it/s]\n"
     ]
    }
   ],
   "source": [
    "inner_probs.to_csv(input_path + 'inner-zonal_probabilities.csv')"
   ]
  }
 ],
 "metadata": {
  "kernelspec": {
   "display_name": "Python 3 (ipykernel)",
   "language": "python",
   "name": "python3"
  },
  "language_info": {
   "codemirror_mode": {
    "name": "ipython",
    "version": 3
   },
   "file_extension": ".py",
   "mimetype": "text/x-python",
   "name": "python",
   "nbconvert_exporter": "python",
   "pygments_lexer": "ipython3",
   "version": "3.9.13"
  }
 },
 "nbformat": 4,
 "nbformat_minor": 5
}
