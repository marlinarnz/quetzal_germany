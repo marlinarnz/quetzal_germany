{
 "cells": [
  {
   "cell_type": "code",
   "execution_count": null,
   "metadata": {},
   "outputs": [],
   "source": [
    "import sys # for automation and parallelisation\n",
    "manual, scenario = (True, 'base') if 'ipykernel' in sys.argv[0] else (False, sys.argv[1])\n",
    "if manual:\n",
    "    %matplotlib inline"
   ]
  },
  {
   "cell_type": "code",
   "execution_count": 1,
   "metadata": {},
   "outputs": [
    {
     "name": "stderr",
     "output_type": "stream",
     "text": [
      "In C:\\Users\\marlin.arnz\\AppData\\Local\\Continuum\\miniconda3\\envs\\quetzal\\lib\\site-packages\\matplotlib\\mpl-data\\stylelib\\_classic_test.mplstyle: \n",
      "The text.latex.preview rcparam was deprecated in Matplotlib 3.3 and will be removed two minor releases later.\n",
      "In C:\\Users\\marlin.arnz\\AppData\\Local\\Continuum\\miniconda3\\envs\\quetzal\\lib\\site-packages\\matplotlib\\mpl-data\\stylelib\\_classic_test.mplstyle: \n",
      "The mathtext.fallback_to_cm rcparam was deprecated in Matplotlib 3.3 and will be removed two minor releases later.\n",
      "In C:\\Users\\marlin.arnz\\AppData\\Local\\Continuum\\miniconda3\\envs\\quetzal\\lib\\site-packages\\matplotlib\\mpl-data\\stylelib\\_classic_test.mplstyle: Support for setting the 'mathtext.fallback_to_cm' rcParam is deprecated since 3.3 and will be removed two minor releases later; use 'mathtext.fallback : 'cm' instead.\n",
      "In C:\\Users\\marlin.arnz\\AppData\\Local\\Continuum\\miniconda3\\envs\\quetzal\\lib\\site-packages\\matplotlib\\mpl-data\\stylelib\\_classic_test.mplstyle: \n",
      "The validate_bool_maybe_none function was deprecated in Matplotlib 3.3 and will be removed two minor releases later.\n",
      "In C:\\Users\\marlin.arnz\\AppData\\Local\\Continuum\\miniconda3\\envs\\quetzal\\lib\\site-packages\\matplotlib\\mpl-data\\stylelib\\_classic_test.mplstyle: \n",
      "The savefig.jpeg_quality rcparam was deprecated in Matplotlib 3.3 and will be removed two minor releases later.\n",
      "In C:\\Users\\marlin.arnz\\AppData\\Local\\Continuum\\miniconda3\\envs\\quetzal\\lib\\site-packages\\matplotlib\\mpl-data\\stylelib\\_classic_test.mplstyle: \n",
      "The keymap.all_axes rcparam was deprecated in Matplotlib 3.3 and will be removed two minor releases later.\n",
      "In C:\\Users\\marlin.arnz\\AppData\\Local\\Continuum\\miniconda3\\envs\\quetzal\\lib\\site-packages\\matplotlib\\mpl-data\\stylelib\\_classic_test.mplstyle: \n",
      "The animation.avconv_path rcparam was deprecated in Matplotlib 3.3 and will be removed two minor releases later.\n",
      "In C:\\Users\\marlin.arnz\\AppData\\Local\\Continuum\\miniconda3\\envs\\quetzal\\lib\\site-packages\\matplotlib\\mpl-data\\stylelib\\_classic_test.mplstyle: \n",
      "The animation.avconv_args rcparam was deprecated in Matplotlib 3.3 and will be removed two minor releases later.\n"
     ]
    }
   ],
   "source": [
    "import math\n",
    "import numpy as np\n",
    "import pandas as pd\n",
    "import geopandas as gpd\n",
    "from shapely import geometry\n",
    "from quetzal.model import stepmodel\n",
    "from quetzal.io import excel"
   ]
  },
  {
   "cell_type": "markdown",
   "metadata": {},
   "source": [
    "# Preparation of the LoS tables\n",
    "## Saves a StepModel with shortest paths and LoS attributes for park and ride paths\n",
    "## Needs the road network, PT network and all connectors"
   ]
  },
  {
   "cell_type": "code",
   "execution_count": 2,
   "metadata": {},
   "outputs": [],
   "source": [
    "input_path = '../input_static/'\n",
    "output_path = '../output/'\n",
    "model_path = '../model/'"
   ]
  },
  {
   "cell_type": "code",
   "execution_count": null,
   "metadata": {},
   "outputs": [],
   "source": [
    "# Load scenario parameters\n",
    "params = excel.read_var(file='../input/parameters.xls', scenario=scenario)"
   ]
  },
  {
   "cell_type": "code",
   "execution_count": 3,
   "metadata": {},
   "outputs": [],
   "source": [
    "sm = stepmodel.read_json(input_path + 'de_road_network')\n",
    "ae = stepmodel.read_json(model_path + 'de_road_access_egress')\n",
    "z = stepmodel.read_json(model_path + 'de_zones')\n",
    "pt = stepmodel.read_json(model_path + 'de_pt_network_agg')\n",
    "pt_ae = stepmodel.read_json(model_path + 'de_pt_access_egress')"
   ]
  },
  {
   "cell_type": "code",
   "execution_count": 4,
   "metadata": {},
   "outputs": [],
   "source": [
    "sm.zone_to_road = ae.zone_to_road\n",
    "sm.road_to_transit = ae.road_to_transit\n",
    "sm.centroids = ae.centroids\n",
    "sm.zones = z.zones\n",
    "sm.links = pt.links\n",
    "sm.nodes = pt.nodes # Must have a boolean column \"parking_spots\"\n",
    "sm.zone_to_transit = pt_ae.zone_to_transit\n",
    "sm.footpaths = pt_ae.footpaths"
   ]
  },
  {
   "cell_type": "markdown",
   "metadata": {},
   "source": [
    "## Prepare networks\n",
    "The maxspeed column of the road links is based on OSM data that needs to be refined. The unit is km/h"
   ]
  },
  {
   "cell_type": "code",
   "execution_count": null,
   "metadata": {},
   "outputs": [],
   "source": [
    "# Number of links (not length) with specified speeds\n",
    "sm.road_links.hist(column='maxspeed', bins=50, figsize=(4,4))"
   ]
  },
  {
   "cell_type": "code",
   "execution_count": null,
   "metadata": {},
   "outputs": [],
   "source": [
    "# Generate time for road links in seconds\n",
    "# Manual calibration with Google maps (see below)\n",
    "# shows that traffic flow is slower than the speed limits\n",
    "road_speed_calibration = params['car']['speed_calibration']\n",
    "sm.road_links[\"time\"] = sm.road_links[\"length\"] / 1000 / \\\n",
    "    (sm.road_links[\"maxspeed\"] * road_speed_calibration) * 3600"
   ]
  },
  {
   "cell_type": "code",
   "execution_count": null,
   "metadata": {},
   "outputs": [],
   "source": [
    "# Generate length for PT links\n",
    "if 'length' not in sm.links.columns:\n",
    "    sm.links['length'] = skims.distance_from_geometry(sm.links['geometry']).astype(int)\n",
    "    # Adjust coach transport towards road distances\n",
    "    sm.links.loc[sm.links['route_type']=='coach', 'length'] *= 1.136"
   ]
  },
  {
   "cell_type": "code",
   "execution_count": null,
   "metadata": {},
   "outputs": [],
   "source": [
    "# Delete footpaths between centroids as they might confuse the pathfinder\n",
    "# Add them later anew\n",
    "sm.footpaths = sm.footpaths.loc[~((sm.footpaths['a'].isin(sm.centroids.index)) |\n",
    "                                  (sm.footpaths['b'].isin(sm.centroids.index)) |\n",
    "                                  (sm.footpaths['a']==sm.footpaths['b']))]"
   ]
  },
  {
   "cell_type": "markdown",
   "metadata": {},
   "source": [
    "### Alter road access/egress links"
   ]
  },
  {
   "cell_type": "code",
   "execution_count": 16,
   "metadata": {},
   "outputs": [],
   "source": [
    "# Assign a time to access the car\n",
    "sm.zone_to_road['time'] = params['access-egress_links']['time_road']"
   ]
  },
  {
   "cell_type": "code",
   "execution_count": null,
   "metadata": {},
   "outputs": [],
   "source": [
    "# Assign a time to change between car and PT\n",
    "sm.road_to_transit['time'] = params['access-egress_links']['time_road_pt']"
   ]
  },
  {
   "cell_type": "markdown",
   "metadata": {},
   "source": [
    "## Apply P&R pathfinder in order to generate LoS table"
   ]
  },
  {
   "cell_type": "code",
   "execution_count": 17,
   "metadata": {},
   "outputs": [
    {
     "name": "stdout",
     "output_type": "stream",
     "text": [
      "Generated OD set with 160801 pairs\n"
     ]
    }
   ],
   "source": [
    "# Load OD pairs from volumes if available\n",
    "od_set = None\n",
    "try:\n",
    "    v = stepmodel.read_json(model_path + 'de_volumes')\n",
    "    od_set = set([tuple(l) for l in v.volumes[['origin', 'destination']].values.tolist()])\n",
    "    print('Generated OD set with {} pairs'.format(len(od_set)))\n",
    "except:\n",
    "    print('The volumes file is not (yet) available')"
   ]
  },
  {
   "cell_type": "code",
   "execution_count": 18,
   "metadata": {
    "scrolled": true
   },
   "outputs": [],
   "source": [
    "sm.step_pr_pathfinder(od_set=od_set)"
   ]
  },
  {
   "cell_type": "code",
   "execution_count": 19,
   "metadata": {},
   "outputs": [
    {
     "data": {
      "text/html": [
       "<div>\n",
       "<style scoped>\n",
       "    .dataframe tbody tr th:only-of-type {\n",
       "        vertical-align: middle;\n",
       "    }\n",
       "\n",
       "    .dataframe tbody tr th {\n",
       "        vertical-align: top;\n",
       "    }\n",
       "\n",
       "    .dataframe thead th {\n",
       "        text-align: right;\n",
       "    }\n",
       "</style>\n",
       "<table border=\"1\" class=\"dataframe\">\n",
       "  <thead>\n",
       "    <tr style=\"text-align: right;\">\n",
       "      <th></th>\n",
       "      <th>origin</th>\n",
       "      <th>destination</th>\n",
       "      <th>time</th>\n",
       "      <th>path</th>\n",
       "      <th>node_path</th>\n",
       "      <th>link_path</th>\n",
       "      <th>ntlegs</th>\n",
       "    </tr>\n",
       "  </thead>\n",
       "  <tbody>\n",
       "    <tr>\n",
       "      <th>155082</th>\n",
       "      <td>DEG0A</td>\n",
       "      <td>DEB13</td>\n",
       "      <td>16201.0</td>\n",
       "      <td>[DEG0A, 1722581330, 1721505483, 929943627, 151...</td>\n",
       "      <td>[1722581330, 1721505483, 929943627, 15164786, ...</td>\n",
       "      <td>[rl_413985, rl_446702, rl_477985, rl_345566, r...</td>\n",
       "      <td>[(DEG0A, 1722581330), (307762151, DEB13)]</td>\n",
       "    </tr>\n",
       "    <tr>\n",
       "      <th>150677</th>\n",
       "      <td>DEF0D</td>\n",
       "      <td>DEB1B</td>\n",
       "      <td>21734.0</td>\n",
       "      <td>[DEF0D, 25076702, 25076790, 5730788622, 216996...</td>\n",
       "      <td>[25076702, 25076790, 5730788622, 21699647, 280...</td>\n",
       "      <td>[rl_462544, rl_429089, rl_204552, rl_462619, r...</td>\n",
       "      <td>[(DEF0D, 25076702), (1765034897, DEB1B)]</td>\n",
       "    </tr>\n",
       "    <tr>\n",
       "      <th>58320</th>\n",
       "      <td>DE405</td>\n",
       "      <td>DE71E</td>\n",
       "      <td>23157.0</td>\n",
       "      <td>[DE405, 1455170487, 2343331268, 29353517, 2935...</td>\n",
       "      <td>[1455170487, 2343331268, 29353517, 29353512, 3...</td>\n",
       "      <td>[rl_419589, rl_487756, rl_487754, rl_386938, r...</td>\n",
       "      <td>[(DE405, 1455170487), (3251511786, DE71E)]</td>\n",
       "    </tr>\n",
       "  </tbody>\n",
       "</table>\n",
       "</div>"
      ],
      "text/plain": [
       "       origin destination     time  \\\n",
       "155082  DEG0A       DEB13  16201.0   \n",
       "150677  DEF0D       DEB1B  21734.0   \n",
       "58320   DE405       DE71E  23157.0   \n",
       "\n",
       "                                                     path  \\\n",
       "155082  [DEG0A, 1722581330, 1721505483, 929943627, 151...   \n",
       "150677  [DEF0D, 25076702, 25076790, 5730788622, 216996...   \n",
       "58320   [DE405, 1455170487, 2343331268, 29353517, 2935...   \n",
       "\n",
       "                                                node_path  \\\n",
       "155082  [1722581330, 1721505483, 929943627, 15164786, ...   \n",
       "150677  [25076702, 25076790, 5730788622, 21699647, 280...   \n",
       "58320   [1455170487, 2343331268, 29353517, 29353512, 3...   \n",
       "\n",
       "                                                link_path  \\\n",
       "155082  [rl_413985, rl_446702, rl_477985, rl_345566, r...   \n",
       "150677  [rl_462544, rl_429089, rl_204552, rl_462619, r...   \n",
       "58320   [rl_419589, rl_487756, rl_487754, rl_386938, r...   \n",
       "\n",
       "                                            ntlegs  \n",
       "155082   [(DEG0A, 1722581330), (307762151, DEB13)]  \n",
       "150677    [(DEF0D, 25076702), (1765034897, DEB1B)]  \n",
       "58320   [(DE405, 1455170487), (3251511786, DE71E)]  "
      ]
     },
     "execution_count": 19,
     "metadata": {},
     "output_type": "execute_result"
    }
   ],
   "source": [
    "sm.pr_los.sample(3)"
   ]
  },
  {
   "cell_type": "code",
   "execution_count": 20,
   "metadata": {},
   "outputs": [
    {
     "data": {
      "text/plain": [
       "(160801, 7)"
      ]
     },
     "execution_count": 20,
     "metadata": {},
     "output_type": "execute_result"
    }
   ],
   "source": [
    "sm.pr_los.shape"
   ]
  },
  {
   "cell_type": "code",
   "execution_count": 23,
   "metadata": {},
   "outputs": [
    {
     "data": {
      "text/plain": [
       "(160400, 7)"
      ]
     },
     "execution_count": 23,
     "metadata": {},
     "output_type": "execute_result"
    }
   ],
   "source": [
    "# Drop inner-cell connections\n",
    "sm.pr_los = sm.pr_los[pr_los['time']!=0]\n",
    "sm.pr_los.shape"
   ]
  },
  {
   "cell_type": "markdown",
   "metadata": {},
   "source": [
    "## Add various attributes to LoS table"
   ]
  },
  {
   "cell_type": "code",
   "execution_count": 24,
   "metadata": {},
   "outputs": [
    {
     "name": "stdout",
     "output_type": "stream",
     "text": [
      "Index(['origin', 'destination', 'time', 'path', 'node_path', 'link_path',\n",
      "       'ntlegs', 'access_time', 'in_vehicle_time'],\n",
      "      dtype='object')\n"
     ]
    }
   ],
   "source": [
    "# Disaggregate into in-vehicle time and access/egress\n",
    "sm.analysis_car_time()\n",
    "sm.pr_los.columns"
   ]
  },
  {
   "cell_type": "code",
   "execution_count": 25,
   "metadata": {},
   "outputs": [],
   "source": [
    "# Add distances car\n",
    "len_dict = sm.road_links['length'].to_dict()\n",
    "sm.pr_los['length'] = sm.pr_los['link_path'].apply(lambda p: sum([len_dict[l] for l in p]))\n",
    "assert False # Add PT length??"
   ]
  },
  {
   "cell_type": "code",
   "execution_count": 26,
   "metadata": {},
   "outputs": [],
   "source": [
    "# Add route_type = 'car' in car_los\n",
    "sm.analysis_car_route_type()\n",
    "assert False"
   ]
  },
  {
   "cell_type": "code",
   "execution_count": 27,
   "metadata": {},
   "outputs": [],
   "source": [
    "assert False\n",
    "sm.pr_los['ntransfers'] = 0"
   ]
  },
  {
   "cell_type": "markdown",
   "metadata": {},
   "source": [
    "## Add cost to LoS table"
   ]
  },
  {
   "cell_type": "code",
   "execution_count": 29,
   "metadata": {},
   "outputs": [],
   "source": [
    "def monetary_cost(length, rf, vc, ac, al, ec, el, sf):\n",
    "    \"\"\" calculate monetary cost of travelling one O-D realtion within the LoS table\n",
    "    :param length: length of main leg in meter\n",
    "    :param df: regression factor for length (to be calibrated beforehand)\n",
    "    :param vc: distance-specific transport cost\n",
    "    :param ac: access cost\n",
    "    :param al: access link length (m)\n",
    "    :param ec: egress cost\n",
    "    :param el: egress link length (m)\n",
    "    :param sf: sharing factor (e.g. occupancy factor of a car)\n",
    "    :return: monetary cost\"\"\"\n",
    "    return (math.pow(length, rf) * vc + ac * al + ec * el) / sf"
   ]
  },
  {
   "cell_type": "code",
   "execution_count": 31,
   "metadata": {},
   "outputs": [
    {
     "name": "stdout",
     "output_type": "stream",
     "text": [
      "1.551890814081408\n",
      "0.00011439257425742574\n"
     ]
    }
   ],
   "source": [
    "# Prep\n",
    "sm.pr_los['price'] = 0\n",
    "vc_car = params['car']['var_cost']\n",
    "fix_car = params['car']['fix_cost']\n",
    "parking_cost = params['parking_cost']\n",
    "car_occ = params['car']['occupancy']"
   ]
  },
  {
   "cell_type": "code",
   "execution_count": 32,
   "metadata": {},
   "outputs": [],
   "source": [
    "urb_dict = sm.zones['urbanisation'].to_dict()\n",
    "sm.pr_los['price'] = sm.pr_los.apply(lambda df: monetary_cost(\n",
    "    df['length'], 1, vc_car,\n",
    "    0,0, # parking at home is for free\n",
    "    parking_cost[urb_dict[df['destination']]], 1,\n",
    "    car_occ) + fix_car, axis=1)\n",
    "assert False"
   ]
  },
  {
   "cell_type": "code",
   "execution_count": 33,
   "metadata": {},
   "outputs": [
    {
     "data": {
      "text/html": [
       "<div>\n",
       "<style scoped>\n",
       "    .dataframe tbody tr th:only-of-type {\n",
       "        vertical-align: middle;\n",
       "    }\n",
       "\n",
       "    .dataframe tbody tr th {\n",
       "        vertical-align: top;\n",
       "    }\n",
       "\n",
       "    .dataframe thead th {\n",
       "        text-align: right;\n",
       "    }\n",
       "</style>\n",
       "<table border=\"1\" class=\"dataframe\">\n",
       "  <thead>\n",
       "    <tr style=\"text-align: right;\">\n",
       "      <th></th>\n",
       "      <th>origin</th>\n",
       "      <th>destination</th>\n",
       "      <th>time</th>\n",
       "      <th>path</th>\n",
       "      <th>node_path</th>\n",
       "      <th>link_path</th>\n",
       "      <th>ntlegs</th>\n",
       "      <th>access_time</th>\n",
       "      <th>in_vehicle_time</th>\n",
       "      <th>length</th>\n",
       "      <th>route_types</th>\n",
       "      <th>route_type</th>\n",
       "      <th>ntransfers</th>\n",
       "      <th>accessibility</th>\n",
       "      <th>price</th>\n",
       "    </tr>\n",
       "  </thead>\n",
       "  <tbody>\n",
       "    <tr>\n",
       "      <th>37461</th>\n",
       "      <td>DE245</td>\n",
       "      <td>DE717</td>\n",
       "      <td>9945</td>\n",
       "      <td>[DE245, 306268450, 306253393, 480638786, 30626...</td>\n",
       "      <td>[306268450, 306253393, 480638786, 306264403, 4...</td>\n",
       "      <td>[rl_53660, rl_44462, rl_247282, rl_51273, rl_2...</td>\n",
       "      <td>[(DE245, 306268450), (848510869, DE717)]</td>\n",
       "      <td>600</td>\n",
       "      <td>9345</td>\n",
       "      <td>231429</td>\n",
       "      <td>(car,)</td>\n",
       "      <td>car</td>\n",
       "      <td>0</td>\n",
       "      <td>1</td>\n",
       "      <td>19.201064</td>\n",
       "    </tr>\n",
       "    <tr>\n",
       "      <th>48672</th>\n",
       "      <td>DE268</td>\n",
       "      <td>DE40B</td>\n",
       "      <td>16257</td>\n",
       "      <td>[DE268, 857381969, 2428188565, 262558486, 2428...</td>\n",
       "      <td>[857381969, 2428188565, 262558486, 2428188596,...</td>\n",
       "      <td>[rl_396698, rl_135586, rl_262099, rl_396709, r...</td>\n",
       "      <td>[(DE268, 857381969), (1607014826, DE40B)]</td>\n",
       "      <td>600</td>\n",
       "      <td>15657</td>\n",
       "      <td>397068</td>\n",
       "      <td>(car,)</td>\n",
       "      <td>car</td>\n",
       "      <td>0</td>\n",
       "      <td>1</td>\n",
       "      <td>31.832978</td>\n",
       "    </tr>\n",
       "  </tbody>\n",
       "</table>\n",
       "</div>"
      ],
      "text/plain": [
       "      origin destination   time  \\\n",
       "37461  DE245       DE717   9945   \n",
       "48672  DE268       DE40B  16257   \n",
       "\n",
       "                                                    path  \\\n",
       "37461  [DE245, 306268450, 306253393, 480638786, 30626...   \n",
       "48672  [DE268, 857381969, 2428188565, 262558486, 2428...   \n",
       "\n",
       "                                               node_path  \\\n",
       "37461  [306268450, 306253393, 480638786, 306264403, 4...   \n",
       "48672  [857381969, 2428188565, 262558486, 2428188596,...   \n",
       "\n",
       "                                               link_path  \\\n",
       "37461  [rl_53660, rl_44462, rl_247282, rl_51273, rl_2...   \n",
       "48672  [rl_396698, rl_135586, rl_262099, rl_396709, r...   \n",
       "\n",
       "                                          ntlegs  access_time  \\\n",
       "37461   [(DE245, 306268450), (848510869, DE717)]          600   \n",
       "48672  [(DE268, 857381969), (1607014826, DE40B)]          600   \n",
       "\n",
       "       in_vehicle_time  length route_types route_type  ntransfers  \\\n",
       "37461             9345  231429      (car,)        car           0   \n",
       "48672            15657  397068      (car,)        car           0   \n",
       "\n",
       "       accessibility      price  \n",
       "37461              1  19.201064  \n",
       "48672              1  31.832978  "
      ]
     },
     "execution_count": 33,
     "metadata": {},
     "output_type": "execute_result"
    }
   ],
   "source": [
    "sm.pr_los.sample(2)"
   ]
  },
  {
   "cell_type": "code",
   "execution_count": 34,
   "metadata": {},
   "outputs": [
    {
     "data": {
      "text/plain": [
       "<AxesSubplot:xlabel='length', ylabel='price'>"
      ]
     },
     "execution_count": 34,
     "metadata": {},
     "output_type": "execute_result"
    },
    {
     "data": {
      "image/png": "[encoded data removed]",
      "text/plain": [
       "<Figure size 432x288 with 1 Axes>"
      ]
     },
     "metadata": {
      "needs_background": "light"
     },
     "output_type": "display_data"
    }
   ],
   "source": [
    "sm.pr_los.plot.scatter(x='length', y='price', alpha=.1)"
   ]
  },
  {
   "cell_type": "markdown",
   "metadata": {},
   "source": [
    "## Save model"
   ]
  },
  {
   "cell_type": "code",
   "execution_count": 37,
   "metadata": {},
   "outputs": [],
   "source": [
    "# Ditch unneccessary columns\n",
    "to_drop = ['alighting_links','alightings','all_walk','boarding_links','boardings',\n",
    "           'footpaths','length_link_path','node_path','ntlegs','time_link_path','transfers',\n",
    "           'pathfinder_session','gtime','reversed', 'broken_modes', 'path']\n",
    "sm.pr_los = sm.pr_los.drop(to_drop, axis=1, errors='ignore')"
   ]
  },
  {
   "cell_type": "code",
   "execution_count": 38,
   "metadata": {},
   "outputs": [],
   "source": [
    "# Make table smaller\n",
    "cols = ['time', 'access_time', 'in_vehicle_time', 'length']\n",
    "sm.pr_los[cols] = sm.pr_los[cols].astype(int)"
   ]
  },
  {
   "cell_type": "code",
   "execution_count": 39,
   "metadata": {},
   "outputs": [
    {
     "name": "stderr",
     "output_type": "stream",
     "text": [
      "to_hdf(overwriting): 100%|█████████████████████████████████████████████████████████████| 34/34 [00:10<00:00,  3.19it/s]\n"
     ]
    }
   ],
   "source": [
    "sm.to_json(model_path + 'de_pr_los',\n",
    "           only_attributes=['pr_los'], encoding='utf-8')"
   ]
  }
 ],
 "metadata": {
  "kernelspec": {
   "display_name": "Python 3",
   "language": "python",
   "name": "python3"
  },
  "language_info": {
   "codemirror_mode": {
    "name": "ipython",
    "version": 3
   },
   "file_extension": ".py",
   "mimetype": "text/x-python",
   "name": "python",
   "nbconvert_exporter": "python",
   "pygments_lexer": "ipython3",
   "version": "3.8.1"
  }
 },
 "nbformat": 4,
 "nbformat_minor": 2
}
