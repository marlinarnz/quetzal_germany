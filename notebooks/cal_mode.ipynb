{
 "cells": [
  {
   "cell_type": "code",
   "execution_count": 1,
   "metadata": {},
   "outputs": [],
   "source": [
    "import sys # for automation and parallelisation\n",
    "manual, scenario = (True, 'base') if 'ipykernel' in sys.argv[0] else (False, sys.argv[1])"
   ]
  },
  {
   "cell_type": "code",
   "execution_count": 2,
   "metadata": {},
   "outputs": [],
   "source": [
    "import biogeme.database as db\n",
    "import biogeme.biogeme as bio\n",
    "import biogeme.models as models\n",
    "from biogeme import expressions as ex\n",
    "import pandas as pd\n",
    "import numpy as np\n",
    "from quetzal.io import excel"
   ]
  },
  {
   "cell_type": "markdown",
   "metadata": {},
   "source": [
    "# Calibration\n",
    "## Estimation of the model parameters\n",
    "quetzal_germany is being estimated using [PandasBiogeme](https://biogeme.epfl.ch/). This notebook estimates calibration parameters for the model's utility functions.\n",
    "- Documentation and reference: [Bierlaire, M. (2020). A short introduction to PandasBiogeme. Technical report TRANSP-OR 200605. Transport and Mobility Laboratory, ENAC, EPFL.](https://transp-or.epfl.ch/documents/technicalReports/Bier20.pdf)\n",
    "- Tutorial: https://www.youtube.com/watch?v=OiM94B8WayA"
   ]
  },
  {
   "cell_type": "markdown",
   "metadata": {},
   "source": [
    "### Model formulation\n",
    "The model consists of systematic utility functions, one for each mode. They comprise an alternaive-specific constant (ASC), a distance-dependent part with travel time and cost, and a cost damping function F\n",
    "\n",
    "$V_{im} = ASC_{im} + F(T_m, b_{c_i}) + C_{m_i} b_{c_i}$\n",
    "\n",
    "Index i marks the demand group"
   ]
  },
  {
   "cell_type": "code",
   "execution_count": 3,
   "metadata": {},
   "outputs": [],
   "source": [
    "input_path = '../input/'\n",
    "model_path = '../model/'"
   ]
  },
  {
   "cell_type": "code",
   "execution_count": 4,
   "metadata": {},
   "outputs": [],
   "source": [
    "# Load parameters for settings\n",
    "params = excel.read_var(file='../input/parameters.xls', scenario=scenario)"
   ]
  },
  {
   "cell_type": "markdown",
   "metadata": {},
   "source": [
    "### Prepare the database"
   ]
  },
  {
   "cell_type": "code",
   "execution_count": 5,
   "metadata": {},
   "outputs": [],
   "source": [
    "df = pd.read_csv(input_path + 'transport_demand/calibration_all_trips_MiD2017.csv')\n",
    "df = df[['cost_rail_short', 'cost_rail_long', 'cost_car', 'cost_coach', 'cost_bus', 'cost_walk', 'cost_air',\n",
    "         'time_rail_short', 'time_rail_long', 'time_car', 'time_coach', 'time_bus', 'time_walk', 'time_air',\n",
    "         'mode_model', 'purpose_model', 'purpose2', 'car_avail', 'length', 'W_GEW', 'origin', 'destination']]\n",
    "df.columns = ['C_RAIL_S', 'C_RAIL_L', 'C_CAR', 'C_COACH', 'C_BUS', 'C_NON_MOTOR', 'C_AIR',\n",
    "              'T_RAIL_S', 'T_RAIL_L', 'T_CAR', 'T_COACH', 'T_BUS', 'T_NON_MOTOR', 'T_AIR',\n",
    "              'MODE', 'PURPOSE', 'P2', 'CAR_AV', 'DIST', 'W_GEW', 'O', 'D']"
   ]
  },
  {
   "cell_type": "code",
   "execution_count": 6,
   "metadata": {},
   "outputs": [
    {
     "data": {
      "text/plain": [
       "104689"
      ]
     },
     "execution_count": 6,
     "metadata": {},
     "output_type": "execute_result"
    }
   ],
   "source": [
    "# Only inter-zonal trips\n",
    "df = df.loc[df['O']!=df['D']]\n",
    "len(df)"
   ]
  },
  {
   "cell_type": "code",
   "execution_count": 7,
   "metadata": {},
   "outputs": [
    {
     "data": {
      "text/plain": [
       "62197"
      ]
     },
     "execution_count": 7,
     "metadata": {},
     "output_type": "execute_result"
    }
   ],
   "source": [
    "# Drop return trips\n",
    "df = df.loc[~df['P2'].isin([8,9])]\n",
    "len(df)"
   ]
  },
  {
   "cell_type": "code",
   "execution_count": 9,
   "metadata": {},
   "outputs": [],
   "source": [
    "# The estimation requires numerical purpose values\n",
    "p_dict = {'commuting':1, 'business':2, 'education':3, 'shopping':4, 'errands':5, 'leisure':6, 'accompany':7}\n",
    "if not pd.api.types.is_numeric_dtype(df['PURPOSE']):\n",
    "    df['PURPOSE'] = df['PURPOSE'].apply(lambda s: p_dict[s.split('_')[0]])"
   ]
  },
  {
   "cell_type": "code",
   "execution_count": 10,
   "metadata": {},
   "outputs": [],
   "source": [
    "inf = 99999\n",
    "df = df.replace({np.inf:inf})"
   ]
  },
  {
   "cell_type": "code",
   "execution_count": 11,
   "metadata": {},
   "outputs": [],
   "source": [
    "# Scale time to hours\n",
    "df['T_RAIL_S_S'] = df['T_RAIL_S'] / 60\n",
    "df['T_RAIL_L_S'] = df['T_RAIL_L'] / 60\n",
    "df['T_CAR_S'] = df['T_CAR'] / 60\n",
    "df['T_COACH_S'] = df['T_COACH'] / 60\n",
    "df['T_BUS_S'] = df['T_BUS'] / 60\n",
    "df['T_AIR_S'] = df['T_AIR'] / 60\n",
    "df['T_NON_MOTOR_S'] = df['T_NON_MOTOR'] / 60"
   ]
  },
  {
   "cell_type": "code",
   "execution_count": 12,
   "metadata": {},
   "outputs": [],
   "source": [
    "# Add availabilities\n",
    "df['CAR_AV'] = df['CAR_AV'].replace({9:0})\n",
    "df['RAIL_S_AV'] = (df['T_RAIL_S']!=inf).astype(int)\n",
    "df['RAIL_L_AV'] = (df['T_RAIL_L']!=inf).astype(int)\n",
    "df['COACH_AV'] = (df['T_COACH']!=inf).astype(int)\n",
    "df['BUS_AV'] = (df['T_BUS']!=inf).astype(int)\n",
    "df['AIR_AV'] = (df['T_AIR']!=inf).astype(int)\n",
    "df['NON_MOTOR_AV'] = (df['T_NON_MOTOR']!=inf).astype(int)"
   ]
  },
  {
   "cell_type": "code",
   "execution_count": 13,
   "metadata": {},
   "outputs": [
    {
     "name": "stdout",
     "output_type": "stream",
     "text": [
      "61581\n"
     ]
    }
   ],
   "source": [
    "# Remove trips where mode is not available\n",
    "# because it irritates the MLE algorithm\n",
    "for i, mode in [(1, 'RAIL_S'),(2, 'RAIL_L'),(3, 'COACH'),(4, 'BUS'),(5, 'AIR'),(6, 'CAR'),(7, 'NON_MOTOR')]:\n",
    "    df = df.loc[~((df['MODE']==i) & (df[mode+'_AV']==0))]\n",
    "print(len(df))"
   ]
  },
  {
   "cell_type": "markdown",
   "metadata": {},
   "source": [
    "### Model variables\n",
    "All columns are variables. DefineVariable creates a new column in the database."
   ]
  },
  {
   "cell_type": "markdown",
   "metadata": {},
   "source": [
    "#### Generalised cost\n",
    "\n",
    "Both, travel time and monetary cost should be affected by cost damping measures. It is logical to define a generalised cost term `GC` with dimension of time units. This requires definition or estimation of values of time, in order to rescale monetary units, for all segments. Usually, the value of time (VoT) is distance-dependent. In the case of Germany, VoT can be taken from research undertaken within the Federal Government's transport study \"Bundesverkehrswegeplan 2030\": Axhausen et al. 2015. Ermittlung von Bewertungsansätzen für Reisezeiten und Zuverlässigkeit auf der Basis eines Modells für modale Verlagerungen im nicht-gewerblichen und gewerblichen Personenverkehr für die Bundesverkehrswegeplanung"
   ]
  },
  {
   "cell_type": "code",
   "execution_count": 19,
   "metadata": {},
   "outputs": [
    {
     "data": {
      "text/html": [
       "<div>\n",
       "<style scoped>\n",
       "    .dataframe tbody tr th:only-of-type {\n",
       "        vertical-align: middle;\n",
       "    }\n",
       "\n",
       "    .dataframe tbody tr th {\n",
       "        vertical-align: top;\n",
       "    }\n",
       "\n",
       "    .dataframe thead tr th {\n",
       "        text-align: left;\n",
       "    }\n",
       "</style>\n",
       "<table border=\"1\" class=\"dataframe\">\n",
       "  <thead>\n",
       "    <tr>\n",
       "      <th></th>\n",
       "      <th>root</th>\n",
       "      <th>Fz1</th>\n",
       "      <th>Fz2</th>\n",
       "      <th>Fz3</th>\n",
       "      <th>Fz4</th>\n",
       "      <th>Fz6</th>\n",
       "      <th>root</th>\n",
       "      <th>Fz1</th>\n",
       "      <th>Fz2</th>\n",
       "      <th>Fz3</th>\n",
       "      <th>...</th>\n",
       "      <th>Fz2</th>\n",
       "      <th>Fz3</th>\n",
       "      <th>Fz4</th>\n",
       "      <th>Fz6</th>\n",
       "      <th>root</th>\n",
       "      <th>Fz1</th>\n",
       "      <th>Fz2</th>\n",
       "      <th>Fz3</th>\n",
       "      <th>Fz4</th>\n",
       "      <th>Fz6</th>\n",
       "    </tr>\n",
       "    <tr>\n",
       "      <th></th>\n",
       "      <th>all</th>\n",
       "      <th>all</th>\n",
       "      <th>all</th>\n",
       "      <th>all</th>\n",
       "      <th>all</th>\n",
       "      <th>all</th>\n",
       "      <th>PT</th>\n",
       "      <th>PT</th>\n",
       "      <th>PT</th>\n",
       "      <th>PT</th>\n",
       "      <th>...</th>\n",
       "      <th>air</th>\n",
       "      <th>air</th>\n",
       "      <th>air</th>\n",
       "      <th>air</th>\n",
       "      <th>car</th>\n",
       "      <th>car</th>\n",
       "      <th>car</th>\n",
       "      <th>car</th>\n",
       "      <th>car</th>\n",
       "      <th>car</th>\n",
       "    </tr>\n",
       "  </thead>\n",
       "  <tbody>\n",
       "    <tr>\n",
       "      <th>699</th>\n",
       "      <td>20.6463</td>\n",
       "      <td>19.7471</td>\n",
       "      <td>9.18</td>\n",
       "      <td>11.9</td>\n",
       "      <td>27.2028</td>\n",
       "      <td>15.5409</td>\n",
       "      <td>15.5401</td>\n",
       "      <td>11.8834</td>\n",
       "      <td>13.480</td>\n",
       "      <td>16.3134</td>\n",
       "      <td>...</td>\n",
       "      <td>72.6955</td>\n",
       "      <td>72.6955</td>\n",
       "      <td>176.7397</td>\n",
       "      <td>40.8806</td>\n",
       "      <td>20.4167</td>\n",
       "      <td>19.3677</td>\n",
       "      <td>12.1631</td>\n",
       "      <td>25.8141</td>\n",
       "      <td>22.6035</td>\n",
       "      <td>15.5409</td>\n",
       "    </tr>\n",
       "    <tr>\n",
       "      <th>67</th>\n",
       "      <td>10.4490</td>\n",
       "      <td>10.1680</td>\n",
       "      <td>9.18</td>\n",
       "      <td>11.9</td>\n",
       "      <td>11.6180</td>\n",
       "      <td>8.7970</td>\n",
       "      <td>8.1880</td>\n",
       "      <td>6.9540</td>\n",
       "      <td>11.316</td>\n",
       "      <td>11.4210</td>\n",
       "      <td>...</td>\n",
       "      <td>19.1600</td>\n",
       "      <td>19.1600</td>\n",
       "      <td>24.4700</td>\n",
       "      <td>15.8300</td>\n",
       "      <td>10.5550</td>\n",
       "      <td>10.2340</td>\n",
       "      <td>6.9980</td>\n",
       "      <td>13.9850</td>\n",
       "      <td>11.6610</td>\n",
       "      <td>8.7970</td>\n",
       "    </tr>\n",
       "  </tbody>\n",
       "</table>\n",
       "<p>2 rows × 24 columns</p>\n",
       "</div>"
      ],
      "text/plain": [
       "        root      Fz1   Fz2   Fz3      Fz4      Fz6     root      Fz1     Fz2  \\\n",
       "         all      all   all   all      all      all       PT       PT      PT   \n",
       "699  20.6463  19.7471  9.18  11.9  27.2028  15.5409  15.5401  11.8834  13.480   \n",
       "67   10.4490  10.1680  9.18  11.9  11.6180   8.7970   8.1880   6.9540  11.316   \n",
       "\n",
       "         Fz3  ...      Fz2      Fz3       Fz4      Fz6     root      Fz1  \\\n",
       "          PT  ...      air      air       air      air      car      car   \n",
       "699  16.3134  ...  72.6955  72.6955  176.7397  40.8806  20.4167  19.3677   \n",
       "67   11.4210  ...  19.1600  19.1600   24.4700  15.8300  10.5550  10.2340   \n",
       "\n",
       "         Fz2      Fz3      Fz4      Fz6  \n",
       "         car      car      car      car  \n",
       "699  12.1631  25.8141  22.6035  15.5409  \n",
       "67    6.9980  13.9850  11.6610   8.7970  \n",
       "\n",
       "[2 rows x 24 columns]"
      ]
     },
     "execution_count": 19,
     "metadata": {},
     "output_type": "execute_result"
    }
   ],
   "source": [
    "# VoT from literature, distance-dependent, see cal19\n",
    "p_Fz_dict = {1:'Fz1', 3:'Fz2', 4:'Fz3',, 5:'Fz3', 2:'Fz4', 6:'Fz6', 7:'Fz6'}\n",
    "VoT = pd.read_csv(input_path + 'vot.csv', header=[0,1], index_col=0)\n",
    "VoT.sample(2)"
   ]
  },
  {
   "cell_type": "code",
   "execution_count": 15,
   "metadata": {},
   "outputs": [],
   "source": [
    "# Make distance integer\n",
    "df['DIST'] = df['DIST'].apply(int)"
   ]
  },
  {
   "cell_type": "code",
   "execution_count": 16,
   "metadata": {},
   "outputs": [
    {
     "data": {
      "text/plain": [
       "61581"
      ]
     },
     "execution_count": 16,
     "metadata": {},
     "output_type": "execute_result"
    }
   ],
   "source": [
    "df = df.loc[df['DIST']<=1000]\n",
    "len(df)"
   ]
  },
  {
   "cell_type": "code",
   "execution_count": 20,
   "metadata": {},
   "outputs": [],
   "source": [
    "# Generate generalised cost\n",
    "VoT = VoT.to_dict()\n",
    "df['GC_RAIL_S'] = df['T_RAIL_S_S'] + [c / VoT[(p_Fz_dict[p], 'PT')][d]\n",
    "                                        for c,d,p in zip(df['C_RAIL_S'], df['DIST'], df['PURPOSE'])]\n",
    "df['GC_RAIL_L'] = df['T_RAIL_L_S'] + [c / VoT[(p_Fz_dict[p], 'PT')][d]\n",
    "                                      for c,d,p in zip(df['C_RAIL_L'], df['DIST'], df['PURPOSE'])]\n",
    "df['GC_COACH'] = df['T_COACH_S'] + [c / VoT[(p_Fz_dict[p], 'PT')][d]\n",
    "                                    for c,d,p in zip(df['C_COACH'], df['DIST'], df['PURPOSE'])]\n",
    "df['GC_BUS'] = df['T_BUS_S'] + [c / VoT[(p_Fz_dict[p], 'PT')][d]\n",
    "                                for c,d,p in zip(df['C_BUS'], df['DIST'], df['PURPOSE'])]\n",
    "df['GC_AIR'] = df['T_AIR_S'] + [c / VoT[(p_Fz_dict[p], 'air')][d]\n",
    "                                for c,d,p in zip(df['C_AIR'], df['DIST'], df['PURPOSE'])]\n",
    "df['GC_CAR'] = df['T_CAR_S'] + [c / VoT[(p_Fz_dict[p], 'car')][d]\n",
    "                                for c,d,p in zip(df['C_CAR'], df['DIST'], df['PURPOSE'])]\n",
    "df['GC_NON_MOTOR'] = df['T_NON_MOTOR_S']"
   ]
  },
  {
   "cell_type": "markdown",
   "metadata": {},
   "source": [
    "#### Cost damping\n",
    "\n",
    "Many modelling studies have shown that cost damping is required in order to flatten the tail of time/cost elasticities, i.e. decrease the impact of long distances on choice results to prevent from overestimation of time/cost parameters. Cost damping represents the property of decreasing marginal utility. It is commonly approached with Box-Cox transformations of generalised cost (usually defined as the sum of travel time and travel expenditures divided by the value of time). Daly (2010) proposes a hybrid function as a sum of the linear term and the narural logarithm of the same. However, the linear term still dominates cost on long distances. Rich (2020), main developer of the Danish National Transport Model, proposes a more complex spline function which successfully manages cost damping and even outperforms the Box-Cox transformation in terms of stability of elasticities."
   ]
  },
  {
   "cell_type": "code",
   "execution_count": 36,
   "metadata": {},
   "outputs": [],
   "source": [
    "# The cost damping function from Rich (2020)\n",
    "c = params['estimation']\n",
    "def spline(x, beta, c1, c2, Q=3):\n",
    "    alpha = [0, -beta/2*(ex.log(c1)**3),\n",
    "             -beta/2*ex.log(c1)*(3*(ex.log(c2)**2)+(ex.log(c1)**2))] # for Q=3\n",
    "    theta = [1, 3/2*ex.log(c1), 3*ex.log(c1)*ex.log(c2)] # for Q=3\n",
    "    return (beta*theta[0]*(ex.log(x)**(Q-1+1)) + alpha[0]) * (x<c1) \\\n",
    "    + (beta*theta[1]*(ex.log(x)**(Q-2+1)) + alpha[1]) * (x>=c1)*(x<c2) \\\n",
    "    + (beta*theta[2]*(ex.log(x)**(Q-3+1)) + alpha[2]) * (x>=c2)"
   ]
  },
  {
   "cell_type": "code",
   "execution_count": 23,
   "metadata": {},
   "outputs": [],
   "source": [
    "# A Box-Cox transformation can be applied with the following code.\n",
    "# However, it performs worse than other estimations\n",
    "#tao_t = {}\n",
    "#for m in ['CAR', 'RAIL', 'ROAD', 'AIR', 'NON_MOTOR']:\n",
    "#    assert len(df.loc[df['T_'+m+'_S']<=0]) == 0\n",
    "#    transformed_data, best_tao = stats.boxcox(df.loc[df[m+'_AV']==1, 'T_'+m+'_S'])\n",
    "#    tao_t[m] = best_tao\n",
    "#    df.loc[df[m+'_AV']==1, 'T_'+m+'_D'] = transformed_data\n",
    "#    df.loc[df[m+'_AV']==0, 'T_'+m+'_D'] = inf"
   ]
  },
  {
   "cell_type": "markdown",
   "metadata": {},
   "source": [
    "### Database creation"
   ]
  },
  {
   "cell_type": "code",
   "execution_count": 24,
   "metadata": {},
   "outputs": [
    {
     "data": {
      "text/plain": [
       "61581"
      ]
     },
     "execution_count": 24,
     "metadata": {},
     "output_type": "execute_result"
    }
   ],
   "source": [
    "# Create the initial database and make columns global variables\n",
    "database = db.Database('MiD2017', df.copy())\n",
    "globals().update(database.variables)\n",
    "database.getSampleSize()"
   ]
  },
  {
   "cell_type": "markdown",
   "metadata": {},
   "source": [
    "### Estimation parameters"
   ]
  },
  {
   "cell_type": "code",
   "execution_count": 25,
   "metadata": {},
   "outputs": [],
   "source": [
    "asc_rail_s = ex.Beta('asc_rail_s', 0, None, None, 0)\n",
    "asc_rail_l = ex.Beta('asc_rail_l', 0, None, None, 0)\n",
    "asc_coach = ex.Beta('asc_coach', 0, None, None, 0)\n",
    "asc_bus = ex.Beta('asc_bus', 0, None, None, 0)\n",
    "asc_air = ex.Beta('asc_air', 0, None, None, 0)\n",
    "asc_car = ex.Beta('asc_car', 0, None, None, 1)\n",
    "asc_non_motor = ex.Beta('asc_non_motor', 0, None, None, 0)"
   ]
  },
  {
   "cell_type": "code",
   "execution_count": 26,
   "metadata": {},
   "outputs": [],
   "source": [
    "b_t = ex.Beta('b_t', 0, None, None, 0)\n",
    "b_c = ex.Beta('b_c', 0, None, None, 0)\n",
    "b_gc = ex.Beta('b_gc', 0, None, None, 0)"
   ]
  },
  {
   "cell_type": "code",
   "execution_count": 27,
   "metadata": {},
   "outputs": [],
   "source": [
    "# Parameters for the nested logit structure\n",
    "mu_pt = ex.Beta('mu_pt', 1, 1, 10, 0)\n",
    "mu_rail = ex.Beta('mu_rail', 1, 1, 10, 0)"
   ]
  },
  {
   "cell_type": "markdown",
   "metadata": {},
   "source": [
    "### Utility functions"
   ]
  },
  {
   "cell_type": "raw",
   "metadata": {},
   "source": [
    "# Linear-in-the-parameters formulation\n",
    "'''V_RAIL = {p: asc_rail + b_gc * GC_RAIL\n",
    "          for p in df['PURPOSE'].unique()}\n",
    "V_ROAD = {p: asc_road + b_gc * GC_ROAD\n",
    "          for p in df['PURPOSE'].unique()}\n",
    "V_AIR = {p: asc_air + b_gc * GC_AIR\n",
    "         for p in df['PURPOSE'].unique()}\n",
    "V_CAR = {p: asc_car + b_gc * GC_CAR\n",
    "         for p in df['PURPOSE'].unique()}\n",
    "V_NON_MOTOR = {p: asc_non_motor + b_gc * GC_NON_MOTOR\n",
    "               for p in df['PURPOSE'].unique()}'''"
   ]
  },
  {
   "cell_type": "raw",
   "metadata": {},
   "source": [
    "# Model specification with log-power transformation (first component of power-spline)\n",
    "'''V_RAIL = {p: asc_rail\n",
    "              + ex.Power(ex.log(GC_RAIL), 3) * b_gc\n",
    "          for p in df['PURPOSE'].unique()}\n",
    "V_ROAD = {p: asc_road\n",
    "              + ex.Power(ex.log(GC_ROAD), 3) * b_gc\n",
    "          for p in df['PURPOSE'].unique()}\n",
    "V_AIR = {p: asc_air\n",
    "             + ex.Power(ex.log(GC_AIR), 3) * b_gc\n",
    "         for p in df['PURPOSE'].unique()}\n",
    "V_CAR = {p: asc_car\n",
    "             + ex.Power(ex.log(GC_CAR), 3) * b_gc\n",
    "         for p in df['PURPOSE'].unique()}\n",
    "V_NON_MOTOR = {p: asc_non_motor \n",
    "                   + ex.Power(ex.log(GC_NON_MOTOR), 3) * b_gc\n",
    "               for p in df['PURPOSE'].unique()}'''"
   ]
  },
  {
   "cell_type": "raw",
   "metadata": {},
   "source": [
    "# Model specification with spline function transformation - GC\n",
    "'''c1 = 2\n",
    "c2 = 5\n",
    "V_RAIL = {p: asc_rail + spline(GC_RAIL, b_gc, c1, c2)\n",
    "          for p in df['PURPOSE'].unique()}\n",
    "V_ROAD = {p: asc_road + spline(GC_ROAD, b_gc, c1, c2)\n",
    "          for p in df['PURPOSE'].unique()}\n",
    "V_AIR = {p: asc_air + spline(GC_AIR, b_gc, c1, c2)\n",
    "         for p in df['PURPOSE'].unique()}\n",
    "V_CAR = {p: asc_car + spline(GC_CAR, b_gc, c1, c2)\n",
    "         for p in df['PURPOSE'].unique()}\n",
    "V_NON_MOTOR = {p: asc_non_motor + spline(GC_NON_MOTOR, b_gc, c1, c2)\n",
    "               for p in df['PURPOSE'].unique()}'''"
   ]
  },
  {
   "cell_type": "code",
   "execution_count": 37,
   "metadata": {},
   "outputs": [],
   "source": [
    "# Model specification with spline function transformation - disaggregated\n",
    "p_dict_rev = dict(zip(p_dict.values(), p_dict.keys()))\n",
    "car = '_car' # take the knot points for car available\n",
    "V_RAIL_S = {p: asc_rail_s\n",
    "              + C_RAIL_S * b_c\n",
    "              + spline(T_RAIL_S, b_t, c['c1_time_'+p_dict_rev[p]+car]*60, c['c2_time_'+p_dict_rev[p]+car]*60)\n",
    "          for p in df['PURPOSE'].unique()}\n",
    "V_RAIL_L = {p: asc_rail_l\n",
    "              + C_RAIL_L * b_c\n",
    "              + spline(T_RAIL_L, b_t, c['c1_time_'+p_dict_rev[p]+car]*60, c['c2_time_'+p_dict_rev[p]+car]*60)\n",
    "          for p in df['PURPOSE'].unique()}\n",
    "V_COACH = {p: asc_coach\n",
    "              + C_COACH * b_c\n",
    "              + spline(T_COACH, b_t, c['c1_time_'+p_dict_rev[p]+car]*60, c['c2_time_'+p_dict_rev[p]+car]*60)\n",
    "          for p in df['PURPOSE'].unique()}\n",
    "V_BUS = {p: asc_bus\n",
    "              + C_BUS * b_c\n",
    "              + spline(T_BUS, b_t, c['c1_time_'+p_dict_rev[p]+car]*60, c['c2_time_'+p_dict_rev[p]+car]*60)\n",
    "          for p in df['PURPOSE'].unique()}\n",
    "V_AIR = {p: asc_air\n",
    "             + C_AIR * b_c\n",
    "             + spline(T_AIR, b_t, c['c1_time_'+p_dict_rev[p]+car]*60, c['c2_time_'+p_dict_rev[p]+car]*60)\n",
    "         for p in df['PURPOSE'].unique()}\n",
    "V_CAR = {p: asc_car\n",
    "             + C_CAR * b_c\n",
    "             + spline(T_CAR, b_t, c['c1_time_'+p_dict_rev[p]+car]*60, c['c2_time_'+p_dict_rev[p]+car]*60)\n",
    "         for p in df['PURPOSE'].unique()}\n",
    "V_NON_MOTOR = {p: asc_non_motor \n",
    "                   + spline(T_NON_MOTOR, b_t, c['c1_time_'+p_dict_rev[p]+car]*60, c['c2_time_'+p_dict_rev[p]+car]*60)\n",
    "               for p in df['PURPOSE'].unique()}\n",
    "\n",
    "# Model specification for business trips\n",
    "V_RAIL_S[2] = asc_rail_s + spline(T_RAIL_S, b_t, c['c1_time_business'+car]*60, c['c2_time_business'+car]*60)\n",
    "V_RAIL_L[2] = asc_rail_l + spline(T_RAIL_L, b_t, c['c1_time_business'+car]*60, c['c2_time_business'+car]*60)\n",
    "V_COACH[2] = asc_coach + spline(T_COACH, b_t, c['c1_time_business'+car]*60, c['c2_time_business'+car]*60)\n",
    "V_BUS[2] = asc_bus + spline(T_BUS, b_t, c['c1_time_business'+car]*60, c['c2_time_business'+car]*60)\n",
    "V_AIR[2] = asc_air + spline(T_AIR, b_t, c['c1_time_business'+car]*60, c['c2_time_business'+car]*60)\n",
    "V_CAR[2] = asc_car + spline(T_CAR, b_t, c['c1_time_business'+car]*60, c['c2_time_business'+car]*60)\n",
    "V_NON_MOTOR[2] = asc_non_motor + spline(T_NON_MOTOR, b_t, c['c1_time_business'+car]*60, c['c2_time_business'+car]*60)"
   ]
  },
  {
   "cell_type": "markdown",
   "metadata": {},
   "source": [
    "### Run the estimation"
   ]
  },
  {
   "cell_type": "code",
   "execution_count": 39,
   "metadata": {},
   "outputs": [],
   "source": [
    "# Map modes to utility functions\n",
    "V = {p: {1:V_RAIL_S[p],\n",
    "         2:V_RAIL_L[p],\n",
    "         3:V_COACH[p],\n",
    "         4:V_BUS[p],\n",
    "         5:V_AIR[p],\n",
    "         6:V_CAR[p],\n",
    "         7:V_NON_MOTOR[p]}\n",
    "     for p in df['PURPOSE'].unique()}"
   ]
  },
  {
   "cell_type": "code",
   "execution_count": 52,
   "metadata": {},
   "outputs": [],
   "source": [
    "# Map the availability of alternatives with MODE as key\n",
    "# PT is always available\n",
    "av = {p: {1:RAIL_S_AV,\n",
    "          2:RAIL_L_AV,\n",
    "          3:COACH_AV,# * int(p!=1) * int(p!=3),\n",
    "          4:BUS_AV,\n",
    "          5:AIR_AV * int(p!=1) * int(p!=4) * int(p!=7) * int(p!=3),\n",
    "          6:CAR_AV,\n",
    "          7:NON_MOTOR_AV}\n",
    "      for p in df['PURPOSE'].unique()}"
   ]
  },
  {
   "cell_type": "code",
   "execution_count": 41,
   "metadata": {},
   "outputs": [],
   "source": [
    "# Mode nests as tuples with nest name and dictionary where\n",
    "# alternative IDs are mapped to alpha values. Missing ID's alpha is zero\n",
    "# Alternatively use lists with mode ID without alpha\n",
    "pt = mu_pt, [1, 2, 3, 4]\n",
    "air = 1, [5]\n",
    "car = 1, [6]\n",
    "walk = 1, [7]\n",
    "rail = mu_rail, [1,2]\n",
    "bus = 1, [4]\n",
    "coach = 1, [3]\n",
    "#nests = pt, air, car, walk\n",
    "nests = rail, bus, coach, car, walk, air"
   ]
  },
  {
   "cell_type": "code",
   "execution_count": 54,
   "metadata": {},
   "outputs": [
    {
     "name": "stderr",
     "output_type": "stream",
     "text": [
      "The sum of the weights (539.8209388816687) is different from the sample size (382). Multiply the weights by 0.7076420577374755 to reconcile the two.\n"
     ]
    },
    {
     "name": "stdout",
     "output_type": "stream",
     "text": [
      "Sample size for purpose 6, car 0: 382\n",
      "Sample size for purpose 6, car 1: 16534\n"
     ]
    },
    {
     "name": "stderr",
     "output_type": "stream",
     "text": [
      "The sum of the weights (15294.611741017605) is different from the sample size (16534). Multiply the weights by 1.081034306719834 to reconcile the two.\n",
      "The sum of the weights (648.3248618976085) is different from the sample size (364). Multiply the weights by 0.5614469248249921 to reconcile the two.\n"
     ]
    },
    {
     "name": "stdout",
     "output_type": "stream",
     "text": [
      "Sample size for purpose 1, car 0: 364\n",
      "Sample size for purpose 1, car 1: 14584\n"
     ]
    },
    {
     "name": "stderr",
     "output_type": "stream",
     "text": [
      "The sum of the weights (14222.60012610091) is different from the sample size (14584). Multiply the weights by 1.0254102534483733 to reconcile the two.\n",
      "The sum of the weights (414.61901963966716) is different from the sample size (260). Multiply the weights by 0.6270817007525562 to reconcile the two.\n"
     ]
    },
    {
     "name": "stdout",
     "output_type": "stream",
     "text": [
      "Sample size for purpose 4, car 0: 260\n",
      "Sample size for purpose 4, car 1: 18879\n"
     ]
    },
    {
     "name": "stderr",
     "output_type": "stream",
     "text": [
      "The sum of the weights (16665.387505945546) is different from the sample size (18879). Multiply the weights by 1.1328269440638403 to reconcile the two.\n",
      "The sum of the weights (49.03024842422116) is different from the sample size (38). Multiply the weights by 0.7750317655177906 to reconcile the two.\n"
     ]
    },
    {
     "name": "stdout",
     "output_type": "stream",
     "text": [
      "Sample size for purpose 2, car 0: 38\n"
     ]
    },
    {
     "name": "stderr",
     "output_type": "stream",
     "text": [
      "The sum of the weights (2385.1240052385974) is different from the sample size (2843). Multiply the weights by 1.1919715678328426 to reconcile the two.\n"
     ]
    },
    {
     "name": "stdout",
     "output_type": "stream",
     "text": [
      "Sample size for purpose 2, car 1: 2843\n"
     ]
    },
    {
     "name": "stderr",
     "output_type": "stream",
     "text": [
      "The sum of the weights (22.23208426725315) is different from the sample size (18). Multiply the weights by 0.8096406879184594 to reconcile the two.\n"
     ]
    },
    {
     "name": "stdout",
     "output_type": "stream",
     "text": [
      "Sample size for purpose 7, car 0: 18\n",
      "Sample size for purpose 7, car 1: 5093\n"
     ]
    },
    {
     "name": "stderr",
     "output_type": "stream",
     "text": [
      "The sum of the weights (5157.548863796919) is different from the sample size (5093). Multiply the weights by 0.9874845851194904 to reconcile the two.\n",
      "The sum of the weights (179.85020327081645) is different from the sample size (67). Multiply the weights by 0.3725322450657014 to reconcile the two.\n"
     ]
    },
    {
     "name": "stdout",
     "output_type": "stream",
     "text": [
      "Sample size for purpose 3, car 0: 67\n"
     ]
    },
    {
     "name": "stderr",
     "output_type": "stream",
     "text": [
      "The sum of the weights (2622.4353532777272) is different from the sample size (2519). Multiply the weights by 0.9605575202651057 to reconcile the two.\n"
     ]
    },
    {
     "name": "stdout",
     "output_type": "stream",
     "text": [
      "Sample size for purpose 3, car 1: 2519\n"
     ]
    }
   ],
   "source": [
    "# Run the estimation by purpose and car availability\n",
    "# Write results to an Excel file\n",
    "writer = pd.ExcelWriter(input_path + 'estimation_results_mode.xlsx')\n",
    "car_str = ['_no_car', '_car']\n",
    "results = []\n",
    "for p in df['PURPOSE'].unique():\n",
    "    for car in [0,1]:\n",
    "        mask = (df['PURPOSE']==p) & (df['CAR_AV']==car)\n",
    "        database = db.Database('MiD2017', df.loc[mask].copy())\n",
    "        print('Sample size for purpose {}, car {}: {}'.format(p, car, database.getSampleSize()))\n",
    "        mnl = models.loglogit(V[p], av[p], MODE) # Choose utility functions and availabilities\n",
    "        #nl = models.lognested(V[p], av[p], nests, MODE) # Choose utility functions and availabilities\n",
    "        formulas = {'loglike': mnl, 'weight': W_GEW} # give weights to the estimator\n",
    "        model = bio.BIOGEME(database, formulas)#, numberOfThreads=10)\n",
    "        model.generate_html = False\n",
    "        model.generate_pickle = False\n",
    "        model.saveIterations = False\n",
    "        model.modelName = p_dict_rev[p].replace('/', '-') + car_str[car] # Name it\n",
    "        results.append(model.estimate()) # Estimation\n",
    "        output = results[-1].getEstimatedParameters()\n",
    "        # Add results to the Excel file\n",
    "        for key, val in results[-1].getGeneralStatistics().items():\n",
    "            output.loc[key] = [val[0], val[1]] + ['' for i in range(len(output.columns)-2)]\n",
    "        output.to_excel(writer, sheet_name=model.modelName)\n",
    "writer.close()"
   ]
  }
 ],
 "metadata": {
  "kernelspec": {
   "display_name": "Python 3 (ipykernel)",
   "language": "python",
   "name": "python3"
  },
  "language_info": {
   "codemirror_mode": {
    "name": "ipython",
    "version": 3
   },
   "file_extension": ".py",
   "mimetype": "text/x-python",
   "name": "python",
   "nbconvert_exporter": "python",
   "pygments_lexer": "ipython3",
   "version": "3.10.14"
  }
 },
 "nbformat": 4,
 "nbformat_minor": 4
}
