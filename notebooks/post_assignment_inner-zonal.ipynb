{
 "cells": [
  {
   "cell_type": "code",
   "execution_count": 1,
   "metadata": {},
   "outputs": [
    {
     "name": "stderr",
     "output_type": "stream",
     "text": [
      "\n",
      "Bad key text.latex.preview in file C:\\Users\\marlin.arnz\\AppData\\Local\\Continuum\\miniconda3\\envs\\quetzal\\lib\\site-packages\\matplotlib\\mpl-data\\stylelib\\_classic_test.mplstyle, line 123 ('text.latex.preview : False')\n",
      "You probably need to get an updated matplotlibrc file from\n",
      "https://github.com/matplotlib/matplotlib/blob/v3.5.2/matplotlibrc.template\n",
      "or from the matplotlib source distribution\n",
      "\n",
      "Bad key mathtext.fallback_to_cm in file C:\\Users\\marlin.arnz\\AppData\\Local\\Continuum\\miniconda3\\envs\\quetzal\\lib\\site-packages\\matplotlib\\mpl-data\\stylelib\\_classic_test.mplstyle, line 155 ('mathtext.fallback_to_cm : True  # When True, use symbols from the Computer Modern')\n",
      "You probably need to get an updated matplotlibrc file from\n",
      "https://github.com/matplotlib/matplotlib/blob/v3.5.2/matplotlibrc.template\n",
      "or from the matplotlib source distribution\n",
      "\n",
      "Bad key savefig.jpeg_quality in file C:\\Users\\marlin.arnz\\AppData\\Local\\Continuum\\miniconda3\\envs\\quetzal\\lib\\site-packages\\matplotlib\\mpl-data\\stylelib\\_classic_test.mplstyle, line 418 ('savefig.jpeg_quality: 95       # when a jpeg is saved, the default quality parameter.')\n",
      "You probably need to get an updated matplotlibrc file from\n",
      "https://github.com/matplotlib/matplotlib/blob/v3.5.2/matplotlibrc.template\n",
      "or from the matplotlib source distribution\n",
      "\n",
      "Bad key keymap.all_axes in file C:\\Users\\marlin.arnz\\AppData\\Local\\Continuum\\miniconda3\\envs\\quetzal\\lib\\site-packages\\matplotlib\\mpl-data\\stylelib\\_classic_test.mplstyle, line 466 ('keymap.all_axes : a                 # enable all axes')\n",
      "You probably need to get an updated matplotlibrc file from\n",
      "https://github.com/matplotlib/matplotlib/blob/v3.5.2/matplotlibrc.template\n",
      "or from the matplotlib source distribution\n",
      "\n",
      "Bad key animation.avconv_path in file C:\\Users\\marlin.arnz\\AppData\\Local\\Continuum\\miniconda3\\envs\\quetzal\\lib\\site-packages\\matplotlib\\mpl-data\\stylelib\\_classic_test.mplstyle, line 477 ('animation.avconv_path: avconv     # Path to avconv binary. Without full path')\n",
      "You probably need to get an updated matplotlibrc file from\n",
      "https://github.com/matplotlib/matplotlib/blob/v3.5.2/matplotlibrc.template\n",
      "or from the matplotlib source distribution\n",
      "\n",
      "Bad key animation.avconv_args in file C:\\Users\\marlin.arnz\\AppData\\Local\\Continuum\\miniconda3\\envs\\quetzal\\lib\\site-packages\\matplotlib\\mpl-data\\stylelib\\_classic_test.mplstyle, line 479 ('animation.avconv_args:            # Additional arguments to pass to avconv')\n",
      "You probably need to get an updated matplotlibrc file from\n",
      "https://github.com/matplotlib/matplotlib/blob/v3.5.2/matplotlibrc.template\n",
      "or from the matplotlib source distribution\n"
     ]
    }
   ],
   "source": [
    "import sys # for automation and parallelisation\n",
    "manual, scenario = (True, 'base') if 'ipykernel' in sys.argv[0] else (False, sys.argv[1])\n",
    "if manual:\n",
    "    %matplotlib inline"
   ]
  },
  {
   "cell_type": "code",
   "execution_count": 2,
   "metadata": {},
   "outputs": [],
   "source": [
    "import numpy as np\n",
    "import pandas as pd\n",
    "from quetzal.model import stepmodel\n",
    "from quetzal.io import excel"
   ]
  },
  {
   "cell_type": "markdown",
   "metadata": {},
   "source": [
    "# Inner-zonal assignment\n",
    "## Saves transport demand within zones\n",
    "## Needs inner-zonal volumes and trip lengths by mode"
   ]
  },
  {
   "cell_type": "code",
   "execution_count": 3,
   "metadata": {},
   "outputs": [],
   "source": [
    "input_path = '../input/transport_demand/'\n",
    "output_path = '../output/'\n",
    "model_path = '../model/' + scenario + '/'"
   ]
  },
  {
   "cell_type": "code",
   "execution_count": 4,
   "metadata": {},
   "outputs": [],
   "source": [
    "# Load scenario parameters\n",
    "params = excel.read_var(file='../input/parameters.xls', scenario=scenario)"
   ]
  },
  {
   "cell_type": "markdown",
   "metadata": {},
   "source": [
    "## Load transport demand data from VP2030\n",
    "\n",
    "The German federal government's transport study \"[Bundesverkehrswegeplan 2030](https://www.bmvi.de/SharedDocs/DE/Artikel/G/BVWP/bundesverkehrswegeplan-2030-inhalte-herunterladen.html)\" uses origin destination matrices on NUTS3-level resolution and makes them accessible under copyright restrictions for the base year and the year of prognosis. These matrices cannot be published in their original form."
   ]
  },
  {
   "cell_type": "code",
   "execution_count": 6,
   "metadata": {
    "scrolled": true
   },
   "outputs": [],
   "source": [
    "vp2010 = pd.read_csv(input_path + 'PVMatrix_BVWP15_A2010.csv', sep=';', encoding='latin-1')\n",
    "vp2030 = pd.read_csv(input_path + 'PVMatrix_BVWP15_P2030.csv', sep=';', encoding='latin-1')"
   ]
  },
  {
   "cell_type": "code",
   "execution_count": 7,
   "metadata": {},
   "outputs": [
    {
     "name": "stdout",
     "output_type": "stream",
     "text": [
      "(313590, 38)\n"
     ]
    },
    {
     "data": {
      "text/html": [
       "<div>\n",
       "<style scoped>\n",
       "    .dataframe tbody tr th:only-of-type {\n",
       "        vertical-align: middle;\n",
       "    }\n",
       "\n",
       "    .dataframe tbody tr th {\n",
       "        vertical-align: top;\n",
       "    }\n",
       "\n",
       "    .dataframe thead th {\n",
       "        text-align: right;\n",
       "    }\n",
       "</style>\n",
       "<table border=\"1\" class=\"dataframe\">\n",
       "  <thead>\n",
       "    <tr style=\"text-align: right;\">\n",
       "      <th></th>\n",
       "      <th># Quelle</th>\n",
       "      <th>Ziel</th>\n",
       "      <th>Bahn_Fz1</th>\n",
       "      <th>Bahn_Fz2</th>\n",
       "      <th>Bahn_Fz3</th>\n",
       "      <th>Bahn_Fz4</th>\n",
       "      <th>Bahn_Fz5</th>\n",
       "      <th>Bahn_Fz6</th>\n",
       "      <th>MIV_Fz1</th>\n",
       "      <th>MIV_Fz2</th>\n",
       "      <th>...</th>\n",
       "      <th>Rad_Fz3</th>\n",
       "      <th>Rad_Fz4</th>\n",
       "      <th>Rad_Fz5</th>\n",
       "      <th>Rad_Fz6</th>\n",
       "      <th>Fuß_Fz1</th>\n",
       "      <th>Fuß_Fz2</th>\n",
       "      <th>Fuß_Fz3</th>\n",
       "      <th>Fuß_Fz4</th>\n",
       "      <th>Fuß_Fz5</th>\n",
       "      <th>Fuß_Fz6</th>\n",
       "    </tr>\n",
       "  </thead>\n",
       "  <tbody>\n",
       "  </tbody>\n",
       "</table>\n",
       "<p>0 rows × 38 columns</p>\n",
       "</div>"
      ],
      "text/plain": [
       "Empty DataFrame\n",
       "Columns: [# Quelle, Ziel, Bahn_Fz1, Bahn_Fz2, Bahn_Fz3, Bahn_Fz4, Bahn_Fz5, Bahn_Fz6, MIV_Fz1, MIV_Fz2, MIV_Fz3, MIV_Fz4, MIV_Fz5, MIV_Fz6, Luft_Fz1, Luft_Fz2, Luft_Fz3, Luft_Fz4, Luft_Fz5, Luft_Fz6, OESPV_Fz1, OESPV_Fz2, OESPV_Fz3, OESPV_Fz4, OESPV_Fz5, OESPV_Fz6, Rad_Fz1, Rad_Fz2, Rad_Fz3, Rad_Fz4, Rad_Fz5, Rad_Fz6, Fuß_Fz1, Fuß_Fz2, Fuß_Fz3, Fuß_Fz4, Fuß_Fz5, Fuß_Fz6]\n",
       "Index: []\n",
       "\n",
       "[0 rows x 38 columns]"
      ]
     },
     "execution_count": 7,
     "metadata": {},
     "output_type": "execute_result"
    }
   ],
   "source": [
    "print(vp2010.shape)\n",
    "vp2010[vp2010.isna().any(axis=1)]"
   ]
  },
  {
   "cell_type": "code",
   "execution_count": 8,
   "metadata": {},
   "outputs": [],
   "source": [
    "for df in [vp2010, vp2030]:\n",
    "    df.rename(columns={'# Quelle': 'origin', 'Ziel': 'destination'}, inplace=True)"
   ]
  },
  {
   "cell_type": "markdown",
   "metadata": {},
   "source": [
    "### Cast to 2017 data"
   ]
  },
  {
   "cell_type": "code",
   "execution_count": 9,
   "metadata": {},
   "outputs": [],
   "source": [
    "def get_vp2017(vp2010_i, vp2030_i):\n",
    "    return vp2010_i + (vp2030_i - vp2010_i) * (7/20)"
   ]
  },
  {
   "cell_type": "code",
   "execution_count": 10,
   "metadata": {},
   "outputs": [],
   "source": [
    "# Calculate a OD table for the year 2017\n",
    "vp2017 = get_vp2017(vp2010.set_index(['origin', 'destination']),\n",
    "                    vp2030.set_index(['origin', 'destination']))"
   ]
  },
  {
   "cell_type": "code",
   "execution_count": 11,
   "metadata": {},
   "outputs": [],
   "source": [
    "vp2017.dropna(how='all', inplace=True)\n",
    "vp2017 = vp2017[list(vp2017.columns)].astype(int)\n",
    "#vp2017.head()"
   ]
  },
  {
   "cell_type": "code",
   "execution_count": 15,
   "metadata": {},
   "outputs": [
    {
     "data": {
      "text/plain": [
       "412"
      ]
     },
     "execution_count": 15,
     "metadata": {},
     "output_type": "execute_result"
    }
   ],
   "source": [
    "# Keep only inner-cell transport demand\n",
    "vp2017.reset_index(inplace=True)\n",
    "vp2017 = vp2017.loc[vp2017['origin']==vp2017['destination']]\n",
    "#vp2017.drop('destination', axis=1, inplace=True)\n",
    "len(vp2017)"
   ]
  },
  {
   "cell_type": "markdown",
   "metadata": {},
   "source": [
    "### Update zone codes and map to NUTS"
   ]
  },
  {
   "cell_type": "code",
   "execution_count": 16,
   "metadata": {},
   "outputs": [],
   "source": [
    "# NUTS3-level zones changed after the VP2030\n",
    "# Thus the VP table needs to be updated manually\n",
    "update_dict = {3156: 3159, 3152: 3159, # Göttingen\n",
    "               13001: 13075, 13002: 13071, 13005: 13073, 13006: 13074,\n",
    "               13051: 13072, 13052: 13071, 13053: 13072, 13054: 13076, 13055: 13071, 13056: 13071,\n",
    "               13057: 13073, 13058: 13074, 13059: 13075, 13060: 13076, 13061: 13073, 13062: 13075,\n",
    "               16056: 16063}"
   ]
  },
  {
   "cell_type": "code",
   "execution_count": 17,
   "metadata": {},
   "outputs": [
    {
     "data": {
      "text/plain": [
       "85242846874"
      ]
     },
     "execution_count": 17,
     "metadata": {},
     "output_type": "execute_result"
    }
   ],
   "source": [
    "# What is the sum of all trips? For Validation\n",
    "cols = [c for c in vp2017.columns if c not in ['origin', 'destination']]\n",
    "orig_sum = vp2017[cols].sum().sum()\n",
    "orig_sum"
   ]
  },
  {
   "cell_type": "code",
   "execution_count": 18,
   "metadata": {},
   "outputs": [],
   "source": [
    "# Update LAU codes\n",
    "vp2017['origin'] = vp2017['origin'].replace(update_dict)\n",
    "vp2017['destination'] = vp2017['destination'].replace(update_dict)"
   ]
  },
  {
   "cell_type": "code",
   "execution_count": 19,
   "metadata": {},
   "outputs": [
    {
     "data": {
      "text/plain": [
       "(412, 38)"
      ]
     },
     "execution_count": 19,
     "metadata": {},
     "output_type": "execute_result"
    }
   ],
   "source": [
    "# Replace LAU with NUTS\n",
    "sm = stepmodel.read_json(model_path + 'de_zones')\n",
    "if not 'lau_id' in sm.zones.columns:\n",
    "    sm.zones['lau_id'] = sm.zones['ARS'].apply(lambda l: l[0]).apply(str).str[:-4]\n",
    "lau_dict = sm.zones.set_index('lau_id')['NUTS_ID'].to_dict()\n",
    "vp2017['origin'] = vp2017['origin'].astype(str).map(lau_dict)\n",
    "vp2017['destination'] = vp2017['destination'].astype(str).map(lau_dict)\n",
    "# Restrict to cells in the model\n",
    "vp2017 = vp2017[~vp2017.isna().any(axis=1)]\n",
    "vp2017.shape"
   ]
  },
  {
   "cell_type": "code",
   "execution_count": 20,
   "metadata": {},
   "outputs": [
    {
     "data": {
      "text/plain": [
       "1.0"
      ]
     },
     "execution_count": 20,
     "metadata": {},
     "output_type": "execute_result"
    }
   ],
   "source": [
    "# What is the sum after zone translation?\n",
    "vp2017[cols].sum().sum() / orig_sum"
   ]
  },
  {
   "cell_type": "code",
   "execution_count": 21,
   "metadata": {},
   "outputs": [
    {
     "data": {
      "text/plain": [
       "1.0"
      ]
     },
     "execution_count": 21,
     "metadata": {},
     "output_type": "execute_result"
    }
   ],
   "source": [
    "# Aggregate origins\n",
    "vp2017 = vp2017.groupby(['origin', 'destination']).sum().reset_index()\n",
    "vp2017[cols].sum().sum() / orig_sum"
   ]
  },
  {
   "cell_type": "markdown",
   "metadata": {},
   "source": [
    "### Re-arrange the modes and purposes"
   ]
  },
  {
   "cell_type": "code",
   "execution_count": 22,
   "metadata": {},
   "outputs": [],
   "source": [
    "# Merge bicycle and foot\n",
    "for p in range(1,7):\n",
    "    vp2017['walk_Fz' + str(p)] = vp2017['Rad_Fz' + str(p)] + vp2017['Fuß_Fz' + str(p)]\n",
    "vp2017 = vp2017[[col for col in list(vp2017.columns) if not col[:3] in ['Rad', 'Fuß']]]"
   ]
  },
  {
   "cell_type": "code",
   "execution_count": 27,
   "metadata": {},
   "outputs": [],
   "source": [
    "# Make columns two levels\n",
    "vp2017.set_index(['origin', 'destination'], inplace=True)\n",
    "mode_dict = {'OESPV': 'bus', 'Bahn': 'rail', 'MIV': 'car', 'Luft': 'air', 'walk': 'walk'}\n",
    "vp2017.columns = pd.MultiIndex.from_tuples(\n",
    "    [(col.split('_')[1], mode_dict[col.split('_')[0]]) for col in vp2017.columns],\n",
    "    names=['segment', 'mode'])"
   ]
  },
  {
   "cell_type": "code",
   "execution_count": 28,
   "metadata": {},
   "outputs": [],
   "source": [
    "# Merge purpose 5 and 6 due to calibration data limitations\n",
    "vp2017['Fz6'] = vp2017['Fz5'] + vp2017['Fz6']\n",
    "vp2017.drop('Fz5', axis=1, inplace=True)"
   ]
  },
  {
   "cell_type": "code",
   "execution_count": 30,
   "metadata": {},
   "outputs": [],
   "source": [
    "# Ditch air columns\n",
    "vp2017.drop('air', axis=1, level=1, inplace=True)"
   ]
  },
  {
   "cell_type": "code",
   "execution_count": 29,
   "metadata": {},
   "outputs": [
    {
     "data": {
      "text/plain": [
       "array([<AxesSubplot:ylabel='Fz1'>, <AxesSubplot:ylabel='Fz2'>,\n",
       "       <AxesSubplot:ylabel='Fz3'>, <AxesSubplot:ylabel='Fz4'>,\n",
       "       <AxesSubplot:ylabel='Fz6'>], dtype=object)"
      ]
     },
     "execution_count": 29,
     "metadata": {},
     "output_type": "execute_result"
    },
    {
     "data": {
      "image/png": "[encoded data removed]",
      "text/plain": [
       "<Figure size 1152x288 with 5 Axes>"
      ]
     },
     "metadata": {},
     "output_type": "display_data"
    }
   ],
   "source": [
    "# Modal split by trips\n",
    "vp2017.T.sum(axis=1).unstack('segment').plot.pie(\n",
    "    subplots=True, figsize=(16, 4), legend=False)"
   ]
  },
  {
   "cell_type": "code",
   "execution_count": 31,
   "metadata": {},
   "outputs": [],
   "source": [
    "# Clear the RAM\n",
    "vp2010 = None\n",
    "vp2030 = None"
   ]
  },
  {
   "cell_type": "code",
   "execution_count": 32,
   "metadata": {},
   "outputs": [],
   "source": [
    "volumes = vp2017"
   ]
  },
  {
   "cell_type": "markdown",
   "metadata": {},
   "source": [
    "### Split into model zones\n",
    "\n",
    "Use population shares of the NUTS3 sub-zone"
   ]
  },
  {
   "cell_type": "code",
   "execution_count": 38,
   "metadata": {},
   "outputs": [],
   "source": [
    "vol = sm.zones[['FID', 'pop_share']].merge(sm.zones[['FID', 'pop_share']], how='cross'\n",
    "                                          ).rename(columns={'FID_x':'origin', 'FID_y':'destination'})\n",
    "island_dict = sm.zones.loc[['outer_1', 'outer_2'], 'NUTS_ID'].to_dict()\n",
    "vol['o'] = vol['origin'].replace(island_dict).str[:5]\n",
    "vol['d'] = vol['destination'].replace(island_dict).str[:5]\n",
    "vol = vol.loc[vol['o']==vol['d']]\n",
    "segments = [c for c in volumes.columns if c not in ['origin', 'destination']]\n",
    "for seg in segments:\n",
    "    segment = volumes[seg].to_dict()\n",
    "    vol[seg] = vol['pop_share_x'] * vol['pop_share_y'] * [\n",
    "        segment[tuple(od)] \n",
    "        if tuple(od) in segment.keys() else np.nan\n",
    "        for od in vol[['o', 'd']].values]"
   ]
  },
  {
   "cell_type": "code",
   "execution_count": 59,
   "metadata": {},
   "outputs": [],
   "source": [
    "# Somehow, DEG0N was overwritten\n",
    "vol = vol.loc[~vol[segments].isna().any(axis=1)]"
   ]
  },
  {
   "cell_type": "code",
   "execution_count": 60,
   "metadata": {},
   "outputs": [
    {
     "data": {
      "text/plain": [
       "(2224, 20)"
      ]
     },
     "execution_count": 60,
     "metadata": {},
     "output_type": "execute_result"
    }
   ],
   "source": [
    "# Filter new inner-zonal trips\n",
    "volumes = vol.loc[vol['origin']==vol['destination'], segments+['origin']].set_index('origin')\n",
    "volumes.shape"
   ]
  },
  {
   "cell_type": "code",
   "execution_count": 68,
   "metadata": {},
   "outputs": [],
   "source": [
    "volumes.columns = pd.MultiIndex.from_tuples(list(volumes.columns),\n",
    "                                            names=['segment', 'mode'])"
   ]
  },
  {
   "cell_type": "markdown",
   "metadata": {},
   "source": [
    "## Load MiD2017 data for trip lengths\n",
    "\n",
    "Generate average trip lengths using survey data."
   ]
  },
  {
   "cell_type": "code",
   "execution_count": 92,
   "metadata": {},
   "outputs": [],
   "source": [
    "trips = pd.read_csv(input_path + 'MiD2017_Regional_Wege.csv', sep=';')\n",
    "trips = trips[['KKZ_SO', 'KKZ_ZO', 'VBGEM_SO', 'VBGEM_ZO', 'SKTYP', 'wegkm_imp', 'km_routing_gr',\n",
    "               'wegmin_imp1', 'hwzweck1', 'hvm_diff2', 'vm_kombi', 'anzpers',\n",
    "               'auto', 'P_FKARTE', 'multimodal', 'bahn28', 'bus28', 'bahn28_zo',\n",
    "               'bus28_zo', 'W_DETAIL', 'W_SO2']]\n",
    "trips.columns = ['o', 'd', 'origin', 'destination', 'SKTYP', 'distance', 'distance_routed',\n",
    "                 'duration', 'purpose', 'mode', 'mode_combo', 'n_persons',\n",
    "                 'car_avail', 'ticket_type', 'mode_affinity', 'dist_train_origin',\n",
    "                 'dist_bus_origin', 'dist_train_destination', 'dist_bus_destination',\n",
    "                 'W_DETAIL', 'W_SO2']"
   ]
  },
  {
   "cell_type": "code",
   "execution_count": 93,
   "metadata": {},
   "outputs": [],
   "source": [
    "trips['distance'] = pd.to_numeric(trips['distance'].str.replace(',', '.'))"
   ]
  },
  {
   "cell_type": "code",
   "execution_count": 94,
   "metadata": {},
   "outputs": [
    {
     "data": {
      "text/plain": [
       "959778"
      ]
     },
     "execution_count": 94,
     "metadata": {},
     "output_type": "execute_result"
    }
   ],
   "source": [
    "# Filter for inner-German trips\n",
    "trips = trips.loc[(trips['W_SO2']!=2) & (trips['W_SO2']!=3)]\n",
    "len(trips)"
   ]
  },
  {
   "cell_type": "code",
   "execution_count": 95,
   "metadata": {},
   "outputs": [
    {
     "data": {
      "text/plain": [
       "374353"
      ]
     },
     "execution_count": 95,
     "metadata": {},
     "output_type": "execute_result"
    }
   ],
   "source": [
    "# Filter unspecified rows\n",
    "trips = trips.loc[(trips['purpose']!=99) &\n",
    "                  (trips['o']<9999) &\n",
    "                  (trips['d']<9999) &\n",
    "                  (trips['mode']<24) &\n",
    "                  (trips['distance_routed']!=708) &\n",
    "                  ~(trips['origin'].isin([7000000701, 999999995])) &\n",
    "                  ~(trips['destination'].isin([7000000701, 999999995]))]\n",
    "len(trips)"
   ]
  },
  {
   "cell_type": "code",
   "execution_count": 96,
   "metadata": {},
   "outputs": [
    {
     "data": {
      "text/plain": [
       "225910"
      ]
     },
     "execution_count": 96,
     "metadata": {},
     "output_type": "execute_result"
    }
   ],
   "source": [
    "# Filter for inner-zonal traffic (NUTS3 level)\n",
    "trips = trips.loc[trips['origin']==trips['destination']]\n",
    "len(trips)"
   ]
  },
  {
   "cell_type": "code",
   "execution_count": 104,
   "metadata": {},
   "outputs": [
    {
     "data": {
      "text/plain": [
       "2387"
      ]
     },
     "execution_count": 104,
     "metadata": {},
     "output_type": "execute_result"
    }
   ],
   "source": [
    "# Number of Gemeindeverbände in survey\n",
    "len(trips[['origin', 'destination']].stack().unique())"
   ]
  },
  {
   "cell_type": "code",
   "execution_count": 106,
   "metadata": {},
   "outputs": [
    {
     "data": {
      "text/plain": [
       "225859"
      ]
     },
     "execution_count": 106,
     "metadata": {},
     "output_type": "execute_result"
    }
   ],
   "source": [
    "# Remove ferries and air\n",
    "trips = trips.loc[trips['mode']!=19]\n",
    "trips = trips.loc[trips['mode']!=23]\n",
    "len(trips)"
   ]
  },
  {
   "cell_type": "code",
   "execution_count": 107,
   "metadata": {},
   "outputs": [],
   "source": [
    "# Align regional specifics with urbanisation degree\n",
    "mid_urbanisation_dict = {1:1, 2:2, 3:3, 4:3}\n",
    "trips['urbanisation'] = trips['SKTYP'].map(mid_urbanisation_dict)"
   ]
  },
  {
   "cell_type": "code",
   "execution_count": 109,
   "metadata": {},
   "outputs": [
    {
     "data": {
      "text/plain": [
       "urbanisation\n",
       "1    86359\n",
       "2    84439\n",
       "3    55061\n",
       "Name: origin, dtype: int64"
      ]
     },
     "execution_count": 109,
     "metadata": {},
     "output_type": "execute_result"
    }
   ],
   "source": [
    "trips.groupby('urbanisation')['origin'].count()"
   ]
  },
  {
   "cell_type": "code",
   "execution_count": 110,
   "metadata": {},
   "outputs": [],
   "source": [
    "# Make unknown number of persons equal to one\n",
    "trips.loc[trips['n_persons']>6] = 1"
   ]
  },
  {
   "cell_type": "code",
   "execution_count": 111,
   "metadata": {},
   "outputs": [],
   "source": [
    "# Match trip purpose with VP2030 categories\n",
    "# Note: Holiday trips are included in private (6)\n",
    "purpose_mid_vp_dict = {1: 'Fz1', 2: 'Fz4', 3: 'Fz2', 4: 'Fz3',\n",
    "                       5: 'Fz3', 6: 'Fz6', 7: 'Fz6', 99: 'Fz6'}\n",
    "trips['purpose_vp'] = trips['purpose'].map(purpose_mid_vp_dict)"
   ]
  },
  {
   "cell_type": "code",
   "execution_count": 112,
   "metadata": {},
   "outputs": [],
   "source": [
    "# Match mode with the model modes\n",
    "# Non-motorised modes, buses, and rail are merged\n",
    "mode_mid_vp_dict = {1:'walk', 2:'walk', 3:'walk', 4:'car',\n",
    "                    5:'car', 6:'car', 7:'car', 8:'car', 9:'car',\n",
    "                    10:'car', 11:'car', 12:'bus', 13:'bus',\n",
    "                    14:'bus', 15:'bus', 16:'rail', 17:'car',\n",
    "                    18:'car', 19:'walk', 20:'rail', 21:'bus',\n",
    "                    22:'bus', 23:'air', 24:'walk'}\n",
    "trips['mode_model'] = trips['mode'].map(mode_mid_vp_dict)"
   ]
  },
  {
   "cell_type": "code",
   "execution_count": 113,
   "metadata": {},
   "outputs": [
    {
     "data": {
      "image/png": "[encoded data removed]",
      "text/plain": [
       "<Figure size 1152x288 with 5 Axes>"
      ]
     },
     "metadata": {},
     "output_type": "display_data"
    }
   ],
   "source": [
    "# Modal split by number of trips\n",
    "axs = trips.groupby(['mode_model','purpose_vp']).size().unstack(fill_value=0).plot.pie(\n",
    "    subplots=True, figsize=(16, 4), legend=False)"
   ]
  },
  {
   "cell_type": "code",
   "execution_count": 114,
   "metadata": {},
   "outputs": [
    {
     "data": {
      "text/plain": [
       "array([<AxesSubplot:ylabel='Fz1'>, <AxesSubplot:ylabel='Fz2'>,\n",
       "       <AxesSubplot:ylabel='Fz3'>, <AxesSubplot:ylabel='Fz4'>,\n",
       "       <AxesSubplot:ylabel='Fz6'>], dtype=object)"
      ]
     },
     "execution_count": 114,
     "metadata": {},
     "output_type": "execute_result"
    },
    {
     "data": {
      "image/png": "[encoded data removed]",
      "text/plain": [
       "<Figure size 1152x288 with 5 Axes>"
      ]
     },
     "metadata": {},
     "output_type": "display_data"
    }
   ],
   "source": [
    "# Compared to VP2030\n",
    "volumes.T.sum(axis=1).unstack('segment').plot.pie(\n",
    "    subplots=True, figsize=(16, 4), legend=False)"
   ]
  },
  {
   "cell_type": "markdown",
   "metadata": {},
   "source": [
    "### Generate averages"
   ]
  },
  {
   "cell_type": "code",
   "execution_count": 115,
   "metadata": {},
   "outputs": [
    {
     "data": {
      "text/html": [
       "<div>\n",
       "<style scoped>\n",
       "    .dataframe tbody tr th:only-of-type {\n",
       "        vertical-align: middle;\n",
       "    }\n",
       "\n",
       "    .dataframe tbody tr th {\n",
       "        vertical-align: top;\n",
       "    }\n",
       "\n",
       "    .dataframe thead th {\n",
       "        text-align: right;\n",
       "    }\n",
       "</style>\n",
       "<table border=\"1\" class=\"dataframe\">\n",
       "  <thead>\n",
       "    <tr style=\"text-align: right;\">\n",
       "      <th></th>\n",
       "      <th>purpose_vp</th>\n",
       "      <th>Fz1</th>\n",
       "      <th>Fz2</th>\n",
       "      <th>Fz3</th>\n",
       "      <th>Fz4</th>\n",
       "      <th>Fz6</th>\n",
       "    </tr>\n",
       "    <tr>\n",
       "      <th>urbanisation</th>\n",
       "      <th>mode_model</th>\n",
       "      <th></th>\n",
       "      <th></th>\n",
       "      <th></th>\n",
       "      <th></th>\n",
       "      <th></th>\n",
       "    </tr>\n",
       "  </thead>\n",
       "  <tbody>\n",
       "    <tr>\n",
       "      <th rowspan=\"4\" valign=\"top\">1</th>\n",
       "      <th>bus</th>\n",
       "      <td>4001</td>\n",
       "      <td>2050</td>\n",
       "      <td>5431</td>\n",
       "      <td>472</td>\n",
       "      <td>6019</td>\n",
       "    </tr>\n",
       "    <tr>\n",
       "      <th>car</th>\n",
       "      <td>7832</td>\n",
       "      <td>1653</td>\n",
       "      <td>22724</td>\n",
       "      <td>2074</td>\n",
       "      <td>21368</td>\n",
       "    </tr>\n",
       "    <tr>\n",
       "      <th>rail</th>\n",
       "      <td>1334</td>\n",
       "      <td>301</td>\n",
       "      <td>635</td>\n",
       "      <td>147</td>\n",
       "      <td>1134</td>\n",
       "    </tr>\n",
       "    <tr>\n",
       "      <th>walk</th>\n",
       "      <td>1730</td>\n",
       "      <td>853</td>\n",
       "      <td>3845</td>\n",
       "      <td>185</td>\n",
       "      <td>3175</td>\n",
       "    </tr>\n",
       "    <tr>\n",
       "      <th rowspan=\"4\" valign=\"top\">2</th>\n",
       "      <th>bus</th>\n",
       "      <td>580</td>\n",
       "      <td>1581</td>\n",
       "      <td>1063</td>\n",
       "      <td>101</td>\n",
       "      <td>1121</td>\n",
       "    </tr>\n",
       "    <tr>\n",
       "      <th>car</th>\n",
       "      <td>7337</td>\n",
       "      <td>2087</td>\n",
       "      <td>33176</td>\n",
       "      <td>2078</td>\n",
       "      <td>25396</td>\n",
       "    </tr>\n",
       "    <tr>\n",
       "      <th>rail</th>\n",
       "      <td>276</td>\n",
       "      <td>168</td>\n",
       "      <td>87</td>\n",
       "      <td>35</td>\n",
       "      <td>233</td>\n",
       "    </tr>\n",
       "    <tr>\n",
       "      <th>walk</th>\n",
       "      <td>532</td>\n",
       "      <td>1237</td>\n",
       "      <td>4037</td>\n",
       "      <td>98</td>\n",
       "      <td>2846</td>\n",
       "    </tr>\n",
       "    <tr>\n",
       "      <th rowspan=\"4\" valign=\"top\">3</th>\n",
       "      <th>bus</th>\n",
       "      <td>134</td>\n",
       "      <td>1111</td>\n",
       "      <td>384</td>\n",
       "      <td>49</td>\n",
       "      <td>398</td>\n",
       "    </tr>\n",
       "    <tr>\n",
       "      <th>car</th>\n",
       "      <td>5833</td>\n",
       "      <td>1591</td>\n",
       "      <td>22350</td>\n",
       "      <td>1415</td>\n",
       "      <td>16680</td>\n",
       "    </tr>\n",
       "    <tr>\n",
       "      <th>rail</th>\n",
       "      <td>73</td>\n",
       "      <td>53</td>\n",
       "      <td>37</td>\n",
       "      <td>25</td>\n",
       "      <td>82</td>\n",
       "    </tr>\n",
       "    <tr>\n",
       "      <th>walk</th>\n",
       "      <td>313</td>\n",
       "      <td>619</td>\n",
       "      <td>2033</td>\n",
       "      <td>69</td>\n",
       "      <td>1578</td>\n",
       "    </tr>\n",
       "  </tbody>\n",
       "</table>\n",
       "</div>"
      ],
      "text/plain": [
       "purpose_vp                Fz1   Fz2    Fz3   Fz4    Fz6\n",
       "urbanisation mode_model                                \n",
       "1            bus         4001  2050   5431   472   6019\n",
       "             car         7832  1653  22724  2074  21368\n",
       "             rail        1334   301    635   147   1134\n",
       "             walk        1730   853   3845   185   3175\n",
       "2            bus          580  1581   1063   101   1121\n",
       "             car         7337  2087  33176  2078  25396\n",
       "             rail         276   168     87    35    233\n",
       "             walk         532  1237   4037    98   2846\n",
       "3            bus          134  1111    384    49    398\n",
       "             car         5833  1591  22350  1415  16680\n",
       "             rail          73    53     37    25     82\n",
       "             walk         313   619   2033    69   1578"
      ]
     },
     "execution_count": 115,
     "metadata": {},
     "output_type": "execute_result"
    }
   ],
   "source": [
    "# Count the number of observations to grasp statistical validity\n",
    "trips.groupby(['urbanisation', 'mode_model', 'purpose_vp'])['origin'].count().unstack('purpose_vp')"
   ]
  },
  {
   "cell_type": "code",
   "execution_count": 116,
   "metadata": {},
   "outputs": [
    {
     "data": {
      "text/html": [
       "<div>\n",
       "<style scoped>\n",
       "    .dataframe tbody tr th:only-of-type {\n",
       "        vertical-align: middle;\n",
       "    }\n",
       "\n",
       "    .dataframe tbody tr th {\n",
       "        vertical-align: top;\n",
       "    }\n",
       "\n",
       "    .dataframe thead th {\n",
       "        text-align: right;\n",
       "    }\n",
       "</style>\n",
       "<table border=\"1\" class=\"dataframe\">\n",
       "  <thead>\n",
       "    <tr style=\"text-align: right;\">\n",
       "      <th></th>\n",
       "      <th>purpose_vp</th>\n",
       "      <th>Fz1</th>\n",
       "      <th>Fz2</th>\n",
       "      <th>Fz3</th>\n",
       "      <th>Fz4</th>\n",
       "      <th>Fz6</th>\n",
       "    </tr>\n",
       "    <tr>\n",
       "      <th>urbanisation</th>\n",
       "      <th>mode_model</th>\n",
       "      <th></th>\n",
       "      <th></th>\n",
       "      <th></th>\n",
       "      <th></th>\n",
       "      <th></th>\n",
       "    </tr>\n",
       "  </thead>\n",
       "  <tbody>\n",
       "    <tr>\n",
       "      <th rowspan=\"4\" valign=\"top\">1</th>\n",
       "      <th>bus</th>\n",
       "      <td>7.516821</td>\n",
       "      <td>5.857600</td>\n",
       "      <td>5.102178</td>\n",
       "      <td>6.758665</td>\n",
       "      <td>5.962693</td>\n",
       "    </tr>\n",
       "    <tr>\n",
       "      <th>car</th>\n",
       "      <td>10.169157</td>\n",
       "      <td>5.765124</td>\n",
       "      <td>5.088603</td>\n",
       "      <td>8.496427</td>\n",
       "      <td>6.616233</td>\n",
       "    </tr>\n",
       "    <tr>\n",
       "      <th>rail</th>\n",
       "      <td>16.827886</td>\n",
       "      <td>14.258904</td>\n",
       "      <td>11.165213</td>\n",
       "      <td>37.152041</td>\n",
       "      <td>19.444242</td>\n",
       "    </tr>\n",
       "    <tr>\n",
       "      <th>walk</th>\n",
       "      <td>1.902925</td>\n",
       "      <td>1.828746</td>\n",
       "      <td>1.376791</td>\n",
       "      <td>2.795892</td>\n",
       "      <td>2.156334</td>\n",
       "    </tr>\n",
       "    <tr>\n",
       "      <th rowspan=\"4\" valign=\"top\">2</th>\n",
       "      <th>bus</th>\n",
       "      <td>8.333517</td>\n",
       "      <td>5.976875</td>\n",
       "      <td>5.007093</td>\n",
       "      <td>5.760198</td>\n",
       "      <td>5.837270</td>\n",
       "    </tr>\n",
       "    <tr>\n",
       "      <th>car</th>\n",
       "      <td>9.348379</td>\n",
       "      <td>3.978845</td>\n",
       "      <td>4.086749</td>\n",
       "      <td>8.328965</td>\n",
       "      <td>5.565192</td>\n",
       "    </tr>\n",
       "    <tr>\n",
       "      <th>rail</th>\n",
       "      <td>28.324891</td>\n",
       "      <td>14.342976</td>\n",
       "      <td>13.336782</td>\n",
       "      <td>32.516857</td>\n",
       "      <td>38.703820</td>\n",
       "    </tr>\n",
       "    <tr>\n",
       "      <th>walk</th>\n",
       "      <td>2.511147</td>\n",
       "      <td>1.493411</td>\n",
       "      <td>1.317151</td>\n",
       "      <td>1.706531</td>\n",
       "      <td>1.963633</td>\n",
       "    </tr>\n",
       "    <tr>\n",
       "      <th rowspan=\"4\" valign=\"top\">3</th>\n",
       "      <th>bus</th>\n",
       "      <td>10.681194</td>\n",
       "      <td>6.028443</td>\n",
       "      <td>5.510859</td>\n",
       "      <td>10.562245</td>\n",
       "      <td>6.637714</td>\n",
       "    </tr>\n",
       "    <tr>\n",
       "      <th>car</th>\n",
       "      <td>8.463729</td>\n",
       "      <td>4.397128</td>\n",
       "      <td>3.829391</td>\n",
       "      <td>9.507435</td>\n",
       "      <td>5.394392</td>\n",
       "    </tr>\n",
       "    <tr>\n",
       "      <th>rail</th>\n",
       "      <td>54.291918</td>\n",
       "      <td>24.302453</td>\n",
       "      <td>38.332162</td>\n",
       "      <td>40.219200</td>\n",
       "      <td>58.385488</td>\n",
       "    </tr>\n",
       "    <tr>\n",
       "      <th>walk</th>\n",
       "      <td>2.191470</td>\n",
       "      <td>1.454653</td>\n",
       "      <td>1.263851</td>\n",
       "      <td>1.954203</td>\n",
       "      <td>1.873162</td>\n",
       "    </tr>\n",
       "  </tbody>\n",
       "</table>\n",
       "</div>"
      ],
      "text/plain": [
       "purpose_vp                     Fz1        Fz2        Fz3        Fz4        Fz6\n",
       "urbanisation mode_model                                                       \n",
       "1            bus          7.516821   5.857600   5.102178   6.758665   5.962693\n",
       "             car         10.169157   5.765124   5.088603   8.496427   6.616233\n",
       "             rail        16.827886  14.258904  11.165213  37.152041  19.444242\n",
       "             walk         1.902925   1.828746   1.376791   2.795892   2.156334\n",
       "2            bus          8.333517   5.976875   5.007093   5.760198   5.837270\n",
       "             car          9.348379   3.978845   4.086749   8.328965   5.565192\n",
       "             rail        28.324891  14.342976  13.336782  32.516857  38.703820\n",
       "             walk         2.511147   1.493411   1.317151   1.706531   1.963633\n",
       "3            bus         10.681194   6.028443   5.510859  10.562245   6.637714\n",
       "             car          8.463729   4.397128   3.829391   9.507435   5.394392\n",
       "             rail        54.291918  24.302453  38.332162  40.219200  58.385488\n",
       "             walk         2.191470   1.454653   1.263851   1.954203   1.873162"
      ]
     },
     "execution_count": 116,
     "metadata": {},
     "output_type": "execute_result"
    }
   ],
   "source": [
    "trips.groupby(['urbanisation', 'mode_model', 'purpose_vp'])['distance'].mean().unstack('purpose_vp')"
   ]
  },
  {
   "cell_type": "code",
   "execution_count": 117,
   "metadata": {},
   "outputs": [],
   "source": [
    "# Generate average lengths and times\n",
    "len_dict = trips.groupby(['urbanisation', 'mode_model', 'purpose_vp'])['distance'].mean().to_dict()\n",
    "time_dict = trips.groupby(['urbanisation', 'mode_model', 'purpose_vp'])['duration'].mean().to_dict()"
   ]
  },
  {
   "cell_type": "code",
   "execution_count": 118,
   "metadata": {},
   "outputs": [
    {
     "data": {
      "text/html": [
       "<div>\n",
       "<style scoped>\n",
       "    .dataframe tbody tr th:only-of-type {\n",
       "        vertical-align: middle;\n",
       "    }\n",
       "\n",
       "    .dataframe tbody tr th {\n",
       "        vertical-align: top;\n",
       "    }\n",
       "\n",
       "    .dataframe thead th {\n",
       "        text-align: right;\n",
       "    }\n",
       "</style>\n",
       "<table border=\"1\" class=\"dataframe\">\n",
       "  <thead>\n",
       "    <tr style=\"text-align: right;\">\n",
       "      <th>purpose_vp</th>\n",
       "      <th>Fz1</th>\n",
       "      <th>Fz2</th>\n",
       "      <th>Fz3</th>\n",
       "      <th>Fz4</th>\n",
       "      <th>Fz6</th>\n",
       "    </tr>\n",
       "    <tr>\n",
       "      <th>urbanisation</th>\n",
       "      <th></th>\n",
       "      <th></th>\n",
       "      <th></th>\n",
       "      <th></th>\n",
       "      <th></th>\n",
       "    </tr>\n",
       "  </thead>\n",
       "  <tbody>\n",
       "    <tr>\n",
       "      <th>1</th>\n",
       "      <td>1.165220</td>\n",
       "      <td>2.416818</td>\n",
       "      <td>1.568738</td>\n",
       "      <td>1.265188</td>\n",
       "      <td>2.100571</td>\n",
       "    </tr>\n",
       "    <tr>\n",
       "      <th>2</th>\n",
       "      <td>1.159602</td>\n",
       "      <td>2.407283</td>\n",
       "      <td>1.467687</td>\n",
       "      <td>1.296920</td>\n",
       "      <td>2.002363</td>\n",
       "    </tr>\n",
       "    <tr>\n",
       "      <th>3</th>\n",
       "      <td>1.181553</td>\n",
       "      <td>2.509114</td>\n",
       "      <td>1.468143</td>\n",
       "      <td>1.299647</td>\n",
       "      <td>2.000600</td>\n",
       "    </tr>\n",
       "  </tbody>\n",
       "</table>\n",
       "</div>"
      ],
      "text/plain": [
       "purpose_vp         Fz1       Fz2       Fz3       Fz4       Fz6\n",
       "urbanisation                                                  \n",
       "1             1.165220  2.416818  1.568738  1.265188  2.100571\n",
       "2             1.159602  2.407283  1.467687  1.296920  2.002363\n",
       "3             1.181553  2.509114  1.468143  1.299647  2.000600"
      ]
     },
     "execution_count": 118,
     "metadata": {},
     "output_type": "execute_result"
    }
   ],
   "source": [
    "# Generate average occupation factors for car trips\n",
    "# Necessary to calculate vehicle kilometers\n",
    "car_occ_dict = trips.loc[trips['mode_model']=='car'].groupby(\n",
    "    ['urbanisation', 'purpose_vp'])['n_persons'].mean().to_dict()\n",
    "trips.loc[trips['mode_model']=='car'].groupby(\n",
    "    ['urbanisation', 'purpose_vp'])['n_persons'].mean().unstack('purpose_vp')"
   ]
  },
  {
   "cell_type": "markdown",
   "metadata": {},
   "source": [
    "### Generate prices\n",
    "\n",
    "See cal11 for values and explanation"
   ]
  },
  {
   "cell_type": "code",
   "execution_count": 119,
   "metadata": {},
   "outputs": [],
   "source": [
    "trips['price'] = 0"
   ]
  },
  {
   "cell_type": "code",
   "execution_count": 123,
   "metadata": {},
   "outputs": [],
   "source": [
    "# Car\n",
    "vc_car = params['car_var_cost']\n",
    "fix_car = params['car_fix_cost']\n",
    "mask = trips['mode_model']=='car'\n",
    "p_dict = {'Fz1':'commuting_car', 'Fz2':'education_car', 'Fz3':'buy/execute_car',\n",
    "          'Fz4':'business_car', 'Fz6':'leisure_car'}\n",
    "trips.loc[mask, 'price'] = [d*vc_car[p_dict[p]]/n + fix_car[p_dict[p]]*t/60 \n",
    "                            for d,n,t,p in zip(trips.loc[mask,'distance'], trips.loc[mask,'n_persons'],\n",
    "                                               trips.loc[mask,'duration'], trips.loc[mask,'purpose_vp'])\n",
    "                           ]"
   ]
  },
  {
   "cell_type": "code",
   "execution_count": 124,
   "metadata": {},
   "outputs": [],
   "source": [
    "# PT (same local pricing regime for rail and bus)\n",
    "# Savings through abonements:\n",
    "ticket_dict = {1:1, 2:0.9, 3:0.5, 4:0, 5:0, 6:1, 7:1, 99:1, 200:1}\n",
    "params['bus'].to_dict()\n",
    "region_prices = params['bus'].to_dict()\n",
    "mask = trips['mode_model'].isin(['rail', 'bus'])\n",
    "trips.loc[mask, 'price'] = [region_prices[r] * ticket_dict[t]\n",
    "                            for r,t in zip(trips.loc[mask, 'urbanisation'],\n",
    "                                           trips.loc[mask, 'ticket_type'])]"
   ]
  },
  {
   "cell_type": "code",
   "execution_count": 125,
   "metadata": {},
   "outputs": [
    {
     "data": {
      "text/html": [
       "<div>\n",
       "<style scoped>\n",
       "    .dataframe tbody tr th:only-of-type {\n",
       "        vertical-align: middle;\n",
       "    }\n",
       "\n",
       "    .dataframe tbody tr th {\n",
       "        vertical-align: top;\n",
       "    }\n",
       "\n",
       "    .dataframe thead th {\n",
       "        text-align: right;\n",
       "    }\n",
       "</style>\n",
       "<table border=\"1\" class=\"dataframe\">\n",
       "  <thead>\n",
       "    <tr style=\"text-align: right;\">\n",
       "      <th></th>\n",
       "      <th>purpose_vp</th>\n",
       "      <th>Fz1</th>\n",
       "      <th>Fz2</th>\n",
       "      <th>Fz3</th>\n",
       "      <th>Fz4</th>\n",
       "      <th>Fz6</th>\n",
       "    </tr>\n",
       "    <tr>\n",
       "      <th>urbanisation</th>\n",
       "      <th>mode_model</th>\n",
       "      <th></th>\n",
       "      <th></th>\n",
       "      <th></th>\n",
       "      <th></th>\n",
       "      <th></th>\n",
       "    </tr>\n",
       "  </thead>\n",
       "  <tbody>\n",
       "    <tr>\n",
       "      <th rowspan=\"4\" valign=\"top\">1</th>\n",
       "      <th>bus</th>\n",
       "      <td>1.470507</td>\n",
       "      <td>3.022683</td>\n",
       "      <td>1.979101</td>\n",
       "      <td>2.051907</td>\n",
       "      <td>2.343163</td>\n",
       "    </tr>\n",
       "    <tr>\n",
       "      <th>car</th>\n",
       "      <td>1.063492</td>\n",
       "      <td>0.357417</td>\n",
       "      <td>0.423820</td>\n",
       "      <td>0.864060</td>\n",
       "      <td>0.445436</td>\n",
       "    </tr>\n",
       "    <tr>\n",
       "      <th>rail</th>\n",
       "      <td>1.131184</td>\n",
       "      <td>2.144518</td>\n",
       "      <td>1.934646</td>\n",
       "      <td>1.904762</td>\n",
       "      <td>2.227513</td>\n",
       "    </tr>\n",
       "    <tr>\n",
       "      <th>walk</th>\n",
       "      <td>0.000000</td>\n",
       "      <td>0.000000</td>\n",
       "      <td>0.000000</td>\n",
       "      <td>0.000000</td>\n",
       "      <td>0.000000</td>\n",
       "    </tr>\n",
       "    <tr>\n",
       "      <th rowspan=\"4\" valign=\"top\">2</th>\n",
       "      <th>bus</th>\n",
       "      <td>2.466897</td>\n",
       "      <td>5.510120</td>\n",
       "      <td>3.463782</td>\n",
       "      <td>3.201980</td>\n",
       "      <td>4.279929</td>\n",
       "    </tr>\n",
       "    <tr>\n",
       "      <th>car</th>\n",
       "      <td>0.972012</td>\n",
       "      <td>0.249354</td>\n",
       "      <td>0.354279</td>\n",
       "      <td>0.817732</td>\n",
       "      <td>0.377155</td>\n",
       "    </tr>\n",
       "    <tr>\n",
       "      <th>rail</th>\n",
       "      <td>2.254710</td>\n",
       "      <td>5.145833</td>\n",
       "      <td>3.717241</td>\n",
       "      <td>4.440000</td>\n",
       "      <td>3.938627</td>\n",
       "    </tr>\n",
       "    <tr>\n",
       "      <th>walk</th>\n",
       "      <td>0.000000</td>\n",
       "      <td>0.000000</td>\n",
       "      <td>0.000000</td>\n",
       "      <td>0.000000</td>\n",
       "      <td>0.000000</td>\n",
       "    </tr>\n",
       "    <tr>\n",
       "      <th rowspan=\"4\" valign=\"top\">3</th>\n",
       "      <th>bus</th>\n",
       "      <td>3.745522</td>\n",
       "      <td>6.215572</td>\n",
       "      <td>4.551823</td>\n",
       "      <td>5.428571</td>\n",
       "      <td>4.627387</td>\n",
       "    </tr>\n",
       "    <tr>\n",
       "      <th>car</th>\n",
       "      <td>0.872977</td>\n",
       "      <td>0.258156</td>\n",
       "      <td>0.342397</td>\n",
       "      <td>0.837373</td>\n",
       "      <td>0.356010</td>\n",
       "    </tr>\n",
       "    <tr>\n",
       "      <th>rail</th>\n",
       "      <td>3.269863</td>\n",
       "      <td>4.001887</td>\n",
       "      <td>4.672973</td>\n",
       "      <td>4.480000</td>\n",
       "      <td>5.275610</td>\n",
       "    </tr>\n",
       "    <tr>\n",
       "      <th>walk</th>\n",
       "      <td>0.000000</td>\n",
       "      <td>0.000000</td>\n",
       "      <td>0.000000</td>\n",
       "      <td>0.000000</td>\n",
       "      <td>0.000000</td>\n",
       "    </tr>\n",
       "  </tbody>\n",
       "</table>\n",
       "</div>"
      ],
      "text/plain": [
       "purpose_vp                    Fz1       Fz2       Fz3       Fz4       Fz6\n",
       "urbanisation mode_model                                                  \n",
       "1            bus         1.470507  3.022683  1.979101  2.051907  2.343163\n",
       "             car         1.063492  0.357417  0.423820  0.864060  0.445436\n",
       "             rail        1.131184  2.144518  1.934646  1.904762  2.227513\n",
       "             walk        0.000000  0.000000  0.000000  0.000000  0.000000\n",
       "2            bus         2.466897  5.510120  3.463782  3.201980  4.279929\n",
       "             car         0.972012  0.249354  0.354279  0.817732  0.377155\n",
       "             rail        2.254710  5.145833  3.717241  4.440000  3.938627\n",
       "             walk        0.000000  0.000000  0.000000  0.000000  0.000000\n",
       "3            bus         3.745522  6.215572  4.551823  5.428571  4.627387\n",
       "             car         0.872977  0.258156  0.342397  0.837373  0.356010\n",
       "             rail        3.269863  4.001887  4.672973  4.480000  5.275610\n",
       "             walk        0.000000  0.000000  0.000000  0.000000  0.000000"
      ]
     },
     "execution_count": 125,
     "metadata": {},
     "output_type": "execute_result"
    }
   ],
   "source": [
    "# Generate averages\n",
    "price_dict = trips.groupby(['urbanisation', 'mode_model', 'purpose_vp'])['price'].mean().to_dict()\n",
    "trips.groupby(['urbanisation', 'mode_model', 'purpose_vp'])['price'].mean().unstack('purpose_vp')"
   ]
  },
  {
   "cell_type": "markdown",
   "metadata": {},
   "source": [
    "## Save to excel\n",
    "\n",
    "Merge volumes and averages into a suitable output format. It should contain columns for\n",
    "* volumes\n",
    "* passenger kilometer\n",
    "* vehicle kilometer\n",
    "* av. distance\n",
    "* av. time\n",
    "* av. price"
   ]
  },
  {
   "cell_type": "code",
   "execution_count": 126,
   "metadata": {},
   "outputs": [],
   "source": [
    "# Stack column names to columns\n",
    "df = volumes.stack().stack().rename('volumes').reset_index(level=[1,2])"
   ]
  },
  {
   "cell_type": "code",
   "execution_count": 127,
   "metadata": {},
   "outputs": [],
   "source": [
    "# Add urbanisation column\n",
    "df['urb'] = df.index.map(sm.zones['urbanisation'].to_dict()).astype(int)"
   ]
  },
  {
   "cell_type": "code",
   "execution_count": 128,
   "metadata": {},
   "outputs": [],
   "source": [
    "# Av. distance in km\n",
    "df['length'] = [len_dict[a] for a in tuple(zip(df['urb'], df['mode'], df['segment']))]"
   ]
  },
  {
   "cell_type": "code",
   "execution_count": 129,
   "metadata": {},
   "outputs": [],
   "source": [
    "# Av. time in h\n",
    "df['time'] = [time_dict[a]/60 for a in tuple(zip(df['urb'], df['mode'], df['segment']))]"
   ]
  },
  {
   "cell_type": "code",
   "execution_count": 130,
   "metadata": {},
   "outputs": [],
   "source": [
    "# Av. price in EUR\n",
    "df['price'] = [price_dict[a] for a in tuple(zip(df['urb'], df['mode'], df['segment']))]"
   ]
  },
  {
   "cell_type": "code",
   "execution_count": 131,
   "metadata": {},
   "outputs": [],
   "source": [
    "# Passenger kilometer\n",
    "df['pkm'] = (df['volumes'] * df['length']).astype(int)"
   ]
  },
  {
   "cell_type": "code",
   "execution_count": 133,
   "metadata": {},
   "outputs": [
    {
     "data": {
      "text/plain": [
       "array([<AxesSubplot:ylabel='Fz1'>, <AxesSubplot:ylabel='Fz2'>,\n",
       "       <AxesSubplot:ylabel='Fz3'>, <AxesSubplot:ylabel='Fz4'>,\n",
       "       <AxesSubplot:ylabel='Fz6'>], dtype=object)"
      ]
     },
     "execution_count": 133,
     "metadata": {},
     "output_type": "execute_result"
    },
    {
     "data": {
      "image/png": "[encoded data removed]",
      "text/plain": [
       "<Figure size 1152x288 with 5 Axes>"
      ]
     },
     "metadata": {},
     "output_type": "display_data"
    }
   ],
   "source": [
    "# Modal split by pkm\n",
    "df.set_index(['mode', 'segment'], append=True)['pkm'].unstack().groupby(level=1).sum().plot.pie(\n",
    "    subplots=True, figsize=(16, 4), legend=False, title='Modal split by trip purpose (passenger kilometer)')"
   ]
  },
  {
   "cell_type": "code",
   "execution_count": 134,
   "metadata": {},
   "outputs": [],
   "source": [
    "# Vehicle kilometer for cars\n",
    "df['vkm'] = [pkm/car_occ_dict[(u,p)] if m=='car' else 0 for u,m,p,pkm in zip(\n",
    "    df['urb'], df['mode'], df['segment'], df['pkm'])]"
   ]
  },
  {
   "cell_type": "code",
   "execution_count": 135,
   "metadata": {},
   "outputs": [],
   "source": [
    "# Cycling and walking is not counted to vkm\n",
    "# PT km depend on the schedules\n",
    "df['vkm'] = df['vkm'].astype(int)"
   ]
  },
  {
   "cell_type": "code",
   "execution_count": 136,
   "metadata": {},
   "outputs": [],
   "source": [
    "# Create an aggregated version (NUTS2-level and no segments)\n",
    "df['NUTS1'] = df.index.str[:3]\n",
    "df_agg = df.groupby(['NUTS1', 'mode']).agg(\n",
    "    {'volumes': 'sum', 'length': 'mean', 'time': 'mean',\n",
    "     'price': 'mean', 'pkm': 'sum', 'vkm': 'sum'})"
   ]
  },
  {
   "cell_type": "code",
   "execution_count": 141,
   "metadata": {},
   "outputs": [],
   "source": [
    "# Save an excel\n",
    "with pd.ExcelWriter(output_path + 'inner_zone.xlsx') as writer:\n",
    "    df.to_excel(writer, sheet_name='inner_zone')\n",
    "    df_agg.to_excel(writer, sheet_name='agg')"
   ]
  },
  {
   "cell_type": "code",
   "execution_count": 142,
   "metadata": {},
   "outputs": [],
   "source": [
    "# Save disaggregated pkm as CSV\n",
    "df[['pkm', 'mode', 'segment']].to_csv(output_path + 'inner_zone_pkm.csv')"
   ]
  }
 ],
 "metadata": {
  "kernelspec": {
   "display_name": "Python 3 (ipykernel)",
   "language": "python",
   "name": "python3"
  },
  "language_info": {
   "codemirror_mode": {
    "name": "ipython",
    "version": 3
   },
   "file_extension": ".py",
   "mimetype": "text/x-python",
   "name": "python",
   "nbconvert_exporter": "python",
   "pygments_lexer": "ipython3",
   "version": "3.8.13"
  }
 },
 "nbformat": 4,
 "nbformat_minor": 2
}
