{
 "cells": [
  {
   "cell_type": "code",
   "execution_count": 1,
   "metadata": {},
   "outputs": [
    {
     "name": "stderr",
     "output_type": "stream",
     "text": [
      "In C:\\Users\\marlin.arnz\\AppData\\Local\\Continuum\\miniconda3\\envs\\quetzal\\lib\\site-packages\\matplotlib\\mpl-data\\stylelib\\_classic_test.mplstyle: \n",
      "The text.latex.preview rcparam was deprecated in Matplotlib 3.3 and will be removed two minor releases later.\n",
      "In C:\\Users\\marlin.arnz\\AppData\\Local\\Continuum\\miniconda3\\envs\\quetzal\\lib\\site-packages\\matplotlib\\mpl-data\\stylelib\\_classic_test.mplstyle: \n",
      "The mathtext.fallback_to_cm rcparam was deprecated in Matplotlib 3.3 and will be removed two minor releases later.\n",
      "In C:\\Users\\marlin.arnz\\AppData\\Local\\Continuum\\miniconda3\\envs\\quetzal\\lib\\site-packages\\matplotlib\\mpl-data\\stylelib\\_classic_test.mplstyle: Support for setting the 'mathtext.fallback_to_cm' rcParam is deprecated since 3.3 and will be removed two minor releases later; use 'mathtext.fallback : 'cm' instead.\n",
      "In C:\\Users\\marlin.arnz\\AppData\\Local\\Continuum\\miniconda3\\envs\\quetzal\\lib\\site-packages\\matplotlib\\mpl-data\\stylelib\\_classic_test.mplstyle: \n",
      "The validate_bool_maybe_none function was deprecated in Matplotlib 3.3 and will be removed two minor releases later.\n",
      "In C:\\Users\\marlin.arnz\\AppData\\Local\\Continuum\\miniconda3\\envs\\quetzal\\lib\\site-packages\\matplotlib\\mpl-data\\stylelib\\_classic_test.mplstyle: \n",
      "The savefig.jpeg_quality rcparam was deprecated in Matplotlib 3.3 and will be removed two minor releases later.\n",
      "In C:\\Users\\marlin.arnz\\AppData\\Local\\Continuum\\miniconda3\\envs\\quetzal\\lib\\site-packages\\matplotlib\\mpl-data\\stylelib\\_classic_test.mplstyle: \n",
      "The keymap.all_axes rcparam was deprecated in Matplotlib 3.3 and will be removed two minor releases later.\n",
      "In C:\\Users\\marlin.arnz\\AppData\\Local\\Continuum\\miniconda3\\envs\\quetzal\\lib\\site-packages\\matplotlib\\mpl-data\\stylelib\\_classic_test.mplstyle: \n",
      "The animation.avconv_path rcparam was deprecated in Matplotlib 3.3 and will be removed two minor releases later.\n",
      "In C:\\Users\\marlin.arnz\\AppData\\Local\\Continuum\\miniconda3\\envs\\quetzal\\lib\\site-packages\\matplotlib\\mpl-data\\stylelib\\_classic_test.mplstyle: \n",
      "The animation.avconv_args rcparam was deprecated in Matplotlib 3.3 and will be removed two minor releases later.\n"
     ]
    }
   ],
   "source": [
    "import sys # for automation and parallelisation\n",
    "manual, scenario = (True, 'base') if 'ipykernel' in sys.argv[0] else (False, sys.argv[1])\n",
    "if manual:\n",
    "    %matplotlib inline"
   ]
  },
  {
   "cell_type": "code",
   "execution_count": 2,
   "metadata": {},
   "outputs": [],
   "source": [
    "import numpy as np\n",
    "import pandas as pd\n",
    "import matplotlib.pyplot as plt\n",
    "from quetzal.model import stepmodel\n",
    "from quetzal.io import excel"
   ]
  },
  {
   "cell_type": "markdown",
   "metadata": {},
   "source": [
    "# Logit model step\n",
    "## Needs LoS tables and calibration parameters\n",
    "## Saves logit probabilities and utilities"
   ]
  },
  {
   "cell_type": "code",
   "execution_count": 3,
   "metadata": {},
   "outputs": [],
   "source": [
    "input_path = '../input/'\n",
    "output_path = '../output/'\n",
    "model_path = '../model/' + scenario + '/'"
   ]
  },
  {
   "cell_type": "code",
   "execution_count": 4,
   "metadata": {},
   "outputs": [],
   "source": [
    "# Load parameters for settings\n",
    "params = excel.read_var(file='../input/parameters.xls', scenario=scenario)"
   ]
  },
  {
   "cell_type": "code",
   "execution_count": 5,
   "metadata": {},
   "outputs": [],
   "source": [
    "sm = stepmodel.read_json(model_path + 'de_pt_los')\n",
    "car = stepmodel.read_json(model_path + 'de_road_los')"
   ]
  },
  {
   "cell_type": "code",
   "execution_count": 6,
   "metadata": {},
   "outputs": [
    {
     "data": {
      "text/plain": [
       "5.391815535452514"
      ]
     },
     "execution_count": 6,
     "metadata": {},
     "output_type": "execute_result"
    }
   ],
   "source": [
    "# Scale time to hours\n",
    "if sm.pt_los['time'].mean() > 3600:\n",
    "    sm.pt_los['time'] = sm.pt_los['time'] / 3600\n",
    "elif sm.pt_los['time'].mean() < 10/3600:\n",
    "    sm.pt_los['time'] = sm.pt_los['time'] * 3600\n",
    "sm.pt_los['time'].mean()"
   ]
  },
  {
   "cell_type": "code",
   "execution_count": 7,
   "metadata": {},
   "outputs": [
    {
     "data": {
      "text/plain": [
       "4.371867598400412"
      ]
     },
     "execution_count": 7,
     "metadata": {},
     "output_type": "execute_result"
    }
   ],
   "source": [
    "if car.car_los['time'].mean() > 3600:\n",
    "    car.car_los['time'] = car.car_los['time'] / 3600\n",
    "car.car_los['time'].mean()"
   ]
  },
  {
   "cell_type": "code",
   "execution_count": 8,
   "metadata": {},
   "outputs": [],
   "source": [
    "# Define route types for the choice tree\n",
    "route_types = ['rail',#'rail_long', 'rail_short',\n",
    "               'bus',#'coach', 'bus',\n",
    "               'air','car', 'walk']"
   ]
  },
  {
   "cell_type": "code",
   "execution_count": 9,
   "metadata": {},
   "outputs": [],
   "source": [
    "# Aggregate route types rail and road PT\n",
    "type_dict = {'rail_long': 'rail', 'rail_short': 'rail', 'rail': 'rail',\n",
    "             'coach': 'bus', 'bus': 'bus',\n",
    "             'air': 'air', 'car': 'car', 'walk': 'walk'}\n",
    "assert set(route_types).issubset(set(type_dict.keys()))\n",
    "if 'rail_short' in sm.pt_los['route_type']:\n",
    "    sm.pt_los['route_type_disagg'] = sm.pt_los['route_type'].copy()\n",
    "sm.pt_los['route_type'] = sm.pt_los['route_type'].map(type_dict)"
   ]
  },
  {
   "cell_type": "code",
   "execution_count": 10,
   "metadata": {},
   "outputs": [
    {
     "data": {
      "text/html": [
       "<div>\n",
       "<style scoped>\n",
       "    .dataframe tbody tr th:only-of-type {\n",
       "        vertical-align: middle;\n",
       "    }\n",
       "\n",
       "    .dataframe tbody tr th {\n",
       "        vertical-align: top;\n",
       "    }\n",
       "\n",
       "    .dataframe thead th {\n",
       "        text-align: right;\n",
       "    }\n",
       "</style>\n",
       "<table border=\"1\" class=\"dataframe\">\n",
       "  <thead>\n",
       "    <tr style=\"text-align: right;\">\n",
       "      <th></th>\n",
       "      <th>access_time</th>\n",
       "      <th>accessibility</th>\n",
       "      <th>destination</th>\n",
       "      <th>footpath_time</th>\n",
       "      <th>in_vehicle_time</th>\n",
       "      <th>length</th>\n",
       "      <th>link_path</th>\n",
       "      <th>ntransfers</th>\n",
       "      <th>origin</th>\n",
       "      <th>path</th>\n",
       "      <th>...</th>\n",
       "      <th>('Fz1', 'utility')</th>\n",
       "      <th>('Fz2', 'utility')</th>\n",
       "      <th>('Fz3', 'utility')</th>\n",
       "      <th>('Fz4', 'utility')</th>\n",
       "      <th>('Fz6', 'utility')</th>\n",
       "      <th>('Fz1', 'probability')</th>\n",
       "      <th>('Fz2', 'probability')</th>\n",
       "      <th>('Fz3', 'probability')</th>\n",
       "      <th>('Fz4', 'probability')</th>\n",
       "      <th>('Fz6', 'probability')</th>\n",
       "    </tr>\n",
       "    <tr>\n",
       "      <th>index</th>\n",
       "      <th></th>\n",
       "      <th></th>\n",
       "      <th></th>\n",
       "      <th></th>\n",
       "      <th></th>\n",
       "      <th></th>\n",
       "      <th></th>\n",
       "      <th></th>\n",
       "      <th></th>\n",
       "      <th></th>\n",
       "      <th></th>\n",
       "      <th></th>\n",
       "      <th></th>\n",
       "      <th></th>\n",
       "      <th></th>\n",
       "      <th></th>\n",
       "      <th></th>\n",
       "      <th></th>\n",
       "      <th></th>\n",
       "      <th></th>\n",
       "      <th></th>\n",
       "    </tr>\n",
       "  </thead>\n",
       "  <tbody>\n",
       "    <tr>\n",
       "      <th>110602</th>\n",
       "      <td>1627</td>\n",
       "      <td>NaN</td>\n",
       "      <td>DE253</td>\n",
       "      <td>102</td>\n",
       "      <td>9148</td>\n",
       "      <td>193456</td>\n",
       "      <td>[rs_17861, rs_16598, rs_16599, rs_16600, rs_16...</td>\n",
       "      <td>4</td>\n",
       "      <td>DE22A</td>\n",
       "      <td>NaN</td>\n",
       "      <td>...</td>\n",
       "      <td>-6.458164</td>\n",
       "      <td>-4.396616</td>\n",
       "      <td>-8.084137</td>\n",
       "      <td>-2.611749</td>\n",
       "      <td>-3.887702</td>\n",
       "      <td>0.010365</td>\n",
       "      <td>0.069118</td>\n",
       "      <td>0.009281</td>\n",
       "      <td>0.055888</td>\n",
       "      <td>0.032284</td>\n",
       "    </tr>\n",
       "  </tbody>\n",
       "</table>\n",
       "<p>1 rows × 26 columns</p>\n",
       "</div>"
      ],
      "text/plain": [
       "        access_time  accessibility destination  footpath_time  \\\n",
       "index                                                           \n",
       "110602         1627            NaN       DE253            102   \n",
       "\n",
       "        in_vehicle_time  length  \\\n",
       "index                             \n",
       "110602             9148  193456   \n",
       "\n",
       "                                                link_path  ntransfers origin  \\\n",
       "index                                                                          \n",
       "110602  [rs_17861, rs_16598, rs_16599, rs_16600, rs_16...           4  DE22A   \n",
       "\n",
       "        path  ...  ('Fz1', 'utility') ('Fz2', 'utility')  ('Fz3', 'utility')  \\\n",
       "index         ...                                                              \n",
       "110602   NaN  ...           -6.458164          -4.396616           -8.084137   \n",
       "\n",
       "       ('Fz4', 'utility')  ('Fz6', 'utility')  ('Fz1', 'probability')  \\\n",
       "index                                                                   \n",
       "110602          -2.611749           -3.887702                0.010365   \n",
       "\n",
       "        ('Fz2', 'probability')  ('Fz3', 'probability')  \\\n",
       "index                                                    \n",
       "110602                0.069118                0.009281   \n",
       "\n",
       "        ('Fz4', 'probability')  ('Fz6', 'probability')  \n",
       "index                                                   \n",
       "110602                0.055888                0.032284  \n",
       "\n",
       "[1 rows x 26 columns]"
      ]
     },
     "execution_count": 10,
     "metadata": {},
     "output_type": "execute_result"
    }
   ],
   "source": [
    "sm.pt_los.sample()"
   ]
  },
  {
   "cell_type": "code",
   "execution_count": 11,
   "metadata": {},
   "outputs": [
    {
     "data": {
      "text/plain": [
       "707120"
      ]
     },
     "execution_count": 11,
     "metadata": {},
     "output_type": "execute_result"
    }
   ],
   "source": [
    "# Create LoS table\n",
    "sm.los = pd.concat([sm.pt_los, car.car_los])\n",
    "sm.los.reset_index(drop=True, inplace=True)\n",
    "len(sm.los)"
   ]
  },
  {
   "cell_type": "code",
   "execution_count": 12,
   "metadata": {},
   "outputs": [],
   "source": [
    "sm.los.drop([col for col in sm.los.columns if col.startswith('(')],\n",
    "            axis=1, inplace=True, errors='ignore')"
   ]
  },
  {
   "cell_type": "code",
   "execution_count": 13,
   "metadata": {},
   "outputs": [
    {
     "data": {
      "text/plain": [
       "707120"
      ]
     },
     "execution_count": 13,
     "metadata": {},
     "output_type": "execute_result"
    }
   ],
   "source": [
    "# Clean LoS table\n",
    "sm.los = sm.los.loc[sm.los['time']>0]\n",
    "sm.los = sm.los.loc[sm.los['length']<=1000000]\n",
    "len(sm.los)"
   ]
  },
  {
   "cell_type": "code",
   "execution_count": 14,
   "metadata": {},
   "outputs": [],
   "source": [
    "# Make route types hashable\n",
    "sm.los['route_types'] = sm.los['route_types'].apply(tuple)"
   ]
  },
  {
   "cell_type": "markdown",
   "metadata": {},
   "source": [
    "## Prepare the logit model\n",
    "\n",
    "Load parameters and generate LoS columns"
   ]
  },
  {
   "cell_type": "code",
   "execution_count": 45,
   "metadata": {},
   "outputs": [],
   "source": [
    "# Transport demand segments: the cartesian product of\n",
    "# trip purposes and car ownership\n",
    "#segments_tuple = [('Fz'+str(p), car) for p in [1,2,3,4,6] for car in [0,1]]\n",
    "# Convert tuple segments to strings in order to prevent issues\n",
    "#segments = [str(seg) for seg in segments_tuple]\n",
    "# Just trip purposes\n",
    "segments =  ['Fz'+str(p) for p in [1,2,3,4,6]]"
   ]
  },
  {
   "cell_type": "code",
   "execution_count": 16,
   "metadata": {},
   "outputs": [
    {
     "data": {
      "text/plain": [
       "\"# Take the same VoT for every segment\\nsm.los['gc'] = sm.los['time'] + [c / vot['root', m_dict[m]][int(d/1000)]\\n    if m!='walk' else 0 for c,d,m in zip(sm.los['price'], sm.los['length'], sm.los['route_type'])]\\n\""
      ]
     },
     "execution_count": 16,
     "metadata": {},
     "output_type": "execute_result"
    }
   ],
   "source": [
    "# Create a column for generalised cost, see cal20\n",
    "#vot = pd.read_csv(input_path + 'vot.csv', header=[0,1], index_col=0).to_dict()\n",
    "m_dict = {'rail_long': 'PT', 'rail_short': 'PT', 'rail': 'PT',\n",
    "          'coach': 'PT', 'bus': 'PT', 'air': 'air', 'car': 'car'}\n",
    "'''# Take averages over distances\n",
    "vot = {('Fz1', 'PT'): 4.47, ('Fz1', 'air'): 33.67, ('Fz1', 'car'): 4.87,\n",
    "       ('Fz2', 'PT'): 4.39, ('Fz2', 'air'): 33.67, ('Fz2', 'car'): 3.9,\n",
    "       ('Fz3', 'PT'): 5.11, ('Fz3', 'air'): 33.67, ('Fz3', 'car'): 4.29,\n",
    "       ('Fz4', 'PT'): 7.01, ('Fz4', 'air'): 38.76, ('Fz4', 'car'): 8.5,\n",
    "       ('Fz6', 'PT'): 4.35, ('Fz6', 'air'): 25.45, ('Fz6', 'car'): 4.35}'''\n",
    "'''# Take the same VoT for every segment\n",
    "sm.los['gc'] = sm.los['time'] + [c / vot['root', m_dict[m]][int(d/1000)]\n",
    "    if m!='walk' else 0 for c,d,m in zip(sm.los['price'], sm.los['length'], sm.los['route_type'])]\n",
    "'''\n",
    "# Take segment-specific VoT\n",
    "#for s in segments_tuple:\n",
    "#    sm.los[(str(s), 'gc')] = sm.los['time'] + [c / vot[s[0], 'all'][int(d/1000)] # m_dict[m] for mode-specific instead of all\n",
    "#        if m!='walk' else 0 for c,d,m in zip(\n",
    "#            sm.los['price'], sm.los['length'], sm.los['route_type'])]"
   ]
  },
  {
   "cell_type": "code",
   "execution_count": 17,
   "metadata": {},
   "outputs": [],
   "source": [
    "# Load estimation results\n",
    "excel = pd.ExcelFile(input_path + 'estimation_results.xls')\n",
    "params_est = []\n",
    "for segment in range(2, len(segments)+2): # First two sheets are all purposes\n",
    "    df = excel.parse(segment)\n",
    "    params_est.append(df.set_index(df.columns[0]))"
   ]
  },
  {
   "cell_type": "code",
   "execution_count": 18,
   "metadata": {},
   "outputs": [
    {
     "data": {
      "text/html": [
       "<div>\n",
       "<style scoped>\n",
       "    .dataframe tbody tr th:only-of-type {\n",
       "        vertical-align: middle;\n",
       "    }\n",
       "\n",
       "    .dataframe tbody tr th {\n",
       "        vertical-align: top;\n",
       "    }\n",
       "\n",
       "    .dataframe thead th {\n",
       "        text-align: right;\n",
       "    }\n",
       "</style>\n",
       "<table border=\"1\" class=\"dataframe\">\n",
       "  <thead>\n",
       "    <tr style=\"text-align: right;\">\n",
       "      <th>segment</th>\n",
       "      <th>Fz1</th>\n",
       "      <th>Fz2</th>\n",
       "      <th>Fz3</th>\n",
       "      <th>Fz4</th>\n",
       "      <th>Fz6</th>\n",
       "    </tr>\n",
       "    <tr>\n",
       "      <th>route_type</th>\n",
       "      <th></th>\n",
       "      <th></th>\n",
       "      <th></th>\n",
       "      <th></th>\n",
       "      <th></th>\n",
       "    </tr>\n",
       "  </thead>\n",
       "  <tbody>\n",
       "    <tr>\n",
       "      <th>rail</th>\n",
       "      <td>root</td>\n",
       "      <td>root</td>\n",
       "      <td>root</td>\n",
       "      <td>root</td>\n",
       "      <td>root</td>\n",
       "    </tr>\n",
       "    <tr>\n",
       "      <th>bus</th>\n",
       "      <td>root</td>\n",
       "      <td>root</td>\n",
       "      <td>root</td>\n",
       "      <td>root</td>\n",
       "      <td>root</td>\n",
       "    </tr>\n",
       "    <tr>\n",
       "      <th>air</th>\n",
       "      <td>root</td>\n",
       "      <td>root</td>\n",
       "      <td>root</td>\n",
       "      <td>root</td>\n",
       "      <td>root</td>\n",
       "    </tr>\n",
       "    <tr>\n",
       "      <th>car</th>\n",
       "      <td>root</td>\n",
       "      <td>root</td>\n",
       "      <td>root</td>\n",
       "      <td>root</td>\n",
       "      <td>root</td>\n",
       "    </tr>\n",
       "    <tr>\n",
       "      <th>walk</th>\n",
       "      <td>root</td>\n",
       "      <td>root</td>\n",
       "      <td>root</td>\n",
       "      <td>root</td>\n",
       "      <td>root</td>\n",
       "    </tr>\n",
       "    <tr>\n",
       "      <th>root</th>\n",
       "      <td>NaN</td>\n",
       "      <td>NaN</td>\n",
       "      <td>NaN</td>\n",
       "      <td>NaN</td>\n",
       "      <td>NaN</td>\n",
       "    </tr>\n",
       "  </tbody>\n",
       "</table>\n",
       "</div>"
      ],
      "text/plain": [
       "segment      Fz1   Fz2   Fz3   Fz4   Fz6\n",
       "route_type                              \n",
       "rail        root  root  root  root  root\n",
       "bus         root  root  root  root  root\n",
       "air         root  root  root  root  root\n",
       "car         root  root  root  root  root\n",
       "walk        root  root  root  root  root\n",
       "root         NaN   NaN   NaN   NaN   NaN"
      ]
     },
     "execution_count": 18,
     "metadata": {},
     "output_type": "execute_result"
    }
   ],
   "source": [
    "# The nested logit structure can be set for each segment\n",
    "# It must be the same as in the estimation\n",
    "segs = segments + ['root']\n",
    "col = ['root']*len(route_types) + [np.nan] #['pt']*(len(route_types)-3) + ['root']*4 + [np.nan]\n",
    "nests = pd.DataFrame(index=route_types+['root'], #['pt', 'root'],\n",
    "                     data={s: col for s in segments})\n",
    "nests.index.name = 'route_type'\n",
    "nests.columns.name = 'segment'\n",
    "sm.mode_nests = nests\n",
    "sm.mode_nests"
   ]
  },
  {
   "cell_type": "code",
   "execution_count": 19,
   "metadata": {},
   "outputs": [
    {
     "data": {
      "text/html": [
       "<div>\n",
       "<style scoped>\n",
       "    .dataframe tbody tr th:only-of-type {\n",
       "        vertical-align: middle;\n",
       "    }\n",
       "\n",
       "    .dataframe tbody tr th {\n",
       "        vertical-align: top;\n",
       "    }\n",
       "\n",
       "    .dataframe thead th {\n",
       "        text-align: right;\n",
       "    }\n",
       "</style>\n",
       "<table border=\"1\" class=\"dataframe\">\n",
       "  <thead>\n",
       "    <tr style=\"text-align: right;\">\n",
       "      <th></th>\n",
       "      <th>Fz1</th>\n",
       "      <th>Fz2</th>\n",
       "      <th>Fz3</th>\n",
       "      <th>Fz4</th>\n",
       "      <th>Fz6</th>\n",
       "    </tr>\n",
       "  </thead>\n",
       "  <tbody>\n",
       "    <tr>\n",
       "      <th>rail</th>\n",
       "      <td>1</td>\n",
       "      <td>1</td>\n",
       "      <td>1</td>\n",
       "      <td>1</td>\n",
       "      <td>1</td>\n",
       "    </tr>\n",
       "    <tr>\n",
       "      <th>bus</th>\n",
       "      <td>1</td>\n",
       "      <td>1</td>\n",
       "      <td>1</td>\n",
       "      <td>1</td>\n",
       "      <td>1</td>\n",
       "    </tr>\n",
       "    <tr>\n",
       "      <th>air</th>\n",
       "      <td>1</td>\n",
       "      <td>1</td>\n",
       "      <td>1</td>\n",
       "      <td>1</td>\n",
       "      <td>1</td>\n",
       "    </tr>\n",
       "    <tr>\n",
       "      <th>car</th>\n",
       "      <td>1</td>\n",
       "      <td>1</td>\n",
       "      <td>1</td>\n",
       "      <td>1</td>\n",
       "      <td>1</td>\n",
       "    </tr>\n",
       "    <tr>\n",
       "      <th>walk</th>\n",
       "      <td>1</td>\n",
       "      <td>1</td>\n",
       "      <td>1</td>\n",
       "      <td>1</td>\n",
       "      <td>1</td>\n",
       "    </tr>\n",
       "    <tr>\n",
       "      <th>root</th>\n",
       "      <td>1</td>\n",
       "      <td>1</td>\n",
       "      <td>1</td>\n",
       "      <td>1</td>\n",
       "      <td>1</td>\n",
       "    </tr>\n",
       "  </tbody>\n",
       "</table>\n",
       "</div>"
      ],
      "text/plain": [
       "      Fz1  Fz2  Fz3  Fz4  Fz6\n",
       "rail    1    1    1    1    1\n",
       "bus     1    1    1    1    1\n",
       "air     1    1    1    1    1\n",
       "car     1    1    1    1    1\n",
       "walk    1    1    1    1    1\n",
       "root    1    1    1    1    1"
      ]
     },
     "execution_count": 19,
     "metadata": {},
     "output_type": "execute_result"
    }
   ],
   "source": [
    "# phi/theta values for each mode and nest come from calibration data\n",
    "sm.logit_scales = pd.DataFrame(index=route_types, data={seg: 1 for seg in segments})\n",
    "sm.logit_scales.loc['root'] = [1 for i in range(len(segments))]\n",
    "# For the nested structure\n",
    "#sm.logit_scales.loc['pt'] = [1 / params_est[i].loc['mu_pt', 'Value']\n",
    "#                             for i in range(len(segments))]\n",
    "sm.logit_scales"
   ]
  },
  {
   "cell_type": "code",
   "execution_count": 20,
   "metadata": {},
   "outputs": [
    {
     "data": {
      "text/html": [
       "<div>\n",
       "<style scoped>\n",
       "    .dataframe tbody tr th:only-of-type {\n",
       "        vertical-align: middle;\n",
       "    }\n",
       "\n",
       "    .dataframe tbody tr th {\n",
       "        vertical-align: top;\n",
       "    }\n",
       "\n",
       "    .dataframe thead th {\n",
       "        text-align: right;\n",
       "    }\n",
       "</style>\n",
       "<table border=\"1\" class=\"dataframe\">\n",
       "  <thead>\n",
       "    <tr style=\"text-align: right;\">\n",
       "      <th></th>\n",
       "      <th>Fz1</th>\n",
       "      <th>Fz2</th>\n",
       "      <th>Fz3</th>\n",
       "      <th>Fz4</th>\n",
       "      <th>Fz6</th>\n",
       "    </tr>\n",
       "  </thead>\n",
       "  <tbody>\n",
       "    <tr>\n",
       "      <th>rail</th>\n",
       "      <td>-1.803243</td>\n",
       "      <td>-0.200910</td>\n",
       "      <td>-2.714408</td>\n",
       "      <td>-2.568737</td>\n",
       "      <td>-2.545948</td>\n",
       "    </tr>\n",
       "    <tr>\n",
       "      <th>bus</th>\n",
       "      <td>-3.308262</td>\n",
       "      <td>-0.332113</td>\n",
       "      <td>-3.513705</td>\n",
       "      <td>-3.405446</td>\n",
       "      <td>-3.288494</td>\n",
       "    </tr>\n",
       "    <tr>\n",
       "      <th>air</th>\n",
       "      <td>-6.318598</td>\n",
       "      <td>-5.997924</td>\n",
       "      <td>-3.107773</td>\n",
       "      <td>-2.878940</td>\n",
       "      <td>-2.512342</td>\n",
       "    </tr>\n",
       "    <tr>\n",
       "      <th>car</th>\n",
       "      <td>0.000000</td>\n",
       "      <td>0.000000</td>\n",
       "      <td>0.000000</td>\n",
       "      <td>0.000000</td>\n",
       "      <td>0.000000</td>\n",
       "    </tr>\n",
       "    <tr>\n",
       "      <th>walk</th>\n",
       "      <td>-5.010384</td>\n",
       "      <td>-2.844782</td>\n",
       "      <td>-4.191783</td>\n",
       "      <td>-3.897832</td>\n",
       "      <td>-3.867098</td>\n",
       "    </tr>\n",
       "    <tr>\n",
       "      <th>root</th>\n",
       "      <td>0.000000</td>\n",
       "      <td>0.000000</td>\n",
       "      <td>0.000000</td>\n",
       "      <td>0.000000</td>\n",
       "      <td>0.000000</td>\n",
       "    </tr>\n",
       "  </tbody>\n",
       "</table>\n",
       "</div>"
      ],
      "text/plain": [
       "           Fz1       Fz2       Fz3       Fz4       Fz6\n",
       "rail -1.803243 -0.200910 -2.714408 -2.568737 -2.545948\n",
       "bus  -3.308262 -0.332113 -3.513705 -3.405446 -3.288494\n",
       "air  -6.318598 -5.997924 -3.107773 -2.878940 -2.512342\n",
       "car   0.000000  0.000000  0.000000  0.000000  0.000000\n",
       "walk -5.010384 -2.844782 -4.191783 -3.897832 -3.867098\n",
       "root  0.000000  0.000000  0.000000  0.000000  0.000000"
      ]
     },
     "execution_count": 20,
     "metadata": {},
     "output_type": "execute_result"
    }
   ],
   "source": [
    "# Initial values are the alternative specific constants (ASC) from calibration\n",
    "sm.mode_utility = pd.DataFrame({seg: [] for seg in segments})\n",
    "for t, asc in [('rail', 'asc_rail'),\n",
    "#               ('rail_short', 'asc_rail_s'),\n",
    "#               ('rail_long', 'asc_rail_l'),\n",
    "#               ('coach', 'asc_coach'),\n",
    "               ('bus', 'asc_road'),\n",
    "               ('air', 'asc_air'), ('car', 0),\n",
    "               ('walk', 'asc_non_motor'),('root', 0)]:\n",
    "    sm.mode_utility.loc[t] = [params_est[i].loc[asc, 'Value']\n",
    "                              if isinstance(asc, str) else asc\n",
    "                              for i in range(len(segments))]\n",
    "sm.mode_utility"
   ]
  },
  {
   "cell_type": "code",
   "execution_count": 21,
   "metadata": {},
   "outputs": [],
   "source": [
    "# Performance attributes for mode choice\n",
    "perf_attrs = [(s, 't') for s in segments]"
   ]
  },
  {
   "cell_type": "code",
   "execution_count": 22,
   "metadata": {},
   "outputs": [
    {
     "data": {
      "text/html": [
       "<div>\n",
       "<style scoped>\n",
       "    .dataframe tbody tr th:only-of-type {\n",
       "        vertical-align: middle;\n",
       "    }\n",
       "\n",
       "    .dataframe tbody tr th {\n",
       "        vertical-align: top;\n",
       "    }\n",
       "\n",
       "    .dataframe thead th {\n",
       "        text-align: right;\n",
       "    }\n",
       "</style>\n",
       "<table border=\"1\" class=\"dataframe\">\n",
       "  <thead>\n",
       "    <tr style=\"text-align: right;\">\n",
       "      <th></th>\n",
       "      <th>Fz1</th>\n",
       "      <th>Fz2</th>\n",
       "      <th>Fz3</th>\n",
       "      <th>Fz4</th>\n",
       "      <th>Fz6</th>\n",
       "    </tr>\n",
       "  </thead>\n",
       "  <tbody>\n",
       "    <tr>\n",
       "      <th>('Fz1', 't')</th>\n",
       "      <td>-0.023847</td>\n",
       "      <td>0.000000</td>\n",
       "      <td>0.000000</td>\n",
       "      <td>0.000000</td>\n",
       "      <td>0.000000</td>\n",
       "    </tr>\n",
       "    <tr>\n",
       "      <th>('Fz2', 't')</th>\n",
       "      <td>0.000000</td>\n",
       "      <td>-0.044809</td>\n",
       "      <td>0.000000</td>\n",
       "      <td>0.000000</td>\n",
       "      <td>0.000000</td>\n",
       "    </tr>\n",
       "    <tr>\n",
       "      <th>('Fz3', 't')</th>\n",
       "      <td>0.000000</td>\n",
       "      <td>0.000000</td>\n",
       "      <td>-0.071969</td>\n",
       "      <td>0.000000</td>\n",
       "      <td>0.000000</td>\n",
       "    </tr>\n",
       "    <tr>\n",
       "      <th>('Fz4', 't')</th>\n",
       "      <td>0.000000</td>\n",
       "      <td>0.000000</td>\n",
       "      <td>0.000000</td>\n",
       "      <td>-0.034192</td>\n",
       "      <td>0.000000</td>\n",
       "    </tr>\n",
       "    <tr>\n",
       "      <th>('Fz6', 't')</th>\n",
       "      <td>0.000000</td>\n",
       "      <td>0.000000</td>\n",
       "      <td>0.000000</td>\n",
       "      <td>0.000000</td>\n",
       "      <td>-0.021001</td>\n",
       "    </tr>\n",
       "    <tr>\n",
       "      <th>c</th>\n",
       "      <td>-0.103851</td>\n",
       "      <td>-0.053542</td>\n",
       "      <td>-0.056964</td>\n",
       "      <td>0.000000</td>\n",
       "      <td>-0.025042</td>\n",
       "    </tr>\n",
       "    <tr>\n",
       "      <th>mode_utility</th>\n",
       "      <td>1.000000</td>\n",
       "      <td>1.000000</td>\n",
       "      <td>1.000000</td>\n",
       "      <td>1.000000</td>\n",
       "      <td>1.000000</td>\n",
       "    </tr>\n",
       "  </tbody>\n",
       "</table>\n",
       "</div>"
      ],
      "text/plain": [
       "                   Fz1       Fz2       Fz3       Fz4       Fz6\n",
       "('Fz1', 't') -0.023847  0.000000  0.000000  0.000000  0.000000\n",
       "('Fz2', 't')  0.000000 -0.044809  0.000000  0.000000  0.000000\n",
       "('Fz3', 't')  0.000000  0.000000 -0.071969  0.000000  0.000000\n",
       "('Fz4', 't')  0.000000  0.000000  0.000000 -0.034192  0.000000\n",
       "('Fz6', 't')  0.000000  0.000000  0.000000  0.000000 -0.021001\n",
       "c            -0.103851 -0.053542 -0.056964  0.000000 -0.025042\n",
       "mode_utility  1.000000  1.000000  1.000000  1.000000  1.000000"
      ]
     },
     "execution_count": 22,
     "metadata": {},
     "output_type": "execute_result"
    }
   ],
   "source": [
    "# Beta parameters from calibration data\n",
    "# IMPORTANT: mind the unit conversion\n",
    "sm.utility_values = pd.DataFrame({s: [0 for _ in perf_attrs] for s in segments},\n",
    "                                 index=[str(a) for a in perf_attrs])\n",
    "sm.utility_values.loc['c'] = [params_est[segments.index(s)].loc['b_c', 'Value']\n",
    "                              for s in segments]\n",
    "sm.utility_values.loc['mode_utility'] = [1 for seg in segments]\n",
    "for a in perf_attrs:\n",
    "    sm.utility_values.loc[str(a), a[0]] = params_est[segments.index(a[0])].loc['b_t', 'Value']\n",
    "sm.utility_values"
   ]
  },
  {
   "cell_type": "code",
   "execution_count": 23,
   "metadata": {},
   "outputs": [],
   "source": [
    "# Generate damped cost (see cal20)\n",
    "c = params['estimation'].to_dict()\n",
    "def spline(x, beta, c1, c2, Q=3):\n",
    "    alpha = [0, -beta/2*np.power(np.log(c1),3),\n",
    "             -beta/2*np.log(c1)*(3*np.power(np.log(c2),2)+np.power(np.log(c1),2))] # for Q=3\n",
    "    theta = [1, 3/2*np.log(c1), 3*np.log(c1)*np.log(c2)] # for Q=3\n",
    "    return (beta*theta[0]*np.power(np.log(x),Q-1+1) + alpha[0]) * (x<c1) \\\n",
    "    + (beta*theta[1]*np.power(np.log(x),Q-2+1) + alpha[1]) * (x>=c1)*(x<c2) \\\n",
    "    + (beta*theta[2]*np.power(np.log(x),Q-3+1) + alpha[2]) * (x>=c2)"
   ]
  },
  {
   "cell_type": "code",
   "execution_count": 24,
   "metadata": {},
   "outputs": [],
   "source": [
    "# Apply the spline function\n",
    "for s in segments:\n",
    "#    for a in perf_attrs:\n",
    "#        sm.los[a] = [spline(gc, beta) for gc in sm.los[(s, 'gc')]]\n",
    "    c1 = c['c1_time_'+s[-1]]\n",
    "    c2 = c['c2_time_'+s[-1]]\n",
    "    beta = sm.utility_values.loc[str((s, 't')), s]\n",
    "    sm.los[str((s, 't'))] = [spline(t*60, beta, c1*60, c2*60) for t in sm.los['time']]\n",
    "sm.los['c'] = sm.los['price']"
   ]
  },
  {
   "cell_type": "code",
   "execution_count": 25,
   "metadata": {},
   "outputs": [],
   "source": [
    "# Make beta_t one because it is now included in the LoS attribute 't'\n",
    "for a in perf_attrs:\n",
    "    sm.utility_values.loc[str(a), a[0]] = 1"
   ]
  },
  {
   "cell_type": "markdown",
   "metadata": {},
   "source": [
    "## Mode Choice"
   ]
  },
  {
   "cell_type": "code",
   "execution_count": 26,
   "metadata": {},
   "outputs": [
    {
     "name": "stderr",
     "output_type": "stream",
     "text": [
      "100%|████████████████████████████████████████████████████████████████████████████████████| 5/5 [00:00<00:00,  6.50it/s]\n"
     ]
    }
   ],
   "source": [
    "# Build the utility column in sm.los for each segment\n",
    "sm.segments = segments\n",
    "# How defines the mode which ASC is taken: \"min\" is worst mode in route_types,\n",
    "# \"max\" is best, \"sum\" and \"mean\"\n",
    "# Set the main mode as route types to take only this ASC\n",
    "#sm.los['route_types'] = [(i,) for i in sm.los['route_type']]\n",
    "sm.analysis_mode_utility(how='main', segment=None)"
   ]
  },
  {
   "cell_type": "code",
   "execution_count": 27,
   "metadata": {},
   "outputs": [
    {
     "name": "stderr",
     "output_type": "stream",
     "text": [
      "100%|██████████████████████████████████████████████████████████████████████████████████| 10/10 [00:26<00:00,  2.67s/it]\n"
     ]
    }
   ],
   "source": [
    "# Run the logit model to calculate probabilities\n",
    "sm.step_logit()"
   ]
  },
  {
   "cell_type": "code",
   "execution_count": 28,
   "metadata": {},
   "outputs": [
    {
     "name": "stdout",
     "output_type": "stream",
     "text": [
      "(801975, 9)\n",
      "(801975, 9)\n"
     ]
    }
   ],
   "source": [
    "print(sm.probabilities.shape)\n",
    "print(sm.utilities.shape)"
   ]
  },
  {
   "cell_type": "code",
   "execution_count": 29,
   "metadata": {},
   "outputs": [
    {
     "data": {
      "text/html": [
       "<div>\n",
       "<style scoped>\n",
       "    .dataframe tbody tr th:only-of-type {\n",
       "        vertical-align: middle;\n",
       "    }\n",
       "\n",
       "    .dataframe tbody tr th {\n",
       "        vertical-align: top;\n",
       "    }\n",
       "\n",
       "    .dataframe thead th {\n",
       "        text-align: right;\n",
       "    }\n",
       "</style>\n",
       "<table border=\"1\" class=\"dataframe\">\n",
       "  <thead>\n",
       "    <tr style=\"text-align: right;\">\n",
       "      <th>route_type</th>\n",
       "      <th>origin</th>\n",
       "      <th>destination</th>\n",
       "      <th>segment</th>\n",
       "      <th>root</th>\n",
       "      <th>walk</th>\n",
       "      <th>car</th>\n",
       "      <th>air</th>\n",
       "      <th>bus</th>\n",
       "      <th>rail</th>\n",
       "    </tr>\n",
       "  </thead>\n",
       "  <tbody>\n",
       "    <tr>\n",
       "      <th>11463</th>\n",
       "      <td>DE217</td>\n",
       "      <td>DEA5C</td>\n",
       "      <td>Fz4</td>\n",
       "      <td>1</td>\n",
       "      <td>0.0</td>\n",
       "      <td>0.812189</td>\n",
       "      <td>0.062246</td>\n",
       "      <td>0.000000</td>\n",
       "      <td>0.125565</td>\n",
       "    </tr>\n",
       "    <tr>\n",
       "      <th>72954</th>\n",
       "      <td>DED2F</td>\n",
       "      <td>DE80J</td>\n",
       "      <td>Fz6</td>\n",
       "      <td>1</td>\n",
       "      <td>0.0</td>\n",
       "      <td>0.842962</td>\n",
       "      <td>0.000000</td>\n",
       "      <td>0.000000</td>\n",
       "      <td>0.157038</td>\n",
       "    </tr>\n",
       "    <tr>\n",
       "      <th>22696</th>\n",
       "      <td>DE222</td>\n",
       "      <td>DE300</td>\n",
       "      <td>Fz2</td>\n",
       "      <td>1</td>\n",
       "      <td>0.0</td>\n",
       "      <td>0.238693</td>\n",
       "      <td>0.000000</td>\n",
       "      <td>0.721217</td>\n",
       "      <td>0.040090</td>\n",
       "    </tr>\n",
       "  </tbody>\n",
       "</table>\n",
       "</div>"
      ],
      "text/plain": [
       "route_type origin destination segment  root  walk       car       air  \\\n",
       "11463       DE217       DEA5C     Fz4     1   0.0  0.812189  0.062246   \n",
       "72954       DED2F       DE80J     Fz6     1   0.0  0.842962  0.000000   \n",
       "22696       DE222       DE300     Fz2     1   0.0  0.238693  0.000000   \n",
       "\n",
       "route_type       bus      rail  \n",
       "11463       0.000000  0.125565  \n",
       "72954       0.000000  0.157038  \n",
       "22696       0.721217  0.040090  "
      ]
     },
     "execution_count": 29,
     "metadata": {},
     "output_type": "execute_result"
    }
   ],
   "source": [
    "sm.probabilities.sample(n=3)"
   ]
  },
  {
   "cell_type": "code",
   "execution_count": 30,
   "metadata": {},
   "outputs": [
    {
     "data": {
      "text/html": [
       "<div>\n",
       "<style scoped>\n",
       "    .dataframe tbody tr th:only-of-type {\n",
       "        vertical-align: middle;\n",
       "    }\n",
       "\n",
       "    .dataframe tbody tr th {\n",
       "        vertical-align: top;\n",
       "    }\n",
       "\n",
       "    .dataframe thead th {\n",
       "        text-align: right;\n",
       "    }\n",
       "</style>\n",
       "<table border=\"1\" class=\"dataframe\">\n",
       "  <thead>\n",
       "    <tr style=\"text-align: right;\">\n",
       "      <th>route_type</th>\n",
       "      <th>origin</th>\n",
       "      <th>destination</th>\n",
       "      <th>segment</th>\n",
       "      <th>root</th>\n",
       "      <th>walk</th>\n",
       "      <th>car</th>\n",
       "      <th>air</th>\n",
       "      <th>bus</th>\n",
       "      <th>rail</th>\n",
       "    </tr>\n",
       "  </thead>\n",
       "  <tbody>\n",
       "    <tr>\n",
       "      <th>41842</th>\n",
       "      <td>DE939</td>\n",
       "      <td>DEF07</td>\n",
       "      <td>Fz3</td>\n",
       "      <td>-4.420958</td>\n",
       "      <td>-inf</td>\n",
       "      <td>-4.463991</td>\n",
       "      <td>-inf</td>\n",
       "      <td>-inf</td>\n",
       "      <td>-7.588185</td>\n",
       "    </tr>\n",
       "    <tr>\n",
       "      <th>16274</th>\n",
       "      <td>DE403</td>\n",
       "      <td>DE21B</td>\n",
       "      <td>Fz6</td>\n",
       "      <td>-3.800603</td>\n",
       "      <td>-inf</td>\n",
       "      <td>-3.843375</td>\n",
       "      <td>-inf</td>\n",
       "      <td>-inf</td>\n",
       "      <td>-6.973785</td>\n",
       "    </tr>\n",
       "    <tr>\n",
       "      <th>38029</th>\n",
       "      <td>DEA1A</td>\n",
       "      <td>DE116</td>\n",
       "      <td>Fz6</td>\n",
       "      <td>-3.023433</td>\n",
       "      <td>-inf</td>\n",
       "      <td>-3.135359</td>\n",
       "      <td>-inf</td>\n",
       "      <td>-6.559312</td>\n",
       "      <td>-5.590549</td>\n",
       "    </tr>\n",
       "  </tbody>\n",
       "</table>\n",
       "</div>"
      ],
      "text/plain": [
       "route_type origin destination segment      root  walk       car  air  \\\n",
       "41842       DE939       DEF07     Fz3 -4.420958  -inf -4.463991 -inf   \n",
       "16274       DE403       DE21B     Fz6 -3.800603  -inf -3.843375 -inf   \n",
       "38029       DEA1A       DE116     Fz6 -3.023433  -inf -3.135359 -inf   \n",
       "\n",
       "route_type       bus      rail  \n",
       "41842           -inf -7.588185  \n",
       "16274           -inf -6.973785  \n",
       "38029      -6.559312 -5.590549  "
      ]
     },
     "execution_count": 30,
     "metadata": {},
     "output_type": "execute_result"
    }
   ],
   "source": [
    "sm.utilities.sample(n=3)"
   ]
  },
  {
   "cell_type": "code",
   "execution_count": 31,
   "metadata": {},
   "outputs": [
    {
     "data": {
      "text/html": [
       "<div>\n",
       "<style scoped>\n",
       "    .dataframe tbody tr th:only-of-type {\n",
       "        vertical-align: middle;\n",
       "    }\n",
       "\n",
       "    .dataframe tbody tr th {\n",
       "        vertical-align: top;\n",
       "    }\n",
       "\n",
       "    .dataframe thead th {\n",
       "        text-align: right;\n",
       "    }\n",
       "</style>\n",
       "<table border=\"1\" class=\"dataframe\">\n",
       "  <thead>\n",
       "    <tr style=\"text-align: right;\">\n",
       "      <th></th>\n",
       "      <th>access_time</th>\n",
       "      <th>accessibility</th>\n",
       "      <th>destination</th>\n",
       "      <th>footpath_time</th>\n",
       "      <th>in_vehicle_time</th>\n",
       "      <th>length</th>\n",
       "      <th>link_path</th>\n",
       "      <th>ntransfers</th>\n",
       "      <th>origin</th>\n",
       "      <th>path</th>\n",
       "      <th>...</th>\n",
       "      <th>(Fz1, utility)</th>\n",
       "      <th>(Fz2, utility)</th>\n",
       "      <th>(Fz3, utility)</th>\n",
       "      <th>(Fz4, utility)</th>\n",
       "      <th>(Fz6, utility)</th>\n",
       "      <th>(Fz1, probability)</th>\n",
       "      <th>(Fz2, probability)</th>\n",
       "      <th>(Fz3, probability)</th>\n",
       "      <th>(Fz4, probability)</th>\n",
       "      <th>(Fz6, probability)</th>\n",
       "    </tr>\n",
       "  </thead>\n",
       "  <tbody>\n",
       "    <tr>\n",
       "      <th>520972</th>\n",
       "      <td>2103</td>\n",
       "      <td>NaN</td>\n",
       "      <td>DE40G</td>\n",
       "      <td>207</td>\n",
       "      <td>10200</td>\n",
       "      <td>262752</td>\n",
       "      <td>[rs_28476, rs_28477, rs_28478, rs_28479, rs_28...</td>\n",
       "      <td>4</td>\n",
       "      <td>DEG07</td>\n",
       "      <td>NaN</td>\n",
       "      <td>...</td>\n",
       "      <td>-11.207938</td>\n",
       "      <td>-5.583319</td>\n",
       "      <td>-9.80607</td>\n",
       "      <td>-8.086883</td>\n",
       "      <td>-6.329315</td>\n",
       "      <td>0.006772</td>\n",
       "      <td>0.059852</td>\n",
       "      <td>0.010811</td>\n",
       "      <td>0.04259</td>\n",
       "      <td>0.029453</td>\n",
       "    </tr>\n",
       "  </tbody>\n",
       "</table>\n",
       "<p>1 rows × 33 columns</p>\n",
       "</div>"
      ],
      "text/plain": [
       "        access_time  accessibility destination footpath_time  in_vehicle_time  \\\n",
       "520972         2103            NaN       DE40G           207            10200   \n",
       "\n",
       "        length                                          link_path  ntransfers  \\\n",
       "520972  262752  [rs_28476, rs_28477, rs_28478, rs_28479, rs_28...           4   \n",
       "\n",
       "       origin  path  ...  (Fz1, utility) (Fz2, utility)  (Fz3, utility)  \\\n",
       "520972  DEG07   NaN  ...      -11.207938      -5.583319        -9.80607   \n",
       "\n",
       "       (Fz4, utility)  (Fz6, utility) (Fz1, probability)  (Fz2, probability)  \\\n",
       "520972      -8.086883       -6.329315           0.006772            0.059852   \n",
       "\n",
       "        (Fz3, probability)  (Fz4, probability)  (Fz6, probability)  \n",
       "520972            0.010811             0.04259            0.029453  \n",
       "\n",
       "[1 rows x 33 columns]"
      ]
     },
     "execution_count": 31,
     "metadata": {},
     "output_type": "execute_result"
    }
   ],
   "source": [
    "sm.los.sample()"
   ]
  },
  {
   "cell_type": "code",
   "execution_count": 32,
   "metadata": {},
   "outputs": [
    {
     "name": "stdout",
     "output_type": "stream",
     "text": [
      "1.0\n",
      "1.0000000000000002\n",
      "0.9999999999999998\n"
     ]
    }
   ],
   "source": [
    "# Validate that probabilities sum up to one\n",
    "od = sm.los.groupby(['origin', 'destination']).sum()[\n",
    "    [(seg, 'probability') for seg in sm.segments]].mean(axis=1)\n",
    "print(od.mean())\n",
    "print(od.max())\n",
    "print(od.min())"
   ]
  },
  {
   "cell_type": "markdown",
   "metadata": {},
   "source": [
    "## Save model"
   ]
  },
  {
   "cell_type": "code",
   "execution_count": 33,
   "metadata": {},
   "outputs": [
    {
     "name": "stderr",
     "output_type": "stream",
     "text": [
      "to_hdf(overwriting): 100%|█████████████████████████████████████████████████████████████| 38/38 [00:10<00:00,  3.47it/s]\n"
     ]
    }
   ],
   "source": [
    "sm.utilities.reset_index(drop=True, inplace=True)\n",
    "sm.probabilities.reset_index(drop=True, inplace=True)\n",
    "sm.to_json(model_path + 'de_logit', only_attributes=[\n",
    "    'segments', 'mode_nests', 'logit_scales', 'mode_utility',\n",
    "    'utility_values', 'probabilities', 'utilities'],\n",
    "           encoding='utf-8')"
   ]
  },
  {
   "cell_type": "code",
   "execution_count": 34,
   "metadata": {},
   "outputs": [
    {
     "name": "stderr",
     "output_type": "stream",
     "text": [
      "to_hdf(overwriting): 100%|█████████████████████████████████████████████████████████████| 38/38 [00:12<00:00,  3.16it/s]\n",
      "to_hdf(overwriting): 100%|█████████████████████████████████████████████████████████████| 39/39 [00:16<00:00,  2.41it/s]\n"
     ]
    }
   ],
   "source": [
    "# Save LoS table\n",
    "sm.los.drop(list(sm.utility_values.index), axis=1, errors='ignore', inplace=True)\n",
    "sm.pt_los = sm.los.loc[sm.los['route_type']!='car']\n",
    "sm.to_json(model_path + 'de_pt_los', only_attributes=['pt_los'],\n",
    "           encoding='utf-8')\n",
    "sm.car_los = sm.los.loc[sm.los['route_type']=='car']\n",
    "sm.to_json(model_path + 'de_road_los', only_attributes=['car_los'],\n",
    "           encoding='utf-8')"
   ]
  },
  {
   "cell_type": "code",
   "execution_count": 35,
   "metadata": {},
   "outputs": [
    {
     "data": {
      "image/png": "[encoded data removed]",
      "text/plain": [
       "<Figure size 1152x1080 with 25 Axes>"
      ]
     },
     "metadata": {
      "needs_background": "light"
     },
     "output_type": "display_data"
    }
   ],
   "source": [
    "# Distance-distribution of probabilities\n",
    "if manual:\n",
    "    merged = sm.probabilities.merge(car.car_los[['origin', 'destination', 'length']],\n",
    "                                    on=['origin', 'destination'], how='inner')\n",
    "    fig, ax = plt.subplots(nrows=len(segments), ncols=len(route_types),\n",
    "                           sharex='all', sharey='all', figsize=(16,len(segments)*3))\n",
    "    for j, mode in zip(range(len(route_types)), route_types):\n",
    "        for i, seg in zip(range(len(segments)), segments):\n",
    "            x = merged.loc[merged['segment']==seg, 'length'] / 1000\n",
    "            y = merged.loc[merged['segment']==seg, mode]\n",
    "            ax[i,j].scatter(x, y, marker='o', s=.15, alpha=.1, label=mode+' '+seg)\n",
    "            #p = np.poly1d(np.polyfit(x, y, deg=3))\n",
    "            #ax[i,j].plot(x, p(x), linestyle='', marker='o', markersize=.5, color='grey', label=mode+' '+seg)\n",
    "            ax[i,j].legend()"
   ]
  },
  {
   "cell_type": "markdown",
   "metadata": {},
   "source": [
    "### Save composite generalised cost\n",
    "For sequential destination choice modelling"
   ]
  },
  {
   "cell_type": "code",
   "execution_count": 36,
   "metadata": {},
   "outputs": [],
   "source": [
    "# Formula to calculate composite cost\n",
    "def composite_cost(od, beta, seg):\n",
    "    # Given a DataFrame of cost attribute values by segment\n",
    "    # with MultiIndex [origin, destination]\n",
    "    exp_sum = np.exp(np.multiply(od[seg].T, -beta)).sum()\n",
    "    cgc = -1/beta * np.log(exp_sum)\n",
    "    return cgc"
   ]
  },
  {
   "cell_type": "code",
   "execution_count": 37,
   "metadata": {},
   "outputs": [],
   "source": [
    "# Prepare beta values\n",
    "beta_dict = {}\n",
    "for s in segments:\n",
    "    beta_dict.update({s: {'c': params_est[segments.index(s)].loc['b_c', 'Value'],\n",
    "                          't': params_est[segments.index(s)].loc['b_t', 'Value']}\n",
    "                     })"
   ]
  },
  {
   "cell_type": "code",
   "execution_count": 38,
   "metadata": {},
   "outputs": [],
   "source": [
    "# Generate time DataFrame from LoS matrix\n",
    "t = sm.los[['origin', 'destination']]\n",
    "for s in segments:\n",
    "    c1 = c['c1_time_'+s[-1]]\n",
    "    c2 = c['c2_time_'+s[-1]]\n",
    "    beta = beta_dict[s]['t']\n",
    "    t[s] = [spline(t*60, beta, c1*60, c2*60) for t in sm.los['time']]"
   ]
  },
  {
   "cell_type": "code",
   "execution_count": 69,
   "metadata": {},
   "outputs": [],
   "source": [
    "# Calculate composite cost for time by segment\n",
    "times = {}\n",
    "for s in segments:\n",
    "    seg = t.groupby(['origin', 'destination']).apply(composite_cost, 1, s)\n",
    "    seg /= beta_dict[s]['t'] # Because 1 is given as beta to composite cost function\n",
    "    times[s] = seg"
   ]
  },
  {
   "cell_type": "code",
   "execution_count": 73,
   "metadata": {},
   "outputs": [],
   "source": [
    "# Save composite time cost\n",
    "df = pd.DataFrame(index=times[segments[0]].index)\n",
    "for seg, series in times.items():\n",
    "    df[seg] = series\n",
    "df.to_csv(output_path + 'mode_choice_od_cc_time_'+scenario+'.csv')"
   ]
  },
  {
   "cell_type": "code",
   "execution_count": 50,
   "metadata": {},
   "outputs": [],
   "source": [
    "# Same for price attribute\n",
    "c = sm.los[['origin', 'destination']]\n",
    "# Only for segments where price is relevant to mode choice\n",
    "segs = [s for s in segments if beta_dict[s]['c']!=0]\n",
    "for s in segs:\n",
    "    c[s] = sm.los['price']"
   ]
  },
  {
   "cell_type": "code",
   "execution_count": 51,
   "metadata": {},
   "outputs": [],
   "source": [
    "# Calculate composite cost for price by segment\n",
    "prices = {}\n",
    "for s in segs:\n",
    "    beta = beta_dict[s]['c']\n",
    "    seg = c.groupby(['origin', 'destination']).apply(composite_cost, beta, s)\n",
    "    prices[s] = seg"
   ]
  },
  {
   "cell_type": "code",
   "execution_count": 55,
   "metadata": {},
   "outputs": [],
   "source": [
    "# Save composite price cost\n",
    "df = pd.DataFrame(index=prices[segments[0]].index)\n",
    "for seg, series in prices.items():\n",
    "    df[seg] = series\n",
    "df.to_csv(output_path + 'mode_choice_od_cc_price_'+scenario+'.csv')"
   ]
  }
 ],
 "metadata": {
  "kernelspec": {
   "display_name": "Python 3",
   "language": "python",
   "name": "python3"
  },
  "language_info": {
   "codemirror_mode": {
    "name": "ipython",
    "version": 3
   },
   "file_extension": ".py",
   "mimetype": "text/x-python",
   "name": "python",
   "nbconvert_exporter": "python",
   "pygments_lexer": "ipython3",
   "version": "3.8.1"
  }
 },
 "nbformat": 4,
 "nbformat_minor": 4
}
