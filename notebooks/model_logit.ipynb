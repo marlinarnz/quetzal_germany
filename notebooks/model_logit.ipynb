{
 "cells": [
  {
   "cell_type": "code",
   "execution_count": 1,
   "metadata": {},
   "outputs": [
    {
     "name": "stderr",
     "output_type": "stream",
     "text": [
      "In C:\\Users\\marlin.arnz\\AppData\\Local\\Continuum\\miniconda3\\envs\\quetzal\\lib\\site-packages\\matplotlib\\mpl-data\\stylelib\\_classic_test.mplstyle: \n",
      "The text.latex.preview rcparam was deprecated in Matplotlib 3.3 and will be removed two minor releases later.\n",
      "In C:\\Users\\marlin.arnz\\AppData\\Local\\Continuum\\miniconda3\\envs\\quetzal\\lib\\site-packages\\matplotlib\\mpl-data\\stylelib\\_classic_test.mplstyle: \n",
      "The mathtext.fallback_to_cm rcparam was deprecated in Matplotlib 3.3 and will be removed two minor releases later.\n",
      "In C:\\Users\\marlin.arnz\\AppData\\Local\\Continuum\\miniconda3\\envs\\quetzal\\lib\\site-packages\\matplotlib\\mpl-data\\stylelib\\_classic_test.mplstyle: Support for setting the 'mathtext.fallback_to_cm' rcParam is deprecated since 3.3 and will be removed two minor releases later; use 'mathtext.fallback : 'cm' instead.\n",
      "In C:\\Users\\marlin.arnz\\AppData\\Local\\Continuum\\miniconda3\\envs\\quetzal\\lib\\site-packages\\matplotlib\\mpl-data\\stylelib\\_classic_test.mplstyle: \n",
      "The validate_bool_maybe_none function was deprecated in Matplotlib 3.3 and will be removed two minor releases later.\n",
      "In C:\\Users\\marlin.arnz\\AppData\\Local\\Continuum\\miniconda3\\envs\\quetzal\\lib\\site-packages\\matplotlib\\mpl-data\\stylelib\\_classic_test.mplstyle: \n",
      "The savefig.jpeg_quality rcparam was deprecated in Matplotlib 3.3 and will be removed two minor releases later.\n",
      "In C:\\Users\\marlin.arnz\\AppData\\Local\\Continuum\\miniconda3\\envs\\quetzal\\lib\\site-packages\\matplotlib\\mpl-data\\stylelib\\_classic_test.mplstyle: \n",
      "The keymap.all_axes rcparam was deprecated in Matplotlib 3.3 and will be removed two minor releases later.\n",
      "In C:\\Users\\marlin.arnz\\AppData\\Local\\Continuum\\miniconda3\\envs\\quetzal\\lib\\site-packages\\matplotlib\\mpl-data\\stylelib\\_classic_test.mplstyle: \n",
      "The animation.avconv_path rcparam was deprecated in Matplotlib 3.3 and will be removed two minor releases later.\n",
      "In C:\\Users\\marlin.arnz\\AppData\\Local\\Continuum\\miniconda3\\envs\\quetzal\\lib\\site-packages\\matplotlib\\mpl-data\\stylelib\\_classic_test.mplstyle: \n",
      "The animation.avconv_args rcparam was deprecated in Matplotlib 3.3 and will be removed two minor releases later.\n"
     ]
    }
   ],
   "source": [
    "import sys # for automation and parallelisation\n",
    "manual, scenario = (True, 'base') if 'ipykernel' in sys.argv[0] else (False, sys.argv[1])\n",
    "if manual:\n",
    "    %matplotlib inline"
   ]
  },
  {
   "cell_type": "code",
   "execution_count": 2,
   "metadata": {},
   "outputs": [],
   "source": [
    "import numpy as np\n",
    "import pandas as pd\n",
    "import matplotlib.pyplot as plt\n",
    "from quetzal.model import stepmodel\n",
    "from quetzal.io import excel"
   ]
  },
  {
   "cell_type": "markdown",
   "metadata": {},
   "source": [
    "# Logit model step\n",
    "## Needs LoS tables and calibration parameters\n",
    "## Saves logit probabilities and utilities"
   ]
  },
  {
   "cell_type": "code",
   "execution_count": 3,
   "metadata": {},
   "outputs": [],
   "source": [
    "input_path = '../input/'\n",
    "output_path = '../output/'\n",
    "model_path = '../model/' + scenario + '/'"
   ]
  },
  {
   "cell_type": "code",
   "execution_count": 4,
   "metadata": {},
   "outputs": [],
   "source": [
    "# Load parameters for settings\n",
    "params = excel.read_var(file='../input/parameters.xls', scenario=scenario)"
   ]
  },
  {
   "cell_type": "code",
   "execution_count": 5,
   "metadata": {},
   "outputs": [],
   "source": [
    "sm = stepmodel.read_json(model_path + 'de_pt_los')\n",
    "car = stepmodel.read_json(model_path + 'de_road_los')"
   ]
  },
  {
   "cell_type": "code",
   "execution_count": 6,
   "metadata": {},
   "outputs": [
    {
     "data": {
      "text/plain": [
       "5.456985898908219"
      ]
     },
     "execution_count": 6,
     "metadata": {},
     "output_type": "execute_result"
    }
   ],
   "source": [
    "# Scale time to hours\n",
    "if sm.pt_los['time'].mean() > 3600:\n",
    "    sm.pt_los['time'] = sm.pt_los['time'] / 3600\n",
    "elif sm.pt_los['time'].mean() < 10/3600:\n",
    "    sm.pt_los['time'] = sm.pt_los['time'] * 3600\n",
    "sm.pt_los['time'].mean()"
   ]
  },
  {
   "cell_type": "code",
   "execution_count": 7,
   "metadata": {},
   "outputs": [
    {
     "data": {
      "text/plain": [
       "4.371867598400412"
      ]
     },
     "execution_count": 7,
     "metadata": {},
     "output_type": "execute_result"
    }
   ],
   "source": [
    "if car.car_los['time'].mean() > 3600:\n",
    "    car.car_los['time'] = car.car_los['time'] / 3600\n",
    "car.car_los['time'].mean()"
   ]
  },
  {
   "cell_type": "code",
   "execution_count": 8,
   "metadata": {},
   "outputs": [],
   "source": [
    "# Define route types for the choice tree\n",
    "route_types = ['rail',#'rail_long', 'rail_short',\n",
    "               'bus',#'coach', 'bus',\n",
    "               'air','car', 'walk']"
   ]
  },
  {
   "cell_type": "code",
   "execution_count": 9,
   "metadata": {},
   "outputs": [],
   "source": [
    "# Aggregate route types rail and road PT\n",
    "type_dict = {'rail_long': 'rail', 'rail_short': 'rail', 'rail': 'rail',\n",
    "             'coach': 'bus', 'bus': 'bus',\n",
    "             'air': 'air', 'car': 'car', 'walk': 'walk'}\n",
    "assert set(route_types).issubset(set(type_dict.keys()))\n",
    "if 'rail_short' in sm.pt_los['route_type']:\n",
    "    sm.pt_los['route_type_disagg'] = sm.pt_los['route_type'].copy()\n",
    "sm.pt_los['route_type'] = sm.pt_los['route_type'].map(type_dict)"
   ]
  },
  {
   "cell_type": "code",
   "execution_count": 10,
   "metadata": {},
   "outputs": [
    {
     "data": {
      "text/html": [
       "<div>\n",
       "<style scoped>\n",
       "    .dataframe tbody tr th:only-of-type {\n",
       "        vertical-align: middle;\n",
       "    }\n",
       "\n",
       "    .dataframe tbody tr th {\n",
       "        vertical-align: top;\n",
       "    }\n",
       "\n",
       "    .dataframe thead th {\n",
       "        text-align: right;\n",
       "    }\n",
       "</style>\n",
       "<table border=\"1\" class=\"dataframe\">\n",
       "  <thead>\n",
       "    <tr style=\"text-align: right;\">\n",
       "      <th></th>\n",
       "      <th>access_time</th>\n",
       "      <th>destination</th>\n",
       "      <th>footpath_time</th>\n",
       "      <th>in_vehicle_time</th>\n",
       "      <th>length</th>\n",
       "      <th>link_path</th>\n",
       "      <th>ntransfers</th>\n",
       "      <th>origin</th>\n",
       "      <th>price</th>\n",
       "      <th>route_type</th>\n",
       "      <th>route_types</th>\n",
       "      <th>time</th>\n",
       "      <th>waiting_time</th>\n",
       "    </tr>\n",
       "    <tr>\n",
       "      <th>index</th>\n",
       "      <th></th>\n",
       "      <th></th>\n",
       "      <th></th>\n",
       "      <th></th>\n",
       "      <th></th>\n",
       "      <th></th>\n",
       "      <th></th>\n",
       "      <th></th>\n",
       "      <th></th>\n",
       "      <th></th>\n",
       "      <th></th>\n",
       "      <th></th>\n",
       "      <th></th>\n",
       "    </tr>\n",
       "  </thead>\n",
       "  <tbody>\n",
       "    <tr>\n",
       "      <th>475333</th>\n",
       "      <td>2440</td>\n",
       "      <td>DE922</td>\n",
       "      <td>948</td>\n",
       "      <td>7335</td>\n",
       "      <td>458773</td>\n",
       "      <td>[bus_1211782, bus_1211783, bus_1819087, bus_15...</td>\n",
       "      <td>7</td>\n",
       "      <td>DED43</td>\n",
       "      <td>57.0</td>\n",
       "      <td>air</td>\n",
       "      <td>[bus, air]</td>\n",
       "      <td>4.895556</td>\n",
       "      <td>6900</td>\n",
       "    </tr>\n",
       "  </tbody>\n",
       "</table>\n",
       "</div>"
      ],
      "text/plain": [
       "        access_time destination  footpath_time  in_vehicle_time  length  \\\n",
       "index                                                                     \n",
       "475333         2440       DE922            948             7335  458773   \n",
       "\n",
       "                                                link_path  ntransfers origin  \\\n",
       "index                                                                          \n",
       "475333  [bus_1211782, bus_1211783, bus_1819087, bus_15...           7  DED43   \n",
       "\n",
       "        price route_type route_types      time  waiting_time  \n",
       "index                                                         \n",
       "475333   57.0        air  [bus, air]  4.895556          6900  "
      ]
     },
     "execution_count": 10,
     "metadata": {},
     "output_type": "execute_result"
    }
   ],
   "source": [
    "sm.pt_los.sample()"
   ]
  },
  {
   "cell_type": "code",
   "execution_count": 11,
   "metadata": {},
   "outputs": [
    {
     "data": {
      "text/plain": [
       "713901"
      ]
     },
     "execution_count": 11,
     "metadata": {},
     "output_type": "execute_result"
    }
   ],
   "source": [
    "# Create LoS table\n",
    "sm.los = pd.concat([sm.pt_los, car.car_los])\n",
    "sm.los.reset_index(drop=True, inplace=True)\n",
    "len(sm.los)"
   ]
  },
  {
   "cell_type": "code",
   "execution_count": 12,
   "metadata": {},
   "outputs": [],
   "source": [
    "sm.los.drop([col for col in sm.los.columns if col.startswith('(')],\n",
    "            axis=1, inplace=True, errors='ignore')"
   ]
  },
  {
   "cell_type": "code",
   "execution_count": 13,
   "metadata": {},
   "outputs": [
    {
     "data": {
      "text/plain": [
       "707120"
      ]
     },
     "execution_count": 13,
     "metadata": {},
     "output_type": "execute_result"
    }
   ],
   "source": [
    "# Clean LoS table\n",
    "sm.los = sm.los.loc[sm.los['time']>0]\n",
    "sm.los = sm.los.loc[sm.los['length']<=1000000]\n",
    "len(sm.los)"
   ]
  },
  {
   "cell_type": "code",
   "execution_count": 14,
   "metadata": {},
   "outputs": [],
   "source": [
    "# Make route types hashable\n",
    "sm.los['route_types'] = sm.los['route_types'].apply(tuple)"
   ]
  },
  {
   "cell_type": "markdown",
   "metadata": {},
   "source": [
    "## Prepare the logit model\n",
    "\n",
    "Load parameters and generate LoS columns"
   ]
  },
  {
   "cell_type": "code",
   "execution_count": 15,
   "metadata": {},
   "outputs": [],
   "source": [
    "# Transport demand segments: the cartesian product of\n",
    "# trip purposes and car ownership\n",
    "#segments_tuple = [('Fz'+str(p), car) for p in [1,2,3,4,6] for car in [0,1]]\n",
    "# Convert tuple segments to strings in order to prevent issues\n",
    "#segments = [str(seg) for seg in segments_tuple]\n",
    "# Just trip purposes\n",
    "segments =  ['Fz'+str(p) for p in [1,2,3,4,6]]"
   ]
  },
  {
   "cell_type": "code",
   "execution_count": 16,
   "metadata": {},
   "outputs": [
    {
     "data": {
      "text/plain": [
       "\"# Take the same VoT for every segment\\nsm.los['gc'] = sm.los['time'] + [c / vot['root', m_dict[m]][int(d/1000)]\\n    if m!='walk' else 0 for c,d,m in zip(sm.los['price'], sm.los['length'], sm.los['route_type'])]\\n\""
      ]
     },
     "execution_count": 16,
     "metadata": {},
     "output_type": "execute_result"
    }
   ],
   "source": [
    "# Create a column for generalised cost, see cal20\n",
    "#vot = pd.read_csv(input_path + 'vot.csv', header=[0,1], index_col=0).to_dict()\n",
    "m_dict = {'rail_long': 'PT', 'rail_short': 'PT', 'rail': 'PT',\n",
    "          'coach': 'PT', 'bus': 'PT', 'air': 'air', 'car': 'car'}\n",
    "'''# Take averages over distances\n",
    "vot = {('Fz1', 'PT'): 4.47, ('Fz1', 'air'): 33.67, ('Fz1', 'car'): 4.87,\n",
    "       ('Fz2', 'PT'): 4.39, ('Fz2', 'air'): 33.67, ('Fz2', 'car'): 3.9,\n",
    "       ('Fz3', 'PT'): 5.11, ('Fz3', 'air'): 33.67, ('Fz3', 'car'): 4.29,\n",
    "       ('Fz4', 'PT'): 7.01, ('Fz4', 'air'): 38.76, ('Fz4', 'car'): 8.5,\n",
    "       ('Fz6', 'PT'): 4.35, ('Fz6', 'air'): 25.45, ('Fz6', 'car'): 4.35}'''\n",
    "'''# Take the same VoT for every segment\n",
    "sm.los['gc'] = sm.los['time'] + [c / vot['root', m_dict[m]][int(d/1000)]\n",
    "    if m!='walk' else 0 for c,d,m in zip(sm.los['price'], sm.los['length'], sm.los['route_type'])]\n",
    "'''\n",
    "# Take segment-specific VoT\n",
    "#for s in segments_tuple:\n",
    "#    sm.los[(str(s), 'gc')] = sm.los['time'] + [c / vot[s[0], 'all'][int(d/1000)] # m_dict[m] for mode-specific instead of all\n",
    "#        if m!='walk' else 0 for c,d,m in zip(\n",
    "#            sm.los['price'], sm.los['length'], sm.los['route_type'])]"
   ]
  },
  {
   "cell_type": "code",
   "execution_count": 17,
   "metadata": {},
   "outputs": [],
   "source": [
    "# Load estimation results\n",
    "excel = pd.ExcelFile(input_path + 'estimation_results.xls')\n",
    "params_est = []\n",
    "for segment in range(2, len(segments)+2): # First two sheets are all purposes\n",
    "    df = excel.parse(segment)\n",
    "    params_est.append(df.set_index(df.columns[0]))"
   ]
  },
  {
   "cell_type": "code",
   "execution_count": 18,
   "metadata": {},
   "outputs": [
    {
     "data": {
      "text/html": [
       "<div>\n",
       "<style scoped>\n",
       "    .dataframe tbody tr th:only-of-type {\n",
       "        vertical-align: middle;\n",
       "    }\n",
       "\n",
       "    .dataframe tbody tr th {\n",
       "        vertical-align: top;\n",
       "    }\n",
       "\n",
       "    .dataframe thead th {\n",
       "        text-align: right;\n",
       "    }\n",
       "</style>\n",
       "<table border=\"1\" class=\"dataframe\">\n",
       "  <thead>\n",
       "    <tr style=\"text-align: right;\">\n",
       "      <th>segment</th>\n",
       "      <th>Fz1</th>\n",
       "      <th>Fz2</th>\n",
       "      <th>Fz3</th>\n",
       "      <th>Fz4</th>\n",
       "      <th>Fz6</th>\n",
       "    </tr>\n",
       "    <tr>\n",
       "      <th>route_type</th>\n",
       "      <th></th>\n",
       "      <th></th>\n",
       "      <th></th>\n",
       "      <th></th>\n",
       "      <th></th>\n",
       "    </tr>\n",
       "  </thead>\n",
       "  <tbody>\n",
       "    <tr>\n",
       "      <th>rail</th>\n",
       "      <td>root</td>\n",
       "      <td>root</td>\n",
       "      <td>root</td>\n",
       "      <td>root</td>\n",
       "      <td>root</td>\n",
       "    </tr>\n",
       "    <tr>\n",
       "      <th>bus</th>\n",
       "      <td>root</td>\n",
       "      <td>root</td>\n",
       "      <td>root</td>\n",
       "      <td>root</td>\n",
       "      <td>root</td>\n",
       "    </tr>\n",
       "    <tr>\n",
       "      <th>air</th>\n",
       "      <td>root</td>\n",
       "      <td>root</td>\n",
       "      <td>root</td>\n",
       "      <td>root</td>\n",
       "      <td>root</td>\n",
       "    </tr>\n",
       "    <tr>\n",
       "      <th>car</th>\n",
       "      <td>root</td>\n",
       "      <td>root</td>\n",
       "      <td>root</td>\n",
       "      <td>root</td>\n",
       "      <td>root</td>\n",
       "    </tr>\n",
       "    <tr>\n",
       "      <th>walk</th>\n",
       "      <td>root</td>\n",
       "      <td>root</td>\n",
       "      <td>root</td>\n",
       "      <td>root</td>\n",
       "      <td>root</td>\n",
       "    </tr>\n",
       "    <tr>\n",
       "      <th>root</th>\n",
       "      <td>NaN</td>\n",
       "      <td>NaN</td>\n",
       "      <td>NaN</td>\n",
       "      <td>NaN</td>\n",
       "      <td>NaN</td>\n",
       "    </tr>\n",
       "  </tbody>\n",
       "</table>\n",
       "</div>"
      ],
      "text/plain": [
       "segment      Fz1   Fz2   Fz3   Fz4   Fz6\n",
       "route_type                              \n",
       "rail        root  root  root  root  root\n",
       "bus         root  root  root  root  root\n",
       "air         root  root  root  root  root\n",
       "car         root  root  root  root  root\n",
       "walk        root  root  root  root  root\n",
       "root         NaN   NaN   NaN   NaN   NaN"
      ]
     },
     "execution_count": 18,
     "metadata": {},
     "output_type": "execute_result"
    }
   ],
   "source": [
    "# The nested logit structure can be set for each segment\n",
    "# It must be the same as in the estimation\n",
    "segs = segments + ['root']\n",
    "col = ['root']*len(route_types) + [np.nan] #['pt']*(len(route_types)-3) + ['root']*4 + [np.nan]\n",
    "nests = pd.DataFrame(index=route_types+['root'], #['pt', 'root'],\n",
    "                     data={s: col for s in segments})\n",
    "nests.index.name = 'route_type'\n",
    "nests.columns.name = 'segment'\n",
    "sm.mode_nests = nests\n",
    "sm.mode_nests"
   ]
  },
  {
   "cell_type": "code",
   "execution_count": 19,
   "metadata": {},
   "outputs": [
    {
     "data": {
      "text/html": [
       "<div>\n",
       "<style scoped>\n",
       "    .dataframe tbody tr th:only-of-type {\n",
       "        vertical-align: middle;\n",
       "    }\n",
       "\n",
       "    .dataframe tbody tr th {\n",
       "        vertical-align: top;\n",
       "    }\n",
       "\n",
       "    .dataframe thead th {\n",
       "        text-align: right;\n",
       "    }\n",
       "</style>\n",
       "<table border=\"1\" class=\"dataframe\">\n",
       "  <thead>\n",
       "    <tr style=\"text-align: right;\">\n",
       "      <th></th>\n",
       "      <th>Fz1</th>\n",
       "      <th>Fz2</th>\n",
       "      <th>Fz3</th>\n",
       "      <th>Fz4</th>\n",
       "      <th>Fz6</th>\n",
       "    </tr>\n",
       "  </thead>\n",
       "  <tbody>\n",
       "    <tr>\n",
       "      <th>rail</th>\n",
       "      <td>1</td>\n",
       "      <td>1</td>\n",
       "      <td>1</td>\n",
       "      <td>1</td>\n",
       "      <td>1</td>\n",
       "    </tr>\n",
       "    <tr>\n",
       "      <th>bus</th>\n",
       "      <td>1</td>\n",
       "      <td>1</td>\n",
       "      <td>1</td>\n",
       "      <td>1</td>\n",
       "      <td>1</td>\n",
       "    </tr>\n",
       "    <tr>\n",
       "      <th>air</th>\n",
       "      <td>1</td>\n",
       "      <td>1</td>\n",
       "      <td>1</td>\n",
       "      <td>1</td>\n",
       "      <td>1</td>\n",
       "    </tr>\n",
       "    <tr>\n",
       "      <th>car</th>\n",
       "      <td>1</td>\n",
       "      <td>1</td>\n",
       "      <td>1</td>\n",
       "      <td>1</td>\n",
       "      <td>1</td>\n",
       "    </tr>\n",
       "    <tr>\n",
       "      <th>walk</th>\n",
       "      <td>1</td>\n",
       "      <td>1</td>\n",
       "      <td>1</td>\n",
       "      <td>1</td>\n",
       "      <td>1</td>\n",
       "    </tr>\n",
       "    <tr>\n",
       "      <th>root</th>\n",
       "      <td>1</td>\n",
       "      <td>1</td>\n",
       "      <td>1</td>\n",
       "      <td>1</td>\n",
       "      <td>1</td>\n",
       "    </tr>\n",
       "  </tbody>\n",
       "</table>\n",
       "</div>"
      ],
      "text/plain": [
       "      Fz1  Fz2  Fz3  Fz4  Fz6\n",
       "rail    1    1    1    1    1\n",
       "bus     1    1    1    1    1\n",
       "air     1    1    1    1    1\n",
       "car     1    1    1    1    1\n",
       "walk    1    1    1    1    1\n",
       "root    1    1    1    1    1"
      ]
     },
     "execution_count": 19,
     "metadata": {},
     "output_type": "execute_result"
    }
   ],
   "source": [
    "# phi/theta values for each mode and nest come from calibration data\n",
    "sm.logit_scales = pd.DataFrame(index=route_types, data={seg: 1 for seg in segments})\n",
    "sm.logit_scales.loc['root'] = [1 for i in range(len(segments))]\n",
    "# For the nested structure\n",
    "#sm.logit_scales.loc['pt'] = [1 / params_est[i].loc['mu_pt', 'Value']\n",
    "#                             for i in range(len(segments))]\n",
    "sm.logit_scales"
   ]
  },
  {
   "cell_type": "code",
   "execution_count": 20,
   "metadata": {},
   "outputs": [
    {
     "data": {
      "text/html": [
       "<div>\n",
       "<style scoped>\n",
       "    .dataframe tbody tr th:only-of-type {\n",
       "        vertical-align: middle;\n",
       "    }\n",
       "\n",
       "    .dataframe tbody tr th {\n",
       "        vertical-align: top;\n",
       "    }\n",
       "\n",
       "    .dataframe thead th {\n",
       "        text-align: right;\n",
       "    }\n",
       "</style>\n",
       "<table border=\"1\" class=\"dataframe\">\n",
       "  <thead>\n",
       "    <tr style=\"text-align: right;\">\n",
       "      <th></th>\n",
       "      <th>Fz1</th>\n",
       "      <th>Fz2</th>\n",
       "      <th>Fz3</th>\n",
       "      <th>Fz4</th>\n",
       "      <th>Fz6</th>\n",
       "    </tr>\n",
       "  </thead>\n",
       "  <tbody>\n",
       "    <tr>\n",
       "      <th>rail</th>\n",
       "      <td>-1.861813</td>\n",
       "      <td>-0.201161</td>\n",
       "      <td>-2.714542</td>\n",
       "      <td>-2.611749</td>\n",
       "      <td>-2.589026</td>\n",
       "    </tr>\n",
       "    <tr>\n",
       "      <th>bus</th>\n",
       "      <td>-3.687939</td>\n",
       "      <td>-0.332885</td>\n",
       "      <td>-3.514192</td>\n",
       "      <td>-3.920685</td>\n",
       "      <td>-3.521607</td>\n",
       "    </tr>\n",
       "    <tr>\n",
       "      <th>air</th>\n",
       "      <td>-6.151631</td>\n",
       "      <td>-5.351026</td>\n",
       "      <td>-3.119983</td>\n",
       "      <td>-3.334793</td>\n",
       "      <td>-2.690224</td>\n",
       "    </tr>\n",
       "    <tr>\n",
       "      <th>car</th>\n",
       "      <td>0.000000</td>\n",
       "      <td>0.000000</td>\n",
       "      <td>0.000000</td>\n",
       "      <td>0.000000</td>\n",
       "      <td>0.000000</td>\n",
       "    </tr>\n",
       "    <tr>\n",
       "      <th>walk</th>\n",
       "      <td>-5.757532</td>\n",
       "      <td>-2.848011</td>\n",
       "      <td>-4.193931</td>\n",
       "      <td>-4.851682</td>\n",
       "      <td>-4.316782</td>\n",
       "    </tr>\n",
       "    <tr>\n",
       "      <th>root</th>\n",
       "      <td>0.000000</td>\n",
       "      <td>0.000000</td>\n",
       "      <td>0.000000</td>\n",
       "      <td>0.000000</td>\n",
       "      <td>0.000000</td>\n",
       "    </tr>\n",
       "  </tbody>\n",
       "</table>\n",
       "</div>"
      ],
      "text/plain": [
       "           Fz1       Fz2       Fz3       Fz4       Fz6\n",
       "rail -1.861813 -0.201161 -2.714542 -2.611749 -2.589026\n",
       "bus  -3.687939 -0.332885 -3.514192 -3.920685 -3.521607\n",
       "air  -6.151631 -5.351026 -3.119983 -3.334793 -2.690224\n",
       "car   0.000000  0.000000  0.000000  0.000000  0.000000\n",
       "walk -5.757532 -2.848011 -4.193931 -4.851682 -4.316782\n",
       "root  0.000000  0.000000  0.000000  0.000000  0.000000"
      ]
     },
     "execution_count": 20,
     "metadata": {},
     "output_type": "execute_result"
    }
   ],
   "source": [
    "# Initial values are the alternative specific constants (ASC) from calibration\n",
    "sm.mode_utility = pd.DataFrame({seg: [] for seg in segments})\n",
    "for t, asc in [('rail', 'asc_rail'),\n",
    "#               ('rail_short', 'asc_rail_s'),\n",
    "#               ('rail_long', 'asc_rail_l'),\n",
    "#               ('coach', 'asc_coach'),\n",
    "               ('bus', 'asc_road'),\n",
    "               ('air', 'asc_air'), ('car', 0),\n",
    "               ('walk', 'asc_non_motor'),('root', 0)]:\n",
    "    sm.mode_utility.loc[t] = [params_est[i].loc[asc, 'Value']\n",
    "                              if isinstance(asc, str) else asc\n",
    "                              for i in range(len(segments))]\n",
    "sm.mode_utility"
   ]
  },
  {
   "cell_type": "code",
   "execution_count": 21,
   "metadata": {},
   "outputs": [],
   "source": [
    "# Performance attributes for mode choice\n",
    "perf_attrs = [(s, 't') for s in segments]"
   ]
  },
  {
   "cell_type": "code",
   "execution_count": 22,
   "metadata": {},
   "outputs": [
    {
     "data": {
      "text/html": [
       "<div>\n",
       "<style scoped>\n",
       "    .dataframe tbody tr th:only-of-type {\n",
       "        vertical-align: middle;\n",
       "    }\n",
       "\n",
       "    .dataframe tbody tr th {\n",
       "        vertical-align: top;\n",
       "    }\n",
       "\n",
       "    .dataframe thead th {\n",
       "        text-align: right;\n",
       "    }\n",
       "</style>\n",
       "<table border=\"1\" class=\"dataframe\">\n",
       "  <thead>\n",
       "    <tr style=\"text-align: right;\">\n",
       "      <th></th>\n",
       "      <th>Fz1</th>\n",
       "      <th>Fz2</th>\n",
       "      <th>Fz3</th>\n",
       "      <th>Fz4</th>\n",
       "      <th>Fz6</th>\n",
       "    </tr>\n",
       "  </thead>\n",
       "  <tbody>\n",
       "    <tr>\n",
       "      <th>('Fz1', 't')</th>\n",
       "      <td>-0.151069</td>\n",
       "      <td>0.000000</td>\n",
       "      <td>0.000000</td>\n",
       "      <td>0.00000</td>\n",
       "      <td>0.000000</td>\n",
       "    </tr>\n",
       "    <tr>\n",
       "      <th>('Fz2', 't')</th>\n",
       "      <td>0.000000</td>\n",
       "      <td>-0.053636</td>\n",
       "      <td>0.000000</td>\n",
       "      <td>0.00000</td>\n",
       "      <td>0.000000</td>\n",
       "    </tr>\n",
       "    <tr>\n",
       "      <th>('Fz3', 't')</th>\n",
       "      <td>0.000000</td>\n",
       "      <td>0.000000</td>\n",
       "      <td>-0.086355</td>\n",
       "      <td>0.00000</td>\n",
       "      <td>0.000000</td>\n",
       "    </tr>\n",
       "    <tr>\n",
       "      <th>('Fz4', 't')</th>\n",
       "      <td>0.000000</td>\n",
       "      <td>0.000000</td>\n",
       "      <td>0.000000</td>\n",
       "      <td>-0.48841</td>\n",
       "      <td>0.000000</td>\n",
       "    </tr>\n",
       "    <tr>\n",
       "      <th>('Fz6', 't')</th>\n",
       "      <td>0.000000</td>\n",
       "      <td>0.000000</td>\n",
       "      <td>0.000000</td>\n",
       "      <td>0.00000</td>\n",
       "      <td>-0.135318</td>\n",
       "    </tr>\n",
       "    <tr>\n",
       "      <th>c</th>\n",
       "      <td>-0.097024</td>\n",
       "      <td>-0.053539</td>\n",
       "      <td>-0.056959</td>\n",
       "      <td>0.00000</td>\n",
       "      <td>-0.024921</td>\n",
       "    </tr>\n",
       "    <tr>\n",
       "      <th>mode_utility</th>\n",
       "      <td>1.000000</td>\n",
       "      <td>1.000000</td>\n",
       "      <td>1.000000</td>\n",
       "      <td>1.00000</td>\n",
       "      <td>1.000000</td>\n",
       "    </tr>\n",
       "  </tbody>\n",
       "</table>\n",
       "</div>"
      ],
      "text/plain": [
       "                   Fz1       Fz2       Fz3      Fz4       Fz6\n",
       "('Fz1', 't') -0.151069  0.000000  0.000000  0.00000  0.000000\n",
       "('Fz2', 't')  0.000000 -0.053636  0.000000  0.00000  0.000000\n",
       "('Fz3', 't')  0.000000  0.000000 -0.086355  0.00000  0.000000\n",
       "('Fz4', 't')  0.000000  0.000000  0.000000 -0.48841  0.000000\n",
       "('Fz6', 't')  0.000000  0.000000  0.000000  0.00000 -0.135318\n",
       "c            -0.097024 -0.053539 -0.056959  0.00000 -0.024921\n",
       "mode_utility  1.000000  1.000000  1.000000  1.00000  1.000000"
      ]
     },
     "execution_count": 22,
     "metadata": {},
     "output_type": "execute_result"
    }
   ],
   "source": [
    "# Beta parameters from calibration data\n",
    "# IMPORTANT: mind the unit conversion\n",
    "sm.utility_values = pd.DataFrame({s: [0 for _ in perf_attrs] for s in segments},\n",
    "                                 index=[str(a) for a in perf_attrs])\n",
    "sm.utility_values.loc['c'] = [params_est[segments.index(s)].loc['b_c', 'Value']\n",
    "                              for s in segments]\n",
    "sm.utility_values.loc['mode_utility'] = [1 for seg in segments]\n",
    "for a in perf_attrs:\n",
    "    sm.utility_values.loc[str(a), a[0]] = params_est[segments.index(a[0])].loc['b_t', 'Value']\n",
    "sm.utility_values"
   ]
  },
  {
   "cell_type": "code",
   "execution_count": 23,
   "metadata": {},
   "outputs": [],
   "source": [
    "# Generate damped cost (see cal20)\n",
    "c = params['estimation'].to_dict()\n",
    "def spline(x, beta, c1, c2, Q=3):\n",
    "    alpha = [0, -beta/2*np.power(np.log(c1),3),\n",
    "             -beta/2*np.log(c1)*(3*np.power(np.log(c2),2)+np.power(np.log(c1),2))] # for Q=3\n",
    "    theta = [1, 3/2*np.log(c1), 3*np.log(c1)*np.log(c2)] # for Q=3\n",
    "    return (beta*theta[0]*np.power(np.log(x),Q-1+1) + alpha[0]) * (x<c1) \\\n",
    "    + (beta*theta[1]*np.power(np.log(x),Q-2+1) + alpha[1]) * (x>=c1)*(x<c2) \\\n",
    "    + (beta*theta[2]*np.power(np.log(x),Q-3+1) + alpha[2]) * (x>=c2)\n",
    "\n",
    "# Apply the spline function\n",
    "for s in segments:\n",
    "#    for a in perf_attrs:\n",
    "#        sm.los[a] = [spline(gc, beta) for gc in sm.los[(s, 'gc')]]\n",
    "    c1 = c['c1_time_'+s[-1]]\n",
    "    c2 = c['c2_time_'+s[-1]]\n",
    "    beta = sm.utility_values.loc[str((s, 't')), s]\n",
    "    sm.los[str((s, 't'))] = [spline(t, beta, c1, c2) for t in sm.los['time']]\n",
    "sm.los['c'] = sm.los['price']"
   ]
  },
  {
   "cell_type": "code",
   "execution_count": 24,
   "metadata": {},
   "outputs": [],
   "source": [
    "# Make beta_t one because it is now included in the LoS attribute 't'\n",
    "for a in perf_attrs:\n",
    "    sm.utility_values.loc[str(a), a[0]] = 1"
   ]
  },
  {
   "cell_type": "markdown",
   "metadata": {},
   "source": [
    "## Mode Choice"
   ]
  },
  {
   "cell_type": "code",
   "execution_count": 25,
   "metadata": {},
   "outputs": [
    {
     "name": "stderr",
     "output_type": "stream",
     "text": [
      "100%|████████████████████████████████████████████████████████████████████████████████████| 5/5 [00:00<00:00,  8.10it/s]\n"
     ]
    }
   ],
   "source": [
    "# Build the utility column in sm.los for each segment\n",
    "sm.segments = segments\n",
    "# How defines the mode which ASC is taken: \"min\" is worst mode in route_types,\n",
    "# \"max\" is best, \"sum\" and \"mean\"\n",
    "# Set the main mode as route types to take only this ASC\n",
    "#sm.los['route_types'] = [(i,) for i in sm.los['route_type']]\n",
    "sm.analysis_mode_utility(how='main', segment=None)"
   ]
  },
  {
   "cell_type": "code",
   "execution_count": 26,
   "metadata": {},
   "outputs": [
    {
     "name": "stderr",
     "output_type": "stream",
     "text": [
      "100%|██████████████████████████████████████████████████████████████████████████████████| 10/10 [00:19<00:00,  1.98s/it]\n"
     ]
    }
   ],
   "source": [
    "# Run the logit model to calculate probabilities\n",
    "sm.step_logit()"
   ]
  },
  {
   "cell_type": "code",
   "execution_count": 27,
   "metadata": {},
   "outputs": [
    {
     "name": "stdout",
     "output_type": "stream",
     "text": [
      "(801975, 9)\n",
      "(801975, 9)\n"
     ]
    }
   ],
   "source": [
    "print(sm.probabilities.shape)\n",
    "print(sm.utilities.shape)"
   ]
  },
  {
   "cell_type": "code",
   "execution_count": 28,
   "metadata": {},
   "outputs": [
    {
     "data": {
      "text/html": [
       "<div>\n",
       "<style scoped>\n",
       "    .dataframe tbody tr th:only-of-type {\n",
       "        vertical-align: middle;\n",
       "    }\n",
       "\n",
       "    .dataframe tbody tr th {\n",
       "        vertical-align: top;\n",
       "    }\n",
       "\n",
       "    .dataframe thead th {\n",
       "        text-align: right;\n",
       "    }\n",
       "</style>\n",
       "<table border=\"1\" class=\"dataframe\">\n",
       "  <thead>\n",
       "    <tr style=\"text-align: right;\">\n",
       "      <th>route_type</th>\n",
       "      <th>origin</th>\n",
       "      <th>destination</th>\n",
       "      <th>segment</th>\n",
       "      <th>root</th>\n",
       "      <th>walk</th>\n",
       "      <th>car</th>\n",
       "      <th>air</th>\n",
       "      <th>bus</th>\n",
       "      <th>rail</th>\n",
       "    </tr>\n",
       "  </thead>\n",
       "  <tbody>\n",
       "    <tr>\n",
       "      <th>26460</th>\n",
       "      <td>DE24D</td>\n",
       "      <td>DE244</td>\n",
       "      <td>Fz1</td>\n",
       "      <td>1</td>\n",
       "      <td>0.003834</td>\n",
       "      <td>0.893321</td>\n",
       "      <td>0.0</td>\n",
       "      <td>0.000000</td>\n",
       "      <td>0.102844</td>\n",
       "    </tr>\n",
       "    <tr>\n",
       "      <th>21554</th>\n",
       "      <td>DE27C</td>\n",
       "      <td>DEB32</td>\n",
       "      <td>Fz6</td>\n",
       "      <td>1</td>\n",
       "      <td>0.000000</td>\n",
       "      <td>0.864050</td>\n",
       "      <td>0.0</td>\n",
       "      <td>0.029136</td>\n",
       "      <td>0.106814</td>\n",
       "    </tr>\n",
       "    <tr>\n",
       "      <th>26545</th>\n",
       "      <td>DE27D</td>\n",
       "      <td>DE258</td>\n",
       "      <td>Fz1</td>\n",
       "      <td>1</td>\n",
       "      <td>0.000000</td>\n",
       "      <td>0.934475</td>\n",
       "      <td>0.0</td>\n",
       "      <td>0.000000</td>\n",
       "      <td>0.065525</td>\n",
       "    </tr>\n",
       "  </tbody>\n",
       "</table>\n",
       "</div>"
      ],
      "text/plain": [
       "route_type origin destination segment  root      walk       car  air  \\\n",
       "26460       DE24D       DE244     Fz1     1  0.003834  0.893321  0.0   \n",
       "21554       DE27C       DEB32     Fz6     1  0.000000  0.864050  0.0   \n",
       "26545       DE27D       DE258     Fz1     1  0.000000  0.934475  0.0   \n",
       "\n",
       "route_type       bus      rail  \n",
       "26460       0.000000  0.102844  \n",
       "21554       0.029136  0.106814  \n",
       "26545       0.000000  0.065525  "
      ]
     },
     "execution_count": 28,
     "metadata": {},
     "output_type": "execute_result"
    }
   ],
   "source": [
    "sm.probabilities.sample(n=3)"
   ]
  },
  {
   "cell_type": "code",
   "execution_count": 29,
   "metadata": {},
   "outputs": [
    {
     "data": {
      "text/html": [
       "<div>\n",
       "<style scoped>\n",
       "    .dataframe tbody tr th:only-of-type {\n",
       "        vertical-align: middle;\n",
       "    }\n",
       "\n",
       "    .dataframe tbody tr th {\n",
       "        vertical-align: top;\n",
       "    }\n",
       "\n",
       "    .dataframe thead th {\n",
       "        text-align: right;\n",
       "    }\n",
       "</style>\n",
       "<table border=\"1\" class=\"dataframe\">\n",
       "  <thead>\n",
       "    <tr style=\"text-align: right;\">\n",
       "      <th>route_type</th>\n",
       "      <th>origin</th>\n",
       "      <th>destination</th>\n",
       "      <th>segment</th>\n",
       "      <th>root</th>\n",
       "      <th>walk</th>\n",
       "      <th>car</th>\n",
       "      <th>air</th>\n",
       "      <th>bus</th>\n",
       "      <th>rail</th>\n",
       "    </tr>\n",
       "  </thead>\n",
       "  <tbody>\n",
       "    <tr>\n",
       "      <th>67204</th>\n",
       "      <td>DEB3E</td>\n",
       "      <td>DE94H</td>\n",
       "      <td>Fz6</td>\n",
       "      <td>-1.231607</td>\n",
       "      <td>-inf</td>\n",
       "      <td>-1.283616</td>\n",
       "      <td>-6.504437</td>\n",
       "      <td>-inf</td>\n",
       "      <td>-4.320553</td>\n",
       "    </tr>\n",
       "    <tr>\n",
       "      <th>61824</th>\n",
       "      <td>DEB36</td>\n",
       "      <td>DEF03</td>\n",
       "      <td>Fz6</td>\n",
       "      <td>-1.387747</td>\n",
       "      <td>-inf</td>\n",
       "      <td>-1.453773</td>\n",
       "      <td>-inf</td>\n",
       "      <td>-inf</td>\n",
       "      <td>-4.138296</td>\n",
       "    </tr>\n",
       "    <tr>\n",
       "      <th>22112</th>\n",
       "      <td>DE262</td>\n",
       "      <td>DE12A</td>\n",
       "      <td>Fz3</td>\n",
       "      <td>-3.139679</td>\n",
       "      <td>-inf</td>\n",
       "      <td>-3.169321</td>\n",
       "      <td>-inf</td>\n",
       "      <td>-7.328282</td>\n",
       "      <td>-7.405568</td>\n",
       "    </tr>\n",
       "  </tbody>\n",
       "</table>\n",
       "</div>"
      ],
      "text/plain": [
       "route_type origin destination segment      root  walk       car       air  \\\n",
       "67204       DEB3E       DE94H     Fz6 -1.231607  -inf -1.283616 -6.504437   \n",
       "61824       DEB36       DEF03     Fz6 -1.387747  -inf -1.453773      -inf   \n",
       "22112       DE262       DE12A     Fz3 -3.139679  -inf -3.169321      -inf   \n",
       "\n",
       "route_type       bus      rail  \n",
       "67204           -inf -4.320553  \n",
       "61824           -inf -4.138296  \n",
       "22112      -7.328282 -7.405568  "
      ]
     },
     "execution_count": 29,
     "metadata": {},
     "output_type": "execute_result"
    }
   ],
   "source": [
    "sm.utilities.sample(n=3)"
   ]
  },
  {
   "cell_type": "code",
   "execution_count": 30,
   "metadata": {},
   "outputs": [
    {
     "data": {
      "text/html": [
       "<div>\n",
       "<style scoped>\n",
       "    .dataframe tbody tr th:only-of-type {\n",
       "        vertical-align: middle;\n",
       "    }\n",
       "\n",
       "    .dataframe tbody tr th {\n",
       "        vertical-align: top;\n",
       "    }\n",
       "\n",
       "    .dataframe thead th {\n",
       "        text-align: right;\n",
       "    }\n",
       "</style>\n",
       "<table border=\"1\" class=\"dataframe\">\n",
       "  <thead>\n",
       "    <tr style=\"text-align: right;\">\n",
       "      <th></th>\n",
       "      <th>access_time</th>\n",
       "      <th>accessibility</th>\n",
       "      <th>destination</th>\n",
       "      <th>footpath_time</th>\n",
       "      <th>in_vehicle_time</th>\n",
       "      <th>length</th>\n",
       "      <th>link_path</th>\n",
       "      <th>mode_utility</th>\n",
       "      <th>ntransfers</th>\n",
       "      <th>origin</th>\n",
       "      <th>...</th>\n",
       "      <th>(Fz1, utility)</th>\n",
       "      <th>(Fz2, utility)</th>\n",
       "      <th>(Fz3, utility)</th>\n",
       "      <th>(Fz4, utility)</th>\n",
       "      <th>(Fz6, utility)</th>\n",
       "      <th>(Fz1, probability)</th>\n",
       "      <th>(Fz2, probability)</th>\n",
       "      <th>(Fz3, probability)</th>\n",
       "      <th>(Fz4, probability)</th>\n",
       "      <th>(Fz6, probability)</th>\n",
       "    </tr>\n",
       "  </thead>\n",
       "  <tbody>\n",
       "    <tr>\n",
       "      <th>659757</th>\n",
       "      <td>600</td>\n",
       "      <td>NaN</td>\n",
       "      <td>DEA1B</td>\n",
       "      <td>NaT</td>\n",
       "      <td>5228</td>\n",
       "      <td>138783</td>\n",
       "      <td>[rl_93250, rl_30016, rl_115957, rl_308766, rl_...</td>\n",
       "      <td>0.0</td>\n",
       "      <td>0</td>\n",
       "      <td>DEA2C</td>\n",
       "      <td>...</td>\n",
       "      <td>-1.026891</td>\n",
       "      <td>-1.66116</td>\n",
       "      <td>-2.365034</td>\n",
       "      <td>0.0</td>\n",
       "      <td>-0.381842</td>\n",
       "      <td>0.88737</td>\n",
       "      <td>0.450443</td>\n",
       "      <td>0.936154</td>\n",
       "      <td>0.806422</td>\n",
       "      <td>0.847902</td>\n",
       "    </tr>\n",
       "  </tbody>\n",
       "</table>\n",
       "<p>1 rows × 33 columns</p>\n",
       "</div>"
      ],
      "text/plain": [
       "        access_time  accessibility destination footpath_time  in_vehicle_time  \\\n",
       "659757          600            NaN       DEA1B           NaT             5228   \n",
       "\n",
       "        length                                          link_path  \\\n",
       "659757  138783  [rl_93250, rl_30016, rl_115957, rl_308766, rl_...   \n",
       "\n",
       "        mode_utility  ntransfers origin  ...  (Fz1, utility)  (Fz2, utility)  \\\n",
       "659757           0.0           0  DEA2C  ...       -1.026891        -1.66116   \n",
       "\n",
       "       (Fz3, utility)  (Fz4, utility) (Fz6, utility)  (Fz1, probability)  \\\n",
       "659757      -2.365034             0.0      -0.381842             0.88737   \n",
       "\n",
       "       (Fz2, probability)  (Fz3, probability)  (Fz4, probability)  \\\n",
       "659757           0.450443            0.936154            0.806422   \n",
       "\n",
       "        (Fz6, probability)  \n",
       "659757            0.847902  \n",
       "\n",
       "[1 rows x 33 columns]"
      ]
     },
     "execution_count": 30,
     "metadata": {},
     "output_type": "execute_result"
    }
   ],
   "source": [
    "sm.los.sample()"
   ]
  },
  {
   "cell_type": "code",
   "execution_count": 31,
   "metadata": {},
   "outputs": [
    {
     "name": "stdout",
     "output_type": "stream",
     "text": [
      "1.0\n",
      "1.0000000000000002\n",
      "0.9999999999999998\n"
     ]
    }
   ],
   "source": [
    "# Validate that probabilities sum up to one\n",
    "od = sm.los.groupby(['origin', 'destination']).sum()[\n",
    "    [(seg, 'probability') for seg in sm.segments]].mean(axis=1)\n",
    "print(od.mean())\n",
    "print(od.max())\n",
    "print(od.min())"
   ]
  },
  {
   "cell_type": "markdown",
   "metadata": {},
   "source": [
    "## Save model"
   ]
  },
  {
   "cell_type": "code",
   "execution_count": 32,
   "metadata": {},
   "outputs": [
    {
     "name": "stderr",
     "output_type": "stream",
     "text": [
      "to_hdf(overwriting): 100%|█████████████████████████████████████████████████████████████| 38/38 [00:11<00:00,  3.45it/s]\n"
     ]
    }
   ],
   "source": [
    "sm.utilities.reset_index(drop=True, inplace=True)\n",
    "sm.probabilities.reset_index(drop=True, inplace=True)\n",
    "sm.to_json(model_path + 'de_logit', only_attributes=[\n",
    "    'segments', 'mode_nests', 'logit_scales', 'mode_utility',\n",
    "    'utility_values', 'probabilities', 'utilities'],\n",
    "           encoding='utf-8')"
   ]
  },
  {
   "cell_type": "code",
   "execution_count": 33,
   "metadata": {},
   "outputs": [
    {
     "name": "stderr",
     "output_type": "stream",
     "text": [
      "to_hdf(overwriting): 100%|█████████████████████████████████████████████████████████████| 38/38 [00:11<00:00,  3.22it/s]\n",
      "to_hdf(overwriting): 100%|█████████████████████████████████████████████████████████████| 39/39 [00:13<00:00,  2.91it/s]\n"
     ]
    }
   ],
   "source": [
    "# Save LoS table\n",
    "sm.los.drop(list(sm.utility_values.index), axis=1, errors='ignore', inplace=True)\n",
    "sm.pt_los = sm.los.loc[sm.los['route_type']!='car']\n",
    "sm.to_json(model_path + 'de_pt_los', only_attributes=['pt_los'],\n",
    "           encoding='utf-8')\n",
    "sm.car_los = sm.los.loc[sm.los['route_type']=='car']\n",
    "sm.to_json(model_path + 'de_road_los', only_attributes=['car_los'],\n",
    "           encoding='utf-8')"
   ]
  },
  {
   "cell_type": "code",
   "execution_count": 34,
   "metadata": {},
   "outputs": [
    {
     "data": {
      "image/png": "[encoded data removed]",
      "text/plain": [
       "<Figure size 1152x1080 with 25 Axes>"
      ]
     },
     "metadata": {
      "needs_background": "light"
     },
     "output_type": "display_data"
    }
   ],
   "source": [
    "# Distance-distribution of probabilities\n",
    "if manual:\n",
    "    merged = sm.probabilities.merge(car.car_los[['origin', 'destination', 'length']],\n",
    "                                    on=['origin', 'destination'], how='inner')\n",
    "    fig, ax = plt.subplots(nrows=len(segments), ncols=len(route_types),\n",
    "                           sharex='all', sharey='all', figsize=(16,len(segments)*3))\n",
    "    for j, mode in zip(range(len(route_types)), route_types):\n",
    "        for i, seg in zip(range(len(segments)), segments):\n",
    "            x = merged.loc[merged['segment']==seg, 'length'] / 1000\n",
    "            y = merged.loc[merged['segment']==seg, mode]\n",
    "            ax[i,j].scatter(x, y, marker='o', s=.15, alpha=.1, label=mode+' '+seg)\n",
    "            #p = np.poly1d(np.polyfit(x, y, deg=3))\n",
    "            #ax[i,j].plot(x, p(x), linestyle='', marker='o', markersize=.5, color='grey', label=mode+' '+seg)\n",
    "            ax[i,j].legend()"
   ]
  },
  {
   "cell_type": "code",
   "execution_count": 41,
   "metadata": {},
   "outputs": [],
   "source": [
    "sm.utilities = None\n",
    "sm.probabilities = None"
   ]
  },
  {
   "cell_type": "markdown",
   "metadata": {},
   "source": [
    "### Save composite generalised cost\n",
    "For sequential destination choice modelling"
   ]
  },
  {
   "cell_type": "code",
   "execution_count": 42,
   "metadata": {},
   "outputs": [],
   "source": [
    "# Prepare beta values\n",
    "beta_dict = {}\n",
    "for s in segments:\n",
    "    beta_dict.update({s: {'c': params_est[segments.index(s)].loc['b_c', 'Value'],\n",
    "                          't': params_est[segments.index(s)].loc['b_t', 'Value']}\n",
    "                     })"
   ]
  },
  {
   "cell_type": "code",
   "execution_count": 77,
   "metadata": {},
   "outputs": [],
   "source": [
    "# Formula to calculate composite generalised cost\n",
    "def composite_cost(od, beta, seg):\n",
    "    # Given a DataFrame of cost attribute values and mode column\n",
    "    # with MultiIndex [origin, destination, route_type]\n",
    "    return od#.unstack(level=2)\n",
    "    exp_sum = np.exp(np.multiply(od.unstack(level=2), -beta)).sum(axis=1)\n",
    "    cgc = -1/beta * np.log(exp_sum)\n",
    "    return pd.DataFrame({'CGC': cgc, 'segment': seg})"
   ]
  },
  {
   "cell_type": "code",
   "execution_count": 51,
   "metadata": {},
   "outputs": [],
   "source": [
    "# Generate time DataFrame\n",
    "t = pd.DataFrame(index=sm.los.index)\n",
    "for s in segments:\n",
    "    c1 = c['c1_time_'+s[-1]]\n",
    "    c2 = c['c2_time_'+s[-1]]\n",
    "    beta = beta_dict[s]['t']\n",
    "    t[s] = [spline(t, beta, c1, c2) for t in sm.los['time']]\n",
    "t[['origin', 'destination', 'route_type']] = sm.los[['origin', 'destination', 'route_type']]"
   ]
  },
  {
   "cell_type": "code",
   "execution_count": 78,
   "metadata": {},
   "outputs": [],
   "source": [
    "dfs = []\n",
    "for s in segments:\n",
    "    dfs.append(t.sort_values(['origin', 'destination']).iloc[:10][[s, 'origin', 'destination', 'route_type']].groupby(\n",
    "        ['origin', 'destination', 'route_type'])[s].apply(composite_cost, 1, s))\n",
    "df = pd.concat(dfs)"
   ]
  },
  {
   "cell_type": "code",
   "execution_count": 79,
   "metadata": {},
   "outputs": [
    {
     "data": {
      "text/plain": [
       "0         0.000566\n",
       "1         0.005412\n",
       "2         0.023220\n",
       "552838    0.000000\n",
       "553519    0.047710\n",
       "3         0.000842\n",
       "4         0.000000\n",
       "5         0.021430\n",
       "6         0.018703\n",
       "552606    0.000000\n",
       "0        -0.714613\n",
       "1        -0.610673\n",
       "2        -0.487831\n",
       "552838   -0.896469\n",
       "553519   -0.401170\n",
       "3        -0.701507\n",
       "4        -1.259606\n",
       "5        -0.496262\n",
       "6        -0.510053\n",
       "552606   -0.827926\n",
       "0        -1.150542\n",
       "1        -0.983197\n",
       "2        -0.785418\n",
       "552838   -1.443334\n",
       "553519   -0.645892\n",
       "3        -1.129441\n",
       "4        -2.027991\n",
       "5        -0.798992\n",
       "6        -0.821196\n",
       "552606   -1.332978\n",
       "0         0.001831\n",
       "1         0.017498\n",
       "2         0.075071\n",
       "552838    0.000000\n",
       "553519    0.154250\n",
       "3         0.002724\n",
       "4         0.000000\n",
       "5         0.069283\n",
       "6         0.060468\n",
       "552606    0.000000\n",
       "0        -0.112182\n",
       "1        -0.091521\n",
       "2        -0.047958\n",
       "552838   -0.118080\n",
       "553519   -0.004747\n",
       "3        -0.110395\n",
       "4        -0.118080\n",
       "5        -0.051610\n",
       "6        -0.057375\n",
       "552606   -0.118080\n",
       "dtype: float64"
      ]
     },
     "execution_count": 79,
     "metadata": {},
     "output_type": "execute_result"
    }
   ],
   "source": [
    "df"
   ]
  },
  {
   "cell_type": "code",
   "execution_count": null,
   "metadata": {},
   "outputs": [],
   "source": [
    "# Save composite time cost\n",
    "df.to_csv(output_path + 'mode_choice_od_cgc_time.csv')"
   ]
  },
  {
   "cell_type": "code",
   "execution_count": null,
   "metadata": {},
   "outputs": [],
   "source": [
    "# Same for price attribute\n",
    "c = pd.DataFrame(index=sm.los.index)\n",
    "# Only for segments where price is relevant to mode choice\n",
    "segs = [s for s in segments if beta_dict[s]['c']!=0]\n",
    "for s in segs:\n",
    "    c[s] = sm.los['c']\n",
    "c[['origin', 'destination', 'route_type']] = sm.los[['origin', 'destination', 'route_type']]"
   ]
  },
  {
   "cell_type": "code",
   "execution_count": null,
   "metadata": {},
   "outputs": [],
   "source": []
  },
  {
   "cell_type": "code",
   "execution_count": null,
   "metadata": {},
   "outputs": [],
   "source": [
    "# Save composite price cost\n",
    "df.to_csv(output_path + 'mode_choice_od_cgc_price.csv')"
   ]
  }
 ],
 "metadata": {
  "kernelspec": {
   "display_name": "Python 3",
   "language": "python",
   "name": "python3"
  },
  "language_info": {
   "codemirror_mode": {
    "name": "ipython",
    "version": 3
   },
   "file_extension": ".py",
   "mimetype": "text/x-python",
   "name": "python",
   "nbconvert_exporter": "python",
   "pygments_lexer": "ipython3",
   "version": "3.8.1"
  }
 },
 "nbformat": 4,
 "nbformat_minor": 4
}
