{
 "cells": [
  {
   "cell_type": "code",
   "execution_count": 1,
   "metadata": {
    "scrolled": true
   },
   "outputs": [
    {
     "name": "stderr",
     "output_type": "stream",
     "text": [
      "In C:\\Users\\marlin.arnz\\AppData\\Local\\Continuum\\miniconda3\\envs\\quetzal\\lib\\site-packages\\matplotlib\\mpl-data\\stylelib\\_classic_test.mplstyle: \n",
      "The text.latex.preview rcparam was deprecated in Matplotlib 3.3 and will be removed two minor releases later.\n",
      "In C:\\Users\\marlin.arnz\\AppData\\Local\\Continuum\\miniconda3\\envs\\quetzal\\lib\\site-packages\\matplotlib\\mpl-data\\stylelib\\_classic_test.mplstyle: \n",
      "The mathtext.fallback_to_cm rcparam was deprecated in Matplotlib 3.3 and will be removed two minor releases later.\n",
      "In C:\\Users\\marlin.arnz\\AppData\\Local\\Continuum\\miniconda3\\envs\\quetzal\\lib\\site-packages\\matplotlib\\mpl-data\\stylelib\\_classic_test.mplstyle: Support for setting the 'mathtext.fallback_to_cm' rcParam is deprecated since 3.3 and will be removed two minor releases later; use 'mathtext.fallback : 'cm' instead.\n",
      "In C:\\Users\\marlin.arnz\\AppData\\Local\\Continuum\\miniconda3\\envs\\quetzal\\lib\\site-packages\\matplotlib\\mpl-data\\stylelib\\_classic_test.mplstyle: \n",
      "The validate_bool_maybe_none function was deprecated in Matplotlib 3.3 and will be removed two minor releases later.\n",
      "In C:\\Users\\marlin.arnz\\AppData\\Local\\Continuum\\miniconda3\\envs\\quetzal\\lib\\site-packages\\matplotlib\\mpl-data\\stylelib\\_classic_test.mplstyle: \n",
      "The savefig.jpeg_quality rcparam was deprecated in Matplotlib 3.3 and will be removed two minor releases later.\n",
      "In C:\\Users\\marlin.arnz\\AppData\\Local\\Continuum\\miniconda3\\envs\\quetzal\\lib\\site-packages\\matplotlib\\mpl-data\\stylelib\\_classic_test.mplstyle: \n",
      "The keymap.all_axes rcparam was deprecated in Matplotlib 3.3 and will be removed two minor releases later.\n",
      "In C:\\Users\\marlin.arnz\\AppData\\Local\\Continuum\\miniconda3\\envs\\quetzal\\lib\\site-packages\\matplotlib\\mpl-data\\stylelib\\_classic_test.mplstyle: \n",
      "The animation.avconv_path rcparam was deprecated in Matplotlib 3.3 and will be removed two minor releases later.\n",
      "In C:\\Users\\marlin.arnz\\AppData\\Local\\Continuum\\miniconda3\\envs\\quetzal\\lib\\site-packages\\matplotlib\\mpl-data\\stylelib\\_classic_test.mplstyle: \n",
      "The animation.avconv_args rcparam was deprecated in Matplotlib 3.3 and will be removed two minor releases later.\n"
     ]
    }
   ],
   "source": [
    "import math\n",
    "import numpy as np\n",
    "import pandas as pd\n",
    "from quetzal.model import stepmodel"
   ]
  },
  {
   "cell_type": "markdown",
   "metadata": {},
   "source": [
    "# Calibration\n",
    "## Preparation of input data\n",
    "Synthesise travel cost and accessibility columns from the calibration dataset"
   ]
  },
  {
   "cell_type": "code",
   "execution_count": 2,
   "metadata": {},
   "outputs": [],
   "source": [
    "input_path = '../input/transport_demand/'\n",
    "model_path = '../model/'"
   ]
  },
  {
   "cell_type": "code",
   "execution_count": 3,
   "metadata": {},
   "outputs": [],
   "source": [
    "# Load StepModel with LOS table...\n",
    "sm = stepmodel.read_json(model_path + 'de_pt_network_agg')\n",
    "los = stepmodel.read_json(model_path + 'de_pt_los')"
   ]
  },
  {
   "cell_type": "code",
   "execution_count": 4,
   "metadata": {},
   "outputs": [],
   "source": [
    "sm.pt_los = los.pt_los"
   ]
  },
  {
   "cell_type": "code",
   "execution_count": 5,
   "metadata": {},
   "outputs": [
    {
     "name": "stdout",
     "output_type": "stream",
     "text": [
      "(107870, 31)\n"
     ]
    }
   ],
   "source": [
    "trips = pd.read_csv(input_path + 'calibration_inter-cellular_trips_MiD2017.csv')\n",
    "print(trips.shape)"
   ]
  },
  {
   "cell_type": "code",
   "execution_count": 6,
   "metadata": {},
   "outputs": [],
   "source": [
    "trips = trips.drop(columns='Unnamed: 0')\n",
    "trips.reset_index(drop=True, inplace=True)\n",
    "#trips.head()"
   ]
  },
  {
   "cell_type": "markdown",
   "metadata": {},
   "source": [
    "### What are calibration data requirements?\n",
    "The mathematical formulation of the discrete choice model defines the requirements:\n",
    "> V = T • β_t + β_cost • C • SU + β_access • AC\n",
    "\n",
    "Note: All parameters are demand group specific. The model formulation for each mode is the same, even though some variables are zero."
   ]
  },
  {
   "cell_type": "markdown",
   "metadata": {},
   "source": [
    "## Travel cost\n",
    "For model calibration with above formula, we need cost data for each trip. This column is generated using the travel cost function from the model's LoS formulation. For PT, the type of ticket or subscription is being considered."
   ]
  },
  {
   "cell_type": "code",
   "execution_count": 7,
   "metadata": {},
   "outputs": [],
   "source": [
    "def monetary_cost(length, rf, vc, ac, al, ec, el, sf):\n",
    "    \"\"\" calculate monetary cost of travelling one O-D realtion within the LoS table\n",
    "    :param length: length of main leg in meter\n",
    "    :param df: regression factor for length (to be calibrated beforehand)\n",
    "    :param vc: distance-specific transport cost\n",
    "    :param ac: access cost\n",
    "    :param al: access link length (m)\n",
    "    :param ec: egress cost\n",
    "    :param el: egress link length (m)\n",
    "    :param sf: sharing factor (e.g. occupancy factor of a car)\n",
    "    :return: monetary cost\"\"\"\n",
    "    return (math.pow(length, rf) * vc + ac * al + ec * el) / sf"
   ]
  },
  {
   "cell_type": "code",
   "execution_count": 8,
   "metadata": {},
   "outputs": [],
   "source": [
    "trips['cost_walk'] = 0 # foot and bicycle trips are free of monetary cost"
   ]
  },
  {
   "cell_type": "code",
   "execution_count": 9,
   "metadata": {},
   "outputs": [],
   "source": [
    "# The same assumptions for car travel as in the car LoS generation (prep30)\n",
    "vc_car = 0.00011439257425742574 # in €/m\n",
    "fix_car = 1.551890814081408 # in € per trip"
   ]
  },
  {
   "cell_type": "code",
   "execution_count": 10,
   "metadata": {},
   "outputs": [],
   "source": [
    "# Car, see prep30_los_road\n",
    "trips['cost_car'] = [monetary_cost(d*1000, 1, vc_car, 0,0,0,0, n) + 0.8 * t/60\n",
    "                     for d, n, t in zip(trips['distance'], trips['n_persons'], trips['duration'])]"
   ]
  },
  {
   "cell_type": "code",
   "execution_count": 11,
   "metadata": {},
   "outputs": [],
   "source": [
    "# Ticket type determines the trip cost\n",
    "# Assume this dict with factors\n",
    "ticket_dict = {1:1, 2:0.9, 3:0.5, 4:0, 5:0, 6:1, 7:1, 99:1, 200:1}"
   ]
  },
  {
   "cell_type": "code",
   "execution_count": 12,
   "metadata": {},
   "outputs": [],
   "source": [
    "# Rail short-distance\n",
    "# Trips with subscriptions are free of charge\n",
    "rf_rail = 0.7 # for distance in km; see prep31\n",
    "trips['cost_rail_short_distance'] = [monetary_cost(d, rf_rail, 1, 0,0,0,0, 1)\n",
    "                                     * ticket_dict[t]\n",
    "                                     for d, t in zip(trips['distance'],\n",
    "                                                     trips['ticket_type'])]"
   ]
  },
  {
   "cell_type": "code",
   "execution_count": 13,
   "metadata": {},
   "outputs": [],
   "source": [
    "# Rail long-distance\n",
    "# Take prices from the model (validated)\n",
    "rail_dict = sm.pt_los.sort_values(['time', 'length']).loc[\n",
    "    sm.pt_los['route_type'].isin(\n",
    "        ['rail_long_distance', 'rail_short_distance'])].groupby(\n",
    "    ['origin', 'destination']).first()['price'].to_dict()\n",
    "trips['cost_rail_long_distance'] = [rail_dict[(o,d)]\n",
    "                                    if (o,d) in rail_dict.keys()\n",
    "                                    else np.inf\n",
    "                                    for o, d in zip(trips['origin'], trips['destination'])]"
   ]
  },
  {
   "cell_type": "code",
   "execution_count": 14,
   "metadata": {},
   "outputs": [],
   "source": [
    "# Bus and tram\n",
    "# Trip cost depend on the ticket type and routed distance\n",
    "# The single ticket price is for long distance local transport\n",
    "# See prep31 for prices\n",
    "trips['cost_bus'] = trips['ticket_type'].map(ticket_dict) * 2.74"
   ]
  },
  {
   "cell_type": "code",
   "execution_count": 15,
   "metadata": {},
   "outputs": [],
   "source": [
    "# Coach\n",
    "# see prep31\n",
    "trips['cost_coach'] = trips['distance'].apply(\n",
    "    lambda d: monetary_cost(d, 1, 0.107, 0, 0, 0, 0, 1))"
   ]
  },
  {
   "cell_type": "code",
   "execution_count": 16,
   "metadata": {},
   "outputs": [],
   "source": [
    "# Air\n",
    "# Apply business price of German flight connections, see prep31\n",
    "# Take the fastest connections from the model\n",
    "air_dict = sm.pt_los.sort_values('time').loc[\n",
    "    sm.pt_los['route_type']=='air'].groupby(\n",
    "    ['origin', 'destination']).first()['price'].to_dict()"
   ]
  },
  {
   "cell_type": "code",
   "execution_count": 17,
   "metadata": {},
   "outputs": [],
   "source": [
    "trips['cost_air'] = [air_dict[(o,d)] if (o,d) in air_dict.keys() else np.inf\n",
    "                     for o, d in zip(trips['origin'], trips['destination'])]"
   ]
  },
  {
   "cell_type": "code",
   "execution_count": 18,
   "metadata": {},
   "outputs": [],
   "source": [
    "# The fastest route determines cost of rail service\n",
    "trips['cost_rail'] = [c_l if t_l<t_s else c_s\n",
    "                      for t_s, t_l, c_s, c_l in zip(\n",
    "    trips['time_rail_short_distance'], trips['time_rail_long_distance'],\n",
    "    trips['cost_rail_short_distance'], trips['cost_rail_long_distance'])]\n",
    "trips.loc[trips['mode_model']==1, 'cost_rail'] = \\\n",
    "    trips.loc[trips['mode_model']==1, 'cost_rail_short_distance']\n",
    "trips.loc[trips['mode_model']==2, 'cost_rail'] = \\\n",
    "    trips.loc[trips['mode_model']==2, 'cost_rail_long_distance']"
   ]
  },
  {
   "cell_type": "code",
   "execution_count": 19,
   "metadata": {},
   "outputs": [
    {
     "data": {
      "text/html": [
       "<div>\n",
       "<style scoped>\n",
       "    .dataframe tbody tr th:only-of-type {\n",
       "        vertical-align: middle;\n",
       "    }\n",
       "\n",
       "    .dataframe tbody tr th {\n",
       "        vertical-align: top;\n",
       "    }\n",
       "\n",
       "    .dataframe thead th {\n",
       "        text-align: right;\n",
       "    }\n",
       "</style>\n",
       "<table border=\"1\" class=\"dataframe\">\n",
       "  <thead>\n",
       "    <tr style=\"text-align: right;\">\n",
       "      <th></th>\n",
       "      <th>cost_car</th>\n",
       "      <th>cost_coach</th>\n",
       "      <th>cost_bus</th>\n",
       "      <th>cost_air</th>\n",
       "      <th>cost_rail_short_distance</th>\n",
       "      <th>cost_rail_long_distance</th>\n",
       "      <th>cost_rail</th>\n",
       "    </tr>\n",
       "    <tr>\n",
       "      <th>mode_model</th>\n",
       "      <th></th>\n",
       "      <th></th>\n",
       "      <th></th>\n",
       "      <th></th>\n",
       "      <th></th>\n",
       "      <th></th>\n",
       "      <th></th>\n",
       "    </tr>\n",
       "  </thead>\n",
       "  <tbody>\n",
       "    <tr>\n",
       "      <th>1</th>\n",
       "      <td>3.738838</td>\n",
       "      <td>3.275266</td>\n",
       "      <td>1.272557</td>\n",
       "      <td>inf</td>\n",
       "      <td>4.904722</td>\n",
       "      <td>inf</td>\n",
       "      <td>4.904722</td>\n",
       "    </tr>\n",
       "    <tr>\n",
       "      <th>2</th>\n",
       "      <td>19.502999</td>\n",
       "      <td>21.459989</td>\n",
       "      <td>1.771583</td>\n",
       "      <td>inf</td>\n",
       "      <td>26.094024</td>\n",
       "      <td>inf</td>\n",
       "      <td>inf</td>\n",
       "    </tr>\n",
       "    <tr>\n",
       "      <th>3</th>\n",
       "      <td>7.105717</td>\n",
       "      <td>10.508935</td>\n",
       "      <td>1.782637</td>\n",
       "      <td>inf</td>\n",
       "      <td>16.327417</td>\n",
       "      <td>inf</td>\n",
       "      <td>28.826736</td>\n",
       "    </tr>\n",
       "    <tr>\n",
       "      <th>4</th>\n",
       "      <td>1.753079</td>\n",
       "      <td>1.422371</td>\n",
       "      <td>1.542150</td>\n",
       "      <td>inf</td>\n",
       "      <td>3.245615</td>\n",
       "      <td>inf</td>\n",
       "      <td>13.337327</td>\n",
       "    </tr>\n",
       "    <tr>\n",
       "      <th>5</th>\n",
       "      <td>38.094602</td>\n",
       "      <td>53.268468</td>\n",
       "      <td>2.192000</td>\n",
       "      <td>inf</td>\n",
       "      <td>58.848923</td>\n",
       "      <td>inf</td>\n",
       "      <td>82.931922</td>\n",
       "    </tr>\n",
       "    <tr>\n",
       "      <th>6</th>\n",
       "      <td>3.035034</td>\n",
       "      <td>3.529154</td>\n",
       "      <td>2.510895</td>\n",
       "      <td>inf</td>\n",
       "      <td>9.275015</td>\n",
       "      <td>inf</td>\n",
       "      <td>15.928690</td>\n",
       "    </tr>\n",
       "    <tr>\n",
       "      <th>7</th>\n",
       "      <td>0.700767</td>\n",
       "      <td>0.454600</td>\n",
       "      <td>2.204344</td>\n",
       "      <td>inf</td>\n",
       "      <td>1.874853</td>\n",
       "      <td>inf</td>\n",
       "      <td>25.832306</td>\n",
       "    </tr>\n",
       "  </tbody>\n",
       "</table>\n",
       "</div>"
      ],
      "text/plain": [
       "             cost_car  cost_coach  cost_bus  cost_air  \\\n",
       "mode_model                                              \n",
       "1            3.738838    3.275266  1.272557       inf   \n",
       "2           19.502999   21.459989  1.771583       inf   \n",
       "3            7.105717   10.508935  1.782637       inf   \n",
       "4            1.753079    1.422371  1.542150       inf   \n",
       "5           38.094602   53.268468  2.192000       inf   \n",
       "6            3.035034    3.529154  2.510895       inf   \n",
       "7            0.700767    0.454600  2.204344       inf   \n",
       "\n",
       "            cost_rail_short_distance  cost_rail_long_distance  cost_rail  \n",
       "mode_model                                                                \n",
       "1                           4.904722                      inf   4.904722  \n",
       "2                          26.094024                      inf        inf  \n",
       "3                          16.327417                      inf  28.826736  \n",
       "4                           3.245615                      inf  13.337327  \n",
       "5                          58.848923                      inf  82.931922  \n",
       "6                           9.275015                      inf  15.928690  \n",
       "7                           1.874853                      inf  25.832306  "
      ]
     },
     "execution_count": 19,
     "metadata": {},
     "output_type": "execute_result"
    }
   ],
   "source": [
    "# Summary\n",
    "trips.groupby('mode_model').agg({'cost_car': 'mean', 'cost_coach': 'mean',\n",
    "                                 'cost_bus': 'mean', 'cost_air': 'mean',\n",
    "                                 'cost_rail_short_distance': 'mean',\n",
    "                                 'cost_rail_long_distance': 'mean',\n",
    "                                 'cost_rail': 'mean'})"
   ]
  },
  {
   "cell_type": "code",
   "execution_count": 20,
   "metadata": {},
   "outputs": [
    {
     "data": {
      "text/html": [
       "<div>\n",
       "<style scoped>\n",
       "    .dataframe tbody tr th:only-of-type {\n",
       "        vertical-align: middle;\n",
       "    }\n",
       "\n",
       "    .dataframe tbody tr th {\n",
       "        vertical-align: top;\n",
       "    }\n",
       "\n",
       "    .dataframe thead th {\n",
       "        text-align: right;\n",
       "    }\n",
       "</style>\n",
       "<table border=\"1\" class=\"dataframe\">\n",
       "  <thead>\n",
       "    <tr style=\"text-align: right;\">\n",
       "      <th></th>\n",
       "      <th>cost_car</th>\n",
       "      <th>cost_coach</th>\n",
       "      <th>cost_bus</th>\n",
       "      <th>cost_air</th>\n",
       "      <th>cost_rail_short_distance</th>\n",
       "      <th>cost_rail_long_distance</th>\n",
       "      <th>cost_rail</th>\n",
       "    </tr>\n",
       "    <tr>\n",
       "      <th>mode_model</th>\n",
       "      <th></th>\n",
       "      <th></th>\n",
       "      <th></th>\n",
       "      <th></th>\n",
       "      <th></th>\n",
       "      <th></th>\n",
       "      <th></th>\n",
       "    </tr>\n",
       "  </thead>\n",
       "  <tbody>\n",
       "    <tr>\n",
       "      <th>1</th>\n",
       "      <td>3.738838</td>\n",
       "      <td>3.275266</td>\n",
       "      <td>1.272557</td>\n",
       "      <td>151.878394</td>\n",
       "      <td>4.904722</td>\n",
       "      <td>25.151853</td>\n",
       "      <td>4.904722</td>\n",
       "    </tr>\n",
       "    <tr>\n",
       "      <th>2</th>\n",
       "      <td>19.502999</td>\n",
       "      <td>21.459989</td>\n",
       "      <td>1.771583</td>\n",
       "      <td>146.773719</td>\n",
       "      <td>26.094024</td>\n",
       "      <td>64.513418</td>\n",
       "      <td>64.513418</td>\n",
       "    </tr>\n",
       "    <tr>\n",
       "      <th>3</th>\n",
       "      <td>7.105717</td>\n",
       "      <td>10.508935</td>\n",
       "      <td>1.782637</td>\n",
       "      <td>164.090031</td>\n",
       "      <td>16.327417</td>\n",
       "      <td>48.984600</td>\n",
       "      <td>28.826736</td>\n",
       "    </tr>\n",
       "    <tr>\n",
       "      <th>4</th>\n",
       "      <td>1.753079</td>\n",
       "      <td>1.422371</td>\n",
       "      <td>1.542150</td>\n",
       "      <td>149.999710</td>\n",
       "      <td>3.245615</td>\n",
       "      <td>40.480648</td>\n",
       "      <td>13.337327</td>\n",
       "    </tr>\n",
       "    <tr>\n",
       "      <th>5</th>\n",
       "      <td>38.094602</td>\n",
       "      <td>53.268468</td>\n",
       "      <td>2.192000</td>\n",
       "      <td>93.881010</td>\n",
       "      <td>58.848923</td>\n",
       "      <td>93.445339</td>\n",
       "      <td>82.931922</td>\n",
       "    </tr>\n",
       "    <tr>\n",
       "      <th>6</th>\n",
       "      <td>3.035034</td>\n",
       "      <td>3.529154</td>\n",
       "      <td>2.510895</td>\n",
       "      <td>160.986541</td>\n",
       "      <td>9.275015</td>\n",
       "      <td>36.360228</td>\n",
       "      <td>15.928690</td>\n",
       "    </tr>\n",
       "    <tr>\n",
       "      <th>7</th>\n",
       "      <td>0.700767</td>\n",
       "      <td>0.454600</td>\n",
       "      <td>2.204344</td>\n",
       "      <td>164.287274</td>\n",
       "      <td>1.874853</td>\n",
       "      <td>56.506331</td>\n",
       "      <td>25.832306</td>\n",
       "    </tr>\n",
       "  </tbody>\n",
       "</table>\n",
       "</div>"
      ],
      "text/plain": [
       "             cost_car  cost_coach  cost_bus    cost_air  \\\n",
       "mode_model                                                \n",
       "1            3.738838    3.275266  1.272557  151.878394   \n",
       "2           19.502999   21.459989  1.771583  146.773719   \n",
       "3            7.105717   10.508935  1.782637  164.090031   \n",
       "4            1.753079    1.422371  1.542150  149.999710   \n",
       "5           38.094602   53.268468  2.192000   93.881010   \n",
       "6            3.035034    3.529154  2.510895  160.986541   \n",
       "7            0.700767    0.454600  2.204344  164.287274   \n",
       "\n",
       "            cost_rail_short_distance  cost_rail_long_distance  cost_rail  \n",
       "mode_model                                                                \n",
       "1                           4.904722                25.151853   4.904722  \n",
       "2                          26.094024                64.513418  64.513418  \n",
       "3                          16.327417                48.984600  28.826736  \n",
       "4                           3.245615                40.480648  13.337327  \n",
       "5                          58.848923                93.445339  82.931922  \n",
       "6                           9.275015                36.360228  15.928690  \n",
       "7                           1.874853                56.506331  25.832306  "
      ]
     },
     "execution_count": 20,
     "metadata": {},
     "output_type": "execute_result"
    }
   ],
   "source": [
    "# Summary\n",
    "trips.replace({np.inf:np.nan}).groupby('mode_model').agg(\n",
    "    {'cost_car': 'mean', 'cost_coach': 'mean',\n",
    "     'cost_bus': 'mean', 'cost_air': 'mean',\n",
    "     'cost_rail_short_distance': 'mean',\n",
    "     'cost_rail_long_distance': 'mean',\n",
    "     'cost_rail': 'mean'})"
   ]
  },
  {
   "cell_type": "code",
   "execution_count": 21,
   "metadata": {},
   "outputs": [
    {
     "data": {
      "text/plain": [
       "['rail_long_distance', 'rail_short_distance', 'coach', 'air', 'bus']"
      ]
     },
     "execution_count": 21,
     "metadata": {},
     "output_type": "execute_result"
    }
   ],
   "source": [
    "sm.pt_route_types"
   ]
  },
  {
   "cell_type": "code",
   "execution_count": 22,
   "metadata": {},
   "outputs": [
    {
     "name": "stdout",
     "output_type": "stream",
     "text": [
      "rail_short_distance: 0 observations have no model connection (0.0 percent)\n",
      "rail_long_distance: 34 observations have no model connection (3.7694013303769403 percent)\n",
      "coach: 0 observations have no model connection (0.0 percent)\n",
      "bus: 0 observations have no model connection (0.0 percent)\n",
      "air: 4 observations have no model connection (15.384615384615385 percent)\n",
      "car: 0 observations have no model connection (0.0 percent)\n",
      "walk: 0 observations have no model connection (0.0 percent)\n"
     ]
    }
   ],
   "source": [
    "# How many observations must be dropped later and what are their shares?\n",
    "mode_dict = {1: 'rail_short_distance', 2: 'rail_long_distance',\n",
    "             3: 'coach', 4: 'bus', 5: 'air', 6: 'car', 7: 'walk'}\n",
    "mode_dict = {v:k for k,v in mode_dict.items()}\n",
    "for t in mode_dict.keys():\n",
    "    k = len(trips.loc[((trips['mode_model']==mode_dict[t]) & (trips['cost_'+t]==np.inf))])\n",
    "    print('{}: {} observations have no model connection ({} percent)'.format(\n",
    "        t, k, k/len(trips.loc[trips['mode_model']==mode_dict[t]])*100))"
   ]
  },
  {
   "cell_type": "markdown",
   "metadata": {},
   "source": [
    "Dropping a few percent of rail observations will skew the calibration towards the car. Thus, the same share of car, bus, coach trips from the same distance categories should be dropped as well. Air transport has so few observations that correct calibration of air trips is not possible with dataset anyways."
   ]
  },
  {
   "cell_type": "code",
   "execution_count": 23,
   "metadata": {},
   "outputs": [
    {
     "data": {
      "text/plain": [
       "<AxesSubplot:xlabel='purpose_vp'>"
      ]
     },
     "execution_count": 23,
     "metadata": {},
     "output_type": "execute_result"
    },
    {
     "data": {
      "image/png": "[encoded data removed]",
      "text/plain": [
       "<Figure size 216x216 with 1 Axes>"
      ]
     },
     "metadata": {
      "needs_background": "light"
     },
     "output_type": "display_data"
    }
   ],
   "source": [
    "# Purpose distribution of trips that will be dropped\n",
    "trips.loc[((trips['mode_model']==2) & (trips['cost_rail_long_distance']==np.inf))\n",
    "         ].groupby('purpose_vp').agg({'origin': 'count'}).plot.bar(figsize=(3,3))"
   ]
  },
  {
   "cell_type": "markdown",
   "metadata": {},
   "source": [
    "## Accessibility\n",
    "Another important variable for the mode choice model is the accessibility of transport modes. Cars are highly accessible (1), only if there is one available. We apply the formula from the model. \n",
    "It considers the distance to the next train/bus stop from the start and end position."
   ]
  },
  {
   "cell_type": "code",
   "execution_count": 24,
   "metadata": {},
   "outputs": [],
   "source": [
    "def accessibility(dist_origin, dist_destination, weight=20):\n",
    "    '''calculate an accessibility metric based on distances\n",
    "    :param dist_origin: distance to the next mean of transport from origin in km\n",
    "    :param dist_destination: distance from the used mean of transport to destination in km\n",
    "    :param weight: (optional) inverse weight of distances\n",
    "    :return: accessibility factor on a range from 0 to 1'''\n",
    "    return max(0, 1 - dist_origin/weight - dist_destination/weight)"
   ]
  },
  {
   "cell_type": "code",
   "execution_count": 25,
   "metadata": {},
   "outputs": [],
   "source": [
    "# The maximum accessibility for foot, bicycle and car is 1\n",
    "trips['accessibility_walk'] = 1\n",
    "trips['accessibility_car'] = trips['car_avail'].replace({9:0})"
   ]
  },
  {
   "cell_type": "code",
   "execution_count": 26,
   "metadata": {},
   "outputs": [],
   "source": [
    "# Rail\n",
    "# People don't differentiate between long and short distance accessibility\n",
    "# if there is at least one railway station nearby\n",
    "trips['accessibility_rail'] = [accessibility(o, d) for o, d in zip(\n",
    "    trips['dist_train_origin'], trips['dist_train_destination'])]"
   ]
  },
  {
   "cell_type": "code",
   "execution_count": 27,
   "metadata": {},
   "outputs": [],
   "source": [
    "# Bus\n",
    "trips['accessibility_bus'] = [accessibility(o, d) for o, d in zip(\n",
    "    trips['dist_bus_origin'], trips['dist_bus_destination'])]"
   ]
  },
  {
   "cell_type": "code",
   "execution_count": 28,
   "metadata": {},
   "outputs": [],
   "source": [
    "# Coach\n",
    "# Assume: It has the same accessibility as rail\n",
    "trips['accessibility_coach'] = trips['accessibility_rail']"
   ]
  },
  {
   "cell_type": "code",
   "execution_count": 29,
   "metadata": {},
   "outputs": [],
   "source": [
    "# Air\n",
    "# Take the model's accessibility from the shortest path\n",
    "air_dict = sm.pt_los.sort_values('length').loc[\n",
    "    sm.pt_los['route_type']=='air'].groupby(\n",
    "    ['origin', 'destination']).first()['accessibility'].to_dict()"
   ]
  },
  {
   "cell_type": "code",
   "execution_count": 30,
   "metadata": {},
   "outputs": [],
   "source": [
    "trips['accessibility_air'] = [air_dict[(o,d)]\n",
    "                              if (o,d) in air_dict.keys() else 0\n",
    "                              for o, d in zip(trips['origin'], trips['destination'])]"
   ]
  },
  {
   "cell_type": "code",
   "execution_count": 31,
   "metadata": {},
   "outputs": [
    {
     "data": {
      "text/html": [
       "<div>\n",
       "<style scoped>\n",
       "    .dataframe tbody tr th:only-of-type {\n",
       "        vertical-align: middle;\n",
       "    }\n",
       "\n",
       "    .dataframe tbody tr th {\n",
       "        vertical-align: top;\n",
       "    }\n",
       "\n",
       "    .dataframe thead th {\n",
       "        text-align: right;\n",
       "    }\n",
       "</style>\n",
       "<table border=\"1\" class=\"dataframe\">\n",
       "  <thead>\n",
       "    <tr style=\"text-align: right;\">\n",
       "      <th></th>\n",
       "      <th>accessibility_car</th>\n",
       "      <th>accessibility_rail</th>\n",
       "      <th>accessibility_coach</th>\n",
       "      <th>accessibility_bus</th>\n",
       "      <th>accessibility_air</th>\n",
       "    </tr>\n",
       "    <tr>\n",
       "      <th>mode_model</th>\n",
       "      <th></th>\n",
       "      <th></th>\n",
       "      <th></th>\n",
       "      <th></th>\n",
       "      <th></th>\n",
       "    </tr>\n",
       "  </thead>\n",
       "  <tbody>\n",
       "    <tr>\n",
       "      <th>1</th>\n",
       "      <td>0.812663</td>\n",
       "      <td>0.721606</td>\n",
       "      <td>0.721606</td>\n",
       "      <td>0.764201</td>\n",
       "      <td>0.004144</td>\n",
       "    </tr>\n",
       "    <tr>\n",
       "      <th>2</th>\n",
       "      <td>0.747228</td>\n",
       "      <td>0.706929</td>\n",
       "      <td>0.706929</td>\n",
       "      <td>0.772727</td>\n",
       "      <td>0.057884</td>\n",
       "    </tr>\n",
       "    <tr>\n",
       "      <th>3</th>\n",
       "      <td>0.820717</td>\n",
       "      <td>0.556574</td>\n",
       "      <td>0.556574</td>\n",
       "      <td>0.642829</td>\n",
       "      <td>0.027661</td>\n",
       "    </tr>\n",
       "    <tr>\n",
       "      <th>4</th>\n",
       "      <td>0.830123</td>\n",
       "      <td>0.606162</td>\n",
       "      <td>0.606162</td>\n",
       "      <td>0.724891</td>\n",
       "      <td>0.014202</td>\n",
       "    </tr>\n",
       "    <tr>\n",
       "      <th>5</th>\n",
       "      <td>0.961538</td>\n",
       "      <td>0.173077</td>\n",
       "      <td>0.173077</td>\n",
       "      <td>0.259615</td>\n",
       "      <td>0.137898</td>\n",
       "    </tr>\n",
       "    <tr>\n",
       "      <th>6</th>\n",
       "      <td>0.987501</td>\n",
       "      <td>0.627068</td>\n",
       "      <td>0.627068</td>\n",
       "      <td>0.744323</td>\n",
       "      <td>0.007470</td>\n",
       "    </tr>\n",
       "    <tr>\n",
       "      <th>7</th>\n",
       "      <td>0.893053</td>\n",
       "      <td>0.325179</td>\n",
       "      <td>0.325179</td>\n",
       "      <td>0.379242</td>\n",
       "      <td>0.026481</td>\n",
       "    </tr>\n",
       "  </tbody>\n",
       "</table>\n",
       "</div>"
      ],
      "text/plain": [
       "            accessibility_car  accessibility_rail  accessibility_coach  \\\n",
       "mode_model                                                               \n",
       "1                    0.812663            0.721606             0.721606   \n",
       "2                    0.747228            0.706929             0.706929   \n",
       "3                    0.820717            0.556574             0.556574   \n",
       "4                    0.830123            0.606162             0.606162   \n",
       "5                    0.961538            0.173077             0.173077   \n",
       "6                    0.987501            0.627068             0.627068   \n",
       "7                    0.893053            0.325179             0.325179   \n",
       "\n",
       "            accessibility_bus  accessibility_air  \n",
       "mode_model                                        \n",
       "1                    0.764201           0.004144  \n",
       "2                    0.772727           0.057884  \n",
       "3                    0.642829           0.027661  \n",
       "4                    0.724891           0.014202  \n",
       "5                    0.259615           0.137898  \n",
       "6                    0.744323           0.007470  \n",
       "7                    0.379242           0.026481  "
      ]
     },
     "execution_count": 31,
     "metadata": {},
     "output_type": "execute_result"
    }
   ],
   "source": [
    "# Summary\n",
    "trips.groupby('mode_model').agg(\n",
    "    {'accessibility_car': 'mean', 'accessibility_rail': 'mean',\n",
    "     'accessibility_coach': 'mean', 'accessibility_bus': 'mean',\n",
    "     'accessibility_air': 'mean'})"
   ]
  },
  {
   "cell_type": "code",
   "execution_count": 32,
   "metadata": {},
   "outputs": [
    {
     "data": {
      "text/plain": [
       "accessibility_car      0.966395\n",
       "accessibility_rail     0.625315\n",
       "accessibility_coach    0.625315\n",
       "accessibility_bus      0.736479\n",
       "accessibility_air      0.008484\n",
       "dtype: float64"
      ]
     },
     "execution_count": 32,
     "metadata": {},
     "output_type": "execute_result"
    }
   ],
   "source": [
    "trips[['accessibility_car', 'accessibility_rail', 'accessibility_coach',\n",
    "       'accessibility_bus', 'accessibility_air']].mean()"
   ]
  },
  {
   "cell_type": "code",
   "execution_count": 33,
   "metadata": {},
   "outputs": [
    {
     "name": "stdout",
     "output_type": "stream",
     "text": [
      "rail: 114 observations have zero accessibility (12.638580931263856 percent)\n",
      "coach: 62 observations have zero accessibility (24.701195219123505 percent)\n",
      "bus: 775 observations have zero accessibility (16.96584938704028 percent)\n",
      "air: 12 observations have zero accessibility (46.15384615384615 percent)\n",
      "car: 1170 observations have zero accessibility (1.2499465834793384 percent)\n",
      "walk: 0 observations have zero accessibility (0.0 percent)\n"
     ]
    }
   ],
   "source": [
    "# How many observations have zero accessibility even though they were chosen?\n",
    "mode_dict = {1: 'rail', 2: 'rail',\n",
    "             3: 'coach', 4: 'bus', 5: 'air', 6: 'car', 7: 'walk'}\n",
    "mode_dict = {v:k for k,v in mode_dict.items()}\n",
    "for t in mode_dict.keys():\n",
    "    k = len(trips.loc[((trips['mode_model']==mode_dict[t]) & (trips['accessibility_'+t]==0))])\n",
    "    print('{}: {} observations have zero accessibility ({} percent)'.format(\n",
    "        t, k, k/len(trips.loc[trips['mode_model']==mode_dict[t]])*100))"
   ]
  },
  {
   "cell_type": "code",
   "execution_count": 34,
   "metadata": {},
   "outputs": [
    {
     "data": {
      "text/html": [
       "<div>\n",
       "<style scoped>\n",
       "    .dataframe tbody tr th:only-of-type {\n",
       "        vertical-align: middle;\n",
       "    }\n",
       "\n",
       "    .dataframe tbody tr th {\n",
       "        vertical-align: top;\n",
       "    }\n",
       "\n",
       "    .dataframe thead th {\n",
       "        text-align: right;\n",
       "    }\n",
       "</style>\n",
       "<table border=\"1\" class=\"dataframe\">\n",
       "  <thead>\n",
       "    <tr style=\"text-align: right;\">\n",
       "      <th></th>\n",
       "      <th>origin</th>\n",
       "      <th>destination</th>\n",
       "      <th>SKTYP</th>\n",
       "      <th>distance</th>\n",
       "      <th>distance_routed</th>\n",
       "      <th>duration</th>\n",
       "      <th>purpose</th>\n",
       "      <th>mode</th>\n",
       "      <th>mode_combo</th>\n",
       "      <th>n_persons</th>\n",
       "      <th>...</th>\n",
       "      <th>cost_bus</th>\n",
       "      <th>cost_coach</th>\n",
       "      <th>cost_air</th>\n",
       "      <th>cost_rail</th>\n",
       "      <th>accessibility_walk</th>\n",
       "      <th>accessibility_car</th>\n",
       "      <th>accessibility_rail</th>\n",
       "      <th>accessibility_bus</th>\n",
       "      <th>accessibility_coach</th>\n",
       "      <th>accessibility_air</th>\n",
       "    </tr>\n",
       "  </thead>\n",
       "  <tbody>\n",
       "  </tbody>\n",
       "</table>\n",
       "<p>0 rows × 44 columns</p>\n",
       "</div>"
      ],
      "text/plain": [
       "Empty DataFrame\n",
       "Columns: [origin, destination, SKTYP, distance, distance_routed, duration, purpose, mode, mode_combo, n_persons, car_avail, ticket_type, mode_affinity, dist_train_origin, dist_bus_origin, dist_train_destination, dist_bus_destination, W_DETAIL, W_SO2, urbanisation, purpose_vp, mode_model, time_car, time_coach, time_rail_short_distance, time_rail_long_distance, time_bus, time_air, time_walk, time_rail, cost_walk, cost_car, cost_rail_short_distance, cost_rail_long_distance, cost_bus, cost_coach, cost_air, cost_rail, accessibility_walk, accessibility_car, accessibility_rail, accessibility_bus, accessibility_coach, accessibility_air]\n",
       "Index: []\n",
       "\n",
       "[0 rows x 44 columns]"
      ]
     },
     "execution_count": 34,
     "metadata": {},
     "output_type": "execute_result"
    }
   ],
   "source": [
    "trips.loc[trips.isna().any(axis=1)]"
   ]
  },
  {
   "cell_type": "markdown",
   "metadata": {},
   "source": [
    "## Save dataset"
   ]
  },
  {
   "cell_type": "code",
   "execution_count": 35,
   "metadata": {},
   "outputs": [],
   "source": [
    "trips.to_csv(input_path + 'calibration_inter-cellular_trips_MiD2017.csv')"
   ]
  }
 ],
 "metadata": {
  "kernelspec": {
   "display_name": "Python 3",
   "language": "python",
   "name": "python3"
  },
  "language_info": {
   "codemirror_mode": {
    "name": "ipython",
    "version": 3
   },
   "file_extension": ".py",
   "mimetype": "text/x-python",
   "name": "python",
   "nbconvert_exporter": "python",
   "pygments_lexer": "ipython3",
   "version": "3.8.1"
  }
 },
 "nbformat": 4,
 "nbformat_minor": 4
}
