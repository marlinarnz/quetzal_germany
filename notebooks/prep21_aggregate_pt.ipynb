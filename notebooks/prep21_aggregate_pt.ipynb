{
 "cells": [
  {
   "cell_type": "code",
   "execution_count": 1,
   "metadata": {},
   "outputs": [
    {
     "name": "stderr",
     "output_type": "stream",
     "text": [
      "In C:\\Users\\marlin.arnz\\AppData\\Local\\Continuum\\miniconda3\\envs\\quetzal\\lib\\site-packages\\matplotlib\\mpl-data\\stylelib\\_classic_test.mplstyle: \n",
      "The text.latex.preview rcparam was deprecated in Matplotlib 3.3 and will be removed two minor releases later.\n",
      "In C:\\Users\\marlin.arnz\\AppData\\Local\\Continuum\\miniconda3\\envs\\quetzal\\lib\\site-packages\\matplotlib\\mpl-data\\stylelib\\_classic_test.mplstyle: \n",
      "The mathtext.fallback_to_cm rcparam was deprecated in Matplotlib 3.3 and will be removed two minor releases later.\n",
      "In C:\\Users\\marlin.arnz\\AppData\\Local\\Continuum\\miniconda3\\envs\\quetzal\\lib\\site-packages\\matplotlib\\mpl-data\\stylelib\\_classic_test.mplstyle: Support for setting the 'mathtext.fallback_to_cm' rcParam is deprecated since 3.3 and will be removed two minor releases later; use 'mathtext.fallback : 'cm' instead.\n",
      "In C:\\Users\\marlin.arnz\\AppData\\Local\\Continuum\\miniconda3\\envs\\quetzal\\lib\\site-packages\\matplotlib\\mpl-data\\stylelib\\_classic_test.mplstyle: \n",
      "The validate_bool_maybe_none function was deprecated in Matplotlib 3.3 and will be removed two minor releases later.\n",
      "In C:\\Users\\marlin.arnz\\AppData\\Local\\Continuum\\miniconda3\\envs\\quetzal\\lib\\site-packages\\matplotlib\\mpl-data\\stylelib\\_classic_test.mplstyle: \n",
      "The savefig.jpeg_quality rcparam was deprecated in Matplotlib 3.3 and will be removed two minor releases later.\n",
      "In C:\\Users\\marlin.arnz\\AppData\\Local\\Continuum\\miniconda3\\envs\\quetzal\\lib\\site-packages\\matplotlib\\mpl-data\\stylelib\\_classic_test.mplstyle: \n",
      "The keymap.all_axes rcparam was deprecated in Matplotlib 3.3 and will be removed two minor releases later.\n",
      "In C:\\Users\\marlin.arnz\\AppData\\Local\\Continuum\\miniconda3\\envs\\quetzal\\lib\\site-packages\\matplotlib\\mpl-data\\stylelib\\_classic_test.mplstyle: \n",
      "The animation.avconv_path rcparam was deprecated in Matplotlib 3.3 and will be removed two minor releases later.\n",
      "In C:\\Users\\marlin.arnz\\AppData\\Local\\Continuum\\miniconda3\\envs\\quetzal\\lib\\site-packages\\matplotlib\\mpl-data\\stylelib\\_classic_test.mplstyle: \n",
      "The animation.avconv_args rcparam was deprecated in Matplotlib 3.3 and will be removed two minor releases later.\n"
     ]
    }
   ],
   "source": [
    "import sys # for automation and parallelisation\n",
    "manual, scenario = (True, 'base') if 'ipykernel' in sys.argv[0] else (False, sys.argv[1])\n",
    "if manual:\n",
    "    %matplotlib inline"
   ]
  },
  {
   "cell_type": "code",
   "execution_count": 2,
   "metadata": {},
   "outputs": [],
   "source": [
    "import numpy as np\n",
    "import pandas as pd\n",
    "import geopandas as gpd\n",
    "from shapely import geometry\n",
    "from geopy.distance import geodesic\n",
    "import shapely.speedups\n",
    "from tqdm import tqdm\n",
    "from quetzal.model import stepmodel\n",
    "from quetzal.engine import engine\n",
    "from quetzal.io import excel"
   ]
  },
  {
   "cell_type": "markdown",
   "metadata": {},
   "source": [
    "# Preparation of the transport network.\n",
    "## Saves aggregated bus and short-distance rail network with other PT modes.\n",
    "## Needs PT networks."
   ]
  },
  {
   "cell_type": "code",
   "execution_count": 3,
   "metadata": {},
   "outputs": [],
   "source": [
    "input_path = '../input_static/'\n",
    "output_path = '../output/'\n",
    "model_path = '../model/'"
   ]
  },
  {
   "cell_type": "code",
   "execution_count": 4,
   "metadata": {},
   "outputs": [],
   "source": [
    "# Load scenario parameters\n",
    "params = excel.read_var(file='../input/parameters.xls', scenario=scenario)"
   ]
  },
  {
   "cell_type": "code",
   "execution_count": 5,
   "metadata": {},
   "outputs": [],
   "source": [
    "# Loading StepModel with PT networks...\n",
    "sm = stepmodel.read_json(model_path + 'de_pt_network_agg')"
   ]
  },
  {
   "cell_type": "code",
   "execution_count": 6,
   "metadata": {},
   "outputs": [
    {
     "data": {
      "text/html": [
       "<div>\n",
       "<style scoped>\n",
       "    .dataframe tbody tr th:only-of-type {\n",
       "        vertical-align: middle;\n",
       "    }\n",
       "\n",
       "    .dataframe tbody tr th {\n",
       "        vertical-align: top;\n",
       "    }\n",
       "\n",
       "    .dataframe thead th {\n",
       "        text-align: right;\n",
       "    }\n",
       "</style>\n",
       "<table border=\"1\" class=\"dataframe\">\n",
       "  <thead>\n",
       "    <tr style=\"text-align: right;\">\n",
       "      <th></th>\n",
       "      <th>route_type</th>\n",
       "      <th>stop_name</th>\n",
       "      <th>FID</th>\n",
       "      <th>geometry</th>\n",
       "    </tr>\n",
       "    <tr>\n",
       "      <th>index</th>\n",
       "      <th></th>\n",
       "      <th></th>\n",
       "      <th></th>\n",
       "      <th></th>\n",
       "    </tr>\n",
       "  </thead>\n",
       "  <tbody>\n",
       "    <tr>\n",
       "      <th>b_DE94D_19</th>\n",
       "      <td>bus</td>\n",
       "      <td>None</td>\n",
       "      <td>DE94D</td>\n",
       "      <td>POINT (8.46921 52.90127)</td>\n",
       "    </tr>\n",
       "  </tbody>\n",
       "</table>\n",
       "</div>"
      ],
      "text/plain": [
       "           route_type stop_name    FID                  geometry\n",
       "index                                                           \n",
       "b_DE94D_19        bus      None  DE94D  POINT (8.46921 52.90127)"
      ]
     },
     "execution_count": 6,
     "metadata": {},
     "output_type": "execute_result"
    }
   ],
   "source": [
    "sm.nodes.sample()"
   ]
  },
  {
   "cell_type": "code",
   "execution_count": 7,
   "metadata": {},
   "outputs": [
    {
     "name": "stdout",
     "output_type": "stream",
     "text": [
      "(139602, 4)\n",
      "(132621, 4)\n"
     ]
    }
   ],
   "source": [
    "# Divide nodes\n",
    "print(sm.nodes.shape)\n",
    "disagg_nodes = sm.nodes.loc[sm.nodes['route_type']=='bus']\n",
    "sm.nodes = sm.nodes.loc[sm.nodes['route_type']!='bus']\n",
    "print(disagg_nodes.shape)"
   ]
  },
  {
   "cell_type": "code",
   "execution_count": 8,
   "metadata": {},
   "outputs": [
    {
     "name": "stdout",
     "output_type": "stream",
     "text": [
      "(1245030, 10)\n",
      "(1185733, 10)\n"
     ]
    }
   ],
   "source": [
    "# Divide links\n",
    "print(sm.links.shape)\n",
    "disagg_links = sm.links.loc[sm.links['route_type']=='bus']\n",
    "sm.links = sm.links.loc[sm.links['route_type']!='bus']\n",
    "print(disagg_links.shape)"
   ]
  },
  {
   "cell_type": "code",
   "execution_count": 9,
   "metadata": {},
   "outputs": [
    {
     "data": {
      "text/plain": [
       "107969"
      ]
     },
     "execution_count": 9,
     "metadata": {},
     "output_type": "execute_result"
    }
   ],
   "source": [
    "# Number of trips\n",
    "len(disagg_links['trip_id'].unique())"
   ]
  },
  {
   "cell_type": "markdown",
   "metadata": {},
   "source": [
    "## Find relevant trips\n",
    "\n",
    "Mark trips that are relevant for inter-zonal connectivity and drop the rest."
   ]
  },
  {
   "cell_type": "code",
   "execution_count": 10,
   "metadata": {},
   "outputs": [],
   "source": [
    "# Find trips that are only within one zone\n",
    "node_dict = disagg_nodes['FID'].to_dict()\n",
    "disagg_links['a_zone'] = disagg_links['a'].map(node_dict)\n",
    "disagg_links['b_zone'] = disagg_links['b'].map(node_dict)\n",
    "relevant = disagg_links.groupby('trip_id').apply(\n",
    "    lambda t: (t['a_zone']!=t['b_zone']).any()).to_dict()\n",
    "disagg_links.drop(['a_zone', 'b_zone'], inplace=True, axis=1)"
   ]
  },
  {
   "cell_type": "code",
   "execution_count": 11,
   "metadata": {},
   "outputs": [
    {
     "data": {
      "text/plain": [
       "346041"
      ]
     },
     "execution_count": 11,
     "metadata": {},
     "output_type": "execute_result"
    }
   ],
   "source": [
    "agg_links = disagg_links.loc[disagg_links['trip_id'].map(relevant)]\n",
    "len(agg_links)"
   ]
  },
  {
   "cell_type": "code",
   "execution_count": 12,
   "metadata": {},
   "outputs": [
    {
     "data": {
      "text/plain": [
       "11798"
      ]
     },
     "execution_count": 12,
     "metadata": {},
     "output_type": "execute_result"
    }
   ],
   "source": [
    "# Build footpaths from long-distance links to short-distance\n",
    "sm.footpaths = sm.footpaths.iloc[0:0]\n",
    "for o in sm.nodes['route_type'].unique():\n",
    "    for d in disagg_nodes['route_type'].unique():\n",
    "        if o != d:\n",
    "            ntlegs = engine.ntlegs_from_centroids_and_nodes(\n",
    "                sm.nodes.loc[sm.nodes['route_type']==o],\n",
    "                disagg_nodes.loc[disagg_nodes['route_type']==d],\n",
    "                short_leg_speed=params['pt_access']['speed_walk'],\n",
    "                long_leg_speed=params['pt_access']['speed_bicycle'],\n",
    "                threshold=params['pt_access']['catchment_radius_walk'],\n",
    "                n_neighbors=params['access-egress_links']['n_long-pt_short-pt'],\n",
    "                coordinates_unit=sm.coordinates_unit)\n",
    "            if o == 'air':\n",
    "                ntlegs = ntlegs.loc[ntlegs['distance']<=\n",
    "                                    params['access-egress_links']['walk_air_max_dist']]\n",
    "            else:\n",
    "                ntlegs = ntlegs.loc[ntlegs['distance']<=\n",
    "                                    params['access-egress_links']['walk_max_dist']]\n",
    "            sm.footpaths = sm.footpaths.append(ntlegs)\n",
    "len(sm.footpaths)"
   ]
  },
  {
   "cell_type": "code",
   "execution_count": 13,
   "metadata": {},
   "outputs": [
    {
     "data": {
      "text/plain": [
       "49823"
      ]
     },
     "execution_count": 13,
     "metadata": {},
     "output_type": "execute_result"
    }
   ],
   "source": [
    "# Find trips that connect long-distance stops\n",
    "trip_set = set(disagg_links.loc[(disagg_links['a'].isin(sm.footpaths['a'])) |\n",
    "                                (disagg_links['b'].isin(sm.footpaths['a'])), 'trip_id'])\n",
    "# Drop trips that are already found above\n",
    "trip_set = trip_set.difference(set(agg_links['trip_id']))\n",
    "len(trip_set)"
   ]
  },
  {
   "cell_type": "code",
   "execution_count": 14,
   "metadata": {},
   "outputs": [
    {
     "data": {
      "text/plain": [
       "914453"
      ]
     },
     "execution_count": 14,
     "metadata": {},
     "output_type": "execute_result"
    }
   ],
   "source": [
    "# Add these trips to agg_links\n",
    "agg_links = agg_links.append(disagg_links.loc[disagg_links['trip_id'].isin(trip_set)])\n",
    "len(agg_links)"
   ]
  },
  {
   "cell_type": "code",
   "execution_count": 15,
   "metadata": {},
   "outputs": [
    {
     "data": {
      "text/plain": [
       "(110311, 4)"
      ]
     },
     "execution_count": 15,
     "metadata": {},
     "output_type": "execute_result"
    }
   ],
   "source": [
    "# Drop unused nodes\n",
    "agg_nodes = disagg_nodes.loc[agg_links[['a', 'b']].stack().unique()]\n",
    "agg_nodes.shape"
   ]
  },
  {
   "cell_type": "markdown",
   "metadata": {},
   "source": [
    "## Remove unneccessary stops\n",
    "Bus and short-distance rail service in the GTFS feeds contain trips with not further connected intermediate stops. Thus, the PT network graph can be reduced without loss of information."
   ]
  },
  {
   "cell_type": "code",
   "execution_count": 16,
   "metadata": {},
   "outputs": [],
   "source": [
    "# Count connectivity\n",
    "n_links_dict = agg_links[['a', 'b']].stack().value_counts().to_dict()\n",
    "n_connectors_dict = sm.footpaths[['a', 'b']].stack().value_counts().to_dict()\n",
    "agg_nodes['n_links'] = agg_nodes.index.map(n_links_dict)\n",
    "agg_nodes['n_connectors'] = agg_nodes.index.map(n_connectors_dict).fillna(0)"
   ]
  },
  {
   "cell_type": "code",
   "execution_count": 17,
   "metadata": {},
   "outputs": [
    {
     "data": {
      "text/plain": [
       "32"
      ]
     },
     "execution_count": 17,
     "metadata": {},
     "output_type": "execute_result"
    }
   ],
   "source": [
    "# Get the 10% percentile of most connected short-dist nodes\n",
    "cutoff = agg_nodes.sort_values('n_links').tail(int(len(disagg_nodes)/10))['n_links'].min()\n",
    "cutoff"
   ]
  },
  {
   "cell_type": "code",
   "execution_count": 18,
   "metadata": {},
   "outputs": [],
   "source": [
    "# Keep interconnected rail trips but drop all bus trips\n",
    "# without many connections or connection to other modes\n",
    "agg_nodes = agg_nodes.loc[\n",
    "    ((agg_nodes['route_type']!='bus') &\n",
    "     ((agg_nodes['n_links'] > 2) |\n",
    "      (agg_nodes['n_connectors'] > 0))\n",
    "    ) | (\n",
    "     (agg_nodes['route_type']=='bus') &\n",
    "     ((agg_nodes['n_links'] > cutoff) |\n",
    "      (agg_nodes['n_connectors'] > 0))\n",
    "    )]"
   ]
  },
  {
   "cell_type": "code",
   "execution_count": 19,
   "metadata": {},
   "outputs": [
    {
     "name": "stdout",
     "output_type": "stream",
     "text": [
      "(16243, 6)\n",
      "(0, 6)\n"
     ]
    }
   ],
   "source": [
    "print(agg_nodes.loc[agg_nodes['route_type']=='bus'].shape)\n",
    "print(agg_nodes.loc[agg_nodes['route_type']!='bus'].shape)"
   ]
  },
  {
   "cell_type": "code",
   "execution_count": 20,
   "metadata": {},
   "outputs": [
    {
     "data": {
      "image/png": "[encoded data removed]",
      "text/plain": [
       "<Figure size 1152x1152 with 1 Axes>"
      ]
     },
     "metadata": {
      "needs_background": "light"
     },
     "output_type": "display_data"
    }
   ],
   "source": [
    "if manual: gpd.GeoDataFrame(agg_nodes).plot(markersize=.5, figsize=(16,16))"
   ]
  },
  {
   "cell_type": "markdown",
   "metadata": {},
   "source": [
    "### Aggregate links\n",
    "\n",
    "Aggregate those those trips with removed nodes."
   ]
  },
  {
   "cell_type": "code",
   "execution_count": 21,
   "metadata": {},
   "outputs": [],
   "source": [
    "# Function for aggregating links\n",
    "geo_dict = agg_nodes['geometry'].to_dict()\n",
    "def agg_trips(trip):\n",
    "    # Drop links with missing nodes\n",
    "    missing_nodes = list(set(trip[['a', 'b']].stack()).difference(set(agg_nodes.index)))\n",
    "    trip_agg = trip.loc[~((trip['a'].isin(missing_nodes)) & trip['b'].isin(missing_nodes))\n",
    "                       ].sort_values('link_sequence')\n",
    "    if len(trip_agg.index) == 0:\n",
    "        # Trip is fully irrelevant\n",
    "        return\n",
    "    \n",
    "    if len(missing_nodes)==0 and len(trip.index)==len(trip_agg.index):\n",
    "        # This trip is not affected\n",
    "        return trip\n",
    "    \n",
    "    # Repair link succession\n",
    "    ind = list(trip_agg.index)\n",
    "    for i in range(len(ind) - 1):\n",
    "        if trip_agg.loc[ind[i], 'b'] in missing_nodes:\n",
    "            trip_agg.loc[ind[i + 1], 'a'] = trip_agg.loc[ind[i], 'a']\n",
    "            trip_agg.drop(ind[i], inplace=True)\n",
    "            i = i + 1\n",
    "    \n",
    "    ind = list(trip_agg.index)\n",
    "    if len(trip_agg.index) > 0 and trip_agg.loc[ind[0], 'a'] in missing_nodes:\n",
    "        # Drop unused first link\n",
    "        trip_agg = trip_agg.iloc[1:]\n",
    "    if len(trip_agg.index) > 0 and trip_agg.loc[ind[-1], 'b'] in missing_nodes:\n",
    "        # Drop unused last link\n",
    "        trip_agg = trip_agg.iloc[:-1]\n",
    "    ind = list(trip_agg.index)\n",
    "    if len(ind) == 0:\n",
    "        return\n",
    "    \n",
    "    # Aggregate travel time\n",
    "    for i in range(len(ind) - 1):\n",
    "        try:\n",
    "            assert trip_agg.loc[ind[i], 'b'] == trip_agg.loc[ind[i+1], 'a'], \\\n",
    "                'broken sequence in trip {}: stop {} has no successor link'.format(\n",
    "                    trip_agg['trip_id'].unique()[0], trip_agg.loc[ind[i], 'b'])\n",
    "        except AssertionError:\n",
    "            # Drop this trip\n",
    "            return\n",
    "        if trip_agg.loc[ind[i + 1], 'link_sequence'] - trip_agg.loc[ind[i], 'link_sequence'] > 1:\n",
    "            trip_agg.loc[ind[i], 'time'] = trip.loc[ind[i]:ind[i+1], 'time'].sum() - \\\n",
    "                trip_agg.loc[ind[i+1], 'time'] # pandas slicing includes both boundaries\n",
    "    \n",
    "    # Reindex the sequence numbers\n",
    "    trip_agg['link_sequence'] = [i for i in range(1, len(trip_agg.index)+1)]\n",
    "    \n",
    "    # Build geometries\n",
    "    try:\n",
    "        trip_agg['geometry'] = [geometry.LineString([geo_dict[a], geo_dict[b]])\n",
    "                                for a,b in zip(trip_agg['a'], trip_agg['b'])]\n",
    "    except KeyError:\n",
    "        return\n",
    "    \n",
    "    return trip_agg"
   ]
  },
  {
   "cell_type": "code",
   "execution_count": 22,
   "metadata": {},
   "outputs": [
    {
     "name": "stderr",
     "output_type": "stream",
     "text": [
      "100%|████████████████████████████████████████████████████████████████████████████| 71308/71308 [12:46<00:00, 92.98it/s]\n"
     ]
    }
   ],
   "source": [
    "# Faster variant for using multiple cores\n",
    "#import multiprocessing as mp\n",
    "#with mp.Pool(processes=10) as p:\n",
    "#    agg_links = pd.concat(p.map(\n",
    "#        agg_trips, [g for _, g in disagg_links.groupby('trip_id')]))\n",
    "tqdm.pandas()\n",
    "agg_links = agg_links.groupby('trip_id').progress_apply(\n",
    "    agg_trips).reset_index(level=0, drop=True)"
   ]
  },
  {
   "cell_type": "code",
   "execution_count": 23,
   "metadata": {},
   "outputs": [
    {
     "name": "stdout",
     "output_type": "stream",
     "text": [
      "0\n",
      "[]\n",
      "[]\n"
     ]
    }
   ],
   "source": [
    "# Links with stops that should be dropped\n",
    "errors = agg_links.loc[~(agg_links['a'].isin(list(agg_nodes.index))) |\n",
    "    ~(agg_links['b'].isin(list(agg_nodes.index)))]\n",
    "print(len(errors))\n",
    "print(errors['link_sequence'].unique())\n",
    "print(errors['route_type'].unique())"
   ]
  },
  {
   "cell_type": "code",
   "execution_count": 24,
   "metadata": {},
   "outputs": [
    {
     "data": {
      "text/plain": [
       "(333678, 10)"
      ]
     },
     "execution_count": 24,
     "metadata": {},
     "output_type": "execute_result"
    }
   ],
   "source": [
    "# Drop these erronous trips\n",
    "agg_links = agg_links.loc[~agg_links['trip_id'].isin(list(agg_links.loc[errors.index, 'trip_id']))]\n",
    "agg_links.shape"
   ]
  },
  {
   "cell_type": "code",
   "execution_count": 25,
   "metadata": {},
   "outputs": [
    {
     "data": {
      "text/plain": [
       "(236285, 10)"
      ]
     },
     "execution_count": 25,
     "metadata": {},
     "output_type": "execute_result"
    }
   ],
   "source": [
    "# Drop trips with different IDs but same stop sequences\n",
    "s = agg_links.groupby('trip_id').agg(tuple).drop_duplicates('a', keep='first')\n",
    "agg_links = agg_links.loc[agg_links['trip_id'].isin(s.index)]\n",
    "agg_links.shape"
   ]
  },
  {
   "cell_type": "markdown",
   "metadata": {},
   "source": [
    "## Build footpaths\n",
    "\n",
    "In addition to those generated above, build footpaths between agg_nodes, between long-distance nodes (because they overlay each other), and between centroids."
   ]
  },
  {
   "cell_type": "code",
   "execution_count": 26,
   "metadata": {},
   "outputs": [
    {
     "data": {
      "text/plain": [
       "11798"
      ]
     },
     "execution_count": 26,
     "metadata": {},
     "output_type": "execute_result"
    }
   ],
   "source": [
    "# Build footbaths between aggregated short-distance nodes\n",
    "for o in agg_nodes['route_type'].unique():\n",
    "    for d in agg_nodes['route_type'].unique():\n",
    "        if o != d:\n",
    "            ntlegs = engine.ntlegs_from_centroids_and_nodes(\n",
    "                agg_nodes.loc[agg_nodes['route_type']==o],\n",
    "                agg_nodes.loc[agg_nodes['route_type']==d],\n",
    "                short_leg_speed=params['pt_access']['speed_walk'],\n",
    "                long_leg_speed=params['pt_access']['speed_bicycle'],\n",
    "                threshold=params['pt_access']['catchment_radius_walk'],\n",
    "                n_neighbors=params['access-egress_links']['n_short-pt_short-pt'],\n",
    "                coordinates_unit=sm.coordinates_unit)\n",
    "            ntlegs = ntlegs.loc[ntlegs['distance']<=\n",
    "                                params['access-egress_links']['walk_max_dist']]\n",
    "            sm.footpaths = sm.footpaths.append(ntlegs)\n",
    "len(sm.footpaths)"
   ]
  },
  {
   "cell_type": "code",
   "execution_count": 27,
   "metadata": {},
   "outputs": [
    {
     "data": {
      "text/plain": [
       "20209"
      ]
     },
     "execution_count": 27,
     "metadata": {},
     "output_type": "execute_result"
    }
   ],
   "source": [
    "# Between long-distance nodes\n",
    "for o in sm.nodes['route_type'].unique():\n",
    "    for d in sm.nodes['route_type'].unique():\n",
    "        if o != d:\n",
    "            ntlegs = engine.ntlegs_from_centroids_and_nodes(\n",
    "                sm.nodes.loc[sm.nodes['route_type']==o],\n",
    "                sm.nodes.loc[sm.nodes['route_type']==d],\n",
    "                short_leg_speed=params['pt_access']['speed_walk'],\n",
    "                long_leg_speed=params['pt_access']['speed_bicycle'],\n",
    "                threshold=params['pt_access']['catchment_radius_walk'],\n",
    "                n_neighbors=params['access-egress_links']['n_long-pt_long-pt'],\n",
    "                coordinates_unit=sm.coordinates_unit)\n",
    "            if o == 'air':\n",
    "                ntlegs = ntlegs.loc[ntlegs['distance']<=\n",
    "                                    params['access-egress_links']['walk_air_max_dist']]\n",
    "            else:\n",
    "                ntlegs = ntlegs.loc[ntlegs['distance']<=\n",
    "                                    params['access-egress_links']['walk_max_dist']]\n",
    "            sm.footpaths = sm.footpaths.append(ntlegs)\n",
    "sm.footpaths.drop_duplicates(['a', 'b'], inplace=True)\n",
    "len(sm.footpaths)"
   ]
  },
  {
   "cell_type": "code",
   "execution_count": 28,
   "metadata": {},
   "outputs": [
    {
     "data": {
      "text/plain": [
       "20209"
      ]
     },
     "execution_count": 28,
     "metadata": {},
     "output_type": "execute_result"
    }
   ],
   "source": [
    "# Generate footpaths between centroids\n",
    "'''ntlegs = engine.ntlegs_from_centroids_and_nodes(\n",
    "    sm.centroids,\n",
    "    sm.centroids,\n",
    "    short_leg_speed=params['pt_access']['speed_bicycle'],\n",
    "    long_leg_speed=params['pt_access']['speed_bicycle'],\n",
    "    threshold=params['pt_access']['catchment_radius_walk'],\n",
    "    n_neighbors=params['access-egress_links']['n_bicycle_between_zones'],\n",
    "    coordinates_unit=sm.coordinates_unit)\n",
    "ntlegs = ntlegs.loc[ntlegs['distance']<=\n",
    "                    params['access-egress_links']['bicycle_max_dist']]\n",
    "ntlegs = ntlegs.loc[ntlegs['distance']!=0]\n",
    "ntlegs.drop_duplicates(['direction', 'distance', 'time'], inplace=True)\n",
    "sm.footpaths = sm.footpaths.append(ntlegs)'''\n",
    "len(sm.footpaths)"
   ]
  },
  {
   "cell_type": "code",
   "execution_count": 29,
   "metadata": {},
   "outputs": [
    {
     "data": {
      "text/html": [
       "<div>\n",
       "<style scoped>\n",
       "    .dataframe tbody tr th:only-of-type {\n",
       "        vertical-align: middle;\n",
       "    }\n",
       "\n",
       "    .dataframe tbody tr th {\n",
       "        vertical-align: top;\n",
       "    }\n",
       "\n",
       "    .dataframe thead th {\n",
       "        text-align: right;\n",
       "    }\n",
       "</style>\n",
       "<table border=\"1\" class=\"dataframe\">\n",
       "  <thead>\n",
       "    <tr style=\"text-align: right;\">\n",
       "      <th></th>\n",
       "      <th>a</th>\n",
       "      <th>b</th>\n",
       "      <th>direction</th>\n",
       "      <th>distance</th>\n",
       "      <th>geometry</th>\n",
       "      <th>long_leg_speed</th>\n",
       "      <th>rank</th>\n",
       "      <th>short_leg_speed</th>\n",
       "      <th>speed</th>\n",
       "      <th>speed_factor</th>\n",
       "      <th>time</th>\n",
       "    </tr>\n",
       "  </thead>\n",
       "  <tbody>\n",
       "    <tr>\n",
       "      <th>foot_4353</th>\n",
       "      <td>rs_DEB3J_14</td>\n",
       "      <td>b_DEB3J_70</td>\n",
       "      <td>access</td>\n",
       "      <td>147.114841</td>\n",
       "      <td>LINESTRING (7.80551 50.03601, 7.80644 50.03484)</td>\n",
       "      <td>17.0</td>\n",
       "      <td>0.0</td>\n",
       "      <td>5.0</td>\n",
       "      <td>5.0</td>\n",
       "      <td>0.606455</td>\n",
       "      <td>105.922686</td>\n",
       "    </tr>\n",
       "  </tbody>\n",
       "</table>\n",
       "</div>"
      ],
      "text/plain": [
       "                     a           b direction    distance  \\\n",
       "foot_4353  rs_DEB3J_14  b_DEB3J_70    access  147.114841   \n",
       "\n",
       "                                                  geometry  long_leg_speed  \\\n",
       "foot_4353  LINESTRING (7.80551 50.03601, 7.80644 50.03484)            17.0   \n",
       "\n",
       "           rank  short_leg_speed  speed  speed_factor        time  \n",
       "foot_4353   0.0              5.0    5.0      0.606455  105.922686  "
      ]
     },
     "execution_count": 29,
     "metadata": {},
     "output_type": "execute_result"
    }
   ],
   "source": [
    "# Reindex\n",
    "sm.footpaths.drop_duplicates(['a', 'b'], inplace=True)\n",
    "sm.footpaths.reset_index(drop=True, inplace=True)\n",
    "sm.footpaths.index = 'foot_' + pd.Series(sm.footpaths.index).astype(str)\n",
    "sm.footpaths.sample()"
   ]
  },
  {
   "cell_type": "code",
   "execution_count": 30,
   "metadata": {},
   "outputs": [
    {
     "data": {
      "text/plain": [
       "(20209, 7)"
      ]
     },
     "execution_count": 30,
     "metadata": {},
     "output_type": "execute_result"
    }
   ],
   "source": [
    "# Drop unneccessary columns\n",
    "cols = ['speed_factor', 'short_leg_speed', 'long_leg_speed', 'rank']\n",
    "sm.footpaths.drop(cols, axis=1, inplace=True, errors='ignore')\n",
    "sm.footpaths.shape"
   ]
  },
  {
   "cell_type": "markdown",
   "metadata": {},
   "source": [
    "## Connect to centroids\n",
    "\n",
    "Build access/egress links to the most important stops."
   ]
  },
  {
   "cell_type": "code",
   "execution_count": 31,
   "metadata": {},
   "outputs": [],
   "source": [
    "# Compute controids\n",
    "sm.centroids = sm.zones.copy()\n",
    "sm.centroids['geometry'] = sm.centroids['geometry'].apply(lambda g: g.centroid)"
   ]
  },
  {
   "cell_type": "code",
   "execution_count": 32,
   "metadata": {},
   "outputs": [],
   "source": [
    "# Count the connectivity of start nodes in links table\n",
    "n_links_dict = sm.links[['a', 'b']].append(agg_links[['a', 'b']]).stack().value_counts().to_dict()\n",
    "agg_links['n_links'] = agg_links['a'].map(n_links_dict)"
   ]
  },
  {
   "cell_type": "code",
   "execution_count": 33,
   "metadata": {},
   "outputs": [],
   "source": [
    "# Choose which nodes to connect\n",
    "def get_first_node(g): # Some nodes might not be in disagg_nodes\n",
    "    n = 0\n",
    "    while n < len(g):\n",
    "        if g['a'][n] in node_dict.keys():\n",
    "            break\n",
    "        else:\n",
    "            n += 1\n",
    "    return g['a'][n] if n < len(g) else g['b'][n-1]\n",
    "# Take one node per trip_id with the highest connectivity\n",
    "# Take only nodes with higher connectivity for short-distances\n",
    "nodes_short = agg_links.loc[agg_links['n_links']>2].sort_values(\n",
    "    'n_links').groupby('trip_id').apply(get_first_node)#.first()['a']"
   ]
  },
  {
   "cell_type": "code",
   "execution_count": 34,
   "metadata": {},
   "outputs": [],
   "source": [
    "# Every node must exist in the nodes table\n",
    "assert len(set(nodes_short).difference(set(disagg_nodes.index))) == 0"
   ]
  },
  {
   "cell_type": "code",
   "execution_count": 41,
   "metadata": {},
   "outputs": [
    {
     "data": {
      "text/plain": [
       "22800"
      ]
     },
     "execution_count": 41,
     "metadata": {},
     "output_type": "execute_result"
    }
   ],
   "source": [
    "# Compute PT access and egress links for short-distance trips\n",
    "node_dict = disagg_nodes['FID'].to_dict()\n",
    "type_dict = agg_nodes.loc[nodes_short, 'route_type'].to_dict()\n",
    "nodes_short = list(set(nodes_short))\n",
    "access = gpd.GeoDataFrame(\n",
    "    data={'a': [node_dict[n] for n in nodes_short], # centroid FID\n",
    "          'b': nodes_short,\n",
    "          'route_type': [type_dict[n] for n in nodes_short],\n",
    "          'direction': ['access']*len(nodes_short)},\n",
    "    geometry=[geometry.LineString([sm.centroids.loc[node_dict[n], 'geometry'].coords[0],\n",
    "                                   disagg_nodes.loc[n, 'geometry'].coords[0]])\n",
    "              for n in nodes_short],\n",
    "    crs=sm.epsg)\n",
    "egress = gpd.GeoDataFrame( # turn it around\n",
    "    data={'a': list(access['b']),\n",
    "          'b': list(access['a']),\n",
    "          'route_type': [type_dict[n] for n in nodes_short],\n",
    "          'direction': ['eggress']*len(nodes_short)}, # name in quetzal\n",
    "    geometry=[geometry.LineString([l.coords[-1], l.coords[0]]) for l in list(access['geometry'])],\n",
    "    crs=sm.epsg)\n",
    "sm.zone_to_transit = access.append(egress).reset_index(drop=True)\n",
    "len(sm.zone_to_transit)"
   ]
  },
  {
   "cell_type": "code",
   "execution_count": 42,
   "metadata": {},
   "outputs": [
    {
     "data": {
      "text/plain": [
       "26404"
      ]
     },
     "execution_count": 42,
     "metadata": {},
     "output_type": "execute_result"
    }
   ],
   "source": [
    "# Compute PT access and egress links for long-distance trips\n",
    "for z in sm.centroids.index:\n",
    "    for t in sm.links['route_type'].unique():\n",
    "        nodes = sm.nodes.loc[(sm.nodes['route_type']==t) & (sm.nodes['FID']==z)]\n",
    "        if len(nodes) > 0:\n",
    "            ntlegs = engine.ntlegs_from_centroids_and_nodes(\n",
    "                sm.centroids.loc[[z]],\n",
    "                nodes,\n",
    "                short_leg_speed=params['pt_access']['speed_walk'],\n",
    "                long_leg_speed=params['pt_access']['speed_car'], # Take the car for longer trips\n",
    "                threshold=params['pt_access']['catchment_radius_walk'],\n",
    "                n_neighbors=len(nodes),\n",
    "                coordinates_unit=sm.coordinates_unit)\n",
    "            # Cut off long links\n",
    "            ntlegs = ntlegs.loc[ntlegs['distance']<=\n",
    "                                params['access-egress_links']['pt_max_dist']]\n",
    "            ntlegs['route_type'] = t\n",
    "            # Merge\n",
    "            sm.zone_to_transit = sm.zone_to_transit.append(ntlegs)\n",
    "        else:\n",
    "            print('No {} stop in zone {}'.format(t,z))\n",
    "sm.zone_to_transit.reset_index(drop=True, inplace=True)\n",
    "len(sm.zone_to_transit.index)"
   ]
  },
  {
   "cell_type": "code",
   "execution_count": 43,
   "metadata": {},
   "outputs": [],
   "source": [
    "# Prepare links for filtering\n",
    "sm.zone_to_transit['distance'] = sm.zone_to_transit['geometry'].apply(lambda l: l.length)\n",
    "access = sm.zone_to_transit.loc[sm.zone_to_transit['direction']=='access']\n",
    "access['n_links'] = access['b'].map(n_links_dict)\n",
    "egress = sm.zone_to_transit.loc[sm.zone_to_transit['direction']=='eggress']\n",
    "egress['n_links'] = egress['a'].map(n_links_dict)"
   ]
  },
  {
   "cell_type": "code",
   "execution_count": 44,
   "metadata": {},
   "outputs": [],
   "source": [
    "# Filter: search for highest connectivity and shortest links per route_type\n",
    "access = access.sort_values('n_links', ascending=False).groupby(['a', 'route_type']).nth(\n",
    "    list(range(params['access-egress_links']['keep_n_highest_connectivity']))\n",
    ").reset_index().append(\n",
    "        access.sort_values('distance').groupby(['a', 'route_type']).nth(\n",
    "            list(range(params['access-egress_links']['keep_n_closest']))\n",
    ").reset_index()).drop_duplicates(['a', 'b'])\n",
    "egress = egress.sort_values('n_links', ascending=False).groupby(['b', 'route_type']).nth(\n",
    "    list(range(params['access-egress_links']['keep_n_highest_connectivity']))\n",
    ").reset_index().append(\n",
    "        egress.sort_values('distance').groupby(['b', 'route_type']).nth(\n",
    "            list(range(params['access-egress_links']['keep_n_closest']))\n",
    ").reset_index()).drop_duplicates(['a', 'b'])"
   ]
  },
  {
   "cell_type": "code",
   "execution_count": 45,
   "metadata": {},
   "outputs": [
    {
     "data": {
      "text/plain": [
       "(6860, 12)"
      ]
     },
     "execution_count": 45,
     "metadata": {},
     "output_type": "execute_result"
    }
   ],
   "source": [
    "sm.zone_to_transit = access.append(egress).reset_index(drop=True)\n",
    "sm.zone_to_transit.drop('n_links', axis=1, inplace=True)\n",
    "sm.zone_to_transit.shape"
   ]
  },
  {
   "cell_type": "markdown",
   "metadata": {},
   "source": [
    "### Parametrise access and egress  links\n",
    "\n",
    "Add distance, speed and time. Average distances by zone and mode should have been calculated based on census data before."
   ]
  },
  {
   "cell_type": "code",
   "execution_count": 46,
   "metadata": {},
   "outputs": [],
   "source": [
    "# Drop unneccessary columns\n",
    "cols = ['speed_factor', 'short_leg_speed', 'long_leg_speed', 'rank']\n",
    "sm.zone_to_transit.drop(cols, axis=1, inplace=True, errors='ignore')"
   ]
  },
  {
   "cell_type": "code",
   "execution_count": 47,
   "metadata": {},
   "outputs": [],
   "source": [
    "# Load distances to PT stops from census data\n",
    "clusters = pd.read_csv('../input/spatial_census_refined.csv')\n",
    "#clusters.set_index('Unnamed: 0', inplace=True)\n",
    "dist_col = 'weighted_dist'\n",
    "mean_dist_col = 'mean_weighted_dist'\n",
    "cent_col = 'cluster_center'\n",
    "#pop_col = 'population'\n",
    "node_col = 'node_id'\n",
    "# Create a zone - distance - type dict\n",
    "# Take the mean weighted distance\n",
    "zone = 'FID' if 'FID' in clusters.columns else 'NUTS_ID'\n",
    "clusters['route_type'] = clusters['route_type'].str.replace('_distance', '')\n",
    "zone_type_dist = clusters.groupby([zone, 'route_type']).agg(\n",
    "    {mean_dist_col: 'mean'}).to_dict()[mean_dist_col]"
   ]
  },
  {
   "cell_type": "code",
   "execution_count": 48,
   "metadata": {},
   "outputs": [],
   "source": [
    "# Adjust distances\n",
    "access = sm.zone_to_transit.loc[sm.zone_to_transit['direction']=='access']\n",
    "egress = sm.zone_to_transit.loc[sm.zone_to_transit['direction']=='eggress']\n",
    "access['distance'] = [zone_type_dist[(z, t)] if (z, t) in zone_type_dist.keys() else np.nan\n",
    "                      for z,t in zip(access['a'], access['route_type'])]\n",
    "egress['distance'] = [zone_type_dist[(z, t)] if (z, t) in zone_type_dist.keys() else np.nan\n",
    "                      for z,t in zip(egress['b'], egress['route_type'])]\n",
    "sm.zone_to_transit = access.append(egress)"
   ]
  },
  {
   "cell_type": "code",
   "execution_count": 49,
   "metadata": {},
   "outputs": [
    {
     "data": {
      "text/plain": [
       "<AxesSubplot:>"
      ]
     },
     "execution_count": 49,
     "metadata": {},
     "output_type": "execute_result"
    },
    {
     "data": {
      "image/png": "[encoded data removed]",
      "text/plain": [
       "<Figure size 288x216 with 1 Axes>"
      ]
     },
     "metadata": {
      "needs_background": "light"
     },
     "output_type": "display_data"
    }
   ],
   "source": [
    "# Distance distribution among access/egress links\n",
    "sm.zone_to_transit['distance'].hist(bins=20, figsize=(4,3))"
   ]
  },
  {
   "cell_type": "code",
   "execution_count": 50,
   "metadata": {},
   "outputs": [
    {
     "data": {
      "text/plain": [
       "4"
      ]
     },
     "execution_count": 50,
     "metadata": {},
     "output_type": "execute_result"
    }
   ],
   "source": [
    "len(sm.zone_to_transit.loc[sm.zone_to_transit['distance'].isna()])"
   ]
  },
  {
   "cell_type": "code",
   "execution_count": 51,
   "metadata": {},
   "outputs": [
    {
     "data": {
      "text/plain": [
       "(6856, 8)"
      ]
     },
     "execution_count": 51,
     "metadata": {},
     "output_type": "execute_result"
    }
   ],
   "source": [
    "# Connectors to/from nodes in other zones\n",
    "# Drop NaN, because they cause that people don't take short-distance PT,\n",
    "# but walk over to the next airport and walk to the neighboring centroid\n",
    "sm.zone_to_transit = sm.zone_to_transit.loc[sm.zone_to_transit['distance'].notna()]\n",
    "sm.zone_to_transit.shape"
   ]
  },
  {
   "cell_type": "code",
   "execution_count": 52,
   "metadata": {},
   "outputs": [],
   "source": [
    "# Correct speeds based on access/egress modes\n",
    "speeds = {'walk': params['pt_access']['speed_walk'],\n",
    "          'bicycle': params['pt_access']['speed_bicycle'],\n",
    "          'car': params['pt_access']['speed_car']} # km/h\n",
    "urban_dict = sm.centroids['urbanisation'].to_dict()\n",
    "access = sm.zone_to_transit.loc[sm.zone_to_transit['direction']=='access']\n",
    "egress = sm.zone_to_transit.loc[sm.zone_to_transit['direction']=='eggress']\n",
    "access['speed'] = [sum([speed * params['pt_access']['urban'+str(int(u))+'_'+mode+'_share'\n",
    "                                                   ] for mode, speed in speeds.items()])\n",
    "                   for u in list(access['a'].map(urban_dict))]\n",
    "egress['speed'] = [sum([speed * params['pt_access']['urban'+str(int(u))+'_'+mode+'_share'\n",
    "                                                   ] for mode, speed in speeds.items()])\n",
    "                   for u in list(egress['b'].map(urban_dict))]\n",
    "sm.zone_to_transit = access.append(egress)"
   ]
  },
  {
   "cell_type": "code",
   "execution_count": 53,
   "metadata": {},
   "outputs": [
    {
     "data": {
      "text/plain": [
       "<AxesSubplot:>"
      ]
     },
     "execution_count": 53,
     "metadata": {},
     "output_type": "execute_result"
    },
    {
     "data": {
      "image/png": "[encoded data removed]",
      "text/plain": [
       "<Figure size 288x216 with 1 Axes>"
      ]
     },
     "metadata": {
      "needs_background": "light"
     },
     "output_type": "display_data"
    }
   ],
   "source": [
    "# Speed distribution among access/egress links\n",
    "sm.zone_to_transit['speed'].hist(bins=20, figsize=(4,3))"
   ]
  },
  {
   "cell_type": "code",
   "execution_count": 54,
   "metadata": {},
   "outputs": [],
   "source": [
    "# Alter time of PT legs\n",
    "sm.zone_to_transit['time'] = sm.zone_to_transit['distance'] / \\\n",
    "    sm.zone_to_transit['speed'] * 3.6 # in s"
   ]
  },
  {
   "cell_type": "code",
   "execution_count": 55,
   "metadata": {},
   "outputs": [
    {
     "data": {
      "text/plain": [
       "6856"
      ]
     },
     "execution_count": 55,
     "metadata": {},
     "output_type": "execute_result"
    }
   ],
   "source": [
    "# Ditch all legs which take too long\n",
    "sm.zone_to_transit = sm.zone_to_transit.loc[sm.zone_to_transit['time']<2*3600]\n",
    "len(sm.zone_to_transit)"
   ]
  },
  {
   "cell_type": "code",
   "execution_count": 56,
   "metadata": {},
   "outputs": [],
   "source": [
    "# Every zone should have an access and an egress link to PT\n",
    "try:\n",
    "    assert sm.zones['NUTS_ID'].isin(list(sm.zone_to_transit['a'])).all()\n",
    "except AssertionError:\n",
    "    print(sm.zones.loc[~sm.zones['NUTS_ID'].isin(list(sm.zone_to_transit['a']))].index)\n",
    "try:\n",
    "    assert sm.zones['NUTS_ID'].isin(list(sm.zone_to_transit['b'])).all()\n",
    "except AssertionError:\n",
    "    print(sm.zones.loc[~sm.zones['NUTS_ID'].isin(list(sm.zone_to_transit['b']))].index)"
   ]
  },
  {
   "cell_type": "code",
   "execution_count": 57,
   "metadata": {},
   "outputs": [
    {
     "data": {
      "text/plain": [
       "<AxesSubplot:>"
      ]
     },
     "execution_count": 57,
     "metadata": {},
     "output_type": "execute_result"
    },
    {
     "data": {
      "image/png": "[encoded data removed]",
      "text/plain": [
       "<Figure size 432x288 with 1 Axes>"
      ]
     },
     "metadata": {
      "needs_background": "light"
     },
     "output_type": "display_data"
    }
   ],
   "source": [
    "# Time distribution of access/egress links\n",
    "(sm.zone_to_transit['time']/3600).hist(bins=100)"
   ]
  },
  {
   "cell_type": "code",
   "execution_count": 58,
   "metadata": {},
   "outputs": [
    {
     "data": {
      "text/html": [
       "<div>\n",
       "<style scoped>\n",
       "    .dataframe tbody tr th:only-of-type {\n",
       "        vertical-align: middle;\n",
       "    }\n",
       "\n",
       "    .dataframe tbody tr th {\n",
       "        vertical-align: top;\n",
       "    }\n",
       "\n",
       "    .dataframe thead th {\n",
       "        text-align: right;\n",
       "    }\n",
       "</style>\n",
       "<table border=\"1\" class=\"dataframe\">\n",
       "  <thead>\n",
       "    <tr style=\"text-align: right;\">\n",
       "      <th></th>\n",
       "      <th>a</th>\n",
       "      <th>b</th>\n",
       "      <th>direction</th>\n",
       "      <th>distance</th>\n",
       "      <th>geometry</th>\n",
       "      <th>route_type</th>\n",
       "      <th>speed</th>\n",
       "      <th>time</th>\n",
       "    </tr>\n",
       "  </thead>\n",
       "  <tbody>\n",
       "    <tr>\n",
       "      <th>112</th>\n",
       "      <td>DE122</td>\n",
       "      <td>rs_DE122_40</td>\n",
       "      <td>access</td>\n",
       "      <td>575.655677</td>\n",
       "      <td>LINESTRING (8.41273 49.01149, 8.41110 49.00464)</td>\n",
       "      <td>rail_short</td>\n",
       "      <td>6.08331</td>\n",
       "      <td>340.663296</td>\n",
       "    </tr>\n",
       "  </tbody>\n",
       "</table>\n",
       "</div>"
      ],
      "text/plain": [
       "         a            b direction    distance  \\\n",
       "112  DE122  rs_DE122_40    access  575.655677   \n",
       "\n",
       "                                            geometry  route_type    speed  \\\n",
       "112  LINESTRING (8.41273 49.01149, 8.41110 49.00464)  rail_short  6.08331   \n",
       "\n",
       "           time  \n",
       "112  340.663296  "
      ]
     },
     "execution_count": 58,
     "metadata": {},
     "output_type": "execute_result"
    }
   ],
   "source": [
    "sm.zone_to_transit.sample()"
   ]
  },
  {
   "cell_type": "markdown",
   "metadata": {},
   "source": [
    "## Merge aggregated links and nodes with the model"
   ]
  },
  {
   "cell_type": "code",
   "execution_count": 59,
   "metadata": {},
   "outputs": [
    {
     "data": {
      "text/plain": [
       "(295582, 11)"
      ]
     },
     "execution_count": 59,
     "metadata": {},
     "output_type": "execute_result"
    }
   ],
   "source": [
    "# Re-add links to model\n",
    "sm.links = sm.links.append(agg_links)\n",
    "sm.links.shape"
   ]
  },
  {
   "cell_type": "code",
   "execution_count": 60,
   "metadata": {},
   "outputs": [
    {
     "data": {
      "text/plain": [
       "(23224, 6)"
      ]
     },
     "execution_count": 60,
     "metadata": {},
     "output_type": "execute_result"
    }
   ],
   "source": [
    "# Re-add nodes to the model\n",
    "sm.nodes = sm.nodes.append(agg_nodes)\n",
    "sm.nodes.shape"
   ]
  },
  {
   "cell_type": "code",
   "execution_count": 61,
   "metadata": {},
   "outputs": [
    {
     "name": "stdout",
     "output_type": "stream",
     "text": [
      "Number of orphan nodes: 273\n",
      "Number of missing nodes: 0\n"
     ]
    }
   ],
   "source": [
    "try:\n",
    "    sm.integrity_test_nodeset_consistency()\n",
    "except AssertionError:\n",
    "    print('Number of orphan nodes: {}'.format(\n",
    "        len(sm.orphan_nodes)))\n",
    "    print('Number of missing nodes: {}'.format(\n",
    "        len(sm.missing_nodes)))"
   ]
  },
  {
   "cell_type": "code",
   "execution_count": 62,
   "metadata": {},
   "outputs": [],
   "source": [
    "assert len(sm.missing_nodes) == 0\n",
    "if len(sm.orphan_nodes) > 0:\n",
    "    sm.nodes = sm.nodes.drop(sm.orphan_nodes)\n",
    "    sm.nodes.shape"
   ]
  },
  {
   "cell_type": "code",
   "execution_count": 63,
   "metadata": {},
   "outputs": [],
   "source": [
    "sm.nodes.drop(['n_links', 'n_connectors'], axis=1, inplace=True, errors='ignore')\n",
    "sm.links.drop(['n_links', 'n_connectors'], axis=1, inplace=True, errors='ignore')"
   ]
  },
  {
   "cell_type": "code",
   "execution_count": 64,
   "metadata": {},
   "outputs": [
    {
     "data": {
      "text/html": [
       "<div>\n",
       "<style scoped>\n",
       "    .dataframe tbody tr th:only-of-type {\n",
       "        vertical-align: middle;\n",
       "    }\n",
       "\n",
       "    .dataframe tbody tr th {\n",
       "        vertical-align: top;\n",
       "    }\n",
       "\n",
       "    .dataframe thead th {\n",
       "        text-align: right;\n",
       "    }\n",
       "</style>\n",
       "<table border=\"1\" class=\"dataframe\">\n",
       "  <thead>\n",
       "    <tr style=\"text-align: right;\">\n",
       "      <th></th>\n",
       "      <th>a</th>\n",
       "      <th>b</th>\n",
       "      <th>geometry</th>\n",
       "      <th>headway</th>\n",
       "      <th>link_sequence</th>\n",
       "      <th>route_id</th>\n",
       "      <th>route_type</th>\n",
       "      <th>route_type_disagg</th>\n",
       "      <th>time</th>\n",
       "      <th>trip_id</th>\n",
       "    </tr>\n",
       "    <tr>\n",
       "      <th>index</th>\n",
       "      <th></th>\n",
       "      <th></th>\n",
       "      <th></th>\n",
       "      <th></th>\n",
       "      <th></th>\n",
       "      <th></th>\n",
       "      <th></th>\n",
       "      <th></th>\n",
       "      <th></th>\n",
       "      <th></th>\n",
       "    </tr>\n",
       "  </thead>\n",
       "  <tbody>\n",
       "    <tr>\n",
       "      <th>rs_46971</th>\n",
       "      <td>rs_DE212_38</td>\n",
       "      <td>rs_DE212_44</td>\n",
       "      <td>LINESTRING (11.565619 48.139454, 11.560493 48....</td>\n",
       "      <td>4320</td>\n",
       "      <td>13</td>\n",
       "      <td>rs_38</td>\n",
       "      <td>rail_short</td>\n",
       "      <td>rail_short</td>\n",
       "      <td>60</td>\n",
       "      <td>rs_38_47</td>\n",
       "    </tr>\n",
       "  </tbody>\n",
       "</table>\n",
       "</div>"
      ],
      "text/plain": [
       "                    a            b  \\\n",
       "index                                \n",
       "rs_46971  rs_DE212_38  rs_DE212_44   \n",
       "\n",
       "                                                   geometry  headway  \\\n",
       "index                                                                  \n",
       "rs_46971  LINESTRING (11.565619 48.139454, 11.560493 48....     4320   \n",
       "\n",
       "          link_sequence route_id  route_type route_type_disagg  time   trip_id  \n",
       "index                                                                           \n",
       "rs_46971             13    rs_38  rail_short        rail_short    60  rs_38_47  "
      ]
     },
     "execution_count": 64,
     "metadata": {},
     "output_type": "execute_result"
    }
   ],
   "source": [
    "sm.links.loc[sm.links['route_type']=='rail_short'].sample()"
   ]
  },
  {
   "cell_type": "markdown",
   "metadata": {},
   "source": [
    "## Save model\n",
    "And reduce the file size"
   ]
  },
  {
   "cell_type": "code",
   "execution_count": 65,
   "metadata": {},
   "outputs": [],
   "source": [
    "# Cast columns to int\n",
    "cols = ['time', 'link_sequence', 'headway']\n",
    "sm.links[cols] = sm.links[cols].astype(int)"
   ]
  },
  {
   "cell_type": "code",
   "execution_count": 66,
   "metadata": {},
   "outputs": [],
   "source": [
    "# Split links in graph and auxiliary information\n",
    "# for file sizes being compatible with github's size limit\n",
    "cols = ['a', 'b', 'link_sequence', 'route_id', 'time', 'trip_id', 'headway']\n",
    "auxiliary = sm.links[cols]\n",
    "sm.links.drop(cols, axis=1, inplace=True)"
   ]
  },
  {
   "cell_type": "code",
   "execution_count": 67,
   "metadata": {},
   "outputs": [
    {
     "name": "stderr",
     "output_type": "stream",
     "text": [
      "to_hdf(overwriting): 100%|█████████████████████████████████████████████████████████████| 36/36 [00:42<00:00,  1.18s/it]\n",
      "to_hdf(overwriting): 100%|█████████████████████████████████████████████████████████████████████| 36/36 [00:00<?, ?it/s]\n"
     ]
    }
   ],
   "source": [
    "# Saving model...\n",
    "sm.to_json(model_path + 'de_pt_network_agg',\n",
    "           only_attributes=['zones', 'links', 'nodes', 'pt_route_types'],\n",
    "           encoding='utf-8')\n",
    "sm.to_json(model_path + 'de_pt_network_ancillary',\n",
    "           only_attributes=['agencies', 'pt_routes'],\n",
    "           encoding='utf-8')"
   ]
  },
  {
   "cell_type": "code",
   "execution_count": 68,
   "metadata": {},
   "outputs": [],
   "source": [
    "# Save auxiliary information seperately\n",
    "auxiliary['index'] = auxiliary.index\n",
    "auxiliary.reset_index(drop=True, inplace=True)\n",
    "auxiliary.to_json(model_path + 'de_pt_network_agg/links_quetzaldata.json')"
   ]
  },
  {
   "cell_type": "code",
   "execution_count": 69,
   "metadata": {},
   "outputs": [
    {
     "data": {
      "text/html": [
       "<div>\n",
       "<style scoped>\n",
       "    .dataframe tbody tr th:only-of-type {\n",
       "        vertical-align: middle;\n",
       "    }\n",
       "\n",
       "    .dataframe tbody tr th {\n",
       "        vertical-align: top;\n",
       "    }\n",
       "\n",
       "    .dataframe thead th {\n",
       "        text-align: right;\n",
       "    }\n",
       "</style>\n",
       "<table border=\"1\" class=\"dataframe\">\n",
       "  <thead>\n",
       "    <tr style=\"text-align: right;\">\n",
       "      <th></th>\n",
       "      <th>a</th>\n",
       "      <th>b</th>\n",
       "      <th>direction</th>\n",
       "      <th>distance</th>\n",
       "      <th>geometry</th>\n",
       "      <th>speed</th>\n",
       "      <th>time</th>\n",
       "    </tr>\n",
       "  </thead>\n",
       "  <tbody>\n",
       "    <tr>\n",
       "      <th>foot_18261</th>\n",
       "      <td>rs_DEG05_0</td>\n",
       "      <td>rl_DEG05_0</td>\n",
       "      <td>access</td>\n",
       "      <td>0.0</td>\n",
       "      <td>LINESTRING (11.32646 50.99149, 11.32646 50.99149)</td>\n",
       "      <td>5.0</td>\n",
       "      <td>0.0</td>\n",
       "    </tr>\n",
       "  </tbody>\n",
       "</table>\n",
       "</div>"
      ],
      "text/plain": [
       "                     a           b direction  distance  \\\n",
       "foot_18261  rs_DEG05_0  rl_DEG05_0    access       0.0   \n",
       "\n",
       "                                                     geometry  speed  time  \n",
       "foot_18261  LINESTRING (11.32646 50.99149, 11.32646 50.99149)    5.0   0.0  "
      ]
     },
     "execution_count": 69,
     "metadata": {},
     "output_type": "execute_result"
    }
   ],
   "source": [
    "sm.footpaths.sample()"
   ]
  },
  {
   "cell_type": "code",
   "execution_count": 70,
   "metadata": {},
   "outputs": [
    {
     "name": "stderr",
     "output_type": "stream",
     "text": [
      "to_hdf(overwriting): 100%|█████████████████████████████████████████████████████████████| 36/36 [00:05<00:00,  6.76it/s]\n"
     ]
    }
   ],
   "source": [
    "# Save reduced access/egress links\n",
    "sm.to_json(model_path + 'de_pt_access_egress', only_attributes=[\n",
    "    'centroids', 'footpaths', 'zone_to_transit'], encoding='utf-8')"
   ]
  }
 ],
 "metadata": {
  "kernelspec": {
   "display_name": "Python 3",
   "language": "python",
   "name": "python3"
  },
  "language_info": {
   "codemirror_mode": {
    "name": "ipython",
    "version": 3
   },
   "file_extension": ".py",
   "mimetype": "text/x-python",
   "name": "python",
   "nbconvert_exporter": "python",
   "pygments_lexer": "ipython3",
   "version": "3.8.13"
  }
 },
 "nbformat": 4,
 "nbformat_minor": 2
}
