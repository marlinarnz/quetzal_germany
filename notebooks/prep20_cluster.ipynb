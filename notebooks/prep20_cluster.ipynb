{
 "cells": [
  {
   "cell_type": "code",
   "execution_count": 1,
   "metadata": {},
   "outputs": [
    {
     "name": "stderr",
     "output_type": "stream",
     "text": [
      "In C:\\Users\\marlin.arnz\\AppData\\Local\\Continuum\\miniconda3\\envs\\quetzal\\lib\\site-packages\\matplotlib\\mpl-data\\stylelib\\_classic_test.mplstyle: \n",
      "The text.latex.preview rcparam was deprecated in Matplotlib 3.3 and will be removed two minor releases later.\n",
      "In C:\\Users\\marlin.arnz\\AppData\\Local\\Continuum\\miniconda3\\envs\\quetzal\\lib\\site-packages\\matplotlib\\mpl-data\\stylelib\\_classic_test.mplstyle: \n",
      "The mathtext.fallback_to_cm rcparam was deprecated in Matplotlib 3.3 and will be removed two minor releases later.\n",
      "In C:\\Users\\marlin.arnz\\AppData\\Local\\Continuum\\miniconda3\\envs\\quetzal\\lib\\site-packages\\matplotlib\\mpl-data\\stylelib\\_classic_test.mplstyle: Support for setting the 'mathtext.fallback_to_cm' rcParam is deprecated since 3.3 and will be removed two minor releases later; use 'mathtext.fallback : 'cm' instead.\n",
      "In C:\\Users\\marlin.arnz\\AppData\\Local\\Continuum\\miniconda3\\envs\\quetzal\\lib\\site-packages\\matplotlib\\mpl-data\\stylelib\\_classic_test.mplstyle: \n",
      "The validate_bool_maybe_none function was deprecated in Matplotlib 3.3 and will be removed two minor releases later.\n",
      "In C:\\Users\\marlin.arnz\\AppData\\Local\\Continuum\\miniconda3\\envs\\quetzal\\lib\\site-packages\\matplotlib\\mpl-data\\stylelib\\_classic_test.mplstyle: \n",
      "The savefig.jpeg_quality rcparam was deprecated in Matplotlib 3.3 and will be removed two minor releases later.\n",
      "In C:\\Users\\marlin.arnz\\AppData\\Local\\Continuum\\miniconda3\\envs\\quetzal\\lib\\site-packages\\matplotlib\\mpl-data\\stylelib\\_classic_test.mplstyle: \n",
      "The keymap.all_axes rcparam was deprecated in Matplotlib 3.3 and will be removed two minor releases later.\n",
      "In C:\\Users\\marlin.arnz\\AppData\\Local\\Continuum\\miniconda3\\envs\\quetzal\\lib\\site-packages\\matplotlib\\mpl-data\\stylelib\\_classic_test.mplstyle: \n",
      "The animation.avconv_path rcparam was deprecated in Matplotlib 3.3 and will be removed two minor releases later.\n",
      "In C:\\Users\\marlin.arnz\\AppData\\Local\\Continuum\\miniconda3\\envs\\quetzal\\lib\\site-packages\\matplotlib\\mpl-data\\stylelib\\_classic_test.mplstyle: \n",
      "The animation.avconv_args rcparam was deprecated in Matplotlib 3.3 and will be removed two minor releases later.\n"
     ]
    }
   ],
   "source": [
    "import sys # for automation and parallelisation\n",
    "manual, scenario = (True, 'base') if 'ipykernel' in sys.argv[0] else (False, sys.argv[1])\n",
    "if manual:\n",
    "    %matplotlib inline"
   ]
  },
  {
   "cell_type": "code",
   "execution_count": 9,
   "metadata": {},
   "outputs": [],
   "source": [
    "import numpy as np\n",
    "import pandas as pd\n",
    "import geopandas as gpd\n",
    "from shapely import geometry\n",
    "from geopy.distance import geodesic\n",
    "from tqdm import tqdm\n",
    "import shapely.speedups\n",
    "from quetzal.model import stepmodel\n",
    "from quetzal.io import excel"
   ]
  },
  {
   "cell_type": "markdown",
   "metadata": {},
   "source": [
    "# Preparation of the transport network.\n",
    "## Saves PT networks with clustered nodes.\n",
    "## Needs PT networks."
   ]
  },
  {
   "cell_type": "code",
   "execution_count": 3,
   "metadata": {},
   "outputs": [],
   "source": [
    "input_path = '../input_static/'\n",
    "output_path = '../output/'\n",
    "model_path = '../model/'"
   ]
  },
  {
   "cell_type": "code",
   "execution_count": 4,
   "metadata": {},
   "outputs": [],
   "source": [
    "# Load scenario parameters\n",
    "params = excel.read_var(file='../input/parameters.xls', scenario=scenario)"
   ]
  },
  {
   "cell_type": "code",
   "execution_count": 5,
   "metadata": {},
   "outputs": [],
   "source": [
    "bus = stepmodel.read_json(input_path + 'de_pt_network_bus')"
   ]
  },
  {
   "cell_type": "code",
   "execution_count": 6,
   "metadata": {},
   "outputs": [],
   "source": [
    "sm = stepmodel.read_json(input_path + 'de_pt_network')"
   ]
  },
  {
   "cell_type": "code",
   "execution_count": 7,
   "metadata": {},
   "outputs": [],
   "source": [
    "# Make sure to use the right zones\n",
    "z = stepmodel.read_json(model_path + 'de_zones')\n",
    "z.zones['FID'] = z.zones['NUTS_ID']\n",
    "sm.zones = gpd.GeoDataFrame(z.zones)\n",
    "bus.zones = gpd.GeoDataFrame(z.zones)"
   ]
  },
  {
   "cell_type": "markdown",
   "metadata": {},
   "source": [
    "## Test links and nodes for network integrity\n",
    "Neccessary for any further steps"
   ]
  },
  {
   "cell_type": "code",
   "execution_count": 10,
   "metadata": {},
   "outputs": [],
   "source": [
    "# FIRST: Set time of free-rider links\n",
    "# Default velocity of 14 m/s for rail links\n",
    "sm.links.loc[sm.links['time']==0, 'time'] = sm.links.loc[\n",
    "    sm.links['time']==0, 'geometry'].apply(\n",
    "        lambda l: int(geodesic(l.coords[0], l.coords[-1]).m)) / 14\n",
    "# 8 m/s for bus links\n",
    "bus.links.loc[bus.links['time']==0, 'time'] = bus.links.loc[\n",
    "    bus.links['time']==0, 'geometry'].apply(\n",
    "        lambda l: int(geodesic(l.coords[0], l.coords[-1]).m)) / 8"
   ]
  },
  {
   "cell_type": "code",
   "execution_count": 11,
   "metadata": {},
   "outputs": [
    {
     "name": "stdout",
     "output_type": "stream",
     "text": [
      "Found 5 orphan nodes\n",
      "no road_links or road_nodes\n"
     ]
    }
   ],
   "source": [
    "# Check nodeset integrity for later steps to work\n",
    "try:\n",
    "    sm.integrity_test_nodeset_consistency()\n",
    "except AssertionError:\n",
    "    print('Found {} orphan nodes'.format(len(sm.orphan_nodes)))\n",
    "    sm.nodes.drop(sm.orphan_nodes, inplace=True)\n",
    "    # Test integrity again\n",
    "    sm.integrity_test_nodeset_consistency()"
   ]
  },
  {
   "cell_type": "code",
   "execution_count": 12,
   "metadata": {},
   "outputs": [],
   "source": [
    "# Test sequences\n",
    "# Use an own function because quetzal's takes ages\n",
    "def test_sequences(trip):\n",
    "    assert len(trip)==trip['link_sequence'].max(), \\\n",
    "        'broken sequence in trip {}'.format(trip['trip_id'].unique()[0])"
   ]
  },
  {
   "cell_type": "code",
   "execution_count": 13,
   "metadata": {},
   "outputs": [],
   "source": [
    "# Fix sequences\n",
    "# Use an own function because quetzal's takes ages\n",
    "def fix_sequences(trip):\n",
    "    trip = trip.sort_values('link_sequence')\n",
    "    # Check link succession\n",
    "    ind = list(trip.index)\n",
    "    for i in range(len(trip.index) - 1):\n",
    "        try:\n",
    "            assert trip.loc[ind[i], 'b'] == trip.loc[ind[i+1], 'a'], \\\n",
    "                'broken trip {}: stop {} has no successor link'.format(\n",
    "                    trip['trip_id'].unique()[0], trip.loc[ind[i], 'b'])\n",
    "        except AssertionError:\n",
    "            trip.loc[ind[i+1]:ind[-1], 'trip_id'] = \\\n",
    "                trip.loc[ind[i+1]:ind[-1], 'trip_id'] + '_' + str(i)\n",
    "    # Repair sequences\n",
    "    if len(trip) != trip['link_sequence'].max():\n",
    "        trip['link_sequence'] = trip.groupby('trip_id')['link_sequence'].apply(\n",
    "            lambda t: [j for j in range(1, len(t.index)+1)]).sum()\n",
    "    return trip"
   ]
  },
  {
   "cell_type": "code",
   "execution_count": 14,
   "metadata": {},
   "outputs": [],
   "source": [
    "# Test and save broken sequences\n",
    "def test_sequences_save(trip):\n",
    "    if len(trip)!=trip['link_sequence'].max():\n",
    "        return list(trip.index)"
   ]
  },
  {
   "cell_type": "code",
   "execution_count": 51,
   "metadata": {},
   "outputs": [],
   "source": [
    "# Test for circular trips (quetzal's function takes too long)\n",
    "def test_circular(trip):\n",
    "    if len(set(list(trip['a'])+list(trip['b']))) != len(trip)+1:\n",
    "        return trip"
   ]
  },
  {
   "cell_type": "code",
   "execution_count": 15,
   "metadata": {},
   "outputs": [
    {
     "name": "stderr",
     "output_type": "stream",
     "text": [
      "100%|████████████████████████████████████████████████████████████████████████████| 4971/4971 [00:04<00:00, 1200.15it/s]\n"
     ]
    }
   ],
   "source": [
    "tqdm.pandas()\n",
    "try:\n",
    "    sm.links.groupby('trip_id').progress_apply(test_sequences)\n",
    "except AssertionError:\n",
    "    links = sm.links.groupby('trip_id').progress_apply(fix_sequences).reset_index(level=0, drop=True)\n",
    "    links.groupby('trip_id').progress_apply(test_sequences)\n",
    "    sm.links = links"
   ]
  },
  {
   "cell_type": "code",
   "execution_count": 16,
   "metadata": {},
   "outputs": [
    {
     "name": "stderr",
     "output_type": "stream",
     "text": [
      "100%|████████████████████████████████████████████████████████████████████████| 145930/145930 [01:44<00:00, 1401.30it/s]\n",
      "100%|██████████████████████████████████████████████████████████████████████████████████| 43/43 [00:01<00:00, 22.45it/s]\n",
      "100%|██████████████████████████████████████████████████████████████████████████████| 385/385 [00:00<00:00, 1158.70it/s]\n"
     ]
    }
   ],
   "source": [
    "broken_seqs = bus.links.groupby('trip_id').progress_apply(test_sequences_save)\n",
    "if not broken_seqs is None:\n",
    "    links = bus.links.loc[broken_seqs.loc[broken_seqs.notna()].sum()\n",
    "                         ].groupby('trip_id').progress_apply(fix_sequences)\n",
    "    links.reset_index(level=0, drop=True, inplace=True)\n",
    "    links.groupby('trip_id').apply(test_sequences)\n",
    "    bus.links = bus.links.drop(broken_seqs.loc[broken_seqs.notna()].sum()).append(links)"
   ]
  },
  {
   "cell_type": "code",
   "execution_count": 17,
   "metadata": {},
   "outputs": [],
   "source": [
    "assert len(bus.nodes['route_type'].unique()) == 1"
   ]
  },
  {
   "cell_type": "code",
   "execution_count": 18,
   "metadata": {},
   "outputs": [
    {
     "data": {
      "text/html": [
       "<div>\n",
       "<style scoped>\n",
       "    .dataframe tbody tr th:only-of-type {\n",
       "        vertical-align: middle;\n",
       "    }\n",
       "\n",
       "    .dataframe tbody tr th {\n",
       "        vertical-align: top;\n",
       "    }\n",
       "\n",
       "    .dataframe thead th {\n",
       "        text-align: right;\n",
       "    }\n",
       "</style>\n",
       "<table border=\"1\" class=\"dataframe\">\n",
       "  <thead>\n",
       "    <tr style=\"text-align: right;\">\n",
       "      <th></th>\n",
       "      <th>a</th>\n",
       "      <th>b</th>\n",
       "      <th>headway</th>\n",
       "      <th>link_sequence</th>\n",
       "      <th>route_id</th>\n",
       "      <th>route_type</th>\n",
       "      <th>time</th>\n",
       "      <th>trip_id</th>\n",
       "      <th>geometry</th>\n",
       "    </tr>\n",
       "    <tr>\n",
       "      <th>index</th>\n",
       "      <th></th>\n",
       "      <th></th>\n",
       "      <th></th>\n",
       "      <th></th>\n",
       "      <th></th>\n",
       "      <th></th>\n",
       "      <th></th>\n",
       "      <th></th>\n",
       "      <th></th>\n",
       "    </tr>\n",
       "  </thead>\n",
       "  <tbody>\n",
       "    <tr>\n",
       "      <th>rs_31316</th>\n",
       "      <td>rs_n_14982</td>\n",
       "      <td>rs_n_1675</td>\n",
       "      <td>3927</td>\n",
       "      <td>3</td>\n",
       "      <td>rs_274</td>\n",
       "      <td>rail_short</td>\n",
       "      <td>120.0</td>\n",
       "      <td>rs_274_3</td>\n",
       "      <td>LINESTRING (9.21906 49.14194, 9.22260 49.14249)</td>\n",
       "    </tr>\n",
       "  </tbody>\n",
       "</table>\n",
       "</div>"
      ],
      "text/plain": [
       "                   a          b  headway  link_sequence route_id  route_type  \\\n",
       "index                                                                          \n",
       "rs_31316  rs_n_14982  rs_n_1675     3927              3   rs_274  rail_short   \n",
       "\n",
       "           time   trip_id                                         geometry  \n",
       "index                                                                       \n",
       "rs_31316  120.0  rs_274_3  LINESTRING (9.21906 49.14194, 9.22260 49.14249)  "
      ]
     },
     "execution_count": 18,
     "metadata": {},
     "output_type": "execute_result"
    }
   ],
   "source": [
    "sm.links.sample()"
   ]
  },
  {
   "cell_type": "code",
   "execution_count": 19,
   "metadata": {},
   "outputs": [
    {
     "data": {
      "text/html": [
       "<div>\n",
       "<style scoped>\n",
       "    .dataframe tbody tr th:only-of-type {\n",
       "        vertical-align: middle;\n",
       "    }\n",
       "\n",
       "    .dataframe tbody tr th {\n",
       "        vertical-align: top;\n",
       "    }\n",
       "\n",
       "    .dataframe thead th {\n",
       "        text-align: right;\n",
       "    }\n",
       "</style>\n",
       "<table border=\"1\" class=\"dataframe\">\n",
       "  <thead>\n",
       "    <tr style=\"text-align: right;\">\n",
       "      <th></th>\n",
       "      <th>route_type</th>\n",
       "      <th>stop_name</th>\n",
       "      <th>geometry</th>\n",
       "    </tr>\n",
       "    <tr>\n",
       "      <th>index</th>\n",
       "      <th></th>\n",
       "      <th></th>\n",
       "      <th></th>\n",
       "    </tr>\n",
       "  </thead>\n",
       "  <tbody>\n",
       "    <tr>\n",
       "      <th>rs_n_2311</th>\n",
       "      <td>rail_short</td>\n",
       "      <td>Böhl-Iggelheim</td>\n",
       "      <td>POINT (8.30360 49.37983)</td>\n",
       "    </tr>\n",
       "  </tbody>\n",
       "</table>\n",
       "</div>"
      ],
      "text/plain": [
       "           route_type       stop_name                  geometry\n",
       "index                                                          \n",
       "rs_n_2311  rail_short  Böhl-Iggelheim  POINT (8.30360 49.37983)"
      ]
     },
     "execution_count": 19,
     "metadata": {},
     "output_type": "execute_result"
    }
   ],
   "source": [
    "sm.nodes.sample()"
   ]
  },
  {
   "cell_type": "markdown",
   "metadata": {},
   "source": [
    "## Cluster nodes\n",
    "\n",
    "Apply agglomerative clustering by zone with mode-specific distance thresholds. They determine the radius of any node cluster."
   ]
  },
  {
   "cell_type": "code",
   "execution_count": 20,
   "metadata": {},
   "outputs": [],
   "source": [
    "# Merge bus with other PT\n",
    "sm.links = sm.links.append(bus.links)\n",
    "sm.nodes = sm.nodes.append(bus.nodes)"
   ]
  },
  {
   "cell_type": "code",
   "execution_count": null,
   "metadata": {},
   "outputs": [],
   "source": [
    "sm.links.shape"
   ]
  },
  {
   "cell_type": "code",
   "execution_count": null,
   "metadata": {},
   "outputs": [],
   "source": [
    "sm.nodes.shape"
   ]
  },
  {
   "cell_type": "code",
   "execution_count": 21,
   "metadata": {},
   "outputs": [],
   "source": [
    "# aggregate local bus and tram, underground, ferry, funicular\n",
    "if 'subway' in sm.links['route_type'].unique():\n",
    "    sm.links['route_type_disagg'] = sm.links['route_type'].copy()\n",
    "    sm.links['route_type'] = sm.links['route_type'].replace(\n",
    "        {'tram': 'bus', 'subway': 'bus', 'ferry': 'bus', 'funicular': 'bus'})\n",
    "    sm.pt_route_types = list(sm.links['route_type'].unique())"
   ]
  },
  {
   "cell_type": "code",
   "execution_count": 22,
   "metadata": {},
   "outputs": [
    {
     "name": "stderr",
     "output_type": "stream",
     "text": [
      "Reprojecting model from epsg 4326 to epsg 3857: 100%|██████████████████████████████████| 38/38 [03:05<00:00,  4.88s/it]\n"
     ]
    }
   ],
   "source": [
    "# Convert the coordinate system to metric, cartesian\n",
    "# for the clustering algorithm to work\n",
    "sm = sm.change_epsg(3857, 'meter')"
   ]
  },
  {
   "cell_type": "code",
   "execution_count": 23,
   "metadata": {},
   "outputs": [
    {
     "name": "stdout",
     "output_type": "stream",
     "text": [
      "Mean distance threshold is 1500\n",
      "Mean distance threshold is 500\n",
      "Mean distance threshold is 500\n"
     ]
    }
   ],
   "source": [
    "# Cluster agglomeratively (with a cluster radius)\n",
    "# by route_type and zone\n",
    "nodes = []\n",
    "all_nodes = gpd.GeoDataFrame(sm.nodes.copy())\n",
    "links = []\n",
    "all_links = gpd.GeoDataFrame(sm.links.copy())\n",
    "sm.clustering_zones = sm.zones.copy()\n",
    "# Process each mode seperately and concatenate tables in the end\n",
    "for mode in sm.nodes['route_type'].unique():\n",
    "    sm.nodes = all_nodes.loc[all_nodes['route_type']==mode]\n",
    "    sm.links = all_links.loc[all_links['route_type']==mode]\n",
    "    dist_col = 'radius_'+mode\n",
    "    sm.clustering_zones[dist_col] = params['clustering'][dist_col]\n",
    "    \n",
    "    if sm.clustering_zones[dist_col].mean() != 0:\n",
    "        sm.preparation_clusterize_nodes(adaptive_clustering=True, distance_col=dist_col)\n",
    "        # Reindex with mode names\n",
    "        prefix = ''.join([s[0] for s in mode.split('_')]) + '_'\n",
    "        sm.nodes.index = [prefix + str(i) for i in sm.nodes.index]\n",
    "        sm.links['a'] = prefix + sm.links['a'].apply(str)\n",
    "        sm.links['b'] = prefix + sm.links['b'].apply(str)\n",
    "        # Set route_type\n",
    "        sm.nodes['route_type'] = mode\n",
    "        \n",
    "    nodes.append(sm.nodes.copy())\n",
    "    links.append(sm.links.copy())\n",
    "    \n",
    "sm.nodes = pd.concat(nodes)\n",
    "sm.links = pd.concat(links)"
   ]
  },
  {
   "cell_type": "code",
   "execution_count": 25,
   "metadata": {},
   "outputs": [
    {
     "data": {
      "text/html": [
       "<div>\n",
       "<style scoped>\n",
       "    .dataframe tbody tr th:only-of-type {\n",
       "        vertical-align: middle;\n",
       "    }\n",
       "\n",
       "    .dataframe tbody tr th {\n",
       "        vertical-align: top;\n",
       "    }\n",
       "\n",
       "    .dataframe thead th {\n",
       "        text-align: right;\n",
       "    }\n",
       "</style>\n",
       "<table border=\"1\" class=\"dataframe\">\n",
       "  <thead>\n",
       "    <tr style=\"text-align: right;\">\n",
       "      <th></th>\n",
       "      <th>geometry</th>\n",
       "      <th>route_type</th>\n",
       "      <th>stop_name</th>\n",
       "    </tr>\n",
       "  </thead>\n",
       "  <tbody>\n",
       "    <tr>\n",
       "      <th>b_DE932_149</th>\n",
       "      <td>POINT (8.70551 53.42498)</td>\n",
       "      <td>bus</td>\n",
       "      <td>NaN</td>\n",
       "    </tr>\n",
       "  </tbody>\n",
       "</table>\n",
       "</div>"
      ],
      "text/plain": [
       "                             geometry route_type stop_name\n",
       "b_DE932_149  POINT (8.70551 53.42498)        bus       NaN"
      ]
     },
     "execution_count": 25,
     "metadata": {},
     "output_type": "execute_result"
    }
   ],
   "source": [
    "sm.nodes.sample()"
   ]
  },
  {
   "cell_type": "code",
   "execution_count": 26,
   "metadata": {},
   "outputs": [
    {
     "data": {
      "text/plain": [
       "(183412, 3)"
      ]
     },
     "execution_count": 26,
     "metadata": {},
     "output_type": "execute_result"
    }
   ],
   "source": [
    "sm.nodes.shape"
   ]
  },
  {
   "cell_type": "code",
   "execution_count": 27,
   "metadata": {},
   "outputs": [
    {
     "data": {
      "image/png": "[encoded data removed]",
      "text/plain": [
       "<Figure size 432x288 with 1 Axes>"
      ]
     },
     "metadata": {
      "needs_background": "light"
     },
     "output_type": "display_data"
    }
   ],
   "source": [
    "# Coverage\n",
    "if manual: gpd.GeoDataFrame(sm.node_clusters).plot()"
   ]
  },
  {
   "cell_type": "code",
   "execution_count": 28,
   "metadata": {},
   "outputs": [
    {
     "data": {
      "text/html": [
       "<div>\n",
       "<style scoped>\n",
       "    .dataframe tbody tr th:only-of-type {\n",
       "        vertical-align: middle;\n",
       "    }\n",
       "\n",
       "    .dataframe tbody tr th {\n",
       "        vertical-align: top;\n",
       "    }\n",
       "\n",
       "    .dataframe thead th {\n",
       "        text-align: right;\n",
       "    }\n",
       "</style>\n",
       "<table border=\"1\" class=\"dataframe\">\n",
       "  <thead>\n",
       "    <tr style=\"text-align: right;\">\n",
       "      <th></th>\n",
       "      <th>a</th>\n",
       "      <th>b</th>\n",
       "      <th>disaggregated_a</th>\n",
       "      <th>disaggregated_b</th>\n",
       "      <th>geometry</th>\n",
       "      <th>headway</th>\n",
       "      <th>link_sequence</th>\n",
       "      <th>route_id</th>\n",
       "      <th>route_type</th>\n",
       "      <th>route_type_disagg</th>\n",
       "      <th>time</th>\n",
       "      <th>trip_id</th>\n",
       "    </tr>\n",
       "    <tr>\n",
       "      <th>index</th>\n",
       "      <th></th>\n",
       "      <th></th>\n",
       "      <th></th>\n",
       "      <th></th>\n",
       "      <th></th>\n",
       "      <th></th>\n",
       "      <th></th>\n",
       "      <th></th>\n",
       "      <th></th>\n",
       "      <th></th>\n",
       "      <th></th>\n",
       "      <th></th>\n",
       "    </tr>\n",
       "  </thead>\n",
       "  <tbody>\n",
       "    <tr>\n",
       "      <th>bus_1170290</th>\n",
       "      <td>b_DEA54_137</td>\n",
       "      <td>b_DEA54_73</td>\n",
       "      <td>bus_n_104705</td>\n",
       "      <td>bus_n_203988</td>\n",
       "      <td>LINESTRING (7.90217 51.60469, 7.90078 51.62181)</td>\n",
       "      <td>43200.0</td>\n",
       "      <td>12.0</td>\n",
       "      <td>bus_17609</td>\n",
       "      <td>bus</td>\n",
       "      <td>bus</td>\n",
       "      <td>60.0</td>\n",
       "      <td>bus_17609_3</td>\n",
       "    </tr>\n",
       "  </tbody>\n",
       "</table>\n",
       "</div>"
      ],
      "text/plain": [
       "                       a           b disaggregated_a disaggregated_b  \\\n",
       "index                                                                  \n",
       "bus_1170290  b_DEA54_137  b_DEA54_73    bus_n_104705    bus_n_203988   \n",
       "\n",
       "                                                    geometry  headway  \\\n",
       "index                                                                   \n",
       "bus_1170290  LINESTRING (7.90217 51.60469, 7.90078 51.62181)  43200.0   \n",
       "\n",
       "             link_sequence   route_id route_type route_type_disagg  time  \\\n",
       "index                                                                      \n",
       "bus_1170290           12.0  bus_17609        bus               bus  60.0   \n",
       "\n",
       "                 trip_id  \n",
       "index                     \n",
       "bus_1170290  bus_17609_3  "
      ]
     },
     "execution_count": 28,
     "metadata": {},
     "output_type": "execute_result"
    }
   ],
   "source": [
    "sm.links.sample()"
   ]
  },
  {
   "cell_type": "code",
   "execution_count": 29,
   "metadata": {},
   "outputs": [
    {
     "data": {
      "text/plain": [
       "(2217231, 12)"
      ]
     },
     "execution_count": 29,
     "metadata": {},
     "output_type": "execute_result"
    }
   ],
   "source": [
    "sm.links.shape"
   ]
  },
  {
   "cell_type": "markdown",
   "metadata": {},
   "source": [
    "## Clean\n",
    "And map nodes to zones"
   ]
  },
  {
   "cell_type": "code",
   "execution_count": 30,
   "metadata": {},
   "outputs": [
    {
     "name": "stderr",
     "output_type": "stream",
     "text": [
      "100%|████████████████████████████████████████████████████████████████████████████████| 401/401 [13:34<00:00,  2.03s/it]\n"
     ]
    },
    {
     "data": {
      "text/plain": [
       "1"
      ]
     },
     "execution_count": 30,
     "metadata": {},
     "output_type": "execute_result"
    }
   ],
   "source": [
    "# Map nodes to zones\n",
    "sm.nodes = gpd.GeoDataFrame(sm.nodes, crs=sm.epsg)\n",
    "shapely.speedups.enable()\n",
    "sm.nodes['FID'] = np.nan\n",
    "for _, zone in tqdm(sm.zones.iterrows(), total=sm.zones.shape[0]):\n",
    "    sm.nodes.loc[sm.nodes['geometry'].within(zone['geometry'].buffer(1e-3)), 'FID'] = zone['NUTS_ID']\n",
    "len(sm.nodes[sm.nodes['FID'].isna()])"
   ]
  },
  {
   "cell_type": "code",
   "execution_count": 31,
   "metadata": {},
   "outputs": [],
   "source": [
    "# Repair link geometry\n",
    "geo_dict = sm.nodes['geometry'].to_dict()\n",
    "sm.links['geometry'] = [geometry.LineString((geo_dict[a].coords[0], geo_dict[b].coords[0]))\n",
    "                        for a,b in sm.links[['a', 'b']].values]"
   ]
  },
  {
   "cell_type": "code",
   "execution_count": 32,
   "metadata": {},
   "outputs": [
    {
     "data": {
      "text/plain": [
       "(2151360, 12)"
      ]
     },
     "execution_count": 32,
     "metadata": {},
     "output_type": "execute_result"
    }
   ],
   "source": [
    "# Drop trips with different IDs but same stop sequences\n",
    "s = sm.links.groupby('trip_id').agg(tuple).drop_duplicates('a', keep='first')\n",
    "sm.links = sm.links.loc[sm.links['trip_id'].isin(s.index)]\n",
    "sm.links.shape"
   ]
  },
  {
   "cell_type": "code",
   "execution_count": 33,
   "metadata": {},
   "outputs": [],
   "source": [
    "# Remove within-cluster links\n",
    "# Neglect time savings when small cluster distances applied\n",
    "def fix_circular(trip):\n",
    "    drops = trip.loc[trip['a']==trip['b']].index\n",
    "    if len(drops) > 0:\n",
    "        trip = trip.drop(drops).sort_values('link_sequence')\n",
    "        trip['link_sequence'] = list(range(1, len(trip)+1))\n",
    "    return trip"
   ]
  },
  {
   "cell_type": "code",
   "execution_count": 34,
   "metadata": {},
   "outputs": [
    {
     "name": "stderr",
     "output_type": "stream",
     "text": [
      "100%|█████████████████████████████████████████████████████████████████████████| 145894/145894 [17:03<00:00, 142.58it/s]\n"
     ]
    },
    {
     "data": {
      "text/plain": [
       "(2039935, 12)"
      ]
     },
     "execution_count": 34,
     "metadata": {},
     "output_type": "execute_result"
    }
   ],
   "source": [
    "sm.links = sm.links.groupby('trip_id').progress_apply(fix_circular).reset_index(level=0, drop=True)\n",
    "sm.links.shape"
   ]
  },
  {
   "cell_type": "code",
   "execution_count": 35,
   "metadata": {},
   "outputs": [
    {
     "data": {
      "text/plain": [
       "(2002539, 12)"
      ]
     },
     "execution_count": 35,
     "metadata": {},
     "output_type": "execute_result"
    }
   ],
   "source": [
    "# Again: Drop trips with different IDs but same stop sequences\n",
    "s = sm.links.groupby('trip_id').agg(tuple).drop_duplicates('a', keep='first')\n",
    "sm.links = sm.links.loc[sm.links['trip_id'].isin(s.index)]\n",
    "sm.links.shape"
   ]
  },
  {
   "cell_type": "code",
   "execution_count": 24,
   "metadata": {},
   "outputs": [
    {
     "name": "stderr",
     "output_type": "stream",
     "text": [
      "Reprojecting model from epsg 3857 to epsg 4326: 100%|██████████████████████████████████| 39/39 [04:46<00:00,  7.34s/it]\n"
     ]
    }
   ],
   "source": [
    "# Convert the coordinate system back\n",
    "sm = sm.change_epsg(4326, 'degree')"
   ]
  },
  {
   "cell_type": "code",
   "execution_count": 37,
   "metadata": {},
   "outputs": [
    {
     "name": "stdout",
     "output_type": "stream",
     "text": [
      "Number of orphan nodes: 15\n",
      "Number of missing nodes: 0\n"
     ]
    },
    {
     "data": {
      "text/html": [
       "<div>\n",
       "<style scoped>\n",
       "    .dataframe tbody tr th:only-of-type {\n",
       "        vertical-align: middle;\n",
       "    }\n",
       "\n",
       "    .dataframe tbody tr th {\n",
       "        vertical-align: top;\n",
       "    }\n",
       "\n",
       "    .dataframe thead th {\n",
       "        text-align: right;\n",
       "    }\n",
       "</style>\n",
       "<table border=\"1\" class=\"dataframe\">\n",
       "  <thead>\n",
       "    <tr style=\"text-align: right;\">\n",
       "      <th></th>\n",
       "    </tr>\n",
       "  </thead>\n",
       "  <tbody>\n",
       "  </tbody>\n",
       "</table>\n",
       "</div>"
      ],
      "text/plain": [
       "Empty DataFrame\n",
       "Columns: []\n",
       "Index: []"
      ]
     },
     "execution_count": 37,
     "metadata": {},
     "output_type": "execute_result"
    }
   ],
   "source": [
    "# Integrity tests\n",
    "try:\n",
    "    sm.integrity_test_nodeset_consistency()\n",
    "except AssertionError:\n",
    "    print('Number of orphan nodes: {}'.format(\n",
    "        len(sm.orphan_nodes)))\n",
    "    print('Number of missing nodes: {}'.format(\n",
    "        len(sm.missing_nodes)))\n",
    "sm.links.groupby('trip_id').apply(test_sequences)"
   ]
  },
  {
   "cell_type": "code",
   "execution_count": null,
   "metadata": {},
   "outputs": [],
   "source": [
    "# Drop orphan nodes\n",
    "if len(sm.orphan_nodes) > 0: sm.nodes = sm.nodes.drop(sm.orphan_nodes)"
   ]
  },
  {
   "cell_type": "code",
   "execution_count": 52,
   "metadata": {},
   "outputs": [
    {
     "name": "stderr",
     "output_type": "stream",
     "text": [
      "100%|████████████████████████████████████████████████████████████████████████| 143382/143382 [01:49<00:00, 1305.80it/s]"
     ]
    },
    {
     "name": "stdout",
     "output_type": "stream",
     "text": [
      "374641\n"
     ]
    },
    {
     "name": "stderr",
     "output_type": "stream",
     "text": [
      "\n"
     ]
    }
   ],
   "source": [
    "# Test circular trips\n",
    "circular = sm.links.groupby('trip_id').progress_apply(test_circular)\n",
    "print('Number of links in circular trips: '+str(len(circular)))\n",
    "print('Number of bus links in circular trips: '+str(len(circular.loc[circular['route_type']=='bus'])))"
   ]
  },
  {
   "cell_type": "code",
   "execution_count": 58,
   "metadata": {},
   "outputs": [
    {
     "data": {
      "text/plain": [
       "(1627898, 12)"
      ]
     },
     "execution_count": 58,
     "metadata": {},
     "output_type": "execute_result"
    }
   ],
   "source": [
    "# Remove circular lines\n",
    "sm.links = sm.links.loc[~sm.links['trip_id'].isin(circular['trip_id'].unique())]\n",
    "sm.links.shape"
   ]
  },
  {
   "cell_type": "code",
   "execution_count": 59,
   "metadata": {},
   "outputs": [
    {
     "data": {
      "text/plain": [
       "0"
      ]
     },
     "execution_count": 59,
     "metadata": {},
     "output_type": "execute_result"
    }
   ],
   "source": [
    "sm.links.drop(['disaggregated_a', 'disaggregated_b'], axis=1, inplace=True)\n",
    "len(sm.links.loc[sm.links.isna().any(axis=1)])"
   ]
  },
  {
   "cell_type": "code",
   "execution_count": 60,
   "metadata": {},
   "outputs": [],
   "source": [
    "# Add bus service to ancilliary\n",
    "sm.agencies = sm.agencies.append(bus.agencies).reset_index(drop=True)\n",
    "sm.pt_routes = sm.pt_routes.append(bus.pt_routes).reset_index(drop=True)"
   ]
  },
  {
   "cell_type": "code",
   "execution_count": 61,
   "metadata": {},
   "outputs": [
    {
     "data": {
      "text/plain": [
       "['air', 'bus', 'coach', 'rail_long', 'rail_short']"
      ]
     },
     "execution_count": 61,
     "metadata": {},
     "output_type": "execute_result"
    }
   ],
   "source": [
    "# Now, we have bus services in the same tables\n",
    "sm.pt_route_types = list(sm.links['route_type'].unique())\n",
    "sm.pt_route_types"
   ]
  },
  {
   "cell_type": "code",
   "execution_count": 62,
   "metadata": {},
   "outputs": [
    {
     "data": {
      "text/html": [
       "<div>\n",
       "<style scoped>\n",
       "    .dataframe tbody tr th:only-of-type {\n",
       "        vertical-align: middle;\n",
       "    }\n",
       "\n",
       "    .dataframe tbody tr th {\n",
       "        vertical-align: top;\n",
       "    }\n",
       "\n",
       "    .dataframe thead th {\n",
       "        text-align: right;\n",
       "    }\n",
       "</style>\n",
       "<table border=\"1\" class=\"dataframe\">\n",
       "  <thead>\n",
       "    <tr style=\"text-align: right;\">\n",
       "      <th></th>\n",
       "      <th>a</th>\n",
       "      <th>b</th>\n",
       "      <th>geometry</th>\n",
       "      <th>headway</th>\n",
       "      <th>link_sequence</th>\n",
       "      <th>route_id</th>\n",
       "      <th>route_type</th>\n",
       "      <th>route_type_disagg</th>\n",
       "      <th>time</th>\n",
       "      <th>trip_id</th>\n",
       "    </tr>\n",
       "    <tr>\n",
       "      <th>index</th>\n",
       "      <th></th>\n",
       "      <th></th>\n",
       "      <th></th>\n",
       "      <th></th>\n",
       "      <th></th>\n",
       "      <th></th>\n",
       "      <th></th>\n",
       "      <th></th>\n",
       "      <th></th>\n",
       "      <th></th>\n",
       "    </tr>\n",
       "  </thead>\n",
       "  <tbody>\n",
       "    <tr>\n",
       "      <th>rs_55711</th>\n",
       "      <td>rs_DE600_52</td>\n",
       "      <td>rs_DE600_46</td>\n",
       "      <td>LINESTRING (9.90850 53.64761, 9.90662 53.63412)</td>\n",
       "      <td>3086.0</td>\n",
       "      <td>21.0</td>\n",
       "      <td>rs_70</td>\n",
       "      <td>rail_short</td>\n",
       "      <td>rail_short</td>\n",
       "      <td>180.0</td>\n",
       "      <td>rs_70_1</td>\n",
       "    </tr>\n",
       "  </tbody>\n",
       "</table>\n",
       "</div>"
      ],
      "text/plain": [
       "                    a            b  \\\n",
       "index                                \n",
       "rs_55711  rs_DE600_52  rs_DE600_46   \n",
       "\n",
       "                                                 geometry  headway  \\\n",
       "index                                                                \n",
       "rs_55711  LINESTRING (9.90850 53.64761, 9.90662 53.63412)   3086.0   \n",
       "\n",
       "          link_sequence route_id  route_type route_type_disagg   time  trip_id  \n",
       "index                                                                           \n",
       "rs_55711           21.0    rs_70  rail_short        rail_short  180.0  rs_70_1  "
      ]
     },
     "execution_count": 62,
     "metadata": {},
     "output_type": "execute_result"
    }
   ],
   "source": [
    "sm.links.loc[sm.links['route_type']=='rail_short'].sample()"
   ]
  },
  {
   "cell_type": "markdown",
   "metadata": {},
   "source": [
    "## Save model\n"
   ]
  },
  {
   "cell_type": "code",
   "execution_count": 63,
   "metadata": {},
   "outputs": [],
   "source": [
    "# Cast columns to integer\n",
    "cols = ['link_sequence', 'time', 'headway']\n",
    "sm.links[cols] = sm.links[cols].astype(int)"
   ]
  },
  {
   "cell_type": "code",
   "execution_count": 64,
   "metadata": {},
   "outputs": [],
   "source": [
    "# Split links in graph and auxiliary information\n",
    "# for file sizes being compatible with github's size limit\n",
    "cols = ['link_sequence', 'route_id', 'time', 'trip_id', 'headway']\n",
    "auxiliary = sm.links[cols]\n",
    "sm.links.drop(cols, axis=1, inplace=True)"
   ]
  },
  {
   "cell_type": "code",
   "execution_count": 65,
   "metadata": {},
   "outputs": [
    {
     "name": "stderr",
     "output_type": "stream",
     "text": [
      "to_hdf(overwriting): 100%|█████████████████████████████████████████████████████████████| 39/39 [04:30<00:00,  6.94s/it]\n"
     ]
    }
   ],
   "source": [
    "# Saving model...\n",
    "sm.to_json(model_path + 'de_pt_network_agg',\n",
    "           only_attributes=['zones', 'links', 'nodes', 'pt_route_types'],\n",
    "           encoding='utf-8')"
   ]
  },
  {
   "cell_type": "code",
   "execution_count": 66,
   "metadata": {},
   "outputs": [
    {
     "name": "stderr",
     "output_type": "stream",
     "text": [
      "to_hdf(overwriting): 100%|█████████████████████████████████████████████████████████████| 39/39 [00:51<00:00,  1.33s/it]\n"
     ]
    }
   ],
   "source": [
    "sm.to_json(model_path + 'de_pt_network_ancillary',\n",
    "           only_attributes=['agencies', 'pt_routes', 'node_parenthood'],\n",
    "           encoding='utf-8')"
   ]
  },
  {
   "cell_type": "code",
   "execution_count": 67,
   "metadata": {},
   "outputs": [],
   "source": [
    "# Save auxiliary information seperately\n",
    "auxiliary['index'] = auxiliary.index\n",
    "auxiliary.reset_index(drop=True, inplace=True)\n",
    "auxiliary.to_json(model_path + 'de_pt_network_agg/links_quetzaldata.json')"
   ]
  }
 ],
 "metadata": {
  "kernelspec": {
   "display_name": "Python 3",
   "language": "python",
   "name": "python3"
  },
  "language_info": {
   "codemirror_mode": {
    "name": "ipython",
    "version": 3
   },
   "file_extension": ".py",
   "mimetype": "text/x-python",
   "name": "python",
   "nbconvert_exporter": "python",
   "pygments_lexer": "ipython3",
   "version": "3.8.1"
  }
 },
 "nbformat": 4,
 "nbformat_minor": 2
}
