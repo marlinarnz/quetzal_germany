{
 "cells": [
  {
   "cell_type": "code",
   "execution_count": 1,
   "metadata": {},
   "outputs": [
    {
     "name": "stderr",
     "output_type": "stream",
     "text": [
      "In C:\\Users\\marlin.arnz\\AppData\\Local\\Continuum\\miniconda3\\envs\\quetzal\\lib\\site-packages\\matplotlib\\mpl-data\\stylelib\\_classic_test.mplstyle: \n",
      "The text.latex.preview rcparam was deprecated in Matplotlib 3.3 and will be removed two minor releases later.\n",
      "In C:\\Users\\marlin.arnz\\AppData\\Local\\Continuum\\miniconda3\\envs\\quetzal\\lib\\site-packages\\matplotlib\\mpl-data\\stylelib\\_classic_test.mplstyle: \n",
      "The mathtext.fallback_to_cm rcparam was deprecated in Matplotlib 3.3 and will be removed two minor releases later.\n",
      "In C:\\Users\\marlin.arnz\\AppData\\Local\\Continuum\\miniconda3\\envs\\quetzal\\lib\\site-packages\\matplotlib\\mpl-data\\stylelib\\_classic_test.mplstyle: Support for setting the 'mathtext.fallback_to_cm' rcParam is deprecated since 3.3 and will be removed two minor releases later; use 'mathtext.fallback : 'cm' instead.\n",
      "In C:\\Users\\marlin.arnz\\AppData\\Local\\Continuum\\miniconda3\\envs\\quetzal\\lib\\site-packages\\matplotlib\\mpl-data\\stylelib\\_classic_test.mplstyle: \n",
      "The validate_bool_maybe_none function was deprecated in Matplotlib 3.3 and will be removed two minor releases later.\n",
      "In C:\\Users\\marlin.arnz\\AppData\\Local\\Continuum\\miniconda3\\envs\\quetzal\\lib\\site-packages\\matplotlib\\mpl-data\\stylelib\\_classic_test.mplstyle: \n",
      "The savefig.jpeg_quality rcparam was deprecated in Matplotlib 3.3 and will be removed two minor releases later.\n",
      "In C:\\Users\\marlin.arnz\\AppData\\Local\\Continuum\\miniconda3\\envs\\quetzal\\lib\\site-packages\\matplotlib\\mpl-data\\stylelib\\_classic_test.mplstyle: \n",
      "The keymap.all_axes rcparam was deprecated in Matplotlib 3.3 and will be removed two minor releases later.\n",
      "In C:\\Users\\marlin.arnz\\AppData\\Local\\Continuum\\miniconda3\\envs\\quetzal\\lib\\site-packages\\matplotlib\\mpl-data\\stylelib\\_classic_test.mplstyle: \n",
      "The animation.avconv_path rcparam was deprecated in Matplotlib 3.3 and will be removed two minor releases later.\n",
      "In C:\\Users\\marlin.arnz\\AppData\\Local\\Continuum\\miniconda3\\envs\\quetzal\\lib\\site-packages\\matplotlib\\mpl-data\\stylelib\\_classic_test.mplstyle: \n",
      "The animation.avconv_args rcparam was deprecated in Matplotlib 3.3 and will be removed two minor releases later.\n"
     ]
    }
   ],
   "source": [
    "import numpy as np\n",
    "import pandas as pd\n",
    "import geopandas as gpd\n",
    "from shapely import geometry\n",
    "from geopy.distance import geodesic\n",
    "import shapely.speedups\n",
    "from tqdm import tqdm\n",
    "from quetzal.model import stepmodel\n",
    "from quetzal.engine import connectivity"
   ]
  },
  {
   "cell_type": "markdown",
   "metadata": {},
   "source": [
    "# Preparation of the transport network.\n",
    "## Saves aggregated bus and short-distance rail network.\n",
    "## Needs PT networks."
   ]
  },
  {
   "cell_type": "code",
   "execution_count": 2,
   "metadata": {},
   "outputs": [],
   "source": [
    "input_path = '../input_static/'\n",
    "output_path = '../output/'\n",
    "model_path = '../model/'"
   ]
  },
  {
   "cell_type": "code",
   "execution_count": 3,
   "metadata": {},
   "outputs": [],
   "source": [
    "# Loading StepModel with PT networks...\n",
    "sm = stepmodel.read_json(input_path + 'de_pt_network')\n",
    "bus = stepmodel.read_json(input_path + 'de_pt_network_bus')"
   ]
  },
  {
   "cell_type": "code",
   "execution_count": 24,
   "metadata": {},
   "outputs": [],
   "source": [
    "# Make sure to use the right zones\n",
    "z = stepmodel.read_json(model_path + 'de_zones')\n",
    "z.zones['FID'] = z.zones['NUTS_ID']\n",
    "sm.zones = z.zones\n",
    "bus.zones = z.zones"
   ]
  },
  {
   "cell_type": "markdown",
   "metadata": {},
   "source": [
    "## Test links and nodes for network integrity\n",
    "Neccessary for any further steps"
   ]
  },
  {
   "cell_type": "code",
   "execution_count": 4,
   "metadata": {},
   "outputs": [
    {
     "name": "stdout",
     "output_type": "stream",
     "text": [
      "Found 5 orphan nodes\n",
      "no road_links or road_nodes\n"
     ]
    }
   ],
   "source": [
    "# Check nodeset integrity for later steps to work\n",
    "try:\n",
    "    sm.integrity_test_nodeset_consistency()\n",
    "except AssertionError:\n",
    "    print('Found {} orphan nodes'.format(len(sm.orphan_nodes)))\n",
    "    sm.nodes.drop(sm.orphan_nodes, inplace=True)\n",
    "    # Test integrity again\n",
    "    sm.integrity_test_nodeset_consistency()"
   ]
  },
  {
   "cell_type": "code",
   "execution_count": 5,
   "metadata": {},
   "outputs": [],
   "source": [
    "# Test sequences\n",
    "# Use an own function because quetzal's takes ages\n",
    "def test_sequences(trip):\n",
    "    assert len(trip)==trip['link_sequence'].max(), \\\n",
    "        'broken sequence in trip {}'.format(trip['trip_id'].unique()[0])"
   ]
  },
  {
   "cell_type": "code",
   "execution_count": 6,
   "metadata": {},
   "outputs": [],
   "source": [
    "# Fix sequences\n",
    "# Use an own function because quetzal's takes ages\n",
    "def fix_sequences(trip):\n",
    "    trip = trip.sort_values('link_sequence')\n",
    "    # Check link succession\n",
    "    ind = list(trip.index)\n",
    "    for i in range(len(trip.index) - 1):\n",
    "        try:\n",
    "            assert trip.loc[ind[i], 'b'] == trip.loc[ind[i+1], 'a'], \\\n",
    "                'broken trip {}: stop {} has no successor link'.format(\n",
    "                    trip['trip_id'].unique()[0], trip.loc[ind[i], 'b'])\n",
    "        except AssertionError:\n",
    "            trip.loc[ind[i+1]:ind[-1], 'trip_id'] = \\\n",
    "                trip.loc[ind[i+1]:ind[-1], 'trip_id'] + '_' + str(i)\n",
    "    # Repair sequences\n",
    "    if len(trip) != trip['link_sequence'].max():\n",
    "        trip['link_sequence'] = trip.groupby('trip_id')['link_sequence'].apply(\n",
    "            lambda t: [j for j in range(1, len(t.index)+1)]).sum()\n",
    "    return trip"
   ]
  },
  {
   "cell_type": "code",
   "execution_count": 7,
   "metadata": {},
   "outputs": [],
   "source": [
    "# Test and save broken sequences\n",
    "def test_sequences_save(trip):\n",
    "    if len(trip)!=trip['link_sequence'].max():\n",
    "        return list(trip.index)"
   ]
  },
  {
   "cell_type": "code",
   "execution_count": 8,
   "metadata": {},
   "outputs": [
    {
     "name": "stderr",
     "output_type": "stream",
     "text": [
      "100%|██████████████████████████████████████████████████████████████████████████| 21118/21118 [00:08<00:00, 2462.12it/s]\n"
     ]
    }
   ],
   "source": [
    "tqdm.pandas()\n",
    "try:\n",
    "    sm.links.groupby('trip_id').progress_apply(test_sequences)\n",
    "except AssertionError:\n",
    "    links = sm.links.groupby('trip_id').progress_apply(fix_sequences).reset_index(level=0, drop=True)\n",
    "    links.groupby('trip_id').progress_apply(test_sequences)\n",
    "    sm.links = links"
   ]
  },
  {
   "cell_type": "code",
   "execution_count": 9,
   "metadata": {},
   "outputs": [
    {
     "name": "stderr",
     "output_type": "stream",
     "text": [
      "100%|████████████████████████████████████████████████████████████████████████| 210028/210028 [01:24<00:00, 2471.05it/s]\n"
     ]
    }
   ],
   "source": [
    "broken_seqs = bus.links.groupby('trip_id').progress_apply(test_sequences_save)"
   ]
  },
  {
   "cell_type": "code",
   "execution_count": 10,
   "metadata": {},
   "outputs": [
    {
     "data": {
      "text/plain": [
       "trip_id\n",
       "bus_1000218    [bus_2798066, bus_2798067, bus_2798068, bus_27...\n",
       "bus_10004      [bus_134951, bus_134952, bus_134953, bus_13495...\n",
       "bus_1003106    [bus_2802750, bus_2802751, bus_2802752, bus_28...\n",
       "bus_1003982    [bus_2804123, bus_2804124, bus_2804125, bus_28...\n",
       "bus_10068      [bus_135639, bus_135640, bus_135641, bus_13564...\n",
       "                                     ...                        \n",
       "bus_99702      [bus_729540, bus_729541, bus_729542, bus_72954...\n",
       "bus_99879      [bus_730188, bus_730189, bus_730190, bus_73019...\n",
       "bus_999762     [bus_2797494, bus_2797495, bus_2797496, bus_27...\n",
       "bus_999928     [bus_2797641, bus_2797642, bus_2797643, bus_27...\n",
       "bus_99996      [bus_730718, bus_730719, bus_730720, bus_73072...\n",
       "Length: 2178, dtype: object"
      ]
     },
     "execution_count": 10,
     "metadata": {},
     "output_type": "execute_result"
    }
   ],
   "source": [
    "broken_seqs.loc[broken_seqs.notna()]"
   ]
  },
  {
   "cell_type": "code",
   "execution_count": 11,
   "metadata": {},
   "outputs": [
    {
     "name": "stderr",
     "output_type": "stream",
     "text": [
      "100%|██████████████████████████████████████████████████████████████████████████████| 2178/2178 [01:00<00:00, 35.73it/s]\n"
     ]
    }
   ],
   "source": [
    "links = bus.links.loc[broken_seqs.loc[broken_seqs.notna()].sum()\n",
    "                     ].groupby('trip_id').progress_apply(fix_sequences)"
   ]
  },
  {
   "cell_type": "code",
   "execution_count": 12,
   "metadata": {},
   "outputs": [
    {
     "data": {
      "text/html": [
       "<div>\n",
       "<style scoped>\n",
       "    .dataframe tbody tr th:only-of-type {\n",
       "        vertical-align: middle;\n",
       "    }\n",
       "\n",
       "    .dataframe tbody tr th {\n",
       "        vertical-align: top;\n",
       "    }\n",
       "\n",
       "    .dataframe thead th {\n",
       "        text-align: right;\n",
       "    }\n",
       "</style>\n",
       "<table border=\"1\" class=\"dataframe\">\n",
       "  <thead>\n",
       "    <tr style=\"text-align: right;\">\n",
       "      <th></th>\n",
       "      <th></th>\n",
       "      <th>route_id</th>\n",
       "      <th>route_type</th>\n",
       "      <th>a</th>\n",
       "      <th>b</th>\n",
       "      <th>time</th>\n",
       "      <th>trip_id</th>\n",
       "      <th>link_sequence</th>\n",
       "      <th>geometry</th>\n",
       "    </tr>\n",
       "    <tr>\n",
       "      <th>trip_id</th>\n",
       "      <th>index</th>\n",
       "      <th></th>\n",
       "      <th></th>\n",
       "      <th></th>\n",
       "      <th></th>\n",
       "      <th></th>\n",
       "      <th></th>\n",
       "      <th></th>\n",
       "      <th></th>\n",
       "    </tr>\n",
       "  </thead>\n",
       "  <tbody>\n",
       "    <tr>\n",
       "      <th>bus_314790</th>\n",
       "      <th>bus_x_62109</th>\n",
       "      <td>bus_14932</td>\n",
       "      <td>bus</td>\n",
       "      <td>bus_n_x_395611</td>\n",
       "      <td>bus_n_x_397392</td>\n",
       "      <td>120.0</td>\n",
       "      <td>bus_314790_0_2_4</td>\n",
       "      <td>1</td>\n",
       "      <td>LINESTRING (7.68157 49.99729, 7.66879 50.00550)</td>\n",
       "    </tr>\n",
       "  </tbody>\n",
       "</table>\n",
       "</div>"
      ],
      "text/plain": [
       "                         route_id route_type               a               b  \\\n",
       "trip_id    index                                                               \n",
       "bus_314790 bus_x_62109  bus_14932        bus  bus_n_x_395611  bus_n_x_397392   \n",
       "\n",
       "                         time           trip_id  link_sequence  \\\n",
       "trip_id    index                                                 \n",
       "bus_314790 bus_x_62109  120.0  bus_314790_0_2_4              1   \n",
       "\n",
       "                                                               geometry  \n",
       "trip_id    index                                                         \n",
       "bus_314790 bus_x_62109  LINESTRING (7.68157 49.99729, 7.66879 50.00550)  "
      ]
     },
     "execution_count": 12,
     "metadata": {},
     "output_type": "execute_result"
    }
   ],
   "source": [
    "links.sample()"
   ]
  },
  {
   "cell_type": "code",
   "execution_count": 13,
   "metadata": {},
   "outputs": [
    {
     "data": {
      "text/plain": [
       "(63092, 8)"
      ]
     },
     "execution_count": 13,
     "metadata": {},
     "output_type": "execute_result"
    }
   ],
   "source": [
    "links.shape"
   ]
  },
  {
   "cell_type": "code",
   "execution_count": 14,
   "metadata": {},
   "outputs": [],
   "source": [
    "links.reset_index(level=0, drop=True, inplace=True)"
   ]
  },
  {
   "cell_type": "code",
   "execution_count": 15,
   "metadata": {},
   "outputs": [
    {
     "name": "stderr",
     "output_type": "stream",
     "text": [
      "100%|██████████████████████████████████████████████████████████████████████████| 36574/36574 [00:10<00:00, 3342.98it/s]\n"
     ]
    },
    {
     "data": {
      "text/html": [
       "<div>\n",
       "<style scoped>\n",
       "    .dataframe tbody tr th:only-of-type {\n",
       "        vertical-align: middle;\n",
       "    }\n",
       "\n",
       "    .dataframe tbody tr th {\n",
       "        vertical-align: top;\n",
       "    }\n",
       "\n",
       "    .dataframe thead th {\n",
       "        text-align: right;\n",
       "    }\n",
       "</style>\n",
       "<table border=\"1\" class=\"dataframe\">\n",
       "  <thead>\n",
       "    <tr style=\"text-align: right;\">\n",
       "      <th></th>\n",
       "    </tr>\n",
       "  </thead>\n",
       "  <tbody>\n",
       "  </tbody>\n",
       "</table>\n",
       "</div>"
      ],
      "text/plain": [
       "Empty DataFrame\n",
       "Columns: []\n",
       "Index: []"
      ]
     },
     "execution_count": 15,
     "metadata": {},
     "output_type": "execute_result"
    }
   ],
   "source": [
    "links.groupby('trip_id').progress_apply(test_sequences)"
   ]
  },
  {
   "cell_type": "code",
   "execution_count": 16,
   "metadata": {},
   "outputs": [],
   "source": [
    "bus.links = bus.links.drop(broken_seqs.loc[broken_seqs.notna()].sum()).append(links)"
   ]
  },
  {
   "cell_type": "code",
   "execution_count": 17,
   "metadata": {},
   "outputs": [
    {
     "data": {
      "text/html": [
       "<div>\n",
       "<style scoped>\n",
       "    .dataframe tbody tr th:only-of-type {\n",
       "        vertical-align: middle;\n",
       "    }\n",
       "\n",
       "    .dataframe tbody tr th {\n",
       "        vertical-align: top;\n",
       "    }\n",
       "\n",
       "    .dataframe thead th {\n",
       "        text-align: right;\n",
       "    }\n",
       "</style>\n",
       "<table border=\"1\" class=\"dataframe\">\n",
       "  <thead>\n",
       "    <tr style=\"text-align: right;\">\n",
       "      <th></th>\n",
       "      <th>route_id</th>\n",
       "      <th>route_type</th>\n",
       "      <th>a</th>\n",
       "      <th>b</th>\n",
       "      <th>time</th>\n",
       "      <th>trip_id</th>\n",
       "      <th>link_sequence</th>\n",
       "      <th>geometry</th>\n",
       "    </tr>\n",
       "    <tr>\n",
       "      <th>index</th>\n",
       "      <th></th>\n",
       "      <th></th>\n",
       "      <th></th>\n",
       "      <th></th>\n",
       "      <th></th>\n",
       "      <th></th>\n",
       "      <th></th>\n",
       "      <th></th>\n",
       "    </tr>\n",
       "  </thead>\n",
       "  <tbody>\n",
       "    <tr>\n",
       "      <th>bus_142506</th>\n",
       "      <td>bus_10427</td>\n",
       "      <td>bus</td>\n",
       "      <td>bus_n_338981</td>\n",
       "      <td>bus_n_41590</td>\n",
       "      <td>90.0</td>\n",
       "      <td>bus_10633</td>\n",
       "      <td>22</td>\n",
       "      <td>LINESTRING (6.80697 51.16872, 6.81407 51.16886)</td>\n",
       "    </tr>\n",
       "  </tbody>\n",
       "</table>\n",
       "</div>"
      ],
      "text/plain": [
       "             route_id route_type             a            b  time    trip_id  \\\n",
       "index                                                                          \n",
       "bus_142506  bus_10427        bus  bus_n_338981  bus_n_41590  90.0  bus_10633   \n",
       "\n",
       "            link_sequence                                         geometry  \n",
       "index                                                                       \n",
       "bus_142506             22  LINESTRING (6.80697 51.16872, 6.81407 51.16886)  "
      ]
     },
     "execution_count": 17,
     "metadata": {},
     "output_type": "execute_result"
    }
   ],
   "source": [
    "bus.links.sample()"
   ]
  },
  {
   "cell_type": "code",
   "execution_count": 18,
   "metadata": {},
   "outputs": [
    {
     "data": {
      "text/html": [
       "<div>\n",
       "<style scoped>\n",
       "    .dataframe tbody tr th:only-of-type {\n",
       "        vertical-align: middle;\n",
       "    }\n",
       "\n",
       "    .dataframe tbody tr th {\n",
       "        vertical-align: top;\n",
       "    }\n",
       "\n",
       "    .dataframe thead th {\n",
       "        text-align: right;\n",
       "    }\n",
       "</style>\n",
       "<table border=\"1\" class=\"dataframe\">\n",
       "  <thead>\n",
       "    <tr style=\"text-align: right;\">\n",
       "      <th></th>\n",
       "      <th>stop_name</th>\n",
       "      <th>route_type</th>\n",
       "      <th>FID</th>\n",
       "      <th>geometry</th>\n",
       "    </tr>\n",
       "    <tr>\n",
       "      <th>index</th>\n",
       "      <th></th>\n",
       "      <th></th>\n",
       "      <th></th>\n",
       "      <th></th>\n",
       "    </tr>\n",
       "  </thead>\n",
       "  <tbody>\n",
       "    <tr>\n",
       "      <th>bus_n_148919</th>\n",
       "      <td>Steyerberg, Kieferngrund, Mast 1</td>\n",
       "      <td>bus</td>\n",
       "      <td>DE927</td>\n",
       "      <td>POINT (9.02011 52.57590)</td>\n",
       "    </tr>\n",
       "  </tbody>\n",
       "</table>\n",
       "</div>"
      ],
      "text/plain": [
       "                                     stop_name route_type    FID  \\\n",
       "index                                                              \n",
       "bus_n_148919  Steyerberg, Kieferngrund, Mast 1        bus  DE927   \n",
       "\n",
       "                              geometry  \n",
       "index                                   \n",
       "bus_n_148919  POINT (9.02011 52.57590)  "
      ]
     },
     "execution_count": 18,
     "metadata": {},
     "output_type": "execute_result"
    }
   ],
   "source": [
    "bus.nodes.sample()"
   ]
  },
  {
   "cell_type": "code",
   "execution_count": 19,
   "metadata": {},
   "outputs": [
    {
     "data": {
      "text/html": [
       "<div>\n",
       "<style scoped>\n",
       "    .dataframe tbody tr th:only-of-type {\n",
       "        vertical-align: middle;\n",
       "    }\n",
       "\n",
       "    .dataframe tbody tr th {\n",
       "        vertical-align: top;\n",
       "    }\n",
       "\n",
       "    .dataframe thead th {\n",
       "        text-align: right;\n",
       "    }\n",
       "</style>\n",
       "<table border=\"1\" class=\"dataframe\">\n",
       "  <thead>\n",
       "    <tr style=\"text-align: right;\">\n",
       "      <th></th>\n",
       "      <th>a</th>\n",
       "      <th>b</th>\n",
       "      <th>link_sequence</th>\n",
       "      <th>route_id</th>\n",
       "      <th>route_type</th>\n",
       "      <th>time</th>\n",
       "      <th>trip_id</th>\n",
       "      <th>geometry</th>\n",
       "    </tr>\n",
       "    <tr>\n",
       "      <th>index</th>\n",
       "      <th></th>\n",
       "      <th></th>\n",
       "      <th></th>\n",
       "      <th></th>\n",
       "      <th></th>\n",
       "      <th></th>\n",
       "      <th></th>\n",
       "      <th></th>\n",
       "    </tr>\n",
       "  </thead>\n",
       "  <tbody>\n",
       "  </tbody>\n",
       "</table>\n",
       "</div>"
      ],
      "text/plain": [
       "Empty DataFrame\n",
       "Columns: [a, b, link_sequence, route_id, route_type, time, trip_id, geometry]\n",
       "Index: []"
      ]
     },
     "execution_count": 19,
     "metadata": {},
     "output_type": "execute_result"
    }
   ],
   "source": [
    "sm.links.loc[sm.links.duplicated(['a', 'b', 'trip_id'], keep=False)]"
   ]
  },
  {
   "cell_type": "markdown",
   "metadata": {},
   "source": [
    "## Map nodes to zones\n",
    "Needed for clustering"
   ]
  },
  {
   "cell_type": "code",
   "execution_count": 25,
   "metadata": {},
   "outputs": [
    {
     "name": "stderr",
     "output_type": "stream",
     "text": [
      "\n",
      "  0%|                                                                                          | 0/401 [00:00<?, ?it/s]\u001b[A\n",
      "  0%|▏                                                                                 | 1/401 [00:00<00:40,  9.85it/s]\u001b[A\n",
      "  1%|▌                                                                                 | 3/401 [00:00<00:37, 10.64it/s]\u001b[A\n",
      "  1%|█                                                                                 | 5/401 [00:00<00:33, 11.68it/s]\u001b[A\n",
      "  2%|█▍                                                                                | 7/401 [00:00<00:33, 11.86it/s]\u001b[A\n",
      "  2%|█▊                                                                                | 9/401 [00:00<00:31, 12.54it/s]\u001b[A\n",
      "  3%|██▏                                                                              | 11/401 [00:00<00:34, 11.34it/s]\u001b[A\n",
      "  3%|██▋                                                                              | 13/401 [00:01<00:31, 12.27it/s]\u001b[A\n",
      "  4%|███                                                                              | 15/401 [00:01<00:30, 12.48it/s]\u001b[A\n",
      "  4%|███▍                                                                             | 17/401 [00:01<00:30, 12.80it/s]\u001b[A\n",
      "  5%|███▊                                                                             | 19/401 [00:01<00:29, 12.86it/s]\u001b[A\n",
      "  5%|████▏                                                                            | 21/401 [00:01<00:29, 13.08it/s]\u001b[A\n",
      "  6%|████▋                                                                            | 23/401 [00:01<00:28, 13.06it/s]\u001b[A\n",
      "  6%|█████                                                                            | 25/401 [00:01<00:30, 12.44it/s]\u001b[A\n",
      "  7%|█████▍                                                                           | 27/401 [00:02<00:29, 12.61it/s]\u001b[A\n",
      "  7%|█████▊                                                                           | 29/401 [00:02<00:28, 12.89it/s]\u001b[A\n",
      "  8%|██████▎                                                                          | 31/401 [00:02<00:28, 12.93it/s]\u001b[A\n",
      "  8%|██████▋                                                                          | 33/401 [00:02<00:28, 13.10it/s]\u001b[A\n",
      "  9%|███████                                                                          | 35/401 [00:02<00:27, 13.10it/s]\u001b[A\n",
      "  9%|███████▍                                                                         | 37/401 [00:02<00:27, 13.24it/s]\u001b[A\n",
      " 10%|███████▉                                                                         | 39/401 [00:03<00:26, 13.59it/s]\u001b[A\n",
      " 10%|████████▎                                                                        | 41/401 [00:03<00:28, 12.63it/s]\u001b[A\n",
      " 11%|████████▋                                                                        | 43/401 [00:03<00:27, 13.17it/s]\u001b[A\n",
      " 11%|█████████                                                                        | 45/401 [00:03<00:27, 12.86it/s]\u001b[A\n",
      " 12%|█████████▍                                                                       | 47/401 [00:03<00:26, 13.48it/s]\u001b[A\n",
      " 12%|█████████▉                                                                       | 49/401 [00:03<00:26, 13.51it/s]\u001b[A\n",
      " 13%|██████████▎                                                                      | 51/401 [00:03<00:27, 12.58it/s]\u001b[A\n",
      " 13%|██████████▋                                                                      | 53/401 [00:04<00:27, 12.71it/s]\u001b[A\n",
      " 14%|███████████                                                                      | 55/401 [00:04<00:26, 13.15it/s]\u001b[A\n",
      " 14%|███████████▌                                                                     | 57/401 [00:04<00:26, 12.92it/s]\u001b[A\n",
      " 15%|███████████▉                                                                     | 59/401 [00:04<00:26, 13.12it/s]\u001b[A\n",
      " 15%|████████████▎                                                                    | 61/401 [00:04<00:25, 13.50it/s]\u001b[A\n",
      " 16%|████████████▋                                                                    | 63/401 [00:04<00:26, 12.97it/s]\u001b[A\n",
      " 16%|█████████████▏                                                                   | 65/401 [00:05<00:26, 12.73it/s]\u001b[A\n",
      " 17%|█████████████▌                                                                   | 67/401 [00:05<00:26, 12.45it/s]\u001b[A\n",
      " 17%|█████████████▉                                                                   | 69/401 [00:05<00:25, 12.77it/s]\u001b[A\n",
      " 18%|██████████████▎                                                                  | 71/401 [00:05<00:25, 12.85it/s]\u001b[A\n",
      " 18%|██████████████▋                                                                  | 73/401 [00:05<00:26, 12.31it/s]\u001b[A\n",
      " 19%|███████████████▏                                                                 | 75/401 [00:05<00:26, 12.51it/s]\u001b[A\n",
      " 19%|███████████████▌                                                                 | 77/401 [00:06<00:27, 11.95it/s]\u001b[A\n",
      " 20%|███████████████▉                                                                 | 79/401 [00:06<00:25, 12.40it/s]\u001b[A\n",
      " 20%|████████████████▎                                                                | 81/401 [00:06<00:24, 12.96it/s]\u001b[A\n",
      " 21%|████████████████▊                                                                | 83/401 [00:06<00:24, 13.14it/s]\u001b[A\n",
      " 21%|█████████████████▏                                                               | 85/401 [00:06<00:25, 12.35it/s]\u001b[A\n",
      " 22%|█████████████████▌                                                               | 87/401 [00:06<00:25, 12.33it/s]\u001b[A\n",
      " 22%|█████████████████▉                                                               | 89/401 [00:06<00:25, 12.17it/s]\u001b[A\n",
      " 23%|██████████████████▍                                                              | 91/401 [00:07<00:25, 12.34it/s]\u001b[A\n",
      " 23%|██████████████████▊                                                              | 93/401 [00:07<00:24, 12.40it/s]\u001b[A\n",
      " 24%|███████████████████▏                                                             | 95/401 [00:07<00:25, 12.22it/s]\u001b[A\n",
      " 24%|███████████████████▌                                                             | 97/401 [00:07<00:24, 12.45it/s]\u001b[A\n",
      " 25%|███████████████████▉                                                             | 99/401 [00:07<00:24, 12.40it/s]\u001b[A\n",
      " 25%|████████████████████▏                                                           | 101/401 [00:07<00:24, 12.22it/s]\u001b[A\n",
      " 26%|████████████████████▌                                                           | 103/401 [00:08<00:24, 12.09it/s]\u001b[A\n",
      " 26%|████████████████████▉                                                           | 105/401 [00:08<00:24, 12.16it/s]\u001b[A\n",
      " 27%|█████████████████████▎                                                          | 107/401 [00:08<00:23, 12.78it/s]\u001b[A\n",
      " 27%|█████████████████████▋                                                          | 109/401 [00:08<00:22, 13.01it/s]\u001b[A\n",
      " 28%|██████████████████████▏                                                         | 111/401 [00:08<00:22, 12.63it/s]\u001b[A\n",
      " 28%|██████████████████████▌                                                         | 113/401 [00:08<00:22, 12.52it/s]\u001b[A\n",
      " 29%|██████████████████████▉                                                         | 115/401 [00:09<00:23, 12.30it/s]\u001b[A\n",
      " 29%|███████████████████████▎                                                        | 117/401 [00:09<00:23, 12.15it/s]\u001b[A\n",
      " 30%|███████████████████████▋                                                        | 119/401 [00:09<00:22, 12.55it/s]\u001b[A\n",
      " 30%|████████████████████████▏                                                       | 121/401 [00:09<00:22, 12.68it/s]\u001b[A\n",
      " 31%|████████████████████████▌                                                       | 123/401 [00:09<00:23, 11.73it/s]\u001b[A\n",
      " 31%|████████████████████████▉                                                       | 125/401 [00:09<00:21, 12.60it/s]\u001b[A\n",
      " 32%|█████████████████████████▎                                                      | 127/401 [00:10<00:22, 12.35it/s]\u001b[A\n",
      " 32%|█████████████████████████▋                                                      | 129/401 [00:10<00:21, 12.70it/s]\u001b[A\n"
     ]
    },
    {
     "name": "stderr",
     "output_type": "stream",
     "text": [
      " 33%|██████████████████████████▏                                                     | 131/401 [00:10<00:22, 12.07it/s]\u001b[A\n",
      " 33%|██████████████████████████▌                                                     | 133/401 [00:10<00:21, 12.34it/s]\u001b[A\n",
      " 34%|██████████████████████████▉                                                     | 135/401 [00:10<00:21, 12.33it/s]\u001b[A\n",
      " 34%|███████████████████████████▎                                                    | 137/401 [00:10<00:22, 11.83it/s]\u001b[A\n",
      " 35%|███████████████████████████▋                                                    | 139/401 [00:11<00:23, 11.21it/s]\u001b[A\n",
      " 35%|████████████████████████████▏                                                   | 141/401 [00:11<00:22, 11.69it/s]\u001b[A\n",
      " 36%|████████████████████████████▌                                                   | 143/401 [00:11<00:21, 12.20it/s]\u001b[A\n",
      " 36%|████████████████████████████▉                                                   | 145/401 [00:11<00:21, 12.08it/s]\u001b[A\n",
      " 37%|█████████████████████████████▎                                                  | 147/401 [00:11<00:20, 12.15it/s]\u001b[A\n",
      " 37%|█████████████████████████████▋                                                  | 149/401 [00:11<00:20, 12.04it/s]\u001b[A\n",
      " 38%|██████████████████████████████                                                  | 151/401 [00:12<00:22, 11.34it/s]\u001b[A\n",
      " 38%|██████████████████████████████▌                                                 | 153/401 [00:12<00:21, 11.80it/s]\u001b[A\n",
      " 39%|██████████████████████████████▉                                                 | 155/401 [00:12<00:20, 11.94it/s]\u001b[A\n",
      " 39%|███████████████████████████████▎                                                | 157/401 [00:12<00:23, 10.60it/s]\u001b[A\n",
      " 40%|███████████████████████████████▋                                                | 159/401 [00:12<00:21, 11.05it/s]\u001b[A\n",
      " 40%|████████████████████████████████                                                | 161/401 [00:12<00:21, 11.42it/s]\u001b[A\n",
      " 41%|████████████████████████████████▌                                               | 163/401 [00:13<00:20, 11.83it/s]\u001b[A\n",
      " 41%|████████████████████████████████▉                                               | 165/401 [00:13<00:19, 11.83it/s]\u001b[A\n",
      " 42%|█████████████████████████████████▎                                              | 167/401 [00:13<00:19, 12.16it/s]\u001b[A\n",
      " 42%|█████████████████████████████████▋                                              | 169/401 [00:13<00:18, 12.56it/s]\u001b[A\n",
      " 43%|██████████████████████████████████                                              | 171/401 [00:13<00:18, 12.33it/s]\u001b[A\n",
      " 43%|██████████████████████████████████▌                                             | 173/401 [00:13<00:20, 11.21it/s]\u001b[A\n",
      " 44%|██████████████████████████████████▉                                             | 175/401 [00:14<00:19, 11.38it/s]\u001b[A\n",
      " 44%|███████████████████████████████████▎                                            | 177/401 [00:14<00:19, 11.64it/s]\u001b[A\n",
      " 45%|███████████████████████████████████▋                                            | 179/401 [00:14<00:18, 12.02it/s]\u001b[A\n",
      " 45%|████████████████████████████████████                                            | 181/401 [00:14<00:18, 11.91it/s]\u001b[A\n",
      " 46%|████████████████████████████████████▌                                           | 183/401 [00:14<00:17, 12.42it/s]\u001b[A\n",
      " 46%|████████████████████████████████████▉                                           | 185/401 [00:14<00:17, 12.23it/s]\u001b[A\n",
      " 47%|█████████████████████████████████████▎                                          | 187/401 [00:15<00:17, 12.25it/s]\u001b[A\n",
      " 47%|█████████████████████████████████████▋                                          | 189/401 [00:15<00:17, 12.12it/s]\u001b[A\n",
      " 48%|██████████████████████████████████████                                          | 191/401 [00:15<00:16, 12.53it/s]\u001b[A\n",
      " 48%|██████████████████████████████████████▌                                         | 193/401 [00:15<00:17, 11.96it/s]\u001b[A\n",
      " 49%|██████████████████████████████████████▉                                         | 195/401 [00:15<00:17, 11.91it/s]\u001b[A\n",
      " 49%|███████████████████████████████████████▎                                        | 197/401 [00:15<00:16, 12.02it/s]\u001b[A\n",
      " 50%|███████████████████████████████████████▋                                        | 199/401 [00:16<00:16, 11.96it/s]\u001b[A\n",
      " 50%|████████████████████████████████████████                                        | 201/401 [00:16<00:17, 11.60it/s]\u001b[A\n",
      " 51%|████████████████████████████████████████▍                                       | 203/401 [00:16<00:19, 10.26it/s]\u001b[A\n",
      " 51%|████████████████████████████████████████▉                                       | 205/401 [00:16<00:17, 10.97it/s]\u001b[A\n",
      " 52%|█████████████████████████████████████████▎                                      | 207/401 [00:16<00:16, 11.51it/s]\u001b[A\n",
      " 52%|█████████████████████████████████████████▋                                      | 209/401 [00:16<00:16, 11.73it/s]\u001b[A\n",
      " 53%|██████████████████████████████████████████                                      | 211/401 [00:17<00:15, 11.93it/s]\u001b[A\n",
      " 53%|██████████████████████████████████████████▍                                     | 213/401 [00:17<00:16, 11.73it/s]\u001b[A\n",
      " 54%|██████████████████████████████████████████▉                                     | 215/401 [00:17<00:15, 11.90it/s]\u001b[A\n",
      " 54%|███████████████████████████████████████████▎                                    | 217/401 [00:17<00:15, 12.21it/s]\u001b[A\n",
      " 55%|███████████████████████████████████████████▋                                    | 219/401 [00:17<00:14, 12.24it/s]\u001b[A\n",
      " 55%|████████████████████████████████████████████                                    | 221/401 [00:17<00:14, 12.46it/s]\u001b[A\n",
      " 56%|████████████████████████████████████████████▍                                   | 223/401 [00:18<00:14, 11.88it/s]\u001b[A\n",
      " 56%|████████████████████████████████████████████▉                                   | 225/401 [00:18<00:14, 12.05it/s]\u001b[A\n",
      " 57%|█████████████████████████████████████████████▎                                  | 227/401 [00:18<00:14, 12.19it/s]\u001b[A\n",
      " 57%|█████████████████████████████████████████████▋                                  | 229/401 [00:18<00:13, 12.36it/s]\u001b[A\n",
      " 58%|██████████████████████████████████████████████                                  | 231/401 [00:18<00:14, 11.85it/s]\u001b[A\n",
      " 58%|██████████████████████████████████████████████▍                                 | 233/401 [00:18<00:14, 11.84it/s]\u001b[A\n",
      " 59%|██████████████████████████████████████████████▉                                 | 235/401 [00:19<00:14, 11.21it/s]\u001b[A\n",
      " 59%|███████████████████████████████████████████████▎                                | 237/401 [00:19<00:14, 11.38it/s]\u001b[A\n",
      " 60%|███████████████████████████████████████████████▋                                | 239/401 [00:19<00:14, 11.21it/s]\u001b[A\n",
      " 60%|████████████████████████████████████████████████                                | 241/401 [00:19<00:13, 11.83it/s]\u001b[A\n",
      " 61%|████████████████████████████████████████████████▍                               | 243/401 [00:19<00:13, 11.83it/s]\u001b[A\n",
      " 61%|████████████████████████████████████████████████▉                               | 245/401 [00:19<00:12, 12.32it/s]\u001b[A\n",
      " 62%|█████████████████████████████████████████████████▎                              | 247/401 [00:20<00:12, 12.52it/s]\u001b[A\n",
      " 62%|█████████████████████████████████████████████████▋                              | 249/401 [00:20<00:12, 12.45it/s]\u001b[A\n",
      " 63%|██████████████████████████████████████████████████                              | 251/401 [00:20<00:12, 11.91it/s]\u001b[A\n",
      " 63%|██████████████████████████████████████████████████▍                             | 253/401 [00:20<00:12, 11.56it/s]\u001b[A\n",
      " 64%|██████████████████████████████████████████████████▊                             | 255/401 [00:20<00:12, 11.33it/s]\u001b[A\n",
      " 64%|███████████████████████████████████████████████████▎                            | 257/401 [00:21<00:13, 10.52it/s]\u001b[A\n",
      " 65%|███████████████████████████████████████████████████▋                            | 259/401 [00:21<00:12, 11.25it/s]\u001b[A\n",
      " 65%|████████████████████████████████████████████████████                            | 261/401 [00:21<00:12, 11.56it/s]\u001b[A\n"
     ]
    },
    {
     "name": "stderr",
     "output_type": "stream",
     "text": [
      " 66%|████████████████████████████████████████████████████▍                           | 263/401 [00:21<00:12, 11.33it/s]\u001b[A\n",
      " 66%|████████████████████████████████████████████████████▊                           | 265/401 [00:21<00:11, 11.44it/s]\u001b[A\n",
      " 67%|█████████████████████████████████████████████████████▎                          | 267/401 [00:21<00:11, 11.72it/s]\u001b[A\n",
      " 67%|█████████████████████████████████████████████████████▋                          | 269/401 [00:22<00:11, 11.75it/s]\u001b[A\n",
      " 68%|██████████████████████████████████████████████████████                          | 271/401 [00:22<00:11, 11.15it/s]\u001b[A\n",
      " 68%|██████████████████████████████████████████████████████▍                         | 273/401 [00:22<00:11, 11.35it/s]\u001b[A\n",
      " 69%|██████████████████████████████████████████████████████▊                         | 275/401 [00:22<00:10, 11.83it/s]\u001b[A\n",
      " 69%|███████████████████████████████████████████████████████▎                        | 277/401 [00:22<00:10, 11.61it/s]\u001b[A\n",
      " 70%|███████████████████████████████████████████████████████▋                        | 279/401 [00:22<00:10, 11.68it/s]\u001b[A\n",
      " 70%|████████████████████████████████████████████████████████                        | 281/401 [00:23<00:10, 11.53it/s]\u001b[A\n",
      " 71%|████████████████████████████████████████████████████████▍                       | 283/401 [00:23<00:10, 11.62it/s]\u001b[A\n",
      " 71%|████████████████████████████████████████████████████████▊                       | 285/401 [00:23<00:09, 12.01it/s]\u001b[A\n",
      " 72%|█████████████████████████████████████████████████████████▎                      | 287/401 [00:23<00:09, 12.09it/s]\u001b[A\n",
      " 72%|█████████████████████████████████████████████████████████▋                      | 289/401 [00:23<00:10, 10.37it/s]\u001b[A\n",
      " 73%|██████████████████████████████████████████████████████████                      | 291/401 [00:24<00:11,  9.74it/s]\u001b[A\n",
      " 73%|██████████████████████████████████████████████████████████▍                     | 293/401 [00:24<00:10, 10.30it/s]\u001b[A\n",
      " 74%|██████████████████████████████████████████████████████████▊                     | 295/401 [00:24<00:10, 10.05it/s]\u001b[A\n",
      " 74%|███████████████████████████████████████████████████████████▎                    | 297/401 [00:24<00:09, 10.49it/s]\u001b[A\n",
      " 75%|███████████████████████████████████████████████████████████▋                    | 299/401 [00:24<00:09, 10.62it/s]\u001b[A\n",
      " 75%|████████████████████████████████████████████████████████████                    | 301/401 [00:24<00:08, 11.25it/s]\u001b[A\n",
      " 76%|████████████████████████████████████████████████████████████▍                   | 303/401 [00:25<00:08, 11.54it/s]\u001b[A\n",
      " 76%|████████████████████████████████████████████████████████████▊                   | 305/401 [00:25<00:08, 11.95it/s]\u001b[A\n",
      " 77%|█████████████████████████████████████████████████████████████▏                  | 307/401 [00:25<00:08, 11.58it/s]\u001b[A\n",
      " 77%|█████████████████████████████████████████████████████████████▋                  | 309/401 [00:25<00:08, 11.47it/s]\u001b[A\n",
      " 78%|██████████████████████████████████████████████████████████████                  | 311/401 [00:25<00:07, 11.57it/s]\u001b[A\n",
      " 78%|██████████████████████████████████████████████████████████████▍                 | 313/401 [00:26<00:07, 11.04it/s]\u001b[A\n",
      " 79%|██████████████████████████████████████████████████████████████▊                 | 315/401 [00:26<00:08, 10.69it/s]\u001b[A\n",
      " 79%|███████████████████████████████████████████████████████████████▏                | 317/401 [00:26<00:07, 11.30it/s]\u001b[A\n",
      " 80%|███████████████████████████████████████████████████████████████▋                | 319/401 [00:26<00:07, 11.58it/s]\u001b[A\n",
      " 80%|████████████████████████████████████████████████████████████████                | 321/401 [00:26<00:07, 11.05it/s]\u001b[A\n",
      " 81%|████████████████████████████████████████████████████████████████▍               | 323/401 [00:26<00:06, 11.33it/s]\u001b[A\n",
      " 81%|████████████████████████████████████████████████████████████████▊               | 325/401 [00:27<00:06, 11.40it/s]\u001b[A\n",
      " 82%|█████████████████████████████████████████████████████████████████▏              | 327/401 [00:27<00:06, 11.05it/s]\u001b[A\n",
      " 82%|█████████████████████████████████████████████████████████████████▋              | 329/401 [00:27<00:06, 11.58it/s]\u001b[A\n",
      " 83%|██████████████████████████████████████████████████████████████████              | 331/401 [00:27<00:05, 11.97it/s]\u001b[A\n",
      " 83%|██████████████████████████████████████████████████████████████████▍             | 333/401 [00:27<00:05, 12.07it/s]\u001b[A\n",
      " 84%|██████████████████████████████████████████████████████████████████▊             | 335/401 [00:27<00:05, 11.35it/s]\u001b[A\n",
      " 84%|███████████████████████████████████████████████████████████████████▏            | 337/401 [00:28<00:05, 11.80it/s]\u001b[A\n",
      " 85%|███████████████████████████████████████████████████████████████████▋            | 339/401 [00:28<00:05, 11.49it/s]\u001b[A\n",
      " 85%|████████████████████████████████████████████████████████████████████            | 341/401 [00:28<00:05, 11.40it/s]\u001b[A\n",
      " 86%|████████████████████████████████████████████████████████████████████▍           | 343/401 [00:28<00:04, 11.85it/s]\u001b[A\n",
      " 86%|████████████████████████████████████████████████████████████████████▊           | 345/401 [00:28<00:04, 11.96it/s]\u001b[A\n",
      " 87%|█████████████████████████████████████████████████████████████████████▏          | 347/401 [00:28<00:04, 11.94it/s]\u001b[A\n",
      " 87%|█████████████████████████████████████████████████████████████████████▋          | 349/401 [00:29<00:04, 11.90it/s]\u001b[A\n",
      " 88%|██████████████████████████████████████████████████████████████████████          | 351/401 [00:29<00:04, 12.02it/s]\u001b[A\n",
      " 88%|██████████████████████████████████████████████████████████████████████▍         | 353/401 [00:29<00:03, 12.31it/s]\u001b[A\n",
      " 89%|██████████████████████████████████████████████████████████████████████▊         | 355/401 [00:29<00:03, 12.51it/s]\u001b[A\n",
      " 89%|███████████████████████████████████████████████████████████████████████▏        | 357/401 [00:29<00:03, 11.92it/s]\u001b[A\n",
      " 90%|███████████████████████████████████████████████████████████████████████▌        | 359/401 [00:29<00:03, 11.61it/s]\u001b[A\n",
      " 90%|████████████████████████████████████████████████████████████████████████        | 361/401 [00:30<00:03, 11.58it/s]\u001b[A\n",
      " 91%|████████████████████████████████████████████████████████████████████████▍       | 363/401 [00:30<00:03, 11.87it/s]\u001b[A\n",
      " 91%|████████████████████████████████████████████████████████████████████████▊       | 365/401 [00:30<00:02, 12.35it/s]\u001b[A\n",
      " 92%|█████████████████████████████████████████████████████████████████████████▏      | 367/401 [00:30<00:02, 12.18it/s]\u001b[A\n",
      " 92%|█████████████████████████████████████████████████████████████████████████▌      | 369/401 [00:30<00:02, 12.22it/s]\u001b[A\n",
      " 93%|██████████████████████████████████████████████████████████████████████████      | 371/401 [00:30<00:02, 12.09it/s]\u001b[A\n",
      " 93%|██████████████████████████████████████████████████████████████████████████▍     | 373/401 [00:31<00:02, 12.01it/s]\u001b[A\n",
      " 94%|██████████████████████████████████████████████████████████████████████████▊     | 375/401 [00:31<00:02, 11.76it/s]\u001b[A\n",
      " 94%|███████████████████████████████████████████████████████████████████████████▏    | 377/401 [00:31<00:02, 11.77it/s]\u001b[A\n",
      " 95%|███████████████████████████████████████████████████████████████████████████▌    | 379/401 [00:31<00:01, 11.78it/s]\u001b[A\n",
      " 95%|████████████████████████████████████████████████████████████████████████████    | 381/401 [00:31<00:01, 11.48it/s]\u001b[A\n",
      " 96%|████████████████████████████████████████████████████████████████████████████▍   | 383/401 [00:32<00:01, 11.27it/s]\u001b[A\n",
      " 96%|████████████████████████████████████████████████████████████████████████████▊   | 385/401 [00:32<00:01, 10.57it/s]\u001b[A\n",
      " 97%|█████████████████████████████████████████████████████████████████████████████▏  | 387/401 [00:32<00:01, 10.76it/s]\u001b[A\n",
      " 97%|█████████████████████████████████████████████████████████████████████████████▌  | 389/401 [00:32<00:01, 11.25it/s]\u001b[A\n",
      " 98%|██████████████████████████████████████████████████████████████████████████████  | 391/401 [00:32<00:00, 11.52it/s]\u001b[A\n",
      " 98%|██████████████████████████████████████████████████████████████████████████████▍ | 393/401 [00:32<00:00, 11.01it/s]\u001b[A\n"
     ]
    },
    {
     "name": "stderr",
     "output_type": "stream",
     "text": [
      " 99%|██████████████████████████████████████████████████████████████████████████████▊ | 395/401 [00:33<00:00, 11.36it/s]\u001b[A\n",
      " 99%|███████████████████████████████████████████████████████████████████████████████▏| 397/401 [00:33<00:00, 11.20it/s]\u001b[A\n",
      "100%|███████████████████████████████████████████████████████████████████████████████▌| 399/401 [00:33<00:00, 11.37it/s]\u001b[A\n",
      "100%|████████████████████████████████████████████████████████████████████████████████| 401/401 [00:33<00:00, 11.93it/s]\u001b[A\n"
     ]
    }
   ],
   "source": [
    "# Nodes must be a GeoDataFrame\n",
    "sm.nodes = gpd.GeoDataFrame(sm.nodes, crs=sm.epsg)\n",
    "shapely.speedups.enable()\n",
    "sm.nodes['FID'] = np.nan\n",
    "for _, zone in tqdm(sm.zones.iterrows(), total=sm.zones.shape[0]):\n",
    "    sm.nodes.loc[sm.nodes['geometry'].within(zone['geometry']), 'FID'] = zone['FID']"
   ]
  },
  {
   "cell_type": "code",
   "execution_count": 26,
   "metadata": {},
   "outputs": [
    {
     "name": "stderr",
     "output_type": "stream",
     "text": [
      "\n",
      "  0%|                                                                                          | 0/401 [00:00<?, ?it/s]\u001b[A\n",
      "  0%|▏                                                                                 | 1/401 [00:03<26:06,  3.92s/it]\u001b[A\n",
      "  0%|▍                                                                                 | 2/401 [00:06<22:53,  3.44s/it]\u001b[A\n",
      "  1%|▌                                                                                 | 3/401 [00:08<20:35,  3.11s/it]\u001b[A\n",
      "  1%|▊                                                                                 | 4/401 [00:10<18:48,  2.84s/it]\u001b[A\n",
      "  1%|█                                                                                 | 5/401 [00:13<17:35,  2.66s/it]\u001b[A\n",
      "  1%|█▏                                                                                | 6/401 [00:15<17:32,  2.66s/it]\u001b[A\n",
      "  2%|█▍                                                                                | 7/401 [00:18<17:04,  2.60s/it]\u001b[A\n",
      "  2%|█▋                                                                                | 8/401 [00:20<16:24,  2.50s/it]\u001b[A\n",
      "  2%|█▊                                                                                | 9/401 [00:22<15:50,  2.43s/it]\u001b[A\n",
      "  2%|██                                                                               | 10/401 [00:26<17:46,  2.73s/it]\u001b[A\n",
      "  3%|██▏                                                                              | 11/401 [00:28<17:08,  2.64s/it]\u001b[A\n",
      "  3%|██▍                                                                              | 12/401 [00:32<19:03,  2.94s/it]\u001b[A\n",
      "  3%|██▋                                                                              | 13/401 [00:34<17:52,  2.76s/it]\u001b[A\n",
      "  3%|██▊                                                                              | 14/401 [00:37<17:21,  2.69s/it]\u001b[A\n",
      "  4%|███                                                                              | 15/401 [00:39<16:44,  2.60s/it]\u001b[A\n",
      "  4%|███▏                                                                             | 16/401 [00:41<16:12,  2.53s/it]\u001b[A\n",
      "  4%|███▍                                                                             | 17/401 [00:44<16:14,  2.54s/it]\u001b[A\n",
      "  4%|███▋                                                                             | 18/401 [00:47<17:00,  2.67s/it]\u001b[A\n",
      "  5%|███▊                                                                             | 19/401 [00:49<16:11,  2.54s/it]\u001b[A\n",
      "  5%|████                                                                             | 20/401 [00:52<15:53,  2.50s/it]\u001b[A\n",
      "  5%|████▏                                                                            | 21/401 [00:54<15:58,  2.52s/it]\u001b[A\n",
      "  5%|████▍                                                                            | 22/401 [00:57<16:47,  2.66s/it]\u001b[A\n",
      "  6%|████▋                                                                            | 23/401 [01:00<16:21,  2.60s/it]\u001b[A\n",
      "  6%|████▊                                                                            | 24/401 [01:03<18:21,  2.92s/it]\u001b[A\n",
      "  6%|█████                                                                            | 25/401 [01:06<18:56,  3.02s/it]\u001b[A\n",
      "  6%|█████▎                                                                           | 26/401 [01:13<26:03,  4.17s/it]\u001b[A\n",
      "  7%|█████▍                                                                           | 27/401 [01:17<25:34,  4.10s/it]\u001b[A\n",
      "  7%|█████▋                                                                           | 28/401 [01:21<25:19,  4.07s/it]\u001b[A\n",
      "  7%|█████▊                                                                           | 29/401 [01:25<25:05,  4.05s/it]\u001b[A\n",
      "  7%|██████                                                                           | 30/401 [01:30<25:51,  4.18s/it]\u001b[A\n",
      "  8%|██████▎                                                                          | 31/401 [01:33<23:14,  3.77s/it]\u001b[A\n",
      "  8%|██████▍                                                                          | 32/401 [01:36<23:10,  3.77s/it]\u001b[A\n",
      "  8%|██████▋                                                                          | 33/401 [01:39<21:56,  3.58s/it]\u001b[A\n",
      "  8%|██████▊                                                                          | 34/401 [01:43<21:13,  3.47s/it]\u001b[A\n",
      "  9%|███████                                                                          | 35/401 [01:45<19:41,  3.23s/it]\u001b[A\n",
      "  9%|███████▎                                                                         | 36/401 [01:48<18:55,  3.11s/it]\u001b[A\n",
      "  9%|███████▍                                                                         | 37/401 [01:51<17:48,  2.93s/it]\u001b[A\n",
      "  9%|███████▋                                                                         | 38/401 [01:53<17:06,  2.83s/it]\u001b[A\n",
      " 10%|███████▉                                                                         | 39/401 [01:56<16:26,  2.73s/it]\u001b[A\n",
      " 10%|████████                                                                         | 40/401 [01:59<17:00,  2.83s/it]\u001b[A\n",
      " 10%|████████▎                                                                        | 41/401 [02:01<16:31,  2.75s/it]\u001b[A\n",
      " 10%|████████▍                                                                        | 42/401 [02:04<16:10,  2.70s/it]\u001b[A\n",
      " 11%|████████▋                                                                        | 43/401 [02:07<16:19,  2.74s/it]\u001b[A\n",
      " 11%|████████▉                                                                        | 44/401 [02:10<17:00,  2.86s/it]\u001b[A\n",
      " 11%|█████████                                                                        | 45/401 [02:13<16:50,  2.84s/it]\u001b[A\n",
      " 11%|█████████▎                                                                       | 46/401 [02:16<16:45,  2.83s/it]\u001b[A\n",
      " 12%|█████████▍                                                                       | 47/401 [02:18<16:19,  2.77s/it]\u001b[A\n",
      " 12%|█████████▋                                                                       | 48/401 [02:21<15:44,  2.67s/it]\u001b[A\n",
      " 12%|█████████▉                                                                       | 49/401 [02:23<16:03,  2.74s/it]\u001b[A\n",
      " 12%|██████████                                                                       | 50/401 [02:26<16:25,  2.81s/it]\u001b[A\n",
      " 13%|██████████▎                                                                      | 51/401 [02:30<17:34,  3.01s/it]\u001b[A\n",
      " 13%|██████████▌                                                                      | 52/401 [02:33<17:22,  2.99s/it]\u001b[A\n",
      " 13%|██████████▋                                                                      | 53/401 [02:35<16:39,  2.87s/it]\u001b[A\n",
      " 13%|██████████▉                                                                      | 54/401 [02:38<15:46,  2.73s/it]\u001b[A\n",
      " 14%|███████████                                                                      | 55/401 [02:41<15:35,  2.70s/it]\u001b[A\n",
      " 14%|███████████▎                                                                     | 56/401 [02:44<16:43,  2.91s/it]\u001b[A\n",
      " 14%|███████████▌                                                                     | 57/401 [02:47<16:50,  2.94s/it]\u001b[A\n",
      " 14%|███████████▋                                                                     | 58/401 [02:50<16:25,  2.87s/it]\u001b[A\n",
      " 15%|███████████▉                                                                     | 59/401 [02:52<16:00,  2.81s/it]\u001b[A\n",
      " 15%|████████████                                                                     | 60/401 [02:55<15:47,  2.78s/it]\u001b[A\n",
      " 15%|████████████▎                                                                    | 61/401 [02:58<15:40,  2.77s/it]\u001b[A\n",
      " 15%|████████████▌                                                                    | 62/401 [03:00<15:17,  2.71s/it]\u001b[A\n",
      " 16%|████████████▋                                                                    | 63/401 [03:03<15:17,  2.71s/it]\u001b[A\n",
      " 16%|████████████▉                                                                    | 64/401 [03:06<14:54,  2.66s/it]\u001b[A\n",
      " 16%|█████████████▏                                                                   | 65/401 [03:09<15:23,  2.75s/it]\u001b[A\n"
     ]
    },
    {
     "name": "stderr",
     "output_type": "stream",
     "text": [
      " 16%|█████████████▎                                                                   | 66/401 [03:11<15:33,  2.79s/it]\u001b[A\n",
      " 17%|█████████████▌                                                                   | 67/401 [03:15<16:16,  2.92s/it]\u001b[A\n",
      " 17%|█████████████▋                                                                   | 68/401 [03:17<16:04,  2.90s/it]\u001b[A\n",
      " 17%|█████████████▉                                                                   | 69/401 [03:20<15:16,  2.76s/it]\u001b[A\n",
      " 17%|██████████████▏                                                                  | 70/401 [03:23<15:36,  2.83s/it]\u001b[A\n",
      " 18%|██████████████▎                                                                  | 71/401 [03:26<15:16,  2.78s/it]\u001b[A\n",
      " 18%|██████████████▌                                                                  | 72/401 [03:29<15:52,  2.89s/it]\u001b[A\n",
      " 18%|██████████████▋                                                                  | 73/401 [03:32<15:39,  2.86s/it]\u001b[A\n",
      " 18%|██████████████▉                                                                  | 74/401 [03:35<15:52,  2.91s/it]\u001b[A\n",
      " 19%|███████████████▏                                                                 | 75/401 [03:37<15:21,  2.83s/it]\u001b[A\n",
      " 19%|███████████████▎                                                                 | 76/401 [03:40<14:52,  2.75s/it]\u001b[A\n",
      " 19%|███████████████▌                                                                 | 77/401 [03:42<14:21,  2.66s/it]\u001b[A\n",
      " 19%|███████████████▊                                                                 | 78/401 [03:45<14:03,  2.61s/it]\u001b[A\n",
      " 20%|███████████████▉                                                                 | 79/401 [03:47<13:48,  2.57s/it]\u001b[A\n",
      " 20%|████████████████▏                                                                | 80/401 [03:50<13:55,  2.60s/it]\u001b[A\n",
      " 20%|████████████████▎                                                                | 81/401 [03:52<13:35,  2.55s/it]\u001b[A\n",
      " 20%|████████████████▌                                                                | 82/401 [03:55<13:08,  2.47s/it]\u001b[A\n",
      " 21%|████████████████▊                                                                | 83/401 [03:57<13:07,  2.48s/it]\u001b[A\n",
      " 21%|████████████████▉                                                                | 84/401 [04:00<13:35,  2.57s/it]\u001b[A\n",
      " 21%|█████████████████▏                                                               | 85/401 [04:02<13:38,  2.59s/it]\u001b[A\n",
      " 21%|█████████████████▎                                                               | 86/401 [04:05<13:21,  2.54s/it]\u001b[A\n",
      " 22%|█████████████████▌                                                               | 87/401 [04:07<13:21,  2.55s/it]\u001b[A\n",
      " 22%|█████████████████▊                                                               | 88/401 [04:10<13:46,  2.64s/it]\u001b[A\n",
      " 22%|█████████████████▉                                                               | 89/401 [04:13<13:37,  2.62s/it]\u001b[A\n",
      " 22%|██████████████████▏                                                              | 90/401 [04:16<13:35,  2.62s/it]\u001b[A\n",
      " 23%|██████████████████▍                                                              | 91/401 [04:18<13:07,  2.54s/it]\u001b[A\n",
      " 23%|██████████████████▌                                                              | 92/401 [04:20<12:58,  2.52s/it]\u001b[A\n",
      " 23%|██████████████████▊                                                              | 93/401 [04:23<12:59,  2.53s/it]\u001b[A\n",
      " 23%|██████████████████▉                                                              | 94/401 [04:25<12:46,  2.50s/it]\u001b[A\n",
      " 24%|███████████████████▏                                                             | 95/401 [04:28<12:49,  2.51s/it]\u001b[A\n",
      " 24%|███████████████████▍                                                             | 96/401 [04:30<12:25,  2.45s/it]\u001b[A\n",
      " 24%|███████████████████▌                                                             | 97/401 [04:33<12:17,  2.43s/it]\u001b[A\n",
      " 24%|███████████████████▊                                                             | 98/401 [04:35<12:13,  2.42s/it]\u001b[A\n",
      " 25%|███████████████████▉                                                             | 99/401 [04:37<12:22,  2.46s/it]\u001b[A\n",
      " 25%|███████████████████▉                                                            | 100/401 [04:40<12:24,  2.47s/it]\u001b[A\n",
      " 25%|████████████████████▏                                                           | 101/401 [04:44<14:07,  2.82s/it]\u001b[A\n",
      " 25%|████████████████████▎                                                           | 102/401 [04:46<13:52,  2.78s/it]\u001b[A\n",
      " 26%|████████████████████▌                                                           | 103/401 [04:49<13:24,  2.70s/it]\u001b[A\n",
      " 26%|████████████████████▋                                                           | 104/401 [04:51<13:02,  2.64s/it]\u001b[A\n",
      " 26%|████████████████████▉                                                           | 105/401 [04:54<12:43,  2.58s/it]\u001b[A\n",
      " 26%|█████████████████████▏                                                          | 106/401 [04:57<13:25,  2.73s/it]\u001b[A\n",
      " 27%|█████████████████████▎                                                          | 107/401 [05:00<13:34,  2.77s/it]\u001b[A\n",
      " 27%|█████████████████████▌                                                          | 108/401 [05:03<13:32,  2.77s/it]\u001b[A\n",
      " 27%|█████████████████████▋                                                          | 109/401 [05:05<13:12,  2.72s/it]\u001b[A\n",
      " 27%|█████████████████████▉                                                          | 110/401 [05:08<13:10,  2.72s/it]\u001b[A\n",
      " 28%|██████████████████████▏                                                         | 111/401 [05:10<12:58,  2.68s/it]\u001b[A\n",
      " 28%|██████████████████████▎                                                         | 112/401 [05:14<13:39,  2.83s/it]\u001b[A\n",
      " 28%|██████████████████████▌                                                         | 113/401 [05:16<13:18,  2.77s/it]\u001b[A\n",
      " 28%|██████████████████████▋                                                         | 114/401 [05:19<13:07,  2.74s/it]\u001b[A\n",
      " 29%|██████████████████████▉                                                         | 115/401 [05:22<12:53,  2.70s/it]\u001b[A\n",
      " 29%|███████████████████████▏                                                        | 116/401 [05:24<13:10,  2.77s/it]\u001b[A\n",
      " 29%|███████████████████████▎                                                        | 117/401 [05:27<13:12,  2.79s/it]\u001b[A\n",
      " 29%|███████████████████████▌                                                        | 118/401 [05:30<13:00,  2.76s/it]\u001b[A\n",
      " 30%|███████████████████████▋                                                        | 119/401 [05:33<12:47,  2.72s/it]\u001b[A\n",
      " 30%|███████████████████████▉                                                        | 120/401 [05:36<13:04,  2.79s/it]\u001b[A\n",
      " 30%|████████████████████████▏                                                       | 121/401 [05:38<13:01,  2.79s/it]\u001b[A\n",
      " 30%|████████████████████████▎                                                       | 122/401 [05:42<14:11,  3.05s/it]\u001b[A\n",
      " 31%|████████████████████████▌                                                       | 123/401 [05:45<14:12,  3.07s/it]\u001b[A\n",
      " 31%|████████████████████████▋                                                       | 124/401 [05:48<13:22,  2.90s/it]\u001b[A\n",
      " 31%|████████████████████████▉                                                       | 125/401 [05:50<13:02,  2.83s/it]\u001b[A\n",
      " 31%|█████████████████████████▏                                                      | 126/401 [05:53<13:07,  2.86s/it]\u001b[A\n",
      " 32%|█████████████████████████▎                                                      | 127/401 [05:56<12:47,  2.80s/it]\u001b[A\n",
      " 32%|█████████████████████████▌                                                      | 128/401 [05:58<12:16,  2.70s/it]\u001b[A\n",
      " 32%|█████████████████████████▋                                                      | 129/401 [06:01<12:01,  2.65s/it]\u001b[A\n",
      " 32%|█████████████████████████▉                                                      | 130/401 [06:03<11:49,  2.62s/it]\u001b[A\n",
      " 33%|██████████████████████████▏                                                     | 131/401 [06:06<12:23,  2.75s/it]\u001b[A\n"
     ]
    },
    {
     "name": "stderr",
     "output_type": "stream",
     "text": [
      " 33%|██████████████████████████▎                                                     | 132/401 [06:09<12:32,  2.80s/it]\u001b[A\n",
      " 33%|██████████████████████████▌                                                     | 133/401 [06:12<12:21,  2.77s/it]\u001b[A\n",
      " 33%|██████████████████████████▋                                                     | 134/401 [06:15<12:37,  2.84s/it]\u001b[A\n",
      " 34%|██████████████████████████▉                                                     | 135/401 [06:18<12:08,  2.74s/it]\u001b[A\n",
      " 34%|███████████████████████████▏                                                    | 136/401 [06:21<12:58,  2.94s/it]\u001b[A\n",
      " 34%|███████████████████████████▎                                                    | 137/401 [06:24<13:02,  2.96s/it]\u001b[A\n",
      " 34%|███████████████████████████▌                                                    | 138/401 [06:28<13:48,  3.15s/it]\u001b[A\n",
      " 35%|███████████████████████████▋                                                    | 139/401 [06:30<12:52,  2.95s/it]\u001b[A\n",
      " 35%|███████████████████████████▉                                                    | 140/401 [06:33<12:31,  2.88s/it]\u001b[A\n",
      " 35%|████████████████████████████▏                                                   | 141/401 [06:36<12:19,  2.84s/it]\u001b[A\n",
      " 35%|████████████████████████████▎                                                   | 142/401 [06:38<11:48,  2.73s/it]\u001b[A\n",
      " 36%|████████████████████████████▌                                                   | 143/401 [06:41<11:28,  2.67s/it]\u001b[A\n",
      " 36%|████████████████████████████▋                                                   | 144/401 [06:43<11:24,  2.66s/it]\u001b[A\n",
      " 36%|████████████████████████████▉                                                   | 145/401 [06:46<11:19,  2.65s/it]\u001b[A\n",
      " 36%|█████████████████████████████▏                                                  | 146/401 [06:49<11:57,  2.81s/it]\u001b[A\n",
      " 37%|█████████████████████████████▎                                                  | 147/401 [06:52<11:43,  2.77s/it]\u001b[A\n",
      " 37%|█████████████████████████████▌                                                  | 148/401 [06:55<12:16,  2.91s/it]\u001b[A\n",
      " 37%|█████████████████████████████▋                                                  | 149/401 [06:58<11:58,  2.85s/it]\u001b[A\n",
      " 37%|█████████████████████████████▉                                                  | 150/401 [07:00<11:43,  2.80s/it]\u001b[A\n",
      " 38%|██████████████████████████████                                                  | 151/401 [07:04<13:06,  3.15s/it]\u001b[A\n",
      " 38%|██████████████████████████████▎                                                 | 152/401 [07:07<12:36,  3.04s/it]\u001b[A\n",
      " 38%|██████████████████████████████▌                                                 | 153/401 [07:10<12:59,  3.14s/it]\u001b[A\n",
      " 38%|██████████████████████████████▋                                                 | 154/401 [07:13<12:19,  2.99s/it]\u001b[A\n",
      " 39%|██████████████████████████████▉                                                 | 155/401 [07:16<11:50,  2.89s/it]\u001b[A\n",
      " 39%|███████████████████████████████                                                 | 156/401 [07:19<12:09,  2.98s/it]\u001b[A\n",
      " 39%|███████████████████████████████▎                                                | 157/401 [07:23<12:52,  3.16s/it]\u001b[A\n",
      " 39%|███████████████████████████████▌                                                | 158/401 [07:25<11:53,  2.94s/it]\u001b[A\n",
      " 40%|███████████████████████████████▋                                                | 159/401 [07:27<11:07,  2.76s/it]\u001b[A\n",
      " 40%|███████████████████████████████▉                                                | 160/401 [07:30<10:31,  2.62s/it]\u001b[A\n",
      " 40%|████████████████████████████████                                                | 161/401 [07:32<10:49,  2.71s/it]\u001b[A\n",
      " 40%|████████████████████████████████▎                                               | 162/401 [07:35<10:19,  2.59s/it]\u001b[A\n",
      " 41%|████████████████████████████████▌                                               | 163/401 [07:37<10:04,  2.54s/it]\u001b[A\n",
      " 41%|████████████████████████████████▋                                               | 164/401 [07:40<10:47,  2.73s/it]\u001b[A\n",
      " 41%|████████████████████████████████▉                                               | 165/401 [07:43<10:11,  2.59s/it]\u001b[A\n",
      " 41%|█████████████████████████████████                                               | 166/401 [07:45<10:11,  2.60s/it]\u001b[A\n",
      " 42%|█████████████████████████████████▎                                              | 167/401 [07:47<09:35,  2.46s/it]\u001b[A\n",
      " 42%|█████████████████████████████████▌                                              | 168/401 [07:50<09:39,  2.49s/it]\u001b[A\n",
      " 42%|█████████████████████████████████▋                                              | 169/401 [07:52<09:23,  2.43s/it]\u001b[A\n",
      " 42%|█████████████████████████████████▉                                              | 170/401 [07:55<09:21,  2.43s/it]\u001b[A\n",
      " 43%|██████████████████████████████████                                              | 171/401 [07:57<08:58,  2.34s/it]\u001b[A\n",
      " 43%|██████████████████████████████████▎                                             | 172/401 [07:59<09:11,  2.41s/it]\u001b[A\n",
      " 43%|██████████████████████████████████▌                                             | 173/401 [08:03<10:27,  2.75s/it]\u001b[A\n",
      " 43%|██████████████████████████████████▋                                             | 174/401 [08:05<09:45,  2.58s/it]\u001b[A\n",
      " 44%|██████████████████████████████████▉                                             | 175/401 [08:08<09:40,  2.57s/it]\u001b[A\n",
      " 44%|███████████████████████████████████                                             | 176/401 [08:10<09:40,  2.58s/it]\u001b[A\n",
      " 44%|███████████████████████████████████▎                                            | 177/401 [08:12<09:06,  2.44s/it]\u001b[A\n",
      " 44%|███████████████████████████████████▌                                            | 178/401 [08:15<08:41,  2.34s/it]\u001b[A\n",
      " 45%|███████████████████████████████████▋                                            | 179/401 [08:17<08:18,  2.25s/it]\u001b[A\n",
      " 45%|███████████████████████████████████▉                                            | 180/401 [08:19<08:12,  2.23s/it]\u001b[A\n",
      " 45%|████████████████████████████████████                                            | 181/401 [08:21<08:05,  2.21s/it]\u001b[A\n",
      " 45%|████████████████████████████████████▎                                           | 182/401 [08:23<08:02,  2.21s/it]\u001b[A\n",
      " 46%|████████████████████████████████████▌                                           | 183/401 [08:25<08:00,  2.21s/it]\u001b[A\n",
      " 46%|████████████████████████████████████▋                                           | 184/401 [08:28<08:05,  2.24s/it]\u001b[A\n",
      " 46%|████████████████████████████████████▉                                           | 185/401 [08:30<08:02,  2.23s/it]\u001b[A\n",
      " 46%|█████████████████████████████████████                                           | 186/401 [08:32<08:00,  2.23s/it]\u001b[A\n",
      " 47%|█████████████████████████████████████▎                                          | 187/401 [08:34<07:59,  2.24s/it]\u001b[A\n",
      " 47%|█████████████████████████████████████▌                                          | 188/401 [08:37<08:06,  2.29s/it]\u001b[A\n",
      " 47%|█████████████████████████████████████▋                                          | 189/401 [08:39<07:58,  2.26s/it]\u001b[A\n",
      " 47%|█████████████████████████████████████▉                                          | 190/401 [08:41<07:43,  2.20s/it]\u001b[A\n",
      " 48%|██████████████████████████████████████                                          | 191/401 [08:43<07:31,  2.15s/it]\u001b[A\n",
      " 48%|██████████████████████████████████████▎                                         | 192/401 [08:45<07:25,  2.13s/it]\u001b[A\n",
      " 48%|██████████████████████████████████████▌                                         | 193/401 [08:47<07:32,  2.18s/it]\u001b[A\n",
      " 48%|██████████████████████████████████████▋                                         | 194/401 [08:50<07:53,  2.29s/it]\u001b[A\n",
      " 49%|██████████████████████████████████████▉                                         | 195/401 [08:52<07:48,  2.27s/it]\u001b[A\n",
      " 49%|███████████████████████████████████████                                         | 196/401 [08:54<07:48,  2.29s/it]\u001b[A\n",
      " 49%|███████████████████████████████████████▎                                        | 197/401 [08:57<07:50,  2.31s/it]\u001b[A\n"
     ]
    },
    {
     "name": "stderr",
     "output_type": "stream",
     "text": [
      " 49%|███████████████████████████████████████▌                                        | 198/401 [08:59<08:09,  2.41s/it]\u001b[A\n",
      " 50%|███████████████████████████████████████▋                                        | 199/401 [09:03<08:50,  2.62s/it]\u001b[A\n",
      " 50%|███████████████████████████████████████▉                                        | 200/401 [09:05<08:41,  2.60s/it]\u001b[A\n",
      " 50%|████████████████████████████████████████                                        | 201/401 [09:07<08:22,  2.51s/it]\u001b[A\n",
      " 50%|████████████████████████████████████████▎                                       | 202/401 [09:10<08:12,  2.48s/it]\u001b[A\n",
      " 51%|████████████████████████████████████████▍                                       | 203/401 [09:12<07:55,  2.40s/it]\u001b[A\n",
      " 51%|████████████████████████████████████████▋                                       | 204/401 [09:15<07:55,  2.41s/it]\u001b[A\n",
      " 51%|████████████████████████████████████████▉                                       | 205/401 [09:17<08:09,  2.50s/it]\u001b[A\n",
      " 51%|█████████████████████████████████████████                                       | 206/401 [09:19<07:44,  2.38s/it]\u001b[A\n",
      " 52%|█████████████████████████████████████████▎                                      | 207/401 [09:21<07:25,  2.30s/it]\u001b[A\n",
      " 52%|█████████████████████████████████████████▍                                      | 208/401 [09:24<07:13,  2.24s/it]\u001b[A\n",
      " 52%|█████████████████████████████████████████▋                                      | 209/401 [09:26<07:00,  2.19s/it]\u001b[A\n",
      " 52%|█████████████████████████████████████████▉                                      | 210/401 [09:28<06:50,  2.15s/it]\u001b[A\n",
      " 53%|██████████████████████████████████████████                                      | 211/401 [09:30<07:00,  2.21s/it]\u001b[A\n",
      " 53%|██████████████████████████████████████████▎                                     | 212/401 [09:32<07:02,  2.24s/it]\u001b[A\n",
      " 53%|██████████████████████████████████████████▍                                     | 213/401 [09:35<07:09,  2.29s/it]\u001b[A\n",
      " 53%|██████████████████████████████████████████▋                                     | 214/401 [09:37<06:51,  2.20s/it]\u001b[A\n",
      " 54%|██████████████████████████████████████████▉                                     | 215/401 [09:39<06:39,  2.15s/it]\u001b[A\n",
      " 54%|███████████████████████████████████████████                                     | 216/401 [09:41<06:32,  2.12s/it]\u001b[A\n",
      " 54%|███████████████████████████████████████████▎                                    | 217/401 [09:43<06:24,  2.09s/it]\u001b[A\n",
      " 54%|███████████████████████████████████████████▍                                    | 218/401 [09:45<06:12,  2.04s/it]\u001b[A\n",
      " 55%|███████████████████████████████████████████▋                                    | 219/401 [09:47<06:13,  2.05s/it]\u001b[A\n",
      " 55%|███████████████████████████████████████████▉                                    | 220/401 [09:49<06:14,  2.07s/it]\u001b[A\n",
      " 55%|████████████████████████████████████████████                                    | 221/401 [09:51<06:12,  2.07s/it]\u001b[A\n",
      " 55%|████████████████████████████████████████████▎                                   | 222/401 [09:54<06:38,  2.23s/it]\u001b[A\n",
      " 56%|████████████████████████████████████████████▍                                   | 223/401 [09:56<06:49,  2.30s/it]\u001b[A\n",
      " 56%|████████████████████████████████████████████▋                                   | 224/401 [09:58<06:37,  2.25s/it]\u001b[A\n",
      " 56%|████████████████████████████████████████████▉                                   | 225/401 [10:00<06:28,  2.20s/it]\u001b[A\n",
      " 56%|█████████████████████████████████████████████                                   | 226/401 [10:03<06:27,  2.21s/it]\u001b[A\n",
      " 57%|█████████████████████████████████████████████▎                                  | 227/401 [10:05<06:39,  2.29s/it]\u001b[A\n",
      " 57%|█████████████████████████████████████████████▍                                  | 228/401 [10:07<06:46,  2.35s/it]\u001b[A\n",
      " 57%|█████████████████████████████████████████████▋                                  | 229/401 [10:10<06:48,  2.37s/it]\u001b[A\n",
      " 57%|█████████████████████████████████████████████▉                                  | 230/401 [10:12<06:46,  2.38s/it]\u001b[A\n",
      " 58%|██████████████████████████████████████████████                                  | 231/401 [10:14<06:29,  2.29s/it]\u001b[A\n",
      " 58%|██████████████████████████████████████████████▎                                 | 232/401 [10:17<06:31,  2.32s/it]\u001b[A\n",
      " 58%|██████████████████████████████████████████████▍                                 | 233/401 [10:19<06:33,  2.34s/it]\u001b[A\n",
      " 58%|██████████████████████████████████████████████▋                                 | 234/401 [10:22<06:33,  2.36s/it]\u001b[A\n",
      " 59%|██████████████████████████████████████████████▉                                 | 235/401 [10:24<06:26,  2.33s/it]\u001b[A\n",
      " 59%|███████████████████████████████████████████████                                 | 236/401 [10:26<06:22,  2.32s/it]\u001b[A\n",
      " 59%|███████████████████████████████████████████████▎                                | 237/401 [10:29<06:26,  2.35s/it]\u001b[A\n",
      " 59%|███████████████████████████████████████████████▍                                | 238/401 [10:31<06:18,  2.32s/it]\u001b[A\n",
      " 60%|███████████████████████████████████████████████▋                                | 239/401 [10:33<06:01,  2.23s/it]\u001b[A\n",
      " 60%|███████████████████████████████████████████████▉                                | 240/401 [10:35<05:51,  2.18s/it]\u001b[A\n",
      " 60%|████████████████████████████████████████████████                                | 241/401 [10:37<05:41,  2.14s/it]\u001b[A\n",
      " 60%|████████████████████████████████████████████████▎                               | 242/401 [10:39<05:43,  2.16s/it]\u001b[A\n",
      " 61%|████████████████████████████████████████████████▍                               | 243/401 [10:41<05:40,  2.16s/it]\u001b[A\n",
      " 61%|████████████████████████████████████████████████▋                               | 244/401 [10:43<05:40,  2.17s/it]\u001b[A\n",
      " 61%|████████████████████████████████████████████████▉                               | 245/401 [10:46<05:32,  2.13s/it]\u001b[A\n",
      " 61%|█████████████████████████████████████████████████                               | 246/401 [10:48<05:29,  2.13s/it]\u001b[A\n",
      " 62%|█████████████████████████████████████████████████▎                              | 247/401 [10:50<05:24,  2.11s/it]\u001b[A\n",
      " 62%|█████████████████████████████████████████████████▍                              | 248/401 [10:52<05:37,  2.21s/it]\u001b[A\n",
      " 62%|█████████████████████████████████████████████████▋                              | 249/401 [10:54<05:42,  2.25s/it]\u001b[A\n",
      " 62%|█████████████████████████████████████████████████▉                              | 250/401 [10:57<05:51,  2.33s/it]\u001b[A\n",
      " 63%|██████████████████████████████████████████████████                              | 251/401 [10:59<05:54,  2.36s/it]\u001b[A\n",
      " 63%|██████████████████████████████████████████████████▎                             | 252/401 [11:02<05:59,  2.41s/it]\u001b[A\n",
      " 63%|██████████████████████████████████████████████████▍                             | 253/401 [11:05<06:03,  2.45s/it]\u001b[A\n",
      " 63%|██████████████████████████████████████████████████▋                             | 254/401 [11:07<06:10,  2.52s/it]\u001b[A\n",
      " 64%|██████████████████████████████████████████████████▊                             | 255/401 [11:10<06:15,  2.57s/it]\u001b[A\n",
      " 64%|███████████████████████████████████████████████████                             | 256/401 [11:13<06:19,  2.62s/it]\u001b[A\n",
      " 64%|███████████████████████████████████████████████████▎                            | 257/401 [11:15<06:21,  2.65s/it]\u001b[A\n",
      " 64%|███████████████████████████████████████████████████▍                            | 258/401 [11:18<06:06,  2.56s/it]\u001b[A\n",
      " 65%|███████████████████████████████████████████████████▋                            | 259/401 [11:20<05:44,  2.43s/it]\u001b[A\n",
      " 65%|███████████████████████████████████████████████████▊                            | 260/401 [11:22<05:44,  2.45s/it]\u001b[A\n",
      " 65%|████████████████████████████████████████████████████                            | 261/401 [11:24<05:30,  2.36s/it]\u001b[A\n",
      " 65%|████████████████████████████████████████████████████▎                           | 262/401 [11:27<05:18,  2.29s/it]\u001b[A\n",
      " 66%|████████████████████████████████████████████████████▍                           | 263/401 [11:29<05:07,  2.23s/it]\u001b[A\n"
     ]
    },
    {
     "name": "stderr",
     "output_type": "stream",
     "text": [
      " 66%|████████████████████████████████████████████████████▋                           | 264/401 [11:31<05:08,  2.25s/it]\u001b[A\n",
      " 66%|████████████████████████████████████████████████████▊                           | 265/401 [11:33<04:55,  2.17s/it]\u001b[A\n",
      " 66%|█████████████████████████████████████████████████████                           | 266/401 [11:35<04:47,  2.13s/it]\u001b[A\n",
      " 67%|█████████████████████████████████████████████████████▎                          | 267/401 [11:37<04:37,  2.07s/it]\u001b[A\n",
      " 67%|█████████████████████████████████████████████████████▍                          | 268/401 [11:39<04:36,  2.08s/it]\u001b[A\n",
      " 67%|█████████████████████████████████████████████████████▋                          | 269/401 [11:41<04:48,  2.19s/it]\u001b[A\n",
      " 67%|█████████████████████████████████████████████████████▊                          | 270/401 [11:43<04:37,  2.12s/it]\u001b[A\n",
      " 68%|██████████████████████████████████████████████████████                          | 271/401 [11:46<04:48,  2.22s/it]\u001b[A\n",
      " 68%|██████████████████████████████████████████████████████▎                         | 272/401 [11:48<04:53,  2.27s/it]\u001b[A\n",
      " 68%|██████████████████████████████████████████████████████▍                         | 273/401 [11:50<04:41,  2.20s/it]\u001b[A\n",
      " 68%|██████████████████████████████████████████████████████▋                         | 274/401 [11:52<04:34,  2.16s/it]\u001b[A\n",
      " 69%|██████████████████████████████████████████████████████▊                         | 275/401 [11:54<04:23,  2.09s/it]\u001b[A\n",
      " 69%|███████████████████████████████████████████████████████                         | 276/401 [11:56<04:24,  2.11s/it]\u001b[A\n",
      " 69%|███████████████████████████████████████████████████████▎                        | 277/401 [11:59<04:37,  2.24s/it]\u001b[A\n",
      " 69%|███████████████████████████████████████████████████████▍                        | 278/401 [12:01<04:28,  2.18s/it]\u001b[A\n",
      " 70%|███████████████████████████████████████████████████████▋                        | 279/401 [12:03<04:18,  2.12s/it]\u001b[A\n",
      " 70%|███████████████████████████████████████████████████████▊                        | 280/401 [12:05<04:10,  2.07s/it]\u001b[A\n",
      " 70%|████████████████████████████████████████████████████████                        | 281/401 [12:07<04:20,  2.17s/it]\u001b[A\n",
      " 70%|████████████████████████████████████████████████████████▎                       | 282/401 [12:10<04:23,  2.21s/it]\u001b[A\n",
      " 71%|████████████████████████████████████████████████████████▍                       | 283/401 [12:12<04:23,  2.23s/it]\u001b[A\n",
      " 71%|████████████████████████████████████████████████████████▋                       | 284/401 [12:14<04:11,  2.15s/it]\u001b[A\n",
      " 71%|████████████████████████████████████████████████████████▊                       | 285/401 [12:16<04:18,  2.22s/it]\u001b[A\n",
      " 71%|█████████████████████████████████████████████████████████                       | 286/401 [12:18<04:06,  2.14s/it]\u001b[A\n",
      " 72%|█████████████████████████████████████████████████████████▎                      | 287/401 [12:20<03:59,  2.10s/it]\u001b[A\n",
      " 72%|█████████████████████████████████████████████████████████▍                      | 288/401 [12:23<04:11,  2.22s/it]\u001b[A\n",
      " 72%|█████████████████████████████████████████████████████████▋                      | 289/401 [12:25<04:03,  2.18s/it]\u001b[A\n",
      " 72%|█████████████████████████████████████████████████████████▊                      | 290/401 [12:27<04:07,  2.23s/it]\u001b[A\n",
      " 73%|██████████████████████████████████████████████████████████                      | 291/401 [12:30<04:38,  2.54s/it]\u001b[A\n",
      " 73%|██████████████████████████████████████████████████████████▎                     | 292/401 [12:33<04:27,  2.46s/it]\u001b[A\n",
      " 73%|██████████████████████████████████████████████████████████▍                     | 293/401 [12:35<04:16,  2.38s/it]\u001b[A\n",
      " 73%|██████████████████████████████████████████████████████████▋                     | 294/401 [12:37<04:15,  2.39s/it]\u001b[A\n",
      " 74%|██████████████████████████████████████████████████████████▊                     | 295/401 [12:40<04:20,  2.46s/it]\u001b[A\n",
      " 74%|███████████████████████████████████████████████████████████                     | 296/401 [12:43<04:27,  2.55s/it]\u001b[A\n",
      " 74%|███████████████████████████████████████████████████████████▎                    | 297/401 [12:45<04:18,  2.48s/it]\u001b[A\n",
      " 74%|███████████████████████████████████████████████████████████▍                    | 298/401 [12:47<04:12,  2.45s/it]\u001b[A\n",
      " 75%|███████████████████████████████████████████████████████████▋                    | 299/401 [12:50<04:22,  2.57s/it]\u001b[A\n",
      " 75%|███████████████████████████████████████████████████████████▊                    | 300/401 [12:53<04:16,  2.54s/it]\u001b[A\n",
      " 75%|████████████████████████████████████████████████████████████                    | 301/401 [12:55<03:57,  2.37s/it]\u001b[A\n",
      " 75%|████████████████████████████████████████████████████████████▏                   | 302/401 [12:57<03:44,  2.27s/it]\u001b[A\n",
      " 76%|████████████████████████████████████████████████████████████▍                   | 303/401 [12:59<03:39,  2.24s/it]\u001b[A\n",
      " 76%|████████████████████████████████████████████████████████████▋                   | 304/401 [13:01<03:39,  2.27s/it]\u001b[A\n",
      " 76%|████████████████████████████████████████████████████████████▊                   | 305/401 [13:03<03:32,  2.22s/it]\u001b[A\n",
      " 76%|█████████████████████████████████████████████████████████████                   | 306/401 [13:05<03:26,  2.17s/it]\u001b[A\n",
      " 77%|█████████████████████████████████████████████████████████████▏                  | 307/401 [13:08<03:29,  2.23s/it]\u001b[A\n",
      " 77%|█████████████████████████████████████████████████████████████▍                  | 308/401 [13:10<03:18,  2.14s/it]\u001b[A\n",
      " 77%|█████████████████████████████████████████████████████████████▋                  | 309/401 [13:12<03:15,  2.13s/it]\u001b[A\n",
      " 77%|█████████████████████████████████████████████████████████████▊                  | 310/401 [13:14<03:11,  2.10s/it]\u001b[A\n",
      " 78%|██████████████████████████████████████████████████████████████                  | 311/401 [13:16<03:08,  2.10s/it]\u001b[A\n",
      " 78%|██████████████████████████████████████████████████████████████▏                 | 312/401 [13:18<03:06,  2.09s/it]\u001b[A\n",
      " 78%|██████████████████████████████████████████████████████████████▍                 | 313/401 [13:21<03:26,  2.35s/it]\u001b[A\n",
      " 78%|██████████████████████████████████████████████████████████████▋                 | 314/401 [13:23<03:18,  2.28s/it]\u001b[A\n",
      " 79%|██████████████████████████████████████████████████████████████▊                 | 315/401 [13:25<03:18,  2.31s/it]\u001b[A\n",
      " 79%|███████████████████████████████████████████████████████████████                 | 316/401 [13:27<03:08,  2.22s/it]\u001b[A\n",
      " 79%|███████████████████████████████████████████████████████████████▏                | 317/401 [13:29<03:00,  2.15s/it]\u001b[A\n",
      " 79%|███████████████████████████████████████████████████████████████▍                | 318/401 [13:32<02:57,  2.14s/it]\u001b[A\n",
      " 80%|███████████████████████████████████████████████████████████████▋                | 319/401 [13:34<02:53,  2.11s/it]\u001b[A\n",
      " 80%|███████████████████████████████████████████████████████████████▊                | 320/401 [13:36<02:57,  2.19s/it]\u001b[A\n",
      " 80%|████████████████████████████████████████████████████████████████                | 321/401 [13:38<02:58,  2.23s/it]\u001b[A\n",
      " 80%|████████████████████████████████████████████████████████████████▏               | 322/401 [13:40<02:50,  2.16s/it]\u001b[A\n",
      " 81%|████████████████████████████████████████████████████████████████▍               | 323/401 [13:43<02:49,  2.18s/it]\u001b[A\n",
      " 81%|████████████████████████████████████████████████████████████████▋               | 324/401 [13:45<02:52,  2.24s/it]\u001b[A\n",
      " 81%|████████████████████████████████████████████████████████████████▊               | 325/401 [13:47<02:45,  2.17s/it]\u001b[A\n",
      " 81%|█████████████████████████████████████████████████████████████████               | 326/401 [13:49<02:42,  2.16s/it]\u001b[A\n",
      " 82%|█████████████████████████████████████████████████████████████████▏              | 327/401 [13:51<02:40,  2.16s/it]\u001b[A\n",
      " 82%|█████████████████████████████████████████████████████████████████▍              | 328/401 [13:53<02:40,  2.19s/it]\u001b[A\n",
      " 82%|█████████████████████████████████████████████████████████████████▋              | 329/401 [13:56<02:35,  2.16s/it]\u001b[A\n"
     ]
    },
    {
     "name": "stderr",
     "output_type": "stream",
     "text": [
      " 82%|█████████████████████████████████████████████████████████████████▊              | 330/401 [13:58<02:29,  2.11s/it]\u001b[A\n",
      " 83%|██████████████████████████████████████████████████████████████████              | 331/401 [14:00<02:28,  2.11s/it]\u001b[A\n",
      " 83%|██████████████████████████████████████████████████████████████████▏             | 332/401 [14:02<02:28,  2.15s/it]\u001b[A\n",
      " 83%|██████████████████████████████████████████████████████████████████▍             | 333/401 [14:04<02:30,  2.22s/it]\u001b[A\n",
      " 83%|██████████████████████████████████████████████████████████████████▋             | 334/401 [14:07<02:32,  2.28s/it]\u001b[A\n",
      " 84%|██████████████████████████████████████████████████████████████████▊             | 335/401 [14:09<02:31,  2.30s/it]\u001b[A\n",
      " 84%|███████████████████████████████████████████████████████████████████             | 336/401 [14:11<02:25,  2.23s/it]\u001b[A\n",
      " 84%|███████████████████████████████████████████████████████████████████▏            | 337/401 [14:13<02:18,  2.17s/it]\u001b[A\n",
      " 84%|███████████████████████████████████████████████████████████████████▍            | 338/401 [14:15<02:18,  2.20s/it]\u001b[A\n",
      " 85%|███████████████████████████████████████████████████████████████████▋            | 339/401 [14:18<02:17,  2.22s/it]\u001b[A\n",
      " 85%|███████████████████████████████████████████████████████████████████▊            | 340/401 [14:20<02:14,  2.20s/it]\u001b[A\n",
      " 85%|████████████████████████████████████████████████████████████████████            | 341/401 [14:22<02:08,  2.15s/it]\u001b[A\n",
      " 85%|████████████████████████████████████████████████████████████████████▏           | 342/401 [14:24<02:07,  2.15s/it]\u001b[A\n",
      " 86%|████████████████████████████████████████████████████████████████████▍           | 343/401 [14:26<02:04,  2.15s/it]\u001b[A\n",
      " 86%|████████████████████████████████████████████████████████████████████▋           | 344/401 [14:28<02:00,  2.11s/it]\u001b[A\n",
      " 86%|████████████████████████████████████████████████████████████████████▊           | 345/401 [14:30<01:57,  2.11s/it]\u001b[A\n",
      " 86%|█████████████████████████████████████████████████████████████████████           | 346/401 [14:32<01:54,  2.08s/it]\u001b[A\n",
      " 87%|█████████████████████████████████████████████████████████████████████▏          | 347/401 [14:34<01:51,  2.06s/it]\u001b[A\n",
      " 87%|█████████████████████████████████████████████████████████████████████▍          | 348/401 [14:36<01:49,  2.07s/it]\u001b[A\n",
      " 87%|█████████████████████████████████████████████████████████████████████▋          | 349/401 [14:39<01:51,  2.15s/it]\u001b[A\n",
      " 87%|█████████████████████████████████████████████████████████████████████▊          | 350/401 [14:41<01:46,  2.09s/it]\u001b[A\n",
      " 88%|██████████████████████████████████████████████████████████████████████          | 351/401 [14:43<01:42,  2.05s/it]\u001b[A\n",
      " 88%|██████████████████████████████████████████████████████████████████████▏         | 352/401 [14:45<01:39,  2.03s/it]\u001b[A\n",
      " 88%|██████████████████████████████████████████████████████████████████████▍         | 353/401 [14:47<01:36,  2.00s/it]\u001b[A\n",
      " 88%|██████████████████████████████████████████████████████████████████████▌         | 354/401 [14:49<01:36,  2.05s/it]\u001b[A\n",
      " 89%|██████████████████████████████████████████████████████████████████████▊         | 355/401 [14:51<01:34,  2.05s/it]\u001b[A\n",
      " 89%|███████████████████████████████████████████████████████████████████████         | 356/401 [14:53<01:32,  2.05s/it]\u001b[A\n",
      " 89%|███████████████████████████████████████████████████████████████████████▏        | 357/401 [14:55<01:32,  2.11s/it]\u001b[A\n",
      " 89%|███████████████████████████████████████████████████████████████████████▍        | 358/401 [14:57<01:33,  2.17s/it]\u001b[A\n",
      " 90%|███████████████████████████████████████████████████████████████████████▌        | 359/401 [15:00<01:30,  2.15s/it]\u001b[A\n",
      " 90%|███████████████████████████████████████████████████████████████████████▊        | 360/401 [15:02<01:28,  2.16s/it]\u001b[A\n",
      " 90%|████████████████████████████████████████████████████████████████████████        | 361/401 [15:04<01:24,  2.12s/it]\u001b[A\n",
      " 90%|████████████████████████████████████████████████████████████████████████▏       | 362/401 [15:06<01:20,  2.06s/it]\u001b[A\n",
      " 91%|████████████████████████████████████████████████████████████████████████▍       | 363/401 [15:08<01:17,  2.03s/it]\u001b[A\n",
      " 91%|████████████████████████████████████████████████████████████████████████▌       | 364/401 [15:10<01:16,  2.06s/it]\u001b[A\n",
      " 91%|████████████████████████████████████████████████████████████████████████▊       | 365/401 [15:12<01:13,  2.05s/it]\u001b[A\n",
      " 91%|█████████████████████████████████████████████████████████████████████████       | 366/401 [15:14<01:11,  2.05s/it]\u001b[A\n",
      " 92%|█████████████████████████████████████████████████████████████████████████▏      | 367/401 [15:16<01:11,  2.09s/it]\u001b[A\n",
      " 92%|█████████████████████████████████████████████████████████████████████████▍      | 368/401 [15:18<01:07,  2.06s/it]\u001b[A\n",
      " 92%|█████████████████████████████████████████████████████████████████████████▌      | 369/401 [15:20<01:06,  2.07s/it]\u001b[A\n",
      " 92%|█████████████████████████████████████████████████████████████████████████▊      | 370/401 [15:23<01:07,  2.18s/it]\u001b[A\n",
      " 93%|██████████████████████████████████████████████████████████████████████████      | 371/401 [15:25<01:03,  2.13s/it]\u001b[A\n",
      " 93%|██████████████████████████████████████████████████████████████████████████▏     | 372/401 [15:27<01:01,  2.11s/it]\u001b[A\n",
      " 93%|██████████████████████████████████████████████████████████████████████████▍     | 373/401 [15:29<00:59,  2.11s/it]\u001b[A\n",
      " 93%|██████████████████████████████████████████████████████████████████████████▌     | 374/401 [15:32<01:03,  2.35s/it]\u001b[A\n",
      " 94%|██████████████████████████████████████████████████████████████████████████▊     | 375/401 [15:34<00:59,  2.28s/it]\u001b[A\n",
      " 94%|███████████████████████████████████████████████████████████████████████████     | 376/401 [15:36<00:56,  2.26s/it]\u001b[A\n",
      " 94%|███████████████████████████████████████████████████████████████████████████▏    | 377/401 [15:38<00:52,  2.18s/it]\u001b[A\n",
      " 94%|███████████████████████████████████████████████████████████████████████████▍    | 378/401 [15:40<00:52,  2.27s/it]\u001b[A\n",
      " 95%|███████████████████████████████████████████████████████████████████████████▌    | 379/401 [15:43<00:51,  2.34s/it]\u001b[A\n",
      " 95%|███████████████████████████████████████████████████████████████████████████▊    | 380/401 [15:45<00:48,  2.33s/it]\u001b[A\n",
      " 95%|████████████████████████████████████████████████████████████████████████████    | 381/401 [15:47<00:46,  2.30s/it]\u001b[A\n",
      " 95%|████████████████████████████████████████████████████████████████████████████▏   | 382/401 [15:50<00:42,  2.26s/it]\u001b[A\n",
      " 96%|████████████████████████████████████████████████████████████████████████████▍   | 383/401 [15:52<00:39,  2.22s/it]\u001b[A\n",
      " 96%|████████████████████████████████████████████████████████████████████████████▌   | 384/401 [15:54<00:40,  2.38s/it]\u001b[A\n",
      " 96%|████████████████████████████████████████████████████████████████████████████▊   | 385/401 [15:57<00:38,  2.39s/it]\u001b[A\n",
      " 96%|█████████████████████████████████████████████████████████████████████████████   | 386/401 [15:59<00:34,  2.33s/it]\u001b[A\n",
      " 97%|█████████████████████████████████████████████████████████████████████████████▏  | 387/401 [16:01<00:31,  2.26s/it]\u001b[A\n",
      " 97%|█████████████████████████████████████████████████████████████████████████████▍  | 388/401 [16:03<00:28,  2.18s/it]\u001b[A\n",
      " 97%|█████████████████████████████████████████████████████████████████████████████▌  | 389/401 [16:05<00:25,  2.14s/it]\u001b[A\n",
      " 97%|█████████████████████████████████████████████████████████████████████████████▊  | 390/401 [16:07<00:23,  2.09s/it]\u001b[A\n",
      " 98%|██████████████████████████████████████████████████████████████████████████████  | 391/401 [16:09<00:20,  2.10s/it]\u001b[A\n",
      " 98%|██████████████████████████████████████████████████████████████████████████████▏ | 392/401 [16:12<00:19,  2.13s/it]\u001b[A\n",
      " 98%|██████████████████████████████████████████████████████████████████████████████▍ | 393/401 [16:14<00:17,  2.17s/it]\u001b[A\n",
      " 98%|██████████████████████████████████████████████████████████████████████████████▌ | 394/401 [16:17<00:16,  2.41s/it]\u001b[A\n",
      " 99%|██████████████████████████████████████████████████████████████████████████████▊ | 395/401 [16:20<00:15,  2.63s/it]\u001b[A\n"
     ]
    },
    {
     "name": "stderr",
     "output_type": "stream",
     "text": [
      " 99%|███████████████████████████████████████████████████████████████████████████████ | 396/401 [16:22<00:13,  2.60s/it]\u001b[A\n",
      " 99%|███████████████████████████████████████████████████████████████████████████████▏| 397/401 [16:25<00:09,  2.47s/it]\u001b[A\n",
      " 99%|███████████████████████████████████████████████████████████████████████████████▍| 398/401 [16:27<00:07,  2.53s/it]\u001b[A\n",
      "100%|███████████████████████████████████████████████████████████████████████████████▌| 399/401 [16:30<00:05,  2.50s/it]\u001b[A\n",
      "100%|███████████████████████████████████████████████████████████████████████████████▊| 400/401 [16:32<00:02,  2.39s/it]\u001b[A\n",
      "100%|████████████████████████████████████████████████████████████████████████████████| 401/401 [16:34<00:00,  2.48s/it]\u001b[A\n"
     ]
    }
   ],
   "source": [
    "bus.nodes = gpd.GeoDataFrame(bus.nodes, crs=sm.epsg)\n",
    "bus.nodes['FID'] = np.nan\n",
    "for _, zone in tqdm(bus.zones.iterrows(), total=bus.zones.shape[0]):\n",
    "    bus.nodes.loc[bus.nodes['geometry'].within(zone['geometry']), 'FID'] = zone['FID']"
   ]
  },
  {
   "cell_type": "code",
   "execution_count": 27,
   "metadata": {},
   "outputs": [
    {
     "name": "stdout",
     "output_type": "stream",
     "text": [
      "(15376, 4)\n",
      "(413611, 4)\n"
     ]
    }
   ],
   "source": [
    "# Drop nodes outside of zones\n",
    "sm.nodes = sm.nodes[sm.nodes['FID'].notna()]\n",
    "bus.nodes = bus.nodes[bus.nodes['FID'].notna()]\n",
    "print(sm.nodes.shape)\n",
    "print(bus.nodes.shape)"
   ]
  },
  {
   "cell_type": "markdown",
   "metadata": {},
   "source": [
    "## Divide links and nodes\n",
    "Long-distance nodes don't need to be clustered due to relatively small numbers, while bus and rail short-distance services have a high geographic coverage."
   ]
  },
  {
   "cell_type": "code",
   "execution_count": 28,
   "metadata": {},
   "outputs": [
    {
     "name": "stdout",
     "output_type": "stream",
     "text": [
      "(15376, 4)\n",
      "(427624, 4)\n"
     ]
    }
   ],
   "source": [
    "# Divide nodes\n",
    "print(sm.nodes.shape)\n",
    "disagg_nodes = sm.nodes.loc[sm.nodes['route_type']=='rail_short_distance'].append(bus.nodes)\n",
    "sm.nodes = sm.nodes.loc[sm.nodes['route_type']!='rail_short_distance']\n",
    "print(disagg_nodes.shape)"
   ]
  },
  {
   "cell_type": "code",
   "execution_count": 29,
   "metadata": {},
   "outputs": [
    {
     "name": "stdout",
     "output_type": "stream",
     "text": [
      "(213129, 8)\n",
      "(3391726, 8)\n"
     ]
    }
   ],
   "source": [
    "# Divide links\n",
    "print(sm.links.shape)\n",
    "disagg_links = sm.links.loc[sm.links['route_type']=='rail_short_distance'].append(bus.links)\n",
    "sm.links = sm.links.loc[sm.links['route_type']!='rail_short_distance']\n",
    "print(disagg_links.shape)"
   ]
  },
  {
   "cell_type": "code",
   "execution_count": 30,
   "metadata": {},
   "outputs": [
    {
     "data": {
      "text/plain": [
       "259404"
      ]
     },
     "execution_count": 30,
     "metadata": {},
     "output_type": "execute_result"
    }
   ],
   "source": [
    "# Number of trips\n",
    "len(disagg_links['trip_id'].unique())"
   ]
  },
  {
   "cell_type": "markdown",
   "metadata": {},
   "source": [
    "## Cluster stops\n",
    "Bus and short-distance rail service in the GTFS feeds contain a lot of intermediate stops which can be clustered"
   ]
  },
  {
   "cell_type": "code",
   "execution_count": 31,
   "metadata": {},
   "outputs": [
    {
     "name": "stderr",
     "output_type": "stream",
     "text": [
      "\n",
      "  0%|                                                                                          | 0/401 [00:00<?, ?it/s]\u001b[A\n",
      "  0%|▏                                                                               | 1/401 [00:09<1:00:55,  9.14s/it]\u001b[A\n",
      "  0%|▍                                                                                 | 2/401 [00:11<46:31,  7.00s/it]\u001b[A\n",
      "  1%|▌                                                                                 | 3/401 [00:13<36:30,  5.50s/it]\u001b[A\n",
      "  1%|▊                                                                                 | 4/401 [00:14<28:20,  4.28s/it]\u001b[A\n",
      "  1%|█                                                                                 | 5/401 [00:16<23:05,  3.50s/it]\u001b[A\n",
      "  1%|█▏                                                                                | 6/401 [00:17<19:25,  2.95s/it]\u001b[A\n",
      "  2%|█▍                                                                                | 7/401 [00:19<16:36,  2.53s/it]\u001b[A\n",
      "  2%|█▋                                                                                | 8/401 [00:20<14:26,  2.21s/it]\u001b[A\n",
      "  2%|█▊                                                                                | 9/401 [00:23<14:28,  2.21s/it]\u001b[A\n",
      "  2%|██                                                                               | 10/401 [00:25<13:44,  2.11s/it]\u001b[A\n",
      "  3%|██▏                                                                              | 11/401 [00:26<13:06,  2.02s/it]\u001b[A\n",
      "  3%|██▍                                                                              | 12/401 [00:28<11:54,  1.84s/it]\u001b[A\n",
      "  3%|██▋                                                                              | 13/401 [00:29<10:51,  1.68s/it]\u001b[A\n",
      "  3%|██▊                                                                              | 14/401 [00:30<10:12,  1.58s/it]\u001b[A\n",
      "  4%|███                                                                              | 15/401 [00:32<10:47,  1.68s/it]\u001b[A\n",
      "  4%|███▏                                                                             | 16/401 [00:34<10:55,  1.70s/it]\u001b[A\n",
      "  4%|███▍                                                                             | 17/401 [00:36<10:29,  1.64s/it]\u001b[A\n",
      "  4%|███▋                                                                             | 18/401 [00:37<10:05,  1.58s/it]\u001b[A\n",
      "  5%|███▊                                                                             | 19/401 [00:39<10:05,  1.58s/it]\u001b[A\n",
      "  5%|████                                                                             | 20/401 [00:40<10:07,  1.60s/it]\u001b[A\n",
      "  5%|████▏                                                                            | 21/401 [00:42<09:51,  1.56s/it]\u001b[A\n",
      "  5%|████▍                                                                            | 22/401 [00:43<09:44,  1.54s/it]\u001b[A\n",
      "  6%|████▋                                                                            | 23/401 [00:45<10:04,  1.60s/it]\u001b[A\n",
      "  6%|████▊                                                                            | 24/401 [00:47<11:05,  1.77s/it]\u001b[A\n",
      "  6%|█████                                                                            | 25/401 [00:49<11:08,  1.78s/it]\u001b[A\n",
      "  6%|█████▎                                                                           | 26/401 [00:51<10:52,  1.74s/it]\u001b[A\n",
      "  7%|█████▍                                                                           | 27/401 [00:53<11:54,  1.91s/it]\u001b[A\n",
      "  7%|█████▋                                                                           | 28/401 [00:57<15:14,  2.45s/it]\u001b[A\n",
      "  7%|█████▊                                                                           | 29/401 [00:58<13:54,  2.24s/it]\u001b[A\n",
      "  7%|██████                                                                           | 30/401 [01:00<13:05,  2.12s/it]\u001b[A\n",
      "  8%|██████▎                                                                          | 31/401 [01:02<12:03,  1.96s/it]\u001b[A\n",
      "  8%|██████▍                                                                          | 32/401 [01:04<11:46,  1.92s/it]\u001b[A\n",
      "  8%|██████▋                                                                          | 33/401 [01:05<10:53,  1.77s/it]\u001b[A\n",
      "  8%|██████▊                                                                          | 34/401 [01:06<10:05,  1.65s/it]\u001b[A\n",
      "  9%|███████                                                                          | 35/401 [01:08<10:16,  1.68s/it]\u001b[A\n",
      "  9%|███████▎                                                                         | 36/401 [01:10<10:20,  1.70s/it]\u001b[A\n",
      "  9%|███████▍                                                                         | 37/401 [01:11<10:06,  1.67s/it]\u001b[A\n",
      "  9%|███████▋                                                                         | 38/401 [01:13<09:41,  1.60s/it]\u001b[A\n",
      " 10%|███████▉                                                                         | 39/401 [01:14<09:36,  1.59s/it]\u001b[A\n",
      " 10%|████████                                                                         | 40/401 [01:16<09:37,  1.60s/it]\u001b[A\n",
      " 10%|████████▎                                                                        | 41/401 [01:17<09:01,  1.50s/it]\u001b[A\n",
      " 10%|████████▍                                                                        | 42/401 [01:19<09:16,  1.55s/it]\u001b[A\n",
      " 11%|████████▋                                                                        | 43/401 [01:20<08:37,  1.45s/it]\u001b[A\n",
      " 11%|████████▉                                                                        | 44/401 [01:22<08:27,  1.42s/it]\u001b[A\n",
      " 11%|█████████                                                                        | 45/401 [01:23<09:00,  1.52s/it]\u001b[A\n",
      " 11%|█████████▎                                                                       | 46/401 [01:25<09:31,  1.61s/it]\u001b[A\n",
      " 12%|█████████▍                                                                       | 47/401 [01:27<10:04,  1.71s/it]\u001b[A\n",
      " 12%|█████████▋                                                                       | 48/401 [01:29<10:04,  1.71s/it]\u001b[A\n",
      " 12%|█████████▉                                                                       | 49/401 [01:31<10:06,  1.72s/it]\u001b[A\n",
      " 12%|██████████                                                                       | 50/401 [01:32<10:06,  1.73s/it]\u001b[A\n",
      " 13%|██████████▎                                                                      | 51/401 [01:34<09:39,  1.66s/it]\u001b[A\n",
      " 13%|██████████▌                                                                      | 52/401 [01:35<09:30,  1.63s/it]\u001b[A\n",
      " 13%|██████████▋                                                                      | 53/401 [01:37<09:32,  1.64s/it]\u001b[A\n",
      " 13%|██████████▉                                                                      | 54/401 [01:39<09:20,  1.61s/it]\u001b[A\n",
      " 14%|███████████                                                                      | 55/401 [01:40<09:15,  1.61s/it]\u001b[A\n",
      " 14%|███████████▎                                                                     | 56/401 [01:42<10:20,  1.80s/it]\u001b[A\n",
      " 14%|███████████▌                                                                     | 57/401 [01:44<09:57,  1.74s/it]\u001b[A\n",
      " 14%|███████████▋                                                                     | 58/401 [01:45<09:23,  1.64s/it]\u001b[A\n",
      " 15%|███████████▉                                                                     | 59/401 [01:47<08:57,  1.57s/it]\u001b[A\n",
      " 15%|████████████                                                                     | 60/401 [01:48<08:25,  1.48s/it]\u001b[A\n",
      " 15%|████████████▎                                                                    | 61/401 [01:50<08:46,  1.55s/it]\u001b[A\n",
      " 15%|████████████▌                                                                    | 62/401 [01:52<09:35,  1.70s/it]\u001b[A\n",
      " 16%|████████████▋                                                                    | 63/401 [01:54<09:31,  1.69s/it]\u001b[A\n",
      " 16%|████████████▉                                                                    | 64/401 [01:55<09:50,  1.75s/it]\u001b[A\n",
      " 16%|█████████████▏                                                                   | 65/401 [01:57<09:17,  1.66s/it]\u001b[A\n"
     ]
    },
    {
     "name": "stderr",
     "output_type": "stream",
     "text": [
      " 16%|█████████████▎                                                                   | 66/401 [01:59<09:28,  1.70s/it]\u001b[A\n",
      " 17%|█████████████▌                                                                   | 67/401 [02:01<10:03,  1.81s/it]\u001b[A\n",
      " 17%|█████████████▋                                                                   | 68/401 [02:02<09:41,  1.75s/it]\u001b[A\n",
      " 17%|█████████████▉                                                                   | 69/401 [02:04<09:10,  1.66s/it]\u001b[A\n",
      " 17%|██████████████▏                                                                  | 70/401 [02:05<08:49,  1.60s/it]\u001b[A\n",
      " 18%|██████████████▎                                                                  | 71/401 [02:07<08:18,  1.51s/it]\u001b[A\n",
      " 18%|██████████████▌                                                                  | 72/401 [02:08<08:50,  1.61s/it]\u001b[A\n",
      " 18%|██████████████▋                                                                  | 73/401 [02:10<08:55,  1.63s/it]\u001b[A\n",
      " 18%|██████████████▉                                                                  | 74/401 [02:11<08:00,  1.47s/it]\u001b[A\n",
      " 19%|███████████████▏                                                                 | 75/401 [02:13<08:30,  1.57s/it]\u001b[A\n",
      " 19%|███████████████▎                                                                 | 76/401 [02:14<08:24,  1.55s/it]\u001b[A\n",
      " 19%|███████████████▌                                                                 | 77/401 [02:16<08:16,  1.53s/it]\u001b[A\n",
      " 19%|███████████████▊                                                                 | 78/401 [02:18<09:09,  1.70s/it]\u001b[A\n",
      " 20%|███████████████▉                                                                 | 79/401 [02:19<08:36,  1.60s/it]\u001b[A\n",
      " 20%|████████████████▏                                                                | 80/401 [02:21<08:25,  1.57s/it]\u001b[A\n",
      " 20%|████████████████▎                                                                | 81/401 [02:22<08:02,  1.51s/it]\u001b[A\n",
      " 20%|████████████████▌                                                                | 82/401 [02:24<08:09,  1.53s/it]\u001b[A\n",
      " 21%|████████████████▊                                                                | 83/401 [02:26<08:29,  1.60s/it]\u001b[A\n",
      " 21%|████████████████▉                                                                | 84/401 [02:27<08:20,  1.58s/it]\u001b[A\n",
      " 21%|█████████████████▏                                                               | 85/401 [02:29<08:37,  1.64s/it]\u001b[A\n",
      " 21%|█████████████████▎                                                               | 86/401 [02:31<09:26,  1.80s/it]\u001b[A\n",
      " 22%|█████████████████▌                                                               | 87/401 [02:33<08:50,  1.69s/it]\u001b[A\n",
      " 22%|█████████████████▊                                                               | 88/401 [02:34<08:20,  1.60s/it]\u001b[A\n",
      " 22%|█████████████████▉                                                               | 89/401 [02:36<08:25,  1.62s/it]\u001b[A\n",
      " 22%|██████████████████▏                                                              | 90/401 [02:37<08:26,  1.63s/it]\u001b[A\n",
      " 23%|██████████████████▍                                                              | 91/401 [02:39<08:16,  1.60s/it]\u001b[A\n",
      " 23%|██████████████████▌                                                              | 92/401 [02:40<07:55,  1.54s/it]\u001b[A\n",
      " 23%|██████████████████▊                                                              | 93/401 [02:41<07:31,  1.47s/it]\u001b[A\n",
      " 23%|██████████████████▉                                                              | 94/401 [02:43<07:27,  1.46s/it]\u001b[A\n",
      " 24%|███████████████████▏                                                             | 95/401 [02:44<07:04,  1.39s/it]\u001b[A\n",
      " 24%|███████████████████▍                                                             | 96/401 [02:45<06:47,  1.34s/it]\u001b[A\n",
      " 24%|███████████████████▌                                                             | 97/401 [02:47<06:57,  1.37s/it]\u001b[A\n",
      " 24%|███████████████████▊                                                             | 98/401 [02:49<07:49,  1.55s/it]\u001b[A\n",
      " 25%|███████████████████▉                                                             | 99/401 [02:50<07:39,  1.52s/it]\u001b[A\n",
      " 25%|███████████████████▉                                                            | 100/401 [02:52<08:07,  1.62s/it]\u001b[A\n",
      " 25%|████████████████████▏                                                           | 101/401 [02:54<08:00,  1.60s/it]\u001b[A\n",
      " 25%|████████████████████▎                                                           | 102/401 [02:55<07:31,  1.51s/it]\u001b[A\n",
      " 26%|████████████████████▌                                                           | 103/401 [02:56<07:27,  1.50s/it]\u001b[A\n",
      " 26%|████████████████████▋                                                           | 104/401 [02:58<07:37,  1.54s/it]\u001b[A\n",
      " 26%|████████████████████▉                                                           | 105/401 [02:59<07:15,  1.47s/it]\u001b[A\n",
      " 26%|█████████████████████▏                                                          | 106/401 [03:01<07:01,  1.43s/it]\u001b[A\n",
      " 27%|█████████████████████▎                                                          | 107/401 [03:02<06:57,  1.42s/it]\u001b[A\n",
      " 27%|█████████████████████▌                                                          | 108/401 [03:04<07:43,  1.58s/it]\u001b[A\n",
      " 27%|█████████████████████▋                                                          | 109/401 [03:06<07:35,  1.56s/it]\u001b[A\n",
      " 27%|█████████████████████▉                                                          | 110/401 [03:07<07:42,  1.59s/it]\u001b[A\n",
      " 28%|██████████████████████▏                                                         | 111/401 [03:09<08:02,  1.66s/it]\u001b[A\n",
      " 28%|██████████████████████▎                                                         | 112/401 [03:11<08:04,  1.68s/it]\u001b[A\n",
      " 28%|██████████████████████▌                                                         | 113/401 [03:13<08:15,  1.72s/it]\u001b[A\n",
      " 28%|██████████████████████▋                                                         | 114/401 [03:14<08:25,  1.76s/it]\u001b[A\n",
      " 29%|██████████████████████▉                                                         | 115/401 [03:16<08:35,  1.80s/it]\u001b[A\n",
      " 29%|███████████████████████▏                                                        | 116/401 [03:18<08:02,  1.69s/it]\u001b[A\n",
      " 29%|███████████████████████▎                                                        | 117/401 [03:20<08:10,  1.73s/it]\u001b[A\n",
      " 29%|███████████████████████▌                                                        | 118/401 [03:21<07:42,  1.64s/it]\u001b[A\n",
      " 30%|███████████████████████▋                                                        | 119/401 [03:23<07:50,  1.67s/it]\u001b[A\n",
      " 30%|███████████████████████▉                                                        | 120/401 [03:24<07:26,  1.59s/it]\u001b[A\n",
      " 30%|████████████████████████▏                                                       | 121/401 [03:26<07:10,  1.54s/it]\u001b[A\n",
      " 30%|████████████████████████▎                                                       | 122/401 [03:27<07:30,  1.61s/it]\u001b[A\n",
      " 31%|████████████████████████▌                                                       | 123/401 [03:29<07:29,  1.62s/it]\u001b[A\n",
      " 31%|████████████████████████▋                                                       | 124/401 [03:30<07:15,  1.57s/it]\u001b[A\n",
      " 31%|████████████████████████▉                                                       | 125/401 [03:32<07:35,  1.65s/it]\u001b[A\n",
      " 31%|█████████████████████████▏                                                      | 126/401 [03:34<07:10,  1.57s/it]\u001b[A\n",
      " 32%|█████████████████████████▎                                                      | 127/401 [03:35<07:13,  1.58s/it]\u001b[A\n",
      " 32%|█████████████████████████▌                                                      | 128/401 [03:37<07:37,  1.68s/it]\u001b[A\n",
      " 32%|█████████████████████████▋                                                      | 129/401 [03:39<07:24,  1.64s/it]\u001b[A\n",
      " 32%|█████████████████████████▉                                                      | 130/401 [03:40<07:11,  1.59s/it]\u001b[A\n",
      " 33%|██████████████████████████▏                                                     | 131/401 [03:42<06:59,  1.55s/it]\u001b[A\n"
     ]
    },
    {
     "name": "stderr",
     "output_type": "stream",
     "text": [
      " 33%|██████████████████████████▎                                                     | 132/401 [03:43<07:13,  1.61s/it]\u001b[A\n",
      " 33%|██████████████████████████▌                                                     | 133/401 [03:45<07:07,  1.60s/it]\u001b[A\n",
      " 33%|██████████████████████████▋                                                     | 134/401 [03:47<07:06,  1.60s/it]\u001b[A\n",
      " 34%|██████████████████████████▉                                                     | 135/401 [03:49<07:56,  1.79s/it]\u001b[A\n",
      " 34%|███████████████████████████▏                                                    | 136/401 [03:51<07:48,  1.77s/it]\u001b[A\n",
      " 34%|███████████████████████████▎                                                    | 137/401 [03:52<07:21,  1.67s/it]\u001b[A\n",
      " 34%|███████████████████████████▌                                                    | 138/401 [03:53<07:02,  1.61s/it]\u001b[A\n",
      " 35%|███████████████████████████▋                                                    | 139/401 [03:55<06:50,  1.57s/it]\u001b[A\n",
      " 35%|███████████████████████████▉                                                    | 140/401 [03:56<06:45,  1.55s/it]\u001b[A\n",
      " 35%|████████████████████████████▏                                                   | 141/401 [03:58<06:13,  1.44s/it]\u001b[A\n",
      " 35%|████████████████████████████▎                                                   | 142/401 [03:59<06:00,  1.39s/it]\u001b[A\n",
      " 36%|████████████████████████████▌                                                   | 143/401 [04:00<05:37,  1.31s/it]\u001b[A\n",
      " 36%|████████████████████████████▋                                                   | 144/401 [04:02<06:21,  1.48s/it]\u001b[A\n",
      " 36%|████████████████████████████▉                                                   | 145/401 [04:04<06:33,  1.54s/it]\u001b[A\n",
      " 36%|█████████████████████████████▏                                                  | 146/401 [04:05<06:20,  1.49s/it]\u001b[A\n",
      " 37%|█████████████████████████████▎                                                  | 147/401 [04:07<06:40,  1.57s/it]\u001b[A\n",
      " 37%|█████████████████████████████▌                                                  | 148/401 [04:08<06:27,  1.53s/it]\u001b[A\n",
      " 37%|█████████████████████████████▋                                                  | 149/401 [04:10<06:27,  1.54s/it]\u001b[A\n",
      " 37%|█████████████████████████████▉                                                  | 150/401 [04:11<06:29,  1.55s/it]\u001b[A\n",
      " 38%|██████████████████████████████                                                  | 151/401 [04:13<06:37,  1.59s/it]\u001b[A\n",
      " 38%|██████████████████████████████▎                                                 | 152/401 [04:15<06:37,  1.60s/it]\u001b[A\n",
      " 38%|██████████████████████████████▌                                                 | 153/401 [04:16<06:51,  1.66s/it]\u001b[A\n",
      " 38%|██████████████████████████████▋                                                 | 154/401 [04:18<06:29,  1.58s/it]\u001b[A\n",
      " 39%|██████████████████████████████▉                                                 | 155/401 [04:20<06:42,  1.64s/it]\u001b[A\n",
      " 39%|███████████████████████████████                                                 | 156/401 [04:21<06:29,  1.59s/it]\u001b[A\n",
      " 39%|███████████████████████████████▎                                                | 157/401 [04:23<06:33,  1.61s/it]\u001b[A\n",
      " 39%|███████████████████████████████▌                                                | 158/401 [04:24<06:14,  1.54s/it]\u001b[A\n",
      " 40%|███████████████████████████████▋                                                | 159/401 [04:26<06:44,  1.67s/it]\u001b[A\n",
      " 40%|███████████████████████████████▉                                                | 160/401 [04:28<06:32,  1.63s/it]\u001b[A\n",
      " 40%|████████████████████████████████                                                | 161/401 [04:29<06:15,  1.56s/it]\u001b[A\n",
      " 40%|████████████████████████████████▎                                               | 162/401 [04:30<06:06,  1.53s/it]\u001b[A\n",
      " 41%|████████████████████████████████▌                                               | 163/401 [04:32<05:57,  1.50s/it]\u001b[A\n",
      " 41%|████████████████████████████████▋                                               | 164/401 [04:33<05:49,  1.48s/it]\u001b[A\n",
      " 41%|████████████████████████████████▉                                               | 165/401 [04:35<06:03,  1.54s/it]\u001b[A\n",
      " 41%|█████████████████████████████████                                               | 166/401 [04:37<06:21,  1.62s/it]\u001b[A\n",
      " 42%|█████████████████████████████████▎                                              | 167/401 [04:38<06:01,  1.54s/it]\u001b[A\n",
      " 42%|█████████████████████████████████▌                                              | 168/401 [04:40<06:01,  1.55s/it]\u001b[A\n",
      " 42%|█████████████████████████████████▋                                              | 169/401 [04:41<05:58,  1.54s/it]\u001b[A\n",
      " 42%|█████████████████████████████████▉                                              | 170/401 [04:43<06:11,  1.61s/it]\u001b[A\n",
      " 43%|██████████████████████████████████                                              | 171/401 [04:44<05:53,  1.54s/it]\u001b[A\n",
      " 43%|██████████████████████████████████▎                                             | 172/401 [04:46<05:53,  1.54s/it]\u001b[A\n",
      " 43%|██████████████████████████████████▌                                             | 173/401 [04:48<05:58,  1.57s/it]\u001b[A\n",
      " 43%|██████████████████████████████████▋                                             | 174/401 [04:49<05:44,  1.52s/it]\u001b[A\n",
      " 44%|██████████████████████████████████▉                                             | 175/401 [04:50<05:36,  1.49s/it]\u001b[A\n",
      " 44%|███████████████████████████████████                                             | 176/401 [04:52<05:26,  1.45s/it]\u001b[A\n",
      " 44%|███████████████████████████████████▎                                            | 177/401 [04:53<05:40,  1.52s/it]\u001b[A\n",
      " 44%|███████████████████████████████████▌                                            | 178/401 [04:56<06:26,  1.73s/it]\u001b[A\n",
      " 45%|███████████████████████████████████▋                                            | 179/401 [04:57<05:49,  1.58s/it]\u001b[A\n",
      " 45%|███████████████████████████████████▉                                            | 180/401 [04:59<06:05,  1.65s/it]\u001b[A\n",
      " 45%|████████████████████████████████████                                            | 181/401 [05:00<05:50,  1.59s/it]\u001b[A\n",
      " 45%|████████████████████████████████████▎                                           | 182/401 [05:02<06:15,  1.71s/it]\u001b[A\n",
      " 46%|████████████████████████████████████▌                                           | 183/401 [05:04<05:51,  1.61s/it]\u001b[A\n",
      " 46%|████████████████████████████████████▋                                           | 184/401 [05:06<06:23,  1.77s/it]\u001b[A\n",
      " 46%|████████████████████████████████████▉                                           | 185/401 [05:07<05:54,  1.64s/it]\u001b[A\n",
      " 46%|█████████████████████████████████████                                           | 186/401 [05:09<06:08,  1.71s/it]\u001b[A\n",
      " 47%|█████████████████████████████████████▎                                          | 187/401 [05:10<05:48,  1.63s/it]\u001b[A\n",
      " 47%|█████████████████████████████████████▌                                          | 188/401 [05:12<05:23,  1.52s/it]\u001b[A\n",
      " 47%|█████████████████████████████████████▋                                          | 189/401 [05:13<05:29,  1.56s/it]\u001b[A\n",
      " 47%|█████████████████████████████████████▉                                          | 190/401 [05:15<05:44,  1.63s/it]\u001b[A\n",
      " 48%|██████████████████████████████████████                                          | 191/401 [05:16<05:24,  1.54s/it]\u001b[A\n",
      " 48%|██████████████████████████████████████▎                                         | 192/401 [05:18<05:21,  1.54s/it]\u001b[A\n",
      " 48%|██████████████████████████████████████▌                                         | 193/401 [05:19<05:06,  1.47s/it]\u001b[A\n",
      " 48%|██████████████████████████████████████▋                                         | 194/401 [05:21<05:28,  1.59s/it]\u001b[A\n",
      " 49%|██████████████████████████████████████▉                                         | 195/401 [05:22<05:17,  1.54s/it]\u001b[A\n",
      " 49%|███████████████████████████████████████                                         | 196/401 [05:24<05:17,  1.55s/it]\u001b[A\n",
      " 49%|███████████████████████████████████████▎                                        | 197/401 [05:25<05:07,  1.51s/it]\u001b[A\n"
     ]
    },
    {
     "name": "stderr",
     "output_type": "stream",
     "text": [
      " 49%|███████████████████████████████████████▌                                        | 198/401 [05:27<05:05,  1.50s/it]\u001b[A\n",
      " 50%|███████████████████████████████████████▋                                        | 199/401 [05:29<05:18,  1.58s/it]\u001b[A\n",
      " 50%|███████████████████████████████████████▉                                        | 200/401 [05:31<05:29,  1.64s/it]\u001b[A\n",
      " 50%|████████████████████████████████████████                                        | 201/401 [05:33<05:49,  1.75s/it]\u001b[A\n",
      " 50%|████████████████████████████████████████▎                                       | 202/401 [05:34<05:29,  1.66s/it]\u001b[A\n",
      " 51%|████████████████████████████████████████▍                                       | 203/401 [05:36<05:33,  1.68s/it]\u001b[A\n",
      " 51%|████████████████████████████████████████▋                                       | 204/401 [05:37<05:22,  1.64s/it]\u001b[A\n",
      " 51%|████████████████████████████████████████▉                                       | 205/401 [05:39<05:06,  1.56s/it]\u001b[A\n",
      " 51%|█████████████████████████████████████████                                       | 206/401 [05:40<05:04,  1.56s/it]\u001b[A\n",
      " 52%|█████████████████████████████████████████▎                                      | 207/401 [05:42<04:54,  1.52s/it]\u001b[A\n",
      " 52%|█████████████████████████████████████████▍                                      | 208/401 [05:43<04:49,  1.50s/it]\u001b[A\n",
      " 52%|█████████████████████████████████████████▋                                      | 209/401 [05:45<04:46,  1.49s/it]\u001b[A\n",
      " 52%|█████████████████████████████████████████▉                                      | 210/401 [05:46<05:10,  1.62s/it]\u001b[A\n",
      " 53%|██████████████████████████████████████████                                      | 211/401 [05:48<04:41,  1.48s/it]\u001b[A\n",
      " 53%|██████████████████████████████████████████▎                                     | 212/401 [05:49<04:27,  1.41s/it]\u001b[A\n",
      " 53%|██████████████████████████████████████████▍                                     | 213/401 [05:50<04:18,  1.38s/it]\u001b[A\n",
      " 53%|██████████████████████████████████████████▋                                     | 214/401 [05:52<04:33,  1.46s/it]\u001b[A\n",
      " 54%|██████████████████████████████████████████▉                                     | 215/401 [05:53<04:43,  1.52s/it]\u001b[A\n",
      " 54%|███████████████████████████████████████████                                     | 216/401 [05:55<04:45,  1.54s/it]\u001b[A\n",
      " 54%|███████████████████████████████████████████▎                                    | 217/401 [05:56<04:31,  1.48s/it]\u001b[A\n",
      " 54%|███████████████████████████████████████████▍                                    | 218/401 [05:58<04:55,  1.62s/it]\u001b[A\n",
      " 55%|███████████████████████████████████████████▋                                    | 219/401 [06:00<04:47,  1.58s/it]\u001b[A\n",
      " 55%|███████████████████████████████████████████▉                                    | 220/401 [06:02<05:00,  1.66s/it]\u001b[A\n",
      " 55%|████████████████████████████████████████████                                    | 221/401 [06:03<04:49,  1.61s/it]\u001b[A\n",
      " 55%|████████████████████████████████████████████▎                                   | 222/401 [06:05<04:43,  1.58s/it]\u001b[A\n",
      " 56%|████████████████████████████████████████████▍                                   | 223/401 [06:06<04:36,  1.55s/it]\u001b[A\n",
      " 56%|████████████████████████████████████████████▋                                   | 224/401 [06:08<04:43,  1.60s/it]\u001b[A\n",
      " 56%|████████████████████████████████████████████▉                                   | 225/401 [06:10<04:46,  1.63s/it]\u001b[A\n",
      " 56%|█████████████████████████████████████████████                                   | 226/401 [06:11<04:25,  1.52s/it]\u001b[A\n",
      " 57%|█████████████████████████████████████████████▎                                  | 227/401 [06:12<04:25,  1.52s/it]\u001b[A\n",
      " 57%|█████████████████████████████████████████████▍                                  | 228/401 [06:14<04:20,  1.51s/it]\u001b[A\n",
      " 57%|█████████████████████████████████████████████▋                                  | 229/401 [06:16<04:37,  1.61s/it]\u001b[A\n",
      " 57%|█████████████████████████████████████████████▉                                  | 230/401 [06:18<04:47,  1.68s/it]\u001b[A\n",
      " 58%|██████████████████████████████████████████████                                  | 231/401 [06:19<04:35,  1.62s/it]\u001b[A\n",
      " 58%|██████████████████████████████████████████████▎                                 | 232/401 [06:21<04:50,  1.72s/it]\u001b[A\n",
      " 58%|██████████████████████████████████████████████▍                                 | 233/401 [06:22<04:39,  1.67s/it]\u001b[A\n",
      " 58%|██████████████████████████████████████████████▋                                 | 234/401 [06:25<04:57,  1.78s/it]\u001b[A\n",
      " 59%|██████████████████████████████████████████████▉                                 | 235/401 [06:26<04:38,  1.68s/it]\u001b[A\n",
      " 59%|███████████████████████████████████████████████                                 | 236/401 [06:27<04:24,  1.60s/it]\u001b[A\n",
      " 59%|███████████████████████████████████████████████▎                                | 237/401 [06:29<04:17,  1.57s/it]\u001b[A\n",
      " 59%|███████████████████████████████████████████████▍                                | 238/401 [06:31<04:17,  1.58s/it]\u001b[A\n",
      " 60%|███████████████████████████████████████████████▋                                | 239/401 [06:32<04:09,  1.54s/it]\u001b[A\n",
      " 60%|███████████████████████████████████████████████▉                                | 240/401 [06:34<04:15,  1.58s/it]\u001b[A\n",
      " 60%|████████████████████████████████████████████████                                | 241/401 [06:35<04:18,  1.62s/it]\u001b[A\n",
      " 60%|████████████████████████████████████████████████▎                               | 242/401 [06:37<04:07,  1.55s/it]\u001b[A\n",
      " 61%|████████████████████████████████████████████████▍                               | 243/401 [06:38<04:00,  1.52s/it]\u001b[A\n",
      " 61%|████████████████████████████████████████████████▋                               | 244/401 [06:40<04:10,  1.59s/it]\u001b[A\n",
      " 61%|████████████████████████████████████████████████▉                               | 245/401 [06:42<04:28,  1.72s/it]\u001b[A\n",
      " 61%|█████████████████████████████████████████████████                               | 246/401 [06:44<04:19,  1.68s/it]\u001b[A\n",
      " 62%|█████████████████████████████████████████████████▎                              | 247/401 [06:45<04:15,  1.66s/it]\u001b[A\n",
      " 62%|█████████████████████████████████████████████████▍                              | 248/401 [06:47<04:18,  1.69s/it]\u001b[A\n",
      " 62%|█████████████████████████████████████████████████▋                              | 249/401 [06:49<04:18,  1.70s/it]\u001b[A\n",
      " 62%|█████████████████████████████████████████████████▉                              | 250/401 [06:50<04:02,  1.61s/it]\u001b[A\n",
      " 63%|██████████████████████████████████████████████████                              | 251/401 [06:52<04:06,  1.64s/it]\u001b[A\n",
      " 63%|██████████████████████████████████████████████████▎                             | 252/401 [06:54<04:11,  1.69s/it]\u001b[A\n",
      " 63%|██████████████████████████████████████████████████▍                             | 253/401 [06:55<04:01,  1.63s/it]\u001b[A\n",
      " 63%|██████████████████████████████████████████████████▋                             | 254/401 [06:56<03:50,  1.56s/it]\u001b[A\n",
      " 64%|██████████████████████████████████████████████████▊                             | 255/401 [06:58<03:58,  1.63s/it]\u001b[A\n",
      " 64%|███████████████████████████████████████████████████                             | 256/401 [07:00<03:41,  1.53s/it]\u001b[A\n",
      " 64%|███████████████████████████████████████████████████▎                            | 257/401 [07:01<03:43,  1.55s/it]\u001b[A\n",
      " 64%|███████████████████████████████████████████████████▍                            | 258/401 [07:03<03:56,  1.66s/it]\u001b[A\n",
      " 65%|███████████████████████████████████████████████████▋                            | 259/401 [07:04<03:37,  1.53s/it]\u001b[A\n",
      " 65%|███████████████████████████████████████████████████▊                            | 260/401 [07:06<03:34,  1.52s/it]\u001b[A\n",
      " 65%|████████████████████████████████████████████████████                            | 261/401 [07:07<03:31,  1.51s/it]\u001b[A\n",
      " 65%|████████████████████████████████████████████████████▎                           | 262/401 [07:09<03:41,  1.59s/it]\u001b[A\n",
      " 66%|████████████████████████████████████████████████████▍                           | 263/401 [07:10<03:25,  1.49s/it]\u001b[A\n"
     ]
    },
    {
     "name": "stderr",
     "output_type": "stream",
     "text": [
      " 66%|████████████████████████████████████████████████████▋                           | 264/401 [07:12<03:12,  1.40s/it]\u001b[A\n",
      " 66%|████████████████████████████████████████████████████▊                           | 265/401 [07:13<03:19,  1.46s/it]\u001b[A\n",
      " 66%|█████████████████████████████████████████████████████                           | 266/401 [07:15<03:19,  1.48s/it]\u001b[A\n",
      " 67%|█████████████████████████████████████████████████████▎                          | 267/401 [07:16<03:09,  1.41s/it]\u001b[A\n",
      " 67%|█████████████████████████████████████████████████████▍                          | 268/401 [07:17<03:09,  1.43s/it]\u001b[A\n",
      " 67%|█████████████████████████████████████████████████████▋                          | 269/401 [07:19<03:11,  1.45s/it]\u001b[A\n",
      " 67%|█████████████████████████████████████████████████████▊                          | 270/401 [07:20<03:16,  1.50s/it]\u001b[A\n",
      " 68%|██████████████████████████████████████████████████████                          | 271/401 [07:22<03:22,  1.56s/it]\u001b[A\n",
      " 68%|██████████████████████████████████████████████████████▎                         | 272/401 [07:24<03:20,  1.56s/it]\u001b[A\n",
      " 68%|██████████████████████████████████████████████████████▍                         | 273/401 [07:25<03:20,  1.56s/it]\u001b[A\n",
      " 68%|██████████████████████████████████████████████████████▋                         | 274/401 [07:27<03:07,  1.48s/it]\u001b[A\n",
      " 69%|██████████████████████████████████████████████████████▊                         | 275/401 [07:28<03:08,  1.49s/it]\u001b[A\n",
      " 69%|███████████████████████████████████████████████████████                         | 276/401 [07:30<03:28,  1.67s/it]\u001b[A\n",
      " 69%|███████████████████████████████████████████████████████▎                        | 277/401 [07:32<03:23,  1.64s/it]\u001b[A\n",
      " 69%|███████████████████████████████████████████████████████▍                        | 278/401 [07:33<03:17,  1.60s/it]\u001b[A\n",
      " 70%|███████████████████████████████████████████████████████▋                        | 279/401 [07:35<03:09,  1.55s/it]\u001b[A\n",
      " 70%|███████████████████████████████████████████████████████▊                        | 280/401 [07:37<03:33,  1.76s/it]\u001b[A\n",
      " 70%|████████████████████████████████████████████████████████                        | 281/401 [07:39<03:24,  1.71s/it]\u001b[A\n",
      " 70%|████████████████████████████████████████████████████████▎                       | 282/401 [07:40<03:13,  1.62s/it]\u001b[A\n",
      " 71%|████████████████████████████████████████████████████████▍                       | 283/401 [07:42<03:08,  1.59s/it]\u001b[A\n",
      " 71%|████████████████████████████████████████████████████████▋                       | 284/401 [07:43<03:09,  1.62s/it]\u001b[A\n",
      " 71%|████████████████████████████████████████████████████████▊                       | 285/401 [07:45<03:08,  1.62s/it]\u001b[A\n",
      " 71%|█████████████████████████████████████████████████████████                       | 286/401 [07:47<03:10,  1.66s/it]\u001b[A\n",
      " 72%|█████████████████████████████████████████████████████████▎                      | 287/401 [07:48<02:56,  1.55s/it]\u001b[A\n",
      " 72%|█████████████████████████████████████████████████████████▍                      | 288/401 [07:50<03:00,  1.60s/it]\u001b[A\n",
      " 72%|█████████████████████████████████████████████████████████▋                      | 289/401 [07:51<02:59,  1.61s/it]\u001b[A\n",
      " 72%|█████████████████████████████████████████████████████████▊                      | 290/401 [07:52<02:44,  1.48s/it]\u001b[A\n",
      " 73%|██████████████████████████████████████████████████████████                      | 291/401 [07:54<02:50,  1.55s/it]\u001b[A\n",
      " 73%|██████████████████████████████████████████████████████████▎                     | 292/401 [07:56<02:49,  1.55s/it]\u001b[A\n",
      " 73%|██████████████████████████████████████████████████████████▍                     | 293/401 [07:57<02:49,  1.57s/it]\u001b[A\n",
      " 73%|██████████████████████████████████████████████████████████▋                     | 294/401 [07:59<02:37,  1.47s/it]\u001b[A\n",
      " 74%|██████████████████████████████████████████████████████████▊                     | 295/401 [08:00<02:28,  1.40s/it]\u001b[A\n",
      " 74%|███████████████████████████████████████████████████████████                     | 296/401 [08:01<02:33,  1.46s/it]\u001b[A\n",
      " 74%|███████████████████████████████████████████████████████████▎                    | 297/401 [08:03<02:24,  1.38s/it]\u001b[A\n",
      " 74%|███████████████████████████████████████████████████████████▍                    | 298/401 [08:04<02:26,  1.42s/it]\u001b[A\n",
      " 75%|███████████████████████████████████████████████████████████▋                    | 299/401 [08:05<02:24,  1.41s/it]\u001b[A\n",
      " 75%|███████████████████████████████████████████████████████████▊                    | 300/401 [08:07<02:30,  1.49s/it]\u001b[A\n",
      " 75%|████████████████████████████████████████████████████████████                    | 301/401 [08:09<02:29,  1.49s/it]\u001b[A\n",
      " 75%|████████████████████████████████████████████████████████████▏                   | 302/401 [08:10<02:33,  1.55s/it]\u001b[A\n",
      " 76%|████████████████████████████████████████████████████████████▍                   | 303/401 [08:12<02:37,  1.61s/it]\u001b[A\n",
      " 76%|████████████████████████████████████████████████████████████▋                   | 304/401 [08:13<02:27,  1.52s/it]\u001b[A\n",
      " 76%|████████████████████████████████████████████████████████████▊                   | 305/401 [08:15<02:21,  1.47s/it]\u001b[A\n",
      " 76%|█████████████████████████████████████████████████████████████                   | 306/401 [08:16<02:27,  1.55s/it]\u001b[A\n",
      " 77%|█████████████████████████████████████████████████████████████▏                  | 307/401 [08:18<02:26,  1.56s/it]\u001b[A\n",
      " 77%|█████████████████████████████████████████████████████████████▍                  | 308/401 [08:20<02:24,  1.56s/it]\u001b[A\n",
      " 77%|█████████████████████████████████████████████████████████████▋                  | 309/401 [08:21<02:18,  1.51s/it]\u001b[A\n",
      " 77%|█████████████████████████████████████████████████████████████▊                  | 310/401 [08:22<02:13,  1.47s/it]\u001b[A\n",
      " 78%|██████████████████████████████████████████████████████████████                  | 311/401 [08:24<02:10,  1.45s/it]\u001b[A\n",
      " 78%|██████████████████████████████████████████████████████████████▏                 | 312/401 [08:25<02:07,  1.44s/it]\u001b[A\n",
      " 78%|██████████████████████████████████████████████████████████████▍                 | 313/401 [08:27<02:13,  1.52s/it]\u001b[A\n",
      " 78%|██████████████████████████████████████████████████████████████▋                 | 314/401 [08:29<02:17,  1.58s/it]\u001b[A\n",
      " 79%|██████████████████████████████████████████████████████████████▊                 | 315/401 [08:30<02:11,  1.53s/it]\u001b[A\n",
      " 79%|███████████████████████████████████████████████████████████████                 | 316/401 [08:31<02:01,  1.43s/it]\u001b[A\n",
      " 79%|███████████████████████████████████████████████████████████████▏                | 317/401 [08:33<02:03,  1.47s/it]\u001b[A\n",
      " 79%|███████████████████████████████████████████████████████████████▍                | 318/401 [08:34<02:06,  1.52s/it]\u001b[A\n",
      " 80%|███████████████████████████████████████████████████████████████▋                | 319/401 [08:36<01:59,  1.45s/it]\u001b[A\n",
      " 80%|███████████████████████████████████████████████████████████████▊                | 320/401 [08:37<02:05,  1.55s/it]\u001b[A\n",
      " 80%|████████████████████████████████████████████████████████████████                | 321/401 [08:39<02:02,  1.53s/it]\u001b[A\n",
      " 80%|████████████████████████████████████████████████████████████████▏               | 322/401 [08:41<02:01,  1.54s/it]\u001b[A\n",
      " 81%|████████████████████████████████████████████████████████████████▍               | 323/401 [08:42<01:57,  1.50s/it]\u001b[A\n",
      " 81%|████████████████████████████████████████████████████████████████▋               | 324/401 [08:44<02:00,  1.57s/it]\u001b[A\n",
      " 81%|████████████████████████████████████████████████████████████████▊               | 325/401 [08:45<01:52,  1.48s/it]\u001b[A\n",
      " 81%|█████████████████████████████████████████████████████████████████               | 326/401 [08:46<01:46,  1.42s/it]\u001b[A\n",
      " 82%|█████████████████████████████████████████████████████████████████▏              | 327/401 [08:48<01:44,  1.41s/it]\u001b[A\n",
      " 82%|█████████████████████████████████████████████████████████████████▍              | 328/401 [08:49<01:50,  1.52s/it]\u001b[A\n",
      " 82%|█████████████████████████████████████████████████████████████████▋              | 329/401 [08:51<01:56,  1.62s/it]\u001b[A\n"
     ]
    },
    {
     "name": "stderr",
     "output_type": "stream",
     "text": [
      " 82%|█████████████████████████████████████████████████████████████████▊              | 330/401 [08:53<01:50,  1.56s/it]\u001b[A\n",
      " 83%|██████████████████████████████████████████████████████████████████              | 331/401 [08:54<01:41,  1.45s/it]\u001b[A\n",
      " 83%|██████████████████████████████████████████████████████████████████▏             | 332/401 [08:55<01:36,  1.40s/it]\u001b[A\n",
      " 83%|██████████████████████████████████████████████████████████████████▍             | 333/401 [08:56<01:32,  1.37s/it]\u001b[A\n",
      " 83%|██████████████████████████████████████████████████████████████████▋             | 334/401 [08:58<01:31,  1.36s/it]\u001b[A\n",
      " 84%|██████████████████████████████████████████████████████████████████▊             | 335/401 [09:00<01:39,  1.51s/it]\u001b[A\n",
      " 84%|███████████████████████████████████████████████████████████████████             | 336/401 [09:01<01:36,  1.48s/it]\u001b[A\n",
      " 84%|███████████████████████████████████████████████████████████████████▏            | 337/401 [09:02<01:33,  1.46s/it]\u001b[A\n",
      " 84%|███████████████████████████████████████████████████████████████████▍            | 338/401 [09:04<01:26,  1.38s/it]\u001b[A\n",
      " 85%|███████████████████████████████████████████████████████████████████▋            | 339/401 [09:06<01:45,  1.71s/it]\u001b[A\n",
      " 85%|███████████████████████████████████████████████████████████████████▊            | 340/401 [09:08<01:41,  1.66s/it]\u001b[A\n",
      " 85%|████████████████████████████████████████████████████████████████████            | 341/401 [09:09<01:40,  1.68s/it]\u001b[A\n",
      " 85%|████████████████████████████████████████████████████████████████████▏           | 342/401 [09:11<01:34,  1.60s/it]\u001b[A\n",
      " 86%|████████████████████████████████████████████████████████████████████▍           | 343/401 [09:12<01:29,  1.55s/it]\u001b[A\n",
      " 86%|████████████████████████████████████████████████████████████████████▋           | 344/401 [09:15<01:44,  1.83s/it]\u001b[A\n",
      " 86%|████████████████████████████████████████████████████████████████████▊           | 345/401 [09:16<01:34,  1.69s/it]\u001b[A\n",
      " 86%|█████████████████████████████████████████████████████████████████████           | 346/401 [09:18<01:34,  1.71s/it]\u001b[A\n",
      " 87%|█████████████████████████████████████████████████████████████████████▏          | 347/401 [09:19<01:26,  1.60s/it]\u001b[A\n",
      " 87%|█████████████████████████████████████████████████████████████████████▍          | 348/401 [09:21<01:27,  1.65s/it]\u001b[A\n",
      " 87%|█████████████████████████████████████████████████████████████████████▋          | 349/401 [09:23<01:26,  1.67s/it]\u001b[A\n",
      " 87%|█████████████████████████████████████████████████████████████████████▊          | 350/401 [09:24<01:24,  1.66s/it]\u001b[A\n",
      " 88%|██████████████████████████████████████████████████████████████████████          | 351/401 [09:26<01:24,  1.68s/it]\u001b[A\n",
      " 88%|██████████████████████████████████████████████████████████████████████▏         | 352/401 [09:27<01:16,  1.57s/it]\u001b[A\n",
      " 88%|██████████████████████████████████████████████████████████████████████▍         | 353/401 [09:29<01:13,  1.53s/it]\u001b[A\n",
      " 88%|██████████████████████████████████████████████████████████████████████▌         | 354/401 [09:30<01:09,  1.47s/it]\u001b[A\n",
      " 89%|██████████████████████████████████████████████████████████████████████▊         | 355/401 [09:32<01:13,  1.61s/it]\u001b[A\n",
      " 89%|███████████████████████████████████████████████████████████████████████         | 356/401 [09:33<01:07,  1.50s/it]\u001b[A\n",
      " 89%|███████████████████████████████████████████████████████████████████████▏        | 357/401 [09:35<01:04,  1.47s/it]\u001b[A\n",
      " 89%|███████████████████████████████████████████████████████████████████████▍        | 358/401 [09:36<00:58,  1.36s/it]\u001b[A\n",
      " 90%|███████████████████████████████████████████████████████████████████████▌        | 359/401 [09:37<00:55,  1.31s/it]\u001b[A\n",
      " 90%|███████████████████████████████████████████████████████████████████████▊        | 360/401 [09:39<00:57,  1.41s/it]\u001b[A\n",
      " 90%|████████████████████████████████████████████████████████████████████████        | 361/401 [09:41<01:04,  1.61s/it]\u001b[A\n",
      " 90%|████████████████████████████████████████████████████████████████████████▏       | 362/401 [09:42<00:58,  1.49s/it]\u001b[A\n",
      " 91%|████████████████████████████████████████████████████████████████████████▍       | 363/401 [09:43<00:55,  1.47s/it]\u001b[A\n",
      " 91%|████████████████████████████████████████████████████████████████████████▌       | 364/401 [09:45<00:54,  1.47s/it]\u001b[A\n",
      " 91%|████████████████████████████████████████████████████████████████████████▊       | 365/401 [09:46<00:51,  1.44s/it]\u001b[A\n",
      " 91%|█████████████████████████████████████████████████████████████████████████       | 366/401 [09:48<00:52,  1.49s/it]\u001b[A\n",
      " 92%|█████████████████████████████████████████████████████████████████████████▏      | 367/401 [09:50<00:55,  1.64s/it]\u001b[A\n",
      " 92%|█████████████████████████████████████████████████████████████████████████▍      | 368/401 [09:51<00:54,  1.64s/it]\u001b[A\n",
      " 92%|█████████████████████████████████████████████████████████████████████████▌      | 369/401 [09:53<00:51,  1.60s/it]\u001b[A\n",
      " 92%|█████████████████████████████████████████████████████████████████████████▊      | 370/401 [09:54<00:46,  1.51s/it]\u001b[A\n",
      " 93%|██████████████████████████████████████████████████████████████████████████      | 371/401 [09:56<00:44,  1.48s/it]\u001b[A\n",
      " 93%|██████████████████████████████████████████████████████████████████████████▏     | 372/401 [09:57<00:40,  1.40s/it]\u001b[A\n",
      " 93%|██████████████████████████████████████████████████████████████████████████▍     | 373/401 [09:58<00:38,  1.39s/it]\u001b[A\n",
      " 93%|██████████████████████████████████████████████████████████████████████████▌     | 374/401 [10:00<00:36,  1.37s/it]\u001b[A\n",
      " 94%|██████████████████████████████████████████████████████████████████████████▊     | 375/401 [10:01<00:34,  1.32s/it]\u001b[A\n",
      " 94%|███████████████████████████████████████████████████████████████████████████     | 376/401 [10:02<00:35,  1.42s/it]\u001b[A\n",
      " 94%|███████████████████████████████████████████████████████████████████████████▏    | 377/401 [10:04<00:38,  1.61s/it]\u001b[A\n",
      " 94%|███████████████████████████████████████████████████████████████████████████▍    | 378/401 [10:06<00:37,  1.64s/it]\u001b[A\n",
      " 95%|███████████████████████████████████████████████████████████████████████████▌    | 379/401 [10:07<00:33,  1.53s/it]\u001b[A\n",
      " 95%|███████████████████████████████████████████████████████████████████████████▊    | 380/401 [10:09<00:33,  1.59s/it]\u001b[A\n",
      " 95%|████████████████████████████████████████████████████████████████████████████    | 381/401 [10:11<00:31,  1.55s/it]\u001b[A\n",
      " 95%|████████████████████████████████████████████████████████████████████████████▏   | 382/401 [10:12<00:28,  1.49s/it]\u001b[A\n",
      " 96%|████████████████████████████████████████████████████████████████████████████▍   | 383/401 [10:13<00:25,  1.44s/it]\u001b[A\n",
      " 96%|████████████████████████████████████████████████████████████████████████████▌   | 384/401 [10:15<00:23,  1.38s/it]\u001b[A\n",
      " 96%|████████████████████████████████████████████████████████████████████████████▊   | 385/401 [10:16<00:21,  1.33s/it]\u001b[A\n",
      " 96%|█████████████████████████████████████████████████████████████████████████████   | 386/401 [10:17<00:20,  1.33s/it]\u001b[A\n",
      " 97%|█████████████████████████████████████████████████████████████████████████████▏  | 387/401 [10:19<00:19,  1.41s/it]\u001b[A\n",
      " 97%|█████████████████████████████████████████████████████████████████████████████▍  | 388/401 [10:20<00:17,  1.37s/it]\u001b[A\n",
      " 97%|█████████████████████████████████████████████████████████████████████████████▌  | 389/401 [10:21<00:15,  1.30s/it]\u001b[A\n",
      " 97%|█████████████████████████████████████████████████████████████████████████████▊  | 390/401 [10:23<00:14,  1.34s/it]\u001b[A\n",
      " 98%|██████████████████████████████████████████████████████████████████████████████  | 391/401 [10:24<00:13,  1.35s/it]\u001b[A\n",
      " 98%|██████████████████████████████████████████████████████████████████████████████▏ | 392/401 [10:25<00:11,  1.28s/it]\u001b[A\n",
      " 98%|██████████████████████████████████████████████████████████████████████████████▍ | 393/401 [10:27<00:10,  1.36s/it]\u001b[A\n",
      " 98%|██████████████████████████████████████████████████████████████████████████████▌ | 394/401 [10:28<00:09,  1.30s/it]\u001b[A\n",
      " 99%|██████████████████████████████████████████████████████████████████████████████▊ | 395/401 [10:29<00:08,  1.34s/it]\u001b[A\n"
     ]
    },
    {
     "name": "stderr",
     "output_type": "stream",
     "text": [
      " 99%|███████████████████████████████████████████████████████████████████████████████ | 396/401 [10:31<00:06,  1.35s/it]\u001b[A\n",
      " 99%|███████████████████████████████████████████████████████████████████████████████▏| 397/401 [10:32<00:05,  1.36s/it]\u001b[A\n",
      " 99%|███████████████████████████████████████████████████████████████████████████████▍| 398/401 [10:33<00:04,  1.41s/it]\u001b[A\n",
      "100%|███████████████████████████████████████████████████████████████████████████████▌| 399/401 [10:35<00:02,  1.44s/it]\u001b[A\n",
      "100%|███████████████████████████████████████████████████████████████████████████████▊| 400/401 [10:37<00:01,  1.51s/it]\u001b[A\n",
      "100%|████████████████████████████████████████████████████████████████████████████████| 401/401 [10:38<00:00,  1.59s/it]\u001b[A\n"
     ]
    }
   ],
   "source": [
    "# Cluster nodes by zone and route_type\n",
    "nodes = []\n",
    "parenthood = []\n",
    "clusters = []\n",
    "links = []\n",
    "for z in tqdm(disagg_nodes['FID'].unique(), total=len(sm.zones)):\n",
    "    for t in disagg_nodes.loc[disagg_nodes['FID']==z, 'route_type'].unique():\n",
    "        n = disagg_nodes.loc[(disagg_nodes['route_type']==t) & (disagg_nodes['FID']==z)]\n",
    "        n_clusters = min(5, max(1, len(sm.nodes.loc[ # Max 5, min 1 cluster\n",
    "            (sm.nodes['FID']==z) & (sm.nodes['route_type'].isin(['rail_long_distance', 'air']))])))\n",
    "        while n_clusters > len(n):\n",
    "            n_clusters -= 1\n",
    "        if n_clusters < 1:\n",
    "            continue\n",
    "        l, centroids, node_clusters, node_parenthood = connectivity.node_clustering(\n",
    "            disagg_links.loc[(disagg_links['a'].isin(n.index)) &\n",
    "                             (disagg_links['b'].isin(n.index))], n, n_clusters)\n",
    "        nodes.append(centroids)\n",
    "        parenthood.append(node_parenthood)\n",
    "        clusters.append(node_clusters)\n",
    "        links.append(l)"
   ]
  },
  {
   "cell_type": "code",
   "execution_count": 32,
   "metadata": {},
   "outputs": [
    {
     "data": {
      "text/plain": [
       "<AxesSubplot:>"
      ]
     },
     "execution_count": 32,
     "metadata": {},
     "output_type": "execute_result"
    },
    {
     "data": {
      "image/png": "[encoded data removed]",
      "text/plain": [
       "<Figure size 432x288 with 1 Axes>"
      ]
     },
     "metadata": {
      "needs_background": "light"
     },
     "output_type": "display_data"
    }
   ],
   "source": [
    "# Coverage\n",
    "gpd.GeoDataFrame(pd.concat(clusters), crs=sm.epsg).plot()"
   ]
  },
  {
   "cell_type": "code",
   "execution_count": 33,
   "metadata": {},
   "outputs": [
    {
     "data": {
      "text/plain": [
       "401"
      ]
     },
     "execution_count": 33,
     "metadata": {},
     "output_type": "execute_result"
    }
   ],
   "source": [
    "# Number of zones with short-distance PT connection\n",
    "len(pd.concat(parenthood)['FID'].unique())"
   ]
  },
  {
   "cell_type": "code",
   "execution_count": 34,
   "metadata": {},
   "outputs": [],
   "source": [
    "# Merge node clusters by group (zone and route_type)\n",
    "agg_nodes = []\n",
    "for i in range(len(nodes)):\n",
    "    agg = gpd.GeoDataFrame(nodes[i], crs=sm.epsg)\n",
    "    agg.index = agg.index.astype(int)\n",
    "    agg = agg.merge(parenthood[i][['FID', 'route_type', 'cluster']].drop_duplicates(),\n",
    "        how='left', left_index=True, right_on='cluster')\n",
    "    agg.index = agg['FID'] + '_' + agg['route_type'] + '_' + agg['cluster'].astype(str)\n",
    "    agg_nodes.append(agg)"
   ]
  },
  {
   "cell_type": "code",
   "execution_count": 35,
   "metadata": {},
   "outputs": [
    {
     "data": {
      "text/html": [
       "<div>\n",
       "<style scoped>\n",
       "    .dataframe tbody tr th:only-of-type {\n",
       "        vertical-align: middle;\n",
       "    }\n",
       "\n",
       "    .dataframe tbody tr th {\n",
       "        vertical-align: top;\n",
       "    }\n",
       "\n",
       "    .dataframe thead th {\n",
       "        text-align: right;\n",
       "    }\n",
       "</style>\n",
       "<table border=\"1\" class=\"dataframe\">\n",
       "  <thead>\n",
       "    <tr style=\"text-align: right;\">\n",
       "      <th></th>\n",
       "      <th>geometry</th>\n",
       "      <th>FID</th>\n",
       "      <th>route_type</th>\n",
       "      <th>cluster</th>\n",
       "    </tr>\n",
       "  </thead>\n",
       "  <tbody>\n",
       "    <tr>\n",
       "      <th>DE928_bus_0</th>\n",
       "      <td>POINT (9.19536 52.27895)</td>\n",
       "      <td>DE928</td>\n",
       "      <td>bus</td>\n",
       "      <td>0</td>\n",
       "    </tr>\n",
       "    <tr>\n",
       "      <th>DE942_rail_short_distance_0</th>\n",
       "      <td>POINT (7.19518 53.36904)</td>\n",
       "      <td>DE942</td>\n",
       "      <td>rail_short_distance</td>\n",
       "      <td>0</td>\n",
       "    </tr>\n",
       "  </tbody>\n",
       "</table>\n",
       "</div>"
      ],
      "text/plain": [
       "                                             geometry    FID  \\\n",
       "DE928_bus_0                  POINT (9.19536 52.27895)  DE928   \n",
       "DE942_rail_short_distance_0  POINT (7.19518 53.36904)  DE942   \n",
       "\n",
       "                                      route_type  cluster  \n",
       "DE928_bus_0                                  bus        0  \n",
       "DE942_rail_short_distance_0  rail_short_distance        0  "
      ]
     },
     "execution_count": 35,
     "metadata": {},
     "output_type": "execute_result"
    }
   ],
   "source": [
    "agg_nodes = gpd.GeoDataFrame(pd.concat(agg_nodes), crs=sm.epsg)\n",
    "agg_nodes.sample(2)"
   ]
  },
  {
   "cell_type": "code",
   "execution_count": 36,
   "metadata": {},
   "outputs": [
    {
     "name": "stdout",
     "output_type": "stream",
     "text": [
      "(865, 4)\n",
      "(849, 4)\n"
     ]
    }
   ],
   "source": [
    "print(agg_nodes.loc[agg_nodes['route_type']=='bus'].shape)\n",
    "print(agg_nodes.loc[agg_nodes['route_type']!='bus'].shape)"
   ]
  },
  {
   "cell_type": "markdown",
   "metadata": {},
   "source": [
    "### Aggregate links within the clustered trips"
   ]
  },
  {
   "cell_type": "code",
   "execution_count": 37,
   "metadata": {},
   "outputs": [
    {
     "data": {
      "text/plain": [
       "<AxesSubplot:>"
      ]
     },
     "execution_count": 37,
     "metadata": {},
     "output_type": "execute_result"
    },
    {
     "data": {
      "image/png": "[encoded data removed]",
      "text/plain": [
       "<Figure size 432x288 with 1 Axes>"
      ]
     },
     "metadata": {
      "needs_background": "light"
     },
     "output_type": "display_data"
    }
   ],
   "source": [
    "# Example: rail short-distance around Aachen\n",
    "gpd.GeoDataFrame(links[0]).plot(alpha=.1,ax=gpd.GeoDataFrame(nodes[0]).plot(\n",
    "    color='r', ax=gpd.GeoDataFrame(sm.zones.loc['DEA2D']).T.plot(color='g', alpha=.2)))"
   ]
  },
  {
   "cell_type": "code",
   "execution_count": 38,
   "metadata": {},
   "outputs": [],
   "source": [
    "def aggregate_links(links, parents):\n",
    "    links = links.sort_values(['trip_id', 'link_sequence'])\n",
    "    l = links.loc[links['a']!=links['b']].copy()\n",
    "    if len(l) == 0:\n",
    "        return # Cluster is fully irrelevant\n",
    "    # Correct geometry\n",
    "    c_dict = parents.groupby('cluster').head(1).set_index(\n",
    "        'cluster')['geometry_centroid'].to_dict()\n",
    "    l['geometry'] = [geometry.LineString([c_dict[int(a)], c_dict[int(b)]])\n",
    "                     for a, b in zip(l['a'], l['b'])]\n",
    "    # Set a distance\n",
    "    l['length'] = l['geometry'].apply(lambda l: int(geodesic(l.coords[0], l.coords[-1]).m))\n",
    "    # Aggregate time\n",
    "    def within_time(trip):\n",
    "        ident = trip['trip_id'].unique()[0]\n",
    "        times = []\n",
    "        prev_seq = 0\n",
    "        for seq in trip['link_sequence']:\n",
    "            times.append(int(links.loc[\n",
    "                (links['link_sequence']>prev_seq) &\n",
    "                (links['link_sequence']<=seq) &\n",
    "                (links['trip_id']==ident), 'time'].sum()))\n",
    "            prev_seq = seq\n",
    "        l.loc[l['trip_id']==ident, 'time'] = times\n",
    "    l.groupby('trip_id').apply(within_time)\n",
    "    # Rename a and b as in agg_nodes\n",
    "    prefix = parents['FID'].unique()[0] + '_' + parents['route_type'].unique()[0] + '_'\n",
    "    l['a'] = prefix + l['a']\n",
    "    l['b'] = prefix + l['b']\n",
    "    return l"
   ]
  },
  {
   "cell_type": "code",
   "execution_count": 39,
   "metadata": {},
   "outputs": [
    {
     "name": "stderr",
     "output_type": "stream",
     "text": [
      "\n",
      "  0%|                                                                                          | 0/802 [00:00<?, ?it/s]\u001b[A\n",
      "  0%|                                                                                  | 1/802 [00:00<07:36,  1.75it/s]\u001b[A\n",
      "  0%|▏                                                                                 | 2/802 [00:09<39:35,  2.97s/it]\u001b[A\n",
      "  0%|▎                                                                                 | 3/802 [00:09<29:05,  2.18s/it]\u001b[A\n",
      "  0%|▍                                                                                 | 4/802 [00:11<28:48,  2.17s/it]\u001b[A\n",
      "  1%|█                                                                                | 11/802 [00:12<20:27,  1.55s/it]\u001b[A\n",
      "  1%|█▏                                                                               | 12/802 [00:13<20:00,  1.52s/it]\u001b[A\n",
      "  2%|█▎                                                                               | 13/802 [00:14<14:42,  1.12s/it]\u001b[A\n",
      "  2%|█▍                                                                               | 14/802 [00:14<11:46,  1.12it/s]\u001b[A\n",
      "  2%|█▌                                                                               | 16/802 [00:14<08:39,  1.51it/s]\u001b[A\n",
      "  2%|█▉                                                                               | 19/802 [00:14<06:18,  2.07it/s]\u001b[A\n",
      "  2%|██                                                                               | 20/802 [00:15<08:43,  1.50it/s]\u001b[A\n",
      "  3%|██▏                                                                              | 22/802 [00:17<08:31,  1.52it/s]\u001b[A\n",
      "  3%|██▋                                                                              | 26/802 [00:17<06:13,  2.08it/s]\u001b[A\n",
      "  4%|███▎                                                                             | 33/802 [00:17<04:22,  2.93it/s]\u001b[A\n",
      "  5%|████▏                                                                            | 41/802 [00:17<03:11,  3.98it/s]\u001b[A\n",
      "  5%|████▍                                                                            | 44/802 [00:19<04:46,  2.65it/s]\u001b[A\n",
      "  6%|████▋                                                                            | 46/802 [00:20<04:09,  3.03it/s]\u001b[A\n",
      "  6%|████▊                                                                            | 48/802 [00:26<13:42,  1.09s/it]\u001b[A\n",
      "  6%|█████▎                                                                           | 52/802 [00:26<09:49,  1.27it/s]\u001b[A\n",
      "  7%|█████▌                                                                           | 55/802 [00:30<12:22,  1.01it/s]\u001b[A\n",
      "  7%|█████▌                                                                         | 56/802 [00:46<1:06:35,  5.36s/it]\u001b[A\n",
      "  7%|█████▊                                                                           | 57/802 [00:46<47:17,  3.81s/it]\u001b[A\n",
      "  7%|█████▊                                                                           | 58/802 [00:47<36:13,  2.92s/it]\u001b[A\n",
      "  8%|██████▌                                                                          | 65/802 [00:47<25:17,  2.06s/it]\u001b[A\n",
      "  8%|██████▋                                                                          | 66/802 [00:47<18:19,  1.49s/it]\u001b[A\n",
      "  9%|██████▉                                                                          | 69/802 [00:48<12:57,  1.06s/it]\u001b[A\n",
      "  9%|███████▏                                                                         | 71/802 [00:48<10:15,  1.19it/s]\u001b[A\n",
      "  9%|███████▎                                                                         | 73/802 [00:49<07:53,  1.54it/s]\u001b[A\n",
      "  9%|███████▍                                                                         | 74/802 [00:49<06:44,  1.80it/s]\u001b[A\n",
      " 11%|████████▊                                                                        | 87/802 [00:50<04:47,  2.49it/s]\u001b[A\n",
      " 11%|████████▉                                                                        | 89/802 [00:50<03:49,  3.11it/s]\u001b[A\n",
      " 11%|█████████                                                                        | 90/802 [00:50<04:27,  2.66it/s]\u001b[A\n",
      " 11%|█████████▏                                                                       | 91/802 [00:51<04:00,  2.95it/s]\u001b[A\n",
      " 11%|█████████▎                                                                       | 92/802 [00:52<07:21,  1.61it/s]\u001b[A\n",
      " 12%|█████████▍                                                                       | 93/802 [00:52<05:47,  2.04it/s]\u001b[A\n",
      " 12%|█████████▍                                                                       | 94/802 [00:53<07:11,  1.64it/s]\u001b[A\n",
      " 12%|█████████▌                                                                       | 95/802 [00:53<06:51,  1.72it/s]\u001b[A\n",
      " 12%|█████████▋                                                                       | 96/802 [00:54<07:47,  1.51it/s]\u001b[A\n",
      " 13%|██████████▎                                                                     | 103/802 [00:55<05:33,  2.09it/s]\u001b[A\n",
      " 13%|██████████▎                                                                     | 104/802 [00:56<08:36,  1.35it/s]\u001b[A\n",
      " 14%|███████████▎                                                                    | 113/802 [00:57<06:17,  1.83it/s]\u001b[A\n",
      " 14%|███████████▎                                                                    | 114/802 [00:58<09:22,  1.22it/s]\u001b[A\n",
      " 15%|███████████▋                                                                    | 117/802 [00:58<06:38,  1.72it/s]\u001b[A\n",
      " 15%|███████████▊                                                                    | 119/802 [00:59<05:02,  2.26it/s]\u001b[A\n",
      " 15%|████████████                                                                    | 121/802 [00:59<03:46,  3.01it/s]\u001b[A\n",
      " 15%|████████████▎                                                                   | 123/802 [01:01<06:03,  1.87it/s]\u001b[A\n",
      " 16%|████████████▍                                                                   | 125/802 [01:01<05:16,  2.14it/s]\u001b[A\n",
      " 16%|████████████▌                                                                   | 126/802 [01:02<04:29,  2.51it/s]\u001b[A\n",
      " 16%|█████████████                                                                   | 131/802 [01:02<03:21,  3.34it/s]\u001b[A\n",
      " 16%|█████████████▏                                                                  | 132/802 [01:04<07:46,  1.44it/s]\u001b[A\n",
      " 17%|█████████████▎                                                                  | 133/802 [01:04<06:07,  1.82it/s]\u001b[A\n",
      " 17%|█████████████▎                                                                  | 134/802 [01:06<10:52,  1.02it/s]\u001b[A\n",
      " 17%|█████████████▊                                                                  | 139/802 [01:06<07:47,  1.42it/s]\u001b[A\n",
      " 17%|█████████████▉                                                                  | 140/802 [01:07<07:25,  1.49it/s]\u001b[A\n",
      " 18%|██████████████▍                                                                 | 145/802 [01:07<05:15,  2.08it/s]\u001b[A\n",
      " 18%|██████████████▋                                                                 | 147/802 [01:08<04:54,  2.23it/s]\u001b[A\n",
      " 19%|██████████████▉                                                                 | 150/802 [01:08<03:52,  2.80it/s]\u001b[A\n",
      " 19%|███████████████                                                                 | 151/802 [01:08<03:18,  3.28it/s]\u001b[A\n",
      " 19%|███████████████▏                                                                | 152/802 [01:09<03:43,  2.91it/s]\u001b[A\n",
      " 19%|███████████████▍                                                                | 155/802 [01:09<02:55,  3.68it/s]\u001b[A\n",
      " 19%|███████████████▌                                                                | 156/802 [01:12<12:30,  1.16s/it]\u001b[A\n",
      " 21%|████████████████▍                                                               | 165/802 [01:12<08:42,  1.22it/s]\u001b[A\n",
      " 21%|████████████████▋                                                               | 167/802 [01:14<08:40,  1.22it/s]\u001b[A\n",
      " 21%|████████████████▊                                                               | 169/802 [01:16<09:10,  1.15it/s]\u001b[A\n",
      " 21%|████████████████▉                                                               | 170/802 [01:17<10:18,  1.02it/s]\u001b[A\n"
     ]
    },
    {
     "name": "stderr",
     "output_type": "stream",
     "text": [
      " 22%|█████████████████▎                                                              | 173/802 [01:18<07:28,  1.40it/s]\u001b[A\n",
      " 22%|█████████████████▎                                                              | 174/802 [01:19<09:35,  1.09it/s]\u001b[A\n",
      " 22%|█████████████████▋                                                              | 177/802 [01:19<07:05,  1.47it/s]\u001b[A\n",
      " 22%|█████████████████▊                                                              | 178/802 [01:20<08:15,  1.26it/s]\u001b[A\n",
      " 24%|███████████████████▍                                                            | 195/802 [01:21<05:38,  1.79it/s]\u001b[A\n",
      " 25%|███████████████████▉                                                            | 200/802 [01:27<07:39,  1.31it/s]\u001b[A\n",
      " 25%|████████████████████▏                                                           | 203/802 [01:28<06:38,  1.50it/s]\u001b[A\n",
      " 26%|████████████████████▋                                                           | 207/802 [01:28<04:41,  2.11it/s]\u001b[A\n",
      " 26%|████████████████████▉                                                           | 210/802 [01:29<04:04,  2.42it/s]\u001b[A\n",
      " 26%|█████████████████████▏                                                          | 212/802 [01:30<03:50,  2.56it/s]\u001b[A\n",
      " 27%|█████████████████████▍                                                          | 215/802 [01:30<02:52,  3.39it/s]\u001b[A\n",
      " 27%|█████████████████████▋                                                          | 217/802 [01:31<03:02,  3.21it/s]\u001b[A\n",
      " 28%|██████████████████████                                                          | 221/802 [01:31<02:11,  4.41it/s]\u001b[A\n",
      " 28%|██████████████████████▏                                                         | 223/802 [01:31<01:59,  4.85it/s]\u001b[A\n",
      " 28%|██████████████████████▋                                                         | 227/802 [01:31<01:40,  5.74it/s]\u001b[A\n",
      " 29%|██████████████████████▊                                                         | 229/802 [01:32<02:18,  4.13it/s]\u001b[A\n",
      " 29%|███████████████████████▎                                                        | 234/802 [01:32<01:39,  5.69it/s]\u001b[A\n",
      " 30%|███████████████████████▋                                                        | 237/802 [01:32<01:15,  7.47it/s]\u001b[A\n",
      " 30%|███████████████████████▉                                                        | 240/802 [01:33<01:18,  7.14it/s]\u001b[A\n",
      " 30%|████████████████████████▏                                                       | 243/802 [01:33<01:04,  8.60it/s]\u001b[A\n",
      " 31%|████████████████████████▍                                                       | 245/802 [01:34<01:28,  6.30it/s]\u001b[A\n",
      " 31%|████████████████████████▋                                                       | 247/802 [01:34<02:00,  4.62it/s]\u001b[A\n",
      " 31%|████████████████████████▊                                                       | 249/802 [01:35<01:36,  5.73it/s]\u001b[A\n",
      " 31%|█████████████████████████                                                       | 251/802 [01:38<06:02,  1.52it/s]\u001b[A\n",
      " 32%|█████████████████████████▍                                                      | 255/802 [01:38<04:20,  2.10it/s]\u001b[A\n",
      " 32%|█████████████████████████▋                                                      | 257/802 [01:39<04:32,  2.00it/s]\u001b[A\n",
      " 33%|██████████████████████████                                                      | 261/802 [01:40<03:17,  2.74it/s]\u001b[A\n",
      " 33%|██████████████████████████▏                                                     | 263/802 [01:42<05:21,  1.68it/s]\u001b[A\n",
      " 33%|██████████████████████████▎                                                     | 264/802 [01:43<07:13,  1.24it/s]\u001b[A\n",
      " 33%|██████████████████████████▍                                                     | 265/802 [01:45<11:04,  1.24s/it]\u001b[A\n",
      " 33%|██████████████████████████▌                                                     | 266/802 [01:46<08:31,  1.05it/s]\u001b[A\n",
      " 33%|██████████████████████████▋                                                     | 267/802 [01:46<06:19,  1.41it/s]\u001b[A\n",
      " 33%|██████████████████████████▋                                                     | 268/802 [01:47<06:31,  1.37it/s]\u001b[A\n",
      " 34%|██████████████████████████▉                                                     | 270/802 [01:47<05:12,  1.70it/s]\u001b[A\n",
      " 34%|███████████████████████████                                                     | 271/802 [01:47<04:33,  1.94it/s]\u001b[A\n",
      " 34%|███████████████████████████▏                                                    | 272/802 [01:50<10:24,  1.18s/it]\u001b[A\n",
      " 35%|████████████████████████████▏                                                   | 283/802 [01:50<07:11,  1.20it/s]\u001b[A\n",
      " 36%|████████████████████████████▍                                                   | 285/802 [01:51<05:33,  1.55it/s]\u001b[A\n",
      " 36%|████████████████████████████▋                                                   | 287/802 [01:52<04:43,  1.82it/s]\u001b[A\n",
      " 36%|████████████████████████████▋                                                   | 288/802 [01:52<04:48,  1.78it/s]\u001b[A\n",
      " 37%|█████████████████████████████▍                                                  | 295/802 [01:52<03:21,  2.52it/s]\u001b[A\n",
      " 37%|█████████████████████████████▋                                                  | 298/802 [01:54<04:05,  2.05it/s]\u001b[A\n",
      " 37%|█████████████████████████████▉                                                  | 300/802 [01:55<04:01,  2.08it/s]\u001b[A\n",
      " 38%|██████████████████████████████                                                  | 302/802 [01:56<03:38,  2.29it/s]\u001b[A\n",
      " 38%|██████████████████████████████▌                                                 | 307/802 [01:56<02:36,  3.17it/s]\u001b[A\n",
      " 39%|██████████████████████████████▊                                                 | 309/802 [01:57<03:05,  2.65it/s]\u001b[A\n",
      " 39%|███████████████████████████████▍                                                | 315/802 [01:57<02:14,  3.63it/s]\u001b[A\n",
      " 40%|███████████████████████████████▌                                                | 317/802 [01:59<02:57,  2.74it/s]\u001b[A\n",
      " 40%|███████████████████████████████▊                                                | 319/802 [02:01<04:35,  1.75it/s]\u001b[A\n",
      " 41%|████████████████████████████████▌                                               | 327/802 [02:01<03:11,  2.48it/s]\u001b[A\n",
      " 41%|████████████████████████████████▉                                               | 330/802 [02:01<02:48,  2.81it/s]\u001b[A\n",
      " 42%|█████████████████████████████████▏                                              | 333/802 [02:03<03:02,  2.58it/s]\u001b[A\n",
      " 42%|█████████████████████████████████▍                                              | 335/802 [02:03<02:17,  3.40it/s]\u001b[A\n",
      " 42%|█████████████████████████████████▌                                              | 337/802 [02:04<02:53,  2.68it/s]\u001b[A\n",
      " 43%|██████████████████████████████████▌                                             | 346/802 [02:04<02:00,  3.77it/s]\u001b[A\n",
      " 44%|███████████████████████████████████▌                                            | 356/802 [02:04<01:24,  5.27it/s]\u001b[A\n",
      " 45%|████████████████████████████████████                                            | 361/802 [02:06<01:36,  4.59it/s]\u001b[A\n",
      " 46%|████████████████████████████████████▌                                           | 367/802 [02:07<01:23,  5.23it/s]\u001b[A\n",
      " 46%|████████████████████████████████████▉                                           | 370/802 [02:08<01:58,  3.65it/s]\u001b[A\n",
      " 46%|█████████████████████████████████████                                           | 372/802 [02:09<02:57,  2.43it/s]\u001b[A\n",
      " 47%|█████████████████████████████████████▎                                          | 374/802 [02:10<02:32,  2.81it/s]\u001b[A\n",
      " 47%|█████████████████████████████████████▊                                          | 379/802 [02:10<01:57,  3.61it/s]\u001b[A\n",
      " 48%|██████████████████████████████████████                                          | 381/802 [02:12<03:21,  2.09it/s]\u001b[A\n",
      " 48%|██████████████████████████████████████                                          | 382/802 [02:12<02:37,  2.66it/s]\u001b[A\n",
      " 48%|██████████████████████████████████████▌                                         | 386/802 [02:13<02:01,  3.43it/s]\u001b[A\n",
      " 49%|███████████████████████████████████████▏                                        | 393/802 [02:13<01:27,  4.69it/s]\u001b[A\n"
     ]
    },
    {
     "name": "stderr",
     "output_type": "stream",
     "text": [
      " 49%|███████████████████████████████████████▍                                        | 395/802 [02:14<01:57,  3.47it/s]\u001b[A\n",
      " 50%|███████████████████████████████████████▋                                        | 398/802 [02:16<02:39,  2.53it/s]\u001b[A\n",
      " 50%|███████████████████████████████████████▊                                        | 399/802 [02:16<02:28,  2.72it/s]\u001b[A\n",
      " 50%|███████████████████████████████████████▉                                        | 400/802 [02:17<04:00,  1.67it/s]\u001b[A\n",
      " 50%|████████████████████████████████████████                                        | 401/802 [02:17<03:08,  2.13it/s]\u001b[A\n",
      " 50%|████████████████████████████████████████                                        | 402/802 [02:19<05:14,  1.27it/s]\u001b[A\n",
      " 51%|████████████████████████████████████████▍                                       | 406/802 [02:20<04:01,  1.64it/s]\u001b[A\n",
      " 52%|█████████████████████████████████████████▌                                      | 417/802 [02:20<02:46,  2.31it/s]\u001b[A\n",
      " 52%|█████████████████████████████████████████▊                                      | 419/802 [02:20<02:12,  2.89it/s]\u001b[A\n",
      " 52%|█████████████████████████████████████████▉                                      | 421/802 [02:21<02:00,  3.17it/s]\u001b[A\n",
      " 53%|██████████████████████████████████████████▋                                     | 428/802 [02:21<01:33,  4.01it/s]\u001b[A\n",
      " 54%|██████████████████████████████████████████▉                                     | 430/802 [02:23<02:15,  2.76it/s]\u001b[A\n",
      " 55%|███████████████████████████████████████████▊                                    | 439/802 [02:23<01:34,  3.85it/s]\u001b[A\n",
      " 55%|████████████████████████████████████████████                                    | 442/802 [02:23<01:25,  4.21it/s]\u001b[A\n",
      " 56%|████████████████████████████████████████████▍                                   | 446/802 [02:24<01:09,  5.16it/s]\u001b[A\n",
      " 56%|████████████████████████████████████████████▋                                   | 448/802 [02:25<01:49,  3.24it/s]\u001b[A\n",
      " 56%|████████████████████████████████████████████▉                                   | 450/802 [02:26<02:14,  2.62it/s]\u001b[A\n",
      " 56%|████████████████████████████████████████████▉                                   | 451/802 [02:27<03:20,  1.75it/s]\u001b[A\n",
      " 56%|█████████████████████████████████████████████                                   | 452/802 [02:28<03:16,  1.78it/s]\u001b[A\n",
      " 57%|█████████████████████████████████████████████▌                                  | 457/802 [02:28<02:17,  2.50it/s]\u001b[A\n",
      " 57%|█████████████████████████████████████████████▊                                  | 459/802 [02:29<02:44,  2.08it/s]\u001b[A\n",
      " 57%|█████████████████████████████████████████████▉                                  | 461/802 [02:30<02:58,  1.91it/s]\u001b[A\n",
      " 58%|██████████████████████████████████████████████▏                                 | 463/802 [02:31<02:38,  2.14it/s]\u001b[A\n",
      " 58%|██████████████████████████████████████████████▎                                 | 464/802 [02:33<05:38,  1.00s/it]\u001b[A\n",
      " 58%|██████████████████████████████████████████████▋                                 | 468/802 [02:33<03:56,  1.41it/s]\u001b[A\n",
      " 59%|██████████████████████████████████████████████▉                                 | 470/802 [02:34<03:24,  1.62it/s]\u001b[A\n",
      " 59%|███████████████████████████████████████████████▍                                | 475/802 [02:34<02:26,  2.24it/s]\u001b[A\n",
      " 59%|███████████████████████████████████████████████▌                                | 477/802 [02:36<02:35,  2.09it/s]\u001b[A\n",
      " 60%|███████████████████████████████████████████████▊                                | 479/802 [02:36<01:58,  2.71it/s]\u001b[A\n",
      " 60%|███████████████████████████████████████████████▉                                | 480/802 [02:39<06:13,  1.16s/it]\u001b[A\n",
      " 60%|███████████████████████████████████████████████▉                                | 481/802 [02:39<04:39,  1.15it/s]\u001b[A\n",
      " 60%|████████████████████████████████████████████████                                | 482/802 [02:41<06:05,  1.14s/it]\u001b[A\n",
      " 60%|████████████████████████████████████████████████▍                               | 485/802 [02:41<04:24,  1.20it/s]\u001b[A\n",
      " 61%|████████████████████████████████████████████████▍                               | 486/802 [02:43<06:15,  1.19s/it]\u001b[A\n",
      " 61%|████████████████████████████████████████████████▊                               | 489/802 [02:43<04:33,  1.14it/s]\u001b[A\n",
      " 61%|████████████████████████████████████████████████▉                               | 490/802 [02:46<06:21,  1.22s/it]\u001b[A\n",
      " 62%|█████████████████████████████████████████████████▍                              | 495/802 [02:46<04:34,  1.12it/s]\u001b[A\n",
      " 62%|█████████████████████████████████████████████████▍                              | 496/802 [02:47<04:26,  1.15it/s]\u001b[A\n",
      " 62%|█████████████████████████████████████████████████▌                              | 497/802 [02:47<03:43,  1.36it/s]\u001b[A\n",
      " 62%|█████████████████████████████████████████████████▋                              | 498/802 [02:49<05:24,  1.07s/it]\u001b[A\n",
      " 62%|█████████████████████████████████████████████████▉                              | 501/802 [02:49<03:50,  1.31it/s]\u001b[A\n",
      " 63%|██████████████████████████████████████████████████                              | 502/802 [02:50<04:15,  1.17it/s]\u001b[A\n",
      " 63%|██████████████████████████████████████████████████▎                             | 504/802 [02:51<03:35,  1.38it/s]\u001b[A\n",
      " 63%|██████████████████████████████████████████████████▌                             | 507/802 [02:52<02:35,  1.89it/s]\u001b[A\n",
      " 63%|██████████████████████████████████████████████████▋                             | 508/802 [02:53<04:00,  1.22it/s]\u001b[A\n",
      " 64%|██████████████████████████████████████████████████▉                             | 511/802 [02:53<02:51,  1.70it/s]\u001b[A\n",
      " 64%|███████████████████████████████████████████████████                             | 512/802 [02:53<02:18,  2.10it/s]\u001b[A\n",
      " 64%|███████████████████████████████████████████████████▎                            | 514/802 [02:54<02:13,  2.15it/s]\u001b[A\n",
      " 64%|███████████████████████████████████████████████████▎                            | 515/802 [02:55<02:09,  2.22it/s]\u001b[A\n",
      " 64%|███████████████████████████████████████████████████▍                            | 516/802 [02:56<02:54,  1.64it/s]\u001b[A\n",
      " 65%|████████████████████████████████████████████████████▎                           | 524/802 [02:56<02:04,  2.23it/s]\u001b[A\n",
      " 66%|████████████████████████████████████████████████████▊                           | 529/802 [02:56<01:28,  3.09it/s]\u001b[A\n",
      " 66%|████████████████████████████████████████████████████▉                           | 531/802 [02:58<02:08,  2.11it/s]\u001b[A\n",
      " 68%|██████████████████████████████████████████████████████▎                         | 544/802 [02:58<01:26,  2.99it/s]\u001b[A\n",
      " 68%|██████████████████████████████████████████████████████▊                         | 549/802 [02:59<01:06,  3.79it/s]\u001b[A\n",
      " 69%|███████████████████████████████████████████████████████▍                        | 556/802 [02:59<00:46,  5.29it/s]\u001b[A\n",
      " 70%|███████████████████████████████████████████████████████▉                        | 561/802 [03:01<00:56,  4.24it/s]\u001b[A\n",
      " 70%|████████████████████████████████████████████████████████▎                       | 565/802 [03:01<00:49,  4.83it/s]\u001b[A\n",
      " 71%|████████████████████████████████████████████████████████▋                       | 568/802 [03:02<01:03,  3.70it/s]\u001b[A\n",
      " 71%|████████████████████████████████████████████████████████▉                       | 571/802 [03:03<00:56,  4.12it/s]\u001b[A\n",
      " 71%|█████████████████████████████████████████████████████████▏                      | 573/802 [03:05<01:46,  2.16it/s]\u001b[A\n",
      " 72%|█████████████████████████████████████████████████████████▎                      | 575/802 [03:06<01:42,  2.22it/s]\u001b[A\n",
      " 72%|█████████████████████████████████████████████████████████▍                      | 576/802 [03:07<03:06,  1.21it/s]\u001b[A\n",
      " 72%|█████████████████████████████████████████████████████████▊                      | 579/802 [03:08<02:20,  1.58it/s]\u001b[A\n",
      " 72%|█████████████████████████████████████████████████████████▊                      | 580/802 [03:08<02:14,  1.65it/s]\u001b[A\n",
      " 73%|██████████████████████████████████████████████████████████▏                     | 583/802 [03:09<01:36,  2.26it/s]\u001b[A\n"
     ]
    },
    {
     "name": "stderr",
     "output_type": "stream",
     "text": [
      " 73%|██████████████████████████████████████████████████████████▎                     | 584/802 [03:09<01:49,  1.99it/s]\u001b[A\n",
      " 73%|██████████████████████████████████████████████████████████▎                     | 585/802 [03:10<01:33,  2.33it/s]\u001b[A\n",
      " 73%|██████████████████████████████████████████████████████████▍                     | 586/802 [03:11<02:39,  1.35it/s]\u001b[A\n",
      " 73%|██████████████████████████████████████████████████████████▋                     | 588/802 [03:12<02:08,  1.67it/s]\u001b[A\n",
      " 73%|██████████████████████████████████████████████████████████▊                     | 589/802 [03:12<01:48,  1.96it/s]\u001b[A\n",
      " 74%|██████████████████████████████████████████████████████████▊                     | 590/802 [03:12<01:26,  2.44it/s]\u001b[A\n",
      " 75%|███████████████████████████████████████████████████████████▊                    | 600/802 [03:12<00:58,  3.45it/s]\u001b[A\n",
      " 75%|████████████████████████████████████████████████████████████▏                   | 603/802 [03:15<01:37,  2.04it/s]\u001b[A\n",
      " 76%|████████████████████████████████████████████████████████████▍                   | 606/802 [03:19<02:27,  1.33it/s]\u001b[A\n",
      " 76%|████████████████████████████████████████████████████████████▉                   | 611/802 [03:20<01:46,  1.79it/s]\u001b[A\n",
      " 76%|█████████████████████████████████████████████████████████████▏                  | 613/802 [03:20<01:34,  1.99it/s]\u001b[A\n",
      " 77%|█████████████████████████████████████████████████████████████▋                  | 619/802 [03:21<01:05,  2.78it/s]\u001b[A\n",
      " 77%|█████████████████████████████████████████████████████████████▉                  | 621/802 [03:21<01:05,  2.75it/s]\u001b[A\n",
      " 78%|██████████████████████████████████████████████████████████████▏                 | 623/802 [03:23<01:30,  1.98it/s]\u001b[A\n",
      " 78%|██████████████████████████████████████████████████████████████▌                 | 627/802 [03:23<01:07,  2.58it/s]\u001b[A\n",
      " 78%|██████████████████████████████████████████████████████████████▋                 | 628/802 [03:25<01:49,  1.59it/s]\u001b[A\n",
      " 79%|██████████████████████████████████████████████████████████████▊                 | 630/802 [03:25<01:34,  1.83it/s]\u001b[A\n",
      " 79%|███████████████████████████████████████████████████████████████                 | 632/802 [03:26<01:23,  2.05it/s]\u001b[A\n",
      " 79%|███████████████████████████████████████████████████████████████▌                | 637/802 [03:27<01:01,  2.68it/s]\u001b[A\n",
      " 80%|███████████████████████████████████████████████████████████████▋                | 638/802 [03:27<00:50,  3.26it/s]\u001b[A\n",
      " 80%|███████████████████████████████████████████████████████████████▉                | 641/802 [03:28<01:03,  2.54it/s]\u001b[A\n",
      " 80%|████████████████████████████████████████████████████████████████                | 642/802 [03:30<02:07,  1.26it/s]\u001b[A\n",
      " 80%|████████████████████████████████████████████████████████████████▏               | 643/802 [03:31<01:48,  1.46it/s]\u001b[A\n",
      " 80%|████████████████████████████████████████████████████████████████▏               | 644/802 [03:32<02:22,  1.11it/s]\u001b[A\n",
      " 81%|████████████████████████████████████████████████████████████████▌               | 647/802 [03:32<01:39,  1.56it/s]\u001b[A\n",
      " 81%|████████████████████████████████████████████████████████████████▋               | 649/802 [03:33<01:20,  1.91it/s]\u001b[A\n",
      " 81%|█████████████████████████████████████████████████████████████████               | 652/802 [03:33<01:00,  2.49it/s]\u001b[A\n",
      " 81%|█████████████████████████████████████████████████████████████████▏              | 653/802 [03:33<00:50,  2.98it/s]\u001b[A\n",
      " 82%|█████████████████████████████████████████████████████████████████▏              | 654/802 [03:33<00:45,  3.23it/s]\u001b[A\n",
      " 82%|█████████████████████████████████████████████████████████████████▎              | 655/802 [03:34<00:53,  2.76it/s]\u001b[A\n",
      " 82%|█████████████████████████████████████████████████████████████████▍              | 656/802 [03:36<02:01,  1.20it/s]\u001b[A\n",
      " 82%|█████████████████████████████████████████████████████████████████▋              | 658/802 [03:36<01:36,  1.50it/s]\u001b[A\n",
      " 82%|█████████████████████████████████████████████████████████████████▉              | 661/802 [03:36<01:07,  2.10it/s]\u001b[A\n",
      " 83%|██████████████████████████████████████████████████████████████████▏             | 663/802 [03:37<00:50,  2.77it/s]\u001b[A\n",
      " 83%|██████████████████████████████████████████████████████████████████▎             | 665/802 [03:37<00:46,  2.97it/s]\u001b[A\n",
      " 83%|██████████████████████████████████████████████████████████████████▍             | 666/802 [03:37<00:38,  3.51it/s]\u001b[A\n",
      " 83%|██████████████████████████████████████████████████████████████████▋             | 668/802 [03:38<00:35,  3.81it/s]\u001b[A\n",
      " 83%|██████████████████████████████████████████████████████████████████▋             | 669/802 [03:38<00:34,  3.81it/s]\u001b[A\n",
      " 84%|██████████████████████████████████████████████████████████████████▊             | 670/802 [03:39<00:47,  2.78it/s]\u001b[A\n",
      " 84%|██████████████████████████████████████████████████████████████████▉             | 671/802 [03:39<00:36,  3.55it/s]\u001b[A\n",
      " 84%|███████████████████████████████████████████████████████████████████             | 672/802 [03:39<00:36,  3.54it/s]\u001b[A\n",
      " 84%|███████████████████████████████████████████████████████████████████▏            | 674/802 [03:40<00:50,  2.53it/s]\u001b[A\n",
      " 84%|███████████████████████████████████████████████████████████████████▎            | 675/802 [03:41<00:43,  2.89it/s]\u001b[A\n",
      " 84%|███████████████████████████████████████████████████████████████████▍            | 676/802 [03:41<00:42,  2.95it/s]\u001b[A\n",
      " 85%|███████████████████████████████████████████████████████████████████▉            | 681/802 [03:41<00:32,  3.71it/s]\u001b[A\n",
      " 85%|████████████████████████████████████████████████████████████████████            | 682/802 [03:42<00:47,  2.53it/s]\u001b[A\n",
      " 85%|████████████████████████████████████████████████████████████████████▎           | 685/802 [03:42<00:35,  3.31it/s]\u001b[A\n",
      " 86%|████████████████████████████████████████████████████████████████████▍           | 686/802 [03:43<00:47,  2.47it/s]\u001b[A\n",
      " 86%|████████████████████████████████████████████████████████████████████▌           | 687/802 [03:45<01:26,  1.33it/s]\u001b[A\n",
      " 86%|████████████████████████████████████████████████████████████████████▋           | 688/802 [03:56<07:20,  3.86s/it]\u001b[A\n",
      " 86%|████████████████████████████████████████████████████████████████████▋           | 689/802 [03:56<05:12,  2.77s/it]\u001b[A\n",
      " 86%|████████████████████████████████████████████████████████████████████▊           | 690/802 [03:57<04:05,  2.19s/it]\u001b[A\n",
      " 87%|█████████████████████████████████████████████████████████████████████▎          | 695/802 [03:58<02:51,  1.60s/it]\u001b[A\n",
      " 87%|█████████████████████████████████████████████████████████████████████▍          | 696/802 [03:59<02:39,  1.51s/it]\u001b[A\n",
      " 87%|█████████████████████████████████████████████████████████████████████▌          | 697/802 [03:59<01:54,  1.09s/it]\u001b[A\n",
      " 87%|█████████████████████████████████████████████████████████████████████▋          | 698/802 [04:00<01:25,  1.21it/s]\u001b[A\n",
      " 87%|█████████████████████████████████████████████████████████████████████▋          | 699/802 [04:00<01:02,  1.65it/s]\u001b[A\n",
      " 87%|█████████████████████████████████████████████████████████████████████▊          | 700/802 [04:00<01:01,  1.66it/s]\u001b[A\n",
      " 87%|█████████████████████████████████████████████████████████████████████▉          | 701/802 [04:00<00:50,  1.98it/s]\u001b[A\n",
      " 88%|██████████████████████████████████████████████████████████████████████          | 702/802 [04:03<02:00,  1.20s/it]\u001b[A\n",
      " 88%|██████████████████████████████████████████████████████████████████████▎         | 705/802 [04:03<01:22,  1.17it/s]\u001b[A\n",
      " 88%|██████████████████████████████████████████████████████████████████████▍         | 706/802 [04:04<01:20,  1.20it/s]\u001b[A\n",
      " 88%|██████████████████████████████████████████████████████████████████████▋         | 709/802 [04:04<00:55,  1.68it/s]\u001b[A\n",
      " 89%|██████████████████████████████████████████████████████████████████████▉         | 711/802 [04:06<00:54,  1.66it/s]\u001b[A\n",
      " 89%|███████████████████████████████████████████████████████████████████████         | 713/802 [04:06<00:42,  2.08it/s]\u001b[A\n",
      " 89%|███████████████████████████████████████████████████████████████████████▏        | 714/802 [04:06<00:41,  2.10it/s]\u001b[A\n"
     ]
    },
    {
     "name": "stderr",
     "output_type": "stream",
     "text": [
      " 89%|███████████████████████████████████████████████████████████████████████▍        | 716/802 [04:07<00:36,  2.36it/s]\u001b[A\n",
      " 89%|███████████████████████████████████████████████████████████████████████▌        | 717/802 [04:07<00:34,  2.44it/s]\u001b[A\n",
      " 90%|███████████████████████████████████████████████████████████████████████▌        | 718/802 [04:08<00:37,  2.25it/s]\u001b[A\n",
      " 90%|███████████████████████████████████████████████████████████████████████▋        | 719/802 [04:08<00:28,  2.93it/s]\u001b[A\n",
      " 90%|███████████████████████████████████████████████████████████████████████▊        | 720/802 [04:10<01:09,  1.18it/s]\u001b[A\n",
      " 90%|████████████████████████████████████████████████████████████████████████        | 722/802 [04:10<00:51,  1.54it/s]\u001b[A\n",
      " 90%|████████████████████████████████████████████████████████████████████████        | 723/802 [04:11<00:39,  2.02it/s]\u001b[A\n",
      " 90%|████████████████████████████████████████████████████████████████████████▏       | 724/802 [04:11<00:45,  1.73it/s]\u001b[A\n",
      " 91%|████████████████████████████████████████████████████████████████████████▋       | 729/802 [04:12<00:30,  2.37it/s]\u001b[A\n",
      " 91%|████████████████████████████████████████████████████████████████████████▊       | 730/802 [04:13<00:54,  1.33it/s]\u001b[A\n",
      " 91%|█████████████████████████████████████████████████████████████████████████       | 733/802 [04:14<00:41,  1.65it/s]\u001b[A\n",
      " 92%|█████████████████████████████████████████████████████████████████████████▏      | 734/802 [04:15<00:54,  1.24it/s]\u001b[A\n",
      " 92%|█████████████████████████████████████████████████████████████████████████▎      | 735/802 [04:15<00:39,  1.69it/s]\u001b[A\n",
      " 92%|█████████████████████████████████████████████████████████████████████████▍      | 736/802 [04:16<00:40,  1.64it/s]\u001b[A\n",
      " 92%|█████████████████████████████████████████████████████████████████████████▉      | 741/802 [04:16<00:26,  2.27it/s]\u001b[A\n",
      " 93%|██████████████████████████████████████████████████████████████████████████      | 743/802 [04:19<00:40,  1.47it/s]\u001b[A\n",
      " 93%|██████████████████████████████████████████████████████████████████████████▏     | 744/802 [04:21<01:01,  1.05s/it]\u001b[A\n",
      " 93%|██████████████████████████████████████████████████████████████████████████▎     | 745/802 [04:22<01:06,  1.17s/it]\u001b[A\n",
      " 93%|██████████████████████████████████████████████████████████████████████████▍     | 746/802 [04:23<00:55,  1.02it/s]\u001b[A\n",
      " 93%|██████████████████████████████████████████████████████████████████████████▋     | 749/802 [04:23<00:37,  1.43it/s]\u001b[A\n",
      " 94%|██████████████████████████████████████████████████████████████████████████▉     | 751/802 [04:23<00:26,  1.91it/s]\u001b[A\n",
      " 94%|███████████████████████████████████████████████████████████████████████████     | 752/802 [04:23<00:25,  1.97it/s]\u001b[A\n",
      " 94%|███████████████████████████████████████████████████████████████████████████     | 753/802 [04:27<01:17,  1.58s/it]\u001b[A\n",
      " 94%|███████████████████████████████████████████████████████████████████████████▏    | 754/802 [04:31<01:45,  2.19s/it]\u001b[A\n",
      " 94%|███████████████████████████████████████████████████████████████████████████▎    | 755/802 [04:31<01:16,  1.62s/it]\u001b[A\n",
      " 94%|███████████████████████████████████████████████████████████████████████████▍    | 756/802 [04:35<01:35,  2.07s/it]\u001b[A\n",
      " 94%|███████████████████████████████████████████████████████████████████████████▌    | 757/802 [04:35<01:06,  1.48s/it]\u001b[A\n",
      " 95%|███████████████████████████████████████████████████████████████████████████▌    | 758/802 [04:36<00:59,  1.36s/it]\u001b[A\n",
      " 95%|███████████████████████████████████████████████████████████████████████████▋    | 759/802 [04:37<00:57,  1.33s/it]\u001b[A\n",
      " 95%|███████████████████████████████████████████████████████████████████████████▊    | 760/802 [04:41<01:31,  2.17s/it]\u001b[A\n",
      " 95%|████████████████████████████████████████████████████████████████████████████▏   | 764/802 [04:42<01:00,  1.59s/it]\u001b[A\n",
      " 95%|████████████████████████████████████████████████████████████████████████████▎   | 765/802 [04:42<00:43,  1.18s/it]\u001b[A\n",
      " 96%|████████████████████████████████████████████████████████████████████████████▍   | 766/802 [04:43<00:41,  1.15s/it]\u001b[A\n",
      " 96%|████████████████████████████████████████████████████████████████████████████▌   | 768/802 [04:44<00:29,  1.15it/s]\u001b[A\n",
      " 96%|████████████████████████████████████████████████████████████████████████████▉   | 771/802 [04:44<00:19,  1.57it/s]\u001b[A\n",
      " 96%|█████████████████████████████████████████████████████████████████████████████   | 772/802 [04:47<00:39,  1.31s/it]\u001b[A\n",
      " 97%|█████████████████████████████████████████████████████████████████████████████▎  | 775/802 [04:47<00:25,  1.06it/s]\u001b[A\n",
      " 97%|█████████████████████████████████████████████████████████████████████████████▍  | 776/802 [04:48<00:21,  1.22it/s]\u001b[A\n",
      " 97%|█████████████████████████████████████████████████████████████████████████████▌  | 777/802 [04:48<00:15,  1.64it/s]\u001b[A\n",
      " 98%|██████████████████████████████████████████████████████████████████████████████▎ | 785/802 [04:48<00:07,  2.32it/s]\u001b[A\n",
      " 98%|██████████████████████████████████████████████████████████████████████████████▌ | 788/802 [04:49<00:05,  2.72it/s]\u001b[A\n",
      " 99%|██████████████████████████████████████████████████████████████████████████████▉ | 791/802 [04:49<00:03,  3.48it/s]\u001b[A\n",
      " 99%|███████████████████████████████████████████████████████████████████████████████ | 793/802 [04:51<00:04,  2.13it/s]\u001b[A\n",
      " 99%|███████████████████████████████████████████████████████████████████████████████▌| 797/802 [04:51<00:01,  2.74it/s]\u001b[A\n",
      "100%|████████████████████████████████████████████████████████████████████████████████| 802/802 [04:53<00:00,  2.73it/s]\u001b[A\n"
     ]
    }
   ],
   "source": [
    "agg_links = []\n",
    "for i in tqdm(range(len(links)), total=len(links)):\n",
    "    l = aggregate_links(links[i], parenthood[i])\n",
    "    if l is not None:\n",
    "        agg_links.append(l)"
   ]
  },
  {
   "cell_type": "code",
   "execution_count": 40,
   "metadata": {},
   "outputs": [
    {
     "data": {
      "text/plain": [
       "<AxesSubplot:>"
      ]
     },
     "execution_count": 40,
     "metadata": {},
     "output_type": "execute_result"
    },
    {
     "data": {
      "image/png": "[encoded data removed]",
      "text/plain": [
       "<Figure size 432x288 with 1 Axes>"
      ]
     },
     "metadata": {
      "needs_background": "light"
     },
     "output_type": "display_data"
    }
   ],
   "source": [
    "# Example: rail short-distance around Aachen\n",
    "gpd.GeoDataFrame(agg_links[0]).plot(\n",
    "    alpha=.1,ax=gpd.GeoDataFrame(nodes[0]).plot(\n",
    "        color='r', ax=gpd.GeoDataFrame(sm.zones.loc['DEA2D']).T.plot(color='g', alpha=.2)))"
   ]
  },
  {
   "cell_type": "code",
   "execution_count": 41,
   "metadata": {},
   "outputs": [
    {
     "data": {
      "text/html": [
       "<div>\n",
       "<style scoped>\n",
       "    .dataframe tbody tr th:only-of-type {\n",
       "        vertical-align: middle;\n",
       "    }\n",
       "\n",
       "    .dataframe tbody tr th {\n",
       "        vertical-align: top;\n",
       "    }\n",
       "\n",
       "    .dataframe thead th {\n",
       "        text-align: right;\n",
       "    }\n",
       "</style>\n",
       "<table border=\"1\" class=\"dataframe\">\n",
       "  <thead>\n",
       "    <tr style=\"text-align: right;\">\n",
       "      <th></th>\n",
       "      <th>a</th>\n",
       "      <th>b</th>\n",
       "      <th>geometry</th>\n",
       "      <th>link_sequence</th>\n",
       "      <th>route_id</th>\n",
       "      <th>route_type</th>\n",
       "      <th>time</th>\n",
       "      <th>trip_id</th>\n",
       "      <th>length</th>\n",
       "    </tr>\n",
       "    <tr>\n",
       "      <th>index</th>\n",
       "      <th></th>\n",
       "      <th></th>\n",
       "      <th></th>\n",
       "      <th></th>\n",
       "      <th></th>\n",
       "      <th></th>\n",
       "      <th></th>\n",
       "      <th></th>\n",
       "      <th></th>\n",
       "    </tr>\n",
       "  </thead>\n",
       "  <tbody>\n",
       "    <tr>\n",
       "      <th>bus_416140</th>\n",
       "      <td>DE232_bus_0</td>\n",
       "      <td>DE232_bus_1</td>\n",
       "      <td>LINESTRING (12.14129366863001 49.0147115782724...</td>\n",
       "      <td>3.0</td>\n",
       "      <td>bus_6639</td>\n",
       "      <td>bus</td>\n",
       "      <td>240.0</td>\n",
       "      <td>bus_42276</td>\n",
       "      <td>6700</td>\n",
       "    </tr>\n",
       "    <tr>\n",
       "      <th>bus_1222136</th>\n",
       "      <td>DEA52_bus_1</td>\n",
       "      <td>DEA52_bus_3</td>\n",
       "      <td>LINESTRING (7.511653660387112 51.4736082174916...</td>\n",
       "      <td>21.0</td>\n",
       "      <td>bus_9143</td>\n",
       "      <td>bus</td>\n",
       "      <td>120.0</td>\n",
       "      <td>bus_235337</td>\n",
       "      <td>9263</td>\n",
       "    </tr>\n",
       "  </tbody>\n",
       "</table>\n",
       "</div>"
      ],
      "text/plain": [
       "                       a            b  \\\n",
       "index                                   \n",
       "bus_416140   DE232_bus_0  DE232_bus_1   \n",
       "bus_1222136  DEA52_bus_1  DEA52_bus_3   \n",
       "\n",
       "                                                      geometry  link_sequence  \\\n",
       "index                                                                           \n",
       "bus_416140   LINESTRING (12.14129366863001 49.0147115782724...            3.0   \n",
       "bus_1222136  LINESTRING (7.511653660387112 51.4736082174916...           21.0   \n",
       "\n",
       "             route_id route_type   time     trip_id  length  \n",
       "index                                                        \n",
       "bus_416140   bus_6639        bus  240.0   bus_42276    6700  \n",
       "bus_1222136  bus_9143        bus  120.0  bus_235337    9263  "
      ]
     },
     "execution_count": 41,
     "metadata": {},
     "output_type": "execute_result"
    }
   ],
   "source": [
    "agg_links = pd.concat(agg_links)\n",
    "agg_links.drop(['disaggregated_a', 'disaggregated_b'], axis=1, inplace=True)\n",
    "agg_links.sample(2)"
   ]
  },
  {
   "cell_type": "code",
   "execution_count": 42,
   "metadata": {},
   "outputs": [
    {
     "data": {
      "text/plain": [
       "73644"
      ]
     },
     "execution_count": 42,
     "metadata": {},
     "output_type": "execute_result"
    }
   ],
   "source": [
    "len(agg_links)"
   ]
  },
  {
   "cell_type": "markdown",
   "metadata": {},
   "source": [
    "### Prepare the inter-zonal links"
   ]
  },
  {
   "cell_type": "code",
   "execution_count": 43,
   "metadata": {},
   "outputs": [
    {
     "data": {
      "text/plain": [
       "94552"
      ]
     },
     "execution_count": 43,
     "metadata": {},
     "output_type": "execute_result"
    }
   ],
   "source": [
    "# Filter inter-zonal links\n",
    "links = pd.concat(links)\n",
    "parenthood = pd.concat(parenthood)\n",
    "disagg_links = disagg_links.drop(links.index)\n",
    "len(disagg_links)"
   ]
  },
  {
   "cell_type": "code",
   "execution_count": 44,
   "metadata": {},
   "outputs": [
    {
     "data": {
      "text/plain": [
       "93712"
      ]
     },
     "execution_count": 44,
     "metadata": {},
     "output_type": "execute_result"
    }
   ],
   "source": [
    "disagg_links = disagg_links.loc[(disagg_links['a'].isin(parenthood.index)) &\n",
    "                                (disagg_links['b'].isin(parenthood.index))]\n",
    "len(disagg_links)"
   ]
  },
  {
   "cell_type": "code",
   "execution_count": 45,
   "metadata": {},
   "outputs": [],
   "source": [
    "# Generate dictionary with old and new node indexes\n",
    "parenthood['node_name'] = parenthood['FID'] + '_' + \\\n",
    "    parenthood['route_type'] + '_' + parenthood['cluster'].astype(str)\n",
    "node_dict = parenthood['node_name'].to_dict()"
   ]
  },
  {
   "cell_type": "code",
   "execution_count": 46,
   "metadata": {},
   "outputs": [],
   "source": [
    "# Replace old node indexes with new ones\n",
    "disagg_links['a'] = disagg_links['a'].map(node_dict)\n",
    "disagg_links['b'] = disagg_links['b'].map(node_dict)"
   ]
  },
  {
   "cell_type": "code",
   "execution_count": 47,
   "metadata": {},
   "outputs": [
    {
     "data": {
      "text/html": [
       "<div>\n",
       "<style scoped>\n",
       "    .dataframe tbody tr th:only-of-type {\n",
       "        vertical-align: middle;\n",
       "    }\n",
       "\n",
       "    .dataframe tbody tr th {\n",
       "        vertical-align: top;\n",
       "    }\n",
       "\n",
       "    .dataframe thead th {\n",
       "        text-align: right;\n",
       "    }\n",
       "</style>\n",
       "<table border=\"1\" class=\"dataframe\">\n",
       "  <thead>\n",
       "    <tr style=\"text-align: right;\">\n",
       "      <th></th>\n",
       "      <th>a</th>\n",
       "      <th>b</th>\n",
       "      <th>geometry</th>\n",
       "      <th>link_sequence</th>\n",
       "      <th>route_id</th>\n",
       "      <th>route_type</th>\n",
       "      <th>time</th>\n",
       "      <th>trip_id</th>\n",
       "    </tr>\n",
       "    <tr>\n",
       "      <th>index</th>\n",
       "      <th></th>\n",
       "      <th></th>\n",
       "      <th></th>\n",
       "      <th></th>\n",
       "      <th></th>\n",
       "      <th></th>\n",
       "      <th></th>\n",
       "      <th></th>\n",
       "    </tr>\n",
       "  </thead>\n",
       "  <tbody>\n",
       "  </tbody>\n",
       "</table>\n",
       "</div>"
      ],
      "text/plain": [
       "Empty DataFrame\n",
       "Columns: [a, b, geometry, link_sequence, route_id, route_type, time, trip_id]\n",
       "Index: []"
      ]
     },
     "execution_count": 47,
     "metadata": {},
     "output_type": "execute_result"
    }
   ],
   "source": [
    "# Any issues?\n",
    "disagg_links.loc[disagg_links['a']==disagg_links['b']]"
   ]
  },
  {
   "cell_type": "code",
   "execution_count": 48,
   "metadata": {},
   "outputs": [],
   "source": [
    "# Correct geometry\n",
    "geo_dict = parenthood.groupby('node_name').head(1).set_index(\n",
    "    'node_name')['geometry_centroid'].to_dict()\n",
    "disagg_links['geometry'] = [geometry.LineString([geo_dict[a], geo_dict[b]])\n",
    "                            for a,b in zip(disagg_links['a'], disagg_links['b'])]"
   ]
  },
  {
   "cell_type": "code",
   "execution_count": 49,
   "metadata": {},
   "outputs": [],
   "source": [
    "# Add length\n",
    "disagg_links['length'] = disagg_links['geometry'].apply(\n",
    "        lambda l: int(geodesic(l.coords[0], l.coords[-1]).m))"
   ]
  },
  {
   "cell_type": "code",
   "execution_count": 50,
   "metadata": {},
   "outputs": [
    {
     "data": {
      "text/html": [
       "<div>\n",
       "<style scoped>\n",
       "    .dataframe tbody tr th:only-of-type {\n",
       "        vertical-align: middle;\n",
       "    }\n",
       "\n",
       "    .dataframe tbody tr th {\n",
       "        vertical-align: top;\n",
       "    }\n",
       "\n",
       "    .dataframe thead th {\n",
       "        text-align: right;\n",
       "    }\n",
       "</style>\n",
       "<table border=\"1\" class=\"dataframe\">\n",
       "  <thead>\n",
       "    <tr style=\"text-align: right;\">\n",
       "      <th></th>\n",
       "      <th>a</th>\n",
       "      <th>b</th>\n",
       "      <th>geometry</th>\n",
       "      <th>link_sequence</th>\n",
       "      <th>route_id</th>\n",
       "      <th>route_type</th>\n",
       "      <th>time</th>\n",
       "      <th>trip_id</th>\n",
       "      <th>length</th>\n",
       "    </tr>\n",
       "    <tr>\n",
       "      <th>index</th>\n",
       "      <th></th>\n",
       "      <th></th>\n",
       "      <th></th>\n",
       "      <th></th>\n",
       "      <th></th>\n",
       "      <th></th>\n",
       "      <th></th>\n",
       "      <th></th>\n",
       "      <th></th>\n",
       "    </tr>\n",
       "  </thead>\n",
       "  <tbody>\n",
       "    <tr>\n",
       "      <th>rail_short_162260</th>\n",
       "      <td>DE221_rail_short_distance_0</td>\n",
       "      <td>DE21B_rail_short_distance_0</td>\n",
       "      <td>LINESTRING (12.138217 48.5358815, 11.757282704...</td>\n",
       "      <td>9.0</td>\n",
       "      <td>rail_short_33</td>\n",
       "      <td>rail_short_distance</td>\n",
       "      <td>660.0</td>\n",
       "      <td>rail_short_47711</td>\n",
       "      <td>45820</td>\n",
       "    </tr>\n",
       "  </tbody>\n",
       "</table>\n",
       "</div>"
      ],
      "text/plain": [
       "                                             a                            b  \\\n",
       "index                                                                         \n",
       "rail_short_162260  DE221_rail_short_distance_0  DE21B_rail_short_distance_0   \n",
       "\n",
       "                                                            geometry  \\\n",
       "index                                                                  \n",
       "rail_short_162260  LINESTRING (12.138217 48.5358815, 11.757282704...   \n",
       "\n",
       "                   link_sequence       route_id           route_type   time  \\\n",
       "index                                                                         \n",
       "rail_short_162260            9.0  rail_short_33  rail_short_distance  660.0   \n",
       "\n",
       "                            trip_id  length  \n",
       "index                                        \n",
       "rail_short_162260  rail_short_47711   45820  "
      ]
     },
     "execution_count": 50,
     "metadata": {},
     "output_type": "execute_result"
    }
   ],
   "source": [
    "disagg_links.sample()"
   ]
  },
  {
   "cell_type": "code",
   "execution_count": 51,
   "metadata": {},
   "outputs": [
    {
     "data": {
      "text/plain": [
       "<AxesSubplot:>"
      ]
     },
     "execution_count": 51,
     "metadata": {},
     "output_type": "execute_result"
    },
    {
     "data": {
      "image/png": "[encoded data removed]",
      "text/plain": [
       "<Figure size 432x288 with 1 Axes>"
      ]
     },
     "metadata": {
      "needs_background": "light"
     },
     "output_type": "display_data"
    }
   ],
   "source": [
    "# Example: rail short-distance around Aachen\n",
    "gpd.GeoDataFrame(disagg_links.loc[disagg_links['b'].isin(agg_nodes.loc[agg_nodes['FID']=='DEA2D'].index)]).plot(\n",
    "    ax=gpd.GeoDataFrame(agg_links.loc[agg_links['a'].isin(agg_nodes.loc[agg_nodes['FID']=='DEA2D'].index)]).plot(\n",
    "        alpha=.1,ax=gpd.GeoDataFrame(nodes[0]).plot(\n",
    "            color='r', ax=gpd.GeoDataFrame(sm.zones.loc['DEA2D']).T.plot(color='g', alpha=.2))))"
   ]
  },
  {
   "cell_type": "code",
   "execution_count": 52,
   "metadata": {},
   "outputs": [
    {
     "data": {
      "text/plain": [
       "167356"
      ]
     },
     "execution_count": 52,
     "metadata": {},
     "output_type": "execute_result"
    }
   ],
   "source": [
    "# Concat links\n",
    "agg_links = pd.concat([agg_links, disagg_links])\n",
    "len(agg_links)"
   ]
  },
  {
   "cell_type": "code",
   "execution_count": 53,
   "metadata": {},
   "outputs": [],
   "source": [
    "# Re-index sequence numbers\n",
    "agg_links = agg_links.sort_values(['trip_id', 'link_sequence'])\n",
    "agg_links['link_sequence'] = sum([list(range(1, count+1)) for count in\n",
    "                                  agg_links.groupby('trip_id').count()['a']], [])"
   ]
  },
  {
   "cell_type": "markdown",
   "metadata": {},
   "source": [
    "## Merge aggregated links and nodes with the model"
   ]
  },
  {
   "cell_type": "code",
   "execution_count": 54,
   "metadata": {},
   "outputs": [],
   "source": [
    "# Generate length for long-distance nodes\n",
    "sm.links['length'] = sm.links['geometry'].apply(\n",
    "    lambda l: int(geodesic(l.coords[0], l.coords[-1]).m))"
   ]
  },
  {
   "cell_type": "code",
   "execution_count": 55,
   "metadata": {},
   "outputs": [
    {
     "data": {
      "text/plain": [
       "(199294, 9)"
      ]
     },
     "execution_count": 55,
     "metadata": {},
     "output_type": "execute_result"
    }
   ],
   "source": [
    "# Re-add links to model\n",
    "sm.links = sm.links.append(agg_links)\n",
    "sm.links.shape"
   ]
  },
  {
   "cell_type": "code",
   "execution_count": 56,
   "metadata": {},
   "outputs": [
    {
     "data": {
      "text/plain": [
       "(3077, 5)"
      ]
     },
     "execution_count": 56,
     "metadata": {},
     "output_type": "execute_result"
    }
   ],
   "source": [
    "# Re-add nodes to the model\n",
    "sm.nodes = sm.nodes.append(agg_nodes)\n",
    "sm.nodes.shape"
   ]
  },
  {
   "cell_type": "code",
   "execution_count": 57,
   "metadata": {},
   "outputs": [],
   "source": [
    "# Drop cluster column\n",
    "sm.nodes.drop('cluster', axis=1, inplace=True)"
   ]
  },
  {
   "cell_type": "code",
   "execution_count": 58,
   "metadata": {},
   "outputs": [
    {
     "name": "stdout",
     "output_type": "stream",
     "text": [
      "Number of orphan nodes: 0\n",
      "Number of missing nodes: 3\n"
     ]
    }
   ],
   "source": [
    "try:\n",
    "    sm.integrity_test_nodeset_consistency()\n",
    "except AssertionError:\n",
    "    print('Number of orphan nodes: {}'.format(\n",
    "        len(sm.orphan_nodes)))\n",
    "    print('Number of missing nodes: {}'.format(\n",
    "        len(sm.missing_nodes)))"
   ]
  },
  {
   "cell_type": "code",
   "execution_count": 59,
   "metadata": {
    "scrolled": true
   },
   "outputs": [
    {
     "data": {
      "text/html": [
       "<div>\n",
       "<style scoped>\n",
       "    .dataframe tbody tr th:only-of-type {\n",
       "        vertical-align: middle;\n",
       "    }\n",
       "\n",
       "    .dataframe tbody tr th {\n",
       "        vertical-align: top;\n",
       "    }\n",
       "\n",
       "    .dataframe thead th {\n",
       "        text-align: right;\n",
       "    }\n",
       "</style>\n",
       "<table border=\"1\" class=\"dataframe\">\n",
       "  <thead>\n",
       "    <tr style=\"text-align: right;\">\n",
       "      <th></th>\n",
       "    </tr>\n",
       "  </thead>\n",
       "  <tbody>\n",
       "  </tbody>\n",
       "</table>\n",
       "</div>"
      ],
      "text/plain": [
       "Empty DataFrame\n",
       "Columns: []\n",
       "Index: []"
      ]
     },
     "execution_count": 59,
     "metadata": {},
     "output_type": "execute_result"
    }
   ],
   "source": [
    "sm.links.groupby('trip_id').apply(test_sequences)"
   ]
  },
  {
   "cell_type": "code",
   "execution_count": 60,
   "metadata": {},
   "outputs": [
    {
     "data": {
      "text/plain": [
       "0"
      ]
     },
     "execution_count": 60,
     "metadata": {},
     "output_type": "execute_result"
    }
   ],
   "source": [
    "len(sm.links.loc[sm.links.isna().any(axis=1)])"
   ]
  },
  {
   "cell_type": "code",
   "execution_count": 61,
   "metadata": {},
   "outputs": [],
   "source": [
    "# Drop frequencies of unused nodes\n",
    "sm.frequencies['stop_id'] = sm.frequencies['stop_id'].map(node_dict)\n",
    "bus.frequencies['stop_id'] = bus.frequencies['stop_id'].map(node_dict)\n",
    "sm.frequencies = sm.frequencies.loc[\n",
    "    sm.frequencies['stop_id'].isin(sm.nodes.index)\n",
    "].append(bus.frequencies.loc[\n",
    "    bus.frequencies['stop_id'].isin(sm.nodes.index)\n",
    "]).reset_index()\n",
    "sm.frequencies = sm.frequencies.groupby(['hour', 'stop_id']).agg(\n",
    "    {'trip_id': 'sum'}).reset_index()\n",
    "sm.frequencies[['trip_id', 'hour']] = sm.frequencies[['trip_id', 'hour']].astype(int)"
   ]
  },
  {
   "cell_type": "code",
   "execution_count": 62,
   "metadata": {},
   "outputs": [
    {
     "data": {
      "text/plain": [
       "(19210, 3)"
      ]
     },
     "execution_count": 62,
     "metadata": {},
     "output_type": "execute_result"
    }
   ],
   "source": [
    "sm.frequencies.shape"
   ]
  },
  {
   "cell_type": "code",
   "execution_count": 63,
   "metadata": {},
   "outputs": [
    {
     "data": {
      "text/plain": [
       "(8592, 9)"
      ]
     },
     "execution_count": 63,
     "metadata": {},
     "output_type": "execute_result"
    }
   ],
   "source": [
    "# Drop routes of unused links\n",
    "sm.pt_routes = sm.pt_routes.loc[sm.links['route_id'].unique()]\n",
    "sm.pt_routes.shape"
   ]
  },
  {
   "cell_type": "code",
   "execution_count": 64,
   "metadata": {},
   "outputs": [
    {
     "data": {
      "text/plain": [
       "(8592, 5)"
      ]
     },
     "execution_count": 64,
     "metadata": {},
     "output_type": "execute_result"
    }
   ],
   "source": [
    "# Drop routes of unused bus links\n",
    "bus.pt_routes = bus.pt_routes.loc[sm.links['route_id'].unique()]\n",
    "bus.pt_routes.shape"
   ]
  },
  {
   "cell_type": "markdown",
   "metadata": {},
   "source": [
    "## Save model\n"
   ]
  },
  {
   "cell_type": "code",
   "execution_count": 65,
   "metadata": {},
   "outputs": [],
   "source": [
    "# Add bus service to ancilliary\n",
    "sm.agencies = sm.agencies.append(bus.agencies).reset_index(drop=True)\n",
    "sm.pt_routes = sm.pt_routes.append(bus.pt_routes).reset_index(drop=True)"
   ]
  },
  {
   "cell_type": "code",
   "execution_count": 66,
   "metadata": {},
   "outputs": [],
   "source": [
    "# Now, we have bus services in the same tables\n",
    "sm.pt_route_types.append('bus')"
   ]
  },
  {
   "cell_type": "code",
   "execution_count": 67,
   "metadata": {},
   "outputs": [],
   "source": [
    "# Reduce file size by shortening node index names\n",
    "sm.nodes['index'] = [i.replace('rail_short_distance', 'r_s') for i in sm.nodes.index]\n",
    "sm.nodes.set_index('index', drop=True, inplace=True)\n",
    "sm.links['a'] = sm.links['a'].apply(lambda n: n.replace('rail_short_distance', 'r_s'))\n",
    "sm.links['b'] = sm.links['b'].apply(lambda n: n.replace('rail_short_distance', 'r_s'))"
   ]
  },
  {
   "cell_type": "code",
   "execution_count": 68,
   "metadata": {},
   "outputs": [],
   "source": [
    "sm.nodes['index'] = [i.replace('rail_long_node', 'r_l_n') for i in sm.nodes.index]\n",
    "sm.nodes.set_index('index', drop=True, inplace=True)\n",
    "sm.links['a'] = sm.links['a'].apply(lambda n: n.replace('rail_long_node', 'r_l_n'))\n",
    "sm.links['b'] = sm.links['b'].apply(lambda n: n.replace('rail_long_node', 'r_l_n'))"
   ]
  },
  {
   "cell_type": "code",
   "execution_count": 69,
   "metadata": {},
   "outputs": [],
   "source": [
    "# Shorten link index names\n",
    "sm.links['index'] = [i.replace('rail_long', 'r_l').replace('rail_short', 'r_s')\n",
    "                     for i in sm.links.index]\n",
    "sm.links.set_index('index', drop=True, inplace=True)"
   ]
  },
  {
   "cell_type": "code",
   "execution_count": 70,
   "metadata": {},
   "outputs": [],
   "source": [
    "# Shorten route type names\n",
    "type_dict = {'rail_short_distance': 'rail_short', 'rail_long_distance': 'rail_long'}\n",
    "sm.links['route_type'] = sm.links['route_type'].replace(type_dict)\n",
    "sm.nodes['route_type'] = sm.nodes['route_type'].replace(type_dict)\n",
    "sm.pt_route_types = [t.replace('_distance', '') for t in sm.pt_route_types]"
   ]
  },
  {
   "cell_type": "code",
   "execution_count": 71,
   "metadata": {},
   "outputs": [
    {
     "data": {
      "text/html": [
       "<div>\n",
       "<style scoped>\n",
       "    .dataframe tbody tr th:only-of-type {\n",
       "        vertical-align: middle;\n",
       "    }\n",
       "\n",
       "    .dataframe tbody tr th {\n",
       "        vertical-align: top;\n",
       "    }\n",
       "\n",
       "    .dataframe thead th {\n",
       "        text-align: right;\n",
       "    }\n",
       "</style>\n",
       "<table border=\"1\" class=\"dataframe\">\n",
       "  <thead>\n",
       "    <tr style=\"text-align: right;\">\n",
       "      <th></th>\n",
       "      <th>a</th>\n",
       "      <th>b</th>\n",
       "      <th>geometry</th>\n",
       "      <th>length</th>\n",
       "      <th>link_sequence</th>\n",
       "      <th>route_id</th>\n",
       "      <th>route_type</th>\n",
       "      <th>time</th>\n",
       "      <th>trip_id</th>\n",
       "    </tr>\n",
       "    <tr>\n",
       "      <th>index</th>\n",
       "      <th></th>\n",
       "      <th></th>\n",
       "      <th></th>\n",
       "      <th></th>\n",
       "      <th></th>\n",
       "      <th></th>\n",
       "      <th></th>\n",
       "      <th></th>\n",
       "      <th></th>\n",
       "    </tr>\n",
       "  </thead>\n",
       "  <tbody>\n",
       "    <tr>\n",
       "      <th>r_s_118719</th>\n",
       "      <td>DEB12_r_s_1</td>\n",
       "      <td>DEB17_r_s_1</td>\n",
       "      <td>LINESTRING (7.227926 50.55352466666668, 7.3209...</td>\n",
       "      <td>20786</td>\n",
       "      <td>14.0</td>\n",
       "      <td>rail_short_56</td>\n",
       "      <td>rail_short</td>\n",
       "      <td>360.0</td>\n",
       "      <td>rail_short_29827</td>\n",
       "    </tr>\n",
       "  </tbody>\n",
       "</table>\n",
       "</div>"
      ],
      "text/plain": [
       "                      a            b  \\\n",
       "index                                  \n",
       "r_s_118719  DEB12_r_s_1  DEB17_r_s_1   \n",
       "\n",
       "                                                     geometry  length  \\\n",
       "index                                                                   \n",
       "r_s_118719  LINESTRING (7.227926 50.55352466666668, 7.3209...   20786   \n",
       "\n",
       "            link_sequence       route_id  route_type   time           trip_id  \n",
       "index                                                                          \n",
       "r_s_118719           14.0  rail_short_56  rail_short  360.0  rail_short_29827  "
      ]
     },
     "execution_count": 71,
     "metadata": {},
     "output_type": "execute_result"
    }
   ],
   "source": [
    "sm.links.loc[sm.links['route_type']=='rail_short'].sample()"
   ]
  },
  {
   "cell_type": "code",
   "execution_count": 72,
   "metadata": {},
   "outputs": [],
   "source": [
    "# Split links in graph and auxiliary information\n",
    "# for file sizes being compatible with github's size limit\n",
    "cols = ['link_sequence', 'route_id', 'time', 'trip_id']\n",
    "auxiliary = sm.links[cols]\n",
    "sm.links.drop(cols, axis=1, inplace=True)"
   ]
  },
  {
   "cell_type": "code",
   "execution_count": 73,
   "metadata": {},
   "outputs": [
    {
     "data": {
      "text/plain": [
       "(199294, 5)"
      ]
     },
     "execution_count": 73,
     "metadata": {},
     "output_type": "execute_result"
    }
   ],
   "source": [
    "sm.links.shape"
   ]
  },
  {
   "cell_type": "code",
   "execution_count": 74,
   "metadata": {},
   "outputs": [
    {
     "name": "stderr",
     "output_type": "stream",
     "text": [
      "\n",
      "to_hdf(overwriting):   0%|                                                                      | 0/39 [00:00<?, ?it/s]\u001b[A\n",
      "to_hdf(overwriting):  23%|██████████████▎                                               | 9/39 [00:29<01:37,  3.26s/it]\u001b[A\n",
      "to_hdf(overwriting):  54%|████████████████████████████████▊                            | 21/39 [00:29<00:41,  2.30s/it]\u001b[A\n",
      "to_hdf(overwriting): 100%|█████████████████████████████████████████████████████████████| 39/39 [00:31<00:00,  1.25it/s]\u001b[A\n"
     ]
    }
   ],
   "source": [
    "# Saving model...\n",
    "sm.to_json(model_path + 'de_pt_network_agg',\n",
    "           only_attributes=['zones', 'links', 'nodes', 'pt_route_types'],\n",
    "           encoding='utf-8')"
   ]
  },
  {
   "cell_type": "code",
   "execution_count": 75,
   "metadata": {},
   "outputs": [
    {
     "name": "stderr",
     "output_type": "stream",
     "text": [
      "\n",
      "to_hdf(overwriting):   0%|                                                                      | 0/39 [00:00<?, ?it/s]\u001b[A\n",
      "to_hdf(overwriting): 100%|████████████████████████████████████████████████████████████| 39/39 [00:00<00:00, 168.27it/s]\u001b[A\n"
     ]
    }
   ],
   "source": [
    "sm.to_json(model_path + 'de_pt_network_ancillary',\n",
    "           only_attributes=['agencies', 'pt_routes', 'frequencies'],\n",
    "           encoding='utf-8')"
   ]
  },
  {
   "cell_type": "code",
   "execution_count": 76,
   "metadata": {},
   "outputs": [],
   "source": [
    "# Save auxiliary information seperately\n",
    "auxiliary['index'] = auxiliary.index\n",
    "auxiliary.reset_index(drop=True, inplace=True)\n",
    "auxiliary.to_json(model_path + 'de_pt_network_agg/links_quetzaldata.json')"
   ]
  }
 ],
 "metadata": {
  "kernelspec": {
   "display_name": "Python 3",
   "language": "python",
   "name": "python3"
  },
  "language_info": {
   "codemirror_mode": {
    "name": "ipython",
    "version": 3
   },
   "file_extension": ".py",
   "mimetype": "text/x-python",
   "name": "python",
   "nbconvert_exporter": "python",
   "pygments_lexer": "ipython3",
   "version": "3.8.1"
  }
 },
 "nbformat": 4,
 "nbformat_minor": 2
}
