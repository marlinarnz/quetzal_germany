{
 "cells": [
  {
   "cell_type": "code",
   "execution_count": 1,
   "metadata": {},
   "outputs": [
    {
     "name": "stderr",
     "output_type": "stream",
     "text": [
      "\n",
      "Bad key text.latex.preview in file C:\\Users\\marlin.arnz\\AppData\\Local\\Continuum\\miniconda3\\envs\\quetzal\\lib\\site-packages\\matplotlib\\mpl-data\\stylelib\\_classic_test.mplstyle, line 123 ('text.latex.preview : False')\n",
      "You probably need to get an updated matplotlibrc file from\n",
      "https://github.com/matplotlib/matplotlib/blob/v3.5.2/matplotlibrc.template\n",
      "or from the matplotlib source distribution\n",
      "\n",
      "Bad key mathtext.fallback_to_cm in file C:\\Users\\marlin.arnz\\AppData\\Local\\Continuum\\miniconda3\\envs\\quetzal\\lib\\site-packages\\matplotlib\\mpl-data\\stylelib\\_classic_test.mplstyle, line 155 ('mathtext.fallback_to_cm : True  # When True, use symbols from the Computer Modern')\n",
      "You probably need to get an updated matplotlibrc file from\n",
      "https://github.com/matplotlib/matplotlib/blob/v3.5.2/matplotlibrc.template\n",
      "or from the matplotlib source distribution\n",
      "\n",
      "Bad key savefig.jpeg_quality in file C:\\Users\\marlin.arnz\\AppData\\Local\\Continuum\\miniconda3\\envs\\quetzal\\lib\\site-packages\\matplotlib\\mpl-data\\stylelib\\_classic_test.mplstyle, line 418 ('savefig.jpeg_quality: 95       # when a jpeg is saved, the default quality parameter.')\n",
      "You probably need to get an updated matplotlibrc file from\n",
      "https://github.com/matplotlib/matplotlib/blob/v3.5.2/matplotlibrc.template\n",
      "or from the matplotlib source distribution\n",
      "\n",
      "Bad key keymap.all_axes in file C:\\Users\\marlin.arnz\\AppData\\Local\\Continuum\\miniconda3\\envs\\quetzal\\lib\\site-packages\\matplotlib\\mpl-data\\stylelib\\_classic_test.mplstyle, line 466 ('keymap.all_axes : a                 # enable all axes')\n",
      "You probably need to get an updated matplotlibrc file from\n",
      "https://github.com/matplotlib/matplotlib/blob/v3.5.2/matplotlibrc.template\n",
      "or from the matplotlib source distribution\n",
      "\n",
      "Bad key animation.avconv_path in file C:\\Users\\marlin.arnz\\AppData\\Local\\Continuum\\miniconda3\\envs\\quetzal\\lib\\site-packages\\matplotlib\\mpl-data\\stylelib\\_classic_test.mplstyle, line 477 ('animation.avconv_path: avconv     # Path to avconv binary. Without full path')\n",
      "You probably need to get an updated matplotlibrc file from\n",
      "https://github.com/matplotlib/matplotlib/blob/v3.5.2/matplotlibrc.template\n",
      "or from the matplotlib source distribution\n",
      "\n",
      "Bad key animation.avconv_args in file C:\\Users\\marlin.arnz\\AppData\\Local\\Continuum\\miniconda3\\envs\\quetzal\\lib\\site-packages\\matplotlib\\mpl-data\\stylelib\\_classic_test.mplstyle, line 479 ('animation.avconv_args:            # Additional arguments to pass to avconv')\n",
      "You probably need to get an updated matplotlibrc file from\n",
      "https://github.com/matplotlib/matplotlib/blob/v3.5.2/matplotlibrc.template\n",
      "or from the matplotlib source distribution\n"
     ]
    }
   ],
   "source": [
    "import sys # for automation and parallelisation\n",
    "manual, scenario = (True, 'base') if 'ipykernel' in sys.argv[0] else (False, sys.argv[1])\n",
    "if manual:\n",
    "    %matplotlib inline"
   ]
  },
  {
   "cell_type": "code",
   "execution_count": 2,
   "metadata": {},
   "outputs": [],
   "source": [
    "import numpy as np\n",
    "import pandas as pd\n",
    "import geopandas as gpd\n",
    "from shapely import geometry\n",
    "from geopy.distance import geodesic\n",
    "from tqdm import tqdm\n",
    "import shapely.speedups\n",
    "from quetzal.model import stepmodel\n",
    "from quetzal.io import excel"
   ]
  },
  {
   "cell_type": "markdown",
   "metadata": {},
   "source": [
    "# Preparation of the transport network.\n",
    "## Saves PT networks with clustered nodes.\n",
    "## Needs PT networks."
   ]
  },
  {
   "cell_type": "code",
   "execution_count": 3,
   "metadata": {},
   "outputs": [],
   "source": [
    "input_path = '../input_static/'\n",
    "output_path = '../output/'\n",
    "model_path = '../model/'"
   ]
  },
  {
   "cell_type": "code",
   "execution_count": 4,
   "metadata": {},
   "outputs": [],
   "source": [
    "# Load scenario parameters\n",
    "params = excel.read_var(file='../input/parameters.xls', scenario=scenario)"
   ]
  },
  {
   "cell_type": "code",
   "execution_count": 5,
   "metadata": {},
   "outputs": [],
   "source": [
    "bus = stepmodel.read_json(input_path + 'de_pt_network_bus')"
   ]
  },
  {
   "cell_type": "code",
   "execution_count": 6,
   "metadata": {},
   "outputs": [],
   "source": [
    "sm = stepmodel.read_json(input_path + 'de_pt_network')"
   ]
  },
  {
   "cell_type": "code",
   "execution_count": 7,
   "metadata": {},
   "outputs": [],
   "source": [
    "# Make sure to use the right zones\n",
    "try:\n",
    "    z = stepmodel.read_json(model_path + scenario + '/' + 'de_zones')\n",
    "except FileNotFoundError:\n",
    "    z = stepmodel.read_json(model_path + 'base' + '/' + 'de_zones')\n",
    "#z.zones['FID'] = z.zones['NUTS_ID']\n",
    "sm.zones = gpd.GeoDataFrame(z.zones)\n",
    "bus.zones = gpd.GeoDataFrame(z.zones)"
   ]
  },
  {
   "cell_type": "code",
   "execution_count": 9,
   "metadata": {},
   "outputs": [],
   "source": [
    "# Add reactivate links and nodes to the network, if policy is set\n",
    "reasons = params['network_reactivation']['inclusion_reasons']\n",
    "if isinstance(reasons, str):\n",
    "    # Load rail network reactivation links and nodes\n",
    "    reac_links = gpd.read_file(input_path + '/de_rail_reactivation/links.geojson')\n",
    "    reac_nodes = gpd.read_file(input_path + '/de_rail_reactivation/nodes.geojson')\n",
    "    \n",
    "    # Adjust format to sm.links\n",
    "    reac_links.drop('index', axis=1, inplace=True)\n",
    "    reac_links.index = ['rs_reac_'+str(i) for i in range(len(reac_links))]\n",
    "    nodes_new_index = ['rs_reac_'+str(i) for i in range(len(reac_nodes))]\n",
    "    node_dict = dict(zip(reac_nodes['index'], nodes_new_index))\n",
    "    reac_links['a'] = reac_links['a'].map(node_dict)\n",
    "    reac_links['b'] = reac_links['b'].map(node_dict)\n",
    "    reac_nodes.index = nodes_new_index\n",
    "    reac_nodes['route_type'] = 'rail_short'\n",
    "    reac_links['route_id'] = reac_links['trip_id']\n",
    "    \n",
    "    # Commpute headways from scenario settings\n",
    "    reac_nodes['urbanisation'] = np.nan\n",
    "    shapely.speedups.enable()\n",
    "    for u in sm.zones['urbanisation'].unique():\n",
    "        reac_nodes.loc[reac_nodes['geometry'].within(\n",
    "            sm.zones.loc[sm.zones['urbanisation']==u, 'geometry'].unary_union\n",
    "        ), 'urbanisation'] = u\n",
    "    reac_nodes.loc[reac_nodes['urbanisation'].isna(), 'urbanisation'] = 3\n",
    "    reac_links['urbanisation'] = reac_links['a'].map(reac_nodes['urbanisation']).astype(int)\n",
    "    reac_links['headway'] = np.nan\n",
    "    for u in sm.zones['urbanisation'].unique():\n",
    "        reac_links.loc[reac_links['urbanisation']==u, 'headway'] = params['max_headway_urban'+str(u)]['rail_short']\n",
    "\n",
    "    # Filter for reasons\n",
    "    reasons = [s.strip() for s in reasons.split(';')]\n",
    "    if reasons == list('ABCDEFGHI'):\n",
    "        filtered_links = reac_links\n",
    "        filtered_nodes = reac_nodes\n",
    "    else:\n",
    "        filtered_links = reac_links.loc[reac_links['agency_id'].apply(\n",
    "            lambda s: len( set(s.split(';')).intersection(set(reasons)) ) > 0)]\n",
    "        filtered_nodes = reac_nodes.loc[list(set(list(filtered_links['a']) + list(filtered_links['b'])))]\n",
    "    sm.links = pd.concat([sm.links, filtered_links])[list(sm.links.columns)]\n",
    "    sm.nodes = pd.concat([sm.nodes, filtered_nodes])[list(sm.nodes.columns)]\n",
    "    print('Added {} rail short links due to reactivation'.format(len(filtered_links)))"
   ]
  },
  {
   "cell_type": "markdown",
   "metadata": {},
   "source": [
    "## Test links and nodes for network integrity\n",
    "Neccessary for any further steps"
   ]
  },
  {
   "cell_type": "code",
   "execution_count": 10,
   "metadata": {},
   "outputs": [],
   "source": [
    "# FIRST: Set time of free-rider links\n",
    "# Default velocity of 14 m/s for rail links\n",
    "sm.links.loc[sm.links['time']==0, 'time'] = sm.links.loc[\n",
    "    sm.links['time']==0, 'geometry'].apply(\n",
    "        lambda l: int(geodesic(l.coords[0], l.coords[-1]).m)) / 14\n",
    "# 8 m/s for bus links\n",
    "bus.links.loc[bus.links['time']==0, 'time'] = bus.links.loc[\n",
    "    bus.links['time']==0, 'geometry'].apply(\n",
    "        lambda l: int(geodesic(l.coords[0], l.coords[-1]).m)) / 8"
   ]
  },
  {
   "cell_type": "code",
   "execution_count": 11,
   "metadata": {},
   "outputs": [
    {
     "name": "stdout",
     "output_type": "stream",
     "text": [
      "no road_links or road_nodes\n"
     ]
    }
   ],
   "source": [
    "# Check nodeset integrity for later steps to work\n",
    "try:\n",
    "    sm.integrity_test_nodeset_consistency()\n",
    "except AssertionError:\n",
    "    print('Found {} orphan nodes'.format(len(sm.orphan_nodes)))\n",
    "    sm.nodes.drop(sm.orphan_nodes, inplace=True)\n",
    "    # Test integrity again\n",
    "    sm.integrity_test_nodeset_consistency()"
   ]
  },
  {
   "cell_type": "code",
   "execution_count": 12,
   "metadata": {},
   "outputs": [],
   "source": [
    "# Test sequences\n",
    "# Use an own function because quetzal's takes ages\n",
    "def test_sequences(trip):\n",
    "    assert len(trip)==trip['link_sequence'].max(), \\\n",
    "        'broken sequence in trip {}'.format(trip['trip_id'].unique()[0])"
   ]
  },
  {
   "cell_type": "code",
   "execution_count": 13,
   "metadata": {},
   "outputs": [],
   "source": [
    "# Fix sequences\n",
    "# Use an own function because quetzal's takes ages\n",
    "def fix_sequences(trip):\n",
    "    if len(trip) > 1:\n",
    "        trip = trip.sort_values('link_sequence')\n",
    "        # Check link succession\n",
    "        ind = list(trip.index)\n",
    "        for i in range(len(trip.index) - 1):\n",
    "            try:\n",
    "                assert trip.loc[ind[i], 'b'] == trip.loc[ind[i+1], 'a'], \\\n",
    "                    'broken trip {}: stop {} has no successor link'.format(\n",
    "                        trip['trip_id'].unique()[0], trip.loc[ind[i], 'b'])\n",
    "            except AssertionError:\n",
    "                trip.loc[ind[i+1]:ind[-1], 'trip_id'] = \\\n",
    "                    trip.loc[ind[i+1]:ind[-1], 'trip_id'] + '_' + str(i)\n",
    "        # Repair sequences\n",
    "        if len(trip) != trip['link_sequence'].max():\n",
    "            trip['link_sequence'] = trip.groupby('trip_id')['link_sequence'].apply(\n",
    "                lambda t: [j for j in range(1, len(t.index)+1)]).sum()\n",
    "    return trip"
   ]
  },
  {
   "cell_type": "code",
   "execution_count": 14,
   "metadata": {},
   "outputs": [],
   "source": [
    "# Test and save broken sequences\n",
    "def test_sequences_save(trip):\n",
    "    if len(trip)!=trip['link_sequence'].max():\n",
    "        return list(trip.index)"
   ]
  },
  {
   "cell_type": "code",
   "execution_count": 15,
   "metadata": {},
   "outputs": [],
   "source": [
    "try:\n",
    "    sm.links.groupby('trip_id').apply(test_sequences)\n",
    "except AssertionError:\n",
    "    links = sm.links.groupby('trip_id').apply(fix_sequences).reset_index(level=0, drop=True)\n",
    "    links.groupby('trip_id').apply(test_sequences)\n",
    "    sm.links = links"
   ]
  },
  {
   "cell_type": "code",
   "execution_count": 16,
   "metadata": {},
   "outputs": [],
   "source": [
    "broken_seqs = bus.links.groupby('trip_id').apply(test_sequences_save)\n",
    "if not broken_seqs is None:\n",
    "    links = bus.links.loc[broken_seqs.loc[broken_seqs.notna()].sum()\n",
    "                         ].groupby('trip_id').apply(fix_sequences)\n",
    "    links.reset_index(level=0, drop=True, inplace=True)\n",
    "    links.groupby('trip_id').apply(test_sequences)\n",
    "    bus.links = pd.concat([bus.links.drop(broken_seqs.loc[broken_seqs.notna()].sum()), links])"
   ]
  },
  {
   "cell_type": "code",
   "execution_count": 17,
   "metadata": {},
   "outputs": [],
   "source": [
    "assert len(bus.nodes['route_type'].unique()) == 1"
   ]
  },
  {
   "cell_type": "code",
   "execution_count": 18,
   "metadata": {},
   "outputs": [
    {
     "data": {
      "text/html": [
       "<div>\n",
       "<style scoped>\n",
       "    .dataframe tbody tr th:only-of-type {\n",
       "        vertical-align: middle;\n",
       "    }\n",
       "\n",
       "    .dataframe tbody tr th {\n",
       "        vertical-align: top;\n",
       "    }\n",
       "\n",
       "    .dataframe thead th {\n",
       "        text-align: right;\n",
       "    }\n",
       "</style>\n",
       "<table border=\"1\" class=\"dataframe\">\n",
       "  <thead>\n",
       "    <tr style=\"text-align: right;\">\n",
       "      <th></th>\n",
       "      <th>route_id</th>\n",
       "      <th>route_type</th>\n",
       "      <th>a</th>\n",
       "      <th>b</th>\n",
       "      <th>time</th>\n",
       "      <th>trip_id</th>\n",
       "      <th>link_sequence</th>\n",
       "      <th>headway</th>\n",
       "      <th>geometry</th>\n",
       "    </tr>\n",
       "    <tr>\n",
       "      <th>index</th>\n",
       "      <th></th>\n",
       "      <th></th>\n",
       "      <th></th>\n",
       "      <th></th>\n",
       "      <th></th>\n",
       "      <th></th>\n",
       "      <th></th>\n",
       "      <th></th>\n",
       "      <th></th>\n",
       "    </tr>\n",
       "  </thead>\n",
       "  <tbody>\n",
       "    <tr>\n",
       "      <th>rs_38631</th>\n",
       "      <td>rs_31</td>\n",
       "      <td>rail_short</td>\n",
       "      <td>rs_n_1954</td>\n",
       "      <td>rs_n_1436</td>\n",
       "      <td>60.0</td>\n",
       "      <td>rs_31_15</td>\n",
       "      <td>13</td>\n",
       "      <td>3600</td>\n",
       "      <td>LINESTRING (6.79198 51.21014, 6.80868 51.20805)</td>\n",
       "    </tr>\n",
       "  </tbody>\n",
       "</table>\n",
       "</div>"
      ],
      "text/plain": [
       "         route_id  route_type          a          b  time   trip_id  \\\n",
       "index                                                                 \n",
       "rs_38631    rs_31  rail_short  rs_n_1954  rs_n_1436  60.0  rs_31_15   \n",
       "\n",
       "          link_sequence  headway  \\\n",
       "index                              \n",
       "rs_38631             13     3600   \n",
       "\n",
       "                                                 geometry  \n",
       "index                                                      \n",
       "rs_38631  LINESTRING (6.79198 51.21014, 6.80868 51.20805)  "
      ]
     },
     "execution_count": 18,
     "metadata": {},
     "output_type": "execute_result"
    }
   ],
   "source": [
    "sm.links.sample()"
   ]
  },
  {
   "cell_type": "code",
   "execution_count": 19,
   "metadata": {},
   "outputs": [
    {
     "data": {
      "text/html": [
       "<div>\n",
       "<style scoped>\n",
       "    .dataframe tbody tr th:only-of-type {\n",
       "        vertical-align: middle;\n",
       "    }\n",
       "\n",
       "    .dataframe tbody tr th {\n",
       "        vertical-align: top;\n",
       "    }\n",
       "\n",
       "    .dataframe thead th {\n",
       "        text-align: right;\n",
       "    }\n",
       "</style>\n",
       "<table border=\"1\" class=\"dataframe\">\n",
       "  <thead>\n",
       "    <tr style=\"text-align: right;\">\n",
       "      <th></th>\n",
       "      <th>stop_name</th>\n",
       "      <th>route_type</th>\n",
       "      <th>geometry</th>\n",
       "    </tr>\n",
       "    <tr>\n",
       "      <th>index</th>\n",
       "      <th></th>\n",
       "      <th></th>\n",
       "      <th></th>\n",
       "    </tr>\n",
       "  </thead>\n",
       "  <tbody>\n",
       "    <tr>\n",
       "      <th>rs_n_1476</th>\n",
       "      <td>Königstein(Sächs Schw)</td>\n",
       "      <td>rail_short</td>\n",
       "      <td>POINT (14.07890 50.91945)</td>\n",
       "    </tr>\n",
       "  </tbody>\n",
       "</table>\n",
       "</div>"
      ],
      "text/plain": [
       "                        stop_name  route_type                   geometry\n",
       "index                                                                   \n",
       "rs_n_1476  Königstein(Sächs Schw)  rail_short  POINT (14.07890 50.91945)"
      ]
     },
     "execution_count": 19,
     "metadata": {},
     "output_type": "execute_result"
    }
   ],
   "source": [
    "sm.nodes.sample()"
   ]
  },
  {
   "cell_type": "markdown",
   "metadata": {},
   "source": [
    "## Cluster nodes\n",
    "\n",
    "Apply agglomerative clustering by zone with mode-specific distance thresholds. They determine the radius of any node cluster."
   ]
  },
  {
   "cell_type": "code",
   "execution_count": 20,
   "metadata": {},
   "outputs": [],
   "source": [
    "# Merge bus with other PT\n",
    "sm.links = pd.concat([sm.links, bus.links])\n",
    "sm.nodes = pd.concat([sm.nodes, bus.nodes])"
   ]
  },
  {
   "cell_type": "code",
   "execution_count": 21,
   "metadata": {},
   "outputs": [
    {
     "data": {
      "text/plain": [
       "(2171507, 9)"
      ]
     },
     "execution_count": 21,
     "metadata": {},
     "output_type": "execute_result"
    }
   ],
   "source": [
    "sm.links.shape"
   ]
  },
  {
   "cell_type": "code",
   "execution_count": 22,
   "metadata": {},
   "outputs": [
    {
     "data": {
      "text/plain": [
       "(410735, 3)"
      ]
     },
     "execution_count": 22,
     "metadata": {},
     "output_type": "execute_result"
    }
   ],
   "source": [
    "sm.nodes.shape"
   ]
  },
  {
   "cell_type": "code",
   "execution_count": 23,
   "metadata": {},
   "outputs": [],
   "source": [
    "# aggregate local bus and tram, underground, ferry, funicular\n",
    "if 'subway' in sm.links['route_type'].unique():\n",
    "    sm.links['route_type_disagg'] = sm.links['route_type'].copy()\n",
    "    sm.links['route_type'] = sm.links['route_type'].replace(\n",
    "        {'tram': 'bus', 'subway': 'bus', 'ferry': 'bus', 'funicular': 'bus'})\n",
    "    sm.pt_route_types = list(sm.links['route_type'].unique())"
   ]
  },
  {
   "cell_type": "code",
   "execution_count": 24,
   "metadata": {},
   "outputs": [
    {
     "name": "stderr",
     "output_type": "stream",
     "text": [
      "Reprojecting model from epsg 4326 to epsg 3857: 100%|██████████████████████████████████| 38/38 [00:05<00:00,  6.51it/s]\n"
     ]
    }
   ],
   "source": [
    "# Convert the coordinate system to metric, cartesian\n",
    "# for the clustering algorithm to work\n",
    "sm = sm.change_epsg(3857, 'meter')"
   ]
  },
  {
   "cell_type": "code",
   "execution_count": 25,
   "metadata": {},
   "outputs": [
    {
     "name": "stdout",
     "output_type": "stream",
     "text": [
      "Mean distance threshold is 500\n",
      "Mean distance threshold is 500\n",
      "Mean distance threshold is 5000\n",
      "Mean distance threshold is 1200\n"
     ]
    }
   ],
   "source": [
    "# Cluster agglomeratively (with a cluster radius)\n",
    "# by route_type and zone\n",
    "nodes = []\n",
    "all_nodes = gpd.GeoDataFrame(sm.nodes.copy())\n",
    "links = []\n",
    "all_links = gpd.GeoDataFrame(sm.links.copy())\n",
    "sm.clustering_zones = sm.zones.copy()\n",
    "# Process each mode seperately and concatenate tables in the end\n",
    "for mode in sm.nodes['route_type'].unique():\n",
    "    sm.nodes = all_nodes.loc[all_nodes['route_type']==mode]\n",
    "    sm.links = all_links.loc[all_links['route_type']==mode]\n",
    "    dist_col = 'radius_'+mode\n",
    "    sm.clustering_zones[dist_col] = params['clustering'][dist_col]\n",
    "    \n",
    "    if sm.clustering_zones[dist_col].mean() != 0:\n",
    "        sm.preparation_clusterize_nodes(adaptive_clustering=True, distance_col=dist_col)\n",
    "        # Reindex with mode names\n",
    "        prefix = ''.join([s[0] for s in mode.split('_')]) + '_'\n",
    "        sm.nodes.index = [prefix + str(i) for i in sm.nodes.index]\n",
    "        sm.links['a'] = prefix + sm.links['a'].apply(str)\n",
    "        sm.links['b'] = prefix + sm.links['b'].apply(str)\n",
    "        # Set route_type\n",
    "        sm.nodes['route_type'] = mode\n",
    "        \n",
    "    nodes.append(sm.nodes.copy())\n",
    "    links.append(sm.links.copy())\n",
    "    \n",
    "sm.nodes = pd.concat(nodes)\n",
    "sm.links = pd.concat(links)"
   ]
  },
  {
   "cell_type": "code",
   "execution_count": 26,
   "metadata": {},
   "outputs": [
    {
     "data": {
      "text/html": [
       "<div>\n",
       "<style scoped>\n",
       "    .dataframe tbody tr th:only-of-type {\n",
       "        vertical-align: middle;\n",
       "    }\n",
       "\n",
       "    .dataframe tbody tr th {\n",
       "        vertical-align: top;\n",
       "    }\n",
       "\n",
       "    .dataframe thead th {\n",
       "        text-align: right;\n",
       "    }\n",
       "</style>\n",
       "<table border=\"1\" class=\"dataframe\">\n",
       "  <thead>\n",
       "    <tr style=\"text-align: right;\">\n",
       "      <th></th>\n",
       "      <th>geometry</th>\n",
       "      <th>route_type</th>\n",
       "      <th>stop_name</th>\n",
       "    </tr>\n",
       "  </thead>\n",
       "  <tbody>\n",
       "    <tr>\n",
       "      <th>b_10030000_40</th>\n",
       "      <td>POINT (1185196.552200559 7143678.399360307)</td>\n",
       "      <td>bus</td>\n",
       "      <td>NaN</td>\n",
       "    </tr>\n",
       "  </tbody>\n",
       "</table>\n",
       "</div>"
      ],
      "text/plain": [
       "                                                  geometry route_type  \\\n",
       "b_10030000_40  POINT (1185196.552200559 7143678.399360307)        bus   \n",
       "\n",
       "              stop_name  \n",
       "b_10030000_40       NaN  "
      ]
     },
     "execution_count": 26,
     "metadata": {},
     "output_type": "execute_result"
    }
   ],
   "source": [
    "sm.nodes.sample()"
   ]
  },
  {
   "cell_type": "code",
   "execution_count": 27,
   "metadata": {},
   "outputs": [
    {
     "data": {
      "text/plain": [
       "126997"
      ]
     },
     "execution_count": 27,
     "metadata": {},
     "output_type": "execute_result"
    }
   ],
   "source": [
    "len(sm.nodes)"
   ]
  },
  {
   "cell_type": "code",
   "execution_count": 28,
   "metadata": {},
   "outputs": [
    {
     "name": "stderr",
     "output_type": "stream",
     "text": [
      "Reprojecting model from epsg 3857 to epsg 4326: 100%|██████████████████████████████████| 39/39 [00:07<00:00,  5.13it/s]\n"
     ]
    }
   ],
   "source": [
    "# Convert the coordinate system back\n",
    "sm = sm.change_epsg(4326, 'degree')"
   ]
  },
  {
   "cell_type": "code",
   "execution_count": 29,
   "metadata": {},
   "outputs": [
    {
     "data": {
      "image/png": "[encoded data removed]",
      "text/plain": [
       "<Figure size 648x648 with 1 Axes>"
      ]
     },
     "metadata": {
      "needs_background": "light"
     },
     "output_type": "display_data"
    }
   ],
   "source": [
    "# Cluster coverage\n",
    "if manual: gpd.GeoDataFrame(sm.node_parenthood).plot(color='blue', figsize=(9,9))"
   ]
  },
  {
   "cell_type": "code",
   "execution_count": 30,
   "metadata": {},
   "outputs": [
    {
     "data": {
      "text/plain": [
       "3.3102494925787025"
      ]
     },
     "execution_count": 30,
     "metadata": {},
     "output_type": "execute_result"
    }
   ],
   "source": [
    "# Average number of stops per cluster\n",
    "sm.node_clusters['count'].mean()"
   ]
  },
  {
   "cell_type": "markdown",
   "metadata": {},
   "source": [
    "## Clean\n",
    "And map nodes to zones"
   ]
  },
  {
   "cell_type": "code",
   "execution_count": 31,
   "metadata": {},
   "outputs": [
    {
     "name": "stderr",
     "output_type": "stream",
     "text": [
      "100%|██████████████████████████████████████████████████████████████████████████████| 4602/4602 [01:31<00:00, 50.26it/s]\n"
     ]
    },
    {
     "data": {
      "text/plain": [
       "2"
      ]
     },
     "execution_count": 31,
     "metadata": {},
     "output_type": "execute_result"
    }
   ],
   "source": [
    "# Map nodes to zones\n",
    "sm.nodes = gpd.GeoDataFrame(sm.nodes, crs=sm.epsg)\n",
    "shapely.speedups.enable()\n",
    "sm.nodes['FID'] = np.nan\n",
    "for _, zone in tqdm(sm.zones.iterrows(), total=sm.zones.shape[0]):\n",
    "    sm.nodes.loc[sm.nodes['geometry'].within(zone['geometry'].buffer(1e-3)), 'FID'] = zone['FID']\n",
    "len(sm.nodes.loc[sm.nodes['FID'].isna()])"
   ]
  },
  {
   "cell_type": "code",
   "execution_count": 32,
   "metadata": {},
   "outputs": [],
   "source": [
    "# Fill zone information of outer stops\n",
    "assert len(sm.nodes[sm.nodes['FID'].isna()]) < 100\n",
    "sm.nodes.loc[sm.nodes['FID'].isna(), 'FID'] = 0#sm.nodes.loc[sm.nodes['FID'].isna()].index.str[2:]"
   ]
  },
  {
   "cell_type": "code",
   "execution_count": 33,
   "metadata": {},
   "outputs": [
    {
     "data": {
      "text/plain": [
       "(2171507, 12)"
      ]
     },
     "execution_count": 33,
     "metadata": {},
     "output_type": "execute_result"
    }
   ],
   "source": [
    "# Repair link geometry\n",
    "geo_dict = sm.nodes['geometry'].to_dict()\n",
    "sm.links['geometry'] = [geometry.LineString((geo_dict[a].coords[0], geo_dict[b].coords[0]))\n",
    "                        for a,b in sm.links[['a', 'b']].values]\n",
    "sm.links.shape"
   ]
  },
  {
   "cell_type": "code",
   "execution_count": 34,
   "metadata": {},
   "outputs": [
    {
     "data": {
      "text/plain": [
       "(2096074, 12)"
      ]
     },
     "execution_count": 34,
     "metadata": {},
     "output_type": "execute_result"
    }
   ],
   "source": [
    "# Drop trips with different IDs but same stop sequences\n",
    "s = sm.links.groupby('trip_id').agg(tuple).drop_duplicates('a', keep='first')\n",
    "sm.links = sm.links.loc[sm.links['trip_id'].isin(s.index)]\n",
    "sm.links.shape"
   ]
  },
  {
   "cell_type": "code",
   "execution_count": 35,
   "metadata": {},
   "outputs": [],
   "source": [
    "# Remove within-cluster links\n",
    "# Neglect time savings when small cluster distances applied\n",
    "def fix_circular(trip):\n",
    "    drops = trip.loc[trip['a']==trip['b']].index\n",
    "    if len(drops) > 0:\n",
    "        trip = trip.drop(drops).sort_values('link_sequence')\n",
    "        trip['link_sequence'] = list(range(1, len(trip)+1))\n",
    "    return trip"
   ]
  },
  {
   "cell_type": "code",
   "execution_count": 36,
   "metadata": {},
   "outputs": [
    {
     "data": {
      "text/plain": [
       "(1599398, 12)"
      ]
     },
     "execution_count": 36,
     "metadata": {},
     "output_type": "execute_result"
    }
   ],
   "source": [
    "sm.links = sm.links.groupby('trip_id').apply(fix_circular).reset_index(level=0, drop=True)\n",
    "sm.links.shape"
   ]
  },
  {
   "cell_type": "code",
   "execution_count": 37,
   "metadata": {},
   "outputs": [
    {
     "data": {
      "text/plain": [
       "(1504464, 12)"
      ]
     },
     "execution_count": 37,
     "metadata": {},
     "output_type": "execute_result"
    }
   ],
   "source": [
    "# Again: Drop trips with different IDs but same stop sequences\n",
    "s = sm.links.groupby('trip_id').agg(tuple).drop_duplicates('a', keep='first')\n",
    "sm.links = sm.links.loc[sm.links['trip_id'].isin(s.index)]\n",
    "sm.links.shape"
   ]
  },
  {
   "cell_type": "code",
   "execution_count": 38,
   "metadata": {},
   "outputs": [
    {
     "name": "stdout",
     "output_type": "stream",
     "text": [
      "Number of orphan nodes: 15\n",
      "Number of missing nodes: 0\n"
     ]
    },
    {
     "data": {
      "text/html": [
       "<div>\n",
       "<style scoped>\n",
       "    .dataframe tbody tr th:only-of-type {\n",
       "        vertical-align: middle;\n",
       "    }\n",
       "\n",
       "    .dataframe tbody tr th {\n",
       "        vertical-align: top;\n",
       "    }\n",
       "\n",
       "    .dataframe thead th {\n",
       "        text-align: right;\n",
       "    }\n",
       "</style>\n",
       "<table border=\"1\" class=\"dataframe\">\n",
       "  <thead>\n",
       "    <tr style=\"text-align: right;\">\n",
       "      <th></th>\n",
       "    </tr>\n",
       "  </thead>\n",
       "  <tbody>\n",
       "  </tbody>\n",
       "</table>\n",
       "</div>"
      ],
      "text/plain": [
       "Empty GeoDataFrame\n",
       "Columns: []\n",
       "Index: []"
      ]
     },
     "execution_count": 38,
     "metadata": {},
     "output_type": "execute_result"
    }
   ],
   "source": [
    "# Integrity tests\n",
    "try:\n",
    "    sm.integrity_test_nodeset_consistency()\n",
    "except AssertionError:\n",
    "    print('Number of orphan nodes: {}'.format(\n",
    "        len(sm.orphan_nodes)))\n",
    "    print('Number of missing nodes: {}'.format(\n",
    "        len(sm.missing_nodes)))\n",
    "sm.links.groupby('trip_id').apply(test_sequences)"
   ]
  },
  {
   "cell_type": "code",
   "execution_count": 39,
   "metadata": {},
   "outputs": [],
   "source": [
    "# Drop orphan nodes\n",
    "if len(sm.orphan_nodes) > 0: sm.nodes.drop(sm.orphan_nodes, inplace=True)"
   ]
  },
  {
   "cell_type": "code",
   "execution_count": 40,
   "metadata": {},
   "outputs": [],
   "source": [
    "# Test for circular trips (quetzal's function takes too long)\n",
    "def test_circular(trip):\n",
    "    if len(set(list(trip['a'])+list(trip['b']))) != len(trip)+1:\n",
    "        return trip"
   ]
  },
  {
   "cell_type": "code",
   "execution_count": 41,
   "metadata": {},
   "outputs": [
    {
     "name": "stdout",
     "output_type": "stream",
     "text": [
      "Number of links in circular trips: 388115\n",
      "Number of bus links in circular trips: 387254\n"
     ]
    }
   ],
   "source": [
    "# Test circular trips\n",
    "circular = sm.links.groupby('trip_id').apply(test_circular)\n",
    "print('Number of links in circular trips: '+str(len(circular)))\n",
    "print('Number of bus links in circular trips: '+str(len(circular.loc[circular['route_type']=='bus'])))"
   ]
  },
  {
   "cell_type": "code",
   "execution_count": 42,
   "metadata": {},
   "outputs": [],
   "source": [
    "# Fix circularity issue by splitting trips\n",
    "# Results in an additional interchange but prevents\n",
    "# dropping a large number of connections\n",
    "def fix_circular_split(trip):\n",
    "    def split_trip(trip, split_by):\n",
    "        split = [trip.index.get_loc(i) for i in trip.loc[trip[split_by].duplicated(keep=False)].index]\n",
    "        if len(split) >= 1:\n",
    "            trips = []\n",
    "            # First stops\n",
    "            trips.append(trip.iloc[: split[0]+1])\n",
    "            # Middle stops\n",
    "            for i in range(1, len(split)):\n",
    "                t = trip.iloc[split[i-1]+1 : split[i]]\n",
    "                t['trip_id'] = t['trip_id'] + '_' + str(i) + str(split_by)\n",
    "                t['link_sequence'] = list(range(1, len(t)+1))\n",
    "                trips.append(t)\n",
    "            # Last stops\n",
    "            t = trip.iloc[split[-1] :]\n",
    "            t['trip_id'] = t['trip_id'] + '_n' + str(split_by)\n",
    "            t['link_sequence'] = list(range(1, len(t)+1))\n",
    "            trips.append(t)\n",
    "            return pd.concat(trips)\n",
    "        else:\n",
    "            return trip\n",
    "    # Split duplicated b stops\n",
    "    trip = split_trip(trip, 'b')\n",
    "    # Split duplicated a stops\n",
    "    trip = trip.groupby('trip_id').apply(split_trip, 'a')\n",
    "    return trip"
   ]
  },
  {
   "cell_type": "code",
   "execution_count": 43,
   "metadata": {},
   "outputs": [
    {
     "data": {
      "text/plain": [
       "364625"
      ]
     },
     "execution_count": 43,
     "metadata": {},
     "output_type": "execute_result"
    }
   ],
   "source": [
    "fixed = circular.reset_index(level='trip_id', drop=True).groupby('trip_id').apply(fix_circular_split)\n",
    "len(fixed)"
   ]
  },
  {
   "cell_type": "code",
   "execution_count": 44,
   "metadata": {},
   "outputs": [
    {
     "data": {
      "text/plain": [
       "354121"
      ]
     },
     "execution_count": 44,
     "metadata": {},
     "output_type": "execute_result"
    }
   ],
   "source": [
    "# Check that there are no circular lines anymore and the sequences are consecutive\n",
    "fixed = fixed.reset_index(level='trip_id', drop=True)\n",
    "fixed.groupby('trip_id').apply(test_sequences)\n",
    "still_circular = fixed.groupby('trip_id').apply(test_circular)\n",
    "if len(still_circular) > 0:\n",
    "    fixed.drop(still_circular.reset_index(level='trip_id', drop=True).index, inplace=True)\n",
    "len(fixed)"
   ]
  },
  {
   "cell_type": "code",
   "execution_count": 45,
   "metadata": {},
   "outputs": [
    {
     "data": {
      "text/plain": [
       "1470470"
      ]
     },
     "execution_count": 45,
     "metadata": {},
     "output_type": "execute_result"
    }
   ],
   "source": [
    "# Replace circular lines with fixed trips\n",
    "sm.links = sm.links.loc[~sm.links['trip_id'].isin(circular['trip_id'].unique())]\n",
    "sm.links = pd.concat([sm.links, fixed])\n",
    "len(sm.links)"
   ]
  },
  {
   "cell_type": "code",
   "execution_count": 46,
   "metadata": {},
   "outputs": [],
   "source": [
    "sm.links.drop(['disaggregated_a', 'disaggregated_b'], axis=1, inplace=True)\n",
    "assert len(sm.links.loc[sm.links.isna().any(axis=1)]) == 0"
   ]
  },
  {
   "cell_type": "code",
   "execution_count": 47,
   "metadata": {},
   "outputs": [],
   "source": [
    "# Add bus service to ancilliary\n",
    "sm.agencies = pd.concat([sm.agencies, bus.agencies]).reset_index(drop=True)\n",
    "sm.pt_routes = pd.concat([sm.pt_routes, bus.pt_routes]).reset_index(drop=True)"
   ]
  },
  {
   "cell_type": "code",
   "execution_count": 48,
   "metadata": {},
   "outputs": [
    {
     "data": {
      "text/plain": [
       "['air', 'bus', 'coach', 'rail_long', 'rail_short']"
      ]
     },
     "execution_count": 48,
     "metadata": {},
     "output_type": "execute_result"
    }
   ],
   "source": [
    "# Now, we have bus services in the same tables\n",
    "sm.pt_route_types = list(sm.links['route_type'].unique())\n",
    "sm.pt_route_types"
   ]
  },
  {
   "cell_type": "code",
   "execution_count": 49,
   "metadata": {},
   "outputs": [
    {
     "data": {
      "text/html": [
       "<div>\n",
       "<style scoped>\n",
       "    .dataframe tbody tr th:only-of-type {\n",
       "        vertical-align: middle;\n",
       "    }\n",
       "\n",
       "    .dataframe tbody tr th {\n",
       "        vertical-align: top;\n",
       "    }\n",
       "\n",
       "    .dataframe thead th {\n",
       "        text-align: right;\n",
       "    }\n",
       "</style>\n",
       "<table border=\"1\" class=\"dataframe\">\n",
       "  <thead>\n",
       "    <tr style=\"text-align: right;\">\n",
       "      <th></th>\n",
       "      <th>route_id</th>\n",
       "      <th>route_type</th>\n",
       "      <th>a</th>\n",
       "      <th>b</th>\n",
       "      <th>time</th>\n",
       "      <th>trip_id</th>\n",
       "      <th>link_sequence</th>\n",
       "      <th>headway</th>\n",
       "      <th>geometry</th>\n",
       "      <th>route_type_disagg</th>\n",
       "    </tr>\n",
       "    <tr>\n",
       "      <th>index</th>\n",
       "      <th></th>\n",
       "      <th></th>\n",
       "      <th></th>\n",
       "      <th></th>\n",
       "      <th></th>\n",
       "      <th></th>\n",
       "      <th></th>\n",
       "      <th></th>\n",
       "      <th></th>\n",
       "      <th></th>\n",
       "    </tr>\n",
       "  </thead>\n",
       "  <tbody>\n",
       "    <tr>\n",
       "      <th>rs_22556</th>\n",
       "      <td>rs_196</td>\n",
       "      <td>rail_short</td>\n",
       "      <td>rs_82120000_49</td>\n",
       "      <td>rs_82120000_1</td>\n",
       "      <td>120.0</td>\n",
       "      <td>rs_196_35</td>\n",
       "      <td>15.0</td>\n",
       "      <td>43200.0</td>\n",
       "      <td>LINESTRING (8.34117 49.02669, 8.35199 49.01561)</td>\n",
       "      <td>rail_short</td>\n",
       "    </tr>\n",
       "  </tbody>\n",
       "</table>\n",
       "</div>"
      ],
      "text/plain": [
       "         route_id  route_type               a              b   time  \\\n",
       "index                                                                 \n",
       "rs_22556   rs_196  rail_short  rs_82120000_49  rs_82120000_1  120.0   \n",
       "\n",
       "            trip_id  link_sequence  headway  \\\n",
       "index                                         \n",
       "rs_22556  rs_196_35           15.0  43200.0   \n",
       "\n",
       "                                                 geometry route_type_disagg  \n",
       "index                                                                        \n",
       "rs_22556  LINESTRING (8.34117 49.02669, 8.35199 49.01561)        rail_short  "
      ]
     },
     "execution_count": 49,
     "metadata": {},
     "output_type": "execute_result"
    }
   ],
   "source": [
    "sm.links.loc[sm.links['route_type']=='rail_short'].sample()"
   ]
  },
  {
   "cell_type": "markdown",
   "metadata": {},
   "source": [
    "## Save model\n"
   ]
  },
  {
   "cell_type": "code",
   "execution_count": 50,
   "metadata": {},
   "outputs": [],
   "source": [
    "# Cast columns to integer\n",
    "cols = ['link_sequence', 'time', 'headway']\n",
    "sm.links[cols] = sm.links[cols].astype(int)"
   ]
  },
  {
   "cell_type": "code",
   "execution_count": 51,
   "metadata": {},
   "outputs": [],
   "source": [
    "# Reduce nodes table size by dropping stop names\n",
    "sm.nodes = sm.nodes[['FID', 'route_type', 'geometry']]\n",
    "if np.issubdtype(sm.nodes['FID'].dtype, np.number):\n",
    "    sm.nodes['FID'] = sm.nodes['FID'].astype(int)"
   ]
  },
  {
   "cell_type": "code",
   "execution_count": 52,
   "metadata": {},
   "outputs": [],
   "source": [
    "# Split links in graph and auxiliary information\n",
    "# for file sizes being compatible with github's size limit\n",
    "cols = ['link_sequence', 'route_id', 'time', 'trip_id', 'headway']\n",
    "auxiliary = sm.links[cols]\n",
    "sm.links.drop(cols, axis=1, inplace=True)"
   ]
  },
  {
   "cell_type": "code",
   "execution_count": 53,
   "metadata": {},
   "outputs": [
    {
     "name": "stderr",
     "output_type": "stream",
     "text": [
      "to_hdf(overwriting): 100%|█████████████████████████████████████████████████████████████| 39/39 [07:02<00:00, 10.84s/it]\n"
     ]
    }
   ],
   "source": [
    "# Saving model...\n",
    "sm.to_json(model_path + scenario + '/' + 'de_pt_network_agg',\n",
    "           only_attributes=['zones', 'links', 'nodes', 'pt_route_types'],\n",
    "           encoding='utf-8')"
   ]
  },
  {
   "cell_type": "code",
   "execution_count": 54,
   "metadata": {},
   "outputs": [
    {
     "name": "stderr",
     "output_type": "stream",
     "text": [
      "to_hdf(overwriting): 100%|█████████████████████████████████████████████████████████████| 39/39 [01:32<00:00,  2.37s/it]\n"
     ]
    }
   ],
   "source": [
    "sm.to_json(model_path + scenario + '/' + 'de_pt_network_ancillary',\n",
    "           only_attributes=['agencies', 'pt_routes', 'node_parenthood'],\n",
    "           encoding='utf-8')"
   ]
  },
  {
   "cell_type": "code",
   "execution_count": 55,
   "metadata": {},
   "outputs": [],
   "source": [
    "# Save auxiliary information seperately\n",
    "auxiliary['index'] = auxiliary.index\n",
    "auxiliary.reset_index(drop=True, inplace=True)\n",
    "auxiliary.to_json(model_path + scenario + '/' + 'de_pt_network_agg/links_quetzaldata.json')"
   ]
  }
 ],
 "metadata": {
  "kernelspec": {
   "display_name": "Python 3 (ipykernel)",
   "language": "python",
   "name": "python3"
  },
  "language_info": {
   "codemirror_mode": {
    "name": "ipython",
    "version": 3
   },
   "file_extension": ".py",
   "mimetype": "text/x-python",
   "name": "python",
   "nbconvert_exporter": "python",
   "pygments_lexer": "ipython3",
   "version": "3.8.13"
  }
 },
 "nbformat": 4,
 "nbformat_minor": 2
}
