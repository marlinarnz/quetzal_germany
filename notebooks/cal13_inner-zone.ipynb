{
 "cells": [
  {
   "cell_type": "code",
   "execution_count": 1,
   "metadata": {},
   "outputs": [
    {
     "name": "stderr",
     "output_type": "stream",
     "text": [
      "C:\\Users\\marlin.arnz\\AppData\\Local\\Continuum\\miniconda3\\envs\\quetzal\\lib\\site-packages\\pyproj\\crs.py:422: FutureWarning: '+init=<authority>:<code>' syntax is deprecated. '<authority>:<code>' is the preferred initialization method.\n",
      "  projstring = _prepare_from_string(projparams)\n"
     ]
    }
   ],
   "source": [
    "import pandas as pd\n",
    "import numpy as np\n",
    "from tqdm import tqdm\n",
    "from quetzal.model import stepmodel"
   ]
  },
  {
   "cell_type": "markdown",
   "metadata": {},
   "source": [
    "# Inner-zonal trips\n",
    "## Preperation of calibration data\n",
    "Assignment of inner-zonal trips is not possible in a classic transport model. Trip lengths by mode and purpose must be approximated with MiD2017 data."
   ]
  },
  {
   "cell_type": "code",
   "execution_count": 26,
   "metadata": {},
   "outputs": [],
   "source": [
    "input_path = '../input/'\n",
    "output_path = '../output/'\n",
    "model_path = '../model/'"
   ]
  },
  {
   "cell_type": "markdown",
   "metadata": {},
   "source": [
    "Inner-cellular mode choice will be dependent on cell-specific network data as well as trip-specific and socio-economic data. All categories must be available in the calibration data set as well as in the model.\n",
    "* Accessibility by mode in this cell (weighted average, see prep33)\n",
    "* Population density (population by km²)\n",
    "* Road network length by km²\n",
    "* Economic status of household or cell (GDP)\n",
    "* Car ownership in this cell"
   ]
  },
  {
   "cell_type": "markdown",
   "metadata": {},
   "source": [
    "### Load trips table from MiD and filter"
   ]
  },
  {
   "cell_type": "code",
   "execution_count": 3,
   "metadata": {},
   "outputs": [],
   "source": [
    "trips = pd.read_csv(input_path + 'transport_demand/MiD2017_Regional_Wege.csv', sep=';')\n",
    "trips = trips[['KKZ_SO', 'KKZ_ZO', 'wegkm_imp','wegmin_imp1',\n",
    "               'hwzweck1', 'hvm_diff2', 'auto', 'W_SO2',\n",
    "               'bahn28', 'bus28', 'ewqkm']] # alternatively sieddichte\n",
    "trips.columns = ['origin', 'destination', 'distance', 'duration',\n",
    "                 'purpose', 'mode', 'car_avail', 'W_SO2',\n",
    "                 'dist_train', 'dist_bus', 'pop_density']\n",
    "trips['distance'] = pd.to_numeric(trips['distance'].str.replace(',', '.'))"
   ]
  },
  {
   "cell_type": "code",
   "execution_count": 4,
   "metadata": {},
   "outputs": [
    {
     "name": "stdout",
     "output_type": "stream",
     "text": [
      "(409507, 9)\n"
     ]
    }
   ],
   "source": [
    "# Filter for inner-German trips\n",
    "trips = trips.loc[(trips['W_SO2']!=2) & (trips['W_SO2']!=3)]\n",
    "# Filter unspecified rows\n",
    "trips = trips.loc[(trips['origin']<9999) &\n",
    "                  (trips['destination']<9999) &\n",
    "                  (trips['purpose']!=99) &\n",
    "                  (trips['mode']<24)]\n",
    "print(trips.shape)"
   ]
  },
  {
   "cell_type": "code",
   "execution_count": 5,
   "metadata": {},
   "outputs": [
    {
     "name": "stdout",
     "output_type": "stream",
     "text": [
      "(300620, 9)\n"
     ]
    }
   ],
   "source": [
    "# Filter for inner-cell traffic\n",
    "trips = trips.loc[trips['origin']==trips['destination']]\n",
    "print(trips.shape)"
   ]
  },
  {
   "cell_type": "code",
   "execution_count": 6,
   "metadata": {},
   "outputs": [
    {
     "name": "stdout",
     "output_type": "stream",
     "text": [
      "(300585, 9)\n"
     ]
    }
   ],
   "source": [
    "# Remove ferries\n",
    "trips = trips.loc[trips['mode']!=19]\n",
    "print(trips.shape)"
   ]
  },
  {
   "cell_type": "code",
   "execution_count": 7,
   "metadata": {},
   "outputs": [],
   "source": [
    "# Match mode with the model modes\n",
    "# Non-motorised modes are merged\n",
    "# See cal10\n",
    "model_modes = {1: 'rail_short_distance', 2: 'rail_long_distance',\n",
    "               3: 'coach', 4: 'bus', 5: 'air', 6: 'car', 7: 'walk'}\n",
    "mode_mid_vp_dict = {1:7, 2:7, 3:7, 4:6, 5:6, 6:6, 7:6, 8:6,\n",
    "                    9:6, 10:6, 11:6, 12:4, 13:4, 14:4, 15:4,\n",
    "                    16:1, 17:6, 18:6, 19:6, 20:2, 21:3, 22:3,\n",
    "                    23:5, 24:7}\n",
    "trips['mode_model'] = trips['mode'].map(mode_mid_vp_dict)"
   ]
  },
  {
   "cell_type": "code",
   "execution_count": 8,
   "metadata": {},
   "outputs": [],
   "source": [
    "# Make car availability binary\n",
    "trips['car_avail'] = trips['car_avail'].replace({9:0})"
   ]
  },
  {
   "cell_type": "code",
   "execution_count": 9,
   "metadata": {},
   "outputs": [],
   "source": [
    "# Match trip purpose with VP2030 categories\n",
    "# Note: Holiday trips are included in private (6)\n",
    "# see cal10\n",
    "purpose_mid_vp_dict = {1: 1, 2: 4, 3: 2, 4: 3, 5: 3, 6: 6, 7: 6, 99: 6}\n",
    "trips['purpose_vp'] = trips['purpose'].map(purpose_mid_vp_dict)"
   ]
  },
  {
   "cell_type": "code",
   "execution_count": 20,
   "metadata": {},
   "outputs": [
    {
     "data": {
      "text/plain": [
       "<matplotlib.axes._subplots.AxesSubplot at 0x1755282a1f0>"
      ]
     },
     "execution_count": 20,
     "metadata": {},
     "output_type": "execute_result"
    },
    {
     "data": {
      "image/png": "[encoded data removed]",
      "text/plain": [
       "<Figure size 432x288 with 1 Axes>"
      ]
     },
     "metadata": {
      "needs_background": "light"
     },
     "output_type": "display_data"
    }
   ],
   "source": [
    "# Trip distance\n",
    "trips['distance'].plot.hist(bins=100, log=True, title='Trip distance distribution, logarithmic')"
   ]
  },
  {
   "cell_type": "code",
   "execution_count": 21,
   "metadata": {},
   "outputs": [
    {
     "data": {
      "text/plain": [
       "<matplotlib.axes._subplots.AxesSubplot at 0x1755efdfbb0>"
      ]
     },
     "execution_count": 21,
     "metadata": {},
     "output_type": "execute_result"
    },
    {
     "data": {
      "image/png": "[encoded data removed]",
      "text/plain": [
       "<Figure size 432x288 with 1 Axes>"
      ]
     },
     "metadata": {
      "needs_background": "light"
     },
     "output_type": "display_data"
    }
   ],
   "source": [
    "# Trip duration\n",
    "trips['duration'].plot.hist(bins=100, log=True, title='Trip duration distribution, logarithmic')"
   ]
  },
  {
   "cell_type": "code",
   "execution_count": 12,
   "metadata": {},
   "outputs": [
    {
     "data": {
      "text/plain": [
       "<matplotlib.axes._subplots.AxesSubplot at 0x17549089a90>"
      ]
     },
     "execution_count": 12,
     "metadata": {},
     "output_type": "execute_result"
    },
    {
     "data": {
      "image/png": "[encoded data removed]",
      "text/plain": [
       "<Figure size 216x216 with 1 Axes>"
      ]
     },
     "metadata": {},
     "output_type": "display_data"
    }
   ],
   "source": [
    "# Trip purpose\n",
    "trips.groupby('purpose_vp').size().plot.pie(\n",
    "    subplots=False,figsize=(3, 3),labels=['work', 'education', 'shopping', 'official', 'private'],\n",
    "    title='share of trips by purpose')"
   ]
  },
  {
   "cell_type": "code",
   "execution_count": 13,
   "metadata": {},
   "outputs": [
    {
     "data": {
      "text/plain": [
       "<matplotlib.legend.Legend at 0x17549019f40>"
      ]
     },
     "execution_count": 13,
     "metadata": {},
     "output_type": "execute_result"
    },
    {
     "data": {
      "image/png": "[encoded data removed]",
      "text/plain": [
       "<Figure size 1152x288 with 5 Axes>"
      ]
     },
     "metadata": {},
     "output_type": "display_data"
    }
   ],
   "source": [
    "# Modal split\n",
    "axs = trips.groupby(['mode_model','purpose_vp']).size().unstack(fill_value=0).rename(\n",
    "    columns={1:'Commuting', 2:'Education', 3:'Shopping/medical', 4:'Business', 6:'Private'}).plot.pie(\n",
    "    subplots=True, figsize=(16, 4), labels=[m for _, m in model_modes.items()],\n",
    "    startangle=0, counterclock=False,\n",
    "    legend=False, labeldistance=None)\n",
    "axs[0].legend()"
   ]
  },
  {
   "cell_type": "code",
   "execution_count": 15,
   "metadata": {},
   "outputs": [
    {
     "name": "stdout",
     "output_type": "stream",
     "text": [
      "(300133, 11)\n"
     ]
    }
   ],
   "source": [
    "# Remove air and coach because their calibration\n",
    "# cannot be significant due to low sample size\n",
    "trips = trips.loc[(trips['mode_model']!=3) &\n",
    "                  (trips['mode_model']!=5)]\n",
    "print(trips.shape)"
   ]
  },
  {
   "cell_type": "markdown",
   "metadata": {},
   "source": [
    "### Imputate network data to trips"
   ]
  },
  {
   "cell_type": "code",
   "execution_count": 16,
   "metadata": {},
   "outputs": [
    {
     "name": "stderr",
     "output_type": "stream",
     "text": [
      "zones: 100%|███████████████████████████████████████████████████████████████████████████| 32/32 [00:38<00:00,  1.22s/it]\n"
     ]
    }
   ],
   "source": [
    "# Loading complete StepModel...\n",
    "sm = stepmodel.read_zip(model_path + 'de_los.zip')"
   ]
  },
  {
   "cell_type": "code",
   "execution_count": 19,
   "metadata": {},
   "outputs": [
    {
     "name": "stdout",
     "output_type": "stream",
     "text": [
      "(299615, 12)\n"
     ]
    }
   ],
   "source": [
    "# Replace LAU IDs with NUTS IDs in origin and destination\n",
    "lau_nuts_dict = sm.zones.set_index('lau_id')['NUTS_ID'].to_dict()\n",
    "trips['NUTS_ID'] = trips['origin'].astype(str).map(lau_nuts_dict)\n",
    "# Drop all other trips\n",
    "trips = trips.loc[trips['NUTS_ID'].notna()]\n",
    "print(trips.shape)"
   ]
  },
  {
   "cell_type": "code",
   "execution_count": 24,
   "metadata": {},
   "outputs": [
    {
     "data": {
      "text/plain": [
       "(318, 12)"
      ]
     },
     "execution_count": 24,
     "metadata": {},
     "output_type": "execute_result"
    }
   ],
   "source": [
    "# Number of zones with survey participants\n",
    "trips.drop_duplicates(subset='NUTS_ID').shape"
   ]
  },
  {
   "cell_type": "markdown",
   "metadata": {},
   "source": [
    "#### Car ownership\n",
    "Car ownership from the German federal statistical office GENESIS data base table 46251-0006: \"Kraftfahrzeugbestand: Kreise, Stichtag, Kraftfahrzeugarten\". Download at Nov. 26th 2020. License: Datenlizenz by-2-0; www.govdata.de/dl-de/by-2-0"
   ]
  },
  {
   "cell_type": "code",
   "execution_count": 47,
   "metadata": {},
   "outputs": [
    {
     "data": {
      "text/html": [
       "<div>\n",
       "<style scoped>\n",
       "    .dataframe tbody tr th:only-of-type {\n",
       "        vertical-align: middle;\n",
       "    }\n",
       "\n",
       "    .dataframe tbody tr th {\n",
       "        vertical-align: top;\n",
       "    }\n",
       "\n",
       "    .dataframe thead th {\n",
       "        text-align: right;\n",
       "    }\n",
       "</style>\n",
       "<table border=\"1\" class=\"dataframe\">\n",
       "  <thead>\n",
       "    <tr style=\"text-align: right;\">\n",
       "      <th></th>\n",
       "      <th>CNTR_CODE</th>\n",
       "      <th>NUTS_NAME</th>\n",
       "      <th>LEVL_CODE</th>\n",
       "      <th>NUTS_ID</th>\n",
       "      <th>geometry</th>\n",
       "      <th>population</th>\n",
       "      <th>area</th>\n",
       "      <th>urbanisation</th>\n",
       "      <th>lau_id</th>\n",
       "      <th>car_ownership</th>\n",
       "    </tr>\n",
       "  </thead>\n",
       "  <tbody>\n",
       "    <tr>\n",
       "      <th>DE600</th>\n",
       "      <td>DE</td>\n",
       "      <td>Hamburg</td>\n",
       "      <td>3</td>\n",
       "      <td>DE600</td>\n",
       "      <td>MULTIPOLYGON (((9.94538 53.65293, 9.95059 53.6...</td>\n",
       "      <td>1841179</td>\n",
       "      <td>755.09</td>\n",
       "      <td>1.0</td>\n",
       "      <td>2000</td>\n",
       "      <td>824411</td>\n",
       "    </tr>\n",
       "    <tr>\n",
       "      <th>DE711</th>\n",
       "      <td>DE</td>\n",
       "      <td>Darmstadt, Kreisfreie Stadt</td>\n",
       "      <td>3</td>\n",
       "      <td>DE711</td>\n",
       "      <td>POLYGON ((8.72571 49.95421, 8.73453 49.94858, ...</td>\n",
       "      <td>159207</td>\n",
       "      <td>122.07</td>\n",
       "      <td>1.0</td>\n",
       "      <td>6411</td>\n",
       "      <td>76945</td>\n",
       "    </tr>\n",
       "  </tbody>\n",
       "</table>\n",
       "</div>"
      ],
      "text/plain": [
       "      CNTR_CODE                    NUTS_NAME  LEVL_CODE NUTS_ID  \\\n",
       "DE600        DE                      Hamburg          3   DE600   \n",
       "DE711        DE  Darmstadt, Kreisfreie Stadt          3   DE711   \n",
       "\n",
       "                                                geometry  population    area  \\\n",
       "DE600  MULTIPOLYGON (((9.94538 53.65293, 9.95059 53.6...     1841179  755.09   \n",
       "DE711  POLYGON ((8.72571 49.95421, 8.73453 49.94858, ...      159207  122.07   \n",
       "\n",
       "       urbanisation lau_id  car_ownership  \n",
       "DE600           1.0   2000         824411  \n",
       "DE711           1.0   6411          76945  "
      ]
     },
     "execution_count": 47,
     "metadata": {},
     "output_type": "execute_result"
    }
   ],
   "source": [
    "# Load the table\n",
    "cars = pd.read_excel(input_path + 'network/zones/car_ownership_2017_GENESIS.xlsx')\n",
    "cars['sum_MIT'] = cars['Krafträder'] + cars['Pkw']\n",
    "cars['lau_id'] = cars['lau_id'].astype(str)\n",
    "cars['sum_MIT'] = cars['sum_MIT'].replace({'--': 0}).astype(int)\n",
    "cars.set_index('lau_id', drop=True, inplace=True)\n",
    "lau_car_dict = cars['sum_MIT'].to_dict()\n",
    "sm.zones['car_ownership'] = sm.zones['lau_id'].map(lau_car_dict)\n",
    "sm.zones.head(2)"
   ]
  },
  {
   "cell_type": "code",
   "execution_count": 49,
   "metadata": {},
   "outputs": [
    {
     "name": "stdout",
     "output_type": "stream",
     "text": [
      "0\n"
     ]
    },
    {
     "data": {
      "text/html": [
       "<div>\n",
       "<style scoped>\n",
       "    .dataframe tbody tr th:only-of-type {\n",
       "        vertical-align: middle;\n",
       "    }\n",
       "\n",
       "    .dataframe tbody tr th {\n",
       "        vertical-align: top;\n",
       "    }\n",
       "\n",
       "    .dataframe thead th {\n",
       "        text-align: right;\n",
       "    }\n",
       "</style>\n",
       "<table border=\"1\" class=\"dataframe\">\n",
       "  <thead>\n",
       "    <tr style=\"text-align: right;\">\n",
       "      <th></th>\n",
       "      <th>CNTR_CODE</th>\n",
       "      <th>NUTS_NAME</th>\n",
       "      <th>LEVL_CODE</th>\n",
       "      <th>NUTS_ID</th>\n",
       "      <th>geometry</th>\n",
       "      <th>population</th>\n",
       "      <th>area</th>\n",
       "      <th>urbanisation</th>\n",
       "      <th>lau_id</th>\n",
       "      <th>car_ownership</th>\n",
       "    </tr>\n",
       "  </thead>\n",
       "  <tbody>\n",
       "    <tr>\n",
       "      <th>DE91C</th>\n",
       "      <td>DE</td>\n",
       "      <td>Göttingen</td>\n",
       "      <td>3</td>\n",
       "      <td>DE91C</td>\n",
       "      <td>POLYGON ((10.67728 51.63838, 10.67664 51.63294...</td>\n",
       "      <td>328074</td>\n",
       "      <td>1755.39</td>\n",
       "      <td>3.0</td>\n",
       "      <td>3159</td>\n",
       "      <td>0</td>\n",
       "    </tr>\n",
       "    <tr>\n",
       "      <th>DEB25</th>\n",
       "      <td>DE</td>\n",
       "      <td>Trier-Saarburg</td>\n",
       "      <td>3</td>\n",
       "      <td>DEB25</td>\n",
       "      <td>POLYGON ((6.71195 49.90481, 6.72201 49.89223, ...</td>\n",
       "      <td>148945</td>\n",
       "      <td>1102.22</td>\n",
       "      <td>3.0</td>\n",
       "      <td>7235</td>\n",
       "      <td>0</td>\n",
       "    </tr>\n",
       "  </tbody>\n",
       "</table>\n",
       "</div>"
      ],
      "text/plain": [
       "      CNTR_CODE       NUTS_NAME  LEVL_CODE NUTS_ID  \\\n",
       "DE91C        DE       Göttingen          3   DE91C   \n",
       "DEB25        DE  Trier-Saarburg          3   DEB25   \n",
       "\n",
       "                                                geometry  population     area  \\\n",
       "DE91C  POLYGON ((10.67728 51.63838, 10.67664 51.63294...      328074  1755.39   \n",
       "DEB25  POLYGON ((6.71195 49.90481, 6.72201 49.89223, ...      148945  1102.22   \n",
       "\n",
       "       urbanisation lau_id  car_ownership  \n",
       "DE91C           3.0   3159              0  \n",
       "DEB25           3.0   7235              0  "
      ]
     },
     "execution_count": 49,
     "metadata": {},
     "output_type": "execute_result"
    }
   ],
   "source": [
    "# Empty rows\n",
    "print(len(sm.zones.loc[sm.zones['car_ownership'].isna()]))\n",
    "sm.zones.loc[sm.zones['car_ownership']<sm.zones['population']/3]"
   ]
  },
  {
   "cell_type": "code",
   "execution_count": 56,
   "metadata": {},
   "outputs": [],
   "source": [
    "# Car density\n",
    "sm.zones['car_density'] = sm.zones['car_ownership'] / sm.zones['population']"
   ]
  },
  {
   "cell_type": "code",
   "execution_count": 57,
   "metadata": {},
   "outputs": [],
   "source": [
    "# Replace empty rows with average density\n",
    "sm.zones.loc[sm.zones['car_ownership']==0, 'car_density'] = \\\n",
    "    sm.zones['car_density'].replace({0: np.nan}).mean(skipna=True)"
   ]
  },
  {
   "cell_type": "code",
   "execution_count": 58,
   "metadata": {},
   "outputs": [],
   "source": [
    "# Imputate into trips\n",
    "zone_dict = sm.zones['car_density'].to_dict()\n",
    "trips['car_density'] = trips['NUTS_ID'].map(zone_dict)"
   ]
  },
  {
   "cell_type": "markdown",
   "metadata": {},
   "source": [
    "#### Population density"
   ]
  },
  {
   "cell_type": "code",
   "execution_count": null,
   "metadata": {},
   "outputs": [],
   "source": [
    "# Population density in the model\n",
    "sm.zones['pop_density'] = sm.zones['population'] / sm.zones['area']"
   ]
  },
  {
   "cell_type": "code",
   "execution_count": 71,
   "metadata": {},
   "outputs": [],
   "source": [
    "# Categorise like in MiD2017\n",
    "bins = [0,100,250,500,1000,2000,5000,10000,100000]\n",
    "cats = [1,2,3,4,5,6,7,8]\n",
    "sm.zones['pop_density_cat'] = pd.cut(sm.zones['pop_density'], bins=bins, labels=cats)\n",
    "zone_dict = sm.zones['pop_density_cat'].to_dict()"
   ]
  },
  {
   "cell_type": "code",
   "execution_count": null,
   "metadata": {},
   "outputs": [],
   "source": [
    "# If not available for this trip, take average from model\n",
    "print(trips.loc[trips['pop_density']==95].shape)"
   ]
  },
  {
   "cell_type": "code",
   "execution_count": 73,
   "metadata": {},
   "outputs": [
    {
     "name": "stdout",
     "output_type": "stream",
     "text": [
      "(0, 13)\n"
     ]
    }
   ],
   "source": [
    "trips.loc[trips['pop_density']==95, 'pop_density'] = \\\n",
    "    trips.loc[trips['pop_density']==95, 'NUTS_ID'].map(zone_dict)"
   ]
  },
  {
   "cell_type": "markdown",
   "metadata": {},
   "source": [
    "#### Accessibility\n",
    "Enrich trips with (weighted average) distances to the next PT stop. In the model, this is saved in the zone_to_transit table's distance column."
   ]
  },
  {
   "cell_type": "code",
   "execution_count": null,
   "metadata": {},
   "outputs": [],
   "source": [
    "# Rail and bus is part of the survey (in km)\n",
    "trips.rename(columns={'dist_bus': 'accessibility_bus',\n",
    "                      'dist_train': 'accessibility_train'})"
   ]
  },
  {
   "cell_type": "code",
   "execution_count": null,
   "metadata": {},
   "outputs": [],
   "source": [
    "# Coach\n",
    "# Same assumptions as in cal11\n",
    "coach_zones = list(sm.nodes.loc[sm.nodes['route_type']=='coach',\n",
    "                                'NUTS_ID'].unique())\n",
    "trips['accessibility_coach'] = [row['accessibility_train']\n",
    "                                if row['NUTS_ID'].isin(coach_zones) else 0\n",
    "                                for _, row in trips.iterrows()]"
   ]
  },
  {
   "cell_type": "code",
   "execution_count": null,
   "metadata": {},
   "outputs": [],
   "source": [
    "# Air\n",
    "# Take distances from zone_to_transit table\n",
    "# (average population-weighted distance computed from census data)\n",
    "air_dict = sm.zone_to_transit.loc[sm.zone_to_transit['route_type']=='air'\n",
    "                                 ].set_index('NUTS_ID')['distance'].to_dict()\n",
    "trips['accessibility_coach'] = [air_dict[zone] / 1000 # convert to km\n",
    "                                if zone in air_dict.keys() else 0\n",
    "                                for zone in list(trips['NUTS_ID'])]"
   ]
  },
  {
   "cell_type": "markdown",
   "metadata": {},
   "source": [
    "#### Road network"
   ]
  },
  {
   "cell_type": "code",
   "execution_count": null,
   "metadata": {},
   "outputs": [],
   "source": [
    "# Map road nodes to zones if not done yet\n",
    "if 'NUTS_ID' not in sm.road_nodes.columns:\n",
    "    sm.road_nodes['NUTS_ID'] = np.nan\n",
    "    for _, zone in tqdm(sm.zones.iterrows(), total=sm.zones.shape[0]):\n",
    "        sm.road_nodes.loc[sm.road_nodes['geometry'].within(zone['geometry']),\n",
    "                          'NUTS_ID'] = zone['NUTS_ID']"
   ]
  },
  {
   "cell_type": "code",
   "execution_count": null,
   "metadata": {},
   "outputs": [],
   "source": [
    "# Map road links\n",
    "if 'NUTS_ID' not in sm.road_links.columns:\n",
    "    node_dict = sm.road_nodes['NUTS_ID'].to_dict()\n",
    "    sm.road_links['NUTS_ID'] = sm.road_links['a'].map(node_dict)"
   ]
  },
  {
   "cell_type": "code",
   "execution_count": null,
   "metadata": {},
   "outputs": [],
   "source": [
    "# Specific road network length in km per km²\n",
    "len_dict = sm.road_links.groupby('NUTS_ID').agg(\n",
    "    {'length': 'sum'}).to_dict()['length']\n",
    "sm.zones['road_density'] = [len_dict[ind] / 1000 / area\n",
    "                            for ind, area in sm.zones['area'].items()]"
   ]
  },
  {
   "cell_type": "code",
   "execution_count": null,
   "metadata": {},
   "outputs": [],
   "source": [
    "len_dict = sm.zones['road_density'].to_dict()\n",
    "trips['road_density'] = trips['NUTS_ID'].map(len_dict)"
   ]
  },
  {
   "cell_type": "markdown",
   "metadata": {},
   "source": [
    "#### GDP"
   ]
  },
  {
   "cell_type": "code",
   "execution_count": null,
   "metadata": {},
   "outputs": [],
   "source": [
    "# Take cell-specific GDP data from eurostat\n",
    "# https://ec.europa.eu/eurostat/de/web/rural-development/data"
   ]
  },
  {
   "cell_type": "code",
   "execution_count": null,
   "metadata": {},
   "outputs": [],
   "source": [
    "sm.zones.sample(n=3)"
   ]
  },
  {
   "cell_type": "markdown",
   "metadata": {},
   "source": [
    "### Save dataset"
   ]
  },
  {
   "cell_type": "code",
   "execution_count": null,
   "metadata": {},
   "outputs": [],
   "source": [
    "trips.to_csv(input_path + 'transport_demand/calibration_data_intra-cellular_trips_aggregated_MiD2017.csv')"
   ]
  },
  {
   "cell_type": "code",
   "execution_count": null,
   "metadata": {},
   "outputs": [],
   "source": [
    "sm.to_zip(model_path + r'de_los.zip')"
   ]
  }
 ],
 "metadata": {
  "kernelspec": {
   "display_name": "Python 3",
   "language": "python",
   "name": "python3"
  },
  "language_info": {
   "codemirror_mode": {
    "name": "ipython",
    "version": 3
   },
   "file_extension": ".py",
   "mimetype": "text/x-python",
   "name": "python",
   "nbconvert_exporter": "python",
   "pygments_lexer": "ipython3",
   "version": "3.8.1"
  }
 },
 "nbformat": 4,
 "nbformat_minor": 4
}
