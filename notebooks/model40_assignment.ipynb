{
 "cells": [
  {
   "cell_type": "code",
   "execution_count": 1,
   "metadata": {},
   "outputs": [
    {
     "name": "stderr",
     "output_type": "stream",
     "text": [
      "C:\\Users\\marlin.arnz\\AppData\\Local\\Continuum\\miniconda3\\envs\\quetzal\\lib\\site-packages\\pyproj\\crs.py:422: FutureWarning: '+init=<authority>:<code>' syntax is deprecated. '<authority>:<code>' is the preferred initialization method.\n",
      "  projstring = _prepare_from_string(projparams)\n"
     ]
    }
   ],
   "source": [
    "import numpy as np\n",
    "import pandas as pd\n",
    "from quetzal.model import stepmodel"
   ]
  },
  {
   "cell_type": "markdown",
   "metadata": {},
   "source": [
    "# Modelling steps 3 and 4.\n",
    "## Needs a network, clustered zones with volumes and level of service attributes."
   ]
  },
  {
   "cell_type": "code",
   "execution_count": 2,
   "metadata": {},
   "outputs": [],
   "source": [
    "input_path = '../input/estimation/'\n",
    "output_path = '../output/'\n",
    "model_path = '../model/'"
   ]
  },
  {
   "cell_type": "code",
   "execution_count": 3,
   "metadata": {},
   "outputs": [
    {
     "name": "stderr",
     "output_type": "stream",
     "text": [
      "zones: 100%|███████████████████████████████████████████████████████████████████████████| 36/36 [00:31<00:00,  1.13it/s]\n"
     ]
    }
   ],
   "source": [
    "sm = stepmodel.read_zip(model_path + 'de_step_3.zip')"
   ]
  },
  {
   "cell_type": "markdown",
   "metadata": {},
   "source": [
    "## Assignment"
   ]
  },
  {
   "cell_type": "code",
   "execution_count": 4,
   "metadata": {},
   "outputs": [],
   "source": [
    "# Make path to tuples as workaround for pandas TypeError\n",
    "# (see issue: https://github.com/pandas-dev/pandas/issues/31177)\n",
    "sm.los['path'] = sm.los['path'].apply(lambda p: tuple(p))"
   ]
  },
  {
   "cell_type": "code",
   "execution_count": 5,
   "metadata": {},
   "outputs": [
    {
     "data": {
      "text/plain": [
       "(654107, 21)"
      ]
     },
     "execution_count": 5,
     "metadata": {},
     "output_type": "execute_result"
    }
   ],
   "source": [
    "# Add probabilities to the LoS table\n",
    "sm.pt_los = sm.pt_los.merge(\n",
    "    sm.probabilities.set_index(['origin', 'destination', 'segment'])[\n",
    "        ['walk', 'car', 'air', 'bus', 'coach', 'rail_short_distance', 'rail_long_distance']\n",
    "    ].stack().rename('probability').unstack('segment'),\n",
    "    how='left',\n",
    "    on=['origin', 'destination', 'route_type']\n",
    ").rename(columns={seg: (seg, 'probability') for seg in sm.segments})\n",
    "sm.pt_los.shape"
   ]
  },
  {
   "cell_type": "code",
   "execution_count": 6,
   "metadata": {},
   "outputs": [
    {
     "data": {
      "text/html": [
       "<div>\n",
       "<style scoped>\n",
       "    .dataframe tbody tr th:only-of-type {\n",
       "        vertical-align: middle;\n",
       "    }\n",
       "\n",
       "    .dataframe tbody tr th {\n",
       "        vertical-align: top;\n",
       "    }\n",
       "\n",
       "    .dataframe thead th {\n",
       "        text-align: right;\n",
       "    }\n",
       "</style>\n",
       "<table border=\"1\" class=\"dataframe\">\n",
       "  <thead>\n",
       "    <tr style=\"text-align: right;\">\n",
       "      <th></th>\n",
       "      <th>origin</th>\n",
       "      <th>destination</th>\n",
       "      <th>path</th>\n",
       "      <th>link_path</th>\n",
       "      <th>access_time</th>\n",
       "      <th>footpath_time</th>\n",
       "      <th>in_vehicle_time</th>\n",
       "      <th>waiting_time</th>\n",
       "      <th>boarding_time</th>\n",
       "      <th>time</th>\n",
       "      <th>...</th>\n",
       "      <th>length</th>\n",
       "      <th>route_types</th>\n",
       "      <th>route_type</th>\n",
       "      <th>ntransfers</th>\n",
       "      <th>accessibility</th>\n",
       "      <th>(Fz1, probability)</th>\n",
       "      <th>(Fz2, probability)</th>\n",
       "      <th>(Fz3, probability)</th>\n",
       "      <th>(Fz4, probability)</th>\n",
       "      <th>(Fz6, probability)</th>\n",
       "    </tr>\n",
       "  </thead>\n",
       "  <tbody>\n",
       "    <tr>\n",
       "      <th>444412</th>\n",
       "      <td>DEA38</td>\n",
       "      <td>DE144</td>\n",
       "      <td>(DEA38, DEA38_rail_short_distance_0, DEA38_bus...</td>\n",
       "      <td>[bus_598375, bus_303613, bus_303626, rail_long...</td>\n",
       "      <td>1866.878699</td>\n",
       "      <td>227.622312</td>\n",
       "      <td>16380.0</td>\n",
       "      <td>1800.0</td>\n",
       "      <td>720</td>\n",
       "      <td>20994.501012</td>\n",
       "      <td>...</td>\n",
       "      <td>642999.668865</td>\n",
       "      <td>(bus, rail_long_distance)</td>\n",
       "      <td>rail_long_distance</td>\n",
       "      <td>5</td>\n",
       "      <td>0.168453</td>\n",
       "      <td>0.715201</td>\n",
       "      <td>5.345511e-04</td>\n",
       "      <td>5.274296e-06</td>\n",
       "      <td>0.003269</td>\n",
       "      <td>0.000257</td>\n",
       "    </tr>\n",
       "    <tr>\n",
       "      <th>519076</th>\n",
       "      <td>DEF07</td>\n",
       "      <td>DEG0A</td>\n",
       "      <td>(DEF07, DEF07_bus_4, DEF07_rail_short_distance...</td>\n",
       "      <td>[rail_short_21049, rail_short_16026, rail_shor...</td>\n",
       "      <td>982.854295</td>\n",
       "      <td>147.204928</td>\n",
       "      <td>14100.0</td>\n",
       "      <td>3000.0</td>\n",
       "      <td>1200</td>\n",
       "      <td>19430.059223</td>\n",
       "      <td>...</td>\n",
       "      <td>640506.362630</td>\n",
       "      <td>(rail_short_distance,)</td>\n",
       "      <td>rail_short_distance</td>\n",
       "      <td>9</td>\n",
       "      <td>0.040215</td>\n",
       "      <td>0.866634</td>\n",
       "      <td>6.662725e-07</td>\n",
       "      <td>7.386238e-09</td>\n",
       "      <td>0.000203</td>\n",
       "      <td>0.000004</td>\n",
       "    </tr>\n",
       "    <tr>\n",
       "      <th>489838</th>\n",
       "      <td>DE737</td>\n",
       "      <td>DE25C</td>\n",
       "      <td>(DE737, DE737_rail_short_distance_1, rail_shor...</td>\n",
       "      <td>[rail_short_21504, rail_short_19224, rail_shor...</td>\n",
       "      <td>1581.894200</td>\n",
       "      <td>122.055452</td>\n",
       "      <td>7620.0</td>\n",
       "      <td>2100.0</td>\n",
       "      <td>840</td>\n",
       "      <td>12263.949652</td>\n",
       "      <td>...</td>\n",
       "      <td>310213.651943</td>\n",
       "      <td>(rail_short_distance, bus, rail_long_distance)</td>\n",
       "      <td>rail_long_distance</td>\n",
       "      <td>6</td>\n",
       "      <td>0.047358</td>\n",
       "      <td>0.748667</td>\n",
       "      <td>9.850905e-02</td>\n",
       "      <td>5.146391e-04</td>\n",
       "      <td>0.020501</td>\n",
       "      <td>0.004921</td>\n",
       "    </tr>\n",
       "  </tbody>\n",
       "</table>\n",
       "<p>3 rows × 21 columns</p>\n",
       "</div>"
      ],
      "text/plain": [
       "       origin destination                                               path  \\\n",
       "444412  DEA38       DE144  (DEA38, DEA38_rail_short_distance_0, DEA38_bus...   \n",
       "519076  DEF07       DEG0A  (DEF07, DEF07_bus_4, DEF07_rail_short_distance...   \n",
       "489838  DE737       DE25C  (DE737, DE737_rail_short_distance_1, rail_shor...   \n",
       "\n",
       "                                                link_path  access_time  \\\n",
       "444412  [bus_598375, bus_303613, bus_303626, rail_long...  1866.878699   \n",
       "519076  [rail_short_21049, rail_short_16026, rail_shor...   982.854295   \n",
       "489838  [rail_short_21504, rail_short_19224, rail_shor...  1581.894200   \n",
       "\n",
       "        footpath_time  in_vehicle_time  waiting_time  boarding_time  \\\n",
       "444412     227.622312          16380.0        1800.0            720   \n",
       "519076     147.204928          14100.0        3000.0           1200   \n",
       "489838     122.055452           7620.0        2100.0            840   \n",
       "\n",
       "                time  ...         length  \\\n",
       "444412  20994.501012  ...  642999.668865   \n",
       "519076  19430.059223  ...  640506.362630   \n",
       "489838  12263.949652  ...  310213.651943   \n",
       "\n",
       "                                           route_types           route_type  \\\n",
       "444412                       (bus, rail_long_distance)   rail_long_distance   \n",
       "519076                          (rail_short_distance,)  rail_short_distance   \n",
       "489838  (rail_short_distance, bus, rail_long_distance)   rail_long_distance   \n",
       "\n",
       "       ntransfers  accessibility  (Fz1, probability)  (Fz2, probability)  \\\n",
       "444412          5       0.168453            0.715201        5.345511e-04   \n",
       "519076          9       0.040215            0.866634        6.662725e-07   \n",
       "489838          6       0.047358            0.748667        9.850905e-02   \n",
       "\n",
       "        (Fz3, probability)  (Fz4, probability)  (Fz6, probability)  \n",
       "444412        5.274296e-06            0.003269            0.000257  \n",
       "519076        7.386238e-09            0.000203            0.000004  \n",
       "489838        5.146391e-04            0.020501            0.004921  \n",
       "\n",
       "[3 rows x 21 columns]"
      ]
     },
     "execution_count": 6,
     "metadata": {},
     "output_type": "execute_result"
    }
   ],
   "source": [
    "sm.pt_los.sample(n=3)"
   ]
  },
  {
   "cell_type": "code",
   "execution_count": 8,
   "metadata": {},
   "outputs": [
    {
     "name": "stderr",
     "output_type": "stream",
     "text": [
      "Fz6: 100%|███████████████████████████████████████████████████████████████████████████████| 5/5 [01:26<00:00, 17.35s/it]\n"
     ]
    }
   ],
   "source": [
    "sm.step_pt_assignment(\n",
    "    volume_column=None,\n",
    "    road=False,\n",
    "    od_stack=True) # Output DataFrame"
   ]
  },
  {
   "cell_type": "code",
   "execution_count": 9,
   "metadata": {},
   "outputs": [
    {
     "name": "stderr",
     "output_type": "stream",
     "text": [
      "Fz6: 100%|███████████████████████████████████████████████████████████████████████████████| 5/5 [02:27<00:00, 29.46s/it]\n"
     ]
    }
   ],
   "source": [
    "sm.car_los = sm.los.loc[sm.los['route_type']=='car']\n",
    "sm.step_car_assignment()"
   ]
  },
  {
   "cell_type": "markdown",
   "metadata": {},
   "source": [
    "## Results"
   ]
  },
  {
   "cell_type": "code",
   "execution_count": 21,
   "metadata": {
    "scrolled": true
   },
   "outputs": [
    {
     "data": {
      "text/html": [
       "<div>\n",
       "<style scoped>\n",
       "    .dataframe tbody tr th:only-of-type {\n",
       "        vertical-align: middle;\n",
       "    }\n",
       "\n",
       "    .dataframe tbody tr th {\n",
       "        vertical-align: top;\n",
       "    }\n",
       "\n",
       "    .dataframe thead th {\n",
       "        text-align: right;\n",
       "    }\n",
       "</style>\n",
       "<table border=\"1\" class=\"dataframe\">\n",
       "  <thead>\n",
       "    <tr style=\"text-align: right;\">\n",
       "      <th></th>\n",
       "      <th>geometry</th>\n",
       "      <th>route_id</th>\n",
       "      <th>route_type</th>\n",
       "      <th>a</th>\n",
       "      <th>b</th>\n",
       "      <th>time</th>\n",
       "      <th>trip_id</th>\n",
       "      <th>link_sequence</th>\n",
       "      <th>length</th>\n",
       "      <th>headway</th>\n",
       "      <th>price</th>\n",
       "      <th>load</th>\n",
       "    </tr>\n",
       "  </thead>\n",
       "  <tbody>\n",
       "    <tr>\n",
       "      <th>rail_short_430</th>\n",
       "      <td>LINESTRING (11.10754 47.95082, 10.95955 48.30092)</td>\n",
       "      <td>rail_short_28</td>\n",
       "      <td>rail_short_distance</td>\n",
       "      <td>DE21E_rail_short_distance_2</td>\n",
       "      <td>DE275_rail_short_distance_0</td>\n",
       "      <td>3000.0</td>\n",
       "      <td>rail_short_1118</td>\n",
       "      <td>3.0</td>\n",
       "      <td>41612.741185</td>\n",
       "      <td>600</td>\n",
       "      <td>13.597480</td>\n",
       "      <td>3449.396237</td>\n",
       "    </tr>\n",
       "    <tr>\n",
       "      <th>bus_253794</th>\n",
       "      <td>LINESTRING (6.96008 51.53384, 6.93625 51.50983)</td>\n",
       "      <td>bus_12591</td>\n",
       "      <td>bus</td>\n",
       "      <td>DEA31_bus_8</td>\n",
       "      <td>DEA31_bus_9</td>\n",
       "      <td>360.0</td>\n",
       "      <td>bus_436762</td>\n",
       "      <td>4.0</td>\n",
       "      <td>3739.820599</td>\n",
       "      <td>600</td>\n",
       "      <td>0.000000</td>\n",
       "      <td>0.000000</td>\n",
       "    </tr>\n",
       "    <tr>\n",
       "      <th>rail_short_19429</th>\n",
       "      <td>LINESTRING (10.20855 51.39353, 10.58582 51.12075)</td>\n",
       "      <td>rail_short_58</td>\n",
       "      <td>rail_short_distance</td>\n",
       "      <td>DEG06_rail_short_distance_2</td>\n",
       "      <td>DEG09_rail_short_distance_2</td>\n",
       "      <td>2040.0</td>\n",
       "      <td>rail_short_44803</td>\n",
       "      <td>1.0</td>\n",
       "      <td>51319.048258</td>\n",
       "      <td>600</td>\n",
       "      <td>15.746898</td>\n",
       "      <td>0.000000</td>\n",
       "    </tr>\n",
       "  </tbody>\n",
       "</table>\n",
       "</div>"
      ],
      "text/plain": [
       "                                                           geometry  \\\n",
       "rail_short_430    LINESTRING (11.10754 47.95082, 10.95955 48.30092)   \n",
       "bus_253794          LINESTRING (6.96008 51.53384, 6.93625 51.50983)   \n",
       "rail_short_19429  LINESTRING (10.20855 51.39353, 10.58582 51.12075)   \n",
       "\n",
       "                       route_id           route_type  \\\n",
       "rail_short_430    rail_short_28  rail_short_distance   \n",
       "bus_253794            bus_12591                  bus   \n",
       "rail_short_19429  rail_short_58  rail_short_distance   \n",
       "\n",
       "                                            a                            b  \\\n",
       "rail_short_430    DE21E_rail_short_distance_2  DE275_rail_short_distance_0   \n",
       "bus_253794                        DEA31_bus_8                  DEA31_bus_9   \n",
       "rail_short_19429  DEG06_rail_short_distance_2  DEG09_rail_short_distance_2   \n",
       "\n",
       "                    time           trip_id  link_sequence        length  \\\n",
       "rail_short_430    3000.0   rail_short_1118            3.0  41612.741185   \n",
       "bus_253794         360.0        bus_436762            4.0   3739.820599   \n",
       "rail_short_19429  2040.0  rail_short_44803            1.0  51319.048258   \n",
       "\n",
       "                  headway      price         load  \n",
       "rail_short_430        600  13.597480  3449.396237  \n",
       "bus_253794            600   0.000000     0.000000  \n",
       "rail_short_19429      600  15.746898     0.000000  "
      ]
     },
     "execution_count": 21,
     "metadata": {},
     "output_type": "execute_result"
    }
   ],
   "source": [
    "sm.loaded_links.sample(n=3)"
   ]
  },
  {
   "cell_type": "code",
   "execution_count": 16,
   "metadata": {},
   "outputs": [
    {
     "data": {
      "text/html": [
       "<div>\n",
       "<style scoped>\n",
       "    .dataframe tbody tr th:only-of-type {\n",
       "        vertical-align: middle;\n",
       "    }\n",
       "\n",
       "    .dataframe tbody tr th {\n",
       "        vertical-align: top;\n",
       "    }\n",
       "\n",
       "    .dataframe thead th {\n",
       "        text-align: right;\n",
       "    }\n",
       "</style>\n",
       "<table border=\"1\" class=\"dataframe\">\n",
       "  <thead>\n",
       "    <tr style=\"text-align: right;\">\n",
       "      <th></th>\n",
       "      <th>a</th>\n",
       "      <th>b</th>\n",
       "      <th>length</th>\n",
       "      <th>geometry</th>\n",
       "      <th>highway</th>\n",
       "      <th>maxspeed</th>\n",
       "      <th>lanes</th>\n",
       "      <th>time</th>\n",
       "      <th>index</th>\n",
       "      <th>(Fz1, car)</th>\n",
       "      <th>(Fz2, car)</th>\n",
       "      <th>(Fz3, car)</th>\n",
       "      <th>(Fz4, car)</th>\n",
       "      <th>(Fz6, car)</th>\n",
       "      <th>(all, car)</th>\n",
       "    </tr>\n",
       "    <tr>\n",
       "      <th>id</th>\n",
       "      <th></th>\n",
       "      <th></th>\n",
       "      <th></th>\n",
       "      <th></th>\n",
       "      <th></th>\n",
       "      <th></th>\n",
       "      <th></th>\n",
       "      <th></th>\n",
       "      <th></th>\n",
       "      <th></th>\n",
       "      <th></th>\n",
       "      <th></th>\n",
       "      <th></th>\n",
       "      <th></th>\n",
       "      <th></th>\n",
       "    </tr>\n",
       "  </thead>\n",
       "  <tbody>\n",
       "    <tr>\n",
       "      <th>rl_268898</th>\n",
       "      <td>30836839</td>\n",
       "      <td>1637700551</td>\n",
       "      <td>157.289</td>\n",
       "      <td>LINESTRING (8.60267 49.98363, 8.60059 49.98316)</td>\n",
       "      <td>primary</td>\n",
       "      <td>70</td>\n",
       "      <td>3</td>\n",
       "      <td>10.111436</td>\n",
       "      <td>rl_268898</td>\n",
       "      <td>724331.959907</td>\n",
       "      <td>39938.131463</td>\n",
       "      <td>555031.988897</td>\n",
       "      <td>905745.062171</td>\n",
       "      <td>2.013295e+06</td>\n",
       "      <td>4.238342e+06</td>\n",
       "    </tr>\n",
       "    <tr>\n",
       "      <th>rl_190777</th>\n",
       "      <td>5356951507</td>\n",
       "      <td>5356951500</td>\n",
       "      <td>5.181</td>\n",
       "      <td>LINESTRING (6.65503 49.68506, 6.65498 49.68509)</td>\n",
       "      <td>primary</td>\n",
       "      <td>100</td>\n",
       "      <td>3</td>\n",
       "      <td>0.233145</td>\n",
       "      <td>rl_190777</td>\n",
       "      <td>NaN</td>\n",
       "      <td>NaN</td>\n",
       "      <td>NaN</td>\n",
       "      <td>NaN</td>\n",
       "      <td>NaN</td>\n",
       "      <td>0.000000e+00</td>\n",
       "    </tr>\n",
       "    <tr>\n",
       "      <th>rl_74553</th>\n",
       "      <td>114412629</td>\n",
       "      <td>3665739031</td>\n",
       "      <td>535.307</td>\n",
       "      <td>LINESTRING (10.78373 51.83774, 10.77762 51.83609)</td>\n",
       "      <td>primary</td>\n",
       "      <td>50</td>\n",
       "      <td>[3, 2]</td>\n",
       "      <td>48.177630</td>\n",
       "      <td>rl_74553</td>\n",
       "      <td>NaN</td>\n",
       "      <td>NaN</td>\n",
       "      <td>NaN</td>\n",
       "      <td>NaN</td>\n",
       "      <td>NaN</td>\n",
       "      <td>0.000000e+00</td>\n",
       "    </tr>\n",
       "  </tbody>\n",
       "</table>\n",
       "</div>"
      ],
      "text/plain": [
       "                    a           b   length  \\\n",
       "id                                           \n",
       "rl_268898    30836839  1637700551  157.289   \n",
       "rl_190777  5356951507  5356951500    5.181   \n",
       "rl_74553    114412629  3665739031  535.307   \n",
       "\n",
       "                                                    geometry  highway  \\\n",
       "id                                                                      \n",
       "rl_268898    LINESTRING (8.60267 49.98363, 8.60059 49.98316)  primary   \n",
       "rl_190777    LINESTRING (6.65503 49.68506, 6.65498 49.68509)  primary   \n",
       "rl_74553   LINESTRING (10.78373 51.83774, 10.77762 51.83609)  primary   \n",
       "\n",
       "           maxspeed   lanes       time      index     (Fz1, car)  \\\n",
       "id                                                                 \n",
       "rl_268898        70       3  10.111436  rl_268898  724331.959907   \n",
       "rl_190777       100       3   0.233145  rl_190777            NaN   \n",
       "rl_74553         50  [3, 2]  48.177630   rl_74553            NaN   \n",
       "\n",
       "             (Fz2, car)     (Fz3, car)     (Fz4, car)    (Fz6, car)  \\\n",
       "id                                                                    \n",
       "rl_268898  39938.131463  555031.988897  905745.062171  2.013295e+06   \n",
       "rl_190777           NaN            NaN            NaN           NaN   \n",
       "rl_74553            NaN            NaN            NaN           NaN   \n",
       "\n",
       "             (all, car)  \n",
       "id                       \n",
       "rl_268898  4.238342e+06  \n",
       "rl_190777  0.000000e+00  \n",
       "rl_74553   0.000000e+00  "
      ]
     },
     "execution_count": 16,
     "metadata": {},
     "output_type": "execute_result"
    }
   ],
   "source": [
    "sm.road_links.sample(n=3)"
   ]
  },
  {
   "cell_type": "markdown",
   "metadata": {},
   "source": [
    "### Excel export"
   ]
  },
  {
   "cell_type": "code",
   "execution_count": 44,
   "metadata": {},
   "outputs": [
    {
     "name": "stdout",
     "output_type": "stream",
     "text": [
      "Could not save sheet link_sum\n"
     ]
    }
   ],
   "source": [
    "stacks = {name[6:]: attr for name, attr in sm.__dict__.items() if name[:5] == 'stack'}\n",
    "with pd.ExcelWriter(output_path + 'stacks.xlsx') as writer:  \n",
    "    for name, stack in stacks.items():\n",
    "        try:\n",
    "            stack.reset_index().to_excel(writer, sheet_name=name, index=False)\n",
    "        except ValueError: # DataFrame too large for Excel\n",
    "            print('Could not save sheet ' + name)"
   ]
  },
  {
   "cell_type": "markdown",
   "metadata": {},
   "source": [
    "### Save model"
   ]
  },
  {
   "cell_type": "code",
   "execution_count": 17,
   "metadata": {},
   "outputs": [
    {
     "data": {
      "text/plain": [
       "dict_keys(['parameters', 'debug', 'walk_on_road', 'coordinates_unit', 'epsg', 'segments', 'checkpoint_links', 'loaded_links', 'links', 'road_links', 'footpaths', 'lines', 'networkcaster_neighbors', 'networkcaster_road_access', 'node_parenthood', 'road_to_transit', 'zone_to_transit', 'zone_to_road', 'checkpoint_nodes', 'loaded_nodes', 'nodes', 'road_nodes', 'centroids', 'disaggregated_nodes', 'micro_zones', 'zones', 'node_clusters', 'fare_rules', 'fare_attributes', 'mode_nests', 'logit_scales', 'utility_values', 'agencies', 'car_los', 'jsons', 'los', 'mode_utility', 'probabilities', 'pt_los', 'pt_routes', 'utilities', 'volumes', 'dead_ends', 'pt_route_types', 'broken_sequences', 'od_probabilities', 'od_utilities'])"
      ]
     },
     "execution_count": 17,
     "metadata": {},
     "output_type": "execute_result"
    }
   ],
   "source": [
    "sm.__dict__.keys()"
   ]
  },
  {
   "cell_type": "code",
   "execution_count": 18,
   "metadata": {},
   "outputs": [
    {
     "name": "stderr",
     "output_type": "stream",
     "text": [
      "volumes: 100%|█████████████████████████████████████████████████████████████████████████| 36/36 [01:24<00:00,  2.35s/it]\n"
     ]
    }
   ],
   "source": [
    "sm.to_zip(model_path + r'de_step_4.zip')"
   ]
  }
 ],
 "metadata": {
  "kernelspec": {
   "display_name": "Python 3",
   "language": "python",
   "name": "python3"
  },
  "language_info": {
   "codemirror_mode": {
    "name": "ipython",
    "version": 3
   },
   "file_extension": ".py",
   "mimetype": "text/x-python",
   "name": "python",
   "nbconvert_exporter": "python",
   "pygments_lexer": "ipython3",
   "version": "3.8.1"
  }
 },
 "nbformat": 4,
 "nbformat_minor": 4
}
