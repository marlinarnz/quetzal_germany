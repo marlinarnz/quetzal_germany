{
 "cells": [
  {
   "cell_type": "code",
   "execution_count": 1,
   "id": "aae6f93a",
   "metadata": {},
   "outputs": [],
   "source": [
    "import sys # for automation and parallelisation\n",
    "manual, scenario = (True, 'base') if 'ipykernel' in sys.argv[0] else (False, sys.argv[1])"
   ]
  },
  {
   "cell_type": "code",
   "execution_count": 2,
   "id": "12b8bed7",
   "metadata": {},
   "outputs": [],
   "source": [
    "import pandas as pd\n",
    "import numpy as np\n",
    "from quetzal.model import stepmodel\n",
    "from quetzal.io import excel\n",
    "from scipy.optimize import minimize\n",
    "from scipy.special import expit  # Sigmoid function"
   ]
  },
  {
   "cell_type": "code",
   "execution_count": 3,
   "id": "524fd039",
   "metadata": {},
   "outputs": [],
   "source": [
    "model_path = '../model/' + scenario + '/'\n",
    "input_path = '../input/'\n",
    "output_path = '../output/'"
   ]
  },
  {
   "cell_type": "code",
   "execution_count": 4,
   "id": "d1e2ff11",
   "metadata": {},
   "outputs": [],
   "source": [
    "# Load parameters for settings\n",
    "params = excel.read_var(file='../input/parameters.xls', scenario=scenario)"
   ]
  },
  {
   "cell_type": "markdown",
   "id": "4eac6c90",
   "metadata": {
    "tags": []
   },
   "source": [
    "# Calibration: inner/inter-zonal destination choice\n",
    "\n",
    "## Requires MiD data\n",
    "\n",
    "## Saves inner-zonal probabilities for zones\n",
    "\n",
    "Assumptions apply as in `model_generation`"
   ]
  },
  {
   "cell_type": "code",
   "execution_count": 5,
   "id": "19f4464b",
   "metadata": {},
   "outputs": [],
   "source": [
    "sm = stepmodel.read_json(model_path + 'de_zones')"
   ]
  },
  {
   "cell_type": "code",
   "execution_count": 6,
   "id": "82c2a51d",
   "metadata": {},
   "outputs": [],
   "source": [
    "# Transport demand segments\n",
    "segments = [s.strip() for s in params['general']['demand_segments'].split(';')]\n",
    "purposes = [s.split('_')[0] for s in segments][::2]"
   ]
  },
  {
   "cell_type": "code",
   "execution_count": 147,
   "id": "313e9dc1",
   "metadata": {},
   "outputs": [
    {
     "data": {
      "text/plain": [
       "(254861, 8)"
      ]
     },
     "execution_count": 147,
     "metadata": {},
     "output_type": "execute_result"
    }
   ],
   "source": [
    "# Load trips from MiD2017\n",
    "trips = pd.read_csv(input_path + 'transport_demand/calibration_all_trips_MiD2017.csv',\n",
    "                    usecols=['purpose_model', 'purpose2', 'car_avail', 'distance',\n",
    "                             'origin', 'destination', 'P_ID', 'W_GEW'])\n",
    "trips.rename(columns={'car_avail': 'car_av'}, inplace=True)\n",
    "trips = trips.loc[trips['car_av'].isin([0,1])]\n",
    "trips.shape"
   ]
  },
  {
   "cell_type": "code",
   "execution_count": 148,
   "id": "f9eb7681",
   "metadata": {},
   "outputs": [
    {
     "data": {
      "text/plain": [
       "153600"
      ]
     },
     "execution_count": 148,
     "metadata": {},
     "output_type": "execute_result"
    }
   ],
   "source": [
    "# Drop return trips\n",
    "trips = trips.loc[~trips['purpose2'].isin([8,9])]\n",
    "len(trips)"
   ]
  },
  {
   "cell_type": "markdown",
   "id": "8574d866",
   "metadata": {},
   "source": [
    "## Add choice attributes"
   ]
  },
  {
   "cell_type": "code",
   "execution_count": 149,
   "id": "1a10f168",
   "metadata": {},
   "outputs": [],
   "source": [
    "# Add employment to trips\n",
    "zone_dict = sm.zones['employment'].to_dict()\n",
    "trips['employment'] = trips['origin'].map(zone_dict)"
   ]
  },
  {
   "cell_type": "code",
   "execution_count": 150,
   "id": "16b99e8e",
   "metadata": {},
   "outputs": [],
   "source": [
    "# Load other attraction POIs\n",
    "pois = pd.read_csv(input_path + 'spatial_num_pois_raw.csv', index_col='index')\n",
    "cats = pd.read_excel(input_path + 'spatial_OSM_POI_list.xlsx', sheet_name='categories')\n",
    "cats['label'] = (cats['key'] + ' ' + cats['value'].fillna('')).str.strip()\n",
    "for category, columns in cats.loc[cats['category'].notna()\n",
    "                                 ].groupby('category').agg(\n",
    "                                {'label': list})['label'].items():\n",
    "    trips[category] = trips['origin'].map(pois[columns].sum(axis=1)).fillna(0)\n",
    "    sm.zones[category] = sm.zones['FID'].map(pois[columns].sum(axis=1)).fillna(0)"
   ]
  },
  {
   "cell_type": "code",
   "execution_count": 151,
   "id": "858d4706",
   "metadata": {},
   "outputs": [
    {
     "data": {
      "text/plain": [
       "(153600, 21)"
      ]
     },
     "execution_count": 151,
     "metadata": {},
     "output_type": "execute_result"
    }
   ],
   "source": [
    "# Put zone data in trips table (population, area, urbanisation)\n",
    "trips = trips.merge(sm.zones[['population', 'area', 'urbanisation']],\n",
    "                    how='inner', # drop trips outside of model zones\n",
    "                    left_on='origin', right_index=True)\n",
    "trips.shape"
   ]
  },
  {
   "cell_type": "code",
   "execution_count": 12,
   "id": "bbc7754c-b8cd-43fe-a36c-5f3c43a95dc1",
   "metadata": {},
   "outputs": [],
   "source": [
    "# Add accessibility\n",
    "# Load inter-zonal composite cost from mode choice step\n",
    "cc = pd.read_csv(output_path + scenario + '/mode_choice_od_composite_cost.csv')\n",
    "cc.set_index(['origin', 'destination'], inplace=True)\n",
    "# Rename segments to integer values\n",
    "cc.columns = pd.MultiIndex.from_tuples(\n",
    "    [(seg.split('_')[0], {'no': 0, 'car': 1}[seg.split('_')[1]])\n",
    "     for seg in cc.columns],\n",
    "    names=['purpose_model', 'car_av'])\n",
    "# Reshape the table into a mergable format\n",
    "# Use the mean CC to all destinations as accessibility\n",
    "cc = cc.unstack('destination').stack('purpose_model').stack('car_av').mean(axis=1)\n",
    "cc = cc.rename('acc').to_frame()"
   ]
  },
  {
   "cell_type": "code",
   "execution_count": 168,
   "id": "47d35f18-5c8b-4d8f-8e70-299ed3f6de0d",
   "metadata": {},
   "outputs": [],
   "source": [
    "# Merge\n",
    "trips['acc'] = trips.set_index(['origin', 'purpose_model', 'car_av']).index.map(cc['acc'])\n",
    "trips.loc[trips['origin']==trips['destination'], 'acc'] = 0\n",
    "for p in purposes:\n",
    "    for car in [0,1]:\n",
    "        mask = (trips['purpose_model']==p) & (trips['car_av']==car)\n",
    "        trips.loc[mask, 'acc'] = trips.loc[mask, 'acc'].fillna(trips.loc[mask, 'acc'].max())"
   ]
  },
  {
   "cell_type": "code",
   "execution_count": 170,
   "id": "f43737f2",
   "metadata": {},
   "outputs": [
    {
     "data": {
      "text/plain": [
       "(153600, 23)"
      ]
     },
     "execution_count": 170,
     "metadata": {},
     "output_type": "execute_result"
    }
   ],
   "source": [
    "trips = trips.loc[trips.notna().all(axis=1)]\n",
    "trips.shape"
   ]
  },
  {
   "cell_type": "code",
   "execution_count": 160,
   "id": "6bc58d25",
   "metadata": {},
   "outputs": [],
   "source": [
    "# Define a choice variable\n",
    "trips['choice'] = (trips['origin']!=trips['destination']).astype(int)"
   ]
  },
  {
   "cell_type": "code",
   "execution_count": 161,
   "id": "251f1bb7",
   "metadata": {},
   "outputs": [
    {
     "data": {
      "text/plain": [
       "purpose_model  car_av\n",
       "accompany      0         63.5\n",
       "               1         63.7\n",
       "business       0         64.4\n",
       "               1         62.0\n",
       "buy/execute    0         68.5\n",
       "               1         67.9\n",
       "commuting      0         55.2\n",
       "               1         49.5\n",
       "education      0         47.6\n",
       "               1         61.5\n",
       "leisure        0         54.1\n",
       "               1         60.6\n",
       "dtype: float64"
      ]
     },
     "execution_count": 161,
     "metadata": {},
     "output_type": "execute_result"
    }
   ],
   "source": [
    "# Probabilities of making an inner-zonal trip\n",
    "np.round(1 - trips.groupby(['purpose_model', 'car_av']).apply(\n",
    "    lambda df: (df['choice'] * df['W_GEW']).mean()), 3)*100"
   ]
  },
  {
   "cell_type": "markdown",
   "id": "6bc60373",
   "metadata": {},
   "source": [
    "## Build a choice model\n",
    "\n",
    "The model is segmented in\n",
    "* population segments: car availability in household\n",
    "* trip purposes\n",
    "\n",
    "The utility formulation for the choice between making a trip within the home zone or to another one is:\n",
    "\n",
    "$V^{inner}_i= log(\\sum_{j\\in A} a_{i,j}) \\beta^{ATTR}_i + log(\\text{POP} / \\text{AREA}) \\beta^{POP}_i$\n",
    "\n",
    "$V^{inter}_i=ASC^{inter}_i + ACC \\beta^{ACC}_i$\n",
    "\n",
    "Attraction attributes $a$ are chosen for each demand segment $i$ based on their relevance"
   ]
  },
  {
   "cell_type": "code",
   "execution_count": 210,
   "id": "54388bf9-aef3-4a9f-bf43-a64815b905de",
   "metadata": {},
   "outputs": [
    {
     "name": "stdout",
     "output_type": "stream",
     "text": [
      "Estimation message for commuting_no_car (N=1717): CONVERGENCE: NORM_OF_PROJECTED_GRADIENT_<=_PGTOL\n",
      "Estimation message for commuting_car (N=28136): CONVERGENCE: NORM_OF_PROJECTED_GRADIENT_<=_PGTOL\n",
      "Estimation message for business_no_car (N=348): CONVERGENCE: NORM_OF_PROJECTED_GRADIENT_<=_PGTOL\n",
      "Estimation message for business_car (N=6278): CONVERGENCE: NORM_OF_PROJECTED_GRADIENT_<=_PGTOL\n",
      "Estimation message for education_no_car (N=372): CONVERGENCE: NORM_OF_PROJECTED_GRADIENT_<=_PGTOL\n",
      "Estimation message for education_car (N=6803): CONVERGENCE: NORM_OF_PROJECTED_GRADIENT_<=_PGTOL\n",
      "Estimation message for buy/execute_no_car (N=2415): CONVERGENCE: NORM_OF_PROJECTED_GRADIENT_<=_PGTOL\n",
      "Estimation message for buy/execute_car (N=51890): CONVERGENCE: NORM_OF_PROJECTED_GRADIENT_<=_PGTOL\n",
      "Estimation message for leisure_no_car (N=2393): CONVERGENCE: NORM_OF_PROJECTED_GRADIENT_<=_PGTOL\n",
      "Estimation message for leisure_car (N=38802): CONVERGENCE: NORM_OF_PROJECTED_GRADIENT_<=_PGTOL\n",
      "Estimation message for accompany_no_car (N=253): CONVERGENCE: NORM_OF_PROJECTED_GRADIENT_<=_PGTOL\n",
      "Estimation message for accompany_car (N=14193): CONVERGENCE: NORM_OF_PROJECTED_GRADIENT_<=_PGTOL\n"
     ]
    }
   ],
   "source": [
    "# Results container\n",
    "betas = pd.DataFrame(index=['ASC0', 'b_pop', 'b_attr', 'ASC1', 'b_acc'],\n",
    "                     columns=segments)\n",
    "\n",
    "# POI categories for utility functions in order of purposes\n",
    "purpose_categories = [\n",
    "    ['employment'], ['employment'], ['childcare', 'school', 'higher_education'],\n",
    "    ['shop', 'medical', 'special_shop'],\n",
    "    ['daily_leisure', 'occasional_leisure', 'holiday'],\n",
    "    ['school', 'medical', 'childcare']\n",
    "]\n",
    "for p,poi_cats in zip(purposes, purpose_categories):\n",
    "    for car, car_name in zip([0,1], ['_no_car', '_car']):\n",
    "        \n",
    "        # Utility formulation\n",
    "        data = trips.loc[(trips['car_av']==car) & (trips['purpose_model']==p)].copy()\n",
    "        data['pop_dens'] = np.log((1 + data['population']) / data['area'])\n",
    "        data['attr'] = np.log(1 + data[poi_cats].sum(axis=1))\n",
    "        # Design matrices for the choices\n",
    "        X0 = np.column_stack([np.zeros(len(data)), data['pop_dens'], data['attr']])  # Choice 0\n",
    "        X1 = np.column_stack([np.ones(len(data)), data['acc']])  # Choice 1\n",
    "        \n",
    "        # Define the log-likelihood function\n",
    "        def log_likelihood(params, X, y):\n",
    "            # Parameters for choice 0 and choice 1\n",
    "            beta0 = params[:X0.shape[1]]\n",
    "            beta1 = params[X0.shape[1]:]\n",
    "            # Utility functions\n",
    "            U0 = np.dot(X0, beta0)\n",
    "            U1 = np.dot(X1, beta1)\n",
    "            # Choice probabilities\n",
    "            # Add a small epsilon to probabilities to avoid log(0)\n",
    "            epsilon = 1e-10\n",
    "            P0 = np.clip(expit(U0), epsilon, 1 - epsilon)\n",
    "            P1 = np.clip(expit(U1), epsilon, 1 - epsilon)\n",
    "            # Log-likelihood\n",
    "            ll = np.sum(y * np.log(P1) + (1 - y) * np.log(P0))\n",
    "            return -ll  # Negative because we will minimize\n",
    "        \n",
    "        # Optimize the log-likelihood function\n",
    "        X = np.hstack([X0, X1])\n",
    "        y = data['choice']\n",
    "        initial_params = [0., 1., 1., 0., -1.]\n",
    "        bounds = [(None,None), (None,None), (0, None), (None,None), (None,0)]\n",
    "        result = minimize(log_likelihood, initial_params, args=(X, y), method='L-BFGS-B', bounds=bounds)\n",
    "        #result = minimize(log_likelihood, initial_params, args=(X, y), method='BFGS')\n",
    "        \n",
    "        # Output the results\n",
    "        betas[p+car_name] = result.x\n",
    "        print(\"Estimation message for {} (N={}): {}\".format(\n",
    "            p+car_name, len(data), result.message))"
   ]
  },
  {
   "cell_type": "code",
   "execution_count": 211,
   "id": "7452b270",
   "metadata": {},
   "outputs": [
    {
     "data": {
      "text/html": [
       "<div>\n",
       "<style scoped>\n",
       "    .dataframe tbody tr th:only-of-type {\n",
       "        vertical-align: middle;\n",
       "    }\n",
       "\n",
       "    .dataframe tbody tr th {\n",
       "        vertical-align: top;\n",
       "    }\n",
       "\n",
       "    .dataframe thead th {\n",
       "        text-align: right;\n",
       "    }\n",
       "</style>\n",
       "<table border=\"1\" class=\"dataframe\">\n",
       "  <thead>\n",
       "    <tr style=\"text-align: right;\">\n",
       "      <th></th>\n",
       "      <th>commuting_no_car</th>\n",
       "      <th>commuting_car</th>\n",
       "      <th>business_no_car</th>\n",
       "      <th>business_car</th>\n",
       "      <th>education_no_car</th>\n",
       "      <th>education_car</th>\n",
       "      <th>buy/execute_no_car</th>\n",
       "      <th>buy/execute_car</th>\n",
       "      <th>leisure_no_car</th>\n",
       "      <th>leisure_car</th>\n",
       "      <th>accompany_no_car</th>\n",
       "      <th>accompany_car</th>\n",
       "    </tr>\n",
       "  </thead>\n",
       "  <tbody>\n",
       "    <tr>\n",
       "      <th>ASC0</th>\n",
       "      <td>0.00</td>\n",
       "      <td>0.00</td>\n",
       "      <td>0.00</td>\n",
       "      <td>0.00</td>\n",
       "      <td>0.00</td>\n",
       "      <td>0.00</td>\n",
       "      <td>0.00</td>\n",
       "      <td>0.00</td>\n",
       "      <td>0.00</td>\n",
       "      <td>0.00</td>\n",
       "      <td>0.00</td>\n",
       "      <td>0.00</td>\n",
       "    </tr>\n",
       "    <tr>\n",
       "      <th>b_pop</th>\n",
       "      <td>2.46</td>\n",
       "      <td>4.27</td>\n",
       "      <td>2.90</td>\n",
       "      <td>3.95</td>\n",
       "      <td>2.24</td>\n",
       "      <td>3.98</td>\n",
       "      <td>2.74</td>\n",
       "      <td>3.56</td>\n",
       "      <td>2.30</td>\n",
       "      <td>3.12</td>\n",
       "      <td>2.01</td>\n",
       "      <td>3.94</td>\n",
       "    </tr>\n",
       "    <tr>\n",
       "      <th>b_attr</th>\n",
       "      <td>1.77</td>\n",
       "      <td>2.24</td>\n",
       "      <td>1.79</td>\n",
       "      <td>2.23</td>\n",
       "      <td>1.50</td>\n",
       "      <td>2.06</td>\n",
       "      <td>2.33</td>\n",
       "      <td>2.63</td>\n",
       "      <td>2.12</td>\n",
       "      <td>2.57</td>\n",
       "      <td>1.67</td>\n",
       "      <td>1.99</td>\n",
       "    </tr>\n",
       "    <tr>\n",
       "      <th>ASC1</th>\n",
       "      <td>30.55</td>\n",
       "      <td>34.93</td>\n",
       "      <td>42.28</td>\n",
       "      <td>24.99</td>\n",
       "      <td>30.88</td>\n",
       "      <td>36.38</td>\n",
       "      <td>23.10</td>\n",
       "      <td>36.84</td>\n",
       "      <td>31.29</td>\n",
       "      <td>27.65</td>\n",
       "      <td>0.00</td>\n",
       "      <td>39.87</td>\n",
       "    </tr>\n",
       "    <tr>\n",
       "      <th>b_acc</th>\n",
       "      <td>-0.93</td>\n",
       "      <td>0.00</td>\n",
       "      <td>0.00</td>\n",
       "      <td>-0.89</td>\n",
       "      <td>-0.50</td>\n",
       "      <td>0.00</td>\n",
       "      <td>-0.66</td>\n",
       "      <td>-0.86</td>\n",
       "      <td>-0.90</td>\n",
       "      <td>-0.97</td>\n",
       "      <td>-1.00</td>\n",
       "      <td>-0.69</td>\n",
       "    </tr>\n",
       "  </tbody>\n",
       "</table>\n",
       "</div>"
      ],
      "text/plain": [
       "        commuting_no_car  commuting_car  business_no_car  business_car  \\\n",
       "ASC0                0.00           0.00             0.00          0.00   \n",
       "b_pop               2.46           4.27             2.90          3.95   \n",
       "b_attr              1.77           2.24             1.79          2.23   \n",
       "ASC1               30.55          34.93            42.28         24.99   \n",
       "b_acc              -0.93           0.00             0.00         -0.89   \n",
       "\n",
       "        education_no_car  education_car  buy/execute_no_car  buy/execute_car  \\\n",
       "ASC0                0.00           0.00                0.00             0.00   \n",
       "b_pop               2.24           3.98                2.74             3.56   \n",
       "b_attr              1.50           2.06                2.33             2.63   \n",
       "ASC1               30.88          36.38               23.10            36.84   \n",
       "b_acc              -0.50           0.00               -0.66            -0.86   \n",
       "\n",
       "        leisure_no_car  leisure_car  accompany_no_car  accompany_car  \n",
       "ASC0              0.00         0.00              0.00           0.00  \n",
       "b_pop             2.30         3.12              2.01           3.94  \n",
       "b_attr            2.12         2.57              1.67           1.99  \n",
       "ASC1             31.29        27.65              0.00          39.87  \n",
       "b_acc            -0.90        -0.97             -1.00          -0.69  "
      ]
     },
     "execution_count": 211,
     "metadata": {},
     "output_type": "execute_result"
    }
   ],
   "source": [
    "np.round(betas, 2)"
   ]
  },
  {
   "cell_type": "code",
   "execution_count": 212,
   "id": "21199e03",
   "metadata": {},
   "outputs": [],
   "source": [
    "# Save results\n",
    "betas.to_csv(input_path + 'estimation_results_inner-inter_betas.csv')"
   ]
  },
  {
   "cell_type": "markdown",
   "id": "dedf6506",
   "metadata": {},
   "source": [
    "## Calculate choice probabilities in model zones"
   ]
  },
  {
   "cell_type": "code",
   "execution_count": 213,
   "id": "cf47b725",
   "metadata": {},
   "outputs": [],
   "source": [
    "# Simulate the probabilities from the zones table\n",
    "inner_probs = pd.DataFrame(index=sm.zones.index)\n",
    "for p,poi_cats in zip(purposes, purpose_categories):\n",
    "    for car, car_name in zip([0,1], ['_no_car', '_car']):\n",
    "        # Add accessibility for this segment to database\n",
    "        sm.zones['acc'] = sm.zones.index.map(cc.xs(car, level='car_av').xs(p, level='purpose_model')['acc'])\n",
    "        sm.zones['pop_dens'] = np.log((1 + sm.zones['population']) / sm.zones['area'])\n",
    "        sm.zones['attr'] = np.log(1 + sm.zones[poi_cats].sum(axis=1))\n",
    "        # Design matrices for the choices\n",
    "        X0 = np.column_stack([np.zeros(len(sm.zones)), sm.zones['pop_dens'], sm.zones['attr']])\n",
    "        X1 = np.column_stack([np.ones(len(sm.zones)), sm.zones['acc']])\n",
    "        X = np.hstack([X0, X1])\n",
    "        sm.zones[p+car_name] = np.dot(X, betas[p+car_name])"
   ]
  },
  {
   "cell_type": "code",
   "execution_count": 227,
   "id": "b99fa649-3584-4b10-9522-036af118c768",
   "metadata": {},
   "outputs": [
    {
     "data": {
      "text/plain": [
       "commuting_no_car      inf\n",
       "commuting_car         inf\n",
       "business_no_car       inf\n",
       "business_car          inf\n",
       "education_no_car      inf\n",
       "education_car         inf\n",
       "buy/execute_no_car    inf\n",
       "buy/execute_car       inf\n",
       "leisure_no_car        inf\n",
       "leisure_car           inf\n",
       "accompany_no_car      inf\n",
       "accompany_car         inf\n",
       "dtype: float64"
      ]
     },
     "execution_count": 227,
     "metadata": {},
     "output_type": "execute_result"
    }
   ],
   "source": [
    "# Inner-zonal probabilities\n",
    "sm.zones[segments].mean()"
   ]
  },
  {
   "cell_type": "markdown",
   "id": "2dfee057",
   "metadata": {},
   "source": [
    "## Save results"
   ]
  },
  {
   "cell_type": "code",
   "execution_count": 24,
   "id": "5ec17c78",
   "metadata": {},
   "outputs": [],
   "source": [
    "inner_probs.to_csv(model_path + 'inner-zonal_probabilities.csv')"
   ]
  }
 ],
 "metadata": {
  "kernelspec": {
   "display_name": "Python 3 (ipykernel)",
   "language": "python",
   "name": "python3"
  },
  "language_info": {
   "codemirror_mode": {
    "name": "ipython",
    "version": 3
   },
   "file_extension": ".py",
   "mimetype": "text/x-python",
   "name": "python",
   "nbconvert_exporter": "python",
   "pygments_lexer": "ipython3",
   "version": "3.10.14"
  }
 },
 "nbformat": 4,
 "nbformat_minor": 5
}
