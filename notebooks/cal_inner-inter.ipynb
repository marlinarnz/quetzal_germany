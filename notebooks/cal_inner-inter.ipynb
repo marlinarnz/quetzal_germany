{
 "cells": [
  {
   "cell_type": "code",
   "execution_count": 2,
   "id": "aae6f93a",
   "metadata": {},
   "outputs": [],
   "source": [
    "import sys # for automation and parallelisation\n",
    "manual, scenario = (True, 'base') if 'ipykernel' in sys.argv[0] else (False, sys.argv[1])"
   ]
  },
  {
   "cell_type": "code",
   "execution_count": 1,
   "id": "12b8bed7",
   "metadata": {},
   "outputs": [],
   "source": [
    "import pandas as pd\n",
    "import numpy as np\n",
    "from quetzal.model import stepmodel\n",
    "from quetzal.io import excel\n",
    "import biogeme.database as db\n",
    "import biogeme.biogeme as bio\n",
    "import biogeme.models as models\n",
    "import biogeme.messaging as message\n",
    "from biogeme import expressions as ex"
   ]
  },
  {
   "cell_type": "code",
   "execution_count": 3,
   "id": "524fd039",
   "metadata": {},
   "outputs": [],
   "source": [
    "model_path = '../model/' + scenario + '/'\n",
    "input_path = '../input/'\n",
    "output_path = '../output/'"
   ]
  },
  {
   "cell_type": "code",
   "execution_count": 4,
   "id": "d1e2ff11",
   "metadata": {},
   "outputs": [],
   "source": [
    "# Load parameters for settings\n",
    "params = excel.read_var(file='../input/parameters.xls', scenario=scenario)"
   ]
  },
  {
   "cell_type": "markdown",
   "id": "4eac6c90",
   "metadata": {
    "tags": []
   },
   "source": [
    "# Calibration: inner/inter-zonal destination choice\n",
    "\n",
    "## Requires MiD data\n",
    "\n",
    "## Saves inner-zonal probabilities for zones\n",
    "\n",
    "Assumptions apply as in `model_generation`"
   ]
  },
  {
   "cell_type": "code",
   "execution_count": 5,
   "id": "19f4464b",
   "metadata": {},
   "outputs": [],
   "source": [
    "sm = stepmodel.read_json(model_path + 'de_zones')"
   ]
  },
  {
   "cell_type": "code",
   "execution_count": 6,
   "id": "82c2a51d",
   "metadata": {},
   "outputs": [],
   "source": [
    "# Transport demand segments\n",
    "segments = [s.strip() for s in params['general']['demand_segments'].split(';')]\n",
    "purposes = [s.split('_')[0] for s in segments][::2]"
   ]
  },
  {
   "cell_type": "code",
   "execution_count": 8,
   "id": "313e9dc1",
   "metadata": {},
   "outputs": [
    {
     "data": {
      "text/plain": [
       "(254876, 8)"
      ]
     },
     "execution_count": 8,
     "metadata": {},
     "output_type": "execute_result"
    }
   ],
   "source": [
    "# Load trips from MiD2017\n",
    "trips = pd.read_csv(input_path + 'transport_demand/calibration_all_trips_MiD2017.csv',\n",
    "                    usecols=['purpose_model', 'purpose2', 'car_avail', 'distance',\n",
    "                             'origin', 'destination', 'P_ID', 'W_GEW'])\n",
    "trips.rename(columns={'car_avail': 'car_av'}, inplace=True)\n",
    "trips = trips.loc[trips['car_av'].isin([0,1])]\n",
    "trips.shape"
   ]
  },
  {
   "cell_type": "code",
   "execution_count": 9,
   "id": "f9eb7681",
   "metadata": {},
   "outputs": [
    {
     "data": {
      "text/plain": [
       "153608"
      ]
     },
     "execution_count": 9,
     "metadata": {},
     "output_type": "execute_result"
    }
   ],
   "source": [
    "# Drop return trips\n",
    "trips = trips.loc[~trips['purpose2'].isin([8,9])]\n",
    "len(trips)"
   ]
  },
  {
   "cell_type": "markdown",
   "id": "8574d866",
   "metadata": {},
   "source": [
    "## Add choice attributes"
   ]
  },
  {
   "cell_type": "code",
   "execution_count": 10,
   "id": "1a10f168",
   "metadata": {},
   "outputs": [],
   "source": [
    "# Add employment to trips\n",
    "zone_dict = sm.zones['employment'].to_dict()\n",
    "trips['employment'] = trips['origin'].map(zone_dict)"
   ]
  },
  {
   "cell_type": "code",
   "execution_count": 11,
   "id": "16b99e8e",
   "metadata": {},
   "outputs": [],
   "source": [
    "# Load other attraction POIs\n",
    "pois = pd.read_csv(input_path + 'spatial_num_pois_raw.csv', index_col='index')\n",
    "cats = pd.read_excel(input_path + 'spatial_OSM_POI_list.xlsx', sheet_name='categories')\n",
    "cats['label'] = (cats['key'] + ' ' + cats['value'].fillna('')).str.strip()\n",
    "for category, columns in cats.loc[cats['category'].notna()\n",
    "                                 ].groupby('category').agg(\n",
    "                                {'label': list})['label'].items():\n",
    "    trips[category] = trips['origin'].map(pois[columns].sum(axis=1)).fillna(0)\n",
    "    sm.zones[category] = sm.zones['FID'].map(pois[columns].sum(axis=1)).fillna(0)"
   ]
  },
  {
   "cell_type": "code",
   "execution_count": 12,
   "id": "858d4706",
   "metadata": {},
   "outputs": [
    {
     "data": {
      "text/plain": [
       "(153608, 21)"
      ]
     },
     "execution_count": 12,
     "metadata": {},
     "output_type": "execute_result"
    }
   ],
   "source": [
    "# Put zone data in trips table (population, area, urbanisation)\n",
    "trips = trips.merge(sm.zones[['population', 'area', 'urbanisation']],\n",
    "                    how='inner', # drop trips outside of model zones\n",
    "                    left_on='origin', right_index=True)\n",
    "trips.shape"
   ]
  },
  {
   "cell_type": "code",
   "execution_count": 15,
   "id": "83cedf0a",
   "metadata": {},
   "outputs": [],
   "source": [
    "# Add accessibility\n",
    "# Load inter-zonal composite cost from mode choice step\n",
    "cc = pd.read_csv(output_path + scenario + '/mode_choice_od_composite_cost.csv')\n",
    "cc.set_index(['origin', 'destination'], inplace=True)\n",
    "# Rename segments to integer values\n",
    "cc.columns = pd.MultiIndex.from_tuples(\n",
    "    [(seg.split('_')[0], {'no': 0, 'car': 1}[seg.split('_')[1]])\n",
    "     for seg in cc.columns],\n",
    "    names=['purpose_model', 'car_av'])\n",
    "# Reshape the table into a mergable format\n",
    "# Use the mean CC to all destinations as accessibility\n",
    "cc = cc.unstack('destination').stack('purpose_model').stack('car_av').mean(axis=1)\n",
    "cc = cc.unstack('purpose_model')\n",
    "# Merge\n",
    "for p in purposes:\n",
    "    trips['acc_'+p] = trips.merge(cc[[p]], how='left', left_on=['origin', 'car_av'],\n",
    "                                  right_index=True)[p]\n",
    "    # Fill NaN with maximums\n",
    "    trips['acc_'+p] = trips['acc_'+p].fillna(trips['acc_'+p].max())\n",
    "    # Inner-zonal does not matter here\n",
    "    trips.loc[trips['origin']==trips['destination'], 'acc_'+p] = 0"
   ]
  },
  {
   "cell_type": "code",
   "execution_count": 20,
   "id": "f43737f2",
   "metadata": {},
   "outputs": [
    {
     "data": {
      "text/plain": [
       "(153608, 27)"
      ]
     },
     "execution_count": 20,
     "metadata": {},
     "output_type": "execute_result"
    }
   ],
   "source": [
    "trips = trips.loc[trips.notna().all(axis=1)]\n",
    "trips.shape"
   ]
  },
  {
   "cell_type": "code",
   "execution_count": 21,
   "id": "6bc58d25",
   "metadata": {},
   "outputs": [],
   "source": [
    "# Define a choice variable\n",
    "trips['choice'] = (trips['origin']!=trips['destination']).astype(int)"
   ]
  },
  {
   "cell_type": "code",
   "execution_count": 24,
   "id": "251f1bb7",
   "metadata": {},
   "outputs": [
    {
     "data": {
      "text/html": [
       "<div>\n",
       "<style scoped>\n",
       "    .dataframe tbody tr th:only-of-type {\n",
       "        vertical-align: middle;\n",
       "    }\n",
       "\n",
       "    .dataframe tbody tr th {\n",
       "        vertical-align: top;\n",
       "    }\n",
       "\n",
       "    .dataframe thead th {\n",
       "        text-align: right;\n",
       "    }\n",
       "</style>\n",
       "<table border=\"1\" class=\"dataframe\">\n",
       "  <thead>\n",
       "    <tr style=\"text-align: right;\">\n",
       "      <th></th>\n",
       "      <th></th>\n",
       "      <th>choice</th>\n",
       "    </tr>\n",
       "    <tr>\n",
       "      <th>purpose_model</th>\n",
       "      <th>car_av</th>\n",
       "      <th></th>\n",
       "    </tr>\n",
       "  </thead>\n",
       "  <tbody>\n",
       "    <tr>\n",
       "      <th rowspan=\"2\" valign=\"top\">accompany</th>\n",
       "      <th>0</th>\n",
       "      <td>0.241107</td>\n",
       "    </tr>\n",
       "    <tr>\n",
       "      <th>1</th>\n",
       "      <td>0.358839</td>\n",
       "    </tr>\n",
       "    <tr>\n",
       "      <th rowspan=\"2\" valign=\"top\">business</th>\n",
       "      <th>0</th>\n",
       "      <td>0.255747</td>\n",
       "    </tr>\n",
       "    <tr>\n",
       "      <th>1</th>\n",
       "      <td>0.452851</td>\n",
       "    </tr>\n",
       "    <tr>\n",
       "      <th rowspan=\"2\" valign=\"top\">buy/execute</th>\n",
       "      <th>0</th>\n",
       "      <td>0.183023</td>\n",
       "    </tr>\n",
       "    <tr>\n",
       "      <th>1</th>\n",
       "      <td>0.363827</td>\n",
       "    </tr>\n",
       "    <tr>\n",
       "      <th rowspan=\"2\" valign=\"top\">commuting</th>\n",
       "      <th>0</th>\n",
       "      <td>0.239953</td>\n",
       "    </tr>\n",
       "    <tr>\n",
       "      <th>1</th>\n",
       "      <td>0.518339</td>\n",
       "    </tr>\n",
       "    <tr>\n",
       "      <th rowspan=\"2\" valign=\"top\">education</th>\n",
       "      <th>0</th>\n",
       "      <td>0.209677</td>\n",
       "    </tr>\n",
       "    <tr>\n",
       "      <th>1</th>\n",
       "      <td>0.370278</td>\n",
       "    </tr>\n",
       "    <tr>\n",
       "      <th rowspan=\"2\" valign=\"top\">leisure</th>\n",
       "      <th>0</th>\n",
       "      <td>0.276640</td>\n",
       "    </tr>\n",
       "    <tr>\n",
       "      <th>1</th>\n",
       "      <td>0.426112</td>\n",
       "    </tr>\n",
       "  </tbody>\n",
       "</table>\n",
       "</div>"
      ],
      "text/plain": [
       "                        choice\n",
       "purpose_model car_av          \n",
       "accompany     0       0.241107\n",
       "              1       0.358839\n",
       "business      0       0.255747\n",
       "              1       0.452851\n",
       "buy/execute   0       0.183023\n",
       "              1       0.363827\n",
       "commuting     0       0.239953\n",
       "              1       0.518339\n",
       "education     0       0.209677\n",
       "              1       0.370278\n",
       "leisure       0       0.276640\n",
       "              1       0.426112"
      ]
     },
     "execution_count": 24,
     "metadata": {},
     "output_type": "execute_result"
    }
   ],
   "source": [
    "# Probabilities of going to another zone\n",
    "trips.groupby(['purpose_model', 'car_av']).agg({'choice': 'mean'})"
   ]
  },
  {
   "cell_type": "markdown",
   "id": "6bc60373",
   "metadata": {},
   "source": [
    "## Build a choice model\n",
    "\n",
    "The model is segmented in\n",
    "* population segments: car availability in household\n",
    "* trip purposes\n",
    "\n",
    "The utility formulation for the choice between making a trip within the home zone or to another one is:\n",
    "\n",
    "$V^{inner}_i= log(\\sum_{j\\in A} a_{i,j}) \\beta^{ATTR}_i + log(\\text{POP} / \\text{AREA}) \\beta^{POP}_i$\n",
    "\n",
    "$V^{inter}_i=ASC^{inter}_i + ACC \\beta^{ACC}_i$\n",
    "\n",
    "Attraction attributes $a$ are chosen for each demand segment $i$ based on their relevance"
   ]
  },
  {
   "cell_type": "code",
   "execution_count": 33,
   "id": "06db81b7",
   "metadata": {},
   "outputs": [
    {
     "name": "stderr",
     "output_type": "stream",
     "text": [
      "The sum of the weights (13032.724443093686) is different from the sample size (7498). Multiply the weights by 0.5753209954479892 to reconcile the two.\n",
      "The sum of the weights (13032.724443093686) is different from the sample size (7498). Multiply the weights by 0.5753209954479892 to reconcile the two.\n",
      "The sum of the weights (13032.724443093686) is different from the sample size (7498). Multiply the weights by 0.5753209954479892 to reconcile the two.\n",
      "The sum of the weights (13032.724443093686) is different from the sample size (7498). Multiply the weights by 0.5753209954479892 to reconcile the two.\n",
      "The sum of the weights (13032.724443093686) is different from the sample size (7498). Multiply the weights by 0.5753209954479892 to reconcile the two.\n",
      "The sum of the weights (13032.724443093686) is different from the sample size (7498). Multiply the weights by 0.5753209954479892 to reconcile the two.\n",
      "The sum of the weights (136602.64700843094) is different from the sample size (146102). Multiply the weights by 1.0695400360066432 to reconcile the two.\n",
      "The sum of the weights (136602.64700843094) is different from the sample size (146102). Multiply the weights by 1.0695400360066432 to reconcile the two.\n",
      "The sum of the weights (136602.64700843094) is different from the sample size (146102). Multiply the weights by 1.0695400360066432 to reconcile the two.\n",
      "The sum of the weights (136602.64700843094) is different from the sample size (146102). Multiply the weights by 1.0695400360066432 to reconcile the two.\n",
      "The sum of the weights (136602.64700843094) is different from the sample size (146102). Multiply the weights by 1.0695400360066432 to reconcile the two.\n",
      "The sum of the weights (136602.64700843094) is different from the sample size (146102). Multiply the weights by 1.0695400360066432 to reconcile the two.\n"
     ]
    }
   ],
   "source": [
    "# Result containers\n",
    "betas = pd.DataFrame()\n",
    "t_tests = pd.DataFrame()\n",
    "# Save utility functions for later\n",
    "Vs = {}\n",
    "\n",
    "car_names = {0: '_no_car', 1: '_car'}\n",
    "for car in [0,1]:\n",
    "    # create a database for this population segment\n",
    "    database = db.Database(car_names[car][1:], trips.loc[trips['car_av']==car].drop(\n",
    "        ['origin', 'destination', 'purpose_model'], axis=1).copy())\n",
    "    globals().update(database.variables)\n",
    "    Vs[car] = {}\n",
    "    \n",
    "    # Define parameters\n",
    "    ASC_0 = ex.Beta('ASC_0', 0, None, None, 1)\n",
    "    ASC_1 = ex.Beta('ASC_1', 0, None, None, 0)\n",
    "    b_pop = ex.Beta('b_pop', 0, None, None, 0)\n",
    "    b_attr = ex.Beta('b_attr', 0, None, None, 0)\n",
    "    b_acc = ex.Beta('b_acc', 0, None, None, 0)\n",
    "\n",
    "    # Define the utility formulation by purpose\n",
    "    Vs[car]['commuting'] = {0:\n",
    "                            ASC_0\n",
    "                            + ex.log(1+employment)*b_attr\n",
    "                            + ex.log((1+population)/area)*b_pop,\n",
    "                            1:\n",
    "                            ASC_1\n",
    "                            + acc_commuting * b_acc}\n",
    "    Vs[car]['business'] = {0:\n",
    "                            ASC_0\n",
    "                            + ex.log(1+employment)*b_attr\n",
    "                            + ex.log((1+population)/area)*b_pop,\n",
    "                            1:\n",
    "                            ASC_1\n",
    "                            + acc_business * b_acc}\n",
    "    Vs[car]['education'] = {0:\n",
    "                            ASC_0\n",
    "                            + ex.log(1+childcare + school + higher_education)*b_attr\n",
    "                            + ex.log((1+population)/area)*b_pop,\n",
    "                            1:\n",
    "                            ASC_1\n",
    "                            + acc_education * b_acc}\n",
    "    Vs[car]['buy/execute'] = {0:\n",
    "                            ASC_0\n",
    "                            + ex.log(1+shop + medical + special_shop)*b_attr\n",
    "                            + ex.log((1+population)/area)*b_pop,\n",
    "                            1:\n",
    "                            ASC_1\n",
    "                            + globals()['acc_buy/execute'] * b_acc}\n",
    "    Vs[car]['leisure'] = {0:\n",
    "                            ASC_0\n",
    "                            + ex.log(1+daily_leisure + holiday + occasional_leisure)*b_attr\n",
    "                            + ex.log((1+population)/area)*b_pop,\n",
    "                            1:\n",
    "                            ASC_1\n",
    "                            + acc_leisure * b_acc}\n",
    "    Vs[car]['accompany'] = {0:\n",
    "                            ASC_0\n",
    "                            + ex.log(1+medical + school + childcare)*b_attr\n",
    "                            + ex.log((1+population)/area)*b_pop,\n",
    "                            1:\n",
    "                            ASC_1\n",
    "                            + acc_accompany * b_acc}\n",
    "\n",
    "    for p in purposes:\n",
    "        # Run the estimation\n",
    "        logprob = models.loglogit(Vs[car][p], None, choice)\n",
    "        formulas = {'loglike': logprob, 'weight': W_GEW} # give weights to the estimator\n",
    "        model = bio.BIOGEME(database, formulas)\n",
    "        model.modelName = p + car_names[car]\n",
    "        model.generate_html = False\n",
    "        model.generate_pickle = False\n",
    "        model.saveIterations = False\n",
    "        results = model.estimate()\n",
    "        \n",
    "        # Save results\n",
    "        betas[model.modelName] = results.getEstimatedParameters()['Value']\n",
    "        t_tests[model.modelName] = np.abs(results.getEstimatedParameters()['Rob. t-test'])"
   ]
  },
  {
   "cell_type": "code",
   "execution_count": 36,
   "id": "a3381176-258b-40fb-b24a-445c9a649c8a",
   "metadata": {},
   "outputs": [],
   "source": [
    "# Correct betas for attraction, if negative and insignificant\n",
    "for seg in segments:\n",
    "    if betas.loc['b_attr', seg]<0 and t_tests.loc['b_attr', seg]<1.96:\n",
    "        betas.loc['b_attr', seg] = 0"
   ]
  },
  {
   "cell_type": "code",
   "execution_count": 38,
   "id": "21199e03",
   "metadata": {},
   "outputs": [],
   "source": [
    "# Save results\n",
    "betas.to_csv(input_path + 'estimation_results_inner-inter_betas.csv')\n",
    "t_tests.to_csv(input_path + 'estimation_results_inner-inter_t_tests.csv')"
   ]
  },
  {
   "cell_type": "code",
   "execution_count": 37,
   "id": "4235e0b5",
   "metadata": {},
   "outputs": [
    {
     "data": {
      "text/html": [
       "<div>\n",
       "<style scoped>\n",
       "    .dataframe tbody tr th:only-of-type {\n",
       "        vertical-align: middle;\n",
       "    }\n",
       "\n",
       "    .dataframe tbody tr th {\n",
       "        vertical-align: top;\n",
       "    }\n",
       "\n",
       "    .dataframe thead th {\n",
       "        text-align: right;\n",
       "    }\n",
       "</style>\n",
       "<table border=\"1\" class=\"dataframe\">\n",
       "  <thead>\n",
       "    <tr style=\"text-align: right;\">\n",
       "      <th></th>\n",
       "      <th>commuting_no_car</th>\n",
       "      <th>business_no_car</th>\n",
       "      <th>education_no_car</th>\n",
       "      <th>buy/execute_no_car</th>\n",
       "      <th>leisure_no_car</th>\n",
       "      <th>accompany_no_car</th>\n",
       "      <th>commuting_car</th>\n",
       "      <th>business_car</th>\n",
       "      <th>education_car</th>\n",
       "      <th>buy/execute_car</th>\n",
       "      <th>leisure_car</th>\n",
       "      <th>accompany_car</th>\n",
       "    </tr>\n",
       "  </thead>\n",
       "  <tbody>\n",
       "    <tr>\n",
       "      <th>ASC_1</th>\n",
       "      <td>-12.887</td>\n",
       "      <td>-9.303</td>\n",
       "      <td>-14.546</td>\n",
       "      <td>0.180</td>\n",
       "      <td>-12.201</td>\n",
       "      <td>-15.644</td>\n",
       "      <td>-8.448</td>\n",
       "      <td>-11.458</td>\n",
       "      <td>-10.713</td>\n",
       "      <td>-9.336</td>\n",
       "      <td>-10.230</td>\n",
       "      <td>-10.045</td>\n",
       "    </tr>\n",
       "    <tr>\n",
       "      <th>b_acc</th>\n",
       "      <td>3.910</td>\n",
       "      <td>4.977</td>\n",
       "      <td>1.715</td>\n",
       "      <td>4.435</td>\n",
       "      <td>3.097</td>\n",
       "      <td>0.642</td>\n",
       "      <td>2.300</td>\n",
       "      <td>15.477</td>\n",
       "      <td>7.253</td>\n",
       "      <td>5.857</td>\n",
       "      <td>15.226</td>\n",
       "      <td>3.817</td>\n",
       "    </tr>\n",
       "    <tr>\n",
       "      <th>b_attr</th>\n",
       "      <td>0.102</td>\n",
       "      <td>0.053</td>\n",
       "      <td>0.108</td>\n",
       "      <td>0.933</td>\n",
       "      <td>0.000</td>\n",
       "      <td>0.121</td>\n",
       "      <td>0.000</td>\n",
       "      <td>0.000</td>\n",
       "      <td>0.282</td>\n",
       "      <td>0.527</td>\n",
       "      <td>0.656</td>\n",
       "      <td>0.687</td>\n",
       "    </tr>\n",
       "    <tr>\n",
       "      <th>b_pop</th>\n",
       "      <td>0.183</td>\n",
       "      <td>0.726</td>\n",
       "      <td>-0.014</td>\n",
       "      <td>0.259</td>\n",
       "      <td>0.467</td>\n",
       "      <td>-0.047</td>\n",
       "      <td>1.294</td>\n",
       "      <td>0.795</td>\n",
       "      <td>0.609</td>\n",
       "      <td>0.718</td>\n",
       "      <td>0.444</td>\n",
       "      <td>0.535</td>\n",
       "    </tr>\n",
       "  </tbody>\n",
       "</table>\n",
       "</div>"
      ],
      "text/plain": [
       "        commuting_no_car  business_no_car  education_no_car  \\\n",
       "ASC_1            -12.887           -9.303           -14.546   \n",
       "b_acc              3.910            4.977             1.715   \n",
       "b_attr             0.102            0.053             0.108   \n",
       "b_pop              0.183            0.726            -0.014   \n",
       "\n",
       "        buy/execute_no_car  leisure_no_car  accompany_no_car  commuting_car  \\\n",
       "ASC_1                0.180         -12.201           -15.644         -8.448   \n",
       "b_acc                4.435           3.097             0.642          2.300   \n",
       "b_attr               0.933           0.000             0.121          0.000   \n",
       "b_pop                0.259           0.467            -0.047          1.294   \n",
       "\n",
       "        business_car  education_car  buy/execute_car  leisure_car  \\\n",
       "ASC_1        -11.458        -10.713           -9.336      -10.230   \n",
       "b_acc         15.477          7.253            5.857       15.226   \n",
       "b_attr         0.000          0.282            0.527        0.656   \n",
       "b_pop          0.795          0.609            0.718        0.444   \n",
       "\n",
       "        accompany_car  \n",
       "ASC_1         -10.045  \n",
       "b_acc           3.817  \n",
       "b_attr          0.687  \n",
       "b_pop           0.535  "
      ]
     },
     "execution_count": 37,
     "metadata": {},
     "output_type": "execute_result"
    }
   ],
   "source": [
    "np.round(betas, 3)"
   ]
  },
  {
   "cell_type": "code",
   "execution_count": 35,
   "id": "7452b270",
   "metadata": {},
   "outputs": [
    {
     "data": {
      "text/html": [
       "<div>\n",
       "<style scoped>\n",
       "    .dataframe tbody tr th:only-of-type {\n",
       "        vertical-align: middle;\n",
       "    }\n",
       "\n",
       "    .dataframe tbody tr th {\n",
       "        vertical-align: top;\n",
       "    }\n",
       "\n",
       "    .dataframe thead th {\n",
       "        text-align: right;\n",
       "    }\n",
       "</style>\n",
       "<table border=\"1\" class=\"dataframe\">\n",
       "  <thead>\n",
       "    <tr style=\"text-align: right;\">\n",
       "      <th></th>\n",
       "      <th>commuting_no_car</th>\n",
       "      <th>business_no_car</th>\n",
       "      <th>education_no_car</th>\n",
       "      <th>buy/execute_no_car</th>\n",
       "      <th>leisure_no_car</th>\n",
       "      <th>accompany_no_car</th>\n",
       "      <th>commuting_car</th>\n",
       "      <th>business_car</th>\n",
       "      <th>education_car</th>\n",
       "      <th>buy/execute_car</th>\n",
       "      <th>leisure_car</th>\n",
       "      <th>accompany_car</th>\n",
       "    </tr>\n",
       "  </thead>\n",
       "  <tbody>\n",
       "    <tr>\n",
       "      <th>ASC_1</th>\n",
       "      <td>20.87</td>\n",
       "      <td>17.34</td>\n",
       "      <td>34.80</td>\n",
       "      <td>0.11</td>\n",
       "      <td>16.73</td>\n",
       "      <td>52.36</td>\n",
       "      <td>39.12</td>\n",
       "      <td>78.51</td>\n",
       "      <td>81.19</td>\n",
       "      <td>48.89</td>\n",
       "      <td>65.83</td>\n",
       "      <td>64.34</td>\n",
       "    </tr>\n",
       "    <tr>\n",
       "      <th>b_acc</th>\n",
       "      <td>289.87</td>\n",
       "      <td>55.43</td>\n",
       "      <td>405.70</td>\n",
       "      <td>10.46</td>\n",
       "      <td>170.58</td>\n",
       "      <td>452.90</td>\n",
       "      <td>189.11</td>\n",
       "      <td>464.02</td>\n",
       "      <td>415.23</td>\n",
       "      <td>251.15</td>\n",
       "      <td>412.48</td>\n",
       "      <td>305.95</td>\n",
       "    </tr>\n",
       "    <tr>\n",
       "      <th>b_attr</th>\n",
       "      <td>4.32</td>\n",
       "      <td>0.53</td>\n",
       "      <td>2.94</td>\n",
       "      <td>3.56</td>\n",
       "      <td>1.19</td>\n",
       "      <td>4.24</td>\n",
       "      <td>1.11</td>\n",
       "      <td>0.85</td>\n",
       "      <td>5.79</td>\n",
       "      <td>8.64</td>\n",
       "      <td>18.32</td>\n",
       "      <td>11.23</td>\n",
       "    </tr>\n",
       "    <tr>\n",
       "      <th>b_pop</th>\n",
       "      <td>2.48</td>\n",
       "      <td>5.21</td>\n",
       "      <td>0.17</td>\n",
       "      <td>0.53</td>\n",
       "      <td>2.89</td>\n",
       "      <td>0.76</td>\n",
       "      <td>14.80</td>\n",
       "      <td>17.70</td>\n",
       "      <td>16.21</td>\n",
       "      <td>16.98</td>\n",
       "      <td>15.10</td>\n",
       "      <td>14.02</td>\n",
       "    </tr>\n",
       "  </tbody>\n",
       "</table>\n",
       "</div>"
      ],
      "text/plain": [
       "        commuting_no_car  business_no_car  education_no_car  \\\n",
       "ASC_1              20.87            17.34             34.80   \n",
       "b_acc             289.87            55.43            405.70   \n",
       "b_attr              4.32             0.53              2.94   \n",
       "b_pop               2.48             5.21              0.17   \n",
       "\n",
       "        buy/execute_no_car  leisure_no_car  accompany_no_car  commuting_car  \\\n",
       "ASC_1                 0.11           16.73             52.36          39.12   \n",
       "b_acc                10.46          170.58            452.90         189.11   \n",
       "b_attr                3.56            1.19              4.24           1.11   \n",
       "b_pop                 0.53            2.89              0.76          14.80   \n",
       "\n",
       "        business_car  education_car  buy/execute_car  leisure_car  \\\n",
       "ASC_1          78.51          81.19            48.89        65.83   \n",
       "b_acc         464.02         415.23           251.15       412.48   \n",
       "b_attr          0.85           5.79             8.64        18.32   \n",
       "b_pop          17.70          16.21            16.98        15.10   \n",
       "\n",
       "        accompany_car  \n",
       "ASC_1           64.34  \n",
       "b_acc          305.95  \n",
       "b_attr          11.23  \n",
       "b_pop           14.02  "
      ]
     },
     "execution_count": 35,
     "metadata": {},
     "output_type": "execute_result"
    }
   ],
   "source": [
    "np.round(t_tests, 2)"
   ]
  },
  {
   "cell_type": "markdown",
   "id": "dedf6506",
   "metadata": {},
   "source": [
    "## Calculate choice probabilities in model zones"
   ]
  },
  {
   "cell_type": "code",
   "execution_count": 39,
   "id": "cf47b725",
   "metadata": {},
   "outputs": [],
   "source": [
    "# Simulate the probabilities from the zones table\n",
    "inner_probs = pd.DataFrame(index=sm.zones.index)\n",
    "for p in purposes:\n",
    "    for car in [0,1]:\n",
    "        # Add accessibility for this segment to database\n",
    "        sm.zones['acc_'+p] = sm.zones.merge(cc.xs(car, level='car_av'),\n",
    "                                            how='left', left_index=True, right_index=True\n",
    "                                           )[p]\n",
    "        zones_db = db.Database('zones', sm.zones[\n",
    "            ['employment', 'population', 'area', 'acc_'+p]\n",
    "            + list(cats.loc[cats['category'].notna(), 'category'].unique())])\n",
    "        \n",
    "        # Simulate\n",
    "        simulate = {j: models.logit(Vs[car][p], None, int(j))\n",
    "                    for j in list(trips['choice'].unique())}\n",
    "        model = bio.BIOGEME(zones_db, simulate)\n",
    "        model.generate_html = False\n",
    "        model.generate_pickle = False\n",
    "        model.saveIterations = False\n",
    "        probs = model.simulate(theBetaValues=betas[p+car_names[car]].to_dict())\n",
    "        \n",
    "        # Calculate generation volumes\n",
    "        inner_probs[p+car_names[car]] = probs[0]\n",
    "        #print('{}_{} av. prob. inner: {}'.format(p,car,np.round(probs[0].mean(), 2)))"
   ]
  },
  {
   "cell_type": "code",
   "execution_count": 41,
   "id": "b99fa649-3584-4b10-9522-036af118c768",
   "metadata": {},
   "outputs": [
    {
     "data": {
      "text/plain": [
       "commuting_no_car      1.476935e-03\n",
       "commuting_car         8.870643e-04\n",
       "business_no_car       8.755168e-04\n",
       "business_car          8.700239e-04\n",
       "education_no_car      1.662612e-04\n",
       "education_car         8.706502e-04\n",
       "buy/execute_no_car    1.008059e-02\n",
       "buy/execute_car       8.710829e-04\n",
       "leisure_no_car        8.714255e-04\n",
       "leisure_car           8.696684e-04\n",
       "accompany_no_car      4.311141e-07\n",
       "accompany_car         8.704971e-04\n",
       "dtype: float64"
      ]
     },
     "execution_count": 41,
     "metadata": {},
     "output_type": "execute_result"
    }
   ],
   "source": [
    "inner_probs.mean()"
   ]
  },
  {
   "cell_type": "markdown",
   "id": "2dfee057",
   "metadata": {},
   "source": [
    "## Save results"
   ]
  },
  {
   "cell_type": "code",
   "execution_count": 32,
   "id": "5ec17c78",
   "metadata": {},
   "outputs": [
    {
     "name": "stderr",
     "output_type": "stream",
     "text": [
      "to_hdf(overwriting): 100%|█████████████████████████████████████████████████████████████| 33/33 [00:08<00:00,  3.80it/s]\n"
     ]
    }
   ],
   "source": [
    "inner_probs.to_csv(model_path + 'inner-zonal_probabilities.csv')"
   ]
  }
 ],
 "metadata": {
  "kernelspec": {
   "display_name": "Python 3 (ipykernel)",
   "language": "python",
   "name": "python3"
  },
  "language_info": {
   "codemirror_mode": {
    "name": "ipython",
    "version": 3
   },
   "file_extension": ".py",
   "mimetype": "text/x-python",
   "name": "python",
   "nbconvert_exporter": "python",
   "pygments_lexer": "ipython3",
   "version": "3.10.14"
  }
 },
 "nbformat": 4,
 "nbformat_minor": 5
}
