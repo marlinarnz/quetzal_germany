{
 "cells": [
  {
   "cell_type": "markdown",
   "id": "ac54c1da-df66-4f5a-acce-4a20ba555a8f",
   "metadata": {},
   "source": [
    "In this notebook, the outputs generated for each scenario separately are combined for comparison of the scenarios. <br>\n",
    "Plots are generated for visual comparison. Many different scenarios can be compared (i.e. more than 30)."
   ]
  },
  {
   "cell_type": "code",
   "execution_count": 1,
   "id": "d25289ff-8828-4b94-b1cf-dc549be172e5",
   "metadata": {},
   "outputs": [],
   "source": [
    "import os\n",
    "import numpy as np\n",
    "import pandas as pd\n",
    "import matplotlib.pyplot as plt"
   ]
  },
  {
   "cell_type": "code",
   "execution_count": 31,
   "id": "00595cea-ca69-4e7f-8d63-2c17f467d5ba",
   "metadata": {},
   "outputs": [],
   "source": [
    "output_path = '../output/'"
   ]
  },
  {
   "cell_type": "code",
   "execution_count": 3,
   "id": "a2380635-1dd8-45db-937a-369417938eb5",
   "metadata": {},
   "outputs": [],
   "source": [
    "# must be adjusted, if additional scenarios are used (compare with table in 00_launcher)\n",
    "scenarios = ['base', 'ref_35', 'policy_35', 'ass',\n",
    "             'tax_7', 'tax_8', 'tax_9', 'tax_10', 'tax_11', 'tax_12',\n",
    "             'prk_1', 'prk_2', 'prk_4', 'lim', \n",
    "             'pt_1', 'pt_2-4', 'pt_5', 'pt_6', 'pt_7', 'pt_9',\n",
    "             'inf_1', 'inf_2', 'inf_3_run-rail', 'inf_4', 'inf_5', 'inf_6',\n",
    "             'reg_1', 'reg_2', 'reg_3', 'reg_4', 'reg_5'\n",
    "            ]"
   ]
  },
  {
   "cell_type": "markdown",
   "id": "4e6c1c1a-21a9-45eb-9185-a39240476a89",
   "metadata": {},
   "source": [
    "## Compare person kilometer shares by mode type between the scenarios"
   ]
  },
  {
   "cell_type": "code",
   "execution_count": 134,
   "id": "b7a54237-6465-4bb3-bf29-a86b2b2ff350",
   "metadata": {},
   "outputs": [
    {
     "name": "stdout",
     "output_type": "stream",
     "text": [
      "    scenario   mode      bn. pkm\n",
      "0       base    air     0.000871\n",
      "1       base    bus    52.182370\n",
      "2       base    car  1013.821136\n",
      "3       base   rail    88.131702\n",
      "4       base   walk    29.497231\n",
      "..       ...    ...          ...\n",
      "179    reg_4    bus    55.844570\n",
      "180    reg_5    car  1033.767307\n",
      "181    reg_5   rail    95.471753\n",
      "182    reg_5   walk    30.779446\n",
      "183    reg_5  total  1215.863990\n",
      "\n",
      "[184 rows x 3 columns]\n"
     ]
    }
   ],
   "source": [
    "# define output excel file to be read for every scenario (every folder in 'output')\n",
    "file_name = 'results_total.xlsx'\n",
    "sheet_name = 'pkm_shares_total'\n",
    "unit = 'bn. pkm'\n",
    "modes = ['air', 'bus', 'car', 'rail', 'walk', 'total']\n",
    "\n",
    "# create a list with all paths to the files to be compared\n",
    "file_list = []\n",
    "for x in range(len(scenarios)):\n",
    "    file_list.append(os.path.join(output_path, scenarios[x], file_name))\n",
    "\n",
    "# read the data for every scenario and combine it in one list\n",
    "excl_list = []\n",
    "for x in range(len(file_list)):\n",
    "    excl_list.append(pd.read_excel(file_list[x], sheet_name=sheet_name))\n",
    "    \n",
    "# convert the list to a pandas DataFrame for better handling\n",
    "excl_merged = pd.DataFrame()\n",
    "for excl_file in excl_list:\n",
    "    excl_merged = excl_merged.append(excl_file, ignore_index=True)\n",
    "excl_merged['mode']=excl_merged['Unnamed: 0']\n",
    "excl_merged.drop(['Unnamed: 0'], axis=1, inplace=True)\n",
    "\n",
    "# add the scenario name to the data in the pandas DataFrame\n",
    "excl_merged['scenario'] = \"\"\n",
    "for x in range(len(scenarios)):\n",
    "    for y in range(len(modes)):\n",
    "        excl_merged['scenario'][y+x*6] = scenarios[x]\n",
    "        \n",
    "# define function to swap columns\n",
    "def swap_columns(df, col1, col2):\n",
    "    col_list = list(df.columns)\n",
    "    x, y = col_list.index(col1), col_list.index(col2)\n",
    "    col_list[y], col_list[x] = col_list[x], col_list[y]\n",
    "    df = df[col_list]\n",
    "    return df\n",
    "excl_merged = swap_columns(excl_merged, unit, 'scenario')\n",
    "print(excl_merged)"
   ]
  },
  {
   "cell_type": "code",
   "execution_count": 132,
   "id": "2c2e65b8-7ad6-46be-baa2-c345456b62c0",
   "metadata": {},
   "outputs": [],
   "source": [
    "# plot the data, for every mode type their own plot with values for all scenarios in it\n",
    "for mode in modes:\n",
    "    emiss_long = excl_merged.drop(excl_merged[excl_merged['mode'] != mode].index)\n",
    "    # create bar chart\n",
    "    fig = plt.figure(figsize=(10,5))\n",
    "    plt.bar(emiss_long['scenario'], emiss_long[unit], width =0.7)\n",
    "    plt.xticks(rotation=90)\n",
    "    plt.xlabel('Scenario')\n",
    "    plt.ylabel(f'{mode} {sheet_name} ({unit})')\n",
    "    plt.savefig(output_path + '/scenario_comparison/' + mode + '_' + sheet_name + '_all_scen.pdf', bbox_inches='tight')\n",
    "    plt.close(fig)"
   ]
  },
  {
   "cell_type": "markdown",
   "id": "36bff9d2-e664-412c-8295-111713832b08",
   "metadata": {},
   "source": [
    "## Compare long-distance emissions for different scenarios"
   ]
  },
  {
   "cell_type": "code",
   "execution_count": 128,
   "id": "bc999a73-645c-4bf1-80b7-453c42aba2c6",
   "metadata": {},
   "outputs": [],
   "source": [
    "# define output excel file to be read for every scenario (every folder in 'output')\n",
    "file_name = 'results_total.xlsx'\n",
    "sheet_name = 'emissions_long'\n",
    "modes = ['air', 'bus', 'coach', 'rail_long', 'rail_short', 'car_long']\n",
    "unit = 'mio tCO2eq'\n",
    "\n",
    "# create a list with all paths to the files to be compared\n",
    "file_list = []\n",
    "for x in range(len(scenarios)):\n",
    "    file_list.append(os.path.join(output_path, scenarios[x], file_name))\n",
    "\n",
    "# read the data for every scenario and combine it in one list\n",
    "excl_list = []\n",
    "for x in range(len(file_list)):\n",
    "    excl_list.append(pd.read_excel(file_list[x], sheet_name=sheet_name))\n",
    "    \n",
    "# convert the list to a pandas DataFrame for better handling\n",
    "excl_merged = pd.DataFrame()\n",
    "for excl_file in excl_list:\n",
    "    excl_merged = excl_merged.append(excl_file, ignore_index=True)\n",
    "excl_merged['mode']=excl_merged['Unnamed: 0']\n",
    "excl_merged.drop(['Unnamed: 0'], axis=1, inplace=True)\n",
    "\n",
    "# add the scenario name to the data in the pandas DataFrame\n",
    "excl_merged['scenario'] = \"\"\n",
    "for x in range(len(scenarios)):\n",
    "    for y in range(len(modes)):\n",
    "        excl_merged['scenario'][y+x*6] = scenarios[x]\n",
    "        \n",
    "# define function to swap columns\n",
    "def swap_columns(df, col1, col2):\n",
    "    col_list = list(df.columns)\n",
    "    x, y = col_list.index(col1), col_list.index(col2)\n",
    "    col_list[y], col_list[x] = col_list[x], col_list[y]\n",
    "    df = df[col_list]\n",
    "    return df\n",
    "excl_merged = swap_columns(excl_merged, unit, 'scenario')"
   ]
  },
  {
   "cell_type": "code",
   "execution_count": 130,
   "id": "fc4005c2-b874-4537-8aa8-12504b902d19",
   "metadata": {},
   "outputs": [],
   "source": [
    "# plot the data, for every mode type their own plot with values for all scenarios in it\n",
    "for mode in modes:\n",
    "    emiss_long = excl_merged.drop(excl_merged[excl_merged['mode'] != mode].index)\n",
    "    # create bar chart\n",
    "    fig = plt.figure(figsize=(10,5))\n",
    "    plt.bar(emiss_long['scenario'], emiss_long[unit], width =0.7)\n",
    "    plt.xticks(rotation=90)\n",
    "    plt.xlabel('Scenario')\n",
    "    plt.ylabel(f'{mode} {sheet_name} ({unit})')\n",
    "    plt.savefig(output_path + '/scenario_comparison/' + mode + '_' + sheet_name + '_all_scen.pdf', bbox_inches='tight')\n",
    "    plt.close(fig)"
   ]
  }
 ],
 "metadata": {
  "kernelspec": {
   "display_name": "quetzal_env",
   "language": "python",
   "name": "quetzal_env"
  },
  "language_info": {
   "codemirror_mode": {
    "name": "ipython",
    "version": 3
   },
   "file_extension": ".py",
   "mimetype": "text/x-python",
   "name": "python",
   "nbconvert_exporter": "python",
   "pygments_lexer": "ipython3",
   "version": "3.10.9"
  }
 },
 "nbformat": 4,
 "nbformat_minor": 5
}
