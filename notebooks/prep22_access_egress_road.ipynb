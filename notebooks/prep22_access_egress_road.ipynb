{
 "cells": [
  {
   "cell_type": "code",
   "execution_count": 1,
   "metadata": {},
   "outputs": [
    {
     "name": "stderr",
     "output_type": "stream",
     "text": [
      "In C:\\Users\\marlin.arnz\\AppData\\Local\\Continuum\\miniconda3\\envs\\quetzal\\lib\\site-packages\\matplotlib\\mpl-data\\stylelib\\_classic_test.mplstyle: \n",
      "The text.latex.preview rcparam was deprecated in Matplotlib 3.3 and will be removed two minor releases later.\n",
      "In C:\\Users\\marlin.arnz\\AppData\\Local\\Continuum\\miniconda3\\envs\\quetzal\\lib\\site-packages\\matplotlib\\mpl-data\\stylelib\\_classic_test.mplstyle: \n",
      "The mathtext.fallback_to_cm rcparam was deprecated in Matplotlib 3.3 and will be removed two minor releases later.\n",
      "In C:\\Users\\marlin.arnz\\AppData\\Local\\Continuum\\miniconda3\\envs\\quetzal\\lib\\site-packages\\matplotlib\\mpl-data\\stylelib\\_classic_test.mplstyle: Support for setting the 'mathtext.fallback_to_cm' rcParam is deprecated since 3.3 and will be removed two minor releases later; use 'mathtext.fallback : 'cm' instead.\n",
      "In C:\\Users\\marlin.arnz\\AppData\\Local\\Continuum\\miniconda3\\envs\\quetzal\\lib\\site-packages\\matplotlib\\mpl-data\\stylelib\\_classic_test.mplstyle: \n",
      "The validate_bool_maybe_none function was deprecated in Matplotlib 3.3 and will be removed two minor releases later.\n",
      "In C:\\Users\\marlin.arnz\\AppData\\Local\\Continuum\\miniconda3\\envs\\quetzal\\lib\\site-packages\\matplotlib\\mpl-data\\stylelib\\_classic_test.mplstyle: \n",
      "The savefig.jpeg_quality rcparam was deprecated in Matplotlib 3.3 and will be removed two minor releases later.\n",
      "In C:\\Users\\marlin.arnz\\AppData\\Local\\Continuum\\miniconda3\\envs\\quetzal\\lib\\site-packages\\matplotlib\\mpl-data\\stylelib\\_classic_test.mplstyle: \n",
      "The keymap.all_axes rcparam was deprecated in Matplotlib 3.3 and will be removed two minor releases later.\n",
      "In C:\\Users\\marlin.arnz\\AppData\\Local\\Continuum\\miniconda3\\envs\\quetzal\\lib\\site-packages\\matplotlib\\mpl-data\\stylelib\\_classic_test.mplstyle: \n",
      "The animation.avconv_path rcparam was deprecated in Matplotlib 3.3 and will be removed two minor releases later.\n",
      "In C:\\Users\\marlin.arnz\\AppData\\Local\\Continuum\\miniconda3\\envs\\quetzal\\lib\\site-packages\\matplotlib\\mpl-data\\stylelib\\_classic_test.mplstyle: \n",
      "The animation.avconv_args rcparam was deprecated in Matplotlib 3.3 and will be removed two minor releases later.\n"
     ]
    }
   ],
   "source": [
    "import sys # for automation and parallelisation\n",
    "manual, scenario = (True, 'base') if 'ipykernel' in sys.argv[0] else (False, sys.argv[1])\n",
    "if manual:\n",
    "    %matplotlib inline"
   ]
  },
  {
   "cell_type": "code",
   "execution_count": 2,
   "metadata": {},
   "outputs": [],
   "source": [
    "import numpy as np\n",
    "import pandas as pd\n",
    "import geopandas as gpd\n",
    "from shapely import geometry\n",
    "from quetzal.model import stepmodel\n",
    "from quetzal.engine import engine, connectivity\n",
    "from quetzal.io import excel"
   ]
  },
  {
   "cell_type": "markdown",
   "metadata": {},
   "source": [
    "# Preparation of the transport network.\n",
    "## Saves access and egress links for road network\n",
    "## Needs all networks.\n"
   ]
  },
  {
   "cell_type": "code",
   "execution_count": 3,
   "metadata": {},
   "outputs": [],
   "source": [
    "input_path = '../input_static/'\n",
    "output_path = '../output/'\n",
    "model_path = '../model/'"
   ]
  },
  {
   "cell_type": "code",
   "execution_count": 4,
   "metadata": {},
   "outputs": [],
   "source": [
    "# Load scenario parameters\n",
    "params = excel.read_var(file='../input/parameters.xls', scenario=scenario)"
   ]
  },
  {
   "cell_type": "code",
   "execution_count": 5,
   "metadata": {
    "scrolled": true
   },
   "outputs": [],
   "source": [
    "sm = stepmodel.read_json(model_path + 'de_pt_network_agg')\n",
    "road = stepmodel.read_json(input_path + 'de_road_network')"
   ]
  },
  {
   "cell_type": "code",
   "execution_count": 6,
   "metadata": {},
   "outputs": [
    {
     "data": {
      "text/plain": [
       "401"
      ]
     },
     "execution_count": 6,
     "metadata": {},
     "output_type": "execute_result"
    }
   ],
   "source": [
    "len(sm.zones)"
   ]
  },
  {
   "cell_type": "markdown",
   "metadata": {},
   "source": [
    "## Add access and egress links from zone centroids"
   ]
  },
  {
   "cell_type": "code",
   "execution_count": 7,
   "metadata": {},
   "outputs": [],
   "source": [
    "# Compute controids\n",
    "sm.centroids = sm.zones.copy()\n",
    "sm.centroids['geometry'] = sm.centroids['geometry'].apply(lambda g: g.centroid)"
   ]
  },
  {
   "cell_type": "code",
   "execution_count": 15,
   "metadata": {},
   "outputs": [
    {
     "data": {
      "text/plain": [
       "(802, 11)"
      ]
     },
     "execution_count": 15,
     "metadata": {},
     "output_type": "execute_result"
    }
   ],
   "source": [
    "# Compute road access and egress links\n",
    "sm.zone_to_road = engine.ntlegs_from_centroids_and_nodes(\n",
    "    sm.centroids,\n",
    "    road.road_nodes,\n",
    "    short_leg_speed=params['pt_access']['speed_walk'],\n",
    "    long_leg_speed=params['pt_access']['speed_bicycle'],\n",
    "    threshold=params['pt_access']['catchment_radius_walk'],\n",
    "    n_neighbors=params['access-egress_links']['n_road'],\n",
    "    coordinates_unit=sm.coordinates_unit)\n",
    "sm.zone_to_road = sm.zone_to_road.loc[\n",
    "    sm.zone_to_road['distance']<=params['access-egress_links']['road_max_dist']]\n",
    "sm.zone_to_road.shape"
   ]
  },
  {
   "cell_type": "code",
   "execution_count": 21,
   "metadata": {},
   "outputs": [
    {
     "data": {
      "text/plain": [
       "6476"
      ]
     },
     "execution_count": 21,
     "metadata": {},
     "output_type": "execute_result"
    }
   ],
   "source": [
    "# Compute road - PT links\n",
    "# Don't connect to bus stations\n",
    "sm.road_to_transit = engine.ntlegs_from_centroids_and_nodes(\n",
    "    sm.nodes.loc[sm.nodes['route_type']!='bus'],\n",
    "    road.road_nodes,\n",
    "    short_leg_speed=params['pt_access']['speed_walk'],\n",
    "    long_leg_speed=params['pt_access']['speed_bicycle'],\n",
    "    threshold=params['pt_access']['catchment_radius_walk'],\n",
    "    n_neighbors=params['access-egress_links']['n_road_pt'],\n",
    "    coordinates_unit=sm.coordinates_unit)\n",
    "sm.road_to_transit = sm.road_to_transit.loc[\n",
    "    sm.road_to_transit['distance']<=params['access-egress_links']['road_pt_max_dist']]\n",
    "len(sm.road_to_transit.index)"
   ]
  },
  {
   "cell_type": "markdown",
   "metadata": {},
   "source": [
    "### Parametrise access and egress links"
   ]
  },
  {
   "cell_type": "code",
   "execution_count": 22,
   "metadata": {},
   "outputs": [
    {
     "data": {
      "text/html": [
       "<div>\n",
       "<style scoped>\n",
       "    .dataframe tbody tr th:only-of-type {\n",
       "        vertical-align: middle;\n",
       "    }\n",
       "\n",
       "    .dataframe tbody tr th {\n",
       "        vertical-align: top;\n",
       "    }\n",
       "\n",
       "    .dataframe thead th {\n",
       "        text-align: right;\n",
       "    }\n",
       "</style>\n",
       "<table border=\"1\" class=\"dataframe\">\n",
       "  <thead>\n",
       "    <tr style=\"text-align: right;\">\n",
       "      <th></th>\n",
       "      <th>a</th>\n",
       "      <th>b</th>\n",
       "      <th>direction</th>\n",
       "      <th>distance</th>\n",
       "      <th>geometry</th>\n",
       "      <th>rank</th>\n",
       "      <th>speed_factor</th>\n",
       "      <th>short_leg_speed</th>\n",
       "      <th>long_leg_speed</th>\n",
       "      <th>speed</th>\n",
       "      <th>time</th>\n",
       "    </tr>\n",
       "  </thead>\n",
       "  <tbody>\n",
       "    <tr>\n",
       "      <th>5271</th>\n",
       "      <td>rl_DEB35_0</td>\n",
       "      <td>27362810</td>\n",
       "      <td>access</td>\n",
       "      <td>0</td>\n",
       "      <td>LINESTRING (8.25872 50.001118, 8.2581635 50.00...</td>\n",
       "      <td>0</td>\n",
       "      <td>0.356859</td>\n",
       "      <td>5</td>\n",
       "      <td>17</td>\n",
       "      <td>5.000000</td>\n",
       "      <td>300</td>\n",
       "    </tr>\n",
       "    <tr>\n",
       "      <th>3090</th>\n",
       "      <td>rs_DE71A_10</td>\n",
       "      <td>310103847</td>\n",
       "      <td>access</td>\n",
       "      <td>0</td>\n",
       "      <td>LINESTRING (8.52797 50.154354, 8.5250508000000...</td>\n",
       "      <td>0</td>\n",
       "      <td>1.106842</td>\n",
       "      <td>5</td>\n",
       "      <td>17</td>\n",
       "      <td>5.534212</td>\n",
       "      <td>300</td>\n",
       "    </tr>\n",
       "  </tbody>\n",
       "</table>\n",
       "</div>"
      ],
      "text/plain": [
       "                a          b direction  distance  \\\n",
       "5271   rl_DEB35_0   27362810    access         0   \n",
       "3090  rs_DE71A_10  310103847    access         0   \n",
       "\n",
       "                                               geometry  rank  speed_factor  \\\n",
       "5271  LINESTRING (8.25872 50.001118, 8.2581635 50.00...     0      0.356859   \n",
       "3090  LINESTRING (8.52797 50.154354, 8.5250508000000...     0      1.106842   \n",
       "\n",
       "      short_leg_speed  long_leg_speed     speed  time  \n",
       "5271                5              17  5.000000   300  \n",
       "3090                5              17  5.534212   300  "
      ]
     },
     "execution_count": 22,
     "metadata": {},
     "output_type": "execute_result"
    }
   ],
   "source": [
    "# Road - PT connectors\n",
    "sm.road_to_transit['distance'] = 0\n",
    "sm.road_to_transit['time'] = params['access-egress_links']['time_road_pt']\n",
    "sm.road_to_transit.sample(n=2)"
   ]
  },
  {
   "cell_type": "code",
   "execution_count": 17,
   "metadata": {},
   "outputs": [
    {
     "data": {
      "text/html": [
       "<div>\n",
       "<style scoped>\n",
       "    .dataframe tbody tr th:only-of-type {\n",
       "        vertical-align: middle;\n",
       "    }\n",
       "\n",
       "    .dataframe tbody tr th {\n",
       "        vertical-align: top;\n",
       "    }\n",
       "\n",
       "    .dataframe thead th {\n",
       "        text-align: right;\n",
       "    }\n",
       "</style>\n",
       "<table border=\"1\" class=\"dataframe\">\n",
       "  <thead>\n",
       "    <tr style=\"text-align: right;\">\n",
       "      <th></th>\n",
       "      <th>a</th>\n",
       "      <th>b</th>\n",
       "      <th>direction</th>\n",
       "      <th>distance</th>\n",
       "      <th>geometry</th>\n",
       "      <th>rank</th>\n",
       "      <th>speed_factor</th>\n",
       "      <th>short_leg_speed</th>\n",
       "      <th>long_leg_speed</th>\n",
       "      <th>speed</th>\n",
       "      <th>time</th>\n",
       "    </tr>\n",
       "  </thead>\n",
       "  <tbody>\n",
       "    <tr>\n",
       "      <th>453</th>\n",
       "      <td>56468978</td>\n",
       "      <td>DE911</td>\n",
       "      <td>eggress</td>\n",
       "      <td>0</td>\n",
       "      <td>LINESTRING (10.52415401984163 52.2753387029239...</td>\n",
       "      <td>0</td>\n",
       "      <td>0.196684</td>\n",
       "      <td>5</td>\n",
       "      <td>17</td>\n",
       "      <td>5.000000</td>\n",
       "      <td>300</td>\n",
       "    </tr>\n",
       "    <tr>\n",
       "      <th>685</th>\n",
       "      <td>4105128635</td>\n",
       "      <td>DE11D</td>\n",
       "      <td>eggress</td>\n",
       "      <td>0</td>\n",
       "      <td>LINESTRING (10.09001824878193 48.8775013421501...</td>\n",
       "      <td>0</td>\n",
       "      <td>1.066914</td>\n",
       "      <td>5</td>\n",
       "      <td>17</td>\n",
       "      <td>5.334571</td>\n",
       "      <td>300</td>\n",
       "    </tr>\n",
       "  </tbody>\n",
       "</table>\n",
       "</div>"
      ],
      "text/plain": [
       "              a      b direction  distance  \\\n",
       "453    56468978  DE911   eggress         0   \n",
       "685  4105128635  DE11D   eggress         0   \n",
       "\n",
       "                                              geometry  rank  speed_factor  \\\n",
       "453  LINESTRING (10.52415401984163 52.2753387029239...     0      0.196684   \n",
       "685  LINESTRING (10.09001824878193 48.8775013421501...     0      1.066914   \n",
       "\n",
       "     short_leg_speed  long_leg_speed     speed  time  \n",
       "453                5              17  5.000000   300  \n",
       "685                5              17  5.334571   300  "
      ]
     },
     "execution_count": 17,
     "metadata": {},
     "output_type": "execute_result"
    }
   ],
   "source": [
    "# Road - centroid connectors\n",
    "sm.zone_to_road['distance'] = 0\n",
    "sm.zone_to_road['time'] = params['access-egress_links']['time_road']\n",
    "sm.zone_to_road.sample(n=2)"
   ]
  },
  {
   "cell_type": "markdown",
   "metadata": {},
   "source": [
    "## Save model"
   ]
  },
  {
   "cell_type": "code",
   "execution_count": 23,
   "metadata": {},
   "outputs": [],
   "source": [
    "# Drop unneccessary columns\n",
    "cols = ['speed_factor', 'short_leg_speed', 'long_leg_speed', 'rank']\n",
    "sm.zone_to_road.drop(cols, axis=1, inplace=True, errors='ignore')\n",
    "sm.road_to_transit.drop(cols, axis=1, inplace=True, errors='ignore')"
   ]
  },
  {
   "cell_type": "code",
   "execution_count": 24,
   "metadata": {},
   "outputs": [],
   "source": [
    "# Make tables lighter\n",
    "cols = ['distance', 'speed', 'time']\n",
    "sm.zone_to_road[cols] = sm.zone_to_road[cols].astype(int)\n",
    "sm.road_to_transit[cols] = sm.road_to_transit[cols].astype(int)"
   ]
  },
  {
   "cell_type": "code",
   "execution_count": 26,
   "metadata": {
    "scrolled": true
   },
   "outputs": [
    {
     "name": "stderr",
     "output_type": "stream",
     "text": [
      "to_hdf(overwriting): 100%|█████████████████████████████████████████████████████████████| 34/34 [00:01<00:00, 23.85it/s]\n"
     ]
    }
   ],
   "source": [
    "sm.to_json(model_path + 'de_road_access_egress',\n",
    "           only_attributes=['centroids', 'zone_to_road', 'road_to_transit'],\n",
    "           encoding='utf-8')"
   ]
  }
 ],
 "metadata": {
  "kernelspec": {
   "display_name": "Python 3",
   "language": "python",
   "name": "python3"
  },
  "language_info": {
   "codemirror_mode": {
    "name": "ipython",
    "version": 3
   },
   "file_extension": ".py",
   "mimetype": "text/x-python",
   "name": "python",
   "nbconvert_exporter": "python",
   "pygments_lexer": "ipython3",
   "version": "3.8.1"
  }
 },
 "nbformat": 4,
 "nbformat_minor": 2
}
