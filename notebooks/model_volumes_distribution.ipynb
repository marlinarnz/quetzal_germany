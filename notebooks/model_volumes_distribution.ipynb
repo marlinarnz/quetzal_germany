{
 "cells": [
  {
   "cell_type": "code",
   "execution_count": 1,
   "id": "b0aa3e39",
   "metadata": {},
   "outputs": [],
   "source": [
    "import sys # for automation and parallelisation\n",
    "manual, scenario = (True, 'base') if 'ipykernel' in sys.argv[0] else (False, sys.argv[1])"
   ]
  },
  {
   "cell_type": "code",
   "execution_count": 2,
   "id": "f8387063",
   "metadata": {},
   "outputs": [],
   "source": [
    "import json\n",
    "import pandas as pd\n",
    "import numpy as np\n",
    "from quetzal.model import stepmodel\n",
    "from quetzal.engine.engine import od_volume_from_zones\n",
    "from syspy.skims import skims\n",
    "from quetzal.io import excel"
   ]
  },
  {
   "cell_type": "code",
   "execution_count": 3,
   "id": "1254663e",
   "metadata": {},
   "outputs": [],
   "source": [
    "model_path = '../model/' + scenario + '/'\n",
    "input_path = '../input/'\n",
    "input_static_path = '../input_static/'\n",
    "output_path = '../output/'"
   ]
  },
  {
   "cell_type": "code",
   "execution_count": 4,
   "id": "49222b5a",
   "metadata": {},
   "outputs": [],
   "source": [
    "# Load scenario parameters\n",
    "params = excel.read_var(file='../input/parameters.xls', scenario=scenario)"
   ]
  },
  {
   "cell_type": "markdown",
   "id": "a65fa6c3",
   "metadata": {
    "tags": []
   },
   "source": [
    "# OD matrix generation\n",
    "\n",
    "## Needs zone attributes and generation / destination choice / distribution model results\n",
    "\n",
    "## Saves volumes table"
   ]
  },
  {
   "cell_type": "code",
   "execution_count": 5,
   "id": "5e5f86b4",
   "metadata": {},
   "outputs": [],
   "source": [
    "# Transport demand segments\n",
    "segments = [s.strip() for s in params['general']['demand_segments'].split(';')]\n",
    "purposes_compulsory = ['commuting', 'business', 'education']\n",
    "purposes_optional = ['buy/execute', 'leisure', 'accompany']\n",
    "segments_compulsory = [s for s in segments if s.split('_')[0] in purposes_compulsory]\n",
    "segments_optional = [s for s in segments if s.split('_')[0] in purposes_optional]"
   ]
  },
  {
   "cell_type": "code",
   "execution_count": 6,
   "id": "d2dc37e3-5a04-420b-876a-588eea007ed6",
   "metadata": {},
   "outputs": [],
   "source": [
    "# Load zones\n",
    "sm = stepmodel.read_json(model_path + 'de_zones')\n",
    "sm.zones.sort_index(inplace=True)"
   ]
  },
  {
   "cell_type": "code",
   "execution_count": 7,
   "id": "55a8b11d-8463-4b9d-adec-a8352da51972",
   "metadata": {},
   "outputs": [],
   "source": [
    "# Fill POI values\n",
    "pois = pd.read_csv(input_path + 'spatial_num_pois_raw.csv', index_col='index')\n",
    "cats = pd.read_excel(input_path + 'spatial_OSM_POI_list.xlsx', sheet_name='categories')\n",
    "cats['label'] = (cats['key'] + ' ' + cats['value'].fillna('')).str.strip()\n",
    "for category, columns in cats.loc[cats['category'].notna()\n",
    "                                 ].groupby('category').agg(\n",
    "                                {'label': list})['label'].items():\n",
    "    sm.zones[category] = sm.zones['FID'].map(pois[columns].sum(axis=1)).fillna(0) \\\n",
    "                         * sm.zones['urbanisation'].map(params['poi_change']).astype(float)"
   ]
  },
  {
   "cell_type": "code",
   "execution_count": 8,
   "id": "f11f9523",
   "metadata": {},
   "outputs": [
    {
     "name": "stderr",
     "output_type": "stream",
     "text": [
      "C:\\Users\\m.arnz\\AppData\\Local\\Temp\\ipykernel_5884\\2871827032.py:2: ParserWarning: Falling back to the 'python' engine because the 'c' engine does not support skipfooter; you can avoid this warning by specifying engine='python'.\n",
      "  age_groups = pd.read_csv(input_static_path + 'spatial_Zensus_ages_2017_GENESIS.csv',\n"
     ]
    }
   ],
   "source": [
    "# Load data for education\n",
    "age_groups = pd.read_csv(input_static_path + 'spatial_Zensus_ages_2017_GENESIS.csv',\n",
    "                         encoding='latin-1', sep=';', skiprows=5, skipfooter=4, na_values='-').dropna()\n",
    "age_groups.rename(columns={'Unnamed: 1': 'lau_id'}, inplace=True)\n",
    "age_groups.loc[age_groups['lau_id']==16056, 'lau_id'] = 16063 # Update Eisenach\n",
    "age_groups = age_groups.groupby('lau_id').sum()\n",
    "sm.zones['lau_id'] = (sm.zones['FID'].astype(str).str[:-4]).astype(int)\n",
    "sm.zones['is_urban'] = (sm.zones['urbanisation']==1) & (sm.zones['population']>100000)"
   ]
  },
  {
   "cell_type": "code",
   "execution_count": 9,
   "id": "21059c5c",
   "metadata": {},
   "outputs": [],
   "source": [
    "# Load inter-zonal composite cost from mode choice step\n",
    "try:\n",
    "    cc = pd.read_csv(output_path + scenario + '/mode_choice_od_composite_cost.csv')\n",
    "except FileNotFoundError:\n",
    "    cc = pd.read_csv(output_path + 'base' + '/mode_choice_od_composite_cost.csv')\n",
    "cc.set_index(['origin', 'destination'], inplace=True)\n",
    "cc.sort_index(inplace=True)\n",
    "cc.clip(lower=0.01, inplace=True)"
   ]
  },
  {
   "cell_type": "code",
   "execution_count": 10,
   "id": "54688e91-9a0e-438a-ac86-b45be1f19116",
   "metadata": {},
   "outputs": [],
   "source": [
    "# inner-zonal cc\n",
    "inner_cc = pd.read_csv(input_path + 'inner-zonal_cc.csv', index_col=0)\n",
    "inner_cc.index.name = 'origin'\n",
    "inner_cc.columns.name = 'segment'"
   ]
  },
  {
   "cell_type": "code",
   "execution_count": 11,
   "id": "963a77a8-37c8-4dfb-8443-0f4f11ecc85b",
   "metadata": {},
   "outputs": [],
   "source": [
    "# Compute distances\n",
    "distance = skims.euclidean(sm.zones, coordinates_unit=sm.coordinates_unit, intrazonal=False)\n",
    "dist_matrix = (distance.set_index(['origin', 'destination'])['euclidean_distance'].unstack('destination') / 1000).fillna(1e3)"
   ]
  },
  {
   "cell_type": "code",
   "execution_count": 12,
   "id": "21ce31de-8ebe-494b-8961-dbf575997337",
   "metadata": {},
   "outputs": [],
   "source": [
    "inner_dists = {\n",
    "    'accompany_car':         5.657834,\n",
    "    'accompany_no_car':      6.435424,\n",
    "    'business_car':          7.322597,\n",
    "    'business_no_car':       7.872050,\n",
    "    'buy/execute_car':       5.389849,\n",
    "    'buy/execute_no_car':    6.193252,\n",
    "    'commuting_car':         8.194012,\n",
    "    'commuting_no_car':      8.247224,\n",
    "    'education_car':         6.131394,\n",
    "    'education_no_car':      6.441189,\n",
    "    'leisure_car':           6.212798,\n",
    "    'leisure_no_car':        6.814558\n",
    "}"
   ]
  },
  {
   "cell_type": "code",
   "execution_count": 13,
   "id": "a8c47bf1-03b5-4b34-9185-582d0d909f69",
   "metadata": {},
   "outputs": [],
   "source": [
    "# Define mathematical formulations for the cost term\n",
    "def power_function(CC_D, a, b, c):\n",
    "    cc, dist = CC_D\n",
    "    return a * np.power(cc*c + dist*(1-c), -b)\n",
    "def exponential_function(CC_D, a, b, c):\n",
    "    cc, dist = CC_D\n",
    "    return a * np.exp(-b * (cc*c + dist*(1-c)))\n",
    "def lognormal_function(CC_D, a, b, c):\n",
    "    cc, dist = CC_D\n",
    "    return a * np.exp(-b * np.power(np.log(cc*c + dist*(1-c) + 1), 2))"
   ]
  },
  {
   "cell_type": "code",
   "execution_count": 65,
   "id": "de283a63-1240-4d15-a584-26296505a7e4",
   "metadata": {},
   "outputs": [],
   "source": [
    "# Load estimated function parameters\n",
    "abc = pd.read_csv(input_path + 'estimation_results_distribution.csv', index_col=[0,1])"
   ]
  },
  {
   "cell_type": "code",
   "execution_count": 66,
   "id": "1f3df61d",
   "metadata": {},
   "outputs": [],
   "source": [
    "# Compute volumes from emission and attraction for a given segment\n",
    "def compute_volumes(segment, emission, attraction, f=lognormal_function):\n",
    "    sm.zones['emission'] = emission\n",
    "    sm.zones['attraction'] = attraction\n",
    "    # Create deterrence matrix from CC\n",
    "    zone_set = sorted(list(set(sm.zones['FID']).intersection(set(cc.index.get_level_values(0))\n",
    "                           ).intersection(set(cc.index.get_level_values(1))\n",
    "                           ).intersection(set(dist_matrix.index)\n",
    "                           ).intersection(set(dist_matrix.columns))))\n",
    "    cc_matrix = cc[segment].unstack('destination').loc[zone_set, zone_set]\n",
    "    cc_matrix.fillna(cc_matrix.max().max() * 1.5, inplace=True)\n",
    "    # Add inner-zonal resistance\n",
    "    for z in zone_set:\n",
    "        inner_val = 0 if not z in inner_cc.index else inner_cc.loc[z, segment] \n",
    "        cc_matrix.loc[z,z] = inner_val if inner_val > 0 else inner_cc[segment].mean()\n",
    "        dist_matrix.loc[z,z] = inner_dists[segment]\n",
    "    # convert CC to deterrence\n",
    "    deterr = f((cc_matrix, dist_matrix.loc[zone_set, zone_set]),\n",
    "               abc.loc[(segment, f.__name__), 'a'],\n",
    "               abc.loc[(segment, f.__name__), 'b'],\n",
    "               abc.loc[(segment, f.__name__), 'c'])\n",
    "    # Run doubly constrained distribution\n",
    "    vol = od_volume_from_zones(sm.zones.loc[sm.zones['FID'].isin(zone_set)], deterr)\n",
    "    return vol.fillna(0).clip(lower=0).set_index(['origin', 'destination'])"
   ]
  },
  {
   "cell_type": "code",
   "execution_count": 67,
   "id": "9daf2c22-1ac8-4580-815e-6fa85c0a18b3",
   "metadata": {},
   "outputs": [],
   "source": [
    "volumes = pd.DataFrame()"
   ]
  },
  {
   "cell_type": "markdown",
   "id": "858b7f54",
   "metadata": {},
   "source": [
    "## Compulsory trips\n",
    "\n",
    "Choose the doubly constrained gravity model as distribution method because logit models don't perform well for purposes commuting, business and education."
   ]
  },
  {
   "cell_type": "code",
   "execution_count": 68,
   "id": "05a14356",
   "metadata": {},
   "outputs": [],
   "source": [
    "# Volumes for commuting\n",
    "days = params['generation']['days_at_work_with_car']\n",
    "volumes['commuting_car'] = compute_volumes(\n",
    "    'commuting_car',\n",
    "    sm.zones['employed'] * sm.zones['car_avail_hh'] * days * 2,\n",
    "    sm.zones['employment'] * sm.zones['car_avail_hh'] * days * 2)\n",
    "days = params['generation']['days_at_work_without_car']\n",
    "volumes['commuting_no_car'] = compute_volumes(\n",
    "    'commuting_no_car',\n",
    "    sm.zones['employed'] * (1 - sm.zones['car_avail_hh']) * days * 2,\n",
    "    sm.zones['employment'] * (1 - sm.zones['car_avail_hh']) * days * 2, exponential_function)"
   ]
  },
  {
   "cell_type": "code",
   "execution_count": 69,
   "id": "ba42a7d1",
   "metadata": {},
   "outputs": [],
   "source": [
    "# Volumes for business\n",
    "# Average business trips per day from employed persons\n",
    "days = params['generation']['days_at_work_with_car']\n",
    "factor = params['generation']['business_trip_factor_with_car']\n",
    "volumes['business_car'] = compute_volumes(\n",
    "    'business_car',\n",
    "    sm.zones['employed'] * sm.zones['car_avail_hh'] * days * 2 * factor,\n",
    "    sm.zones['employment'] * sm.zones['car_avail_hh'] * days * 2 * factor)\n",
    "factor = params['generation']['business_trip_factor_without_car']\n",
    "volumes['business_no_car'] = compute_volumes(\n",
    "    'business_no_car',\n",
    "    sm.zones['employed'] * (1 - sm.zones['car_avail_hh']) * days * 2 * factor,\n",
    "    sm.zones['population'] * (1 - sm.zones['car_avail_hh']) * days * 2 * factor)"
   ]
  },
  {
   "cell_type": "code",
   "execution_count": 70,
   "id": "9f37179b",
   "metadata": {},
   "outputs": [],
   "source": [
    "# Volumes for education\n",
    "# Emissions are people in education (school, apprenticeship, higher education)\n",
    "# Attractions are corresponding institutions\n",
    "emission = \\\n",
    "    {'higher_education':\n",
    "        sm.zones['lau_id'].map(\n",
    "            age_groups['18 bis unter 20 Jahre']\n",
    "            + age_groups['20 bis unter 25 Jahre']\n",
    "        ) * sm.zones['pop_share']\n",
    "        * sm.zones['is_urban'].map(lambda urban: params['generation']['students_per_18-25yo_urban']\n",
    "                                   if urban else params['generation']['students_per_18-25yo_non-urban']),\n",
    "    'school':\n",
    "        sm.zones['lau_id'].map(\n",
    "            age_groups['6 bis unter 10 Jahre']\n",
    "            + age_groups['10 bis unter 15 Jahre']\n",
    "            + age_groups['15 bis unter 18 Jahre']\n",
    "        ) * sm.zones['pop_share']\n",
    "        * sm.zones['is_urban'].map(lambda urban: params['generation']['pupils_per_6-18yo_urban']\n",
    "                                   if urban else params['generation']['pupils_per_6-18yo_non-urban']),\n",
    "    'employment':\n",
    "        sm.zones['lau_id'].map(\n",
    "            age_groups['18 bis unter 20 Jahre']\n",
    "        ) * sm.zones['pop_share']\n",
    "        * sm.zones['is_urban'].map(lambda urban: params['generation']['apprentices_per_18-20yo_urban']\n",
    "                                   if urban else params['generation']['apprentices_per_18-20yo_non-urban'])\n",
    "   }\n",
    "\n",
    "vol_df = pd.DataFrame(index=volumes.index)\n",
    "institutions = ['higher_education', 'school', 'employment']\n",
    "for institution in institutions:\n",
    "    days = params['generation']['edu_days_in_'+institution]\n",
    "    no_car_share = params['generation']['edu_share_without_car']\n",
    "    # With car available\n",
    "    vol_df[institution+'_car'] = compute_volumes(\n",
    "        'education_car',\n",
    "        emission[institution] * sm.zones['car_avail_hh'] * days * 2,\n",
    "        sm.zones[institution] * sm.zones['car_avail_hh'] * days * 2)\n",
    "    # Without car available\n",
    "    vol_df[institution+'_no_car'] = compute_volumes(\n",
    "        'education_no_car',\n",
    "        emission[institution] * (1 - sm.zones['car_avail_hh']) * days * 2 * no_car_share,\n",
    "        sm.zones[institution] * (1 - sm.zones['car_avail_hh']) * days * 2 * no_car_share)\n",
    "    \n",
    "# Sum up all these education groups\n",
    "volumes['education_car'] = vol_df[[i+'_car' for i in institutions]].sum(axis=1)\n",
    "volumes['education_no_car'] = vol_df[[i+'_no_car' for i in institutions]].sum(axis=1)"
   ]
  },
  {
   "cell_type": "markdown",
   "id": "c524676c-c7b2-4aaf-ac19-7b5f2e9d7437",
   "metadata": {},
   "source": [
    "## Volumes for non-compulsory trips\n",
    "\n",
    "Optional. Recommended to use choice model instead."
   ]
  },
  {
   "cell_type": "code",
   "execution_count": 20,
   "id": "9f4ab7c7-6910-427c-9e62-a69bd4791473",
   "metadata": {},
   "outputs": [],
   "source": [
    "# Load trip generation\n",
    "#try:\n",
    "#    generation = pd.read_csv(model_path + 'generation_volumes.csv', index_col=0)\n",
    "#except FileNotFoundError:\n",
    "#    generation = pd.read_csv(model_path.replace(scenario, 'base') + 'generation_volumes.csv', index_col=0)"
   ]
  },
  {
   "cell_type": "code",
   "execution_count": 21,
   "id": "0449f0b7-2f0e-4e16-b32e-17ae570ac80a",
   "metadata": {},
   "outputs": [],
   "source": [
    "# Calculate number of trips\n",
    "#for s in segments_optional:\n",
    "#    volumes[s] = compute_volumes(s, sm.zones['FID'].map(generation[s]), sm.zones['population'])"
   ]
  },
  {
   "cell_type": "markdown",
   "id": "3443ace3-01d2-4ee6-8e1e-d7f013b86f8d",
   "metadata": {},
   "source": [
    "## Inner-inter-zonal shares\n",
    "\n",
    "If not already computed within the distribution"
   ]
  },
  {
   "cell_type": "code",
   "execution_count": 22,
   "id": "a661097f-d55b-43c0-922d-649c43d8b17f",
   "metadata": {},
   "outputs": [],
   "source": [
    "# Take inner-zonal probabilities from MiD2017 data by urbanisation degree\n",
    "inner_probs = pd.read_csv(input_path + 'inner-zonal_probabilities_agg_urban.csv', index_col=0)"
   ]
  },
  {
   "cell_type": "code",
   "execution_count": 23,
   "id": "43157bf3-2b6c-4494-903e-2d2f11e9a6fc",
   "metadata": {},
   "outputs": [],
   "source": [
    "# Compute inner-zonal volumes\n",
    "seg_cols = [col for col in volumes.columns if col in segments]\n",
    "in_mask = volumes.index.get_level_values('origin')==volumes.index.get_level_values('destination')\n",
    "urban_dict = sm.zones['urbanisation'].to_dict()\n",
    "if len(volumes.loc[in_mask]) == 0:\n",
    "    sums = volumes.groupby(level='origin').sum()\n",
    "    inner_probs_zones = pd.Series(sums.index, index=sums.index).apply(\n",
    "        lambda z: inner_probs.loc[urban_dict[z], seg_cols])\n",
    "    inner = sums * inner_probs_zones\n",
    "    inner.index = pd.MultiIndex.from_tuples([(z,z) for z in inner.index], names=['origin', 'destination'])\n",
    "    volumes = pd.concat([inner, volumes * (1 - inner_probs_zones)]).sort_index()"
   ]
  },
  {
   "cell_type": "code",
   "execution_count": 24,
   "id": "6fd4c0c2",
   "metadata": {},
   "outputs": [
    {
     "data": {
      "text/html": [
       "<div>\n",
       "<style scoped>\n",
       "    .dataframe tbody tr th:only-of-type {\n",
       "        vertical-align: middle;\n",
       "    }\n",
       "\n",
       "    .dataframe tbody tr th {\n",
       "        vertical-align: top;\n",
       "    }\n",
       "\n",
       "    .dataframe thead th {\n",
       "        text-align: right;\n",
       "    }\n",
       "</style>\n",
       "<table border=\"1\" class=\"dataframe\">\n",
       "  <thead>\n",
       "    <tr style=\"text-align: right;\">\n",
       "      <th></th>\n",
       "      <th></th>\n",
       "      <th>commuting_car</th>\n",
       "      <th>commuting_no_car</th>\n",
       "      <th>business_car</th>\n",
       "      <th>business_no_car</th>\n",
       "      <th>education_car</th>\n",
       "      <th>education_no_car</th>\n",
       "    </tr>\n",
       "    <tr>\n",
       "      <th>origin</th>\n",
       "      <th>destination</th>\n",
       "      <th></th>\n",
       "      <th></th>\n",
       "      <th></th>\n",
       "      <th></th>\n",
       "      <th></th>\n",
       "      <th></th>\n",
       "    </tr>\n",
       "  </thead>\n",
       "  <tbody>\n",
       "    <tr>\n",
       "      <th>59780004</th>\n",
       "      <th>95715501</th>\n",
       "      <td>6.276234e-24</td>\n",
       "      <td>3.367828e-35</td>\n",
       "      <td>7.900459e-07</td>\n",
       "      <td>0.00001</td>\n",
       "      <td>2.608682e-10</td>\n",
       "      <td>1.029182e-13</td>\n",
       "    </tr>\n",
       "  </tbody>\n",
       "</table>\n",
       "</div>"
      ],
      "text/plain": [
       "                      commuting_car  commuting_no_car  business_car  \\\n",
       "origin   destination                                                  \n",
       "59780004 95715501      6.276234e-24      3.367828e-35  7.900459e-07   \n",
       "\n",
       "                      business_no_car  education_car  education_no_car  \n",
       "origin   destination                                                    \n",
       "59780004 95715501             0.00001   2.608682e-10      1.029182e-13  "
      ]
     },
     "execution_count": 24,
     "metadata": {},
     "output_type": "execute_result"
    }
   ],
   "source": [
    "volumes.sample()"
   ]
  },
  {
   "cell_type": "code",
   "execution_count": 25,
   "id": "04708343-386d-4e7e-a0a7-f73c47a23376",
   "metadata": {},
   "outputs": [
    {
     "data": {
      "text/plain": [
       "21160000"
      ]
     },
     "execution_count": 25,
     "metadata": {},
     "output_type": "execute_result"
    }
   ],
   "source": [
    "# Drop rows with NaN\n",
    "volumes = volumes.loc[~volumes.isna().any(axis=1)]\n",
    "len(volumes)"
   ]
  },
  {
   "cell_type": "code",
   "execution_count": 26,
   "id": "f9d7c924",
   "metadata": {},
   "outputs": [
    {
     "name": "stdout",
     "output_type": "stream",
     "text": [
      "Million trips per day: 80.22899460603382\n"
     ]
    }
   ],
   "source": [
    "print('Million trips per day: {}'.format(volumes[seg_cols].sum().sum() / 1e6 / 365))"
   ]
  },
  {
   "cell_type": "markdown",
   "id": "945d2a4f-3c67-446e-a0da-58265405544f",
   "metadata": {},
   "source": [
    "## Sparsify"
   ]
  },
  {
   "cell_type": "code",
   "execution_count": 67,
   "id": "d37483da-438b-4261-b4fb-def965cf902b",
   "metadata": {},
   "outputs": [
    {
     "name": "stdout",
     "output_type": "stream",
     "text": [
      "Found OD set with 263004 pairs\n",
      "Million trips per day after sparsification: 49.27574571325191\n"
     ]
    }
   ],
   "source": [
    "# Load OD set\n",
    "try:\n",
    "    od_set = json.load(open(model_path + 'od_set.json'))\n",
    "    od_set = [tuple(l) for l in od_set]\n",
    "    print('Found OD set with {} pairs'.format(len(od_set)))\n",
    "    od_set = list(set([(od[0],od[0]) for od in od_set]).union(set(od_set)))\n",
    "    missing = set(od_set) - set(volumes.index)\n",
    "    if len(missing) > 0:\n",
    "        zeros = pd.DataFrame(index=pd.MultiIndex.from_tuples(list(missing), names=['origin', 'destination']),\n",
    "                             columns=volumes.columns).fillna(0)\n",
    "        volumes = pd.concat([volumes, zeros])\n",
    "    volumes = volumes.loc[od_set]\n",
    "    print('Million trips per day after sparsification: {}'.format(\n",
    "        volumes[seg_cols].sum().sum() / 1e6 / 365))\n",
    "except FileNotFoundError:\n",
    "    print('Saving the full OD set')"
   ]
  },
  {
   "cell_type": "markdown",
   "id": "297fb36a",
   "metadata": {},
   "source": [
    "## Policies"
   ]
  },
  {
   "cell_type": "code",
   "execution_count": 27,
   "id": "67609078",
   "metadata": {},
   "outputs": [],
   "source": [
    "# Multi-purpose densified quarters in agglomeration areas around large cities\n",
    "max_dist = params['trip_reduction_suburban_quarters']['max_dist_to_city']\n",
    "if max_dist > 0:\n",
    "    # Find quarters\n",
    "    zones = gpd.GeoDataFrame(sm.zones, crs=sm.epsg).to_crs('EPSG:5234') # distance to meter\n",
    "    cities = zones.loc[(zones['urbanisation']==1) & (zones['population']>200000)]\n",
    "    centroids = gpd.GeoDataFrame(index=zones.loc[zones['urbanisation']==2].index,\n",
    "                                 geometry=zones.loc[zones['urbanisation']==2, 'geometry'].centroid)\n",
    "    quarters = gpd.sjoin_nearest(centroids, cities[['geometry']], max_distance=max_dist)\n",
    "    # Reduce trips\n",
    "    for seg in seg_cols:\n",
    "        volumes.loc[volumes.reset_index()['origin'].isin(quarters.index), seg] *= \\\n",
    "            1 - params['trip_reduction_suburban_quarters'][seg]"
   ]
  },
  {
   "cell_type": "markdown",
   "id": "a3e4c4cf",
   "metadata": {
    "tags": []
   },
   "source": [
    "## Save"
   ]
  },
  {
   "cell_type": "code",
   "execution_count": 71,
   "id": "28c3cca3",
   "metadata": {},
   "outputs": [
    {
     "name": "stderr",
     "output_type": "stream",
     "text": [
      "volumes: 100%|███████████████████████████████████████████████████████████████████████████| 9/9 [01:22<00:00,  9.16s/it]\n"
     ]
    }
   ],
   "source": [
    "# Save volumes table\n",
    "sm.volumes = volumes.reset_index(names=['origin', 'destination'])\n",
    "sm.to_zippedpickles(model_path + 'de_volumes_distribution', only_attributes=['volumes'])"
   ]
  },
  {
   "cell_type": "code",
   "execution_count": 29,
   "id": "ec0de3bd-55bd-4b4e-a059-953040764a7a",
   "metadata": {},
   "outputs": [],
   "source": [
    "# Plot composite cost distribution\n",
    "if False:\n",
    "    import matplotlib.pyplot as plt\n",
    "    bins = [-1] + list(range(5, 100, 5)) + list(range(100, 300, 50)) + [300, 400, 500, 750, 1000]\n",
    "    ccd = cc.merge(dist, right_index=True, left_index=True, how='left')\n",
    "    ccd['bin'] = pd.cut(ccd['length'], bins=bins, labels=bins[1:])\n",
    "    ccd = ccd.loc[ccd['bin'].notna()]\n",
    "    ccd['bin'] = ccd['bin'].astype(int)\n",
    "    purposes = purposes_compulsory+purposes_optional\n",
    "    fig, ax = plt.subplots(nrows=2, ncols=len(purposes), figsize=(18,6), sharex='all', sharey=False)\n",
    "    for i,car in {0: '_no_car', 1: '_car'}.items():\n",
    "        for j in range(len(purposes)):\n",
    "            cc_means = ccd.groupby('bin')[purposes[j]+car].mean()\n",
    "            ax[i,j].plot(bins[1:], cc_means)\n",
    "            ax[i,j].scatter(ccd['length'], ccd[purposes[j]+car], color='red', s=.1, alpha=.2)\n",
    "            ax[0,j].set_title(purposes[j])\n",
    "            ax[i,j].set_xscale('log')\n",
    "    ax[0,0].set_ylabel('no car')\n",
    "    ax[1,0].set_ylabel('with car')\n",
    "    plt.savefig(output_path + 'CC_distribution_segmented_600dpi.png', dpi=600)\n",
    "    plt.savefig(output_path + 'CC_distribution_segmented_300dpi.png', dpi=300)"
   ]
  }
 ],
 "metadata": {
  "kernelspec": {
   "display_name": "Python 3 (ipykernel)",
   "language": "python",
   "name": "python3"
  },
  "language_info": {
   "codemirror_mode": {
    "name": "ipython",
    "version": 3
   },
   "file_extension": ".py",
   "mimetype": "text/x-python",
   "name": "python",
   "nbconvert_exporter": "python",
   "pygments_lexer": "ipython3",
   "version": "3.10.14"
  }
 },
 "nbformat": 4,
 "nbformat_minor": 5
}
