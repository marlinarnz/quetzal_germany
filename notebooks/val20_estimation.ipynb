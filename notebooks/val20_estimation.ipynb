{
 "cells": [
  {
   "cell_type": "code",
   "execution_count": 19,
   "metadata": {},
   "outputs": [],
   "source": [
    "import numpy as np\n",
    "import pandas as pd\n",
    "#from quetzal.model import stepmodel\n",
    "import matplotlib.pyplot as plt"
   ]
  },
  {
   "cell_type": "markdown",
   "metadata": {},
   "source": [
    "# Validation dashboard for estimation results\n",
    "\n",
    "Compare different estimation models and their results"
   ]
  },
  {
   "cell_type": "code",
   "execution_count": 2,
   "metadata": {},
   "outputs": [],
   "source": [
    "input_path = '../input/'\n",
    "output_path = '../output/'\n",
    "model_path = '../model/'"
   ]
  },
  {
   "cell_type": "code",
   "execution_count": 51,
   "metadata": {},
   "outputs": [],
   "source": [
    "# Knot combinations that have been estimated\n",
    "knot_combos = [(10,20), (20,40), (30,60), (40,80), (50,100), (60,120), (80,160), (90,180), (100,200), ('Esti','mated')]"
   ]
  },
  {
   "cell_type": "code",
   "execution_count": 52,
   "metadata": {},
   "outputs": [],
   "source": [
    "# Load estimation results\n",
    "results = pd.DataFrame()\n",
    "for kc in knot_combos:\n",
    "    excel = pd.read_excel(input_path + 'estimation_results_splineGC_distVoT_knots{}{}.xlsx'.format(kc[0], kc[1]),\n",
    "                          sheet_name=None, index_col=0)\n",
    "    for name, df in excel.items():\n",
    "        results[(name, kc)] = df['Value']\n",
    "results.columns = pd.MultiIndex.from_tuples(results.columns, names=['model', 'knots'])"
   ]
  },
  {
   "cell_type": "code",
   "execution_count": 53,
   "metadata": {},
   "outputs": [
    {
     "data": {
      "text/html": [
       "<div>\n",
       "<style scoped>\n",
       "    .dataframe tbody tr th:only-of-type {\n",
       "        vertical-align: middle;\n",
       "    }\n",
       "\n",
       "    .dataframe tbody tr th {\n",
       "        vertical-align: top;\n",
       "    }\n",
       "\n",
       "    .dataframe thead th {\n",
       "        text-align: right;\n",
       "    }\n",
       "</style>\n",
       "<table border=\"1\" class=\"dataframe\">\n",
       "  <thead>\n",
       "    <tr style=\"text-align: right;\">\n",
       "      <th></th>\n",
       "      <th></th>\n",
       "      <th>asc_air</th>\n",
       "      <th>asc_bus</th>\n",
       "      <th>asc_coach</th>\n",
       "      <th>asc_non_motor</th>\n",
       "      <th>asc_rail</th>\n",
       "      <th>b_ac</th>\n",
       "      <th>b_gc</th>\n",
       "      <th>Number of estimated parameters</th>\n",
       "      <th>Sample size</th>\n",
       "      <th>Excluded observations</th>\n",
       "      <th>Init log likelihood</th>\n",
       "      <th>Final log likelihood</th>\n",
       "      <th>Likelihood ratio test for the init. model</th>\n",
       "      <th>Rho-square for the init. model</th>\n",
       "      <th>Rho-square-bar for the init. model</th>\n",
       "      <th>Akaike Information Criterion</th>\n",
       "      <th>Bayesian Information Criterion</th>\n",
       "      <th>Final gradient norm</th>\n",
       "      <th>Nbr of threads</th>\n",
       "    </tr>\n",
       "    <tr>\n",
       "      <th>model</th>\n",
       "      <th>knots</th>\n",
       "      <th></th>\n",
       "      <th></th>\n",
       "      <th></th>\n",
       "      <th></th>\n",
       "      <th></th>\n",
       "      <th></th>\n",
       "      <th></th>\n",
       "      <th></th>\n",
       "      <th></th>\n",
       "      <th></th>\n",
       "      <th></th>\n",
       "      <th></th>\n",
       "      <th></th>\n",
       "      <th></th>\n",
       "      <th></th>\n",
       "      <th></th>\n",
       "      <th></th>\n",
       "      <th></th>\n",
       "      <th></th>\n",
       "    </tr>\n",
       "  </thead>\n",
       "  <tbody>\n",
       "    <tr>\n",
       "      <th>MNL</th>\n",
       "      <th>(10, 20)</th>\n",
       "      <td>-4.797235</td>\n",
       "      <td>-2.830136</td>\n",
       "      <td>-4.810542</td>\n",
       "      <td>-3.267555</td>\n",
       "      <td>-2.422174</td>\n",
       "      <td>0.550011</td>\n",
       "      <td>-0.190906</td>\n",
       "      <td>7.0</td>\n",
       "      <td>36255.0</td>\n",
       "      <td>59175.0</td>\n",
       "      <td>-70420.873239</td>\n",
       "      <td>-15536.676054</td>\n",
       "      <td>109768.394370</td>\n",
       "      <td>0.779374</td>\n",
       "      <td>0.779275</td>\n",
       "      <td>31087.352108</td>\n",
       "      <td>31146.840436</td>\n",
       "      <td>0.104855</td>\n",
       "      <td>8.0</td>\n",
       "    </tr>\n",
       "    <tr>\n",
       "      <th>NL</th>\n",
       "      <th>(10, 20)</th>\n",
       "      <td>-5.195710</td>\n",
       "      <td>-2.767684</td>\n",
       "      <td>-3.517144</td>\n",
       "      <td>-3.273511</td>\n",
       "      <td>-2.872542</td>\n",
       "      <td>0.671405</td>\n",
       "      <td>-0.057016</td>\n",
       "      <td>8.0</td>\n",
       "      <td>36255.0</td>\n",
       "      <td>59175.0</td>\n",
       "      <td>-70420.873239</td>\n",
       "      <td>-11995.810728</td>\n",
       "      <td>116850.125021</td>\n",
       "      <td>0.829655</td>\n",
       "      <td>0.829542</td>\n",
       "      <td>24007.621457</td>\n",
       "      <td>24075.608118</td>\n",
       "      <td>0.185705</td>\n",
       "      <td>8.0</td>\n",
       "    </tr>\n",
       "    <tr>\n",
       "      <th>NL_Fz1</th>\n",
       "      <th>(10, 20)</th>\n",
       "      <td>-11.847928</td>\n",
       "      <td>-2.517457</td>\n",
       "      <td>-5.855223</td>\n",
       "      <td>-4.755272</td>\n",
       "      <td>-2.318658</td>\n",
       "      <td>0.940312</td>\n",
       "      <td>-0.534267</td>\n",
       "      <td>8.0</td>\n",
       "      <td>24760.0</td>\n",
       "      <td>70670.0</td>\n",
       "      <td>-48083.157910</td>\n",
       "      <td>-10064.266721</td>\n",
       "      <td>76037.782378</td>\n",
       "      <td>0.790690</td>\n",
       "      <td>0.790524</td>\n",
       "      <td>20144.533443</td>\n",
       "      <td>20209.469321</td>\n",
       "      <td>0.089715</td>\n",
       "      <td>8.0</td>\n",
       "    </tr>\n",
       "  </tbody>\n",
       "</table>\n",
       "</div>"
      ],
      "text/plain": [
       "                   asc_air   asc_bus  asc_coach  asc_non_motor  asc_rail  \\\n",
       "model  knots                                                               \n",
       "MNL    (10, 20)  -4.797235 -2.830136  -4.810542      -3.267555 -2.422174   \n",
       "NL     (10, 20)  -5.195710 -2.767684  -3.517144      -3.273511 -2.872542   \n",
       "NL_Fz1 (10, 20) -11.847928 -2.517457  -5.855223      -4.755272 -2.318658   \n",
       "\n",
       "                     b_ac      b_gc  Number of estimated parameters  \\\n",
       "model  knots                                                          \n",
       "MNL    (10, 20)  0.550011 -0.190906                             7.0   \n",
       "NL     (10, 20)  0.671405 -0.057016                             8.0   \n",
       "NL_Fz1 (10, 20)  0.940312 -0.534267                             8.0   \n",
       "\n",
       "                 Sample size  Excluded observations  Init log likelihood  \\\n",
       "model  knots                                                               \n",
       "MNL    (10, 20)      36255.0                59175.0        -70420.873239   \n",
       "NL     (10, 20)      36255.0                59175.0        -70420.873239   \n",
       "NL_Fz1 (10, 20)      24760.0                70670.0        -48083.157910   \n",
       "\n",
       "                 Final log likelihood  \\\n",
       "model  knots                            \n",
       "MNL    (10, 20)         -15536.676054   \n",
       "NL     (10, 20)         -11995.810728   \n",
       "NL_Fz1 (10, 20)         -10064.266721   \n",
       "\n",
       "                 Likelihood ratio test for the init. model  \\\n",
       "model  knots                                                 \n",
       "MNL    (10, 20)                              109768.394370   \n",
       "NL     (10, 20)                              116850.125021   \n",
       "NL_Fz1 (10, 20)                               76037.782378   \n",
       "\n",
       "                 Rho-square for the init. model  \\\n",
       "model  knots                                      \n",
       "MNL    (10, 20)                        0.779374   \n",
       "NL     (10, 20)                        0.829655   \n",
       "NL_Fz1 (10, 20)                        0.790690   \n",
       "\n",
       "                 Rho-square-bar for the init. model  \\\n",
       "model  knots                                          \n",
       "MNL    (10, 20)                            0.779275   \n",
       "NL     (10, 20)                            0.829542   \n",
       "NL_Fz1 (10, 20)                            0.790524   \n",
       "\n",
       "                 Akaike Information Criterion  Bayesian Information Criterion  \\\n",
       "model  knots                                                                    \n",
       "MNL    (10, 20)                  31087.352108                    31146.840436   \n",
       "NL     (10, 20)                  24007.621457                    24075.608118   \n",
       "NL_Fz1 (10, 20)                  20144.533443                    20209.469321   \n",
       "\n",
       "                 Final gradient norm  Nbr of threads  \n",
       "model  knots                                          \n",
       "MNL    (10, 20)             0.104855             8.0  \n",
       "NL     (10, 20)             0.185705             8.0  \n",
       "NL_Fz1 (10, 20)             0.089715             8.0  "
      ]
     },
     "execution_count": 53,
     "metadata": {},
     "output_type": "execute_result"
    }
   ],
   "source": [
    "results.T.head(3)"
   ]
  },
  {
   "cell_type": "code",
   "execution_count": 54,
   "metadata": {},
   "outputs": [
    {
     "name": "stderr",
     "output_type": "stream",
     "text": [
      "C:\\Users\\marlin.arnz\\AppData\\Local\\Continuum\\miniconda3\\envs\\quetzal\\lib\\site-packages\\pandas\\plotting\\_matplotlib\\core.py:1182: UserWarning: FixedFormatter should only be used together with FixedLocator\n",
      "  ax.set_xticklabels(xticklabels)\n"
     ]
    },
    {
     "data": {
      "image/png": "[encoded data removed]",
      "text/plain": [
       "<Figure size 1152x360 with 1 Axes>"
      ]
     },
     "metadata": {
      "needs_background": "light"
     },
     "output_type": "display_data"
    }
   ],
   "source": [
    "fig, ax = plt.subplots(nrows=1, ncols=1, figsize=(16,5))\n",
    "for i, m in zip(range(7), results.columns.unique(level=0)):\n",
    "    results.T.loc[m, 'Rho-square-bar for the init. model'].plot(label=m, legend=True, ax=ax)\n",
    "#results.T.reset_index().groupby('model').plot(x='knots', y='Final log likelihood',\n",
    "#    legend=True, subplots=True, layout=(1,7), figsize=(16,5), rot=90)"
   ]
  },
  {
   "cell_type": "code",
   "execution_count": null,
   "metadata": {},
   "outputs": [],
   "source": []
  }
 ],
 "metadata": {
  "kernelspec": {
   "display_name": "Python 3",
   "language": "python",
   "name": "python3"
  },
  "language_info": {
   "codemirror_mode": {
    "name": "ipython",
    "version": 3
   },
   "file_extension": ".py",
   "mimetype": "text/x-python",
   "name": "python",
   "nbconvert_exporter": "python",
   "pygments_lexer": "ipython3",
   "version": "3.8.1"
  }
 },
 "nbformat": 4,
 "nbformat_minor": 4
}
