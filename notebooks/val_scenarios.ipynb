{
 "cells": [
  {
   "cell_type": "code",
   "execution_count": null,
   "metadata": {},
   "outputs": [],
   "source": [
    "import os\n",
    "import numpy as np\n",
    "import pandas as pd\n",
    "import geopandas as gpd\n",
    "import matplotlib.pyplot as plt\n",
    "from quetzal.model import stepmodel\n",
    "from quetzal.io import excel"
   ]
  },
  {
   "cell_type": "markdown",
   "metadata": {},
   "source": [
    "# Validate different scenarios against each other"
   ]
  },
  {
   "cell_type": "code",
   "execution_count": null,
   "metadata": {},
   "outputs": [],
   "source": [
    "scenario_ref = 'reference'\n",
    "scenarios = [scenario_ref] + ['Avoid', 'Shift', 'Avoid+Shift']"
   ]
  },
  {
   "cell_type": "code",
   "execution_count": null,
   "metadata": {},
   "outputs": [],
   "source": [
    "input_path = '../input/'\n",
    "network_path = '../input_static/'\n",
    "output_path = '../output/'\n",
    "model_path = '../model/'\n",
    "params = excel.read_var(file='../input/parameters.xls', scenario=scenario_ref)\n",
    "segments = [s.strip() for s in params['general']['demand_segments'].split(';')]\n",
    "purposes = [s.split('_')[0] for s in segments][::2]"
   ]
  },
  {
   "cell_type": "code",
   "execution_count": null,
   "metadata": {},
   "outputs": [],
   "source": [
    "ref = stepmodel.read_json(model_path + scenario_ref + '/de_zones')\n",
    "ref.zones = gpd.GeoDataFrame(ref.zones)"
   ]
  },
  {
   "cell_type": "code",
   "execution_count": null,
   "metadata": {},
   "outputs": [],
   "source": [
    "# Load distances\n",
    "distances = pd.read_csv(output_path + '/distances_centroids.csv')\n",
    "distances = distances.set_index(['origin', 'destination'])"
   ]
  },
  {
   "cell_type": "code",
   "execution_count": null,
   "metadata": {},
   "outputs": [],
   "source": [
    "# Load the calibration dataset for validation\n",
    "if False:\n",
    "    mid2017 = pd.read_csv(input_path + 'transport_demand/calibration_all_trips_MiD2017.csv')\n",
    "    # Replace LAU codes with NUTS IDs\n",
    "    assert str(mid2017.loc[0, 'origin']).startswith('DE')\n",
    "    # Rename modes and purposes\n",
    "    mode_dict_mid = {1: 'rail_short', 2: 'rail_long',\n",
    "                     3: 'coach', 4: 'bus', 5: 'air', 6: 'car', 7: 'walk'}\n",
    "    mid2017['mode_model'] = mid2017['mode_model'].map(mode_dict_mid)\n",
    "    mid2017['purpose_model'] = mid2017['purpose_model'].apply(lambda s: s.split('_')[0])\n",
    "    mid2017['segment'] = mid2017['purpose_model'] + mid2017['car_avail'].map(\n",
    "        {1: '_car', 0: '_no_car', 9: '_no_car'})\n",
    "    mid2017 = mid2017[['mode_model', 'purpose_model', 'segment', 'origin', 'destination']]"
   ]
  },
  {
   "cell_type": "markdown",
   "metadata": {},
   "source": [
    "# Composite cost\n",
    "\n",
    "Percieved cost averaged over all modes by origin-destination pair"
   ]
  },
  {
   "cell_type": "code",
   "execution_count": null,
   "metadata": {},
   "outputs": [],
   "source": [
    "# Load CC\n",
    "cc = {}\n",
    "for scenario in scenarios:\n",
    "    cc[scenario] = pd.read_csv(output_path + scenario + '/mode_choice_od_composite_cost.csv')"
   ]
  },
  {
   "cell_type": "code",
   "execution_count": null,
   "metadata": {},
   "outputs": [],
   "source": [
    "# Differences to reference scenario\n",
    "fig, ax = plt.subplots(nrows=len(scenarios)-1, ncols=3, figsize=(15,(len(scenarios)-1)*5),\n",
    "                       sharex='all', sharey='all')\n",
    "label_step = 90\n",
    "ref_matrix = cc[scenario_ref].set_index(['origin', 'destination']).min(axis=1).unstack('destination')\n",
    "for i in range(1, len(scenarios)):\n",
    "    i -= 1\n",
    "    ax[i,0].set_ylabel(scenario)\n",
    "    matrix = cc[scenario].set_index(['origin', 'destination']).min(axis=1).unstack('destination')\n",
    "    ax[i,0].imshow((matrix - ref_matrix).fillna(0).values)\n",
    "    matrix = cc[scenario].set_index(['origin', 'destination']).mean(axis=1).unstack('destination')\n",
    "    ax[i,1].imshow((matrix - ref_matrix).fillna(0).values)\n",
    "    matrix = cc[scenario].set_index(['origin', 'destination']).max(axis=1).unstack('destination')\n",
    "    ax[i,2].imshow((matrix - ref_matrix).fillna(0).values)\n",
    "    ylabels = list(matrix.columns)\n",
    "    ax[i,0].set_yticks(range(0, len(ylabels), label_step), labels=ylabels[::label_step], fontsize=8)\n",
    "    if i == len(scenarios)-2:\n",
    "        xlabels = list(matrix.index)\n",
    "        ax[i,0].set_xticks(range(0, len(xlabels), label_step), labels=xlabels[::label_step], fontsize=8, rotation=90)\n",
    "        ax[i,1].set_xticks(range(0, len(xlabels), label_step), labels=xlabels[::label_step], fontsize=8, rotation=90)\n",
    "        ax[i,2].set_xticks(range(0, len(xlabels), label_step), labels=xlabels[::label_step], fontsize=8, rotation=90)\n",
    "        ax[i,0].set_xlabel('Min')\n",
    "        ax[i,1].set_xlabel('Mean')\n",
    "        ax[i,2].set_xlabel('Max')"
   ]
  },
  {
   "cell_type": "code",
   "execution_count": null,
   "metadata": {},
   "outputs": [],
   "source": [
    "# Define distance classes\n",
    "bins = [0, 10, 20, 30, 40, 50, 60, 70, 80, 90, 100, 120, 150, 200, 300, 500, 1000]\n",
    "labels = ['{}-{}km'.format(bins[i], bins[i+1]) for i in range(len(bins)-1)]\n",
    "for scenario in scenarios:\n",
    "    cc[scenario]['dist'] = cc[scenario].set_index(['origin', 'destination']).index.map(distances.to_dict()['length'])\n",
    "    cc[scenario]['bins'] = pd.cut(cc[scenario]['dist'], bins=bins, labels=labels)"
   ]
  },
  {
   "cell_type": "code",
   "execution_count": null,
   "metadata": {},
   "outputs": [],
   "source": [
    "fig, ax = plt.subplots(nrows=3, ncols=1, figsize=(15,10),\n",
    "                       sharex='all', sharey='all')\n",
    "for scenario in scenarios:\n",
    "    cc[scenario].loc[cc[scenario].notna().all(axis=1)].groupby('bins')[segments].mean().min(axis=1).plot.line(\n",
    "        legend=True, label=scenario, ax=ax[0])\n",
    "    cc[scenario].loc[cc[scenario].notna().all(axis=1)].groupby('bins')[segments].mean().mean(axis=1).plot.line(\n",
    "        legend=True, label=scenario, ax=ax[1])\n",
    "    cc[scenario].loc[cc[scenario].notna().all(axis=1)].groupby('bins')[segments].mean().max(axis=1).plot.line(\n",
    "        legend=True, label=scenario, ax=ax[2])\n",
    "ax[0].set_ylabel('Min')\n",
    "ax[1].set_ylabel('Mean')\n",
    "ax[2].set_ylabel('Max')"
   ]
  },
  {
   "cell_type": "code",
   "execution_count": null,
   "metadata": {},
   "outputs": [],
   "source": [
    "cc = None"
   ]
  },
  {
   "cell_type": "markdown",
   "metadata": {},
   "source": [
    "# Volumes\n",
    "\n",
    "Number of trips per year"
   ]
  },
  {
   "cell_type": "code",
   "execution_count": null,
   "metadata": {},
   "outputs": [],
   "source": [
    "# Load volumes\n",
    "vols = {}\n",
    "for scenario in scenarios:\n",
    "    vols[scenario] = stepmodel.read_zippedpickles(model_path + scenario + '/de_volumes')"
   ]
  },
  {
   "cell_type": "code",
   "execution_count": null,
   "metadata": {},
   "outputs": [],
   "source": [
    "# Inner- and inter-zonal volumes by segment\n",
    "seg_df = pd.DataFrame()\n",
    "for scenario in scenarios:\n",
    "    vol = vols[scenario].volumes\n",
    "    seg_df[scenario+'_inner'] = vol.loc[vol['origin']==vol['destination'], segments].sum()\n",
    "    seg_df[scenario+'_inter'] = vol.loc[vol['origin']!=vol['destination'], segments].sum()"
   ]
  },
  {
   "cell_type": "code",
   "execution_count": null,
   "metadata": {},
   "outputs": [],
   "source": [
    "# Compare inner- and inter-zonal volumes by segment\n",
    "fig, ax = plt.subplots(nrows=1, ncols=2, figsize=(12,4))\n",
    "seg_df.loc[[s for s in segments if '_no_car' in s]].plot.bar( legend=True, ax=ax[0])\n",
    "seg_df.loc[[s for s in segments if not '_no_car' in s]].plot.bar(legend=True, ax=ax[1])"
   ]
  },
  {
   "cell_type": "markdown",
   "metadata": {},
   "source": [
    "### Distance distribution"
   ]
  },
  {
   "cell_type": "code",
   "execution_count": null,
   "metadata": {},
   "outputs": [],
   "source": [
    "# Define distance classes\n",
    "bins = [0, 10, 20, 30, 40, 50, 60, 70, 80, 90, 100, 120, 150, 200, 300, 500, 1000]\n",
    "labels = ['{}-{}km'.format(bins[i], bins[i+1]) for i in range(len(bins)-1)]\n",
    "for scenario in scenarios:\n",
    "    vol = vols[scenario].volumes\n",
    "    vol['dist'] = vol.set_index(['origin', 'destination']).index.map(distances.to_dict()['length'])\n",
    "    vol['bins'] = pd.cut(vol['dist'], bins=bins, labels=labels)"
   ]
  },
  {
   "cell_type": "code",
   "execution_count": null,
   "metadata": {},
   "outputs": [],
   "source": [
    "# Sum up volumes\n",
    "vol_df = pd.DataFrame()\n",
    "for scenario in scenarios:\n",
    "    vol_df[[scenario+' '+seg for seg in segments]] = vols[scenario].volumes.groupby('bins')[segments].sum()\n",
    "    vol_df[scenario+' sum'] = vol_df[[scenario+' '+seg for seg in segments]].sum(axis=1)\n",
    "    vol_df[scenario+' sum with car'] = vol_df[[scenario+' '+seg for seg in segments if not '_no_car' in seg]].sum(axis=1)\n",
    "    vol_df[scenario+' sum without car'] = vol_df[[scenario+' '+seg for seg in segments if '_no_car' in seg]].sum(axis=1)"
   ]
  },
  {
   "cell_type": "code",
   "execution_count": null,
   "metadata": {},
   "outputs": [],
   "source": [
    "# plot total\n",
    "vol_df[[s+' sum' for s in scenarios]].plot(kind='area', stacked=False, alpha=.4, figsize=(12,4))"
   ]
  },
  {
   "cell_type": "code",
   "execution_count": null,
   "metadata": {},
   "outputs": [],
   "source": [
    "# plot by car availability\n",
    "fig, ax = plt.subplots(ncols=2, nrows=1, figsize=(12,4))\n",
    "vol_df[[s+' sum without car' for s in scenarios]].plot(kind='area', stacked=False, alpha=.4, ax=ax[0])\n",
    "vol_df[[s+' sum with car' for s in scenarios]].plot(kind='area', stacked=False, alpha=.4, ax=ax[1])"
   ]
  },
  {
   "cell_type": "code",
   "execution_count": null,
   "metadata": {
    "scrolled": false
   },
   "outputs": [],
   "source": [
    "# plot by segment\n",
    "fig, ax = plt.subplots(ncols=1, nrows=len(segments), figsize=(12,len(segments)*3), sharex='all')\n",
    "i = 0\n",
    "for seg in segments:\n",
    "    vol_df[[scenario+' '+seg for scenario in scenarios]].plot(kind='area', stacked=False, alpha=.4, ax=ax[i])\n",
    "    i += 1"
   ]
  },
  {
   "cell_type": "code",
   "execution_count": null,
   "metadata": {},
   "outputs": [],
   "source": []
  }
 ],
 "metadata": {
  "kernelspec": {
   "display_name": "Python 3 (ipykernel)",
   "language": "python",
   "name": "python3"
  },
  "language_info": {
   "codemirror_mode": {
    "name": "ipython",
    "version": 3
   },
   "file_extension": ".py",
   "mimetype": "text/x-python",
   "name": "python",
   "nbconvert_exporter": "python",
   "pygments_lexer": "ipython3",
   "version": "3.8.13"
  }
 },
 "nbformat": 4,
 "nbformat_minor": 4
}
