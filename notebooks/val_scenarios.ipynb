{
 "cells": [
  {
   "cell_type": "code",
   "execution_count": null,
   "metadata": {},
   "outputs": [],
   "source": [
    "import os\n",
    "import numpy as np\n",
    "import pandas as pd\n",
    "import geopandas as gpd\n",
    "import matplotlib.pyplot as plt\n",
    "from matplotlib.cm import get_cmap, ScalarMappable\n",
    "#from mpl_toolkits.axes_grid1.inset_locator import zoomed_inset_axes, mark_inset\n",
    "from quetzal.model import stepmodel\n",
    "from quetzal.io import excel"
   ]
  },
  {
   "cell_type": "markdown",
   "metadata": {},
   "source": [
    "# Validate different scenarios against each other"
   ]
  },
  {
   "cell_type": "code",
   "execution_count": null,
   "metadata": {},
   "outputs": [],
   "source": [
    "# Resolution of output plots\n",
    "dpi = 600"
   ]
  },
  {
   "cell_type": "code",
   "execution_count": null,
   "metadata": {},
   "outputs": [],
   "source": [
    "# Choose colors\n",
    "cmap = get_cmap('magma')\n",
    "# Four colors, for each scenario one\n",
    "colors4 = {'reference': cmap(.25), 'Avoid': cmap(.45), 'Shift': cmap(.65), 'Avoid+Shift': cmap(.9)}"
   ]
  },
  {
   "cell_type": "code",
   "execution_count": null,
   "metadata": {},
   "outputs": [],
   "source": [
    "cmap"
   ]
  },
  {
   "cell_type": "code",
   "execution_count": null,
   "metadata": {},
   "outputs": [],
   "source": [
    "# Define the mode colors\n",
    "cmap_mode = get_cmap('CMRmap')\n",
    "colormap = {'car':cmap_mode(.45), 'private_car':cmap_mode(.45), 'car_sharing':cmap_mode(.51),\n",
    "            'rail':cmap_mode(.24), 'rail_long':cmap_mode(.3), 'rail_short':cmap_mode(.24),\n",
    "            'coach':cmap_mode(.8), 'bus':cmap_mode(.73),\n",
    "            'air':cmap_mode(.02), 'air_domestic':cmap_mode(.02),\n",
    "            'non-motorised':cmap_mode(.93)\n",
    "           } # also defines mode order"
   ]
  },
  {
   "cell_type": "code",
   "execution_count": null,
   "metadata": {},
   "outputs": [],
   "source": [
    "cmap_mode"
   ]
  },
  {
   "cell_type": "code",
   "execution_count": null,
   "metadata": {},
   "outputs": [],
   "source": [
    "scenario_ref = 'reference'\n",
    "scenarios = [scenario_ref] + ['Avoid', 'Shift', 'Avoid+Shift']"
   ]
  },
  {
   "cell_type": "code",
   "execution_count": null,
   "metadata": {},
   "outputs": [],
   "source": [
    "input_path = '../input/'\n",
    "network_path = '../input_static/'\n",
    "output_path = '../output/'\n",
    "model_path = '../model/'\n",
    "params = excel.read_var(file='../input/parameters.xls', scenario=scenario_ref)\n",
    "segments = [s.strip() for s in params['general']['demand_segments'].split(';')]\n",
    "purposes = [s.split('_')[0] for s in segments][::2]"
   ]
  },
  {
   "cell_type": "code",
   "execution_count": null,
   "metadata": {},
   "outputs": [],
   "source": [
    "ref = stepmodel.read_json(model_path + scenario_ref + '/de_zones')\n",
    "ref.zones = gpd.GeoDataFrame(ref.zones, crs=ref.epsg)"
   ]
  },
  {
   "cell_type": "code",
   "execution_count": null,
   "metadata": {},
   "outputs": [],
   "source": [
    "# Load distances\n",
    "distances = pd.read_csv(output_path + '/distances_centroids.csv')\n",
    "distances = distances.set_index(['origin', 'destination'])"
   ]
  },
  {
   "cell_type": "code",
   "execution_count": null,
   "metadata": {},
   "outputs": [],
   "source": [
    "# Load the calibration dataset for validation\n",
    "if False:\n",
    "    mid2017 = pd.read_csv(input_path + 'transport_demand/calibration_all_trips_MiD2017.csv')\n",
    "    # Replace LAU codes with NUTS IDs\n",
    "    assert str(mid2017.loc[0, 'origin']).startswith('DE')\n",
    "    # Rename modes and purposes\n",
    "    mode_dict_mid = {1: 'rail_short', 2: 'rail_long',\n",
    "                     3: 'coach', 4: 'bus', 5: 'air', 6: 'car', 7: 'walk'}\n",
    "    mid2017['mode_model'] = mid2017['mode_model'].map(mode_dict_mid)\n",
    "    mid2017['purpose_model'] = mid2017['purpose_model'].apply(lambda s: s.split('_')[0])\n",
    "    mid2017['segment'] = mid2017['purpose_model'] + mid2017['car_avail'].map(\n",
    "        {1: '_car', 0: '_no_car', 9: '_no_car'})\n",
    "    mid2017 = mid2017[['mode_model', 'purpose_model', 'segment', 'origin', 'destination']]"
   ]
  },
  {
   "cell_type": "markdown",
   "metadata": {},
   "source": [
    "# Composite cost\n",
    "\n",
    "Percieved cost averaged over all modes by origin-destination pair"
   ]
  },
  {
   "cell_type": "code",
   "execution_count": null,
   "metadata": {},
   "outputs": [],
   "source": [
    "# Load CC\n",
    "cc = {}\n",
    "for scenario in scenarios:\n",
    "    cc[scenario] = pd.read_csv(output_path + scenario + '/mode_choice_od_composite_cost.csv')"
   ]
  },
  {
   "cell_type": "code",
   "execution_count": null,
   "metadata": {},
   "outputs": [],
   "source": [
    "# Differences to reference scenario\n",
    "fig, ax = plt.subplots(nrows=len(scenarios)-1, ncols=3, figsize=(15,(len(scenarios)-1)*5),\n",
    "                       sharex='all', sharey='all')\n",
    "label_step = 90\n",
    "ref_matrix = cc[scenario_ref].set_index(['origin', 'destination']).min(axis=1).unstack('destination')\n",
    "for i in range(1, len(scenarios)):\n",
    "    i -= 1\n",
    "    ax[i,0].set_ylabel(scenario)\n",
    "    matrix = cc[scenario].set_index(['origin', 'destination']).min(axis=1).unstack('destination')\n",
    "    ax[i,0].imshow((matrix - ref_matrix).fillna(0).values)\n",
    "    matrix = cc[scenario].set_index(['origin', 'destination']).mean(axis=1).unstack('destination')\n",
    "    ax[i,1].imshow((matrix - ref_matrix).fillna(0).values)\n",
    "    matrix = cc[scenario].set_index(['origin', 'destination']).max(axis=1).unstack('destination')\n",
    "    ax[i,2].imshow((matrix - ref_matrix).fillna(0).values)\n",
    "    ylabels = list(matrix.columns)\n",
    "    ax[i,0].set_yticks(range(0, len(ylabels), label_step), labels=ylabels[::label_step], fontsize=8)\n",
    "    if i == len(scenarios)-2:\n",
    "        xlabels = list(matrix.index)\n",
    "        ax[i,0].set_xticks(range(0, len(xlabels), label_step), labels=xlabels[::label_step], fontsize=8, rotation=90)\n",
    "        ax[i,1].set_xticks(range(0, len(xlabels), label_step), labels=xlabels[::label_step], fontsize=8, rotation=90)\n",
    "        ax[i,2].set_xticks(range(0, len(xlabels), label_step), labels=xlabels[::label_step], fontsize=8, rotation=90)\n",
    "        ax[i,0].set_xlabel('Min')\n",
    "        ax[i,1].set_xlabel('Mean')\n",
    "        ax[i,2].set_xlabel('Max')"
   ]
  },
  {
   "cell_type": "code",
   "execution_count": null,
   "metadata": {},
   "outputs": [],
   "source": [
    "# Define distance classes\n",
    "#bins = [0, 20, 40, 60, 80, 100, 150, 200, 300, 500, 700, 1000]\n",
    "#labels = ['{}-{}km'.format(bins[i], bins[i+1]) for i in range(len(bins)-1)]\n",
    "bins = list(range(0,1020, 10))\n",
    "labels = bins[:-1]\n",
    "for scenario in scenarios:\n",
    "    cc[scenario]['dist'] = cc[scenario].set_index(['origin', 'destination']).index.map(distances.to_dict()['length'])\n",
    "    cc[scenario]['bins'] = pd.cut(cc[scenario]['dist'], bins=bins, labels=labels)"
   ]
  },
  {
   "cell_type": "code",
   "execution_count": null,
   "metadata": {
    "scrolled": false
   },
   "outputs": [],
   "source": [
    "fig, ax = plt.subplots(nrows=len(segments), ncols=1, figsize=(12, 3.5*len(segments)),\n",
    "                       sharex='all', sharey='all')\n",
    "i = 0\n",
    "for seg in segments:\n",
    "    for scenario in scenarios:\n",
    "        ax[i].plot(np.arange(len(labels)), cc[scenario].loc[\n",
    "            cc[scenario].notna().all(axis=1)].groupby('bins')[seg].mean(),\n",
    "                  color=colors4[scenario])\n",
    "    ax[i].set_ylabel(seg)\n",
    "    i += 1"
   ]
  },
  {
   "cell_type": "code",
   "execution_count": null,
   "metadata": {},
   "outputs": [],
   "source": [
    "fig, ax = plt.subplots(nrows=3, ncols=1, figsize=(12,10),\n",
    "                       sharex='all', sharey='row')\n",
    "for scenario in scenarios:\n",
    "    cc[scenario].loc[cc[scenario].notna().all(axis=1)].groupby('bins')[segments].min().mean(axis=1).plot.line(\n",
    "        legend=True, label=scenario, color=colors4[scenario], ax=ax[0])\n",
    "    cc[scenario].loc[cc[scenario].notna().all(axis=1)].groupby('bins')[segments].mean().mean(axis=1).plot.line(\n",
    "        legend=True, label=scenario, color=colors4[scenario], ax=ax[1])\n",
    "    cc[scenario].loc[cc[scenario].notna().all(axis=1)].groupby('bins')[segments].max().mean(axis=1).plot.line(\n",
    "        legend=True, label=scenario, color=colors4[scenario], ax=ax[2])\n",
    "ax[0].set_ylabel('Min')\n",
    "ax[1].set_ylabel('Mean')\n",
    "ax[2].set_ylabel('Max')"
   ]
  },
  {
   "cell_type": "code",
   "execution_count": null,
   "metadata": {},
   "outputs": [],
   "source": [
    "fig, ax = plt.subplots(nrows=1, ncols=1, figsize=(12,4),\n",
    "                       sharex='all', sharey='row')\n",
    "ind = labels\n",
    "for scenario in scenarios:\n",
    "    mean_cc = cc[scenario].loc[cc[scenario].notna().all(axis=1)].groupby('bins')[segments].mean().mean(axis=1)\n",
    "    ax.plot(ind, mean_cc, label=scenario, color=colors4[scenario])\n",
    "    if scenario != scenario_ref:\n",
    "        min_cc = cc[scenario].loc[cc[scenario].notna().all(axis=1)].groupby('bins')[segments].min().mean(axis=1)\n",
    "        max_cc = cc[scenario].loc[cc[scenario].notna().all(axis=1)].groupby('bins')[segments].max().mean(axis=1)\n",
    "        ax.fill_between(ind, mean_cc, min_cc, facecolor=colors4[scenario], alpha=0.3)\n",
    "        ax.fill_between(ind, mean_cc, max_cc, facecolor=colors4[scenario], alpha=0.3)\n",
    "ax.set_ylabel('perceived travel cost')\n",
    "ax.set_xlabel('distance [km]')\n",
    "ax.legend(loc='lower right')\n",
    "#plt.savefig(output_path + '_scenario_validation/cc_all_distance_minmax.png', dpi=dpi)"
   ]
  },
  {
   "cell_type": "code",
   "execution_count": null,
   "metadata": {},
   "outputs": [],
   "source": [
    "fig, ax = plt.subplots(nrows=1, ncols=1, figsize=(12,4),\n",
    "                       sharex='all', sharey='row')\n",
    "ind = labels\n",
    "for scenario in scenarios:\n",
    "    mean_cc = cc[scenario].loc[cc[scenario].notna().all(axis=1)].groupby('bins')[segments].mean().mean(axis=1)\n",
    "    ax.plot(ind, mean_cc, label=scenario, color=colors4[scenario])\n",
    "ax.set_ylabel('perceived travel cost')\n",
    "ax.set_yticks([])\n",
    "ax.set_xlabel('distance [km]')\n",
    "ax.legend(loc='lower right')\n",
    "plt.savefig(output_path + '_scenario_validation/cc_all_distance.png', dpi=dpi)"
   ]
  },
  {
   "cell_type": "code",
   "execution_count": null,
   "metadata": {},
   "outputs": [],
   "source": [
    "# By urbanisation\n",
    "urb = list(ref.zones['urbanisation'].unique())\n",
    "urb.sort()\n",
    "fig, ax = plt.subplots(nrows=len(urb), ncols=1, figsize=(12,4*len(urb)),\n",
    "                       sharex='all', sharey='row')\n",
    "ind = labels\n",
    "for u in urb:\n",
    "    zones = list(ref.zones.loc[ref.zones['urbanisation']==u].index)\n",
    "    for scenario in scenarios:\n",
    "        mean_cc = cc[scenario].loc[(cc[scenario].notna().all(axis=1)) & (cc[scenario]['origin'].isin(zones))\n",
    "                                  ].groupby('bins')[segments].mean().mean(axis=1)\n",
    "        ax[u-1].plot(ind, mean_cc, label=scenario, color=colors4[scenario])\n",
    "    ax[u-1].set_ylabel('perceived travel cost urban.={}'.format(u))\n",
    "    ax[u-1].legend(loc='lower right')\n",
    "ax[-1].set_xlabel('distance [km]')\n",
    "#plt.savefig(output_path + '_scenario_validation/cc_all_distance_urbanisation.png', dpi=dpi)"
   ]
  },
  {
   "cell_type": "markdown",
   "metadata": {},
   "source": [
    "# Volumes\n",
    "\n",
    "Number of trips per year"
   ]
  },
  {
   "cell_type": "code",
   "execution_count": null,
   "metadata": {},
   "outputs": [],
   "source": [
    "# Load volumes\n",
    "vols = {}\n",
    "for scenario in scenarios:\n",
    "    vols[scenario] = stepmodel.read_zippedpickles(model_path + scenario + '/de_volumes')"
   ]
  },
  {
   "cell_type": "code",
   "execution_count": null,
   "metadata": {},
   "outputs": [],
   "source": [
    "# Inner- and inter-zonal volumes by segment\n",
    "seg_df = pd.DataFrame()\n",
    "for scenario in scenarios:\n",
    "    vol = vols[scenario].volumes\n",
    "    seg_df[scenario+'_inner'] = vol.loc[vol['origin']==vol['destination'], segments].sum()\n",
    "    seg_df[scenario+'_inter'] = vol.loc[vol['origin']!=vol['destination'], segments].sum()"
   ]
  },
  {
   "cell_type": "code",
   "execution_count": null,
   "metadata": {},
   "outputs": [],
   "source": [
    "# Compare inner- and inter-zonal volumes by segment\n",
    "fig, ax = plt.subplots(nrows=1, ncols=2, figsize=(12,4))\n",
    "seg_df.loc[[s for s in segments if '_no_car' in s]].plot.bar(legend=True, ax=ax[0])\n",
    "seg_df.loc[[s for s in segments if not '_no_car' in s]].plot.bar(legend=False, ax=ax[1])"
   ]
  },
  {
   "cell_type": "code",
   "execution_count": null,
   "metadata": {},
   "outputs": [],
   "source": [
    "# Share of inter-zonal trips in reference\n",
    "seg_df['reference_inter'].sum() / (seg_df['reference_inner'].sum() + seg_df['reference_inter'].sum())"
   ]
  },
  {
   "cell_type": "code",
   "execution_count": null,
   "metadata": {},
   "outputs": [],
   "source": [
    "# total trips\n",
    "for scenario in scenarios:\n",
    "    print(\"{}: {} bn.\".format(scenario, round(seg_df[\n",
    "        [scenario+suffix for suffix in ['_inter', '_inner']]].sum().sum() / 1e9, 1)))"
   ]
  },
  {
   "cell_type": "code",
   "execution_count": null,
   "metadata": {},
   "outputs": [],
   "source": [
    "# Compare inner- and inter-zonal volumes by segment\n",
    "# Stacked bar plot: inner+inter by scenario by segment\n",
    "fig, ax = plt.subplots(nrows=1, ncols=1, figsize=(6,3.5))\n",
    "segs = [s for s in segments if '_no_car' in s]+[s for s in segments if not '_no_car' in s]\n",
    "cmap = get_cmap('magma') # or cividis\n",
    "colors_inner = {'reference': cmap(.3), 'Avoid': cmap(.5), 'Shift': cmap(.7), 'Avoid+Shift': cmap(.95)}\n",
    "colors_inter = {'reference': cmap(.25), 'Avoid': cmap(.45), 'Shift': cmap(.65), 'Avoid+Shift': cmap(.9)}\n",
    "ind = np.arange(len(segments))\n",
    "width = 1/len(scenarios) - 0.1\n",
    "width_filled = 0\n",
    "for scenario in scenarios:\n",
    "    ax.bar(ind+width_filled-width*1.5, seg_df.loc[segs, scenario+'_inner'].values,\n",
    "           bottom=0, width=width,\n",
    "           label=scenario+' inner',\n",
    "           color=[colors_inner[scenario] for _ in segments])\n",
    "    ax.bar(ind+width_filled-width*1.5, seg_df.loc[segs, scenario+'_inter'].values,\n",
    "           bottom=seg_df.loc[segs, scenario+'_inner'].values,\n",
    "           width=width,\n",
    "           label=scenario+' inter',\n",
    "           hatch='////',\n",
    "           color=[colors_inter[scenario] for _ in segments])\n",
    "    width_filled += width\n",
    "ax.set_ylabel('trip frequency')\n",
    "ax.set_xticks(ind, segs, rotation=90)\n",
    "h, l = ax.get_legend_handles_labels()\n",
    "ax.legend(h[::-1], l[::-1])\n",
    "plt.savefig(output_path + '_scenario_validation/inner-inter_shares.png', dpi=dpi, bbox_inches=\"tight\")"
   ]
  },
  {
   "cell_type": "markdown",
   "metadata": {},
   "source": [
    "### Distance distribution\n",
    "\n",
    "inter-zonal trips"
   ]
  },
  {
   "cell_type": "code",
   "execution_count": null,
   "metadata": {},
   "outputs": [],
   "source": [
    "# Define distance classes\n",
    "#bins = [0, 10, 20, 30, 40, 50, 60, 70, 80, 90, 100, 120, 150, 200, 300, 500, 1000]\n",
    "#labels = ['{}-{}km'.format(bins[i], bins[i+1]) for i in range(len(bins)-1)]\n",
    "bins = list(range(0,1020, 10))\n",
    "labels = bins[:-1]\n",
    "for scenario in scenarios:\n",
    "    vol = vols[scenario].volumes\n",
    "    vol['dist'] = vol.set_index(['origin', 'destination']).index.map(distances.to_dict()['length'])\n",
    "    vol['bins'] = pd.cut(vol['dist'], bins=bins, labels=labels)"
   ]
  },
  {
   "cell_type": "code",
   "execution_count": null,
   "metadata": {},
   "outputs": [],
   "source": [
    "# Sum up volumes\n",
    "vol_df = pd.DataFrame()\n",
    "for scenario in scenarios:\n",
    "    vol_df[[scenario+' '+seg for seg in segments]] = vols[scenario].volumes.groupby('bins')[segments].sum()\n",
    "    vol_df[scenario] = vol_df[[scenario+' '+seg for seg in segments]].sum(axis=1)\n",
    "    vol_df[scenario+' sum with car'] = vol_df[[scenario+' '+seg for seg in segments if not '_no_car' in seg]].sum(axis=1)\n",
    "    vol_df[scenario+' sum without car'] = vol_df[[scenario+' '+seg for seg in segments if '_no_car' in seg]].sum(axis=1)"
   ]
  },
  {
   "cell_type": "code",
   "execution_count": null,
   "metadata": {},
   "outputs": [],
   "source": [
    "# plot total\n",
    "ax = vol_df[[s for s in scenarios]].plot(kind='area', stacked=False, logx=True,\n",
    "                                         alpha=.4, colormap=cmap, figsize=(12,4))\n",
    "ax.set_xlabel('logarithmic distance [km]')\n",
    "ax.set_ylabel('trip frequency')\n",
    "'''# zoom into longer trips\n",
    "x1 = 200\n",
    "x2 = 1000\n",
    "y1 = 0\n",
    "y2 = 1e6\n",
    "axins = zoomed_inset_axes(ax, 2, loc=1) # zoom = 2\n",
    "vol_df[[s for s in scenarios]].plot(kind='area', stacked=False, logx=True,\n",
    "                                    alpha=.4, colormap=cmap, ax=axins)\n",
    "axins.set_xlim(x1, x2)\n",
    "axins.set_ylim(y1, y2)\n",
    "plt.xticks(visible=False)\n",
    "plt.yticks(visible=False)\n",
    "mark_inset(ax, axins, loc1=2, loc2=4, fc=\"none\", ec=\"0.5\")'''\n",
    "\n",
    "plt.savefig(output_path + '_scenario_validation/distance_distribution_total.png', dpi=dpi)"
   ]
  },
  {
   "cell_type": "code",
   "execution_count": null,
   "metadata": {},
   "outputs": [],
   "source": [
    "# plot with CC\n",
    "fig, ax1 = plt.subplots(figsize=(12,4))\n",
    "ind = list(range(0,1020, 10))[:-1]\n",
    "for scenario in scenarios:\n",
    "    ax1.plot(ind, vol_df[scenario], color=colors4[scenario])\n",
    "    ax1.fill_between(ind, 0, vol_df[scenario], color=colors4[scenario], alpha=.3)\n",
    "ax1.set_ylabel('trip frequency')\n",
    "\n",
    "ax2 = ax1.twinx()\n",
    "for scenario in scenarios:\n",
    "    mean_cc = cc[scenario].loc[cc[scenario].notna().all(axis=1)\n",
    "                              ].groupby('bins')[segments].mean().mean(axis=1)\n",
    "    mean_cc[1000] = mean_cc[990]\n",
    "    ax2.plot(ind, mean_cc,\n",
    "             label=scenario, color=colors4[scenario])\n",
    "ax2.set_ylabel('perceived travel cost')\n",
    "ax2.set_yticks([])\n",
    "\n",
    "ax1.set_xlabel('logarithmic distance [km]')\n",
    "ax1.set_xscale('log')\n",
    "#ax_upper = ax1.secondary_xaxis('top')\n",
    "#ax_upper.set_xlabel('perceived travel cost: distance [km]')\n",
    "ax2.legend(loc='upper center')\n",
    "plt.savefig(output_path + '_scenario_validation/distance_distribution_total_cc.png', dpi=dpi)"
   ]
  },
  {
   "cell_type": "code",
   "execution_count": null,
   "metadata": {},
   "outputs": [],
   "source": [
    "# plot by car availability\n",
    "fig, ax = plt.subplots(ncols=2, nrows=1, figsize=(12,4))\n",
    "vol_df[[s+' sum without car' for s in scenarios]].plot(kind='area', stacked=False, logx=True,\n",
    "                                                       colormap=cmap, alpha=.4, ax=ax[0])\n",
    "vol_df[[s+' sum with car' for s in scenarios]].plot(kind='area', stacked=False, logx=True,\n",
    "                                                    colormap=cmap, alpha=.4, ax=ax[1])\n",
    "ax[0].set_xlabel(None)\n",
    "ax[1].set_xlabel(None)\n",
    "ax[0].set_ylabel('trip frequency')\n",
    "ax[0].tick_params(axis=\"x\", rotation=50)\n",
    "ax[1].tick_params(axis=\"x\", rotation=50)\n",
    "plt.savefig(output_path + '_scenario_validation/distance_distribution_car_ownership.png', dpi=dpi)"
   ]
  },
  {
   "cell_type": "code",
   "execution_count": null,
   "metadata": {
    "scrolled": false
   },
   "outputs": [],
   "source": [
    "# plot by segment\n",
    "fig, ax = plt.subplots(ncols=1, nrows=len(segments), figsize=(12,len(segments)*3), sharex='all')\n",
    "i = 0\n",
    "for seg in segments:\n",
    "    vol_df[[scenario+' '+seg for scenario in scenarios]].plot(kind='area', stacked=False, logx=True,\n",
    "                                                              colormap=cmap, alpha=.4, ax=ax[i])\n",
    "    i += 1"
   ]
  },
  {
   "cell_type": "markdown",
   "metadata": {},
   "source": [
    "# Modal split\n",
    "\n",
    "by main mode. Inter-zonal (i.e. no local transport)"
   ]
  },
  {
   "cell_type": "code",
   "execution_count": null,
   "metadata": {},
   "outputs": [],
   "source": [
    "# Load probabilities and merge with volumes to create an OD matrix\n",
    "ods = {}\n",
    "for scenario in scenarios:\n",
    "    # inter-zonal\n",
    "    sm = stepmodel.read_zippedpickles(model_path + scenario + '/de_logit')\n",
    "    od = sm.probabilities.set_index(['origin', 'destination', 'segment'])\\\n",
    "        .drop(columns=['root'], errors='ignore').unstack('segment')\n",
    "    modes = set(od.columns.get_level_values(0))\n",
    "    if len(['rail' for mode in modes if 'rail' in mode]) > 1:\n",
    "        od.drop('rail', axis=1, inplace=True)\n",
    "    if len(['car' for mode in modes if 'car' in mode]) > 1:\n",
    "        od.drop('car', axis=1, inplace=True)\n",
    "    vol = vols[scenario].volumes.loc[\n",
    "        vols[scenario].volumes['origin']!=vols[scenario].volumes['destination']\n",
    "    ].set_index(['origin', 'destination']).drop(columns=['bins', 'dist', 'index'], errors='ignore')\n",
    "    for mode in set(od.columns.get_level_values(0)):\n",
    "        od[mode] = od[mode] * vol\n",
    "    ods[scenario] = od\n",
    "    assert np.round(od.sum().sum(), 0) == np.round(vol.sum().sum(), 0), \\\n",
    "        'Mode choice probabilities do not sum up to one per OD pair and segment'\n",
    "    del sm\n",
    "    # inner-zonal\n",
    "    #inner = pd.read_excel(output_path + scenario + '/inner-zone.xlsx', sheet_name='agg')\n",
    "    #inner"
   ]
  },
  {
   "cell_type": "code",
   "execution_count": null,
   "metadata": {},
   "outputs": [],
   "source": [
    "# Modal split total between zones\n",
    "# Layer thickness represents total volumes between zones\n",
    "# Multiple ring plot\n",
    "fig, ax = plt.subplots(figsize=(6,6), layout='tight')\n",
    "ref_trips_sum = seg_df[[scenario_ref+suffix for suffix in ['_inter', '_inner']]].sum().sum()\n",
    "width_sum = sum([seg_df[[scenario+suffix for suffix in ['_inter', '_inner']]].sum().sum()\n",
    "                 for scenario in scenarios]) * 1.3 # for empty space in the middle\n",
    "width_filled = 0\n",
    "for scenario in scenarios[::-1]:\n",
    "    width = seg_df[[scenario+suffix for suffix in ['_inter', '_inner']]].sum().sum() / width_sum\n",
    "    values = ods[scenario].stack('segment').sum().T.rename(index={'walk': 'non-motorised'})\n",
    "    values = values.loc[[mode for mode in colormap.keys() if mode in values.index]]\n",
    "    pie, _ = ax.pie(values,\n",
    "                    labels=values.index if scenario==scenarios[-1] else None,\n",
    "                    radius=1-width_filled,\n",
    "                    colors=[colormap[mode] for mode in values.index]\n",
    "                   )\n",
    "    plt.setp(pie, width=width, edgecolor='white')\n",
    "    width_filled += width\n",
    "    percent = round(seg_df[[scenario+suffix for suffix in ['_inter', '_inner']]].sum().sum()\n",
    "                    / ref_trips_sum * 100)\n",
    "    text = scenario+' ({}%)'.format(percent)\n",
    "    ax.annotate(text,\n",
    "                xy=(-len(text)*0.0185, (1-width_filled)+0.06),\n",
    "                bbox=dict(boxstyle=\"round\", fc=\"white\", lw=None, alpha=.8)\n",
    "    )\n",
    "plt.savefig(output_path + '_scenario_validation/modal_split_trips.png', dpi=dpi)"
   ]
  },
  {
   "cell_type": "code",
   "execution_count": null,
   "metadata": {},
   "outputs": [],
   "source": [
    "# Define distance classes\n",
    "bins = [0, 20, 30, 40, 50, 60, 70, 80, 100, 200, 1000]\n",
    "labels = ['{}-{}km'.format(bins[i], bins[i+1]) for i in range(len(bins)-1)]\n",
    "for s in scenarios:\n",
    "    ods[s]['dist'] = ods[s].merge(distances, how='left', left_index=True, right_index=True)['length']\n",
    "    ods[s]['bins'] = pd.cut(ods[s]['dist'], bins=bins, labels=labels)\n",
    "    ods[s].drop('dist', axis=1, inplace=True)"
   ]
  },
  {
   "cell_type": "code",
   "execution_count": null,
   "metadata": {
    "scrolled": false
   },
   "outputs": [],
   "source": [
    "# Bar plot with distance distribution and mode shares\n",
    "# max. dimensions: 14x19.5\n",
    "fig, ax = plt.subplots(nrows=len(purposes), ncols=len(scenarios), figsize=(14,len(purposes)*3.1),\n",
    "                       sharex='col', sharey='row')\n",
    "j = 0\n",
    "width = 0.4\n",
    "ind = np.arange(len(labels))\n",
    "for scenario in scenarios:\n",
    "    for i in range(len(purposes)):\n",
    "        od = ods[scenario].groupby('bins').sum().swaplevel(0,1, axis=1)[\n",
    "            [s for s in segments if purposes[i] in s]\n",
    "        ].stack('route_type').sum(axis=1).unstack('route_type').rename(\n",
    "            columns={'walk': 'non-motorised'})\n",
    "        modes = [m for m in colormap.keys() if m in od.columns]\n",
    "        od = od[modes]\n",
    "        for m in range(len(modes)):\n",
    "            ax[i,j].bar(ind+width_filled, od[modes[m]].values,\n",
    "                        bottom=od.iloc[:, :m].sum(axis=1).values if m>0 else 0,\n",
    "                        width=width, tick_label=labels,\n",
    "                        color=colormap[modes[m]],\n",
    "                        label=modes[m])\n",
    "        ax[i,0].set_ylabel(purposes[i])\n",
    "    ax[0,j].set_title(scenario)\n",
    "    ax[-1,j].tick_params(axis=\"x\", rotation=90)\n",
    "    j += 1\n",
    "h, l = ax[-2,0].get_legend_handles_labels()\n",
    "ax[0,-1].legend([h[l.index(m)] for m in colormap.keys() if m in l][::-1],\n",
    "                [m for m in colormap.keys() if m in l][::-1])\n",
    "plt.savefig(output_path + '_scenario_validation/modal_split_distance_segmented.png',\n",
    "            dpi=dpi, bbox_inches=\"tight\")"
   ]
  },
  {
   "cell_type": "code",
   "execution_count": null,
   "metadata": {},
   "outputs": [],
   "source": [
    "# Bar plot with distance distribution - total\n",
    "fig, ax = plt.subplots(nrows=1, ncols=1, figsize=(14,4))\n",
    "width_filled = 0\n",
    "width = 1/len(scenarios) - 0.1\n",
    "ind = np.arange(len(labels))\n",
    "for scenario in scenarios:\n",
    "    od = ods[scenario].stack('segment').fillna(method='bfill').\\\n",
    "        groupby('bins').sum().reindex(labels).rename(\n",
    "            columns={'walk': 'non-motorised'})\n",
    "    modes = [m for m in colormap.keys() if m in od.columns]\n",
    "    od = od[modes]\n",
    "    for m in range(len(modes)):\n",
    "        ax.bar(ind+width_filled, od[modes[m]].values,\n",
    "               bottom=od.iloc[:, :m].sum(axis=1).values if m>0 else 0,\n",
    "               width=width, tick_label=labels,\n",
    "               color=colormap[modes[m]],\n",
    "               label=modes[m])#+' '+scenario)\n",
    "    ax.annotate(scenario, xy=(width_filled+ind[-1]-width/4, 8e8),\n",
    "                rotation=90, fontsize=7.5)\n",
    "    width_filled += width\n",
    "ax.set_ylabel('Number of trips per year')\n",
    "h, l = ax.get_legend_handles_labels()\n",
    "ax.legend([h[l.index(m)] for m in colormap.keys() if m in l][::-1],\n",
    "          [m for m in colormap.keys() if m in l][::-1])\n",
    "plt.savefig(output_path + '_scenario_validation/modal_split_distance_total.png',\n",
    "            dpi=dpi, bbox_inches=\"tight\")"
   ]
  },
  {
   "cell_type": "code",
   "execution_count": null,
   "metadata": {},
   "outputs": [],
   "source": [
    "# Bar plot with distance distribution - total\n",
    "fig, ax = plt.subplots(nrows=1, ncols=len(scenarios), figsize=(14,4),\n",
    "                       sharex='col', sharey='row')\n",
    "width = 0.4\n",
    "ind = np.arange(len(labels))\n",
    "i = 0\n",
    "for scenario in scenarios:\n",
    "    od = ods[scenario].stack('segment').fillna(method='bfill').\\\n",
    "        groupby('bins').sum().reindex(labels).rename(\n",
    "            columns={'walk': 'non-motorised'})\n",
    "    modes = [m for m in colormap.keys() if m in od.columns]\n",
    "    od = od[modes]\n",
    "    for m in range(len(modes)):\n",
    "        ax[i].bar(ind+width_filled, od[modes[m]].values,\n",
    "                  bottom=od.iloc[:, :m].sum(axis=1).values if m>0 else 0,\n",
    "                  width=width, tick_label=labels,\n",
    "                  color=colormap[modes[m]],\n",
    "                  label=modes[m])\n",
    "    ax[i].set_title(scenario)\n",
    "    ax[i].tick_params(axis=\"x\", rotation=90)\n",
    "    i += 1\n",
    "ax[0].set_ylabel('Number of trips per year')\n",
    "h, l = ax[0].get_legend_handles_labels()\n",
    "ax[-1].legend([h[l.index(m)] for m in colormap.keys() if m in l][::-1],\n",
    "             [m for m in colormap.keys() if m in l][::-1])\n",
    "plt.savefig(output_path + '_scenario_validation/modal_split_distance_total.png',\n",
    "            dpi=dpi, bbox_inches=\"tight\")"
   ]
  },
  {
   "cell_type": "code",
   "execution_count": null,
   "metadata": {},
   "outputs": [],
   "source": [
    "# Bar plot with distance distribution - by urbanisation\n",
    "urbanisations = set(ref.zones['urbanisation'])\n",
    "fig, ax = plt.subplots(nrows=len(urbanisations), ncols=1, figsize=(14,4*len(urbanisations)))\n",
    "width_filled = 0\n",
    "width = 1/len(scenarios) - 0.1\n",
    "ind = np.arange(len(labels))\n",
    "for scenario in scenarios:\n",
    "    for u in urbanisations:\n",
    "        origins = ref.zones.loc[ref.zones['urbanisation']==u].index\n",
    "        od = ods[scenario].loc[ods[scenario].index.get_level_values(0).isin(origins)].\\\n",
    "            stack('segment').fillna(method='bfill').\\\n",
    "            groupby('bins').sum().reindex(labels).rename(\n",
    "                columns={'walk': 'non-motorised'})\n",
    "        modes = [m for m in colormap.keys() if m in od.columns]\n",
    "        od = od[modes]\n",
    "        for m in range(len(modes)):\n",
    "            ax[u-1].bar(ind+width_filled, od[modes[m]].values,\n",
    "                       bottom=od.iloc[:, :m].sum(axis=1).values if m>0 else 0,\n",
    "                       width=width, tick_label=labels,\n",
    "                       color=colormap[modes[m]],\n",
    "                       label=modes[m])#+' '+scenario)\n",
    "        ax[u-1].annotate(scenario, xy=(width_filled+ind[-1]-width/4, 8e8),\n",
    "                         rotation=90, fontsize=7.5)\n",
    "        ax[u-1].set_ylabel('Number of trips per year urbanisation={}'.format(u))\n",
    "    width_filled += width\n",
    "h, l = ax[0].get_legend_handles_labels()\n",
    "ax[0].legend([h[l.index(m)] for m in colormap.keys() if m in l][::-1],\n",
    "             [m for m in colormap.keys() if m in l][::-1])"
   ]
  },
  {
   "cell_type": "markdown",
   "metadata": {},
   "source": [
    "# Passenger kilometre\n",
    "\n",
    "pkm = #trips * distance\n",
    "\n",
    "Take network loads (not main mode)"
   ]
  },
  {
   "cell_type": "code",
   "execution_count": null,
   "metadata": {},
   "outputs": [],
   "source": [
    "# Load pkm\n",
    "pkm = {}\n",
    "for s in scenarios:\n",
    "    df = pd.read_csv(output_path + s + '/pkm.csv')\n",
    "    df = df.set_index(['origin', 'mode']).unstack('mode')['pkm'].dropna(how='all').fillna(0)\n",
    "    pkm[s] = df[[mode for mode in df.columns if df[mode].sum()>df.sum().sum()*0.001]]"
   ]
  },
  {
   "cell_type": "code",
   "execution_count": null,
   "metadata": {},
   "outputs": [],
   "source": [
    "# Pkm mode shares\n",
    "# Pie size represents total pkm\n",
    "all_sum = sum([pkm[s].sum().sum() for s in scenarios])\n",
    "fig, ax = plt.subplots(nrows=1, ncols=len(scenarios), figsize=(len(scenarios)*4,4),\n",
    "                       gridspec_kw={'width_ratios':\n",
    "                                    [pkm[s].sum().sum() / all_sum for s in scenarios]\n",
    "                                   })\n",
    "for i in range(len(scenarios)):\n",
    "    pkm[scenarios[i]].sum().plot.pie(ax=ax[i], ylabel=scenarios[i],\n",
    "                                     colors=[colormap[m] for m in pkm[scenarios[i]].rename(\n",
    "                                         columns={'walk': 'non-motorised'}).columns])"
   ]
  },
  {
   "cell_type": "code",
   "execution_count": null,
   "metadata": {},
   "outputs": [],
   "source": [
    "# Pkm as bar plot\n",
    "fig, ax = plt.subplots(figsize=(6,4))\n",
    "pkm_df = pd.DataFrame()\n",
    "for s in scenarios:\n",
    "    pkm_df[s] = pkm[s].sum()\n",
    "pkm_df.loc['air_domestic', scenario_ref] = 10.4e9\n",
    "pkm_df = pkm_df.rename(index={'walk': 'non-motorised'}).fillna(0)\n",
    "modes = [m for m in colormap.keys() if m in pkm_df.index]\n",
    "pkm_df.T[modes].plot.bar(stacked=True, ax=ax, legend=None,\n",
    "                         color=[colormap[m] for m in modes])\n",
    "ax.set_ylabel('pkm/a')\n",
    "h,l = ax.get_legend_handles_labels()\n",
    "plt.legend(h[::-1], l[::-1], loc='lower left')\n",
    "plt.savefig(output_path + '_scenario_validation/modal_split_pkm.png', dpi=dpi, bbox_inches = \"tight\")"
   ]
  },
  {
   "cell_type": "code",
   "execution_count": null,
   "metadata": {},
   "outputs": [],
   "source": [
    "# Pkm as bar plot by urbanisation\n",
    "urb = list(ref.zones['urbanisation'].unique())\n",
    "urb.sort()\n",
    "fig, ax = plt.subplots(nrows=1, ncols=len(urb), figsize=(4*len(urb),3.5), sharey='all')\n",
    "pkm_df_pop = pd.DataFrame()\n",
    "for u in urb:\n",
    "    zones = list(ref.zones.loc[ref.zones['urbanisation']==u, 'NUTS_ID'])\n",
    "    for s in scenarios:\n",
    "        pkm_df_pop[s] = pkm[s].loc[zones].sum() \\\n",
    "            / ref.zones.loc[ref.zones['NUTS_ID'].isin(zones), 'population'].sum()\n",
    "    pkm_df_pop = pkm_df_pop.rename(index={'walk': 'non-motorised'}).fillna(0)\n",
    "    modes = [m for m in colormap.keys() if m in pkm_df_pop.index]\n",
    "    pkm_df_pop.T[modes].plot.bar(stacked=True, ax=ax[u-1], legend=None,\n",
    "                                 color=[colormap[m] for m in modes])\n",
    "    ax[u-1].set_title('urban.={}'.format(u))\n",
    "ax[0].set_ylabel('pkm/cap./a')\n",
    "h,l = ax[0].get_legend_handles_labels()\n",
    "ax[0].legend(h[::-1], l[::-1], loc='upper left')"
   ]
  },
  {
   "cell_type": "code",
   "execution_count": null,
   "metadata": {},
   "outputs": [],
   "source": [
    "# Pkm as bar plot by urbanisation\n",
    "fig, ax = plt.subplots(nrows=1, ncols=len(scenarios), figsize=(14,4),\n",
    "                       sharex='col', sharey='row')\n",
    "width = 0.4\n",
    "ind = np.arange(len(urb))\n",
    "i = 0\n",
    "for scenario in scenarios:\n",
    "    df = pd.DataFrame()\n",
    "    for u in urb:\n",
    "        zones = list(ref.zones.loc[ref.zones['urbanisation']==u, 'NUTS_ID'])\n",
    "        df[u] = pkm[scenario].loc[zones].sum() \\\n",
    "            / ref.zones.loc[ref.zones['NUTS_ID'].isin(zones), 'population'].sum()\n",
    "    df = df.rename(index={'walk': 'non-motorised'})\n",
    "    modes = [m for m in colormap.keys() if m in df.index]\n",
    "    df = df.fillna(0).T[modes]\n",
    "    for m in range(len(modes)):\n",
    "        ax[i].bar(ind, df[modes[m]].values,\n",
    "                  bottom=df.iloc[:, :m].sum(axis=1).values if m>0 else 0,\n",
    "                  width=width, tick_label=['urban', 'suburban', 'rural'],\n",
    "                  color=colormap[modes[m]],\n",
    "                  label=modes[m])\n",
    "    ax[i].set_title(scenario)\n",
    "    ax[i].tick_params(axis=\"x\", rotation=90)\n",
    "    i += 1\n",
    "ax[0].set_ylabel('pkm per capita per year')\n",
    "h, l = ax[0].get_legend_handles_labels()\n",
    "ax[-1].legend([h[l.index(m)] for m in colormap.keys() if m in l][::-1],\n",
    "             [m for m in colormap.keys() if m in l][::-1])\n",
    "plt.savefig(output_path + '_scenario_validation/pkm_urbanisation.png',\n",
    "            dpi=dpi, bbox_inches=\"tight\")"
   ]
  },
  {
   "cell_type": "markdown",
   "metadata": {},
   "source": [
    "### Energy demand\n",
    "\n",
    "Energy intensities depend on the transport technology and its propulsion system. There  are the following data sets available:\n",
    "* TREMOD (Transport Emission Model; underlying values come from HBEFA (Handbuch Emissionsfaktoren)): \"Aktualisierung der Modelle TREMOD/TREMOD-MM für die Emissionsberichterstattung 2020 (Berichtsperiode 1990-2018)\", 2020\n",
    "* better overview of TREMOD data for today here: https://www.umweltbundesamt.de/daten/verkehr/endenergieverbrauch-energieeffizienz-des-verkehrs#spezifischer-energieverbrauch-sinkt\n",
    "* Easy diagrams for today here: https://www.allianz-pro-schiene.de/presse/pressemitteilungen/ferienstart-im-umweltvergleich-liegt-die-bahn-vorn/\n",
    "* Projections for 2050 (choosing figures for fully electrified drivetrains): Robinius, M. et al. (2020). Kosteneffiziente und Klimagerechte Transformationsstrategien für das deutsche Energiesystem bis zum Jahr 2050. Jülich.\n",
    "* Maximum efficiency assumptions for 2050: Millward-Hopkins, J., Steinberger, J. K., Rao, N. D., & Oswald, Y. (2020). Providing decent living with minimum energy: A global scenario. Global Environmental Change, 65, 102168. https://doi.org/10.1016/j.gloenvcha.2020.102168\n",
    "\n",
    "None of the sources provides a comprehensive picture. The final energy demand ist of interest (without conversion losses in the energy supply chain)."
   ]
  },
  {
   "cell_type": "code",
   "execution_count": null,
   "metadata": {},
   "outputs": [],
   "source": [
    "# final energy demands in kWh/pkm\n",
    "intensity = pd.DataFrame(index=['air_domestic', 'air_international',\n",
    "                                'bus', 'car', 'coach', 'rail_long', 'rail_short',\n",
    "                                'non-motorised'],\n",
    "                         data={'2020': [# From UBA TREMOD\n",
    "                                        2.76/3.6,\n",
    "                                        2.5/3.6,\n",
    "                                        0.9/3.6,\n",
    "                                        2.14/3.6,\n",
    "                                        0.41/3.6,\n",
    "                                        0.51/3.6,\n",
    "                                        0.86/3.6,\n",
    "                                        0],\n",
    "                               '2050': [2.76/3.6, # from today\n",
    "                                        2.5/3.6, # from today\n",
    "                                        # From Robinius et al. (2020) [kWh/pkm]\n",
    "                                        1/10.626, # Battery-electric bus\n",
    "                                        1/7.143, # BEV with occ=1.5 --> adjust to scenario\n",
    "                                        1/10.626, # Battery-electric bus\n",
    "                                        1/23.419, # Electric train\n",
    "                                        1/23.419, # Electric train\n",
    "                                        0],\n",
    "                               '2050_eff': [# From Millward-Hopkins et al. (2020) [MJ/pkm-->kWh/pkm]\n",
    "                                            0.98/3.6,\n",
    "                                            0.98/3.6,\n",
    "                                            0.18/3.6,\n",
    "                                            0.35/3.6,\n",
    "                                            0.18/3.6,\n",
    "                                            0.06/3.6,\n",
    "                                            0.06/3.6,\n",
    "                                            0]\n",
    "                              })"
   ]
  },
  {
   "cell_type": "code",
   "execution_count": null,
   "metadata": {},
   "outputs": [],
   "source": [
    "# Calculate energy demand\n",
    "scaler = 1e9\n",
    "demand = pd.DataFrame()\n",
    "for s in scenarios:\n",
    "    demand[s] = pkm_df[s] * intensity['2050'] / scaler\n",
    "    params = excel.read_var(file='../input/parameters.xls', scenario=s)\n",
    "    demand.loc['car', s] /= params['car_occ']['all'] / 1.5\n",
    "demand = demand.fillna(0)"
   ]
  },
  {
   "cell_type": "code",
   "execution_count": null,
   "metadata": {},
   "outputs": [],
   "source": [
    "# Energy demand lowering potential\n",
    "demand.sum() / demand[scenario_ref].sum()"
   ]
  },
  {
   "cell_type": "code",
   "execution_count": null,
   "metadata": {},
   "outputs": [],
   "source": [
    "# Plot pkm and energy together\n",
    "fig, ax1 = plt.subplots(figsize=(6,4))\n",
    "width = 0.2\n",
    "modes = [m for m in colormap.keys() if m in pkm_df.index]\n",
    "pkm_df.T[modes].plot.bar(stacked=True, ax=ax1, legend=None,\n",
    "                         color=[colormap[m] for m in modes],\n",
    "                         width=width, position=1)\n",
    "ax1.set_ylabel('pkm/a')\n",
    "ax2 = ax1.twinx()\n",
    "modes = [m for m in colormap.keys() if m in demand.index and m!='non-motorised']\n",
    "demand.T[modes].plot.bar(stacked=True, ax=ax2, legend=None,\n",
    "                         color=[colormap[m] for m in modes],\n",
    "                         width=width, position=0)\n",
    "ax2.set_ylabel('TWh/a')\n",
    "h,l = ax1.get_legend_handles_labels()\n",
    "plt.legend(h[::-1], l[::-1], loc='upper left', bbox_to_anchor=(-0.03, 1.25), ncol=4)\n",
    "bars1 = ax1.patches\n",
    "for bar in bars1:\n",
    "    bar.set_hatch('.')\n",
    "bars2 = ax2.patches\n",
    "for bar in bars2:\n",
    "    bar.set_hatch('//')\n",
    "plt.savefig(output_path + '_scenario_validation/modal_split_energy_demand_pkm.png', dpi=dpi,\n",
    "            bbox_inches=\"tight\")"
   ]
  },
  {
   "cell_type": "code",
   "execution_count": null,
   "metadata": {},
   "outputs": [],
   "source": [
    "# Compare to\n",
    "# - 2050 global sufficiency scenario from Millward-Hopkins et al. 2020\n",
    "pop = 80103978\n",
    "pkm_millward_hop = pd.Series({'air_domestic': 0,\n",
    "                             'air_international': 0,#1067*pop,\n",
    "                             'bus': 2714/2*pop,\n",
    "                             'car': 679*pop,\n",
    "                             'coach': 0,\n",
    "                             'rail_long': (2714-2000)/2*pop,\n",
    "                             'rail_short': 1000*pop,\n",
    "                             'non-motorised': 1251*pop})\n",
    "demand_comp = demand.copy()\n",
    "demand_comp['Millward-Hopkins\\n et al. 2020 Germany'\n",
    "           ] = pkm_millward_hop * intensity['2050'] / scaler\n",
    "demand_comp.sum()"
   ]
  },
  {
   "cell_type": "code",
   "execution_count": null,
   "metadata": {},
   "outputs": [],
   "source": [
    "# energy demand compared\n",
    "fig, ax = plt.subplots(figsize=(6,4))\n",
    "modes = [m for m in colormap.keys() if m in demand.index and m!='non-motorised']\n",
    "demand_comp.T[modes].plot.bar(stacked=True, ax=ax, legend=None,\n",
    "                              color=[colormap[m] for m in modes])\n",
    "ax.set_ylabel('PJ/a')\n",
    "h,l = ax.get_legend_handles_labels()\n",
    "plt.legend(h[::-1], l[::-1], loc='lower left')\n",
    "plt.savefig(output_path + '_scenario_validation/energy_demand_compared.png', dpi=dpi,\n",
    "            bbox_inches=\"tight\")"
   ]
  },
  {
   "cell_type": "code",
   "execution_count": null,
   "metadata": {},
   "outputs": [],
   "source": [
    "# Plot pkm and energy together, compared to comparison\n",
    "fig, ax1 = plt.subplots(figsize=(6,4))\n",
    "width = 0.2\n",
    "pkm_comp = pkm_df.copy()\n",
    "pkm_comp['Millward-Hopkins\\n et al. 2020 Germany'] = pkm_millward_hop\n",
    "modes = [m for m in colormap.keys() if m in pkm_df.index]\n",
    "pkm_comp.T[modes].plot.bar(stacked=True, ax=ax1, legend=None,\n",
    "                           color=[colormap[m] for m in modes],\n",
    "                           width=width, position=1)\n",
    "ax1.set_ylabel('pkm/a')\n",
    "ax2 = ax1.twinx()\n",
    "modes = [m for m in colormap.keys() if m in demand.index and m!='non-motorised']\n",
    "demand_comp.T[modes].plot.bar(stacked=True, ax=ax2, legend=None,\n",
    "                              color=[colormap[m] for m in modes],\n",
    "                              width=width, position=0)\n",
    "ax2.set_ylabel('TWh/a')\n",
    "h,l = ax1.get_legend_handles_labels()\n",
    "plt.legend(h[::-1], l[::-1], loc='upper left', bbox_to_anchor=(-0.03, 1.25), ncol=4)\n",
    "bars1 = ax1.patches\n",
    "for bar in bars1:\n",
    "    bar.set_hatch('.')\n",
    "bars2 = ax2.patches\n",
    "for bar in bars2:\n",
    "    bar.set_hatch('//')\n",
    "plt.savefig(output_path + '_scenario_validation/modal_split_energy_demand_pkm_compared.png',\n",
    "            dpi=dpi, bbox_inches=\"tight\")"
   ]
  },
  {
   "cell_type": "markdown",
   "metadata": {},
   "source": [
    "## Regional differences"
   ]
  },
  {
   "cell_type": "code",
   "execution_count": null,
   "metadata": {},
   "outputs": [],
   "source": [
    "# Prepare zones to plot\n",
    "zones = ref.zones.groupby('NUTS_ID').agg({'geometry': lambda g: g.unary_union,\n",
    "                                          'population': 'sum', 'area': 'sum'})\n",
    "zones = zones.set_crs(ref.epsg).to_crs(3857)"
   ]
  },
  {
   "cell_type": "code",
   "execution_count": null,
   "metadata": {},
   "outputs": [],
   "source": [
    "# Map the traffic intensity\n",
    "# Grey areas are not modelled due to random sampling of OD pairs\n",
    "fig, ax = plt.subplots(nrows=1, ncols=len(scenarios)+1, figsize=(14, 5),\n",
    "                       gridspec_kw={'width_ratios': [len(scenarios)/(1-0.17)]*len(scenarios)+[0.17]})\n",
    "vmin = 0\n",
    "vmax = 0\n",
    "for i in range(len(scenarios)):\n",
    "    zones[scenarios[i]] = zones.merge(pkm[scenarios[i]].sum(axis=1).rename('pkm'),\n",
    "                                      how='right', left_index=True, right_index=True)['pkm']\n",
    "    if i == 0:\n",
    "        vmax = zones[scenarios[i]].max()\n",
    "        vmin = zones[scenarios[i]].min()\n",
    "    plot = zones.plot(column=scenarios[i], colormap='Reds', missing_kwds={'color': 'lightgrey'},\n",
    "                      vmin=vmin, vmax=vmax, legend=False, ax=ax[i])\n",
    "    ax[i].set_title(scenarios[i])\n",
    "    ax[i].set_axis_off()\n",
    "fig.colorbar(ax[0].collections[0], cax=ax[-1], label=\"pkm per year\")\n",
    "plt.savefig(output_path + '_scenario_validation/map_pkm.png', dpi=dpi, bbox_inches=\"tight\")"
   ]
  },
  {
   "cell_type": "code",
   "execution_count": null,
   "metadata": {},
   "outputs": [],
   "source": [
    "# Map the traffic intensity divided by population\n",
    "fig, ax = plt.subplots(nrows=1, ncols=len(scenarios)+1, figsize=(14, 5),\n",
    "                       gridspec_kw={'width_ratios': [len(scenarios)/(1-0.17)]*len(scenarios)+[0.17]})\n",
    "vmin = 0\n",
    "vmax = 0\n",
    "for i in range(len(scenarios)):\n",
    "    zones[scenarios[i]] = zones.merge(pkm[scenarios[i]].sum(axis=1).rename('pkm'),\n",
    "                                      how='right', left_index=True, right_index=True)['pkm']\n",
    "    zones[scenarios[i]] /= zones['population']\n",
    "    if i == 0:\n",
    "        vmax = zones[scenarios[i]].max()\n",
    "        vmin = zones[scenarios[i]].min()\n",
    "    plot = zones.plot(column=scenarios[i], colormap='Reds', missing_kwds={'color': 'lightgrey'},\n",
    "                      vmin=vmin, vmax=vmax, legend=False, ax=ax[i])\n",
    "    ax[i].set_title(scenarios[i])\n",
    "    ax[i].set_axis_off()\n",
    "fig.colorbar(ax[0].collections[0], cax=ax[-1], label=\"pkm per capita per year\")\n",
    "plt.savefig(output_path + '_scenario_validation/map_pkm_population.png', dpi=dpi, bbox_inches=\"tight\")"
   ]
  },
  {
   "cell_type": "markdown",
   "metadata": {},
   "source": [
    "### Street traffic load"
   ]
  },
  {
   "cell_type": "code",
   "execution_count": null,
   "metadata": {},
   "outputs": [],
   "source": [
    "# Load assigned road networks\n",
    "roads = {}\n",
    "for s in scenarios:\n",
    "    sm = stepmodel.read_zippedpickles(model_path + s + '/de_assignment')\n",
    "    roads[s] = gpd.GeoDataFrame(sm.road_links.loc[sm.road_links['volume']>1], crs=ref.epsg)\n",
    "    del sm"
   ]
  },
  {
   "cell_type": "code",
   "execution_count": null,
   "metadata": {},
   "outputs": [],
   "source": [
    "# Map the road traffic\n",
    "fig, ax = plt.subplots(nrows=1, ncols=len(scenarios), figsize=(len(scenarios)*4, 5))\n",
    "scaler = 6e6\n",
    "for i in range(len(scenarios)):\n",
    "    roads[s] = roads[s].to_crs(zones.crs)\n",
    "    roads[s].plot(alpha=.3, color='red', linewidth=list(roads[s]['volume']/scaler),\n",
    "                  ax=zones.plot(alpha=.2, color='green', ax=ax[i]))\n",
    "    ax[i].set_title(scenarios[i])\n",
    "    ax[i].set_axis_off()"
   ]
  },
  {
   "cell_type": "code",
   "execution_count": null,
   "metadata": {},
   "outputs": [],
   "source": [
    "# Average mileage\n",
    "car_use = {'Average annual mileage': [], 'Private cars owned (mio.)': []}\n",
    "for s in scenarios:\n",
    "    params = excel.read_var(file='../input/parameters.xls', scenario=s)\n",
    "    car_use['Average annual mileage'].append(\n",
    "        np.round((roads[s]['volume']*roads[s]['length']/1000).sum()\n",
    "                 / params['car_occ']['all'] / params['vehicles']['car'], -2))\n",
    "    car_use['Private cars owned (mio.)'].append(np.round(params['vehicles']['car'] / 1e6, 1))\n",
    "pd.DataFrame(index=scenarios, data=car_use)#.to_latex()"
   ]
  },
  {
   "cell_type": "code",
   "execution_count": null,
   "metadata": {},
   "outputs": [],
   "source": []
  }
 ],
 "metadata": {
  "kernelspec": {
   "display_name": "Python 3 (ipykernel)",
   "language": "python",
   "name": "python3"
  },
  "language_info": {
   "codemirror_mode": {
    "name": "ipython",
    "version": 3
   },
   "file_extension": ".py",
   "mimetype": "text/x-python",
   "name": "python",
   "nbconvert_exporter": "python",
   "pygments_lexer": "ipython3",
   "version": "3.9.13"
  }
 },
 "nbformat": 4,
 "nbformat_minor": 4
}
