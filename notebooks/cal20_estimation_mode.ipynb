{
 "cells": [
  {
   "cell_type": "code",
   "execution_count": 1,
   "metadata": {},
   "outputs": [],
   "source": [
    "import sys # for automation and parallelisation\n",
    "manual, scenario = (True, 'base') if 'ipykernel' in sys.argv[0] else (False, sys.argv[1])\n",
    "if manual:\n",
    "    %matplotlib inline"
   ]
  },
  {
   "cell_type": "code",
   "execution_count": 2,
   "metadata": {},
   "outputs": [],
   "source": [
    "import biogeme.database as db\n",
    "import biogeme.biogeme as bio\n",
    "import biogeme.models as models\n",
    "import biogeme.messaging as message\n",
    "from biogeme import expressions as ex\n",
    "import pandas as pd\n",
    "import numpy as np\n",
    "from scipy import stats\n",
    "import xlsxwriter\n",
    "from quetzal.io import excel"
   ]
  },
  {
   "cell_type": "markdown",
   "metadata": {},
   "source": [
    "# Calibration\n",
    "## Estimation of the model parameters\n",
    "quetzal_germany is being estimated using [PandasBiogeme](https://biogeme.epfl.ch/). This notebook estimates calibration parameters for the model's utility functions.\n",
    "- Documentation and reference: [Bierlaire, M. (2020). A short introduction to PandasBiogeme. Technical report TRANSP-OR 200605. Transport and Mobility Laboratory, ENAC, EPFL.](https://transp-or.epfl.ch/documents/technicalReports/Bier20.pdf)\n",
    "- Tutorial: https://www.youtube.com/watch?v=OiM94B8WayA"
   ]
  },
  {
   "cell_type": "markdown",
   "metadata": {},
   "source": [
    "### Model formulation\n",
    "The model consists of systematic utility functions, one for each mode. They comprise an alternaive-specific constant (ASC), a distance-dependent part with travel time and cost, and a cost damping function F\n",
    "\n",
    "$V_{im} = ASC_{im} + F(T_m, b_{c_i}) + C_{m_i} b_{c_i}$\n",
    "\n",
    "Index i marks the demand group"
   ]
  },
  {
   "cell_type": "code",
   "execution_count": 3,
   "metadata": {},
   "outputs": [],
   "source": [
    "input_path = '../input/'\n",
    "model_path = '../model/'"
   ]
  },
  {
   "cell_type": "code",
   "execution_count": 4,
   "metadata": {},
   "outputs": [],
   "source": [
    "# Load parameters for settings\n",
    "params = excel.read_var(file='../input/parameters.xls', scenario=scenario)"
   ]
  },
  {
   "cell_type": "markdown",
   "metadata": {},
   "source": [
    "### Prepare the database"
   ]
  },
  {
   "cell_type": "code",
   "execution_count": 5,
   "metadata": {},
   "outputs": [],
   "source": [
    "df = pd.read_csv(input_path + 'transport_demand/calibration_inter-cellular_trips_MiD2017.csv')\n",
    "df = df[['cost_rail_short', 'cost_rail_long', 'cost_car', 'cost_coach', 'cost_bus', 'cost_walk', 'cost_air',\n",
    "         'time_rail_short', 'time_rail_long', 'time_car', 'time_coach', 'time_bus', 'time_walk', 'time_air',\n",
    "         'cost_rail', 'cost_road', 'time_rail', 'time_road',\n",
    "         'waiting_time_rail_short', 'waiting_time_rail_long', 'waiting_time_coach', 'waiting_time_bus', 'waiting_time_air',\n",
    "         'mode_model', 'purpose_model', 'car_avail', 'length', 'W_GEW']]\n",
    "df.columns = ['C_RAIL_Sc', 'C_RAIL_L', 'C_CAR', 'C_COACH', 'C_BUS', 'C_NON_MOTOR', 'C_AIR',\n",
    "              'T_RAIL_Sc', 'T_RAIL_L', 'T_CAR', 'T_COACH', 'T_BUS', 'T_NON_MOTOR', 'T_AIR',\n",
    "              'C_RAIL', 'C_ROAD', 'T_RAIL', 'T_ROAD',\n",
    "              'WT_RAIL_Sc', 'WT_RAIL_L', 'WT_COACH', 'WT_BUS', 'WT_AIR',\n",
    "              'MODE', 'PURPOSE', 'CAR_AV', 'DIST', 'W_GEW']"
   ]
  },
  {
   "cell_type": "code",
   "execution_count": 6,
   "metadata": {},
   "outputs": [],
   "source": [
    "# The estimation requires numerical purpose values\n",
    "p_dict = {'commuting':1, 'business':2, 'education':3, 'buy/execute':4, 'leisure':6, 'accompany':7}\n",
    "df['PURPOSE'] = df['PURPOSE'].apply(lambda s: p_dict[s.split('_')[0]])"
   ]
  },
  {
   "cell_type": "code",
   "execution_count": 7,
   "metadata": {},
   "outputs": [],
   "source": [
    "inf = 99999\n",
    "df = df.replace({np.inf:inf})"
   ]
  },
  {
   "cell_type": "code",
   "execution_count": 8,
   "metadata": {},
   "outputs": [],
   "source": [
    "# Scale time to hours\n",
    "df['T_RAIL_S'] = df['T_RAIL'] / 60\n",
    "df['T_RAIL_Sc_S'] = df['T_RAIL_Sc'] / 60\n",
    "df['T_RAIL_L_S'] = df['T_RAIL_L'] / 60\n",
    "df['T_CAR_S'] = df['T_CAR'] / 60\n",
    "df['T_COACH_S'] = df['T_COACH'] / 60\n",
    "df['T_BUS_S'] = df['T_BUS'] / 60\n",
    "df['T_ROAD_S'] = df['T_ROAD'] / 60\n",
    "df['T_AIR_S'] = df['T_AIR'] / 60\n",
    "df['T_NON_MOTOR_S'] = df['T_NON_MOTOR'] / 60"
   ]
  },
  {
   "cell_type": "code",
   "execution_count": 9,
   "metadata": {},
   "outputs": [],
   "source": [
    "# Scale waiting times from model seconds to minutes\n",
    "# and generate aggregated values\n",
    "df['WT_RAIL'] = (np.minimum(df['WT_RAIL_Sc'], df['WT_RAIL_L']) / 60).astype(int)\n",
    "df['WT_ROAD'] = (np.minimum(df['WT_COACH'], df['WT_BUS']) / 60).astype(int)\n",
    "df['WT_AIR'] = (df['WT_AIR'] / 60).astype(int)"
   ]
  },
  {
   "cell_type": "code",
   "execution_count": 10,
   "metadata": {},
   "outputs": [],
   "source": [
    "# Make car availability binary\n",
    "df['CAR_AV'] = df['CAR_AV'].replace({9:0})"
   ]
  },
  {
   "cell_type": "code",
   "execution_count": 11,
   "metadata": {},
   "outputs": [],
   "source": [
    "# Add PT availabilities\n",
    "df['RAIL_AV'] = (df['T_RAIL']!=inf).astype(int)\n",
    "df['RAIL_Sc_AV'] = (df['T_RAIL_Sc']!=inf).astype(int)\n",
    "df['RAIL_L_AV'] = (df['T_RAIL_L']!=inf).astype(int)\n",
    "df['COACH_AV'] = (df['T_COACH']!=inf).astype(int)\n",
    "df['BUS_AV'] = (df['T_BUS']!=inf).astype(int)\n",
    "df['ROAD_AV'] = (df['T_ROAD']!=inf).astype(int)\n",
    "df['AIR_AV'] = (df['T_AIR']!=inf).astype(int)\n",
    "df['NON_MOTOR_AV'] = (df['T_NON_MOTOR']!=inf).astype(int)"
   ]
  },
  {
   "cell_type": "code",
   "execution_count": 12,
   "metadata": {},
   "outputs": [],
   "source": [
    "# Merge rail and road PT\n",
    "#df['MODE'] = df['MODE'].replace({2:1, 3:4})"
   ]
  },
  {
   "cell_type": "code",
   "execution_count": 13,
   "metadata": {},
   "outputs": [
    {
     "name": "stdout",
     "output_type": "stream",
     "text": [
      "Share of car trips dropped: 0.011527377521613832\n",
      "132004\n"
     ]
    }
   ],
   "source": [
    "# Remove trips where mode is car but the car availability is zero\n",
    "# because it irritates the MLE algorithm\n",
    "mask = ((df['MODE']==6) & (df['CAR_AV']==0))\n",
    "drop_ratio = len(df.loc[mask])/len(df.loc[df['MODE']==6])\n",
    "lengths = list(df.loc[mask, 'DIST'])\n",
    "print('Share of car trips dropped: {}'.format(drop_ratio))\n",
    "df = df.loc[~mask]\n",
    "# Drop other modes equally\n",
    "#for m in [1,4]:\n",
    "#    n_drops = int(np.round(drop_ratio * len(df.loc[df['MODE']==m])))\n",
    "#    df = df.drop(df.loc[(df['MODE']==m) & (df['DIST']<max(lengths)) &\n",
    "#                        (df['DIST']>min(lengths))].sample(n_drops).index)\n",
    "#    print('Dropped ' + str(n_drops) + ' trips of mode ' + str(m))\n",
    "print(len(df))"
   ]
  },
  {
   "cell_type": "code",
   "execution_count": 14,
   "metadata": {},
   "outputs": [],
   "source": [
    "# Check that PT trips have no infinity cost\n",
    "for mode, col in zip([1, 4, 5], ['RAIL_AV', 'ROAD_AV', 'AIR_AV']):\n",
    "    assert len(df.loc[((df['MODE']==mode) & (df[col]==inf))].index) == 0, str(mode)"
   ]
  },
  {
   "cell_type": "markdown",
   "metadata": {},
   "source": [
    "### Model variables\n",
    "All columns are variables. DefineVariable creates a new column in the database."
   ]
  },
  {
   "cell_type": "markdown",
   "metadata": {},
   "source": [
    "#### Generalised cost\n",
    "\n",
    "Both, travel time and monetary cost should be affected by cost damping measures. It is logical to define a generalised cost term `GC` with dimension of time units. This requires definition or estimation of values of time, in order to rescale monetary units, for all segments. Usually, the value of time (VoT) is distance-dependent. In the case of Germany, VoT can be taken from research undertaken within the Federal Government's transport study \"Bundesverkehrswegeplan 2030\": Axhausen et al. 2015. Ermittlung von Bewertungsansätzen für Reisezeiten und Zuverlässigkeit auf der Basis eines Modells für modale Verlagerungen im nicht-gewerblichen und gewerblichen Personenverkehr für die Bundesverkehrswegeplanung"
   ]
  },
  {
   "cell_type": "code",
   "execution_count": 15,
   "metadata": {},
   "outputs": [
    {
     "data": {
      "text/html": [
       "<div>\n",
       "<style scoped>\n",
       "    .dataframe tbody tr th:only-of-type {\n",
       "        vertical-align: middle;\n",
       "    }\n",
       "\n",
       "    .dataframe tbody tr th {\n",
       "        vertical-align: top;\n",
       "    }\n",
       "\n",
       "    .dataframe thead tr th {\n",
       "        text-align: left;\n",
       "    }\n",
       "</style>\n",
       "<table border=\"1\" class=\"dataframe\">\n",
       "  <thead>\n",
       "    <tr>\n",
       "      <th></th>\n",
       "      <th>root</th>\n",
       "      <th>Fz1</th>\n",
       "      <th>Fz2</th>\n",
       "      <th>Fz3</th>\n",
       "      <th>Fz4</th>\n",
       "      <th>Fz6</th>\n",
       "      <th>root</th>\n",
       "      <th>Fz1</th>\n",
       "      <th>Fz2</th>\n",
       "      <th>Fz3</th>\n",
       "      <th>...</th>\n",
       "      <th>Fz2</th>\n",
       "      <th>Fz3</th>\n",
       "      <th>Fz4</th>\n",
       "      <th>Fz6</th>\n",
       "      <th>root</th>\n",
       "      <th>Fz1</th>\n",
       "      <th>Fz2</th>\n",
       "      <th>Fz3</th>\n",
       "      <th>Fz4</th>\n",
       "      <th>Fz6</th>\n",
       "    </tr>\n",
       "    <tr>\n",
       "      <th></th>\n",
       "      <th>all</th>\n",
       "      <th>all</th>\n",
       "      <th>all</th>\n",
       "      <th>all</th>\n",
       "      <th>all</th>\n",
       "      <th>all</th>\n",
       "      <th>PT</th>\n",
       "      <th>PT</th>\n",
       "      <th>PT</th>\n",
       "      <th>PT</th>\n",
       "      <th>...</th>\n",
       "      <th>air</th>\n",
       "      <th>air</th>\n",
       "      <th>air</th>\n",
       "      <th>air</th>\n",
       "      <th>car</th>\n",
       "      <th>car</th>\n",
       "      <th>car</th>\n",
       "      <th>car</th>\n",
       "      <th>car</th>\n",
       "      <th>car</th>\n",
       "    </tr>\n",
       "  </thead>\n",
       "  <tbody>\n",
       "    <tr>\n",
       "      <th>218</th>\n",
       "      <td>14.4604</td>\n",
       "      <td>13.9288</td>\n",
       "      <td>9.18</td>\n",
       "      <td>11.9</td>\n",
       "      <td>15.9680</td>\n",
       "      <td>11.4412</td>\n",
       "      <td>11.0756</td>\n",
       "      <td>8.8980</td>\n",
       "      <td>13.48</td>\n",
       "      <td>13.3380</td>\n",
       "      <td>...</td>\n",
       "      <td>21.0536</td>\n",
       "      <td>21.0536</td>\n",
       "      <td>25.4708</td>\n",
       "      <td>16.4492</td>\n",
       "      <td>14.4260</td>\n",
       "      <td>13.8216</td>\n",
       "      <td>9.0352</td>\n",
       "      <td>18.6364</td>\n",
       "      <td>15.4504</td>\n",
       "      <td>11.4412</td>\n",
       "    </tr>\n",
       "    <tr>\n",
       "      <th>422</th>\n",
       "      <td>16.7348</td>\n",
       "      <td>16.0704</td>\n",
       "      <td>9.18</td>\n",
       "      <td>11.9</td>\n",
       "      <td>19.4044</td>\n",
       "      <td>12.9432</td>\n",
       "      <td>12.7164</td>\n",
       "      <td>10.0024</td>\n",
       "      <td>13.48</td>\n",
       "      <td>14.4324</td>\n",
       "      <td>...</td>\n",
       "      <td>40.0308</td>\n",
       "      <td>40.0308</td>\n",
       "      <td>49.4108</td>\n",
       "      <td>23.8504</td>\n",
       "      <td>16.6204</td>\n",
       "      <td>15.8572</td>\n",
       "      <td>10.1924</td>\n",
       "      <td>21.2756</td>\n",
       "      <td>17.8856</td>\n",
       "      <td>12.9432</td>\n",
       "    </tr>\n",
       "  </tbody>\n",
       "</table>\n",
       "<p>2 rows × 24 columns</p>\n",
       "</div>"
      ],
      "text/plain": [
       "        root      Fz1   Fz2   Fz3      Fz4      Fz6     root      Fz1    Fz2  \\\n",
       "         all      all   all   all      all      all       PT       PT     PT   \n",
       "218  14.4604  13.9288  9.18  11.9  15.9680  11.4412  11.0756   8.8980  13.48   \n",
       "422  16.7348  16.0704  9.18  11.9  19.4044  12.9432  12.7164  10.0024  13.48   \n",
       "\n",
       "         Fz3  ...      Fz2      Fz3      Fz4      Fz6     root      Fz1  \\\n",
       "          PT  ...      air      air      air      air      car      car   \n",
       "218  13.3380  ...  21.0536  21.0536  25.4708  16.4492  14.4260  13.8216   \n",
       "422  14.4324  ...  40.0308  40.0308  49.4108  23.8504  16.6204  15.8572   \n",
       "\n",
       "         Fz2      Fz3      Fz4      Fz6  \n",
       "         car      car      car      car  \n",
       "218   9.0352  18.6364  15.4504  11.4412  \n",
       "422  10.1924  21.2756  17.8856  12.9432  \n",
       "\n",
       "[2 rows x 24 columns]"
      ]
     },
     "execution_count": 15,
     "metadata": {},
     "output_type": "execute_result"
    }
   ],
   "source": [
    "# VoT from literature, distance-dependent, see cal19\n",
    "p_Fz_dict = {1:'Fz1', 3:'Fz2', 4:'Fz3', 2:'Fz4', 6:'Fz6', 7:'Fz6'}\n",
    "VoT = pd.read_csv(input_path + 'vot.csv', header=[0,1], index_col=0)\n",
    "VoT.sample(2)"
   ]
  },
  {
   "cell_type": "code",
   "execution_count": 16,
   "metadata": {},
   "outputs": [],
   "source": [
    "# Make distance integer\n",
    "df['DIST'] = df['DIST'].apply(int)"
   ]
  },
  {
   "cell_type": "code",
   "execution_count": 17,
   "metadata": {},
   "outputs": [
    {
     "data": {
      "text/plain": [
       "132004"
      ]
     },
     "execution_count": 17,
     "metadata": {},
     "output_type": "execute_result"
    }
   ],
   "source": [
    "df = df.loc[df['DIST']<=1000]\n",
    "len(df)"
   ]
  },
  {
   "cell_type": "code",
   "execution_count": 18,
   "metadata": {},
   "outputs": [],
   "source": [
    "# Generate generalised cost\n",
    "VoT = VoT.to_dict()\n",
    "df['GC_RAIL'] = df['T_RAIL_S'] + [c / VoT[(p_Fz_dict[p], 'PT')][d]\n",
    "                                  for c,d,p in zip(df['C_RAIL'], df['DIST'], df['PURPOSE'])]\n",
    "df['GC_RAIL_Sc'] = df['T_RAIL_Sc_S'] + [c / VoT[(p_Fz_dict[p], 'PT')][d]\n",
    "                                        for c,d,p in zip(df['C_RAIL_Sc'], df['DIST'], df['PURPOSE'])]\n",
    "df['GC_RAIL_L'] = df['T_RAIL_L_S'] + [c / VoT[(p_Fz_dict[p], 'PT')][d]\n",
    "                                      for c,d,p in zip(df['C_RAIL_L'], df['DIST'], df['PURPOSE'])]\n",
    "df['GC_COACH'] = df['T_COACH_S'] + [c / VoT[(p_Fz_dict[p], 'PT')][d]\n",
    "                                    for c,d,p in zip(df['C_COACH'], df['DIST'], df['PURPOSE'])]\n",
    "df['GC_BUS'] = df['T_BUS_S'] + [c / VoT[(p_Fz_dict[p], 'PT')][d]\n",
    "                                for c,d,p in zip(df['C_BUS'], df['DIST'], df['PURPOSE'])]\n",
    "df['GC_ROAD'] = df['T_ROAD_S'] + [c / VoT[(p_Fz_dict[p], 'PT')][d]\n",
    "                                  for c,d,p in zip(df['C_ROAD'], df['DIST'], df['PURPOSE'])]\n",
    "df['GC_AIR'] = df['T_AIR_S'] + [c / VoT[(p_Fz_dict[p], 'air')][d]\n",
    "                                for c,d,p in zip(df['C_AIR'], df['DIST'], df['PURPOSE'])]\n",
    "df['GC_CAR'] = df['T_CAR_S'] + [c / VoT[(p_Fz_dict[p], 'car')][d]\n",
    "                                for c,d,p in zip(df['C_CAR'], df['DIST'], df['PURPOSE'])]\n",
    "df['GC_NON_MOTOR'] = df['T_NON_MOTOR_S']"
   ]
  },
  {
   "cell_type": "code",
   "execution_count": 19,
   "metadata": {},
   "outputs": [
    {
     "data": {
      "text/plain": [
       "<AxesSubplot:>"
      ]
     },
     "execution_count": 19,
     "metadata": {},
     "output_type": "execute_result"
    },
    {
     "data": {
      "image/png": "[encoded data removed]",
      "text/plain": [
       "<Figure size 432x288 with 1 Axes>"
      ]
     },
     "metadata": {
      "needs_background": "light"
     },
     "output_type": "display_data"
    }
   ],
   "source": [
    "# Distribution of generalised cost by mode\n",
    "df.loc[df['CAR_AV']==1, 'GC_CAR'].hist(log=True,\n",
    "    bins=50, alpha=.3, ax=df.loc[df['RAIL_AV']==1, 'GC_RAIL'].hist(log=True,\n",
    "        bins=50, color='green', alpha=.3, ax=df.loc[df['ROAD_AV']==1, 'GC_ROAD'].hist(log=True,\n",
    "            bins=50, color='orange', alpha=.3, ax=df.loc[df['NON_MOTOR_AV']==1, 'GC_NON_MOTOR'].hist(log=True,\n",
    "                bins=50, color='purple', alpha=.3, ax=df.loc[df['AIR_AV']==1, 'GC_AIR'].hist(log=True,\n",
    "                    bins=50, color='yellow', alpha=.3)))))"
   ]
  },
  {
   "cell_type": "code",
   "execution_count": 20,
   "metadata": {},
   "outputs": [
    {
     "data": {
      "text/plain": [
       "<AxesSubplot:>"
      ]
     },
     "execution_count": 20,
     "metadata": {},
     "output_type": "execute_result"
    },
    {
     "data": {
      "image/png": "[encoded data removed]",
      "text/plain": [
       "<Figure size 432x288 with 1 Axes>"
      ]
     },
     "metadata": {
      "needs_background": "light"
     },
     "output_type": "display_data"
    }
   ],
   "source": [
    "# Distribution of prices by mode\n",
    "df.loc[df['CAR_AV']==1, 'C_CAR'].hist(log=True,\n",
    "    bins=50, alpha=.3, ax=df.loc[df['RAIL_AV']==1, 'C_RAIL'].hist(log=True,\n",
    "        bins=50, color='green', alpha=.3, ax=df.loc[df['ROAD_AV']==1, 'C_ROAD'].hist(log=True,\n",
    "#            bins=50, color='orange', alpha=.3, ax=df.loc[df['NON_MOTOR_AV']==1, 'C_NON_MOTOR'].hist(log=True,\n",
    "                bins=50, color='purple', alpha=.3, ax=df.loc[df['AIR_AV']==1, 'C_AIR'].hist(log=True,\n",
    "                    bins=50, color='yellow', alpha=.3))))#)"
   ]
  },
  {
   "cell_type": "code",
   "execution_count": 21,
   "metadata": {},
   "outputs": [
    {
     "data": {
      "text/plain": [
       "<AxesSubplot:>"
      ]
     },
     "execution_count": 21,
     "metadata": {},
     "output_type": "execute_result"
    },
    {
     "data": {
      "image/png": "[encoded data removed]",
      "text/plain": [
       "<Figure size 432x288 with 1 Axes>"
      ]
     },
     "metadata": {
      "needs_background": "light"
     },
     "output_type": "display_data"
    }
   ],
   "source": [
    "# Distribution of travel times by mode\n",
    "df.loc[df['CAR_AV']==1, 'T_CAR_S'].hist(log=True,\n",
    "    bins=50, alpha=.3, ax=df.loc[df['RAIL_AV']==1, 'T_RAIL_S'].hist(log=True,\n",
    "        bins=50, color='green', alpha=.3, ax=df.loc[df['ROAD_AV']==1, 'T_ROAD_S'].hist(log=True,\n",
    "            bins=50, color='orange', alpha=.3, ax=df.loc[df['NON_MOTOR_AV']==1, 'T_NON_MOTOR_S'].hist(log=True,\n",
    "                bins=50, color='purple', alpha=.3, ax=df.loc[df['AIR_AV']==1, 'T_AIR_S'].hist(log=True,\n",
    "                    bins=50, color='yellow', alpha=.3)))))"
   ]
  },
  {
   "cell_type": "markdown",
   "metadata": {},
   "source": [
    "#### Cost damping\n",
    "\n",
    "Many modelling studies have shown that cost damping is required in order to flatten the tail of time/cost elasticities, i.e. decrease the impact of long distances on choice results to prevent from overestimation of time/cost parameters. Cost damping represents the property of decreasing marginal utility. It is commonly approached with Box-Cox transformations of generalised cost (usually defined as the sum of travel time and travel expenditures divided by the value of time). Daly (2010) proposes a hybrid function as a sum of the linear term and the narural logarithm of the same. However, the linear term still dominates cost on long distances. Rich (2020), main developer of the Danish National Transport Model, proposes a more complex spline function which successfully manages cost damping and even outperforms the Box-Cox transformation in terms of stability of elasticities."
   ]
  },
  {
   "cell_type": "code",
   "execution_count": 22,
   "metadata": {},
   "outputs": [],
   "source": [
    "# The cost damping function from Rich (2020)\n",
    "c = params['estimation']\n",
    "def spline(x, beta, c1, c2, Q=3):\n",
    "    alpha = [0, -beta/2*ex.Power(ex.log(c1),3),\n",
    "             -beta/2*ex.log(c1)*(3*ex.Power(ex.log(c2),2)+ex.Power(ex.log(c1),2))] # for Q=3\n",
    "    theta = [1, 3/2*ex.log(c1), 3*ex.log(c1)*ex.log(c2)] # for Q=3\n",
    "    return (beta*theta[0]*ex.Power(ex.log(x),Q-1+1) + alpha[0]) * (x<c1) \\\n",
    "    + (beta*theta[1]*ex.Power(ex.log(x),Q-2+1) + alpha[1]) * (x>=c1)*(x<c2) \\\n",
    "    + (beta*theta[2]*ex.Power(ex.log(x),Q-3+1) + alpha[2]) * (x>=c2)"
   ]
  },
  {
   "cell_type": "code",
   "execution_count": 23,
   "metadata": {},
   "outputs": [],
   "source": [
    "# A Box-Cox transformation can be applied with the following code.\n",
    "# However, it performs worse than other estimations\n",
    "#tao_t = {}\n",
    "#for m in ['CAR', 'RAIL', 'ROAD', 'AIR', 'NON_MOTOR']:\n",
    "#    assert len(df.loc[df['T_'+m+'_S']<=0]) == 0\n",
    "#    transformed_data, best_tao = stats.boxcox(df.loc[df[m+'_AV']==1, 'T_'+m+'_S'])\n",
    "#    tao_t[m] = best_tao\n",
    "#    df.loc[df[m+'_AV']==1, 'T_'+m+'_D'] = transformed_data\n",
    "#    df.loc[df[m+'_AV']==0, 'T_'+m+'_D'] = inf"
   ]
  },
  {
   "cell_type": "markdown",
   "metadata": {},
   "source": [
    "### Database creation"
   ]
  },
  {
   "cell_type": "code",
   "execution_count": 24,
   "metadata": {},
   "outputs": [
    {
     "data": {
      "text/plain": [
       "132004"
      ]
     },
     "execution_count": 24,
     "metadata": {},
     "output_type": "execute_result"
    }
   ],
   "source": [
    "# Create the initial database and make columns global variables\n",
    "database = db.Database('MiD2017', df.copy())\n",
    "globals().update(database.variables)\n",
    "database.getSampleSize()"
   ]
  },
  {
   "cell_type": "markdown",
   "metadata": {},
   "source": [
    "### Estimation parameters"
   ]
  },
  {
   "cell_type": "code",
   "execution_count": 25,
   "metadata": {},
   "outputs": [],
   "source": [
    "asc_rail = ex.Beta('asc_rail', 0, None, None, 0)\n",
    "asc_rail_s = ex.Beta('asc_rail_s', 0, None, None, 0)\n",
    "asc_rail_l = ex.Beta('asc_rail_l', 0, None, None, 0)\n",
    "asc_coach = ex.Beta('asc_coach', 0, None, None, 0)\n",
    "asc_bus = ex.Beta('asc_bus', 0, None, None, 0)\n",
    "asc_road = ex.Beta('asc_road', 0, None, None, 0)\n",
    "asc_air = ex.Beta('asc_air', 0, None, None, 0)\n",
    "asc_car = ex.Beta('asc_car', 0, None, None, 1)\n",
    "asc_non_motor = ex.Beta('asc_non_motor', 0, None, None, 0)"
   ]
  },
  {
   "cell_type": "code",
   "execution_count": 26,
   "metadata": {},
   "outputs": [],
   "source": [
    "b_t = ex.Beta('b_t', 0, None, None, 0)\n",
    "b_c = ex.Beta('b_c', 0, None, None, 0)\n",
    "b_wt = ex.Beta('b_wt', 0, None, None, 0)"
   ]
  },
  {
   "cell_type": "code",
   "execution_count": 27,
   "metadata": {},
   "outputs": [],
   "source": [
    "# generalised cost function parameter\n",
    "b_gc = ex.Beta('b_gc', 0, None, None, 0)"
   ]
  },
  {
   "cell_type": "raw",
   "metadata": {},
   "source": [
    "# Parameter for the model selectivity\n",
    "phi = ex.Beta('phi', 1, 0, None, 0)"
   ]
  },
  {
   "cell_type": "code",
   "execution_count": 28,
   "metadata": {},
   "outputs": [],
   "source": [
    "# Parameters for the nested logit structure\n",
    "mu_pt = ex.Beta('mu_pt', 1, 1, 10, 0)\n",
    "mu_rail = ex.Beta('mu_rail', 1, 1, 10, 0)"
   ]
  },
  {
   "cell_type": "markdown",
   "metadata": {},
   "source": [
    "### Utility functions"
   ]
  },
  {
   "cell_type": "raw",
   "metadata": {},
   "source": [
    "# Linear-in-the-parameters formulation\n",
    "V_RAIL = {p: asc_rail + b_gc * GC_RAIL\n",
    "          for p in df['PURPOSE'].unique()}\n",
    "V_ROAD = {p: asc_road + b_gc * GC_ROAD\n",
    "          for p in df['PURPOSE'].unique()}\n",
    "V_AIR = {p: asc_air + b_gc * GC_AIR\n",
    "         for p in df['PURPOSE'].unique()}\n",
    "V_CAR = {p: asc_car + b_gc * GC_CAR\n",
    "         for p in df['PURPOSE'].unique()}\n",
    "V_NON_MOTOR = {p: asc_non_motor + b_gc * GC_NON_MOTOR\n",
    "               for p in df['PURPOSE'].unique()}"
   ]
  },
  {
   "cell_type": "raw",
   "metadata": {},
   "source": [
    "# Model specification with log-power transformation (first component of power-spline)\n",
    "V_RAIL = {p: asc_rail\n",
    "              + ex.Power(ex.log(GC_RAIL), 3) * b_gc\n",
    "          for p in df['PURPOSE'].unique()}\n",
    "V_ROAD = {p: asc_road\n",
    "              + ex.Power(ex.log(GC_ROAD), 3) * b_gc\n",
    "          for p in df['PURPOSE'].unique()}\n",
    "V_AIR = {p: asc_air\n",
    "             + ex.Power(ex.log(GC_AIR), 3) * b_gc\n",
    "         for p in df['PURPOSE'].unique()}\n",
    "V_CAR = {p: asc_car\n",
    "             + ex.Power(ex.log(GC_CAR), 3) * b_gc\n",
    "         for p in df['PURPOSE'].unique()}\n",
    "V_NON_MOTOR = {p: asc_non_motor \n",
    "                   + ex.Power(ex.log(GC_NON_MOTOR), 3) * b_gc\n",
    "               for p in df['PURPOSE'].unique()}"
   ]
  },
  {
   "cell_type": "raw",
   "metadata": {},
   "source": [
    "# Model specification with spline function transformation - GC\n",
    "c1 = 2\n",
    "c2 = 5\n",
    "V_RAIL = {p: asc_rail + spline(GC_RAIL, b_gc, c1, c2)\n",
    "          for p in df['PURPOSE'].unique()}\n",
    "V_ROAD = {p: asc_road + spline(GC_ROAD, b_gc, c1, c2)\n",
    "          for p in df['PURPOSE'].unique()}\n",
    "V_AIR = {p: asc_air + spline(GC_AIR, b_gc, c1, c2)\n",
    "         for p in df['PURPOSE'].unique()}\n",
    "V_CAR = {p: asc_car + spline(GC_CAR, b_gc, c1, c2)\n",
    "         for p in df['PURPOSE'].unique()}\n",
    "V_NON_MOTOR = {p: asc_non_motor + spline(GC_NON_MOTOR, b_gc, c1, c2)\n",
    "               for p in df['PURPOSE'].unique()}"
   ]
  },
  {
   "cell_type": "code",
   "execution_count": 29,
   "metadata": {},
   "outputs": [],
   "source": [
    "# Model specification with spline function transformation - disaggregated\n",
    "p_dict_rev = dict(zip(p_dict.values(), p_dict.keys()))\n",
    "car = '_car' # take the knot points for car available\n",
    "V_RAIL = {p: asc_rail\n",
    "              + C_RAIL * b_c\n",
    "              + spline(T_RAIL, b_t, c['c1_time_'+p_dict_rev[p]+car]*60, c['c2_time_'+p_dict_rev[p]+car]*60)\n",
    "          for p in df['PURPOSE'].unique()}\n",
    "V_RAIL_Sc = {p: asc_rail_s\n",
    "              + C_RAIL_Sc * b_c\n",
    "              + spline(T_RAIL_Sc, b_t, c['c1_time_'+p_dict_rev[p]+car]*60, c['c2_time_'+p_dict_rev[p]+car]*60)\n",
    "          for p in df['PURPOSE'].unique()}\n",
    "V_RAIL_L = {p: asc_rail_l\n",
    "              + C_RAIL_L * b_c\n",
    "              + spline(T_RAIL_L, b_t, c['c1_time_'+p_dict_rev[p]+car]*60, c['c2_time_'+p_dict_rev[p]+car]*60)\n",
    "          for p in df['PURPOSE'].unique()}\n",
    "V_ROAD = {p: asc_road\n",
    "              + C_ROAD * b_c\n",
    "              + spline(T_ROAD, b_t, c['c1_time_'+p_dict_rev[p]+car]*60, c['c2_time_'+p_dict_rev[p]+car]*60)\n",
    "          for p in df['PURPOSE'].unique()}\n",
    "V_COACH = {p: asc_coach\n",
    "              + C_COACH * b_c\n",
    "              + spline(T_COACH, b_t, c['c1_time_'+p_dict_rev[p]+car]*60, c['c2_time_'+p_dict_rev[p]+car]*60)\n",
    "          for p in df['PURPOSE'].unique()}\n",
    "V_BUS = {p: asc_bus\n",
    "              + C_BUS * b_c\n",
    "              + spline(T_BUS, b_t, c['c1_time_'+p_dict_rev[p]+car]*60, c['c2_time_'+p_dict_rev[p]+car]*60)\n",
    "          for p in df['PURPOSE'].unique()}\n",
    "V_AIR = {p: asc_air\n",
    "             + C_AIR * b_c\n",
    "             + spline(T_AIR, b_t, c['c1_time_'+p_dict_rev[p]+car]*60, c['c2_time_'+p_dict_rev[p]+car]*60)\n",
    "         for p in df['PURPOSE'].unique()}\n",
    "V_CAR = {p: asc_car\n",
    "             + C_CAR * b_c\n",
    "             + spline(T_CAR, b_t, c['c1_time_'+p_dict_rev[p]+car]*60, c['c2_time_'+p_dict_rev[p]+car]*60)\n",
    "         for p in df['PURPOSE'].unique()}\n",
    "V_NON_MOTOR = {p: asc_non_motor \n",
    "                   + spline(T_NON_MOTOR, b_t, c['c1_time_'+p_dict_rev[p]+car]*60, c['c2_time_'+p_dict_rev[p]+car]*60)\n",
    "               for p in df['PURPOSE'].unique()}\n",
    "\n",
    "# Model specification for business trips\n",
    "V_RAIL[2] = asc_rail + spline(T_RAIL, b_t, c['c1_time_business'+car]*60, c['c2_time_business'+car]*60)\n",
    "V_RAIL_Sc[2] = asc_rail_s + spline(T_RAIL_Sc, b_t, c['c1_time_business'+car]*60, c['c2_time_business'+car]*60)\n",
    "V_RAIL_L[2] = asc_rail_l + spline(T_RAIL_L, b_t, c['c1_time_business'+car]*60, c['c2_time_business'+car]*60)\n",
    "V_ROAD[2] = asc_road + spline(T_ROAD, b_t, c['c1_time_business'+car]*60, c['c2_time_business'+car]*60)\n",
    "V_COACH[2] = asc_coach + spline(T_COACH, b_t, c['c1_time_business'+car]*60, c['c2_time_business'+car]*60)\n",
    "V_BUS[2] = asc_bus + spline(T_BUS, b_t, c['c1_time_business'+car]*60, c['c2_time_business'+car]*60)\n",
    "V_AIR[2] = asc_air + spline(T_AIR, b_t, c['c1_time_business'+car]*60, c['c2_time_business'+car]*60)\n",
    "V_CAR[2] = asc_car + spline(T_CAR, b_t, c['c1_time_business'+car]*60, c['c2_time_business'+car]*60)\n",
    "V_NON_MOTOR[2] = asc_non_motor + spline(T_NON_MOTOR, b_t, c['c1_time_business'+car]*60, c['c2_time_business'+car]*60)"
   ]
  },
  {
   "cell_type": "markdown",
   "metadata": {},
   "source": [
    "### Run the estimation"
   ]
  },
  {
   "cell_type": "code",
   "execution_count": 30,
   "metadata": {},
   "outputs": [],
   "source": [
    "# Define level of verbosity\n",
    "logger = message.bioMessage()\n",
    "#logger.setSilent()\n",
    "logger.setWarning()\n",
    "#logger.setGeneral()\n",
    "#logger.setDetailed()"
   ]
  },
  {
   "cell_type": "code",
   "execution_count": 31,
   "metadata": {},
   "outputs": [],
   "source": [
    "# Map modes to utility functions\n",
    "V = {p: {1:V_RAIL_Sc[p],\n",
    "         2:V_RAIL_L[p],\n",
    "         3:V_COACH[p],\n",
    "         4:V_BUS[p],\n",
    "         5:V_AIR[p],\n",
    "         6:V_CAR[p],\n",
    "         7:V_NON_MOTOR[p]}\n",
    "     for p in df['PURPOSE'].unique()}"
   ]
  },
  {
   "cell_type": "code",
   "execution_count": 32,
   "metadata": {},
   "outputs": [],
   "source": [
    "# Map the availability of alternatives with MODE as key\n",
    "# PT is always available\n",
    "av = {p: {1:RAIL_Sc_AV,\n",
    "          2:RAIL_L_AV,\n",
    "          3:COACH_AV,\n",
    "          4:BUS_AV,\n",
    "          5:AIR_AV,\n",
    "          6:CAR_AV,\n",
    "          7:NON_MOTOR_AV}\n",
    "      for p in df['PURPOSE'].unique()}"
   ]
  },
  {
   "cell_type": "code",
   "execution_count": 33,
   "metadata": {},
   "outputs": [],
   "source": [
    "# Mode nests as tuples with nest name and dictionary where\n",
    "# alternative IDs are mapped to alpha values. Missing ID's alpha is zero\n",
    "# Alternatively use lists with mode ID without alpha\n",
    "pt = mu_pt, [1, 4]#[1, 2, 3, 4]\n",
    "air = 1, [5]\n",
    "car = 1, [6]\n",
    "walk = 1, [7]\n",
    "rail = mu_rail, [1,2]\n",
    "bus = 1, [4]\n",
    "coach = 1, [3]\n",
    "#nests = pt, air, car, walk\n",
    "nests = rail, bus, coach, car, walk, air"
   ]
  },
  {
   "cell_type": "code",
   "execution_count": 47,
   "metadata": {},
   "outputs": [],
   "source": [
    "# Write results to an Excel file\n",
    "writer = pd.ExcelWriter(input_path + 'estimation_results.xls', engine='xlsxwriter')"
   ]
  },
  {
   "cell_type": "code",
   "execution_count": 48,
   "metadata": {},
   "outputs": [],
   "source": [
    "# Choose the multinomial logit model\n",
    "mnl = models.loglogit(V[6], av[6], MODE)"
   ]
  },
  {
   "cell_type": "code",
   "execution_count": 49,
   "metadata": {},
   "outputs": [],
   "source": [
    "database = db.Database('MiD2017', df.sample(3000))\n",
    "#database.remove(PURPOSE!=4)\n",
    "model_mnl = bio.BIOGEME(database, mnl, numberOfThreads=10)\n",
    "model_mnl.modelName = 'MNL'\n",
    "model_mnl.generateHtml = False\n",
    "model_mnl.generatePickle = False\n",
    "model_mnl.saveIterations = False"
   ]
  },
  {
   "cell_type": "code",
   "execution_count": 50,
   "metadata": {},
   "outputs": [
    {
     "name": "stdout",
     "output_type": "stream",
     "text": [
      "[16:51:21] < Warning >   Cannot read file __MNL.iter. Statement is ignored.\n"
     ]
    }
   ],
   "source": [
    "results_mnl = model_mnl.estimate()"
   ]
  },
  {
   "cell_type": "code",
   "execution_count": 51,
   "metadata": {},
   "outputs": [
    {
     "data": {
      "text/html": [
       "<div>\n",
       "<style scoped>\n",
       "    .dataframe tbody tr th:only-of-type {\n",
       "        vertical-align: middle;\n",
       "    }\n",
       "\n",
       "    .dataframe tbody tr th {\n",
       "        vertical-align: top;\n",
       "    }\n",
       "\n",
       "    .dataframe thead th {\n",
       "        text-align: right;\n",
       "    }\n",
       "</style>\n",
       "<table border=\"1\" class=\"dataframe\">\n",
       "  <thead>\n",
       "    <tr style=\"text-align: right;\">\n",
       "      <th></th>\n",
       "      <th>Value</th>\n",
       "      <th>Std err</th>\n",
       "      <th>t-test</th>\n",
       "      <th>p-value</th>\n",
       "      <th>Rob. Std err</th>\n",
       "      <th>Rob. t-test</th>\n",
       "      <th>Rob. p-value</th>\n",
       "    </tr>\n",
       "  </thead>\n",
       "  <tbody>\n",
       "    <tr>\n",
       "      <th>asc_air</th>\n",
       "      <td>-6.308092</td>\n",
       "      <td>8.938563</td>\n",
       "      <td>-0.705717</td>\n",
       "      <td>0.480364</td>\n",
       "      <td>0.46039</td>\n",
       "      <td>-13.701621</td>\n",
       "      <td>0.0</td>\n",
       "    </tr>\n",
       "    <tr>\n",
       "      <th>asc_bus</th>\n",
       "      <td>-2.914649</td>\n",
       "      <td>0.115768</td>\n",
       "      <td>-25.17662</td>\n",
       "      <td>0.0</td>\n",
       "      <td>0.118571</td>\n",
       "      <td>-24.581415</td>\n",
       "      <td>0.0</td>\n",
       "    </tr>\n",
       "    <tr>\n",
       "      <th>asc_coach</th>\n",
       "      <td>-3.431080</td>\n",
       "      <td>0.30741</td>\n",
       "      <td>-11.161251</td>\n",
       "      <td>0.0</td>\n",
       "      <td>0.315906</td>\n",
       "      <td>-10.861086</td>\n",
       "      <td>0.0</td>\n",
       "    </tr>\n",
       "    <tr>\n",
       "      <th>asc_non_motor</th>\n",
       "      <td>-4.101588</td>\n",
       "      <td>0.213557</td>\n",
       "      <td>-19.206072</td>\n",
       "      <td>0.0</td>\n",
       "      <td>0.209661</td>\n",
       "      <td>-19.562961</td>\n",
       "      <td>0.0</td>\n",
       "    </tr>\n",
       "    <tr>\n",
       "      <th>asc_rail_l</th>\n",
       "      <td>-2.025574</td>\n",
       "      <td>0.269983</td>\n",
       "      <td>-7.502589</td>\n",
       "      <td>0.0</td>\n",
       "      <td>0.279996</td>\n",
       "      <td>-7.234291</td>\n",
       "      <td>0.0</td>\n",
       "    </tr>\n",
       "    <tr>\n",
       "      <th>asc_rail_s</th>\n",
       "      <td>-2.573105</td>\n",
       "      <td>0.093171</td>\n",
       "      <td>-27.616903</td>\n",
       "      <td>0.0</td>\n",
       "      <td>0.098178</td>\n",
       "      <td>-26.20855</td>\n",
       "      <td>0.0</td>\n",
       "    </tr>\n",
       "    <tr>\n",
       "      <th>b_c</th>\n",
       "      <td>-0.046783</td>\n",
       "      <td>0.009355</td>\n",
       "      <td>-5.000884</td>\n",
       "      <td>0.000001</td>\n",
       "      <td>0.012813</td>\n",
       "      <td>-3.651239</td>\n",
       "      <td>0.000261</td>\n",
       "    </tr>\n",
       "    <tr>\n",
       "      <th>b_t</th>\n",
       "      <td>-0.021502</td>\n",
       "      <td>0.004281</td>\n",
       "      <td>-5.022394</td>\n",
       "      <td>0.000001</td>\n",
       "      <td>0.003853</td>\n",
       "      <td>-5.580013</td>\n",
       "      <td>0.0</td>\n",
       "    </tr>\n",
       "    <tr>\n",
       "      <th>Number of estimated parameters</th>\n",
       "      <td>8.000000</td>\n",
       "      <td></td>\n",
       "      <td></td>\n",
       "      <td></td>\n",
       "      <td></td>\n",
       "      <td></td>\n",
       "      <td></td>\n",
       "    </tr>\n",
       "    <tr>\n",
       "      <th>Sample size</th>\n",
       "      <td>3000.000000</td>\n",
       "      <td></td>\n",
       "      <td></td>\n",
       "      <td></td>\n",
       "      <td></td>\n",
       "      <td></td>\n",
       "      <td></td>\n",
       "    </tr>\n",
       "    <tr>\n",
       "      <th>Excluded observations</th>\n",
       "      <td>0.000000</td>\n",
       "      <td></td>\n",
       "      <td></td>\n",
       "      <td></td>\n",
       "      <td></td>\n",
       "      <td></td>\n",
       "      <td></td>\n",
       "    </tr>\n",
       "    <tr>\n",
       "      <th>Init log likelihood</th>\n",
       "      <td>-3779.312613</td>\n",
       "      <td>.7g</td>\n",
       "      <td></td>\n",
       "      <td></td>\n",
       "      <td></td>\n",
       "      <td></td>\n",
       "      <td></td>\n",
       "    </tr>\n",
       "    <tr>\n",
       "      <th>Final log likelihood</th>\n",
       "      <td>-1149.890136</td>\n",
       "      <td>.7g</td>\n",
       "      <td></td>\n",
       "      <td></td>\n",
       "      <td></td>\n",
       "      <td></td>\n",
       "      <td></td>\n",
       "    </tr>\n",
       "    <tr>\n",
       "      <th>Likelihood ratio test for the init. model</th>\n",
       "      <td>5258.844955</td>\n",
       "      <td>.7g</td>\n",
       "      <td></td>\n",
       "      <td></td>\n",
       "      <td></td>\n",
       "      <td></td>\n",
       "      <td></td>\n",
       "    </tr>\n",
       "    <tr>\n",
       "      <th>Rho-square for the init. model</th>\n",
       "      <td>0.695741</td>\n",
       "      <td>.3g</td>\n",
       "      <td></td>\n",
       "      <td></td>\n",
       "      <td></td>\n",
       "      <td></td>\n",
       "      <td></td>\n",
       "    </tr>\n",
       "    <tr>\n",
       "      <th>Rho-square-bar for the init. model</th>\n",
       "      <td>0.693624</td>\n",
       "      <td>.3g</td>\n",
       "      <td></td>\n",
       "      <td></td>\n",
       "      <td></td>\n",
       "      <td></td>\n",
       "      <td></td>\n",
       "    </tr>\n",
       "    <tr>\n",
       "      <th>Akaike Information Criterion</th>\n",
       "      <td>2315.780271</td>\n",
       "      <td>.7g</td>\n",
       "      <td></td>\n",
       "      <td></td>\n",
       "      <td></td>\n",
       "      <td></td>\n",
       "      <td></td>\n",
       "    </tr>\n",
       "    <tr>\n",
       "      <th>Bayesian Information Criterion</th>\n",
       "      <td>2363.831212</td>\n",
       "      <td>.7g</td>\n",
       "      <td></td>\n",
       "      <td></td>\n",
       "      <td></td>\n",
       "      <td></td>\n",
       "      <td></td>\n",
       "    </tr>\n",
       "    <tr>\n",
       "      <th>Final gradient norm</th>\n",
       "      <td>0.016996</td>\n",
       "      <td>.4E</td>\n",
       "      <td></td>\n",
       "      <td></td>\n",
       "      <td></td>\n",
       "      <td></td>\n",
       "      <td></td>\n",
       "    </tr>\n",
       "    <tr>\n",
       "      <th>Nbr of threads</th>\n",
       "      <td>64.000000</td>\n",
       "      <td></td>\n",
       "      <td></td>\n",
       "      <td></td>\n",
       "      <td></td>\n",
       "      <td></td>\n",
       "      <td></td>\n",
       "    </tr>\n",
       "  </tbody>\n",
       "</table>\n",
       "</div>"
      ],
      "text/plain": [
       "                                                 Value   Std err     t-test  \\\n",
       "asc_air                                      -6.308092  8.938563  -0.705717   \n",
       "asc_bus                                      -2.914649  0.115768  -25.17662   \n",
       "asc_coach                                    -3.431080   0.30741 -11.161251   \n",
       "asc_non_motor                                -4.101588  0.213557 -19.206072   \n",
       "asc_rail_l                                   -2.025574  0.269983  -7.502589   \n",
       "asc_rail_s                                   -2.573105  0.093171 -27.616903   \n",
       "b_c                                          -0.046783  0.009355  -5.000884   \n",
       "b_t                                          -0.021502  0.004281  -5.022394   \n",
       "Number of estimated parameters                8.000000                        \n",
       "Sample size                                3000.000000                        \n",
       "Excluded observations                         0.000000                        \n",
       "Init log likelihood                       -3779.312613       .7g              \n",
       "Final log likelihood                      -1149.890136       .7g              \n",
       "Likelihood ratio test for the init. model  5258.844955       .7g              \n",
       "Rho-square for the init. model                0.695741       .3g              \n",
       "Rho-square-bar for the init. model            0.693624       .3g              \n",
       "Akaike Information Criterion               2315.780271       .7g              \n",
       "Bayesian Information Criterion             2363.831212       .7g              \n",
       "Final gradient norm                           0.016996       .4E              \n",
       "Nbr of threads                               64.000000                        \n",
       "\n",
       "                                            p-value Rob. Std err Rob. t-test  \\\n",
       "asc_air                                    0.480364      0.46039  -13.701621   \n",
       "asc_bus                                         0.0     0.118571  -24.581415   \n",
       "asc_coach                                       0.0     0.315906  -10.861086   \n",
       "asc_non_motor                                   0.0     0.209661  -19.562961   \n",
       "asc_rail_l                                      0.0     0.279996   -7.234291   \n",
       "asc_rail_s                                      0.0     0.098178   -26.20855   \n",
       "b_c                                        0.000001     0.012813   -3.651239   \n",
       "b_t                                        0.000001     0.003853   -5.580013   \n",
       "Number of estimated parameters                                                 \n",
       "Sample size                                                                    \n",
       "Excluded observations                                                          \n",
       "Init log likelihood                                                            \n",
       "Final log likelihood                                                           \n",
       "Likelihood ratio test for the init. model                                      \n",
       "Rho-square for the init. model                                                 \n",
       "Rho-square-bar for the init. model                                             \n",
       "Akaike Information Criterion                                                   \n",
       "Bayesian Information Criterion                                                 \n",
       "Final gradient norm                                                            \n",
       "Nbr of threads                                                                 \n",
       "\n",
       "                                          Rob. p-value  \n",
       "asc_air                                            0.0  \n",
       "asc_bus                                            0.0  \n",
       "asc_coach                                          0.0  \n",
       "asc_non_motor                                      0.0  \n",
       "asc_rail_l                                         0.0  \n",
       "asc_rail_s                                         0.0  \n",
       "b_c                                           0.000261  \n",
       "b_t                                                0.0  \n",
       "Number of estimated parameters                          \n",
       "Sample size                                             \n",
       "Excluded observations                                   \n",
       "Init log likelihood                                     \n",
       "Final log likelihood                                    \n",
       "Likelihood ratio test for the init. model               \n",
       "Rho-square for the init. model                          \n",
       "Rho-square-bar for the init. model                      \n",
       "Akaike Information Criterion                            \n",
       "Bayesian Information Criterion                          \n",
       "Final gradient norm                                     \n",
       "Nbr of threads                                          "
      ]
     },
     "execution_count": 51,
     "metadata": {},
     "output_type": "execute_result"
    }
   ],
   "source": [
    "results = results_mnl.getEstimatedParameters()\n",
    "for key, val in results_mnl.getGeneralStatistics().items():\n",
    "    results.loc[key] = [val[0], val[1]] + ['' for i in range(len(results.columns)-2)]\n",
    "results"
   ]
  },
  {
   "cell_type": "code",
   "execution_count": 52,
   "metadata": {},
   "outputs": [],
   "source": [
    "results.to_excel(writer, sheet_name=model_mnl.modelName)"
   ]
  },
  {
   "cell_type": "code",
   "execution_count": 53,
   "metadata": {},
   "outputs": [],
   "source": [
    "# Choose the logarithmic nested logit model\n",
    "nl = models.lognested(V[6], av[6], nests, MODE)"
   ]
  },
  {
   "cell_type": "code",
   "execution_count": 54,
   "metadata": {},
   "outputs": [
    {
     "name": "stdout",
     "output_type": "stream",
     "text": [
      "[16:51:24] < Warning >   Cannot read file __NL.iter. Statement is ignored.\n"
     ]
    }
   ],
   "source": [
    "# Nested Logit\n",
    "model_nl = bio.BIOGEME(database, nl, numberOfThreads=10)\n",
    "model_nl.modelName = 'NL'\n",
    "model_nl.generateHtml = False\n",
    "model_nl.generatePickle = False\n",
    "model_nl.saveIterations = False\n",
    "results_nl = model_nl.estimate()"
   ]
  },
  {
   "cell_type": "code",
   "execution_count": 55,
   "metadata": {},
   "outputs": [
    {
     "data": {
      "text/html": [
       "<div>\n",
       "<style scoped>\n",
       "    .dataframe tbody tr th:only-of-type {\n",
       "        vertical-align: middle;\n",
       "    }\n",
       "\n",
       "    .dataframe tbody tr th {\n",
       "        vertical-align: top;\n",
       "    }\n",
       "\n",
       "    .dataframe thead th {\n",
       "        text-align: right;\n",
       "    }\n",
       "</style>\n",
       "<table border=\"1\" class=\"dataframe\">\n",
       "  <thead>\n",
       "    <tr style=\"text-align: right;\">\n",
       "      <th></th>\n",
       "      <th>Value</th>\n",
       "      <th>Active bound</th>\n",
       "      <th>Std err</th>\n",
       "      <th>t-test</th>\n",
       "      <th>p-value</th>\n",
       "      <th>Rob. Std err</th>\n",
       "      <th>Rob. t-test</th>\n",
       "      <th>Rob. p-value</th>\n",
       "    </tr>\n",
       "  </thead>\n",
       "  <tbody>\n",
       "    <tr>\n",
       "      <th>asc_air</th>\n",
       "      <td>-6.537648</td>\n",
       "      <td>0.0</td>\n",
       "      <td>10.02235</td>\n",
       "      <td>-0.652307</td>\n",
       "      <td>0.514203</td>\n",
       "      <td>0.513556</td>\n",
       "      <td>-12.730155</td>\n",
       "      <td>0.0</td>\n",
       "    </tr>\n",
       "    <tr>\n",
       "      <th>asc_bus</th>\n",
       "      <td>-2.914649</td>\n",
       "      <td>0.0</td>\n",
       "      <td>0.116682</td>\n",
       "      <td>-24.979509</td>\n",
       "      <td>0.0</td>\n",
       "      <td>0.12181</td>\n",
       "      <td>-23.927898</td>\n",
       "      <td>0.0</td>\n",
       "    </tr>\n",
       "    <tr>\n",
       "      <th>asc_coach</th>\n",
       "      <td>-3.431080</td>\n",
       "      <td>0.0</td>\n",
       "      <td>0.307912</td>\n",
       "      <td>-11.143045</td>\n",
       "      <td>0.0</td>\n",
       "      <td>0.317696</td>\n",
       "      <td>-10.799885</td>\n",
       "      <td>0.0</td>\n",
       "    </tr>\n",
       "    <tr>\n",
       "      <th>asc_non_motor</th>\n",
       "      <td>-4.101588</td>\n",
       "      <td>0.0</td>\n",
       "      <td>0.213802</td>\n",
       "      <td>-19.184017</td>\n",
       "      <td>0.0</td>\n",
       "      <td>0.210574</td>\n",
       "      <td>-19.478085</td>\n",
       "      <td>0.0</td>\n",
       "    </tr>\n",
       "    <tr>\n",
       "      <th>asc_rail_l</th>\n",
       "      <td>-2.025573</td>\n",
       "      <td>0.0</td>\n",
       "      <td>0.278046</td>\n",
       "      <td>-7.285032</td>\n",
       "      <td>0.0</td>\n",
       "      <td>0.313383</td>\n",
       "      <td>-6.463571</td>\n",
       "      <td>0.0</td>\n",
       "    </tr>\n",
       "    <tr>\n",
       "      <th>asc_rail_s</th>\n",
       "      <td>-2.573105</td>\n",
       "      <td>0.0</td>\n",
       "      <td>0.098106</td>\n",
       "      <td>-26.227713</td>\n",
       "      <td>0.0</td>\n",
       "      <td>0.104199</td>\n",
       "      <td>-24.694094</td>\n",
       "      <td>0.0</td>\n",
       "    </tr>\n",
       "    <tr>\n",
       "      <th>b_c</th>\n",
       "      <td>-0.046781</td>\n",
       "      <td>0.0</td>\n",
       "      <td>0.010702</td>\n",
       "      <td>-4.371163</td>\n",
       "      <td>0.000012</td>\n",
       "      <td>0.015837</td>\n",
       "      <td>-2.953922</td>\n",
       "      <td>0.003138</td>\n",
       "    </tr>\n",
       "    <tr>\n",
       "      <th>b_t</th>\n",
       "      <td>-0.021502</td>\n",
       "      <td>0.0</td>\n",
       "      <td>0.004288</td>\n",
       "      <td>-5.014199</td>\n",
       "      <td>0.000001</td>\n",
       "      <td>0.003871</td>\n",
       "      <td>-5.554769</td>\n",
       "      <td>0.0</td>\n",
       "    </tr>\n",
       "    <tr>\n",
       "      <th>mu_rail</th>\n",
       "      <td>1.000000</td>\n",
       "      <td>1.0</td>\n",
       "      <td>0.311561</td>\n",
       "      <td>3.20964</td>\n",
       "      <td>0.001329</td>\n",
       "      <td>0.439913</td>\n",
       "      <td>2.273176</td>\n",
       "      <td>0.023016</td>\n",
       "    </tr>\n",
       "    <tr>\n",
       "      <th>Number of estimated parameters</th>\n",
       "      <td>9.000000</td>\n",
       "      <td></td>\n",
       "      <td></td>\n",
       "      <td></td>\n",
       "      <td></td>\n",
       "      <td></td>\n",
       "      <td></td>\n",
       "      <td></td>\n",
       "    </tr>\n",
       "    <tr>\n",
       "      <th>Number of free parameters</th>\n",
       "      <td>8.000000</td>\n",
       "      <td></td>\n",
       "      <td></td>\n",
       "      <td></td>\n",
       "      <td></td>\n",
       "      <td></td>\n",
       "      <td></td>\n",
       "      <td></td>\n",
       "    </tr>\n",
       "    <tr>\n",
       "      <th>Sample size</th>\n",
       "      <td>3000.000000</td>\n",
       "      <td></td>\n",
       "      <td></td>\n",
       "      <td></td>\n",
       "      <td></td>\n",
       "      <td></td>\n",
       "      <td></td>\n",
       "      <td></td>\n",
       "    </tr>\n",
       "    <tr>\n",
       "      <th>Excluded observations</th>\n",
       "      <td>0.000000</td>\n",
       "      <td></td>\n",
       "      <td></td>\n",
       "      <td></td>\n",
       "      <td></td>\n",
       "      <td></td>\n",
       "      <td></td>\n",
       "      <td></td>\n",
       "    </tr>\n",
       "    <tr>\n",
       "      <th>Init log likelihood</th>\n",
       "      <td>-3779.312613</td>\n",
       "      <td>.7g</td>\n",
       "      <td></td>\n",
       "      <td></td>\n",
       "      <td></td>\n",
       "      <td></td>\n",
       "      <td></td>\n",
       "      <td></td>\n",
       "    </tr>\n",
       "    <tr>\n",
       "      <th>Final log likelihood</th>\n",
       "      <td>-1149.887562</td>\n",
       "      <td>.7g</td>\n",
       "      <td></td>\n",
       "      <td></td>\n",
       "      <td></td>\n",
       "      <td></td>\n",
       "      <td></td>\n",
       "      <td></td>\n",
       "    </tr>\n",
       "    <tr>\n",
       "      <th>Likelihood ratio test for the init. model</th>\n",
       "      <td>5258.850102</td>\n",
       "      <td>.7g</td>\n",
       "      <td></td>\n",
       "      <td></td>\n",
       "      <td></td>\n",
       "      <td></td>\n",
       "      <td></td>\n",
       "      <td></td>\n",
       "    </tr>\n",
       "    <tr>\n",
       "      <th>Rho-square for the init. model</th>\n",
       "      <td>0.695742</td>\n",
       "      <td>.3g</td>\n",
       "      <td></td>\n",
       "      <td></td>\n",
       "      <td></td>\n",
       "      <td></td>\n",
       "      <td></td>\n",
       "      <td></td>\n",
       "    </tr>\n",
       "    <tr>\n",
       "      <th>Rho-square-bar for the init. model</th>\n",
       "      <td>0.693360</td>\n",
       "      <td>.3g</td>\n",
       "      <td></td>\n",
       "      <td></td>\n",
       "      <td></td>\n",
       "      <td></td>\n",
       "      <td></td>\n",
       "      <td></td>\n",
       "    </tr>\n",
       "    <tr>\n",
       "      <th>Akaike Information Criterion</th>\n",
       "      <td>2317.775124</td>\n",
       "      <td>.7g</td>\n",
       "      <td></td>\n",
       "      <td></td>\n",
       "      <td></td>\n",
       "      <td></td>\n",
       "      <td></td>\n",
       "      <td></td>\n",
       "    </tr>\n",
       "    <tr>\n",
       "      <th>Bayesian Information Criterion</th>\n",
       "      <td>2371.832433</td>\n",
       "      <td>.7g</td>\n",
       "      <td></td>\n",
       "      <td></td>\n",
       "      <td></td>\n",
       "      <td></td>\n",
       "      <td></td>\n",
       "      <td></td>\n",
       "    </tr>\n",
       "    <tr>\n",
       "      <th>Final gradient norm</th>\n",
       "      <td>4.896409</td>\n",
       "      <td>.4E</td>\n",
       "      <td></td>\n",
       "      <td></td>\n",
       "      <td></td>\n",
       "      <td></td>\n",
       "      <td></td>\n",
       "      <td></td>\n",
       "    </tr>\n",
       "    <tr>\n",
       "      <th>Nbr of threads</th>\n",
       "      <td>64.000000</td>\n",
       "      <td></td>\n",
       "      <td></td>\n",
       "      <td></td>\n",
       "      <td></td>\n",
       "      <td></td>\n",
       "      <td></td>\n",
       "      <td></td>\n",
       "    </tr>\n",
       "  </tbody>\n",
       "</table>\n",
       "</div>"
      ],
      "text/plain": [
       "                                                 Value Active bound   Std err  \\\n",
       "asc_air                                      -6.537648          0.0  10.02235   \n",
       "asc_bus                                      -2.914649          0.0  0.116682   \n",
       "asc_coach                                    -3.431080          0.0  0.307912   \n",
       "asc_non_motor                                -4.101588          0.0  0.213802   \n",
       "asc_rail_l                                   -2.025573          0.0  0.278046   \n",
       "asc_rail_s                                   -2.573105          0.0  0.098106   \n",
       "b_c                                          -0.046781          0.0  0.010702   \n",
       "b_t                                          -0.021502          0.0  0.004288   \n",
       "mu_rail                                       1.000000          1.0  0.311561   \n",
       "Number of estimated parameters                9.000000                          \n",
       "Number of free parameters                     8.000000                          \n",
       "Sample size                                3000.000000                          \n",
       "Excluded observations                         0.000000                          \n",
       "Init log likelihood                       -3779.312613          .7g             \n",
       "Final log likelihood                      -1149.887562          .7g             \n",
       "Likelihood ratio test for the init. model  5258.850102          .7g             \n",
       "Rho-square for the init. model                0.695742          .3g             \n",
       "Rho-square-bar for the init. model            0.693360          .3g             \n",
       "Akaike Information Criterion               2317.775124          .7g             \n",
       "Bayesian Information Criterion             2371.832433          .7g             \n",
       "Final gradient norm                           4.896409          .4E             \n",
       "Nbr of threads                               64.000000                          \n",
       "\n",
       "                                              t-test   p-value Rob. Std err  \\\n",
       "asc_air                                    -0.652307  0.514203     0.513556   \n",
       "asc_bus                                   -24.979509       0.0      0.12181   \n",
       "asc_coach                                 -11.143045       0.0     0.317696   \n",
       "asc_non_motor                             -19.184017       0.0     0.210574   \n",
       "asc_rail_l                                 -7.285032       0.0     0.313383   \n",
       "asc_rail_s                                -26.227713       0.0     0.104199   \n",
       "b_c                                        -4.371163  0.000012     0.015837   \n",
       "b_t                                        -5.014199  0.000001     0.003871   \n",
       "mu_rail                                      3.20964  0.001329     0.439913   \n",
       "Number of estimated parameters                                                \n",
       "Number of free parameters                                                     \n",
       "Sample size                                                                   \n",
       "Excluded observations                                                         \n",
       "Init log likelihood                                                           \n",
       "Final log likelihood                                                          \n",
       "Likelihood ratio test for the init. model                                     \n",
       "Rho-square for the init. model                                                \n",
       "Rho-square-bar for the init. model                                            \n",
       "Akaike Information Criterion                                                  \n",
       "Bayesian Information Criterion                                                \n",
       "Final gradient norm                                                           \n",
       "Nbr of threads                                                                \n",
       "\n",
       "                                          Rob. t-test Rob. p-value  \n",
       "asc_air                                    -12.730155          0.0  \n",
       "asc_bus                                    -23.927898          0.0  \n",
       "asc_coach                                  -10.799885          0.0  \n",
       "asc_non_motor                              -19.478085          0.0  \n",
       "asc_rail_l                                  -6.463571          0.0  \n",
       "asc_rail_s                                 -24.694094          0.0  \n",
       "b_c                                         -2.953922     0.003138  \n",
       "b_t                                         -5.554769          0.0  \n",
       "mu_rail                                      2.273176     0.023016  \n",
       "Number of estimated parameters                                      \n",
       "Number of free parameters                                           \n",
       "Sample size                                                         \n",
       "Excluded observations                                               \n",
       "Init log likelihood                                                 \n",
       "Final log likelihood                                                \n",
       "Likelihood ratio test for the init. model                           \n",
       "Rho-square for the init. model                                      \n",
       "Rho-square-bar for the init. model                                  \n",
       "Akaike Information Criterion                                        \n",
       "Bayesian Information Criterion                                      \n",
       "Final gradient norm                                                 \n",
       "Nbr of threads                                                      "
      ]
     },
     "execution_count": 55,
     "metadata": {},
     "output_type": "execute_result"
    }
   ],
   "source": [
    "results = results_nl.getEstimatedParameters()\n",
    "for key, val in results_nl.getGeneralStatistics().items():\n",
    "    results.loc[key] = [val[0], val[1]] + ['' for i in range(len(results.columns)-2)]\n",
    "results"
   ]
  },
  {
   "cell_type": "code",
   "execution_count": 56,
   "metadata": {},
   "outputs": [],
   "source": [
    "results.to_excel(writer, sheet_name=model_nl.modelName)"
   ]
  },
  {
   "cell_type": "raw",
   "metadata": {},
   "source": [
    "# Purposes\n",
    "'''results = []\n",
    "for p in [1,2,3,4,6,7]:\n",
    "    database = db.Database('MiD2017', df.copy())\n",
    "    database.remove(PURPOSE!=p)\n",
    "    print('Sample size for purpose {}: {}'.format(p, database.getSampleSize()))\n",
    "    mnl = models.loglogit(V[p], av[p], MODE) # Choose utility functions and availabilities\n",
    "    model = bio.BIOGEME(database, mnl) # Choose the model formulation\n",
    "    model.modelName = p_dict_rev[p] # Name it\n",
    "    results.append(model.estimate()) # Estimation\n",
    "    output = results[-1].getEstimatedParameters()\n",
    "    # Add results to the Excel file\n",
    "    for key, val in results[-1].getGeneralStatistics().items():\n",
    "        output.loc[key] = [val[0], val[1]] + ['' for i in range(len(output.columns)-2)]\n",
    "    output.to_excel(writer, sheet_name=model.modelName)'''"
   ]
  },
  {
   "cell_type": "code",
   "execution_count": 57,
   "metadata": {},
   "outputs": [
    {
     "name": "stdout",
     "output_type": "stream",
     "text": [
      "Sample size for purpose 6, car 0: 906\n",
      "[16:51:58] < Warning >   Cannot read file __leisure_no_car.iter. Statement is ignored.\n",
      "Sample size for purpose 6, car 1: 39466\n",
      "[16:52:02] < Warning >   Cannot read file __leisure_car.iter. Statement is ignored.\n",
      "Sample size for purpose 7, car 0: 41\n",
      "[16:52:16] < Warning >   Cannot read file __accompany_no_car.iter. Statement is ignored.\n",
      "Sample size for purpose 7, car 1: 8959\n",
      "[16:52:17] < Warning >   Cannot read file __accompany_car.iter. Statement is ignored.\n",
      "Sample size for purpose 1, car 0: 735\n",
      "[16:52:22] < Warning >   Cannot read file __commuting_no_car.iter. Statement is ignored.\n",
      "Sample size for purpose 1, car 1: 32822\n",
      "[16:52:25] < Warning >   Cannot read file __commuting_car.iter. Statement is ignored.\n",
      "Sample size for purpose 4, car 0: 537\n",
      "[16:52:37] < Warning >   Cannot read file __buy-execute_no_car.iter. Statement is ignored.\n",
      "Sample size for purpose 4, car 1: 35991\n",
      "[16:52:40] < Warning >   Cannot read file __buy-execute_car.iter. Statement is ignored.\n",
      "Sample size for purpose 2, car 0: 102\n",
      "[16:52:52] < Warning >   Cannot read file __business_no_car.iter. Statement is ignored.\n",
      "Sample size for purpose 2, car 1: 6803\n",
      "[16:52:53] < Warning >   Cannot read file __business_car.iter. Statement is ignored.\n",
      "Sample size for purpose 3, car 0: 128\n",
      "[16:52:55] < Warning >   Cannot read file __education_no_car.iter. Statement is ignored.\n",
      "Sample size for purpose 3, car 1: 5514\n",
      "[16:52:56] < Warning >   Cannot read file __education_car.iter. Statement is ignored.\n"
     ]
    }
   ],
   "source": [
    "# Run the estimation by purpose\n",
    "# These purposes are differentiated by car availability\n",
    "car_str = ['_no_car', '_car']\n",
    "results = []\n",
    "for p in df['PURPOSE'].unique():\n",
    "    for car in [0,1]:\n",
    "        mask = (df['PURPOSE']==p) & (df['CAR_AV']==car)\n",
    "        database = db.Database('MiD2017', df.loc[mask].copy())\n",
    "        print('Sample size for purpose {}, car {}: {}'.format(p, car, database.getSampleSize()))\n",
    "        mnl = models.loglogit(V[p], av[p], MODE) # Choose utility functions and availabilities\n",
    "        nl = models.lognested(V[p], av[p], nests, MODE) # Choose utility functions and availabilities\n",
    "        formulas = {'loglike': nl, 'weight': W_GEW} # give weights to the estimator\n",
    "        model = bio.BIOGEME(database, formulas)#, numberOfThreads=10)\n",
    "        model.generateHtml = False\n",
    "        model.generatePickle = False\n",
    "        model.saveIterations = False\n",
    "        model.modelName = p_dict_rev[p].replace('/', '-') + car_str[car] # Name it\n",
    "        results.append(model.estimate()) # Estimation\n",
    "        output = results[-1].getEstimatedParameters()\n",
    "        # Add results to the Excel file\n",
    "        for key, val in results[-1].getGeneralStatistics().items():\n",
    "            output.loc[key] = [val[0], val[1]] + ['' for i in range(len(output.columns)-2)]\n",
    "        output.to_excel(writer, sheet_name=model.modelName)"
   ]
  },
  {
   "cell_type": "code",
   "execution_count": 58,
   "metadata": {},
   "outputs": [],
   "source": [
    "writer.save()"
   ]
  }
 ],
 "metadata": {
  "kernelspec": {
   "display_name": "Python 3 (ipykernel)",
   "language": "python",
   "name": "python3"
  },
  "language_info": {
   "codemirror_mode": {
    "name": "ipython",
    "version": 3
   },
   "file_extension": ".py",
   "mimetype": "text/x-python",
   "name": "python",
   "nbconvert_exporter": "python",
   "pygments_lexer": "ipython3",
   "version": "3.9.13"
  }
 },
 "nbformat": 4,
 "nbformat_minor": 4
}
