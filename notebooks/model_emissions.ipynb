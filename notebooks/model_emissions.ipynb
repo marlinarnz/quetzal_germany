{
 "cells": [
  {
   "cell_type": "code",
   "execution_count": 1,
   "metadata": {},
   "outputs": [
    {
     "name": "stderr",
     "output_type": "stream",
     "text": [
      "In C:\\Users\\marlin.arnz\\AppData\\Local\\Continuum\\miniconda3\\envs\\quetzal\\lib\\site-packages\\matplotlib\\mpl-data\\stylelib\\_classic_test.mplstyle: \n",
      "The text.latex.preview rcparam was deprecated in Matplotlib 3.3 and will be removed two minor releases later.\n",
      "In C:\\Users\\marlin.arnz\\AppData\\Local\\Continuum\\miniconda3\\envs\\quetzal\\lib\\site-packages\\matplotlib\\mpl-data\\stylelib\\_classic_test.mplstyle: \n",
      "The mathtext.fallback_to_cm rcparam was deprecated in Matplotlib 3.3 and will be removed two minor releases later.\n",
      "In C:\\Users\\marlin.arnz\\AppData\\Local\\Continuum\\miniconda3\\envs\\quetzal\\lib\\site-packages\\matplotlib\\mpl-data\\stylelib\\_classic_test.mplstyle: Support for setting the 'mathtext.fallback_to_cm' rcParam is deprecated since 3.3 and will be removed two minor releases later; use 'mathtext.fallback : 'cm' instead.\n",
      "In C:\\Users\\marlin.arnz\\AppData\\Local\\Continuum\\miniconda3\\envs\\quetzal\\lib\\site-packages\\matplotlib\\mpl-data\\stylelib\\_classic_test.mplstyle: \n",
      "The validate_bool_maybe_none function was deprecated in Matplotlib 3.3 and will be removed two minor releases later.\n",
      "In C:\\Users\\marlin.arnz\\AppData\\Local\\Continuum\\miniconda3\\envs\\quetzal\\lib\\site-packages\\matplotlib\\mpl-data\\stylelib\\_classic_test.mplstyle: \n",
      "The savefig.jpeg_quality rcparam was deprecated in Matplotlib 3.3 and will be removed two minor releases later.\n",
      "In C:\\Users\\marlin.arnz\\AppData\\Local\\Continuum\\miniconda3\\envs\\quetzal\\lib\\site-packages\\matplotlib\\mpl-data\\stylelib\\_classic_test.mplstyle: \n",
      "The keymap.all_axes rcparam was deprecated in Matplotlib 3.3 and will be removed two minor releases later.\n",
      "In C:\\Users\\marlin.arnz\\AppData\\Local\\Continuum\\miniconda3\\envs\\quetzal\\lib\\site-packages\\matplotlib\\mpl-data\\stylelib\\_classic_test.mplstyle: \n",
      "The animation.avconv_path rcparam was deprecated in Matplotlib 3.3 and will be removed two minor releases later.\n",
      "In C:\\Users\\marlin.arnz\\AppData\\Local\\Continuum\\miniconda3\\envs\\quetzal\\lib\\site-packages\\matplotlib\\mpl-data\\stylelib\\_classic_test.mplstyle: \n",
      "The animation.avconv_args rcparam was deprecated in Matplotlib 3.3 and will be removed two minor releases later.\n"
     ]
    }
   ],
   "source": [
    "import sys # for automation and parallelisation\n",
    "manual, scenario = (True, 'base') if 'ipykernel' in sys.argv[0] else (False, sys.argv[1])\n",
    "if manual:\n",
    "    %matplotlib inline"
   ]
  },
  {
   "cell_type": "code",
   "execution_count": 2,
   "metadata": {},
   "outputs": [],
   "source": [
    "import numpy as np\n",
    "import pandas as pd\n",
    "import geopandas as gpd\n",
    "import shapely\n",
    "from tqdm import tqdm\n",
    "from quetzal.model import stepmodel\n",
    "from syspy.skims import skims\n",
    "from quetzal.io import excel"
   ]
  },
  {
   "cell_type": "markdown",
   "metadata": {},
   "source": [
    "# Emissions modelling\n",
    "## Saves emissions from passenger transport\n",
    "## Needs inner- and intra-zonal passenger kilometer by mode"
   ]
  },
  {
   "cell_type": "code",
   "execution_count": 3,
   "metadata": {},
   "outputs": [],
   "source": [
    "input_path = '../input_static/'\n",
    "output_path = '../output/'\n",
    "model_path = '../model/'"
   ]
  },
  {
   "cell_type": "code",
   "execution_count": 4,
   "metadata": {},
   "outputs": [],
   "source": [
    "# Load scenario parameters\n",
    "params = excel.read_var(file='../input/parameters.xls', scenario=scenario)"
   ]
  },
  {
   "cell_type": "markdown",
   "metadata": {},
   "source": [
    "### Load results"
   ]
  },
  {
   "cell_type": "code",
   "execution_count": 5,
   "metadata": {},
   "outputs": [],
   "source": [
    "sm = stepmodel.read_json(model_path + 'de_assignment')"
   ]
  },
  {
   "cell_type": "code",
   "execution_count": 6,
   "metadata": {},
   "outputs": [
    {
     "data": {
      "text/html": [
       "<div>\n",
       "<style scoped>\n",
       "    .dataframe tbody tr th:only-of-type {\n",
       "        vertical-align: middle;\n",
       "    }\n",
       "\n",
       "    .dataframe tbody tr th {\n",
       "        vertical-align: top;\n",
       "    }\n",
       "\n",
       "    .dataframe thead th {\n",
       "        text-align: right;\n",
       "    }\n",
       "</style>\n",
       "<table border=\"1\" class=\"dataframe\">\n",
       "  <thead>\n",
       "    <tr style=\"text-align: right;\">\n",
       "      <th></th>\n",
       "      <th>a</th>\n",
       "      <th>b</th>\n",
       "      <th>maxspeed</th>\n",
       "      <th>length</th>\n",
       "      <th>time</th>\n",
       "      <th>(('Fz1', 0), 'car')</th>\n",
       "      <th>(('Fz1', 1), 'car')</th>\n",
       "      <th>(('Fz2', 0), 'car')</th>\n",
       "      <th>(('Fz2', 1), 'car')</th>\n",
       "      <th>(('Fz3', 0), 'car')</th>\n",
       "      <th>(('Fz3', 1), 'car')</th>\n",
       "      <th>(('Fz4', 0), 'car')</th>\n",
       "      <th>(('Fz4', 1), 'car')</th>\n",
       "      <th>(('Fz6', 0), 'car')</th>\n",
       "      <th>(('Fz6', 1), 'car')</th>\n",
       "      <th>('all', 'car')</th>\n",
       "      <th>geometry</th>\n",
       "      <th>lanes</th>\n",
       "    </tr>\n",
       "    <tr>\n",
       "      <th>index</th>\n",
       "      <th></th>\n",
       "      <th></th>\n",
       "      <th></th>\n",
       "      <th></th>\n",
       "      <th></th>\n",
       "      <th></th>\n",
       "      <th></th>\n",
       "      <th></th>\n",
       "      <th></th>\n",
       "      <th></th>\n",
       "      <th></th>\n",
       "      <th></th>\n",
       "      <th></th>\n",
       "      <th></th>\n",
       "      <th></th>\n",
       "      <th></th>\n",
       "      <th></th>\n",
       "      <th></th>\n",
       "    </tr>\n",
       "  </thead>\n",
       "  <tbody>\n",
       "    <tr>\n",
       "      <th>rl_175116</th>\n",
       "      <td>29632910</td>\n",
       "      <td>297339855</td>\n",
       "      <td>125</td>\n",
       "      <td>5102</td>\n",
       "      <td>184</td>\n",
       "      <td>500.667611</td>\n",
       "      <td>1.479994e+06</td>\n",
       "      <td>332.548903</td>\n",
       "      <td>53781.670816</td>\n",
       "      <td>714.927303</td>\n",
       "      <td>764226.255935</td>\n",
       "      <td>4147.320438</td>\n",
       "      <td>1.061046e+06</td>\n",
       "      <td>2417.147196</td>\n",
       "      <td>2.767841e+06</td>\n",
       "      <td>6.135002e+06</td>\n",
       "      <td>LINESTRING (10.52089 52.02799, 10.50052 52.07214)</td>\n",
       "      <td>[2, 3]</td>\n",
       "    </tr>\n",
       "  </tbody>\n",
       "</table>\n",
       "</div>"
      ],
      "text/plain": [
       "                  a          b  maxspeed  length  time  (('Fz1', 0), 'car')  \\\n",
       "index                                                                         \n",
       "rl_175116  29632910  297339855       125    5102   184           500.667611   \n",
       "\n",
       "           (('Fz1', 1), 'car')  (('Fz2', 0), 'car')  (('Fz2', 1), 'car')  \\\n",
       "index                                                                      \n",
       "rl_175116         1.479994e+06           332.548903         53781.670816   \n",
       "\n",
       "           (('Fz3', 0), 'car')  (('Fz3', 1), 'car')  (('Fz4', 0), 'car')  \\\n",
       "index                                                                      \n",
       "rl_175116           714.927303        764226.255935          4147.320438   \n",
       "\n",
       "           (('Fz4', 1), 'car')  (('Fz6', 0), 'car')  (('Fz6', 1), 'car')  \\\n",
       "index                                                                      \n",
       "rl_175116         1.061046e+06          2417.147196         2.767841e+06   \n",
       "\n",
       "           ('all', 'car')                                           geometry  \\\n",
       "index                                                                          \n",
       "rl_175116    6.135002e+06  LINESTRING (10.52089 52.02799, 10.50052 52.07214)   \n",
       "\n",
       "            lanes  \n",
       "index              \n",
       "rl_175116  [2, 3]  "
      ]
     },
     "execution_count": 6,
     "metadata": {},
     "output_type": "execute_result"
    }
   ],
   "source": [
    "# Filter unused road links\n",
    "sm.road_links = sm.road_links.loc[~sm.road_links.isna().any(axis=1)]\n",
    "sm.road_links.sample()"
   ]
  },
  {
   "cell_type": "code",
   "execution_count": 7,
   "metadata": {},
   "outputs": [],
   "source": [
    "# Import bugfix\n",
    "segments = [('Fz'+str(p), car) for p in [1,2,3,4,6] for car in [0,1]]\n",
    "column_dict = {\"(('\"+seg[0]+\"', \"+str(seg[1])+\"), 'car')\": (seg, 'car') for seg in segments}\n",
    "sm.road_links = sm.road_links.rename(columns=column_dict)"
   ]
  },
  {
   "cell_type": "code",
   "execution_count": 8,
   "metadata": {},
   "outputs": [],
   "source": [
    "# Calculate vehicle kilometers by demand segment\n",
    "# As done in model_assignment_inner-zone\n",
    "occ_dict = params['car_occ'] # MiD2017 data, see cal10\n",
    "sm.road_links['vkm'] = 0\n",
    "for seg in segments:\n",
    "    sm.road_links['vkm'] += sm.road_links[(seg, 'car')] * sm.road_links['length']/1000 / occ_dict[seg[0]]\n",
    "sm.road_links['vkm'] = sm.road_links['vkm'].astype(int)"
   ]
  },
  {
   "cell_type": "code",
   "execution_count": 9,
   "metadata": {},
   "outputs": [],
   "source": [
    "# Create a DataFrame to map road links to a zone\n",
    "road_geo = gpd.GeoDataFrame({'NUTS1': [np.nan]*len(sm.road_links)},\n",
    "                            index=sm.road_links.index,\n",
    "                            geometry=[shapely.geometry.Point(g.coords[0])\n",
    "                                      for g in sm.road_links['geometry']],\n",
    "                            crs=sm.epsg)"
   ]
  },
  {
   "cell_type": "code",
   "execution_count": 10,
   "metadata": {},
   "outputs": [],
   "source": [
    "# Load zone geometries\n",
    "zones = gpd.read_file(\"../input_static/spatial_NUTS_RG_01M_2016_4326.geojson\")\n",
    "zones = zones[(zones[\"CNTR_CODE\"]==\"DE\") & (zones[\"LEVL_CODE\"]==1)]"
   ]
  },
  {
   "cell_type": "code",
   "execution_count": 11,
   "metadata": {},
   "outputs": [
    {
     "name": "stderr",
     "output_type": "stream",
     "text": [
      "100%|██████████████████████████████████████████████████████████████████████████████████| 16/16 [02:13<00:00,  8.31s/it]\n"
     ]
    }
   ],
   "source": [
    "# Map\n",
    "shapely.speedups.enable()\n",
    "for _, zone in tqdm(zones.iterrows(), total=zones.shape[0]):\n",
    "    road_geo.loc[road_geo['geometry'].within(zone['geometry']), 'NUTS1'] = zone['NUTS_ID']"
   ]
  },
  {
   "cell_type": "code",
   "execution_count": 12,
   "metadata": {},
   "outputs": [
    {
     "data": {
      "text/html": [
       "<div>\n",
       "<style scoped>\n",
       "    .dataframe tbody tr th:only-of-type {\n",
       "        vertical-align: middle;\n",
       "    }\n",
       "\n",
       "    .dataframe tbody tr th {\n",
       "        vertical-align: top;\n",
       "    }\n",
       "\n",
       "    .dataframe thead th {\n",
       "        text-align: right;\n",
       "    }\n",
       "</style>\n",
       "<table border=\"1\" class=\"dataframe\">\n",
       "  <thead>\n",
       "    <tr style=\"text-align: right;\">\n",
       "      <th></th>\n",
       "      <th></th>\n",
       "      <th>vkm</th>\n",
       "    </tr>\n",
       "    <tr>\n",
       "      <th>NUTS1</th>\n",
       "      <th>maxspeed</th>\n",
       "      <th></th>\n",
       "    </tr>\n",
       "  </thead>\n",
       "  <tbody>\n",
       "    <tr>\n",
       "      <th rowspan=\"5\" valign=\"top\">DE1</th>\n",
       "      <th>30</th>\n",
       "      <td>5.329093e+07</td>\n",
       "    </tr>\n",
       "    <tr>\n",
       "      <th>40</th>\n",
       "      <td>6.669731e+08</td>\n",
       "    </tr>\n",
       "    <tr>\n",
       "      <th>50</th>\n",
       "      <td>3.055745e+09</td>\n",
       "    </tr>\n",
       "    <tr>\n",
       "      <th>57</th>\n",
       "      <td>4.504022e+09</td>\n",
       "    </tr>\n",
       "    <tr>\n",
       "      <th>60</th>\n",
       "      <td>2.255158e+08</td>\n",
       "    </tr>\n",
       "  </tbody>\n",
       "</table>\n",
       "</div>"
      ],
      "text/plain": [
       "                         vkm\n",
       "NUTS1 maxspeed              \n",
       "DE1   30        5.329093e+07\n",
       "      40        6.669731e+08\n",
       "      50        3.055745e+09\n",
       "      57        4.504022e+09\n",
       "      60        2.255158e+08"
      ]
     },
     "execution_count": 12,
     "metadata": {},
     "output_type": "execute_result"
    }
   ],
   "source": [
    "# Sum up vkm by region and speed limit\n",
    "merged = sm.road_links.merge(road_geo['NUTS1'], left_index=True, right_index=True)\n",
    "inter_car = merged.groupby(['NUTS1', 'maxspeed']).agg({'vkm': 'sum'})\n",
    "inter_car.head()"
   ]
  },
  {
   "cell_type": "code",
   "execution_count": 13,
   "metadata": {},
   "outputs": [],
   "source": [
    "# Generate length for PT links if not done yet\n",
    "if 'length' not in sm.loaded_links.columns:\n",
    "    sm.loaded_links['length'] = skims.distance_from_geometry(\n",
    "        sm.loaded_links['geometry']).astype(int)"
   ]
  },
  {
   "cell_type": "code",
   "execution_count": 14,
   "metadata": {},
   "outputs": [
    {
     "data": {
      "text/html": [
       "<div>\n",
       "<style scoped>\n",
       "    .dataframe tbody tr th:only-of-type {\n",
       "        vertical-align: middle;\n",
       "    }\n",
       "\n",
       "    .dataframe tbody tr th {\n",
       "        vertical-align: top;\n",
       "    }\n",
       "\n",
       "    .dataframe thead th {\n",
       "        text-align: right;\n",
       "    }\n",
       "</style>\n",
       "<table border=\"1\" class=\"dataframe\">\n",
       "  <thead>\n",
       "    <tr style=\"text-align: right;\">\n",
       "      <th></th>\n",
       "      <th></th>\n",
       "      <th>pkm</th>\n",
       "    </tr>\n",
       "    <tr>\n",
       "      <th>NUTS1</th>\n",
       "      <th>route_type</th>\n",
       "      <th></th>\n",
       "    </tr>\n",
       "  </thead>\n",
       "  <tbody>\n",
       "    <tr>\n",
       "      <th rowspan=\"5\" valign=\"top\">DE1</th>\n",
       "      <th>air</th>\n",
       "      <td>7.932136e+07</td>\n",
       "    </tr>\n",
       "    <tr>\n",
       "      <th>bus</th>\n",
       "      <td>2.616365e+09</td>\n",
       "    </tr>\n",
       "    <tr>\n",
       "      <th>coach</th>\n",
       "      <td>1.733911e+09</td>\n",
       "    </tr>\n",
       "    <tr>\n",
       "      <th>rail_long</th>\n",
       "      <td>5.991183e+09</td>\n",
       "    </tr>\n",
       "    <tr>\n",
       "      <th>rail_short</th>\n",
       "      <td>6.230824e+09</td>\n",
       "    </tr>\n",
       "  </tbody>\n",
       "</table>\n",
       "</div>"
      ],
      "text/plain": [
       "                           pkm\n",
       "NUTS1 route_type              \n",
       "DE1   air         7.932136e+07\n",
       "      bus         2.616365e+09\n",
       "      coach       1.733911e+09\n",
       "      rail_long   5.991183e+09\n",
       "      rail_short  6.230824e+09"
      ]
     },
     "execution_count": 14,
     "metadata": {},
     "output_type": "execute_result"
    }
   ],
   "source": [
    "# Emissions from PT are considered in the service's origin\n",
    "node_dict = sm.loaded_nodes['FID'].str[:3].to_dict()\n",
    "sm.loaded_links['NUTS1'] = sm.loaded_links['a'].map(node_dict)\n",
    "sm.loaded_links['pkm'] = sm.loaded_links['length']/1000 * sm.loaded_links['load']\n",
    "inter_pt = sm.loaded_links.groupby(['NUTS1', 'route_type']).agg({'pkm': 'sum'})\n",
    "inter_pt.head()"
   ]
  },
  {
   "cell_type": "code",
   "execution_count": 15,
   "metadata": {},
   "outputs": [],
   "source": [
    "# Load results of inner-zonal traffic\n",
    "inner = pd.read_excel(output_path + 'inner_zone.xlsx', sheet_name='agg', index_col=[0,1])"
   ]
  },
  {
   "cell_type": "code",
   "execution_count": 16,
   "metadata": {},
   "outputs": [],
   "source": [
    "inner = inner.rename(index={'rail': 'rail_short'})"
   ]
  },
  {
   "cell_type": "code",
   "execution_count": 17,
   "metadata": {},
   "outputs": [],
   "source": [
    "# Combine results\n",
    "merged['pkm'] = merged[\"('all', 'car')\"] * merged['length']/1000\n",
    "merged['route_type'] = 'car'\n",
    "all_pkm = merged.groupby(['NUTS1', 'route_type']).agg({'pkm': 'sum'}).append(inter_pt)\n",
    "inner.index.rename(['NUTS1', 'route_type'], inplace=True)\n",
    "all_pkm = all_pkm.merge(inner['pkm'], how='outer', left_index=True,\n",
    "                        right_index=True, suffixes=['_inter', '_inner']).fillna(0)\n",
    "all_pkm['pkm'] = all_pkm['pkm_inter'] + all_pkm['pkm_inner']"
   ]
  },
  {
   "cell_type": "code",
   "execution_count": 18,
   "metadata": {},
   "outputs": [
    {
     "data": {
      "text/plain": [
       "array([<AxesSubplot:ylabel='None'>], dtype=object)"
      ]
     },
     "execution_count": 18,
     "metadata": {},
     "output_type": "execute_result"
    },
    {
     "data": {
      "image/png": "[encoded data removed]",
      "text/plain": [
       "<Figure size 432x288 with 1 Axes>"
      ]
     },
     "metadata": {},
     "output_type": "display_data"
    }
   ],
   "source": [
    "all_pkm['pkm'].unstack().sum(axis=0).plot.pie(subplots=True, title='Modal split in pkm')"
   ]
  },
  {
   "cell_type": "code",
   "execution_count": 19,
   "metadata": {},
   "outputs": [
    {
     "data": {
      "text/html": [
       "<div>\n",
       "<style scoped>\n",
       "    .dataframe tbody tr th:only-of-type {\n",
       "        vertical-align: middle;\n",
       "    }\n",
       "\n",
       "    .dataframe tbody tr th {\n",
       "        vertical-align: top;\n",
       "    }\n",
       "\n",
       "    .dataframe thead th {\n",
       "        text-align: right;\n",
       "    }\n",
       "</style>\n",
       "<table border=\"1\" class=\"dataframe\">\n",
       "  <thead>\n",
       "    <tr style=\"text-align: right;\">\n",
       "      <th></th>\n",
       "      <th>pkm</th>\n",
       "    </tr>\n",
       "    <tr>\n",
       "      <th>route_type</th>\n",
       "      <th></th>\n",
       "    </tr>\n",
       "  </thead>\n",
       "  <tbody>\n",
       "    <tr>\n",
       "      <th>air</th>\n",
       "      <td>0.107001</td>\n",
       "    </tr>\n",
       "    <tr>\n",
       "      <th>bus</th>\n",
       "      <td>6.350325</td>\n",
       "    </tr>\n",
       "    <tr>\n",
       "      <th>car</th>\n",
       "      <td>80.547980</td>\n",
       "    </tr>\n",
       "    <tr>\n",
       "      <th>rail</th>\n",
       "      <td>8.404017</td>\n",
       "    </tr>\n",
       "    <tr>\n",
       "      <th>walk</th>\n",
       "      <td>4.590677</td>\n",
       "    </tr>\n",
       "  </tbody>\n",
       "</table>\n",
       "</div>"
      ],
      "text/plain": [
       "                  pkm\n",
       "route_type           \n",
       "air          0.107001\n",
       "bus          6.350325\n",
       "car         80.547980\n",
       "rail         8.404017\n",
       "walk         4.590677"
      ]
     },
     "execution_count": 19,
     "metadata": {},
     "output_type": "execute_result"
    }
   ],
   "source": [
    "# Mode shares in percent\n",
    "mode_agg = {'tram': 'bus', 'subway': 'bus', 'ferry': 'bus', 'funicular': 'bus', 'coach': 'bus',\n",
    "            'rail_long': 'rail', 'rail_short': 'rail'}\n",
    "total = all_pkm['pkm'].sum()\n",
    "all_pkm.rename(index=mode_agg).groupby(level=1).agg({'pkm': 'sum'})/total*100"
   ]
  },
  {
   "cell_type": "code",
   "execution_count": 20,
   "metadata": {},
   "outputs": [
    {
     "data": {
      "text/plain": [
       "1316.2389723095446"
      ]
     },
     "execution_count": 20,
     "metadata": {},
     "output_type": "execute_result"
    }
   ],
   "source": [
    "# Total traffic (billion pkm)\n",
    "total/1e9"
   ]
  },
  {
   "cell_type": "code",
   "execution_count": 21,
   "metadata": {},
   "outputs": [
    {
     "data": {
      "text/html": [
       "<div>\n",
       "<style scoped>\n",
       "    .dataframe tbody tr th:only-of-type {\n",
       "        vertical-align: middle;\n",
       "    }\n",
       "\n",
       "    .dataframe tbody tr th {\n",
       "        vertical-align: top;\n",
       "    }\n",
       "\n",
       "    .dataframe thead th {\n",
       "        text-align: right;\n",
       "    }\n",
       "</style>\n",
       "<table border=\"1\" class=\"dataframe\">\n",
       "  <thead>\n",
       "    <tr style=\"text-align: right;\">\n",
       "      <th></th>\n",
       "      <th>pkm</th>\n",
       "    </tr>\n",
       "    <tr>\n",
       "      <th>route_type</th>\n",
       "      <th></th>\n",
       "    </tr>\n",
       "  </thead>\n",
       "  <tbody>\n",
       "    <tr>\n",
       "      <th>air</th>\n",
       "      <td>1.408395</td>\n",
       "    </tr>\n",
       "    <tr>\n",
       "      <th>bus</th>\n",
       "      <td>83.585455</td>\n",
       "    </tr>\n",
       "    <tr>\n",
       "      <th>car</th>\n",
       "      <td>1060.203902</td>\n",
       "    </tr>\n",
       "    <tr>\n",
       "      <th>rail</th>\n",
       "      <td>110.616946</td>\n",
       "    </tr>\n",
       "    <tr>\n",
       "      <th>walk</th>\n",
       "      <td>60.424275</td>\n",
       "    </tr>\n",
       "  </tbody>\n",
       "</table>\n",
       "</div>"
      ],
      "text/plain": [
       "                    pkm\n",
       "route_type             \n",
       "air            1.408395\n",
       "bus           83.585455\n",
       "car         1060.203902\n",
       "rail         110.616946\n",
       "walk          60.424275"
      ]
     },
     "execution_count": 21,
     "metadata": {},
     "output_type": "execute_result"
    }
   ],
   "source": [
    "# Mode shares in total (billion pkm)\n",
    "all_pkm.rename(index=mode_agg).groupby(level=1).agg({'pkm': 'sum'})/1e9"
   ]
  },
  {
   "cell_type": "code",
   "execution_count": 22,
   "metadata": {},
   "outputs": [],
   "source": [
    "# Merge car vkm\n",
    "car_vkm = inner.xs('car', level=1)[['vkm']].merge(\n",
    "    inter_car.groupby(level=0).sum()['vkm'], how='outer', left_index=True,\n",
    "    right_index=True, suffixes=['_inner', '_inter']).fillna(0)\n",
    "car_vkm['vkm'] = car_vkm['vkm_inter'] + car_vkm['vkm_inner']"
   ]
  },
  {
   "cell_type": "code",
   "execution_count": 23,
   "metadata": {},
   "outputs": [
    {
     "data": {
      "text/plain": [
       "14150.733280213322"
      ]
     },
     "execution_count": 23,
     "metadata": {},
     "output_type": "execute_result"
    }
   ],
   "source": [
    "# Average vkm per year by roughly 46 Mio. cars in Germany 2017 (GENESIS database)\n",
    "car_vkm['vkm'].sum() / params['vehicles']['car']"
   ]
  },
  {
   "cell_type": "code",
   "execution_count": 24,
   "metadata": {},
   "outputs": [
    {
     "data": {
      "text/plain": [
       "4539.321812944586"
      ]
     },
     "execution_count": 24,
     "metadata": {},
     "output_type": "execute_result"
    }
   ],
   "source": [
    "# thereof inner NUTS3\n",
    "car_vkm['vkm_inner'].sum() / params['vehicles']['car']"
   ]
  },
  {
   "cell_type": "code",
   "execution_count": 25,
   "metadata": {},
   "outputs": [
    {
     "data": {
      "text/plain": [
       "9611.411467268737"
      ]
     },
     "execution_count": 25,
     "metadata": {},
     "output_type": "execute_result"
    }
   ],
   "source": [
    "# thereof inter NUTS3\n",
    "car_vkm['vkm_inter'].sum() / params['vehicles']['car']"
   ]
  },
  {
   "cell_type": "markdown",
   "metadata": {},
   "source": [
    "## Calculate PT vehicle loads\n",
    "\n",
    "While vkm of car traffic are straight forward (using average occupancies and pkm), PT vkm strongly depend on the transport supply system. They can be modelled using average occupancy factors of PT/sharing vehicles (as for private cars), or depend on vehicle circulations that are statically defined in schedules.\n",
    "\n",
    "Absolute road PT vkm values can be retrieved from BMVI 2018, \"Verkehr in Zahlen 2018/19\", p. 81. Rail vkm can be generated endogenously using GTFS feeds.\n",
    "\n",
    "Scientific thoughts regarding a thorough and computational efficient method can be found here: https://doi.org/10.1016/j.procs.2021.03.022"
   ]
  },
  {
   "cell_type": "code",
   "execution_count": 26,
   "metadata": {},
   "outputs": [],
   "source": [
    "# Use PT load factors calculated from 2018 values.\n",
    "# They are already included into below emission factors per pkm."
   ]
  },
  {
   "cell_type": "markdown",
   "metadata": {},
   "source": [
    "## Calculate emissions from vkm\n",
    "\n",
    "Reference emissions for 2019 (no change compared to 2017) from passenger traffic in Germany are 164 Mio. tCO2eq * (60.8(car)+1.4(air)+0.3(rail)+XXX(bus)=65)% = 107 Mio. tCO2eq\n",
    "\n",
    "Source: Bundesministerium für Umwelt, Naturschutz und nukleare Sicherheit (2021): Klimaschutz in Zahlen - Fakten, Trends und Impulse deutscher Klimapolitik Ausgabe 2021, p. 36\n",
    "\n",
    "Data sources for emission factors in this model are\n",
    "* vkm car: TREMOD (Transport Emission Model; underlying values come from HBEFA (Handbuch Emissionsfaktoren)): \"Aktualisierung der Modelle TREMOD/TREMOD-MM für die Emissionsberichterstattung 2020 (Berichtsperiode 1990-2018)\", 2020\n",
    "* pkm PT: UBA (Umweltbundesamt): \"Vergleich der durchschnittlichen Emissionen einzelner Verkehrsmittel im Personenverkehr in Deutschland\", 2020"
   ]
  },
  {
   "cell_type": "code",
   "execution_count": 27,
   "metadata": {},
   "outputs": [],
   "source": [
    "em_dict = params['emissions']"
   ]
  },
  {
   "cell_type": "code",
   "execution_count": 28,
   "metadata": {},
   "outputs": [],
   "source": [
    "# Cars\n",
    "# In 2017, there were 66% petrol and 33% diesel cars, rest is mainly LPG (TREMOD, p. 43)\n",
    "# Take REAL average emissions in gCO2eq/km (TREMOD, p. 54)\n",
    "car_em = 0.66*173.6 + 0.33*187.6 + 0.01*104\n",
    "inter_car['tCO2eq'] = inter_car['vkm'] * em_dict['car'] / 1e6"
   ]
  },
  {
   "cell_type": "code",
   "execution_count": 29,
   "metadata": {},
   "outputs": [],
   "source": [
    "# PT (UBA)\n",
    "inter_pt['tCO2eq'] = inter_pt['pkm'] * inter_pt.index.get_level_values(1).map(em_dict) / 1e6"
   ]
  },
  {
   "cell_type": "code",
   "execution_count": 30,
   "metadata": {},
   "outputs": [],
   "source": [
    "# Inner-zonal\n",
    "inner['tCO2eq'] = inner['vkm'] * inner.index.get_level_values(1).map(em_dict) / 1e6"
   ]
  },
  {
   "cell_type": "code",
   "execution_count": 31,
   "metadata": {},
   "outputs": [
    {
     "data": {
      "text/html": [
       "<div>\n",
       "<style scoped>\n",
       "    .dataframe tbody tr th:only-of-type {\n",
       "        vertical-align: middle;\n",
       "    }\n",
       "\n",
       "    .dataframe tbody tr th {\n",
       "        vertical-align: top;\n",
       "    }\n",
       "\n",
       "    .dataframe thead th {\n",
       "        text-align: right;\n",
       "    }\n",
       "</style>\n",
       "<table border=\"1\" class=\"dataframe\">\n",
       "  <thead>\n",
       "    <tr style=\"text-align: right;\">\n",
       "      <th></th>\n",
       "      <th>tCO2eq</th>\n",
       "    </tr>\n",
       "    <tr>\n",
       "      <th>route_type</th>\n",
       "      <th></th>\n",
       "    </tr>\n",
       "  </thead>\n",
       "  <tbody>\n",
       "    <tr>\n",
       "      <th>bus</th>\n",
       "      <td>0.000000</td>\n",
       "    </tr>\n",
       "    <tr>\n",
       "      <th>car</th>\n",
       "      <td>37.036406</td>\n",
       "    </tr>\n",
       "    <tr>\n",
       "      <th>rail_short</th>\n",
       "      <td>0.000000</td>\n",
       "    </tr>\n",
       "    <tr>\n",
       "      <th>walk</th>\n",
       "      <td>0.000000</td>\n",
       "    </tr>\n",
       "  </tbody>\n",
       "</table>\n",
       "</div>"
      ],
      "text/plain": [
       "               tCO2eq\n",
       "route_type           \n",
       "bus          0.000000\n",
       "car         37.036406\n",
       "rail_short   0.000000\n",
       "walk         0.000000"
      ]
     },
     "execution_count": 31,
     "metadata": {},
     "output_type": "execute_result"
    }
   ],
   "source": [
    "# Local transport emissions (mio. tonnes)\n",
    "inner.groupby('route_type').agg({'tCO2eq': 'sum'}) / 1e6"
   ]
  },
  {
   "cell_type": "code",
   "execution_count": 32,
   "metadata": {},
   "outputs": [
    {
     "data": {
      "text/plain": [
       "78.41967358688943"
      ]
     },
     "execution_count": 32,
     "metadata": {},
     "output_type": "execute_result"
    }
   ],
   "source": [
    "# CAR: Long-distance transport emissions (mio. tonnes)\n",
    "inter_car['tCO2eq'].sum()/1e6"
   ]
  },
  {
   "cell_type": "code",
   "execution_count": 33,
   "metadata": {},
   "outputs": [
    {
     "data": {
      "text/html": [
       "<div>\n",
       "<style scoped>\n",
       "    .dataframe tbody tr th:only-of-type {\n",
       "        vertical-align: middle;\n",
       "    }\n",
       "\n",
       "    .dataframe tbody tr th {\n",
       "        vertical-align: top;\n",
       "    }\n",
       "\n",
       "    .dataframe thead th {\n",
       "        text-align: right;\n",
       "    }\n",
       "</style>\n",
       "<table border=\"1\" class=\"dataframe\">\n",
       "  <thead>\n",
       "    <tr style=\"text-align: right;\">\n",
       "      <th></th>\n",
       "      <th>tCO2eq</th>\n",
       "    </tr>\n",
       "    <tr>\n",
       "      <th>route_type</th>\n",
       "      <th></th>\n",
       "    </tr>\n",
       "  </thead>\n",
       "  <tbody>\n",
       "    <tr>\n",
       "      <th>air</th>\n",
       "      <td>0.301396</td>\n",
       "    </tr>\n",
       "    <tr>\n",
       "      <th>bus</th>\n",
       "      <td>1.620694</td>\n",
       "    </tr>\n",
       "    <tr>\n",
       "      <th>coach</th>\n",
       "      <td>0.330633</td>\n",
       "    </tr>\n",
       "    <tr>\n",
       "      <th>rail_long</th>\n",
       "      <td>1.137570</td>\n",
       "    </tr>\n",
       "    <tr>\n",
       "      <th>rail_short</th>\n",
       "      <td>2.786169</td>\n",
       "    </tr>\n",
       "  </tbody>\n",
       "</table>\n",
       "</div>"
      ],
      "text/plain": [
       "              tCO2eq\n",
       "route_type          \n",
       "air         0.301396\n",
       "bus         1.620694\n",
       "coach       0.330633\n",
       "rail_long   1.137570\n",
       "rail_short  2.786169"
      ]
     },
     "execution_count": 33,
     "metadata": {},
     "output_type": "execute_result"
    }
   ],
   "source": [
    "# PT: Long-distance transport emissions (mio. tonnes)\n",
    "inter_pt.groupby('route_type').agg({'tCO2eq': 'sum'}) / 1e6"
   ]
  },
  {
   "cell_type": "code",
   "execution_count": 34,
   "metadata": {},
   "outputs": [],
   "source": [
    "# Drop speeds in car km\n",
    "inter_car = inter_car.groupby(level=0).sum()\n",
    "inter_car['route_type'] = 'car'\n",
    "inter_car.set_index('route_type', append=True, inplace=True)"
   ]
  },
  {
   "cell_type": "code",
   "execution_count": 35,
   "metadata": {},
   "outputs": [],
   "source": [
    "# Merge emissions together\n",
    "all_em = inter_pt[['tCO2eq']].append(inter_car[['tCO2eq']]).append(inner[['tCO2eq']])\n",
    "all_em = all_em.groupby(level=[0,1]).sum()"
   ]
  },
  {
   "cell_type": "code",
   "execution_count": 36,
   "metadata": {},
   "outputs": [
    {
     "data": {
      "text/plain": [
       "<AxesSubplot:xlabel='NUTS1'>"
      ]
     },
     "execution_count": 36,
     "metadata": {},
     "output_type": "execute_result"
    },
    {
     "data": {
      "image/png": "[encoded data removed]",
      "text/plain": [
       "<Figure size 1152x288 with 1 Axes>"
      ]
     },
     "metadata": {
      "needs_background": "light"
     },
     "output_type": "display_data"
    }
   ],
   "source": [
    "# Emissions by region and mode\n",
    "all_em.unstack().plot.bar(subplots=False, figsize=(16,4), width=1)"
   ]
  },
  {
   "cell_type": "markdown",
   "metadata": {},
   "source": [
    "## Save\n",
    "Create one ecxel output with pkm, emissions, time and cost."
   ]
  },
  {
   "cell_type": "code",
   "execution_count": 37,
   "metadata": {},
   "outputs": [],
   "source": [
    "# Load inter-zonal aggregated results\n",
    "inter = pd.read_excel(output_path + 'inter_zone.xlsx', sheet_name='od', index_col=[0,1,2])\n",
    "# Get time and price weighted averages by origin and mode\n",
    "weighted_av = lambda x: np.average(x, weights=inter.loc[x.index, 'volumes'])\n",
    "inter = inter.groupby(level=[0,2]).agg(\n",
    "    volumes=('volumes', 'sum'),\n",
    "    price=('price', weighted_av),\n",
    "    time=('time', weighted_av))\n",
    "inter.index.rename(['NUTS1', 'route_type'], inplace=True)"
   ]
  },
  {
   "cell_type": "code",
   "execution_count": 38,
   "metadata": {},
   "outputs": [
    {
     "data": {
      "text/html": [
       "<div>\n",
       "<style scoped>\n",
       "    .dataframe tbody tr th:only-of-type {\n",
       "        vertical-align: middle;\n",
       "    }\n",
       "\n",
       "    .dataframe tbody tr th {\n",
       "        vertical-align: top;\n",
       "    }\n",
       "\n",
       "    .dataframe thead th {\n",
       "        text-align: right;\n",
       "    }\n",
       "</style>\n",
       "<table border=\"1\" class=\"dataframe\">\n",
       "  <thead>\n",
       "    <tr style=\"text-align: right;\">\n",
       "      <th></th>\n",
       "      <th></th>\n",
       "      <th>volumes</th>\n",
       "      <th>price</th>\n",
       "      <th>time</th>\n",
       "    </tr>\n",
       "    <tr>\n",
       "      <th>NUTS1</th>\n",
       "      <th>route_type</th>\n",
       "      <th></th>\n",
       "      <th></th>\n",
       "      <th></th>\n",
       "    </tr>\n",
       "  </thead>\n",
       "  <tbody>\n",
       "    <tr>\n",
       "      <th>DEC</th>\n",
       "      <th>air</th>\n",
       "      <td>15412.981842</td>\n",
       "      <td>2.911323e+06</td>\n",
       "      <td>86175.501354</td>\n",
       "    </tr>\n",
       "  </tbody>\n",
       "</table>\n",
       "</div>"
      ],
      "text/plain": [
       "                       volumes         price          time\n",
       "NUTS1 route_type                                          \n",
       "DEC   air         15412.981842  2.911323e+06  86175.501354"
      ]
     },
     "execution_count": 38,
     "metadata": {},
     "output_type": "execute_result"
    }
   ],
   "source": [
    "# Sums\n",
    "for col in ['price', 'time']:\n",
    "    inter[col] = inter[col] * inter['volumes']\n",
    "inter.sample()"
   ]
  },
  {
   "cell_type": "code",
   "execution_count": 39,
   "metadata": {},
   "outputs": [],
   "source": [
    "# Merge times\n",
    "time = inter[['time']].merge(\n",
    "    (inner['time']*inner['volumes']).rename('time'), how='outer',\n",
    "    left_index=True, right_index=True, suffixes=['_inter', '_inner']).fillna(0)\n",
    "time['time'] = time['time_inter'] + time['time_inner']"
   ]
  },
  {
   "cell_type": "code",
   "execution_count": 40,
   "metadata": {},
   "outputs": [
    {
     "data": {
      "text/plain": [
       "1.4830396173334068"
      ]
     },
     "execution_count": 40,
     "metadata": {},
     "output_type": "execute_result"
    }
   ],
   "source": [
    "# Average car operating hours per day per car\n",
    "time.xs('car', level=1)['time'].sum() / params['vehicles']['car'] / 365"
   ]
  },
  {
   "cell_type": "code",
   "execution_count": 41,
   "metadata": {},
   "outputs": [],
   "source": [
    "# Merge prices\n",
    "price = inter[['price']].merge(\n",
    "    (inner['price']*inner['volumes']).rename('price'), how='outer',\n",
    "    left_index=True, right_index=True, suffixes=['_inter', '_inner']).fillna(0)\n",
    "price['price'] = price['price_inter'] + price['price_inner']"
   ]
  },
  {
   "cell_type": "code",
   "execution_count": 42,
   "metadata": {},
   "outputs": [],
   "source": [
    "# Save excel\n",
    "with pd.ExcelWriter(output_path + 'results_agg.xlsx') as writer:  \n",
    "    all_pkm.to_excel(writer, sheet_name='pkm')\n",
    "    car_vkm.to_excel(writer, sheet_name='car_vkm')\n",
    "    all_em.to_excel(writer, sheet_name='emissions')\n",
    "    time.to_excel(writer, sheet_name='time')\n",
    "    price.to_excel(writer, sheet_name='price')"
   ]
  },
  {
   "cell_type": "markdown",
   "metadata": {},
   "source": [
    "### Save disaggregated results"
   ]
  },
  {
   "cell_type": "code",
   "execution_count": 49,
   "metadata": {},
   "outputs": [
    {
     "name": "stderr",
     "output_type": "stream",
     "text": [
      "100%|████████████████████████████████████████████████████████████████████████████████| 401/401 [02:48<00:00,  2.39it/s]\n"
     ]
    }
   ],
   "source": [
    "# Map road volumes to NUTS3 zones as above\n",
    "zones = gpd.read_file(\"../input_static/spatial_NUTS_RG_01M_2016_4326.geojson\")\n",
    "zones = zones[(zones[\"CNTR_CODE\"]==\"DE\") & (zones[\"LEVL_CODE\"]==3)]\n",
    "road_geo['NUTS3'] = np.nan\n",
    "for _, zone in tqdm(zones.iterrows(), total=zones.shape[0]):\n",
    "    road_geo.loc[road_geo['geometry'].within(zone['geometry']), 'NUTS3'] = zone['NUTS_ID']"
   ]
  },
  {
   "cell_type": "code",
   "execution_count": 50,
   "metadata": {},
   "outputs": [],
   "source": [
    "# Sum up car pkm by region\n",
    "merged = sm.road_links.merge(road_geo['NUTS3'], left_index=True, right_index=True)\n",
    "merged['pkm'] = merged[\"('all', 'car')\"] * merged['length']/1000\n",
    "inter_car = merged.groupby('NUTS3').agg({\"pkm\": 'sum'})"
   ]
  },
  {
   "cell_type": "code",
   "execution_count": 52,
   "metadata": {},
   "outputs": [],
   "source": [
    "# PT\n",
    "node_dict = sm.loaded_nodes['FID'].to_dict()\n",
    "sm.loaded_links['NUTS3'] = sm.loaded_links['a'].map(node_dict)\n",
    "sm.loaded_links['pkm'] = sm.loaded_links['length']/1000 * sm.loaded_links['load']\n",
    "inter_pt = sm.loaded_links.groupby(['NUTS3', 'route_type']).agg({'pkm': 'sum'})"
   ]
  },
  {
   "cell_type": "code",
   "execution_count": 83,
   "metadata": {},
   "outputs": [],
   "source": [
    "# Load inner-zonal disaggregated pkm\n",
    "inner = pd.read_csv(output_path + 'inner_zone_pkm.csv')\n",
    "inner = inner.replace({'rail': 'rail_short'})\n",
    "inner = inner.groupby(['origin', 'mode']).agg({'pkm': 'sum'})"
   ]
  },
  {
   "cell_type": "code",
   "execution_count": 74,
   "metadata": {},
   "outputs": [],
   "source": [
    "# All together\n",
    "inter_car['route_type'] = 'car'\n",
    "inter = inter_car.groupby(['NUTS3', 'route_type']).agg({'pkm': 'sum'}).append(inter_pt)\n",
    "inter.index.names = inner.index.names\n",
    "all_pkm = inner.merge(inter, how='outer', left_index=True, right_index=True).fillna(0)"
   ]
  },
  {
   "cell_type": "code",
   "execution_count": 88,
   "metadata": {},
   "outputs": [],
   "source": [
    "all_pkm['pkm'] = all_pkm['pkm_x'] + all_pkm['pkm_y']"
   ]
  },
  {
   "cell_type": "code",
   "execution_count": 90,
   "metadata": {},
   "outputs": [],
   "source": [
    "all_pkm[['pkm']].to_csv(output_path + 'pkm.csv')"
   ]
  }
 ],
 "metadata": {
  "kernelspec": {
   "display_name": "Python 3",
   "language": "python",
   "name": "python3"
  },
  "language_info": {
   "codemirror_mode": {
    "name": "ipython",
    "version": 3
   },
   "file_extension": ".py",
   "mimetype": "text/x-python",
   "name": "python",
   "nbconvert_exporter": "python",
   "pygments_lexer": "ipython3",
   "version": "3.8.1"
  }
 },
 "nbformat": 4,
 "nbformat_minor": 2
}
