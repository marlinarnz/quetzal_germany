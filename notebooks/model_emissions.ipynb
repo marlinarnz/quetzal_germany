{
 "cells": [
  {
   "cell_type": "code",
   "execution_count": null,
   "metadata": {},
   "outputs": [],
   "source": [
    "import sys # for automation and parallelisation\n",
    "manual, scenario = (True, 'base') if 'ipykernel' in sys.argv[0] else (False, sys.argv[1])\n",
    "if manual:\n",
    "    %matplotlib inline"
   ]
  },
  {
   "cell_type": "code",
   "execution_count": 1,
   "metadata": {},
   "outputs": [
    {
     "name": "stderr",
     "output_type": "stream",
     "text": [
      "In C:\\Users\\marlin.arnz\\AppData\\Local\\Continuum\\miniconda3\\envs\\quetzal\\lib\\site-packages\\matplotlib\\mpl-data\\stylelib\\_classic_test.mplstyle: \n",
      "The text.latex.preview rcparam was deprecated in Matplotlib 3.3 and will be removed two minor releases later.\n",
      "In C:\\Users\\marlin.arnz\\AppData\\Local\\Continuum\\miniconda3\\envs\\quetzal\\lib\\site-packages\\matplotlib\\mpl-data\\stylelib\\_classic_test.mplstyle: \n",
      "The mathtext.fallback_to_cm rcparam was deprecated in Matplotlib 3.3 and will be removed two minor releases later.\n",
      "In C:\\Users\\marlin.arnz\\AppData\\Local\\Continuum\\miniconda3\\envs\\quetzal\\lib\\site-packages\\matplotlib\\mpl-data\\stylelib\\_classic_test.mplstyle: Support for setting the 'mathtext.fallback_to_cm' rcParam is deprecated since 3.3 and will be removed two minor releases later; use 'mathtext.fallback : 'cm' instead.\n",
      "In C:\\Users\\marlin.arnz\\AppData\\Local\\Continuum\\miniconda3\\envs\\quetzal\\lib\\site-packages\\matplotlib\\mpl-data\\stylelib\\_classic_test.mplstyle: \n",
      "The validate_bool_maybe_none function was deprecated in Matplotlib 3.3 and will be removed two minor releases later.\n",
      "In C:\\Users\\marlin.arnz\\AppData\\Local\\Continuum\\miniconda3\\envs\\quetzal\\lib\\site-packages\\matplotlib\\mpl-data\\stylelib\\_classic_test.mplstyle: \n",
      "The savefig.jpeg_quality rcparam was deprecated in Matplotlib 3.3 and will be removed two minor releases later.\n",
      "In C:\\Users\\marlin.arnz\\AppData\\Local\\Continuum\\miniconda3\\envs\\quetzal\\lib\\site-packages\\matplotlib\\mpl-data\\stylelib\\_classic_test.mplstyle: \n",
      "The keymap.all_axes rcparam was deprecated in Matplotlib 3.3 and will be removed two minor releases later.\n",
      "In C:\\Users\\marlin.arnz\\AppData\\Local\\Continuum\\miniconda3\\envs\\quetzal\\lib\\site-packages\\matplotlib\\mpl-data\\stylelib\\_classic_test.mplstyle: \n",
      "The animation.avconv_path rcparam was deprecated in Matplotlib 3.3 and will be removed two minor releases later.\n",
      "In C:\\Users\\marlin.arnz\\AppData\\Local\\Continuum\\miniconda3\\envs\\quetzal\\lib\\site-packages\\matplotlib\\mpl-data\\stylelib\\_classic_test.mplstyle: \n",
      "The animation.avconv_args rcparam was deprecated in Matplotlib 3.3 and will be removed two minor releases later.\n"
     ]
    }
   ],
   "source": [
    "import numpy as np\n",
    "import pandas as pd\n",
    "import geopandas as gpd\n",
    "import shapely\n",
    "from tqdm import tqdm\n",
    "from quetzal.model import stepmodel\n",
    "from syspy.skims import skims"
   ]
  },
  {
   "cell_type": "markdown",
   "metadata": {},
   "source": [
    "# Emissions modelling\n",
    "## Saves emissions from passenger transport\n",
    "## Needs inner- and intra-zonal passenger kilometer by mode"
   ]
  },
  {
   "cell_type": "code",
   "execution_count": 2,
   "metadata": {},
   "outputs": [],
   "source": [
    "input_path = '../input_static/'\n",
    "output_path = '../output/'\n",
    "model_path = '../model/'"
   ]
  },
  {
   "cell_type": "markdown",
   "metadata": {},
   "source": [
    "### Load results"
   ]
  },
  {
   "cell_type": "code",
   "execution_count": 3,
   "metadata": {},
   "outputs": [],
   "source": [
    "sm = stepmodel.read_json(model_path + 'de_assignment')"
   ]
  },
  {
   "cell_type": "code",
   "execution_count": 4,
   "metadata": {},
   "outputs": [
    {
     "data": {
      "text/html": [
       "<div>\n",
       "<style scoped>\n",
       "    .dataframe tbody tr th:only-of-type {\n",
       "        vertical-align: middle;\n",
       "    }\n",
       "\n",
       "    .dataframe tbody tr th {\n",
       "        vertical-align: top;\n",
       "    }\n",
       "\n",
       "    .dataframe thead th {\n",
       "        text-align: right;\n",
       "    }\n",
       "</style>\n",
       "<table border=\"1\" class=\"dataframe\">\n",
       "  <thead>\n",
       "    <tr style=\"text-align: right;\">\n",
       "      <th></th>\n",
       "      <th>a</th>\n",
       "      <th>b</th>\n",
       "      <th>maxspeed</th>\n",
       "      <th>length</th>\n",
       "      <th>time</th>\n",
       "      <th>('Fz1', 'car')</th>\n",
       "      <th>('Fz2', 'car')</th>\n",
       "      <th>('Fz3', 'car')</th>\n",
       "      <th>('Fz4', 'car')</th>\n",
       "      <th>('Fz6', 'car')</th>\n",
       "      <th>('all', 'car')</th>\n",
       "      <th>geometry</th>\n",
       "      <th>lanes</th>\n",
       "    </tr>\n",
       "    <tr>\n",
       "      <th>index</th>\n",
       "      <th></th>\n",
       "      <th></th>\n",
       "      <th></th>\n",
       "      <th></th>\n",
       "      <th></th>\n",
       "      <th></th>\n",
       "      <th></th>\n",
       "      <th></th>\n",
       "      <th></th>\n",
       "      <th></th>\n",
       "      <th></th>\n",
       "      <th></th>\n",
       "      <th></th>\n",
       "    </tr>\n",
       "  </thead>\n",
       "  <tbody>\n",
       "    <tr>\n",
       "      <th>rl_473120</th>\n",
       "      <td>31404283</td>\n",
       "      <td>1340025602</td>\n",
       "      <td>68</td>\n",
       "      <td>5178</td>\n",
       "      <td>359</td>\n",
       "      <td>5.611605e+06</td>\n",
       "      <td>691027.629372</td>\n",
       "      <td>4.463083e+06</td>\n",
       "      <td>3.395480e+06</td>\n",
       "      <td>7.419721e+06</td>\n",
       "      <td>2.158092e+07</td>\n",
       "      <td>LINESTRING (6.53622 51.59398, 6.56761 51.63628)</td>\n",
       "      <td>[3, 2]</td>\n",
       "    </tr>\n",
       "  </tbody>\n",
       "</table>\n",
       "</div>"
      ],
      "text/plain": [
       "                  a           b  maxspeed  length  time  ('Fz1', 'car')  \\\n",
       "index                                                                     \n",
       "rl_473120  31404283  1340025602        68    5178   359    5.611605e+06   \n",
       "\n",
       "           ('Fz2', 'car')  ('Fz3', 'car')  ('Fz4', 'car')  ('Fz6', 'car')  \\\n",
       "index                                                                       \n",
       "rl_473120   691027.629372    4.463083e+06    3.395480e+06    7.419721e+06   \n",
       "\n",
       "           ('all', 'car')                                         geometry  \\\n",
       "index                                                                        \n",
       "rl_473120    2.158092e+07  LINESTRING (6.53622 51.59398, 6.56761 51.63628)   \n",
       "\n",
       "            lanes  \n",
       "index              \n",
       "rl_473120  [3, 2]  "
      ]
     },
     "execution_count": 4,
     "metadata": {},
     "output_type": "execute_result"
    }
   ],
   "source": [
    "# Filter unused road links\n",
    "sm.road_links = sm.road_links.loc[~sm.road_links.isna().any(axis=1)]\n",
    "sm.road_links.sample()"
   ]
  },
  {
   "cell_type": "code",
   "execution_count": 5,
   "metadata": {},
   "outputs": [],
   "source": [
    "# Import bugfix\n",
    "segments = ['Fz1', 'Fz2', 'Fz3', 'Fz4', 'Fz6', 'all']\n",
    "column_dict = {\"('\"+seg+\"', 'car')\": (seg, 'car') for seg in segments}\n",
    "sm.road_links = sm.road_links.rename(columns=column_dict)"
   ]
  },
  {
   "cell_type": "code",
   "execution_count": 6,
   "metadata": {},
   "outputs": [],
   "source": [
    "# Calculate vehicle kilometers by demand segment\n",
    "# As done in model_assignment_inner-zone\n",
    "occ_dict = {'Fz1': 1.16, 'Fz2': 1.84, 'Fz3': 1.78,\n",
    "            'Fz4': 1.31, 'Fz6': 2.34, 'all': 1.5} # MiD2017 data, see cal10\n",
    "sm.road_links['vkm'] = 0\n",
    "for seg in segments:\n",
    "    sm.road_links['vkm'] += sm.road_links[(seg, 'car')] * sm.road_links['length']/1000 / occ_dict[seg]\n",
    "sm.road_links['vkm'] = sm.road_links['vkm'].astype(int)"
   ]
  },
  {
   "cell_type": "code",
   "execution_count": 7,
   "metadata": {},
   "outputs": [],
   "source": [
    "# Create a DataFrame to map road links to a zone\n",
    "road_geo = gpd.GeoDataFrame({'NUTS1': [np.nan]*len(sm.road_links)},\n",
    "                            index=sm.road_links.index,\n",
    "                            geometry=[shapely.geometry.Point(g.coords[0])\n",
    "                                      for g in sm.road_links['geometry']],\n",
    "                            crs=sm.epsg)"
   ]
  },
  {
   "cell_type": "code",
   "execution_count": 8,
   "metadata": {},
   "outputs": [],
   "source": [
    "# Load zone geometries\n",
    "zones = gpd.read_file(\"../input_static/spatial_NUTS_RG_01M_2016_4326.geojson\")\n",
    "zones = zones[(zones[\"CNTR_CODE\"]==\"DE\") & (zones[\"LEVL_CODE\"]==1)]"
   ]
  },
  {
   "cell_type": "code",
   "execution_count": 9,
   "metadata": {},
   "outputs": [
    {
     "name": "stderr",
     "output_type": "stream",
     "text": [
      "100%|██████████████████████████████████████████████████████████████████████████████████| 16/16 [01:38<00:00,  6.18s/it]\n"
     ]
    }
   ],
   "source": [
    "# Map\n",
    "shapely.speedups.enable()\n",
    "for _, zone in tqdm(zones.iterrows(), total=zones.shape[0]):\n",
    "    road_geo.loc[road_geo['geometry'].within(zone['geometry']), 'NUTS1'] = zone['NUTS_ID']"
   ]
  },
  {
   "cell_type": "code",
   "execution_count": 10,
   "metadata": {},
   "outputs": [
    {
     "data": {
      "text/html": [
       "<div>\n",
       "<style scoped>\n",
       "    .dataframe tbody tr th:only-of-type {\n",
       "        vertical-align: middle;\n",
       "    }\n",
       "\n",
       "    .dataframe tbody tr th {\n",
       "        vertical-align: top;\n",
       "    }\n",
       "\n",
       "    .dataframe thead th {\n",
       "        text-align: right;\n",
       "    }\n",
       "</style>\n",
       "<table border=\"1\" class=\"dataframe\">\n",
       "  <thead>\n",
       "    <tr style=\"text-align: right;\">\n",
       "      <th></th>\n",
       "      <th></th>\n",
       "      <th>vkm</th>\n",
       "    </tr>\n",
       "    <tr>\n",
       "      <th>NUTS1</th>\n",
       "      <th>maxspeed</th>\n",
       "      <th></th>\n",
       "    </tr>\n",
       "  </thead>\n",
       "  <tbody>\n",
       "    <tr>\n",
       "      <th rowspan=\"5\" valign=\"top\">DE1</th>\n",
       "      <th>30</th>\n",
       "      <td>2.646775e+08</td>\n",
       "    </tr>\n",
       "    <tr>\n",
       "      <th>40</th>\n",
       "      <td>1.267500e+09</td>\n",
       "    </tr>\n",
       "    <tr>\n",
       "      <th>50</th>\n",
       "      <td>6.829582e+09</td>\n",
       "    </tr>\n",
       "    <tr>\n",
       "      <th>57</th>\n",
       "      <td>8.514623e+09</td>\n",
       "    </tr>\n",
       "    <tr>\n",
       "      <th>60</th>\n",
       "      <td>5.272155e+08</td>\n",
       "    </tr>\n",
       "    <tr>\n",
       "      <th>...</th>\n",
       "      <th>...</th>\n",
       "      <td>...</td>\n",
       "    </tr>\n",
       "    <tr>\n",
       "      <th rowspan=\"5\" valign=\"top\">DEG</th>\n",
       "      <th>96</th>\n",
       "      <td>5.182379e+08</td>\n",
       "    </tr>\n",
       "    <tr>\n",
       "      <th>100</th>\n",
       "      <td>9.457448e+08</td>\n",
       "    </tr>\n",
       "    <tr>\n",
       "      <th>120</th>\n",
       "      <td>3.890152e+08</td>\n",
       "    </tr>\n",
       "    <tr>\n",
       "      <th>125</th>\n",
       "      <td>1.517290e+10</td>\n",
       "    </tr>\n",
       "    <tr>\n",
       "      <th>130</th>\n",
       "      <td>3.885331e+08</td>\n",
       "    </tr>\n",
       "  </tbody>\n",
       "</table>\n",
       "<p>219 rows × 1 columns</p>\n",
       "</div>"
      ],
      "text/plain": [
       "                         vkm\n",
       "NUTS1 maxspeed              \n",
       "DE1   30        2.646775e+08\n",
       "      40        1.267500e+09\n",
       "      50        6.829582e+09\n",
       "      57        8.514623e+09\n",
       "      60        5.272155e+08\n",
       "...                      ...\n",
       "DEG   96        5.182379e+08\n",
       "      100       9.457448e+08\n",
       "      120       3.890152e+08\n",
       "      125       1.517290e+10\n",
       "      130       3.885331e+08\n",
       "\n",
       "[219 rows x 1 columns]"
      ]
     },
     "execution_count": 10,
     "metadata": {},
     "output_type": "execute_result"
    }
   ],
   "source": [
    "# Sum up vkm by region and speed limit\n",
    "merged = sm.road_links.merge(road_geo['NUTS1'], left_index=True, right_index=True)\n",
    "inter_car = merged.groupby(['NUTS1', 'maxspeed']).agg({'vkm': 'sum'})\n",
    "inter_car"
   ]
  },
  {
   "cell_type": "code",
   "execution_count": 11,
   "metadata": {},
   "outputs": [],
   "source": [
    "# Generate length for PT links if not done yet\n",
    "if 'length' not in sm.loaded_links.columns:\n",
    "    sm.loaded_links['length'] = skims.distance_from_geometry(\n",
    "        sm.loaded_links['geometry']).astype(int)"
   ]
  },
  {
   "cell_type": "code",
   "execution_count": 12,
   "metadata": {},
   "outputs": [
    {
     "data": {
      "text/html": [
       "<div>\n",
       "<style scoped>\n",
       "    .dataframe tbody tr th:only-of-type {\n",
       "        vertical-align: middle;\n",
       "    }\n",
       "\n",
       "    .dataframe tbody tr th {\n",
       "        vertical-align: top;\n",
       "    }\n",
       "\n",
       "    .dataframe thead th {\n",
       "        text-align: right;\n",
       "    }\n",
       "</style>\n",
       "<table border=\"1\" class=\"dataframe\">\n",
       "  <thead>\n",
       "    <tr style=\"text-align: right;\">\n",
       "      <th></th>\n",
       "      <th></th>\n",
       "      <th>pkm</th>\n",
       "    </tr>\n",
       "    <tr>\n",
       "      <th>NUTS1</th>\n",
       "      <th>route_type</th>\n",
       "      <th></th>\n",
       "    </tr>\n",
       "  </thead>\n",
       "  <tbody>\n",
       "    <tr>\n",
       "      <th rowspan=\"5\" valign=\"top\">DE1</th>\n",
       "      <th>air</th>\n",
       "      <td>6.516170e+07</td>\n",
       "    </tr>\n",
       "    <tr>\n",
       "      <th>bus</th>\n",
       "      <td>1.438046e+09</td>\n",
       "    </tr>\n",
       "    <tr>\n",
       "      <th>coach</th>\n",
       "      <td>2.159146e+09</td>\n",
       "    </tr>\n",
       "    <tr>\n",
       "      <th>ferry</th>\n",
       "      <td>0.000000e+00</td>\n",
       "    </tr>\n",
       "    <tr>\n",
       "      <th>rail_long</th>\n",
       "      <td>4.251546e+09</td>\n",
       "    </tr>\n",
       "    <tr>\n",
       "      <th>...</th>\n",
       "      <th>...</th>\n",
       "      <td>...</td>\n",
       "    </tr>\n",
       "    <tr>\n",
       "      <th rowspan=\"5\" valign=\"top\">DEG</th>\n",
       "      <th>bus</th>\n",
       "      <td>2.451492e+08</td>\n",
       "    </tr>\n",
       "    <tr>\n",
       "      <th>coach</th>\n",
       "      <td>3.415392e+08</td>\n",
       "    </tr>\n",
       "    <tr>\n",
       "      <th>rail_long</th>\n",
       "      <td>1.290218e+09</td>\n",
       "    </tr>\n",
       "    <tr>\n",
       "      <th>rail_short</th>\n",
       "      <td>1.027671e+09</td>\n",
       "    </tr>\n",
       "    <tr>\n",
       "      <th>subway</th>\n",
       "      <td>1.187931e+06</td>\n",
       "    </tr>\n",
       "  </tbody>\n",
       "</table>\n",
       "<p>100 rows × 1 columns</p>\n",
       "</div>"
      ],
      "text/plain": [
       "                           pkm\n",
       "NUTS1 route_type              \n",
       "DE1   air         6.516170e+07\n",
       "      bus         1.438046e+09\n",
       "      coach       2.159146e+09\n",
       "      ferry       0.000000e+00\n",
       "      rail_long   4.251546e+09\n",
       "...                        ...\n",
       "DEG   bus         2.451492e+08\n",
       "      coach       3.415392e+08\n",
       "      rail_long   1.290218e+09\n",
       "      rail_short  1.027671e+09\n",
       "      subway      1.187931e+06\n",
       "\n",
       "[100 rows x 1 columns]"
      ]
     },
     "execution_count": 12,
     "metadata": {},
     "output_type": "execute_result"
    }
   ],
   "source": [
    "# Emissions from PT are considered in the service's origin\n",
    "node_dict = sm.loaded_nodes['FID'].str[:3].to_dict()\n",
    "sm.loaded_links['NUTS1'] = sm.loaded_links['a'].map(node_dict)\n",
    "sm.loaded_links['pkm'] = sm.loaded_links['length']/1000 * sm.loaded_links['load']\n",
    "inter_pt = sm.loaded_links.groupby(['NUTS1', 'route_type']).agg({'pkm': 'sum'})\n",
    "inter_pt"
   ]
  },
  {
   "cell_type": "code",
   "execution_count": 13,
   "metadata": {},
   "outputs": [],
   "source": [
    "# Load results of inner-zonal traffic\n",
    "inner = pd.read_excel(output_path + 'inner_zone.xlsx', sheet_name='agg', index_col=[0,1])"
   ]
  },
  {
   "cell_type": "code",
   "execution_count": 14,
   "metadata": {},
   "outputs": [],
   "source": [
    "inner = inner.rename(index={'rail': 'rail_short'})"
   ]
  },
  {
   "cell_type": "code",
   "execution_count": 15,
   "metadata": {},
   "outputs": [],
   "source": [
    "# Combine results\n",
    "merged['pkm'] = merged[('all', 'car')] * merged['length']/1000\n",
    "merged['route_type'] = 'car'\n",
    "all_pkm = merged.groupby(['NUTS1', 'route_type']).agg({'pkm': 'sum'}).append(inter_pt)\n",
    "inner.index.rename(['NUTS1', 'route_type'], inplace=True)\n",
    "all_pkm = all_pkm.merge(inner['pkm'], how='outer', left_index=True,\n",
    "                        right_index=True, suffixes=['_inter', '_inner']).fillna(0)\n",
    "all_pkm['pkm'] = all_pkm['pkm_inter'] + all_pkm['pkm_inner']"
   ]
  },
  {
   "cell_type": "code",
   "execution_count": 16,
   "metadata": {},
   "outputs": [
    {
     "data": {
      "text/plain": [
       "array([<AxesSubplot:ylabel='None'>], dtype=object)"
      ]
     },
     "execution_count": 16,
     "metadata": {},
     "output_type": "execute_result"
    },
    {
     "data": {
      "image/png": "[encoded data removed]",
      "text/plain": [
       "<Figure size 432x288 with 1 Axes>"
      ]
     },
     "metadata": {},
     "output_type": "display_data"
    }
   ],
   "source": [
    "all_pkm['pkm'].unstack().sum(axis=0).plot.pie(subplots=True, title='Modal split in pkm')"
   ]
  },
  {
   "cell_type": "code",
   "execution_count": 17,
   "metadata": {},
   "outputs": [
    {
     "data": {
      "text/html": [
       "<div>\n",
       "<style scoped>\n",
       "    .dataframe tbody tr th:only-of-type {\n",
       "        vertical-align: middle;\n",
       "    }\n",
       "\n",
       "    .dataframe tbody tr th {\n",
       "        vertical-align: top;\n",
       "    }\n",
       "\n",
       "    .dataframe thead th {\n",
       "        text-align: right;\n",
       "    }\n",
       "</style>\n",
       "<table border=\"1\" class=\"dataframe\">\n",
       "  <thead>\n",
       "    <tr style=\"text-align: right;\">\n",
       "      <th></th>\n",
       "      <th>pkm</th>\n",
       "    </tr>\n",
       "    <tr>\n",
       "      <th>route_type</th>\n",
       "      <th></th>\n",
       "    </tr>\n",
       "  </thead>\n",
       "  <tbody>\n",
       "    <tr>\n",
       "      <th>air</th>\n",
       "      <td>0.041742</td>\n",
       "    </tr>\n",
       "    <tr>\n",
       "      <th>bus</th>\n",
       "      <td>6.264269</td>\n",
       "    </tr>\n",
       "    <tr>\n",
       "      <th>car</th>\n",
       "      <td>81.742686</td>\n",
       "    </tr>\n",
       "    <tr>\n",
       "      <th>rail</th>\n",
       "      <td>7.426514</td>\n",
       "    </tr>\n",
       "    <tr>\n",
       "      <th>walk</th>\n",
       "      <td>4.524790</td>\n",
       "    </tr>\n",
       "  </tbody>\n",
       "</table>\n",
       "</div>"
      ],
      "text/plain": [
       "                  pkm\n",
       "route_type           \n",
       "air          0.041742\n",
       "bus          6.264269\n",
       "car         81.742686\n",
       "rail         7.426514\n",
       "walk         4.524790"
      ]
     },
     "execution_count": 17,
     "metadata": {},
     "output_type": "execute_result"
    }
   ],
   "source": [
    "# Mode shares in percent\n",
    "mode_agg = {'tram': 'bus', 'subway': 'bus', 'ferry': 'bus', 'funicular': 'bus', 'coach': 'bus',\n",
    "            'rail_long': 'rail', 'rail_short': 'rail'}\n",
    "total = all_pkm['pkm'].sum()\n",
    "all_pkm.rename(index=mode_agg).groupby(level=1).agg({'pkm': 'sum'})/total*100"
   ]
  },
  {
   "cell_type": "code",
   "execution_count": 18,
   "metadata": {},
   "outputs": [
    {
     "data": {
      "text/plain": [
       "1335.3370120919676"
      ]
     },
     "execution_count": 18,
     "metadata": {},
     "output_type": "execute_result"
    }
   ],
   "source": [
    "# Total traffic (billion pkm)\n",
    "total/1e9"
   ]
  },
  {
   "cell_type": "code",
   "execution_count": 19,
   "metadata": {},
   "outputs": [
    {
     "data": {
      "text/html": [
       "<div>\n",
       "<style scoped>\n",
       "    .dataframe tbody tr th:only-of-type {\n",
       "        vertical-align: middle;\n",
       "    }\n",
       "\n",
       "    .dataframe tbody tr th {\n",
       "        vertical-align: top;\n",
       "    }\n",
       "\n",
       "    .dataframe thead th {\n",
       "        text-align: right;\n",
       "    }\n",
       "</style>\n",
       "<table border=\"1\" class=\"dataframe\">\n",
       "  <thead>\n",
       "    <tr style=\"text-align: right;\">\n",
       "      <th></th>\n",
       "      <th>pkm</th>\n",
       "    </tr>\n",
       "    <tr>\n",
       "      <th>route_type</th>\n",
       "      <th></th>\n",
       "    </tr>\n",
       "  </thead>\n",
       "  <tbody>\n",
       "    <tr>\n",
       "      <th>air</th>\n",
       "      <td>0.557401</td>\n",
       "    </tr>\n",
       "    <tr>\n",
       "      <th>bus</th>\n",
       "      <td>83.649096</td>\n",
       "    </tr>\n",
       "    <tr>\n",
       "      <th>car</th>\n",
       "      <td>1091.540340</td>\n",
       "    </tr>\n",
       "    <tr>\n",
       "      <th>rail</th>\n",
       "      <td>99.168984</td>\n",
       "    </tr>\n",
       "    <tr>\n",
       "      <th>walk</th>\n",
       "      <td>60.421191</td>\n",
       "    </tr>\n",
       "  </tbody>\n",
       "</table>\n",
       "</div>"
      ],
      "text/plain": [
       "                    pkm\n",
       "route_type             \n",
       "air            0.557401\n",
       "bus           83.649096\n",
       "car         1091.540340\n",
       "rail          99.168984\n",
       "walk          60.421191"
      ]
     },
     "execution_count": 19,
     "metadata": {},
     "output_type": "execute_result"
    }
   ],
   "source": [
    "# Mode shares in total (billion pkm)\n",
    "all_pkm.rename(index=mode_agg).groupby(level=1).agg({'pkm': 'sum'})/1e9"
   ]
  },
  {
   "cell_type": "code",
   "execution_count": 20,
   "metadata": {},
   "outputs": [],
   "source": [
    "# Merge car vkm\n",
    "car_vkm = inner.xs('car', level=1)[['vkm']].merge(\n",
    "    inter_car.groupby(level=0).sum()['vkm'], how='outer', left_index=True,\n",
    "    right_index=True, suffixes=['_inner', '_inter']).fillna(0)\n",
    "car_vkm['vkm'] = car_vkm['vkm_inter'] + car_vkm['vkm_inner']"
   ]
  },
  {
   "cell_type": "code",
   "execution_count": 21,
   "metadata": {},
   "outputs": [
    {
     "data": {
      "text/plain": [
       "25613.01191899553"
      ]
     },
     "execution_count": 21,
     "metadata": {},
     "output_type": "execute_result"
    }
   ],
   "source": [
    "# Average vkm per year by roughly 46 Mio. cars in Germany 2017 (GENESIS database)\n",
    "car_vkm['vkm'].sum() / 45960081"
   ]
  },
  {
   "cell_type": "code",
   "execution_count": 22,
   "metadata": {},
   "outputs": [
    {
     "data": {
      "text/plain": [
       "4569.379740475218"
      ]
     },
     "execution_count": 22,
     "metadata": {},
     "output_type": "execute_result"
    }
   ],
   "source": [
    "# thereof inner NUTS3\n",
    "car_vkm['vkm_inner'].sum() / 45960081"
   ]
  },
  {
   "cell_type": "code",
   "execution_count": 23,
   "metadata": {},
   "outputs": [
    {
     "data": {
      "text/plain": [
       "21043.63217852031"
      ]
     },
     "execution_count": 23,
     "metadata": {},
     "output_type": "execute_result"
    }
   ],
   "source": [
    "# thereof inter NUTS3\n",
    "car_vkm['vkm_inter'].sum() / 45960081"
   ]
  },
  {
   "cell_type": "markdown",
   "metadata": {},
   "source": [
    "## Calculate PT vehicle loads\n",
    "\n",
    "While vkm of car traffic are straight forward (using average occupancies and pkm), PT vkm strongly depend on the transport supply system. They can be modelled using average occupancy factors of PT/sharing vehicles (as for private cars), or depend on vehicle circulations that are statically defined in schedules.\n",
    "\n",
    "Absolute road PT vkm values can be retrieved from BMVI 2018, \"Verkehr in Zahlen 2018/19\", p. 81. Rail vkm can be generated endogenously using GTFS feeds.\n",
    "\n",
    "Scientific thoughts regarding a thorough and computational efficient method can be found here: https://doi.org/10.1016/j.procs.2021.03.022"
   ]
  },
  {
   "cell_type": "code",
   "execution_count": 24,
   "metadata": {},
   "outputs": [],
   "source": [
    "# Use PT load factors calculated from 2018 values.\n",
    "# They are already included into below emission factors per pkm."
   ]
  },
  {
   "cell_type": "markdown",
   "metadata": {},
   "source": [
    "## Calculate emissions from vkm\n",
    "\n",
    "Data sources are\n",
    "* TREMOD (Transport Emission Model; underlying values come from HBEFA (Handbuch Emissionsfaktoren)): \"Aktualisierung der Modelle TREMOD/TREMOD-MM für die Emissionsberichterstattung 2020 (Berichtsperiode 1990-2018)\", 2020\n",
    "* UBA (Umweltbundesamt): \"Vergleich der durchschnittlichen Emissionen einzelner Verkehrsmittel im Personenverkehr in Deutschland\", 2020"
   ]
  },
  {
   "cell_type": "code",
   "execution_count": 25,
   "metadata": {},
   "outputs": [],
   "source": [
    "# Cars\n",
    "# In 2017, there were 66% petrol and 33% diesel cars, rest is mainly LPG (TREMOD, p. 43)\n",
    "# Take REAL average emissions in gCO2eq/km (TREMOD, p. 54)\n",
    "car_em = 0.66*173.6 + 0.33*187.6 + 0.01*104\n",
    "inter_car['tCO2eq'] = inter_car['vkm'] * car_em / 1e6"
   ]
  },
  {
   "cell_type": "code",
   "execution_count": 26,
   "metadata": {},
   "outputs": [],
   "source": [
    "# PT (UBA)\n",
    "em_dict = {'air': 214, 'coach': 32, 'walk': 0, 'car': car_em,\n",
    "           'rail_short': 55, 'rail': 55, 'rail_long': 29, # Av. electricity mix in Germany\n",
    "           'bus': (55+80)/2} # Assume 50/50 pkm distribution across bus and tram/underground\n",
    "inter_pt['tCO2eq'] = inter_pt['pkm'] * inter_pt.index.get_level_values(1).map(em_dict) / 1e6"
   ]
  },
  {
   "cell_type": "code",
   "execution_count": 27,
   "metadata": {},
   "outputs": [],
   "source": [
    "# Inner-zonal\n",
    "inner['tCO2eq'] = inner['vkm'] * inner.index.get_level_values(1).map(em_dict) / 1e6"
   ]
  },
  {
   "cell_type": "code",
   "execution_count": 28,
   "metadata": {},
   "outputs": [
    {
     "data": {
      "text/plain": [
       "42.218368459431815"
      ]
     },
     "execution_count": 28,
     "metadata": {},
     "output_type": "execute_result"
    }
   ],
   "source": [
    "# Local transport emissions (mio. tonnes)\n",
    "inner['tCO2eq'].sum() / 1e6"
   ]
  },
  {
   "cell_type": "code",
   "execution_count": 29,
   "metadata": {},
   "outputs": [
    {
     "data": {
      "text/plain": [
       "171.6953615129195"
      ]
     },
     "execution_count": 29,
     "metadata": {},
     "output_type": "execute_result"
    }
   ],
   "source": [
    "# CAR: Long-distance transport emissions (mio. tonnes)\n",
    "inter_car['tCO2eq'].sum()/1e6"
   ]
  },
  {
   "cell_type": "code",
   "execution_count": 30,
   "metadata": {},
   "outputs": [
    {
     "data": {
      "text/plain": [
       "4.927560586823671"
      ]
     },
     "execution_count": 30,
     "metadata": {},
     "output_type": "execute_result"
    }
   ],
   "source": [
    "# PT: Long-distance transport emissions (mio. tonnes)\n",
    "inter_pt['tCO2eq'].sum()/1e6"
   ]
  },
  {
   "cell_type": "code",
   "execution_count": 31,
   "metadata": {},
   "outputs": [],
   "source": [
    "# Drop speeds in car km\n",
    "inter_car = inter_car.groupby(level=0).sum()\n",
    "inter_car['route_type'] = 'car'\n",
    "inter_car.set_index('route_type', append=True, inplace=True)"
   ]
  },
  {
   "cell_type": "code",
   "execution_count": 32,
   "metadata": {},
   "outputs": [],
   "source": [
    "# Merge emissions together\n",
    "all_em = inter_pt[['tCO2eq']].append(inter_car[['tCO2eq']]).append(inner[['tCO2eq']])\n",
    "all_em = all_em.groupby(level=[0,1]).sum()"
   ]
  },
  {
   "cell_type": "code",
   "execution_count": 33,
   "metadata": {},
   "outputs": [
    {
     "data": {
      "text/plain": [
       "<AxesSubplot:xlabel='NUTS1'>"
      ]
     },
     "execution_count": 33,
     "metadata": {},
     "output_type": "execute_result"
    },
    {
     "data": {
      "image/png": "[encoded data removed]",
      "text/plain": [
       "<Figure size 1152x288 with 1 Axes>"
      ]
     },
     "metadata": {
      "needs_background": "light"
     },
     "output_type": "display_data"
    }
   ],
   "source": [
    "# Emissions by region and mode\n",
    "all_em.unstack().plot.bar(subplots=False, figsize=(16,4), width=1)"
   ]
  },
  {
   "cell_type": "markdown",
   "metadata": {},
   "source": [
    "## Save\n",
    "Create one ecxel output with pkm, emissions, time and cost."
   ]
  },
  {
   "cell_type": "code",
   "execution_count": 34,
   "metadata": {},
   "outputs": [],
   "source": [
    "# Load inter-zonal aggregated results\n",
    "inter = pd.read_excel(output_path + 'inter_zone.xlsx', sheet_name='od', index_col=[0,1,2])\n",
    "# Get time and price weighted averages by origin and mode\n",
    "weighted_av = lambda x: np.average(x, weights=inter.loc[x.index, 'volumes'])\n",
    "inter = inter.groupby(level=[0,2]).agg(\n",
    "    volumes=('volumes', 'sum'),\n",
    "    price=('price', weighted_av),\n",
    "    time=('time', weighted_av))\n",
    "inter.index.rename(['NUTS1', 'route_type'], inplace=True)"
   ]
  },
  {
   "cell_type": "code",
   "execution_count": 35,
   "metadata": {},
   "outputs": [
    {
     "data": {
      "text/html": [
       "<div>\n",
       "<style scoped>\n",
       "    .dataframe tbody tr th:only-of-type {\n",
       "        vertical-align: middle;\n",
       "    }\n",
       "\n",
       "    .dataframe tbody tr th {\n",
       "        vertical-align: top;\n",
       "    }\n",
       "\n",
       "    .dataframe thead th {\n",
       "        text-align: right;\n",
       "    }\n",
       "</style>\n",
       "<table border=\"1\" class=\"dataframe\">\n",
       "  <thead>\n",
       "    <tr style=\"text-align: right;\">\n",
       "      <th></th>\n",
       "      <th></th>\n",
       "      <th>volumes</th>\n",
       "      <th>price</th>\n",
       "      <th>time</th>\n",
       "    </tr>\n",
       "    <tr>\n",
       "      <th>NUTS1</th>\n",
       "      <th>route_type</th>\n",
       "      <th></th>\n",
       "      <th></th>\n",
       "      <th></th>\n",
       "    </tr>\n",
       "  </thead>\n",
       "  <tbody>\n",
       "    <tr>\n",
       "      <th>DE4</th>\n",
       "      <th>bus</th>\n",
       "      <td>1.534074e+07</td>\n",
       "      <td>8.272000e+07</td>\n",
       "      <td>2.566157e+07</td>\n",
       "    </tr>\n",
       "  </tbody>\n",
       "</table>\n",
       "</div>"
      ],
      "text/plain": [
       "                       volumes         price          time\n",
       "NUTS1 route_type                                          \n",
       "DE4   bus         1.534074e+07  8.272000e+07  2.566157e+07"
      ]
     },
     "execution_count": 35,
     "metadata": {},
     "output_type": "execute_result"
    }
   ],
   "source": [
    "# Sums\n",
    "for col in ['price', 'time']:\n",
    "    inter[col] = inter[col] * inter['volumes']\n",
    "inter.sample()"
   ]
  },
  {
   "cell_type": "code",
   "execution_count": 36,
   "metadata": {},
   "outputs": [],
   "source": [
    "# Merge times\n",
    "time = inter[['time']].merge(\n",
    "    (inner['time']*inner['volumes']).rename('time'), how='outer',\n",
    "    left_index=True, right_index=True, suffixes=['_inter', '_inner']).fillna(0)\n",
    "time['time'] = time['time_inter'] + time['time_inner']"
   ]
  },
  {
   "cell_type": "code",
   "execution_count": 37,
   "metadata": {},
   "outputs": [
    {
     "data": {
      "text/plain": [
       "1.4988020015914145"
      ]
     },
     "execution_count": 37,
     "metadata": {},
     "output_type": "execute_result"
    }
   ],
   "source": [
    "# Average car operating hours per day per car\n",
    "time.xs('car', level=1)['time'].sum() / 46000000 / 365"
   ]
  },
  {
   "cell_type": "code",
   "execution_count": 38,
   "metadata": {},
   "outputs": [],
   "source": [
    "# Merge prices\n",
    "price = inter[['price']].merge(\n",
    "    (inner['price']*inner['volumes']).rename('price'), how='outer',\n",
    "    left_index=True, right_index=True, suffixes=['_inter', '_inner']).fillna(0)\n",
    "price['price'] = price['price_inter'] + price['price_inner']"
   ]
  },
  {
   "cell_type": "code",
   "execution_count": 39,
   "metadata": {},
   "outputs": [],
   "source": [
    "# Save excel\n",
    "with pd.ExcelWriter(output_path + 'results_agg.xlsx') as writer:  \n",
    "    all_pkm.to_excel(writer, sheet_name='pkm')\n",
    "    car_vkm.to_excel(writer, sheet_name='car_vkm')\n",
    "    all_em.to_excel(writer, sheet_name='emissions')\n",
    "    time.to_excel(writer, sheet_name='time')\n",
    "    price.to_excel(writer, sheet_name='price')"
   ]
  }
 ],
 "metadata": {
  "kernelspec": {
   "display_name": "Python 3",
   "language": "python",
   "name": "python3"
  },
  "language_info": {
   "codemirror_mode": {
    "name": "ipython",
    "version": 3
   },
   "file_extension": ".py",
   "mimetype": "text/x-python",
   "name": "python",
   "nbconvert_exporter": "python",
   "pygments_lexer": "ipython3",
   "version": "3.8.1"
  }
 },
 "nbformat": 4,
 "nbformat_minor": 2
}
