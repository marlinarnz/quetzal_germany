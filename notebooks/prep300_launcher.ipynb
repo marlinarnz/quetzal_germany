{
 "cells": [
  {
   "cell_type": "code",
   "execution_count": 1,
   "metadata": {},
   "outputs": [],
   "source": [
    "import os\n",
    "import sys\n",
    "from quetzal.os.parallel_call import parallel_call_notebook, parallel_call_notebooks"
   ]
  },
  {
   "cell_type": "code",
   "execution_count": 2,
   "metadata": {},
   "outputs": [],
   "source": [
    "qpath = '../../'\n",
    "input_path =  qpath + r'inputs/'\n",
    "sys.path.insert(0, r'../../../quetzal')"
   ]
  },
  {
   "cell_type": "code",
   "execution_count": 3,
   "metadata": {},
   "outputs": [],
   "source": [
    "if not os.path.exists('log/'):\n",
    "    os.makedirs('log/')"
   ]
  },
  {
   "cell_type": "markdown",
   "metadata": {},
   "source": [
    "# TEST - not working yet\n",
    "\n",
    "# Launcher\n",
    "\n",
    "This notebook automatically launches all operations for a complete model run. At the current release, all steps for network generation and aggregation are already executed and relevant files located in the repository. All further steps will be executed here. There are some assumptions to make during computation of shortest paths and assignment of level-of-service attributes. These can be found in all `prep3X` notebooks and should be reviewed before running the launcher.  The corresponding notebook will state all explainatory information"
   ]
  },
  {
   "cell_type": "code",
   "execution_count": 4,
   "metadata": {},
   "outputs": [],
   "source": [
    "kwargs = {'workers':2, 'errout_suffix':True, 'sleep':1,'stdout_path':r'log/out.txt', 'stderr_path':r'log/err.txt'}"
   ]
  },
  {
   "cell_type": "code",
   "execution_count": 5,
   "metadata": {},
   "outputs": [],
   "source": [
    "import time\n",
    "start = time.time()"
   ]
  },
  {
   "cell_type": "markdown",
   "metadata": {},
   "source": [
    "## Computation of shortest paths and LoS attributes"
   ]
  },
  {
   "cell_type": "code",
   "execution_count": 6,
   "metadata": {},
   "outputs": [],
   "source": [
    "# Road\n",
    "parallel_call_notebook('prep30_los_road.ipynb', **kwargs)"
   ]
  },
  {
   "cell_type": "code",
   "execution_count": 8,
   "metadata": {},
   "outputs": [
    {
     "name": "stdout",
     "output_type": "stream",
     "text": [
      "7 seconds\n"
     ]
    }
   ],
   "source": [
    "# PT\n",
    "parallel_call_notebook('prep30_los_pt.ipynb', [], **kwargs)"
   ]
  },
  {
   "cell_type": "code",
   "execution_count": null,
   "metadata": {},
   "outputs": [],
   "source": [
    "# PT LoS attributes\n",
    "parallel_call_notebook('prep31_prices_acc_pt.ipynb', [], **kwargs)\n",
    "parallel_call_notebook('prep32_validation_rail.ipynb', [], **kwargs)\n",
    "parallel_call_notebook('prep33_foot.ipynb', [], **kwargs)"
   ]
  },
  {
   "cell_type": "markdown",
   "metadata": {},
   "source": [
    "## Estimation and modelling"
   ]
  },
  {
   "cell_type": "code",
   "execution_count": null,
   "metadata": {},
   "outputs": [],
   "source": [
    "# Calibration parameter estimation\n",
    "# NOTE: only applicapbe if you have access to calibration datasets\n",
    "parallel_call_notebook('cal10_input_data.ipynb', [], **kwargs)\n",
    "parallel_call_notebook('cal11_los_columns.ipynb', [], **kwargs)\n",
    "parallel_call_notebook('cal1x_validation_data.ipynb', [], **kwargs)\n",
    "parallel_call_notebook('cal20_estimation.ipynb', [], **kwargs)"
   ]
  },
  {
   "cell_type": "code",
   "execution_count": null,
   "metadata": {},
   "outputs": [],
   "source": [
    "# Mode choice\n",
    "parallel_call_notebook('model30_mode_choice.ipynb', [], **kwargs)"
   ]
  },
  {
   "cell_type": "markdown",
   "metadata": {},
   "source": [
    "## Validation and output"
   ]
  },
  {
   "cell_type": "code",
   "execution_count": null,
   "metadata": {},
   "outputs": [],
   "source": [
    "# Validation\n",
    "parallel_call_notebook('val10_inter-cell.ipynb', [], **kwargs)"
   ]
  },
  {
   "cell_type": "code",
   "execution_count": null,
   "metadata": {
    "scrolled": true
   },
   "outputs": [],
   "source": [
    "end = time.time()\n",
    "print(int(end - start))"
   ]
  }
 ],
 "metadata": {
  "kernelspec": {
   "display_name": "Python 3",
   "language": "python",
   "name": "python3"
  },
  "language_info": {
   "codemirror_mode": {
    "name": "ipython",
    "version": 3
   },
   "file_extension": ".py",
   "mimetype": "text/x-python",
   "name": "python",
   "nbconvert_exporter": "python",
   "pygments_lexer": "ipython3",
   "version": "3.8.1"
  }
 },
 "nbformat": 4,
 "nbformat_minor": 2
}
