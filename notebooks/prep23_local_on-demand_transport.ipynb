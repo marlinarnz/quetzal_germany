{
 "cells": [
  {
   "cell_type": "code",
   "execution_count": 1,
   "metadata": {},
   "outputs": [
    {
     "name": "stderr",
     "output_type": "stream",
     "text": [
      "\n",
      "Bad key text.latex.preview in file C:\\Users\\marlin.arnz\\AppData\\Local\\Continuum\\miniconda3\\envs\\quetzal\\lib\\site-packages\\matplotlib\\mpl-data\\stylelib\\_classic_test.mplstyle, line 123 ('text.latex.preview : False')\n",
      "You probably need to get an updated matplotlibrc file from\n",
      "https://github.com/matplotlib/matplotlib/blob/v3.5.2/matplotlibrc.template\n",
      "or from the matplotlib source distribution\n",
      "\n",
      "Bad key mathtext.fallback_to_cm in file C:\\Users\\marlin.arnz\\AppData\\Local\\Continuum\\miniconda3\\envs\\quetzal\\lib\\site-packages\\matplotlib\\mpl-data\\stylelib\\_classic_test.mplstyle, line 155 ('mathtext.fallback_to_cm : True  # When True, use symbols from the Computer Modern')\n",
      "You probably need to get an updated matplotlibrc file from\n",
      "https://github.com/matplotlib/matplotlib/blob/v3.5.2/matplotlibrc.template\n",
      "or from the matplotlib source distribution\n",
      "\n",
      "Bad key savefig.jpeg_quality in file C:\\Users\\marlin.arnz\\AppData\\Local\\Continuum\\miniconda3\\envs\\quetzal\\lib\\site-packages\\matplotlib\\mpl-data\\stylelib\\_classic_test.mplstyle, line 418 ('savefig.jpeg_quality: 95       # when a jpeg is saved, the default quality parameter.')\n",
      "You probably need to get an updated matplotlibrc file from\n",
      "https://github.com/matplotlib/matplotlib/blob/v3.5.2/matplotlibrc.template\n",
      "or from the matplotlib source distribution\n",
      "\n",
      "Bad key keymap.all_axes in file C:\\Users\\marlin.arnz\\AppData\\Local\\Continuum\\miniconda3\\envs\\quetzal\\lib\\site-packages\\matplotlib\\mpl-data\\stylelib\\_classic_test.mplstyle, line 466 ('keymap.all_axes : a                 # enable all axes')\n",
      "You probably need to get an updated matplotlibrc file from\n",
      "https://github.com/matplotlib/matplotlib/blob/v3.5.2/matplotlibrc.template\n",
      "or from the matplotlib source distribution\n",
      "\n",
      "Bad key animation.avconv_path in file C:\\Users\\marlin.arnz\\AppData\\Local\\Continuum\\miniconda3\\envs\\quetzal\\lib\\site-packages\\matplotlib\\mpl-data\\stylelib\\_classic_test.mplstyle, line 477 ('animation.avconv_path: avconv     # Path to avconv binary. Without full path')\n",
      "You probably need to get an updated matplotlibrc file from\n",
      "https://github.com/matplotlib/matplotlib/blob/v3.5.2/matplotlibrc.template\n",
      "or from the matplotlib source distribution\n",
      "\n",
      "Bad key animation.avconv_args in file C:\\Users\\marlin.arnz\\AppData\\Local\\Continuum\\miniconda3\\envs\\quetzal\\lib\\site-packages\\matplotlib\\mpl-data\\stylelib\\_classic_test.mplstyle, line 479 ('animation.avconv_args:            # Additional arguments to pass to avconv')\n",
      "You probably need to get an updated matplotlibrc file from\n",
      "https://github.com/matplotlib/matplotlib/blob/v3.5.2/matplotlibrc.template\n",
      "or from the matplotlib source distribution\n"
     ]
    }
   ],
   "source": [
    "import sys # for automation and parallelisation\n",
    "manual, scenario = (True, 'base') if 'ipykernel' in sys.argv[0] else (False, sys.argv[1])\n",
    "if manual:\n",
    "    %matplotlib inline"
   ]
  },
  {
   "cell_type": "code",
   "execution_count": 2,
   "metadata": {},
   "outputs": [],
   "source": [
    "import numpy as np\n",
    "import pandas as pd\n",
    "import geopandas as gpd\n",
    "from shapely import geometry\n",
    "from tqdm import tqdm\n",
    "from quetzal.model import stepmodel\n",
    "from quetzal.engine import engine\n",
    "from quetzal.io import excel"
   ]
  },
  {
   "cell_type": "markdown",
   "metadata": {},
   "source": [
    "# Preparation of the transport network.\n",
    "## Replaces scheduled bus network with on-demand services.\n",
    "## Needs clustered PT network and connectors."
   ]
  },
  {
   "cell_type": "code",
   "execution_count": 3,
   "metadata": {},
   "outputs": [],
   "source": [
    "input_path = '../input/'\n",
    "output_path = '../output/'\n",
    "model_path = '../model/' + scenario + '/'"
   ]
  },
  {
   "cell_type": "code",
   "execution_count": 71,
   "metadata": {},
   "outputs": [],
   "source": [
    "# Load scenario parameters\n",
    "params = excel.read_var(file='../input/parameters.xls', scenario=scenario)"
   ]
  },
  {
   "cell_type": "code",
   "execution_count": 43,
   "metadata": {},
   "outputs": [],
   "source": [
    "# Loading StepModel with PT network...\n",
    "sm = stepmodel.read_json(model_path + 'de_pt_network_agg')\n",
    "ae = stepmodel.read_json(model_path + 'de_pt_access_egress')\n",
    "sm.centroids = ae.centroids\n",
    "sm.footpaths = ae.footpaths\n",
    "sm.zone_to_transit = ae.zone_to_transit"
   ]
  },
  {
   "cell_type": "code",
   "execution_count": 19,
   "metadata": {},
   "outputs": [
    {
     "data": {
      "text/plain": [
       "36462"
      ]
     },
     "execution_count": 19,
     "metadata": {},
     "output_type": "execute_result"
    }
   ],
   "source": [
    "len(sm.nodes)"
   ]
  },
  {
   "cell_type": "code",
   "execution_count": 45,
   "metadata": {},
   "outputs": [],
   "source": [
    "# Drop scheduled bus services outside of cities\n",
    "drop_nodes = sm.nodes.loc[(sm.nodes['route_type']=='bus')\n",
    "                          & (sm.nodes['FID'].map(sm.zones['urbanisation'])!=1)\n",
    "                         ].index\n",
    "# Keep nodes from trips to/from cities\n",
    "city_trips = set(sm.links.loc[~sm.links['a'].isin(drop_nodes), 'trip_id']).union(\n",
    "             set(sm.links.loc[~sm.links['b'].isin(drop_nodes), 'trip_id']))\n",
    "drop_nodes = set(drop_nodes) \\\n",
    "             - set(sm.links.loc[sm.links['trip_id'].isin(city_trips), 'a']) \\\n",
    "             - set(sm.links.loc[sm.links['trip_id'].isin(city_trips), 'b'])\n",
    "# Drop\n",
    "sm.footpaths = sm.footpaths.loc[~((sm.footpaths['a'].isin(drop_nodes))\n",
    "                                  | (sm.footpaths['b'].isin(drop_nodes)))]\n",
    "sm.zone_to_transit = sm.zone_to_transit.loc[~((sm.zone_to_transit['a'].isin(drop_nodes))\n",
    "                                              | (sm.zone_to_transit['b'].isin(drop_nodes)))]\n",
    "sm.links = sm.links.loc[~((sm.links['a'].isin(drop_nodes))\n",
    "                          | (sm.links['b'].isin(drop_nodes)))]\n",
    "sm.nodes = sm.nodes.drop(drop_nodes)"
   ]
  },
  {
   "cell_type": "code",
   "execution_count": 61,
   "metadata": {},
   "outputs": [],
   "source": [
    "# Drop broken trip sequences\n",
    "def test_sequences_save(trip):\n",
    "    if len(trip)!=trip['link_sequence'].max():\n",
    "        return list(trip.index)\n",
    "broken = sm.links.loc[(sm.links['route_type']=='bus')\n",
    "                     ].groupby('trip_id').apply(test_sequences_save)\n",
    "sm.links.drop(broken.loc[broken.notna()].sum(), inplace=True)"
   ]
  },
  {
   "cell_type": "code",
   "execution_count": null,
   "metadata": {},
   "outputs": [],
   "source": [
    "# Plot the coverage of scheduled bus lines\n",
    "if manual:\n",
    "    sm.links = gpd.GeoDataFrame(sm.links)\n",
    "    sm.zones = gpd.GeoDataFrame(sm.zones)\n",
    "    sm.links.loc[sm.links['route_type']=='bus', 'geometry'].plot(\n",
    "        ax=sm.zones.loc[sm.zones['urbanisation']==1].plot(color='green', alpha=.3, figsize=(5,8)))"
   ]
  },
  {
   "cell_type": "code",
   "execution_count": 63,
   "metadata": {},
   "outputs": [
    {
     "data": {
      "text/plain": [
       "20084"
      ]
     },
     "execution_count": 63,
     "metadata": {},
     "output_type": "execute_result"
    }
   ],
   "source": [
    "len(sm.nodes)"
   ]
  },
  {
   "cell_type": "code",
   "execution_count": 9,
   "metadata": {},
   "outputs": [
    {
     "data": {
      "text/html": [
       "<div>\n",
       "<style scoped>\n",
       "    .dataframe tbody tr th:only-of-type {\n",
       "        vertical-align: middle;\n",
       "    }\n",
       "\n",
       "    .dataframe tbody tr th {\n",
       "        vertical-align: top;\n",
       "    }\n",
       "\n",
       "    .dataframe thead th {\n",
       "        text-align: right;\n",
       "    }\n",
       "</style>\n",
       "<table border=\"1\" class=\"dataframe\">\n",
       "  <thead>\n",
       "    <tr style=\"text-align: right;\">\n",
       "      <th></th>\n",
       "      <th>route_type</th>\n",
       "      <th>geometry</th>\n",
       "      <th>a</th>\n",
       "      <th>b</th>\n",
       "      <th>link_sequence</th>\n",
       "      <th>route_id</th>\n",
       "      <th>time</th>\n",
       "      <th>trip_id</th>\n",
       "      <th>headway</th>\n",
       "      <th>route_type_disagg</th>\n",
       "    </tr>\n",
       "    <tr>\n",
       "      <th>index</th>\n",
       "      <th></th>\n",
       "      <th></th>\n",
       "      <th></th>\n",
       "      <th></th>\n",
       "      <th></th>\n",
       "      <th></th>\n",
       "      <th></th>\n",
       "      <th></th>\n",
       "      <th></th>\n",
       "      <th></th>\n",
       "    </tr>\n",
       "  </thead>\n",
       "  <tbody>\n",
       "    <tr>\n",
       "      <th>rs_23269</th>\n",
       "      <td>rail_short</td>\n",
       "      <td>LINESTRING (8.42302 49.00355, 8.41651 49.00498)</td>\n",
       "      <td>rs_DE122_0_35</td>\n",
       "      <td>rs_DE122_0_24</td>\n",
       "      <td>3</td>\n",
       "      <td>rs_204</td>\n",
       "      <td>60</td>\n",
       "      <td>rs_204_2</td>\n",
       "      <td>21600</td>\n",
       "      <td>rail_short</td>\n",
       "    </tr>\n",
       "  </tbody>\n",
       "</table>\n",
       "</div>"
      ],
      "text/plain": [
       "          route_type                                         geometry  \\\n",
       "index                                                                   \n",
       "rs_23269  rail_short  LINESTRING (8.42302 49.00355, 8.41651 49.00498)   \n",
       "\n",
       "                      a              b  link_sequence route_id  time  \\\n",
       "index                                                                  \n",
       "rs_23269  rs_DE122_0_35  rs_DE122_0_24              3   rs_204    60   \n",
       "\n",
       "           trip_id  headway route_type_disagg  \n",
       "index                                          \n",
       "rs_23269  rs_204_2    21600        rail_short  "
      ]
     },
     "execution_count": 9,
     "metadata": {},
     "output_type": "execute_result"
    }
   ],
   "source": [
    "sm.links.sample()"
   ]
  },
  {
   "cell_type": "code",
   "execution_count": 10,
   "metadata": {},
   "outputs": [
    {
     "data": {
      "text/html": [
       "<div>\n",
       "<style scoped>\n",
       "    .dataframe tbody tr th:only-of-type {\n",
       "        vertical-align: middle;\n",
       "    }\n",
       "\n",
       "    .dataframe tbody tr th {\n",
       "        vertical-align: top;\n",
       "    }\n",
       "\n",
       "    .dataframe thead th {\n",
       "        text-align: right;\n",
       "    }\n",
       "</style>\n",
       "<table border=\"1\" class=\"dataframe\">\n",
       "  <thead>\n",
       "    <tr style=\"text-align: right;\">\n",
       "      <th></th>\n",
       "      <th>FID</th>\n",
       "      <th>route_type</th>\n",
       "      <th>geometry</th>\n",
       "    </tr>\n",
       "    <tr>\n",
       "      <th>index</th>\n",
       "      <th></th>\n",
       "      <th></th>\n",
       "      <th></th>\n",
       "    </tr>\n",
       "  </thead>\n",
       "  <tbody>\n",
       "    <tr>\n",
       "      <th>rs_DE94B_2_0</th>\n",
       "      <td>DE94B_2</td>\n",
       "      <td>rail_short</td>\n",
       "      <td>POINT (7.07477 52.41700)</td>\n",
       "    </tr>\n",
       "  </tbody>\n",
       "</table>\n",
       "</div>"
      ],
      "text/plain": [
       "                  FID  route_type                  geometry\n",
       "index                                                      \n",
       "rs_DE94B_2_0  DE94B_2  rail_short  POINT (7.07477 52.41700)"
      ]
     },
     "execution_count": 10,
     "metadata": {},
     "output_type": "execute_result"
    }
   ],
   "source": [
    "sm.nodes.sample()"
   ]
  },
  {
   "cell_type": "markdown",
   "metadata": {},
   "source": [
    "## Build on-demand services\n",
    "\n",
    "One service to every other PT node and centroid within a distance threshold from each zone's centroid."
   ]
  },
  {
   "cell_type": "code",
   "execution_count": null,
   "metadata": {},
   "outputs": [],
   "source": [
    "def links_nodes_footpaths_connectors_from_ntlegs(ntlegs):\n",
    "    # Build links\n",
    "    links = ntlegs[['time', 'geometry']]\n",
    "    links['route_type'] = 'bus'\n",
    "    links['route_type_disagg'] = 'on-demand'\n",
    "    links['headway'] = 0\n",
    "    links['trip_id'] = \n",
    "    links['link_sequence'] = 1\n",
    "    links['trip_id'] = ntlegs['a'] + '-' + ntlegs['b']\n",
    "    links['route_id'] = ntlegs['a']\n",
    "    links['a'] = 'on-dem_' + ntlegs['a']\n",
    "    links['b'] = 'on-dem_' + ntlegs['b']\n",
    "    links.index = 'on-dem_' + ntlegs.reset_index().index.apply(str)\n",
    "    # Build nodes\n",
    "    nodes = ntlegs[['a']]\n",
    "    nodes['geometry'] = ntlegs['geometry'].apply(lambda l: l.coords[0][0])\n",
    "    nodes['FID'] = ntlegs.loc[ntlegs['direction']=='access', 'a'].append(\n",
    "        ntlegs.loc[ntlegs['direction']=='eggress', 'a'].map(sm.nodes['FID']))\n",
    "    nodes['route_type'] = 'bus'\n",
    "    nodes.index = 'on-dem_' + ntlegs['a']\n",
    "    # Build footpaths\n",
    "    foot = pd.DataFrame()\n",
    "    #foot = ntlegs.loc[ntlegs['direction']=='access', ['b', 'direction']]\n",
    "    #foot['direction']\n",
    "    #foot['a'] = 'on-dem_' + ntlegs.loc[ntlegs['direction']=='access', 'a']\n",
    "    foot['distance'] = 0\n",
    "    foot['time'] = 0\n",
    "    foot['speed'] = params['pt_access']['speed_walk']\n",
    "    foot['geometry'] = \n",
    "    # Build centroid connectors (zone_to_transit)\n",
    "    "
   ]
  },
  {
   "cell_type": "code",
   "execution_count": null,
   "metadata": {},
   "outputs": [],
   "source": [
    "# Build services to PT nodes\n",
    "mask = sm.zones['urbanisation']!=1\n",
    "ntlegs = engine.ntlegs_from_centroids_and_nodes(\n",
    "    sm.centroids.head(),\n",
    "    sm.nodes.loc[sm.nodes['route_type']!='bus'],\n",
    "    n_neighbors=50, # double that times number of zones will be added to links\n",
    "    coordinates_unit=sm.coordinates_unit)\n",
    "ntlegs = ntlegs.loc[ntlegs['distance']<=params['on-demand_bus']['max_dist_pt']]\n",
    "ntlegs['time'] = ntlegs['distance']/1000 * params['on-demand_bus']['speed'] / 3600\n",
    "len(ntlegs)"
   ]
  },
  {
   "cell_type": "code",
   "execution_count": null,
   "metadata": {},
   "outputs": [],
   "source": [
    "# Every zone should have an access and an egress link to PT\n",
    "assert sm.zones['FID'].isin(list(sm.zone_to_transit['a'])).all()\n",
    "assert sm.zones['FID'].isin(list(sm.zone_to_transit['b'])).all()"
   ]
  },
  {
   "cell_type": "markdown",
   "metadata": {},
   "source": [
    "### Parametrise access and egress  links\n",
    "\n",
    "Add distance, speed and time. Average distances by zone and mode should have been calculated based on census data before."
   ]
  },
  {
   "cell_type": "markdown",
   "metadata": {},
   "source": [
    "## Save model\n",
    "And reduce the file size"
   ]
  },
  {
   "cell_type": "code",
   "execution_count": 61,
   "metadata": {},
   "outputs": [
    {
     "name": "stdout",
     "output_type": "stream",
     "text": [
      "Number of orphan nodes: 68\n",
      "Number of missing nodes: 0\n"
     ]
    }
   ],
   "source": [
    "try:\n",
    "    sm.integrity_test_nodeset_consistency()\n",
    "except AssertionError:\n",
    "    print('Number of orphan nodes: {}'.format(\n",
    "        len(sm.orphan_nodes)))\n",
    "    print('Number of missing nodes: {}'.format(\n",
    "        len(sm.missing_nodes)))"
   ]
  },
  {
   "cell_type": "code",
   "execution_count": 62,
   "metadata": {},
   "outputs": [],
   "source": [
    "assert len(sm.missing_nodes) == 0\n",
    "if len(sm.orphan_nodes) > 0:\n",
    "    sm.nodes = sm.nodes.drop(sm.orphan_nodes)\n",
    "    sm.nodes.shape"
   ]
  },
  {
   "cell_type": "code",
   "execution_count": 65,
   "metadata": {},
   "outputs": [],
   "source": [
    "# Cast columns to int\n",
    "cols = ['time', 'link_sequence', 'headway']\n",
    "sm.links[cols] = sm.links[cols].astype(int)"
   ]
  },
  {
   "cell_type": "code",
   "execution_count": 66,
   "metadata": {},
   "outputs": [],
   "source": [
    "# Split links in graph and auxiliary information\n",
    "# for file sizes being compatible with github's size limit\n",
    "cols = ['a', 'b', 'link_sequence', 'route_id', 'time', 'trip_id', 'headway', 'route_type_disagg']\n",
    "auxiliary = sm.links[cols]\n",
    "sm.links.drop(cols, axis=1, inplace=True)"
   ]
  },
  {
   "cell_type": "code",
   "execution_count": 67,
   "metadata": {},
   "outputs": [
    {
     "name": "stderr",
     "output_type": "stream",
     "text": [
      "to_hdf(overwriting): 100%|█████████████████████████████████████████████████████████████| 36/36 [01:19<00:00,  2.22s/it]\n",
      "to_hdf(overwriting): 100%|█████████████████████████████████████████████████████████████████████| 36/36 [00:00<?, ?it/s]\n"
     ]
    }
   ],
   "source": [
    "# Saving model...\n",
    "sm.to_json(model_path + 'de_pt_network_agg',\n",
    "           only_attributes=['zones', 'links', 'nodes', 'pt_route_types'],\n",
    "           encoding='utf-8')"
   ]
  },
  {
   "cell_type": "code",
   "execution_count": 68,
   "metadata": {},
   "outputs": [],
   "source": [
    "# Save auxiliary information seperately\n",
    "auxiliary['index'] = auxiliary.index\n",
    "auxiliary.reset_index(drop=True, inplace=True)\n",
    "auxiliary.to_json(model_path + 'de_pt_network_agg/links_quetzaldata.json')"
   ]
  },
  {
   "cell_type": "code",
   "execution_count": 69,
   "metadata": {},
   "outputs": [
    {
     "name": "stderr",
     "output_type": "stream",
     "text": [
      "to_hdf(overwriting): 100%|█████████████████████████████████████████████████████████████| 36/36 [00:10<00:00,  3.31it/s]\n"
     ]
    }
   ],
   "source": [
    "# Save reduced access/egress links\n",
    "sm.to_json(model_path + 'de_pt_access_egress', only_attributes=[\n",
    "    'centroids', 'footpaths', 'zone_to_transit'], encoding='utf-8')"
   ]
  }
 ],
 "metadata": {
  "kernelspec": {
   "display_name": "Python 3 (ipykernel)",
   "language": "python",
   "name": "python3"
  },
  "language_info": {
   "codemirror_mode": {
    "name": "ipython",
    "version": 3
   },
   "file_extension": ".py",
   "mimetype": "text/x-python",
   "name": "python",
   "nbconvert_exporter": "python",
   "pygments_lexer": "ipython3",
   "version": "3.8.13"
  }
 },
 "nbformat": 4,
 "nbformat_minor": 2
}
