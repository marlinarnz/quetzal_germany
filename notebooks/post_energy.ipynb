{
 "cells": [
  {
   "cell_type": "code",
   "execution_count": 1,
   "id": "9f1f841c",
   "metadata": {},
   "outputs": [
    {
     "name": "stderr",
     "output_type": "stream",
     "text": [
      "\n",
      "Bad key text.latex.preview in file C:\\Users\\marlin.arnz\\AppData\\Local\\Continuum\\miniconda3\\envs\\quetzal\\lib\\site-packages\\matplotlib\\mpl-data\\stylelib\\_classic_test.mplstyle, line 123 ('text.latex.preview : False')\n",
      "You probably need to get an updated matplotlibrc file from\n",
      "https://github.com/matplotlib/matplotlib/blob/v3.5.2/matplotlibrc.template\n",
      "or from the matplotlib source distribution\n",
      "\n",
      "Bad key mathtext.fallback_to_cm in file C:\\Users\\marlin.arnz\\AppData\\Local\\Continuum\\miniconda3\\envs\\quetzal\\lib\\site-packages\\matplotlib\\mpl-data\\stylelib\\_classic_test.mplstyle, line 155 ('mathtext.fallback_to_cm : True  # When True, use symbols from the Computer Modern')\n",
      "You probably need to get an updated matplotlibrc file from\n",
      "https://github.com/matplotlib/matplotlib/blob/v3.5.2/matplotlibrc.template\n",
      "or from the matplotlib source distribution\n",
      "\n",
      "Bad key savefig.jpeg_quality in file C:\\Users\\marlin.arnz\\AppData\\Local\\Continuum\\miniconda3\\envs\\quetzal\\lib\\site-packages\\matplotlib\\mpl-data\\stylelib\\_classic_test.mplstyle, line 418 ('savefig.jpeg_quality: 95       # when a jpeg is saved, the default quality parameter.')\n",
      "You probably need to get an updated matplotlibrc file from\n",
      "https://github.com/matplotlib/matplotlib/blob/v3.5.2/matplotlibrc.template\n",
      "or from the matplotlib source distribution\n",
      "\n",
      "Bad key keymap.all_axes in file C:\\Users\\marlin.arnz\\AppData\\Local\\Continuum\\miniconda3\\envs\\quetzal\\lib\\site-packages\\matplotlib\\mpl-data\\stylelib\\_classic_test.mplstyle, line 466 ('keymap.all_axes : a                 # enable all axes')\n",
      "You probably need to get an updated matplotlibrc file from\n",
      "https://github.com/matplotlib/matplotlib/blob/v3.5.2/matplotlibrc.template\n",
      "or from the matplotlib source distribution\n",
      "\n",
      "Bad key animation.avconv_path in file C:\\Users\\marlin.arnz\\AppData\\Local\\Continuum\\miniconda3\\envs\\quetzal\\lib\\site-packages\\matplotlib\\mpl-data\\stylelib\\_classic_test.mplstyle, line 477 ('animation.avconv_path: avconv     # Path to avconv binary. Without full path')\n",
      "You probably need to get an updated matplotlibrc file from\n",
      "https://github.com/matplotlib/matplotlib/blob/v3.5.2/matplotlibrc.template\n",
      "or from the matplotlib source distribution\n",
      "\n",
      "Bad key animation.avconv_args in file C:\\Users\\marlin.arnz\\AppData\\Local\\Continuum\\miniconda3\\envs\\quetzal\\lib\\site-packages\\matplotlib\\mpl-data\\stylelib\\_classic_test.mplstyle, line 479 ('animation.avconv_args:            # Additional arguments to pass to avconv')\n",
      "You probably need to get an updated matplotlibrc file from\n",
      "https://github.com/matplotlib/matplotlib/blob/v3.5.2/matplotlibrc.template\n",
      "or from the matplotlib source distribution\n"
     ]
    }
   ],
   "source": [
    "import sys # for automation and parallelisation\n",
    "manual, scenario = (True, 'base') if 'ipykernel' in sys.argv[0] else (False, sys.argv[1])\n",
    "if manual:\n",
    "    %matplotlib inline"
   ]
  },
  {
   "cell_type": "code",
   "execution_count": 36,
   "id": "6b58c852",
   "metadata": {},
   "outputs": [],
   "source": [
    "import numpy as np\n",
    "import pandas as pd\n",
    "import matplotlib.pyplot as plt\n",
    "from natsort import natsort_keygen # for sorting string indicies\n",
    "from quetzal.io import excel"
   ]
  },
  {
   "cell_type": "markdown",
   "id": "006f03ab",
   "metadata": {},
   "source": [
    "# Post-processing\n",
    "\n",
    "## Saves energy demand of passenger transport\n",
    "\n",
    "## Needs total pkm within Germany"
   ]
  },
  {
   "cell_type": "code",
   "execution_count": 3,
   "id": "ea08015e",
   "metadata": {},
   "outputs": [],
   "source": [
    "input_path = '../input_static/'\n",
    "output_path = '../output/'\n",
    "model_path = '../model/'"
   ]
  },
  {
   "cell_type": "code",
   "execution_count": 4,
   "id": "62728a8e",
   "metadata": {},
   "outputs": [],
   "source": [
    "# Load scenario parameters\n",
    "params = excel.read_var(file='../input/parameters.xls', scenario=scenario)"
   ]
  },
  {
   "cell_type": "code",
   "execution_count": 5,
   "id": "b7d4de48",
   "metadata": {},
   "outputs": [],
   "source": [
    "# Load results in pkm\n",
    "results = {}\n",
    "for scen in ['base', '2035_base']:\n",
    "    results[scen] = pd.read_csv(output_path + scen + '/' + 'pkm.csv', index_col=0)"
   ]
  },
  {
   "cell_type": "code",
   "execution_count": 14,
   "id": "94350c21",
   "metadata": {},
   "outputs": [],
   "source": [
    "# Aggregate traffic by mode\n",
    "pkm = pd.DataFrame()\n",
    "for scen, res in results.items():\n",
    "    pkm[scen] = res.groupby('mode').agg({'pkm': 'sum'})"
   ]
  },
  {
   "cell_type": "code",
   "execution_count": 15,
   "id": "d8a10e94",
   "metadata": {},
   "outputs": [
    {
     "data": {
      "text/html": [
       "<div>\n",
       "<style scoped>\n",
       "    .dataframe tbody tr th:only-of-type {\n",
       "        vertical-align: middle;\n",
       "    }\n",
       "\n",
       "    .dataframe tbody tr th {\n",
       "        vertical-align: top;\n",
       "    }\n",
       "\n",
       "    .dataframe thead th {\n",
       "        text-align: right;\n",
       "    }\n",
       "</style>\n",
       "<table border=\"1\" class=\"dataframe\">\n",
       "  <thead>\n",
       "    <tr style=\"text-align: right;\">\n",
       "      <th></th>\n",
       "      <th>base</th>\n",
       "      <th>2035_base</th>\n",
       "      <th>2050</th>\n",
       "    </tr>\n",
       "    <tr>\n",
       "      <th>mode</th>\n",
       "      <th></th>\n",
       "      <th></th>\n",
       "      <th></th>\n",
       "    </tr>\n",
       "  </thead>\n",
       "  <tbody>\n",
       "    <tr>\n",
       "      <th>air</th>\n",
       "      <td>1.548605</td>\n",
       "      <td>1.749428</td>\n",
       "      <td>1.747343</td>\n",
       "    </tr>\n",
       "    <tr>\n",
       "      <th>bus</th>\n",
       "      <td>59.205586</td>\n",
       "      <td>66.432149</td>\n",
       "      <td>66.803636</td>\n",
       "    </tr>\n",
       "    <tr>\n",
       "      <th>car</th>\n",
       "      <td>1077.858661</td>\n",
       "      <td>1184.546767</td>\n",
       "      <td>1216.183856</td>\n",
       "    </tr>\n",
       "    <tr>\n",
       "      <th>coach</th>\n",
       "      <td>12.178307</td>\n",
       "      <td>9.290413</td>\n",
       "      <td>13.741190</td>\n",
       "    </tr>\n",
       "    <tr>\n",
       "      <th>rail_long</th>\n",
       "      <td>13.453389</td>\n",
       "      <td>28.438550</td>\n",
       "      <td>15.179908</td>\n",
       "    </tr>\n",
       "    <tr>\n",
       "      <th>rail_short</th>\n",
       "      <td>75.568969</td>\n",
       "      <td>56.437836</td>\n",
       "      <td>85.266987</td>\n",
       "    </tr>\n",
       "    <tr>\n",
       "      <th>walk</th>\n",
       "      <td>28.627982</td>\n",
       "      <td>60.424275</td>\n",
       "      <td>32.301907</td>\n",
       "    </tr>\n",
       "  </tbody>\n",
       "</table>\n",
       "</div>"
      ],
      "text/plain": [
       "                   base    2035_base         2050\n",
       "mode                                             \n",
       "air            1.548605     1.749428     1.747343\n",
       "bus           59.205586    66.432149    66.803636\n",
       "car         1077.858661  1184.546767  1216.183856\n",
       "coach         12.178307     9.290413    13.741190\n",
       "rail_long     13.453389    28.438550    15.179908\n",
       "rail_short    75.568969    56.437836    85.266987\n",
       "walk          28.627982    60.424275    32.301907"
      ]
     },
     "execution_count": 15,
     "metadata": {},
     "output_type": "execute_result"
    }
   ],
   "source": [
    "# Extrapolate 2035 values to 2050\n",
    "increase = 1 + (0.07)*(1 + 15/18)\n",
    "pkm['2050'] = pkm['base'] * increase # linear extrapolation\n",
    "pkm / 1e9"
   ]
  },
  {
   "cell_type": "code",
   "execution_count": 16,
   "id": "d46d6788",
   "metadata": {},
   "outputs": [
    {
     "data": {
      "text/plain": [
       "base         1268.441499\n",
       "2035_base    1407.319418\n",
       "2050         1431.224825\n",
       "dtype: float64"
      ]
     },
     "execution_count": 16,
     "metadata": {},
     "output_type": "execute_result"
    }
   ],
   "source": [
    "# Total traffic\n",
    "pkm.sum() / 1e9"
   ]
  },
  {
   "cell_type": "code",
   "execution_count": 17,
   "id": "807b8417",
   "metadata": {},
   "outputs": [
    {
     "data": {
      "text/plain": [
       "0.12833333333333363"
      ]
     },
     "execution_count": 17,
     "metadata": {},
     "output_type": "execute_result"
    }
   ],
   "source": [
    "# Difference 2017 to 2050\n",
    "pkm['2050'].sum() / pkm['base'].sum() -1"
   ]
  },
  {
   "cell_type": "markdown",
   "id": "297c896f",
   "metadata": {},
   "source": [
    "## Add international air traffic\n",
    "\n",
    "Data from eurostat (\"Air passenger transport by reporting country\"; online data code: AVIA_PAOC).\n",
    "\n",
    "Aggregated figures from the German Federal Transport Ministry for 2017: 67.5 bio. (thereof 10.4 bio. domestic)"
   ]
  },
  {
   "cell_type": "code",
   "execution_count": 18,
   "id": "97fcaf44",
   "metadata": {},
   "outputs": [],
   "source": [
    "pkm.drop('air', inplace=True, errors='ignore')\n",
    "# Assume same increase of air traffic as for the rest of traffic\n",
    "pkm.loc['air_domestic'] = [10.4*1e9 for _ in pkm.columns]\n",
    "pkm.loc['air_domestic', '2050'] = pkm.loc['air_domestic', 'base'] * increase\n",
    "pkm.loc['air_international'] = [57.1*1e9 for _ in pkm.columns]\n",
    "pkm.loc['air_international', '2050'] = pkm.loc['air_international', 'base'] * increase"
   ]
  },
  {
   "cell_type": "code",
   "execution_count": 19,
   "id": "2081bd4a",
   "metadata": {},
   "outputs": [
    {
     "data": {
      "text/plain": [
       "<AxesSubplot:ylabel='base'>"
      ]
     },
     "execution_count": 19,
     "metadata": {},
     "output_type": "execute_result"
    },
    {
     "data": {
      "image/png": "[encoded data removed]",
      "text/plain": [
       "<Figure size 432x288 with 1 Axes>"
      ]
     },
     "metadata": {},
     "output_type": "display_data"
    }
   ],
   "source": [
    "pkm['base'].plot.pie()"
   ]
  },
  {
   "cell_type": "markdown",
   "id": "185dc81d",
   "metadata": {},
   "source": [
    "## Energy intensity\n",
    "\n",
    "Energy intensities depend on the transport technology and its propulsion system. There  are the following data sets available:\n",
    "* TREMOD (Transport Emission Model; underlying values come from HBEFA (Handbuch Emissionsfaktoren)): \"Aktualisierung der Modelle TREMOD/TREMOD-MM für die Emissionsberichterstattung 2020 (Berichtsperiode 1990-2018)\", 2020\n",
    "* better overview of TREMOD data for today here: https://www.umweltbundesamt.de/daten/verkehr/endenergieverbrauch-energieeffizienz-des-verkehrs#spezifischer-energieverbrauch-sinkt\n",
    "* Easy diagrams for today here: https://www.allianz-pro-schiene.de/presse/pressemitteilungen/ferienstart-im-umweltvergleich-liegt-die-bahn-vorn/\n",
    "* Projections for 2050 (choosing figures for fully electrified drivetrains): Robinius, M. et al. (2020). Kosteneffiziente und Klimagerechte Transformationsstrategien für das deutsche Energiesystem bis zum Jahr 2050. Jülich.\n",
    "* Maximum efficiency assumptions for 2050: Millward-Hopkins, J., Steinberger, J. K., Rao, N. D., & Oswald, Y. (2020). Providing decent living with minimum energy: A global scenario. Global Environmental Change, 65, 102168. https://doi.org/10.1016/j.gloenvcha.2020.102168\n",
    "\n",
    "None of the sources provides a comprehensive picture. The final energy demand ist of interest (without conversion losses in the energy supply chain)."
   ]
  },
  {
   "cell_type": "code",
   "execution_count": 21,
   "id": "2d4a666c",
   "metadata": {},
   "outputs": [],
   "source": [
    "# energy demands in kWh/pkm\n",
    "pkm.sort_index(inplace=True, key=natsort_keygen()) # sort alphabetical\n",
    "intensity = pd.DataFrame(index=pkm.index,\n",
    "                         data={'base': [2.76/3.6,\n",
    "                                        2.5/3.6,\n",
    "                                        0.9/3.6,\n",
    "                                        2.14/3.6,\n",
    "                                        0.41/3.6,\n",
    "                                        0.51/3.6,\n",
    "                                        0.86/3.6,\n",
    "                                        0],\n",
    "                               '2050': [2.76/3.6, # from today\n",
    "                                        2.5/3.6, # from today\n",
    "                                        1/10.626, # Battery-electric bus\n",
    "                                        1/7.143 / params['car_occ']['all'], # BEV\n",
    "                                        1/10.626, # Battery-electric bus\n",
    "                                        1/23.419, # Electric train\n",
    "                                        1/23.419, # Electric train\n",
    "                                        0],\n",
    "                               '2050_eff': [0.98/3.6,\n",
    "                                            0.98/3.6,\n",
    "                                            0.18/3.6,\n",
    "                                            0.35/3.6,\n",
    "                                            0.18/3.6,\n",
    "                                            0.06/3.6,\n",
    "                                            0.06/3.6,\n",
    "                                            0]\n",
    "                              })"
   ]
  },
  {
   "cell_type": "markdown",
   "id": "8ccae02c",
   "metadata": {},
   "source": [
    "## Energy demand\n",
    "\n",
    "Calculate the final energy demand"
   ]
  },
  {
   "cell_type": "code",
   "execution_count": 72,
   "id": "998cd2b7",
   "metadata": {},
   "outputs": [
    {
     "data": {
      "text/html": [
       "<div>\n",
       "<style scoped>\n",
       "    .dataframe tbody tr th:only-of-type {\n",
       "        vertical-align: middle;\n",
       "    }\n",
       "\n",
       "    .dataframe tbody tr th {\n",
       "        vertical-align: top;\n",
       "    }\n",
       "\n",
       "    .dataframe thead th {\n",
       "        text-align: right;\n",
       "    }\n",
       "</style>\n",
       "<table border=\"1\" class=\"dataframe\">\n",
       "  <thead>\n",
       "    <tr style=\"text-align: right;\">\n",
       "      <th></th>\n",
       "      <th>2017</th>\n",
       "      <th>2017 global sufficiency</th>\n",
       "      <th>2050</th>\n",
       "      <th>2050 max. efficiency</th>\n",
       "      <th>2050 global sufficiency</th>\n",
       "    </tr>\n",
       "    <tr>\n",
       "      <th>mode</th>\n",
       "      <th></th>\n",
       "      <th></th>\n",
       "      <th></th>\n",
       "      <th></th>\n",
       "      <th></th>\n",
       "    </tr>\n",
       "  </thead>\n",
       "  <tbody>\n",
       "    <tr>\n",
       "      <th>air_domestic</th>\n",
       "      <td>7.973333</td>\n",
       "      <td>0.000000</td>\n",
       "      <td>8.996578</td>\n",
       "      <td>3.194437</td>\n",
       "      <td>0.000000</td>\n",
       "    </tr>\n",
       "    <tr>\n",
       "      <th>air_international</th>\n",
       "      <td>39.652778</td>\n",
       "      <td>59.354823</td>\n",
       "      <td>44.741551</td>\n",
       "      <td>17.538688</td>\n",
       "      <td>23.267090</td>\n",
       "    </tr>\n",
       "    <tr>\n",
       "      <th>bus</th>\n",
       "      <td>14.801396</td>\n",
       "      <td>27.175275</td>\n",
       "      <td>6.286809</td>\n",
       "      <td>3.340182</td>\n",
       "      <td>5.435055</td>\n",
       "    </tr>\n",
       "    <tr>\n",
       "      <th>car</th>\n",
       "      <td>640.727093</td>\n",
       "      <td>32.332191</td>\n",
       "      <td>113.508223</td>\n",
       "      <td>118.240097</td>\n",
       "      <td>5.287975</td>\n",
       "    </tr>\n",
       "    <tr>\n",
       "      <th>coach</th>\n",
       "      <td>1.386974</td>\n",
       "      <td>0.000000</td>\n",
       "      <td>1.293167</td>\n",
       "      <td>0.687059</td>\n",
       "      <td>0.000000</td>\n",
       "    </tr>\n",
       "    <tr>\n",
       "      <th>rail_long</th>\n",
       "      <td>1.905897</td>\n",
       "      <td>15.399322</td>\n",
       "      <td>0.648188</td>\n",
       "      <td>0.252998</td>\n",
       "      <td>1.811685</td>\n",
       "    </tr>\n",
       "    <tr>\n",
       "      <th>rail_short</th>\n",
       "      <td>18.052587</td>\n",
       "      <td>0.000000</td>\n",
       "      <td>3.640932</td>\n",
       "      <td>1.421116</td>\n",
       "      <td>0.000000</td>\n",
       "    </tr>\n",
       "    <tr>\n",
       "      <th>walk</th>\n",
       "      <td>0.000000</td>\n",
       "      <td>0.000000</td>\n",
       "      <td>0.000000</td>\n",
       "      <td>0.000000</td>\n",
       "      <td>0.000000</td>\n",
       "    </tr>\n",
       "  </tbody>\n",
       "</table>\n",
       "</div>"
      ],
      "text/plain": [
       "                         2017  2017 global sufficiency        2050  \\\n",
       "mode                                                                 \n",
       "air_domestic         7.973333                 0.000000    8.996578   \n",
       "air_international   39.652778                59.354823   44.741551   \n",
       "bus                 14.801396                27.175275    6.286809   \n",
       "car                640.727093                32.332191  113.508223   \n",
       "coach                1.386974                 0.000000    1.293167   \n",
       "rail_long            1.905897                15.399322    0.648188   \n",
       "rail_short          18.052587                 0.000000    3.640932   \n",
       "walk                 0.000000                 0.000000    0.000000   \n",
       "\n",
       "                   2050 max. efficiency  2050 global sufficiency  \n",
       "mode                                                              \n",
       "air_domestic                   3.194437                 0.000000  \n",
       "air_international             17.538688                23.267090  \n",
       "bus                            3.340182                 5.435055  \n",
       "car                          118.240097                 5.287975  \n",
       "coach                          0.687059                 0.000000  \n",
       "rail_long                      0.252998                 1.811685  \n",
       "rail_short                     1.421116                 0.000000  \n",
       "walk                           0.000000                 0.000000  "
      ]
     },
     "execution_count": 72,
     "metadata": {},
     "output_type": "execute_result"
    }
   ],
   "source": [
    "# For 2050 global sufficiency, take pkm data from Millward-Hopkins et al. 2020\n",
    "pop = 80103978\n",
    "pkm_sufficiency = pd.Series({'air_domestic': 0,\n",
    "                             'air_international': 1067*pop,\n",
    "                             'bus': 2714/2*pop,\n",
    "                             'car': 679*pop,\n",
    "                             'coach': 0,\n",
    "                             'rail_long': 2714/2*pop,\n",
    "                             'rail_short': 0,\n",
    "                             'walk': 1251*pop})\n",
    "demand = pd.DataFrame(index=intensity.index,\n",
    "                      data={'2017': pkm['base'] * intensity['base'],\n",
    "                            '2017 global sufficiency': intensity['base'] * pkm_sufficiency,\n",
    "                            '2050': pkm['2050'] * intensity['2050'],\n",
    "                            '2050 max. efficiency': pkm['2050'] * intensity['2050_eff'],\n",
    "                            '2050 global sufficiency': intensity['2050_eff'] * pkm_sufficiency})\n",
    "demand / 1e9"
   ]
  },
  {
   "cell_type": "code",
   "execution_count": 73,
   "id": "29f2e0ea",
   "metadata": {},
   "outputs": [],
   "source": [
    "# Aggregate modes\n",
    "demand['transport mode'] = ['air', 'air', 'road PT', 'MIT', 'road PT', 'rail', 'rail', 'active']\n",
    "demand['Transportmodus'] = ['Flugzeug', 'Flugzeug', 'ÖSPV', 'MIV', 'ÖSPV', 'Schiene', 'Schiene', 'aktiv']\n",
    "demand_agg = demand.groupby('Transportmodus').sum() / 1e9 * 3.6"
   ]
  },
  {
   "cell_type": "code",
   "execution_count": 74,
   "id": "5407e58a",
   "metadata": {},
   "outputs": [
    {
     "data": {
      "text/plain": [
       "<matplotlib.legend.Legend at 0x1e54f527040>"
      ]
     },
     "execution_count": 74,
     "metadata": {},
     "output_type": "execute_result"
    },
    {
     "data": {
      "image/png": "[encoded data removed]",
      "text/plain": [
       "<Figure size 432x432 with 1 Axes>"
      ]
     },
     "metadata": {
      "needs_background": "light"
     },
     "output_type": "display_data"
    }
   ],
   "source": [
    "# Plot\n",
    "fig, ax = plt.subplots(figsize=(6,6))\n",
    "demand_agg.T.plot.bar(stacked=True, ax=ax, legend=False,\n",
    "                      #ylabel='energy demand in PJ/year',\n",
    "                      #color=['#690709', '#bdbdbd', '#151770', '#887706', '#494949'])\n",
    "                      ylabel='Energiebedarf in PJ/Jahr',\n",
    "                      color=['#151770', '#690709', '#494949','#bdbdbd', '#887706'])\n",
    "ax.legend(ncol=len(demand), bbox_to_anchor=(1.05,1.1))\n",
    "#for pos in ['right', 'top']:\n",
    "#    plt.gca().spines[pos].set_visible(False)"
   ]
  },
  {
   "cell_type": "code",
   "execution_count": 69,
   "id": "8a52a7f4",
   "metadata": {},
   "outputs": [
    {
     "data": {
      "text/plain": [
       "0.24746438424441783"
      ]
     },
     "execution_count": 69,
     "metadata": {},
     "output_type": "execute_result"
    }
   ],
   "source": [
    "demand['2050 global sufficiency'].sum() / demand['2050 max. efficiency'].sum()"
   ]
  },
  {
   "cell_type": "code",
   "execution_count": 71,
   "id": "8251f0ab",
   "metadata": {},
   "outputs": [
    {
     "data": {
      "text/plain": [
       "483.3417959735401"
      ]
     },
     "execution_count": 71,
     "metadata": {},
     "output_type": "execute_result"
    }
   ],
   "source": [
    "# Sufficiency with today's technology --> energy demand in PJ\n",
    "(pkm_sufficiency * intensity['base']).sum() / 1e9 *3.6"
   ]
  },
  {
   "cell_type": "code",
   "execution_count": null,
   "id": "d1b6cee1",
   "metadata": {},
   "outputs": [],
   "source": []
  }
 ],
 "metadata": {
  "kernelspec": {
   "display_name": "Python 3 (ipykernel)",
   "language": "python",
   "name": "python3"
  },
  "language_info": {
   "codemirror_mode": {
    "name": "ipython",
    "version": 3
   },
   "file_extension": ".py",
   "mimetype": "text/x-python",
   "name": "python",
   "nbconvert_exporter": "python",
   "pygments_lexer": "ipython3",
   "version": "3.8.13"
  }
 },
 "nbformat": 4,
 "nbformat_minor": 5
}
