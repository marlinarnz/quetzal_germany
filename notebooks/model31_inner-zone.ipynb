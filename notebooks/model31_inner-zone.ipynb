{
 "cells": [
  {
   "cell_type": "code",
   "execution_count": 49,
   "metadata": {},
   "outputs": [],
   "source": [
    "import pandas as pd\n",
    "import numpy as np\n",
    "from quetzal.model import stepmodel\n",
    "import biogeme.database as db\n",
    "import biogeme.biogeme as bio\n",
    "import biogeme.models as models\n",
    "import biogeme.messaging as message\n",
    "from biogeme.expressions import Beta"
   ]
  },
  {
   "cell_type": "markdown",
   "metadata": {},
   "source": [
    "# Inner-zonal trips\n",
    "## Calibration and mode choice\n",
    "Assignment of inner-zonal trips is not possible in this model. Trip lengths by mode and purpose must be approximated with MiD2017 data."
   ]
  },
  {
   "cell_type": "code",
   "execution_count": 2,
   "metadata": {},
   "outputs": [],
   "source": [
    "input_path = '/home/local/RL-INSTITUT/marlin.arnz/rli/Daten_flexibel_01/quetzal_germany/input/transport_demand/'\n",
    "output_path = '/home/local/RL-INSTITUT/marlin.arnz/rli/Daten_flexibel_01/quetzal_germany/output/'\n",
    "model_path = '/home/local/RL-INSTITUT/marlin.arnz/rli/Daten_flexibel_01/quetzal_germany/model/'"
   ]
  },
  {
   "cell_type": "code",
   "execution_count": 3,
   "metadata": {},
   "outputs": [
    {
     "name": "stderr",
     "output_type": "stream",
     "text": [
      "read_hdf: 100%|██████████| 43/43 [09:42<00:00, 13.54s/it]\n"
     ]
    }
   ],
   "source": [
    "# Loading complete StepModel...\n",
    "sm = stepmodel.read_zip(model_path + 'de_step_4.zip')"
   ]
  },
  {
   "cell_type": "markdown",
   "metadata": {},
   "source": [
    "## Calibration\n",
    "The network model does not allow OD trips within zones. However, trip volumes and mode choice can depend on zonal attributes that are available in this represenation. These are:\n",
    "* Population\n",
    "* Area\n",
    "* Urbanisation degree\n",
    "* Number of PT stops by route type"
   ]
  },
  {
   "cell_type": "markdown",
   "metadata": {},
   "source": [
    "### Model formulation\n",
    "The model consists of observable utility functions, one for each mode j:\n",
    "> V_i_j = ASC_j + b_pop_i_j * POP + b_area_i_j * AREA + b_urban_i_j * URBAN + b_stops_i_j * STOPS_j\n",
    "\n",
    "Index i marks the demand group. I = {'work' (1), 'education' (2), 'shopping' (3), 'official' (4), 'private' (6)}"
   ]
  },
  {
   "cell_type": "markdown",
   "metadata": {},
   "source": [
    "#### Enrich zones with PT stop data"
   ]
  },
  {
   "cell_type": "code",
   "execution_count": 4,
   "metadata": {},
   "outputs": [],
   "source": [
    "sm.nodes['n_nodes'] = sm.nodes['names'].apply(lambda l: len(l))"
   ]
  },
  {
   "cell_type": "code",
   "execution_count": 7,
   "metadata": {},
   "outputs": [],
   "source": [
    "stops = sm.nodes.groupby(['NUTS_ID', 'route_type']).agg({'n_nodes': 'sum'})"
   ]
  },
  {
   "cell_type": "code",
   "execution_count": 16,
   "metadata": {},
   "outputs": [],
   "source": [
    "stops = stops.reset_index().pivot(index='NUTS_ID',\n",
    "                                  columns='route_type',\n",
    "                                  values='n_nodes').fillna(0)"
   ]
  },
  {
   "cell_type": "code",
   "execution_count": 17,
   "metadata": {},
   "outputs": [],
   "source": [
    "sm.zones['STOPS_RAIL'] = sm.zones['NUTS_ID'].apply(lambda i: stops.loc[i, 'rail_short_distance']) \\\n",
    "    + sm.zones['NUTS_ID'].apply(lambda i: stops.loc[i, 'rail_long_distance'])\n",
    "sm.zones['STOPS_BUS'] = sm.zones['NUTS_ID'].apply(lambda i: stops.loc[i, 'short_distance_traffic'])"
   ]
  },
  {
   "cell_type": "code",
   "execution_count": 18,
   "metadata": {},
   "outputs": [
    {
     "data": {
      "text/html": [
       "<div>\n",
       "<style scoped>\n",
       "    .dataframe tbody tr th:only-of-type {\n",
       "        vertical-align: middle;\n",
       "    }\n",
       "\n",
       "    .dataframe tbody tr th {\n",
       "        vertical-align: top;\n",
       "    }\n",
       "\n",
       "    .dataframe thead th {\n",
       "        text-align: right;\n",
       "    }\n",
       "</style>\n",
       "<table border=\"1\" class=\"dataframe\">\n",
       "  <thead>\n",
       "    <tr style=\"text-align: right;\">\n",
       "      <th></th>\n",
       "      <th>CNTR_CODE</th>\n",
       "      <th>NUTS_NAME</th>\n",
       "      <th>LEVL_CODE</th>\n",
       "      <th>NUTS_ID</th>\n",
       "      <th>geometry</th>\n",
       "      <th>population</th>\n",
       "      <th>area</th>\n",
       "      <th>urbanisation</th>\n",
       "      <th>lau_id</th>\n",
       "      <th>STOPS_RAIL</th>\n",
       "      <th>STOPS_BUS</th>\n",
       "    </tr>\n",
       "  </thead>\n",
       "  <tbody>\n",
       "    <tr>\n",
       "      <th>DE600</th>\n",
       "      <td>DE</td>\n",
       "      <td>Hamburg</td>\n",
       "      <td>3</td>\n",
       "      <td>DE600</td>\n",
       "      <td>MULTIPOLYGON (((9.94538 53.65293, 9.95059 53.6...</td>\n",
       "      <td>1841179</td>\n",
       "      <td>755.09</td>\n",
       "      <td>1.0</td>\n",
       "      <td>2000</td>\n",
       "      <td>178.0</td>\n",
       "      <td>4383.0</td>\n",
       "    </tr>\n",
       "    <tr>\n",
       "      <th>DE711</th>\n",
       "      <td>DE</td>\n",
       "      <td>Darmstadt, Kreisfreie Stadt</td>\n",
       "      <td>3</td>\n",
       "      <td>DE711</td>\n",
       "      <td>POLYGON ((8.72571 49.95421, 8.73453 49.94858, ...</td>\n",
       "      <td>159207</td>\n",
       "      <td>122.07</td>\n",
       "      <td>1.0</td>\n",
       "      <td>6411</td>\n",
       "      <td>22.0</td>\n",
       "      <td>393.0</td>\n",
       "    </tr>\n",
       "    <tr>\n",
       "      <th>DE712</th>\n",
       "      <td>DE</td>\n",
       "      <td>Frankfurt am Main, Kreisfreie Stadt</td>\n",
       "      <td>3</td>\n",
       "      <td>DE712</td>\n",
       "      <td>POLYGON ((8.59024 50.15954, 8.58867 50.16843, ...</td>\n",
       "      <td>753056</td>\n",
       "      <td>248.31</td>\n",
       "      <td>1.0</td>\n",
       "      <td>6412</td>\n",
       "      <td>126.0</td>\n",
       "      <td>1554.0</td>\n",
       "    </tr>\n",
       "    <tr>\n",
       "      <th>DE713</th>\n",
       "      <td>DE</td>\n",
       "      <td>Offenbach am Main, Kreisfreie Stadt</td>\n",
       "      <td>3</td>\n",
       "      <td>DE713</td>\n",
       "      <td>POLYGON ((8.71783 50.06241, 8.73407 50.08527, ...</td>\n",
       "      <td>128744</td>\n",
       "      <td>44.88</td>\n",
       "      <td>1.0</td>\n",
       "      <td>6413</td>\n",
       "      <td>15.0</td>\n",
       "      <td>336.0</td>\n",
       "    </tr>\n",
       "    <tr>\n",
       "      <th>DE714</th>\n",
       "      <td>DE</td>\n",
       "      <td>Wiesbaden, Kreisfreie Stadt</td>\n",
       "      <td>3</td>\n",
       "      <td>DE714</td>\n",
       "      <td>POLYGON ((8.32765 50.14589, 8.32239 50.14425, ...</td>\n",
       "      <td>278342</td>\n",
       "      <td>203.87</td>\n",
       "      <td>1.0</td>\n",
       "      <td>6414</td>\n",
       "      <td>21.0</td>\n",
       "      <td>1009.0</td>\n",
       "    </tr>\n",
       "  </tbody>\n",
       "</table>\n",
       "</div>"
      ],
      "text/plain": [
       "      CNTR_CODE                            NUTS_NAME  LEVL_CODE NUTS_ID  \\\n",
       "DE600        DE                              Hamburg          3   DE600   \n",
       "DE711        DE          Darmstadt, Kreisfreie Stadt          3   DE711   \n",
       "DE712        DE  Frankfurt am Main, Kreisfreie Stadt          3   DE712   \n",
       "DE713        DE  Offenbach am Main, Kreisfreie Stadt          3   DE713   \n",
       "DE714        DE          Wiesbaden, Kreisfreie Stadt          3   DE714   \n",
       "\n",
       "                                                geometry  population    area  \\\n",
       "DE600  MULTIPOLYGON (((9.94538 53.65293, 9.95059 53.6...     1841179  755.09   \n",
       "DE711  POLYGON ((8.72571 49.95421, 8.73453 49.94858, ...      159207  122.07   \n",
       "DE712  POLYGON ((8.59024 50.15954, 8.58867 50.16843, ...      753056  248.31   \n",
       "DE713  POLYGON ((8.71783 50.06241, 8.73407 50.08527, ...      128744   44.88   \n",
       "DE714  POLYGON ((8.32765 50.14589, 8.32239 50.14425, ...      278342  203.87   \n",
       "\n",
       "       urbanisation lau_id  STOPS_RAIL  STOPS_BUS  \n",
       "DE600           1.0   2000       178.0     4383.0  \n",
       "DE711           1.0   6411        22.0      393.0  \n",
       "DE712           1.0   6412       126.0     1554.0  \n",
       "DE713           1.0   6413        15.0      336.0  \n",
       "DE714           1.0   6414        21.0     1009.0  "
      ]
     },
     "execution_count": 18,
     "metadata": {},
     "output_type": "execute_result"
    }
   ],
   "source": [
    "sm.zones.head()"
   ]
  },
  {
   "cell_type": "markdown",
   "metadata": {},
   "source": [
    "#### Load trips table from MiD and filter"
   ]
  },
  {
   "cell_type": "code",
   "execution_count": 28,
   "metadata": {},
   "outputs": [],
   "source": [
    "trips = pd.read_csv(input_path + 'MiD2017_Regional_Wege.csv', sep=';')\n",
    "trips = trips[['KKZ_SO', 'KKZ_ZO', 'wegkm_imp','wegmin_imp1',\n",
    "               'hwzweck1', 'hvm_diff2', 'auto', 'W_SO2']]\n",
    "trips.columns = ['origin', 'destination', 'distance', 'duration',\n",
    "                 'PURPOSE', 'MODE', 'CAR_AV', 'W_SO2']\n",
    "trips['distance'] = pd.to_numeric(trips['distance'].str.replace(',', '.'))"
   ]
  },
  {
   "cell_type": "code",
   "execution_count": 29,
   "metadata": {},
   "outputs": [
    {
     "name": "stdout",
     "output_type": "stream",
     "text": [
      "(409507, 9)\n"
     ]
    }
   ],
   "source": [
    "# Filter for inner-German trips\n",
    "trips = trips.loc[(trips['W_SO2']!=2) & (trips['W_SO2']!=3)]\n",
    "# Filter unspecified rows\n",
    "trips = trips.loc[(trips['origin']<9999) &\n",
    "                  (trips['destination']<9999) &\n",
    "                  (trips['PURPOSE']!=99) &\n",
    "                  (trips['MODE']<24)]\n",
    "print(trips.shape)"
   ]
  },
  {
   "cell_type": "code",
   "execution_count": 30,
   "metadata": {},
   "outputs": [
    {
     "name": "stdout",
     "output_type": "stream",
     "text": [
      "(300620, 9)\n"
     ]
    }
   ],
   "source": [
    "# Filter for inner-cell traffic\n",
    "trips = trips.loc[trips['origin']==trips['destination']]\n",
    "print(trips.shape)"
   ]
  },
  {
   "cell_type": "code",
   "execution_count": 31,
   "metadata": {},
   "outputs": [
    {
     "name": "stdout",
     "output_type": "stream",
     "text": [
      "(300133, 9)\n"
     ]
    }
   ],
   "source": [
    "# Remove air, coach and ferries\n",
    "trips = trips.loc[trips['MODE']!=23]\n",
    "trips = trips.loc[trips['MODE']!=19]\n",
    "trips = trips.loc[trips['MODE']!=21]\n",
    "trips = trips.loc[trips['MODE']!=22]\n",
    "print(trips.shape)"
   ]
  },
  {
   "cell_type": "code",
   "execution_count": 32,
   "metadata": {},
   "outputs": [],
   "source": [
    "# Match mode with the model modes\n",
    "# Non-motorised modes are merged\n",
    "mode_mid_vp_dict = {1:5, 2:5, 3:5, 4:2, 5:2, 6:2, 7:2, 8:2, 9:2, 10:2, 11:2, 12:4, 13:4, 14:4, 15:4, 16:1, 17:2, 18:2, 19:2, 20:1, 21:3, 22:3, 23:7, 24:5}\n",
    "trips['MODE'] = trips['MODE'].map(mode_mid_vp_dict)"
   ]
  },
  {
   "cell_type": "code",
   "execution_count": 33,
   "metadata": {},
   "outputs": [
    {
     "name": "stdout",
     "output_type": "stream",
     "text": [
      "(297508, 9)\n"
     ]
    }
   ],
   "source": [
    "# Make car availability binary\n",
    "trips['CAR_AV'] = trips['CAR_AV'].replace({9:0})\n",
    "# Remove trips where mode is car but the car availability is zero\n",
    "# because it irritates the MLE algorithm\n",
    "trips = trips.loc[~((trips['MODE']==2) & (trips['CAR_AV']==0))]\n",
    "print(trips.shape)"
   ]
  },
  {
   "cell_type": "code",
   "execution_count": 34,
   "metadata": {},
   "outputs": [],
   "source": [
    "# Match trip purpose with VP2030 categories\n",
    "# Note: Holiday trips are included in private (6)\n",
    "purpose_mid_vp_dict = {1: 1, 2: 4, 3: 2, 4: 3, 5: 3, 6: 6, 7: 6, 99: 6}\n",
    "trips['PURPOSE'] = trips['PURPOSE'].map(purpose_mid_vp_dict)"
   ]
  },
  {
   "cell_type": "code",
   "execution_count": 36,
   "metadata": {},
   "outputs": [],
   "source": [
    "# Replace LAU IDs with NUTS IDs in origin and destination\n",
    "nuts_to_lau = pd.ExcelFile('../input/network/zones/NUTS_to_LAU.xlsx').parse('DE')\n",
    "nuts_to_lau['lau_id'] = nuts_to_lau['LAU CODE'].astype(str).str[:-3]\n",
    "nuts_lau_dict = nuts_to_lau[['NUTS 3 CODE', 'lau_id']].set_index('lau_id').to_dict()['NUTS 3 CODE']\n",
    "trips['origin'] = trips['origin'].astype(str).replace(nuts_lau_dict)\n",
    "trips['destination'] = trips['destination'].astype(str).replace(nuts_lau_dict)"
   ]
  },
  {
   "cell_type": "code",
   "execution_count": 37,
   "metadata": {},
   "outputs": [
    {
     "data": {
      "text/plain": [
       "<AxesSubplot:title={'center':'Trip distance distribution, logarithmic'}, ylabel='Frequency'>"
      ]
     },
     "execution_count": 37,
     "metadata": {},
     "output_type": "execute_result"
    },
    {
     "data": {
      "image/png": "[encoded data removed]",
      "text/plain": [
       "<Figure size 432x288 with 1 Axes>"
      ]
     },
     "metadata": {
      "needs_background": "light"
     },
     "output_type": "display_data"
    }
   ],
   "source": [
    "# Trip distance\n",
    "trips['distance'].plot.hist(bins=100, log=True, title='Trip distance distribution, logarithmic')"
   ]
  },
  {
   "cell_type": "code",
   "execution_count": 38,
   "metadata": {},
   "outputs": [
    {
     "data": {
      "text/plain": [
       "<AxesSubplot:title={'center':'Trip duration distribution, logarithmic'}, ylabel='Frequency'>"
      ]
     },
     "execution_count": 38,
     "metadata": {},
     "output_type": "execute_result"
    },
    {
     "data": {
      "image/png": "[encoded data removed]",
      "text/plain": [
       "<Figure size 432x288 with 1 Axes>"
      ]
     },
     "metadata": {
      "needs_background": "light"
     },
     "output_type": "display_data"
    }
   ],
   "source": [
    "# Trip duration\n",
    "trips['duration'].plot.hist(bins=100, log=True, title='Trip duration distribution, logarithmic')"
   ]
  },
  {
   "cell_type": "code",
   "execution_count": 39,
   "metadata": {},
   "outputs": [
    {
     "data": {
      "text/plain": [
       "<AxesSubplot:title={'center':'share of trips by purpose'}, ylabel='None'>"
      ]
     },
     "execution_count": 39,
     "metadata": {},
     "output_type": "execute_result"
    },
    {
     "data": {
      "image/png": "[encoded data removed]",
      "text/plain": [
       "<Figure size 216x216 with 1 Axes>"
      ]
     },
     "metadata": {},
     "output_type": "display_data"
    }
   ],
   "source": [
    "# Trip purpose\n",
    "trips.groupby('PURPOSE').size().plot.pie(subplots=False,figsize=(3, 3),\n",
    "                                         labels=['work', 'education', 'shopping', 'official', 'private'],\n",
    "                                         title='share of trips by purpose')"
   ]
  },
  {
   "cell_type": "code",
   "execution_count": 40,
   "metadata": {},
   "outputs": [
    {
     "data": {
      "text/plain": [
       "<matplotlib.legend.Legend at 0x7f0857fd37b8>"
      ]
     },
     "execution_count": 40,
     "metadata": {},
     "output_type": "execute_result"
    },
    {
     "data": {
      "image/png": "[encoded data removed]",
      "text/plain": [
       "<Figure size 1152x288 with 5 Axes>"
      ]
     },
     "metadata": {},
     "output_type": "display_data"
    }
   ],
   "source": [
    "# Modal split\n",
    "#import matplotlib.pyplot as plt\n",
    "#from matplotlib.colors import ListedColormap\n",
    "#rli = ListedColormap(['#002E50', '#335873', '#668296', '#99ABB9', '#CCD5DC'])\n",
    "axs = trips.groupby(['MODE','PURPOSE']).size().unstack(fill_value=0).rename(\n",
    "    columns={1:'Commuting', 2:'Education', 3:'Shopping/medical', 4:'Business', 6:'Private'}).plot.pie(\n",
    "    subplots=True, figsize=(16, 4), labels=['Rail', 'MIT', 'Bus/tram', 'Non-motorised'],\n",
    "    startangle=0, counterclock=False,# colormap=rli,# title='Modal split by trip purpose',\n",
    "    legend=False, labeldistance=None)\n",
    "axs[0].legend()"
   ]
  },
  {
   "cell_type": "markdown",
   "metadata": {},
   "source": [
    "#### Insert columns to trips"
   ]
  },
  {
   "cell_type": "code",
   "execution_count": 48,
   "metadata": {},
   "outputs": [],
   "source": [
    "trips = trips.rename(columns={'origin':'NUTS_ID'}).merge(\n",
    "    sm.zones[['STOPS_RAIL', 'STOPS_BUS', 'population', 'area', 'NUTS_ID', 'urbanisation']],\n",
    "    on='NUTS_ID').rename(columns={'population':'POP', 'area':'AREA', 'urbanisation':'URBAN'})"
   ]
  },
  {
   "cell_type": "code",
   "execution_count": 51,
   "metadata": {},
   "outputs": [],
   "source": [
    "trips = trips.drop(columns=['NUTS_ID', 'destination', 'duration', 'distance'])"
   ]
  },
  {
   "cell_type": "markdown",
   "metadata": {},
   "source": [
    "#### Initialise the Biogeme model"
   ]
  },
  {
   "cell_type": "code",
   "execution_count": 52,
   "metadata": {},
   "outputs": [
    {
     "data": {
      "text/plain": [
       "296992"
      ]
     },
     "execution_count": 52,
     "metadata": {},
     "output_type": "execute_result"
    }
   ],
   "source": [
    "database = db.Database('MiD', trips.copy())\n",
    "globals().update(database.variables)\n",
    "database.getSampleSize()"
   ]
  },
  {
   "cell_type": "code",
   "execution_count": 53,
   "metadata": {},
   "outputs": [],
   "source": [
    "# Define Betas\n",
    "asc_rail = Beta('asc_rail', 0, None, None, 0)\n",
    "asc_car = Beta('asc_car', 0, None, None, 1)\n",
    "asc_bus = Beta('asc_bus', 0, None, None, 0)\n",
    "asc_non_motor = Beta('asc_non_motor', 0, None, None, 0)\n",
    "b_pop_rail = Beta('b_pop_rail', 0, None, None, 0)\n",
    "b_area_rail = Beta('b_area_rail', 0, None, None, 0)\n",
    "b_urban_rail = Beta('b_urban_rail', 0, None, None, 0)\n",
    "b_stops_rail = Beta('b_stops_rail', 0, None, None, 0)\n",
    "b_pop_car = Beta('b_pop_car', 0, None, None, 0)\n",
    "b_area_car = Beta('b_area_car', 0, None, None, 0)\n",
    "b_urban_car = Beta('b_urban_car', 0, None, None, 0)\n",
    "b_pop_bus = Beta('b_pop_bus', 0, None, None, 0)\n",
    "b_area_bus = Beta('b_area_bus', 0, None, None, 0)\n",
    "b_urban_bus = Beta('b_urban_bus', 0, None, None, 0)\n",
    "b_stops_bus = Beta('b_stops_bus', 0, None, None, 0)\n",
    "b_pop_non_motor = Beta('b_pop_non_motor', 0, None, None, 0)\n",
    "b_area_non_motor = Beta('b_area_non_motor', 0, None, None, 0)\n",
    "b_urban_non_motor = Beta('b_urban_non_motor', 0, None, None, 0)"
   ]
  },
  {
   "cell_type": "code",
   "execution_count": 67,
   "metadata": {},
   "outputs": [],
   "source": [
    "b_pop = Beta('b_pop', 0, None, None, 0)\n",
    "b_area = Beta('b_area', 0, None, None, 0)\n",
    "b_urban = Beta('b_urban', 0, None, None, 0)"
   ]
  },
  {
   "cell_type": "code",
   "execution_count": 54,
   "metadata": {},
   "outputs": [],
   "source": [
    "# Parameters for the nested logit structure\n",
    "mu_pt = Beta('mu_pt', 1, 1, 10, 0)"
   ]
  },
  {
   "cell_type": "code",
   "execution_count": 58,
   "metadata": {},
   "outputs": [],
   "source": [
    "# Utility functions\n",
    "V_RAIL = asc_rail + b_pop_rail * POP + b_area_rail * AREA + b_urban_rail * URBAN + b_stops_rail * STOPS_RAIL\n",
    "V_CAR = asc_car + b_pop_car * POP + b_area_car * AREA + b_urban_car * URBAN\n",
    "V_BUS = asc_bus + b_pop_bus * POP + b_area_bus * AREA + b_urban_bus * URBAN + b_stops_bus * STOPS_BUS\n",
    "V_NON_MOTOR = asc_non_motor + b_pop_non_motor * POP + b_area_non_motor * AREA + b_urban_non_motor * URBAN"
   ]
  },
  {
   "cell_type": "code",
   "execution_count": 68,
   "metadata": {},
   "outputs": [],
   "source": [
    "# Utility functions\n",
    "V_RAIL = asc_rail + b_pop * POP + b_area * AREA + b_urban * URBAN + b_stops_rail * STOPS_RAIL\n",
    "V_CAR = asc_car + b_pop * POP + b_area * AREA + b_urban * URBAN\n",
    "V_BUS = asc_bus + b_pop * POP + b_area * AREA + b_urban * URBAN + b_stops_bus * STOPS_BUS\n",
    "V_NON_MOTOR = asc_non_motor + b_pop * POP + b_area * AREA + b_urban * URBAN"
   ]
  },
  {
   "cell_type": "code",
   "execution_count": 56,
   "metadata": {},
   "outputs": [],
   "source": [
    "# Define level of verbosity\n",
    "logger = message.bioMessage()\n",
    "#logger.setSilent()\n",
    "logger.setWarning()\n",
    "#logger.setGeneral()\n",
    "#logger.setDetailed()"
   ]
  },
  {
   "cell_type": "code",
   "execution_count": 69,
   "metadata": {},
   "outputs": [],
   "source": [
    "# Map modes to utility functions\n",
    "V = {1:V_RAIL,\n",
    "     2:V_CAR,\n",
    "     4:V_BUS,\n",
    "     5:V_NON_MOTOR}"
   ]
  },
  {
   "cell_type": "code",
   "execution_count": 60,
   "metadata": {},
   "outputs": [],
   "source": [
    "# Map the availability of alternatives with MODE as key\n",
    "# Except for the car, it is always one\n",
    "av = {1:1,\n",
    "      2:(CAR_AV==1),\n",
    "      4:1,\n",
    "      5:1}"
   ]
  },
  {
   "cell_type": "code",
   "execution_count": 61,
   "metadata": {},
   "outputs": [],
   "source": [
    "# Mode nests as tuples with nest name and dictionary where\n",
    "# alternative IDs are mapped to alpha values. Missing ID's alpha is zero\n",
    "nests = ((mu_pt, [1, 4]), # PT\n",
    "         (1, [2]), # Car\n",
    "         (1, [5])) # Non-motorised"
   ]
  },
  {
   "cell_type": "code",
   "execution_count": 70,
   "metadata": {},
   "outputs": [],
   "source": [
    "# Choose the logarithmic nested logit model\n",
    "nl = models.lognested(V, av, nests, MODE)"
   ]
  },
  {
   "cell_type": "code",
   "execution_count": 71,
   "metadata": {},
   "outputs": [],
   "source": [
    "# Write results to a file\n",
    "writer = pd.ExcelWriter(input_path + 'estimation/estimation_results_inner_cell.xlsx', engine='xlsxwriter')"
   ]
  },
  {
   "cell_type": "code",
   "execution_count": 72,
   "metadata": {},
   "outputs": [
    {
     "name": "stdout",
     "output_type": "stream",
     "text": [
      "Sample size for purpose 1: 42414\n"
     ]
    },
    {
     "ename": "biogemeError",
     "evalue": "[-2.93451366e+00 -3.27530464e+00 -4.46636234e+00 -1.14221702e-06\n  3.52581777e-04  4.38561872e-04  1.68587320e-02 -5.22827464e-09\n  1.00000000e+00] is not feasible for the bounds [(-2.934513664784777, -2.934513664784776), (-3.275304642076927, -3.275304642076926), (-4.466362344738283, -4.466362344738283), (-1.1422170167982762e-06, -1.1422170161642509e-06), (0.00035258177677297323, 0.0003525817767736073), (0.00043856187182814057, 0.0004385618718287746), (0.016858732002223962, 0.016858732002224593), (-5.228272444991406e-09, -5.228271810966256e-09), (1.0, 1.0000000000000002)]",
     "output_type": "error",
     "traceback": [
      "\u001b[0;31m---------------------------------------------------------------------------\u001b[0m",
      "\u001b[0;31mbiogemeError\u001b[0m                              Traceback (most recent call last)",
      "\u001b[0;32m<ipython-input-72-6d250f0b7b85>\u001b[0m in \u001b[0;36m<module>\u001b[0;34m\u001b[0m\n\u001b[1;32m      7\u001b[0m     \u001b[0mmodel\u001b[0m \u001b[0;34m=\u001b[0m \u001b[0mbio\u001b[0m\u001b[0;34m.\u001b[0m\u001b[0mBIOGEME\u001b[0m\u001b[0;34m(\u001b[0m\u001b[0mdatabase\u001b[0m\u001b[0;34m,\u001b[0m \u001b[0mnl\u001b[0m\u001b[0;34m)\u001b[0m \u001b[0;31m# Choose the model formulation\u001b[0m\u001b[0;34m\u001b[0m\u001b[0;34m\u001b[0m\u001b[0m\n\u001b[1;32m      8\u001b[0m     \u001b[0mmodel\u001b[0m\u001b[0;34m.\u001b[0m\u001b[0mmodelName\u001b[0m \u001b[0;34m=\u001b[0m \u001b[0;34m'NL_p'\u001b[0m \u001b[0;34m+\u001b[0m \u001b[0mstr\u001b[0m\u001b[0;34m(\u001b[0m\u001b[0mp\u001b[0m\u001b[0;34m)\u001b[0m \u001b[0;31m# Name it\u001b[0m\u001b[0;34m\u001b[0m\u001b[0;34m\u001b[0m\u001b[0m\n\u001b[0;32m----> 9\u001b[0;31m     \u001b[0mresults\u001b[0m\u001b[0;34m.\u001b[0m\u001b[0mappend\u001b[0m\u001b[0;34m(\u001b[0m\u001b[0mmodel\u001b[0m\u001b[0;34m.\u001b[0m\u001b[0mestimate\u001b[0m\u001b[0;34m(\u001b[0m\u001b[0;34m)\u001b[0m\u001b[0;34m)\u001b[0m\u001b[0;34m\u001b[0m\u001b[0;34m\u001b[0m\u001b[0m\n\u001b[0m\u001b[1;32m     10\u001b[0m     \u001b[0moutput\u001b[0m \u001b[0;34m=\u001b[0m \u001b[0mresults\u001b[0m\u001b[0;34m[\u001b[0m\u001b[0;34m-\u001b[0m\u001b[0;36m1\u001b[0m\u001b[0;34m]\u001b[0m\u001b[0;34m.\u001b[0m\u001b[0mgetEstimatedParameters\u001b[0m\u001b[0;34m(\u001b[0m\u001b[0;34m)\u001b[0m\u001b[0;34m\u001b[0m\u001b[0;34m\u001b[0m\u001b[0m\n\u001b[1;32m     11\u001b[0m     \u001b[0;32mfor\u001b[0m \u001b[0mkey\u001b[0m\u001b[0;34m,\u001b[0m \u001b[0mval\u001b[0m \u001b[0;32min\u001b[0m \u001b[0mresults\u001b[0m\u001b[0;34m[\u001b[0m\u001b[0;34m-\u001b[0m\u001b[0;36m1\u001b[0m\u001b[0;34m]\u001b[0m\u001b[0;34m.\u001b[0m\u001b[0mgetGeneralStatistics\u001b[0m\u001b[0;34m(\u001b[0m\u001b[0;34m)\u001b[0m\u001b[0;34m.\u001b[0m\u001b[0mitems\u001b[0m\u001b[0;34m(\u001b[0m\u001b[0;34m)\u001b[0m\u001b[0;34m:\u001b[0m\u001b[0;34m\u001b[0m\u001b[0;34m\u001b[0m\u001b[0m\n",
      "\u001b[0;32m~/quetzal/lib/python3.6/site-packages/biogeme/biogeme.py\u001b[0m in \u001b[0;36mestimate\u001b[0;34m(self, bootstrap, algorithm, algoParameters, cfsqp_default_bounds, saveIterations, file_iterations)\u001b[0m\n\u001b[1;32m    709\u001b[0m         \u001b[0;31m#        yep.stop()\u001b[0m\u001b[0;34m\u001b[0m\u001b[0;34m\u001b[0m\u001b[0;34m\u001b[0m\u001b[0m\n\u001b[1;32m    710\u001b[0m \u001b[0;34m\u001b[0m\u001b[0m\n\u001b[0;32m--> 711\u001b[0;31m         \u001b[0moutput\u001b[0m \u001b[0;34m=\u001b[0m \u001b[0mself\u001b[0m\u001b[0;34m.\u001b[0m\u001b[0moptimize\u001b[0m\u001b[0;34m(\u001b[0m\u001b[0mself\u001b[0m\u001b[0;34m.\u001b[0m\u001b[0mbetaInitValues\u001b[0m\u001b[0;34m)\u001b[0m\u001b[0;34m\u001b[0m\u001b[0;34m\u001b[0m\u001b[0m\n\u001b[0m\u001b[1;32m    712\u001b[0m         \u001b[0mxstar\u001b[0m\u001b[0;34m,\u001b[0m \u001b[0moptimizationMessages\u001b[0m \u001b[0;34m=\u001b[0m \u001b[0moutput\u001b[0m\u001b[0;34m\u001b[0m\u001b[0;34m\u001b[0m\u001b[0m\n\u001b[1;32m    713\u001b[0m         \u001b[0;31m## Running time of the optimization algorithm\u001b[0m\u001b[0;34m\u001b[0m\u001b[0;34m\u001b[0m\u001b[0;34m\u001b[0m\u001b[0m\n",
      "\u001b[0;32m~/quetzal/lib/python3.6/site-packages/biogeme/biogeme.py\u001b[0m in \u001b[0;36moptimize\u001b[0;34m(self, startingValues)\u001b[0m\n\u001b[1;32m    920\u001b[0m                                  \u001b[0mstartingValues\u001b[0m\u001b[0;34m,\u001b[0m\u001b[0;34m\u001b[0m\u001b[0;34m\u001b[0m\u001b[0m\n\u001b[1;32m    921\u001b[0m                                  \u001b[0mself\u001b[0m\u001b[0;34m.\u001b[0m\u001b[0mbounds\u001b[0m\u001b[0;34m,\u001b[0m\u001b[0;34m\u001b[0m\u001b[0;34m\u001b[0m\u001b[0m\n\u001b[0;32m--> 922\u001b[0;31m                                  self.algoParameters)\n\u001b[0m\u001b[1;32m    923\u001b[0m         \u001b[0;32mreturn\u001b[0m \u001b[0mresults\u001b[0m\u001b[0;34m\u001b[0m\u001b[0;34m\u001b[0m\u001b[0m\n\u001b[1;32m    924\u001b[0m \u001b[0;34m\u001b[0m\u001b[0m\n",
      "\u001b[0;32m~/quetzal/lib/python3.6/site-packages/biogeme/optimization.py\u001b[0m in \u001b[0;36msimpleBoundsNewtonAlgorithmForBiogeme\u001b[0;34m(fct, initBetas, bounds, parameters)\u001b[0m\n\u001b[1;32m   2340\u001b[0m          \u001b[0meta2\u001b[0m\u001b[0;34m=\u001b[0m\u001b[0meta2\u001b[0m\u001b[0;34m,\u001b[0m\u001b[0;34m\u001b[0m\u001b[0;34m\u001b[0m\u001b[0m\n\u001b[1;32m   2341\u001b[0m          \u001b[0menlargingFactor\u001b[0m\u001b[0;34m=\u001b[0m\u001b[0menlargingFactor\u001b[0m\u001b[0;34m,\u001b[0m\u001b[0;34m\u001b[0m\u001b[0;34m\u001b[0m\u001b[0m\n\u001b[0;32m-> 2342\u001b[0;31m          hamabs=hamabs)\n\u001b[0m\u001b[1;32m   2343\u001b[0m \u001b[0;34m\u001b[0m\u001b[0m\n\u001b[1;32m   2344\u001b[0m def bioNewton(fct,\n",
      "\u001b[0;32m~/quetzal/lib/python3.6/site-packages/biogeme/optimization.py\u001b[0m in \u001b[0;36msimpleBoundsNewtonAlgorithm\u001b[0;34m(fct, bounds, x0, proportionTrueHessian, infeasibleConjugateGradient, delta0, tol, cgtol, maxiter, eta1, eta2, enlargingFactor, hamabs)\u001b[0m\n\u001b[1;32m   2122\u001b[0m                                                    \u001b[0mbounds\u001b[0m\u001b[0;34m,\u001b[0m\u001b[0;34m\u001b[0m\u001b[0;34m\u001b[0m\u001b[0m\n\u001b[1;32m   2123\u001b[0m                                                    \u001b[0minfeasibleConjugateGradient\u001b[0m\u001b[0;34m,\u001b[0m\u001b[0;34m\u001b[0m\u001b[0;34m\u001b[0m\u001b[0m\n\u001b[0;32m-> 2124\u001b[0;31m                                                    cgtol)\n\u001b[0m\u001b[1;32m   2125\u001b[0m \u001b[0;34m\u001b[0m\u001b[0m\n\u001b[1;32m   2126\u001b[0m \u001b[0;34m\u001b[0m\u001b[0m\n",
      "\u001b[0;32m~/quetzal/lib/python3.6/site-packages/biogeme/optimization.py\u001b[0m in \u001b[0;36mtruncatedConjugateGradientSubspace\u001b[0;34m(xk, gk, Hk, delta, bounds, infeasibleIterate, tol)\u001b[0m\n\u001b[1;32m   1866\u001b[0m     \u001b[0metak\u001b[0m \u001b[0;34m=\u001b[0m \u001b[0mtol\u001b[0m\u001b[0;34m\u001b[0m\u001b[0;34m\u001b[0m\u001b[0m\n\u001b[1;32m   1867\u001b[0m \u001b[0;34m\u001b[0m\u001b[0m\n\u001b[0;32m-> 1868\u001b[0;31m     \u001b[0mactivityStatus\u001b[0m \u001b[0;34m=\u001b[0m \u001b[0mintersection\u001b[0m\u001b[0;34m.\u001b[0m\u001b[0mactivity\u001b[0m\u001b[0;34m(\u001b[0m\u001b[0mgcp\u001b[0m\u001b[0;34m)\u001b[0m\u001b[0;34m\u001b[0m\u001b[0;34m\u001b[0m\u001b[0m\n\u001b[0m\u001b[1;32m   1869\u001b[0m     \u001b[0mfreeVariables\u001b[0m \u001b[0;34m=\u001b[0m \u001b[0mactivityStatus\u001b[0m \u001b[0;34m==\u001b[0m \u001b[0;36m0\u001b[0m\u001b[0;34m\u001b[0m\u001b[0;34m\u001b[0m\u001b[0m\n\u001b[1;32m   1870\u001b[0m \u001b[0;34m\u001b[0m\u001b[0m\n",
      "\u001b[0;32m~/quetzal/lib/python3.6/site-packages/biogeme/optimization.py\u001b[0m in \u001b[0;36mactivity\u001b[0;34m(self, x, epsilon)\u001b[0m\n\u001b[1;32m    342\u001b[0m             \u001b[0;32mraise\u001b[0m \u001b[0mexcep\u001b[0m\u001b[0;34m.\u001b[0m\u001b[0mbiogemeError\u001b[0m\u001b[0;34m(\u001b[0m\u001b[0;34mf'Incompatible size: {len(x)} and {self.n}'\u001b[0m\u001b[0;34m)\u001b[0m\u001b[0;34m\u001b[0m\u001b[0;34m\u001b[0m\u001b[0m\n\u001b[1;32m    343\u001b[0m         \u001b[0;32mif\u001b[0m \u001b[0;32mnot\u001b[0m \u001b[0mself\u001b[0m\u001b[0;34m.\u001b[0m\u001b[0mfeasible\u001b[0m\u001b[0;34m(\u001b[0m\u001b[0mx\u001b[0m\u001b[0;34m)\u001b[0m\u001b[0;34m:\u001b[0m\u001b[0;34m\u001b[0m\u001b[0;34m\u001b[0m\u001b[0m\n\u001b[0;32m--> 344\u001b[0;31m             \u001b[0;32mraise\u001b[0m \u001b[0mexcep\u001b[0m\u001b[0;34m.\u001b[0m\u001b[0mbiogemeError\u001b[0m\u001b[0;34m(\u001b[0m\u001b[0;34mf'{x} is not feasible for the bounds {self.bounds}'\u001b[0m\u001b[0;34m)\u001b[0m\u001b[0;34m\u001b[0m\u001b[0;34m\u001b[0m\u001b[0m\n\u001b[0m\u001b[1;32m    345\u001b[0m \u001b[0;34m\u001b[0m\u001b[0m\n\u001b[1;32m    346\u001b[0m         \u001b[0mactivity\u001b[0m \u001b[0;34m=\u001b[0m \u001b[0mnp\u001b[0m\u001b[0;34m.\u001b[0m\u001b[0mzeros_like\u001b[0m\u001b[0;34m(\u001b[0m\u001b[0mx\u001b[0m\u001b[0;34m,\u001b[0m \u001b[0mdtype\u001b[0m\u001b[0;34m=\u001b[0m\u001b[0mint\u001b[0m\u001b[0;34m)\u001b[0m\u001b[0;34m\u001b[0m\u001b[0;34m\u001b[0m\u001b[0m\n",
      "\u001b[0;31mbiogemeError\u001b[0m: [-2.93451366e+00 -3.27530464e+00 -4.46636234e+00 -1.14221702e-06\n  3.52581777e-04  4.38561872e-04  1.68587320e-02 -5.22827464e-09\n  1.00000000e+00] is not feasible for the bounds [(-2.934513664784777, -2.934513664784776), (-3.275304642076927, -3.275304642076926), (-4.466362344738283, -4.466362344738283), (-1.1422170167982762e-06, -1.1422170161642509e-06), (0.00035258177677297323, 0.0003525817767736073), (0.00043856187182814057, 0.0004385618718287746), (0.016858732002223962, 0.016858732002224593), (-5.228272444991406e-09, -5.228271810966256e-09), (1.0, 1.0000000000000002)]"
     ]
    }
   ],
   "source": [
    "# Run all purposes\n",
    "results = []\n",
    "for p in [1, 2,3,4,6]:\n",
    "    database = db.Database('MiD', trips.copy())\n",
    "    database.remove(PURPOSE!=p)\n",
    "    print('Sample size for purpose {}: {}'.format(p, database.getSampleSize()))\n",
    "    model = bio.BIOGEME(database, nl) # Choose the model formulation\n",
    "    model.modelName = 'NL_p' + str(p) # Name it\n",
    "    results.append(model.estimate())\n",
    "    output = results[-1].getEstimatedParameters()\n",
    "    for key, val in results[-1].getGeneralStatistics().items():\n",
    "        row = [val[0], val[1],'','','','','']\n",
    "        if len(output.columns)>len(row): row.append('')\n",
    "        output.loc[key] = row\n",
    "    output.to_excel(writer, sheet_name=model.modelName)"
   ]
  },
  {
   "cell_type": "code",
   "execution_count": null,
   "metadata": {},
   "outputs": [],
   "source": [
    "writer.save()"
   ]
  },
  {
   "cell_type": "markdown",
   "metadata": {},
   "source": [
    "### Run the NL for inner-cell traffic"
   ]
  },
  {
   "cell_type": "code",
   "execution_count": null,
   "metadata": {},
   "outputs": [],
   "source": []
  }
 ],
 "metadata": {
  "kernelspec": {
   "display_name": "Python 3",
   "language": "python",
   "name": "python3"
  },
  "language_info": {
   "codemirror_mode": {
    "name": "ipython",
    "version": 3
   },
   "file_extension": ".py",
   "mimetype": "text/x-python",
   "name": "python",
   "nbconvert_exporter": "python",
   "pygments_lexer": "ipython3",
   "version": "3.8.1"
  }
 },
 "nbformat": 4,
 "nbformat_minor": 4
}
