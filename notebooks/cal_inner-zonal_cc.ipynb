{
 "cells": [
  {
   "cell_type": "code",
   "execution_count": 1,
   "metadata": {},
   "outputs": [
    {
     "name": "stderr",
     "output_type": "stream",
     "text": [
      "\n",
      "Bad key text.latex.preview in file C:\\Users\\marlin.arnz\\AppData\\Local\\Continuum\\miniconda3\\envs\\quetzal\\lib\\site-packages\\matplotlib\\mpl-data\\stylelib\\_classic_test.mplstyle, line 123 ('text.latex.preview : False')\n",
      "You probably need to get an updated matplotlibrc file from\n",
      "https://github.com/matplotlib/matplotlib/blob/v3.5.2/matplotlibrc.template\n",
      "or from the matplotlib source distribution\n",
      "\n",
      "Bad key mathtext.fallback_to_cm in file C:\\Users\\marlin.arnz\\AppData\\Local\\Continuum\\miniconda3\\envs\\quetzal\\lib\\site-packages\\matplotlib\\mpl-data\\stylelib\\_classic_test.mplstyle, line 155 ('mathtext.fallback_to_cm : True  # When True, use symbols from the Computer Modern')\n",
      "You probably need to get an updated matplotlibrc file from\n",
      "https://github.com/matplotlib/matplotlib/blob/v3.5.2/matplotlibrc.template\n",
      "or from the matplotlib source distribution\n",
      "\n",
      "Bad key savefig.jpeg_quality in file C:\\Users\\marlin.arnz\\AppData\\Local\\Continuum\\miniconda3\\envs\\quetzal\\lib\\site-packages\\matplotlib\\mpl-data\\stylelib\\_classic_test.mplstyle, line 418 ('savefig.jpeg_quality: 95       # when a jpeg is saved, the default quality parameter.')\n",
      "You probably need to get an updated matplotlibrc file from\n",
      "https://github.com/matplotlib/matplotlib/blob/v3.5.2/matplotlibrc.template\n",
      "or from the matplotlib source distribution\n",
      "\n",
      "Bad key keymap.all_axes in file C:\\Users\\marlin.arnz\\AppData\\Local\\Continuum\\miniconda3\\envs\\quetzal\\lib\\site-packages\\matplotlib\\mpl-data\\stylelib\\_classic_test.mplstyle, line 466 ('keymap.all_axes : a                 # enable all axes')\n",
      "You probably need to get an updated matplotlibrc file from\n",
      "https://github.com/matplotlib/matplotlib/blob/v3.5.2/matplotlibrc.template\n",
      "or from the matplotlib source distribution\n",
      "\n",
      "Bad key animation.avconv_path in file C:\\Users\\marlin.arnz\\AppData\\Local\\Continuum\\miniconda3\\envs\\quetzal\\lib\\site-packages\\matplotlib\\mpl-data\\stylelib\\_classic_test.mplstyle, line 477 ('animation.avconv_path: avconv     # Path to avconv binary. Without full path')\n",
      "You probably need to get an updated matplotlibrc file from\n",
      "https://github.com/matplotlib/matplotlib/blob/v3.5.2/matplotlibrc.template\n",
      "or from the matplotlib source distribution\n",
      "\n",
      "Bad key animation.avconv_args in file C:\\Users\\marlin.arnz\\AppData\\Local\\Continuum\\miniconda3\\envs\\quetzal\\lib\\site-packages\\matplotlib\\mpl-data\\stylelib\\_classic_test.mplstyle, line 479 ('animation.avconv_args:            # Additional arguments to pass to avconv')\n",
      "You probably need to get an updated matplotlibrc file from\n",
      "https://github.com/matplotlib/matplotlib/blob/v3.5.2/matplotlibrc.template\n",
      "or from the matplotlib source distribution\n"
     ]
    }
   ],
   "source": [
    "import sys # for automation and parallelisation\n",
    "manual, scenario = (True, 'base') if 'ipykernel' in sys.argv[0] else (False, sys.argv[1])\n",
    "if manual:\n",
    "    %matplotlib inline"
   ]
  },
  {
   "cell_type": "code",
   "execution_count": 2,
   "metadata": {},
   "outputs": [],
   "source": [
    "import pandas as pd\n",
    "import numpy as np\n",
    "from tqdm import tqdm\n",
    "import matplotlib.pyplot as plt\n",
    "from quetzal.model import stepmodel\n",
    "from quetzal.io import excel"
   ]
  },
  {
   "cell_type": "markdown",
   "metadata": {},
   "source": [
    "# Calibration\n",
    "## Preparation of input data\n",
    "## Saves mean composite cost for inner-zonal trips"
   ]
  },
  {
   "cell_type": "code",
   "execution_count": 3,
   "metadata": {},
   "outputs": [],
   "source": [
    "input_path = '../input/'\n",
    "model_path = '../model/'\n",
    "output_path = '../output/'"
   ]
  },
  {
   "cell_type": "code",
   "execution_count": 4,
   "metadata": {},
   "outputs": [],
   "source": [
    "# Load scenario parameters\n",
    "params = excel.read_var(file='../input/parameters.xls', scenario=scenario)"
   ]
  },
  {
   "cell_type": "code",
   "execution_count": 5,
   "metadata": {},
   "outputs": [
    {
     "data": {
      "text/plain": [
       "319867"
      ]
     },
     "execution_count": 5,
     "metadata": {},
     "output_type": "execute_result"
    }
   ],
   "source": [
    "# Load calibration dataset\n",
    "trips = pd.read_csv(input_path + 'transport_demand/calibration_all_trips_MiD2017.csv')\n",
    "trips = trips.drop(columns='Unnamed: 0').reset_index(drop=True)\n",
    "len(trips.index)"
   ]
  },
  {
   "cell_type": "code",
   "execution_count": 6,
   "metadata": {},
   "outputs": [],
   "source": [
    "# Filter for inner-zonal only\n",
    "trips = trips.loc[trips['origin']==trips['destination']]"
   ]
  },
  {
   "cell_type": "markdown",
   "metadata": {},
   "source": [
    "### Composite generalised cost\n",
    "\n",
    "Calculated for each zone as the logsum of composite cost to every destination zone. Composite cost is the logsum of all available modes. Using the formula from Walker (1977) - see formula 6.10 in Ortúzar and Willumsen (2011) p. 213 - we can assume that the perception of alternatives is depicted properly.\n",
    "\n",
    "The database should have columns with prices and travel times for each mode of the trip which can be used to calculate utilities of mode choice, given the estimated beta parameters from the mode choice step."
   ]
  },
  {
   "cell_type": "code",
   "execution_count": 8,
   "metadata": {},
   "outputs": [],
   "source": [
    "# Load mode choice parameters\n",
    "beta_time = {} # time in minutes\n",
    "beta_price = {}\n",
    "excel = pd.ExcelFile(input_path + 'estimation_results.xls')\n",
    "p_dict_model = {1:'commuting', 2:'business', 3:'education', 4:'buy/execute', 6:'leisure', 7:'accompany'}\n",
    "for p, p_str in p_dict_model.items():\n",
    "    beta_time[p] = {}\n",
    "    beta_price[p] = {}\n",
    "    for car, car_str in {1:'_car', 0:'_no_car'}.items():\n",
    "        params_est = excel.parse(p_str.replace('/', '-')+car_str, index_col=0)\n",
    "        beta_time[p][car] = params_est.loc['b_t', 'Value']\n",
    "        try:\n",
    "            beta_price[p][car] = params_est.loc['b_c', 'Value']\n",
    "        except KeyError:\n",
    "            beta_price[p][car] = 0"
   ]
  },
  {
   "cell_type": "code",
   "execution_count": 9,
   "metadata": {},
   "outputs": [],
   "source": [
    "# Function to get utility of travel time\n",
    "def time_ut(time, p, car):\n",
    "    # Given time in minutes and the segment (purpose, car)\n",
    "    # The fist part of the spline of the mode choice model is a log-power\n",
    "    return np.power(np.log(time), 3) * beta_time[p][car]"
   ]
  },
  {
   "cell_type": "code",
   "execution_count": 10,
   "metadata": {},
   "outputs": [],
   "source": [
    "# Function to get utility of price\n",
    "def price_ut(price, p, car):\n",
    "    # Given the price and the segment (purpose, car)\n",
    "    return price * beta_price[p][car]"
   ]
  },
  {
   "cell_type": "code",
   "execution_count": 25,
   "metadata": {},
   "outputs": [],
   "source": [
    "#function to calculate composite cost for one destination for all inner-zonal observations\n",
    "p_dict_model_rev = dict(zip(p_dict_model.values(), p_dict_model.keys()))\n",
    "def get_inner_cc(d, p, car):\n",
    "    mask = (trips['origin']==d) & (trips['purpose_model']==p) & (trips['car_avail'].replace({9:0})==car)\n",
    "    if len(trips.loc[mask]) > 0:\n",
    "        car_av_s = trips.loc[mask, 'car_avail'].replace({9:0})\n",
    "        p_s = trips.loc[mask, 'purpose_model'].map(p_dict_model_rev)\n",
    "        t_rail_s = pd.Series([time_ut(t, p, car) if t!=np.inf else np.nan\n",
    "                              for t,p,car in zip(trips.loc[mask, 'time_rail'], p_s, car_av_s)])\n",
    "        t_bus_s = pd.Series([time_ut(t, p, car) if t!=np.inf else np.nan\n",
    "                             for t,p,car in zip(trips.loc[mask, 'time_bus'], p_s, car_av_s)])\n",
    "        t_car_s = pd.Series([time_ut(t, p, car) if car==1 else np.nan\n",
    "                             for t,p,car in zip(trips.loc[mask, 'time_car'], p_s, car_av_s)])\n",
    "        t_non_s = pd.Series([time_ut(t, p, car) if t!=np.inf else np.nan\n",
    "                             for t,p,car in zip(trips.loc[mask, 'time_walk'], p_s, car_av_s)])\n",
    "        p_rail_s = pd.Series([price_ut(t, p, car) if t!=np.inf else np.nan\n",
    "                              for t,p,car in zip(trips.loc[mask, 'cost_rail'], p_s, car_av_s)])\n",
    "        p_bus_s = pd.Series([price_ut(t, p, car) if t!=np.inf else np.nan\n",
    "                             for t,p,car in zip(trips.loc[mask, 'cost_bus'], p_s, car_av_s)])\n",
    "        p_car_s = pd.Series([price_ut(t, p, car) if car==1 else np.nan\n",
    "                             for t,p,car in zip(trips.loc[mask, 'cost_bus'], p_s, car_av_s)])\n",
    "        cc_d = sum([np.log(np.maximum(4, np.sum(pd.Series([np.exp(-1*(t_rail+p_rail)),\n",
    "                                         np.exp(-1*(t_bus+p_bus)),\n",
    "                                         np.exp(-1*(t_car+p_car)),\n",
    "                                         np.exp(-1*t_non)\n",
    "                                        ]))))\n",
    "                    for t_rail, t_bus, t_car, t_non, p_rail, p_bus, p_car in zip(\n",
    "                        t_rail_s, t_bus_s, t_car_s, t_non_s, p_rail_s, p_bus_s, p_car_s)\n",
    "                   ]) / len(trips.loc[mask])\n",
    "        return cc_d\n",
    "    else:\n",
    "        return np.nan"
   ]
  },
  {
   "cell_type": "code",
   "execution_count": 26,
   "metadata": {},
   "outputs": [
    {
     "name": "stderr",
     "output_type": "stream",
     "text": [
      "100%|███████████████████████████████████████████████████████████████████████████████████| 6/6 [13:05<00:00, 130.92s/it]\n"
     ]
    }
   ],
   "source": [
    "# Calculate CC\n",
    "origins = list(trips['origin'].unique())\n",
    "cc = pd.DataFrame(index=origins)\n",
    "for p in tqdm(list(trips['purpose_model'].unique())):\n",
    "    for car, car_str in {1:'_car', 0:'_no_car'}.items():\n",
    "        cc[p+car_str] = pd.Series(index=origins,\n",
    "                                  data=[get_inner_cc(o, p, car) for o in origins],\n",
    "                                  dtype=np.float64)\n",
    "        cc[p+car_str] = cc[p+car_str].fillna(cc[p+car_str].mean())"
   ]
  },
  {
   "cell_type": "code",
   "execution_count": 34,
   "metadata": {
    "scrolled": true
   },
   "outputs": [
    {
     "data": {
      "text/html": [
       "<div>\n",
       "<style scoped>\n",
       "    .dataframe tbody tr th:only-of-type {\n",
       "        vertical-align: middle;\n",
       "    }\n",
       "\n",
       "    .dataframe tbody tr th {\n",
       "        vertical-align: top;\n",
       "    }\n",
       "\n",
       "    .dataframe thead th {\n",
       "        text-align: right;\n",
       "    }\n",
       "</style>\n",
       "<table border=\"1\" class=\"dataframe\">\n",
       "  <thead>\n",
       "    <tr style=\"text-align: right;\">\n",
       "      <th></th>\n",
       "      <th>buy/execute_car</th>\n",
       "      <th>buy/execute_no_car</th>\n",
       "      <th>commuting_car</th>\n",
       "      <th>commuting_no_car</th>\n",
       "      <th>education_car</th>\n",
       "      <th>education_no_car</th>\n",
       "      <th>leisure_car</th>\n",
       "      <th>leisure_no_car</th>\n",
       "      <th>accompany_car</th>\n",
       "      <th>accompany_no_car</th>\n",
       "      <th>business_car</th>\n",
       "      <th>business_no_car</th>\n",
       "    </tr>\n",
       "  </thead>\n",
       "  <tbody>\n",
       "    <tr>\n",
       "      <th>count</th>\n",
       "      <td>1802.000000</td>\n",
       "      <td>1802.000000</td>\n",
       "      <td>1802.000000</td>\n",
       "      <td>1802.000000</td>\n",
       "      <td>1802.000000</td>\n",
       "      <td>1802.000000</td>\n",
       "      <td>1802.000000</td>\n",
       "      <td>1802.000000</td>\n",
       "      <td>1802.000000</td>\n",
       "      <td>1802.000000</td>\n",
       "      <td>1802.000000</td>\n",
       "      <td>1802.000000</td>\n",
       "    </tr>\n",
       "    <tr>\n",
       "      <th>mean</th>\n",
       "      <td>5.083086</td>\n",
       "      <td>5.883757</td>\n",
       "      <td>5.337517</td>\n",
       "      <td>1.990056</td>\n",
       "      <td>14.242078</td>\n",
       "      <td>5.730267</td>\n",
       "      <td>3.556122</td>\n",
       "      <td>2.491868</td>\n",
       "      <td>4.168639</td>\n",
       "      <td>1.883649</td>\n",
       "      <td>2.937218</td>\n",
       "      <td>2.390209</td>\n",
       "    </tr>\n",
       "    <tr>\n",
       "      <th>std</th>\n",
       "      <td>0.286349</td>\n",
       "      <td>0.974180</td>\n",
       "      <td>0.366774</td>\n",
       "      <td>0.159469</td>\n",
       "      <td>0.337324</td>\n",
       "      <td>0.358077</td>\n",
       "      <td>0.249183</td>\n",
       "      <td>0.330790</td>\n",
       "      <td>0.151677</td>\n",
       "      <td>0.067431</td>\n",
       "      <td>0.224620</td>\n",
       "      <td>0.141427</td>\n",
       "    </tr>\n",
       "    <tr>\n",
       "      <th>min</th>\n",
       "      <td>4.573348</td>\n",
       "      <td>2.512268</td>\n",
       "      <td>4.365681</td>\n",
       "      <td>1.386294</td>\n",
       "      <td>13.649253</td>\n",
       "      <td>3.144647</td>\n",
       "      <td>3.139393</td>\n",
       "      <td>1.533854</td>\n",
       "      <td>3.474428</td>\n",
       "      <td>1.386294</td>\n",
       "      <td>2.622341</td>\n",
       "      <td>1.569895</td>\n",
       "    </tr>\n",
       "    <tr>\n",
       "      <th>25%</th>\n",
       "      <td>5.003274</td>\n",
       "      <td>5.883757</td>\n",
       "      <td>5.232167</td>\n",
       "      <td>1.990056</td>\n",
       "      <td>14.152795</td>\n",
       "      <td>5.730267</td>\n",
       "      <td>3.442381</td>\n",
       "      <td>2.491868</td>\n",
       "      <td>4.116967</td>\n",
       "      <td>1.883649</td>\n",
       "      <td>2.894076</td>\n",
       "      <td>2.390209</td>\n",
       "    </tr>\n",
       "    <tr>\n",
       "      <th>50%</th>\n",
       "      <td>5.072607</td>\n",
       "      <td>5.883757</td>\n",
       "      <td>5.337517</td>\n",
       "      <td>1.990056</td>\n",
       "      <td>14.242078</td>\n",
       "      <td>5.730267</td>\n",
       "      <td>3.546806</td>\n",
       "      <td>2.491868</td>\n",
       "      <td>4.168639</td>\n",
       "      <td>1.883649</td>\n",
       "      <td>2.937218</td>\n",
       "      <td>2.390209</td>\n",
       "    </tr>\n",
       "    <tr>\n",
       "      <th>75%</th>\n",
       "      <td>5.126138</td>\n",
       "      <td>5.883757</td>\n",
       "      <td>5.351048</td>\n",
       "      <td>1.990056</td>\n",
       "      <td>14.242078</td>\n",
       "      <td>5.730267</td>\n",
       "      <td>3.587292</td>\n",
       "      <td>2.491868</td>\n",
       "      <td>4.195362</td>\n",
       "      <td>1.883649</td>\n",
       "      <td>2.937218</td>\n",
       "      <td>2.390209</td>\n",
       "    </tr>\n",
       "    <tr>\n",
       "      <th>max</th>\n",
       "      <td>15.031021</td>\n",
       "      <td>16.992756</td>\n",
       "      <td>14.374999</td>\n",
       "      <td>7.275105</td>\n",
       "      <td>22.277186</td>\n",
       "      <td>14.209054</td>\n",
       "      <td>8.022295</td>\n",
       "      <td>10.379989</td>\n",
       "      <td>6.833756</td>\n",
       "      <td>3.144314</td>\n",
       "      <td>6.619084</td>\n",
       "      <td>5.326150</td>\n",
       "    </tr>\n",
       "  </tbody>\n",
       "</table>\n",
       "</div>"
      ],
      "text/plain": [
       "       buy/execute_car  buy/execute_no_car  commuting_car  commuting_no_car  \\\n",
       "count      1802.000000         1802.000000    1802.000000       1802.000000   \n",
       "mean          5.083086            5.883757       5.337517          1.990056   \n",
       "std           0.286349            0.974180       0.366774          0.159469   \n",
       "min           4.573348            2.512268       4.365681          1.386294   \n",
       "25%           5.003274            5.883757       5.232167          1.990056   \n",
       "50%           5.072607            5.883757       5.337517          1.990056   \n",
       "75%           5.126138            5.883757       5.351048          1.990056   \n",
       "max          15.031021           16.992756      14.374999          7.275105   \n",
       "\n",
       "       education_car  education_no_car  leisure_car  leisure_no_car  \\\n",
       "count    1802.000000       1802.000000  1802.000000     1802.000000   \n",
       "mean       14.242078          5.730267     3.556122        2.491868   \n",
       "std         0.337324          0.358077     0.249183        0.330790   \n",
       "min        13.649253          3.144647     3.139393        1.533854   \n",
       "25%        14.152795          5.730267     3.442381        2.491868   \n",
       "50%        14.242078          5.730267     3.546806        2.491868   \n",
       "75%        14.242078          5.730267     3.587292        2.491868   \n",
       "max        22.277186         14.209054     8.022295       10.379989   \n",
       "\n",
       "       accompany_car  accompany_no_car  business_car  business_no_car  \n",
       "count    1802.000000       1802.000000   1802.000000      1802.000000  \n",
       "mean        4.168639          1.883649      2.937218         2.390209  \n",
       "std         0.151677          0.067431      0.224620         0.141427  \n",
       "min         3.474428          1.386294      2.622341         1.569895  \n",
       "25%         4.116967          1.883649      2.894076         2.390209  \n",
       "50%         4.168639          1.883649      2.937218         2.390209  \n",
       "75%         4.195362          1.883649      2.937218         2.390209  \n",
       "max         6.833756          3.144314      6.619084         5.326150  "
      ]
     },
     "execution_count": 34,
     "metadata": {},
     "output_type": "execute_result"
    }
   ],
   "source": [
    "cc.describe()"
   ]
  },
  {
   "cell_type": "markdown",
   "metadata": {},
   "source": [
    "## Save inner-zonal CC"
   ]
  },
  {
   "cell_type": "code",
   "execution_count": 28,
   "metadata": {},
   "outputs": [],
   "source": [
    "assert cc.isna().any(axis=1).max()==0"
   ]
  },
  {
   "cell_type": "code",
   "execution_count": 29,
   "metadata": {},
   "outputs": [],
   "source": [
    "cc.to_csv(input_path + 'inner-zonal_cc.csv')"
   ]
  }
 ],
 "metadata": {
  "kernelspec": {
   "display_name": "Python 3 (ipykernel)",
   "language": "python",
   "name": "python3"
  },
  "language_info": {
   "codemirror_mode": {
    "name": "ipython",
    "version": 3
   },
   "file_extension": ".py",
   "mimetype": "text/x-python",
   "name": "python",
   "nbconvert_exporter": "python",
   "pygments_lexer": "ipython3",
   "version": "3.10.14"
  }
 },
 "nbformat": 4,
 "nbformat_minor": 4
}
