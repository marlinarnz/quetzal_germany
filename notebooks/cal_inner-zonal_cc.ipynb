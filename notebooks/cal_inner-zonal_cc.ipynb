{
 "cells": [
  {
   "cell_type": "code",
   "execution_count": 1,
   "metadata": {},
   "outputs": [],
   "source": [
    "import sys # for automation and parallelisation\n",
    "manual, scenario = (True, 'base') if 'ipykernel' in sys.argv[0] else (False, sys.argv[1])"
   ]
  },
  {
   "cell_type": "code",
   "execution_count": 2,
   "metadata": {},
   "outputs": [],
   "source": [
    "import pandas as pd\n",
    "import numpy as np\n",
    "from tqdm import tqdm"
   ]
  },
  {
   "cell_type": "markdown",
   "metadata": {},
   "source": [
    "# Calibration\n",
    "## Preparation of input data\n",
    "## Saves mean composite cost for inner-zonal trips"
   ]
  },
  {
   "cell_type": "code",
   "execution_count": 3,
   "metadata": {},
   "outputs": [],
   "source": [
    "input_path = '../input/'\n",
    "model_path = '../model/'\n",
    "output_path = '../output/'"
   ]
  },
  {
   "cell_type": "code",
   "execution_count": 4,
   "metadata": {},
   "outputs": [
    {
     "data": {
      "text/plain": [
       "254876"
      ]
     },
     "execution_count": 4,
     "metadata": {},
     "output_type": "execute_result"
    }
   ],
   "source": [
    "# Load calibration dataset\n",
    "trips = pd.read_csv(input_path + 'transport_demand/calibration_all_trips_MiD2017.csv')\n",
    "trips = trips.drop(columns='Unnamed: 0').reset_index(drop=True)\n",
    "len(trips.index)"
   ]
  },
  {
   "cell_type": "code",
   "execution_count": 7,
   "metadata": {},
   "outputs": [
    {
     "data": {
      "text/plain": [
       "150187"
      ]
     },
     "execution_count": 7,
     "metadata": {},
     "output_type": "execute_result"
    }
   ],
   "source": [
    "# Filter for inner-zonal only\n",
    "trips = trips.loc[trips['origin']==trips['destination']]\n",
    "len(trips)"
   ]
  },
  {
   "cell_type": "markdown",
   "metadata": {},
   "source": [
    "### Composite generalised cost\n",
    "\n",
    "Calculated for each zone as the logsum of composite cost to every destination zone. Composite cost is the logsum of all available modes. Using the formula from Walker (1977) - see formula 6.10 in Ortúzar and Willumsen (2011) p. 213 - we can assume that the perception of alternatives is depicted properly.\n",
    "\n",
    "The database should have columns with prices and travel times for each mode of the trip which can be used to calculate utilities of mode choice, given the estimated beta parameters from the mode choice step."
   ]
  },
  {
   "cell_type": "code",
   "execution_count": 8,
   "metadata": {},
   "outputs": [],
   "source": [
    "# Load mode choice parameters\n",
    "beta_time = {} # time in minutes\n",
    "beta_price = {}\n",
    "excel = pd.ExcelFile(input_path + 'estimation_results_mode.xlsx')\n",
    "p_dict_model = {1:'commuting', 2:'business', 3:'education', 4:'shopping', 5:'errands', 6:'leisure', 7:'accompany'}\n",
    "for p, p_str in p_dict_model.items():\n",
    "    beta_time[p] = {}\n",
    "    beta_price[p] = {}\n",
    "    for car, car_str in {1:'_car', 0:'_no_car'}.items():\n",
    "        params_est = excel.parse(p_str.replace('/', '-')+car_str, index_col=0)\n",
    "        beta_time[p][car] = params_est.loc['b_t', 'Value']\n",
    "        try:\n",
    "            beta_price[p][car] = params_est.loc['b_c', 'Value']\n",
    "        except KeyError:\n",
    "            beta_price[p][car] = 0"
   ]
  },
  {
   "cell_type": "code",
   "execution_count": 9,
   "metadata": {},
   "outputs": [],
   "source": [
    "# Function to get utility of travel time\n",
    "def time_ut(time, p, car):\n",
    "    # Given time in minutes and the segment (purpose, car)\n",
    "    # The fist part of the spline of the mode choice model is a log-power\n",
    "    return np.power(np.log(time), 3) * beta_time[p][car]"
   ]
  },
  {
   "cell_type": "code",
   "execution_count": 10,
   "metadata": {},
   "outputs": [],
   "source": [
    "# Function to get utility of price\n",
    "def price_ut(price, p, car):\n",
    "    # Given the price and the segment (purpose, car)\n",
    "    return price * beta_price[p][car]"
   ]
  },
  {
   "cell_type": "code",
   "execution_count": 12,
   "metadata": {},
   "outputs": [],
   "source": [
    "#function to calculate composite cost for one destination for all inner-zonal observations\n",
    "p_dict_model_rev = dict(zip(p_dict_model.values(), p_dict_model.keys()))\n",
    "def get_inner_cc(d, p, car):\n",
    "    mask = (trips['origin']==d) & (trips['purpose_model']==p) & (trips['car_avail'].replace({9:0})==car)\n",
    "    if len(trips.loc[mask]) > 0:\n",
    "        car_av_s = trips.loc[mask, 'car_avail'].replace({9:0})\n",
    "        p_s = trips.loc[mask, 'purpose_model'].map(p_dict_model_rev)\n",
    "        t_rail_s = pd.Series([time_ut(t, p, car) if t!=np.inf else np.nan\n",
    "                              for t,p,car in zip(trips.loc[mask, 'time_rail_short'], p_s, car_av_s)])\n",
    "        t_bus_s = pd.Series([time_ut(t, p, car) if t!=np.inf else np.nan\n",
    "                             for t,p,car in zip(trips.loc[mask, 'time_bus'], p_s, car_av_s)])\n",
    "        t_car_s = pd.Series([time_ut(t, p, car) if car==1 else np.nan\n",
    "                             for t,p,car in zip(trips.loc[mask, 'time_car'], p_s, car_av_s)])\n",
    "        t_non_s = pd.Series([time_ut(t, p, car) if t!=np.inf else np.nan\n",
    "                             for t,p,car in zip(trips.loc[mask, 'time_walk'], p_s, car_av_s)])\n",
    "        p_rail_s = pd.Series([price_ut(t, p, car) if t!=np.inf else np.nan\n",
    "                              for t,p,car in zip(trips.loc[mask, 'cost_rail_short'], p_s, car_av_s)])\n",
    "        p_bus_s = pd.Series([price_ut(t, p, car) if t!=np.inf else np.nan\n",
    "                             for t,p,car in zip(trips.loc[mask, 'cost_bus'], p_s, car_av_s)])\n",
    "        p_car_s = pd.Series([price_ut(t, p, car) if car==1 else np.nan\n",
    "                             for t,p,car in zip(trips.loc[mask, 'cost_bus'], p_s, car_av_s)])\n",
    "        cc_d = sum([np.log(np.maximum(4, np.sum(pd.Series([np.exp(-1*(t_rail+p_rail)),\n",
    "                                             np.exp(-1*(t_bus+p_bus)),\n",
    "                                             np.exp(-1*(t_car+p_car)),\n",
    "                                             np.exp(-1*t_non)])\n",
    "                                                )\n",
    "                                     ))\n",
    "                    for t_rail, t_bus, t_car, t_non, p_rail, p_bus, p_car in zip(\n",
    "                        t_rail_s, t_bus_s, t_car_s, t_non_s, p_rail_s, p_bus_s, p_car_s)\n",
    "                   ]) / len(trips.loc[mask])\n",
    "        return cc_d\n",
    "    else:\n",
    "        return np.nan"
   ]
  },
  {
   "cell_type": "code",
   "execution_count": 13,
   "metadata": {},
   "outputs": [
    {
     "name": "stderr",
     "output_type": "stream",
     "text": [
      "100%|████████████████████████████████████████████████████████████████████████████████████| 6/6 [07:36<00:00, 76.09s/it]\n"
     ]
    }
   ],
   "source": [
    "# Calculate CC\n",
    "origins = list(trips['origin'].unique())\n",
    "cc = pd.DataFrame(index=origins)\n",
    "for p in tqdm(list(trips['purpose_model'].unique())):\n",
    "    for car, car_str in {1:'_car', 0:'_no_car'}.items():\n",
    "        cc[p+car_str] = pd.Series(index=origins,\n",
    "                                  data=[get_inner_cc(o, p, car) for o in origins],\n",
    "                                  dtype=np.float64)\n",
    "        #cc[p+car_str] = cc[p+car_str].fillna(cc[p+car_str].mean())"
   ]
  },
  {
   "cell_type": "code",
   "execution_count": 14,
   "metadata": {
    "scrolled": true
   },
   "outputs": [
    {
     "data": {
      "text/html": [
       "<div>\n",
       "<style scoped>\n",
       "    .dataframe tbody tr th:only-of-type {\n",
       "        vertical-align: middle;\n",
       "    }\n",
       "\n",
       "    .dataframe tbody tr th {\n",
       "        vertical-align: top;\n",
       "    }\n",
       "\n",
       "    .dataframe thead th {\n",
       "        text-align: right;\n",
       "    }\n",
       "</style>\n",
       "<table border=\"1\" class=\"dataframe\">\n",
       "  <thead>\n",
       "    <tr style=\"text-align: right;\">\n",
       "      <th></th>\n",
       "      <th>buy/execute_car</th>\n",
       "      <th>buy/execute_no_car</th>\n",
       "      <th>commuting_car</th>\n",
       "      <th>commuting_no_car</th>\n",
       "      <th>education_car</th>\n",
       "      <th>education_no_car</th>\n",
       "      <th>leisure_car</th>\n",
       "      <th>leisure_no_car</th>\n",
       "      <th>accompany_car</th>\n",
       "      <th>accompany_no_car</th>\n",
       "      <th>business_car</th>\n",
       "      <th>business_no_car</th>\n",
       "    </tr>\n",
       "  </thead>\n",
       "  <tbody>\n",
       "    <tr>\n",
       "      <th>count</th>\n",
       "      <td>2247.000000</td>\n",
       "      <td>285.000000</td>\n",
       "      <td>1661.000000</td>\n",
       "      <td>1.220000e+02</td>\n",
       "      <td>1031.000000</td>\n",
       "      <td>52.000000</td>\n",
       "      <td>1969.000000</td>\n",
       "      <td>226.000000</td>\n",
       "      <td>1406.000000</td>\n",
       "      <td>59.000000</td>\n",
       "      <td>793.000000</td>\n",
       "      <td>55.000000</td>\n",
       "    </tr>\n",
       "    <tr>\n",
       "      <th>mean</th>\n",
       "      <td>3.362196</td>\n",
       "      <td>4.849161</td>\n",
       "      <td>3.200528</td>\n",
       "      <td>1.386294e+00</td>\n",
       "      <td>4.096181</td>\n",
       "      <td>2.828804</td>\n",
       "      <td>2.105372</td>\n",
       "      <td>1.935136</td>\n",
       "      <td>3.872617</td>\n",
       "      <td>4.307274</td>\n",
       "      <td>1.987326</td>\n",
       "      <td>2.356271</td>\n",
       "    </tr>\n",
       "    <tr>\n",
       "      <th>std</th>\n",
       "      <td>0.691329</td>\n",
       "      <td>2.171773</td>\n",
       "      <td>0.384798</td>\n",
       "      <td>5.321572e-16</td>\n",
       "      <td>1.215077</td>\n",
       "      <td>0.622975</td>\n",
       "      <td>0.275580</td>\n",
       "      <td>0.376588</td>\n",
       "      <td>0.753932</td>\n",
       "      <td>1.474951</td>\n",
       "      <td>0.258315</td>\n",
       "      <td>0.536175</td>\n",
       "    </tr>\n",
       "    <tr>\n",
       "      <th>min</th>\n",
       "      <td>1.925299</td>\n",
       "      <td>2.009875</td>\n",
       "      <td>1.574972</td>\n",
       "      <td>1.386294e+00</td>\n",
       "      <td>2.092351</td>\n",
       "      <td>2.055569</td>\n",
       "      <td>1.571192</td>\n",
       "      <td>1.386294</td>\n",
       "      <td>1.902731</td>\n",
       "      <td>1.800520</td>\n",
       "      <td>1.532196</td>\n",
       "      <td>1.543274</td>\n",
       "    </tr>\n",
       "    <tr>\n",
       "      <th>25%</th>\n",
       "      <td>2.792856</td>\n",
       "      <td>3.291623</td>\n",
       "      <td>2.954582</td>\n",
       "      <td>1.386294e+00</td>\n",
       "      <td>3.069591</td>\n",
       "      <td>2.375462</td>\n",
       "      <td>1.884555</td>\n",
       "      <td>1.668061</td>\n",
       "      <td>3.267248</td>\n",
       "      <td>3.507575</td>\n",
       "      <td>1.796729</td>\n",
       "      <td>1.995571</td>\n",
       "    </tr>\n",
       "    <tr>\n",
       "      <th>50%</th>\n",
       "      <td>3.203360</td>\n",
       "      <td>4.140688</td>\n",
       "      <td>3.177505</td>\n",
       "      <td>1.386294e+00</td>\n",
       "      <td>3.876979</td>\n",
       "      <td>2.735073</td>\n",
       "      <td>2.051825</td>\n",
       "      <td>1.801126</td>\n",
       "      <td>3.665493</td>\n",
       "      <td>4.108050</td>\n",
       "      <td>1.931529</td>\n",
       "      <td>2.284375</td>\n",
       "    </tr>\n",
       "    <tr>\n",
       "      <th>75%</th>\n",
       "      <td>3.973411</td>\n",
       "      <td>5.672564</td>\n",
       "      <td>3.424181</td>\n",
       "      <td>1.386294e+00</td>\n",
       "      <td>5.044899</td>\n",
       "      <td>2.950557</td>\n",
       "      <td>2.326619</td>\n",
       "      <td>2.157916</td>\n",
       "      <td>4.470173</td>\n",
       "      <td>4.933013</td>\n",
       "      <td>2.164555</td>\n",
       "      <td>2.559131</td>\n",
       "    </tr>\n",
       "    <tr>\n",
       "      <th>max</th>\n",
       "      <td>5.500265</td>\n",
       "      <td>10.685294</td>\n",
       "      <td>4.568394</td>\n",
       "      <td>1.386294e+00</td>\n",
       "      <td>7.658000</td>\n",
       "      <td>4.888317</td>\n",
       "      <td>3.008337</td>\n",
       "      <td>3.251892</td>\n",
       "      <td>6.158476</td>\n",
       "      <td>8.911151</td>\n",
       "      <td>2.889320</td>\n",
       "      <td>3.976674</td>\n",
       "    </tr>\n",
       "  </tbody>\n",
       "</table>\n",
       "</div>"
      ],
      "text/plain": [
       "       buy/execute_car  buy/execute_no_car  commuting_car  commuting_no_car  \\\n",
       "count      2247.000000          285.000000    1661.000000      1.220000e+02   \n",
       "mean          3.362196            4.849161       3.200528      1.386294e+00   \n",
       "std           0.691329            2.171773       0.384798      5.321572e-16   \n",
       "min           1.925299            2.009875       1.574972      1.386294e+00   \n",
       "25%           2.792856            3.291623       2.954582      1.386294e+00   \n",
       "50%           3.203360            4.140688       3.177505      1.386294e+00   \n",
       "75%           3.973411            5.672564       3.424181      1.386294e+00   \n",
       "max           5.500265           10.685294       4.568394      1.386294e+00   \n",
       "\n",
       "       education_car  education_no_car  leisure_car  leisure_no_car  \\\n",
       "count    1031.000000         52.000000  1969.000000      226.000000   \n",
       "mean        4.096181          2.828804     2.105372        1.935136   \n",
       "std         1.215077          0.622975     0.275580        0.376588   \n",
       "min         2.092351          2.055569     1.571192        1.386294   \n",
       "25%         3.069591          2.375462     1.884555        1.668061   \n",
       "50%         3.876979          2.735073     2.051825        1.801126   \n",
       "75%         5.044899          2.950557     2.326619        2.157916   \n",
       "max         7.658000          4.888317     3.008337        3.251892   \n",
       "\n",
       "       accompany_car  accompany_no_car  business_car  business_no_car  \n",
       "count    1406.000000         59.000000    793.000000        55.000000  \n",
       "mean        3.872617          4.307274      1.987326         2.356271  \n",
       "std         0.753932          1.474951      0.258315         0.536175  \n",
       "min         1.902731          1.800520      1.532196         1.543274  \n",
       "25%         3.267248          3.507575      1.796729         1.995571  \n",
       "50%         3.665493          4.108050      1.931529         2.284375  \n",
       "75%         4.470173          4.933013      2.164555         2.559131  \n",
       "max         6.158476          8.911151      2.889320         3.976674  "
      ]
     },
     "execution_count": 14,
     "metadata": {},
     "output_type": "execute_result"
    }
   ],
   "source": [
    "cc.describe()"
   ]
  },
  {
   "cell_type": "markdown",
   "metadata": {},
   "source": [
    "## Save inner-zonal CC"
   ]
  },
  {
   "cell_type": "code",
   "execution_count": 17,
   "metadata": {},
   "outputs": [],
   "source": [
    "#assert cc.isna().any(axis=1).max()==0"
   ]
  },
  {
   "cell_type": "code",
   "execution_count": 18,
   "metadata": {},
   "outputs": [],
   "source": [
    "cc.to_csv(input_path + 'inner-zonal_cc.csv')"
   ]
  }
 ],
 "metadata": {
  "kernelspec": {
   "display_name": "Python 3 (ipykernel)",
   "language": "python",
   "name": "python3"
  },
  "language_info": {
   "codemirror_mode": {
    "name": "ipython",
    "version": 3
   },
   "file_extension": ".py",
   "mimetype": "text/x-python",
   "name": "python",
   "nbconvert_exporter": "python",
   "pygments_lexer": "ipython3",
   "version": "3.10.14"
  }
 },
 "nbformat": 4,
 "nbformat_minor": 4
}
