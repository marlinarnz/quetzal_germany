{
 "cells": [
  {
   "cell_type": "code",
   "execution_count": 2,
   "metadata": {},
   "outputs": [],
   "source": [
    "import pandas as pd\n",
    "import numpy as np\n",
    "import tabula"
   ]
  },
  {
   "cell_type": "markdown",
   "metadata": {},
   "source": [
    "# Generate cost data tables"
   ]
  },
  {
   "cell_type": "code",
   "execution_count": 3,
   "metadata": {},
   "outputs": [],
   "source": [
    "input_path = '../input/level_of_service/'"
   ]
  },
  {
   "cell_type": "markdown",
   "metadata": {},
   "source": [
    "## PT ticket prices\n",
    "The German rail operator provides a distance-related ticket price list as pdf that can be translated into a function"
   ]
  },
  {
   "cell_type": "code",
   "execution_count": 4,
   "metadata": {},
   "outputs": [],
   "source": [
    "input_file = input_path + 'DB_2020_preisliste_fahrplanjahr_2020.pdf'"
   ]
  },
  {
   "cell_type": "code",
   "execution_count": 23,
   "metadata": {},
   "outputs": [],
   "source": [
    "# generate a DataFrame\n",
    "db_prices = tabula.read_pdf(input_file, output_format='dataframe', pages=list(range(5, 41)), pandas_options={\n",
    "    'names': ['km', 'single_trip_second_class', 'single_trip_first_class', 'return_trip_second_class', 'return_trip_first_class']\n",
    "}, multiple_tables=False)[0]"
   ]
  },
  {
   "cell_type": "code",
   "execution_count": 25,
   "metadata": {},
   "outputs": [],
   "source": [
    "db_prices.dropna(axis=0, how='any', inplace=True)"
   ]
  },
  {
   "cell_type": "code",
   "execution_count": 36,
   "metadata": {},
   "outputs": [
    {
     "data": {
      "text/plain": [
       "km                          float64\n",
       "single_trip_second_class    float64\n",
       "single_trip_first_class     float64\n",
       "return_trip_second_class    float64\n",
       "return_trip_first_class     float64\n",
       "dtype: object"
      ]
     },
     "execution_count": 36,
     "metadata": {},
     "output_type": "execute_result"
    }
   ],
   "source": [
    "db_prices.dtypes"
   ]
  },
  {
   "cell_type": "code",
   "execution_count": 37,
   "metadata": {},
   "outputs": [
    {
     "data": {
      "text/html": [
       "<div>\n",
       "<style scoped>\n",
       "    .dataframe tbody tr th:only-of-type {\n",
       "        vertical-align: middle;\n",
       "    }\n",
       "\n",
       "    .dataframe tbody tr th {\n",
       "        vertical-align: top;\n",
       "    }\n",
       "\n",
       "    .dataframe thead th {\n",
       "        text-align: right;\n",
       "    }\n",
       "</style>\n",
       "<table border=\"1\" class=\"dataframe\">\n",
       "  <thead>\n",
       "    <tr style=\"text-align: right;\">\n",
       "      <th></th>\n",
       "      <th>km</th>\n",
       "      <th>single_trip_second_class</th>\n",
       "      <th>single_trip_first_class</th>\n",
       "      <th>return_trip_second_class</th>\n",
       "      <th>return_trip_first_class</th>\n",
       "    </tr>\n",
       "  </thead>\n",
       "  <tbody>\n",
       "    <tr>\n",
       "      <th>39</th>\n",
       "      <td>37.0</td>\n",
       "      <td>10.1</td>\n",
       "      <td>16.2</td>\n",
       "      <td>20.2</td>\n",
       "      <td>32.4</td>\n",
       "    </tr>\n",
       "    <tr>\n",
       "      <th>40</th>\n",
       "      <td>38.0</td>\n",
       "      <td>10.3</td>\n",
       "      <td>16.5</td>\n",
       "      <td>20.6</td>\n",
       "      <td>33.0</td>\n",
       "    </tr>\n",
       "    <tr>\n",
       "      <th>41</th>\n",
       "      <td>39.0</td>\n",
       "      <td>10.4</td>\n",
       "      <td>16.6</td>\n",
       "      <td>20.8</td>\n",
       "      <td>33.2</td>\n",
       "    </tr>\n",
       "    <tr>\n",
       "      <th>42</th>\n",
       "      <td>40.0</td>\n",
       "      <td>10.6</td>\n",
       "      <td>17.0</td>\n",
       "      <td>21.2</td>\n",
       "      <td>34.0</td>\n",
       "    </tr>\n",
       "    <tr>\n",
       "      <th>43</th>\n",
       "      <td>41.0</td>\n",
       "      <td>11.2</td>\n",
       "      <td>17.9</td>\n",
       "      <td>22.4</td>\n",
       "      <td>35.8</td>\n",
       "    </tr>\n",
       "    <tr>\n",
       "      <th>...</th>\n",
       "      <td>...</td>\n",
       "      <td>...</td>\n",
       "      <td>...</td>\n",
       "      <td>...</td>\n",
       "      <td>...</td>\n",
       "    </tr>\n",
       "    <tr>\n",
       "      <th>1970</th>\n",
       "      <td>1996.0</td>\n",
       "      <td>226.0</td>\n",
       "      <td>361.6</td>\n",
       "      <td>452.0</td>\n",
       "      <td>723.2</td>\n",
       "    </tr>\n",
       "    <tr>\n",
       "      <th>1971</th>\n",
       "      <td>1997.0</td>\n",
       "      <td>226.1</td>\n",
       "      <td>361.8</td>\n",
       "      <td>452.2</td>\n",
       "      <td>723.6</td>\n",
       "    </tr>\n",
       "    <tr>\n",
       "      <th>1972</th>\n",
       "      <td>1998.0</td>\n",
       "      <td>226.2</td>\n",
       "      <td>361.9</td>\n",
       "      <td>452.4</td>\n",
       "      <td>723.8</td>\n",
       "    </tr>\n",
       "    <tr>\n",
       "      <th>1973</th>\n",
       "      <td>1999.0</td>\n",
       "      <td>226.3</td>\n",
       "      <td>362.1</td>\n",
       "      <td>452.6</td>\n",
       "      <td>724.2</td>\n",
       "    </tr>\n",
       "    <tr>\n",
       "      <th>1974</th>\n",
       "      <td>2000.0</td>\n",
       "      <td>226.4</td>\n",
       "      <td>362.2</td>\n",
       "      <td>452.8</td>\n",
       "      <td>724.4</td>\n",
       "    </tr>\n",
       "  </tbody>\n",
       "</table>\n",
       "<p>1930 rows × 5 columns</p>\n",
       "</div>"
      ],
      "text/plain": [
       "          km  single_trip_second_class  single_trip_first_class  \\\n",
       "39      37.0                      10.1                     16.2   \n",
       "40      38.0                      10.3                     16.5   \n",
       "41      39.0                      10.4                     16.6   \n",
       "42      40.0                      10.6                     17.0   \n",
       "43      41.0                      11.2                     17.9   \n",
       "...      ...                       ...                      ...   \n",
       "1970  1996.0                     226.0                    361.6   \n",
       "1971  1997.0                     226.1                    361.8   \n",
       "1972  1998.0                     226.2                    361.9   \n",
       "1973  1999.0                     226.3                    362.1   \n",
       "1974  2000.0                     226.4                    362.2   \n",
       "\n",
       "      return_trip_second_class  return_trip_first_class  \n",
       "39                        20.2                     32.4  \n",
       "40                        20.6                     33.0  \n",
       "41                        20.8                     33.2  \n",
       "42                        21.2                     34.0  \n",
       "43                        22.4                     35.8  \n",
       "...                        ...                      ...  \n",
       "1970                     452.0                    723.2  \n",
       "1971                     452.2                    723.6  \n",
       "1972                     452.4                    723.8  \n",
       "1973                     452.6                    724.2  \n",
       "1974                     452.8                    724.4  \n",
       "\n",
       "[1930 rows x 5 columns]"
      ]
     },
     "execution_count": 37,
     "metadata": {},
     "output_type": "execute_result"
    }
   ],
   "source": [
    "db_prices"
   ]
  },
  {
   "cell_type": "code",
   "execution_count": 31,
   "metadata": {},
   "outputs": [],
   "source": [
    "for col in list(db_prices.columns):\n",
    "    db_prices[col] = db_prices[col].str.replace(',', '.')"
   ]
  },
  {
   "cell_type": "code",
   "execution_count": 35,
   "metadata": {},
   "outputs": [],
   "source": [
    "db_prices = db_prices[[col for col in list(db_prices.columns)]].astype(float)"
   ]
  },
  {
   "cell_type": "code",
   "execution_count": 39,
   "metadata": {},
   "outputs": [
    {
     "data": {
      "text/plain": [
       "<matplotlib.axes._subplots.AxesSubplot at 0x17ee29a64f0>"
      ]
     },
     "execution_count": 39,
     "metadata": {},
     "output_type": "execute_result"
    },
    {
     "data": {
      "image/png": "[encoded data removed]",
      "text/plain": [
       "<Figure size 432x288 with 1 Axes>"
      ]
     },
     "metadata": {
      "needs_background": "light"
     },
     "output_type": "display_data"
    }
   ],
   "source": [
    "# plot\n",
    "db_prices.set_index('km').plot()"
   ]
  },
  {
   "cell_type": "code",
   "execution_count": 40,
   "metadata": {},
   "outputs": [],
   "source": [
    "# save\n",
    "db_prices.to_csv(input_file.replace('.pdf', '.csv'), index=False)"
   ]
  },
  {
   "cell_type": "markdown",
   "metadata": {},
   "source": [
    "## MIT cost\n",
    "The German car driver association (ADAC) provides a list of cost for every new car available in Germany. They calculate aquisition cost, variable cost, fix cost, and repair cost."
   ]
  },
  {
   "cell_type": "code",
   "execution_count": 41,
   "metadata": {},
   "outputs": [],
   "source": [
    "input_file = input_path + 'ADAC_2019_autokostenuebersicht_47085.pdf'"
   ]
  },
  {
   "cell_type": "code",
   "execution_count": 127,
   "metadata": {},
   "outputs": [],
   "source": [
    "# generate a DataFrame\n",
    "cars = tabula.read_pdf(input_file, output_format='dataframe', pages=list(range(3, 38)), pandas_options={\n",
    "    'names': ['model', 'data', 'costs']\n",
    "}, multiple_tables=False)[0]"
   ]
  },
  {
   "cell_type": "code",
   "execution_count": 134,
   "metadata": {},
   "outputs": [
    {
     "data": {
      "text/html": [
       "<div>\n",
       "<style scoped>\n",
       "    .dataframe tbody tr th:only-of-type {\n",
       "        vertical-align: middle;\n",
       "    }\n",
       "\n",
       "    .dataframe tbody tr th {\n",
       "        vertical-align: top;\n",
       "    }\n",
       "\n",
       "    .dataframe thead th {\n",
       "        text-align: right;\n",
       "    }\n",
       "</style>\n",
       "<table border=\"1\" class=\"dataframe\">\n",
       "  <thead>\n",
       "    <tr style=\"text-align: right;\">\n",
       "      <th></th>\n",
       "      <th>model</th>\n",
       "      <th>power</th>\n",
       "      <th>data</th>\n",
       "      <th>costs</th>\n",
       "      <th>fix_cost</th>\n",
       "      <th>repair_cost</th>\n",
       "      <th>var_cost</th>\n",
       "      <th>acquisition_cost</th>\n",
       "      <th>eur_per_month</th>\n",
       "      <th>ct_per_km</th>\n",
       "    </tr>\n",
       "  </thead>\n",
       "  <tbody>\n",
       "    <tr>\n",
       "      <th>5</th>\n",
       "      <td>Giulia 2.0 Turbo 16V Business AT8</td>\n",
       "      <td>147 39500</td>\n",
       "      <td>NaN</td>\n",
       "      <td>145 93 153 446 837 67.0</td>\n",
       "      <td>145</td>\n",
       "      <td>93</td>\n",
       "      <td>153</td>\n",
       "      <td>446</td>\n",
       "      <td>837</td>\n",
       "      <td>67.0</td>\n",
       "    </tr>\n",
       "    <tr>\n",
       "      <th>6</th>\n",
       "      <td>Giulia 2.0 Turbo 16V Veloce Q4 AT8</td>\n",
       "      <td>206 52000</td>\n",
       "      <td>NaN</td>\n",
       "      <td>141 127 164 590 1022 81.8</td>\n",
       "      <td>141</td>\n",
       "      <td>127</td>\n",
       "      <td>164</td>\n",
       "      <td>590</td>\n",
       "      <td>1022</td>\n",
       "      <td>81.8</td>\n",
       "    </tr>\n",
       "    <tr>\n",
       "      <th>7</th>\n",
       "      <td>Giulia 2.2 Diesel Business AT8</td>\n",
       "      <td>118 39500</td>\n",
       "      <td>NaN</td>\n",
       "      <td>161 89 111 437 798 63.8</td>\n",
       "      <td>161</td>\n",
       "      <td>89</td>\n",
       "      <td>111</td>\n",
       "      <td>437</td>\n",
       "      <td>798</td>\n",
       "      <td>63.8</td>\n",
       "    </tr>\n",
       "    <tr>\n",
       "      <th>8</th>\n",
       "      <td>Giulia 2.2 Diesel Super AT8</td>\n",
       "      <td>140 42000</td>\n",
       "      <td>NaN</td>\n",
       "      <td>161 94 111 496 862 69.0</td>\n",
       "      <td>161</td>\n",
       "      <td>94</td>\n",
       "      <td>111</td>\n",
       "      <td>496</td>\n",
       "      <td>862</td>\n",
       "      <td>69.0</td>\n",
       "    </tr>\n",
       "    <tr>\n",
       "      <th>9</th>\n",
       "      <td>Giulia 2.2 Diesel Veloce Q4 AT8</td>\n",
       "      <td>154 52000</td>\n",
       "      <td>NaN</td>\n",
       "      <td>165 127 120 582 994 79.5</td>\n",
       "      <td>165</td>\n",
       "      <td>127</td>\n",
       "      <td>120</td>\n",
       "      <td>582</td>\n",
       "      <td>994</td>\n",
       "      <td>79.5</td>\n",
       "    </tr>\n",
       "    <tr>\n",
       "      <th>...</th>\n",
       "      <td>...</td>\n",
       "      <td>...</td>\n",
       "      <td>...</td>\n",
       "      <td>...</td>\n",
       "      <td>...</td>\n",
       "      <td>...</td>\n",
       "      <td>...</td>\n",
       "      <td>...</td>\n",
       "      <td>...</td>\n",
       "      <td>...</td>\n",
       "    </tr>\n",
       "    <tr>\n",
       "      <th>1820</th>\n",
       "      <td>T6.1 Caravelle 2.0 TDI BMT Trendline</td>\n",
       "      <td>110</td>\n",
       "      <td>47154</td>\n",
       "      <td>128 76 152 603 959 76.7</td>\n",
       "      <td>128</td>\n",
       "      <td>76</td>\n",
       "      <td>152</td>\n",
       "      <td>603</td>\n",
       "      <td>959</td>\n",
       "      <td>76.7</td>\n",
       "    </tr>\n",
       "    <tr>\n",
       "      <th>1821</th>\n",
       "      <td>T6.1 Caravelle 2.0 TDI BMT Trendline DSG</td>\n",
       "      <td>146</td>\n",
       "      <td>53943</td>\n",
       "      <td>146 95 162 684 1087 87.0</td>\n",
       "      <td>146</td>\n",
       "      <td>95</td>\n",
       "      <td>162</td>\n",
       "      <td>684</td>\n",
       "      <td>1087</td>\n",
       "      <td>87.0</td>\n",
       "    </tr>\n",
       "    <tr>\n",
       "      <th>1822</th>\n",
       "      <td>T6.1 Multivan 2.0 TDI BMT Family</td>\n",
       "      <td>81</td>\n",
       "      <td>36890</td>\n",
       "      <td>120 71 152 433 776 62.1</td>\n",
       "      <td>120</td>\n",
       "      <td>71</td>\n",
       "      <td>152</td>\n",
       "      <td>433</td>\n",
       "      <td>776</td>\n",
       "      <td>62.1</td>\n",
       "    </tr>\n",
       "    <tr>\n",
       "      <th>1823</th>\n",
       "      <td>T6.1 Multivan 2.0 TDI BMT Family</td>\n",
       "      <td>110</td>\n",
       "      <td>39419</td>\n",
       "      <td>140 76 154 450 820 65.6</td>\n",
       "      <td>140</td>\n",
       "      <td>76</td>\n",
       "      <td>154</td>\n",
       "      <td>450</td>\n",
       "      <td>820</td>\n",
       "      <td>65.6</td>\n",
       "    </tr>\n",
       "    <tr>\n",
       "      <th>1824</th>\n",
       "      <td>T6.1 Multivan 2.0 TDI BMT Generation Six DSG</td>\n",
       "      <td>146</td>\n",
       "      <td>61481</td>\n",
       "      <td>147 95 166 639 1047 83.8</td>\n",
       "      <td>147</td>\n",
       "      <td>95</td>\n",
       "      <td>166</td>\n",
       "      <td>639</td>\n",
       "      <td>1047</td>\n",
       "      <td>83.8</td>\n",
       "    </tr>\n",
       "  </tbody>\n",
       "</table>\n",
       "<p>1616 rows × 10 columns</p>\n",
       "</div>"
      ],
      "text/plain": [
       "                                             model      power   data  \\\n",
       "5                Giulia 2.0 Turbo 16V Business AT8  147 39500    NaN   \n",
       "6               Giulia 2.0 Turbo 16V Veloce Q4 AT8  206 52000    NaN   \n",
       "7                   Giulia 2.2 Diesel Business AT8  118 39500    NaN   \n",
       "8                      Giulia 2.2 Diesel Super AT8  140 42000    NaN   \n",
       "9                  Giulia 2.2 Diesel Veloce Q4 AT8  154 52000    NaN   \n",
       "...                                            ...        ...    ...   \n",
       "1820          T6.1 Caravelle 2.0 TDI BMT Trendline        110  47154   \n",
       "1821      T6.1 Caravelle 2.0 TDI BMT Trendline DSG        146  53943   \n",
       "1822              T6.1 Multivan 2.0 TDI BMT Family         81  36890   \n",
       "1823              T6.1 Multivan 2.0 TDI BMT Family        110  39419   \n",
       "1824  T6.1 Multivan 2.0 TDI BMT Generation Six DSG        146  61481   \n",
       "\n",
       "                          costs fix_cost repair_cost var_cost  \\\n",
       "5       145 93 153 446 837 67.0      145          93      153   \n",
       "6     141 127 164 590 1022 81.8      141         127      164   \n",
       "7       161 89 111 437 798 63.8      161          89      111   \n",
       "8       161 94 111 496 862 69.0      161          94      111   \n",
       "9      165 127 120 582 994 79.5      165         127      120   \n",
       "...                         ...      ...         ...      ...   \n",
       "1820    128 76 152 603 959 76.7      128          76      152   \n",
       "1821   146 95 162 684 1087 87.0      146          95      162   \n",
       "1822    120 71 152 433 776 62.1      120          71      152   \n",
       "1823    140 76 154 450 820 65.6      140          76      154   \n",
       "1824   147 95 166 639 1047 83.8      147          95      166   \n",
       "\n",
       "     acquisition_cost eur_per_month ct_per_km  \n",
       "5                 446           837      67.0  \n",
       "6                 590          1022      81.8  \n",
       "7                 437           798      63.8  \n",
       "8                 496           862      69.0  \n",
       "9                 582           994      79.5  \n",
       "...               ...           ...       ...  \n",
       "1820              603           959      76.7  \n",
       "1821              684          1087      87.0  \n",
       "1822              433           776      62.1  \n",
       "1823              450           820      65.6  \n",
       "1824              639          1047      83.8  \n",
       "\n",
       "[1616 rows x 10 columns]"
      ]
     },
     "execution_count": 134,
     "metadata": {},
     "output_type": "execute_result"
    }
   ],
   "source": [
    "cars#.head(60)"
   ]
  },
  {
   "cell_type": "code",
   "execution_count": 129,
   "metadata": {},
   "outputs": [],
   "source": [
    "# cleansing\n",
    "cars.reset_index(inplace=True)\n",
    "cars.rename(columns={'model': 'power', 'index': 'model'}, inplace=True)\n",
    "cars.dropna(axis=0, how='all', inplace=True)\n",
    "cars.dropna(axis=0, how='any', thresh=3, inplace=True)\n",
    "cars = cars.loc[cars['model']!='NaN']\n",
    "cars.dropna(axis=0, subset=['model'], inplace=True)\n",
    "cars = cars.loc[cars['model']!='Marke / Modell:']"
   ]
  },
  {
   "cell_type": "code",
   "execution_count": 130,
   "metadata": {},
   "outputs": [],
   "source": [
    "cars['costs'] = cars['costs'].str.replace(',', '.')\n",
    "cars['costs'] = cars['costs'].str.replace('*', '')"
   ]
  },
  {
   "cell_type": "code",
   "execution_count": 133,
   "metadata": {},
   "outputs": [],
   "source": [
    "elements = ['fix_cost', 'repair_cost', 'var_cost', 'acquisition_cost', 'eur_per_month', 'ct_per_km']\n",
    "cars[elements] = cars['costs'].str.split(' ', expand=True)"
   ]
  },
  {
   "cell_type": "code",
   "execution_count": 136,
   "metadata": {},
   "outputs": [],
   "source": [
    "# Save\n",
    "elements.append('model')\n",
    "cars = cars[elements]\n",
    "cars.to_csv(input_file.replace('.pdf', '.csv'), index=False)"
   ]
  }
 ],
 "metadata": {
  "kernelspec": {
   "display_name": "Python 3",
   "language": "python",
   "name": "python3"
  },
  "language_info": {
   "codemirror_mode": {
    "name": "ipython",
    "version": 3
   },
   "file_extension": ".py",
   "mimetype": "text/x-python",
   "name": "python",
   "nbconvert_exporter": "python",
   "pygments_lexer": "ipython3",
   "version": "3.8.1"
  }
 },
 "nbformat": 4,
 "nbformat_minor": 4
}
