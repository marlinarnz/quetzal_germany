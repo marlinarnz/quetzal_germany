{
 "cells": [
  {
   "cell_type": "code",
   "execution_count": 2,
   "id": "19b6a610-1d24-49d6-abd2-a76d62cb275a",
   "metadata": {},
   "outputs": [],
   "source": [
    "import os\n",
    "import numpy as np\n",
    "import pandas as pd\n",
    "import geopandas as gpd\n",
    "from shapely import geometry\n",
    "import shapely.speedups\n",
    "from tqdm import tqdm\n",
    "from quetzal.model import stepmodel\n",
    "from quetzal.engine import engine\n",
    "from quetzal.io import excel"
   ]
  },
  {
   "cell_type": "code",
   "execution_count": 3,
   "id": "48229d33-3241-4ba8-a18f-6a29712f0849",
   "metadata": {},
   "outputs": [],
   "source": [
    "input_path = '../input/'\n",
    "model_path = '../model/'"
   ]
  },
  {
   "cell_type": "code",
   "execution_count": 4,
   "id": "8c3bd81e-17bc-4fd0-8624-92a58c144d75",
   "metadata": {},
   "outputs": [],
   "source": [
    "def average_speed(scenario):\n",
    "    \"\"\"Calculate the average speed on all connections of the road network.\"\"\"\n",
    "    # Load the zippedpickle file\n",
    "    car = stepmodel.read_zippedpickles(model_path + scenario + '/' + 'de_road_los')\n",
    "    \n",
    "    # Load the car los to a DataFrame\n",
    "    df = pd.DataFrame(car.car_los)\n",
    "    \n",
    "    # filter the DataFrame for origin, destination, length and in_vehicle_time\n",
    "    df_all = pd.concat([df.origin, df.destination, df.length, df.in_vehicle_time], axis=1)\n",
    "    \n",
    "    # Calculate average speed from length and in_vehicle_time\n",
    "    df_all['average_speed'] = (df_all['length']/1000) / (df_all['in_vehicle_time']/3600)\n",
    "    \n",
    "    # Sort the DataFrame\n",
    "    df_all.sort_values(by=['origin', 'destination'], inplace=True, ignore_index=True)\n",
    "    \n",
    "    return df_all"
   ]
  },
  {
   "cell_type": "code",
   "execution_count": 5,
   "id": "4f7fbd37-e188-4b02-a9fd-90b1af6e2ad2",
   "metadata": {},
   "outputs": [
    {
     "name": "stderr",
     "output_type": "stream",
     "text": [
      "car_los: 100%|████████████████████████████████████| 1/1 [00:03<00:00,  3.84s/it]\n",
      "car_los: 100%|████████████████████████████████████| 1/1 [00:02<00:00,  2.48s/it]\n"
     ]
    },
    {
     "name": "stdout",
     "output_type": "stream",
     "text": [
      "    origin destination  length  in_vehicle_time  average_speed\n",
      "0  DE111_0     DE112_0   22344             1732      46.442494\n",
      "1  DE111_0     DE112_1   40853             2543      57.833582\n",
      "2  DE111_0     DE112_2   34180             2158      57.019462\n",
      "3  DE111_0     DE112_3   30975             1977      56.403642\n",
      "4  DE111_0     DE112_4   23409             2160      39.015000\n",
      "5  DE111_0     DE112_5   26757             1526      63.122674\n",
      "6  DE111_0     DE112_6   32618             1802      65.163596\n",
      "7  DE111_0     DE113_0   23000             1572      52.671756\n",
      "8  DE111_0     DE113_1   20393             1694      43.338135\n",
      "9  DE111_0     DE113_2   40260             2494      58.113873\n",
      "    origin destination  length  in_vehicle_time  average_speed\n",
      "0  DE111_0     DE112_0   22344             2323      34.626948\n",
      "1  DE111_0     DE112_1   40853             3011      48.844503\n",
      "2  DE111_0     DE112_2   34180             2430      50.637037\n",
      "3  DE111_0     DE112_3   30975             2435      45.794661\n",
      "4  DE111_0     DE112_4   23409             2814      29.947548\n",
      "5  DE111_0     DE112_5   26757             1780      54.115281\n",
      "6  DE111_0     DE112_6   32618             2068      56.781818\n",
      "7  DE111_0     DE113_0   23000             1784      46.412556\n",
      "8  DE111_0     DE113_1   19989             2289      31.437484\n",
      "9  DE111_0     DE113_2   40260             2859      50.694648\n"
     ]
    }
   ],
   "source": [
    "# Define scenario here\n",
    "scenario = \"lim\"\n",
    "reference = \"ref_35\"\n",
    "df_scen = average_speed(scenario)\n",
    "df_ref = average_speed(reference)\n",
    "print(df_ref.head(10))\n",
    "print(df_scen.head(10))"
   ]
  },
  {
   "cell_type": "code",
   "execution_count": 6,
   "id": "ee359d84-d580-43aa-ada2-537991ff1439",
   "metadata": {},
   "outputs": [
    {
     "name": "stdout",
     "output_type": "stream",
     "text": [
      "     origin destination  length  time_ref  speed_ref  speed_scen  time_scen\n",
      "0   DE111_0     DE112_0   22344      1732  46.442494   34.626948       2323\n",
      "1   DE111_0     DE112_1   40853      2543  57.833582   48.844503       3011\n",
      "2   DE111_0     DE112_2   34180      2158  57.019462   50.637037       2430\n",
      "3   DE111_0     DE112_3   30975      1977  56.403642   45.794661       2435\n",
      "4   DE111_0     DE112_4   23409      2160  39.015000   29.947548       2814\n",
      "5   DE111_0     DE112_5   26757      1526  63.122674   54.115281       1780\n",
      "6   DE111_0     DE112_6   32618      1802  65.163596   56.781818       2068\n",
      "7   DE111_0     DE113_0   23000      1572  52.671756   46.412556       1784\n",
      "8   DE111_0     DE113_1   20393      1694  43.338135   31.437484       2289\n",
      "9   DE111_0     DE113_2   40260      2494  58.113873   50.694648       2859\n",
      "10  DE111_0     DE113_3   22141      1705  46.749326   39.517898       2017\n",
      "11  DE111_0     DE113_4   38286      2821  48.858419   43.561820       3164\n",
      "12  DE111_0     DE113_5   14768      1669  31.854284   26.837355       1981\n",
      "13  DE111_0     DE113_6   37134      2171  61.576416   52.693102       2537\n",
      "14  DE111_0     DE114_0   45135      2372  68.501686   62.136138       2615\n",
      "15  DE111_0     DE114_1   53955      2695  72.073469   66.817337       2907\n",
      "16  DE111_0     DE114_2   34525      1947  63.836672   57.568319       2159\n",
      "17  DE111_0     DE114_3   64456      2838  81.762368   71.004162       3268\n",
      "18  DE111_0     DE114_4   68268      4544  54.085563   51.652963       4758\n",
      "19  DE111_0     DE114_5   48307      3050  57.018098   49.489243       3514\n",
      "Number of all connections: 198837\n",
      "Different average speed in 184604 connections\n",
      "     origin destination  length  time_ref  speed_ref  speed_scen  time_scen  \\\n",
      "0   DE111_0     DE112_0   22344      1732  46.442494   34.626948       2323   \n",
      "1   DE111_0     DE112_1   40853      2543  57.833582   48.844503       3011   \n",
      "2   DE111_0     DE112_2   34180      2158  57.019462   50.637037       2430   \n",
      "3   DE111_0     DE112_3   30975      1977  56.403642   45.794661       2435   \n",
      "4   DE111_0     DE112_4   23409      2160  39.015000   29.947548       2814   \n",
      "5   DE111_0     DE112_5   26757      1526  63.122674   54.115281       1780   \n",
      "6   DE111_0     DE112_6   32618      1802  65.163596   56.781818       2068   \n",
      "7   DE111_0     DE113_0   23000      1572  52.671756   46.412556       1784   \n",
      "8   DE111_0     DE113_1   20393      1694  43.338135   31.437484       2289   \n",
      "9   DE111_0     DE113_2   40260      2494  58.113873   50.694648       2859   \n",
      "10  DE111_0     DE113_3   22141      1705  46.749326   39.517898       2017   \n",
      "11  DE111_0     DE113_4   38286      2821  48.858419   43.561820       3164   \n",
      "12  DE111_0     DE113_5   14768      1669  31.854284   26.837355       1981   \n",
      "13  DE111_0     DE113_6   37134      2171  61.576416   52.693102       2537   \n",
      "14  DE111_0     DE114_0   45135      2372  68.501686   62.136138       2615   \n",
      "15  DE111_0     DE114_1   53955      2695  72.073469   66.817337       2907   \n",
      "16  DE111_0     DE114_2   34525      1947  63.836672   57.568319       2159   \n",
      "17  DE111_0     DE114_3   64456      2838  81.762368   71.004162       3268   \n",
      "18  DE111_0     DE114_4   68268      4544  54.085563   51.652963       4758   \n",
      "19  DE111_0     DE114_5   48307      3050  57.018098   49.489243       3514   \n",
      "\n",
      "    speed_diff  \n",
      "0    11.815546  \n",
      "1     8.989079  \n",
      "2     6.382425  \n",
      "3    10.608981  \n",
      "4     9.067452  \n",
      "5     9.007393  \n",
      "6     8.381778  \n",
      "7     6.259200  \n",
      "8    11.900651  \n",
      "9     7.419225  \n",
      "10    7.231428  \n",
      "11    5.296599  \n",
      "12    5.016929  \n",
      "13    8.883314  \n",
      "14    6.365549  \n",
      "15    5.256132  \n",
      "16    6.268353  \n",
      "17   10.758206  \n",
      "18    2.432600  \n",
      "19    7.528855  \n"
     ]
    }
   ],
   "source": [
    "# Rename columns\n",
    "df_ref.rename(columns={\"in_vehicle_time\": \"time_ref\", \"average_speed\": \"speed_ref\"}, inplace=True)\n",
    "df_scen.rename(columns={\"in_vehicle_time\": f\"time_scen\", \"average_speed\": f\"speed_scen\"}, inplace=True)\n",
    "\n",
    "# Combine data from reference and scenario\n",
    "df_all = pd.concat([df_ref, df_scen.speed_scen, df_scen.time_scen], axis=1)\n",
    "print(df_all.head(20))\n",
    "\n",
    "# Calculate difference in speed\n",
    "df_all[\"speed_diff\"] = df_all.speed_ref - df_all.speed_scen\n",
    "diff = df_all[df_all.speed_diff > 0]\n",
    "\n",
    "# Print results\n",
    "print(f\"Number of all connections: {len(df_all.index)}\")\n",
    "print(f\"Different average speed in {len(diff.index)} connections\")\n",
    "print(df_all.head(20))"
   ]
  },
  {
   "cell_type": "code",
   "execution_count": null,
   "id": "9859bb70-058e-4587-92eb-6ef469521242",
   "metadata": {},
   "outputs": [],
   "source": []
  }
 ],
 "metadata": {
  "kernelspec": {
   "display_name": "quetzal_env",
   "language": "python",
   "name": "quetzal_env"
  },
  "language_info": {
   "codemirror_mode": {
    "name": "ipython",
    "version": 3
   },
   "file_extension": ".py",
   "mimetype": "text/x-python",
   "name": "python",
   "nbconvert_exporter": "python",
   "pygments_lexer": "ipython3",
   "version": "3.10.9"
  }
 },
 "nbformat": 4,
 "nbformat_minor": 5
}
