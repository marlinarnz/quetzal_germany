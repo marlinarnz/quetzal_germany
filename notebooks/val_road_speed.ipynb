{
 "cells": [
  {
   "cell_type": "code",
   "execution_count": null,
   "id": "19b6a610-1d24-49d6-abd2-a76d62cb275a",
   "metadata": {},
   "outputs": [],
   "source": [
    "import os\n",
    "import numpy as np\n",
    "import pandas as pd\n",
    "import geopandas as gpd\n",
    "from shapely import geometry\n",
    "import shapely.speedups\n",
    "from tqdm import tqdm\n",
    "from quetzal.model import stepmodel\n",
    "from quetzal.engine import engine\n",
    "from quetzal.io import excel"
   ]
  },
  {
   "cell_type": "code",
   "execution_count": null,
   "id": "48229d33-3241-4ba8-a18f-6a29712f0849",
   "metadata": {},
   "outputs": [],
   "source": [
    "input_path = '../input/'\n",
    "model_path = '../model/'"
   ]
  },
  {
   "cell_type": "code",
   "execution_count": null,
   "id": "8c3bd81e-17bc-4fd0-8624-92a58c144d75",
   "metadata": {},
   "outputs": [],
   "source": [
    "def average_speed(scenario):\n",
    "    \"\"\"Calculate the average speed on all connections of the road network.\"\"\"\n",
    "    # Load the zippedpickle file\n",
    "    car = stepmodel.read_zippedpickles(model_path + scenario + '/' + 'de_road_los')\n",
    "    \n",
    "    # Load the car los to a DataFrame\n",
    "    df = pd.DataFrame(car.car_los)\n",
    "    \n",
    "    # filter the DataFrame for origin, destination, length and in_vehicle_time\n",
    "    df_all = pd.concat([df.origin, df.destination, df.length, df.in_vehicle_time], axis=1)\n",
    "    \n",
    "    # Calculate average speed from length and in_vehicle_time\n",
    "    df_all['average_speed'] = (df_all['length']/1000) / (df_all['in_vehicle_time']/3600)\n",
    "    \n",
    "    # Sort the DataFrame\n",
    "    df_all.sort_values(by=['origin', 'destination'], inplace=True, ignore_index=True)\n",
    "    \n",
    "    return df_all"
   ]
  },
  {
   "cell_type": "code",
   "execution_count": null,
   "id": "4f7fbd37-e188-4b02-a9fd-90b1af6e2ad2",
   "metadata": {},
   "outputs": [],
   "source": [
    "# Define scenario here\n",
    "scenario = \"lim\"\n",
    "reference = \"ref_35\"\n",
    "df_scen = average_speed(scenario)\n",
    "df_ref = average_speed(reference)"
   ]
  },
  {
   "cell_type": "code",
   "execution_count": null,
   "id": "ee359d84-d580-43aa-ada2-537991ff1439",
   "metadata": {},
   "outputs": [],
   "source": [
    "# Rename columns\n",
    "df_ref.rename(columns={\"in_vehicle_time\": \"time_ref\", \"average_speed\": \"speed_ref\"}, inplace=True)\n",
    "df_scen.rename(columns={\"in_vehicle_time\": f\"time_scen\", \"average_speed\": f\"speed_scen\"}, inplace=True)\n",
    "\n",
    "# Combine data from reference and scenario\n",
    "df_all = pd.concat([df_ref, df_scen.speed_scen, df_scen.time_scen], axis=1)\n",
    "\n",
    "# Calculate difference in speed\n",
    "df_all[\"speed_diff\"] = df_all.speed_ref - df_all.speed_scen\n",
    "diff = df_all[df_all.speed_diff > 0]\n",
    "\n",
    "# Print results\n",
    "print(f\"Number of all connections: {len(df_all.index)}\")\n",
    "print(f\"Different average speed in {len(diff.index)} connections\")\n",
    "print(df_all.head(20))"
   ]
  },
  {
   "cell_type": "code",
   "execution_count": null,
   "id": "9859bb70-058e-4587-92eb-6ef469521242",
   "metadata": {},
   "outputs": [],
   "source": []
  }
 ],
 "metadata": {
  "kernelspec": {
   "display_name": "quetzal_env",
   "language": "python",
   "name": "quetzal_env"
  },
  "language_info": {
   "codemirror_mode": {
    "name": "ipython",
    "version": 3
   },
   "file_extension": ".py",
   "mimetype": "text/x-python",
   "name": "python",
   "nbconvert_exporter": "python",
   "pygments_lexer": "ipython3",
   "version": "3.10.9"
  }
 },
 "nbformat": 4,
 "nbformat_minor": 5
}
