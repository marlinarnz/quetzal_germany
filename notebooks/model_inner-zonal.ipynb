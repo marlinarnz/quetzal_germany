{
 "cells": [
  {
   "cell_type": "code",
   "execution_count": null,
   "metadata": {},
   "outputs": [],
   "source": [
    "import sys # for automation and parallelisation\n",
    "manual, scenario = (True, 'base') if 'ipykernel' in sys.argv[0] else (False, sys.argv[1])"
   ]
  },
  {
   "cell_type": "code",
   "execution_count": null,
   "metadata": {},
   "outputs": [],
   "source": [
    "import numpy as np\n",
    "import pandas as pd\n",
    "from quetzal.model import stepmodel\n",
    "from quetzal.io import excel"
   ]
  },
  {
   "cell_type": "markdown",
   "metadata": {},
   "source": [
    "# Inner-zonal assignment\n",
    "## Saves transport activity within zones\n",
    "## Needs inner-zonal volumes and modal split"
   ]
  },
  {
   "cell_type": "code",
   "execution_count": null,
   "metadata": {},
   "outputs": [],
   "source": [
    "input_path = '../input/'\n",
    "output_path = '../output/' + scenario + '/'\n",
    "model_path = '../model/' + scenario + '/'"
   ]
  },
  {
   "cell_type": "code",
   "execution_count": null,
   "metadata": {},
   "outputs": [],
   "source": [
    "# Load scenario parameters\n",
    "params = excel.read_var(file='../input/parameters.xls', scenario=scenario)"
   ]
  },
  {
   "cell_type": "code",
   "execution_count": null,
   "metadata": {},
   "outputs": [],
   "source": [
    "try:\n",
    "    sm = stepmodel.read_json(model_path + 'de_zones')\n",
    "except FileNotFoundError:\n",
    "    sm = stepmodel.read_json(model_path.replace(scenario, 'base') + 'de_zones')"
   ]
  },
  {
   "cell_type": "code",
   "execution_count": null,
   "metadata": {},
   "outputs": [],
   "source": [
    "od_cols = ['origin', 'destination']\n",
    "v_choice = stepmodel.read_zippedpickles(model_path + 'de_volumes_choice')\n",
    "v_distr = stepmodel.read_zippedpickles(model_path + 'de_volumes_distribution')\n",
    "sm.volumes = v_choice.volumes.merge(\n",
    "    v_distr.volumes,\n",
    "    on=od_cols, how='outer'\n",
    ").reset_index().fillna(0)"
   ]
  },
  {
   "cell_type": "code",
   "execution_count": null,
   "metadata": {},
   "outputs": [],
   "source": [
    "# Reshape volumes for inner-zonal trips\n",
    "sm.volumes = sm.volumes.loc[sm.volumes['origin']==sm.volumes['destination']\n",
    "                           ].drop(['destination', 'index', 'level_0'], axis=1, errors='ignore'\n",
    "                                 ).set_index('origin', drop=True)\n",
    "segments = list(sm.volumes.columns)"
   ]
  },
  {
   "cell_type": "markdown",
   "metadata": {},
   "source": [
    "## Modal split and pkm"
   ]
  },
  {
   "cell_type": "code",
   "execution_count": null,
   "metadata": {},
   "outputs": [],
   "source": [
    "print('Trip volumes by mode')\n",
    "# Calculate modal split from parameters\n",
    "sm.volumes.columns = pd.MultiIndex.from_tuples([(c, 0) for c in sm.volumes.columns])\n",
    "sm.volumes.columns.names = ['segment', 'mode']\n",
    "modes = [m.strip() for m in params['inner-zonal']['modes'].split(';')]\n",
    "for seg in segments:\n",
    "    for mode in modes:\n",
    "        sm.volumes[(seg+'_volume', mode)] = 0\n",
    "sm.volumes = sm.volumes.astype(float)\n",
    "for u in sm.zones['urbanisation'].unique():\n",
    "    mask = sm.zones['urbanisation']==u\n",
    "    for seg in segments:\n",
    "        for mode in modes:\n",
    "            sm.volumes.loc[mask, (seg+'_volume', mode)] = \\\n",
    "                sm.volumes.loc[mask, (seg, 0)] * params['inner-zonal'][str(u)+'_'+seg+'_'+mode]\n",
    "sm.volumes.drop([(s, 0) for s in segments], axis=1, inplace=True)\n",
    "print('Billion trips per year: ', np.round(sm.volumes.sum().unstack().sum() / 1e9, 2))"
   ]
  },
  {
   "cell_type": "code",
   "execution_count": null,
   "metadata": {},
   "outputs": [],
   "source": [
    "print('Passenger kilometres')\n",
    "# Calculate inner-zonal mean distance through zone size\n",
    "for seg in segments:\n",
    "    for mode in modes:\n",
    "        dist = np.power(sm.zones['area'], params['inner-zonal']['distance_factor_'+mode])\n",
    "        sm.volumes[(seg+'_pkm', mode)] = dist * sm.volumes[(seg+'_volume', mode)]\n",
    "        sm.volumes[(seg+'_dist', mode)] = dist\n",
    "pkm_cols = [(seg+'_pkm', mode) for mode in modes for seg in segments]\n",
    "print(sm.volumes[pkm_cols].sum().unstack(level=1).sum() / 1e9)"
   ]
  },
  {
   "cell_type": "code",
   "execution_count": null,
   "metadata": {},
   "outputs": [],
   "source": [
    "print('Pkm per car: {}'.format(sm.volumes[pkm_cols].sum().unstack(level=1).sum().loc['car']\n",
    "                               / params['vehicles']['car'] / params['car_occ']['all']))"
   ]
  },
  {
   "cell_type": "code",
   "execution_count": null,
   "metadata": {},
   "outputs": [],
   "source": [
    "print('Mean distances')\n",
    "dist_cols = [(seg+'_dist', mode) for mode in modes for seg in segments]\n",
    "print(sm.volumes[dist_cols].mean().unstack(level=1).mean())"
   ]
  },
  {
   "cell_type": "markdown",
   "metadata": {},
   "source": [
    "### Generate time\n",
    "\n",
    "Average duration of a trip"
   ]
  },
  {
   "cell_type": "code",
   "execution_count": null,
   "metadata": {},
   "outputs": [],
   "source": [
    "t_map = {}\n",
    "t_map['rail'] = {1: 30, 2: 30, 3: 30}\n",
    "t_map['bus'] = {1: 30, 2: 30, 3: 30}\n",
    "t_map['car'] = {1: 30, 2: 30, 3: 30}\n",
    "t_map['non-motorised'] = {1: 10, 2: 15, 3: 15}\n",
    "for seg in segments:\n",
    "    for mode in modes:\n",
    "        sm.volumes[(seg+'_time', mode)] = sm.volumes[(seg+'_dist', mode)] \\\n",
    "            / sm.zones.loc[sm.volumes.index, 'urbanisation'].map(t_map[mode])"
   ]
  },
  {
   "cell_type": "code",
   "execution_count": null,
   "metadata": {},
   "outputs": [],
   "source": [
    "print('Mean durations in minutes')\n",
    "time_cols = [(seg+'_time', mode) for mode in modes for seg in segments]\n",
    "print(sm.volumes[time_cols].mean().unstack(level=1).mean() * 60)"
   ]
  },
  {
   "cell_type": "markdown",
   "metadata": {},
   "source": [
    "### Generate prices\n",
    "\n",
    "See cal11 for values and explanation"
   ]
  },
  {
   "cell_type": "code",
   "execution_count": null,
   "metadata": {},
   "outputs": [],
   "source": [
    "vc_car = params['car_var_cost']\n",
    "fix_car = params['car_fix_cost']\n",
    "parking_cost = params['parking_cost']\n",
    "n = params['car_occ']['all']\n",
    "for seg in segments:\n",
    "    sm.volumes[(seg+'_price', 'rail')] = params['rail_short']['min'] \\\n",
    "        * params['rail_short']['reduction_share_'+seg]\n",
    "    sm.volumes[(seg+'_price', 'bus')] = sm.zones.loc[sm.volumes.index, 'urbanisation'].map(params['bus']) \\\n",
    "        * params['bus']['multimodal_share'] * params['rail_short']['reduction_share_'+seg]\n",
    "    sm.volumes[(seg+'_price', 'car')] = [\n",
    "        (d * vc_car[seg] + parking_cost[u]) / n + fix_car[seg] * t\n",
    "        for d, u, t in zip(sm.volumes[(seg+'_dist', 'car')],\n",
    "                           sm.zones.loc[sm.volumes.index, 'urbanisation'],\n",
    "                           sm.volumes[(seg+'_time', 'car')])]\n",
    "    sm.volumes[(seg+'_price', 'non-motorised')] = 0"
   ]
  },
  {
   "cell_type": "code",
   "execution_count": null,
   "metadata": {},
   "outputs": [],
   "source": [
    "print('Mean prices')\n",
    "price_cols = [(seg+'_price', mode) for mode in modes for seg in segments]\n",
    "print(sm.volumes[price_cols].mean().unstack(level=1).mean())"
   ]
  },
  {
   "cell_type": "markdown",
   "metadata": {},
   "source": [
    "## Save to excel\n",
    "\n",
    "Merge volumes and averages into a suitable output format. It should contain columns for\n",
    "* volumes\n",
    "* passenger kilometer\n",
    "* vehicle kilometer\n",
    "* av. distance\n",
    "* av. time\n",
    "* av. price"
   ]
  },
  {
   "cell_type": "code",
   "execution_count": null,
   "metadata": {},
   "outputs": [],
   "source": [
    "df = sm.volumes[[(seg+'_volume', mode) for mode in modes for seg in segments]\n",
    "               ].stack(level=1).stack().rename('volumes').reset_index(level=[1,2])\n",
    "df['segment'] = df['segment'].str[:-7]\n",
    "df['mode'] = df['mode'].replace({'non-motorised': 'walk'})\n",
    "df['urb'] = sm.zones.loc[df.index, 'urbanisation']\n",
    "df['length'] = sm.volumes[dist_cols].stack(level=1).stack().reset_index(level=[1,2])[0]\n",
    "df['time'] = sm.volumes[time_cols].stack(level=1).stack().reset_index(level=[1,2])[0]\n",
    "df['price'] = sm.volumes[price_cols].stack(level=1).stack().reset_index(level=[1,2])[0]\n",
    "df['pkm'] = sm.volumes[pkm_cols].stack(level=1).stack().reset_index(level=[1,2])[0]\n",
    "df['vkm'] = df['pkm'] * n * (df['mode']=='car').astype(int)"
   ]
  },
  {
   "cell_type": "code",
   "execution_count": null,
   "metadata": {},
   "outputs": [],
   "source": [
    "# Create an aggregated version (NUTS2-level and no segments)\n",
    "df['NUTS1'] = df.index.map(sm.zones['NUTS_ID']).str[:3]\n",
    "def weighted_average(data, data_col, weight_col, by_col):\n",
    "    data['_data_times_weight'] = data[data_col] * data[weight_col]\n",
    "    data['_weight_where_notnull'] = data[weight_col] * pd.notnull(data[data_col])\n",
    "    g = data.groupby(by_col)\n",
    "    result = g['_data_times_weight'].sum() / g['_weight_where_notnull'].sum()\n",
    "    del data['_data_times_weight'], data['_weight_where_notnull']\n",
    "    return result\n",
    "df_agg = df.groupby(['NUTS1', 'mode']).agg({'volumes': 'sum', 'pkm': 'sum', 'vkm': 'sum'})\n",
    "for col in ['length', 'time', 'price']:\n",
    "    df_agg[col] = weighted_average(df, col, 'volumes', ['NUTS1', 'mode'])"
   ]
  },
  {
   "cell_type": "code",
   "execution_count": null,
   "metadata": {},
   "outputs": [],
   "source": [
    "# Save an excel\n",
    "with pd.ExcelWriter(output_path + 'inner_zone.xlsx') as writer:\n",
    "    df.to_excel(writer, sheet_name='inner_zone')\n",
    "    df_agg.to_excel(writer, sheet_name='agg')"
   ]
  },
  {
   "cell_type": "code",
   "execution_count": null,
   "metadata": {},
   "outputs": [],
   "source": [
    "# Save disaggregated pkm as CSV\n",
    "sm.volumes[pkm_cols].to_csv(output_path + 'inner_zone_pkm.csv')"
   ]
  }
 ],
 "metadata": {
  "kernelspec": {
   "display_name": "Python 3 (ipykernel)",
   "language": "python",
   "name": "python3"
  },
  "language_info": {
   "codemirror_mode": {
    "name": "ipython",
    "version": 3
   },
   "file_extension": ".py",
   "mimetype": "text/x-python",
   "name": "python",
   "nbconvert_exporter": "python",
   "pygments_lexer": "ipython3",
   "version": "3.10.14"
  }
 },
 "nbformat": 4,
 "nbformat_minor": 4
}
