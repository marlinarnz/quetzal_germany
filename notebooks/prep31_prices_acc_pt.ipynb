{
 "cells": [
  {
   "cell_type": "code",
   "execution_count": 1,
   "metadata": {},
   "outputs": [
    {
     "name": "stderr",
     "output_type": "stream",
     "text": [
      "In C:\\Users\\marlin.arnz\\AppData\\Local\\Continuum\\miniconda3\\envs\\quetzal\\lib\\site-packages\\matplotlib\\mpl-data\\stylelib\\_classic_test.mplstyle: \n",
      "The text.latex.preview rcparam was deprecated in Matplotlib 3.3 and will be removed two minor releases later.\n",
      "In C:\\Users\\marlin.arnz\\AppData\\Local\\Continuum\\miniconda3\\envs\\quetzal\\lib\\site-packages\\matplotlib\\mpl-data\\stylelib\\_classic_test.mplstyle: \n",
      "The mathtext.fallback_to_cm rcparam was deprecated in Matplotlib 3.3 and will be removed two minor releases later.\n",
      "In C:\\Users\\marlin.arnz\\AppData\\Local\\Continuum\\miniconda3\\envs\\quetzal\\lib\\site-packages\\matplotlib\\mpl-data\\stylelib\\_classic_test.mplstyle: Support for setting the 'mathtext.fallback_to_cm' rcParam is deprecated since 3.3 and will be removed two minor releases later; use 'mathtext.fallback : 'cm' instead.\n",
      "In C:\\Users\\marlin.arnz\\AppData\\Local\\Continuum\\miniconda3\\envs\\quetzal\\lib\\site-packages\\matplotlib\\mpl-data\\stylelib\\_classic_test.mplstyle: \n",
      "The validate_bool_maybe_none function was deprecated in Matplotlib 3.3 and will be removed two minor releases later.\n",
      "In C:\\Users\\marlin.arnz\\AppData\\Local\\Continuum\\miniconda3\\envs\\quetzal\\lib\\site-packages\\matplotlib\\mpl-data\\stylelib\\_classic_test.mplstyle: \n",
      "The savefig.jpeg_quality rcparam was deprecated in Matplotlib 3.3 and will be removed two minor releases later.\n",
      "In C:\\Users\\marlin.arnz\\AppData\\Local\\Continuum\\miniconda3\\envs\\quetzal\\lib\\site-packages\\matplotlib\\mpl-data\\stylelib\\_classic_test.mplstyle: \n",
      "The keymap.all_axes rcparam was deprecated in Matplotlib 3.3 and will be removed two minor releases later.\n",
      "In C:\\Users\\marlin.arnz\\AppData\\Local\\Continuum\\miniconda3\\envs\\quetzal\\lib\\site-packages\\matplotlib\\mpl-data\\stylelib\\_classic_test.mplstyle: \n",
      "The animation.avconv_path rcparam was deprecated in Matplotlib 3.3 and will be removed two minor releases later.\n",
      "In C:\\Users\\marlin.arnz\\AppData\\Local\\Continuum\\miniconda3\\envs\\quetzal\\lib\\site-packages\\matplotlib\\mpl-data\\stylelib\\_classic_test.mplstyle: \n",
      "The animation.avconv_args rcparam was deprecated in Matplotlib 3.3 and will be removed two minor releases later.\n"
     ]
    }
   ],
   "source": [
    "import math\n",
    "import pandas as pd\n",
    "import numpy as np\n",
    "from geopy.distance import geodesic\n",
    "import matplotlib.pyplot as plt\n",
    "from quetzal.model import stepmodel\n",
    "from syspy.skims import skims"
   ]
  },
  {
   "cell_type": "markdown",
   "metadata": {},
   "source": [
    "# Preparation of the LoS tables\n",
    "## Saves price and accessibility attribute to PT LoS table\n",
    "## Needs PT LoS table and links"
   ]
  },
  {
   "cell_type": "code",
   "execution_count": 2,
   "metadata": {},
   "outputs": [],
   "source": [
    "input_path = '../input_static/'\n",
    "output_path = '../output/'\n",
    "model_path = '../model/'"
   ]
  },
  {
   "cell_type": "code",
   "execution_count": 3,
   "metadata": {},
   "outputs": [],
   "source": [
    "los = stepmodel.read_json(model_path + 'de_pt_los')\n",
    "sm = stepmodel.read_json(model_path + 'de_pt_network_agg')"
   ]
  },
  {
   "cell_type": "code",
   "execution_count": 4,
   "metadata": {},
   "outputs": [],
   "source": [
    "sm.pt_los = los.pt_los"
   ]
  },
  {
   "cell_type": "code",
   "execution_count": 5,
   "metadata": {},
   "outputs": [
    {
     "data": {
      "text/html": [
       "<div>\n",
       "<style scoped>\n",
       "    .dataframe tbody tr th:only-of-type {\n",
       "        vertical-align: middle;\n",
       "    }\n",
       "\n",
       "    .dataframe tbody tr th {\n",
       "        vertical-align: top;\n",
       "    }\n",
       "\n",
       "    .dataframe thead th {\n",
       "        text-align: right;\n",
       "    }\n",
       "</style>\n",
       "<table border=\"1\" class=\"dataframe\">\n",
       "  <thead>\n",
       "    <tr style=\"text-align: right;\">\n",
       "      <th></th>\n",
       "      <th>route_type</th>\n",
       "      <th>geometry</th>\n",
       "      <th>a</th>\n",
       "      <th>b</th>\n",
       "      <th>link_sequence</th>\n",
       "      <th>route_id</th>\n",
       "      <th>time</th>\n",
       "      <th>trip_id</th>\n",
       "    </tr>\n",
       "    <tr>\n",
       "      <th>index</th>\n",
       "      <th></th>\n",
       "      <th></th>\n",
       "      <th></th>\n",
       "      <th></th>\n",
       "      <th></th>\n",
       "      <th></th>\n",
       "      <th></th>\n",
       "      <th></th>\n",
       "    </tr>\n",
       "  </thead>\n",
       "  <tbody>\n",
       "    <tr>\n",
       "      <th>r_s_153543</th>\n",
       "      <td>rail_short</td>\n",
       "      <td>LINESTRING (9.85771 49.65675, 9.85445 49.63444)</td>\n",
       "      <td>r_s_n_9815</td>\n",
       "      <td>r_s_n_4748</td>\n",
       "      <td>5</td>\n",
       "      <td>rail_short_17</td>\n",
       "      <td>120</td>\n",
       "      <td>rail_short_43933</td>\n",
       "    </tr>\n",
       "    <tr>\n",
       "      <th>coach_5651</th>\n",
       "      <td>coach</td>\n",
       "      <td>LINESTRING (10.67484 50.64658, 11.04061 50.97414)</td>\n",
       "      <td>coach_n_FLIXBUS:29</td>\n",
       "      <td>coach_n_FLIXBUS:744</td>\n",
       "      <td>1</td>\n",
       "      <td>coach_FLIXBUS:055</td>\n",
       "      <td>3300</td>\n",
       "      <td>coach_FLIXBUS:055:8:06:30:00Z-8</td>\n",
       "    </tr>\n",
       "  </tbody>\n",
       "</table>\n",
       "</div>"
      ],
      "text/plain": [
       "            route_type                                           geometry  \\\n",
       "index                                                                       \n",
       "r_s_153543  rail_short    LINESTRING (9.85771 49.65675, 9.85445 49.63444)   \n",
       "coach_5651       coach  LINESTRING (10.67484 50.64658, 11.04061 50.97414)   \n",
       "\n",
       "                             a                    b  link_sequence  \\\n",
       "index                                                                \n",
       "r_s_153543          r_s_n_9815           r_s_n_4748              5   \n",
       "coach_5651  coach_n_FLIXBUS:29  coach_n_FLIXBUS:744              1   \n",
       "\n",
       "                     route_id  time                          trip_id  \n",
       "index                                                                 \n",
       "r_s_153543      rail_short_17   120                 rail_short_43933  \n",
       "coach_5651  coach_FLIXBUS:055  3300  coach_FLIXBUS:055:8:06:30:00Z-8  "
      ]
     },
     "execution_count": 5,
     "metadata": {},
     "output_type": "execute_result"
    }
   ],
   "source": [
    "sm.links.sample(2)"
   ]
  },
  {
   "cell_type": "code",
   "execution_count": 6,
   "metadata": {},
   "outputs": [],
   "source": [
    "if 'route_type_disagg' in sm.pt_los.columns:\n",
    "    sm.pt_los['route_type'] = sm.pt_los['route_type_disagg']"
   ]
  },
  {
   "cell_type": "markdown",
   "metadata": {},
   "source": [
    "## Prices"
   ]
  },
  {
   "cell_type": "code",
   "execution_count": 7,
   "metadata": {},
   "outputs": [],
   "source": [
    "# Cost function\n",
    "def monetary_cost(length, rf, vc, ac, al, ec, el, sf):\n",
    "    \"\"\" calculate monetary cost of travelling one O-D realtion within the LoS table\n",
    "    :param length: length of main leg in meter\n",
    "    :param df: regression factor for length (to be calibrated beforehand)\n",
    "    :param vc: distance-specific transport cost\n",
    "    :param ac: access cost\n",
    "    :param al: access link length (m)\n",
    "    :param ec: egress cost\n",
    "    :param el: egress link length (m)\n",
    "    :param sf: sharing factor (e.g. occupancy factor of a car)\n",
    "    :return: monetary cost\"\"\"\n",
    "    return (math.pow(length, rf) * vc + ac * al + ec * el) / sf"
   ]
  },
  {
   "cell_type": "code",
   "execution_count": 8,
   "metadata": {},
   "outputs": [],
   "source": [
    "# Generate length for PT links as the crow flies\n",
    "if 'length' not in sm.links.columns:\n",
    "    sm.links['length'] = skims.distance_from_geometry(sm.links['geometry']).astype(int)"
   ]
  },
  {
   "cell_type": "code",
   "execution_count": 9,
   "metadata": {},
   "outputs": [],
   "source": [
    "sm.links['price'] = 0"
   ]
  },
  {
   "cell_type": "code",
   "execution_count": 10,
   "metadata": {},
   "outputs": [],
   "source": [
    "type_dict = sm.links['route_type'].to_dict()"
   ]
  },
  {
   "cell_type": "markdown",
   "metadata": {},
   "source": [
    "### Rail short-distance\n",
    "Short-distance rail services have the price structure stated in the DB document. However, most people who use it have some kind of abonement and don't buy single trip tickets. cal10 shows that for trips under 50km distance there is a 50% share of permanent abonements. Moreover, it doesn't make sense to choose short-distance rail services on long distances. Still, if so, people choose the \"Quer-durchs-Land-Ticket\" for 42€."
   ]
  },
  {
   "cell_type": "code",
   "execution_count": 11,
   "metadata": {},
   "outputs": [],
   "source": [
    "mask = sm.links['route_type']=='rail_short'"
   ]
  },
  {
   "cell_type": "code",
   "execution_count": 12,
   "metadata": {},
   "outputs": [
    {
     "data": {
      "text/html": [
       "<div>\n",
       "<style scoped>\n",
       "    .dataframe tbody tr th:only-of-type {\n",
       "        vertical-align: middle;\n",
       "    }\n",
       "\n",
       "    .dataframe tbody tr th {\n",
       "        vertical-align: top;\n",
       "    }\n",
       "\n",
       "    .dataframe thead th {\n",
       "        text-align: right;\n",
       "    }\n",
       "</style>\n",
       "<table border=\"1\" class=\"dataframe\">\n",
       "  <thead>\n",
       "    <tr style=\"text-align: right;\">\n",
       "      <th></th>\n",
       "      <th>km</th>\n",
       "      <th>single_trip_second_class</th>\n",
       "      <th>single_trip_first_class</th>\n",
       "      <th>return_trip_second_class</th>\n",
       "      <th>return_trip_first_class</th>\n",
       "    </tr>\n",
       "  </thead>\n",
       "  <tbody>\n",
       "    <tr>\n",
       "      <th>0</th>\n",
       "      <td>37.0</td>\n",
       "      <td>10.1</td>\n",
       "      <td>16.2</td>\n",
       "      <td>20.2</td>\n",
       "      <td>32.4</td>\n",
       "    </tr>\n",
       "    <tr>\n",
       "      <th>1</th>\n",
       "      <td>38.0</td>\n",
       "      <td>10.3</td>\n",
       "      <td>16.5</td>\n",
       "      <td>20.6</td>\n",
       "      <td>33.0</td>\n",
       "    </tr>\n",
       "    <tr>\n",
       "      <th>2</th>\n",
       "      <td>39.0</td>\n",
       "      <td>10.4</td>\n",
       "      <td>16.6</td>\n",
       "      <td>20.8</td>\n",
       "      <td>33.2</td>\n",
       "    </tr>\n",
       "  </tbody>\n",
       "</table>\n",
       "</div>"
      ],
      "text/plain": [
       "     km  single_trip_second_class  single_trip_first_class  \\\n",
       "0  37.0                      10.1                     16.2   \n",
       "1  38.0                      10.3                     16.5   \n",
       "2  39.0                      10.4                     16.6   \n",
       "\n",
       "   return_trip_second_class  return_trip_first_class  \n",
       "0                      20.2                     32.4  \n",
       "1                      20.6                     33.0  \n",
       "2                      20.8                     33.2  "
      ]
     },
     "execution_count": 12,
     "metadata": {},
     "output_type": "execute_result"
    }
   ],
   "source": [
    "# Load list of distance-related cost\n",
    "c = pd.read_csv(input_path + 'level_of_service/DB_2020_preisliste_fahrplanjahr_2020.csv')\n",
    "c.head(3)"
   ]
  },
  {
   "cell_type": "code",
   "execution_count": 13,
   "metadata": {},
   "outputs": [
    {
     "data": {
      "text/plain": [
       "<AxesSubplot:>"
      ]
     },
     "execution_count": 13,
     "metadata": {},
     "output_type": "execute_result"
    },
    {
     "data": {
      "image/png": "[encoded data removed]",
      "text/plain": [
       "<Figure size 216x216 with 1 Axes>"
      ]
     },
     "metadata": {
      "needs_background": "light"
     },
     "output_type": "display_data"
    }
   ],
   "source": [
    "sm.links.loc[mask, 'length'].hist(bins=20, figsize=(3,3), log=True)"
   ]
  },
  {
   "cell_type": "code",
   "execution_count": 14,
   "metadata": {},
   "outputs": [
    {
     "name": "stdout",
     "output_type": "stream",
     "text": [
      "y=0.233*x+1.468\n"
     ]
    },
    {
     "data": {
      "image/png": "[encoded data removed]",
      "text/plain": [
       "<Figure size 432x288 with 1 Axes>"
      ]
     },
     "metadata": {
      "needs_background": "light"
     },
     "output_type": "display_data"
    }
   ],
   "source": [
    "# Use second class single trip prices\n",
    "# Choose a fit for a distance range up to 60 km (longer links are rare)\n",
    "z = np.polyfit(c.loc[0:30, 'km'], c.loc[0:30, 'single_trip_second_class'], deg=1)\n",
    "p = np.poly1d(z)\n",
    "plt.plot(c.loc[0:30, 'km'], p(c.loc[0:30, 'km']), linestyle='--', marker=' ', label='Regression')\n",
    "plt.plot(c.loc[0:30, 'km'], c.loc[0:30, 'single_trip_second_class'], linestyle='--', marker=' ', label='2nd class')\n",
    "plt.legend()\n",
    "print('y={}*x+{}'.format(np.round(z[0], 3), np.round(z[1], 3)))"
   ]
  },
  {
   "cell_type": "code",
   "execution_count": 15,
   "metadata": {},
   "outputs": [],
   "source": [
    "# Apply the slope to links\n",
    "sm.links.loc[mask, 'price'] = sm.links.loc[mask, 'length'].apply(lambda d: d*0.233/1000)"
   ]
  },
  {
   "cell_type": "code",
   "execution_count": 16,
   "metadata": {},
   "outputs": [],
   "source": [
    "# Sum link cost\n",
    "price_dict = sm.links.loc[mask, 'price'].to_dict()\n",
    "sm.pt_los.loc[sm.pt_los['route_type']=='rail_short', 'price'] = \\\n",
    "    sm.pt_los.loc[sm.pt_los['route_type']=='rail_short', 'link_path'].apply(\n",
    "        lambda l: sum([price_dict[link] if type_dict[link]=='rail_short' else 0\n",
    "                       for link in l]))"
   ]
  },
  {
   "cell_type": "code",
   "execution_count": 17,
   "metadata": {},
   "outputs": [],
   "source": [
    "# Add the intercept\n",
    "sm.pt_los.loc[sm.pt_los['route_type']=='rail_short', 'price'] += 1.468"
   ]
  },
  {
   "cell_type": "code",
   "execution_count": 18,
   "metadata": {},
   "outputs": [],
   "source": [
    "# Add a price floor for short-distance rail (and cap for consistency)\n",
    "sm.pt_los.loc[sm.pt_los['route_type']=='rail_short', 'price'] = np.clip(\n",
    "    sm.pt_los.loc[sm.pt_los['route_type']=='rail_short', 'price'], 5, 42)"
   ]
  },
  {
   "cell_type": "code",
   "execution_count": 19,
   "metadata": {},
   "outputs": [],
   "source": [
    "# Add abonements share for short-distance rail\n",
    "mask = (sm.pt_los['route_type']=='rail_short') & (sm.pt_los['length']<50000)\n",
    "sm.pt_los.loc[mask, 'price'] = sm.pt_los.loc[mask, 'price'] / 2"
   ]
  },
  {
   "cell_type": "code",
   "execution_count": 20,
   "metadata": {},
   "outputs": [
    {
     "data": {
      "text/plain": [
       "<matplotlib.legend.Legend at 0x116876f4430>"
      ]
     },
     "execution_count": 20,
     "metadata": {},
     "output_type": "execute_result"
    },
    {
     "data": {
      "image/png": "[encoded data removed]",
      "text/plain": [
       "<Figure size 432x288 with 1 Axes>"
      ]
     },
     "metadata": {
      "needs_background": "light"
     },
     "output_type": "display_data"
    }
   ],
   "source": [
    "x = sm.pt_los.loc[sm.pt_los['route_type']=='rail_short']['length'] / 1000\n",
    "y = sm.pt_los.loc[sm.pt_los['route_type']=='rail_short']['price']\n",
    "plt.scatter(x, y, marker='o', alpha=.01, label='price')\n",
    "plt.legend()"
   ]
  },
  {
   "cell_type": "code",
   "execution_count": 21,
   "metadata": {},
   "outputs": [
    {
     "data": {
      "text/plain": [
       "2805"
      ]
     },
     "execution_count": 21,
     "metadata": {},
     "output_type": "execute_result"
    }
   ],
   "source": [
    "len(sm.pt_los.loc[(sm.pt_los['route_type']=='rail_short') & (sm.pt_los['price']<5)])"
   ]
  },
  {
   "cell_type": "markdown",
   "metadata": {},
   "source": [
    "### Rail long distance\n",
    "\n",
    "Long-distance services have a complicated price structure that is not published by DB. Thus, we need to make assumptions based on a regression analysis of observation data (see prep32):\n",
    "\n",
    "* Rail transport is purely path-distance and -duration-dependent\n",
    "* Price dependency is linear\n",
    "* There is a price cap of 139 EUR\n",
    "* Assume 50/50 distribution of Sparpreis and Flexpreis"
   ]
  },
  {
   "cell_type": "code",
   "execution_count": 22,
   "metadata": {},
   "outputs": [],
   "source": [
    "# Apply the slope to links\n",
    "mask = sm.links['route_type']=='rail_long'\n",
    "sm.links.loc[mask, 'price'] = [d*(0.01289186+0.0706054)/2/1000 + t*(6.3723344+7.73982175)/2/3600\n",
    "    for d,t in zip(sm.links.loc[mask, 'length'], sm.links.loc[mask, 'time'])]"
   ]
  },
  {
   "cell_type": "code",
   "execution_count": 23,
   "metadata": {},
   "outputs": [],
   "source": [
    "# Sum link cost\n",
    "price_dict = sm.links.loc[mask, 'price'].to_dict()\n",
    "sm.pt_los.loc[sm.pt_los['route_type']=='rail_long', 'price'] = \\\n",
    "    sm.pt_los.loc[sm.pt_los['route_type']=='rail_long', 'link_path'].apply(\n",
    "        lambda l: sum([price_dict[link] if type_dict[link]=='rail_long' else 0\n",
    "                       for link in l]))"
   ]
  },
  {
   "cell_type": "code",
   "execution_count": 24,
   "metadata": {},
   "outputs": [],
   "source": [
    "# Add an intercept\n",
    "sm.pt_los.loc[sm.pt_los['route_type']=='rail_long', 'price'] += (4.66+20.23)/2"
   ]
  },
  {
   "cell_type": "code",
   "execution_count": 25,
   "metadata": {},
   "outputs": [],
   "source": [
    "# Add a price cap and floor for long-distance rail\n",
    "sm.pt_los.loc[sm.pt_los['route_type']=='rail_long', 'price'] = np.clip(\n",
    "    sm.pt_los.loc[sm.pt_los['route_type']=='rail_long', 'price'], 19, 139)"
   ]
  },
  {
   "cell_type": "code",
   "execution_count": 26,
   "metadata": {},
   "outputs": [
    {
     "data": {
      "text/plain": [
       "<matplotlib.legend.Legend at 0x1168764fb20>"
      ]
     },
     "execution_count": 26,
     "metadata": {},
     "output_type": "execute_result"
    },
    {
     "data": {
      "image/png": "[encoded data removed]",
      "text/plain": [
       "<Figure size 432x288 with 1 Axes>"
      ]
     },
     "metadata": {
      "needs_background": "light"
     },
     "output_type": "display_data"
    }
   ],
   "source": [
    "x = sm.pt_los.loc[sm.pt_los['route_type']=='rail_long']['length'] / 1000\n",
    "y = sm.pt_los.loc[sm.pt_los['route_type']=='rail_long']['price']\n",
    "plt.scatter(x, y, marker='o', alpha=.01, label='price')\n",
    "plt.legend()"
   ]
  },
  {
   "cell_type": "markdown",
   "metadata": {},
   "source": [
    "### Coach\n",
    "\n",
    "Assume a linear cost function based on distance. There are several sample studies available:\n",
    "* Average cost in Germany (0.107 EUR/pkm): https://de.statista.com/statistik/daten/studie/380601/umfrage/kilometerpreise-fernbuslinien-in-deutschland/\n",
    "* Average cost on selected OD pairs with cheapest prices: https://www.fernbusse.de/aktuelles/studie-fernbuspreise-steigen-leicht-bahntickets-guenstiger-1628/\n",
    "\n",
    "The latter is more realistic"
   ]
  },
  {
   "cell_type": "code",
   "execution_count": 27,
   "metadata": {},
   "outputs": [
    {
     "data": {
      "text/html": [
       "<div>\n",
       "<style scoped>\n",
       "    .dataframe tbody tr th:only-of-type {\n",
       "        vertical-align: middle;\n",
       "    }\n",
       "\n",
       "    .dataframe tbody tr th {\n",
       "        vertical-align: top;\n",
       "    }\n",
       "\n",
       "    .dataframe thead th {\n",
       "        text-align: right;\n",
       "    }\n",
       "</style>\n",
       "<table border=\"1\" class=\"dataframe\">\n",
       "  <thead>\n",
       "    <tr style=\"text-align: right;\">\n",
       "      <th></th>\n",
       "      <th>origin</th>\n",
       "      <th>origin_name</th>\n",
       "      <th>destination</th>\n",
       "      <th>destination_name</th>\n",
       "      <th>average_price</th>\n",
       "      <th>lowest_price</th>\n",
       "      <th>average_price_pkm</th>\n",
       "    </tr>\n",
       "  </thead>\n",
       "  <tbody>\n",
       "    <tr>\n",
       "      <th>0</th>\n",
       "      <td>DE300</td>\n",
       "      <td>Berlin</td>\n",
       "      <td>DE712</td>\n",
       "      <td>Frankfurt</td>\n",
       "      <td>29.31</td>\n",
       "      <td>22.0</td>\n",
       "      <td>0.053</td>\n",
       "    </tr>\n",
       "    <tr>\n",
       "      <th>1</th>\n",
       "      <td>DE300</td>\n",
       "      <td>Berlin</td>\n",
       "      <td>DE600</td>\n",
       "      <td>Hamburg</td>\n",
       "      <td>14.33</td>\n",
       "      <td>7.9</td>\n",
       "      <td>0.050</td>\n",
       "    </tr>\n",
       "    <tr>\n",
       "      <th>2</th>\n",
       "      <td>DE300</td>\n",
       "      <td>Berlin</td>\n",
       "      <td>DEA23</td>\n",
       "      <td>Köln</td>\n",
       "      <td>22.61</td>\n",
       "      <td>14.9</td>\n",
       "      <td>0.039</td>\n",
       "    </tr>\n",
       "  </tbody>\n",
       "</table>\n",
       "</div>"
      ],
      "text/plain": [
       "  origin origin_name destination destination_name  average_price  \\\n",
       "0  DE300      Berlin       DE712        Frankfurt          29.31   \n",
       "1  DE300      Berlin       DE600          Hamburg          14.33   \n",
       "2  DE300      Berlin       DEA23             Köln          22.61   \n",
       "\n",
       "   lowest_price  average_price_pkm  \n",
       "0          22.0              0.053  \n",
       "1           7.9              0.050  \n",
       "2          14.9              0.039  "
      ]
     },
     "execution_count": 27,
     "metadata": {},
     "output_type": "execute_result"
    }
   ],
   "source": [
    "# Load list of OD pair cost\n",
    "c = pd.read_excel(input_path + 'level_of_service/coach_prices_2017.xls')\n",
    "c.head(3)"
   ]
  },
  {
   "cell_type": "code",
   "execution_count": 28,
   "metadata": {},
   "outputs": [
    {
     "data": {
      "text/plain": [
       "0.056600000000000004"
      ]
     },
     "execution_count": 28,
     "metadata": {},
     "output_type": "execute_result"
    }
   ],
   "source": [
    "# Compute average of average pkm cost\n",
    "av = c['average_price_pkm'].astype(float).mean()\n",
    "av"
   ]
  },
  {
   "cell_type": "code",
   "execution_count": 29,
   "metadata": {},
   "outputs": [],
   "source": [
    "sm.links.loc[sm.links['route_type']=='coach', 'price'] = \\\n",
    "    sm.links['length'] / 1000 * av"
   ]
  },
  {
   "cell_type": "code",
   "execution_count": 30,
   "metadata": {},
   "outputs": [],
   "source": [
    "# Sum up prices in LoS table based on link fares\n",
    "price_dict = sm.links['price'].to_dict()\n",
    "sm.pt_los.loc[sm.pt_los['route_type']=='coach', 'price'] = \\\n",
    "    sm.pt_los.loc[sm.pt_los['route_type']=='coach', 'link_path'].apply(\n",
    "        lambda l: sum([price_dict[link] if type_dict[link]=='coach' else 0\n",
    "                       for link in l]))"
   ]
  },
  {
   "cell_type": "code",
   "execution_count": 31,
   "metadata": {},
   "outputs": [],
   "source": [
    "# Add a price cap and floor\n",
    "sm.pt_los.loc[sm.pt_los['route_type']=='coach', 'price'] = np.clip(\n",
    "    sm.pt_los.loc[sm.pt_los['route_type']=='coach', 'price'], 5, 60)"
   ]
  },
  {
   "cell_type": "code",
   "execution_count": 32,
   "metadata": {},
   "outputs": [
    {
     "data": {
      "text/plain": [
       "<matplotlib.legend.Legend at 0x116875e7760>"
      ]
     },
     "execution_count": 32,
     "metadata": {},
     "output_type": "execute_result"
    },
    {
     "data": {
      "image/png": "[encoded data removed]",
      "text/plain": [
       "<Figure size 432x288 with 1 Axes>"
      ]
     },
     "metadata": {
      "needs_background": "light"
     },
     "output_type": "display_data"
    }
   ],
   "source": [
    "x = sm.pt_los.loc[sm.pt_los['route_type']=='coach']['length'] / 1000\n",
    "y = sm.pt_los.loc[sm.pt_los['route_type']=='coach']['price']\n",
    "plt.scatter(x, y, marker='o', alpha=.05, label='price')\n",
    "plt.legend()"
   ]
  },
  {
   "cell_type": "markdown",
   "metadata": {},
   "source": [
    "### Air\n",
    "\n",
    "Match air links with prices from an online search in Sept. 2020"
   ]
  },
  {
   "cell_type": "code",
   "execution_count": 33,
   "metadata": {},
   "outputs": [
    {
     "name": "stdout",
     "output_type": "stream",
     "text": [
      "Average economy price: 94.30434782608695 EUR\n",
      "Average business price: 275.82608695652175 EUR\n"
     ]
    },
    {
     "data": {
      "text/plain": [
       "<AxesSubplot:xlabel='time'>"
      ]
     },
     "execution_count": 33,
     "metadata": {},
     "output_type": "execute_result"
    },
    {
     "data": {
      "image/png": "[encoded data removed]",
      "text/plain": [
       "<Figure size 432x288 with 1 Axes>"
      ]
     },
     "metadata": {
      "needs_background": "light"
     },
     "output_type": "display_data"
    }
   ],
   "source": [
    "# Load connection list\n",
    "air = pd.read_excel(input_path + 'public_transport/air_connections_germany.xls', engine='xlrd')\n",
    "air = air.loc[air['direct']==True]\n",
    "air['a'] = air['origin'].str[:3]\n",
    "air['b'] = air['destination'].str[:3]\n",
    "print('Average economy price: {} EUR'.format(air['price_economy'].mean()))\n",
    "print('Average business price: {} EUR'.format(air['price_business'].mean()))\n",
    "air[['price_business', 'price_economy', 'time']].set_index('time').plot(linestyle=' ', marker='o')"
   ]
  },
  {
   "cell_type": "code",
   "execution_count": 34,
   "metadata": {},
   "outputs": [],
   "source": [
    "# Correct air time if neccessary\n",
    "if sm.links.loc[sm.links['route_type']=='air', 'time'].mean() < 5*60:\n",
    "    # Convert time to seconds\n",
    "    sm.links.loc[sm.links['route_type']=='air', 'time'] = \\\n",
    "        sm.links.loc[sm.links['route_type']=='air', 'time'] * 60"
   ]
  },
  {
   "cell_type": "code",
   "execution_count": 35,
   "metadata": {},
   "outputs": [
    {
     "name": "stdout",
     "output_type": "stream",
     "text": [
      "0\n"
     ]
    },
    {
     "data": {
      "text/html": [
       "<div>\n",
       "<style scoped>\n",
       "    .dataframe tbody tr th:only-of-type {\n",
       "        vertical-align: middle;\n",
       "    }\n",
       "\n",
       "    .dataframe tbody tr th {\n",
       "        vertical-align: top;\n",
       "    }\n",
       "\n",
       "    .dataframe thead th {\n",
       "        text-align: right;\n",
       "    }\n",
       "</style>\n",
       "<table border=\"1\" class=\"dataframe\">\n",
       "  <thead>\n",
       "    <tr style=\"text-align: right;\">\n",
       "      <th></th>\n",
       "      <th>route_type</th>\n",
       "      <th>geometry</th>\n",
       "      <th>a</th>\n",
       "      <th>b</th>\n",
       "      <th>link_sequence</th>\n",
       "      <th>route_id</th>\n",
       "      <th>time</th>\n",
       "      <th>trip_id</th>\n",
       "      <th>length</th>\n",
       "      <th>price</th>\n",
       "    </tr>\n",
       "    <tr>\n",
       "      <th>index</th>\n",
       "      <th></th>\n",
       "      <th></th>\n",
       "      <th></th>\n",
       "      <th></th>\n",
       "      <th></th>\n",
       "      <th></th>\n",
       "      <th></th>\n",
       "      <th></th>\n",
       "      <th></th>\n",
       "      <th></th>\n",
       "    </tr>\n",
       "  </thead>\n",
       "  <tbody>\n",
       "    <tr>\n",
       "      <th>air_31</th>\n",
       "      <td>air</td>\n",
       "      <td>LINESTRING (8.57056 50.03333, 9.22196 48.68990)</td>\n",
       "      <td>FRA</td>\n",
       "      <td>STR</td>\n",
       "      <td>1</td>\n",
       "      <td>air_31</td>\n",
       "      <td>2400</td>\n",
       "      <td>FRA-STR</td>\n",
       "      <td>156652</td>\n",
       "      <td>113.0</td>\n",
       "    </tr>\n",
       "    <tr>\n",
       "      <th>air_46</th>\n",
       "      <td>air</td>\n",
       "      <td>LINESTRING (11.78610 48.35380, 9.98823 53.63040)</td>\n",
       "      <td>MUC</td>\n",
       "      <td>HAM</td>\n",
       "      <td>1</td>\n",
       "      <td>air_46</td>\n",
       "      <td>5400</td>\n",
       "      <td>MUC-HAM</td>\n",
       "      <td>600019</td>\n",
       "      <td>53.0</td>\n",
       "    </tr>\n",
       "    <tr>\n",
       "      <th>air_22</th>\n",
       "      <td>air</td>\n",
       "      <td>LINESTRING (7.61224 51.51830, 11.78610 48.35380)</td>\n",
       "      <td>DTM</td>\n",
       "      <td>MUC</td>\n",
       "      <td>1</td>\n",
       "      <td>air_22</td>\n",
       "      <td>4200</td>\n",
       "      <td>DTM-MUC</td>\n",
       "      <td>461421</td>\n",
       "      <td>43.0</td>\n",
       "    </tr>\n",
       "  </tbody>\n",
       "</table>\n",
       "</div>"
      ],
      "text/plain": [
       "       route_type                                          geometry    a    b  \\\n",
       "index                                                                           \n",
       "air_31        air   LINESTRING (8.57056 50.03333, 9.22196 48.68990)  FRA  STR   \n",
       "air_46        air  LINESTRING (11.78610 48.35380, 9.98823 53.63040)  MUC  HAM   \n",
       "air_22        air  LINESTRING (7.61224 51.51830, 11.78610 48.35380)  DTM  MUC   \n",
       "\n",
       "        link_sequence route_id  time  trip_id  length  price  \n",
       "index                                                         \n",
       "air_31              1   air_31  2400  FRA-STR  156652  113.0  \n",
       "air_46              1   air_46  5400  MUC-HAM  600019   53.0  \n",
       "air_22              1   air_22  4200  DTM-MUC  461421   43.0  "
      ]
     },
     "execution_count": 35,
     "metadata": {},
     "output_type": "execute_result"
    }
   ],
   "source": [
    "# Air trips\n",
    "# Take the economy price because its share is higher\n",
    "# than 90% within Germany\n",
    "air['trip'] = air['a'] + '-' + air['b']\n",
    "price_dict = air.set_index('trip')['price_economy'].to_dict()\n",
    "sm.links.loc[sm.links['route_type']=='air', 'price'] = \\\n",
    "    sm.links.loc[sm.links['route_type']=='air', 'trip_id'].map(price_dict)\n",
    "print(len(sm.links.loc[(sm.links['route_type']=='air') & (sm.links['price'].isna())]))\n",
    "sm.links.loc[sm.links['route_type']=='air'].sample(3)"
   ]
  },
  {
   "cell_type": "code",
   "execution_count": 36,
   "metadata": {},
   "outputs": [
    {
     "data": {
      "text/plain": [
       "90.18179679707936"
      ]
     },
     "execution_count": 36,
     "metadata": {},
     "output_type": "execute_result"
    }
   ],
   "source": [
    "# Sum up prices in LoS table based on link fares\n",
    "price_dict = sm.links['price'].to_dict()\n",
    "sm.pt_los.loc[sm.pt_los['route_type']=='air', 'price'] = \\\n",
    "    sm.pt_los.loc[sm.pt_los['route_type']=='air', 'link_path'].apply(\n",
    "        lambda l: sum([price_dict[link] if type_dict[link]=='air' else 0\n",
    "                       for link in l]))\n",
    "sm.pt_los.loc[sm.pt_los['route_type']=='air', 'price'].mean()"
   ]
  },
  {
   "cell_type": "code",
   "execution_count": 37,
   "metadata": {},
   "outputs": [
    {
     "data": {
      "text/plain": [
       "0"
      ]
     },
     "execution_count": 37,
     "metadata": {},
     "output_type": "execute_result"
    }
   ],
   "source": [
    "len(sm.pt_los.loc[sm.pt_los['price'].isna()])"
   ]
  },
  {
   "cell_type": "markdown",
   "metadata": {},
   "source": [
    "### Local transport\n",
    "\n",
    "Local transport fares are added on top, as they are usually included into the rail ticket price or have a standalone price map dependent on ordinal distance classes."
   ]
  },
  {
   "cell_type": "code",
   "execution_count": 38,
   "metadata": {},
   "outputs": [],
   "source": [
    "# Add a fare for local transport services\n",
    "# Get links with bus service at start or end of the trip\n",
    "mode_dict = sm.links['route_type'].to_dict()\n",
    "bus_at_o = sm.pt_los['link_path'].apply(lambda l: mode_dict[l[0]]=='bus' if len(l)>0 else False)\n",
    "bus_at_d = sm.pt_los['link_path'].apply(lambda l: mode_dict[l[-1]]=='bus' if len(l)>0 else False)\n",
    "only_bus = sm.pt_los['route_type']=='bus'\n",
    "# Bus tickets are included in long-distance rail tickets\n",
    "rail_long = sm.pt_los['route_types'].apply(lambda t: 'rail_long' in t)\n",
    "# Define price structure by regional type\n",
    "# Average value from ADAC for cities: https://www.adac.de/reise-freizeit/ratgeber/tests/oepnv-preise-vergleich/\n",
    "region_dict = sm.zones['urbanisation'].to_dict()\n",
    "region_prices = {1: 2.74, 2: 4, 3: 4}\n",
    "\n",
    "# Case 1: Multimodal\n",
    "sm.pt_los.loc[(bus_at_o) & ~(only_bus) & ~(rail_long), 'price'] += sm.pt_los.loc[\n",
    "    (bus_at_o) & ~(only_bus) & ~(rail_long), 'origin'].map(region_dict).map(region_prices)\n",
    "sm.pt_los.loc[(bus_at_d) & ~(only_bus) & ~(rail_long), 'price'] += sm.pt_los.loc[\n",
    "    (bus_at_d) & ~(only_bus) & ~(rail_long), 'destination'].map(region_dict).map(region_prices)\n",
    "\n",
    "# Case 2: Only bus\n",
    "sm.pt_los.loc[only_bus, 'price'] = [\n",
    "    region_prices[max(region_dict[o], region_dict[d])]\n",
    "    for o,d in zip(sm.pt_los.loc[only_bus, 'origin'], sm.pt_los.loc[only_bus, 'destination'])]"
   ]
  },
  {
   "cell_type": "code",
   "execution_count": 39,
   "metadata": {},
   "outputs": [
    {
     "data": {
      "text/plain": [
       "0"
      ]
     },
     "execution_count": 39,
     "metadata": {},
     "output_type": "execute_result"
    }
   ],
   "source": [
    "len(sm.pt_los.loc[sm.pt_los['price'].isna()])"
   ]
  },
  {
   "cell_type": "code",
   "execution_count": 40,
   "metadata": {},
   "outputs": [
    {
     "data": {
      "text/html": [
       "<div>\n",
       "<style scoped>\n",
       "    .dataframe tbody tr th:only-of-type {\n",
       "        vertical-align: middle;\n",
       "    }\n",
       "\n",
       "    .dataframe tbody tr th {\n",
       "        vertical-align: top;\n",
       "    }\n",
       "\n",
       "    .dataframe thead th {\n",
       "        text-align: right;\n",
       "    }\n",
       "</style>\n",
       "<table border=\"1\" class=\"dataframe\">\n",
       "  <thead>\n",
       "    <tr style=\"text-align: right;\">\n",
       "      <th></th>\n",
       "      <th>time</th>\n",
       "      <th>price</th>\n",
       "      <th>length</th>\n",
       "      <th>ntransfers</th>\n",
       "    </tr>\n",
       "    <tr>\n",
       "      <th>route_type</th>\n",
       "      <th></th>\n",
       "      <th></th>\n",
       "      <th></th>\n",
       "      <th></th>\n",
       "    </tr>\n",
       "  </thead>\n",
       "  <tbody>\n",
       "    <tr>\n",
       "      <th>air</th>\n",
       "      <td>21201.036649</td>\n",
       "      <td>91.338007</td>\n",
       "      <td>605338.497300</td>\n",
       "      <td>4.663675</td>\n",
       "    </tr>\n",
       "    <tr>\n",
       "      <th>bus</th>\n",
       "      <td>8881.264933</td>\n",
       "      <td>3.915330</td>\n",
       "      <td>45134.359166</td>\n",
       "      <td>2.575180</td>\n",
       "    </tr>\n",
       "    <tr>\n",
       "      <th>coach</th>\n",
       "      <td>25134.396335</td>\n",
       "      <td>21.099357</td>\n",
       "      <td>373577.030348</td>\n",
       "      <td>3.201598</td>\n",
       "    </tr>\n",
       "    <tr>\n",
       "      <th>rail_long</th>\n",
       "      <td>19610.746876</td>\n",
       "      <td>48.325336</td>\n",
       "      <td>425250.821107</td>\n",
       "      <td>2.639766</td>\n",
       "    </tr>\n",
       "    <tr>\n",
       "      <th>rail_short</th>\n",
       "      <td>21819.750456</td>\n",
       "      <td>40.036741</td>\n",
       "      <td>348746.352363</td>\n",
       "      <td>3.215915</td>\n",
       "    </tr>\n",
       "    <tr>\n",
       "      <th>walk</th>\n",
       "      <td>8.029777</td>\n",
       "      <td>0.000000</td>\n",
       "      <td>0.000000</td>\n",
       "      <td>0.000000</td>\n",
       "    </tr>\n",
       "  </tbody>\n",
       "</table>\n",
       "</div>"
      ],
      "text/plain": [
       "                    time      price         length  ntransfers\n",
       "route_type                                                    \n",
       "air         21201.036649  91.338007  605338.497300    4.663675\n",
       "bus          8881.264933   3.915330   45134.359166    2.575180\n",
       "coach       25134.396335  21.099357  373577.030348    3.201598\n",
       "rail_long   19610.746876  48.325336  425250.821107    2.639766\n",
       "rail_short  21819.750456  40.036741  348746.352363    3.215915\n",
       "walk            8.029777   0.000000       0.000000    0.000000"
      ]
     },
     "execution_count": 40,
     "metadata": {},
     "output_type": "execute_result"
    }
   ],
   "source": [
    "sm.pt_los.groupby('route_type').agg(\n",
    "    {'time': 'mean', 'price': 'mean', 'length': 'mean', 'ntransfers': 'mean'})"
   ]
  },
  {
   "cell_type": "markdown",
   "metadata": {},
   "source": [
    "## Accessibility"
   ]
  },
  {
   "cell_type": "code",
   "execution_count": 41,
   "metadata": {},
   "outputs": [],
   "source": [
    "def accessibility(dist_origin, dist_destination, weight=20):\n",
    "    '''calculate an accessibility metric based on distances\n",
    "    :param dist_origin: distance to the next mean of transport from origin in km\n",
    "    :param dist_destination: distance from the used mean of transport to destination in km\n",
    "    :param weight: (optional) weight of distance values\n",
    "    :return: accessibility factor on a range from 0 to 1'''\n",
    "    return max(0, 1 - dist_origin/weight - dist_destination/weight)"
   ]
  },
  {
   "cell_type": "code",
   "execution_count": 42,
   "metadata": {},
   "outputs": [],
   "source": [
    "# Take average weighted distances to the next PT stop\n",
    "# They were computed in prep16 from census data\n",
    "clusters = pd.read_csv('../input/spatial_census_refined.csv')\n",
    "dist_col = 'weighted_dist'\n",
    "mean_dist_col = 'mean_weighted_dist'\n",
    "cent_col = 'cluster_center'\n",
    "#pop_col = 'population'\n",
    "# Convert to km\n",
    "clusters[mean_dist_col] = clusters[mean_dist_col] / 1000"
   ]
  },
  {
   "cell_type": "code",
   "execution_count": 43,
   "metadata": {},
   "outputs": [],
   "source": [
    "type_dict = {'rail_short_distance': 'rail_short', 'rail_long_distance': 'rail_long'}\n",
    "clusters['route_type'].replace(type_dict, inplace=True)\n",
    "zone = 'NUTS_ID' if 'NUTS_ID' in clusters.columns else 'FID'\n",
    "mean_w_dist_dict = clusters.groupby(\n",
    "    [zone, 'route_type']).agg(\n",
    "    {mean_dist_col: 'mean'}).to_dict()[mean_dist_col]"
   ]
  },
  {
   "cell_type": "code",
   "execution_count": 44,
   "metadata": {},
   "outputs": [],
   "source": [
    "# The accessibility is a metric from the mean weighted distance in km\n",
    "sm.pt_los['accessibility'] = 1"
   ]
  },
  {
   "cell_type": "code",
   "execution_count": 45,
   "metadata": {},
   "outputs": [],
   "source": [
    "# Divide into PT and all walk\n",
    "walk = sm.pt_los.loc[sm.pt_los['link_path'].apply(lambda l: len(l)==0)]\n",
    "pt = sm.pt_los.loc[sm.pt_los['link_path'].apply(lambda l: len(l)>0)]"
   ]
  },
  {
   "cell_type": "code",
   "execution_count": 46,
   "metadata": {},
   "outputs": [],
   "source": [
    "link_type = sm.links['route_type'].to_dict()\n",
    "def get_accessibility(o, d, l_path, weight=20):\n",
    "    try:\n",
    "        return accessibility(mean_w_dist_dict[o, link_type[l_path[0]]],\n",
    "                             mean_w_dist_dict[d, link_type[l_path[-1]]],\n",
    "                             weight)\n",
    "    except KeyError:\n",
    "        # No such type in this region\n",
    "        return 0"
   ]
  },
  {
   "cell_type": "code",
   "execution_count": 47,
   "metadata": {},
   "outputs": [],
   "source": [
    "pt['accessibility'] = [get_accessibility(*a) for a in tuple(\n",
    "    zip(pt['origin'], pt['destination'], pt['link_path'])#, [30 for _ in range(len(pt))])\n",
    ")]"
   ]
  },
  {
   "cell_type": "code",
   "execution_count": 48,
   "metadata": {},
   "outputs": [
    {
     "data": {
      "text/html": [
       "<div>\n",
       "<style scoped>\n",
       "    .dataframe tbody tr th:only-of-type {\n",
       "        vertical-align: middle;\n",
       "    }\n",
       "\n",
       "    .dataframe tbody tr th {\n",
       "        vertical-align: top;\n",
       "    }\n",
       "\n",
       "    .dataframe thead th {\n",
       "        text-align: right;\n",
       "    }\n",
       "</style>\n",
       "<table border=\"1\" class=\"dataframe\">\n",
       "  <thead>\n",
       "    <tr style=\"text-align: right;\">\n",
       "      <th></th>\n",
       "      <th>accessibility</th>\n",
       "      <th>origin</th>\n",
       "    </tr>\n",
       "    <tr>\n",
       "      <th>route_type</th>\n",
       "      <th></th>\n",
       "      <th></th>\n",
       "    </tr>\n",
       "  </thead>\n",
       "  <tbody>\n",
       "    <tr>\n",
       "      <th>air</th>\n",
       "      <td>0.512512</td>\n",
       "      <td>106278</td>\n",
       "    </tr>\n",
       "    <tr>\n",
       "      <th>bus</th>\n",
       "      <td>0.680187</td>\n",
       "      <td>3884</td>\n",
       "    </tr>\n",
       "    <tr>\n",
       "      <th>coach</th>\n",
       "      <td>0.565272</td>\n",
       "      <td>114108</td>\n",
       "    </tr>\n",
       "    <tr>\n",
       "      <th>rail_long</th>\n",
       "      <td>0.494034</td>\n",
       "      <td>310504</td>\n",
       "    </tr>\n",
       "    <tr>\n",
       "      <th>rail_short</th>\n",
       "      <td>0.550277</td>\n",
       "      <td>196170</td>\n",
       "    </tr>\n",
       "  </tbody>\n",
       "</table>\n",
       "</div>"
      ],
      "text/plain": [
       "            accessibility  origin\n",
       "route_type                       \n",
       "air              0.512512  106278\n",
       "bus              0.680187    3884\n",
       "coach            0.565272  114108\n",
       "rail_long        0.494034  310504\n",
       "rail_short       0.550277  196170"
      ]
     },
     "execution_count": 48,
     "metadata": {},
     "output_type": "execute_result"
    }
   ],
   "source": [
    "pt.groupby('route_type').agg(\n",
    "    {'accessibility': 'mean', 'origin': 'count'})"
   ]
  },
  {
   "cell_type": "code",
   "execution_count": 49,
   "metadata": {},
   "outputs": [
    {
     "data": {
      "text/plain": [
       "route_type\n",
       "air           [[AxesSubplot(0.125,0.125;0.775x0.755)]]\n",
       "bus           [[AxesSubplot(0.125,0.125;0.775x0.755)]]\n",
       "coach         [[AxesSubplot(0.125,0.125;0.775x0.755)]]\n",
       "rail_long     [[AxesSubplot(0.125,0.125;0.775x0.755)]]\n",
       "rail_short    [[AxesSubplot(0.125,0.125;0.775x0.755)]]\n",
       "dtype: object"
      ]
     },
     "execution_count": 49,
     "metadata": {},
     "output_type": "execute_result"
    },
    {
     "data": {
      "image/png": "[encoded data removed]",
      "text/plain": [
       "<Figure size 288x288 with 1 Axes>"
      ]
     },
     "metadata": {
      "needs_background": "light"
     },
     "output_type": "display_data"
    },
    {
     "data": {
      "image/png": "[encoded data removed]",
      "text/plain": [
       "<Figure size 288x288 with 1 Axes>"
      ]
     },
     "metadata": {
      "needs_background": "light"
     },
     "output_type": "display_data"
    },
    {
     "data": {
      "image/png": "[encoded data removed]",
      "text/plain": [
       "<Figure size 288x288 with 1 Axes>"
      ]
     },
     "metadata": {
      "needs_background": "light"
     },
     "output_type": "display_data"
    },
    {
     "data": {
      "image/png": "[encoded data removed]",
      "text/plain": [
       "<Figure size 288x288 with 1 Axes>"
      ]
     },
     "metadata": {
      "needs_background": "light"
     },
     "output_type": "display_data"
    },
    {
     "data": {
      "image/png": "[encoded data removed]",
      "text/plain": [
       "<Figure size 288x288 with 1 Axes>"
      ]
     },
     "metadata": {
      "needs_background": "light"
     },
     "output_type": "display_data"
    }
   ],
   "source": [
    "# The accessibility does not depend on the\n",
    "# route_type columns of pt_los, but on the link path\n",
    "pt.loc[pt['accessibility']>0].groupby('route_type').hist(\n",
    "    column='accessibility', bins=100, figsize=(4,4), log=False)"
   ]
  },
  {
   "cell_type": "code",
   "execution_count": 50,
   "metadata": {},
   "outputs": [],
   "source": [
    "sm.pt_los = pt.append(walk)"
   ]
  },
  {
   "cell_type": "markdown",
   "metadata": {},
   "source": [
    "## Save"
   ]
  },
  {
   "cell_type": "code",
   "execution_count": 51,
   "metadata": {},
   "outputs": [
    {
     "name": "stdout",
     "output_type": "stream",
     "text": [
      "Index(['origin', 'destination', 'route_types', 'link_path', 'ntransfers',\n",
      "       'length', 'access_time', 'footpath_time', 'in_vehicle_time',\n",
      "       'waiting_time', 'time', 'route_type', 'price', 'accessibility'],\n",
      "      dtype='object')\n",
      "(731347, 14)\n"
     ]
    },
    {
     "data": {
      "text/html": [
       "<div>\n",
       "<style scoped>\n",
       "    .dataframe tbody tr th:only-of-type {\n",
       "        vertical-align: middle;\n",
       "    }\n",
       "\n",
       "    .dataframe tbody tr th {\n",
       "        vertical-align: top;\n",
       "    }\n",
       "\n",
       "    .dataframe thead th {\n",
       "        text-align: right;\n",
       "    }\n",
       "</style>\n",
       "<table border=\"1\" class=\"dataframe\">\n",
       "  <thead>\n",
       "    <tr style=\"text-align: right;\">\n",
       "      <th></th>\n",
       "      <th>origin</th>\n",
       "      <th>destination</th>\n",
       "      <th>route_types</th>\n",
       "      <th>link_path</th>\n",
       "      <th>ntransfers</th>\n",
       "      <th>length</th>\n",
       "      <th>access_time</th>\n",
       "      <th>footpath_time</th>\n",
       "      <th>in_vehicle_time</th>\n",
       "      <th>waiting_time</th>\n",
       "      <th>time</th>\n",
       "      <th>route_type</th>\n",
       "      <th>price</th>\n",
       "      <th>accessibility</th>\n",
       "    </tr>\n",
       "    <tr>\n",
       "      <th>index</th>\n",
       "      <th></th>\n",
       "      <th></th>\n",
       "      <th></th>\n",
       "      <th></th>\n",
       "      <th></th>\n",
       "      <th></th>\n",
       "      <th></th>\n",
       "      <th></th>\n",
       "      <th></th>\n",
       "      <th></th>\n",
       "      <th></th>\n",
       "      <th></th>\n",
       "      <th></th>\n",
       "      <th></th>\n",
       "    </tr>\n",
       "  </thead>\n",
       "  <tbody>\n",
       "    <tr>\n",
       "      <th>293847</th>\n",
       "      <td>DE715</td>\n",
       "      <td>DE403</td>\n",
       "      <td>[bus, coach]</td>\n",
       "      <td>[bus_1368860, bus_1368862, bus_1368863, coach_...</td>\n",
       "      <td>2</td>\n",
       "      <td>663578</td>\n",
       "      <td>1337</td>\n",
       "      <td>496</td>\n",
       "      <td>24202</td>\n",
       "      <td>1725</td>\n",
       "      <td>27761</td>\n",
       "      <td>coach</td>\n",
       "      <td>36.910636</td>\n",
       "      <td>0.877506</td>\n",
       "    </tr>\n",
       "  </tbody>\n",
       "</table>\n",
       "</div>"
      ],
      "text/plain": [
       "       origin destination   route_types  \\\n",
       "index                                     \n",
       "293847  DE715       DE403  [bus, coach]   \n",
       "\n",
       "                                                link_path  ntransfers  length  \\\n",
       "index                                                                           \n",
       "293847  [bus_1368860, bus_1368862, bus_1368863, coach_...           2  663578   \n",
       "\n",
       "        access_time  footpath_time  in_vehicle_time  waiting_time   time  \\\n",
       "index                                                                      \n",
       "293847         1337            496            24202          1725  27761   \n",
       "\n",
       "       route_type      price  accessibility  \n",
       "index                                        \n",
       "293847      coach  36.910636       0.877506  "
      ]
     },
     "execution_count": 51,
     "metadata": {},
     "output_type": "execute_result"
    }
   ],
   "source": [
    "print(sm.pt_los.columns)\n",
    "print(sm.pt_los.shape)\n",
    "sm.pt_los.sample()"
   ]
  },
  {
   "cell_type": "code",
   "execution_count": 52,
   "metadata": {},
   "outputs": [
    {
     "name": "stderr",
     "output_type": "stream",
     "text": [
      "to_hdf(overwriting): 100%|█████████████████████████████████████████████████████████████| 35/35 [00:11<00:00,  3.08it/s]\n"
     ]
    }
   ],
   "source": [
    "sm.to_json(model_path + 'de_pt_los',\n",
    "           only_attributes=['pt_los'],\n",
    "           encoding='utf-8')"
   ]
  },
  {
   "cell_type": "code",
   "execution_count": 53,
   "metadata": {},
   "outputs": [
    {
     "name": "stdout",
     "output_type": "stream",
     "text": [
      "Not neccessary to save\n"
     ]
    }
   ],
   "source": [
    "'''# Split links in graph and auxiliary information\n",
    "# for file sizes being compatible with github's size limit\n",
    "cols = ['link_sequence', 'route_id', 'time', 'trip_id', 'length', 'headway', 'price']\n",
    "if 'route_type_disagg' in sm.links.columns: cols.append('route_type_disagg')\n",
    "if 'boarding_time' in sm.links.columns: cols.append('boarding_time')\n",
    "auxiliary = sm.links[cols]\n",
    "sm.links.drop(cols, axis=1, inplace=True)\n",
    "sm.to_json(model_path + 'de_pt_network_agg', only_attributes=[\n",
    "    'zones', 'links', 'nodes', 'pt_route_types'],\n",
    "           encoding='utf-8')\n",
    "# Save auxiliary information seperately\n",
    "auxiliary['index'] = auxiliary.index\n",
    "auxiliary.reset_index(drop=True, inplace=True)\n",
    "auxiliary.to_json(model_path + 'de_pt_network_agg/links_quetzaldata.json')'''\n",
    "print('Not neccessary to save')"
   ]
  }
 ],
 "metadata": {
  "kernelspec": {
   "display_name": "Python 3",
   "language": "python",
   "name": "python3"
  },
  "language_info": {
   "codemirror_mode": {
    "name": "ipython",
    "version": 3
   },
   "file_extension": ".py",
   "mimetype": "text/x-python",
   "name": "python",
   "nbconvert_exporter": "python",
   "pygments_lexer": "ipython3",
   "version": "3.8.1"
  }
 },
 "nbformat": 4,
 "nbformat_minor": 4
}
