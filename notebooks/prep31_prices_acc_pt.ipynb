{
 "cells": [
  {
   "cell_type": "code",
   "execution_count": 1,
   "metadata": {},
   "outputs": [
    {
     "name": "stderr",
     "output_type": "stream",
     "text": [
      "In C:\\Users\\marlin.arnz\\AppData\\Local\\Continuum\\miniconda3\\envs\\quetzal\\lib\\site-packages\\matplotlib\\mpl-data\\stylelib\\_classic_test.mplstyle: \n",
      "The text.latex.preview rcparam was deprecated in Matplotlib 3.3 and will be removed two minor releases later.\n",
      "In C:\\Users\\marlin.arnz\\AppData\\Local\\Continuum\\miniconda3\\envs\\quetzal\\lib\\site-packages\\matplotlib\\mpl-data\\stylelib\\_classic_test.mplstyle: \n",
      "The mathtext.fallback_to_cm rcparam was deprecated in Matplotlib 3.3 and will be removed two minor releases later.\n",
      "In C:\\Users\\marlin.arnz\\AppData\\Local\\Continuum\\miniconda3\\envs\\quetzal\\lib\\site-packages\\matplotlib\\mpl-data\\stylelib\\_classic_test.mplstyle: Support for setting the 'mathtext.fallback_to_cm' rcParam is deprecated since 3.3 and will be removed two minor releases later; use 'mathtext.fallback : 'cm' instead.\n",
      "In C:\\Users\\marlin.arnz\\AppData\\Local\\Continuum\\miniconda3\\envs\\quetzal\\lib\\site-packages\\matplotlib\\mpl-data\\stylelib\\_classic_test.mplstyle: \n",
      "The validate_bool_maybe_none function was deprecated in Matplotlib 3.3 and will be removed two minor releases later.\n",
      "In C:\\Users\\marlin.arnz\\AppData\\Local\\Continuum\\miniconda3\\envs\\quetzal\\lib\\site-packages\\matplotlib\\mpl-data\\stylelib\\_classic_test.mplstyle: \n",
      "The savefig.jpeg_quality rcparam was deprecated in Matplotlib 3.3 and will be removed two minor releases later.\n",
      "In C:\\Users\\marlin.arnz\\AppData\\Local\\Continuum\\miniconda3\\envs\\quetzal\\lib\\site-packages\\matplotlib\\mpl-data\\stylelib\\_classic_test.mplstyle: \n",
      "The keymap.all_axes rcparam was deprecated in Matplotlib 3.3 and will be removed two minor releases later.\n",
      "In C:\\Users\\marlin.arnz\\AppData\\Local\\Continuum\\miniconda3\\envs\\quetzal\\lib\\site-packages\\matplotlib\\mpl-data\\stylelib\\_classic_test.mplstyle: \n",
      "The animation.avconv_path rcparam was deprecated in Matplotlib 3.3 and will be removed two minor releases later.\n",
      "In C:\\Users\\marlin.arnz\\AppData\\Local\\Continuum\\miniconda3\\envs\\quetzal\\lib\\site-packages\\matplotlib\\mpl-data\\stylelib\\_classic_test.mplstyle: \n",
      "The animation.avconv_args rcparam was deprecated in Matplotlib 3.3 and will be removed two minor releases later.\n"
     ]
    }
   ],
   "source": [
    "import math\n",
    "import pandas as pd\n",
    "import numpy as np\n",
    "from geopy.distance import geodesic\n",
    "import matplotlib.pyplot as plt\n",
    "from quetzal.model import stepmodel"
   ]
  },
  {
   "cell_type": "markdown",
   "metadata": {},
   "source": [
    "# Preparation of the LoS tables\n",
    "## Saves price and accessibility attribute to PT LoS table\n",
    "## Needs PT LoS table and links"
   ]
  },
  {
   "cell_type": "code",
   "execution_count": 2,
   "metadata": {},
   "outputs": [],
   "source": [
    "input_path = '../input_static/'\n",
    "output_path = '../output/'\n",
    "model_path = '../model/'"
   ]
  },
  {
   "cell_type": "code",
   "execution_count": 3,
   "metadata": {},
   "outputs": [],
   "source": [
    "los = stepmodel.read_json(model_path + 'de_pt_los')\n",
    "sm = stepmodel.read_json(model_path + 'de_pt_network_agg')"
   ]
  },
  {
   "cell_type": "code",
   "execution_count": 4,
   "metadata": {},
   "outputs": [],
   "source": [
    "sm.pt_los = los.pt_los"
   ]
  },
  {
   "cell_type": "code",
   "execution_count": 5,
   "metadata": {},
   "outputs": [
    {
     "data": {
      "text/html": [
       "<div>\n",
       "<style scoped>\n",
       "    .dataframe tbody tr th:only-of-type {\n",
       "        vertical-align: middle;\n",
       "    }\n",
       "\n",
       "    .dataframe tbody tr th {\n",
       "        vertical-align: top;\n",
       "    }\n",
       "\n",
       "    .dataframe thead th {\n",
       "        text-align: right;\n",
       "    }\n",
       "</style>\n",
       "<table border=\"1\" class=\"dataframe\">\n",
       "  <thead>\n",
       "    <tr style=\"text-align: right;\">\n",
       "      <th></th>\n",
       "      <th>a</th>\n",
       "      <th>b</th>\n",
       "      <th>route_type</th>\n",
       "      <th>geometry</th>\n",
       "      <th>link_sequence</th>\n",
       "      <th>route_id</th>\n",
       "      <th>time</th>\n",
       "      <th>trip_id</th>\n",
       "      <th>length</th>\n",
       "      <th>headway</th>\n",
       "      <th>price</th>\n",
       "    </tr>\n",
       "    <tr>\n",
       "      <th>index</th>\n",
       "      <th></th>\n",
       "      <th></th>\n",
       "      <th></th>\n",
       "      <th></th>\n",
       "      <th></th>\n",
       "      <th></th>\n",
       "      <th></th>\n",
       "      <th></th>\n",
       "      <th></th>\n",
       "      <th></th>\n",
       "      <th></th>\n",
       "    </tr>\n",
       "  </thead>\n",
       "  <tbody>\n",
       "    <tr>\n",
       "      <th>bus_3018036</th>\n",
       "      <td>DED51_bus_3</td>\n",
       "      <td>DED52_bus_0</td>\n",
       "      <td>bus</td>\n",
       "      <td>LINESTRING (12.38217 51.31891, 12.57786 51.22490)</td>\n",
       "      <td>1</td>\n",
       "      <td>bus_10733</td>\n",
       "      <td>840</td>\n",
       "      <td>bus_1145599</td>\n",
       "      <td>27431</td>\n",
       "      <td>600</td>\n",
       "      <td>0.0</td>\n",
       "    </tr>\n",
       "    <tr>\n",
       "      <th>bus_2930922</th>\n",
       "      <td>DEA53_bus_0</td>\n",
       "      <td>DEA53_bus_4</td>\n",
       "      <td>bus</td>\n",
       "      <td>LINESTRING (7.51273 51.37050, 7.51743 51.29778)</td>\n",
       "      <td>1</td>\n",
       "      <td>bus_6078</td>\n",
       "      <td>360</td>\n",
       "      <td>bus_1086599</td>\n",
       "      <td>9215</td>\n",
       "      <td>600</td>\n",
       "      <td>0.0</td>\n",
       "    </tr>\n",
       "  </tbody>\n",
       "</table>\n",
       "</div>"
      ],
      "text/plain": [
       "                       a            b route_type  \\\n",
       "index                                              \n",
       "bus_3018036  DED51_bus_3  DED52_bus_0        bus   \n",
       "bus_2930922  DEA53_bus_0  DEA53_bus_4        bus   \n",
       "\n",
       "                                                      geometry  link_sequence  \\\n",
       "index                                                                           \n",
       "bus_3018036  LINESTRING (12.38217 51.31891, 12.57786 51.22490)              1   \n",
       "bus_2930922    LINESTRING (7.51273 51.37050, 7.51743 51.29778)              1   \n",
       "\n",
       "              route_id  time      trip_id  length  headway  price  \n",
       "index                                                              \n",
       "bus_3018036  bus_10733   840  bus_1145599   27431      600    0.0  \n",
       "bus_2930922   bus_6078   360  bus_1086599    9215      600    0.0  "
      ]
     },
     "execution_count": 5,
     "metadata": {},
     "output_type": "execute_result"
    }
   ],
   "source": [
    "sm.links.sample(2)"
   ]
  },
  {
   "cell_type": "markdown",
   "metadata": {},
   "source": [
    "## Prices"
   ]
  },
  {
   "cell_type": "code",
   "execution_count": 6,
   "metadata": {},
   "outputs": [],
   "source": [
    "# Cost function\n",
    "def monetary_cost(length, rf, vc, ac, al, ec, el, sf):\n",
    "    \"\"\" calculate monetary cost of travelling one O-D realtion within the LoS table\n",
    "    :param length: length of main leg in meter\n",
    "    :param df: regression factor for length (to be calibrated beforehand)\n",
    "    :param vc: distance-specific transport cost\n",
    "    :param ac: access cost\n",
    "    :param al: access link length (m)\n",
    "    :param ec: egress cost\n",
    "    :param el: egress link length (m)\n",
    "    :param sf: sharing factor (e.g. occupancy factor of a car)\n",
    "    :return: monetary cost\"\"\"\n",
    "    return (math.pow(length, rf) * vc + ac * al + ec * el) / sf"
   ]
  },
  {
   "cell_type": "code",
   "execution_count": 7,
   "metadata": {},
   "outputs": [],
   "source": [
    "# Generate length for PT links as the crow flies\n",
    "if 'length' not in sm.links.columns:\n",
    "    sm.links['length'] = sm.links['geometry'].apply(\n",
    "        lambda l: geodesic(l.coords[0], l.coords[-1]).m)"
   ]
  },
  {
   "cell_type": "code",
   "execution_count": 8,
   "metadata": {},
   "outputs": [],
   "source": [
    "sm.links['price'] = 0"
   ]
  },
  {
   "cell_type": "code",
   "execution_count": 9,
   "metadata": {},
   "outputs": [],
   "source": [
    "type_dict = sm.links['route_type'].to_dict()"
   ]
  },
  {
   "cell_type": "markdown",
   "metadata": {},
   "source": [
    "### Rail short-distance\n",
    "Short-distance rail services have the price structure stated in the DB document. However, most people who use it have some kind of abonement and don't buy single trip tickets. cal10 shows that for trips under 50km distance there is a 50% share of permanent abonements. Moreover, it doesn't make sense to choose short-distance rail services on long distances. Still, if so, people choose the \"Quer-durchs-Land-Ticket\" for 42€."
   ]
  },
  {
   "cell_type": "code",
   "execution_count": 10,
   "metadata": {},
   "outputs": [],
   "source": [
    "mask = sm.links['route_type']=='rail_short'"
   ]
  },
  {
   "cell_type": "code",
   "execution_count": 11,
   "metadata": {},
   "outputs": [
    {
     "data": {
      "text/html": [
       "<div>\n",
       "<style scoped>\n",
       "    .dataframe tbody tr th:only-of-type {\n",
       "        vertical-align: middle;\n",
       "    }\n",
       "\n",
       "    .dataframe tbody tr th {\n",
       "        vertical-align: top;\n",
       "    }\n",
       "\n",
       "    .dataframe thead th {\n",
       "        text-align: right;\n",
       "    }\n",
       "</style>\n",
       "<table border=\"1\" class=\"dataframe\">\n",
       "  <thead>\n",
       "    <tr style=\"text-align: right;\">\n",
       "      <th></th>\n",
       "      <th>km</th>\n",
       "      <th>single_trip_second_class</th>\n",
       "      <th>single_trip_first_class</th>\n",
       "      <th>return_trip_second_class</th>\n",
       "      <th>return_trip_first_class</th>\n",
       "    </tr>\n",
       "  </thead>\n",
       "  <tbody>\n",
       "    <tr>\n",
       "      <th>0</th>\n",
       "      <td>37.0</td>\n",
       "      <td>10.1</td>\n",
       "      <td>16.2</td>\n",
       "      <td>20.2</td>\n",
       "      <td>32.4</td>\n",
       "    </tr>\n",
       "    <tr>\n",
       "      <th>1</th>\n",
       "      <td>38.0</td>\n",
       "      <td>10.3</td>\n",
       "      <td>16.5</td>\n",
       "      <td>20.6</td>\n",
       "      <td>33.0</td>\n",
       "    </tr>\n",
       "    <tr>\n",
       "      <th>2</th>\n",
       "      <td>39.0</td>\n",
       "      <td>10.4</td>\n",
       "      <td>16.6</td>\n",
       "      <td>20.8</td>\n",
       "      <td>33.2</td>\n",
       "    </tr>\n",
       "  </tbody>\n",
       "</table>\n",
       "</div>"
      ],
      "text/plain": [
       "     km  single_trip_second_class  single_trip_first_class  \\\n",
       "0  37.0                      10.1                     16.2   \n",
       "1  38.0                      10.3                     16.5   \n",
       "2  39.0                      10.4                     16.6   \n",
       "\n",
       "   return_trip_second_class  return_trip_first_class  \n",
       "0                      20.2                     32.4  \n",
       "1                      20.6                     33.0  \n",
       "2                      20.8                     33.2  "
      ]
     },
     "execution_count": 11,
     "metadata": {},
     "output_type": "execute_result"
    }
   ],
   "source": [
    "# Load list of distance-related cost\n",
    "c = pd.read_csv(input_path + 'level_of_service_DB_2020_preisliste_fahrplanjahr_2020.csv')\n",
    "c.head(3)"
   ]
  },
  {
   "cell_type": "code",
   "execution_count": 12,
   "metadata": {},
   "outputs": [
    {
     "data": {
      "text/plain": [
       "<AxesSubplot:>"
      ]
     },
     "execution_count": 12,
     "metadata": {},
     "output_type": "execute_result"
    },
    {
     "data": {
      "image/png": "[encoded data removed]",
      "text/plain": [
       "<Figure size 216x216 with 1 Axes>"
      ]
     },
     "metadata": {
      "needs_background": "light"
     },
     "output_type": "display_data"
    }
   ],
   "source": [
    "sm.links.loc[mask, 'length'].hist(bins=20, figsize=(3,3), log=True)"
   ]
  },
  {
   "cell_type": "code",
   "execution_count": 13,
   "metadata": {},
   "outputs": [
    {
     "name": "stdout",
     "output_type": "stream",
     "text": [
      "y=0.233*x+1.468\n"
     ]
    },
    {
     "data": {
      "image/png": "[encoded data removed]",
      "text/plain": [
       "<Figure size 432x288 with 1 Axes>"
      ]
     },
     "metadata": {
      "needs_background": "light"
     },
     "output_type": "display_data"
    }
   ],
   "source": [
    "# Use second class single trip prices\n",
    "# Choose a fit for a distance range up to 60 km (longer links are rare)\n",
    "z = np.polyfit(c.loc[0:30, 'km'], c.loc[0:30, 'single_trip_second_class'], deg=1)\n",
    "p = np.poly1d(z)\n",
    "plt.plot(c.loc[0:30, 'km'], p(c.loc[0:30, 'km']), linestyle='--', marker=' ', label='Regression')\n",
    "plt.plot(c.loc[0:30, 'km'], c.loc[0:30, 'single_trip_second_class'], linestyle='--', marker=' ', label='2nd class')\n",
    "plt.legend()\n",
    "print('y={}*x+{}'.format(np.round(z[0], 3), np.round(z[1], 3)))"
   ]
  },
  {
   "cell_type": "code",
   "execution_count": 14,
   "metadata": {},
   "outputs": [],
   "source": [
    "# Apply the slope to links\n",
    "sm.links.loc[mask, 'price'] = sm.links.loc[mask, 'length'].apply(lambda d: d*0.233/1000)"
   ]
  },
  {
   "cell_type": "code",
   "execution_count": 15,
   "metadata": {},
   "outputs": [],
   "source": [
    "# Sum link cost\n",
    "price_dict = sm.links.loc[mask, 'price'].to_dict()\n",
    "sm.pt_los.loc[sm.pt_los['route_type']=='rail_short', 'price'] = \\\n",
    "    sm.pt_los.loc[sm.pt_los['route_type']=='rail_short', 'link_path'].apply(\n",
    "        lambda l: sum([price_dict[link] if type_dict[link]=='rail_short' else 0\n",
    "                       for link in l]))"
   ]
  },
  {
   "cell_type": "code",
   "execution_count": 16,
   "metadata": {},
   "outputs": [],
   "source": [
    "# Add the intercept\n",
    "sm.pt_los.loc[sm.pt_los['route_type']=='rail_short', 'price'] += 1.468"
   ]
  },
  {
   "cell_type": "code",
   "execution_count": 17,
   "metadata": {},
   "outputs": [],
   "source": [
    "# Add a price floor for short-distance rail (and cap for consistency)\n",
    "sm.pt_los.loc[sm.pt_los['route_type']=='rail_short', 'price'] = np.clip(\n",
    "    sm.pt_los.loc[sm.pt_los['route_type']=='rail_short', 'price'], 5, 100)"
   ]
  },
  {
   "cell_type": "code",
   "execution_count": 18,
   "metadata": {},
   "outputs": [],
   "source": [
    "# Add abonements share for short-distance rail\n",
    "mask = (sm.pt_los['route_type']=='rail_short') & (sm.pt_los['length']<50000)\n",
    "sm.pt_los.loc[mask, 'price'] = sm.pt_los.loc[mask, 'price'] / 2"
   ]
  },
  {
   "cell_type": "code",
   "execution_count": 19,
   "metadata": {},
   "outputs": [
    {
     "data": {
      "text/plain": [
       "<matplotlib.legend.Legend at 0x1e6839d8760>"
      ]
     },
     "execution_count": 19,
     "metadata": {},
     "output_type": "execute_result"
    },
    {
     "data": {
      "image/png": "[encoded data removed]",
      "text/plain": [
       "<Figure size 432x288 with 1 Axes>"
      ]
     },
     "metadata": {
      "needs_background": "light"
     },
     "output_type": "display_data"
    }
   ],
   "source": [
    "x = sm.pt_los.loc[sm.pt_los['route_type']=='rail_short']['length'] / 1000\n",
    "y = sm.pt_los.loc[sm.pt_los['route_type']=='rail_short']['price']\n",
    "plt.scatter(x, y, marker='o', alpha=.01, label='price')\n",
    "plt.legend()"
   ]
  },
  {
   "cell_type": "code",
   "execution_count": 20,
   "metadata": {},
   "outputs": [
    {
     "data": {
      "text/plain": [
       "619"
      ]
     },
     "execution_count": 20,
     "metadata": {},
     "output_type": "execute_result"
    }
   ],
   "source": [
    "len(sm.pt_los.loc[(sm.pt_los['route_type']=='rail_short') & (sm.pt_los['price']<5)])"
   ]
  },
  {
   "cell_type": "markdown",
   "metadata": {},
   "source": [
    "### Rail long distance\n",
    "\n",
    "Long-distance services have a complicated price structure that is not published by DB. Thus, we need to make assumptions based on a regression analysis of observation data (see prep32):\n",
    "\n",
    "* Rail transport is purely path-distance and -duration-dependent\n",
    "* Price dependency is linear\n",
    "* There is a price cap of 139 EUR\n",
    "* Assume 50/50 distribution of Sparpreis and Flexpreis"
   ]
  },
  {
   "cell_type": "code",
   "execution_count": 21,
   "metadata": {},
   "outputs": [],
   "source": [
    "# Apply the slope to links\n",
    "mask = sm.links['route_type']=='rail_long'\n",
    "sm.links.loc[mask, 'price'] = [d*(0.00856735+0.07809195)/2/1000 + t*(7.0490619+9.13199971)/2/3600\n",
    "    for d,t in zip(sm.links.loc[mask, 'length'], sm.links.loc[mask, 'time'])]"
   ]
  },
  {
   "cell_type": "code",
   "execution_count": 22,
   "metadata": {},
   "outputs": [],
   "source": [
    "# Sum link cost\n",
    "price_dict = sm.links.loc[mask, 'price'].to_dict()\n",
    "sm.pt_los.loc[sm.pt_los['route_type']=='rail_long', 'price'] = \\\n",
    "    sm.pt_los.loc[sm.pt_los['route_type']=='rail_long', 'link_path'].apply(\n",
    "        lambda l: sum([price_dict[link] if type_dict[link]=='rail_long' else 0\n",
    "                       for link in l]))"
   ]
  },
  {
   "cell_type": "code",
   "execution_count": 23,
   "metadata": {},
   "outputs": [],
   "source": [
    "# Add an intercept\n",
    "sm.pt_los.loc[sm.pt_los['route_type']=='rail_long', 'price'] += (4.67+14.61)/2"
   ]
  },
  {
   "cell_type": "code",
   "execution_count": 24,
   "metadata": {},
   "outputs": [],
   "source": [
    "# Add a price cap and floor for long-distance rail\n",
    "sm.pt_los.loc[sm.pt_los['route_type']=='rail_long', 'price'] = np.clip(\n",
    "    sm.pt_los.loc[sm.pt_los['route_type']=='rail_long', 'price'], 19, 139)"
   ]
  },
  {
   "cell_type": "code",
   "execution_count": 25,
   "metadata": {},
   "outputs": [
    {
     "data": {
      "text/plain": [
       "<matplotlib.legend.Legend at 0x1e683978880>"
      ]
     },
     "execution_count": 25,
     "metadata": {},
     "output_type": "execute_result"
    },
    {
     "data": {
      "image/png": "[encoded data removed]",
      "text/plain": [
       "<Figure size 432x288 with 1 Axes>"
      ]
     },
     "metadata": {
      "needs_background": "light"
     },
     "output_type": "display_data"
    }
   ],
   "source": [
    "x = sm.pt_los.loc[sm.pt_los['route_type']=='rail_long']['length'] / 1000\n",
    "y = sm.pt_los.loc[sm.pt_los['route_type']=='rail_long']['price']\n",
    "plt.scatter(x, y, marker='o', alpha=.01, label='price')\n",
    "plt.legend()"
   ]
  },
  {
   "cell_type": "markdown",
   "metadata": {},
   "source": [
    "### Coach\n",
    "\n",
    "Assume a linear cost function based on distance. verage cost in Germany: https://de.statista.com/statistik/daten/studie/380601/umfrage/kilometerpreise-fernbuslinien-in-deutschland/"
   ]
  },
  {
   "cell_type": "code",
   "execution_count": 26,
   "metadata": {},
   "outputs": [],
   "source": [
    "sm.links.loc[sm.links['route_type']=='coach', 'price'] = \\\n",
    "    sm.links['length'] / 1000 * 0.107"
   ]
  },
  {
   "cell_type": "code",
   "execution_count": 27,
   "metadata": {},
   "outputs": [],
   "source": [
    "# Sum up prices in LoS table based on link fares\n",
    "price_dict = sm.links['price'].to_dict()\n",
    "sm.pt_los.loc[sm.pt_los['route_type']=='coach', 'price'] = \\\n",
    "    sm.pt_los.loc[sm.pt_los['route_type']=='coach', 'link_path'].apply(\n",
    "        lambda l: sum([price_dict[link] if type_dict[link]=='coach' else 0\n",
    "                       for link in l]))"
   ]
  },
  {
   "cell_type": "code",
   "execution_count": 28,
   "metadata": {},
   "outputs": [
    {
     "data": {
      "text/plain": [
       "<matplotlib.legend.Legend at 0x1e6839b0d00>"
      ]
     },
     "execution_count": 28,
     "metadata": {},
     "output_type": "execute_result"
    },
    {
     "data": {
      "image/png": "[encoded data removed]",
      "text/plain": [
       "<Figure size 432x288 with 1 Axes>"
      ]
     },
     "metadata": {
      "needs_background": "light"
     },
     "output_type": "display_data"
    }
   ],
   "source": [
    "x = sm.pt_los.loc[sm.pt_los['route_type']=='coach']['length'] / 1000\n",
    "y = sm.pt_los.loc[sm.pt_los['route_type']=='coach']['price']\n",
    "plt.scatter(x, y, marker='o', alpha=.05, label='price')\n",
    "plt.legend()"
   ]
  },
  {
   "cell_type": "markdown",
   "metadata": {},
   "source": [
    "### Air\n",
    "\n",
    "Match air links with prices from an online search in Sept. 2020"
   ]
  },
  {
   "cell_type": "code",
   "execution_count": 29,
   "metadata": {},
   "outputs": [
    {
     "name": "stdout",
     "output_type": "stream",
     "text": [
      "Average economy price: 94.22058823529412 EUR\n",
      "Average business price: 277.8235294117647 EUR\n"
     ]
    },
    {
     "data": {
      "text/plain": [
       "<AxesSubplot:xlabel='time'>"
      ]
     },
     "execution_count": 29,
     "metadata": {},
     "output_type": "execute_result"
    },
    {
     "data": {
      "image/png": "[encoded data removed]",
      "text/plain": [
       "<Figure size 432x288 with 1 Axes>"
      ]
     },
     "metadata": {
      "needs_background": "light"
     },
     "output_type": "display_data"
    }
   ],
   "source": [
    "# Load connection list\n",
    "air = pd.read_excel(input_path + 'public_transport/air_connections_germany.xlsx', engine='xlrd')\n",
    "air = air.loc[air['direct']==True]\n",
    "air['a'] = air['origin'].str[:3]\n",
    "air['b'] = air['destination'].str[:3]\n",
    "print('Average economy price: {} EUR'.format(air['price_economy'].mean()))\n",
    "print('Average business price: {} EUR'.format(air['price_business'].mean()))\n",
    "air[['price_business', 'price_economy', 'time']].set_index('time').plot(linestyle=' ', marker='o')"
   ]
  },
  {
   "cell_type": "code",
   "execution_count": 30,
   "metadata": {},
   "outputs": [],
   "source": [
    "# Correct air time if neccessary\n",
    "if sm.links.loc[sm.links['route_type']=='air', 'time'].mean() < 5*60:\n",
    "    # Convert time to seconds\n",
    "    sm.links.loc[sm.links['route_type']=='air', 'time'] = \\\n",
    "        sm.links.loc[sm.links['route_type']=='air', 'time'] * 60"
   ]
  },
  {
   "cell_type": "code",
   "execution_count": 31,
   "metadata": {},
   "outputs": [
    {
     "name": "stdout",
     "output_type": "stream",
     "text": [
      "0\n"
     ]
    },
    {
     "data": {
      "text/html": [
       "<div>\n",
       "<style scoped>\n",
       "    .dataframe tbody tr th:only-of-type {\n",
       "        vertical-align: middle;\n",
       "    }\n",
       "\n",
       "    .dataframe tbody tr th {\n",
       "        vertical-align: top;\n",
       "    }\n",
       "\n",
       "    .dataframe thead th {\n",
       "        text-align: right;\n",
       "    }\n",
       "</style>\n",
       "<table border=\"1\" class=\"dataframe\">\n",
       "  <thead>\n",
       "    <tr style=\"text-align: right;\">\n",
       "      <th></th>\n",
       "      <th>a</th>\n",
       "      <th>b</th>\n",
       "      <th>route_type</th>\n",
       "      <th>geometry</th>\n",
       "      <th>link_sequence</th>\n",
       "      <th>route_id</th>\n",
       "      <th>time</th>\n",
       "      <th>trip_id</th>\n",
       "      <th>length</th>\n",
       "      <th>headway</th>\n",
       "      <th>price</th>\n",
       "    </tr>\n",
       "    <tr>\n",
       "      <th>index</th>\n",
       "      <th></th>\n",
       "      <th></th>\n",
       "      <th></th>\n",
       "      <th></th>\n",
       "      <th></th>\n",
       "      <th></th>\n",
       "      <th></th>\n",
       "      <th></th>\n",
       "      <th></th>\n",
       "      <th></th>\n",
       "      <th></th>\n",
       "    </tr>\n",
       "  </thead>\n",
       "  <tbody>\n",
       "    <tr>\n",
       "      <th>air_0</th>\n",
       "      <td>HAM</td>\n",
       "      <td>DUS</td>\n",
       "      <td>air</td>\n",
       "      <td>LINESTRING (9.98823 53.63040, 6.76678 51.28950)</td>\n",
       "      <td>1</td>\n",
       "      <td>air_0</td>\n",
       "      <td>3600</td>\n",
       "      <td>HAM-DUS</td>\n",
       "      <td>439767</td>\n",
       "      <td>5400</td>\n",
       "      <td>65.0</td>\n",
       "    </tr>\n",
       "    <tr>\n",
       "      <th>air_1</th>\n",
       "      <td>HAM</td>\n",
       "      <td>CGN</td>\n",
       "      <td>air</td>\n",
       "      <td>LINESTRING (9.98823 53.63040, 7.14274 50.86590)</td>\n",
       "      <td>1</td>\n",
       "      <td>air_1</td>\n",
       "      <td>3600</td>\n",
       "      <td>HAM-CGN</td>\n",
       "      <td>437766</td>\n",
       "      <td>5400</td>\n",
       "      <td>72.0</td>\n",
       "    </tr>\n",
       "    <tr>\n",
       "      <th>air_2</th>\n",
       "      <td>HAM</td>\n",
       "      <td>FRA</td>\n",
       "      <td>air</td>\n",
       "      <td>LINESTRING (9.98823 53.63040, 8.57056 50.03333)</td>\n",
       "      <td>1</td>\n",
       "      <td>air_2</td>\n",
       "      <td>4200</td>\n",
       "      <td>HAM-FRA</td>\n",
       "      <td>425174</td>\n",
       "      <td>5400</td>\n",
       "      <td>145.0</td>\n",
       "    </tr>\n",
       "  </tbody>\n",
       "</table>\n",
       "</div>"
      ],
      "text/plain": [
       "         a    b route_type                                         geometry  \\\n",
       "index                                                                         \n",
       "air_0  HAM  DUS        air  LINESTRING (9.98823 53.63040, 6.76678 51.28950)   \n",
       "air_1  HAM  CGN        air  LINESTRING (9.98823 53.63040, 7.14274 50.86590)   \n",
       "air_2  HAM  FRA        air  LINESTRING (9.98823 53.63040, 8.57056 50.03333)   \n",
       "\n",
       "       link_sequence route_id  time  trip_id  length  headway  price  \n",
       "index                                                                 \n",
       "air_0              1    air_0  3600  HAM-DUS  439767     5400   65.0  \n",
       "air_1              1    air_1  3600  HAM-CGN  437766     5400   72.0  \n",
       "air_2              1    air_2  4200  HAM-FRA  425174     5400  145.0  "
      ]
     },
     "execution_count": 31,
     "metadata": {},
     "output_type": "execute_result"
    }
   ],
   "source": [
    "# Air trips\n",
    "# Take the economy price because its share is higher\n",
    "# than 90% within Germany\n",
    "air['trip'] = air['a'] + '-' + air['b']\n",
    "price_dict = air.set_index('trip', drop=True)['price_economy'].to_dict()\n",
    "sm.links.loc[sm.links['route_type']=='air', 'price'] = \\\n",
    "    sm.links.loc[sm.links['route_type']=='air', 'trip_id'].map(price_dict)\n",
    "print(len(sm.links.loc[(sm.links['route_type']=='air') & (sm.links['price'].isna())]))\n",
    "sm.links.loc[sm.links['route_type']=='air'].head(3)"
   ]
  },
  {
   "cell_type": "markdown",
   "metadata": {},
   "source": [
    "### Local transport\n",
    "\n",
    "Local transport fares are added on top, as they are usually included into the rail ticket price or have a standalone price map dependent on ordinal distance classes."
   ]
  },
  {
   "cell_type": "code",
   "execution_count": 32,
   "metadata": {},
   "outputs": [],
   "source": [
    "# Add a fare for local transport services\n",
    "# Get links with bus service at start or end of the trip\n",
    "mode_dict = sm.links['route_type'].to_dict()\n",
    "bus_at_o = sm.pt_los['link_path'].apply(lambda l: mode_dict[l[0]]=='bus' if len(l)>0 else False)\n",
    "bus_at_d = sm.pt_los['link_path'].apply(lambda l: mode_dict[l[-1]]=='bus' if len(l)>0 else False)\n",
    "only_bus = sm.pt_los['route_type']=='bus'\n",
    "# Bus tickets are included in long-distance rail tickets\n",
    "rail_long = sm.pt_los['route_types'].apply(lambda t: 'rail_long' in t)\n",
    "# Define price structure by regional type\n",
    "# Average value from ADAC for cities: https://www.adac.de/reise-freizeit/ratgeber/tests/oepnv-preise-vergleich/\n",
    "region_dict = sm.zones['urbanisation'].to_dict()\n",
    "region_prices = {1: 2.74, 2: 4, 3: 4}\n",
    "\n",
    "# Case 1: Multimodal\n",
    "sm.pt_los.loc[(bus_at_o) & ~(only_bus) & ~(rail_long), 'price'] += sm.pt_los.loc[\n",
    "    (bus_at_o) & ~(only_bus) & ~(rail_long), 'origin'].map(region_dict).map(region_prices)\n",
    "sm.pt_los.loc[(bus_at_d) & ~(only_bus) & ~(rail_long), 'price'] += sm.pt_los.loc[\n",
    "    (bus_at_o) & ~(only_bus) & ~(rail_long), 'destination'].map(region_dict).map(region_prices)\n",
    "\n",
    "# Case 2: Only bus\n",
    "sm.pt_los.loc[only_bus, 'price'] = [\n",
    "    region_prices[max(region_dict[o], region_dict[d])]\n",
    "    for o,d in zip(sm.pt_los.loc[only_bus, 'origin'], sm.pt_los.loc[only_bus, 'destination'])]"
   ]
  },
  {
   "cell_type": "code",
   "execution_count": 33,
   "metadata": {},
   "outputs": [],
   "source": [
    "# Bus tickets are relatively cheap, but they apply only for short distances\n",
    "# And nobody books tickets at five different bus agencies\n",
    "# Thus, drop bus trips longer than 50km\n",
    "sm.pt_los = sm.pt_los.loc[~((only_bus) & (sm.pt_los['length']>50000))]"
   ]
  },
  {
   "cell_type": "code",
   "execution_count": 34,
   "metadata": {},
   "outputs": [
    {
     "data": {
      "text/html": [
       "<div>\n",
       "<style scoped>\n",
       "    .dataframe tbody tr th:only-of-type {\n",
       "        vertical-align: middle;\n",
       "    }\n",
       "\n",
       "    .dataframe tbody tr th {\n",
       "        vertical-align: top;\n",
       "    }\n",
       "\n",
       "    .dataframe thead th {\n",
       "        text-align: right;\n",
       "    }\n",
       "</style>\n",
       "<table border=\"1\" class=\"dataframe\">\n",
       "  <thead>\n",
       "    <tr style=\"text-align: right;\">\n",
       "      <th></th>\n",
       "      <th>time</th>\n",
       "      <th>price</th>\n",
       "      <th>length</th>\n",
       "      <th>ntransfers</th>\n",
       "    </tr>\n",
       "    <tr>\n",
       "      <th>route_type</th>\n",
       "      <th></th>\n",
       "      <th></th>\n",
       "      <th></th>\n",
       "      <th></th>\n",
       "    </tr>\n",
       "  </thead>\n",
       "  <tbody>\n",
       "    <tr>\n",
       "      <th>air</th>\n",
       "      <td>4.432616</td>\n",
       "      <td>134.924865</td>\n",
       "      <td>698214.890716</td>\n",
       "      <td>2.526468</td>\n",
       "    </tr>\n",
       "    <tr>\n",
       "      <th>bus</th>\n",
       "      <td>0.733850</td>\n",
       "      <td>3.871936</td>\n",
       "      <td>36022.314574</td>\n",
       "      <td>0.455691</td>\n",
       "    </tr>\n",
       "    <tr>\n",
       "      <th>coach</th>\n",
       "      <td>4.542152</td>\n",
       "      <td>33.297207</td>\n",
       "      <td>292574.263636</td>\n",
       "      <td>1.028298</td>\n",
       "    </tr>\n",
       "    <tr>\n",
       "      <th>rail_long</th>\n",
       "      <td>4.344450</td>\n",
       "      <td>50.457587</td>\n",
       "      <td>517348.165761</td>\n",
       "      <td>2.618073</td>\n",
       "    </tr>\n",
       "    <tr>\n",
       "      <th>rail_short</th>\n",
       "      <td>3.346720</td>\n",
       "      <td>84.928047</td>\n",
       "      <td>462649.949013</td>\n",
       "      <td>5.113273</td>\n",
       "    </tr>\n",
       "    <tr>\n",
       "      <th>walk</th>\n",
       "      <td>1.033611</td>\n",
       "      <td>0.000000</td>\n",
       "      <td>17573.206140</td>\n",
       "      <td>0.000000</td>\n",
       "    </tr>\n",
       "  </tbody>\n",
       "</table>\n",
       "</div>"
      ],
      "text/plain": [
       "                time       price         length  ntransfers\n",
       "route_type                                                 \n",
       "air         4.432616  134.924865  698214.890716    2.526468\n",
       "bus         0.733850    3.871936   36022.314574    0.455691\n",
       "coach       4.542152   33.297207  292574.263636    1.028298\n",
       "rail_long   4.344450   50.457587  517348.165761    2.618073\n",
       "rail_short  3.346720   84.928047  462649.949013    5.113273\n",
       "walk        1.033611    0.000000   17573.206140    0.000000"
      ]
     },
     "execution_count": 34,
     "metadata": {},
     "output_type": "execute_result"
    }
   ],
   "source": [
    "sm.pt_los.groupby('route_type').agg(\n",
    "    {'time': 'mean', 'price': 'mean', 'length': 'mean', 'ntransfers': 'mean'})"
   ]
  },
  {
   "cell_type": "code",
   "execution_count": 35,
   "metadata": {},
   "outputs": [
    {
     "data": {
      "text/plain": [
       "<matplotlib.legend.Legend at 0x1e683d84640>"
      ]
     },
     "execution_count": 35,
     "metadata": {},
     "output_type": "execute_result"
    },
    {
     "data": {
      "image/png": "[encoded data removed]",
      "text/plain": [
       "<Figure size 432x288 with 1 Axes>"
      ]
     },
     "metadata": {
      "needs_background": "light"
     },
     "output_type": "display_data"
    }
   ],
   "source": [
    "for t in sm.pt_los['route_type'].unique():\n",
    "    x = sm.pt_los.loc[sm.pt_los['route_type']==t]['length']\n",
    "    y = sm.pt_los.loc[sm.pt_los['route_type']==t]['price']\n",
    "    try:\n",
    "        z = np.polyfit(x, y, deg=1)\n",
    "        p = np.poly1d(z)\n",
    "        plt.plot(x, p(x), linestyle='--', marker=' ', label=t)\n",
    "    except:\n",
    "        plt.scatter(x, y, marker='o', alpha=.01, label=t)\n",
    "plt.legend()"
   ]
  },
  {
   "cell_type": "markdown",
   "metadata": {},
   "source": [
    "## Accessibility"
   ]
  },
  {
   "cell_type": "code",
   "execution_count": 20,
   "metadata": {},
   "outputs": [],
   "source": [
    "def accessibility(dist_origin, dist_destination, weight=20):\n",
    "    '''calculate an accessibility metric based on distances\n",
    "    :param dist_origin: distance to the next mean of transport from origin in km\n",
    "    :param dist_destination: distance from the used mean of transport to destination in km\n",
    "    :param weight: (optional) weight of distance values\n",
    "    :return: accessibility factor on a range from 0 to 1'''\n",
    "    return max(0, 1 - dist_origin/weight - dist_destination/weight)"
   ]
  },
  {
   "cell_type": "code",
   "execution_count": 24,
   "metadata": {},
   "outputs": [],
   "source": [
    "# Take average weighted distances to the next PT stop\n",
    "# They were computed in prep16 from census data\n",
    "clusters = pd.read_csv('../input/spatial_census_refined.csv')\n",
    "dist_col = 'weighted_dist'\n",
    "mean_dist_col = 'mean_weighted_dist'\n",
    "cent_col = 'cluster_center'\n",
    "#pop_col = 'population'\n",
    "# Convert to km\n",
    "clusters[mean_dist_col] = clusters[mean_dist_col] / 1000"
   ]
  },
  {
   "cell_type": "code",
   "execution_count": 25,
   "metadata": {},
   "outputs": [],
   "source": [
    "type_dict = {'rail_short_distance': 'rail_short', 'rail_long_distance': 'rail_long'}\n",
    "clusters['route_type'].replace(type_dict, inplace=True)\n",
    "mean_w_dist_dict = clusters.groupby(\n",
    "    ['NUTS_ID', 'route_type']).agg(\n",
    "    {mean_dist_col: 'mean'}).to_dict()[mean_dist_col]"
   ]
  },
  {
   "cell_type": "code",
   "execution_count": 26,
   "metadata": {},
   "outputs": [],
   "source": [
    "# The accessibility is a metric from the mean weighted distance in km\n",
    "sm.pt_los['accessibility'] = 1"
   ]
  },
  {
   "cell_type": "code",
   "execution_count": 27,
   "metadata": {},
   "outputs": [],
   "source": [
    "# Divide into PT and all walk\n",
    "walk = sm.pt_los.loc[sm.pt_los['link_path'].apply(lambda l: len(l)==0)]\n",
    "pt = sm.pt_los.loc[sm.pt_los['link_path'].apply(lambda l: len(l)>0)]"
   ]
  },
  {
   "cell_type": "code",
   "execution_count": 28,
   "metadata": {},
   "outputs": [],
   "source": [
    "link_type = sm.links['route_type'].to_dict()\n",
    "def get_accessibility(o, d, l_path, weight=20):\n",
    "    try:\n",
    "        return accessibility(mean_w_dist_dict[o, link_type[l_path[0]]],\n",
    "                             mean_w_dist_dict[d, link_type[l_path[-1]]],\n",
    "                             weight)\n",
    "    except KeyError:\n",
    "        # No such type in this region\n",
    "        return 0"
   ]
  },
  {
   "cell_type": "code",
   "execution_count": 29,
   "metadata": {},
   "outputs": [],
   "source": [
    "pt['accessibility'] = [get_accessibility(*a) for a in tuple(\n",
    "    zip(pt['origin'], pt['destination'], pt['link_path'])#, [30 for _ in range(len(pt))])\n",
    ")]"
   ]
  },
  {
   "cell_type": "code",
   "execution_count": 30,
   "metadata": {},
   "outputs": [
    {
     "data": {
      "text/html": [
       "<div>\n",
       "<style scoped>\n",
       "    .dataframe tbody tr th:only-of-type {\n",
       "        vertical-align: middle;\n",
       "    }\n",
       "\n",
       "    .dataframe tbody tr th {\n",
       "        vertical-align: top;\n",
       "    }\n",
       "\n",
       "    .dataframe thead th {\n",
       "        text-align: right;\n",
       "    }\n",
       "</style>\n",
       "<table border=\"1\" class=\"dataframe\">\n",
       "  <thead>\n",
       "    <tr style=\"text-align: right;\">\n",
       "      <th></th>\n",
       "      <th>accessibility</th>\n",
       "      <th>origin</th>\n",
       "    </tr>\n",
       "    <tr>\n",
       "      <th>route_type</th>\n",
       "      <th></th>\n",
       "      <th></th>\n",
       "    </tr>\n",
       "  </thead>\n",
       "  <tbody>\n",
       "    <tr>\n",
       "      <th>air</th>\n",
       "      <td>0.023154</td>\n",
       "      <td>32084</td>\n",
       "    </tr>\n",
       "    <tr>\n",
       "      <th>bus</th>\n",
       "      <td>0.604150</td>\n",
       "      <td>205225</td>\n",
       "    </tr>\n",
       "    <tr>\n",
       "      <th>coach</th>\n",
       "      <td>0.145188</td>\n",
       "      <td>60053</td>\n",
       "    </tr>\n",
       "    <tr>\n",
       "      <th>rail_long</th>\n",
       "      <td>0.052025</td>\n",
       "      <td>167348</td>\n",
       "    </tr>\n",
       "    <tr>\n",
       "      <th>rail_short</th>\n",
       "      <td>0.051181</td>\n",
       "      <td>299574</td>\n",
       "    </tr>\n",
       "  </tbody>\n",
       "</table>\n",
       "</div>"
      ],
      "text/plain": [
       "            accessibility  origin\n",
       "route_type                       \n",
       "air              0.023154   32084\n",
       "bus              0.604150  205225\n",
       "coach            0.145188   60053\n",
       "rail_long        0.052025  167348\n",
       "rail_short       0.051181  299574"
      ]
     },
     "execution_count": 30,
     "metadata": {},
     "output_type": "execute_result"
    }
   ],
   "source": [
    "pt.groupby('route_type').agg(\n",
    "    {'accessibility': 'mean', 'origin': 'count'})"
   ]
  },
  {
   "cell_type": "code",
   "execution_count": 31,
   "metadata": {},
   "outputs": [
    {
     "data": {
      "text/plain": [
       "route_type\n",
       "air           [[AxesSubplot(0.125,0.125;0.775x0.755)]]\n",
       "bus           [[AxesSubplot(0.125,0.125;0.775x0.755)]]\n",
       "coach         [[AxesSubplot(0.125,0.125;0.775x0.755)]]\n",
       "rail_long     [[AxesSubplot(0.125,0.125;0.775x0.755)]]\n",
       "rail_short    [[AxesSubplot(0.125,0.125;0.775x0.755)]]\n",
       "dtype: object"
      ]
     },
     "execution_count": 31,
     "metadata": {},
     "output_type": "execute_result"
    },
    {
     "data": {
      "image/png": "[encoded data removed]",
      "text/plain": [
       "<Figure size 288x288 with 1 Axes>"
      ]
     },
     "metadata": {
      "needs_background": "light"
     },
     "output_type": "display_data"
    },
    {
     "data": {
      "image/png": "[encoded data removed]",
      "text/plain": [
       "<Figure size 288x288 with 1 Axes>"
      ]
     },
     "metadata": {
      "needs_background": "light"
     },
     "output_type": "display_data"
    },
    {
     "data": {
      "image/png": "[encoded data removed]",
      "text/plain": [
       "<Figure size 288x288 with 1 Axes>"
      ]
     },
     "metadata": {
      "needs_background": "light"
     },
     "output_type": "display_data"
    },
    {
     "data": {
      "image/png": "[encoded data removed]",
      "text/plain": [
       "<Figure size 288x288 with 1 Axes>"
      ]
     },
     "metadata": {
      "needs_background": "light"
     },
     "output_type": "display_data"
    },
    {
     "data": {
      "image/png": "[encoded data removed]",
      "text/plain": [
       "<Figure size 288x288 with 1 Axes>"
      ]
     },
     "metadata": {
      "needs_background": "light"
     },
     "output_type": "display_data"
    }
   ],
   "source": [
    "# The accessibility does not depend on the\n",
    "# route_type columns of pt_los, but on the link path\n",
    "pt.loc[pt['accessibility']>0].groupby('route_type').hist(\n",
    "    column='accessibility', bins=100, figsize=(4,4), log=False)"
   ]
  },
  {
   "cell_type": "code",
   "execution_count": 32,
   "metadata": {},
   "outputs": [],
   "source": [
    "sm.pt_los = pt.append(walk)"
   ]
  },
  {
   "cell_type": "markdown",
   "metadata": {},
   "source": [
    "## Save"
   ]
  },
  {
   "cell_type": "code",
   "execution_count": 36,
   "metadata": {},
   "outputs": [
    {
     "name": "stdout",
     "output_type": "stream",
     "text": [
      "Index(['access_time', 'accessibility', 'destination', 'footpath_time',\n",
      "       'in_vehicle_time', 'length', 'link_path', 'ntransfers', 'origin',\n",
      "       'path', 'price', 'route_type', 'route_types', 'time', 'waiting_time',\n",
      "       'gc', 'gc_d', 'mode_utility', '('Fz1', 'gc')', '('Fz2', 'gc')',\n",
      "       '('Fz3', 'gc')', '('Fz4', 'gc')', '('Fz6', 'gc')', '('Fz1', 'gc_d')',\n",
      "       '('Fz2', 'gc_d')', '('Fz3', 'gc_d')', '('Fz4', 'gc_d')',\n",
      "       '('Fz6', 'gc_d')', '('Fz1', 'utility')', '('Fz2', 'utility')',\n",
      "       '('Fz3', 'utility')', '('Fz4', 'utility')', '('Fz6', 'utility')',\n",
      "       '('Fz1', 'probability')', '('Fz2', 'probability')',\n",
      "       '('Fz3', 'probability')', '('Fz4', 'probability')',\n",
      "       '('Fz6', 'probability')'],\n",
      "      dtype='object')\n",
      "(556851, 38)\n"
     ]
    },
    {
     "data": {
      "text/html": [
       "<div>\n",
       "<style scoped>\n",
       "    .dataframe tbody tr th:only-of-type {\n",
       "        vertical-align: middle;\n",
       "    }\n",
       "\n",
       "    .dataframe tbody tr th {\n",
       "        vertical-align: top;\n",
       "    }\n",
       "\n",
       "    .dataframe thead th {\n",
       "        text-align: right;\n",
       "    }\n",
       "</style>\n",
       "<table border=\"1\" class=\"dataframe\">\n",
       "  <thead>\n",
       "    <tr style=\"text-align: right;\">\n",
       "      <th></th>\n",
       "      <th>access_time</th>\n",
       "      <th>accessibility</th>\n",
       "      <th>destination</th>\n",
       "      <th>footpath_time</th>\n",
       "      <th>in_vehicle_time</th>\n",
       "      <th>length</th>\n",
       "      <th>link_path</th>\n",
       "      <th>ntransfers</th>\n",
       "      <th>origin</th>\n",
       "      <th>path</th>\n",
       "      <th>...</th>\n",
       "      <th>('Fz1', 'utility')</th>\n",
       "      <th>('Fz2', 'utility')</th>\n",
       "      <th>('Fz3', 'utility')</th>\n",
       "      <th>('Fz4', 'utility')</th>\n",
       "      <th>('Fz6', 'utility')</th>\n",
       "      <th>('Fz1', 'probability')</th>\n",
       "      <th>('Fz2', 'probability')</th>\n",
       "      <th>('Fz3', 'probability')</th>\n",
       "      <th>('Fz4', 'probability')</th>\n",
       "      <th>('Fz6', 'probability')</th>\n",
       "    </tr>\n",
       "    <tr>\n",
       "      <th>index</th>\n",
       "      <th></th>\n",
       "      <th></th>\n",
       "      <th></th>\n",
       "      <th></th>\n",
       "      <th></th>\n",
       "      <th></th>\n",
       "      <th></th>\n",
       "      <th></th>\n",
       "      <th></th>\n",
       "      <th></th>\n",
       "      <th></th>\n",
       "      <th></th>\n",
       "      <th></th>\n",
       "      <th></th>\n",
       "      <th></th>\n",
       "      <th></th>\n",
       "      <th></th>\n",
       "      <th></th>\n",
       "      <th></th>\n",
       "      <th></th>\n",
       "      <th></th>\n",
       "    </tr>\n",
       "  </thead>\n",
       "  <tbody>\n",
       "    <tr>\n",
       "      <th>671550</th>\n",
       "      <td>1930</td>\n",
       "      <td>0.0</td>\n",
       "      <td>DEG06</td>\n",
       "      <td>0</td>\n",
       "      <td>1060</td>\n",
       "      <td>209399</td>\n",
       "      <td>[r_s_157117, r_s_133360, r_s_100722, r_s_118128]</td>\n",
       "      <td>3</td>\n",
       "      <td>DEE04</td>\n",
       "      <td>None</td>\n",
       "      <td>...</td>\n",
       "      <td>-3.979590</td>\n",
       "      <td>-2.728759</td>\n",
       "      <td>-5.293003</td>\n",
       "      <td>-3.138167</td>\n",
       "      <td>-3.907309</td>\n",
       "      <td>0.065704</td>\n",
       "      <td>0.001497</td>\n",
       "      <td>0.016631</td>\n",
       "      <td>0.065725</td>\n",
       "      <td>0.048378</td>\n",
       "    </tr>\n",
       "    <tr>\n",
       "      <th>355468</th>\n",
       "      <td>1300</td>\n",
       "      <td>0.0</td>\n",
       "      <td>DE142</td>\n",
       "      <td>409</td>\n",
       "      <td>5520</td>\n",
       "      <td>428821</td>\n",
       "      <td>[r_s_178215, r_s_178216, r_s_178217, r_s_12405...</td>\n",
       "      <td>5</td>\n",
       "      <td>DE733</td>\n",
       "      <td>None</td>\n",
       "      <td>...</td>\n",
       "      <td>-5.100866</td>\n",
       "      <td>-3.975397</td>\n",
       "      <td>-6.737858</td>\n",
       "      <td>-3.486556</td>\n",
       "      <td>-4.429364</td>\n",
       "      <td>0.022112</td>\n",
       "      <td>0.000068</td>\n",
       "      <td>0.003025</td>\n",
       "      <td>0.051854</td>\n",
       "      <td>0.040132</td>\n",
       "    </tr>\n",
       "    <tr>\n",
       "      <th>711479</th>\n",
       "      <td>688</td>\n",
       "      <td>0.0</td>\n",
       "      <td>DEF09</td>\n",
       "      <td>1104</td>\n",
       "      <td>6000</td>\n",
       "      <td>77275</td>\n",
       "      <td>[coach_10724, coach_14580]</td>\n",
       "      <td>1</td>\n",
       "      <td>DEF0E</td>\n",
       "      <td>None</td>\n",
       "      <td>...</td>\n",
       "      <td>-5.440997</td>\n",
       "      <td>-1.825585</td>\n",
       "      <td>-5.981893</td>\n",
       "      <td>-4.207847</td>\n",
       "      <td>-4.329692</td>\n",
       "      <td>0.001463</td>\n",
       "      <td>0.003474</td>\n",
       "      <td>0.000623</td>\n",
       "      <td>0.004910</td>\n",
       "      <td>0.006895</td>\n",
       "    </tr>\n",
       "  </tbody>\n",
       "</table>\n",
       "<p>3 rows × 38 columns</p>\n",
       "</div>"
      ],
      "text/plain": [
       "        access_time  accessibility destination  footpath_time  \\\n",
       "index                                                           \n",
       "671550         1930            0.0       DEG06              0   \n",
       "355468         1300            0.0       DE142            409   \n",
       "711479          688            0.0       DEF09           1104   \n",
       "\n",
       "        in_vehicle_time  length  \\\n",
       "index                             \n",
       "671550             1060  209399   \n",
       "355468             5520  428821   \n",
       "711479             6000   77275   \n",
       "\n",
       "                                                link_path  ntransfers origin  \\\n",
       "index                                                                          \n",
       "671550   [r_s_157117, r_s_133360, r_s_100722, r_s_118128]           3  DEE04   \n",
       "355468  [r_s_178215, r_s_178216, r_s_178217, r_s_12405...           5  DE733   \n",
       "711479                         [coach_10724, coach_14580]           1  DEF0E   \n",
       "\n",
       "        path  ...  ('Fz1', 'utility') ('Fz2', 'utility') ('Fz3', 'utility')  \\\n",
       "index         ...                                                             \n",
       "671550  None  ...           -3.979590          -2.728759          -5.293003   \n",
       "355468  None  ...           -5.100866          -3.975397          -6.737858   \n",
       "711479  None  ...           -5.440997          -1.825585          -5.981893   \n",
       "\n",
       "        ('Fz4', 'utility')  ('Fz6', 'utility')  ('Fz1', 'probability')  \\\n",
       "index                                                                    \n",
       "671550           -3.138167           -3.907309                0.065704   \n",
       "355468           -3.486556           -4.429364                0.022112   \n",
       "711479           -4.207847           -4.329692                0.001463   \n",
       "\n",
       "        ('Fz2', 'probability')  ('Fz3', 'probability')  \\\n",
       "index                                                    \n",
       "671550                0.001497                0.016631   \n",
       "355468                0.000068                0.003025   \n",
       "711479                0.003474                0.000623   \n",
       "\n",
       "        ('Fz4', 'probability')  ('Fz6', 'probability')  \n",
       "index                                                   \n",
       "671550                0.065725                0.048378  \n",
       "355468                0.051854                0.040132  \n",
       "711479                0.004910                0.006895  \n",
       "\n",
       "[3 rows x 38 columns]"
      ]
     },
     "execution_count": 36,
     "metadata": {},
     "output_type": "execute_result"
    }
   ],
   "source": [
    "print(sm.pt_los.columns)\n",
    "print(sm.pt_los.shape)\n",
    "sm.pt_los.sample(3)"
   ]
  },
  {
   "cell_type": "code",
   "execution_count": 37,
   "metadata": {},
   "outputs": [
    {
     "name": "stderr",
     "output_type": "stream",
     "text": [
      "to_hdf(overwriting): 100%|█████████████████████████████████████████████████████████████| 35/35 [00:15<00:00,  2.33it/s]\n"
     ]
    }
   ],
   "source": [
    "sm.to_json(model_path + 'de_pt_los',\n",
    "           only_attributes=['pt_los'],\n",
    "           encoding='utf-8')"
   ]
  },
  {
   "cell_type": "code",
   "execution_count": 37,
   "metadata": {},
   "outputs": [],
   "source": [
    "# Split links in graph and auxiliary information\n",
    "# for file sizes being compatible with github's size limit\n",
    "cols = ['link_sequence', 'route_id', 'time', 'trip_id', 'length', 'headway', 'price']\n",
    "auxiliary = sm.links[cols]\n",
    "sm.links.drop(cols, axis=1, inplace=True)"
   ]
  },
  {
   "cell_type": "code",
   "execution_count": 38,
   "metadata": {},
   "outputs": [
    {
     "name": "stderr",
     "output_type": "stream",
     "text": [
      "to_hdf(overwriting): 100%|█████████████████████████████████████████████████████████████| 35/35 [00:31<00:00,  1.11it/s]\n"
     ]
    }
   ],
   "source": [
    "sm.to_json(model_path + 'de_pt_network_agg', only_attributes=[\n",
    "    'zones', 'links', 'nodes', 'pt_route_types'],\n",
    "           encoding='utf-8')"
   ]
  },
  {
   "cell_type": "code",
   "execution_count": 39,
   "metadata": {},
   "outputs": [],
   "source": [
    "# Save auxiliary information seperately\n",
    "auxiliary['index'] = auxiliary.index\n",
    "auxiliary.reset_index(drop=True, inplace=True)\n",
    "auxiliary.to_json(model_path + 'de_pt_network_agg/links_quetzaldata.json')"
   ]
  }
 ],
 "metadata": {
  "kernelspec": {
   "display_name": "Python 3",
   "language": "python",
   "name": "python3"
  },
  "language_info": {
   "codemirror_mode": {
    "name": "ipython",
    "version": 3
   },
   "file_extension": ".py",
   "mimetype": "text/x-python",
   "name": "python",
   "nbconvert_exporter": "python",
   "pygments_lexer": "ipython3",
   "version": "3.8.1"
  }
 },
 "nbformat": 4,
 "nbformat_minor": 4
}
