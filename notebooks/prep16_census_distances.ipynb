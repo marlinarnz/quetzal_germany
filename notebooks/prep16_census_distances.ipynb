{
 "cells": [
  {
   "cell_type": "code",
   "execution_count": 1,
   "metadata": {
    "scrolled": true
   },
   "outputs": [
    {
     "name": "stdout",
     "output_type": "stream",
     "text": [
      "SQLalchemy is not installed. No support for SQL output.\n"
     ]
    }
   ],
   "source": [
    "import os\n",
    "import pandas as pd\n",
    "import geopandas as gpd\n",
    "import numpy as np\n",
    "from shapely import geometry\n",
    "import shapely.speedups\n",
    "from geopy.distance import geodesic\n",
    "from tqdm import tqdm\n",
    "from sklearn.cluster import KMeans\n",
    "from quetzal.model import stepmodel"
   ]
  },
  {
   "cell_type": "markdown",
   "metadata": {},
   "source": [
    "# Preparation of input data\n",
    "## Generates a DataFrame of PT stops with mean weighted distances to population cells\n",
    "## Needs all PT nodes"
   ]
  },
  {
   "cell_type": "code",
   "execution_count": 2,
   "metadata": {},
   "outputs": [],
   "source": [
    "input_path = '../input_static/spatial_'\n",
    "output_path = '../output/'\n",
    "model_path = '../model/'"
   ]
  },
  {
   "cell_type": "code",
   "execution_count": 12,
   "metadata": {},
   "outputs": [
    {
     "name": "stderr",
     "output_type": "stream",
     "text": [
      "zones: 100%|██████████| 27/27 [00:00<00:00, 107.02it/s]          \n"
     ]
    }
   ],
   "source": [
    "sm = stepmodel.read_json(model_path + 'de_pt_network')"
   ]
  },
  {
   "cell_type": "code",
   "execution_count": 13,
   "metadata": {},
   "outputs": [
    {
     "name": "stderr",
     "output_type": "stream",
     "text": [
      "100%|██████████| 401/401 [00:41<00:00,  9.61it/s]\n",
      "jsons: 100%|██████████| 4/4 [00:21<00:00,  5.34s/it]\n"
     ]
    }
   ],
   "source": [
    "# Map nodes to zones\n",
    "if 'NUTS_ID' not in sm.nodes.columns:\n",
    "    shapely.speedups.enable()\n",
    "    sm.nodes['NUTS_ID'] = np.nan\n",
    "    for _, zone in tqdm(sm.zones.iterrows(), total=sm.zones.shape[0]):\n",
    "        sm.nodes.loc[sm.nodes['geometry'].within(zone['geometry']), 'NUTS_ID'] = zone['NUTS_ID']\n",
    "    sm.to_json(model_path + 'de_pt_network',\n",
    "          only_attributes=['zones', 'links', 'nodes',\n",
    "                           'pt_routes', 'agencies',\n",
    "                           'pt_route_types'], encoding='utf-8')"
   ]
  },
  {
   "cell_type": "code",
   "execution_count": 10,
   "metadata": {},
   "outputs": [
    {
     "name": "stderr",
     "output_type": "stream",
     "text": [
      "zones: 100%|██████████| 6/6 [03:58<00:00, 39.77s/it]\n"
     ]
    }
   ],
   "source": [
    "bus = stepmodel.read_json(model_path + 'de_pt_network_bus')"
   ]
  },
  {
   "cell_type": "code",
   "execution_count": 11,
   "metadata": {},
   "outputs": [
    {
     "name": "stderr",
     "output_type": "stream",
     "text": [
      "100%|██████████| 401/401 [14:18<00:00,  2.14s/it]\n",
      "jsons: 100%|██████████| 6/6 [09:20<00:00, 93.40s/it]     \n"
     ]
    }
   ],
   "source": [
    "# Map bus nodes to zones\n",
    "if 'NUTS_ID' not in bus.nodes.columns:\n",
    "    shapely.speedups.enable()\n",
    "    bus.nodes['NUTS_ID'] = np.nan\n",
    "    for _, zone in tqdm(bus.zones.iterrows(), total=bus.zones.shape[0]):\n",
    "        bus.nodes.loc[bus.nodes['geometry'].within(zone['geometry']), 'NUTS_ID'] = zone['NUTS_ID']\n",
    "    bus.to_json(model_path + 'de_pt_network_bus',\n",
    "          only_attributes=['zones', 'links', 'nodes',\n",
    "                           'pt_route_types', 'agencies',\n",
    "                           'pt_routes'], encoding='utf-8')"
   ]
  },
  {
   "cell_type": "code",
   "execution_count": 14,
   "metadata": {},
   "outputs": [],
   "source": [
    "# Merge\n",
    "sm.nodes = sm.nodes.append(bus.nodes)"
   ]
  },
  {
   "cell_type": "markdown",
   "metadata": {},
   "source": [
    "## Use census data\n",
    "The important question for mode choice problems: How long/inconvenient is it from home to the next PT stop? </br>\n",
    "Approach: Build population densities from census data and calculate the mean weighted distance to the next PT stop."
   ]
  },
  {
   "cell_type": "code",
   "execution_count": 15,
   "metadata": {},
   "outputs": [],
   "source": [
    "# Load census data: Zensus 2011 - Einwohnerzahl je Hektar\n",
    "# Copyright: © Statistisches Bundesamt, Wiesbaden 2015\n",
    "# (im Auftrag der Herausgebergemeinschaft)\n",
    "# Vervielfältigung und Verbreitung, auch auszugsweise, mit Quellenangabe gestattet\n",
    "if os.path.isfile(input_path + 'Zensus_2011.geojson'):\n",
    "    pop = gpd.read_file(input_path + 'Zensus_2011.geojson', driver='GeoJSON')\n",
    "else:\n",
    "    pop = pd.read_csv(input_path + 'Zensus_2011.csv', sep=';')\n",
    "    # Restrict to entries that hold information\n",
    "    pop = pop.loc[pop['Einwohner']!=-1]\n",
    "    pop = gpd.GeoDataFrame(pop[['Einwohner']],\n",
    "                          geometry=gpd.points_from_xy(pop['x_mp_100m'], pop['y_mp_100m']))\n",
    "    pop.crs = 3035\n",
    "    pop.to_crs(sm.epsg, inplace=True)"
   ]
  },
  {
   "cell_type": "code",
   "execution_count": 16,
   "metadata": {},
   "outputs": [
    {
     "name": "stdout",
     "output_type": "stream",
     "text": [
      "(3177723, 2)\n"
     ]
    },
    {
     "data": {
      "text/html": [
       "<div>\n",
       "<style scoped>\n",
       "    .dataframe tbody tr th:only-of-type {\n",
       "        vertical-align: middle;\n",
       "    }\n",
       "\n",
       "    .dataframe tbody tr th {\n",
       "        vertical-align: top;\n",
       "    }\n",
       "\n",
       "    .dataframe thead th {\n",
       "        text-align: right;\n",
       "    }\n",
       "</style>\n",
       "<table border=\"1\" class=\"dataframe\">\n",
       "  <thead>\n",
       "    <tr style=\"text-align: right;\">\n",
       "      <th></th>\n",
       "      <th>Einwohner</th>\n",
       "      <th>geometry</th>\n",
       "    </tr>\n",
       "  </thead>\n",
       "  <tbody>\n",
       "    <tr>\n",
       "      <th>3669</th>\n",
       "      <td>8</td>\n",
       "      <td>POINT (10.21212 47.31574)</td>\n",
       "    </tr>\n",
       "    <tr>\n",
       "      <th>3710</th>\n",
       "      <td>7</td>\n",
       "      <td>POINT (10.26631 47.31562)</td>\n",
       "    </tr>\n",
       "  </tbody>\n",
       "</table>\n",
       "</div>"
      ],
      "text/plain": [
       "      Einwohner                   geometry\n",
       "3669          8  POINT (10.21212 47.31574)\n",
       "3710          7  POINT (10.26631 47.31562)"
      ]
     },
     "execution_count": 16,
     "metadata": {},
     "output_type": "execute_result"
    }
   ],
   "source": [
    "print(pop.shape)\n",
    "pop.head(2)"
   ]
  },
  {
   "cell_type": "code",
   "execution_count": 17,
   "metadata": {},
   "outputs": [],
   "source": [
    "pop_r = pop"
   ]
  },
  {
   "cell_type": "code",
   "execution_count": 7,
   "metadata": {},
   "outputs": [],
   "source": [
    "# Restrict to a geometric hull\n",
    "#zones = gpd.read_file(\"../input/network/zones/NUTS_RG_01M_2016_4326.geojson\")\n",
    "#zones = zones[zones[\"CNTR_CODE\"] == \"DE\"]\n",
    "#zones = zones[zones[\"id\"].str.startswith(\"DE73\")] # only Kassel and surrounding\n",
    "#hull = zones[\"geometry\"].values[0].buffer(1e-3) # index 0 for Germany; 12 for Berlin\n",
    "# Restrict to the geometric hull if the latter is not Germany\n",
    "#pop_r = pop.loc[pop['geometry'].apply(lambda p: p.within(hull))]\n",
    "#print(pop_r.shape)"
   ]
  },
  {
   "cell_type": "code",
   "execution_count": 18,
   "metadata": {},
   "outputs": [
    {
     "name": "stderr",
     "output_type": "stream",
     "text": [
      "100%|██████████| 401/401 [2:15:20<00:00, 20.25s/it]  \n"
     ]
    }
   ],
   "source": [
    "# Map to zones\n",
    "if 'NUTS_ID' not in pop_r.columns:\n",
    "    shapely.speedups.enable()\n",
    "    pop_r['NUTS_ID'] = np.nan\n",
    "    for _, zone in tqdm(sm.zones.iterrows(), total=sm.zones.shape[0]):\n",
    "        pop_r.loc[pop_r['geometry'].within(zone['geometry']), 'NUTS_ID'] = zone['NUTS_ID']\n",
    "    pop_r.to_file(input_path + 'Zensus_2011.geojson', driver='GeoJSON')"
   ]
  },
  {
   "cell_type": "code",
   "execution_count": 19,
   "metadata": {},
   "outputs": [
    {
     "data": {
      "text/html": [
       "<div>\n",
       "<style scoped>\n",
       "    .dataframe tbody tr th:only-of-type {\n",
       "        vertical-align: middle;\n",
       "    }\n",
       "\n",
       "    .dataframe tbody tr th {\n",
       "        vertical-align: top;\n",
       "    }\n",
       "\n",
       "    .dataframe thead th {\n",
       "        text-align: right;\n",
       "    }\n",
       "</style>\n",
       "<table border=\"1\" class=\"dataframe\">\n",
       "  <thead>\n",
       "    <tr style=\"text-align: right;\">\n",
       "      <th></th>\n",
       "      <th>Einwohner</th>\n",
       "      <th>geometry</th>\n",
       "      <th>NUTS_ID</th>\n",
       "    </tr>\n",
       "  </thead>\n",
       "  <tbody>\n",
       "    <tr>\n",
       "      <th>110339</th>\n",
       "      <td>5</td>\n",
       "      <td>POINT (9.91838 47.53103)</td>\n",
       "      <td>NaN</td>\n",
       "    </tr>\n",
       "    <tr>\n",
       "      <th>115713</th>\n",
       "      <td>13</td>\n",
       "      <td>POINT (9.73521 47.53524)</td>\n",
       "      <td>NaN</td>\n",
       "    </tr>\n",
       "    <tr>\n",
       "      <th>116840</th>\n",
       "      <td>13</td>\n",
       "      <td>POINT (9.73654 47.53615)</td>\n",
       "      <td>NaN</td>\n",
       "    </tr>\n",
       "    <tr>\n",
       "      <th>154989</th>\n",
       "      <td>19</td>\n",
       "      <td>POINT (9.74703 47.56137)</td>\n",
       "      <td>NaN</td>\n",
       "    </tr>\n",
       "    <tr>\n",
       "      <th>179635</th>\n",
       "      <td>5</td>\n",
       "      <td>POINT (8.08700 47.55841)</td>\n",
       "      <td>NaN</td>\n",
       "    </tr>\n",
       "    <tr>\n",
       "      <th>...</th>\n",
       "      <td>...</td>\n",
       "      <td>...</td>\n",
       "      <td>...</td>\n",
       "    </tr>\n",
       "    <tr>\n",
       "      <th>35780872</th>\n",
       "      <td>3</td>\n",
       "      <td>POINT (8.69160 54.90699)</td>\n",
       "      <td>NaN</td>\n",
       "    </tr>\n",
       "    <tr>\n",
       "      <th>35780956</th>\n",
       "      <td>3</td>\n",
       "      <td>POINT (8.69001 54.90787)</td>\n",
       "      <td>NaN</td>\n",
       "    </tr>\n",
       "    <tr>\n",
       "      <th>35781241</th>\n",
       "      <td>9</td>\n",
       "      <td>POINT (8.67119 54.91127)</td>\n",
       "      <td>NaN</td>\n",
       "    </tr>\n",
       "    <tr>\n",
       "      <th>35781242</th>\n",
       "      <td>3</td>\n",
       "      <td>POINT (8.67275 54.91129)</td>\n",
       "      <td>NaN</td>\n",
       "    </tr>\n",
       "    <tr>\n",
       "      <th>35784206</th>\n",
       "      <td>6</td>\n",
       "      <td>POINT (8.42414 55.01087)</td>\n",
       "      <td>NaN</td>\n",
       "    </tr>\n",
       "  </tbody>\n",
       "</table>\n",
       "<p>495 rows × 3 columns</p>\n",
       "</div>"
      ],
      "text/plain": [
       "          Einwohner                  geometry NUTS_ID\n",
       "110339            5  POINT (9.91838 47.53103)     NaN\n",
       "115713           13  POINT (9.73521 47.53524)     NaN\n",
       "116840           13  POINT (9.73654 47.53615)     NaN\n",
       "154989           19  POINT (9.74703 47.56137)     NaN\n",
       "179635            5  POINT (8.08700 47.55841)     NaN\n",
       "...             ...                       ...     ...\n",
       "35780872          3  POINT (8.69160 54.90699)     NaN\n",
       "35780956          3  POINT (8.69001 54.90787)     NaN\n",
       "35781241          9  POINT (8.67119 54.91127)     NaN\n",
       "35781242          3  POINT (8.67275 54.91129)     NaN\n",
       "35784206          6  POINT (8.42414 55.01087)     NaN\n",
       "\n",
       "[495 rows x 3 columns]"
      ]
     },
     "execution_count": 19,
     "metadata": {},
     "output_type": "execute_result"
    }
   ],
   "source": [
    "pop_r.loc[pop_r['NUTS_ID'].isna()]"
   ]
  },
  {
   "cell_type": "code",
   "execution_count": 20,
   "metadata": {},
   "outputs": [
    {
     "data": {
      "text/plain": [
       "<AxesSubplot:>"
      ]
     },
     "execution_count": 20,
     "metadata": {},
     "output_type": "execute_result"
    },
    {
     "data": {
      "image/png": "[encoded data removed]",
      "text/plain": [
       "<Figure size 432x288 with 1 Axes>"
      ]
     },
     "metadata": {
      "needs_background": "light"
     },
     "output_type": "display_data"
    }
   ],
   "source": [
    "# Visualise\n",
    "#zones_plot = sm.plot('zones', alpha=0.1, figsize=[16, 9], color='green')\n",
    "pop_r.plot(markersize=list(pop_r['Einwohner']/58), alpha=0.2)#, ax=zones_plot)"
   ]
  },
  {
   "cell_type": "markdown",
   "metadata": {},
   "source": [
    "### Apply K-Means to find weighted distances of PT stops"
   ]
  },
  {
   "cell_type": "code",
   "execution_count": 21,
   "metadata": {},
   "outputs": [
    {
     "data": {
      "text/plain": [
       "(423899, 5)"
      ]
     },
     "execution_count": 21,
     "metadata": {},
     "output_type": "execute_result"
    }
   ],
   "source": [
    "sm.nodes.shape"
   ]
  },
  {
   "cell_type": "code",
   "execution_count": 22,
   "metadata": {},
   "outputs": [],
   "source": [
    "# Settings:\n",
    "dist_col = 'weighted_dist'\n",
    "mean_dist_col = 'mean_weighted_dist'\n",
    "cent_col = 'cluster_center'\n",
    "pop_col = 'population'\n",
    "max_iter_per_group = 10"
   ]
  },
  {
   "cell_type": "code",
   "execution_count": 23,
   "metadata": {},
   "outputs": [],
   "source": [
    "def weighted_dist(zone):\n",
    "    nuts_id = zone['NUTS_ID'].unique()[0]\n",
    "    # Get the population points\n",
    "    pop_p = pop_r.loc[pop_r['NUTS_ID']==nuts_id]\n",
    "    # Count the number of PT stops in the zone and make it the number of clusters\n",
    "    n_clusters = len(zone.index)\n",
    "    if n_clusters > 0:\n",
    "        # Prepare sample\n",
    "        X = np.array([[p.x, p.y] for p in list(pop_p['geometry'])])\n",
    "        # Prepare initial starting points\n",
    "        nodes_coords = np.array([[p.x, p.y] for p in list(zone['geometry'])])\n",
    "        # Apply weighted K-Means\n",
    "        kmeans = KMeans(n_clusters=n_clusters,\n",
    "                        random_state=0,\n",
    "                        init=nodes_coords,\n",
    "                        max_iter=max_iter_per_group)\n",
    "        kmeans.fit(X, sample_weight=np.array(list(pop_p['Einwohner'])))\n",
    "        # Create results DataFrame\n",
    "        zone[cent_col] = [geometry.Point(c[0], c[1]) for c in kmeans.cluster_centers_]\n",
    "        # Add population to calculate the mean weighted distance for each zone later\n",
    "        #pop_p['label'] = list(kmeans.labels_)\n",
    "        #zone[pop_col] = list(pop_p.groupby('label').agg({'Einwohner': 'sum'})['Einwohner'])\n",
    "        #zone[pop_col] = sm.zones.loc[nuts_id, 'population']\n",
    "        # Calculate distance between centroid and PT node\n",
    "        zone[dist_col] = [geodesic(kmeans.cluster_centers_[i], nodes_coords[i]).km * 1000\n",
    "                          for i in range(n_clusters)]\n",
    "        # Add mean weighted distance\n",
    "        zone[mean_dist_col] = zone[dist_col].mean()\n",
    "        return zone\n",
    "    else:\n",
    "        return"
   ]
  },
  {
   "cell_type": "code",
   "execution_count": 24,
   "metadata": {
    "scrolled": true
   },
   "outputs": [
    {
     "name": "stderr",
     "output_type": "stream",
     "text": [
      "100%|██████████| 1232/1232 [35:24<00:00,  1.72s/it] \n"
     ]
    }
   ],
   "source": [
    "# Generate clusters for every route type\n",
    "tqdm.pandas()\n",
    "clusters = sm.nodes.groupby(['route_type', 'NUTS_ID']).progress_apply(weighted_dist)"
   ]
  },
  {
   "cell_type": "code",
   "execution_count": 54,
   "metadata": {},
   "outputs": [
    {
     "data": {
      "text/html": [
       "<div>\n",
       "<style scoped>\n",
       "    .dataframe tbody tr th:only-of-type {\n",
       "        vertical-align: middle;\n",
       "    }\n",
       "\n",
       "    .dataframe tbody tr th {\n",
       "        vertical-align: top;\n",
       "    }\n",
       "\n",
       "    .dataframe thead th {\n",
       "        text-align: right;\n",
       "    }\n",
       "</style>\n",
       "<table border=\"1\" class=\"dataframe\">\n",
       "  <thead>\n",
       "    <tr style=\"text-align: right;\">\n",
       "      <th></th>\n",
       "      <th>route_type</th>\n",
       "      <th>stop_name</th>\n",
       "      <th>geometry</th>\n",
       "      <th>NUTS_ID</th>\n",
       "      <th>cluster_center</th>\n",
       "      <th>weighted_dist</th>\n",
       "      <th>mean_weighted_dist</th>\n",
       "    </tr>\n",
       "  </thead>\n",
       "  <tbody>\n",
       "    <tr>\n",
       "      <th>bus_node_221326</th>\n",
       "      <td>bus</td>\n",
       "      <td>Laggenbeck, Maug/Goldhügel</td>\n",
       "      <td>POINT (7.78982 52.28185)</td>\n",
       "      <td>DEA37</td>\n",
       "      <td>POINT (7.790976683345642 52.27827429601009)</td>\n",
       "      <td>414.030564</td>\n",
       "      <td>6540.454340</td>\n",
       "    </tr>\n",
       "    <tr>\n",
       "      <th>bus_node_x323301</th>\n",
       "      <td>bus</td>\n",
       "      <td>Silberhütte Forsthaus Fürst Viktor</td>\n",
       "      <td>POINT (11.09340 51.61980)</td>\n",
       "      <td>DEE09</td>\n",
       "      <td>POINT (11.08931716925409 51.61431312284276)</td>\n",
       "      <td>750.283909</td>\n",
       "      <td>4416.224758</td>\n",
       "    </tr>\n",
       "    <tr>\n",
       "      <th>bus_node_141038</th>\n",
       "      <td>bus</td>\n",
       "      <td>Hofgeismar Hofgeismar Eschstruthplatz</td>\n",
       "      <td>POINT (9.38708 51.49184)</td>\n",
       "      <td>DE734</td>\n",
       "      <td>POINT (9.386974045663941 51.49164765499887)</td>\n",
       "      <td>24.213315</td>\n",
       "      <td>2978.595075</td>\n",
       "    </tr>\n",
       "    <tr>\n",
       "      <th>bus_node_198154</th>\n",
       "      <td>bus</td>\n",
       "      <td>Bü-Hunnebrock, Heide</td>\n",
       "      <td>POINT (8.58709 52.17711)</td>\n",
       "      <td>DEA43</td>\n",
       "      <td>POINT (8.585679625948822 52.17912697739152)</td>\n",
       "      <td>271.394106</td>\n",
       "      <td>1731.581980</td>\n",
       "    </tr>\n",
       "  </tbody>\n",
       "</table>\n",
       "</div>"
      ],
      "text/plain": [
       "                 route_type                              stop_name  \\\n",
       "bus_node_221326         bus             Laggenbeck, Maug/Goldhügel   \n",
       "bus_node_x323301        bus     Silberhütte Forsthaus Fürst Viktor   \n",
       "bus_node_141038         bus  Hofgeismar Hofgeismar Eschstruthplatz   \n",
       "bus_node_198154         bus                   Bü-Hunnebrock, Heide   \n",
       "\n",
       "                                   geometry NUTS_ID  \\\n",
       "bus_node_221326    POINT (7.78982 52.28185)   DEA37   \n",
       "bus_node_x323301  POINT (11.09340 51.61980)   DEE09   \n",
       "bus_node_141038    POINT (9.38708 51.49184)   DE734   \n",
       "bus_node_198154    POINT (8.58709 52.17711)   DEA43   \n",
       "\n",
       "                                               cluster_center  weighted_dist  \\\n",
       "bus_node_221326   POINT (7.790976683345642 52.27827429601009)     414.030564   \n",
       "bus_node_x323301  POINT (11.08931716925409 51.61431312284276)     750.283909   \n",
       "bus_node_141038   POINT (9.386974045663941 51.49164765499887)      24.213315   \n",
       "bus_node_198154   POINT (8.585679625948822 52.17912697739152)     271.394106   \n",
       "\n",
       "                  mean_weighted_dist  \n",
       "bus_node_221326          6540.454340  \n",
       "bus_node_x323301         4416.224758  \n",
       "bus_node_141038          2978.595075  \n",
       "bus_node_198154          1731.581980  "
      ]
     },
     "execution_count": 54,
     "metadata": {},
     "output_type": "execute_result"
    }
   ],
   "source": [
    "clusters.sample(4)"
   ]
  },
  {
   "cell_type": "code",
   "execution_count": 26,
   "metadata": {},
   "outputs": [
    {
     "data": {
      "text/plain": [
       "route_type\n",
       "air                    [[AxesSubplot(0.125,0.125;0.775x0.755)]]\n",
       "bus                    [[AxesSubplot(0.125,0.125;0.775x0.755)]]\n",
       "coach                  [[AxesSubplot(0.125,0.125;0.775x0.755)]]\n",
       "rail_long_distance     [[AxesSubplot(0.125,0.125;0.775x0.755)]]\n",
       "rail_short_distance    [[AxesSubplot(0.125,0.125;0.775x0.755)]]\n",
       "dtype: object"
      ]
     },
     "execution_count": 26,
     "metadata": {},
     "output_type": "execute_result"
    },
    {
     "data": {
      "image/png": "[encoded data removed]",
      "text/plain": [
       "<Figure size 432x288 with 1 Axes>"
      ]
     },
     "metadata": {
      "needs_background": "light"
     },
     "output_type": "display_data"
    },
    {
     "data": {
      "image/png": "[encoded data removed]",
      "text/plain": [
       "<Figure size 432x288 with 1 Axes>"
      ]
     },
     "metadata": {
      "needs_background": "light"
     },
     "output_type": "display_data"
    },
    {
     "data": {
      "image/png": "[encoded data removed]",
      "text/plain": [
       "<Figure size 432x288 with 1 Axes>"
      ]
     },
     "metadata": {
      "needs_background": "light"
     },
     "output_type": "display_data"
    },
    {
     "data": {
      "image/png": "[encoded data removed]",
      "text/plain": [
       "<Figure size 432x288 with 1 Axes>"
      ]
     },
     "metadata": {
      "needs_background": "light"
     },
     "output_type": "display_data"
    },
    {
     "data": {
      "image/png": "[encoded data removed]",
      "text/plain": [
       "<Figure size 432x288 with 1 Axes>"
      ]
     },
     "metadata": {
      "needs_background": "light"
     },
     "output_type": "display_data"
    }
   ],
   "source": [
    "clusters.groupby('route_type').hist(column=dist_col, bins=100)"
   ]
  },
  {
   "cell_type": "code",
   "execution_count": 55,
   "metadata": {},
   "outputs": [],
   "source": [
    "# Save the population centroids\n",
    "clusters.to_csv('../input/spatial_census_refined.csv')"
   ]
  }
 ],
 "metadata": {
  "kernelspec": {
   "display_name": "Python 3",
   "language": "python",
   "name": "python3"
  },
  "language_info": {
   "codemirror_mode": {
    "name": "ipython",
    "version": 3
   },
   "file_extension": ".py",
   "mimetype": "text/x-python",
   "name": "python",
   "nbconvert_exporter": "python",
   "pygments_lexer": "ipython3",
   "version": "3.8.1"
  }
 },
 "nbformat": 4,
 "nbformat_minor": 4
}
