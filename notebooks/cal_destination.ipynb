{
 "cells": [
  {
   "cell_type": "code",
   "execution_count": 1,
   "metadata": {},
   "outputs": [],
   "source": [
    "import sys # for automation and parallelisation\n",
    "manual, scenario = (True, 'base') if 'ipykernel' in sys.argv[0] else (False, sys.argv[1])"
   ]
  },
  {
   "cell_type": "code",
   "execution_count": 2,
   "metadata": {},
   "outputs": [],
   "source": [
    "import os\n",
    "import biogeme.database as db\n",
    "import biogeme.biogeme as bio\n",
    "import biogeme.models as models\n",
    "from biogeme import expressions as ex\n",
    "import pandas as pd\n",
    "import numpy as np\n",
    "from tqdm import tqdm\n",
    "from quetzal.io import excel"
   ]
  },
  {
   "cell_type": "markdown",
   "metadata": {},
   "source": [
    "# Calibration\n",
    "## Estimation of the model parameters\n",
    "quetzal_germany is being estimated using [PandasBiogeme](https://biogeme.epfl.ch/). This notebook estimates calibration parameters for the model's utility functions.\n",
    "- Documentation and reference: [Bierlaire, M. (2020). A short introduction to PandasBiogeme. Technical report TRANSP-OR 200605. Transport and Mobility Laboratory, ENAC, EPFL.](https://transp-or.epfl.ch/documents/technicalReports/Bier20.pdf)\n",
    "- Tutorial: https://www.youtube.com/watch?v=OiM94B8WayA"
   ]
  },
  {
   "cell_type": "markdown",
   "metadata": {},
   "source": [
    "### Model formulation\n",
    "\n",
    "The joint generation and distribution model makes distance classes in destination choice obsolete. It accounts for each possible destination zone plus a stay option (not making any trip).\n",
    "\n",
    "$V_i^{o,zone} = V_{i,mode}^{o,zone} + log(\\sum_{j\\in A} \\beta_j a_{i,j}) + \\beta_{dist} dist_{o,zone} + \\beta_{pop} pop\\_dens_{zone}$\n",
    "\n",
    "with $\\beta_1=1$ (covered in theory in Daly (1982; DOI: 10.1016/0191-2615(82)90037-6)). Zone- and purpose-specific attraction attributes are:\n",
    "\n",
    "$A = \\{D\\_EMPL, D\\_SHOP, D\\_EDU, D\\_LEISURE, D\\_ACCOM\\}$\n",
    "\n",
    "In the choice tree, each zone has a nest of modes to reach it. In case of sequential estimation, results of the mode tier become aggregated with the formula of composite cost (logsum of mode choice model).\n",
    "\n",
    "Index i marks the demand group. I = {'commuting' (1), 'education' (2), 'shopping/medical' (3), 'business' (4), 'private' (6)} x {'no_car' (0), 'car_owned' (1)}"
   ]
  },
  {
   "cell_type": "code",
   "execution_count": 3,
   "metadata": {},
   "outputs": [],
   "source": [
    "input_path = '../input/'\n",
    "model_path = '../model/'\n",
    "output_path = '../output/'"
   ]
  },
  {
   "cell_type": "code",
   "execution_count": 4,
   "metadata": {},
   "outputs": [],
   "source": [
    "# Load parameters for settings\n",
    "params = excel.read_var(file='../input/parameters.xls', scenario=scenario)"
   ]
  },
  {
   "cell_type": "markdown",
   "metadata": {},
   "source": [
    "## Prepare the database"
   ]
  },
  {
   "cell_type": "code",
   "execution_count": 5,
   "metadata": {},
   "outputs": [],
   "source": [
    "df = pd.read_csv(input_path + 'transport_demand/calibration_all_trips_MiD2017.csv')\n",
    "df = df[['cost_rail_short', 'cost_rail_long', 'cost_car', 'cost_coach', 'cost_bus', 'cost_walk', 'cost_air',\n",
    "         'time_rail_short', 'time_rail_long', 'time_car', 'time_coach', 'time_bus', 'time_walk', 'time_air',\n",
    "         'mode_model', 'purpose_model', 'purpose2', 'car_avail', 'length', 'origin', 'destination', 'P_ID', 'W_GEW',\n",
    "         'dest_urban', 'dest_pop', 'dest_employment', 'dest_area',\n",
    "         'dest_shopping_many', 'dest_shopping_few', 'dest_education_many', 'dest_education_few',\n",
    "         'dest_leisure_many', 'dest_leisure_few', 'dest_accompany']]\n",
    "df.columns = ['C_RAIL_S', 'C_RAIL_L', 'C_CAR', 'C_COACH', 'C_BUS', 'C_NON_MOTOR', 'C_AIR',\n",
    "              'T_RAIL_S', 'T_RAIL_L', 'T_CAR', 'T_COACH', 'T_BUS', 'T_NON_MOTOR', 'T_AIR',\n",
    "              'MODE', 'PURPOSE', 'P2', 'CAR_AV', 'DIST', 'O', 'D', 'P_ID', 'W_GEW',\n",
    "              'D_URBAN', 'D_POP', 'D_EMPL', 'D_AREA',\n",
    "              'D_SHOP-MANY', 'D_SHOP-FEW', 'D_EDU-MANY', 'D_EDU-FEW',\n",
    "              'D_LEISURE-MANY', 'D_LEISURE-FEW', 'D_ACCOM']"
   ]
  },
  {
   "cell_type": "code",
   "execution_count": 6,
   "metadata": {},
   "outputs": [
    {
     "data": {
      "text/plain": [
       "153608"
      ]
     },
     "execution_count": 6,
     "metadata": {},
     "output_type": "execute_result"
    }
   ],
   "source": [
    "# Drop return trips\n",
    "df = df.loc[~df['P2'].isin([8,9])]\n",
    "len(df)"
   ]
  },
  {
   "cell_type": "code",
   "execution_count": 7,
   "metadata": {},
   "outputs": [],
   "source": [
    "# The estimation requires numerical purpose values\n",
    "p_model_dict = {'commuting':1, 'business':2, 'education':3,\n",
    "                'buy/execute':4, 'leisure':6, 'accompany':7}\n",
    "if not pd.api.types.is_numeric_dtype(df['PURPOSE']):\n",
    "    df['PURPOSE'] = df['PURPOSE'].apply(lambda s: p_model_dict[s.split('_')[0]])"
   ]
  },
  {
   "cell_type": "code",
   "execution_count": 8,
   "metadata": {},
   "outputs": [],
   "source": [
    "# Origin and destination must be integer\n",
    "zone_set = set(df['D']).union(set(df['O']))\n",
    "zone_dict = dict(zip(zone_set, range(len(zone_set))))\n",
    "df['O'] = df['O'].map(zone_dict).astype(int)\n",
    "df['D'] = df['D'].map(zone_dict).astype(int)"
   ]
  },
  {
   "cell_type": "code",
   "execution_count": 9,
   "metadata": {},
   "outputs": [],
   "source": [
    "inf = 99999\n",
    "df = df.replace({np.inf:inf})"
   ]
  },
  {
   "cell_type": "code",
   "execution_count": 10,
   "metadata": {},
   "outputs": [
    {
     "data": {
      "text/plain": [
       "0.38044967632545185"
      ]
     },
     "execution_count": 10,
     "metadata": {},
     "output_type": "execute_result"
    }
   ],
   "source": [
    "# Scale population and employment\n",
    "df['D_POP_S'] = df['D_POP'] / 1e6\n",
    "df['D_EMPL_S'] = df['D_EMPL'] / 1e6\n",
    "df['D_POP_S'].mean()"
   ]
  },
  {
   "cell_type": "code",
   "execution_count": 11,
   "metadata": {},
   "outputs": [],
   "source": [
    "# Scale POIs to the same level as population\n",
    "df['D_SHOP-FEW_S'] = df['D_SHOP-FEW'] / 100\n",
    "df['D_EDU-FEW_S'] = df['D_EDU-FEW'] / 100\n",
    "df['D_LEISURE-FEW_S'] = df['D_LEISURE-FEW'] / 100\n",
    "df['D_SHOP-MANY_S'] = df['D_SHOP-MANY'] / 1000\n",
    "df['D_EDU-MANY_S'] = df['D_EDU-MANY'] / 1000\n",
    "df['D_LEISURE-MANY_S'] = df['D_LEISURE-MANY'] / 1000\n",
    "df['D_ACCOM_S'] = df['D_ACCOM'] / 1000"
   ]
  },
  {
   "cell_type": "code",
   "execution_count": 12,
   "metadata": {},
   "outputs": [],
   "source": [
    "# Add Availabilities\n",
    "df['CAR_AV'] = df['CAR_AV'].replace({9:0})\n",
    "df['RAIL_S_AV'] = (df['T_RAIL_S']!=inf).astype(int)\n",
    "df['RAIL_L_AV'] = (df['T_RAIL_L']!=inf).astype(int)\n",
    "df['COACH_AV'] = (df['T_COACH']!=inf).astype(int)\n",
    "df['BUS_AV'] = (df['T_BUS']!=inf).astype(int)\n",
    "df['AIR_AV'] = (df['T_AIR']!=inf).astype(int)\n",
    "df['NON_MOTOR_AV'] = (df['T_NON_MOTOR']!=inf).astype(int)"
   ]
  },
  {
   "cell_type": "markdown",
   "metadata": {},
   "source": [
    "### Distance classes\n",
    "\n",
    "Destination choice does not work for a large set of choice options, such as 400 zones. Thus, the individual choice sets are limited to various distance classes, which are consistent with the stay/go and distance choice model."
   ]
  },
  {
   "cell_type": "code",
   "execution_count": 13,
   "metadata": {},
   "outputs": [
    {
     "data": {
      "text/plain": [
       "153608"
      ]
     },
     "execution_count": 13,
     "metadata": {},
     "output_type": "execute_result"
    }
   ],
   "source": [
    "# Clean distances\n",
    "df = df.loc[df['DIST']<=1000]\n",
    "df['DIST'] = df['DIST'].astype(int)\n",
    "len(df)"
   ]
  },
  {
   "cell_type": "code",
   "execution_count": 14,
   "metadata": {},
   "outputs": [],
   "source": [
    "# Classify into distance bins\n",
    "bins = [-1, 20, 50, 100, 1000]\n",
    "df['DIST_bin'] = pd.cut(df['DIST'], bins=bins, labels=bins[1:]).astype(int)"
   ]
  },
  {
   "cell_type": "raw",
   "metadata": {},
   "source": [
    "# Origin-destination distances in MiD are very random and do not\n",
    "# neccessarily represent reality. We can obtain the most reported\n",
    "# distance class as most probable distance class for every OD pair.\n",
    "# Save distance classes into a dict by OD pair\n",
    "#dist_dict = df.groupby(['O', 'D'])['DIST_bin'].value_counts().unstack().idxmax(axis=1).to_dict()"
   ]
  },
  {
   "cell_type": "raw",
   "metadata": {},
   "source": [
    "# Now, we can drop observations with wrong distances or OD pairs\n",
    "# which also affected LoS attributes in the previous step\n",
    "#df['DIST_bin'] = [dist_dict[a] for a in tuple(zip(df['O'], df['D']))]\n",
    "#df = df.loc[df['DIST_bin']==pd.cut(df['DIST'], bins=bins, labels=bins[1:])]\n",
    "#df.shape"
   ]
  },
  {
   "cell_type": "code",
   "execution_count": 15,
   "metadata": {},
   "outputs": [
    {
     "data": {
      "text/plain": [
       "DIST_bin\n",
       "1       91411\n",
       "20      42016\n",
       "50      16502\n",
       "100      2682\n",
       "1000      997\n",
       "Name: O, dtype: int64"
      ]
     },
     "execution_count": 15,
     "metadata": {},
     "output_type": "execute_result"
    }
   ],
   "source": [
    "# Create a bin for inner-zonal trips\n",
    "bins = [1] + bins[1:]\n",
    "df.loc[df['D']==df['O'], 'DIST_bin'] = 1\n",
    "df.groupby('DIST_bin').count()['O']#.plot.pie()"
   ]
  },
  {
   "cell_type": "code",
   "execution_count": 16,
   "metadata": {},
   "outputs": [],
   "source": [
    "# Trip is inner- or inter-zonal?\n",
    "df['GO'] = df['DIST_bin'].clip(lower=0, upper=2).astype(int)"
   ]
  },
  {
   "cell_type": "markdown",
   "metadata": {},
   "source": [
    "## Model variables\n",
    "All columns are variables. DefineVariable creates a new column in the database."
   ]
  },
  {
   "cell_type": "markdown",
   "metadata": {},
   "source": [
    "#### Cost damping\n",
    "\n",
    "Many modelling studies have shown that cost damping is required in order to flatten the tail of time/cost elasticities, i.e. decrease the impact of long distances on choice results to prevent from overestimation of time/cost parameters. Cost damping represents the property of decreasing marginal utility. It is commonly approached with Box-Cox transformations of generalised cost (usually defined as the sum of travel time and travel expenditures divided by the value of time). Daly (2010) proposes a hybrid function as a sum of the linear term and the narural logarithm of the same. However, the linear term still dominates cost on long distances. Rich (2015), main developer of the Danish National Transport Model, proposes a more complex spline function which successfully manages cost damping and even outperforms the Box-Cox transformation in terms of stability of elasticities."
   ]
  },
  {
   "cell_type": "code",
   "execution_count": 17,
   "metadata": {},
   "outputs": [],
   "source": [
    "# The cost damping function from Rich (2020)\n",
    "c = params['estimation']\n",
    "def spline(x, beta, c1, c2, Q=3):\n",
    "    alpha = [0, -beta/2*ex.Power(ex.log(c1),3),\n",
    "             -beta/2*ex.log(c1)*(3*ex.Power(ex.log(c2),2)+ex.Power(ex.log(c1),2))] # for Q=3\n",
    "    theta = [1, 3/2*ex.log(c1), 3*ex.log(c1)*ex.log(c2)] # for Q=3\n",
    "    return (beta*theta[0]*ex.Power(ex.log(x),Q-1+1) + alpha[0]) * (x<c1) \\\n",
    "    + (beta*theta[1]*ex.Power(ex.log(x),Q-2+1) + alpha[1]) * (x>=c1)*(x<c2) \\\n",
    "    + (beta*theta[2]*ex.Power(ex.log(x),Q-3+1) + alpha[2]) * (x>=c2)"
   ]
  },
  {
   "cell_type": "markdown",
   "metadata": {},
   "source": [
    "#### Generalised cost\n",
    "\n",
    "Both, travel time and monetary cost should be affected by cost damping measures. It is logical to define a generalised cost term `GC` with dimension of time units. This requires definition or estimation of values of time, in order to rescale monetary units, for all segments. Usually, the value of time (VoT) is distance-dependent. In the case of Germany, VoT can be taken from research undertaken within the Federal Government's transport study \"Bundesverkehrswegeplan 2030\": Axhausen et al. 2015. Ermittlung von Bewertungsansätzen für Reisezeiten und Zuverlässigkeit auf der Basis eines Modells für modale Verlagerungen im nicht-gewerblichen und gewerblichen Personenverkehr für die Bundesverkehrswegeplanung"
   ]
  },
  {
   "cell_type": "code",
   "execution_count": 18,
   "metadata": {},
   "outputs": [],
   "source": [
    "# Load VoT for GC calculation\n",
    "vot = pd.read_csv(input_path + 'vot.csv', header=[0,1], index_col=0).to_dict()"
   ]
  },
  {
   "cell_type": "code",
   "execution_count": 19,
   "metadata": {},
   "outputs": [],
   "source": [
    "# Translation of purposes (MiD2017 to VP2030)\n",
    "p_dict = {1:'Fz1', 3:'Fz2', 4:'Fz3', 2:'Fz4', 6:'Fz6', 7:'Fz6'}"
   ]
  },
  {
   "cell_type": "code",
   "execution_count": 20,
   "metadata": {},
   "outputs": [],
   "source": [
    "# define the GC function\n",
    "car_vot_descr = ['PT', 'all'] # for indexing with car=[0,1]\n",
    "def GC(time, price, p, car, dist):\n",
    "    return time + (price / vot[(p, car_vot_descr[car])][dist])"
   ]
  },
  {
   "cell_type": "markdown",
   "metadata": {},
   "source": [
    "#### Utility\n",
    "\n",
    "The database should have columns with prices and travel times for each mode of the trip which can be used to calculate utilities of mode choice, given the estimated beta parameters from the mode choice step."
   ]
  },
  {
   "cell_type": "code",
   "execution_count": 21,
   "metadata": {},
   "outputs": [],
   "source": [
    "# Load mode choice parameters\n",
    "beta_time = {} # time in minutes\n",
    "beta_price = {}\n",
    "excel = pd.ExcelFile(input_path + 'estimation_results_mode.xlsx')\n",
    "p_dict_model = {1:'commuting', 2:'business', 3:'education', 4:'buy/execute', 6:'leisure', 7:'accompany'}\n",
    "for p, p_str in p_dict_model.items():\n",
    "    beta_time[p] = {}\n",
    "    beta_price[p] = {}\n",
    "    for car, car_str in {1:'_car', 0:'_no_car'}.items():\n",
    "        params_est = excel.parse(p_str.replace('/', '-')+car_str, index_col=0)\n",
    "        beta_time[p][car] = params_est.loc['b_t', 'Value']\n",
    "        try:\n",
    "            beta_price[p][car] = params_est.loc['b_c', 'Value']\n",
    "        except KeyError:\n",
    "            beta_price[p][car] = 0"
   ]
  },
  {
   "cell_type": "code",
   "execution_count": 22,
   "metadata": {},
   "outputs": [],
   "source": [
    "# Function to get utility of travel time\n",
    "def time_ut(time, p, car):\n",
    "    # Given time in minutes and the segment (purpose, car)\n",
    "    #return spline(time, beta_time[p][car], c['c1_time_'+str(p_dict[p][-1])]*60, c['c2_time_'+str(p_dict[p][-1])]*60)\n",
    "    # The fist part of the spline is a log-power\n",
    "    return np.power(np.log(time), 3) * beta_time[p][car]"
   ]
  },
  {
   "cell_type": "code",
   "execution_count": 23,
   "metadata": {},
   "outputs": [],
   "source": [
    "# Function to get utility of price\n",
    "def price_ut(price, p, car):\n",
    "    # Given the price and the segment (purpose, car)\n",
    "    return price * beta_price[p][car]"
   ]
  },
  {
   "cell_type": "markdown",
   "metadata": {},
   "source": [
    "#### Composite cost / logsum\n",
    "In a sequential estimation process, it is required to aggregate all variables of the upper decision level and insert them in this decision level. Using the formula from Walker (1977) - see formula 6.10 in Ortúzar and Willumsen (2011) p. 213 - we can assume that the perception of alternatives is depicted properly."
   ]
  },
  {
   "cell_type": "code",
   "execution_count": 24,
   "metadata": {},
   "outputs": [],
   "source": [
    "# Load inter-zonal composite cost from mode choice step\n",
    "cc = pd.read_csv(output_path + scenario + '/mode_choice_od_composite_cost.csv')\n",
    "# Map to integer zone names and drop unused pairs\n",
    "cc['origin'] = cc['origin'].map(zone_dict)\n",
    "cc['destination'] = cc['destination'].map(zone_dict)\n",
    "cc = cc.loc[(cc['origin'].notna()) & (cc['destination'].notna())]\n",
    "cc['origin'] = cc['origin'].astype(int)\n",
    "cc['destination'] = cc['destination'].astype(int)\n",
    "cc.set_index(['origin', 'destination'], inplace=True)\n",
    "cc.index.names = ['O', 'D']\n",
    "# Rename segments to integer values\n",
    "cc.columns = pd.MultiIndex.from_tuples(\n",
    "    [(p_model_dict[seg.split('_')[0]], {'no': 0, 'car': 1}[seg.split('_')[1]])\n",
    "     for seg in cc.columns],\n",
    "    names=['PURPOSE', 'CAR_AV'])\n",
    "# Reshape the table into a mergable format\n",
    "cc = cc.unstack('D').stack('PURPOSE').stack('CAR_AV')\n",
    "cc.columns = ['CC_'+str(zone) for zone in cc.columns]"
   ]
  },
  {
   "cell_type": "code",
   "execution_count": 25,
   "metadata": {},
   "outputs": [],
   "source": [
    "# Correct negative values (might come from positive parameters in mode choice estimation)\n",
    "cc = cc.abs()"
   ]
  },
  {
   "cell_type": "code",
   "execution_count": 26,
   "metadata": {},
   "outputs": [],
   "source": [
    "# Inter-zonal CC\n",
    "df = df.merge(cc, how='left', left_on=['O', 'PURPOSE', 'CAR_AV'], right_index=True)"
   ]
  },
  {
   "cell_type": "code",
   "execution_count": 27,
   "metadata": {},
   "outputs": [
    {
     "name": "stderr",
     "output_type": "stream",
     "text": [
      "100%|██████████████████████████████████████████████████████████████████████████████| 3107/3107 [00:34<00:00, 89.41it/s]\n"
     ]
    }
   ],
   "source": [
    "# Inner-zonal\n",
    "for d in tqdm(list(zone_dict.values())):\n",
    "    mask = df['O']!=d\n",
    "    car_av_s = df.loc[~mask, 'CAR_AV']\n",
    "    p_s = df.loc[~mask, 'PURPOSE']\n",
    "    t_rail_s = pd.Series([time_ut(t, p, car) if t!=inf else np.nan\n",
    "                          for t,p,car in zip(df.loc[~mask, 'T_RAIL_S'], p_s, car_av_s)],\n",
    "                         dtype=float)\n",
    "    t_bus_s = pd.Series([time_ut(t, p, car) if t!=inf else np.nan\n",
    "                         for t,p,car in zip(df.loc[~mask, 'T_BUS'], p_s, car_av_s)],\n",
    "                         dtype=float)\n",
    "    t_car_s = pd.Series([time_ut(t, p, car) if car==1 else np.nan\n",
    "                         for t,p,car in zip(df.loc[~mask, 'T_CAR'], p_s, car_av_s)],\n",
    "                         dtype=float)\n",
    "    t_non_s = pd.Series([time_ut(t, p, car) if t!=inf else np.nan\n",
    "                         for t,p,car in zip(df.loc[~mask, 'T_NON_MOTOR'], p_s, car_av_s)],\n",
    "                         dtype=float)\n",
    "    p_rail_s = pd.Series([price_ut(t, p, car) if t!=inf else np.nan\n",
    "                          for t,p,car in zip(df.loc[~mask, 'C_RAIL_S'], p_s, car_av_s)],\n",
    "                         dtype=float)\n",
    "    p_bus_s = pd.Series([price_ut(t, p, car) if t!=inf else np.nan\n",
    "                         for t,p,car in zip(df.loc[~mask, 'C_BUS'], p_s, car_av_s)],\n",
    "                         dtype=float)\n",
    "    p_car_s = pd.Series([price_ut(t, p, car) if car==1 else np.nan\n",
    "                         for t,p,car in zip(df.loc[~mask, 'C_CAR'], p_s, car_av_s)],\n",
    "                         dtype=float)\n",
    "    # Calculate the logsum\n",
    "    df.loc[~mask, 'CC_'+str(d)] = [np.log(np.maximum(4, np.sum(\n",
    "        pd.Series([np.exp(-1*(t_rail+p_rail)),\n",
    "                   np.exp(-1*(t_bus+p_bus)),\n",
    "                   np.exp(-1*(t_car+p_car)),\n",
    "                   np.exp(-1*t_non)]))))\n",
    "                                   for t_rail, t_bus, t_car, t_non, p_rail, p_bus, p_car\n",
    "                                   in zip(t_rail_s, t_bus_s, t_car_s, t_non_s,\n",
    "                                          p_rail_s, p_bus_s, p_car_s)]"
   ]
  },
  {
   "cell_type": "code",
   "execution_count": 28,
   "metadata": {},
   "outputs": [
    {
     "data": {
      "text/plain": [
       "153603"
      ]
     },
     "execution_count": 28,
     "metadata": {},
     "output_type": "execute_result"
    }
   ],
   "source": [
    "# Delete observations that are not in inter-zonal CC\n",
    "inter = df.loc[df['O']!=df['D']]\n",
    "drop = inter.T.loc[inter.T.isna().all(axis=1)].index\n",
    "df = df.drop(columns=drop)\n",
    "for i in drop:\n",
    "    df = df.loc[df['D']!=int(i[3:])]\n",
    "len(df)"
   ]
  },
  {
   "cell_type": "code",
   "execution_count": 29,
   "metadata": {},
   "outputs": [],
   "source": [
    "# Fill NaN values with segment's max values\n",
    "for p in df['PURPOSE'].unique():\n",
    "    for car in df['CAR_AV'].unique():\n",
    "        inter_mask = (df['PURPOSE']==p) & (df['CAR_AV']==car) & (df['O']!=df['D']), [c for c in df.columns if c[:2]=='CC']\n",
    "        inner_mask = (df['PURPOSE']==p) & (df['CAR_AV']==car) & (df['O']==df['D']), [c for c in df.columns if c[:2]=='CC']\n",
    "        df.loc[inter_mask] = df.loc[inter_mask].fillna(\n",
    "            cc.xs(p, level='PURPOSE').xs(car, level='CAR_AV').mean().mean())\n",
    "        df.loc[inner_mask] = df.loc[inner_mask].fillna(\n",
    "            df.loc[inner_mask].mean().mean())"
   ]
  },
  {
   "cell_type": "code",
   "execution_count": 30,
   "metadata": {},
   "outputs": [],
   "source": [
    "# All CC must be greater 0\n",
    "assert df[[c for c in df.columns if c.startswith('CC_')]].min().min() > 0"
   ]
  },
  {
   "cell_type": "code",
   "execution_count": 31,
   "metadata": {},
   "outputs": [
    {
     "data": {
      "text/plain": [
       "153597"
      ]
     },
     "execution_count": 31,
     "metadata": {},
     "output_type": "execute_result"
    }
   ],
   "source": [
    "# Add distances to the attributes\n",
    "# in case CC does not suffice as distance measure\n",
    "dist = pd.read_csv(output_path + 'distances_centroids.csv') # km\n",
    "dist = dist.loc[(dist['origin'].astype(int).map(zone_dict).notna())\n",
    "                & (dist['destination'].astype(int).map(zone_dict).notna())]\n",
    "dist['origin'] = dist['origin'].astype(int).map(zone_dict).astype(int)\n",
    "dist['destination'] = dist['destination'].astype(int).map(zone_dict).astype(int)\n",
    "dist.set_index(['origin', 'destination'], inplace=True)\n",
    "#inner_dist = df.loc[df['O']==df['D']].groupby('O')['DIST'].mean()\n",
    "inner_dist = np.power(df.set_index('D')['D_AREA'], 0.5).drop_duplicates()\n",
    "dist = dist.unstack('destination').fillna(inner_dist).fillna(4).droplevel(0, axis=1)\n",
    "df = df.merge(dist, how='left', left_on='O', right_index=True)\n",
    "df.rename(columns={z: 'DIST_'+str(z) for z in df['D'].unique()}, inplace=True)\n",
    "df = df.loc[df.notna().all(axis=1)]\n",
    "len(df)"
   ]
  },
  {
   "cell_type": "code",
   "execution_count": 46,
   "metadata": {},
   "outputs": [
    {
     "data": {
      "image/png": "[encoded data removed]",
      "text/plain": [
       "<Figure size 1800x600 with 12 Axes>"
      ]
     },
     "metadata": {},
     "output_type": "display_data"
    }
   ],
   "source": [
    "# Look into CC-distance relation\n",
    "if manual:\n",
    "    import matplotlib.pyplot as plt\n",
    "    merged = cc.rename(columns={c: int(c.split('_')[1]) for c in cc.columns}\n",
    "                      ).stack().unstack(level='PURPOSE').unstack(level='CAR_AV')\n",
    "    merged['dist'] = dist.stack()\n",
    "    fig, ax = plt.subplots(nrows=2, ncols=6, sharex='all', sharey='all', figsize=(18,6))\n",
    "    count = 0\n",
    "    for p,i in p_model_dict.items():\n",
    "        ax[0,count].set_title(p)\n",
    "        for car in [0,1]:\n",
    "            merged.sample(int(1e5)).plot.scatter(x='dist', y=(i,car), alpha=.1, ax=ax[car,count])\n",
    "        count += 1"
   ]
  },
  {
   "cell_type": "code",
   "execution_count": null,
   "metadata": {},
   "outputs": [],
   "source": [
    "# Add availability columns based on distances and bins\n",
    "# A zone is available, if within that distance bin\n",
    "for zone in tqdm(df['D'].unique()):\n",
    "    df['AV_'+str(zone)] = 0\n",
    "    mask = df['O']!=zone\n",
    "    upper_bin = pd.cut(df.loc[mask, 'DIST_'+str(zone)].clip(lower=2, upper=999),\n",
    "                       bins=bins, labels=bins[1:]).astype(int)\n",
    "    lower_bin = pd.cut(df.loc[mask, 'DIST_'+str(zone)].clip(lower=2, upper=999),\n",
    "                       bins=bins, labels=bins[:-1]).astype(int)\n",
    "    df.loc[mask, 'AV_'+str(zone)] = ((df.loc[mask, 'DIST_'+str(zone)] <= upper_bin) \\\n",
    "                                    & (df.loc[mask, 'DIST_'+str(zone)] > lower_bin)).astype(int)\n",
    "    df.loc[~mask, 'AV_'+str(zone)] = ((zone == df.loc[~mask, 'O']) | (df.loc[~mask, 'DIST_bin']==bins[1])).astype(int)"
   ]
  },
  {
   "cell_type": "markdown",
   "metadata": {},
   "source": [
    "#### Zone attraction\n",
    "\n",
    "As for modes, every observation needs attraction attributes for all zones available."
   ]
  },
  {
   "cell_type": "code",
   "execution_count": null,
   "metadata": {},
   "outputs": [],
   "source": [
    "# Generate zone-specific variables for every attribute\n",
    "for attr in ['D_URBAN', 'D_POP', 'D_EMPL', 'D_AREA'#,\n",
    "             #'D_SHOP-MANY', 'D_EDU-MANY', 'D_LEISURE-MANY',\n",
    "             #'D_SHOP-FEW', 'D_EDU-FEW', 'D_LEISURE-FEW', 'D_ACCOM'\n",
    "             #'D_SHOP-MANY_S', 'D_EDU-MANY_S', 'D_LEISURE-MANY_S',\n",
    "             #'D_SHOP-FEW_S', 'D_EDU-FEW_S', 'D_LEISURE-FEW_S', 'D_ACCOM_S'\n",
    "            ]:\n",
    "    attr_dict = df.set_index('D')[attr].to_dict()\n",
    "    for zone, value in attr_dict.items():\n",
    "        globals()[attr.split('_')[1] + '_' + str(zone)] = value\n",
    "    df[attr.replace('D_', 'O_').replace('-', '_')] = df['O'].map(attr_dict).fillna(0)"
   ]
  },
  {
   "cell_type": "code",
   "execution_count": null,
   "metadata": {},
   "outputs": [],
   "source": [
    "df['O_AREA'] += 1"
   ]
  },
  {
   "cell_type": "code",
   "execution_count": null,
   "metadata": {},
   "outputs": [],
   "source": [
    "# Generate categories of OSM POIs\n",
    "cats = pd.read_excel(input_path + 'spatial_OSM_POI_list.xlsx', sheet_name='categories')\n",
    "pois = pd.read_csv(input_path + 'spatial_num_pois_raw.csv', index_col='index')\n",
    "cats['label'] = (cats['key'] + ' ' + cats['value'].fillna('')).str.strip()\n",
    "col_dict = cats.loc[cats['category'].notna()\n",
    "                   ].groupby('category').agg({'label': list}).to_dict()['label']\n",
    "for category, columns in col_dict.items():\n",
    "    attr_dict = pois[columns].sum(axis=1).to_dict()\n",
    "    for zone, value in attr_dict.items():\n",
    "        if zone in zone_dict.keys():\n",
    "            globals()[category.upper() + '_' + str(zone_dict[zone])] = value\n",
    "    df['O_'+category.upper()] = df['O'].map(attr_dict).fillna(0)\n",
    "    print(category.upper())"
   ]
  },
  {
   "cell_type": "markdown",
   "metadata": {},
   "source": [
    "### Create database\n",
    "\n",
    "This makes all columns become global variables."
   ]
  },
  {
   "cell_type": "code",
   "execution_count": null,
   "metadata": {},
   "outputs": [],
   "source": [
    "# Create the initial database and make columns global variables\n",
    "database = db.Database('MiD2017', df.copy())\n",
    "globals().update(database.variables)\n",
    "database.getSampleSize()"
   ]
  },
  {
   "cell_type": "markdown",
   "metadata": {},
   "source": [
    "## Estimation parameters"
   ]
  },
  {
   "cell_type": "code",
   "execution_count": null,
   "metadata": {},
   "outputs": [],
   "source": [
    "# Destination choice / attraction\n",
    "b_urban = ex.Beta('b_urban', 0, None, None, 0)\n",
    "b_pop = ex.Beta('b_pop', 0, None, None, 0)\n",
    "b_empl = ex.Beta('b_empl', 0.1, 0, None, 0)\n",
    "b_shop1 = ex.Beta('b_shop1', 0, 0, None, 0)\n",
    "b_edu1 = ex.Beta('b_edu1', 0, 0, None, 0)\n",
    "b_leisure1 = ex.Beta('b_leisure1', 0, 0, None, 0)\n",
    "b_accom1 = ex.Beta('b_accom1', 0, 0, None, 0)\n",
    "b_shop2 = ex.Beta('b_shop2', 0, 0, None, 0)\n",
    "b_edu2 = ex.Beta('b_edu2', 0, 0, None, 0)\n",
    "b_leisure2 = ex.Beta('b_leisure2', 0, 0, None, 0)\n",
    "b_accom2 = ex.Beta('b_accom2', 0, 0, None, 0)\n",
    "b_shop3 = ex.Beta('b_shop3', 0, 0, None, 0)\n",
    "b_edu3 = ex.Beta('b_edu3', 0, 0, None, 0)\n",
    "b_leisure3 = ex.Beta('b_leisure3', 0, 0, None, 0)\n",
    "b_accom3 = ex.Beta('b_accom3', 0, 0, None, 0)\n",
    "b_local = ex.Beta('b_local', 0, None, None, 0)\n",
    "b_area = ex.Beta('b_area', 0, None, None, 0)"
   ]
  },
  {
   "cell_type": "code",
   "execution_count": null,
   "metadata": {},
   "outputs": [],
   "source": [
    "# Beta parameter for size variables, following Daly 1982\n",
    "b_size = ex.Beta('b_size', 0, 0, 1, 0)"
   ]
  },
  {
   "cell_type": "code",
   "execution_count": null,
   "metadata": {},
   "outputs": [],
   "source": [
    "# generalised cost function / mode choice utility parameter\n",
    "b_gc = ex.Beta('b_gc', -0.1, None, 0, 0)\n",
    "# Distance parameter\n",
    "b_dist = ex.Beta('b_dist', 0, None, 0, 0)\n",
    "b_dist2 = ex.Beta('b_dist2', 0, None, None, 0)"
   ]
  },
  {
   "cell_type": "code",
   "execution_count": null,
   "metadata": {},
   "outputs": [],
   "source": [
    "# Logsum parameters\n",
    "phi = ex.Beta('phi', 0.5, 0, 1, 0)"
   ]
  },
  {
   "cell_type": "code",
   "execution_count": null,
   "metadata": {},
   "outputs": [],
   "source": [
    "# Parameters for nests\n",
    "mu_go = ex.Beta('mu_go', 1, 1, 10, 0)\n",
    "mu_u1 = ex.Beta('mu_u1', 1, 1, 10, 0)\n",
    "mu_u2 = ex.Beta('mu_u2', 1, 1, 10, 0)\n",
    "mu_u3 = ex.Beta('mu_u3', 1, 1, 10, 0)"
   ]
  },
  {
   "cell_type": "markdown",
   "metadata": {},
   "source": [
    "### Utility functions"
   ]
  },
  {
   "cell_type": "raw",
   "metadata": {},
   "source": [
    "# Destination choice utility by segment\n",
    "# using the sum of logarithms of variables of size\n",
    "# sumOfLogs\n",
    "V_D = {p: {} for p in df['PURPOSE'].unique()}\n",
    "for car in df['CAR_AV'].unique():\n",
    "    # Commuting\n",
    "    V_D[1][car] = {zone: ex.log(globals()['EMPL_'+str(zone)]) * b_empl\n",
    "           + ex.log((1 + globals()['POP_'+str(zone)]) / globals()['AREA_'+str(zone)]) * b_pop\n",
    "           #+ globals()['URBAN_'+str(zone)] * b_urban\n",
    "           + globals()['CC_'+str(zone)] * b_gc\n",
    "           for zone in df['D'].unique()}\n",
    "    ## Business\n",
    "    V_D[2][car] = {zone: ex.log(globals()['EMPL_'+str(zone)]) * b_empl\n",
    "           + ex.log((1 + globals()['POP_'+str(zone)]) / globals()['AREA_'+str(zone)]) * b_pop\n",
    "           #+ globals()['URBAN_'+str(zone)] * b_urban\n",
    "           + globals()['CC_'+str(zone)] * b_gc\n",
    "           for zone in df['D'].unique()}\n",
    "    # Education\n",
    "    V_D[3][car] = {zone: ex.log(1 + globals()['HIGHER_EDUCATION_'+str(zone)]) * b_edu1\n",
    "           + ex.log(1 + globals()['SCHOOL_'+str(zone)]) * b_edu2\n",
    "           + ex.log(1 + globals()['CHILDCARE_'+str(zone)]) * b_edu3\n",
    "           + ex.log((1 + globals()['POP_'+str(zone)]) / globals()['AREA_'+str(zone)]) * b_pop\n",
    "           #+ globals()['URBAN_'+str(zone)] * b_urban\n",
    "           + globals()['CC_'+str(zone)] * b_gc\n",
    "           for zone in df['D'].unique()}\n",
    "    # Shopping\n",
    "    V_D[4][car] = {zone: ex.log(1 + globals()['MEDICAL_'+str(zone)]) * b_shop1\n",
    "           + ex.log(1 + globals()['SHOP_'+str(zone)]) * b_shop2\n",
    "           + ex.log(1 + globals()['SPECIAL_SHOP_'+str(zone)]) * b_shop3\n",
    "           + ex.log((1 + globals()['POP_'+str(zone)]) / globals()['AREA_'+str(zone)]) * b_pop\n",
    "           #+ globals()['URBAN_'+str(zone)] * b_urban\n",
    "           + globals()['CC_'+str(zone)] * b_gc\n",
    "           for zone in df['D'].unique()}\n",
    "    # Leisure\n",
    "    V_D[6][car] = {zone: ex.log(1 + globals()['HOLIDAY_'+str(zone)]) * b_leisure1\n",
    "           + ex.log(1 + globals()['DAILY_LEISURE_'+str(zone)]) * b_leisure2\n",
    "           + ex.log(1 + globals()['OCCASIONAL_LEISURE_'+str(zone)]) * b_leisure3\n",
    "           + ex.log((1 + globals()['POP_'+str(zone)]) / globals()['AREA_'+str(zone)]) * b_pop\n",
    "           #+ globals()['URBAN_'+str(zone)] * b_urban\n",
    "           + globals()['CC_'+str(zone)] * b_gc\n",
    "           for zone in df['D'].unique()}\n",
    "    # Accompany\n",
    "    V_D[7][car] = {zone: ex.log(1 + globals()['MEDICAL_'+str(zone)]) * b_accom1\n",
    "           + ex.log(1 + globals()['SCHOOL_'+str(zone)]) * b_accom2\n",
    "           + ex.log(1 + globals()['CHILDCARE_'+str(zone)]) * b_accom3\n",
    "           + ex.log((1 + globals()['POP_'+str(zone)]) / globals()['AREA_'+str(zone)]) * b_pop\n",
    "           #+ globals()['URBAN_'+str(zone)] * b_urban\n",
    "           + globals()['CC_'+str(zone)] * b_gc\n",
    "           for zone in df['D'].unique()}"
   ]
  },
  {
   "cell_type": "code",
   "execution_count": null,
   "metadata": {},
   "outputs": [],
   "source": [
    "# Destination choice utility by segment\n",
    "# using the sum of variables of size in a logarithm\n",
    "# Daly3\n",
    "V_D = {}\n",
    "for p in df['PURPOSE'].unique():\n",
    "    V_D[p] = {}\n",
    "for car in df['CAR_AV'].unique():\n",
    "    # Commuting\n",
    "    V_D[1][car] = {zone: ex.log(1 + globals()['EMPL_'+str(zone)] / globals()['AREA_'+str(zone)]) * b_size\n",
    "           + ex.log((1 + globals()['POP_'+str(zone)]) / globals()['AREA_'+str(zone)]) * b_pop\n",
    "           + globals()['CC_'+str(zone)] * b_gc\n",
    "           + globals()['DIST_'+str(zone)] * b_dist\n",
    "           for zone in df['D'].unique()}\n",
    "    ## Business\n",
    "    V_D[2][car] = {zone: ex.log(1 + globals()['EMPL_'+str(zone)] / globals()['AREA_'+str(zone)]) * b_size\n",
    "           + ex.log((1 + globals()['POP_'+str(zone)]) / globals()['AREA_'+str(zone)]) * b_pop\n",
    "           + globals()['CC_'+str(zone)] * b_gc\n",
    "           + globals()['DIST_'+str(zone)] * b_dist\n",
    "           for zone in df['D'].unique()}\n",
    "    # Education\n",
    "    V_D[3][car] = {zone: ex.log(1 + globals()['CHILDCARE_'+str(zone)]\n",
    "                                + globals()['SCHOOL_'+str(zone)] * ex.exp(b_edu1)\n",
    "                                + globals()['HIGHER_EDUCATION_'+str(zone)] * ex.exp(b_edu2)\n",
    "                               ) * b_size\n",
    "           + ex.log((1 + globals()['POP_'+str(zone)] )/ globals()['AREA_'+str(zone)]) * b_pop\n",
    "           + globals()['CC_'+str(zone)] * b_gc\n",
    "           + globals()['DIST_'+str(zone)] * b_dist\n",
    "           for zone in df['D'].unique()}\n",
    "    # Shopping\n",
    "    V_D[4][car] = {zone: ex.log(1 + globals()['MEDICAL_'+str(zone)]\n",
    "                                + globals()['SHOP_'+str(zone)] * ex.exp(b_shop1)\n",
    "                                + globals()['SPECIAL_SHOP_'+str(zone)] * ex.exp(b_shop2)\n",
    "                               ) * b_size\n",
    "           + ex.log((1 + globals()['POP_'+str(zone)]) / globals()['AREA_'+str(zone)]) * b_pop\n",
    "           + globals()['CC_'+str(zone)] * b_gc\n",
    "           + globals()['DIST_'+str(zone)] * b_dist\n",
    "           for zone in df['D'].unique()}\n",
    "    # Leisure\n",
    "    V_D[6][car] = {zone: ex.log(1 + globals()['DAILY_LEISURE_'+str(zone)]\n",
    "                                + globals()['OCCASIONAL_LEISURE_'+str(zone)] * ex.exp(b_leisure1)\n",
    "                                + globals()['HOLIDAY_'+str(zone)] * ex.exp(b_leisure2)\n",
    "                               ) * b_size\n",
    "           + ex.log((1 + globals()['POP_'+str(zone)]) / globals()['AREA_'+str(zone)]) * b_pop\n",
    "           + globals()['CC_'+str(zone)] * b_gc\n",
    "           + globals()['DIST_'+str(zone)] * b_dist\n",
    "           #+ globals()['DIST_'+str(zone)] * globals()['DIST_'+str(zone)] * b_dist2\n",
    "           for zone in df['D'].unique()}\n",
    "    # Accompany\n",
    "    V_D[7][car] = {zone: ex.log(1 + globals()['MEDICAL_'+str(zone)] * ex.exp(b_accom1)\n",
    "                                + globals()['SCHOOL_'+str(zone)] * ex.exp(b_accom2)\n",
    "                                + globals()['CHILDCARE_'+str(zone)]\n",
    "                               ) * b_size\n",
    "           + ex.log((1 + globals()['POP_'+str(zone)]) / globals()['AREA_'+str(zone)]) * b_pop\n",
    "           + globals()['CC_'+str(zone)] * b_gc\n",
    "           + globals()['DIST_'+str(zone)] * b_dist\n",
    "           #+ globals()['DIST_'+str(zone)] * globals()['DIST_'+str(zone)] * b_dist2\n",
    "           for zone in df['D'].unique()}"
   ]
  },
  {
   "cell_type": "code",
   "execution_count": null,
   "metadata": {},
   "outputs": [],
   "source": [
    "# Urbanisation nests\n",
    "nest_u1 = mu_u1, list(set(df.loc[df['D_URBAN']==1, 'D']))\n",
    "nest_u2 = mu_u2, list(set(df.loc[df['D_URBAN']==2, 'D']) - set(nest_u1[1]))\n",
    "nest_u3 = mu_u3, list(set(df.loc[df['D_URBAN']==3, 'D']) - set(nest_u1[1]) - set(nest_u2[1]))\n",
    "urban_nests = nest_u1, nest_u2, nest_u3"
   ]
  },
  {
   "cell_type": "code",
   "execution_count": null,
   "metadata": {},
   "outputs": [],
   "source": [
    "# Availability of destinations based on distance bins\n",
    "AV = {d: globals()['AV_'+str(d)] for d in df['D'].unique()}"
   ]
  },
  {
   "cell_type": "markdown",
   "metadata": {},
   "source": [
    "## Run the estimation"
   ]
  },
  {
   "cell_type": "code",
   "execution_count": 54,
   "metadata": {},
   "outputs": [
    {
     "name": "stdout",
     "output_type": "stream",
     "text": [
      "Sample size for purpose 1, car av. 0: 356\n",
      "[10:12:09] < Warning >   Initial point not feasible. It will be projected onto the feasible domain.\n",
      "Sample size for purpose 1, car av. 1: 2000\n",
      "Sample size for purpose 2, car av. 0: 91\n",
      "Sample size for purpose 2, car av. 1: 2000\n",
      "Sample size for purpose 3, car av. 0: 55\n",
      "[10:14:40] < Warning >   Initial point not feasible. It will be projected onto the feasible domain.\n",
      "Sample size for purpose 3, car av. 1: 2000\n",
      "Sample size for purpose 4, car av. 0: 351\n",
      "[10:16:51] < Warning >   Initial point not feasible. It will be projected onto the feasible domain.\n",
      "Sample size for purpose 4, car av. 1: 2000\n",
      "[10:17:47] < Warning >   Initial point not feasible. It will be projected onto the feasible domain.\n",
      "Sample size for purpose 6, car av. 0: 605\n",
      "[10:19:39] < Warning >   Initial point not feasible. It will be projected onto the feasible domain.\n",
      "Sample size for purpose 6, car av. 1: 2000\n",
      "[10:20:57] < Warning >   Initial point not feasible. It will be projected onto the feasible domain.\n",
      "Sample size for purpose 7, car av. 0: 41\n",
      "[10:27:47] < Warning >   Initial point not feasible. It will be projected onto the feasible domain.\n",
      "Sample size for purpose 7, car av. 1: 2000\n"
     ]
    }
   ],
   "source": [
    "# Run the estimation by purpose and by car ownership\n",
    "writer = pd.ExcelWriter(input_path + 'estimation_results_dest_inter.xlsx')\n",
    "results = []\n",
    "for p in [1,2,3,4,6,7]:\n",
    "    for car in [0,1]:\n",
    "        mask = (df['PURPOSE']==p) & (df['CAR_AV']==car)\n",
    "        num_inter = len(df.loc[(df['O']!=df['D']) & mask])\n",
    "        num_inter = min(num_inter, 3000)\n",
    "        database = db.Database('MiD2017', pd.concat([\n",
    "            df.loc[(df['O']!=df['D']) & mask].sample(num_inter)#, # inter-zonal trips\n",
    "            #df.loc[(df['O']==df['D']) & mask].sample(num_inter) # inner-zonal trips\n",
    "        ]))\n",
    "        print('Sample size for purpose {}, car av. {}: {}'.format(\n",
    "            p, car, database.getSampleSize()))\n",
    "        mnl = models.loglogit(V_D[p][car], None, D)\n",
    "        formulas = {'loglike': mnl, 'weight': W_GEW}\n",
    "        model = bio.BIOGEME(database, formulas)\n",
    "        model.modelName = str(p) + '_' + str(car) # Name it\n",
    "        model.generate_html = False\n",
    "        model.generate_pickle = False\n",
    "        model.saveIterations = False\n",
    "        results.append(model.estimate()) # Estimation\n",
    "        output = results[-1].getEstimatedParameters()\n",
    "        # Add results to the Excel file\n",
    "        for key, val in results[-1].getGeneralStatistics().items():\n",
    "            output.loc[key] = [val[0], val[1]] + ['' for i in range(len(output.columns)-2)]\n",
    "        output.to_excel(writer, sheet_name=model.modelName)\n",
    "writer.close()"
   ]
  },
  {
   "cell_type": "code",
   "execution_count": 55,
   "metadata": {},
   "outputs": [
    {
     "data": {
      "text/plain": [
       "[-2154.2,\n",
       " -5270.4,\n",
       " -589.7,\n",
       " -6976.6,\n",
       " -497.8,\n",
       " -4799.6,\n",
       " -2280.3,\n",
       " -4762.6,\n",
       " -4304.6,\n",
       " -7255.0,\n",
       " -157.6,\n",
       " -5649.0]"
      ]
     },
     "execution_count": 55,
     "metadata": {},
     "output_type": "execute_result"
    }
   ],
   "source": [
    "# final log likelihoods\n",
    "'''\n",
    "using simple logs of attraction variables plus log(PopDens) and the CC\n",
    "or the Daly (1982) version with sum of attraction variables in the log\n",
    "                      PopDens  Prio1  Prio2  Prio3  All3   Daly3  DalyDist   DalyCCSq DalyDist2 DalyDistUrb DalyDistLogDist\n",
    "commuting, car av. 0: -2552.4, -2467  -2467  -2467  -2467  -2467  -2138      -2308    -2131     -2129       -1946\n",
    "commuting, car av. 1: -6284.0, -6075  -6622  -6920  -6449  -6100  -4669      -6823    -5125     -4797       -5446\n",
    "business , car av. 0: -690.8,  -653   -653   -653   -653   -653   -590       -606     -4736     -589        -589\n",
    "business , car av. 1: -8732.7, -8230  -8001  -8309  -8182  -8078  -7463      -8244    -9827     -6849       -6998\n",
    "education, car av. 0: -627.4,  -627   -627   -627   -621   -627   -483       -435     -482      -480        -432\n",
    "education, car av. 1: -8004.0, -7583  -7678  -7701  -7661  -7539  -4757      -7561    -63078    -4852       -4596\n",
    "buy/exec., car av. 0: -2797.0, -2743  -2768  -2736  -2730  -2736  -2278      -2729    -2115     -2277       -2260\n",
    "buy/exec., car av. 1: -6605.9, -6671  -7123  -6899  -6446  -7056  -4683      -6253    -4836     -4716       -5001\n",
    "leisure  , car av. 0: -4656.5, -4552  -4576  -4561  -4546  -4547  -4304      -4545    -4089     -4303       -4303\n",
    "leisure  , car av. 1: -9258.1, -8627  -8720  -8552  -8498  -9368  -7317      -8734    -6219     -6828       -6503\n",
    "accompany, car av. 0: -176.9,  -167   -171   -169   -166   -169   -157       -161     -157      -157        -156\n",
    "accompany, car av. 1: -8613.2  -8484  -8178  -8442  -8461  -8747  -5593      -8309    -5038     -6072       -5247\n",
    "correct beta signs  : false    true   true   true   notEdu true   noCarFalse false    false     false       false\n",
    "suffic. significant : true     true   true   true   true   true   true       false    false     false       true\n",
    " '''\n",
    "[np.round(r.getGeneralStatistics()['Final log likelihood'][0],1) for r in results]"
   ]
  },
  {
   "cell_type": "code",
   "execution_count": 54,
   "metadata": {},
   "outputs": [
    {
     "name": "stdout",
     "output_type": "stream",
     "text": [
      "Sample size for purpose 1, car av. 0: 356\n",
      "[10:12:09] < Warning >   Initial point not feasible. It will be projected onto the feasible domain.\n",
      "Sample size for purpose 1, car av. 1: 2000\n",
      "Sample size for purpose 2, car av. 0: 91\n",
      "Sample size for purpose 2, car av. 1: 2000\n",
      "Sample size for purpose 3, car av. 0: 55\n",
      "[10:14:40] < Warning >   Initial point not feasible. It will be projected onto the feasible domain.\n",
      "Sample size for purpose 3, car av. 1: 2000\n",
      "Sample size for purpose 4, car av. 0: 351\n",
      "[10:16:51] < Warning >   Initial point not feasible. It will be projected onto the feasible domain.\n",
      "Sample size for purpose 4, car av. 1: 2000\n",
      "[10:17:47] < Warning >   Initial point not feasible. It will be projected onto the feasible domain.\n",
      "Sample size for purpose 6, car av. 0: 605\n",
      "[10:19:39] < Warning >   Initial point not feasible. It will be projected onto the feasible domain.\n",
      "Sample size for purpose 6, car av. 1: 2000\n",
      "[10:20:57] < Warning >   Initial point not feasible. It will be projected onto the feasible domain.\n",
      "Sample size for purpose 7, car av. 0: 41\n",
      "[10:27:47] < Warning >   Initial point not feasible. It will be projected onto the feasible domain.\n",
      "Sample size for purpose 7, car av. 1: 2000\n"
     ]
    }
   ],
   "source": [
    "# Run the estimation by purpose and by car ownership\n",
    "writer = pd.ExcelWriter(input_path + 'estimation_results_dest_inter_nested_avail.xlsx')\n",
    "results = []\n",
    "for p in [1,2,3,4,6,7]:\n",
    "    for car in [0,1]:\n",
    "        mask = (df['PURPOSE']==p) & (df['CAR_AV']==car)\n",
    "        num_inter = len(df.loc[(df['O']!=df['D']) & mask])\n",
    "        num_inter = min(num_inter, 3000)\n",
    "        database = db.Database('MiD2017', pd.concat([\n",
    "            df.loc[(df['O']!=df['D']) & mask].sample(num_inter)#, # inter-zonal trips\n",
    "            #df.loc[(df['O']==df['D']) & mask].sample(num_inter) # inner-zonal trips\n",
    "        ]))\n",
    "        print('Sample size for purpose {}, car av. {}: {}'.format(\n",
    "            p, car, database.getSampleSize()))\n",
    "        nl = models.lognested(V_D[p][car], AV, urban_nests, D)\n",
    "        formulas = {'loglike': nl, 'weight': W_GEW}\n",
    "        model = bio.BIOGEME(database, formulas)\n",
    "        model.modelName = str(p) + '_' + str(car) # Name it\n",
    "        model.generate_html = False\n",
    "        model.generate_pickle = False\n",
    "        model.saveIterations = False\n",
    "        results.append(model.estimate()) # Estimation\n",
    "        output = results[-1].getEstimatedParameters()\n",
    "        # Add results to the Excel file\n",
    "        for key, val in results[-1].getGeneralStatistics().items():\n",
    "            output.loc[key] = [val[0], val[1]] + ['' for i in range(len(output.columns)-2)]\n",
    "        output.to_excel(writer, sheet_name=model.modelName)\n",
    "writer.close()"
   ]
  },
  {
   "cell_type": "code",
   "execution_count": null,
   "metadata": {},
   "outputs": [],
   "source": [
    "# Run estimation for distance class-segmented destination choice\n",
    "writer = pd.ExcelWriter(input_path + 'estimation_results_dest_inter_bins.xlsx')\n",
    "results = []\n",
    "for p in [1,2,3,4,6,7]:\n",
    "    for car in [0,1]:\n",
    "        skip_next = False\n",
    "        for i in range(1, len(bins)-1):\n",
    "            if skip_next:\n",
    "                continue\n",
    "            # Filter the data\n",
    "            mask = (df['PURPOSE']==p) & (df['CAR_AV']==car)\n",
    "            database = db.Database('MiD2017', df.loc[mask].copy())\n",
    "            database.remove(DIST_bin<=bins[i])\n",
    "            # Check if the next distance classes had enough observations\n",
    "            if len(database.data.loc[df['DIST_bin']>bins[i+1]]) < 50:\n",
    "                skip_next = True\n",
    "            else:\n",
    "                database.remove(DIST_bin>bins[i+1])\n",
    "            print('Sample size for purpose {}, car av. {}, distance {}: {}'.format(\n",
    "                p, car, bins[i+1], database.getSampleSize()))\n",
    "            mnl = models.loglogit(V_D[p][car], AV, D)\n",
    "            formulas = {'loglike': mnl, 'weight': W_GEW}\n",
    "            model = bio.BIOGEME(database, formulas)\n",
    "            model.modelName = str(p) + '_' + str(car) + '_' + str(bins[i+1]) # Name it\n",
    "            model.generate_html = False\n",
    "            model.generate_pickle = False\n",
    "            model.saveIterations = False\n",
    "            results.append(model.estimate()) # Estimation\n",
    "            output = results[-1].getEstimatedParameters()\n",
    "            # Add results to the Excel file\n",
    "            for key, val in results[-1].getGeneralStatistics().items():\n",
    "                output.loc[key] = [val[0], val[1]] + ['' for i in range(len(output.columns)-2)]\n",
    "            output.to_excel(writer, sheet_name=model.modelName)\n",
    "writer.close()"
   ]
  }
 ],
 "metadata": {
  "kernelspec": {
   "display_name": "Python 3 (ipykernel)",
   "language": "python",
   "name": "python3"
  },
  "language_info": {
   "codemirror_mode": {
    "name": "ipython",
    "version": 3
   },
   "file_extension": ".py",
   "mimetype": "text/x-python",
   "name": "python",
   "nbconvert_exporter": "python",
   "pygments_lexer": "ipython3",
   "version": "3.10.14"
  }
 },
 "nbformat": 4,
 "nbformat_minor": 4
}
