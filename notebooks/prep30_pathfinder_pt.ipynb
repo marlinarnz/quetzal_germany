{
 "cells": [
  {
   "cell_type": "code",
   "execution_count": null,
   "metadata": {},
   "outputs": [],
   "source": [
    "import sys # for automation and parallelisation\n",
    "manual, scenario = (True, 'base') if 'ipykernel' in sys.argv[0] else (False, sys.argv[1])\n",
    "if manual:\n",
    "    %matplotlib inline"
   ]
  },
  {
   "cell_type": "code",
   "execution_count": 1,
   "metadata": {},
   "outputs": [
    {
     "name": "stderr",
     "output_type": "stream",
     "text": [
      "In C:\\Users\\marlin.arnz\\AppData\\Local\\Continuum\\miniconda3\\envs\\quetzal\\lib\\site-packages\\matplotlib\\mpl-data\\stylelib\\_classic_test.mplstyle: \n",
      "The text.latex.preview rcparam was deprecated in Matplotlib 3.3 and will be removed two minor releases later.\n",
      "In C:\\Users\\marlin.arnz\\AppData\\Local\\Continuum\\miniconda3\\envs\\quetzal\\lib\\site-packages\\matplotlib\\mpl-data\\stylelib\\_classic_test.mplstyle: \n",
      "The mathtext.fallback_to_cm rcparam was deprecated in Matplotlib 3.3 and will be removed two minor releases later.\n",
      "In C:\\Users\\marlin.arnz\\AppData\\Local\\Continuum\\miniconda3\\envs\\quetzal\\lib\\site-packages\\matplotlib\\mpl-data\\stylelib\\_classic_test.mplstyle: Support for setting the 'mathtext.fallback_to_cm' rcParam is deprecated since 3.3 and will be removed two minor releases later; use 'mathtext.fallback : 'cm' instead.\n",
      "In C:\\Users\\marlin.arnz\\AppData\\Local\\Continuum\\miniconda3\\envs\\quetzal\\lib\\site-packages\\matplotlib\\mpl-data\\stylelib\\_classic_test.mplstyle: \n",
      "The validate_bool_maybe_none function was deprecated in Matplotlib 3.3 and will be removed two minor releases later.\n",
      "In C:\\Users\\marlin.arnz\\AppData\\Local\\Continuum\\miniconda3\\envs\\quetzal\\lib\\site-packages\\matplotlib\\mpl-data\\stylelib\\_classic_test.mplstyle: \n",
      "The savefig.jpeg_quality rcparam was deprecated in Matplotlib 3.3 and will be removed two minor releases later.\n",
      "In C:\\Users\\marlin.arnz\\AppData\\Local\\Continuum\\miniconda3\\envs\\quetzal\\lib\\site-packages\\matplotlib\\mpl-data\\stylelib\\_classic_test.mplstyle: \n",
      "The keymap.all_axes rcparam was deprecated in Matplotlib 3.3 and will be removed two minor releases later.\n",
      "In C:\\Users\\marlin.arnz\\AppData\\Local\\Continuum\\miniconda3\\envs\\quetzal\\lib\\site-packages\\matplotlib\\mpl-data\\stylelib\\_classic_test.mplstyle: \n",
      "The animation.avconv_path rcparam was deprecated in Matplotlib 3.3 and will be removed two minor releases later.\n",
      "In C:\\Users\\marlin.arnz\\AppData\\Local\\Continuum\\miniconda3\\envs\\quetzal\\lib\\site-packages\\matplotlib\\mpl-data\\stylelib\\_classic_test.mplstyle: \n",
      "The animation.avconv_args rcparam was deprecated in Matplotlib 3.3 and will be removed two minor releases later.\n"
     ]
    }
   ],
   "source": [
    "import numpy as np\n",
    "import pandas as pd\n",
    "from tqdm import tqdm\n",
    "from quetzal.model import stepmodel\n",
    "from quetzal.analysis import analysis\n",
    "from quetzal.engine.pathfinder import PublicPathFinder\n",
    "from quetzal.io.display import all_pt_paths\n",
    "from syspy.skims import skims\n",
    "from quetzal.io import excel"
   ]
  },
  {
   "cell_type": "markdown",
   "metadata": {},
   "source": [
    "# Preparation of the LoS tables\n",
    "## Saves a StepModel with shortest paths and LoS attributes for the PT network\n",
    "## Needs aggregated PT networks"
   ]
  },
  {
   "cell_type": "code",
   "execution_count": 2,
   "metadata": {},
   "outputs": [],
   "source": [
    "input_path = '../input/'\n",
    "output_path = '../output/'\n",
    "model_path = '../model/'"
   ]
  },
  {
   "cell_type": "code",
   "execution_count": null,
   "metadata": {},
   "outputs": [],
   "source": [
    "# Load scenario parameters\n",
    "params = excel.read_var(file='../input/parameters.xls', scenario=scenario)"
   ]
  },
  {
   "cell_type": "code",
   "execution_count": 3,
   "metadata": {},
   "outputs": [],
   "source": [
    "sm = stepmodel.read_json(model_path + 'de_pt_network_agg')\n",
    "ae = stepmodel.read_json(model_path + 'de_pt_access_egress')\n",
    "aux = stepmodel.read_json(model_path + 'de_pt_network_ancillary')"
   ]
  },
  {
   "cell_type": "code",
   "execution_count": 4,
   "metadata": {},
   "outputs": [],
   "source": [
    "sm.centroids = ae.centroids\n",
    "sm.footpaths = ae.footpaths\n",
    "sm.zone_to_transit = ae.zone_to_transit"
   ]
  },
  {
   "cell_type": "code",
   "execution_count": 5,
   "metadata": {},
   "outputs": [
    {
     "data": {
      "text/plain": [
       "(351366, 8)"
      ]
     },
     "execution_count": 5,
     "metadata": {},
     "output_type": "execute_result"
    }
   ],
   "source": [
    "sm.links.shape"
   ]
  },
  {
   "cell_type": "markdown",
   "metadata": {},
   "source": [
    "### Prepare links for pathfinder"
   ]
  },
  {
   "cell_type": "code",
   "execution_count": 8,
   "metadata": {},
   "outputs": [],
   "source": [
    "# aggregate local bus and tram, underground, ferry, funicular\n",
    "if 'subway' in sm.links['route_type'].unique():\n",
    "    sm.links['route_type_disagg'] = sm.links['route_type'].copy()\n",
    "    sm.links['route_type'] = sm.links['route_type'].replace(\n",
    "        {'tram': 'bus', 'subway': 'bus', 'ferry': 'bus', 'funicular': 'bus'})\n",
    "    sm.pt_route_types = list(sm.links['route_type'].unique())"
   ]
  },
  {
   "cell_type": "code",
   "execution_count": 11,
   "metadata": {},
   "outputs": [
    {
     "data": {
      "text/plain": [
       "array([<AxesSubplot:title={'center':'a'}, xlabel='route_type'>],\n",
       "      dtype=object)"
      ]
     },
     "execution_count": 11,
     "metadata": {},
     "output_type": "execute_result"
    },
    {
     "data": {
      "image/png": "[encoded data removed]",
      "text/plain": [
       "<Figure size 216x216 with 1 Axes>"
      ]
     },
     "metadata": {
      "needs_background": "light"
     },
     "output_type": "display_data"
    }
   ],
   "source": [
    "# Route types without headway\n",
    "sm.links.loc[sm.links['headway'].isna()].groupby('route_type').agg(\n",
    "    {'a': 'count'}).plot.bar(subplots=True, figsize=(3,3))"
   ]
  },
  {
   "cell_type": "code",
   "execution_count": 12,
   "metadata": {},
   "outputs": [],
   "source": [
    "sm.links['headway'] = sm.links['headway'].fillna(2*3600)"
   ]
  },
  {
   "cell_type": "code",
   "execution_count": null,
   "metadata": {},
   "outputs": [],
   "source": [
    "# Set a maximum headway\n",
    "for mode in sm.pt_route_types:\n",
    "    mask = sm.links['route_type']==mode\n",
    "    sm.links.loc[mask, 'headway'] = np.minimum(\n",
    "        sm.links.loc[mask, 'headway'], params['max_headway'][mode])"
   ]
  },
  {
   "cell_type": "code",
   "execution_count": 16,
   "metadata": {},
   "outputs": [],
   "source": [
    "sm.links['headway'] = sm.links['headway'].astype(int)"
   ]
  },
  {
   "cell_type": "code",
   "execution_count": 17,
   "metadata": {},
   "outputs": [
    {
     "data": {
      "text/plain": [
       "<AxesSubplot:>"
      ]
     },
     "execution_count": 17,
     "metadata": {},
     "output_type": "execute_result"
    },
    {
     "data": {
      "image/png": "[encoded data removed]",
      "text/plain": [
       "<Figure size 432x216 with 1 Axes>"
      ]
     },
     "metadata": {
      "needs_background": "light"
     },
     "output_type": "display_data"
    }
   ],
   "source": [
    "# Waiting time distribution in minutes\n",
    "if manual: (sm.links['headway']/60/2).hist(bins=100, figsize=(6,3), log=False)"
   ]
  },
  {
   "cell_type": "code",
   "execution_count": 18,
   "metadata": {},
   "outputs": [
    {
     "data": {
      "text/plain": [
       "22.832833213799855"
      ]
     },
     "execution_count": 18,
     "metadata": {},
     "output_type": "execute_result"
    }
   ],
   "source": [
    "sm.links['headway'].mean()/60/2"
   ]
  },
  {
   "cell_type": "code",
   "execution_count": 19,
   "metadata": {},
   "outputs": [],
   "source": [
    "# Set a mode-specific transfer penalty\n",
    "# It will be substracted later\n",
    "time_dict = params['transfer_penalty']\n",
    "sm.links['boarding_time'] = sm.links['route_type'].map(time_dict) # in s"
   ]
  },
  {
   "cell_type": "code",
   "execution_count": 20,
   "metadata": {},
   "outputs": [],
   "source": [
    "# Generate length for PT links\n",
    "if 'length' not in sm.links.columns:\n",
    "    sm.links['length'] = skims.distance_from_geometry(sm.links['geometry']).astype(int)\n",
    "    # Adjust coach transport towards road distances\n",
    "    sm.links.loc[sm.links['route_type']=='coach', 'length'] *= 1.136"
   ]
  },
  {
   "cell_type": "code",
   "execution_count": 21,
   "metadata": {},
   "outputs": [
    {
     "data": {
      "text/html": [
       "<div>\n",
       "<style scoped>\n",
       "    .dataframe tbody tr th:only-of-type {\n",
       "        vertical-align: middle;\n",
       "    }\n",
       "\n",
       "    .dataframe tbody tr th {\n",
       "        vertical-align: top;\n",
       "    }\n",
       "\n",
       "    .dataframe thead th {\n",
       "        text-align: right;\n",
       "    }\n",
       "</style>\n",
       "<table border=\"1\" class=\"dataframe\">\n",
       "  <thead>\n",
       "    <tr style=\"text-align: right;\">\n",
       "      <th></th>\n",
       "      <th>route_type</th>\n",
       "      <th>geometry</th>\n",
       "      <th>a</th>\n",
       "      <th>b</th>\n",
       "      <th>link_sequence</th>\n",
       "      <th>route_id</th>\n",
       "      <th>time</th>\n",
       "      <th>trip_id</th>\n",
       "      <th>route_type_disagg</th>\n",
       "      <th>headway</th>\n",
       "      <th>boarding_time</th>\n",
       "      <th>length</th>\n",
       "    </tr>\n",
       "    <tr>\n",
       "      <th>index</th>\n",
       "      <th></th>\n",
       "      <th></th>\n",
       "      <th></th>\n",
       "      <th></th>\n",
       "      <th></th>\n",
       "      <th></th>\n",
       "      <th></th>\n",
       "      <th></th>\n",
       "      <th></th>\n",
       "      <th></th>\n",
       "      <th></th>\n",
       "      <th></th>\n",
       "    </tr>\n",
       "  </thead>\n",
       "  <tbody>\n",
       "    <tr>\n",
       "      <th>r_l_8703</th>\n",
       "      <td>rail_long</td>\n",
       "      <td>LINESTRING (9.92607 51.53682, 9.74102 52.37676)</td>\n",
       "      <td>r_l_n_392</td>\n",
       "      <td>r_l_n_1161</td>\n",
       "      <td>7</td>\n",
       "      <td>rail_long_3</td>\n",
       "      <td>2220</td>\n",
       "      <td>rail_long_1650</td>\n",
       "      <td>rail_long</td>\n",
       "      <td>1200</td>\n",
       "      <td>1800</td>\n",
       "      <td>94254.0</td>\n",
       "    </tr>\n",
       "  </tbody>\n",
       "</table>\n",
       "</div>"
      ],
      "text/plain": [
       "         route_type                                         geometry  \\\n",
       "index                                                                  \n",
       "r_l_8703  rail_long  LINESTRING (9.92607 51.53682, 9.74102 52.37676)   \n",
       "\n",
       "                  a           b  link_sequence     route_id  time  \\\n",
       "index                                                               \n",
       "r_l_8703  r_l_n_392  r_l_n_1161              7  rail_long_3  2220   \n",
       "\n",
       "                 trip_id route_type_disagg  headway  boarding_time   length  \n",
       "index                                                                        \n",
       "r_l_8703  rail_long_1650         rail_long     1200           1800  94254.0  "
      ]
     },
     "execution_count": 21,
     "metadata": {},
     "output_type": "execute_result"
    }
   ],
   "source": [
    "sm.links.sample()"
   ]
  },
  {
   "cell_type": "code",
   "execution_count": 22,
   "metadata": {},
   "outputs": [],
   "source": [
    "# Delete footpaths between centroids as they might confuse the pathfinder\n",
    "# Add them later anew\n",
    "sm.footpaths = sm.footpaths.loc[~((sm.footpaths['a'].isin(sm.centroids.index)) |\n",
    "                                  (sm.footpaths['b'].isin(sm.centroids.index)) |\n",
    "                                  (sm.footpaths['a']==sm.footpaths['b']))]"
   ]
  },
  {
   "cell_type": "markdown",
   "metadata": {},
   "source": [
    "### Apply PT pathfinder\n",
    "It generates the LoS table with shortest paths for each origin destination pair"
   ]
  },
  {
   "cell_type": "code",
   "execution_count": 23,
   "metadata": {},
   "outputs": [],
   "source": [
    "# We don't want the algorithm to search paths for all mode combinations.\n",
    "# Thus, we have to extract the pathfinder and search them manually.\n",
    "ppf = PublicPathFinder(sm)"
   ]
  },
  {
   "cell_type": "code",
   "execution_count": 24,
   "metadata": {},
   "outputs": [
    {
     "data": {
      "text/plain": [
       "[{'air', 'bus', 'rail_long', 'rail_short'},\n",
       " {'air', 'bus', 'rail_long'},\n",
       " {'air', 'bus', 'rail_short'},\n",
       " {'air', 'bus'},\n",
       " {'air', 'rail_long', 'rail_short'},\n",
       " {'air', 'rail_long'},\n",
       " {'air', 'rail_short'},\n",
       " {'air'},\n",
       " {'bus', 'coach'},\n",
       " {'bus', 'rail_long', 'rail_short'},\n",
       " {'bus', 'rail_long'},\n",
       " {'bus', 'rail_short'},\n",
       " {'bus'},\n",
       " {'coach'},\n",
       " {'rail_long', 'rail_short'},\n",
       " {'rail_long'},\n",
       " {'rail_short'},\n",
       " set()]"
      ]
     },
     "execution_count": 24,
     "metadata": {},
     "output_type": "execute_result"
    }
   ],
   "source": [
    "# Now, build custom mode combinations\n",
    "# People just don't go by coach and then switch to rail or airplane within Germany\n",
    "ppf.build_mode_combinations(mode_column='route_type')\n",
    "ppf.mode_combinations = [x for x in ppf.mode_combinations\n",
    "                         if not ('coach' in x and\n",
    "                         ('rail_long' in x or\n",
    "                          'rail_short' in x or\n",
    "                          'air' in x))]\n",
    "ppf.mode_combinations"
   ]
  },
  {
   "cell_type": "code",
   "execution_count": 25,
   "metadata": {},
   "outputs": [
    {
     "name": "stdout",
     "output_type": "stream",
     "text": [
      "Generated OD set with 160801 pairs\n"
     ]
    }
   ],
   "source": [
    "# Load OD pairs from volumes if available\n",
    "od_set = None\n",
    "try:\n",
    "    v = stepmodel.read_json(model_path + 'de_volumes')\n",
    "    od_set = set([tuple(l) for l in v.volumes[['origin', 'destination']].values.tolist()])\n",
    "    print('Generated OD set with {} pairs'.format(len(od_set)))\n",
    "except:\n",
    "    print('The volumes file is not (yet) available')"
   ]
  },
  {
   "cell_type": "code",
   "execution_count": 26,
   "metadata": {},
   "outputs": [
    {
     "name": "stderr",
     "output_type": "stream",
     "text": [
      "breaking modes: set() : 100%|█████████████████████████████████████████████████████████| 18/18 [40:04<00:00, 133.61s/it]\n"
     ]
    }
   ],
   "source": [
    "# Run the pathfinder for all mode combinations\n",
    "# If there is no boarding time column in links table:\n",
    "# Include a transfer penalty in order to promote direct routes.\n",
    "# It will be substracted later\n",
    "# The penalty must be None, if a link boarding time is set\n",
    "transfer_penalty = None\n",
    "ppf.find_broken_mode_paths(cutoff=np.inf,\n",
    "                           od_set=od_set,\n",
    "                           mode_column='route_type',\n",
    "                           boarding_time=transfer_penalty)"
   ]
  },
  {
   "cell_type": "code",
   "execution_count": 27,
   "metadata": {},
   "outputs": [
    {
     "data": {
      "text/html": [
       "<div>\n",
       "<style scoped>\n",
       "    .dataframe tbody tr th:only-of-type {\n",
       "        vertical-align: middle;\n",
       "    }\n",
       "\n",
       "    .dataframe tbody tr th {\n",
       "        vertical-align: top;\n",
       "    }\n",
       "\n",
       "    .dataframe thead th {\n",
       "        text-align: right;\n",
       "    }\n",
       "</style>\n",
       "<table border=\"1\" class=\"dataframe\">\n",
       "  <thead>\n",
       "    <tr style=\"text-align: right;\">\n",
       "      <th></th>\n",
       "      <th>origin</th>\n",
       "      <th>destination</th>\n",
       "      <th>gtime</th>\n",
       "      <th>path</th>\n",
       "      <th>reversed</th>\n",
       "      <th>pathfinder_session</th>\n",
       "      <th>broken_modes</th>\n",
       "    </tr>\n",
       "  </thead>\n",
       "  <tbody>\n",
       "    <tr>\n",
       "      <th>5583</th>\n",
       "      <td>DE121</td>\n",
       "      <td>DEF08</td>\n",
       "      <td>40912.94245</td>\n",
       "      <td>[DE121, coach_n_FLIXBUS:12288, coach_19212, co...</td>\n",
       "      <td>False</td>\n",
       "      <td>mode_breaker</td>\n",
       "      <td>{bus, rail_long, rail_short}</td>\n",
       "    </tr>\n",
       "  </tbody>\n",
       "</table>\n",
       "</div>"
      ],
      "text/plain": [
       "     origin destination        gtime  \\\n",
       "5583  DE121       DEF08  40912.94245   \n",
       "\n",
       "                                                   path  reversed  \\\n",
       "5583  [DE121, coach_n_FLIXBUS:12288, coach_19212, co...     False   \n",
       "\n",
       "     pathfinder_session                  broken_modes  \n",
       "5583       mode_breaker  {bus, rail_long, rail_short}  "
      ]
     },
     "execution_count": 27,
     "metadata": {},
     "output_type": "execute_result"
    }
   ],
   "source": [
    "ppf.broken_mode_paths.sample()"
   ]
  },
  {
   "cell_type": "code",
   "execution_count": 28,
   "metadata": {},
   "outputs": [
    {
     "name": "stderr",
     "output_type": "stream",
     "text": [
      "path_analysis: 100%|██████████████████████████████████████████████████████| 2496484/2496484 [03:19<00:00, 12495.33it/s]\n"
     ]
    }
   ],
   "source": [
    "# Run the path analysis and assign paths as LoS table\n",
    "sm.pt_los = analysis.path_analysis_od_matrix(\n",
    "    od_matrix=ppf.broken_mode_paths,\n",
    "    links=sm.links,\n",
    "    nodes=sm.nodes,\n",
    "    centroids=sm.centroids)"
   ]
  },
  {
   "cell_type": "code",
   "execution_count": 29,
   "metadata": {},
   "outputs": [
    {
     "name": "stdout",
     "output_type": "stream",
     "text": [
      "2496484\n"
     ]
    },
    {
     "data": {
      "text/html": [
       "<div>\n",
       "<style scoped>\n",
       "    .dataframe tbody tr th:only-of-type {\n",
       "        vertical-align: middle;\n",
       "    }\n",
       "\n",
       "    .dataframe tbody tr th {\n",
       "        vertical-align: top;\n",
       "    }\n",
       "\n",
       "    .dataframe thead th {\n",
       "        text-align: right;\n",
       "    }\n",
       "</style>\n",
       "<table border=\"1\" class=\"dataframe\">\n",
       "  <thead>\n",
       "    <tr style=\"text-align: right;\">\n",
       "      <th></th>\n",
       "      <th>origin</th>\n",
       "      <th>destination</th>\n",
       "      <th>gtime</th>\n",
       "      <th>path</th>\n",
       "      <th>reversed</th>\n",
       "      <th>pathfinder_session</th>\n",
       "      <th>broken_modes</th>\n",
       "      <th>boardings</th>\n",
       "      <th>alightings</th>\n",
       "      <th>node_path</th>\n",
       "      <th>link_path</th>\n",
       "      <th>footpaths</th>\n",
       "      <th>ntlegs</th>\n",
       "      <th>transfers</th>\n",
       "      <th>boarding_links</th>\n",
       "      <th>alighting_links</th>\n",
       "      <th>all_walk</th>\n",
       "      <th>ntransfers</th>\n",
       "      <th>time_link_path</th>\n",
       "      <th>length_link_path</th>\n",
       "    </tr>\n",
       "  </thead>\n",
       "  <tbody>\n",
       "    <tr>\n",
       "      <th>130642</th>\n",
       "      <td>DEB3G</td>\n",
       "      <td>DEB38</td>\n",
       "      <td>18044.253604</td>\n",
       "      <td>[DEB3G, bus_n_397060, bus_1003146, bus_1003152...</td>\n",
       "      <td>False</td>\n",
       "      <td>mode_breaker</td>\n",
       "      <td>{air, rail_long, rail_short}</td>\n",
       "      <td>[bus_n_397060, coach_n_FLIXBUS:341, bus_n_2635...</td>\n",
       "      <td>[bus_n_194568, coach_n_FLIXBUS:371, bus_n_1753...</td>\n",
       "      <td>[bus_n_397060, bus_n_194568, r_l_n_620, coach_...</td>\n",
       "      <td>[bus_1003146, bus_1003152, bus_1003153, coach_...</td>\n",
       "      <td>[(bus_n_194568, r_l_n_620), (r_l_n_620, coach_...</td>\n",
       "      <td>[(DEB3G, bus_n_397060), (bus_n_69222, DEB38)]</td>\n",
       "      <td>[bus_n_76410, bus_n_296860]</td>\n",
       "      <td>[bus_1003146, coach_4187, bus_2467995, bus_192...</td>\n",
       "      <td>[bus_1003153, coach_4189, bus_2468013, bus_192...</td>\n",
       "      <td>False</td>\n",
       "      <td>5</td>\n",
       "      <td>9877</td>\n",
       "      <td>126956.376</td>\n",
       "    </tr>\n",
       "    <tr>\n",
       "      <th>17207</th>\n",
       "      <td>DE148</td>\n",
       "      <td>DEF03</td>\n",
       "      <td>59565.427821</td>\n",
       "      <td>[DE148, coach_n_FLIXBUS:1694, coach_6380, coac...</td>\n",
       "      <td>False</td>\n",
       "      <td>mode_breaker</td>\n",
       "      <td>{rail_long, air, bus, rail_short}</td>\n",
       "      <td>[coach_n_FLIXBUS:1694, coach_n_FLIXBUS:10]</td>\n",
       "      <td>[coach_n_FLIXBUS:10, coach_n_FLIXBUS:814]</td>\n",
       "      <td>[coach_n_FLIXBUS:1694, coach_n_FLIXBUS:10, coa...</td>\n",
       "      <td>[coach_6380, coach_6381, coach_6382, coach_186...</td>\n",
       "      <td>[]</td>\n",
       "      <td>[(DE148, coach_n_FLIXBUS:1694), (coach_n_FLIXB...</td>\n",
       "      <td>[coach_n_FLIXBUS:10]</td>\n",
       "      <td>[coach_6380, coach_18605]</td>\n",
       "      <td>[coach_6382, coach_18606]</td>\n",
       "      <td>False</td>\n",
       "      <td>1</td>\n",
       "      <td>48300</td>\n",
       "      <td>898688.464</td>\n",
       "    </tr>\n",
       "    <tr>\n",
       "      <th>98307</th>\n",
       "      <td>DEA15</td>\n",
       "      <td>DE21J</td>\n",
       "      <td>35628.416833</td>\n",
       "      <td>[DEA15, r_l_n_808, bus_n_304031, r_s_n_76, r_s...</td>\n",
       "      <td>False</td>\n",
       "      <td>mode_breaker</td>\n",
       "      <td>{rail_long, air, bus}</td>\n",
       "      <td>[r_s_n_76, coach_n_FLIXBUS:11548, r_s_n_14332,...</td>\n",
       "      <td>[r_s_n_2720, coach_n_FLIXBUS:28, r_s_n_6135, r...</td>\n",
       "      <td>[r_l_n_808, bus_n_304031, r_s_n_76, r_s_n_2720...</td>\n",
       "      <td>[r_s_104041, r_s_104042, r_s_104043, r_s_10404...</td>\n",
       "      <td>[(r_l_n_808, bus_n_304031), (bus_n_304031, r_s...</td>\n",
       "      <td>[(DEA15, r_l_n_808), (r_s_n_13853, DE21J)]</td>\n",
       "      <td>[]</td>\n",
       "      <td>[r_s_104041, coach_19429, r_s_126412, r_s_99444]</td>\n",
       "      <td>[r_s_104052, coach_19432, r_s_126425, r_s_99455]</td>\n",
       "      <td>False</td>\n",
       "      <td>3</td>\n",
       "      <td>25740</td>\n",
       "      <td>513573.856</td>\n",
       "    </tr>\n",
       "  </tbody>\n",
       "</table>\n",
       "</div>"
      ],
      "text/plain": [
       "       origin destination         gtime  \\\n",
       "130642  DEB3G       DEB38  18044.253604   \n",
       "17207   DE148       DEF03  59565.427821   \n",
       "98307   DEA15       DE21J  35628.416833   \n",
       "\n",
       "                                                     path  reversed  \\\n",
       "130642  [DEB3G, bus_n_397060, bus_1003146, bus_1003152...     False   \n",
       "17207   [DE148, coach_n_FLIXBUS:1694, coach_6380, coac...     False   \n",
       "98307   [DEA15, r_l_n_808, bus_n_304031, r_s_n_76, r_s...     False   \n",
       "\n",
       "       pathfinder_session                       broken_modes  \\\n",
       "130642       mode_breaker       {air, rail_long, rail_short}   \n",
       "17207        mode_breaker  {rail_long, air, bus, rail_short}   \n",
       "98307        mode_breaker              {rail_long, air, bus}   \n",
       "\n",
       "                                                boardings  \\\n",
       "130642  [bus_n_397060, coach_n_FLIXBUS:341, bus_n_2635...   \n",
       "17207          [coach_n_FLIXBUS:1694, coach_n_FLIXBUS:10]   \n",
       "98307   [r_s_n_76, coach_n_FLIXBUS:11548, r_s_n_14332,...   \n",
       "\n",
       "                                               alightings  \\\n",
       "130642  [bus_n_194568, coach_n_FLIXBUS:371, bus_n_1753...   \n",
       "17207           [coach_n_FLIXBUS:10, coach_n_FLIXBUS:814]   \n",
       "98307   [r_s_n_2720, coach_n_FLIXBUS:28, r_s_n_6135, r...   \n",
       "\n",
       "                                                node_path  \\\n",
       "130642  [bus_n_397060, bus_n_194568, r_l_n_620, coach_...   \n",
       "17207   [coach_n_FLIXBUS:1694, coach_n_FLIXBUS:10, coa...   \n",
       "98307   [r_l_n_808, bus_n_304031, r_s_n_76, r_s_n_2720...   \n",
       "\n",
       "                                                link_path  \\\n",
       "130642  [bus_1003146, bus_1003152, bus_1003153, coach_...   \n",
       "17207   [coach_6380, coach_6381, coach_6382, coach_186...   \n",
       "98307   [r_s_104041, r_s_104042, r_s_104043, r_s_10404...   \n",
       "\n",
       "                                                footpaths  \\\n",
       "130642  [(bus_n_194568, r_l_n_620), (r_l_n_620, coach_...   \n",
       "17207                                                  []   \n",
       "98307   [(r_l_n_808, bus_n_304031), (bus_n_304031, r_s...   \n",
       "\n",
       "                                                   ntlegs  \\\n",
       "130642      [(DEB3G, bus_n_397060), (bus_n_69222, DEB38)]   \n",
       "17207   [(DE148, coach_n_FLIXBUS:1694), (coach_n_FLIXB...   \n",
       "98307          [(DEA15, r_l_n_808), (r_s_n_13853, DE21J)]   \n",
       "\n",
       "                          transfers  \\\n",
       "130642  [bus_n_76410, bus_n_296860]   \n",
       "17207          [coach_n_FLIXBUS:10]   \n",
       "98307                            []   \n",
       "\n",
       "                                           boarding_links  \\\n",
       "130642  [bus_1003146, coach_4187, bus_2467995, bus_192...   \n",
       "17207                           [coach_6380, coach_18605]   \n",
       "98307    [r_s_104041, coach_19429, r_s_126412, r_s_99444]   \n",
       "\n",
       "                                          alighting_links  all_walk  \\\n",
       "130642  [bus_1003153, coach_4189, bus_2468013, bus_192...     False   \n",
       "17207                           [coach_6382, coach_18606]     False   \n",
       "98307    [r_s_104052, coach_19432, r_s_126425, r_s_99455]     False   \n",
       "\n",
       "        ntransfers  time_link_path  length_link_path  \n",
       "130642           5            9877        126956.376  \n",
       "17207            1           48300        898688.464  \n",
       "98307            3           25740        513573.856  "
      ]
     },
     "execution_count": 29,
     "metadata": {},
     "output_type": "execute_result"
    }
   ],
   "source": [
    "print(len(sm.pt_los.index))\n",
    "sm.pt_los.loc[sm.pt_los['origin']!=sm.pt_los['destination']].sample(3)"
   ]
  },
  {
   "cell_type": "markdown",
   "metadata": {},
   "source": [
    "### Add attributes to LoS table"
   ]
  },
  {
   "cell_type": "code",
   "execution_count": 30,
   "metadata": {},
   "outputs": [],
   "source": [
    "# Add distances (Only path, not access/egress)\n",
    "len_dict = sm.links['length'].to_dict()\n",
    "sm.pt_los['length'] = sm.pt_los['link_path'].apply(lambda p: sum([len_dict[l] for l in p]))"
   ]
  },
  {
   "cell_type": "code",
   "execution_count": 31,
   "metadata": {},
   "outputs": [
    {
     "name": "stdout",
     "output_type": "stream",
     "text": [
      "Index(['origin', 'destination', 'gtime', 'path', 'reversed',\n",
      "       'pathfinder_session', 'broken_modes', 'boardings', 'alightings',\n",
      "       'node_path', 'link_path', 'footpaths', 'ntlegs', 'transfers',\n",
      "       'boarding_links', 'alighting_links', 'all_walk', 'ntransfers',\n",
      "       'time_link_path', 'length_link_path', 'length', 'access_time',\n",
      "       'footpath_time', 'in_vehicle_time', 'waiting_time', 'boarding_time',\n",
      "       'time'],\n",
      "      dtype='object')\n"
     ]
    }
   ],
   "source": [
    "# Disaggregate time into in-vehicle and access/egress\n",
    "# Substract the transfer penalty set above (put 0)\n",
    "if transfer_penalty is None:\n",
    "    sm.analysis_pt_time(boarding_time=None)\n",
    "    sm.pt_los['time'] -= sm.pt_los['boarding_time']\n",
    "#    sm.pt_los['boarding_time'] = 0\n",
    "else:\n",
    "    sm.analysis_pt_time(boarding_time=0)\n",
    "sm.pt_los.columns"
   ]
  },
  {
   "cell_type": "code",
   "execution_count": 32,
   "metadata": {},
   "outputs": [
    {
     "data": {
      "text/html": [
       "<div>\n",
       "<style scoped>\n",
       "    .dataframe tbody tr th:only-of-type {\n",
       "        vertical-align: middle;\n",
       "    }\n",
       "\n",
       "    .dataframe tbody tr th {\n",
       "        vertical-align: top;\n",
       "    }\n",
       "\n",
       "    .dataframe thead th {\n",
       "        text-align: right;\n",
       "    }\n",
       "</style>\n",
       "<table border=\"1\" class=\"dataframe\">\n",
       "  <thead>\n",
       "    <tr style=\"text-align: right;\">\n",
       "      <th></th>\n",
       "      <th>ntransfers</th>\n",
       "      <th>length</th>\n",
       "      <th>gtime</th>\n",
       "      <th>access_time</th>\n",
       "      <th>footpath_time</th>\n",
       "      <th>in_vehicle_time</th>\n",
       "      <th>waiting_time</th>\n",
       "      <th>boarding_time</th>\n",
       "      <th>time</th>\n",
       "    </tr>\n",
       "  </thead>\n",
       "  <tbody>\n",
       "    <tr>\n",
       "      <th>16094</th>\n",
       "      <td>2</td>\n",
       "      <td>139276.000</td>\n",
       "      <td>12274.395639</td>\n",
       "      <td>2215.528985</td>\n",
       "      <td>714.866654</td>\n",
       "      <td>6300</td>\n",
       "      <td>1244.0</td>\n",
       "      <td>1800</td>\n",
       "      <td>10474.395639</td>\n",
       "    </tr>\n",
       "    <tr>\n",
       "      <th>158422</th>\n",
       "      <td>3</td>\n",
       "      <td>531572.704</td>\n",
       "      <td>33793.863714</td>\n",
       "      <td>1900.068503</td>\n",
       "      <td>435.795211</td>\n",
       "      <td>18750</td>\n",
       "      <td>7308.0</td>\n",
       "      <td>5400</td>\n",
       "      <td>28393.863714</td>\n",
       "    </tr>\n",
       "  </tbody>\n",
       "</table>\n",
       "</div>"
      ],
      "text/plain": [
       "        ntransfers      length         gtime  access_time  footpath_time  \\\n",
       "16094            2  139276.000  12274.395639  2215.528985     714.866654   \n",
       "158422           3  531572.704  33793.863714  1900.068503     435.795211   \n",
       "\n",
       "        in_vehicle_time  waiting_time  boarding_time          time  \n",
       "16094              6300        1244.0           1800  10474.395639  \n",
       "158422            18750        7308.0           5400  28393.863714  "
      ]
     },
     "execution_count": 32,
     "metadata": {},
     "output_type": "execute_result"
    }
   ],
   "source": [
    "# Check times\n",
    "sm.pt_los[['ntransfers', 'length']+[c for c in sm.pt_los.columns if c[-4:]=='time']].sample(2)"
   ]
  },
  {
   "cell_type": "code",
   "execution_count": 33,
   "metadata": {},
   "outputs": [],
   "source": [
    "# Add route_types\n",
    "type_dict = sm.links['route_type'].to_dict()\n",
    "sm.pt_los['route_types'] = [set([type_dict[link] for link in l])\n",
    "                            for l in list(sm.pt_los['link_path'])]"
   ]
  },
  {
   "cell_type": "code",
   "execution_count": 34,
   "metadata": {},
   "outputs": [],
   "source": [
    "# Add main route_type based on a hierarchy\n",
    "hierarchy = ['air', 'coach', 'rail_long', 'rail_short', 'bus', 'walk']\n",
    "def main_type(types):\n",
    "    t = hierarchy[-1]\n",
    "    try:\n",
    "        t = hierarchy[min([hierarchy.index(t) for t in types])]\n",
    "    except ValueError: # empty types set\n",
    "        pass\n",
    "    return t\n",
    "sm.pt_los['route_type'] = sm.pt_los['route_types'].apply(main_type)"
   ]
  },
  {
   "cell_type": "code",
   "execution_count": 35,
   "metadata": {},
   "outputs": [],
   "source": [
    "# Add price, parametrisation comes later because\n",
    "# our GTFS feeds come without fares\n",
    "sm.pt_los['price'] = 0"
   ]
  },
  {
   "cell_type": "code",
   "execution_count": 36,
   "metadata": {},
   "outputs": [
    {
     "data": {
      "text/html": [
       "<div>\n",
       "<style scoped>\n",
       "    .dataframe tbody tr th:only-of-type {\n",
       "        vertical-align: middle;\n",
       "    }\n",
       "\n",
       "    .dataframe tbody tr th {\n",
       "        vertical-align: top;\n",
       "    }\n",
       "\n",
       "    .dataframe thead th {\n",
       "        text-align: right;\n",
       "    }\n",
       "</style>\n",
       "<table border=\"1\" class=\"dataframe\">\n",
       "  <thead>\n",
       "    <tr style=\"text-align: right;\">\n",
       "      <th></th>\n",
       "      <th>origin</th>\n",
       "      <th>destination</th>\n",
       "      <th>gtime</th>\n",
       "      <th>path</th>\n",
       "      <th>reversed</th>\n",
       "      <th>pathfinder_session</th>\n",
       "      <th>broken_modes</th>\n",
       "      <th>boardings</th>\n",
       "      <th>alightings</th>\n",
       "      <th>node_path</th>\n",
       "      <th>...</th>\n",
       "      <th>length</th>\n",
       "      <th>access_time</th>\n",
       "      <th>footpath_time</th>\n",
       "      <th>in_vehicle_time</th>\n",
       "      <th>waiting_time</th>\n",
       "      <th>boarding_time</th>\n",
       "      <th>time</th>\n",
       "      <th>route_types</th>\n",
       "      <th>route_type</th>\n",
       "      <th>price</th>\n",
       "    </tr>\n",
       "  </thead>\n",
       "  <tbody>\n",
       "    <tr>\n",
       "      <th>95813</th>\n",
       "      <td>DE94F</td>\n",
       "      <td>DEF0D</td>\n",
       "      <td>14117.33053</td>\n",
       "      <td>[DE94F, bus_n_399010, r_s_n_14951, r_s_133697,...</td>\n",
       "      <td>False</td>\n",
       "      <td>mode_breaker</td>\n",
       "      <td>{air}</td>\n",
       "      <td>[r_s_n_14951, r_s_n_7608, bus_n_285219, bus_n_...</td>\n",
       "      <td>[r_s_n_3733, r_s_n_11117, bus_n_55423, bus_n_3...</td>\n",
       "      <td>[bus_n_399010, r_s_n_14951, r_s_n_3733, bus_n_...</td>\n",
       "      <td>...</td>\n",
       "      <td>190200.0</td>\n",
       "      <td>2243.979514</td>\n",
       "      <td>278.851016</td>\n",
       "      <td>8640</td>\n",
       "      <td>1754.5</td>\n",
       "      <td>1200</td>\n",
       "      <td>12917.330529</td>\n",
       "      <td>{rail_short, bus}</td>\n",
       "      <td>rail_short</td>\n",
       "      <td>0</td>\n",
       "    </tr>\n",
       "  </tbody>\n",
       "</table>\n",
       "<p>1 rows × 30 columns</p>\n",
       "</div>"
      ],
      "text/plain": [
       "      origin destination        gtime  \\\n",
       "95813  DE94F       DEF0D  14117.33053   \n",
       "\n",
       "                                                    path  reversed  \\\n",
       "95813  [DE94F, bus_n_399010, r_s_n_14951, r_s_133697,...     False   \n",
       "\n",
       "      pathfinder_session broken_modes  \\\n",
       "95813       mode_breaker        {air}   \n",
       "\n",
       "                                               boardings  \\\n",
       "95813  [r_s_n_14951, r_s_n_7608, bus_n_285219, bus_n_...   \n",
       "\n",
       "                                              alightings  \\\n",
       "95813  [r_s_n_3733, r_s_n_11117, bus_n_55423, bus_n_3...   \n",
       "\n",
       "                                               node_path  ...    length  \\\n",
       "95813  [bus_n_399010, r_s_n_14951, r_s_n_3733, bus_n_...  ...  190200.0   \n",
       "\n",
       "       access_time footpath_time in_vehicle_time waiting_time boarding_time  \\\n",
       "95813  2243.979514    278.851016            8640       1754.5          1200   \n",
       "\n",
       "               time        route_types  route_type  price  \n",
       "95813  12917.330529  {rail_short, bus}  rail_short      0  \n",
       "\n",
       "[1 rows x 30 columns]"
      ]
     },
     "execution_count": 36,
     "metadata": {},
     "output_type": "execute_result"
    }
   ],
   "source": [
    "sm.pt_los.sample()"
   ]
  },
  {
   "cell_type": "code",
   "execution_count": 37,
   "metadata": {},
   "outputs": [],
   "source": [
    "# Make a safety copy before restricting results\n",
    "#los = sm.pt_los.copy()"
   ]
  },
  {
   "cell_type": "code",
   "execution_count": 38,
   "metadata": {},
   "outputs": [],
   "source": [
    "#sm.pt_los = los.copy()"
   ]
  },
  {
   "cell_type": "markdown",
   "metadata": {},
   "source": [
    "### Clean PT LOS"
   ]
  },
  {
   "cell_type": "code",
   "execution_count": 39,
   "metadata": {},
   "outputs": [
    {
     "data": {
      "text/plain": [
       "(1823273, 30)"
      ]
     },
     "execution_count": 39,
     "metadata": {},
     "output_type": "execute_result"
    }
   ],
   "source": [
    "# Drop duplicates\n",
    "sm.pt_los['path'] = sm.pt_los['path'].apply(tuple)\n",
    "sm.pt_los.drop_duplicates('path', inplace=True)\n",
    "sm.pt_los.reset_index(drop=True, inplace=True)\n",
    "sm.pt_los.shape"
   ]
  },
  {
   "cell_type": "code",
   "execution_count": 40,
   "metadata": {
    "scrolled": false
   },
   "outputs": [
    {
     "name": "stderr",
     "output_type": "stream",
     "text": [
      "100%|██████████████████████████████████████████████████████████████████████████████████| 12/12 [00:06<00:00,  1.72it/s]\n"
     ]
    },
    {
     "data": {
      "text/html": [
       "<div style=\"width:100%;\"><div style=\"position:relative;width:100%;height:0;padding-bottom:60%;\"><iframe src=\"data:text/html;charset=utf-8;base64,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\" style=\"position:absolute;width:100%;height:100%;left:0;top:0;border:none !important;\" allowfullscreen webkitallowfullscreen mozallowfullscreen></iframe></div></div>"
      ],
      "text/plain": [
       "<folium.folium.Map at 0x123246eda60>"
      ]
     },
     "execution_count": 40,
     "metadata": {},
     "output_type": "execute_result"
    }
   ],
   "source": [
    "# Berlin - Hamburg\n",
    "if manual: all_pt_paths(sm, 'DE300', 'DE600', verbose=False, group_name='route_type')"
   ]
  },
  {
   "cell_type": "code",
   "execution_count": 41,
   "metadata": {},
   "outputs": [
    {
     "data": {
      "text/html": [
       "<div>\n",
       "<style scoped>\n",
       "    .dataframe tbody tr th:only-of-type {\n",
       "        vertical-align: middle;\n",
       "    }\n",
       "\n",
       "    .dataframe tbody tr th {\n",
       "        vertical-align: top;\n",
       "    }\n",
       "\n",
       "    .dataframe thead th {\n",
       "        text-align: right;\n",
       "    }\n",
       "</style>\n",
       "<table border=\"1\" class=\"dataframe\">\n",
       "  <thead>\n",
       "    <tr style=\"text-align: right;\">\n",
       "      <th></th>\n",
       "      <th>ntransfers</th>\n",
       "      <th>length</th>\n",
       "      <th>route_types</th>\n",
       "      <th>link_path</th>\n",
       "      <th>gtime</th>\n",
       "      <th>access_time</th>\n",
       "      <th>footpath_time</th>\n",
       "      <th>in_vehicle_time</th>\n",
       "      <th>waiting_time</th>\n",
       "      <th>boarding_time</th>\n",
       "      <th>time</th>\n",
       "    </tr>\n",
       "  </thead>\n",
       "  <tbody>\n",
       "    <tr>\n",
       "      <th>15831</th>\n",
       "      <td>0</td>\n",
       "      <td>276204.768</td>\n",
       "      <td>{coach}</td>\n",
       "      <td>[coach_14310]</td>\n",
       "      <td>16503.611983</td>\n",
       "      <td>1203.611983</td>\n",
       "      <td>0.000000</td>\n",
       "      <td>11100</td>\n",
       "      <td>600.0</td>\n",
       "      <td>3600</td>\n",
       "      <td>12903.611983</td>\n",
       "    </tr>\n",
       "    <tr>\n",
       "      <th>106405</th>\n",
       "      <td>0</td>\n",
       "      <td>257606.000</td>\n",
       "      <td>{rail_short}</td>\n",
       "      <td>[r_s_64757, r_s_64758, r_s_64759, r_s_64760, r...</td>\n",
       "      <td>13762.540190</td>\n",
       "      <td>1208.537477</td>\n",
       "      <td>314.002713</td>\n",
       "      <td>8040</td>\n",
       "      <td>3600.0</td>\n",
       "      <td>600</td>\n",
       "      <td>13162.540190</td>\n",
       "    </tr>\n",
       "    <tr>\n",
       "      <th>234386</th>\n",
       "      <td>0</td>\n",
       "      <td>241407.000</td>\n",
       "      <td>{rail_long}</td>\n",
       "      <td>[r_l_4271]</td>\n",
       "      <td>9336.373001</td>\n",
       "      <td>1236.373001</td>\n",
       "      <td>0.000000</td>\n",
       "      <td>5580</td>\n",
       "      <td>720.0</td>\n",
       "      <td>1800</td>\n",
       "      <td>7536.373001</td>\n",
       "    </tr>\n",
       "    <tr>\n",
       "      <th>332564</th>\n",
       "      <td>0</td>\n",
       "      <td>241407.000</td>\n",
       "      <td>{rail_long}</td>\n",
       "      <td>[r_l_7955]</td>\n",
       "      <td>9336.373001</td>\n",
       "      <td>1236.373001</td>\n",
       "      <td>0.000000</td>\n",
       "      <td>5580</td>\n",
       "      <td>720.0</td>\n",
       "      <td>1800</td>\n",
       "      <td>7536.373001</td>\n",
       "    </tr>\n",
       "    <tr>\n",
       "      <th>481548</th>\n",
       "      <td>0</td>\n",
       "      <td>276204.768</td>\n",
       "      <td>{coach}</td>\n",
       "      <td>[coach_14353]</td>\n",
       "      <td>16503.611983</td>\n",
       "      <td>1203.611983</td>\n",
       "      <td>0.000000</td>\n",
       "      <td>11100</td>\n",
       "      <td>600.0</td>\n",
       "      <td>3600</td>\n",
       "      <td>12903.611983</td>\n",
       "    </tr>\n",
       "    <tr>\n",
       "      <th>774680</th>\n",
       "      <td>0</td>\n",
       "      <td>241407.000</td>\n",
       "      <td>{rail_long}</td>\n",
       "      <td>[r_l_10]</td>\n",
       "      <td>9336.373001</td>\n",
       "      <td>1236.373001</td>\n",
       "      <td>0.000000</td>\n",
       "      <td>5580</td>\n",
       "      <td>720.0</td>\n",
       "      <td>1800</td>\n",
       "      <td>7536.373001</td>\n",
       "    </tr>\n",
       "    <tr>\n",
       "      <th>909478</th>\n",
       "      <td>0</td>\n",
       "      <td>241407.000</td>\n",
       "      <td>{rail_long}</td>\n",
       "      <td>[r_l_3348]</td>\n",
       "      <td>9336.373001</td>\n",
       "      <td>1236.373001</td>\n",
       "      <td>0.000000</td>\n",
       "      <td>5580</td>\n",
       "      <td>720.0</td>\n",
       "      <td>1800</td>\n",
       "      <td>7536.373001</td>\n",
       "    </tr>\n",
       "    <tr>\n",
       "      <th>1027375</th>\n",
       "      <td>0</td>\n",
       "      <td>241407.000</td>\n",
       "      <td>{rail_long}</td>\n",
       "      <td>[r_l_6427]</td>\n",
       "      <td>9336.373001</td>\n",
       "      <td>1236.373001</td>\n",
       "      <td>0.000000</td>\n",
       "      <td>5580</td>\n",
       "      <td>720.0</td>\n",
       "      <td>1800</td>\n",
       "      <td>7536.373001</td>\n",
       "    </tr>\n",
       "    <tr>\n",
       "      <th>1107683</th>\n",
       "      <td>0</td>\n",
       "      <td>276204.768</td>\n",
       "      <td>{coach}</td>\n",
       "      <td>[coach_14401]</td>\n",
       "      <td>16503.611983</td>\n",
       "      <td>1203.611983</td>\n",
       "      <td>0.000000</td>\n",
       "      <td>11100</td>\n",
       "      <td>600.0</td>\n",
       "      <td>3600</td>\n",
       "      <td>12903.611983</td>\n",
       "    </tr>\n",
       "    <tr>\n",
       "      <th>1290700</th>\n",
       "      <td>0</td>\n",
       "      <td>241407.000</td>\n",
       "      <td>{rail_long}</td>\n",
       "      <td>[r_l_7253]</td>\n",
       "      <td>9336.373001</td>\n",
       "      <td>1236.373001</td>\n",
       "      <td>0.000000</td>\n",
       "      <td>5580</td>\n",
       "      <td>720.0</td>\n",
       "      <td>1800</td>\n",
       "      <td>7536.373001</td>\n",
       "    </tr>\n",
       "    <tr>\n",
       "      <th>1374052</th>\n",
       "      <td>0</td>\n",
       "      <td>241407.000</td>\n",
       "      <td>{rail_long}</td>\n",
       "      <td>[r_l_4710]</td>\n",
       "      <td>9336.373001</td>\n",
       "      <td>1236.373001</td>\n",
       "      <td>0.000000</td>\n",
       "      <td>5580</td>\n",
       "      <td>720.0</td>\n",
       "      <td>1800</td>\n",
       "      <td>7536.373001</td>\n",
       "    </tr>\n",
       "    <tr>\n",
       "      <th>1597123</th>\n",
       "      <td>0</td>\n",
       "      <td>257606.000</td>\n",
       "      <td>{rail_short}</td>\n",
       "      <td>[r_s_64757, r_s_64758, r_s_64759, r_s_64760, r...</td>\n",
       "      <td>13762.540190</td>\n",
       "      <td>1208.537477</td>\n",
       "      <td>314.002713</td>\n",
       "      <td>8040</td>\n",
       "      <td>3600.0</td>\n",
       "      <td>600</td>\n",
       "      <td>13162.540190</td>\n",
       "    </tr>\n",
       "  </tbody>\n",
       "</table>\n",
       "</div>"
      ],
      "text/plain": [
       "         ntransfers      length   route_types  \\\n",
       "15831             0  276204.768       {coach}   \n",
       "106405            0  257606.000  {rail_short}   \n",
       "234386            0  241407.000   {rail_long}   \n",
       "332564            0  241407.000   {rail_long}   \n",
       "481548            0  276204.768       {coach}   \n",
       "774680            0  241407.000   {rail_long}   \n",
       "909478            0  241407.000   {rail_long}   \n",
       "1027375           0  241407.000   {rail_long}   \n",
       "1107683           0  276204.768       {coach}   \n",
       "1290700           0  241407.000   {rail_long}   \n",
       "1374052           0  241407.000   {rail_long}   \n",
       "1597123           0  257606.000  {rail_short}   \n",
       "\n",
       "                                                 link_path         gtime  \\\n",
       "15831                                        [coach_14310]  16503.611983   \n",
       "106405   [r_s_64757, r_s_64758, r_s_64759, r_s_64760, r...  13762.540190   \n",
       "234386                                          [r_l_4271]   9336.373001   \n",
       "332564                                          [r_l_7955]   9336.373001   \n",
       "481548                                       [coach_14353]  16503.611983   \n",
       "774680                                            [r_l_10]   9336.373001   \n",
       "909478                                          [r_l_3348]   9336.373001   \n",
       "1027375                                         [r_l_6427]   9336.373001   \n",
       "1107683                                      [coach_14401]  16503.611983   \n",
       "1290700                                         [r_l_7253]   9336.373001   \n",
       "1374052                                         [r_l_4710]   9336.373001   \n",
       "1597123  [r_s_64757, r_s_64758, r_s_64759, r_s_64760, r...  13762.540190   \n",
       "\n",
       "         access_time  footpath_time  in_vehicle_time  waiting_time  \\\n",
       "15831    1203.611983       0.000000            11100         600.0   \n",
       "106405   1208.537477     314.002713             8040        3600.0   \n",
       "234386   1236.373001       0.000000             5580         720.0   \n",
       "332564   1236.373001       0.000000             5580         720.0   \n",
       "481548   1203.611983       0.000000            11100         600.0   \n",
       "774680   1236.373001       0.000000             5580         720.0   \n",
       "909478   1236.373001       0.000000             5580         720.0   \n",
       "1027375  1236.373001       0.000000             5580         720.0   \n",
       "1107683  1203.611983       0.000000            11100         600.0   \n",
       "1290700  1236.373001       0.000000             5580         720.0   \n",
       "1374052  1236.373001       0.000000             5580         720.0   \n",
       "1597123  1208.537477     314.002713             8040        3600.0   \n",
       "\n",
       "         boarding_time          time  \n",
       "15831             3600  12903.611983  \n",
       "106405             600  13162.540190  \n",
       "234386            1800   7536.373001  \n",
       "332564            1800   7536.373001  \n",
       "481548            3600  12903.611983  \n",
       "774680            1800   7536.373001  \n",
       "909478            1800   7536.373001  \n",
       "1027375           1800   7536.373001  \n",
       "1107683           3600  12903.611983  \n",
       "1290700           1800   7536.373001  \n",
       "1374052           1800   7536.373001  \n",
       "1597123            600  13162.540190  "
      ]
     },
     "execution_count": 41,
     "metadata": {},
     "output_type": "execute_result"
    }
   ],
   "source": [
    "# Look at Berlin - Hamburg times\n",
    "sm.pt_los.loc[(sm.pt_los['origin']=='DE300')&(sm.pt_los['destination']=='DE600')][\n",
    "    ['ntransfers', 'length', 'route_types', 'link_path']+[c for c in sm.pt_los.columns if c[-4:]=='time']]"
   ]
  },
  {
   "cell_type": "code",
   "execution_count": 42,
   "metadata": {},
   "outputs": [
    {
     "data": {
      "text/plain": [
       "(1577764, 30)"
      ]
     },
     "execution_count": 42,
     "metadata": {},
     "output_type": "execute_result"
    }
   ],
   "source": [
    "# Drop trips with coach-rail or coach-air combinations\n",
    "sm.pt_los = sm.pt_los.loc[~sm.pt_los['route_types'].apply(\n",
    "    lambda x: 'coach' in x and ('rail_long' in x or 'rail_short' in x or 'air' in x))]\n",
    "sm.pt_los.shape"
   ]
  },
  {
   "cell_type": "code",
   "execution_count": 43,
   "metadata": {},
   "outputs": [
    {
     "data": {
      "text/plain": [
       "(1577764, 30)"
      ]
     },
     "execution_count": 43,
     "metadata": {},
     "output_type": "execute_result"
    }
   ],
   "source": [
    "'''# Drop trips with air interchange\n",
    "sm.pt_los.drop(sm.pt_los.loc[(sm.pt_los['route_type']=='air') &\n",
    "                             (sm.pt_los['link_path'].apply(\n",
    "                                 lambda x: len([t for t in x if type_dict[t]=='air'])>1))\n",
    "                            ].index, inplace=True)'''\n",
    "sm.pt_los.shape"
   ]
  },
  {
   "cell_type": "code",
   "execution_count": 44,
   "metadata": {},
   "outputs": [
    {
     "data": {
      "text/plain": [
       "(1555605, 30)"
      ]
     },
     "execution_count": 44,
     "metadata": {},
     "output_type": "execute_result"
    }
   ],
   "source": [
    "# Drop unrealistically long trips\n",
    "sm.pt_los = sm.pt_los.loc[sm.pt_los['in_vehicle_time']<params['restrict_los']['max_duration']]\n",
    "sm.pt_los.shape"
   ]
  },
  {
   "cell_type": "code",
   "execution_count": 45,
   "metadata": {},
   "outputs": [
    {
     "data": {
      "text/plain": [
       "array([<AxesSubplot:title={'center':'time'}>], dtype=object)"
      ]
     },
     "execution_count": 45,
     "metadata": {},
     "output_type": "execute_result"
    },
    {
     "data": {
      "image/png": "[encoded data removed]",
      "text/plain": [
       "<Figure size 288x288 with 1 Axes>"
      ]
     },
     "metadata": {
      "needs_background": "light"
     },
     "output_type": "display_data"
    }
   ],
   "source": [
    "# Time distribution\n",
    "if manual:\n",
    "    sm.pt_los.hist(column='time', bins=100, log=True, alpha=.5,\n",
    "                   ax=sm.pt_los.hist(column='in_vehicle_time', color='green',\n",
    "                                     bins=100, figsize=(4,4), log=True, alpha=.5))"
   ]
  },
  {
   "cell_type": "code",
   "execution_count": 46,
   "metadata": {},
   "outputs": [
    {
     "data": {
      "text/plain": [
       "array([[<AxesSubplot:title={'center':'ntransfers'}>]], dtype=object)"
      ]
     },
     "execution_count": 46,
     "metadata": {},
     "output_type": "execute_result"
    },
    {
     "data": {
      "image/png": "[encoded data removed]",
      "text/plain": [
       "<Figure size 288x288 with 1 Axes>"
      ]
     },
     "metadata": {
      "needs_background": "light"
     },
     "output_type": "display_data"
    }
   ],
   "source": [
    "if manual: sm.pt_los.hist(column='ntransfers', figsize=(4,4))"
   ]
  },
  {
   "cell_type": "code",
   "execution_count": 47,
   "metadata": {},
   "outputs": [
    {
     "data": {
      "text/plain": [
       "<matplotlib.legend.Legend at 0x124e7e2c6a0>"
      ]
     },
     "execution_count": 47,
     "metadata": {},
     "output_type": "execute_result"
    },
    {
     "data": {
      "image/png": "[encoded data removed]",
      "text/plain": [
       "<Figure size 1152x216 with 6 Axes>"
      ]
     },
     "metadata": {},
     "output_type": "display_data"
    }
   ],
   "source": [
    "# Main mode distribution by transfers\n",
    "if manual:\n",
    "    t = sm.pt_los.copy()\n",
    "    t['bins'] = pd.cut(t['ntransfers'], bins=[0,1,3,5,10,20,100],\n",
    "                       labels=[\"0-1\", \"2-3\",\"4-5\",\"6-10\",\"11-20\",\"21+\"])\n",
    "    axs = t.groupby(['route_type','bins']).size().unstack(fill_value=0).plot.pie(\n",
    "        subplots=True, figsize=(16, 3),\n",
    "        startangle=0, counterclock=False, title='Main mode by number of transfers',\n",
    "        legend=False, labeldistance=None)\n",
    "    axs[0].legend(loc='lower left')"
   ]
  },
  {
   "cell_type": "code",
   "execution_count": 48,
   "metadata": {},
   "outputs": [
    {
     "data": {
      "text/plain": [
       "<AxesSubplot:xlabel='route_types'>"
      ]
     },
     "execution_count": 48,
     "metadata": {},
     "output_type": "execute_result"
    },
    {
     "data": {
      "image/png": "[encoded data removed]",
      "text/plain": [
       "<Figure size 432x288 with 1 Axes>"
      ]
     },
     "metadata": {
      "needs_background": "light"
     },
     "output_type": "display_data"
    }
   ],
   "source": [
    "# Distribution of mode combinations\n",
    "if manual:\n",
    "    t['route_types'] = t['route_types'].apply(tuple)\n",
    "    t.groupby('route_types').count()['route_type'].plot(kind='bar')"
   ]
  },
  {
   "cell_type": "code",
   "execution_count": 49,
   "metadata": {},
   "outputs": [
    {
     "data": {
      "text/plain": [
       "<matplotlib.legend.Legend at 0x124e7e2cb50>"
      ]
     },
     "execution_count": 49,
     "metadata": {},
     "output_type": "execute_result"
    },
    {
     "data": {
      "image/png": "[encoded data removed]",
      "text/plain": [
       "<Figure size 1152x216 with 5 Axes>"
      ]
     },
     "metadata": {},
     "output_type": "display_data"
    }
   ],
   "source": [
    "if manual:\n",
    "    t['time'] = t['time'] / 60\n",
    "    t['bins'] = pd.cut(t['time'], bins=[0,15,30,60,120,360,500],\n",
    "                       labels=[\"0-15\", \"16-30\",\"31-60\",\"61-120\",\"120-360\",\"361+\"])\n",
    "    axs = t.groupby(['route_type','bins']).size().unstack(fill_value=0).plot.pie(\n",
    "        subplots=True, figsize=(16, 3),\n",
    "        startangle=0, counterclock=False, title='Main mode by trip duration',\n",
    "        legend=False, labeldistance=None)\n",
    "    axs[3].legend()"
   ]
  },
  {
   "cell_type": "code",
   "execution_count": 50,
   "metadata": {},
   "outputs": [],
   "source": [
    "if manual: t = None"
   ]
  },
  {
   "cell_type": "code",
   "execution_count": 51,
   "metadata": {},
   "outputs": [
    {
     "name": "stdout",
     "output_type": "stream",
     "text": [
      "(1491509, 30)\n",
      "(1439519, 30)\n"
     ]
    }
   ],
   "source": [
    "# Drop unnecessary long connections if there is a waiting time applied\n",
    "if sm.links['headway'].mean() > 1*60:\n",
    "    sm.pt_los = sm.pt_los.loc[sm.pt_los['ntransfers']<=\n",
    "                              params['restrict_los']['max_transfers']]\n",
    "    # Drop coach connections with more than one transfer\n",
    "    sm.pt_los = sm.pt_los.loc[~((sm.pt_los['route_type']=='coach') &\n",
    "                                (sm.pt_los['boardings'].apply(\n",
    "                                    lambda l: len([n for n in l if n.startswith('coach')])>2)\n",
    "                                ))]\n",
    "    sm.pt_los.shape"
   ]
  },
  {
   "cell_type": "code",
   "execution_count": 52,
   "metadata": {},
   "outputs": [
    {
     "data": {
      "text/plain": [
       "(719558, 30)"
      ]
     },
     "execution_count": 52,
     "metadata": {},
     "output_type": "execute_result"
    }
   ],
   "source": [
    "# Keep only the fastest trip(s)\n",
    "sm.pt_los['route_types'] = sm.pt_los['route_types'].apply(tuple)\n",
    "sm.pt_los = sm.pt_los.sort_values('time').groupby(\n",
    "    ['origin', 'destination', 'route_types']).nth(\n",
    "        params['restrict_los']['n_fastest_trips']).reset_index()\n",
    "sm.pt_los.shape"
   ]
  },
  {
   "cell_type": "code",
   "execution_count": 53,
   "metadata": {},
   "outputs": [
    {
     "data": {
      "text/plain": [
       "(718690, 30)"
      ]
     },
     "execution_count": 53,
     "metadata": {},
     "output_type": "execute_result"
    }
   ],
   "source": [
    "# Bus tickets are relatively cheap, but they apply only for short distances\n",
    "# And nobody books tickets at five different bus agencies\n",
    "# Thus, drop bus trips longer than 100km\n",
    "sm.pt_los = sm.pt_los.loc[~((sm.pt_los['route_type']=='bus') &\n",
    "                            (sm.pt_los['length']>params['restrict_los']['max_dist_bus']))]\n",
    "sm.pt_los.shape"
   ]
  },
  {
   "cell_type": "code",
   "execution_count": 53,
   "metadata": {},
   "outputs": [
    {
     "data": {
      "text/plain": [
       "(718690, 30)"
      ]
     },
     "execution_count": 53,
     "metadata": {},
     "output_type": "execute_result"
    }
   ],
   "source": [
    "# Also drop coach trips for local transport\n",
    "sm.pt_los = sm.pt_los.loc[~((sm.pt_los['route_type']=='coach') &\n",
    "                            (sm.pt_los['length']<params['restrict_los']['min_dist_coach']))]\n",
    "sm.pt_los.shape"
   ]
  },
  {
   "cell_type": "code",
   "execution_count": 54,
   "metadata": {},
   "outputs": [
    {
     "data": {
      "text/plain": [
       "<AxesSubplot:xlabel='route_types'>"
      ]
     },
     "execution_count": 54,
     "metadata": {},
     "output_type": "execute_result"
    },
    {
     "data": {
      "image/png": "[encoded data removed]",
      "text/plain": [
       "<Figure size 432x288 with 1 Axes>"
      ]
     },
     "metadata": {
      "needs_background": "light"
     },
     "output_type": "display_data"
    }
   ],
   "source": [
    "if manual: sm.pt_los.groupby('route_types').count()['route_type'].plot(kind='bar')"
   ]
  },
  {
   "cell_type": "code",
   "execution_count": 55,
   "metadata": {},
   "outputs": [
    {
     "data": {
      "text/plain": [
       "array([<AxesSubplot:title={'center':'time'}>], dtype=object)"
      ]
     },
     "execution_count": 55,
     "metadata": {},
     "output_type": "execute_result"
    },
    {
     "data": {
      "image/png": "[encoded data removed]",
      "text/plain": [
       "<Figure size 288x288 with 1 Axes>"
      ]
     },
     "metadata": {
      "needs_background": "light"
     },
     "output_type": "display_data"
    }
   ],
   "source": [
    "# Time distribution\n",
    "if manual:\n",
    "    sm.pt_los.hist(column='time', bins=100, log=True, alpha=.5,\n",
    "                   ax=sm.pt_los.hist(column='in_vehicle_time', color='green',\n",
    "                                     bins=100, figsize=(4,4), log=True, alpha=.5))"
   ]
  },
  {
   "cell_type": "code",
   "execution_count": 56,
   "metadata": {},
   "outputs": [
    {
     "data": {
      "text/html": [
       "<div>\n",
       "<style scoped>\n",
       "    .dataframe tbody tr th:only-of-type {\n",
       "        vertical-align: middle;\n",
       "    }\n",
       "\n",
       "    .dataframe tbody tr th {\n",
       "        vertical-align: top;\n",
       "    }\n",
       "\n",
       "    .dataframe thead th {\n",
       "        text-align: right;\n",
       "    }\n",
       "</style>\n",
       "<table border=\"1\" class=\"dataframe\">\n",
       "  <thead>\n",
       "    <tr style=\"text-align: right;\">\n",
       "      <th></th>\n",
       "      <th>ntransfers</th>\n",
       "      <th>length</th>\n",
       "      <th>route_types</th>\n",
       "      <th>link_path</th>\n",
       "      <th>gtime</th>\n",
       "      <th>access_time</th>\n",
       "      <th>footpath_time</th>\n",
       "      <th>in_vehicle_time</th>\n",
       "      <th>waiting_time</th>\n",
       "      <th>boarding_time</th>\n",
       "      <th>time</th>\n",
       "    </tr>\n",
       "  </thead>\n",
       "  <tbody>\n",
       "    <tr>\n",
       "      <th>246229</th>\n",
       "      <td>0</td>\n",
       "      <td>276204.768</td>\n",
       "      <td>(coach,)</td>\n",
       "      <td>[coach_14353]</td>\n",
       "      <td>16503.611983</td>\n",
       "      <td>1203.611983</td>\n",
       "      <td>0.000000</td>\n",
       "      <td>11100</td>\n",
       "      <td>600.0</td>\n",
       "      <td>3600</td>\n",
       "      <td>12903.611983</td>\n",
       "    </tr>\n",
       "    <tr>\n",
       "      <th>246230</th>\n",
       "      <td>0</td>\n",
       "      <td>241407.000</td>\n",
       "      <td>(rail_long,)</td>\n",
       "      <td>[r_l_4710]</td>\n",
       "      <td>9336.373001</td>\n",
       "      <td>1236.373001</td>\n",
       "      <td>0.000000</td>\n",
       "      <td>5580</td>\n",
       "      <td>720.0</td>\n",
       "      <td>1800</td>\n",
       "      <td>7536.373001</td>\n",
       "    </tr>\n",
       "    <tr>\n",
       "      <th>246231</th>\n",
       "      <td>0</td>\n",
       "      <td>257606.000</td>\n",
       "      <td>(rail_short,)</td>\n",
       "      <td>[r_s_64757, r_s_64758, r_s_64759, r_s_64760, r...</td>\n",
       "      <td>13762.540190</td>\n",
       "      <td>1208.537477</td>\n",
       "      <td>314.002713</td>\n",
       "      <td>8040</td>\n",
       "      <td>3600.0</td>\n",
       "      <td>600</td>\n",
       "      <td>13162.540190</td>\n",
       "    </tr>\n",
       "  </tbody>\n",
       "</table>\n",
       "</div>"
      ],
      "text/plain": [
       "        ntransfers      length    route_types  \\\n",
       "246229           0  276204.768       (coach,)   \n",
       "246230           0  241407.000   (rail_long,)   \n",
       "246231           0  257606.000  (rail_short,)   \n",
       "\n",
       "                                                link_path         gtime  \\\n",
       "246229                                      [coach_14353]  16503.611983   \n",
       "246230                                         [r_l_4710]   9336.373001   \n",
       "246231  [r_s_64757, r_s_64758, r_s_64759, r_s_64760, r...  13762.540190   \n",
       "\n",
       "        access_time  footpath_time  in_vehicle_time  waiting_time  \\\n",
       "246229  1203.611983       0.000000            11100         600.0   \n",
       "246230  1236.373001       0.000000             5580         720.0   \n",
       "246231  1208.537477     314.002713             8040        3600.0   \n",
       "\n",
       "        boarding_time          time  \n",
       "246229           3600  12903.611983  \n",
       "246230           1800   7536.373001  \n",
       "246231            600  13162.540190  "
      ]
     },
     "execution_count": 56,
     "metadata": {},
     "output_type": "execute_result"
    }
   ],
   "source": [
    "# Look at Berlin - Hamburg times\n",
    "sm.pt_los.loc[(sm.pt_los['origin']=='DE300')&(sm.pt_los['destination']=='DE600')][\n",
    "    ['ntransfers', 'length', 'route_types', 'link_path']+[c for c in sm.pt_los.columns if c[-4:]=='time']]"
   ]
  },
  {
   "cell_type": "code",
   "execution_count": 57,
   "metadata": {},
   "outputs": [
    {
     "data": {
      "text/html": [
       "<div>\n",
       "<style scoped>\n",
       "    .dataframe tbody tr th:only-of-type {\n",
       "        vertical-align: middle;\n",
       "    }\n",
       "\n",
       "    .dataframe tbody tr th {\n",
       "        vertical-align: top;\n",
       "    }\n",
       "\n",
       "    .dataframe thead th {\n",
       "        text-align: right;\n",
       "    }\n",
       "</style>\n",
       "<table border=\"1\" class=\"dataframe\">\n",
       "  <thead>\n",
       "    <tr style=\"text-align: right;\">\n",
       "      <th></th>\n",
       "      <th>origin</th>\n",
       "      <th>destination</th>\n",
       "      <th>route_types</th>\n",
       "      <th>gtime</th>\n",
       "      <th>path</th>\n",
       "      <th>reversed</th>\n",
       "      <th>pathfinder_session</th>\n",
       "      <th>broken_modes</th>\n",
       "      <th>boardings</th>\n",
       "      <th>alightings</th>\n",
       "      <th>...</th>\n",
       "      <th>length_link_path</th>\n",
       "      <th>length</th>\n",
       "      <th>access_time</th>\n",
       "      <th>footpath_time</th>\n",
       "      <th>in_vehicle_time</th>\n",
       "      <th>waiting_time</th>\n",
       "      <th>boarding_time</th>\n",
       "      <th>time</th>\n",
       "      <th>route_type</th>\n",
       "      <th>price</th>\n",
       "    </tr>\n",
       "  </thead>\n",
       "  <tbody>\n",
       "    <tr>\n",
       "      <th>1931</th>\n",
       "      <td>DE112</td>\n",
       "      <td>DE111</td>\n",
       "      <td>(bus,)</td>\n",
       "      <td>3697.402655</td>\n",
       "      <td>(DE112, coach_n_FLIXBUS:4278, r_s_n_7349, bus_...</td>\n",
       "      <td>False</td>\n",
       "      <td>mode_breaker</td>\n",
       "      <td>{air, rail_short}</td>\n",
       "      <td>[bus_n_222552, bus_n_301561, bus_n_310057]</td>\n",
       "      <td>[bus_n_4318, bus_n_310057, bus_n_145916]</td>\n",
       "      <td>...</td>\n",
       "      <td>11131.000</td>\n",
       "      <td>11131.000</td>\n",
       "      <td>1303.832588</td>\n",
       "      <td>474.570067</td>\n",
       "      <td>780</td>\n",
       "      <td>1139.0</td>\n",
       "      <td>0</td>\n",
       "      <td>3697.402655</td>\n",
       "      <td>bus</td>\n",
       "      <td>0</td>\n",
       "    </tr>\n",
       "    <tr>\n",
       "      <th>1932</th>\n",
       "      <td>DE112</td>\n",
       "      <td>DE111</td>\n",
       "      <td>(coach,)</td>\n",
       "      <td>15313.832588</td>\n",
       "      <td>(DE112, coach_n_FLIXBUS:4278, coach_1875, coac...</td>\n",
       "      <td>False</td>\n",
       "      <td>mode_breaker</td>\n",
       "      <td>{rail_long, air, bus, rail_short}</td>\n",
       "      <td>[coach_n_FLIXBUS:4278, coach_n_FLIXBUS:8058]</td>\n",
       "      <td>[coach_n_FLIXBUS:8058, coach_n_FLIXBUS:17]</td>\n",
       "      <td>...</td>\n",
       "      <td>44668.656</td>\n",
       "      <td>44668.656</td>\n",
       "      <td>1303.832588</td>\n",
       "      <td>0.000000</td>\n",
       "      <td>4500</td>\n",
       "      <td>2310.0</td>\n",
       "      <td>7200</td>\n",
       "      <td>8113.832588</td>\n",
       "      <td>coach</td>\n",
       "      <td>0</td>\n",
       "    </tr>\n",
       "    <tr>\n",
       "      <th>1933</th>\n",
       "      <td>DE112</td>\n",
       "      <td>DE111</td>\n",
       "      <td>(rail_long,)</td>\n",
       "      <td>6114.595849</td>\n",
       "      <td>(DE112, coach_n_FLIXBUS:4278, r_l_n_601, r_l_6...</td>\n",
       "      <td>False</td>\n",
       "      <td>mode_breaker</td>\n",
       "      <td>{air, bus, rail_short}</td>\n",
       "      <td>[r_l_n_601]</td>\n",
       "      <td>[r_l_n_742]</td>\n",
       "      <td>...</td>\n",
       "      <td>16857.000</td>\n",
       "      <td>16857.000</td>\n",
       "      <td>1202.389299</td>\n",
       "      <td>112.206550</td>\n",
       "      <td>1200</td>\n",
       "      <td>1800.0</td>\n",
       "      <td>1800</td>\n",
       "      <td>4314.595849</td>\n",
       "      <td>rail_long</td>\n",
       "      <td>0</td>\n",
       "    </tr>\n",
       "    <tr>\n",
       "      <th>1934</th>\n",
       "      <td>DE112</td>\n",
       "      <td>DE111</td>\n",
       "      <td>(rail_short,)</td>\n",
       "      <td>3307.473859</td>\n",
       "      <td>(DE112, coach_n_FLIXBUS:4278, r_l_n_1033, bus_...</td>\n",
       "      <td>False</td>\n",
       "      <td>mode_breaker</td>\n",
       "      <td>{air, bus}</td>\n",
       "      <td>[r_s_n_2800]</td>\n",
       "      <td>[r_s_n_13489]</td>\n",
       "      <td>...</td>\n",
       "      <td>9427.000</td>\n",
       "      <td>9427.000</td>\n",
       "      <td>1303.832588</td>\n",
       "      <td>388.641271</td>\n",
       "      <td>540</td>\n",
       "      <td>475.0</td>\n",
       "      <td>600</td>\n",
       "      <td>2707.473859</td>\n",
       "      <td>rail_short</td>\n",
       "      <td>0</td>\n",
       "    </tr>\n",
       "  </tbody>\n",
       "</table>\n",
       "<p>4 rows × 30 columns</p>\n",
       "</div>"
      ],
      "text/plain": [
       "     origin destination    route_types         gtime  \\\n",
       "1931  DE112       DE111         (bus,)   3697.402655   \n",
       "1932  DE112       DE111       (coach,)  15313.832588   \n",
       "1933  DE112       DE111   (rail_long,)   6114.595849   \n",
       "1934  DE112       DE111  (rail_short,)   3307.473859   \n",
       "\n",
       "                                                   path  reversed  \\\n",
       "1931  (DE112, coach_n_FLIXBUS:4278, r_s_n_7349, bus_...     False   \n",
       "1932  (DE112, coach_n_FLIXBUS:4278, coach_1875, coac...     False   \n",
       "1933  (DE112, coach_n_FLIXBUS:4278, r_l_n_601, r_l_6...     False   \n",
       "1934  (DE112, coach_n_FLIXBUS:4278, r_l_n_1033, bus_...     False   \n",
       "\n",
       "     pathfinder_session                       broken_modes  \\\n",
       "1931       mode_breaker                  {air, rail_short}   \n",
       "1932       mode_breaker  {rail_long, air, bus, rail_short}   \n",
       "1933       mode_breaker             {air, bus, rail_short}   \n",
       "1934       mode_breaker                         {air, bus}   \n",
       "\n",
       "                                         boardings  \\\n",
       "1931    [bus_n_222552, bus_n_301561, bus_n_310057]   \n",
       "1932  [coach_n_FLIXBUS:4278, coach_n_FLIXBUS:8058]   \n",
       "1933                                   [r_l_n_601]   \n",
       "1934                                  [r_s_n_2800]   \n",
       "\n",
       "                                      alightings  ... length_link_path  \\\n",
       "1931    [bus_n_4318, bus_n_310057, bus_n_145916]  ...        11131.000   \n",
       "1932  [coach_n_FLIXBUS:8058, coach_n_FLIXBUS:17]  ...        44668.656   \n",
       "1933                                 [r_l_n_742]  ...        16857.000   \n",
       "1934                               [r_s_n_13489]  ...         9427.000   \n",
       "\n",
       "         length  access_time footpath_time in_vehicle_time waiting_time  \\\n",
       "1931  11131.000  1303.832588    474.570067             780       1139.0   \n",
       "1932  44668.656  1303.832588      0.000000            4500       2310.0   \n",
       "1933  16857.000  1202.389299    112.206550            1200       1800.0   \n",
       "1934   9427.000  1303.832588    388.641271             540        475.0   \n",
       "\n",
       "     boarding_time         time  route_type  price  \n",
       "1931             0  3697.402655         bus      0  \n",
       "1932          7200  8113.832588       coach      0  \n",
       "1933          1800  4314.595849   rail_long      0  \n",
       "1934           600  2707.473859  rail_short      0  \n",
       "\n",
       "[4 rows x 30 columns]"
      ]
     },
     "execution_count": 57,
     "metadata": {},
     "output_type": "execute_result"
    }
   ],
   "source": [
    "# Stuttgart and surrounding?\n",
    "sm.pt_los.loc[(sm.pt_los['origin']=='DE112')&(sm.pt_los['destination']=='DE111')]"
   ]
  },
  {
   "cell_type": "code",
   "execution_count": 58,
   "metadata": {},
   "outputs": [
    {
     "data": {
      "text/plain": [
       "711922"
      ]
     },
     "execution_count": 58,
     "metadata": {},
     "output_type": "execute_result"
    }
   ],
   "source": [
    "# Keep only trips where in-vehicle-time makes at least a third\n",
    "#sm.pt_los = sm.pt_los.loc[sm.pt_los['time']<sm.pt_los['in_vehicle_time']*3]\n",
    "#sm.pt_los.shape\n",
    "len(sm.pt_los.loc[sm.pt_los['time']<sm.pt_los['in_vehicle_time']*3])"
   ]
  },
  {
   "cell_type": "code",
   "execution_count": 59,
   "metadata": {},
   "outputs": [
    {
     "data": {
      "text/html": [
       "<div>\n",
       "<style scoped>\n",
       "    .dataframe tbody tr th:only-of-type {\n",
       "        vertical-align: middle;\n",
       "    }\n",
       "\n",
       "    .dataframe tbody tr th {\n",
       "        vertical-align: top;\n",
       "    }\n",
       "\n",
       "    .dataframe thead th {\n",
       "        text-align: right;\n",
       "    }\n",
       "</style>\n",
       "<table border=\"1\" class=\"dataframe\">\n",
       "  <thead>\n",
       "    <tr style=\"text-align: right;\">\n",
       "      <th></th>\n",
       "      <th>origin</th>\n",
       "      <th>destination</th>\n",
       "      <th>route_types</th>\n",
       "      <th>gtime</th>\n",
       "      <th>path</th>\n",
       "      <th>reversed</th>\n",
       "      <th>pathfinder_session</th>\n",
       "      <th>broken_modes</th>\n",
       "      <th>boardings</th>\n",
       "      <th>alightings</th>\n",
       "      <th>...</th>\n",
       "      <th>length_link_path</th>\n",
       "      <th>length</th>\n",
       "      <th>access_time</th>\n",
       "      <th>footpath_time</th>\n",
       "      <th>in_vehicle_time</th>\n",
       "      <th>waiting_time</th>\n",
       "      <th>boarding_time</th>\n",
       "      <th>time</th>\n",
       "      <th>route_type</th>\n",
       "      <th>price</th>\n",
       "    </tr>\n",
       "  </thead>\n",
       "  <tbody>\n",
       "  </tbody>\n",
       "</table>\n",
       "<p>0 rows × 30 columns</p>\n",
       "</div>"
      ],
      "text/plain": [
       "Empty DataFrame\n",
       "Columns: [origin, destination, route_types, gtime, path, reversed, pathfinder_session, broken_modes, boardings, alightings, node_path, link_path, footpaths, ntlegs, transfers, boarding_links, alighting_links, all_walk, ntransfers, time_link_path, length_link_path, length, access_time, footpath_time, in_vehicle_time, waiting_time, boarding_time, time, route_type, price]\n",
       "Index: []\n",
       "\n",
       "[0 rows x 30 columns]"
      ]
     },
     "execution_count": 59,
     "metadata": {},
     "output_type": "execute_result"
    }
   ],
   "source": [
    "assert len(sm.pt_los.loc[sm.pt_los.isna().any(axis=1)])==0"
   ]
  },
  {
   "cell_type": "markdown",
   "metadata": {},
   "source": [
    "## Save model"
   ]
  },
  {
   "cell_type": "code",
   "execution_count": 60,
   "metadata": {},
   "outputs": [],
   "source": [
    "# Ditch unneccessary columns\n",
    "to_drop = ['gtime', 'path', 'reversed', 'pathfinder_session',\n",
    "           'broken_modes', 'boardings', 'alightings', 'node_path',\n",
    "           'footpaths', 'ntlegs', 'transfers', 'boarding_links',\n",
    "           'alighting_links', 'all_walk', 'time_link_path',\n",
    "           'length_link_path', 'boarding_time', 'index']\n",
    "sm.pt_los = sm.pt_los.drop(to_drop, axis=1, errors='ignore')"
   ]
  },
  {
   "cell_type": "code",
   "execution_count": 61,
   "metadata": {},
   "outputs": [],
   "source": [
    "# Clean links table\n",
    "to_drop = ['duration', 'cost', 'origin', 'destination']\n",
    "sm.links = sm.links.drop(to_drop, axis=1, errors='ignore')"
   ]
  },
  {
   "cell_type": "code",
   "execution_count": 62,
   "metadata": {},
   "outputs": [],
   "source": [
    "# Make table smaller\n",
    "cols = ['time', 'access_time', 'in_vehicle_time', 'footpath_time',\n",
    "        'waiting_time', 'length']\n",
    "sm.pt_los[cols] = sm.pt_los[cols].astype(int)"
   ]
  },
  {
   "cell_type": "code",
   "execution_count": 63,
   "metadata": {},
   "outputs": [
    {
     "data": {
      "text/html": [
       "<div>\n",
       "<style scoped>\n",
       "    .dataframe tbody tr th:only-of-type {\n",
       "        vertical-align: middle;\n",
       "    }\n",
       "\n",
       "    .dataframe tbody tr th {\n",
       "        vertical-align: top;\n",
       "    }\n",
       "\n",
       "    .dataframe thead th {\n",
       "        text-align: right;\n",
       "    }\n",
       "</style>\n",
       "<table border=\"1\" class=\"dataframe\">\n",
       "  <thead>\n",
       "    <tr style=\"text-align: right;\">\n",
       "      <th></th>\n",
       "      <th>origin</th>\n",
       "      <th>destination</th>\n",
       "      <th>route_types</th>\n",
       "      <th>link_path</th>\n",
       "      <th>ntransfers</th>\n",
       "      <th>length</th>\n",
       "      <th>access_time</th>\n",
       "      <th>footpath_time</th>\n",
       "      <th>in_vehicle_time</th>\n",
       "      <th>waiting_time</th>\n",
       "      <th>time</th>\n",
       "      <th>route_type</th>\n",
       "      <th>price</th>\n",
       "    </tr>\n",
       "  </thead>\n",
       "  <tbody>\n",
       "    <tr>\n",
       "      <th>563595</th>\n",
       "      <td>DEB35</td>\n",
       "      <td>DE21A</td>\n",
       "      <td>(rail_short, air)</td>\n",
       "      <td>[r_s_166580, r_s_166581, r_s_166582, r_s_16658...</td>\n",
       "      <td>1</td>\n",
       "      <td>325260</td>\n",
       "      <td>1440</td>\n",
       "      <td>763</td>\n",
       "      <td>4680</td>\n",
       "      <td>3236</td>\n",
       "      <td>10120</td>\n",
       "      <td>air</td>\n",
       "      <td>0</td>\n",
       "    </tr>\n",
       "  </tbody>\n",
       "</table>\n",
       "</div>"
      ],
      "text/plain": [
       "       origin destination        route_types  \\\n",
       "563595  DEB35       DE21A  (rail_short, air)   \n",
       "\n",
       "                                                link_path  ntransfers  length  \\\n",
       "563595  [r_s_166580, r_s_166581, r_s_166582, r_s_16658...           1  325260   \n",
       "\n",
       "        access_time  footpath_time  in_vehicle_time  waiting_time   time  \\\n",
       "563595         1440            763             4680          3236  10120   \n",
       "\n",
       "       route_type  price  \n",
       "563595        air      0  "
      ]
     },
     "execution_count": 63,
     "metadata": {},
     "output_type": "execute_result"
    }
   ],
   "source": [
    "sm.pt_los.sample()"
   ]
  },
  {
   "cell_type": "code",
   "execution_count": 64,
   "metadata": {},
   "outputs": [
    {
     "name": "stderr",
     "output_type": "stream",
     "text": [
      "to_hdf(overwriting): 100%|█████████████████████████████████████████████████████████████| 35/35 [00:30<00:00,  1.17it/s]\n"
     ]
    }
   ],
   "source": [
    "# Saving LoS...\n",
    "sm.to_json(model_path + 'de_pt_los', only_attributes=['pt_los'],\n",
    "           encoding='utf-8')"
   ]
  }
 ],
 "metadata": {
  "kernelspec": {
   "display_name": "Python 3",
   "language": "python",
   "name": "python3"
  },
  "language_info": {
   "codemirror_mode": {
    "name": "ipython",
    "version": 3
   },
   "file_extension": ".py",
   "mimetype": "text/x-python",
   "name": "python",
   "nbconvert_exporter": "python",
   "pygments_lexer": "ipython3",
   "version": "3.8.1"
  }
 },
 "nbformat": 4,
 "nbformat_minor": 2
}
