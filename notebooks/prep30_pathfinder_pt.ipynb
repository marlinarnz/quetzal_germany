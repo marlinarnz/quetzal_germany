{
 "cells": [
  {
   "cell_type": "code",
   "execution_count": 1,
   "metadata": {},
   "outputs": [
    {
     "name": "stderr",
     "output_type": "stream",
     "text": [
      "\n",
      "Bad key text.latex.preview in file C:\\Users\\marlin.arnz\\AppData\\Local\\Continuum\\miniconda3\\envs\\quetzal\\lib\\site-packages\\matplotlib\\mpl-data\\stylelib\\_classic_test.mplstyle, line 123 ('text.latex.preview : False')\n",
      "You probably need to get an updated matplotlibrc file from\n",
      "https://github.com/matplotlib/matplotlib/blob/v3.5.2/matplotlibrc.template\n",
      "or from the matplotlib source distribution\n",
      "\n",
      "Bad key mathtext.fallback_to_cm in file C:\\Users\\marlin.arnz\\AppData\\Local\\Continuum\\miniconda3\\envs\\quetzal\\lib\\site-packages\\matplotlib\\mpl-data\\stylelib\\_classic_test.mplstyle, line 155 ('mathtext.fallback_to_cm : True  # When True, use symbols from the Computer Modern')\n",
      "You probably need to get an updated matplotlibrc file from\n",
      "https://github.com/matplotlib/matplotlib/blob/v3.5.2/matplotlibrc.template\n",
      "or from the matplotlib source distribution\n",
      "\n",
      "Bad key savefig.jpeg_quality in file C:\\Users\\marlin.arnz\\AppData\\Local\\Continuum\\miniconda3\\envs\\quetzal\\lib\\site-packages\\matplotlib\\mpl-data\\stylelib\\_classic_test.mplstyle, line 418 ('savefig.jpeg_quality: 95       # when a jpeg is saved, the default quality parameter.')\n",
      "You probably need to get an updated matplotlibrc file from\n",
      "https://github.com/matplotlib/matplotlib/blob/v3.5.2/matplotlibrc.template\n",
      "or from the matplotlib source distribution\n",
      "\n",
      "Bad key keymap.all_axes in file C:\\Users\\marlin.arnz\\AppData\\Local\\Continuum\\miniconda3\\envs\\quetzal\\lib\\site-packages\\matplotlib\\mpl-data\\stylelib\\_classic_test.mplstyle, line 466 ('keymap.all_axes : a                 # enable all axes')\n",
      "You probably need to get an updated matplotlibrc file from\n",
      "https://github.com/matplotlib/matplotlib/blob/v3.5.2/matplotlibrc.template\n",
      "or from the matplotlib source distribution\n",
      "\n",
      "Bad key animation.avconv_path in file C:\\Users\\marlin.arnz\\AppData\\Local\\Continuum\\miniconda3\\envs\\quetzal\\lib\\site-packages\\matplotlib\\mpl-data\\stylelib\\_classic_test.mplstyle, line 477 ('animation.avconv_path: avconv     # Path to avconv binary. Without full path')\n",
      "You probably need to get an updated matplotlibrc file from\n",
      "https://github.com/matplotlib/matplotlib/blob/v3.5.2/matplotlibrc.template\n",
      "or from the matplotlib source distribution\n",
      "\n",
      "Bad key animation.avconv_args in file C:\\Users\\marlin.arnz\\AppData\\Local\\Continuum\\miniconda3\\envs\\quetzal\\lib\\site-packages\\matplotlib\\mpl-data\\stylelib\\_classic_test.mplstyle, line 479 ('animation.avconv_args:            # Additional arguments to pass to avconv')\n",
      "You probably need to get an updated matplotlibrc file from\n",
      "https://github.com/matplotlib/matplotlib/blob/v3.5.2/matplotlibrc.template\n",
      "or from the matplotlib source distribution\n"
     ]
    }
   ],
   "source": [
    "import sys # for automation and parallelisation\n",
    "manual, scenario = (True, 'base') if 'ipykernel' in sys.argv[0] else (False, sys.argv[1])\n",
    "if manual:\n",
    "    %matplotlib inline"
   ]
  },
  {
   "cell_type": "code",
   "execution_count": 2,
   "metadata": {},
   "outputs": [],
   "source": [
    "import os\n",
    "import numpy as np\n",
    "import pandas as pd\n",
    "from tqdm import tqdm\n",
    "from quetzal.model import stepmodel\n",
    "from quetzal.analysis import analysis\n",
    "from quetzal.engine.pathfinder import PublicPathFinder\n",
    "from quetzal.io.display import all_pt_paths\n",
    "from syspy.skims import skims\n",
    "from quetzal.engine import engine\n",
    "from quetzal.io import excel"
   ]
  },
  {
   "cell_type": "markdown",
   "metadata": {},
   "source": [
    "# Preparation of the LoS tables\n",
    "## Saves a StepModel with shortest paths and LoS attributes for the PT network\n",
    "## Needs aggregated PT networks"
   ]
  },
  {
   "cell_type": "code",
   "execution_count": 3,
   "metadata": {},
   "outputs": [],
   "source": [
    "input_path = '../input/'\n",
    "output_path = '../output/'\n",
    "model_path = '../model/' + scenario + '/'"
   ]
  },
  {
   "cell_type": "code",
   "execution_count": 4,
   "metadata": {},
   "outputs": [],
   "source": [
    "# Create a path for scenario-specific model files\n",
    "if not os.path.exists(model_path):\n",
    "    os.makedirs(model_path)"
   ]
  },
  {
   "cell_type": "code",
   "execution_count": 5,
   "metadata": {},
   "outputs": [],
   "source": [
    "# Load scenario parameters\n",
    "params = excel.read_var(file='../input/parameters.xls', scenario=scenario)"
   ]
  },
  {
   "cell_type": "code",
   "execution_count": 6,
   "metadata": {},
   "outputs": [],
   "source": [
    "sm = stepmodel.read_json(model_path + 'de_pt_network_agg')\n",
    "ae = stepmodel.read_json(model_path + 'de_pt_access_egress')\n",
    "aux = stepmodel.read_json(model_path + 'de_pt_network_ancillary')"
   ]
  },
  {
   "cell_type": "code",
   "execution_count": 7,
   "metadata": {},
   "outputs": [],
   "source": [
    "sm.centroids = ae.centroids\n",
    "sm.footpaths = ae.footpaths\n",
    "sm.zone_to_transit = ae.zone_to_transit"
   ]
  },
  {
   "cell_type": "code",
   "execution_count": 8,
   "metadata": {},
   "outputs": [
    {
     "data": {
      "text/plain": [
       "(403656, 10)"
      ]
     },
     "execution_count": 8,
     "metadata": {},
     "output_type": "execute_result"
    }
   ],
   "source": [
    "sm.links.shape"
   ]
  },
  {
   "cell_type": "markdown",
   "metadata": {},
   "source": [
    "### Prepare links for pathfinder\n",
    "\n",
    "Headways are relevant for the pathfinder in order to determine optimal interchange patterns. The waiting time (= half the headway) at the initial boarding station will be substracted from the route time. Instead, a constant \"wait at station\" time is added to access links. This does not depend on the itinerary, but only on travel behaviour and perception."
   ]
  },
  {
   "cell_type": "code",
   "execution_count": 9,
   "metadata": {},
   "outputs": [],
   "source": [
    "# aggregate local bus and tram, underground, ferry, funicular\n",
    "if 'subway' in sm.links['route_type'].unique():\n",
    "    sm.links['route_type_disagg'] = sm.links['route_type'].copy()\n",
    "    sm.links['route_type'] = sm.links['route_type'].replace(\n",
    "        {'tram': 'bus', 'subway': 'bus', 'ferry': 'bus', 'funicular': 'bus'})\n",
    "    sm.pt_route_types = list(sm.links['route_type'].unique())"
   ]
  },
  {
   "cell_type": "code",
   "execution_count": 10,
   "metadata": {},
   "outputs": [
    {
     "data": {
      "text/html": [
       "<div>\n",
       "<style scoped>\n",
       "    .dataframe tbody tr th:only-of-type {\n",
       "        vertical-align: middle;\n",
       "    }\n",
       "\n",
       "    .dataframe tbody tr th {\n",
       "        vertical-align: top;\n",
       "    }\n",
       "\n",
       "    .dataframe thead th {\n",
       "        text-align: right;\n",
       "    }\n",
       "</style>\n",
       "<table border=\"1\" class=\"dataframe\">\n",
       "  <thead>\n",
       "    <tr style=\"text-align: right;\">\n",
       "      <th></th>\n",
       "      <th>a</th>\n",
       "    </tr>\n",
       "    <tr>\n",
       "      <th>route_type</th>\n",
       "      <th></th>\n",
       "    </tr>\n",
       "  </thead>\n",
       "  <tbody>\n",
       "  </tbody>\n",
       "</table>\n",
       "</div>"
      ],
      "text/plain": [
       "Empty DataFrame\n",
       "Columns: [a]\n",
       "Index: []"
      ]
     },
     "execution_count": 10,
     "metadata": {},
     "output_type": "execute_result"
    }
   ],
   "source": [
    "# Route types without headway\n",
    "sm.links.loc[sm.links['headway'].isna()].groupby('route_type').agg({'a': 'count'})"
   ]
  },
  {
   "cell_type": "code",
   "execution_count": 11,
   "metadata": {},
   "outputs": [],
   "source": [
    "sm.links['headway'] = sm.links['headway'].fillna(2*3600)"
   ]
  },
  {
   "cell_type": "code",
   "execution_count": 12,
   "metadata": {},
   "outputs": [],
   "source": [
    "# Minimum headways of each route\n",
    "sm.links['headway_route'] = sm.links['route_id'].map(\n",
    "    sm.links.groupby('route_id').agg({'headway': 'min'}).to_dict()['headway'])"
   ]
  },
  {
   "cell_type": "code",
   "execution_count": 13,
   "metadata": {},
   "outputs": [
    {
     "data": {
      "text/plain": [
       "array([[<AxesSubplot:title={'center':'headway_route'}>,\n",
       "        <AxesSubplot:title={'center':'headway'}>]], dtype=object)"
      ]
     },
     "execution_count": 13,
     "metadata": {},
     "output_type": "execute_result"
    },
    {
     "data": {
      "image/png": "[encoded data removed]",
      "text/plain": [
       "<Figure size 864x216 with 2 Axes>"
      ]
     },
     "metadata": {
      "needs_background": "light"
     },
     "output_type": "display_data"
    }
   ],
   "source": [
    "# Route headways seem to make route choice more reliable\n",
    "(sm.links[['headway_route', 'headway']]/60/2).hist(bins=100, figsize=(12,3), sharey=True)"
   ]
  },
  {
   "cell_type": "code",
   "execution_count": 14,
   "metadata": {},
   "outputs": [],
   "source": [
    "# Set a maximum headway in order to not confuse the pathfinder\n",
    "urban_dict = sm.nodes['FID'].map(sm.zones['urbanisation'].to_dict()).to_dict()\n",
    "for u in [1,2,3]:\n",
    "    for mode in sm.pt_route_types:\n",
    "        mask = (sm.links['route_type']==mode)&(sm.links['a'].map(urban_dict)==u)\n",
    "        sm.links.loc[mask, 'headway'] = np.minimum(\n",
    "            sm.links.loc[mask, 'headway_route'],\n",
    "            params['max_headway_urban'+str(int(u))][mode])\n",
    "#sm.links['headway'] = sm.links['headway_route']"
   ]
  },
  {
   "cell_type": "code",
   "execution_count": 15,
   "metadata": {},
   "outputs": [],
   "source": [
    "sm.links['headway'] = sm.links['headway'].astype(int)"
   ]
  },
  {
   "cell_type": "code",
   "execution_count": 16,
   "metadata": {},
   "outputs": [
    {
     "data": {
      "image/png": "[encoded data removed]",
      "text/plain": [
       "<Figure size 432x216 with 1 Axes>"
      ]
     },
     "metadata": {
      "needs_background": "light"
     },
     "output_type": "display_data"
    }
   ],
   "source": [
    "# Waiting time distribution in minutes\n",
    "if manual: (sm.links['headway']/60/2).hist(bins=100, figsize=(6,3), log=False)"
   ]
  },
  {
   "cell_type": "code",
   "execution_count": 17,
   "metadata": {},
   "outputs": [
    {
     "data": {
      "text/html": [
       "<div>\n",
       "<style scoped>\n",
       "    .dataframe tbody tr th:only-of-type {\n",
       "        vertical-align: middle;\n",
       "    }\n",
       "\n",
       "    .dataframe tbody tr th {\n",
       "        vertical-align: top;\n",
       "    }\n",
       "\n",
       "    .dataframe thead th {\n",
       "        text-align: right;\n",
       "    }\n",
       "</style>\n",
       "<table border=\"1\" class=\"dataframe\">\n",
       "  <thead>\n",
       "    <tr style=\"text-align: right;\">\n",
       "      <th></th>\n",
       "      <th>headway</th>\n",
       "    </tr>\n",
       "    <tr>\n",
       "      <th>route_type</th>\n",
       "      <th></th>\n",
       "    </tr>\n",
       "  </thead>\n",
       "  <tbody>\n",
       "    <tr>\n",
       "      <th>air</th>\n",
       "      <td>45.000000</td>\n",
       "    </tr>\n",
       "    <tr>\n",
       "      <th>bus</th>\n",
       "      <td>29.970167</td>\n",
       "    </tr>\n",
       "    <tr>\n",
       "      <th>coach</th>\n",
       "      <td>69.252825</td>\n",
       "    </tr>\n",
       "    <tr>\n",
       "      <th>rail_long</th>\n",
       "      <td>32.054820</td>\n",
       "    </tr>\n",
       "    <tr>\n",
       "      <th>rail_short</th>\n",
       "      <td>24.044080</td>\n",
       "    </tr>\n",
       "  </tbody>\n",
       "</table>\n",
       "</div>"
      ],
      "text/plain": [
       "              headway\n",
       "route_type           \n",
       "air         45.000000\n",
       "bus         29.970167\n",
       "coach       69.252825\n",
       "rail_long   32.054820\n",
       "rail_short  24.044080"
      ]
     },
     "execution_count": 17,
     "metadata": {},
     "output_type": "execute_result"
    }
   ],
   "source": [
    "# Average waiting time\n",
    "sm.links.groupby('route_type').agg({'headway': 'mean'})/60/2"
   ]
  },
  {
   "cell_type": "code",
   "execution_count": 18,
   "metadata": {},
   "outputs": [],
   "source": [
    "# Set a mode-specific transfer penalty\n",
    "# It will be substracted later\n",
    "time_dict = params['transfer_penalty']\n",
    "sm.links['boarding_time'] = sm.links['route_type'].map(time_dict) # in s"
   ]
  },
  {
   "cell_type": "code",
   "execution_count": 19,
   "metadata": {},
   "outputs": [],
   "source": [
    "# Generate length for PT links\n",
    "if 'length' not in sm.links.columns:\n",
    "    sm.links['length'] = skims.distance_from_geometry(sm.links['geometry']).astype(int)\n",
    "    # Adjust coach transport towards road distances\n",
    "    sm.links.loc[sm.links['route_type']=='coach', 'length'] *= 1.136"
   ]
  },
  {
   "cell_type": "code",
   "execution_count": 20,
   "metadata": {},
   "outputs": [
    {
     "data": {
      "text/html": [
       "<div>\n",
       "<style scoped>\n",
       "    .dataframe tbody tr th:only-of-type {\n",
       "        vertical-align: middle;\n",
       "    }\n",
       "\n",
       "    .dataframe tbody tr th {\n",
       "        vertical-align: top;\n",
       "    }\n",
       "\n",
       "    .dataframe thead th {\n",
       "        text-align: right;\n",
       "    }\n",
       "</style>\n",
       "<table border=\"1\" class=\"dataframe\">\n",
       "  <thead>\n",
       "    <tr style=\"text-align: right;\">\n",
       "      <th></th>\n",
       "      <th>route_type</th>\n",
       "      <th>geometry</th>\n",
       "      <th>a</th>\n",
       "      <th>b</th>\n",
       "      <th>link_sequence</th>\n",
       "      <th>route_id</th>\n",
       "      <th>time</th>\n",
       "      <th>trip_id</th>\n",
       "      <th>headway</th>\n",
       "      <th>route_type_disagg</th>\n",
       "      <th>headway_route</th>\n",
       "      <th>boarding_time</th>\n",
       "      <th>length</th>\n",
       "    </tr>\n",
       "    <tr>\n",
       "      <th>index</th>\n",
       "      <th></th>\n",
       "      <th></th>\n",
       "      <th></th>\n",
       "      <th></th>\n",
       "      <th></th>\n",
       "      <th></th>\n",
       "      <th></th>\n",
       "      <th></th>\n",
       "      <th></th>\n",
       "      <th></th>\n",
       "      <th></th>\n",
       "      <th></th>\n",
       "      <th></th>\n",
       "    </tr>\n",
       "  </thead>\n",
       "  <tbody>\n",
       "    <tr>\n",
       "      <th>bus_56700</th>\n",
       "      <td>bus</td>\n",
       "      <td>LINESTRING (6.09784 51.06528, 6.09471 51.06228)</td>\n",
       "      <td>b_DEA29_0_61</td>\n",
       "      <td>b_DEA29_0_11</td>\n",
       "      <td>1</td>\n",
       "      <td>bus_10326</td>\n",
       "      <td>120</td>\n",
       "      <td>bus_10326_4</td>\n",
       "      <td>3600</td>\n",
       "      <td>bus</td>\n",
       "      <td>4800</td>\n",
       "      <td>0</td>\n",
       "      <td>398.0</td>\n",
       "    </tr>\n",
       "  </tbody>\n",
       "</table>\n",
       "</div>"
      ],
      "text/plain": [
       "          route_type                                         geometry  \\\n",
       "index                                                                   \n",
       "bus_56700        bus  LINESTRING (6.09784 51.06528, 6.09471 51.06228)   \n",
       "\n",
       "                      a             b  link_sequence   route_id  time  \\\n",
       "index                                                                   \n",
       "bus_56700  b_DEA29_0_61  b_DEA29_0_11              1  bus_10326   120   \n",
       "\n",
       "               trip_id  headway route_type_disagg  headway_route  \\\n",
       "index                                                              \n",
       "bus_56700  bus_10326_4     3600               bus           4800   \n",
       "\n",
       "          boarding_time  length  \n",
       "index                            \n",
       "bus_56700             0   398.0  "
      ]
     },
     "execution_count": 20,
     "metadata": {},
     "output_type": "execute_result"
    }
   ],
   "source": [
    "sm.links.sample()"
   ]
  },
  {
   "cell_type": "code",
   "execution_count": 21,
   "metadata": {},
   "outputs": [],
   "source": [
    "# Delete footpaths between centroids as they might confuse the pathfinder\n",
    "# Add them later anew\n",
    "sm.footpaths = sm.footpaths.loc[~((sm.footpaths['a'].isin(sm.centroids.index)) |\n",
    "                                  (sm.footpaths['b'].isin(sm.centroids.index)) |\n",
    "                                  (sm.footpaths['a']==sm.footpaths['b']))]"
   ]
  },
  {
   "cell_type": "code",
   "execution_count": 22,
   "metadata": {},
   "outputs": [
    {
     "data": {
      "text/plain": [
       "<AxesSubplot:>"
      ]
     },
     "execution_count": 22,
     "metadata": {},
     "output_type": "execute_result"
    },
    {
     "data": {
      "image/png": "[encoded data removed]",
      "text/plain": [
       "<Figure size 216x216 with 1 Axes>"
      ]
     },
     "metadata": {
      "needs_background": "light"
     },
     "output_type": "display_data"
    }
   ],
   "source": [
    "(sm.footpaths['time']/60).hist(bins=20, figsize=(3,3))"
   ]
  },
  {
   "cell_type": "markdown",
   "metadata": {},
   "source": [
    "### Check zone_to_transit connectors\n",
    "\n",
    "All zones need connectors"
   ]
  },
  {
   "cell_type": "code",
   "execution_count": 23,
   "metadata": {},
   "outputs": [],
   "source": [
    "# Add missing connectors\n",
    "ntlegs = engine.ntlegs_from_centroids_and_nodes(\n",
    "    sm.centroids.loc[set(sm.zones.index) - set(sm.zone_to_transit['a'])],\n",
    "    sm.nodes.loc[sm.nodes['route_type']=='bus'],\n",
    "    short_leg_speed=params['pt_access']['speed_walk'],\n",
    "    long_leg_speed=params['pt_access']['speed_bicycle'],\n",
    "    threshold=params['pt_access']['catchment_radius_walk'],\n",
    "    n_neighbors=1,\n",
    "    coordinates_unit=sm.coordinates_unit)\n",
    "sm.zone_to_transit = sm.zone_to_transit.append(\n",
    "    ntlegs[set(sm.zone_to_transit.columns).intersection(ntlegs.columns)]\n",
    ").reset_index(drop=True)"
   ]
  },
  {
   "cell_type": "code",
   "execution_count": 24,
   "metadata": {},
   "outputs": [],
   "source": [
    "assert set(sm.zones.index) - set(sm.zone_to_transit['a']) == set()"
   ]
  },
  {
   "cell_type": "code",
   "execution_count": 25,
   "metadata": {},
   "outputs": [],
   "source": [
    "# Add a initial waiting time for PT access legs\n",
    "sm.zone_to_transit.loc[sm.zone_to_transit['direction']=='access', 'time'] += \\\n",
    "    params['access-egress_links']['time_pt']"
   ]
  },
  {
   "cell_type": "markdown",
   "metadata": {},
   "source": [
    "### Apply PT pathfinder\n",
    "It generates the LoS table with shortest paths for each origin destination pair"
   ]
  },
  {
   "cell_type": "code",
   "execution_count": 26,
   "metadata": {},
   "outputs": [],
   "source": [
    "# We don't want the algorithm to search paths for all mode combinations.\n",
    "# Thus, we have to extract the pathfinder and search them manually.\n",
    "ppf = PublicPathFinder(sm)"
   ]
  },
  {
   "cell_type": "code",
   "execution_count": 27,
   "metadata": {},
   "outputs": [
    {
     "data": {
      "text/plain": [
       "[{'air', 'bus', 'coach', 'rail_long', 'rail_short'},\n",
       " {'air', 'bus', 'coach', 'rail_long'},\n",
       " {'air', 'bus', 'coach', 'rail_short'},\n",
       " {'air', 'bus', 'coach'},\n",
       " {'air', 'bus', 'rail_long', 'rail_short'},\n",
       " {'air', 'bus', 'rail_long'},\n",
       " {'air', 'bus', 'rail_short'},\n",
       " {'air', 'bus'},\n",
       " {'air', 'coach', 'rail_long', 'rail_short'},\n",
       " {'air', 'coach', 'rail_long'},\n",
       " {'air', 'coach', 'rail_short'},\n",
       " {'air', 'coach'},\n",
       " {'air', 'rail_long', 'rail_short'},\n",
       " {'air', 'rail_long'},\n",
       " {'air', 'rail_short'},\n",
       " {'air'},\n",
       " {'bus', 'coach', 'rail_long', 'rail_short'},\n",
       " {'bus', 'coach', 'rail_long'},\n",
       " {'bus', 'coach', 'rail_short'},\n",
       " {'bus', 'coach'},\n",
       " {'bus', 'rail_long', 'rail_short'},\n",
       " {'bus', 'rail_long'},\n",
       " {'bus', 'rail_short'},\n",
       " {'bus'},\n",
       " {'coach', 'rail_long', 'rail_short'},\n",
       " {'coach', 'rail_long'},\n",
       " {'coach', 'rail_short'},\n",
       " {'coach'},\n",
       " {'rail_long', 'rail_short'},\n",
       " {'rail_long'},\n",
       " {'rail_short'},\n",
       " set()]"
      ]
     },
     "execution_count": 27,
     "metadata": {},
     "output_type": "execute_result"
    }
   ],
   "source": [
    "# Now, build custom mode combinations\n",
    "# People just don't go by coach and then switch to rail or airplane within Germany\n",
    "ppf.build_mode_combinations(mode_column='route_type')\n",
    "#ppf.mode_combinations = [x for x in ppf.mode_combinations\n",
    "#                         if not ('coach' in x and\n",
    "#                         ('rail_long' in x or\n",
    "#                          'rail_short' in x or\n",
    "#                          'air' in x))]\n",
    "ppf.mode_combinations"
   ]
  },
  {
   "cell_type": "code",
   "execution_count": 28,
   "metadata": {},
   "outputs": [
    {
     "name": "stdout",
     "output_type": "stream",
     "text": [
      "The volumes file is not (yet) available\n"
     ]
    }
   ],
   "source": [
    "# Load OD pairs from volumes if available\n",
    "od_set = None\n",
    "try:\n",
    "    v = stepmodel.read_json(model_path + 'de_volumes')\n",
    "    od_set = set([tuple(l) for l in v.volumes[['origin', 'destination']].values.tolist()])\n",
    "    print('Generated OD set with {} pairs'.format(len(od_set)))\n",
    "except:\n",
    "    print('The volumes file is not (yet) available')"
   ]
  },
  {
   "cell_type": "code",
   "execution_count": null,
   "metadata": {},
   "outputs": [
    {
     "name": "stderr",
     "output_type": "stream",
     "text": [
      "breaking modes: {'bus', 'air'} :  25%|████████████▎                                    | 8/32 [15:21<52:59, 132.49s/it]"
     ]
    }
   ],
   "source": [
    "# Run the pathfinder for all mode combinations\n",
    "# If there is no boarding time column in links table:\n",
    "# Include a transfer penalty in order to promote direct routes.\n",
    "# It will be substracted later\n",
    "# The penalty must be None, if a link boarding time is set\n",
    "transfer_penalty = None\n",
    "ppf.find_broken_mode_paths(cutoff=np.inf,\n",
    "                           od_set=od_set,\n",
    "                           mode_column='route_type',\n",
    "                           boarding_time=transfer_penalty)"
   ]
  },
  {
   "cell_type": "code",
   "execution_count": null,
   "metadata": {},
   "outputs": [],
   "source": [
    "# Run the path analysis and assign paths as LoS table\n",
    "sm.pt_los = analysis.path_analysis_od_matrix(\n",
    "    od_matrix=ppf.broken_mode_paths,\n",
    "    links=sm.links,\n",
    "    nodes=sm.nodes,\n",
    "    centroids=sm.centroids)"
   ]
  },
  {
   "cell_type": "code",
   "execution_count": null,
   "metadata": {},
   "outputs": [],
   "source": [
    "print(len(sm.pt_los.index))\n",
    "sm.pt_los.loc[sm.pt_los['origin']!=sm.pt_los['destination']].sample()"
   ]
  },
  {
   "cell_type": "markdown",
   "metadata": {},
   "source": [
    "### Add attributes to LoS table"
   ]
  },
  {
   "cell_type": "code",
   "execution_count": null,
   "metadata": {},
   "outputs": [],
   "source": [
    "# Drop within-cell connections\n",
    "sm.pt_los = sm.pt_los.loc[sm.pt_los['link_path'].apply(lambda l: len(l)>0)]\n",
    "sm.pt_los.shape"
   ]
  },
  {
   "cell_type": "code",
   "execution_count": null,
   "metadata": {},
   "outputs": [],
   "source": [
    "# Add distances (Only path, not access/egress)\n",
    "len_dict = sm.links['length'].to_dict()\n",
    "sm.pt_los['length'] = sm.pt_los['link_path'].apply(lambda p: sum([len_dict[l] for l in p]))"
   ]
  },
  {
   "cell_type": "code",
   "execution_count": null,
   "metadata": {},
   "outputs": [],
   "source": [
    "# Disaggregate time into in-vehicle and access/egress\n",
    "# Substract the transfer penalty set above (put 0)\n",
    "if transfer_penalty is None:\n",
    "    sm.analysis_pt_time(boarding_time=None)\n",
    "    sm.pt_los['time'] -= sm.pt_los['boarding_time']\n",
    "#    sm.pt_los['boarding_time'] = 0\n",
    "else:\n",
    "    sm.analysis_pt_time(boarding_time=0)\n",
    "sm.pt_los.columns"
   ]
  },
  {
   "cell_type": "code",
   "execution_count": null,
   "metadata": {},
   "outputs": [],
   "source": [
    "# Substract the waiting time at the first stop\n",
    "headway_dict = sm.links['headway'].to_dict()\n",
    "mask = sm.pt_los['link_path'].apply(lambda l: l[0]).map(sm.links['route_type'].to_dict())!='air'\n",
    "sm.pt_los.loc[mask, 'time'] -= sm.pt_los.loc[mask, 'link_path'].apply(\n",
    "    lambda l: l[0]).map(headway_dict) / 2\n",
    "sm.pt_los.loc[mask, 'waiting_time'] -= sm.pt_los.loc[mask, 'link_path'].apply(\n",
    "    lambda l: l[0]).map(headway_dict) / 2"
   ]
  },
  {
   "cell_type": "code",
   "execution_count": null,
   "metadata": {},
   "outputs": [],
   "source": [
    "# Check times\n",
    "sm.pt_los[['ntransfers', 'length']+[c for c in sm.pt_los.columns if c[-4:]=='time']].sample(2)"
   ]
  },
  {
   "cell_type": "code",
   "execution_count": null,
   "metadata": {},
   "outputs": [],
   "source": [
    "# Add route_types\n",
    "type_dict = sm.links['route_type'].to_dict()\n",
    "sm.pt_los['route_types'] = [set([type_dict[link] for link in l])\n",
    "                            for l in list(sm.pt_los['link_path'])]"
   ]
  },
  {
   "cell_type": "code",
   "execution_count": null,
   "metadata": {},
   "outputs": [],
   "source": [
    "# Add main route_type based on a hierarchy\n",
    "hierarchy = ['air', 'coach', 'rail_long', 'rail_short', 'bus', 'walk']\n",
    "def main_type(types):\n",
    "    t = hierarchy[-1]\n",
    "    try:\n",
    "        t = hierarchy[min([hierarchy.index(t) for t in types])]\n",
    "    except ValueError: # empty types set\n",
    "        pass\n",
    "    return t\n",
    "sm.pt_los['route_type'] = sm.pt_los['route_types'].apply(main_type)"
   ]
  },
  {
   "cell_type": "code",
   "execution_count": null,
   "metadata": {},
   "outputs": [],
   "source": [
    "sm.pt_los.sample()"
   ]
  },
  {
   "cell_type": "code",
   "execution_count": null,
   "metadata": {},
   "outputs": [],
   "source": [
    "# Make a safety copy before restricting results\n",
    "if manual: los = sm.pt_los.copy()"
   ]
  },
  {
   "cell_type": "code",
   "execution_count": null,
   "metadata": {},
   "outputs": [],
   "source": [
    "#sm.pt_los = los.copy()"
   ]
  },
  {
   "cell_type": "markdown",
   "metadata": {},
   "source": [
    "### Clean PT LOS"
   ]
  },
  {
   "cell_type": "code",
   "execution_count": null,
   "metadata": {},
   "outputs": [],
   "source": [
    "# Drop duplicates\n",
    "sm.pt_los['path'] = sm.pt_los['path'].apply(tuple)\n",
    "sm.pt_los.drop_duplicates('path', inplace=True)\n",
    "sm.pt_los.reset_index(drop=True, inplace=True)\n",
    "sm.pt_los.shape"
   ]
  },
  {
   "cell_type": "code",
   "execution_count": null,
   "metadata": {
    "scrolled": false
   },
   "outputs": [],
   "source": [
    "# Berlin - Hamburg\n",
    "all_pt_paths(sm, 'DE300', 'DE600', verbose=False, group_name='route_type')"
   ]
  },
  {
   "cell_type": "code",
   "execution_count": null,
   "metadata": {},
   "outputs": [],
   "source": [
    "# Look at Berlin - Hamburg times\n",
    "sm.pt_los.loc[(sm.pt_los['origin']=='DE300')&(sm.pt_los['destination']=='DE600')][\n",
    "    ['ntransfers', 'length', 'route_types', 'link_path']+[c for c in sm.pt_los.columns if c[-4:]=='time']]"
   ]
  },
  {
   "cell_type": "code",
   "execution_count": null,
   "metadata": {},
   "outputs": [],
   "source": [
    "# Drop trips with coach-rail or coach-air combinations\n",
    "sm.pt_los = sm.pt_los.loc[~sm.pt_los['route_types'].apply(\n",
    "    lambda x: 'coach' in x and ('rail_long' in x or 'rail_short' in x))]\n",
    "sm.pt_los.shape"
   ]
  },
  {
   "cell_type": "code",
   "execution_count": null,
   "metadata": {},
   "outputs": [],
   "source": [
    "'''# Drop trips with air interchange\n",
    "sm.pt_los.drop(sm.pt_los.loc[(sm.pt_los['route_type']=='air') &\n",
    "                             (sm.pt_los['link_path'].apply(\n",
    "                                 lambda x: len([t for t in x if type_dict[t]=='air'])>1))\n",
    "                            ].index, inplace=True)'''\n",
    "sm.pt_los.shape"
   ]
  },
  {
   "cell_type": "code",
   "execution_count": null,
   "metadata": {},
   "outputs": [],
   "source": [
    "# Drop unrealistically long trips\n",
    "sm.pt_los = sm.pt_los.loc[sm.pt_los['in_vehicle_time']<params['clean_los']['max_duration']]\n",
    "sm.pt_los.shape"
   ]
  },
  {
   "cell_type": "code",
   "execution_count": null,
   "metadata": {},
   "outputs": [],
   "source": [
    "# Time distribution\n",
    "if manual:\n",
    "    sm.pt_los.hist(column='time', bins=100, log=True, alpha=.5,\n",
    "                   ax=sm.pt_los.hist(column='in_vehicle_time', color='green',\n",
    "                                     bins=100, figsize=(4,4), log=True, alpha=.5))"
   ]
  },
  {
   "cell_type": "code",
   "execution_count": null,
   "metadata": {},
   "outputs": [],
   "source": [
    "if manual: sm.pt_los.hist(column='ntransfers', figsize=(4,4))"
   ]
  },
  {
   "cell_type": "code",
   "execution_count": null,
   "metadata": {},
   "outputs": [],
   "source": [
    "# Main mode distribution by transfers\n",
    "if manual:\n",
    "    t = sm.pt_los.copy()\n",
    "    t['bins'] = pd.cut(t['ntransfers'], bins=[0,1,3,5,10,20,100],\n",
    "                       labels=[\"0-1\", \"2-3\",\"4-5\",\"6-10\",\"11-20\",\"21+\"])\n",
    "    axs = t.groupby(['route_type','bins']).size().unstack(fill_value=0).plot.pie(\n",
    "        subplots=True, figsize=(16, 3),\n",
    "        startangle=0, counterclock=False, title='Main mode by number of transfers',\n",
    "        legend=False, labeldistance=None)\n",
    "    axs[0].legend(loc='lower left')"
   ]
  },
  {
   "cell_type": "code",
   "execution_count": null,
   "metadata": {},
   "outputs": [],
   "source": [
    "# Distribution of mode combinations\n",
    "if manual:\n",
    "    t['route_types'] = t['route_types'].apply(tuple)\n",
    "    t.groupby('route_types').count()['route_type'].plot(kind='bar')"
   ]
  },
  {
   "cell_type": "code",
   "execution_count": null,
   "metadata": {},
   "outputs": [],
   "source": [
    "if manual:\n",
    "    #t['time'] = t['time'] / 60\n",
    "    t['bins'] = pd.cut(t['time'], bins=[0,30,60,120,360,5000],\n",
    "                       labels=[\"0-30\",\"31-60\",\"61-120\",\"120-360\",\"361+\"])\n",
    "    axs = t.groupby(['route_type','bins']).size().unstack(fill_value=0).plot.pie(\n",
    "        subplots=True, figsize=(16, 3),\n",
    "        startangle=0, counterclock=False, title='Main mode by trip duration',\n",
    "        legend=False, labeldistance=None)\n",
    "    axs[0].legend()"
   ]
  },
  {
   "cell_type": "code",
   "execution_count": null,
   "metadata": {},
   "outputs": [],
   "source": [
    "if manual: t = None"
   ]
  },
  {
   "cell_type": "code",
   "execution_count": null,
   "metadata": {},
   "outputs": [],
   "source": [
    "# Drop unnecessary long connections if there is a waiting time applied\n",
    "if sm.links['headway'].mean() > 1*60:\n",
    "    sm.pt_los = sm.pt_los.loc[sm.pt_los['ntransfers']<=\n",
    "                              params['clean_los']['max_transfers']]\n",
    "    # Drop coach connections with more than one transfer\n",
    "    sm.pt_los = sm.pt_los.loc[~((sm.pt_los['route_type']=='coach') &\n",
    "                                (sm.pt_los['boardings'].apply(\n",
    "                                    lambda l: len([n for n in l if n.startswith('c')])>2)\n",
    "                                ))]\n",
    "sm.pt_los.shape"
   ]
  },
  {
   "cell_type": "code",
   "execution_count": null,
   "metadata": {},
   "outputs": [],
   "source": [
    "# Keep only the fastest trip(s)\n",
    "sm.pt_los['route_types'] = sm.pt_los['route_types'].apply(tuple)\n",
    "sm.pt_los = sm.pt_los.sort_values('time').groupby(\n",
    "    ['origin', 'destination', 'route_types']).nth(\n",
    "        list(range(params['clean_los']['n_fastest_trips']))).reset_index()\n",
    "sm.pt_los.shape"
   ]
  },
  {
   "cell_type": "code",
   "execution_count": null,
   "metadata": {},
   "outputs": [],
   "source": [
    "# Bus tickets are relatively cheap, but they apply only for short distances\n",
    "# And nobody books tickets at five different bus agencies\n",
    "# Thus, drop bus trips longer than 100km\n",
    "sm.pt_los = sm.pt_los.loc[~((sm.pt_los['route_type']=='bus') &\n",
    "                            (sm.pt_los['length']>params['clean_los']['max_dist_bus']))]\n",
    "sm.pt_los.shape"
   ]
  },
  {
   "cell_type": "code",
   "execution_count": null,
   "metadata": {},
   "outputs": [],
   "source": [
    "# Also drop coach trips for local transport\n",
    "sm.pt_los = sm.pt_los.loc[~((sm.pt_los['route_type']=='coach') &\n",
    "                            (sm.pt_los['length']<params['clean_los']['min_dist_coach']))]\n",
    "sm.pt_los.shape"
   ]
  },
  {
   "cell_type": "code",
   "execution_count": null,
   "metadata": {},
   "outputs": [],
   "source": [
    "# Drop rail short-distance trips above a distance threshold,\n",
    "# if a long-distance connection is available\n",
    "sm.pt_los['both'] = sm.pt_los.merge(\n",
    "    sm.pt_los.groupby(['origin', 'destination'])['route_type'].apply(\n",
    "        lambda od: 'rail_short' in list(od) and 'rail_long' in list(od)).rename('both'),\n",
    "    left_on=['origin', 'destination'], right_index=True)['both']\n",
    "sm.pt_los = sm.pt_los.loc[~((sm.pt_los['route_type']=='rail_short') &\n",
    "                            (sm.pt_los['both']==True) &\n",
    "                            (sm.pt_los['length']>params['clean_los']['max_dist_rail_short']))]\n",
    "sm.pt_los.drop('both', axis=1, inplace=True)\n",
    "sm.pt_los.shape"
   ]
  },
  {
   "cell_type": "code",
   "execution_count": null,
   "metadata": {},
   "outputs": [],
   "source": [
    "# Keep only trips where in-vehicle-time makes at least a third\n",
    "#sm.pt_los = sm.pt_los.loc[sm.pt_los['time']<sm.pt_los['in_vehicle_time']*3]\n",
    "#sm.pt_los.shape\n",
    "len(sm.pt_los.loc[sm.pt_los['time']<sm.pt_los['in_vehicle_time']*3])"
   ]
  },
  {
   "cell_type": "code",
   "execution_count": null,
   "metadata": {},
   "outputs": [],
   "source": [
    "if manual: sm.pt_los.groupby('route_types').count()['route_type'].plot(kind='bar')"
   ]
  },
  {
   "cell_type": "code",
   "execution_count": null,
   "metadata": {},
   "outputs": [],
   "source": [
    "# Time distribution\n",
    "if manual:\n",
    "    sm.pt_los.hist(column='time', bins=100, log=False, alpha=.5,\n",
    "                   ax=sm.pt_los.hist(column='in_vehicle_time', color='green',\n",
    "                                     bins=100, figsize=(4,4), log=False, alpha=.5))"
   ]
  },
  {
   "cell_type": "code",
   "execution_count": null,
   "metadata": {},
   "outputs": [],
   "source": [
    "# Look at Berlin - Hamburg times\n",
    "sm.pt_los.loc[(sm.pt_los['origin']=='DE300')&(sm.pt_los['destination']=='DE600')][\n",
    "    ['ntransfers', 'length', 'route_types', 'link_path']+[c for c in sm.pt_los.columns if c[-4:]=='time']]"
   ]
  },
  {
   "cell_type": "code",
   "execution_count": null,
   "metadata": {},
   "outputs": [],
   "source": [
    "# Stuttgart and surrounding?\n",
    "sm.pt_los.loc[(sm.pt_los['origin']=='DE112')&(sm.pt_los['destination']=='DE111')]"
   ]
  },
  {
   "cell_type": "code",
   "execution_count": null,
   "metadata": {},
   "outputs": [],
   "source": [
    "print(len(sm.pt_los))\n",
    "assert len(sm.pt_los.loc[sm.pt_los.isna().any(axis=1)])==0"
   ]
  },
  {
   "cell_type": "markdown",
   "metadata": {},
   "source": [
    "## Save model"
   ]
  },
  {
   "cell_type": "code",
   "execution_count": null,
   "metadata": {},
   "outputs": [],
   "source": [
    "# Ditch unneccessary columns\n",
    "to_drop = ['gtime', 'path', 'reversed', 'pathfinder_session',\n",
    "           'broken_modes', 'boardings', 'alightings', 'node_path',\n",
    "           'footpaths', 'ntlegs', 'transfers', 'boarding_links',\n",
    "           'alighting_links', 'all_walk', 'time_link_path',\n",
    "           'length_link_path', 'boarding_time', 'index']\n",
    "sm.pt_los = sm.pt_los.drop(to_drop, axis=1, errors='ignore')"
   ]
  },
  {
   "cell_type": "code",
   "execution_count": null,
   "metadata": {},
   "outputs": [],
   "source": [
    "# Clean links table\n",
    "to_drop = ['duration', 'cost', 'origin', 'destination']\n",
    "sm.links = sm.links.drop(to_drop, axis=1, errors='ignore')"
   ]
  },
  {
   "cell_type": "code",
   "execution_count": null,
   "metadata": {},
   "outputs": [],
   "source": [
    "# Make table smaller\n",
    "cols = ['time', 'access_time', 'in_vehicle_time', 'footpath_time',\n",
    "        'waiting_time', 'length']\n",
    "sm.pt_los[cols] = sm.pt_los[cols].astype(int)"
   ]
  },
  {
   "cell_type": "code",
   "execution_count": null,
   "metadata": {},
   "outputs": [],
   "source": [
    "sm.pt_los.sample()"
   ]
  },
  {
   "cell_type": "code",
   "execution_count": null,
   "metadata": {},
   "outputs": [],
   "source": [
    "# Saving LoS...\n",
    "sm.to_json(model_path + 'de_pt_los',\n",
    "           only_attributes=['pt_los'], encoding='utf-8')"
   ]
  }
 ],
 "metadata": {
  "kernelspec": {
   "display_name": "Python 3 (ipykernel)",
   "language": "python",
   "name": "python3"
  },
  "language_info": {
   "codemirror_mode": {
    "name": "ipython",
    "version": 3
   },
   "file_extension": ".py",
   "mimetype": "text/x-python",
   "name": "python",
   "nbconvert_exporter": "python",
   "pygments_lexer": "ipython3",
   "version": "3.8.13"
  }
 },
 "nbformat": 4,
 "nbformat_minor": 2
}
