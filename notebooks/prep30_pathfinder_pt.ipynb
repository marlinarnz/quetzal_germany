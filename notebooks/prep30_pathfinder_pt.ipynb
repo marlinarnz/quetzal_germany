{
 "cells": [
  {
   "cell_type": "code",
   "execution_count": 1,
   "metadata": {},
   "outputs": [
    {
     "name": "stderr",
     "output_type": "stream",
     "text": [
      "In C:\\Users\\marlin.arnz\\AppData\\Local\\Continuum\\miniconda3\\envs\\quetzal\\lib\\site-packages\\matplotlib\\mpl-data\\stylelib\\_classic_test.mplstyle: \n",
      "The text.latex.preview rcparam was deprecated in Matplotlib 3.3 and will be removed two minor releases later.\n",
      "In C:\\Users\\marlin.arnz\\AppData\\Local\\Continuum\\miniconda3\\envs\\quetzal\\lib\\site-packages\\matplotlib\\mpl-data\\stylelib\\_classic_test.mplstyle: \n",
      "The mathtext.fallback_to_cm rcparam was deprecated in Matplotlib 3.3 and will be removed two minor releases later.\n",
      "In C:\\Users\\marlin.arnz\\AppData\\Local\\Continuum\\miniconda3\\envs\\quetzal\\lib\\site-packages\\matplotlib\\mpl-data\\stylelib\\_classic_test.mplstyle: Support for setting the 'mathtext.fallback_to_cm' rcParam is deprecated since 3.3 and will be removed two minor releases later; use 'mathtext.fallback : 'cm' instead.\n",
      "In C:\\Users\\marlin.arnz\\AppData\\Local\\Continuum\\miniconda3\\envs\\quetzal\\lib\\site-packages\\matplotlib\\mpl-data\\stylelib\\_classic_test.mplstyle: \n",
      "The validate_bool_maybe_none function was deprecated in Matplotlib 3.3 and will be removed two minor releases later.\n",
      "In C:\\Users\\marlin.arnz\\AppData\\Local\\Continuum\\miniconda3\\envs\\quetzal\\lib\\site-packages\\matplotlib\\mpl-data\\stylelib\\_classic_test.mplstyle: \n",
      "The savefig.jpeg_quality rcparam was deprecated in Matplotlib 3.3 and will be removed two minor releases later.\n",
      "In C:\\Users\\marlin.arnz\\AppData\\Local\\Continuum\\miniconda3\\envs\\quetzal\\lib\\site-packages\\matplotlib\\mpl-data\\stylelib\\_classic_test.mplstyle: \n",
      "The keymap.all_axes rcparam was deprecated in Matplotlib 3.3 and will be removed two minor releases later.\n",
      "In C:\\Users\\marlin.arnz\\AppData\\Local\\Continuum\\miniconda3\\envs\\quetzal\\lib\\site-packages\\matplotlib\\mpl-data\\stylelib\\_classic_test.mplstyle: \n",
      "The animation.avconv_path rcparam was deprecated in Matplotlib 3.3 and will be removed two minor releases later.\n",
      "In C:\\Users\\marlin.arnz\\AppData\\Local\\Continuum\\miniconda3\\envs\\quetzal\\lib\\site-packages\\matplotlib\\mpl-data\\stylelib\\_classic_test.mplstyle: \n",
      "The animation.avconv_args rcparam was deprecated in Matplotlib 3.3 and will be removed two minor releases later.\n"
     ]
    }
   ],
   "source": [
    "import sys # for automation and parallelisation\n",
    "manual, scenario = (True, 'base') if 'ipykernel' in sys.argv[0] else (False, sys.argv[1])\n",
    "if manual:\n",
    "    %matplotlib inline"
   ]
  },
  {
   "cell_type": "code",
   "execution_count": 2,
   "metadata": {},
   "outputs": [],
   "source": [
    "import os\n",
    "import numpy as np\n",
    "import pandas as pd\n",
    "from tqdm import tqdm\n",
    "from quetzal.model import stepmodel\n",
    "from quetzal.analysis import analysis\n",
    "from quetzal.engine.pathfinder import PublicPathFinder\n",
    "from quetzal.io.display import all_pt_paths\n",
    "from syspy.skims import skims\n",
    "from quetzal.io import excel"
   ]
  },
  {
   "cell_type": "markdown",
   "metadata": {},
   "source": [
    "# Preparation of the LoS tables\n",
    "## Saves a StepModel with shortest paths and LoS attributes for the PT network\n",
    "## Needs aggregated PT networks"
   ]
  },
  {
   "cell_type": "code",
   "execution_count": 3,
   "metadata": {},
   "outputs": [],
   "source": [
    "input_path = '../input/'\n",
    "output_path = '../output/'\n",
    "model_path = '../model/'"
   ]
  },
  {
   "cell_type": "code",
   "execution_count": 4,
   "metadata": {},
   "outputs": [],
   "source": [
    "# Create a path for scenario-specific model files\n",
    "if not os.path.exists(model_path + scenario + '/'):\n",
    "    os.makedirs(model_path + scenario + '/')"
   ]
  },
  {
   "cell_type": "code",
   "execution_count": 5,
   "metadata": {},
   "outputs": [],
   "source": [
    "# Load scenario parameters\n",
    "params = excel.read_var(file='../input/parameters.xls', scenario=scenario)"
   ]
  },
  {
   "cell_type": "code",
   "execution_count": 6,
   "metadata": {},
   "outputs": [],
   "source": [
    "sm = stepmodel.read_json(model_path + 'de_pt_network_agg')\n",
    "ae = stepmodel.read_json(model_path + 'de_pt_access_egress')\n",
    "aux = stepmodel.read_json(model_path + 'de_pt_network_ancillary')"
   ]
  },
  {
   "cell_type": "code",
   "execution_count": 7,
   "metadata": {},
   "outputs": [],
   "source": [
    "sm.centroids = ae.centroids\n",
    "sm.footpaths = ae.footpaths\n",
    "sm.zone_to_transit = ae.zone_to_transit"
   ]
  },
  {
   "cell_type": "code",
   "execution_count": 8,
   "metadata": {},
   "outputs": [
    {
     "data": {
      "text/plain": [
       "(280609, 10)"
      ]
     },
     "execution_count": 8,
     "metadata": {},
     "output_type": "execute_result"
    }
   ],
   "source": [
    "sm.links.shape"
   ]
  },
  {
   "cell_type": "markdown",
   "metadata": {},
   "source": [
    "### Prepare links for pathfinder"
   ]
  },
  {
   "cell_type": "code",
   "execution_count": 9,
   "metadata": {},
   "outputs": [],
   "source": [
    "# aggregate local bus and tram, underground, ferry, funicular\n",
    "if 'subway' in sm.links['route_type'].unique():\n",
    "    sm.links['route_type_disagg'] = sm.links['route_type'].copy()\n",
    "    sm.links['route_type'] = sm.links['route_type'].replace(\n",
    "        {'tram': 'bus', 'subway': 'bus', 'ferry': 'bus', 'funicular': 'bus'})\n",
    "    sm.pt_route_types = list(sm.links['route_type'].unique())"
   ]
  },
  {
   "cell_type": "code",
   "execution_count": 10,
   "metadata": {},
   "outputs": [
    {
     "data": {
      "text/html": [
       "<div>\n",
       "<style scoped>\n",
       "    .dataframe tbody tr th:only-of-type {\n",
       "        vertical-align: middle;\n",
       "    }\n",
       "\n",
       "    .dataframe tbody tr th {\n",
       "        vertical-align: top;\n",
       "    }\n",
       "\n",
       "    .dataframe thead th {\n",
       "        text-align: right;\n",
       "    }\n",
       "</style>\n",
       "<table border=\"1\" class=\"dataframe\">\n",
       "  <thead>\n",
       "    <tr style=\"text-align: right;\">\n",
       "      <th></th>\n",
       "      <th>a</th>\n",
       "    </tr>\n",
       "    <tr>\n",
       "      <th>route_type</th>\n",
       "      <th></th>\n",
       "    </tr>\n",
       "  </thead>\n",
       "  <tbody>\n",
       "  </tbody>\n",
       "</table>\n",
       "</div>"
      ],
      "text/plain": [
       "Empty DataFrame\n",
       "Columns: [a]\n",
       "Index: []"
      ]
     },
     "execution_count": 10,
     "metadata": {},
     "output_type": "execute_result"
    }
   ],
   "source": [
    "# Route types without headway\n",
    "sm.links.loc[sm.links['headway'].isna()].groupby('route_type').agg({'a': 'count'})"
   ]
  },
  {
   "cell_type": "code",
   "execution_count": 11,
   "metadata": {},
   "outputs": [],
   "source": [
    "sm.links['headway'] = sm.links['headway'].fillna(2*3600)"
   ]
  },
  {
   "cell_type": "code",
   "execution_count": 12,
   "metadata": {},
   "outputs": [],
   "source": [
    "# Set a maximum headway\n",
    "urban_dict = sm.nodes['FID'].map(sm.zones['urbanisation'].to_dict()).to_dict()\n",
    "for u in [1,2,3]:\n",
    "    for mode in sm.pt_route_types:\n",
    "        mask = (sm.links['route_type']==mode)&(sm.links['a'].map(urban_dict)==u)\n",
    "        sm.links.loc[mask, 'headway'] = np.minimum(\n",
    "            sm.links.loc[mask, 'headway'], params['max_headway_urban'+str(int(u))][mode])"
   ]
  },
  {
   "cell_type": "code",
   "execution_count": 13,
   "metadata": {},
   "outputs": [],
   "source": [
    "sm.links['headway'] = sm.links['headway'].astype(int)"
   ]
  },
  {
   "cell_type": "code",
   "execution_count": 14,
   "metadata": {},
   "outputs": [
    {
     "data": {
      "image/png": "[encoded data removed]",
      "text/plain": [
       "<Figure size 432x216 with 1 Axes>"
      ]
     },
     "metadata": {
      "needs_background": "light"
     },
     "output_type": "display_data"
    }
   ],
   "source": [
    "# Waiting time distribution in minutes\n",
    "if manual: (sm.links['headway']/60/2).hist(bins=100, figsize=(6,3), log=False)"
   ]
  },
  {
   "cell_type": "code",
   "execution_count": 15,
   "metadata": {},
   "outputs": [
    {
     "data": {
      "text/plain": [
       "15.249617082844813"
      ]
     },
     "execution_count": 15,
     "metadata": {},
     "output_type": "execute_result"
    }
   ],
   "source": [
    "sm.links['headway'].mean()/60/2"
   ]
  },
  {
   "cell_type": "code",
   "execution_count": 16,
   "metadata": {},
   "outputs": [],
   "source": [
    "# Set a mode-specific transfer penalty\n",
    "# It will be substracted later\n",
    "time_dict = params['transfer_penalty']\n",
    "sm.links['boarding_time'] = sm.links['route_type'].map(time_dict) # in s"
   ]
  },
  {
   "cell_type": "code",
   "execution_count": 17,
   "metadata": {},
   "outputs": [],
   "source": [
    "# Generate length for PT links\n",
    "if 'length' not in sm.links.columns:\n",
    "    sm.links['length'] = skims.distance_from_geometry(sm.links['geometry']).astype(int)\n",
    "    # Adjust coach transport towards road distances\n",
    "    sm.links.loc[sm.links['route_type']=='coach', 'length'] *= 1.136"
   ]
  },
  {
   "cell_type": "code",
   "execution_count": 18,
   "metadata": {},
   "outputs": [
    {
     "data": {
      "text/html": [
       "<div>\n",
       "<style scoped>\n",
       "    .dataframe tbody tr th:only-of-type {\n",
       "        vertical-align: middle;\n",
       "    }\n",
       "\n",
       "    .dataframe tbody tr th {\n",
       "        vertical-align: top;\n",
       "    }\n",
       "\n",
       "    .dataframe thead th {\n",
       "        text-align: right;\n",
       "    }\n",
       "</style>\n",
       "<table border=\"1\" class=\"dataframe\">\n",
       "  <thead>\n",
       "    <tr style=\"text-align: right;\">\n",
       "      <th></th>\n",
       "      <th>route_type</th>\n",
       "      <th>route_type_disagg</th>\n",
       "      <th>geometry</th>\n",
       "      <th>a</th>\n",
       "      <th>b</th>\n",
       "      <th>link_sequence</th>\n",
       "      <th>route_id</th>\n",
       "      <th>time</th>\n",
       "      <th>trip_id</th>\n",
       "      <th>headway</th>\n",
       "      <th>boarding_time</th>\n",
       "      <th>length</th>\n",
       "    </tr>\n",
       "    <tr>\n",
       "      <th>index</th>\n",
       "      <th></th>\n",
       "      <th></th>\n",
       "      <th></th>\n",
       "      <th></th>\n",
       "      <th></th>\n",
       "      <th></th>\n",
       "      <th></th>\n",
       "      <th></th>\n",
       "      <th></th>\n",
       "      <th></th>\n",
       "      <th></th>\n",
       "      <th></th>\n",
       "    </tr>\n",
       "  </thead>\n",
       "  <tbody>\n",
       "    <tr>\n",
       "      <th>bus_40890</th>\n",
       "      <td>bus</td>\n",
       "      <td>bus</td>\n",
       "      <td>LINESTRING (14.61329 50.98596, 14.60906 50.97954)</td>\n",
       "      <td>b_DED2D_111</td>\n",
       "      <td>b_DED2D_60</td>\n",
       "      <td>11</td>\n",
       "      <td>bus_10239</td>\n",
       "      <td>60</td>\n",
       "      <td>bus_10239_14</td>\n",
       "      <td>1200</td>\n",
       "      <td>0</td>\n",
       "      <td>773.0</td>\n",
       "    </tr>\n",
       "  </tbody>\n",
       "</table>\n",
       "</div>"
      ],
      "text/plain": [
       "          route_type route_type_disagg  \\\n",
       "index                                    \n",
       "bus_40890        bus               bus   \n",
       "\n",
       "                                                    geometry            a  \\\n",
       "index                                                                       \n",
       "bus_40890  LINESTRING (14.61329 50.98596, 14.60906 50.97954)  b_DED2D_111   \n",
       "\n",
       "                    b  link_sequence   route_id  time       trip_id  headway  \\\n",
       "index                                                                          \n",
       "bus_40890  b_DED2D_60             11  bus_10239    60  bus_10239_14     1200   \n",
       "\n",
       "          boarding_time  length  \n",
       "index                            \n",
       "bus_40890             0   773.0  "
      ]
     },
     "execution_count": 18,
     "metadata": {},
     "output_type": "execute_result"
    }
   ],
   "source": [
    "sm.links.sample()"
   ]
  },
  {
   "cell_type": "code",
   "execution_count": 19,
   "metadata": {},
   "outputs": [],
   "source": [
    "# Delete footpaths between centroids as they might confuse the pathfinder\n",
    "# Add them later anew\n",
    "sm.footpaths = sm.footpaths.loc[~((sm.footpaths['a'].isin(sm.centroids.index)) |\n",
    "                                  (sm.footpaths['b'].isin(sm.centroids.index)) |\n",
    "                                  (sm.footpaths['a']==sm.footpaths['b']))]"
   ]
  },
  {
   "cell_type": "code",
   "execution_count": 20,
   "metadata": {},
   "outputs": [
    {
     "data": {
      "text/plain": [
       "<AxesSubplot:>"
      ]
     },
     "execution_count": 20,
     "metadata": {},
     "output_type": "execute_result"
    },
    {
     "data": {
      "image/png": "[encoded data removed]",
      "text/plain": [
       "<Figure size 216x216 with 1 Axes>"
      ]
     },
     "metadata": {
      "needs_background": "light"
     },
     "output_type": "display_data"
    }
   ],
   "source": [
    "(sm.footpaths['time']/60).hist(bins=20, figsize=(3,3))"
   ]
  },
  {
   "cell_type": "code",
   "execution_count": 21,
   "metadata": {},
   "outputs": [],
   "source": [
    "# Add a initial waiting time for PT access legs\n",
    "sm.zone_to_transit.loc[sm.zone_to_transit['direction']=='access', 'time'] += \\\n",
    "    params['access-egress_links']['time_pt']"
   ]
  },
  {
   "cell_type": "markdown",
   "metadata": {},
   "source": [
    "### Apply PT pathfinder\n",
    "It generates the LoS table with shortest paths for each origin destination pair"
   ]
  },
  {
   "cell_type": "code",
   "execution_count": 22,
   "metadata": {},
   "outputs": [],
   "source": [
    "# We don't want the algorithm to search paths for all mode combinations.\n",
    "# Thus, we have to extract the pathfinder and search them manually.\n",
    "ppf = PublicPathFinder(sm)"
   ]
  },
  {
   "cell_type": "code",
   "execution_count": 23,
   "metadata": {},
   "outputs": [
    {
     "data": {
      "text/plain": [
       "[{'air', 'bus', 'coach', 'rail_long', 'rail_short'},\n",
       " {'air', 'bus', 'coach', 'rail_long'},\n",
       " {'air', 'bus', 'coach', 'rail_short'},\n",
       " {'air', 'bus', 'coach'},\n",
       " {'air', 'bus', 'rail_long', 'rail_short'},\n",
       " {'air', 'bus', 'rail_long'},\n",
       " {'air', 'bus', 'rail_short'},\n",
       " {'air', 'bus'},\n",
       " {'air', 'coach', 'rail_long', 'rail_short'},\n",
       " {'air', 'coach', 'rail_long'},\n",
       " {'air', 'coach', 'rail_short'},\n",
       " {'air', 'coach'},\n",
       " {'air', 'rail_long', 'rail_short'},\n",
       " {'air', 'rail_long'},\n",
       " {'air', 'rail_short'},\n",
       " {'air'},\n",
       " {'bus', 'coach', 'rail_long', 'rail_short'},\n",
       " {'bus', 'coach', 'rail_long'},\n",
       " {'bus', 'coach', 'rail_short'},\n",
       " {'bus', 'coach'},\n",
       " {'bus', 'rail_long', 'rail_short'},\n",
       " {'bus', 'rail_long'},\n",
       " {'bus', 'rail_short'},\n",
       " {'bus'},\n",
       " {'coach', 'rail_long', 'rail_short'},\n",
       " {'coach', 'rail_long'},\n",
       " {'coach', 'rail_short'},\n",
       " {'coach'},\n",
       " {'rail_long', 'rail_short'},\n",
       " {'rail_long'},\n",
       " {'rail_short'},\n",
       " set()]"
      ]
     },
     "execution_count": 23,
     "metadata": {},
     "output_type": "execute_result"
    }
   ],
   "source": [
    "# Now, build custom mode combinations\n",
    "# People just don't go by coach and then switch to rail or airplane within Germany\n",
    "ppf.build_mode_combinations(mode_column='route_type')\n",
    "#ppf.mode_combinations = [x for x in ppf.mode_combinations\n",
    "#                         if not ('coach' in x and\n",
    "#                         ('rail_long' in x or\n",
    "#                          'rail_short' in x or\n",
    "#                          'air' in x))]\n",
    "ppf.mode_combinations"
   ]
  },
  {
   "cell_type": "code",
   "execution_count": 24,
   "metadata": {},
   "outputs": [
    {
     "name": "stdout",
     "output_type": "stream",
     "text": [
      "The volumes file is not (yet) available\n"
     ]
    }
   ],
   "source": [
    "# Load OD pairs from volumes if available\n",
    "od_set = None\n",
    "try:\n",
    "    v = stepmodel.read_json(model_path + 'de_volumes')\n",
    "    od_set = set([tuple(l) for l in v.volumes[['origin', 'destination']].values.tolist()])\n",
    "    print('Generated OD set with {} pairs'.format(len(od_set)))\n",
    "except:\n",
    "    print('The volumes file is not (yet) available')"
   ]
  },
  {
   "cell_type": "code",
   "execution_count": 25,
   "metadata": {},
   "outputs": [
    {
     "name": "stderr",
     "output_type": "stream",
     "text": [
      "breaking modes: set() : 100%|██████████████████████████████████████████████████████████| 32/32 [36:43<00:00, 68.87s/it]\n"
     ]
    }
   ],
   "source": [
    "# Run the pathfinder for all mode combinations\n",
    "# If there is no boarding time column in links table:\n",
    "# Include a transfer penalty in order to promote direct routes.\n",
    "# It will be substracted later\n",
    "# The penalty must be None, if a link boarding time is set\n",
    "transfer_penalty = None\n",
    "ppf.find_broken_mode_paths(cutoff=np.inf,\n",
    "                           od_set=od_set,\n",
    "                           mode_column='route_type',\n",
    "                           boarding_time=transfer_penalty)"
   ]
  },
  {
   "cell_type": "code",
   "execution_count": 26,
   "metadata": {},
   "outputs": [
    {
     "name": "stderr",
     "output_type": "stream",
     "text": [
      "path_analysis: 100%|██████████████████████████████████████████████████████| 4166510/4166510 [06:37<00:00, 10486.33it/s]\n"
     ]
    }
   ],
   "source": [
    "# Run the path analysis and assign paths as LoS table\n",
    "sm.pt_los = analysis.path_analysis_od_matrix(\n",
    "    od_matrix=ppf.broken_mode_paths,\n",
    "    links=sm.links,\n",
    "    nodes=sm.nodes,\n",
    "    centroids=sm.centroids)"
   ]
  },
  {
   "cell_type": "code",
   "execution_count": 27,
   "metadata": {},
   "outputs": [
    {
     "name": "stdout",
     "output_type": "stream",
     "text": [
      "4166510\n"
     ]
    },
    {
     "data": {
      "text/html": [
       "<div>\n",
       "<style scoped>\n",
       "    .dataframe tbody tr th:only-of-type {\n",
       "        vertical-align: middle;\n",
       "    }\n",
       "\n",
       "    .dataframe tbody tr th {\n",
       "        vertical-align: top;\n",
       "    }\n",
       "\n",
       "    .dataframe thead th {\n",
       "        text-align: right;\n",
       "    }\n",
       "</style>\n",
       "<table border=\"1\" class=\"dataframe\">\n",
       "  <thead>\n",
       "    <tr style=\"text-align: right;\">\n",
       "      <th></th>\n",
       "      <th>origin</th>\n",
       "      <th>destination</th>\n",
       "      <th>gtime</th>\n",
       "      <th>path</th>\n",
       "      <th>reversed</th>\n",
       "      <th>pathfinder_session</th>\n",
       "      <th>broken_modes</th>\n",
       "      <th>boardings</th>\n",
       "      <th>alightings</th>\n",
       "      <th>node_path</th>\n",
       "      <th>link_path</th>\n",
       "      <th>footpaths</th>\n",
       "      <th>ntlegs</th>\n",
       "      <th>transfers</th>\n",
       "      <th>boarding_links</th>\n",
       "      <th>alighting_links</th>\n",
       "      <th>all_walk</th>\n",
       "      <th>ntransfers</th>\n",
       "      <th>time_link_path</th>\n",
       "      <th>length_link_path</th>\n",
       "    </tr>\n",
       "  </thead>\n",
       "  <tbody>\n",
       "    <tr>\n",
       "      <th>64643</th>\n",
       "      <td>DE600</td>\n",
       "      <td>DE234</td>\n",
       "      <td>33783.735292</td>\n",
       "      <td>[DE600, b_DE600_658, rs_DE600_45, rs_51018, rs...</td>\n",
       "      <td>False</td>\n",
       "      <td>mode_breaker</td>\n",
       "      <td>{rail_long, air, coach}</td>\n",
       "      <td>[rs_DE600_45, b_DE80K_71, b_DE80K_173, b_DE80K...</td>\n",
       "      <td>[rs_DE80K_2, b_DE80K_173, b_DE80K_349, b_DED2F...</td>\n",
       "      <td>[b_DE600_658, rs_DE600_45, rs_DE80K_2, b_DE80K...</td>\n",
       "      <td>[rs_51018, rs_51019, rs_51020, rs_51021, rs_51...</td>\n",
       "      <td>[(b_DE600_658, rs_DE600_45), (rs_DE80K_2, b_DE...</td>\n",
       "      <td>[(DE600, b_DE600_658), (rs_DE234_0, DE234)]</td>\n",
       "      <td>[b_DE80K_173, b_DE80K_349, b_DED2F_16, b_DED2F...</td>\n",
       "      <td>[rs_51018, bus_281191, bus_485272, bus_140961,...</td>\n",
       "      <td>[rs_51032, bus_281191, bus_485272, bus_140961,...</td>\n",
       "      <td>False</td>\n",
       "      <td>11</td>\n",
       "      <td>19440</td>\n",
       "      <td>787460.0</td>\n",
       "    </tr>\n",
       "  </tbody>\n",
       "</table>\n",
       "</div>"
      ],
      "text/plain": [
       "      origin destination         gtime  \\\n",
       "64643  DE600       DE234  33783.735292   \n",
       "\n",
       "                                                    path  reversed  \\\n",
       "64643  [DE600, b_DE600_658, rs_DE600_45, rs_51018, rs...     False   \n",
       "\n",
       "      pathfinder_session             broken_modes  \\\n",
       "64643       mode_breaker  {rail_long, air, coach}   \n",
       "\n",
       "                                               boardings  \\\n",
       "64643  [rs_DE600_45, b_DE80K_71, b_DE80K_173, b_DE80K...   \n",
       "\n",
       "                                              alightings  \\\n",
       "64643  [rs_DE80K_2, b_DE80K_173, b_DE80K_349, b_DED2F...   \n",
       "\n",
       "                                               node_path  \\\n",
       "64643  [b_DE600_658, rs_DE600_45, rs_DE80K_2, b_DE80K...   \n",
       "\n",
       "                                               link_path  \\\n",
       "64643  [rs_51018, rs_51019, rs_51020, rs_51021, rs_51...   \n",
       "\n",
       "                                               footpaths  \\\n",
       "64643  [(b_DE600_658, rs_DE600_45), (rs_DE80K_2, b_DE...   \n",
       "\n",
       "                                            ntlegs  \\\n",
       "64643  [(DE600, b_DE600_658), (rs_DE234_0, DE234)]   \n",
       "\n",
       "                                               transfers  \\\n",
       "64643  [b_DE80K_173, b_DE80K_349, b_DED2F_16, b_DED2F...   \n",
       "\n",
       "                                          boarding_links  \\\n",
       "64643  [rs_51018, bus_281191, bus_485272, bus_140961,...   \n",
       "\n",
       "                                         alighting_links  all_walk  \\\n",
       "64643  [rs_51032, bus_281191, bus_485272, bus_140961,...     False   \n",
       "\n",
       "       ntransfers  time_link_path  length_link_path  \n",
       "64643          11           19440          787460.0  "
      ]
     },
     "execution_count": 27,
     "metadata": {},
     "output_type": "execute_result"
    }
   ],
   "source": [
    "print(len(sm.pt_los.index))\n",
    "sm.pt_los.loc[sm.pt_los['origin']!=sm.pt_los['destination']].sample()"
   ]
  },
  {
   "cell_type": "markdown",
   "metadata": {},
   "source": [
    "### Add attributes to LoS table"
   ]
  },
  {
   "cell_type": "code",
   "execution_count": 28,
   "metadata": {},
   "outputs": [
    {
     "data": {
      "text/plain": [
       "(4153678, 20)"
      ]
     },
     "execution_count": 28,
     "metadata": {},
     "output_type": "execute_result"
    }
   ],
   "source": [
    "# Drop within-cell connections\n",
    "sm.pt_los = sm.pt_los.loc[sm.pt_los['link_path'].apply(lambda l: len(l)>0)]\n",
    "sm.pt_los.shape"
   ]
  },
  {
   "cell_type": "code",
   "execution_count": 29,
   "metadata": {},
   "outputs": [],
   "source": [
    "# Add distances (Only path, not access/egress)\n",
    "len_dict = sm.links['length'].to_dict()\n",
    "sm.pt_los['length'] = sm.pt_los['link_path'].apply(lambda p: sum([len_dict[l] for l in p]))"
   ]
  },
  {
   "cell_type": "code",
   "execution_count": 30,
   "metadata": {},
   "outputs": [
    {
     "data": {
      "text/plain": [
       "Index(['origin', 'destination', 'gtime', 'path', 'reversed',\n",
       "       'pathfinder_session', 'broken_modes', 'boardings', 'alightings',\n",
       "       'node_path', 'link_path', 'footpaths', 'ntlegs', 'transfers',\n",
       "       'boarding_links', 'alighting_links', 'all_walk', 'ntransfers',\n",
       "       'time_link_path', 'length_link_path', 'length', 'access_time',\n",
       "       'footpath_time', 'in_vehicle_time', 'waiting_time', 'boarding_time',\n",
       "       'time'],\n",
       "      dtype='object')"
      ]
     },
     "execution_count": 30,
     "metadata": {},
     "output_type": "execute_result"
    }
   ],
   "source": [
    "# Disaggregate time into in-vehicle and access/egress\n",
    "# Substract the transfer penalty set above (put 0)\n",
    "if transfer_penalty is None:\n",
    "    sm.analysis_pt_time(boarding_time=None)\n",
    "    sm.pt_los['time'] -= sm.pt_los['boarding_time']\n",
    "#    sm.pt_los['boarding_time'] = 0\n",
    "else:\n",
    "    sm.analysis_pt_time(boarding_time=0)\n",
    "sm.pt_los.columns"
   ]
  },
  {
   "cell_type": "code",
   "execution_count": 31,
   "metadata": {},
   "outputs": [
    {
     "data": {
      "text/html": [
       "<div>\n",
       "<style scoped>\n",
       "    .dataframe tbody tr th:only-of-type {\n",
       "        vertical-align: middle;\n",
       "    }\n",
       "\n",
       "    .dataframe tbody tr th {\n",
       "        vertical-align: top;\n",
       "    }\n",
       "\n",
       "    .dataframe thead th {\n",
       "        text-align: right;\n",
       "    }\n",
       "</style>\n",
       "<table border=\"1\" class=\"dataframe\">\n",
       "  <thead>\n",
       "    <tr style=\"text-align: right;\">\n",
       "      <th></th>\n",
       "      <th>ntransfers</th>\n",
       "      <th>length</th>\n",
       "      <th>gtime</th>\n",
       "      <th>access_time</th>\n",
       "      <th>footpath_time</th>\n",
       "      <th>in_vehicle_time</th>\n",
       "      <th>waiting_time</th>\n",
       "      <th>boarding_time</th>\n",
       "      <th>time</th>\n",
       "    </tr>\n",
       "  </thead>\n",
       "  <tbody>\n",
       "    <tr>\n",
       "      <th>158194</th>\n",
       "      <td>1</td>\n",
       "      <td>228428.0</td>\n",
       "      <td>16995.885253</td>\n",
       "      <td>2123.482792</td>\n",
       "      <td>112.402462</td>\n",
       "      <td>11160</td>\n",
       "      <td>3600.0</td>\n",
       "      <td>0</td>\n",
       "      <td>16995.885253</td>\n",
       "    </tr>\n",
       "    <tr>\n",
       "      <th>141091</th>\n",
       "      <td>1</td>\n",
       "      <td>228095.0</td>\n",
       "      <td>13912.496514</td>\n",
       "      <td>1672.496514</td>\n",
       "      <td>0.000000</td>\n",
       "      <td>9540</td>\n",
       "      <td>2700.0</td>\n",
       "      <td>0</td>\n",
       "      <td>13912.496514</td>\n",
       "    </tr>\n",
       "  </tbody>\n",
       "</table>\n",
       "</div>"
      ],
      "text/plain": [
       "        ntransfers    length         gtime  access_time  footpath_time  \\\n",
       "158194           1  228428.0  16995.885253  2123.482792     112.402462   \n",
       "141091           1  228095.0  13912.496514  1672.496514       0.000000   \n",
       "\n",
       "        in_vehicle_time  waiting_time  boarding_time          time  \n",
       "158194            11160        3600.0              0  16995.885253  \n",
       "141091             9540        2700.0              0  13912.496514  "
      ]
     },
     "execution_count": 31,
     "metadata": {},
     "output_type": "execute_result"
    }
   ],
   "source": [
    "# Check times\n",
    "sm.pt_los[['ntransfers', 'length']+[c for c in sm.pt_los.columns if c[-4:]=='time']].sample(2)"
   ]
  },
  {
   "cell_type": "code",
   "execution_count": 32,
   "metadata": {},
   "outputs": [],
   "source": [
    "# Add route_types\n",
    "type_dict = sm.links['route_type'].to_dict()\n",
    "sm.pt_los['route_types'] = [set([type_dict[link] for link in l])\n",
    "                            for l in list(sm.pt_los['link_path'])]"
   ]
  },
  {
   "cell_type": "code",
   "execution_count": 33,
   "metadata": {},
   "outputs": [],
   "source": [
    "# Add main route_type based on a hierarchy\n",
    "hierarchy = ['air', 'coach', 'rail_long', 'rail_short', 'bus', 'walk']\n",
    "def main_type(types):\n",
    "    t = hierarchy[-1]\n",
    "    try:\n",
    "        t = hierarchy[min([hierarchy.index(t) for t in types])]\n",
    "    except ValueError: # empty types set\n",
    "        pass\n",
    "    return t\n",
    "sm.pt_los['route_type'] = sm.pt_los['route_types'].apply(main_type)"
   ]
  },
  {
   "cell_type": "code",
   "execution_count": 34,
   "metadata": {},
   "outputs": [],
   "source": [
    "# Substract the waiting time at the first stop\n",
    "headway_dict = sm.links['headway'].to_dict()\n",
    "mask = sm.pt_los['route_type']!='air'\n",
    "sm.pt_los.loc[mask, 'time'] -= sm.pt_los.loc[mask, 'link_path'].apply(\n",
    "    lambda l: l[0]).map(headway_dict) / 2\n",
    "sm.pt_los.loc[mask, 'waiting_time'] -= sm.pt_los.loc[mask, 'link_path'].apply(\n",
    "    lambda l: l[0]).map(headway_dict) / 2"
   ]
  },
  {
   "cell_type": "code",
   "execution_count": 35,
   "metadata": {},
   "outputs": [],
   "source": [
    "# Add price, parametrisation comes later because\n",
    "# our GTFS feeds come without fares\n",
    "sm.pt_los['price'] = 0"
   ]
  },
  {
   "cell_type": "code",
   "execution_count": 36,
   "metadata": {},
   "outputs": [
    {
     "data": {
      "text/html": [
       "<div>\n",
       "<style scoped>\n",
       "    .dataframe tbody tr th:only-of-type {\n",
       "        vertical-align: middle;\n",
       "    }\n",
       "\n",
       "    .dataframe tbody tr th {\n",
       "        vertical-align: top;\n",
       "    }\n",
       "\n",
       "    .dataframe thead th {\n",
       "        text-align: right;\n",
       "    }\n",
       "</style>\n",
       "<table border=\"1\" class=\"dataframe\">\n",
       "  <thead>\n",
       "    <tr style=\"text-align: right;\">\n",
       "      <th></th>\n",
       "      <th>origin</th>\n",
       "      <th>destination</th>\n",
       "      <th>gtime</th>\n",
       "      <th>path</th>\n",
       "      <th>reversed</th>\n",
       "      <th>pathfinder_session</th>\n",
       "      <th>broken_modes</th>\n",
       "      <th>boardings</th>\n",
       "      <th>alightings</th>\n",
       "      <th>node_path</th>\n",
       "      <th>...</th>\n",
       "      <th>length</th>\n",
       "      <th>access_time</th>\n",
       "      <th>footpath_time</th>\n",
       "      <th>in_vehicle_time</th>\n",
       "      <th>waiting_time</th>\n",
       "      <th>boarding_time</th>\n",
       "      <th>time</th>\n",
       "      <th>route_types</th>\n",
       "      <th>route_type</th>\n",
       "      <th>price</th>\n",
       "    </tr>\n",
       "  </thead>\n",
       "  <tbody>\n",
       "    <tr>\n",
       "      <th>6553</th>\n",
       "      <td>DE124</td>\n",
       "      <td>DE27C</td>\n",
       "      <td>16126.241935</td>\n",
       "      <td>[DE124, b_DE124_3, bus_1238736, bus_1238737, b...</td>\n",
       "      <td>False</td>\n",
       "      <td>mode_breaker</td>\n",
       "      <td>{coach}</td>\n",
       "      <td>[b_DE124_3, rl_DE121_0, rs_DE144_0]</td>\n",
       "      <td>[b_DE121_18, rl_DE144_0, rs_DE27C_7]</td>\n",
       "      <td>[b_DE124_3, b_DE121_18, rl_DE121_0, rl_DE144_0...</td>\n",
       "      <td>...</td>\n",
       "      <td>249538.0</td>\n",
       "      <td>2178.655246</td>\n",
       "      <td>87.58669</td>\n",
       "      <td>9660</td>\n",
       "      <td>3600.0</td>\n",
       "      <td>0</td>\n",
       "      <td>15526.241935</td>\n",
       "      <td>{rail_long, rail_short, bus}</td>\n",
       "      <td>rail_long</td>\n",
       "      <td>0</td>\n",
       "    </tr>\n",
       "  </tbody>\n",
       "</table>\n",
       "<p>1 rows × 30 columns</p>\n",
       "</div>"
      ],
      "text/plain": [
       "     origin destination         gtime  \\\n",
       "6553  DE124       DE27C  16126.241935   \n",
       "\n",
       "                                                   path  reversed  \\\n",
       "6553  [DE124, b_DE124_3, bus_1238736, bus_1238737, b...     False   \n",
       "\n",
       "     pathfinder_session broken_modes                            boardings  \\\n",
       "6553       mode_breaker      {coach}  [b_DE124_3, rl_DE121_0, rs_DE144_0]   \n",
       "\n",
       "                                alightings  \\\n",
       "6553  [b_DE121_18, rl_DE144_0, rs_DE27C_7]   \n",
       "\n",
       "                                              node_path  ...    length  \\\n",
       "6553  [b_DE124_3, b_DE121_18, rl_DE121_0, rl_DE144_0...  ...  249538.0   \n",
       "\n",
       "      access_time footpath_time in_vehicle_time waiting_time boarding_time  \\\n",
       "6553  2178.655246      87.58669            9660       3600.0             0   \n",
       "\n",
       "              time                   route_types  route_type  price  \n",
       "6553  15526.241935  {rail_long, rail_short, bus}   rail_long      0  \n",
       "\n",
       "[1 rows x 30 columns]"
      ]
     },
     "execution_count": 36,
     "metadata": {},
     "output_type": "execute_result"
    }
   ],
   "source": [
    "sm.pt_los.sample()"
   ]
  },
  {
   "cell_type": "code",
   "execution_count": 37,
   "metadata": {},
   "outputs": [],
   "source": [
    "# Make a safety copy before restricting results\n",
    "if manual: los = sm.pt_los.copy()"
   ]
  },
  {
   "cell_type": "code",
   "execution_count": 38,
   "metadata": {},
   "outputs": [],
   "source": [
    "#sm.pt_los = los.copy()"
   ]
  },
  {
   "cell_type": "markdown",
   "metadata": {},
   "source": [
    "### Clean PT LOS"
   ]
  },
  {
   "cell_type": "code",
   "execution_count": 39,
   "metadata": {},
   "outputs": [
    {
     "data": {
      "text/plain": [
       "(2025934, 30)"
      ]
     },
     "execution_count": 39,
     "metadata": {},
     "output_type": "execute_result"
    }
   ],
   "source": [
    "# Drop duplicates\n",
    "sm.pt_los['path'] = sm.pt_los['path'].apply(tuple)\n",
    "sm.pt_los.drop_duplicates('path', inplace=True)\n",
    "sm.pt_los.reset_index(drop=True, inplace=True)\n",
    "sm.pt_los.shape"
   ]
  },
  {
   "cell_type": "code",
   "execution_count": 40,
   "metadata": {
    "scrolled": false
   },
   "outputs": [
    {
     "name": "stderr",
     "output_type": "stream",
     "text": [
      "100%|████████████████████████████████████████████████████████████████████████████████████| 6/6 [00:01<00:00,  3.38it/s]\n"
     ]
    },
    {
     "data": {
      "text/html": [
       "<div style=\"width:100%;\"><div style=\"position:relative;width:100%;height:0;padding-bottom:60%;\"><iframe src=\"data:text/html;charset=utf-8;base64,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\" style=\"position:absolute;width:100%;height:100%;left:0;top:0;border:none !important;\" allowfullscreen webkitallowfullscreen mozallowfullscreen></iframe></div></div>"
      ],
      "text/plain": [
       "<folium.folium.Map at 0x1eb42b91340>"
      ]
     },
     "execution_count": 40,
     "metadata": {},
     "output_type": "execute_result"
    }
   ],
   "source": [
    "# Berlin - Hamburg\n",
    "all_pt_paths(sm, 'DE300', 'DE600', verbose=False, group_name='route_type')"
   ]
  },
  {
   "cell_type": "code",
   "execution_count": 41,
   "metadata": {},
   "outputs": [
    {
     "data": {
      "text/html": [
       "<div>\n",
       "<style scoped>\n",
       "    .dataframe tbody tr th:only-of-type {\n",
       "        vertical-align: middle;\n",
       "    }\n",
       "\n",
       "    .dataframe tbody tr th {\n",
       "        vertical-align: top;\n",
       "    }\n",
       "\n",
       "    .dataframe thead th {\n",
       "        text-align: right;\n",
       "    }\n",
       "</style>\n",
       "<table border=\"1\" class=\"dataframe\">\n",
       "  <thead>\n",
       "    <tr style=\"text-align: right;\">\n",
       "      <th></th>\n",
       "      <th>ntransfers</th>\n",
       "      <th>length</th>\n",
       "      <th>route_types</th>\n",
       "      <th>link_path</th>\n",
       "      <th>gtime</th>\n",
       "      <th>access_time</th>\n",
       "      <th>footpath_time</th>\n",
       "      <th>in_vehicle_time</th>\n",
       "      <th>waiting_time</th>\n",
       "      <th>boarding_time</th>\n",
       "      <th>time</th>\n",
       "    </tr>\n",
       "  </thead>\n",
       "  <tbody>\n",
       "    <tr>\n",
       "      <th>56160</th>\n",
       "      <td>0</td>\n",
       "      <td>257678.000</td>\n",
       "      <td>{rail_short}</td>\n",
       "      <td>[rs_23000, rs_23001, rs_23002, rs_23003, rs_23...</td>\n",
       "      <td>11208.095910</td>\n",
       "      <td>1346.518569</td>\n",
       "      <td>21.577341</td>\n",
       "      <td>8040</td>\n",
       "      <td>0.0</td>\n",
       "      <td>0</td>\n",
       "      <td>9408.095910</td>\n",
       "    </tr>\n",
       "    <tr>\n",
       "      <th>171622</th>\n",
       "      <td>0</td>\n",
       "      <td>241407.000</td>\n",
       "      <td>{rail_long}</td>\n",
       "      <td>[rl_1572]</td>\n",
       "      <td>8731.195946</td>\n",
       "      <td>1351.195946</td>\n",
       "      <td>0.000000</td>\n",
       "      <td>5580</td>\n",
       "      <td>0.0</td>\n",
       "      <td>0</td>\n",
       "      <td>6931.195946</td>\n",
       "    </tr>\n",
       "    <tr>\n",
       "      <th>243062</th>\n",
       "      <td>0</td>\n",
       "      <td>241407.000</td>\n",
       "      <td>{rail_long}</td>\n",
       "      <td>[rl_595]</td>\n",
       "      <td>8731.195946</td>\n",
       "      <td>1351.195946</td>\n",
       "      <td>0.000000</td>\n",
       "      <td>5580</td>\n",
       "      <td>0.0</td>\n",
       "      <td>0</td>\n",
       "      <td>6931.195946</td>\n",
       "    </tr>\n",
       "    <tr>\n",
       "      <th>350117</th>\n",
       "      <td>0</td>\n",
       "      <td>290308.208</td>\n",
       "      <td>{coach}</td>\n",
       "      <td>[c_3310]</td>\n",
       "      <td>15451.536256</td>\n",
       "      <td>1291.536256</td>\n",
       "      <td>0.000000</td>\n",
       "      <td>12000</td>\n",
       "      <td>0.0</td>\n",
       "      <td>0</td>\n",
       "      <td>13291.536256</td>\n",
       "    </tr>\n",
       "    <tr>\n",
       "      <th>639725</th>\n",
       "      <td>28</td>\n",
       "      <td>499717.000</td>\n",
       "      <td>{bus}</td>\n",
       "      <td>[bus_1616909, bus_1616914, bus_1616916, bus_20...</td>\n",
       "      <td>29330.258137</td>\n",
       "      <td>1400.258137</td>\n",
       "      <td>0.000000</td>\n",
       "      <td>10830</td>\n",
       "      <td>16800.0</td>\n",
       "      <td>0</td>\n",
       "      <td>29030.258137</td>\n",
       "    </tr>\n",
       "    <tr>\n",
       "      <th>1612859</th>\n",
       "      <td>28</td>\n",
       "      <td>499717.000</td>\n",
       "      <td>{bus}</td>\n",
       "      <td>[bus_1616909, bus_1616914, bus_1616916, bus_20...</td>\n",
       "      <td>29330.258137</td>\n",
       "      <td>1400.258137</td>\n",
       "      <td>0.000000</td>\n",
       "      <td>10830</td>\n",
       "      <td>16800.0</td>\n",
       "      <td>0</td>\n",
       "      <td>29030.258137</td>\n",
       "    </tr>\n",
       "  </tbody>\n",
       "</table>\n",
       "</div>"
      ],
      "text/plain": [
       "         ntransfers      length   route_types  \\\n",
       "56160             0  257678.000  {rail_short}   \n",
       "171622            0  241407.000   {rail_long}   \n",
       "243062            0  241407.000   {rail_long}   \n",
       "350117            0  290308.208       {coach}   \n",
       "639725           28  499717.000         {bus}   \n",
       "1612859          28  499717.000         {bus}   \n",
       "\n",
       "                                                 link_path         gtime  \\\n",
       "56160    [rs_23000, rs_23001, rs_23002, rs_23003, rs_23...  11208.095910   \n",
       "171622                                           [rl_1572]   8731.195946   \n",
       "243062                                            [rl_595]   8731.195946   \n",
       "350117                                            [c_3310]  15451.536256   \n",
       "639725   [bus_1616909, bus_1616914, bus_1616916, bus_20...  29330.258137   \n",
       "1612859  [bus_1616909, bus_1616914, bus_1616916, bus_20...  29330.258137   \n",
       "\n",
       "         access_time  footpath_time  in_vehicle_time  waiting_time  \\\n",
       "56160    1346.518569      21.577341             8040           0.0   \n",
       "171622   1351.195946       0.000000             5580           0.0   \n",
       "243062   1351.195946       0.000000             5580           0.0   \n",
       "350117   1291.536256       0.000000            12000           0.0   \n",
       "639725   1400.258137       0.000000            10830       16800.0   \n",
       "1612859  1400.258137       0.000000            10830       16800.0   \n",
       "\n",
       "         boarding_time          time  \n",
       "56160                0   9408.095910  \n",
       "171622               0   6931.195946  \n",
       "243062               0   6931.195946  \n",
       "350117               0  13291.536256  \n",
       "639725               0  29030.258137  \n",
       "1612859              0  29030.258137  "
      ]
     },
     "execution_count": 41,
     "metadata": {},
     "output_type": "execute_result"
    }
   ],
   "source": [
    "# Look at Berlin - Hamburg times\n",
    "sm.pt_los.loc[(sm.pt_los['origin']=='DE300')&(sm.pt_los['destination']=='DE600')][\n",
    "    ['ntransfers', 'length', 'route_types', 'link_path']+[c for c in sm.pt_los.columns if c[-4:]=='time']]"
   ]
  },
  {
   "cell_type": "code",
   "execution_count": 42,
   "metadata": {},
   "outputs": [
    {
     "data": {
      "text/plain": [
       "(1856747, 30)"
      ]
     },
     "execution_count": 42,
     "metadata": {},
     "output_type": "execute_result"
    }
   ],
   "source": [
    "# Drop trips with coach-rail or coach-air combinations\n",
    "sm.pt_los = sm.pt_los.loc[~sm.pt_los['route_types'].apply(\n",
    "    lambda x: 'coach' in x and ('rail_long' in x or 'rail_short' in x))]\n",
    "sm.pt_los.shape"
   ]
  },
  {
   "cell_type": "code",
   "execution_count": 43,
   "metadata": {},
   "outputs": [
    {
     "data": {
      "text/plain": [
       "(1856747, 30)"
      ]
     },
     "execution_count": 43,
     "metadata": {},
     "output_type": "execute_result"
    }
   ],
   "source": [
    "'''# Drop trips with air interchange\n",
    "sm.pt_los.drop(sm.pt_los.loc[(sm.pt_los['route_type']=='air') &\n",
    "                             (sm.pt_los['link_path'].apply(\n",
    "                                 lambda x: len([t for t in x if type_dict[t]=='air'])>1))\n",
    "                            ].index, inplace=True)'''\n",
    "sm.pt_los.shape"
   ]
  },
  {
   "cell_type": "code",
   "execution_count": 44,
   "metadata": {},
   "outputs": [
    {
     "data": {
      "text/plain": [
       "(1817194, 30)"
      ]
     },
     "execution_count": 44,
     "metadata": {},
     "output_type": "execute_result"
    }
   ],
   "source": [
    "# Drop unrealistically long trips\n",
    "sm.pt_los = sm.pt_los.loc[sm.pt_los['in_vehicle_time']<params['clean_los']['max_duration']]\n",
    "sm.pt_los.shape"
   ]
  },
  {
   "cell_type": "code",
   "execution_count": 45,
   "metadata": {},
   "outputs": [
    {
     "data": {
      "image/png": "[encoded data removed]",
      "text/plain": [
       "<Figure size 288x288 with 1 Axes>"
      ]
     },
     "metadata": {
      "needs_background": "light"
     },
     "output_type": "display_data"
    }
   ],
   "source": [
    "# Time distribution\n",
    "if manual:\n",
    "    sm.pt_los.hist(column='time', bins=100, log=True, alpha=.5,\n",
    "                   ax=sm.pt_los.hist(column='in_vehicle_time', color='green',\n",
    "                                     bins=100, figsize=(4,4), log=True, alpha=.5))"
   ]
  },
  {
   "cell_type": "code",
   "execution_count": 46,
   "metadata": {},
   "outputs": [
    {
     "data": {
      "image/png": "[encoded data removed]",
      "text/plain": [
       "<Figure size 288x288 with 1 Axes>"
      ]
     },
     "metadata": {
      "needs_background": "light"
     },
     "output_type": "display_data"
    }
   ],
   "source": [
    "if manual: sm.pt_los.hist(column='ntransfers', figsize=(4,4))"
   ]
  },
  {
   "cell_type": "code",
   "execution_count": 47,
   "metadata": {},
   "outputs": [
    {
     "data": {
      "image/png": "[encoded data removed]",
      "text/plain": [
       "<Figure size 1152x216 with 6 Axes>"
      ]
     },
     "metadata": {},
     "output_type": "display_data"
    }
   ],
   "source": [
    "# Main mode distribution by transfers\n",
    "if manual:\n",
    "    t = sm.pt_los.copy()\n",
    "    t['bins'] = pd.cut(t['ntransfers'], bins=[0,1,3,5,10,20,100],\n",
    "                       labels=[\"0-1\", \"2-3\",\"4-5\",\"6-10\",\"11-20\",\"21+\"])\n",
    "    axs = t.groupby(['route_type','bins']).size().unstack(fill_value=0).plot.pie(\n",
    "        subplots=True, figsize=(16, 3),\n",
    "        startangle=0, counterclock=False, title='Main mode by number of transfers',\n",
    "        legend=False, labeldistance=None)\n",
    "    axs[0].legend(loc='lower left')"
   ]
  },
  {
   "cell_type": "code",
   "execution_count": 48,
   "metadata": {},
   "outputs": [
    {
     "data": {
      "image/png": "[encoded data removed]",
      "text/plain": [
       "<Figure size 432x288 with 1 Axes>"
      ]
     },
     "metadata": {
      "needs_background": "light"
     },
     "output_type": "display_data"
    }
   ],
   "source": [
    "# Distribution of mode combinations\n",
    "if manual:\n",
    "    t['route_types'] = t['route_types'].apply(tuple)\n",
    "    t.groupby('route_types').count()['route_type'].plot(kind='bar')"
   ]
  },
  {
   "cell_type": "code",
   "execution_count": 49,
   "metadata": {},
   "outputs": [
    {
     "data": {
      "image/png": "[encoded data removed]",
      "text/plain": [
       "<Figure size 1152x216 with 5 Axes>"
      ]
     },
     "metadata": {},
     "output_type": "display_data"
    }
   ],
   "source": [
    "if manual:\n",
    "    t['time'] = t['time'] / 60\n",
    "    t['bins'] = pd.cut(t['time'], bins=[0,15,30,60,120,360,500],\n",
    "                       labels=[\"0-15\", \"16-30\",\"31-60\",\"61-120\",\"120-360\",\"361+\"])\n",
    "    axs = t.groupby(['route_type','bins']).size().unstack(fill_value=0).plot.pie(\n",
    "        subplots=True, figsize=(16, 3),\n",
    "        startangle=0, counterclock=False, title='Main mode by trip duration',\n",
    "        legend=False, labeldistance=None)\n",
    "    axs[0].legend()"
   ]
  },
  {
   "cell_type": "code",
   "execution_count": 50,
   "metadata": {},
   "outputs": [],
   "source": [
    "if manual: t = None"
   ]
  },
  {
   "cell_type": "code",
   "execution_count": 51,
   "metadata": {},
   "outputs": [
    {
     "data": {
      "text/plain": [
       "(1264813, 30)"
      ]
     },
     "execution_count": 51,
     "metadata": {},
     "output_type": "execute_result"
    }
   ],
   "source": [
    "# Drop unnecessary long connections if there is a waiting time applied\n",
    "if sm.links['headway'].mean() > 1*60:\n",
    "    sm.pt_los = sm.pt_los.loc[sm.pt_los['ntransfers']<=\n",
    "                              params['clean_los']['max_transfers']]\n",
    "    # Drop coach connections with more than one transfer\n",
    "    sm.pt_los = sm.pt_los.loc[~((sm.pt_los['route_type']=='coach') &\n",
    "                                (sm.pt_los['boardings'].apply(\n",
    "                                    lambda l: len([n for n in l if n.startswith('c')])>2)\n",
    "                                ))]\n",
    "sm.pt_los.shape"
   ]
  },
  {
   "cell_type": "code",
   "execution_count": 52,
   "metadata": {},
   "outputs": [
    {
     "data": {
      "text/plain": [
       "(672012, 30)"
      ]
     },
     "execution_count": 52,
     "metadata": {},
     "output_type": "execute_result"
    }
   ],
   "source": [
    "# Keep only the fastest trip(s)\n",
    "sm.pt_los['route_types'] = sm.pt_los['route_types'].apply(tuple)\n",
    "sm.pt_los = sm.pt_los.sort_values('time').groupby(\n",
    "    ['origin', 'destination', 'route_types']).nth(\n",
    "        list(range(params['clean_los']['n_fastest_trips']))).reset_index()\n",
    "sm.pt_los.shape"
   ]
  },
  {
   "cell_type": "code",
   "execution_count": 53,
   "metadata": {},
   "outputs": [
    {
     "data": {
      "text/plain": [
       "(668724, 30)"
      ]
     },
     "execution_count": 53,
     "metadata": {},
     "output_type": "execute_result"
    }
   ],
   "source": [
    "# Bus tickets are relatively cheap, but they apply only for short distances\n",
    "# And nobody books tickets at five different bus agencies\n",
    "# Thus, drop bus trips longer than 100km\n",
    "sm.pt_los = sm.pt_los.loc[~((sm.pt_los['route_type']=='bus') &\n",
    "                            (sm.pt_los['length']>params['clean_los']['max_dist_bus']))]\n",
    "sm.pt_los.shape"
   ]
  },
  {
   "cell_type": "code",
   "execution_count": 54,
   "metadata": {},
   "outputs": [
    {
     "data": {
      "text/plain": [
       "(668085, 30)"
      ]
     },
     "execution_count": 54,
     "metadata": {},
     "output_type": "execute_result"
    }
   ],
   "source": [
    "# Also drop coach trips for local transport\n",
    "sm.pt_los = sm.pt_los.loc[~((sm.pt_los['route_type']=='coach') &\n",
    "                            (sm.pt_los['length']<params['clean_los']['min_dist_coach']))]\n",
    "sm.pt_los.shape"
   ]
  },
  {
   "cell_type": "code",
   "execution_count": 75,
   "metadata": {},
   "outputs": [
    {
     "data": {
      "text/plain": [
       "(551292, 30)"
      ]
     },
     "execution_count": 75,
     "metadata": {},
     "output_type": "execute_result"
    }
   ],
   "source": [
    "# Drop rail short-distance trips above a distance threshold,\n",
    "# if a long-distance connection is available\n",
    "sm.pt_los['both'] = sm.pt_los.merge(\n",
    "    sm.pt_los.groupby(['origin', 'destination'])['route_type'].apply(\n",
    "        lambda od: 'rail_short' in list(od) and 'rail_long' in list(od)).rename('both'),\n",
    "    left_on=['origin', 'destination'], right_index=True)['both']\n",
    "sm.pt_los = sm.pt_los.loc[~((sm.pt_los['route_type']=='rail_short') &\n",
    "                            (sm.pt_los['both']==True) &\n",
    "                            (sm.pt_los['length']>params['clean_los']['max_dist_rail_short']))]\n",
    "sm.pt_los.drop('both', axis=1, inplace=True)\n",
    "sm.pt_los.shape"
   ]
  },
  {
   "cell_type": "code",
   "execution_count": 78,
   "metadata": {},
   "outputs": [
    {
     "data": {
      "text/plain": [
       "545653"
      ]
     },
     "execution_count": 78,
     "metadata": {},
     "output_type": "execute_result"
    }
   ],
   "source": [
    "# Keep only trips where in-vehicle-time makes at least a third\n",
    "#sm.pt_los = sm.pt_los.loc[sm.pt_los['time']<sm.pt_los['in_vehicle_time']*3]\n",
    "#sm.pt_los.shape\n",
    "len(sm.pt_los.loc[sm.pt_los['time']<sm.pt_los['in_vehicle_time']*3])"
   ]
  },
  {
   "cell_type": "code",
   "execution_count": 79,
   "metadata": {},
   "outputs": [
    {
     "data": {
      "image/png": "[encoded data removed]",
      "text/plain": [
       "<Figure size 432x288 with 1 Axes>"
      ]
     },
     "metadata": {
      "needs_background": "light"
     },
     "output_type": "display_data"
    }
   ],
   "source": [
    "if manual: sm.pt_los.groupby('route_types').count()['route_type'].plot(kind='bar')"
   ]
  },
  {
   "cell_type": "code",
   "execution_count": 84,
   "metadata": {},
   "outputs": [
    {
     "data": {
      "image/png": "[encoded data removed]",
      "text/plain": [
       "<Figure size 288x288 with 1 Axes>"
      ]
     },
     "metadata": {
      "needs_background": "light"
     },
     "output_type": "display_data"
    }
   ],
   "source": [
    "# Time distribution\n",
    "if manual:\n",
    "    sm.pt_los.hist(column='time', bins=100, log=False, alpha=.5,\n",
    "                   ax=sm.pt_los.hist(column='in_vehicle_time', color='green',\n",
    "                                     bins=100, figsize=(4,4), log=False, alpha=.5))"
   ]
  },
  {
   "cell_type": "code",
   "execution_count": 81,
   "metadata": {},
   "outputs": [
    {
     "data": {
      "text/html": [
       "<div>\n",
       "<style scoped>\n",
       "    .dataframe tbody tr th:only-of-type {\n",
       "        vertical-align: middle;\n",
       "    }\n",
       "\n",
       "    .dataframe tbody tr th {\n",
       "        vertical-align: top;\n",
       "    }\n",
       "\n",
       "    .dataframe thead th {\n",
       "        text-align: right;\n",
       "    }\n",
       "</style>\n",
       "<table border=\"1\" class=\"dataframe\">\n",
       "  <thead>\n",
       "    <tr style=\"text-align: right;\">\n",
       "      <th></th>\n",
       "      <th>ntransfers</th>\n",
       "      <th>length</th>\n",
       "      <th>route_types</th>\n",
       "      <th>link_path</th>\n",
       "      <th>gtime</th>\n",
       "      <th>access_time</th>\n",
       "      <th>footpath_time</th>\n",
       "      <th>in_vehicle_time</th>\n",
       "      <th>waiting_time</th>\n",
       "      <th>boarding_time</th>\n",
       "      <th>time</th>\n",
       "    </tr>\n",
       "  </thead>\n",
       "  <tbody>\n",
       "    <tr>\n",
       "      <th>243359</th>\n",
       "      <td>0</td>\n",
       "      <td>290308.208</td>\n",
       "      <td>(coach,)</td>\n",
       "      <td>[c_3310]</td>\n",
       "      <td>15451.536256</td>\n",
       "      <td>1291.536256</td>\n",
       "      <td>0.000000</td>\n",
       "      <td>12000</td>\n",
       "      <td>0.0</td>\n",
       "      <td>0</td>\n",
       "      <td>13291.536256</td>\n",
       "    </tr>\n",
       "    <tr>\n",
       "      <th>243360</th>\n",
       "      <td>0</td>\n",
       "      <td>241407.000</td>\n",
       "      <td>(rail_long,)</td>\n",
       "      <td>[rl_1572]</td>\n",
       "      <td>8731.195946</td>\n",
       "      <td>1351.195946</td>\n",
       "      <td>0.000000</td>\n",
       "      <td>5580</td>\n",
       "      <td>0.0</td>\n",
       "      <td>0</td>\n",
       "      <td>6931.195946</td>\n",
       "    </tr>\n",
       "    <tr>\n",
       "      <th>243361</th>\n",
       "      <td>0</td>\n",
       "      <td>257678.000</td>\n",
       "      <td>(rail_short,)</td>\n",
       "      <td>[rs_23000, rs_23001, rs_23002, rs_23003, rs_23...</td>\n",
       "      <td>11208.095910</td>\n",
       "      <td>1346.518569</td>\n",
       "      <td>21.577341</td>\n",
       "      <td>8040</td>\n",
       "      <td>0.0</td>\n",
       "      <td>0</td>\n",
       "      <td>9408.095910</td>\n",
       "    </tr>\n",
       "  </tbody>\n",
       "</table>\n",
       "</div>"
      ],
      "text/plain": [
       "        ntransfers      length    route_types  \\\n",
       "243359           0  290308.208       (coach,)   \n",
       "243360           0  241407.000   (rail_long,)   \n",
       "243361           0  257678.000  (rail_short,)   \n",
       "\n",
       "                                                link_path         gtime  \\\n",
       "243359                                           [c_3310]  15451.536256   \n",
       "243360                                          [rl_1572]   8731.195946   \n",
       "243361  [rs_23000, rs_23001, rs_23002, rs_23003, rs_23...  11208.095910   \n",
       "\n",
       "        access_time  footpath_time  in_vehicle_time  waiting_time  \\\n",
       "243359  1291.536256       0.000000            12000           0.0   \n",
       "243360  1351.195946       0.000000             5580           0.0   \n",
       "243361  1346.518569      21.577341             8040           0.0   \n",
       "\n",
       "        boarding_time          time  \n",
       "243359              0  13291.536256  \n",
       "243360              0   6931.195946  \n",
       "243361              0   9408.095910  "
      ]
     },
     "execution_count": 81,
     "metadata": {},
     "output_type": "execute_result"
    }
   ],
   "source": [
    "# Look at Berlin - Hamburg times\n",
    "sm.pt_los.loc[(sm.pt_los['origin']=='DE300')&(sm.pt_los['destination']=='DE600')][\n",
    "    ['ntransfers', 'length', 'route_types', 'link_path']+[c for c in sm.pt_los.columns if c[-4:]=='time']]"
   ]
  },
  {
   "cell_type": "code",
   "execution_count": 82,
   "metadata": {},
   "outputs": [
    {
     "data": {
      "text/html": [
       "<div>\n",
       "<style scoped>\n",
       "    .dataframe tbody tr th:only-of-type {\n",
       "        vertical-align: middle;\n",
       "    }\n",
       "\n",
       "    .dataframe tbody tr th {\n",
       "        vertical-align: top;\n",
       "    }\n",
       "\n",
       "    .dataframe thead th {\n",
       "        text-align: right;\n",
       "    }\n",
       "</style>\n",
       "<table border=\"1\" class=\"dataframe\">\n",
       "  <thead>\n",
       "    <tr style=\"text-align: right;\">\n",
       "      <th></th>\n",
       "      <th>origin</th>\n",
       "      <th>destination</th>\n",
       "      <th>route_types</th>\n",
       "      <th>gtime</th>\n",
       "      <th>path</th>\n",
       "      <th>reversed</th>\n",
       "      <th>pathfinder_session</th>\n",
       "      <th>broken_modes</th>\n",
       "      <th>boardings</th>\n",
       "      <th>alightings</th>\n",
       "      <th>...</th>\n",
       "      <th>length_link_path</th>\n",
       "      <th>length</th>\n",
       "      <th>access_time</th>\n",
       "      <th>footpath_time</th>\n",
       "      <th>in_vehicle_time</th>\n",
       "      <th>waiting_time</th>\n",
       "      <th>boarding_time</th>\n",
       "      <th>time</th>\n",
       "      <th>route_type</th>\n",
       "      <th>price</th>\n",
       "    </tr>\n",
       "  </thead>\n",
       "  <tbody>\n",
       "    <tr>\n",
       "      <th>1672</th>\n",
       "      <td>DE112</td>\n",
       "      <td>DE111</td>\n",
       "      <td>(bus,)</td>\n",
       "      <td>3322.238476</td>\n",
       "      <td>(DE112, b_DE112_46, bus_1449393, b_DE112_16, b...</td>\n",
       "      <td>False</td>\n",
       "      <td>mode_breaker</td>\n",
       "      <td>{rail_long, air, rail_short, coach}</td>\n",
       "      <td>[b_DE112_46, b_DE112_16, b_DE111_181]</td>\n",
       "      <td>[b_DE112_16, b_DE111_181, b_DE111_200]</td>\n",
       "      <td>...</td>\n",
       "      <td>15408.0</td>\n",
       "      <td>15408.0</td>\n",
       "      <td>1521.338695</td>\n",
       "      <td>60.899782</td>\n",
       "      <td>240</td>\n",
       "      <td>900.0</td>\n",
       "      <td>0</td>\n",
       "      <td>2722.238476</td>\n",
       "      <td>bus</td>\n",
       "      <td>0</td>\n",
       "    </tr>\n",
       "    <tr>\n",
       "      <th>1673</th>\n",
       "      <td>DE112</td>\n",
       "      <td>DE111</td>\n",
       "      <td>(rail_long,)</td>\n",
       "      <td>4509.558416</td>\n",
       "      <td>(DE112, c_DE112_0, rl_DE112_0, rl_2825, rl_DE1...</td>\n",
       "      <td>False</td>\n",
       "      <td>mode_breaker</td>\n",
       "      <td>{air, rail_short, bus}</td>\n",
       "      <td>[rl_DE112_0]</td>\n",
       "      <td>[rl_DE111_0]</td>\n",
       "      <td>...</td>\n",
       "      <td>16857.0</td>\n",
       "      <td>16857.0</td>\n",
       "      <td>1337.158194</td>\n",
       "      <td>112.400222</td>\n",
       "      <td>1260</td>\n",
       "      <td>0.0</td>\n",
       "      <td>0</td>\n",
       "      <td>2709.558416</td>\n",
       "      <td>rail_long</td>\n",
       "      <td>0</td>\n",
       "    </tr>\n",
       "    <tr>\n",
       "      <th>1674</th>\n",
       "      <td>DE112</td>\n",
       "      <td>DE111</td>\n",
       "      <td>(rail_short,)</td>\n",
       "      <td>3067.558169</td>\n",
       "      <td>(DE112, c_DE112_0, rs_DE112_1, rs_39395, rs_39...</td>\n",
       "      <td>False</td>\n",
       "      <td>mode_breaker</td>\n",
       "      <td>{rail_long, air, coach, bus}</td>\n",
       "      <td>[rs_DE112_1]</td>\n",
       "      <td>[rs_DE111_11]</td>\n",
       "      <td>...</td>\n",
       "      <td>9405.0</td>\n",
       "      <td>9405.0</td>\n",
       "      <td>1406.142235</td>\n",
       "      <td>221.415934</td>\n",
       "      <td>540</td>\n",
       "      <td>0.0</td>\n",
       "      <td>0</td>\n",
       "      <td>2167.558169</td>\n",
       "      <td>rail_short</td>\n",
       "      <td>0</td>\n",
       "    </tr>\n",
       "  </tbody>\n",
       "</table>\n",
       "<p>3 rows × 30 columns</p>\n",
       "</div>"
      ],
      "text/plain": [
       "     origin destination    route_types        gtime  \\\n",
       "1672  DE112       DE111         (bus,)  3322.238476   \n",
       "1673  DE112       DE111   (rail_long,)  4509.558416   \n",
       "1674  DE112       DE111  (rail_short,)  3067.558169   \n",
       "\n",
       "                                                   path  reversed  \\\n",
       "1672  (DE112, b_DE112_46, bus_1449393, b_DE112_16, b...     False   \n",
       "1673  (DE112, c_DE112_0, rl_DE112_0, rl_2825, rl_DE1...     False   \n",
       "1674  (DE112, c_DE112_0, rs_DE112_1, rs_39395, rs_39...     False   \n",
       "\n",
       "     pathfinder_session                         broken_modes  \\\n",
       "1672       mode_breaker  {rail_long, air, rail_short, coach}   \n",
       "1673       mode_breaker               {air, rail_short, bus}   \n",
       "1674       mode_breaker         {rail_long, air, coach, bus}   \n",
       "\n",
       "                                  boardings  \\\n",
       "1672  [b_DE112_46, b_DE112_16, b_DE111_181]   \n",
       "1673                           [rl_DE112_0]   \n",
       "1674                           [rs_DE112_1]   \n",
       "\n",
       "                                  alightings  ... length_link_path   length  \\\n",
       "1672  [b_DE112_16, b_DE111_181, b_DE111_200]  ...          15408.0  15408.0   \n",
       "1673                            [rl_DE111_0]  ...          16857.0  16857.0   \n",
       "1674                           [rs_DE111_11]  ...           9405.0   9405.0   \n",
       "\n",
       "      access_time footpath_time in_vehicle_time waiting_time boarding_time  \\\n",
       "1672  1521.338695     60.899782             240        900.0             0   \n",
       "1673  1337.158194    112.400222            1260          0.0             0   \n",
       "1674  1406.142235    221.415934             540          0.0             0   \n",
       "\n",
       "             time  route_type  price  \n",
       "1672  2722.238476         bus      0  \n",
       "1673  2709.558416   rail_long      0  \n",
       "1674  2167.558169  rail_short      0  \n",
       "\n",
       "[3 rows x 30 columns]"
      ]
     },
     "execution_count": 82,
     "metadata": {},
     "output_type": "execute_result"
    }
   ],
   "source": [
    "# Stuttgart and surrounding?\n",
    "sm.pt_los.loc[(sm.pt_los['origin']=='DE112')&(sm.pt_los['destination']=='DE111')]"
   ]
  },
  {
   "cell_type": "code",
   "execution_count": 83,
   "metadata": {},
   "outputs": [
    {
     "name": "stdout",
     "output_type": "stream",
     "text": [
      "551292\n"
     ]
    }
   ],
   "source": [
    "print(len(sm.pt_los))\n",
    "assert len(sm.pt_los.loc[sm.pt_los.isna().any(axis=1)])==0"
   ]
  },
  {
   "cell_type": "markdown",
   "metadata": {},
   "source": [
    "## Save model"
   ]
  },
  {
   "cell_type": "code",
   "execution_count": 85,
   "metadata": {},
   "outputs": [],
   "source": [
    "# Ditch unneccessary columns\n",
    "to_drop = ['gtime', 'path', 'reversed', 'pathfinder_session',\n",
    "           'broken_modes', 'boardings', 'alightings', 'node_path',\n",
    "           'footpaths', 'ntlegs', 'transfers', 'boarding_links',\n",
    "           'alighting_links', 'all_walk', 'time_link_path',\n",
    "           'length_link_path', 'boarding_time', 'index']\n",
    "sm.pt_los = sm.pt_los.drop(to_drop, axis=1, errors='ignore')"
   ]
  },
  {
   "cell_type": "code",
   "execution_count": 86,
   "metadata": {},
   "outputs": [],
   "source": [
    "# Clean links table\n",
    "to_drop = ['duration', 'cost', 'origin', 'destination']\n",
    "sm.links = sm.links.drop(to_drop, axis=1, errors='ignore')"
   ]
  },
  {
   "cell_type": "code",
   "execution_count": 87,
   "metadata": {},
   "outputs": [],
   "source": [
    "# Make table smaller\n",
    "cols = ['time', 'access_time', 'in_vehicle_time', 'footpath_time',\n",
    "        'waiting_time', 'length']\n",
    "sm.pt_los[cols] = sm.pt_los[cols].astype(int)"
   ]
  },
  {
   "cell_type": "code",
   "execution_count": 88,
   "metadata": {},
   "outputs": [
    {
     "data": {
      "text/html": [
       "<div>\n",
       "<style scoped>\n",
       "    .dataframe tbody tr th:only-of-type {\n",
       "        vertical-align: middle;\n",
       "    }\n",
       "\n",
       "    .dataframe tbody tr th {\n",
       "        vertical-align: top;\n",
       "    }\n",
       "\n",
       "    .dataframe thead th {\n",
       "        text-align: right;\n",
       "    }\n",
       "</style>\n",
       "<table border=\"1\" class=\"dataframe\">\n",
       "  <thead>\n",
       "    <tr style=\"text-align: right;\">\n",
       "      <th></th>\n",
       "      <th>origin</th>\n",
       "      <th>destination</th>\n",
       "      <th>route_types</th>\n",
       "      <th>link_path</th>\n",
       "      <th>ntransfers</th>\n",
       "      <th>length</th>\n",
       "      <th>access_time</th>\n",
       "      <th>footpath_time</th>\n",
       "      <th>in_vehicle_time</th>\n",
       "      <th>waiting_time</th>\n",
       "      <th>time</th>\n",
       "      <th>route_type</th>\n",
       "      <th>price</th>\n",
       "    </tr>\n",
       "  </thead>\n",
       "  <tbody>\n",
       "    <tr>\n",
       "      <th>483593</th>\n",
       "      <td>DEA55</td>\n",
       "      <td>DE144</td>\n",
       "      <td>(coach, bus)</td>\n",
       "      <td>[bus_51000, bus_1558230, bus_1892839, bus_1558...</td>\n",
       "      <td>4</td>\n",
       "      <td>483930</td>\n",
       "      <td>1005</td>\n",
       "      <td>469</td>\n",
       "      <td>26280</td>\n",
       "      <td>5400</td>\n",
       "      <td>33154</td>\n",
       "      <td>coach</td>\n",
       "      <td>0</td>\n",
       "    </tr>\n",
       "  </tbody>\n",
       "</table>\n",
       "</div>"
      ],
      "text/plain": [
       "       origin destination   route_types  \\\n",
       "483593  DEA55       DE144  (coach, bus)   \n",
       "\n",
       "                                                link_path  ntransfers  length  \\\n",
       "483593  [bus_51000, bus_1558230, bus_1892839, bus_1558...           4  483930   \n",
       "\n",
       "        access_time  footpath_time  in_vehicle_time  waiting_time   time  \\\n",
       "483593         1005            469            26280          5400  33154   \n",
       "\n",
       "       route_type  price  \n",
       "483593      coach      0  "
      ]
     },
     "execution_count": 88,
     "metadata": {},
     "output_type": "execute_result"
    }
   ],
   "source": [
    "sm.pt_los.sample()"
   ]
  },
  {
   "cell_type": "code",
   "execution_count": 89,
   "metadata": {},
   "outputs": [
    {
     "name": "stderr",
     "output_type": "stream",
     "text": [
      "to_hdf(overwriting): 100%|█████████████████████████████████████████████████████████████| 35/35 [00:21<00:00,  1.66it/s]\n"
     ]
    }
   ],
   "source": [
    "# Saving LoS...\n",
    "sm.to_json(model_path + scenario + '/' + 'de_pt_los',\n",
    "           only_attributes=['pt_los'], encoding='utf-8')"
   ]
  }
 ],
 "metadata": {
  "kernelspec": {
   "display_name": "Python 3",
   "language": "python",
   "name": "python3"
  },
  "language_info": {
   "codemirror_mode": {
    "name": "ipython",
    "version": 3
   },
   "file_extension": ".py",
   "mimetype": "text/x-python",
   "name": "python",
   "nbconvert_exporter": "python",
   "pygments_lexer": "ipython3",
   "version": "3.8.1"
  }
 },
 "nbformat": 4,
 "nbformat_minor": 2
}
