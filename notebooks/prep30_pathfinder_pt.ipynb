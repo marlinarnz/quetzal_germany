{
 "cells": [
  {
   "cell_type": "code",
   "execution_count": 1,
   "metadata": {},
   "outputs": [
    {
     "name": "stderr",
     "output_type": "stream",
     "text": [
      "\n",
      "Bad key text.latex.preview in file C:\\Users\\marlin.arnz\\AppData\\Local\\Continuum\\miniconda3\\envs\\quetzal\\lib\\site-packages\\matplotlib\\mpl-data\\stylelib\\_classic_test.mplstyle, line 123 ('text.latex.preview : False')\n",
      "You probably need to get an updated matplotlibrc file from\n",
      "https://github.com/matplotlib/matplotlib/blob/v3.5.2/matplotlibrc.template\n",
      "or from the matplotlib source distribution\n",
      "\n",
      "Bad key mathtext.fallback_to_cm in file C:\\Users\\marlin.arnz\\AppData\\Local\\Continuum\\miniconda3\\envs\\quetzal\\lib\\site-packages\\matplotlib\\mpl-data\\stylelib\\_classic_test.mplstyle, line 155 ('mathtext.fallback_to_cm : True  # When True, use symbols from the Computer Modern')\n",
      "You probably need to get an updated matplotlibrc file from\n",
      "https://github.com/matplotlib/matplotlib/blob/v3.5.2/matplotlibrc.template\n",
      "or from the matplotlib source distribution\n",
      "\n",
      "Bad key savefig.jpeg_quality in file C:\\Users\\marlin.arnz\\AppData\\Local\\Continuum\\miniconda3\\envs\\quetzal\\lib\\site-packages\\matplotlib\\mpl-data\\stylelib\\_classic_test.mplstyle, line 418 ('savefig.jpeg_quality: 95       # when a jpeg is saved, the default quality parameter.')\n",
      "You probably need to get an updated matplotlibrc file from\n",
      "https://github.com/matplotlib/matplotlib/blob/v3.5.2/matplotlibrc.template\n",
      "or from the matplotlib source distribution\n",
      "\n",
      "Bad key keymap.all_axes in file C:\\Users\\marlin.arnz\\AppData\\Local\\Continuum\\miniconda3\\envs\\quetzal\\lib\\site-packages\\matplotlib\\mpl-data\\stylelib\\_classic_test.mplstyle, line 466 ('keymap.all_axes : a                 # enable all axes')\n",
      "You probably need to get an updated matplotlibrc file from\n",
      "https://github.com/matplotlib/matplotlib/blob/v3.5.2/matplotlibrc.template\n",
      "or from the matplotlib source distribution\n",
      "\n",
      "Bad key animation.avconv_path in file C:\\Users\\marlin.arnz\\AppData\\Local\\Continuum\\miniconda3\\envs\\quetzal\\lib\\site-packages\\matplotlib\\mpl-data\\stylelib\\_classic_test.mplstyle, line 477 ('animation.avconv_path: avconv     # Path to avconv binary. Without full path')\n",
      "You probably need to get an updated matplotlibrc file from\n",
      "https://github.com/matplotlib/matplotlib/blob/v3.5.2/matplotlibrc.template\n",
      "or from the matplotlib source distribution\n",
      "\n",
      "Bad key animation.avconv_args in file C:\\Users\\marlin.arnz\\AppData\\Local\\Continuum\\miniconda3\\envs\\quetzal\\lib\\site-packages\\matplotlib\\mpl-data\\stylelib\\_classic_test.mplstyle, line 479 ('animation.avconv_args:            # Additional arguments to pass to avconv')\n",
      "You probably need to get an updated matplotlibrc file from\n",
      "https://github.com/matplotlib/matplotlib/blob/v3.5.2/matplotlibrc.template\n",
      "or from the matplotlib source distribution\n"
     ]
    }
   ],
   "source": [
    "import sys # for automation and parallelisation\n",
    "manual, scenario = (True, 'base') if 'ipykernel' in sys.argv[0] else (False, sys.argv[1])\n",
    "if manual:\n",
    "    %matplotlib inline"
   ]
  },
  {
   "cell_type": "code",
   "execution_count": 2,
   "metadata": {},
   "outputs": [],
   "source": [
    "import os\n",
    "import numpy as np\n",
    "import pandas as pd\n",
    "from tqdm import tqdm\n",
    "from quetzal.model import stepmodel\n",
    "from quetzal.analysis import analysis\n",
    "from quetzal.engine.pathfinder import PublicPathFinder\n",
    "from quetzal.io.display import all_pt_paths\n",
    "from syspy.skims import skims\n",
    "from quetzal.engine import engine\n",
    "from quetzal.io import excel"
   ]
  },
  {
   "cell_type": "markdown",
   "metadata": {},
   "source": [
    "# Preparation of the LoS tables\n",
    "## Saves a StepModel with shortest paths and LoS attributes for the PT network\n",
    "## Needs aggregated PT networks"
   ]
  },
  {
   "cell_type": "code",
   "execution_count": 3,
   "metadata": {},
   "outputs": [],
   "source": [
    "input_path = '../input/'\n",
    "output_path = '../output/'\n",
    "model_path = '../model/' + scenario + '/'"
   ]
  },
  {
   "cell_type": "code",
   "execution_count": 4,
   "metadata": {},
   "outputs": [],
   "source": [
    "# Create a path for scenario-specific model files\n",
    "if not os.path.exists(model_path):\n",
    "    os.makedirs(model_path)"
   ]
  },
  {
   "cell_type": "code",
   "execution_count": 5,
   "metadata": {},
   "outputs": [],
   "source": [
    "# Load scenario parameters\n",
    "params = excel.read_var(file='../input/parameters.xls', scenario=scenario)"
   ]
  },
  {
   "cell_type": "code",
   "execution_count": 6,
   "metadata": {},
   "outputs": [],
   "source": [
    "sm = stepmodel.read_json(model_path + 'de_pt_network_agg')\n",
    "ae = stepmodel.read_json(model_path + 'de_pt_access_egress')\n",
    "aux = stepmodel.read_json(model_path + 'de_pt_network_ancillary')"
   ]
  },
  {
   "cell_type": "code",
   "execution_count": 7,
   "metadata": {},
   "outputs": [],
   "source": [
    "sm.centroids = ae.centroids\n",
    "sm.footpaths = ae.footpaths\n",
    "sm.zone_to_transit = ae.zone_to_transit"
   ]
  },
  {
   "cell_type": "code",
   "execution_count": 8,
   "metadata": {},
   "outputs": [
    {
     "data": {
      "text/plain": [
       "(403656, 10)"
      ]
     },
     "execution_count": 8,
     "metadata": {},
     "output_type": "execute_result"
    }
   ],
   "source": [
    "sm.links.shape"
   ]
  },
  {
   "cell_type": "markdown",
   "metadata": {},
   "source": [
    "### Prepare links for pathfinder\n",
    "\n",
    "Headways are relevant for the pathfinder in order to determine optimal interchange patterns. The waiting time (= half the headway) at the initial boarding station will be substracted from the route time. Instead, a constant \"wait at station\" time is added to access links. This does not depend on the itinerary, but only on travel behaviour and perception."
   ]
  },
  {
   "cell_type": "code",
   "execution_count": 9,
   "metadata": {},
   "outputs": [],
   "source": [
    "# aggregate local bus and tram, underground, ferry, funicular\n",
    "if 'subway' in sm.links['route_type'].unique():\n",
    "    sm.links['route_type_disagg'] = sm.links['route_type'].copy()\n",
    "    sm.links['route_type'] = sm.links['route_type'].replace(\n",
    "        {'tram': 'bus', 'subway': 'bus', 'ferry': 'bus', 'funicular': 'bus'})\n",
    "    sm.pt_route_types = list(sm.links['route_type'].unique())"
   ]
  },
  {
   "cell_type": "code",
   "execution_count": 10,
   "metadata": {},
   "outputs": [
    {
     "data": {
      "text/html": [
       "<div>\n",
       "<style scoped>\n",
       "    .dataframe tbody tr th:only-of-type {\n",
       "        vertical-align: middle;\n",
       "    }\n",
       "\n",
       "    .dataframe tbody tr th {\n",
       "        vertical-align: top;\n",
       "    }\n",
       "\n",
       "    .dataframe thead th {\n",
       "        text-align: right;\n",
       "    }\n",
       "</style>\n",
       "<table border=\"1\" class=\"dataframe\">\n",
       "  <thead>\n",
       "    <tr style=\"text-align: right;\">\n",
       "      <th></th>\n",
       "      <th>a</th>\n",
       "    </tr>\n",
       "    <tr>\n",
       "      <th>route_type</th>\n",
       "      <th></th>\n",
       "    </tr>\n",
       "  </thead>\n",
       "  <tbody>\n",
       "  </tbody>\n",
       "</table>\n",
       "</div>"
      ],
      "text/plain": [
       "Empty DataFrame\n",
       "Columns: [a]\n",
       "Index: []"
      ]
     },
     "execution_count": 10,
     "metadata": {},
     "output_type": "execute_result"
    }
   ],
   "source": [
    "# Route types without headway\n",
    "sm.links.loc[sm.links['headway'].isna()].groupby('route_type').agg({'a': 'count'})"
   ]
  },
  {
   "cell_type": "code",
   "execution_count": 11,
   "metadata": {},
   "outputs": [],
   "source": [
    "sm.links['headway'] = sm.links['headway'].fillna(2*3600)"
   ]
  },
  {
   "cell_type": "code",
   "execution_count": 12,
   "metadata": {},
   "outputs": [],
   "source": [
    "# Minimum headways of each route\n",
    "sm.links['headway_route'] = sm.links['route_id'].map(\n",
    "    sm.links.groupby('route_id').agg({'headway': 'min'}).to_dict()['headway'])"
   ]
  },
  {
   "cell_type": "code",
   "execution_count": 13,
   "metadata": {},
   "outputs": [
    {
     "data": {
      "text/plain": [
       "array([[<AxesSubplot:title={'center':'headway_route'}>,\n",
       "        <AxesSubplot:title={'center':'headway'}>]], dtype=object)"
      ]
     },
     "execution_count": 13,
     "metadata": {},
     "output_type": "execute_result"
    },
    {
     "data": {
      "image/png": "[encoded data removed]",
      "text/plain": [
       "<Figure size 864x216 with 2 Axes>"
      ]
     },
     "metadata": {
      "needs_background": "light"
     },
     "output_type": "display_data"
    }
   ],
   "source": [
    "# Route headways seem to make route choice more reliable\n",
    "(sm.links[['headway_route', 'headway']]/60/2).hist(bins=100, figsize=(12,3), sharey=True)"
   ]
  },
  {
   "cell_type": "code",
   "execution_count": 14,
   "metadata": {},
   "outputs": [],
   "source": [
    "# Set a maximum headway in order to not confuse the pathfinder\n",
    "urban_dict = sm.nodes['FID'].map(sm.zones['urbanisation'].to_dict()).to_dict()\n",
    "for u in [1,2,3]:\n",
    "    for mode in sm.pt_route_types:\n",
    "        mask = (sm.links['route_type']==mode)&(sm.links['a'].map(urban_dict)==u)\n",
    "        sm.links.loc[mask, 'headway'] = np.minimum(\n",
    "            sm.links.loc[mask, 'headway_route'],\n",
    "            params['max_headway_urban'+str(int(u))][mode])\n",
    "#sm.links['headway'] = sm.links['headway_route']"
   ]
  },
  {
   "cell_type": "code",
   "execution_count": 15,
   "metadata": {},
   "outputs": [],
   "source": [
    "sm.links['headway'] = sm.links['headway'].astype(int)"
   ]
  },
  {
   "cell_type": "code",
   "execution_count": 16,
   "metadata": {},
   "outputs": [
    {
     "data": {
      "image/png": "[encoded data removed]",
      "text/plain": [
       "<Figure size 432x216 with 1 Axes>"
      ]
     },
     "metadata": {
      "needs_background": "light"
     },
     "output_type": "display_data"
    }
   ],
   "source": [
    "# Waiting time distribution in minutes\n",
    "if manual: (sm.links['headway']/60/2).hist(bins=100, figsize=(6,3), log=False)"
   ]
  },
  {
   "cell_type": "code",
   "execution_count": 17,
   "metadata": {},
   "outputs": [
    {
     "data": {
      "text/html": [
       "<div>\n",
       "<style scoped>\n",
       "    .dataframe tbody tr th:only-of-type {\n",
       "        vertical-align: middle;\n",
       "    }\n",
       "\n",
       "    .dataframe tbody tr th {\n",
       "        vertical-align: top;\n",
       "    }\n",
       "\n",
       "    .dataframe thead th {\n",
       "        text-align: right;\n",
       "    }\n",
       "</style>\n",
       "<table border=\"1\" class=\"dataframe\">\n",
       "  <thead>\n",
       "    <tr style=\"text-align: right;\">\n",
       "      <th></th>\n",
       "      <th>headway</th>\n",
       "    </tr>\n",
       "    <tr>\n",
       "      <th>route_type</th>\n",
       "      <th></th>\n",
       "    </tr>\n",
       "  </thead>\n",
       "  <tbody>\n",
       "    <tr>\n",
       "      <th>air</th>\n",
       "      <td>45.000000</td>\n",
       "    </tr>\n",
       "    <tr>\n",
       "      <th>bus</th>\n",
       "      <td>29.970167</td>\n",
       "    </tr>\n",
       "    <tr>\n",
       "      <th>coach</th>\n",
       "      <td>69.252825</td>\n",
       "    </tr>\n",
       "    <tr>\n",
       "      <th>rail_long</th>\n",
       "      <td>32.054820</td>\n",
       "    </tr>\n",
       "    <tr>\n",
       "      <th>rail_short</th>\n",
       "      <td>24.044080</td>\n",
       "    </tr>\n",
       "  </tbody>\n",
       "</table>\n",
       "</div>"
      ],
      "text/plain": [
       "              headway\n",
       "route_type           \n",
       "air         45.000000\n",
       "bus         29.970167\n",
       "coach       69.252825\n",
       "rail_long   32.054820\n",
       "rail_short  24.044080"
      ]
     },
     "execution_count": 17,
     "metadata": {},
     "output_type": "execute_result"
    }
   ],
   "source": [
    "# Average waiting time\n",
    "sm.links.groupby('route_type').agg({'headway': 'mean'})/60/2"
   ]
  },
  {
   "cell_type": "code",
   "execution_count": 18,
   "metadata": {},
   "outputs": [],
   "source": [
    "# Set a mode-specific transfer penalty\n",
    "# It will be substracted later\n",
    "time_dict = params['transfer_penalty']\n",
    "sm.links['boarding_time'] = sm.links['route_type'].map(time_dict) # in s"
   ]
  },
  {
   "cell_type": "code",
   "execution_count": 19,
   "metadata": {},
   "outputs": [],
   "source": [
    "# Generate length for PT links\n",
    "if 'length' not in sm.links.columns:\n",
    "    sm.links['length'] = skims.distance_from_geometry(sm.links['geometry']).astype(int)\n",
    "    # Adjust coach transport towards road distances\n",
    "    sm.links.loc[sm.links['route_type']=='coach', 'length'] *= 1.136"
   ]
  },
  {
   "cell_type": "code",
   "execution_count": 20,
   "metadata": {},
   "outputs": [
    {
     "data": {
      "text/html": [
       "<div>\n",
       "<style scoped>\n",
       "    .dataframe tbody tr th:only-of-type {\n",
       "        vertical-align: middle;\n",
       "    }\n",
       "\n",
       "    .dataframe tbody tr th {\n",
       "        vertical-align: top;\n",
       "    }\n",
       "\n",
       "    .dataframe thead th {\n",
       "        text-align: right;\n",
       "    }\n",
       "</style>\n",
       "<table border=\"1\" class=\"dataframe\">\n",
       "  <thead>\n",
       "    <tr style=\"text-align: right;\">\n",
       "      <th></th>\n",
       "      <th>route_type</th>\n",
       "      <th>geometry</th>\n",
       "      <th>a</th>\n",
       "      <th>b</th>\n",
       "      <th>link_sequence</th>\n",
       "      <th>route_id</th>\n",
       "      <th>time</th>\n",
       "      <th>trip_id</th>\n",
       "      <th>headway</th>\n",
       "      <th>route_type_disagg</th>\n",
       "      <th>headway_route</th>\n",
       "      <th>boarding_time</th>\n",
       "      <th>length</th>\n",
       "    </tr>\n",
       "    <tr>\n",
       "      <th>index</th>\n",
       "      <th></th>\n",
       "      <th></th>\n",
       "      <th></th>\n",
       "      <th></th>\n",
       "      <th></th>\n",
       "      <th></th>\n",
       "      <th></th>\n",
       "      <th></th>\n",
       "      <th></th>\n",
       "      <th></th>\n",
       "      <th></th>\n",
       "      <th></th>\n",
       "      <th></th>\n",
       "    </tr>\n",
       "  </thead>\n",
       "  <tbody>\n",
       "    <tr>\n",
       "      <th>bus_1115372</th>\n",
       "      <td>bus</td>\n",
       "      <td>LINESTRING (10.28431 48.25469, 10.25249 48.27018)</td>\n",
       "      <td>b_DE278_3_24</td>\n",
       "      <td>b_DE279_3_2</td>\n",
       "      <td>5</td>\n",
       "      <td>bus_17213</td>\n",
       "      <td>120</td>\n",
       "      <td>bus_17213_4</td>\n",
       "      <td>3600</td>\n",
       "      <td>bus</td>\n",
       "      <td>21600</td>\n",
       "      <td>0</td>\n",
       "      <td>2918.0</td>\n",
       "    </tr>\n",
       "  </tbody>\n",
       "</table>\n",
       "</div>"
      ],
      "text/plain": [
       "            route_type                                           geometry  \\\n",
       "index                                                                       \n",
       "bus_1115372        bus  LINESTRING (10.28431 48.25469, 10.25249 48.27018)   \n",
       "\n",
       "                        a            b  link_sequence   route_id  time  \\\n",
       "index                                                                    \n",
       "bus_1115372  b_DE278_3_24  b_DE279_3_2              5  bus_17213   120   \n",
       "\n",
       "                 trip_id  headway route_type_disagg  headway_route  \\\n",
       "index                                                                \n",
       "bus_1115372  bus_17213_4     3600               bus          21600   \n",
       "\n",
       "            boarding_time  length  \n",
       "index                              \n",
       "bus_1115372             0  2918.0  "
      ]
     },
     "execution_count": 20,
     "metadata": {},
     "output_type": "execute_result"
    }
   ],
   "source": [
    "sm.links.sample()"
   ]
  },
  {
   "cell_type": "code",
   "execution_count": 21,
   "metadata": {},
   "outputs": [],
   "source": [
    "# Delete footpaths between centroids as they might confuse the pathfinder\n",
    "# Add them later anew\n",
    "sm.footpaths = sm.footpaths.loc[~((sm.footpaths['a'].isin(sm.centroids.index)) |\n",
    "                                  (sm.footpaths['b'].isin(sm.centroids.index)) |\n",
    "                                  (sm.footpaths['a']==sm.footpaths['b']))]"
   ]
  },
  {
   "cell_type": "markdown",
   "metadata": {},
   "source": [
    "### Policies"
   ]
  },
  {
   "cell_type": "code",
   "execution_count": null,
   "metadata": {},
   "outputs": [],
   "source": [
    "# Delete air links under a distance threshold\n",
    "sm.links = sm.links.loc[~((sm.links['route_type']=='air')\n",
    "                          & (sm.links['length']<params['clean_los']['min_dist_air'])\n",
    "                         )]"
   ]
  },
  {
   "cell_type": "markdown",
   "metadata": {},
   "source": [
    "### Check zone_to_transit connectors\n",
    "\n",
    "All zones need connectors"
   ]
  },
  {
   "cell_type": "code",
   "execution_count": 23,
   "metadata": {},
   "outputs": [],
   "source": [
    "# Add missing connectors\n",
    "ntlegs = engine.ntlegs_from_centroids_and_nodes(\n",
    "    sm.centroids.loc[set(sm.zones.index) - set(sm.zone_to_transit['a'])],\n",
    "    sm.nodes.loc[sm.nodes['route_type']=='bus'],\n",
    "    short_leg_speed=params['pt_access']['speed_walk'],\n",
    "    long_leg_speed=params['pt_access']['speed_bicycle'],\n",
    "    threshold=params['pt_access']['catchment_radius_walk'],\n",
    "    n_neighbors=1,\n",
    "    coordinates_unit=sm.coordinates_unit)\n",
    "sm.zone_to_transit = sm.zone_to_transit.append(\n",
    "    ntlegs[set(sm.zone_to_transit.columns).intersection(ntlegs.columns)]\n",
    ").reset_index(drop=True)"
   ]
  },
  {
   "cell_type": "code",
   "execution_count": 24,
   "metadata": {},
   "outputs": [],
   "source": [
    "assert set(sm.zones.index) - set(sm.zone_to_transit['a']) == set()"
   ]
  },
  {
   "cell_type": "code",
   "execution_count": 25,
   "metadata": {},
   "outputs": [],
   "source": [
    "# Add a initial waiting time for PT access legs\n",
    "sm.zone_to_transit.loc[sm.zone_to_transit['direction']=='access', 'time'] += \\\n",
    "    params['access-egress_links']['time_pt']"
   ]
  },
  {
   "cell_type": "markdown",
   "metadata": {},
   "source": [
    "### Apply PT pathfinder\n",
    "It generates the LoS table with shortest paths for each origin destination pair"
   ]
  },
  {
   "cell_type": "code",
   "execution_count": 26,
   "metadata": {},
   "outputs": [],
   "source": [
    "# We don't want the algorithm to search paths for all mode combinations.\n",
    "# Thus, we have to extract the pathfinder and search them manually.\n",
    "ppf = PublicPathFinder(sm)"
   ]
  },
  {
   "cell_type": "code",
   "execution_count": 31,
   "metadata": {},
   "outputs": [
    {
     "data": {
      "text/plain": [
       "[{'air', 'coach', 'rail_long', 'rail_short'},\n",
       " {'air', 'bus', 'rail_long', 'rail_short'},\n",
       " {'air', 'bus', 'coach', 'rail_short'},\n",
       " {'bus', 'coach', 'rail_long', 'rail_short'},\n",
       " {'air', 'bus', 'coach', 'rail_long'},\n",
       " {'air', 'bus', 'coach', 'rail_long', 'rail_short'},\n",
       " {'air', 'coach', 'rail_long'},\n",
       " {'air', 'coach'},\n",
       " {'air', 'rail_long', 'rail_short'},\n",
       " {'coach', 'rail_long'}]"
      ]
     },
     "execution_count": 31,
     "metadata": {},
     "output_type": "execute_result"
    }
   ],
   "source": [
    "# Now, build custom mode combinations to find paths for\n",
    "# The combinations are modes that are NOT used in this path\n",
    "#ppf.build_mode_combinations(mode_column='route_type')\n",
    "all_types = set(sm.links['route_type'])\n",
    "ppf.mode_combinations = [all_types - {t} for t in all_types] # single modes\n",
    "ppf.mode_combinations.append(all_types) # just walking/cycling\n",
    "ppf.mode_combinations.append(all_types - {'bus', 'rail_short'}) # short-distance only\n",
    "ppf.mode_combinations.append(all_types - {'bus', 'rail_short', 'rail_long'}) # rail combo\n",
    "ppf.mode_combinations.append(all_types - {'bus', 'coach'}) # road PT combo\n",
    "ppf.mode_combinations.append(all_types - {'bus', 'rail_short', 'air'}) # air and local\n",
    "ppf.mode_combinations"
   ]
  },
  {
   "cell_type": "code",
   "execution_count": 10,
   "metadata": {},
   "outputs": [
    {
     "name": "stderr",
     "output_type": "stream",
     "text": [
      "volumes: 100%|███████████████████████████████████████████████████████████████████████████| 1/1 [00:00<00:00, 63.79it/s]"
     ]
    },
    {
     "name": "stdout",
     "output_type": "stream",
     "text": [
      "Generated OD set with 42679 pairs\n"
     ]
    },
    {
     "name": "stderr",
     "output_type": "stream",
     "text": [
      "\n"
     ]
    }
   ],
   "source": [
    "# Load OD pairs from volumes if available\n",
    "od_set = None\n",
    "try:\n",
    "    v = stepmodel.read_zippedpickles(model_path + 'de_volumes')\n",
    "    od_set = set([tuple(l) for l in v.volumes[['origin', 'destination']].values.tolist()])\n",
    "    print('Generated OD set with {} pairs'.format(len(od_set)))\n",
    "except:\n",
    "    print('The volumes file is not (yet) available')"
   ]
  },
  {
   "cell_type": "code",
   "execution_count": 32,
   "metadata": {
    "scrolled": true
   },
   "outputs": [
    {
     "name": "stderr",
     "output_type": "stream",
     "text": [
      "breaking modes: {'coach', 'rail_long'} : 100%|██████████████████████████████████████| 10/10 [2:03:48<00:00, 742.87s/it]\n"
     ]
    }
   ],
   "source": [
    "# Run the pathfinder for all mode combinations\n",
    "# If there is no boarding time column in links table:\n",
    "# Include a transfer penalty in order to promote direct routes.\n",
    "# It will be substracted later\n",
    "# The penalty must be None, if a link boarding time is set\n",
    "transfer_penalty = None\n",
    "ppf.find_broken_mode_paths(cutoff=np.inf,\n",
    "                           od_set=od_set,\n",
    "                           mode_column='route_type',\n",
    "                           boarding_time=transfer_penalty,\n",
    "                           prune=False)"
   ]
  },
  {
   "cell_type": "code",
   "execution_count": 33,
   "metadata": {},
   "outputs": [],
   "source": [
    "# Free some RAM\n",
    "cols = ['origin', 'destination', 'path', 'gtime']\n",
    "sm.pt_los = ppf.broken_mode_paths[cols]\n",
    "ppf.broken_mode_paths = ppf.broken_mode_paths[cols]\n",
    "ppf.zones = None\n",
    "ppf.links = None\n",
    "ppf.centroids = None\n",
    "ppf.footpaths = None\n",
    "ppf.ntlegs = None"
   ]
  },
  {
   "cell_type": "code",
   "execution_count": 34,
   "metadata": {},
   "outputs": [
    {
     "name": "stdout",
     "output_type": "stream",
     "text": [
      "(27271985, 4)\n"
     ]
    },
    {
     "data": {
      "text/html": [
       "<div>\n",
       "<style scoped>\n",
       "    .dataframe tbody tr th:only-of-type {\n",
       "        vertical-align: middle;\n",
       "    }\n",
       "\n",
       "    .dataframe tbody tr th {\n",
       "        vertical-align: top;\n",
       "    }\n",
       "\n",
       "    .dataframe thead th {\n",
       "        text-align: right;\n",
       "    }\n",
       "</style>\n",
       "<table border=\"1\" class=\"dataframe\">\n",
       "  <thead>\n",
       "    <tr style=\"text-align: right;\">\n",
       "      <th></th>\n",
       "      <th>origin</th>\n",
       "      <th>destination</th>\n",
       "      <th>path</th>\n",
       "      <th>gtime</th>\n",
       "    </tr>\n",
       "  </thead>\n",
       "  <tbody>\n",
       "    <tr>\n",
       "      <th>1289457</th>\n",
       "      <td>DE246_10</td>\n",
       "      <td>DE80K_0</td>\n",
       "      <td>[DE246_10, b_DE246_10_9, bus_2002414, bus_2002...</td>\n",
       "      <td>113116.023479</td>\n",
       "    </tr>\n",
       "  </tbody>\n",
       "</table>\n",
       "</div>"
      ],
      "text/plain": [
       "           origin destination  \\\n",
       "1289457  DE246_10     DE80K_0   \n",
       "\n",
       "                                                      path          gtime  \n",
       "1289457  [DE246_10, b_DE246_10_9, bus_2002414, bus_2002...  113116.023479  "
      ]
     },
     "execution_count": 34,
     "metadata": {},
     "output_type": "execute_result"
    }
   ],
   "source": [
    "# Drop inner-cell-connections\n",
    "sm.pt_los = sm.pt_los.loc[sm.pt_los['origin']!=sm.pt_los['destination']]\n",
    "print(sm.pt_los.shape)\n",
    "sm.pt_los.sample()"
   ]
  },
  {
   "cell_type": "code",
   "execution_count": 35,
   "metadata": {},
   "outputs": [
    {
     "data": {
      "text/plain": [
       "(22599783, 4)"
      ]
     },
     "execution_count": 35,
     "metadata": {},
     "output_type": "execute_result"
    }
   ],
   "source": [
    "# Drop duplicate connections\n",
    "sm.pt_los['path'] = sm.pt_los['path'].apply(tuple)\n",
    "sm.pt_los.drop_duplicates('path', inplace=True)\n",
    "sm.pt_los.reset_index(drop=True, inplace=True)\n",
    "sm.pt_los.shape"
   ]
  },
  {
   "cell_type": "markdown",
   "metadata": {},
   "source": [
    "### Add attributes to LoS table"
   ]
  },
  {
   "cell_type": "code",
   "execution_count": 36,
   "metadata": {},
   "outputs": [
    {
     "name": "stderr",
     "output_type": "stream",
     "text": [
      "path_analysis: 100%|█████████████████████████████████████████████████████| 22599783/22599783 [43:02<00:00, 8749.96it/s]\n"
     ]
    }
   ],
   "source": [
    "# Run the path analysis and assign paths as LoS table\n",
    "sm.pt_los = analysis.path_analysis_od_matrix(\n",
    "    od_matrix=sm.pt_los,\n",
    "    links=sm.links,\n",
    "    nodes=sm.nodes,\n",
    "    centroids=sm.centroids)"
   ]
  },
  {
   "cell_type": "code",
   "execution_count": 37,
   "metadata": {},
   "outputs": [
    {
     "data": {
      "text/plain": [
       "(22599673, 17)"
      ]
     },
     "execution_count": 37,
     "metadata": {},
     "output_type": "execute_result"
    }
   ],
   "source": [
    "# Drop connections that don't move along links\n",
    "# They usually take footpaths between stops to get to another zone\n",
    "sm.pt_los = sm.pt_los.loc[sm.pt_los['link_path'].apply(lambda l: len(l)>0)]\n",
    "sm.pt_los.shape"
   ]
  },
  {
   "cell_type": "code",
   "execution_count": 38,
   "metadata": {},
   "outputs": [],
   "source": [
    "# Add distances (Only path, not access/egress)\n",
    "len_dict = sm.links['length'].to_dict()\n",
    "sm.pt_los['length'] = sm.pt_los['link_path'].apply(lambda p: sum([len_dict[l] for l in p]))"
   ]
  },
  {
   "cell_type": "code",
   "execution_count": 39,
   "metadata": {},
   "outputs": [
    {
     "data": {
      "text/plain": [
       "Index(['origin', 'destination', 'path', 'gtime', 'boardings', 'alightings',\n",
       "       'node_path', 'link_path', 'footpaths', 'ntlegs', 'transfers',\n",
       "       'boarding_links', 'alighting_links', 'all_walk', 'ntransfers',\n",
       "       'time_link_path', 'length_link_path', 'length', 'access_time',\n",
       "       'footpath_time', 'in_vehicle_time', 'waiting_time', 'boarding_time',\n",
       "       'time'],\n",
       "      dtype='object')"
      ]
     },
     "execution_count": 39,
     "metadata": {},
     "output_type": "execute_result"
    }
   ],
   "source": [
    "# Disaggregate time into in-vehicle and access/egress\n",
    "# Substract the transfer penalty set above (put 0)\n",
    "if transfer_penalty is None:\n",
    "    sm.analysis_pt_time(boarding_time=None)\n",
    "    sm.pt_los['time'] -= sm.pt_los['boarding_time']\n",
    "#    sm.pt_los['boarding_time'] = 0\n",
    "else:\n",
    "    sm.analysis_pt_time(boarding_time=0)\n",
    "sm.pt_los.columns"
   ]
  },
  {
   "cell_type": "code",
   "execution_count": 40,
   "metadata": {},
   "outputs": [],
   "source": [
    "# Substract the waiting time at the first stop\n",
    "# for all modes but air (includes security checks etc.)\n",
    "headway_dict = sm.links['headway'].to_dict()\n",
    "mask = sm.pt_los['link_path'].apply(lambda l: l[0]).map(sm.links['route_type'].to_dict())!='air'\n",
    "sm.pt_los.loc[mask, 'time'] -= sm.pt_los.loc[mask, 'link_path'].apply(\n",
    "    lambda l: l[0]).map(headway_dict) / 2\n",
    "sm.pt_los.loc[mask, 'waiting_time'] -= sm.pt_los.loc[mask, 'link_path'].apply(\n",
    "    lambda l: l[0]).map(headway_dict) / 2"
   ]
  },
  {
   "cell_type": "code",
   "execution_count": 41,
   "metadata": {},
   "outputs": [
    {
     "data": {
      "text/html": [
       "<div>\n",
       "<style scoped>\n",
       "    .dataframe tbody tr th:only-of-type {\n",
       "        vertical-align: middle;\n",
       "    }\n",
       "\n",
       "    .dataframe tbody tr th {\n",
       "        vertical-align: top;\n",
       "    }\n",
       "\n",
       "    .dataframe thead th {\n",
       "        text-align: right;\n",
       "    }\n",
       "</style>\n",
       "<table border=\"1\" class=\"dataframe\">\n",
       "  <thead>\n",
       "    <tr style=\"text-align: right;\">\n",
       "      <th></th>\n",
       "      <th>ntransfers</th>\n",
       "      <th>length</th>\n",
       "      <th>gtime</th>\n",
       "      <th>access_time</th>\n",
       "      <th>footpath_time</th>\n",
       "      <th>in_vehicle_time</th>\n",
       "      <th>waiting_time</th>\n",
       "      <th>boarding_time</th>\n",
       "      <th>time</th>\n",
       "    </tr>\n",
       "  </thead>\n",
       "  <tbody>\n",
       "    <tr>\n",
       "      <th>8969216</th>\n",
       "      <td>3</td>\n",
       "      <td>290080.0</td>\n",
       "      <td>20499.139804</td>\n",
       "      <td>1408.639804</td>\n",
       "      <td>0.0</td>\n",
       "      <td>13320</td>\n",
       "      <td>4870.5</td>\n",
       "      <td>0</td>\n",
       "      <td>19599.139804</td>\n",
       "    </tr>\n",
       "    <tr>\n",
       "      <th>7657822</th>\n",
       "      <td>4</td>\n",
       "      <td>275992.0</td>\n",
       "      <td>19411.208568</td>\n",
       "      <td>1591.208568</td>\n",
       "      <td>0.0</td>\n",
       "      <td>11040</td>\n",
       "      <td>4980.0</td>\n",
       "      <td>0</td>\n",
       "      <td>17611.208568</td>\n",
       "    </tr>\n",
       "  </tbody>\n",
       "</table>\n",
       "</div>"
      ],
      "text/plain": [
       "         ntransfers    length         gtime  access_time  footpath_time  \\\n",
       "8969216           3  290080.0  20499.139804  1408.639804            0.0   \n",
       "7657822           4  275992.0  19411.208568  1591.208568            0.0   \n",
       "\n",
       "         in_vehicle_time  waiting_time  boarding_time          time  \n",
       "8969216            13320        4870.5              0  19599.139804  \n",
       "7657822            11040        4980.0              0  17611.208568  "
      ]
     },
     "execution_count": 41,
     "metadata": {},
     "output_type": "execute_result"
    }
   ],
   "source": [
    "# Check times\n",
    "sm.pt_los[['ntransfers', 'length']+[c for c in sm.pt_los.columns if c[-4:]=='time']].sample(2)"
   ]
  },
  {
   "cell_type": "code",
   "execution_count": 42,
   "metadata": {},
   "outputs": [],
   "source": [
    "# Add route_types\n",
    "type_dict = sm.links['route_type'].to_dict()\n",
    "sm.pt_los['route_types'] = [set([type_dict[link] for link in l])\n",
    "                            for l in list(sm.pt_los['link_path'])]"
   ]
  },
  {
   "cell_type": "code",
   "execution_count": 43,
   "metadata": {},
   "outputs": [],
   "source": [
    "# Add main route_type based on a hierarchy\n",
    "hierarchy = ['air', 'coach', 'rail_long', 'rail_short', 'bus', 'walk']\n",
    "def main_type(types):\n",
    "    t = hierarchy[-1]\n",
    "    try:\n",
    "        t = hierarchy[min([hierarchy.index(t) for t in types])]\n",
    "    except ValueError: # empty types set\n",
    "        pass\n",
    "    return t\n",
    "sm.pt_los['route_type'] = sm.pt_los['route_types'].apply(main_type)"
   ]
  },
  {
   "cell_type": "code",
   "execution_count": 44,
   "metadata": {},
   "outputs": [
    {
     "data": {
      "text/html": [
       "<div>\n",
       "<style scoped>\n",
       "    .dataframe tbody tr th:only-of-type {\n",
       "        vertical-align: middle;\n",
       "    }\n",
       "\n",
       "    .dataframe tbody tr th {\n",
       "        vertical-align: top;\n",
       "    }\n",
       "\n",
       "    .dataframe thead th {\n",
       "        text-align: right;\n",
       "    }\n",
       "</style>\n",
       "<table border=\"1\" class=\"dataframe\">\n",
       "  <thead>\n",
       "    <tr style=\"text-align: right;\">\n",
       "      <th></th>\n",
       "      <th>origin</th>\n",
       "      <th>destination</th>\n",
       "      <th>path</th>\n",
       "      <th>gtime</th>\n",
       "      <th>boardings</th>\n",
       "      <th>alightings</th>\n",
       "      <th>node_path</th>\n",
       "      <th>link_path</th>\n",
       "      <th>footpaths</th>\n",
       "      <th>ntlegs</th>\n",
       "      <th>...</th>\n",
       "      <th>length_link_path</th>\n",
       "      <th>length</th>\n",
       "      <th>access_time</th>\n",
       "      <th>footpath_time</th>\n",
       "      <th>in_vehicle_time</th>\n",
       "      <th>waiting_time</th>\n",
       "      <th>boarding_time</th>\n",
       "      <th>time</th>\n",
       "      <th>route_types</th>\n",
       "      <th>route_type</th>\n",
       "    </tr>\n",
       "  </thead>\n",
       "  <tbody>\n",
       "    <tr>\n",
       "      <th>14185841</th>\n",
       "      <td>DE934_2</td>\n",
       "      <td>DEG09_2</td>\n",
       "      <td>(DE934_2, b_DE934_2_0, bus_1489166, bus_148916...</td>\n",
       "      <td>22979.65914</td>\n",
       "      <td>[b_DE934_2_0, rl_DE935_0_0, rs_DE91C_8_0, b_DE...</td>\n",
       "      <td>[b_DE935_0_106, rl_DE91C_8_0, rs_DEG09_0_0, b_...</td>\n",
       "      <td>[b_DE934_2_0, b_DE935_0_106, rl_DE935_0_0, rl_...</td>\n",
       "      <td>[bus_1489166, bus_1489167, bus_1489168, bus_14...</td>\n",
       "      <td>[(b_DE935_0_106, rl_DE935_0_0), (rl_DE91C_8_0,...</td>\n",
       "      <td>[(DE934_2, b_DE934_2_0), (b_DEG09_2_12, DEG09_2)]</td>\n",
       "      <td>...</td>\n",
       "      <td>317436.0</td>\n",
       "      <td>317436.0</td>\n",
       "      <td>1462.13661</td>\n",
       "      <td>217.52253</td>\n",
       "      <td>12300</td>\n",
       "      <td>5400.0</td>\n",
       "      <td>0</td>\n",
       "      <td>19379.65914</td>\n",
       "      <td>{rail_short, bus, rail_long}</td>\n",
       "      <td>rail_long</td>\n",
       "    </tr>\n",
       "  </tbody>\n",
       "</table>\n",
       "<p>1 rows × 26 columns</p>\n",
       "</div>"
      ],
      "text/plain": [
       "           origin destination  \\\n",
       "14185841  DE934_2     DEG09_2   \n",
       "\n",
       "                                                       path        gtime  \\\n",
       "14185841  (DE934_2, b_DE934_2_0, bus_1489166, bus_148916...  22979.65914   \n",
       "\n",
       "                                                  boardings  \\\n",
       "14185841  [b_DE934_2_0, rl_DE935_0_0, rs_DE91C_8_0, b_DE...   \n",
       "\n",
       "                                                 alightings  \\\n",
       "14185841  [b_DE935_0_106, rl_DE91C_8_0, rs_DEG09_0_0, b_...   \n",
       "\n",
       "                                                  node_path  \\\n",
       "14185841  [b_DE934_2_0, b_DE935_0_106, rl_DE935_0_0, rl_...   \n",
       "\n",
       "                                                  link_path  \\\n",
       "14185841  [bus_1489166, bus_1489167, bus_1489168, bus_14...   \n",
       "\n",
       "                                                  footpaths  \\\n",
       "14185841  [(b_DE935_0_106, rl_DE935_0_0), (rl_DE91C_8_0,...   \n",
       "\n",
       "                                                     ntlegs  ...  \\\n",
       "14185841  [(DE934_2, b_DE934_2_0), (b_DEG09_2_12, DEG09_2)]  ...   \n",
       "\n",
       "         length_link_path    length access_time  footpath_time  \\\n",
       "14185841         317436.0  317436.0  1462.13661      217.52253   \n",
       "\n",
       "          in_vehicle_time  waiting_time  boarding_time         time  \\\n",
       "14185841            12300        5400.0              0  19379.65914   \n",
       "\n",
       "                           route_types  route_type  \n",
       "14185841  {rail_short, bus, rail_long}   rail_long  \n",
       "\n",
       "[1 rows x 26 columns]"
      ]
     },
     "execution_count": 44,
     "metadata": {},
     "output_type": "execute_result"
    }
   ],
   "source": [
    "sm.pt_los.sample()"
   ]
  },
  {
   "cell_type": "code",
   "execution_count": null,
   "metadata": {},
   "outputs": [],
   "source": [
    "# Make a safety copy before restricting results\n",
    "#if manual: los = sm.pt_los.copy()"
   ]
  },
  {
   "cell_type": "code",
   "execution_count": null,
   "metadata": {},
   "outputs": [],
   "source": [
    "#sm.pt_los = los.copy()"
   ]
  },
  {
   "cell_type": "markdown",
   "metadata": {},
   "source": [
    "### Clean PT LOS"
   ]
  },
  {
   "cell_type": "raw",
   "metadata": {
    "scrolled": false
   },
   "source": [
    "# Berlin - Hamburg\n",
    "all_pt_paths(sm, 'DE300_0', 'DE600_0', verbose=False, group_name='route_type')"
   ]
  },
  {
   "cell_type": "code",
   "execution_count": 47,
   "metadata": {},
   "outputs": [
    {
     "data": {
      "text/html": [
       "<div>\n",
       "<style scoped>\n",
       "    .dataframe tbody tr th:only-of-type {\n",
       "        vertical-align: middle;\n",
       "    }\n",
       "\n",
       "    .dataframe tbody tr th {\n",
       "        vertical-align: top;\n",
       "    }\n",
       "\n",
       "    .dataframe thead th {\n",
       "        text-align: right;\n",
       "    }\n",
       "</style>\n",
       "<table border=\"1\" class=\"dataframe\">\n",
       "  <thead>\n",
       "    <tr style=\"text-align: right;\">\n",
       "      <th></th>\n",
       "      <th>ntransfers</th>\n",
       "      <th>length</th>\n",
       "      <th>route_types</th>\n",
       "      <th>link_path</th>\n",
       "      <th>gtime</th>\n",
       "      <th>access_time</th>\n",
       "      <th>footpath_time</th>\n",
       "      <th>in_vehicle_time</th>\n",
       "      <th>waiting_time</th>\n",
       "      <th>boarding_time</th>\n",
       "      <th>time</th>\n",
       "    </tr>\n",
       "  </thead>\n",
       "  <tbody>\n",
       "    <tr>\n",
       "      <th>1858081</th>\n",
       "      <td>12</td>\n",
       "      <td>384953.000</td>\n",
       "      <td>{bus}</td>\n",
       "      <td>[bus_303689, bus_1716882, bus_1716884, bus_171...</td>\n",
       "      <td>38530.332989</td>\n",
       "      <td>1006.020929</td>\n",
       "      <td>79.312060</td>\n",
       "      <td>21046</td>\n",
       "      <td>15799.0</td>\n",
       "      <td>0</td>\n",
       "      <td>37930.332989</td>\n",
       "    </tr>\n",
       "    <tr>\n",
       "      <th>4772645</th>\n",
       "      <td>0</td>\n",
       "      <td>281094.112</td>\n",
       "      <td>{coach}</td>\n",
       "      <td>[c_2330]</td>\n",
       "      <td>14549.734895</td>\n",
       "      <td>989.734895</td>\n",
       "      <td>0.000000</td>\n",
       "      <td>11400</td>\n",
       "      <td>0.0</td>\n",
       "      <td>0</td>\n",
       "      <td>12389.734895</td>\n",
       "    </tr>\n",
       "    <tr>\n",
       "      <th>4869677</th>\n",
       "      <td>0</td>\n",
       "      <td>241407.000</td>\n",
       "      <td>{rail_long}</td>\n",
       "      <td>[rl_1575]</td>\n",
       "      <td>8355.782320</td>\n",
       "      <td>951.524195</td>\n",
       "      <td>24.258125</td>\n",
       "      <td>5580</td>\n",
       "      <td>0.0</td>\n",
       "      <td>0</td>\n",
       "      <td>6555.782320</td>\n",
       "    </tr>\n",
       "    <tr>\n",
       "      <th>5936835</th>\n",
       "      <td>0</td>\n",
       "      <td>257678.000</td>\n",
       "      <td>{rail_short}</td>\n",
       "      <td>[rs_22996, rs_22997, rs_22998, rs_22999, rs_23...</td>\n",
       "      <td>10813.101536</td>\n",
       "      <td>951.524195</td>\n",
       "      <td>21.577341</td>\n",
       "      <td>8040</td>\n",
       "      <td>0.0</td>\n",
       "      <td>0</td>\n",
       "      <td>9013.101536</td>\n",
       "    </tr>\n",
       "    <tr>\n",
       "      <th>13255350</th>\n",
       "      <td>0</td>\n",
       "      <td>241407.000</td>\n",
       "      <td>{rail_long}</td>\n",
       "      <td>[rl_595]</td>\n",
       "      <td>8355.782320</td>\n",
       "      <td>951.524195</td>\n",
       "      <td>24.258125</td>\n",
       "      <td>5580</td>\n",
       "      <td>0.0</td>\n",
       "      <td>0</td>\n",
       "      <td>6555.782320</td>\n",
       "    </tr>\n",
       "  </tbody>\n",
       "</table>\n",
       "</div>"
      ],
      "text/plain": [
       "          ntransfers      length   route_types  \\\n",
       "1858081           12  384953.000         {bus}   \n",
       "4772645            0  281094.112       {coach}   \n",
       "4869677            0  241407.000   {rail_long}   \n",
       "5936835            0  257678.000  {rail_short}   \n",
       "13255350           0  241407.000   {rail_long}   \n",
       "\n",
       "                                                  link_path         gtime  \\\n",
       "1858081   [bus_303689, bus_1716882, bus_1716884, bus_171...  38530.332989   \n",
       "4772645                                            [c_2330]  14549.734895   \n",
       "4869677                                           [rl_1575]   8355.782320   \n",
       "5936835   [rs_22996, rs_22997, rs_22998, rs_22999, rs_23...  10813.101536   \n",
       "13255350                                           [rl_595]   8355.782320   \n",
       "\n",
       "          access_time  footpath_time  in_vehicle_time  waiting_time  \\\n",
       "1858081   1006.020929      79.312060            21046       15799.0   \n",
       "4772645    989.734895       0.000000            11400           0.0   \n",
       "4869677    951.524195      24.258125             5580           0.0   \n",
       "5936835    951.524195      21.577341             8040           0.0   \n",
       "13255350   951.524195      24.258125             5580           0.0   \n",
       "\n",
       "          boarding_time          time  \n",
       "1858081               0  37930.332989  \n",
       "4772645               0  12389.734895  \n",
       "4869677               0   6555.782320  \n",
       "5936835               0   9013.101536  \n",
       "13255350              0   6555.782320  "
      ]
     },
     "execution_count": 47,
     "metadata": {},
     "output_type": "execute_result"
    }
   ],
   "source": [
    "# Look at Berlin - Hamburg times\n",
    "sm.pt_los.loc[(sm.pt_los['origin']=='DE300_0')&(sm.pt_los['destination']=='DE600_0')][\n",
    "    ['ntransfers', 'length', 'route_types', 'link_path']\n",
    "    +[c for c in sm.pt_los.columns if c[-4:]=='time']]"
   ]
  },
  {
   "cell_type": "code",
   "execution_count": 48,
   "metadata": {},
   "outputs": [
    {
     "data": {
      "text/plain": [
       "(19950490, 26)"
      ]
     },
     "execution_count": 48,
     "metadata": {},
     "output_type": "execute_result"
    }
   ],
   "source": [
    "# Keep only the fastest trip(s)\n",
    "sm.pt_los['route_types'] = sm.pt_los['route_types'].apply(tuple)\n",
    "sm.pt_los = sm.pt_los.sort_values('time').groupby(\n",
    "    ['origin', 'destination', 'route_types']).nth(\n",
    "        list(range(params['clean_los']['n_fastest_trips']))).reset_index()\n",
    "sm.pt_los.shape"
   ]
  },
  {
   "cell_type": "code",
   "execution_count": 49,
   "metadata": {},
   "outputs": [
    {
     "data": {
      "text/plain": [
       "(19950490, 26)"
      ]
     },
     "execution_count": 49,
     "metadata": {},
     "output_type": "execute_result"
    }
   ],
   "source": [
    "# Drop trips with coach-rail or coach-air combinations\n",
    "sm.pt_los = sm.pt_los.loc[~sm.pt_los['route_types'].apply(\n",
    "    lambda x: 'coach' in x and ('rail_long' in x or 'rail_short' in x))]\n",
    "sm.pt_los.shape"
   ]
  },
  {
   "cell_type": "code",
   "execution_count": 50,
   "metadata": {},
   "outputs": [
    {
     "data": {
      "text/plain": [
       "(19950490, 26)"
      ]
     },
     "execution_count": 50,
     "metadata": {},
     "output_type": "execute_result"
    }
   ],
   "source": [
    "'''# Drop trips with air interchange\n",
    "sm.pt_los.drop(sm.pt_los.loc[(sm.pt_los['route_type']=='air') &\n",
    "                             (sm.pt_los['link_path'].apply(\n",
    "                                 lambda x: len([t for t in x if type_dict[t]=='air'])>1))\n",
    "                            ].index, inplace=True)'''\n",
    "sm.pt_los.shape"
   ]
  },
  {
   "cell_type": "code",
   "execution_count": 51,
   "metadata": {},
   "outputs": [
    {
     "data": {
      "text/plain": [
       "(17246355, 26)"
      ]
     },
     "execution_count": 51,
     "metadata": {},
     "output_type": "execute_result"
    }
   ],
   "source": [
    "# Drop unrealistically long trips\n",
    "sm.pt_los = sm.pt_los.loc[sm.pt_los['in_vehicle_time']<params['clean_los']['max_duration']]\n",
    "sm.pt_los.shape"
   ]
  },
  {
   "cell_type": "code",
   "execution_count": 52,
   "metadata": {},
   "outputs": [
    {
     "data": {
      "image/png": "[encoded data removed]",
      "text/plain": [
       "<Figure size 288x288 with 1 Axes>"
      ]
     },
     "metadata": {
      "needs_background": "light"
     },
     "output_type": "display_data"
    }
   ],
   "source": [
    "# Time distribution\n",
    "if manual:\n",
    "    sm.pt_los.hist(column='time', bins=100, log=True, alpha=.5,\n",
    "                   ax=sm.pt_los.hist(column='in_vehicle_time', color='green',\n",
    "                                     bins=100, figsize=(4,4), log=True, alpha=.5))"
   ]
  },
  {
   "cell_type": "code",
   "execution_count": 53,
   "metadata": {},
   "outputs": [
    {
     "data": {
      "image/png": "[encoded data removed]",
      "text/plain": [
       "<Figure size 288x288 with 1 Axes>"
      ]
     },
     "metadata": {
      "needs_background": "light"
     },
     "output_type": "display_data"
    }
   ],
   "source": [
    "if manual: sm.pt_los.hist(column='ntransfers', figsize=(4,4))"
   ]
  },
  {
   "cell_type": "code",
   "execution_count": 54,
   "metadata": {},
   "outputs": [
    {
     "data": {
      "image/png": "[encoded data removed]",
      "text/plain": [
       "<Figure size 1152x216 with 6 Axes>"
      ]
     },
     "metadata": {},
     "output_type": "display_data"
    }
   ],
   "source": [
    "# Main mode distribution by transfers\n",
    "if manual:\n",
    "    t = sm.pt_los#.copy()\n",
    "    t['bins'] = pd.cut(t['ntransfers'], bins=[0,1,3,5,10,20,100],\n",
    "                       labels=[\"0-1\", \"2-3\",\"4-5\",\"6-10\",\"11-20\",\"21+\"])\n",
    "    axs = t.groupby(['route_type','bins']).size().unstack(fill_value=0).plot.pie(\n",
    "        subplots=True, figsize=(16, 3),\n",
    "        startangle=0, counterclock=False, title='Main mode by number of transfers',\n",
    "        legend=False, labeldistance=None)\n",
    "    axs[0].legend(loc='lower left')"
   ]
  },
  {
   "cell_type": "code",
   "execution_count": 55,
   "metadata": {},
   "outputs": [
    {
     "data": {
      "image/png": "[encoded data removed]",
      "text/plain": [
       "<Figure size 432x288 with 1 Axes>"
      ]
     },
     "metadata": {
      "needs_background": "light"
     },
     "output_type": "display_data"
    }
   ],
   "source": [
    "# Distribution of mode combinations\n",
    "if manual:\n",
    "    t.groupby('route_types').count()['route_type'].plot(kind='bar')"
   ]
  },
  {
   "cell_type": "code",
   "execution_count": 59,
   "metadata": {},
   "outputs": [
    {
     "data": {
      "image/png": "[encoded data removed]",
      "text/plain": [
       "<Figure size 1152x216 with 5 Axes>"
      ]
     },
     "metadata": {},
     "output_type": "display_data"
    }
   ],
   "source": [
    "if manual:\n",
    "    t['bins'] = pd.cut(t['time'], bins=[0,30*60,60*60,120*60,360*60,5000*60],\n",
    "                       labels=[\"0-30\",\"31-60\",\"61-120\",\"120-360\",\"361+\"])\n",
    "    axs = t.groupby(['route_type','bins']).size().unstack(fill_value=0).plot.pie(\n",
    "        subplots=True, figsize=(16, 3),\n",
    "        startangle=0, counterclock=False, title='Main mode by trip duration',\n",
    "        legend=False, labeldistance=None)\n",
    "    axs[0].legend()"
   ]
  },
  {
   "cell_type": "code",
   "execution_count": 60,
   "metadata": {},
   "outputs": [
    {
     "data": {
      "text/plain": [
       "(13472907, 27)"
      ]
     },
     "execution_count": 60,
     "metadata": {},
     "output_type": "execute_result"
    }
   ],
   "source": [
    "# Drop unnecessary long connections if there is a waiting time applied\n",
    "if sm.links['headway'].mean() > 1*60:\n",
    "    sm.pt_los = sm.pt_los.loc[sm.pt_los['ntransfers']<=\n",
    "                              params['clean_los']['max_transfers']]\n",
    "    # Drop coach connections with more than one transfer\n",
    "    sm.pt_los = sm.pt_los.loc[~((sm.pt_los['route_type']=='coach') &\n",
    "                                (sm.pt_los['boardings'].apply(\n",
    "                                    lambda l: len([n for n in l if n.startswith('c')])>2)\n",
    "                                ))]\n",
    "sm.pt_los.shape"
   ]
  },
  {
   "cell_type": "code",
   "execution_count": 61,
   "metadata": {},
   "outputs": [
    {
     "data": {
      "text/plain": [
       "(13223373, 27)"
      ]
     },
     "execution_count": 61,
     "metadata": {},
     "output_type": "execute_result"
    }
   ],
   "source": [
    "# Bus tickets are relatively cheap, but they apply only for short distances\n",
    "# And nobody books tickets at five different bus agencies\n",
    "# Thus, drop bus trips longer than 100km\n",
    "sm.pt_los = sm.pt_los.loc[~((sm.pt_los['route_type']=='bus') &\n",
    "                            (sm.pt_los['length']>params['clean_los']['max_dist_bus']))]\n",
    "sm.pt_los.shape"
   ]
  },
  {
   "cell_type": "code",
   "execution_count": 62,
   "metadata": {},
   "outputs": [
    {
     "data": {
      "text/plain": [
       "(13221200, 27)"
      ]
     },
     "execution_count": 62,
     "metadata": {},
     "output_type": "execute_result"
    }
   ],
   "source": [
    "# Also drop coach trips for local transport\n",
    "sm.pt_los = sm.pt_los.loc[~((sm.pt_los['route_type']=='coach') &\n",
    "                            (sm.pt_los['length']<params['clean_los']['min_dist_coach']))]\n",
    "sm.pt_los.shape"
   ]
  },
  {
   "cell_type": "code",
   "execution_count": 63,
   "metadata": {},
   "outputs": [
    {
     "data": {
      "text/plain": [
       "13158930"
      ]
     },
     "execution_count": 63,
     "metadata": {},
     "output_type": "execute_result"
    }
   ],
   "source": [
    "# Keep only trips where in-vehicle-time makes at least a third\n",
    "#sm.pt_los = sm.pt_los.loc[sm.pt_los['time']<sm.pt_los['in_vehicle_time']*3]\n",
    "#sm.pt_los.shape\n",
    "len(sm.pt_los.loc[sm.pt_los['time']<sm.pt_los['in_vehicle_time']*3])"
   ]
  },
  {
   "cell_type": "code",
   "execution_count": 70,
   "metadata": {},
   "outputs": [
    {
     "data": {
      "text/plain": [
       "(10377153, 27)"
      ]
     },
     "execution_count": 70,
     "metadata": {},
     "output_type": "execute_result"
    }
   ],
   "source": [
    "# Drop rail short-distance trips above a distance threshold,\n",
    "# if a long-distance connection is available\n",
    "sm.pt_los['both'] = sm.pt_los.merge(\n",
    "    sm.pt_los.groupby(['origin', 'destination'])['route_type'].apply(\n",
    "        lambda od: 'rail_short' in list(od) and 'rail_long' in list(od)).rename('both'),\n",
    "    left_on=['origin', 'destination'], right_index=True)['both']\n",
    "sm.pt_los = sm.pt_los.loc[~((sm.pt_los['route_type']=='rail_short') &\n",
    "                            (sm.pt_los['both']==True) &\n",
    "                            (sm.pt_los['length']>params['clean_los']['max_dist_rail_short']))]\n",
    "sm.pt_los.drop('both', axis=1, inplace=True)\n",
    "sm.pt_los.shape"
   ]
  },
  {
   "cell_type": "code",
   "execution_count": 71,
   "metadata": {},
   "outputs": [
    {
     "data": {
      "image/png": "[encoded data removed]",
      "text/plain": [
       "<Figure size 432x288 with 1 Axes>"
      ]
     },
     "metadata": {
      "needs_background": "light"
     },
     "output_type": "display_data"
    }
   ],
   "source": [
    "if manual: sm.pt_los.groupby('route_types').count()['route_type'].plot(kind='bar')"
   ]
  },
  {
   "cell_type": "code",
   "execution_count": 72,
   "metadata": {},
   "outputs": [
    {
     "data": {
      "image/png": "[encoded data removed]",
      "text/plain": [
       "<Figure size 288x288 with 1 Axes>"
      ]
     },
     "metadata": {
      "needs_background": "light"
     },
     "output_type": "display_data"
    }
   ],
   "source": [
    "# Time distribution\n",
    "if manual:\n",
    "    sm.pt_los.hist(column='time', bins=100, log=False, alpha=.5,\n",
    "                   ax=sm.pt_los.hist(column='in_vehicle_time', color='green',\n",
    "                                     bins=100, figsize=(4,4), log=False, alpha=.5))"
   ]
  },
  {
   "cell_type": "code",
   "execution_count": 73,
   "metadata": {},
   "outputs": [
    {
     "data": {
      "text/html": [
       "<div>\n",
       "<style scoped>\n",
       "    .dataframe tbody tr th:only-of-type {\n",
       "        vertical-align: middle;\n",
       "    }\n",
       "\n",
       "    .dataframe tbody tr th {\n",
       "        vertical-align: top;\n",
       "    }\n",
       "\n",
       "    .dataframe thead th {\n",
       "        text-align: right;\n",
       "    }\n",
       "</style>\n",
       "<table border=\"1\" class=\"dataframe\">\n",
       "  <thead>\n",
       "    <tr style=\"text-align: right;\">\n",
       "      <th></th>\n",
       "      <th>ntransfers</th>\n",
       "      <th>length</th>\n",
       "      <th>route_types</th>\n",
       "      <th>link_path</th>\n",
       "      <th>gtime</th>\n",
       "      <th>access_time</th>\n",
       "      <th>footpath_time</th>\n",
       "      <th>in_vehicle_time</th>\n",
       "      <th>waiting_time</th>\n",
       "      <th>boarding_time</th>\n",
       "      <th>time</th>\n",
       "    </tr>\n",
       "  </thead>\n",
       "  <tbody>\n",
       "    <tr>\n",
       "      <th>7822998</th>\n",
       "      <td>0</td>\n",
       "      <td>281094.112</td>\n",
       "      <td>(coach,)</td>\n",
       "      <td>[c_2330]</td>\n",
       "      <td>14549.734895</td>\n",
       "      <td>989.734895</td>\n",
       "      <td>0.000000</td>\n",
       "      <td>11400</td>\n",
       "      <td>0.0</td>\n",
       "      <td>0</td>\n",
       "      <td>12389.734895</td>\n",
       "    </tr>\n",
       "    <tr>\n",
       "      <th>7822999</th>\n",
       "      <td>0</td>\n",
       "      <td>241407.000</td>\n",
       "      <td>(rail_long,)</td>\n",
       "      <td>[rl_1575]</td>\n",
       "      <td>8355.782320</td>\n",
       "      <td>951.524195</td>\n",
       "      <td>24.258125</td>\n",
       "      <td>5580</td>\n",
       "      <td>0.0</td>\n",
       "      <td>0</td>\n",
       "      <td>6555.782320</td>\n",
       "    </tr>\n",
       "    <tr>\n",
       "      <th>7823000</th>\n",
       "      <td>0</td>\n",
       "      <td>257678.000</td>\n",
       "      <td>(rail_short,)</td>\n",
       "      <td>[rs_22996, rs_22997, rs_22998, rs_22999, rs_23...</td>\n",
       "      <td>10813.101536</td>\n",
       "      <td>951.524195</td>\n",
       "      <td>21.577341</td>\n",
       "      <td>8040</td>\n",
       "      <td>0.0</td>\n",
       "      <td>0</td>\n",
       "      <td>9013.101536</td>\n",
       "    </tr>\n",
       "  </tbody>\n",
       "</table>\n",
       "</div>"
      ],
      "text/plain": [
       "         ntransfers      length    route_types  \\\n",
       "7822998           0  281094.112       (coach,)   \n",
       "7822999           0  241407.000   (rail_long,)   \n",
       "7823000           0  257678.000  (rail_short,)   \n",
       "\n",
       "                                                 link_path         gtime  \\\n",
       "7822998                                           [c_2330]  14549.734895   \n",
       "7822999                                          [rl_1575]   8355.782320   \n",
       "7823000  [rs_22996, rs_22997, rs_22998, rs_22999, rs_23...  10813.101536   \n",
       "\n",
       "         access_time  footpath_time  in_vehicle_time  waiting_time  \\\n",
       "7822998   989.734895       0.000000            11400           0.0   \n",
       "7822999   951.524195      24.258125             5580           0.0   \n",
       "7823000   951.524195      21.577341             8040           0.0   \n",
       "\n",
       "         boarding_time          time  \n",
       "7822998              0  12389.734895  \n",
       "7822999              0   6555.782320  \n",
       "7823000              0   9013.101536  "
      ]
     },
     "execution_count": 73,
     "metadata": {},
     "output_type": "execute_result"
    }
   ],
   "source": [
    "# Look at Berlin - Hamburg times\n",
    "sm.pt_los.loc[(sm.pt_los['origin']=='DE300_0')&(sm.pt_los['destination']=='DE600_0')][\n",
    "    ['ntransfers', 'length', 'route_types', 'link_path']+[c for c in sm.pt_los.columns if c[-4:]=='time']]"
   ]
  },
  {
   "cell_type": "code",
   "execution_count": 74,
   "metadata": {},
   "outputs": [
    {
     "data": {
      "text/html": [
       "<div>\n",
       "<style scoped>\n",
       "    .dataframe tbody tr th:only-of-type {\n",
       "        vertical-align: middle;\n",
       "    }\n",
       "\n",
       "    .dataframe tbody tr th {\n",
       "        vertical-align: top;\n",
       "    }\n",
       "\n",
       "    .dataframe thead th {\n",
       "        text-align: right;\n",
       "    }\n",
       "</style>\n",
       "<table border=\"1\" class=\"dataframe\">\n",
       "  <thead>\n",
       "    <tr style=\"text-align: right;\">\n",
       "      <th></th>\n",
       "      <th>origin</th>\n",
       "      <th>destination</th>\n",
       "      <th>route_types</th>\n",
       "      <th>path</th>\n",
       "      <th>gtime</th>\n",
       "      <th>boardings</th>\n",
       "      <th>alightings</th>\n",
       "      <th>node_path</th>\n",
       "      <th>link_path</th>\n",
       "      <th>footpaths</th>\n",
       "      <th>...</th>\n",
       "      <th>length_link_path</th>\n",
       "      <th>length</th>\n",
       "      <th>access_time</th>\n",
       "      <th>footpath_time</th>\n",
       "      <th>in_vehicle_time</th>\n",
       "      <th>waiting_time</th>\n",
       "      <th>boarding_time</th>\n",
       "      <th>time</th>\n",
       "      <th>route_type</th>\n",
       "      <th>bins</th>\n",
       "    </tr>\n",
       "  </thead>\n",
       "  <tbody>\n",
       "    <tr>\n",
       "      <th>9372</th>\n",
       "      <td>DE112_0</td>\n",
       "      <td>DE111_0</td>\n",
       "      <td>(bus,)</td>\n",
       "      <td>(DE112_0, rl_DE112_0_0, b_DE112_0_62, bus_1759...</td>\n",
       "      <td>2485.740450</td>\n",
       "      <td>[b_DE112_0_62, b_DE112_0_28]</td>\n",
       "      <td>[b_DE112_0_28, b_DE111_0_201]</td>\n",
       "      <td>[rl_DE112_0_0, b_DE112_0_62, b_DE112_0_28, b_D...</td>\n",
       "      <td>[bus_1759823, bus_494386]</td>\n",
       "      <td>[(rl_DE112_0_0, b_DE112_0_62), (b_DE111_0_201,...</td>\n",
       "      <td>...</td>\n",
       "      <td>10759.0</td>\n",
       "      <td>10759.0</td>\n",
       "      <td>951.772976</td>\n",
       "      <td>114.467473</td>\n",
       "      <td>360</td>\n",
       "      <td>600.0</td>\n",
       "      <td>0</td>\n",
       "      <td>2026.240450</td>\n",
       "      <td>bus</td>\n",
       "      <td>31-60</td>\n",
       "    </tr>\n",
       "    <tr>\n",
       "      <th>9374</th>\n",
       "      <td>DE112_0</td>\n",
       "      <td>DE111_0</td>\n",
       "      <td>(rail_long,)</td>\n",
       "      <td>(DE112_0, rl_DE112_0_0, rl_2829, rl_DE111_0_0,...</td>\n",
       "      <td>3975.299809</td>\n",
       "      <td>[rl_DE112_0_0]</td>\n",
       "      <td>[rl_DE111_0_0]</td>\n",
       "      <td>[rl_DE112_0_0, rl_DE111_0_0]</td>\n",
       "      <td>[rl_2829]</td>\n",
       "      <td>[]</td>\n",
       "      <td>...</td>\n",
       "      <td>16857.0</td>\n",
       "      <td>16857.0</td>\n",
       "      <td>915.299809</td>\n",
       "      <td>0.000000</td>\n",
       "      <td>1260</td>\n",
       "      <td>0.0</td>\n",
       "      <td>0</td>\n",
       "      <td>2175.299809</td>\n",
       "      <td>rail_long</td>\n",
       "      <td>31-60</td>\n",
       "    </tr>\n",
       "    <tr>\n",
       "      <th>9375</th>\n",
       "      <td>DE112_0</td>\n",
       "      <td>DE111_0</td>\n",
       "      <td>(rail_short,)</td>\n",
       "      <td>(DE112_0, rs_DE112_0_9, rs_39373, rs_39374, rs...</td>\n",
       "      <td>1888.992104</td>\n",
       "      <td>[rs_DE112_0_9]</td>\n",
       "      <td>[rs_DE111_0_19]</td>\n",
       "      <td>[rs_DE112_0_9, rs_DE111_0_19, c_DE111_0_2]</td>\n",
       "      <td>[rs_39373, rs_39374]</td>\n",
       "      <td>[(rs_DE111_0_19, c_DE111_0_2)]</td>\n",
       "      <td>...</td>\n",
       "      <td>7857.0</td>\n",
       "      <td>7857.0</td>\n",
       "      <td>973.895298</td>\n",
       "      <td>95.096806</td>\n",
       "      <td>420</td>\n",
       "      <td>0.0</td>\n",
       "      <td>0</td>\n",
       "      <td>1488.992104</td>\n",
       "      <td>rail_short</td>\n",
       "      <td>0-30</td>\n",
       "    </tr>\n",
       "  </tbody>\n",
       "</table>\n",
       "<p>3 rows × 27 columns</p>\n",
       "</div>"
      ],
      "text/plain": [
       "       origin destination    route_types  \\\n",
       "9372  DE112_0     DE111_0         (bus,)   \n",
       "9374  DE112_0     DE111_0   (rail_long,)   \n",
       "9375  DE112_0     DE111_0  (rail_short,)   \n",
       "\n",
       "                                                   path        gtime  \\\n",
       "9372  (DE112_0, rl_DE112_0_0, b_DE112_0_62, bus_1759...  2485.740450   \n",
       "9374  (DE112_0, rl_DE112_0_0, rl_2829, rl_DE111_0_0,...  3975.299809   \n",
       "9375  (DE112_0, rs_DE112_0_9, rs_39373, rs_39374, rs...  1888.992104   \n",
       "\n",
       "                         boardings                     alightings  \\\n",
       "9372  [b_DE112_0_62, b_DE112_0_28]  [b_DE112_0_28, b_DE111_0_201]   \n",
       "9374                [rl_DE112_0_0]                 [rl_DE111_0_0]   \n",
       "9375                [rs_DE112_0_9]                [rs_DE111_0_19]   \n",
       "\n",
       "                                              node_path  \\\n",
       "9372  [rl_DE112_0_0, b_DE112_0_62, b_DE112_0_28, b_D...   \n",
       "9374                       [rl_DE112_0_0, rl_DE111_0_0]   \n",
       "9375         [rs_DE112_0_9, rs_DE111_0_19, c_DE111_0_2]   \n",
       "\n",
       "                      link_path  \\\n",
       "9372  [bus_1759823, bus_494386]   \n",
       "9374                  [rl_2829]   \n",
       "9375       [rs_39373, rs_39374]   \n",
       "\n",
       "                                              footpaths  ... length_link_path  \\\n",
       "9372  [(rl_DE112_0_0, b_DE112_0_62), (b_DE111_0_201,...  ...          10759.0   \n",
       "9374                                                 []  ...          16857.0   \n",
       "9375                     [(rs_DE111_0_19, c_DE111_0_2)]  ...           7857.0   \n",
       "\n",
       "       length access_time footpath_time  in_vehicle_time  waiting_time  \\\n",
       "9372  10759.0  951.772976    114.467473              360         600.0   \n",
       "9374  16857.0  915.299809      0.000000             1260           0.0   \n",
       "9375   7857.0  973.895298     95.096806              420           0.0   \n",
       "\n",
       "      boarding_time         time  route_type   bins  \n",
       "9372              0  2026.240450         bus  31-60  \n",
       "9374              0  2175.299809   rail_long  31-60  \n",
       "9375              0  1488.992104  rail_short   0-30  \n",
       "\n",
       "[3 rows x 27 columns]"
      ]
     },
     "execution_count": 74,
     "metadata": {},
     "output_type": "execute_result"
    }
   ],
   "source": [
    "# Stuttgart and surrounding?\n",
    "sm.pt_los.loc[(sm.pt_los['origin']=='DE112_0')&(sm.pt_los['destination']=='DE111_0')]"
   ]
  },
  {
   "cell_type": "code",
   "execution_count": 68,
   "metadata": {},
   "outputs": [
    {
     "name": "stdout",
     "output_type": "stream",
     "text": [
      "13221200\n"
     ]
    }
   ],
   "source": [
    "print(len(sm.pt_los))\n",
    "assert sm.pt_los.isna().any(axis=1).max() == 0"
   ]
  },
  {
   "cell_type": "markdown",
   "metadata": {},
   "source": [
    "## Save model"
   ]
  },
  {
   "cell_type": "code",
   "execution_count": 75,
   "metadata": {},
   "outputs": [],
   "source": [
    "# Ditch unneccessary columns\n",
    "to_drop = ['gtime', 'path', 'reversed', 'pathfinder_session',\n",
    "           'broken_modes', 'boardings', 'alightings', 'node_path',\n",
    "           'footpaths', 'ntlegs', 'transfers', 'boarding_links',\n",
    "           'alighting_links', 'all_walk', 'time_link_path',\n",
    "           'length_link_path', 'boarding_time', 'index', 'bins']\n",
    "sm.pt_los = sm.pt_los.drop(to_drop, axis=1, errors='ignore')"
   ]
  },
  {
   "cell_type": "code",
   "execution_count": 76,
   "metadata": {},
   "outputs": [],
   "source": [
    "# Clean links table\n",
    "to_drop = ['duration', 'cost', 'origin', 'destination']\n",
    "sm.links = sm.links.drop(to_drop, axis=1, errors='ignore')"
   ]
  },
  {
   "cell_type": "code",
   "execution_count": 77,
   "metadata": {},
   "outputs": [],
   "source": [
    "# Make table smaller\n",
    "cols = ['time', 'access_time', 'in_vehicle_time', 'footpath_time',\n",
    "        'waiting_time', 'length']\n",
    "sm.pt_los[cols] = sm.pt_los[cols].astype(int)"
   ]
  },
  {
   "cell_type": "code",
   "execution_count": 78,
   "metadata": {},
   "outputs": [
    {
     "data": {
      "text/html": [
       "<div>\n",
       "<style scoped>\n",
       "    .dataframe tbody tr th:only-of-type {\n",
       "        vertical-align: middle;\n",
       "    }\n",
       "\n",
       "    .dataframe tbody tr th {\n",
       "        vertical-align: top;\n",
       "    }\n",
       "\n",
       "    .dataframe thead th {\n",
       "        text-align: right;\n",
       "    }\n",
       "</style>\n",
       "<table border=\"1\" class=\"dataframe\">\n",
       "  <thead>\n",
       "    <tr style=\"text-align: right;\">\n",
       "      <th></th>\n",
       "      <th>origin</th>\n",
       "      <th>destination</th>\n",
       "      <th>route_types</th>\n",
       "      <th>link_path</th>\n",
       "      <th>ntransfers</th>\n",
       "      <th>length</th>\n",
       "      <th>access_time</th>\n",
       "      <th>footpath_time</th>\n",
       "      <th>in_vehicle_time</th>\n",
       "      <th>waiting_time</th>\n",
       "      <th>time</th>\n",
       "      <th>route_type</th>\n",
       "    </tr>\n",
       "  </thead>\n",
       "  <tbody>\n",
       "    <tr>\n",
       "      <th>3245513</th>\n",
       "      <td>DE21I_0</td>\n",
       "      <td>DE12C_2</td>\n",
       "      <td>(rail_short, rail_long)</td>\n",
       "      <td>[rs_36709, rs_36710, rs_36711, rs_36712, rs_36...</td>\n",
       "      <td>3</td>\n",
       "      <td>252720</td>\n",
       "      <td>1506</td>\n",
       "      <td>0</td>\n",
       "      <td>12060</td>\n",
       "      <td>4200</td>\n",
       "      <td>17766</td>\n",
       "      <td>rail_long</td>\n",
       "    </tr>\n",
       "  </tbody>\n",
       "</table>\n",
       "</div>"
      ],
      "text/plain": [
       "          origin destination              route_types  \\\n",
       "3245513  DE21I_0     DE12C_2  (rail_short, rail_long)   \n",
       "\n",
       "                                                 link_path  ntransfers  \\\n",
       "3245513  [rs_36709, rs_36710, rs_36711, rs_36712, rs_36...           3   \n",
       "\n",
       "         length  access_time  footpath_time  in_vehicle_time  waiting_time  \\\n",
       "3245513  252720         1506              0            12060          4200   \n",
       "\n",
       "          time route_type  \n",
       "3245513  17766  rail_long  "
      ]
     },
     "execution_count": 78,
     "metadata": {},
     "output_type": "execute_result"
    }
   ],
   "source": [
    "sm.pt_los.sample()"
   ]
  },
  {
   "cell_type": "code",
   "execution_count": 79,
   "metadata": {},
   "outputs": [
    {
     "name": "stderr",
     "output_type": "stream",
     "text": [
      "to_hdf(overwriting): 100%|█████████████████████████████████████████████████████████████| 15/15 [02:28<00:00,  9.92s/it]\n"
     ]
    }
   ],
   "source": [
    "# Saving LoS...\n",
    "sm.to_zippedpickles(model_path + 'de_pt_los', only_attributes=['pt_los'])"
   ]
  }
 ],
 "metadata": {
  "kernelspec": {
   "display_name": "Python 3 (ipykernel)",
   "language": "python",
   "name": "python3"
  },
  "language_info": {
   "codemirror_mode": {
    "name": "ipython",
    "version": 3
   },
   "file_extension": ".py",
   "mimetype": "text/x-python",
   "name": "python",
   "nbconvert_exporter": "python",
   "pygments_lexer": "ipython3",
   "version": "3.8.13"
  }
 },
 "nbformat": 4,
 "nbformat_minor": 2
}
