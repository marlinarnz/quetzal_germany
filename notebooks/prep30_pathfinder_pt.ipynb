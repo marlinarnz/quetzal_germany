{
 "cells": [
  {
   "cell_type": "code",
   "execution_count": 1,
   "metadata": {},
   "outputs": [
    {
     "name": "stderr",
     "output_type": "stream",
     "text": [
      "\n",
      "Bad key text.latex.preview in file C:\\Users\\marlin.arnz\\AppData\\Local\\Continuum\\miniconda3\\envs\\quetzal\\lib\\site-packages\\matplotlib\\mpl-data\\stylelib\\_classic_test.mplstyle, line 123 ('text.latex.preview : False')\n",
      "You probably need to get an updated matplotlibrc file from\n",
      "https://github.com/matplotlib/matplotlib/blob/v3.5.2/matplotlibrc.template\n",
      "or from the matplotlib source distribution\n",
      "\n",
      "Bad key mathtext.fallback_to_cm in file C:\\Users\\marlin.arnz\\AppData\\Local\\Continuum\\miniconda3\\envs\\quetzal\\lib\\site-packages\\matplotlib\\mpl-data\\stylelib\\_classic_test.mplstyle, line 155 ('mathtext.fallback_to_cm : True  # When True, use symbols from the Computer Modern')\n",
      "You probably need to get an updated matplotlibrc file from\n",
      "https://github.com/matplotlib/matplotlib/blob/v3.5.2/matplotlibrc.template\n",
      "or from the matplotlib source distribution\n",
      "\n",
      "Bad key savefig.jpeg_quality in file C:\\Users\\marlin.arnz\\AppData\\Local\\Continuum\\miniconda3\\envs\\quetzal\\lib\\site-packages\\matplotlib\\mpl-data\\stylelib\\_classic_test.mplstyle, line 418 ('savefig.jpeg_quality: 95       # when a jpeg is saved, the default quality parameter.')\n",
      "You probably need to get an updated matplotlibrc file from\n",
      "https://github.com/matplotlib/matplotlib/blob/v3.5.2/matplotlibrc.template\n",
      "or from the matplotlib source distribution\n",
      "\n",
      "Bad key keymap.all_axes in file C:\\Users\\marlin.arnz\\AppData\\Local\\Continuum\\miniconda3\\envs\\quetzal\\lib\\site-packages\\matplotlib\\mpl-data\\stylelib\\_classic_test.mplstyle, line 466 ('keymap.all_axes : a                 # enable all axes')\n",
      "You probably need to get an updated matplotlibrc file from\n",
      "https://github.com/matplotlib/matplotlib/blob/v3.5.2/matplotlibrc.template\n",
      "or from the matplotlib source distribution\n",
      "\n",
      "Bad key animation.avconv_path in file C:\\Users\\marlin.arnz\\AppData\\Local\\Continuum\\miniconda3\\envs\\quetzal\\lib\\site-packages\\matplotlib\\mpl-data\\stylelib\\_classic_test.mplstyle, line 477 ('animation.avconv_path: avconv     # Path to avconv binary. Without full path')\n",
      "You probably need to get an updated matplotlibrc file from\n",
      "https://github.com/matplotlib/matplotlib/blob/v3.5.2/matplotlibrc.template\n",
      "or from the matplotlib source distribution\n",
      "\n",
      "Bad key animation.avconv_args in file C:\\Users\\marlin.arnz\\AppData\\Local\\Continuum\\miniconda3\\envs\\quetzal\\lib\\site-packages\\matplotlib\\mpl-data\\stylelib\\_classic_test.mplstyle, line 479 ('animation.avconv_args:            # Additional arguments to pass to avconv')\n",
      "You probably need to get an updated matplotlibrc file from\n",
      "https://github.com/matplotlib/matplotlib/blob/v3.5.2/matplotlibrc.template\n",
      "or from the matplotlib source distribution\n"
     ]
    }
   ],
   "source": [
    "import sys # for automation and parallelisation\n",
    "manual, scenario = (True, 'base') if 'ipykernel' in sys.argv[0] else (False, sys.argv[1])\n",
    "if manual:\n",
    "    %matplotlib inline"
   ]
  },
  {
   "cell_type": "code",
   "execution_count": 2,
   "metadata": {},
   "outputs": [],
   "source": [
    "import os\n",
    "import json\n",
    "import numpy as np\n",
    "import pandas as pd\n",
    "from tqdm import tqdm\n",
    "from quetzal.model import stepmodel\n",
    "from quetzal.analysis import analysis\n",
    "from quetzal.engine.pathfinder import PublicPathFinder\n",
    "from syspy.skims import skims\n",
    "from quetzal.engine import engine\n",
    "from quetzal.io import excel\n",
    "from quetzal.os.parallel_call import parallel_call_notebook"
   ]
  },
  {
   "cell_type": "markdown",
   "metadata": {},
   "source": [
    "# Preparation of the LoS tables\n",
    "## Saves a StepModel with shortest paths and LoS attributes for the PT network\n",
    "## Needs aggregated PT networks"
   ]
  },
  {
   "cell_type": "code",
   "execution_count": 3,
   "metadata": {},
   "outputs": [],
   "source": [
    "input_path = '../input/'\n",
    "output_path = '../output/'\n",
    "model_path = '../model/' + scenario + '/'"
   ]
  },
  {
   "cell_type": "code",
   "execution_count": 4,
   "metadata": {},
   "outputs": [],
   "source": [
    "# Create a path for scenario-specific model files\n",
    "if not os.path.exists(model_path):\n",
    "    os.makedirs(model_path)"
   ]
  },
  {
   "cell_type": "code",
   "execution_count": 5,
   "metadata": {},
   "outputs": [],
   "source": [
    "# Load scenario parameters\n",
    "params = excel.read_var(file='../input/parameters.xls', scenario=scenario)"
   ]
  },
  {
   "cell_type": "code",
   "execution_count": 6,
   "metadata": {},
   "outputs": [],
   "source": [
    "# Before loading the networks: Check, if on-demand network shall be built\n",
    "if params['on-demand_bus']['activate'] == 1:\n",
    "    kwargs = {'workers':4, 'errout_suffix':True, 'sleep':1,'stdout_path':r'log/out.txt', 'stderr_path':r'log/err.txt'}\n",
    "    parallel_call_notebook('prep23_local_on-demand_pt.ipynb', arg_list=[scenario], **kwargs)"
   ]
  },
  {
   "cell_type": "code",
   "execution_count": 7,
   "metadata": {},
   "outputs": [],
   "source": [
    "# Load PT network\n",
    "try:\n",
    "    sm = stepmodel.read_json(model_path + 'de_pt_network_agg')\n",
    "except FileNotFoundError:\n",
    "    sm = stepmodel.read_json(model_path.replace(scenario, 'base') + 'de_pt_network_agg')\n",
    "try:\n",
    "    ae = stepmodel.read_json(model_path + 'de_pt_access_egress')\n",
    "except FileNotFoundError:\n",
    "    ae = stepmodel.read_json(model_path.replace(scenario, 'base') + 'de_pt_access_egress')\n",
    "try:\n",
    "    aux = stepmodel.read_json(model_path + 'de_pt_network_ancillary')\n",
    "except FileNotFoundError:\n",
    "    aux = stepmodel.read_json(model_path.replace(scenario, 'base') + 'de_pt_network_ancillary')"
   ]
  },
  {
   "cell_type": "code",
   "execution_count": 8,
   "metadata": {},
   "outputs": [],
   "source": [
    "sm.centroids = ae.centroids\n",
    "sm.footpaths = ae.footpaths\n",
    "sm.zone_to_transit = ae.zone_to_transit"
   ]
  },
  {
   "cell_type": "code",
   "execution_count": 9,
   "metadata": {},
   "outputs": [
    {
     "data": {
      "text/plain": [
       "(207758, 10)"
      ]
     },
     "execution_count": 9,
     "metadata": {},
     "output_type": "execute_result"
    }
   ],
   "source": [
    "sm.links.shape"
   ]
  },
  {
   "cell_type": "markdown",
   "metadata": {},
   "source": [
    "## Prepare links for pathfinder\n",
    "\n",
    "Headways are relevant for the pathfinder in order to determine optimal interchange patterns. The waiting time (= half the headway) at the initial boarding station will be substracted from the route time. Instead, a constant \"wait at station\" time is added to access links. This does not depend on the itinerary, but only on travel behaviour and perception."
   ]
  },
  {
   "cell_type": "code",
   "execution_count": 10,
   "metadata": {},
   "outputs": [],
   "source": [
    "# aggregate local bus and tram, underground, ferry, funicular\n",
    "if 'subway' in sm.links['route_type'].unique():\n",
    "    sm.links['route_type_disagg'] = sm.links['route_type'].copy()\n",
    "    sm.links['route_type'] = sm.links['route_type'].replace(\n",
    "        {'tram': 'bus', 'subway': 'bus', 'ferry': 'bus', 'funicular': 'bus'})\n",
    "    sm.pt_route_types = list(sm.links['route_type'].unique())"
   ]
  },
  {
   "cell_type": "code",
   "execution_count": 11,
   "metadata": {},
   "outputs": [
    {
     "data": {
      "text/html": [
       "<div>\n",
       "<style scoped>\n",
       "    .dataframe tbody tr th:only-of-type {\n",
       "        vertical-align: middle;\n",
       "    }\n",
       "\n",
       "    .dataframe tbody tr th {\n",
       "        vertical-align: top;\n",
       "    }\n",
       "\n",
       "    .dataframe thead th {\n",
       "        text-align: right;\n",
       "    }\n",
       "</style>\n",
       "<table border=\"1\" class=\"dataframe\">\n",
       "  <thead>\n",
       "    <tr style=\"text-align: right;\">\n",
       "      <th></th>\n",
       "      <th>a</th>\n",
       "    </tr>\n",
       "    <tr>\n",
       "      <th>route_type</th>\n",
       "      <th></th>\n",
       "    </tr>\n",
       "  </thead>\n",
       "  <tbody>\n",
       "  </tbody>\n",
       "</table>\n",
       "</div>"
      ],
      "text/plain": [
       "Empty DataFrame\n",
       "Columns: [a]\n",
       "Index: []"
      ]
     },
     "execution_count": 11,
     "metadata": {},
     "output_type": "execute_result"
    }
   ],
   "source": [
    "# Route types without headway\n",
    "sm.links.loc[sm.links['headway'].isna()].groupby('route_type').agg({'a': 'count'})"
   ]
  },
  {
   "cell_type": "code",
   "execution_count": 12,
   "metadata": {},
   "outputs": [],
   "source": [
    "sm.links['headway'] = sm.links['headway'].fillna(2*3600)"
   ]
  },
  {
   "cell_type": "code",
   "execution_count": 13,
   "metadata": {},
   "outputs": [],
   "source": [
    "# Minimum headways of each route\n",
    "sm.links['headway_route'] = sm.links['route_id'].map(\n",
    "    sm.links.groupby('route_id').agg({'headway': 'min'}).to_dict()['headway'])"
   ]
  },
  {
   "cell_type": "code",
   "execution_count": 14,
   "metadata": {},
   "outputs": [
    {
     "data": {
      "text/plain": [
       "array([[<AxesSubplot:title={'center':'headway_route'}>,\n",
       "        <AxesSubplot:title={'center':'headway'}>]], dtype=object)"
      ]
     },
     "execution_count": 14,
     "metadata": {},
     "output_type": "execute_result"
    },
    {
     "data": {
      "image/png": "[encoded data removed]",
      "text/plain": [
       "<Figure size 864x216 with 2 Axes>"
      ]
     },
     "metadata": {
      "needs_background": "light"
     },
     "output_type": "display_data"
    }
   ],
   "source": [
    "# Route headways seem to make route choice more reliable\n",
    "(sm.links[['headway_route', 'headway']]/60/2).hist(bins=100, figsize=(12,3), sharey=True)"
   ]
  },
  {
   "cell_type": "code",
   "execution_count": 15,
   "metadata": {},
   "outputs": [],
   "source": [
    "# Set a maximum headway in order to not confuse the pathfinder\n",
    "urban_dict = sm.nodes['FID'].map(sm.zones['urbanisation'].to_dict()).to_dict()\n",
    "for u in set(sm.zones['urbanisation']):\n",
    "    for mode in sm.pt_route_types:\n",
    "        mask = (sm.links['route_type']==mode)&(sm.links['a'].map(urban_dict)==u)\n",
    "        sm.links.loc[mask, 'headway'] = np.minimum(\n",
    "            sm.links.loc[mask, 'headway_route'],\n",
    "            params['max_headway_urban'+str(int(u))][mode])\n",
    "#sm.links['headway'] = sm.links['headway_route']"
   ]
  },
  {
   "cell_type": "code",
   "execution_count": 16,
   "metadata": {},
   "outputs": [],
   "source": [
    "sm.links['headway'] = sm.links['headway'].astype(int)"
   ]
  },
  {
   "cell_type": "code",
   "execution_count": 17,
   "metadata": {},
   "outputs": [
    {
     "data": {
      "image/png": "[encoded data removed]",
      "text/plain": [
       "<Figure size 432x216 with 1 Axes>"
      ]
     },
     "metadata": {
      "needs_background": "light"
     },
     "output_type": "display_data"
    }
   ],
   "source": [
    "# Waiting time distribution in minutes\n",
    "if manual: (sm.links['headway']/60/2).hist(bins=100, figsize=(6,3), log=False)"
   ]
  },
  {
   "cell_type": "code",
   "execution_count": 18,
   "metadata": {},
   "outputs": [
    {
     "data": {
      "text/html": [
       "<div>\n",
       "<style scoped>\n",
       "    .dataframe tbody tr th:only-of-type {\n",
       "        vertical-align: middle;\n",
       "    }\n",
       "\n",
       "    .dataframe tbody tr th {\n",
       "        vertical-align: top;\n",
       "    }\n",
       "\n",
       "    .dataframe thead th {\n",
       "        text-align: right;\n",
       "    }\n",
       "</style>\n",
       "<table border=\"1\" class=\"dataframe\">\n",
       "  <thead>\n",
       "    <tr style=\"text-align: right;\">\n",
       "      <th></th>\n",
       "      <th>headway</th>\n",
       "    </tr>\n",
       "    <tr>\n",
       "      <th>route_type</th>\n",
       "      <th></th>\n",
       "    </tr>\n",
       "  </thead>\n",
       "  <tbody>\n",
       "    <tr>\n",
       "      <th>air</th>\n",
       "      <td>45.000000</td>\n",
       "    </tr>\n",
       "    <tr>\n",
       "      <th>bus</th>\n",
       "      <td>36.656198</td>\n",
       "    </tr>\n",
       "    <tr>\n",
       "      <th>coach</th>\n",
       "      <td>69.049215</td>\n",
       "    </tr>\n",
       "    <tr>\n",
       "      <th>rail_long</th>\n",
       "      <td>31.872316</td>\n",
       "    </tr>\n",
       "    <tr>\n",
       "      <th>rail_short</th>\n",
       "      <td>24.064720</td>\n",
       "    </tr>\n",
       "  </tbody>\n",
       "</table>\n",
       "</div>"
      ],
      "text/plain": [
       "              headway\n",
       "route_type           \n",
       "air         45.000000\n",
       "bus         36.656198\n",
       "coach       69.049215\n",
       "rail_long   31.872316\n",
       "rail_short  24.064720"
      ]
     },
     "execution_count": 18,
     "metadata": {},
     "output_type": "execute_result"
    }
   ],
   "source": [
    "# Average waiting time\n",
    "sm.links.groupby('route_type').agg({'headway': 'mean'})/60/2"
   ]
  },
  {
   "cell_type": "code",
   "execution_count": 19,
   "metadata": {},
   "outputs": [],
   "source": [
    "# Set a mode-specific transfer penalty\n",
    "# It will be substracted later\n",
    "time_dict = params['transfer_penalty']\n",
    "sm.links['boarding_time'] = sm.links['route_type'].map(time_dict) # in s"
   ]
  },
  {
   "cell_type": "code",
   "execution_count": 20,
   "metadata": {},
   "outputs": [],
   "source": [
    "# Generate length for PT links\n",
    "if 'length' not in sm.links.columns:\n",
    "    sm.links['length'] = skims.distance_from_geometry(sm.links['geometry']).astype(int)\n",
    "    # Adjust coach transport towards road distances\n",
    "    sm.links.loc[sm.links['route_type']=='coach', 'length'] *= 1.136"
   ]
  },
  {
   "cell_type": "code",
   "execution_count": 21,
   "metadata": {},
   "outputs": [
    {
     "data": {
      "text/html": [
       "<div>\n",
       "<style scoped>\n",
       "    .dataframe tbody tr th:only-of-type {\n",
       "        vertical-align: middle;\n",
       "    }\n",
       "\n",
       "    .dataframe tbody tr th {\n",
       "        vertical-align: top;\n",
       "    }\n",
       "\n",
       "    .dataframe thead th {\n",
       "        text-align: right;\n",
       "    }\n",
       "</style>\n",
       "<table border=\"1\" class=\"dataframe\">\n",
       "  <thead>\n",
       "    <tr style=\"text-align: right;\">\n",
       "      <th></th>\n",
       "      <th>route_type</th>\n",
       "      <th>geometry</th>\n",
       "      <th>a</th>\n",
       "      <th>b</th>\n",
       "      <th>link_sequence</th>\n",
       "      <th>route_id</th>\n",
       "      <th>time</th>\n",
       "      <th>trip_id</th>\n",
       "      <th>headway</th>\n",
       "      <th>route_type_disagg</th>\n",
       "      <th>headway_route</th>\n",
       "      <th>boarding_time</th>\n",
       "      <th>length</th>\n",
       "    </tr>\n",
       "    <tr>\n",
       "      <th>index</th>\n",
       "      <th></th>\n",
       "      <th></th>\n",
       "      <th></th>\n",
       "      <th></th>\n",
       "      <th></th>\n",
       "      <th></th>\n",
       "      <th></th>\n",
       "      <th></th>\n",
       "      <th></th>\n",
       "      <th></th>\n",
       "      <th></th>\n",
       "      <th></th>\n",
       "      <th></th>\n",
       "    </tr>\n",
       "  </thead>\n",
       "  <tbody>\n",
       "    <tr>\n",
       "      <th>bus_707119</th>\n",
       "      <td>bus</td>\n",
       "      <td>LINESTRING (10.98528 48.92622, 10.99534 48.89459)</td>\n",
       "      <td>b_95770158_8</td>\n",
       "      <td>b_95770168_0</td>\n",
       "      <td>3</td>\n",
       "      <td>bus_14376</td>\n",
       "      <td>300</td>\n",
       "      <td>bus_14376_11_nb</td>\n",
       "      <td>7200</td>\n",
       "      <td>bus</td>\n",
       "      <td>43200</td>\n",
       "      <td>0</td>\n",
       "      <td>3593.0</td>\n",
       "    </tr>\n",
       "  </tbody>\n",
       "</table>\n",
       "</div>"
      ],
      "text/plain": [
       "           route_type                                           geometry  \\\n",
       "index                                                                      \n",
       "bus_707119        bus  LINESTRING (10.98528 48.92622, 10.99534 48.89459)   \n",
       "\n",
       "                       a             b  link_sequence   route_id  time  \\\n",
       "index                                                                    \n",
       "bus_707119  b_95770158_8  b_95770168_0              3  bus_14376   300   \n",
       "\n",
       "                    trip_id  headway route_type_disagg  headway_route  \\\n",
       "index                                                                   \n",
       "bus_707119  bus_14376_11_nb     7200               bus          43200   \n",
       "\n",
       "           boarding_time  length  \n",
       "index                             \n",
       "bus_707119             0  3593.0  "
      ]
     },
     "execution_count": 21,
     "metadata": {},
     "output_type": "execute_result"
    }
   ],
   "source": [
    "sm.links.sample()"
   ]
  },
  {
   "cell_type": "code",
   "execution_count": 22,
   "metadata": {},
   "outputs": [],
   "source": [
    "# Delete footpaths between centroids as they might confuse the pathfinder\n",
    "# Add them later anew\n",
    "sm.footpaths = sm.footpaths.loc[~((sm.footpaths['a'].isin(sm.centroids.index)) |\n",
    "                                  (sm.footpaths['b'].isin(sm.centroids.index)) |\n",
    "                                  (sm.footpaths['a']==sm.footpaths['b']))]"
   ]
  },
  {
   "cell_type": "markdown",
   "metadata": {},
   "source": [
    "### Policies"
   ]
  },
  {
   "cell_type": "code",
   "execution_count": 23,
   "metadata": {},
   "outputs": [],
   "source": [
    "# Delete air links under a distance threshold\n",
    "sm.links = sm.links.loc[~((sm.links['route_type']=='air')\n",
    "                          & (sm.links['length']<params['clean_los']['min_dist_air'])\n",
    "                         )]"
   ]
  },
  {
   "cell_type": "markdown",
   "metadata": {},
   "source": [
    "### Check zone_to_transit connectors\n",
    "\n",
    "All zones need connectors"
   ]
  },
  {
   "cell_type": "code",
   "execution_count": 24,
   "metadata": {},
   "outputs": [],
   "source": [
    "# Add missing connectors\n",
    "ntlegs = engine.ntlegs_from_centroids_and_nodes(\n",
    "    sm.centroids.loc[list(set(sm.zones.index) - set(sm.zone_to_transit['a']))],\n",
    "    sm.nodes.loc[sm.nodes['route_type']=='bus'],\n",
    "    short_leg_speed=params['pt_access']['speed_walk'],\n",
    "    long_leg_speed=params['pt_access']['speed_bicycle'],\n",
    "    threshold=params['pt_access']['catchment_radius_walk'],\n",
    "    n_neighbors=1,\n",
    "    coordinates_unit=sm.coordinates_unit)\n",
    "sm.zone_to_transit = pd.concat([\n",
    "    sm.zone_to_transit,\n",
    "    ntlegs[list(set(sm.zone_to_transit.columns).intersection(set(ntlegs.columns)))]]\n",
    ").reset_index(drop=True)"
   ]
  },
  {
   "cell_type": "code",
   "execution_count": 25,
   "metadata": {},
   "outputs": [],
   "source": [
    "assert set(sm.zones.index) - set(sm.zone_to_transit['a']) == set()"
   ]
  },
  {
   "cell_type": "code",
   "execution_count": 26,
   "metadata": {},
   "outputs": [],
   "source": [
    "# Add a initial waiting time for PT access legs\n",
    "sm.zone_to_transit.loc[sm.zone_to_transit['direction']=='access', 'time'] += \\\n",
    "    params['access-egress_links']['time_pt']"
   ]
  },
  {
   "cell_type": "markdown",
   "metadata": {},
   "source": [
    "## Load or generate the OD set\n",
    "\n",
    "Call the corresponding notebook to generate a sparsified OD set, if not yet existent, but required in the scenario settings"
   ]
  },
  {
   "cell_type": "code",
   "execution_count": 28,
   "metadata": {},
   "outputs": [
    {
     "name": "stdout",
     "output_type": "stream",
     "text": [
      "Found OD set with 202024 pairs\n"
     ]
    }
   ],
   "source": [
    "od_set = None\n",
    "try:\n",
    "    od_set = json.load(open(model_path + 'od_set.json'))\n",
    "    od_set = set([tuple(l) for l in od_set])\n",
    "    print('Found OD set with {} pairs'.format(len(od_set)))\n",
    "except FileNotFoundError:\n",
    "    # Generate a new one, if required\n",
    "    if params['general']['od_sparse_sample'] > 0 and not scenario.endswith('equilibrium'):\n",
    "        print('Generating OD set')\n",
    "        kwargs = {'workers':1, 'errout_suffix':True, 'sleep':1,'stdout_path':r'log/out.txt', 'stderr_path':r'log/err.txt'}\n",
    "        parallel_call_notebook('sparsify_od_set.ipynb', arg_list=[scenario], **kwargs)\n",
    "        od_set = json.load(open(model_path + 'od_set.json'))\n",
    "        od_set = set([tuple(l) for l in od_set])\n",
    "        print('Found OD set with {} pairs'.format(len(od_set)))\n",
    "    else:\n",
    "        print('Running the pathfinder with full OD set')"
   ]
  },
  {
   "cell_type": "markdown",
   "metadata": {},
   "source": [
    "## Apply PT pathfinder\n",
    "\n",
    "It generates the LoS table with shortest paths for each origin destination pair"
   ]
  },
  {
   "cell_type": "code",
   "execution_count": 29,
   "metadata": {},
   "outputs": [],
   "source": [
    "# We don't want the algorithm to search paths for all mode combinations.\n",
    "# Thus, we have to extract the pathfinder and search them manually.\n",
    "ppf = PublicPathFinder(sm)"
   ]
  },
  {
   "cell_type": "code",
   "execution_count": 30,
   "metadata": {},
   "outputs": [
    {
     "data": {
      "text/plain": [
       "[{'air', 'bus', 'coach', 'rail_long'},\n",
       " {'bus', 'coach', 'rail_long', 'rail_short'},\n",
       " {'air', 'coach', 'rail_long', 'rail_short'},\n",
       " {'air', 'bus', 'coach', 'rail_short'},\n",
       " {'air', 'bus', 'rail_long', 'rail_short'},\n",
       " {'air', 'bus', 'coach', 'rail_long', 'rail_short'},\n",
       " {'air', 'coach', 'rail_long'},\n",
       " {'air', 'coach'},\n",
       " {'air', 'rail_long', 'rail_short'},\n",
       " {'coach', 'rail_long'}]"
      ]
     },
     "execution_count": 30,
     "metadata": {},
     "output_type": "execute_result"
    }
   ],
   "source": [
    "# Now, build custom mode combinations to find paths for\n",
    "# The combinations are modes that are NOT used in this path\n",
    "#ppf.build_mode_combinations(mode_column='route_type')\n",
    "all_types = set(sm.links['route_type'])\n",
    "ppf.mode_combinations = [all_types - {t} for t in all_types] # single modes\n",
    "ppf.mode_combinations.append(all_types) # just walking/cycling\n",
    "ppf.mode_combinations.append(all_types - {'bus', 'rail_short'}) # short-distance only\n",
    "ppf.mode_combinations.append(all_types - {'bus', 'rail_short', 'rail_long'}) # rail combo\n",
    "ppf.mode_combinations.append(all_types - {'bus', 'coach'}) # road PT combo\n",
    "ppf.mode_combinations.append(all_types - {'bus', 'rail_short', 'air'}) # air and local\n",
    "ppf.mode_combinations"
   ]
  },
  {
   "cell_type": "code",
   "execution_count": 31,
   "metadata": {
    "scrolled": true
   },
   "outputs": [
    {
     "name": "stderr",
     "output_type": "stream",
     "text": [
      "breaking modes: {'rail_long', 'coach'} : 100%|██████████████████████████████████████| 10/10 [2:01:59<00:00, 731.97s/it]\n"
     ]
    }
   ],
   "source": [
    "# Run the pathfinder for all mode combinations\n",
    "# If there is no boarding time column in links table:\n",
    "# Include a transfer penalty in order to promote direct routes.\n",
    "# It will be substracted later\n",
    "# The penalty must be None, if a link boarding time is set\n",
    "transfer_penalty = None\n",
    "ppf.find_broken_mode_paths(cutoff=np.inf,\n",
    "                           od_set=od_set,\n",
    "                           mode_column='route_type',\n",
    "                           boarding_time=transfer_penalty,\n",
    "                           prune=False)"
   ]
  },
  {
   "cell_type": "code",
   "execution_count": 32,
   "metadata": {},
   "outputs": [],
   "source": [
    "# Free some RAM\n",
    "cols = ['origin', 'destination', 'path', 'gtime']\n",
    "sm.pt_los = ppf.broken_mode_paths[cols]\n",
    "ppf.broken_mode_paths = ppf.broken_mode_paths[cols]\n",
    "ppf.zones = None\n",
    "ppf.links = None\n",
    "ppf.centroids = None\n",
    "ppf.footpaths = None\n",
    "ppf.ntlegs = None"
   ]
  },
  {
   "cell_type": "code",
   "execution_count": 33,
   "metadata": {},
   "outputs": [
    {
     "name": "stdout",
     "output_type": "stream",
     "text": [
      "(1037569, 4)\n"
     ]
    },
    {
     "data": {
      "text/html": [
       "<div>\n",
       "<style scoped>\n",
       "    .dataframe tbody tr th:only-of-type {\n",
       "        vertical-align: middle;\n",
       "    }\n",
       "\n",
       "    .dataframe tbody tr th {\n",
       "        vertical-align: top;\n",
       "    }\n",
       "\n",
       "    .dataframe thead th {\n",
       "        text-align: right;\n",
       "    }\n",
       "</style>\n",
       "<table border=\"1\" class=\"dataframe\">\n",
       "  <thead>\n",
       "    <tr style=\"text-align: right;\">\n",
       "      <th></th>\n",
       "      <th>origin</th>\n",
       "      <th>destination</th>\n",
       "      <th>path</th>\n",
       "      <th>gtime</th>\n",
       "    </tr>\n",
       "  </thead>\n",
       "  <tbody>\n",
       "    <tr>\n",
       "      <th>7833370</th>\n",
       "      <td>81265002</td>\n",
       "      <td>53820068</td>\n",
       "      <td>[81265002, b_81265002_27, bus_1981029, bus_198...</td>\n",
       "      <td>41965.27783</td>\n",
       "    </tr>\n",
       "  </tbody>\n",
       "</table>\n",
       "</div>"
      ],
      "text/plain": [
       "           origin  destination  \\\n",
       "7833370  81265002     53820068   \n",
       "\n",
       "                                                      path        gtime  \n",
       "7833370  [81265002, b_81265002_27, bus_1981029, bus_198...  41965.27783  "
      ]
     },
     "execution_count": 33,
     "metadata": {},
     "output_type": "execute_result"
    }
   ],
   "source": [
    "# Drop inner-cell-connections\n",
    "sm.pt_los = sm.pt_los.loc[sm.pt_los['origin']!=sm.pt_los['destination']]\n",
    "print(sm.pt_los.shape)\n",
    "sm.pt_los.sample()"
   ]
  },
  {
   "cell_type": "code",
   "execution_count": 34,
   "metadata": {},
   "outputs": [
    {
     "data": {
      "text/plain": [
       "(801716, 4)"
      ]
     },
     "execution_count": 34,
     "metadata": {},
     "output_type": "execute_result"
    }
   ],
   "source": [
    "# Drop duplicate connections\n",
    "sm.pt_los['path'] = sm.pt_los['path'].apply(tuple)\n",
    "sm.pt_los.drop_duplicates('path', inplace=True)\n",
    "sm.pt_los.reset_index(drop=True, inplace=True)\n",
    "sm.pt_los.shape"
   ]
  },
  {
   "cell_type": "markdown",
   "metadata": {},
   "source": [
    "### Add attributes to LoS table"
   ]
  },
  {
   "cell_type": "code",
   "execution_count": 35,
   "metadata": {},
   "outputs": [
    {
     "name": "stderr",
     "output_type": "stream",
     "text": [
      "path_analysis: 100%|█████████████████████████████████████████████████████████| 801716/801716 [01:41<00:00, 7931.35it/s]\n"
     ]
    }
   ],
   "source": [
    "# Run the path analysis and assign paths as LoS table\n",
    "sm.pt_los = analysis.path_analysis_od_matrix(\n",
    "    od_matrix=sm.pt_los,\n",
    "    links=sm.links,\n",
    "    nodes=sm.nodes,\n",
    "    centroids=sm.centroids)"
   ]
  },
  {
   "cell_type": "code",
   "execution_count": 36,
   "metadata": {},
   "outputs": [
    {
     "data": {
      "text/plain": [
       "(801282, 17)"
      ]
     },
     "execution_count": 36,
     "metadata": {},
     "output_type": "execute_result"
    }
   ],
   "source": [
    "# Drop connections that don't move along links\n",
    "# They usually take footpaths between stops to get to another zone\n",
    "sm.pt_los = sm.pt_los.loc[sm.pt_los['link_path'].apply(lambda l: len(l)>0)]\n",
    "sm.pt_los.shape"
   ]
  },
  {
   "cell_type": "code",
   "execution_count": 37,
   "metadata": {},
   "outputs": [],
   "source": [
    "# Add distances (Only path, not access/egress)\n",
    "len_dict = sm.links['length'].to_dict()\n",
    "sm.pt_los['length'] = sm.pt_los['link_path'].apply(lambda p: sum([len_dict[l] for l in p]))"
   ]
  },
  {
   "cell_type": "code",
   "execution_count": 38,
   "metadata": {},
   "outputs": [
    {
     "data": {
      "text/plain": [
       "Index(['origin', 'destination', 'path', 'gtime', 'boardings', 'alightings',\n",
       "       'node_path', 'link_path', 'footpaths', 'ntlegs', 'transfers',\n",
       "       'boarding_links', 'alighting_links', 'all_walk', 'ntransfers',\n",
       "       'time_link_path', 'length_link_path', 'length', 'access_time',\n",
       "       'footpath_time', 'in_vehicle_time', 'waiting_time', 'boarding_time',\n",
       "       'time'],\n",
       "      dtype='object')"
      ]
     },
     "execution_count": 38,
     "metadata": {},
     "output_type": "execute_result"
    }
   ],
   "source": [
    "# Disaggregate time into in-vehicle and access/egress\n",
    "# Substract the transfer penalty set above (put 0)\n",
    "if transfer_penalty is None:\n",
    "    sm.analysis_pt_time(boarding_time=None)\n",
    "    sm.pt_los['time'] -= sm.pt_los['boarding_time']\n",
    "#    sm.pt_los['boarding_time'] = 0\n",
    "else:\n",
    "    sm.analysis_pt_time(boarding_time=0)\n",
    "sm.pt_los.columns"
   ]
  },
  {
   "cell_type": "code",
   "execution_count": 39,
   "metadata": {},
   "outputs": [],
   "source": [
    "# Substract the waiting time at the first stop\n",
    "# for all modes but air (includes security checks etc.)\n",
    "headway_dict = sm.links['headway'].to_dict()\n",
    "mask = sm.pt_los['link_path'].apply(lambda l: l[0]).map(sm.links['route_type'])!='air'\n",
    "to_substract = sm.pt_los.loc[mask, 'link_path'].apply(lambda l: l[0]).map(headway_dict) / 2\n",
    "sm.pt_los.loc[mask, 'time'] -= to_substract\n",
    "sm.pt_los.loc[mask, 'waiting_time'] -= to_substract"
   ]
  },
  {
   "cell_type": "code",
   "execution_count": 40,
   "metadata": {},
   "outputs": [],
   "source": [
    "# Also substract waiting time for the second link\n",
    "# where on-demand services are the first link\n",
    "mask = (sm.pt_los['link_path'].apply(lambda l: l[0]).map(\n",
    "        sm.links['route_type_disagg'])=='on-demand') & \\\n",
    "       (sm.pt_los['link_path'].apply(lambda l: len(l)>1))\n",
    "if len(sm.pt_los.loc[mask]) > 0:\n",
    "    to_substract = sm.pt_los.loc[mask, 'link_path'].apply(lambda l: l[1]).map(headway_dict) / 2\n",
    "    sm.pt_los.loc[mask, 'time'] -= to_substract\n",
    "    sm.pt_los.loc[mask, 'waiting_time'] -= to_substract"
   ]
  },
  {
   "cell_type": "code",
   "execution_count": 41,
   "metadata": {},
   "outputs": [
    {
     "data": {
      "text/html": [
       "<div>\n",
       "<style scoped>\n",
       "    .dataframe tbody tr th:only-of-type {\n",
       "        vertical-align: middle;\n",
       "    }\n",
       "\n",
       "    .dataframe tbody tr th {\n",
       "        vertical-align: top;\n",
       "    }\n",
       "\n",
       "    .dataframe thead th {\n",
       "        text-align: right;\n",
       "    }\n",
       "</style>\n",
       "<table border=\"1\" class=\"dataframe\">\n",
       "  <thead>\n",
       "    <tr style=\"text-align: right;\">\n",
       "      <th></th>\n",
       "      <th>ntransfers</th>\n",
       "      <th>length</th>\n",
       "      <th>gtime</th>\n",
       "      <th>access_time</th>\n",
       "      <th>footpath_time</th>\n",
       "      <th>in_vehicle_time</th>\n",
       "      <th>waiting_time</th>\n",
       "      <th>boarding_time</th>\n",
       "      <th>time</th>\n",
       "    </tr>\n",
       "  </thead>\n",
       "  <tbody>\n",
       "    <tr>\n",
       "      <th>533006</th>\n",
       "      <td>4</td>\n",
       "      <td>509918.000</td>\n",
       "      <td>28116.908953</td>\n",
       "      <td>992.055441</td>\n",
       "      <td>184.853512</td>\n",
       "      <td>18420</td>\n",
       "      <td>4920.0</td>\n",
       "      <td>0</td>\n",
       "      <td>24516.908953</td>\n",
       "    </tr>\n",
       "    <tr>\n",
       "      <th>692948</th>\n",
       "      <td>5</td>\n",
       "      <td>461686.424</td>\n",
       "      <td>41905.069524</td>\n",
       "      <td>939.124652</td>\n",
       "      <td>45.944872</td>\n",
       "      <td>25020</td>\n",
       "      <td>12300.0</td>\n",
       "      <td>0</td>\n",
       "      <td>38305.069524</td>\n",
       "    </tr>\n",
       "  </tbody>\n",
       "</table>\n",
       "</div>"
      ],
      "text/plain": [
       "        ntransfers      length         gtime  access_time  footpath_time  \\\n",
       "533006           4  509918.000  28116.908953   992.055441     184.853512   \n",
       "692948           5  461686.424  41905.069524   939.124652      45.944872   \n",
       "\n",
       "        in_vehicle_time  waiting_time  boarding_time          time  \n",
       "533006            18420        4920.0              0  24516.908953  \n",
       "692948            25020       12300.0              0  38305.069524  "
      ]
     },
     "execution_count": 41,
     "metadata": {},
     "output_type": "execute_result"
    }
   ],
   "source": [
    "# Check times\n",
    "sm.pt_los[['ntransfers', 'length']+[c for c in sm.pt_los.columns if c[-4:]=='time']].sample(2)"
   ]
  },
  {
   "cell_type": "code",
   "execution_count": 42,
   "metadata": {},
   "outputs": [],
   "source": [
    "# Add route_types\n",
    "type_dict = sm.links['route_type'].to_dict()\n",
    "sm.pt_los['route_types'] = [set([type_dict[link] for link in l])\n",
    "                            for l in list(sm.pt_los['link_path'])]"
   ]
  },
  {
   "cell_type": "code",
   "execution_count": 43,
   "metadata": {},
   "outputs": [],
   "source": [
    "# Add main route_type based on a hierarchy\n",
    "hierarchy = ['air', 'coach', 'rail_long', 'rail_short', 'bus', 'walk']\n",
    "def main_type(types):\n",
    "    t = hierarchy[-1]\n",
    "    try:\n",
    "        t = hierarchy[min([hierarchy.index(t) for t in types])]\n",
    "    except ValueError: # empty types set\n",
    "        pass\n",
    "    return t\n",
    "sm.pt_los['route_type'] = sm.pt_los['route_types'].apply(main_type)"
   ]
  },
  {
   "cell_type": "code",
   "execution_count": 44,
   "metadata": {},
   "outputs": [
    {
     "data": {
      "text/html": [
       "<div>\n",
       "<style scoped>\n",
       "    .dataframe tbody tr th:only-of-type {\n",
       "        vertical-align: middle;\n",
       "    }\n",
       "\n",
       "    .dataframe tbody tr th {\n",
       "        vertical-align: top;\n",
       "    }\n",
       "\n",
       "    .dataframe thead th {\n",
       "        text-align: right;\n",
       "    }\n",
       "</style>\n",
       "<table border=\"1\" class=\"dataframe\">\n",
       "  <thead>\n",
       "    <tr style=\"text-align: right;\">\n",
       "      <th></th>\n",
       "      <th>origin</th>\n",
       "      <th>destination</th>\n",
       "      <th>path</th>\n",
       "      <th>gtime</th>\n",
       "      <th>boardings</th>\n",
       "      <th>alightings</th>\n",
       "      <th>node_path</th>\n",
       "      <th>link_path</th>\n",
       "      <th>footpaths</th>\n",
       "      <th>ntlegs</th>\n",
       "      <th>...</th>\n",
       "      <th>length_link_path</th>\n",
       "      <th>length</th>\n",
       "      <th>access_time</th>\n",
       "      <th>footpath_time</th>\n",
       "      <th>in_vehicle_time</th>\n",
       "      <th>waiting_time</th>\n",
       "      <th>boarding_time</th>\n",
       "      <th>time</th>\n",
       "      <th>route_types</th>\n",
       "      <th>route_type</th>\n",
       "    </tr>\n",
       "  </thead>\n",
       "  <tbody>\n",
       "    <tr>\n",
       "      <th>309291</th>\n",
       "      <td>64380003</td>\n",
       "      <td>64110000</td>\n",
       "      <td>(64380003, b_64380003_1, bus_1975690, b_643800...</td>\n",
       "      <td>5707.605728</td>\n",
       "      <td>[b_64380003_1, b_64380006_14, rs_64380006_0, b...</td>\n",
       "      <td>[b_64380006_14, b_64380006_19, rs_64110000_1, ...</td>\n",
       "      <td>[b_64380003_1, b_64380006_14, b_64380006_19, r...</td>\n",
       "      <td>[bus_1975690, bus_91765, bus_91766, bus_91768,...</td>\n",
       "      <td>[(b_64380006_19, rs_64380006_0), (rs_64110000_...</td>\n",
       "      <td>[(64380003, b_64380003_1), (b_64110000_42, 641...</td>\n",
       "      <td>...</td>\n",
       "      <td>19467.0</td>\n",
       "      <td>19467.0</td>\n",
       "      <td>762.101167</td>\n",
       "      <td>178.504561</td>\n",
       "      <td>1380</td>\n",
       "      <td>2037.0</td>\n",
       "      <td>0</td>\n",
       "      <td>4357.605728</td>\n",
       "      <td>{bus, rail_short}</td>\n",
       "      <td>rail_short</td>\n",
       "    </tr>\n",
       "  </tbody>\n",
       "</table>\n",
       "<p>1 rows × 26 columns</p>\n",
       "</div>"
      ],
      "text/plain": [
       "          origin  destination  \\\n",
       "309291  64380003     64110000   \n",
       "\n",
       "                                                     path        gtime  \\\n",
       "309291  (64380003, b_64380003_1, bus_1975690, b_643800...  5707.605728   \n",
       "\n",
       "                                                boardings  \\\n",
       "309291  [b_64380003_1, b_64380006_14, rs_64380006_0, b...   \n",
       "\n",
       "                                               alightings  \\\n",
       "309291  [b_64380006_14, b_64380006_19, rs_64110000_1, ...   \n",
       "\n",
       "                                                node_path  \\\n",
       "309291  [b_64380003_1, b_64380006_14, b_64380006_19, r...   \n",
       "\n",
       "                                                link_path  \\\n",
       "309291  [bus_1975690, bus_91765, bus_91766, bus_91768,...   \n",
       "\n",
       "                                                footpaths  \\\n",
       "309291  [(b_64380006_19, rs_64380006_0), (rs_64110000_...   \n",
       "\n",
       "                                                   ntlegs  ...  \\\n",
       "309291  [(64380003, b_64380003_1), (b_64110000_42, 641...  ...   \n",
       "\n",
       "       length_link_path   length access_time  footpath_time  in_vehicle_time  \\\n",
       "309291          19467.0  19467.0  762.101167     178.504561             1380   \n",
       "\n",
       "        waiting_time  boarding_time         time        route_types  \\\n",
       "309291        2037.0              0  4357.605728  {bus, rail_short}   \n",
       "\n",
       "        route_type  \n",
       "309291  rail_short  \n",
       "\n",
       "[1 rows x 26 columns]"
      ]
     },
     "execution_count": 44,
     "metadata": {},
     "output_type": "execute_result"
    }
   ],
   "source": [
    "sm.pt_los.sample()"
   ]
  },
  {
   "cell_type": "code",
   "execution_count": null,
   "metadata": {},
   "outputs": [],
   "source": [
    "# Make a safety copy before restricting results\n",
    "#if manual: los = sm.pt_los.copy()"
   ]
  },
  {
   "cell_type": "code",
   "execution_count": null,
   "metadata": {},
   "outputs": [],
   "source": [
    "#sm.pt_los = los.copy()"
   ]
  },
  {
   "cell_type": "markdown",
   "metadata": {},
   "source": [
    "### Clean PT LOS"
   ]
  },
  {
   "cell_type": "code",
   "execution_count": 51,
   "metadata": {},
   "outputs": [
    {
     "data": {
      "text/html": [
       "<div>\n",
       "<style scoped>\n",
       "    .dataframe tbody tr th:only-of-type {\n",
       "        vertical-align: middle;\n",
       "    }\n",
       "\n",
       "    .dataframe tbody tr th {\n",
       "        vertical-align: top;\n",
       "    }\n",
       "\n",
       "    .dataframe thead th {\n",
       "        text-align: right;\n",
       "    }\n",
       "</style>\n",
       "<table border=\"1\" class=\"dataframe\">\n",
       "  <thead>\n",
       "    <tr style=\"text-align: right;\">\n",
       "      <th></th>\n",
       "      <th>ntransfers</th>\n",
       "      <th>length</th>\n",
       "      <th>route_types</th>\n",
       "      <th>link_path</th>\n",
       "      <th>gtime</th>\n",
       "      <th>access_time</th>\n",
       "      <th>footpath_time</th>\n",
       "      <th>in_vehicle_time</th>\n",
       "      <th>waiting_time</th>\n",
       "      <th>boarding_time</th>\n",
       "      <th>time</th>\n",
       "    </tr>\n",
       "  </thead>\n",
       "  <tbody>\n",
       "  </tbody>\n",
       "</table>\n",
       "</div>"
      ],
      "text/plain": [
       "Empty DataFrame\n",
       "Columns: [ntransfers, length, route_types, link_path, gtime, access_time, footpath_time, in_vehicle_time, waiting_time, boarding_time, time]\n",
       "Index: []"
      ]
     },
     "execution_count": 51,
     "metadata": {},
     "output_type": "execute_result"
    }
   ],
   "source": [
    "# Look at Berlin - Hamburg times\n",
    "sm.pt_los.loc[(sm.pt_los['origin'].isin(sm.zones.loc[sm.zones['name']=='Berlin', 'FID']))\n",
    "              &(sm.pt_los['destination'].isin(sm.zones.loc[sm.zones['name']=='Hamburg', 'FID']))\n",
    "             ][['ntransfers', 'length', 'route_types', 'link_path']\n",
    "               +[c for c in sm.pt_los.columns if c[-4:]=='time']]"
   ]
  },
  {
   "cell_type": "code",
   "execution_count": 57,
   "metadata": {},
   "outputs": [
    {
     "data": {
      "text/plain": [
       "(731027, 26)"
      ]
     },
     "execution_count": 57,
     "metadata": {},
     "output_type": "execute_result"
    }
   ],
   "source": [
    "# Keep only the fastest trip(s)\n",
    "sm.pt_los['route_types'] = sm.pt_los['route_types'].apply(tuple)\n",
    "sm.pt_los = sm.pt_los.sort_values('time').groupby(\n",
    "    ['origin', 'destination', 'route_types']).nth(\n",
    "        list(range(params['clean_los']['n_fastest_trips']))).reset_index()\n",
    "sm.pt_los.shape"
   ]
  },
  {
   "cell_type": "code",
   "execution_count": 58,
   "metadata": {},
   "outputs": [
    {
     "data": {
      "text/plain": [
       "(731027, 26)"
      ]
     },
     "execution_count": 58,
     "metadata": {},
     "output_type": "execute_result"
    }
   ],
   "source": [
    "# Drop trips with coach-rail or coach-air combinations\n",
    "sm.pt_los = sm.pt_los.loc[~sm.pt_los['route_types'].apply(\n",
    "    lambda x: 'coach' in x and ('rail_long' in x or 'rail_short' in x))]\n",
    "sm.pt_los.shape"
   ]
  },
  {
   "cell_type": "code",
   "execution_count": 59,
   "metadata": {},
   "outputs": [
    {
     "data": {
      "text/plain": [
       "(601663, 26)"
      ]
     },
     "execution_count": 59,
     "metadata": {},
     "output_type": "execute_result"
    }
   ],
   "source": [
    "# Drop unrealistically long trips\n",
    "sm.pt_los = sm.pt_los.loc[sm.pt_los['in_vehicle_time']<params['clean_los']['max_duration']]\n",
    "sm.pt_los.shape"
   ]
  },
  {
   "cell_type": "code",
   "execution_count": 60,
   "metadata": {},
   "outputs": [
    {
     "data": {
      "image/png": "[encoded data removed]",
      "text/plain": [
       "<Figure size 288x288 with 1 Axes>"
      ]
     },
     "metadata": {
      "needs_background": "light"
     },
     "output_type": "display_data"
    }
   ],
   "source": [
    "# Time distribution\n",
    "if manual:\n",
    "    sm.pt_los.hist(column='time', bins=100, log=True, alpha=.5,\n",
    "                   ax=sm.pt_los.hist(column='in_vehicle_time', color='green',\n",
    "                                     bins=100, figsize=(4,4), log=True, alpha=.5))"
   ]
  },
  {
   "cell_type": "code",
   "execution_count": 61,
   "metadata": {},
   "outputs": [
    {
     "data": {
      "image/png": "[encoded data removed]",
      "text/plain": [
       "<Figure size 288x288 with 1 Axes>"
      ]
     },
     "metadata": {
      "needs_background": "light"
     },
     "output_type": "display_data"
    }
   ],
   "source": [
    "if manual: sm.pt_los.hist(column='ntransfers', figsize=(4,4))"
   ]
  },
  {
   "cell_type": "code",
   "execution_count": 62,
   "metadata": {},
   "outputs": [
    {
     "data": {
      "image/png": "[encoded data removed]",
      "text/plain": [
       "<Figure size 1152x216 with 6 Axes>"
      ]
     },
     "metadata": {},
     "output_type": "display_data"
    }
   ],
   "source": [
    "# Main mode distribution by transfers\n",
    "if manual:\n",
    "    t = sm.pt_los#.copy()\n",
    "    t['bins'] = pd.cut(t['ntransfers'], bins=[0,1,3,5,10,20,100],\n",
    "                       labels=[\"0-1\", \"2-3\",\"4-5\",\"6-10\",\"11-20\",\"21+\"])\n",
    "    axs = t.groupby(['route_type','bins']).size().unstack(fill_value=0).plot.pie(\n",
    "        subplots=True, figsize=(16, 3),\n",
    "        startangle=0, counterclock=False, title='Main mode by number of transfers',\n",
    "        legend=False, labeldistance=None)\n",
    "    axs[0].legend(loc='lower left')"
   ]
  },
  {
   "cell_type": "code",
   "execution_count": 63,
   "metadata": {},
   "outputs": [
    {
     "data": {
      "image/png": "[encoded data removed]",
      "text/plain": [
       "<Figure size 432x288 with 1 Axes>"
      ]
     },
     "metadata": {
      "needs_background": "light"
     },
     "output_type": "display_data"
    }
   ],
   "source": [
    "# Distribution of mode combinations\n",
    "if manual:\n",
    "    t.groupby('route_types').count()['route_type'].plot(kind='bar')"
   ]
  },
  {
   "cell_type": "code",
   "execution_count": 64,
   "metadata": {},
   "outputs": [
    {
     "data": {
      "image/png": "[encoded data removed]",
      "text/plain": [
       "<Figure size 1152x216 with 5 Axes>"
      ]
     },
     "metadata": {},
     "output_type": "display_data"
    }
   ],
   "source": [
    "if manual:\n",
    "    t['bins'] = pd.cut(t['time'], bins=[0,30*60,60*60,120*60,360*60,5000*60],\n",
    "                       labels=[\"0-30\",\"31-60\",\"61-120\",\"120-360\",\"361+\"])\n",
    "    axs = t.groupby(['route_type','bins']).size().unstack(fill_value=0).plot.pie(\n",
    "        subplots=True, figsize=(16, 3),\n",
    "        startangle=0, counterclock=False, title='Main mode by trip duration',\n",
    "        legend=False, labeldistance=None)\n",
    "    axs[0].legend()"
   ]
  },
  {
   "cell_type": "code",
   "execution_count": 65,
   "metadata": {},
   "outputs": [
    {
     "data": {
      "text/plain": [
       "(497868, 27)"
      ]
     },
     "execution_count": 65,
     "metadata": {},
     "output_type": "execute_result"
    }
   ],
   "source": [
    "# Drop unnecessary long connections if there is a waiting time applied\n",
    "if sm.links['headway'].mean() > 1*60:\n",
    "    sm.pt_los = sm.pt_los.loc[sm.pt_los['ntransfers']<=\n",
    "                              params['clean_los']['max_transfers']]\n",
    "    # Drop coach connections with more than one transfer\n",
    "    sm.pt_los = sm.pt_los.loc[~((sm.pt_los['route_type']=='coach') &\n",
    "                                (sm.pt_los['boardings'].apply(\n",
    "                                    lambda l: len([n for n in l if n.startswith('c')])>2)\n",
    "                                ))]\n",
    "sm.pt_los.shape"
   ]
  },
  {
   "cell_type": "code",
   "execution_count": 66,
   "metadata": {},
   "outputs": [
    {
     "data": {
      "text/plain": [
       "(487642, 27)"
      ]
     },
     "execution_count": 66,
     "metadata": {},
     "output_type": "execute_result"
    }
   ],
   "source": [
    "# Bus tickets are relatively cheap, but they apply only for short distances\n",
    "# And nobody books tickets at five different bus agencies\n",
    "# Thus, drop bus trips longer than 100km\n",
    "sm.pt_los = sm.pt_los.loc[~((sm.pt_los['route_type']=='bus') &\n",
    "                            (sm.pt_los['length']>params['clean_los']['max_dist_bus']))]\n",
    "sm.pt_los.shape"
   ]
  },
  {
   "cell_type": "code",
   "execution_count": 67,
   "metadata": {},
   "outputs": [
    {
     "data": {
      "text/plain": [
       "(485594, 27)"
      ]
     },
     "execution_count": 67,
     "metadata": {},
     "output_type": "execute_result"
    }
   ],
   "source": [
    "# Also drop coach trips for local transport\n",
    "sm.pt_los = sm.pt_los.loc[~((sm.pt_los['route_type']=='coach') &\n",
    "                            (sm.pt_los['length']<params['clean_los']['min_dist_coach']))]\n",
    "sm.pt_los.shape"
   ]
  },
  {
   "cell_type": "code",
   "execution_count": 68,
   "metadata": {},
   "outputs": [
    {
     "data": {
      "text/plain": [
       "464312"
      ]
     },
     "execution_count": 68,
     "metadata": {},
     "output_type": "execute_result"
    }
   ],
   "source": [
    "# Keep only trips where in-vehicle-time makes at least a third\n",
    "#sm.pt_los = sm.pt_los.loc[sm.pt_los['time']<sm.pt_los['in_vehicle_time']*3]\n",
    "#sm.pt_los.shape\n",
    "len(sm.pt_los.loc[sm.pt_los['time']<sm.pt_los['in_vehicle_time']*3])"
   ]
  },
  {
   "cell_type": "code",
   "execution_count": 69,
   "metadata": {},
   "outputs": [
    {
     "data": {
      "text/plain": [
       "(399814, 27)"
      ]
     },
     "execution_count": 69,
     "metadata": {},
     "output_type": "execute_result"
    }
   ],
   "source": [
    "# Drop rail short-distance trips above a distance threshold,\n",
    "# if a long-distance connection is available\n",
    "sm.pt_los['both'] = sm.pt_los.merge(\n",
    "    sm.pt_los.groupby(['origin', 'destination'])['route_type'].apply(\n",
    "        lambda od: 'rail_short' in list(od) and 'rail_long' in list(od)).rename('both'),\n",
    "    left_on=['origin', 'destination'], right_index=True)['both']\n",
    "sm.pt_los = sm.pt_los.loc[~((sm.pt_los['route_type']=='rail_short') &\n",
    "                            (sm.pt_los['both']==True) &\n",
    "                            (sm.pt_los['length']>params['clean_los']['max_dist_rail_short']))]\n",
    "sm.pt_los.drop('both', axis=1, inplace=True)\n",
    "sm.pt_los.shape"
   ]
  },
  {
   "cell_type": "code",
   "execution_count": 70,
   "metadata": {},
   "outputs": [
    {
     "data": {
      "image/png": "[encoded data removed]",
      "text/plain": [
       "<Figure size 432x288 with 1 Axes>"
      ]
     },
     "metadata": {
      "needs_background": "light"
     },
     "output_type": "display_data"
    }
   ],
   "source": [
    "if manual: sm.pt_los.groupby('route_types').count()['route_type'].plot(kind='bar')"
   ]
  },
  {
   "cell_type": "code",
   "execution_count": 71,
   "metadata": {},
   "outputs": [
    {
     "data": {
      "image/png": "[encoded data removed]",
      "text/plain": [
       "<Figure size 288x288 with 1 Axes>"
      ]
     },
     "metadata": {
      "needs_background": "light"
     },
     "output_type": "display_data"
    }
   ],
   "source": [
    "# Time distribution\n",
    "if manual:\n",
    "    sm.pt_los.hist(column='time', bins=100, log=False, alpha=.5,\n",
    "                   ax=sm.pt_los.hist(column='in_vehicle_time', color='green',\n",
    "                                     bins=100, figsize=(4,4), log=False, alpha=.5))"
   ]
  },
  {
   "cell_type": "code",
   "execution_count": 72,
   "metadata": {},
   "outputs": [
    {
     "data": {
      "text/html": [
       "<div>\n",
       "<style scoped>\n",
       "    .dataframe tbody tr th:only-of-type {\n",
       "        vertical-align: middle;\n",
       "    }\n",
       "\n",
       "    .dataframe tbody tr th {\n",
       "        vertical-align: top;\n",
       "    }\n",
       "\n",
       "    .dataframe thead th {\n",
       "        text-align: right;\n",
       "    }\n",
       "</style>\n",
       "<table border=\"1\" class=\"dataframe\">\n",
       "  <thead>\n",
       "    <tr style=\"text-align: right;\">\n",
       "      <th></th>\n",
       "      <th>ntransfers</th>\n",
       "      <th>length</th>\n",
       "      <th>route_types</th>\n",
       "      <th>link_path</th>\n",
       "      <th>gtime</th>\n",
       "      <th>access_time</th>\n",
       "      <th>footpath_time</th>\n",
       "      <th>in_vehicle_time</th>\n",
       "      <th>waiting_time</th>\n",
       "      <th>boarding_time</th>\n",
       "      <th>time</th>\n",
       "    </tr>\n",
       "  </thead>\n",
       "  <tbody>\n",
       "  </tbody>\n",
       "</table>\n",
       "</div>"
      ],
      "text/plain": [
       "Empty DataFrame\n",
       "Columns: [ntransfers, length, route_types, link_path, gtime, access_time, footpath_time, in_vehicle_time, waiting_time, boarding_time, time]\n",
       "Index: []"
      ]
     },
     "execution_count": 72,
     "metadata": {},
     "output_type": "execute_result"
    }
   ],
   "source": [
    "# Look at Berlin - Hamburg times\n",
    "sm.pt_los.loc[(sm.pt_los['origin'].isin(sm.zones.loc[sm.zones['name']=='Berlin', 'FID']))\n",
    "              &(sm.pt_los['destination'].isin(sm.zones.loc[sm.zones['name']=='Hamburg', 'FID']))\n",
    "             ][['ntransfers', 'length', 'route_types', 'link_path']\n",
    "               +[c for c in sm.pt_los.columns if c[-4:]=='time']]"
   ]
  },
  {
   "cell_type": "code",
   "execution_count": 73,
   "metadata": {},
   "outputs": [
    {
     "name": "stdout",
     "output_type": "stream",
     "text": [
      "399814\n"
     ]
    }
   ],
   "source": [
    "print(len(sm.pt_los))\n",
    "assert sm.pt_los.isna().any(axis=1).max() == 0"
   ]
  },
  {
   "cell_type": "markdown",
   "metadata": {},
   "source": [
    "## Save model"
   ]
  },
  {
   "cell_type": "code",
   "execution_count": 74,
   "metadata": {},
   "outputs": [],
   "source": [
    "# Ditch unneccessary columns\n",
    "to_drop = ['gtime', 'path', 'reversed', 'pathfinder_session',\n",
    "           'broken_modes', 'boardings', 'alightings', 'node_path',\n",
    "           'footpaths', 'ntlegs', 'transfers', 'boarding_links',\n",
    "           'alighting_links', 'all_walk', 'time_link_path',\n",
    "           'length_link_path', 'boarding_time', 'index', 'bins']\n",
    "sm.pt_los = sm.pt_los.drop(to_drop, axis=1, errors='ignore')"
   ]
  },
  {
   "cell_type": "code",
   "execution_count": 75,
   "metadata": {},
   "outputs": [],
   "source": [
    "# Clean links table\n",
    "to_drop = ['duration', 'cost', 'origin', 'destination']\n",
    "sm.links = sm.links.drop(to_drop, axis=1, errors='ignore')"
   ]
  },
  {
   "cell_type": "code",
   "execution_count": 76,
   "metadata": {},
   "outputs": [],
   "source": [
    "# Make table smaller\n",
    "cols = ['time', 'access_time', 'in_vehicle_time', 'footpath_time',\n",
    "        'waiting_time', 'length']\n",
    "sm.pt_los[cols] = sm.pt_los[cols].astype(int)"
   ]
  },
  {
   "cell_type": "code",
   "execution_count": 77,
   "metadata": {},
   "outputs": [
    {
     "data": {
      "text/html": [
       "<div>\n",
       "<style scoped>\n",
       "    .dataframe tbody tr th:only-of-type {\n",
       "        vertical-align: middle;\n",
       "    }\n",
       "\n",
       "    .dataframe tbody tr th {\n",
       "        vertical-align: top;\n",
       "    }\n",
       "\n",
       "    .dataframe thead th {\n",
       "        text-align: right;\n",
       "    }\n",
       "</style>\n",
       "<table border=\"1\" class=\"dataframe\">\n",
       "  <thead>\n",
       "    <tr style=\"text-align: right;\">\n",
       "      <th></th>\n",
       "      <th>origin</th>\n",
       "      <th>destination</th>\n",
       "      <th>route_types</th>\n",
       "      <th>link_path</th>\n",
       "      <th>ntransfers</th>\n",
       "      <th>length</th>\n",
       "      <th>access_time</th>\n",
       "      <th>footpath_time</th>\n",
       "      <th>in_vehicle_time</th>\n",
       "      <th>waiting_time</th>\n",
       "      <th>time</th>\n",
       "      <th>route_type</th>\n",
       "    </tr>\n",
       "  </thead>\n",
       "  <tbody>\n",
       "    <tr>\n",
       "      <th>474759</th>\n",
       "      <td>94715445</td>\n",
       "      <td>81350015</td>\n",
       "      <td>(bus, coach)</td>\n",
       "      <td>[bus_1788927, bus_1788929, bus_1788931, bus_17...</td>\n",
       "      <td>4</td>\n",
       "      <td>407145</td>\n",
       "      <td>706</td>\n",
       "      <td>956</td>\n",
       "      <td>21900</td>\n",
       "      <td>8700</td>\n",
       "      <td>32262</td>\n",
       "      <td>coach</td>\n",
       "    </tr>\n",
       "  </tbody>\n",
       "</table>\n",
       "</div>"
      ],
      "text/plain": [
       "          origin  destination   route_types  \\\n",
       "474759  94715445     81350015  (bus, coach)   \n",
       "\n",
       "                                                link_path  ntransfers  length  \\\n",
       "474759  [bus_1788927, bus_1788929, bus_1788931, bus_17...           4  407145   \n",
       "\n",
       "        access_time  footpath_time  in_vehicle_time  waiting_time   time  \\\n",
       "474759          706            956            21900          8700  32262   \n",
       "\n",
       "       route_type  \n",
       "474759      coach  "
      ]
     },
     "execution_count": 77,
     "metadata": {},
     "output_type": "execute_result"
    }
   ],
   "source": [
    "sm.pt_los.sample()"
   ]
  },
  {
   "cell_type": "code",
   "execution_count": 78,
   "metadata": {},
   "outputs": [
    {
     "name": "stderr",
     "output_type": "stream",
     "text": [
      "pt_los: 100%|██████████████████████████████████████████████████████████████████████████| 35/35 [00:05<00:00,  6.72it/s]\n"
     ]
    }
   ],
   "source": [
    "# Saving LoS...\n",
    "sm.to_zippedpickles(model_path + 'de_pt_los', only_attributes=['pt_los'])"
   ]
  }
 ],
 "metadata": {
  "kernelspec": {
   "display_name": "Python 3 (ipykernel)",
   "language": "python",
   "name": "python3"
  },
  "language_info": {
   "codemirror_mode": {
    "name": "ipython",
    "version": 3
   },
   "file_extension": ".py",
   "mimetype": "text/x-python",
   "name": "python",
   "nbconvert_exporter": "python",
   "pygments_lexer": "ipython3",
   "version": "3.8.13"
  }
 },
 "nbformat": 4,
 "nbformat_minor": 2
}
