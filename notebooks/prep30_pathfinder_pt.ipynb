{
 "cells": [
  {
   "cell_type": "code",
   "execution_count": 1,
   "metadata": {},
   "outputs": [],
   "source": [
    "import sys # for automation and parallelisation\n",
    "manual, scenario = (True, 'base') if 'ipykernel' in sys.argv[0] else (False, sys.argv[1])\n",
    "if manual:\n",
    "    %matplotlib inline"
   ]
  },
  {
   "cell_type": "code",
   "execution_count": 2,
   "metadata": {},
   "outputs": [],
   "source": [
    "import os\n",
    "import json\n",
    "import numpy as np\n",
    "import pandas as pd\n",
    "from tqdm import tqdm\n",
    "from quetzal.model import stepmodel\n",
    "from quetzal.analysis import analysis\n",
    "from quetzal.engine.pathfinder import PublicPathFinder\n",
    "from syspy.skims import skims\n",
    "from quetzal.engine import engine\n",
    "from quetzal.io import excel\n",
    "from quetzal.os.parallel_call import parallel_call_notebook"
   ]
  },
  {
   "cell_type": "markdown",
   "metadata": {},
   "source": [
    "# Preparation of the LoS tables\n",
    "## Saves a StepModel with shortest paths and LoS attributes for the PT network\n",
    "## Needs aggregated PT networks"
   ]
  },
  {
   "cell_type": "code",
   "execution_count": 3,
   "metadata": {},
   "outputs": [],
   "source": [
    "input_path = '../input/'\n",
    "output_path = '../output/'\n",
    "model_path = '../model/' + scenario + '/'"
   ]
  },
  {
   "cell_type": "code",
   "execution_count": 4,
   "metadata": {},
   "outputs": [],
   "source": [
    "# Create a path for scenario-specific model files\n",
    "if not os.path.exists(model_path):\n",
    "    os.makedirs(model_path)"
   ]
  },
  {
   "cell_type": "code",
   "execution_count": 5,
   "metadata": {},
   "outputs": [],
   "source": [
    "# Load scenario parameters\n",
    "params = excel.read_var(file='../input/parameters.xls', scenario=scenario)"
   ]
  },
  {
   "cell_type": "code",
   "execution_count": 6,
   "metadata": {},
   "outputs": [],
   "source": [
    "# Before loading the networks: Check, if on-demand network shall be built\n",
    "if params['on-demand_bus']['activate'] == 1:\n",
    "    kwargs = {'workers':4, 'errout_suffix':True, 'sleep':1,'stdout_path':r'log/out.txt', 'stderr_path':r'log/err.txt'}\n",
    "    parallel_call_notebook('prep23_local_on-demand_pt.ipynb', arg_list=[scenario], **kwargs)"
   ]
  },
  {
   "cell_type": "code",
   "execution_count": 7,
   "metadata": {},
   "outputs": [],
   "source": [
    "# Load PT network\n",
    "try:\n",
    "    sm = stepmodel.read_json(model_path + 'de_pt_network_agg')\n",
    "except FileNotFoundError:\n",
    "    sm = stepmodel.read_json(model_path.replace(scenario, 'base') + 'de_pt_network_agg')\n",
    "try:\n",
    "    ae = stepmodel.read_json(model_path + 'de_pt_access_egress')\n",
    "except FileNotFoundError:\n",
    "    ae = stepmodel.read_json(model_path.replace(scenario, 'base') + 'de_pt_access_egress')\n",
    "try:\n",
    "    aux = stepmodel.read_json(model_path + 'de_pt_network_ancillary')\n",
    "except FileNotFoundError:\n",
    "    aux = stepmodel.read_json(model_path.replace(scenario, 'base') + 'de_pt_network_ancillary')"
   ]
  },
  {
   "cell_type": "code",
   "execution_count": 8,
   "metadata": {},
   "outputs": [],
   "source": [
    "sm.centroids = ae.centroids\n",
    "sm.footpaths = ae.footpaths\n",
    "sm.zone_to_transit = ae.zone_to_transit"
   ]
  },
  {
   "cell_type": "code",
   "execution_count": 9,
   "metadata": {},
   "outputs": [
    {
     "data": {
      "text/plain": [
       "(212945, 10)"
      ]
     },
     "execution_count": 9,
     "metadata": {},
     "output_type": "execute_result"
    }
   ],
   "source": [
    "sm.links.shape"
   ]
  },
  {
   "cell_type": "markdown",
   "metadata": {},
   "source": [
    "## Prepare links for pathfinder\n",
    "\n",
    "Headways are relevant for the pathfinder in order to determine optimal interchange patterns. The waiting time (= half the headway) at the initial boarding station will be substracted from the route time. Instead, a constant \"wait at station\" time is added to access links. This does not depend on the itinerary, but only on travel behaviour and perception."
   ]
  },
  {
   "cell_type": "code",
   "execution_count": 10,
   "metadata": {},
   "outputs": [],
   "source": [
    "# aggregate local bus and tram, underground, ferry, funicular\n",
    "if 'subway' in sm.links['route_type'].unique():\n",
    "    sm.links['route_type_disagg'] = sm.links['route_type'].copy()\n",
    "    sm.links['route_type'] = sm.links['route_type'].replace(\n",
    "        {'tram': 'bus', 'subway': 'bus', 'ferry': 'bus', 'funicular': 'bus'})\n",
    "    sm.pt_route_types = list(sm.links['route_type'].unique())"
   ]
  },
  {
   "cell_type": "code",
   "execution_count": 11,
   "metadata": {},
   "outputs": [
    {
     "data": {
      "text/html": [
       "<div>\n",
       "<style scoped>\n",
       "    .dataframe tbody tr th:only-of-type {\n",
       "        vertical-align: middle;\n",
       "    }\n",
       "\n",
       "    .dataframe tbody tr th {\n",
       "        vertical-align: top;\n",
       "    }\n",
       "\n",
       "    .dataframe thead th {\n",
       "        text-align: right;\n",
       "    }\n",
       "</style>\n",
       "<table border=\"1\" class=\"dataframe\">\n",
       "  <thead>\n",
       "    <tr style=\"text-align: right;\">\n",
       "      <th></th>\n",
       "      <th>a</th>\n",
       "    </tr>\n",
       "    <tr>\n",
       "      <th>route_type</th>\n",
       "      <th></th>\n",
       "    </tr>\n",
       "  </thead>\n",
       "  <tbody>\n",
       "  </tbody>\n",
       "</table>\n",
       "</div>"
      ],
      "text/plain": [
       "Empty DataFrame\n",
       "Columns: [a]\n",
       "Index: []"
      ]
     },
     "execution_count": 11,
     "metadata": {},
     "output_type": "execute_result"
    }
   ],
   "source": [
    "# Route types without headway\n",
    "sm.links.loc[sm.links['headway'].isna()].groupby('route_type').agg({'a': 'count'})"
   ]
  },
  {
   "cell_type": "code",
   "execution_count": 12,
   "metadata": {},
   "outputs": [],
   "source": [
    "sm.links['headway'] = sm.links['headway'].fillna(2*3600)"
   ]
  },
  {
   "cell_type": "code",
   "execution_count": 13,
   "metadata": {},
   "outputs": [],
   "source": [
    "# Minimum headways of each route\n",
    "sm.links['headway_route'] = sm.links['route_id'].map(\n",
    "    sm.links.groupby('route_id').agg({'headway': 'min'}).to_dict()['headway'])"
   ]
  },
  {
   "cell_type": "code",
   "execution_count": 14,
   "metadata": {},
   "outputs": [
    {
     "data": {
      "text/plain": [
       "array([[<Axes: title={'center': 'headway_route'}>,\n",
       "        <Axes: title={'center': 'headway'}>]], dtype=object)"
      ]
     },
     "execution_count": 14,
     "metadata": {},
     "output_type": "execute_result"
    },
    {
     "data": {
      "image/png": "[encoded data removed]",
      "text/plain": [
       "<Figure size 1200x300 with 2 Axes>"
      ]
     },
     "metadata": {},
     "output_type": "display_data"
    }
   ],
   "source": [
    "# Route headways seem to make route choice more reliable\n",
    "(sm.links[['headway_route', 'headway']]/60/2).hist(bins=100, figsize=(12,3), sharey=True)"
   ]
  },
  {
   "cell_type": "code",
   "execution_count": 15,
   "metadata": {},
   "outputs": [],
   "source": [
    "# Set a maximum headway in order to not confuse the pathfinder\n",
    "urban_dict = sm.nodes['FID'].map(sm.zones['urbanisation'].to_dict()).to_dict()\n",
    "for u in set(sm.zones['urbanisation']):\n",
    "    for mode in sm.pt_route_types:\n",
    "        mask = (sm.links['route_type']==mode)&(sm.links['a'].map(urban_dict)==u)\n",
    "        sm.links.loc[mask, 'headway'] = np.minimum(\n",
    "            sm.links.loc[mask, 'headway_route'],\n",
    "            params['max_headway_urban'+str(int(u))][mode])\n",
    "#sm.links['headway'] = sm.links['headway_route']"
   ]
  },
  {
   "cell_type": "code",
   "execution_count": 16,
   "metadata": {},
   "outputs": [],
   "source": [
    "sm.links['headway'] = sm.links['headway'].astype(int)"
   ]
  },
  {
   "cell_type": "code",
   "execution_count": 17,
   "metadata": {},
   "outputs": [
    {
     "data": {
      "image/png": "[encoded data removed]",
      "text/plain": [
       "<Figure size 600x300 with 1 Axes>"
      ]
     },
     "metadata": {},
     "output_type": "display_data"
    }
   ],
   "source": [
    "# Waiting time distribution in minutes\n",
    "if manual: (sm.links['headway']/60/2).hist(bins=100, figsize=(6,3), log=False)"
   ]
  },
  {
   "cell_type": "code",
   "execution_count": 18,
   "metadata": {},
   "outputs": [
    {
     "data": {
      "text/html": [
       "<div>\n",
       "<style scoped>\n",
       "    .dataframe tbody tr th:only-of-type {\n",
       "        vertical-align: middle;\n",
       "    }\n",
       "\n",
       "    .dataframe tbody tr th {\n",
       "        vertical-align: top;\n",
       "    }\n",
       "\n",
       "    .dataframe thead th {\n",
       "        text-align: right;\n",
       "    }\n",
       "</style>\n",
       "<table border=\"1\" class=\"dataframe\">\n",
       "  <thead>\n",
       "    <tr style=\"text-align: right;\">\n",
       "      <th></th>\n",
       "      <th>headway</th>\n",
       "    </tr>\n",
       "    <tr>\n",
       "      <th>route_type</th>\n",
       "      <th></th>\n",
       "    </tr>\n",
       "  </thead>\n",
       "  <tbody>\n",
       "    <tr>\n",
       "      <th>air</th>\n",
       "      <td>45.000000</td>\n",
       "    </tr>\n",
       "    <tr>\n",
       "      <th>bus</th>\n",
       "      <td>36.525307</td>\n",
       "    </tr>\n",
       "    <tr>\n",
       "      <th>coach</th>\n",
       "      <td>69.049215</td>\n",
       "    </tr>\n",
       "    <tr>\n",
       "      <th>rail_long</th>\n",
       "      <td>31.872316</td>\n",
       "    </tr>\n",
       "    <tr>\n",
       "      <th>rail_short</th>\n",
       "      <td>24.071197</td>\n",
       "    </tr>\n",
       "  </tbody>\n",
       "</table>\n",
       "</div>"
      ],
      "text/plain": [
       "              headway\n",
       "route_type           \n",
       "air         45.000000\n",
       "bus         36.525307\n",
       "coach       69.049215\n",
       "rail_long   31.872316\n",
       "rail_short  24.071197"
      ]
     },
     "execution_count": 18,
     "metadata": {},
     "output_type": "execute_result"
    }
   ],
   "source": [
    "# Average waiting time\n",
    "sm.links.groupby('route_type').agg({'headway': 'mean'})/60/2"
   ]
  },
  {
   "cell_type": "code",
   "execution_count": 19,
   "metadata": {},
   "outputs": [],
   "source": [
    "# Set a mode-specific transfer penalty\n",
    "# It will be substracted later\n",
    "time_dict = params['transfer_penalty']\n",
    "sm.links['boarding_time'] = sm.links['route_type'].map(time_dict) # in s"
   ]
  },
  {
   "cell_type": "code",
   "execution_count": 20,
   "metadata": {},
   "outputs": [
    {
     "name": "stderr",
     "output_type": "stream",
     "text": [
      "C:\\Users\\m.arnz\\AppData\\Local\\Temp\\ipykernel_14540\\2060900516.py:5: FutureWarning: Setting an item of incompatible dtype is deprecated and will raise in a future error of pandas. Value '[186435.776 116078.752  29178.16  ...  29334.928  51335.84   29334.928]' has dtype incompatible with int32, please explicitly cast to a compatible dtype first.\n",
      "  sm.links.loc[sm.links['route_type']=='coach', 'length'] *= 1.136\n"
     ]
    }
   ],
   "source": [
    "# Generate length for PT links\n",
    "if 'length' not in sm.links.columns:\n",
    "    sm.links['length'] = skims.distance_from_geometry(sm.links['geometry']).astype(int)\n",
    "    # Adjust coach transport towards road distances\n",
    "    sm.links.loc[sm.links['route_type']=='coach', 'length'] *= 1.136"
   ]
  },
  {
   "cell_type": "code",
   "execution_count": 21,
   "metadata": {},
   "outputs": [
    {
     "data": {
      "text/html": [
       "<div>\n",
       "<style scoped>\n",
       "    .dataframe tbody tr th:only-of-type {\n",
       "        vertical-align: middle;\n",
       "    }\n",
       "\n",
       "    .dataframe tbody tr th {\n",
       "        vertical-align: top;\n",
       "    }\n",
       "\n",
       "    .dataframe thead th {\n",
       "        text-align: right;\n",
       "    }\n",
       "</style>\n",
       "<table border=\"1\" class=\"dataframe\">\n",
       "  <thead>\n",
       "    <tr style=\"text-align: right;\">\n",
       "      <th></th>\n",
       "      <th>route_type</th>\n",
       "      <th>geometry</th>\n",
       "      <th>a</th>\n",
       "      <th>b</th>\n",
       "      <th>link_sequence</th>\n",
       "      <th>route_id</th>\n",
       "      <th>time</th>\n",
       "      <th>trip_id</th>\n",
       "      <th>headway</th>\n",
       "      <th>route_type_disagg</th>\n",
       "      <th>headway_route</th>\n",
       "      <th>boarding_time</th>\n",
       "      <th>length</th>\n",
       "    </tr>\n",
       "    <tr>\n",
       "      <th>index</th>\n",
       "      <th></th>\n",
       "      <th></th>\n",
       "      <th></th>\n",
       "      <th></th>\n",
       "      <th></th>\n",
       "      <th></th>\n",
       "      <th></th>\n",
       "      <th></th>\n",
       "      <th></th>\n",
       "      <th></th>\n",
       "      <th></th>\n",
       "      <th></th>\n",
       "      <th></th>\n",
       "    </tr>\n",
       "  </thead>\n",
       "  <tbody>\n",
       "    <tr>\n",
       "      <th>bus_574102</th>\n",
       "      <td>bus</td>\n",
       "      <td>LINESTRING (10.02221 49.13920, 9.99643 49.14123)</td>\n",
       "      <td>b_81275002_86</td>\n",
       "      <td>b_81275002_55</td>\n",
       "      <td>9</td>\n",
       "      <td>bus_13494</td>\n",
       "      <td>120</td>\n",
       "      <td>bus_13494_7</td>\n",
       "      <td>3600</td>\n",
       "      <td>bus</td>\n",
       "      <td>21600</td>\n",
       "      <td>0</td>\n",
       "      <td>1889.0</td>\n",
       "    </tr>\n",
       "  </tbody>\n",
       "</table>\n",
       "</div>"
      ],
      "text/plain": [
       "           route_type                                          geometry  \\\n",
       "index                                                                     \n",
       "bus_574102        bus  LINESTRING (10.02221 49.13920, 9.99643 49.14123)   \n",
       "\n",
       "                        a              b  link_sequence   route_id  time  \\\n",
       "index                                                                      \n",
       "bus_574102  b_81275002_86  b_81275002_55              9  bus_13494   120   \n",
       "\n",
       "                trip_id  headway route_type_disagg  headway_route  \\\n",
       "index                                                               \n",
       "bus_574102  bus_13494_7     3600               bus          21600   \n",
       "\n",
       "           boarding_time  length  \n",
       "index                             \n",
       "bus_574102             0  1889.0  "
      ]
     },
     "execution_count": 21,
     "metadata": {},
     "output_type": "execute_result"
    }
   ],
   "source": [
    "sm.links.sample()"
   ]
  },
  {
   "cell_type": "code",
   "execution_count": 22,
   "metadata": {},
   "outputs": [],
   "source": [
    "# Delete footpaths between centroids as they might confuse the pathfinder\n",
    "# Add them later anew\n",
    "sm.footpaths = sm.footpaths.loc[~((sm.footpaths['a'].isin(sm.centroids.index)) |\n",
    "                                  (sm.footpaths['b'].isin(sm.centroids.index)) |\n",
    "                                  (sm.footpaths['a']==sm.footpaths['b']))]"
   ]
  },
  {
   "cell_type": "markdown",
   "metadata": {},
   "source": [
    "### Policies"
   ]
  },
  {
   "cell_type": "code",
   "execution_count": 23,
   "metadata": {},
   "outputs": [],
   "source": [
    "# Delete air links under a distance threshold\n",
    "sm.links = sm.links.loc[~((sm.links['route_type']=='air')\n",
    "                          & (sm.links['length']<params['clean_los']['min_dist_air'])\n",
    "                         )]"
   ]
  },
  {
   "cell_type": "markdown",
   "metadata": {},
   "source": [
    "### Check zone_to_transit connectors\n",
    "\n",
    "All zones need connectors"
   ]
  },
  {
   "cell_type": "code",
   "execution_count": 24,
   "metadata": {},
   "outputs": [],
   "source": [
    "# Add missing connectors\n",
    "ntlegs = engine.ntlegs_from_centroids_and_nodes(\n",
    "    sm.centroids.loc[list(set(sm.zones.index) - set(sm.zone_to_transit['a']))],\n",
    "    sm.nodes.loc[sm.nodes['route_type']=='bus'],\n",
    "    short_leg_speed=params['pt_access']['speed_walk'],\n",
    "    long_leg_speed=params['pt_access']['speed_bicycle'],\n",
    "    threshold=params['pt_access']['catchment_radius_walk'],\n",
    "    n_neighbors=1,\n",
    "    coordinates_unit=sm.coordinates_unit)\n",
    "sm.zone_to_transit = pd.concat([\n",
    "    sm.zone_to_transit,\n",
    "    ntlegs[list(set(sm.zone_to_transit.columns).intersection(set(ntlegs.columns)))]]\n",
    ").reset_index(drop=True)"
   ]
  },
  {
   "cell_type": "code",
   "execution_count": 25,
   "metadata": {},
   "outputs": [],
   "source": [
    "assert set(sm.zones.index) - set(sm.zone_to_transit['a']) == set()"
   ]
  },
  {
   "cell_type": "code",
   "execution_count": 26,
   "metadata": {},
   "outputs": [],
   "source": [
    "# Add a initial waiting time for PT access legs\n",
    "sm.zone_to_transit.loc[sm.zone_to_transit['direction']=='access', 'time'] += \\\n",
    "    params['access-egress_links']['time_pt']"
   ]
  },
  {
   "cell_type": "markdown",
   "metadata": {},
   "source": [
    "## Load or generate the OD set\n",
    "\n",
    "Call the corresponding notebook to generate a sparsified OD set, if not yet existent, but required in the scenario settings"
   ]
  },
  {
   "cell_type": "code",
   "execution_count": 27,
   "metadata": {},
   "outputs": [
    {
     "name": "stdout",
     "output_type": "stream",
     "text": [
      "Found OD set with 263004 pairs\n"
     ]
    }
   ],
   "source": [
    "od_set = None\n",
    "try:\n",
    "    od_set = json.load(open(model_path + 'od_set.json'))\n",
    "    od_set = set([tuple(l) for l in od_set])\n",
    "    print('Found OD set with {} pairs'.format(len(od_set)))\n",
    "except FileNotFoundError:\n",
    "    # Generate a new one, if required\n",
    "    if params['general']['od_sparse_sample'] > 0 and not scenario.endswith('equilibrium'):\n",
    "        print('Generating OD set')\n",
    "        kwargs = {'workers':1, 'errout_suffix':True, 'sleep':1,'stdout_path':r'log/out.txt', 'stderr_path':r'log/err.txt'}\n",
    "        parallel_call_notebook('sparsify_od_set.ipynb', arg_list=[scenario], **kwargs)\n",
    "        od_set = json.load(open(model_path + 'od_set.json'))\n",
    "        od_set = set([tuple(l) for l in od_set])\n",
    "        print('Found OD set with {} pairs'.format(len(od_set)))\n",
    "    else:\n",
    "        print('Running the pathfinder with full OD set')"
   ]
  },
  {
   "cell_type": "markdown",
   "metadata": {},
   "source": [
    "## Apply PT pathfinder\n",
    "\n",
    "It generates the LoS table with shortest paths for each origin destination pair"
   ]
  },
  {
   "cell_type": "code",
   "execution_count": 28,
   "metadata": {},
   "outputs": [],
   "source": [
    "# We don't want the algorithm to search paths for all mode combinations.\n",
    "# Thus, we have to extract the pathfinder and search them manually.\n",
    "ppf = PublicPathFinder(sm)"
   ]
  },
  {
   "cell_type": "code",
   "execution_count": 29,
   "metadata": {},
   "outputs": [
    {
     "data": {
      "text/plain": [
       "[{'air', 'bus', 'coach', 'rail_long'},\n",
       " {'air', 'bus', 'coach', 'rail_short'},\n",
       " {'bus', 'coach', 'rail_long', 'rail_short'},\n",
       " {'air', 'coach', 'rail_long', 'rail_short'},\n",
       " {'air', 'bus', 'rail_long', 'rail_short'},\n",
       " {'air', 'bus', 'coach', 'rail_long', 'rail_short'},\n",
       " {'air', 'coach', 'rail_long'},\n",
       " {'air', 'coach'},\n",
       " {'air', 'rail_long', 'rail_short'},\n",
       " {'coach', 'rail_long'}]"
      ]
     },
     "execution_count": 29,
     "metadata": {},
     "output_type": "execute_result"
    }
   ],
   "source": [
    "# Now, build custom mode combinations to find paths for\n",
    "# The combinations are modes that are NOT used in this path\n",
    "#ppf.build_mode_combinations(mode_column='route_type')\n",
    "all_types = set(sm.links['route_type'])\n",
    "ppf.mode_combinations = [all_types - {t} for t in all_types] # single modes\n",
    "ppf.mode_combinations.append(all_types) # just walking/cycling\n",
    "ppf.mode_combinations.append(all_types - {'bus', 'rail_short'}) # short-distance only\n",
    "ppf.mode_combinations.append(all_types - {'bus', 'rail_short', 'rail_long'}) # rail combo\n",
    "ppf.mode_combinations.append(all_types - {'bus', 'coach'}) # road PT combo\n",
    "ppf.mode_combinations.append(all_types - {'bus', 'rail_short', 'air'}) # air and local\n",
    "ppf.mode_combinations"
   ]
  },
  {
   "cell_type": "code",
   "execution_count": 30,
   "metadata": {
    "scrolled": true
   },
   "outputs": [
    {
     "name": "stderr",
     "output_type": "stream",
     "text": [
      "breaking modes: {'coach', 'rail_long'} : 100%|██████████████████████████████████████| 10/10 [1:24:00<00:00, 504.08s/it]\n"
     ]
    }
   ],
   "source": [
    "# Run the pathfinder for all mode combinations\n",
    "# If there is no boarding time column in links table:\n",
    "# Include a transfer penalty in order to promote direct routes.\n",
    "# It will be substracted later\n",
    "# The penalty must be None, if a link boarding time is set\n",
    "transfer_penalty = None\n",
    "ppf.find_broken_mode_paths(cutoff=np.inf,\n",
    "                           od_set=od_set,\n",
    "                           mode_column='route_type',\n",
    "                           boarding_time=transfer_penalty,\n",
    "                           prune=False)"
   ]
  },
  {
   "cell_type": "code",
   "execution_count": 31,
   "metadata": {},
   "outputs": [],
   "source": [
    "# Free some RAM\n",
    "cols = ['origin', 'destination', 'path', 'gtime']\n",
    "sm.pt_los = ppf.broken_mode_paths[cols]\n",
    "ppf.broken_mode_paths = ppf.broken_mode_paths[cols]\n",
    "ppf.zones = None\n",
    "ppf.links = None\n",
    "ppf.centroids = None\n",
    "ppf.footpaths = None\n",
    "ppf.ntlegs = None"
   ]
  },
  {
   "cell_type": "code",
   "execution_count": 32,
   "metadata": {},
   "outputs": [
    {
     "name": "stdout",
     "output_type": "stream",
     "text": [
      "(1362732, 4)\n"
     ]
    },
    {
     "data": {
      "text/html": [
       "<div>\n",
       "<style scoped>\n",
       "    .dataframe tbody tr th:only-of-type {\n",
       "        vertical-align: middle;\n",
       "    }\n",
       "\n",
       "    .dataframe tbody tr th {\n",
       "        vertical-align: top;\n",
       "    }\n",
       "\n",
       "    .dataframe thead th {\n",
       "        text-align: right;\n",
       "    }\n",
       "</style>\n",
       "<table border=\"1\" class=\"dataframe\">\n",
       "  <thead>\n",
       "    <tr style=\"text-align: right;\">\n",
       "      <th></th>\n",
       "      <th>origin</th>\n",
       "      <th>destination</th>\n",
       "      <th>path</th>\n",
       "      <th>gtime</th>\n",
       "    </tr>\n",
       "  </thead>\n",
       "  <tbody>\n",
       "    <tr>\n",
       "      <th>225899</th>\n",
       "      <td>130745451</td>\n",
       "      <td>57580004</td>\n",
       "      <td>[130745451, b_130745451_4, bus_1220064, bus_12...</td>\n",
       "      <td>33060.374689</td>\n",
       "    </tr>\n",
       "  </tbody>\n",
       "</table>\n",
       "</div>"
      ],
      "text/plain": [
       "           origin  destination  \\\n",
       "225899  130745451     57580004   \n",
       "\n",
       "                                                     path         gtime  \n",
       "225899  [130745451, b_130745451_4, bus_1220064, bus_12...  33060.374689  "
      ]
     },
     "execution_count": 32,
     "metadata": {},
     "output_type": "execute_result"
    }
   ],
   "source": [
    "# Drop inner-cell-connections\n",
    "sm.pt_los = sm.pt_los.loc[sm.pt_los['origin']!=sm.pt_los['destination']]\n",
    "print(sm.pt_los.shape)\n",
    "sm.pt_los.sample()"
   ]
  },
  {
   "cell_type": "code",
   "execution_count": 33,
   "metadata": {},
   "outputs": [
    {
     "data": {
      "text/plain": [
       "(1060647, 4)"
      ]
     },
     "execution_count": 33,
     "metadata": {},
     "output_type": "execute_result"
    }
   ],
   "source": [
    "# Drop duplicate connections\n",
    "sm.pt_los['path'] = sm.pt_los['path'].apply(tuple)\n",
    "sm.pt_los.drop_duplicates('path', inplace=True)\n",
    "sm.pt_los.reset_index(drop=True, inplace=True)\n",
    "sm.pt_los.shape"
   ]
  },
  {
   "cell_type": "markdown",
   "metadata": {},
   "source": [
    "### Add attributes to LoS table"
   ]
  },
  {
   "cell_type": "code",
   "execution_count": 34,
   "metadata": {},
   "outputs": [
    {
     "name": "stderr",
     "output_type": "stream",
     "text": [
      "path_analysis: 100%|██████████████████████████████████████████████████████| 1060647/1060647 [01:44<00:00, 10170.22it/s]\n"
     ]
    }
   ],
   "source": [
    "# Run the path analysis and assign paths as LoS table\n",
    "sm.pt_los = analysis.path_analysis_od_matrix(\n",
    "    od_matrix=sm.pt_los,\n",
    "    links=sm.links,\n",
    "    nodes=sm.nodes,\n",
    "    centroids=sm.centroids)"
   ]
  },
  {
   "cell_type": "code",
   "execution_count": 35,
   "metadata": {},
   "outputs": [
    {
     "data": {
      "text/plain": [
       "(1060204, 17)"
      ]
     },
     "execution_count": 35,
     "metadata": {},
     "output_type": "execute_result"
    }
   ],
   "source": [
    "# Drop connections that don't move along links\n",
    "# They usually take footpaths between stops to get to another zone\n",
    "sm.pt_los = sm.pt_los.loc[sm.pt_los['link_path'].apply(lambda l: len(l)>0)]\n",
    "sm.pt_los.shape"
   ]
  },
  {
   "cell_type": "code",
   "execution_count": 36,
   "metadata": {},
   "outputs": [],
   "source": [
    "# Add distances (Only path, not access/egress)\n",
    "len_dict = sm.links['length'].to_dict()\n",
    "sm.pt_los['length'] = sm.pt_los['link_path'].apply(lambda p: sum([len_dict[l] for l in p]))"
   ]
  },
  {
   "cell_type": "code",
   "execution_count": 37,
   "metadata": {},
   "outputs": [
    {
     "data": {
      "text/plain": [
       "Index(['origin', 'destination', 'path', 'gtime', 'boardings', 'alightings',\n",
       "       'node_path', 'link_path', 'footpaths', 'ntlegs', 'transfers',\n",
       "       'boarding_links', 'alighting_links', 'all_walk', 'ntransfers',\n",
       "       'time_link_path', 'length_link_path', 'length', 'access_time',\n",
       "       'footpath_time', 'in_vehicle_time', 'waiting_time', 'boarding_time',\n",
       "       'time'],\n",
       "      dtype='object')"
      ]
     },
     "execution_count": 37,
     "metadata": {},
     "output_type": "execute_result"
    }
   ],
   "source": [
    "# Disaggregate time into in-vehicle and access/egress\n",
    "# Substract the transfer penalty set above (put 0)\n",
    "if transfer_penalty is None:\n",
    "    sm.analysis_pt_time(boarding_time=None)\n",
    "    sm.pt_los['time'] -= sm.pt_los['boarding_time']\n",
    "#    sm.pt_los['boarding_time'] = 0\n",
    "else:\n",
    "    sm.analysis_pt_time(boarding_time=0)\n",
    "sm.pt_los.columns"
   ]
  },
  {
   "cell_type": "code",
   "execution_count": 38,
   "metadata": {},
   "outputs": [],
   "source": [
    "# Substract the waiting time at the first stop\n",
    "# for all modes but air (includes security checks etc.)\n",
    "headway_dict = sm.links['headway'].to_dict()\n",
    "mask = sm.pt_los['link_path'].apply(lambda l: l[0]).map(sm.links['route_type'])!='air'\n",
    "to_substract = sm.pt_los.loc[mask, 'link_path'].apply(lambda l: l[0]).map(headway_dict) / 2\n",
    "sm.pt_los.loc[mask, 'time'] -= to_substract\n",
    "sm.pt_los.loc[mask, 'waiting_time'] -= to_substract"
   ]
  },
  {
   "cell_type": "code",
   "execution_count": 39,
   "metadata": {},
   "outputs": [],
   "source": [
    "# Also substract waiting time for the second link\n",
    "# where on-demand services are the first link\n",
    "mask = (sm.pt_los['link_path'].apply(lambda l: l[0]).map(\n",
    "        sm.links['route_type_disagg'])=='on-demand') & \\\n",
    "       (sm.pt_los['link_path'].apply(lambda l: len(l)>1))\n",
    "if len(sm.pt_los.loc[mask]) > 0:\n",
    "    to_substract = sm.pt_los.loc[mask, 'link_path'].apply(lambda l: l[1]).map(headway_dict) / 2\n",
    "    sm.pt_los.loc[mask, 'time'] -= to_substract\n",
    "    sm.pt_los.loc[mask, 'waiting_time'] -= to_substract"
   ]
  },
  {
   "cell_type": "code",
   "execution_count": 40,
   "metadata": {},
   "outputs": [
    {
     "data": {
      "text/html": [
       "<div>\n",
       "<style scoped>\n",
       "    .dataframe tbody tr th:only-of-type {\n",
       "        vertical-align: middle;\n",
       "    }\n",
       "\n",
       "    .dataframe tbody tr th {\n",
       "        vertical-align: top;\n",
       "    }\n",
       "\n",
       "    .dataframe thead th {\n",
       "        text-align: right;\n",
       "    }\n",
       "</style>\n",
       "<table border=\"1\" class=\"dataframe\">\n",
       "  <thead>\n",
       "    <tr style=\"text-align: right;\">\n",
       "      <th></th>\n",
       "      <th>ntransfers</th>\n",
       "      <th>length</th>\n",
       "      <th>gtime</th>\n",
       "      <th>access_time</th>\n",
       "      <th>footpath_time</th>\n",
       "      <th>in_vehicle_time</th>\n",
       "      <th>waiting_time</th>\n",
       "      <th>boarding_time</th>\n",
       "      <th>time</th>\n",
       "    </tr>\n",
       "  </thead>\n",
       "  <tbody>\n",
       "    <tr>\n",
       "      <th>323063</th>\n",
       "      <td>1</td>\n",
       "      <td>29135.0</td>\n",
       "      <td>1.000009e+09</td>\n",
       "      <td>732.485612</td>\n",
       "      <td>749.628317</td>\n",
       "      <td>3360</td>\n",
       "      <td>1800.0</td>\n",
       "      <td>0</td>\n",
       "      <td>6642.113929</td>\n",
       "    </tr>\n",
       "    <tr>\n",
       "      <th>644145</th>\n",
       "      <td>4</td>\n",
       "      <td>484055.0</td>\n",
       "      <td>2.685148e+04</td>\n",
       "      <td>696.853423</td>\n",
       "      <td>267.629740</td>\n",
       "      <td>16287</td>\n",
       "      <td>6000.0</td>\n",
       "      <td>0</td>\n",
       "      <td>23251.483162</td>\n",
       "    </tr>\n",
       "  </tbody>\n",
       "</table>\n",
       "</div>"
      ],
      "text/plain": [
       "        ntransfers    length         gtime  access_time  footpath_time  \\\n",
       "323063           1   29135.0  1.000009e+09   732.485612     749.628317   \n",
       "644145           4  484055.0  2.685148e+04   696.853423     267.629740   \n",
       "\n",
       "        in_vehicle_time  waiting_time  boarding_time          time  \n",
       "323063             3360        1800.0              0   6642.113929  \n",
       "644145            16287        6000.0              0  23251.483162  "
      ]
     },
     "execution_count": 40,
     "metadata": {},
     "output_type": "execute_result"
    }
   ],
   "source": [
    "# Check times\n",
    "sm.pt_los[['ntransfers', 'length']+[c for c in sm.pt_los.columns if c[-4:]=='time']].sample(2)"
   ]
  },
  {
   "cell_type": "code",
   "execution_count": 41,
   "metadata": {},
   "outputs": [],
   "source": [
    "# Add route_types\n",
    "type_dict = sm.links['route_type'].to_dict()\n",
    "sm.pt_los['route_types'] = [set([type_dict[link] for link in l])\n",
    "                            for l in list(sm.pt_los['link_path'])]"
   ]
  },
  {
   "cell_type": "code",
   "execution_count": 42,
   "metadata": {},
   "outputs": [],
   "source": [
    "# Add main route_type based on a hierarchy\n",
    "hierarchy = ['air', 'coach', 'rail_long', 'rail_short', 'bus', 'walk']\n",
    "def main_type(types):\n",
    "    t = hierarchy[-1]\n",
    "    try:\n",
    "        t = hierarchy[min([hierarchy.index(t) for t in types])]\n",
    "    except ValueError: # empty types set\n",
    "        pass\n",
    "    return t\n",
    "sm.pt_los['route_type'] = sm.pt_los['route_types'].apply(main_type)"
   ]
  },
  {
   "cell_type": "code",
   "execution_count": 43,
   "metadata": {},
   "outputs": [],
   "source": [
    "# Make a safety copy before restricting results\n",
    "#if manual: los = sm.pt_los.copy()"
   ]
  },
  {
   "cell_type": "code",
   "execution_count": 44,
   "metadata": {},
   "outputs": [],
   "source": [
    "#sm.pt_los = los.copy()"
   ]
  },
  {
   "cell_type": "markdown",
   "metadata": {},
   "source": [
    "### Clean PT LOS"
   ]
  },
  {
   "cell_type": "code",
   "execution_count": 45,
   "metadata": {},
   "outputs": [
    {
     "data": {
      "text/html": [
       "<div>\n",
       "<style scoped>\n",
       "    .dataframe tbody tr th:only-of-type {\n",
       "        vertical-align: middle;\n",
       "    }\n",
       "\n",
       "    .dataframe tbody tr th {\n",
       "        vertical-align: top;\n",
       "    }\n",
       "\n",
       "    .dataframe thead th {\n",
       "        text-align: right;\n",
       "    }\n",
       "</style>\n",
       "<table border=\"1\" class=\"dataframe\">\n",
       "  <thead>\n",
       "    <tr style=\"text-align: right;\">\n",
       "      <th></th>\n",
       "      <th>ntransfers</th>\n",
       "      <th>length</th>\n",
       "      <th>route_types</th>\n",
       "      <th>link_path</th>\n",
       "      <th>gtime</th>\n",
       "      <th>access_time</th>\n",
       "      <th>footpath_time</th>\n",
       "      <th>in_vehicle_time</th>\n",
       "      <th>waiting_time</th>\n",
       "      <th>boarding_time</th>\n",
       "      <th>time</th>\n",
       "    </tr>\n",
       "  </thead>\n",
       "  <tbody>\n",
       "    <tr>\n",
       "      <th>78053</th>\n",
       "      <td>2</td>\n",
       "      <td>285399.000</td>\n",
       "      <td>{rail_short}</td>\n",
       "      <td>[rs_59357, rs_59358, rs_59359, rs_22994, rs_22...</td>\n",
       "      <td>1.548736e+04</td>\n",
       "      <td>1825.246084</td>\n",
       "      <td>912.111207</td>\n",
       "      <td>10050</td>\n",
       "      <td>2100.0</td>\n",
       "      <td>0</td>\n",
       "      <td>14887.357291</td>\n",
       "    </tr>\n",
       "    <tr>\n",
       "      <th>103550</th>\n",
       "      <td>0</td>\n",
       "      <td>242858.000</td>\n",
       "      <td>{rail_long}</td>\n",
       "      <td>[rl_1882, rl_1883]</td>\n",
       "      <td>1.000011e+09</td>\n",
       "      <td>1825.246084</td>\n",
       "      <td>505.546701</td>\n",
       "      <td>5820</td>\n",
       "      <td>0.0</td>\n",
       "      <td>0</td>\n",
       "      <td>8150.792785</td>\n",
       "    </tr>\n",
       "    <tr>\n",
       "      <th>295584</th>\n",
       "      <td>75</td>\n",
       "      <td>1522304.000</td>\n",
       "      <td>{bus}</td>\n",
       "      <td>[bus_1635937, bus_1635938, bus_1635940, bus_16...</td>\n",
       "      <td>2.727322e+05</td>\n",
       "      <td>1825.246084</td>\n",
       "      <td>0.000000</td>\n",
       "      <td>149262</td>\n",
       "      <td>121045.0</td>\n",
       "      <td>0</td>\n",
       "      <td>272132.246084</td>\n",
       "    </tr>\n",
       "    <tr>\n",
       "      <th>346889</th>\n",
       "      <td>0</td>\n",
       "      <td>281094.112</td>\n",
       "      <td>{coach}</td>\n",
       "      <td>[c_2330]</td>\n",
       "      <td>1.000017e+09</td>\n",
       "      <td>1825.246084</td>\n",
       "      <td>545.301373</td>\n",
       "      <td>11400</td>\n",
       "      <td>0.0</td>\n",
       "      <td>0</td>\n",
       "      <td>13770.547457</td>\n",
       "    </tr>\n",
       "    <tr>\n",
       "      <th>536377</th>\n",
       "      <td>2</td>\n",
       "      <td>285399.000</td>\n",
       "      <td>{rail_short}</td>\n",
       "      <td>[rs_59403, rs_59404, rs_59405, rs_22994, rs_22...</td>\n",
       "      <td>1.548736e+04</td>\n",
       "      <td>1825.246084</td>\n",
       "      <td>912.111207</td>\n",
       "      <td>10050</td>\n",
       "      <td>2100.0</td>\n",
       "      <td>0</td>\n",
       "      <td>14887.357291</td>\n",
       "    </tr>\n",
       "    <tr>\n",
       "      <th>733844</th>\n",
       "      <td>2</td>\n",
       "      <td>257234.000</td>\n",
       "      <td>{rail_short, rail_long}</td>\n",
       "      <td>[rs_59403, rs_59404, rs_59405, rl_1574, rl_157...</td>\n",
       "      <td>1.193276e+04</td>\n",
       "      <td>1825.246084</td>\n",
       "      <td>957.512987</td>\n",
       "      <td>6450</td>\n",
       "      <td>2100.0</td>\n",
       "      <td>0</td>\n",
       "      <td>11332.759071</td>\n",
       "    </tr>\n",
       "    <tr>\n",
       "      <th>935232</th>\n",
       "      <td>10</td>\n",
       "      <td>648115.816</td>\n",
       "      <td>{coach, bus}</td>\n",
       "      <td>[bus_1635937, bus_1635938, bus_1635940, bus_16...</td>\n",
       "      <td>5.237281e+04</td>\n",
       "      <td>1825.246084</td>\n",
       "      <td>625.559826</td>\n",
       "      <td>29642</td>\n",
       "      <td>19680.0</td>\n",
       "      <td>0</td>\n",
       "      <td>51772.805910</td>\n",
       "    </tr>\n",
       "  </tbody>\n",
       "</table>\n",
       "</div>"
      ],
      "text/plain": [
       "        ntransfers       length              route_types  \\\n",
       "78053            2   285399.000             {rail_short}   \n",
       "103550           0   242858.000              {rail_long}   \n",
       "295584          75  1522304.000                    {bus}   \n",
       "346889           0   281094.112                  {coach}   \n",
       "536377           2   285399.000             {rail_short}   \n",
       "733844           2   257234.000  {rail_short, rail_long}   \n",
       "935232          10   648115.816             {coach, bus}   \n",
       "\n",
       "                                                link_path         gtime  \\\n",
       "78053   [rs_59357, rs_59358, rs_59359, rs_22994, rs_22...  1.548736e+04   \n",
       "103550                                 [rl_1882, rl_1883]  1.000011e+09   \n",
       "295584  [bus_1635937, bus_1635938, bus_1635940, bus_16...  2.727322e+05   \n",
       "346889                                           [c_2330]  1.000017e+09   \n",
       "536377  [rs_59403, rs_59404, rs_59405, rs_22994, rs_22...  1.548736e+04   \n",
       "733844  [rs_59403, rs_59404, rs_59405, rl_1574, rl_157...  1.193276e+04   \n",
       "935232  [bus_1635937, bus_1635938, bus_1635940, bus_16...  5.237281e+04   \n",
       "\n",
       "        access_time  footpath_time  in_vehicle_time  waiting_time  \\\n",
       "78053   1825.246084     912.111207            10050        2100.0   \n",
       "103550  1825.246084     505.546701             5820           0.0   \n",
       "295584  1825.246084       0.000000           149262      121045.0   \n",
       "346889  1825.246084     545.301373            11400           0.0   \n",
       "536377  1825.246084     912.111207            10050        2100.0   \n",
       "733844  1825.246084     957.512987             6450        2100.0   \n",
       "935232  1825.246084     625.559826            29642       19680.0   \n",
       "\n",
       "        boarding_time           time  \n",
       "78053               0   14887.357291  \n",
       "103550              0    8150.792785  \n",
       "295584              0  272132.246084  \n",
       "346889              0   13770.547457  \n",
       "536377              0   14887.357291  \n",
       "733844              0   11332.759071  \n",
       "935232              0   51772.805910  "
      ]
     },
     "execution_count": 45,
     "metadata": {},
     "output_type": "execute_result"
    }
   ],
   "source": [
    "# Look at Berlin - Hamburg times\n",
    "sm.pt_los.loc[(sm.pt_los['origin'].isin(sm.zones.loc[sm.zones['name']=='Berlin', 'FID']))\n",
    "              &(sm.pt_los['destination'].isin(sm.zones.loc[sm.zones['name']=='Hamburg', 'FID']))\n",
    "             ][['ntransfers', 'length', 'route_types', 'link_path']\n",
    "               +[c for c in sm.pt_los.columns if c[-4:]=='time']]"
   ]
  },
  {
   "cell_type": "code",
   "execution_count": 46,
   "metadata": {},
   "outputs": [
    {
     "data": {
      "text/plain": [
       "(971854, 27)"
      ]
     },
     "execution_count": 46,
     "metadata": {},
     "output_type": "execute_result"
    }
   ],
   "source": [
    "# Keep only the fastest trip(s)\n",
    "sm.pt_los['route_types'] = sm.pt_los['route_types'].apply(tuple)\n",
    "sm.pt_los = sm.pt_los.sort_values('time').groupby(\n",
    "    ['origin', 'destination', 'route_types']).nth(\n",
    "        list(range(params['clean_los']['n_fastest_trips']))).reset_index()\n",
    "sm.pt_los.shape"
   ]
  },
  {
   "cell_type": "code",
   "execution_count": 47,
   "metadata": {},
   "outputs": [
    {
     "data": {
      "text/plain": [
       "(971854, 27)"
      ]
     },
     "execution_count": 47,
     "metadata": {},
     "output_type": "execute_result"
    }
   ],
   "source": [
    "# Drop trips with coach-rail or coach-air combinations\n",
    "sm.pt_los = sm.pt_los.loc[~sm.pt_los['route_types'].apply(\n",
    "    lambda x: 'coach' in x and ('rail_long' in x or 'rail_short' in x))]\n",
    "sm.pt_los.shape"
   ]
  },
  {
   "cell_type": "code",
   "execution_count": 48,
   "metadata": {},
   "outputs": [
    {
     "data": {
      "text/plain": [
       "(798457, 27)"
      ]
     },
     "execution_count": 48,
     "metadata": {},
     "output_type": "execute_result"
    }
   ],
   "source": [
    "# Drop unrealistically long trips\n",
    "sm.pt_los = sm.pt_los.loc[sm.pt_los['in_vehicle_time']<params['clean_los']['max_duration']]\n",
    "sm.pt_los.shape"
   ]
  },
  {
   "cell_type": "code",
   "execution_count": 49,
   "metadata": {},
   "outputs": [
    {
     "data": {
      "image/png": "[encoded data removed]",
      "text/plain": [
       "<Figure size 400x400 with 1 Axes>"
      ]
     },
     "metadata": {},
     "output_type": "display_data"
    }
   ],
   "source": [
    "# Time distribution\n",
    "if manual:\n",
    "    sm.pt_los.hist(column='time', bins=100, log=True, alpha=.5,\n",
    "                   ax=sm.pt_los.hist(column='in_vehicle_time', color='green',\n",
    "                                     bins=100, figsize=(4,4), log=True, alpha=.5))"
   ]
  },
  {
   "cell_type": "code",
   "execution_count": 50,
   "metadata": {},
   "outputs": [
    {
     "data": {
      "image/png": "[encoded data removed]",
      "text/plain": [
       "<Figure size 400x400 with 1 Axes>"
      ]
     },
     "metadata": {},
     "output_type": "display_data"
    }
   ],
   "source": [
    "if manual: sm.pt_los.hist(column='ntransfers', figsize=(4,4))"
   ]
  },
  {
   "cell_type": "code",
   "execution_count": 51,
   "metadata": {},
   "outputs": [
    {
     "name": "stderr",
     "output_type": "stream",
     "text": [
      "C:\\Users\\m.arnz\\AppData\\Local\\Temp\\ipykernel_14540\\2661536933.py:6: FutureWarning: The default of observed=False is deprecated and will be changed to True in a future version of pandas. Pass observed=False to retain current behavior or observed=True to adopt the future default and silence this warning.\n",
      "  axs = t.groupby(['route_type','bins']).size().unstack(fill_value=0).plot.pie(\n"
     ]
    },
    {
     "data": {
      "image/png": "[encoded data removed]",
      "text/plain": [
       "<Figure size 1600x300 with 6 Axes>"
      ]
     },
     "metadata": {},
     "output_type": "display_data"
    }
   ],
   "source": [
    "# Main mode distribution by transfers\n",
    "if manual:\n",
    "    t = sm.pt_los#.copy()\n",
    "    t['bins'] = pd.cut(t['ntransfers'], bins=[0,1,3,5,10,20,100],\n",
    "                       labels=[\"0-1\", \"2-3\",\"4-5\",\"6-10\",\"11-20\",\"21+\"])\n",
    "    axs = t.groupby(['route_type','bins']).size().unstack(fill_value=0).plot.pie(\n",
    "        subplots=True, figsize=(16, 3),\n",
    "        startangle=0, counterclock=False, title='Main mode by number of transfers',\n",
    "        legend=False, labeldistance=None)\n",
    "    axs[0].legend(loc='lower left')"
   ]
  },
  {
   "cell_type": "code",
   "execution_count": 52,
   "metadata": {},
   "outputs": [
    {
     "data": {
      "image/png": "[encoded data removed]",
      "text/plain": [
       "<Figure size 640x480 with 1 Axes>"
      ]
     },
     "metadata": {},
     "output_type": "display_data"
    }
   ],
   "source": [
    "# Distribution of mode combinations\n",
    "if manual:\n",
    "    t.groupby('route_types').count()['route_type'].plot(kind='bar')"
   ]
  },
  {
   "cell_type": "code",
   "execution_count": 53,
   "metadata": {},
   "outputs": [
    {
     "name": "stderr",
     "output_type": "stream",
     "text": [
      "C:\\Users\\m.arnz\\AppData\\Local\\Temp\\ipykernel_14540\\2210346077.py:4: FutureWarning: The default of observed=False is deprecated and will be changed to True in a future version of pandas. Pass observed=False to retain current behavior or observed=True to adopt the future default and silence this warning.\n",
      "  axs = t.groupby(['route_type','bins']).size().unstack(fill_value=0).plot.pie(\n"
     ]
    },
    {
     "data": {
      "image/png": "[encoded data removed]",
      "text/plain": [
       "<Figure size 1600x300 with 5 Axes>"
      ]
     },
     "metadata": {},
     "output_type": "display_data"
    }
   ],
   "source": [
    "if manual:\n",
    "    t['bins'] = pd.cut(t['time'], bins=[0,30*60,60*60,120*60,360*60,5000*60],\n",
    "                       labels=[\"0-30\",\"31-60\",\"61-120\",\"120-360\",\"361+\"])\n",
    "    axs = t.groupby(['route_type','bins']).size().unstack(fill_value=0).plot.pie(\n",
    "        subplots=True, figsize=(16, 3),\n",
    "        startangle=0, counterclock=False, title='Main mode by trip duration',\n",
    "        legend=False, labeldistance=None)\n",
    "    axs[0].legend()"
   ]
  },
  {
   "cell_type": "code",
   "execution_count": 54,
   "metadata": {},
   "outputs": [
    {
     "data": {
      "text/plain": [
       "(656535, 28)"
      ]
     },
     "execution_count": 54,
     "metadata": {},
     "output_type": "execute_result"
    }
   ],
   "source": [
    "# Drop unnecessary long connections if there is a waiting time applied\n",
    "if sm.links['headway'].mean() > 1*60:\n",
    "    sm.pt_los = sm.pt_los.loc[sm.pt_los['ntransfers']<=\n",
    "                              params['clean_los']['max_transfers']]\n",
    "    # Drop coach connections with more than one transfer\n",
    "    sm.pt_los = sm.pt_los.loc[~((sm.pt_los['route_type']=='coach') &\n",
    "                                (sm.pt_los['boardings'].apply(\n",
    "                                    lambda l: len([n for n in l if n.startswith('c')])>2)\n",
    "                                ))]\n",
    "sm.pt_los.shape"
   ]
  },
  {
   "cell_type": "code",
   "execution_count": 55,
   "metadata": {},
   "outputs": [
    {
     "data": {
      "text/plain": [
       "(642102, 28)"
      ]
     },
     "execution_count": 55,
     "metadata": {},
     "output_type": "execute_result"
    }
   ],
   "source": [
    "# Bus tickets are relatively cheap, but they apply only for short distances\n",
    "# And nobody books tickets at five different bus agencies\n",
    "# Thus, drop bus trips longer than 100km\n",
    "sm.pt_los = sm.pt_los.loc[~((sm.pt_los['route_type']=='bus') &\n",
    "                            (sm.pt_los['length']>params['clean_los']['max_dist_bus']))]\n",
    "sm.pt_los.shape"
   ]
  },
  {
   "cell_type": "code",
   "execution_count": 56,
   "metadata": {},
   "outputs": [
    {
     "data": {
      "text/plain": [
       "(640084, 28)"
      ]
     },
     "execution_count": 56,
     "metadata": {},
     "output_type": "execute_result"
    }
   ],
   "source": [
    "# Also drop coach trips for local transport\n",
    "sm.pt_los = sm.pt_los.loc[~((sm.pt_los['route_type']=='coach') &\n",
    "                            (sm.pt_los['length']<params['clean_los']['min_dist_coach']))]\n",
    "sm.pt_los.shape"
   ]
  },
  {
   "cell_type": "code",
   "execution_count": 57,
   "metadata": {},
   "outputs": [
    {
     "data": {
      "text/plain": [
       "616321"
      ]
     },
     "execution_count": 57,
     "metadata": {},
     "output_type": "execute_result"
    }
   ],
   "source": [
    "# Keep only trips where in-vehicle-time makes at least a third\n",
    "#sm.pt_los = sm.pt_los.loc[sm.pt_los['time']<sm.pt_los['in_vehicle_time']*3]\n",
    "#sm.pt_los.shape\n",
    "len(sm.pt_los.loc[sm.pt_los['time']<sm.pt_los['in_vehicle_time']*3])"
   ]
  },
  {
   "cell_type": "code",
   "execution_count": 58,
   "metadata": {},
   "outputs": [
    {
     "data": {
      "text/plain": [
       "(524474, 28)"
      ]
     },
     "execution_count": 58,
     "metadata": {},
     "output_type": "execute_result"
    }
   ],
   "source": [
    "# Drop rail short-distance trips above a distance threshold,\n",
    "# if a long-distance connection is available\n",
    "sm.pt_los['both'] = sm.pt_los.merge(\n",
    "    sm.pt_los.groupby(['origin', 'destination'])['route_type'].apply(\n",
    "        lambda od: 'rail_short' in list(od) and 'rail_long' in list(od)).rename('both'),\n",
    "    left_on=['origin', 'destination'], right_index=True)['both']\n",
    "sm.pt_los = sm.pt_los.loc[~((sm.pt_los['route_type']=='rail_short') &\n",
    "                            (sm.pt_los['both']==True) &\n",
    "                            (sm.pt_los['length']>params['clean_los']['max_dist_rail_short']))]\n",
    "sm.pt_los.drop('both', axis=1, inplace=True)\n",
    "sm.pt_los.shape"
   ]
  },
  {
   "cell_type": "code",
   "execution_count": 59,
   "metadata": {},
   "outputs": [
    {
     "data": {
      "image/png": "[encoded data removed]",
      "text/plain": [
       "<Figure size 640x480 with 1 Axes>"
      ]
     },
     "metadata": {},
     "output_type": "display_data"
    }
   ],
   "source": [
    "if manual: sm.pt_los.groupby('route_types').count()['route_type'].plot(kind='bar')"
   ]
  },
  {
   "cell_type": "code",
   "execution_count": 60,
   "metadata": {},
   "outputs": [
    {
     "data": {
      "image/png": "[encoded data removed]",
      "text/plain": [
       "<Figure size 400x400 with 1 Axes>"
      ]
     },
     "metadata": {},
     "output_type": "display_data"
    }
   ],
   "source": [
    "# Time distribution\n",
    "if manual:\n",
    "    sm.pt_los.hist(column='time', bins=100, log=False, alpha=.5,\n",
    "                   ax=sm.pt_los.hist(column='in_vehicle_time', color='green',\n",
    "                                     bins=100, figsize=(4,4), log=False, alpha=.5))"
   ]
  },
  {
   "cell_type": "code",
   "execution_count": 61,
   "metadata": {},
   "outputs": [
    {
     "data": {
      "text/html": [
       "<div>\n",
       "<style scoped>\n",
       "    .dataframe tbody tr th:only-of-type {\n",
       "        vertical-align: middle;\n",
       "    }\n",
       "\n",
       "    .dataframe tbody tr th {\n",
       "        vertical-align: top;\n",
       "    }\n",
       "\n",
       "    .dataframe thead th {\n",
       "        text-align: right;\n",
       "    }\n",
       "</style>\n",
       "<table border=\"1\" class=\"dataframe\">\n",
       "  <thead>\n",
       "    <tr style=\"text-align: right;\">\n",
       "      <th></th>\n",
       "      <th>ntransfers</th>\n",
       "      <th>length</th>\n",
       "      <th>route_types</th>\n",
       "      <th>link_path</th>\n",
       "      <th>gtime</th>\n",
       "      <th>access_time</th>\n",
       "      <th>footpath_time</th>\n",
       "      <th>in_vehicle_time</th>\n",
       "      <th>waiting_time</th>\n",
       "      <th>boarding_time</th>\n",
       "      <th>time</th>\n",
       "    </tr>\n",
       "  </thead>\n",
       "  <tbody>\n",
       "    <tr>\n",
       "      <th>74841</th>\n",
       "      <td>0</td>\n",
       "      <td>242858.000</td>\n",
       "      <td>(rail_long,)</td>\n",
       "      <td>[rl_1882, rl_1883]</td>\n",
       "      <td>1.000011e+09</td>\n",
       "      <td>1825.246084</td>\n",
       "      <td>505.546701</td>\n",
       "      <td>5820</td>\n",
       "      <td>0.0</td>\n",
       "      <td>0</td>\n",
       "      <td>8150.792785</td>\n",
       "    </tr>\n",
       "    <tr>\n",
       "      <th>112393</th>\n",
       "      <td>2</td>\n",
       "      <td>257234.000</td>\n",
       "      <td>(rail_short, rail_long)</td>\n",
       "      <td>[rs_59403, rs_59404, rs_59405, rl_1574, rl_157...</td>\n",
       "      <td>1.193276e+04</td>\n",
       "      <td>1825.246084</td>\n",
       "      <td>957.512987</td>\n",
       "      <td>6450</td>\n",
       "      <td>2100.0</td>\n",
       "      <td>0</td>\n",
       "      <td>11332.759071</td>\n",
       "    </tr>\n",
       "    <tr>\n",
       "      <th>144740</th>\n",
       "      <td>0</td>\n",
       "      <td>281094.112</td>\n",
       "      <td>(coach,)</td>\n",
       "      <td>[c_2330]</td>\n",
       "      <td>1.000017e+09</td>\n",
       "      <td>1825.246084</td>\n",
       "      <td>545.301373</td>\n",
       "      <td>11400</td>\n",
       "      <td>0.0</td>\n",
       "      <td>0</td>\n",
       "      <td>13770.547457</td>\n",
       "    </tr>\n",
       "    <tr>\n",
       "      <th>161420</th>\n",
       "      <td>2</td>\n",
       "      <td>285399.000</td>\n",
       "      <td>(rail_short,)</td>\n",
       "      <td>[rs_59357, rs_59358, rs_59359, rs_22994, rs_22...</td>\n",
       "      <td>1.548736e+04</td>\n",
       "      <td>1825.246084</td>\n",
       "      <td>912.111207</td>\n",
       "      <td>10050</td>\n",
       "      <td>2100.0</td>\n",
       "      <td>0</td>\n",
       "      <td>14887.357291</td>\n",
       "    </tr>\n",
       "  </tbody>\n",
       "</table>\n",
       "</div>"
      ],
      "text/plain": [
       "        ntransfers      length              route_types  \\\n",
       "74841            0  242858.000             (rail_long,)   \n",
       "112393           2  257234.000  (rail_short, rail_long)   \n",
       "144740           0  281094.112                 (coach,)   \n",
       "161420           2  285399.000            (rail_short,)   \n",
       "\n",
       "                                                link_path         gtime  \\\n",
       "74841                                  [rl_1882, rl_1883]  1.000011e+09   \n",
       "112393  [rs_59403, rs_59404, rs_59405, rl_1574, rl_157...  1.193276e+04   \n",
       "144740                                           [c_2330]  1.000017e+09   \n",
       "161420  [rs_59357, rs_59358, rs_59359, rs_22994, rs_22...  1.548736e+04   \n",
       "\n",
       "        access_time  footpath_time  in_vehicle_time  waiting_time  \\\n",
       "74841   1825.246084     505.546701             5820           0.0   \n",
       "112393  1825.246084     957.512987             6450        2100.0   \n",
       "144740  1825.246084     545.301373            11400           0.0   \n",
       "161420  1825.246084     912.111207            10050        2100.0   \n",
       "\n",
       "        boarding_time          time  \n",
       "74841               0   8150.792785  \n",
       "112393              0  11332.759071  \n",
       "144740              0  13770.547457  \n",
       "161420              0  14887.357291  "
      ]
     },
     "execution_count": 61,
     "metadata": {},
     "output_type": "execute_result"
    }
   ],
   "source": [
    "# Look at Berlin - Hamburg times\n",
    "sm.pt_los.loc[(sm.pt_los['origin'].isin(sm.zones.loc[sm.zones['name']=='Berlin', 'FID']))\n",
    "              &(sm.pt_los['destination'].isin(sm.zones.loc[sm.zones['name']=='Hamburg', 'FID']))\n",
    "             ][['ntransfers', 'length', 'route_types', 'link_path']\n",
    "               +[c for c in sm.pt_los.columns if c[-4:]=='time']]"
   ]
  },
  {
   "cell_type": "code",
   "execution_count": 62,
   "metadata": {},
   "outputs": [
    {
     "name": "stdout",
     "output_type": "stream",
     "text": [
      "524474\n"
     ]
    }
   ],
   "source": [
    "print(len(sm.pt_los))\n",
    "assert sm.pt_los.isna().any(axis=1).max() == 0"
   ]
  },
  {
   "cell_type": "markdown",
   "metadata": {},
   "source": [
    "## Save model"
   ]
  },
  {
   "cell_type": "code",
   "execution_count": 63,
   "metadata": {},
   "outputs": [],
   "source": [
    "# Ditch unneccessary columns\n",
    "to_drop = ['gtime', 'path', 'reversed', 'pathfinder_session',\n",
    "           'broken_modes', 'boardings', 'alightings', 'node_path',\n",
    "           'footpaths', 'ntlegs', 'transfers', 'boarding_links',\n",
    "           'alighting_links', 'all_walk', 'time_link_path',\n",
    "           'length_link_path', 'boarding_time', 'index', 'bins']\n",
    "sm.pt_los = sm.pt_los.drop(to_drop, axis=1, errors='ignore')"
   ]
  },
  {
   "cell_type": "code",
   "execution_count": 64,
   "metadata": {},
   "outputs": [],
   "source": [
    "# Clean links table\n",
    "to_drop = ['duration', 'cost', 'origin', 'destination']\n",
    "sm.links = sm.links.drop(to_drop, axis=1, errors='ignore')"
   ]
  },
  {
   "cell_type": "code",
   "execution_count": 65,
   "metadata": {},
   "outputs": [],
   "source": [
    "# Make table smaller\n",
    "cols = ['time', 'access_time', 'in_vehicle_time', 'footpath_time',\n",
    "        'waiting_time', 'length']\n",
    "sm.pt_los[cols] = sm.pt_los[cols].astype(int)"
   ]
  },
  {
   "cell_type": "code",
   "execution_count": 66,
   "metadata": {},
   "outputs": [
    {
     "data": {
      "text/html": [
       "<div>\n",
       "<style scoped>\n",
       "    .dataframe tbody tr th:only-of-type {\n",
       "        vertical-align: middle;\n",
       "    }\n",
       "\n",
       "    .dataframe tbody tr th {\n",
       "        vertical-align: top;\n",
       "    }\n",
       "\n",
       "    .dataframe thead th {\n",
       "        text-align: right;\n",
       "    }\n",
       "</style>\n",
       "<table border=\"1\" class=\"dataframe\">\n",
       "  <thead>\n",
       "    <tr style=\"text-align: right;\">\n",
       "      <th></th>\n",
       "      <th>origin</th>\n",
       "      <th>destination</th>\n",
       "      <th>link_path</th>\n",
       "      <th>ntransfers</th>\n",
       "      <th>length</th>\n",
       "      <th>access_time</th>\n",
       "      <th>footpath_time</th>\n",
       "      <th>in_vehicle_time</th>\n",
       "      <th>waiting_time</th>\n",
       "      <th>time</th>\n",
       "      <th>route_types</th>\n",
       "      <th>route_type</th>\n",
       "    </tr>\n",
       "  </thead>\n",
       "  <tbody>\n",
       "    <tr>\n",
       "      <th>331862</th>\n",
       "      <td>81365001</td>\n",
       "      <td>51700048</td>\n",
       "      <td>[bus_2097889, rs_19384, rl_2844, rl_2845, rl_2...</td>\n",
       "      <td>5</td>\n",
       "      <td>468965</td>\n",
       "      <td>972</td>\n",
       "      <td>266</td>\n",
       "      <td>13920</td>\n",
       "      <td>8100</td>\n",
       "      <td>23259</td>\n",
       "      <td>(rail_long, rail_short, bus)</td>\n",
       "      <td>rail_long</td>\n",
       "    </tr>\n",
       "  </tbody>\n",
       "</table>\n",
       "</div>"
      ],
      "text/plain": [
       "          origin  destination  \\\n",
       "331862  81365001     51700048   \n",
       "\n",
       "                                                link_path  ntransfers  length  \\\n",
       "331862  [bus_2097889, rs_19384, rl_2844, rl_2845, rl_2...           5  468965   \n",
       "\n",
       "        access_time  footpath_time  in_vehicle_time  waiting_time   time  \\\n",
       "331862          972            266            13920          8100  23259   \n",
       "\n",
       "                         route_types route_type  \n",
       "331862  (rail_long, rail_short, bus)  rail_long  "
      ]
     },
     "execution_count": 66,
     "metadata": {},
     "output_type": "execute_result"
    }
   ],
   "source": [
    "sm.pt_los.sample()"
   ]
  },
  {
   "cell_type": "code",
   "execution_count": 67,
   "metadata": {},
   "outputs": [
    {
     "name": "stderr",
     "output_type": "stream",
     "text": [
      "pt_los: 100%|██████████████████████████████████████████████████████████████████████████| 15/15 [00:12<00:00,  1.23it/s]\n"
     ]
    }
   ],
   "source": [
    "# Saving LoS...\n",
    "sm.to_zippedpickles(model_path + 'de_pt_los', only_attributes=['pt_los'])"
   ]
  }
 ],
 "metadata": {
  "kernelspec": {
   "display_name": "Python 3 (ipykernel)",
   "language": "python",
   "name": "python3"
  },
  "language_info": {
   "codemirror_mode": {
    "name": "ipython",
    "version": 3
   },
   "file_extension": ".py",
   "mimetype": "text/x-python",
   "name": "python",
   "nbconvert_exporter": "python",
   "pygments_lexer": "ipython3",
   "version": "3.10.14"
  }
 },
 "nbformat": 4,
 "nbformat_minor": 4
}
