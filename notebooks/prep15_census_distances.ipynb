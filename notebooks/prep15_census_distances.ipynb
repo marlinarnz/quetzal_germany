{
 "cells": [
  {
   "cell_type": "code",
   "execution_count": 1,
   "metadata": {},
   "outputs": [
    {
     "name": "stderr",
     "output_type": "stream",
     "text": [
      "\n",
      "Bad key text.latex.preview in file C:\\Users\\marlin.arnz\\AppData\\Local\\Continuum\\miniconda3\\envs\\quetzal\\lib\\site-packages\\matplotlib\\mpl-data\\stylelib\\_classic_test.mplstyle, line 123 ('text.latex.preview : False')\n",
      "You probably need to get an updated matplotlibrc file from\n",
      "https://github.com/matplotlib/matplotlib/blob/v3.5.2/matplotlibrc.template\n",
      "or from the matplotlib source distribution\n",
      "\n",
      "Bad key mathtext.fallback_to_cm in file C:\\Users\\marlin.arnz\\AppData\\Local\\Continuum\\miniconda3\\envs\\quetzal\\lib\\site-packages\\matplotlib\\mpl-data\\stylelib\\_classic_test.mplstyle, line 155 ('mathtext.fallback_to_cm : True  # When True, use symbols from the Computer Modern')\n",
      "You probably need to get an updated matplotlibrc file from\n",
      "https://github.com/matplotlib/matplotlib/blob/v3.5.2/matplotlibrc.template\n",
      "or from the matplotlib source distribution\n",
      "\n",
      "Bad key savefig.jpeg_quality in file C:\\Users\\marlin.arnz\\AppData\\Local\\Continuum\\miniconda3\\envs\\quetzal\\lib\\site-packages\\matplotlib\\mpl-data\\stylelib\\_classic_test.mplstyle, line 418 ('savefig.jpeg_quality: 95       # when a jpeg is saved, the default quality parameter.')\n",
      "You probably need to get an updated matplotlibrc file from\n",
      "https://github.com/matplotlib/matplotlib/blob/v3.5.2/matplotlibrc.template\n",
      "or from the matplotlib source distribution\n",
      "\n",
      "Bad key keymap.all_axes in file C:\\Users\\marlin.arnz\\AppData\\Local\\Continuum\\miniconda3\\envs\\quetzal\\lib\\site-packages\\matplotlib\\mpl-data\\stylelib\\_classic_test.mplstyle, line 466 ('keymap.all_axes : a                 # enable all axes')\n",
      "You probably need to get an updated matplotlibrc file from\n",
      "https://github.com/matplotlib/matplotlib/blob/v3.5.2/matplotlibrc.template\n",
      "or from the matplotlib source distribution\n",
      "\n",
      "Bad key animation.avconv_path in file C:\\Users\\marlin.arnz\\AppData\\Local\\Continuum\\miniconda3\\envs\\quetzal\\lib\\site-packages\\matplotlib\\mpl-data\\stylelib\\_classic_test.mplstyle, line 477 ('animation.avconv_path: avconv     # Path to avconv binary. Without full path')\n",
      "You probably need to get an updated matplotlibrc file from\n",
      "https://github.com/matplotlib/matplotlib/blob/v3.5.2/matplotlibrc.template\n",
      "or from the matplotlib source distribution\n",
      "\n",
      "Bad key animation.avconv_args in file C:\\Users\\marlin.arnz\\AppData\\Local\\Continuum\\miniconda3\\envs\\quetzal\\lib\\site-packages\\matplotlib\\mpl-data\\stylelib\\_classic_test.mplstyle, line 479 ('animation.avconv_args:            # Additional arguments to pass to avconv')\n",
      "You probably need to get an updated matplotlibrc file from\n",
      "https://github.com/matplotlib/matplotlib/blob/v3.5.2/matplotlibrc.template\n",
      "or from the matplotlib source distribution\n"
     ]
    }
   ],
   "source": [
    "import sys # for automation and parallelisation\n",
    "manual, scenario = (True, 'base') if 'ipykernel' in sys.argv[0] else (False, sys.argv[1])\n",
    "if manual:\n",
    "    %matplotlib inline"
   ]
  },
  {
   "cell_type": "code",
   "execution_count": 27,
   "metadata": {
    "scrolled": true
   },
   "outputs": [],
   "source": [
    "import os\n",
    "import pandas as pd\n",
    "import geopandas as gpd\n",
    "import numpy as np\n",
    "from shapely import geometry\n",
    "import shapely.speedups\n",
    "from tqdm import tqdm\n",
    "from syspy.skims import skims\n",
    "from sklearn.cluster import KMeans\n",
    "from quetzal.model import stepmodel\n",
    "from quetzal.io import excel"
   ]
  },
  {
   "cell_type": "markdown",
   "metadata": {},
   "source": [
    "# Preparation of input data\n",
    "## Generates a DataFrame of PT stops with mean weighted distances to population cells\n",
    "## Needs original PT nodes"
   ]
  },
  {
   "cell_type": "code",
   "execution_count": 3,
   "metadata": {},
   "outputs": [],
   "source": [
    "input_path = '../input_static/spatial_'\n",
    "output_path = '../output/'\n",
    "model_path = '../input_static/'"
   ]
  },
  {
   "cell_type": "code",
   "execution_count": 4,
   "metadata": {},
   "outputs": [],
   "source": [
    "# Load scenario parameters\n",
    "params = excel.read_var(file='../input/parameters.xls', scenario=scenario)"
   ]
  },
  {
   "cell_type": "code",
   "execution_count": 5,
   "metadata": {},
   "outputs": [],
   "source": [
    "sm = stepmodel.read_json(model_path + 'de_pt_network')"
   ]
  },
  {
   "cell_type": "code",
   "execution_count": 6,
   "metadata": {},
   "outputs": [
    {
     "name": "stderr",
     "output_type": "stream",
     "text": [
      "100%|█████████████████████████████████████████████████████████████████████████████| 2225/2225 [00:07<00:00, 293.01it/s]\n"
     ]
    }
   ],
   "source": [
    "# Map nodes to zones\n",
    "if 'FID' not in sm.nodes.columns:\n",
    "    shapely.speedups.enable()\n",
    "    sm.nodes['FID'] = np.nan\n",
    "    sm.nodes = gpd.GeoDataFrame(sm.nodes, crs=sm.epsg)\n",
    "    for _, zone in tqdm(sm.zones.iterrows(), total=sm.zones.shape[0]):\n",
    "        sm.nodes.loc[sm.nodes['geometry'].within(zone['geometry']), 'FID'] = zone['FID']\n",
    "    #sm.nodes.to_file(model_path + 'de_pt_network/nodes.geojson', driver='GeoJSON', encoding='utf-8')"
   ]
  },
  {
   "cell_type": "code",
   "execution_count": 7,
   "metadata": {},
   "outputs": [],
   "source": [
    "bus = stepmodel.read_json(model_path + 'de_pt_network_bus')"
   ]
  },
  {
   "cell_type": "code",
   "execution_count": 8,
   "metadata": {},
   "outputs": [
    {
     "name": "stderr",
     "output_type": "stream",
     "text": [
      "100%|██████████████████████████████████████████████████████████████████████████████| 2225/2225 [03:04<00:00, 12.09it/s]\n"
     ]
    }
   ],
   "source": [
    "# Map bus nodes to zones\n",
    "if 'FID' not in bus.nodes.columns:\n",
    "    shapely.speedups.enable()\n",
    "    bus.nodes['FID'] = np.nan\n",
    "    bus.nodes = gpd.GeoDataFrame(bus.nodes, crs=sm.epsg)\n",
    "    for _, zone in tqdm(bus.zones.iterrows(), total=bus.zones.shape[0]):\n",
    "        bus.nodes.loc[bus.nodes['geometry'].within(zone['geometry']), 'FID'] = zone['FID']\n",
    "    #bus.nodes.to_file(model_path + 'de_pt_network_bus/nodes.geojson', driver='GeoJSON', encoding='utf-8')"
   ]
  },
  {
   "cell_type": "code",
   "execution_count": 9,
   "metadata": {},
   "outputs": [],
   "source": [
    "# Merge\n",
    "sm.nodes = sm.nodes.append(bus.nodes)"
   ]
  },
  {
   "cell_type": "markdown",
   "metadata": {},
   "source": [
    "## Load census data"
   ]
  },
  {
   "cell_type": "code",
   "execution_count": 10,
   "metadata": {},
   "outputs": [],
   "source": [
    "# Load census data: Zensus 2011 - Einwohnerzahl je Hektar\n",
    "# Copyright: © Statistisches Bundesamt, Wiesbaden 2015\n",
    "# (im Auftrag der Herausgebergemeinschaft)\n",
    "# Vervielfältigung und Verbreitung, auch auszugsweise, mit Quellenangabe gestattet\n",
    "if os.path.isfile(input_path + 'Zensus_2011.geojson'):\n",
    "    pop = gpd.read_file(input_path + 'Zensus_2011.geojson', driver='GeoJSON')\n",
    "else:\n",
    "    pop = pd.read_csv(input_path + 'Zensus_2011.csv', sep=';')\n",
    "    # Restrict to entries that hold information\n",
    "    pop = pop.loc[pop['Einwohner']!=-1]\n",
    "    pop = gpd.GeoDataFrame(pop[['Einwohner']],\n",
    "                          geometry=gpd.points_from_xy(pop['x_mp_100m'], pop['y_mp_100m']))\n",
    "    pop.crs = 3035\n",
    "    pop.to_crs(sm.epsg, inplace=True)"
   ]
  },
  {
   "cell_type": "code",
   "execution_count": 11,
   "metadata": {},
   "outputs": [
    {
     "name": "stdout",
     "output_type": "stream",
     "text": [
      "(3177723, 4)\n"
     ]
    },
    {
     "data": {
      "text/html": [
       "<div>\n",
       "<style scoped>\n",
       "    .dataframe tbody tr th:only-of-type {\n",
       "        vertical-align: middle;\n",
       "    }\n",
       "\n",
       "    .dataframe tbody tr th {\n",
       "        vertical-align: top;\n",
       "    }\n",
       "\n",
       "    .dataframe thead th {\n",
       "        text-align: right;\n",
       "    }\n",
       "</style>\n",
       "<table border=\"1\" class=\"dataframe\">\n",
       "  <thead>\n",
       "    <tr style=\"text-align: right;\">\n",
       "      <th></th>\n",
       "      <th>Einwohner</th>\n",
       "      <th>NUTS_ID</th>\n",
       "      <th>FID</th>\n",
       "      <th>geometry</th>\n",
       "    </tr>\n",
       "  </thead>\n",
       "  <tbody>\n",
       "    <tr>\n",
       "      <th>0</th>\n",
       "      <td>8</td>\n",
       "      <td>DE27E</td>\n",
       "      <td>DE27E</td>\n",
       "      <td>POINT (10.21212 47.31574)</td>\n",
       "    </tr>\n",
       "    <tr>\n",
       "      <th>1</th>\n",
       "      <td>7</td>\n",
       "      <td>DE27E</td>\n",
       "      <td>DE27E</td>\n",
       "      <td>POINT (10.26631 47.31562)</td>\n",
       "    </tr>\n",
       "  </tbody>\n",
       "</table>\n",
       "</div>"
      ],
      "text/plain": [
       "   Einwohner NUTS_ID    FID                   geometry\n",
       "0          8   DE27E  DE27E  POINT (10.21212 47.31574)\n",
       "1          7   DE27E  DE27E  POINT (10.26631 47.31562)"
      ]
     },
     "execution_count": 11,
     "metadata": {},
     "output_type": "execute_result"
    }
   ],
   "source": [
    "print(pop.shape)\n",
    "pop.head(2)"
   ]
  },
  {
   "cell_type": "code",
   "execution_count": 12,
   "metadata": {},
   "outputs": [],
   "source": [
    "pop_r = pop"
   ]
  },
  {
   "cell_type": "code",
   "execution_count": 13,
   "metadata": {},
   "outputs": [],
   "source": [
    "# Restrict to a geometric hull\n",
    "#sm.zones = gpd.GeoDataFrame(sm.zones)\n",
    "#hull = sm.zones[\"geometry\"].buffer(1e-3).unary_union\n",
    "# Restrict to the geometric hull if the latter is not Germany\n",
    "#pop_r = pop.loc[pop['geometry'].apply(lambda p: p.within(hull))]\n",
    "#print(pop_r.shape)"
   ]
  },
  {
   "cell_type": "code",
   "execution_count": 14,
   "metadata": {},
   "outputs": [
    {
     "name": "stderr",
     "output_type": "stream",
     "text": [
      "100%|██████████████████████████████████████████████████████████████████████████████| 2225/2225 [16:07<00:00,  2.30it/s]\n"
     ]
    }
   ],
   "source": [
    "# Map to zones\n",
    "if not 'FID' in pop_r.columns or set(pop_r['FID']) != set(sm.zones['FID']):\n",
    "    shapely.speedups.enable()\n",
    "    zones = gpd.GeoDataFrame(sm.zones.sort_values('area', ascending=False), crs=sm.epsg)\n",
    "    #centr['geometry'] = zones['geometry'].centroid\n",
    "    pop_r['FID'] = np.nan\n",
    "    for _, zone in tqdm(zones.iterrows(), total=sm.zones.shape[0]):\n",
    "        geo = zone['geometry'].buffer(0.08)\n",
    "        pop_r.loc[pop_r['geometry'].within(geo), 'FID'] = zone['FID']\n",
    "    pop_r.to_file(input_path + 'Zensus_2011.geojson', driver='GeoJSON')"
   ]
  },
  {
   "cell_type": "code",
   "execution_count": 15,
   "metadata": {},
   "outputs": [
    {
     "data": {
      "text/html": [
       "<div>\n",
       "<style scoped>\n",
       "    .dataframe tbody tr th:only-of-type {\n",
       "        vertical-align: middle;\n",
       "    }\n",
       "\n",
       "    .dataframe tbody tr th {\n",
       "        vertical-align: top;\n",
       "    }\n",
       "\n",
       "    .dataframe thead th {\n",
       "        text-align: right;\n",
       "    }\n",
       "</style>\n",
       "<table border=\"1\" class=\"dataframe\">\n",
       "  <thead>\n",
       "    <tr style=\"text-align: right;\">\n",
       "      <th></th>\n",
       "      <th>Einwohner</th>\n",
       "      <th>NUTS_ID</th>\n",
       "      <th>FID</th>\n",
       "      <th>geometry</th>\n",
       "    </tr>\n",
       "  </thead>\n",
       "  <tbody>\n",
       "  </tbody>\n",
       "</table>\n",
       "</div>"
      ],
      "text/plain": [
       "Empty GeoDataFrame\n",
       "Columns: [Einwohner, NUTS_ID, FID, geometry]\n",
       "Index: []"
      ]
     },
     "execution_count": 15,
     "metadata": {},
     "output_type": "execute_result"
    }
   ],
   "source": [
    "pop_r.loc[pop_r['FID'].isna()]"
   ]
  },
  {
   "cell_type": "code",
   "execution_count": 16,
   "metadata": {},
   "outputs": [
    {
     "data": {
      "image/png": "[encoded data removed]",
      "text/plain": [
       "<Figure size 432x288 with 1 Axes>"
      ]
     },
     "metadata": {
      "needs_background": "light"
     },
     "output_type": "display_data"
    }
   ],
   "source": [
    "# Visualise\n",
    "#zones_plot = sm.plot('zones', alpha=0.1, figsize=[16, 9], color='green')\n",
    "if manual: pop_r.plot(markersize=list(pop_r['Einwohner']/350), alpha=0.1)#, ax=zones_plot)"
   ]
  },
  {
   "cell_type": "code",
   "execution_count": 17,
   "metadata": {},
   "outputs": [
    {
     "data": {
      "text/plain": [
       "(410735, 4)"
      ]
     },
     "execution_count": 17,
     "metadata": {},
     "output_type": "execute_result"
    }
   ],
   "source": [
    "sm.nodes.shape"
   ]
  },
  {
   "cell_type": "markdown",
   "metadata": {},
   "source": [
    "## Apply K-Means to find weighted distances of PT stops\n",
    "The important question for mode choice problems: How long/inconvenient is it from home to the next PT stop? </br>\n",
    "Approach: Build population densities from census data and calculate the mean weighted distance to the next PT stop."
   ]
  },
  {
   "cell_type": "code",
   "execution_count": 18,
   "metadata": {},
   "outputs": [],
   "source": [
    "# Settings:\n",
    "dist_col = 'weighted_dist'\n",
    "mean_dist_col = 'mean_weighted_dist'\n",
    "cent_col = 'cluster_center'\n",
    "pop_col = 'population'\n",
    "max_iter_per_group = 10\n",
    "tqdm.pandas()\n",
    "errors = []"
   ]
  },
  {
   "cell_type": "code",
   "execution_count": 19,
   "metadata": {},
   "outputs": [],
   "source": [
    "def weighted_dist(zone):\n",
    "    nuts_id = zone['FID'].unique()[0]\n",
    "    # Get the population points\n",
    "    pop_p = pop_r.loc[pop_r['FID']==nuts_id]\n",
    "    # Count the number of PT stops in the zone and make it the number of clusters\n",
    "    n_clusters = len(zone.index)\n",
    "    if n_clusters > 0:\n",
    "        # Prepare sample\n",
    "        X = np.array([[p.x, p.y] for p in list(pop_p['geometry'])])\n",
    "        # Prepare initial starting points\n",
    "        nodes_coords = np.array([[p.x, p.y] for p in list(zone['geometry'])])\n",
    "        # Apply weighted K-Means\n",
    "        kmeans = KMeans(n_clusters=n_clusters,\n",
    "                        random_state=0,\n",
    "                        init=nodes_coords,\n",
    "                        max_iter=max_iter_per_group)\n",
    "        try:\n",
    "            kmeans.fit(X, sample_weight=np.array(list(pop_p['Einwohner'])))\n",
    "        except ValueError: # More stations than samples\n",
    "            zone[cent_col] = zone['geometry']\n",
    "            zone[pop_col] = pop_p['Einwohner'].sum() / n_clusters\n",
    "            zone[dist_col] = 100\n",
    "            zone[mean_dist_col] = 100\n",
    "            return zone\n",
    "        # Create results DataFrame\n",
    "        zone[cent_col] = [geometry.Point(c[0], c[1]) for c in kmeans.cluster_centers_]\n",
    "        # Add population to calculate the mean weighted distance for each zone later\n",
    "        pop_p['cluster'] = list(kmeans.labels_)\n",
    "        #    kmeans.predict(X, sample_weight=np.array(list(pop_p['Einwohner']))))\n",
    "        try:\n",
    "            zone[pop_col] = list(pop_p.groupby('cluster').agg({'Einwohner': 'sum'})['Einwohner'])\n",
    "        except ValueError: # Fewer labels than n_clusters\n",
    "            zone[pop_col] = pop_p['Einwohner'].mean()\n",
    "            errors.append((nuts_id, zone['route_type'].unique()[0]))\n",
    "        # Calculate distance between centroid and PT node\n",
    "        zone[dist_col] = [skims.get_distance_from_lon_lat_in_m(kmeans.cluster_centers_[i][0],\n",
    "                                                               kmeans.cluster_centers_[i][1],\n",
    "                                                               nodes_coords[i][0],\n",
    "                                                               nodes_coords[i][1])\n",
    "                          for i in range(n_clusters)]\n",
    "        # Add mean weighted distance\n",
    "        zone[mean_dist_col] = (zone[pop_col]*zone[dist_col]).sum() / zone[pop_col].sum()\n",
    "        return zone\n",
    "    else:\n",
    "        return"
   ]
  },
  {
   "cell_type": "code",
   "execution_count": 20,
   "metadata": {
    "scrolled": true
   },
   "outputs": [],
   "source": [
    "# Generate mean weighted distances for every route type\n",
    "#node_dist = sm.nodes.groupby(['route_type', 'FID']).progress_apply(weighted_dist)"
   ]
  },
  {
   "cell_type": "code",
   "execution_count": 21,
   "metadata": {},
   "outputs": [
    {
     "data": {
      "text/plain": [
       "0"
      ]
     },
     "execution_count": 21,
     "metadata": {},
     "output_type": "execute_result"
    }
   ],
   "source": [
    "len(errors)"
   ]
  },
  {
   "cell_type": "markdown",
   "metadata": {},
   "source": [
    "## Alternative: Catchment area distances by access mode\n",
    "Compute mean weighted distances considering distinct catchment radii by access mode (walking, cycling, car). Each PT stop has a population catchment (by access mode) and a service frequency, which both weight the distance to census centroids within the stop's catchment.\n",
    "\n",
    "Given modal split for PT access/egress trips by urbanisation degree, they result in a weighted mean distance."
   ]
  },
  {
   "cell_type": "code",
   "execution_count": 22,
   "metadata": {},
   "outputs": [
    {
     "data": {
      "text/plain": [
       "405889"
      ]
     },
     "execution_count": 22,
     "metadata": {},
     "output_type": "execute_result"
    }
   ],
   "source": [
    "# Count services by stop_id\n",
    "service_count_dict = sm.links.groupby('a').count()['b'].to_dict()\n",
    "service_count_dict.update(bus.links.groupby('a').count()['b'].to_dict())\n",
    "len(service_count_dict) # number of stops reported here"
   ]
  },
  {
   "cell_type": "code",
   "execution_count": 23,
   "metadata": {},
   "outputs": [],
   "source": [
    "try:\n",
    "    urban_dict = sm.zones.set_index('FID')['urbanisation'].to_dict()\n",
    "except KeyError:\n",
    "    urban_dict = sm.zones['urbanisation'].to_dict()"
   ]
  },
  {
   "cell_type": "code",
   "execution_count": 45,
   "metadata": {},
   "outputs": [],
   "source": [
    "def weighted_dist_2(zone):\n",
    "    if len(zone.index) < 1:\n",
    "        return\n",
    "    nuts_id = zone['FID'].unique()[0]\n",
    "    # Get population points\n",
    "    pop_z = pop_r.loc[pop_r['FID']==nuts_id]\n",
    "    if len(pop_z) < 1:\n",
    "        return\n",
    "\n",
    "    # Calculate distances to every stop\n",
    "    pop_z['lon'] = pop_z['geometry'].apply(lambda g: g.coords[0][0])\n",
    "    pop_z['lat'] = pop_z['geometry'].apply(lambda g: g.coords[0][1])\n",
    "    for stop, row in zone.iterrows():\n",
    "        pop_z[stop] = skims.get_distance_from_lon_lat_in_m(\n",
    "            pop_z['lon'], pop_z['lat'], row['geometry'].coords[0][0], row['geometry'].coords[0][1])\n",
    "\n",
    "    # Calculate population catchment distance by access mode\n",
    "    # Weight it by population and distance (linear)\n",
    "    def pop_weighted_dist(distances, populations, threshold):\n",
    "        pop_weighted = populations * (distances/threshold)\n",
    "        return (distances * pop_weighted).sum() / pop_weighted.sum()\n",
    "    for mode in ['walk', 'bicycle', 'car']:\n",
    "        thresh = params['pt_access']['catchment_radius_'+mode]\n",
    "        zone[(dist_col, mode)] = [pop_weighted_dist(\n",
    "            pop_z.loc[pop_z[stop]<=thresh, stop], pop_z.loc[pop_z[stop]<=thresh, 'Einwohner'], thresh)\n",
    "                                  for stop in zone.index]\n",
    "\n",
    "    # Get service frequency\n",
    "    zone['n_services'] = zone.index.map(service_count_dict).fillna(1)\n",
    "\n",
    "    # Put it all together: mean weighted distance per zone\n",
    "    zone[mean_dist_col] = sum([(zone[mode_dist_col] * zone['n_services']).sum() / zone['n_services'].sum()\n",
    "                               * float(params['pt_access'][\n",
    "                                   'urban'+str(int(urban_dict[nuts_id]))+'_'+str(mode_dist_col[1])+'_share'])\n",
    "                               for mode_dist_col in zone.columns if mode_dist_col[0]==dist_col])\n",
    "    return zone"
   ]
  },
  {
   "cell_type": "code",
   "execution_count": 46,
   "metadata": {},
   "outputs": [],
   "source": [
    "node_dist = sm.nodes.groupby(['route_type', 'FID']).apply(weighted_dist_2)"
   ]
  },
  {
   "cell_type": "code",
   "execution_count": 49,
   "metadata": {},
   "outputs": [
    {
     "data": {
      "text/html": [
       "<div>\n",
       "<style scoped>\n",
       "    .dataframe tbody tr th:only-of-type {\n",
       "        vertical-align: middle;\n",
       "    }\n",
       "\n",
       "    .dataframe tbody tr th {\n",
       "        vertical-align: top;\n",
       "    }\n",
       "\n",
       "    .dataframe thead th {\n",
       "        text-align: right;\n",
       "    }\n",
       "</style>\n",
       "<table border=\"1\" class=\"dataframe\">\n",
       "  <thead>\n",
       "    <tr style=\"text-align: right;\">\n",
       "      <th></th>\n",
       "      <th></th>\n",
       "      <th></th>\n",
       "      <th>stop_name</th>\n",
       "      <th>route_type</th>\n",
       "      <th>geometry</th>\n",
       "      <th>FID</th>\n",
       "      <th>(weighted_dist, walk)</th>\n",
       "      <th>(weighted_dist, bicycle)</th>\n",
       "      <th>(weighted_dist, car)</th>\n",
       "      <th>n_services</th>\n",
       "      <th>mean_weighted_dist</th>\n",
       "    </tr>\n",
       "    <tr>\n",
       "      <th>route_type</th>\n",
       "      <th>FID</th>\n",
       "      <th>index</th>\n",
       "      <th></th>\n",
       "      <th></th>\n",
       "      <th></th>\n",
       "      <th></th>\n",
       "      <th></th>\n",
       "      <th></th>\n",
       "      <th></th>\n",
       "      <th></th>\n",
       "      <th></th>\n",
       "    </tr>\n",
       "  </thead>\n",
       "  <tbody>\n",
       "    <tr>\n",
       "      <th rowspan=\"4\" valign=\"top\">bus</th>\n",
       "      <th>DEA2C_2</th>\n",
       "      <th>bus_n_117310</th>\n",
       "      <td>Hangelar Mitte,Hangelar</td>\n",
       "      <td>bus</td>\n",
       "      <td>POINT (7.16527 50.75972)</td>\n",
       "      <td>DEA2C_2</td>\n",
       "      <td>NaN</td>\n",
       "      <td>6482.862454</td>\n",
       "      <td>13324.391990</td>\n",
       "      <td>4.0</td>\n",
       "      <td>544.397272</td>\n",
       "    </tr>\n",
       "    <tr>\n",
       "      <th>DE21M_9</th>\n",
       "      <th>bus_n_308346</th>\n",
       "      <td>Grassach</td>\n",
       "      <td>bus</td>\n",
       "      <td>POINT (12.54206 47.98933)</td>\n",
       "      <td>DE21M_9</td>\n",
       "      <td>296.641485</td>\n",
       "      <td>6287.929337</td>\n",
       "      <td>9906.448437</td>\n",
       "      <td>4.0</td>\n",
       "      <td>1337.934893</td>\n",
       "    </tr>\n",
       "    <tr>\n",
       "      <th>DE224_7</th>\n",
       "      <th>bus_n_86233</th>\n",
       "      <td>Berg bei Metten</td>\n",
       "      <td>bus</td>\n",
       "      <td>POINT (12.93626 48.87000)</td>\n",
       "      <td>DE224_7</td>\n",
       "      <td>229.669125</td>\n",
       "      <td>5416.612698</td>\n",
       "      <td>9334.408969</td>\n",
       "      <td>4.0</td>\n",
       "      <td>1113.493653</td>\n",
       "    </tr>\n",
       "    <tr>\n",
       "      <th>DE91B_2</th>\n",
       "      <th>bus_n_176466</th>\n",
       "      <td>Groß Heere Friedhof, Mast 1</td>\n",
       "      <td>bus</td>\n",
       "      <td>POINT (10.24739 52.06687)</td>\n",
       "      <td>DE91B_2</td>\n",
       "      <td>NaN</td>\n",
       "      <td>6939.993667</td>\n",
       "      <td>7584.705749</td>\n",
       "      <td>10.0</td>\n",
       "      <td>934.081541</td>\n",
       "    </tr>\n",
       "  </tbody>\n",
       "</table>\n",
       "</div>"
      ],
      "text/plain": [
       "                                                   stop_name route_type  \\\n",
       "route_type FID     index                                                  \n",
       "bus        DEA2C_2 bus_n_117310      Hangelar Mitte,Hangelar        bus   \n",
       "           DE21M_9 bus_n_308346                     Grassach        bus   \n",
       "           DE224_7 bus_n_86233               Berg bei Metten        bus   \n",
       "           DE91B_2 bus_n_176466  Groß Heere Friedhof, Mast 1        bus   \n",
       "\n",
       "                                                  geometry      FID  \\\n",
       "route_type FID     index                                              \n",
       "bus        DEA2C_2 bus_n_117310   POINT (7.16527 50.75972)  DEA2C_2   \n",
       "           DE21M_9 bus_n_308346  POINT (12.54206 47.98933)  DE21M_9   \n",
       "           DE224_7 bus_n_86233   POINT (12.93626 48.87000)  DE224_7   \n",
       "           DE91B_2 bus_n_176466  POINT (10.24739 52.06687)  DE91B_2   \n",
       "\n",
       "                                 (weighted_dist, walk)  \\\n",
       "route_type FID     index                                 \n",
       "bus        DEA2C_2 bus_n_117310                    NaN   \n",
       "           DE21M_9 bus_n_308346             296.641485   \n",
       "           DE224_7 bus_n_86233              229.669125   \n",
       "           DE91B_2 bus_n_176466                    NaN   \n",
       "\n",
       "                                 (weighted_dist, bicycle)  \\\n",
       "route_type FID     index                                    \n",
       "bus        DEA2C_2 bus_n_117310               6482.862454   \n",
       "           DE21M_9 bus_n_308346               6287.929337   \n",
       "           DE224_7 bus_n_86233                5416.612698   \n",
       "           DE91B_2 bus_n_176466               6939.993667   \n",
       "\n",
       "                                 (weighted_dist, car)  n_services  \\\n",
       "route_type FID     index                                            \n",
       "bus        DEA2C_2 bus_n_117310          13324.391990         4.0   \n",
       "           DE21M_9 bus_n_308346           9906.448437         4.0   \n",
       "           DE224_7 bus_n_86233            9334.408969         4.0   \n",
       "           DE91B_2 bus_n_176466           7584.705749        10.0   \n",
       "\n",
       "                                 mean_weighted_dist  \n",
       "route_type FID     index                             \n",
       "bus        DEA2C_2 bus_n_117310          544.397272  \n",
       "           DE21M_9 bus_n_308346         1337.934893  \n",
       "           DE224_7 bus_n_86233          1113.493653  \n",
       "           DE91B_2 bus_n_176466          934.081541  "
      ]
     },
     "execution_count": 49,
     "metadata": {},
     "output_type": "execute_result"
    }
   ],
   "source": [
    "node_dist.sample(4)"
   ]
  },
  {
   "cell_type": "code",
   "execution_count": 52,
   "metadata": {},
   "outputs": [],
   "source": [
    "node_dist.reset_index(level=['route_type', 'FID'], drop=True, inplace=True)"
   ]
  },
  {
   "cell_type": "code",
   "execution_count": 53,
   "metadata": {},
   "outputs": [
    {
     "data": {
      "text/plain": [
       "route_type\n",
       "air           [[AxesSubplot(0.125,0.125;0.775x0.755)]]\n",
       "bus           [[AxesSubplot(0.125,0.125;0.775x0.755)]]\n",
       "coach         [[AxesSubplot(0.125,0.125;0.775x0.755)]]\n",
       "rail_long     [[AxesSubplot(0.125,0.125;0.775x0.755)]]\n",
       "rail_short    [[AxesSubplot(0.125,0.125;0.775x0.755)]]\n",
       "dtype: object"
      ]
     },
     "execution_count": 53,
     "metadata": {},
     "output_type": "execute_result"
    },
    {
     "data": {
      "image/png": "[encoded data removed]",
      "text/plain": [
       "<Figure size 432x288 with 1 Axes>"
      ]
     },
     "metadata": {
      "needs_background": "light"
     },
     "output_type": "display_data"
    },
    {
     "data": {
      "image/png": "[encoded data removed]",
      "text/plain": [
       "<Figure size 432x288 with 1 Axes>"
      ]
     },
     "metadata": {
      "needs_background": "light"
     },
     "output_type": "display_data"
    },
    {
     "data": {
      "image/png": "[encoded data removed]",
      "text/plain": [
       "<Figure size 432x288 with 1 Axes>"
      ]
     },
     "metadata": {
      "needs_background": "light"
     },
     "output_type": "display_data"
    },
    {
     "data": {
      "image/png": "[encoded data removed]",
      "text/plain": [
       "<Figure size 432x288 with 1 Axes>"
      ]
     },
     "metadata": {
      "needs_background": "light"
     },
     "output_type": "display_data"
    },
    {
     "data": {
      "image/png": "[encoded data removed]",
      "text/plain": [
       "<Figure size 432x288 with 1 Axes>"
      ]
     },
     "metadata": {
      "needs_background": "light"
     },
     "output_type": "display_data"
    }
   ],
   "source": [
    "node_dist.groupby('route_type').hist(column=mean_dist_col, bins=100)"
   ]
  },
  {
   "cell_type": "code",
   "execution_count": 54,
   "metadata": {},
   "outputs": [],
   "source": [
    "# Save the population centroids\n",
    "node_dist.to_csv('../input/spatial_census_refined.csv')"
   ]
  }
 ],
 "metadata": {
  "kernelspec": {
   "display_name": "Python 3 (ipykernel)",
   "language": "python",
   "name": "python3"
  },
  "language_info": {
   "codemirror_mode": {
    "name": "ipython",
    "version": 3
   },
   "file_extension": ".py",
   "mimetype": "text/x-python",
   "name": "python",
   "nbconvert_exporter": "python",
   "pygments_lexer": "ipython3",
   "version": "3.8.13"
  }
 },
 "nbformat": 4,
 "nbformat_minor": 4
}
