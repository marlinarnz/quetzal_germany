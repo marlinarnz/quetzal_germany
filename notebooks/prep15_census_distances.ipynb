{
 "cells": [
  {
   "cell_type": "code",
   "execution_count": 1,
   "metadata": {
    "scrolled": true
   },
   "outputs": [
    {
     "name": "stderr",
     "output_type": "stream",
     "text": [
      "In C:\\Users\\marlin.arnz\\AppData\\Local\\Continuum\\miniconda3\\envs\\quetzal\\lib\\site-packages\\matplotlib\\mpl-data\\stylelib\\_classic_test.mplstyle: \n",
      "The text.latex.preview rcparam was deprecated in Matplotlib 3.3 and will be removed two minor releases later.\n",
      "In C:\\Users\\marlin.arnz\\AppData\\Local\\Continuum\\miniconda3\\envs\\quetzal\\lib\\site-packages\\matplotlib\\mpl-data\\stylelib\\_classic_test.mplstyle: \n",
      "The mathtext.fallback_to_cm rcparam was deprecated in Matplotlib 3.3 and will be removed two minor releases later.\n",
      "In C:\\Users\\marlin.arnz\\AppData\\Local\\Continuum\\miniconda3\\envs\\quetzal\\lib\\site-packages\\matplotlib\\mpl-data\\stylelib\\_classic_test.mplstyle: Support for setting the 'mathtext.fallback_to_cm' rcParam is deprecated since 3.3 and will be removed two minor releases later; use 'mathtext.fallback : 'cm' instead.\n",
      "In C:\\Users\\marlin.arnz\\AppData\\Local\\Continuum\\miniconda3\\envs\\quetzal\\lib\\site-packages\\matplotlib\\mpl-data\\stylelib\\_classic_test.mplstyle: \n",
      "The validate_bool_maybe_none function was deprecated in Matplotlib 3.3 and will be removed two minor releases later.\n",
      "In C:\\Users\\marlin.arnz\\AppData\\Local\\Continuum\\miniconda3\\envs\\quetzal\\lib\\site-packages\\matplotlib\\mpl-data\\stylelib\\_classic_test.mplstyle: \n",
      "The savefig.jpeg_quality rcparam was deprecated in Matplotlib 3.3 and will be removed two minor releases later.\n",
      "In C:\\Users\\marlin.arnz\\AppData\\Local\\Continuum\\miniconda3\\envs\\quetzal\\lib\\site-packages\\matplotlib\\mpl-data\\stylelib\\_classic_test.mplstyle: \n",
      "The keymap.all_axes rcparam was deprecated in Matplotlib 3.3 and will be removed two minor releases later.\n",
      "In C:\\Users\\marlin.arnz\\AppData\\Local\\Continuum\\miniconda3\\envs\\quetzal\\lib\\site-packages\\matplotlib\\mpl-data\\stylelib\\_classic_test.mplstyle: \n",
      "The animation.avconv_path rcparam was deprecated in Matplotlib 3.3 and will be removed two minor releases later.\n",
      "In C:\\Users\\marlin.arnz\\AppData\\Local\\Continuum\\miniconda3\\envs\\quetzal\\lib\\site-packages\\matplotlib\\mpl-data\\stylelib\\_classic_test.mplstyle: \n",
      "The animation.avconv_args rcparam was deprecated in Matplotlib 3.3 and will be removed two minor releases later.\n"
     ]
    }
   ],
   "source": [
    "import os\n",
    "import pandas as pd\n",
    "import geopandas as gpd\n",
    "import numpy as np\n",
    "from shapely import geometry\n",
    "import shapely.speedups\n",
    "from tqdm import tqdm\n",
    "from syspy.skims import skims\n",
    "from sklearn.cluster import KMeans\n",
    "from quetzal.model import stepmodel"
   ]
  },
  {
   "cell_type": "markdown",
   "metadata": {},
   "source": [
    "# Preparation of input data\n",
    "## Generates a DataFrame of PT stops with mean weighted distances to population cells\n",
    "## Needs all PT nodes"
   ]
  },
  {
   "cell_type": "code",
   "execution_count": 2,
   "metadata": {},
   "outputs": [],
   "source": [
    "input_path = '../input_static/spatial_'\n",
    "output_path = '../output/'\n",
    "model_path = '../input_static/'"
   ]
  },
  {
   "cell_type": "code",
   "execution_count": 3,
   "metadata": {},
   "outputs": [],
   "source": [
    "sm = stepmodel.read_json(model_path + 'de_pt_network')"
   ]
  },
  {
   "cell_type": "code",
   "execution_count": 4,
   "metadata": {},
   "outputs": [
    {
     "name": "stderr",
     "output_type": "stream",
     "text": [
      "100%|████████████████████████████████████████████████████████████████████████████████| 401/401 [00:40<00:00,  9.81it/s]\n"
     ]
    }
   ],
   "source": [
    "# Map nodes to zones\n",
    "if 'FID' not in sm.nodes.columns:\n",
    "    shapely.speedups.enable()\n",
    "    sm.nodes['FID'] = np.nan\n",
    "    sm.nodes = gpd.GeoDataFrame(sm.nodes, crs=sm.epsg)\n",
    "    for _, zone in tqdm(sm.zones.iterrows(), total=sm.zones.shape[0]):\n",
    "        sm.nodes.loc[sm.nodes['geometry'].within(zone['geometry']), 'FID'] = zone['NUTS_ID']\n",
    "    #sm.nodes.to_file(model_path + 'de_pt_network/nodes.geojson', driver='GeoJSON', encoding='utf-8')"
   ]
  },
  {
   "cell_type": "code",
   "execution_count": 5,
   "metadata": {},
   "outputs": [],
   "source": [
    "bus = stepmodel.read_json(model_path + 'de_pt_network_bus')"
   ]
  },
  {
   "cell_type": "code",
   "execution_count": 6,
   "metadata": {},
   "outputs": [
    {
     "name": "stderr",
     "output_type": "stream",
     "text": [
      "100%|████████████████████████████████████████████████████████████████████████████████| 401/401 [16:00<00:00,  2.40s/it]\n"
     ]
    }
   ],
   "source": [
    "# Map bus nodes to zones\n",
    "if 'FID' not in bus.nodes.columns:\n",
    "    shapely.speedups.enable()\n",
    "    bus.nodes['FID'] = np.nan\n",
    "    bus.nodes = gpd.GeoDataFrame(bus.nodes, crs=sm.epsg)\n",
    "    for _, zone in tqdm(bus.zones.iterrows(), total=bus.zones.shape[0]):\n",
    "        bus.nodes.loc[bus.nodes['geometry'].within(zone['geometry']), 'FID'] = zone['NUTS_ID']\n",
    "    #bus.nodes.to_file(model_path + 'de_pt_network_bus/nodes.geojson', driver='GeoJSON', encoding='utf-8')"
   ]
  },
  {
   "cell_type": "code",
   "execution_count": 7,
   "metadata": {},
   "outputs": [],
   "source": [
    "# Merge\n",
    "sm.nodes = sm.nodes.append(bus.nodes)"
   ]
  },
  {
   "cell_type": "markdown",
   "metadata": {},
   "source": [
    "## Use census data\n",
    "The important question for mode choice problems: How long/inconvenient is it from home to the next PT stop? </br>\n",
    "Approach: Build population densities from census data and calculate the mean weighted distance to the next PT stop."
   ]
  },
  {
   "cell_type": "code",
   "execution_count": 8,
   "metadata": {},
   "outputs": [],
   "source": [
    "# Load census data: Zensus 2011 - Einwohnerzahl je Hektar\n",
    "# Copyright: © Statistisches Bundesamt, Wiesbaden 2015\n",
    "# (im Auftrag der Herausgebergemeinschaft)\n",
    "# Vervielfältigung und Verbreitung, auch auszugsweise, mit Quellenangabe gestattet\n",
    "if os.path.isfile(input_path + 'Zensus_2011.geojson'):\n",
    "    pop = gpd.read_file(input_path + 'Zensus_2011.geojson', driver='GeoJSON')\n",
    "else:\n",
    "    pop = pd.read_csv(input_path + 'Zensus_2011.csv', sep=';')\n",
    "    # Restrict to entries that hold information\n",
    "    pop = pop.loc[pop['Einwohner']!=-1]\n",
    "    pop = gpd.GeoDataFrame(pop[['Einwohner']],\n",
    "                          geometry=gpd.points_from_xy(pop['x_mp_100m'], pop['y_mp_100m']))\n",
    "    pop.crs = 3035\n",
    "    pop.to_crs(sm.epsg, inplace=True)"
   ]
  },
  {
   "cell_type": "code",
   "execution_count": 9,
   "metadata": {},
   "outputs": [
    {
     "name": "stdout",
     "output_type": "stream",
     "text": [
      "(3177723, 4)\n"
     ]
    },
    {
     "data": {
      "text/html": [
       "<div>\n",
       "<style scoped>\n",
       "    .dataframe tbody tr th:only-of-type {\n",
       "        vertical-align: middle;\n",
       "    }\n",
       "\n",
       "    .dataframe tbody tr th {\n",
       "        vertical-align: top;\n",
       "    }\n",
       "\n",
       "    .dataframe thead th {\n",
       "        text-align: right;\n",
       "    }\n",
       "</style>\n",
       "<table border=\"1\" class=\"dataframe\">\n",
       "  <thead>\n",
       "    <tr style=\"text-align: right;\">\n",
       "      <th></th>\n",
       "      <th>Einwohner</th>\n",
       "      <th>NUTS_ID</th>\n",
       "      <th>FID</th>\n",
       "      <th>geometry</th>\n",
       "    </tr>\n",
       "  </thead>\n",
       "  <tbody>\n",
       "    <tr>\n",
       "      <th>0</th>\n",
       "      <td>8</td>\n",
       "      <td>DE27E</td>\n",
       "      <td>DE27E</td>\n",
       "      <td>POINT (10.21212 47.31574)</td>\n",
       "    </tr>\n",
       "    <tr>\n",
       "      <th>1</th>\n",
       "      <td>7</td>\n",
       "      <td>DE27E</td>\n",
       "      <td>DE27E</td>\n",
       "      <td>POINT (10.26631 47.31562)</td>\n",
       "    </tr>\n",
       "  </tbody>\n",
       "</table>\n",
       "</div>"
      ],
      "text/plain": [
       "   Einwohner NUTS_ID    FID                   geometry\n",
       "0          8   DE27E  DE27E  POINT (10.21212 47.31574)\n",
       "1          7   DE27E  DE27E  POINT (10.26631 47.31562)"
      ]
     },
     "execution_count": 9,
     "metadata": {},
     "output_type": "execute_result"
    }
   ],
   "source": [
    "print(pop.shape)\n",
    "pop.head(2)"
   ]
  },
  {
   "cell_type": "code",
   "execution_count": 10,
   "metadata": {},
   "outputs": [],
   "source": [
    "pop_r = pop"
   ]
  },
  {
   "cell_type": "code",
   "execution_count": 11,
   "metadata": {},
   "outputs": [],
   "source": [
    "# Restrict to a geometric hull\n",
    "#sm.zones = gpd.GeoDataFrame(sm.zones)\n",
    "#hull = sm.zones[\"geometry\"].buffer(1e-3).unary_union\n",
    "# Restrict to the geometric hull if the latter is not Germany\n",
    "#pop_r = pop.loc[pop['geometry'].apply(lambda p: p.within(hull))]\n",
    "#print(pop_r.shape)"
   ]
  },
  {
   "cell_type": "code",
   "execution_count": 12,
   "metadata": {},
   "outputs": [],
   "source": [
    "# Map to zones\n",
    "if 'NUTS_ID' not in pop_r.columns:\n",
    "    shapely.speedups.enable()\n",
    "    zones = gpd.GeoDataFrame(sm.zones.sort_values('area', ascending=False), crs=sm.epsg)\n",
    "    #centr['geometry'] = zones['geometry'].centroid\n",
    "    pop_r['NUTS_ID'] = np.nan\n",
    "    for _, zone in tqdm(zones.iterrows(), total=sm.zones.shape[0]):\n",
    "        geo = zone['geometry'].buffer(0.08)\n",
    "        pop_r.loc[pop_r['geometry'].within(geo), 'NUTS_ID'] = zone['NUTS_ID']\n",
    "    pop_r.to_file(input_path + 'Zensus_2011.geojson', driver='GeoJSON')"
   ]
  },
  {
   "cell_type": "code",
   "execution_count": 15,
   "metadata": {},
   "outputs": [
    {
     "data": {
      "text/html": [
       "<div>\n",
       "<style scoped>\n",
       "    .dataframe tbody tr th:only-of-type {\n",
       "        vertical-align: middle;\n",
       "    }\n",
       "\n",
       "    .dataframe tbody tr th {\n",
       "        vertical-align: top;\n",
       "    }\n",
       "\n",
       "    .dataframe thead th {\n",
       "        text-align: right;\n",
       "    }\n",
       "</style>\n",
       "<table border=\"1\" class=\"dataframe\">\n",
       "  <thead>\n",
       "    <tr style=\"text-align: right;\">\n",
       "      <th></th>\n",
       "      <th>Einwohner</th>\n",
       "      <th>NUTS_ID</th>\n",
       "      <th>FID</th>\n",
       "      <th>geometry</th>\n",
       "    </tr>\n",
       "  </thead>\n",
       "  <tbody>\n",
       "    <tr>\n",
       "      <th>3816</th>\n",
       "      <td>5</td>\n",
       "      <td>None</td>\n",
       "      <td>DE27A</td>\n",
       "      <td>POINT (9.91838 47.53103)</td>\n",
       "    </tr>\n",
       "    <tr>\n",
       "      <th>3962</th>\n",
       "      <td>13</td>\n",
       "      <td>None</td>\n",
       "      <td>DE27A</td>\n",
       "      <td>POINT (9.73521 47.53524)</td>\n",
       "    </tr>\n",
       "    <tr>\n",
       "      <th>3994</th>\n",
       "      <td>13</td>\n",
       "      <td>None</td>\n",
       "      <td>DE27A</td>\n",
       "      <td>POINT (9.73654 47.53615)</td>\n",
       "    </tr>\n",
       "    <tr>\n",
       "      <th>5554</th>\n",
       "      <td>19</td>\n",
       "      <td>None</td>\n",
       "      <td>DE27A</td>\n",
       "      <td>POINT (9.74703 47.56137)</td>\n",
       "    </tr>\n",
       "    <tr>\n",
       "      <th>7497</th>\n",
       "      <td>5</td>\n",
       "      <td>None</td>\n",
       "      <td>DE13A</td>\n",
       "      <td>POINT (8.08700 47.55841)</td>\n",
       "    </tr>\n",
       "    <tr>\n",
       "      <th>...</th>\n",
       "      <td>...</td>\n",
       "      <td>...</td>\n",
       "      <td>...</td>\n",
       "      <td>...</td>\n",
       "    </tr>\n",
       "    <tr>\n",
       "      <th>3177060</th>\n",
       "      <td>3</td>\n",
       "      <td>None</td>\n",
       "      <td>DEF07_1</td>\n",
       "      <td>POINT (8.69160 54.90699)</td>\n",
       "    </tr>\n",
       "    <tr>\n",
       "      <th>3177077</th>\n",
       "      <td>3</td>\n",
       "      <td>None</td>\n",
       "      <td>DEF07_1</td>\n",
       "      <td>POINT (8.69001 54.90787)</td>\n",
       "    </tr>\n",
       "    <tr>\n",
       "      <th>3177148</th>\n",
       "      <td>9</td>\n",
       "      <td>None</td>\n",
       "      <td>DEF07_1</td>\n",
       "      <td>POINT (8.67119 54.91127)</td>\n",
       "    </tr>\n",
       "    <tr>\n",
       "      <th>3177149</th>\n",
       "      <td>3</td>\n",
       "      <td>None</td>\n",
       "      <td>DEF07_1</td>\n",
       "      <td>POINT (8.67275 54.91129)</td>\n",
       "    </tr>\n",
       "    <tr>\n",
       "      <th>3177636</th>\n",
       "      <td>6</td>\n",
       "      <td>None</td>\n",
       "      <td>DEF07_2</td>\n",
       "      <td>POINT (8.42414 55.01087)</td>\n",
       "    </tr>\n",
       "  </tbody>\n",
       "</table>\n",
       "<p>495 rows × 4 columns</p>\n",
       "</div>"
      ],
      "text/plain": [
       "         Einwohner NUTS_ID      FID                  geometry\n",
       "3816             5    None    DE27A  POINT (9.91838 47.53103)\n",
       "3962            13    None    DE27A  POINT (9.73521 47.53524)\n",
       "3994            13    None    DE27A  POINT (9.73654 47.53615)\n",
       "5554            19    None    DE27A  POINT (9.74703 47.56137)\n",
       "7497             5    None    DE13A  POINT (8.08700 47.55841)\n",
       "...            ...     ...      ...                       ...\n",
       "3177060          3    None  DEF07_1  POINT (8.69160 54.90699)\n",
       "3177077          3    None  DEF07_1  POINT (8.69001 54.90787)\n",
       "3177148          9    None  DEF07_1  POINT (8.67119 54.91127)\n",
       "3177149          3    None  DEF07_1  POINT (8.67275 54.91129)\n",
       "3177636          6    None  DEF07_2  POINT (8.42414 55.01087)\n",
       "\n",
       "[495 rows x 4 columns]"
      ]
     },
     "execution_count": 15,
     "metadata": {},
     "output_type": "execute_result"
    }
   ],
   "source": [
    "pop_r.loc[pop_r['NUTS_ID'].isna()]"
   ]
  },
  {
   "cell_type": "code",
   "execution_count": 16,
   "metadata": {},
   "outputs": [
    {
     "data": {
      "text/plain": [
       "<AxesSubplot:>"
      ]
     },
     "execution_count": 16,
     "metadata": {},
     "output_type": "execute_result"
    },
    {
     "data": {
      "image/png": "[encoded data removed]",
      "text/plain": [
       "<Figure size 432x288 with 1 Axes>"
      ]
     },
     "metadata": {
      "needs_background": "light"
     },
     "output_type": "display_data"
    }
   ],
   "source": [
    "# Visualise\n",
    "#zones_plot = sm.plot('zones', alpha=0.1, figsize=[16, 9], color='green')\n",
    "pop_r.plot(markersize=list(pop_r['Einwohner']/300), alpha=0.2)#, ax=zones_plot)"
   ]
  },
  {
   "cell_type": "markdown",
   "metadata": {},
   "source": [
    "### Apply K-Means to find weighted distances of PT stops"
   ]
  },
  {
   "cell_type": "code",
   "execution_count": 17,
   "metadata": {},
   "outputs": [
    {
     "data": {
      "text/plain": [
       "(429186, 4)"
      ]
     },
     "execution_count": 17,
     "metadata": {},
     "output_type": "execute_result"
    }
   ],
   "source": [
    "sm.nodes.shape"
   ]
  },
  {
   "cell_type": "code",
   "execution_count": 18,
   "metadata": {},
   "outputs": [],
   "source": [
    "# Settings:\n",
    "dist_col = 'weighted_dist'\n",
    "mean_dist_col = 'mean_weighted_dist'\n",
    "cent_col = 'cluster_center'\n",
    "pop_col = 'population'\n",
    "max_iter_per_group = 10"
   ]
  },
  {
   "cell_type": "code",
   "execution_count": 22,
   "metadata": {},
   "outputs": [],
   "source": [
    "tqdm.pandas()\n",
    "errors = []\n",
    "def weighted_dist(zone):\n",
    "    nuts_id = zone['FID'].unique()[0]\n",
    "    # Get the population points\n",
    "    pop_p = pop_r.loc[pop_r['NUTS_ID']==nuts_id]\n",
    "    # Count the number of PT stops in the zone and make it the number of clusters\n",
    "    n_clusters = len(zone.index)\n",
    "    if n_clusters > 0:\n",
    "        # Prepare sample\n",
    "        X = np.array([[p.x, p.y] for p in list(pop_p['geometry'])])\n",
    "        # Prepare initial starting points\n",
    "        nodes_coords = np.array([[p.x, p.y] for p in list(zone['geometry'])])\n",
    "        # Apply weighted K-Means\n",
    "        kmeans = KMeans(n_clusters=n_clusters,\n",
    "                        random_state=0,\n",
    "                        init=nodes_coords,\n",
    "                        max_iter=max_iter_per_group)\n",
    "        try:\n",
    "            kmeans.fit(X, sample_weight=np.array(list(pop_p['Einwohner'])))\n",
    "        except ValueError: # More stations than samples\n",
    "            zone[cent_col] = zone['geometry']\n",
    "            zone[pop_col] = pop_p['Einwohner'].sum() / n_clusters\n",
    "            zone[dist_col] = 100\n",
    "            zone[mean_dist_col] = 100\n",
    "            return zone\n",
    "        # Create results DataFrame\n",
    "        zone[cent_col] = [geometry.Point(c[0], c[1]) for c in kmeans.cluster_centers_]\n",
    "        # Add population to calculate the mean weighted distance for each zone later\n",
    "        pop_p['cluster'] = list(kmeans.labels_)\n",
    "        #    kmeans.predict(X, sample_weight=np.array(list(pop_p['Einwohner']))))\n",
    "        try:\n",
    "            zone[pop_col] = list(pop_p.groupby('cluster').agg({'Einwohner': 'sum'})['Einwohner'])\n",
    "        except ValueError: # Fewer labels than n_clusters\n",
    "            zone[pop_col] = pop_p['Einwohner'].mean()\n",
    "            errors.append((nuts_id, zone['route_type'].unique()[0]))\n",
    "        # Calculate distance between centroid and PT node\n",
    "        zone[dist_col] = [skims.get_distance_from_lon_lat_in_m(kmeans.cluster_centers_[i][0],\n",
    "                                                               kmeans.cluster_centers_[i][1],\n",
    "                                                               nodes_coords[i][0],\n",
    "                                                               nodes_coords[i][1])\n",
    "                          for i in range(n_clusters)]\n",
    "        # Add mean weighted distance\n",
    "        zone[mean_dist_col] = (zone[pop_col]*zone[dist_col]).sum() / zone[pop_col].sum()\n",
    "        return zone\n",
    "    else:\n",
    "        return"
   ]
  },
  {
   "cell_type": "code",
   "execution_count": null,
   "metadata": {
    "scrolled": true
   },
   "outputs": [],
   "source": [
    "# Generate clusters for every route type\n",
    "clusters = sm.nodes.groupby(['route_type', 'FID']).progress_apply(weighted_dist)"
   ]
  },
  {
   "cell_type": "code",
   "execution_count": 24,
   "metadata": {},
   "outputs": [
    {
     "data": {
      "text/plain": [
       "[('DE111', 'bus'),\n",
       " ('DE112', 'bus'),\n",
       " ('DE113', 'bus'),\n",
       " ('DE114', 'bus'),\n",
       " ('DE115', 'bus'),\n",
       " ('DE116', 'bus'),\n",
       " ('DE117', 'bus'),\n",
       " ('DE118', 'bus'),\n",
       " ('DE119', 'bus'),\n",
       " ('DE11A', 'bus'),\n",
       " ('DE11B', 'bus'),\n",
       " ('DE11C', 'bus'),\n",
       " ('DE11D', 'bus'),\n",
       " ('DE121', 'bus'),\n",
       " ('DE123', 'bus'),\n",
       " ('DE124', 'bus'),\n",
       " ('DE125', 'bus'),\n",
       " ('DE126', 'bus'),\n",
       " ('DE127', 'bus'),\n",
       " ('DE128', 'bus'),\n",
       " ('DE129', 'bus'),\n",
       " ('DE12A', 'bus'),\n",
       " ('DE12B', 'bus'),\n",
       " ('DE12C', 'bus'),\n",
       " ('DE131', 'bus'),\n",
       " ('DE132', 'bus'),\n",
       " ('DE133', 'bus'),\n",
       " ('DE135', 'bus'),\n",
       " ('DE139', 'bus'),\n",
       " ('DE13A', 'bus'),\n",
       " ('DE141', 'bus'),\n",
       " ('DE142', 'bus'),\n",
       " ('DE143', 'bus'),\n",
       " ('DE144', 'bus'),\n",
       " ('DE145', 'bus'),\n",
       " ('DE146', 'bus'),\n",
       " ('DE147', 'bus'),\n",
       " ('DE148', 'bus'),\n",
       " ('DE149', 'bus'),\n",
       " ('DE211', 'bus'),\n",
       " ('DE212', 'bus'),\n",
       " ('DE215', 'bus'),\n",
       " ('DE216', 'bus'),\n",
       " ('DE217', 'bus'),\n",
       " ('DE218', 'bus'),\n",
       " ('DE219', 'bus'),\n",
       " ('DE21A', 'bus'),\n",
       " ('DE21B', 'bus'),\n",
       " ('DE21C', 'bus'),\n",
       " ('DE21D', 'bus'),\n",
       " ('DE21F', 'bus'),\n",
       " ('DE21H', 'bus'),\n",
       " ('DE21K', 'bus'),\n",
       " ('DE21L', 'bus'),\n",
       " ('DE21M', 'bus'),\n",
       " ('DE21N', 'bus'),\n",
       " ('DE221', 'bus'),\n",
       " ('DE222', 'bus'),\n",
       " ('DE223', 'bus'),\n",
       " ('DE224', 'bus'),\n",
       " ('DE226', 'bus'),\n",
       " ('DE227', 'bus'),\n",
       " ('DE228', 'bus'),\n",
       " ('DE22B', 'bus'),\n",
       " ('DE231', 'bus'),\n",
       " ('DE232', 'bus'),\n",
       " ('DE234', 'bus'),\n",
       " ('DE235', 'bus'),\n",
       " ('DE236', 'bus'),\n",
       " ('DE237', 'bus'),\n",
       " ('DE238', 'bus'),\n",
       " ('DE239', 'bus'),\n",
       " ('DE23A', 'bus'),\n",
       " ('DE241', 'bus'),\n",
       " ('DE242', 'bus'),\n",
       " ('DE243', 'bus'),\n",
       " ('DE244', 'bus'),\n",
       " ('DE245', 'bus'),\n",
       " ('DE246', 'bus'),\n",
       " ('DE247', 'bus'),\n",
       " ('DE248', 'bus'),\n",
       " ('DE24A', 'bus'),\n",
       " ('DE24D', 'bus'),\n",
       " ('DE251', 'bus'),\n",
       " ('DE252', 'bus'),\n",
       " ('DE253', 'bus'),\n",
       " ('DE254', 'bus'),\n",
       " ('DE256', 'bus'),\n",
       " ('DE257', 'bus'),\n",
       " ('DE258', 'bus'),\n",
       " ('DE259', 'bus'),\n",
       " ('DE25A', 'bus'),\n",
       " ('DE25B', 'bus'),\n",
       " ('DE25C', 'bus'),\n",
       " ('DE261', 'bus'),\n",
       " ('DE262', 'bus'),\n",
       " ('DE263', 'bus'),\n",
       " ('DE264', 'bus'),\n",
       " ('DE265', 'bus'),\n",
       " ('DE266', 'bus'),\n",
       " ('DE267', 'bus'),\n",
       " ('DE268', 'bus'),\n",
       " ('DE26A', 'bus'),\n",
       " ('DE26B', 'bus'),\n",
       " ('DE26C', 'bus'),\n",
       " ('DE271', 'bus'),\n",
       " ('DE275', 'bus'),\n",
       " ('DE276', 'bus'),\n",
       " ('DE277', 'bus'),\n",
       " ('DE278', 'bus'),\n",
       " ('DE279', 'bus'),\n",
       " ('DE27B', 'bus'),\n",
       " ('DE27C', 'bus'),\n",
       " ('DE27D', 'bus'),\n",
       " ('DE27E', 'bus'),\n",
       " ('DE300', 'bus'),\n",
       " ('DE401', 'bus'),\n",
       " ('DE402', 'bus'),\n",
       " ('DE403', 'bus'),\n",
       " ('DE404', 'bus'),\n",
       " ('DE405', 'bus'),\n",
       " ('DE406', 'bus'),\n",
       " ('DE407', 'bus'),\n",
       " ('DE408', 'bus'),\n",
       " ('DE409', 'bus'),\n",
       " ('DE40A', 'bus'),\n",
       " ('DE40B', 'bus'),\n",
       " ('DE40C', 'bus'),\n",
       " ('DE40D', 'bus'),\n",
       " ('DE40E', 'bus'),\n",
       " ('DE40F', 'bus'),\n",
       " ('DE40G', 'bus'),\n",
       " ('DE40H', 'bus'),\n",
       " ('DE40I', 'bus'),\n",
       " ('DE501', 'bus'),\n",
       " ('DE502', 'bus'),\n",
       " ('DE600', 'bus'),\n",
       " ('DE711', 'bus'),\n",
       " ('DE712', 'bus'),\n",
       " ('DE713', 'bus'),\n",
       " ('DE714', 'bus'),\n",
       " ('DE715', 'bus'),\n",
       " ('DE716', 'bus'),\n",
       " ('DE717', 'bus'),\n",
       " ('DE718', 'bus'),\n",
       " ('DE71A', 'bus'),\n",
       " ('DE71B', 'bus'),\n",
       " ('DE71C', 'bus'),\n",
       " ('DE71D', 'bus'),\n",
       " ('DE71E', 'bus'),\n",
       " ('DE721', 'bus'),\n",
       " ('DE722', 'bus'),\n",
       " ('DE723', 'bus'),\n",
       " ('DE724', 'bus'),\n",
       " ('DE725', 'bus'),\n",
       " ('DE731', 'bus'),\n",
       " ('DE732', 'bus'),\n",
       " ('DE733', 'bus'),\n",
       " ('DE734', 'bus'),\n",
       " ('DE735', 'bus'),\n",
       " ('DE736', 'bus'),\n",
       " ('DE737', 'bus'),\n",
       " ('DE804', 'bus'),\n",
       " ('DE80J', 'bus'),\n",
       " ('DE80M', 'bus'),\n",
       " ('DE80N', 'bus'),\n",
       " ('DE80O', 'bus'),\n",
       " ('DE911', 'bus'),\n",
       " ('DE912', 'bus'),\n",
       " ('DE913', 'bus'),\n",
       " ('DE914', 'bus'),\n",
       " ('DE916', 'bus'),\n",
       " ('DE917', 'bus'),\n",
       " ('DE918', 'bus'),\n",
       " ('DE91A', 'bus'),\n",
       " ('DE91B', 'bus'),\n",
       " ('DE91C', 'bus'),\n",
       " ('DE922', 'bus'),\n",
       " ('DE923', 'bus'),\n",
       " ('DE926', 'bus'),\n",
       " ('DE927', 'bus'),\n",
       " ('DE928', 'bus'),\n",
       " ('DE929', 'bus'),\n",
       " ('DE931', 'bus'),\n",
       " ('DE932', 'bus'),\n",
       " ('DE933', 'bus'),\n",
       " ('DE934', 'bus'),\n",
       " ('DE935', 'bus'),\n",
       " ('DE936', 'bus'),\n",
       " ('DE937', 'bus'),\n",
       " ('DE938', 'bus'),\n",
       " ('DE939', 'bus'),\n",
       " ('DE93A', 'bus'),\n",
       " ('DE93B', 'bus'),\n",
       " ('DE942', 'bus'),\n",
       " ('DE943', 'bus'),\n",
       " ('DE944', 'bus'),\n",
       " ('DE945', 'bus'),\n",
       " ('DE946', 'bus'),\n",
       " ('DE947', 'bus'),\n",
       " ('DE948', 'bus'),\n",
       " ('DE949', 'bus'),\n",
       " ('DE94A', 'bus'),\n",
       " ('DE94C', 'bus'),\n",
       " ('DE94D', 'bus'),\n",
       " ('DE94E', 'bus'),\n",
       " ('DE94F', 'bus'),\n",
       " ('DE94G', 'bus'),\n",
       " ('DE94H', 'bus'),\n",
       " ('DEA11', 'bus'),\n",
       " ('DEA12', 'bus'),\n",
       " ('DEA13', 'bus'),\n",
       " ('DEA15', 'bus'),\n",
       " ('DEA16', 'bus'),\n",
       " ('DEA17', 'bus'),\n",
       " ('DEA18', 'bus'),\n",
       " ('DEA1A', 'bus'),\n",
       " ('DEA1C', 'bus'),\n",
       " ('DEA1D', 'bus'),\n",
       " ('DEA22', 'bus'),\n",
       " ('DEA23', 'bus'),\n",
       " ('DEA24', 'bus'),\n",
       " ('DEA26', 'bus'),\n",
       " ('DEA27', 'bus'),\n",
       " ('DEA28', 'bus'),\n",
       " ('DEA2A', 'bus'),\n",
       " ('DEA2B', 'bus'),\n",
       " ('DEA2C', 'bus'),\n",
       " ('DEA2D', 'bus'),\n",
       " ('DEA31', 'bus'),\n",
       " ('DEA32', 'bus'),\n",
       " ('DEA33', 'bus'),\n",
       " ('DEA34', 'bus'),\n",
       " ('DEA35', 'bus'),\n",
       " ('DEA36', 'bus'),\n",
       " ('DEA37', 'bus'),\n",
       " ('DEA38', 'bus'),\n",
       " ('DEA41', 'bus'),\n",
       " ('DEA42', 'bus'),\n",
       " ('DEA43', 'bus'),\n",
       " ('DEA44', 'bus'),\n",
       " ('DEA45', 'bus'),\n",
       " ('DEA46', 'bus'),\n",
       " ('DEA47', 'bus'),\n",
       " ('DEA51', 'bus'),\n",
       " ('DEA52', 'bus'),\n",
       " ('DEA53', 'bus'),\n",
       " ('DEA54', 'bus'),\n",
       " ('DEA55', 'bus'),\n",
       " ('DEA56', 'bus'),\n",
       " ('DEA57', 'bus'),\n",
       " ('DEA58', 'bus'),\n",
       " ('DEA59', 'bus'),\n",
       " ('DEA5C', 'bus'),\n",
       " ('DEB11', 'bus'),\n",
       " ('DEB12', 'bus'),\n",
       " ('DEB13', 'bus'),\n",
       " ('DEB15', 'bus'),\n",
       " ('DEB17', 'bus'),\n",
       " ('DEB18', 'bus'),\n",
       " ('DEB1A', 'bus'),\n",
       " ('DEB1B', 'bus'),\n",
       " ('DEB1C', 'bus'),\n",
       " ('DEB1D', 'bus'),\n",
       " ('DEB21', 'bus'),\n",
       " ('DEB23', 'bus'),\n",
       " ('DEB32', 'bus'),\n",
       " ('DEB33', 'bus'),\n",
       " ('DEB34', 'bus'),\n",
       " ('DEB36', 'bus'),\n",
       " ('DEB37', 'bus'),\n",
       " ('DEB39', 'bus'),\n",
       " ('DEB3A', 'bus'),\n",
       " ('DEB3D', 'bus'),\n",
       " ('DEB3G', 'bus'),\n",
       " ('DEB3K', 'bus'),\n",
       " ('DEC01', 'bus'),\n",
       " ('DEC02', 'bus'),\n",
       " ('DEC03', 'bus'),\n",
       " ('DEC04', 'bus'),\n",
       " ('DEC05', 'bus'),\n",
       " ('DEC06', 'bus'),\n",
       " ('DED21', 'bus'),\n",
       " ('DED2C', 'bus'),\n",
       " ('DED2D', 'bus'),\n",
       " ('DED2E', 'bus'),\n",
       " ('DED2F', 'bus'),\n",
       " ('DED41', 'bus'),\n",
       " ('DED42', 'bus'),\n",
       " ('DED43', 'bus'),\n",
       " ('DED44', 'bus'),\n",
       " ('DED45', 'bus'),\n",
       " ('DED51', 'bus'),\n",
       " ('DED52', 'bus'),\n",
       " ('DED53', 'bus'),\n",
       " ('DEE02', 'bus'),\n",
       " ('DEE03', 'bus'),\n",
       " ('DEE05', 'bus'),\n",
       " ('DEE06', 'bus'),\n",
       " ('DEE07', 'bus'),\n",
       " ('DEE08', 'bus'),\n",
       " ('DEE09', 'bus'),\n",
       " ('DEE0B', 'bus'),\n",
       " ('DEE0C', 'bus'),\n",
       " ('DEE0D', 'bus'),\n",
       " ('DEE0E', 'bus'),\n",
       " ('DEF01', 'bus'),\n",
       " ('DEF02', 'bus'),\n",
       " ('DEF03', 'bus'),\n",
       " ('DEF04', 'bus'),\n",
       " ('DEF05', 'bus'),\n",
       " ('DEF06', 'bus'),\n",
       " ('DEF07', 'bus'),\n",
       " ('DEF08', 'bus'),\n",
       " ('DEF09', 'bus'),\n",
       " ('DEF0A', 'bus'),\n",
       " ('DEF0B', 'bus'),\n",
       " ('DEF0C', 'bus'),\n",
       " ('DEF0D', 'bus'),\n",
       " ('DEF0E', 'bus'),\n",
       " ('DEF0F', 'bus'),\n",
       " ('DEG03', 'bus'),\n",
       " ('DEG05', 'bus'),\n",
       " ('DEG07', 'bus'),\n",
       " ('DEG09', 'bus'),\n",
       " ('DEG0A', 'bus'),\n",
       " ('DEG0B', 'bus'),\n",
       " ('DEG0C', 'bus'),\n",
       " ('DEG0D', 'bus'),\n",
       " ('DEG0E', 'bus'),\n",
       " ('DEG0F', 'bus'),\n",
       " ('DEG0G', 'bus'),\n",
       " ('DEG0I', 'bus'),\n",
       " ('DEG0J', 'bus'),\n",
       " ('DEG0K', 'bus'),\n",
       " ('DEG0L', 'bus'),\n",
       " ('DEG0M', 'bus'),\n",
       " ('DE300', 'rail_long_distance'),\n",
       " ('DE600', 'rail_long_distance'),\n",
       " ('DE112', 'rail_short_distance'),\n",
       " ('DE127', 'rail_short_distance'),\n",
       " ('DE212', 'rail_short_distance'),\n",
       " ('DE21C', 'rail_short_distance'),\n",
       " ('DE409', 'rail_short_distance'),\n",
       " ('DE40B', 'rail_short_distance'),\n",
       " ('DE600', 'rail_short_distance'),\n",
       " ('DE716', 'rail_short_distance'),\n",
       " ('DE918', 'rail_short_distance'),\n",
       " ('DEA1D', 'rail_short_distance'),\n",
       " ('DEB1A', 'rail_short_distance'),\n",
       " ('DEB3E', 'rail_short_distance'),\n",
       " ('DEB3F', 'rail_short_distance'),\n",
       " ('DED21', 'rail_short_distance'),\n",
       " ('DED43', 'rail_short_distance'),\n",
       " ('DEE06', 'rail_short_distance'),\n",
       " ('DEE0D', 'rail_short_distance'),\n",
       " ('DEE0E', 'rail_short_distance'),\n",
       " ('DEG07', 'rail_short_distance')]"
      ]
     },
     "execution_count": 24,
     "metadata": {},
     "output_type": "execute_result"
    }
   ],
   "source": [
    "errors"
   ]
  },
  {
   "cell_type": "code",
   "execution_count": 25,
   "metadata": {},
   "outputs": [
    {
     "data": {
      "text/html": [
       "<div>\n",
       "<style scoped>\n",
       "    .dataframe tbody tr th:only-of-type {\n",
       "        vertical-align: middle;\n",
       "    }\n",
       "\n",
       "    .dataframe tbody tr th {\n",
       "        vertical-align: top;\n",
       "    }\n",
       "\n",
       "    .dataframe thead th {\n",
       "        text-align: right;\n",
       "    }\n",
       "</style>\n",
       "<table border=\"1\" class=\"dataframe\">\n",
       "  <thead>\n",
       "    <tr style=\"text-align: right;\">\n",
       "      <th></th>\n",
       "      <th>FID</th>\n",
       "      <th>geometry</th>\n",
       "      <th>route_type</th>\n",
       "      <th>stop_name</th>\n",
       "      <th>cluster_center</th>\n",
       "      <th>population</th>\n",
       "      <th>weighted_dist</th>\n",
       "      <th>mean_weighted_dist</th>\n",
       "    </tr>\n",
       "    <tr>\n",
       "      <th>index</th>\n",
       "      <th></th>\n",
       "      <th></th>\n",
       "      <th></th>\n",
       "      <th></th>\n",
       "      <th></th>\n",
       "      <th></th>\n",
       "      <th></th>\n",
       "      <th></th>\n",
       "    </tr>\n",
       "  </thead>\n",
       "  <tbody>\n",
       "    <tr>\n",
       "      <th>bus_n_324443</th>\n",
       "      <td>DEB22</td>\n",
       "      <td>POINT (7.08599 49.77096)</td>\n",
       "      <td>bus</td>\n",
       "      <td>Morscheid, Grundschule</td>\n",
       "      <td>POINT (7.088409112763964 49.7718740384315)</td>\n",
       "      <td>168.000000</td>\n",
       "      <td>201.261278</td>\n",
       "      <td>905.055311</td>\n",
       "    </tr>\n",
       "    <tr>\n",
       "      <th>bus_n_249464</th>\n",
       "      <td>DE942</td>\n",
       "      <td>POINT (7.25603 53.37902)</td>\n",
       "      <td>bus</td>\n",
       "      <td>Emden, Osterhörn, Mast 2</td>\n",
       "      <td>POINT (7.25642501516962 53.37818787316021)</td>\n",
       "      <td>29.190643</td>\n",
       "      <td>96.220955</td>\n",
       "      <td>1356.760214</td>\n",
       "    </tr>\n",
       "    <tr>\n",
       "      <th>bus_n_156546</th>\n",
       "      <td>DEC01</td>\n",
       "      <td>POINT (7.04120 49.27720)</td>\n",
       "      <td>bus</td>\n",
       "      <td>Dudweiler Krankenhaus</td>\n",
       "      <td>POINT (7.040577313210172 49.27649209614879)</td>\n",
       "      <td>33.810691</td>\n",
       "      <td>90.901756</td>\n",
       "      <td>2328.064171</td>\n",
       "    </tr>\n",
       "    <tr>\n",
       "      <th>bus_n_367342</th>\n",
       "      <td>DE717</td>\n",
       "      <td>POINT (8.38519 49.99291)</td>\n",
       "      <td>bus</td>\n",
       "      <td>Rüsselsheim Teilebau  NRüsselsh.Zen</td>\n",
       "      <td>POINT (8.555757186570428 49.97548185405405)</td>\n",
       "      <td>44.432413</td>\n",
       "      <td>12348.120671</td>\n",
       "      <td>7249.452463</td>\n",
       "    </tr>\n",
       "  </tbody>\n",
       "</table>\n",
       "</div>"
      ],
      "text/plain": [
       "                FID                  geometry route_type  \\\n",
       "index                                                      \n",
       "bus_n_324443  DEB22  POINT (7.08599 49.77096)        bus   \n",
       "bus_n_249464  DE942  POINT (7.25603 53.37902)        bus   \n",
       "bus_n_156546  DEC01  POINT (7.04120 49.27720)        bus   \n",
       "bus_n_367342  DE717  POINT (8.38519 49.99291)        bus   \n",
       "\n",
       "                                        stop_name  \\\n",
       "index                                               \n",
       "bus_n_324443               Morscheid, Grundschule   \n",
       "bus_n_249464             Emden, Osterhörn, Mast 2   \n",
       "bus_n_156546                Dudweiler Krankenhaus   \n",
       "bus_n_367342  Rüsselsheim Teilebau  NRüsselsh.Zen   \n",
       "\n",
       "                                           cluster_center  population  \\\n",
       "index                                                                   \n",
       "bus_n_324443   POINT (7.088409112763964 49.7718740384315)  168.000000   \n",
       "bus_n_249464   POINT (7.25642501516962 53.37818787316021)   29.190643   \n",
       "bus_n_156546  POINT (7.040577313210172 49.27649209614879)   33.810691   \n",
       "bus_n_367342  POINT (8.555757186570428 49.97548185405405)   44.432413   \n",
       "\n",
       "              weighted_dist  mean_weighted_dist  \n",
       "index                                            \n",
       "bus_n_324443     201.261278          905.055311  \n",
       "bus_n_249464      96.220955         1356.760214  \n",
       "bus_n_156546      90.901756         2328.064171  \n",
       "bus_n_367342   12348.120671         7249.452463  "
      ]
     },
     "execution_count": 25,
     "metadata": {},
     "output_type": "execute_result"
    }
   ],
   "source": [
    "clusters.sample(4)"
   ]
  },
  {
   "cell_type": "code",
   "execution_count": 26,
   "metadata": {},
   "outputs": [
    {
     "data": {
      "text/plain": [
       "route_type\n",
       "air                    [[AxesSubplot(0.125,0.125;0.775x0.755)]]\n",
       "bus                    [[AxesSubplot(0.125,0.125;0.775x0.755)]]\n",
       "coach                  [[AxesSubplot(0.125,0.125;0.775x0.755)]]\n",
       "rail_long_distance     [[AxesSubplot(0.125,0.125;0.775x0.755)]]\n",
       "rail_short_distance    [[AxesSubplot(0.125,0.125;0.775x0.755)]]\n",
       "dtype: object"
      ]
     },
     "execution_count": 26,
     "metadata": {},
     "output_type": "execute_result"
    },
    {
     "data": {
      "image/png": "[encoded data removed]",
      "text/plain": [
       "<Figure size 432x288 with 1 Axes>"
      ]
     },
     "metadata": {
      "needs_background": "light"
     },
     "output_type": "display_data"
    },
    {
     "data": {
      "image/png": "[encoded data removed]",
      "text/plain": [
       "<Figure size 432x288 with 1 Axes>"
      ]
     },
     "metadata": {
      "needs_background": "light"
     },
     "output_type": "display_data"
    },
    {
     "data": {
      "image/png": "[encoded data removed]",
      "text/plain": [
       "<Figure size 432x288 with 1 Axes>"
      ]
     },
     "metadata": {
      "needs_background": "light"
     },
     "output_type": "display_data"
    },
    {
     "data": {
      "image/png": "[encoded data removed]",
      "text/plain": [
       "<Figure size 432x288 with 1 Axes>"
      ]
     },
     "metadata": {
      "needs_background": "light"
     },
     "output_type": "display_data"
    },
    {
     "data": {
      "image/png": "[encoded data removed]",
      "text/plain": [
       "<Figure size 432x288 with 1 Axes>"
      ]
     },
     "metadata": {
      "needs_background": "light"
     },
     "output_type": "display_data"
    }
   ],
   "source": [
    "clusters.groupby('route_type').hist(column=dist_col, bins=100)"
   ]
  },
  {
   "cell_type": "code",
   "execution_count": 27,
   "metadata": {},
   "outputs": [
    {
     "data": {
      "text/plain": [
       "route_type\n",
       "air                    [[AxesSubplot(0.125,0.125;0.775x0.755)]]\n",
       "bus                    [[AxesSubplot(0.125,0.125;0.775x0.755)]]\n",
       "coach                  [[AxesSubplot(0.125,0.125;0.775x0.755)]]\n",
       "rail_long_distance     [[AxesSubplot(0.125,0.125;0.775x0.755)]]\n",
       "rail_short_distance    [[AxesSubplot(0.125,0.125;0.775x0.755)]]\n",
       "dtype: object"
      ]
     },
     "execution_count": 27,
     "metadata": {},
     "output_type": "execute_result"
    },
    {
     "data": {
      "image/png": "[encoded data removed]",
      "text/plain": [
       "<Figure size 432x288 with 1 Axes>"
      ]
     },
     "metadata": {
      "needs_background": "light"
     },
     "output_type": "display_data"
    },
    {
     "data": {
      "image/png": "[encoded data removed]",
      "text/plain": [
       "<Figure size 432x288 with 1 Axes>"
      ]
     },
     "metadata": {
      "needs_background": "light"
     },
     "output_type": "display_data"
    },
    {
     "data": {
      "image/png": "[encoded data removed]",
      "text/plain": [
       "<Figure size 432x288 with 1 Axes>"
      ]
     },
     "metadata": {
      "needs_background": "light"
     },
     "output_type": "display_data"
    },
    {
     "data": {
      "image/png": "[encoded data removed]",
      "text/plain": [
       "<Figure size 432x288 with 1 Axes>"
      ]
     },
     "metadata": {
      "needs_background": "light"
     },
     "output_type": "display_data"
    },
    {
     "data": {
      "image/png": "[encoded data removed]",
      "text/plain": [
       "<Figure size 432x288 with 1 Axes>"
      ]
     },
     "metadata": {
      "needs_background": "light"
     },
     "output_type": "display_data"
    }
   ],
   "source": [
    "clusters.groupby('route_type').hist(column=mean_dist_col, bins=100)"
   ]
  },
  {
   "cell_type": "code",
   "execution_count": 28,
   "metadata": {},
   "outputs": [],
   "source": [
    "# Save the population centroids\n",
    "clusters.to_csv('../input/spatial_census_refined.csv')"
   ]
  }
 ],
 "metadata": {
  "kernelspec": {
   "display_name": "Python 3",
   "language": "python",
   "name": "python3"
  },
  "language_info": {
   "codemirror_mode": {
    "name": "ipython",
    "version": 3
   },
   "file_extension": ".py",
   "mimetype": "text/x-python",
   "name": "python",
   "nbconvert_exporter": "python",
   "pygments_lexer": "ipython3",
   "version": "3.8.1"
  }
 },
 "nbformat": 4,
 "nbformat_minor": 4
}
