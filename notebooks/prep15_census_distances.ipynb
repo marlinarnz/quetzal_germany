{
 "cells": [
  {
   "cell_type": "code",
   "execution_count": 1,
   "metadata": {},
   "outputs": [
    {
     "name": "stderr",
     "output_type": "stream",
     "text": [
      "\n",
      "Bad key text.latex.preview in file C:\\Users\\marlin.arnz\\AppData\\Local\\Continuum\\miniconda3\\envs\\quetzal\\lib\\site-packages\\matplotlib\\mpl-data\\stylelib\\_classic_test.mplstyle, line 123 ('text.latex.preview : False')\n",
      "You probably need to get an updated matplotlibrc file from\n",
      "https://github.com/matplotlib/matplotlib/blob/v3.5.2/matplotlibrc.template\n",
      "or from the matplotlib source distribution\n",
      "\n",
      "Bad key mathtext.fallback_to_cm in file C:\\Users\\marlin.arnz\\AppData\\Local\\Continuum\\miniconda3\\envs\\quetzal\\lib\\site-packages\\matplotlib\\mpl-data\\stylelib\\_classic_test.mplstyle, line 155 ('mathtext.fallback_to_cm : True  # When True, use symbols from the Computer Modern')\n",
      "You probably need to get an updated matplotlibrc file from\n",
      "https://github.com/matplotlib/matplotlib/blob/v3.5.2/matplotlibrc.template\n",
      "or from the matplotlib source distribution\n",
      "\n",
      "Bad key savefig.jpeg_quality in file C:\\Users\\marlin.arnz\\AppData\\Local\\Continuum\\miniconda3\\envs\\quetzal\\lib\\site-packages\\matplotlib\\mpl-data\\stylelib\\_classic_test.mplstyle, line 418 ('savefig.jpeg_quality: 95       # when a jpeg is saved, the default quality parameter.')\n",
      "You probably need to get an updated matplotlibrc file from\n",
      "https://github.com/matplotlib/matplotlib/blob/v3.5.2/matplotlibrc.template\n",
      "or from the matplotlib source distribution\n",
      "\n",
      "Bad key keymap.all_axes in file C:\\Users\\marlin.arnz\\AppData\\Local\\Continuum\\miniconda3\\envs\\quetzal\\lib\\site-packages\\matplotlib\\mpl-data\\stylelib\\_classic_test.mplstyle, line 466 ('keymap.all_axes : a                 # enable all axes')\n",
      "You probably need to get an updated matplotlibrc file from\n",
      "https://github.com/matplotlib/matplotlib/blob/v3.5.2/matplotlibrc.template\n",
      "or from the matplotlib source distribution\n",
      "\n",
      "Bad key animation.avconv_path in file C:\\Users\\marlin.arnz\\AppData\\Local\\Continuum\\miniconda3\\envs\\quetzal\\lib\\site-packages\\matplotlib\\mpl-data\\stylelib\\_classic_test.mplstyle, line 477 ('animation.avconv_path: avconv     # Path to avconv binary. Without full path')\n",
      "You probably need to get an updated matplotlibrc file from\n",
      "https://github.com/matplotlib/matplotlib/blob/v3.5.2/matplotlibrc.template\n",
      "or from the matplotlib source distribution\n",
      "\n",
      "Bad key animation.avconv_args in file C:\\Users\\marlin.arnz\\AppData\\Local\\Continuum\\miniconda3\\envs\\quetzal\\lib\\site-packages\\matplotlib\\mpl-data\\stylelib\\_classic_test.mplstyle, line 479 ('animation.avconv_args:            # Additional arguments to pass to avconv')\n",
      "You probably need to get an updated matplotlibrc file from\n",
      "https://github.com/matplotlib/matplotlib/blob/v3.5.2/matplotlibrc.template\n",
      "or from the matplotlib source distribution\n"
     ]
    }
   ],
   "source": [
    "import sys # for automation and parallelisation\n",
    "manual, scenario = (True, 'base') if 'ipykernel' in sys.argv[0] else (False, sys.argv[1])\n",
    "if manual:\n",
    "    %matplotlib inline"
   ]
  },
  {
   "cell_type": "code",
   "execution_count": 2,
   "metadata": {
    "scrolled": true
   },
   "outputs": [],
   "source": [
    "import os\n",
    "import pandas as pd\n",
    "import geopandas as gpd\n",
    "import numpy as np\n",
    "from shapely import geometry\n",
    "import shapely.speedups\n",
    "from tqdm import tqdm\n",
    "from syspy.skims import skims\n",
    "from sklearn.cluster import KMeans\n",
    "from quetzal.model import stepmodel\n",
    "from quetzal.io import excel"
   ]
  },
  {
   "cell_type": "markdown",
   "metadata": {},
   "source": [
    "# Preparation of input data\n",
    "## Generates a DataFrame of PT stops with mean weighted distances to population cells\n",
    "## Needs original PT nodes"
   ]
  },
  {
   "cell_type": "code",
   "execution_count": 5,
   "metadata": {},
   "outputs": [],
   "source": [
    "input_path = '../input_static/spatial_'\n",
    "output_path = '../output/'\n",
    "model_path = '../input_static/'\n",
    "zone_path = '../model/' + scenario + '/'"
   ]
  },
  {
   "cell_type": "code",
   "execution_count": 4,
   "metadata": {},
   "outputs": [],
   "source": [
    "# Load scenario parameters\n",
    "params = excel.read_var(file='../input/parameters.xls', scenario=scenario)"
   ]
  },
  {
   "cell_type": "code",
   "execution_count": 13,
   "metadata": {},
   "outputs": [],
   "source": [
    "sm = stepmodel.read_json(model_path + 'de_pt_network')\n",
    "z = stepmodel.read_json(zone_path + 'de_zones')\n",
    "sm.zones = z.zones"
   ]
  },
  {
   "cell_type": "code",
   "execution_count": 14,
   "metadata": {},
   "outputs": [
    {
     "name": "stderr",
     "output_type": "stream",
     "text": [
      "100%|█████████████████████████████████████████████████████████████████████████████| 4602/4602 [00:08<00:00, 540.38it/s]\n"
     ]
    }
   ],
   "source": [
    "# Map nodes to zones\n",
    "if 'FID' not in sm.nodes.columns:\n",
    "    shapely.speedups.enable()\n",
    "    sm.nodes['FID'] = np.nan\n",
    "    sm.nodes = gpd.GeoDataFrame(sm.nodes, crs=sm.epsg)\n",
    "    for _, zone in tqdm(sm.zones.iterrows(), total=sm.zones.shape[0]):\n",
    "        sm.nodes.loc[sm.nodes['geometry'].within(zone['geometry']), 'FID'] = zone['FID']\n",
    "    #sm.nodes.to_file(model_path + 'de_pt_network/nodes.geojson', driver='GeoJSON', encoding='utf-8')"
   ]
  },
  {
   "cell_type": "code",
   "execution_count": 8,
   "metadata": {},
   "outputs": [],
   "source": [
    "bus = stepmodel.read_json(model_path + 'de_pt_network_bus')"
   ]
  },
  {
   "cell_type": "code",
   "execution_count": 12,
   "metadata": {},
   "outputs": [
    {
     "name": "stderr",
     "output_type": "stream",
     "text": [
      "100%|██████████████████████████████████████████████████████████████████████████████| 4602/4602 [03:28<00:00, 22.10it/s]\n"
     ]
    }
   ],
   "source": [
    "# Map bus nodes to zones\n",
    "if 'FID' not in bus.nodes.columns:\n",
    "    shapely.speedups.enable()\n",
    "    bus.nodes['FID'] = np.nan\n",
    "    bus.nodes = gpd.GeoDataFrame(bus.nodes, crs=sm.epsg)\n",
    "    for _, zone in tqdm(sm.zones.iterrows(), total=sm.zones.shape[0]):\n",
    "        bus.nodes.loc[bus.nodes['geometry'].within(zone['geometry']), 'FID'] = zone['FID']\n",
    "    #bus.nodes.to_file(model_path + 'de_pt_network_bus/nodes.geojson', driver='GeoJSON', encoding='utf-8')"
   ]
  },
  {
   "cell_type": "code",
   "execution_count": 15,
   "metadata": {},
   "outputs": [],
   "source": [
    "# Merge\n",
    "sm.nodes = pd.concat([sm.nodes, bus.nodes])"
   ]
  },
  {
   "cell_type": "code",
   "execution_count": null,
   "metadata": {},
   "outputs": [],
   "source": [
    "# Add reactivated rail nodes, if set in scenario\n",
    "if not params['network_reactivation']['inclusion_reason'] is None:\n",
    "    # TODO\n",
    "    pass"
   ]
  },
  {
   "cell_type": "markdown",
   "metadata": {},
   "source": [
    "## Load census data"
   ]
  },
  {
   "cell_type": "code",
   "execution_count": 16,
   "metadata": {},
   "outputs": [],
   "source": [
    "# Load census data: Zensus 2011 - Einwohnerzahl je Hektar\n",
    "# Copyright: © Statistisches Bundesamt, Wiesbaden 2015\n",
    "# (im Auftrag der Herausgebergemeinschaft)\n",
    "# Vervielfältigung und Verbreitung, auch auszugsweise, mit Quellenangabe gestattet\n",
    "if os.path.isfile(input_path + 'Zensus_2011.geojson'):\n",
    "    pop = gpd.read_file(input_path + 'Zensus_2011.geojson', driver='GeoJSON')\n",
    "else:\n",
    "    pop = pd.read_csv(input_path + 'Zensus_2011.csv', sep=';')\n",
    "    # Restrict to entries that hold information\n",
    "    pop = pop.loc[pop['Einwohner']!=-1]\n",
    "    pop = gpd.GeoDataFrame(pop[['Einwohner']],\n",
    "                          geometry=gpd.points_from_xy(pop['x_mp_100m'], pop['y_mp_100m']))\n",
    "    pop.crs = 3035\n",
    "    pop.to_crs(sm.epsg, inplace=True)"
   ]
  },
  {
   "cell_type": "code",
   "execution_count": 17,
   "metadata": {},
   "outputs": [
    {
     "name": "stdout",
     "output_type": "stream",
     "text": [
      "(3177723, 4)\n"
     ]
    },
    {
     "data": {
      "text/html": [
       "<div>\n",
       "<style scoped>\n",
       "    .dataframe tbody tr th:only-of-type {\n",
       "        vertical-align: middle;\n",
       "    }\n",
       "\n",
       "    .dataframe tbody tr th {\n",
       "        vertical-align: top;\n",
       "    }\n",
       "\n",
       "    .dataframe thead th {\n",
       "        text-align: right;\n",
       "    }\n",
       "</style>\n",
       "<table border=\"1\" class=\"dataframe\">\n",
       "  <thead>\n",
       "    <tr style=\"text-align: right;\">\n",
       "      <th></th>\n",
       "      <th>Einwohner</th>\n",
       "      <th>NUTS_ID</th>\n",
       "      <th>FID</th>\n",
       "      <th>geometry</th>\n",
       "    </tr>\n",
       "  </thead>\n",
       "  <tbody>\n",
       "    <tr>\n",
       "      <th>0</th>\n",
       "      <td>8</td>\n",
       "      <td>DE27E</td>\n",
       "      <td>DE27E_8</td>\n",
       "      <td>POINT (10.21212 47.31574)</td>\n",
       "    </tr>\n",
       "    <tr>\n",
       "      <th>1</th>\n",
       "      <td>7</td>\n",
       "      <td>DE27E</td>\n",
       "      <td>DE27E_8</td>\n",
       "      <td>POINT (10.26631 47.31562)</td>\n",
       "    </tr>\n",
       "  </tbody>\n",
       "</table>\n",
       "</div>"
      ],
      "text/plain": [
       "   Einwohner NUTS_ID      FID                   geometry\n",
       "0          8   DE27E  DE27E_8  POINT (10.21212 47.31574)\n",
       "1          7   DE27E  DE27E_8  POINT (10.26631 47.31562)"
      ]
     },
     "execution_count": 17,
     "metadata": {},
     "output_type": "execute_result"
    }
   ],
   "source": [
    "print(pop.shape)\n",
    "pop.head(2)"
   ]
  },
  {
   "cell_type": "code",
   "execution_count": 18,
   "metadata": {},
   "outputs": [],
   "source": [
    "pop_r = pop"
   ]
  },
  {
   "cell_type": "code",
   "execution_count": 13,
   "metadata": {},
   "outputs": [],
   "source": [
    "# Restrict to a geometric hull\n",
    "#sm.zones = gpd.GeoDataFrame(sm.zones)\n",
    "#hull = sm.zones[\"geometry\"].buffer(1e-3).unary_union\n",
    "# Restrict to the geometric hull if the latter is not Germany\n",
    "#pop_r = pop.loc[pop['geometry'].apply(lambda p: p.within(hull))]\n",
    "#print(pop_r.shape)"
   ]
  },
  {
   "cell_type": "code",
   "execution_count": 19,
   "metadata": {},
   "outputs": [
    {
     "name": "stderr",
     "output_type": "stream",
     "text": [
      "100%|██████████████████████████████████████████████████████████████████████████████| 4602/4602 [25:24<00:00,  3.02it/s]\n"
     ]
    }
   ],
   "source": [
    "# Map to zones\n",
    "if not 'FID' in pop_r.columns or set(pop_r['FID']) != set(sm.zones['FID']):\n",
    "    shapely.speedups.enable()\n",
    "    zones = gpd.GeoDataFrame(sm.zones.sort_values('area', ascending=False), crs=sm.epsg)\n",
    "    #centr['geometry'] = zones['geometry'].centroid\n",
    "    pop_r['FID'] = np.nan\n",
    "    for _, zone in tqdm(zones.iterrows(), total=sm.zones.shape[0]):\n",
    "        geo = zone['geometry'].buffer(0.08)\n",
    "        pop_r.loc[pop_r['geometry'].within(geo), 'FID'] = zone['FID']\n",
    "    pop_r.to_file(input_path + 'Zensus_2011.geojson', driver='GeoJSON')"
   ]
  },
  {
   "cell_type": "code",
   "execution_count": 20,
   "metadata": {},
   "outputs": [
    {
     "data": {
      "text/html": [
       "<div>\n",
       "<style scoped>\n",
       "    .dataframe tbody tr th:only-of-type {\n",
       "        vertical-align: middle;\n",
       "    }\n",
       "\n",
       "    .dataframe tbody tr th {\n",
       "        vertical-align: top;\n",
       "    }\n",
       "\n",
       "    .dataframe thead th {\n",
       "        text-align: right;\n",
       "    }\n",
       "</style>\n",
       "<table border=\"1\" class=\"dataframe\">\n",
       "  <thead>\n",
       "    <tr style=\"text-align: right;\">\n",
       "      <th></th>\n",
       "      <th>Einwohner</th>\n",
       "      <th>NUTS_ID</th>\n",
       "      <th>FID</th>\n",
       "      <th>geometry</th>\n",
       "    </tr>\n",
       "  </thead>\n",
       "  <tbody>\n",
       "  </tbody>\n",
       "</table>\n",
       "</div>"
      ],
      "text/plain": [
       "Empty GeoDataFrame\n",
       "Columns: [Einwohner, NUTS_ID, FID, geometry]\n",
       "Index: []"
      ]
     },
     "execution_count": 20,
     "metadata": {},
     "output_type": "execute_result"
    }
   ],
   "source": [
    "pop_r.loc[pop_r['FID'].isna()]"
   ]
  },
  {
   "cell_type": "code",
   "execution_count": 21,
   "metadata": {},
   "outputs": [
    {
     "data": {
      "text/plain": [
       "(410735, 4)"
      ]
     },
     "execution_count": 21,
     "metadata": {},
     "output_type": "execute_result"
    }
   ],
   "source": [
    "sm.nodes.shape"
   ]
  },
  {
   "cell_type": "markdown",
   "metadata": {},
   "source": [
    "## Apply K-Means to find weighted distances of PT stops\n",
    "The important question for mode choice problems: How long/inconvenient is it from home to the next PT stop? </br>\n",
    "Approach: Build population densities from census data and calculate the mean weighted distance to the next PT stop."
   ]
  },
  {
   "cell_type": "code",
   "execution_count": 22,
   "metadata": {},
   "outputs": [],
   "source": [
    "# Settings:\n",
    "dist_col = 'weighted_dist'\n",
    "mean_dist_col = 'mean_weighted_dist'\n",
    "cent_col = 'cluster_center'\n",
    "pop_col = 'population'\n",
    "max_iter_per_group = 10\n",
    "tqdm.pandas()\n",
    "errors = []"
   ]
  },
  {
   "cell_type": "code",
   "execution_count": 23,
   "metadata": {},
   "outputs": [],
   "source": [
    "def weighted_dist(zone):\n",
    "    nuts_id = zone['FID'].unique()[0]\n",
    "    # Get the population points\n",
    "    pop_p = pop_r.loc[pop_r['FID']==nuts_id]\n",
    "    # Count the number of PT stops in the zone and make it the number of clusters\n",
    "    n_clusters = len(zone.index)\n",
    "    if n_clusters > 0:\n",
    "        # Prepare sample\n",
    "        X = np.array([[p.x, p.y] for p in list(pop_p['geometry'])])\n",
    "        # Prepare initial starting points\n",
    "        nodes_coords = np.array([[p.x, p.y] for p in list(zone['geometry'])])\n",
    "        # Apply weighted K-Means\n",
    "        kmeans = KMeans(n_clusters=n_clusters,\n",
    "                        random_state=0,\n",
    "                        init=nodes_coords,\n",
    "                        max_iter=max_iter_per_group)\n",
    "        try:\n",
    "            kmeans.fit(X, sample_weight=np.array(list(pop_p['Einwohner'])))\n",
    "        except ValueError: # More stations than samples\n",
    "            zone[cent_col] = zone['geometry']\n",
    "            zone[pop_col] = pop_p['Einwohner'].sum() / n_clusters\n",
    "            zone[dist_col] = 100\n",
    "            zone[mean_dist_col] = 100\n",
    "            return zone\n",
    "        # Create results DataFrame\n",
    "        zone[cent_col] = [geometry.Point(c[0], c[1]) for c in kmeans.cluster_centers_]\n",
    "        # Add population to calculate the mean weighted distance for each zone later\n",
    "        pop_p['cluster'] = list(kmeans.labels_)\n",
    "        #    kmeans.predict(X, sample_weight=np.array(list(pop_p['Einwohner']))))\n",
    "        try:\n",
    "            zone[pop_col] = list(pop_p.groupby('cluster').agg({'Einwohner': 'sum'})['Einwohner'])\n",
    "        except ValueError: # Fewer labels than n_clusters\n",
    "            zone[pop_col] = pop_p['Einwohner'].mean()\n",
    "            errors.append((nuts_id, zone['route_type'].unique()[0]))\n",
    "        # Calculate distance between centroid and PT node\n",
    "        zone[dist_col] = [skims.get_distance_from_lon_lat_in_m(kmeans.cluster_centers_[i][0],\n",
    "                                                               kmeans.cluster_centers_[i][1],\n",
    "                                                               nodes_coords[i][0],\n",
    "                                                               nodes_coords[i][1])\n",
    "                          for i in range(n_clusters)]\n",
    "        # Add mean weighted distance\n",
    "        zone[mean_dist_col] = (zone[pop_col]*zone[dist_col]).sum() / zone[pop_col].sum()\n",
    "        return zone\n",
    "    else:\n",
    "        return"
   ]
  },
  {
   "cell_type": "code",
   "execution_count": 20,
   "metadata": {
    "scrolled": true
   },
   "outputs": [],
   "source": [
    "# Generate mean weighted distances for every route type\n",
    "#node_dist = sm.nodes.groupby(['route_type', 'FID']).progress_apply(weighted_dist)"
   ]
  },
  {
   "cell_type": "code",
   "execution_count": 21,
   "metadata": {},
   "outputs": [
    {
     "data": {
      "text/plain": [
       "0"
      ]
     },
     "execution_count": 21,
     "metadata": {},
     "output_type": "execute_result"
    }
   ],
   "source": [
    "len(errors)"
   ]
  },
  {
   "cell_type": "markdown",
   "metadata": {},
   "source": [
    "## Alternative: Catchment area distances by access mode\n",
    "Compute mean weighted distances considering distinct catchment radii by access mode (walking, cycling, car). Each PT stop has a population catchment (by access mode) and a service frequency, which both weight the distance to census centroids within the stop's catchment.\n",
    "\n",
    "Given modal split for PT access/egress trips by urbanisation degree, they result in a weighted mean distance."
   ]
  },
  {
   "cell_type": "code",
   "execution_count": 24,
   "metadata": {},
   "outputs": [
    {
     "data": {
      "text/plain": [
       "405889"
      ]
     },
     "execution_count": 24,
     "metadata": {},
     "output_type": "execute_result"
    }
   ],
   "source": [
    "# Count services by stop_id\n",
    "service_count_dict = sm.links.groupby('a').count()['b'].to_dict()\n",
    "service_count_dict.update(bus.links.groupby('a').count()['b'].to_dict())\n",
    "len(service_count_dict) # number of stops reported here"
   ]
  },
  {
   "cell_type": "code",
   "execution_count": 25,
   "metadata": {},
   "outputs": [],
   "source": [
    "try:\n",
    "    urban_dict = sm.zones.set_index('FID')['urbanisation'].to_dict()\n",
    "except KeyError:\n",
    "    urban_dict = sm.zones['urbanisation'].to_dict()"
   ]
  },
  {
   "cell_type": "code",
   "execution_count": 26,
   "metadata": {},
   "outputs": [],
   "source": [
    "def weighted_dist_2(zone):\n",
    "    if len(zone.index) < 1:\n",
    "        return\n",
    "    nuts_id = zone['FID'].unique()[0]\n",
    "    # Get population points\n",
    "    pop_z = pop_r.loc[pop_r['FID']==nuts_id]\n",
    "    if len(pop_z) < 1:\n",
    "        return\n",
    "\n",
    "    # Calculate distances to every stop\n",
    "    pop_z['lon'] = pop_z['geometry'].apply(lambda g: g.coords[0][0])\n",
    "    pop_z['lat'] = pop_z['geometry'].apply(lambda g: g.coords[0][1])\n",
    "    for stop, row in zone.iterrows():\n",
    "        pop_z[stop] = skims.get_distance_from_lon_lat_in_m(\n",
    "            pop_z['lon'], pop_z['lat'], row['geometry'].coords[0][0], row['geometry'].coords[0][1])\n",
    "\n",
    "    # Calculate population catchment distance by access mode\n",
    "    # Weight it by population and distance (linear)\n",
    "    def pop_weighted_dist(distances, populations, threshold):\n",
    "        pop_weighted = populations * (distances/threshold)\n",
    "        return (distances * pop_weighted).sum() / pop_weighted.sum()\n",
    "    for mode in ['walk', 'bicycle', 'car']:\n",
    "        thresh = params['pt_access']['catchment_radius_'+mode]\n",
    "        zone[(dist_col, mode)] = [pop_weighted_dist(\n",
    "            pop_z.loc[pop_z[stop]<=thresh, stop], pop_z.loc[pop_z[stop]<=thresh, 'Einwohner'], thresh)\n",
    "                                  for stop in zone.index]\n",
    "\n",
    "    # Get service frequency\n",
    "    zone['n_services'] = zone.index.map(service_count_dict).fillna(1)\n",
    "\n",
    "    # Put it all together: mean weighted distance per zone\n",
    "    zone[mean_dist_col] = sum([(zone[mode_dist_col] * zone['n_services']).sum() / zone['n_services'].sum()\n",
    "                               * float(params['pt_access'][\n",
    "                                   'urban'+str(int(urban_dict[nuts_id]))+'_'+str(mode_dist_col[1])+'_share'])\n",
    "                               for mode_dist_col in zone.columns if mode_dist_col[0]==dist_col])\n",
    "    return zone"
   ]
  },
  {
   "cell_type": "code",
   "execution_count": 27,
   "metadata": {},
   "outputs": [],
   "source": [
    "node_dist = sm.nodes.groupby(['route_type', 'FID']).apply(weighted_dist_2)"
   ]
  },
  {
   "cell_type": "code",
   "execution_count": 28,
   "metadata": {},
   "outputs": [
    {
     "data": {
      "text/html": [
       "<div>\n",
       "<style scoped>\n",
       "    .dataframe tbody tr th:only-of-type {\n",
       "        vertical-align: middle;\n",
       "    }\n",
       "\n",
       "    .dataframe tbody tr th {\n",
       "        vertical-align: top;\n",
       "    }\n",
       "\n",
       "    .dataframe thead th {\n",
       "        text-align: right;\n",
       "    }\n",
       "</style>\n",
       "<table border=\"1\" class=\"dataframe\">\n",
       "  <thead>\n",
       "    <tr style=\"text-align: right;\">\n",
       "      <th></th>\n",
       "      <th></th>\n",
       "      <th></th>\n",
       "      <th>stop_name</th>\n",
       "      <th>route_type</th>\n",
       "      <th>geometry</th>\n",
       "      <th>FID</th>\n",
       "      <th>(weighted_dist, walk)</th>\n",
       "      <th>(weighted_dist, bicycle)</th>\n",
       "      <th>(weighted_dist, car)</th>\n",
       "      <th>n_services</th>\n",
       "      <th>mean_weighted_dist</th>\n",
       "    </tr>\n",
       "    <tr>\n",
       "      <th>route_type</th>\n",
       "      <th>FID</th>\n",
       "      <th>index</th>\n",
       "      <th></th>\n",
       "      <th></th>\n",
       "      <th></th>\n",
       "      <th></th>\n",
       "      <th></th>\n",
       "      <th></th>\n",
       "      <th></th>\n",
       "      <th></th>\n",
       "      <th></th>\n",
       "    </tr>\n",
       "  </thead>\n",
       "  <tbody>\n",
       "    <tr>\n",
       "      <th rowspan=\"4\" valign=\"top\">bus</th>\n",
       "      <th>51200000.0</th>\n",
       "      <th>bus_n_75595</th>\n",
       "      <td>Remscheid Rauhaus</td>\n",
       "      <td>bus</td>\n",
       "      <td>POINT (7.16047 51.18632)</td>\n",
       "      <td>51200000.0</td>\n",
       "      <td>NaN</td>\n",
       "      <td>3023.775847</td>\n",
       "      <td>3023.775847</td>\n",
       "      <td>4.0</td>\n",
       "      <td>302.864909</td>\n",
       "    </tr>\n",
       "    <tr>\n",
       "      <th>34590005.0</th>\n",
       "      <th>bus_n_41106</th>\n",
       "      <td>Hardensetten, Voßbrink</td>\n",
       "      <td>bus</td>\n",
       "      <td>POINT (8.08508 52.07824)</td>\n",
       "      <td>34590005.0</td>\n",
       "      <td>NaN</td>\n",
       "      <td>7412.851945</td>\n",
       "      <td>7412.851945</td>\n",
       "      <td>1.0</td>\n",
       "      <td>959.112086</td>\n",
       "    </tr>\n",
       "    <tr>\n",
       "      <th>59660004.0</th>\n",
       "      <th>bus_x_n_467689</th>\n",
       "      <td>Attendorn Ewig</td>\n",
       "      <td>bus</td>\n",
       "      <td>POINT (7.88199 51.11687)</td>\n",
       "      <td>59660004.0</td>\n",
       "      <td>NaN</td>\n",
       "      <td>NaN</td>\n",
       "      <td>12817.772687</td>\n",
       "      <td>1.0</td>\n",
       "      <td>969.017732</td>\n",
       "    </tr>\n",
       "    <tr>\n",
       "      <th>57580012.0</th>\n",
       "      <th>bus_n_395658</th>\n",
       "      <td>Herford, Paracelsusstraße</td>\n",
       "      <td>bus</td>\n",
       "      <td>POINT (8.70585 52.12432)</td>\n",
       "      <td>57580012.0</td>\n",
       "      <td>NaN</td>\n",
       "      <td>NaN</td>\n",
       "      <td>16234.904647</td>\n",
       "      <td>1.0</td>\n",
       "      <td>970.342324</td>\n",
       "    </tr>\n",
       "  </tbody>\n",
       "</table>\n",
       "</div>"
      ],
      "text/plain": [
       "                                                      stop_name route_type  \\\n",
       "route_type FID        index                                                  \n",
       "bus        51200000.0 bus_n_75595             Remscheid Rauhaus        bus   \n",
       "           34590005.0 bus_n_41106        Hardensetten, Voßbrink        bus   \n",
       "           59660004.0 bus_x_n_467689             Attendorn Ewig        bus   \n",
       "           57580012.0 bus_n_395658    Herford, Paracelsusstraße        bus   \n",
       "\n",
       "                                                      geometry         FID  \\\n",
       "route_type FID        index                                                  \n",
       "bus        51200000.0 bus_n_75595     POINT (7.16047 51.18632)  51200000.0   \n",
       "           34590005.0 bus_n_41106     POINT (8.08508 52.07824)  34590005.0   \n",
       "           59660004.0 bus_x_n_467689  POINT (7.88199 51.11687)  59660004.0   \n",
       "           57580012.0 bus_n_395658    POINT (8.70585 52.12432)  57580012.0   \n",
       "\n",
       "                                      (weighted_dist, walk)  \\\n",
       "route_type FID        index                                   \n",
       "bus        51200000.0 bus_n_75595                       NaN   \n",
       "           34590005.0 bus_n_41106                       NaN   \n",
       "           59660004.0 bus_x_n_467689                    NaN   \n",
       "           57580012.0 bus_n_395658                      NaN   \n",
       "\n",
       "                                      (weighted_dist, bicycle)  \\\n",
       "route_type FID        index                                      \n",
       "bus        51200000.0 bus_n_75595                  3023.775847   \n",
       "           34590005.0 bus_n_41106                  7412.851945   \n",
       "           59660004.0 bus_x_n_467689                       NaN   \n",
       "           57580012.0 bus_n_395658                         NaN   \n",
       "\n",
       "                                      (weighted_dist, car)  n_services  \\\n",
       "route_type FID        index                                              \n",
       "bus        51200000.0 bus_n_75595              3023.775847         4.0   \n",
       "           34590005.0 bus_n_41106              7412.851945         1.0   \n",
       "           59660004.0 bus_x_n_467689          12817.772687         1.0   \n",
       "           57580012.0 bus_n_395658            16234.904647         1.0   \n",
       "\n",
       "                                      mean_weighted_dist  \n",
       "route_type FID        index                               \n",
       "bus        51200000.0 bus_n_75595             302.864909  \n",
       "           34590005.0 bus_n_41106             959.112086  \n",
       "           59660004.0 bus_x_n_467689          969.017732  \n",
       "           57580012.0 bus_n_395658            970.342324  "
      ]
     },
     "execution_count": 28,
     "metadata": {},
     "output_type": "execute_result"
    }
   ],
   "source": [
    "node_dist.sample(4)"
   ]
  },
  {
   "cell_type": "code",
   "execution_count": 29,
   "metadata": {},
   "outputs": [],
   "source": [
    "node_dist.reset_index(level=['route_type', 'FID'], drop=True, inplace=True)"
   ]
  },
  {
   "cell_type": "code",
   "execution_count": 30,
   "metadata": {},
   "outputs": [
    {
     "data": {
      "image/png": "[encoded data removed]",
      "text/plain": [
       "<Figure size 432x288 with 1 Axes>"
      ]
     },
     "metadata": {
      "needs_background": "light"
     },
     "output_type": "display_data"
    },
    {
     "data": {
      "image/png": "[encoded data removed]",
      "text/plain": [
       "<Figure size 432x288 with 1 Axes>"
      ]
     },
     "metadata": {
      "needs_background": "light"
     },
     "output_type": "display_data"
    },
    {
     "data": {
      "image/png": "[encoded data removed]",
      "text/plain": [
       "<Figure size 432x288 with 1 Axes>"
      ]
     },
     "metadata": {
      "needs_background": "light"
     },
     "output_type": "display_data"
    },
    {
     "data": {
      "image/png": "[encoded data removed]",
      "text/plain": [
       "<Figure size 432x288 with 1 Axes>"
      ]
     },
     "metadata": {
      "needs_background": "light"
     },
     "output_type": "display_data"
    },
    {
     "data": {
      "image/png": "[encoded data removed]",
      "text/plain": [
       "<Figure size 432x288 with 1 Axes>"
      ]
     },
     "metadata": {
      "needs_background": "light"
     },
     "output_type": "display_data"
    }
   ],
   "source": [
    "if manual: node_dist.groupby('route_type').hist(column=mean_dist_col, bins=100)"
   ]
  },
  {
   "cell_type": "code",
   "execution_count": 31,
   "metadata": {},
   "outputs": [],
   "source": [
    "# Save the population centroids\n",
    "node_dist.to_csv('../input/spatial_census_refined.csv')"
   ]
  }
 ],
 "metadata": {
  "kernelspec": {
   "display_name": "Python 3 (ipykernel)",
   "language": "python",
   "name": "python3"
  },
  "language_info": {
   "codemirror_mode": {
    "name": "ipython",
    "version": 3
   },
   "file_extension": ".py",
   "mimetype": "text/x-python",
   "name": "python",
   "nbconvert_exporter": "python",
   "pygments_lexer": "ipython3",
   "version": "3.8.13"
  }
 },
 "nbformat": 4,
 "nbformat_minor": 4
}
