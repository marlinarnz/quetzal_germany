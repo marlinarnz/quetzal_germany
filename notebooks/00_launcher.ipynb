{
 "cells": [
  {
   "cell_type": "code",
   "execution_count": null,
   "metadata": {},
   "outputs": [],
   "source": [
    "import os\n",
    "import sys\n",
    "from quetzal.os.parallel_call import parallel_call_notebook, parallel_call_notebooks"
   ]
  },
  {
   "cell_type": "code",
   "execution_count": null,
   "metadata": {},
   "outputs": [],
   "source": [
    "if not os.path.exists('log/'):\n",
    "    os.makedirs('log/')"
   ]
  },
  {
   "cell_type": "markdown",
   "metadata": {},
   "source": [
    "# Launcher\n",
    "\n",
    "This notebook automatically launches all operations for a complete model run. Network preparation steps (`prep1X` and `prep2X`) are not covered here, as they take several hours and are not needed for simulation of scenarios that do not alter transport networks.\n",
    "\n",
    "Detailed explainations of certain steps can be found in the corresponding notebook. All ASSUMPTIONS are gathered in the `input/parameters.xls` file. This file also includes scenarios as columns, which can be run by putting them in the `scenarios` list below."
   ]
  },
  {
   "cell_type": "code",
   "execution_count": null,
   "metadata": {},
   "outputs": [],
   "source": [
    "kwargs = {'workers':4, 'errout_suffix':True, 'sleep':1,'stdout_path':r'log/out.txt', 'stderr_path':r'log/err.txt'}"
   ]
  },
  {
   "cell_type": "code",
   "execution_count": null,
   "metadata": {},
   "outputs": [],
   "source": [
    "scenarios = ['base'] #['Avoid', 'Shift']"
   ]
  },
  {
   "cell_type": "markdown",
   "metadata": {},
   "source": [
    "# Socio-demographics\n",
    "\n",
    "First step in every scenario"
   ]
  },
  {
   "cell_type": "code",
   "execution_count": null,
   "metadata": {},
   "outputs": [],
   "source": [
    "# Must be ran for every scenario to apply socio-demographic developments\n",
    "parallel_call_notebook('prep10_zones_disagg.ipynb', arg_list=scenarios, **kwargs)"
   ]
  },
  {
   "cell_type": "code",
   "execution_count": null,
   "metadata": {},
   "outputs": [],
   "source": [
    "# OPTIONAL: Only if the car ownership module is installed\n",
    "#parallel_call_notebook('../car_ownership/carownership_module_for_quetzal_germany.ipynb', arg_list=scenarios, **kwargs)"
   ]
  },
  {
   "cell_type": "markdown",
   "metadata": {},
   "source": [
    "# Pathfinders and level of service\n",
    "\n",
    "Create the shortest-paths-stack with network performance attributes for all modes based on shortest paths.\n",
    "\n",
    "If scenario assumptions in `parameters.xls` are changed, the corresponding notebook should be ran (e.g. `prep31_prices_car` in case of petrol price changes).\n",
    "\n",
    "Note: All upcoming steps should be run on the same computer, as intermediate model files are pickled and Python's pickle protocols are not stable across different versions."
   ]
  },
  {
   "cell_type": "code",
   "execution_count": null,
   "metadata": {},
   "outputs": [],
   "source": [
    "# Road\n",
    "parallel_call_notebook('prep30_pathfinder_road.ipynb', arg_list=scenarios, **kwargs)\n",
    "parallel_call_notebook('prep31_prices_car.ipynb', arg_list=scenarios, **kwargs)"
   ]
  },
  {
   "cell_type": "code",
   "execution_count": null,
   "metadata": {},
   "outputs": [],
   "source": [
    "# PT\n",
    "parallel_call_notebook('prep30_pathfinder_pt.ipynb', arg_list=scenarios, **kwargs)\n",
    "parallel_call_notebook('prep31_prices_pt.ipynb', arg_list=scenarios, **kwargs)\n",
    "parallel_call_notebook('prep33_non-motor.ipynb', arg_list=scenarios, **kwargs)\n",
    "# terminates with error from 'assert manual' if there is a saved versions of footpaths\n",
    "# so that it doesn't have to compute them again"
   ]
  },
  {
   "cell_type": "markdown",
   "metadata": {},
   "source": [
    "# 4-step modelling\n",
    "\n",
    "Run these steps in order. Mode choice generates the composite cost, which is an input for generation and distribution. The last step, assignment, also computes total pkm, when inner-zonal traffic is generated before."
   ]
  },
  {
   "cell_type": "code",
   "execution_count": null,
   "metadata": {},
   "outputs": [],
   "source": [
    "# Mode choice probabilities and composite cost\n",
    "parallel_call_notebook('model_mode.ipynb', arg_list=scenarios, **kwargs)"
   ]
  },
  {
   "cell_type": "code",
   "execution_count": null,
   "metadata": {},
   "outputs": [],
   "source": [
    "# Trip generation\n",
    "#parallel_call_notebook('model_generation_exo.ipynb', arg_list=scenarios, **kwargs) # fixed probabilities from MiD2017\n",
    "parallel_call_notebook('model_generation_endo.ipynb', arg_list=scenarios, **kwargs) # Logit model calibrated with MiD2017"
   ]
  },
  {
   "cell_type": "code",
   "execution_count": null,
   "metadata": {},
   "outputs": [],
   "source": [
    "# Generation of the OD matrix\n",
    "# Calculates compulsory trips with doubly constrained method\n",
    "parallel_call_notebook('model_volumes_distribution.ipynb', arg_list=scenarios, **kwargs)\n",
    "# Simulates choice models based on zone and network attributes\n",
    "parallel_call_notebook('model_volumes_endo.ipynb', arg_list=scenarios, **kwargs)"
   ]
  },
  {
   "cell_type": "code",
   "execution_count": null,
   "metadata": {},
   "outputs": [],
   "source": [
    "# Generation of inner-zonal volumes, pkm, prices, and times\n",
    "parallel_call_notebook('model_inner-zonal.ipynb', arg_list=scenarios, **kwargs)"
   ]
  },
  {
   "cell_type": "code",
   "execution_count": null,
   "metadata": {},
   "outputs": [],
   "source": [
    "# Assignment and output plots\n",
    "parallel_call_notebook('model_assignment.ipynb', arg_list=scenarios, **kwargs)"
   ]
  },
  {
   "cell_type": "markdown",
   "metadata": {},
   "source": [
    "# Equilibration\n",
    "\n",
    "Demand-supply equilibration happens iteratively for road traffic. It can be used to refine results after running the assignment step once. If so, a new model folder `<scenario name>_equilibrium` is created from which the modelling steps take their road LoS table and save the equilibrated results.\n",
    "\n",
    "**NOTE: Currently inactive due to missing link capacity data.**"
   ]
  },
  {
   "cell_type": "code",
   "execution_count": null,
   "metadata": {},
   "outputs": [],
   "source": [
    "# Run the equilibrium road pathfinder to create the new LoS table\n",
    "parallel_call_notebook('model_assignment_equilibrium.ipynb', arg_list=scenarios, **kwargs)\n",
    "parallel_call_notebook('prep31_prices_car.ipynb', arg_list=scenarios, **kwargs)\n",
    "# Rename the scenarios\n",
    "scenarios = [str(s)+'_equilibrium' for s in scenarios]"
   ]
  },
  {
   "cell_type": "code",
   "execution_count": null,
   "metadata": {},
   "outputs": [],
   "source": [
    "# Demand model\n",
    "parallel_call_notebook('model_mode.ipynb', arg_list=scenarios, **kwargs)\n",
    "parallel_call_notebook('model_generation_endo.ipynb', arg_list=scenarios, **kwargs)\n",
    "parallel_call_notebook('model_destination.ipynb', arg_list=scenarios, **kwargs)\n",
    "parallel_call_notebook('model_volumes_endo.ipynb', arg_list=scenarios, **kwargs)\n",
    "# Supply model\n",
    "parallel_call_notebook('model_assignment.ipynb', arg_list=scenarios, **kwargs)"
   ]
  }
 ],
 "metadata": {
  "kernelspec": {
   "display_name": "Python 3 (ipykernel)",
   "language": "python",
   "name": "python3"
  },
  "language_info": {
   "codemirror_mode": {
    "name": "ipython",
    "version": 3
   },
   "file_extension": ".py",
   "mimetype": "text/x-python",
   "name": "python",
   "nbconvert_exporter": "python",
   "pygments_lexer": "ipython3",
   "version": "3.10.14"
  }
 },
 "nbformat": 4,
 "nbformat_minor": 4
}
