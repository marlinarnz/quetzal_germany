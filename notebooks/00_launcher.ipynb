{
 "cells": [
  {
   "cell_type": "code",
   "execution_count": 1,
   "metadata": {},
   "outputs": [],
   "source": [
    "import os\n",
    "import sys\n",
    "from quetzal.os.parallel_call import parallel_call_notebook, parallel_call_notebooks"
   ]
  },
  {
   "cell_type": "code",
   "execution_count": 2,
   "metadata": {},
   "outputs": [],
   "source": [
    "if not os.path.exists('log/'):\n",
    "    os.makedirs('log/')"
   ]
  },
  {
   "cell_type": "markdown",
   "metadata": {},
   "source": [
    "# Launcher\n",
    "\n",
    "This notebook automatically launches all operations for a complete model run. One can decide to skip network preparation steps, as they take multiple hours for the region of Germany and the networks are readily included in the repository.\n",
    "\n",
    "Detailed explainations of certain steps can be found in the corresponding notebook. All ASSUMPTIONS are gathered in the `parameters.xls` file. This file also includes scenarios."
   ]
  },
  {
   "cell_type": "code",
   "execution_count": 3,
   "metadata": {},
   "outputs": [],
   "source": [
    "kwargs = {'workers':4, 'errout_suffix':True, 'sleep':1,'stdout_path':r'log/out.txt', 'stderr_path':r'log/err.txt'}"
   ]
  },
  {
   "cell_type": "code",
   "execution_count": 4,
   "metadata": {},
   "outputs": [],
   "source": [
    "scenarios = ['base'] #['base', 'CO2-tax_210', 'road_charge', 'diesel_tax_privilege_cancellation']"
   ]
  },
  {
   "cell_type": "code",
   "execution_count": 5,
   "metadata": {},
   "outputs": [],
   "source": [
    "import time\n",
    "start = time.time()"
   ]
  },
  {
   "cell_type": "markdown",
   "metadata": {},
   "source": [
    "# Network preparation\n",
    "\n",
    "Execute all `prep1` and `prep2` steps."
   ]
  },
  {
   "cell_type": "code",
   "execution_count": 7,
   "metadata": {},
   "outputs": [
    {
     "name": "stdout",
     "output_type": "stream",
     "text": [
      "0 prep12_rail_coach.py base\n",
      "1 prep14_bus.py base\n",
      "subprocess **prep14_bus.py1 base** terminated with an error.\n",
      "1763 seconds\n",
      "0 prep13_air.py base\n",
      "28 seconds\n"
     ]
    }
   ],
   "source": [
    "# Network generation\n",
    "parallel_call_notebook('prep10_zones.ipynb', arg_list=scenarios, **kwargs)\n",
    "parallel_call_notebooks(\n",
    "    ('prep11_road.ipynb', scenarios),\n",
    "    ('prep12_rail_coach.ipynb', scenarios),\n",
    "    ('prep14_bus.ipynb', scenarios),\n",
    "    **kwargs)\n",
    "parallel_call_notebook('prep13_air.ipynb', arg_list=scenarios, **kwargs)"
   ]
  },
  {
   "cell_type": "code",
   "execution_count": 8,
   "metadata": {},
   "outputs": [
    {
     "name": "stdout",
     "output_type": "stream",
     "text": [
      "0 prep15_census_distances.py base\n",
      "7805 seconds\n"
     ]
    }
   ],
   "source": [
    "# Access/egress distances to PT services based on networks and census data\n",
    "parallel_call_notebook('prep15_census_distances.ipynb', arg_list=scenarios, **kwargs)"
   ]
  },
  {
   "cell_type": "code",
   "execution_count": 9,
   "metadata": {},
   "outputs": [
    {
     "name": "stdout",
     "output_type": "stream",
     "text": [
      "0 prep20_cluster.py base\n",
      "3099 seconds\n",
      "0 prep21_aggregate_pt.py base\n",
      "1220 seconds\n",
      "0 prep22_access_egress_road.py base\n",
      "98 seconds\n"
     ]
    }
   ],
   "source": [
    "# Network aggregation\n",
    "# First cluster stops, then aggregate trips\n",
    "parallel_call_notebook('prep20_cluster.ipynb', arg_list=scenarios, **kwargs)\n",
    "parallel_call_notebook('prep21_aggregate_pt.ipynb', arg_list=scenarios, **kwargs)\n",
    "parallel_call_notebook('prep22_access_egress_road.ipynb', arg_list=scenarios, **kwargs)"
   ]
  },
  {
   "cell_type": "markdown",
   "metadata": {},
   "source": [
    "# Pathfinders and level of service"
   ]
  },
  {
   "cell_type": "code",
   "execution_count": 15,
   "metadata": {},
   "outputs": [
    {
     "name": "stdout",
     "output_type": "stream",
     "text": [
      "0 prep30_pathfinder_road.py base\n",
      "294 seconds\n"
     ]
    }
   ],
   "source": [
    "# Road\n",
    "parallel_call_notebook('prep30_pathfinder_road.ipynb', arg_list=scenarios, **kwargs)"
   ]
  },
  {
   "cell_type": "code",
   "execution_count": 5,
   "metadata": {},
   "outputs": [
    {
     "name": "stdout",
     "output_type": "stream",
     "text": [
      "0 prep30_pathfinder_pt.py base\n",
      "3528 seconds\n",
      "0 prep31_prices_pt.py base\n",
      "77 seconds\n",
      "0 prep33_non-motor.py base\n",
      "subprocess **prep33_non-motor.py0 base** terminated with an error.\n",
      "26 seconds\n"
     ]
    }
   ],
   "source": [
    "# PT\n",
    "parallel_call_notebook('prep30_pathfinder_pt.ipynb', arg_list=scenarios, **kwargs)\n",
    "parallel_call_notebook('prep31_prices_pt.ipynb', arg_list=scenarios, **kwargs)\n",
    "parallel_call_notebook('prep33_non-motor.ipynb', arg_list=scenarios, **kwargs)"
   ]
  },
  {
   "cell_type": "markdown",
   "metadata": {},
   "source": [
    "# Estimation"
   ]
  },
  {
   "cell_type": "code",
   "execution_count": 7,
   "metadata": {},
   "outputs": [
    {
     "name": "stdout",
     "output_type": "stream",
     "text": [
      "0 cal10_input_data.py base\n",
      "subprocess **cal10_input_data.py0 base** terminated with an error.\n",
      "20 seconds\n"
     ]
    }
   ],
   "source": [
    "# Calibration data preparation\n",
    "# NOTE: only applicapble if you have access to the calibration dataset\n",
    "parallel_call_notebook('cal10_input_data.ipynb', arg_list=scenarios, **kwargs) # terminates with error: assert manual\n",
    "parallel_call_notebook('cal1x_validation_data.ipynb', arg_list=scenarios, **kwargs)\n",
    "parallel_call_notebook('cal11_los_columns.ipynb', arg_list=scenarios, **kwargs)\n",
    "#parallel_call_notebook('cal19_vot.ipynb', arg_list=scenarios, **kwargs)"
   ]
  },
  {
   "cell_type": "code",
   "execution_count": 12,
   "metadata": {},
   "outputs": [
    {
     "name": "stdout",
     "output_type": "stream",
     "text": [
      "0 cal20_estimation.py base\n",
      "287 seconds\n"
     ]
    }
   ],
   "source": [
    "# Estimation\n",
    "parallel_call_notebook('cal20_estimation.ipynb', arg_list=scenarios, **kwargs)"
   ]
  },
  {
   "cell_type": "markdown",
   "metadata": {},
   "source": [
    "# Modelling\n",
    "\n",
    "Except for the logit model step, all modelling steps require access to the OD volumes dataset."
   ]
  },
  {
   "cell_type": "code",
   "execution_count": null,
   "metadata": {},
   "outputs": [],
   "source": [
    "# Generation of the OD matrix\n",
    "parallel_call_notebook('model_volumes.ipynb', arg_list=scenarios, **kwargs)"
   ]
  },
  {
   "cell_type": "code",
   "execution_count": 6,
   "metadata": {},
   "outputs": [
    {
     "name": "stdout",
     "output_type": "stream",
     "text": [
      "0 model_logit.py base\n",
      "557 seconds\n"
     ]
    }
   ],
   "source": [
    "# Mode choice probabilities\n",
    "parallel_call_notebook('model_logit.ipynb', arg_list=scenarios, **kwargs)"
   ]
  },
  {
   "cell_type": "code",
   "execution_count": 7,
   "metadata": {},
   "outputs": [
    {
     "name": "stdout",
     "output_type": "stream",
     "text": [
      "0 model_assignment.py base\n",
      "1496 seconds\n"
     ]
    }
   ],
   "source": [
    "# Assignment\n",
    "parallel_call_notebook('model_assignment.ipynb', arg_list=scenarios, **kwargs)\n",
    "#parallel_call_notebook('model_assignment_inner-zonal.ipynb', arg_list=scenarios, **kwargs)"
   ]
  },
  {
   "cell_type": "code",
   "execution_count": 8,
   "metadata": {},
   "outputs": [
    {
     "name": "stdout",
     "output_type": "stream",
     "text": [
      "0 model_emissions.py base\n",
      "474 seconds\n"
     ]
    }
   ],
   "source": [
    "# Post-processing\n",
    "parallel_call_notebook('model_emissions.ipynb', arg_list=scenarios, **kwargs)"
   ]
  },
  {
   "cell_type": "code",
   "execution_count": 9,
   "metadata": {
    "scrolled": true
   },
   "outputs": [
    {
     "data": {
      "text/plain": [
       "2539"
      ]
     },
     "execution_count": 9,
     "metadata": {},
     "output_type": "execute_result"
    }
   ],
   "source": [
    "# Total execution time\n",
    "int(time.time() - start)"
   ]
  }
 ],
 "metadata": {
  "kernelspec": {
   "display_name": "Python 3",
   "language": "python",
   "name": "python3"
  },
  "language_info": {
   "codemirror_mode": {
    "name": "ipython",
    "version": 3
   },
   "file_extension": ".py",
   "mimetype": "text/x-python",
   "name": "python",
   "nbconvert_exporter": "python",
   "pygments_lexer": "ipython3",
   "version": "3.8.1"
  }
 },
 "nbformat": 4,
 "nbformat_minor": 2
}
