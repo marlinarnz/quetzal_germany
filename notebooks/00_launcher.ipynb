{
 "cells": [
  {
   "cell_type": "code",
   "execution_count": null,
   "metadata": {},
   "outputs": [],
   "source": [
    "import os\n",
    "import sys\n",
    "from quetzal.os.parallel_call import parallel_call_notebook, parallel_call_notebooks"
   ]
  },
  {
   "cell_type": "code",
   "execution_count": null,
   "metadata": {},
   "outputs": [],
   "source": [
    "if not os.path.exists('log/'):\n",
    "    os.makedirs('log/')"
   ]
  },
  {
   "cell_type": "markdown",
   "metadata": {},
   "source": [
    "# Launcher\n",
    "\n",
    "This notebook automatically launches all operations for a complete model run. One can decide to skip network preparation steps (`prep1X` and `prep2X`), as they take multiple hours for the region of Germany and the networks are readily included in the repository.\n",
    "\n",
    "Detailed explainations of certain steps can be found in the corresponding notebook. All ASSUMPTIONS are gathered in the `input/parameters.xls` file. This file also includes scenarios as columns, which can be run by putting them in the `scenarios` list below."
   ]
  },
  {
   "cell_type": "code",
   "execution_count": null,
   "metadata": {},
   "outputs": [],
   "source": [
    "kwargs = {'workers':4, 'errout_suffix':True, 'sleep':1,'stdout_path':r'log/out.txt', 'stderr_path':r'log/err.txt'}"
   ]
  },
  {
   "cell_type": "code",
   "execution_count": null,
   "metadata": {},
   "outputs": [],
   "source": [
    "scenarios = ['base'] #['Avoid', 'Shift']"
   ]
  },
  {
   "cell_type": "code",
   "execution_count": null,
   "metadata": {},
   "outputs": [],
   "source": [
    "import time\n",
    "start = time.time()"
   ]
  },
  {
   "cell_type": "code",
   "execution_count": null,
   "metadata": {},
   "outputs": [],
   "source": [
    "# Should be ran for every scenario to apply socio-demographic developments\n",
    "parallel_call_notebook('prep10_zones_disagg.ipynb', arg_list=scenarios, **kwargs)"
   ]
  },
  {
   "cell_type": "markdown",
   "metadata": {},
   "source": [
    "# Network preparation\n",
    "\n",
    "NOT required for the fist model run (except `prep10`, if you want to update the population or other socio-demographic parameters).\n",
    "\n",
    "Execute all `prep1` and `prep2` steps. Only neccessary if new network data or assumptions are applied."
   ]
  },
  {
   "cell_type": "code",
   "execution_count": null,
   "metadata": {},
   "outputs": [],
   "source": [
    "# Network generation\n",
    "# All output files are already included in input_static\n",
    "parallel_call_notebooks(\n",
    "    ('prep11_road.ipynb', scenarios),\n",
    "    ('prep12_rail_coach.ipynb', scenarios),\n",
    "    ('prep14_bus.ipynb', scenarios),\n",
    "    **kwargs)\n",
    "parallel_call_notebook('prep13_air.ipynb', arg_list=scenarios, **kwargs)"
   ]
  },
  {
   "cell_type": "code",
   "execution_count": null,
   "metadata": {},
   "outputs": [],
   "source": [
    "# Access/egress distances to PT services based on networks and census data\n",
    "parallel_call_notebook('prep15_census_distances.ipynb', arg_list=scenarios, **kwargs)"
   ]
  },
  {
   "cell_type": "code",
   "execution_count": null,
   "metadata": {},
   "outputs": [],
   "source": [
    "# Original network aggregation and interconnection\n",
    "# First cluster stops, then aggregate trips\n",
    "parallel_call_notebook('prep20_cluster.ipynb', arg_list=scenarios, **kwargs)\n",
    "parallel_call_notebook('prep21_aggregate_pt.ipynb', arg_list=scenarios, **kwargs)\n",
    "# Run the aggregation twice in order to reduce bus trips properly\n",
    "parallel_call_notebook('prep21_aggregate_pt.ipynb', arg_list=scenarios, **kwargs)\n",
    "parallel_call_notebook('prep22_access_egress_road.ipynb', arg_list=scenarios, **kwargs)"
   ]
  },
  {
   "cell_type": "markdown",
   "metadata": {},
   "source": [
    "# Modelling on a laptop\n",
    "\n",
    "If only 8GB RAM is available, you can choose between two options to reduce the model size (1 is recommended):\n",
    "1. If the level of detail should be retained and there is no need to spatial explicitly map energy demands, you can randomly sample the set of origin-destination pairs (i.e. sparsification).\n",
    "2. Otherwise, the zoning system must be reduced to 401 NUTS3-level zones. This drastically decreases level of detail for short-distance trips, which account for the majority of total trips, but it allows calculation of spatially comprehensive energy demands or emissions."
   ]
  },
  {
   "cell_type": "markdown",
   "metadata": {},
   "source": [
    "## Option 1: Sparsify the OD set for a faster, smaller model\n",
    "\n",
    "Computation of all OD pairs is not required for accurate aggregate results (pkm, choice probabilities, etc.). Hence, the OD set can be sparsified before the pathfinders are executed. The sample size is defined in the general attributes of the `parameters.xls` file. Leave the field empty for no sampling.\n",
    "\n",
    "IMPORTANT: The `prep30` notebooks search for the `model/de_volumes` file of the `parent` scenario, as defined in the `parameters.xls`, to sparsify the OD set. This ensures that all scenarios, whose results are compared, share the same OD set.\n",
    "\n",
    "For the very first model run, you thus have to run the following notebooks for the parent scenario (usually `base`) to generate the reference OD set once. Afterwards, you don't have to sparsify again for your derived scenarios. Just run the notebooks for every new scenario from `prep30` onwards, which will rely on the OD set saved in `model/de_volumes` of the parent scenario.\n",
    "\n",
    "NOTE: For your first run, you must download the `mode_choice_od_composite_cost.csv` file to your `/output/base/` folder from the latest release of quetzal_germany on github."
   ]
  },
  {
   "cell_type": "code",
   "execution_count": null,
   "metadata": {},
   "outputs": [],
   "source": [
    "# Specify your parent scenario's name:\n",
    "parent = 'base'\n",
    "# Calculation of the OD matrix\n",
    "parallel_call_notebook('model_destination.ipynb', arg_list=[parent], **kwargs)\n",
    "parallel_call_notebook('model_volumes_endo.ipynb', arg_list=[parent], **kwargs)"
   ]
  },
  {
   "cell_type": "markdown",
   "metadata": {},
   "source": [
    "## Option 2: Apply the reduced zoning system\n",
    "\n",
    "Switch to NUTS-level zones and reduce granularity of results."
   ]
  },
  {
   "cell_type": "code",
   "execution_count": null,
   "metadata": {},
   "outputs": [],
   "source": [
    "parallel_call_notebook('prep10_zones.ipynb', arg_list=scenarios, **kwargs)\n",
    "# Networks are already computed\n",
    "# Access/egress distances to PT services based on networks and census data (runs longer)\n",
    "parallel_call_notebook('prep15_census_distances.ipynb', arg_list=scenarios, **kwargs)\n",
    "# Network aggregation and inter-connection\n",
    "# First cluster stops, then aggregate trips\n",
    "parallel_call_notebook('prep20_cluster.ipynb', arg_list=scenarios, **kwargs)\n",
    "parallel_call_notebook('prep21_aggregate_pt.ipynb', arg_list=scenarios, **kwargs)\n",
    "parallel_call_notebook('prep22_access_egress_road.ipynb', arg_list=scenarios, **kwargs)"
   ]
  },
  {
   "cell_type": "markdown",
   "metadata": {},
   "source": [
    "# Pathfinders and level of service\n",
    "\n",
    "Required for the first model run. See above, if you need to sparsify the OD set (i.e. if you don't have 200GB of RAM).\n",
    "\n",
    "If assumptions in `parameters.xls` are changed, the corresponding `prep3X` notebooks should be ran.\n",
    "\n",
    "Note: All upcoming steps should be run on the same computer, as intermediate model files are pickled and Python's pickle protocols are not stable across different versions."
   ]
  },
  {
   "cell_type": "code",
   "execution_count": null,
   "metadata": {},
   "outputs": [],
   "source": [
    "# Road\n",
    "parallel_call_notebook('prep30_pathfinder_road.ipynb', arg_list=scenarios, **kwargs)\n",
    "parallel_call_notebook('prep31_prices_car.ipynb', arg_list=scenarios, **kwargs)"
   ]
  },
  {
   "cell_type": "code",
   "execution_count": null,
   "metadata": {},
   "outputs": [],
   "source": [
    "# PT\n",
    "parallel_call_notebook('prep30_pathfinder_pt.ipynb', arg_list=scenarios, **kwargs)\n",
    "parallel_call_notebook('prep31_prices_pt.ipynb', arg_list=scenarios, **kwargs)\n",
    "parallel_call_notebook('prep33_non-motor.ipynb', arg_list=scenarios, **kwargs)\n",
    "# terminates with error from 'assert manual' if there is a saved versions of footpaths\n",
    "# so that it doesn't have to compute them again"
   ]
  },
  {
   "cell_type": "markdown",
   "metadata": {},
   "source": [
    "# 4-step modelling\n",
    "\n",
    "Run these steps in order. Mode choice generates the composite cost, which is an input for generation and distribution. The last step, assignment, also computes total pkm, when inner-zonal traffic is generated before."
   ]
  },
  {
   "cell_type": "code",
   "execution_count": null,
   "metadata": {},
   "outputs": [],
   "source": [
    "# Mode choice probabilities and composite cost\n",
    "parallel_call_notebook('model_mode.ipynb', arg_list=scenarios, **kwargs)"
   ]
  },
  {
   "cell_type": "code",
   "execution_count": null,
   "metadata": {},
   "outputs": [],
   "source": [
    "# Generation\n",
    "# Doesn't need to be run for the base scenario, as generation volumes\n",
    "# are already saved in the model folder\n",
    "#parallel_call_notebook('model_generation_exo.ipynb', arg_list=scenarios, **kwargs) # fixed probabilities from MiD2017\n",
    "parallel_call_notebook('model_generation_endo.ipynb', arg_list=scenarios, **kwargs) # MNL model based on MiD2017"
   ]
  },
  {
   "cell_type": "code",
   "execution_count": null,
   "metadata": {},
   "outputs": [],
   "source": [
    "# Destination choice probabilities\n",
    "parallel_call_notebook('model_destination.ipynb', arg_list=scenarios, **kwargs)"
   ]
  },
  {
   "cell_type": "code",
   "execution_count": null,
   "metadata": {},
   "outputs": [],
   "source": [
    "# Generation of the OD matrix\n",
    "# Puts it all together and calculates compulsory trips with doubly constrained method\n",
    "parallel_call_notebook('model_volumes_endo.ipynb', arg_list=scenarios, **kwargs)\n",
    "# Alternatively, use volumes from VP2030\n",
    "# Then, you have to change \"volumes_file\" parameter in model_assignment manually to \"de_volumes_exo\"\n",
    "#parallel_call_notebook('model_volumes_exo.ipynb', arg_list=scenarios, **kwargs)"
   ]
  },
  {
   "cell_type": "code",
   "execution_count": null,
   "metadata": {},
   "outputs": [],
   "source": [
    "# Generation of inner-zonal volumes, pkm, prices, and times\n",
    "parallel_call_notebook('model_inner-zonal.ipynb', arg_list=scenarios, **kwargs)"
   ]
  },
  {
   "cell_type": "code",
   "execution_count": null,
   "metadata": {},
   "outputs": [],
   "source": [
    "# Assignment\n",
    "parallel_call_notebook('model_assignment.ipynb', arg_list=scenarios, **kwargs)"
   ]
  },
  {
   "cell_type": "markdown",
   "metadata": {},
   "source": [
    "# Equilibration\n",
    "\n",
    "Demand-supply equilibration happens iteratively for road traffic. It can be used to refine results after running the assignment step once. If so, a new model folder `<scenario name>_equilibrium` is created from which the modelling steps take their road LoS table and save the equilibrated results.\n",
    "\n",
    "NOTE: Currently inactive due to missing link capacity data."
   ]
  },
  {
   "cell_type": "code",
   "execution_count": null,
   "metadata": {},
   "outputs": [],
   "source": [
    "# Run the equilibrium road pathfinder to create the new LoS table\n",
    "parallel_call_notebook('model_assignment_equilibrium.ipynb', arg_list=scenarios, **kwargs)\n",
    "parallel_call_notebook('prep31_prices_car.ipynb', arg_list=scenarios, **kwargs)\n",
    "# Rename the scenarios\n",
    "scenarios = [str(s)+'_equilibrium' for s in scenarios]"
   ]
  },
  {
   "cell_type": "code",
   "execution_count": null,
   "metadata": {},
   "outputs": [],
   "source": [
    "# Demand model\n",
    "parallel_call_notebook('model_mode.ipynb', arg_list=scenarios, **kwargs)\n",
    "parallel_call_notebook('model_generation_endo.ipynb', arg_list=scenarios, **kwargs)\n",
    "parallel_call_notebook('model_destination.ipynb', arg_list=scenarios, **kwargs)\n",
    "parallel_call_notebook('model_volumes_endo.ipynb', arg_list=scenarios, **kwargs)\n",
    "# Supply model\n",
    "parallel_call_notebook('model_assignment.ipynb', arg_list=scenarios, **kwargs)"
   ]
  },
  {
   "cell_type": "markdown",
   "metadata": {},
   "source": [
    "# Post-processing\n",
    "\n",
    "Calculate total transport system indicators such as pkm, energy demand, or GHG emissions.\n",
    "\n",
    "Other validation notebooks have the prefix `val`."
   ]
  },
  {
   "cell_type": "code",
   "execution_count": null,
   "metadata": {},
   "outputs": [],
   "source": [
    "# Calculation of emissions and total pkm\n",
    "parallel_call_notebook('post_emissions.ipynb', arg_list=scenarios, **kwargs)"
   ]
  },
  {
   "cell_type": "code",
   "execution_count": null,
   "metadata": {
    "scrolled": true
   },
   "outputs": [],
   "source": [
    "# Total execution time (minutes)\n",
    "int((time.time() - start) / 60)"
   ]
  }
 ],
 "metadata": {
  "kernelspec": {
   "display_name": "Python 3 (ipykernel)",
   "language": "python",
   "name": "python3"
  },
  "language_info": {
   "codemirror_mode": {
    "name": "ipython",
    "version": 3
   },
   "file_extension": ".py",
   "mimetype": "text/x-python",
   "name": "python",
   "nbconvert_exporter": "python",
   "pygments_lexer": "ipython3",
   "version": "3.8.13"
  }
 },
 "nbformat": 4,
 "nbformat_minor": 2
}
