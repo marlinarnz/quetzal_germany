{
 "cells": [
  {
   "cell_type": "code",
   "execution_count": 1,
   "metadata": {},
   "outputs": [
    {
     "name": "stderr",
     "output_type": "stream",
     "text": [
      "In C:\\Users\\marlin.arnz\\AppData\\Local\\Continuum\\miniconda3\\envs\\quetzal\\lib\\site-packages\\matplotlib\\mpl-data\\stylelib\\_classic_test.mplstyle: \n",
      "The text.latex.preview rcparam was deprecated in Matplotlib 3.3 and will be removed two minor releases later.\n",
      "In C:\\Users\\marlin.arnz\\AppData\\Local\\Continuum\\miniconda3\\envs\\quetzal\\lib\\site-packages\\matplotlib\\mpl-data\\stylelib\\_classic_test.mplstyle: \n",
      "The mathtext.fallback_to_cm rcparam was deprecated in Matplotlib 3.3 and will be removed two minor releases later.\n",
      "In C:\\Users\\marlin.arnz\\AppData\\Local\\Continuum\\miniconda3\\envs\\quetzal\\lib\\site-packages\\matplotlib\\mpl-data\\stylelib\\_classic_test.mplstyle: Support for setting the 'mathtext.fallback_to_cm' rcParam is deprecated since 3.3 and will be removed two minor releases later; use 'mathtext.fallback : 'cm' instead.\n",
      "In C:\\Users\\marlin.arnz\\AppData\\Local\\Continuum\\miniconda3\\envs\\quetzal\\lib\\site-packages\\matplotlib\\mpl-data\\stylelib\\_classic_test.mplstyle: \n",
      "The validate_bool_maybe_none function was deprecated in Matplotlib 3.3 and will be removed two minor releases later.\n",
      "In C:\\Users\\marlin.arnz\\AppData\\Local\\Continuum\\miniconda3\\envs\\quetzal\\lib\\site-packages\\matplotlib\\mpl-data\\stylelib\\_classic_test.mplstyle: \n",
      "The savefig.jpeg_quality rcparam was deprecated in Matplotlib 3.3 and will be removed two minor releases later.\n",
      "In C:\\Users\\marlin.arnz\\AppData\\Local\\Continuum\\miniconda3\\envs\\quetzal\\lib\\site-packages\\matplotlib\\mpl-data\\stylelib\\_classic_test.mplstyle: \n",
      "The keymap.all_axes rcparam was deprecated in Matplotlib 3.3 and will be removed two minor releases later.\n",
      "In C:\\Users\\marlin.arnz\\AppData\\Local\\Continuum\\miniconda3\\envs\\quetzal\\lib\\site-packages\\matplotlib\\mpl-data\\stylelib\\_classic_test.mplstyle: \n",
      "The animation.avconv_path rcparam was deprecated in Matplotlib 3.3 and will be removed two minor releases later.\n",
      "In C:\\Users\\marlin.arnz\\AppData\\Local\\Continuum\\miniconda3\\envs\\quetzal\\lib\\site-packages\\matplotlib\\mpl-data\\stylelib\\_classic_test.mplstyle: \n",
      "The animation.avconv_args rcparam was deprecated in Matplotlib 3.3 and will be removed two minor releases later.\n"
     ]
    }
   ],
   "source": [
    "import pandas as pd\n",
    "import numpy as np\n",
    "from tqdm import tqdm\n",
    "from quetzal.model import stepmodel"
   ]
  },
  {
   "cell_type": "markdown",
   "metadata": {},
   "source": [
    "# Inner-zonal trips\n",
    "## Preperation of calibration data\n",
    "Assignment of inner-zonal trips is not possible in a classic transport model. Trip lengths by mode and purpose must be approximated with MiD2017 data using a logistic regression"
   ]
  },
  {
   "cell_type": "code",
   "execution_count": 2,
   "metadata": {},
   "outputs": [],
   "source": [
    "input_path = '../input_static/'\n",
    "output_path = '../output/'\n",
    "model_path = '../model/'"
   ]
  },
  {
   "cell_type": "markdown",
   "metadata": {},
   "source": [
    "Inner-cellular mode choice will be dependent on cell-specific network data as well as trip-specific and socio-economic data. All categories must be available in the calibration data set as well as in the model.\n",
    "* Accessibility by mode in this cell (weighted average, see prep3X)\n",
    "* Population density (population by km²)\n",
    "* Road network coverage (length by km²) -- not implemented\n",
    "* Economic status of household or cell (GDP)\n",
    "* Car ownership in this cell\n",
    "* Employed persons in this cell"
   ]
  },
  {
   "cell_type": "markdown",
   "metadata": {},
   "source": [
    "## Load trips table from MiD and filter"
   ]
  },
  {
   "cell_type": "code",
   "execution_count": 18,
   "metadata": {},
   "outputs": [
    {
     "name": "stdout",
     "output_type": "stream",
     "text": [
      "(960619, 14)\n"
     ]
    }
   ],
   "source": [
    "trips = pd.read_csv('../input/transport_demand/MiD2017_Regional_Wege.csv', sep=';')\n",
    "trips = trips[['KKZ_SO', 'KKZ_ZO', 'wegkm_imp', 'km_routing_gr','wegmin_imp1',\n",
    "               'hwzweck1', 'hvm_diff2', 'auto', 'W_SO2', 'sieddichte', # alternatively ewqkm\n",
    "               'bahn28', 'bus28', 'bahn28_zo', 'bus28_zo']]\n",
    "trips.columns = ['origin', 'destination', 'distance', 'distance_routed', 'duration',\n",
    "                 'purpose', 'mode', 'car_avail', 'W_SO2', 'pop_density',\n",
    "                 'dist_train_origin', 'dist_bus_origin', 'dist_train_destination', 'dist_bus_destination']\n",
    "trips['distance'] = pd.to_numeric(trips['distance'].str.replace(',', '.'))\n",
    "print(trips.shape)"
   ]
  },
  {
   "cell_type": "code",
   "execution_count": 19,
   "metadata": {},
   "outputs": [
    {
     "name": "stdout",
     "output_type": "stream",
     "text": [
      "(959778, 14)\n"
     ]
    }
   ],
   "source": [
    "# Filter for inner-German trips\n",
    "trips = trips.loc[(trips['W_SO2']!=2) & (trips['W_SO2']!=3)]\n",
    "print(trips.shape)"
   ]
  },
  {
   "cell_type": "code",
   "execution_count": 21,
   "metadata": {},
   "outputs": [
    {
     "name": "stdout",
     "output_type": "stream",
     "text": [
      "(899571, 14)\n"
     ]
    }
   ],
   "source": [
    "# Filter unspecified rows\n",
    "trips = trips.loc[(trips['purpose']!=99) &\n",
    "                  (trips['mode']<24)]\n",
    "print(trips.shape)"
   ]
  },
  {
   "cell_type": "code",
   "execution_count": 24,
   "metadata": {},
   "outputs": [
    {
     "data": {
      "text/plain": [
       "<AxesSubplot:title={'center':'Trip distance distribution, logarithmic'}, ylabel='Frequency'>"
      ]
     },
     "execution_count": 24,
     "metadata": {},
     "output_type": "execute_result"
    },
    {
     "data": {
      "image/png": "[encoded data removed]",
      "text/plain": [
       "<Figure size 432x288 with 1 Axes>"
      ]
     },
     "metadata": {
      "needs_background": "light"
     },
     "output_type": "display_data"
    }
   ],
   "source": [
    "# Trip distance\n",
    "trips['distance'].plot.hist(bins=100, log=True, title='Trip distance distribution, logarithmic')"
   ]
  },
  {
   "cell_type": "code",
   "execution_count": 20,
   "metadata": {},
   "outputs": [
    {
     "data": {
      "text/plain": [
       "(191757, 14)"
      ]
     },
     "execution_count": 20,
     "metadata": {},
     "output_type": "execute_result"
    }
   ],
   "source": [
    "trips.loc[trips['distance']<=1].shape"
   ]
  },
  {
   "cell_type": "code",
   "execution_count": 25,
   "metadata": {},
   "outputs": [
    {
     "name": "stdout",
     "output_type": "stream",
     "text": [
      "(845530, 14)\n"
     ]
    }
   ],
   "source": [
    "# Filter for short-distance traffic\n",
    "trips = trips.loc[~trips['distance_routed'].isin([8,9])]\n",
    "trips = trips.loc[trips['distance']<=50]\n",
    "print(trips.shape)"
   ]
  },
  {
   "cell_type": "code",
   "execution_count": 26,
   "metadata": {},
   "outputs": [
    {
     "data": {
      "text/plain": [
       "<AxesSubplot:title={'center':'Trip distance distribution, logarithmic'}, ylabel='Frequency'>"
      ]
     },
     "execution_count": 26,
     "metadata": {},
     "output_type": "execute_result"
    },
    {
     "data": {
      "image/png": "[encoded data removed]",
      "text/plain": [
       "<Figure size 432x288 with 1 Axes>"
      ]
     },
     "metadata": {
      "needs_background": "light"
     },
     "output_type": "display_data"
    }
   ],
   "source": [
    "# Trip distance\n",
    "trips['distance'].plot.hist(bins=100, log=True, title='Trip distance distribution, logarithmic')"
   ]
  },
  {
   "cell_type": "code",
   "execution_count": 27,
   "metadata": {},
   "outputs": [
    {
     "data": {
      "text/plain": [
       "<AxesSubplot:ylabel='Frequency'>"
      ]
     },
     "execution_count": 27,
     "metadata": {},
     "output_type": "execute_result"
    },
    {
     "data": {
      "image/png": "[encoded data removed]",
      "text/plain": [
       "<Figure size 432x288 with 1 Axes>"
      ]
     },
     "metadata": {
      "needs_background": "light"
     },
     "output_type": "display_data"
    }
   ],
   "source": [
    "# Compare to trip distance of inner-cell trips\n",
    "# It should look roughly the same as above with lower total numbers though\n",
    "trips.loc[(trips['origin']==trips['destination']) &\n",
    "          (trips['origin']<9999) &\n",
    "          (trips['destination']<9999), 'distance'].plot.hist(bins=100, log=True)"
   ]
  },
  {
   "cell_type": "code",
   "execution_count": 28,
   "metadata": {},
   "outputs": [
    {
     "name": "stdout",
     "output_type": "stream",
     "text": [
      "(845002, 14)\n"
     ]
    }
   ],
   "source": [
    "# Remove ferries\n",
    "trips = trips.loc[trips['mode']!=19]\n",
    "print(trips.shape)"
   ]
  },
  {
   "cell_type": "code",
   "execution_count": 29,
   "metadata": {},
   "outputs": [],
   "source": [
    "# Match mode with the model modes\n",
    "# Non-motorised modes are merged\n",
    "# See cal10\n",
    "model_modes = {1: 'rail_short', 2: 'rail_long',\n",
    "               3: 'coach', 4: 'bus', 5: 'air', 6: 'car', 7: 'walk'}\n",
    "mode_mid_vp_dict = {1:7, 2:7, 3:7, 4:6, 5:6, 6:6, 7:6, 8:6,\n",
    "                    9:6, 10:6, 11:6, 12:4, 13:4, 14:4, 15:4,\n",
    "                    16:1, 17:6, 18:6, 19:6, 20:2, 21:3, 22:3,\n",
    "                    23:5, 24:7}\n",
    "trips['mode_model'] = trips['mode'].map(mode_mid_vp_dict)"
   ]
  },
  {
   "cell_type": "code",
   "execution_count": 30,
   "metadata": {},
   "outputs": [],
   "source": [
    "# Match trip purpose with VP2030 categories\n",
    "# Note: Holiday trips are included in private (6)\n",
    "# see cal10\n",
    "purpose_mid_vp_dict = {1: 1, 2: 4, 3: 2, 4: 3, 5: 3, 6: 6, 7: 6, 99: 6}\n",
    "trips['purpose_vp'] = trips['purpose'].map(purpose_mid_vp_dict)"
   ]
  },
  {
   "cell_type": "code",
   "execution_count": 31,
   "metadata": {},
   "outputs": [],
   "source": [
    "# Convert distances to integer kilometers\n",
    "dist_dict = {1:1, 2:1, 3:1, 4:2, 5:4, 6:6, 95:20, 701:20}\n",
    "trips['dist_train_origin'] = trips['dist_train_origin'].map(dist_dict)\n",
    "trips['dist_bus_origin'] = trips['dist_bus_origin'].map(dist_dict)\n",
    "trips['dist_train_destination'] = trips['dist_train_destination'].map(dist_dict)\n",
    "trips['dist_bus_destination'] = trips['dist_bus_destination'].map(dist_dict)"
   ]
  },
  {
   "cell_type": "code",
   "execution_count": 32,
   "metadata": {},
   "outputs": [
    {
     "data": {
      "text/plain": [
       "<AxesSubplot:title={'center':'Trip duration distribution, logarithmic'}, ylabel='Frequency'>"
      ]
     },
     "execution_count": 32,
     "metadata": {},
     "output_type": "execute_result"
    },
    {
     "data": {
      "image/png": "[encoded data removed]",
      "text/plain": [
       "<Figure size 432x288 with 1 Axes>"
      ]
     },
     "metadata": {
      "needs_background": "light"
     },
     "output_type": "display_data"
    }
   ],
   "source": [
    "# Trip duration\n",
    "trips['duration'].plot.hist(bins=100, log=True, title='Trip duration distribution, logarithmic')"
   ]
  },
  {
   "cell_type": "code",
   "execution_count": 33,
   "metadata": {},
   "outputs": [
    {
     "data": {
      "text/plain": [
       "<AxesSubplot:title={'center':'share of trips by purpose'}, ylabel='None'>"
      ]
     },
     "execution_count": 33,
     "metadata": {},
     "output_type": "execute_result"
    },
    {
     "data": {
      "image/png": "[encoded data removed]",
      "text/plain": [
       "<Figure size 216x216 with 1 Axes>"
      ]
     },
     "metadata": {},
     "output_type": "display_data"
    }
   ],
   "source": [
    "# Trip purpose\n",
    "trips.groupby('purpose_vp').size().plot.pie(\n",
    "    subplots=False,figsize=(3, 3),labels=['work', 'education', 'shopping', 'official', 'private'],\n",
    "    title='share of trips by purpose')"
   ]
  },
  {
   "cell_type": "code",
   "execution_count": 34,
   "metadata": {},
   "outputs": [
    {
     "data": {
      "text/plain": [
       "<matplotlib.legend.Legend at 0x20441ad3610>"
      ]
     },
     "execution_count": 34,
     "metadata": {},
     "output_type": "execute_result"
    },
    {
     "data": {
      "image/png": "[encoded data removed]",
      "text/plain": [
       "<Figure size 1152x288 with 5 Axes>"
      ]
     },
     "metadata": {},
     "output_type": "display_data"
    }
   ],
   "source": [
    "# Modal split\n",
    "axs = trips.groupby(['mode_model','purpose_vp']).size().unstack(fill_value=0).rename(\n",
    "    columns={1:'Commuting', 2:'Education', 3:'Shopping/medical', 4:'Business', 6:'Private'}).plot.pie(\n",
    "    subplots=True, figsize=(16, 4),# labels=trips['mode_model'].map(model_modes),\n",
    "    startangle=0, counterclock=False,\n",
    "    legend=False, labeldistance=None)\n",
    "axs[0].legend()"
   ]
  },
  {
   "cell_type": "code",
   "execution_count": 35,
   "metadata": {},
   "outputs": [
    {
     "data": {
      "text/plain": [
       "\"{1: 'rail_short', 2: 'rail_long', 3: 'coach', 4: 'bus', 5: 'air', 6: 'car', 7: 'walk'}\""
      ]
     },
     "execution_count": 35,
     "metadata": {},
     "output_type": "execute_result"
    }
   ],
   "source": [
    "str(model_modes)"
   ]
  },
  {
   "cell_type": "code",
   "execution_count": 36,
   "metadata": {},
   "outputs": [
    {
     "name": "stdout",
     "output_type": "stream",
     "text": [
      "(843582, 16)\n"
     ]
    }
   ],
   "source": [
    "# Remove air, rail long and coach because they are long-distance only\n",
    "trips = trips.loc[(trips['mode_model']!=2) &\n",
    "                  (trips['mode_model']!=3) &\n",
    "                  (trips['mode_model']!=5)]\n",
    "print(trips.shape)"
   ]
  },
  {
   "cell_type": "markdown",
   "metadata": {},
   "source": [
    "## Imputate network data to trips"
   ]
  },
  {
   "cell_type": "code",
   "execution_count": 25,
   "metadata": {},
   "outputs": [],
   "source": [
    "sm = stepmodel.read_json(model_path + 'de_zones')"
   ]
  },
  {
   "cell_type": "code",
   "execution_count": 93,
   "metadata": {},
   "outputs": [
    {
     "name": "stdout",
     "output_type": "stream",
     "text": [
      "(298764, 17)\n"
     ]
    }
   ],
   "source": [
    "# Replace LAU IDs with NUTS IDs in origin and destination\n",
    "lau_nuts_dict = sm.zones.set_index('lau_id')['NUTS_ID'].to_dict()\n",
    "trips['NUTS_ID'] = trips['origin'].astype(str).map(lau_nuts_dict)\n",
    "# Drop all other trips\n",
    "trips = trips.loc[trips['NUTS_ID'].notna()]\n",
    "print(trips.shape)"
   ]
  },
  {
   "cell_type": "code",
   "execution_count": 94,
   "metadata": {},
   "outputs": [
    {
     "data": {
      "text/plain": [
       "318"
      ]
     },
     "execution_count": 94,
     "metadata": {},
     "output_type": "execute_result"
    }
   ],
   "source": [
    "# Number of zones with survey participants\n",
    "len(trips['NUTS_ID'].unique())"
   ]
  },
  {
   "cell_type": "markdown",
   "metadata": {},
   "source": [
    "### Car ownership\n",
    "Car ownership from the German federal statistical office GENESIS data base table 46251-0006: \"Kraftfahrzeugbestand: Kreise, Stichtag, Kraftfahrzeugarten\". Download at Nov. 26th 2020. License: Datenlizenz by-2-0; www.govdata.de/dl-de/by-2-0"
   ]
  },
  {
   "cell_type": "code",
   "execution_count": 29,
   "metadata": {},
   "outputs": [
    {
     "data": {
      "text/html": [
       "<div>\n",
       "<style scoped>\n",
       "    .dataframe tbody tr th:only-of-type {\n",
       "        vertical-align: middle;\n",
       "    }\n",
       "\n",
       "    .dataframe tbody tr th {\n",
       "        vertical-align: top;\n",
       "    }\n",
       "\n",
       "    .dataframe thead th {\n",
       "        text-align: right;\n",
       "    }\n",
       "</style>\n",
       "<table border=\"1\" class=\"dataframe\">\n",
       "  <thead>\n",
       "    <tr style=\"text-align: right;\">\n",
       "      <th></th>\n",
       "      <th>CNTR_CODE</th>\n",
       "      <th>NUTS_NAME</th>\n",
       "      <th>LEVL_CODE</th>\n",
       "      <th>NUTS_ID</th>\n",
       "      <th>population</th>\n",
       "      <th>area</th>\n",
       "      <th>urbanisation</th>\n",
       "      <th>lau_id</th>\n",
       "      <th>geometry</th>\n",
       "      <th>car_ownership</th>\n",
       "    </tr>\n",
       "    <tr>\n",
       "      <th>index</th>\n",
       "      <th></th>\n",
       "      <th></th>\n",
       "      <th></th>\n",
       "      <th></th>\n",
       "      <th></th>\n",
       "      <th></th>\n",
       "      <th></th>\n",
       "      <th></th>\n",
       "      <th></th>\n",
       "      <th></th>\n",
       "    </tr>\n",
       "  </thead>\n",
       "  <tbody>\n",
       "    <tr>\n",
       "      <th>DE600</th>\n",
       "      <td>DE</td>\n",
       "      <td>Hamburg</td>\n",
       "      <td>3</td>\n",
       "      <td>DE600</td>\n",
       "      <td>1841179</td>\n",
       "      <td>755.09</td>\n",
       "      <td>1.0</td>\n",
       "      <td>2000</td>\n",
       "      <td>MULTIPOLYGON (((9.94538 53.65293, 9.95059 53.6...</td>\n",
       "      <td>824411</td>\n",
       "    </tr>\n",
       "    <tr>\n",
       "      <th>DE711</th>\n",
       "      <td>DE</td>\n",
       "      <td>Darmstadt, Kreisfreie Stadt</td>\n",
       "      <td>3</td>\n",
       "      <td>DE711</td>\n",
       "      <td>159207</td>\n",
       "      <td>122.07</td>\n",
       "      <td>1.0</td>\n",
       "      <td>6411</td>\n",
       "      <td>POLYGON ((8.72571 49.95421, 8.73453 49.94858, ...</td>\n",
       "      <td>76945</td>\n",
       "    </tr>\n",
       "  </tbody>\n",
       "</table>\n",
       "</div>"
      ],
      "text/plain": [
       "      CNTR_CODE                    NUTS_NAME  LEVL_CODE NUTS_ID  population  \\\n",
       "index                                                                         \n",
       "DE600        DE                      Hamburg          3   DE600     1841179   \n",
       "DE711        DE  Darmstadt, Kreisfreie Stadt          3   DE711      159207   \n",
       "\n",
       "         area  urbanisation lau_id  \\\n",
       "index                                \n",
       "DE600  755.09           1.0   2000   \n",
       "DE711  122.07           1.0   6411   \n",
       "\n",
       "                                                geometry  car_ownership  \n",
       "index                                                                    \n",
       "DE600  MULTIPOLYGON (((9.94538 53.65293, 9.95059 53.6...         824411  \n",
       "DE711  POLYGON ((8.72571 49.95421, 8.73453 49.94858, ...          76945  "
      ]
     },
     "execution_count": 29,
     "metadata": {},
     "output_type": "execute_result"
    }
   ],
   "source": [
    "# Load the table\n",
    "cars = pd.read_excel(input_path + 'spatial_car_ownership_2017_GENESIS.xlsx')\n",
    "cars['sum_MIT'] = cars['Krafträder'] + cars['Pkw']\n",
    "cars['lau_id'] = cars['lau_id'].astype(str)\n",
    "cars['sum_MIT'] = cars['sum_MIT'].replace({'--': 0}).astype(int)\n",
    "cars.set_index('lau_id', drop=True, inplace=True)\n",
    "lau_car_dict = cars['sum_MIT'].to_dict()\n",
    "sm.zones['car_ownership'] = sm.zones['lau_id'].map(lau_car_dict)\n",
    "sm.zones.head(2)"
   ]
  },
  {
   "cell_type": "code",
   "execution_count": 30,
   "metadata": {},
   "outputs": [
    {
     "name": "stdout",
     "output_type": "stream",
     "text": [
      "0\n"
     ]
    },
    {
     "data": {
      "text/html": [
       "<div>\n",
       "<style scoped>\n",
       "    .dataframe tbody tr th:only-of-type {\n",
       "        vertical-align: middle;\n",
       "    }\n",
       "\n",
       "    .dataframe tbody tr th {\n",
       "        vertical-align: top;\n",
       "    }\n",
       "\n",
       "    .dataframe thead th {\n",
       "        text-align: right;\n",
       "    }\n",
       "</style>\n",
       "<table border=\"1\" class=\"dataframe\">\n",
       "  <thead>\n",
       "    <tr style=\"text-align: right;\">\n",
       "      <th></th>\n",
       "      <th>CNTR_CODE</th>\n",
       "      <th>NUTS_NAME</th>\n",
       "      <th>LEVL_CODE</th>\n",
       "      <th>NUTS_ID</th>\n",
       "      <th>population</th>\n",
       "      <th>area</th>\n",
       "      <th>urbanisation</th>\n",
       "      <th>lau_id</th>\n",
       "      <th>geometry</th>\n",
       "      <th>car_ownership</th>\n",
       "    </tr>\n",
       "    <tr>\n",
       "      <th>index</th>\n",
       "      <th></th>\n",
       "      <th></th>\n",
       "      <th></th>\n",
       "      <th></th>\n",
       "      <th></th>\n",
       "      <th></th>\n",
       "      <th></th>\n",
       "      <th></th>\n",
       "      <th></th>\n",
       "      <th></th>\n",
       "    </tr>\n",
       "  </thead>\n",
       "  <tbody>\n",
       "    <tr>\n",
       "      <th>DE91C</th>\n",
       "      <td>DE</td>\n",
       "      <td>Göttingen</td>\n",
       "      <td>3</td>\n",
       "      <td>DE91C</td>\n",
       "      <td>328074</td>\n",
       "      <td>1755.39</td>\n",
       "      <td>3.0</td>\n",
       "      <td>3159</td>\n",
       "      <td>POLYGON ((10.67728 51.63838, 10.67664 51.63294...</td>\n",
       "      <td>0</td>\n",
       "    </tr>\n",
       "    <tr>\n",
       "      <th>DEB25</th>\n",
       "      <td>DE</td>\n",
       "      <td>Trier-Saarburg</td>\n",
       "      <td>3</td>\n",
       "      <td>DEB25</td>\n",
       "      <td>148945</td>\n",
       "      <td>1102.22</td>\n",
       "      <td>3.0</td>\n",
       "      <td>7235</td>\n",
       "      <td>POLYGON ((6.71195 49.90481, 6.72201 49.89223, ...</td>\n",
       "      <td>0</td>\n",
       "    </tr>\n",
       "  </tbody>\n",
       "</table>\n",
       "</div>"
      ],
      "text/plain": [
       "      CNTR_CODE       NUTS_NAME  LEVL_CODE NUTS_ID  population     area  \\\n",
       "index                                                                     \n",
       "DE91C        DE       Göttingen          3   DE91C      328074  1755.39   \n",
       "DEB25        DE  Trier-Saarburg          3   DEB25      148945  1102.22   \n",
       "\n",
       "       urbanisation lau_id                                           geometry  \\\n",
       "index                                                                           \n",
       "DE91C           3.0   3159  POLYGON ((10.67728 51.63838, 10.67664 51.63294...   \n",
       "DEB25           3.0   7235  POLYGON ((6.71195 49.90481, 6.72201 49.89223, ...   \n",
       "\n",
       "       car_ownership  \n",
       "index                 \n",
       "DE91C              0  \n",
       "DEB25              0  "
      ]
     },
     "execution_count": 30,
     "metadata": {},
     "output_type": "execute_result"
    }
   ],
   "source": [
    "# Empty rows\n",
    "print(len(sm.zones.loc[sm.zones['car_ownership'].isna()]))\n",
    "sm.zones.loc[sm.zones['car_ownership']<sm.zones['population']/3]"
   ]
  },
  {
   "cell_type": "code",
   "execution_count": 31,
   "metadata": {},
   "outputs": [],
   "source": [
    "# Car density\n",
    "sm.zones['car_density'] = sm.zones['car_ownership'] / sm.zones['population']"
   ]
  },
  {
   "cell_type": "code",
   "execution_count": 32,
   "metadata": {},
   "outputs": [],
   "source": [
    "# Replace empty rows with average density\n",
    "sm.zones.loc[sm.zones['car_ownership']==0, 'car_density'] = \\\n",
    "    sm.zones['car_density'].replace({0: np.nan}).mean(skipna=True)"
   ]
  },
  {
   "cell_type": "code",
   "execution_count": 33,
   "metadata": {},
   "outputs": [],
   "source": [
    "# Imputate into trips\n",
    "zone_dict = sm.zones['car_density'].to_dict()\n",
    "trips['car_density'] = trips['NUTS_ID'].map(zone_dict)"
   ]
  },
  {
   "cell_type": "markdown",
   "metadata": {},
   "source": [
    "### Population density"
   ]
  },
  {
   "cell_type": "code",
   "execution_count": 89,
   "metadata": {},
   "outputs": [
    {
     "name": "stdout",
     "output_type": "stream",
     "text": [
      "(27964, 16)\n"
     ]
    }
   ],
   "source": [
    "# If not available for this trip, take average from model\n",
    "print(trips.loc[trips['pop_density']==95].shape)"
   ]
  },
  {
   "cell_type": "code",
   "execution_count": 90,
   "metadata": {},
   "outputs": [],
   "source": [
    "# Population density in the model\n",
    "sm.zones['pop_density'] = sm.zones['population'] / sm.zones['area']"
   ]
  },
  {
   "cell_type": "code",
   "execution_count": 91,
   "metadata": {},
   "outputs": [],
   "source": [
    "# Categorise like in MiD2017\n",
    "bins = [0,100,250,500,1000,2000,5000,10000,100000]\n",
    "cats = [1,2,3,4,5,6,7,8]\n",
    "sm.zones['pop_density_cat'] = pd.cut(sm.zones['pop_density'], bins=bins, labels=cats)\n",
    "zone_dict = sm.zones['pop_density_cat'].to_dict()"
   ]
  },
  {
   "cell_type": "code",
   "execution_count": 95,
   "metadata": {},
   "outputs": [],
   "source": [
    "trips.loc[trips['pop_density']==95, 'pop_density'] = \\\n",
    "    trips.loc[trips['pop_density']==95, 'NUTS_ID'].map(zone_dict)"
   ]
  },
  {
   "cell_type": "code",
   "execution_count": 96,
   "metadata": {},
   "outputs": [
    {
     "data": {
      "text/plain": [
       "<AxesSubplot:>"
      ]
     },
     "execution_count": 96,
     "metadata": {},
     "output_type": "execute_result"
    },
    {
     "data": {
      "image/png": "[encoded data removed]",
      "text/plain": [
       "<Figure size 432x288 with 1 Axes>"
      ]
     },
     "metadata": {
      "needs_background": "light"
     },
     "output_type": "display_data"
    }
   ],
   "source": [
    "trips['pop_density'].hist(bins=50)"
   ]
  },
  {
   "cell_type": "code",
   "execution_count": 68,
   "metadata": {},
   "outputs": [
    {
     "data": {
      "text/plain": [
       "<AxesSubplot:>"
      ]
     },
     "execution_count": 68,
     "metadata": {},
     "output_type": "execute_result"
    },
    {
     "data": {
      "image/png": "[encoded data removed]",
      "text/plain": [
       "<Figure size 432x288 with 1 Axes>"
      ]
     },
     "metadata": {
      "needs_background": "light"
     },
     "output_type": "display_data"
    }
   ],
   "source": [
    "sm.zones['pop_density_cat'].hist(bins=50)"
   ]
  },
  {
   "cell_type": "markdown",
   "metadata": {},
   "source": [
    "### Accessibility\n",
    "Enrich trips with the accessibility metric"
   ]
  },
  {
   "cell_type": "code",
   "execution_count": 39,
   "metadata": {},
   "outputs": [],
   "source": [
    "def accessibility(dist_origin, dist_destination, weight=20):\n",
    "    '''calculate an accessibility metric based on distances\n",
    "    :param dist_origin: distance to the next mean of transport from origin in km\n",
    "    :param dist_destination: distance from the used mean of transport to destination in km\n",
    "    :param weight: (optional) inverse weight of distances\n",
    "    :return: accessibility factor on a range from 0 to 1'''\n",
    "    return max(0, 1 - dist_origin/weight - dist_destination/weight)"
   ]
  },
  {
   "cell_type": "code",
   "execution_count": 40,
   "metadata": {},
   "outputs": [],
   "source": [
    "# The maximum accessibility for foot, bicycle and car is 1\n",
    "trips['accessibility_walk'] = 1\n",
    "trips['accessibility_car'] = trips['car_avail'].replace({9:0})"
   ]
  },
  {
   "cell_type": "code",
   "execution_count": 41,
   "metadata": {},
   "outputs": [],
   "source": [
    "# Rail\n",
    "trips['accessibility_rail'] = [accessibility(o, d) for o, d in zip(\n",
    "    trips['dist_train_origin'], trips['dist_train_destination'])]"
   ]
  },
  {
   "cell_type": "code",
   "execution_count": 42,
   "metadata": {},
   "outputs": [],
   "source": [
    "# Bus\n",
    "trips['accessibility_bus'] = [accessibility(o, d) for o, d in zip(\n",
    "    trips['dist_bus_origin'], trips['dist_bus_destination'])]"
   ]
  },
  {
   "cell_type": "code",
   "execution_count": 43,
   "metadata": {},
   "outputs": [
    {
     "data": {
      "text/html": [
       "<div>\n",
       "<style scoped>\n",
       "    .dataframe tbody tr th:only-of-type {\n",
       "        vertical-align: middle;\n",
       "    }\n",
       "\n",
       "    .dataframe tbody tr th {\n",
       "        vertical-align: top;\n",
       "    }\n",
       "\n",
       "    .dataframe thead th {\n",
       "        text-align: right;\n",
       "    }\n",
       "</style>\n",
       "<table border=\"1\" class=\"dataframe\">\n",
       "  <thead>\n",
       "    <tr style=\"text-align: right;\">\n",
       "      <th></th>\n",
       "      <th>accessibility_car</th>\n",
       "      <th>accessibility_rail</th>\n",
       "      <th>accessibility_bus</th>\n",
       "    </tr>\n",
       "    <tr>\n",
       "      <th>mode_model</th>\n",
       "      <th></th>\n",
       "      <th></th>\n",
       "      <th></th>\n",
       "    </tr>\n",
       "  </thead>\n",
       "  <tbody>\n",
       "    <tr>\n",
       "      <th>1</th>\n",
       "      <td>0.740227</td>\n",
       "      <td>0.788841</td>\n",
       "      <td>0.827113</td>\n",
       "    </tr>\n",
       "    <tr>\n",
       "      <th>4</th>\n",
       "      <td>0.733136</td>\n",
       "      <td>0.729902</td>\n",
       "      <td>0.834290</td>\n",
       "    </tr>\n",
       "    <tr>\n",
       "      <th>6</th>\n",
       "      <td>0.989591</td>\n",
       "      <td>0.649981</td>\n",
       "      <td>0.775443</td>\n",
       "    </tr>\n",
       "  </tbody>\n",
       "</table>\n",
       "</div>"
      ],
      "text/plain": [
       "            accessibility_car  accessibility_rail  accessibility_bus\n",
       "mode_model                                                          \n",
       "1                    0.740227            0.788841           0.827113\n",
       "4                    0.733136            0.729902           0.834290\n",
       "6                    0.989591            0.649981           0.775443"
      ]
     },
     "execution_count": 43,
     "metadata": {},
     "output_type": "execute_result"
    }
   ],
   "source": [
    "# Summary\n",
    "trips.groupby('mode_model').agg(\n",
    "    {'accessibility_car': 'mean', 'accessibility_rail': 'mean',\n",
    "     'accessibility_bus': 'mean'})"
   ]
  },
  {
   "cell_type": "markdown",
   "metadata": {},
   "source": [
    "### GDP\n",
    "Take cell-specific GDP data from eurostat \n",
    "https://ec.europa.eu/eurostat/de/web/rural-development/data"
   ]
  },
  {
   "cell_type": "code",
   "execution_count": 61,
   "metadata": {},
   "outputs": [
    {
     "data": {
      "text/html": [
       "<div>\n",
       "<style scoped>\n",
       "    .dataframe tbody tr th:only-of-type {\n",
       "        vertical-align: middle;\n",
       "    }\n",
       "\n",
       "    .dataframe tbody tr th {\n",
       "        vertical-align: top;\n",
       "    }\n",
       "\n",
       "    .dataframe thead th {\n",
       "        text-align: right;\n",
       "    }\n",
       "</style>\n",
       "<table border=\"1\" class=\"dataframe\">\n",
       "  <thead>\n",
       "    <tr style=\"text-align: right;\">\n",
       "      <th></th>\n",
       "      <th>TIME</th>\n",
       "      <th>GEO</th>\n",
       "      <th>UNIT</th>\n",
       "      <th>WSTATUS</th>\n",
       "      <th>NACE_R2</th>\n",
       "      <th>Value</th>\n",
       "      <th>Flag and Footnotes</th>\n",
       "    </tr>\n",
       "  </thead>\n",
       "  <tbody>\n",
       "    <tr>\n",
       "      <th>0</th>\n",
       "      <td>2017</td>\n",
       "      <td>Germany (until 1990 former territory of the FRG)</td>\n",
       "      <td>Thousand</td>\n",
       "      <td>Employed persons</td>\n",
       "      <td>Total - all NACE activities</td>\n",
       "      <td>44,262</td>\n",
       "      <td>p</td>\n",
       "    </tr>\n",
       "    <tr>\n",
       "      <th>1</th>\n",
       "      <td>2017</td>\n",
       "      <td>Baden-Württemberg</td>\n",
       "      <td>Thousand</td>\n",
       "      <td>Employed persons</td>\n",
       "      <td>Total - all NACE activities</td>\n",
       "      <td>6,256.39</td>\n",
       "      <td>p</td>\n",
       "    </tr>\n",
       "    <tr>\n",
       "      <th>2</th>\n",
       "      <td>2017</td>\n",
       "      <td>Stuttgart</td>\n",
       "      <td>Thousand</td>\n",
       "      <td>Employed persons</td>\n",
       "      <td>Total - all NACE activities</td>\n",
       "      <td>2,408.49</td>\n",
       "      <td>p</td>\n",
       "    </tr>\n",
       "    <tr>\n",
       "      <th>3</th>\n",
       "      <td>2017</td>\n",
       "      <td>Stuttgart, Stadtkreis</td>\n",
       "      <td>Thousand</td>\n",
       "      <td>Employed persons</td>\n",
       "      <td>Total - all NACE activities</td>\n",
       "      <td>529.85</td>\n",
       "      <td>p</td>\n",
       "    </tr>\n",
       "    <tr>\n",
       "      <th>4</th>\n",
       "      <td>2017</td>\n",
       "      <td>Böblingen</td>\n",
       "      <td>Thousand</td>\n",
       "      <td>Employed persons</td>\n",
       "      <td>Total - all NACE activities</td>\n",
       "      <td>230.09</td>\n",
       "      <td>p</td>\n",
       "    </tr>\n",
       "    <tr>\n",
       "      <th>...</th>\n",
       "      <td>...</td>\n",
       "      <td>...</td>\n",
       "      <td>...</td>\n",
       "      <td>...</td>\n",
       "      <td>...</td>\n",
       "      <td>...</td>\n",
       "      <td>...</td>\n",
       "    </tr>\n",
       "    <tr>\n",
       "      <th>451</th>\n",
       "      <td>2017</td>\n",
       "      <td>Saale-Orla-Kreis</td>\n",
       "      <td>Thousand</td>\n",
       "      <td>Employed persons</td>\n",
       "      <td>Total - all NACE activities</td>\n",
       "      <td>39.02</td>\n",
       "      <td>p</td>\n",
       "    </tr>\n",
       "    <tr>\n",
       "      <th>452</th>\n",
       "      <td>2017</td>\n",
       "      <td>Greiz</td>\n",
       "      <td>Thousand</td>\n",
       "      <td>Employed persons</td>\n",
       "      <td>Total - all NACE activities</td>\n",
       "      <td>39.28</td>\n",
       "      <td>p</td>\n",
       "    </tr>\n",
       "    <tr>\n",
       "      <th>453</th>\n",
       "      <td>2017</td>\n",
       "      <td>Altenburger Land</td>\n",
       "      <td>Thousand</td>\n",
       "      <td>Employed persons</td>\n",
       "      <td>Total - all NACE activities</td>\n",
       "      <td>35.72</td>\n",
       "      <td>p</td>\n",
       "    </tr>\n",
       "    <tr>\n",
       "      <th>454</th>\n",
       "      <td>2017</td>\n",
       "      <td>Eisenach, Kreisfreie Stadt</td>\n",
       "      <td>Thousand</td>\n",
       "      <td>Employed persons</td>\n",
       "      <td>Total - all NACE activities</td>\n",
       "      <td>28.5</td>\n",
       "      <td>p</td>\n",
       "    </tr>\n",
       "    <tr>\n",
       "      <th>455</th>\n",
       "      <td>2017</td>\n",
       "      <td>Wartburgkreis</td>\n",
       "      <td>Thousand</td>\n",
       "      <td>Employed persons</td>\n",
       "      <td>Total - all NACE activities</td>\n",
       "      <td>53.27</td>\n",
       "      <td>p</td>\n",
       "    </tr>\n",
       "  </tbody>\n",
       "</table>\n",
       "<p>456 rows × 7 columns</p>\n",
       "</div>"
      ],
      "text/plain": [
       "     TIME                                               GEO      UNIT  \\\n",
       "0    2017  Germany (until 1990 former territory of the FRG)  Thousand   \n",
       "1    2017                                 Baden-Württemberg  Thousand   \n",
       "2    2017                                         Stuttgart  Thousand   \n",
       "3    2017                             Stuttgart, Stadtkreis  Thousand   \n",
       "4    2017                                         Böblingen  Thousand   \n",
       "..    ...                                               ...       ...   \n",
       "451  2017                                  Saale-Orla-Kreis  Thousand   \n",
       "452  2017                                             Greiz  Thousand   \n",
       "453  2017                                  Altenburger Land  Thousand   \n",
       "454  2017                        Eisenach, Kreisfreie Stadt  Thousand   \n",
       "455  2017                                     Wartburgkreis  Thousand   \n",
       "\n",
       "              WSTATUS                      NACE_R2     Value  \\\n",
       "0    Employed persons  Total - all NACE activities    44,262   \n",
       "1    Employed persons  Total - all NACE activities  6,256.39   \n",
       "2    Employed persons  Total - all NACE activities  2,408.49   \n",
       "3    Employed persons  Total - all NACE activities    529.85   \n",
       "4    Employed persons  Total - all NACE activities    230.09   \n",
       "..                ...                          ...       ...   \n",
       "451  Employed persons  Total - all NACE activities     39.02   \n",
       "452  Employed persons  Total - all NACE activities     39.28   \n",
       "453  Employed persons  Total - all NACE activities     35.72   \n",
       "454  Employed persons  Total - all NACE activities      28.5   \n",
       "455  Employed persons  Total - all NACE activities     53.27   \n",
       "\n",
       "    Flag and Footnotes  \n",
       "0                    p  \n",
       "1                    p  \n",
       "2                    p  \n",
       "3                    p  \n",
       "4                    p  \n",
       "..                 ...  \n",
       "451                  p  \n",
       "452                  p  \n",
       "453                  p  \n",
       "454                  p  \n",
       "455                  p  \n",
       "\n",
       "[456 rows x 7 columns]"
      ]
     },
     "execution_count": 61,
     "metadata": {},
     "output_type": "execute_result"
    }
   ],
   "source": [
    "pd.read_csv(input_path + 'spatial_employed_persons_2017_eurostat.csv', encoding='latin-1')"
   ]
  },
  {
   "cell_type": "code",
   "execution_count": 59,
   "metadata": {},
   "outputs": [],
   "source": [
    "gdp = pd.read_csv(input_path + 'spatial_GDP_2017_eurostat.csv', encoding='latin-1')\n",
    "gdp['Value'] = gdp['Value'].str.replace(',', '').astype(float)"
   ]
  },
  {
   "cell_type": "code",
   "execution_count": 64,
   "metadata": {},
   "outputs": [],
   "source": [
    "# Assign GDP to zones\n",
    "gdp_dict = gdp.loc[gdp['UNIT']=='Euro per inhabitant'].set_index('GEO')['Value'].to_dict()\n",
    "sm.zones['gdp_pc'] = sm.zones['NUTS_NAME'].map(gdp_dict)"
   ]
  },
  {
   "cell_type": "code",
   "execution_count": 65,
   "metadata": {},
   "outputs": [],
   "source": [
    "sm.zones.loc[sm.zones['gdp_pc'].isna(), 'gdp_pc'] = \\\n",
    "    sm.zones.loc[sm.zones['gdp_pc'].notna(), 'gdp_pc'].mean()"
   ]
  },
  {
   "cell_type": "code",
   "execution_count": 66,
   "metadata": {},
   "outputs": [],
   "source": [
    "sm.zones['gdp_pc'] = sm.zones['gdp_pc'].astype(int)"
   ]
  },
  {
   "cell_type": "code",
   "execution_count": 67,
   "metadata": {},
   "outputs": [
    {
     "data": {
      "text/html": [
       "<div>\n",
       "<style scoped>\n",
       "    .dataframe tbody tr th:only-of-type {\n",
       "        vertical-align: middle;\n",
       "    }\n",
       "\n",
       "    .dataframe tbody tr th {\n",
       "        vertical-align: top;\n",
       "    }\n",
       "\n",
       "    .dataframe thead th {\n",
       "        text-align: right;\n",
       "    }\n",
       "</style>\n",
       "<table border=\"1\" class=\"dataframe\">\n",
       "  <thead>\n",
       "    <tr style=\"text-align: right;\">\n",
       "      <th></th>\n",
       "      <th>CNTR_CODE</th>\n",
       "      <th>NUTS_NAME</th>\n",
       "      <th>LEVL_CODE</th>\n",
       "      <th>NUTS_ID</th>\n",
       "      <th>population</th>\n",
       "      <th>area</th>\n",
       "      <th>urbanisation</th>\n",
       "      <th>lau_id</th>\n",
       "      <th>geometry</th>\n",
       "      <th>car_ownership</th>\n",
       "      <th>car_density</th>\n",
       "      <th>pop_density</th>\n",
       "      <th>pop_density_cat</th>\n",
       "      <th>gdp_pc</th>\n",
       "    </tr>\n",
       "    <tr>\n",
       "      <th>index</th>\n",
       "      <th></th>\n",
       "      <th></th>\n",
       "      <th></th>\n",
       "      <th></th>\n",
       "      <th></th>\n",
       "      <th></th>\n",
       "      <th></th>\n",
       "      <th></th>\n",
       "      <th></th>\n",
       "      <th></th>\n",
       "      <th></th>\n",
       "      <th></th>\n",
       "      <th></th>\n",
       "      <th></th>\n",
       "    </tr>\n",
       "  </thead>\n",
       "  <tbody>\n",
       "  </tbody>\n",
       "</table>\n",
       "</div>"
      ],
      "text/plain": [
       "Empty DataFrame\n",
       "Columns: [CNTR_CODE, NUTS_NAME, LEVL_CODE, NUTS_ID, population, area, urbanisation, lau_id, geometry, car_ownership, car_density, pop_density, pop_density_cat, gdp_pc]\n",
       "Index: []"
      ]
     },
     "execution_count": 67,
     "metadata": {},
     "output_type": "execute_result"
    }
   ],
   "source": [
    "sm.zones.loc[sm.zones['gdp_pc'].isna()]"
   ]
  },
  {
   "cell_type": "markdown",
   "metadata": {},
   "source": [
    "## Save dataset"
   ]
  },
  {
   "cell_type": "code",
   "execution_count": 71,
   "metadata": {},
   "outputs": [],
   "source": [
    "trips.to_csv('../input/transport_demand/calibration_intra-cellular_trips_MiD2017.csv')"
   ]
  }
 ],
 "metadata": {
  "kernelspec": {
   "display_name": "Python 3",
   "language": "python",
   "name": "python3"
  },
  "language_info": {
   "codemirror_mode": {
    "name": "ipython",
    "version": 3
   },
   "file_extension": ".py",
   "mimetype": "text/x-python",
   "name": "python",
   "nbconvert_exporter": "python",
   "pygments_lexer": "ipython3",
   "version": "3.8.1"
  }
 },
 "nbformat": 4,
 "nbformat_minor": 4
}
