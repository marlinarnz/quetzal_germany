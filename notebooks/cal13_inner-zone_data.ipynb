{
 "cells": [
  {
   "cell_type": "code",
   "execution_count": 1,
   "metadata": {},
   "outputs": [
    {
     "name": "stderr",
     "output_type": "stream",
     "text": [
      "In C:\\Users\\marlin.arnz\\AppData\\Local\\Continuum\\miniconda3\\envs\\quetzal\\lib\\site-packages\\matplotlib\\mpl-data\\stylelib\\_classic_test.mplstyle: \n",
      "The text.latex.preview rcparam was deprecated in Matplotlib 3.3 and will be removed two minor releases later.\n",
      "In C:\\Users\\marlin.arnz\\AppData\\Local\\Continuum\\miniconda3\\envs\\quetzal\\lib\\site-packages\\matplotlib\\mpl-data\\stylelib\\_classic_test.mplstyle: \n",
      "The mathtext.fallback_to_cm rcparam was deprecated in Matplotlib 3.3 and will be removed two minor releases later.\n",
      "In C:\\Users\\marlin.arnz\\AppData\\Local\\Continuum\\miniconda3\\envs\\quetzal\\lib\\site-packages\\matplotlib\\mpl-data\\stylelib\\_classic_test.mplstyle: Support for setting the 'mathtext.fallback_to_cm' rcParam is deprecated since 3.3 and will be removed two minor releases later; use 'mathtext.fallback : 'cm' instead.\n",
      "In C:\\Users\\marlin.arnz\\AppData\\Local\\Continuum\\miniconda3\\envs\\quetzal\\lib\\site-packages\\matplotlib\\mpl-data\\stylelib\\_classic_test.mplstyle: \n",
      "The validate_bool_maybe_none function was deprecated in Matplotlib 3.3 and will be removed two minor releases later.\n",
      "In C:\\Users\\marlin.arnz\\AppData\\Local\\Continuum\\miniconda3\\envs\\quetzal\\lib\\site-packages\\matplotlib\\mpl-data\\stylelib\\_classic_test.mplstyle: \n",
      "The savefig.jpeg_quality rcparam was deprecated in Matplotlib 3.3 and will be removed two minor releases later.\n",
      "In C:\\Users\\marlin.arnz\\AppData\\Local\\Continuum\\miniconda3\\envs\\quetzal\\lib\\site-packages\\matplotlib\\mpl-data\\stylelib\\_classic_test.mplstyle: \n",
      "The keymap.all_axes rcparam was deprecated in Matplotlib 3.3 and will be removed two minor releases later.\n",
      "In C:\\Users\\marlin.arnz\\AppData\\Local\\Continuum\\miniconda3\\envs\\quetzal\\lib\\site-packages\\matplotlib\\mpl-data\\stylelib\\_classic_test.mplstyle: \n",
      "The animation.avconv_path rcparam was deprecated in Matplotlib 3.3 and will be removed two minor releases later.\n",
      "In C:\\Users\\marlin.arnz\\AppData\\Local\\Continuum\\miniconda3\\envs\\quetzal\\lib\\site-packages\\matplotlib\\mpl-data\\stylelib\\_classic_test.mplstyle: \n",
      "The animation.avconv_args rcparam was deprecated in Matplotlib 3.3 and will be removed two minor releases later.\n"
     ]
    }
   ],
   "source": [
    "import pandas as pd\n",
    "import numpy as np\n",
    "from tqdm import tqdm\n",
    "from quetzal.model import stepmodel"
   ]
  },
  {
   "cell_type": "markdown",
   "metadata": {},
   "source": [
    "# Inner-zonal trips\n",
    "## Preperation of calibration data\n",
    "Assignment of inner-zonal trips is not possible in a classic transport model. Trip lengths by mode and purpose must be approximated with MiD2017 data."
   ]
  },
  {
   "cell_type": "code",
   "execution_count": 2,
   "metadata": {},
   "outputs": [],
   "source": [
    "input_path = '../input/'\n",
    "output_path = '../output/'\n",
    "model_path = '../model/'"
   ]
  },
  {
   "cell_type": "markdown",
   "metadata": {},
   "source": [
    "Inner-cellular mode choice will be dependent on cell-specific network data as well as trip-specific and socio-economic data. All categories must be available in the calibration data set as well as in the model.\n",
    "* Accessibility by mode in this cell (weighted average, see prep33)\n",
    "* Population density (population by km²)\n",
    "* Road network length by km² -- not implemented\n",
    "* Economic status of household or cell (GDP) -- not implemented\n",
    "* Car ownership in this cell"
   ]
  },
  {
   "cell_type": "markdown",
   "metadata": {},
   "source": [
    "### Load trips table from MiD and filter"
   ]
  },
  {
   "cell_type": "code",
   "execution_count": 40,
   "metadata": {},
   "outputs": [
    {
     "name": "stdout",
     "output_type": "stream",
     "text": [
      "(960619, 14)\n"
     ]
    }
   ],
   "source": [
    "trips = pd.read_csv(input_path + 'transport_demand/MiD2017_Regional_Wege.csv', sep=';')\n",
    "trips = trips[['KKZ_SO', 'KKZ_ZO', 'wegkm_imp', 'km_routing_gr','wegmin_imp1',\n",
    "               'hwzweck1', 'hvm_diff2', 'auto', 'W_SO2', 'ewqkm', # alternatively sieddichte\n",
    "               'bahn28', 'bus28', 'bahn28_zo', 'bus28_zo']]\n",
    "trips.columns = ['origin', 'destination', 'distance', 'distance_routed', 'duration',\n",
    "                 'purpose', 'mode', 'car_avail', 'W_SO2', 'pop_density',\n",
    "                 'dist_train_origin', 'dist_bus_origin', 'dist_train_destination', 'dist_bus_destination']\n",
    "trips['distance'] = pd.to_numeric(trips['distance'].str.replace(',', '.'))\n",
    "print(trips.shape)"
   ]
  },
  {
   "cell_type": "code",
   "execution_count": 41,
   "metadata": {},
   "outputs": [
    {
     "name": "stdout",
     "output_type": "stream",
     "text": [
      "(959778, 14)\n"
     ]
    }
   ],
   "source": [
    "# Filter for inner-German trips\n",
    "trips = trips.loc[(trips['W_SO2']!=2) & (trips['W_SO2']!=3)]\n",
    "print(trips.shape)"
   ]
  },
  {
   "cell_type": "code",
   "execution_count": 42,
   "metadata": {},
   "outputs": [
    {
     "name": "stdout",
     "output_type": "stream",
     "text": [
      "(409507, 14)\n"
     ]
    }
   ],
   "source": [
    "# Filter unspecified rows\n",
    "trips = trips.loc[(trips['purpose']!=99) &\n",
    "                  (trips['origin']<9999) &\n",
    "                  (trips['destination']<9999) &\n",
    "                  (trips['mode']<24)]\n",
    "print(trips.shape)"
   ]
  },
  {
   "cell_type": "code",
   "execution_count": 43,
   "metadata": {},
   "outputs": [
    {
     "name": "stdout",
     "output_type": "stream",
     "text": [
      "(300620, 14)\n"
     ]
    }
   ],
   "source": [
    "# Filter for inner-cell traffic\n",
    "trips = trips.loc[trips['origin']==trips['destination']]\n",
    "print(trips.shape)"
   ]
  },
  {
   "cell_type": "code",
   "execution_count": 44,
   "metadata": {},
   "outputs": [
    {
     "name": "stdout",
     "output_type": "stream",
     "text": [
      "(271749, 14)\n"
     ]
    }
   ],
   "source": [
    "# Filter for short-distance traffic\n",
    "trips = trips.loc[trips['distance_routed']<8]\n",
    "print(trips.shape)"
   ]
  },
  {
   "cell_type": "code",
   "execution_count": 45,
   "metadata": {},
   "outputs": [
    {
     "name": "stdout",
     "output_type": "stream",
     "text": [
      "(271749, 14)\n"
     ]
    }
   ],
   "source": [
    "# Remove ferries\n",
    "trips = trips.loc[trips['mode']!=19]\n",
    "print(trips.shape)"
   ]
  },
  {
   "cell_type": "code",
   "execution_count": 46,
   "metadata": {},
   "outputs": [],
   "source": [
    "# Match mode with the model modes\n",
    "# Non-motorised modes are merged\n",
    "# See cal10\n",
    "model_modes = {1: 'rail_short_distance', 2: 'rail_long_distance',\n",
    "               3: 'coach', 4: 'bus', 5: 'air', 6: 'car', 7: 'walk'}\n",
    "mode_mid_vp_dict = {1:7, 2:7, 3:7, 4:6, 5:6, 6:6, 7:6, 8:6,\n",
    "                    9:6, 10:6, 11:6, 12:4, 13:4, 14:4, 15:4,\n",
    "                    16:1, 17:6, 18:6, 19:6, 20:2, 21:3, 22:3,\n",
    "                    23:5, 24:7}\n",
    "trips['mode_model'] = trips['mode'].map(mode_mid_vp_dict)"
   ]
  },
  {
   "cell_type": "code",
   "execution_count": 47,
   "metadata": {},
   "outputs": [],
   "source": [
    "# Match trip purpose with VP2030 categories\n",
    "# Note: Holiday trips are included in private (6)\n",
    "# see cal10\n",
    "purpose_mid_vp_dict = {1: 1, 2: 4, 3: 2, 4: 3, 5: 3, 6: 6, 7: 6, 99: 6}\n",
    "trips['purpose_vp'] = trips['purpose'].map(purpose_mid_vp_dict)"
   ]
  },
  {
   "cell_type": "code",
   "execution_count": 48,
   "metadata": {},
   "outputs": [],
   "source": [
    "# Convert distances to integer kilometers\n",
    "dist_dict = {1:1, 2:1, 3:1, 4:2, 5:4, 6:6, 95:20, 701:20}\n",
    "trips['dist_train_origin'] = trips['dist_train_origin'].map(dist_dict)\n",
    "trips['dist_bus_origin'] = trips['dist_bus_origin'].map(dist_dict)\n",
    "trips['dist_train_destination'] = trips['dist_train_destination'].map(dist_dict)\n",
    "trips['dist_bus_destination'] = trips['dist_bus_destination'].map(dist_dict)"
   ]
  },
  {
   "cell_type": "code",
   "execution_count": 49,
   "metadata": {},
   "outputs": [
    {
     "data": {
      "text/plain": [
       "<AxesSubplot:title={'center':'Trip distance distribution, logarithmic'}, ylabel='Frequency'>"
      ]
     },
     "execution_count": 49,
     "metadata": {},
     "output_type": "execute_result"
    },
    {
     "data": {
      "image/png": "[encoded data removed]",
      "text/plain": [
       "<Figure size 432x288 with 1 Axes>"
      ]
     },
     "metadata": {
      "needs_background": "light"
     },
     "output_type": "display_data"
    }
   ],
   "source": [
    "# Trip distance\n",
    "trips['distance'].plot.hist(bins=100, log=True, title='Trip distance distribution, logarithmic')"
   ]
  },
  {
   "cell_type": "code",
   "execution_count": 50,
   "metadata": {},
   "outputs": [
    {
     "data": {
      "text/plain": [
       "<AxesSubplot:title={'center':'Trip duration distribution, logarithmic'}, ylabel='Frequency'>"
      ]
     },
     "execution_count": 50,
     "metadata": {},
     "output_type": "execute_result"
    },
    {
     "data": {
      "image/png": "[encoded data removed]",
      "text/plain": [
       "<Figure size 432x288 with 1 Axes>"
      ]
     },
     "metadata": {
      "needs_background": "light"
     },
     "output_type": "display_data"
    }
   ],
   "source": [
    "# Trip duration\n",
    "trips['duration'].plot.hist(bins=100, log=True, title='Trip duration distribution, logarithmic')"
   ]
  },
  {
   "cell_type": "code",
   "execution_count": 51,
   "metadata": {},
   "outputs": [
    {
     "data": {
      "text/plain": [
       "<AxesSubplot:title={'center':'share of trips by purpose'}, ylabel='None'>"
      ]
     },
     "execution_count": 51,
     "metadata": {},
     "output_type": "execute_result"
    },
    {
     "data": {
      "image/png": "[encoded data removed]",
      "text/plain": [
       "<Figure size 216x216 with 1 Axes>"
      ]
     },
     "metadata": {},
     "output_type": "display_data"
    }
   ],
   "source": [
    "# Trip purpose\n",
    "trips.groupby('purpose_vp').size().plot.pie(\n",
    "    subplots=False,figsize=(3, 3),labels=['work', 'education', 'shopping', 'official', 'private'],\n",
    "    title='share of trips by purpose')"
   ]
  },
  {
   "cell_type": "code",
   "execution_count": 52,
   "metadata": {},
   "outputs": [
    {
     "data": {
      "text/plain": [
       "<matplotlib.legend.Legend at 0x1d1b201a190>"
      ]
     },
     "execution_count": 52,
     "metadata": {},
     "output_type": "execute_result"
    },
    {
     "data": {
      "image/png": "[encoded data removed]",
      "text/plain": [
       "<Figure size 1152x288 with 5 Axes>"
      ]
     },
     "metadata": {},
     "output_type": "display_data"
    }
   ],
   "source": [
    "# Modal split\n",
    "axs = trips.groupby(['mode_model','purpose_vp']).size().unstack(fill_value=0).rename(\n",
    "    columns={1:'Commuting', 2:'Education', 3:'Shopping/medical', 4:'Business', 6:'Private'}).plot.pie(\n",
    "    subplots=True, figsize=(16, 4), labels=trips['mode_model'].map(model_modes).unique(),\n",
    "    startangle=0, counterclock=False,\n",
    "    legend=False, labeldistance=None)\n",
    "axs[0].legend()"
   ]
  },
  {
   "cell_type": "code",
   "execution_count": 53,
   "metadata": {},
   "outputs": [
    {
     "name": "stdout",
     "output_type": "stream",
     "text": [
      "(271369, 16)\n"
     ]
    }
   ],
   "source": [
    "# Remove air and coach because they are long-distance only\n",
    "trips = trips.loc[(trips['mode_model']!=3) &\n",
    "                  (trips['mode_model']!=5)]\n",
    "print(trips.shape)"
   ]
  },
  {
   "cell_type": "markdown",
   "metadata": {},
   "source": [
    "### Imputate network data to trips"
   ]
  },
  {
   "cell_type": "code",
   "execution_count": null,
   "metadata": {},
   "outputs": [],
   "source": [
    "# Loading model paths...\n",
    "sm = stepmodel.read_json(model_path + 'de_pt_los')"
   ]
  },
  {
   "cell_type": "code",
   "execution_count": 23,
   "metadata": {},
   "outputs": [],
   "source": [
    "z = stepmodel.read_json(model_path + 'de_zones')\n",
    "sm.zones = z.zones"
   ]
  },
  {
   "cell_type": "code",
   "execution_count": 54,
   "metadata": {},
   "outputs": [
    {
     "name": "stdout",
     "output_type": "stream",
     "text": [
      "(270908, 17)\n"
     ]
    }
   ],
   "source": [
    "# Replace LAU IDs with NUTS IDs in origin and destination\n",
    "lau_nuts_dict = sm.zones.set_index('lau_id')['NUTS_ID'].to_dict()\n",
    "trips['NUTS_ID'] = trips['origin'].astype(str).map(lau_nuts_dict)\n",
    "# Drop all other trips\n",
    "trips = trips.loc[trips['NUTS_ID'].notna()]\n",
    "print(trips.shape)"
   ]
  },
  {
   "cell_type": "code",
   "execution_count": 55,
   "metadata": {},
   "outputs": [
    {
     "data": {
      "text/plain": [
       "(318, 17)"
      ]
     },
     "execution_count": 55,
     "metadata": {},
     "output_type": "execute_result"
    }
   ],
   "source": [
    "# Number of zones with survey participants\n",
    "trips.drop_duplicates(subset='NUTS_ID').shape"
   ]
  },
  {
   "cell_type": "markdown",
   "metadata": {},
   "source": [
    "#### Car ownership\n",
    "Car ownership from the German federal statistical office GENESIS data base table 46251-0006: \"Kraftfahrzeugbestand: Kreise, Stichtag, Kraftfahrzeugarten\". Download at Nov. 26th 2020. License: Datenlizenz by-2-0; www.govdata.de/dl-de/by-2-0"
   ]
  },
  {
   "cell_type": "code",
   "execution_count": 56,
   "metadata": {},
   "outputs": [
    {
     "data": {
      "text/html": [
       "<div>\n",
       "<style scoped>\n",
       "    .dataframe tbody tr th:only-of-type {\n",
       "        vertical-align: middle;\n",
       "    }\n",
       "\n",
       "    .dataframe tbody tr th {\n",
       "        vertical-align: top;\n",
       "    }\n",
       "\n",
       "    .dataframe thead th {\n",
       "        text-align: right;\n",
       "    }\n",
       "</style>\n",
       "<table border=\"1\" class=\"dataframe\">\n",
       "  <thead>\n",
       "    <tr style=\"text-align: right;\">\n",
       "      <th></th>\n",
       "      <th>CNTR_CODE</th>\n",
       "      <th>NUTS_NAME</th>\n",
       "      <th>LEVL_CODE</th>\n",
       "      <th>NUTS_ID</th>\n",
       "      <th>population</th>\n",
       "      <th>area</th>\n",
       "      <th>urbanisation</th>\n",
       "      <th>lau_id</th>\n",
       "      <th>geometry</th>\n",
       "      <th>car_ownership</th>\n",
       "      <th>car_density</th>\n",
       "      <th>pop_density</th>\n",
       "      <th>pop_density_cat</th>\n",
       "    </tr>\n",
       "    <tr>\n",
       "      <th>index</th>\n",
       "      <th></th>\n",
       "      <th></th>\n",
       "      <th></th>\n",
       "      <th></th>\n",
       "      <th></th>\n",
       "      <th></th>\n",
       "      <th></th>\n",
       "      <th></th>\n",
       "      <th></th>\n",
       "      <th></th>\n",
       "      <th></th>\n",
       "      <th></th>\n",
       "      <th></th>\n",
       "    </tr>\n",
       "  </thead>\n",
       "  <tbody>\n",
       "    <tr>\n",
       "      <th>DE600</th>\n",
       "      <td>DE</td>\n",
       "      <td>Hamburg</td>\n",
       "      <td>3</td>\n",
       "      <td>DE600</td>\n",
       "      <td>1841179</td>\n",
       "      <td>755.09</td>\n",
       "      <td>1.0</td>\n",
       "      <td>2000</td>\n",
       "      <td>MULTIPOLYGON (((9.94538 53.65293, 9.95059 53.6...</td>\n",
       "      <td>824411</td>\n",
       "      <td>0.447763</td>\n",
       "      <td>2438.357017</td>\n",
       "      <td>6</td>\n",
       "    </tr>\n",
       "    <tr>\n",
       "      <th>DE711</th>\n",
       "      <td>DE</td>\n",
       "      <td>Darmstadt, Kreisfreie Stadt</td>\n",
       "      <td>3</td>\n",
       "      <td>DE711</td>\n",
       "      <td>159207</td>\n",
       "      <td>122.07</td>\n",
       "      <td>1.0</td>\n",
       "      <td>6411</td>\n",
       "      <td>POLYGON ((8.72571 49.95421, 8.73453 49.94858, ...</td>\n",
       "      <td>76945</td>\n",
       "      <td>0.483302</td>\n",
       "      <td>1304.227083</td>\n",
       "      <td>5</td>\n",
       "    </tr>\n",
       "  </tbody>\n",
       "</table>\n",
       "</div>"
      ],
      "text/plain": [
       "      CNTR_CODE                    NUTS_NAME  LEVL_CODE NUTS_ID  population  \\\n",
       "index                                                                         \n",
       "DE600        DE                      Hamburg          3   DE600     1841179   \n",
       "DE711        DE  Darmstadt, Kreisfreie Stadt          3   DE711      159207   \n",
       "\n",
       "         area  urbanisation lau_id  \\\n",
       "index                                \n",
       "DE600  755.09           1.0   2000   \n",
       "DE711  122.07           1.0   6411   \n",
       "\n",
       "                                                geometry  car_ownership  \\\n",
       "index                                                                     \n",
       "DE600  MULTIPOLYGON (((9.94538 53.65293, 9.95059 53.6...         824411   \n",
       "DE711  POLYGON ((8.72571 49.95421, 8.73453 49.94858, ...          76945   \n",
       "\n",
       "       car_density  pop_density pop_density_cat  \n",
       "index                                            \n",
       "DE600     0.447763  2438.357017               6  \n",
       "DE711     0.483302  1304.227083               5  "
      ]
     },
     "execution_count": 56,
     "metadata": {},
     "output_type": "execute_result"
    }
   ],
   "source": [
    "# Load the table\n",
    "cars = pd.read_excel('../input_static/spatial_car_ownership_2017_GENESIS.xlsx')\n",
    "cars['sum_MIT'] = cars['Krafträder'] + cars['Pkw']\n",
    "cars['lau_id'] = cars['lau_id'].astype(str)\n",
    "cars['sum_MIT'] = cars['sum_MIT'].replace({'--': 0}).astype(int)\n",
    "cars.set_index('lau_id', drop=True, inplace=True)\n",
    "lau_car_dict = cars['sum_MIT'].to_dict()\n",
    "sm.zones['car_ownership'] = sm.zones['lau_id'].map(lau_car_dict)\n",
    "sm.zones.head(2)"
   ]
  },
  {
   "cell_type": "code",
   "execution_count": 57,
   "metadata": {},
   "outputs": [
    {
     "name": "stdout",
     "output_type": "stream",
     "text": [
      "0\n"
     ]
    },
    {
     "data": {
      "text/html": [
       "<div>\n",
       "<style scoped>\n",
       "    .dataframe tbody tr th:only-of-type {\n",
       "        vertical-align: middle;\n",
       "    }\n",
       "\n",
       "    .dataframe tbody tr th {\n",
       "        vertical-align: top;\n",
       "    }\n",
       "\n",
       "    .dataframe thead th {\n",
       "        text-align: right;\n",
       "    }\n",
       "</style>\n",
       "<table border=\"1\" class=\"dataframe\">\n",
       "  <thead>\n",
       "    <tr style=\"text-align: right;\">\n",
       "      <th></th>\n",
       "      <th>CNTR_CODE</th>\n",
       "      <th>NUTS_NAME</th>\n",
       "      <th>LEVL_CODE</th>\n",
       "      <th>NUTS_ID</th>\n",
       "      <th>population</th>\n",
       "      <th>area</th>\n",
       "      <th>urbanisation</th>\n",
       "      <th>lau_id</th>\n",
       "      <th>geometry</th>\n",
       "      <th>car_ownership</th>\n",
       "      <th>car_density</th>\n",
       "      <th>pop_density</th>\n",
       "      <th>pop_density_cat</th>\n",
       "    </tr>\n",
       "    <tr>\n",
       "      <th>index</th>\n",
       "      <th></th>\n",
       "      <th></th>\n",
       "      <th></th>\n",
       "      <th></th>\n",
       "      <th></th>\n",
       "      <th></th>\n",
       "      <th></th>\n",
       "      <th></th>\n",
       "      <th></th>\n",
       "      <th></th>\n",
       "      <th></th>\n",
       "      <th></th>\n",
       "      <th></th>\n",
       "    </tr>\n",
       "  </thead>\n",
       "  <tbody>\n",
       "    <tr>\n",
       "      <th>DE91C</th>\n",
       "      <td>DE</td>\n",
       "      <td>Göttingen</td>\n",
       "      <td>3</td>\n",
       "      <td>DE91C</td>\n",
       "      <td>328074</td>\n",
       "      <td>1755.39</td>\n",
       "      <td>3.0</td>\n",
       "      <td>3159</td>\n",
       "      <td>POLYGON ((10.67728 51.63838, 10.67664 51.63294...</td>\n",
       "      <td>0</td>\n",
       "      <td>0.637281</td>\n",
       "      <td>186.895220</td>\n",
       "      <td>2</td>\n",
       "    </tr>\n",
       "    <tr>\n",
       "      <th>DEB25</th>\n",
       "      <td>DE</td>\n",
       "      <td>Trier-Saarburg</td>\n",
       "      <td>3</td>\n",
       "      <td>DEB25</td>\n",
       "      <td>148945</td>\n",
       "      <td>1102.22</td>\n",
       "      <td>3.0</td>\n",
       "      <td>7235</td>\n",
       "      <td>POLYGON ((6.71195 49.90481, 6.72201 49.89223, ...</td>\n",
       "      <td>0</td>\n",
       "      <td>0.637281</td>\n",
       "      <td>135.131825</td>\n",
       "      <td>2</td>\n",
       "    </tr>\n",
       "  </tbody>\n",
       "</table>\n",
       "</div>"
      ],
      "text/plain": [
       "      CNTR_CODE       NUTS_NAME  LEVL_CODE NUTS_ID  population     area  \\\n",
       "index                                                                     \n",
       "DE91C        DE       Göttingen          3   DE91C      328074  1755.39   \n",
       "DEB25        DE  Trier-Saarburg          3   DEB25      148945  1102.22   \n",
       "\n",
       "       urbanisation lau_id                                           geometry  \\\n",
       "index                                                                           \n",
       "DE91C           3.0   3159  POLYGON ((10.67728 51.63838, 10.67664 51.63294...   \n",
       "DEB25           3.0   7235  POLYGON ((6.71195 49.90481, 6.72201 49.89223, ...   \n",
       "\n",
       "       car_ownership  car_density  pop_density pop_density_cat  \n",
       "index                                                           \n",
       "DE91C              0     0.637281   186.895220               2  \n",
       "DEB25              0     0.637281   135.131825               2  "
      ]
     },
     "execution_count": 57,
     "metadata": {},
     "output_type": "execute_result"
    }
   ],
   "source": [
    "# Empty rows\n",
    "print(len(sm.zones.loc[sm.zones['car_ownership'].isna()]))\n",
    "sm.zones.loc[sm.zones['car_ownership']<sm.zones['population']/3]"
   ]
  },
  {
   "cell_type": "code",
   "execution_count": 58,
   "metadata": {},
   "outputs": [],
   "source": [
    "# Car density\n",
    "sm.zones['car_density'] = sm.zones['car_ownership'] / sm.zones['population']"
   ]
  },
  {
   "cell_type": "code",
   "execution_count": 59,
   "metadata": {},
   "outputs": [],
   "source": [
    "# Replace empty rows with average density\n",
    "sm.zones.loc[sm.zones['car_ownership']==0, 'car_density'] = \\\n",
    "    sm.zones['car_density'].replace({0: np.nan}).mean(skipna=True)"
   ]
  },
  {
   "cell_type": "code",
   "execution_count": 60,
   "metadata": {},
   "outputs": [],
   "source": [
    "# Imputate into trips\n",
    "zone_dict = sm.zones['car_density'].to_dict()\n",
    "trips['car_density'] = trips['NUTS_ID'].map(zone_dict)"
   ]
  },
  {
   "cell_type": "markdown",
   "metadata": {},
   "source": [
    "#### Population density"
   ]
  },
  {
   "cell_type": "code",
   "execution_count": 63,
   "metadata": {},
   "outputs": [
    {
     "name": "stdout",
     "output_type": "stream",
     "text": [
      "(28252, 18)\n"
     ]
    }
   ],
   "source": [
    "# If not available for this trip, take average from model\n",
    "print(trips.loc[trips['pop_density']==95].shape)"
   ]
  },
  {
   "cell_type": "code",
   "execution_count": 61,
   "metadata": {},
   "outputs": [],
   "source": [
    "# Population density in the model\n",
    "sm.zones['pop_density'] = sm.zones['population'] / sm.zones['area']"
   ]
  },
  {
   "cell_type": "code",
   "execution_count": 62,
   "metadata": {},
   "outputs": [],
   "source": [
    "# Categorise like in MiD2017\n",
    "bins = [0,100,250,500,1000,2000,5000,10000,100000]\n",
    "cats = [1,2,3,4,5,6,7,8]\n",
    "sm.zones['pop_density_cat'] = pd.cut(sm.zones['pop_density'], bins=bins, labels=cats)\n",
    "zone_dict = sm.zones['pop_density_cat'].to_dict()"
   ]
  },
  {
   "cell_type": "code",
   "execution_count": 64,
   "metadata": {},
   "outputs": [],
   "source": [
    "trips.loc[trips['pop_density']==95, 'pop_density'] = \\\n",
    "    trips.loc[trips['pop_density']==95, 'NUTS_ID'].map(zone_dict)"
   ]
  },
  {
   "cell_type": "code",
   "execution_count": 69,
   "metadata": {},
   "outputs": [
    {
     "data": {
      "text/plain": [
       "<AxesSubplot:>"
      ]
     },
     "execution_count": 69,
     "metadata": {},
     "output_type": "execute_result"
    },
    {
     "data": {
      "image/png": "[encoded data removed]",
      "text/plain": [
       "<Figure size 432x288 with 1 Axes>"
      ]
     },
     "metadata": {
      "needs_background": "light"
     },
     "output_type": "display_data"
    }
   ],
   "source": [
    "trips['pop_density'].hist(bins=50)"
   ]
  },
  {
   "cell_type": "markdown",
   "metadata": {},
   "source": [
    "#### Accessibility\n",
    "Enrich trips with the accessibility metric"
   ]
  },
  {
   "cell_type": "code",
   "execution_count": 65,
   "metadata": {},
   "outputs": [],
   "source": [
    "def accessibility(dist_origin, dist_destination, weight=20):\n",
    "    '''calculate an accessibility metric based on distances\n",
    "    :param dist_origin: distance to the next mean of transport from origin in km\n",
    "    :param dist_destination: distance from the used mean of transport to destination in km\n",
    "    :param weight: (optional) inverse weight of distances\n",
    "    :return: accessibility factor on a range from 0 to 1'''\n",
    "    return max(0, 1 - dist_origin/weight - dist_destination/weight)"
   ]
  },
  {
   "cell_type": "code",
   "execution_count": 66,
   "metadata": {},
   "outputs": [],
   "source": [
    "# The maximum accessibility for foot, bicycle and car is 1\n",
    "trips['accessibility_walk'] = 1\n",
    "trips['accessibility_car'] = trips['car_avail'].replace({9:0})"
   ]
  },
  {
   "cell_type": "code",
   "execution_count": 67,
   "metadata": {},
   "outputs": [],
   "source": [
    "# Rail\n",
    "# People don't differentiate between long and short distance accessibility\n",
    "# if there is at least one railway station nearby\n",
    "trips['accessibility_rail'] = [accessibility(o, d) for o, d in zip(\n",
    "    trips['dist_train_origin'], trips['dist_train_destination'])]"
   ]
  },
  {
   "cell_type": "code",
   "execution_count": 68,
   "metadata": {},
   "outputs": [],
   "source": [
    "# Bus\n",
    "trips['accessibility_bus'] = [accessibility(o, d) for o, d in zip(\n",
    "    trips['dist_bus_origin'], trips['dist_bus_destination'])]"
   ]
  },
  {
   "cell_type": "code",
   "execution_count": 72,
   "metadata": {},
   "outputs": [
    {
     "data": {
      "text/html": [
       "<div>\n",
       "<style scoped>\n",
       "    .dataframe tbody tr th:only-of-type {\n",
       "        vertical-align: middle;\n",
       "    }\n",
       "\n",
       "    .dataframe tbody tr th {\n",
       "        vertical-align: top;\n",
       "    }\n",
       "\n",
       "    .dataframe thead th {\n",
       "        text-align: right;\n",
       "    }\n",
       "</style>\n",
       "<table border=\"1\" class=\"dataframe\">\n",
       "  <thead>\n",
       "    <tr style=\"text-align: right;\">\n",
       "      <th></th>\n",
       "      <th>accessibility_car</th>\n",
       "      <th>accessibility_rail</th>\n",
       "      <th>accessibility_bus</th>\n",
       "    </tr>\n",
       "    <tr>\n",
       "      <th>mode_model</th>\n",
       "      <th></th>\n",
       "      <th></th>\n",
       "      <th></th>\n",
       "    </tr>\n",
       "  </thead>\n",
       "  <tbody>\n",
       "    <tr>\n",
       "      <th>1</th>\n",
       "      <td>0.740058</td>\n",
       "      <td>0.788578</td>\n",
       "      <td>0.826907</td>\n",
       "    </tr>\n",
       "    <tr>\n",
       "      <th>2</th>\n",
       "      <td>0.732877</td>\n",
       "      <td>0.723288</td>\n",
       "      <td>0.797603</td>\n",
       "    </tr>\n",
       "    <tr>\n",
       "      <th>4</th>\n",
       "      <td>0.733129</td>\n",
       "      <td>0.729880</td>\n",
       "      <td>0.834264</td>\n",
       "    </tr>\n",
       "    <tr>\n",
       "      <th>6</th>\n",
       "      <td>0.989581</td>\n",
       "      <td>0.649860</td>\n",
       "      <td>0.775285</td>\n",
       "    </tr>\n",
       "  </tbody>\n",
       "</table>\n",
       "</div>"
      ],
      "text/plain": [
       "            accessibility_car  accessibility_rail  accessibility_bus\n",
       "mode_model                                                          \n",
       "1                    0.740058            0.788578           0.826907\n",
       "2                    0.732877            0.723288           0.797603\n",
       "4                    0.733129            0.729880           0.834264\n",
       "6                    0.989581            0.649860           0.775285"
      ]
     },
     "execution_count": 72,
     "metadata": {},
     "output_type": "execute_result"
    }
   ],
   "source": [
    "# Summary\n",
    "trips.groupby('mode_model').agg(\n",
    "    {'accessibility_car': 'mean', 'accessibility_rail': 'mean',\n",
    "     'accessibility_bus': 'mean'})"
   ]
  },
  {
   "cell_type": "markdown",
   "metadata": {},
   "source": [
    "#### GDP"
   ]
  },
  {
   "cell_type": "code",
   "execution_count": null,
   "metadata": {},
   "outputs": [],
   "source": [
    "# Take cell-specific GDP data from eurostat\n",
    "# https://ec.europa.eu/eurostat/de/web/rural-development/data"
   ]
  },
  {
   "cell_type": "markdown",
   "metadata": {},
   "source": [
    "### Save dataset"
   ]
  },
  {
   "cell_type": "code",
   "execution_count": 71,
   "metadata": {},
   "outputs": [],
   "source": [
    "trips.to_csv(input_path + 'transport_demand/calibration_intra-cellular_trips_MiD2017.csv')"
   ]
  }
 ],
 "metadata": {
  "kernelspec": {
   "display_name": "Python 3",
   "language": "python",
   "name": "python3"
  },
  "language_info": {
   "codemirror_mode": {
    "name": "ipython",
    "version": 3
   },
   "file_extension": ".py",
   "mimetype": "text/x-python",
   "name": "python",
   "nbconvert_exporter": "python",
   "pygments_lexer": "ipython3",
   "version": "3.8.1"
  }
 },
 "nbformat": 4,
 "nbformat_minor": 4
}
