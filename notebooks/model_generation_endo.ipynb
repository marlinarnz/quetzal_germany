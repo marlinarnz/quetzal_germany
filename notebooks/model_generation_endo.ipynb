{
 "cells": [
  {
   "cell_type": "code",
   "execution_count": 1,
   "id": "aae6f93a",
   "metadata": {},
   "outputs": [
    {
     "name": "stderr",
     "output_type": "stream",
     "text": [
      "\n",
      "Bad key text.latex.preview in file C:\\Users\\marlin.arnz\\AppData\\Local\\Continuum\\miniconda3\\envs\\quetzal\\lib\\site-packages\\matplotlib\\mpl-data\\stylelib\\_classic_test.mplstyle, line 123 ('text.latex.preview : False')\n",
      "You probably need to get an updated matplotlibrc file from\n",
      "https://github.com/matplotlib/matplotlib/blob/v3.5.2/matplotlibrc.template\n",
      "or from the matplotlib source distribution\n",
      "\n",
      "Bad key mathtext.fallback_to_cm in file C:\\Users\\marlin.arnz\\AppData\\Local\\Continuum\\miniconda3\\envs\\quetzal\\lib\\site-packages\\matplotlib\\mpl-data\\stylelib\\_classic_test.mplstyle, line 155 ('mathtext.fallback_to_cm : True  # When True, use symbols from the Computer Modern')\n",
      "You probably need to get an updated matplotlibrc file from\n",
      "https://github.com/matplotlib/matplotlib/blob/v3.5.2/matplotlibrc.template\n",
      "or from the matplotlib source distribution\n",
      "\n",
      "Bad key savefig.jpeg_quality in file C:\\Users\\marlin.arnz\\AppData\\Local\\Continuum\\miniconda3\\envs\\quetzal\\lib\\site-packages\\matplotlib\\mpl-data\\stylelib\\_classic_test.mplstyle, line 418 ('savefig.jpeg_quality: 95       # when a jpeg is saved, the default quality parameter.')\n",
      "You probably need to get an updated matplotlibrc file from\n",
      "https://github.com/matplotlib/matplotlib/blob/v3.5.2/matplotlibrc.template\n",
      "or from the matplotlib source distribution\n",
      "\n",
      "Bad key keymap.all_axes in file C:\\Users\\marlin.arnz\\AppData\\Local\\Continuum\\miniconda3\\envs\\quetzal\\lib\\site-packages\\matplotlib\\mpl-data\\stylelib\\_classic_test.mplstyle, line 466 ('keymap.all_axes : a                 # enable all axes')\n",
      "You probably need to get an updated matplotlibrc file from\n",
      "https://github.com/matplotlib/matplotlib/blob/v3.5.2/matplotlibrc.template\n",
      "or from the matplotlib source distribution\n",
      "\n",
      "Bad key animation.avconv_path in file C:\\Users\\marlin.arnz\\AppData\\Local\\Continuum\\miniconda3\\envs\\quetzal\\lib\\site-packages\\matplotlib\\mpl-data\\stylelib\\_classic_test.mplstyle, line 477 ('animation.avconv_path: avconv     # Path to avconv binary. Without full path')\n",
      "You probably need to get an updated matplotlibrc file from\n",
      "https://github.com/matplotlib/matplotlib/blob/v3.5.2/matplotlibrc.template\n",
      "or from the matplotlib source distribution\n",
      "\n",
      "Bad key animation.avconv_args in file C:\\Users\\marlin.arnz\\AppData\\Local\\Continuum\\miniconda3\\envs\\quetzal\\lib\\site-packages\\matplotlib\\mpl-data\\stylelib\\_classic_test.mplstyle, line 479 ('animation.avconv_args:            # Additional arguments to pass to avconv')\n",
      "You probably need to get an updated matplotlibrc file from\n",
      "https://github.com/matplotlib/matplotlib/blob/v3.5.2/matplotlibrc.template\n",
      "or from the matplotlib source distribution\n"
     ]
    }
   ],
   "source": [
    "import sys # for automation and parallelisation\n",
    "manual, scenario = (True, 'base') if 'ipykernel' in sys.argv[0] else (False, sys.argv[1])"
   ]
  },
  {
   "cell_type": "code",
   "execution_count": 2,
   "id": "12b8bed7",
   "metadata": {},
   "outputs": [],
   "source": [
    "import os\n",
    "import pandas as pd\n",
    "import numpy as np\n",
    "from quetzal.model import stepmodel\n",
    "from quetzal.io import excel\n",
    "import biogeme.database as db\n",
    "import biogeme.biogeme as bio\n",
    "import biogeme.models as models\n",
    "import biogeme.messaging as message\n",
    "from biogeme import expressions as ex"
   ]
  },
  {
   "cell_type": "code",
   "execution_count": 26,
   "id": "524fd039",
   "metadata": {},
   "outputs": [],
   "source": [
    "model_path = '../model/' + scenario + '/'\n",
    "input_path = '../input/'\n",
    "input_static_path = '../input_static/'\n",
    "output_path = '../output/'"
   ]
  },
  {
   "cell_type": "code",
   "execution_count": 4,
   "id": "d1e2ff11",
   "metadata": {},
   "outputs": [],
   "source": [
    "# Load parameters for settings\n",
    "params = excel.read_var(file='../input/parameters.xls', scenario=scenario)"
   ]
  },
  {
   "cell_type": "markdown",
   "id": "4eac6c90",
   "metadata": {
    "tags": []
   },
   "source": [
    "# Generation step: Trips per person\n",
    "\n",
    "## Requires zones\n",
    "\n",
    "## Saves generation volumes"
   ]
  },
  {
   "cell_type": "code",
   "execution_count": 5,
   "id": "d42c007a",
   "metadata": {},
   "outputs": [],
   "source": [
    "# Choose purposes for which a logit model will be estimated\n",
    "purposes = ['shopping', 'errands', 'leisure', 'accompany']"
   ]
  },
  {
   "cell_type": "code",
   "execution_count": 6,
   "id": "19f4464b",
   "metadata": {},
   "outputs": [],
   "source": [
    "sm = stepmodel.read_json(model_path + 'de_zones')"
   ]
  },
  {
   "cell_type": "code",
   "execution_count": 7,
   "id": "0e59938e",
   "metadata": {},
   "outputs": [],
   "source": [
    "# Load inter-zonal composite cost from mode choice step\n",
    "cc = pd.read_csv(input_static_path + '/mode_choice_od_composite_cost.csv')\n",
    "cc.set_index(['origin', 'destination'], inplace=True)\n",
    "# Rename segments to integer values\n",
    "cc.columns = pd.MultiIndex.from_tuples(\n",
    "    [(seg.split('_')[0], {'no': 0, 'car': 1}[seg.split('_')[1]])\n",
    "     for seg in cc.columns],\n",
    "    names=['purpose_model', 'car_av'])\n",
    "# Reshape the table into a mergable format\n",
    "# Use the mean CC to all destinations as accessibility\n",
    "cc = cc.unstack('destination').stack('purpose_model').stack('car_av').mean(axis=1)\n",
    "cc = cc.unstack('purpose_model')"
   ]
  },
  {
   "cell_type": "code",
   "execution_count": 8,
   "id": "21199e03",
   "metadata": {},
   "outputs": [],
   "source": [
    "# Load estimation results\n",
    "try:\n",
    "    betas = pd.read_csv(input_path + 'generation_betas_{}.csv'.format(scenario), index_col=0)\n",
    "except FileNotFoundError:\n",
    "    betas = pd.read_csv(input_path + 'generation_betas.csv', index_col=0)"
   ]
  },
  {
   "cell_type": "code",
   "execution_count": 22,
   "id": "c4a5d484",
   "metadata": {},
   "outputs": [],
   "source": [
    "# Load base year values\n",
    "base_data = pd.read_csv(input_path + 'generation_base_data.csv', index_col=[0,1])"
   ]
  },
  {
   "cell_type": "code",
   "execution_count": 24,
   "id": "06db81b7",
   "metadata": {},
   "outputs": [],
   "source": [
    "# Define utility functions\n",
    "Vs = {}\n",
    "\n",
    "# Number of choices = max_trips-1 (because of 0 trips)\n",
    "max_trips = 6\n",
    "# create a database for biogeme functionality\n",
    "for p in purposes:\n",
    "    base_data['acc_'+p] = 0\n",
    "database = db.Database('base', base_data)\n",
    "globals().update(database.variables)\n",
    "# And parameters\n",
    "ASC = {0: ex.Beta('ASC_0', 0, None, None, 0)} # The only free one\n",
    "ASC.update({j: ex.Beta('ASC_'+str(j), 0, None, None, 1) for j in range(1, max_trips)})\n",
    "b_pop = {j: ex.Beta('b_pop_'+str(j), 0, None, None, 0) for j in range(max_trips)}\n",
    "b_size = {j: ex.Beta('b_size_'+str(j), 0, None, None, 0) for j in range(max_trips)}\n",
    "b_in = {j: ex.Beta('b_in_'+str(j), 0, None, None, 0) for j in range(max_trips)}\n",
    "b_work = {j: ex.Beta('b_work_'+str(j), 0, None, None, 0) for j in range(max_trips)}\n",
    "b_learn = {j: ex.Beta('b_learn_'+str(j), 0, None, None, 0) for j in range(max_trips)}\n",
    "b_care = {j: ex.Beta('b_care_'+str(j), 0, None, None, 0) for j in range(max_trips)}\n",
    "b_ticket = {j: ex.Beta('b_ticket_'+str(j), 0, None, None, 0) for j in range(max_trips)}\n",
    "b_acc = {j: ex.Beta('b_acc_'+str(j), 0, None, None, 0) for j in range(max_trips)}\n",
    "\n",
    "car_names = {0: '_no_car', 1: '_car'}\n",
    "for car in [0,1]:\n",
    "    Vs[car] = {}\n",
    "    \n",
    "    # Define the utility formulation by purpose\n",
    "    '''Vs[car]['commuting'] = {j:\n",
    "         ASC[j]\n",
    "         + ex.log(1+population)*b_pop[j]\n",
    "         #+ hh_size * b_size[j]\n",
    "         + hh_income * b_in[j]\n",
    "         + is_working * b_work[j]\n",
    "         + pt_ticket * b_ticket[j]\n",
    "         + acc_commuting * b_acc[j]\n",
    "         for j in range(max_trips)}\n",
    "    Vs[car]['business'] = {j:\n",
    "         ASC[j]\n",
    "         + ex.log(1+population)*b_pop[j]\n",
    "         + hh_size * b_size[j]\n",
    "         + hh_income * b_in[j]\n",
    "         + is_working * b_work[j]\n",
    "         + is_learning * b_learn[j]\n",
    "         + is_caring * b_care[j]\n",
    "         + pt_ticket * b_ticket[j]\n",
    "         + acc_business * b_acc[j]\n",
    "         for j in range(max_trips)}\n",
    "    Vs[car]['education'] = {j:\n",
    "         ASC[j]\n",
    "         + ex.log(1+population)*b_pop[j]\n",
    "         + hh_size * b_size[j]\n",
    "         + hh_income * b_in[j]\n",
    "         + is_learning * b_learn[j]\n",
    "         + pt_ticket * b_ticket[j]\n",
    "         + acc_education * b_acc[j]\n",
    "         for j in range(max_trips)}'''\n",
    "    Vs[car]['shopping'] = {j:\n",
    "         ASC[j]\n",
    "         + ex.log(1+population)*b_pop[j]\n",
    "         + hh_size * b_size[j]\n",
    "         + hh_income * b_in[j]\n",
    "         + is_working * b_work[j]\n",
    "         + is_caring * b_care[j]\n",
    "         #+ pt_ticket * b_ticket[j]\n",
    "         + acc_shopping * b_acc[j]\n",
    "         for j in range(max_trips)}\n",
    "    Vs[car]['errands'] = {j:\n",
    "         ASC[j]\n",
    "         + ex.log(1+population)*b_pop[j]\n",
    "         + hh_size * b_size[j]\n",
    "         + hh_income * b_in[j]\n",
    "         + is_caring * b_care[j]\n",
    "         #+ pt_ticket * b_ticket[j]\n",
    "         + acc_errands * b_acc[j]\n",
    "         for j in range(max_trips)}\n",
    "    Vs[car]['leisure'] = {j:\n",
    "         ASC[j]\n",
    "         + ex.log(1+population)*b_pop[j]\n",
    "         + hh_size * b_size[j]\n",
    "         + hh_income * b_in[j]\n",
    "         + is_working * b_work[j]\n",
    "         + is_learning * b_learn[j]\n",
    "         + is_caring * b_care[j]\n",
    "         #+ pt_ticket * b_ticket[j]\n",
    "         + acc_leisure * b_acc[j]\n",
    "         for j in range(max_trips)}\n",
    "    Vs[car]['accompany'] = {j:\n",
    "         ASC[j]\n",
    "         + ex.log(1+population)*b_pop[j]\n",
    "         + hh_size * b_size[j]\n",
    "         + hh_income * b_in[j]\n",
    "         + is_learning * b_learn[j]\n",
    "         + is_caring * b_care[j]\n",
    "         + pt_ticket * b_ticket[j]\n",
    "         + acc_accompany * b_acc[j]\n",
    "         for j in range(max_trips)}"
   ]
  },
  {
   "cell_type": "code",
   "execution_count": 27,
   "id": "58946217",
   "metadata": {},
   "outputs": [],
   "source": [
    "# Retrieve the household size change\n",
    "# based on data from the \"BBSR Raumordnungsprognose 2040\"\n",
    "hh_data = pd.read_excel(input_static_path + 'spatial_households_2040.xlsx',\n",
    "                        sheet_name='Bev_Typ_g_17-40', usecols=list(range(1,9)), skiprows=3)\n",
    "year = min(int(params['general']['year']), 2040)\n",
    "year_rounded = int(5 * round(year / 5))\n",
    "# Get average hh size for an urbanisation category\n",
    "def get_av_hh_size(group, y):\n",
    "    weighted_sum = 0\n",
    "    for size, weight in zip([1,2,3,4,5], [1,1,1,0.63,0.37]):\n",
    "        weighted_sum += group.set_index('HH-Größe').loc[size, y] * size * weight\n",
    "    hh_sum = group.set_index('HH-Größe').loc['alle', y]\n",
    "    return weighted_sum / hh_sum\n",
    "# Compute changes in hh size\n",
    "hh_size_change = (hh_data.groupby('Kennziffer').apply(get_av_hh_size, year_rounded)\n",
    "                  - hh_data.groupby('Kennziffer').apply(get_av_hh_size, 2017)) \\\n",
    "                 / hh_data.groupby('Kennziffer').apply(get_av_hh_size, 2017) + 1 \\\n",
    "                 if year != 2017 else {1:1, 2:1, 3:1}"
   ]
  },
  {
   "cell_type": "markdown",
   "id": "dedf6506",
   "metadata": {},
   "source": [
    "## Calculate generation volumes in model zones"
   ]
  },
  {
   "cell_type": "code",
   "execution_count": 28,
   "id": "4a9f040c",
   "metadata": {},
   "outputs": [
    {
     "data": {
      "text/plain": [
       "83.146029"
      ]
     },
     "execution_count": 28,
     "metadata": {},
     "output_type": "execute_result"
    }
   ],
   "source": [
    "sm.zones['population'].sum() / 1e6"
   ]
  },
  {
   "cell_type": "code",
   "execution_count": 29,
   "id": "5c28c013",
   "metadata": {},
   "outputs": [],
   "source": [
    "# Construct a database with one entry per zone\n",
    "# for simulation of trip generation probabilities\n",
    "sim_zones = [pd.DataFrame()]\n",
    "for u in [1,2,3]:\n",
    "    means = base_data.xs(u, level='urbanisation')\n",
    "    mask = sm.zones['urbanisation']==u\n",
    "    sim_zones.append(pd.DataFrame(index=sm.zones.loc[mask].index,\n",
    "                                  data={\n",
    "        'population': sm.zones.loc[mask, 'population'],\n",
    "        'hh_size': sm.zones.loc[mask, 'NUTS_ID'].str[:3].map(means['hh_size']) * hh_size_change[u],\n",
    "        'hh_income': sm.zones.loc[mask, 'NUTS_ID'].str[:3].map(means['hh_income']) * params['income_change'][u],\n",
    "        'is_working': sm.zones.loc[mask, 'NUTS_ID'].str[:3].map(means['is_working']) * params['employed_change'][u],\n",
    "        'is_learning': sm.zones.loc[mask, 'NUTS_ID'].str[:3].map(means['is_learning']),\n",
    "        'is_caring': sm.zones.loc[mask, 'NUTS_ID'].str[:3].map(means['is_caring']),\n",
    "        'pt_ticket': sm.zones.loc[mask, 'NUTS_ID'].str[:3].map(means['pt_ticket'])\n",
    "    }))\n",
    "sim_zones = pd.concat(sim_zones)"
   ]
  },
  {
   "cell_type": "code",
   "execution_count": 30,
   "id": "cf47b725",
   "metadata": {},
   "outputs": [
    {
     "name": "stdout",
     "output_type": "stream",
     "text": [
      "buy/execute_0: 0.33 trips p.p.\n",
      "buy/execute_1: 0.48 trips p.p.\n",
      "leisure_0: 0.41 trips p.p.\n",
      "leisure_1: 0.43 trips p.p.\n",
      "accompany_0: 0.08 trips p.p.\n",
      "accompany_1: 0.14 trips p.p.\n"
     ]
    }
   ],
   "source": [
    "# Simulate the probabilities and put them into the zones table\n",
    "for p in purposes:\n",
    "    for car in [0,1]:\n",
    "        # Add accessibility for this segment to database\n",
    "        sim_zones['acc_'+p] = sim_zones.merge(cc.xs(car, level='car_av'),\n",
    "                                              how='left', left_index=True, right_index=True\n",
    "                                             )[p]\n",
    "        zones_db = db.Database('zones', sim_zones.loc[~sim_zones.isna().any(axis=1)])\n",
    "        \n",
    "        # Simulate\n",
    "        simulate = {j: models.logit(Vs[car][p], None, j) for j in range(max_trips)}\n",
    "        model = bio.BIOGEME(zones_db, simulate, numberOfThreads=1)\n",
    "        model.generateHtml = False\n",
    "        model.generatePickle = False\n",
    "        model.saveIterations = False\n",
    "        probs = model.simulate(theBetaValues=betas[p+car_names[car]].to_dict())\n",
    "        \n",
    "        # Calculate generation volumes\n",
    "        trips_here = 1 * probs[1] + 2 * probs[2] + 3 * probs[3] + 4 * probs[4] + 5 * probs[5]\n",
    "        print('{}_{}: {} trips p.p.'.format(p,car,np.round(trips_here.mean(), 2)))\n",
    "        if car == 0:\n",
    "            sm.zones[p+car_names[car]] = \\\n",
    "                trips_here * sm.zones['population'] * (1 - sm.zones['car_avail_hh']) * 365\n",
    "        else:\n",
    "            sm.zones[p+car_names[car]] = \\\n",
    "                trips_here * sm.zones['population'] * sm.zones['car_avail_hh'] * 365"
   ]
  },
  {
   "cell_type": "code",
   "execution_count": 31,
   "id": "435b98dd",
   "metadata": {},
   "outputs": [
    {
     "name": "stdout",
     "output_type": "stream",
     "text": [
      "Sum of trips per day with model population (million): 85.10459989815276\n"
     ]
    }
   ],
   "source": [
    "columns = [p+car_names[c] for p in purposes for c in [0,1]]\n",
    "print(\"Sum of trips per day with model population (million): {}\".format(\n",
    "    sm.zones[columns].sum().sum() / 1e6 / 365))"
   ]
  },
  {
   "cell_type": "markdown",
   "id": "2dfee057",
   "metadata": {},
   "source": [
    "## Save results"
   ]
  },
  {
   "cell_type": "code",
   "execution_count": 32,
   "id": "5ec17c78",
   "metadata": {},
   "outputs": [
    {
     "name": "stderr",
     "output_type": "stream",
     "text": [
      "to_hdf(overwriting): 100%|█████████████████████████████████████████████████████████████| 33/33 [00:08<00:00,  3.80it/s]\n"
     ]
    }
   ],
   "source": [
    "sm.zones.loc[~sm.zones[columns].isna().any(axis=1), columns].to_csv(\n",
    "    model_path + 'generation_volumes.csv')"
   ]
  }
 ],
 "metadata": {
  "kernelspec": {
   "display_name": "Python 3 (ipykernel)",
   "language": "python",
   "name": "python3"
  },
  "language_info": {
   "codemirror_mode": {
    "name": "ipython",
    "version": 3
   },
   "file_extension": ".py",
   "mimetype": "text/x-python",
   "name": "python",
   "nbconvert_exporter": "python",
   "pygments_lexer": "ipython3",
   "version": "3.10.14"
  }
 },
 "nbformat": 4,
 "nbformat_minor": 5
}
