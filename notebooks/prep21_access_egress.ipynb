{
 "cells": [
  {
   "cell_type": "code",
   "execution_count": null,
   "metadata": {},
   "outputs": [],
   "source": [
    "import sys # for automation and parallelisation\n",
    "manual, scenario = (True, 'base') if 'ipykernel' in sys.argv[0] else (False, sys.argv[1])\n",
    "if manual:\n",
    "    %matplotlib inline"
   ]
  },
  {
   "cell_type": "code",
   "execution_count": 1,
   "metadata": {},
   "outputs": [
    {
     "name": "stderr",
     "output_type": "stream",
     "text": [
      "In C:\\Users\\marlin.arnz\\AppData\\Local\\Continuum\\miniconda3\\envs\\quetzal\\lib\\site-packages\\matplotlib\\mpl-data\\stylelib\\_classic_test.mplstyle: \n",
      "The text.latex.preview rcparam was deprecated in Matplotlib 3.3 and will be removed two minor releases later.\n",
      "In C:\\Users\\marlin.arnz\\AppData\\Local\\Continuum\\miniconda3\\envs\\quetzal\\lib\\site-packages\\matplotlib\\mpl-data\\stylelib\\_classic_test.mplstyle: \n",
      "The mathtext.fallback_to_cm rcparam was deprecated in Matplotlib 3.3 and will be removed two minor releases later.\n",
      "In C:\\Users\\marlin.arnz\\AppData\\Local\\Continuum\\miniconda3\\envs\\quetzal\\lib\\site-packages\\matplotlib\\mpl-data\\stylelib\\_classic_test.mplstyle: Support for setting the 'mathtext.fallback_to_cm' rcParam is deprecated since 3.3 and will be removed two minor releases later; use 'mathtext.fallback : 'cm' instead.\n",
      "In C:\\Users\\marlin.arnz\\AppData\\Local\\Continuum\\miniconda3\\envs\\quetzal\\lib\\site-packages\\matplotlib\\mpl-data\\stylelib\\_classic_test.mplstyle: \n",
      "The validate_bool_maybe_none function was deprecated in Matplotlib 3.3 and will be removed two minor releases later.\n",
      "In C:\\Users\\marlin.arnz\\AppData\\Local\\Continuum\\miniconda3\\envs\\quetzal\\lib\\site-packages\\matplotlib\\mpl-data\\stylelib\\_classic_test.mplstyle: \n",
      "The savefig.jpeg_quality rcparam was deprecated in Matplotlib 3.3 and will be removed two minor releases later.\n",
      "In C:\\Users\\marlin.arnz\\AppData\\Local\\Continuum\\miniconda3\\envs\\quetzal\\lib\\site-packages\\matplotlib\\mpl-data\\stylelib\\_classic_test.mplstyle: \n",
      "The keymap.all_axes rcparam was deprecated in Matplotlib 3.3 and will be removed two minor releases later.\n",
      "In C:\\Users\\marlin.arnz\\AppData\\Local\\Continuum\\miniconda3\\envs\\quetzal\\lib\\site-packages\\matplotlib\\mpl-data\\stylelib\\_classic_test.mplstyle: \n",
      "The animation.avconv_path rcparam was deprecated in Matplotlib 3.3 and will be removed two minor releases later.\n",
      "In C:\\Users\\marlin.arnz\\AppData\\Local\\Continuum\\miniconda3\\envs\\quetzal\\lib\\site-packages\\matplotlib\\mpl-data\\stylelib\\_classic_test.mplstyle: \n",
      "The animation.avconv_args rcparam was deprecated in Matplotlib 3.3 and will be removed two minor releases later.\n"
     ]
    }
   ],
   "source": [
    "import numpy as np\n",
    "import pandas as pd\n",
    "import geopandas as gpd\n",
    "from shapely import geometry\n",
    "from quetzal.model import stepmodel\n",
    "from quetzal.engine import engine, connectivity\n",
    "from quetzal.io import excel"
   ]
  },
  {
   "cell_type": "markdown",
   "metadata": {},
   "source": [
    "# Preparation of the transport network.\n",
    "## Saves access and egress links for each zone.\n",
    "## Needs all networks.\n"
   ]
  },
  {
   "cell_type": "code",
   "execution_count": 2,
   "metadata": {},
   "outputs": [],
   "source": [
    "input_path = '../input/'\n",
    "output_path = '../output/'\n",
    "model_path = '../model/'"
   ]
  },
  {
   "cell_type": "code",
   "execution_count": null,
   "metadata": {},
   "outputs": [],
   "source": [
    "# Load scenario parameters\n",
    "params = excel.read_var(file='../input/parameters.xls', scenario=scenario)"
   ]
  },
  {
   "cell_type": "code",
   "execution_count": 3,
   "metadata": {},
   "outputs": [],
   "source": [
    "sm = stepmodel.read_json(model_path + 'de_pt_network_agg')"
   ]
  },
  {
   "cell_type": "code",
   "execution_count": 4,
   "metadata": {
    "scrolled": true
   },
   "outputs": [],
   "source": [
    "road = stepmodel.read_json('../input_static/de_road_network')"
   ]
  },
  {
   "cell_type": "markdown",
   "metadata": {},
   "source": [
    "## Build access and egress links from zone centroids"
   ]
  },
  {
   "cell_type": "code",
   "execution_count": 6,
   "metadata": {},
   "outputs": [],
   "source": [
    "# Compute controids\n",
    "sm.preparation_ntlegs(\n",
    "    zone_to_transit=False,\n",
    "    zone_to_road=False)"
   ]
  },
  {
   "cell_type": "code",
   "execution_count": 7,
   "metadata": {},
   "outputs": [
    {
     "data": {
      "text/plain": [
       "1604"
      ]
     },
     "execution_count": 7,
     "metadata": {},
     "output_type": "execute_result"
    }
   ],
   "source": [
    "# Compute road access and egress links\n",
    "sm.zone_to_road = engine.ntlegs_from_centroids_and_nodes(\n",
    "    sm.centroids,\n",
    "    road.road_nodes,\n",
    "    short_leg_speed=params['pt_access']['speed_walk'],\n",
    "    long_leg_speed=params['pt_access']['speed_bicycle'],\n",
    "    threshold=params['pt_access']['catchment_radius_walk'],\n",
    "    n_neighbors=params['access-egress_links']['n_road'],\n",
    "    coordinates_unit=sm.coordinates_unit)\n",
    "sm.zone_to_road = sm.zone_to_road.loc[\n",
    "    sm.zone_to_road['distance']<=params['access-egress_links']['road_max_dist']]\n",
    "len(sm.zone_to_road.index)"
   ]
  },
  {
   "cell_type": "code",
   "execution_count": 8,
   "metadata": {},
   "outputs": [
    {
     "data": {
      "text/plain": [
       "3038"
      ]
     },
     "execution_count": 8,
     "metadata": {},
     "output_type": "execute_result"
    }
   ],
   "source": [
    "# Compute road - PT links\n",
    "sm.road_to_transit = engine.ntlegs_from_centroids_and_nodes(\n",
    "    sm.nodes,\n",
    "    road.road_nodes,\n",
    "    short_leg_speed=params['pt_access']['speed_walk'],\n",
    "    long_leg_speed=params['pt_access']['speed_bicycle'],\n",
    "    threshold=params['pt_access']['catchment_radius_walk'],\n",
    "    n_neighbors=params['access-egress_links']['n_road_pt'],\n",
    "    coordinates_unit=sm.coordinates_unit)\n",
    "sm.zone_to_road = sm.zone_to_road.loc[\n",
    "    sm.zone_to_road['distance']<=params['access-egress_links']['road_pt_max_dist']]\n",
    "len(sm.road_to_transit.index)"
   ]
  },
  {
   "cell_type": "code",
   "execution_count": 9,
   "metadata": {},
   "outputs": [
    {
     "data": {
      "text/plain": [
       "['rail_long',\n",
       " 'coach',\n",
       " 'air',\n",
       " 'bus',\n",
       " 'subway',\n",
       " 'ferry',\n",
       " 'funicular',\n",
       " 'rail_short']"
      ]
     },
     "execution_count": 9,
     "metadata": {},
     "output_type": "execute_result"
    }
   ],
   "source": [
    "# Build PT connectors by route type\n",
    "# Every route type is saved once in this attribute\n",
    "assert len(sm.pt_route_types) == len(sm.links['route_type'].unique())\n",
    "sm.pt_route_types"
   ]
  },
  {
   "cell_type": "code",
   "execution_count": 10,
   "metadata": {},
   "outputs": [
    {
     "data": {
      "text/plain": [
       "['rail_long', 'coach', 'air', 'bus', 'rail_short']"
      ]
     },
     "execution_count": 10,
     "metadata": {},
     "output_type": "execute_result"
    }
   ],
   "source": [
    "# Replace subway and tram with bus to prevent errors\n",
    "sm.pt_route_types = [t for t in sm.pt_route_types if t in sm.nodes['route_type'].unique()]\n",
    "sm.pt_route_types"
   ]
  },
  {
   "cell_type": "code",
   "execution_count": 11,
   "metadata": {},
   "outputs": [
    {
     "data": {
      "text/plain": [
       "10088"
      ]
     },
     "execution_count": 11,
     "metadata": {},
     "output_type": "execute_result"
    }
   ],
   "source": [
    "sm.zone_to_transit = sm.zone_to_transit.iloc[0:0]\n",
    "for t in sm.pt_route_types:\n",
    "    ntlegs = engine.ntlegs_from_centroids_and_nodes(\n",
    "        sm.centroids,\n",
    "        sm.nodes.loc[sm.nodes['route_type']==t],\n",
    "        short_leg_speed=params['pt_access']['speed_walk'],\n",
    "        long_leg_speed=params['pt_access']['speed_car'],\n",
    "        threshold=params['pt_access']['catchment_radius_walk'],\n",
    "        n_neighbors=params['access-egress_links']['n_pt'],\n",
    "        coordinates_unit=sm.coordinates_unit)\n",
    "    # Cut off long links\n",
    "    ntlegs = ntlegs.loc[ntlegs['distance']<=\n",
    "                        params['access-egress_links']['pt_max_dist']]\n",
    "    ntlegs['route_type'] = t\n",
    "    sm.zone_to_transit = sm.zone_to_transit.append(ntlegs)\n",
    "sm.zone_to_transit.reset_index(drop=True, inplace=True)\n",
    "len(sm.zone_to_transit)"
   ]
  },
  {
   "cell_type": "code",
   "execution_count": 12,
   "metadata": {},
   "outputs": [],
   "source": [
    "# Remove connectors to other zones, if this zone\n",
    "# has connection to the route type itself\n",
    "ac = sm.zone_to_transit.loc[sm.zone_to_transit['direction']=='access'].copy()\n",
    "eg = sm.zone_to_transit.loc[sm.zone_to_transit['direction']=='eggress'].copy()\n",
    "ac['node_FID'] = ac['b'].map(sm.nodes['FID'].to_dict())\n",
    "eg['node_FID'] = eg['a'].map(sm.nodes['FID'].to_dict())\n",
    "\n",
    "def filter_connectors(group, zone_col):\n",
    "    if len(group['node_FID'].unique()) > 1: # Connection to more than one zone\n",
    "        return group.loc[group['node_FID']==group[zone_col]]\n",
    "    else: # Only has this one (or zero) zone connection\n",
    "        return group\n",
    "ac = ac.groupby(['route_type', 'a']).apply(filter_connectors, zone_col='a').reset_index(drop=True)\n",
    "eg = eg.groupby(['route_type', 'b']).apply(filter_connectors, zone_col='b').reset_index(drop=True)\n",
    "\n",
    "sm.zone_to_transit = pd.concat([ac, eg]).reset_index(drop=True).drop('node_FID', axis=1)"
   ]
  },
  {
   "cell_type": "code",
   "execution_count": 13,
   "metadata": {},
   "outputs": [
    {
     "data": {
      "text/plain": [
       "5824"
      ]
     },
     "execution_count": 13,
     "metadata": {},
     "output_type": "execute_result"
    }
   ],
   "source": [
    "len(sm.zone_to_transit)"
   ]
  },
  {
   "cell_type": "markdown",
   "metadata": {},
   "source": [
    "## Generate footpaths table"
   ]
  },
  {
   "cell_type": "code",
   "execution_count": 14,
   "metadata": {},
   "outputs": [
    {
     "data": {
      "text/plain": [
       "(3077, 4)"
      ]
     },
     "execution_count": 14,
     "metadata": {},
     "output_type": "execute_result"
    }
   ],
   "source": [
    "sm.nodes.shape"
   ]
  },
  {
   "cell_type": "code",
   "execution_count": 16,
   "metadata": {},
   "outputs": [
    {
     "name": "stdout",
     "output_type": "stream",
     "text": [
      "Manual version\n"
     ]
    }
   ],
   "source": [
    "# Generate footpaths between modes manually\n",
    "'''sm.footpaths = sm.footpaths.iloc[0:0]\n",
    "for o in ['rail_short_distance', 'bus']:\n",
    "    for d in [t for t in sm.pt_route_types if t!='bus']:\n",
    "        if o != d:\n",
    "            ntlegs = engine.ntlegs_from_centroids_and_nodes(\n",
    "                sm.nodes.loc[sm.nodes['route_type']==o],\n",
    "                sm.nodes.loc[sm.nodes['route_type']==d],\n",
    "                short_leg_speed=params['pt_access']['speed_walk'],\n",
    "                long_leg_speed=params['pt_access']['speed_bicycle'],\n",
    "                threshold=params['pt_access']['catchment_radius_walk'],\n",
    "                n_neighbors=params['access-egress_links']['n_long-pt_short-pt'],\n",
    "                coordinates_unit=sm.coordinates_unit)\n",
    "            if d == 'air':\n",
    "                ntlegs = ntlegs.loc[ntlegs['distance']<=\n",
    "                                    params['access-egress_links']['walk_air_max_dist']]\n",
    "            else:\n",
    "                ntlegs = ntlegs.loc[ntlegs['distance']<=\n",
    "                                    params['access-egress_links']['walk_max_dist']]\n",
    "            sm.footpaths = sm.footpaths.append(ntlegs)'''\n",
    "# Uses the Voronoi algorithm (slow for more nodes than 1000)\n",
    "# but good results\n",
    "sm.preparation_footpaths(\n",
    "    speed=params['pt_access']['speed_walk'],\n",
    "    max_length=params['access-egress_links']['walk_max_dist'],\n",
    "    n_clusters=3000)"
   ]
  },
  {
   "cell_type": "code",
   "execution_count": 17,
   "metadata": {},
   "outputs": [
    {
     "data": {
      "text/plain": [
       "9706"
      ]
     },
     "execution_count": 17,
     "metadata": {},
     "output_type": "execute_result"
    }
   ],
   "source": [
    "len(sm.footpaths)"
   ]
  },
  {
   "cell_type": "code",
   "execution_count": 18,
   "metadata": {},
   "outputs": [
    {
     "data": {
      "text/plain": [
       "(5490, 6)"
      ]
     },
     "execution_count": 18,
     "metadata": {},
     "output_type": "execute_result"
    }
   ],
   "source": [
    "# Number of nodes that overlay each other\n",
    "sm.footpaths.loc[sm.footpaths['length']==0].shape"
   ]
  },
  {
   "cell_type": "code",
   "execution_count": 19,
   "metadata": {},
   "outputs": [
    {
     "data": {
      "text/plain": [
       "(438, 11)"
      ]
     },
     "execution_count": 19,
     "metadata": {},
     "output_type": "execute_result"
    }
   ],
   "source": [
    "# Generate footpaths between centroids\n",
    "ntlegs = engine.ntlegs_from_centroids_and_nodes(\n",
    "    sm.centroids,\n",
    "    sm.centroids,\n",
    "    short_leg_speed=params['pt_access']['speed_bicycle'],\n",
    "    long_leg_speed=params['pt_access']['speed_bicycle'],\n",
    "    threshold=threshold,\n",
    "    n_neighbors=2,\n",
    "    coordinates_unit=sm.coordinates_unit)\n",
    "ntlegs = ntlegs.loc[ntlegs['distance']<=\n",
    "                    params['access-egress_links']['bicycle_max_dist']]\n",
    "ntlegs = ntlegs.loc[ntlegs['distance']!=0]\n",
    "ntlegs.drop_duplicates(['direction', 'distance', 'time'], inplace=True)\n",
    "ntlegs.shape"
   ]
  },
  {
   "cell_type": "code",
   "execution_count": 20,
   "metadata": {},
   "outputs": [],
   "source": [
    "sm.footpaths = sm.footpaths.append(ntlegs.rename(\n",
    "    columns={'distance':'length', 'rank':'voronoi'})[sm.footpaths.columns])"
   ]
  },
  {
   "cell_type": "code",
   "execution_count": 21,
   "metadata": {},
   "outputs": [],
   "source": [
    "# Reindex\n",
    "sm.footpaths.reset_index(drop=True, inplace=True)\n",
    "sm.footpaths.index = 'foot_' + pd.Series(sm.footpaths.index).astype(str)"
   ]
  },
  {
   "cell_type": "code",
   "execution_count": 22,
   "metadata": {},
   "outputs": [
    {
     "data": {
      "text/html": [
       "<div>\n",
       "<style scoped>\n",
       "    .dataframe tbody tr th:only-of-type {\n",
       "        vertical-align: middle;\n",
       "    }\n",
       "\n",
       "    .dataframe tbody tr th {\n",
       "        vertical-align: top;\n",
       "    }\n",
       "\n",
       "    .dataframe thead th {\n",
       "        text-align: right;\n",
       "    }\n",
       "</style>\n",
       "<table border=\"1\" class=\"dataframe\">\n",
       "  <thead>\n",
       "    <tr style=\"text-align: right;\">\n",
       "      <th></th>\n",
       "      <th>a</th>\n",
       "      <th>b</th>\n",
       "      <th>geometry</th>\n",
       "      <th>length</th>\n",
       "      <th>voronoi</th>\n",
       "      <th>time</th>\n",
       "    </tr>\n",
       "  </thead>\n",
       "  <tbody>\n",
       "    <tr>\n",
       "      <th>foot_863</th>\n",
       "      <td>DEA51_r_s_3</td>\n",
       "      <td>DEA51_r_s_0</td>\n",
       "      <td>LINESTRING (7.214549333333333 51.4773956666666...</td>\n",
       "      <td>3131.657251</td>\n",
       "      <td>1</td>\n",
       "      <td>2818.491526</td>\n",
       "    </tr>\n",
       "    <tr>\n",
       "      <th>foot_9170</th>\n",
       "      <td>r_l_n_1409</td>\n",
       "      <td>r_l_n_283</td>\n",
       "      <td>LINESTRING (7.834734 48.340435, 7.834734 48.34...</td>\n",
       "      <td>0.000000</td>\n",
       "      <td>0</td>\n",
       "      <td>0.000000</td>\n",
       "    </tr>\n",
       "  </tbody>\n",
       "</table>\n",
       "</div>"
      ],
      "text/plain": [
       "                     a            b  \\\n",
       "foot_863   DEA51_r_s_3  DEA51_r_s_0   \n",
       "foot_9170   r_l_n_1409    r_l_n_283   \n",
       "\n",
       "                                                    geometry       length  \\\n",
       "foot_863   LINESTRING (7.214549333333333 51.4773956666666...  3131.657251   \n",
       "foot_9170  LINESTRING (7.834734 48.340435, 7.834734 48.34...     0.000000   \n",
       "\n",
       "           voronoi         time  \n",
       "foot_863         1  2818.491526  \n",
       "foot_9170        0     0.000000  "
      ]
     },
     "execution_count": 22,
     "metadata": {},
     "output_type": "execute_result"
    }
   ],
   "source": [
    "sm.footpaths.sample(2)"
   ]
  },
  {
   "cell_type": "markdown",
   "metadata": {},
   "source": [
    "## Parametrise access and egress links"
   ]
  },
  {
   "cell_type": "code",
   "execution_count": 23,
   "metadata": {},
   "outputs": [
    {
     "data": {
      "text/html": [
       "<div>\n",
       "<style scoped>\n",
       "    .dataframe tbody tr th:only-of-type {\n",
       "        vertical-align: middle;\n",
       "    }\n",
       "\n",
       "    .dataframe tbody tr th {\n",
       "        vertical-align: top;\n",
       "    }\n",
       "\n",
       "    .dataframe thead th {\n",
       "        text-align: right;\n",
       "    }\n",
       "</style>\n",
       "<table border=\"1\" class=\"dataframe\">\n",
       "  <thead>\n",
       "    <tr style=\"text-align: right;\">\n",
       "      <th></th>\n",
       "      <th>a</th>\n",
       "      <th>b</th>\n",
       "      <th>direction</th>\n",
       "      <th>distance</th>\n",
       "      <th>geometry</th>\n",
       "      <th>rank</th>\n",
       "      <th>speed_factor</th>\n",
       "      <th>short_leg_speed</th>\n",
       "      <th>long_leg_speed</th>\n",
       "      <th>speed</th>\n",
       "      <th>time</th>\n",
       "    </tr>\n",
       "  </thead>\n",
       "  <tbody>\n",
       "    <tr>\n",
       "      <th>4012</th>\n",
       "      <td>1570930026</td>\n",
       "      <td>coach_n_FLIXBUS:3878</td>\n",
       "      <td>eggress</td>\n",
       "      <td>0</td>\n",
       "      <td>LINESTRING (11.37381 50.65025, 11.3726999 50.6...</td>\n",
       "      <td>0</td>\n",
       "      <td>0.404993</td>\n",
       "      <td>4</td>\n",
       "      <td>17</td>\n",
       "      <td>4.0</td>\n",
       "      <td>300</td>\n",
       "    </tr>\n",
       "    <tr>\n",
       "      <th>1674</th>\n",
       "      <td>DE113_bus_4</td>\n",
       "      <td>1594370388</td>\n",
       "      <td>access</td>\n",
       "      <td>0</td>\n",
       "      <td>LINESTRING (9.19971285627879 48.66629005660401...</td>\n",
       "      <td>0</td>\n",
       "      <td>0.300046</td>\n",
       "      <td>4</td>\n",
       "      <td>17</td>\n",
       "      <td>4.0</td>\n",
       "      <td>300</td>\n",
       "    </tr>\n",
       "  </tbody>\n",
       "</table>\n",
       "</div>"
      ],
      "text/plain": [
       "                a                     b direction  distance  \\\n",
       "4012   1570930026  coach_n_FLIXBUS:3878   eggress         0   \n",
       "1674  DE113_bus_4            1594370388    access         0   \n",
       "\n",
       "                                               geometry  rank  speed_factor  \\\n",
       "4012  LINESTRING (11.37381 50.65025, 11.3726999 50.6...     0      0.404993   \n",
       "1674  LINESTRING (9.19971285627879 48.66629005660401...     0      0.300046   \n",
       "\n",
       "      short_leg_speed  long_leg_speed  speed  time  \n",
       "4012                4              17    4.0   300  \n",
       "1674                4              17    4.0   300  "
      ]
     },
     "execution_count": 23,
     "metadata": {},
     "output_type": "execute_result"
    }
   ],
   "source": [
    "# Road - PT connectors\n",
    "sm.road_to_transit['distance'] = 0\n",
    "sm.road_to_transit['time'] = params['access-egress_links']['time_road_pt']\n",
    "sm.road_to_transit.sample(n=2)"
   ]
  },
  {
   "cell_type": "code",
   "execution_count": 24,
   "metadata": {},
   "outputs": [
    {
     "data": {
      "text/html": [
       "<div>\n",
       "<style scoped>\n",
       "    .dataframe tbody tr th:only-of-type {\n",
       "        vertical-align: middle;\n",
       "    }\n",
       "\n",
       "    .dataframe tbody tr th {\n",
       "        vertical-align: top;\n",
       "    }\n",
       "\n",
       "    .dataframe thead th {\n",
       "        text-align: right;\n",
       "    }\n",
       "</style>\n",
       "<table border=\"1\" class=\"dataframe\">\n",
       "  <thead>\n",
       "    <tr style=\"text-align: right;\">\n",
       "      <th></th>\n",
       "      <th>a</th>\n",
       "      <th>b</th>\n",
       "      <th>direction</th>\n",
       "      <th>distance</th>\n",
       "      <th>geometry</th>\n",
       "      <th>rank</th>\n",
       "      <th>speed_factor</th>\n",
       "      <th>short_leg_speed</th>\n",
       "      <th>long_leg_speed</th>\n",
       "      <th>speed</th>\n",
       "      <th>time</th>\n",
       "    </tr>\n",
       "  </thead>\n",
       "  <tbody>\n",
       "    <tr>\n",
       "      <th>380</th>\n",
       "      <td>DEG0I</td>\n",
       "      <td>1772536291</td>\n",
       "      <td>access</td>\n",
       "      <td>0</td>\n",
       "      <td>LINESTRING (11.30910260539643 50.6377834664522...</td>\n",
       "      <td>0</td>\n",
       "      <td>2.350851</td>\n",
       "      <td>4</td>\n",
       "      <td>17</td>\n",
       "      <td>9.403403</td>\n",
       "      <td>0</td>\n",
       "    </tr>\n",
       "    <tr>\n",
       "      <th>196</th>\n",
       "      <td>DE918</td>\n",
       "      <td>253749595</td>\n",
       "      <td>access</td>\n",
       "      <td>0</td>\n",
       "      <td>LINESTRING (9.847955045776768 51.7426266240809...</td>\n",
       "      <td>0</td>\n",
       "      <td>3.074574</td>\n",
       "      <td>4</td>\n",
       "      <td>17</td>\n",
       "      <td>12.298294</td>\n",
       "      <td>0</td>\n",
       "    </tr>\n",
       "  </tbody>\n",
       "</table>\n",
       "</div>"
      ],
      "text/plain": [
       "         a           b direction  distance  \\\n",
       "380  DEG0I  1772536291    access         0   \n",
       "196  DE918   253749595    access         0   \n",
       "\n",
       "                                              geometry  rank  speed_factor  \\\n",
       "380  LINESTRING (11.30910260539643 50.6377834664522...     0      2.350851   \n",
       "196  LINESTRING (9.847955045776768 51.7426266240809...     0      3.074574   \n",
       "\n",
       "     short_leg_speed  long_leg_speed      speed  time  \n",
       "380                4              17   9.403403     0  \n",
       "196                4              17  12.298294     0  "
      ]
     },
     "execution_count": 24,
     "metadata": {},
     "output_type": "execute_result"
    }
   ],
   "source": [
    "# Road - centroid connectors\n",
    "sm.zone_to_road['distance'] = 0\n",
    "sm.zone_to_road['time'] = params['access-egress_links']['time_road']\n",
    "sm.zone_to_road.sample(n=2)"
   ]
  },
  {
   "cell_type": "code",
   "execution_count": 25,
   "metadata": {},
   "outputs": [],
   "source": [
    "# Zone to PT:\n",
    "# Load distances to PT stops from census data\n",
    "clusters = pd.read_csv(input_path + 'spatial_census_refined.csv')\n",
    "clusters.set_index('Unnamed: 0', inplace=True)\n",
    "dist_col = 'weighted_dist'\n",
    "mean_dist_col = 'mean_weighted_dist'\n",
    "cent_col = 'cluster_center'\n",
    "#pop_col = 'population'\n",
    "node_col = 'node_id'"
   ]
  },
  {
   "cell_type": "code",
   "execution_count": 26,
   "metadata": {},
   "outputs": [
    {
     "data": {
      "text/html": [
       "<div>\n",
       "<style scoped>\n",
       "    .dataframe tbody tr th:only-of-type {\n",
       "        vertical-align: middle;\n",
       "    }\n",
       "\n",
       "    .dataframe tbody tr th {\n",
       "        vertical-align: top;\n",
       "    }\n",
       "\n",
       "    .dataframe thead th {\n",
       "        text-align: right;\n",
       "    }\n",
       "</style>\n",
       "<table border=\"1\" class=\"dataframe\">\n",
       "  <thead>\n",
       "    <tr style=\"text-align: right;\">\n",
       "      <th></th>\n",
       "      <th></th>\n",
       "      <th>mean_weighted_dist</th>\n",
       "    </tr>\n",
       "    <tr>\n",
       "      <th>NUTS_ID</th>\n",
       "      <th>route_type</th>\n",
       "      <th></th>\n",
       "    </tr>\n",
       "  </thead>\n",
       "  <tbody>\n",
       "    <tr>\n",
       "      <th rowspan=\"4\" valign=\"top\">DE111</th>\n",
       "      <th>bus</th>\n",
       "      <td>2694.602782</td>\n",
       "    </tr>\n",
       "    <tr>\n",
       "      <th>coach</th>\n",
       "      <td>4942.656226</td>\n",
       "    </tr>\n",
       "    <tr>\n",
       "      <th>rail_long_distance</th>\n",
       "      <td>8481.451821</td>\n",
       "    </tr>\n",
       "    <tr>\n",
       "      <th>rail_short_distance</th>\n",
       "      <td>7411.629367</td>\n",
       "    </tr>\n",
       "    <tr>\n",
       "      <th>DE112</th>\n",
       "      <th>bus</th>\n",
       "      <td>5536.340993</td>\n",
       "    </tr>\n",
       "    <tr>\n",
       "      <th>...</th>\n",
       "      <th>...</th>\n",
       "      <td>...</td>\n",
       "    </tr>\n",
       "    <tr>\n",
       "      <th rowspan=\"3\" valign=\"top\">DEG0N</th>\n",
       "      <th>coach</th>\n",
       "      <td>1705.112486</td>\n",
       "    </tr>\n",
       "    <tr>\n",
       "      <th>rail_long_distance</th>\n",
       "      <td>5430.362740</td>\n",
       "    </tr>\n",
       "    <tr>\n",
       "      <th>rail_short_distance</th>\n",
       "      <td>5155.025292</td>\n",
       "    </tr>\n",
       "    <tr>\n",
       "      <th rowspan=\"2\" valign=\"top\">DEG0P</th>\n",
       "      <th>bus</th>\n",
       "      <td>6024.588180</td>\n",
       "    </tr>\n",
       "    <tr>\n",
       "      <th>rail_short_distance</th>\n",
       "      <td>26295.290877</td>\n",
       "    </tr>\n",
       "  </tbody>\n",
       "</table>\n",
       "<p>1232 rows × 1 columns</p>\n",
       "</div>"
      ],
      "text/plain": [
       "                             mean_weighted_dist\n",
       "NUTS_ID route_type                             \n",
       "DE111   bus                         2694.602782\n",
       "        coach                       4942.656226\n",
       "        rail_long_distance          8481.451821\n",
       "        rail_short_distance         7411.629367\n",
       "DE112   bus                         5536.340993\n",
       "...                                         ...\n",
       "DEG0N   coach                       1705.112486\n",
       "        rail_long_distance          5430.362740\n",
       "        rail_short_distance         5155.025292\n",
       "DEG0P   bus                         6024.588180\n",
       "        rail_short_distance        26295.290877\n",
       "\n",
       "[1232 rows x 1 columns]"
      ]
     },
     "execution_count": 26,
     "metadata": {},
     "output_type": "execute_result"
    }
   ],
   "source": [
    "# Create a zone - distance - type dict\n",
    "# Take the mean weighted distance, assume population shares are about equal\n",
    "zone_type_dist = clusters.groupby(['NUTS_ID', 'route_type']).agg(\n",
    "    {mean_dist_col: 'mean'})#.to_dict()[mean_dist_col]\n",
    "zone_type_dist"
   ]
  },
  {
   "cell_type": "code",
   "execution_count": 27,
   "metadata": {},
   "outputs": [],
   "source": [
    "# Split legs into access and egress\n",
    "access = sm.zone_to_transit.loc[sm.zone_to_transit['direction']=='access'].copy()\n",
    "egress = sm.zone_to_transit.loc[sm.zone_to_transit['direction']=='eggress'].copy()# name in quetzal"
   ]
  },
  {
   "cell_type": "code",
   "execution_count": 28,
   "metadata": {},
   "outputs": [],
   "source": [
    "# Alter the distance\n",
    "route_types = clusters['route_type'].unique()\n",
    "for t in route_types:\n",
    "    for zone in list(sm.zones['NUTS_ID']):\n",
    "        try:\n",
    "            access.loc[(access['route_type']==t) & (access['a']==zone),\n",
    "                       'distance'] = zone_type_dist.loc[(zone, t), mean_dist_col]\n",
    "        except KeyError:\n",
    "            # There is no such station in this zone\n",
    "            access.loc[(access['route_type']==t) & (access['a']==zone),\n",
    "                       'distance'] = np.nan\n",
    "for t in route_types:\n",
    "    for zone in list(sm.zones['NUTS_ID']):\n",
    "        try:\n",
    "            egress.loc[(egress['route_type']==t) & (egress['b']==zone),\n",
    "                       'distance'] = zone_type_dist.loc[(zone, t), mean_dist_col]\n",
    "        except KeyError:\n",
    "            # There is no such station in this zone\n",
    "            egress.loc[(egress['route_type']==t) & (egress['b']==zone),\n",
    "                       'distance'] = np.nan"
   ]
  },
  {
   "cell_type": "code",
   "execution_count": 29,
   "metadata": {},
   "outputs": [],
   "source": [
    "sm.zone_to_transit = access.append(egress)"
   ]
  },
  {
   "cell_type": "code",
   "execution_count": 30,
   "metadata": {},
   "outputs": [
    {
     "data": {
      "text/plain": [
       "244"
      ]
     },
     "execution_count": 30,
     "metadata": {},
     "output_type": "execute_result"
    }
   ],
   "source": [
    "# Connections to nodes in other zones\n",
    "len(sm.zone_to_transit.loc[sm.zone_to_transit['distance'].isna()])"
   ]
  },
  {
   "cell_type": "code",
   "execution_count": 31,
   "metadata": {},
   "outputs": [
    {
     "data": {
      "text/plain": [
       "<AxesSubplot:>"
      ]
     },
     "execution_count": 31,
     "metadata": {},
     "output_type": "execute_result"
    },
    {
     "data": {
      "image/png": "[encoded data removed]",
      "text/plain": [
       "<Figure size 432x288 with 1 Axes>"
      ]
     },
     "metadata": {
      "needs_background": "light"
     },
     "output_type": "display_data"
    }
   ],
   "source": [
    "sm.zone_to_transit['speed'].hist(bins=20)"
   ]
  },
  {
   "cell_type": "code",
   "execution_count": 32,
   "metadata": {},
   "outputs": [],
   "source": [
    "# Alter time of PT legs\n",
    "sm.zone_to_transit['time'] = sm.zone_to_transit['distance'] / \\\n",
    "    sm.zone_to_transit['speed'] * 3.6 # in s\n",
    "sm.zone_to_transit['time'].fillna(5*60, inplace=True)"
   ]
  },
  {
   "cell_type": "code",
   "execution_count": 33,
   "metadata": {},
   "outputs": [],
   "source": [
    "# Replace NaN\n",
    "#sm.zone_to_transit.loc[sm.zone_to_transit['distance'].isna(), 'distance'] = 0\n",
    "#sm.zone_to_transit.loc[sm.zone_to_transit['speed'].isna(), 'speed'] = 0\n",
    "# Drop them because they cause that people don't take short-distance PT,\n",
    "# but walk over to the next airport and walk to the neighboring centroid\n",
    "sm.zone_to_transit = sm.zone_to_transit.loc[sm.zone_to_transit['distance'].notna()]"
   ]
  },
  {
   "cell_type": "code",
   "execution_count": 34,
   "metadata": {},
   "outputs": [
    {
     "name": "stdout",
     "output_type": "stream",
     "text": [
      "5580\n"
     ]
    },
    {
     "data": {
      "text/html": [
       "<div>\n",
       "<style scoped>\n",
       "    .dataframe tbody tr th:only-of-type {\n",
       "        vertical-align: middle;\n",
       "    }\n",
       "\n",
       "    .dataframe tbody tr th {\n",
       "        vertical-align: top;\n",
       "    }\n",
       "\n",
       "    .dataframe thead th {\n",
       "        text-align: right;\n",
       "    }\n",
       "</style>\n",
       "<table border=\"1\" class=\"dataframe\">\n",
       "  <thead>\n",
       "    <tr style=\"text-align: right;\">\n",
       "      <th></th>\n",
       "      <th>a</th>\n",
       "      <th>b</th>\n",
       "      <th>direction</th>\n",
       "      <th>distance</th>\n",
       "      <th>geometry</th>\n",
       "      <th>long_leg_speed</th>\n",
       "      <th>rank</th>\n",
       "      <th>route_type</th>\n",
       "      <th>short_leg_speed</th>\n",
       "      <th>speed</th>\n",
       "      <th>speed_factor</th>\n",
       "      <th>time</th>\n",
       "    </tr>\n",
       "  </thead>\n",
       "  <tbody>\n",
       "    <tr>\n",
       "      <th>5243</th>\n",
       "      <td>DE251_r_s_2</td>\n",
       "      <td>DE251</td>\n",
       "      <td>eggress</td>\n",
       "      <td>1212.067964</td>\n",
       "      <td>LINESTRING (10.56391 49.29210, 10.57795 49.29801)</td>\n",
       "      <td>50.0</td>\n",
       "      <td>1.0</td>\n",
       "      <td>rail_short</td>\n",
       "      <td>4.0</td>\n",
       "      <td>6.227855</td>\n",
       "      <td>1.556964</td>\n",
       "      <td>700.63366</td>\n",
       "    </tr>\n",
       "  </tbody>\n",
       "</table>\n",
       "</div>"
      ],
      "text/plain": [
       "                a      b direction     distance  \\\n",
       "5243  DE251_r_s_2  DE251   eggress  1212.067964   \n",
       "\n",
       "                                               geometry  long_leg_speed  rank  \\\n",
       "5243  LINESTRING (10.56391 49.29210, 10.57795 49.29801)            50.0   1.0   \n",
       "\n",
       "      route_type  short_leg_speed     speed  speed_factor       time  \n",
       "5243  rail_short              4.0  6.227855      1.556964  700.63366  "
      ]
     },
     "execution_count": 34,
     "metadata": {},
     "output_type": "execute_result"
    }
   ],
   "source": [
    "print(len(sm.zone_to_transit))\n",
    "sm.zone_to_transit.sample()"
   ]
  },
  {
   "cell_type": "code",
   "execution_count": 35,
   "metadata": {},
   "outputs": [
    {
     "data": {
      "text/plain": [
       "<AxesSubplot:>"
      ]
     },
     "execution_count": 35,
     "metadata": {},
     "output_type": "execute_result"
    },
    {
     "data": {
      "image/png": "[encoded data removed]",
      "text/plain": [
       "<Figure size 432x288 with 1 Axes>"
      ]
     },
     "metadata": {
      "needs_background": "light"
     },
     "output_type": "display_data"
    }
   ],
   "source": [
    "(sm.zone_to_transit['time']/3600).hist(bins=100)"
   ]
  },
  {
   "cell_type": "code",
   "execution_count": 36,
   "metadata": {},
   "outputs": [
    {
     "data": {
      "text/plain": [
       "5526"
      ]
     },
     "execution_count": 36,
     "metadata": {},
     "output_type": "execute_result"
    }
   ],
   "source": [
    "# Ditch all legs which take too long\n",
    "sm.zone_to_transit = sm.zone_to_transit.loc[sm.zone_to_transit['time']<5400]\n",
    "len(sm.zone_to_transit)"
   ]
  },
  {
   "cell_type": "markdown",
   "metadata": {},
   "source": [
    "## Save model"
   ]
  },
  {
   "cell_type": "code",
   "execution_count": 37,
   "metadata": {},
   "outputs": [],
   "source": [
    "# Drop unneccessary columns\n",
    "cols = ['speed_factor', 'short_leg_speed', 'long_leg_speed', 'rank', 'voronoi', 'walk_time']\n",
    "sm.footpaths.drop(cols, axis=1, inplace=True, errors='ignore')\n",
    "sm.zone_to_transit.drop(cols, axis=1, inplace=True, errors='ignore')"
   ]
  },
  {
   "cell_type": "code",
   "execution_count": 38,
   "metadata": {},
   "outputs": [],
   "source": [
    "sm.zone_to_road.drop(cols, axis=1, inplace=True, errors='ignore')\n",
    "sm.road_to_transit.drop(cols, axis=1, inplace=True, errors='ignore')"
   ]
  },
  {
   "cell_type": "code",
   "execution_count": 39,
   "metadata": {},
   "outputs": [],
   "source": [
    "# Make tables lighter\n",
    "cols = ['distance', 'speed', 'time']\n",
    "sm.zone_to_transit[cols] = sm.zone_to_transit[cols].astype(int)\n",
    "sm.zone_to_road[cols] = sm.zone_to_road[cols].astype(int)\n",
    "sm.road_to_transit[cols] = sm.road_to_transit[cols].astype(int)\n",
    "try:\n",
    "    sm.footpaths[cols] = sm.footpaths[cols].astype(int)\n",
    "except KeyError:\n",
    "    cols = ['length', 'time']\n",
    "    sm.footpaths[cols] = sm.footpaths[cols].astype(int)"
   ]
  },
  {
   "cell_type": "code",
   "execution_count": 40,
   "metadata": {},
   "outputs": [
    {
     "data": {
      "text/html": [
       "<div>\n",
       "<style scoped>\n",
       "    .dataframe tbody tr th:only-of-type {\n",
       "        vertical-align: middle;\n",
       "    }\n",
       "\n",
       "    .dataframe tbody tr th {\n",
       "        vertical-align: top;\n",
       "    }\n",
       "\n",
       "    .dataframe thead th {\n",
       "        text-align: right;\n",
       "    }\n",
       "</style>\n",
       "<table border=\"1\" class=\"dataframe\">\n",
       "  <thead>\n",
       "    <tr style=\"text-align: right;\">\n",
       "      <th></th>\n",
       "      <th>a</th>\n",
       "      <th>b</th>\n",
       "      <th>geometry</th>\n",
       "      <th>length</th>\n",
       "      <th>time</th>\n",
       "    </tr>\n",
       "  </thead>\n",
       "  <tbody>\n",
       "    <tr>\n",
       "      <th>foot_865</th>\n",
       "      <td>r_l_n_1025</td>\n",
       "      <td>coach_n_FLIXBUS:50</td>\n",
       "      <td>LINESTRING (7.223275 51.478607, 7.22485 51.47931)</td>\n",
       "      <td>134</td>\n",
       "      <td>120</td>\n",
       "    </tr>\n",
       "  </tbody>\n",
       "</table>\n",
       "</div>"
      ],
      "text/plain": [
       "                   a                   b  \\\n",
       "foot_865  r_l_n_1025  coach_n_FLIXBUS:50   \n",
       "\n",
       "                                                   geometry  length  time  \n",
       "foot_865  LINESTRING (7.223275 51.478607, 7.22485 51.47931)     134   120  "
      ]
     },
     "execution_count": 40,
     "metadata": {},
     "output_type": "execute_result"
    }
   ],
   "source": [
    "sm.footpaths.sample()"
   ]
  },
  {
   "cell_type": "code",
   "execution_count": 41,
   "metadata": {},
   "outputs": [
    {
     "name": "stderr",
     "output_type": "stream",
     "text": [
      "to_hdf(overwriting): 100%|█████████████████████████████████████████████████████████████| 34/34 [00:02<00:00, 12.95it/s]\n"
     ]
    }
   ],
   "source": [
    "# Saving model...\n",
    "tables = ['centroids', 'footpaths', 'zone_to_transit']\n",
    "sm.to_json(model_path + 'de_pt_access_egress',\n",
    "           only_attributes=tables, encoding='utf-8')"
   ]
  },
  {
   "cell_type": "code",
   "execution_count": 42,
   "metadata": {
    "scrolled": true
   },
   "outputs": [
    {
     "name": "stderr",
     "output_type": "stream",
     "text": [
      "to_hdf(overwriting): 100%|█████████████████████████████████████████████████████████████| 34/34 [00:00<00:00, 35.08it/s]\n"
     ]
    }
   ],
   "source": [
    "sm.to_json(model_path + 'de_road_access_egress',\n",
    "           only_attributes=['centroids', 'zone_to_road', 'road_to_transit'],\n",
    "           encoding='utf-8')"
   ]
  }
 ],
 "metadata": {
  "kernelspec": {
   "display_name": "Python 3",
   "language": "python",
   "name": "python3"
  },
  "language_info": {
   "codemirror_mode": {
    "name": "ipython",
    "version": 3
   },
   "file_extension": ".py",
   "mimetype": "text/x-python",
   "name": "python",
   "nbconvert_exporter": "python",
   "pygments_lexer": "ipython3",
   "version": "3.8.1"
  }
 },
 "nbformat": 4,
 "nbformat_minor": 2
}
